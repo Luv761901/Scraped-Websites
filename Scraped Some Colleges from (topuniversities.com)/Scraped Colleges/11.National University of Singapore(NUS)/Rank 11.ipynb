{
 "cells": [
  {
   "cell_type": "code",
   "execution_count": 6,
   "id": "2ab1523c",
   "metadata": {},
   "outputs": [],
   "source": [
    "from selenium import webdriver\n",
    "from selenium.webdriver.chrome.service import Service\n",
    "import pandas as pd\n",
    "import json"
   ]
  },
  {
   "cell_type": "code",
   "execution_count": 7,
   "id": "01580b53",
   "metadata": {},
   "outputs": [],
   "source": [
    "path = Service('C:\\chromedriver.exe')\n"
   ]
  },
  {
   "cell_type": "code",
   "execution_count": 8,
   "id": "c38b03ed",
   "metadata": {},
   "outputs": [],
   "source": [
    "# set path for the driver\n",
    "browser = webdriver.Chrome(service = path)"
   ]
  },
  {
   "cell_type": "code",
   "execution_count": 5,
   "id": "81e72cca",
   "metadata": {},
   "outputs": [],
   "source": [
    "url = \"https://www.topuniversities.com/university-rankings/world-university-rankings/2023\""
   ]
  },
  {
   "cell_type": "code",
   "execution_count": 9,
   "id": "370cf658",
   "metadata": {},
   "outputs": [],
   "source": [
    "# open the page url ion chrome\n",
    "browser.get(url)"
   ]
  },
  {
   "cell_type": "code",
   "execution_count": 15,
   "id": "6425246c",
   "metadata": {},
   "outputs": [
    {
     "data": {
      "text/plain": [
       "[<selenium.webdriver.remote.webelement.WebElement (session=\"eef6c21c4b201114517eccbd207e036d\", element=\"a404b6e4-65ec-4b7f-beaa-c3f2b5eb3e82\")>,\n",
       " <selenium.webdriver.remote.webelement.WebElement (session=\"eef6c21c4b201114517eccbd207e036d\", element=\"b03fd95a-0c27-49ce-b411-47ad75b71452\")>,\n",
       " <selenium.webdriver.remote.webelement.WebElement (session=\"eef6c21c4b201114517eccbd207e036d\", element=\"ca752d11-5df5-42f7-877c-813e23221aff\")>,\n",
       " <selenium.webdriver.remote.webelement.WebElement (session=\"eef6c21c4b201114517eccbd207e036d\", element=\"ff11e96a-127b-4c98-b458-88657044da08\")>,\n",
       " <selenium.webdriver.remote.webelement.WebElement (session=\"eef6c21c4b201114517eccbd207e036d\", element=\"168a402a-8b7e-4411-b51a-5e5983ce474f\")>,\n",
       " <selenium.webdriver.remote.webelement.WebElement (session=\"eef6c21c4b201114517eccbd207e036d\", element=\"ec4b7e23-e938-4160-87c0-cf7463fb3251\")>,\n",
       " <selenium.webdriver.remote.webelement.WebElement (session=\"eef6c21c4b201114517eccbd207e036d\", element=\"48734413-2857-4efc-8060-202c8831483e\")>,\n",
       " <selenium.webdriver.remote.webelement.WebElement (session=\"eef6c21c4b201114517eccbd207e036d\", element=\"1d367c53-e61c-444b-acb4-4066639832ab\")>,\n",
       " <selenium.webdriver.remote.webelement.WebElement (session=\"eef6c21c4b201114517eccbd207e036d\", element=\"5ef2bfda-5d8e-4908-a093-9c181a880de3\")>]"
      ]
     },
     "execution_count": 15,
     "metadata": {},
     "output_type": "execute_result"
    }
   ],
   "source": [
    "# GET EACH COLLEGE SPECIFICATION HEADERS\n",
    "header=browser.find_elements(\"xpath\",\"//div[@class='_click-function_ind']\")\n",
    "header\n"
   ]
  },
  {
   "cell_type": "code",
   "execution_count": 16,
   "id": "cc95a2ad",
   "metadata": {},
   "outputs": [
    {
     "data": {
      "text/plain": [
       "['Overall Score',\n",
       " 'Academic Reputation',\n",
       " 'Employer Reputation',\n",
       " 'Citations per Faculty',\n",
       " 'Faculty Student Ratio',\n",
       " 'International Students Ratio',\n",
       " 'International Faculty Ratio',\n",
       " 'International Research Network\\nUnweighted',\n",
       " 'Employment Outcomes\\nUnweighted']"
      ]
     },
     "execution_count": 16,
     "metadata": {},
     "output_type": "execute_result"
    }
   ],
   "source": [
    "#PARSING DATA\n",
    "column_head=[]\n",
    "for data in header:\n",
    "    #get the text data\n",
    "    temp=data.text\n",
    "    column_head.append(temp)\n",
    "column_head"
   ]
  },
  {
   "cell_type": "code",
   "execution_count": 17,
   "id": "bdb556f3",
   "metadata": {},
   "outputs": [
    {
     "data": {
      "text/plain": [
       "[<selenium.webdriver.remote.webelement.WebElement (session=\"eef6c21c4b201114517eccbd207e036d\", element=\"9113b1e2-8143-4574-932f-71fcec8fd802\")>,\n",
       " <selenium.webdriver.remote.webelement.WebElement (session=\"eef6c21c4b201114517eccbd207e036d\", element=\"227a983d-1939-4564-a4a6-091934fd2cef\")>,\n",
       " <selenium.webdriver.remote.webelement.WebElement (session=\"eef6c21c4b201114517eccbd207e036d\", element=\"28026913-d046-4432-a787-039684155e52\")>,\n",
       " <selenium.webdriver.remote.webelement.WebElement (session=\"eef6c21c4b201114517eccbd207e036d\", element=\"339aea8b-2e51-4294-9310-ab245c6f3d7a\")>,\n",
       " <selenium.webdriver.remote.webelement.WebElement (session=\"eef6c21c4b201114517eccbd207e036d\", element=\"a8311537-67d0-4b73-9a89-cd1c85ee833e\")>,\n",
       " <selenium.webdriver.remote.webelement.WebElement (session=\"eef6c21c4b201114517eccbd207e036d\", element=\"f19f71da-a6b1-4948-82a7-522b74901c6a\")>,\n",
       " <selenium.webdriver.remote.webelement.WebElement (session=\"eef6c21c4b201114517eccbd207e036d\", element=\"aef040ca-fdff-4604-91a0-4996c7a31da3\")>,\n",
       " <selenium.webdriver.remote.webelement.WebElement (session=\"eef6c21c4b201114517eccbd207e036d\", element=\"c31d2d11-c61c-4bb7-94c4-5dc7eb6c7751\")>,\n",
       " <selenium.webdriver.remote.webelement.WebElement (session=\"eef6c21c4b201114517eccbd207e036d\", element=\"f38d6565-4a93-405f-b1b0-6ba28508878b\")>,\n",
       " <selenium.webdriver.remote.webelement.WebElement (session=\"eef6c21c4b201114517eccbd207e036d\", element=\"a9fbb6ef-a812-41b5-aff9-c4f1d3e3bae4\")>,\n",
       " <selenium.webdriver.remote.webelement.WebElement (session=\"eef6c21c4b201114517eccbd207e036d\", element=\"259579bf-01ae-4238-81aa-2c7823910fa9\")>,\n",
       " <selenium.webdriver.remote.webelement.WebElement (session=\"eef6c21c4b201114517eccbd207e036d\", element=\"56a2feb8-223e-4a58-9df7-208f0b119e5e\")>,\n",
       " <selenium.webdriver.remote.webelement.WebElement (session=\"eef6c21c4b201114517eccbd207e036d\", element=\"91a15f41-e951-49c4-a380-afdb86c39d8a\")>,\n",
       " <selenium.webdriver.remote.webelement.WebElement (session=\"eef6c21c4b201114517eccbd207e036d\", element=\"dae465ad-409f-4dcc-ae3c-9023000dd4a7\")>,\n",
       " <selenium.webdriver.remote.webelement.WebElement (session=\"eef6c21c4b201114517eccbd207e036d\", element=\"018770c6-2a01-4722-9939-7de74fdb172e\")>,\n",
       " <selenium.webdriver.remote.webelement.WebElement (session=\"eef6c21c4b201114517eccbd207e036d\", element=\"8fb78aa7-bd63-49e7-965d-f183257b33d1\")>,\n",
       " <selenium.webdriver.remote.webelement.WebElement (session=\"eef6c21c4b201114517eccbd207e036d\", element=\"d1fac0b3-307e-446d-a241-7cbe42b9d162\")>,\n",
       " <selenium.webdriver.remote.webelement.WebElement (session=\"eef6c21c4b201114517eccbd207e036d\", element=\"717d6aed-405b-417d-8f31-50c1cf5dbd2b\")>,\n",
       " <selenium.webdriver.remote.webelement.WebElement (session=\"eef6c21c4b201114517eccbd207e036d\", element=\"0469b903-7747-4bc0-af2e-1674f31b65a2\")>,\n",
       " <selenium.webdriver.remote.webelement.WebElement (session=\"eef6c21c4b201114517eccbd207e036d\", element=\"4ff53972-5452-406a-ad12-925be3dc94e3\")>,\n",
       " <selenium.webdriver.remote.webelement.WebElement (session=\"eef6c21c4b201114517eccbd207e036d\", element=\"42a5e7be-02f6-45d5-b5ac-e2ace1dfe921\")>,\n",
       " <selenium.webdriver.remote.webelement.WebElement (session=\"eef6c21c4b201114517eccbd207e036d\", element=\"07104964-71ce-49d6-bba7-1aa878b0b1ba\")>,\n",
       " <selenium.webdriver.remote.webelement.WebElement (session=\"eef6c21c4b201114517eccbd207e036d\", element=\"1b60d8b6-3f76-48fe-bdee-950fd63696d7\")>,\n",
       " <selenium.webdriver.remote.webelement.WebElement (session=\"eef6c21c4b201114517eccbd207e036d\", element=\"3fe6d14d-788b-426f-a63a-723e7f351eff\")>,\n",
       " <selenium.webdriver.remote.webelement.WebElement (session=\"eef6c21c4b201114517eccbd207e036d\", element=\"e2f41e09-8300-4410-a679-7e0bf4e309f5\")>,\n",
       " <selenium.webdriver.remote.webelement.WebElement (session=\"eef6c21c4b201114517eccbd207e036d\", element=\"311a9e7a-7697-4dbf-9d3e-4b720154fde6\")>,\n",
       " <selenium.webdriver.remote.webelement.WebElement (session=\"eef6c21c4b201114517eccbd207e036d\", element=\"f54dfc05-98a4-4324-9051-9a1e25dcbc51\")>,\n",
       " <selenium.webdriver.remote.webelement.WebElement (session=\"eef6c21c4b201114517eccbd207e036d\", element=\"19d0049a-8cd1-4bb1-a1ae-8b240e891f45\")>,\n",
       " <selenium.webdriver.remote.webelement.WebElement (session=\"eef6c21c4b201114517eccbd207e036d\", element=\"b11461b1-bec2-4374-b2a1-c36ea5eaf138\")>,\n",
       " <selenium.webdriver.remote.webelement.WebElement (session=\"eef6c21c4b201114517eccbd207e036d\", element=\"126b7ac8-5154-48e0-89ca-77ac2c2c4ea9\")>,\n",
       " <selenium.webdriver.remote.webelement.WebElement (session=\"eef6c21c4b201114517eccbd207e036d\", element=\"3c7d3810-7fb7-493f-bfc3-63d4380473cf\")>,\n",
       " <selenium.webdriver.remote.webelement.WebElement (session=\"eef6c21c4b201114517eccbd207e036d\", element=\"5e12442b-bc56-431f-9af2-2d33a7d2bc95\")>,\n",
       " <selenium.webdriver.remote.webelement.WebElement (session=\"eef6c21c4b201114517eccbd207e036d\", element=\"3f84ae70-decd-437d-b18b-da4cc4427606\")>,\n",
       " <selenium.webdriver.remote.webelement.WebElement (session=\"eef6c21c4b201114517eccbd207e036d\", element=\"072c6d73-fa61-4363-899f-5ffa0e3d1dcf\")>,\n",
       " <selenium.webdriver.remote.webelement.WebElement (session=\"eef6c21c4b201114517eccbd207e036d\", element=\"6c8b4fa8-29bb-4f09-ac96-6c6ada3c379f\")>,\n",
       " <selenium.webdriver.remote.webelement.WebElement (session=\"eef6c21c4b201114517eccbd207e036d\", element=\"a118cb91-8395-4355-8268-fe04d1ccdbef\")>,\n",
       " <selenium.webdriver.remote.webelement.WebElement (session=\"eef6c21c4b201114517eccbd207e036d\", element=\"f8b79053-32fe-48c5-a0ab-877214fe06af\")>,\n",
       " <selenium.webdriver.remote.webelement.WebElement (session=\"eef6c21c4b201114517eccbd207e036d\", element=\"f852d121-6cf5-44bf-955c-ab9d742e5858\")>,\n",
       " <selenium.webdriver.remote.webelement.WebElement (session=\"eef6c21c4b201114517eccbd207e036d\", element=\"bbe21de0-d959-4844-ad3e-b758094d92f6\")>,\n",
       " <selenium.webdriver.remote.webelement.WebElement (session=\"eef6c21c4b201114517eccbd207e036d\", element=\"6dd684ac-9897-4707-9d21-9dda64d0fb99\")>,\n",
       " <selenium.webdriver.remote.webelement.WebElement (session=\"eef6c21c4b201114517eccbd207e036d\", element=\"941f42ce-0611-4e24-a2b0-fa2e12c459b5\")>,\n",
       " <selenium.webdriver.remote.webelement.WebElement (session=\"eef6c21c4b201114517eccbd207e036d\", element=\"d40dcf0d-acda-4dd6-ba02-1c791be90043\")>,\n",
       " <selenium.webdriver.remote.webelement.WebElement (session=\"eef6c21c4b201114517eccbd207e036d\", element=\"c8f4d082-404f-4107-a2c8-cfdc08987e92\")>,\n",
       " <selenium.webdriver.remote.webelement.WebElement (session=\"eef6c21c4b201114517eccbd207e036d\", element=\"21c5cae5-7ee2-493b-891b-8ffaa698ea7c\")>,\n",
       " <selenium.webdriver.remote.webelement.WebElement (session=\"eef6c21c4b201114517eccbd207e036d\", element=\"f4d7f711-e1cf-47c4-b2d2-57f3b78981a1\")>,\n",
       " <selenium.webdriver.remote.webelement.WebElement (session=\"eef6c21c4b201114517eccbd207e036d\", element=\"087bc9be-90c2-43ff-9c15-d8734084aa2a\")>,\n",
       " <selenium.webdriver.remote.webelement.WebElement (session=\"eef6c21c4b201114517eccbd207e036d\", element=\"17091569-bfa9-4e5b-806c-1e84da63d8a3\")>,\n",
       " <selenium.webdriver.remote.webelement.WebElement (session=\"eef6c21c4b201114517eccbd207e036d\", element=\"cf261a1e-4a5f-4de2-bc6f-ec59e092670e\")>,\n",
       " <selenium.webdriver.remote.webelement.WebElement (session=\"eef6c21c4b201114517eccbd207e036d\", element=\"543cfff0-2cf4-4056-b789-1fde988a8853\")>,\n",
       " <selenium.webdriver.remote.webelement.WebElement (session=\"eef6c21c4b201114517eccbd207e036d\", element=\"15894264-9432-4abd-8991-a6270f7a6208\")>,\n",
       " <selenium.webdriver.remote.webelement.WebElement (session=\"eef6c21c4b201114517eccbd207e036d\", element=\"70a17ab3-7a27-4f4b-90ef-88fdf8160a09\")>,\n",
       " <selenium.webdriver.remote.webelement.WebElement (session=\"eef6c21c4b201114517eccbd207e036d\", element=\"8a285163-4aa9-41bb-8d53-7e932828e40e\")>,\n",
       " <selenium.webdriver.remote.webelement.WebElement (session=\"eef6c21c4b201114517eccbd207e036d\", element=\"cab9e127-dc51-4c81-add3-e69675c6cde4\")>,\n",
       " <selenium.webdriver.remote.webelement.WebElement (session=\"eef6c21c4b201114517eccbd207e036d\", element=\"71d65ba4-0cc7-4e4a-8a7e-e5b19a091a0c\")>,\n",
       " <selenium.webdriver.remote.webelement.WebElement (session=\"eef6c21c4b201114517eccbd207e036d\", element=\"5e4f5f37-ff17-47fa-a071-7720e17aaaeb\")>,\n",
       " <selenium.webdriver.remote.webelement.WebElement (session=\"eef6c21c4b201114517eccbd207e036d\", element=\"962c4954-b8e3-449d-a447-d343764df684\")>,\n",
       " <selenium.webdriver.remote.webelement.WebElement (session=\"eef6c21c4b201114517eccbd207e036d\", element=\"89963944-d3fc-4e25-bc57-402e9a2316a9\")>,\n",
       " <selenium.webdriver.remote.webelement.WebElement (session=\"eef6c21c4b201114517eccbd207e036d\", element=\"2beee999-5597-4f5f-a7c7-87fd870b0a45\")>,\n",
       " <selenium.webdriver.remote.webelement.WebElement (session=\"eef6c21c4b201114517eccbd207e036d\", element=\"272dfc72-4efe-459a-a108-b19ee486e37a\")>,\n",
       " <selenium.webdriver.remote.webelement.WebElement (session=\"eef6c21c4b201114517eccbd207e036d\", element=\"688309fd-939e-4584-95e6-4e15f018eb4a\")>,\n",
       " <selenium.webdriver.remote.webelement.WebElement (session=\"eef6c21c4b201114517eccbd207e036d\", element=\"47d8fdc9-47a2-4af2-a7f3-6168a5480bbd\")>,\n",
       " <selenium.webdriver.remote.webelement.WebElement (session=\"eef6c21c4b201114517eccbd207e036d\", element=\"a3655815-56b8-43e3-a289-e14e8a98fce1\")>,\n",
       " <selenium.webdriver.remote.webelement.WebElement (session=\"eef6c21c4b201114517eccbd207e036d\", element=\"6b00da7a-2701-476b-a075-46bf9f25411a\")>,\n",
       " <selenium.webdriver.remote.webelement.WebElement (session=\"eef6c21c4b201114517eccbd207e036d\", element=\"8a1fb363-dfc1-4a70-9292-fbe0ff93336c\")>,\n",
       " <selenium.webdriver.remote.webelement.WebElement (session=\"eef6c21c4b201114517eccbd207e036d\", element=\"38a963ff-c497-4140-a47f-d4fd8b0b6f6b\")>,\n",
       " <selenium.webdriver.remote.webelement.WebElement (session=\"eef6c21c4b201114517eccbd207e036d\", element=\"6389ec91-9a68-4b5e-a4b5-18e8aaa5ae8a\")>,\n",
       " <selenium.webdriver.remote.webelement.WebElement (session=\"eef6c21c4b201114517eccbd207e036d\", element=\"25cde36e-84fe-4c46-8b07-3adaa0adf81d\")>,\n",
       " <selenium.webdriver.remote.webelement.WebElement (session=\"eef6c21c4b201114517eccbd207e036d\", element=\"11cd9b0e-b899-4b24-83f5-bfed2011c1a4\")>,\n",
       " <selenium.webdriver.remote.webelement.WebElement (session=\"eef6c21c4b201114517eccbd207e036d\", element=\"eba96066-1dc7-4167-8d20-0d8f18d98133\")>,\n",
       " <selenium.webdriver.remote.webelement.WebElement (session=\"eef6c21c4b201114517eccbd207e036d\", element=\"595a68c1-b554-4c2d-a69e-5a308c79c812\")>,\n",
       " <selenium.webdriver.remote.webelement.WebElement (session=\"eef6c21c4b201114517eccbd207e036d\", element=\"2c1dabe6-9821-4d62-b42c-d9ecd58eabe2\")>,\n",
       " <selenium.webdriver.remote.webelement.WebElement (session=\"eef6c21c4b201114517eccbd207e036d\", element=\"13b9f3d1-fb17-42a3-a620-abf598ed4053\")>,\n",
       " <selenium.webdriver.remote.webelement.WebElement (session=\"eef6c21c4b201114517eccbd207e036d\", element=\"1e228a85-4d35-4827-9c19-215da0d35dd1\")>,\n",
       " <selenium.webdriver.remote.webelement.WebElement (session=\"eef6c21c4b201114517eccbd207e036d\", element=\"5decf1f8-37ef-408f-9cfc-75ec78a301b2\")>,\n",
       " <selenium.webdriver.remote.webelement.WebElement (session=\"eef6c21c4b201114517eccbd207e036d\", element=\"76dfe12b-6db7-420e-ad3f-dd647cb78796\")>,\n",
       " <selenium.webdriver.remote.webelement.WebElement (session=\"eef6c21c4b201114517eccbd207e036d\", element=\"ac338c97-1fd1-455f-9bf5-313f60b419a5\")>,\n",
       " <selenium.webdriver.remote.webelement.WebElement (session=\"eef6c21c4b201114517eccbd207e036d\", element=\"2ae95e71-1375-4a6f-82f3-721e986e2095\")>,\n",
       " <selenium.webdriver.remote.webelement.WebElement (session=\"eef6c21c4b201114517eccbd207e036d\", element=\"b0260ac6-6432-405c-86c2-03300fd3a483\")>,\n",
       " <selenium.webdriver.remote.webelement.WebElement (session=\"eef6c21c4b201114517eccbd207e036d\", element=\"ec0b81f3-f091-4c8d-9df2-ff062bc74930\")>,\n",
       " <selenium.webdriver.remote.webelement.WebElement (session=\"eef6c21c4b201114517eccbd207e036d\", element=\"72a3ba62-bb91-4344-8ae6-e910155cba04\")>,\n",
       " <selenium.webdriver.remote.webelement.WebElement (session=\"eef6c21c4b201114517eccbd207e036d\", element=\"a58548e8-33ca-4fb0-a285-c16a737367b0\")>,\n",
       " <selenium.webdriver.remote.webelement.WebElement (session=\"eef6c21c4b201114517eccbd207e036d\", element=\"38ef7d98-5744-4568-8a5e-7da8fe246c8d\")>,\n",
       " <selenium.webdriver.remote.webelement.WebElement (session=\"eef6c21c4b201114517eccbd207e036d\", element=\"86bc1cde-cdf0-43f3-bc76-3351d7c23925\")>,\n",
       " <selenium.webdriver.remote.webelement.WebElement (session=\"eef6c21c4b201114517eccbd207e036d\", element=\"08a78c88-3a28-4085-81b1-9918e4335399\")>,\n",
       " <selenium.webdriver.remote.webelement.WebElement (session=\"eef6c21c4b201114517eccbd207e036d\", element=\"20c6a5a6-0cbe-49f8-abfc-7adf8d52eed6\")>,\n",
       " <selenium.webdriver.remote.webelement.WebElement (session=\"eef6c21c4b201114517eccbd207e036d\", element=\"a2f3123e-0718-4ae3-ada7-936f5f7267e8\")>,\n",
       " <selenium.webdriver.remote.webelement.WebElement (session=\"eef6c21c4b201114517eccbd207e036d\", element=\"3370ef9c-1e50-4a00-b207-e20bc1c282ec\")>,\n",
       " <selenium.webdriver.remote.webelement.WebElement (session=\"eef6c21c4b201114517eccbd207e036d\", element=\"b2f7616d-7ee4-4258-b54b-49e96dc112f9\")>,\n",
       " <selenium.webdriver.remote.webelement.WebElement (session=\"eef6c21c4b201114517eccbd207e036d\", element=\"3ad60c5b-0b8c-482c-bc36-6cb67a491a09\")>,\n",
       " <selenium.webdriver.remote.webelement.WebElement (session=\"eef6c21c4b201114517eccbd207e036d\", element=\"39b693de-057a-4ba7-bb52-a7788c7b5871\")>,\n",
       " <selenium.webdriver.remote.webelement.WebElement (session=\"eef6c21c4b201114517eccbd207e036d\", element=\"cb885b48-6b56-4d56-9823-0cf83e9c0814\")>,\n",
       " <selenium.webdriver.remote.webelement.WebElement (session=\"eef6c21c4b201114517eccbd207e036d\", element=\"e6e916a7-3916-4ce8-8ffe-f5ed68b641a6\")>,\n",
       " <selenium.webdriver.remote.webelement.WebElement (session=\"eef6c21c4b201114517eccbd207e036d\", element=\"10b3b2da-f6bc-41e6-8364-16edc19d5589\")>,\n",
       " <selenium.webdriver.remote.webelement.WebElement (session=\"eef6c21c4b201114517eccbd207e036d\", element=\"7e863376-99f9-4279-b576-05e2c1226e46\")>,\n",
       " <selenium.webdriver.remote.webelement.WebElement (session=\"eef6c21c4b201114517eccbd207e036d\", element=\"8e8552a8-96e2-41fa-8467-0a97b7392e63\")>,\n",
       " <selenium.webdriver.remote.webelement.WebElement (session=\"eef6c21c4b201114517eccbd207e036d\", element=\"e89b2dff-d784-4ce2-b644-21536e08ed8a\")>,\n",
       " <selenium.webdriver.remote.webelement.WebElement (session=\"eef6c21c4b201114517eccbd207e036d\", element=\"ec9b61ed-80ca-4d7a-ba71-ad4f3d3d018c\")>,\n",
       " <selenium.webdriver.remote.webelement.WebElement (session=\"eef6c21c4b201114517eccbd207e036d\", element=\"6baefb89-f539-4de2-b5c3-1a07bcdfa9e6\")>,\n",
       " <selenium.webdriver.remote.webelement.WebElement (session=\"eef6c21c4b201114517eccbd207e036d\", element=\"8d59db3c-a316-4f68-b9cb-b7f44187d21d\")>,\n",
       " <selenium.webdriver.remote.webelement.WebElement (session=\"eef6c21c4b201114517eccbd207e036d\", element=\"21add913-0eaa-40a4-a3af-856bd780ec79\")>]"
      ]
     },
     "execution_count": 17,
     "metadata": {},
     "output_type": "execute_result"
    }
   ],
   "source": [
    "header2=browser.find_elements(\"xpath\",\"//div[@class='td-wrap-in']\")\n",
    "header2"
   ]
  },
  {
   "cell_type": "code",
   "execution_count": 18,
   "id": "b273e4a0",
   "metadata": {},
   "outputs": [
    {
     "data": {
      "text/plain": [
       "['92.7', '99.5', '94.1', '91.8', '79.8', '73.5', '100', '89.9', '99.6']"
      ]
     },
     "execution_count": 18,
     "metadata": {},
     "output_type": "execute_result"
    }
   ],
   "source": [
    "#PARSING DATA\n",
    "value_head=[]\n",
    "for data in header2:\n",
    "    #get the text data\n",
    "    temp=data.text\n",
    "    value_head.append(temp)\n",
    "value_head=value_head[1:10]\n",
    "value_head"
   ]
  },
  {
   "cell_type": "code",
   "execution_count": 19,
   "id": "508a40ab",
   "metadata": {},
   "outputs": [
    {
     "data": {
      "text/plain": [
       "{'Overall Score': '92.7',\n",
       " 'Academic Reputation': '99.5',\n",
       " 'Employer Reputation': '94.1',\n",
       " 'Citations per Faculty': '91.8',\n",
       " 'Faculty Student Ratio': '79.8',\n",
       " 'International Students Ratio': '73.5',\n",
       " 'International Faculty Ratio': '100',\n",
       " 'International Research Network\\nUnweighted': '89.9',\n",
       " 'Employment Outcomes\\nUnweighted': '99.6'}"
      ]
     },
     "execution_count": 19,
     "metadata": {},
     "output_type": "execute_result"
    }
   ],
   "source": [
    "d={}\n",
    "for i in range(len(column_head)):\n",
    "    d[column_head[i]]=value_head[i]\n",
    "d"
   ]
  },
  {
   "cell_type": "code",
   "execution_count": 20,
   "id": "53138c5c",
   "metadata": {},
   "outputs": [
    {
     "data": {
      "text/plain": [
       "'{\"Overall Score\": \"92.7\", \"Academic Reputation\": \"99.5\", \"Employer Reputation\": \"94.1\", \"Citations per Faculty\": \"91.8\", \"Faculty Student Ratio\": \"79.8\", \"International Students Ratio\": \"73.5\", \"International Faculty Ratio\": \"100\", \"International Research Network\\\\nUnweighted\": \"89.9\", \"Employment Outcomes\\\\nUnweighted\": \"99.6\"}'"
      ]
     },
     "execution_count": 20,
     "metadata": {},
     "output_type": "execute_result"
    }
   ],
   "source": [
    "s1=json.dumps(d)\n",
    "s1"
   ]
  },
  {
   "cell_type": "code",
   "execution_count": 22,
   "id": "6a1f0c75",
   "metadata": {},
   "outputs": [],
   "source": [
    "with open('National University of Singapore (NUS).json','w') as f:\n",
    "    json.dump(d,f)"
   ]
  }
 ],
 "metadata": {
  "kernelspec": {
   "display_name": "Python 3 (ipykernel)",
   "language": "python",
   "name": "python3"
  },
  "language_info": {
   "codemirror_mode": {
    "name": "ipython",
    "version": 3
   },
   "file_extension": ".py",
   "mimetype": "text/x-python",
   "name": "python",
   "nbconvert_exporter": "python",
   "pygments_lexer": "ipython3",
   "version": "3.9.12"
  }
 },
 "nbformat": 4,
 "nbformat_minor": 5
}
