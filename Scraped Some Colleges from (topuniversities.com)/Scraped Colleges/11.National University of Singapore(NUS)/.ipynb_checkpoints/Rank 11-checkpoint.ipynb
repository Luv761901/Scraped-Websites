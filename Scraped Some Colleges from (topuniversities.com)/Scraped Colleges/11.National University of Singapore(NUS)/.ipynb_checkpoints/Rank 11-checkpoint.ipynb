{
 "cells": [
  {
   "cell_type": "code",
   "execution_count": 28,
   "id": "2ab1523c",
   "metadata": {},
   "outputs": [],
   "source": [
    "from selenium import webdriver\n",
    "from selenium.webdriver.chrome.service import Service\n",
    "import pandas as pd\n",
    "import json"
   ]
  },
  {
   "cell_type": "code",
   "execution_count": 29,
   "id": "01580b53",
   "metadata": {},
   "outputs": [],
   "source": [
    "path = Service('C:\\chromedriver.exe')\n"
   ]
  },
  {
   "cell_type": "code",
   "execution_count": 30,
   "id": "c38b03ed",
   "metadata": {},
   "outputs": [],
   "source": [
    "# set path for the driver\n",
    "browser = webdriver.Chrome(service = path)"
   ]
  },
  {
   "cell_type": "code",
   "execution_count": 31,
   "id": "81e72cca",
   "metadata": {},
   "outputs": [],
   "source": [
    "url = \"https://www.topuniversities.com/university-rankings/world-university-rankings/2023\""
   ]
  },
  {
   "cell_type": "code",
   "execution_count": 32,
   "id": "370cf658",
   "metadata": {},
   "outputs": [],
   "source": [
    "# open the page url ion chrome\n",
    "browser.get(url)"
   ]
  },
  {
   "cell_type": "code",
   "execution_count": 33,
   "id": "879da352",
   "metadata": {},
   "outputs": [
    {
     "data": {
      "text/plain": [
       "[<selenium.webdriver.remote.webelement.WebElement (session=\"67f40198ac23c026e90af118e86e4b29\", element=\"89fdbfcf-f16e-4cc9-8203-3fd63ac1be6d\")>,\n",
       " <selenium.webdriver.remote.webelement.WebElement (session=\"67f40198ac23c026e90af118e86e4b29\", element=\"508a5215-83c0-4f7a-8009-e5747dd3cddd\")>,\n",
       " <selenium.webdriver.remote.webelement.WebElement (session=\"67f40198ac23c026e90af118e86e4b29\", element=\"f536a394-10f5-465d-ae5c-1865e3a20c31\")>,\n",
       " <selenium.webdriver.remote.webelement.WebElement (session=\"67f40198ac23c026e90af118e86e4b29\", element=\"de455f73-2b0b-45ae-a0bd-b8f6c8ed3493\")>,\n",
       " <selenium.webdriver.remote.webelement.WebElement (session=\"67f40198ac23c026e90af118e86e4b29\", element=\"2b239ed7-0b3c-4af1-a4ea-2f3d2eac5724\")>,\n",
       " <selenium.webdriver.remote.webelement.WebElement (session=\"67f40198ac23c026e90af118e86e4b29\", element=\"4c52ef1c-045d-4aec-8a76-4e0f7bdb2b16\")>,\n",
       " <selenium.webdriver.remote.webelement.WebElement (session=\"67f40198ac23c026e90af118e86e4b29\", element=\"51844060-caaa-4e2a-aa6c-3a7ccf9d0a30\")>,\n",
       " <selenium.webdriver.remote.webelement.WebElement (session=\"67f40198ac23c026e90af118e86e4b29\", element=\"8d17bd74-5731-48c7-8c65-9605373cf6d4\")>,\n",
       " <selenium.webdriver.remote.webelement.WebElement (session=\"67f40198ac23c026e90af118e86e4b29\", element=\"6018cba8-e268-4a2b-8c11-0fcf783b6f34\")>,\n",
       " <selenium.webdriver.remote.webelement.WebElement (session=\"67f40198ac23c026e90af118e86e4b29\", element=\"d069be62-e62d-4daf-83bd-d196cc066beb\")>,\n",
       " <selenium.webdriver.remote.webelement.WebElement (session=\"67f40198ac23c026e90af118e86e4b29\", element=\"155875dc-638f-4233-8d78-b9782e6600f2\")>,\n",
       " <selenium.webdriver.remote.webelement.WebElement (session=\"67f40198ac23c026e90af118e86e4b29\", element=\"233d4579-eb8e-425c-a077-466370067a2c\")>,\n",
       " <selenium.webdriver.remote.webelement.WebElement (session=\"67f40198ac23c026e90af118e86e4b29\", element=\"8d19ef1f-a54d-4136-a625-f68fc1d373dd\")>,\n",
       " <selenium.webdriver.remote.webelement.WebElement (session=\"67f40198ac23c026e90af118e86e4b29\", element=\"cb4382e4-ebf2-4388-b968-1ab2fdb70570\")>,\n",
       " <selenium.webdriver.remote.webelement.WebElement (session=\"67f40198ac23c026e90af118e86e4b29\", element=\"e43f5697-0893-4589-ad95-d741a766e3d0\")>,\n",
       " <selenium.webdriver.remote.webelement.WebElement (session=\"67f40198ac23c026e90af118e86e4b29\", element=\"5b8630fb-513f-4c16-8915-2b8e75999214\")>,\n",
       " <selenium.webdriver.remote.webelement.WebElement (session=\"67f40198ac23c026e90af118e86e4b29\", element=\"4e2f4639-0c31-48f4-9d79-afdc4dc8f471\")>,\n",
       " <selenium.webdriver.remote.webelement.WebElement (session=\"67f40198ac23c026e90af118e86e4b29\", element=\"111b04f3-d9ae-444d-ab8c-e24e18c836df\")>,\n",
       " <selenium.webdriver.remote.webelement.WebElement (session=\"67f40198ac23c026e90af118e86e4b29\", element=\"a0c341b2-d115-417f-9b0a-b7e690a6913b\")>,\n",
       " <selenium.webdriver.remote.webelement.WebElement (session=\"67f40198ac23c026e90af118e86e4b29\", element=\"c443bea3-fd3b-49c8-96f8-b4af3e617d66\")>]"
      ]
     },
     "execution_count": 33,
     "metadata": {},
     "output_type": "execute_result"
    }
   ],
   "source": [
    "l1=browser.find_elements(\"xpath\",\"//div[@class='location ']\")\n",
    "l1\n"
   ]
  },
  {
   "cell_type": "code",
   "execution_count": 34,
   "id": "69bcd76f",
   "metadata": {},
   "outputs": [
    {
     "data": {
      "text/plain": [
       "['Singapore, Singapore',\n",
       " 'Beijing, China (Mainland)',\n",
       " 'Philadelphia, United States',\n",
       " 'Beijing, China (Mainland)',\n",
       " 'Edinburgh, United Kingdom',\n",
       " 'Lausanne, Switzerland',\n",
       " 'Princeton, United States',\n",
       " 'New Haven, United States',\n",
       " 'Singapore, Singapore',\n",
       " 'Ithaca, United States']"
      ]
     },
     "execution_count": 34,
     "metadata": {},
     "output_type": "execute_result"
    }
   ],
   "source": [
    "loc=[]\n",
    "for data in l1:\n",
    "    #get the text data\n",
    "    temp=data.text\n",
    "    loc.append(temp)\n",
    "loc=loc[10:]\n",
    "loc"
   ]
  },
  {
   "cell_type": "code",
   "execution_count": 35,
   "id": "48b11e37",
   "metadata": {},
   "outputs": [
    {
     "data": {
      "text/plain": [
       "[<selenium.webdriver.remote.webelement.WebElement (session=\"67f40198ac23c026e90af118e86e4b29\", element=\"bea064ea-82e9-4bd2-bb98-3b50186a3974\")>,\n",
       " <selenium.webdriver.remote.webelement.WebElement (session=\"67f40198ac23c026e90af118e86e4b29\", element=\"6d5f13e0-a744-464a-9c3b-32c8cd4ddb5d\")>,\n",
       " <selenium.webdriver.remote.webelement.WebElement (session=\"67f40198ac23c026e90af118e86e4b29\", element=\"15e8b1f6-a523-4608-9a48-dd20c5269397\")>,\n",
       " <selenium.webdriver.remote.webelement.WebElement (session=\"67f40198ac23c026e90af118e86e4b29\", element=\"c8c5918c-3018-4d44-8906-5009793700c8\")>,\n",
       " <selenium.webdriver.remote.webelement.WebElement (session=\"67f40198ac23c026e90af118e86e4b29\", element=\"a704c7f9-003f-473e-a392-cc4b94804f37\")>,\n",
       " <selenium.webdriver.remote.webelement.WebElement (session=\"67f40198ac23c026e90af118e86e4b29\", element=\"3919965e-8b2f-4ed8-93c5-a79fc34be2f4\")>,\n",
       " <selenium.webdriver.remote.webelement.WebElement (session=\"67f40198ac23c026e90af118e86e4b29\", element=\"8ab9e2e8-9742-4cd0-a605-f84ccf5a0cba\")>,\n",
       " <selenium.webdriver.remote.webelement.WebElement (session=\"67f40198ac23c026e90af118e86e4b29\", element=\"4059eaab-8ea6-4add-86bd-c701a3b7d3dc\")>,\n",
       " <selenium.webdriver.remote.webelement.WebElement (session=\"67f40198ac23c026e90af118e86e4b29\", element=\"5bc3c29c-f803-4bb6-9cd7-a7664bf92c62\")>,\n",
       " <selenium.webdriver.remote.webelement.WebElement (session=\"67f40198ac23c026e90af118e86e4b29\", element=\"ca63236d-b5b9-44fa-a05f-3a3617c8c72b\")>]"
      ]
     },
     "execution_count": 35,
     "metadata": {},
     "output_type": "execute_result"
    }
   ],
   "source": [
    "\n",
    "l2=browser.find_elements(\"xpath\",\"//div[@class='_univ-rank ']\")\n",
    "l2\n"
   ]
  },
  {
   "cell_type": "code",
   "execution_count": 36,
   "id": "7c603b6b",
   "metadata": {},
   "outputs": [
    {
     "data": {
      "text/plain": [
       "['11', '12', '13', '14', '15', '=16', '=16', '18', '19', '20']"
      ]
     },
     "execution_count": 36,
     "metadata": {},
     "output_type": "execute_result"
    }
   ],
   "source": [
    "RANK=[]\n",
    "for data in l2:\n",
    "    #get the text data\n",
    "    temp=data.text\n",
    "    RANK.append(temp)\n",
    "RANK\n"
   ]
  },
  {
   "cell_type": "code",
   "execution_count": 37,
   "id": "6425246c",
   "metadata": {},
   "outputs": [
    {
     "data": {
      "text/plain": [
       "[<selenium.webdriver.remote.webelement.WebElement (session=\"67f40198ac23c026e90af118e86e4b29\", element=\"cb8f324a-cb5a-43e4-bbd5-797699746191\")>,\n",
       " <selenium.webdriver.remote.webelement.WebElement (session=\"67f40198ac23c026e90af118e86e4b29\", element=\"343090ce-c71d-4f0f-8419-f5502570312a\")>,\n",
       " <selenium.webdriver.remote.webelement.WebElement (session=\"67f40198ac23c026e90af118e86e4b29\", element=\"b1415b79-f902-4659-ac7c-77b5a2098975\")>,\n",
       " <selenium.webdriver.remote.webelement.WebElement (session=\"67f40198ac23c026e90af118e86e4b29\", element=\"cc42230d-3f8b-4e02-986d-572ca54fbc04\")>,\n",
       " <selenium.webdriver.remote.webelement.WebElement (session=\"67f40198ac23c026e90af118e86e4b29\", element=\"31abc094-5056-4b85-94d9-1f709c48026c\")>,\n",
       " <selenium.webdriver.remote.webelement.WebElement (session=\"67f40198ac23c026e90af118e86e4b29\", element=\"f2e7ac40-1408-4374-8148-d0d570b7cfb1\")>,\n",
       " <selenium.webdriver.remote.webelement.WebElement (session=\"67f40198ac23c026e90af118e86e4b29\", element=\"3f502810-321f-469d-810f-16f7588c0c86\")>,\n",
       " <selenium.webdriver.remote.webelement.WebElement (session=\"67f40198ac23c026e90af118e86e4b29\", element=\"1e88d79e-ca9f-402b-ae68-edf6f3cf66e1\")>,\n",
       " <selenium.webdriver.remote.webelement.WebElement (session=\"67f40198ac23c026e90af118e86e4b29\", element=\"dab05fe2-32ac-40d8-92ee-917a70857527\")>]"
      ]
     },
     "execution_count": 37,
     "metadata": {},
     "output_type": "execute_result"
    }
   ],
   "source": [
    "# GET EACH COLLEGE SPECIFICATION HEADERS\n",
    "header=browser.find_elements(\"xpath\",\"//div[@class='_click-function_ind']\")\n",
    "header\n"
   ]
  },
  {
   "cell_type": "code",
   "execution_count": 38,
   "id": "cc95a2ad",
   "metadata": {},
   "outputs": [
    {
     "data": {
      "text/plain": [
       "['Overall Score',\n",
       " 'Academic Reputation',\n",
       " 'Employer Reputation',\n",
       " 'Citations per Faculty',\n",
       " 'Faculty Student Ratio',\n",
       " 'International Students Ratio',\n",
       " 'International Faculty Ratio',\n",
       " 'International Research Network\\nUnweighted',\n",
       " 'Employment Outcomes\\nUnweighted']"
      ]
     },
     "execution_count": 38,
     "metadata": {},
     "output_type": "execute_result"
    }
   ],
   "source": [
    "#PARSING DATA\n",
    "column_head=[]\n",
    "for data in header:\n",
    "    #get the text data\n",
    "    temp=data.text\n",
    "    column_head.append(temp)\n",
    "column_head"
   ]
  },
  {
   "cell_type": "code",
   "execution_count": 39,
   "id": "bdb556f3",
   "metadata": {},
   "outputs": [
    {
     "data": {
      "text/plain": [
       "[<selenium.webdriver.remote.webelement.WebElement (session=\"67f40198ac23c026e90af118e86e4b29\", element=\"1e28ecfe-50c1-45bc-af5e-a96b8798b959\")>,\n",
       " <selenium.webdriver.remote.webelement.WebElement (session=\"67f40198ac23c026e90af118e86e4b29\", element=\"8590cbf3-45c3-4b2c-b589-2c9df1656d95\")>,\n",
       " <selenium.webdriver.remote.webelement.WebElement (session=\"67f40198ac23c026e90af118e86e4b29\", element=\"65c9e63f-7fe6-4936-887b-7a380c34e1c0\")>,\n",
       " <selenium.webdriver.remote.webelement.WebElement (session=\"67f40198ac23c026e90af118e86e4b29\", element=\"b7de468a-75de-428b-8885-dda813916b45\")>,\n",
       " <selenium.webdriver.remote.webelement.WebElement (session=\"67f40198ac23c026e90af118e86e4b29\", element=\"a0c8f805-9d71-4005-b0df-4118c642bd04\")>,\n",
       " <selenium.webdriver.remote.webelement.WebElement (session=\"67f40198ac23c026e90af118e86e4b29\", element=\"94703006-cb22-464a-b3c3-c9ac223463f6\")>,\n",
       " <selenium.webdriver.remote.webelement.WebElement (session=\"67f40198ac23c026e90af118e86e4b29\", element=\"097471ba-3921-4301-92c6-8f4f9b4c794a\")>,\n",
       " <selenium.webdriver.remote.webelement.WebElement (session=\"67f40198ac23c026e90af118e86e4b29\", element=\"24c69ff1-3c99-41b0-af1f-c5cf5a411536\")>,\n",
       " <selenium.webdriver.remote.webelement.WebElement (session=\"67f40198ac23c026e90af118e86e4b29\", element=\"a67efab9-5ade-4b1d-ba24-dae2ea98987f\")>,\n",
       " <selenium.webdriver.remote.webelement.WebElement (session=\"67f40198ac23c026e90af118e86e4b29\", element=\"e7490397-ee42-4f4e-9159-87288cb0e177\")>,\n",
       " <selenium.webdriver.remote.webelement.WebElement (session=\"67f40198ac23c026e90af118e86e4b29\", element=\"5612492c-f062-480e-8d60-2bf9b40176d1\")>,\n",
       " <selenium.webdriver.remote.webelement.WebElement (session=\"67f40198ac23c026e90af118e86e4b29\", element=\"94754947-8fd8-4092-9da1-3399300321bb\")>,\n",
       " <selenium.webdriver.remote.webelement.WebElement (session=\"67f40198ac23c026e90af118e86e4b29\", element=\"32d3f6a5-0d69-4036-bbd6-e845f991b79c\")>,\n",
       " <selenium.webdriver.remote.webelement.WebElement (session=\"67f40198ac23c026e90af118e86e4b29\", element=\"ac5d4913-f285-4447-94d3-9962a43f3fd9\")>,\n",
       " <selenium.webdriver.remote.webelement.WebElement (session=\"67f40198ac23c026e90af118e86e4b29\", element=\"11231d2a-4c24-4b13-be63-2f4bfdff0ba7\")>,\n",
       " <selenium.webdriver.remote.webelement.WebElement (session=\"67f40198ac23c026e90af118e86e4b29\", element=\"e28fd08d-44d4-4032-8486-47b42567f383\")>,\n",
       " <selenium.webdriver.remote.webelement.WebElement (session=\"67f40198ac23c026e90af118e86e4b29\", element=\"a142c061-241e-4713-b9ec-1ceacd209b2a\")>,\n",
       " <selenium.webdriver.remote.webelement.WebElement (session=\"67f40198ac23c026e90af118e86e4b29\", element=\"d0136a9d-484c-4078-bd44-e9b92e601f93\")>,\n",
       " <selenium.webdriver.remote.webelement.WebElement (session=\"67f40198ac23c026e90af118e86e4b29\", element=\"80f5f38a-2fca-4357-a16b-c3a7c813a54e\")>,\n",
       " <selenium.webdriver.remote.webelement.WebElement (session=\"67f40198ac23c026e90af118e86e4b29\", element=\"a9741eed-ac46-40ed-9f53-ce718368507d\")>,\n",
       " <selenium.webdriver.remote.webelement.WebElement (session=\"67f40198ac23c026e90af118e86e4b29\", element=\"f9c785a7-6c73-4870-8957-7caa196d8e62\")>,\n",
       " <selenium.webdriver.remote.webelement.WebElement (session=\"67f40198ac23c026e90af118e86e4b29\", element=\"b408af0a-c55b-49d3-99b4-3873299e1c6a\")>,\n",
       " <selenium.webdriver.remote.webelement.WebElement (session=\"67f40198ac23c026e90af118e86e4b29\", element=\"a223d6d8-4f96-4981-a942-618dfb26540a\")>,\n",
       " <selenium.webdriver.remote.webelement.WebElement (session=\"67f40198ac23c026e90af118e86e4b29\", element=\"8960602b-f43b-4efa-b4b8-a68914bf0ab6\")>,\n",
       " <selenium.webdriver.remote.webelement.WebElement (session=\"67f40198ac23c026e90af118e86e4b29\", element=\"7c535565-e68f-4036-808d-a39bcb2a9d9a\")>,\n",
       " <selenium.webdriver.remote.webelement.WebElement (session=\"67f40198ac23c026e90af118e86e4b29\", element=\"3e2f9c1a-8021-44a9-a199-b09a49f9d212\")>,\n",
       " <selenium.webdriver.remote.webelement.WebElement (session=\"67f40198ac23c026e90af118e86e4b29\", element=\"58341f10-ad67-4d1b-95fe-0012811b99ee\")>,\n",
       " <selenium.webdriver.remote.webelement.WebElement (session=\"67f40198ac23c026e90af118e86e4b29\", element=\"de885c50-e7e9-4e0a-a074-d3934eda6273\")>,\n",
       " <selenium.webdriver.remote.webelement.WebElement (session=\"67f40198ac23c026e90af118e86e4b29\", element=\"7e16f84c-1f1d-48bd-94dd-cc695a35bf07\")>,\n",
       " <selenium.webdriver.remote.webelement.WebElement (session=\"67f40198ac23c026e90af118e86e4b29\", element=\"90b9dc50-b0eb-4279-acc5-556b2762d2a8\")>,\n",
       " <selenium.webdriver.remote.webelement.WebElement (session=\"67f40198ac23c026e90af118e86e4b29\", element=\"53e8bf9a-8ac4-4cab-b652-8bcdb28d6df1\")>,\n",
       " <selenium.webdriver.remote.webelement.WebElement (session=\"67f40198ac23c026e90af118e86e4b29\", element=\"32b39d5e-7c38-46f0-ade0-553c25e10240\")>,\n",
       " <selenium.webdriver.remote.webelement.WebElement (session=\"67f40198ac23c026e90af118e86e4b29\", element=\"40644b8a-7d67-4a0d-b452-1d86b18b6c49\")>,\n",
       " <selenium.webdriver.remote.webelement.WebElement (session=\"67f40198ac23c026e90af118e86e4b29\", element=\"6a542556-0865-4f9b-89e6-79ed0cb5de7a\")>,\n",
       " <selenium.webdriver.remote.webelement.WebElement (session=\"67f40198ac23c026e90af118e86e4b29\", element=\"ef85f964-deeb-41cf-a5ce-315bd2d9b557\")>,\n",
       " <selenium.webdriver.remote.webelement.WebElement (session=\"67f40198ac23c026e90af118e86e4b29\", element=\"88ddbd84-279c-42e5-a091-a2d76fb70caa\")>,\n",
       " <selenium.webdriver.remote.webelement.WebElement (session=\"67f40198ac23c026e90af118e86e4b29\", element=\"1f18e16d-673f-4342-aaf9-6223e5870ef3\")>,\n",
       " <selenium.webdriver.remote.webelement.WebElement (session=\"67f40198ac23c026e90af118e86e4b29\", element=\"b713d8e7-5077-44f5-8563-9b56b0a4f4d9\")>,\n",
       " <selenium.webdriver.remote.webelement.WebElement (session=\"67f40198ac23c026e90af118e86e4b29\", element=\"577fc7d7-2ab8-4560-bfa6-b95f40b02ea1\")>,\n",
       " <selenium.webdriver.remote.webelement.WebElement (session=\"67f40198ac23c026e90af118e86e4b29\", element=\"1f29b948-5fc2-470e-aa61-ba3d1c9eabff\")>,\n",
       " <selenium.webdriver.remote.webelement.WebElement (session=\"67f40198ac23c026e90af118e86e4b29\", element=\"f98402ec-4c7a-479f-95c6-971d8c4c36bb\")>,\n",
       " <selenium.webdriver.remote.webelement.WebElement (session=\"67f40198ac23c026e90af118e86e4b29\", element=\"69bf15a2-99a7-482a-b24c-32318f3fac34\")>,\n",
       " <selenium.webdriver.remote.webelement.WebElement (session=\"67f40198ac23c026e90af118e86e4b29\", element=\"d51a9f69-1c96-4262-b24f-249b0a7b0a6d\")>,\n",
       " <selenium.webdriver.remote.webelement.WebElement (session=\"67f40198ac23c026e90af118e86e4b29\", element=\"bece8ef7-4f22-48c8-9f50-148deb8bab1c\")>,\n",
       " <selenium.webdriver.remote.webelement.WebElement (session=\"67f40198ac23c026e90af118e86e4b29\", element=\"5eb99fbb-ce2e-431f-b021-bd85990c65e6\")>,\n",
       " <selenium.webdriver.remote.webelement.WebElement (session=\"67f40198ac23c026e90af118e86e4b29\", element=\"b246c14f-3cff-42d2-bb56-1ff1923747b8\")>,\n",
       " <selenium.webdriver.remote.webelement.WebElement (session=\"67f40198ac23c026e90af118e86e4b29\", element=\"a6cf79e4-7234-44a1-abdb-a38d84fee728\")>,\n",
       " <selenium.webdriver.remote.webelement.WebElement (session=\"67f40198ac23c026e90af118e86e4b29\", element=\"3943d38a-9264-47c8-9dfa-cba24ceb96cd\")>,\n",
       " <selenium.webdriver.remote.webelement.WebElement (session=\"67f40198ac23c026e90af118e86e4b29\", element=\"55738712-d450-40a6-a40e-7b28bd6d18fe\")>,\n",
       " <selenium.webdriver.remote.webelement.WebElement (session=\"67f40198ac23c026e90af118e86e4b29\", element=\"b50bec7e-d088-4d00-8795-051b434b4a21\")>,\n",
       " <selenium.webdriver.remote.webelement.WebElement (session=\"67f40198ac23c026e90af118e86e4b29\", element=\"1350fe9d-06f1-4794-acc5-8e650b5331c4\")>,\n",
       " <selenium.webdriver.remote.webelement.WebElement (session=\"67f40198ac23c026e90af118e86e4b29\", element=\"b10eaed8-0d4b-4c30-8174-f1c6834611e6\")>,\n",
       " <selenium.webdriver.remote.webelement.WebElement (session=\"67f40198ac23c026e90af118e86e4b29\", element=\"c873b28a-0c56-4265-a223-5b87527838f2\")>,\n",
       " <selenium.webdriver.remote.webelement.WebElement (session=\"67f40198ac23c026e90af118e86e4b29\", element=\"a40d8577-5324-4d8b-b8c8-3675dc186b31\")>,\n",
       " <selenium.webdriver.remote.webelement.WebElement (session=\"67f40198ac23c026e90af118e86e4b29\", element=\"25d1631d-cef6-4c42-9ba2-26d07118e89e\")>,\n",
       " <selenium.webdriver.remote.webelement.WebElement (session=\"67f40198ac23c026e90af118e86e4b29\", element=\"7826f59c-6825-4dfe-917f-65e0491d3bed\")>,\n",
       " <selenium.webdriver.remote.webelement.WebElement (session=\"67f40198ac23c026e90af118e86e4b29\", element=\"f9692dc5-238d-47f5-b392-16fc220bc7df\")>,\n",
       " <selenium.webdriver.remote.webelement.WebElement (session=\"67f40198ac23c026e90af118e86e4b29\", element=\"97cfc7ef-1054-4d4e-9b23-58b1115a410a\")>,\n",
       " <selenium.webdriver.remote.webelement.WebElement (session=\"67f40198ac23c026e90af118e86e4b29\", element=\"9943ec72-5b7d-45e2-a737-64ffff5fa3ce\")>,\n",
       " <selenium.webdriver.remote.webelement.WebElement (session=\"67f40198ac23c026e90af118e86e4b29\", element=\"988d0b7a-075a-453a-b628-138c73c2c475\")>,\n",
       " <selenium.webdriver.remote.webelement.WebElement (session=\"67f40198ac23c026e90af118e86e4b29\", element=\"9bf496e9-622e-467c-bd96-a118691e7c5a\")>,\n",
       " <selenium.webdriver.remote.webelement.WebElement (session=\"67f40198ac23c026e90af118e86e4b29\", element=\"6097bf4e-3b47-4797-bcb5-66155fa90cc9\")>,\n",
       " <selenium.webdriver.remote.webelement.WebElement (session=\"67f40198ac23c026e90af118e86e4b29\", element=\"936647e7-1a44-48b8-9f9f-e12e41156741\")>,\n",
       " <selenium.webdriver.remote.webelement.WebElement (session=\"67f40198ac23c026e90af118e86e4b29\", element=\"fe4d4248-fa59-4458-9bef-ad6302b534f5\")>,\n",
       " <selenium.webdriver.remote.webelement.WebElement (session=\"67f40198ac23c026e90af118e86e4b29\", element=\"0333d57f-5535-4bb5-a24c-b46c570fb0b5\")>,\n",
       " <selenium.webdriver.remote.webelement.WebElement (session=\"67f40198ac23c026e90af118e86e4b29\", element=\"588a29ec-b8a9-4a39-90f9-dc721688550f\")>,\n",
       " <selenium.webdriver.remote.webelement.WebElement (session=\"67f40198ac23c026e90af118e86e4b29\", element=\"3e34bf74-7e0e-4787-9d30-4c5e57e4d203\")>,\n",
       " <selenium.webdriver.remote.webelement.WebElement (session=\"67f40198ac23c026e90af118e86e4b29\", element=\"b31b598e-d99e-43ca-be49-f174e9b1a570\")>,\n",
       " <selenium.webdriver.remote.webelement.WebElement (session=\"67f40198ac23c026e90af118e86e4b29\", element=\"0e40596e-28d4-426c-a12d-684db29d96ea\")>,\n",
       " <selenium.webdriver.remote.webelement.WebElement (session=\"67f40198ac23c026e90af118e86e4b29\", element=\"71672b24-a25d-4f9c-9dda-16ada2cac0e2\")>,\n",
       " <selenium.webdriver.remote.webelement.WebElement (session=\"67f40198ac23c026e90af118e86e4b29\", element=\"06e69b7c-3266-467c-8299-fa9614792cfb\")>,\n",
       " <selenium.webdriver.remote.webelement.WebElement (session=\"67f40198ac23c026e90af118e86e4b29\", element=\"9b3ebd7d-f7e9-4029-b0d0-0094b738d48d\")>,\n",
       " <selenium.webdriver.remote.webelement.WebElement (session=\"67f40198ac23c026e90af118e86e4b29\", element=\"379dc31c-1e3d-44a9-ba66-c1f50d3bff3c\")>,\n",
       " <selenium.webdriver.remote.webelement.WebElement (session=\"67f40198ac23c026e90af118e86e4b29\", element=\"3bbba635-4eb6-4c52-859c-4ee704848322\")>,\n",
       " <selenium.webdriver.remote.webelement.WebElement (session=\"67f40198ac23c026e90af118e86e4b29\", element=\"d76ccc86-0b56-4c1b-9543-fa724d2cc273\")>,\n",
       " <selenium.webdriver.remote.webelement.WebElement (session=\"67f40198ac23c026e90af118e86e4b29\", element=\"fe31e38b-0dd1-477f-8021-020e53983774\")>,\n",
       " <selenium.webdriver.remote.webelement.WebElement (session=\"67f40198ac23c026e90af118e86e4b29\", element=\"63179f81-f4d2-41a8-9b0f-f836b99e7fe1\")>,\n",
       " <selenium.webdriver.remote.webelement.WebElement (session=\"67f40198ac23c026e90af118e86e4b29\", element=\"007738b0-c296-4df0-b542-fc273a7638d9\")>,\n",
       " <selenium.webdriver.remote.webelement.WebElement (session=\"67f40198ac23c026e90af118e86e4b29\", element=\"e96ef364-0624-4081-b172-979fa9dbdc99\")>,\n",
       " <selenium.webdriver.remote.webelement.WebElement (session=\"67f40198ac23c026e90af118e86e4b29\", element=\"54dfeafb-faeb-4583-9d43-21aabd7cbbca\")>,\n",
       " <selenium.webdriver.remote.webelement.WebElement (session=\"67f40198ac23c026e90af118e86e4b29\", element=\"5bef5a87-cfcb-4d90-bee9-cbb52b1355f1\")>,\n",
       " <selenium.webdriver.remote.webelement.WebElement (session=\"67f40198ac23c026e90af118e86e4b29\", element=\"32a9c019-ac92-4757-a51c-5e111c25f216\")>,\n",
       " <selenium.webdriver.remote.webelement.WebElement (session=\"67f40198ac23c026e90af118e86e4b29\", element=\"2e511758-6946-48aa-880c-992429b6d1ec\")>,\n",
       " <selenium.webdriver.remote.webelement.WebElement (session=\"67f40198ac23c026e90af118e86e4b29\", element=\"a41571c1-c000-4ddf-9450-036e6544e1fe\")>,\n",
       " <selenium.webdriver.remote.webelement.WebElement (session=\"67f40198ac23c026e90af118e86e4b29\", element=\"f6f04a0b-ebfb-450e-a1ca-e4e595e51048\")>,\n",
       " <selenium.webdriver.remote.webelement.WebElement (session=\"67f40198ac23c026e90af118e86e4b29\", element=\"cad42c7c-0c0f-4db5-839b-223155d1a173\")>,\n",
       " <selenium.webdriver.remote.webelement.WebElement (session=\"67f40198ac23c026e90af118e86e4b29\", element=\"1a013d70-8d06-43a0-8095-79f0bf1aa928\")>,\n",
       " <selenium.webdriver.remote.webelement.WebElement (session=\"67f40198ac23c026e90af118e86e4b29\", element=\"6289e773-e55b-44ad-aea2-470bb672819b\")>,\n",
       " <selenium.webdriver.remote.webelement.WebElement (session=\"67f40198ac23c026e90af118e86e4b29\", element=\"2f3c1fa7-ad76-45fb-ad5a-af9fadd58b9d\")>,\n",
       " <selenium.webdriver.remote.webelement.WebElement (session=\"67f40198ac23c026e90af118e86e4b29\", element=\"cd16ba8b-309b-4734-b7f1-fdd30648fc7d\")>,\n",
       " <selenium.webdriver.remote.webelement.WebElement (session=\"67f40198ac23c026e90af118e86e4b29\", element=\"f986fd89-f8d5-4a70-9d6c-26e34d47d517\")>,\n",
       " <selenium.webdriver.remote.webelement.WebElement (session=\"67f40198ac23c026e90af118e86e4b29\", element=\"b29a4d7f-6655-46ca-b410-eb766a4e8d23\")>,\n",
       " <selenium.webdriver.remote.webelement.WebElement (session=\"67f40198ac23c026e90af118e86e4b29\", element=\"8c9c48fd-3743-4508-814a-aeef291a8bdc\")>,\n",
       " <selenium.webdriver.remote.webelement.WebElement (session=\"67f40198ac23c026e90af118e86e4b29\", element=\"f8ada905-c810-4e20-945c-6c947e33dedd\")>,\n",
       " <selenium.webdriver.remote.webelement.WebElement (session=\"67f40198ac23c026e90af118e86e4b29\", element=\"41a40ac7-b1f7-4bf2-b6f5-85760bf8f6ed\")>,\n",
       " <selenium.webdriver.remote.webelement.WebElement (session=\"67f40198ac23c026e90af118e86e4b29\", element=\"0033946f-7d7e-4b66-8190-19f5f58c4732\")>,\n",
       " <selenium.webdriver.remote.webelement.WebElement (session=\"67f40198ac23c026e90af118e86e4b29\", element=\"6149b1b7-ca07-44f1-9049-c83eb78a3828\")>,\n",
       " <selenium.webdriver.remote.webelement.WebElement (session=\"67f40198ac23c026e90af118e86e4b29\", element=\"04b651f9-d6e7-4a5c-a591-a35f065ef4f8\")>,\n",
       " <selenium.webdriver.remote.webelement.WebElement (session=\"67f40198ac23c026e90af118e86e4b29\", element=\"9cf363bc-5f5a-4d31-9b07-342f6d05a121\")>,\n",
       " <selenium.webdriver.remote.webelement.WebElement (session=\"67f40198ac23c026e90af118e86e4b29\", element=\"a24358f6-d5a6-4108-8ccd-ac1c1fe54220\")>]"
      ]
     },
     "execution_count": 39,
     "metadata": {},
     "output_type": "execute_result"
    }
   ],
   "source": [
    "header2=browser.find_elements(\"xpath\",\"//div[@class='td-wrap-in']\")\n",
    "header2"
   ]
  },
  {
   "cell_type": "code",
   "execution_count": 40,
   "id": "b273e4a0",
   "metadata": {},
   "outputs": [
    {
     "data": {
      "text/plain": [
       "['92.7', '99.5', '94.1', '91.8', '79.8', '73.5', '100', '89.9', '99.6']"
      ]
     },
     "execution_count": 40,
     "metadata": {},
     "output_type": "execute_result"
    }
   ],
   "source": [
    "#PARSING DATA\n",
    "value_head=[]\n",
    "for data in header2:\n",
    "    #get the text data\n",
    "    temp=data.text\n",
    "    value_head.append(temp)\n",
    "value=value_head[1:10]\n",
    "value"
   ]
  },
  {
   "cell_type": "code",
   "execution_count": 42,
   "id": "508a40ab",
   "metadata": {},
   "outputs": [
    {
     "data": {
      "text/plain": [
       "{'Name': 'National University of Singapore (NUS)',\n",
       " 'Location': 'Singapore, Singapore',\n",
       " 'Rank': '11',\n",
       " 'Overall Score': '92.7',\n",
       " 'Academic Reputation': '99.5',\n",
       " 'Employer Reputation': '94.1',\n",
       " 'Citations per Faculty': '91.8',\n",
       " 'Faculty Student Ratio': '79.8',\n",
       " 'International Students Ratio': '73.5',\n",
       " 'International Faculty Ratio': '100',\n",
       " 'International Research Network\\nUnweighted': '89.9',\n",
       " 'Employment Outcomes\\nUnweighted': '99.6'}"
      ]
     },
     "execution_count": 42,
     "metadata": {},
     "output_type": "execute_result"
    }
   ],
   "source": [
    "d={}\n",
    "d['Name']=value_head[0]\n",
    "d['Location']=loc[0]\n",
    "d['Rank']=RANK[0]\n",
    "for i in range(len(column_head)):\n",
    "    d[column_head[i]]=value[i]\n",
    "d"
   ]
  },
  {
   "cell_type": "code",
   "execution_count": 43,
   "id": "53138c5c",
   "metadata": {},
   "outputs": [
    {
     "data": {
      "text/plain": [
       "'{\"Name\": \"National University of Singapore (NUS)\", \"Location\": \"Singapore, Singapore\", \"Rank\": \"11\", \"Overall Score\": \"92.7\", \"Academic Reputation\": \"99.5\", \"Employer Reputation\": \"94.1\", \"Citations per Faculty\": \"91.8\", \"Faculty Student Ratio\": \"79.8\", \"International Students Ratio\": \"73.5\", \"International Faculty Ratio\": \"100\", \"International Research Network\\\\nUnweighted\": \"89.9\", \"Employment Outcomes\\\\nUnweighted\": \"99.6\"}'"
      ]
     },
     "execution_count": 43,
     "metadata": {},
     "output_type": "execute_result"
    }
   ],
   "source": [
    "s1=json.dumps(d)\n",
    "s1"
   ]
  },
  {
   "cell_type": "code",
   "execution_count": 44,
   "id": "6a1f0c75",
   "metadata": {},
   "outputs": [],
   "source": [
    "with open('National University of Singapore (NUS).json','w') as f:\n",
    "    json.dump(d,f)"
   ]
  },
  {
   "cell_type": "code",
   "execution_count": null,
   "id": "cf7b1eed",
   "metadata": {},
   "outputs": [],
   "source": []
  }
 ],
 "metadata": {
  "kernelspec": {
   "display_name": "Python 3 (ipykernel)",
   "language": "python",
   "name": "python3"
  },
  "language_info": {
   "codemirror_mode": {
    "name": "ipython",
    "version": 3
   },
   "file_extension": ".py",
   "mimetype": "text/x-python",
   "name": "python",
   "nbconvert_exporter": "python",
   "pygments_lexer": "ipython3",
   "version": "3.9.12"
  }
 },
 "nbformat": 4,
 "nbformat_minor": 5
}
