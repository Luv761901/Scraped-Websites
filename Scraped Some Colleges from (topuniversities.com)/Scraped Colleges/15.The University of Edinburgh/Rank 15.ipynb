{
 "cells": [
  {
   "cell_type": "code",
   "execution_count": 18,
   "id": "6a00ad64",
   "metadata": {},
   "outputs": [],
   "source": [
    "from selenium import webdriver\n",
    "from selenium.webdriver.chrome.service import Service\n",
    "import pandas as pd\n",
    "import json"
   ]
  },
  {
   "cell_type": "code",
   "execution_count": 19,
   "id": "e81877dc",
   "metadata": {},
   "outputs": [],
   "source": [
    "path = Service('C:\\chromedriver.exe')"
   ]
  },
  {
   "cell_type": "code",
   "execution_count": 20,
   "id": "28b4a2ca",
   "metadata": {},
   "outputs": [],
   "source": [
    "# set path for the driver\n",
    "browser = webdriver.Chrome(service = path)"
   ]
  },
  {
   "cell_type": "code",
   "execution_count": 21,
   "id": "aff209f2",
   "metadata": {},
   "outputs": [],
   "source": [
    "url = \"https://www.topuniversities.com/university-rankings/world-university-rankings/2023\""
   ]
  },
  {
   "cell_type": "code",
   "execution_count": 22,
   "id": "2cc134a7",
   "metadata": {},
   "outputs": [],
   "source": [
    "# open the page url ion chrome\n",
    "browser.get(url)"
   ]
  },
  {
   "cell_type": "code",
   "execution_count": 23,
   "id": "36f70a57",
   "metadata": {},
   "outputs": [
    {
     "data": {
      "text/plain": [
       "[<selenium.webdriver.remote.webelement.WebElement (session=\"82d41daf39f8ad42be918ce6d161cbde\", element=\"008351fc-c17a-4247-be97-e99eb2f21e4d\")>,\n",
       " <selenium.webdriver.remote.webelement.WebElement (session=\"82d41daf39f8ad42be918ce6d161cbde\", element=\"76952a0b-3a72-48e0-bc16-bf1d0ca07fa1\")>,\n",
       " <selenium.webdriver.remote.webelement.WebElement (session=\"82d41daf39f8ad42be918ce6d161cbde\", element=\"2b0788b6-165c-49d7-b2bf-fc22ba8eae63\")>,\n",
       " <selenium.webdriver.remote.webelement.WebElement (session=\"82d41daf39f8ad42be918ce6d161cbde\", element=\"659b7d80-8e46-436e-8a6f-28e0ff606bbb\")>,\n",
       " <selenium.webdriver.remote.webelement.WebElement (session=\"82d41daf39f8ad42be918ce6d161cbde\", element=\"15a7d90c-fa6d-4477-96ee-cadeb8dfcc3f\")>,\n",
       " <selenium.webdriver.remote.webelement.WebElement (session=\"82d41daf39f8ad42be918ce6d161cbde\", element=\"397f4ae7-4bd1-4f55-921c-9d120ff0deeb\")>,\n",
       " <selenium.webdriver.remote.webelement.WebElement (session=\"82d41daf39f8ad42be918ce6d161cbde\", element=\"eff0c495-2feb-43f5-95d9-cf4683d3ff50\")>,\n",
       " <selenium.webdriver.remote.webelement.WebElement (session=\"82d41daf39f8ad42be918ce6d161cbde\", element=\"11479ea0-de07-4dc9-ae46-c90d80c5113f\")>,\n",
       " <selenium.webdriver.remote.webelement.WebElement (session=\"82d41daf39f8ad42be918ce6d161cbde\", element=\"1afe654e-ea3b-4754-9076-d613695a1e36\")>]"
      ]
     },
     "execution_count": 23,
     "metadata": {},
     "output_type": "execute_result"
    }
   ],
   "source": [
    "# GET EACH COLLEGE SPECIFICATION HEADERS\n",
    "header=browser.find_elements(\"xpath\",\"//div[@class='_click-function_ind']\")\n",
    "header"
   ]
  },
  {
   "cell_type": "code",
   "execution_count": 24,
   "id": "e2eeafe7",
   "metadata": {},
   "outputs": [
    {
     "data": {
      "text/plain": [
       "['Overall Score',\n",
       " 'Academic Reputation',\n",
       " 'Employer Reputation',\n",
       " 'Citations per Faculty',\n",
       " 'Faculty Student Ratio',\n",
       " 'International Students Ratio',\n",
       " 'International Faculty Ratio',\n",
       " 'International Research Network\\nUnweighted',\n",
       " 'Employment Outcomes\\nUnweighted']"
      ]
     },
     "execution_count": 24,
     "metadata": {},
     "output_type": "execute_result"
    }
   ],
   "source": [
    "#PARSING DATA\n",
    "column_head=[]\n",
    "for data in header:\n",
    "    #get the text data\n",
    "    temp=data.text\n",
    "    column_head.append(temp)\n",
    "column_head"
   ]
  },
  {
   "cell_type": "code",
   "execution_count": 25,
   "id": "b084acb6",
   "metadata": {},
   "outputs": [
    {
     "data": {
      "text/plain": [
       "[<selenium.webdriver.remote.webelement.WebElement (session=\"82d41daf39f8ad42be918ce6d161cbde\", element=\"dc414854-291d-4ae3-ac33-c041b77b4d2f\")>,\n",
       " <selenium.webdriver.remote.webelement.WebElement (session=\"82d41daf39f8ad42be918ce6d161cbde\", element=\"0d1e7016-1813-4b0c-8a18-65e2250ecab3\")>,\n",
       " <selenium.webdriver.remote.webelement.WebElement (session=\"82d41daf39f8ad42be918ce6d161cbde\", element=\"7078d8f4-b0ce-4cee-9c21-d4d08768648d\")>,\n",
       " <selenium.webdriver.remote.webelement.WebElement (session=\"82d41daf39f8ad42be918ce6d161cbde\", element=\"ed2bb552-d2e6-4357-b13b-846a4670989b\")>,\n",
       " <selenium.webdriver.remote.webelement.WebElement (session=\"82d41daf39f8ad42be918ce6d161cbde\", element=\"113bdcf9-1969-4410-b03a-683430c14614\")>,\n",
       " <selenium.webdriver.remote.webelement.WebElement (session=\"82d41daf39f8ad42be918ce6d161cbde\", element=\"b7277774-864c-4570-b465-0a8102d41e85\")>,\n",
       " <selenium.webdriver.remote.webelement.WebElement (session=\"82d41daf39f8ad42be918ce6d161cbde\", element=\"eb0671e8-d761-4250-a97c-7fddcf8c142f\")>,\n",
       " <selenium.webdriver.remote.webelement.WebElement (session=\"82d41daf39f8ad42be918ce6d161cbde\", element=\"5e31c5e7-9709-4db6-92f7-f10cc0eb8111\")>,\n",
       " <selenium.webdriver.remote.webelement.WebElement (session=\"82d41daf39f8ad42be918ce6d161cbde\", element=\"767fa58b-5aec-4e1e-b4a5-7bfc884916fe\")>,\n",
       " <selenium.webdriver.remote.webelement.WebElement (session=\"82d41daf39f8ad42be918ce6d161cbde\", element=\"afb901fd-fbaf-4ce3-8759-e8e5f2fa8d07\")>,\n",
       " <selenium.webdriver.remote.webelement.WebElement (session=\"82d41daf39f8ad42be918ce6d161cbde\", element=\"c9456f23-3d58-4b1f-98dc-ee429f6a89af\")>,\n",
       " <selenium.webdriver.remote.webelement.WebElement (session=\"82d41daf39f8ad42be918ce6d161cbde\", element=\"131ef180-ed50-4dc3-bce9-7bff51ec1b0a\")>,\n",
       " <selenium.webdriver.remote.webelement.WebElement (session=\"82d41daf39f8ad42be918ce6d161cbde\", element=\"9b5f0515-3616-4f3f-ae2a-00dbb753a2ab\")>,\n",
       " <selenium.webdriver.remote.webelement.WebElement (session=\"82d41daf39f8ad42be918ce6d161cbde\", element=\"a2ab62c0-b5e8-41ec-a1db-0ca563f12ac3\")>,\n",
       " <selenium.webdriver.remote.webelement.WebElement (session=\"82d41daf39f8ad42be918ce6d161cbde\", element=\"8795bacc-4d4a-4eaf-be5c-d562acbcecc1\")>,\n",
       " <selenium.webdriver.remote.webelement.WebElement (session=\"82d41daf39f8ad42be918ce6d161cbde\", element=\"9eeb2118-97c2-4f1d-be55-861dd6f1ecac\")>,\n",
       " <selenium.webdriver.remote.webelement.WebElement (session=\"82d41daf39f8ad42be918ce6d161cbde\", element=\"fcd260a3-aaa4-4740-b801-8a5bf38d1c7e\")>,\n",
       " <selenium.webdriver.remote.webelement.WebElement (session=\"82d41daf39f8ad42be918ce6d161cbde\", element=\"261668b7-2787-424c-acab-ad9a9e425885\")>,\n",
       " <selenium.webdriver.remote.webelement.WebElement (session=\"82d41daf39f8ad42be918ce6d161cbde\", element=\"6d7b553b-1d68-4255-8ed5-95c3c675c846\")>,\n",
       " <selenium.webdriver.remote.webelement.WebElement (session=\"82d41daf39f8ad42be918ce6d161cbde\", element=\"a1991f34-2f1a-4c67-aa34-beda6c2ee942\")>,\n",
       " <selenium.webdriver.remote.webelement.WebElement (session=\"82d41daf39f8ad42be918ce6d161cbde\", element=\"dc9e7a52-64c2-4853-88ac-35932285a3f7\")>,\n",
       " <selenium.webdriver.remote.webelement.WebElement (session=\"82d41daf39f8ad42be918ce6d161cbde\", element=\"04f95cc3-879f-4534-8e81-153958a94227\")>,\n",
       " <selenium.webdriver.remote.webelement.WebElement (session=\"82d41daf39f8ad42be918ce6d161cbde\", element=\"7be2d1a0-d104-4424-a14e-46de212cd9a7\")>,\n",
       " <selenium.webdriver.remote.webelement.WebElement (session=\"82d41daf39f8ad42be918ce6d161cbde\", element=\"64a66f22-7b2a-45d3-a686-e7c8f0dea542\")>,\n",
       " <selenium.webdriver.remote.webelement.WebElement (session=\"82d41daf39f8ad42be918ce6d161cbde\", element=\"41f352a3-520c-4644-b8ab-8ab1ecea28ef\")>,\n",
       " <selenium.webdriver.remote.webelement.WebElement (session=\"82d41daf39f8ad42be918ce6d161cbde\", element=\"5c50956a-233d-4af4-bbaf-2d0aa087d061\")>,\n",
       " <selenium.webdriver.remote.webelement.WebElement (session=\"82d41daf39f8ad42be918ce6d161cbde\", element=\"4ec3ce8c-0f63-4566-a04d-2648e7167a43\")>,\n",
       " <selenium.webdriver.remote.webelement.WebElement (session=\"82d41daf39f8ad42be918ce6d161cbde\", element=\"2d4121a8-0c90-440d-840d-b4706089a911\")>,\n",
       " <selenium.webdriver.remote.webelement.WebElement (session=\"82d41daf39f8ad42be918ce6d161cbde\", element=\"c66513b1-30a1-499f-8f71-a1467b9aa636\")>,\n",
       " <selenium.webdriver.remote.webelement.WebElement (session=\"82d41daf39f8ad42be918ce6d161cbde\", element=\"b4c26ac7-2b1d-4158-8569-aaec431c81c6\")>,\n",
       " <selenium.webdriver.remote.webelement.WebElement (session=\"82d41daf39f8ad42be918ce6d161cbde\", element=\"f38dd502-54e1-48e7-9eb9-1e306c6d5ba1\")>,\n",
       " <selenium.webdriver.remote.webelement.WebElement (session=\"82d41daf39f8ad42be918ce6d161cbde\", element=\"e130323a-6eef-439f-94c4-a8981874d897\")>,\n",
       " <selenium.webdriver.remote.webelement.WebElement (session=\"82d41daf39f8ad42be918ce6d161cbde\", element=\"2b3941c5-8a9d-4f93-87cd-4e8ebf3074fc\")>,\n",
       " <selenium.webdriver.remote.webelement.WebElement (session=\"82d41daf39f8ad42be918ce6d161cbde\", element=\"a9b96cdf-4598-47d8-ba3b-7270b315cc7e\")>,\n",
       " <selenium.webdriver.remote.webelement.WebElement (session=\"82d41daf39f8ad42be918ce6d161cbde\", element=\"105a4062-62ae-4dd9-8032-502cf0eff15b\")>,\n",
       " <selenium.webdriver.remote.webelement.WebElement (session=\"82d41daf39f8ad42be918ce6d161cbde\", element=\"24ae9dc4-09bc-4e0b-91fa-4137113f1cd4\")>,\n",
       " <selenium.webdriver.remote.webelement.WebElement (session=\"82d41daf39f8ad42be918ce6d161cbde\", element=\"794bf59c-bcab-40c1-8859-aed7567511a7\")>,\n",
       " <selenium.webdriver.remote.webelement.WebElement (session=\"82d41daf39f8ad42be918ce6d161cbde\", element=\"8f842eba-5120-4279-81bc-3a7dbe5b5eab\")>,\n",
       " <selenium.webdriver.remote.webelement.WebElement (session=\"82d41daf39f8ad42be918ce6d161cbde\", element=\"7467996f-2595-48ef-88cd-459a349b329e\")>,\n",
       " <selenium.webdriver.remote.webelement.WebElement (session=\"82d41daf39f8ad42be918ce6d161cbde\", element=\"aaa70186-f52f-44d8-aadc-b135540a9003\")>,\n",
       " <selenium.webdriver.remote.webelement.WebElement (session=\"82d41daf39f8ad42be918ce6d161cbde\", element=\"d2401086-11ad-4125-a322-0e86b34a02ee\")>,\n",
       " <selenium.webdriver.remote.webelement.WebElement (session=\"82d41daf39f8ad42be918ce6d161cbde\", element=\"f64805a7-9142-4bb6-8df0-91c363063e8e\")>,\n",
       " <selenium.webdriver.remote.webelement.WebElement (session=\"82d41daf39f8ad42be918ce6d161cbde\", element=\"ab8f50e7-8bc7-4f9e-b9e7-5c7eec0427f0\")>,\n",
       " <selenium.webdriver.remote.webelement.WebElement (session=\"82d41daf39f8ad42be918ce6d161cbde\", element=\"0fd20cf0-0321-4ddf-b0c4-6fa7b30fcfec\")>,\n",
       " <selenium.webdriver.remote.webelement.WebElement (session=\"82d41daf39f8ad42be918ce6d161cbde\", element=\"23f95f80-aa3a-476e-bc9c-693125c335fd\")>,\n",
       " <selenium.webdriver.remote.webelement.WebElement (session=\"82d41daf39f8ad42be918ce6d161cbde\", element=\"4de1e04c-9eb9-4fad-9206-57b246933e22\")>,\n",
       " <selenium.webdriver.remote.webelement.WebElement (session=\"82d41daf39f8ad42be918ce6d161cbde\", element=\"a24a025a-1d38-41a6-be78-23aa9de21331\")>,\n",
       " <selenium.webdriver.remote.webelement.WebElement (session=\"82d41daf39f8ad42be918ce6d161cbde\", element=\"c77d7601-3b7f-49a5-ac27-061f80f0997f\")>,\n",
       " <selenium.webdriver.remote.webelement.WebElement (session=\"82d41daf39f8ad42be918ce6d161cbde\", element=\"6e722632-f050-45cd-93c2-543b2efd84e3\")>,\n",
       " <selenium.webdriver.remote.webelement.WebElement (session=\"82d41daf39f8ad42be918ce6d161cbde\", element=\"7d673cdf-886e-42ab-8ad0-3fa6e1775786\")>,\n",
       " <selenium.webdriver.remote.webelement.WebElement (session=\"82d41daf39f8ad42be918ce6d161cbde\", element=\"b940d9bc-9916-4422-9bdf-9d33f978443e\")>,\n",
       " <selenium.webdriver.remote.webelement.WebElement (session=\"82d41daf39f8ad42be918ce6d161cbde\", element=\"4cb98cec-ff39-4792-9364-beb3059e3649\")>,\n",
       " <selenium.webdriver.remote.webelement.WebElement (session=\"82d41daf39f8ad42be918ce6d161cbde\", element=\"013c58cb-8c1b-4f37-a0bb-26c2bc363381\")>,\n",
       " <selenium.webdriver.remote.webelement.WebElement (session=\"82d41daf39f8ad42be918ce6d161cbde\", element=\"ab834c3e-18a1-4e55-be2a-7536e10604c6\")>,\n",
       " <selenium.webdriver.remote.webelement.WebElement (session=\"82d41daf39f8ad42be918ce6d161cbde\", element=\"e60ae970-1549-4e45-8c9f-ef3c91c71acc\")>,\n",
       " <selenium.webdriver.remote.webelement.WebElement (session=\"82d41daf39f8ad42be918ce6d161cbde\", element=\"359bfe0d-2e4f-447f-9e71-751dc81495c7\")>,\n",
       " <selenium.webdriver.remote.webelement.WebElement (session=\"82d41daf39f8ad42be918ce6d161cbde\", element=\"ec7b0374-ddbc-4740-bb66-1ed1c3c5f1ed\")>,\n",
       " <selenium.webdriver.remote.webelement.WebElement (session=\"82d41daf39f8ad42be918ce6d161cbde\", element=\"db224f41-1dc7-4da0-bbda-1dc267d7e525\")>,\n",
       " <selenium.webdriver.remote.webelement.WebElement (session=\"82d41daf39f8ad42be918ce6d161cbde\", element=\"143cf81a-2310-42d7-aabe-ccdf31c03136\")>,\n",
       " <selenium.webdriver.remote.webelement.WebElement (session=\"82d41daf39f8ad42be918ce6d161cbde\", element=\"626fa6c1-f329-494d-ba17-2ced090b74d6\")>,\n",
       " <selenium.webdriver.remote.webelement.WebElement (session=\"82d41daf39f8ad42be918ce6d161cbde\", element=\"ed8bb281-b835-43d7-929e-5c63e658c74b\")>,\n",
       " <selenium.webdriver.remote.webelement.WebElement (session=\"82d41daf39f8ad42be918ce6d161cbde\", element=\"7b1199c0-4f5f-45bf-8ede-7960d4fd0502\")>,\n",
       " <selenium.webdriver.remote.webelement.WebElement (session=\"82d41daf39f8ad42be918ce6d161cbde\", element=\"0847c0c8-d1eb-4add-aa1c-5b00d67ba594\")>,\n",
       " <selenium.webdriver.remote.webelement.WebElement (session=\"82d41daf39f8ad42be918ce6d161cbde\", element=\"5014a8a0-eeea-469d-bf88-95dfe2432c36\")>,\n",
       " <selenium.webdriver.remote.webelement.WebElement (session=\"82d41daf39f8ad42be918ce6d161cbde\", element=\"b85354cd-f72f-4dae-b13c-6339b02da2a8\")>,\n",
       " <selenium.webdriver.remote.webelement.WebElement (session=\"82d41daf39f8ad42be918ce6d161cbde\", element=\"8c844fa7-e195-497c-bbd0-1be83a3fe812\")>,\n",
       " <selenium.webdriver.remote.webelement.WebElement (session=\"82d41daf39f8ad42be918ce6d161cbde\", element=\"82449178-4271-4d59-9465-76a80de275e8\")>,\n",
       " <selenium.webdriver.remote.webelement.WebElement (session=\"82d41daf39f8ad42be918ce6d161cbde\", element=\"37d6b9c2-b77f-44ef-b7d6-6f685a5bf2e1\")>,\n",
       " <selenium.webdriver.remote.webelement.WebElement (session=\"82d41daf39f8ad42be918ce6d161cbde\", element=\"feabe1df-77d9-4d63-a451-ccb322cfb900\")>,\n",
       " <selenium.webdriver.remote.webelement.WebElement (session=\"82d41daf39f8ad42be918ce6d161cbde\", element=\"8d050647-1c9b-4a75-9e0b-03fce94ecb46\")>,\n",
       " <selenium.webdriver.remote.webelement.WebElement (session=\"82d41daf39f8ad42be918ce6d161cbde\", element=\"6eb222ea-6018-4a9e-ab68-80abf2201e63\")>,\n",
       " <selenium.webdriver.remote.webelement.WebElement (session=\"82d41daf39f8ad42be918ce6d161cbde\", element=\"5093725f-0abe-4bd9-b473-79936e0ae794\")>,\n",
       " <selenium.webdriver.remote.webelement.WebElement (session=\"82d41daf39f8ad42be918ce6d161cbde\", element=\"7c593ec8-fe01-491f-837e-7a9b617446a4\")>,\n",
       " <selenium.webdriver.remote.webelement.WebElement (session=\"82d41daf39f8ad42be918ce6d161cbde\", element=\"4ea92f67-f7bd-46ea-b740-86ed662c98cd\")>,\n",
       " <selenium.webdriver.remote.webelement.WebElement (session=\"82d41daf39f8ad42be918ce6d161cbde\", element=\"0eac84e5-37ec-4e39-9a59-9a769402ed40\")>,\n",
       " <selenium.webdriver.remote.webelement.WebElement (session=\"82d41daf39f8ad42be918ce6d161cbde\", element=\"799af918-eb1c-4c03-89f6-af264dc24744\")>,\n",
       " <selenium.webdriver.remote.webelement.WebElement (session=\"82d41daf39f8ad42be918ce6d161cbde\", element=\"36c9d52b-7637-4fc4-886d-f22f2472649d\")>,\n",
       " <selenium.webdriver.remote.webelement.WebElement (session=\"82d41daf39f8ad42be918ce6d161cbde\", element=\"2a98ad5c-d09f-4163-80c5-cf1fbe124243\")>,\n",
       " <selenium.webdriver.remote.webelement.WebElement (session=\"82d41daf39f8ad42be918ce6d161cbde\", element=\"bb72b443-3d56-41dd-abdf-2f868a00d350\")>,\n",
       " <selenium.webdriver.remote.webelement.WebElement (session=\"82d41daf39f8ad42be918ce6d161cbde\", element=\"419186f9-44db-49ae-8d94-1e5103855d40\")>,\n",
       " <selenium.webdriver.remote.webelement.WebElement (session=\"82d41daf39f8ad42be918ce6d161cbde\", element=\"1d31ae40-90de-4ce5-8bf6-2f78f33d854f\")>,\n",
       " <selenium.webdriver.remote.webelement.WebElement (session=\"82d41daf39f8ad42be918ce6d161cbde\", element=\"eddb6574-87d1-42e9-ae88-d6e9dae35028\")>,\n",
       " <selenium.webdriver.remote.webelement.WebElement (session=\"82d41daf39f8ad42be918ce6d161cbde\", element=\"15234570-7bfd-4636-9327-31a56c9a1c53\")>,\n",
       " <selenium.webdriver.remote.webelement.WebElement (session=\"82d41daf39f8ad42be918ce6d161cbde\", element=\"ca34ceec-dad6-4ef2-83b8-7558d4c4031d\")>,\n",
       " <selenium.webdriver.remote.webelement.WebElement (session=\"82d41daf39f8ad42be918ce6d161cbde\", element=\"380e46fa-76ec-43b6-b337-6fd5745199f7\")>,\n",
       " <selenium.webdriver.remote.webelement.WebElement (session=\"82d41daf39f8ad42be918ce6d161cbde\", element=\"01e7ada6-99d4-48e0-93a2-67a0ae3843cd\")>,\n",
       " <selenium.webdriver.remote.webelement.WebElement (session=\"82d41daf39f8ad42be918ce6d161cbde\", element=\"9eaf2eab-e530-4415-87a2-345674d816f5\")>,\n",
       " <selenium.webdriver.remote.webelement.WebElement (session=\"82d41daf39f8ad42be918ce6d161cbde\", element=\"fbbc2b4a-a45e-42f2-b09b-491a0bccf593\")>,\n",
       " <selenium.webdriver.remote.webelement.WebElement (session=\"82d41daf39f8ad42be918ce6d161cbde\", element=\"efdd1d46-d7c6-4993-b534-0deac9a48212\")>,\n",
       " <selenium.webdriver.remote.webelement.WebElement (session=\"82d41daf39f8ad42be918ce6d161cbde\", element=\"b0fcc5e5-3c6f-4631-a0fe-bfd86aa9a430\")>,\n",
       " <selenium.webdriver.remote.webelement.WebElement (session=\"82d41daf39f8ad42be918ce6d161cbde\", element=\"72fb59f8-fed8-46ac-a186-a38f9687718f\")>,\n",
       " <selenium.webdriver.remote.webelement.WebElement (session=\"82d41daf39f8ad42be918ce6d161cbde\", element=\"510eb7c9-ab9f-444a-b526-cc47081a0f9e\")>,\n",
       " <selenium.webdriver.remote.webelement.WebElement (session=\"82d41daf39f8ad42be918ce6d161cbde\", element=\"6165a100-3458-4f1f-9758-63e59d5c9502\")>,\n",
       " <selenium.webdriver.remote.webelement.WebElement (session=\"82d41daf39f8ad42be918ce6d161cbde\", element=\"2e884569-e352-4ad5-b22b-e4c22d3b0d97\")>,\n",
       " <selenium.webdriver.remote.webelement.WebElement (session=\"82d41daf39f8ad42be918ce6d161cbde\", element=\"7c37bf6c-a3e4-4410-8c45-7cfa9e9f3544\")>,\n",
       " <selenium.webdriver.remote.webelement.WebElement (session=\"82d41daf39f8ad42be918ce6d161cbde\", element=\"dcf9bd6c-af8a-4385-a265-869668674210\")>,\n",
       " <selenium.webdriver.remote.webelement.WebElement (session=\"82d41daf39f8ad42be918ce6d161cbde\", element=\"83697bbf-85a9-42cf-99d3-c7bfcdb5d5e5\")>,\n",
       " <selenium.webdriver.remote.webelement.WebElement (session=\"82d41daf39f8ad42be918ce6d161cbde\", element=\"78f18c14-b94a-4bf8-b8c8-a1b162f535c5\")>,\n",
       " <selenium.webdriver.remote.webelement.WebElement (session=\"82d41daf39f8ad42be918ce6d161cbde\", element=\"0bcfa5ee-4da7-46f8-a50f-bc70ba27549c\")>,\n",
       " <selenium.webdriver.remote.webelement.WebElement (session=\"82d41daf39f8ad42be918ce6d161cbde\", element=\"b7ce3d18-3e0b-4c63-a599-bbd82b2cc101\")>]"
      ]
     },
     "execution_count": 25,
     "metadata": {},
     "output_type": "execute_result"
    }
   ],
   "source": [
    "header2=browser.find_elements(\"xpath\",\"//div[@class='td-wrap-in']\")\n",
    "header2"
   ]
  },
  {
   "cell_type": "code",
   "execution_count": 26,
   "id": "d262a378",
   "metadata": {},
   "outputs": [
    {
     "data": {
      "text/plain": [
       "['89.5', '98', '97.2', '70.1', '81.1', '99.5', '98.9', '98.7', '54.3']"
      ]
     },
     "execution_count": 26,
     "metadata": {},
     "output_type": "execute_result"
    }
   ],
   "source": [
    "#PARSING DATA\n",
    "value_head=[]\n",
    "for data in header2:\n",
    "    #get the text data\n",
    "    temp=data.text\n",
    "    value_head.append(temp)\n",
    "value_head=value_head[41:50]\n",
    "value_head\n"
   ]
  },
  {
   "cell_type": "code",
   "execution_count": 27,
   "id": "78febc57",
   "metadata": {},
   "outputs": [
    {
     "data": {
      "text/plain": [
       "{'Overall Score': '89.5',\n",
       " 'Academic Reputation': '98',\n",
       " 'Employer Reputation': '97.2',\n",
       " 'Citations per Faculty': '70.1',\n",
       " 'Faculty Student Ratio': '81.1',\n",
       " 'International Students Ratio': '99.5',\n",
       " 'International Faculty Ratio': '98.9',\n",
       " 'International Research Network\\nUnweighted': '98.7',\n",
       " 'Employment Outcomes\\nUnweighted': '54.3'}"
      ]
     },
     "execution_count": 27,
     "metadata": {},
     "output_type": "execute_result"
    }
   ],
   "source": [
    "d={}\n",
    "for i in range(len(column_head)):\n",
    "    d[column_head[i]]=value_head[i]\n",
    "d"
   ]
  },
  {
   "cell_type": "code",
   "execution_count": 28,
   "id": "1b869fa4",
   "metadata": {},
   "outputs": [
    {
     "data": {
      "text/plain": [
       "'{\"Overall Score\": \"89.5\", \"Academic Reputation\": \"98\", \"Employer Reputation\": \"97.2\", \"Citations per Faculty\": \"70.1\", \"Faculty Student Ratio\": \"81.1\", \"International Students Ratio\": \"99.5\", \"International Faculty Ratio\": \"98.9\", \"International Research Network\\\\nUnweighted\": \"98.7\", \"Employment Outcomes\\\\nUnweighted\": \"54.3\"}'"
      ]
     },
     "execution_count": 28,
     "metadata": {},
     "output_type": "execute_result"
    }
   ],
   "source": [
    "s1=json.dumps(d)\n",
    "s1"
   ]
  },
  {
   "cell_type": "code",
   "execution_count": 29,
   "id": "ab6121f9",
   "metadata": {},
   "outputs": [],
   "source": [
    "with open('The University of Edinburgh.json','w') as f:\n",
    "    json.dump(d,f)"
   ]
  }
 ],
 "metadata": {
  "kernelspec": {
   "display_name": "Python 3 (ipykernel)",
   "language": "python",
   "name": "python3"
  },
  "language_info": {
   "codemirror_mode": {
    "name": "ipython",
    "version": 3
   },
   "file_extension": ".py",
   "mimetype": "text/x-python",
   "name": "python",
   "nbconvert_exporter": "python",
   "pygments_lexer": "ipython3",
   "version": "3.9.12"
  }
 },
 "nbformat": 4,
 "nbformat_minor": 5
}
