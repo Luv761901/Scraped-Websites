{
 "cells": [
  {
   "cell_type": "code",
   "execution_count": 1,
   "id": "6a00ad64",
   "metadata": {},
   "outputs": [],
   "source": [
    "from selenium import webdriver\n",
    "from selenium.webdriver.chrome.service import Service\n",
    "import pandas as pd\n",
    "import json"
   ]
  },
  {
   "cell_type": "code",
   "execution_count": 2,
   "id": "e81877dc",
   "metadata": {},
   "outputs": [],
   "source": [
    "path = Service('C:\\chromedriver.exe')"
   ]
  },
  {
   "cell_type": "code",
   "execution_count": 3,
   "id": "28b4a2ca",
   "metadata": {},
   "outputs": [],
   "source": [
    "# set path for the driver\n",
    "browser = webdriver.Chrome(service = path)"
   ]
  },
  {
   "cell_type": "code",
   "execution_count": 4,
   "id": "aff209f2",
   "metadata": {},
   "outputs": [],
   "source": [
    "url = \"https://www.topuniversities.com/university-rankings/world-university-rankings/2023\""
   ]
  },
  {
   "cell_type": "code",
   "execution_count": 5,
   "id": "2cc134a7",
   "metadata": {},
   "outputs": [],
   "source": [
    "# open the page url ion chrome\n",
    "browser.get(url)"
   ]
  },
  {
   "cell_type": "code",
   "execution_count": 6,
   "id": "3f2bc783",
   "metadata": {},
   "outputs": [
    {
     "data": {
      "text/plain": [
       "[<selenium.webdriver.remote.webelement.WebElement (session=\"94f7d9db64115a80cf3ecba07d0b1a3a\", element=\"085fbd2d-211d-4503-95d9-22f87c66cc33\")>,\n",
       " <selenium.webdriver.remote.webelement.WebElement (session=\"94f7d9db64115a80cf3ecba07d0b1a3a\", element=\"4954d420-b5f7-4f9d-ba53-679c53e57fe2\")>,\n",
       " <selenium.webdriver.remote.webelement.WebElement (session=\"94f7d9db64115a80cf3ecba07d0b1a3a\", element=\"9524c981-9fff-41b7-8401-ae91f8b34662\")>,\n",
       " <selenium.webdriver.remote.webelement.WebElement (session=\"94f7d9db64115a80cf3ecba07d0b1a3a\", element=\"692ce3ac-97f5-4d0a-8d53-2a91d6a72032\")>,\n",
       " <selenium.webdriver.remote.webelement.WebElement (session=\"94f7d9db64115a80cf3ecba07d0b1a3a\", element=\"df2d426c-4234-41a0-b3fd-21e098a9ab53\")>,\n",
       " <selenium.webdriver.remote.webelement.WebElement (session=\"94f7d9db64115a80cf3ecba07d0b1a3a\", element=\"40567966-d364-4040-8b4e-24edc6467e13\")>,\n",
       " <selenium.webdriver.remote.webelement.WebElement (session=\"94f7d9db64115a80cf3ecba07d0b1a3a\", element=\"77987a62-87f4-47ab-adc5-705d912e9cbb\")>,\n",
       " <selenium.webdriver.remote.webelement.WebElement (session=\"94f7d9db64115a80cf3ecba07d0b1a3a\", element=\"944ad243-dcd6-4591-83bc-d071a2e5058e\")>,\n",
       " <selenium.webdriver.remote.webelement.WebElement (session=\"94f7d9db64115a80cf3ecba07d0b1a3a\", element=\"efdbee4f-aaf6-42d4-98e5-457687ad1ae8\")>,\n",
       " <selenium.webdriver.remote.webelement.WebElement (session=\"94f7d9db64115a80cf3ecba07d0b1a3a\", element=\"846098d3-73a7-4448-a315-86dd073a1c48\")>,\n",
       " <selenium.webdriver.remote.webelement.WebElement (session=\"94f7d9db64115a80cf3ecba07d0b1a3a\", element=\"fc2fb6f9-ed83-464b-a039-93ca21b0c2d6\")>,\n",
       " <selenium.webdriver.remote.webelement.WebElement (session=\"94f7d9db64115a80cf3ecba07d0b1a3a\", element=\"45242712-52a4-4612-a5d8-6920dd02cfc3\")>,\n",
       " <selenium.webdriver.remote.webelement.WebElement (session=\"94f7d9db64115a80cf3ecba07d0b1a3a\", element=\"6c8bb63a-18a8-4f3f-9ef5-f642ede6f638\")>,\n",
       " <selenium.webdriver.remote.webelement.WebElement (session=\"94f7d9db64115a80cf3ecba07d0b1a3a\", element=\"d4c64d31-cc60-4e03-ac5d-2f63ee2632cb\")>,\n",
       " <selenium.webdriver.remote.webelement.WebElement (session=\"94f7d9db64115a80cf3ecba07d0b1a3a\", element=\"4d297711-e2a3-4c79-a9b1-f3a5419b854c\")>,\n",
       " <selenium.webdriver.remote.webelement.WebElement (session=\"94f7d9db64115a80cf3ecba07d0b1a3a\", element=\"44dbea75-1279-42d9-872a-e87b1b8efcc7\")>,\n",
       " <selenium.webdriver.remote.webelement.WebElement (session=\"94f7d9db64115a80cf3ecba07d0b1a3a\", element=\"34c8dc55-af0b-4078-a420-b49edee2a7da\")>,\n",
       " <selenium.webdriver.remote.webelement.WebElement (session=\"94f7d9db64115a80cf3ecba07d0b1a3a\", element=\"c4f56c70-b440-4e4b-8b14-0c91d3fd2995\")>,\n",
       " <selenium.webdriver.remote.webelement.WebElement (session=\"94f7d9db64115a80cf3ecba07d0b1a3a\", element=\"1dcc6fda-bc99-45d9-8890-3a8fdc8896c9\")>,\n",
       " <selenium.webdriver.remote.webelement.WebElement (session=\"94f7d9db64115a80cf3ecba07d0b1a3a\", element=\"90812cd3-f736-4226-8883-a30644dd36b8\")>]"
      ]
     },
     "execution_count": 6,
     "metadata": {},
     "output_type": "execute_result"
    }
   ],
   "source": [
    "l1=browser.find_elements(\"xpath\",\"//div[@class='location ']\")\n",
    "l1"
   ]
  },
  {
   "cell_type": "code",
   "execution_count": 7,
   "id": "ec942c57",
   "metadata": {},
   "outputs": [
    {
     "data": {
      "text/plain": [
       "['Singapore, Singapore',\n",
       " 'Beijing, China (Mainland)',\n",
       " 'Philadelphia, United States',\n",
       " 'Beijing, China (Mainland)',\n",
       " 'Edinburgh, United Kingdom',\n",
       " 'Lausanne, Switzerland',\n",
       " 'Princeton, United States',\n",
       " 'New Haven, United States',\n",
       " 'Singapore, Singapore',\n",
       " 'Ithaca, United States']"
      ]
     },
     "execution_count": 7,
     "metadata": {},
     "output_type": "execute_result"
    }
   ],
   "source": [
    "loc=[]\n",
    "for data in l1:\n",
    "    #get the text data\n",
    "    temp=data.text\n",
    "    loc.append(temp)\n",
    "loc=loc[10:]\n",
    "loc"
   ]
  },
  {
   "cell_type": "code",
   "execution_count": 8,
   "id": "16211be8",
   "metadata": {},
   "outputs": [
    {
     "data": {
      "text/plain": [
       "[<selenium.webdriver.remote.webelement.WebElement (session=\"94f7d9db64115a80cf3ecba07d0b1a3a\", element=\"34ba016b-a92b-441c-8ffd-0ac2718faf2e\")>,\n",
       " <selenium.webdriver.remote.webelement.WebElement (session=\"94f7d9db64115a80cf3ecba07d0b1a3a\", element=\"98724037-3b17-4b49-87af-e1da3f734b60\")>,\n",
       " <selenium.webdriver.remote.webelement.WebElement (session=\"94f7d9db64115a80cf3ecba07d0b1a3a\", element=\"3d87c45e-4523-41e5-9294-9ffac2b4d80e\")>,\n",
       " <selenium.webdriver.remote.webelement.WebElement (session=\"94f7d9db64115a80cf3ecba07d0b1a3a\", element=\"dc3c9f49-d0e0-471e-90d3-c4c626a58771\")>,\n",
       " <selenium.webdriver.remote.webelement.WebElement (session=\"94f7d9db64115a80cf3ecba07d0b1a3a\", element=\"7026979b-e1a6-4228-9027-f242fd8db0d1\")>,\n",
       " <selenium.webdriver.remote.webelement.WebElement (session=\"94f7d9db64115a80cf3ecba07d0b1a3a\", element=\"dd823255-4278-4f83-9db5-da1e6ae18eeb\")>,\n",
       " <selenium.webdriver.remote.webelement.WebElement (session=\"94f7d9db64115a80cf3ecba07d0b1a3a\", element=\"9e04f7a7-bcc1-4378-a217-72212182bd51\")>,\n",
       " <selenium.webdriver.remote.webelement.WebElement (session=\"94f7d9db64115a80cf3ecba07d0b1a3a\", element=\"5df46336-61b6-48d8-ac33-89e69f7a7260\")>,\n",
       " <selenium.webdriver.remote.webelement.WebElement (session=\"94f7d9db64115a80cf3ecba07d0b1a3a\", element=\"8851afd6-8456-4cc0-a2dc-c30e26522dd3\")>,\n",
       " <selenium.webdriver.remote.webelement.WebElement (session=\"94f7d9db64115a80cf3ecba07d0b1a3a\", element=\"c8c54bc1-c6c7-4ade-ad5a-b2fac9023049\")>]"
      ]
     },
     "execution_count": 8,
     "metadata": {},
     "output_type": "execute_result"
    }
   ],
   "source": [
    "l2=browser.find_elements(\"xpath\",\"//div[@class='_univ-rank ']\")\n",
    "l2"
   ]
  },
  {
   "cell_type": "code",
   "execution_count": 9,
   "id": "1ecad57a",
   "metadata": {},
   "outputs": [
    {
     "data": {
      "text/plain": [
       "['11', '12', '13', '14', '15', '=16', '=16', '18', '19', '20']"
      ]
     },
     "execution_count": 9,
     "metadata": {},
     "output_type": "execute_result"
    }
   ],
   "source": [
    "RANK=[]\n",
    "for data in l2:\n",
    "    #get the text data\n",
    "    temp=data.text\n",
    "    RANK.append(temp)\n",
    "RANK"
   ]
  },
  {
   "cell_type": "code",
   "execution_count": 10,
   "id": "36f70a57",
   "metadata": {},
   "outputs": [
    {
     "data": {
      "text/plain": [
       "[<selenium.webdriver.remote.webelement.WebElement (session=\"94f7d9db64115a80cf3ecba07d0b1a3a\", element=\"944d7a93-522b-4c8e-ba11-8262bf1a45fe\")>,\n",
       " <selenium.webdriver.remote.webelement.WebElement (session=\"94f7d9db64115a80cf3ecba07d0b1a3a\", element=\"d1a227a7-5547-459c-87e9-fbdfdaa08c91\")>,\n",
       " <selenium.webdriver.remote.webelement.WebElement (session=\"94f7d9db64115a80cf3ecba07d0b1a3a\", element=\"3edb731d-500a-4e66-8f13-6bcc65b30343\")>,\n",
       " <selenium.webdriver.remote.webelement.WebElement (session=\"94f7d9db64115a80cf3ecba07d0b1a3a\", element=\"41d50d02-33d3-47f4-861d-1fde30561f8f\")>,\n",
       " <selenium.webdriver.remote.webelement.WebElement (session=\"94f7d9db64115a80cf3ecba07d0b1a3a\", element=\"e5a383e2-d276-4c4d-8c12-8c089785d9cf\")>,\n",
       " <selenium.webdriver.remote.webelement.WebElement (session=\"94f7d9db64115a80cf3ecba07d0b1a3a\", element=\"a8858f02-76d4-4d1f-abe2-eefdb99b5b43\")>,\n",
       " <selenium.webdriver.remote.webelement.WebElement (session=\"94f7d9db64115a80cf3ecba07d0b1a3a\", element=\"7e2f5338-5b59-4c4f-985a-b1c81c5fdd98\")>,\n",
       " <selenium.webdriver.remote.webelement.WebElement (session=\"94f7d9db64115a80cf3ecba07d0b1a3a\", element=\"da308e42-2f31-4fe5-bf27-86f66b2c690f\")>,\n",
       " <selenium.webdriver.remote.webelement.WebElement (session=\"94f7d9db64115a80cf3ecba07d0b1a3a\", element=\"f6e22fad-7f24-4549-85d6-e11cd27ab885\")>]"
      ]
     },
     "execution_count": 10,
     "metadata": {},
     "output_type": "execute_result"
    }
   ],
   "source": [
    "# GET EACH COLLEGE SPECIFICATION HEADERS\n",
    "header=browser.find_elements(\"xpath\",\"//div[@class='_click-function_ind']\")\n",
    "header"
   ]
  },
  {
   "cell_type": "code",
   "execution_count": 11,
   "id": "e2eeafe7",
   "metadata": {},
   "outputs": [
    {
     "data": {
      "text/plain": [
       "['Overall Score',\n",
       " 'Academic Reputation',\n",
       " 'Employer Reputation',\n",
       " 'Citations per Faculty',\n",
       " 'Faculty Student Ratio',\n",
       " 'International Students Ratio',\n",
       " 'International Faculty Ratio',\n",
       " 'International Research Network\\nUnweighted',\n",
       " 'Employment Outcomes\\nUnweighted']"
      ]
     },
     "execution_count": 11,
     "metadata": {},
     "output_type": "execute_result"
    }
   ],
   "source": [
    "#PARSING DATA\n",
    "column_head=[]\n",
    "for data in header:\n",
    "    #get the text data\n",
    "    temp=data.text\n",
    "    column_head.append(temp)\n",
    "column_head"
   ]
  },
  {
   "cell_type": "code",
   "execution_count": 12,
   "id": "b084acb6",
   "metadata": {},
   "outputs": [
    {
     "data": {
      "text/plain": [
       "[<selenium.webdriver.remote.webelement.WebElement (session=\"94f7d9db64115a80cf3ecba07d0b1a3a\", element=\"d45aad9c-56d7-42d3-99ff-866e7afb3e43\")>,\n",
       " <selenium.webdriver.remote.webelement.WebElement (session=\"94f7d9db64115a80cf3ecba07d0b1a3a\", element=\"50b9a64a-7534-46bf-89b4-174dc14c7837\")>,\n",
       " <selenium.webdriver.remote.webelement.WebElement (session=\"94f7d9db64115a80cf3ecba07d0b1a3a\", element=\"2cffc670-517b-4fd8-b316-346e831de62d\")>,\n",
       " <selenium.webdriver.remote.webelement.WebElement (session=\"94f7d9db64115a80cf3ecba07d0b1a3a\", element=\"92c3ab2f-0e76-4ee0-94bb-6c1c7edcb1f1\")>,\n",
       " <selenium.webdriver.remote.webelement.WebElement (session=\"94f7d9db64115a80cf3ecba07d0b1a3a\", element=\"c410a704-cba7-47d3-a5ba-f3361ce13dec\")>,\n",
       " <selenium.webdriver.remote.webelement.WebElement (session=\"94f7d9db64115a80cf3ecba07d0b1a3a\", element=\"63a75eb3-9d61-400e-89cf-c1b136b4bba6\")>,\n",
       " <selenium.webdriver.remote.webelement.WebElement (session=\"94f7d9db64115a80cf3ecba07d0b1a3a\", element=\"efaa5023-08b1-4412-8f3f-fb6828ac21ad\")>,\n",
       " <selenium.webdriver.remote.webelement.WebElement (session=\"94f7d9db64115a80cf3ecba07d0b1a3a\", element=\"9de1fa6d-2c96-440d-9547-b80206ad944d\")>,\n",
       " <selenium.webdriver.remote.webelement.WebElement (session=\"94f7d9db64115a80cf3ecba07d0b1a3a\", element=\"10b3415d-f0f8-4146-992e-4a7ec2d3b747\")>,\n",
       " <selenium.webdriver.remote.webelement.WebElement (session=\"94f7d9db64115a80cf3ecba07d0b1a3a\", element=\"f693122c-96fc-408b-becb-41fec3a0e3f8\")>,\n",
       " <selenium.webdriver.remote.webelement.WebElement (session=\"94f7d9db64115a80cf3ecba07d0b1a3a\", element=\"bb82ff1e-9e83-4135-81e2-6d26e17d8fe5\")>,\n",
       " <selenium.webdriver.remote.webelement.WebElement (session=\"94f7d9db64115a80cf3ecba07d0b1a3a\", element=\"f80b45b9-31d6-4727-ac02-1de54ab0862d\")>,\n",
       " <selenium.webdriver.remote.webelement.WebElement (session=\"94f7d9db64115a80cf3ecba07d0b1a3a\", element=\"1e6138cc-e9e9-452b-9220-ded44cc96967\")>,\n",
       " <selenium.webdriver.remote.webelement.WebElement (session=\"94f7d9db64115a80cf3ecba07d0b1a3a\", element=\"a1bbdde5-04fc-4d79-a941-78c746fc2ce3\")>,\n",
       " <selenium.webdriver.remote.webelement.WebElement (session=\"94f7d9db64115a80cf3ecba07d0b1a3a\", element=\"c1e6d0be-7415-4167-ad8d-ca20922c192b\")>,\n",
       " <selenium.webdriver.remote.webelement.WebElement (session=\"94f7d9db64115a80cf3ecba07d0b1a3a\", element=\"49ed32d8-8205-4662-a705-882c65fde8a5\")>,\n",
       " <selenium.webdriver.remote.webelement.WebElement (session=\"94f7d9db64115a80cf3ecba07d0b1a3a\", element=\"3de25782-b1f2-432b-9b1f-ef972a95c821\")>,\n",
       " <selenium.webdriver.remote.webelement.WebElement (session=\"94f7d9db64115a80cf3ecba07d0b1a3a\", element=\"83c2699b-a039-4785-9456-ba28056c155c\")>,\n",
       " <selenium.webdriver.remote.webelement.WebElement (session=\"94f7d9db64115a80cf3ecba07d0b1a3a\", element=\"ec9b40d6-a4d8-4d6c-8a97-e892611ab6bc\")>,\n",
       " <selenium.webdriver.remote.webelement.WebElement (session=\"94f7d9db64115a80cf3ecba07d0b1a3a\", element=\"04639ca1-62f0-48bb-9011-b72f1afa7e40\")>,\n",
       " <selenium.webdriver.remote.webelement.WebElement (session=\"94f7d9db64115a80cf3ecba07d0b1a3a\", element=\"473d227f-2044-437b-ab7d-de2749b266c4\")>,\n",
       " <selenium.webdriver.remote.webelement.WebElement (session=\"94f7d9db64115a80cf3ecba07d0b1a3a\", element=\"42765b0a-8f0c-46cb-849d-3fb8abff75e0\")>,\n",
       " <selenium.webdriver.remote.webelement.WebElement (session=\"94f7d9db64115a80cf3ecba07d0b1a3a\", element=\"c191c662-7d26-4440-ac00-27fd362dd6f4\")>,\n",
       " <selenium.webdriver.remote.webelement.WebElement (session=\"94f7d9db64115a80cf3ecba07d0b1a3a\", element=\"2a08f505-1e99-46a0-bd0c-57e228f69fd8\")>,\n",
       " <selenium.webdriver.remote.webelement.WebElement (session=\"94f7d9db64115a80cf3ecba07d0b1a3a\", element=\"2dbff34e-68f9-477b-a064-337dfb24a696\")>,\n",
       " <selenium.webdriver.remote.webelement.WebElement (session=\"94f7d9db64115a80cf3ecba07d0b1a3a\", element=\"da9b1a74-e289-4363-9243-3089513b10b6\")>,\n",
       " <selenium.webdriver.remote.webelement.WebElement (session=\"94f7d9db64115a80cf3ecba07d0b1a3a\", element=\"77f99883-9821-4560-a2e7-ee5a422c1baa\")>,\n",
       " <selenium.webdriver.remote.webelement.WebElement (session=\"94f7d9db64115a80cf3ecba07d0b1a3a\", element=\"03b2266a-cc60-420a-8301-e1a7edac8698\")>,\n",
       " <selenium.webdriver.remote.webelement.WebElement (session=\"94f7d9db64115a80cf3ecba07d0b1a3a\", element=\"72594929-5bd6-4db1-86a6-39ca8f56e43b\")>,\n",
       " <selenium.webdriver.remote.webelement.WebElement (session=\"94f7d9db64115a80cf3ecba07d0b1a3a\", element=\"0e5a3b82-c4c2-470a-b748-58af7549fdd1\")>,\n",
       " <selenium.webdriver.remote.webelement.WebElement (session=\"94f7d9db64115a80cf3ecba07d0b1a3a\", element=\"6f865b81-4b64-450e-a7d7-d564043a0059\")>,\n",
       " <selenium.webdriver.remote.webelement.WebElement (session=\"94f7d9db64115a80cf3ecba07d0b1a3a\", element=\"bcad6119-d298-4350-8c13-9c2cef0e6dc3\")>,\n",
       " <selenium.webdriver.remote.webelement.WebElement (session=\"94f7d9db64115a80cf3ecba07d0b1a3a\", element=\"a82b0973-e01e-47c1-bb35-70ad8932d082\")>,\n",
       " <selenium.webdriver.remote.webelement.WebElement (session=\"94f7d9db64115a80cf3ecba07d0b1a3a\", element=\"2abcff5e-4301-46a9-b7bb-66c7bdfcc136\")>,\n",
       " <selenium.webdriver.remote.webelement.WebElement (session=\"94f7d9db64115a80cf3ecba07d0b1a3a\", element=\"e8afeec7-d88e-47b3-8b89-c39858e15508\")>,\n",
       " <selenium.webdriver.remote.webelement.WebElement (session=\"94f7d9db64115a80cf3ecba07d0b1a3a\", element=\"9cb2b81e-df3e-4b88-bb14-00fbbc8b908a\")>,\n",
       " <selenium.webdriver.remote.webelement.WebElement (session=\"94f7d9db64115a80cf3ecba07d0b1a3a\", element=\"0b561316-8568-4b45-8f68-b5060f086d0b\")>,\n",
       " <selenium.webdriver.remote.webelement.WebElement (session=\"94f7d9db64115a80cf3ecba07d0b1a3a\", element=\"7a3407fc-e0eb-47bf-b670-5531dbeba20d\")>,\n",
       " <selenium.webdriver.remote.webelement.WebElement (session=\"94f7d9db64115a80cf3ecba07d0b1a3a\", element=\"82c179db-20d7-48ef-8141-9bf653c97f4f\")>,\n",
       " <selenium.webdriver.remote.webelement.WebElement (session=\"94f7d9db64115a80cf3ecba07d0b1a3a\", element=\"296517a1-ea0a-4c5e-93e1-bfa1d141ffab\")>,\n",
       " <selenium.webdriver.remote.webelement.WebElement (session=\"94f7d9db64115a80cf3ecba07d0b1a3a\", element=\"21536671-f50e-4c97-a1c6-457a02274706\")>,\n",
       " <selenium.webdriver.remote.webelement.WebElement (session=\"94f7d9db64115a80cf3ecba07d0b1a3a\", element=\"1f3fc710-d1e5-493f-bb81-53a0d2b0b8ee\")>,\n",
       " <selenium.webdriver.remote.webelement.WebElement (session=\"94f7d9db64115a80cf3ecba07d0b1a3a\", element=\"11456050-0b8c-4d27-a74d-82d494d55f41\")>,\n",
       " <selenium.webdriver.remote.webelement.WebElement (session=\"94f7d9db64115a80cf3ecba07d0b1a3a\", element=\"68ce5ef6-955d-4bc0-8980-683fef6c48a6\")>,\n",
       " <selenium.webdriver.remote.webelement.WebElement (session=\"94f7d9db64115a80cf3ecba07d0b1a3a\", element=\"5ad12da5-9aca-47f0-8f61-e03594da8d02\")>,\n",
       " <selenium.webdriver.remote.webelement.WebElement (session=\"94f7d9db64115a80cf3ecba07d0b1a3a\", element=\"b8078447-8fbe-43d8-9589-25ef5b0144be\")>,\n",
       " <selenium.webdriver.remote.webelement.WebElement (session=\"94f7d9db64115a80cf3ecba07d0b1a3a\", element=\"4f211b16-8727-4336-9d63-725f5e538ce0\")>,\n",
       " <selenium.webdriver.remote.webelement.WebElement (session=\"94f7d9db64115a80cf3ecba07d0b1a3a\", element=\"4ac2f1b2-2d57-46a5-a5dd-e11850f2d837\")>,\n",
       " <selenium.webdriver.remote.webelement.WebElement (session=\"94f7d9db64115a80cf3ecba07d0b1a3a\", element=\"fd9592f4-fa04-4e3a-aa88-3cb3c521becc\")>,\n",
       " <selenium.webdriver.remote.webelement.WebElement (session=\"94f7d9db64115a80cf3ecba07d0b1a3a\", element=\"15f2d4f6-92e0-4165-9071-cafdf2f5d5b4\")>,\n",
       " <selenium.webdriver.remote.webelement.WebElement (session=\"94f7d9db64115a80cf3ecba07d0b1a3a\", element=\"0aa0a2c8-f026-41fa-a7b8-70174559a139\")>,\n",
       " <selenium.webdriver.remote.webelement.WebElement (session=\"94f7d9db64115a80cf3ecba07d0b1a3a\", element=\"239e9a1a-8713-4454-b56e-01ada94fa256\")>,\n",
       " <selenium.webdriver.remote.webelement.WebElement (session=\"94f7d9db64115a80cf3ecba07d0b1a3a\", element=\"8c95cc31-fd15-4335-9157-8c8610095e4d\")>,\n",
       " <selenium.webdriver.remote.webelement.WebElement (session=\"94f7d9db64115a80cf3ecba07d0b1a3a\", element=\"06d32bdd-7aed-4490-906b-7aa6e748afff\")>,\n",
       " <selenium.webdriver.remote.webelement.WebElement (session=\"94f7d9db64115a80cf3ecba07d0b1a3a\", element=\"7c13c50f-98e7-443d-bfde-a0ecf9918abd\")>,\n",
       " <selenium.webdriver.remote.webelement.WebElement (session=\"94f7d9db64115a80cf3ecba07d0b1a3a\", element=\"af6a4c3f-0d2e-439d-8a24-590d848a972e\")>,\n",
       " <selenium.webdriver.remote.webelement.WebElement (session=\"94f7d9db64115a80cf3ecba07d0b1a3a\", element=\"efe63aff-982f-4faf-93d9-261196fcf380\")>,\n",
       " <selenium.webdriver.remote.webelement.WebElement (session=\"94f7d9db64115a80cf3ecba07d0b1a3a\", element=\"b768bb59-9063-4011-9494-0e01b02ef327\")>,\n",
       " <selenium.webdriver.remote.webelement.WebElement (session=\"94f7d9db64115a80cf3ecba07d0b1a3a\", element=\"9b8f1ea1-e9ac-4bd9-b7ab-8bb0f7a1f916\")>,\n",
       " <selenium.webdriver.remote.webelement.WebElement (session=\"94f7d9db64115a80cf3ecba07d0b1a3a\", element=\"262d9d70-2de4-4baf-998f-7e18a2c1bbbb\")>,\n",
       " <selenium.webdriver.remote.webelement.WebElement (session=\"94f7d9db64115a80cf3ecba07d0b1a3a\", element=\"9d4b43c9-ab96-487b-a341-3afa78ebe04a\")>,\n",
       " <selenium.webdriver.remote.webelement.WebElement (session=\"94f7d9db64115a80cf3ecba07d0b1a3a\", element=\"853d59ea-db2d-40ef-b912-c8aaf1c8e570\")>,\n",
       " <selenium.webdriver.remote.webelement.WebElement (session=\"94f7d9db64115a80cf3ecba07d0b1a3a\", element=\"f7b39596-2dff-4760-b4f1-ef9403a2eeb0\")>,\n",
       " <selenium.webdriver.remote.webelement.WebElement (session=\"94f7d9db64115a80cf3ecba07d0b1a3a\", element=\"d3ec43d2-2c30-41fc-b646-d9852bb9e5d5\")>,\n",
       " <selenium.webdriver.remote.webelement.WebElement (session=\"94f7d9db64115a80cf3ecba07d0b1a3a\", element=\"e95b70a6-954f-4070-93f4-3dd03b0a5f71\")>,\n",
       " <selenium.webdriver.remote.webelement.WebElement (session=\"94f7d9db64115a80cf3ecba07d0b1a3a\", element=\"6c670c40-c919-4835-a9ef-bf46c87a732f\")>,\n",
       " <selenium.webdriver.remote.webelement.WebElement (session=\"94f7d9db64115a80cf3ecba07d0b1a3a\", element=\"3508362d-f5a0-4506-a61e-f4e9f53b7b1b\")>,\n",
       " <selenium.webdriver.remote.webelement.WebElement (session=\"94f7d9db64115a80cf3ecba07d0b1a3a\", element=\"8f7dd30e-2288-4a16-819c-369333cb6198\")>,\n",
       " <selenium.webdriver.remote.webelement.WebElement (session=\"94f7d9db64115a80cf3ecba07d0b1a3a\", element=\"d2c6d2cc-36d1-4589-a446-a5d36a5a2d47\")>,\n",
       " <selenium.webdriver.remote.webelement.WebElement (session=\"94f7d9db64115a80cf3ecba07d0b1a3a\", element=\"3391c234-c25b-449e-bf9d-b9324883a083\")>,\n",
       " <selenium.webdriver.remote.webelement.WebElement (session=\"94f7d9db64115a80cf3ecba07d0b1a3a\", element=\"0b4c6398-10eb-4e7e-bb7e-59a797a80f51\")>,\n",
       " <selenium.webdriver.remote.webelement.WebElement (session=\"94f7d9db64115a80cf3ecba07d0b1a3a\", element=\"270ddb8f-ca8c-44f8-ae36-f472a30e8cb0\")>,\n",
       " <selenium.webdriver.remote.webelement.WebElement (session=\"94f7d9db64115a80cf3ecba07d0b1a3a\", element=\"37941dc1-4a5d-4d7a-a7f3-d7b69ef17091\")>,\n",
       " <selenium.webdriver.remote.webelement.WebElement (session=\"94f7d9db64115a80cf3ecba07d0b1a3a\", element=\"6010dfa0-eb75-4536-a474-3ed85e71884c\")>,\n",
       " <selenium.webdriver.remote.webelement.WebElement (session=\"94f7d9db64115a80cf3ecba07d0b1a3a\", element=\"67ea83fc-bd04-4629-9748-738d2a5dff31\")>,\n",
       " <selenium.webdriver.remote.webelement.WebElement (session=\"94f7d9db64115a80cf3ecba07d0b1a3a\", element=\"bb2dbc85-3471-43a7-9746-d5e6909952c0\")>,\n",
       " <selenium.webdriver.remote.webelement.WebElement (session=\"94f7d9db64115a80cf3ecba07d0b1a3a\", element=\"f9670e3e-60eb-47d8-94f9-291c84b43fad\")>,\n",
       " <selenium.webdriver.remote.webelement.WebElement (session=\"94f7d9db64115a80cf3ecba07d0b1a3a\", element=\"025386c3-624b-48d4-b8c1-e14037a1c2a3\")>,\n",
       " <selenium.webdriver.remote.webelement.WebElement (session=\"94f7d9db64115a80cf3ecba07d0b1a3a\", element=\"c60f78b2-c137-4e16-a6b5-8587b372171c\")>,\n",
       " <selenium.webdriver.remote.webelement.WebElement (session=\"94f7d9db64115a80cf3ecba07d0b1a3a\", element=\"37249227-9a87-42fe-af6a-db525090d511\")>,\n",
       " <selenium.webdriver.remote.webelement.WebElement (session=\"94f7d9db64115a80cf3ecba07d0b1a3a\", element=\"a49d7246-9388-4a2c-b77a-8b7e8cdb87aa\")>,\n",
       " <selenium.webdriver.remote.webelement.WebElement (session=\"94f7d9db64115a80cf3ecba07d0b1a3a\", element=\"c868cbd7-7ab6-43c6-8d28-78513f4d7f6b\")>,\n",
       " <selenium.webdriver.remote.webelement.WebElement (session=\"94f7d9db64115a80cf3ecba07d0b1a3a\", element=\"e084c220-7825-451b-8a01-2e9513041d4f\")>,\n",
       " <selenium.webdriver.remote.webelement.WebElement (session=\"94f7d9db64115a80cf3ecba07d0b1a3a\", element=\"1ccbce4d-8272-400d-a630-bd727e713247\")>,\n",
       " <selenium.webdriver.remote.webelement.WebElement (session=\"94f7d9db64115a80cf3ecba07d0b1a3a\", element=\"6d40db99-1e9f-41b8-8c04-71bf4bfff516\")>,\n",
       " <selenium.webdriver.remote.webelement.WebElement (session=\"94f7d9db64115a80cf3ecba07d0b1a3a\", element=\"a7fdd20c-ee68-436c-9f63-32907d1ed2b4\")>,\n",
       " <selenium.webdriver.remote.webelement.WebElement (session=\"94f7d9db64115a80cf3ecba07d0b1a3a\", element=\"a40d5a0b-2007-498d-914a-bc146dd7ec73\")>,\n",
       " <selenium.webdriver.remote.webelement.WebElement (session=\"94f7d9db64115a80cf3ecba07d0b1a3a\", element=\"191188e6-ad48-4c56-ab08-84f0e6d20efb\")>,\n",
       " <selenium.webdriver.remote.webelement.WebElement (session=\"94f7d9db64115a80cf3ecba07d0b1a3a\", element=\"56ade3ea-3cf4-4c15-b569-bfac7352efb1\")>,\n",
       " <selenium.webdriver.remote.webelement.WebElement (session=\"94f7d9db64115a80cf3ecba07d0b1a3a\", element=\"f1adcb31-d771-4bb6-8870-4282fda81719\")>,\n",
       " <selenium.webdriver.remote.webelement.WebElement (session=\"94f7d9db64115a80cf3ecba07d0b1a3a\", element=\"9f6d0264-2184-4eec-8b14-b802778f1cb3\")>,\n",
       " <selenium.webdriver.remote.webelement.WebElement (session=\"94f7d9db64115a80cf3ecba07d0b1a3a\", element=\"e647d3eb-2df2-4ddb-b8ea-06495b77a5bc\")>,\n",
       " <selenium.webdriver.remote.webelement.WebElement (session=\"94f7d9db64115a80cf3ecba07d0b1a3a\", element=\"d19abe3e-04ac-4380-bcb6-9392861481c4\")>,\n",
       " <selenium.webdriver.remote.webelement.WebElement (session=\"94f7d9db64115a80cf3ecba07d0b1a3a\", element=\"ba53eb03-41af-4a55-94b9-61bba529b1df\")>,\n",
       " <selenium.webdriver.remote.webelement.WebElement (session=\"94f7d9db64115a80cf3ecba07d0b1a3a\", element=\"d8f07171-ea1d-4a24-ade3-9d8dbc0978d9\")>,\n",
       " <selenium.webdriver.remote.webelement.WebElement (session=\"94f7d9db64115a80cf3ecba07d0b1a3a\", element=\"ee1c21b8-ec7d-4f52-b055-d2ade9e5739e\")>,\n",
       " <selenium.webdriver.remote.webelement.WebElement (session=\"94f7d9db64115a80cf3ecba07d0b1a3a\", element=\"76e8ef04-c5c9-46c0-9e22-73364d0ba7bf\")>,\n",
       " <selenium.webdriver.remote.webelement.WebElement (session=\"94f7d9db64115a80cf3ecba07d0b1a3a\", element=\"97668f0a-38c4-4b80-b2da-5f90cdfe6c90\")>,\n",
       " <selenium.webdriver.remote.webelement.WebElement (session=\"94f7d9db64115a80cf3ecba07d0b1a3a\", element=\"a0625311-b911-4c16-a186-7ccfa79987af\")>,\n",
       " <selenium.webdriver.remote.webelement.WebElement (session=\"94f7d9db64115a80cf3ecba07d0b1a3a\", element=\"7d827359-cba0-47fe-b633-a06da66293f8\")>]"
      ]
     },
     "execution_count": 12,
     "metadata": {},
     "output_type": "execute_result"
    }
   ],
   "source": [
    "header2=browser.find_elements(\"xpath\",\"//div[@class='td-wrap-in']\")\n",
    "header2"
   ]
  },
  {
   "cell_type": "code",
   "execution_count": 13,
   "id": "d262a378",
   "metadata": {},
   "outputs": [
    {
     "data": {
      "text/plain": [
       "['89.5', '98', '97.2', '70.1', '81.1', '99.5', '98.9', '98.7', '54.3']"
      ]
     },
     "execution_count": 13,
     "metadata": {},
     "output_type": "execute_result"
    }
   ],
   "source": [
    "#PARSING DATA\n",
    "value_head=[]\n",
    "for data in header2:\n",
    "    #get the text data\n",
    "    temp=data.text\n",
    "    value_head.append(temp)\n",
    "value=value_head[41:50]\n",
    "value\n"
   ]
  },
  {
   "cell_type": "code",
   "execution_count": 17,
   "id": "78febc57",
   "metadata": {},
   "outputs": [
    {
     "data": {
      "text/plain": [
       "{'Name': 'The University of Edinburgh',\n",
       " 'Location': 'Edinburgh, United Kingdom',\n",
       " 'Rank': '15',\n",
       " 'Overall Score': '89.5',\n",
       " 'Academic Reputation': '98',\n",
       " 'Employer Reputation': '97.2',\n",
       " 'Citations per Faculty': '70.1',\n",
       " 'Faculty Student Ratio': '81.1',\n",
       " 'International Students Ratio': '99.5',\n",
       " 'International Faculty Ratio': '98.9',\n",
       " 'International Research Network\\nUnweighted': '98.7',\n",
       " 'Employment Outcomes\\nUnweighted': '54.3'}"
      ]
     },
     "execution_count": 17,
     "metadata": {},
     "output_type": "execute_result"
    }
   ],
   "source": [
    "d={}\n",
    "\n",
    "d['Name']=value_head[40]\n",
    "d['Location']=loc[4]\n",
    "d['Rank']=RANK[4]\n",
    "for i in range(len(column_head)):\n",
    "    d[column_head[i]]=value[i]\n",
    "d"
   ]
  },
  {
   "cell_type": "code",
   "execution_count": 18,
   "id": "1b869fa4",
   "metadata": {},
   "outputs": [
    {
     "data": {
      "text/plain": [
       "'{\"Name\": \"The University of Edinburgh\", \"Location\": \"Edinburgh, United Kingdom\", \"Rank\": \"15\", \"Overall Score\": \"89.5\", \"Academic Reputation\": \"98\", \"Employer Reputation\": \"97.2\", \"Citations per Faculty\": \"70.1\", \"Faculty Student Ratio\": \"81.1\", \"International Students Ratio\": \"99.5\", \"International Faculty Ratio\": \"98.9\", \"International Research Network\\\\nUnweighted\": \"98.7\", \"Employment Outcomes\\\\nUnweighted\": \"54.3\"}'"
      ]
     },
     "execution_count": 18,
     "metadata": {},
     "output_type": "execute_result"
    }
   ],
   "source": [
    "s1=json.dumps(d)\n",
    "s1"
   ]
  },
  {
   "cell_type": "code",
   "execution_count": 19,
   "id": "ab6121f9",
   "metadata": {},
   "outputs": [],
   "source": [
    "with open('The University of Edinburgh.json','w') as f:\n",
    "    json.dump(d,f)"
   ]
  },
  {
   "cell_type": "code",
   "execution_count": null,
   "id": "5080d8f3",
   "metadata": {},
   "outputs": [],
   "source": []
  },
  {
   "cell_type": "code",
   "execution_count": null,
   "id": "a20fe956",
   "metadata": {},
   "outputs": [],
   "source": []
  }
 ],
 "metadata": {
  "kernelspec": {
   "display_name": "Python 3 (ipykernel)",
   "language": "python",
   "name": "python3"
  },
  "language_info": {
   "codemirror_mode": {
    "name": "ipython",
    "version": 3
   },
   "file_extension": ".py",
   "mimetype": "text/x-python",
   "name": "python",
   "nbconvert_exporter": "python",
   "pygments_lexer": "ipython3",
   "version": "3.9.12"
  }
 },
 "nbformat": 4,
 "nbformat_minor": 5
}
