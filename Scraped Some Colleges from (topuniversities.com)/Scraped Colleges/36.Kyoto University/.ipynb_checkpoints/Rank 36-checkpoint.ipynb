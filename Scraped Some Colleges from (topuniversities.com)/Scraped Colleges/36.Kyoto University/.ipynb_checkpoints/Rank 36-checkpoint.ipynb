{
 "cells": [
  {
   "cell_type": "code",
   "execution_count": 1,
   "id": "f4571178",
   "metadata": {},
   "outputs": [],
   "source": [
    "from selenium import webdriver\n",
    "from selenium.webdriver.chrome.service import Service\n",
    "import pandas as pd\n",
    "import json\n"
   ]
  },
  {
   "cell_type": "code",
   "execution_count": 2,
   "id": "1694d5f6",
   "metadata": {},
   "outputs": [],
   "source": [
    "path = Service('C:\\chromedriver.exe')"
   ]
  },
  {
   "cell_type": "code",
   "execution_count": 3,
   "id": "262f611c",
   "metadata": {},
   "outputs": [],
   "source": [
    "# set path for the driver\n",
    "browser = webdriver.Chrome(service = path)"
   ]
  },
  {
   "cell_type": "code",
   "execution_count": 4,
   "id": "51a051bd",
   "metadata": {},
   "outputs": [],
   "source": [
    "url = \"https://www.topuniversities.com/university-rankings/world-university-rankings/2023\""
   ]
  },
  {
   "cell_type": "code",
   "execution_count": 5,
   "id": "0c2f7cec",
   "metadata": {},
   "outputs": [],
   "source": [
    "\n",
    "# open the page url ion chrome\n",
    "browser.get(url)"
   ]
  },
  {
   "cell_type": "code",
   "execution_count": 6,
   "id": "b6f7ed63",
   "metadata": {},
   "outputs": [
    {
     "data": {
      "text/plain": [
       "[<selenium.webdriver.remote.webelement.WebElement (session=\"3f8a12f168763a191edcbd169ceb8d09\", element=\"1fb580ed-6025-420e-8bcc-df232e9d4348\")>,\n",
       " <selenium.webdriver.remote.webelement.WebElement (session=\"3f8a12f168763a191edcbd169ceb8d09\", element=\"ec25e737-406b-4893-a9e1-ce1cc0d9c626\")>,\n",
       " <selenium.webdriver.remote.webelement.WebElement (session=\"3f8a12f168763a191edcbd169ceb8d09\", element=\"7d658060-f1ef-4374-9d9f-effad599eec6\")>,\n",
       " <selenium.webdriver.remote.webelement.WebElement (session=\"3f8a12f168763a191edcbd169ceb8d09\", element=\"c23c55c6-fa30-4064-a70d-0fdefbbc0d3c\")>,\n",
       " <selenium.webdriver.remote.webelement.WebElement (session=\"3f8a12f168763a191edcbd169ceb8d09\", element=\"d2c12bb8-aa6d-4c11-bb84-a14f80e24476\")>,\n",
       " <selenium.webdriver.remote.webelement.WebElement (session=\"3f8a12f168763a191edcbd169ceb8d09\", element=\"470e7aec-004b-46b5-9df4-bbbd28cc64c3\")>,\n",
       " <selenium.webdriver.remote.webelement.WebElement (session=\"3f8a12f168763a191edcbd169ceb8d09\", element=\"dff14d81-1591-40ba-985d-18118e63b72e\")>,\n",
       " <selenium.webdriver.remote.webelement.WebElement (session=\"3f8a12f168763a191edcbd169ceb8d09\", element=\"e87fcefd-7a89-4d5e-bcf1-f7856bc13126\")>,\n",
       " <selenium.webdriver.remote.webelement.WebElement (session=\"3f8a12f168763a191edcbd169ceb8d09\", element=\"62c6987e-fd63-4897-a28f-00dd183d3976\")>,\n",
       " <selenium.webdriver.remote.webelement.WebElement (session=\"3f8a12f168763a191edcbd169ceb8d09\", element=\"7ea1e408-fbb3-436e-89f6-53d7a33a86b1\")>,\n",
       " <selenium.webdriver.remote.webelement.WebElement (session=\"3f8a12f168763a191edcbd169ceb8d09\", element=\"e7a84a00-3f76-4252-abb9-03e023203c92\")>,\n",
       " <selenium.webdriver.remote.webelement.WebElement (session=\"3f8a12f168763a191edcbd169ceb8d09\", element=\"58dbbb71-a2ca-4ed6-a69b-afe2339242dc\")>,\n",
       " <selenium.webdriver.remote.webelement.WebElement (session=\"3f8a12f168763a191edcbd169ceb8d09\", element=\"4877ea46-2a7a-4fe2-9a56-d88c9fb34e73\")>,\n",
       " <selenium.webdriver.remote.webelement.WebElement (session=\"3f8a12f168763a191edcbd169ceb8d09\", element=\"2e98ed34-78e2-454f-8e96-5c4a53e5ad0c\")>,\n",
       " <selenium.webdriver.remote.webelement.WebElement (session=\"3f8a12f168763a191edcbd169ceb8d09\", element=\"e24296ac-799b-4392-a533-b691c2d64815\")>,\n",
       " <selenium.webdriver.remote.webelement.WebElement (session=\"3f8a12f168763a191edcbd169ceb8d09\", element=\"33f589b4-6e94-46c8-b987-08c4f9bf78f3\")>,\n",
       " <selenium.webdriver.remote.webelement.WebElement (session=\"3f8a12f168763a191edcbd169ceb8d09\", element=\"9b666ea5-65d2-450a-8098-e123ff329623\")>,\n",
       " <selenium.webdriver.remote.webelement.WebElement (session=\"3f8a12f168763a191edcbd169ceb8d09\", element=\"e5cc2df0-65a9-4bfd-a4ea-ff1d2c8da564\")>,\n",
       " <selenium.webdriver.remote.webelement.WebElement (session=\"3f8a12f168763a191edcbd169ceb8d09\", element=\"ca452bfc-e78a-48e1-8374-cb2112c0fd10\")>,\n",
       " <selenium.webdriver.remote.webelement.WebElement (session=\"3f8a12f168763a191edcbd169ceb8d09\", element=\"bb2efb1c-e0da-420b-93eb-84c9c2a19855\")>]"
      ]
     },
     "execution_count": 6,
     "metadata": {},
     "output_type": "execute_result"
    }
   ],
   "source": [
    "l1=browser.find_elements(\"xpath\",\"//div[@class='location ']\")\n",
    "l1"
   ]
  },
  {
   "cell_type": "code",
   "execution_count": 7,
   "id": "ed0ab959",
   "metadata": {},
   "outputs": [
    {
     "data": {
      "text/plain": [
       "['Montreal, Canada',\n",
       " 'Evanston, United States',\n",
       " 'Parkville, Australia',\n",
       " 'Shanghai, China (Mainland)',\n",
       " 'Toronto, Canada',\n",
       " 'Kyoto, Japan',\n",
       " 'London, United Kingdom',\n",
       " 'Hong Kong SAR, Hong Kong SAR',\n",
       " 'New York City, United States',\n",
       " 'Hong Kong SAR, Hong Kong SAR']"
      ]
     },
     "execution_count": 7,
     "metadata": {},
     "output_type": "execute_result"
    }
   ],
   "source": [
    "loc=[]\n",
    "for data in l1:\n",
    "    #get the text data\n",
    "    temp=data.text\n",
    "    loc.append(temp)\n",
    "loc=loc[10:]\n",
    "loc"
   ]
  },
  {
   "cell_type": "code",
   "execution_count": 8,
   "id": "b79b1a41",
   "metadata": {},
   "outputs": [
    {
     "data": {
      "text/plain": [
       "[<selenium.webdriver.remote.webelement.WebElement (session=\"3f8a12f168763a191edcbd169ceb8d09\", element=\"654d5f07-05ef-4828-9625-9fabc9fa2634\")>,\n",
       " <selenium.webdriver.remote.webelement.WebElement (session=\"3f8a12f168763a191edcbd169ceb8d09\", element=\"235777af-2a9a-4f6d-8161-c39dda3f3047\")>,\n",
       " <selenium.webdriver.remote.webelement.WebElement (session=\"3f8a12f168763a191edcbd169ceb8d09\", element=\"85c20700-7278-4260-a9cf-d9c0b8673924\")>,\n",
       " <selenium.webdriver.remote.webelement.WebElement (session=\"3f8a12f168763a191edcbd169ceb8d09\", element=\"d1705894-31f1-4d47-8504-ef965bf54840\")>,\n",
       " <selenium.webdriver.remote.webelement.WebElement (session=\"3f8a12f168763a191edcbd169ceb8d09\", element=\"55c75224-7215-4010-8e82-e66c6b4ccefa\")>,\n",
       " <selenium.webdriver.remote.webelement.WebElement (session=\"3f8a12f168763a191edcbd169ceb8d09\", element=\"ab5e57cd-d5a3-449e-b1af-2e1a0f118c83\")>,\n",
       " <selenium.webdriver.remote.webelement.WebElement (session=\"3f8a12f168763a191edcbd169ceb8d09\", element=\"34156950-6de0-4811-b065-030fcde603fc\")>,\n",
       " <selenium.webdriver.remote.webelement.WebElement (session=\"3f8a12f168763a191edcbd169ceb8d09\", element=\"87758449-f481-457f-af6b-983fd3006d22\")>,\n",
       " <selenium.webdriver.remote.webelement.WebElement (session=\"3f8a12f168763a191edcbd169ceb8d09\", element=\"36afb6a2-b20c-4a5d-81fa-e39b4ed81d5b\")>,\n",
       " <selenium.webdriver.remote.webelement.WebElement (session=\"3f8a12f168763a191edcbd169ceb8d09\", element=\"e6400074-c1d7-4260-831d-55eef54c22e4\")>]"
      ]
     },
     "execution_count": 8,
     "metadata": {},
     "output_type": "execute_result"
    }
   ],
   "source": [
    "l2=browser.find_elements(\"xpath\",\"//div[@class='_univ-rank ']\")\n",
    "l2\n"
   ]
  },
  {
   "cell_type": "code",
   "execution_count": 9,
   "id": "415fc5e0",
   "metadata": {},
   "outputs": [
    {
     "data": {
      "text/plain": [
       "['31', '32', '33', '=34', '=34', '36', '37', '38', '39', '40']"
      ]
     },
     "execution_count": 9,
     "metadata": {},
     "output_type": "execute_result"
    }
   ],
   "source": [
    "RANK=[]\n",
    "for data in l2:\n",
    "    #get the text data\n",
    "    temp=data.text\n",
    "    RANK.append(temp)\n",
    "RANK"
   ]
  },
  {
   "cell_type": "code",
   "execution_count": 10,
   "id": "c23652d2",
   "metadata": {},
   "outputs": [
    {
     "data": {
      "text/plain": [
       "[<selenium.webdriver.remote.webelement.WebElement (session=\"3f8a12f168763a191edcbd169ceb8d09\", element=\"02315686-c614-4ae3-8d8a-f6cdd48feacc\")>,\n",
       " <selenium.webdriver.remote.webelement.WebElement (session=\"3f8a12f168763a191edcbd169ceb8d09\", element=\"1fd4ac3c-6fe9-4578-bb31-327ff7b85e81\")>,\n",
       " <selenium.webdriver.remote.webelement.WebElement (session=\"3f8a12f168763a191edcbd169ceb8d09\", element=\"83717313-ac88-4ef1-834e-26cde99bb250\")>,\n",
       " <selenium.webdriver.remote.webelement.WebElement (session=\"3f8a12f168763a191edcbd169ceb8d09\", element=\"c9859775-1861-4a6c-92f2-0adf635f3803\")>,\n",
       " <selenium.webdriver.remote.webelement.WebElement (session=\"3f8a12f168763a191edcbd169ceb8d09\", element=\"3526606f-7737-4763-bdc4-75a13517e074\")>,\n",
       " <selenium.webdriver.remote.webelement.WebElement (session=\"3f8a12f168763a191edcbd169ceb8d09\", element=\"816f6e5c-a2dd-462d-8c1c-d92ba269f82c\")>,\n",
       " <selenium.webdriver.remote.webelement.WebElement (session=\"3f8a12f168763a191edcbd169ceb8d09\", element=\"5d706f1e-432f-4a4c-b4d1-00b83cb4ab6c\")>,\n",
       " <selenium.webdriver.remote.webelement.WebElement (session=\"3f8a12f168763a191edcbd169ceb8d09\", element=\"5cc1ba41-b703-495b-97c9-1fbf0a2ece3d\")>,\n",
       " <selenium.webdriver.remote.webelement.WebElement (session=\"3f8a12f168763a191edcbd169ceb8d09\", element=\"9662bee5-ae6b-49e2-8b61-c89a6e2b0828\")>]"
      ]
     },
     "execution_count": 10,
     "metadata": {},
     "output_type": "execute_result"
    }
   ],
   "source": [
    "# GET EACH COLLEGE SPECIFICATION HEADERS\n",
    "header=browser.find_elements(\"xpath\",\"//div[@class='_click-function_ind']\")\n",
    "header\n"
   ]
  },
  {
   "cell_type": "code",
   "execution_count": 11,
   "id": "5eccfeec",
   "metadata": {},
   "outputs": [
    {
     "data": {
      "text/plain": [
       "['Overall Score',\n",
       " 'Academic Reputation',\n",
       " 'Employer Reputation',\n",
       " 'Citations per Faculty',\n",
       " 'Faculty Student Ratio',\n",
       " 'International Students Ratio',\n",
       " 'International Faculty Ratio',\n",
       " 'International Research Network\\nUnweighted',\n",
       " 'Employment Outcomes\\nUnweighted']"
      ]
     },
     "execution_count": 11,
     "metadata": {},
     "output_type": "execute_result"
    }
   ],
   "source": [
    "#PARSING DATA\n",
    "column_head=[]\n",
    "for data in header:\n",
    "    #get the text data\n",
    "    temp=data.text\n",
    "    column_head.append(temp)\n",
    "column_head"
   ]
  },
  {
   "cell_type": "code",
   "execution_count": 12,
   "id": "e008bbb2",
   "metadata": {},
   "outputs": [
    {
     "data": {
      "text/plain": [
       "[<selenium.webdriver.remote.webelement.WebElement (session=\"3f8a12f168763a191edcbd169ceb8d09\", element=\"86e22319-e6cd-4d3a-8a4b-a3352a199832\")>,\n",
       " <selenium.webdriver.remote.webelement.WebElement (session=\"3f8a12f168763a191edcbd169ceb8d09\", element=\"f98b0105-0b15-4cd6-bc97-a64d5e60e8d3\")>,\n",
       " <selenium.webdriver.remote.webelement.WebElement (session=\"3f8a12f168763a191edcbd169ceb8d09\", element=\"a1f256c1-464a-40b7-83c1-78cd80355896\")>,\n",
       " <selenium.webdriver.remote.webelement.WebElement (session=\"3f8a12f168763a191edcbd169ceb8d09\", element=\"9fe0357d-9d47-4c20-935c-68d7819d595b\")>,\n",
       " <selenium.webdriver.remote.webelement.WebElement (session=\"3f8a12f168763a191edcbd169ceb8d09\", element=\"6aecbf25-a59a-4559-82d6-6b3d441f938d\")>,\n",
       " <selenium.webdriver.remote.webelement.WebElement (session=\"3f8a12f168763a191edcbd169ceb8d09\", element=\"1be41a5a-5aea-41cf-bc56-cddd4241805e\")>,\n",
       " <selenium.webdriver.remote.webelement.WebElement (session=\"3f8a12f168763a191edcbd169ceb8d09\", element=\"e0294b89-8b81-4005-aba6-44c7ad685e69\")>,\n",
       " <selenium.webdriver.remote.webelement.WebElement (session=\"3f8a12f168763a191edcbd169ceb8d09\", element=\"829f482e-e870-4354-8cc9-163b829eba63\")>,\n",
       " <selenium.webdriver.remote.webelement.WebElement (session=\"3f8a12f168763a191edcbd169ceb8d09\", element=\"52d760fb-e301-4331-80cb-5a8d48816426\")>,\n",
       " <selenium.webdriver.remote.webelement.WebElement (session=\"3f8a12f168763a191edcbd169ceb8d09\", element=\"2bfe7967-9fc2-4171-a7d9-b9af8c9ff14f\")>,\n",
       " <selenium.webdriver.remote.webelement.WebElement (session=\"3f8a12f168763a191edcbd169ceb8d09\", element=\"05a555b8-78d7-494c-8b4e-a1d94d724752\")>,\n",
       " <selenium.webdriver.remote.webelement.WebElement (session=\"3f8a12f168763a191edcbd169ceb8d09\", element=\"f7eaeca9-7b48-4080-a8d5-86b09cb204a3\")>,\n",
       " <selenium.webdriver.remote.webelement.WebElement (session=\"3f8a12f168763a191edcbd169ceb8d09\", element=\"8a4333b5-0a4c-4aeb-a6af-53ea7d463ef4\")>,\n",
       " <selenium.webdriver.remote.webelement.WebElement (session=\"3f8a12f168763a191edcbd169ceb8d09\", element=\"fbdc9bf9-3373-44f6-a648-34e045970dd5\")>,\n",
       " <selenium.webdriver.remote.webelement.WebElement (session=\"3f8a12f168763a191edcbd169ceb8d09\", element=\"21161908-ffb6-45e1-897d-8a47b15a5aaf\")>,\n",
       " <selenium.webdriver.remote.webelement.WebElement (session=\"3f8a12f168763a191edcbd169ceb8d09\", element=\"9a6382ac-6d82-4e6d-9eb5-884b15e1f29c\")>,\n",
       " <selenium.webdriver.remote.webelement.WebElement (session=\"3f8a12f168763a191edcbd169ceb8d09\", element=\"9fa3e151-ca3e-48c6-abb2-12cb4fd14ff1\")>,\n",
       " <selenium.webdriver.remote.webelement.WebElement (session=\"3f8a12f168763a191edcbd169ceb8d09\", element=\"00bd1e75-210f-4f43-af36-5d959a47d112\")>,\n",
       " <selenium.webdriver.remote.webelement.WebElement (session=\"3f8a12f168763a191edcbd169ceb8d09\", element=\"8d8bcdff-76f5-4bd2-8343-8c8253da8ff7\")>,\n",
       " <selenium.webdriver.remote.webelement.WebElement (session=\"3f8a12f168763a191edcbd169ceb8d09\", element=\"b3b0f46b-908e-4b64-8f75-2df75acfa632\")>,\n",
       " <selenium.webdriver.remote.webelement.WebElement (session=\"3f8a12f168763a191edcbd169ceb8d09\", element=\"1d52a619-d061-4027-9bb6-dafc6be8b62f\")>,\n",
       " <selenium.webdriver.remote.webelement.WebElement (session=\"3f8a12f168763a191edcbd169ceb8d09\", element=\"d6972fb8-8a14-4690-868f-55e7d6b1c9e1\")>,\n",
       " <selenium.webdriver.remote.webelement.WebElement (session=\"3f8a12f168763a191edcbd169ceb8d09\", element=\"bae5ad22-b156-4f50-a4d2-fbf8bb468629\")>,\n",
       " <selenium.webdriver.remote.webelement.WebElement (session=\"3f8a12f168763a191edcbd169ceb8d09\", element=\"c27dd36e-468e-4efc-89b4-3194bdb9faca\")>,\n",
       " <selenium.webdriver.remote.webelement.WebElement (session=\"3f8a12f168763a191edcbd169ceb8d09\", element=\"d83fdc25-306e-4f3a-bfc3-9fc8787e5c3a\")>,\n",
       " <selenium.webdriver.remote.webelement.WebElement (session=\"3f8a12f168763a191edcbd169ceb8d09\", element=\"8554449d-a8b9-4c19-bf92-9e9e66ca3f58\")>,\n",
       " <selenium.webdriver.remote.webelement.WebElement (session=\"3f8a12f168763a191edcbd169ceb8d09\", element=\"cc83d791-37c9-44b0-9d51-e25d81287a72\")>,\n",
       " <selenium.webdriver.remote.webelement.WebElement (session=\"3f8a12f168763a191edcbd169ceb8d09\", element=\"764c88d4-e4e0-4756-a80f-107215ceda7b\")>,\n",
       " <selenium.webdriver.remote.webelement.WebElement (session=\"3f8a12f168763a191edcbd169ceb8d09\", element=\"fb2e2b23-d432-43b8-8fbf-d2c1a60aa0e3\")>,\n",
       " <selenium.webdriver.remote.webelement.WebElement (session=\"3f8a12f168763a191edcbd169ceb8d09\", element=\"743e447d-c5c9-4fa1-a73d-9fac2459ffce\")>,\n",
       " <selenium.webdriver.remote.webelement.WebElement (session=\"3f8a12f168763a191edcbd169ceb8d09\", element=\"1b0d8a9b-2199-4b9a-9281-eb175eb7e778\")>,\n",
       " <selenium.webdriver.remote.webelement.WebElement (session=\"3f8a12f168763a191edcbd169ceb8d09\", element=\"d4c2fab1-f5e4-443e-a86d-ae6e8684af02\")>,\n",
       " <selenium.webdriver.remote.webelement.WebElement (session=\"3f8a12f168763a191edcbd169ceb8d09\", element=\"7cbe8427-ebdb-4af2-b5f9-018c2908f8de\")>,\n",
       " <selenium.webdriver.remote.webelement.WebElement (session=\"3f8a12f168763a191edcbd169ceb8d09\", element=\"ccb7ea55-c888-4548-aff3-fa33bda5f008\")>,\n",
       " <selenium.webdriver.remote.webelement.WebElement (session=\"3f8a12f168763a191edcbd169ceb8d09\", element=\"26486766-4a8a-45bd-a9cc-c99249469bd7\")>,\n",
       " <selenium.webdriver.remote.webelement.WebElement (session=\"3f8a12f168763a191edcbd169ceb8d09\", element=\"9982e121-23de-47a6-8838-f60006bea2af\")>,\n",
       " <selenium.webdriver.remote.webelement.WebElement (session=\"3f8a12f168763a191edcbd169ceb8d09\", element=\"f86bff9d-7f05-4532-9e29-c11b98301675\")>,\n",
       " <selenium.webdriver.remote.webelement.WebElement (session=\"3f8a12f168763a191edcbd169ceb8d09\", element=\"4af46ce7-8ca1-4f90-a05d-8a2370372251\")>,\n",
       " <selenium.webdriver.remote.webelement.WebElement (session=\"3f8a12f168763a191edcbd169ceb8d09\", element=\"520aec7e-2c4b-4c42-9e39-2c3739fed52c\")>,\n",
       " <selenium.webdriver.remote.webelement.WebElement (session=\"3f8a12f168763a191edcbd169ceb8d09\", element=\"127d5d58-7ec9-4590-8457-f1d54001d3c8\")>,\n",
       " <selenium.webdriver.remote.webelement.WebElement (session=\"3f8a12f168763a191edcbd169ceb8d09\", element=\"9680c0b8-ac8c-44ca-acd9-713248b5b66a\")>,\n",
       " <selenium.webdriver.remote.webelement.WebElement (session=\"3f8a12f168763a191edcbd169ceb8d09\", element=\"65a521c8-4156-4d26-aaf3-281a451d6008\")>,\n",
       " <selenium.webdriver.remote.webelement.WebElement (session=\"3f8a12f168763a191edcbd169ceb8d09\", element=\"470f088b-7f51-4746-9b04-576ffbe5c308\")>,\n",
       " <selenium.webdriver.remote.webelement.WebElement (session=\"3f8a12f168763a191edcbd169ceb8d09\", element=\"4745c4e5-187f-4509-84ce-cdfcaa13279e\")>,\n",
       " <selenium.webdriver.remote.webelement.WebElement (session=\"3f8a12f168763a191edcbd169ceb8d09\", element=\"075f0f79-1e2f-4ff7-a025-c204e25ab45b\")>,\n",
       " <selenium.webdriver.remote.webelement.WebElement (session=\"3f8a12f168763a191edcbd169ceb8d09\", element=\"1e270bfd-0591-4266-87f4-4bb6334d8799\")>,\n",
       " <selenium.webdriver.remote.webelement.WebElement (session=\"3f8a12f168763a191edcbd169ceb8d09\", element=\"9a70b94f-644d-465f-b8cd-73cb65180270\")>,\n",
       " <selenium.webdriver.remote.webelement.WebElement (session=\"3f8a12f168763a191edcbd169ceb8d09\", element=\"e41528d4-032e-4e8f-868c-7f88c2e62ea9\")>,\n",
       " <selenium.webdriver.remote.webelement.WebElement (session=\"3f8a12f168763a191edcbd169ceb8d09\", element=\"3cf6d8e0-b9cf-4abe-a7a3-44491253a0c9\")>,\n",
       " <selenium.webdriver.remote.webelement.WebElement (session=\"3f8a12f168763a191edcbd169ceb8d09\", element=\"3c28c77f-a777-4160-99dc-17faab96b060\")>,\n",
       " <selenium.webdriver.remote.webelement.WebElement (session=\"3f8a12f168763a191edcbd169ceb8d09\", element=\"81e7c957-8e2e-4bb7-8a77-53e76780020e\")>,\n",
       " <selenium.webdriver.remote.webelement.WebElement (session=\"3f8a12f168763a191edcbd169ceb8d09\", element=\"ad1dd4ed-941c-4da9-988a-e061ea7f096a\")>,\n",
       " <selenium.webdriver.remote.webelement.WebElement (session=\"3f8a12f168763a191edcbd169ceb8d09\", element=\"cc8680b4-371f-4fac-adf7-c0d097e308bc\")>,\n",
       " <selenium.webdriver.remote.webelement.WebElement (session=\"3f8a12f168763a191edcbd169ceb8d09\", element=\"ebfb72ac-bf1a-41d0-b86d-1197567f31c9\")>,\n",
       " <selenium.webdriver.remote.webelement.WebElement (session=\"3f8a12f168763a191edcbd169ceb8d09\", element=\"3270c66c-7eae-4109-aeca-30192b32f926\")>,\n",
       " <selenium.webdriver.remote.webelement.WebElement (session=\"3f8a12f168763a191edcbd169ceb8d09\", element=\"4a92a64e-6393-4459-be10-248d6de2a104\")>,\n",
       " <selenium.webdriver.remote.webelement.WebElement (session=\"3f8a12f168763a191edcbd169ceb8d09\", element=\"8996aee3-fc32-4a91-a464-cf98dd26f2cb\")>,\n",
       " <selenium.webdriver.remote.webelement.WebElement (session=\"3f8a12f168763a191edcbd169ceb8d09\", element=\"a7a21e85-28e9-4db9-90ee-5e4551478c6f\")>,\n",
       " <selenium.webdriver.remote.webelement.WebElement (session=\"3f8a12f168763a191edcbd169ceb8d09\", element=\"df2189eb-0299-4a48-8a2b-0d9029017a36\")>,\n",
       " <selenium.webdriver.remote.webelement.WebElement (session=\"3f8a12f168763a191edcbd169ceb8d09\", element=\"6c9b94c1-4f5d-4bbb-9034-8366b28a1e76\")>,\n",
       " <selenium.webdriver.remote.webelement.WebElement (session=\"3f8a12f168763a191edcbd169ceb8d09\", element=\"b9f56dc1-647d-41f6-bd36-d9e7e2ec8680\")>,\n",
       " <selenium.webdriver.remote.webelement.WebElement (session=\"3f8a12f168763a191edcbd169ceb8d09\", element=\"4be80803-d8d5-4f61-8a4a-3ce605ffb75e\")>,\n",
       " <selenium.webdriver.remote.webelement.WebElement (session=\"3f8a12f168763a191edcbd169ceb8d09\", element=\"a650fa69-d0c1-4fca-b3d1-b0139b6f9da0\")>,\n",
       " <selenium.webdriver.remote.webelement.WebElement (session=\"3f8a12f168763a191edcbd169ceb8d09\", element=\"135d473a-ac25-42b4-b141-71fff93347be\")>,\n",
       " <selenium.webdriver.remote.webelement.WebElement (session=\"3f8a12f168763a191edcbd169ceb8d09\", element=\"14486cd6-5629-4580-8abf-44e4cc34eb02\")>,\n",
       " <selenium.webdriver.remote.webelement.WebElement (session=\"3f8a12f168763a191edcbd169ceb8d09\", element=\"006d7b7e-8848-415a-9859-3f30ff50476a\")>,\n",
       " <selenium.webdriver.remote.webelement.WebElement (session=\"3f8a12f168763a191edcbd169ceb8d09\", element=\"ea9699a0-d2f9-4933-8e48-2c204ccf0b1c\")>,\n",
       " <selenium.webdriver.remote.webelement.WebElement (session=\"3f8a12f168763a191edcbd169ceb8d09\", element=\"7d4e139b-3621-438f-b5b0-2bf5d46d1b9c\")>,\n",
       " <selenium.webdriver.remote.webelement.WebElement (session=\"3f8a12f168763a191edcbd169ceb8d09\", element=\"2cfd77f0-d3d8-47fd-bcf4-ea9aed4c0b19\")>,\n",
       " <selenium.webdriver.remote.webelement.WebElement (session=\"3f8a12f168763a191edcbd169ceb8d09\", element=\"8f128c90-4e71-4256-a8db-d81817e95ea9\")>,\n",
       " <selenium.webdriver.remote.webelement.WebElement (session=\"3f8a12f168763a191edcbd169ceb8d09\", element=\"49dabde3-ed6a-4264-907a-63c9183fc0d3\")>,\n",
       " <selenium.webdriver.remote.webelement.WebElement (session=\"3f8a12f168763a191edcbd169ceb8d09\", element=\"cb61a688-e2f1-4eac-b92a-b79b9e671e5a\")>,\n",
       " <selenium.webdriver.remote.webelement.WebElement (session=\"3f8a12f168763a191edcbd169ceb8d09\", element=\"774321a3-4a8b-4993-909b-b5ced9ed1b7c\")>,\n",
       " <selenium.webdriver.remote.webelement.WebElement (session=\"3f8a12f168763a191edcbd169ceb8d09\", element=\"e5d24d9a-0844-4000-a41c-a41be6d1e171\")>,\n",
       " <selenium.webdriver.remote.webelement.WebElement (session=\"3f8a12f168763a191edcbd169ceb8d09\", element=\"89abe5ee-782d-4d84-ae1c-492a8ab3a654\")>,\n",
       " <selenium.webdriver.remote.webelement.WebElement (session=\"3f8a12f168763a191edcbd169ceb8d09\", element=\"3dadbeda-7cc9-4125-ad25-c0100e22b6b7\")>,\n",
       " <selenium.webdriver.remote.webelement.WebElement (session=\"3f8a12f168763a191edcbd169ceb8d09\", element=\"742fd862-64a6-4696-a7d9-792abf9af2fc\")>,\n",
       " <selenium.webdriver.remote.webelement.WebElement (session=\"3f8a12f168763a191edcbd169ceb8d09\", element=\"1b343c2f-52e7-47d2-bc38-bdb7dffd347d\")>,\n",
       " <selenium.webdriver.remote.webelement.WebElement (session=\"3f8a12f168763a191edcbd169ceb8d09\", element=\"cb387af0-722f-4984-963d-2294f6496b33\")>,\n",
       " <selenium.webdriver.remote.webelement.WebElement (session=\"3f8a12f168763a191edcbd169ceb8d09\", element=\"ef844a77-f821-474c-9358-f5be8937a924\")>,\n",
       " <selenium.webdriver.remote.webelement.WebElement (session=\"3f8a12f168763a191edcbd169ceb8d09\", element=\"33c15548-6bd1-4230-9b3e-944fe5adccc8\")>,\n",
       " <selenium.webdriver.remote.webelement.WebElement (session=\"3f8a12f168763a191edcbd169ceb8d09\", element=\"45dcdb9e-1f57-4018-83ff-2cedfb58ea2e\")>,\n",
       " <selenium.webdriver.remote.webelement.WebElement (session=\"3f8a12f168763a191edcbd169ceb8d09\", element=\"4822ac01-4a42-404b-801c-2274eeb50be8\")>,\n",
       " <selenium.webdriver.remote.webelement.WebElement (session=\"3f8a12f168763a191edcbd169ceb8d09\", element=\"a4cdc1af-95b0-45c3-9257-ee0b785718dd\")>,\n",
       " <selenium.webdriver.remote.webelement.WebElement (session=\"3f8a12f168763a191edcbd169ceb8d09\", element=\"2e2b4ce6-c6df-4090-8b53-435ce522d8a6\")>,\n",
       " <selenium.webdriver.remote.webelement.WebElement (session=\"3f8a12f168763a191edcbd169ceb8d09\", element=\"1d75b329-f9a4-4899-a180-78759dbf41c6\")>,\n",
       " <selenium.webdriver.remote.webelement.WebElement (session=\"3f8a12f168763a191edcbd169ceb8d09\", element=\"dcdd78ee-694c-45e9-bd62-9f6e118a7598\")>,\n",
       " <selenium.webdriver.remote.webelement.WebElement (session=\"3f8a12f168763a191edcbd169ceb8d09\", element=\"09e11cce-f929-4566-94ea-074c23a19c84\")>,\n",
       " <selenium.webdriver.remote.webelement.WebElement (session=\"3f8a12f168763a191edcbd169ceb8d09\", element=\"d522993a-87e1-4658-96ca-5b2575f33f3e\")>,\n",
       " <selenium.webdriver.remote.webelement.WebElement (session=\"3f8a12f168763a191edcbd169ceb8d09\", element=\"bb6a1396-4e4a-48c1-9f3d-1fc3b4f3a25c\")>,\n",
       " <selenium.webdriver.remote.webelement.WebElement (session=\"3f8a12f168763a191edcbd169ceb8d09\", element=\"9e8ce524-af2a-48ea-8a41-1cb18f90cd9b\")>,\n",
       " <selenium.webdriver.remote.webelement.WebElement (session=\"3f8a12f168763a191edcbd169ceb8d09\", element=\"f6ef105f-d214-449b-9b00-b7fc37887c04\")>,\n",
       " <selenium.webdriver.remote.webelement.WebElement (session=\"3f8a12f168763a191edcbd169ceb8d09\", element=\"1ba670b7-616e-46dc-a452-4438f59541c3\")>,\n",
       " <selenium.webdriver.remote.webelement.WebElement (session=\"3f8a12f168763a191edcbd169ceb8d09\", element=\"e354d094-25b0-4e55-bd1c-ddbfc59a4cb2\")>,\n",
       " <selenium.webdriver.remote.webelement.WebElement (session=\"3f8a12f168763a191edcbd169ceb8d09\", element=\"bc2716a9-9dbe-429e-b952-9ace9e8f8dad\")>,\n",
       " <selenium.webdriver.remote.webelement.WebElement (session=\"3f8a12f168763a191edcbd169ceb8d09\", element=\"762922b0-43d2-4bb2-bd89-266fd11a5eb5\")>,\n",
       " <selenium.webdriver.remote.webelement.WebElement (session=\"3f8a12f168763a191edcbd169ceb8d09\", element=\"1df1c360-96da-4946-bf89-dd1f34985356\")>,\n",
       " <selenium.webdriver.remote.webelement.WebElement (session=\"3f8a12f168763a191edcbd169ceb8d09\", element=\"59febd1e-2aec-4e05-8c55-bc61b2dd6b6d\")>,\n",
       " <selenium.webdriver.remote.webelement.WebElement (session=\"3f8a12f168763a191edcbd169ceb8d09\", element=\"0fcbcb7e-9bad-4add-a1dd-994a75022ef8\")>,\n",
       " <selenium.webdriver.remote.webelement.WebElement (session=\"3f8a12f168763a191edcbd169ceb8d09\", element=\"49ff81e8-21e6-45ee-902b-84f3e31a641f\")>]"
      ]
     },
     "execution_count": 12,
     "metadata": {},
     "output_type": "execute_result"
    }
   ],
   "source": [
    "header2=browser.find_elements(\"xpath\",\"//div[@class='td-wrap-in']\")\n",
    "header2\n"
   ]
  },
  {
   "cell_type": "code",
   "execution_count": 13,
   "id": "aca74b6e",
   "metadata": {},
   "outputs": [
    {
     "data": {
      "text/plain": [
       "['81.4', '98.6', '98.9', '54.2', '94.8', '22.1', '14.9', '85.5', '56.9']"
      ]
     },
     "execution_count": 13,
     "metadata": {},
     "output_type": "execute_result"
    }
   ],
   "source": [
    "\n",
    "#PARSING DATA\n",
    "value_head=[]\n",
    "for data in header2:\n",
    "    #get the text data\n",
    "    temp=data.text\n",
    "    value_head.append(temp)\n",
    "value=value_head[51:60]\n",
    "value"
   ]
  },
  {
   "cell_type": "code",
   "execution_count": 14,
   "id": "6e0d5937",
   "metadata": {},
   "outputs": [
    {
     "data": {
      "text/plain": [
       "{'Name': 'Kyoto University',\n",
       " 'Location': 'Kyoto, Japan',\n",
       " 'Rank': '36',\n",
       " 'Overall Score': '81.4',\n",
       " 'Academic Reputation': '98.6',\n",
       " 'Employer Reputation': '98.9',\n",
       " 'Citations per Faculty': '54.2',\n",
       " 'Faculty Student Ratio': '94.8',\n",
       " 'International Students Ratio': '22.1',\n",
       " 'International Faculty Ratio': '14.9',\n",
       " 'International Research Network\\nUnweighted': '85.5',\n",
       " 'Employment Outcomes\\nUnweighted': '56.9'}"
      ]
     },
     "execution_count": 14,
     "metadata": {},
     "output_type": "execute_result"
    }
   ],
   "source": [
    "d={}\n",
    "d['Name']=value_head[50]\n",
    "d['Location']=loc[5]\n",
    "d['Rank']=RANK[5]\n",
    "for i in range(len(column_head)):\n",
    "    d[column_head[i]]=value[i]\n",
    "d"
   ]
  },
  {
   "cell_type": "code",
   "execution_count": 15,
   "id": "8f8bc16f",
   "metadata": {},
   "outputs": [
    {
     "data": {
      "text/plain": [
       "'{\"Name\": \"Kyoto University\", \"Location\": \"Kyoto, Japan\", \"Rank\": \"36\", \"Overall Score\": \"81.4\", \"Academic Reputation\": \"98.6\", \"Employer Reputation\": \"98.9\", \"Citations per Faculty\": \"54.2\", \"Faculty Student Ratio\": \"94.8\", \"International Students Ratio\": \"22.1\", \"International Faculty Ratio\": \"14.9\", \"International Research Network\\\\nUnweighted\": \"85.5\", \"Employment Outcomes\\\\nUnweighted\": \"56.9\"}'"
      ]
     },
     "execution_count": 15,
     "metadata": {},
     "output_type": "execute_result"
    }
   ],
   "source": [
    "s1=json.dumps(d)\n",
    "s1\n"
   ]
  },
  {
   "cell_type": "code",
   "execution_count": 16,
   "id": "a99489a6",
   "metadata": {},
   "outputs": [],
   "source": [
    "with open('Kyoto University.json','w') as f:\n",
    "    json.dump(d,f)\n"
   ]
  },
  {
   "cell_type": "code",
   "execution_count": null,
   "id": "b1844177",
   "metadata": {},
   "outputs": [],
   "source": []
  }
 ],
 "metadata": {
  "kernelspec": {
   "display_name": "Python 3 (ipykernel)",
   "language": "python",
   "name": "python3"
  },
  "language_info": {
   "codemirror_mode": {
    "name": "ipython",
    "version": 3
   },
   "file_extension": ".py",
   "mimetype": "text/x-python",
   "name": "python",
   "nbconvert_exporter": "python",
   "pygments_lexer": "ipython3",
   "version": "3.9.12"
  }
 },
 "nbformat": 4,
 "nbformat_minor": 5
}
