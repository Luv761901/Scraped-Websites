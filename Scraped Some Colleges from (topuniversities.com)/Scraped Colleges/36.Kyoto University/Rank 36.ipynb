{
 "cells": [
  {
   "cell_type": "code",
   "execution_count": 1,
   "id": "f4571178",
   "metadata": {},
   "outputs": [],
   "source": [
    "from selenium import webdriver\n",
    "from selenium.webdriver.chrome.service import Service\n",
    "import pandas as pd\n",
    "import json\n"
   ]
  },
  {
   "cell_type": "code",
   "execution_count": 2,
   "id": "1694d5f6",
   "metadata": {},
   "outputs": [],
   "source": [
    "path = Service('C:\\chromedriver.exe')"
   ]
  },
  {
   "cell_type": "code",
   "execution_count": 3,
   "id": "262f611c",
   "metadata": {},
   "outputs": [],
   "source": [
    "# set path for the driver\n",
    "browser = webdriver.Chrome(service = path)"
   ]
  },
  {
   "cell_type": "code",
   "execution_count": 4,
   "id": "51a051bd",
   "metadata": {},
   "outputs": [],
   "source": [
    "url = \"https://www.topuniversities.com/university-rankings/world-university-rankings/2023\""
   ]
  },
  {
   "cell_type": "code",
   "execution_count": 5,
   "id": "0c2f7cec",
   "metadata": {},
   "outputs": [],
   "source": [
    "\n",
    "# open the page url ion chrome\n",
    "browser.get(url)"
   ]
  },
  {
   "cell_type": "code",
   "execution_count": 6,
   "id": "c23652d2",
   "metadata": {},
   "outputs": [
    {
     "data": {
      "text/plain": [
       "[<selenium.webdriver.remote.webelement.WebElement (session=\"d22b577b85e0469462c7747528053c2c\", element=\"a9c83678-48f2-4bcc-ab62-14a94b9a19a5\")>,\n",
       " <selenium.webdriver.remote.webelement.WebElement (session=\"d22b577b85e0469462c7747528053c2c\", element=\"578d1f93-b6ad-42d3-9fa3-369a3e105666\")>,\n",
       " <selenium.webdriver.remote.webelement.WebElement (session=\"d22b577b85e0469462c7747528053c2c\", element=\"fa961f79-df64-4c17-8bc6-067df41eecbc\")>,\n",
       " <selenium.webdriver.remote.webelement.WebElement (session=\"d22b577b85e0469462c7747528053c2c\", element=\"86cc085c-47b0-4022-9ae0-8f70d0dce974\")>,\n",
       " <selenium.webdriver.remote.webelement.WebElement (session=\"d22b577b85e0469462c7747528053c2c\", element=\"2d3a9dd4-7019-4568-8136-4f355ad1531a\")>,\n",
       " <selenium.webdriver.remote.webelement.WebElement (session=\"d22b577b85e0469462c7747528053c2c\", element=\"f70e47b3-2ad1-462b-b750-ac3015877466\")>,\n",
       " <selenium.webdriver.remote.webelement.WebElement (session=\"d22b577b85e0469462c7747528053c2c\", element=\"0ad8d1c8-702c-470a-8d1d-c727b537a5ac\")>,\n",
       " <selenium.webdriver.remote.webelement.WebElement (session=\"d22b577b85e0469462c7747528053c2c\", element=\"1433df48-9908-41f6-8c0e-d4354f06e28e\")>,\n",
       " <selenium.webdriver.remote.webelement.WebElement (session=\"d22b577b85e0469462c7747528053c2c\", element=\"40b8f1e2-ab0a-4427-8835-90c493595b25\")>]"
      ]
     },
     "execution_count": 6,
     "metadata": {},
     "output_type": "execute_result"
    }
   ],
   "source": [
    "# GET EACH COLLEGE SPECIFICATION HEADERS\n",
    "header=browser.find_elements(\"xpath\",\"//div[@class='_click-function_ind']\")\n",
    "header\n"
   ]
  },
  {
   "cell_type": "code",
   "execution_count": 7,
   "id": "5eccfeec",
   "metadata": {},
   "outputs": [
    {
     "data": {
      "text/plain": [
       "['Overall Score',\n",
       " 'Academic Reputation',\n",
       " 'Employer Reputation',\n",
       " 'Citations per Faculty',\n",
       " 'Faculty Student Ratio',\n",
       " 'International Students Ratio',\n",
       " 'International Faculty Ratio',\n",
       " 'International Research Network\\nUnweighted',\n",
       " 'Employment Outcomes\\nUnweighted']"
      ]
     },
     "execution_count": 7,
     "metadata": {},
     "output_type": "execute_result"
    }
   ],
   "source": [
    "#PARSING DATA\n",
    "column_head=[]\n",
    "for data in header:\n",
    "    #get the text data\n",
    "    temp=data.text\n",
    "    column_head.append(temp)\n",
    "column_head"
   ]
  },
  {
   "cell_type": "code",
   "execution_count": 8,
   "id": "e008bbb2",
   "metadata": {},
   "outputs": [
    {
     "data": {
      "text/plain": [
       "[<selenium.webdriver.remote.webelement.WebElement (session=\"d22b577b85e0469462c7747528053c2c\", element=\"e42b9a44-8b23-4802-b27f-a51fc40d1709\")>,\n",
       " <selenium.webdriver.remote.webelement.WebElement (session=\"d22b577b85e0469462c7747528053c2c\", element=\"6d7052bb-d127-496a-9da7-b41c8c195f14\")>,\n",
       " <selenium.webdriver.remote.webelement.WebElement (session=\"d22b577b85e0469462c7747528053c2c\", element=\"3b584aa9-856f-4018-9b40-45d5ec758dc8\")>,\n",
       " <selenium.webdriver.remote.webelement.WebElement (session=\"d22b577b85e0469462c7747528053c2c\", element=\"7bfb4963-e3d9-4a68-bf2d-5e0fcb59278a\")>,\n",
       " <selenium.webdriver.remote.webelement.WebElement (session=\"d22b577b85e0469462c7747528053c2c\", element=\"99282dd3-f7be-4784-b624-aad8e410d30d\")>,\n",
       " <selenium.webdriver.remote.webelement.WebElement (session=\"d22b577b85e0469462c7747528053c2c\", element=\"e9a833a5-88cd-4f00-8dcc-8a56a13d41d4\")>,\n",
       " <selenium.webdriver.remote.webelement.WebElement (session=\"d22b577b85e0469462c7747528053c2c\", element=\"d4db1ae5-e57c-4e02-9336-e3d7c4f591e8\")>,\n",
       " <selenium.webdriver.remote.webelement.WebElement (session=\"d22b577b85e0469462c7747528053c2c\", element=\"deb25d7e-dc09-4d1a-aea8-5e6bc4cde75a\")>,\n",
       " <selenium.webdriver.remote.webelement.WebElement (session=\"d22b577b85e0469462c7747528053c2c\", element=\"25118817-6cae-49c1-8dfe-4a9f8142025c\")>,\n",
       " <selenium.webdriver.remote.webelement.WebElement (session=\"d22b577b85e0469462c7747528053c2c\", element=\"05b6a5fc-0627-4adb-bcea-a596cb413872\")>,\n",
       " <selenium.webdriver.remote.webelement.WebElement (session=\"d22b577b85e0469462c7747528053c2c\", element=\"a2d7648d-ccf4-4596-9fe6-a7a0a06fbfec\")>,\n",
       " <selenium.webdriver.remote.webelement.WebElement (session=\"d22b577b85e0469462c7747528053c2c\", element=\"e8cd0949-2045-4763-94c3-c309e47f60e8\")>,\n",
       " <selenium.webdriver.remote.webelement.WebElement (session=\"d22b577b85e0469462c7747528053c2c\", element=\"7be044bc-d1a2-4b1c-8f99-646cf8eeafd5\")>,\n",
       " <selenium.webdriver.remote.webelement.WebElement (session=\"d22b577b85e0469462c7747528053c2c\", element=\"a83a70bb-6c2d-4ba6-84a8-59a21ac5302a\")>,\n",
       " <selenium.webdriver.remote.webelement.WebElement (session=\"d22b577b85e0469462c7747528053c2c\", element=\"44fdb906-a50c-424d-b944-fd80b772d35f\")>,\n",
       " <selenium.webdriver.remote.webelement.WebElement (session=\"d22b577b85e0469462c7747528053c2c\", element=\"31954493-ab69-48ae-8afb-ff1bafd435d9\")>,\n",
       " <selenium.webdriver.remote.webelement.WebElement (session=\"d22b577b85e0469462c7747528053c2c\", element=\"ba30222e-3cf2-45b4-9c23-3d69600673ae\")>,\n",
       " <selenium.webdriver.remote.webelement.WebElement (session=\"d22b577b85e0469462c7747528053c2c\", element=\"7b22dd07-df24-46a7-b096-00ecb88f2817\")>,\n",
       " <selenium.webdriver.remote.webelement.WebElement (session=\"d22b577b85e0469462c7747528053c2c\", element=\"22a3ddbf-eb1d-424a-bbae-9fdfa7787531\")>,\n",
       " <selenium.webdriver.remote.webelement.WebElement (session=\"d22b577b85e0469462c7747528053c2c\", element=\"cec0907c-4420-472b-a05d-d5739848596b\")>,\n",
       " <selenium.webdriver.remote.webelement.WebElement (session=\"d22b577b85e0469462c7747528053c2c\", element=\"2d59fa2f-1b4f-45ab-8283-3c91e3a8dfa5\")>,\n",
       " <selenium.webdriver.remote.webelement.WebElement (session=\"d22b577b85e0469462c7747528053c2c\", element=\"183c31de-e026-492e-a8b2-6a9791729392\")>,\n",
       " <selenium.webdriver.remote.webelement.WebElement (session=\"d22b577b85e0469462c7747528053c2c\", element=\"e225d44c-db42-40a0-acc4-cc27a2d5d475\")>,\n",
       " <selenium.webdriver.remote.webelement.WebElement (session=\"d22b577b85e0469462c7747528053c2c\", element=\"eef8a1b7-e664-4353-9480-832d1f12e23c\")>,\n",
       " <selenium.webdriver.remote.webelement.WebElement (session=\"d22b577b85e0469462c7747528053c2c\", element=\"f5586925-3d93-4aa8-92e4-f15b7ca8c8b8\")>,\n",
       " <selenium.webdriver.remote.webelement.WebElement (session=\"d22b577b85e0469462c7747528053c2c\", element=\"18c01a18-0d47-4b06-9638-9443149b5dfa\")>,\n",
       " <selenium.webdriver.remote.webelement.WebElement (session=\"d22b577b85e0469462c7747528053c2c\", element=\"5eb2c0f2-cb7c-499d-8824-5040adf415bd\")>,\n",
       " <selenium.webdriver.remote.webelement.WebElement (session=\"d22b577b85e0469462c7747528053c2c\", element=\"842aeeb1-4721-4259-a143-24eefc41cfe3\")>,\n",
       " <selenium.webdriver.remote.webelement.WebElement (session=\"d22b577b85e0469462c7747528053c2c\", element=\"fb5a813b-6f4f-4e09-894d-77daaba60873\")>,\n",
       " <selenium.webdriver.remote.webelement.WebElement (session=\"d22b577b85e0469462c7747528053c2c\", element=\"fcd4bd21-6044-4480-8a6c-8b305afd8a9b\")>,\n",
       " <selenium.webdriver.remote.webelement.WebElement (session=\"d22b577b85e0469462c7747528053c2c\", element=\"cfa388cc-67cf-43ba-b4be-782b0aa5bcb7\")>,\n",
       " <selenium.webdriver.remote.webelement.WebElement (session=\"d22b577b85e0469462c7747528053c2c\", element=\"60477d7f-e93d-4e88-b3df-dfe44748914a\")>,\n",
       " <selenium.webdriver.remote.webelement.WebElement (session=\"d22b577b85e0469462c7747528053c2c\", element=\"e0f66161-38e9-4e24-9dab-209f5a33d898\")>,\n",
       " <selenium.webdriver.remote.webelement.WebElement (session=\"d22b577b85e0469462c7747528053c2c\", element=\"c907d187-37e5-42ea-b392-b875d9942fc0\")>,\n",
       " <selenium.webdriver.remote.webelement.WebElement (session=\"d22b577b85e0469462c7747528053c2c\", element=\"8493a44f-add7-4fb9-a1b3-824568465c88\")>,\n",
       " <selenium.webdriver.remote.webelement.WebElement (session=\"d22b577b85e0469462c7747528053c2c\", element=\"3faecb0f-1967-4dc2-903a-f26c93ac6b19\")>,\n",
       " <selenium.webdriver.remote.webelement.WebElement (session=\"d22b577b85e0469462c7747528053c2c\", element=\"beb09ae8-352e-45c7-84ca-29ae96a12e3d\")>,\n",
       " <selenium.webdriver.remote.webelement.WebElement (session=\"d22b577b85e0469462c7747528053c2c\", element=\"3e2b5db8-c59e-4902-be54-adf12de9c577\")>,\n",
       " <selenium.webdriver.remote.webelement.WebElement (session=\"d22b577b85e0469462c7747528053c2c\", element=\"b1490ed3-0033-46f8-a76b-5d9564d31972\")>,\n",
       " <selenium.webdriver.remote.webelement.WebElement (session=\"d22b577b85e0469462c7747528053c2c\", element=\"7a57b621-08c5-4bd7-8a02-96e031b61569\")>,\n",
       " <selenium.webdriver.remote.webelement.WebElement (session=\"d22b577b85e0469462c7747528053c2c\", element=\"ee110d50-c72d-41e6-bfda-1bb0a2717554\")>,\n",
       " <selenium.webdriver.remote.webelement.WebElement (session=\"d22b577b85e0469462c7747528053c2c\", element=\"e2b82e03-dfd3-4ddc-9051-004d468e834f\")>,\n",
       " <selenium.webdriver.remote.webelement.WebElement (session=\"d22b577b85e0469462c7747528053c2c\", element=\"c7e3ae28-4394-41a9-b55d-0cbeb98d1ebf\")>,\n",
       " <selenium.webdriver.remote.webelement.WebElement (session=\"d22b577b85e0469462c7747528053c2c\", element=\"6c59dfab-5623-4cca-997e-5914d8b36d5c\")>,\n",
       " <selenium.webdriver.remote.webelement.WebElement (session=\"d22b577b85e0469462c7747528053c2c\", element=\"2c5abd4c-df51-4712-b442-14d559672dd1\")>,\n",
       " <selenium.webdriver.remote.webelement.WebElement (session=\"d22b577b85e0469462c7747528053c2c\", element=\"fd83c9d4-7fe0-443a-8109-15cbbe1dccb5\")>,\n",
       " <selenium.webdriver.remote.webelement.WebElement (session=\"d22b577b85e0469462c7747528053c2c\", element=\"4fc173bc-0145-4a99-8a45-a534a94dbd07\")>,\n",
       " <selenium.webdriver.remote.webelement.WebElement (session=\"d22b577b85e0469462c7747528053c2c\", element=\"a29b2710-fcfb-4d74-bdce-2421831c00e8\")>,\n",
       " <selenium.webdriver.remote.webelement.WebElement (session=\"d22b577b85e0469462c7747528053c2c\", element=\"99471635-f6a2-4595-80c1-b35be8762f15\")>,\n",
       " <selenium.webdriver.remote.webelement.WebElement (session=\"d22b577b85e0469462c7747528053c2c\", element=\"88de3a70-339a-4dd8-8861-3e8579e45a10\")>,\n",
       " <selenium.webdriver.remote.webelement.WebElement (session=\"d22b577b85e0469462c7747528053c2c\", element=\"470b5e7b-ffaf-4598-b5cc-2a5d7f9aeabe\")>,\n",
       " <selenium.webdriver.remote.webelement.WebElement (session=\"d22b577b85e0469462c7747528053c2c\", element=\"56a80e9d-2d6b-4f47-8dd9-5990127a6f6c\")>,\n",
       " <selenium.webdriver.remote.webelement.WebElement (session=\"d22b577b85e0469462c7747528053c2c\", element=\"d4706523-404a-428b-a412-9fa915440da1\")>,\n",
       " <selenium.webdriver.remote.webelement.WebElement (session=\"d22b577b85e0469462c7747528053c2c\", element=\"3f34822f-02d1-45fe-aded-109ab4238bfc\")>,\n",
       " <selenium.webdriver.remote.webelement.WebElement (session=\"d22b577b85e0469462c7747528053c2c\", element=\"bdff601b-976c-4cb8-8106-3cba159a605e\")>,\n",
       " <selenium.webdriver.remote.webelement.WebElement (session=\"d22b577b85e0469462c7747528053c2c\", element=\"83c53c1b-ddc9-4c6f-b787-fc5c5274c848\")>,\n",
       " <selenium.webdriver.remote.webelement.WebElement (session=\"d22b577b85e0469462c7747528053c2c\", element=\"ec8dc53f-f291-4b69-a25f-7c0d6313ee6a\")>,\n",
       " <selenium.webdriver.remote.webelement.WebElement (session=\"d22b577b85e0469462c7747528053c2c\", element=\"47e95bb7-0720-49cb-bebe-3627613b702e\")>,\n",
       " <selenium.webdriver.remote.webelement.WebElement (session=\"d22b577b85e0469462c7747528053c2c\", element=\"11709662-7d9b-43a3-85a8-23ecbfa32c6c\")>,\n",
       " <selenium.webdriver.remote.webelement.WebElement (session=\"d22b577b85e0469462c7747528053c2c\", element=\"2feee6ff-7651-491c-a96e-0c69c0a7f6cf\")>,\n",
       " <selenium.webdriver.remote.webelement.WebElement (session=\"d22b577b85e0469462c7747528053c2c\", element=\"8b112181-19c9-42b5-a7fb-35239a5835c6\")>,\n",
       " <selenium.webdriver.remote.webelement.WebElement (session=\"d22b577b85e0469462c7747528053c2c\", element=\"3188770d-cdbb-4be3-9eb0-981d1ae10f56\")>,\n",
       " <selenium.webdriver.remote.webelement.WebElement (session=\"d22b577b85e0469462c7747528053c2c\", element=\"59169b9f-e526-4dc4-9d81-d5b09bb97f61\")>,\n",
       " <selenium.webdriver.remote.webelement.WebElement (session=\"d22b577b85e0469462c7747528053c2c\", element=\"1b3e0723-1927-4701-96f7-77ba09cbe02c\")>,\n",
       " <selenium.webdriver.remote.webelement.WebElement (session=\"d22b577b85e0469462c7747528053c2c\", element=\"1c89ca5f-50a9-4aba-9f42-f6448dfe77b8\")>,\n",
       " <selenium.webdriver.remote.webelement.WebElement (session=\"d22b577b85e0469462c7747528053c2c\", element=\"3be1ce9f-75bb-4b7a-9d88-6461d347dd9f\")>,\n",
       " <selenium.webdriver.remote.webelement.WebElement (session=\"d22b577b85e0469462c7747528053c2c\", element=\"d15e1fa4-8001-47ce-87f2-208e9366b9b4\")>,\n",
       " <selenium.webdriver.remote.webelement.WebElement (session=\"d22b577b85e0469462c7747528053c2c\", element=\"12761e81-8869-4ef3-a9b9-3647dae955ed\")>,\n",
       " <selenium.webdriver.remote.webelement.WebElement (session=\"d22b577b85e0469462c7747528053c2c\", element=\"a75c49d6-2b48-4707-b206-62dae7ced4bb\")>,\n",
       " <selenium.webdriver.remote.webelement.WebElement (session=\"d22b577b85e0469462c7747528053c2c\", element=\"5159b1c4-fd35-40a2-8464-02f8cca30931\")>,\n",
       " <selenium.webdriver.remote.webelement.WebElement (session=\"d22b577b85e0469462c7747528053c2c\", element=\"81889f81-2732-4080-9dbb-558d95032e1f\")>,\n",
       " <selenium.webdriver.remote.webelement.WebElement (session=\"d22b577b85e0469462c7747528053c2c\", element=\"8c29025a-fbbe-4bfa-950a-7bd35d64b99f\")>,\n",
       " <selenium.webdriver.remote.webelement.WebElement (session=\"d22b577b85e0469462c7747528053c2c\", element=\"7c88d9c5-ce2b-4e48-8b69-ab8620d1529b\")>,\n",
       " <selenium.webdriver.remote.webelement.WebElement (session=\"d22b577b85e0469462c7747528053c2c\", element=\"416c4139-44af-471e-8583-00b592a7d8e3\")>,\n",
       " <selenium.webdriver.remote.webelement.WebElement (session=\"d22b577b85e0469462c7747528053c2c\", element=\"3ab2b608-fb1b-4185-8428-9610d45e685b\")>,\n",
       " <selenium.webdriver.remote.webelement.WebElement (session=\"d22b577b85e0469462c7747528053c2c\", element=\"7be54cb8-abf4-416c-990b-cbac47578908\")>,\n",
       " <selenium.webdriver.remote.webelement.WebElement (session=\"d22b577b85e0469462c7747528053c2c\", element=\"490cd1d5-0773-442c-be9d-799bb38c2c84\")>,\n",
       " <selenium.webdriver.remote.webelement.WebElement (session=\"d22b577b85e0469462c7747528053c2c\", element=\"4dd8ab59-0fb2-44a3-ac29-e1f7f5b614b2\")>,\n",
       " <selenium.webdriver.remote.webelement.WebElement (session=\"d22b577b85e0469462c7747528053c2c\", element=\"395efd58-fe3d-4589-a62d-7983fb35e5fd\")>,\n",
       " <selenium.webdriver.remote.webelement.WebElement (session=\"d22b577b85e0469462c7747528053c2c\", element=\"b6045015-0070-4a6e-b4bf-18122dc27a88\")>,\n",
       " <selenium.webdriver.remote.webelement.WebElement (session=\"d22b577b85e0469462c7747528053c2c\", element=\"ce8284b1-5f7e-4d04-87f8-2c8f8b243c56\")>,\n",
       " <selenium.webdriver.remote.webelement.WebElement (session=\"d22b577b85e0469462c7747528053c2c\", element=\"83562cba-3ec5-4d9d-96d7-ddcff93e6d5a\")>,\n",
       " <selenium.webdriver.remote.webelement.WebElement (session=\"d22b577b85e0469462c7747528053c2c\", element=\"2e9a9c3c-3ec8-409f-98bd-694c09c18289\")>,\n",
       " <selenium.webdriver.remote.webelement.WebElement (session=\"d22b577b85e0469462c7747528053c2c\", element=\"c9e9ed1e-5c78-4798-9fdc-4a522e16055b\")>,\n",
       " <selenium.webdriver.remote.webelement.WebElement (session=\"d22b577b85e0469462c7747528053c2c\", element=\"5f52337e-7056-479a-b9c6-3a31ef3996a2\")>,\n",
       " <selenium.webdriver.remote.webelement.WebElement (session=\"d22b577b85e0469462c7747528053c2c\", element=\"e261bfcd-94b7-4b4a-a665-464eeaea9481\")>,\n",
       " <selenium.webdriver.remote.webelement.WebElement (session=\"d22b577b85e0469462c7747528053c2c\", element=\"9f769999-80a7-4b18-9b39-72940449dfbe\")>,\n",
       " <selenium.webdriver.remote.webelement.WebElement (session=\"d22b577b85e0469462c7747528053c2c\", element=\"9f5f76c9-c42c-4e23-8880-ce5d7c6d0bae\")>,\n",
       " <selenium.webdriver.remote.webelement.WebElement (session=\"d22b577b85e0469462c7747528053c2c\", element=\"3e29d2b0-3b84-412d-8412-97d7451d59b4\")>,\n",
       " <selenium.webdriver.remote.webelement.WebElement (session=\"d22b577b85e0469462c7747528053c2c\", element=\"c114c390-2f12-460e-8f05-4782d11ec4d5\")>,\n",
       " <selenium.webdriver.remote.webelement.WebElement (session=\"d22b577b85e0469462c7747528053c2c\", element=\"7abe3f98-3e4a-495f-8993-f3c0d692462f\")>,\n",
       " <selenium.webdriver.remote.webelement.WebElement (session=\"d22b577b85e0469462c7747528053c2c\", element=\"93582b6d-619d-4caa-ac7d-f3d3e110dabe\")>,\n",
       " <selenium.webdriver.remote.webelement.WebElement (session=\"d22b577b85e0469462c7747528053c2c\", element=\"0ce82d1c-fc23-4199-916e-582f5b54efc7\")>,\n",
       " <selenium.webdriver.remote.webelement.WebElement (session=\"d22b577b85e0469462c7747528053c2c\", element=\"63654203-7066-4b1c-b1bb-c8c8b4497fbf\")>,\n",
       " <selenium.webdriver.remote.webelement.WebElement (session=\"d22b577b85e0469462c7747528053c2c\", element=\"96ecd12e-a060-48ae-939a-2ebc94f68d68\")>,\n",
       " <selenium.webdriver.remote.webelement.WebElement (session=\"d22b577b85e0469462c7747528053c2c\", element=\"ff000d2b-2b42-4ca4-8cd3-a3297ef33e5f\")>,\n",
       " <selenium.webdriver.remote.webelement.WebElement (session=\"d22b577b85e0469462c7747528053c2c\", element=\"7cec1846-41ed-4b31-842f-9d32d0ee953c\")>,\n",
       " <selenium.webdriver.remote.webelement.WebElement (session=\"d22b577b85e0469462c7747528053c2c\", element=\"4f5895a5-0881-4cca-8181-ff5cf39b237f\")>,\n",
       " <selenium.webdriver.remote.webelement.WebElement (session=\"d22b577b85e0469462c7747528053c2c\", element=\"30102ecd-f140-4383-8884-1a66ce351446\")>,\n",
       " <selenium.webdriver.remote.webelement.WebElement (session=\"d22b577b85e0469462c7747528053c2c\", element=\"e89e930e-3d67-4b42-ac46-9bd038ebb6e9\")>]"
      ]
     },
     "execution_count": 8,
     "metadata": {},
     "output_type": "execute_result"
    }
   ],
   "source": [
    "header2=browser.find_elements(\"xpath\",\"//div[@class='td-wrap-in']\")\n",
    "header2\n"
   ]
  },
  {
   "cell_type": "code",
   "execution_count": 9,
   "id": "aca74b6e",
   "metadata": {},
   "outputs": [
    {
     "data": {
      "text/plain": [
       "['81.4', '98.6', '98.9', '54.2', '94.8', '22.1', '14.9', '85.5', '56.9']"
      ]
     },
     "execution_count": 9,
     "metadata": {},
     "output_type": "execute_result"
    }
   ],
   "source": [
    "\n",
    "#PARSING DATA\n",
    "value_head=[]\n",
    "for data in header2:\n",
    "    #get the text data\n",
    "    temp=data.text\n",
    "    value_head.append(temp)\n",
    "value_head=value_head[51:60]\n",
    "value_head"
   ]
  },
  {
   "cell_type": "code",
   "execution_count": 10,
   "id": "6e0d5937",
   "metadata": {},
   "outputs": [
    {
     "data": {
      "text/plain": [
       "{'Overall Score': '81.4',\n",
       " 'Academic Reputation': '98.6',\n",
       " 'Employer Reputation': '98.9',\n",
       " 'Citations per Faculty': '54.2',\n",
       " 'Faculty Student Ratio': '94.8',\n",
       " 'International Students Ratio': '22.1',\n",
       " 'International Faculty Ratio': '14.9',\n",
       " 'International Research Network\\nUnweighted': '85.5',\n",
       " 'Employment Outcomes\\nUnweighted': '56.9'}"
      ]
     },
     "execution_count": 10,
     "metadata": {},
     "output_type": "execute_result"
    }
   ],
   "source": [
    "d={}\n",
    "for i in range(len(column_head)):\n",
    "    d[column_head[i]]=value_head[i]\n",
    "d"
   ]
  },
  {
   "cell_type": "code",
   "execution_count": 11,
   "id": "8f8bc16f",
   "metadata": {},
   "outputs": [
    {
     "data": {
      "text/plain": [
       "'{\"Overall Score\": \"81.4\", \"Academic Reputation\": \"98.6\", \"Employer Reputation\": \"98.9\", \"Citations per Faculty\": \"54.2\", \"Faculty Student Ratio\": \"94.8\", \"International Students Ratio\": \"22.1\", \"International Faculty Ratio\": \"14.9\", \"International Research Network\\\\nUnweighted\": \"85.5\", \"Employment Outcomes\\\\nUnweighted\": \"56.9\"}'"
      ]
     },
     "execution_count": 11,
     "metadata": {},
     "output_type": "execute_result"
    }
   ],
   "source": [
    "s1=json.dumps(d)\n",
    "s1\n"
   ]
  },
  {
   "cell_type": "code",
   "execution_count": 12,
   "id": "a99489a6",
   "metadata": {},
   "outputs": [],
   "source": [
    "with open('Kyoto University.json','w') as f:\n",
    "    json.dump(d,f)\n"
   ]
  },
  {
   "cell_type": "code",
   "execution_count": null,
   "id": "b1844177",
   "metadata": {},
   "outputs": [],
   "source": []
  }
 ],
 "metadata": {
  "kernelspec": {
   "display_name": "Python 3 (ipykernel)",
   "language": "python",
   "name": "python3"
  },
  "language_info": {
   "codemirror_mode": {
    "name": "ipython",
    "version": 3
   },
   "file_extension": ".py",
   "mimetype": "text/x-python",
   "name": "python",
   "nbconvert_exporter": "python",
   "pygments_lexer": "ipython3",
   "version": "3.9.12"
  }
 },
 "nbformat": 4,
 "nbformat_minor": 5
}
