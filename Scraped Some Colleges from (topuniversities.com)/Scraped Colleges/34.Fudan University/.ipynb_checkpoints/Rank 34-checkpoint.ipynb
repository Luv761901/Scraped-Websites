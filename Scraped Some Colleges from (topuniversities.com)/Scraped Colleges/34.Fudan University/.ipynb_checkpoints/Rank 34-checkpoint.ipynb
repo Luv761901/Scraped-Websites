{
 "cells": [
  {
   "cell_type": "code",
   "execution_count": 1,
   "id": "ce2fe35e",
   "metadata": {},
   "outputs": [],
   "source": [
    "from selenium import webdriver\n",
    "from selenium.webdriver.chrome.service import Service\n",
    "import pandas as pd\n",
    "import json"
   ]
  },
  {
   "cell_type": "code",
   "execution_count": 2,
   "id": "989f480a",
   "metadata": {},
   "outputs": [],
   "source": [
    "path = Service('C:\\chromedriver.exe')"
   ]
  },
  {
   "cell_type": "code",
   "execution_count": 3,
   "id": "8d9f94f0",
   "metadata": {},
   "outputs": [],
   "source": [
    "# set path for the driver\n",
    "browser = webdriver.Chrome(service = path)"
   ]
  },
  {
   "cell_type": "code",
   "execution_count": 4,
   "id": "0096b5ff",
   "metadata": {},
   "outputs": [],
   "source": [
    "url = \"https://www.topuniversities.com/university-rankings/world-university-rankings/2023\""
   ]
  },
  {
   "cell_type": "code",
   "execution_count": 5,
   "id": "686916ad",
   "metadata": {},
   "outputs": [],
   "source": [
    "# open the page url ion chrome\n",
    "browser.get(url)\n"
   ]
  },
  {
   "cell_type": "code",
   "execution_count": 7,
   "id": "4465ad94",
   "metadata": {},
   "outputs": [
    {
     "data": {
      "text/plain": [
       "[<selenium.webdriver.remote.webelement.WebElement (session=\"f3b91c7ec191e67c87009aa40629f056\", element=\"e89c42c2-67e5-436c-a37f-512e26755fe5\")>,\n",
       " <selenium.webdriver.remote.webelement.WebElement (session=\"f3b91c7ec191e67c87009aa40629f056\", element=\"ac67b9a8-1a28-4319-9111-b36d3ac2e286\")>,\n",
       " <selenium.webdriver.remote.webelement.WebElement (session=\"f3b91c7ec191e67c87009aa40629f056\", element=\"1d93eab4-6804-4b30-acdd-34b91c0b0cee\")>,\n",
       " <selenium.webdriver.remote.webelement.WebElement (session=\"f3b91c7ec191e67c87009aa40629f056\", element=\"03370d95-2c65-4158-b8c9-fddb61b6833f\")>,\n",
       " <selenium.webdriver.remote.webelement.WebElement (session=\"f3b91c7ec191e67c87009aa40629f056\", element=\"34196c64-9dd4-4da1-aec6-bcea6733c3ea\")>,\n",
       " <selenium.webdriver.remote.webelement.WebElement (session=\"f3b91c7ec191e67c87009aa40629f056\", element=\"59253422-38ba-404c-96dc-9d4863aaeb91\")>,\n",
       " <selenium.webdriver.remote.webelement.WebElement (session=\"f3b91c7ec191e67c87009aa40629f056\", element=\"b0fc525a-e96e-453a-a504-7551b011229c\")>,\n",
       " <selenium.webdriver.remote.webelement.WebElement (session=\"f3b91c7ec191e67c87009aa40629f056\", element=\"2c11638f-023a-421b-9f70-18fe2897b821\")>,\n",
       " <selenium.webdriver.remote.webelement.WebElement (session=\"f3b91c7ec191e67c87009aa40629f056\", element=\"0050aae3-2d0e-47cd-8b15-354d39527b83\")>,\n",
       " <selenium.webdriver.remote.webelement.WebElement (session=\"f3b91c7ec191e67c87009aa40629f056\", element=\"5cb186cf-7690-45e6-b6f4-c3d0ee4b790c\")>,\n",
       " <selenium.webdriver.remote.webelement.WebElement (session=\"f3b91c7ec191e67c87009aa40629f056\", element=\"a020c923-bd28-4747-9040-ec61957b36c6\")>,\n",
       " <selenium.webdriver.remote.webelement.WebElement (session=\"f3b91c7ec191e67c87009aa40629f056\", element=\"ffef5cb8-e656-40a0-af00-b1b68e245a3b\")>,\n",
       " <selenium.webdriver.remote.webelement.WebElement (session=\"f3b91c7ec191e67c87009aa40629f056\", element=\"e1542bf8-61bd-4c4b-99d4-4d3274ad77b1\")>,\n",
       " <selenium.webdriver.remote.webelement.WebElement (session=\"f3b91c7ec191e67c87009aa40629f056\", element=\"b4f20a02-fcad-4144-8061-8fd2eda02ded\")>,\n",
       " <selenium.webdriver.remote.webelement.WebElement (session=\"f3b91c7ec191e67c87009aa40629f056\", element=\"4f5c6b6a-d6d8-412c-9c11-0e49fa29c50b\")>,\n",
       " <selenium.webdriver.remote.webelement.WebElement (session=\"f3b91c7ec191e67c87009aa40629f056\", element=\"b0666580-da02-44bb-8ef2-4496be3a5945\")>,\n",
       " <selenium.webdriver.remote.webelement.WebElement (session=\"f3b91c7ec191e67c87009aa40629f056\", element=\"dd8e44b2-54a3-444d-bef7-f0502ae77163\")>,\n",
       " <selenium.webdriver.remote.webelement.WebElement (session=\"f3b91c7ec191e67c87009aa40629f056\", element=\"ec6a3731-ff5a-4ad4-8bc0-bbcf66c43c93\")>,\n",
       " <selenium.webdriver.remote.webelement.WebElement (session=\"f3b91c7ec191e67c87009aa40629f056\", element=\"5cbe30b4-1e58-4687-b0f1-81f79870864a\")>,\n",
       " <selenium.webdriver.remote.webelement.WebElement (session=\"f3b91c7ec191e67c87009aa40629f056\", element=\"f5ed904f-0eb0-4467-ba22-bfe1dd617882\")>]"
      ]
     },
     "execution_count": 7,
     "metadata": {},
     "output_type": "execute_result"
    }
   ],
   "source": [
    "l1=browser.find_elements(\"xpath\",\"//div[@class='location ']\")\n",
    "l1"
   ]
  },
  {
   "cell_type": "code",
   "execution_count": 8,
   "id": "743b19f8",
   "metadata": {},
   "outputs": [
    {
     "data": {
      "text/plain": [
       "['Montreal, Canada',\n",
       " 'Evanston, United States',\n",
       " 'Parkville, Australia',\n",
       " 'Shanghai, China (Mainland)',\n",
       " 'Toronto, Canada',\n",
       " 'Kyoto, Japan',\n",
       " 'London, United Kingdom',\n",
       " 'Hong Kong SAR, Hong Kong SAR',\n",
       " 'New York City, United States',\n",
       " 'Hong Kong SAR, Hong Kong SAR']"
      ]
     },
     "execution_count": 8,
     "metadata": {},
     "output_type": "execute_result"
    }
   ],
   "source": [
    "loc=[]\n",
    "for data in l1:\n",
    "    #get the text data\n",
    "    temp=data.text\n",
    "    loc.append(temp)\n",
    "loc=loc[10:]\n",
    "loc\n"
   ]
  },
  {
   "cell_type": "code",
   "execution_count": 9,
   "id": "5ec6a01a",
   "metadata": {},
   "outputs": [
    {
     "data": {
      "text/plain": [
       "[<selenium.webdriver.remote.webelement.WebElement (session=\"f3b91c7ec191e67c87009aa40629f056\", element=\"7ecb465b-6522-4a05-be70-c1c299fed02a\")>,\n",
       " <selenium.webdriver.remote.webelement.WebElement (session=\"f3b91c7ec191e67c87009aa40629f056\", element=\"ed5e5f3d-11c0-4045-9649-1a62f6ed7f54\")>,\n",
       " <selenium.webdriver.remote.webelement.WebElement (session=\"f3b91c7ec191e67c87009aa40629f056\", element=\"5eec5371-d182-4b93-868f-02362ed282de\")>,\n",
       " <selenium.webdriver.remote.webelement.WebElement (session=\"f3b91c7ec191e67c87009aa40629f056\", element=\"9cb96224-d832-472b-adfd-5a07246cb748\")>,\n",
       " <selenium.webdriver.remote.webelement.WebElement (session=\"f3b91c7ec191e67c87009aa40629f056\", element=\"7ed16502-269b-4cee-a982-b50f4d9e4239\")>,\n",
       " <selenium.webdriver.remote.webelement.WebElement (session=\"f3b91c7ec191e67c87009aa40629f056\", element=\"b4766499-a231-46b1-b548-58aa2a40976f\")>,\n",
       " <selenium.webdriver.remote.webelement.WebElement (session=\"f3b91c7ec191e67c87009aa40629f056\", element=\"836aaf01-aa5d-4522-aad8-c19658a82c43\")>,\n",
       " <selenium.webdriver.remote.webelement.WebElement (session=\"f3b91c7ec191e67c87009aa40629f056\", element=\"6141c221-f34b-44ef-a878-892be74fa598\")>,\n",
       " <selenium.webdriver.remote.webelement.WebElement (session=\"f3b91c7ec191e67c87009aa40629f056\", element=\"48608f06-e4a0-46ac-91de-bb7be07bdca4\")>,\n",
       " <selenium.webdriver.remote.webelement.WebElement (session=\"f3b91c7ec191e67c87009aa40629f056\", element=\"0276f37e-83ce-462f-88af-12fdafdf2889\")>]"
      ]
     },
     "execution_count": 9,
     "metadata": {},
     "output_type": "execute_result"
    }
   ],
   "source": [
    "l2=browser.find_elements(\"xpath\",\"//div[@class='_univ-rank ']\")\n",
    "l2\n"
   ]
  },
  {
   "cell_type": "code",
   "execution_count": 10,
   "id": "6ac205d5",
   "metadata": {},
   "outputs": [
    {
     "data": {
      "text/plain": [
       "['31', '32', '33', '=34', '=34', '36', '37', '38', '39', '40']"
      ]
     },
     "execution_count": 10,
     "metadata": {},
     "output_type": "execute_result"
    }
   ],
   "source": [
    "RANK=[]\n",
    "for data in l2:\n",
    "    #get the text data\n",
    "    temp=data.text\n",
    "    RANK.append(temp)\n",
    "RANK"
   ]
  },
  {
   "cell_type": "code",
   "execution_count": 11,
   "id": "3e9d40cf",
   "metadata": {},
   "outputs": [
    {
     "data": {
      "text/plain": [
       "[<selenium.webdriver.remote.webelement.WebElement (session=\"f3b91c7ec191e67c87009aa40629f056\", element=\"e5699a10-90ae-4023-9800-c4eb605092ad\")>,\n",
       " <selenium.webdriver.remote.webelement.WebElement (session=\"f3b91c7ec191e67c87009aa40629f056\", element=\"69b0214b-c571-415a-81ea-c5c22683e351\")>,\n",
       " <selenium.webdriver.remote.webelement.WebElement (session=\"f3b91c7ec191e67c87009aa40629f056\", element=\"30643988-84cd-408b-87d3-4377f98a8f16\")>,\n",
       " <selenium.webdriver.remote.webelement.WebElement (session=\"f3b91c7ec191e67c87009aa40629f056\", element=\"07166eba-cbc3-4ff6-ad5f-7c12a2f0cf4b\")>,\n",
       " <selenium.webdriver.remote.webelement.WebElement (session=\"f3b91c7ec191e67c87009aa40629f056\", element=\"1a8a65ab-481c-456e-beb7-8b8cd061d440\")>,\n",
       " <selenium.webdriver.remote.webelement.WebElement (session=\"f3b91c7ec191e67c87009aa40629f056\", element=\"e9aeef1a-afeb-458a-924a-8c71bcb80031\")>,\n",
       " <selenium.webdriver.remote.webelement.WebElement (session=\"f3b91c7ec191e67c87009aa40629f056\", element=\"df20129f-10a8-41e6-b5ab-9591213855a4\")>,\n",
       " <selenium.webdriver.remote.webelement.WebElement (session=\"f3b91c7ec191e67c87009aa40629f056\", element=\"79cce1c4-b684-4d2c-914b-a680d96aaade\")>,\n",
       " <selenium.webdriver.remote.webelement.WebElement (session=\"f3b91c7ec191e67c87009aa40629f056\", element=\"bd1cee67-381c-43fe-be2d-0d72b4a80728\")>]"
      ]
     },
     "execution_count": 11,
     "metadata": {},
     "output_type": "execute_result"
    }
   ],
   "source": [
    "# GET EACH COLLEGE SPECIFICATION HEADERS\n",
    "header=browser.find_elements(\"xpath\",\"//div[@class='_click-function_ind']\")\n",
    "header"
   ]
  },
  {
   "cell_type": "code",
   "execution_count": 12,
   "id": "1b3e549e",
   "metadata": {},
   "outputs": [
    {
     "data": {
      "text/plain": [
       "['Overall Score',\n",
       " 'Academic Reputation',\n",
       " 'Employer Reputation',\n",
       " 'Citations per Faculty',\n",
       " 'Faculty Student Ratio',\n",
       " 'International Students Ratio',\n",
       " 'International Faculty Ratio',\n",
       " 'International Research Network\\nUnweighted',\n",
       " 'Employment Outcomes\\nUnweighted']"
      ]
     },
     "execution_count": 12,
     "metadata": {},
     "output_type": "execute_result"
    }
   ],
   "source": [
    "#PARSING DATA\n",
    "column_head=[]\n",
    "for data in header:\n",
    "    #get the text data\n",
    "    temp=data.text\n",
    "    column_head.append(temp)\n",
    "column_head"
   ]
  },
  {
   "cell_type": "code",
   "execution_count": 13,
   "id": "bc02c843",
   "metadata": {},
   "outputs": [
    {
     "data": {
      "text/plain": [
       "[<selenium.webdriver.remote.webelement.WebElement (session=\"f3b91c7ec191e67c87009aa40629f056\", element=\"7cc5d13d-ec99-42bf-a508-f285bb1626dc\")>,\n",
       " <selenium.webdriver.remote.webelement.WebElement (session=\"f3b91c7ec191e67c87009aa40629f056\", element=\"7d46c201-fdc5-493b-b4a2-08da4973aa9d\")>,\n",
       " <selenium.webdriver.remote.webelement.WebElement (session=\"f3b91c7ec191e67c87009aa40629f056\", element=\"2e813496-ea77-424c-b0c7-e9effe2a3ef4\")>,\n",
       " <selenium.webdriver.remote.webelement.WebElement (session=\"f3b91c7ec191e67c87009aa40629f056\", element=\"b6133a45-a4f1-4f48-acc0-ef09aff251aa\")>,\n",
       " <selenium.webdriver.remote.webelement.WebElement (session=\"f3b91c7ec191e67c87009aa40629f056\", element=\"864ff09b-2a99-481e-9126-a3cf20603d34\")>,\n",
       " <selenium.webdriver.remote.webelement.WebElement (session=\"f3b91c7ec191e67c87009aa40629f056\", element=\"1c8c0c99-7880-41a4-92cc-e016379c98be\")>,\n",
       " <selenium.webdriver.remote.webelement.WebElement (session=\"f3b91c7ec191e67c87009aa40629f056\", element=\"442ffdd0-a4c2-4cc1-9ef7-be0260d490aa\")>,\n",
       " <selenium.webdriver.remote.webelement.WebElement (session=\"f3b91c7ec191e67c87009aa40629f056\", element=\"4538be8a-ed19-4933-a0c3-c9fb6c7d0023\")>,\n",
       " <selenium.webdriver.remote.webelement.WebElement (session=\"f3b91c7ec191e67c87009aa40629f056\", element=\"d67503f2-5019-4551-90c4-fe684624cf96\")>,\n",
       " <selenium.webdriver.remote.webelement.WebElement (session=\"f3b91c7ec191e67c87009aa40629f056\", element=\"ecf4edfe-e289-4f7a-a3fc-6473a7945151\")>,\n",
       " <selenium.webdriver.remote.webelement.WebElement (session=\"f3b91c7ec191e67c87009aa40629f056\", element=\"f40c14e0-c47f-4b54-af37-2c0fa5a8aa1c\")>,\n",
       " <selenium.webdriver.remote.webelement.WebElement (session=\"f3b91c7ec191e67c87009aa40629f056\", element=\"5525a6b0-f070-42c7-be34-ce3cede441ff\")>,\n",
       " <selenium.webdriver.remote.webelement.WebElement (session=\"f3b91c7ec191e67c87009aa40629f056\", element=\"a94570f4-6037-49f1-9f16-9f529badd1d8\")>,\n",
       " <selenium.webdriver.remote.webelement.WebElement (session=\"f3b91c7ec191e67c87009aa40629f056\", element=\"c769be07-cc7f-4a1f-9955-7c07065048ad\")>,\n",
       " <selenium.webdriver.remote.webelement.WebElement (session=\"f3b91c7ec191e67c87009aa40629f056\", element=\"ee0bff42-5c8b-4850-a4f4-fd7ea1fbe30b\")>,\n",
       " <selenium.webdriver.remote.webelement.WebElement (session=\"f3b91c7ec191e67c87009aa40629f056\", element=\"070f0cb6-1ca1-4c29-92eb-74680bfe842f\")>,\n",
       " <selenium.webdriver.remote.webelement.WebElement (session=\"f3b91c7ec191e67c87009aa40629f056\", element=\"8661e15d-3e03-4c4a-8ca7-dd1aa0040023\")>,\n",
       " <selenium.webdriver.remote.webelement.WebElement (session=\"f3b91c7ec191e67c87009aa40629f056\", element=\"c71e3d33-0bdc-4c58-b4f0-3fa34b00d430\")>,\n",
       " <selenium.webdriver.remote.webelement.WebElement (session=\"f3b91c7ec191e67c87009aa40629f056\", element=\"9008d36f-c6f3-4426-b2a3-63e6bddccd8d\")>,\n",
       " <selenium.webdriver.remote.webelement.WebElement (session=\"f3b91c7ec191e67c87009aa40629f056\", element=\"b13b76ea-6fd5-4721-ad7c-4f13ea86af1f\")>,\n",
       " <selenium.webdriver.remote.webelement.WebElement (session=\"f3b91c7ec191e67c87009aa40629f056\", element=\"f024c4af-34fd-4b31-9e0d-3cad964c0b61\")>,\n",
       " <selenium.webdriver.remote.webelement.WebElement (session=\"f3b91c7ec191e67c87009aa40629f056\", element=\"d0b94093-3f1a-488c-96f2-4dd18bee6e8c\")>,\n",
       " <selenium.webdriver.remote.webelement.WebElement (session=\"f3b91c7ec191e67c87009aa40629f056\", element=\"e985a370-f5c2-4536-a56a-0d2c2fab4a33\")>,\n",
       " <selenium.webdriver.remote.webelement.WebElement (session=\"f3b91c7ec191e67c87009aa40629f056\", element=\"10340420-f946-403e-ad12-441f56c62d2e\")>,\n",
       " <selenium.webdriver.remote.webelement.WebElement (session=\"f3b91c7ec191e67c87009aa40629f056\", element=\"dbd6ac42-053c-4f9f-9c37-35a427e47f6c\")>,\n",
       " <selenium.webdriver.remote.webelement.WebElement (session=\"f3b91c7ec191e67c87009aa40629f056\", element=\"a24f28d1-e5f1-4687-a142-ab252a6a493e\")>,\n",
       " <selenium.webdriver.remote.webelement.WebElement (session=\"f3b91c7ec191e67c87009aa40629f056\", element=\"8c34c666-9bf9-4c9a-8691-0ec713f2fc43\")>,\n",
       " <selenium.webdriver.remote.webelement.WebElement (session=\"f3b91c7ec191e67c87009aa40629f056\", element=\"00750c23-6879-45af-ad71-e632885d10e1\")>,\n",
       " <selenium.webdriver.remote.webelement.WebElement (session=\"f3b91c7ec191e67c87009aa40629f056\", element=\"39045348-e4e7-437d-92cf-cded5e2b3939\")>,\n",
       " <selenium.webdriver.remote.webelement.WebElement (session=\"f3b91c7ec191e67c87009aa40629f056\", element=\"423a36fb-d9ec-4fad-b552-f5e385e0be28\")>,\n",
       " <selenium.webdriver.remote.webelement.WebElement (session=\"f3b91c7ec191e67c87009aa40629f056\", element=\"ee61a8cc-85f0-4b32-9067-9abe7f106a55\")>,\n",
       " <selenium.webdriver.remote.webelement.WebElement (session=\"f3b91c7ec191e67c87009aa40629f056\", element=\"f3c774c9-74a4-4f9a-9512-46f0067c82f5\")>,\n",
       " <selenium.webdriver.remote.webelement.WebElement (session=\"f3b91c7ec191e67c87009aa40629f056\", element=\"9301aca1-efb7-4c94-8342-29f75c6ede52\")>,\n",
       " <selenium.webdriver.remote.webelement.WebElement (session=\"f3b91c7ec191e67c87009aa40629f056\", element=\"835c838b-4af8-4dde-bce8-911c58e85c45\")>,\n",
       " <selenium.webdriver.remote.webelement.WebElement (session=\"f3b91c7ec191e67c87009aa40629f056\", element=\"95b9ec27-92eb-4d84-b095-94c08ce8a2c0\")>,\n",
       " <selenium.webdriver.remote.webelement.WebElement (session=\"f3b91c7ec191e67c87009aa40629f056\", element=\"85052bcf-e6c6-4185-9672-871045f36777\")>,\n",
       " <selenium.webdriver.remote.webelement.WebElement (session=\"f3b91c7ec191e67c87009aa40629f056\", element=\"e637a151-8902-4729-8871-b6fe5aadb399\")>,\n",
       " <selenium.webdriver.remote.webelement.WebElement (session=\"f3b91c7ec191e67c87009aa40629f056\", element=\"76364175-878d-4807-a463-4fea05f5b8a9\")>,\n",
       " <selenium.webdriver.remote.webelement.WebElement (session=\"f3b91c7ec191e67c87009aa40629f056\", element=\"0497cdb7-397f-4c62-a614-a52f2b931dc0\")>,\n",
       " <selenium.webdriver.remote.webelement.WebElement (session=\"f3b91c7ec191e67c87009aa40629f056\", element=\"fb667639-fe1c-404a-9c0d-d9b63109dcc0\")>,\n",
       " <selenium.webdriver.remote.webelement.WebElement (session=\"f3b91c7ec191e67c87009aa40629f056\", element=\"08c45b45-fb8b-410e-b037-c640e107aa55\")>,\n",
       " <selenium.webdriver.remote.webelement.WebElement (session=\"f3b91c7ec191e67c87009aa40629f056\", element=\"2ff93d00-33ac-4d06-a7b0-e30218ad2e38\")>,\n",
       " <selenium.webdriver.remote.webelement.WebElement (session=\"f3b91c7ec191e67c87009aa40629f056\", element=\"33fe3165-680b-445b-a6de-1cdeb014b38d\")>,\n",
       " <selenium.webdriver.remote.webelement.WebElement (session=\"f3b91c7ec191e67c87009aa40629f056\", element=\"d7b7cdb8-e532-44a1-8b25-a7ece80b282a\")>,\n",
       " <selenium.webdriver.remote.webelement.WebElement (session=\"f3b91c7ec191e67c87009aa40629f056\", element=\"2fd4197d-eb6d-4576-89c3-a7890a926683\")>,\n",
       " <selenium.webdriver.remote.webelement.WebElement (session=\"f3b91c7ec191e67c87009aa40629f056\", element=\"8caf8efb-b210-4b98-9fcd-ad328012a4a5\")>,\n",
       " <selenium.webdriver.remote.webelement.WebElement (session=\"f3b91c7ec191e67c87009aa40629f056\", element=\"fac825af-fd28-4d0c-89d1-1b2d27556539\")>,\n",
       " <selenium.webdriver.remote.webelement.WebElement (session=\"f3b91c7ec191e67c87009aa40629f056\", element=\"b99466f4-68ac-4174-a328-3030b66497b4\")>,\n",
       " <selenium.webdriver.remote.webelement.WebElement (session=\"f3b91c7ec191e67c87009aa40629f056\", element=\"c8507234-9e0d-41b2-b139-df0e4fd2b828\")>,\n",
       " <selenium.webdriver.remote.webelement.WebElement (session=\"f3b91c7ec191e67c87009aa40629f056\", element=\"0d917161-abea-4fb1-93a6-b1bd55be6a4b\")>,\n",
       " <selenium.webdriver.remote.webelement.WebElement (session=\"f3b91c7ec191e67c87009aa40629f056\", element=\"0d19e8d0-4d33-44a1-9d01-a0897f53995b\")>,\n",
       " <selenium.webdriver.remote.webelement.WebElement (session=\"f3b91c7ec191e67c87009aa40629f056\", element=\"23dfecee-dc66-4c05-aae3-f27293a8bb77\")>,\n",
       " <selenium.webdriver.remote.webelement.WebElement (session=\"f3b91c7ec191e67c87009aa40629f056\", element=\"d3434f59-2f57-425e-ae3a-0a07693e0b7e\")>,\n",
       " <selenium.webdriver.remote.webelement.WebElement (session=\"f3b91c7ec191e67c87009aa40629f056\", element=\"b360e424-1925-433b-b7bf-95a6ad1ea901\")>,\n",
       " <selenium.webdriver.remote.webelement.WebElement (session=\"f3b91c7ec191e67c87009aa40629f056\", element=\"cd0f3264-fe7d-4243-86fc-4c048bd52f4a\")>,\n",
       " <selenium.webdriver.remote.webelement.WebElement (session=\"f3b91c7ec191e67c87009aa40629f056\", element=\"231abdd0-a645-49a1-a633-507011b7145e\")>,\n",
       " <selenium.webdriver.remote.webelement.WebElement (session=\"f3b91c7ec191e67c87009aa40629f056\", element=\"bc9a1963-4b7d-4a68-b51d-ccf85a5c0d3d\")>,\n",
       " <selenium.webdriver.remote.webelement.WebElement (session=\"f3b91c7ec191e67c87009aa40629f056\", element=\"3928fccf-f2f1-4608-ad37-d9d20ed2080d\")>,\n",
       " <selenium.webdriver.remote.webelement.WebElement (session=\"f3b91c7ec191e67c87009aa40629f056\", element=\"47fe93f3-46d0-4a6e-a1b9-61f6d5082279\")>,\n",
       " <selenium.webdriver.remote.webelement.WebElement (session=\"f3b91c7ec191e67c87009aa40629f056\", element=\"04b97fca-e619-4af1-ae5f-0ceb0db259d1\")>,\n",
       " <selenium.webdriver.remote.webelement.WebElement (session=\"f3b91c7ec191e67c87009aa40629f056\", element=\"a25a0cdf-5bea-4ff1-8158-0b7c09ab4445\")>,\n",
       " <selenium.webdriver.remote.webelement.WebElement (session=\"f3b91c7ec191e67c87009aa40629f056\", element=\"3ee661f4-bbde-4748-a21d-479cc243553d\")>,\n",
       " <selenium.webdriver.remote.webelement.WebElement (session=\"f3b91c7ec191e67c87009aa40629f056\", element=\"a912fc63-32ec-40c0-81eb-dbf85dc4abb7\")>,\n",
       " <selenium.webdriver.remote.webelement.WebElement (session=\"f3b91c7ec191e67c87009aa40629f056\", element=\"8c3953bf-32af-4260-9ce2-55f970a542b9\")>,\n",
       " <selenium.webdriver.remote.webelement.WebElement (session=\"f3b91c7ec191e67c87009aa40629f056\", element=\"3cee8e74-675b-403d-88b4-28b21337c0c9\")>,\n",
       " <selenium.webdriver.remote.webelement.WebElement (session=\"f3b91c7ec191e67c87009aa40629f056\", element=\"900ea7c6-d4bf-434c-9e43-5bd1ec4995c7\")>,\n",
       " <selenium.webdriver.remote.webelement.WebElement (session=\"f3b91c7ec191e67c87009aa40629f056\", element=\"8eadf080-2f71-45fb-a645-5bf4a434d343\")>,\n",
       " <selenium.webdriver.remote.webelement.WebElement (session=\"f3b91c7ec191e67c87009aa40629f056\", element=\"85cc956a-2d4c-4cb5-bc03-05ddd176453a\")>,\n",
       " <selenium.webdriver.remote.webelement.WebElement (session=\"f3b91c7ec191e67c87009aa40629f056\", element=\"061ac374-94af-4b53-a4cf-c95706c0fd36\")>,\n",
       " <selenium.webdriver.remote.webelement.WebElement (session=\"f3b91c7ec191e67c87009aa40629f056\", element=\"76735399-4245-446c-af25-fe85907e9b7c\")>,\n",
       " <selenium.webdriver.remote.webelement.WebElement (session=\"f3b91c7ec191e67c87009aa40629f056\", element=\"317490f0-83e7-4894-9e09-4b06d6131c31\")>,\n",
       " <selenium.webdriver.remote.webelement.WebElement (session=\"f3b91c7ec191e67c87009aa40629f056\", element=\"d37a1315-5d66-4b0d-a1a8-f5ad57d9c3fe\")>,\n",
       " <selenium.webdriver.remote.webelement.WebElement (session=\"f3b91c7ec191e67c87009aa40629f056\", element=\"3b7e3dc8-c457-458d-b97d-10702377b0a3\")>,\n",
       " <selenium.webdriver.remote.webelement.WebElement (session=\"f3b91c7ec191e67c87009aa40629f056\", element=\"1d14f439-59dc-4b05-8ab9-6fd95db8fe9a\")>,\n",
       " <selenium.webdriver.remote.webelement.WebElement (session=\"f3b91c7ec191e67c87009aa40629f056\", element=\"12d5ff55-c818-4693-916b-ed906162e5ee\")>,\n",
       " <selenium.webdriver.remote.webelement.WebElement (session=\"f3b91c7ec191e67c87009aa40629f056\", element=\"6578ef7d-9fec-4b7e-8af5-a6fb8723f867\")>,\n",
       " <selenium.webdriver.remote.webelement.WebElement (session=\"f3b91c7ec191e67c87009aa40629f056\", element=\"374fa762-aac4-4f8f-89a1-79d8534f5633\")>,\n",
       " <selenium.webdriver.remote.webelement.WebElement (session=\"f3b91c7ec191e67c87009aa40629f056\", element=\"49f78978-42b3-4c39-88a4-8379d4df87c9\")>,\n",
       " <selenium.webdriver.remote.webelement.WebElement (session=\"f3b91c7ec191e67c87009aa40629f056\", element=\"5d5984c0-5978-4f2b-b148-68d531c42de0\")>,\n",
       " <selenium.webdriver.remote.webelement.WebElement (session=\"f3b91c7ec191e67c87009aa40629f056\", element=\"2118a949-dbb5-4e84-adc5-7e2bb72195bb\")>,\n",
       " <selenium.webdriver.remote.webelement.WebElement (session=\"f3b91c7ec191e67c87009aa40629f056\", element=\"af83122c-dbb5-450f-8ef2-1a8912d8dce5\")>,\n",
       " <selenium.webdriver.remote.webelement.WebElement (session=\"f3b91c7ec191e67c87009aa40629f056\", element=\"6426896c-77c1-49df-8bfa-04a6458f0aa7\")>,\n",
       " <selenium.webdriver.remote.webelement.WebElement (session=\"f3b91c7ec191e67c87009aa40629f056\", element=\"cded9e93-3707-4411-adf1-33eae67cb07a\")>,\n",
       " <selenium.webdriver.remote.webelement.WebElement (session=\"f3b91c7ec191e67c87009aa40629f056\", element=\"46ab9a04-f29d-4f22-b839-feaf34221f07\")>,\n",
       " <selenium.webdriver.remote.webelement.WebElement (session=\"f3b91c7ec191e67c87009aa40629f056\", element=\"99fb141c-db43-4ab2-9305-cc11a58beb3f\")>,\n",
       " <selenium.webdriver.remote.webelement.WebElement (session=\"f3b91c7ec191e67c87009aa40629f056\", element=\"902ebe5e-0abd-4f63-a5c8-837b02a00902\")>,\n",
       " <selenium.webdriver.remote.webelement.WebElement (session=\"f3b91c7ec191e67c87009aa40629f056\", element=\"f04b3ccd-96d9-4cde-b5ed-aaf9cfba6731\")>,\n",
       " <selenium.webdriver.remote.webelement.WebElement (session=\"f3b91c7ec191e67c87009aa40629f056\", element=\"c0586146-9a06-4168-af38-e0a8e6f6f812\")>,\n",
       " <selenium.webdriver.remote.webelement.WebElement (session=\"f3b91c7ec191e67c87009aa40629f056\", element=\"75410e81-eb01-4f89-a682-6b0e05e7c85b\")>,\n",
       " <selenium.webdriver.remote.webelement.WebElement (session=\"f3b91c7ec191e67c87009aa40629f056\", element=\"f2095d1d-5653-4151-b9d7-db68d4eb6ce7\")>,\n",
       " <selenium.webdriver.remote.webelement.WebElement (session=\"f3b91c7ec191e67c87009aa40629f056\", element=\"5e36eb8c-0278-44ea-8d20-dc2a280ae720\")>,\n",
       " <selenium.webdriver.remote.webelement.WebElement (session=\"f3b91c7ec191e67c87009aa40629f056\", element=\"c7603a6e-919f-43c2-aecf-f95fa825df09\")>,\n",
       " <selenium.webdriver.remote.webelement.WebElement (session=\"f3b91c7ec191e67c87009aa40629f056\", element=\"bd0613ff-32f4-4ff9-ac46-cc016ab7bcbe\")>,\n",
       " <selenium.webdriver.remote.webelement.WebElement (session=\"f3b91c7ec191e67c87009aa40629f056\", element=\"4eaec9c5-f33c-4238-9a0d-23244daa7c9e\")>,\n",
       " <selenium.webdriver.remote.webelement.WebElement (session=\"f3b91c7ec191e67c87009aa40629f056\", element=\"df40574f-1541-4d25-80b2-f5bb4bb5db08\")>,\n",
       " <selenium.webdriver.remote.webelement.WebElement (session=\"f3b91c7ec191e67c87009aa40629f056\", element=\"01c76863-c765-49c8-a047-d9e922220362\")>,\n",
       " <selenium.webdriver.remote.webelement.WebElement (session=\"f3b91c7ec191e67c87009aa40629f056\", element=\"d0bec84d-b372-4d85-bc99-2044c2991172\")>,\n",
       " <selenium.webdriver.remote.webelement.WebElement (session=\"f3b91c7ec191e67c87009aa40629f056\", element=\"7a1eb167-b0ce-49a3-80dd-db494ab944b5\")>,\n",
       " <selenium.webdriver.remote.webelement.WebElement (session=\"f3b91c7ec191e67c87009aa40629f056\", element=\"f181c7ab-2077-4b66-8bf9-359c56847173\")>,\n",
       " <selenium.webdriver.remote.webelement.WebElement (session=\"f3b91c7ec191e67c87009aa40629f056\", element=\"f07a638f-2805-42f7-ac0c-067e48656c29\")>]"
      ]
     },
     "execution_count": 13,
     "metadata": {},
     "output_type": "execute_result"
    }
   ],
   "source": [
    "header2=browser.find_elements(\"xpath\",\"//div[@class='td-wrap-in']\")\n",
    "header2"
   ]
  },
  {
   "cell_type": "code",
   "execution_count": 14,
   "id": "024e2cb9",
   "metadata": {},
   "outputs": [
    {
     "data": {
      "text/plain": [
       "['81.5', '83.6', '93.5', '70.4', '89.3', '38.7', '89.3', '70.6', '65.7']"
      ]
     },
     "execution_count": 14,
     "metadata": {},
     "output_type": "execute_result"
    }
   ],
   "source": [
    "#PARSING DATA\n",
    "value_head=[]\n",
    "for data in header2:\n",
    "    #get the text data\n",
    "    temp=data.text\n",
    "    value_head.append(temp)\n",
    "value=value_head[31:40]\n",
    "value"
   ]
  },
  {
   "cell_type": "code",
   "execution_count": 15,
   "id": "5b55b733",
   "metadata": {},
   "outputs": [
    {
     "data": {
      "text/plain": [
       "{'Name': 'Fudan University',\n",
       " 'Location': 'Shanghai, China (Mainland)',\n",
       " 'Rank': '=34',\n",
       " 'Overall Score': '81.5',\n",
       " 'Academic Reputation': '83.6',\n",
       " 'Employer Reputation': '93.5',\n",
       " 'Citations per Faculty': '70.4',\n",
       " 'Faculty Student Ratio': '89.3',\n",
       " 'International Students Ratio': '38.7',\n",
       " 'International Faculty Ratio': '89.3',\n",
       " 'International Research Network\\nUnweighted': '70.6',\n",
       " 'Employment Outcomes\\nUnweighted': '65.7'}"
      ]
     },
     "execution_count": 15,
     "metadata": {},
     "output_type": "execute_result"
    }
   ],
   "source": [
    "d={}\n",
    "d['Name']=value_head[30]\n",
    "d['Location']=loc[3]\n",
    "d['Rank']=RANK[3]\n",
    "\n",
    "\n",
    "for i in range(len(column_head)):\n",
    "    d[column_head[i]]=value[i]\n",
    "d\n"
   ]
  },
  {
   "cell_type": "code",
   "execution_count": 16,
   "id": "2a618c7e",
   "metadata": {},
   "outputs": [
    {
     "data": {
      "text/plain": [
       "'{\"Name\": \"Fudan University\", \"Location\": \"Shanghai, China (Mainland)\", \"Rank\": \"=34\", \"Overall Score\": \"81.5\", \"Academic Reputation\": \"83.6\", \"Employer Reputation\": \"93.5\", \"Citations per Faculty\": \"70.4\", \"Faculty Student Ratio\": \"89.3\", \"International Students Ratio\": \"38.7\", \"International Faculty Ratio\": \"89.3\", \"International Research Network\\\\nUnweighted\": \"70.6\", \"Employment Outcomes\\\\nUnweighted\": \"65.7\"}'"
      ]
     },
     "execution_count": 16,
     "metadata": {},
     "output_type": "execute_result"
    }
   ],
   "source": [
    "s1=json.dumps(d)\n",
    "s1\n"
   ]
  },
  {
   "cell_type": "code",
   "execution_count": 17,
   "id": "4987b6fe",
   "metadata": {},
   "outputs": [],
   "source": [
    "with open('Fudan University.json','w') as f:\n",
    "    json.dump(d,f)\n"
   ]
  },
  {
   "cell_type": "code",
   "execution_count": null,
   "id": "4b0ba520",
   "metadata": {},
   "outputs": [],
   "source": []
  }
 ],
 "metadata": {
  "kernelspec": {
   "display_name": "Python 3 (ipykernel)",
   "language": "python",
   "name": "python3"
  },
  "language_info": {
   "codemirror_mode": {
    "name": "ipython",
    "version": 3
   },
   "file_extension": ".py",
   "mimetype": "text/x-python",
   "name": "python",
   "nbconvert_exporter": "python",
   "pygments_lexer": "ipython3",
   "version": "3.9.12"
  }
 },
 "nbformat": 4,
 "nbformat_minor": 5
}
