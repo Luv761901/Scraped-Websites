{
 "cells": [
  {
   "cell_type": "code",
   "execution_count": 2,
   "id": "ce2fe35e",
   "metadata": {},
   "outputs": [],
   "source": [
    "from selenium import webdriver\n",
    "from selenium.webdriver.chrome.service import Service\n",
    "import pandas as pd\n",
    "import json"
   ]
  },
  {
   "cell_type": "code",
   "execution_count": 3,
   "id": "989f480a",
   "metadata": {},
   "outputs": [],
   "source": [
    "path = Service('C:\\chromedriver.exe')"
   ]
  },
  {
   "cell_type": "code",
   "execution_count": 4,
   "id": "8d9f94f0",
   "metadata": {},
   "outputs": [],
   "source": [
    "# set path for the driver\n",
    "browser = webdriver.Chrome(service = path)"
   ]
  },
  {
   "cell_type": "code",
   "execution_count": 5,
   "id": "0096b5ff",
   "metadata": {},
   "outputs": [],
   "source": [
    "url = \"https://www.topuniversities.com/university-rankings/world-university-rankings/2023\""
   ]
  },
  {
   "cell_type": "code",
   "execution_count": 6,
   "id": "686916ad",
   "metadata": {},
   "outputs": [],
   "source": [
    "# open the page url ion chrome\n",
    "browser.get(url)\n"
   ]
  },
  {
   "cell_type": "code",
   "execution_count": 7,
   "id": "3e9d40cf",
   "metadata": {},
   "outputs": [
    {
     "data": {
      "text/plain": [
       "[<selenium.webdriver.remote.webelement.WebElement (session=\"237f29fd5f19f7511312f6122fcea4de\", element=\"1d625f1d-64d1-4c8a-993d-b7ad484fa2c5\")>,\n",
       " <selenium.webdriver.remote.webelement.WebElement (session=\"237f29fd5f19f7511312f6122fcea4de\", element=\"1814fb08-2749-442e-a985-0ac606bdc4ad\")>,\n",
       " <selenium.webdriver.remote.webelement.WebElement (session=\"237f29fd5f19f7511312f6122fcea4de\", element=\"cd2dbbc8-349e-4444-b47d-78e66419e712\")>,\n",
       " <selenium.webdriver.remote.webelement.WebElement (session=\"237f29fd5f19f7511312f6122fcea4de\", element=\"2e8b877e-49f8-4f39-a73f-b416f7ea09bf\")>,\n",
       " <selenium.webdriver.remote.webelement.WebElement (session=\"237f29fd5f19f7511312f6122fcea4de\", element=\"ae46d90e-493c-423b-99c0-b0acf5c114ed\")>,\n",
       " <selenium.webdriver.remote.webelement.WebElement (session=\"237f29fd5f19f7511312f6122fcea4de\", element=\"bb38ad84-07b9-46f6-b27c-ea50e35d7416\")>,\n",
       " <selenium.webdriver.remote.webelement.WebElement (session=\"237f29fd5f19f7511312f6122fcea4de\", element=\"f8120019-59e0-419a-9f12-5d8c54eae906\")>,\n",
       " <selenium.webdriver.remote.webelement.WebElement (session=\"237f29fd5f19f7511312f6122fcea4de\", element=\"34a602ca-a1b4-4f9a-837a-67278e4e7d07\")>,\n",
       " <selenium.webdriver.remote.webelement.WebElement (session=\"237f29fd5f19f7511312f6122fcea4de\", element=\"4c128aae-ab10-4c70-b80d-093864c8d3c6\")>]"
      ]
     },
     "execution_count": 7,
     "metadata": {},
     "output_type": "execute_result"
    }
   ],
   "source": [
    "# GET EACH COLLEGE SPECIFICATION HEADERS\n",
    "header=browser.find_elements(\"xpath\",\"//div[@class='_click-function_ind']\")\n",
    "header"
   ]
  },
  {
   "cell_type": "code",
   "execution_count": 8,
   "id": "1b3e549e",
   "metadata": {},
   "outputs": [
    {
     "data": {
      "text/plain": [
       "['Overall Score',\n",
       " 'Academic Reputation',\n",
       " 'Employer Reputation',\n",
       " 'Citations per Faculty',\n",
       " 'Faculty Student Ratio',\n",
       " 'International Students Ratio',\n",
       " 'International Faculty Ratio',\n",
       " 'International Research Network\\nUnweighted',\n",
       " 'Employment Outcomes\\nUnweighted']"
      ]
     },
     "execution_count": 8,
     "metadata": {},
     "output_type": "execute_result"
    }
   ],
   "source": [
    "#PARSING DATA\n",
    "column_head=[]\n",
    "for data in header:\n",
    "    #get the text data\n",
    "    temp=data.text\n",
    "    column_head.append(temp)\n",
    "column_head"
   ]
  },
  {
   "cell_type": "code",
   "execution_count": 9,
   "id": "bc02c843",
   "metadata": {},
   "outputs": [
    {
     "data": {
      "text/plain": [
       "[<selenium.webdriver.remote.webelement.WebElement (session=\"237f29fd5f19f7511312f6122fcea4de\", element=\"624ac081-56fb-425d-ab78-cdcbba62cdad\")>,\n",
       " <selenium.webdriver.remote.webelement.WebElement (session=\"237f29fd5f19f7511312f6122fcea4de\", element=\"328cc5fb-731a-485d-82f5-d3799a5def26\")>,\n",
       " <selenium.webdriver.remote.webelement.WebElement (session=\"237f29fd5f19f7511312f6122fcea4de\", element=\"7a3b30f3-88ef-4bbb-8c4f-235dbe427c73\")>,\n",
       " <selenium.webdriver.remote.webelement.WebElement (session=\"237f29fd5f19f7511312f6122fcea4de\", element=\"4160c1d7-3540-4a40-ab04-adfb635e5ed7\")>,\n",
       " <selenium.webdriver.remote.webelement.WebElement (session=\"237f29fd5f19f7511312f6122fcea4de\", element=\"23c0011b-7ceb-4868-8286-428e00d4a190\")>,\n",
       " <selenium.webdriver.remote.webelement.WebElement (session=\"237f29fd5f19f7511312f6122fcea4de\", element=\"9e457eba-4b81-4abc-ac7d-5f95b891424c\")>,\n",
       " <selenium.webdriver.remote.webelement.WebElement (session=\"237f29fd5f19f7511312f6122fcea4de\", element=\"735208bc-c65e-40aa-91e3-1a10892b492a\")>,\n",
       " <selenium.webdriver.remote.webelement.WebElement (session=\"237f29fd5f19f7511312f6122fcea4de\", element=\"55aaeb8e-a5fe-42b9-8245-f2f806f989f7\")>,\n",
       " <selenium.webdriver.remote.webelement.WebElement (session=\"237f29fd5f19f7511312f6122fcea4de\", element=\"f1e518f8-83a4-4838-b508-863d368688f8\")>,\n",
       " <selenium.webdriver.remote.webelement.WebElement (session=\"237f29fd5f19f7511312f6122fcea4de\", element=\"59d54436-a45f-4eaa-bce4-d1c254ad394f\")>,\n",
       " <selenium.webdriver.remote.webelement.WebElement (session=\"237f29fd5f19f7511312f6122fcea4de\", element=\"cb221843-66f8-4978-aa4f-71489e011d7c\")>,\n",
       " <selenium.webdriver.remote.webelement.WebElement (session=\"237f29fd5f19f7511312f6122fcea4de\", element=\"1e6df4d2-f304-4e96-b20d-2722ecc1fd78\")>,\n",
       " <selenium.webdriver.remote.webelement.WebElement (session=\"237f29fd5f19f7511312f6122fcea4de\", element=\"bbe83ddd-b779-4df6-84e3-adb21d87ca57\")>,\n",
       " <selenium.webdriver.remote.webelement.WebElement (session=\"237f29fd5f19f7511312f6122fcea4de\", element=\"8a74ca9d-eb21-4799-8db8-5bdc2462cbf4\")>,\n",
       " <selenium.webdriver.remote.webelement.WebElement (session=\"237f29fd5f19f7511312f6122fcea4de\", element=\"4656b1a1-3a85-40ae-af40-5cf910666f6e\")>,\n",
       " <selenium.webdriver.remote.webelement.WebElement (session=\"237f29fd5f19f7511312f6122fcea4de\", element=\"a2b5559e-0016-415c-a1b2-f64e4a188656\")>,\n",
       " <selenium.webdriver.remote.webelement.WebElement (session=\"237f29fd5f19f7511312f6122fcea4de\", element=\"562b9f8c-dc59-4c86-88cb-1132c438a841\")>,\n",
       " <selenium.webdriver.remote.webelement.WebElement (session=\"237f29fd5f19f7511312f6122fcea4de\", element=\"d7953896-37d1-41e5-927a-5d942e58ad01\")>,\n",
       " <selenium.webdriver.remote.webelement.WebElement (session=\"237f29fd5f19f7511312f6122fcea4de\", element=\"ca60201f-a5ab-4373-a087-bbd0c678e6fa\")>,\n",
       " <selenium.webdriver.remote.webelement.WebElement (session=\"237f29fd5f19f7511312f6122fcea4de\", element=\"0d842e29-1f4e-44ad-8ac9-f842ffdb2cbf\")>,\n",
       " <selenium.webdriver.remote.webelement.WebElement (session=\"237f29fd5f19f7511312f6122fcea4de\", element=\"a4e33561-fc50-44aa-a903-5f169d9ab5ba\")>,\n",
       " <selenium.webdriver.remote.webelement.WebElement (session=\"237f29fd5f19f7511312f6122fcea4de\", element=\"61663ead-c315-42e9-9785-b52f380a1cfe\")>,\n",
       " <selenium.webdriver.remote.webelement.WebElement (session=\"237f29fd5f19f7511312f6122fcea4de\", element=\"61be64b0-fc1f-4482-b851-a61e9d27226a\")>,\n",
       " <selenium.webdriver.remote.webelement.WebElement (session=\"237f29fd5f19f7511312f6122fcea4de\", element=\"4e8bc707-1059-43bc-a715-85aa0cb834b2\")>,\n",
       " <selenium.webdriver.remote.webelement.WebElement (session=\"237f29fd5f19f7511312f6122fcea4de\", element=\"66c946d2-9d9b-423a-9741-3c118d19c530\")>,\n",
       " <selenium.webdriver.remote.webelement.WebElement (session=\"237f29fd5f19f7511312f6122fcea4de\", element=\"64ab371d-7611-419d-90b6-476717a6ba91\")>,\n",
       " <selenium.webdriver.remote.webelement.WebElement (session=\"237f29fd5f19f7511312f6122fcea4de\", element=\"8f88d2b7-32f6-454c-9bd6-ff6fc238f949\")>,\n",
       " <selenium.webdriver.remote.webelement.WebElement (session=\"237f29fd5f19f7511312f6122fcea4de\", element=\"2ac8e4dd-3545-470f-a115-150deb25ce75\")>,\n",
       " <selenium.webdriver.remote.webelement.WebElement (session=\"237f29fd5f19f7511312f6122fcea4de\", element=\"b4dadef2-98a8-4c73-a9f8-9fe06e96c371\")>,\n",
       " <selenium.webdriver.remote.webelement.WebElement (session=\"237f29fd5f19f7511312f6122fcea4de\", element=\"97487d6a-417a-4e91-98eb-078fe685f078\")>,\n",
       " <selenium.webdriver.remote.webelement.WebElement (session=\"237f29fd5f19f7511312f6122fcea4de\", element=\"defe109b-6086-4ac0-a244-213627b15f93\")>,\n",
       " <selenium.webdriver.remote.webelement.WebElement (session=\"237f29fd5f19f7511312f6122fcea4de\", element=\"68bd6531-a5e4-4216-a09c-9d577716c6fe\")>,\n",
       " <selenium.webdriver.remote.webelement.WebElement (session=\"237f29fd5f19f7511312f6122fcea4de\", element=\"f76bf91f-dc8b-4605-8e0f-cbdefcb838eb\")>,\n",
       " <selenium.webdriver.remote.webelement.WebElement (session=\"237f29fd5f19f7511312f6122fcea4de\", element=\"a3310fec-5d90-4e5d-9a81-317b0fe1438f\")>,\n",
       " <selenium.webdriver.remote.webelement.WebElement (session=\"237f29fd5f19f7511312f6122fcea4de\", element=\"668e36b7-8004-467d-b5a9-a0e2613faae1\")>,\n",
       " <selenium.webdriver.remote.webelement.WebElement (session=\"237f29fd5f19f7511312f6122fcea4de\", element=\"9f5974a7-4be6-4162-99df-3442a1569174\")>,\n",
       " <selenium.webdriver.remote.webelement.WebElement (session=\"237f29fd5f19f7511312f6122fcea4de\", element=\"473183cb-c0cb-4e64-9bc5-310ecece84d7\")>,\n",
       " <selenium.webdriver.remote.webelement.WebElement (session=\"237f29fd5f19f7511312f6122fcea4de\", element=\"14a2df81-8ecf-44cd-a6f1-897ad152c0eb\")>,\n",
       " <selenium.webdriver.remote.webelement.WebElement (session=\"237f29fd5f19f7511312f6122fcea4de\", element=\"5bc76516-678e-47e5-9147-a2c39b3a3f9a\")>,\n",
       " <selenium.webdriver.remote.webelement.WebElement (session=\"237f29fd5f19f7511312f6122fcea4de\", element=\"64d4d14a-e3ac-4415-91e5-b5d2494bd248\")>,\n",
       " <selenium.webdriver.remote.webelement.WebElement (session=\"237f29fd5f19f7511312f6122fcea4de\", element=\"46bcd62c-5db0-43d2-8ecc-e20728bc1c77\")>,\n",
       " <selenium.webdriver.remote.webelement.WebElement (session=\"237f29fd5f19f7511312f6122fcea4de\", element=\"8bed1178-be97-4348-ad19-a50ddbb032d0\")>,\n",
       " <selenium.webdriver.remote.webelement.WebElement (session=\"237f29fd5f19f7511312f6122fcea4de\", element=\"a97b8431-0bd9-4ee6-8f1b-d4a7dcbaa079\")>,\n",
       " <selenium.webdriver.remote.webelement.WebElement (session=\"237f29fd5f19f7511312f6122fcea4de\", element=\"770c6eed-47a5-4843-b951-7815be49a0e9\")>,\n",
       " <selenium.webdriver.remote.webelement.WebElement (session=\"237f29fd5f19f7511312f6122fcea4de\", element=\"c065df16-6e20-4ab1-8b61-c9acaf2b8248\")>,\n",
       " <selenium.webdriver.remote.webelement.WebElement (session=\"237f29fd5f19f7511312f6122fcea4de\", element=\"d0f6b630-4c2d-4cad-a15c-5090e5e8d698\")>,\n",
       " <selenium.webdriver.remote.webelement.WebElement (session=\"237f29fd5f19f7511312f6122fcea4de\", element=\"20365e9d-bf67-4394-882c-355c52e247d9\")>,\n",
       " <selenium.webdriver.remote.webelement.WebElement (session=\"237f29fd5f19f7511312f6122fcea4de\", element=\"65d15879-f31e-49c1-b52c-6f6415bd7a69\")>,\n",
       " <selenium.webdriver.remote.webelement.WebElement (session=\"237f29fd5f19f7511312f6122fcea4de\", element=\"e0bb2d0a-98b9-40f4-8e76-0430711ae8fa\")>,\n",
       " <selenium.webdriver.remote.webelement.WebElement (session=\"237f29fd5f19f7511312f6122fcea4de\", element=\"52f86a90-3786-4313-8ab9-51e6fdd24f81\")>,\n",
       " <selenium.webdriver.remote.webelement.WebElement (session=\"237f29fd5f19f7511312f6122fcea4de\", element=\"569e4b43-a4fd-468e-a8ab-87870db4ed1c\")>,\n",
       " <selenium.webdriver.remote.webelement.WebElement (session=\"237f29fd5f19f7511312f6122fcea4de\", element=\"6312cd8d-64d4-48a9-9a01-39e2c8ac5b3d\")>,\n",
       " <selenium.webdriver.remote.webelement.WebElement (session=\"237f29fd5f19f7511312f6122fcea4de\", element=\"18af4f3c-985b-4170-89c1-78115c8addd2\")>,\n",
       " <selenium.webdriver.remote.webelement.WebElement (session=\"237f29fd5f19f7511312f6122fcea4de\", element=\"6de3f258-f637-46cc-b936-836fc0768e05\")>,\n",
       " <selenium.webdriver.remote.webelement.WebElement (session=\"237f29fd5f19f7511312f6122fcea4de\", element=\"769ed5d5-6d17-4e76-b38c-9a24d002b598\")>,\n",
       " <selenium.webdriver.remote.webelement.WebElement (session=\"237f29fd5f19f7511312f6122fcea4de\", element=\"82b0f00d-5ebf-426d-81e9-631b84036d7a\")>,\n",
       " <selenium.webdriver.remote.webelement.WebElement (session=\"237f29fd5f19f7511312f6122fcea4de\", element=\"566ac628-5982-4bc3-8350-0182c228b6eb\")>,\n",
       " <selenium.webdriver.remote.webelement.WebElement (session=\"237f29fd5f19f7511312f6122fcea4de\", element=\"9ecbe179-7c35-4d87-b88e-a468f1c90707\")>,\n",
       " <selenium.webdriver.remote.webelement.WebElement (session=\"237f29fd5f19f7511312f6122fcea4de\", element=\"eb2e6ff3-f267-42ac-82bf-9aaacfa60ffe\")>,\n",
       " <selenium.webdriver.remote.webelement.WebElement (session=\"237f29fd5f19f7511312f6122fcea4de\", element=\"6aefdc15-c953-4141-992a-cffe476e0239\")>,\n",
       " <selenium.webdriver.remote.webelement.WebElement (session=\"237f29fd5f19f7511312f6122fcea4de\", element=\"bc1e5d15-fc68-429a-ad1a-d4c73f731243\")>,\n",
       " <selenium.webdriver.remote.webelement.WebElement (session=\"237f29fd5f19f7511312f6122fcea4de\", element=\"b95168b6-6cad-4f4d-a068-b4da24a0210e\")>,\n",
       " <selenium.webdriver.remote.webelement.WebElement (session=\"237f29fd5f19f7511312f6122fcea4de\", element=\"90a7ef60-d028-4668-9b55-3b39d6f13f87\")>,\n",
       " <selenium.webdriver.remote.webelement.WebElement (session=\"237f29fd5f19f7511312f6122fcea4de\", element=\"27e5e64f-9fce-4074-bcb0-ed4f62c8af5b\")>,\n",
       " <selenium.webdriver.remote.webelement.WebElement (session=\"237f29fd5f19f7511312f6122fcea4de\", element=\"97700d89-7747-434e-960a-f3f5ab011e28\")>,\n",
       " <selenium.webdriver.remote.webelement.WebElement (session=\"237f29fd5f19f7511312f6122fcea4de\", element=\"9e1dac06-ef7c-445c-957d-832ef927b684\")>,\n",
       " <selenium.webdriver.remote.webelement.WebElement (session=\"237f29fd5f19f7511312f6122fcea4de\", element=\"926239ba-56b6-4f8c-b99b-915039f1ab7d\")>,\n",
       " <selenium.webdriver.remote.webelement.WebElement (session=\"237f29fd5f19f7511312f6122fcea4de\", element=\"d6f633a5-5f9b-4f98-9020-7161829f6ab9\")>,\n",
       " <selenium.webdriver.remote.webelement.WebElement (session=\"237f29fd5f19f7511312f6122fcea4de\", element=\"58993107-ba8d-4b91-bc3b-39aa6174795f\")>,\n",
       " <selenium.webdriver.remote.webelement.WebElement (session=\"237f29fd5f19f7511312f6122fcea4de\", element=\"d9fb224a-119e-4091-968f-8af85623343c\")>,\n",
       " <selenium.webdriver.remote.webelement.WebElement (session=\"237f29fd5f19f7511312f6122fcea4de\", element=\"640ccd14-6899-400d-903c-71890e2997d2\")>,\n",
       " <selenium.webdriver.remote.webelement.WebElement (session=\"237f29fd5f19f7511312f6122fcea4de\", element=\"5aa6ba94-4829-4d2e-8c91-8cd3e072b535\")>,\n",
       " <selenium.webdriver.remote.webelement.WebElement (session=\"237f29fd5f19f7511312f6122fcea4de\", element=\"31ed6ea0-8a89-467d-97a2-ec64957483c2\")>,\n",
       " <selenium.webdriver.remote.webelement.WebElement (session=\"237f29fd5f19f7511312f6122fcea4de\", element=\"b8aa636c-2e2e-4e64-82d1-eafc9fb9874e\")>,\n",
       " <selenium.webdriver.remote.webelement.WebElement (session=\"237f29fd5f19f7511312f6122fcea4de\", element=\"6c2ba8e4-eaa3-4288-9756-ded17a1bc46d\")>,\n",
       " <selenium.webdriver.remote.webelement.WebElement (session=\"237f29fd5f19f7511312f6122fcea4de\", element=\"6f0d9f0a-c8d1-4836-8d62-0daa56d3e8de\")>,\n",
       " <selenium.webdriver.remote.webelement.WebElement (session=\"237f29fd5f19f7511312f6122fcea4de\", element=\"989bd88d-06dc-4c48-9ce9-0373422c7774\")>,\n",
       " <selenium.webdriver.remote.webelement.WebElement (session=\"237f29fd5f19f7511312f6122fcea4de\", element=\"3a348c3d-fff5-4e75-aeaa-cd61e4573345\")>,\n",
       " <selenium.webdriver.remote.webelement.WebElement (session=\"237f29fd5f19f7511312f6122fcea4de\", element=\"2c0f52dc-a329-4153-ad25-1c3497dd520e\")>,\n",
       " <selenium.webdriver.remote.webelement.WebElement (session=\"237f29fd5f19f7511312f6122fcea4de\", element=\"d056a089-c90b-49ac-a075-b3616a5211cf\")>,\n",
       " <selenium.webdriver.remote.webelement.WebElement (session=\"237f29fd5f19f7511312f6122fcea4de\", element=\"13ed76d3-9707-48c1-919c-1b125cb0f7ef\")>,\n",
       " <selenium.webdriver.remote.webelement.WebElement (session=\"237f29fd5f19f7511312f6122fcea4de\", element=\"4ac529a7-a0e0-4c2c-9a70-d94360b6fa5a\")>,\n",
       " <selenium.webdriver.remote.webelement.WebElement (session=\"237f29fd5f19f7511312f6122fcea4de\", element=\"e9448a26-235a-4027-b66e-5b1690675719\")>,\n",
       " <selenium.webdriver.remote.webelement.WebElement (session=\"237f29fd5f19f7511312f6122fcea4de\", element=\"87035f97-8d82-4458-b46c-01c3da3da113\")>,\n",
       " <selenium.webdriver.remote.webelement.WebElement (session=\"237f29fd5f19f7511312f6122fcea4de\", element=\"0013134c-e5e8-45f7-ad18-4fe8c2a86463\")>,\n",
       " <selenium.webdriver.remote.webelement.WebElement (session=\"237f29fd5f19f7511312f6122fcea4de\", element=\"487e853a-4833-4de7-b40e-db1655371a5e\")>,\n",
       " <selenium.webdriver.remote.webelement.WebElement (session=\"237f29fd5f19f7511312f6122fcea4de\", element=\"812ab5d2-e3fc-4ca0-9626-8f3a1bfcec0c\")>,\n",
       " <selenium.webdriver.remote.webelement.WebElement (session=\"237f29fd5f19f7511312f6122fcea4de\", element=\"52ada624-ca4c-4ca7-8087-1d57ab0c2e6e\")>,\n",
       " <selenium.webdriver.remote.webelement.WebElement (session=\"237f29fd5f19f7511312f6122fcea4de\", element=\"3242f3ce-91cf-4913-b4a0-8c7f8f17bc53\")>,\n",
       " <selenium.webdriver.remote.webelement.WebElement (session=\"237f29fd5f19f7511312f6122fcea4de\", element=\"b0c7a053-b5c0-4e47-ba47-9fb52182da8c\")>,\n",
       " <selenium.webdriver.remote.webelement.WebElement (session=\"237f29fd5f19f7511312f6122fcea4de\", element=\"c18bce2d-df87-400a-9d7b-a849e02fab58\")>,\n",
       " <selenium.webdriver.remote.webelement.WebElement (session=\"237f29fd5f19f7511312f6122fcea4de\", element=\"b7d3eb6a-62a9-40e9-884b-cfa499a3418e\")>,\n",
       " <selenium.webdriver.remote.webelement.WebElement (session=\"237f29fd5f19f7511312f6122fcea4de\", element=\"5243c850-0c89-4fe0-86fa-ad1b91c31462\")>,\n",
       " <selenium.webdriver.remote.webelement.WebElement (session=\"237f29fd5f19f7511312f6122fcea4de\", element=\"7d0f99ae-bdce-40ec-8f8a-c89a99f8d023\")>,\n",
       " <selenium.webdriver.remote.webelement.WebElement (session=\"237f29fd5f19f7511312f6122fcea4de\", element=\"65a0f47c-e284-42aa-9208-6435e76a484f\")>,\n",
       " <selenium.webdriver.remote.webelement.WebElement (session=\"237f29fd5f19f7511312f6122fcea4de\", element=\"3ea12777-ad2a-4f78-80af-15741c828ec5\")>,\n",
       " <selenium.webdriver.remote.webelement.WebElement (session=\"237f29fd5f19f7511312f6122fcea4de\", element=\"803ff35a-4a86-495f-9565-33bb1c3ba424\")>,\n",
       " <selenium.webdriver.remote.webelement.WebElement (session=\"237f29fd5f19f7511312f6122fcea4de\", element=\"38741197-4301-4af5-b0cd-a9f80a53edb1\")>,\n",
       " <selenium.webdriver.remote.webelement.WebElement (session=\"237f29fd5f19f7511312f6122fcea4de\", element=\"def658de-fd6e-43a6-bbba-5185ce430179\")>,\n",
       " <selenium.webdriver.remote.webelement.WebElement (session=\"237f29fd5f19f7511312f6122fcea4de\", element=\"c637585f-dfb3-44ff-98e7-bbd3b944e908\")>]"
      ]
     },
     "execution_count": 9,
     "metadata": {},
     "output_type": "execute_result"
    }
   ],
   "source": [
    "header2=browser.find_elements(\"xpath\",\"//div[@class='td-wrap-in']\")\n",
    "header2"
   ]
  },
  {
   "cell_type": "code",
   "execution_count": 10,
   "id": "024e2cb9",
   "metadata": {},
   "outputs": [
    {
     "data": {
      "text/plain": [
       "['81.5', '83.6', '93.5', '70.4', '89.3', '38.7', '89.3', '70.6', '65.7']"
      ]
     },
     "execution_count": 10,
     "metadata": {},
     "output_type": "execute_result"
    }
   ],
   "source": [
    "#PARSING DATA\n",
    "value_head=[]\n",
    "for data in header2:\n",
    "    #get the text data\n",
    "    temp=data.text\n",
    "    value_head.append(temp)\n",
    "value_head=value_head[31:40]\n",
    "value_head"
   ]
  },
  {
   "cell_type": "code",
   "execution_count": 11,
   "id": "5b55b733",
   "metadata": {},
   "outputs": [
    {
     "data": {
      "text/plain": [
       "{'Overall Score': '81.5',\n",
       " 'Academic Reputation': '83.6',\n",
       " 'Employer Reputation': '93.5',\n",
       " 'Citations per Faculty': '70.4',\n",
       " 'Faculty Student Ratio': '89.3',\n",
       " 'International Students Ratio': '38.7',\n",
       " 'International Faculty Ratio': '89.3',\n",
       " 'International Research Network\\nUnweighted': '70.6',\n",
       " 'Employment Outcomes\\nUnweighted': '65.7'}"
      ]
     },
     "execution_count": 11,
     "metadata": {},
     "output_type": "execute_result"
    }
   ],
   "source": [
    "d={}\n",
    "for i in range(len(column_head)):\n",
    "    d[column_head[i]]=value_head[i]\n",
    "d\n"
   ]
  },
  {
   "cell_type": "code",
   "execution_count": 12,
   "id": "2a618c7e",
   "metadata": {},
   "outputs": [
    {
     "data": {
      "text/plain": [
       "'{\"Overall Score\": \"81.5\", \"Academic Reputation\": \"83.6\", \"Employer Reputation\": \"93.5\", \"Citations per Faculty\": \"70.4\", \"Faculty Student Ratio\": \"89.3\", \"International Students Ratio\": \"38.7\", \"International Faculty Ratio\": \"89.3\", \"International Research Network\\\\nUnweighted\": \"70.6\", \"Employment Outcomes\\\\nUnweighted\": \"65.7\"}'"
      ]
     },
     "execution_count": 12,
     "metadata": {},
     "output_type": "execute_result"
    }
   ],
   "source": [
    "s1=json.dumps(d)\n",
    "s1\n"
   ]
  },
  {
   "cell_type": "code",
   "execution_count": 13,
   "id": "4987b6fe",
   "metadata": {},
   "outputs": [],
   "source": [
    "with open('Fudan University.json','w') as f:\n",
    "    json.dump(d,f)\n"
   ]
  },
  {
   "cell_type": "code",
   "execution_count": null,
   "id": "4b0ba520",
   "metadata": {},
   "outputs": [],
   "source": []
  }
 ],
 "metadata": {
  "kernelspec": {
   "display_name": "Python 3 (ipykernel)",
   "language": "python",
   "name": "python3"
  },
  "language_info": {
   "codemirror_mode": {
    "name": "ipython",
    "version": 3
   },
   "file_extension": ".py",
   "mimetype": "text/x-python",
   "name": "python",
   "nbconvert_exporter": "python",
   "pygments_lexer": "ipython3",
   "version": "3.9.12"
  }
 },
 "nbformat": 4,
 "nbformat_minor": 5
}
