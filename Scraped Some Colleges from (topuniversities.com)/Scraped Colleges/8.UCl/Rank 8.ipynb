{
 "cells": [
  {
   "cell_type": "code",
   "execution_count": 12,
   "id": "f483d859",
   "metadata": {},
   "outputs": [],
   "source": [
    "from selenium import webdriver\n",
    "from selenium.webdriver.chrome.service import Service\n",
    "import pandas as pd\n",
    "import json"
   ]
  },
  {
   "cell_type": "code",
   "execution_count": 13,
   "id": "b679e777",
   "metadata": {},
   "outputs": [],
   "source": [
    "path = Service('C:\\chromedriver.exe')"
   ]
  },
  {
   "cell_type": "code",
   "execution_count": 14,
   "id": "78846779",
   "metadata": {},
   "outputs": [],
   "source": [
    "# set path for the driver\n",
    "browser = webdriver.Chrome(service = path)"
   ]
  },
  {
   "cell_type": "code",
   "execution_count": 15,
   "id": "52c7fbb6",
   "metadata": {},
   "outputs": [],
   "source": [
    "url = \"https://www.topuniversities.com/university-rankings/world-university-rankings/2023\""
   ]
  },
  {
   "cell_type": "code",
   "execution_count": 16,
   "id": "9dec4055",
   "metadata": {},
   "outputs": [],
   "source": [
    "# open the page url ion chrome\n",
    "browser.get(url)"
   ]
  },
  {
   "cell_type": "code",
   "execution_count": 18,
   "id": "895c2bfb",
   "metadata": {},
   "outputs": [
    {
     "data": {
      "text/plain": [
       "[<selenium.webdriver.remote.webelement.WebElement (session=\"699a4522579fec77b9ba857f3aba0fb7\", element=\"2776ec83-2c59-4912-a144-662018c30a74\")>,\n",
       " <selenium.webdriver.remote.webelement.WebElement (session=\"699a4522579fec77b9ba857f3aba0fb7\", element=\"4652dffc-ded4-424e-8e3a-9b8fc67654f1\")>,\n",
       " <selenium.webdriver.remote.webelement.WebElement (session=\"699a4522579fec77b9ba857f3aba0fb7\", element=\"0b07e2d1-681f-4bad-a589-a30e2d1f4288\")>,\n",
       " <selenium.webdriver.remote.webelement.WebElement (session=\"699a4522579fec77b9ba857f3aba0fb7\", element=\"b6f5f0a1-72eb-45d7-9d8f-41edaf1a134b\")>,\n",
       " <selenium.webdriver.remote.webelement.WebElement (session=\"699a4522579fec77b9ba857f3aba0fb7\", element=\"f23062e9-9527-422c-8ae2-9c4a601818b5\")>,\n",
       " <selenium.webdriver.remote.webelement.WebElement (session=\"699a4522579fec77b9ba857f3aba0fb7\", element=\"ec395322-9943-49ec-831f-c52bcbadbbb0\")>,\n",
       " <selenium.webdriver.remote.webelement.WebElement (session=\"699a4522579fec77b9ba857f3aba0fb7\", element=\"c5691e63-6b0c-440a-931e-8fc5a21be30f\")>,\n",
       " <selenium.webdriver.remote.webelement.WebElement (session=\"699a4522579fec77b9ba857f3aba0fb7\", element=\"811d1b00-aa36-4f6f-88c6-6b51be9b0342\")>,\n",
       " <selenium.webdriver.remote.webelement.WebElement (session=\"699a4522579fec77b9ba857f3aba0fb7\", element=\"482fcfe7-5e88-4a54-8ae0-efd671348200\")>]"
      ]
     },
     "execution_count": 18,
     "metadata": {},
     "output_type": "execute_result"
    }
   ],
   "source": [
    "# GET EACH COLLEGE SPECIFICATION HEADERS\n",
    "header=browser.find_elements(\"xpath\",\"//div[@class='_click-function_ind']\")\n",
    "header\n"
   ]
  },
  {
   "cell_type": "code",
   "execution_count": 19,
   "id": "9434a513",
   "metadata": {},
   "outputs": [
    {
     "data": {
      "text/plain": [
       "['Overall Score',\n",
       " 'Academic Reputation',\n",
       " 'Employer Reputation',\n",
       " 'Citations per Faculty',\n",
       " 'Faculty Student Ratio',\n",
       " 'International Students Ratio',\n",
       " 'International Faculty Ratio',\n",
       " 'International Research Network\\nUnweighted',\n",
       " 'Employment Outcomes\\nUnweighted']"
      ]
     },
     "execution_count": 19,
     "metadata": {},
     "output_type": "execute_result"
    }
   ],
   "source": [
    "#PARSING DATA\n",
    "column_head=[]\n",
    "for data in header:\n",
    "    #get the text data\n",
    "    temp=data.text\n",
    "    column_head.append(temp)\n",
    "column_head"
   ]
  },
  {
   "cell_type": "code",
   "execution_count": 20,
   "id": "007a1bbe",
   "metadata": {},
   "outputs": [
    {
     "data": {
      "text/plain": [
       "[<selenium.webdriver.remote.webelement.WebElement (session=\"699a4522579fec77b9ba857f3aba0fb7\", element=\"8da5ee47-decf-464d-a6f5-7eda95a50d19\")>,\n",
       " <selenium.webdriver.remote.webelement.WebElement (session=\"699a4522579fec77b9ba857f3aba0fb7\", element=\"2e0ffbe6-63f9-49dc-92db-a13945a7c357\")>,\n",
       " <selenium.webdriver.remote.webelement.WebElement (session=\"699a4522579fec77b9ba857f3aba0fb7\", element=\"2ef9eecc-ab1c-4e03-b434-a0076db5c034\")>,\n",
       " <selenium.webdriver.remote.webelement.WebElement (session=\"699a4522579fec77b9ba857f3aba0fb7\", element=\"c2fb8071-7c4b-4ea6-a445-0c7a174f3702\")>,\n",
       " <selenium.webdriver.remote.webelement.WebElement (session=\"699a4522579fec77b9ba857f3aba0fb7\", element=\"b8636956-11d5-4cc6-814b-cb627e83e4fe\")>,\n",
       " <selenium.webdriver.remote.webelement.WebElement (session=\"699a4522579fec77b9ba857f3aba0fb7\", element=\"29060ea4-5451-488e-832a-8b326a56bfd3\")>,\n",
       " <selenium.webdriver.remote.webelement.WebElement (session=\"699a4522579fec77b9ba857f3aba0fb7\", element=\"fbb2fecc-0f82-4377-9433-2b804a150ab7\")>,\n",
       " <selenium.webdriver.remote.webelement.WebElement (session=\"699a4522579fec77b9ba857f3aba0fb7\", element=\"f3bf4f7d-9194-492e-a96c-bc033690e9a9\")>,\n",
       " <selenium.webdriver.remote.webelement.WebElement (session=\"699a4522579fec77b9ba857f3aba0fb7\", element=\"aa417a11-5edb-4394-b04d-2de23e33e8f9\")>,\n",
       " <selenium.webdriver.remote.webelement.WebElement (session=\"699a4522579fec77b9ba857f3aba0fb7\", element=\"539795e6-fbef-4313-b464-b223ffa21b06\")>,\n",
       " <selenium.webdriver.remote.webelement.WebElement (session=\"699a4522579fec77b9ba857f3aba0fb7\", element=\"84ca19f9-5aad-45cc-a8f4-9e90ca6870d7\")>,\n",
       " <selenium.webdriver.remote.webelement.WebElement (session=\"699a4522579fec77b9ba857f3aba0fb7\", element=\"a8ce8f14-880c-46d9-ba01-4d624a2dd49d\")>,\n",
       " <selenium.webdriver.remote.webelement.WebElement (session=\"699a4522579fec77b9ba857f3aba0fb7\", element=\"076fe518-0f97-4a11-bb56-d25ecb0281f5\")>,\n",
       " <selenium.webdriver.remote.webelement.WebElement (session=\"699a4522579fec77b9ba857f3aba0fb7\", element=\"75d48061-20ea-4b15-a2f8-1c2d8f084f4a\")>,\n",
       " <selenium.webdriver.remote.webelement.WebElement (session=\"699a4522579fec77b9ba857f3aba0fb7\", element=\"8dc47647-fe13-4957-b9c1-5011a282a9d0\")>,\n",
       " <selenium.webdriver.remote.webelement.WebElement (session=\"699a4522579fec77b9ba857f3aba0fb7\", element=\"e67611cd-7b55-464a-92c5-e99709684163\")>,\n",
       " <selenium.webdriver.remote.webelement.WebElement (session=\"699a4522579fec77b9ba857f3aba0fb7\", element=\"60523036-3a59-4fe4-8a94-e97d943ade85\")>,\n",
       " <selenium.webdriver.remote.webelement.WebElement (session=\"699a4522579fec77b9ba857f3aba0fb7\", element=\"715561a6-d5d7-481e-ae93-1367f1f3b70e\")>,\n",
       " <selenium.webdriver.remote.webelement.WebElement (session=\"699a4522579fec77b9ba857f3aba0fb7\", element=\"174c82f2-c245-491f-b1f3-4bf85e5922d0\")>,\n",
       " <selenium.webdriver.remote.webelement.WebElement (session=\"699a4522579fec77b9ba857f3aba0fb7\", element=\"adfee451-61db-4c89-8a2a-f2bc6eb81a6c\")>,\n",
       " <selenium.webdriver.remote.webelement.WebElement (session=\"699a4522579fec77b9ba857f3aba0fb7\", element=\"44596fdf-42f1-48b9-82b0-b68f58edeaa8\")>,\n",
       " <selenium.webdriver.remote.webelement.WebElement (session=\"699a4522579fec77b9ba857f3aba0fb7\", element=\"8340ec06-2c7f-4e25-9cb4-bbb9d4b4b512\")>,\n",
       " <selenium.webdriver.remote.webelement.WebElement (session=\"699a4522579fec77b9ba857f3aba0fb7\", element=\"e8e760f8-1a24-470c-ba4f-9463569e9cf6\")>,\n",
       " <selenium.webdriver.remote.webelement.WebElement (session=\"699a4522579fec77b9ba857f3aba0fb7\", element=\"a7ed473d-5f13-46bb-98d0-cb3348763d1c\")>,\n",
       " <selenium.webdriver.remote.webelement.WebElement (session=\"699a4522579fec77b9ba857f3aba0fb7\", element=\"c219c706-e311-4b2f-aabd-98bfeedb257d\")>,\n",
       " <selenium.webdriver.remote.webelement.WebElement (session=\"699a4522579fec77b9ba857f3aba0fb7\", element=\"88fce266-5c38-4125-832a-3ad63a66d589\")>,\n",
       " <selenium.webdriver.remote.webelement.WebElement (session=\"699a4522579fec77b9ba857f3aba0fb7\", element=\"e8544a42-f038-4c90-a723-da033a6e4ed2\")>,\n",
       " <selenium.webdriver.remote.webelement.WebElement (session=\"699a4522579fec77b9ba857f3aba0fb7\", element=\"c31af441-d7c9-46d9-88e0-d0f4350bfd04\")>,\n",
       " <selenium.webdriver.remote.webelement.WebElement (session=\"699a4522579fec77b9ba857f3aba0fb7\", element=\"a43248e7-fb11-4387-a42f-1eecd6a7d74e\")>,\n",
       " <selenium.webdriver.remote.webelement.WebElement (session=\"699a4522579fec77b9ba857f3aba0fb7\", element=\"3ecd2dc8-0424-4c12-9378-5a0c6e243abd\")>,\n",
       " <selenium.webdriver.remote.webelement.WebElement (session=\"699a4522579fec77b9ba857f3aba0fb7\", element=\"231e0db6-9c42-4f20-9060-11ee32798ca8\")>,\n",
       " <selenium.webdriver.remote.webelement.WebElement (session=\"699a4522579fec77b9ba857f3aba0fb7\", element=\"9a677a5c-23de-4a68-82df-029945d820a6\")>,\n",
       " <selenium.webdriver.remote.webelement.WebElement (session=\"699a4522579fec77b9ba857f3aba0fb7\", element=\"e0e48ef5-959b-4fcd-8048-5c3106ddaf2d\")>,\n",
       " <selenium.webdriver.remote.webelement.WebElement (session=\"699a4522579fec77b9ba857f3aba0fb7\", element=\"1a7b2f4a-8a76-4ffb-b236-2e0e280ce7b3\")>,\n",
       " <selenium.webdriver.remote.webelement.WebElement (session=\"699a4522579fec77b9ba857f3aba0fb7\", element=\"7ecd25a3-a3bd-482c-a647-1a7b730a7e4b\")>,\n",
       " <selenium.webdriver.remote.webelement.WebElement (session=\"699a4522579fec77b9ba857f3aba0fb7\", element=\"05ebc7e5-802e-4e98-b626-67f0f3143e1f\")>,\n",
       " <selenium.webdriver.remote.webelement.WebElement (session=\"699a4522579fec77b9ba857f3aba0fb7\", element=\"29c59232-6c74-428c-ae5d-686075a951c3\")>,\n",
       " <selenium.webdriver.remote.webelement.WebElement (session=\"699a4522579fec77b9ba857f3aba0fb7\", element=\"182d1b51-32a7-4367-a635-50db586bc1d5\")>,\n",
       " <selenium.webdriver.remote.webelement.WebElement (session=\"699a4522579fec77b9ba857f3aba0fb7\", element=\"38f90892-bdec-4062-ad24-70c6975b91c6\")>,\n",
       " <selenium.webdriver.remote.webelement.WebElement (session=\"699a4522579fec77b9ba857f3aba0fb7\", element=\"47d1af0b-c571-428a-804e-c67d484d2cad\")>,\n",
       " <selenium.webdriver.remote.webelement.WebElement (session=\"699a4522579fec77b9ba857f3aba0fb7\", element=\"567468a8-f1ac-4879-8224-13335b7845da\")>,\n",
       " <selenium.webdriver.remote.webelement.WebElement (session=\"699a4522579fec77b9ba857f3aba0fb7\", element=\"c0e41221-f29a-4e65-b99a-158071701b9e\")>,\n",
       " <selenium.webdriver.remote.webelement.WebElement (session=\"699a4522579fec77b9ba857f3aba0fb7\", element=\"38aaa4f9-8def-403a-9a7c-4a4feca27a9f\")>,\n",
       " <selenium.webdriver.remote.webelement.WebElement (session=\"699a4522579fec77b9ba857f3aba0fb7\", element=\"ef742851-1b8e-4392-a446-e44b447ffbc3\")>,\n",
       " <selenium.webdriver.remote.webelement.WebElement (session=\"699a4522579fec77b9ba857f3aba0fb7\", element=\"4b0ec4a5-e9f2-417d-8a47-e64e113effba\")>,\n",
       " <selenium.webdriver.remote.webelement.WebElement (session=\"699a4522579fec77b9ba857f3aba0fb7\", element=\"4da5ab3e-72c1-45f4-b740-36ac79a93c98\")>,\n",
       " <selenium.webdriver.remote.webelement.WebElement (session=\"699a4522579fec77b9ba857f3aba0fb7\", element=\"0c823f06-b47a-4e62-8e20-f60e85bf772d\")>,\n",
       " <selenium.webdriver.remote.webelement.WebElement (session=\"699a4522579fec77b9ba857f3aba0fb7\", element=\"1ef91d21-59be-4d5b-8b07-69bb4ad8daba\")>,\n",
       " <selenium.webdriver.remote.webelement.WebElement (session=\"699a4522579fec77b9ba857f3aba0fb7\", element=\"658ce707-11a8-4627-95b0-2aac4e74207c\")>,\n",
       " <selenium.webdriver.remote.webelement.WebElement (session=\"699a4522579fec77b9ba857f3aba0fb7\", element=\"519187b5-df9e-483a-af35-ca12965341d0\")>,\n",
       " <selenium.webdriver.remote.webelement.WebElement (session=\"699a4522579fec77b9ba857f3aba0fb7\", element=\"52c44f6c-d150-4600-81d1-684f22edaf0a\")>,\n",
       " <selenium.webdriver.remote.webelement.WebElement (session=\"699a4522579fec77b9ba857f3aba0fb7\", element=\"829f59f0-e1c3-45da-852f-4d576ee44acf\")>,\n",
       " <selenium.webdriver.remote.webelement.WebElement (session=\"699a4522579fec77b9ba857f3aba0fb7\", element=\"6acbc8d7-5d92-4393-a985-072999d07b1f\")>,\n",
       " <selenium.webdriver.remote.webelement.WebElement (session=\"699a4522579fec77b9ba857f3aba0fb7\", element=\"d464d9cc-db21-44ca-8651-047edb0ce9d7\")>,\n",
       " <selenium.webdriver.remote.webelement.WebElement (session=\"699a4522579fec77b9ba857f3aba0fb7\", element=\"ef92eaba-246f-4b2f-a16e-754b9a7514d8\")>,\n",
       " <selenium.webdriver.remote.webelement.WebElement (session=\"699a4522579fec77b9ba857f3aba0fb7\", element=\"abc0782c-fe93-487d-b8f2-3e9710dfb5c6\")>,\n",
       " <selenium.webdriver.remote.webelement.WebElement (session=\"699a4522579fec77b9ba857f3aba0fb7\", element=\"a3e6300a-a475-414b-96a3-faf39efeb58b\")>,\n",
       " <selenium.webdriver.remote.webelement.WebElement (session=\"699a4522579fec77b9ba857f3aba0fb7\", element=\"564401db-ab0b-423d-a3e7-3bb3306f2fdc\")>,\n",
       " <selenium.webdriver.remote.webelement.WebElement (session=\"699a4522579fec77b9ba857f3aba0fb7\", element=\"fb6dfd29-8475-421d-9cf7-6174d523d1f2\")>,\n",
       " <selenium.webdriver.remote.webelement.WebElement (session=\"699a4522579fec77b9ba857f3aba0fb7\", element=\"8efc3214-6612-4f74-9a34-2d5800b880f9\")>,\n",
       " <selenium.webdriver.remote.webelement.WebElement (session=\"699a4522579fec77b9ba857f3aba0fb7\", element=\"a441aced-c9ab-42b4-9e46-17a614dba21e\")>,\n",
       " <selenium.webdriver.remote.webelement.WebElement (session=\"699a4522579fec77b9ba857f3aba0fb7\", element=\"88be3d42-990b-4fe5-ac62-4bc4186833b8\")>,\n",
       " <selenium.webdriver.remote.webelement.WebElement (session=\"699a4522579fec77b9ba857f3aba0fb7\", element=\"06799771-2cd2-4973-aed6-8e7e2387cb2c\")>,\n",
       " <selenium.webdriver.remote.webelement.WebElement (session=\"699a4522579fec77b9ba857f3aba0fb7\", element=\"eb3f2b77-5fd3-44fc-bad9-088624d22421\")>,\n",
       " <selenium.webdriver.remote.webelement.WebElement (session=\"699a4522579fec77b9ba857f3aba0fb7\", element=\"de4be925-4c9b-4c0a-9957-7c672dc414c9\")>,\n",
       " <selenium.webdriver.remote.webelement.WebElement (session=\"699a4522579fec77b9ba857f3aba0fb7\", element=\"d6817d5c-908a-4736-98bb-ffce7be4a70f\")>,\n",
       " <selenium.webdriver.remote.webelement.WebElement (session=\"699a4522579fec77b9ba857f3aba0fb7\", element=\"5119a258-1650-40f9-b0df-acfa9c3d623d\")>,\n",
       " <selenium.webdriver.remote.webelement.WebElement (session=\"699a4522579fec77b9ba857f3aba0fb7\", element=\"26dd2267-2231-473f-9746-bcbb2520da17\")>,\n",
       " <selenium.webdriver.remote.webelement.WebElement (session=\"699a4522579fec77b9ba857f3aba0fb7\", element=\"4377fcf0-18e7-45ac-97c1-57a8cc2085f4\")>,\n",
       " <selenium.webdriver.remote.webelement.WebElement (session=\"699a4522579fec77b9ba857f3aba0fb7\", element=\"58072268-7a60-483d-810c-9b8adac085cc\")>,\n",
       " <selenium.webdriver.remote.webelement.WebElement (session=\"699a4522579fec77b9ba857f3aba0fb7\", element=\"a4c417a0-b097-4686-b643-4b172ab39338\")>,\n",
       " <selenium.webdriver.remote.webelement.WebElement (session=\"699a4522579fec77b9ba857f3aba0fb7\", element=\"b4b2e8be-d026-4a9e-aae0-f70e66f4eb95\")>,\n",
       " <selenium.webdriver.remote.webelement.WebElement (session=\"699a4522579fec77b9ba857f3aba0fb7\", element=\"526c467f-cef1-4f51-b38c-36b95815789a\")>,\n",
       " <selenium.webdriver.remote.webelement.WebElement (session=\"699a4522579fec77b9ba857f3aba0fb7\", element=\"43ce4916-5676-4030-89b6-29d53bc98533\")>,\n",
       " <selenium.webdriver.remote.webelement.WebElement (session=\"699a4522579fec77b9ba857f3aba0fb7\", element=\"2f576f52-22a2-434d-9d78-79c0dcbbfed5\")>,\n",
       " <selenium.webdriver.remote.webelement.WebElement (session=\"699a4522579fec77b9ba857f3aba0fb7\", element=\"19d95254-f2be-45c3-9996-a33232145749\")>,\n",
       " <selenium.webdriver.remote.webelement.WebElement (session=\"699a4522579fec77b9ba857f3aba0fb7\", element=\"6f21a141-c7a2-42ec-aef4-66516db553c5\")>,\n",
       " <selenium.webdriver.remote.webelement.WebElement (session=\"699a4522579fec77b9ba857f3aba0fb7\", element=\"2b9a05f8-b910-4204-8cb9-dd4490988a0c\")>,\n",
       " <selenium.webdriver.remote.webelement.WebElement (session=\"699a4522579fec77b9ba857f3aba0fb7\", element=\"092d76b5-56f5-4f31-a6ae-330fd731a610\")>,\n",
       " <selenium.webdriver.remote.webelement.WebElement (session=\"699a4522579fec77b9ba857f3aba0fb7\", element=\"2cbcf8ab-4c5b-43a2-8628-41f228b32eb3\")>,\n",
       " <selenium.webdriver.remote.webelement.WebElement (session=\"699a4522579fec77b9ba857f3aba0fb7\", element=\"0dfe6557-0c5a-4248-8c94-22e570db81ca\")>,\n",
       " <selenium.webdriver.remote.webelement.WebElement (session=\"699a4522579fec77b9ba857f3aba0fb7\", element=\"5ed91f2b-9d24-4dd8-aa28-d56f0d90dca0\")>,\n",
       " <selenium.webdriver.remote.webelement.WebElement (session=\"699a4522579fec77b9ba857f3aba0fb7\", element=\"82eae9a8-e0f9-4f2f-90aa-7bf70327d100\")>,\n",
       " <selenium.webdriver.remote.webelement.WebElement (session=\"699a4522579fec77b9ba857f3aba0fb7\", element=\"1e7fc796-8a9f-4f56-8892-50536bb8f059\")>,\n",
       " <selenium.webdriver.remote.webelement.WebElement (session=\"699a4522579fec77b9ba857f3aba0fb7\", element=\"7cd1a8e9-a8fc-45d0-ac8d-f7be21028ec9\")>,\n",
       " <selenium.webdriver.remote.webelement.WebElement (session=\"699a4522579fec77b9ba857f3aba0fb7\", element=\"225b8001-6a74-4e90-8c1a-40dd94fc7afd\")>,\n",
       " <selenium.webdriver.remote.webelement.WebElement (session=\"699a4522579fec77b9ba857f3aba0fb7\", element=\"628b0c58-db16-4f30-89b3-5db53086d549\")>,\n",
       " <selenium.webdriver.remote.webelement.WebElement (session=\"699a4522579fec77b9ba857f3aba0fb7\", element=\"ab546867-3610-4528-b36e-84852b5ae955\")>,\n",
       " <selenium.webdriver.remote.webelement.WebElement (session=\"699a4522579fec77b9ba857f3aba0fb7\", element=\"9664cecd-89e3-4a29-b5f3-25785cf9cf8b\")>,\n",
       " <selenium.webdriver.remote.webelement.WebElement (session=\"699a4522579fec77b9ba857f3aba0fb7\", element=\"57517049-3e1e-48e5-a13c-8b14ba0f058c\")>,\n",
       " <selenium.webdriver.remote.webelement.WebElement (session=\"699a4522579fec77b9ba857f3aba0fb7\", element=\"fc11db44-5e46-44db-92de-b63c044250b5\")>,\n",
       " <selenium.webdriver.remote.webelement.WebElement (session=\"699a4522579fec77b9ba857f3aba0fb7\", element=\"687fb17e-0609-40f9-94fa-b03ed3d7e578\")>,\n",
       " <selenium.webdriver.remote.webelement.WebElement (session=\"699a4522579fec77b9ba857f3aba0fb7\", element=\"ba44b1c3-9cb7-4df3-9f6b-c8c353e3c88c\")>,\n",
       " <selenium.webdriver.remote.webelement.WebElement (session=\"699a4522579fec77b9ba857f3aba0fb7\", element=\"02ca1943-ccfd-4803-b3dc-45374935701e\")>,\n",
       " <selenium.webdriver.remote.webelement.WebElement (session=\"699a4522579fec77b9ba857f3aba0fb7\", element=\"123727e7-1570-422f-8ddd-417c746d08c8\")>,\n",
       " <selenium.webdriver.remote.webelement.WebElement (session=\"699a4522579fec77b9ba857f3aba0fb7\", element=\"4078f73a-9b99-49cc-b83e-67212f47c67b\")>,\n",
       " <selenium.webdriver.remote.webelement.WebElement (session=\"699a4522579fec77b9ba857f3aba0fb7\", element=\"fb1872d0-6678-46cc-a14c-9d5797fb307b\")>,\n",
       " <selenium.webdriver.remote.webelement.WebElement (session=\"699a4522579fec77b9ba857f3aba0fb7\", element=\"00edbf9c-5871-4a8c-aff0-f10df34d9329\")>,\n",
       " <selenium.webdriver.remote.webelement.WebElement (session=\"699a4522579fec77b9ba857f3aba0fb7\", element=\"de9146dc-c9f9-4811-b922-12f909389727\")>,\n",
       " <selenium.webdriver.remote.webelement.WebElement (session=\"699a4522579fec77b9ba857f3aba0fb7\", element=\"d0f12b69-90b8-42b9-9b02-c7687205c96c\")>]"
      ]
     },
     "execution_count": 20,
     "metadata": {},
     "output_type": "execute_result"
    }
   ],
   "source": [
    "header2=browser.find_elements(\"xpath\",\"//div[@class='td-wrap-in']\")\n",
    "header2\n"
   ]
  },
  {
   "cell_type": "code",
   "execution_count": 21,
   "id": "e1666d91",
   "metadata": {},
   "outputs": [
    {
     "data": {
      "text/plain": [
       "['95', '99.4', '98.6', '77', '97.6', '100', '99.2', '100', '90.3']"
      ]
     },
     "execution_count": 21,
     "metadata": {},
     "output_type": "execute_result"
    }
   ],
   "source": [
    "#PARSING DATA\n",
    "value_head=[]\n",
    "for data in header2:\n",
    "    #get the text data\n",
    "    temp=data.text\n",
    "    value_head.append(temp)\n",
    "value_head=value_head[71:80]\n",
    "value_head"
   ]
  },
  {
   "cell_type": "code",
   "execution_count": 22,
   "id": "544da176",
   "metadata": {},
   "outputs": [
    {
     "data": {
      "text/plain": [
       "{'Overall Score': '95',\n",
       " 'Academic Reputation': '99.4',\n",
       " 'Employer Reputation': '98.6',\n",
       " 'Citations per Faculty': '77',\n",
       " 'Faculty Student Ratio': '97.6',\n",
       " 'International Students Ratio': '100',\n",
       " 'International Faculty Ratio': '99.2',\n",
       " 'International Research Network\\nUnweighted': '100',\n",
       " 'Employment Outcomes\\nUnweighted': '90.3'}"
      ]
     },
     "execution_count": 22,
     "metadata": {},
     "output_type": "execute_result"
    }
   ],
   "source": [
    "d={}\n",
    "for i in range(len(column_head)):\n",
    "    d[column_head[i]]=value_head[i]\n",
    "d"
   ]
  },
  {
   "cell_type": "code",
   "execution_count": 23,
   "id": "433ca107",
   "metadata": {},
   "outputs": [
    {
     "data": {
      "text/plain": [
       "'{\"Overall Score\": \"95\", \"Academic Reputation\": \"99.4\", \"Employer Reputation\": \"98.6\", \"Citations per Faculty\": \"77\", \"Faculty Student Ratio\": \"97.6\", \"International Students Ratio\": \"100\", \"International Faculty Ratio\": \"99.2\", \"International Research Network\\\\nUnweighted\": \"100\", \"Employment Outcomes\\\\nUnweighted\": \"90.3\"}'"
      ]
     },
     "execution_count": 23,
     "metadata": {},
     "output_type": "execute_result"
    }
   ],
   "source": [
    "s1=json.dumps(d)\n",
    "s1"
   ]
  },
  {
   "cell_type": "code",
   "execution_count": 24,
   "id": "f3c9b9b8",
   "metadata": {},
   "outputs": [],
   "source": [
    "with open('UCL.json','w') as f:\n",
    "    json.dump(d,f)"
   ]
  },
  {
   "cell_type": "code",
   "execution_count": null,
   "id": "46e69667",
   "metadata": {},
   "outputs": [],
   "source": []
  }
 ],
 "metadata": {
  "kernelspec": {
   "display_name": "Python 3 (ipykernel)",
   "language": "python",
   "name": "python3"
  },
  "language_info": {
   "codemirror_mode": {
    "name": "ipython",
    "version": 3
   },
   "file_extension": ".py",
   "mimetype": "text/x-python",
   "name": "python",
   "nbconvert_exporter": "python",
   "pygments_lexer": "ipython3",
   "version": "3.9.12"
  }
 },
 "nbformat": 4,
 "nbformat_minor": 5
}
