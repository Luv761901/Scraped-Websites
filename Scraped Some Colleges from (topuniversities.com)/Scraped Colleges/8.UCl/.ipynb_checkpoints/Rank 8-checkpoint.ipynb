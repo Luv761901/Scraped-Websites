{
 "cells": [
  {
   "cell_type": "code",
   "execution_count": 17,
   "id": "f483d859",
   "metadata": {},
   "outputs": [],
   "source": [
    "from selenium import webdriver\n",
    "from selenium.webdriver.chrome.service import Service\n",
    "import pandas as pd\n",
    "import json"
   ]
  },
  {
   "cell_type": "code",
   "execution_count": 18,
   "id": "b679e777",
   "metadata": {},
   "outputs": [],
   "source": [
    "path = Service('C:\\chromedriver.exe')"
   ]
  },
  {
   "cell_type": "code",
   "execution_count": 19,
   "id": "78846779",
   "metadata": {},
   "outputs": [],
   "source": [
    "# set path for the driver\n",
    "browser = webdriver.Chrome(service = path)"
   ]
  },
  {
   "cell_type": "code",
   "execution_count": 20,
   "id": "52c7fbb6",
   "metadata": {},
   "outputs": [],
   "source": [
    "url = \"https://www.topuniversities.com/university-rankings/world-university-rankings/2023\""
   ]
  },
  {
   "cell_type": "code",
   "execution_count": 21,
   "id": "9dec4055",
   "metadata": {},
   "outputs": [],
   "source": [
    "# open the page url ion chrome\n",
    "browser.get(url)"
   ]
  },
  {
   "cell_type": "code",
   "execution_count": 22,
   "id": "5e061c17",
   "metadata": {},
   "outputs": [
    {
     "data": {
      "text/plain": [
       "[<selenium.webdriver.remote.webelement.WebElement (session=\"992e50bc74cd4cde74147a49e1e3c72c\", element=\"5ebfb49c-7e7e-4372-91da-9ee0872dc3eb\")>,\n",
       " <selenium.webdriver.remote.webelement.WebElement (session=\"992e50bc74cd4cde74147a49e1e3c72c\", element=\"003dde19-932b-4403-8875-646e7671a756\")>,\n",
       " <selenium.webdriver.remote.webelement.WebElement (session=\"992e50bc74cd4cde74147a49e1e3c72c\", element=\"f7ccbabb-9040-445a-807f-1b84808ac9dd\")>,\n",
       " <selenium.webdriver.remote.webelement.WebElement (session=\"992e50bc74cd4cde74147a49e1e3c72c\", element=\"d862d399-f915-4a30-bcc4-09ebcd87bb1b\")>,\n",
       " <selenium.webdriver.remote.webelement.WebElement (session=\"992e50bc74cd4cde74147a49e1e3c72c\", element=\"7fb49d7e-3958-4362-8955-a2db3bd6f1f9\")>,\n",
       " <selenium.webdriver.remote.webelement.WebElement (session=\"992e50bc74cd4cde74147a49e1e3c72c\", element=\"14b337e2-39d4-423b-a40d-8fbca37c0cb1\")>,\n",
       " <selenium.webdriver.remote.webelement.WebElement (session=\"992e50bc74cd4cde74147a49e1e3c72c\", element=\"70560120-dea8-400e-9cba-7f538b736863\")>,\n",
       " <selenium.webdriver.remote.webelement.WebElement (session=\"992e50bc74cd4cde74147a49e1e3c72c\", element=\"538c27fa-681a-4f29-a1b8-05ceb072036b\")>,\n",
       " <selenium.webdriver.remote.webelement.WebElement (session=\"992e50bc74cd4cde74147a49e1e3c72c\", element=\"1b0966ba-65d3-4de6-a1aa-fc01b1be88db\")>,\n",
       " <selenium.webdriver.remote.webelement.WebElement (session=\"992e50bc74cd4cde74147a49e1e3c72c\", element=\"410be808-04cb-4c38-b97c-2bdcd224cff9\")>,\n",
       " <selenium.webdriver.remote.webelement.WebElement (session=\"992e50bc74cd4cde74147a49e1e3c72c\", element=\"320447a7-c282-46d5-b562-2b948e2c4afc\")>,\n",
       " <selenium.webdriver.remote.webelement.WebElement (session=\"992e50bc74cd4cde74147a49e1e3c72c\", element=\"072f64d0-3467-4528-99fe-fb5a68e74b82\")>,\n",
       " <selenium.webdriver.remote.webelement.WebElement (session=\"992e50bc74cd4cde74147a49e1e3c72c\", element=\"aa22b205-225b-4e83-b4c1-facdc7443128\")>,\n",
       " <selenium.webdriver.remote.webelement.WebElement (session=\"992e50bc74cd4cde74147a49e1e3c72c\", element=\"782b664c-2c5d-4d45-b7c9-c9a835de5793\")>,\n",
       " <selenium.webdriver.remote.webelement.WebElement (session=\"992e50bc74cd4cde74147a49e1e3c72c\", element=\"c5e57c32-a149-4c13-926d-0a596faf0d18\")>,\n",
       " <selenium.webdriver.remote.webelement.WebElement (session=\"992e50bc74cd4cde74147a49e1e3c72c\", element=\"704213f5-fc87-49b8-9b09-4278e3b906d3\")>,\n",
       " <selenium.webdriver.remote.webelement.WebElement (session=\"992e50bc74cd4cde74147a49e1e3c72c\", element=\"9857cef0-1fcb-4f73-a3f0-cce1523f6efa\")>,\n",
       " <selenium.webdriver.remote.webelement.WebElement (session=\"992e50bc74cd4cde74147a49e1e3c72c\", element=\"a367ce95-c6e2-47f8-9d97-e1c81e92a72c\")>,\n",
       " <selenium.webdriver.remote.webelement.WebElement (session=\"992e50bc74cd4cde74147a49e1e3c72c\", element=\"22d4a244-c496-4ffd-b946-c8f8a6e2e020\")>,\n",
       " <selenium.webdriver.remote.webelement.WebElement (session=\"992e50bc74cd4cde74147a49e1e3c72c\", element=\"fae6b134-6e51-4a91-9af6-ab1ee9c1dbe0\")>]"
      ]
     },
     "execution_count": 22,
     "metadata": {},
     "output_type": "execute_result"
    }
   ],
   "source": [
    "l1=browser.find_elements(\"xpath\",\"//div[@class='location ']\")\n",
    "l1\n"
   ]
  },
  {
   "cell_type": "code",
   "execution_count": 23,
   "id": "41cfb910",
   "metadata": {},
   "outputs": [
    {
     "data": {
      "text/plain": [
       "['Cambridge, United States',\n",
       " 'Cambridge, United Kingdom',\n",
       " 'Stanford, United States',\n",
       " 'Oxford, United Kingdom',\n",
       " 'Cambridge, United States',\n",
       " 'Pasadena, United States',\n",
       " 'London, United Kingdom',\n",
       " 'London, United Kingdom',\n",
       " 'Zürich, Switzerland',\n",
       " 'Chicago, United States']"
      ]
     },
     "execution_count": 23,
     "metadata": {},
     "output_type": "execute_result"
    }
   ],
   "source": [
    "loc=[]\n",
    "for data in l1:\n",
    "    #get the text data\n",
    "    temp=data.text\n",
    "    loc.append(temp)\n",
    "loc=loc[10:]\n",
    "loc"
   ]
  },
  {
   "cell_type": "code",
   "execution_count": 24,
   "id": "1b1b3bd6",
   "metadata": {},
   "outputs": [
    {
     "data": {
      "text/plain": [
       "[<selenium.webdriver.remote.webelement.WebElement (session=\"992e50bc74cd4cde74147a49e1e3c72c\", element=\"df8e3582-1413-42b7-b5dc-657f7ebf6502\")>,\n",
       " <selenium.webdriver.remote.webelement.WebElement (session=\"992e50bc74cd4cde74147a49e1e3c72c\", element=\"4edc74ea-0a26-4d8d-ac0d-bf6129f561cd\")>,\n",
       " <selenium.webdriver.remote.webelement.WebElement (session=\"992e50bc74cd4cde74147a49e1e3c72c\", element=\"cc6d2e5c-e81c-447c-a0ac-4114f196a34d\")>,\n",
       " <selenium.webdriver.remote.webelement.WebElement (session=\"992e50bc74cd4cde74147a49e1e3c72c\", element=\"12b6a65c-2055-4756-a038-a19d457ffa29\")>,\n",
       " <selenium.webdriver.remote.webelement.WebElement (session=\"992e50bc74cd4cde74147a49e1e3c72c\", element=\"31749a15-293f-4650-85b3-3de9fb2ceabc\")>,\n",
       " <selenium.webdriver.remote.webelement.WebElement (session=\"992e50bc74cd4cde74147a49e1e3c72c\", element=\"c827e5e1-3bf1-417d-8360-cfe38f4e967d\")>,\n",
       " <selenium.webdriver.remote.webelement.WebElement (session=\"992e50bc74cd4cde74147a49e1e3c72c\", element=\"715886be-0efe-4cb2-83ce-e2fdcf3a97b5\")>,\n",
       " <selenium.webdriver.remote.webelement.WebElement (session=\"992e50bc74cd4cde74147a49e1e3c72c\", element=\"fc95a640-52e4-425f-ac2f-b97561ad7c07\")>,\n",
       " <selenium.webdriver.remote.webelement.WebElement (session=\"992e50bc74cd4cde74147a49e1e3c72c\", element=\"73485f08-b0ff-4c75-a1c5-407a51e3b4ca\")>,\n",
       " <selenium.webdriver.remote.webelement.WebElement (session=\"992e50bc74cd4cde74147a49e1e3c72c\", element=\"4b0c97ce-eb2e-4ee7-92cd-bbea9ba3dd7c\")>]"
      ]
     },
     "execution_count": 24,
     "metadata": {},
     "output_type": "execute_result"
    }
   ],
   "source": [
    "l2=browser.find_elements(\"xpath\",\"//div[@class='_univ-rank ']\")\n",
    "l2"
   ]
  },
  {
   "cell_type": "code",
   "execution_count": 25,
   "id": "fa770584",
   "metadata": {},
   "outputs": [
    {
     "data": {
      "text/plain": [
       "['1', '2', '3', '4', '5', '=6', '=6', '8', '9', '10']"
      ]
     },
     "execution_count": 25,
     "metadata": {},
     "output_type": "execute_result"
    }
   ],
   "source": [
    "RANK=[]\n",
    "for data in l2:\n",
    "    #get the text data\n",
    "    temp=data.text\n",
    "    RANK.append(temp)\n",
    "RANK"
   ]
  },
  {
   "cell_type": "code",
   "execution_count": 26,
   "id": "895c2bfb",
   "metadata": {},
   "outputs": [
    {
     "data": {
      "text/plain": [
       "[<selenium.webdriver.remote.webelement.WebElement (session=\"992e50bc74cd4cde74147a49e1e3c72c\", element=\"bfc03c9c-ca80-4256-abea-015dc0f4b507\")>,\n",
       " <selenium.webdriver.remote.webelement.WebElement (session=\"992e50bc74cd4cde74147a49e1e3c72c\", element=\"903fe04a-af05-4d72-a4ee-db26e3b2a45c\")>,\n",
       " <selenium.webdriver.remote.webelement.WebElement (session=\"992e50bc74cd4cde74147a49e1e3c72c\", element=\"80bc6c12-5cef-40c1-a396-8783ad7a49af\")>,\n",
       " <selenium.webdriver.remote.webelement.WebElement (session=\"992e50bc74cd4cde74147a49e1e3c72c\", element=\"66564d07-855f-4b31-9916-42e07259c815\")>,\n",
       " <selenium.webdriver.remote.webelement.WebElement (session=\"992e50bc74cd4cde74147a49e1e3c72c\", element=\"9690ca4e-ec7a-4abd-8f54-4a3f36447b96\")>,\n",
       " <selenium.webdriver.remote.webelement.WebElement (session=\"992e50bc74cd4cde74147a49e1e3c72c\", element=\"8f7ec1e6-2f31-40dd-9e19-3d6d07fd9a10\")>,\n",
       " <selenium.webdriver.remote.webelement.WebElement (session=\"992e50bc74cd4cde74147a49e1e3c72c\", element=\"a005e588-bbfb-4deb-9f4a-fc96d5cc0ddd\")>,\n",
       " <selenium.webdriver.remote.webelement.WebElement (session=\"992e50bc74cd4cde74147a49e1e3c72c\", element=\"32fa49f6-4f38-42ca-8438-5eb497f729d7\")>,\n",
       " <selenium.webdriver.remote.webelement.WebElement (session=\"992e50bc74cd4cde74147a49e1e3c72c\", element=\"a324cbfe-e139-4d00-b0bd-3a6b80eda16e\")>]"
      ]
     },
     "execution_count": 26,
     "metadata": {},
     "output_type": "execute_result"
    }
   ],
   "source": [
    "# GET EACH COLLEGE SPECIFICATION HEADERS\n",
    "header=browser.find_elements(\"xpath\",\"//div[@class='_click-function_ind']\")\n",
    "header\n"
   ]
  },
  {
   "cell_type": "code",
   "execution_count": 27,
   "id": "9434a513",
   "metadata": {},
   "outputs": [
    {
     "data": {
      "text/plain": [
       "['Overall Score',\n",
       " 'Academic Reputation',\n",
       " 'Employer Reputation',\n",
       " 'Citations per Faculty',\n",
       " 'Faculty Student Ratio',\n",
       " 'International Students Ratio',\n",
       " 'International Faculty Ratio',\n",
       " 'International Research Network\\nUnweighted',\n",
       " 'Employment Outcomes\\nUnweighted']"
      ]
     },
     "execution_count": 27,
     "metadata": {},
     "output_type": "execute_result"
    }
   ],
   "source": [
    "#PARSING DATA\n",
    "column_head=[]\n",
    "for data in header:\n",
    "    #get the text data\n",
    "    temp=data.text\n",
    "    column_head.append(temp)\n",
    "column_head"
   ]
  },
  {
   "cell_type": "code",
   "execution_count": 28,
   "id": "007a1bbe",
   "metadata": {},
   "outputs": [
    {
     "data": {
      "text/plain": [
       "[<selenium.webdriver.remote.webelement.WebElement (session=\"992e50bc74cd4cde74147a49e1e3c72c\", element=\"13d72ae7-9437-468e-b4b5-59eae9bc69b2\")>,\n",
       " <selenium.webdriver.remote.webelement.WebElement (session=\"992e50bc74cd4cde74147a49e1e3c72c\", element=\"3da85f59-c5b8-4233-a276-aeb9ae47761b\")>,\n",
       " <selenium.webdriver.remote.webelement.WebElement (session=\"992e50bc74cd4cde74147a49e1e3c72c\", element=\"d1335fd1-5d90-45c9-9f79-c5c6c4f57079\")>,\n",
       " <selenium.webdriver.remote.webelement.WebElement (session=\"992e50bc74cd4cde74147a49e1e3c72c\", element=\"1d09c917-e9de-4021-b08e-6adc00d94f59\")>,\n",
       " <selenium.webdriver.remote.webelement.WebElement (session=\"992e50bc74cd4cde74147a49e1e3c72c\", element=\"512c86a0-1e26-4ace-bcde-e67675223452\")>,\n",
       " <selenium.webdriver.remote.webelement.WebElement (session=\"992e50bc74cd4cde74147a49e1e3c72c\", element=\"e7b4b7cf-b326-4777-805c-6b5f7690ac0d\")>,\n",
       " <selenium.webdriver.remote.webelement.WebElement (session=\"992e50bc74cd4cde74147a49e1e3c72c\", element=\"0f54d34c-5b0b-4efa-9a8a-56762da83295\")>,\n",
       " <selenium.webdriver.remote.webelement.WebElement (session=\"992e50bc74cd4cde74147a49e1e3c72c\", element=\"28de15e4-3a5f-4756-ab71-beb9648e23a6\")>,\n",
       " <selenium.webdriver.remote.webelement.WebElement (session=\"992e50bc74cd4cde74147a49e1e3c72c\", element=\"5bdc1271-7c60-4650-b4ae-52bda08db4db\")>,\n",
       " <selenium.webdriver.remote.webelement.WebElement (session=\"992e50bc74cd4cde74147a49e1e3c72c\", element=\"d51c9872-5b5e-446b-8843-12d5eb44adf5\")>,\n",
       " <selenium.webdriver.remote.webelement.WebElement (session=\"992e50bc74cd4cde74147a49e1e3c72c\", element=\"e16ae6b5-54d0-41d5-a630-34279a2e7be4\")>,\n",
       " <selenium.webdriver.remote.webelement.WebElement (session=\"992e50bc74cd4cde74147a49e1e3c72c\", element=\"0689ff00-80f7-46a0-9218-390ada8ab0ac\")>,\n",
       " <selenium.webdriver.remote.webelement.WebElement (session=\"992e50bc74cd4cde74147a49e1e3c72c\", element=\"046b4aa0-ef56-46fc-92b0-8935191cce9b\")>,\n",
       " <selenium.webdriver.remote.webelement.WebElement (session=\"992e50bc74cd4cde74147a49e1e3c72c\", element=\"6024643d-07b9-4e73-a0e3-85447c0f07f5\")>,\n",
       " <selenium.webdriver.remote.webelement.WebElement (session=\"992e50bc74cd4cde74147a49e1e3c72c\", element=\"3827bccb-2fa2-4ef0-905d-2b21ffc24128\")>,\n",
       " <selenium.webdriver.remote.webelement.WebElement (session=\"992e50bc74cd4cde74147a49e1e3c72c\", element=\"be82f876-e69c-42eb-b3bf-a0fc2d6c1818\")>,\n",
       " <selenium.webdriver.remote.webelement.WebElement (session=\"992e50bc74cd4cde74147a49e1e3c72c\", element=\"08dac823-90ab-4b0d-a7ca-1b4c1fa7587a\")>,\n",
       " <selenium.webdriver.remote.webelement.WebElement (session=\"992e50bc74cd4cde74147a49e1e3c72c\", element=\"47c93d31-3b2d-4b1d-b1b7-d4af1b0ded70\")>,\n",
       " <selenium.webdriver.remote.webelement.WebElement (session=\"992e50bc74cd4cde74147a49e1e3c72c\", element=\"eb3f7280-42f9-40cc-904e-469eb418f9a1\")>,\n",
       " <selenium.webdriver.remote.webelement.WebElement (session=\"992e50bc74cd4cde74147a49e1e3c72c\", element=\"1c62ef33-a520-4aa2-905c-b3e0bfc78059\")>,\n",
       " <selenium.webdriver.remote.webelement.WebElement (session=\"992e50bc74cd4cde74147a49e1e3c72c\", element=\"463c45e2-fbda-40bb-918f-23d8bcadc6bb\")>,\n",
       " <selenium.webdriver.remote.webelement.WebElement (session=\"992e50bc74cd4cde74147a49e1e3c72c\", element=\"abf1050e-9b4c-440b-af7e-64ad26e94c4c\")>,\n",
       " <selenium.webdriver.remote.webelement.WebElement (session=\"992e50bc74cd4cde74147a49e1e3c72c\", element=\"4a9a9239-6f51-47cb-80dc-4b6aaea8c2d1\")>,\n",
       " <selenium.webdriver.remote.webelement.WebElement (session=\"992e50bc74cd4cde74147a49e1e3c72c\", element=\"ebe78266-6a3b-459e-bbb6-83659f748bb8\")>,\n",
       " <selenium.webdriver.remote.webelement.WebElement (session=\"992e50bc74cd4cde74147a49e1e3c72c\", element=\"9bc149f4-cfef-44a1-bc2a-4f786329ab72\")>,\n",
       " <selenium.webdriver.remote.webelement.WebElement (session=\"992e50bc74cd4cde74147a49e1e3c72c\", element=\"1c7b9162-094e-4fb5-99e6-562d45e60c57\")>,\n",
       " <selenium.webdriver.remote.webelement.WebElement (session=\"992e50bc74cd4cde74147a49e1e3c72c\", element=\"e05eea9e-73f9-4e28-b9f4-464bb0de30e5\")>,\n",
       " <selenium.webdriver.remote.webelement.WebElement (session=\"992e50bc74cd4cde74147a49e1e3c72c\", element=\"e3673386-d920-4d4d-8a70-0c5f3138f149\")>,\n",
       " <selenium.webdriver.remote.webelement.WebElement (session=\"992e50bc74cd4cde74147a49e1e3c72c\", element=\"8658008c-840b-484c-9e23-675fe6d2c9cd\")>,\n",
       " <selenium.webdriver.remote.webelement.WebElement (session=\"992e50bc74cd4cde74147a49e1e3c72c\", element=\"c7de572f-f5e5-44eb-bdb4-188f0758ad9d\")>,\n",
       " <selenium.webdriver.remote.webelement.WebElement (session=\"992e50bc74cd4cde74147a49e1e3c72c\", element=\"e08c6d62-cfb7-4809-a3cd-2e41375eecc0\")>,\n",
       " <selenium.webdriver.remote.webelement.WebElement (session=\"992e50bc74cd4cde74147a49e1e3c72c\", element=\"43b2d68f-bcba-4026-8d1a-d297bac393a7\")>,\n",
       " <selenium.webdriver.remote.webelement.WebElement (session=\"992e50bc74cd4cde74147a49e1e3c72c\", element=\"5ba8a8a5-9ac7-423f-94b2-20e6617470dd\")>,\n",
       " <selenium.webdriver.remote.webelement.WebElement (session=\"992e50bc74cd4cde74147a49e1e3c72c\", element=\"0b6324a0-6308-40ec-a0e5-5e6404bd5e2c\")>,\n",
       " <selenium.webdriver.remote.webelement.WebElement (session=\"992e50bc74cd4cde74147a49e1e3c72c\", element=\"a7968902-e79b-4531-86d5-fe8fc0b3a94b\")>,\n",
       " <selenium.webdriver.remote.webelement.WebElement (session=\"992e50bc74cd4cde74147a49e1e3c72c\", element=\"97cb9726-6cbc-4104-b072-8f54cb630f21\")>,\n",
       " <selenium.webdriver.remote.webelement.WebElement (session=\"992e50bc74cd4cde74147a49e1e3c72c\", element=\"80dbb3ed-be40-4a5b-a1c9-19d6a6aa7211\")>,\n",
       " <selenium.webdriver.remote.webelement.WebElement (session=\"992e50bc74cd4cde74147a49e1e3c72c\", element=\"459b4d32-7159-4ad6-9514-151b0a584d9a\")>,\n",
       " <selenium.webdriver.remote.webelement.WebElement (session=\"992e50bc74cd4cde74147a49e1e3c72c\", element=\"9c0e96d5-20c7-4011-92b5-6ad1e0f425b4\")>,\n",
       " <selenium.webdriver.remote.webelement.WebElement (session=\"992e50bc74cd4cde74147a49e1e3c72c\", element=\"8992aada-a922-4c60-8d4b-e42b7d5eef4b\")>,\n",
       " <selenium.webdriver.remote.webelement.WebElement (session=\"992e50bc74cd4cde74147a49e1e3c72c\", element=\"ea125d31-50c6-463f-8616-f8017c4dfdea\")>,\n",
       " <selenium.webdriver.remote.webelement.WebElement (session=\"992e50bc74cd4cde74147a49e1e3c72c\", element=\"aa0129ea-fffc-404d-ada9-626c9f8fd562\")>,\n",
       " <selenium.webdriver.remote.webelement.WebElement (session=\"992e50bc74cd4cde74147a49e1e3c72c\", element=\"b23de5a4-c5b2-4821-b3c4-a38d72b64ebb\")>,\n",
       " <selenium.webdriver.remote.webelement.WebElement (session=\"992e50bc74cd4cde74147a49e1e3c72c\", element=\"81aaa853-c695-4a26-a4c9-574b70349f3e\")>,\n",
       " <selenium.webdriver.remote.webelement.WebElement (session=\"992e50bc74cd4cde74147a49e1e3c72c\", element=\"40d32891-848a-4e16-aba3-87613295afaa\")>,\n",
       " <selenium.webdriver.remote.webelement.WebElement (session=\"992e50bc74cd4cde74147a49e1e3c72c\", element=\"f3f595b5-15b5-42b5-a5a8-62d7fa1caf39\")>,\n",
       " <selenium.webdriver.remote.webelement.WebElement (session=\"992e50bc74cd4cde74147a49e1e3c72c\", element=\"47e6a0af-aecb-404c-a24f-30245cfc8dc5\")>,\n",
       " <selenium.webdriver.remote.webelement.WebElement (session=\"992e50bc74cd4cde74147a49e1e3c72c\", element=\"f2f000c2-3e59-4499-9682-88f0eac1683e\")>,\n",
       " <selenium.webdriver.remote.webelement.WebElement (session=\"992e50bc74cd4cde74147a49e1e3c72c\", element=\"7fe2710b-34a3-451a-9428-6bcaa6966bd7\")>,\n",
       " <selenium.webdriver.remote.webelement.WebElement (session=\"992e50bc74cd4cde74147a49e1e3c72c\", element=\"533c1abb-abe5-4a19-a85d-6fbaa7f00b56\")>,\n",
       " <selenium.webdriver.remote.webelement.WebElement (session=\"992e50bc74cd4cde74147a49e1e3c72c\", element=\"b3c2b981-2a32-446a-9355-786c6cd51e93\")>,\n",
       " <selenium.webdriver.remote.webelement.WebElement (session=\"992e50bc74cd4cde74147a49e1e3c72c\", element=\"2aafd834-d234-4bd1-a1e7-7fc5a241570e\")>,\n",
       " <selenium.webdriver.remote.webelement.WebElement (session=\"992e50bc74cd4cde74147a49e1e3c72c\", element=\"6a163714-e0ce-4050-9d66-3865d45ecdfa\")>,\n",
       " <selenium.webdriver.remote.webelement.WebElement (session=\"992e50bc74cd4cde74147a49e1e3c72c\", element=\"8bcd7354-337e-4677-a491-7852d7ad9361\")>,\n",
       " <selenium.webdriver.remote.webelement.WebElement (session=\"992e50bc74cd4cde74147a49e1e3c72c\", element=\"e3232e6f-0a1d-4b9c-a20a-df0c574b7f46\")>,\n",
       " <selenium.webdriver.remote.webelement.WebElement (session=\"992e50bc74cd4cde74147a49e1e3c72c\", element=\"7b5d31bd-a62c-4d7c-ad20-e4043a7b21bb\")>,\n",
       " <selenium.webdriver.remote.webelement.WebElement (session=\"992e50bc74cd4cde74147a49e1e3c72c\", element=\"ed04302b-c907-4886-bbfe-822ca3adfbf3\")>,\n",
       " <selenium.webdriver.remote.webelement.WebElement (session=\"992e50bc74cd4cde74147a49e1e3c72c\", element=\"066b87d6-8d22-4fdd-a6d7-513641eb1418\")>,\n",
       " <selenium.webdriver.remote.webelement.WebElement (session=\"992e50bc74cd4cde74147a49e1e3c72c\", element=\"57050ae6-755d-4df0-be23-0b7faa4b53de\")>,\n",
       " <selenium.webdriver.remote.webelement.WebElement (session=\"992e50bc74cd4cde74147a49e1e3c72c\", element=\"5eda8b81-8fb0-48ae-8e1e-c75f621ac546\")>,\n",
       " <selenium.webdriver.remote.webelement.WebElement (session=\"992e50bc74cd4cde74147a49e1e3c72c\", element=\"5dbf01e9-8adb-42f7-a802-47cc8a82a4f0\")>,\n",
       " <selenium.webdriver.remote.webelement.WebElement (session=\"992e50bc74cd4cde74147a49e1e3c72c\", element=\"0da566d8-a128-4613-9e92-11f9dd151fd2\")>,\n",
       " <selenium.webdriver.remote.webelement.WebElement (session=\"992e50bc74cd4cde74147a49e1e3c72c\", element=\"0c92688f-8e93-4d70-b797-9863e9cf0a08\")>,\n",
       " <selenium.webdriver.remote.webelement.WebElement (session=\"992e50bc74cd4cde74147a49e1e3c72c\", element=\"cfc21b8b-c39b-451a-8a3b-06bfc9be213b\")>,\n",
       " <selenium.webdriver.remote.webelement.WebElement (session=\"992e50bc74cd4cde74147a49e1e3c72c\", element=\"47641849-cf22-4977-8b0a-09781a2dfa39\")>,\n",
       " <selenium.webdriver.remote.webelement.WebElement (session=\"992e50bc74cd4cde74147a49e1e3c72c\", element=\"2d4631b1-d393-4fd9-86ee-fd0f89964659\")>,\n",
       " <selenium.webdriver.remote.webelement.WebElement (session=\"992e50bc74cd4cde74147a49e1e3c72c\", element=\"d039e0a4-385c-4564-81ab-6cc992a60e32\")>,\n",
       " <selenium.webdriver.remote.webelement.WebElement (session=\"992e50bc74cd4cde74147a49e1e3c72c\", element=\"95857ec6-e1b5-4918-b51e-84a114b67ee1\")>,\n",
       " <selenium.webdriver.remote.webelement.WebElement (session=\"992e50bc74cd4cde74147a49e1e3c72c\", element=\"7438c9b1-1a0b-4d52-95d5-3da471da8f6c\")>,\n",
       " <selenium.webdriver.remote.webelement.WebElement (session=\"992e50bc74cd4cde74147a49e1e3c72c\", element=\"1b2dcd77-15e6-496a-9682-acc38735a22e\")>,\n",
       " <selenium.webdriver.remote.webelement.WebElement (session=\"992e50bc74cd4cde74147a49e1e3c72c\", element=\"9f0b0f54-9407-4c60-b55d-4cd5a45a5a93\")>,\n",
       " <selenium.webdriver.remote.webelement.WebElement (session=\"992e50bc74cd4cde74147a49e1e3c72c\", element=\"937d2f1d-be7d-48c7-8f0b-61a47fb5c68b\")>,\n",
       " <selenium.webdriver.remote.webelement.WebElement (session=\"992e50bc74cd4cde74147a49e1e3c72c\", element=\"c123d62d-1a6f-4f49-b8bb-ebdb7db0ada8\")>,\n",
       " <selenium.webdriver.remote.webelement.WebElement (session=\"992e50bc74cd4cde74147a49e1e3c72c\", element=\"6cb11a94-032e-498e-a583-1138c2c1c9ac\")>,\n",
       " <selenium.webdriver.remote.webelement.WebElement (session=\"992e50bc74cd4cde74147a49e1e3c72c\", element=\"25979ad6-b6a2-4673-a32f-8d6f9dac09ad\")>,\n",
       " <selenium.webdriver.remote.webelement.WebElement (session=\"992e50bc74cd4cde74147a49e1e3c72c\", element=\"33d247a1-2079-48f3-9629-9c1ef1f3df87\")>,\n",
       " <selenium.webdriver.remote.webelement.WebElement (session=\"992e50bc74cd4cde74147a49e1e3c72c\", element=\"1a359309-2b99-4834-9931-7fd5185dcf60\")>,\n",
       " <selenium.webdriver.remote.webelement.WebElement (session=\"992e50bc74cd4cde74147a49e1e3c72c\", element=\"bbcd90d5-f224-4d0b-a2f5-479a37f1c374\")>,\n",
       " <selenium.webdriver.remote.webelement.WebElement (session=\"992e50bc74cd4cde74147a49e1e3c72c\", element=\"7a89595b-d8c4-4f7b-8f99-1ef34ce505d9\")>,\n",
       " <selenium.webdriver.remote.webelement.WebElement (session=\"992e50bc74cd4cde74147a49e1e3c72c\", element=\"7ea00199-f136-410a-85de-a83f13b2b649\")>,\n",
       " <selenium.webdriver.remote.webelement.WebElement (session=\"992e50bc74cd4cde74147a49e1e3c72c\", element=\"038c8b8d-125d-490a-85a1-3ca62b40dccb\")>,\n",
       " <selenium.webdriver.remote.webelement.WebElement (session=\"992e50bc74cd4cde74147a49e1e3c72c\", element=\"e8d7db02-0ae6-4f34-a871-31501dd8ea6f\")>,\n",
       " <selenium.webdriver.remote.webelement.WebElement (session=\"992e50bc74cd4cde74147a49e1e3c72c\", element=\"f045acfe-7230-43a3-82c8-8390a68b7566\")>,\n",
       " <selenium.webdriver.remote.webelement.WebElement (session=\"992e50bc74cd4cde74147a49e1e3c72c\", element=\"762353b7-8ed6-407f-93c0-e78c4c18ab76\")>,\n",
       " <selenium.webdriver.remote.webelement.WebElement (session=\"992e50bc74cd4cde74147a49e1e3c72c\", element=\"731894a0-e87e-4eac-a8bc-7fbae2299921\")>,\n",
       " <selenium.webdriver.remote.webelement.WebElement (session=\"992e50bc74cd4cde74147a49e1e3c72c\", element=\"9959053e-e82b-4588-b0ee-6cc119e96524\")>,\n",
       " <selenium.webdriver.remote.webelement.WebElement (session=\"992e50bc74cd4cde74147a49e1e3c72c\", element=\"57011b96-4486-4c12-9eb6-c801b28a39a7\")>,\n",
       " <selenium.webdriver.remote.webelement.WebElement (session=\"992e50bc74cd4cde74147a49e1e3c72c\", element=\"76e6d3cd-bda8-41ad-8945-db2dd92d767e\")>,\n",
       " <selenium.webdriver.remote.webelement.WebElement (session=\"992e50bc74cd4cde74147a49e1e3c72c\", element=\"c9b8579f-3b39-4ef4-9eaa-5a0ac9ae48a1\")>,\n",
       " <selenium.webdriver.remote.webelement.WebElement (session=\"992e50bc74cd4cde74147a49e1e3c72c\", element=\"b678220c-1854-448f-80ba-9a6363137214\")>,\n",
       " <selenium.webdriver.remote.webelement.WebElement (session=\"992e50bc74cd4cde74147a49e1e3c72c\", element=\"73a49f14-0afe-4203-8016-75ccdc39eb02\")>,\n",
       " <selenium.webdriver.remote.webelement.WebElement (session=\"992e50bc74cd4cde74147a49e1e3c72c\", element=\"d02ab822-a31f-459b-af92-bf3f3c634aa3\")>,\n",
       " <selenium.webdriver.remote.webelement.WebElement (session=\"992e50bc74cd4cde74147a49e1e3c72c\", element=\"d9ae810f-862c-440c-b2cd-703a2b37970f\")>,\n",
       " <selenium.webdriver.remote.webelement.WebElement (session=\"992e50bc74cd4cde74147a49e1e3c72c\", element=\"d1dbb8f7-5b78-46bc-878e-9cefc36c9b5d\")>,\n",
       " <selenium.webdriver.remote.webelement.WebElement (session=\"992e50bc74cd4cde74147a49e1e3c72c\", element=\"3c91b690-c99f-41c2-a3ca-37578197dd16\")>,\n",
       " <selenium.webdriver.remote.webelement.WebElement (session=\"992e50bc74cd4cde74147a49e1e3c72c\", element=\"db9935c8-3076-42a0-9f60-0080184d7bc9\")>,\n",
       " <selenium.webdriver.remote.webelement.WebElement (session=\"992e50bc74cd4cde74147a49e1e3c72c\", element=\"51037a94-162f-4752-bc57-d24f2ad929dc\")>,\n",
       " <selenium.webdriver.remote.webelement.WebElement (session=\"992e50bc74cd4cde74147a49e1e3c72c\", element=\"71e7e89d-0355-45fb-acec-6ceeb3e847c3\")>,\n",
       " <selenium.webdriver.remote.webelement.WebElement (session=\"992e50bc74cd4cde74147a49e1e3c72c\", element=\"34b6c7ad-7ff5-49a0-b23f-38e866ee7f0c\")>,\n",
       " <selenium.webdriver.remote.webelement.WebElement (session=\"992e50bc74cd4cde74147a49e1e3c72c\", element=\"0ad5cbce-8d47-4bf5-8580-a630d5c66055\")>]"
      ]
     },
     "execution_count": 28,
     "metadata": {},
     "output_type": "execute_result"
    }
   ],
   "source": [
    "header2=browser.find_elements(\"xpath\",\"//div[@class='td-wrap-in']\")\n",
    "header2\n"
   ]
  },
  {
   "cell_type": "code",
   "execution_count": 29,
   "id": "e1666d91",
   "metadata": {},
   "outputs": [
    {
     "data": {
      "text/plain": [
       "['95', '99.4', '98.6', '77', '97.6', '100', '99.2', '100', '90.3']"
      ]
     },
     "execution_count": 29,
     "metadata": {},
     "output_type": "execute_result"
    }
   ],
   "source": [
    "#PARSING DATA\n",
    "value_head=[]\n",
    "for data in header2:\n",
    "    #get the text data\n",
    "    temp=data.text\n",
    "    value_head.append(temp)\n",
    "value=value_head[71:80]\n",
    "value"
   ]
  },
  {
   "cell_type": "code",
   "execution_count": 30,
   "id": "544da176",
   "metadata": {},
   "outputs": [
    {
     "data": {
      "text/plain": [
       "{'Name': 'UCL',\n",
       " 'Location': 'London, United Kingdom',\n",
       " 'Rank': '8',\n",
       " 'Overall Score': '95',\n",
       " 'Academic Reputation': '99.4',\n",
       " 'Employer Reputation': '98.6',\n",
       " 'Citations per Faculty': '77',\n",
       " 'Faculty Student Ratio': '97.6',\n",
       " 'International Students Ratio': '100',\n",
       " 'International Faculty Ratio': '99.2',\n",
       " 'International Research Network\\nUnweighted': '100',\n",
       " 'Employment Outcomes\\nUnweighted': '90.3'}"
      ]
     },
     "execution_count": 30,
     "metadata": {},
     "output_type": "execute_result"
    }
   ],
   "source": [
    "d={}\n",
    "d['Name']=value_head[70]\n",
    "d['Location']=loc[7]\n",
    "d['Rank']=RANK[7]\n",
    "for i in range(len(column_head)):\n",
    "    d[column_head[i]]=value[i]\n",
    "d"
   ]
  },
  {
   "cell_type": "code",
   "execution_count": 31,
   "id": "433ca107",
   "metadata": {},
   "outputs": [
    {
     "data": {
      "text/plain": [
       "'{\"Name\": \"UCL\", \"Location\": \"London, United Kingdom\", \"Rank\": \"8\", \"Overall Score\": \"95\", \"Academic Reputation\": \"99.4\", \"Employer Reputation\": \"98.6\", \"Citations per Faculty\": \"77\", \"Faculty Student Ratio\": \"97.6\", \"International Students Ratio\": \"100\", \"International Faculty Ratio\": \"99.2\", \"International Research Network\\\\nUnweighted\": \"100\", \"Employment Outcomes\\\\nUnweighted\": \"90.3\"}'"
      ]
     },
     "execution_count": 31,
     "metadata": {},
     "output_type": "execute_result"
    }
   ],
   "source": [
    "s1=json.dumps(d)\n",
    "s1"
   ]
  },
  {
   "cell_type": "code",
   "execution_count": 32,
   "id": "f3c9b9b8",
   "metadata": {},
   "outputs": [],
   "source": [
    "with open('UCL.json','w') as f:\n",
    "    json.dump(d,f)"
   ]
  },
  {
   "cell_type": "code",
   "execution_count": null,
   "id": "46e69667",
   "metadata": {},
   "outputs": [],
   "source": []
  }
 ],
 "metadata": {
  "kernelspec": {
   "display_name": "Python 3 (ipykernel)",
   "language": "python",
   "name": "python3"
  },
  "language_info": {
   "codemirror_mode": {
    "name": "ipython",
    "version": 3
   },
   "file_extension": ".py",
   "mimetype": "text/x-python",
   "name": "python",
   "nbconvert_exporter": "python",
   "pygments_lexer": "ipython3",
   "version": "3.9.12"
  }
 },
 "nbformat": 4,
 "nbformat_minor": 5
}
