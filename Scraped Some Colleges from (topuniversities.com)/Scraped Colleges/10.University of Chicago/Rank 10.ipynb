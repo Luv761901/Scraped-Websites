{
 "cells": [
  {
   "cell_type": "code",
   "execution_count": 1,
   "id": "bb72e562",
   "metadata": {},
   "outputs": [],
   "source": [
    "from selenium import webdriver\n",
    "from selenium.webdriver.chrome.service import Service\n",
    "import pandas as pd\n",
    "import json\n"
   ]
  },
  {
   "cell_type": "code",
   "execution_count": 2,
   "id": "4952d84f",
   "metadata": {},
   "outputs": [],
   "source": [
    "path = Service('C:\\chromedriver.exe')"
   ]
  },
  {
   "cell_type": "code",
   "execution_count": 3,
   "id": "d0136c54",
   "metadata": {},
   "outputs": [],
   "source": [
    "# set path for the driver\n",
    "browser = webdriver.Chrome(service = path)"
   ]
  },
  {
   "cell_type": "code",
   "execution_count": 4,
   "id": "8204b55c",
   "metadata": {},
   "outputs": [],
   "source": [
    "url = \"https://www.topuniversities.com/university-rankings/world-university-rankings/2023\""
   ]
  },
  {
   "cell_type": "code",
   "execution_count": 5,
   "id": "14cfa86c",
   "metadata": {},
   "outputs": [],
   "source": [
    "# open the page url ion chrome\n",
    "browser.get(url)\n"
   ]
  },
  {
   "cell_type": "code",
   "execution_count": 6,
   "id": "a7fdf141",
   "metadata": {},
   "outputs": [
    {
     "data": {
      "text/plain": [
       "[<selenium.webdriver.remote.webelement.WebElement (session=\"9c6dcf2b29112eedf36abc8035f93efd\", element=\"3c81f4dd-53ae-4e9c-bdb2-872710342af4\")>,\n",
       " <selenium.webdriver.remote.webelement.WebElement (session=\"9c6dcf2b29112eedf36abc8035f93efd\", element=\"7c1a2066-72d4-4586-bc9c-3cf88bc21f7c\")>,\n",
       " <selenium.webdriver.remote.webelement.WebElement (session=\"9c6dcf2b29112eedf36abc8035f93efd\", element=\"321fb6d4-d01a-4623-a8cf-7a2a656898ab\")>,\n",
       " <selenium.webdriver.remote.webelement.WebElement (session=\"9c6dcf2b29112eedf36abc8035f93efd\", element=\"13485424-8df5-46f1-80ff-800fc6fe42f8\")>,\n",
       " <selenium.webdriver.remote.webelement.WebElement (session=\"9c6dcf2b29112eedf36abc8035f93efd\", element=\"19a27e98-79a6-4057-ab87-5c72c85d0bde\")>,\n",
       " <selenium.webdriver.remote.webelement.WebElement (session=\"9c6dcf2b29112eedf36abc8035f93efd\", element=\"d67405b8-1003-45c9-9299-fbf44a4611ad\")>,\n",
       " <selenium.webdriver.remote.webelement.WebElement (session=\"9c6dcf2b29112eedf36abc8035f93efd\", element=\"c2644b2b-52dd-44c3-9d51-2214fadfc39e\")>,\n",
       " <selenium.webdriver.remote.webelement.WebElement (session=\"9c6dcf2b29112eedf36abc8035f93efd\", element=\"f0d7ed4e-693d-4458-9303-8e7e94306e41\")>,\n",
       " <selenium.webdriver.remote.webelement.WebElement (session=\"9c6dcf2b29112eedf36abc8035f93efd\", element=\"8d19def8-6f44-487f-bb94-cbdfe0dc87fa\")>]"
      ]
     },
     "execution_count": 6,
     "metadata": {},
     "output_type": "execute_result"
    }
   ],
   "source": [
    "# GET EACH COLLEGE SPECIFICATION HEADERS\n",
    "header=browser.find_elements(\"xpath\",\"//div[@class='_click-function_ind']\")\n",
    "header\n"
   ]
  },
  {
   "cell_type": "code",
   "execution_count": 7,
   "id": "822013e6",
   "metadata": {},
   "outputs": [
    {
     "data": {
      "text/plain": [
       "['Overall Score',\n",
       " 'Academic Reputation',\n",
       " 'Employer Reputation',\n",
       " 'Citations per Faculty',\n",
       " 'Faculty Student Ratio',\n",
       " 'International Students Ratio',\n",
       " 'International Faculty Ratio',\n",
       " 'International Research Network\\nUnweighted',\n",
       " 'Employment Outcomes\\nUnweighted']"
      ]
     },
     "execution_count": 7,
     "metadata": {},
     "output_type": "execute_result"
    }
   ],
   "source": [
    "#PARSING DATA\n",
    "column_head=[]\n",
    "for data in header:\n",
    "    #get the text data\n",
    "    temp=data.text\n",
    "    column_head.append(temp)\n",
    "column_head"
   ]
  },
  {
   "cell_type": "code",
   "execution_count": 8,
   "id": "611f0855",
   "metadata": {},
   "outputs": [
    {
     "data": {
      "text/plain": [
       "[<selenium.webdriver.remote.webelement.WebElement (session=\"9c6dcf2b29112eedf36abc8035f93efd\", element=\"d004520f-731c-432c-bb8d-b2870869f199\")>,\n",
       " <selenium.webdriver.remote.webelement.WebElement (session=\"9c6dcf2b29112eedf36abc8035f93efd\", element=\"e7ff02f7-3fdd-4081-bf4d-7b2ac5cf5c71\")>,\n",
       " <selenium.webdriver.remote.webelement.WebElement (session=\"9c6dcf2b29112eedf36abc8035f93efd\", element=\"f8dbedac-2792-462f-8a46-e46d2b56035a\")>,\n",
       " <selenium.webdriver.remote.webelement.WebElement (session=\"9c6dcf2b29112eedf36abc8035f93efd\", element=\"7d0bd970-e96a-466e-a5a3-04bfe5d25b71\")>,\n",
       " <selenium.webdriver.remote.webelement.WebElement (session=\"9c6dcf2b29112eedf36abc8035f93efd\", element=\"e3936579-379e-48fd-8094-3a48ddda87df\")>,\n",
       " <selenium.webdriver.remote.webelement.WebElement (session=\"9c6dcf2b29112eedf36abc8035f93efd\", element=\"602fbb34-91da-4a42-8215-43626c1430ab\")>,\n",
       " <selenium.webdriver.remote.webelement.WebElement (session=\"9c6dcf2b29112eedf36abc8035f93efd\", element=\"3ca4e97b-032c-47a3-a771-50eefecc3e21\")>,\n",
       " <selenium.webdriver.remote.webelement.WebElement (session=\"9c6dcf2b29112eedf36abc8035f93efd\", element=\"ee210fac-aa16-4119-b7ea-22c177a48d7d\")>,\n",
       " <selenium.webdriver.remote.webelement.WebElement (session=\"9c6dcf2b29112eedf36abc8035f93efd\", element=\"004fb5b7-6810-4ff0-9ad2-5cf8434d93e1\")>,\n",
       " <selenium.webdriver.remote.webelement.WebElement (session=\"9c6dcf2b29112eedf36abc8035f93efd\", element=\"3df1e2d6-b3c8-465e-832f-f61811edbcd9\")>,\n",
       " <selenium.webdriver.remote.webelement.WebElement (session=\"9c6dcf2b29112eedf36abc8035f93efd\", element=\"dd714585-8eb8-4261-8683-9f2cb9a9ddbb\")>,\n",
       " <selenium.webdriver.remote.webelement.WebElement (session=\"9c6dcf2b29112eedf36abc8035f93efd\", element=\"871dc5c2-5e96-444c-97c8-08ddbb67e319\")>,\n",
       " <selenium.webdriver.remote.webelement.WebElement (session=\"9c6dcf2b29112eedf36abc8035f93efd\", element=\"e2672239-0141-4396-a348-493cf641ae9f\")>,\n",
       " <selenium.webdriver.remote.webelement.WebElement (session=\"9c6dcf2b29112eedf36abc8035f93efd\", element=\"3d372ec6-b664-48e2-bc17-617cf6734135\")>,\n",
       " <selenium.webdriver.remote.webelement.WebElement (session=\"9c6dcf2b29112eedf36abc8035f93efd\", element=\"a5a9428f-d4af-4830-bc31-6ec9b31c1613\")>,\n",
       " <selenium.webdriver.remote.webelement.WebElement (session=\"9c6dcf2b29112eedf36abc8035f93efd\", element=\"e64cab73-e55b-4a8a-8d45-d96081711cf0\")>,\n",
       " <selenium.webdriver.remote.webelement.WebElement (session=\"9c6dcf2b29112eedf36abc8035f93efd\", element=\"fda28bc4-47cc-4d5b-9dce-84c69838be32\")>,\n",
       " <selenium.webdriver.remote.webelement.WebElement (session=\"9c6dcf2b29112eedf36abc8035f93efd\", element=\"ed90141e-bf5b-4138-a609-bc95514c7a44\")>,\n",
       " <selenium.webdriver.remote.webelement.WebElement (session=\"9c6dcf2b29112eedf36abc8035f93efd\", element=\"df1f8ce6-8b21-454c-81b7-6ed4cac2d3fe\")>,\n",
       " <selenium.webdriver.remote.webelement.WebElement (session=\"9c6dcf2b29112eedf36abc8035f93efd\", element=\"0810d61c-1291-46ac-b352-9366b2ff813f\")>,\n",
       " <selenium.webdriver.remote.webelement.WebElement (session=\"9c6dcf2b29112eedf36abc8035f93efd\", element=\"d593f5d6-7ae8-4217-becf-129ab24cdbb6\")>,\n",
       " <selenium.webdriver.remote.webelement.WebElement (session=\"9c6dcf2b29112eedf36abc8035f93efd\", element=\"fca74a7b-6d2f-49af-a395-245c84528e39\")>,\n",
       " <selenium.webdriver.remote.webelement.WebElement (session=\"9c6dcf2b29112eedf36abc8035f93efd\", element=\"605baaef-d463-4c56-91ac-0594f4148b28\")>,\n",
       " <selenium.webdriver.remote.webelement.WebElement (session=\"9c6dcf2b29112eedf36abc8035f93efd\", element=\"48e24f95-6cbc-4f4c-9a5e-7d3d2c4f126f\")>,\n",
       " <selenium.webdriver.remote.webelement.WebElement (session=\"9c6dcf2b29112eedf36abc8035f93efd\", element=\"8a4ca6e7-7d7a-4cae-8196-dfadfc3e420f\")>,\n",
       " <selenium.webdriver.remote.webelement.WebElement (session=\"9c6dcf2b29112eedf36abc8035f93efd\", element=\"0b87c295-7662-48ea-8094-bf2c7c0e2500\")>,\n",
       " <selenium.webdriver.remote.webelement.WebElement (session=\"9c6dcf2b29112eedf36abc8035f93efd\", element=\"4920e06c-89b5-41e4-92fe-e9db191d4319\")>,\n",
       " <selenium.webdriver.remote.webelement.WebElement (session=\"9c6dcf2b29112eedf36abc8035f93efd\", element=\"54301daf-a242-4349-85ed-a0f7a6c5a4d7\")>,\n",
       " <selenium.webdriver.remote.webelement.WebElement (session=\"9c6dcf2b29112eedf36abc8035f93efd\", element=\"50935d88-f99c-47fd-962e-21d1a21b1079\")>,\n",
       " <selenium.webdriver.remote.webelement.WebElement (session=\"9c6dcf2b29112eedf36abc8035f93efd\", element=\"248a1c23-d522-471b-8a60-0ba00a139339\")>,\n",
       " <selenium.webdriver.remote.webelement.WebElement (session=\"9c6dcf2b29112eedf36abc8035f93efd\", element=\"00718f54-9eaf-4756-93f3-ee2fb8be40e2\")>,\n",
       " <selenium.webdriver.remote.webelement.WebElement (session=\"9c6dcf2b29112eedf36abc8035f93efd\", element=\"79f6bab5-01f0-4292-9764-0db70dad4e99\")>,\n",
       " <selenium.webdriver.remote.webelement.WebElement (session=\"9c6dcf2b29112eedf36abc8035f93efd\", element=\"513d2fd7-f26a-4d86-bf48-2cbeffa2d9e7\")>,\n",
       " <selenium.webdriver.remote.webelement.WebElement (session=\"9c6dcf2b29112eedf36abc8035f93efd\", element=\"a3924d1a-853b-477b-b30d-abfe6581546b\")>,\n",
       " <selenium.webdriver.remote.webelement.WebElement (session=\"9c6dcf2b29112eedf36abc8035f93efd\", element=\"371a0715-d329-4435-8435-03c8b66119ea\")>,\n",
       " <selenium.webdriver.remote.webelement.WebElement (session=\"9c6dcf2b29112eedf36abc8035f93efd\", element=\"6d17ea18-d3c8-4b41-9827-b7a29614a899\")>,\n",
       " <selenium.webdriver.remote.webelement.WebElement (session=\"9c6dcf2b29112eedf36abc8035f93efd\", element=\"f882170e-9502-4ff2-b69e-8e0107de22d3\")>,\n",
       " <selenium.webdriver.remote.webelement.WebElement (session=\"9c6dcf2b29112eedf36abc8035f93efd\", element=\"c2d1d8d0-5133-4b32-a11a-5c07ceb01bf3\")>,\n",
       " <selenium.webdriver.remote.webelement.WebElement (session=\"9c6dcf2b29112eedf36abc8035f93efd\", element=\"7df154c2-ba09-40d8-81b0-16e6e4bf6a54\")>,\n",
       " <selenium.webdriver.remote.webelement.WebElement (session=\"9c6dcf2b29112eedf36abc8035f93efd\", element=\"c3a3aae5-508c-45ce-a0d7-614b739d4a17\")>,\n",
       " <selenium.webdriver.remote.webelement.WebElement (session=\"9c6dcf2b29112eedf36abc8035f93efd\", element=\"7077c104-f5c6-4edb-bd11-25d6931a6705\")>,\n",
       " <selenium.webdriver.remote.webelement.WebElement (session=\"9c6dcf2b29112eedf36abc8035f93efd\", element=\"8b312a3a-e836-46c3-864f-928837eac546\")>,\n",
       " <selenium.webdriver.remote.webelement.WebElement (session=\"9c6dcf2b29112eedf36abc8035f93efd\", element=\"c95eccc2-b1e0-4c5a-bd1c-f19a5694a54e\")>,\n",
       " <selenium.webdriver.remote.webelement.WebElement (session=\"9c6dcf2b29112eedf36abc8035f93efd\", element=\"09fa636d-3aec-4b72-9687-60a2b74d659a\")>,\n",
       " <selenium.webdriver.remote.webelement.WebElement (session=\"9c6dcf2b29112eedf36abc8035f93efd\", element=\"b121cb87-75ae-4058-bee7-38e16bf75c49\")>,\n",
       " <selenium.webdriver.remote.webelement.WebElement (session=\"9c6dcf2b29112eedf36abc8035f93efd\", element=\"75a2cf97-bbb5-412c-9ec9-ffbdd7b04cea\")>,\n",
       " <selenium.webdriver.remote.webelement.WebElement (session=\"9c6dcf2b29112eedf36abc8035f93efd\", element=\"df71e51c-8468-416b-b21d-47e87cc50cde\")>,\n",
       " <selenium.webdriver.remote.webelement.WebElement (session=\"9c6dcf2b29112eedf36abc8035f93efd\", element=\"b9906a69-2159-4a2a-9ef1-eb520130562d\")>,\n",
       " <selenium.webdriver.remote.webelement.WebElement (session=\"9c6dcf2b29112eedf36abc8035f93efd\", element=\"2c188f02-db01-4191-99de-26d5fd805e45\")>,\n",
       " <selenium.webdriver.remote.webelement.WebElement (session=\"9c6dcf2b29112eedf36abc8035f93efd\", element=\"dcdebbc7-1ac0-49fe-8583-001a8c243403\")>,\n",
       " <selenium.webdriver.remote.webelement.WebElement (session=\"9c6dcf2b29112eedf36abc8035f93efd\", element=\"f12e75bb-4faa-4e12-ad6e-b5eda779905b\")>,\n",
       " <selenium.webdriver.remote.webelement.WebElement (session=\"9c6dcf2b29112eedf36abc8035f93efd\", element=\"d803900c-e27f-4553-8270-14daedd1f52f\")>,\n",
       " <selenium.webdriver.remote.webelement.WebElement (session=\"9c6dcf2b29112eedf36abc8035f93efd\", element=\"3ded4fb5-d1fa-43a3-aa24-41b870652278\")>,\n",
       " <selenium.webdriver.remote.webelement.WebElement (session=\"9c6dcf2b29112eedf36abc8035f93efd\", element=\"339f1c30-1b3e-4d93-8cfb-7b1c3724646d\")>,\n",
       " <selenium.webdriver.remote.webelement.WebElement (session=\"9c6dcf2b29112eedf36abc8035f93efd\", element=\"24f828cf-6826-4350-8a8b-cf17648c7416\")>,\n",
       " <selenium.webdriver.remote.webelement.WebElement (session=\"9c6dcf2b29112eedf36abc8035f93efd\", element=\"a5aaac43-166a-4a06-a94c-c4e0915e0085\")>,\n",
       " <selenium.webdriver.remote.webelement.WebElement (session=\"9c6dcf2b29112eedf36abc8035f93efd\", element=\"ca788856-f8f0-4960-b47d-5f7b0432d844\")>,\n",
       " <selenium.webdriver.remote.webelement.WebElement (session=\"9c6dcf2b29112eedf36abc8035f93efd\", element=\"00aa15d7-94de-4672-ba6c-0b05b1a85b5b\")>,\n",
       " <selenium.webdriver.remote.webelement.WebElement (session=\"9c6dcf2b29112eedf36abc8035f93efd\", element=\"c014d6f6-5fab-4968-bc67-23bfd2022307\")>,\n",
       " <selenium.webdriver.remote.webelement.WebElement (session=\"9c6dcf2b29112eedf36abc8035f93efd\", element=\"9067c848-2869-4049-b064-45a52b901ba9\")>,\n",
       " <selenium.webdriver.remote.webelement.WebElement (session=\"9c6dcf2b29112eedf36abc8035f93efd\", element=\"0c0ced0a-bf0f-482f-9aae-7f9f8868016e\")>,\n",
       " <selenium.webdriver.remote.webelement.WebElement (session=\"9c6dcf2b29112eedf36abc8035f93efd\", element=\"14b87a51-dc14-432d-a61c-78103ff14fe1\")>,\n",
       " <selenium.webdriver.remote.webelement.WebElement (session=\"9c6dcf2b29112eedf36abc8035f93efd\", element=\"3b6be3bb-3ae1-4e8e-a4d1-24296a30c78b\")>,\n",
       " <selenium.webdriver.remote.webelement.WebElement (session=\"9c6dcf2b29112eedf36abc8035f93efd\", element=\"4a479e1b-b017-472d-aa6a-0c7cc8c1d4f9\")>,\n",
       " <selenium.webdriver.remote.webelement.WebElement (session=\"9c6dcf2b29112eedf36abc8035f93efd\", element=\"63d5d509-cf57-4f7b-a7aa-3fda253879f4\")>,\n",
       " <selenium.webdriver.remote.webelement.WebElement (session=\"9c6dcf2b29112eedf36abc8035f93efd\", element=\"8679917d-a8f0-4b00-88cd-2720ed278031\")>,\n",
       " <selenium.webdriver.remote.webelement.WebElement (session=\"9c6dcf2b29112eedf36abc8035f93efd\", element=\"d8e35756-75a5-4604-bc42-846a006bc370\")>,\n",
       " <selenium.webdriver.remote.webelement.WebElement (session=\"9c6dcf2b29112eedf36abc8035f93efd\", element=\"60dfc0ef-9140-4eb8-a0cb-52428e90f1fc\")>,\n",
       " <selenium.webdriver.remote.webelement.WebElement (session=\"9c6dcf2b29112eedf36abc8035f93efd\", element=\"9c6e8096-3063-44a6-b4ea-975b791c8c19\")>,\n",
       " <selenium.webdriver.remote.webelement.WebElement (session=\"9c6dcf2b29112eedf36abc8035f93efd\", element=\"327a74c4-f6e8-4006-9013-2730bf28c070\")>,\n",
       " <selenium.webdriver.remote.webelement.WebElement (session=\"9c6dcf2b29112eedf36abc8035f93efd\", element=\"4307d65b-c078-4440-9a87-9abc3062fe38\")>,\n",
       " <selenium.webdriver.remote.webelement.WebElement (session=\"9c6dcf2b29112eedf36abc8035f93efd\", element=\"b4ad74ad-f795-48b9-83dc-edb1c3cd671c\")>,\n",
       " <selenium.webdriver.remote.webelement.WebElement (session=\"9c6dcf2b29112eedf36abc8035f93efd\", element=\"7dcdfd5c-9bc3-4eae-b238-01e477231ebe\")>,\n",
       " <selenium.webdriver.remote.webelement.WebElement (session=\"9c6dcf2b29112eedf36abc8035f93efd\", element=\"6e218c55-161d-4053-ac91-4ac62283e9f5\")>,\n",
       " <selenium.webdriver.remote.webelement.WebElement (session=\"9c6dcf2b29112eedf36abc8035f93efd\", element=\"9a637e0e-a898-4179-ace1-37e47d187dd6\")>,\n",
       " <selenium.webdriver.remote.webelement.WebElement (session=\"9c6dcf2b29112eedf36abc8035f93efd\", element=\"c6caf24b-1e9f-4c48-914f-2f831a20713f\")>,\n",
       " <selenium.webdriver.remote.webelement.WebElement (session=\"9c6dcf2b29112eedf36abc8035f93efd\", element=\"cfc17aff-dbf7-434f-9fab-4e86bac1dd34\")>,\n",
       " <selenium.webdriver.remote.webelement.WebElement (session=\"9c6dcf2b29112eedf36abc8035f93efd\", element=\"b275d2c8-98cf-40b9-ab86-c6d852dbae40\")>,\n",
       " <selenium.webdriver.remote.webelement.WebElement (session=\"9c6dcf2b29112eedf36abc8035f93efd\", element=\"17da28fb-f991-47bc-a7b6-60c80efb6932\")>,\n",
       " <selenium.webdriver.remote.webelement.WebElement (session=\"9c6dcf2b29112eedf36abc8035f93efd\", element=\"07ca2b49-2ca6-4fc2-b6c9-911b102a7912\")>,\n",
       " <selenium.webdriver.remote.webelement.WebElement (session=\"9c6dcf2b29112eedf36abc8035f93efd\", element=\"361a160c-c0a8-4140-bd2a-6b9f6a7fac6c\")>,\n",
       " <selenium.webdriver.remote.webelement.WebElement (session=\"9c6dcf2b29112eedf36abc8035f93efd\", element=\"477a3780-1f19-4ddf-bb57-20ae13163ce4\")>,\n",
       " <selenium.webdriver.remote.webelement.WebElement (session=\"9c6dcf2b29112eedf36abc8035f93efd\", element=\"bf361c24-1aa5-48ce-a843-f2e034b3699e\")>,\n",
       " <selenium.webdriver.remote.webelement.WebElement (session=\"9c6dcf2b29112eedf36abc8035f93efd\", element=\"69d7ef88-27a8-4ed4-b52a-ba1ecd88e390\")>,\n",
       " <selenium.webdriver.remote.webelement.WebElement (session=\"9c6dcf2b29112eedf36abc8035f93efd\", element=\"5d9b7930-9e19-4d4f-a831-f557d1107cae\")>,\n",
       " <selenium.webdriver.remote.webelement.WebElement (session=\"9c6dcf2b29112eedf36abc8035f93efd\", element=\"543c0e33-fcbe-4578-b729-4a8d1c3035a5\")>,\n",
       " <selenium.webdriver.remote.webelement.WebElement (session=\"9c6dcf2b29112eedf36abc8035f93efd\", element=\"4c1a5f75-6b7a-43c2-9941-f11e3fffebf3\")>,\n",
       " <selenium.webdriver.remote.webelement.WebElement (session=\"9c6dcf2b29112eedf36abc8035f93efd\", element=\"0a9985e2-cdae-4692-93a5-81b47bb931e5\")>,\n",
       " <selenium.webdriver.remote.webelement.WebElement (session=\"9c6dcf2b29112eedf36abc8035f93efd\", element=\"ead98053-3b4c-4939-838f-0de9a2301862\")>,\n",
       " <selenium.webdriver.remote.webelement.WebElement (session=\"9c6dcf2b29112eedf36abc8035f93efd\", element=\"edf974d1-727d-483e-bede-acfdbdc7ee6f\")>,\n",
       " <selenium.webdriver.remote.webelement.WebElement (session=\"9c6dcf2b29112eedf36abc8035f93efd\", element=\"e2c12b83-007b-4784-83fb-1e04a3fe9859\")>,\n",
       " <selenium.webdriver.remote.webelement.WebElement (session=\"9c6dcf2b29112eedf36abc8035f93efd\", element=\"367cdaa3-d0a7-47e9-b076-36bc6bcda529\")>,\n",
       " <selenium.webdriver.remote.webelement.WebElement (session=\"9c6dcf2b29112eedf36abc8035f93efd\", element=\"5d141d6d-cf0f-476e-92f0-7e0c08153ce1\")>,\n",
       " <selenium.webdriver.remote.webelement.WebElement (session=\"9c6dcf2b29112eedf36abc8035f93efd\", element=\"d1028b82-4ca4-48dd-98ae-2ca11ed3c981\")>,\n",
       " <selenium.webdriver.remote.webelement.WebElement (session=\"9c6dcf2b29112eedf36abc8035f93efd\", element=\"23570414-64c6-4f0a-9234-19a1fb51eedb\")>,\n",
       " <selenium.webdriver.remote.webelement.WebElement (session=\"9c6dcf2b29112eedf36abc8035f93efd\", element=\"3aeb14c5-0a26-43c8-9f7d-2a63aeeda04f\")>,\n",
       " <selenium.webdriver.remote.webelement.WebElement (session=\"9c6dcf2b29112eedf36abc8035f93efd\", element=\"0efc7841-7c46-429f-9673-109bcd6657fb\")>,\n",
       " <selenium.webdriver.remote.webelement.WebElement (session=\"9c6dcf2b29112eedf36abc8035f93efd\", element=\"e1a6ac8b-cf1b-4e9f-ad30-0dce1bf6167b\")>,\n",
       " <selenium.webdriver.remote.webelement.WebElement (session=\"9c6dcf2b29112eedf36abc8035f93efd\", element=\"a68063fe-0468-40a4-b699-5cf5eafabbca\")>,\n",
       " <selenium.webdriver.remote.webelement.WebElement (session=\"9c6dcf2b29112eedf36abc8035f93efd\", element=\"9342a2ab-5c98-4ccc-85c0-44c7bd581302\")>]"
      ]
     },
     "execution_count": 8,
     "metadata": {},
     "output_type": "execute_result"
    }
   ],
   "source": [
    "header2=browser.find_elements(\"xpath\",\"//div[@class='td-wrap-in']\")\n",
    "header2\n"
   ]
  },
  {
   "cell_type": "code",
   "execution_count": 9,
   "id": "5622b97f",
   "metadata": {},
   "outputs": [
    {
     "data": {
      "text/plain": [
       "['93.2', '99.2', '92.2', '86.8', '92.9', '76', '81.6', '89.6', '98.2']"
      ]
     },
     "execution_count": 9,
     "metadata": {},
     "output_type": "execute_result"
    }
   ],
   "source": [
    "#PARSING DATA\n",
    "value_head=[]\n",
    "for data in header2:\n",
    "    #get the text data\n",
    "    temp=data.text\n",
    "    value_head.append(temp)\n",
    "value_head=value_head[91:100]\n",
    "value_head"
   ]
  },
  {
   "cell_type": "code",
   "execution_count": 10,
   "id": "6bc17bb1",
   "metadata": {},
   "outputs": [
    {
     "data": {
      "text/plain": [
       "{'Overall Score': '93.2',\n",
       " 'Academic Reputation': '99.2',\n",
       " 'Employer Reputation': '92.2',\n",
       " 'Citations per Faculty': '86.8',\n",
       " 'Faculty Student Ratio': '92.9',\n",
       " 'International Students Ratio': '76',\n",
       " 'International Faculty Ratio': '81.6',\n",
       " 'International Research Network\\nUnweighted': '89.6',\n",
       " 'Employment Outcomes\\nUnweighted': '98.2'}"
      ]
     },
     "execution_count": 10,
     "metadata": {},
     "output_type": "execute_result"
    }
   ],
   "source": [
    "\n",
    "d={}\n",
    "for i in range(len(column_head)):\n",
    "    d[column_head[i]]=value_head[i]\n",
    "d\n"
   ]
  },
  {
   "cell_type": "code",
   "execution_count": 11,
   "id": "5954776c",
   "metadata": {},
   "outputs": [
    {
     "data": {
      "text/plain": [
       "'{\"Overall Score\": \"93.2\", \"Academic Reputation\": \"99.2\", \"Employer Reputation\": \"92.2\", \"Citations per Faculty\": \"86.8\", \"Faculty Student Ratio\": \"92.9\", \"International Students Ratio\": \"76\", \"International Faculty Ratio\": \"81.6\", \"International Research Network\\\\nUnweighted\": \"89.6\", \"Employment Outcomes\\\\nUnweighted\": \"98.2\"}'"
      ]
     },
     "execution_count": 11,
     "metadata": {},
     "output_type": "execute_result"
    }
   ],
   "source": [
    "s1=json.dumps(d)\n",
    "s1"
   ]
  },
  {
   "cell_type": "code",
   "execution_count": 12,
   "id": "0ffdecdd",
   "metadata": {},
   "outputs": [],
   "source": [
    "with open('University of Chicago.json','w') as f:\n",
    "    json.dump(d,f)"
   ]
  },
  {
   "cell_type": "code",
   "execution_count": null,
   "id": "77f5e022",
   "metadata": {},
   "outputs": [],
   "source": []
  }
 ],
 "metadata": {
  "kernelspec": {
   "display_name": "Python 3 (ipykernel)",
   "language": "python",
   "name": "python3"
  },
  "language_info": {
   "codemirror_mode": {
    "name": "ipython",
    "version": 3
   },
   "file_extension": ".py",
   "mimetype": "text/x-python",
   "name": "python",
   "nbconvert_exporter": "python",
   "pygments_lexer": "ipython3",
   "version": "3.9.12"
  }
 },
 "nbformat": 4,
 "nbformat_minor": 5
}
