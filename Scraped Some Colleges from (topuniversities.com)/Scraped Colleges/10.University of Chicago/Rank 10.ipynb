{
 "cells": [
  {
   "cell_type": "code",
   "execution_count": 17,
   "id": "bb72e562",
   "metadata": {},
   "outputs": [],
   "source": [
    "from selenium import webdriver\n",
    "from selenium.webdriver.chrome.service import Service\n",
    "import pandas as pd\n",
    "import json\n"
   ]
  },
  {
   "cell_type": "code",
   "execution_count": 18,
   "id": "4952d84f",
   "metadata": {},
   "outputs": [],
   "source": [
    "path = Service('C:\\chromedriver.exe')"
   ]
  },
  {
   "cell_type": "code",
   "execution_count": 19,
   "id": "d0136c54",
   "metadata": {},
   "outputs": [],
   "source": [
    "# set path for the driver\n",
    "browser = webdriver.Chrome(service = path)"
   ]
  },
  {
   "cell_type": "code",
   "execution_count": 20,
   "id": "8204b55c",
   "metadata": {},
   "outputs": [],
   "source": [
    "url = \"https://www.topuniversities.com/university-rankings/world-university-rankings/2023\""
   ]
  },
  {
   "cell_type": "code",
   "execution_count": 21,
   "id": "14cfa86c",
   "metadata": {},
   "outputs": [],
   "source": [
    "# open the page url ion chrome\n",
    "browser.get(url)\n"
   ]
  },
  {
   "cell_type": "code",
   "execution_count": 22,
   "id": "ad0d99d5",
   "metadata": {},
   "outputs": [
    {
     "data": {
      "text/plain": [
       "[<selenium.webdriver.remote.webelement.WebElement (session=\"3b3439b3265dbcbbc23e86cd848f1724\", element=\"79565dd0-d756-4c8b-b502-5b5e4536c909\")>,\n",
       " <selenium.webdriver.remote.webelement.WebElement (session=\"3b3439b3265dbcbbc23e86cd848f1724\", element=\"48c679b6-9e9e-4108-bdfc-069c7e908939\")>,\n",
       " <selenium.webdriver.remote.webelement.WebElement (session=\"3b3439b3265dbcbbc23e86cd848f1724\", element=\"8247c335-32d8-46e8-bc68-1617203ad981\")>,\n",
       " <selenium.webdriver.remote.webelement.WebElement (session=\"3b3439b3265dbcbbc23e86cd848f1724\", element=\"c2315ca7-1131-4f16-ba29-9969928dcf31\")>,\n",
       " <selenium.webdriver.remote.webelement.WebElement (session=\"3b3439b3265dbcbbc23e86cd848f1724\", element=\"1ca53582-43cf-4df5-b85d-a2162c856f0a\")>,\n",
       " <selenium.webdriver.remote.webelement.WebElement (session=\"3b3439b3265dbcbbc23e86cd848f1724\", element=\"313d7095-44af-4104-b508-a88ed9959543\")>,\n",
       " <selenium.webdriver.remote.webelement.WebElement (session=\"3b3439b3265dbcbbc23e86cd848f1724\", element=\"59ff9e55-5097-46c1-a0fa-5cfeb57ea0e5\")>,\n",
       " <selenium.webdriver.remote.webelement.WebElement (session=\"3b3439b3265dbcbbc23e86cd848f1724\", element=\"61edf7b8-0e1a-4c46-891f-5a5d738d2de8\")>,\n",
       " <selenium.webdriver.remote.webelement.WebElement (session=\"3b3439b3265dbcbbc23e86cd848f1724\", element=\"00dda73a-e8bf-42e7-a499-28e85ab5b5d3\")>,\n",
       " <selenium.webdriver.remote.webelement.WebElement (session=\"3b3439b3265dbcbbc23e86cd848f1724\", element=\"50777a50-1e08-40c4-b9d3-66e6c88c8aa3\")>,\n",
       " <selenium.webdriver.remote.webelement.WebElement (session=\"3b3439b3265dbcbbc23e86cd848f1724\", element=\"180905ee-3f75-4540-82d6-5a8fc70d1a31\")>,\n",
       " <selenium.webdriver.remote.webelement.WebElement (session=\"3b3439b3265dbcbbc23e86cd848f1724\", element=\"882720d7-5dda-41a4-8f20-6f5640d5b139\")>,\n",
       " <selenium.webdriver.remote.webelement.WebElement (session=\"3b3439b3265dbcbbc23e86cd848f1724\", element=\"06dab91d-ae09-4fa1-9ea6-575e811044b0\")>,\n",
       " <selenium.webdriver.remote.webelement.WebElement (session=\"3b3439b3265dbcbbc23e86cd848f1724\", element=\"6d2dc900-4213-489e-8b2f-f629ce2993dc\")>,\n",
       " <selenium.webdriver.remote.webelement.WebElement (session=\"3b3439b3265dbcbbc23e86cd848f1724\", element=\"7aa0de69-139c-4535-8601-b218b79793bb\")>,\n",
       " <selenium.webdriver.remote.webelement.WebElement (session=\"3b3439b3265dbcbbc23e86cd848f1724\", element=\"52f9e347-7174-4d4a-af47-c9c5a1d842bf\")>,\n",
       " <selenium.webdriver.remote.webelement.WebElement (session=\"3b3439b3265dbcbbc23e86cd848f1724\", element=\"8e226136-5771-428d-9925-f54441d6e7ea\")>,\n",
       " <selenium.webdriver.remote.webelement.WebElement (session=\"3b3439b3265dbcbbc23e86cd848f1724\", element=\"2f75dad4-d7ab-4e35-a508-12b87defe685\")>,\n",
       " <selenium.webdriver.remote.webelement.WebElement (session=\"3b3439b3265dbcbbc23e86cd848f1724\", element=\"53fbcd3a-b66d-49a4-9ae7-386a29ae5bd9\")>,\n",
       " <selenium.webdriver.remote.webelement.WebElement (session=\"3b3439b3265dbcbbc23e86cd848f1724\", element=\"672feed4-37e5-436a-abd3-2244f91e0b4b\")>]"
      ]
     },
     "execution_count": 22,
     "metadata": {},
     "output_type": "execute_result"
    }
   ],
   "source": [
    "l1=browser.find_elements(\"xpath\",\"//div[@class='location ']\")\n",
    "l1\n",
    "\n"
   ]
  },
  {
   "cell_type": "code",
   "execution_count": 23,
   "id": "f09bd290",
   "metadata": {},
   "outputs": [
    {
     "data": {
      "text/plain": [
       "['Cambridge, United States',\n",
       " 'Cambridge, United Kingdom',\n",
       " 'Stanford, United States',\n",
       " 'Oxford, United Kingdom',\n",
       " 'Cambridge, United States',\n",
       " 'Pasadena, United States',\n",
       " 'London, United Kingdom',\n",
       " 'London, United Kingdom',\n",
       " 'Zürich, Switzerland',\n",
       " 'Chicago, United States']"
      ]
     },
     "execution_count": 23,
     "metadata": {},
     "output_type": "execute_result"
    }
   ],
   "source": [
    "loc=[]\n",
    "for data in l1:\n",
    "    #get the text data\n",
    "    temp=data.text\n",
    "    loc.append(temp)\n",
    "loc=loc[10:]\n",
    "loc"
   ]
  },
  {
   "cell_type": "code",
   "execution_count": 24,
   "id": "5e3b7017",
   "metadata": {},
   "outputs": [
    {
     "data": {
      "text/plain": [
       "[<selenium.webdriver.remote.webelement.WebElement (session=\"3b3439b3265dbcbbc23e86cd848f1724\", element=\"770b4bc7-f49c-4840-a1a1-2ec82a2f7769\")>,\n",
       " <selenium.webdriver.remote.webelement.WebElement (session=\"3b3439b3265dbcbbc23e86cd848f1724\", element=\"82cf1461-4e24-4bab-9bf0-1691ebe7a3a4\")>,\n",
       " <selenium.webdriver.remote.webelement.WebElement (session=\"3b3439b3265dbcbbc23e86cd848f1724\", element=\"8b0fd216-c590-4b6c-9d23-47406f645cd7\")>,\n",
       " <selenium.webdriver.remote.webelement.WebElement (session=\"3b3439b3265dbcbbc23e86cd848f1724\", element=\"86b9098e-4729-4a77-a875-57d2d3284777\")>,\n",
       " <selenium.webdriver.remote.webelement.WebElement (session=\"3b3439b3265dbcbbc23e86cd848f1724\", element=\"aad93dd6-45ef-4470-b69b-f1ae3fe210f4\")>,\n",
       " <selenium.webdriver.remote.webelement.WebElement (session=\"3b3439b3265dbcbbc23e86cd848f1724\", element=\"0c498dcc-67bb-4be8-8551-2ae1dc2f6d41\")>,\n",
       " <selenium.webdriver.remote.webelement.WebElement (session=\"3b3439b3265dbcbbc23e86cd848f1724\", element=\"efc20f99-f5c6-4968-a839-9cc80bd801f3\")>,\n",
       " <selenium.webdriver.remote.webelement.WebElement (session=\"3b3439b3265dbcbbc23e86cd848f1724\", element=\"98179fa8-3ea9-4ae2-9e65-fed1e2580946\")>,\n",
       " <selenium.webdriver.remote.webelement.WebElement (session=\"3b3439b3265dbcbbc23e86cd848f1724\", element=\"e8e72cfe-ec69-43bb-888a-4bc4e087bb6b\")>,\n",
       " <selenium.webdriver.remote.webelement.WebElement (session=\"3b3439b3265dbcbbc23e86cd848f1724\", element=\"6ede08be-228f-476c-aded-ab7546d9ddfc\")>]"
      ]
     },
     "execution_count": 24,
     "metadata": {},
     "output_type": "execute_result"
    }
   ],
   "source": [
    "l2=browser.find_elements(\"xpath\",\"//div[@class='_univ-rank ']\")\n",
    "l2\n"
   ]
  },
  {
   "cell_type": "code",
   "execution_count": 25,
   "id": "a72a6ccb",
   "metadata": {},
   "outputs": [
    {
     "data": {
      "text/plain": [
       "['1', '2', '3', '4', '5', '=6', '=6', '8', '9', '10']"
      ]
     },
     "execution_count": 25,
     "metadata": {},
     "output_type": "execute_result"
    }
   ],
   "source": [
    "RANK=[]\n",
    "for data in l2:\n",
    "    #get the text data\n",
    "    temp=data.text\n",
    "    RANK.append(temp)\n",
    "RANK"
   ]
  },
  {
   "cell_type": "code",
   "execution_count": 26,
   "id": "a7fdf141",
   "metadata": {},
   "outputs": [
    {
     "data": {
      "text/plain": [
       "[<selenium.webdriver.remote.webelement.WebElement (session=\"3b3439b3265dbcbbc23e86cd848f1724\", element=\"24cfb365-9e3d-4e9c-92ae-93c731ab4494\")>,\n",
       " <selenium.webdriver.remote.webelement.WebElement (session=\"3b3439b3265dbcbbc23e86cd848f1724\", element=\"bc421e28-76f5-44cc-8131-8b4a2600d6ee\")>,\n",
       " <selenium.webdriver.remote.webelement.WebElement (session=\"3b3439b3265dbcbbc23e86cd848f1724\", element=\"0fe7ffbf-0630-482b-8e17-2d9344cea06b\")>,\n",
       " <selenium.webdriver.remote.webelement.WebElement (session=\"3b3439b3265dbcbbc23e86cd848f1724\", element=\"1759af5c-68b6-4afd-adaf-2b5069728267\")>,\n",
       " <selenium.webdriver.remote.webelement.WebElement (session=\"3b3439b3265dbcbbc23e86cd848f1724\", element=\"48e0d0e7-5151-40db-bb57-105aebfa38ff\")>,\n",
       " <selenium.webdriver.remote.webelement.WebElement (session=\"3b3439b3265dbcbbc23e86cd848f1724\", element=\"b72f025d-963a-4f53-bee2-d992797634c1\")>,\n",
       " <selenium.webdriver.remote.webelement.WebElement (session=\"3b3439b3265dbcbbc23e86cd848f1724\", element=\"287bb74c-ee41-4994-8f0d-ee625bc6bbbf\")>,\n",
       " <selenium.webdriver.remote.webelement.WebElement (session=\"3b3439b3265dbcbbc23e86cd848f1724\", element=\"29ca2f56-adf4-4772-8341-6f74b66ecd9f\")>,\n",
       " <selenium.webdriver.remote.webelement.WebElement (session=\"3b3439b3265dbcbbc23e86cd848f1724\", element=\"9cc49292-db46-4454-bc00-26a888e6e4af\")>]"
      ]
     },
     "execution_count": 26,
     "metadata": {},
     "output_type": "execute_result"
    }
   ],
   "source": [
    "# GET EACH COLLEGE SPECIFICATION HEADERS\n",
    "header=browser.find_elements(\"xpath\",\"//div[@class='_click-function_ind']\")\n",
    "header\n"
   ]
  },
  {
   "cell_type": "code",
   "execution_count": 27,
   "id": "822013e6",
   "metadata": {},
   "outputs": [
    {
     "data": {
      "text/plain": [
       "['Overall Score',\n",
       " 'Academic Reputation',\n",
       " 'Employer Reputation',\n",
       " 'Citations per Faculty',\n",
       " 'Faculty Student Ratio',\n",
       " 'International Students Ratio',\n",
       " 'International Faculty Ratio',\n",
       " 'International Research Network\\nUnweighted',\n",
       " 'Employment Outcomes\\nUnweighted']"
      ]
     },
     "execution_count": 27,
     "metadata": {},
     "output_type": "execute_result"
    }
   ],
   "source": [
    "#PARSING DATA\n",
    "column_head=[]\n",
    "for data in header:\n",
    "    #get the text data\n",
    "    temp=data.text\n",
    "    column_head.append(temp)\n",
    "column_head"
   ]
  },
  {
   "cell_type": "code",
   "execution_count": 28,
   "id": "611f0855",
   "metadata": {},
   "outputs": [
    {
     "data": {
      "text/plain": [
       "[<selenium.webdriver.remote.webelement.WebElement (session=\"3b3439b3265dbcbbc23e86cd848f1724\", element=\"98fd8ab4-284c-40f1-8ac8-dd70fdf7b510\")>,\n",
       " <selenium.webdriver.remote.webelement.WebElement (session=\"3b3439b3265dbcbbc23e86cd848f1724\", element=\"166dd83f-92ac-45db-85f4-d3e2ff644eba\")>,\n",
       " <selenium.webdriver.remote.webelement.WebElement (session=\"3b3439b3265dbcbbc23e86cd848f1724\", element=\"58906b56-e8ea-4700-95d1-286b98721d19\")>,\n",
       " <selenium.webdriver.remote.webelement.WebElement (session=\"3b3439b3265dbcbbc23e86cd848f1724\", element=\"3396e5cd-10d8-4a8b-bc0b-67ae290cbcf4\")>,\n",
       " <selenium.webdriver.remote.webelement.WebElement (session=\"3b3439b3265dbcbbc23e86cd848f1724\", element=\"63941b0a-bbcd-441a-9d47-a9c992eab974\")>,\n",
       " <selenium.webdriver.remote.webelement.WebElement (session=\"3b3439b3265dbcbbc23e86cd848f1724\", element=\"3cc5fcf6-6648-4687-b95a-60b2bb987153\")>,\n",
       " <selenium.webdriver.remote.webelement.WebElement (session=\"3b3439b3265dbcbbc23e86cd848f1724\", element=\"be1cc6ae-a6cc-456d-85cc-89b90d1c00c3\")>,\n",
       " <selenium.webdriver.remote.webelement.WebElement (session=\"3b3439b3265dbcbbc23e86cd848f1724\", element=\"6f6386f0-9363-4b08-af6d-0d4e1b7f7f6f\")>,\n",
       " <selenium.webdriver.remote.webelement.WebElement (session=\"3b3439b3265dbcbbc23e86cd848f1724\", element=\"c137bf02-5e99-40a9-9d48-74d890b56ad4\")>,\n",
       " <selenium.webdriver.remote.webelement.WebElement (session=\"3b3439b3265dbcbbc23e86cd848f1724\", element=\"53b05103-00d5-4106-bd93-73f296609ae0\")>,\n",
       " <selenium.webdriver.remote.webelement.WebElement (session=\"3b3439b3265dbcbbc23e86cd848f1724\", element=\"e94ed1e0-11b0-4bcd-b2d6-80642ff29795\")>,\n",
       " <selenium.webdriver.remote.webelement.WebElement (session=\"3b3439b3265dbcbbc23e86cd848f1724\", element=\"0862daf2-f7f5-48d8-af1c-ad300ba1c68b\")>,\n",
       " <selenium.webdriver.remote.webelement.WebElement (session=\"3b3439b3265dbcbbc23e86cd848f1724\", element=\"9418aff2-298a-4681-91fe-dd501b51bb65\")>,\n",
       " <selenium.webdriver.remote.webelement.WebElement (session=\"3b3439b3265dbcbbc23e86cd848f1724\", element=\"6c25db6e-fcb5-4b17-8038-818eec302445\")>,\n",
       " <selenium.webdriver.remote.webelement.WebElement (session=\"3b3439b3265dbcbbc23e86cd848f1724\", element=\"844763ba-7586-4b23-b140-c51c125781de\")>,\n",
       " <selenium.webdriver.remote.webelement.WebElement (session=\"3b3439b3265dbcbbc23e86cd848f1724\", element=\"293f8c9a-2176-4eb1-8c93-a232faeeb34a\")>,\n",
       " <selenium.webdriver.remote.webelement.WebElement (session=\"3b3439b3265dbcbbc23e86cd848f1724\", element=\"ce08f1e4-2c9b-4cf0-b45e-3ba6a4aa88b0\")>,\n",
       " <selenium.webdriver.remote.webelement.WebElement (session=\"3b3439b3265dbcbbc23e86cd848f1724\", element=\"051a3ad8-1217-42da-827b-3a33b90bf0fe\")>,\n",
       " <selenium.webdriver.remote.webelement.WebElement (session=\"3b3439b3265dbcbbc23e86cd848f1724\", element=\"b126721f-0b7d-4915-a850-ac8f5e3e986c\")>,\n",
       " <selenium.webdriver.remote.webelement.WebElement (session=\"3b3439b3265dbcbbc23e86cd848f1724\", element=\"7eec40c9-0a78-4ba6-b58f-479e97b05ff9\")>,\n",
       " <selenium.webdriver.remote.webelement.WebElement (session=\"3b3439b3265dbcbbc23e86cd848f1724\", element=\"24a3eef7-23ac-4fca-a44d-4ce9408836d0\")>,\n",
       " <selenium.webdriver.remote.webelement.WebElement (session=\"3b3439b3265dbcbbc23e86cd848f1724\", element=\"7e633f25-3db6-41b5-8817-81635e0189e9\")>,\n",
       " <selenium.webdriver.remote.webelement.WebElement (session=\"3b3439b3265dbcbbc23e86cd848f1724\", element=\"412e32f7-3db6-41ac-8134-97ad86591275\")>,\n",
       " <selenium.webdriver.remote.webelement.WebElement (session=\"3b3439b3265dbcbbc23e86cd848f1724\", element=\"457a2457-0f8e-4c2a-82b0-9ebf61aeca90\")>,\n",
       " <selenium.webdriver.remote.webelement.WebElement (session=\"3b3439b3265dbcbbc23e86cd848f1724\", element=\"79116a88-be0b-4a38-92c7-d57bf125eb55\")>,\n",
       " <selenium.webdriver.remote.webelement.WebElement (session=\"3b3439b3265dbcbbc23e86cd848f1724\", element=\"dda3b423-c78c-45ba-87f1-2995d5b19c88\")>,\n",
       " <selenium.webdriver.remote.webelement.WebElement (session=\"3b3439b3265dbcbbc23e86cd848f1724\", element=\"25740404-ac18-41ce-82a9-917f51103820\")>,\n",
       " <selenium.webdriver.remote.webelement.WebElement (session=\"3b3439b3265dbcbbc23e86cd848f1724\", element=\"76b97a21-c280-43f1-bc94-c2f4b4125383\")>,\n",
       " <selenium.webdriver.remote.webelement.WebElement (session=\"3b3439b3265dbcbbc23e86cd848f1724\", element=\"ac3b6b83-89a0-4aa6-af60-e36872a76924\")>,\n",
       " <selenium.webdriver.remote.webelement.WebElement (session=\"3b3439b3265dbcbbc23e86cd848f1724\", element=\"566fe180-fcb1-407d-8d48-44b65deca066\")>,\n",
       " <selenium.webdriver.remote.webelement.WebElement (session=\"3b3439b3265dbcbbc23e86cd848f1724\", element=\"010b7baa-1943-481c-9697-65bc065f211c\")>,\n",
       " <selenium.webdriver.remote.webelement.WebElement (session=\"3b3439b3265dbcbbc23e86cd848f1724\", element=\"4fd5ec6a-1879-4769-9242-26368b9218a0\")>,\n",
       " <selenium.webdriver.remote.webelement.WebElement (session=\"3b3439b3265dbcbbc23e86cd848f1724\", element=\"05d038a2-30da-4d7a-9044-15b88b099c39\")>,\n",
       " <selenium.webdriver.remote.webelement.WebElement (session=\"3b3439b3265dbcbbc23e86cd848f1724\", element=\"7cb0874d-88b7-4d61-837e-287c6dcd10d5\")>,\n",
       " <selenium.webdriver.remote.webelement.WebElement (session=\"3b3439b3265dbcbbc23e86cd848f1724\", element=\"e75f9fc7-86ad-4838-81c7-cd17dc5b1552\")>,\n",
       " <selenium.webdriver.remote.webelement.WebElement (session=\"3b3439b3265dbcbbc23e86cd848f1724\", element=\"a8c154c5-da8a-4e27-a12a-5fb7050b9415\")>,\n",
       " <selenium.webdriver.remote.webelement.WebElement (session=\"3b3439b3265dbcbbc23e86cd848f1724\", element=\"214b2356-b79e-47b7-92ed-352f0fcda144\")>,\n",
       " <selenium.webdriver.remote.webelement.WebElement (session=\"3b3439b3265dbcbbc23e86cd848f1724\", element=\"a2380492-7d81-4d79-99a9-b9c9fbf51c3c\")>,\n",
       " <selenium.webdriver.remote.webelement.WebElement (session=\"3b3439b3265dbcbbc23e86cd848f1724\", element=\"f40edbd5-622b-4810-aac4-0dea9dface1d\")>,\n",
       " <selenium.webdriver.remote.webelement.WebElement (session=\"3b3439b3265dbcbbc23e86cd848f1724\", element=\"2d483284-fa1f-4b28-b7fe-af451424a780\")>,\n",
       " <selenium.webdriver.remote.webelement.WebElement (session=\"3b3439b3265dbcbbc23e86cd848f1724\", element=\"9990ee56-0c17-41dd-91bc-f78b048c01bb\")>,\n",
       " <selenium.webdriver.remote.webelement.WebElement (session=\"3b3439b3265dbcbbc23e86cd848f1724\", element=\"966a86e5-8288-48be-844f-e4c7af2ab47c\")>,\n",
       " <selenium.webdriver.remote.webelement.WebElement (session=\"3b3439b3265dbcbbc23e86cd848f1724\", element=\"a64f7dd3-cd2d-4fee-b6eb-d2aa4473fe24\")>,\n",
       " <selenium.webdriver.remote.webelement.WebElement (session=\"3b3439b3265dbcbbc23e86cd848f1724\", element=\"f20680c6-9c98-493f-9727-508684625d07\")>,\n",
       " <selenium.webdriver.remote.webelement.WebElement (session=\"3b3439b3265dbcbbc23e86cd848f1724\", element=\"e7b0a555-b102-4c1f-b663-c460ed86dd39\")>,\n",
       " <selenium.webdriver.remote.webelement.WebElement (session=\"3b3439b3265dbcbbc23e86cd848f1724\", element=\"1d738032-e03b-4407-a359-0a9a2629062b\")>,\n",
       " <selenium.webdriver.remote.webelement.WebElement (session=\"3b3439b3265dbcbbc23e86cd848f1724\", element=\"d362cb56-aab3-42f8-aac2-9d90198829dc\")>,\n",
       " <selenium.webdriver.remote.webelement.WebElement (session=\"3b3439b3265dbcbbc23e86cd848f1724\", element=\"b0b78d9f-08b8-4087-a762-71c3b1980408\")>,\n",
       " <selenium.webdriver.remote.webelement.WebElement (session=\"3b3439b3265dbcbbc23e86cd848f1724\", element=\"c61b07d5-a852-4c4b-96a4-de26a8309bc4\")>,\n",
       " <selenium.webdriver.remote.webelement.WebElement (session=\"3b3439b3265dbcbbc23e86cd848f1724\", element=\"a862926e-ac3e-464d-a2ef-9a213c221ecd\")>,\n",
       " <selenium.webdriver.remote.webelement.WebElement (session=\"3b3439b3265dbcbbc23e86cd848f1724\", element=\"88b2da7d-1168-4949-a75f-be8ab956f420\")>,\n",
       " <selenium.webdriver.remote.webelement.WebElement (session=\"3b3439b3265dbcbbc23e86cd848f1724\", element=\"8d9c70e7-e2a8-4417-b6ec-d474cb10cabb\")>,\n",
       " <selenium.webdriver.remote.webelement.WebElement (session=\"3b3439b3265dbcbbc23e86cd848f1724\", element=\"df71383e-afdb-4f2f-9fbb-a15f9eb1df47\")>,\n",
       " <selenium.webdriver.remote.webelement.WebElement (session=\"3b3439b3265dbcbbc23e86cd848f1724\", element=\"04b518dd-4c9b-4916-9af3-a022379e2632\")>,\n",
       " <selenium.webdriver.remote.webelement.WebElement (session=\"3b3439b3265dbcbbc23e86cd848f1724\", element=\"c4b043c5-f269-4963-96cf-2a60af4e0b9e\")>,\n",
       " <selenium.webdriver.remote.webelement.WebElement (session=\"3b3439b3265dbcbbc23e86cd848f1724\", element=\"e024921c-d395-441b-afb9-51811288089e\")>,\n",
       " <selenium.webdriver.remote.webelement.WebElement (session=\"3b3439b3265dbcbbc23e86cd848f1724\", element=\"05d217c9-447e-449a-9334-16afa13cef20\")>,\n",
       " <selenium.webdriver.remote.webelement.WebElement (session=\"3b3439b3265dbcbbc23e86cd848f1724\", element=\"d6bb5ce4-7aeb-4803-bd64-7ccb7f51fed1\")>,\n",
       " <selenium.webdriver.remote.webelement.WebElement (session=\"3b3439b3265dbcbbc23e86cd848f1724\", element=\"75ea2f46-882d-4708-bc49-5368c8d8d829\")>,\n",
       " <selenium.webdriver.remote.webelement.WebElement (session=\"3b3439b3265dbcbbc23e86cd848f1724\", element=\"04ca0045-864d-4025-a5a0-0856131fff64\")>,\n",
       " <selenium.webdriver.remote.webelement.WebElement (session=\"3b3439b3265dbcbbc23e86cd848f1724\", element=\"86a33ff8-5238-4a2f-a198-1bfe10354f4a\")>,\n",
       " <selenium.webdriver.remote.webelement.WebElement (session=\"3b3439b3265dbcbbc23e86cd848f1724\", element=\"9548dcea-55ba-47aa-b2fc-abf41c000c9b\")>,\n",
       " <selenium.webdriver.remote.webelement.WebElement (session=\"3b3439b3265dbcbbc23e86cd848f1724\", element=\"39f592e0-4354-482c-987e-4422cee0a481\")>,\n",
       " <selenium.webdriver.remote.webelement.WebElement (session=\"3b3439b3265dbcbbc23e86cd848f1724\", element=\"0004b291-2eae-4d50-b493-dd5d62a5e2a9\")>,\n",
       " <selenium.webdriver.remote.webelement.WebElement (session=\"3b3439b3265dbcbbc23e86cd848f1724\", element=\"a194b261-a72c-4f28-ae30-19ecc199d92a\")>,\n",
       " <selenium.webdriver.remote.webelement.WebElement (session=\"3b3439b3265dbcbbc23e86cd848f1724\", element=\"a2b73204-2d2d-41b4-b783-a4d069af0183\")>,\n",
       " <selenium.webdriver.remote.webelement.WebElement (session=\"3b3439b3265dbcbbc23e86cd848f1724\", element=\"f8e6cfb1-e102-469a-8b65-fdc2a77fb71b\")>,\n",
       " <selenium.webdriver.remote.webelement.WebElement (session=\"3b3439b3265dbcbbc23e86cd848f1724\", element=\"afe1182a-a2a8-4caa-8d73-adba04675844\")>,\n",
       " <selenium.webdriver.remote.webelement.WebElement (session=\"3b3439b3265dbcbbc23e86cd848f1724\", element=\"c619d6b1-eb01-4693-a3ca-89ad9b2cbe3e\")>,\n",
       " <selenium.webdriver.remote.webelement.WebElement (session=\"3b3439b3265dbcbbc23e86cd848f1724\", element=\"47b583dd-87b3-4b8f-8771-ced005c7addf\")>,\n",
       " <selenium.webdriver.remote.webelement.WebElement (session=\"3b3439b3265dbcbbc23e86cd848f1724\", element=\"6e0ea367-dd33-4a55-a822-c5c1ad37b7aa\")>,\n",
       " <selenium.webdriver.remote.webelement.WebElement (session=\"3b3439b3265dbcbbc23e86cd848f1724\", element=\"40575271-2938-4c05-bc22-e68d6bb85fc0\")>,\n",
       " <selenium.webdriver.remote.webelement.WebElement (session=\"3b3439b3265dbcbbc23e86cd848f1724\", element=\"b66b7a85-cf14-481a-bb4f-f3f73e1e1b15\")>,\n",
       " <selenium.webdriver.remote.webelement.WebElement (session=\"3b3439b3265dbcbbc23e86cd848f1724\", element=\"3d7f794e-ced9-49b1-a122-902a52a3a604\")>,\n",
       " <selenium.webdriver.remote.webelement.WebElement (session=\"3b3439b3265dbcbbc23e86cd848f1724\", element=\"d8889409-ebb7-4f16-8e07-90d89acd9a10\")>,\n",
       " <selenium.webdriver.remote.webelement.WebElement (session=\"3b3439b3265dbcbbc23e86cd848f1724\", element=\"80c17029-6335-4c63-928d-6b59accf1289\")>,\n",
       " <selenium.webdriver.remote.webelement.WebElement (session=\"3b3439b3265dbcbbc23e86cd848f1724\", element=\"7338120d-d749-4399-9d52-c4e57103ee42\")>,\n",
       " <selenium.webdriver.remote.webelement.WebElement (session=\"3b3439b3265dbcbbc23e86cd848f1724\", element=\"712475cc-1ba4-423a-b78d-d473341f8b82\")>,\n",
       " <selenium.webdriver.remote.webelement.WebElement (session=\"3b3439b3265dbcbbc23e86cd848f1724\", element=\"b4a84d47-9d3e-4241-b1ff-b72b852dc3aa\")>,\n",
       " <selenium.webdriver.remote.webelement.WebElement (session=\"3b3439b3265dbcbbc23e86cd848f1724\", element=\"83f813d0-95ac-4832-a024-951d8a0070ce\")>,\n",
       " <selenium.webdriver.remote.webelement.WebElement (session=\"3b3439b3265dbcbbc23e86cd848f1724\", element=\"d91abe96-ebf9-4484-b5ec-02359ab08757\")>,\n",
       " <selenium.webdriver.remote.webelement.WebElement (session=\"3b3439b3265dbcbbc23e86cd848f1724\", element=\"b7c0458a-c69b-44f0-991a-cac67183e149\")>,\n",
       " <selenium.webdriver.remote.webelement.WebElement (session=\"3b3439b3265dbcbbc23e86cd848f1724\", element=\"7be31334-2360-4d39-98e2-dc70677584d9\")>,\n",
       " <selenium.webdriver.remote.webelement.WebElement (session=\"3b3439b3265dbcbbc23e86cd848f1724\", element=\"943f6f38-4113-462b-98bf-ed9f1f7167dd\")>,\n",
       " <selenium.webdriver.remote.webelement.WebElement (session=\"3b3439b3265dbcbbc23e86cd848f1724\", element=\"896d125e-e1d9-4c5e-af48-fa772168d75d\")>,\n",
       " <selenium.webdriver.remote.webelement.WebElement (session=\"3b3439b3265dbcbbc23e86cd848f1724\", element=\"134f8811-f6ee-4031-ab29-5c2038b167a1\")>,\n",
       " <selenium.webdriver.remote.webelement.WebElement (session=\"3b3439b3265dbcbbc23e86cd848f1724\", element=\"69957fa7-ed3d-4d27-adac-da815710f888\")>,\n",
       " <selenium.webdriver.remote.webelement.WebElement (session=\"3b3439b3265dbcbbc23e86cd848f1724\", element=\"6643a626-6a41-46aa-9c62-abd46d1a6b74\")>,\n",
       " <selenium.webdriver.remote.webelement.WebElement (session=\"3b3439b3265dbcbbc23e86cd848f1724\", element=\"e398f2a3-77a9-4b20-b2b9-4758df920e3f\")>,\n",
       " <selenium.webdriver.remote.webelement.WebElement (session=\"3b3439b3265dbcbbc23e86cd848f1724\", element=\"67b7330b-3f78-4b82-adcd-0261c613b6a4\")>,\n",
       " <selenium.webdriver.remote.webelement.WebElement (session=\"3b3439b3265dbcbbc23e86cd848f1724\", element=\"900e558a-ce89-4494-bc28-cb73f61e45a0\")>,\n",
       " <selenium.webdriver.remote.webelement.WebElement (session=\"3b3439b3265dbcbbc23e86cd848f1724\", element=\"a1af5630-df8d-45e3-b8e9-4de0c57e1f79\")>,\n",
       " <selenium.webdriver.remote.webelement.WebElement (session=\"3b3439b3265dbcbbc23e86cd848f1724\", element=\"a70ba1da-67e1-4975-804d-599129bd2685\")>,\n",
       " <selenium.webdriver.remote.webelement.WebElement (session=\"3b3439b3265dbcbbc23e86cd848f1724\", element=\"2711c98d-0303-4399-abf9-90b4a5ebe30a\")>,\n",
       " <selenium.webdriver.remote.webelement.WebElement (session=\"3b3439b3265dbcbbc23e86cd848f1724\", element=\"f01f8b94-447d-49e1-9761-19e48d7c8bbe\")>,\n",
       " <selenium.webdriver.remote.webelement.WebElement (session=\"3b3439b3265dbcbbc23e86cd848f1724\", element=\"892a38ed-76b5-40bf-8ccd-c59cf8440456\")>,\n",
       " <selenium.webdriver.remote.webelement.WebElement (session=\"3b3439b3265dbcbbc23e86cd848f1724\", element=\"75794a04-ceb7-436c-b1c2-78578ee74bdb\")>,\n",
       " <selenium.webdriver.remote.webelement.WebElement (session=\"3b3439b3265dbcbbc23e86cd848f1724\", element=\"cd95a8f4-27f3-4eff-91de-5ec0dbcdb339\")>,\n",
       " <selenium.webdriver.remote.webelement.WebElement (session=\"3b3439b3265dbcbbc23e86cd848f1724\", element=\"d97f967e-622f-41e0-8213-acc4a11f93e6\")>,\n",
       " <selenium.webdriver.remote.webelement.WebElement (session=\"3b3439b3265dbcbbc23e86cd848f1724\", element=\"10df641e-77dd-4223-84a3-54c6835f7bbe\")>]"
      ]
     },
     "execution_count": 28,
     "metadata": {},
     "output_type": "execute_result"
    }
   ],
   "source": [
    "header2=browser.find_elements(\"xpath\",\"//div[@class='td-wrap-in']\")\n",
    "header2\n"
   ]
  },
  {
   "cell_type": "code",
   "execution_count": 29,
   "id": "5622b97f",
   "metadata": {},
   "outputs": [
    {
     "data": {
      "text/plain": [
       "['93.2', '99.2', '92.2', '86.8', '92.9', '76', '81.6', '89.6', '98.2']"
      ]
     },
     "execution_count": 29,
     "metadata": {},
     "output_type": "execute_result"
    }
   ],
   "source": [
    "#PARSING DATA\n",
    "value_head=[]\n",
    "for data in header2:\n",
    "    #get the text data\n",
    "    temp=data.text\n",
    "    value_head.append(temp)\n",
    "value=value_head[91:100]\n",
    "value"
   ]
  },
  {
   "cell_type": "code",
   "execution_count": 30,
   "id": "6bc17bb1",
   "metadata": {},
   "outputs": [
    {
     "data": {
      "text/plain": [
       "{'Name': 'University of Chicago',\n",
       " 'Location': 'Chicago, United States',\n",
       " 'Rank': '10',\n",
       " 'Overall Score': '93.2',\n",
       " 'Academic Reputation': '99.2',\n",
       " 'Employer Reputation': '92.2',\n",
       " 'Citations per Faculty': '86.8',\n",
       " 'Faculty Student Ratio': '92.9',\n",
       " 'International Students Ratio': '76',\n",
       " 'International Faculty Ratio': '81.6',\n",
       " 'International Research Network\\nUnweighted': '89.6',\n",
       " 'Employment Outcomes\\nUnweighted': '98.2'}"
      ]
     },
     "execution_count": 30,
     "metadata": {},
     "output_type": "execute_result"
    }
   ],
   "source": [
    "\n",
    "d={}\n",
    "d['Name']=value_head[90]\n",
    "d['Location']=loc[9]\n",
    "d['Rank']=RANK[9]\n",
    "for i in range(len(column_head)):\n",
    "    d[column_head[i]]=value[i]\n",
    "d\n"
   ]
  },
  {
   "cell_type": "code",
   "execution_count": 31,
   "id": "5954776c",
   "metadata": {},
   "outputs": [
    {
     "data": {
      "text/plain": [
       "'{\"Name\": \"University of Chicago\", \"Location\": \"Chicago, United States\", \"Rank\": \"10\", \"Overall Score\": \"93.2\", \"Academic Reputation\": \"99.2\", \"Employer Reputation\": \"92.2\", \"Citations per Faculty\": \"86.8\", \"Faculty Student Ratio\": \"92.9\", \"International Students Ratio\": \"76\", \"International Faculty Ratio\": \"81.6\", \"International Research Network\\\\nUnweighted\": \"89.6\", \"Employment Outcomes\\\\nUnweighted\": \"98.2\"}'"
      ]
     },
     "execution_count": 31,
     "metadata": {},
     "output_type": "execute_result"
    }
   ],
   "source": [
    "s1=json.dumps(d)\n",
    "s1"
   ]
  },
  {
   "cell_type": "code",
   "execution_count": 32,
   "id": "0ffdecdd",
   "metadata": {},
   "outputs": [],
   "source": [
    "with open('University of Chicago.json','w') as f:\n",
    "    json.dump(d,f)"
   ]
  },
  {
   "cell_type": "code",
   "execution_count": null,
   "id": "77f5e022",
   "metadata": {},
   "outputs": [],
   "source": []
  },
  {
   "cell_type": "code",
   "execution_count": null,
   "id": "51d83006",
   "metadata": {},
   "outputs": [],
   "source": []
  }
 ],
 "metadata": {
  "kernelspec": {
   "display_name": "Python 3 (ipykernel)",
   "language": "python",
   "name": "python3"
  },
  "language_info": {
   "codemirror_mode": {
    "name": "ipython",
    "version": 3
   },
   "file_extension": ".py",
   "mimetype": "text/x-python",
   "name": "python",
   "nbconvert_exporter": "python",
   "pygments_lexer": "ipython3",
   "version": "3.9.12"
  }
 },
 "nbformat": 4,
 "nbformat_minor": 5
}
