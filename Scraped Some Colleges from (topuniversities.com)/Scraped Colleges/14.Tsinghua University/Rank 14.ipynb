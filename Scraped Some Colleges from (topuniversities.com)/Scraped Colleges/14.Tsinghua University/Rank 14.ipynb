{
 "cells": [
  {
   "cell_type": "code",
   "execution_count": 9,
   "id": "364ac4b6",
   "metadata": {},
   "outputs": [],
   "source": [
    "from selenium import webdriver\n",
    "from selenium.webdriver.chrome.service import Service\n",
    "import pandas as pd\n",
    "import json"
   ]
  },
  {
   "cell_type": "code",
   "execution_count": 10,
   "id": "1d6d9ba1",
   "metadata": {},
   "outputs": [],
   "source": [
    "path = Service('C:\\chromedriver.exe')"
   ]
  },
  {
   "cell_type": "code",
   "execution_count": 11,
   "id": "15d071b7",
   "metadata": {},
   "outputs": [],
   "source": [
    "# set path for the driver\n",
    "browser = webdriver.Chrome(service = path)"
   ]
  },
  {
   "cell_type": "code",
   "execution_count": 12,
   "id": "b4423022",
   "metadata": {},
   "outputs": [],
   "source": [
    "url = \"https://www.topuniversities.com/university-rankings/world-university-rankings/2023\""
   ]
  },
  {
   "cell_type": "code",
   "execution_count": 13,
   "id": "7e9a7457",
   "metadata": {},
   "outputs": [],
   "source": [
    "# open the page url ion chrome\n",
    "browser.get(url)"
   ]
  },
  {
   "cell_type": "code",
   "execution_count": 14,
   "id": "3026f241",
   "metadata": {},
   "outputs": [
    {
     "data": {
      "text/plain": [
       "[<selenium.webdriver.remote.webelement.WebElement (session=\"6bd9b25c27782538535bfb879ac5abd7\", element=\"2c31c4e8-6a12-424b-9b57-dad9582cd545\")>,\n",
       " <selenium.webdriver.remote.webelement.WebElement (session=\"6bd9b25c27782538535bfb879ac5abd7\", element=\"98fca75a-2d53-4d02-a12f-a2fc81c91106\")>,\n",
       " <selenium.webdriver.remote.webelement.WebElement (session=\"6bd9b25c27782538535bfb879ac5abd7\", element=\"590712e6-466f-45c2-b14a-2c5992444345\")>,\n",
       " <selenium.webdriver.remote.webelement.WebElement (session=\"6bd9b25c27782538535bfb879ac5abd7\", element=\"d153aef0-16e6-4479-a346-d2360779e802\")>,\n",
       " <selenium.webdriver.remote.webelement.WebElement (session=\"6bd9b25c27782538535bfb879ac5abd7\", element=\"c2b54323-c5be-405c-871e-51fc86a05679\")>,\n",
       " <selenium.webdriver.remote.webelement.WebElement (session=\"6bd9b25c27782538535bfb879ac5abd7\", element=\"67fdbf52-e15e-45d2-a968-41ececbd714e\")>,\n",
       " <selenium.webdriver.remote.webelement.WebElement (session=\"6bd9b25c27782538535bfb879ac5abd7\", element=\"a68bebed-84fd-485a-b2d7-54220ab259c3\")>,\n",
       " <selenium.webdriver.remote.webelement.WebElement (session=\"6bd9b25c27782538535bfb879ac5abd7\", element=\"5220a5e0-96b8-46e0-b881-cf7e61efd0eb\")>,\n",
       " <selenium.webdriver.remote.webelement.WebElement (session=\"6bd9b25c27782538535bfb879ac5abd7\", element=\"ef141361-9929-4ce7-9dfb-fef524989a40\")>]"
      ]
     },
     "execution_count": 14,
     "metadata": {},
     "output_type": "execute_result"
    }
   ],
   "source": [
    "# GET EACH COLLEGE SPECIFICATION HEADERS\n",
    "header=browser.find_elements(\"xpath\",\"//div[@class='_click-function_ind']\")\n",
    "header"
   ]
  },
  {
   "cell_type": "code",
   "execution_count": 15,
   "id": "17f540a6",
   "metadata": {},
   "outputs": [
    {
     "data": {
      "text/plain": [
       "['Overall Score',\n",
       " 'Academic Reputation',\n",
       " 'Employer Reputation',\n",
       " 'Citations per Faculty',\n",
       " 'Faculty Student Ratio',\n",
       " 'International Students Ratio',\n",
       " 'International Faculty Ratio',\n",
       " 'International Research Network\\nUnweighted',\n",
       " 'Employment Outcomes\\nUnweighted']"
      ]
     },
     "execution_count": 15,
     "metadata": {},
     "output_type": "execute_result"
    }
   ],
   "source": [
    "#PARSING DATA\n",
    "column_head=[]\n",
    "for data in header:\n",
    "    #get the text data\n",
    "    temp=data.text\n",
    "    column_head.append(temp)\n",
    "column_head"
   ]
  },
  {
   "cell_type": "code",
   "execution_count": 16,
   "id": "a12b8cbb",
   "metadata": {},
   "outputs": [
    {
     "data": {
      "text/plain": [
       "[<selenium.webdriver.remote.webelement.WebElement (session=\"6bd9b25c27782538535bfb879ac5abd7\", element=\"0bd07bf2-06c6-4286-beb1-4e261fc04c27\")>,\n",
       " <selenium.webdriver.remote.webelement.WebElement (session=\"6bd9b25c27782538535bfb879ac5abd7\", element=\"ab96504f-6c88-4b96-9d5d-801fb11745c7\")>,\n",
       " <selenium.webdriver.remote.webelement.WebElement (session=\"6bd9b25c27782538535bfb879ac5abd7\", element=\"ad554252-c01f-4a10-add3-01b2a268f00d\")>,\n",
       " <selenium.webdriver.remote.webelement.WebElement (session=\"6bd9b25c27782538535bfb879ac5abd7\", element=\"0a3d92bb-a524-483c-83d5-37b72b74c348\")>,\n",
       " <selenium.webdriver.remote.webelement.WebElement (session=\"6bd9b25c27782538535bfb879ac5abd7\", element=\"a3a8d93a-b68f-4508-b428-6cd690225bc5\")>,\n",
       " <selenium.webdriver.remote.webelement.WebElement (session=\"6bd9b25c27782538535bfb879ac5abd7\", element=\"0d588d1b-7585-4e0f-a2b8-9cc02c658058\")>,\n",
       " <selenium.webdriver.remote.webelement.WebElement (session=\"6bd9b25c27782538535bfb879ac5abd7\", element=\"af81fe4f-253c-46ae-9006-8885307d7f12\")>,\n",
       " <selenium.webdriver.remote.webelement.WebElement (session=\"6bd9b25c27782538535bfb879ac5abd7\", element=\"099a26ae-4709-4865-a1c6-87ec12a0d81f\")>,\n",
       " <selenium.webdriver.remote.webelement.WebElement (session=\"6bd9b25c27782538535bfb879ac5abd7\", element=\"735100b1-6bc2-4553-83e7-40f8eec84c9d\")>,\n",
       " <selenium.webdriver.remote.webelement.WebElement (session=\"6bd9b25c27782538535bfb879ac5abd7\", element=\"17d35349-8134-447c-ac4d-e3f2df453bb6\")>,\n",
       " <selenium.webdriver.remote.webelement.WebElement (session=\"6bd9b25c27782538535bfb879ac5abd7\", element=\"1e4e9209-adec-4e33-9fa7-fbf065d6170d\")>,\n",
       " <selenium.webdriver.remote.webelement.WebElement (session=\"6bd9b25c27782538535bfb879ac5abd7\", element=\"6c850a51-1cdf-4aab-9073-25858500b317\")>,\n",
       " <selenium.webdriver.remote.webelement.WebElement (session=\"6bd9b25c27782538535bfb879ac5abd7\", element=\"b019aa5f-c3ed-4640-ab35-4b883e276f14\")>,\n",
       " <selenium.webdriver.remote.webelement.WebElement (session=\"6bd9b25c27782538535bfb879ac5abd7\", element=\"72b99fa7-4d08-4750-87fc-d706a1de75f5\")>,\n",
       " <selenium.webdriver.remote.webelement.WebElement (session=\"6bd9b25c27782538535bfb879ac5abd7\", element=\"d9a2f992-a5c8-4067-bb22-268207c1e2ee\")>,\n",
       " <selenium.webdriver.remote.webelement.WebElement (session=\"6bd9b25c27782538535bfb879ac5abd7\", element=\"57134725-282d-463d-be0f-e04a2e816424\")>,\n",
       " <selenium.webdriver.remote.webelement.WebElement (session=\"6bd9b25c27782538535bfb879ac5abd7\", element=\"c6681384-4b57-4a01-8103-d3fa806409d1\")>,\n",
       " <selenium.webdriver.remote.webelement.WebElement (session=\"6bd9b25c27782538535bfb879ac5abd7\", element=\"cd826324-10a0-4f77-9b26-d534f54e6552\")>,\n",
       " <selenium.webdriver.remote.webelement.WebElement (session=\"6bd9b25c27782538535bfb879ac5abd7\", element=\"6c836257-11a6-4173-ac85-37865a42db70\")>,\n",
       " <selenium.webdriver.remote.webelement.WebElement (session=\"6bd9b25c27782538535bfb879ac5abd7\", element=\"3fd9c625-a463-40e0-bf7e-2ee4fdb2d59b\")>,\n",
       " <selenium.webdriver.remote.webelement.WebElement (session=\"6bd9b25c27782538535bfb879ac5abd7\", element=\"d7e05b77-ad71-4ea3-a3b0-d715cff47e4d\")>,\n",
       " <selenium.webdriver.remote.webelement.WebElement (session=\"6bd9b25c27782538535bfb879ac5abd7\", element=\"9152f43e-b1b0-4346-9bd8-36f6a1f6cb96\")>,\n",
       " <selenium.webdriver.remote.webelement.WebElement (session=\"6bd9b25c27782538535bfb879ac5abd7\", element=\"c0df2ecd-b881-4177-8299-63ee1ee2531e\")>,\n",
       " <selenium.webdriver.remote.webelement.WebElement (session=\"6bd9b25c27782538535bfb879ac5abd7\", element=\"d9c83499-8c2a-4b1e-93e3-d51cb0887e64\")>,\n",
       " <selenium.webdriver.remote.webelement.WebElement (session=\"6bd9b25c27782538535bfb879ac5abd7\", element=\"f34505fe-3a23-4fef-8a6a-6fac94ed916b\")>,\n",
       " <selenium.webdriver.remote.webelement.WebElement (session=\"6bd9b25c27782538535bfb879ac5abd7\", element=\"cf2f32d6-2e79-4edb-819a-4462a5f9a33c\")>,\n",
       " <selenium.webdriver.remote.webelement.WebElement (session=\"6bd9b25c27782538535bfb879ac5abd7\", element=\"09ee2ce4-732e-41c3-ab25-b1762936e1e2\")>,\n",
       " <selenium.webdriver.remote.webelement.WebElement (session=\"6bd9b25c27782538535bfb879ac5abd7\", element=\"e0509aa7-b522-4c6f-8cfa-f9c7c7a3c453\")>,\n",
       " <selenium.webdriver.remote.webelement.WebElement (session=\"6bd9b25c27782538535bfb879ac5abd7\", element=\"bff0fcb8-f921-4159-98fd-090d25980d38\")>,\n",
       " <selenium.webdriver.remote.webelement.WebElement (session=\"6bd9b25c27782538535bfb879ac5abd7\", element=\"646d3195-abd0-4ddb-b12b-2d292f605736\")>,\n",
       " <selenium.webdriver.remote.webelement.WebElement (session=\"6bd9b25c27782538535bfb879ac5abd7\", element=\"a363603a-7a48-46c1-bd6f-ca01ad8c6203\")>,\n",
       " <selenium.webdriver.remote.webelement.WebElement (session=\"6bd9b25c27782538535bfb879ac5abd7\", element=\"669c2efc-d064-4a6f-8aa7-70ad958b1bd6\")>,\n",
       " <selenium.webdriver.remote.webelement.WebElement (session=\"6bd9b25c27782538535bfb879ac5abd7\", element=\"a5ad8991-0a4f-4364-81e6-bf9791085269\")>,\n",
       " <selenium.webdriver.remote.webelement.WebElement (session=\"6bd9b25c27782538535bfb879ac5abd7\", element=\"9fa7afbd-ca1d-4ade-afaf-35f0d551dc6e\")>,\n",
       " <selenium.webdriver.remote.webelement.WebElement (session=\"6bd9b25c27782538535bfb879ac5abd7\", element=\"32185102-be81-4d66-8711-1399508205df\")>,\n",
       " <selenium.webdriver.remote.webelement.WebElement (session=\"6bd9b25c27782538535bfb879ac5abd7\", element=\"287d25a1-09da-46be-88bb-f670c96ac6cb\")>,\n",
       " <selenium.webdriver.remote.webelement.WebElement (session=\"6bd9b25c27782538535bfb879ac5abd7\", element=\"ce9a8b71-c2e2-4259-a2bb-101bc8377922\")>,\n",
       " <selenium.webdriver.remote.webelement.WebElement (session=\"6bd9b25c27782538535bfb879ac5abd7\", element=\"6b951060-eb11-419f-884d-9dd5879194e9\")>,\n",
       " <selenium.webdriver.remote.webelement.WebElement (session=\"6bd9b25c27782538535bfb879ac5abd7\", element=\"036df289-ed64-4294-ab0f-3c77569a8a05\")>,\n",
       " <selenium.webdriver.remote.webelement.WebElement (session=\"6bd9b25c27782538535bfb879ac5abd7\", element=\"c23e603a-9b9a-4e85-937a-68fd6bd2609b\")>,\n",
       " <selenium.webdriver.remote.webelement.WebElement (session=\"6bd9b25c27782538535bfb879ac5abd7\", element=\"0aed3f2d-90d6-4e05-9374-c17234ff49ad\")>,\n",
       " <selenium.webdriver.remote.webelement.WebElement (session=\"6bd9b25c27782538535bfb879ac5abd7\", element=\"2dbba541-18b9-42dd-8c4c-37c94acc09ef\")>,\n",
       " <selenium.webdriver.remote.webelement.WebElement (session=\"6bd9b25c27782538535bfb879ac5abd7\", element=\"f748ff79-1dff-4cba-9e9e-e03098237ade\")>,\n",
       " <selenium.webdriver.remote.webelement.WebElement (session=\"6bd9b25c27782538535bfb879ac5abd7\", element=\"9c30036e-4344-4c2f-94c8-41c6b2a0c058\")>,\n",
       " <selenium.webdriver.remote.webelement.WebElement (session=\"6bd9b25c27782538535bfb879ac5abd7\", element=\"45bc55fe-6efb-47ae-9fd7-1e70e69d7cbc\")>,\n",
       " <selenium.webdriver.remote.webelement.WebElement (session=\"6bd9b25c27782538535bfb879ac5abd7\", element=\"35325610-c6fb-4289-9fc1-6daaf58425d7\")>,\n",
       " <selenium.webdriver.remote.webelement.WebElement (session=\"6bd9b25c27782538535bfb879ac5abd7\", element=\"72b60686-ec1a-4643-b493-fa58ca97378c\")>,\n",
       " <selenium.webdriver.remote.webelement.WebElement (session=\"6bd9b25c27782538535bfb879ac5abd7\", element=\"2f22e131-9fa1-43d8-924a-6554dc767294\")>,\n",
       " <selenium.webdriver.remote.webelement.WebElement (session=\"6bd9b25c27782538535bfb879ac5abd7\", element=\"c4a80ac8-8a08-48d5-8609-5222d00160a3\")>,\n",
       " <selenium.webdriver.remote.webelement.WebElement (session=\"6bd9b25c27782538535bfb879ac5abd7\", element=\"d946c1ce-0993-4d46-b91a-c19cf7fe822e\")>,\n",
       " <selenium.webdriver.remote.webelement.WebElement (session=\"6bd9b25c27782538535bfb879ac5abd7\", element=\"0af3b633-6d73-4094-b3a8-a874c8c835f7\")>,\n",
       " <selenium.webdriver.remote.webelement.WebElement (session=\"6bd9b25c27782538535bfb879ac5abd7\", element=\"35e6e980-6aec-4e7b-8cec-4cd13b74eeab\")>,\n",
       " <selenium.webdriver.remote.webelement.WebElement (session=\"6bd9b25c27782538535bfb879ac5abd7\", element=\"74095475-9a3c-41f7-921e-e9e57c657555\")>,\n",
       " <selenium.webdriver.remote.webelement.WebElement (session=\"6bd9b25c27782538535bfb879ac5abd7\", element=\"0d28f61c-0c0f-4cf0-bf72-04a6030c8daa\")>,\n",
       " <selenium.webdriver.remote.webelement.WebElement (session=\"6bd9b25c27782538535bfb879ac5abd7\", element=\"6621f9bc-ba59-4380-8f44-8c18549af482\")>,\n",
       " <selenium.webdriver.remote.webelement.WebElement (session=\"6bd9b25c27782538535bfb879ac5abd7\", element=\"d8eaaa2b-eecf-4c83-8162-8127272c2ca4\")>,\n",
       " <selenium.webdriver.remote.webelement.WebElement (session=\"6bd9b25c27782538535bfb879ac5abd7\", element=\"8e43aa0b-b100-4b94-b174-923ee0059001\")>,\n",
       " <selenium.webdriver.remote.webelement.WebElement (session=\"6bd9b25c27782538535bfb879ac5abd7\", element=\"6f1b1176-04bc-43aa-8f46-d4fa8edd3a27\")>,\n",
       " <selenium.webdriver.remote.webelement.WebElement (session=\"6bd9b25c27782538535bfb879ac5abd7\", element=\"b752658d-4615-40cd-905d-d98d210e49c2\")>,\n",
       " <selenium.webdriver.remote.webelement.WebElement (session=\"6bd9b25c27782538535bfb879ac5abd7\", element=\"befbb156-8e6d-4b4b-8a44-ba17a255ad06\")>,\n",
       " <selenium.webdriver.remote.webelement.WebElement (session=\"6bd9b25c27782538535bfb879ac5abd7\", element=\"87788c33-331f-4238-b0b1-185f0e4627aa\")>,\n",
       " <selenium.webdriver.remote.webelement.WebElement (session=\"6bd9b25c27782538535bfb879ac5abd7\", element=\"783376f4-f22e-4db1-aa7a-4a47e22daca2\")>,\n",
       " <selenium.webdriver.remote.webelement.WebElement (session=\"6bd9b25c27782538535bfb879ac5abd7\", element=\"e4bc6aad-3e2f-4708-9b10-329d2cbbe623\")>,\n",
       " <selenium.webdriver.remote.webelement.WebElement (session=\"6bd9b25c27782538535bfb879ac5abd7\", element=\"f9b9b0ce-c145-441a-90a1-ed5197030e46\")>,\n",
       " <selenium.webdriver.remote.webelement.WebElement (session=\"6bd9b25c27782538535bfb879ac5abd7\", element=\"ef8dfafd-2f85-413a-9155-04d002059d9a\")>,\n",
       " <selenium.webdriver.remote.webelement.WebElement (session=\"6bd9b25c27782538535bfb879ac5abd7\", element=\"ce92c941-b68f-4291-b11f-bbbffdc5705f\")>,\n",
       " <selenium.webdriver.remote.webelement.WebElement (session=\"6bd9b25c27782538535bfb879ac5abd7\", element=\"fe3ebd0a-856f-4c52-be28-c4510d26eea9\")>,\n",
       " <selenium.webdriver.remote.webelement.WebElement (session=\"6bd9b25c27782538535bfb879ac5abd7\", element=\"66879b20-e729-48ca-8bd1-9154f2b387cc\")>,\n",
       " <selenium.webdriver.remote.webelement.WebElement (session=\"6bd9b25c27782538535bfb879ac5abd7\", element=\"e953885b-29c4-4c1b-82ba-fac9b3a605d5\")>,\n",
       " <selenium.webdriver.remote.webelement.WebElement (session=\"6bd9b25c27782538535bfb879ac5abd7\", element=\"e8f10f5b-003c-4700-bb63-7dac6c6aeddb\")>,\n",
       " <selenium.webdriver.remote.webelement.WebElement (session=\"6bd9b25c27782538535bfb879ac5abd7\", element=\"063d73a2-dd83-4d63-a068-9c649d16f63b\")>,\n",
       " <selenium.webdriver.remote.webelement.WebElement (session=\"6bd9b25c27782538535bfb879ac5abd7\", element=\"1b542054-f25d-45ad-94b5-f6869e947da6\")>,\n",
       " <selenium.webdriver.remote.webelement.WebElement (session=\"6bd9b25c27782538535bfb879ac5abd7\", element=\"0c99bb89-134c-443a-bbae-8e796b07d2cc\")>,\n",
       " <selenium.webdriver.remote.webelement.WebElement (session=\"6bd9b25c27782538535bfb879ac5abd7\", element=\"9d62060b-5712-4c25-9755-8b98d14cf6b4\")>,\n",
       " <selenium.webdriver.remote.webelement.WebElement (session=\"6bd9b25c27782538535bfb879ac5abd7\", element=\"fe5bfef8-36f6-4a6c-9c74-6a021a7c573b\")>,\n",
       " <selenium.webdriver.remote.webelement.WebElement (session=\"6bd9b25c27782538535bfb879ac5abd7\", element=\"42ee48c5-2a69-4992-bf13-2705be7c0cb7\")>,\n",
       " <selenium.webdriver.remote.webelement.WebElement (session=\"6bd9b25c27782538535bfb879ac5abd7\", element=\"67f33bc5-0520-40be-831b-9db94f1b10f1\")>,\n",
       " <selenium.webdriver.remote.webelement.WebElement (session=\"6bd9b25c27782538535bfb879ac5abd7\", element=\"913a8d2c-ca91-42cd-a378-f3fb45fd8c4f\")>,\n",
       " <selenium.webdriver.remote.webelement.WebElement (session=\"6bd9b25c27782538535bfb879ac5abd7\", element=\"9c0abec4-6b5b-4d31-a329-8f3dc4e8d085\")>,\n",
       " <selenium.webdriver.remote.webelement.WebElement (session=\"6bd9b25c27782538535bfb879ac5abd7\", element=\"e6c6e050-707f-439d-b6fb-5630f0f13af5\")>,\n",
       " <selenium.webdriver.remote.webelement.WebElement (session=\"6bd9b25c27782538535bfb879ac5abd7\", element=\"eedbca67-672c-4868-a538-606e94d5783b\")>,\n",
       " <selenium.webdriver.remote.webelement.WebElement (session=\"6bd9b25c27782538535bfb879ac5abd7\", element=\"bf3bfd83-cae9-4db4-9015-25d1cf436fe4\")>,\n",
       " <selenium.webdriver.remote.webelement.WebElement (session=\"6bd9b25c27782538535bfb879ac5abd7\", element=\"58544e52-fb5d-4f3d-b66a-59d5219beadf\")>,\n",
       " <selenium.webdriver.remote.webelement.WebElement (session=\"6bd9b25c27782538535bfb879ac5abd7\", element=\"066f0fce-9a9e-437f-acb6-d1bf17d0dc73\")>,\n",
       " <selenium.webdriver.remote.webelement.WebElement (session=\"6bd9b25c27782538535bfb879ac5abd7\", element=\"3415580e-4b80-48d4-94cb-032b91641de1\")>,\n",
       " <selenium.webdriver.remote.webelement.WebElement (session=\"6bd9b25c27782538535bfb879ac5abd7\", element=\"f76d5940-5356-4853-998f-bc8e1bc8a222\")>,\n",
       " <selenium.webdriver.remote.webelement.WebElement (session=\"6bd9b25c27782538535bfb879ac5abd7\", element=\"84fa8cbd-ec02-4c59-8ceb-26fe51a2f478\")>,\n",
       " <selenium.webdriver.remote.webelement.WebElement (session=\"6bd9b25c27782538535bfb879ac5abd7\", element=\"cfb56b63-3052-4b3e-b6cd-fb9baed7cdee\")>,\n",
       " <selenium.webdriver.remote.webelement.WebElement (session=\"6bd9b25c27782538535bfb879ac5abd7\", element=\"70e6f62d-f79d-4012-b4a5-530c91df8f70\")>,\n",
       " <selenium.webdriver.remote.webelement.WebElement (session=\"6bd9b25c27782538535bfb879ac5abd7\", element=\"6c6969d5-717c-4896-8c3c-aae031ac0514\")>,\n",
       " <selenium.webdriver.remote.webelement.WebElement (session=\"6bd9b25c27782538535bfb879ac5abd7\", element=\"a80d2353-c8d3-4571-ae0d-0c38f12667b0\")>,\n",
       " <selenium.webdriver.remote.webelement.WebElement (session=\"6bd9b25c27782538535bfb879ac5abd7\", element=\"0b17243b-2bd2-48d1-8ea3-63b072dad11a\")>,\n",
       " <selenium.webdriver.remote.webelement.WebElement (session=\"6bd9b25c27782538535bfb879ac5abd7\", element=\"59843297-dc37-4b4c-b820-367cdae581bb\")>,\n",
       " <selenium.webdriver.remote.webelement.WebElement (session=\"6bd9b25c27782538535bfb879ac5abd7\", element=\"ccaadacb-0308-4148-9ef3-763b63ff508c\")>,\n",
       " <selenium.webdriver.remote.webelement.WebElement (session=\"6bd9b25c27782538535bfb879ac5abd7\", element=\"9380d21e-df34-4955-8380-5ece4538501e\")>,\n",
       " <selenium.webdriver.remote.webelement.WebElement (session=\"6bd9b25c27782538535bfb879ac5abd7\", element=\"e9fadb04-0414-4629-8de3-ceda614a84ea\")>,\n",
       " <selenium.webdriver.remote.webelement.WebElement (session=\"6bd9b25c27782538535bfb879ac5abd7\", element=\"b0d15457-59cf-46ee-80ca-838a56d0aab5\")>,\n",
       " <selenium.webdriver.remote.webelement.WebElement (session=\"6bd9b25c27782538535bfb879ac5abd7\", element=\"ed04ff49-8bf5-464a-a411-bc526538717d\")>,\n",
       " <selenium.webdriver.remote.webelement.WebElement (session=\"6bd9b25c27782538535bfb879ac5abd7\", element=\"806987f6-c329-48a4-9ff6-569d1a95cf36\")>,\n",
       " <selenium.webdriver.remote.webelement.WebElement (session=\"6bd9b25c27782538535bfb879ac5abd7\", element=\"94698c9b-051f-4496-b812-68ae390c818b\")>]"
      ]
     },
     "execution_count": 16,
     "metadata": {},
     "output_type": "execute_result"
    }
   ],
   "source": [
    "header2=browser.find_elements(\"xpath\",\"//div[@class='td-wrap-in']\")\n",
    "header2"
   ]
  },
  {
   "cell_type": "code",
   "execution_count": null,
   "id": "f1e2a25b",
   "metadata": {},
   "outputs": [],
   "source": [
    "#PARSING DATA\n",
    "value_head=[]\n",
    "for data in header2:\n",
    "    #get the text data\n",
    "    temp=data.text\n",
    "    value_head.append(temp)\n",
    "value_head=value_head[31:40]\n",
    "value_head"
   ]
  },
  {
   "cell_type": "code",
   "execution_count": null,
   "id": "9f156f5c",
   "metadata": {},
   "outputs": [],
   "source": [
    "d={}\n",
    "for i in range(len(column_head)):\n",
    "    d[column_head[i]]=value_head[i]\n",
    "d"
   ]
  },
  {
   "cell_type": "code",
   "execution_count": null,
   "id": "29c960e1",
   "metadata": {},
   "outputs": [],
   "source": [
    "s1=json.dumps(d)\n",
    "s1"
   ]
  },
  {
   "cell_type": "code",
   "execution_count": null,
   "id": "34e9bbf7",
   "metadata": {},
   "outputs": [],
   "source": [
    "with open('University of Oxford.json','w') as f:\n",
    "    json.dump(d,f)"
   ]
  }
 ],
 "metadata": {
  "kernelspec": {
   "display_name": "Python 3 (ipykernel)",
   "language": "python",
   "name": "python3"
  },
  "language_info": {
   "codemirror_mode": {
    "name": "ipython",
    "version": 3
   },
   "file_extension": ".py",
   "mimetype": "text/x-python",
   "name": "python",
   "nbconvert_exporter": "python",
   "pygments_lexer": "ipython3",
   "version": "3.9.12"
  }
 },
 "nbformat": 4,
 "nbformat_minor": 5
}
