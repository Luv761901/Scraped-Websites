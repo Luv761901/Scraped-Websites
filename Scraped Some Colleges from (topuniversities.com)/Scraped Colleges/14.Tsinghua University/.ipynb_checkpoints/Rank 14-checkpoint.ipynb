{
 "cells": [
  {
   "cell_type": "code",
   "execution_count": 41,
   "id": "364ac4b6",
   "metadata": {},
   "outputs": [],
   "source": [
    "from selenium import webdriver\n",
    "from selenium.webdriver.chrome.service import Service\n",
    "import pandas as pd\n",
    "import json"
   ]
  },
  {
   "cell_type": "code",
   "execution_count": 42,
   "id": "1d6d9ba1",
   "metadata": {},
   "outputs": [],
   "source": [
    "path = Service('C:\\chromedriver.exe')"
   ]
  },
  {
   "cell_type": "code",
   "execution_count": 43,
   "id": "15d071b7",
   "metadata": {},
   "outputs": [],
   "source": [
    "# set path for the driver\n",
    "browser = webdriver.Chrome(service = path)"
   ]
  },
  {
   "cell_type": "code",
   "execution_count": 44,
   "id": "b4423022",
   "metadata": {},
   "outputs": [],
   "source": [
    "url = \"https://www.topuniversities.com/university-rankings/world-university-rankings/2023\""
   ]
  },
  {
   "cell_type": "code",
   "execution_count": 45,
   "id": "7e9a7457",
   "metadata": {},
   "outputs": [],
   "source": [
    "# open the page url ion chrome\n",
    "browser.get(url)"
   ]
  },
  {
   "cell_type": "code",
   "execution_count": 46,
   "id": "94d32cb9",
   "metadata": {},
   "outputs": [
    {
     "data": {
      "text/plain": [
       "[<selenium.webdriver.remote.webelement.WebElement (session=\"649dc61f8e58acaf787b0cd791f3c04b\", element=\"5eef88a0-7357-478c-be57-08582ee7a493\")>,\n",
       " <selenium.webdriver.remote.webelement.WebElement (session=\"649dc61f8e58acaf787b0cd791f3c04b\", element=\"20726b1f-7354-4988-99e9-dd031b7fd5f0\")>,\n",
       " <selenium.webdriver.remote.webelement.WebElement (session=\"649dc61f8e58acaf787b0cd791f3c04b\", element=\"43885b18-966e-4f94-8032-09fa52db2426\")>,\n",
       " <selenium.webdriver.remote.webelement.WebElement (session=\"649dc61f8e58acaf787b0cd791f3c04b\", element=\"310b3525-6aa9-4e28-851e-5033b0c963e4\")>,\n",
       " <selenium.webdriver.remote.webelement.WebElement (session=\"649dc61f8e58acaf787b0cd791f3c04b\", element=\"5e589a79-6e98-4d04-9eb8-ce8ffa8d4a03\")>,\n",
       " <selenium.webdriver.remote.webelement.WebElement (session=\"649dc61f8e58acaf787b0cd791f3c04b\", element=\"8df4f524-9dd5-4087-8411-ab8f1629c8b4\")>,\n",
       " <selenium.webdriver.remote.webelement.WebElement (session=\"649dc61f8e58acaf787b0cd791f3c04b\", element=\"c4558a42-923c-4e54-a288-4e40c09dadb3\")>,\n",
       " <selenium.webdriver.remote.webelement.WebElement (session=\"649dc61f8e58acaf787b0cd791f3c04b\", element=\"a57996c8-c18e-4cca-a394-11c1fa2cbdfc\")>,\n",
       " <selenium.webdriver.remote.webelement.WebElement (session=\"649dc61f8e58acaf787b0cd791f3c04b\", element=\"d8a61634-d32c-4b21-ae4d-accae0aa747c\")>,\n",
       " <selenium.webdriver.remote.webelement.WebElement (session=\"649dc61f8e58acaf787b0cd791f3c04b\", element=\"a550d4b8-c064-4323-8067-e78d3ea1b0de\")>,\n",
       " <selenium.webdriver.remote.webelement.WebElement (session=\"649dc61f8e58acaf787b0cd791f3c04b\", element=\"e2694e4f-a0bf-4f03-9488-ad8346c89eb9\")>,\n",
       " <selenium.webdriver.remote.webelement.WebElement (session=\"649dc61f8e58acaf787b0cd791f3c04b\", element=\"82165ddc-ae7d-4c8d-9263-8ebfdab82255\")>,\n",
       " <selenium.webdriver.remote.webelement.WebElement (session=\"649dc61f8e58acaf787b0cd791f3c04b\", element=\"5b9e3993-3f89-4d75-b7ef-17c340300078\")>,\n",
       " <selenium.webdriver.remote.webelement.WebElement (session=\"649dc61f8e58acaf787b0cd791f3c04b\", element=\"4c3dc8f9-2c8c-4df6-a9f5-31528852b700\")>,\n",
       " <selenium.webdriver.remote.webelement.WebElement (session=\"649dc61f8e58acaf787b0cd791f3c04b\", element=\"ef1c50c6-96a9-424a-83fb-19994f855a23\")>,\n",
       " <selenium.webdriver.remote.webelement.WebElement (session=\"649dc61f8e58acaf787b0cd791f3c04b\", element=\"79b3d4f3-7744-4445-95c2-b1006ded1429\")>,\n",
       " <selenium.webdriver.remote.webelement.WebElement (session=\"649dc61f8e58acaf787b0cd791f3c04b\", element=\"626f3d31-fb99-469b-a883-bfeb953c700a\")>,\n",
       " <selenium.webdriver.remote.webelement.WebElement (session=\"649dc61f8e58acaf787b0cd791f3c04b\", element=\"3807add5-c35f-4f1e-92af-2076cd1e057e\")>,\n",
       " <selenium.webdriver.remote.webelement.WebElement (session=\"649dc61f8e58acaf787b0cd791f3c04b\", element=\"5a5ef59c-c115-459a-bb3f-7cd516db74ed\")>,\n",
       " <selenium.webdriver.remote.webelement.WebElement (session=\"649dc61f8e58acaf787b0cd791f3c04b\", element=\"ddbacd10-7e4a-4b19-939e-2211dda109d2\")>]"
      ]
     },
     "execution_count": 46,
     "metadata": {},
     "output_type": "execute_result"
    }
   ],
   "source": [
    "l1=browser.find_elements(\"xpath\",\"//div[@class='location ']\")\n",
    "l1"
   ]
  },
  {
   "cell_type": "code",
   "execution_count": 47,
   "id": "5953f364",
   "metadata": {},
   "outputs": [
    {
     "data": {
      "text/plain": [
       "['Singapore, Singapore',\n",
       " 'Beijing, China (Mainland)',\n",
       " 'Philadelphia, United States',\n",
       " 'Beijing, China (Mainland)',\n",
       " 'Edinburgh, United Kingdom',\n",
       " 'Lausanne, Switzerland',\n",
       " 'Princeton, United States',\n",
       " 'New Haven, United States',\n",
       " 'Singapore, Singapore',\n",
       " 'Ithaca, United States']"
      ]
     },
     "execution_count": 47,
     "metadata": {},
     "output_type": "execute_result"
    }
   ],
   "source": [
    "\n",
    "loc=[]\n",
    "for data in l1:\n",
    "    #get the text data\n",
    "    temp=data.text\n",
    "    loc.append(temp)\n",
    "loc=loc[10:]\n",
    "loc"
   ]
  },
  {
   "cell_type": "code",
   "execution_count": 48,
   "id": "7f0a1737",
   "metadata": {},
   "outputs": [
    {
     "data": {
      "text/plain": [
       "[<selenium.webdriver.remote.webelement.WebElement (session=\"649dc61f8e58acaf787b0cd791f3c04b\", element=\"c4eb918b-a4de-48ac-ad6b-c6647d14aaed\")>,\n",
       " <selenium.webdriver.remote.webelement.WebElement (session=\"649dc61f8e58acaf787b0cd791f3c04b\", element=\"378f5368-c5c9-43c9-b463-4b4dc115a7f3\")>,\n",
       " <selenium.webdriver.remote.webelement.WebElement (session=\"649dc61f8e58acaf787b0cd791f3c04b\", element=\"261b2590-9b2c-4866-a06f-a712f86f0112\")>,\n",
       " <selenium.webdriver.remote.webelement.WebElement (session=\"649dc61f8e58acaf787b0cd791f3c04b\", element=\"d03eac3c-5703-4bdb-862a-0d42cbaa1775\")>,\n",
       " <selenium.webdriver.remote.webelement.WebElement (session=\"649dc61f8e58acaf787b0cd791f3c04b\", element=\"9ac3c5a1-2bd6-4c33-b9af-ce8a22cbbaff\")>,\n",
       " <selenium.webdriver.remote.webelement.WebElement (session=\"649dc61f8e58acaf787b0cd791f3c04b\", element=\"ceb6a2bd-369b-4355-b5c9-423ac74eaee6\")>,\n",
       " <selenium.webdriver.remote.webelement.WebElement (session=\"649dc61f8e58acaf787b0cd791f3c04b\", element=\"58587ec2-c37b-4cd6-a08e-e0c2298e12e1\")>,\n",
       " <selenium.webdriver.remote.webelement.WebElement (session=\"649dc61f8e58acaf787b0cd791f3c04b\", element=\"18212023-b569-48d6-9f56-3cdd09e667ed\")>,\n",
       " <selenium.webdriver.remote.webelement.WebElement (session=\"649dc61f8e58acaf787b0cd791f3c04b\", element=\"87f55966-7c42-4ce4-a311-3515fdb28fe1\")>,\n",
       " <selenium.webdriver.remote.webelement.WebElement (session=\"649dc61f8e58acaf787b0cd791f3c04b\", element=\"ef0b63cd-02b7-492b-a707-b80fa3374ce5\")>]"
      ]
     },
     "execution_count": 48,
     "metadata": {},
     "output_type": "execute_result"
    }
   ],
   "source": [
    "l2=browser.find_elements(\"xpath\",\"//div[@class='_univ-rank ']\")\n",
    "l2"
   ]
  },
  {
   "cell_type": "code",
   "execution_count": 49,
   "id": "6296d964",
   "metadata": {},
   "outputs": [
    {
     "data": {
      "text/plain": [
       "['11', '12', '13', '14', '15', '=16', '=16', '18', '19', '20']"
      ]
     },
     "execution_count": 49,
     "metadata": {},
     "output_type": "execute_result"
    }
   ],
   "source": [
    "RANK=[]\n",
    "for data in l2:\n",
    "    #get the text data\n",
    "    temp=data.text\n",
    "    RANK.append(temp)\n",
    "RANK"
   ]
  },
  {
   "cell_type": "code",
   "execution_count": 50,
   "id": "3026f241",
   "metadata": {},
   "outputs": [
    {
     "data": {
      "text/plain": [
       "[<selenium.webdriver.remote.webelement.WebElement (session=\"649dc61f8e58acaf787b0cd791f3c04b\", element=\"35fcb9eb-1f3c-4381-a92a-57cd8c061928\")>,\n",
       " <selenium.webdriver.remote.webelement.WebElement (session=\"649dc61f8e58acaf787b0cd791f3c04b\", element=\"ff1302df-2271-4fff-a282-c1d389a4acd9\")>,\n",
       " <selenium.webdriver.remote.webelement.WebElement (session=\"649dc61f8e58acaf787b0cd791f3c04b\", element=\"b9081dd1-a09e-4d39-91c0-b9f947711f6e\")>,\n",
       " <selenium.webdriver.remote.webelement.WebElement (session=\"649dc61f8e58acaf787b0cd791f3c04b\", element=\"182fa8f0-2650-4920-b4c8-2a230d9e1292\")>,\n",
       " <selenium.webdriver.remote.webelement.WebElement (session=\"649dc61f8e58acaf787b0cd791f3c04b\", element=\"9e59f41d-1a15-45dd-8851-3490ded15278\")>,\n",
       " <selenium.webdriver.remote.webelement.WebElement (session=\"649dc61f8e58acaf787b0cd791f3c04b\", element=\"65c01e48-4a51-4379-b0c3-62c56ab36e4b\")>,\n",
       " <selenium.webdriver.remote.webelement.WebElement (session=\"649dc61f8e58acaf787b0cd791f3c04b\", element=\"6442c4d9-ab11-4d53-9c3f-f1aac2a753f6\")>,\n",
       " <selenium.webdriver.remote.webelement.WebElement (session=\"649dc61f8e58acaf787b0cd791f3c04b\", element=\"89654dcd-f1d5-46af-9971-15ea4a8d984c\")>,\n",
       " <selenium.webdriver.remote.webelement.WebElement (session=\"649dc61f8e58acaf787b0cd791f3c04b\", element=\"990ac0f6-e93a-4d35-83e0-abd704b956c6\")>]"
      ]
     },
     "execution_count": 50,
     "metadata": {},
     "output_type": "execute_result"
    }
   ],
   "source": [
    "# GET EACH COLLEGE SPECIFICATION HEADERS\n",
    "header=browser.find_elements(\"xpath\",\"//div[@class='_click-function_ind']\")\n",
    "header"
   ]
  },
  {
   "cell_type": "code",
   "execution_count": 51,
   "id": "17f540a6",
   "metadata": {},
   "outputs": [
    {
     "data": {
      "text/plain": [
       "['Overall Score',\n",
       " 'Academic Reputation',\n",
       " 'Employer Reputation',\n",
       " 'Citations per Faculty',\n",
       " 'Faculty Student Ratio',\n",
       " 'International Students Ratio',\n",
       " 'International Faculty Ratio',\n",
       " 'International Research Network\\nUnweighted',\n",
       " 'Employment Outcomes\\nUnweighted']"
      ]
     },
     "execution_count": 51,
     "metadata": {},
     "output_type": "execute_result"
    }
   ],
   "source": [
    "#PARSING DATA\n",
    "column_head=[]\n",
    "for data in header:\n",
    "    #get the text data\n",
    "    temp=data.text\n",
    "    column_head.append(temp)\n",
    "column_head"
   ]
  },
  {
   "cell_type": "code",
   "execution_count": 52,
   "id": "a12b8cbb",
   "metadata": {},
   "outputs": [
    {
     "data": {
      "text/plain": [
       "[<selenium.webdriver.remote.webelement.WebElement (session=\"649dc61f8e58acaf787b0cd791f3c04b\", element=\"6a351111-bbeb-42b0-968f-53ddfc6748f4\")>,\n",
       " <selenium.webdriver.remote.webelement.WebElement (session=\"649dc61f8e58acaf787b0cd791f3c04b\", element=\"68386a9f-69e1-4a94-ae4d-b7390e816c20\")>,\n",
       " <selenium.webdriver.remote.webelement.WebElement (session=\"649dc61f8e58acaf787b0cd791f3c04b\", element=\"87a9c096-dd1f-43ce-b6bc-d5e644f4fb4f\")>,\n",
       " <selenium.webdriver.remote.webelement.WebElement (session=\"649dc61f8e58acaf787b0cd791f3c04b\", element=\"3e605754-84d4-4f08-af56-8336da235e2c\")>,\n",
       " <selenium.webdriver.remote.webelement.WebElement (session=\"649dc61f8e58acaf787b0cd791f3c04b\", element=\"16c049e8-fe01-413e-be92-1495a5f1f02e\")>,\n",
       " <selenium.webdriver.remote.webelement.WebElement (session=\"649dc61f8e58acaf787b0cd791f3c04b\", element=\"ec7d9779-ba70-466d-995c-6d2d164953cd\")>,\n",
       " <selenium.webdriver.remote.webelement.WebElement (session=\"649dc61f8e58acaf787b0cd791f3c04b\", element=\"ac1e301f-a8be-44cf-8fe4-7a427a7564d5\")>,\n",
       " <selenium.webdriver.remote.webelement.WebElement (session=\"649dc61f8e58acaf787b0cd791f3c04b\", element=\"8ad16fbb-1cb2-4e2e-9bc2-15c499aab066\")>,\n",
       " <selenium.webdriver.remote.webelement.WebElement (session=\"649dc61f8e58acaf787b0cd791f3c04b\", element=\"cb50be95-cf31-4b0b-962a-6e4cdd5d1b53\")>,\n",
       " <selenium.webdriver.remote.webelement.WebElement (session=\"649dc61f8e58acaf787b0cd791f3c04b\", element=\"ab0e98de-2924-4c51-ad1a-7465e7021ddb\")>,\n",
       " <selenium.webdriver.remote.webelement.WebElement (session=\"649dc61f8e58acaf787b0cd791f3c04b\", element=\"7e678600-c45e-4681-a597-8a7ad4dc029a\")>,\n",
       " <selenium.webdriver.remote.webelement.WebElement (session=\"649dc61f8e58acaf787b0cd791f3c04b\", element=\"7271a1ef-555b-49a3-a636-b02c297e2122\")>,\n",
       " <selenium.webdriver.remote.webelement.WebElement (session=\"649dc61f8e58acaf787b0cd791f3c04b\", element=\"9a726681-6f8e-4688-b348-5c0018636103\")>,\n",
       " <selenium.webdriver.remote.webelement.WebElement (session=\"649dc61f8e58acaf787b0cd791f3c04b\", element=\"d0c746b9-675b-410a-9ca1-6e5ca073449f\")>,\n",
       " <selenium.webdriver.remote.webelement.WebElement (session=\"649dc61f8e58acaf787b0cd791f3c04b\", element=\"e5aa74ec-67f7-4375-af4f-9cec88d75c81\")>,\n",
       " <selenium.webdriver.remote.webelement.WebElement (session=\"649dc61f8e58acaf787b0cd791f3c04b\", element=\"55c4e8fa-83e3-49a6-890b-66452c7b2c1a\")>,\n",
       " <selenium.webdriver.remote.webelement.WebElement (session=\"649dc61f8e58acaf787b0cd791f3c04b\", element=\"1a6f92ef-33a6-43ab-a465-47b9c87ac7db\")>,\n",
       " <selenium.webdriver.remote.webelement.WebElement (session=\"649dc61f8e58acaf787b0cd791f3c04b\", element=\"0d27dbb7-9549-43ed-a685-071a5b045ec9\")>,\n",
       " <selenium.webdriver.remote.webelement.WebElement (session=\"649dc61f8e58acaf787b0cd791f3c04b\", element=\"e4c4aeea-00e9-49f3-b335-8c1f0454e553\")>,\n",
       " <selenium.webdriver.remote.webelement.WebElement (session=\"649dc61f8e58acaf787b0cd791f3c04b\", element=\"7cddcabc-c4d9-479c-b4d1-1ad2154ee4e6\")>,\n",
       " <selenium.webdriver.remote.webelement.WebElement (session=\"649dc61f8e58acaf787b0cd791f3c04b\", element=\"3b28a7e5-c5a8-4d53-8945-ad3e98c5fbca\")>,\n",
       " <selenium.webdriver.remote.webelement.WebElement (session=\"649dc61f8e58acaf787b0cd791f3c04b\", element=\"e9636387-8731-4c7d-b3d1-2338fdd8e958\")>,\n",
       " <selenium.webdriver.remote.webelement.WebElement (session=\"649dc61f8e58acaf787b0cd791f3c04b\", element=\"6515444f-5891-458e-912c-56b355327e6f\")>,\n",
       " <selenium.webdriver.remote.webelement.WebElement (session=\"649dc61f8e58acaf787b0cd791f3c04b\", element=\"4845833c-c383-4cfa-9167-354b45b06585\")>,\n",
       " <selenium.webdriver.remote.webelement.WebElement (session=\"649dc61f8e58acaf787b0cd791f3c04b\", element=\"32e5763a-14bc-4b9e-91a1-415a11be7808\")>,\n",
       " <selenium.webdriver.remote.webelement.WebElement (session=\"649dc61f8e58acaf787b0cd791f3c04b\", element=\"1cff1e09-b5aa-48f4-9a7a-374458b767f9\")>,\n",
       " <selenium.webdriver.remote.webelement.WebElement (session=\"649dc61f8e58acaf787b0cd791f3c04b\", element=\"63681c5a-67e2-43db-a006-6a8de6a599ab\")>,\n",
       " <selenium.webdriver.remote.webelement.WebElement (session=\"649dc61f8e58acaf787b0cd791f3c04b\", element=\"eeee9d51-79a6-49e8-a841-fe3bb88b5252\")>,\n",
       " <selenium.webdriver.remote.webelement.WebElement (session=\"649dc61f8e58acaf787b0cd791f3c04b\", element=\"1732b26b-809d-4250-8847-8fd7ec2a73d1\")>,\n",
       " <selenium.webdriver.remote.webelement.WebElement (session=\"649dc61f8e58acaf787b0cd791f3c04b\", element=\"c89ad70c-d9e5-4294-89c4-047ded4faed0\")>,\n",
       " <selenium.webdriver.remote.webelement.WebElement (session=\"649dc61f8e58acaf787b0cd791f3c04b\", element=\"16b1e7d0-3229-47c4-9f87-40c659e45a6b\")>,\n",
       " <selenium.webdriver.remote.webelement.WebElement (session=\"649dc61f8e58acaf787b0cd791f3c04b\", element=\"67de9884-c2fd-4e62-aeb9-0e43034a04cd\")>,\n",
       " <selenium.webdriver.remote.webelement.WebElement (session=\"649dc61f8e58acaf787b0cd791f3c04b\", element=\"92bb1fb6-db9f-4c28-9fdb-58a834328b24\")>,\n",
       " <selenium.webdriver.remote.webelement.WebElement (session=\"649dc61f8e58acaf787b0cd791f3c04b\", element=\"ab959f2d-e450-46ac-b5a4-9c5d5314d5bb\")>,\n",
       " <selenium.webdriver.remote.webelement.WebElement (session=\"649dc61f8e58acaf787b0cd791f3c04b\", element=\"fdeccdfa-9a4d-45a9-9128-1945a89f03e9\")>,\n",
       " <selenium.webdriver.remote.webelement.WebElement (session=\"649dc61f8e58acaf787b0cd791f3c04b\", element=\"0698f073-1ea8-4894-992d-1bfe57ce3f3f\")>,\n",
       " <selenium.webdriver.remote.webelement.WebElement (session=\"649dc61f8e58acaf787b0cd791f3c04b\", element=\"0ff67e5c-2ac0-4e63-b800-4866b21fe383\")>,\n",
       " <selenium.webdriver.remote.webelement.WebElement (session=\"649dc61f8e58acaf787b0cd791f3c04b\", element=\"f6db94bf-c1f7-4761-b15e-f4f337eb58a0\")>,\n",
       " <selenium.webdriver.remote.webelement.WebElement (session=\"649dc61f8e58acaf787b0cd791f3c04b\", element=\"ae2e948d-0639-41d2-b941-d3c75a62690b\")>,\n",
       " <selenium.webdriver.remote.webelement.WebElement (session=\"649dc61f8e58acaf787b0cd791f3c04b\", element=\"a95047e6-43c7-49ae-ae13-396b5ad9a9bd\")>,\n",
       " <selenium.webdriver.remote.webelement.WebElement (session=\"649dc61f8e58acaf787b0cd791f3c04b\", element=\"fadee7b9-0488-463a-a026-aa6a7d0c80b2\")>,\n",
       " <selenium.webdriver.remote.webelement.WebElement (session=\"649dc61f8e58acaf787b0cd791f3c04b\", element=\"7b4aea3e-2bce-4979-89f1-fa5e0f73a324\")>,\n",
       " <selenium.webdriver.remote.webelement.WebElement (session=\"649dc61f8e58acaf787b0cd791f3c04b\", element=\"f8f980ea-3f59-4761-b8a9-d5c0e66a25cf\")>,\n",
       " <selenium.webdriver.remote.webelement.WebElement (session=\"649dc61f8e58acaf787b0cd791f3c04b\", element=\"cf1c8bfc-fcaf-4973-90c1-6562b4698218\")>,\n",
       " <selenium.webdriver.remote.webelement.WebElement (session=\"649dc61f8e58acaf787b0cd791f3c04b\", element=\"8b464268-12cc-42b6-9427-5c5cf6f5b18f\")>,\n",
       " <selenium.webdriver.remote.webelement.WebElement (session=\"649dc61f8e58acaf787b0cd791f3c04b\", element=\"0ffcff35-e73d-43c4-a899-3a2bd5d26f27\")>,\n",
       " <selenium.webdriver.remote.webelement.WebElement (session=\"649dc61f8e58acaf787b0cd791f3c04b\", element=\"d9a32669-ca8a-431f-beef-3e917e97ef08\")>,\n",
       " <selenium.webdriver.remote.webelement.WebElement (session=\"649dc61f8e58acaf787b0cd791f3c04b\", element=\"c9233984-a0cb-4b5e-9156-a3713803df08\")>,\n",
       " <selenium.webdriver.remote.webelement.WebElement (session=\"649dc61f8e58acaf787b0cd791f3c04b\", element=\"d014b66e-42c8-49ec-9352-40172c7981d3\")>,\n",
       " <selenium.webdriver.remote.webelement.WebElement (session=\"649dc61f8e58acaf787b0cd791f3c04b\", element=\"ec7be060-1d4b-4233-923c-40747262f486\")>,\n",
       " <selenium.webdriver.remote.webelement.WebElement (session=\"649dc61f8e58acaf787b0cd791f3c04b\", element=\"37738fad-e8d2-4640-9729-99a58692ede9\")>,\n",
       " <selenium.webdriver.remote.webelement.WebElement (session=\"649dc61f8e58acaf787b0cd791f3c04b\", element=\"f2a27b67-d314-4e02-ab34-50d5ae6ab782\")>,\n",
       " <selenium.webdriver.remote.webelement.WebElement (session=\"649dc61f8e58acaf787b0cd791f3c04b\", element=\"d9e35ff8-f51a-4fe8-920b-07aba355b946\")>,\n",
       " <selenium.webdriver.remote.webelement.WebElement (session=\"649dc61f8e58acaf787b0cd791f3c04b\", element=\"8d59837e-2cbe-4358-adeb-ea4054851308\")>,\n",
       " <selenium.webdriver.remote.webelement.WebElement (session=\"649dc61f8e58acaf787b0cd791f3c04b\", element=\"a5b123ff-7e42-4313-9928-76bbf80404d8\")>,\n",
       " <selenium.webdriver.remote.webelement.WebElement (session=\"649dc61f8e58acaf787b0cd791f3c04b\", element=\"ba1a17f5-2a67-4ead-a712-eccda132615b\")>,\n",
       " <selenium.webdriver.remote.webelement.WebElement (session=\"649dc61f8e58acaf787b0cd791f3c04b\", element=\"fa173ec9-ac5c-485d-9b8d-df63c85007b9\")>,\n",
       " <selenium.webdriver.remote.webelement.WebElement (session=\"649dc61f8e58acaf787b0cd791f3c04b\", element=\"524ac853-d3a8-4d97-8b74-ce8fbb61cbd3\")>,\n",
       " <selenium.webdriver.remote.webelement.WebElement (session=\"649dc61f8e58acaf787b0cd791f3c04b\", element=\"9be8b7fc-1c3b-481e-b8eb-a27166213f4a\")>,\n",
       " <selenium.webdriver.remote.webelement.WebElement (session=\"649dc61f8e58acaf787b0cd791f3c04b\", element=\"a44a7cab-de71-40c2-b329-ed858ea46c8b\")>,\n",
       " <selenium.webdriver.remote.webelement.WebElement (session=\"649dc61f8e58acaf787b0cd791f3c04b\", element=\"10e2b2af-dfb0-4c05-989b-63355bb3321a\")>,\n",
       " <selenium.webdriver.remote.webelement.WebElement (session=\"649dc61f8e58acaf787b0cd791f3c04b\", element=\"3bcdf05b-3f64-4609-aad9-def58117c892\")>,\n",
       " <selenium.webdriver.remote.webelement.WebElement (session=\"649dc61f8e58acaf787b0cd791f3c04b\", element=\"55d09629-bb86-47a9-a3df-d6567392f70b\")>,\n",
       " <selenium.webdriver.remote.webelement.WebElement (session=\"649dc61f8e58acaf787b0cd791f3c04b\", element=\"4a021ca5-59e2-4ffa-bad0-243a22ac8977\")>,\n",
       " <selenium.webdriver.remote.webelement.WebElement (session=\"649dc61f8e58acaf787b0cd791f3c04b\", element=\"81ec9a5b-858a-4ef5-9385-3df5b7946d9e\")>,\n",
       " <selenium.webdriver.remote.webelement.WebElement (session=\"649dc61f8e58acaf787b0cd791f3c04b\", element=\"1031f1dc-337e-43f3-a801-95d41b9aba0f\")>,\n",
       " <selenium.webdriver.remote.webelement.WebElement (session=\"649dc61f8e58acaf787b0cd791f3c04b\", element=\"b3fbd825-f519-4634-bad2-691032bf0021\")>,\n",
       " <selenium.webdriver.remote.webelement.WebElement (session=\"649dc61f8e58acaf787b0cd791f3c04b\", element=\"db106217-e4c0-49ff-80b5-47890db76c91\")>,\n",
       " <selenium.webdriver.remote.webelement.WebElement (session=\"649dc61f8e58acaf787b0cd791f3c04b\", element=\"f1c8e7e5-8e30-4572-862d-6ecdfad32235\")>,\n",
       " <selenium.webdriver.remote.webelement.WebElement (session=\"649dc61f8e58acaf787b0cd791f3c04b\", element=\"ae1d148a-4b5c-4e46-a843-166e367c12aa\")>,\n",
       " <selenium.webdriver.remote.webelement.WebElement (session=\"649dc61f8e58acaf787b0cd791f3c04b\", element=\"56f7cc6c-1a11-4679-9b2c-7351ea56075c\")>,\n",
       " <selenium.webdriver.remote.webelement.WebElement (session=\"649dc61f8e58acaf787b0cd791f3c04b\", element=\"b40a2ba2-d0b2-4570-a283-dedfe8391bf4\")>,\n",
       " <selenium.webdriver.remote.webelement.WebElement (session=\"649dc61f8e58acaf787b0cd791f3c04b\", element=\"68d9dc3f-ecd3-4eea-a2b3-3a5537067a1e\")>,\n",
       " <selenium.webdriver.remote.webelement.WebElement (session=\"649dc61f8e58acaf787b0cd791f3c04b\", element=\"97e99369-1c80-41b8-a2f7-4d528139afa5\")>,\n",
       " <selenium.webdriver.remote.webelement.WebElement (session=\"649dc61f8e58acaf787b0cd791f3c04b\", element=\"3ec0e8e1-e5c2-48c1-9b09-e8296f795a73\")>,\n",
       " <selenium.webdriver.remote.webelement.WebElement (session=\"649dc61f8e58acaf787b0cd791f3c04b\", element=\"7e422222-981c-46c0-a353-5bbbeb37ac23\")>,\n",
       " <selenium.webdriver.remote.webelement.WebElement (session=\"649dc61f8e58acaf787b0cd791f3c04b\", element=\"ca4fbb57-6f8f-4464-8ec2-5cb9b2c3e153\")>,\n",
       " <selenium.webdriver.remote.webelement.WebElement (session=\"649dc61f8e58acaf787b0cd791f3c04b\", element=\"d4133348-3c1c-4bac-a74f-8692d47d1cb5\")>,\n",
       " <selenium.webdriver.remote.webelement.WebElement (session=\"649dc61f8e58acaf787b0cd791f3c04b\", element=\"edadec7d-7ad5-476d-9276-a60d4f9a5393\")>,\n",
       " <selenium.webdriver.remote.webelement.WebElement (session=\"649dc61f8e58acaf787b0cd791f3c04b\", element=\"0585b57d-3110-488f-b769-a9f957bf40dc\")>,\n",
       " <selenium.webdriver.remote.webelement.WebElement (session=\"649dc61f8e58acaf787b0cd791f3c04b\", element=\"c77c549c-33ba-4604-95c0-f97090407874\")>,\n",
       " <selenium.webdriver.remote.webelement.WebElement (session=\"649dc61f8e58acaf787b0cd791f3c04b\", element=\"4880f411-6c10-4953-9f80-69a488532a5e\")>,\n",
       " <selenium.webdriver.remote.webelement.WebElement (session=\"649dc61f8e58acaf787b0cd791f3c04b\", element=\"c8cb00f2-1246-4b11-8758-ce6b9acb8ad6\")>,\n",
       " <selenium.webdriver.remote.webelement.WebElement (session=\"649dc61f8e58acaf787b0cd791f3c04b\", element=\"d5d4be93-292b-46b0-8dbe-903426834030\")>,\n",
       " <selenium.webdriver.remote.webelement.WebElement (session=\"649dc61f8e58acaf787b0cd791f3c04b\", element=\"dd5f4733-d84b-4da4-bc26-db12f1562be3\")>,\n",
       " <selenium.webdriver.remote.webelement.WebElement (session=\"649dc61f8e58acaf787b0cd791f3c04b\", element=\"f988b507-093f-4286-9e18-b16bf3eb405b\")>,\n",
       " <selenium.webdriver.remote.webelement.WebElement (session=\"649dc61f8e58acaf787b0cd791f3c04b\", element=\"6df17e80-e96a-41ec-be49-e9f3d10decf0\")>,\n",
       " <selenium.webdriver.remote.webelement.WebElement (session=\"649dc61f8e58acaf787b0cd791f3c04b\", element=\"639a0e7c-e63a-4232-8895-2ce3f97b567a\")>,\n",
       " <selenium.webdriver.remote.webelement.WebElement (session=\"649dc61f8e58acaf787b0cd791f3c04b\", element=\"4d742516-a592-4ba0-a779-b367a7e607e5\")>,\n",
       " <selenium.webdriver.remote.webelement.WebElement (session=\"649dc61f8e58acaf787b0cd791f3c04b\", element=\"9d300278-bfaf-4c4a-9fd0-c322ae515934\")>,\n",
       " <selenium.webdriver.remote.webelement.WebElement (session=\"649dc61f8e58acaf787b0cd791f3c04b\", element=\"cfa279d7-c19b-4a58-b6b8-8ef0287544bb\")>,\n",
       " <selenium.webdriver.remote.webelement.WebElement (session=\"649dc61f8e58acaf787b0cd791f3c04b\", element=\"451869e8-d613-49e3-afb0-d4fb6b4356d2\")>,\n",
       " <selenium.webdriver.remote.webelement.WebElement (session=\"649dc61f8e58acaf787b0cd791f3c04b\", element=\"75faea79-79fd-463e-a592-d61b54d6fbb8\")>,\n",
       " <selenium.webdriver.remote.webelement.WebElement (session=\"649dc61f8e58acaf787b0cd791f3c04b\", element=\"389727bc-ec6d-4650-8ab8-8ca8877c63e0\")>,\n",
       " <selenium.webdriver.remote.webelement.WebElement (session=\"649dc61f8e58acaf787b0cd791f3c04b\", element=\"d111ee76-bbf0-448f-bb7a-3a244ef76498\")>,\n",
       " <selenium.webdriver.remote.webelement.WebElement (session=\"649dc61f8e58acaf787b0cd791f3c04b\", element=\"5edcb6c6-aaae-4797-bbba-a30766fb1d15\")>,\n",
       " <selenium.webdriver.remote.webelement.WebElement (session=\"649dc61f8e58acaf787b0cd791f3c04b\", element=\"e54354ad-1559-4e72-9127-05c7e833d60a\")>,\n",
       " <selenium.webdriver.remote.webelement.WebElement (session=\"649dc61f8e58acaf787b0cd791f3c04b\", element=\"b13a52cd-53c8-40c7-a837-4871afa75825\")>,\n",
       " <selenium.webdriver.remote.webelement.WebElement (session=\"649dc61f8e58acaf787b0cd791f3c04b\", element=\"5101aab4-1b7d-4539-a009-06a4834f231c\")>,\n",
       " <selenium.webdriver.remote.webelement.WebElement (session=\"649dc61f8e58acaf787b0cd791f3c04b\", element=\"85f316c6-53ad-49ce-81c4-44e7e0c2212e\")>]"
      ]
     },
     "execution_count": 52,
     "metadata": {},
     "output_type": "execute_result"
    }
   ],
   "source": [
    "header2=browser.find_elements(\"xpath\",\"//div[@class='td-wrap-in']\")\n",
    "header2"
   ]
  },
  {
   "cell_type": "code",
   "execution_count": 54,
   "id": "f1e2a25b",
   "metadata": {},
   "outputs": [
    {
     "data": {
      "text/plain": [
       "['90.1', '98.9', '97.7', '98.1', '92.8', '25.7', '16.7', '75.5', '87.1']"
      ]
     },
     "execution_count": 54,
     "metadata": {},
     "output_type": "execute_result"
    }
   ],
   "source": [
    "#PARSING DATA\n",
    "value_head=[]\n",
    "for data in header2:\n",
    "    #get the text data\n",
    "    temp=data.text\n",
    "    value_head.append(temp)\n",
    "value=value_head[31:40]\n",
    "value"
   ]
  },
  {
   "cell_type": "code",
   "execution_count": 55,
   "id": "9f156f5c",
   "metadata": {},
   "outputs": [
    {
     "data": {
      "text/plain": [
       "{'Name': 'Tsinghua University',\n",
       " 'Location': 'Beijing, China (Mainland)',\n",
       " 'Rank': '14',\n",
       " 'Overall Score': '90.1',\n",
       " 'Academic Reputation': '98.9',\n",
       " 'Employer Reputation': '97.7',\n",
       " 'Citations per Faculty': '98.1',\n",
       " 'Faculty Student Ratio': '92.8',\n",
       " 'International Students Ratio': '25.7',\n",
       " 'International Faculty Ratio': '16.7',\n",
       " 'International Research Network\\nUnweighted': '75.5',\n",
       " 'Employment Outcomes\\nUnweighted': '87.1'}"
      ]
     },
     "execution_count": 55,
     "metadata": {},
     "output_type": "execute_result"
    }
   ],
   "source": [
    "d={}\n",
    "d['Name']=value_head[30]\n",
    "d['Location']=loc[3]\n",
    "d['Rank']=RANK[3]\n",
    "for i in range(len(column_head)):\n",
    "    d[column_head[i]]=value[i]\n",
    "d"
   ]
  },
  {
   "cell_type": "code",
   "execution_count": 56,
   "id": "29c960e1",
   "metadata": {},
   "outputs": [
    {
     "data": {
      "text/plain": [
       "'{\"Name\": \"Tsinghua University\", \"Location\": \"Beijing, China (Mainland)\", \"Rank\": \"14\", \"Overall Score\": \"90.1\", \"Academic Reputation\": \"98.9\", \"Employer Reputation\": \"97.7\", \"Citations per Faculty\": \"98.1\", \"Faculty Student Ratio\": \"92.8\", \"International Students Ratio\": \"25.7\", \"International Faculty Ratio\": \"16.7\", \"International Research Network\\\\nUnweighted\": \"75.5\", \"Employment Outcomes\\\\nUnweighted\": \"87.1\"}'"
      ]
     },
     "execution_count": 56,
     "metadata": {},
     "output_type": "execute_result"
    }
   ],
   "source": [
    "s1=json.dumps(d)\n",
    "s1"
   ]
  },
  {
   "cell_type": "code",
   "execution_count": 57,
   "id": "34e9bbf7",
   "metadata": {},
   "outputs": [],
   "source": [
    "with open('Tsinghua University.json','w') as f:\n",
    "    json.dump(d,f)"
   ]
  },
  {
   "cell_type": "code",
   "execution_count": null,
   "id": "dd488c69",
   "metadata": {},
   "outputs": [],
   "source": []
  }
 ],
 "metadata": {
  "kernelspec": {
   "display_name": "Python 3 (ipykernel)",
   "language": "python",
   "name": "python3"
  },
  "language_info": {
   "codemirror_mode": {
    "name": "ipython",
    "version": 3
   },
   "file_extension": ".py",
   "mimetype": "text/x-python",
   "name": "python",
   "nbconvert_exporter": "python",
   "pygments_lexer": "ipython3",
   "version": "3.9.12"
  }
 },
 "nbformat": 4,
 "nbformat_minor": 5
}
