{
 "cells": [
  {
   "cell_type": "code",
   "execution_count": 1,
   "id": "42080c10",
   "metadata": {},
   "outputs": [],
   "source": [
    "from selenium import webdriver\n",
    "from selenium.webdriver.chrome.service import Service\n",
    "import pandas as pd\n",
    "import json\n"
   ]
  },
  {
   "cell_type": "code",
   "execution_count": 2,
   "id": "da340101",
   "metadata": {},
   "outputs": [],
   "source": [
    "path = Service('C:\\chromedriver.exe')"
   ]
  },
  {
   "cell_type": "code",
   "execution_count": 3,
   "id": "1212032f",
   "metadata": {},
   "outputs": [],
   "source": [
    "# set path for the driver\n",
    "browser = webdriver.Chrome(service = path)"
   ]
  },
  {
   "cell_type": "code",
   "execution_count": 4,
   "id": "cbd0d31b",
   "metadata": {},
   "outputs": [],
   "source": [
    "url = \"https://www.topuniversities.com/university-rankings/world-university-rankings/2023\""
   ]
  },
  {
   "cell_type": "code",
   "execution_count": 5,
   "id": "7adc2d60",
   "metadata": {},
   "outputs": [],
   "source": [
    "# open the page url ion chrome\n",
    "browser.get(url)"
   ]
  },
  {
   "cell_type": "code",
   "execution_count": 6,
   "id": "878708cf",
   "metadata": {},
   "outputs": [
    {
     "data": {
      "text/plain": [
       "[<selenium.webdriver.remote.webelement.WebElement (session=\"d014ff60fc4e8b1ab1632e61c380a451\", element=\"b05841e2-08b2-4f67-9135-75c9b8fc5a71\")>,\n",
       " <selenium.webdriver.remote.webelement.WebElement (session=\"d014ff60fc4e8b1ab1632e61c380a451\", element=\"e8f254bb-1edb-4e06-aeec-a1c87f74d262\")>,\n",
       " <selenium.webdriver.remote.webelement.WebElement (session=\"d014ff60fc4e8b1ab1632e61c380a451\", element=\"5786446b-45a8-4828-8b49-0d394b5aff3c\")>,\n",
       " <selenium.webdriver.remote.webelement.WebElement (session=\"d014ff60fc4e8b1ab1632e61c380a451\", element=\"d4e6168e-7ee6-4ded-8085-808b91f44522\")>,\n",
       " <selenium.webdriver.remote.webelement.WebElement (session=\"d014ff60fc4e8b1ab1632e61c380a451\", element=\"5715071d-40e0-435b-8777-3b4e02fe92e1\")>,\n",
       " <selenium.webdriver.remote.webelement.WebElement (session=\"d014ff60fc4e8b1ab1632e61c380a451\", element=\"9c5d52ad-e3c0-49f4-a98b-98de226eece8\")>,\n",
       " <selenium.webdriver.remote.webelement.WebElement (session=\"d014ff60fc4e8b1ab1632e61c380a451\", element=\"58990b9c-2069-4f67-8a16-b18a52b779c6\")>,\n",
       " <selenium.webdriver.remote.webelement.WebElement (session=\"d014ff60fc4e8b1ab1632e61c380a451\", element=\"7f5d4d4c-2744-4360-8a62-c291959be8e6\")>,\n",
       " <selenium.webdriver.remote.webelement.WebElement (session=\"d014ff60fc4e8b1ab1632e61c380a451\", element=\"dcb8b0f0-725d-461f-a7ac-f17f623628ec\")>,\n",
       " <selenium.webdriver.remote.webelement.WebElement (session=\"d014ff60fc4e8b1ab1632e61c380a451\", element=\"4f925a3f-2690-4fd0-a1e6-33a21197ddc0\")>,\n",
       " <selenium.webdriver.remote.webelement.WebElement (session=\"d014ff60fc4e8b1ab1632e61c380a451\", element=\"c537d177-9a29-4c51-b625-6a217a2160bc\")>,\n",
       " <selenium.webdriver.remote.webelement.WebElement (session=\"d014ff60fc4e8b1ab1632e61c380a451\", element=\"d789d666-1264-4cf2-9e1a-3b86f1307740\")>,\n",
       " <selenium.webdriver.remote.webelement.WebElement (session=\"d014ff60fc4e8b1ab1632e61c380a451\", element=\"19c39f60-e405-4dd1-a3f7-31aa3a05c652\")>,\n",
       " <selenium.webdriver.remote.webelement.WebElement (session=\"d014ff60fc4e8b1ab1632e61c380a451\", element=\"bcc281dd-39a4-4cc6-b3f8-f4367f384996\")>,\n",
       " <selenium.webdriver.remote.webelement.WebElement (session=\"d014ff60fc4e8b1ab1632e61c380a451\", element=\"448c545b-c09a-4f41-8162-5570f3f2f322\")>,\n",
       " <selenium.webdriver.remote.webelement.WebElement (session=\"d014ff60fc4e8b1ab1632e61c380a451\", element=\"465de828-d84f-4828-93a2-c446519b7a9e\")>,\n",
       " <selenium.webdriver.remote.webelement.WebElement (session=\"d014ff60fc4e8b1ab1632e61c380a451\", element=\"4784516e-6a5e-4ff7-bb78-f03884b6ace3\")>,\n",
       " <selenium.webdriver.remote.webelement.WebElement (session=\"d014ff60fc4e8b1ab1632e61c380a451\", element=\"b954a32c-f462-4c7e-a43a-355f24c65c66\")>,\n",
       " <selenium.webdriver.remote.webelement.WebElement (session=\"d014ff60fc4e8b1ab1632e61c380a451\", element=\"89524e4a-a016-47bd-97bc-b8934a998df3\")>,\n",
       " <selenium.webdriver.remote.webelement.WebElement (session=\"d014ff60fc4e8b1ab1632e61c380a451\", element=\"4f321943-7294-4159-bb02-8e3daa551b6e\")>]"
      ]
     },
     "execution_count": 6,
     "metadata": {},
     "output_type": "execute_result"
    }
   ],
   "source": [
    "l1=browser.find_elements(\"xpath\",\"//div[@class='location ']\")\n",
    "l1\n"
   ]
  },
  {
   "cell_type": "code",
   "execution_count": 7,
   "id": "7b4d3ab4",
   "metadata": {},
   "outputs": [
    {
     "data": {
      "text/plain": [
       "['Sydney, Australia',\n",
       " 'Daejeon, South Korea',\n",
       " 'Hangzhou, China (Mainland)',\n",
       " 'Los Angeles, United States',\n",
       " 'Sydney, Australia',\n",
       " 'Shanghai, China (Mainland)',\n",
       " 'Vancouver, Canada',\n",
       " 'Palaiseau Cedex, France',\n",
       " 'Munich, Germany',\n",
       " 'Durham, United States']"
      ]
     },
     "execution_count": 7,
     "metadata": {},
     "output_type": "execute_result"
    }
   ],
   "source": [
    "loc=[]\n",
    "for data in l1:\n",
    "    #get the text data\n",
    "    temp=data.text\n",
    "    loc.append(temp)\n",
    "loc=loc[10:]\n",
    "loc"
   ]
  },
  {
   "cell_type": "code",
   "execution_count": 8,
   "id": "ed23f140",
   "metadata": {},
   "outputs": [
    {
     "data": {
      "text/plain": [
       "[<selenium.webdriver.remote.webelement.WebElement (session=\"d014ff60fc4e8b1ab1632e61c380a451\", element=\"10650c04-e832-4fe0-a991-52ce5eb36935\")>,\n",
       " <selenium.webdriver.remote.webelement.WebElement (session=\"d014ff60fc4e8b1ab1632e61c380a451\", element=\"6acceda9-3432-4be6-aff9-e52b3c671252\")>,\n",
       " <selenium.webdriver.remote.webelement.WebElement (session=\"d014ff60fc4e8b1ab1632e61c380a451\", element=\"d423c25c-2c86-4a54-a037-eaaa394b0e75\")>,\n",
       " <selenium.webdriver.remote.webelement.WebElement (session=\"d014ff60fc4e8b1ab1632e61c380a451\", element=\"ab986a01-2d73-443a-91c0-ea5bcb06f920\")>,\n",
       " <selenium.webdriver.remote.webelement.WebElement (session=\"d014ff60fc4e8b1ab1632e61c380a451\", element=\"104943ff-de8f-42a8-827e-0771d9566f83\")>,\n",
       " <selenium.webdriver.remote.webelement.WebElement (session=\"d014ff60fc4e8b1ab1632e61c380a451\", element=\"ebd121f5-7d2c-4b0c-9956-6f26700cc0e7\")>,\n",
       " <selenium.webdriver.remote.webelement.WebElement (session=\"d014ff60fc4e8b1ab1632e61c380a451\", element=\"a5d0b387-e9f6-44c8-b97b-d625b8a5b263\")>,\n",
       " <selenium.webdriver.remote.webelement.WebElement (session=\"d014ff60fc4e8b1ab1632e61c380a451\", element=\"d9e5e4b8-13b7-44af-8f5d-6a9cf780d56e\")>,\n",
       " <selenium.webdriver.remote.webelement.WebElement (session=\"d014ff60fc4e8b1ab1632e61c380a451\", element=\"a342ba96-fa67-4dd3-b4a2-9ea21cb77ece\")>,\n",
       " <selenium.webdriver.remote.webelement.WebElement (session=\"d014ff60fc4e8b1ab1632e61c380a451\", element=\"8b785fe8-5be6-4365-b3b9-d06f709b47fc\")>]"
      ]
     },
     "execution_count": 8,
     "metadata": {},
     "output_type": "execute_result"
    }
   ],
   "source": [
    "l2=browser.find_elements(\"xpath\",\"//div[@class='_univ-rank ']\")\n",
    "l2"
   ]
  },
  {
   "cell_type": "code",
   "execution_count": 9,
   "id": "3232eab0",
   "metadata": {},
   "outputs": [
    {
     "data": {
      "text/plain": [
       "['41', '=42', '=42', '44', '45', '46', '47', '48', '49', '=50']"
      ]
     },
     "execution_count": 9,
     "metadata": {},
     "output_type": "execute_result"
    }
   ],
   "source": [
    "RANK=[]\n",
    "for data in l2:\n",
    "    #get the text data\n",
    "    temp=data.text\n",
    "    RANK.append(temp)\n",
    "RANK\n"
   ]
  },
  {
   "cell_type": "code",
   "execution_count": 10,
   "id": "a9b33732",
   "metadata": {},
   "outputs": [
    {
     "data": {
      "text/plain": [
       "[<selenium.webdriver.remote.webelement.WebElement (session=\"d014ff60fc4e8b1ab1632e61c380a451\", element=\"37c7f5c0-460b-4616-983f-779ac68ec5af\")>,\n",
       " <selenium.webdriver.remote.webelement.WebElement (session=\"d014ff60fc4e8b1ab1632e61c380a451\", element=\"8bcd8366-e737-46ae-883e-9fa79de108e1\")>,\n",
       " <selenium.webdriver.remote.webelement.WebElement (session=\"d014ff60fc4e8b1ab1632e61c380a451\", element=\"d82c82b9-5d1f-42ba-a6d4-41eb9f90e08d\")>,\n",
       " <selenium.webdriver.remote.webelement.WebElement (session=\"d014ff60fc4e8b1ab1632e61c380a451\", element=\"abc82a4b-01e9-41c6-b964-e4542924d476\")>,\n",
       " <selenium.webdriver.remote.webelement.WebElement (session=\"d014ff60fc4e8b1ab1632e61c380a451\", element=\"81d5ae6a-37c9-4e00-bce1-f31e75caeabc\")>,\n",
       " <selenium.webdriver.remote.webelement.WebElement (session=\"d014ff60fc4e8b1ab1632e61c380a451\", element=\"5c0c4084-b1af-4d2c-adf3-0ccf8294d8a4\")>,\n",
       " <selenium.webdriver.remote.webelement.WebElement (session=\"d014ff60fc4e8b1ab1632e61c380a451\", element=\"a3310cd7-24ac-4809-b86e-ee4d8b2ba025\")>,\n",
       " <selenium.webdriver.remote.webelement.WebElement (session=\"d014ff60fc4e8b1ab1632e61c380a451\", element=\"16f1db46-cdcc-4126-b0c4-023b025929d6\")>,\n",
       " <selenium.webdriver.remote.webelement.WebElement (session=\"d014ff60fc4e8b1ab1632e61c380a451\", element=\"50bc2ee0-0ab9-4e88-a37b-062da311bb78\")>]"
      ]
     },
     "execution_count": 10,
     "metadata": {},
     "output_type": "execute_result"
    }
   ],
   "source": [
    "# GET EACH COLLEGE SPECIFICATION HEADERS\n",
    "header=browser.find_elements(\"xpath\",\"//div[@class='_click-function_ind']\")\n",
    "header"
   ]
  },
  {
   "cell_type": "code",
   "execution_count": 11,
   "id": "45c21ec7",
   "metadata": {},
   "outputs": [
    {
     "data": {
      "text/plain": [
       "['Overall Score',\n",
       " 'Academic Reputation',\n",
       " 'Employer Reputation',\n",
       " 'Citations per Faculty',\n",
       " 'Faculty Student Ratio',\n",
       " 'International Students Ratio',\n",
       " 'International Faculty Ratio',\n",
       " 'International Research Network\\nUnweighted',\n",
       " 'Employment Outcomes\\nUnweighted']"
      ]
     },
     "execution_count": 11,
     "metadata": {},
     "output_type": "execute_result"
    }
   ],
   "source": [
    "#PARSING DATA\n",
    "column_head=[]\n",
    "for data in header:\n",
    "    #get the text data\n",
    "    temp=data.text\n",
    "    column_head.append(temp)\n",
    "column_head"
   ]
  },
  {
   "cell_type": "code",
   "execution_count": 12,
   "id": "5a792ea1",
   "metadata": {},
   "outputs": [
    {
     "data": {
      "text/plain": [
       "[<selenium.webdriver.remote.webelement.WebElement (session=\"d014ff60fc4e8b1ab1632e61c380a451\", element=\"2971d58b-ede8-47c4-8023-e7734e020c3d\")>,\n",
       " <selenium.webdriver.remote.webelement.WebElement (session=\"d014ff60fc4e8b1ab1632e61c380a451\", element=\"967b53b7-ff1f-4eb4-b4c1-ee3d0a0ae7b0\")>,\n",
       " <selenium.webdriver.remote.webelement.WebElement (session=\"d014ff60fc4e8b1ab1632e61c380a451\", element=\"fa290ff6-524e-44dc-b959-20ca46af9f96\")>,\n",
       " <selenium.webdriver.remote.webelement.WebElement (session=\"d014ff60fc4e8b1ab1632e61c380a451\", element=\"5dbfff91-adf9-4c84-9d8c-62650abb78c9\")>,\n",
       " <selenium.webdriver.remote.webelement.WebElement (session=\"d014ff60fc4e8b1ab1632e61c380a451\", element=\"506a4b0a-9180-41a1-8131-69d6779cf404\")>,\n",
       " <selenium.webdriver.remote.webelement.WebElement (session=\"d014ff60fc4e8b1ab1632e61c380a451\", element=\"df170482-c8e2-4230-985c-4991824a5579\")>,\n",
       " <selenium.webdriver.remote.webelement.WebElement (session=\"d014ff60fc4e8b1ab1632e61c380a451\", element=\"98e75d6c-94ba-443e-af1c-cd93e5ea4df7\")>,\n",
       " <selenium.webdriver.remote.webelement.WebElement (session=\"d014ff60fc4e8b1ab1632e61c380a451\", element=\"081979cb-d879-4746-977e-0e1d3d9179a1\")>,\n",
       " <selenium.webdriver.remote.webelement.WebElement (session=\"d014ff60fc4e8b1ab1632e61c380a451\", element=\"529c1673-6e5f-4bab-8fb2-649b0543e0d6\")>,\n",
       " <selenium.webdriver.remote.webelement.WebElement (session=\"d014ff60fc4e8b1ab1632e61c380a451\", element=\"f9b67921-245f-4eff-a937-2e182d2d9823\")>,\n",
       " <selenium.webdriver.remote.webelement.WebElement (session=\"d014ff60fc4e8b1ab1632e61c380a451\", element=\"216fa6cc-48a1-4ed9-a9b2-8daa6b153db2\")>,\n",
       " <selenium.webdriver.remote.webelement.WebElement (session=\"d014ff60fc4e8b1ab1632e61c380a451\", element=\"216ec887-2daf-4732-8b75-05b406be20a4\")>,\n",
       " <selenium.webdriver.remote.webelement.WebElement (session=\"d014ff60fc4e8b1ab1632e61c380a451\", element=\"4a2f9783-9689-4c56-9640-f68bb6c573f6\")>,\n",
       " <selenium.webdriver.remote.webelement.WebElement (session=\"d014ff60fc4e8b1ab1632e61c380a451\", element=\"29d06802-b166-4050-af64-cb1134a26f14\")>,\n",
       " <selenium.webdriver.remote.webelement.WebElement (session=\"d014ff60fc4e8b1ab1632e61c380a451\", element=\"e1cac65d-ddde-4814-b5f0-f67a205e1a07\")>,\n",
       " <selenium.webdriver.remote.webelement.WebElement (session=\"d014ff60fc4e8b1ab1632e61c380a451\", element=\"9ec8a2f7-c989-4977-ab56-695412aa123b\")>,\n",
       " <selenium.webdriver.remote.webelement.WebElement (session=\"d014ff60fc4e8b1ab1632e61c380a451\", element=\"c89044d8-cb81-400d-9839-c20725335231\")>,\n",
       " <selenium.webdriver.remote.webelement.WebElement (session=\"d014ff60fc4e8b1ab1632e61c380a451\", element=\"9ba3bf35-54f5-4b0e-a5a5-2f6c0c7e14c0\")>,\n",
       " <selenium.webdriver.remote.webelement.WebElement (session=\"d014ff60fc4e8b1ab1632e61c380a451\", element=\"1ff50840-dffa-45a2-ba7e-418b56730ad2\")>,\n",
       " <selenium.webdriver.remote.webelement.WebElement (session=\"d014ff60fc4e8b1ab1632e61c380a451\", element=\"80a2aade-05de-4430-bb65-cab07352c388\")>,\n",
       " <selenium.webdriver.remote.webelement.WebElement (session=\"d014ff60fc4e8b1ab1632e61c380a451\", element=\"0860ada6-139e-4d8f-8199-5e7b64a588fe\")>,\n",
       " <selenium.webdriver.remote.webelement.WebElement (session=\"d014ff60fc4e8b1ab1632e61c380a451\", element=\"38885a4e-512f-4cfa-88b1-0822d309ca32\")>,\n",
       " <selenium.webdriver.remote.webelement.WebElement (session=\"d014ff60fc4e8b1ab1632e61c380a451\", element=\"cd66ae24-1923-46ce-96ce-ebd23b679da9\")>,\n",
       " <selenium.webdriver.remote.webelement.WebElement (session=\"d014ff60fc4e8b1ab1632e61c380a451\", element=\"ac184bd2-8ebe-4959-9219-327842e4ea69\")>,\n",
       " <selenium.webdriver.remote.webelement.WebElement (session=\"d014ff60fc4e8b1ab1632e61c380a451\", element=\"673bc962-35e6-4a16-89aa-0c4be829a743\")>,\n",
       " <selenium.webdriver.remote.webelement.WebElement (session=\"d014ff60fc4e8b1ab1632e61c380a451\", element=\"59108b60-8b92-47e4-9363-0eb50b6897c1\")>,\n",
       " <selenium.webdriver.remote.webelement.WebElement (session=\"d014ff60fc4e8b1ab1632e61c380a451\", element=\"f81cb00f-e242-4fb6-97ff-929bbc2f15a4\")>,\n",
       " <selenium.webdriver.remote.webelement.WebElement (session=\"d014ff60fc4e8b1ab1632e61c380a451\", element=\"9a03986d-d5b7-4155-8908-79426f785555\")>,\n",
       " <selenium.webdriver.remote.webelement.WebElement (session=\"d014ff60fc4e8b1ab1632e61c380a451\", element=\"00292e88-c2f6-4f73-907a-c05d9093807d\")>,\n",
       " <selenium.webdriver.remote.webelement.WebElement (session=\"d014ff60fc4e8b1ab1632e61c380a451\", element=\"68e57eb0-eb22-4e1b-ae7f-e6a0157412c6\")>,\n",
       " <selenium.webdriver.remote.webelement.WebElement (session=\"d014ff60fc4e8b1ab1632e61c380a451\", element=\"879b3d58-c216-431e-a78e-555b3a537d53\")>,\n",
       " <selenium.webdriver.remote.webelement.WebElement (session=\"d014ff60fc4e8b1ab1632e61c380a451\", element=\"22472346-6339-43cd-8541-3f1495e209d6\")>,\n",
       " <selenium.webdriver.remote.webelement.WebElement (session=\"d014ff60fc4e8b1ab1632e61c380a451\", element=\"7349bd3b-4860-4ecd-8c7a-ec4a88aa45bc\")>,\n",
       " <selenium.webdriver.remote.webelement.WebElement (session=\"d014ff60fc4e8b1ab1632e61c380a451\", element=\"81d65b74-b000-43c4-a20b-93484bbe74c3\")>,\n",
       " <selenium.webdriver.remote.webelement.WebElement (session=\"d014ff60fc4e8b1ab1632e61c380a451\", element=\"416cac29-0ca5-46e5-9c3b-346b6e95a797\")>,\n",
       " <selenium.webdriver.remote.webelement.WebElement (session=\"d014ff60fc4e8b1ab1632e61c380a451\", element=\"2942fb0d-6165-4848-a332-a9989d46db9d\")>,\n",
       " <selenium.webdriver.remote.webelement.WebElement (session=\"d014ff60fc4e8b1ab1632e61c380a451\", element=\"54a98a2b-c939-451a-ac53-a24ea9da5c42\")>,\n",
       " <selenium.webdriver.remote.webelement.WebElement (session=\"d014ff60fc4e8b1ab1632e61c380a451\", element=\"9adc526c-904c-470e-bd6a-8687916280b1\")>,\n",
       " <selenium.webdriver.remote.webelement.WebElement (session=\"d014ff60fc4e8b1ab1632e61c380a451\", element=\"94b66650-bfee-4e86-90e7-ff17ddd7d641\")>,\n",
       " <selenium.webdriver.remote.webelement.WebElement (session=\"d014ff60fc4e8b1ab1632e61c380a451\", element=\"63865627-0c47-4236-8d30-df582d7910d5\")>,\n",
       " <selenium.webdriver.remote.webelement.WebElement (session=\"d014ff60fc4e8b1ab1632e61c380a451\", element=\"0d3721a0-224c-4588-a161-ba45bf907dc3\")>,\n",
       " <selenium.webdriver.remote.webelement.WebElement (session=\"d014ff60fc4e8b1ab1632e61c380a451\", element=\"c1659c11-3a83-4cec-99e0-085992a244ff\")>,\n",
       " <selenium.webdriver.remote.webelement.WebElement (session=\"d014ff60fc4e8b1ab1632e61c380a451\", element=\"36a2dab8-6016-4a8f-8927-85d572e222ad\")>,\n",
       " <selenium.webdriver.remote.webelement.WebElement (session=\"d014ff60fc4e8b1ab1632e61c380a451\", element=\"ed9893f7-4ec9-4590-ba80-cf7011a7cec2\")>,\n",
       " <selenium.webdriver.remote.webelement.WebElement (session=\"d014ff60fc4e8b1ab1632e61c380a451\", element=\"5daefb87-ade2-40e9-9424-2a5fa36d1ade\")>,\n",
       " <selenium.webdriver.remote.webelement.WebElement (session=\"d014ff60fc4e8b1ab1632e61c380a451\", element=\"f7bf404d-5d95-4852-b816-2ac2cdda1a2c\")>,\n",
       " <selenium.webdriver.remote.webelement.WebElement (session=\"d014ff60fc4e8b1ab1632e61c380a451\", element=\"d794fc87-2ef6-4d50-b4a7-b15f4fb95a5f\")>,\n",
       " <selenium.webdriver.remote.webelement.WebElement (session=\"d014ff60fc4e8b1ab1632e61c380a451\", element=\"ec4880ac-ef10-401b-9dc9-73feb8efcec8\")>,\n",
       " <selenium.webdriver.remote.webelement.WebElement (session=\"d014ff60fc4e8b1ab1632e61c380a451\", element=\"67d08f75-d2d1-4f96-83cb-e0fe8758d049\")>,\n",
       " <selenium.webdriver.remote.webelement.WebElement (session=\"d014ff60fc4e8b1ab1632e61c380a451\", element=\"e3783832-8da8-4438-a8a2-1ed25657f0f3\")>,\n",
       " <selenium.webdriver.remote.webelement.WebElement (session=\"d014ff60fc4e8b1ab1632e61c380a451\", element=\"56aadfee-8446-4c6e-8047-68b04b79ce1c\")>,\n",
       " <selenium.webdriver.remote.webelement.WebElement (session=\"d014ff60fc4e8b1ab1632e61c380a451\", element=\"77c0ee5a-1d11-4dc7-aecc-534b4ad96321\")>,\n",
       " <selenium.webdriver.remote.webelement.WebElement (session=\"d014ff60fc4e8b1ab1632e61c380a451\", element=\"005fd8fb-73f1-4e01-9465-d2bb6589f531\")>,\n",
       " <selenium.webdriver.remote.webelement.WebElement (session=\"d014ff60fc4e8b1ab1632e61c380a451\", element=\"dc22bc51-f38f-4ab9-ab84-6d0d484f0c58\")>,\n",
       " <selenium.webdriver.remote.webelement.WebElement (session=\"d014ff60fc4e8b1ab1632e61c380a451\", element=\"a7dc57b8-a034-414f-92ed-26e02fe8e604\")>,\n",
       " <selenium.webdriver.remote.webelement.WebElement (session=\"d014ff60fc4e8b1ab1632e61c380a451\", element=\"2b09703f-f234-49d2-8cd9-118ec49c7f85\")>,\n",
       " <selenium.webdriver.remote.webelement.WebElement (session=\"d014ff60fc4e8b1ab1632e61c380a451\", element=\"3790d34e-5e2f-4f3a-a6f1-e3ebe8785e2b\")>,\n",
       " <selenium.webdriver.remote.webelement.WebElement (session=\"d014ff60fc4e8b1ab1632e61c380a451\", element=\"1f38d914-f8f7-4c98-8b07-ede03a486877\")>,\n",
       " <selenium.webdriver.remote.webelement.WebElement (session=\"d014ff60fc4e8b1ab1632e61c380a451\", element=\"8c59518e-8daf-4043-957f-57fe4bf45a8a\")>,\n",
       " <selenium.webdriver.remote.webelement.WebElement (session=\"d014ff60fc4e8b1ab1632e61c380a451\", element=\"28f003d0-5da5-4963-a0cd-9b4b6bcd861d\")>,\n",
       " <selenium.webdriver.remote.webelement.WebElement (session=\"d014ff60fc4e8b1ab1632e61c380a451\", element=\"2a654314-50d2-46d8-b891-619958fbfe3f\")>,\n",
       " <selenium.webdriver.remote.webelement.WebElement (session=\"d014ff60fc4e8b1ab1632e61c380a451\", element=\"5284fbac-0c4f-4d12-916b-a46d78b1ca9b\")>,\n",
       " <selenium.webdriver.remote.webelement.WebElement (session=\"d014ff60fc4e8b1ab1632e61c380a451\", element=\"a2710dea-f05c-4497-b8c0-8b2033ca7b34\")>,\n",
       " <selenium.webdriver.remote.webelement.WebElement (session=\"d014ff60fc4e8b1ab1632e61c380a451\", element=\"4422f848-d13a-493b-b16b-2400fe4b21d6\")>,\n",
       " <selenium.webdriver.remote.webelement.WebElement (session=\"d014ff60fc4e8b1ab1632e61c380a451\", element=\"26186efa-9b9f-42ad-8c40-14e5133a8db0\")>,\n",
       " <selenium.webdriver.remote.webelement.WebElement (session=\"d014ff60fc4e8b1ab1632e61c380a451\", element=\"d48c426a-9cc2-48ff-a01f-b3ad219785df\")>,\n",
       " <selenium.webdriver.remote.webelement.WebElement (session=\"d014ff60fc4e8b1ab1632e61c380a451\", element=\"84f267ac-4747-4b40-a227-751080794d61\")>,\n",
       " <selenium.webdriver.remote.webelement.WebElement (session=\"d014ff60fc4e8b1ab1632e61c380a451\", element=\"1192a683-0415-4225-a6df-036c58eaad19\")>,\n",
       " <selenium.webdriver.remote.webelement.WebElement (session=\"d014ff60fc4e8b1ab1632e61c380a451\", element=\"2279dba1-0dc9-4a64-8b39-3a8efcb42683\")>,\n",
       " <selenium.webdriver.remote.webelement.WebElement (session=\"d014ff60fc4e8b1ab1632e61c380a451\", element=\"d51c1118-829e-4056-8eb6-e3d3b2cd12f7\")>,\n",
       " <selenium.webdriver.remote.webelement.WebElement (session=\"d014ff60fc4e8b1ab1632e61c380a451\", element=\"e244a05d-90e4-4076-b6e5-f3ba1c3a8b38\")>,\n",
       " <selenium.webdriver.remote.webelement.WebElement (session=\"d014ff60fc4e8b1ab1632e61c380a451\", element=\"78a521a1-0bd3-40f0-bf6a-93f241e42216\")>,\n",
       " <selenium.webdriver.remote.webelement.WebElement (session=\"d014ff60fc4e8b1ab1632e61c380a451\", element=\"8302c419-cb8a-421d-955c-2f420bfed174\")>,\n",
       " <selenium.webdriver.remote.webelement.WebElement (session=\"d014ff60fc4e8b1ab1632e61c380a451\", element=\"ee332d38-d89f-4a4d-a486-1c9a60832688\")>,\n",
       " <selenium.webdriver.remote.webelement.WebElement (session=\"d014ff60fc4e8b1ab1632e61c380a451\", element=\"f0d69756-2e84-4a32-b89d-e715fdfb0ecf\")>,\n",
       " <selenium.webdriver.remote.webelement.WebElement (session=\"d014ff60fc4e8b1ab1632e61c380a451\", element=\"f5d90183-4d16-4d42-85bb-547e218a0ffb\")>,\n",
       " <selenium.webdriver.remote.webelement.WebElement (session=\"d014ff60fc4e8b1ab1632e61c380a451\", element=\"32e6af90-4a48-4aa4-8b4e-97c13d597583\")>,\n",
       " <selenium.webdriver.remote.webelement.WebElement (session=\"d014ff60fc4e8b1ab1632e61c380a451\", element=\"5748e8b4-3e55-4f84-83c5-fc1dccb845a3\")>,\n",
       " <selenium.webdriver.remote.webelement.WebElement (session=\"d014ff60fc4e8b1ab1632e61c380a451\", element=\"ab0d5017-311d-419c-8346-b9a2d9fde193\")>,\n",
       " <selenium.webdriver.remote.webelement.WebElement (session=\"d014ff60fc4e8b1ab1632e61c380a451\", element=\"47167e74-092b-4560-a08a-0ee34c49d705\")>,\n",
       " <selenium.webdriver.remote.webelement.WebElement (session=\"d014ff60fc4e8b1ab1632e61c380a451\", element=\"1ffe9168-ca41-419c-8511-85a57619c742\")>,\n",
       " <selenium.webdriver.remote.webelement.WebElement (session=\"d014ff60fc4e8b1ab1632e61c380a451\", element=\"75f65b51-2f83-45a3-aca8-380f4aa3c4af\")>,\n",
       " <selenium.webdriver.remote.webelement.WebElement (session=\"d014ff60fc4e8b1ab1632e61c380a451\", element=\"8a43b6c0-c897-42cd-b657-59f144100dfc\")>,\n",
       " <selenium.webdriver.remote.webelement.WebElement (session=\"d014ff60fc4e8b1ab1632e61c380a451\", element=\"f9d49bcc-79fe-402d-9ea3-4aa4ba7e4948\")>,\n",
       " <selenium.webdriver.remote.webelement.WebElement (session=\"d014ff60fc4e8b1ab1632e61c380a451\", element=\"6ff738e3-dd83-4ef7-ab97-75726b44a68e\")>,\n",
       " <selenium.webdriver.remote.webelement.WebElement (session=\"d014ff60fc4e8b1ab1632e61c380a451\", element=\"06bc3849-620e-4154-a5b7-d1967e6ab6f0\")>,\n",
       " <selenium.webdriver.remote.webelement.WebElement (session=\"d014ff60fc4e8b1ab1632e61c380a451\", element=\"cee98bad-00d0-4bfa-b2a4-9b636ddbe78d\")>,\n",
       " <selenium.webdriver.remote.webelement.WebElement (session=\"d014ff60fc4e8b1ab1632e61c380a451\", element=\"b333a3a3-05dd-4527-a779-e36b8c53a2e3\")>,\n",
       " <selenium.webdriver.remote.webelement.WebElement (session=\"d014ff60fc4e8b1ab1632e61c380a451\", element=\"3a7287f8-00f7-4368-893f-97675d596e5c\")>,\n",
       " <selenium.webdriver.remote.webelement.WebElement (session=\"d014ff60fc4e8b1ab1632e61c380a451\", element=\"98ae75c4-eaee-458c-a2bb-1e38e9ce4f1f\")>,\n",
       " <selenium.webdriver.remote.webelement.WebElement (session=\"d014ff60fc4e8b1ab1632e61c380a451\", element=\"4adce14c-60f4-4c64-a7f8-1472a3ec0027\")>,\n",
       " <selenium.webdriver.remote.webelement.WebElement (session=\"d014ff60fc4e8b1ab1632e61c380a451\", element=\"fdf72c07-ce07-40b7-91dd-6e2b892489c0\")>,\n",
       " <selenium.webdriver.remote.webelement.WebElement (session=\"d014ff60fc4e8b1ab1632e61c380a451\", element=\"9d30268b-5f07-4c2d-a136-576d2691a3d3\")>,\n",
       " <selenium.webdriver.remote.webelement.WebElement (session=\"d014ff60fc4e8b1ab1632e61c380a451\", element=\"ddd1886f-8e67-4f54-ab15-fc5b445379d3\")>,\n",
       " <selenium.webdriver.remote.webelement.WebElement (session=\"d014ff60fc4e8b1ab1632e61c380a451\", element=\"46da4ff1-000f-49e7-b8c3-156621bb6f19\")>,\n",
       " <selenium.webdriver.remote.webelement.WebElement (session=\"d014ff60fc4e8b1ab1632e61c380a451\", element=\"872d0291-7bc7-4e38-957a-84a181832b39\")>,\n",
       " <selenium.webdriver.remote.webelement.WebElement (session=\"d014ff60fc4e8b1ab1632e61c380a451\", element=\"01574663-5cf7-4350-a003-8dc3e743eda3\")>,\n",
       " <selenium.webdriver.remote.webelement.WebElement (session=\"d014ff60fc4e8b1ab1632e61c380a451\", element=\"79464b15-8834-4911-97d2-ce9688ec2ae8\")>,\n",
       " <selenium.webdriver.remote.webelement.WebElement (session=\"d014ff60fc4e8b1ab1632e61c380a451\", element=\"989a4023-fc47-4584-af5b-b476af55dd9c\")>,\n",
       " <selenium.webdriver.remote.webelement.WebElement (session=\"d014ff60fc4e8b1ab1632e61c380a451\", element=\"9982ee9f-4613-4d7b-83e4-982bf383c091\")>]"
      ]
     },
     "execution_count": 12,
     "metadata": {},
     "output_type": "execute_result"
    }
   ],
   "source": [
    "\n",
    "header2=browser.find_elements(\"xpath\",\"//div[@class='td-wrap-in']\")\n",
    "header2"
   ]
  },
  {
   "cell_type": "code",
   "execution_count": 13,
   "id": "76fb6cee",
   "metadata": {},
   "outputs": [
    {
     "data": {
      "text/plain": [
       "['76.4', '84', '96.8', '25.8', '96.4', '95', '70.3', '91.8', '37.5']"
      ]
     },
     "execution_count": 13,
     "metadata": {},
     "output_type": "execute_result"
    }
   ],
   "source": [
    "\n",
    "#PARSING DATA\n",
    "value_head=[]\n",
    "for data in header2:\n",
    "    #get the text data\n",
    "    temp=data.text\n",
    "    value_head.append(temp)\n",
    "value=value_head[81:90]\n",
    "value\n"
   ]
  },
  {
   "cell_type": "code",
   "execution_count": 14,
   "id": "417b927b",
   "metadata": {},
   "outputs": [
    {
     "data": {
      "text/plain": [
       "{'Name': 'Technical University of Munich',\n",
       " 'Location': 'Munich, Germany',\n",
       " 'Rank': '49',\n",
       " 'Overall Score': '76.4',\n",
       " 'Academic Reputation': '84',\n",
       " 'Employer Reputation': '96.8',\n",
       " 'Citations per Faculty': '25.8',\n",
       " 'Faculty Student Ratio': '96.4',\n",
       " 'International Students Ratio': '95',\n",
       " 'International Faculty Ratio': '70.3',\n",
       " 'International Research Network\\nUnweighted': '91.8',\n",
       " 'Employment Outcomes\\nUnweighted': '37.5'}"
      ]
     },
     "execution_count": 14,
     "metadata": {},
     "output_type": "execute_result"
    }
   ],
   "source": [
    "d={}\n",
    "d['Name']=value_head[80]\n",
    "d['Location']=loc[8]\n",
    "d['Rank']=RANK[8]\n",
    "\n",
    "for i in range(len(column_head)):\n",
    "    d[column_head[i]]=value[i]\n",
    "d\n"
   ]
  },
  {
   "cell_type": "code",
   "execution_count": 15,
   "id": "c10f9c3a",
   "metadata": {},
   "outputs": [
    {
     "data": {
      "text/plain": [
       "'{\"Name\": \"Technical University of Munich\", \"Location\": \"Munich, Germany\", \"Rank\": \"49\", \"Overall Score\": \"76.4\", \"Academic Reputation\": \"84\", \"Employer Reputation\": \"96.8\", \"Citations per Faculty\": \"25.8\", \"Faculty Student Ratio\": \"96.4\", \"International Students Ratio\": \"95\", \"International Faculty Ratio\": \"70.3\", \"International Research Network\\\\nUnweighted\": \"91.8\", \"Employment Outcomes\\\\nUnweighted\": \"37.5\"}'"
      ]
     },
     "execution_count": 15,
     "metadata": {},
     "output_type": "execute_result"
    }
   ],
   "source": [
    "s1=json.dumps(d)\n",
    "s1"
   ]
  },
  {
   "cell_type": "code",
   "execution_count": 16,
   "id": "cb2976a8",
   "metadata": {},
   "outputs": [],
   "source": [
    "with open('Technical University of Munich.json','w') as f:\n",
    "    json.dump(d,f)\n"
   ]
  },
  {
   "cell_type": "code",
   "execution_count": null,
   "id": "7808021a",
   "metadata": {},
   "outputs": [],
   "source": []
  }
 ],
 "metadata": {
  "kernelspec": {
   "display_name": "Python 3 (ipykernel)",
   "language": "python",
   "name": "python3"
  },
  "language_info": {
   "codemirror_mode": {
    "name": "ipython",
    "version": 3
   },
   "file_extension": ".py",
   "mimetype": "text/x-python",
   "name": "python",
   "nbconvert_exporter": "python",
   "pygments_lexer": "ipython3",
   "version": "3.9.12"
  }
 },
 "nbformat": 4,
 "nbformat_minor": 5
}
