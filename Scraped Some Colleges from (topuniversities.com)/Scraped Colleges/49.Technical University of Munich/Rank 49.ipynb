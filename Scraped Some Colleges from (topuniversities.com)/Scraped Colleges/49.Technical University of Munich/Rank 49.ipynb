{
 "cells": [
  {
   "cell_type": "code",
   "execution_count": 1,
   "id": "42080c10",
   "metadata": {},
   "outputs": [],
   "source": [
    "from selenium import webdriver\n",
    "from selenium.webdriver.chrome.service import Service\n",
    "import pandas as pd\n",
    "import json\n"
   ]
  },
  {
   "cell_type": "code",
   "execution_count": 2,
   "id": "da340101",
   "metadata": {},
   "outputs": [],
   "source": [
    "path = Service('C:\\chromedriver.exe')"
   ]
  },
  {
   "cell_type": "code",
   "execution_count": 3,
   "id": "1212032f",
   "metadata": {},
   "outputs": [],
   "source": [
    "# set path for the driver\n",
    "browser = webdriver.Chrome(service = path)"
   ]
  },
  {
   "cell_type": "code",
   "execution_count": 4,
   "id": "cbd0d31b",
   "metadata": {},
   "outputs": [],
   "source": [
    "url = \"https://www.topuniversities.com/university-rankings/world-university-rankings/2023\""
   ]
  },
  {
   "cell_type": "code",
   "execution_count": 6,
   "id": "7adc2d60",
   "metadata": {},
   "outputs": [],
   "source": [
    "# open the page url ion chrome\n",
    "browser.get(url)"
   ]
  },
  {
   "cell_type": "code",
   "execution_count": 7,
   "id": "a9b33732",
   "metadata": {},
   "outputs": [
    {
     "data": {
      "text/plain": [
       "[<selenium.webdriver.remote.webelement.WebElement (session=\"a78fca76a3a40e20d12eba00142fa5bf\", element=\"6dbe26b6-606e-446c-94f9-655e0479ea57\")>,\n",
       " <selenium.webdriver.remote.webelement.WebElement (session=\"a78fca76a3a40e20d12eba00142fa5bf\", element=\"57d08803-541a-48b7-aefb-56c326dbb263\")>,\n",
       " <selenium.webdriver.remote.webelement.WebElement (session=\"a78fca76a3a40e20d12eba00142fa5bf\", element=\"e19e4b55-5574-48e7-9b20-0997cef90a5f\")>,\n",
       " <selenium.webdriver.remote.webelement.WebElement (session=\"a78fca76a3a40e20d12eba00142fa5bf\", element=\"a325b9af-53fb-4df4-9da0-63533c7c3577\")>,\n",
       " <selenium.webdriver.remote.webelement.WebElement (session=\"a78fca76a3a40e20d12eba00142fa5bf\", element=\"bd1f880e-1f7a-4401-9d55-db11c4b46d23\")>,\n",
       " <selenium.webdriver.remote.webelement.WebElement (session=\"a78fca76a3a40e20d12eba00142fa5bf\", element=\"8f1f0807-d979-4650-9a42-13c52b1b4267\")>,\n",
       " <selenium.webdriver.remote.webelement.WebElement (session=\"a78fca76a3a40e20d12eba00142fa5bf\", element=\"8be9139e-f611-43be-9c49-e287111ec69b\")>,\n",
       " <selenium.webdriver.remote.webelement.WebElement (session=\"a78fca76a3a40e20d12eba00142fa5bf\", element=\"252335bc-d2db-4470-9c18-7e9c8854223c\")>,\n",
       " <selenium.webdriver.remote.webelement.WebElement (session=\"a78fca76a3a40e20d12eba00142fa5bf\", element=\"66583463-2b70-4bfc-a1f8-db7e11201490\")>]"
      ]
     },
     "execution_count": 7,
     "metadata": {},
     "output_type": "execute_result"
    }
   ],
   "source": [
    "# GET EACH COLLEGE SPECIFICATION HEADERS\n",
    "header=browser.find_elements(\"xpath\",\"//div[@class='_click-function_ind']\")\n",
    "header"
   ]
  },
  {
   "cell_type": "code",
   "execution_count": 8,
   "id": "45c21ec7",
   "metadata": {},
   "outputs": [
    {
     "data": {
      "text/plain": [
       "['Overall Score',\n",
       " 'Academic Reputation',\n",
       " 'Employer Reputation',\n",
       " 'Citations per Faculty',\n",
       " 'Faculty Student Ratio',\n",
       " 'International Students Ratio',\n",
       " 'International Faculty Ratio',\n",
       " 'International Research Network\\nUnweighted',\n",
       " 'Employment Outcomes\\nUnweighted']"
      ]
     },
     "execution_count": 8,
     "metadata": {},
     "output_type": "execute_result"
    }
   ],
   "source": [
    "#PARSING DATA\n",
    "column_head=[]\n",
    "for data in header:\n",
    "    #get the text data\n",
    "    temp=data.text\n",
    "    column_head.append(temp)\n",
    "column_head"
   ]
  },
  {
   "cell_type": "code",
   "execution_count": 9,
   "id": "5a792ea1",
   "metadata": {},
   "outputs": [
    {
     "data": {
      "text/plain": [
       "[<selenium.webdriver.remote.webelement.WebElement (session=\"a78fca76a3a40e20d12eba00142fa5bf\", element=\"7b17a691-1ae1-44a2-9e3a-070f109544b9\")>,\n",
       " <selenium.webdriver.remote.webelement.WebElement (session=\"a78fca76a3a40e20d12eba00142fa5bf\", element=\"06dc973d-55c5-4048-beef-fe1dd57e2c32\")>,\n",
       " <selenium.webdriver.remote.webelement.WebElement (session=\"a78fca76a3a40e20d12eba00142fa5bf\", element=\"cd4b7b37-ce12-47c1-9bed-18f69da603bc\")>,\n",
       " <selenium.webdriver.remote.webelement.WebElement (session=\"a78fca76a3a40e20d12eba00142fa5bf\", element=\"23369f7a-20f1-48fc-969d-dd58fadec758\")>,\n",
       " <selenium.webdriver.remote.webelement.WebElement (session=\"a78fca76a3a40e20d12eba00142fa5bf\", element=\"d6556a37-3b89-47a9-b590-2d9de4a30feb\")>,\n",
       " <selenium.webdriver.remote.webelement.WebElement (session=\"a78fca76a3a40e20d12eba00142fa5bf\", element=\"08e918cc-f3e3-49ec-8256-20d31f0c33b4\")>,\n",
       " <selenium.webdriver.remote.webelement.WebElement (session=\"a78fca76a3a40e20d12eba00142fa5bf\", element=\"95a630e3-033b-4f0a-bcad-fc63777b91f2\")>,\n",
       " <selenium.webdriver.remote.webelement.WebElement (session=\"a78fca76a3a40e20d12eba00142fa5bf\", element=\"9787e82f-03f8-4d2b-844d-3836f961f875\")>,\n",
       " <selenium.webdriver.remote.webelement.WebElement (session=\"a78fca76a3a40e20d12eba00142fa5bf\", element=\"5e1ef8b5-e3d5-4cc8-982c-45fa98c3f0aa\")>,\n",
       " <selenium.webdriver.remote.webelement.WebElement (session=\"a78fca76a3a40e20d12eba00142fa5bf\", element=\"386cad63-f95a-4ef7-b102-b84623c712e1\")>,\n",
       " <selenium.webdriver.remote.webelement.WebElement (session=\"a78fca76a3a40e20d12eba00142fa5bf\", element=\"ca96e90f-8f62-4cbb-8ad8-87641137a063\")>,\n",
       " <selenium.webdriver.remote.webelement.WebElement (session=\"a78fca76a3a40e20d12eba00142fa5bf\", element=\"c227752a-8f83-4126-b001-73d6f3423e19\")>,\n",
       " <selenium.webdriver.remote.webelement.WebElement (session=\"a78fca76a3a40e20d12eba00142fa5bf\", element=\"019926be-6592-47a7-bb4d-23bb15fdd792\")>,\n",
       " <selenium.webdriver.remote.webelement.WebElement (session=\"a78fca76a3a40e20d12eba00142fa5bf\", element=\"7565f4c1-c22b-4845-97a9-b271f6111f85\")>,\n",
       " <selenium.webdriver.remote.webelement.WebElement (session=\"a78fca76a3a40e20d12eba00142fa5bf\", element=\"28485036-93cd-459a-85fe-2cd73c5c64b0\")>,\n",
       " <selenium.webdriver.remote.webelement.WebElement (session=\"a78fca76a3a40e20d12eba00142fa5bf\", element=\"8690528a-9689-462a-8487-5bc5d0b1d758\")>,\n",
       " <selenium.webdriver.remote.webelement.WebElement (session=\"a78fca76a3a40e20d12eba00142fa5bf\", element=\"3d9cbc66-05dc-4f77-ac53-9f161a7c2ebf\")>,\n",
       " <selenium.webdriver.remote.webelement.WebElement (session=\"a78fca76a3a40e20d12eba00142fa5bf\", element=\"d4c9827c-3140-4b01-8012-fa67b9c10aa4\")>,\n",
       " <selenium.webdriver.remote.webelement.WebElement (session=\"a78fca76a3a40e20d12eba00142fa5bf\", element=\"162894bf-9f1d-4e0c-85e1-0b4a13576fa0\")>,\n",
       " <selenium.webdriver.remote.webelement.WebElement (session=\"a78fca76a3a40e20d12eba00142fa5bf\", element=\"67d53d32-5aa0-4a42-8d1d-e6314e911d15\")>,\n",
       " <selenium.webdriver.remote.webelement.WebElement (session=\"a78fca76a3a40e20d12eba00142fa5bf\", element=\"d43976eb-918d-4e5b-86d3-6541dc187f87\")>,\n",
       " <selenium.webdriver.remote.webelement.WebElement (session=\"a78fca76a3a40e20d12eba00142fa5bf\", element=\"2c08bb35-75e5-4db1-bf66-81b47b9fae95\")>,\n",
       " <selenium.webdriver.remote.webelement.WebElement (session=\"a78fca76a3a40e20d12eba00142fa5bf\", element=\"e9ba6ce5-4c7d-4c75-837f-9f540add7201\")>,\n",
       " <selenium.webdriver.remote.webelement.WebElement (session=\"a78fca76a3a40e20d12eba00142fa5bf\", element=\"005895dc-a46a-44a3-b7e9-91b869976eeb\")>,\n",
       " <selenium.webdriver.remote.webelement.WebElement (session=\"a78fca76a3a40e20d12eba00142fa5bf\", element=\"06150f04-cb9a-4247-9abf-f51c54296318\")>,\n",
       " <selenium.webdriver.remote.webelement.WebElement (session=\"a78fca76a3a40e20d12eba00142fa5bf\", element=\"de0ba010-77d9-4c4e-add8-c423c3a68249\")>,\n",
       " <selenium.webdriver.remote.webelement.WebElement (session=\"a78fca76a3a40e20d12eba00142fa5bf\", element=\"0e6cd7f0-cd21-44e1-a776-e15e5f066193\")>,\n",
       " <selenium.webdriver.remote.webelement.WebElement (session=\"a78fca76a3a40e20d12eba00142fa5bf\", element=\"2f33b351-b048-4976-93c6-9cbbfda30d50\")>,\n",
       " <selenium.webdriver.remote.webelement.WebElement (session=\"a78fca76a3a40e20d12eba00142fa5bf\", element=\"34f87b64-2bcf-41b5-81f6-17fbe9615031\")>,\n",
       " <selenium.webdriver.remote.webelement.WebElement (session=\"a78fca76a3a40e20d12eba00142fa5bf\", element=\"ada7b289-e626-4f0d-b3f9-6f89a41ee291\")>,\n",
       " <selenium.webdriver.remote.webelement.WebElement (session=\"a78fca76a3a40e20d12eba00142fa5bf\", element=\"99dd3b0e-cd3b-43a5-97aa-b996d6d2f7bf\")>,\n",
       " <selenium.webdriver.remote.webelement.WebElement (session=\"a78fca76a3a40e20d12eba00142fa5bf\", element=\"908a3cfa-980c-4f7f-bbdc-6217e3d2db6d\")>,\n",
       " <selenium.webdriver.remote.webelement.WebElement (session=\"a78fca76a3a40e20d12eba00142fa5bf\", element=\"faf4a610-1c6a-434d-b17b-11d222da9bff\")>,\n",
       " <selenium.webdriver.remote.webelement.WebElement (session=\"a78fca76a3a40e20d12eba00142fa5bf\", element=\"bd163133-a2fb-4c83-bf8d-aaa2c26d4171\")>,\n",
       " <selenium.webdriver.remote.webelement.WebElement (session=\"a78fca76a3a40e20d12eba00142fa5bf\", element=\"123a3bf3-75c0-4ad4-a460-028c86ec9cb1\")>,\n",
       " <selenium.webdriver.remote.webelement.WebElement (session=\"a78fca76a3a40e20d12eba00142fa5bf\", element=\"29800922-cb26-4c04-997b-f1da515d5787\")>,\n",
       " <selenium.webdriver.remote.webelement.WebElement (session=\"a78fca76a3a40e20d12eba00142fa5bf\", element=\"b36f5c9a-8095-4716-9c2d-42f8f73f27cb\")>,\n",
       " <selenium.webdriver.remote.webelement.WebElement (session=\"a78fca76a3a40e20d12eba00142fa5bf\", element=\"f973ebbd-e1cc-4114-a7e9-94dc06b239d7\")>,\n",
       " <selenium.webdriver.remote.webelement.WebElement (session=\"a78fca76a3a40e20d12eba00142fa5bf\", element=\"6c79e61d-d29b-453d-a1c4-ca1d980fa8ed\")>,\n",
       " <selenium.webdriver.remote.webelement.WebElement (session=\"a78fca76a3a40e20d12eba00142fa5bf\", element=\"e1911456-bf42-43b5-bfcc-21ca13d0ec98\")>,\n",
       " <selenium.webdriver.remote.webelement.WebElement (session=\"a78fca76a3a40e20d12eba00142fa5bf\", element=\"862d1ece-b2b2-4939-a81a-59794c7d836e\")>,\n",
       " <selenium.webdriver.remote.webelement.WebElement (session=\"a78fca76a3a40e20d12eba00142fa5bf\", element=\"5c11f0f7-a457-4930-ae29-ecd3e58ebecc\")>,\n",
       " <selenium.webdriver.remote.webelement.WebElement (session=\"a78fca76a3a40e20d12eba00142fa5bf\", element=\"e99f21b9-c004-4ecc-8659-6dcf3bb80175\")>,\n",
       " <selenium.webdriver.remote.webelement.WebElement (session=\"a78fca76a3a40e20d12eba00142fa5bf\", element=\"a8635e3b-f0ff-4193-a74d-6b91036d6a74\")>,\n",
       " <selenium.webdriver.remote.webelement.WebElement (session=\"a78fca76a3a40e20d12eba00142fa5bf\", element=\"9d710868-e8ea-48c2-9fbd-48f405123cc2\")>,\n",
       " <selenium.webdriver.remote.webelement.WebElement (session=\"a78fca76a3a40e20d12eba00142fa5bf\", element=\"e3e81569-f64d-459d-b41a-5e0c8d329cbe\")>,\n",
       " <selenium.webdriver.remote.webelement.WebElement (session=\"a78fca76a3a40e20d12eba00142fa5bf\", element=\"d42f9b5f-79bd-41f4-8ceb-4f26a6d342fb\")>,\n",
       " <selenium.webdriver.remote.webelement.WebElement (session=\"a78fca76a3a40e20d12eba00142fa5bf\", element=\"7621455e-dd10-464d-8c0e-f330e61cce6e\")>,\n",
       " <selenium.webdriver.remote.webelement.WebElement (session=\"a78fca76a3a40e20d12eba00142fa5bf\", element=\"05475767-f996-40bf-9d38-8ce756e5e755\")>,\n",
       " <selenium.webdriver.remote.webelement.WebElement (session=\"a78fca76a3a40e20d12eba00142fa5bf\", element=\"d2a08a39-8b53-424f-bd6f-90ba98006036\")>,\n",
       " <selenium.webdriver.remote.webelement.WebElement (session=\"a78fca76a3a40e20d12eba00142fa5bf\", element=\"c857d25e-942b-4e77-9541-a358635b40ec\")>,\n",
       " <selenium.webdriver.remote.webelement.WebElement (session=\"a78fca76a3a40e20d12eba00142fa5bf\", element=\"de790a4c-0da2-43cf-afeb-288297a7ade8\")>,\n",
       " <selenium.webdriver.remote.webelement.WebElement (session=\"a78fca76a3a40e20d12eba00142fa5bf\", element=\"d341b75d-4146-4a2d-863c-f10454255231\")>,\n",
       " <selenium.webdriver.remote.webelement.WebElement (session=\"a78fca76a3a40e20d12eba00142fa5bf\", element=\"635df053-fb62-47e8-a955-e3eadb4f2152\")>,\n",
       " <selenium.webdriver.remote.webelement.WebElement (session=\"a78fca76a3a40e20d12eba00142fa5bf\", element=\"56cc5c20-a933-47a4-b79d-1fe353904d1f\")>,\n",
       " <selenium.webdriver.remote.webelement.WebElement (session=\"a78fca76a3a40e20d12eba00142fa5bf\", element=\"bc1819fd-0dc1-48e7-9e75-5d60616f81e1\")>,\n",
       " <selenium.webdriver.remote.webelement.WebElement (session=\"a78fca76a3a40e20d12eba00142fa5bf\", element=\"e512b047-fd45-4d20-8729-7d0f3706b008\")>,\n",
       " <selenium.webdriver.remote.webelement.WebElement (session=\"a78fca76a3a40e20d12eba00142fa5bf\", element=\"9ff09d7a-d087-444b-a08e-6dfa0f7085aa\")>,\n",
       " <selenium.webdriver.remote.webelement.WebElement (session=\"a78fca76a3a40e20d12eba00142fa5bf\", element=\"72ed5004-6864-4c13-8cff-4fcd6bfbd9ac\")>,\n",
       " <selenium.webdriver.remote.webelement.WebElement (session=\"a78fca76a3a40e20d12eba00142fa5bf\", element=\"db0e6075-083a-498e-b17e-8f4e57dcea87\")>,\n",
       " <selenium.webdriver.remote.webelement.WebElement (session=\"a78fca76a3a40e20d12eba00142fa5bf\", element=\"af0ef38b-57b2-4f4d-ba41-818f19d3f038\")>,\n",
       " <selenium.webdriver.remote.webelement.WebElement (session=\"a78fca76a3a40e20d12eba00142fa5bf\", element=\"8f843725-802c-4274-9813-f512cc402eef\")>,\n",
       " <selenium.webdriver.remote.webelement.WebElement (session=\"a78fca76a3a40e20d12eba00142fa5bf\", element=\"8afbb355-26aa-47b4-a70f-959aca291268\")>,\n",
       " <selenium.webdriver.remote.webelement.WebElement (session=\"a78fca76a3a40e20d12eba00142fa5bf\", element=\"7128be05-0349-45c1-a9d3-e799450f2474\")>,\n",
       " <selenium.webdriver.remote.webelement.WebElement (session=\"a78fca76a3a40e20d12eba00142fa5bf\", element=\"ff168dba-3c19-4ed6-a991-afdd3663e1c6\")>,\n",
       " <selenium.webdriver.remote.webelement.WebElement (session=\"a78fca76a3a40e20d12eba00142fa5bf\", element=\"8462b546-6631-4354-849b-bc1480eb3947\")>,\n",
       " <selenium.webdriver.remote.webelement.WebElement (session=\"a78fca76a3a40e20d12eba00142fa5bf\", element=\"8c1478bf-76cb-4216-a7d9-6e3c5b7c56a7\")>,\n",
       " <selenium.webdriver.remote.webelement.WebElement (session=\"a78fca76a3a40e20d12eba00142fa5bf\", element=\"17283dfa-a172-4ae5-b59f-af008e0bf035\")>,\n",
       " <selenium.webdriver.remote.webelement.WebElement (session=\"a78fca76a3a40e20d12eba00142fa5bf\", element=\"b1812b96-c2ab-432b-872f-feade65a38e2\")>,\n",
       " <selenium.webdriver.remote.webelement.WebElement (session=\"a78fca76a3a40e20d12eba00142fa5bf\", element=\"9402024c-f855-4e24-a324-f41eecefc2d6\")>,\n",
       " <selenium.webdriver.remote.webelement.WebElement (session=\"a78fca76a3a40e20d12eba00142fa5bf\", element=\"34b52c1e-1fb4-4203-b6f1-81a6c201a37c\")>,\n",
       " <selenium.webdriver.remote.webelement.WebElement (session=\"a78fca76a3a40e20d12eba00142fa5bf\", element=\"f7cc45e1-970d-4f8b-a9bf-747c9914b459\")>,\n",
       " <selenium.webdriver.remote.webelement.WebElement (session=\"a78fca76a3a40e20d12eba00142fa5bf\", element=\"20f92005-3327-49a2-ab72-eb1694ba7e17\")>,\n",
       " <selenium.webdriver.remote.webelement.WebElement (session=\"a78fca76a3a40e20d12eba00142fa5bf\", element=\"47daae80-e707-4364-bf81-80d43801d483\")>,\n",
       " <selenium.webdriver.remote.webelement.WebElement (session=\"a78fca76a3a40e20d12eba00142fa5bf\", element=\"02f51aef-f95d-4407-860e-52c677318786\")>,\n",
       " <selenium.webdriver.remote.webelement.WebElement (session=\"a78fca76a3a40e20d12eba00142fa5bf\", element=\"260d46ec-271a-4253-bad8-fb7f8f1b4ff3\")>,\n",
       " <selenium.webdriver.remote.webelement.WebElement (session=\"a78fca76a3a40e20d12eba00142fa5bf\", element=\"5f9c1384-6eb7-4360-b5c7-e71e24f46724\")>,\n",
       " <selenium.webdriver.remote.webelement.WebElement (session=\"a78fca76a3a40e20d12eba00142fa5bf\", element=\"14c69628-3c36-4f34-8e10-1ed0afa4c3e9\")>,\n",
       " <selenium.webdriver.remote.webelement.WebElement (session=\"a78fca76a3a40e20d12eba00142fa5bf\", element=\"84b67e7a-a7f4-446d-8362-de58de6c61a7\")>,\n",
       " <selenium.webdriver.remote.webelement.WebElement (session=\"a78fca76a3a40e20d12eba00142fa5bf\", element=\"2361e0cb-50ee-4814-bc5a-861c698e54df\")>,\n",
       " <selenium.webdriver.remote.webelement.WebElement (session=\"a78fca76a3a40e20d12eba00142fa5bf\", element=\"1fd51311-dfd1-4ef0-9e6a-1e6d22ecd244\")>,\n",
       " <selenium.webdriver.remote.webelement.WebElement (session=\"a78fca76a3a40e20d12eba00142fa5bf\", element=\"f86c324d-36ef-455f-a821-bf17a4604e43\")>,\n",
       " <selenium.webdriver.remote.webelement.WebElement (session=\"a78fca76a3a40e20d12eba00142fa5bf\", element=\"d16eec43-a584-46a1-9995-077a8eb17f5d\")>,\n",
       " <selenium.webdriver.remote.webelement.WebElement (session=\"a78fca76a3a40e20d12eba00142fa5bf\", element=\"6d008c06-383f-405e-bd87-2d58ba646a54\")>,\n",
       " <selenium.webdriver.remote.webelement.WebElement (session=\"a78fca76a3a40e20d12eba00142fa5bf\", element=\"d4912882-8157-4531-a1bd-a120088bf5f3\")>,\n",
       " <selenium.webdriver.remote.webelement.WebElement (session=\"a78fca76a3a40e20d12eba00142fa5bf\", element=\"d3e3ff1c-26c2-44e6-afdf-6c4c55b26921\")>,\n",
       " <selenium.webdriver.remote.webelement.WebElement (session=\"a78fca76a3a40e20d12eba00142fa5bf\", element=\"7bd537fb-eca6-481b-b61c-11c3d2823500\")>,\n",
       " <selenium.webdriver.remote.webelement.WebElement (session=\"a78fca76a3a40e20d12eba00142fa5bf\", element=\"c0029239-5fc8-4d75-9289-361ea293a81d\")>,\n",
       " <selenium.webdriver.remote.webelement.WebElement (session=\"a78fca76a3a40e20d12eba00142fa5bf\", element=\"5f614b51-5200-4ac4-93e4-8d5ad3200e44\")>,\n",
       " <selenium.webdriver.remote.webelement.WebElement (session=\"a78fca76a3a40e20d12eba00142fa5bf\", element=\"dfe45e2e-c2d4-435b-a43b-fa8b0d2ecee9\")>,\n",
       " <selenium.webdriver.remote.webelement.WebElement (session=\"a78fca76a3a40e20d12eba00142fa5bf\", element=\"d20d66d5-3dbd-4898-9500-23e3ef70bfce\")>,\n",
       " <selenium.webdriver.remote.webelement.WebElement (session=\"a78fca76a3a40e20d12eba00142fa5bf\", element=\"358dd092-28b8-4d83-9d31-15c11c51b849\")>,\n",
       " <selenium.webdriver.remote.webelement.WebElement (session=\"a78fca76a3a40e20d12eba00142fa5bf\", element=\"9498c1a7-2de1-4a00-a2de-ed03f32e1f44\")>,\n",
       " <selenium.webdriver.remote.webelement.WebElement (session=\"a78fca76a3a40e20d12eba00142fa5bf\", element=\"883078aa-789e-429d-84c2-d132a16ca4fe\")>,\n",
       " <selenium.webdriver.remote.webelement.WebElement (session=\"a78fca76a3a40e20d12eba00142fa5bf\", element=\"224219cf-b233-4c29-abba-76acbbc083d1\")>,\n",
       " <selenium.webdriver.remote.webelement.WebElement (session=\"a78fca76a3a40e20d12eba00142fa5bf\", element=\"51f27eca-3437-41b2-ba72-f9d1d9ff69e2\")>,\n",
       " <selenium.webdriver.remote.webelement.WebElement (session=\"a78fca76a3a40e20d12eba00142fa5bf\", element=\"cfb089af-b265-4068-9e03-d1c926121d81\")>,\n",
       " <selenium.webdriver.remote.webelement.WebElement (session=\"a78fca76a3a40e20d12eba00142fa5bf\", element=\"0dfda5a1-8140-4251-a60e-ccb3d5030778\")>,\n",
       " <selenium.webdriver.remote.webelement.WebElement (session=\"a78fca76a3a40e20d12eba00142fa5bf\", element=\"33c84148-fcc0-4bc6-a604-88d009904055\")>,\n",
       " <selenium.webdriver.remote.webelement.WebElement (session=\"a78fca76a3a40e20d12eba00142fa5bf\", element=\"23403d7e-00ef-48ab-a7d1-84c0f3bbb538\")>]"
      ]
     },
     "execution_count": 9,
     "metadata": {},
     "output_type": "execute_result"
    }
   ],
   "source": [
    "\n",
    "header2=browser.find_elements(\"xpath\",\"//div[@class='td-wrap-in']\")\n",
    "header2"
   ]
  },
  {
   "cell_type": "code",
   "execution_count": 10,
   "id": "76fb6cee",
   "metadata": {},
   "outputs": [
    {
     "data": {
      "text/plain": [
       "['76.4', '84', '96.8', '25.8', '96.4', '95', '70.3', '91.8', '37.5']"
      ]
     },
     "execution_count": 10,
     "metadata": {},
     "output_type": "execute_result"
    }
   ],
   "source": [
    "\n",
    "#PARSING DATA\n",
    "value_head=[]\n",
    "for data in header2:\n",
    "    #get the text data\n",
    "    temp=data.text\n",
    "    value_head.append(temp)\n",
    "value_head=value_head[81:90]\n",
    "value_head\n"
   ]
  },
  {
   "cell_type": "code",
   "execution_count": 11,
   "id": "417b927b",
   "metadata": {},
   "outputs": [
    {
     "data": {
      "text/plain": [
       "{'Overall Score': '76.4',\n",
       " 'Academic Reputation': '84',\n",
       " 'Employer Reputation': '96.8',\n",
       " 'Citations per Faculty': '25.8',\n",
       " 'Faculty Student Ratio': '96.4',\n",
       " 'International Students Ratio': '95',\n",
       " 'International Faculty Ratio': '70.3',\n",
       " 'International Research Network\\nUnweighted': '91.8',\n",
       " 'Employment Outcomes\\nUnweighted': '37.5'}"
      ]
     },
     "execution_count": 11,
     "metadata": {},
     "output_type": "execute_result"
    }
   ],
   "source": [
    "d={}\n",
    "for i in range(len(column_head)):\n",
    "    d[column_head[i]]=value_head[i]\n",
    "d\n"
   ]
  },
  {
   "cell_type": "code",
   "execution_count": 12,
   "id": "c10f9c3a",
   "metadata": {},
   "outputs": [
    {
     "data": {
      "text/plain": [
       "'{\"Overall Score\": \"76.4\", \"Academic Reputation\": \"84\", \"Employer Reputation\": \"96.8\", \"Citations per Faculty\": \"25.8\", \"Faculty Student Ratio\": \"96.4\", \"International Students Ratio\": \"95\", \"International Faculty Ratio\": \"70.3\", \"International Research Network\\\\nUnweighted\": \"91.8\", \"Employment Outcomes\\\\nUnweighted\": \"37.5\"}'"
      ]
     },
     "execution_count": 12,
     "metadata": {},
     "output_type": "execute_result"
    }
   ],
   "source": [
    "s1=json.dumps(d)\n",
    "s1"
   ]
  },
  {
   "cell_type": "code",
   "execution_count": 13,
   "id": "cb2976a8",
   "metadata": {},
   "outputs": [],
   "source": [
    "with open('Technical University of Munich.json','w') as f:\n",
    "    json.dump(d,f)\n"
   ]
  },
  {
   "cell_type": "code",
   "execution_count": null,
   "id": "7808021a",
   "metadata": {},
   "outputs": [],
   "source": []
  }
 ],
 "metadata": {
  "kernelspec": {
   "display_name": "Python 3 (ipykernel)",
   "language": "python",
   "name": "python3"
  },
  "language_info": {
   "codemirror_mode": {
    "name": "ipython",
    "version": 3
   },
   "file_extension": ".py",
   "mimetype": "text/x-python",
   "name": "python",
   "nbconvert_exporter": "python",
   "pygments_lexer": "ipython3",
   "version": "3.9.12"
  }
 },
 "nbformat": 4,
 "nbformat_minor": 5
}
