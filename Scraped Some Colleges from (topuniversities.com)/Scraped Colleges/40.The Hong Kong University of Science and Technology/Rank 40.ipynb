{
 "cells": [
  {
   "cell_type": "code",
   "execution_count": 6,
   "id": "5d595331",
   "metadata": {},
   "outputs": [],
   "source": [
    "from selenium import webdriver\n",
    "from selenium.webdriver.chrome.service import Service\n",
    "import pandas as pd\n",
    "import json"
   ]
  },
  {
   "cell_type": "code",
   "execution_count": 7,
   "id": "a920a00f",
   "metadata": {},
   "outputs": [],
   "source": [
    "path = Service('C:\\chromedriver.exe')"
   ]
  },
  {
   "cell_type": "code",
   "execution_count": 8,
   "id": "54d71531",
   "metadata": {},
   "outputs": [],
   "source": [
    "# set path for the driver\n",
    "browser = webdriver.Chrome(service = path)\n"
   ]
  },
  {
   "cell_type": "code",
   "execution_count": 9,
   "id": "630e53fe",
   "metadata": {},
   "outputs": [],
   "source": [
    "url = \"https://www.topuniversities.com/university-rankings/world-university-rankings/2023\""
   ]
  },
  {
   "cell_type": "code",
   "execution_count": 10,
   "id": "a1caac02",
   "metadata": {},
   "outputs": [],
   "source": [
    "\n",
    "# open the page url ion chrome\n",
    "browser.get(url)"
   ]
  },
  {
   "cell_type": "code",
   "execution_count": 20,
   "id": "0c9a9a48",
   "metadata": {},
   "outputs": [
    {
     "data": {
      "text/plain": [
       "[<selenium.webdriver.remote.webelement.WebElement (session=\"a3d71256ae4b8e797689a1b404bced4d\", element=\"318c33d3-1135-4279-9ef3-544556b0f8f1\")>,\n",
       " <selenium.webdriver.remote.webelement.WebElement (session=\"a3d71256ae4b8e797689a1b404bced4d\", element=\"1392a38f-7cb7-4ac7-ab50-f464b75e49d2\")>,\n",
       " <selenium.webdriver.remote.webelement.WebElement (session=\"a3d71256ae4b8e797689a1b404bced4d\", element=\"c83d5339-fbfb-4cff-ae41-12c84b92f615\")>,\n",
       " <selenium.webdriver.remote.webelement.WebElement (session=\"a3d71256ae4b8e797689a1b404bced4d\", element=\"381576b4-3304-4983-880d-a87483c51ef1\")>,\n",
       " <selenium.webdriver.remote.webelement.WebElement (session=\"a3d71256ae4b8e797689a1b404bced4d\", element=\"bf6e117f-7fb1-43cc-8c34-d5c401a9cac2\")>,\n",
       " <selenium.webdriver.remote.webelement.WebElement (session=\"a3d71256ae4b8e797689a1b404bced4d\", element=\"f7615fb0-0240-4eca-814e-c38c14ed4044\")>,\n",
       " <selenium.webdriver.remote.webelement.WebElement (session=\"a3d71256ae4b8e797689a1b404bced4d\", element=\"4559f714-2232-4dd6-94ce-e88a30e76064\")>,\n",
       " <selenium.webdriver.remote.webelement.WebElement (session=\"a3d71256ae4b8e797689a1b404bced4d\", element=\"31ce84e9-1da8-4d9f-99d1-51993c1d24ae\")>,\n",
       " <selenium.webdriver.remote.webelement.WebElement (session=\"a3d71256ae4b8e797689a1b404bced4d\", element=\"a83c1383-f5a5-43dd-910e-0879d61b6fc1\")>,\n",
       " <selenium.webdriver.remote.webelement.WebElement (session=\"a3d71256ae4b8e797689a1b404bced4d\", element=\"adfcd096-ae08-457b-9ff7-802b6f012325\")>,\n",
       " <selenium.webdriver.remote.webelement.WebElement (session=\"a3d71256ae4b8e797689a1b404bced4d\", element=\"5764e3fa-5ea5-4cf2-b149-8ec8f51f0554\")>,\n",
       " <selenium.webdriver.remote.webelement.WebElement (session=\"a3d71256ae4b8e797689a1b404bced4d\", element=\"17b8861d-d4de-4c5e-90aa-4d9301aab6c1\")>,\n",
       " <selenium.webdriver.remote.webelement.WebElement (session=\"a3d71256ae4b8e797689a1b404bced4d\", element=\"6ed933ba-63dd-49b8-b04a-e6194d2eaf74\")>,\n",
       " <selenium.webdriver.remote.webelement.WebElement (session=\"a3d71256ae4b8e797689a1b404bced4d\", element=\"671b639d-c343-4ded-871a-d0f9dfdf72aa\")>,\n",
       " <selenium.webdriver.remote.webelement.WebElement (session=\"a3d71256ae4b8e797689a1b404bced4d\", element=\"9be92b06-d595-4176-b043-967c74ab2c0f\")>,\n",
       " <selenium.webdriver.remote.webelement.WebElement (session=\"a3d71256ae4b8e797689a1b404bced4d\", element=\"987fb516-0b89-4e4c-bb58-8d929459e4a7\")>,\n",
       " <selenium.webdriver.remote.webelement.WebElement (session=\"a3d71256ae4b8e797689a1b404bced4d\", element=\"fafcd77b-cb16-4bee-b4de-d3952af1702a\")>,\n",
       " <selenium.webdriver.remote.webelement.WebElement (session=\"a3d71256ae4b8e797689a1b404bced4d\", element=\"3f332976-4a4a-4669-a68e-f4d2b498f993\")>,\n",
       " <selenium.webdriver.remote.webelement.WebElement (session=\"a3d71256ae4b8e797689a1b404bced4d\", element=\"7bfae80f-735c-4e21-9543-a57f24af74ca\")>,\n",
       " <selenium.webdriver.remote.webelement.WebElement (session=\"a3d71256ae4b8e797689a1b404bced4d\", element=\"bf77b742-5c3e-4bb9-b7dd-e03d078bbde6\")>]"
      ]
     },
     "execution_count": 20,
     "metadata": {},
     "output_type": "execute_result"
    }
   ],
   "source": [
    "l1=browser.find_elements(\"xpath\",\"//div[@class='location ']\")\n",
    "l1\n"
   ]
  },
  {
   "cell_type": "code",
   "execution_count": 21,
   "id": "25516435",
   "metadata": {},
   "outputs": [
    {
     "data": {
      "text/plain": [
       "['Montreal, Canada',\n",
       " 'Evanston, United States',\n",
       " 'Parkville, Australia',\n",
       " 'Shanghai, China (Mainland)',\n",
       " 'Toronto, Canada',\n",
       " 'Kyoto, Japan',\n",
       " 'London, United Kingdom',\n",
       " 'Hong Kong SAR, Hong Kong SAR',\n",
       " 'New York City, United States',\n",
       " 'Hong Kong SAR, Hong Kong SAR']"
      ]
     },
     "execution_count": 21,
     "metadata": {},
     "output_type": "execute_result"
    }
   ],
   "source": [
    "loc=[]\n",
    "for data in l1:\n",
    "    #get the text data\n",
    "    temp=data.text\n",
    "    loc.append(temp)\n",
    "loc=loc[10:]\n",
    "loc"
   ]
  },
  {
   "cell_type": "code",
   "execution_count": 22,
   "id": "3a7cdca7",
   "metadata": {},
   "outputs": [
    {
     "data": {
      "text/plain": [
       "[<selenium.webdriver.remote.webelement.WebElement (session=\"a3d71256ae4b8e797689a1b404bced4d\", element=\"3ae5c299-ea8a-4e99-9e1a-df2fef11cc1f\")>,\n",
       " <selenium.webdriver.remote.webelement.WebElement (session=\"a3d71256ae4b8e797689a1b404bced4d\", element=\"872eb2dd-6866-4dbf-8582-0ba732145520\")>,\n",
       " <selenium.webdriver.remote.webelement.WebElement (session=\"a3d71256ae4b8e797689a1b404bced4d\", element=\"635a83d1-9c1e-4299-8a38-ef424a5160bc\")>,\n",
       " <selenium.webdriver.remote.webelement.WebElement (session=\"a3d71256ae4b8e797689a1b404bced4d\", element=\"dc619fc4-2997-49c0-acda-8acab575fa13\")>,\n",
       " <selenium.webdriver.remote.webelement.WebElement (session=\"a3d71256ae4b8e797689a1b404bced4d\", element=\"24f0dbd6-5175-4c1a-82ea-942757f1fa35\")>,\n",
       " <selenium.webdriver.remote.webelement.WebElement (session=\"a3d71256ae4b8e797689a1b404bced4d\", element=\"01c8a64b-87b0-4b30-885b-ac260f7f4d6a\")>,\n",
       " <selenium.webdriver.remote.webelement.WebElement (session=\"a3d71256ae4b8e797689a1b404bced4d\", element=\"c65556d9-7aa0-4b99-b451-0f8cce1ad246\")>,\n",
       " <selenium.webdriver.remote.webelement.WebElement (session=\"a3d71256ae4b8e797689a1b404bced4d\", element=\"50f24464-059e-4d85-94ad-dbb66f55e08c\")>,\n",
       " <selenium.webdriver.remote.webelement.WebElement (session=\"a3d71256ae4b8e797689a1b404bced4d\", element=\"a15217fa-4fa4-4c21-a292-9b2ab6744986\")>,\n",
       " <selenium.webdriver.remote.webelement.WebElement (session=\"a3d71256ae4b8e797689a1b404bced4d\", element=\"e84783f3-d7d4-458e-87c6-4428c9a7151c\")>]"
      ]
     },
     "execution_count": 22,
     "metadata": {},
     "output_type": "execute_result"
    }
   ],
   "source": [
    "l2=browser.find_elements(\"xpath\",\"//div[@class='_univ-rank ']\")\n",
    "l2\n"
   ]
  },
  {
   "cell_type": "code",
   "execution_count": 23,
   "id": "45ad6287",
   "metadata": {},
   "outputs": [
    {
     "data": {
      "text/plain": [
       "['31', '32', '33', '=34', '=34', '36', '37', '38', '39', '40']"
      ]
     },
     "execution_count": 23,
     "metadata": {},
     "output_type": "execute_result"
    }
   ],
   "source": [
    "RANK=[]\n",
    "for data in l2:\n",
    "    #get the text data\n",
    "    temp=data.text\n",
    "    RANK.append(temp)\n",
    "RANK"
   ]
  },
  {
   "cell_type": "code",
   "execution_count": 24,
   "id": "c1cfb6f8",
   "metadata": {},
   "outputs": [
    {
     "data": {
      "text/plain": [
       "[<selenium.webdriver.remote.webelement.WebElement (session=\"a3d71256ae4b8e797689a1b404bced4d\", element=\"a98b2c1b-9e63-4a5d-a2dd-95d4a89322e7\")>,\n",
       " <selenium.webdriver.remote.webelement.WebElement (session=\"a3d71256ae4b8e797689a1b404bced4d\", element=\"d61aef7f-0850-4c26-b4af-2281342418a4\")>,\n",
       " <selenium.webdriver.remote.webelement.WebElement (session=\"a3d71256ae4b8e797689a1b404bced4d\", element=\"4bbfb84e-f50d-46f5-a312-1e3d57545c35\")>,\n",
       " <selenium.webdriver.remote.webelement.WebElement (session=\"a3d71256ae4b8e797689a1b404bced4d\", element=\"426f2673-ce40-435e-8b93-f538c56962ae\")>,\n",
       " <selenium.webdriver.remote.webelement.WebElement (session=\"a3d71256ae4b8e797689a1b404bced4d\", element=\"f46994c6-669b-4fe4-95bf-bdc260b549ce\")>,\n",
       " <selenium.webdriver.remote.webelement.WebElement (session=\"a3d71256ae4b8e797689a1b404bced4d\", element=\"2e9c8f1a-a341-4209-9477-158d15f870f9\")>,\n",
       " <selenium.webdriver.remote.webelement.WebElement (session=\"a3d71256ae4b8e797689a1b404bced4d\", element=\"222d1857-7420-4699-9c18-95b96718bd69\")>,\n",
       " <selenium.webdriver.remote.webelement.WebElement (session=\"a3d71256ae4b8e797689a1b404bced4d\", element=\"da44a565-a445-45f8-82e7-82bdea3df7de\")>,\n",
       " <selenium.webdriver.remote.webelement.WebElement (session=\"a3d71256ae4b8e797689a1b404bced4d\", element=\"a66db5fd-dd8f-4099-8c9b-b2b2b60d94f9\")>]"
      ]
     },
     "execution_count": 24,
     "metadata": {},
     "output_type": "execute_result"
    }
   ],
   "source": [
    "# GET EACH COLLEGE SPECIFICATION HEADERS\n",
    "header=browser.find_elements(\"xpath\",\"//div[@class='_click-function_ind']\")\n",
    "header\n"
   ]
  },
  {
   "cell_type": "code",
   "execution_count": 25,
   "id": "be5f0b83",
   "metadata": {},
   "outputs": [
    {
     "data": {
      "text/plain": [
       "['Overall Score',\n",
       " 'Academic Reputation',\n",
       " 'Employer Reputation',\n",
       " 'Citations per Faculty',\n",
       " 'Faculty Student Ratio',\n",
       " 'International Students Ratio',\n",
       " 'International Faculty Ratio',\n",
       " 'International Research Network\\nUnweighted',\n",
       " 'Employment Outcomes\\nUnweighted']"
      ]
     },
     "execution_count": 25,
     "metadata": {},
     "output_type": "execute_result"
    }
   ],
   "source": [
    "#PARSING DATA\n",
    "column_head=[]\n",
    "for data in header:\n",
    "    #get the text data\n",
    "    temp=data.text\n",
    "    column_head.append(temp)\n",
    "column_head\n"
   ]
  },
  {
   "cell_type": "code",
   "execution_count": 26,
   "id": "d6257eb1",
   "metadata": {},
   "outputs": [
    {
     "data": {
      "text/plain": [
       "[<selenium.webdriver.remote.webelement.WebElement (session=\"a3d71256ae4b8e797689a1b404bced4d\", element=\"3262a559-58e8-4d03-bf28-3f223bc7ca80\")>,\n",
       " <selenium.webdriver.remote.webelement.WebElement (session=\"a3d71256ae4b8e797689a1b404bced4d\", element=\"15bd023f-5644-44ea-87f9-2666587dbd20\")>,\n",
       " <selenium.webdriver.remote.webelement.WebElement (session=\"a3d71256ae4b8e797689a1b404bced4d\", element=\"4b74da39-7cfc-4ab0-9f7d-2527c64fa9b4\")>,\n",
       " <selenium.webdriver.remote.webelement.WebElement (session=\"a3d71256ae4b8e797689a1b404bced4d\", element=\"9838f53a-5078-4749-a6bb-69a5af008424\")>,\n",
       " <selenium.webdriver.remote.webelement.WebElement (session=\"a3d71256ae4b8e797689a1b404bced4d\", element=\"bfcdfe58-ccc5-41b6-80ce-6027ed52a2af\")>,\n",
       " <selenium.webdriver.remote.webelement.WebElement (session=\"a3d71256ae4b8e797689a1b404bced4d\", element=\"791d372a-5656-4f18-95a2-7d6f494494ce\")>,\n",
       " <selenium.webdriver.remote.webelement.WebElement (session=\"a3d71256ae4b8e797689a1b404bced4d\", element=\"e089b408-46a6-4634-901d-0416b5ad8788\")>,\n",
       " <selenium.webdriver.remote.webelement.WebElement (session=\"a3d71256ae4b8e797689a1b404bced4d\", element=\"84bcbdc5-b0ca-4ff9-8bd5-109343d80f00\")>,\n",
       " <selenium.webdriver.remote.webelement.WebElement (session=\"a3d71256ae4b8e797689a1b404bced4d\", element=\"75e77f50-e264-45c5-b3fe-c7befd654f94\")>,\n",
       " <selenium.webdriver.remote.webelement.WebElement (session=\"a3d71256ae4b8e797689a1b404bced4d\", element=\"ad07f699-e230-4ffc-9831-a70676eb407b\")>,\n",
       " <selenium.webdriver.remote.webelement.WebElement (session=\"a3d71256ae4b8e797689a1b404bced4d\", element=\"d4fad406-5fb3-4c47-92cc-40019e737d1c\")>,\n",
       " <selenium.webdriver.remote.webelement.WebElement (session=\"a3d71256ae4b8e797689a1b404bced4d\", element=\"1b2d71d2-8f4a-421b-85a7-c7bdd19a7ad0\")>,\n",
       " <selenium.webdriver.remote.webelement.WebElement (session=\"a3d71256ae4b8e797689a1b404bced4d\", element=\"0a461646-5e6f-4457-a198-f0d0a3e4b886\")>,\n",
       " <selenium.webdriver.remote.webelement.WebElement (session=\"a3d71256ae4b8e797689a1b404bced4d\", element=\"0916e9bf-c0e0-44af-a349-745f3df1a4d0\")>,\n",
       " <selenium.webdriver.remote.webelement.WebElement (session=\"a3d71256ae4b8e797689a1b404bced4d\", element=\"a8310fb9-21ae-449e-8828-7657026365ff\")>,\n",
       " <selenium.webdriver.remote.webelement.WebElement (session=\"a3d71256ae4b8e797689a1b404bced4d\", element=\"bdcd06b7-a9dc-43e6-b63d-673bdf2d9ab5\")>,\n",
       " <selenium.webdriver.remote.webelement.WebElement (session=\"a3d71256ae4b8e797689a1b404bced4d\", element=\"59b41d3f-65f8-48bc-9c6f-1ec3db0f68b1\")>,\n",
       " <selenium.webdriver.remote.webelement.WebElement (session=\"a3d71256ae4b8e797689a1b404bced4d\", element=\"b1f6601f-95ae-4ee9-b9b5-284509079dce\")>,\n",
       " <selenium.webdriver.remote.webelement.WebElement (session=\"a3d71256ae4b8e797689a1b404bced4d\", element=\"5bfc131c-710f-4385-8ddc-0eecda4b4d4e\")>,\n",
       " <selenium.webdriver.remote.webelement.WebElement (session=\"a3d71256ae4b8e797689a1b404bced4d\", element=\"db314f81-2d1f-4e05-8853-2f983ee126c2\")>,\n",
       " <selenium.webdriver.remote.webelement.WebElement (session=\"a3d71256ae4b8e797689a1b404bced4d\", element=\"3b09ef99-199b-4d74-b371-ece1da10297d\")>,\n",
       " <selenium.webdriver.remote.webelement.WebElement (session=\"a3d71256ae4b8e797689a1b404bced4d\", element=\"450b3b58-ee8d-42ab-9a18-2bd730fa2bbf\")>,\n",
       " <selenium.webdriver.remote.webelement.WebElement (session=\"a3d71256ae4b8e797689a1b404bced4d\", element=\"b2b03bcc-20e7-4277-8329-98e149aa23b8\")>,\n",
       " <selenium.webdriver.remote.webelement.WebElement (session=\"a3d71256ae4b8e797689a1b404bced4d\", element=\"3e24ff7a-f44e-4c4d-af7c-c0cc266fb780\")>,\n",
       " <selenium.webdriver.remote.webelement.WebElement (session=\"a3d71256ae4b8e797689a1b404bced4d\", element=\"6cbe1322-2e11-417f-84a4-3e60dc005854\")>,\n",
       " <selenium.webdriver.remote.webelement.WebElement (session=\"a3d71256ae4b8e797689a1b404bced4d\", element=\"d4e86474-e16b-458c-87d1-e36f81fe7f52\")>,\n",
       " <selenium.webdriver.remote.webelement.WebElement (session=\"a3d71256ae4b8e797689a1b404bced4d\", element=\"f530c59f-d667-4b41-8f29-28319f16662b\")>,\n",
       " <selenium.webdriver.remote.webelement.WebElement (session=\"a3d71256ae4b8e797689a1b404bced4d\", element=\"d174b4cb-442f-4e78-888c-d8d3a4b8b300\")>,\n",
       " <selenium.webdriver.remote.webelement.WebElement (session=\"a3d71256ae4b8e797689a1b404bced4d\", element=\"0890e2af-c82f-4bf8-82c7-7cc9cb46a78a\")>,\n",
       " <selenium.webdriver.remote.webelement.WebElement (session=\"a3d71256ae4b8e797689a1b404bced4d\", element=\"54dafc7b-3435-48e4-a664-7063f3063e58\")>,\n",
       " <selenium.webdriver.remote.webelement.WebElement (session=\"a3d71256ae4b8e797689a1b404bced4d\", element=\"0204b70c-97b2-459c-9dbf-710a85d74a20\")>,\n",
       " <selenium.webdriver.remote.webelement.WebElement (session=\"a3d71256ae4b8e797689a1b404bced4d\", element=\"d574fe31-9ac8-427a-bb90-a54ca7a9c83e\")>,\n",
       " <selenium.webdriver.remote.webelement.WebElement (session=\"a3d71256ae4b8e797689a1b404bced4d\", element=\"4b637a1e-1a6d-4aef-9167-146066e633c3\")>,\n",
       " <selenium.webdriver.remote.webelement.WebElement (session=\"a3d71256ae4b8e797689a1b404bced4d\", element=\"703c6782-af46-4888-b7bf-a5f8337b9563\")>,\n",
       " <selenium.webdriver.remote.webelement.WebElement (session=\"a3d71256ae4b8e797689a1b404bced4d\", element=\"fb14e937-5da0-43ea-afda-a64cb6649d80\")>,\n",
       " <selenium.webdriver.remote.webelement.WebElement (session=\"a3d71256ae4b8e797689a1b404bced4d\", element=\"a60fc021-4b2d-4b5a-bc4d-eb994b7ce2d0\")>,\n",
       " <selenium.webdriver.remote.webelement.WebElement (session=\"a3d71256ae4b8e797689a1b404bced4d\", element=\"3a3d8912-1f33-4c4c-b6a0-a4b133993d6d\")>,\n",
       " <selenium.webdriver.remote.webelement.WebElement (session=\"a3d71256ae4b8e797689a1b404bced4d\", element=\"5dd73264-0d2b-4a8e-afea-add1919b3972\")>,\n",
       " <selenium.webdriver.remote.webelement.WebElement (session=\"a3d71256ae4b8e797689a1b404bced4d\", element=\"4f54d182-9eb7-47e8-b5ef-840f1cfbbd73\")>,\n",
       " <selenium.webdriver.remote.webelement.WebElement (session=\"a3d71256ae4b8e797689a1b404bced4d\", element=\"5b08214f-58ac-4044-b814-d21c7d15c6c1\")>,\n",
       " <selenium.webdriver.remote.webelement.WebElement (session=\"a3d71256ae4b8e797689a1b404bced4d\", element=\"7938197a-aac8-497f-ad0e-3b6b0faf0de7\")>,\n",
       " <selenium.webdriver.remote.webelement.WebElement (session=\"a3d71256ae4b8e797689a1b404bced4d\", element=\"f7e6c837-e249-4b80-abb0-a95055ee685d\")>,\n",
       " <selenium.webdriver.remote.webelement.WebElement (session=\"a3d71256ae4b8e797689a1b404bced4d\", element=\"2742731a-d359-4505-badb-ace7449133ba\")>,\n",
       " <selenium.webdriver.remote.webelement.WebElement (session=\"a3d71256ae4b8e797689a1b404bced4d\", element=\"5c8547cb-17a7-47b4-887e-f57d95978459\")>,\n",
       " <selenium.webdriver.remote.webelement.WebElement (session=\"a3d71256ae4b8e797689a1b404bced4d\", element=\"d121b972-568f-4473-a3ff-d8dee46cfea2\")>,\n",
       " <selenium.webdriver.remote.webelement.WebElement (session=\"a3d71256ae4b8e797689a1b404bced4d\", element=\"ae36490e-4caa-408e-a0ce-8d7e94798b1f\")>,\n",
       " <selenium.webdriver.remote.webelement.WebElement (session=\"a3d71256ae4b8e797689a1b404bced4d\", element=\"db888461-9f3a-40b8-8553-848ba61e4fa3\")>,\n",
       " <selenium.webdriver.remote.webelement.WebElement (session=\"a3d71256ae4b8e797689a1b404bced4d\", element=\"11beaabc-6394-42a8-841b-539c49b6c9d8\")>,\n",
       " <selenium.webdriver.remote.webelement.WebElement (session=\"a3d71256ae4b8e797689a1b404bced4d\", element=\"0658cb5f-5411-43b1-a89a-5bbfd857c387\")>,\n",
       " <selenium.webdriver.remote.webelement.WebElement (session=\"a3d71256ae4b8e797689a1b404bced4d\", element=\"2568e0fe-db1d-4a65-9c7e-b58f0eaefa01\")>,\n",
       " <selenium.webdriver.remote.webelement.WebElement (session=\"a3d71256ae4b8e797689a1b404bced4d\", element=\"b1e012d4-c6bd-4f75-b417-81dabbe9766c\")>,\n",
       " <selenium.webdriver.remote.webelement.WebElement (session=\"a3d71256ae4b8e797689a1b404bced4d\", element=\"96a76df8-f7a2-4320-aaa3-2fa3d4d5951d\")>,\n",
       " <selenium.webdriver.remote.webelement.WebElement (session=\"a3d71256ae4b8e797689a1b404bced4d\", element=\"4aed8a6c-adf5-4c93-8bdd-5cb726d19f83\")>,\n",
       " <selenium.webdriver.remote.webelement.WebElement (session=\"a3d71256ae4b8e797689a1b404bced4d\", element=\"0326e76a-bd1f-4908-8c62-7d0f3c2340d4\")>,\n",
       " <selenium.webdriver.remote.webelement.WebElement (session=\"a3d71256ae4b8e797689a1b404bced4d\", element=\"6d88aa5f-5945-4d8e-8a2c-da35be5eb718\")>,\n",
       " <selenium.webdriver.remote.webelement.WebElement (session=\"a3d71256ae4b8e797689a1b404bced4d\", element=\"b2e2c5c5-186d-47eb-820e-732c74bd4c18\")>,\n",
       " <selenium.webdriver.remote.webelement.WebElement (session=\"a3d71256ae4b8e797689a1b404bced4d\", element=\"618a18e0-4aa1-4505-a9fc-551c42ecafcc\")>,\n",
       " <selenium.webdriver.remote.webelement.WebElement (session=\"a3d71256ae4b8e797689a1b404bced4d\", element=\"1bbd8ee0-463c-482c-88f8-af2e56b5a39c\")>,\n",
       " <selenium.webdriver.remote.webelement.WebElement (session=\"a3d71256ae4b8e797689a1b404bced4d\", element=\"585c49db-478d-425d-94ff-bd6659d3296c\")>,\n",
       " <selenium.webdriver.remote.webelement.WebElement (session=\"a3d71256ae4b8e797689a1b404bced4d\", element=\"c21cc161-38ba-4ae1-bfcb-6964875dc52e\")>,\n",
       " <selenium.webdriver.remote.webelement.WebElement (session=\"a3d71256ae4b8e797689a1b404bced4d\", element=\"6523ab9b-221a-44bf-a737-c157a54c758f\")>,\n",
       " <selenium.webdriver.remote.webelement.WebElement (session=\"a3d71256ae4b8e797689a1b404bced4d\", element=\"e6427605-a9a6-4ea0-934b-a51ed15e323e\")>,\n",
       " <selenium.webdriver.remote.webelement.WebElement (session=\"a3d71256ae4b8e797689a1b404bced4d\", element=\"1436b1a9-4a5b-4284-84b3-2a42c5fd0b6c\")>,\n",
       " <selenium.webdriver.remote.webelement.WebElement (session=\"a3d71256ae4b8e797689a1b404bced4d\", element=\"a49cded7-56c5-421f-8454-dc54128b7282\")>,\n",
       " <selenium.webdriver.remote.webelement.WebElement (session=\"a3d71256ae4b8e797689a1b404bced4d\", element=\"7eb9f3f4-29ee-40c1-adc9-f5014a676067\")>,\n",
       " <selenium.webdriver.remote.webelement.WebElement (session=\"a3d71256ae4b8e797689a1b404bced4d\", element=\"ceaa7600-dd67-4366-a120-e96bf6ac9a66\")>,\n",
       " <selenium.webdriver.remote.webelement.WebElement (session=\"a3d71256ae4b8e797689a1b404bced4d\", element=\"a9794a6d-72d6-41d9-adc9-81585ada15ab\")>,\n",
       " <selenium.webdriver.remote.webelement.WebElement (session=\"a3d71256ae4b8e797689a1b404bced4d\", element=\"7609b47b-b73c-4535-8663-496b45a3db2c\")>,\n",
       " <selenium.webdriver.remote.webelement.WebElement (session=\"a3d71256ae4b8e797689a1b404bced4d\", element=\"9a2800bf-fa3e-4b8e-97de-6a9ce8d5619d\")>,\n",
       " <selenium.webdriver.remote.webelement.WebElement (session=\"a3d71256ae4b8e797689a1b404bced4d\", element=\"3e028c4b-12b3-41db-a45e-ad8667af02a9\")>,\n",
       " <selenium.webdriver.remote.webelement.WebElement (session=\"a3d71256ae4b8e797689a1b404bced4d\", element=\"465d57cd-a18f-4539-af10-590b11c4046c\")>,\n",
       " <selenium.webdriver.remote.webelement.WebElement (session=\"a3d71256ae4b8e797689a1b404bced4d\", element=\"8fde111e-bf9d-4749-9679-6e698ed4218c\")>,\n",
       " <selenium.webdriver.remote.webelement.WebElement (session=\"a3d71256ae4b8e797689a1b404bced4d\", element=\"c0bd66ed-d8e9-4850-a1e5-6d76a93fda54\")>,\n",
       " <selenium.webdriver.remote.webelement.WebElement (session=\"a3d71256ae4b8e797689a1b404bced4d\", element=\"422194b8-87a7-4d4c-bf6f-c53951a126d6\")>,\n",
       " <selenium.webdriver.remote.webelement.WebElement (session=\"a3d71256ae4b8e797689a1b404bced4d\", element=\"61c66818-78ff-4495-b717-ed99d6e48f9a\")>,\n",
       " <selenium.webdriver.remote.webelement.WebElement (session=\"a3d71256ae4b8e797689a1b404bced4d\", element=\"1ae84bec-6380-435d-b6ff-56b130fe0b49\")>,\n",
       " <selenium.webdriver.remote.webelement.WebElement (session=\"a3d71256ae4b8e797689a1b404bced4d\", element=\"0114fdfa-bab6-4e40-af80-11622ce31196\")>,\n",
       " <selenium.webdriver.remote.webelement.WebElement (session=\"a3d71256ae4b8e797689a1b404bced4d\", element=\"abc0832c-b45f-411f-b004-ea381dfcd7e6\")>,\n",
       " <selenium.webdriver.remote.webelement.WebElement (session=\"a3d71256ae4b8e797689a1b404bced4d\", element=\"95f68982-2a25-4059-8eaf-e42f7189cc6a\")>,\n",
       " <selenium.webdriver.remote.webelement.WebElement (session=\"a3d71256ae4b8e797689a1b404bced4d\", element=\"120ec8a4-7d17-4e55-be34-ccdcedb6f0d9\")>,\n",
       " <selenium.webdriver.remote.webelement.WebElement (session=\"a3d71256ae4b8e797689a1b404bced4d\", element=\"e557a4af-0f0a-40da-b219-5e4bf64edd30\")>,\n",
       " <selenium.webdriver.remote.webelement.WebElement (session=\"a3d71256ae4b8e797689a1b404bced4d\", element=\"c1483608-61dc-49d4-8864-0c7338de0916\")>,\n",
       " <selenium.webdriver.remote.webelement.WebElement (session=\"a3d71256ae4b8e797689a1b404bced4d\", element=\"ef4bf3e4-b52b-4e5d-9758-d0df743b768b\")>,\n",
       " <selenium.webdriver.remote.webelement.WebElement (session=\"a3d71256ae4b8e797689a1b404bced4d\", element=\"0f5b023f-136a-46db-a158-68acadd05e01\")>,\n",
       " <selenium.webdriver.remote.webelement.WebElement (session=\"a3d71256ae4b8e797689a1b404bced4d\", element=\"501ab13a-7ebd-42ed-bfba-cfeb320740c0\")>,\n",
       " <selenium.webdriver.remote.webelement.WebElement (session=\"a3d71256ae4b8e797689a1b404bced4d\", element=\"955dde00-1b7f-43fe-bb7b-f1236055affd\")>,\n",
       " <selenium.webdriver.remote.webelement.WebElement (session=\"a3d71256ae4b8e797689a1b404bced4d\", element=\"a8336a13-06a3-4bef-b80a-d48510489fbe\")>,\n",
       " <selenium.webdriver.remote.webelement.WebElement (session=\"a3d71256ae4b8e797689a1b404bced4d\", element=\"0e41fb6f-d605-4b3c-bf89-4f3eb44ce614\")>,\n",
       " <selenium.webdriver.remote.webelement.WebElement (session=\"a3d71256ae4b8e797689a1b404bced4d\", element=\"078d4991-7d4a-4624-990a-05069eda7e11\")>,\n",
       " <selenium.webdriver.remote.webelement.WebElement (session=\"a3d71256ae4b8e797689a1b404bced4d\", element=\"72645f1f-6077-4737-beac-2dccbd2e908a\")>,\n",
       " <selenium.webdriver.remote.webelement.WebElement (session=\"a3d71256ae4b8e797689a1b404bced4d\", element=\"42a10d56-1b02-4ce6-b9e3-62cee3b1c857\")>,\n",
       " <selenium.webdriver.remote.webelement.WebElement (session=\"a3d71256ae4b8e797689a1b404bced4d\", element=\"2433d935-098c-451e-9f15-b26b72e372da\")>,\n",
       " <selenium.webdriver.remote.webelement.WebElement (session=\"a3d71256ae4b8e797689a1b404bced4d\", element=\"072e5080-30ec-4fec-ba70-4c1bc80a5f4f\")>,\n",
       " <selenium.webdriver.remote.webelement.WebElement (session=\"a3d71256ae4b8e797689a1b404bced4d\", element=\"22cc90e0-c1fb-4157-96c9-ede6536ac668\")>,\n",
       " <selenium.webdriver.remote.webelement.WebElement (session=\"a3d71256ae4b8e797689a1b404bced4d\", element=\"3d689c8b-fc53-4251-a54a-49fd0b6c4428\")>,\n",
       " <selenium.webdriver.remote.webelement.WebElement (session=\"a3d71256ae4b8e797689a1b404bced4d\", element=\"346b0795-b4f8-47d6-950d-8cacdeb69642\")>,\n",
       " <selenium.webdriver.remote.webelement.WebElement (session=\"a3d71256ae4b8e797689a1b404bced4d\", element=\"401ebe98-f107-48e4-ad9b-85f0053cb335\")>,\n",
       " <selenium.webdriver.remote.webelement.WebElement (session=\"a3d71256ae4b8e797689a1b404bced4d\", element=\"98215319-2844-43a9-b8b2-323c7f3cb526\")>,\n",
       " <selenium.webdriver.remote.webelement.WebElement (session=\"a3d71256ae4b8e797689a1b404bced4d\", element=\"12e02dcc-8fa4-4f01-8dbb-3b7db639904e\")>,\n",
       " <selenium.webdriver.remote.webelement.WebElement (session=\"a3d71256ae4b8e797689a1b404bced4d\", element=\"021fddfe-b44d-4af2-b5e6-48093228ba78\")>]"
      ]
     },
     "execution_count": 26,
     "metadata": {},
     "output_type": "execute_result"
    }
   ],
   "source": [
    "\n",
    "header2=browser.find_elements(\"xpath\",\"//div[@class='td-wrap-in']\")\n",
    "header2\n"
   ]
  },
  {
   "cell_type": "code",
   "execution_count": 27,
   "id": "ab289a1c",
   "metadata": {},
   "outputs": [
    {
     "data": {
      "text/plain": [
       "['79.8', '82', '50.1', '98.6', '62.6', '87.9', '100', '56.2', '91.2']"
      ]
     },
     "execution_count": 27,
     "metadata": {},
     "output_type": "execute_result"
    }
   ],
   "source": [
    "#PARSING DATA\n",
    "value_head=[]\n",
    "for data in header2:\n",
    "    #get the text data\n",
    "    temp=data.text\n",
    "    value_head.append(temp)\n",
    "value=value_head[91:100]\n",
    "value\n"
   ]
  },
  {
   "cell_type": "code",
   "execution_count": 28,
   "id": "be65edd2",
   "metadata": {},
   "outputs": [
    {
     "data": {
      "text/plain": [
       "{'Name': 'The Hong Kong University of Science and Technology',\n",
       " 'Location': 'Hong Kong SAR, Hong Kong SAR',\n",
       " 'Rank': '40',\n",
       " 'Overall Score': '79.8',\n",
       " 'Academic Reputation': '82',\n",
       " 'Employer Reputation': '50.1',\n",
       " 'Citations per Faculty': '98.6',\n",
       " 'Faculty Student Ratio': '62.6',\n",
       " 'International Students Ratio': '87.9',\n",
       " 'International Faculty Ratio': '100',\n",
       " 'International Research Network\\nUnweighted': '56.2',\n",
       " 'Employment Outcomes\\nUnweighted': '91.2'}"
      ]
     },
     "execution_count": 28,
     "metadata": {},
     "output_type": "execute_result"
    }
   ],
   "source": [
    "d={}\n",
    "d['Name']=value_head[90]\n",
    "d['Location']=loc[9]\n",
    "d['Rank']=RANK[9]\n",
    "for i in range(len(column_head)):\n",
    "    d[column_head[i]]=value[i]\n",
    "d"
   ]
  },
  {
   "cell_type": "code",
   "execution_count": 29,
   "id": "6be33b90",
   "metadata": {},
   "outputs": [
    {
     "data": {
      "text/plain": [
       "'{\"Name\": \"The Hong Kong University of Science and Technology\", \"Location\": \"Hong Kong SAR, Hong Kong SAR\", \"Rank\": \"40\", \"Overall Score\": \"79.8\", \"Academic Reputation\": \"82\", \"Employer Reputation\": \"50.1\", \"Citations per Faculty\": \"98.6\", \"Faculty Student Ratio\": \"62.6\", \"International Students Ratio\": \"87.9\", \"International Faculty Ratio\": \"100\", \"International Research Network\\\\nUnweighted\": \"56.2\", \"Employment Outcomes\\\\nUnweighted\": \"91.2\"}'"
      ]
     },
     "execution_count": 29,
     "metadata": {},
     "output_type": "execute_result"
    }
   ],
   "source": [
    "s1=json.dumps(d)\n",
    "s1"
   ]
  },
  {
   "cell_type": "code",
   "execution_count": 30,
   "id": "baf1bcbe",
   "metadata": {},
   "outputs": [],
   "source": [
    "with open('The Hong Kong University of Science and Technology.json','w') as f:\n",
    "    json.dump(d,f)\n"
   ]
  },
  {
   "cell_type": "code",
   "execution_count": null,
   "id": "bf8fcc14",
   "metadata": {},
   "outputs": [],
   "source": []
  },
  {
   "cell_type": "code",
   "execution_count": null,
   "id": "2146ff43",
   "metadata": {},
   "outputs": [],
   "source": []
  },
  {
   "cell_type": "code",
   "execution_count": null,
   "id": "29be8c70",
   "metadata": {},
   "outputs": [],
   "source": []
  }
 ],
 "metadata": {
  "kernelspec": {
   "display_name": "Python 3 (ipykernel)",
   "language": "python",
   "name": "python3"
  },
  "language_info": {
   "codemirror_mode": {
    "name": "ipython",
    "version": 3
   },
   "file_extension": ".py",
   "mimetype": "text/x-python",
   "name": "python",
   "nbconvert_exporter": "python",
   "pygments_lexer": "ipython3",
   "version": "3.9.12"
  }
 },
 "nbformat": 4,
 "nbformat_minor": 5
}
