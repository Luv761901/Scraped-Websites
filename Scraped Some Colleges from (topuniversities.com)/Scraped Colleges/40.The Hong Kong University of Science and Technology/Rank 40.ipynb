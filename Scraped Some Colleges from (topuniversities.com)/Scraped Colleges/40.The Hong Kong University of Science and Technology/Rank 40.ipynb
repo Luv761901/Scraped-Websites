{
 "cells": [
  {
   "cell_type": "code",
   "execution_count": 1,
   "id": "5d595331",
   "metadata": {},
   "outputs": [],
   "source": [
    "from selenium import webdriver\n",
    "from selenium.webdriver.chrome.service import Service\n",
    "import pandas as pd\n",
    "import json"
   ]
  },
  {
   "cell_type": "code",
   "execution_count": 2,
   "id": "a920a00f",
   "metadata": {},
   "outputs": [],
   "source": [
    "path = Service('C:\\chromedriver.exe')"
   ]
  },
  {
   "cell_type": "code",
   "execution_count": 3,
   "id": "54d71531",
   "metadata": {},
   "outputs": [],
   "source": [
    "# set path for the driver\n",
    "browser = webdriver.Chrome(service = path)\n"
   ]
  },
  {
   "cell_type": "code",
   "execution_count": 4,
   "id": "630e53fe",
   "metadata": {},
   "outputs": [],
   "source": [
    "url = \"https://www.topuniversities.com/university-rankings/world-university-rankings/2023\""
   ]
  },
  {
   "cell_type": "code",
   "execution_count": 5,
   "id": "a1caac02",
   "metadata": {},
   "outputs": [],
   "source": [
    "\n",
    "# open the page url ion chrome\n",
    "browser.get(url)"
   ]
  },
  {
   "cell_type": "code",
   "execution_count": 6,
   "id": "c1cfb6f8",
   "metadata": {},
   "outputs": [
    {
     "data": {
      "text/plain": [
       "[<selenium.webdriver.remote.webelement.WebElement (session=\"4c786e22d27f49cff1321f28be8aa970\", element=\"f45ce3ef-40b7-4414-9275-a7f677122430\")>,\n",
       " <selenium.webdriver.remote.webelement.WebElement (session=\"4c786e22d27f49cff1321f28be8aa970\", element=\"63098f13-67bb-4b2b-a429-c6870cc7e397\")>,\n",
       " <selenium.webdriver.remote.webelement.WebElement (session=\"4c786e22d27f49cff1321f28be8aa970\", element=\"fddd014d-bd6a-4e04-a436-bfe8e99a5c98\")>,\n",
       " <selenium.webdriver.remote.webelement.WebElement (session=\"4c786e22d27f49cff1321f28be8aa970\", element=\"ec2e3807-121c-4854-ad1a-e03dea5aad12\")>,\n",
       " <selenium.webdriver.remote.webelement.WebElement (session=\"4c786e22d27f49cff1321f28be8aa970\", element=\"d58fe3e1-788c-4e40-9704-00bd1190e7b3\")>,\n",
       " <selenium.webdriver.remote.webelement.WebElement (session=\"4c786e22d27f49cff1321f28be8aa970\", element=\"e3aad460-9adc-4038-9065-57eb499f7e3e\")>,\n",
       " <selenium.webdriver.remote.webelement.WebElement (session=\"4c786e22d27f49cff1321f28be8aa970\", element=\"918beef8-68e8-4d89-9965-3b47967fc125\")>,\n",
       " <selenium.webdriver.remote.webelement.WebElement (session=\"4c786e22d27f49cff1321f28be8aa970\", element=\"5ad945fe-f424-416d-b07d-17b190010d58\")>,\n",
       " <selenium.webdriver.remote.webelement.WebElement (session=\"4c786e22d27f49cff1321f28be8aa970\", element=\"f3b99c2d-7110-450f-ba56-e17a9ee701a5\")>]"
      ]
     },
     "execution_count": 6,
     "metadata": {},
     "output_type": "execute_result"
    }
   ],
   "source": [
    "# GET EACH COLLEGE SPECIFICATION HEADERS\n",
    "header=browser.find_elements(\"xpath\",\"//div[@class='_click-function_ind']\")\n",
    "header\n"
   ]
  },
  {
   "cell_type": "code",
   "execution_count": 7,
   "id": "be5f0b83",
   "metadata": {},
   "outputs": [
    {
     "data": {
      "text/plain": [
       "['Overall Score',\n",
       " 'Academic Reputation',\n",
       " 'Employer Reputation',\n",
       " 'Citations per Faculty',\n",
       " 'Faculty Student Ratio',\n",
       " 'International Students Ratio',\n",
       " 'International Faculty Ratio',\n",
       " 'International Research Network\\nUnweighted',\n",
       " 'Employment Outcomes\\nUnweighted']"
      ]
     },
     "execution_count": 7,
     "metadata": {},
     "output_type": "execute_result"
    }
   ],
   "source": [
    "#PARSING DATA\n",
    "column_head=[]\n",
    "for data in header:\n",
    "    #get the text data\n",
    "    temp=data.text\n",
    "    column_head.append(temp)\n",
    "column_head\n"
   ]
  },
  {
   "cell_type": "code",
   "execution_count": 8,
   "id": "d6257eb1",
   "metadata": {},
   "outputs": [
    {
     "data": {
      "text/plain": [
       "[<selenium.webdriver.remote.webelement.WebElement (session=\"4c786e22d27f49cff1321f28be8aa970\", element=\"791527b0-cd4b-4dc2-975f-455f2c41749e\")>,\n",
       " <selenium.webdriver.remote.webelement.WebElement (session=\"4c786e22d27f49cff1321f28be8aa970\", element=\"d2e008c0-efb4-4d3c-9c61-6679391577ef\")>,\n",
       " <selenium.webdriver.remote.webelement.WebElement (session=\"4c786e22d27f49cff1321f28be8aa970\", element=\"0e23f1d4-0e72-44e9-b4d2-ea4e6f8ffa45\")>,\n",
       " <selenium.webdriver.remote.webelement.WebElement (session=\"4c786e22d27f49cff1321f28be8aa970\", element=\"48d8f436-bc66-4e6a-93c2-745144c48430\")>,\n",
       " <selenium.webdriver.remote.webelement.WebElement (session=\"4c786e22d27f49cff1321f28be8aa970\", element=\"4b4b722e-7e80-4e86-b65e-b101799b9e1a\")>,\n",
       " <selenium.webdriver.remote.webelement.WebElement (session=\"4c786e22d27f49cff1321f28be8aa970\", element=\"d2430cfc-5b7d-4bc6-b4bd-fdeebc1be2f7\")>,\n",
       " <selenium.webdriver.remote.webelement.WebElement (session=\"4c786e22d27f49cff1321f28be8aa970\", element=\"f4d61988-2849-4c4f-84cb-53707d6df130\")>,\n",
       " <selenium.webdriver.remote.webelement.WebElement (session=\"4c786e22d27f49cff1321f28be8aa970\", element=\"699843fd-9d4e-4b59-a4de-7abb05259303\")>,\n",
       " <selenium.webdriver.remote.webelement.WebElement (session=\"4c786e22d27f49cff1321f28be8aa970\", element=\"f48f636e-70fb-4c34-985b-0b4fa7ea729e\")>,\n",
       " <selenium.webdriver.remote.webelement.WebElement (session=\"4c786e22d27f49cff1321f28be8aa970\", element=\"bb238f62-dcbd-466c-beda-3f74a5bc4c14\")>,\n",
       " <selenium.webdriver.remote.webelement.WebElement (session=\"4c786e22d27f49cff1321f28be8aa970\", element=\"d9db983e-4e4d-4489-beb8-9ff0e691d7fe\")>,\n",
       " <selenium.webdriver.remote.webelement.WebElement (session=\"4c786e22d27f49cff1321f28be8aa970\", element=\"8322e85f-0379-42e1-b730-30b4cc5aeb69\")>,\n",
       " <selenium.webdriver.remote.webelement.WebElement (session=\"4c786e22d27f49cff1321f28be8aa970\", element=\"a4c093b9-9f73-4009-8e6e-c5536d5a6096\")>,\n",
       " <selenium.webdriver.remote.webelement.WebElement (session=\"4c786e22d27f49cff1321f28be8aa970\", element=\"b85210d6-68aa-430e-8488-55f7ed49074a\")>,\n",
       " <selenium.webdriver.remote.webelement.WebElement (session=\"4c786e22d27f49cff1321f28be8aa970\", element=\"7ee883f1-be34-4c60-96f3-d6f66063f438\")>,\n",
       " <selenium.webdriver.remote.webelement.WebElement (session=\"4c786e22d27f49cff1321f28be8aa970\", element=\"3b47d230-3988-45d9-99d7-9c01702ff162\")>,\n",
       " <selenium.webdriver.remote.webelement.WebElement (session=\"4c786e22d27f49cff1321f28be8aa970\", element=\"0f65348d-9ced-4b90-aac6-629356defa9b\")>,\n",
       " <selenium.webdriver.remote.webelement.WebElement (session=\"4c786e22d27f49cff1321f28be8aa970\", element=\"0057f063-7871-4abc-8a8d-286128ec9c1a\")>,\n",
       " <selenium.webdriver.remote.webelement.WebElement (session=\"4c786e22d27f49cff1321f28be8aa970\", element=\"16546457-6a06-436a-a42e-420e25c0cf25\")>,\n",
       " <selenium.webdriver.remote.webelement.WebElement (session=\"4c786e22d27f49cff1321f28be8aa970\", element=\"3a2b9178-f1d4-41e0-ab03-a100fcccdbd5\")>,\n",
       " <selenium.webdriver.remote.webelement.WebElement (session=\"4c786e22d27f49cff1321f28be8aa970\", element=\"a1abb327-0ad8-4b48-b50b-3b3a8f902ce1\")>,\n",
       " <selenium.webdriver.remote.webelement.WebElement (session=\"4c786e22d27f49cff1321f28be8aa970\", element=\"50859bbe-dac9-44f7-9ba6-22cea0bec809\")>,\n",
       " <selenium.webdriver.remote.webelement.WebElement (session=\"4c786e22d27f49cff1321f28be8aa970\", element=\"171ba435-4099-4996-9c2d-78988c8112e1\")>,\n",
       " <selenium.webdriver.remote.webelement.WebElement (session=\"4c786e22d27f49cff1321f28be8aa970\", element=\"adc40bf4-7e37-4c16-9cb0-50147a799abb\")>,\n",
       " <selenium.webdriver.remote.webelement.WebElement (session=\"4c786e22d27f49cff1321f28be8aa970\", element=\"b9379aa7-8934-438b-b968-c2822a581d7a\")>,\n",
       " <selenium.webdriver.remote.webelement.WebElement (session=\"4c786e22d27f49cff1321f28be8aa970\", element=\"180f3cbf-677c-4ef8-b20b-a9ae03975366\")>,\n",
       " <selenium.webdriver.remote.webelement.WebElement (session=\"4c786e22d27f49cff1321f28be8aa970\", element=\"d2172fbe-d2af-44c6-a065-5a19ee5c5922\")>,\n",
       " <selenium.webdriver.remote.webelement.WebElement (session=\"4c786e22d27f49cff1321f28be8aa970\", element=\"9a0e5f38-f04e-4fa2-82cf-b513989a9629\")>,\n",
       " <selenium.webdriver.remote.webelement.WebElement (session=\"4c786e22d27f49cff1321f28be8aa970\", element=\"d6644379-5d60-47f1-99cc-c9ca7bb8dcf2\")>,\n",
       " <selenium.webdriver.remote.webelement.WebElement (session=\"4c786e22d27f49cff1321f28be8aa970\", element=\"509e94ca-53c4-44b4-a6a7-614b38732d6d\")>,\n",
       " <selenium.webdriver.remote.webelement.WebElement (session=\"4c786e22d27f49cff1321f28be8aa970\", element=\"4bdb8c8a-2464-4a4b-8236-0f53dce29cc7\")>,\n",
       " <selenium.webdriver.remote.webelement.WebElement (session=\"4c786e22d27f49cff1321f28be8aa970\", element=\"c30de6d3-29b9-4e9a-a7f7-e6f5569b7cd9\")>,\n",
       " <selenium.webdriver.remote.webelement.WebElement (session=\"4c786e22d27f49cff1321f28be8aa970\", element=\"95d9a035-978b-4b8f-91c1-ca2c21fc89fa\")>,\n",
       " <selenium.webdriver.remote.webelement.WebElement (session=\"4c786e22d27f49cff1321f28be8aa970\", element=\"42852587-4dc6-4690-bbe9-ca190a69f051\")>,\n",
       " <selenium.webdriver.remote.webelement.WebElement (session=\"4c786e22d27f49cff1321f28be8aa970\", element=\"b796258f-df1c-4283-a6e8-be17e6eb5888\")>,\n",
       " <selenium.webdriver.remote.webelement.WebElement (session=\"4c786e22d27f49cff1321f28be8aa970\", element=\"373462c9-f3d5-4e1f-81ca-80882f14c7ab\")>,\n",
       " <selenium.webdriver.remote.webelement.WebElement (session=\"4c786e22d27f49cff1321f28be8aa970\", element=\"3098414c-ecec-46de-97e3-d864ca6f329f\")>,\n",
       " <selenium.webdriver.remote.webelement.WebElement (session=\"4c786e22d27f49cff1321f28be8aa970\", element=\"2c09aa2a-09bc-4ae1-982e-c9932d7d0851\")>,\n",
       " <selenium.webdriver.remote.webelement.WebElement (session=\"4c786e22d27f49cff1321f28be8aa970\", element=\"be697ef5-87a9-4e5a-bcae-d6c4ad7eed4c\")>,\n",
       " <selenium.webdriver.remote.webelement.WebElement (session=\"4c786e22d27f49cff1321f28be8aa970\", element=\"f0536663-0de8-4436-a93f-e5e145cd7628\")>,\n",
       " <selenium.webdriver.remote.webelement.WebElement (session=\"4c786e22d27f49cff1321f28be8aa970\", element=\"869068cf-7cf9-46ff-ad43-7ebaf42a3e93\")>,\n",
       " <selenium.webdriver.remote.webelement.WebElement (session=\"4c786e22d27f49cff1321f28be8aa970\", element=\"3cf77ccd-cb19-45e2-9a0e-480352e9d980\")>,\n",
       " <selenium.webdriver.remote.webelement.WebElement (session=\"4c786e22d27f49cff1321f28be8aa970\", element=\"619c55a9-80f4-49b1-a91d-27452c9fa9a7\")>,\n",
       " <selenium.webdriver.remote.webelement.WebElement (session=\"4c786e22d27f49cff1321f28be8aa970\", element=\"e54ae02e-a422-4a5d-a176-32e26f3a64fd\")>,\n",
       " <selenium.webdriver.remote.webelement.WebElement (session=\"4c786e22d27f49cff1321f28be8aa970\", element=\"67b52bcf-f012-4572-8d6f-62228a8fd286\")>,\n",
       " <selenium.webdriver.remote.webelement.WebElement (session=\"4c786e22d27f49cff1321f28be8aa970\", element=\"9463873b-fde7-4a6e-a23a-b1a18f44f8ae\")>,\n",
       " <selenium.webdriver.remote.webelement.WebElement (session=\"4c786e22d27f49cff1321f28be8aa970\", element=\"ce2d8a1d-548d-4fe8-b00c-38e52a99c131\")>,\n",
       " <selenium.webdriver.remote.webelement.WebElement (session=\"4c786e22d27f49cff1321f28be8aa970\", element=\"4578afee-78fb-40b1-9f1c-b9f605737e3d\")>,\n",
       " <selenium.webdriver.remote.webelement.WebElement (session=\"4c786e22d27f49cff1321f28be8aa970\", element=\"e4b5d962-f7a1-4e74-8e50-e1b8d4950020\")>,\n",
       " <selenium.webdriver.remote.webelement.WebElement (session=\"4c786e22d27f49cff1321f28be8aa970\", element=\"8a9c9e89-6243-4703-a653-e50acefc2689\")>,\n",
       " <selenium.webdriver.remote.webelement.WebElement (session=\"4c786e22d27f49cff1321f28be8aa970\", element=\"bb35a3fc-0b6a-4fc7-8ab8-432ba8865770\")>,\n",
       " <selenium.webdriver.remote.webelement.WebElement (session=\"4c786e22d27f49cff1321f28be8aa970\", element=\"18fffd1c-9409-4ae2-a11f-a63ace356937\")>,\n",
       " <selenium.webdriver.remote.webelement.WebElement (session=\"4c786e22d27f49cff1321f28be8aa970\", element=\"1d580cdc-f3f2-42b4-a53d-12a5f63252a1\")>,\n",
       " <selenium.webdriver.remote.webelement.WebElement (session=\"4c786e22d27f49cff1321f28be8aa970\", element=\"71243bab-f026-485a-89a7-2fd2b046ddef\")>,\n",
       " <selenium.webdriver.remote.webelement.WebElement (session=\"4c786e22d27f49cff1321f28be8aa970\", element=\"2edb3517-692d-43ec-8c4d-b2d990fd86bc\")>,\n",
       " <selenium.webdriver.remote.webelement.WebElement (session=\"4c786e22d27f49cff1321f28be8aa970\", element=\"899d8f36-231c-4961-8d34-79288aeca04a\")>,\n",
       " <selenium.webdriver.remote.webelement.WebElement (session=\"4c786e22d27f49cff1321f28be8aa970\", element=\"24e70282-e273-4528-9bd9-1305ca6b4d03\")>,\n",
       " <selenium.webdriver.remote.webelement.WebElement (session=\"4c786e22d27f49cff1321f28be8aa970\", element=\"3a3653fb-772b-4db7-907d-1aa9eaac1c80\")>,\n",
       " <selenium.webdriver.remote.webelement.WebElement (session=\"4c786e22d27f49cff1321f28be8aa970\", element=\"a4fbcd7c-5492-4be6-950f-bad7b2be7b87\")>,\n",
       " <selenium.webdriver.remote.webelement.WebElement (session=\"4c786e22d27f49cff1321f28be8aa970\", element=\"03961529-0f7e-4b7a-a589-fd31bb661c7a\")>,\n",
       " <selenium.webdriver.remote.webelement.WebElement (session=\"4c786e22d27f49cff1321f28be8aa970\", element=\"1cbebff4-a67a-4a78-bfdf-8ca1a3bb2632\")>,\n",
       " <selenium.webdriver.remote.webelement.WebElement (session=\"4c786e22d27f49cff1321f28be8aa970\", element=\"ebe1ee45-f1ff-4e26-96c8-4629136c06e7\")>,\n",
       " <selenium.webdriver.remote.webelement.WebElement (session=\"4c786e22d27f49cff1321f28be8aa970\", element=\"0ffd576d-0d7d-445d-9499-b55bb900c37a\")>,\n",
       " <selenium.webdriver.remote.webelement.WebElement (session=\"4c786e22d27f49cff1321f28be8aa970\", element=\"069b58f1-8967-466e-be31-c4d856958546\")>,\n",
       " <selenium.webdriver.remote.webelement.WebElement (session=\"4c786e22d27f49cff1321f28be8aa970\", element=\"29325f27-e302-4207-a267-c89bde8909a1\")>,\n",
       " <selenium.webdriver.remote.webelement.WebElement (session=\"4c786e22d27f49cff1321f28be8aa970\", element=\"e63470dc-39de-4906-98b1-b6d1add48274\")>,\n",
       " <selenium.webdriver.remote.webelement.WebElement (session=\"4c786e22d27f49cff1321f28be8aa970\", element=\"5b0825df-a1d1-47ce-9d59-23f8a3ca21d7\")>,\n",
       " <selenium.webdriver.remote.webelement.WebElement (session=\"4c786e22d27f49cff1321f28be8aa970\", element=\"afcc0ddd-ea27-4e70-9087-d250d5e2ace8\")>,\n",
       " <selenium.webdriver.remote.webelement.WebElement (session=\"4c786e22d27f49cff1321f28be8aa970\", element=\"92d496b1-3825-427e-b1e3-417fad86f7a3\")>,\n",
       " <selenium.webdriver.remote.webelement.WebElement (session=\"4c786e22d27f49cff1321f28be8aa970\", element=\"95385620-f47d-4028-bab4-2cea29e2d77c\")>,\n",
       " <selenium.webdriver.remote.webelement.WebElement (session=\"4c786e22d27f49cff1321f28be8aa970\", element=\"22a7518c-cfdb-4586-9ca2-ebd7bee5f274\")>,\n",
       " <selenium.webdriver.remote.webelement.WebElement (session=\"4c786e22d27f49cff1321f28be8aa970\", element=\"7aed723b-9f31-4306-9797-8a6b1dd50022\")>,\n",
       " <selenium.webdriver.remote.webelement.WebElement (session=\"4c786e22d27f49cff1321f28be8aa970\", element=\"ac6b0358-ad9f-4480-ba19-a071cb722105\")>,\n",
       " <selenium.webdriver.remote.webelement.WebElement (session=\"4c786e22d27f49cff1321f28be8aa970\", element=\"381c4d36-8034-4d8f-9602-d84ae94ab837\")>,\n",
       " <selenium.webdriver.remote.webelement.WebElement (session=\"4c786e22d27f49cff1321f28be8aa970\", element=\"3c5af3cb-65f2-4487-9b48-699a30dc776f\")>,\n",
       " <selenium.webdriver.remote.webelement.WebElement (session=\"4c786e22d27f49cff1321f28be8aa970\", element=\"35f84eb5-ed5f-41d6-90bd-741d0fb72ead\")>,\n",
       " <selenium.webdriver.remote.webelement.WebElement (session=\"4c786e22d27f49cff1321f28be8aa970\", element=\"74b5e73b-3113-474e-b2fd-396c264717ca\")>,\n",
       " <selenium.webdriver.remote.webelement.WebElement (session=\"4c786e22d27f49cff1321f28be8aa970\", element=\"cea52815-5d38-4ca4-8e87-d458850e825c\")>,\n",
       " <selenium.webdriver.remote.webelement.WebElement (session=\"4c786e22d27f49cff1321f28be8aa970\", element=\"75a64978-1c00-4953-a045-6b6b64a940ac\")>,\n",
       " <selenium.webdriver.remote.webelement.WebElement (session=\"4c786e22d27f49cff1321f28be8aa970\", element=\"905cfbb6-7430-48d6-8775-5e4e5f7739b6\")>,\n",
       " <selenium.webdriver.remote.webelement.WebElement (session=\"4c786e22d27f49cff1321f28be8aa970\", element=\"22735400-8c65-42d8-b34a-d4f935c06d2b\")>,\n",
       " <selenium.webdriver.remote.webelement.WebElement (session=\"4c786e22d27f49cff1321f28be8aa970\", element=\"9cf97dfd-7cfb-4ff8-a933-9ac9e3a56f88\")>,\n",
       " <selenium.webdriver.remote.webelement.WebElement (session=\"4c786e22d27f49cff1321f28be8aa970\", element=\"7df08f40-d9fa-45ad-82b7-51ecc6d57148\")>,\n",
       " <selenium.webdriver.remote.webelement.WebElement (session=\"4c786e22d27f49cff1321f28be8aa970\", element=\"5f9fed37-1c3d-4bea-80c1-9116f56f0a10\")>,\n",
       " <selenium.webdriver.remote.webelement.WebElement (session=\"4c786e22d27f49cff1321f28be8aa970\", element=\"d2356149-782e-40a2-bd31-74f7bbce7f3c\")>,\n",
       " <selenium.webdriver.remote.webelement.WebElement (session=\"4c786e22d27f49cff1321f28be8aa970\", element=\"34941d20-79c7-45bd-93b0-73b230a4628d\")>,\n",
       " <selenium.webdriver.remote.webelement.WebElement (session=\"4c786e22d27f49cff1321f28be8aa970\", element=\"a1b7dc58-9a71-47a4-8a70-0d4d5482b989\")>,\n",
       " <selenium.webdriver.remote.webelement.WebElement (session=\"4c786e22d27f49cff1321f28be8aa970\", element=\"a66de00c-92aa-4bd7-9c57-fb39806ab31c\")>,\n",
       " <selenium.webdriver.remote.webelement.WebElement (session=\"4c786e22d27f49cff1321f28be8aa970\", element=\"c9478c49-b3e0-4ba4-9b5a-1c3e83572273\")>,\n",
       " <selenium.webdriver.remote.webelement.WebElement (session=\"4c786e22d27f49cff1321f28be8aa970\", element=\"fb95ea1a-ac94-4ef4-aabf-5b313b85bf3d\")>,\n",
       " <selenium.webdriver.remote.webelement.WebElement (session=\"4c786e22d27f49cff1321f28be8aa970\", element=\"19b7d217-daf4-449e-ac21-2c83980a937f\")>,\n",
       " <selenium.webdriver.remote.webelement.WebElement (session=\"4c786e22d27f49cff1321f28be8aa970\", element=\"22fed7be-3e74-4d01-8b8a-817d360c3e25\")>,\n",
       " <selenium.webdriver.remote.webelement.WebElement (session=\"4c786e22d27f49cff1321f28be8aa970\", element=\"fb198ae4-75f3-4889-8fe8-ce76dcea8054\")>,\n",
       " <selenium.webdriver.remote.webelement.WebElement (session=\"4c786e22d27f49cff1321f28be8aa970\", element=\"ccf1c5c3-8eeb-4442-a950-7607e4c46a1d\")>,\n",
       " <selenium.webdriver.remote.webelement.WebElement (session=\"4c786e22d27f49cff1321f28be8aa970\", element=\"2dd7cf95-0ebf-4a51-b739-99bcbf72a136\")>,\n",
       " <selenium.webdriver.remote.webelement.WebElement (session=\"4c786e22d27f49cff1321f28be8aa970\", element=\"9654ae21-d285-45f6-a53b-3d19a7430324\")>,\n",
       " <selenium.webdriver.remote.webelement.WebElement (session=\"4c786e22d27f49cff1321f28be8aa970\", element=\"0495a8a3-d91d-40d0-8603-9957dc269ce3\")>,\n",
       " <selenium.webdriver.remote.webelement.WebElement (session=\"4c786e22d27f49cff1321f28be8aa970\", element=\"98fa1a02-dcb6-465b-8b65-553d4f423ad2\")>,\n",
       " <selenium.webdriver.remote.webelement.WebElement (session=\"4c786e22d27f49cff1321f28be8aa970\", element=\"1dfa6b43-880a-46dc-bb9d-e92b2316e965\")>,\n",
       " <selenium.webdriver.remote.webelement.WebElement (session=\"4c786e22d27f49cff1321f28be8aa970\", element=\"2e64d1f7-95a0-4954-bb61-89ca2aa53a0a\")>]"
      ]
     },
     "execution_count": 8,
     "metadata": {},
     "output_type": "execute_result"
    }
   ],
   "source": [
    "\n",
    "header2=browser.find_elements(\"xpath\",\"//div[@class='td-wrap-in']\")\n",
    "header2\n"
   ]
  },
  {
   "cell_type": "code",
   "execution_count": 9,
   "id": "ab289a1c",
   "metadata": {},
   "outputs": [
    {
     "data": {
      "text/plain": [
       "['79.8', '82', '50.1', '98.6', '62.6', '87.9', '100', '56.2', '91.2']"
      ]
     },
     "execution_count": 9,
     "metadata": {},
     "output_type": "execute_result"
    }
   ],
   "source": [
    "#PARSING DATA\n",
    "value_head=[]\n",
    "for data in header2:\n",
    "    #get the text data\n",
    "    temp=data.text\n",
    "    value_head.append(temp)\n",
    "value_head=value_head[91:100]\n",
    "value_head\n"
   ]
  },
  {
   "cell_type": "code",
   "execution_count": 10,
   "id": "be65edd2",
   "metadata": {},
   "outputs": [
    {
     "data": {
      "text/plain": [
       "{'Overall Score': '79.8',\n",
       " 'Academic Reputation': '82',\n",
       " 'Employer Reputation': '50.1',\n",
       " 'Citations per Faculty': '98.6',\n",
       " 'Faculty Student Ratio': '62.6',\n",
       " 'International Students Ratio': '87.9',\n",
       " 'International Faculty Ratio': '100',\n",
       " 'International Research Network\\nUnweighted': '56.2',\n",
       " 'Employment Outcomes\\nUnweighted': '91.2'}"
      ]
     },
     "execution_count": 10,
     "metadata": {},
     "output_type": "execute_result"
    }
   ],
   "source": [
    "d={}\n",
    "for i in range(len(column_head)):\n",
    "    d[column_head[i]]=value_head[i]\n",
    "d"
   ]
  },
  {
   "cell_type": "code",
   "execution_count": 11,
   "id": "6be33b90",
   "metadata": {},
   "outputs": [
    {
     "data": {
      "text/plain": [
       "'{\"Overall Score\": \"79.8\", \"Academic Reputation\": \"82\", \"Employer Reputation\": \"50.1\", \"Citations per Faculty\": \"98.6\", \"Faculty Student Ratio\": \"62.6\", \"International Students Ratio\": \"87.9\", \"International Faculty Ratio\": \"100\", \"International Research Network\\\\nUnweighted\": \"56.2\", \"Employment Outcomes\\\\nUnweighted\": \"91.2\"}'"
      ]
     },
     "execution_count": 11,
     "metadata": {},
     "output_type": "execute_result"
    }
   ],
   "source": [
    "s1=json.dumps(d)\n",
    "s1"
   ]
  },
  {
   "cell_type": "code",
   "execution_count": 13,
   "id": "baf1bcbe",
   "metadata": {},
   "outputs": [],
   "source": [
    "with open('The Hong Kong University of Science and Technology.json','w') as f:\n",
    "    json.dump(d,f)\n"
   ]
  },
  {
   "cell_type": "code",
   "execution_count": null,
   "id": "bf8fcc14",
   "metadata": {},
   "outputs": [],
   "source": []
  }
 ],
 "metadata": {
  "kernelspec": {
   "display_name": "Python 3 (ipykernel)",
   "language": "python",
   "name": "python3"
  },
  "language_info": {
   "codemirror_mode": {
    "name": "ipython",
    "version": 3
   },
   "file_extension": ".py",
   "mimetype": "text/x-python",
   "name": "python",
   "nbconvert_exporter": "python",
   "pygments_lexer": "ipython3",
   "version": "3.9.12"
  }
 },
 "nbformat": 4,
 "nbformat_minor": 5
}
