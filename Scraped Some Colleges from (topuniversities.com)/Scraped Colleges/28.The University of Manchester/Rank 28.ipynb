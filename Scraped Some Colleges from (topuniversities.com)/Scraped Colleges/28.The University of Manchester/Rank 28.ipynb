{
 "cells": [
  {
   "cell_type": "code",
   "execution_count": 10,
   "id": "407222cb",
   "metadata": {},
   "outputs": [],
   "source": [
    "from selenium import webdriver\n",
    "from selenium.webdriver.chrome.service import Service\n",
    "import pandas as pd\n",
    "import json"
   ]
  },
  {
   "cell_type": "code",
   "execution_count": 11,
   "id": "c3803046",
   "metadata": {},
   "outputs": [],
   "source": [
    "path = Service('C:\\chromedriver.exe')"
   ]
  },
  {
   "cell_type": "code",
   "execution_count": 12,
   "id": "acaf6144",
   "metadata": {},
   "outputs": [],
   "source": [
    "# set path for the driver\n",
    "browser = webdriver.Chrome(service = path)"
   ]
  },
  {
   "cell_type": "code",
   "execution_count": 13,
   "id": "bcf13a45",
   "metadata": {},
   "outputs": [],
   "source": [
    "url = \"https://www.topuniversities.com/university-rankings/world-university-rankings/2023\""
   ]
  },
  {
   "cell_type": "code",
   "execution_count": 16,
   "id": "7bf842a1",
   "metadata": {},
   "outputs": [],
   "source": [
    "# open the page url ion chrome\n",
    "browser.get(url)"
   ]
  },
  {
   "cell_type": "code",
   "execution_count": 17,
   "id": "40e616fa",
   "metadata": {},
   "outputs": [
    {
     "data": {
      "text/plain": [
       "[<selenium.webdriver.remote.webelement.WebElement (session=\"4d02feeba94f8cf30cd5bd6fc692b908\", element=\"2cd09af6-7cbb-43b8-8c54-bfd8b4c787f6\")>,\n",
       " <selenium.webdriver.remote.webelement.WebElement (session=\"4d02feeba94f8cf30cd5bd6fc692b908\", element=\"4672d000-9b8e-47e7-9f2a-153ebce4b7b7\")>,\n",
       " <selenium.webdriver.remote.webelement.WebElement (session=\"4d02feeba94f8cf30cd5bd6fc692b908\", element=\"7ff93b08-190a-4470-8d10-1c922598196f\")>,\n",
       " <selenium.webdriver.remote.webelement.WebElement (session=\"4d02feeba94f8cf30cd5bd6fc692b908\", element=\"6888f82e-0652-4482-bd51-441dce44ca3c\")>,\n",
       " <selenium.webdriver.remote.webelement.WebElement (session=\"4d02feeba94f8cf30cd5bd6fc692b908\", element=\"42faf0e5-dc4c-4533-9ce8-89d97955ac23\")>,\n",
       " <selenium.webdriver.remote.webelement.WebElement (session=\"4d02feeba94f8cf30cd5bd6fc692b908\", element=\"529e56ef-1973-4f7b-a934-b43e750aec9b\")>,\n",
       " <selenium.webdriver.remote.webelement.WebElement (session=\"4d02feeba94f8cf30cd5bd6fc692b908\", element=\"48b5e495-b8b4-449a-9de9-c4800e8e339d\")>,\n",
       " <selenium.webdriver.remote.webelement.WebElement (session=\"4d02feeba94f8cf30cd5bd6fc692b908\", element=\"e9040455-bdab-44c5-a0a4-95799998004f\")>,\n",
       " <selenium.webdriver.remote.webelement.WebElement (session=\"4d02feeba94f8cf30cd5bd6fc692b908\", element=\"ca642ad6-c003-4d1e-bf71-272e559d34e4\")>]"
      ]
     },
     "execution_count": 17,
     "metadata": {},
     "output_type": "execute_result"
    }
   ],
   "source": [
    "# GET EACH COLLEGE SPECIFICATION HEADERS\n",
    "header=browser.find_elements(\"xpath\",\"//div[@class='_click-function_ind']\")\n",
    "header"
   ]
  },
  {
   "cell_type": "code",
   "execution_count": 18,
   "id": "8654d368",
   "metadata": {},
   "outputs": [
    {
     "data": {
      "text/plain": [
       "['Overall Score',\n",
       " 'Academic Reputation',\n",
       " 'Employer Reputation',\n",
       " 'Citations per Faculty',\n",
       " 'Faculty Student Ratio',\n",
       " 'International Students Ratio',\n",
       " 'International Faculty Ratio',\n",
       " 'International Research Network\\nUnweighted',\n",
       " 'Employment Outcomes\\nUnweighted']"
      ]
     },
     "execution_count": 18,
     "metadata": {},
     "output_type": "execute_result"
    }
   ],
   "source": [
    "#PARSING DATA\n",
    "column_head=[]\n",
    "for data in header:\n",
    "    #get the text data\n",
    "    temp=data.text\n",
    "    column_head.append(temp)\n",
    "column_head"
   ]
  },
  {
   "cell_type": "code",
   "execution_count": null,
   "id": "cd1e3f04",
   "metadata": {},
   "outputs": [],
   "source": []
  }
 ],
 "metadata": {
  "kernelspec": {
   "display_name": "Python 3 (ipykernel)",
   "language": "python",
   "name": "python3"
  },
  "language_info": {
   "codemirror_mode": {
    "name": "ipython",
    "version": 3
   },
   "file_extension": ".py",
   "mimetype": "text/x-python",
   "name": "python",
   "nbconvert_exporter": "python",
   "pygments_lexer": "ipython3",
   "version": "3.9.12"
  }
 },
 "nbformat": 4,
 "nbformat_minor": 5
}
