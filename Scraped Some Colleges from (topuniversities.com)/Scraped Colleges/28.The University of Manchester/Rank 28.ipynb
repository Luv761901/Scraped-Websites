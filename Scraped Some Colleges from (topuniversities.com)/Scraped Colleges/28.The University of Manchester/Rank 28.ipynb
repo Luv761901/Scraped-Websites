{
 "cells": [
  {
   "cell_type": "code",
   "execution_count": 1,
   "id": "407222cb",
   "metadata": {},
   "outputs": [],
   "source": [
    "from selenium import webdriver\n",
    "from selenium.webdriver.chrome.service import Service\n",
    "import pandas as pd\n",
    "import json"
   ]
  },
  {
   "cell_type": "code",
   "execution_count": 2,
   "id": "c3803046",
   "metadata": {},
   "outputs": [],
   "source": [
    "path = Service('C:\\chromedriver.exe')"
   ]
  },
  {
   "cell_type": "code",
   "execution_count": 3,
   "id": "acaf6144",
   "metadata": {},
   "outputs": [],
   "source": [
    "# set path for the driver\n",
    "browser = webdriver.Chrome(service = path)"
   ]
  },
  {
   "cell_type": "code",
   "execution_count": 4,
   "id": "bcf13a45",
   "metadata": {},
   "outputs": [],
   "source": [
    "url = \"https://www.topuniversities.com/university-rankings/world-university-rankings/2023\""
   ]
  },
  {
   "cell_type": "code",
   "execution_count": 5,
   "id": "7bf842a1",
   "metadata": {},
   "outputs": [],
   "source": [
    "# open the page url ion chrome\n",
    "browser.get(url)"
   ]
  },
  {
   "cell_type": "code",
   "execution_count": 6,
   "id": "307377d7",
   "metadata": {},
   "outputs": [
    {
     "data": {
      "text/plain": [
       "[<selenium.webdriver.remote.webelement.WebElement (session=\"7c110dda39900fd47b17420266e407ea\", element=\"a59bf705-de16-4873-9d17-81cb2150067c\")>,\n",
       " <selenium.webdriver.remote.webelement.WebElement (session=\"7c110dda39900fd47b17420266e407ea\", element=\"e4af3e08-fcaa-4a03-b7e9-7c124e4c61e5\")>,\n",
       " <selenium.webdriver.remote.webelement.WebElement (session=\"7c110dda39900fd47b17420266e407ea\", element=\"2db42af1-16b8-4ee4-bd68-a0b770632ac2\")>,\n",
       " <selenium.webdriver.remote.webelement.WebElement (session=\"7c110dda39900fd47b17420266e407ea\", element=\"f50b0822-6c4e-46e6-bb52-e7d38f4bde61\")>,\n",
       " <selenium.webdriver.remote.webelement.WebElement (session=\"7c110dda39900fd47b17420266e407ea\", element=\"90df3fd0-cbdb-44b7-93cc-a66a6155148c\")>,\n",
       " <selenium.webdriver.remote.webelement.WebElement (session=\"7c110dda39900fd47b17420266e407ea\", element=\"b5addc07-705f-481d-b5d3-5d375a178de3\")>,\n",
       " <selenium.webdriver.remote.webelement.WebElement (session=\"7c110dda39900fd47b17420266e407ea\", element=\"87c42ed2-6b55-4c91-a0a2-5387638bf8f8\")>,\n",
       " <selenium.webdriver.remote.webelement.WebElement (session=\"7c110dda39900fd47b17420266e407ea\", element=\"c25e152c-7567-4f4a-b687-509dcad3e3c4\")>,\n",
       " <selenium.webdriver.remote.webelement.WebElement (session=\"7c110dda39900fd47b17420266e407ea\", element=\"8dea745c-aaa6-4f87-aa9b-bb79d14db332\")>,\n",
       " <selenium.webdriver.remote.webelement.WebElement (session=\"7c110dda39900fd47b17420266e407ea\", element=\"a349c7d6-b435-4bb7-87f0-a16dbfc6b84f\")>,\n",
       " <selenium.webdriver.remote.webelement.WebElement (session=\"7c110dda39900fd47b17420266e407ea\", element=\"186f7611-bc83-403a-abdd-b9f4e41fd601\")>,\n",
       " <selenium.webdriver.remote.webelement.WebElement (session=\"7c110dda39900fd47b17420266e407ea\", element=\"b2666254-ca39-4f37-a10b-37691c3e7a1f\")>,\n",
       " <selenium.webdriver.remote.webelement.WebElement (session=\"7c110dda39900fd47b17420266e407ea\", element=\"5afd2d76-42d5-434a-88ea-48fde7bdcaad\")>,\n",
       " <selenium.webdriver.remote.webelement.WebElement (session=\"7c110dda39900fd47b17420266e407ea\", element=\"72aeb173-bf7b-4cf8-bd6d-0b593d7c5b54\")>,\n",
       " <selenium.webdriver.remote.webelement.WebElement (session=\"7c110dda39900fd47b17420266e407ea\", element=\"5fe38d52-699b-44ad-9e28-5989714e4df9\")>,\n",
       " <selenium.webdriver.remote.webelement.WebElement (session=\"7c110dda39900fd47b17420266e407ea\", element=\"7dc3dc14-076d-495f-980b-323bb60f59f4\")>,\n",
       " <selenium.webdriver.remote.webelement.WebElement (session=\"7c110dda39900fd47b17420266e407ea\", element=\"1b362ca1-6468-495c-9ee3-c3f9e308bdaf\")>,\n",
       " <selenium.webdriver.remote.webelement.WebElement (session=\"7c110dda39900fd47b17420266e407ea\", element=\"2a382549-5631-4094-8470-0f3ada2e8465\")>,\n",
       " <selenium.webdriver.remote.webelement.WebElement (session=\"7c110dda39900fd47b17420266e407ea\", element=\"d1a2091a-b2df-4d92-bc0a-731d3bc0bf78\")>,\n",
       " <selenium.webdriver.remote.webelement.WebElement (session=\"7c110dda39900fd47b17420266e407ea\", element=\"1b88658a-153a-40b7-9669-01f5dbb52c01\")>]"
      ]
     },
     "execution_count": 6,
     "metadata": {},
     "output_type": "execute_result"
    }
   ],
   "source": [
    "l1=browser.find_elements(\"xpath\",\"//div[@class='location ']\")\n",
    "l1\n"
   ]
  },
  {
   "cell_type": "code",
   "execution_count": 7,
   "id": "1881d7d3",
   "metadata": {},
   "outputs": [
    {
     "data": {
      "text/plain": [
       "[' Hong Kong SAR',\n",
       " 'New York City, United States',\n",
       " 'Tokyo, Japan',\n",
       " 'Baltimore, United States',\n",
       " 'Ann Arbor, United States',\n",
       " 'Paris, France',\n",
       " 'Berkeley, United States',\n",
       " 'Manchester, United Kingdom',\n",
       " 'Seoul, South Korea',\n",
       " 'Canberra, Australia']"
      ]
     },
     "execution_count": 7,
     "metadata": {},
     "output_type": "execute_result"
    }
   ],
   "source": [
    "loc=[]\n",
    "for data in l1:\n",
    "    #get the text data\n",
    "    temp=data.text\n",
    "    loc.append(temp)\n",
    "loc=loc[10:]\n",
    "loc"
   ]
  },
  {
   "cell_type": "code",
   "execution_count": 8,
   "id": "8eeb5f39",
   "metadata": {},
   "outputs": [
    {
     "data": {
      "text/plain": [
       "[<selenium.webdriver.remote.webelement.WebElement (session=\"7c110dda39900fd47b17420266e407ea\", element=\"6c6dcd9a-e2f8-490a-b10e-d42fe97d0bb5\")>,\n",
       " <selenium.webdriver.remote.webelement.WebElement (session=\"7c110dda39900fd47b17420266e407ea\", element=\"4f19a8a4-f93f-40d3-8fc0-1e5dc2dcbe46\")>,\n",
       " <selenium.webdriver.remote.webelement.WebElement (session=\"7c110dda39900fd47b17420266e407ea\", element=\"f52a0965-2aaa-40b3-b18b-b540592ab38b\")>,\n",
       " <selenium.webdriver.remote.webelement.WebElement (session=\"7c110dda39900fd47b17420266e407ea\", element=\"5802457c-2bb2-4776-b62e-bd8ac4a5dedf\")>,\n",
       " <selenium.webdriver.remote.webelement.WebElement (session=\"7c110dda39900fd47b17420266e407ea\", element=\"391e7728-05d4-40f6-aab1-ec8bfe4fdc30\")>,\n",
       " <selenium.webdriver.remote.webelement.WebElement (session=\"7c110dda39900fd47b17420266e407ea\", element=\"4fe5ab09-a1c6-491c-81f0-03d9d41a01bb\")>,\n",
       " <selenium.webdriver.remote.webelement.WebElement (session=\"7c110dda39900fd47b17420266e407ea\", element=\"5f7a34d1-d0c4-4004-b96e-12e0e0d06092\")>,\n",
       " <selenium.webdriver.remote.webelement.WebElement (session=\"7c110dda39900fd47b17420266e407ea\", element=\"0c44bafe-b22b-480b-a90d-0c6ac2c013f8\")>,\n",
       " <selenium.webdriver.remote.webelement.WebElement (session=\"7c110dda39900fd47b17420266e407ea\", element=\"6bbd1561-2056-4221-93a0-3ac9f45c57a7\")>,\n",
       " <selenium.webdriver.remote.webelement.WebElement (session=\"7c110dda39900fd47b17420266e407ea\", element=\"915a0ef5-d57d-48f2-81db-8e8eeea2ab9a\")>]"
      ]
     },
     "execution_count": 8,
     "metadata": {},
     "output_type": "execute_result"
    }
   ],
   "source": [
    "l2=browser.find_elements(\"xpath\",\"//div[@class='_univ-rank ']\")\n",
    "l2"
   ]
  },
  {
   "cell_type": "code",
   "execution_count": 9,
   "id": "58eb0766",
   "metadata": {},
   "outputs": [
    {
     "data": {
      "text/plain": [
       "['21', '22', '23', '24', '25', '26', '27', '28', '29', '30']"
      ]
     },
     "execution_count": 9,
     "metadata": {},
     "output_type": "execute_result"
    }
   ],
   "source": [
    "RANK=[]\n",
    "for data in l2:\n",
    "    #get the text data\n",
    "    temp=data.text\n",
    "    RANK.append(temp)\n",
    "RANK"
   ]
  },
  {
   "cell_type": "code",
   "execution_count": 10,
   "id": "40e616fa",
   "metadata": {},
   "outputs": [
    {
     "data": {
      "text/plain": [
       "[<selenium.webdriver.remote.webelement.WebElement (session=\"7c110dda39900fd47b17420266e407ea\", element=\"a82368ce-ecf9-4e05-a0b9-5c22c0b413cf\")>,\n",
       " <selenium.webdriver.remote.webelement.WebElement (session=\"7c110dda39900fd47b17420266e407ea\", element=\"34186582-5839-41cc-8786-9587bed5a1ba\")>,\n",
       " <selenium.webdriver.remote.webelement.WebElement (session=\"7c110dda39900fd47b17420266e407ea\", element=\"32eca2ee-f43a-4772-a421-8b85baa607e4\")>,\n",
       " <selenium.webdriver.remote.webelement.WebElement (session=\"7c110dda39900fd47b17420266e407ea\", element=\"c16a865e-c327-4b26-9ccc-0bbd86028bd1\")>,\n",
       " <selenium.webdriver.remote.webelement.WebElement (session=\"7c110dda39900fd47b17420266e407ea\", element=\"bf062ed4-7a9c-4c96-8d45-d2996987e771\")>,\n",
       " <selenium.webdriver.remote.webelement.WebElement (session=\"7c110dda39900fd47b17420266e407ea\", element=\"5c57af14-33a9-4840-9eda-f74ffdf7e9b4\")>,\n",
       " <selenium.webdriver.remote.webelement.WebElement (session=\"7c110dda39900fd47b17420266e407ea\", element=\"cdbb51e0-8a5f-4397-a650-83214aa0d6de\")>,\n",
       " <selenium.webdriver.remote.webelement.WebElement (session=\"7c110dda39900fd47b17420266e407ea\", element=\"5068403d-5e13-4ebf-a6dd-d96c181ae094\")>,\n",
       " <selenium.webdriver.remote.webelement.WebElement (session=\"7c110dda39900fd47b17420266e407ea\", element=\"92cafa1d-0c9d-4526-a194-70ecd387a92e\")>]"
      ]
     },
     "execution_count": 10,
     "metadata": {},
     "output_type": "execute_result"
    }
   ],
   "source": [
    "# GET EACH COLLEGE SPECIFICATION HEADERS\n",
    "header=browser.find_elements(\"xpath\",\"//div[@class='_click-function_ind']\")\n",
    "header"
   ]
  },
  {
   "cell_type": "code",
   "execution_count": 11,
   "id": "8654d368",
   "metadata": {},
   "outputs": [
    {
     "data": {
      "text/plain": [
       "['Overall Score',\n",
       " 'Academic Reputation',\n",
       " 'Employer Reputation',\n",
       " 'Citations per Faculty',\n",
       " 'Faculty Student Ratio',\n",
       " 'International Students Ratio',\n",
       " 'International Faculty Ratio',\n",
       " 'International Research Network\\nUnweighted',\n",
       " 'Employment Outcomes\\nUnweighted']"
      ]
     },
     "execution_count": 11,
     "metadata": {},
     "output_type": "execute_result"
    }
   ],
   "source": [
    "#PARSING DATA\n",
    "column_head=[]\n",
    "for data in header:\n",
    "    #get the text data\n",
    "    temp=data.text\n",
    "    column_head.append(temp)\n",
    "column_head"
   ]
  },
  {
   "cell_type": "code",
   "execution_count": 12,
   "id": "cd1e3f04",
   "metadata": {},
   "outputs": [
    {
     "data": {
      "text/plain": [
       "[<selenium.webdriver.remote.webelement.WebElement (session=\"7c110dda39900fd47b17420266e407ea\", element=\"f3df07e2-31f4-4343-8fff-2950276c2b05\")>,\n",
       " <selenium.webdriver.remote.webelement.WebElement (session=\"7c110dda39900fd47b17420266e407ea\", element=\"44cb1a65-9cbe-4f77-acb2-54ca4150563e\")>,\n",
       " <selenium.webdriver.remote.webelement.WebElement (session=\"7c110dda39900fd47b17420266e407ea\", element=\"f7fc8272-b539-4a82-a1be-142282eb8d25\")>,\n",
       " <selenium.webdriver.remote.webelement.WebElement (session=\"7c110dda39900fd47b17420266e407ea\", element=\"d9027bda-8d45-4754-a9b7-2c90f609d760\")>,\n",
       " <selenium.webdriver.remote.webelement.WebElement (session=\"7c110dda39900fd47b17420266e407ea\", element=\"6c0dbff3-bc9b-436c-ac36-db957937f95b\")>,\n",
       " <selenium.webdriver.remote.webelement.WebElement (session=\"7c110dda39900fd47b17420266e407ea\", element=\"0aa5eb88-b8f1-4de9-b248-836ff8129335\")>,\n",
       " <selenium.webdriver.remote.webelement.WebElement (session=\"7c110dda39900fd47b17420266e407ea\", element=\"00689429-fc3a-4e86-8034-d437de295a53\")>,\n",
       " <selenium.webdriver.remote.webelement.WebElement (session=\"7c110dda39900fd47b17420266e407ea\", element=\"543d6d32-f321-4f62-bc01-e270e011063e\")>,\n",
       " <selenium.webdriver.remote.webelement.WebElement (session=\"7c110dda39900fd47b17420266e407ea\", element=\"dd93d918-f760-42f1-8945-e86b1ddd0346\")>,\n",
       " <selenium.webdriver.remote.webelement.WebElement (session=\"7c110dda39900fd47b17420266e407ea\", element=\"3b661d61-6fad-4bab-a960-98b99352ae7a\")>,\n",
       " <selenium.webdriver.remote.webelement.WebElement (session=\"7c110dda39900fd47b17420266e407ea\", element=\"11b85073-a72d-4402-8f81-a254ed642271\")>,\n",
       " <selenium.webdriver.remote.webelement.WebElement (session=\"7c110dda39900fd47b17420266e407ea\", element=\"1e6c228e-0e46-4222-8f9b-804047e8889f\")>,\n",
       " <selenium.webdriver.remote.webelement.WebElement (session=\"7c110dda39900fd47b17420266e407ea\", element=\"d2db991f-b7f3-40fd-aa40-6966e3988192\")>,\n",
       " <selenium.webdriver.remote.webelement.WebElement (session=\"7c110dda39900fd47b17420266e407ea\", element=\"07b10f55-9574-4259-ba4f-9ef414c39388\")>,\n",
       " <selenium.webdriver.remote.webelement.WebElement (session=\"7c110dda39900fd47b17420266e407ea\", element=\"cb7d3d60-7253-4b7d-998b-ced9c0f93b53\")>,\n",
       " <selenium.webdriver.remote.webelement.WebElement (session=\"7c110dda39900fd47b17420266e407ea\", element=\"196eaa7c-232e-4a3d-9786-5041e668159e\")>,\n",
       " <selenium.webdriver.remote.webelement.WebElement (session=\"7c110dda39900fd47b17420266e407ea\", element=\"dec40439-c93d-4449-a667-042c9751bb1d\")>,\n",
       " <selenium.webdriver.remote.webelement.WebElement (session=\"7c110dda39900fd47b17420266e407ea\", element=\"3699e9f3-b6a4-49b0-a963-ffc8d4417b5c\")>,\n",
       " <selenium.webdriver.remote.webelement.WebElement (session=\"7c110dda39900fd47b17420266e407ea\", element=\"f58d8e3b-825a-4002-b25a-9b7ee5fb0dab\")>,\n",
       " <selenium.webdriver.remote.webelement.WebElement (session=\"7c110dda39900fd47b17420266e407ea\", element=\"8903597e-dfdb-4b9f-b25e-c258706c84ce\")>,\n",
       " <selenium.webdriver.remote.webelement.WebElement (session=\"7c110dda39900fd47b17420266e407ea\", element=\"6c1ea504-0eb7-4de5-ab28-a1551849eeb3\")>,\n",
       " <selenium.webdriver.remote.webelement.WebElement (session=\"7c110dda39900fd47b17420266e407ea\", element=\"1cb2bd88-bbad-4c51-8929-05c02f97be19\")>,\n",
       " <selenium.webdriver.remote.webelement.WebElement (session=\"7c110dda39900fd47b17420266e407ea\", element=\"eb0cd5e6-392b-4be2-9d2a-63fd77da819a\")>,\n",
       " <selenium.webdriver.remote.webelement.WebElement (session=\"7c110dda39900fd47b17420266e407ea\", element=\"273eef3d-64a4-4b2c-8b4f-b37c6bbb7cab\")>,\n",
       " <selenium.webdriver.remote.webelement.WebElement (session=\"7c110dda39900fd47b17420266e407ea\", element=\"2cb9f096-8c2c-4d64-9d44-29146a18208c\")>,\n",
       " <selenium.webdriver.remote.webelement.WebElement (session=\"7c110dda39900fd47b17420266e407ea\", element=\"3c2f2b54-be46-4e91-96a0-62327479d37e\")>,\n",
       " <selenium.webdriver.remote.webelement.WebElement (session=\"7c110dda39900fd47b17420266e407ea\", element=\"d4da6030-3d25-4bf2-9d23-90190b998416\")>,\n",
       " <selenium.webdriver.remote.webelement.WebElement (session=\"7c110dda39900fd47b17420266e407ea\", element=\"7bc51b8f-aefd-4d54-87b7-f63ad807cdbd\")>,\n",
       " <selenium.webdriver.remote.webelement.WebElement (session=\"7c110dda39900fd47b17420266e407ea\", element=\"98bfea2a-3016-4203-9234-911268aa6575\")>,\n",
       " <selenium.webdriver.remote.webelement.WebElement (session=\"7c110dda39900fd47b17420266e407ea\", element=\"a5740afc-e9c0-4346-af7d-d0f5db56dec6\")>,\n",
       " <selenium.webdriver.remote.webelement.WebElement (session=\"7c110dda39900fd47b17420266e407ea\", element=\"06a89d24-b072-4f72-9fb0-7c55844a023a\")>,\n",
       " <selenium.webdriver.remote.webelement.WebElement (session=\"7c110dda39900fd47b17420266e407ea\", element=\"ff7b5e8f-da4a-483e-bfc8-671dc378199b\")>,\n",
       " <selenium.webdriver.remote.webelement.WebElement (session=\"7c110dda39900fd47b17420266e407ea\", element=\"e3978980-c7e0-4736-99da-16a7b59e8332\")>,\n",
       " <selenium.webdriver.remote.webelement.WebElement (session=\"7c110dda39900fd47b17420266e407ea\", element=\"44aa7de9-62b5-417c-80ff-6620d0db47a8\")>,\n",
       " <selenium.webdriver.remote.webelement.WebElement (session=\"7c110dda39900fd47b17420266e407ea\", element=\"f5170cd4-50e7-4939-8d4f-27cd357fb6e7\")>,\n",
       " <selenium.webdriver.remote.webelement.WebElement (session=\"7c110dda39900fd47b17420266e407ea\", element=\"d41bddad-18ff-4b39-afae-589ada222049\")>,\n",
       " <selenium.webdriver.remote.webelement.WebElement (session=\"7c110dda39900fd47b17420266e407ea\", element=\"be86fb61-3870-4b66-b9a2-e5d58485df19\")>,\n",
       " <selenium.webdriver.remote.webelement.WebElement (session=\"7c110dda39900fd47b17420266e407ea\", element=\"6cd0df6d-18fe-45cf-a0ef-d7ebc7791e88\")>,\n",
       " <selenium.webdriver.remote.webelement.WebElement (session=\"7c110dda39900fd47b17420266e407ea\", element=\"088d9b76-6c53-4992-96c4-85c31cc4788c\")>,\n",
       " <selenium.webdriver.remote.webelement.WebElement (session=\"7c110dda39900fd47b17420266e407ea\", element=\"29d70017-bcb7-4356-ad54-7d040183361d\")>,\n",
       " <selenium.webdriver.remote.webelement.WebElement (session=\"7c110dda39900fd47b17420266e407ea\", element=\"5186c2e8-1f0a-40d6-91fd-fd76e5dfbe51\")>,\n",
       " <selenium.webdriver.remote.webelement.WebElement (session=\"7c110dda39900fd47b17420266e407ea\", element=\"addeb1cc-1b54-47c1-8ad0-583cdc82fdbd\")>,\n",
       " <selenium.webdriver.remote.webelement.WebElement (session=\"7c110dda39900fd47b17420266e407ea\", element=\"82c7d02b-457c-4316-8388-29d8c35ee796\")>,\n",
       " <selenium.webdriver.remote.webelement.WebElement (session=\"7c110dda39900fd47b17420266e407ea\", element=\"8be529ef-b2cc-439c-b573-9db3f7bac0a6\")>,\n",
       " <selenium.webdriver.remote.webelement.WebElement (session=\"7c110dda39900fd47b17420266e407ea\", element=\"8a64eb28-ee4c-41a0-9d17-f75a63516800\")>,\n",
       " <selenium.webdriver.remote.webelement.WebElement (session=\"7c110dda39900fd47b17420266e407ea\", element=\"8d388394-da36-4b3b-ade4-f5bfc28b3467\")>,\n",
       " <selenium.webdriver.remote.webelement.WebElement (session=\"7c110dda39900fd47b17420266e407ea\", element=\"e9614fb5-c5e4-432d-a5a9-bf6b630ca0f9\")>,\n",
       " <selenium.webdriver.remote.webelement.WebElement (session=\"7c110dda39900fd47b17420266e407ea\", element=\"8da01f23-1458-40c9-b075-632f6d801217\")>,\n",
       " <selenium.webdriver.remote.webelement.WebElement (session=\"7c110dda39900fd47b17420266e407ea\", element=\"df23726d-9938-4db1-8fd6-5b489c92baa1\")>,\n",
       " <selenium.webdriver.remote.webelement.WebElement (session=\"7c110dda39900fd47b17420266e407ea\", element=\"cd25ede2-27fe-43e1-bb84-d067e10ab662\")>,\n",
       " <selenium.webdriver.remote.webelement.WebElement (session=\"7c110dda39900fd47b17420266e407ea\", element=\"d8d90668-d01b-4d0f-bb75-c4511f1130ac\")>,\n",
       " <selenium.webdriver.remote.webelement.WebElement (session=\"7c110dda39900fd47b17420266e407ea\", element=\"bf98b02c-d57e-48d4-8dfa-a5a3f660a5e4\")>,\n",
       " <selenium.webdriver.remote.webelement.WebElement (session=\"7c110dda39900fd47b17420266e407ea\", element=\"a5c02d38-888c-43b5-82d7-681e7dc216bc\")>,\n",
       " <selenium.webdriver.remote.webelement.WebElement (session=\"7c110dda39900fd47b17420266e407ea\", element=\"2551288d-6a2e-44ab-9b33-548af8517706\")>,\n",
       " <selenium.webdriver.remote.webelement.WebElement (session=\"7c110dda39900fd47b17420266e407ea\", element=\"5c2a18c3-f3d5-47f0-b328-49fdb8f4dd3f\")>,\n",
       " <selenium.webdriver.remote.webelement.WebElement (session=\"7c110dda39900fd47b17420266e407ea\", element=\"3b05ea27-a48d-4719-9eab-0ae24c97f425\")>,\n",
       " <selenium.webdriver.remote.webelement.WebElement (session=\"7c110dda39900fd47b17420266e407ea\", element=\"9060ab36-89e1-41d6-8152-8df10c339c83\")>,\n",
       " <selenium.webdriver.remote.webelement.WebElement (session=\"7c110dda39900fd47b17420266e407ea\", element=\"91d23350-d3c3-4e6b-ad89-2c228a59ac0c\")>,\n",
       " <selenium.webdriver.remote.webelement.WebElement (session=\"7c110dda39900fd47b17420266e407ea\", element=\"1624bfa9-9404-496f-b06f-0ea25283d5ef\")>,\n",
       " <selenium.webdriver.remote.webelement.WebElement (session=\"7c110dda39900fd47b17420266e407ea\", element=\"84c5768f-86d5-44c9-b0b1-4082cb04ddb1\")>,\n",
       " <selenium.webdriver.remote.webelement.WebElement (session=\"7c110dda39900fd47b17420266e407ea\", element=\"47068e84-1b07-4ee3-a077-d4922495a24a\")>,\n",
       " <selenium.webdriver.remote.webelement.WebElement (session=\"7c110dda39900fd47b17420266e407ea\", element=\"81612e96-33ec-454f-99bf-b8479c788f57\")>,\n",
       " <selenium.webdriver.remote.webelement.WebElement (session=\"7c110dda39900fd47b17420266e407ea\", element=\"9b8d0114-984e-4d47-b466-d9afd68ef41a\")>,\n",
       " <selenium.webdriver.remote.webelement.WebElement (session=\"7c110dda39900fd47b17420266e407ea\", element=\"925f161d-dd83-4147-98e9-d322dec852fe\")>,\n",
       " <selenium.webdriver.remote.webelement.WebElement (session=\"7c110dda39900fd47b17420266e407ea\", element=\"2aafbb0f-5eac-4a40-b28f-83485f7ba57c\")>,\n",
       " <selenium.webdriver.remote.webelement.WebElement (session=\"7c110dda39900fd47b17420266e407ea\", element=\"b670501f-2675-44b8-8cc4-308a0bb4128e\")>,\n",
       " <selenium.webdriver.remote.webelement.WebElement (session=\"7c110dda39900fd47b17420266e407ea\", element=\"ec57cb21-c2d9-4501-b5f5-11c9aa174ccf\")>,\n",
       " <selenium.webdriver.remote.webelement.WebElement (session=\"7c110dda39900fd47b17420266e407ea\", element=\"6b4d603d-d37e-4707-98b1-eebdd1534828\")>,\n",
       " <selenium.webdriver.remote.webelement.WebElement (session=\"7c110dda39900fd47b17420266e407ea\", element=\"6f447985-516f-4f73-ae0c-d65191a43e91\")>,\n",
       " <selenium.webdriver.remote.webelement.WebElement (session=\"7c110dda39900fd47b17420266e407ea\", element=\"f5acfc5f-f99f-4f77-8839-a4fc32163306\")>,\n",
       " <selenium.webdriver.remote.webelement.WebElement (session=\"7c110dda39900fd47b17420266e407ea\", element=\"f9636bcc-46ef-40d9-a87b-e3316ba27040\")>,\n",
       " <selenium.webdriver.remote.webelement.WebElement (session=\"7c110dda39900fd47b17420266e407ea\", element=\"69a1f502-5bdc-487a-bb5f-6bbebc75ede5\")>,\n",
       " <selenium.webdriver.remote.webelement.WebElement (session=\"7c110dda39900fd47b17420266e407ea\", element=\"f38a8d95-a860-4ec5-b482-9a5409be00fe\")>,\n",
       " <selenium.webdriver.remote.webelement.WebElement (session=\"7c110dda39900fd47b17420266e407ea\", element=\"5c23616c-80de-48ec-9102-9a3c2a19114d\")>,\n",
       " <selenium.webdriver.remote.webelement.WebElement (session=\"7c110dda39900fd47b17420266e407ea\", element=\"fd5aed43-ff89-4c6f-aca2-dd9d9ec6ae1f\")>,\n",
       " <selenium.webdriver.remote.webelement.WebElement (session=\"7c110dda39900fd47b17420266e407ea\", element=\"61f6924b-135f-41dc-88c9-3a7e3c8cfb4f\")>,\n",
       " <selenium.webdriver.remote.webelement.WebElement (session=\"7c110dda39900fd47b17420266e407ea\", element=\"0e2f7704-a4ba-440a-aac6-37475a11860c\")>,\n",
       " <selenium.webdriver.remote.webelement.WebElement (session=\"7c110dda39900fd47b17420266e407ea\", element=\"91b81ff8-5969-4bc1-a9a9-3db5bef67e7f\")>,\n",
       " <selenium.webdriver.remote.webelement.WebElement (session=\"7c110dda39900fd47b17420266e407ea\", element=\"1c1a12e1-7cdd-4b77-b9e5-f0f0ea223ff9\")>,\n",
       " <selenium.webdriver.remote.webelement.WebElement (session=\"7c110dda39900fd47b17420266e407ea\", element=\"ebf88a23-0ba9-4a6e-80b5-6d03783a1c79\")>,\n",
       " <selenium.webdriver.remote.webelement.WebElement (session=\"7c110dda39900fd47b17420266e407ea\", element=\"d75c9a78-4d20-48cc-89a3-3edf652a3167\")>,\n",
       " <selenium.webdriver.remote.webelement.WebElement (session=\"7c110dda39900fd47b17420266e407ea\", element=\"94dcb264-c785-4b3b-ab8e-fd1bad41ea59\")>,\n",
       " <selenium.webdriver.remote.webelement.WebElement (session=\"7c110dda39900fd47b17420266e407ea\", element=\"95f5fde4-715d-43fa-a12d-3477ab8116fb\")>,\n",
       " <selenium.webdriver.remote.webelement.WebElement (session=\"7c110dda39900fd47b17420266e407ea\", element=\"2782dd45-4b47-48af-8e86-ed606cc3fb4d\")>,\n",
       " <selenium.webdriver.remote.webelement.WebElement (session=\"7c110dda39900fd47b17420266e407ea\", element=\"7b4e2767-5202-47d3-9982-07b592b6d38a\")>,\n",
       " <selenium.webdriver.remote.webelement.WebElement (session=\"7c110dda39900fd47b17420266e407ea\", element=\"57d8579c-8a72-4b48-8e8d-462389edd019\")>,\n",
       " <selenium.webdriver.remote.webelement.WebElement (session=\"7c110dda39900fd47b17420266e407ea\", element=\"05402b77-822e-42e3-96d8-e8fba501a071\")>,\n",
       " <selenium.webdriver.remote.webelement.WebElement (session=\"7c110dda39900fd47b17420266e407ea\", element=\"62ccd820-0e60-4804-91e9-0aacb8ff43ba\")>,\n",
       " <selenium.webdriver.remote.webelement.WebElement (session=\"7c110dda39900fd47b17420266e407ea\", element=\"811faf67-397e-4480-8877-5c7ff38aba45\")>,\n",
       " <selenium.webdriver.remote.webelement.WebElement (session=\"7c110dda39900fd47b17420266e407ea\", element=\"05f86c45-4652-42c5-9590-e730413a2f63\")>,\n",
       " <selenium.webdriver.remote.webelement.WebElement (session=\"7c110dda39900fd47b17420266e407ea\", element=\"52129bdb-6247-42e2-be6b-3cfcc7303488\")>,\n",
       " <selenium.webdriver.remote.webelement.WebElement (session=\"7c110dda39900fd47b17420266e407ea\", element=\"ac6e1a31-ca01-4fa0-8329-e907947ed90a\")>,\n",
       " <selenium.webdriver.remote.webelement.WebElement (session=\"7c110dda39900fd47b17420266e407ea\", element=\"f77b1749-f951-4d18-8ebc-55abb33f1572\")>,\n",
       " <selenium.webdriver.remote.webelement.WebElement (session=\"7c110dda39900fd47b17420266e407ea\", element=\"03dc953e-1160-40a8-8a7c-3e197ae0e32f\")>,\n",
       " <selenium.webdriver.remote.webelement.WebElement (session=\"7c110dda39900fd47b17420266e407ea\", element=\"7d1b47db-6357-43c9-8e2d-9be2086b5696\")>,\n",
       " <selenium.webdriver.remote.webelement.WebElement (session=\"7c110dda39900fd47b17420266e407ea\", element=\"be9c98f4-68af-4a99-8f2f-78742e5ba9e5\")>,\n",
       " <selenium.webdriver.remote.webelement.WebElement (session=\"7c110dda39900fd47b17420266e407ea\", element=\"5541e1cb-9ede-4ae0-bceb-49d1e39ed918\")>,\n",
       " <selenium.webdriver.remote.webelement.WebElement (session=\"7c110dda39900fd47b17420266e407ea\", element=\"ded70944-d956-467e-a785-7d2e8835169c\")>,\n",
       " <selenium.webdriver.remote.webelement.WebElement (session=\"7c110dda39900fd47b17420266e407ea\", element=\"071ff8be-295d-4231-be6d-97cc67800acf\")>,\n",
       " <selenium.webdriver.remote.webelement.WebElement (session=\"7c110dda39900fd47b17420266e407ea\", element=\"8372678c-8a85-466e-894c-2367ff41d32a\")>]"
      ]
     },
     "execution_count": 12,
     "metadata": {},
     "output_type": "execute_result"
    }
   ],
   "source": [
    "header2=browser.find_elements(\"xpath\",\"//div[@class='td-wrap-in']\")\n",
    "header2"
   ]
  },
  {
   "cell_type": "code",
   "execution_count": 13,
   "id": "a7d9598e",
   "metadata": {},
   "outputs": [
    {
     "data": {
      "text/plain": [
       "['82.7', '100', '100', '99.9', '23.9', '57.7', '93.3', '96.7', '99.1']"
      ]
     },
     "execution_count": 13,
     "metadata": {},
     "output_type": "execute_result"
    }
   ],
   "source": [
    "#PARSING DATA\n",
    "value_head=[]\n",
    "for data in header2:\n",
    "    #get the text data\n",
    "    temp=data.text\n",
    "    value_head.append(temp)\n",
    "value=value_head[61:70]\n",
    "value"
   ]
  },
  {
   "cell_type": "code",
   "execution_count": 14,
   "id": "585ec476",
   "metadata": {},
   "outputs": [
    {
     "data": {
      "text/plain": [
       "{'Name': 'The University of Manchester',\n",
       " 'Location': 'Manchester, United Kingdom',\n",
       " 'Rank': '28',\n",
       " 'Overall Score': '82.7',\n",
       " 'Academic Reputation': '100',\n",
       " 'Employer Reputation': '100',\n",
       " 'Citations per Faculty': '99.9',\n",
       " 'Faculty Student Ratio': '23.9',\n",
       " 'International Students Ratio': '57.7',\n",
       " 'International Faculty Ratio': '93.3',\n",
       " 'International Research Network\\nUnweighted': '96.7',\n",
       " 'Employment Outcomes\\nUnweighted': '99.1'}"
      ]
     },
     "execution_count": 14,
     "metadata": {},
     "output_type": "execute_result"
    }
   ],
   "source": [
    "d={}\n",
    "\n",
    "d['Name']=value_head[70]\n",
    "d['Location']=loc[7]\n",
    "d['Rank']=RANK[7]\n",
    "\n",
    "for i in range(len(column_head)):\n",
    "    d[column_head[i]]=value[i]\n",
    "d"
   ]
  },
  {
   "cell_type": "code",
   "execution_count": 15,
   "id": "10b5a15f",
   "metadata": {},
   "outputs": [
    {
     "data": {
      "text/plain": [
       "'{\"Name\": \"The University of Manchester\", \"Location\": \"Manchester, United Kingdom\", \"Rank\": \"28\", \"Overall Score\": \"82.7\", \"Academic Reputation\": \"100\", \"Employer Reputation\": \"100\", \"Citations per Faculty\": \"99.9\", \"Faculty Student Ratio\": \"23.9\", \"International Students Ratio\": \"57.7\", \"International Faculty Ratio\": \"93.3\", \"International Research Network\\\\nUnweighted\": \"96.7\", \"Employment Outcomes\\\\nUnweighted\": \"99.1\"}'"
      ]
     },
     "execution_count": 15,
     "metadata": {},
     "output_type": "execute_result"
    }
   ],
   "source": [
    "s1=json.dumps(d)\n",
    "s1"
   ]
  },
  {
   "cell_type": "code",
   "execution_count": 16,
   "id": "921acc89",
   "metadata": {},
   "outputs": [],
   "source": [
    "with open('The University of Manchester.json','w') as f:\n",
    "    json.dump(d,f)"
   ]
  },
  {
   "cell_type": "code",
   "execution_count": null,
   "id": "893fd8fd",
   "metadata": {},
   "outputs": [],
   "source": []
  }
 ],
 "metadata": {
  "kernelspec": {
   "display_name": "Python 3 (ipykernel)",
   "language": "python",
   "name": "python3"
  },
  "language_info": {
   "codemirror_mode": {
    "name": "ipython",
    "version": 3
   },
   "file_extension": ".py",
   "mimetype": "text/x-python",
   "name": "python",
   "nbconvert_exporter": "python",
   "pygments_lexer": "ipython3",
   "version": "3.9.12"
  }
 },
 "nbformat": 4,
 "nbformat_minor": 5
}
