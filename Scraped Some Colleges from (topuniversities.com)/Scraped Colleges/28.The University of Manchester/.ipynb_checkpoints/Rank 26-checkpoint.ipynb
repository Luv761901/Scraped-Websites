{
 "cells": [
  {
   "cell_type": "code",
   "execution_count": 14,
   "id": "cde906bc",
   "metadata": {},
   "outputs": [],
   "source": [
    "from selenium import webdriver\n",
    "from selenium.webdriver.chrome.service import Service\n",
    "import pandas as pd\n",
    "import json"
   ]
  },
  {
   "cell_type": "code",
   "execution_count": 15,
   "id": "d09ed467",
   "metadata": {},
   "outputs": [],
   "source": [
    "path = Service('C:\\chromedriver.exe')"
   ]
  },
  {
   "cell_type": "code",
   "execution_count": 16,
   "id": "6a9c0a89",
   "metadata": {},
   "outputs": [],
   "source": [
    "\n",
    "# set path for the driver\n",
    "browser = webdriver.Chrome(service = path)"
   ]
  },
  {
   "cell_type": "code",
   "execution_count": 17,
   "id": "338f9110",
   "metadata": {},
   "outputs": [],
   "source": [
    "url = \"https://www.topuniversities.com/university-rankings/world-university-rankings/2023\""
   ]
  },
  {
   "cell_type": "code",
   "execution_count": 18,
   "id": "eee9d01a",
   "metadata": {},
   "outputs": [],
   "source": [
    "# open the page url ion chrome\n",
    "browser.get(url)"
   ]
  },
  {
   "cell_type": "code",
   "execution_count": 19,
   "id": "aaecf0eb",
   "metadata": {},
   "outputs": [
    {
     "data": {
      "text/plain": [
       "[<selenium.webdriver.remote.webelement.WebElement (session=\"bcb1dd5aeb0e9890f48056c920792ce7\", element=\"d1d01f5c-ed38-4529-9172-420e10fd051e\")>,\n",
       " <selenium.webdriver.remote.webelement.WebElement (session=\"bcb1dd5aeb0e9890f48056c920792ce7\", element=\"93c67e19-5489-4a68-b8a8-383f9aee5baf\")>,\n",
       " <selenium.webdriver.remote.webelement.WebElement (session=\"bcb1dd5aeb0e9890f48056c920792ce7\", element=\"a1d598fb-98c6-451f-ab7a-4e64f7b8b694\")>,\n",
       " <selenium.webdriver.remote.webelement.WebElement (session=\"bcb1dd5aeb0e9890f48056c920792ce7\", element=\"c32138a3-323e-48c4-86eb-9d99c3a5576a\")>,\n",
       " <selenium.webdriver.remote.webelement.WebElement (session=\"bcb1dd5aeb0e9890f48056c920792ce7\", element=\"4853f6f6-d3a6-479b-aca0-983a9242bba2\")>,\n",
       " <selenium.webdriver.remote.webelement.WebElement (session=\"bcb1dd5aeb0e9890f48056c920792ce7\", element=\"b54493e4-8d01-465c-842e-bc074ea620d3\")>,\n",
       " <selenium.webdriver.remote.webelement.WebElement (session=\"bcb1dd5aeb0e9890f48056c920792ce7\", element=\"f5f9b1f7-d2c5-4104-b72c-0b2fdeaa51cb\")>,\n",
       " <selenium.webdriver.remote.webelement.WebElement (session=\"bcb1dd5aeb0e9890f48056c920792ce7\", element=\"63421717-882a-4e10-a75a-a4163194d1d6\")>,\n",
       " <selenium.webdriver.remote.webelement.WebElement (session=\"bcb1dd5aeb0e9890f48056c920792ce7\", element=\"56d1cd59-606b-4b9a-b5a9-1f676672c798\")>]"
      ]
     },
     "execution_count": 19,
     "metadata": {},
     "output_type": "execute_result"
    }
   ],
   "source": [
    "# GET EACH COLLEGE SPECIFICATION HEADERS\n",
    "header=browser.find_elements(\"xpath\",\"//div[@class='_click-function_ind']\")\n",
    "header"
   ]
  },
  {
   "cell_type": "code",
   "execution_count": 20,
   "id": "da85d44d",
   "metadata": {},
   "outputs": [
    {
     "data": {
      "text/plain": [
       "['Overall Score',\n",
       " 'Academic Reputation',\n",
       " 'Employer Reputation',\n",
       " 'Citations per Faculty',\n",
       " 'Faculty Student Ratio',\n",
       " 'International Students Ratio',\n",
       " 'International Faculty Ratio',\n",
       " 'International Research Network\\nUnweighted',\n",
       " 'Employment Outcomes\\nUnweighted']"
      ]
     },
     "execution_count": 20,
     "metadata": {},
     "output_type": "execute_result"
    }
   ],
   "source": [
    "#PARSING DATA\n",
    "column_head=[]\n",
    "for data in header:\n",
    "    #get the text data\n",
    "    temp=data.text\n",
    "    column_head.append(temp)\n",
    "column_head"
   ]
  },
  {
   "cell_type": "code",
   "execution_count": 21,
   "id": "ad77a572",
   "metadata": {},
   "outputs": [
    {
     "data": {
      "text/plain": [
       "[<selenium.webdriver.remote.webelement.WebElement (session=\"bcb1dd5aeb0e9890f48056c920792ce7\", element=\"212d547d-5a22-4ddf-97bb-ed1209663c56\")>,\n",
       " <selenium.webdriver.remote.webelement.WebElement (session=\"bcb1dd5aeb0e9890f48056c920792ce7\", element=\"ecc46a61-d5e8-4f29-bbc4-9bf549039bc1\")>,\n",
       " <selenium.webdriver.remote.webelement.WebElement (session=\"bcb1dd5aeb0e9890f48056c920792ce7\", element=\"d996c414-95ac-44ca-9568-7adfd6a614cf\")>,\n",
       " <selenium.webdriver.remote.webelement.WebElement (session=\"bcb1dd5aeb0e9890f48056c920792ce7\", element=\"40ef03da-3cfb-4bc5-950a-f8f1e3a627e6\")>,\n",
       " <selenium.webdriver.remote.webelement.WebElement (session=\"bcb1dd5aeb0e9890f48056c920792ce7\", element=\"4da874b3-9fe8-45aa-9384-88441477c77d\")>,\n",
       " <selenium.webdriver.remote.webelement.WebElement (session=\"bcb1dd5aeb0e9890f48056c920792ce7\", element=\"855879cc-5b29-4148-8622-0fea9ba275ea\")>,\n",
       " <selenium.webdriver.remote.webelement.WebElement (session=\"bcb1dd5aeb0e9890f48056c920792ce7\", element=\"e126aeb2-7931-40b3-8a46-bf4062babc03\")>,\n",
       " <selenium.webdriver.remote.webelement.WebElement (session=\"bcb1dd5aeb0e9890f48056c920792ce7\", element=\"dc30084f-31dc-4a9f-8e25-165862162043\")>,\n",
       " <selenium.webdriver.remote.webelement.WebElement (session=\"bcb1dd5aeb0e9890f48056c920792ce7\", element=\"220f5c69-0441-48da-89a9-04eb6a5cf940\")>,\n",
       " <selenium.webdriver.remote.webelement.WebElement (session=\"bcb1dd5aeb0e9890f48056c920792ce7\", element=\"fb880cdd-0f74-499f-989b-8f6115cd32ad\")>,\n",
       " <selenium.webdriver.remote.webelement.WebElement (session=\"bcb1dd5aeb0e9890f48056c920792ce7\", element=\"7353cce6-8f0c-4662-a523-9b595961e4f0\")>,\n",
       " <selenium.webdriver.remote.webelement.WebElement (session=\"bcb1dd5aeb0e9890f48056c920792ce7\", element=\"cab89bb9-5334-4d99-bcd5-97acddaa1fa8\")>,\n",
       " <selenium.webdriver.remote.webelement.WebElement (session=\"bcb1dd5aeb0e9890f48056c920792ce7\", element=\"58732eb8-a174-4902-9cb3-bbca50c67366\")>,\n",
       " <selenium.webdriver.remote.webelement.WebElement (session=\"bcb1dd5aeb0e9890f48056c920792ce7\", element=\"b4974191-7d16-4831-a919-701642d773a9\")>,\n",
       " <selenium.webdriver.remote.webelement.WebElement (session=\"bcb1dd5aeb0e9890f48056c920792ce7\", element=\"4b309a2b-593f-4360-9e9e-04cbb35cf866\")>,\n",
       " <selenium.webdriver.remote.webelement.WebElement (session=\"bcb1dd5aeb0e9890f48056c920792ce7\", element=\"3a7da415-17ea-4765-a85e-498a4cd1d7b8\")>,\n",
       " <selenium.webdriver.remote.webelement.WebElement (session=\"bcb1dd5aeb0e9890f48056c920792ce7\", element=\"e1e3824d-0681-4b6d-b613-9025404da455\")>,\n",
       " <selenium.webdriver.remote.webelement.WebElement (session=\"bcb1dd5aeb0e9890f48056c920792ce7\", element=\"64cc0ca8-b63f-4bf0-bfc6-f77ea58a3a1a\")>,\n",
       " <selenium.webdriver.remote.webelement.WebElement (session=\"bcb1dd5aeb0e9890f48056c920792ce7\", element=\"a83f7853-4693-4fb2-9e53-96e2c83c5b7f\")>,\n",
       " <selenium.webdriver.remote.webelement.WebElement (session=\"bcb1dd5aeb0e9890f48056c920792ce7\", element=\"de3d445e-d5ed-4ff1-8803-d78810df67c2\")>,\n",
       " <selenium.webdriver.remote.webelement.WebElement (session=\"bcb1dd5aeb0e9890f48056c920792ce7\", element=\"daa5b144-8f55-489d-9f8b-f8fc0114a77b\")>,\n",
       " <selenium.webdriver.remote.webelement.WebElement (session=\"bcb1dd5aeb0e9890f48056c920792ce7\", element=\"656b9d1d-0d2e-46a5-9230-3495d2ac0032\")>,\n",
       " <selenium.webdriver.remote.webelement.WebElement (session=\"bcb1dd5aeb0e9890f48056c920792ce7\", element=\"119b7cc0-316e-426c-8bd5-f617f5b3dd99\")>,\n",
       " <selenium.webdriver.remote.webelement.WebElement (session=\"bcb1dd5aeb0e9890f48056c920792ce7\", element=\"e5da195d-b6db-4290-8920-6ab053489c40\")>,\n",
       " <selenium.webdriver.remote.webelement.WebElement (session=\"bcb1dd5aeb0e9890f48056c920792ce7\", element=\"9f198cd9-25fd-49a9-b836-fec3ed81b692\")>,\n",
       " <selenium.webdriver.remote.webelement.WebElement (session=\"bcb1dd5aeb0e9890f48056c920792ce7\", element=\"1bb53ac2-4c89-4b7b-bcf2-40d10d032471\")>,\n",
       " <selenium.webdriver.remote.webelement.WebElement (session=\"bcb1dd5aeb0e9890f48056c920792ce7\", element=\"d5beac5e-bf10-4f60-8697-31dd676809b4\")>,\n",
       " <selenium.webdriver.remote.webelement.WebElement (session=\"bcb1dd5aeb0e9890f48056c920792ce7\", element=\"548c9990-37c6-4462-a301-ad7a09a80010\")>,\n",
       " <selenium.webdriver.remote.webelement.WebElement (session=\"bcb1dd5aeb0e9890f48056c920792ce7\", element=\"4c06cc6f-430f-466c-95f8-29bc3f23afa1\")>,\n",
       " <selenium.webdriver.remote.webelement.WebElement (session=\"bcb1dd5aeb0e9890f48056c920792ce7\", element=\"f876cd1a-8871-4080-ac22-38154e51d9da\")>,\n",
       " <selenium.webdriver.remote.webelement.WebElement (session=\"bcb1dd5aeb0e9890f48056c920792ce7\", element=\"38e155c2-c07b-4bdd-b499-cb1999937f4f\")>,\n",
       " <selenium.webdriver.remote.webelement.WebElement (session=\"bcb1dd5aeb0e9890f48056c920792ce7\", element=\"61c2a810-0cef-4236-986f-3631cdbb7430\")>,\n",
       " <selenium.webdriver.remote.webelement.WebElement (session=\"bcb1dd5aeb0e9890f48056c920792ce7\", element=\"0cb0fb44-f1d9-4105-9713-950546d828b5\")>,\n",
       " <selenium.webdriver.remote.webelement.WebElement (session=\"bcb1dd5aeb0e9890f48056c920792ce7\", element=\"70095ecd-1b33-4bae-98b0-1d15eef6e3dc\")>,\n",
       " <selenium.webdriver.remote.webelement.WebElement (session=\"bcb1dd5aeb0e9890f48056c920792ce7\", element=\"b70182cf-638c-4ce9-a079-879f004494d2\")>,\n",
       " <selenium.webdriver.remote.webelement.WebElement (session=\"bcb1dd5aeb0e9890f48056c920792ce7\", element=\"e0377a3b-05f5-42fc-91cb-d3bef2621d39\")>,\n",
       " <selenium.webdriver.remote.webelement.WebElement (session=\"bcb1dd5aeb0e9890f48056c920792ce7\", element=\"fe61605a-d892-47fb-823c-0fec9511cff2\")>,\n",
       " <selenium.webdriver.remote.webelement.WebElement (session=\"bcb1dd5aeb0e9890f48056c920792ce7\", element=\"d59e093a-e4ba-4556-aa77-aebe96b4597d\")>,\n",
       " <selenium.webdriver.remote.webelement.WebElement (session=\"bcb1dd5aeb0e9890f48056c920792ce7\", element=\"c2067c92-3e55-48ea-95fe-96d4bf550351\")>,\n",
       " <selenium.webdriver.remote.webelement.WebElement (session=\"bcb1dd5aeb0e9890f48056c920792ce7\", element=\"cca55314-d738-4a45-b2ea-d2ffec7370d4\")>,\n",
       " <selenium.webdriver.remote.webelement.WebElement (session=\"bcb1dd5aeb0e9890f48056c920792ce7\", element=\"6043f66a-ab34-43e8-9556-78bcf9202155\")>,\n",
       " <selenium.webdriver.remote.webelement.WebElement (session=\"bcb1dd5aeb0e9890f48056c920792ce7\", element=\"cd5ab3df-d305-4fe7-a912-ff40de569a11\")>,\n",
       " <selenium.webdriver.remote.webelement.WebElement (session=\"bcb1dd5aeb0e9890f48056c920792ce7\", element=\"93a029f8-7706-48fd-9a71-85f555a03021\")>,\n",
       " <selenium.webdriver.remote.webelement.WebElement (session=\"bcb1dd5aeb0e9890f48056c920792ce7\", element=\"a1b29c40-0000-4990-ba81-090c511af7d7\")>,\n",
       " <selenium.webdriver.remote.webelement.WebElement (session=\"bcb1dd5aeb0e9890f48056c920792ce7\", element=\"3c35e5ae-9dc3-4e2a-bf93-5c0249ab9b10\")>,\n",
       " <selenium.webdriver.remote.webelement.WebElement (session=\"bcb1dd5aeb0e9890f48056c920792ce7\", element=\"f803eac5-13a8-4076-8ac9-07da6cb3a04b\")>,\n",
       " <selenium.webdriver.remote.webelement.WebElement (session=\"bcb1dd5aeb0e9890f48056c920792ce7\", element=\"025d7e99-ee91-489f-9aea-bc0f2204ca86\")>,\n",
       " <selenium.webdriver.remote.webelement.WebElement (session=\"bcb1dd5aeb0e9890f48056c920792ce7\", element=\"de95328b-31cb-42ad-b1ce-efc08ae388db\")>,\n",
       " <selenium.webdriver.remote.webelement.WebElement (session=\"bcb1dd5aeb0e9890f48056c920792ce7\", element=\"039537c9-1b91-4384-a1f4-4d99834304ef\")>,\n",
       " <selenium.webdriver.remote.webelement.WebElement (session=\"bcb1dd5aeb0e9890f48056c920792ce7\", element=\"81514e23-481d-44dd-8190-cb0518ddf65b\")>,\n",
       " <selenium.webdriver.remote.webelement.WebElement (session=\"bcb1dd5aeb0e9890f48056c920792ce7\", element=\"51141572-7c07-4a77-ae90-14f707c5e3b5\")>,\n",
       " <selenium.webdriver.remote.webelement.WebElement (session=\"bcb1dd5aeb0e9890f48056c920792ce7\", element=\"72fde7ee-9c8c-47c6-8fb5-aae9fded6f75\")>,\n",
       " <selenium.webdriver.remote.webelement.WebElement (session=\"bcb1dd5aeb0e9890f48056c920792ce7\", element=\"cba10fc7-9131-4548-ba23-511c857b1546\")>,\n",
       " <selenium.webdriver.remote.webelement.WebElement (session=\"bcb1dd5aeb0e9890f48056c920792ce7\", element=\"9f7de59c-dd98-4772-9480-4b4264066429\")>,\n",
       " <selenium.webdriver.remote.webelement.WebElement (session=\"bcb1dd5aeb0e9890f48056c920792ce7\", element=\"bef0adb8-f832-4e1b-98bc-5af1ce8244f0\")>,\n",
       " <selenium.webdriver.remote.webelement.WebElement (session=\"bcb1dd5aeb0e9890f48056c920792ce7\", element=\"d7673a76-148b-43d9-be1f-067c007fb058\")>,\n",
       " <selenium.webdriver.remote.webelement.WebElement (session=\"bcb1dd5aeb0e9890f48056c920792ce7\", element=\"6d0ca60d-207f-4121-a796-f82335422dfc\")>,\n",
       " <selenium.webdriver.remote.webelement.WebElement (session=\"bcb1dd5aeb0e9890f48056c920792ce7\", element=\"f4b5c00a-3348-4bff-8c7a-0c7d67715d6a\")>,\n",
       " <selenium.webdriver.remote.webelement.WebElement (session=\"bcb1dd5aeb0e9890f48056c920792ce7\", element=\"7fd9ced9-6ef1-482d-b2cf-e1d439890df3\")>,\n",
       " <selenium.webdriver.remote.webelement.WebElement (session=\"bcb1dd5aeb0e9890f48056c920792ce7\", element=\"e1ff386f-6de2-43ea-a08d-eb27cbb4fa14\")>,\n",
       " <selenium.webdriver.remote.webelement.WebElement (session=\"bcb1dd5aeb0e9890f48056c920792ce7\", element=\"cb17f136-0799-470b-8abc-9d502a87b7d5\")>,\n",
       " <selenium.webdriver.remote.webelement.WebElement (session=\"bcb1dd5aeb0e9890f48056c920792ce7\", element=\"ef4ef220-99bc-4510-8e9c-62b6ce328393\")>,\n",
       " <selenium.webdriver.remote.webelement.WebElement (session=\"bcb1dd5aeb0e9890f48056c920792ce7\", element=\"9fb8f6ca-0164-4656-9e17-ebf7f3e781fe\")>,\n",
       " <selenium.webdriver.remote.webelement.WebElement (session=\"bcb1dd5aeb0e9890f48056c920792ce7\", element=\"b413efce-4387-46ac-9aa3-6f9e757202f6\")>,\n",
       " <selenium.webdriver.remote.webelement.WebElement (session=\"bcb1dd5aeb0e9890f48056c920792ce7\", element=\"39f27745-ab49-4a3a-97e4-f500e8ac3259\")>,\n",
       " <selenium.webdriver.remote.webelement.WebElement (session=\"bcb1dd5aeb0e9890f48056c920792ce7\", element=\"17bbd1b0-645e-4af1-94d4-213136559b96\")>,\n",
       " <selenium.webdriver.remote.webelement.WebElement (session=\"bcb1dd5aeb0e9890f48056c920792ce7\", element=\"d86e741f-169c-471a-865f-da5288607036\")>,\n",
       " <selenium.webdriver.remote.webelement.WebElement (session=\"bcb1dd5aeb0e9890f48056c920792ce7\", element=\"d730594d-f989-47e0-81eb-6b9afb07b408\")>,\n",
       " <selenium.webdriver.remote.webelement.WebElement (session=\"bcb1dd5aeb0e9890f48056c920792ce7\", element=\"45d59dfe-0f64-4fb3-a7d8-9fbc2ed414e9\")>,\n",
       " <selenium.webdriver.remote.webelement.WebElement (session=\"bcb1dd5aeb0e9890f48056c920792ce7\", element=\"3bb2a58c-9aec-4248-80d2-9cfdc68201ca\")>,\n",
       " <selenium.webdriver.remote.webelement.WebElement (session=\"bcb1dd5aeb0e9890f48056c920792ce7\", element=\"4eedf5c3-96f9-465f-ab73-f4db68aa3629\")>,\n",
       " <selenium.webdriver.remote.webelement.WebElement (session=\"bcb1dd5aeb0e9890f48056c920792ce7\", element=\"265c5681-3c49-488e-b24d-5b2041797949\")>,\n",
       " <selenium.webdriver.remote.webelement.WebElement (session=\"bcb1dd5aeb0e9890f48056c920792ce7\", element=\"55de381a-6501-459c-a3b0-9c4821e8ec4e\")>,\n",
       " <selenium.webdriver.remote.webelement.WebElement (session=\"bcb1dd5aeb0e9890f48056c920792ce7\", element=\"68566a9c-817e-4cbb-b2e4-e887bb4a0425\")>,\n",
       " <selenium.webdriver.remote.webelement.WebElement (session=\"bcb1dd5aeb0e9890f48056c920792ce7\", element=\"ba1d7dca-2776-430d-b825-fd753cc66890\")>,\n",
       " <selenium.webdriver.remote.webelement.WebElement (session=\"bcb1dd5aeb0e9890f48056c920792ce7\", element=\"69538083-38e8-4379-bebd-5bb2bd7762e7\")>,\n",
       " <selenium.webdriver.remote.webelement.WebElement (session=\"bcb1dd5aeb0e9890f48056c920792ce7\", element=\"a0e8eec0-7d8f-4afc-a469-4fe79429aac9\")>,\n",
       " <selenium.webdriver.remote.webelement.WebElement (session=\"bcb1dd5aeb0e9890f48056c920792ce7\", element=\"6ee4fc09-3af3-4a05-a886-0150e1a7687d\")>,\n",
       " <selenium.webdriver.remote.webelement.WebElement (session=\"bcb1dd5aeb0e9890f48056c920792ce7\", element=\"07df2d37-5b08-4f15-acb7-b08e2a9647f7\")>,\n",
       " <selenium.webdriver.remote.webelement.WebElement (session=\"bcb1dd5aeb0e9890f48056c920792ce7\", element=\"83f3902c-5d24-4cc5-b488-8c67945c65fa\")>,\n",
       " <selenium.webdriver.remote.webelement.WebElement (session=\"bcb1dd5aeb0e9890f48056c920792ce7\", element=\"29f34175-46dd-4d60-95d7-77a4c196f330\")>,\n",
       " <selenium.webdriver.remote.webelement.WebElement (session=\"bcb1dd5aeb0e9890f48056c920792ce7\", element=\"24948bfa-c8f5-4524-b393-9a450487d2a7\")>,\n",
       " <selenium.webdriver.remote.webelement.WebElement (session=\"bcb1dd5aeb0e9890f48056c920792ce7\", element=\"bb2cf6df-aac6-47fc-9227-200900ff67f4\")>,\n",
       " <selenium.webdriver.remote.webelement.WebElement (session=\"bcb1dd5aeb0e9890f48056c920792ce7\", element=\"b7aaf498-4888-43e8-aaea-8feeed5f738a\")>,\n",
       " <selenium.webdriver.remote.webelement.WebElement (session=\"bcb1dd5aeb0e9890f48056c920792ce7\", element=\"81ce0b4f-ce33-438f-bdb5-7a9d19afaf26\")>,\n",
       " <selenium.webdriver.remote.webelement.WebElement (session=\"bcb1dd5aeb0e9890f48056c920792ce7\", element=\"02ebd057-8c8c-4c70-9816-4aad761a935f\")>,\n",
       " <selenium.webdriver.remote.webelement.WebElement (session=\"bcb1dd5aeb0e9890f48056c920792ce7\", element=\"9d3123f6-a3d4-4cd2-bc4b-ce3ec7ae7a52\")>,\n",
       " <selenium.webdriver.remote.webelement.WebElement (session=\"bcb1dd5aeb0e9890f48056c920792ce7\", element=\"4d8d42fc-271e-4349-a4e1-61d3dbd4f93f\")>,\n",
       " <selenium.webdriver.remote.webelement.WebElement (session=\"bcb1dd5aeb0e9890f48056c920792ce7\", element=\"a63d464a-154c-465a-8dcd-fcc93cf604e2\")>,\n",
       " <selenium.webdriver.remote.webelement.WebElement (session=\"bcb1dd5aeb0e9890f48056c920792ce7\", element=\"f98fa0ff-7309-450d-8695-052779c900c1\")>,\n",
       " <selenium.webdriver.remote.webelement.WebElement (session=\"bcb1dd5aeb0e9890f48056c920792ce7\", element=\"b296f2d6-8e7c-451d-9b92-86f20d5f6e3c\")>,\n",
       " <selenium.webdriver.remote.webelement.WebElement (session=\"bcb1dd5aeb0e9890f48056c920792ce7\", element=\"63fe8a03-883b-4143-8f61-3f9617d5197d\")>,\n",
       " <selenium.webdriver.remote.webelement.WebElement (session=\"bcb1dd5aeb0e9890f48056c920792ce7\", element=\"6754d02e-9bfb-4d37-91fb-f8c496c69852\")>,\n",
       " <selenium.webdriver.remote.webelement.WebElement (session=\"bcb1dd5aeb0e9890f48056c920792ce7\", element=\"7515b7ed-9fde-41d0-b9d9-f3a0840a5aa4\")>,\n",
       " <selenium.webdriver.remote.webelement.WebElement (session=\"bcb1dd5aeb0e9890f48056c920792ce7\", element=\"3698688f-7803-425f-999c-2127139dcb82\")>,\n",
       " <selenium.webdriver.remote.webelement.WebElement (session=\"bcb1dd5aeb0e9890f48056c920792ce7\", element=\"4226d0b4-a4dc-42ae-a269-6f9e0d1dd99c\")>,\n",
       " <selenium.webdriver.remote.webelement.WebElement (session=\"bcb1dd5aeb0e9890f48056c920792ce7\", element=\"08230842-b696-4be8-989a-e4c3173ff4dd\")>,\n",
       " <selenium.webdriver.remote.webelement.WebElement (session=\"bcb1dd5aeb0e9890f48056c920792ce7\", element=\"a84b19f5-3350-4908-9f7b-1176169c940b\")>,\n",
       " <selenium.webdriver.remote.webelement.WebElement (session=\"bcb1dd5aeb0e9890f48056c920792ce7\", element=\"05fa73c9-f2f0-4056-8130-739f2cc3051f\")>,\n",
       " <selenium.webdriver.remote.webelement.WebElement (session=\"bcb1dd5aeb0e9890f48056c920792ce7\", element=\"bff6143c-fe24-446a-9211-8f2497e36026\")>]"
      ]
     },
     "execution_count": 21,
     "metadata": {},
     "output_type": "execute_result"
    }
   ],
   "source": [
    "header2=browser.find_elements(\"xpath\",\"//div[@class='td-wrap-in']\")\n",
    "header2"
   ]
  },
  {
   "cell_type": "code",
   "execution_count": 22,
   "id": "f99bc260",
   "metadata": {},
   "outputs": [
    {
     "data": {
      "text/plain": [
       "['83.8', '74.4', '97', '84.1', '99.8', '83.6', '59.7', '99.7', '53.9']"
      ]
     },
     "execution_count": 22,
     "metadata": {},
     "output_type": "execute_result"
    }
   ],
   "source": [
    "#PARSING DATA\n",
    "value_head=[]\n",
    "for data in header2:\n",
    "    #get the text data\n",
    "    temp=data.text\n",
    "    value_head.append(temp)\n",
    "value_head=value_head[51:60]\n",
    "value_head"
   ]
  },
  {
   "cell_type": "code",
   "execution_count": 23,
   "id": "0ecbec3a",
   "metadata": {},
   "outputs": [
    {
     "data": {
      "text/plain": [
       "{'Overall Score': '83.8',\n",
       " 'Academic Reputation': '74.4',\n",
       " 'Employer Reputation': '97',\n",
       " 'Citations per Faculty': '84.1',\n",
       " 'Faculty Student Ratio': '99.8',\n",
       " 'International Students Ratio': '83.6',\n",
       " 'International Faculty Ratio': '59.7',\n",
       " 'International Research Network\\nUnweighted': '99.7',\n",
       " 'Employment Outcomes\\nUnweighted': '53.9'}"
      ]
     },
     "execution_count": 23,
     "metadata": {},
     "output_type": "execute_result"
    }
   ],
   "source": [
    "d={}\n",
    "for i in range(len(column_head)):\n",
    "    d[column_head[i]]=value_head[i]\n",
    "d"
   ]
  },
  {
   "cell_type": "code",
   "execution_count": 24,
   "id": "407708d0",
   "metadata": {},
   "outputs": [
    {
     "data": {
      "text/plain": [
       "'{\"Overall Score\": \"83.8\", \"Academic Reputation\": \"74.4\", \"Employer Reputation\": \"97\", \"Citations per Faculty\": \"84.1\", \"Faculty Student Ratio\": \"99.8\", \"International Students Ratio\": \"83.6\", \"International Faculty Ratio\": \"59.7\", \"International Research Network\\\\nUnweighted\": \"99.7\", \"Employment Outcomes\\\\nUnweighted\": \"53.9\"}'"
      ]
     },
     "execution_count": 24,
     "metadata": {},
     "output_type": "execute_result"
    }
   ],
   "source": [
    "s1=json.dumps(d)\n",
    "s1"
   ]
  },
  {
   "cell_type": "code",
   "execution_count": 25,
   "id": "065ac799",
   "metadata": {},
   "outputs": [],
   "source": [
    "with open('University of Oxford.json','w') as f:\n",
    "    json.dump(d,f)"
   ]
  },
  {
   "cell_type": "code",
   "execution_count": null,
   "id": "145c95a2",
   "metadata": {},
   "outputs": [],
   "source": []
  }
 ],
 "metadata": {
  "kernelspec": {
   "display_name": "Python 3 (ipykernel)",
   "language": "python",
   "name": "python3"
  },
  "language_info": {
   "codemirror_mode": {
    "name": "ipython",
    "version": 3
   },
   "file_extension": ".py",
   "mimetype": "text/x-python",
   "name": "python",
   "nbconvert_exporter": "python",
   "pygments_lexer": "ipython3",
   "version": "3.9.12"
  }
 },
 "nbformat": 4,
 "nbformat_minor": 5
}
