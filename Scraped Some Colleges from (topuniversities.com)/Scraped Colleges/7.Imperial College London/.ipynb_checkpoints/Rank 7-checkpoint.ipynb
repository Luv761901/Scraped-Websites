{
 "cells": [
  {
   "cell_type": "code",
   "execution_count": 1,
   "id": "2cc1fd44",
   "metadata": {},
   "outputs": [],
   "source": [
    "from selenium import webdriver\n",
    "from selenium.webdriver.chrome.service import Service\n",
    "import pandas as pd\n",
    "import json"
   ]
  },
  {
   "cell_type": "code",
   "execution_count": 2,
   "id": "30f7a852",
   "metadata": {},
   "outputs": [],
   "source": [
    "path = Service('C:\\chromedriver.exe')"
   ]
  },
  {
   "cell_type": "code",
   "execution_count": 3,
   "id": "0381e8c5",
   "metadata": {},
   "outputs": [],
   "source": [
    "# set path for the driver\n",
    "browser = webdriver.Chrome(service = path)\n"
   ]
  },
  {
   "cell_type": "code",
   "execution_count": 5,
   "id": "b235a389",
   "metadata": {},
   "outputs": [],
   "source": [
    "url = \"https://www.topuniversities.com/university-rankings/world-university-rankings/2023\""
   ]
  },
  {
   "cell_type": "code",
   "execution_count": 6,
   "id": "49d68f28",
   "metadata": {},
   "outputs": [],
   "source": [
    "# open the page url ion chrome\n",
    "browser.get(url)"
   ]
  },
  {
   "cell_type": "code",
   "execution_count": 8,
   "id": "7c0eed24",
   "metadata": {},
   "outputs": [
    {
     "data": {
      "text/plain": [
       "[<selenium.webdriver.remote.webelement.WebElement (session=\"0866efc81d0985d29773f5bdb49192b0\", element=\"4f05120e-f337-4a0b-8c3b-a32beba5d25e\")>,\n",
       " <selenium.webdriver.remote.webelement.WebElement (session=\"0866efc81d0985d29773f5bdb49192b0\", element=\"3f953797-6876-4d1e-9ea2-f09819924a46\")>,\n",
       " <selenium.webdriver.remote.webelement.WebElement (session=\"0866efc81d0985d29773f5bdb49192b0\", element=\"77b48bac-7840-43f9-a4b1-fbbe7ef37eb0\")>,\n",
       " <selenium.webdriver.remote.webelement.WebElement (session=\"0866efc81d0985d29773f5bdb49192b0\", element=\"4367da6d-f316-43cd-8fe9-6765c13e6659\")>,\n",
       " <selenium.webdriver.remote.webelement.WebElement (session=\"0866efc81d0985d29773f5bdb49192b0\", element=\"154ff244-99f0-4216-960c-fea2291ef377\")>,\n",
       " <selenium.webdriver.remote.webelement.WebElement (session=\"0866efc81d0985d29773f5bdb49192b0\", element=\"7d702185-fef1-43ce-bcce-e164f189f2df\")>,\n",
       " <selenium.webdriver.remote.webelement.WebElement (session=\"0866efc81d0985d29773f5bdb49192b0\", element=\"f9398ecc-f101-415a-a7d4-35b23828f229\")>,\n",
       " <selenium.webdriver.remote.webelement.WebElement (session=\"0866efc81d0985d29773f5bdb49192b0\", element=\"661de512-fa4e-4872-a55f-16420fa7990c\")>,\n",
       " <selenium.webdriver.remote.webelement.WebElement (session=\"0866efc81d0985d29773f5bdb49192b0\", element=\"dbaaae8a-2f24-4521-9d49-540c66a7944e\")>]"
      ]
     },
     "execution_count": 8,
     "metadata": {},
     "output_type": "execute_result"
    }
   ],
   "source": [
    "# GET EACH COLLEGE SPECIFICATION HEADERS\n",
    "header=browser.find_elements(\"xpath\",\"//div[@class='_click-function_ind']\")\n",
    "header"
   ]
  },
  {
   "cell_type": "code",
   "execution_count": 10,
   "id": "f34bad48",
   "metadata": {},
   "outputs": [
    {
     "data": {
      "text/plain": [
       "['Overall Score',\n",
       " 'Academic Reputation',\n",
       " 'Employer Reputation',\n",
       " 'Citations per Faculty',\n",
       " 'Faculty Student Ratio',\n",
       " 'International Students Ratio',\n",
       " 'International Faculty Ratio',\n",
       " 'International Research Network\\nUnweighted',\n",
       " 'Employment Outcomes\\nUnweighted']"
      ]
     },
     "execution_count": 10,
     "metadata": {},
     "output_type": "execute_result"
    }
   ],
   "source": [
    "#PARSING DATA\n",
    "column_head=[]\n",
    "for data in header:\n",
    "    #get the text data\n",
    "    temp=data.text\n",
    "    column_head.append(temp)\n",
    "column_head"
   ]
  },
  {
   "cell_type": "code",
   "execution_count": 9,
   "id": "93fe543a",
   "metadata": {},
   "outputs": [
    {
     "data": {
      "text/plain": [
       "[<selenium.webdriver.remote.webelement.WebElement (session=\"0866efc81d0985d29773f5bdb49192b0\", element=\"21a9e9bc-fe2d-4669-b0b9-8f9c5b19a5bf\")>,\n",
       " <selenium.webdriver.remote.webelement.WebElement (session=\"0866efc81d0985d29773f5bdb49192b0\", element=\"64f32e4e-9167-4bef-b43d-e84b21797093\")>,\n",
       " <selenium.webdriver.remote.webelement.WebElement (session=\"0866efc81d0985d29773f5bdb49192b0\", element=\"6d7ba022-548f-4f9a-947d-4e5976c8af07\")>,\n",
       " <selenium.webdriver.remote.webelement.WebElement (session=\"0866efc81d0985d29773f5bdb49192b0\", element=\"919ce417-0b4e-4b7e-aa66-b3599b322ac8\")>,\n",
       " <selenium.webdriver.remote.webelement.WebElement (session=\"0866efc81d0985d29773f5bdb49192b0\", element=\"77e97770-37c9-4254-9831-56a616616ea8\")>,\n",
       " <selenium.webdriver.remote.webelement.WebElement (session=\"0866efc81d0985d29773f5bdb49192b0\", element=\"0376a4d5-e763-4a6a-89a3-13071df35ac0\")>,\n",
       " <selenium.webdriver.remote.webelement.WebElement (session=\"0866efc81d0985d29773f5bdb49192b0\", element=\"02bac847-2528-4d03-81a6-957e2d73266a\")>,\n",
       " <selenium.webdriver.remote.webelement.WebElement (session=\"0866efc81d0985d29773f5bdb49192b0\", element=\"7aeec15a-d72c-46c6-9e49-c105aeec63c6\")>,\n",
       " <selenium.webdriver.remote.webelement.WebElement (session=\"0866efc81d0985d29773f5bdb49192b0\", element=\"0416e37a-b3d5-4bed-930c-a7beebb8274b\")>,\n",
       " <selenium.webdriver.remote.webelement.WebElement (session=\"0866efc81d0985d29773f5bdb49192b0\", element=\"595683b4-8c31-4512-a230-ef9f0066b440\")>,\n",
       " <selenium.webdriver.remote.webelement.WebElement (session=\"0866efc81d0985d29773f5bdb49192b0\", element=\"0e7e6c2c-681f-46e5-8aea-c296510140ee\")>,\n",
       " <selenium.webdriver.remote.webelement.WebElement (session=\"0866efc81d0985d29773f5bdb49192b0\", element=\"3785929b-308c-44b0-b604-17177024a081\")>,\n",
       " <selenium.webdriver.remote.webelement.WebElement (session=\"0866efc81d0985d29773f5bdb49192b0\", element=\"32cf4109-e730-4136-a33a-6af88d8cb348\")>,\n",
       " <selenium.webdriver.remote.webelement.WebElement (session=\"0866efc81d0985d29773f5bdb49192b0\", element=\"abc09885-2fba-4d76-9826-e44422e1587f\")>,\n",
       " <selenium.webdriver.remote.webelement.WebElement (session=\"0866efc81d0985d29773f5bdb49192b0\", element=\"9a170bbf-d22f-4d66-98d8-f6d6cfcd117d\")>,\n",
       " <selenium.webdriver.remote.webelement.WebElement (session=\"0866efc81d0985d29773f5bdb49192b0\", element=\"1ab77ce2-dbda-43c2-a493-0fd12c4d39ca\")>,\n",
       " <selenium.webdriver.remote.webelement.WebElement (session=\"0866efc81d0985d29773f5bdb49192b0\", element=\"db5309fe-b7c3-4948-940e-e70e26289511\")>,\n",
       " <selenium.webdriver.remote.webelement.WebElement (session=\"0866efc81d0985d29773f5bdb49192b0\", element=\"3bdef80a-944e-4730-a5f6-c32b992a8ee2\")>,\n",
       " <selenium.webdriver.remote.webelement.WebElement (session=\"0866efc81d0985d29773f5bdb49192b0\", element=\"4e921fff-ce82-4a6c-8058-56efb6984792\")>,\n",
       " <selenium.webdriver.remote.webelement.WebElement (session=\"0866efc81d0985d29773f5bdb49192b0\", element=\"97ae1e5a-8007-4500-a652-a769bc05dc1f\")>,\n",
       " <selenium.webdriver.remote.webelement.WebElement (session=\"0866efc81d0985d29773f5bdb49192b0\", element=\"d4d7933c-781a-44ff-bd3b-e3e447fec249\")>,\n",
       " <selenium.webdriver.remote.webelement.WebElement (session=\"0866efc81d0985d29773f5bdb49192b0\", element=\"115caf7b-b4c3-452e-9e66-e1d2c539d456\")>,\n",
       " <selenium.webdriver.remote.webelement.WebElement (session=\"0866efc81d0985d29773f5bdb49192b0\", element=\"70a2c83f-e75a-4e28-a6aa-3b420fbdf273\")>,\n",
       " <selenium.webdriver.remote.webelement.WebElement (session=\"0866efc81d0985d29773f5bdb49192b0\", element=\"c84f5e2a-edd9-4f31-b49a-188cd0d50275\")>,\n",
       " <selenium.webdriver.remote.webelement.WebElement (session=\"0866efc81d0985d29773f5bdb49192b0\", element=\"6a754421-30b6-4e17-bad9-cd9d793def9f\")>,\n",
       " <selenium.webdriver.remote.webelement.WebElement (session=\"0866efc81d0985d29773f5bdb49192b0\", element=\"e6453216-5b6f-45fb-98c2-2ce4c4179961\")>,\n",
       " <selenium.webdriver.remote.webelement.WebElement (session=\"0866efc81d0985d29773f5bdb49192b0\", element=\"f7208d42-5435-491c-a342-799bc9cbddef\")>,\n",
       " <selenium.webdriver.remote.webelement.WebElement (session=\"0866efc81d0985d29773f5bdb49192b0\", element=\"19efcfb4-c867-44ee-996f-5bf86d676273\")>,\n",
       " <selenium.webdriver.remote.webelement.WebElement (session=\"0866efc81d0985d29773f5bdb49192b0\", element=\"317a0885-b431-4cc6-a7ff-3570f0e6e42a\")>,\n",
       " <selenium.webdriver.remote.webelement.WebElement (session=\"0866efc81d0985d29773f5bdb49192b0\", element=\"01b2182c-49d6-43b3-ae51-0af5abe56116\")>,\n",
       " <selenium.webdriver.remote.webelement.WebElement (session=\"0866efc81d0985d29773f5bdb49192b0\", element=\"34550186-dad3-4eee-a85b-06b5a40e5b19\")>,\n",
       " <selenium.webdriver.remote.webelement.WebElement (session=\"0866efc81d0985d29773f5bdb49192b0\", element=\"4b4c442a-f406-4ae1-bee8-0d655b4e52c5\")>,\n",
       " <selenium.webdriver.remote.webelement.WebElement (session=\"0866efc81d0985d29773f5bdb49192b0\", element=\"37600d74-a699-4575-bb18-c1e68cdddee7\")>,\n",
       " <selenium.webdriver.remote.webelement.WebElement (session=\"0866efc81d0985d29773f5bdb49192b0\", element=\"81ebd450-c279-4690-a933-a6889e112a87\")>,\n",
       " <selenium.webdriver.remote.webelement.WebElement (session=\"0866efc81d0985d29773f5bdb49192b0\", element=\"c59fd25e-72d4-4cfe-8431-b15edf2e22c2\")>,\n",
       " <selenium.webdriver.remote.webelement.WebElement (session=\"0866efc81d0985d29773f5bdb49192b0\", element=\"2f2f5cee-99c1-4dbf-93e4-fec549e5c619\")>,\n",
       " <selenium.webdriver.remote.webelement.WebElement (session=\"0866efc81d0985d29773f5bdb49192b0\", element=\"c57a1724-ac53-4a71-8252-49fea70ca656\")>,\n",
       " <selenium.webdriver.remote.webelement.WebElement (session=\"0866efc81d0985d29773f5bdb49192b0\", element=\"a3871bf4-6b74-4793-9636-ede2e3c78389\")>,\n",
       " <selenium.webdriver.remote.webelement.WebElement (session=\"0866efc81d0985d29773f5bdb49192b0\", element=\"f25aff4d-8fba-4847-97f8-bd8bcf8421d5\")>,\n",
       " <selenium.webdriver.remote.webelement.WebElement (session=\"0866efc81d0985d29773f5bdb49192b0\", element=\"c30450ce-ca55-4858-aece-6dc663a30da0\")>,\n",
       " <selenium.webdriver.remote.webelement.WebElement (session=\"0866efc81d0985d29773f5bdb49192b0\", element=\"432a19fd-7a60-4e44-8c8b-c9d8684d5148\")>,\n",
       " <selenium.webdriver.remote.webelement.WebElement (session=\"0866efc81d0985d29773f5bdb49192b0\", element=\"213c8076-7950-47b9-ab1c-d6a235acdc54\")>,\n",
       " <selenium.webdriver.remote.webelement.WebElement (session=\"0866efc81d0985d29773f5bdb49192b0\", element=\"c0c08a35-7daa-4d6a-8d78-133973a8a4a4\")>,\n",
       " <selenium.webdriver.remote.webelement.WebElement (session=\"0866efc81d0985d29773f5bdb49192b0\", element=\"7af09027-9978-4118-983c-f6991fdf34a5\")>,\n",
       " <selenium.webdriver.remote.webelement.WebElement (session=\"0866efc81d0985d29773f5bdb49192b0\", element=\"b8086f9f-ca97-4444-8fba-8cf1e0036636\")>,\n",
       " <selenium.webdriver.remote.webelement.WebElement (session=\"0866efc81d0985d29773f5bdb49192b0\", element=\"af54ed74-3a43-45d8-b72f-421135fd2f21\")>,\n",
       " <selenium.webdriver.remote.webelement.WebElement (session=\"0866efc81d0985d29773f5bdb49192b0\", element=\"8a0195be-17d9-4b49-92a5-5d0ad90c483f\")>,\n",
       " <selenium.webdriver.remote.webelement.WebElement (session=\"0866efc81d0985d29773f5bdb49192b0\", element=\"c13c1459-db59-422d-b9e8-af48c9da64d6\")>,\n",
       " <selenium.webdriver.remote.webelement.WebElement (session=\"0866efc81d0985d29773f5bdb49192b0\", element=\"e7f1ce3b-f13c-4e78-a9e6-625f613de97d\")>,\n",
       " <selenium.webdriver.remote.webelement.WebElement (session=\"0866efc81d0985d29773f5bdb49192b0\", element=\"ac2baa9b-befa-4f91-a892-ed15e72a1bff\")>,\n",
       " <selenium.webdriver.remote.webelement.WebElement (session=\"0866efc81d0985d29773f5bdb49192b0\", element=\"7c231a3b-eaf6-453a-b33a-3a3e5e94171d\")>,\n",
       " <selenium.webdriver.remote.webelement.WebElement (session=\"0866efc81d0985d29773f5bdb49192b0\", element=\"81f9f6d4-0782-4865-9aa0-ab3e00fbabf7\")>,\n",
       " <selenium.webdriver.remote.webelement.WebElement (session=\"0866efc81d0985d29773f5bdb49192b0\", element=\"a44be13d-e85d-49e2-aac1-3f0073ece61f\")>,\n",
       " <selenium.webdriver.remote.webelement.WebElement (session=\"0866efc81d0985d29773f5bdb49192b0\", element=\"0d5384ad-a35d-4d0e-acf3-87231928cde5\")>,\n",
       " <selenium.webdriver.remote.webelement.WebElement (session=\"0866efc81d0985d29773f5bdb49192b0\", element=\"95328ae4-95db-4d9c-b793-1c7d5fd04eef\")>,\n",
       " <selenium.webdriver.remote.webelement.WebElement (session=\"0866efc81d0985d29773f5bdb49192b0\", element=\"78f8df21-029d-4265-8785-6dea316f8683\")>,\n",
       " <selenium.webdriver.remote.webelement.WebElement (session=\"0866efc81d0985d29773f5bdb49192b0\", element=\"a7dde2d1-15ff-4749-8841-c99112ea250a\")>,\n",
       " <selenium.webdriver.remote.webelement.WebElement (session=\"0866efc81d0985d29773f5bdb49192b0\", element=\"84c291ba-ed84-4cb8-acdc-17adda05c8f9\")>,\n",
       " <selenium.webdriver.remote.webelement.WebElement (session=\"0866efc81d0985d29773f5bdb49192b0\", element=\"df726665-eb4c-4bf9-996a-b9fe610a62c9\")>,\n",
       " <selenium.webdriver.remote.webelement.WebElement (session=\"0866efc81d0985d29773f5bdb49192b0\", element=\"1bd9327d-4ec4-4bec-ba8d-fdcc12d5a348\")>,\n",
       " <selenium.webdriver.remote.webelement.WebElement (session=\"0866efc81d0985d29773f5bdb49192b0\", element=\"73281d21-d485-467a-9a00-ca4606e8f4e7\")>,\n",
       " <selenium.webdriver.remote.webelement.WebElement (session=\"0866efc81d0985d29773f5bdb49192b0\", element=\"e9c3247d-3ffc-4918-8ff8-1b267826b692\")>,\n",
       " <selenium.webdriver.remote.webelement.WebElement (session=\"0866efc81d0985d29773f5bdb49192b0\", element=\"e39e3fb3-3403-4e85-9e77-63ff01e6b64f\")>,\n",
       " <selenium.webdriver.remote.webelement.WebElement (session=\"0866efc81d0985d29773f5bdb49192b0\", element=\"047fa60c-ae73-48af-8f37-6faf4fd8cc9f\")>,\n",
       " <selenium.webdriver.remote.webelement.WebElement (session=\"0866efc81d0985d29773f5bdb49192b0\", element=\"3851a418-2d7b-485c-aa05-22d1f4fd1945\")>,\n",
       " <selenium.webdriver.remote.webelement.WebElement (session=\"0866efc81d0985d29773f5bdb49192b0\", element=\"61c7fe63-9c7c-481c-b029-7a955a1f7031\")>,\n",
       " <selenium.webdriver.remote.webelement.WebElement (session=\"0866efc81d0985d29773f5bdb49192b0\", element=\"007ee1f9-3dbe-4afc-b7f0-a76e3f67d5fe\")>,\n",
       " <selenium.webdriver.remote.webelement.WebElement (session=\"0866efc81d0985d29773f5bdb49192b0\", element=\"858ee7ed-288b-4dfd-b8a0-120a35f4d8b2\")>,\n",
       " <selenium.webdriver.remote.webelement.WebElement (session=\"0866efc81d0985d29773f5bdb49192b0\", element=\"fd80f9bc-b705-434f-a822-8cc30da8ebaa\")>,\n",
       " <selenium.webdriver.remote.webelement.WebElement (session=\"0866efc81d0985d29773f5bdb49192b0\", element=\"b905267f-29cb-4171-af65-4bab4694b11d\")>,\n",
       " <selenium.webdriver.remote.webelement.WebElement (session=\"0866efc81d0985d29773f5bdb49192b0\", element=\"d350548d-544a-4c4c-9737-36c8409199f6\")>,\n",
       " <selenium.webdriver.remote.webelement.WebElement (session=\"0866efc81d0985d29773f5bdb49192b0\", element=\"e81b47c0-fee9-4f83-b6ac-7195e329f0d0\")>,\n",
       " <selenium.webdriver.remote.webelement.WebElement (session=\"0866efc81d0985d29773f5bdb49192b0\", element=\"26ace996-90bd-48b1-87aa-4e41d42a0e68\")>,\n",
       " <selenium.webdriver.remote.webelement.WebElement (session=\"0866efc81d0985d29773f5bdb49192b0\", element=\"6763152c-efde-4a2d-9acb-7cbe7b1d44ff\")>,\n",
       " <selenium.webdriver.remote.webelement.WebElement (session=\"0866efc81d0985d29773f5bdb49192b0\", element=\"d89a3252-c207-41d1-b5e7-88848f26172c\")>,\n",
       " <selenium.webdriver.remote.webelement.WebElement (session=\"0866efc81d0985d29773f5bdb49192b0\", element=\"fff8cbdb-c13b-4717-9826-f72327171eda\")>,\n",
       " <selenium.webdriver.remote.webelement.WebElement (session=\"0866efc81d0985d29773f5bdb49192b0\", element=\"41a90fb1-0f5a-4391-9389-5a50ca8bce63\")>,\n",
       " <selenium.webdriver.remote.webelement.WebElement (session=\"0866efc81d0985d29773f5bdb49192b0\", element=\"aed188da-00d0-4c21-ab68-425e1cfa51d1\")>,\n",
       " <selenium.webdriver.remote.webelement.WebElement (session=\"0866efc81d0985d29773f5bdb49192b0\", element=\"5f4cc1ae-3463-4d76-8e22-804ba11e4fea\")>,\n",
       " <selenium.webdriver.remote.webelement.WebElement (session=\"0866efc81d0985d29773f5bdb49192b0\", element=\"2c6391d9-7e8f-459a-b9c9-35c6d4472e31\")>,\n",
       " <selenium.webdriver.remote.webelement.WebElement (session=\"0866efc81d0985d29773f5bdb49192b0\", element=\"4c65bfd2-81e7-4290-963e-42b66ac96e08\")>,\n",
       " <selenium.webdriver.remote.webelement.WebElement (session=\"0866efc81d0985d29773f5bdb49192b0\", element=\"f9b23cf5-8d04-44b3-87dc-c4767b27f8f4\")>,\n",
       " <selenium.webdriver.remote.webelement.WebElement (session=\"0866efc81d0985d29773f5bdb49192b0\", element=\"ed55aa52-1661-47f0-b1d8-a00621dcd53b\")>,\n",
       " <selenium.webdriver.remote.webelement.WebElement (session=\"0866efc81d0985d29773f5bdb49192b0\", element=\"adec335f-77a8-43f6-8fbf-f2ba8649436e\")>,\n",
       " <selenium.webdriver.remote.webelement.WebElement (session=\"0866efc81d0985d29773f5bdb49192b0\", element=\"de71e491-9d81-46f2-8e44-fddbb414f81c\")>,\n",
       " <selenium.webdriver.remote.webelement.WebElement (session=\"0866efc81d0985d29773f5bdb49192b0\", element=\"68f662e8-9984-446a-8508-7bee73f8ff20\")>,\n",
       " <selenium.webdriver.remote.webelement.WebElement (session=\"0866efc81d0985d29773f5bdb49192b0\", element=\"17714231-4a04-435a-bd40-39d44b42a9dd\")>,\n",
       " <selenium.webdriver.remote.webelement.WebElement (session=\"0866efc81d0985d29773f5bdb49192b0\", element=\"6950686e-c0e9-4e7b-aee5-54874ade53be\")>,\n",
       " <selenium.webdriver.remote.webelement.WebElement (session=\"0866efc81d0985d29773f5bdb49192b0\", element=\"2a17d2ac-281a-4cb0-8bd5-054ee15a9831\")>,\n",
       " <selenium.webdriver.remote.webelement.WebElement (session=\"0866efc81d0985d29773f5bdb49192b0\", element=\"0865e245-d680-44f6-8cb0-53a6f4e4be94\")>,\n",
       " <selenium.webdriver.remote.webelement.WebElement (session=\"0866efc81d0985d29773f5bdb49192b0\", element=\"e2c71dc0-3572-406e-89c8-2c7f6e241e01\")>,\n",
       " <selenium.webdriver.remote.webelement.WebElement (session=\"0866efc81d0985d29773f5bdb49192b0\", element=\"05069155-7111-46be-80d7-a74dfa1f4d1a\")>,\n",
       " <selenium.webdriver.remote.webelement.WebElement (session=\"0866efc81d0985d29773f5bdb49192b0\", element=\"47a73886-b64d-4ddc-9420-caeb947e32bf\")>,\n",
       " <selenium.webdriver.remote.webelement.WebElement (session=\"0866efc81d0985d29773f5bdb49192b0\", element=\"8d900bda-8c8e-444a-8d74-740aa198f1fc\")>,\n",
       " <selenium.webdriver.remote.webelement.WebElement (session=\"0866efc81d0985d29773f5bdb49192b0\", element=\"871f123f-b7fb-410c-9dde-fcedc7c49a8c\")>,\n",
       " <selenium.webdriver.remote.webelement.WebElement (session=\"0866efc81d0985d29773f5bdb49192b0\", element=\"e579a4e2-a332-4cec-afb3-080c56f0e026\")>,\n",
       " <selenium.webdriver.remote.webelement.WebElement (session=\"0866efc81d0985d29773f5bdb49192b0\", element=\"02c450fe-6844-4949-a6e3-ccc6c25a0811\")>,\n",
       " <selenium.webdriver.remote.webelement.WebElement (session=\"0866efc81d0985d29773f5bdb49192b0\", element=\"3ce9d052-17dc-499f-a630-d9578dfd5cfc\")>,\n",
       " <selenium.webdriver.remote.webelement.WebElement (session=\"0866efc81d0985d29773f5bdb49192b0\", element=\"2724fa3c-2bae-49d3-9373-e44032f090e0\")>,\n",
       " <selenium.webdriver.remote.webelement.WebElement (session=\"0866efc81d0985d29773f5bdb49192b0\", element=\"8d8daf64-bca9-4b1f-a660-0d849191e319\")>]"
      ]
     },
     "execution_count": 9,
     "metadata": {},
     "output_type": "execute_result"
    }
   ],
   "source": [
    "header2=browser.find_elements(\"xpath\",\"//div[@class='td-wrap-in']\")\n",
    "header2"
   ]
  },
  {
   "cell_type": "code",
   "execution_count": 11,
   "id": "02ab53b2",
   "metadata": {},
   "outputs": [
    {
     "data": {
      "text/plain": [
       "['97', '98.3', '99.7', '86.5', '99.5', '100', '100', '98.1', '88.8']"
      ]
     },
     "execution_count": 11,
     "metadata": {},
     "output_type": "execute_result"
    }
   ],
   "source": [
    "#PARSING DATA\n",
    "value_head=[]\n",
    "for data in header2:\n",
    "    #get the text data\n",
    "    temp=data.text\n",
    "    value_head.append(temp)\n",
    "value_head=value_head[61:70]\n",
    "value_head"
   ]
  },
  {
   "cell_type": "code",
   "execution_count": 12,
   "id": "7d2c5d11",
   "metadata": {},
   "outputs": [
    {
     "data": {
      "text/plain": [
       "{'Overall Score': '97',\n",
       " 'Academic Reputation': '98.3',\n",
       " 'Employer Reputation': '99.7',\n",
       " 'Citations per Faculty': '86.5',\n",
       " 'Faculty Student Ratio': '99.5',\n",
       " 'International Students Ratio': '100',\n",
       " 'International Faculty Ratio': '100',\n",
       " 'International Research Network\\nUnweighted': '98.1',\n",
       " 'Employment Outcomes\\nUnweighted': '88.8'}"
      ]
     },
     "execution_count": 12,
     "metadata": {},
     "output_type": "execute_result"
    }
   ],
   "source": [
    "d={}\n",
    "for i in range(len(column_head)):\n",
    "    d[column_head[i]]=value_head[i]\n",
    "d\n"
   ]
  },
  {
   "cell_type": "code",
   "execution_count": 13,
   "id": "4157a77e",
   "metadata": {},
   "outputs": [
    {
     "data": {
      "text/plain": [
       "'{\"Overall Score\": \"97\", \"Academic Reputation\": \"98.3\", \"Employer Reputation\": \"99.7\", \"Citations per Faculty\": \"86.5\", \"Faculty Student Ratio\": \"99.5\", \"International Students Ratio\": \"100\", \"International Faculty Ratio\": \"100\", \"International Research Network\\\\nUnweighted\": \"98.1\", \"Employment Outcomes\\\\nUnweighted\": \"88.8\"}'"
      ]
     },
     "execution_count": 13,
     "metadata": {},
     "output_type": "execute_result"
    }
   ],
   "source": [
    "s1=json.dumps(d)\n",
    "s1\n"
   ]
  },
  {
   "cell_type": "code",
   "execution_count": 14,
   "id": "9dcb2269",
   "metadata": {},
   "outputs": [],
   "source": [
    "with open('California Institute of Technology (Caltech).json','w') as f:\n",
    "    json.dump(d,f)\n"
   ]
  },
  {
   "cell_type": "code",
   "execution_count": null,
   "id": "2edc3922",
   "metadata": {},
   "outputs": [],
   "source": []
  }
 ],
 "metadata": {
  "kernelspec": {
   "display_name": "Python 3 (ipykernel)",
   "language": "python",
   "name": "python3"
  },
  "language_info": {
   "codemirror_mode": {
    "name": "ipython",
    "version": 3
   },
   "file_extension": ".py",
   "mimetype": "text/x-python",
   "name": "python",
   "nbconvert_exporter": "python",
   "pygments_lexer": "ipython3",
   "version": "3.9.12"
  }
 },
 "nbformat": 4,
 "nbformat_minor": 5
}
