{
 "cells": [
  {
   "cell_type": "code",
   "execution_count": 20,
   "id": "2cc1fd44",
   "metadata": {},
   "outputs": [],
   "source": [
    "from selenium import webdriver\n",
    "from selenium.webdriver.chrome.service import Service\n",
    "import pandas as pd\n",
    "import json"
   ]
  },
  {
   "cell_type": "code",
   "execution_count": 21,
   "id": "30f7a852",
   "metadata": {},
   "outputs": [],
   "source": [
    "path = Service('C:\\chromedriver.exe')"
   ]
  },
  {
   "cell_type": "code",
   "execution_count": 22,
   "id": "0381e8c5",
   "metadata": {},
   "outputs": [],
   "source": [
    "# set path for the driver\n",
    "browser = webdriver.Chrome(service = path)\n"
   ]
  },
  {
   "cell_type": "code",
   "execution_count": 23,
   "id": "b235a389",
   "metadata": {},
   "outputs": [],
   "source": [
    "url = \"https://www.topuniversities.com/university-rankings/world-university-rankings/2023\""
   ]
  },
  {
   "cell_type": "code",
   "execution_count": 24,
   "id": "49d68f28",
   "metadata": {},
   "outputs": [],
   "source": [
    "# open the page url ion chrome\n",
    "browser.get(url)"
   ]
  },
  {
   "cell_type": "code",
   "execution_count": 25,
   "id": "9c0f81d0",
   "metadata": {},
   "outputs": [
    {
     "data": {
      "text/plain": [
       "[<selenium.webdriver.remote.webelement.WebElement (session=\"aaf94b0846731e8cdef1c9cf68743ef4\", element=\"e7b6859e-8efc-435f-a6c8-826b9fdbc731\")>,\n",
       " <selenium.webdriver.remote.webelement.WebElement (session=\"aaf94b0846731e8cdef1c9cf68743ef4\", element=\"a9e1bd3d-3ede-4f24-a22c-2b4a0caca9f5\")>,\n",
       " <selenium.webdriver.remote.webelement.WebElement (session=\"aaf94b0846731e8cdef1c9cf68743ef4\", element=\"f944e2f8-b39c-48d8-8492-22b70b7dba63\")>,\n",
       " <selenium.webdriver.remote.webelement.WebElement (session=\"aaf94b0846731e8cdef1c9cf68743ef4\", element=\"a4657eeb-cf08-4e07-8ba0-bbcae327eb52\")>,\n",
       " <selenium.webdriver.remote.webelement.WebElement (session=\"aaf94b0846731e8cdef1c9cf68743ef4\", element=\"8c5eebc6-267d-4505-af59-968b9af93052\")>,\n",
       " <selenium.webdriver.remote.webelement.WebElement (session=\"aaf94b0846731e8cdef1c9cf68743ef4\", element=\"5ad85fff-6791-4254-8951-ce7cc9e89abe\")>,\n",
       " <selenium.webdriver.remote.webelement.WebElement (session=\"aaf94b0846731e8cdef1c9cf68743ef4\", element=\"beb978df-a049-4754-858c-60f4d36da5e3\")>,\n",
       " <selenium.webdriver.remote.webelement.WebElement (session=\"aaf94b0846731e8cdef1c9cf68743ef4\", element=\"b6176e1e-2e19-4c4f-ac01-6ec8ca71d673\")>,\n",
       " <selenium.webdriver.remote.webelement.WebElement (session=\"aaf94b0846731e8cdef1c9cf68743ef4\", element=\"b654f871-b44f-469e-ba2a-6e5707c734d4\")>,\n",
       " <selenium.webdriver.remote.webelement.WebElement (session=\"aaf94b0846731e8cdef1c9cf68743ef4\", element=\"5bddda90-f0f0-4007-8678-0fb1ce28abcc\")>,\n",
       " <selenium.webdriver.remote.webelement.WebElement (session=\"aaf94b0846731e8cdef1c9cf68743ef4\", element=\"1ec51231-da4a-4acb-bcc3-f05a2b11fce8\")>,\n",
       " <selenium.webdriver.remote.webelement.WebElement (session=\"aaf94b0846731e8cdef1c9cf68743ef4\", element=\"2a43bd75-8b67-4ce4-9934-4516bccd7df2\")>,\n",
       " <selenium.webdriver.remote.webelement.WebElement (session=\"aaf94b0846731e8cdef1c9cf68743ef4\", element=\"831b4589-90d5-464d-97af-b3ab5a5cc7f0\")>,\n",
       " <selenium.webdriver.remote.webelement.WebElement (session=\"aaf94b0846731e8cdef1c9cf68743ef4\", element=\"d6008709-2301-4b35-9330-58417570ccf6\")>,\n",
       " <selenium.webdriver.remote.webelement.WebElement (session=\"aaf94b0846731e8cdef1c9cf68743ef4\", element=\"d4aaae23-26c0-42d3-b167-3b391cec30fb\")>,\n",
       " <selenium.webdriver.remote.webelement.WebElement (session=\"aaf94b0846731e8cdef1c9cf68743ef4\", element=\"0bfa9489-a1dc-4a6b-9c50-4ca337b2bd1c\")>,\n",
       " <selenium.webdriver.remote.webelement.WebElement (session=\"aaf94b0846731e8cdef1c9cf68743ef4\", element=\"cffe5e39-cdf6-4478-aa75-e4f73871387a\")>,\n",
       " <selenium.webdriver.remote.webelement.WebElement (session=\"aaf94b0846731e8cdef1c9cf68743ef4\", element=\"9f5a63f4-c52b-4729-b7e6-de9cebd2220a\")>,\n",
       " <selenium.webdriver.remote.webelement.WebElement (session=\"aaf94b0846731e8cdef1c9cf68743ef4\", element=\"608dbcf0-9fec-4f92-a66a-3e9498d083ee\")>,\n",
       " <selenium.webdriver.remote.webelement.WebElement (session=\"aaf94b0846731e8cdef1c9cf68743ef4\", element=\"3ede5d9a-4911-4dde-8605-46f204f2d2b5\")>]"
      ]
     },
     "execution_count": 25,
     "metadata": {},
     "output_type": "execute_result"
    }
   ],
   "source": [
    "l1=browser.find_elements(\"xpath\",\"//div[@class='location ']\")\n",
    "l1"
   ]
  },
  {
   "cell_type": "code",
   "execution_count": 26,
   "id": "b5d93042",
   "metadata": {},
   "outputs": [
    {
     "data": {
      "text/plain": [
       "['Cambridge, United States',\n",
       " 'Cambridge, United Kingdom',\n",
       " 'Stanford, United States',\n",
       " 'Oxford, United Kingdom',\n",
       " 'Cambridge, United States',\n",
       " 'Pasadena, United States',\n",
       " 'London, United Kingdom',\n",
       " 'London, United Kingdom',\n",
       " 'Zürich, Switzerland',\n",
       " 'Chicago, United States']"
      ]
     },
     "execution_count": 26,
     "metadata": {},
     "output_type": "execute_result"
    }
   ],
   "source": [
    "loc=[]\n",
    "for data in l1:\n",
    "    #get the text data\n",
    "    temp=data.text\n",
    "    loc.append(temp)\n",
    "loc=loc[10:]\n",
    "loc"
   ]
  },
  {
   "cell_type": "code",
   "execution_count": 27,
   "id": "2ec8efe3",
   "metadata": {},
   "outputs": [
    {
     "data": {
      "text/plain": [
       "[<selenium.webdriver.remote.webelement.WebElement (session=\"aaf94b0846731e8cdef1c9cf68743ef4\", element=\"6189a0ab-006c-4c95-a11f-4ba3f3aed2ca\")>,\n",
       " <selenium.webdriver.remote.webelement.WebElement (session=\"aaf94b0846731e8cdef1c9cf68743ef4\", element=\"d6b3c188-62d0-4d93-82f8-e6f825f54a73\")>,\n",
       " <selenium.webdriver.remote.webelement.WebElement (session=\"aaf94b0846731e8cdef1c9cf68743ef4\", element=\"77a43c3e-daf6-4663-9161-ded7e1c6d5e3\")>,\n",
       " <selenium.webdriver.remote.webelement.WebElement (session=\"aaf94b0846731e8cdef1c9cf68743ef4\", element=\"b6a66dea-d749-4ce5-830e-b52d9aeb2102\")>,\n",
       " <selenium.webdriver.remote.webelement.WebElement (session=\"aaf94b0846731e8cdef1c9cf68743ef4\", element=\"36b739ba-621d-489f-8fb6-b1c2fd1aa7de\")>,\n",
       " <selenium.webdriver.remote.webelement.WebElement (session=\"aaf94b0846731e8cdef1c9cf68743ef4\", element=\"b052eb80-e28a-43e2-9171-bc6a0274a7ba\")>,\n",
       " <selenium.webdriver.remote.webelement.WebElement (session=\"aaf94b0846731e8cdef1c9cf68743ef4\", element=\"b94b5ef7-e297-494f-97ad-dff57f8a218a\")>,\n",
       " <selenium.webdriver.remote.webelement.WebElement (session=\"aaf94b0846731e8cdef1c9cf68743ef4\", element=\"97eeb022-4683-4064-a1f3-bb77e13fd081\")>,\n",
       " <selenium.webdriver.remote.webelement.WebElement (session=\"aaf94b0846731e8cdef1c9cf68743ef4\", element=\"c04152a3-c5a7-48e2-9cf3-7dff186cc563\")>,\n",
       " <selenium.webdriver.remote.webelement.WebElement (session=\"aaf94b0846731e8cdef1c9cf68743ef4\", element=\"e91fb6c4-fbf2-48b2-a647-1450a900090d\")>]"
      ]
     },
     "execution_count": 27,
     "metadata": {},
     "output_type": "execute_result"
    }
   ],
   "source": [
    "l2=browser.find_elements(\"xpath\",\"//div[@class='_univ-rank ']\")\n",
    "l2"
   ]
  },
  {
   "cell_type": "code",
   "execution_count": 28,
   "id": "88adf2d0",
   "metadata": {},
   "outputs": [
    {
     "data": {
      "text/plain": [
       "['1', '2', '3', '4', '5', '=6', '=6', '8', '9', '10']"
      ]
     },
     "execution_count": 28,
     "metadata": {},
     "output_type": "execute_result"
    }
   ],
   "source": [
    "RANK=[]\n",
    "for data in l2:\n",
    "    #get the text data\n",
    "    temp=data.text\n",
    "    RANK.append(temp)\n",
    "RANK"
   ]
  },
  {
   "cell_type": "code",
   "execution_count": 29,
   "id": "7c0eed24",
   "metadata": {},
   "outputs": [
    {
     "data": {
      "text/plain": [
       "[<selenium.webdriver.remote.webelement.WebElement (session=\"aaf94b0846731e8cdef1c9cf68743ef4\", element=\"9c7693dd-c0e5-48ac-8002-2caef513be94\")>,\n",
       " <selenium.webdriver.remote.webelement.WebElement (session=\"aaf94b0846731e8cdef1c9cf68743ef4\", element=\"19ea619a-f94d-4057-9f1b-4113eb8df4ae\")>,\n",
       " <selenium.webdriver.remote.webelement.WebElement (session=\"aaf94b0846731e8cdef1c9cf68743ef4\", element=\"d7226e4f-6d8a-4cfa-88c8-6584fc112dee\")>,\n",
       " <selenium.webdriver.remote.webelement.WebElement (session=\"aaf94b0846731e8cdef1c9cf68743ef4\", element=\"0660a346-f31f-474f-b256-19fd02320b0c\")>,\n",
       " <selenium.webdriver.remote.webelement.WebElement (session=\"aaf94b0846731e8cdef1c9cf68743ef4\", element=\"b02ad0d5-7a96-45ec-84f4-5a190f4436d7\")>,\n",
       " <selenium.webdriver.remote.webelement.WebElement (session=\"aaf94b0846731e8cdef1c9cf68743ef4\", element=\"b87f6cc6-19f3-4fc1-86ac-925e7a87fbf7\")>,\n",
       " <selenium.webdriver.remote.webelement.WebElement (session=\"aaf94b0846731e8cdef1c9cf68743ef4\", element=\"9d69a0fb-5372-4c52-9ee4-e709b29b9609\")>,\n",
       " <selenium.webdriver.remote.webelement.WebElement (session=\"aaf94b0846731e8cdef1c9cf68743ef4\", element=\"d4ec4fad-38a3-42cd-b8ea-14ac1f557cb4\")>,\n",
       " <selenium.webdriver.remote.webelement.WebElement (session=\"aaf94b0846731e8cdef1c9cf68743ef4\", element=\"bccc6c51-ff16-4a77-a92f-b4adb3e9ed3d\")>]"
      ]
     },
     "execution_count": 29,
     "metadata": {},
     "output_type": "execute_result"
    }
   ],
   "source": [
    "# GET EACH COLLEGE SPECIFICATION HEADERS\n",
    "header=browser.find_elements(\"xpath\",\"//div[@class='_click-function_ind']\")\n",
    "header"
   ]
  },
  {
   "cell_type": "code",
   "execution_count": 30,
   "id": "f34bad48",
   "metadata": {},
   "outputs": [
    {
     "data": {
      "text/plain": [
       "['Overall Score',\n",
       " 'Academic Reputation',\n",
       " 'Employer Reputation',\n",
       " 'Citations per Faculty',\n",
       " 'Faculty Student Ratio',\n",
       " 'International Students Ratio',\n",
       " 'International Faculty Ratio',\n",
       " 'International Research Network\\nUnweighted',\n",
       " 'Employment Outcomes\\nUnweighted']"
      ]
     },
     "execution_count": 30,
     "metadata": {},
     "output_type": "execute_result"
    }
   ],
   "source": [
    "#PARSING DATA\n",
    "column_head=[]\n",
    "for data in header:\n",
    "    #get the text data\n",
    "    temp=data.text\n",
    "    column_head.append(temp)\n",
    "column_head"
   ]
  },
  {
   "cell_type": "code",
   "execution_count": 31,
   "id": "93fe543a",
   "metadata": {},
   "outputs": [
    {
     "data": {
      "text/plain": [
       "[<selenium.webdriver.remote.webelement.WebElement (session=\"aaf94b0846731e8cdef1c9cf68743ef4\", element=\"707c8d86-98b8-4d2a-8245-d7a6180bb125\")>,\n",
       " <selenium.webdriver.remote.webelement.WebElement (session=\"aaf94b0846731e8cdef1c9cf68743ef4\", element=\"f95e39a9-0f28-4689-beac-cb3c74cb421d\")>,\n",
       " <selenium.webdriver.remote.webelement.WebElement (session=\"aaf94b0846731e8cdef1c9cf68743ef4\", element=\"72378a83-7996-4004-a4f5-737e87c043d1\")>,\n",
       " <selenium.webdriver.remote.webelement.WebElement (session=\"aaf94b0846731e8cdef1c9cf68743ef4\", element=\"02d05fb2-a3d5-43f1-bb75-c45c2fdc0e3d\")>,\n",
       " <selenium.webdriver.remote.webelement.WebElement (session=\"aaf94b0846731e8cdef1c9cf68743ef4\", element=\"d681e5bc-9a9c-4850-a543-ed59481002bc\")>,\n",
       " <selenium.webdriver.remote.webelement.WebElement (session=\"aaf94b0846731e8cdef1c9cf68743ef4\", element=\"fb1f8288-a568-4c78-a157-9edc6ee770f0\")>,\n",
       " <selenium.webdriver.remote.webelement.WebElement (session=\"aaf94b0846731e8cdef1c9cf68743ef4\", element=\"9820c35c-3978-4873-966b-92ac140b5051\")>,\n",
       " <selenium.webdriver.remote.webelement.WebElement (session=\"aaf94b0846731e8cdef1c9cf68743ef4\", element=\"a00ed7d3-d828-4b3d-86cc-480c85f72fba\")>,\n",
       " <selenium.webdriver.remote.webelement.WebElement (session=\"aaf94b0846731e8cdef1c9cf68743ef4\", element=\"9c40b917-062f-4f81-8316-cb15b7893f1d\")>,\n",
       " <selenium.webdriver.remote.webelement.WebElement (session=\"aaf94b0846731e8cdef1c9cf68743ef4\", element=\"4ff93877-b084-47e5-a580-b9844bf93475\")>,\n",
       " <selenium.webdriver.remote.webelement.WebElement (session=\"aaf94b0846731e8cdef1c9cf68743ef4\", element=\"4e984a80-6e45-4651-95cf-369bd1967888\")>,\n",
       " <selenium.webdriver.remote.webelement.WebElement (session=\"aaf94b0846731e8cdef1c9cf68743ef4\", element=\"ded270b0-a662-41e5-aaf8-df686d5cfe89\")>,\n",
       " <selenium.webdriver.remote.webelement.WebElement (session=\"aaf94b0846731e8cdef1c9cf68743ef4\", element=\"e2f790f5-70dc-434b-b7b2-fcdfdf14863d\")>,\n",
       " <selenium.webdriver.remote.webelement.WebElement (session=\"aaf94b0846731e8cdef1c9cf68743ef4\", element=\"1bc77409-7833-41c8-9de7-931904778a62\")>,\n",
       " <selenium.webdriver.remote.webelement.WebElement (session=\"aaf94b0846731e8cdef1c9cf68743ef4\", element=\"52c7fa04-07a5-4864-ba9a-da406d6d0035\")>,\n",
       " <selenium.webdriver.remote.webelement.WebElement (session=\"aaf94b0846731e8cdef1c9cf68743ef4\", element=\"c6e05263-9a1c-41e7-a655-5685062079be\")>,\n",
       " <selenium.webdriver.remote.webelement.WebElement (session=\"aaf94b0846731e8cdef1c9cf68743ef4\", element=\"754129a2-7ec0-464e-9e28-d406d7ca71f1\")>,\n",
       " <selenium.webdriver.remote.webelement.WebElement (session=\"aaf94b0846731e8cdef1c9cf68743ef4\", element=\"cf842bce-0b1b-47b2-b204-f8be65d5a183\")>,\n",
       " <selenium.webdriver.remote.webelement.WebElement (session=\"aaf94b0846731e8cdef1c9cf68743ef4\", element=\"74228cd2-7dfb-47df-81e2-cb59376fdc9d\")>,\n",
       " <selenium.webdriver.remote.webelement.WebElement (session=\"aaf94b0846731e8cdef1c9cf68743ef4\", element=\"8fa76e18-99f6-45ba-b6a8-2929a4333abe\")>,\n",
       " <selenium.webdriver.remote.webelement.WebElement (session=\"aaf94b0846731e8cdef1c9cf68743ef4\", element=\"99db0493-63dc-4141-826a-adc6f3f3adef\")>,\n",
       " <selenium.webdriver.remote.webelement.WebElement (session=\"aaf94b0846731e8cdef1c9cf68743ef4\", element=\"eda52eea-a48d-44fc-9eaa-ea76ea289fde\")>,\n",
       " <selenium.webdriver.remote.webelement.WebElement (session=\"aaf94b0846731e8cdef1c9cf68743ef4\", element=\"cea87efc-93eb-4c12-bb94-a54d5a70fbc4\")>,\n",
       " <selenium.webdriver.remote.webelement.WebElement (session=\"aaf94b0846731e8cdef1c9cf68743ef4\", element=\"74ce0a1c-1f62-49f7-8242-d74498a79669\")>,\n",
       " <selenium.webdriver.remote.webelement.WebElement (session=\"aaf94b0846731e8cdef1c9cf68743ef4\", element=\"589570d8-a106-46c3-b9db-834d26bc8c1f\")>,\n",
       " <selenium.webdriver.remote.webelement.WebElement (session=\"aaf94b0846731e8cdef1c9cf68743ef4\", element=\"b83962ea-a0e7-4988-a1f1-76320d4425e8\")>,\n",
       " <selenium.webdriver.remote.webelement.WebElement (session=\"aaf94b0846731e8cdef1c9cf68743ef4\", element=\"a323f7cb-a65c-4c84-9fd7-a04a1c7f165e\")>,\n",
       " <selenium.webdriver.remote.webelement.WebElement (session=\"aaf94b0846731e8cdef1c9cf68743ef4\", element=\"7ad2b0c2-dc17-47a0-8e61-d2994f75b97b\")>,\n",
       " <selenium.webdriver.remote.webelement.WebElement (session=\"aaf94b0846731e8cdef1c9cf68743ef4\", element=\"0ed7ad45-7e43-4dbb-ade7-5fff37a3c8de\")>,\n",
       " <selenium.webdriver.remote.webelement.WebElement (session=\"aaf94b0846731e8cdef1c9cf68743ef4\", element=\"69a985e1-a22b-46aa-a830-ae62bc91e8e4\")>,\n",
       " <selenium.webdriver.remote.webelement.WebElement (session=\"aaf94b0846731e8cdef1c9cf68743ef4\", element=\"1bc5a5f2-1f6b-47f6-9f46-4efecf16c61b\")>,\n",
       " <selenium.webdriver.remote.webelement.WebElement (session=\"aaf94b0846731e8cdef1c9cf68743ef4\", element=\"48a8660f-dc89-467e-a72d-73aedbc62500\")>,\n",
       " <selenium.webdriver.remote.webelement.WebElement (session=\"aaf94b0846731e8cdef1c9cf68743ef4\", element=\"6b3c902c-6bc1-4d3d-8cfe-0d26a226be28\")>,\n",
       " <selenium.webdriver.remote.webelement.WebElement (session=\"aaf94b0846731e8cdef1c9cf68743ef4\", element=\"603cf2d7-0f10-4f7b-992c-d8db2bda2824\")>,\n",
       " <selenium.webdriver.remote.webelement.WebElement (session=\"aaf94b0846731e8cdef1c9cf68743ef4\", element=\"07670734-ab7c-49a7-9c5d-f02477229b15\")>,\n",
       " <selenium.webdriver.remote.webelement.WebElement (session=\"aaf94b0846731e8cdef1c9cf68743ef4\", element=\"7292750a-e024-4852-abd3-911136e90fce\")>,\n",
       " <selenium.webdriver.remote.webelement.WebElement (session=\"aaf94b0846731e8cdef1c9cf68743ef4\", element=\"a0653723-90f4-4811-b1eb-aeb285526f55\")>,\n",
       " <selenium.webdriver.remote.webelement.WebElement (session=\"aaf94b0846731e8cdef1c9cf68743ef4\", element=\"6671d4a7-208f-4047-b28a-9924cdbb7d54\")>,\n",
       " <selenium.webdriver.remote.webelement.WebElement (session=\"aaf94b0846731e8cdef1c9cf68743ef4\", element=\"d3fe556c-b81f-4cf0-9db0-0bf296c4e5ad\")>,\n",
       " <selenium.webdriver.remote.webelement.WebElement (session=\"aaf94b0846731e8cdef1c9cf68743ef4\", element=\"191107df-ee31-4199-a4f4-d5b26e171f22\")>,\n",
       " <selenium.webdriver.remote.webelement.WebElement (session=\"aaf94b0846731e8cdef1c9cf68743ef4\", element=\"448c8c05-63e5-41e6-aeac-b40eeca1863d\")>,\n",
       " <selenium.webdriver.remote.webelement.WebElement (session=\"aaf94b0846731e8cdef1c9cf68743ef4\", element=\"7b67d471-3fb9-44fd-a367-32d52519baa4\")>,\n",
       " <selenium.webdriver.remote.webelement.WebElement (session=\"aaf94b0846731e8cdef1c9cf68743ef4\", element=\"bde875d6-f26a-4280-8d12-47d1d18ec00d\")>,\n",
       " <selenium.webdriver.remote.webelement.WebElement (session=\"aaf94b0846731e8cdef1c9cf68743ef4\", element=\"b9d33117-9b3a-4510-8cc7-54d1097b5431\")>,\n",
       " <selenium.webdriver.remote.webelement.WebElement (session=\"aaf94b0846731e8cdef1c9cf68743ef4\", element=\"f52ada75-cdb4-4d47-93a7-d52a9a6c7ac8\")>,\n",
       " <selenium.webdriver.remote.webelement.WebElement (session=\"aaf94b0846731e8cdef1c9cf68743ef4\", element=\"a658d483-a3e9-4599-bfbb-827af19ec13b\")>,\n",
       " <selenium.webdriver.remote.webelement.WebElement (session=\"aaf94b0846731e8cdef1c9cf68743ef4\", element=\"0dc40b18-e41e-42ac-8182-90a1f388248b\")>,\n",
       " <selenium.webdriver.remote.webelement.WebElement (session=\"aaf94b0846731e8cdef1c9cf68743ef4\", element=\"5e3de00d-7732-40bb-a75a-6a838e3e863a\")>,\n",
       " <selenium.webdriver.remote.webelement.WebElement (session=\"aaf94b0846731e8cdef1c9cf68743ef4\", element=\"5bc8e558-9a38-47af-b9af-4b84dfdc0b71\")>,\n",
       " <selenium.webdriver.remote.webelement.WebElement (session=\"aaf94b0846731e8cdef1c9cf68743ef4\", element=\"c7d23a35-4594-4764-8d73-3fb8f077effe\")>,\n",
       " <selenium.webdriver.remote.webelement.WebElement (session=\"aaf94b0846731e8cdef1c9cf68743ef4\", element=\"0896165e-c2df-45c8-b6ed-82721bc6f8e6\")>,\n",
       " <selenium.webdriver.remote.webelement.WebElement (session=\"aaf94b0846731e8cdef1c9cf68743ef4\", element=\"376563d2-26bc-4cbf-9ffe-03c90a986972\")>,\n",
       " <selenium.webdriver.remote.webelement.WebElement (session=\"aaf94b0846731e8cdef1c9cf68743ef4\", element=\"1a2adfec-e18d-41e3-82a0-27a1812ad6f9\")>,\n",
       " <selenium.webdriver.remote.webelement.WebElement (session=\"aaf94b0846731e8cdef1c9cf68743ef4\", element=\"9df66b52-df53-441e-9d83-1c4bc7a62d79\")>,\n",
       " <selenium.webdriver.remote.webelement.WebElement (session=\"aaf94b0846731e8cdef1c9cf68743ef4\", element=\"ca812db2-34d7-4b6b-b116-04987e25811a\")>,\n",
       " <selenium.webdriver.remote.webelement.WebElement (session=\"aaf94b0846731e8cdef1c9cf68743ef4\", element=\"0efcc1ea-9291-4a22-b10f-fbf381d50111\")>,\n",
       " <selenium.webdriver.remote.webelement.WebElement (session=\"aaf94b0846731e8cdef1c9cf68743ef4\", element=\"6cbd3428-e30b-490f-944b-b2f3f447a7cf\")>,\n",
       " <selenium.webdriver.remote.webelement.WebElement (session=\"aaf94b0846731e8cdef1c9cf68743ef4\", element=\"327d7516-1d3b-4def-bc3d-fe7062c96152\")>,\n",
       " <selenium.webdriver.remote.webelement.WebElement (session=\"aaf94b0846731e8cdef1c9cf68743ef4\", element=\"eb373714-1393-402e-9f03-88ede4989513\")>,\n",
       " <selenium.webdriver.remote.webelement.WebElement (session=\"aaf94b0846731e8cdef1c9cf68743ef4\", element=\"dc393dc9-29ec-4290-8856-28c22d462812\")>,\n",
       " <selenium.webdriver.remote.webelement.WebElement (session=\"aaf94b0846731e8cdef1c9cf68743ef4\", element=\"ec7d0b13-2d7a-4e8f-b914-57b8964960ac\")>,\n",
       " <selenium.webdriver.remote.webelement.WebElement (session=\"aaf94b0846731e8cdef1c9cf68743ef4\", element=\"9f22806b-5bd8-4ba2-a263-fab6e37d11a9\")>,\n",
       " <selenium.webdriver.remote.webelement.WebElement (session=\"aaf94b0846731e8cdef1c9cf68743ef4\", element=\"47ecec88-be67-4456-b154-4256e1878f2a\")>,\n",
       " <selenium.webdriver.remote.webelement.WebElement (session=\"aaf94b0846731e8cdef1c9cf68743ef4\", element=\"0259a1c3-a5c1-4bcb-95bf-743cce30ed83\")>,\n",
       " <selenium.webdriver.remote.webelement.WebElement (session=\"aaf94b0846731e8cdef1c9cf68743ef4\", element=\"134f06cc-8e0e-496f-95e1-1a82dd0e39f1\")>,\n",
       " <selenium.webdriver.remote.webelement.WebElement (session=\"aaf94b0846731e8cdef1c9cf68743ef4\", element=\"bf60f186-411a-4bb7-a9f4-5f2c4c22fd07\")>,\n",
       " <selenium.webdriver.remote.webelement.WebElement (session=\"aaf94b0846731e8cdef1c9cf68743ef4\", element=\"cea3333f-d6cd-4972-b1a0-d6a14d201b29\")>,\n",
       " <selenium.webdriver.remote.webelement.WebElement (session=\"aaf94b0846731e8cdef1c9cf68743ef4\", element=\"e426fe4d-855d-4a89-bd10-ae531e98c394\")>,\n",
       " <selenium.webdriver.remote.webelement.WebElement (session=\"aaf94b0846731e8cdef1c9cf68743ef4\", element=\"730c8fae-ad19-4e42-a760-136db6a8accc\")>,\n",
       " <selenium.webdriver.remote.webelement.WebElement (session=\"aaf94b0846731e8cdef1c9cf68743ef4\", element=\"8c18da4b-3293-4faf-9f1f-1cc121141d3f\")>,\n",
       " <selenium.webdriver.remote.webelement.WebElement (session=\"aaf94b0846731e8cdef1c9cf68743ef4\", element=\"4e7b70ba-f1ab-484f-ac0a-3ecdf7b8bec6\")>,\n",
       " <selenium.webdriver.remote.webelement.WebElement (session=\"aaf94b0846731e8cdef1c9cf68743ef4\", element=\"1bd9b05a-2670-447f-998c-06b100791eb4\")>,\n",
       " <selenium.webdriver.remote.webelement.WebElement (session=\"aaf94b0846731e8cdef1c9cf68743ef4\", element=\"6b164c46-2891-4e54-b061-95fcf5d31500\")>,\n",
       " <selenium.webdriver.remote.webelement.WebElement (session=\"aaf94b0846731e8cdef1c9cf68743ef4\", element=\"6437a03c-4023-4cd1-b808-c7bb4b4f808c\")>,\n",
       " <selenium.webdriver.remote.webelement.WebElement (session=\"aaf94b0846731e8cdef1c9cf68743ef4\", element=\"be8c2388-c454-41c2-bb44-0dec71bc7af0\")>,\n",
       " <selenium.webdriver.remote.webelement.WebElement (session=\"aaf94b0846731e8cdef1c9cf68743ef4\", element=\"cb14bc0f-c802-4723-be55-212e53630aae\")>,\n",
       " <selenium.webdriver.remote.webelement.WebElement (session=\"aaf94b0846731e8cdef1c9cf68743ef4\", element=\"add0609d-8f17-41dd-8e9c-e0df0bcbb7f8\")>,\n",
       " <selenium.webdriver.remote.webelement.WebElement (session=\"aaf94b0846731e8cdef1c9cf68743ef4\", element=\"ea803dd6-7f3e-40e2-b237-3da8245792da\")>,\n",
       " <selenium.webdriver.remote.webelement.WebElement (session=\"aaf94b0846731e8cdef1c9cf68743ef4\", element=\"a5e446d0-f34a-4100-82b8-ffeb30d34c96\")>,\n",
       " <selenium.webdriver.remote.webelement.WebElement (session=\"aaf94b0846731e8cdef1c9cf68743ef4\", element=\"665e9ff4-402b-4439-9263-2f9a64b7b94c\")>,\n",
       " <selenium.webdriver.remote.webelement.WebElement (session=\"aaf94b0846731e8cdef1c9cf68743ef4\", element=\"2e245dc1-ac38-4b87-a3a3-30c12de6696e\")>,\n",
       " <selenium.webdriver.remote.webelement.WebElement (session=\"aaf94b0846731e8cdef1c9cf68743ef4\", element=\"b54ab434-3532-4c85-b8b5-cd6011f58cbe\")>,\n",
       " <selenium.webdriver.remote.webelement.WebElement (session=\"aaf94b0846731e8cdef1c9cf68743ef4\", element=\"d2991d59-855d-4565-b9c6-aa10cfebafc2\")>,\n",
       " <selenium.webdriver.remote.webelement.WebElement (session=\"aaf94b0846731e8cdef1c9cf68743ef4\", element=\"2a4105ad-5089-4084-a7d7-840def52b485\")>,\n",
       " <selenium.webdriver.remote.webelement.WebElement (session=\"aaf94b0846731e8cdef1c9cf68743ef4\", element=\"d7c42402-fa22-41ec-9763-13750c983bfa\")>,\n",
       " <selenium.webdriver.remote.webelement.WebElement (session=\"aaf94b0846731e8cdef1c9cf68743ef4\", element=\"aa1a5923-6656-48ab-9c85-0ef6e810f056\")>,\n",
       " <selenium.webdriver.remote.webelement.WebElement (session=\"aaf94b0846731e8cdef1c9cf68743ef4\", element=\"cf3e23b9-a468-4aac-ba0d-8e704a14d3f2\")>,\n",
       " <selenium.webdriver.remote.webelement.WebElement (session=\"aaf94b0846731e8cdef1c9cf68743ef4\", element=\"1ffcad89-e5b8-41f5-a10c-a1b973feded9\")>,\n",
       " <selenium.webdriver.remote.webelement.WebElement (session=\"aaf94b0846731e8cdef1c9cf68743ef4\", element=\"11e60519-403c-406c-ba48-41a10b9db557\")>,\n",
       " <selenium.webdriver.remote.webelement.WebElement (session=\"aaf94b0846731e8cdef1c9cf68743ef4\", element=\"c7c64db3-902a-4f83-8dca-778b78a93690\")>,\n",
       " <selenium.webdriver.remote.webelement.WebElement (session=\"aaf94b0846731e8cdef1c9cf68743ef4\", element=\"23e86c4b-5dca-4070-94c2-8baa349de960\")>,\n",
       " <selenium.webdriver.remote.webelement.WebElement (session=\"aaf94b0846731e8cdef1c9cf68743ef4\", element=\"d761326d-34da-42db-91dc-b32aa08f5620\")>,\n",
       " <selenium.webdriver.remote.webelement.WebElement (session=\"aaf94b0846731e8cdef1c9cf68743ef4\", element=\"c8b1544a-8895-4e4d-bf10-52f536bbbe65\")>,\n",
       " <selenium.webdriver.remote.webelement.WebElement (session=\"aaf94b0846731e8cdef1c9cf68743ef4\", element=\"8be6ed6c-6702-48cb-9a77-9ff8a9d84a7a\")>,\n",
       " <selenium.webdriver.remote.webelement.WebElement (session=\"aaf94b0846731e8cdef1c9cf68743ef4\", element=\"182b43b8-0f5c-4a0c-9801-d4866167f1ce\")>,\n",
       " <selenium.webdriver.remote.webelement.WebElement (session=\"aaf94b0846731e8cdef1c9cf68743ef4\", element=\"2f2a19a1-051d-4e6b-94e5-b24fa31ba7d0\")>,\n",
       " <selenium.webdriver.remote.webelement.WebElement (session=\"aaf94b0846731e8cdef1c9cf68743ef4\", element=\"32fba046-11dc-4af3-87bb-4d7168c384e3\")>,\n",
       " <selenium.webdriver.remote.webelement.WebElement (session=\"aaf94b0846731e8cdef1c9cf68743ef4\", element=\"ad081664-66ac-4434-a5e8-b261f396d1a2\")>,\n",
       " <selenium.webdriver.remote.webelement.WebElement (session=\"aaf94b0846731e8cdef1c9cf68743ef4\", element=\"6f16bab5-011c-4a39-ae3d-8e08c7549cfe\")>,\n",
       " <selenium.webdriver.remote.webelement.WebElement (session=\"aaf94b0846731e8cdef1c9cf68743ef4\", element=\"aa227eab-91ac-49e7-8b06-fe296be92d0d\")>]"
      ]
     },
     "execution_count": 31,
     "metadata": {},
     "output_type": "execute_result"
    }
   ],
   "source": [
    "header2=browser.find_elements(\"xpath\",\"//div[@class='td-wrap-in']\")\n",
    "header2"
   ]
  },
  {
   "cell_type": "code",
   "execution_count": 32,
   "id": "02ab53b2",
   "metadata": {},
   "outputs": [
    {
     "data": {
      "text/plain": [
       "['97', '98.3', '99.7', '86.5', '99.5', '100', '100', '98.1', '88.8']"
      ]
     },
     "execution_count": 32,
     "metadata": {},
     "output_type": "execute_result"
    }
   ],
   "source": [
    "#PARSING DATA\n",
    "value_head=[]\n",
    "for data in header2:\n",
    "    #get the text data\n",
    "    temp=data.text\n",
    "    value_head.append(temp)\n",
    "value=value_head[61:70]\n",
    "value"
   ]
  },
  {
   "cell_type": "code",
   "execution_count": 33,
   "id": "7d2c5d11",
   "metadata": {},
   "outputs": [
    {
     "data": {
      "text/plain": [
       "{'Name': 'Imperial College London',\n",
       " 'Location': 'London, United Kingdom',\n",
       " 'Rank': '=6',\n",
       " 'Overall Score': '97',\n",
       " 'Academic Reputation': '98.3',\n",
       " 'Employer Reputation': '99.7',\n",
       " 'Citations per Faculty': '86.5',\n",
       " 'Faculty Student Ratio': '99.5',\n",
       " 'International Students Ratio': '100',\n",
       " 'International Faculty Ratio': '100',\n",
       " 'International Research Network\\nUnweighted': '98.1',\n",
       " 'Employment Outcomes\\nUnweighted': '88.8'}"
      ]
     },
     "execution_count": 33,
     "metadata": {},
     "output_type": "execute_result"
    }
   ],
   "source": [
    "d={}\n",
    "d['Name']=value_head[60]\n",
    "d['Location']=loc[6]\n",
    "d['Rank']=RANK[6]\n",
    "for i in range(len(column_head)):\n",
    "    d[column_head[i]]=value[i]\n",
    "d\n"
   ]
  },
  {
   "cell_type": "code",
   "execution_count": 34,
   "id": "4157a77e",
   "metadata": {},
   "outputs": [
    {
     "data": {
      "text/plain": [
       "'{\"Name\": \"Imperial College London\", \"Location\": \"London, United Kingdom\", \"Rank\": \"=6\", \"Overall Score\": \"97\", \"Academic Reputation\": \"98.3\", \"Employer Reputation\": \"99.7\", \"Citations per Faculty\": \"86.5\", \"Faculty Student Ratio\": \"99.5\", \"International Students Ratio\": \"100\", \"International Faculty Ratio\": \"100\", \"International Research Network\\\\nUnweighted\": \"98.1\", \"Employment Outcomes\\\\nUnweighted\": \"88.8\"}'"
      ]
     },
     "execution_count": 34,
     "metadata": {},
     "output_type": "execute_result"
    }
   ],
   "source": [
    "s1=json.dumps(d)\n",
    "s1\n"
   ]
  },
  {
   "cell_type": "code",
   "execution_count": 35,
   "id": "9dcb2269",
   "metadata": {},
   "outputs": [],
   "source": [
    "with open('Imperial College London.json','w') as f:\n",
    "    json.dump(d,f)\n"
   ]
  },
  {
   "cell_type": "code",
   "execution_count": null,
   "id": "2edc3922",
   "metadata": {},
   "outputs": [],
   "source": []
  }
 ],
 "metadata": {
  "kernelspec": {
   "display_name": "Python 3 (ipykernel)",
   "language": "python",
   "name": "python3"
  },
  "language_info": {
   "codemirror_mode": {
    "name": "ipython",
    "version": 3
   },
   "file_extension": ".py",
   "mimetype": "text/x-python",
   "name": "python",
   "nbconvert_exporter": "python",
   "pygments_lexer": "ipython3",
   "version": "3.9.12"
  }
 },
 "nbformat": 4,
 "nbformat_minor": 5
}
