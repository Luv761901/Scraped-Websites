{
 "cells": [
  {
   "cell_type": "code",
   "execution_count": 1,
   "id": "e5ae9275",
   "metadata": {},
   "outputs": [],
   "source": [
    "from selenium import webdriver\n",
    "from selenium.webdriver.chrome.service import Service\n",
    "import pandas as pd\n",
    "import json\n"
   ]
  },
  {
   "cell_type": "code",
   "execution_count": 2,
   "id": "5035920e",
   "metadata": {},
   "outputs": [],
   "source": [
    "path = Service('C:\\chromedriver.exe')\n"
   ]
  },
  {
   "cell_type": "code",
   "execution_count": 3,
   "id": "846552a2",
   "metadata": {},
   "outputs": [],
   "source": [
    "\n",
    "# set path for the driver\n",
    "browser = webdriver.Chrome(service = path)"
   ]
  },
  {
   "cell_type": "code",
   "execution_count": 4,
   "id": "7e0fcea6",
   "metadata": {},
   "outputs": [],
   "source": [
    "\n",
    "url = \"https://www.topuniversities.com/university-rankings/world-university-rankings/2023\""
   ]
  },
  {
   "cell_type": "code",
   "execution_count": 5,
   "id": "aac688b1",
   "metadata": {},
   "outputs": [],
   "source": [
    "# open the page url ion chrome\n",
    "browser.get(url)\n"
   ]
  },
  {
   "cell_type": "code",
   "execution_count": 6,
   "id": "183c0058",
   "metadata": {},
   "outputs": [
    {
     "data": {
      "text/plain": [
       "[<selenium.webdriver.remote.webelement.WebElement (session=\"9dc24cfdb76f0f7238b7947150c4e346\", element=\"a1d57fe8-4b45-450e-990f-ad94088301f0\")>,\n",
       " <selenium.webdriver.remote.webelement.WebElement (session=\"9dc24cfdb76f0f7238b7947150c4e346\", element=\"8f391b78-ec71-4fe5-bcb8-41fdfee7630d\")>,\n",
       " <selenium.webdriver.remote.webelement.WebElement (session=\"9dc24cfdb76f0f7238b7947150c4e346\", element=\"a567d831-5a76-4971-a486-28c09a45c8a9\")>,\n",
       " <selenium.webdriver.remote.webelement.WebElement (session=\"9dc24cfdb76f0f7238b7947150c4e346\", element=\"61041926-f290-4507-b332-a180b91d5585\")>,\n",
       " <selenium.webdriver.remote.webelement.WebElement (session=\"9dc24cfdb76f0f7238b7947150c4e346\", element=\"975a0d22-c0d3-4fe8-a013-092a5fad245b\")>,\n",
       " <selenium.webdriver.remote.webelement.WebElement (session=\"9dc24cfdb76f0f7238b7947150c4e346\", element=\"8992da28-3f6e-42a1-98a1-b6b59bc81273\")>,\n",
       " <selenium.webdriver.remote.webelement.WebElement (session=\"9dc24cfdb76f0f7238b7947150c4e346\", element=\"a4aa156d-e592-4cce-8e06-3edf07bfaf61\")>,\n",
       " <selenium.webdriver.remote.webelement.WebElement (session=\"9dc24cfdb76f0f7238b7947150c4e346\", element=\"8f6a44ee-3310-4367-93d3-65e00b4ba40e\")>,\n",
       " <selenium.webdriver.remote.webelement.WebElement (session=\"9dc24cfdb76f0f7238b7947150c4e346\", element=\"db1b2c71-8f89-44f1-83ed-01647a4755c7\")>,\n",
       " <selenium.webdriver.remote.webelement.WebElement (session=\"9dc24cfdb76f0f7238b7947150c4e346\", element=\"95973523-614d-4920-a8c4-ecfe7ccfe399\")>,\n",
       " <selenium.webdriver.remote.webelement.WebElement (session=\"9dc24cfdb76f0f7238b7947150c4e346\", element=\"98d11cc5-63af-4e3d-9b99-60bdc4bee204\")>,\n",
       " <selenium.webdriver.remote.webelement.WebElement (session=\"9dc24cfdb76f0f7238b7947150c4e346\", element=\"e111dd77-1acb-41ff-befc-53196237be17\")>,\n",
       " <selenium.webdriver.remote.webelement.WebElement (session=\"9dc24cfdb76f0f7238b7947150c4e346\", element=\"9d3bf31f-2e0b-4a1f-9d2e-02a43f908f30\")>,\n",
       " <selenium.webdriver.remote.webelement.WebElement (session=\"9dc24cfdb76f0f7238b7947150c4e346\", element=\"f533bce5-6f06-4ea0-8bb3-74edae1776ff\")>,\n",
       " <selenium.webdriver.remote.webelement.WebElement (session=\"9dc24cfdb76f0f7238b7947150c4e346\", element=\"bc8b88f2-400f-4e86-8eca-75ed5cbf2cf2\")>,\n",
       " <selenium.webdriver.remote.webelement.WebElement (session=\"9dc24cfdb76f0f7238b7947150c4e346\", element=\"9288f147-1181-444e-872a-f7403d805a00\")>,\n",
       " <selenium.webdriver.remote.webelement.WebElement (session=\"9dc24cfdb76f0f7238b7947150c4e346\", element=\"c88cdc95-ca13-4228-a250-3d92b93c289c\")>,\n",
       " <selenium.webdriver.remote.webelement.WebElement (session=\"9dc24cfdb76f0f7238b7947150c4e346\", element=\"02fa4cb7-5839-4dc3-9a9e-6403815797c1\")>,\n",
       " <selenium.webdriver.remote.webelement.WebElement (session=\"9dc24cfdb76f0f7238b7947150c4e346\", element=\"c4f6f900-4796-46ee-a8a7-39f8fd0ae4dd\")>,\n",
       " <selenium.webdriver.remote.webelement.WebElement (session=\"9dc24cfdb76f0f7238b7947150c4e346\", element=\"90770f53-8a1e-4339-ba5e-1df8bebab04b\")>]"
      ]
     },
     "execution_count": 6,
     "metadata": {},
     "output_type": "execute_result"
    }
   ],
   "source": [
    "l1=browser.find_elements(\"xpath\",\"//div[@class='location ']\")\n",
    "l1\n"
   ]
  },
  {
   "cell_type": "code",
   "execution_count": 7,
   "id": "6ba1cf05",
   "metadata": {},
   "outputs": [
    {
     "data": {
      "text/plain": [
       "['Sydney, Australia',\n",
       " 'Daejeon, South Korea',\n",
       " 'Hangzhou, China (Mainland)',\n",
       " 'Los Angeles, United States',\n",
       " 'Sydney, Australia',\n",
       " 'Shanghai, China (Mainland)',\n",
       " 'Vancouver, Canada',\n",
       " 'Palaiseau Cedex, France',\n",
       " 'Munich, Germany',\n",
       " 'Durham, United States']"
      ]
     },
     "execution_count": 7,
     "metadata": {},
     "output_type": "execute_result"
    }
   ],
   "source": [
    "loc=[]\n",
    "for data in l1:\n",
    "    #get the text data\n",
    "    temp=data.text\n",
    "    loc.append(temp)\n",
    "loc=loc[10:]\n",
    "loc\n"
   ]
  },
  {
   "cell_type": "code",
   "execution_count": 8,
   "id": "019625c0",
   "metadata": {},
   "outputs": [
    {
     "data": {
      "text/plain": [
       "[<selenium.webdriver.remote.webelement.WebElement (session=\"9dc24cfdb76f0f7238b7947150c4e346\", element=\"b6e8b19e-6944-48b7-92df-7bd14f9fcdf0\")>,\n",
       " <selenium.webdriver.remote.webelement.WebElement (session=\"9dc24cfdb76f0f7238b7947150c4e346\", element=\"4a50719d-f4d3-4989-94a8-d7ac7a1a3ef3\")>,\n",
       " <selenium.webdriver.remote.webelement.WebElement (session=\"9dc24cfdb76f0f7238b7947150c4e346\", element=\"ed6a479f-4f3e-4e4e-a252-2873b439b63d\")>,\n",
       " <selenium.webdriver.remote.webelement.WebElement (session=\"9dc24cfdb76f0f7238b7947150c4e346\", element=\"cd84626f-211c-444a-a25d-d3923fbeb5ae\")>,\n",
       " <selenium.webdriver.remote.webelement.WebElement (session=\"9dc24cfdb76f0f7238b7947150c4e346\", element=\"101bfbd2-6390-4315-a29f-9c5d598cf801\")>,\n",
       " <selenium.webdriver.remote.webelement.WebElement (session=\"9dc24cfdb76f0f7238b7947150c4e346\", element=\"f78f7a59-0632-409b-8b8e-4185b3684f8c\")>,\n",
       " <selenium.webdriver.remote.webelement.WebElement (session=\"9dc24cfdb76f0f7238b7947150c4e346\", element=\"c7ca3692-eb08-4d69-a76e-bd66f7fa2fdd\")>,\n",
       " <selenium.webdriver.remote.webelement.WebElement (session=\"9dc24cfdb76f0f7238b7947150c4e346\", element=\"845d0e2c-dc7e-4dce-b83b-58436104c6d0\")>,\n",
       " <selenium.webdriver.remote.webelement.WebElement (session=\"9dc24cfdb76f0f7238b7947150c4e346\", element=\"0ce5656d-549c-4021-b6a9-1cff50de0774\")>,\n",
       " <selenium.webdriver.remote.webelement.WebElement (session=\"9dc24cfdb76f0f7238b7947150c4e346\", element=\"b72cc5ba-15f1-42b9-8a92-0e3db3cfe849\")>]"
      ]
     },
     "execution_count": 8,
     "metadata": {},
     "output_type": "execute_result"
    }
   ],
   "source": [
    "l2=browser.find_elements(\"xpath\",\"//div[@class='_univ-rank ']\")\n",
    "l2\n"
   ]
  },
  {
   "cell_type": "code",
   "execution_count": 9,
   "id": "eb59dd78",
   "metadata": {},
   "outputs": [
    {
     "data": {
      "text/plain": [
       "['41', '=42', '=42', '44', '45', '46', '47', '48', '49', '=50']"
      ]
     },
     "execution_count": 9,
     "metadata": {},
     "output_type": "execute_result"
    }
   ],
   "source": [
    "RANK=[]\n",
    "for data in l2:\n",
    "    #get the text data\n",
    "    temp=data.text\n",
    "    RANK.append(temp)\n",
    "RANK"
   ]
  },
  {
   "cell_type": "code",
   "execution_count": 10,
   "id": "191b0f39",
   "metadata": {},
   "outputs": [
    {
     "data": {
      "text/plain": [
       "[<selenium.webdriver.remote.webelement.WebElement (session=\"9dc24cfdb76f0f7238b7947150c4e346\", element=\"22f1810e-adf5-4445-bc9e-80a96b98308a\")>,\n",
       " <selenium.webdriver.remote.webelement.WebElement (session=\"9dc24cfdb76f0f7238b7947150c4e346\", element=\"6494b029-5cf9-4f96-aace-8a91b88045c0\")>,\n",
       " <selenium.webdriver.remote.webelement.WebElement (session=\"9dc24cfdb76f0f7238b7947150c4e346\", element=\"fa8f5bd9-d36e-41a5-8047-748f544fe5f4\")>,\n",
       " <selenium.webdriver.remote.webelement.WebElement (session=\"9dc24cfdb76f0f7238b7947150c4e346\", element=\"c396a4d1-d055-474c-8cd9-6c740fd756b9\")>,\n",
       " <selenium.webdriver.remote.webelement.WebElement (session=\"9dc24cfdb76f0f7238b7947150c4e346\", element=\"07ef3a12-728d-4c1e-a52c-6bfb3621fdad\")>,\n",
       " <selenium.webdriver.remote.webelement.WebElement (session=\"9dc24cfdb76f0f7238b7947150c4e346\", element=\"59761d17-e205-4e0c-8707-f39120466015\")>,\n",
       " <selenium.webdriver.remote.webelement.WebElement (session=\"9dc24cfdb76f0f7238b7947150c4e346\", element=\"00e35c51-d3a1-4a4b-9137-7897411188cc\")>,\n",
       " <selenium.webdriver.remote.webelement.WebElement (session=\"9dc24cfdb76f0f7238b7947150c4e346\", element=\"e2f4040a-1937-44ad-b54a-ae28cdeb18bb\")>,\n",
       " <selenium.webdriver.remote.webelement.WebElement (session=\"9dc24cfdb76f0f7238b7947150c4e346\", element=\"87e1ad52-d155-457f-8104-e6516464d0cc\")>]"
      ]
     },
     "execution_count": 10,
     "metadata": {},
     "output_type": "execute_result"
    }
   ],
   "source": [
    "# GET EACH COLLEGE SPECIFICATION HEADERS\n",
    "header=browser.find_elements(\"xpath\",\"//div[@class='_click-function_ind']\")\n",
    "header\n"
   ]
  },
  {
   "cell_type": "code",
   "execution_count": 11,
   "id": "a7d3f699",
   "metadata": {},
   "outputs": [
    {
     "data": {
      "text/plain": [
       "['Overall Score',\n",
       " 'Academic Reputation',\n",
       " 'Employer Reputation',\n",
       " 'Citations per Faculty',\n",
       " 'Faculty Student Ratio',\n",
       " 'International Students Ratio',\n",
       " 'International Faculty Ratio',\n",
       " 'International Research Network\\nUnweighted',\n",
       " 'Employment Outcomes\\nUnweighted']"
      ]
     },
     "execution_count": 11,
     "metadata": {},
     "output_type": "execute_result"
    }
   ],
   "source": [
    "\n",
    "#PARSING DATA\n",
    "column_head=[]\n",
    "for data in header:\n",
    "    #get the text data\n",
    "    temp=data.text\n",
    "    column_head.append(temp)\n",
    "column_head"
   ]
  },
  {
   "cell_type": "code",
   "execution_count": 12,
   "id": "52d08b9c",
   "metadata": {},
   "outputs": [
    {
     "data": {
      "text/plain": [
       "[<selenium.webdriver.remote.webelement.WebElement (session=\"9dc24cfdb76f0f7238b7947150c4e346\", element=\"9bbdbe3d-d263-42a1-8774-58308367dd0e\")>,\n",
       " <selenium.webdriver.remote.webelement.WebElement (session=\"9dc24cfdb76f0f7238b7947150c4e346\", element=\"4779c4e6-dee6-411e-943d-3f21f0289d9e\")>,\n",
       " <selenium.webdriver.remote.webelement.WebElement (session=\"9dc24cfdb76f0f7238b7947150c4e346\", element=\"8bde1308-3664-4d37-89a8-bf63bec7b307\")>,\n",
       " <selenium.webdriver.remote.webelement.WebElement (session=\"9dc24cfdb76f0f7238b7947150c4e346\", element=\"1c4a9ce2-dd88-4350-a4ce-8f5a7a2632c0\")>,\n",
       " <selenium.webdriver.remote.webelement.WebElement (session=\"9dc24cfdb76f0f7238b7947150c4e346\", element=\"bddba5f2-c602-4aa3-b7a4-0ae31dff42d9\")>,\n",
       " <selenium.webdriver.remote.webelement.WebElement (session=\"9dc24cfdb76f0f7238b7947150c4e346\", element=\"3d87a14b-063c-4a31-82a6-9a270757b0ed\")>,\n",
       " <selenium.webdriver.remote.webelement.WebElement (session=\"9dc24cfdb76f0f7238b7947150c4e346\", element=\"f2e7ec52-8c05-4eb0-9b63-e159cc38a490\")>,\n",
       " <selenium.webdriver.remote.webelement.WebElement (session=\"9dc24cfdb76f0f7238b7947150c4e346\", element=\"31547cf7-0597-45f0-8c49-ddd9f62a2e82\")>,\n",
       " <selenium.webdriver.remote.webelement.WebElement (session=\"9dc24cfdb76f0f7238b7947150c4e346\", element=\"596ff6c0-a7ce-498d-b7ef-805ab13ac9f8\")>,\n",
       " <selenium.webdriver.remote.webelement.WebElement (session=\"9dc24cfdb76f0f7238b7947150c4e346\", element=\"84448100-23fd-42ec-bcd9-6f03d27d2efc\")>,\n",
       " <selenium.webdriver.remote.webelement.WebElement (session=\"9dc24cfdb76f0f7238b7947150c4e346\", element=\"8edb1905-62c6-492e-8385-c42a8439fb04\")>,\n",
       " <selenium.webdriver.remote.webelement.WebElement (session=\"9dc24cfdb76f0f7238b7947150c4e346\", element=\"2ee2df12-c011-4002-b328-28dcd0296a59\")>,\n",
       " <selenium.webdriver.remote.webelement.WebElement (session=\"9dc24cfdb76f0f7238b7947150c4e346\", element=\"ed1ffe84-f86b-4b47-bfe0-ec881e72a27e\")>,\n",
       " <selenium.webdriver.remote.webelement.WebElement (session=\"9dc24cfdb76f0f7238b7947150c4e346\", element=\"57ac9b29-737b-46c6-90b4-f9d178e759c3\")>,\n",
       " <selenium.webdriver.remote.webelement.WebElement (session=\"9dc24cfdb76f0f7238b7947150c4e346\", element=\"62277f9b-05d9-429f-8315-8e9c20e04c81\")>,\n",
       " <selenium.webdriver.remote.webelement.WebElement (session=\"9dc24cfdb76f0f7238b7947150c4e346\", element=\"c27720a7-94bf-4fb0-be60-d3175920bf09\")>,\n",
       " <selenium.webdriver.remote.webelement.WebElement (session=\"9dc24cfdb76f0f7238b7947150c4e346\", element=\"487eb933-c16b-4430-ae1c-2b4552bf36ac\")>,\n",
       " <selenium.webdriver.remote.webelement.WebElement (session=\"9dc24cfdb76f0f7238b7947150c4e346\", element=\"df8c0eb0-e091-46f0-9a79-3c95b25284f0\")>,\n",
       " <selenium.webdriver.remote.webelement.WebElement (session=\"9dc24cfdb76f0f7238b7947150c4e346\", element=\"0a042bdf-9d69-4b3c-93e2-cf14224ad515\")>,\n",
       " <selenium.webdriver.remote.webelement.WebElement (session=\"9dc24cfdb76f0f7238b7947150c4e346\", element=\"997161fa-216d-430a-a42b-16251e05a0f4\")>,\n",
       " <selenium.webdriver.remote.webelement.WebElement (session=\"9dc24cfdb76f0f7238b7947150c4e346\", element=\"ae7b0f46-9f00-40a7-92f5-3f3b11626725\")>,\n",
       " <selenium.webdriver.remote.webelement.WebElement (session=\"9dc24cfdb76f0f7238b7947150c4e346\", element=\"3990195d-1813-4e94-9da4-222a2d6981bd\")>,\n",
       " <selenium.webdriver.remote.webelement.WebElement (session=\"9dc24cfdb76f0f7238b7947150c4e346\", element=\"415e730d-24ea-42bd-8961-3e3f646e6507\")>,\n",
       " <selenium.webdriver.remote.webelement.WebElement (session=\"9dc24cfdb76f0f7238b7947150c4e346\", element=\"f319828f-2c66-4454-9f29-95d46a8257ba\")>,\n",
       " <selenium.webdriver.remote.webelement.WebElement (session=\"9dc24cfdb76f0f7238b7947150c4e346\", element=\"bf0066b2-bb44-458a-af47-01651989b6cf\")>,\n",
       " <selenium.webdriver.remote.webelement.WebElement (session=\"9dc24cfdb76f0f7238b7947150c4e346\", element=\"ae05f84f-815f-4011-b9cf-a99c3526aa2d\")>,\n",
       " <selenium.webdriver.remote.webelement.WebElement (session=\"9dc24cfdb76f0f7238b7947150c4e346\", element=\"a23ff352-124e-4000-9ac3-84cf6b8b54e9\")>,\n",
       " <selenium.webdriver.remote.webelement.WebElement (session=\"9dc24cfdb76f0f7238b7947150c4e346\", element=\"e485232f-a607-4f8e-9ff6-e1d1676eb3c3\")>,\n",
       " <selenium.webdriver.remote.webelement.WebElement (session=\"9dc24cfdb76f0f7238b7947150c4e346\", element=\"45cad201-bd40-49f8-960a-c9c7868efae3\")>,\n",
       " <selenium.webdriver.remote.webelement.WebElement (session=\"9dc24cfdb76f0f7238b7947150c4e346\", element=\"cdc3785f-05f7-4074-9bdc-badb68545551\")>,\n",
       " <selenium.webdriver.remote.webelement.WebElement (session=\"9dc24cfdb76f0f7238b7947150c4e346\", element=\"28fd519b-892f-4de4-8c84-94961d2c2644\")>,\n",
       " <selenium.webdriver.remote.webelement.WebElement (session=\"9dc24cfdb76f0f7238b7947150c4e346\", element=\"4b1f278f-ffd4-4433-9b33-591749cb9dff\")>,\n",
       " <selenium.webdriver.remote.webelement.WebElement (session=\"9dc24cfdb76f0f7238b7947150c4e346\", element=\"4ac44d41-d98e-4e8f-bfd5-4d8bec335168\")>,\n",
       " <selenium.webdriver.remote.webelement.WebElement (session=\"9dc24cfdb76f0f7238b7947150c4e346\", element=\"baf5c447-e67d-4ce2-922e-a90af5f5106a\")>,\n",
       " <selenium.webdriver.remote.webelement.WebElement (session=\"9dc24cfdb76f0f7238b7947150c4e346\", element=\"8a86f79f-cd46-4a72-8b3c-7e69cd2dcc62\")>,\n",
       " <selenium.webdriver.remote.webelement.WebElement (session=\"9dc24cfdb76f0f7238b7947150c4e346\", element=\"d5195b76-2ccb-4a31-85d5-985d368115b7\")>,\n",
       " <selenium.webdriver.remote.webelement.WebElement (session=\"9dc24cfdb76f0f7238b7947150c4e346\", element=\"d0b565c6-4768-462f-9ab1-1ba09ccebef0\")>,\n",
       " <selenium.webdriver.remote.webelement.WebElement (session=\"9dc24cfdb76f0f7238b7947150c4e346\", element=\"cd898232-83b4-41bd-9f94-d667855528f8\")>,\n",
       " <selenium.webdriver.remote.webelement.WebElement (session=\"9dc24cfdb76f0f7238b7947150c4e346\", element=\"17162eb3-832f-49d3-9079-8cb40ef0e40b\")>,\n",
       " <selenium.webdriver.remote.webelement.WebElement (session=\"9dc24cfdb76f0f7238b7947150c4e346\", element=\"a14f5526-0966-4a92-943e-f28aef1f11dd\")>,\n",
       " <selenium.webdriver.remote.webelement.WebElement (session=\"9dc24cfdb76f0f7238b7947150c4e346\", element=\"7a30566f-e8e1-478b-91a8-4b0fe2f26dae\")>,\n",
       " <selenium.webdriver.remote.webelement.WebElement (session=\"9dc24cfdb76f0f7238b7947150c4e346\", element=\"db061039-fa7b-4202-9ac3-a8d79b52c747\")>,\n",
       " <selenium.webdriver.remote.webelement.WebElement (session=\"9dc24cfdb76f0f7238b7947150c4e346\", element=\"7a4681a5-0166-4703-84f7-dcf2fc1045cb\")>,\n",
       " <selenium.webdriver.remote.webelement.WebElement (session=\"9dc24cfdb76f0f7238b7947150c4e346\", element=\"b7929300-87be-49c4-94ec-c49f36ce35e0\")>,\n",
       " <selenium.webdriver.remote.webelement.WebElement (session=\"9dc24cfdb76f0f7238b7947150c4e346\", element=\"9742466d-75e2-4f33-8c04-9a85b181ebde\")>,\n",
       " <selenium.webdriver.remote.webelement.WebElement (session=\"9dc24cfdb76f0f7238b7947150c4e346\", element=\"70d2ee0f-5e32-4358-a41b-9d3a1d07d1a7\")>,\n",
       " <selenium.webdriver.remote.webelement.WebElement (session=\"9dc24cfdb76f0f7238b7947150c4e346\", element=\"d8b9cb79-7216-4880-8272-c87d8121e4da\")>,\n",
       " <selenium.webdriver.remote.webelement.WebElement (session=\"9dc24cfdb76f0f7238b7947150c4e346\", element=\"2c3e3d18-15b7-4fdc-9264-0cb0379a631b\")>,\n",
       " <selenium.webdriver.remote.webelement.WebElement (session=\"9dc24cfdb76f0f7238b7947150c4e346\", element=\"fce735e6-808f-4ef6-81d2-3eb40abdc83e\")>,\n",
       " <selenium.webdriver.remote.webelement.WebElement (session=\"9dc24cfdb76f0f7238b7947150c4e346\", element=\"2ed71aec-1f0c-4092-bc20-4c20b17de23f\")>,\n",
       " <selenium.webdriver.remote.webelement.WebElement (session=\"9dc24cfdb76f0f7238b7947150c4e346\", element=\"74df4648-10c3-4c0e-894f-f15478a07fa1\")>,\n",
       " <selenium.webdriver.remote.webelement.WebElement (session=\"9dc24cfdb76f0f7238b7947150c4e346\", element=\"1d2ae1cf-699b-47f9-b829-3e912a27a952\")>,\n",
       " <selenium.webdriver.remote.webelement.WebElement (session=\"9dc24cfdb76f0f7238b7947150c4e346\", element=\"17a171fe-3c6c-4685-9cc5-a869ca1ee607\")>,\n",
       " <selenium.webdriver.remote.webelement.WebElement (session=\"9dc24cfdb76f0f7238b7947150c4e346\", element=\"f0c955df-67e4-4d1a-a6c5-f78b52899d48\")>,\n",
       " <selenium.webdriver.remote.webelement.WebElement (session=\"9dc24cfdb76f0f7238b7947150c4e346\", element=\"dff68cb6-3d9c-42f6-9369-9449c45f12fd\")>,\n",
       " <selenium.webdriver.remote.webelement.WebElement (session=\"9dc24cfdb76f0f7238b7947150c4e346\", element=\"fcdd8a18-459b-4b71-99a1-34ac9290bf6b\")>,\n",
       " <selenium.webdriver.remote.webelement.WebElement (session=\"9dc24cfdb76f0f7238b7947150c4e346\", element=\"19604322-0410-4a37-b0a8-3e40678fe443\")>,\n",
       " <selenium.webdriver.remote.webelement.WebElement (session=\"9dc24cfdb76f0f7238b7947150c4e346\", element=\"9ea16bd1-a8bf-487b-b80e-7d288d45e6e3\")>,\n",
       " <selenium.webdriver.remote.webelement.WebElement (session=\"9dc24cfdb76f0f7238b7947150c4e346\", element=\"d501f365-9343-4b4b-b628-53d5ef12250d\")>,\n",
       " <selenium.webdriver.remote.webelement.WebElement (session=\"9dc24cfdb76f0f7238b7947150c4e346\", element=\"bb020f2e-eb64-4df8-a7a5-034a5cb60dcf\")>,\n",
       " <selenium.webdriver.remote.webelement.WebElement (session=\"9dc24cfdb76f0f7238b7947150c4e346\", element=\"2bfe9bc9-cc5d-464e-a68e-78fead94bd4f\")>,\n",
       " <selenium.webdriver.remote.webelement.WebElement (session=\"9dc24cfdb76f0f7238b7947150c4e346\", element=\"316df813-c448-41f8-a102-43757b3523f1\")>,\n",
       " <selenium.webdriver.remote.webelement.WebElement (session=\"9dc24cfdb76f0f7238b7947150c4e346\", element=\"8220b1cc-fa26-4804-a1d7-db318860e962\")>,\n",
       " <selenium.webdriver.remote.webelement.WebElement (session=\"9dc24cfdb76f0f7238b7947150c4e346\", element=\"1b67eead-5e67-45c3-9302-181d9641405f\")>,\n",
       " <selenium.webdriver.remote.webelement.WebElement (session=\"9dc24cfdb76f0f7238b7947150c4e346\", element=\"416a5a7c-93b9-4a7d-bd42-9c43b3e18fe4\")>,\n",
       " <selenium.webdriver.remote.webelement.WebElement (session=\"9dc24cfdb76f0f7238b7947150c4e346\", element=\"175e23b0-a618-4137-a32f-292c3a2bf737\")>,\n",
       " <selenium.webdriver.remote.webelement.WebElement (session=\"9dc24cfdb76f0f7238b7947150c4e346\", element=\"549ea821-f5f6-4ca0-a529-910736130ac5\")>,\n",
       " <selenium.webdriver.remote.webelement.WebElement (session=\"9dc24cfdb76f0f7238b7947150c4e346\", element=\"028b66f3-f82f-4d74-a2b5-3eed37d4b6df\")>,\n",
       " <selenium.webdriver.remote.webelement.WebElement (session=\"9dc24cfdb76f0f7238b7947150c4e346\", element=\"3e184638-4e50-4e2a-adb4-f6e5f502b964\")>,\n",
       " <selenium.webdriver.remote.webelement.WebElement (session=\"9dc24cfdb76f0f7238b7947150c4e346\", element=\"8a2265bd-5ede-41ab-8180-4456d928cd77\")>,\n",
       " <selenium.webdriver.remote.webelement.WebElement (session=\"9dc24cfdb76f0f7238b7947150c4e346\", element=\"d77663c5-468a-4ff8-bde9-11477c3fd285\")>,\n",
       " <selenium.webdriver.remote.webelement.WebElement (session=\"9dc24cfdb76f0f7238b7947150c4e346\", element=\"151fe4f6-156d-4ed4-80eb-4b191446bd87\")>,\n",
       " <selenium.webdriver.remote.webelement.WebElement (session=\"9dc24cfdb76f0f7238b7947150c4e346\", element=\"e5147d3b-d438-425e-bef0-850c275b8f9d\")>,\n",
       " <selenium.webdriver.remote.webelement.WebElement (session=\"9dc24cfdb76f0f7238b7947150c4e346\", element=\"a583773f-6888-4fa4-9eb7-a396eee3d89d\")>,\n",
       " <selenium.webdriver.remote.webelement.WebElement (session=\"9dc24cfdb76f0f7238b7947150c4e346\", element=\"908a63bb-5ea4-4d69-926c-da255e221f97\")>,\n",
       " <selenium.webdriver.remote.webelement.WebElement (session=\"9dc24cfdb76f0f7238b7947150c4e346\", element=\"bc2426e8-daae-4e8e-b686-0b21ea900615\")>,\n",
       " <selenium.webdriver.remote.webelement.WebElement (session=\"9dc24cfdb76f0f7238b7947150c4e346\", element=\"dccc788d-15bf-46c4-b614-4c07f0868785\")>,\n",
       " <selenium.webdriver.remote.webelement.WebElement (session=\"9dc24cfdb76f0f7238b7947150c4e346\", element=\"98ce91a7-abc5-4f1d-8c6d-e7e90cd949b4\")>,\n",
       " <selenium.webdriver.remote.webelement.WebElement (session=\"9dc24cfdb76f0f7238b7947150c4e346\", element=\"3c99e3ac-a37e-44be-a7f6-18d54d9cc58a\")>,\n",
       " <selenium.webdriver.remote.webelement.WebElement (session=\"9dc24cfdb76f0f7238b7947150c4e346\", element=\"e817f54e-7b6f-407a-81de-e208bad7b9ce\")>,\n",
       " <selenium.webdriver.remote.webelement.WebElement (session=\"9dc24cfdb76f0f7238b7947150c4e346\", element=\"2b561898-2402-4915-acd0-772d72f9bdbd\")>,\n",
       " <selenium.webdriver.remote.webelement.WebElement (session=\"9dc24cfdb76f0f7238b7947150c4e346\", element=\"596fcd82-e538-4892-a827-c535a1139b00\")>,\n",
       " <selenium.webdriver.remote.webelement.WebElement (session=\"9dc24cfdb76f0f7238b7947150c4e346\", element=\"e9e2e2e3-28bf-4efd-ba19-fe7ba58e9f61\")>,\n",
       " <selenium.webdriver.remote.webelement.WebElement (session=\"9dc24cfdb76f0f7238b7947150c4e346\", element=\"c955d691-eddc-46af-bc42-7da4e946f9dd\")>,\n",
       " <selenium.webdriver.remote.webelement.WebElement (session=\"9dc24cfdb76f0f7238b7947150c4e346\", element=\"e93e553e-6324-45d9-9912-21ef62eea5bc\")>,\n",
       " <selenium.webdriver.remote.webelement.WebElement (session=\"9dc24cfdb76f0f7238b7947150c4e346\", element=\"93a96298-3095-4355-aecd-1aa0fac58317\")>,\n",
       " <selenium.webdriver.remote.webelement.WebElement (session=\"9dc24cfdb76f0f7238b7947150c4e346\", element=\"d224f67b-ab2f-4b50-ba5a-21ecb8489aab\")>,\n",
       " <selenium.webdriver.remote.webelement.WebElement (session=\"9dc24cfdb76f0f7238b7947150c4e346\", element=\"68f32036-84db-440c-be13-d17c7acf3c2d\")>,\n",
       " <selenium.webdriver.remote.webelement.WebElement (session=\"9dc24cfdb76f0f7238b7947150c4e346\", element=\"405af624-8312-405d-a235-5426aedf54c1\")>,\n",
       " <selenium.webdriver.remote.webelement.WebElement (session=\"9dc24cfdb76f0f7238b7947150c4e346\", element=\"8687a2de-c111-424e-9656-69390170192b\")>,\n",
       " <selenium.webdriver.remote.webelement.WebElement (session=\"9dc24cfdb76f0f7238b7947150c4e346\", element=\"5c855a3a-ba83-4ede-b81e-dc8d4a556146\")>,\n",
       " <selenium.webdriver.remote.webelement.WebElement (session=\"9dc24cfdb76f0f7238b7947150c4e346\", element=\"a966d719-38b2-413f-8984-f0b6f88d7ee5\")>,\n",
       " <selenium.webdriver.remote.webelement.WebElement (session=\"9dc24cfdb76f0f7238b7947150c4e346\", element=\"06b1ed64-23cd-4a20-889e-e73e27b16b32\")>,\n",
       " <selenium.webdriver.remote.webelement.WebElement (session=\"9dc24cfdb76f0f7238b7947150c4e346\", element=\"c5ad3e56-e1ee-4670-b842-fee94fffc3d4\")>,\n",
       " <selenium.webdriver.remote.webelement.WebElement (session=\"9dc24cfdb76f0f7238b7947150c4e346\", element=\"1ef224f0-975f-4e3b-a55e-14bc2a61bbb6\")>,\n",
       " <selenium.webdriver.remote.webelement.WebElement (session=\"9dc24cfdb76f0f7238b7947150c4e346\", element=\"b929e1ce-2e1f-4d61-8003-2605f72a7bd1\")>,\n",
       " <selenium.webdriver.remote.webelement.WebElement (session=\"9dc24cfdb76f0f7238b7947150c4e346\", element=\"04c920d2-76c7-4f5c-950f-09e9543c470e\")>,\n",
       " <selenium.webdriver.remote.webelement.WebElement (session=\"9dc24cfdb76f0f7238b7947150c4e346\", element=\"c33b1a74-36ff-44a8-a31c-722b7287bbef\")>,\n",
       " <selenium.webdriver.remote.webelement.WebElement (session=\"9dc24cfdb76f0f7238b7947150c4e346\", element=\"add2fb19-9039-42ef-a053-53963c4c9366\")>,\n",
       " <selenium.webdriver.remote.webelement.WebElement (session=\"9dc24cfdb76f0f7238b7947150c4e346\", element=\"a939aeb9-cc44-4b79-87bd-b6fab417e3e6\")>]"
      ]
     },
     "execution_count": 12,
     "metadata": {},
     "output_type": "execute_result"
    }
   ],
   "source": [
    "header2=browser.find_elements(\"xpath\",\"//div[@class='td-wrap-in']\")\n",
    "header2"
   ]
  },
  {
   "cell_type": "code",
   "execution_count": 13,
   "id": "e8f9a37e",
   "metadata": {},
   "outputs": [
    {
     "data": {
      "text/plain": [
       "['74.8', '86.1', '79.8', '41.2', '100', '55.1', '20.2', '95.5', '98.6']"
      ]
     },
     "execution_count": 13,
     "metadata": {},
     "output_type": "execute_result"
    }
   ],
   "source": [
    "#PARSING DATA\n",
    "value_head=[]\n",
    "for data in header2:\n",
    "    #get the text data\n",
    "    temp=data.text\n",
    "    value_head.append(temp)\n",
    "value=value_head[91:100]\n",
    "value"
   ]
  },
  {
   "cell_type": "code",
   "execution_count": 14,
   "id": "7e23ec58",
   "metadata": {},
   "outputs": [
    {
     "data": {
      "text/plain": [
       "{'Name': 'Duke University',\n",
       " 'Location': 'Durham, United States',\n",
       " 'Rank': '=50',\n",
       " 'Overall Score': '74.8',\n",
       " 'Academic Reputation': '86.1',\n",
       " 'Employer Reputation': '79.8',\n",
       " 'Citations per Faculty': '41.2',\n",
       " 'Faculty Student Ratio': '100',\n",
       " 'International Students Ratio': '55.1',\n",
       " 'International Faculty Ratio': '20.2',\n",
       " 'International Research Network\\nUnweighted': '95.5',\n",
       " 'Employment Outcomes\\nUnweighted': '98.6'}"
      ]
     },
     "execution_count": 14,
     "metadata": {},
     "output_type": "execute_result"
    }
   ],
   "source": [
    "\n",
    "d={}\n",
    "d['Name']=value_head[90]\n",
    "d['Location']=loc[9]\n",
    "d['Rank']=RANK[9]\n",
    "\n",
    "for i in range(len(column_head)):\n",
    "    d[column_head[i]]=value[i]\n",
    "d"
   ]
  },
  {
   "cell_type": "code",
   "execution_count": 15,
   "id": "0d41032d",
   "metadata": {},
   "outputs": [
    {
     "data": {
      "text/plain": [
       "'{\"Name\": \"Duke University\", \"Location\": \"Durham, United States\", \"Rank\": \"=50\", \"Overall Score\": \"74.8\", \"Academic Reputation\": \"86.1\", \"Employer Reputation\": \"79.8\", \"Citations per Faculty\": \"41.2\", \"Faculty Student Ratio\": \"100\", \"International Students Ratio\": \"55.1\", \"International Faculty Ratio\": \"20.2\", \"International Research Network\\\\nUnweighted\": \"95.5\", \"Employment Outcomes\\\\nUnweighted\": \"98.6\"}'"
      ]
     },
     "execution_count": 15,
     "metadata": {},
     "output_type": "execute_result"
    }
   ],
   "source": [
    "s1=json.dumps(d)\n",
    "s1"
   ]
  },
  {
   "cell_type": "code",
   "execution_count": 16,
   "id": "eb9cb0eb",
   "metadata": {},
   "outputs": [],
   "source": [
    "with open('Duke University.json','w') as f:\n",
    "    json.dump(d,f)\n"
   ]
  },
  {
   "cell_type": "code",
   "execution_count": null,
   "id": "745728e0",
   "metadata": {},
   "outputs": [],
   "source": []
  },
  {
   "cell_type": "code",
   "execution_count": null,
   "id": "d541e782",
   "metadata": {},
   "outputs": [],
   "source": []
  }
 ],
 "metadata": {
  "kernelspec": {
   "display_name": "Python 3 (ipykernel)",
   "language": "python",
   "name": "python3"
  },
  "language_info": {
   "codemirror_mode": {
    "name": "ipython",
    "version": 3
   },
   "file_extension": ".py",
   "mimetype": "text/x-python",
   "name": "python",
   "nbconvert_exporter": "python",
   "pygments_lexer": "ipython3",
   "version": "3.9.12"
  }
 },
 "nbformat": 4,
 "nbformat_minor": 5
}
