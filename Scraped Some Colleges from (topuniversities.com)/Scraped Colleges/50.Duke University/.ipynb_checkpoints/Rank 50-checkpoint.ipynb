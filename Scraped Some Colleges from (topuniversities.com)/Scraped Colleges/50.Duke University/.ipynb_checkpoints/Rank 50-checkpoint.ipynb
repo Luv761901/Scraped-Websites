{
 "cells": [
  {
   "cell_type": "code",
   "execution_count": 1,
   "id": "e5ae9275",
   "metadata": {},
   "outputs": [],
   "source": [
    "from selenium import webdriver\n",
    "from selenium.webdriver.chrome.service import Service\n",
    "import pandas as pd\n",
    "import json\n"
   ]
  },
  {
   "cell_type": "code",
   "execution_count": 2,
   "id": "5035920e",
   "metadata": {},
   "outputs": [],
   "source": [
    "path = Service('C:\\chromedriver.exe')\n"
   ]
  },
  {
   "cell_type": "code",
   "execution_count": 3,
   "id": "846552a2",
   "metadata": {},
   "outputs": [],
   "source": [
    "\n",
    "# set path for the driver\n",
    "browser = webdriver.Chrome(service = path)"
   ]
  },
  {
   "cell_type": "code",
   "execution_count": 4,
   "id": "7e0fcea6",
   "metadata": {},
   "outputs": [],
   "source": [
    "\n",
    "url = \"https://www.topuniversities.com/university-rankings/world-university-rankings/2023\""
   ]
  },
  {
   "cell_type": "code",
   "execution_count": 5,
   "id": "aac688b1",
   "metadata": {},
   "outputs": [],
   "source": [
    "# open the page url ion chrome\n",
    "browser.get(url)\n"
   ]
  },
  {
   "cell_type": "code",
   "execution_count": 7,
   "id": "191b0f39",
   "metadata": {},
   "outputs": [
    {
     "data": {
      "text/plain": [
       "[<selenium.webdriver.remote.webelement.WebElement (session=\"79b2408d8edc3d0a2a33a58eecafcfc2\", element=\"38d28bb7-c011-4bfc-a8e1-4b443019033e\")>,\n",
       " <selenium.webdriver.remote.webelement.WebElement (session=\"79b2408d8edc3d0a2a33a58eecafcfc2\", element=\"a96b6498-6a71-49b0-ae6a-393d65ebc329\")>,\n",
       " <selenium.webdriver.remote.webelement.WebElement (session=\"79b2408d8edc3d0a2a33a58eecafcfc2\", element=\"297f7b1c-ea91-4db1-a81f-15760a0eff68\")>,\n",
       " <selenium.webdriver.remote.webelement.WebElement (session=\"79b2408d8edc3d0a2a33a58eecafcfc2\", element=\"d9b2431a-cc63-4ffa-a838-c842c84c4cc1\")>,\n",
       " <selenium.webdriver.remote.webelement.WebElement (session=\"79b2408d8edc3d0a2a33a58eecafcfc2\", element=\"1b5c1a7a-1203-4245-bed7-a9b53b7a35ab\")>,\n",
       " <selenium.webdriver.remote.webelement.WebElement (session=\"79b2408d8edc3d0a2a33a58eecafcfc2\", element=\"4e63bfc8-bef6-4a73-8f2c-ec2097c25b60\")>,\n",
       " <selenium.webdriver.remote.webelement.WebElement (session=\"79b2408d8edc3d0a2a33a58eecafcfc2\", element=\"594a0996-6e07-42a8-b4e9-4ff7c4e4dfe4\")>,\n",
       " <selenium.webdriver.remote.webelement.WebElement (session=\"79b2408d8edc3d0a2a33a58eecafcfc2\", element=\"34dfba94-b84c-4b5f-b3f4-0bd3e33a8615\")>,\n",
       " <selenium.webdriver.remote.webelement.WebElement (session=\"79b2408d8edc3d0a2a33a58eecafcfc2\", element=\"f3e3f6c3-6a96-4267-825c-48bb9b97767f\")>]"
      ]
     },
     "execution_count": 7,
     "metadata": {},
     "output_type": "execute_result"
    }
   ],
   "source": [
    "# GET EACH COLLEGE SPECIFICATION HEADERS\n",
    "header=browser.find_elements(\"xpath\",\"//div[@class='_click-function_ind']\")\n",
    "header\n"
   ]
  },
  {
   "cell_type": "code",
   "execution_count": 8,
   "id": "a7d3f699",
   "metadata": {},
   "outputs": [
    {
     "data": {
      "text/plain": [
       "['Overall Score',\n",
       " 'Academic Reputation',\n",
       " 'Employer Reputation',\n",
       " 'Citations per Faculty',\n",
       " 'Faculty Student Ratio',\n",
       " 'International Students Ratio',\n",
       " 'International Faculty Ratio',\n",
       " 'International Research Network\\nUnweighted',\n",
       " 'Employment Outcomes\\nUnweighted']"
      ]
     },
     "execution_count": 8,
     "metadata": {},
     "output_type": "execute_result"
    }
   ],
   "source": [
    "\n",
    "#PARSING DATA\n",
    "column_head=[]\n",
    "for data in header:\n",
    "    #get the text data\n",
    "    temp=data.text\n",
    "    column_head.append(temp)\n",
    "column_head"
   ]
  },
  {
   "cell_type": "code",
   "execution_count": 9,
   "id": "52d08b9c",
   "metadata": {},
   "outputs": [
    {
     "data": {
      "text/plain": [
       "[<selenium.webdriver.remote.webelement.WebElement (session=\"79b2408d8edc3d0a2a33a58eecafcfc2\", element=\"82231cba-c5fb-47c8-86b5-02a2d5dd8e18\")>,\n",
       " <selenium.webdriver.remote.webelement.WebElement (session=\"79b2408d8edc3d0a2a33a58eecafcfc2\", element=\"619691ff-0f61-4b36-a7ab-d04d01a89426\")>,\n",
       " <selenium.webdriver.remote.webelement.WebElement (session=\"79b2408d8edc3d0a2a33a58eecafcfc2\", element=\"d8c5098b-372d-4a8f-9dcf-db827904f077\")>,\n",
       " <selenium.webdriver.remote.webelement.WebElement (session=\"79b2408d8edc3d0a2a33a58eecafcfc2\", element=\"84725481-9bb2-4c84-9708-15ffff250173\")>,\n",
       " <selenium.webdriver.remote.webelement.WebElement (session=\"79b2408d8edc3d0a2a33a58eecafcfc2\", element=\"7ca575db-5efc-476c-a2dd-30cd49053603\")>,\n",
       " <selenium.webdriver.remote.webelement.WebElement (session=\"79b2408d8edc3d0a2a33a58eecafcfc2\", element=\"88608a82-a4b2-4176-820f-be359dbaa861\")>,\n",
       " <selenium.webdriver.remote.webelement.WebElement (session=\"79b2408d8edc3d0a2a33a58eecafcfc2\", element=\"03c8bd9b-5492-4511-97d0-9c319ab31de2\")>,\n",
       " <selenium.webdriver.remote.webelement.WebElement (session=\"79b2408d8edc3d0a2a33a58eecafcfc2\", element=\"6e316375-9dbd-414d-8880-ffb313e42217\")>,\n",
       " <selenium.webdriver.remote.webelement.WebElement (session=\"79b2408d8edc3d0a2a33a58eecafcfc2\", element=\"bbad2eb6-9019-4297-9bb7-27a6a9140512\")>,\n",
       " <selenium.webdriver.remote.webelement.WebElement (session=\"79b2408d8edc3d0a2a33a58eecafcfc2\", element=\"d0887e0f-b15d-4254-a97a-4d3be798baf9\")>,\n",
       " <selenium.webdriver.remote.webelement.WebElement (session=\"79b2408d8edc3d0a2a33a58eecafcfc2\", element=\"56ec46bd-4945-4998-a106-a3c057e6e273\")>,\n",
       " <selenium.webdriver.remote.webelement.WebElement (session=\"79b2408d8edc3d0a2a33a58eecafcfc2\", element=\"5c7d166b-3012-4a7d-9472-4207ac73c88d\")>,\n",
       " <selenium.webdriver.remote.webelement.WebElement (session=\"79b2408d8edc3d0a2a33a58eecafcfc2\", element=\"f8c1e485-9f69-469f-81fa-ed186a4d7032\")>,\n",
       " <selenium.webdriver.remote.webelement.WebElement (session=\"79b2408d8edc3d0a2a33a58eecafcfc2\", element=\"0449c094-6e08-4270-963e-321819d0bc7c\")>,\n",
       " <selenium.webdriver.remote.webelement.WebElement (session=\"79b2408d8edc3d0a2a33a58eecafcfc2\", element=\"62533fd8-8ccd-480b-b86b-23079dda4e54\")>,\n",
       " <selenium.webdriver.remote.webelement.WebElement (session=\"79b2408d8edc3d0a2a33a58eecafcfc2\", element=\"5ed50519-c835-4a13-97fa-5fe3dc1c8203\")>,\n",
       " <selenium.webdriver.remote.webelement.WebElement (session=\"79b2408d8edc3d0a2a33a58eecafcfc2\", element=\"dc44bc84-7788-4704-be34-bd021c41b035\")>,\n",
       " <selenium.webdriver.remote.webelement.WebElement (session=\"79b2408d8edc3d0a2a33a58eecafcfc2\", element=\"01978cf2-b022-4788-a914-cdc2aa1213af\")>,\n",
       " <selenium.webdriver.remote.webelement.WebElement (session=\"79b2408d8edc3d0a2a33a58eecafcfc2\", element=\"a2ceafd8-1ff4-40eb-8417-2713f18c4b9a\")>,\n",
       " <selenium.webdriver.remote.webelement.WebElement (session=\"79b2408d8edc3d0a2a33a58eecafcfc2\", element=\"68bfaaa1-2110-444f-87d8-d4922469a1e7\")>,\n",
       " <selenium.webdriver.remote.webelement.WebElement (session=\"79b2408d8edc3d0a2a33a58eecafcfc2\", element=\"fbb585ab-0678-4e2c-b46f-17bffa47d8bb\")>,\n",
       " <selenium.webdriver.remote.webelement.WebElement (session=\"79b2408d8edc3d0a2a33a58eecafcfc2\", element=\"eb309a6b-53c5-4ceb-a539-3c739e3de6e1\")>,\n",
       " <selenium.webdriver.remote.webelement.WebElement (session=\"79b2408d8edc3d0a2a33a58eecafcfc2\", element=\"c6bbc58c-1e4d-4b0e-ad65-fb37e1d77a46\")>,\n",
       " <selenium.webdriver.remote.webelement.WebElement (session=\"79b2408d8edc3d0a2a33a58eecafcfc2\", element=\"3c74aa24-4589-4c3e-a79c-a031bbcd7706\")>,\n",
       " <selenium.webdriver.remote.webelement.WebElement (session=\"79b2408d8edc3d0a2a33a58eecafcfc2\", element=\"52c832a8-2adb-4b1b-aa9a-9dee90f465bb\")>,\n",
       " <selenium.webdriver.remote.webelement.WebElement (session=\"79b2408d8edc3d0a2a33a58eecafcfc2\", element=\"65ef0c4a-03cb-4976-9766-5cb0548ec132\")>,\n",
       " <selenium.webdriver.remote.webelement.WebElement (session=\"79b2408d8edc3d0a2a33a58eecafcfc2\", element=\"2ade10f9-cdf2-4f62-a183-30d3704b132c\")>,\n",
       " <selenium.webdriver.remote.webelement.WebElement (session=\"79b2408d8edc3d0a2a33a58eecafcfc2\", element=\"0e280128-0d7e-4050-93aa-ce93a4afaa4b\")>,\n",
       " <selenium.webdriver.remote.webelement.WebElement (session=\"79b2408d8edc3d0a2a33a58eecafcfc2\", element=\"5327ac77-ea63-4f5a-a9e8-343409de4404\")>,\n",
       " <selenium.webdriver.remote.webelement.WebElement (session=\"79b2408d8edc3d0a2a33a58eecafcfc2\", element=\"9237ea91-3f85-4f38-a9b9-9f2277519556\")>,\n",
       " <selenium.webdriver.remote.webelement.WebElement (session=\"79b2408d8edc3d0a2a33a58eecafcfc2\", element=\"e5d60600-6726-4934-a1d0-3e46449ae394\")>,\n",
       " <selenium.webdriver.remote.webelement.WebElement (session=\"79b2408d8edc3d0a2a33a58eecafcfc2\", element=\"4cbe2927-c3c5-4b8b-9a57-14f122fd45be\")>,\n",
       " <selenium.webdriver.remote.webelement.WebElement (session=\"79b2408d8edc3d0a2a33a58eecafcfc2\", element=\"842fc95e-78aa-4565-be19-a805d8441a74\")>,\n",
       " <selenium.webdriver.remote.webelement.WebElement (session=\"79b2408d8edc3d0a2a33a58eecafcfc2\", element=\"e606ffcb-6eb4-4856-97e8-cad2d98935a4\")>,\n",
       " <selenium.webdriver.remote.webelement.WebElement (session=\"79b2408d8edc3d0a2a33a58eecafcfc2\", element=\"41ae1c59-9ce5-4c40-a2c3-dea77c60b28e\")>,\n",
       " <selenium.webdriver.remote.webelement.WebElement (session=\"79b2408d8edc3d0a2a33a58eecafcfc2\", element=\"c72b5b3e-483e-411e-84f5-84cc4b5f4409\")>,\n",
       " <selenium.webdriver.remote.webelement.WebElement (session=\"79b2408d8edc3d0a2a33a58eecafcfc2\", element=\"92ac1077-298c-429e-9dcb-3f7e9b1f6f70\")>,\n",
       " <selenium.webdriver.remote.webelement.WebElement (session=\"79b2408d8edc3d0a2a33a58eecafcfc2\", element=\"c80b9447-5d5f-4eba-bbad-fc2b2947441a\")>,\n",
       " <selenium.webdriver.remote.webelement.WebElement (session=\"79b2408d8edc3d0a2a33a58eecafcfc2\", element=\"06f18d79-16d0-4761-8882-e6084b382d53\")>,\n",
       " <selenium.webdriver.remote.webelement.WebElement (session=\"79b2408d8edc3d0a2a33a58eecafcfc2\", element=\"a157bb3e-c3bc-4185-9a7d-598045e4a722\")>,\n",
       " <selenium.webdriver.remote.webelement.WebElement (session=\"79b2408d8edc3d0a2a33a58eecafcfc2\", element=\"1551757b-1a21-49c3-bcb8-3aa162bcfce2\")>,\n",
       " <selenium.webdriver.remote.webelement.WebElement (session=\"79b2408d8edc3d0a2a33a58eecafcfc2\", element=\"e50eca04-2fc0-45dc-a0ee-06f145d60ade\")>,\n",
       " <selenium.webdriver.remote.webelement.WebElement (session=\"79b2408d8edc3d0a2a33a58eecafcfc2\", element=\"cc461e7b-bd0d-44f4-aaef-bf7154b4be9b\")>,\n",
       " <selenium.webdriver.remote.webelement.WebElement (session=\"79b2408d8edc3d0a2a33a58eecafcfc2\", element=\"164a4de4-c924-4055-a189-c47b1a5601ea\")>,\n",
       " <selenium.webdriver.remote.webelement.WebElement (session=\"79b2408d8edc3d0a2a33a58eecafcfc2\", element=\"2321dfed-1eba-4806-b38c-8b59c6f893f3\")>,\n",
       " <selenium.webdriver.remote.webelement.WebElement (session=\"79b2408d8edc3d0a2a33a58eecafcfc2\", element=\"68b98659-7f78-4b28-9f6b-3f50cf66ef3e\")>,\n",
       " <selenium.webdriver.remote.webelement.WebElement (session=\"79b2408d8edc3d0a2a33a58eecafcfc2\", element=\"64e001c7-afc5-4c6e-8210-689d3ee00192\")>,\n",
       " <selenium.webdriver.remote.webelement.WebElement (session=\"79b2408d8edc3d0a2a33a58eecafcfc2\", element=\"1bda54d9-604e-4519-a17d-12e9ea948bf7\")>,\n",
       " <selenium.webdriver.remote.webelement.WebElement (session=\"79b2408d8edc3d0a2a33a58eecafcfc2\", element=\"7bc34676-4471-4474-bb70-f42a103740bd\")>,\n",
       " <selenium.webdriver.remote.webelement.WebElement (session=\"79b2408d8edc3d0a2a33a58eecafcfc2\", element=\"4f4c5102-df3d-47cc-9d0a-c2dc85b4e9d4\")>,\n",
       " <selenium.webdriver.remote.webelement.WebElement (session=\"79b2408d8edc3d0a2a33a58eecafcfc2\", element=\"7c1a2a23-bf02-4598-a3d7-228c854f2e88\")>,\n",
       " <selenium.webdriver.remote.webelement.WebElement (session=\"79b2408d8edc3d0a2a33a58eecafcfc2\", element=\"bcfce1d0-86aa-4419-9579-c549a556a5fe\")>,\n",
       " <selenium.webdriver.remote.webelement.WebElement (session=\"79b2408d8edc3d0a2a33a58eecafcfc2\", element=\"3588385e-0588-464a-8643-19c2e7ebdcec\")>,\n",
       " <selenium.webdriver.remote.webelement.WebElement (session=\"79b2408d8edc3d0a2a33a58eecafcfc2\", element=\"df88d616-bf23-4004-8354-76c6427b3bd9\")>,\n",
       " <selenium.webdriver.remote.webelement.WebElement (session=\"79b2408d8edc3d0a2a33a58eecafcfc2\", element=\"4b3c1c85-4e36-4e26-ad6c-6306dc19250c\")>,\n",
       " <selenium.webdriver.remote.webelement.WebElement (session=\"79b2408d8edc3d0a2a33a58eecafcfc2\", element=\"f00d7dfb-2ddc-463e-8624-fc32c5eb4dbe\")>,\n",
       " <selenium.webdriver.remote.webelement.WebElement (session=\"79b2408d8edc3d0a2a33a58eecafcfc2\", element=\"4d698860-322a-440e-af00-fc697af95984\")>,\n",
       " <selenium.webdriver.remote.webelement.WebElement (session=\"79b2408d8edc3d0a2a33a58eecafcfc2\", element=\"6415e031-d1f1-4ac0-b1ab-3d53e5164fc5\")>,\n",
       " <selenium.webdriver.remote.webelement.WebElement (session=\"79b2408d8edc3d0a2a33a58eecafcfc2\", element=\"de464af3-7ad5-4f19-90a0-3e575c308042\")>,\n",
       " <selenium.webdriver.remote.webelement.WebElement (session=\"79b2408d8edc3d0a2a33a58eecafcfc2\", element=\"5d10737a-098f-43f1-b02a-1b03a2ca8229\")>,\n",
       " <selenium.webdriver.remote.webelement.WebElement (session=\"79b2408d8edc3d0a2a33a58eecafcfc2\", element=\"fa518d84-c02f-4b9b-af85-6e34b29ab4d8\")>,\n",
       " <selenium.webdriver.remote.webelement.WebElement (session=\"79b2408d8edc3d0a2a33a58eecafcfc2\", element=\"0541bdc6-b005-4d8b-8833-3d476afcf328\")>,\n",
       " <selenium.webdriver.remote.webelement.WebElement (session=\"79b2408d8edc3d0a2a33a58eecafcfc2\", element=\"85941070-49bd-448c-952e-bcc73a9ef32c\")>,\n",
       " <selenium.webdriver.remote.webelement.WebElement (session=\"79b2408d8edc3d0a2a33a58eecafcfc2\", element=\"85b7a059-dd59-4c5f-83ab-f4615016c10d\")>,\n",
       " <selenium.webdriver.remote.webelement.WebElement (session=\"79b2408d8edc3d0a2a33a58eecafcfc2\", element=\"80f3d1c0-b694-4753-821f-0ca08b750380\")>,\n",
       " <selenium.webdriver.remote.webelement.WebElement (session=\"79b2408d8edc3d0a2a33a58eecafcfc2\", element=\"62fd6e02-b35d-4b85-a9f6-f47bd5af00fa\")>,\n",
       " <selenium.webdriver.remote.webelement.WebElement (session=\"79b2408d8edc3d0a2a33a58eecafcfc2\", element=\"ee0cbb42-e87a-4ddd-a1d7-17bd65171130\")>,\n",
       " <selenium.webdriver.remote.webelement.WebElement (session=\"79b2408d8edc3d0a2a33a58eecafcfc2\", element=\"8b153555-1a5a-4ae2-aa2a-3c98df845f20\")>,\n",
       " <selenium.webdriver.remote.webelement.WebElement (session=\"79b2408d8edc3d0a2a33a58eecafcfc2\", element=\"62681c34-b2d4-4ea3-95b1-d41a31a1c7a1\")>,\n",
       " <selenium.webdriver.remote.webelement.WebElement (session=\"79b2408d8edc3d0a2a33a58eecafcfc2\", element=\"a81e7bce-7251-4112-9fd6-59580d61f549\")>,\n",
       " <selenium.webdriver.remote.webelement.WebElement (session=\"79b2408d8edc3d0a2a33a58eecafcfc2\", element=\"6e3fbd6a-0cd2-4817-8d8d-f370568e861d\")>,\n",
       " <selenium.webdriver.remote.webelement.WebElement (session=\"79b2408d8edc3d0a2a33a58eecafcfc2\", element=\"83afb931-2e7e-42b8-b8f1-2e90861924f3\")>,\n",
       " <selenium.webdriver.remote.webelement.WebElement (session=\"79b2408d8edc3d0a2a33a58eecafcfc2\", element=\"92bcbb98-0ca8-4390-a1ea-3f6ee66882de\")>,\n",
       " <selenium.webdriver.remote.webelement.WebElement (session=\"79b2408d8edc3d0a2a33a58eecafcfc2\", element=\"813242fb-5221-4ef1-acf9-bcb312a2cbe4\")>,\n",
       " <selenium.webdriver.remote.webelement.WebElement (session=\"79b2408d8edc3d0a2a33a58eecafcfc2\", element=\"0d239d3e-469a-4a2a-8e83-205c48491265\")>,\n",
       " <selenium.webdriver.remote.webelement.WebElement (session=\"79b2408d8edc3d0a2a33a58eecafcfc2\", element=\"96f1e1e8-10cf-4c61-8c7c-f33072e6f1c6\")>,\n",
       " <selenium.webdriver.remote.webelement.WebElement (session=\"79b2408d8edc3d0a2a33a58eecafcfc2\", element=\"c2c2f802-9944-4ffd-aca3-aa300f8c9ffe\")>,\n",
       " <selenium.webdriver.remote.webelement.WebElement (session=\"79b2408d8edc3d0a2a33a58eecafcfc2\", element=\"ddac1d4a-7634-4060-872e-4a8875266bb8\")>,\n",
       " <selenium.webdriver.remote.webelement.WebElement (session=\"79b2408d8edc3d0a2a33a58eecafcfc2\", element=\"60c27ba6-6384-490a-8cbb-df48094fc6d6\")>,\n",
       " <selenium.webdriver.remote.webelement.WebElement (session=\"79b2408d8edc3d0a2a33a58eecafcfc2\", element=\"d9edd0c0-baa6-467b-97b8-2ed1641155f7\")>,\n",
       " <selenium.webdriver.remote.webelement.WebElement (session=\"79b2408d8edc3d0a2a33a58eecafcfc2\", element=\"9f4d5807-562a-44b0-8591-a35fcdf82a9f\")>,\n",
       " <selenium.webdriver.remote.webelement.WebElement (session=\"79b2408d8edc3d0a2a33a58eecafcfc2\", element=\"deed6532-1c9c-479a-a5c9-162a2724d240\")>,\n",
       " <selenium.webdriver.remote.webelement.WebElement (session=\"79b2408d8edc3d0a2a33a58eecafcfc2\", element=\"565bb92c-d82a-4576-a35f-1ff4eda92759\")>,\n",
       " <selenium.webdriver.remote.webelement.WebElement (session=\"79b2408d8edc3d0a2a33a58eecafcfc2\", element=\"dc5eab7e-404b-4385-b300-d6ad2040101c\")>,\n",
       " <selenium.webdriver.remote.webelement.WebElement (session=\"79b2408d8edc3d0a2a33a58eecafcfc2\", element=\"8cbb020d-dce2-409b-8b77-6b0d50f1d088\")>,\n",
       " <selenium.webdriver.remote.webelement.WebElement (session=\"79b2408d8edc3d0a2a33a58eecafcfc2\", element=\"a2d63a84-a807-4875-b7f7-bc84d5c1e48e\")>,\n",
       " <selenium.webdriver.remote.webelement.WebElement (session=\"79b2408d8edc3d0a2a33a58eecafcfc2\", element=\"c1945129-6eb7-4b3f-8862-d5ed1d2856ef\")>,\n",
       " <selenium.webdriver.remote.webelement.WebElement (session=\"79b2408d8edc3d0a2a33a58eecafcfc2\", element=\"ed303c72-0bb6-464c-aa89-db3eaeceb6e6\")>,\n",
       " <selenium.webdriver.remote.webelement.WebElement (session=\"79b2408d8edc3d0a2a33a58eecafcfc2\", element=\"8beb2307-4162-4b4b-b9c9-431c474d1326\")>,\n",
       " <selenium.webdriver.remote.webelement.WebElement (session=\"79b2408d8edc3d0a2a33a58eecafcfc2\", element=\"364301d7-e8ad-496c-b27a-751e9960a327\")>,\n",
       " <selenium.webdriver.remote.webelement.WebElement (session=\"79b2408d8edc3d0a2a33a58eecafcfc2\", element=\"b7994759-8926-432c-9e81-cd8025b86892\")>,\n",
       " <selenium.webdriver.remote.webelement.WebElement (session=\"79b2408d8edc3d0a2a33a58eecafcfc2\", element=\"a4dba043-dd98-4870-b171-7af9e4e905d1\")>,\n",
       " <selenium.webdriver.remote.webelement.WebElement (session=\"79b2408d8edc3d0a2a33a58eecafcfc2\", element=\"c20d5437-5b18-45a0-a128-03fc5633a4ea\")>,\n",
       " <selenium.webdriver.remote.webelement.WebElement (session=\"79b2408d8edc3d0a2a33a58eecafcfc2\", element=\"5d349879-204c-4452-aef1-93f565852ba4\")>,\n",
       " <selenium.webdriver.remote.webelement.WebElement (session=\"79b2408d8edc3d0a2a33a58eecafcfc2\", element=\"2029a394-406f-4e71-a1ce-b0f2aee20198\")>,\n",
       " <selenium.webdriver.remote.webelement.WebElement (session=\"79b2408d8edc3d0a2a33a58eecafcfc2\", element=\"cf8e1f4c-f6c8-4844-9aa4-489aed52b110\")>,\n",
       " <selenium.webdriver.remote.webelement.WebElement (session=\"79b2408d8edc3d0a2a33a58eecafcfc2\", element=\"c8cafa5a-1b91-498e-8f07-3c0651acfbf4\")>,\n",
       " <selenium.webdriver.remote.webelement.WebElement (session=\"79b2408d8edc3d0a2a33a58eecafcfc2\", element=\"8609dd64-09d4-457b-be9b-718c9867a6d3\")>,\n",
       " <selenium.webdriver.remote.webelement.WebElement (session=\"79b2408d8edc3d0a2a33a58eecafcfc2\", element=\"fadd3d02-8812-41de-b9b7-5e7ad61937e9\")>,\n",
       " <selenium.webdriver.remote.webelement.WebElement (session=\"79b2408d8edc3d0a2a33a58eecafcfc2\", element=\"c1fe4895-d5d2-4e1d-a40f-4d37ae1642eb\")>]"
      ]
     },
     "execution_count": 9,
     "metadata": {},
     "output_type": "execute_result"
    }
   ],
   "source": [
    "header2=browser.find_elements(\"xpath\",\"//div[@class='td-wrap-in']\")\n",
    "header2"
   ]
  },
  {
   "cell_type": "code",
   "execution_count": 10,
   "id": "e8f9a37e",
   "metadata": {},
   "outputs": [
    {
     "data": {
      "text/plain": [
       "['74.8', '86.1', '79.8', '41.2', '100', '55.1', '20.2', '95.5', '98.6']"
      ]
     },
     "execution_count": 10,
     "metadata": {},
     "output_type": "execute_result"
    }
   ],
   "source": [
    "#PARSING DATA\n",
    "value_head=[]\n",
    "for data in header2:\n",
    "    #get the text data\n",
    "    temp=data.text\n",
    "    value_head.append(temp)\n",
    "value_head=value_head[91:100]\n",
    "value_head"
   ]
  },
  {
   "cell_type": "code",
   "execution_count": 11,
   "id": "7e23ec58",
   "metadata": {},
   "outputs": [
    {
     "data": {
      "text/plain": [
       "{'Overall Score': '74.8',\n",
       " 'Academic Reputation': '86.1',\n",
       " 'Employer Reputation': '79.8',\n",
       " 'Citations per Faculty': '41.2',\n",
       " 'Faculty Student Ratio': '100',\n",
       " 'International Students Ratio': '55.1',\n",
       " 'International Faculty Ratio': '20.2',\n",
       " 'International Research Network\\nUnweighted': '95.5',\n",
       " 'Employment Outcomes\\nUnweighted': '98.6'}"
      ]
     },
     "execution_count": 11,
     "metadata": {},
     "output_type": "execute_result"
    }
   ],
   "source": [
    "\n",
    "d={}\n",
    "for i in range(len(column_head)):\n",
    "    d[column_head[i]]=value_head[i]\n",
    "d"
   ]
  },
  {
   "cell_type": "code",
   "execution_count": 12,
   "id": "0d41032d",
   "metadata": {},
   "outputs": [
    {
     "data": {
      "text/plain": [
       "'{\"Overall Score\": \"74.8\", \"Academic Reputation\": \"86.1\", \"Employer Reputation\": \"79.8\", \"Citations per Faculty\": \"41.2\", \"Faculty Student Ratio\": \"100\", \"International Students Ratio\": \"55.1\", \"International Faculty Ratio\": \"20.2\", \"International Research Network\\\\nUnweighted\": \"95.5\", \"Employment Outcomes\\\\nUnweighted\": \"98.6\"}'"
      ]
     },
     "execution_count": 12,
     "metadata": {},
     "output_type": "execute_result"
    }
   ],
   "source": [
    "s1=json.dumps(d)\n",
    "s1"
   ]
  },
  {
   "cell_type": "code",
   "execution_count": 13,
   "id": "eb9cb0eb",
   "metadata": {},
   "outputs": [],
   "source": [
    "with open('Duke University.json','w') as f:\n",
    "    json.dump(d,f)\n"
   ]
  },
  {
   "cell_type": "code",
   "execution_count": null,
   "id": "745728e0",
   "metadata": {},
   "outputs": [],
   "source": []
  },
  {
   "cell_type": "code",
   "execution_count": null,
   "id": "d541e782",
   "metadata": {},
   "outputs": [],
   "source": []
  }
 ],
 "metadata": {
  "kernelspec": {
   "display_name": "Python 3 (ipykernel)",
   "language": "python",
   "name": "python3"
  },
  "language_info": {
   "codemirror_mode": {
    "name": "ipython",
    "version": 3
   },
   "file_extension": ".py",
   "mimetype": "text/x-python",
   "name": "python",
   "nbconvert_exporter": "python",
   "pygments_lexer": "ipython3",
   "version": "3.9.12"
  }
 },
 "nbformat": 4,
 "nbformat_minor": 5
}
