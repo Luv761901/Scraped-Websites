{
 "cells": [
  {
   "cell_type": "code",
   "execution_count": 42,
   "id": "5a10c9ed",
   "metadata": {},
   "outputs": [],
   "source": [
    "from selenium import webdriver\n",
    "from selenium.webdriver.chrome.service import Service\n",
    "import pandas as pd\n",
    "import json"
   ]
  },
  {
   "cell_type": "code",
   "execution_count": 43,
   "id": "0acca88f",
   "metadata": {},
   "outputs": [],
   "source": [
    "path = Service('C:\\chromedriver.exe')"
   ]
  },
  {
   "cell_type": "code",
   "execution_count": 44,
   "id": "c7249981",
   "metadata": {},
   "outputs": [],
   "source": [
    "# set path for the driver\n",
    "browser = webdriver.Chrome(service = path)"
   ]
  },
  {
   "cell_type": "code",
   "execution_count": 45,
   "id": "e5e1324e",
   "metadata": {},
   "outputs": [],
   "source": [
    "url = \"https://www.topuniversities.com/university-rankings/world-university-rankings/2023\""
   ]
  },
  {
   "cell_type": "code",
   "execution_count": 46,
   "id": "8f9cb9fa",
   "metadata": {},
   "outputs": [],
   "source": [
    "# open the page url ion chrome\n",
    "browser.get(url)"
   ]
  },
  {
   "cell_type": "code",
   "execution_count": 47,
   "id": "a8588882",
   "metadata": {},
   "outputs": [
    {
     "data": {
      "text/plain": [
       "[<selenium.webdriver.remote.webelement.WebElement (session=\"ed55c6a4608ba998247dd533af433c0c\", element=\"fdfdc693-b228-4c72-acb6-82c6d8654c3c\")>,\n",
       " <selenium.webdriver.remote.webelement.WebElement (session=\"ed55c6a4608ba998247dd533af433c0c\", element=\"1fdafcab-2c02-4efb-ace2-ad66433f6fd0\")>,\n",
       " <selenium.webdriver.remote.webelement.WebElement (session=\"ed55c6a4608ba998247dd533af433c0c\", element=\"87a2c04e-f813-4226-b621-4f4e58e6dfa2\")>,\n",
       " <selenium.webdriver.remote.webelement.WebElement (session=\"ed55c6a4608ba998247dd533af433c0c\", element=\"1f6b08bd-5fb7-496e-8c39-08db94bed46e\")>,\n",
       " <selenium.webdriver.remote.webelement.WebElement (session=\"ed55c6a4608ba998247dd533af433c0c\", element=\"edbea8aa-e21c-4d96-a52c-b94083a5cd5f\")>,\n",
       " <selenium.webdriver.remote.webelement.WebElement (session=\"ed55c6a4608ba998247dd533af433c0c\", element=\"fc822968-04b4-4932-b02b-c1ae29ac8eea\")>,\n",
       " <selenium.webdriver.remote.webelement.WebElement (session=\"ed55c6a4608ba998247dd533af433c0c\", element=\"77775d2b-45bd-4af5-8bb1-01baebd2c6dd\")>,\n",
       " <selenium.webdriver.remote.webelement.WebElement (session=\"ed55c6a4608ba998247dd533af433c0c\", element=\"e8c27a4b-47e6-4b5a-abf1-4a892cf386fc\")>,\n",
       " <selenium.webdriver.remote.webelement.WebElement (session=\"ed55c6a4608ba998247dd533af433c0c\", element=\"63c024e3-e598-4b10-97fb-070cd027473b\")>]"
      ]
     },
     "execution_count": 47,
     "metadata": {},
     "output_type": "execute_result"
    }
   ],
   "source": [
    "# GET EACH COLLEGE SPECIFICATION HEADERS\n",
    "header=browser.find_elements(\"xpath\",\"//div[@class='_click-function_ind']\")\n",
    "header"
   ]
  },
  {
   "cell_type": "code",
   "execution_count": 48,
   "id": "5839ecba",
   "metadata": {},
   "outputs": [
    {
     "data": {
      "text/plain": [
       "['Overall Score',\n",
       " 'Academic Reputation',\n",
       " 'Employer Reputation',\n",
       " 'Citations per Faculty',\n",
       " 'Faculty Student Ratio',\n",
       " 'International Students Ratio',\n",
       " 'International Faculty Ratio',\n",
       " 'International Research Network\\nUnweighted',\n",
       " 'Employment Outcomes\\nUnweighted']"
      ]
     },
     "execution_count": 48,
     "metadata": {},
     "output_type": "execute_result"
    }
   ],
   "source": [
    "#PARSING DATA\n",
    "column_head=[]\n",
    "for data in header:\n",
    "    #get the text data\n",
    "    temp=data.text\n",
    "    column_head.append(temp)\n",
    "column_head"
   ]
  },
  {
   "cell_type": "code",
   "execution_count": 49,
   "id": "d73b7f32",
   "metadata": {},
   "outputs": [
    {
     "data": {
      "text/plain": [
       "[<selenium.webdriver.remote.webelement.WebElement (session=\"ed55c6a4608ba998247dd533af433c0c\", element=\"a160ab11-8bdf-42b0-bde4-3f7cd24d1a95\")>,\n",
       " <selenium.webdriver.remote.webelement.WebElement (session=\"ed55c6a4608ba998247dd533af433c0c\", element=\"646ccc73-cc64-4450-a48a-f4f60509b9da\")>,\n",
       " <selenium.webdriver.remote.webelement.WebElement (session=\"ed55c6a4608ba998247dd533af433c0c\", element=\"01b5d062-ab0a-4f4b-b654-2a8423862dc7\")>,\n",
       " <selenium.webdriver.remote.webelement.WebElement (session=\"ed55c6a4608ba998247dd533af433c0c\", element=\"4291aedc-c1d8-4394-b4b8-fa3c7306acdf\")>,\n",
       " <selenium.webdriver.remote.webelement.WebElement (session=\"ed55c6a4608ba998247dd533af433c0c\", element=\"92976119-1583-4fa2-bfd3-6009c2ace7f8\")>,\n",
       " <selenium.webdriver.remote.webelement.WebElement (session=\"ed55c6a4608ba998247dd533af433c0c\", element=\"7794a452-a7da-40ef-9ac8-b44ccef4c74e\")>,\n",
       " <selenium.webdriver.remote.webelement.WebElement (session=\"ed55c6a4608ba998247dd533af433c0c\", element=\"6a0f273e-739d-4368-a01e-cae80e0c18ee\")>,\n",
       " <selenium.webdriver.remote.webelement.WebElement (session=\"ed55c6a4608ba998247dd533af433c0c\", element=\"7903f49a-9795-436a-8b13-230c3ebd5455\")>,\n",
       " <selenium.webdriver.remote.webelement.WebElement (session=\"ed55c6a4608ba998247dd533af433c0c\", element=\"787ec238-8de0-4bab-9748-b4deea56b2c2\")>,\n",
       " <selenium.webdriver.remote.webelement.WebElement (session=\"ed55c6a4608ba998247dd533af433c0c\", element=\"ceed1ee3-25e9-409a-b069-e7a52b675e51\")>,\n",
       " <selenium.webdriver.remote.webelement.WebElement (session=\"ed55c6a4608ba998247dd533af433c0c\", element=\"bf124e55-4d88-47a1-8c52-3132fad93481\")>,\n",
       " <selenium.webdriver.remote.webelement.WebElement (session=\"ed55c6a4608ba998247dd533af433c0c\", element=\"acaaf0f7-f2f5-44b4-8524-a3d99edc5519\")>,\n",
       " <selenium.webdriver.remote.webelement.WebElement (session=\"ed55c6a4608ba998247dd533af433c0c\", element=\"d2a03a17-2b85-4f2a-8939-1df0bcebad7c\")>,\n",
       " <selenium.webdriver.remote.webelement.WebElement (session=\"ed55c6a4608ba998247dd533af433c0c\", element=\"bd4bca04-8bbd-46ae-8c25-9f68a187f716\")>,\n",
       " <selenium.webdriver.remote.webelement.WebElement (session=\"ed55c6a4608ba998247dd533af433c0c\", element=\"bd8c83ba-8b34-41cf-b6dc-83289acc83cc\")>,\n",
       " <selenium.webdriver.remote.webelement.WebElement (session=\"ed55c6a4608ba998247dd533af433c0c\", element=\"aaf1b47a-bcdf-4300-8a90-1da6c0a30ad2\")>,\n",
       " <selenium.webdriver.remote.webelement.WebElement (session=\"ed55c6a4608ba998247dd533af433c0c\", element=\"42ab8bbc-d65f-4cdd-b341-f7ee0c582c3e\")>,\n",
       " <selenium.webdriver.remote.webelement.WebElement (session=\"ed55c6a4608ba998247dd533af433c0c\", element=\"fcb893a4-afd7-4dec-bcbb-c36e3d432371\")>,\n",
       " <selenium.webdriver.remote.webelement.WebElement (session=\"ed55c6a4608ba998247dd533af433c0c\", element=\"28e88bc8-f57f-4638-a9f0-27fd0391e92a\")>,\n",
       " <selenium.webdriver.remote.webelement.WebElement (session=\"ed55c6a4608ba998247dd533af433c0c\", element=\"c273d9a2-59c6-4453-afbf-7c15b5fc8872\")>,\n",
       " <selenium.webdriver.remote.webelement.WebElement (session=\"ed55c6a4608ba998247dd533af433c0c\", element=\"0e2169fe-795c-4ec4-ae96-292b1306a258\")>,\n",
       " <selenium.webdriver.remote.webelement.WebElement (session=\"ed55c6a4608ba998247dd533af433c0c\", element=\"e0f2a207-21cf-4da3-90f7-4ad848455254\")>,\n",
       " <selenium.webdriver.remote.webelement.WebElement (session=\"ed55c6a4608ba998247dd533af433c0c\", element=\"2bed7d2e-3202-4e60-ae1c-b9e878a3c906\")>,\n",
       " <selenium.webdriver.remote.webelement.WebElement (session=\"ed55c6a4608ba998247dd533af433c0c\", element=\"93634c61-4753-48b4-9262-d575a447a28d\")>,\n",
       " <selenium.webdriver.remote.webelement.WebElement (session=\"ed55c6a4608ba998247dd533af433c0c\", element=\"54d919fb-8f99-42af-996b-e3955cd90caa\")>,\n",
       " <selenium.webdriver.remote.webelement.WebElement (session=\"ed55c6a4608ba998247dd533af433c0c\", element=\"d662042c-5072-4ca6-8d4f-c2d38001f249\")>,\n",
       " <selenium.webdriver.remote.webelement.WebElement (session=\"ed55c6a4608ba998247dd533af433c0c\", element=\"d495f7e1-bb8a-4652-b5fc-f213a8853a1f\")>,\n",
       " <selenium.webdriver.remote.webelement.WebElement (session=\"ed55c6a4608ba998247dd533af433c0c\", element=\"685640bb-0051-40b7-8fb3-e553eacb1c15\")>,\n",
       " <selenium.webdriver.remote.webelement.WebElement (session=\"ed55c6a4608ba998247dd533af433c0c\", element=\"6570b5e6-0d35-4fcb-94e1-81f1d33a2474\")>,\n",
       " <selenium.webdriver.remote.webelement.WebElement (session=\"ed55c6a4608ba998247dd533af433c0c\", element=\"464a0f4d-60aa-4fb8-81c9-b64c83185858\")>,\n",
       " <selenium.webdriver.remote.webelement.WebElement (session=\"ed55c6a4608ba998247dd533af433c0c\", element=\"0144be33-7bb5-42f2-a30c-27684e1aa5b6\")>,\n",
       " <selenium.webdriver.remote.webelement.WebElement (session=\"ed55c6a4608ba998247dd533af433c0c\", element=\"02fc6e59-24a8-46a1-be4c-4e71c69fbf4f\")>,\n",
       " <selenium.webdriver.remote.webelement.WebElement (session=\"ed55c6a4608ba998247dd533af433c0c\", element=\"f140f48c-efa0-4307-934e-671a74bb72df\")>,\n",
       " <selenium.webdriver.remote.webelement.WebElement (session=\"ed55c6a4608ba998247dd533af433c0c\", element=\"5156928c-f274-43c9-933b-062b60168cfc\")>,\n",
       " <selenium.webdriver.remote.webelement.WebElement (session=\"ed55c6a4608ba998247dd533af433c0c\", element=\"b84af085-d8f7-40c3-b293-00b6bf6afd4c\")>,\n",
       " <selenium.webdriver.remote.webelement.WebElement (session=\"ed55c6a4608ba998247dd533af433c0c\", element=\"7a5d0cbd-80d8-42ff-8a3c-8eb1eec2d3a0\")>,\n",
       " <selenium.webdriver.remote.webelement.WebElement (session=\"ed55c6a4608ba998247dd533af433c0c\", element=\"96e42f4a-3fc0-44f5-b1ae-2079af49f82f\")>,\n",
       " <selenium.webdriver.remote.webelement.WebElement (session=\"ed55c6a4608ba998247dd533af433c0c\", element=\"e7502208-4500-4140-8a0b-4d07c6905028\")>,\n",
       " <selenium.webdriver.remote.webelement.WebElement (session=\"ed55c6a4608ba998247dd533af433c0c\", element=\"3d2b4a29-dc60-4230-a30d-9a4f6e9f5503\")>,\n",
       " <selenium.webdriver.remote.webelement.WebElement (session=\"ed55c6a4608ba998247dd533af433c0c\", element=\"db766ee9-1947-40c1-beaa-7c5389cdefd3\")>,\n",
       " <selenium.webdriver.remote.webelement.WebElement (session=\"ed55c6a4608ba998247dd533af433c0c\", element=\"cf6b3977-ee46-4353-9125-c04f8a363cbf\")>,\n",
       " <selenium.webdriver.remote.webelement.WebElement (session=\"ed55c6a4608ba998247dd533af433c0c\", element=\"11dd892f-5806-46ce-8019-13adf79c53d4\")>,\n",
       " <selenium.webdriver.remote.webelement.WebElement (session=\"ed55c6a4608ba998247dd533af433c0c\", element=\"a90cf75a-156b-4b3f-bb96-d2fe1b85f841\")>,\n",
       " <selenium.webdriver.remote.webelement.WebElement (session=\"ed55c6a4608ba998247dd533af433c0c\", element=\"1d6952b4-d082-4128-a54e-1938075f0afc\")>,\n",
       " <selenium.webdriver.remote.webelement.WebElement (session=\"ed55c6a4608ba998247dd533af433c0c\", element=\"9a01409b-572f-4750-9649-846a7c6e8967\")>,\n",
       " <selenium.webdriver.remote.webelement.WebElement (session=\"ed55c6a4608ba998247dd533af433c0c\", element=\"10360da4-b90f-407a-b85f-f470537a7a92\")>,\n",
       " <selenium.webdriver.remote.webelement.WebElement (session=\"ed55c6a4608ba998247dd533af433c0c\", element=\"12590d62-490b-4b27-809e-402dcb1b88c4\")>,\n",
       " <selenium.webdriver.remote.webelement.WebElement (session=\"ed55c6a4608ba998247dd533af433c0c\", element=\"68eae974-e1b6-4415-9b16-86101995750c\")>,\n",
       " <selenium.webdriver.remote.webelement.WebElement (session=\"ed55c6a4608ba998247dd533af433c0c\", element=\"134bf315-299b-473a-90d3-6ca133abe93b\")>,\n",
       " <selenium.webdriver.remote.webelement.WebElement (session=\"ed55c6a4608ba998247dd533af433c0c\", element=\"02cfc61e-1d01-4c16-afcf-d78e22e0fa1a\")>,\n",
       " <selenium.webdriver.remote.webelement.WebElement (session=\"ed55c6a4608ba998247dd533af433c0c\", element=\"144e3d50-c5c2-45c2-8bf0-a40bb66c08eb\")>,\n",
       " <selenium.webdriver.remote.webelement.WebElement (session=\"ed55c6a4608ba998247dd533af433c0c\", element=\"e939d9bf-1e4a-43d7-9c6e-90a47c730162\")>,\n",
       " <selenium.webdriver.remote.webelement.WebElement (session=\"ed55c6a4608ba998247dd533af433c0c\", element=\"15a4c32c-c335-450a-a7d5-a7cfe37bad1b\")>,\n",
       " <selenium.webdriver.remote.webelement.WebElement (session=\"ed55c6a4608ba998247dd533af433c0c\", element=\"ff0bb614-2325-4a73-827d-d00ec8aa5cba\")>,\n",
       " <selenium.webdriver.remote.webelement.WebElement (session=\"ed55c6a4608ba998247dd533af433c0c\", element=\"88ae4578-11da-4205-89b5-ffc170a7c739\")>,\n",
       " <selenium.webdriver.remote.webelement.WebElement (session=\"ed55c6a4608ba998247dd533af433c0c\", element=\"d7ae6ea7-d78a-49ab-b911-75ff9f47f723\")>,\n",
       " <selenium.webdriver.remote.webelement.WebElement (session=\"ed55c6a4608ba998247dd533af433c0c\", element=\"0483d71a-338c-447e-abe0-60f2e131d824\")>,\n",
       " <selenium.webdriver.remote.webelement.WebElement (session=\"ed55c6a4608ba998247dd533af433c0c\", element=\"e352a137-2afd-4663-9275-c12fdabdc0ec\")>,\n",
       " <selenium.webdriver.remote.webelement.WebElement (session=\"ed55c6a4608ba998247dd533af433c0c\", element=\"afbfa2fd-3fcc-49c6-b2a7-1b9c1cd0b02e\")>,\n",
       " <selenium.webdriver.remote.webelement.WebElement (session=\"ed55c6a4608ba998247dd533af433c0c\", element=\"f27cb17c-d46e-4d3d-bd12-4630e7507abc\")>,\n",
       " <selenium.webdriver.remote.webelement.WebElement (session=\"ed55c6a4608ba998247dd533af433c0c\", element=\"9e0565a8-cd31-4148-b667-eb8c07f9aa65\")>,\n",
       " <selenium.webdriver.remote.webelement.WebElement (session=\"ed55c6a4608ba998247dd533af433c0c\", element=\"c5734f27-1e01-417c-a70e-eadb6ed7e778\")>,\n",
       " <selenium.webdriver.remote.webelement.WebElement (session=\"ed55c6a4608ba998247dd533af433c0c\", element=\"0a747afc-9d78-44b5-bf0b-b9e6933d1a07\")>,\n",
       " <selenium.webdriver.remote.webelement.WebElement (session=\"ed55c6a4608ba998247dd533af433c0c\", element=\"59f7b680-f165-47a6-b81e-3f1e7f122d11\")>,\n",
       " <selenium.webdriver.remote.webelement.WebElement (session=\"ed55c6a4608ba998247dd533af433c0c\", element=\"79354dc2-18d8-4910-bbf3-c6a49fd046da\")>,\n",
       " <selenium.webdriver.remote.webelement.WebElement (session=\"ed55c6a4608ba998247dd533af433c0c\", element=\"0f0cc37a-2eca-44e4-b3ed-dee1fa502886\")>,\n",
       " <selenium.webdriver.remote.webelement.WebElement (session=\"ed55c6a4608ba998247dd533af433c0c\", element=\"ee7188b7-4f5b-440c-a56a-3d406a8ce385\")>,\n",
       " <selenium.webdriver.remote.webelement.WebElement (session=\"ed55c6a4608ba998247dd533af433c0c\", element=\"792cecf1-e1ed-47ff-81e1-127315d62d12\")>,\n",
       " <selenium.webdriver.remote.webelement.WebElement (session=\"ed55c6a4608ba998247dd533af433c0c\", element=\"4ea587db-4f69-4da1-8b38-51a173c3a084\")>,\n",
       " <selenium.webdriver.remote.webelement.WebElement (session=\"ed55c6a4608ba998247dd533af433c0c\", element=\"f5e230c7-b7a3-4be8-817e-1fd72e96e33c\")>,\n",
       " <selenium.webdriver.remote.webelement.WebElement (session=\"ed55c6a4608ba998247dd533af433c0c\", element=\"c8a522be-7f5d-48e7-9da1-086203d24b50\")>,\n",
       " <selenium.webdriver.remote.webelement.WebElement (session=\"ed55c6a4608ba998247dd533af433c0c\", element=\"1238537a-1fbd-4132-af71-bcf60163e20c\")>,\n",
       " <selenium.webdriver.remote.webelement.WebElement (session=\"ed55c6a4608ba998247dd533af433c0c\", element=\"adab0652-2ccb-4b3f-97a9-25813f115418\")>,\n",
       " <selenium.webdriver.remote.webelement.WebElement (session=\"ed55c6a4608ba998247dd533af433c0c\", element=\"da6a6430-5593-4b57-959a-d6e1e6559daa\")>,\n",
       " <selenium.webdriver.remote.webelement.WebElement (session=\"ed55c6a4608ba998247dd533af433c0c\", element=\"0704e609-4d68-4b26-acda-92c91c7467d7\")>,\n",
       " <selenium.webdriver.remote.webelement.WebElement (session=\"ed55c6a4608ba998247dd533af433c0c\", element=\"e01353bd-e640-4d1d-a0f9-f33a1458da7e\")>,\n",
       " <selenium.webdriver.remote.webelement.WebElement (session=\"ed55c6a4608ba998247dd533af433c0c\", element=\"51e823f0-3c0a-42da-9085-f7d5faa40659\")>,\n",
       " <selenium.webdriver.remote.webelement.WebElement (session=\"ed55c6a4608ba998247dd533af433c0c\", element=\"f904cfc2-06bb-4309-95b0-7a6aa568ce16\")>,\n",
       " <selenium.webdriver.remote.webelement.WebElement (session=\"ed55c6a4608ba998247dd533af433c0c\", element=\"0452ebb7-a549-4134-ad4b-cc909c403f1d\")>,\n",
       " <selenium.webdriver.remote.webelement.WebElement (session=\"ed55c6a4608ba998247dd533af433c0c\", element=\"65cfd782-b4ff-4e42-ba57-fb6c41db5a92\")>,\n",
       " <selenium.webdriver.remote.webelement.WebElement (session=\"ed55c6a4608ba998247dd533af433c0c\", element=\"4bb50586-9f8f-4ff2-89b4-c56eb3661942\")>,\n",
       " <selenium.webdriver.remote.webelement.WebElement (session=\"ed55c6a4608ba998247dd533af433c0c\", element=\"ffd5ed7d-e34d-42ae-aeec-d16726ebb814\")>,\n",
       " <selenium.webdriver.remote.webelement.WebElement (session=\"ed55c6a4608ba998247dd533af433c0c\", element=\"1f46c324-1a8a-4e1f-99ed-3e06e02ed6ff\")>,\n",
       " <selenium.webdriver.remote.webelement.WebElement (session=\"ed55c6a4608ba998247dd533af433c0c\", element=\"01de9d8f-197a-4b1e-9a70-907853429386\")>,\n",
       " <selenium.webdriver.remote.webelement.WebElement (session=\"ed55c6a4608ba998247dd533af433c0c\", element=\"ca85ae5a-bb8e-4018-ab63-05bc8da68e0d\")>,\n",
       " <selenium.webdriver.remote.webelement.WebElement (session=\"ed55c6a4608ba998247dd533af433c0c\", element=\"294d0b87-e34e-4b93-8ae4-10e5a550652f\")>,\n",
       " <selenium.webdriver.remote.webelement.WebElement (session=\"ed55c6a4608ba998247dd533af433c0c\", element=\"e17fe7e6-c214-4803-989e-9f1d8025a047\")>,\n",
       " <selenium.webdriver.remote.webelement.WebElement (session=\"ed55c6a4608ba998247dd533af433c0c\", element=\"44836138-e281-47cd-b887-fb5c32e2413d\")>,\n",
       " <selenium.webdriver.remote.webelement.WebElement (session=\"ed55c6a4608ba998247dd533af433c0c\", element=\"adde5967-d49a-41a9-8692-8b8f96420ba8\")>,\n",
       " <selenium.webdriver.remote.webelement.WebElement (session=\"ed55c6a4608ba998247dd533af433c0c\", element=\"66ace71f-12d1-435f-9c5a-6016bc9989ae\")>,\n",
       " <selenium.webdriver.remote.webelement.WebElement (session=\"ed55c6a4608ba998247dd533af433c0c\", element=\"dbf47548-b7cd-40f2-b8e5-8210f7d3f8bb\")>,\n",
       " <selenium.webdriver.remote.webelement.WebElement (session=\"ed55c6a4608ba998247dd533af433c0c\", element=\"20c1d71c-e934-4210-b5b7-04ca7603b2df\")>,\n",
       " <selenium.webdriver.remote.webelement.WebElement (session=\"ed55c6a4608ba998247dd533af433c0c\", element=\"f51771d8-1cb8-4329-9749-47912c46b007\")>,\n",
       " <selenium.webdriver.remote.webelement.WebElement (session=\"ed55c6a4608ba998247dd533af433c0c\", element=\"32c5b515-0dae-4adf-a728-6927376aa958\")>,\n",
       " <selenium.webdriver.remote.webelement.WebElement (session=\"ed55c6a4608ba998247dd533af433c0c\", element=\"10bbfa52-2829-476f-928a-fe1f0d27a550\")>,\n",
       " <selenium.webdriver.remote.webelement.WebElement (session=\"ed55c6a4608ba998247dd533af433c0c\", element=\"b700b79e-19cc-4eb2-9a45-f4215a559106\")>,\n",
       " <selenium.webdriver.remote.webelement.WebElement (session=\"ed55c6a4608ba998247dd533af433c0c\", element=\"ad572d4e-47e5-4ad1-879c-42b969454739\")>,\n",
       " <selenium.webdriver.remote.webelement.WebElement (session=\"ed55c6a4608ba998247dd533af433c0c\", element=\"aafede71-619d-4c8d-a7fc-f1575f76d7f8\")>,\n",
       " <selenium.webdriver.remote.webelement.WebElement (session=\"ed55c6a4608ba998247dd533af433c0c\", element=\"7540cd9b-e5e9-4849-9bbc-dbf1275d8af4\")>,\n",
       " <selenium.webdriver.remote.webelement.WebElement (session=\"ed55c6a4608ba998247dd533af433c0c\", element=\"0e8e4dfe-6e5c-4d81-b443-842828f98ad8\")>]"
      ]
     },
     "execution_count": 49,
     "metadata": {},
     "output_type": "execute_result"
    }
   ],
   "source": [
    "header2=browser.find_elements(\"xpath\",\"//div[@class='td-wrap-in']\")\n",
    "header2"
   ]
  },
  {
   "cell_type": "code",
   "execution_count": 50,
   "id": "c73c0c70",
   "metadata": {},
   "outputs": [
    {
     "data": {
      "text/plain": [
       "['85.1', '87.9', '47.2', '87.3', '100', '82.9', '63.6', '97.7', '95.3']"
      ]
     },
     "execution_count": 50,
     "metadata": {},
     "output_type": "execute_result"
    }
   ],
   "source": [
    "#PARSING DATA\n",
    "value_head=[]\n",
    "for data in header2:\n",
    "    #get the text data\n",
    "    temp=data.text\n",
    "    value_head.append(temp)\n",
    "value_head=value_head[31:40]\n",
    "value_head\n"
   ]
  },
  {
   "cell_type": "code",
   "execution_count": 51,
   "id": "27776f1c",
   "metadata": {},
   "outputs": [
    {
     "data": {
      "text/plain": [
       "{'Overall Score': '85.1',\n",
       " 'Academic Reputation': '87.9',\n",
       " 'Employer Reputation': '47.2',\n",
       " 'Citations per Faculty': '87.3',\n",
       " 'Faculty Student Ratio': '100',\n",
       " 'International Students Ratio': '82.9',\n",
       " 'International Faculty Ratio': '63.6',\n",
       " 'International Research Network\\nUnweighted': '97.7',\n",
       " 'Employment Outcomes\\nUnweighted': '95.3'}"
      ]
     },
     "execution_count": 51,
     "metadata": {},
     "output_type": "execute_result"
    }
   ],
   "source": [
    "d={}\n",
    "for i in range(len(column_head)):\n",
    "    d[column_head[i]]=value_head[i]\n",
    "d\n"
   ]
  },
  {
   "cell_type": "code",
   "execution_count": 52,
   "id": "4c5e32c8",
   "metadata": {},
   "outputs": [
    {
     "data": {
      "text/plain": [
       "'{\"Overall Score\": \"85.1\", \"Academic Reputation\": \"87.9\", \"Employer Reputation\": \"47.2\", \"Citations per Faculty\": \"87.3\", \"Faculty Student Ratio\": \"100\", \"International Students Ratio\": \"82.9\", \"International Faculty Ratio\": \"63.6\", \"International Research Network\\\\nUnweighted\": \"97.7\", \"Employment Outcomes\\\\nUnweighted\": \"95.3\"}'"
      ]
     },
     "execution_count": 52,
     "metadata": {},
     "output_type": "execute_result"
    }
   ],
   "source": [
    "\n",
    "s1=json.dumps(d)\n",
    "s1"
   ]
  },
  {
   "cell_type": "code",
   "execution_count": null,
   "id": "e3e6b49b",
   "metadata": {},
   "outputs": [],
   "source": [
    "with open('University of Oxford.json','w') as f:\n",
    "    json.dump(d,f)\n"
   ]
  }
 ],
 "metadata": {
  "kernelspec": {
   "display_name": "Python 3 (ipykernel)",
   "language": "python",
   "name": "python3"
  },
  "language_info": {
   "codemirror_mode": {
    "name": "ipython",
    "version": 3
   },
   "file_extension": ".py",
   "mimetype": "text/x-python",
   "name": "python",
   "nbconvert_exporter": "python",
   "pygments_lexer": "ipython3",
   "version": "3.9.12"
  }
 },
 "nbformat": 4,
 "nbformat_minor": 5
}
