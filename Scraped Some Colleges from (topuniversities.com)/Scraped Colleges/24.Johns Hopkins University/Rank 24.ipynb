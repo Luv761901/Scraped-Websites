{
 "cells": [
  {
   "cell_type": "code",
   "execution_count": 17,
   "id": "5a10c9ed",
   "metadata": {},
   "outputs": [],
   "source": [
    "from selenium import webdriver\n",
    "from selenium.webdriver.chrome.service import Service\n",
    "import pandas as pd\n",
    "import json"
   ]
  },
  {
   "cell_type": "code",
   "execution_count": 18,
   "id": "0acca88f",
   "metadata": {},
   "outputs": [],
   "source": [
    "path = Service('C:\\chromedriver.exe')"
   ]
  },
  {
   "cell_type": "code",
   "execution_count": 19,
   "id": "c7249981",
   "metadata": {},
   "outputs": [],
   "source": [
    "# set path for the driver\n",
    "browser = webdriver.Chrome(service = path)"
   ]
  },
  {
   "cell_type": "code",
   "execution_count": 20,
   "id": "e5e1324e",
   "metadata": {},
   "outputs": [],
   "source": [
    "url = \"https://www.topuniversities.com/university-rankings/world-university-rankings/2023\""
   ]
  },
  {
   "cell_type": "code",
   "execution_count": 21,
   "id": "8f9cb9fa",
   "metadata": {},
   "outputs": [],
   "source": [
    "# open the page url ion chrome\n",
    "browser.get(url)"
   ]
  },
  {
   "cell_type": "code",
   "execution_count": 22,
   "id": "84ab5b50",
   "metadata": {},
   "outputs": [
    {
     "data": {
      "text/plain": [
       "[<selenium.webdriver.remote.webelement.WebElement (session=\"d02f73b0b1d962fa6f0d5766ec5f8f4e\", element=\"8b21272a-f2f5-47a6-9c44-41129a59202f\")>,\n",
       " <selenium.webdriver.remote.webelement.WebElement (session=\"d02f73b0b1d962fa6f0d5766ec5f8f4e\", element=\"5f5574a8-8432-4030-bb30-2b3af03952f5\")>,\n",
       " <selenium.webdriver.remote.webelement.WebElement (session=\"d02f73b0b1d962fa6f0d5766ec5f8f4e\", element=\"c269d138-ddc9-4f93-843c-c9580d68e30e\")>,\n",
       " <selenium.webdriver.remote.webelement.WebElement (session=\"d02f73b0b1d962fa6f0d5766ec5f8f4e\", element=\"cf8e91aa-259b-4c28-ac11-0832bbfdc8a5\")>,\n",
       " <selenium.webdriver.remote.webelement.WebElement (session=\"d02f73b0b1d962fa6f0d5766ec5f8f4e\", element=\"bb78035a-8fbb-4b33-8299-926eab48fa80\")>,\n",
       " <selenium.webdriver.remote.webelement.WebElement (session=\"d02f73b0b1d962fa6f0d5766ec5f8f4e\", element=\"6d88e4cd-2bb7-420f-9d71-a651e79dc1d2\")>,\n",
       " <selenium.webdriver.remote.webelement.WebElement (session=\"d02f73b0b1d962fa6f0d5766ec5f8f4e\", element=\"a27ba231-9268-45b8-8342-76d47c067bb1\")>,\n",
       " <selenium.webdriver.remote.webelement.WebElement (session=\"d02f73b0b1d962fa6f0d5766ec5f8f4e\", element=\"dc4232ce-093b-4627-9fa7-cd71c0c672da\")>,\n",
       " <selenium.webdriver.remote.webelement.WebElement (session=\"d02f73b0b1d962fa6f0d5766ec5f8f4e\", element=\"2f7365de-5ae1-4a78-a419-77cf93f2451d\")>,\n",
       " <selenium.webdriver.remote.webelement.WebElement (session=\"d02f73b0b1d962fa6f0d5766ec5f8f4e\", element=\"5732f408-35cc-4071-b733-90a347ef6ee7\")>,\n",
       " <selenium.webdriver.remote.webelement.WebElement (session=\"d02f73b0b1d962fa6f0d5766ec5f8f4e\", element=\"4c681c9e-9e7d-4829-ada1-c903d1d4525f\")>,\n",
       " <selenium.webdriver.remote.webelement.WebElement (session=\"d02f73b0b1d962fa6f0d5766ec5f8f4e\", element=\"49bc602b-ef5f-49f3-947d-e38b91ae03e9\")>,\n",
       " <selenium.webdriver.remote.webelement.WebElement (session=\"d02f73b0b1d962fa6f0d5766ec5f8f4e\", element=\"6e9a2191-e25d-401c-8f69-a1f795719e3e\")>,\n",
       " <selenium.webdriver.remote.webelement.WebElement (session=\"d02f73b0b1d962fa6f0d5766ec5f8f4e\", element=\"5eea1810-3ac2-4bf6-bf34-5464e5a77755\")>,\n",
       " <selenium.webdriver.remote.webelement.WebElement (session=\"d02f73b0b1d962fa6f0d5766ec5f8f4e\", element=\"d826a75a-917d-4788-a2c8-67f56a5e1dfd\")>,\n",
       " <selenium.webdriver.remote.webelement.WebElement (session=\"d02f73b0b1d962fa6f0d5766ec5f8f4e\", element=\"36225097-30e8-4305-8bd3-b736554ed2ae\")>,\n",
       " <selenium.webdriver.remote.webelement.WebElement (session=\"d02f73b0b1d962fa6f0d5766ec5f8f4e\", element=\"e8975a36-4298-408c-93b1-04f626296368\")>,\n",
       " <selenium.webdriver.remote.webelement.WebElement (session=\"d02f73b0b1d962fa6f0d5766ec5f8f4e\", element=\"70fc1be5-8f01-4af8-8c4e-75c388a34337\")>,\n",
       " <selenium.webdriver.remote.webelement.WebElement (session=\"d02f73b0b1d962fa6f0d5766ec5f8f4e\", element=\"fc10726a-3ea7-4a99-be01-9cdf6c2d0f12\")>,\n",
       " <selenium.webdriver.remote.webelement.WebElement (session=\"d02f73b0b1d962fa6f0d5766ec5f8f4e\", element=\"b106f963-e975-45e0-a3dc-74f269144d7a\")>]"
      ]
     },
     "execution_count": 22,
     "metadata": {},
     "output_type": "execute_result"
    }
   ],
   "source": [
    "\n",
    "l1=browser.find_elements(\"xpath\",\"//div[@class='location ']\")\n",
    "l1\n"
   ]
  },
  {
   "cell_type": "code",
   "execution_count": 23,
   "id": "3b8de30b",
   "metadata": {},
   "outputs": [
    {
     "data": {
      "text/plain": [
       "[' Hong Kong SAR',\n",
       " 'New York City, United States',\n",
       " 'Tokyo, Japan',\n",
       " 'Baltimore, United States',\n",
       " 'Ann Arbor, United States',\n",
       " 'Paris, France',\n",
       " 'Berkeley, United States',\n",
       " 'Manchester, United Kingdom',\n",
       " 'Seoul, South Korea',\n",
       " 'Canberra, Australia']"
      ]
     },
     "execution_count": 23,
     "metadata": {},
     "output_type": "execute_result"
    }
   ],
   "source": [
    "loc=[]\n",
    "for data in l1:\n",
    "    #get the text data\n",
    "    temp=data.text\n",
    "    loc.append(temp)\n",
    "loc=loc[10:]\n",
    "loc"
   ]
  },
  {
   "cell_type": "code",
   "execution_count": 24,
   "id": "bb12e7d1",
   "metadata": {},
   "outputs": [
    {
     "data": {
      "text/plain": [
       "[<selenium.webdriver.remote.webelement.WebElement (session=\"d02f73b0b1d962fa6f0d5766ec5f8f4e\", element=\"c702914d-525a-4e1a-95a7-e830dec1532a\")>,\n",
       " <selenium.webdriver.remote.webelement.WebElement (session=\"d02f73b0b1d962fa6f0d5766ec5f8f4e\", element=\"a5854f9e-6ece-4a56-947d-74d09575dded\")>,\n",
       " <selenium.webdriver.remote.webelement.WebElement (session=\"d02f73b0b1d962fa6f0d5766ec5f8f4e\", element=\"0113d97e-11ab-4e4e-9bf1-bc2455ce5f2c\")>,\n",
       " <selenium.webdriver.remote.webelement.WebElement (session=\"d02f73b0b1d962fa6f0d5766ec5f8f4e\", element=\"62ace4d0-a060-4385-a7cd-882fb569646c\")>,\n",
       " <selenium.webdriver.remote.webelement.WebElement (session=\"d02f73b0b1d962fa6f0d5766ec5f8f4e\", element=\"e4d5646a-72f6-41b0-af2d-b5a8955ed794\")>,\n",
       " <selenium.webdriver.remote.webelement.WebElement (session=\"d02f73b0b1d962fa6f0d5766ec5f8f4e\", element=\"fc0f8e2a-2779-4fad-af2a-a9e4a2b8b2c6\")>,\n",
       " <selenium.webdriver.remote.webelement.WebElement (session=\"d02f73b0b1d962fa6f0d5766ec5f8f4e\", element=\"5f4d9095-f49a-4bfd-88f8-0e98d94ae08e\")>,\n",
       " <selenium.webdriver.remote.webelement.WebElement (session=\"d02f73b0b1d962fa6f0d5766ec5f8f4e\", element=\"628c9208-8897-4e7f-aff5-5032a60d0080\")>,\n",
       " <selenium.webdriver.remote.webelement.WebElement (session=\"d02f73b0b1d962fa6f0d5766ec5f8f4e\", element=\"46a45d50-387c-4a3b-a48d-663215ee11ed\")>,\n",
       " <selenium.webdriver.remote.webelement.WebElement (session=\"d02f73b0b1d962fa6f0d5766ec5f8f4e\", element=\"7b08e33c-47bf-4e28-ac1b-61a2fc0d332b\")>]"
      ]
     },
     "execution_count": 24,
     "metadata": {},
     "output_type": "execute_result"
    }
   ],
   "source": [
    "l2=browser.find_elements(\"xpath\",\"//div[@class='_univ-rank ']\")\n",
    "l2"
   ]
  },
  {
   "cell_type": "code",
   "execution_count": 25,
   "id": "1f5b00f6",
   "metadata": {},
   "outputs": [
    {
     "data": {
      "text/plain": [
       "['21', '22', '23', '24', '25', '26', '27', '28', '29', '30']"
      ]
     },
     "execution_count": 25,
     "metadata": {},
     "output_type": "execute_result"
    }
   ],
   "source": [
    "\n",
    "RANK=[]\n",
    "for data in l2:\n",
    "    #get the text data\n",
    "    temp=data.text\n",
    "    RANK.append(temp)\n",
    "RANK"
   ]
  },
  {
   "cell_type": "code",
   "execution_count": 26,
   "id": "a8588882",
   "metadata": {},
   "outputs": [
    {
     "data": {
      "text/plain": [
       "[<selenium.webdriver.remote.webelement.WebElement (session=\"d02f73b0b1d962fa6f0d5766ec5f8f4e\", element=\"b55574b3-2bdd-41bb-9ccf-0402d0892053\")>,\n",
       " <selenium.webdriver.remote.webelement.WebElement (session=\"d02f73b0b1d962fa6f0d5766ec5f8f4e\", element=\"ea68a4c3-c944-48ad-a6fc-4c647612cf7e\")>,\n",
       " <selenium.webdriver.remote.webelement.WebElement (session=\"d02f73b0b1d962fa6f0d5766ec5f8f4e\", element=\"beddb2c4-89e6-4fa8-b9dc-13cb9ffd0755\")>,\n",
       " <selenium.webdriver.remote.webelement.WebElement (session=\"d02f73b0b1d962fa6f0d5766ec5f8f4e\", element=\"ebe03020-7c71-4b9c-b984-08634f83ca40\")>,\n",
       " <selenium.webdriver.remote.webelement.WebElement (session=\"d02f73b0b1d962fa6f0d5766ec5f8f4e\", element=\"9fe567da-42cc-4b3b-8a15-070d0c4cbb52\")>,\n",
       " <selenium.webdriver.remote.webelement.WebElement (session=\"d02f73b0b1d962fa6f0d5766ec5f8f4e\", element=\"c73919d7-77d7-4ba1-abf6-4023e64f83fe\")>,\n",
       " <selenium.webdriver.remote.webelement.WebElement (session=\"d02f73b0b1d962fa6f0d5766ec5f8f4e\", element=\"86d05047-e794-46f1-b4a5-f8d57b6d60e7\")>,\n",
       " <selenium.webdriver.remote.webelement.WebElement (session=\"d02f73b0b1d962fa6f0d5766ec5f8f4e\", element=\"8baee830-efc4-4519-b18b-a34747997abf\")>,\n",
       " <selenium.webdriver.remote.webelement.WebElement (session=\"d02f73b0b1d962fa6f0d5766ec5f8f4e\", element=\"0853039d-f2ef-4261-95ef-09b694238173\")>]"
      ]
     },
     "execution_count": 26,
     "metadata": {},
     "output_type": "execute_result"
    }
   ],
   "source": [
    "# GET EACH COLLEGE SPECIFICATION HEADERS\n",
    "header=browser.find_elements(\"xpath\",\"//div[@class='_click-function_ind']\")\n",
    "header"
   ]
  },
  {
   "cell_type": "code",
   "execution_count": 27,
   "id": "5839ecba",
   "metadata": {},
   "outputs": [
    {
     "data": {
      "text/plain": [
       "['Overall Score',\n",
       " 'Academic Reputation',\n",
       " 'Employer Reputation',\n",
       " 'Citations per Faculty',\n",
       " 'Faculty Student Ratio',\n",
       " 'International Students Ratio',\n",
       " 'International Faculty Ratio',\n",
       " 'International Research Network\\nUnweighted',\n",
       " 'Employment Outcomes\\nUnweighted']"
      ]
     },
     "execution_count": 27,
     "metadata": {},
     "output_type": "execute_result"
    }
   ],
   "source": [
    "#PARSING DATA\n",
    "column_head=[]\n",
    "for data in header:\n",
    "    #get the text data\n",
    "    temp=data.text\n",
    "    column_head.append(temp)\n",
    "column_head"
   ]
  },
  {
   "cell_type": "code",
   "execution_count": 28,
   "id": "d73b7f32",
   "metadata": {},
   "outputs": [
    {
     "data": {
      "text/plain": [
       "[<selenium.webdriver.remote.webelement.WebElement (session=\"d02f73b0b1d962fa6f0d5766ec5f8f4e\", element=\"30be97c6-14b2-47b6-9c8d-179bb58318f8\")>,\n",
       " <selenium.webdriver.remote.webelement.WebElement (session=\"d02f73b0b1d962fa6f0d5766ec5f8f4e\", element=\"1c713bce-1fb4-40be-9d89-a00a634b1e82\")>,\n",
       " <selenium.webdriver.remote.webelement.WebElement (session=\"d02f73b0b1d962fa6f0d5766ec5f8f4e\", element=\"b2f73fdd-cf89-49b5-8f4c-e6dc773b9193\")>,\n",
       " <selenium.webdriver.remote.webelement.WebElement (session=\"d02f73b0b1d962fa6f0d5766ec5f8f4e\", element=\"56114fe6-4066-46fa-84d4-95c2d2235c52\")>,\n",
       " <selenium.webdriver.remote.webelement.WebElement (session=\"d02f73b0b1d962fa6f0d5766ec5f8f4e\", element=\"6343de0b-5b2e-4a6c-89c3-876f9b3e3cc4\")>,\n",
       " <selenium.webdriver.remote.webelement.WebElement (session=\"d02f73b0b1d962fa6f0d5766ec5f8f4e\", element=\"d68ed19d-64b5-485f-8f6f-e90a516abb5f\")>,\n",
       " <selenium.webdriver.remote.webelement.WebElement (session=\"d02f73b0b1d962fa6f0d5766ec5f8f4e\", element=\"2a9c2ebe-9dee-4658-9ce3-769574022353\")>,\n",
       " <selenium.webdriver.remote.webelement.WebElement (session=\"d02f73b0b1d962fa6f0d5766ec5f8f4e\", element=\"a3b456db-abea-4bb0-aea6-d1010fcb5e2e\")>,\n",
       " <selenium.webdriver.remote.webelement.WebElement (session=\"d02f73b0b1d962fa6f0d5766ec5f8f4e\", element=\"b271e839-0722-4dc6-859a-27a83766feb4\")>,\n",
       " <selenium.webdriver.remote.webelement.WebElement (session=\"d02f73b0b1d962fa6f0d5766ec5f8f4e\", element=\"0ff7310d-f6ea-48c2-9298-b05574195fa5\")>,\n",
       " <selenium.webdriver.remote.webelement.WebElement (session=\"d02f73b0b1d962fa6f0d5766ec5f8f4e\", element=\"5db8eaed-b6d5-48d6-9e44-c19c1daef937\")>,\n",
       " <selenium.webdriver.remote.webelement.WebElement (session=\"d02f73b0b1d962fa6f0d5766ec5f8f4e\", element=\"ce73d8aa-ff8f-4fcc-9c63-650a3a0c134f\")>,\n",
       " <selenium.webdriver.remote.webelement.WebElement (session=\"d02f73b0b1d962fa6f0d5766ec5f8f4e\", element=\"ec4312e9-2646-4564-8182-37fde7aa6596\")>,\n",
       " <selenium.webdriver.remote.webelement.WebElement (session=\"d02f73b0b1d962fa6f0d5766ec5f8f4e\", element=\"cbb18a0a-56b5-428c-b48d-84f6344b4c9e\")>,\n",
       " <selenium.webdriver.remote.webelement.WebElement (session=\"d02f73b0b1d962fa6f0d5766ec5f8f4e\", element=\"aced2226-475e-47c8-a54a-8437ce73ee7d\")>,\n",
       " <selenium.webdriver.remote.webelement.WebElement (session=\"d02f73b0b1d962fa6f0d5766ec5f8f4e\", element=\"53f06818-9fdb-4ac2-abdf-22070a156499\")>,\n",
       " <selenium.webdriver.remote.webelement.WebElement (session=\"d02f73b0b1d962fa6f0d5766ec5f8f4e\", element=\"7296574a-d3d9-4ff9-bf1f-d6df7ff85622\")>,\n",
       " <selenium.webdriver.remote.webelement.WebElement (session=\"d02f73b0b1d962fa6f0d5766ec5f8f4e\", element=\"08744a9d-a89a-4e79-8316-3197d0d54f43\")>,\n",
       " <selenium.webdriver.remote.webelement.WebElement (session=\"d02f73b0b1d962fa6f0d5766ec5f8f4e\", element=\"e9023edc-dc63-4b75-8e20-a8bcff2c2f80\")>,\n",
       " <selenium.webdriver.remote.webelement.WebElement (session=\"d02f73b0b1d962fa6f0d5766ec5f8f4e\", element=\"456ddf0c-f8c2-4dec-bdc4-088e7506fc07\")>,\n",
       " <selenium.webdriver.remote.webelement.WebElement (session=\"d02f73b0b1d962fa6f0d5766ec5f8f4e\", element=\"cda40a6d-be92-4658-b7fd-908e947caa17\")>,\n",
       " <selenium.webdriver.remote.webelement.WebElement (session=\"d02f73b0b1d962fa6f0d5766ec5f8f4e\", element=\"5f545b2f-8463-49ec-9bbd-0e26907f7746\")>,\n",
       " <selenium.webdriver.remote.webelement.WebElement (session=\"d02f73b0b1d962fa6f0d5766ec5f8f4e\", element=\"7648cd39-c74a-40db-81cf-9686c5ebbd58\")>,\n",
       " <selenium.webdriver.remote.webelement.WebElement (session=\"d02f73b0b1d962fa6f0d5766ec5f8f4e\", element=\"f4cb3d61-1d5e-4139-bd65-9136383db64b\")>,\n",
       " <selenium.webdriver.remote.webelement.WebElement (session=\"d02f73b0b1d962fa6f0d5766ec5f8f4e\", element=\"4952512c-8d42-47ec-86b0-9c519da8abd8\")>,\n",
       " <selenium.webdriver.remote.webelement.WebElement (session=\"d02f73b0b1d962fa6f0d5766ec5f8f4e\", element=\"5549823d-c05e-40ac-b6a0-02fcde6d6ae4\")>,\n",
       " <selenium.webdriver.remote.webelement.WebElement (session=\"d02f73b0b1d962fa6f0d5766ec5f8f4e\", element=\"da86bbcc-e30f-4b2c-b9bc-9266c8323205\")>,\n",
       " <selenium.webdriver.remote.webelement.WebElement (session=\"d02f73b0b1d962fa6f0d5766ec5f8f4e\", element=\"324075ab-79bb-4651-93f1-bf7a1017321a\")>,\n",
       " <selenium.webdriver.remote.webelement.WebElement (session=\"d02f73b0b1d962fa6f0d5766ec5f8f4e\", element=\"9c0a601c-95ce-41f6-91e2-b14331605437\")>,\n",
       " <selenium.webdriver.remote.webelement.WebElement (session=\"d02f73b0b1d962fa6f0d5766ec5f8f4e\", element=\"cb52c245-ef60-46e6-8dde-5d252bb21832\")>,\n",
       " <selenium.webdriver.remote.webelement.WebElement (session=\"d02f73b0b1d962fa6f0d5766ec5f8f4e\", element=\"672f2b64-9f2a-4284-b1cf-714a4d374612\")>,\n",
       " <selenium.webdriver.remote.webelement.WebElement (session=\"d02f73b0b1d962fa6f0d5766ec5f8f4e\", element=\"fd32c9fa-4baf-454c-b3d7-961b76e1b195\")>,\n",
       " <selenium.webdriver.remote.webelement.WebElement (session=\"d02f73b0b1d962fa6f0d5766ec5f8f4e\", element=\"e96ce34e-2f09-4f3b-81cd-f0989babcba2\")>,\n",
       " <selenium.webdriver.remote.webelement.WebElement (session=\"d02f73b0b1d962fa6f0d5766ec5f8f4e\", element=\"71cd9ed5-01e9-41dd-a064-0376e5fe4509\")>,\n",
       " <selenium.webdriver.remote.webelement.WebElement (session=\"d02f73b0b1d962fa6f0d5766ec5f8f4e\", element=\"e61a60f8-c0f0-4921-a7ba-277b9918611c\")>,\n",
       " <selenium.webdriver.remote.webelement.WebElement (session=\"d02f73b0b1d962fa6f0d5766ec5f8f4e\", element=\"0d01f00e-3858-48e8-b5e5-810ce35da561\")>,\n",
       " <selenium.webdriver.remote.webelement.WebElement (session=\"d02f73b0b1d962fa6f0d5766ec5f8f4e\", element=\"b99dcf2c-080f-4d8c-819e-c3bf7ed734c0\")>,\n",
       " <selenium.webdriver.remote.webelement.WebElement (session=\"d02f73b0b1d962fa6f0d5766ec5f8f4e\", element=\"197a2f4d-6b82-469b-8fe8-38eb078f742e\")>,\n",
       " <selenium.webdriver.remote.webelement.WebElement (session=\"d02f73b0b1d962fa6f0d5766ec5f8f4e\", element=\"c845b23a-6607-4998-9ac0-b74457fd7d4f\")>,\n",
       " <selenium.webdriver.remote.webelement.WebElement (session=\"d02f73b0b1d962fa6f0d5766ec5f8f4e\", element=\"e4fc8773-cc11-46bc-8808-5f8ce99568b2\")>,\n",
       " <selenium.webdriver.remote.webelement.WebElement (session=\"d02f73b0b1d962fa6f0d5766ec5f8f4e\", element=\"4fb959f6-548f-48f4-9a71-bb55f305d26e\")>,\n",
       " <selenium.webdriver.remote.webelement.WebElement (session=\"d02f73b0b1d962fa6f0d5766ec5f8f4e\", element=\"8e1a5f62-944f-4ca4-94cf-3aee4d6ae127\")>,\n",
       " <selenium.webdriver.remote.webelement.WebElement (session=\"d02f73b0b1d962fa6f0d5766ec5f8f4e\", element=\"74aaeb07-6042-4117-9672-28f1ff838323\")>,\n",
       " <selenium.webdriver.remote.webelement.WebElement (session=\"d02f73b0b1d962fa6f0d5766ec5f8f4e\", element=\"3b17f465-1e3f-4329-8b4b-5232c235fc45\")>,\n",
       " <selenium.webdriver.remote.webelement.WebElement (session=\"d02f73b0b1d962fa6f0d5766ec5f8f4e\", element=\"37a1fddd-1e4c-4ca2-8e60-0c980741e4ed\")>,\n",
       " <selenium.webdriver.remote.webelement.WebElement (session=\"d02f73b0b1d962fa6f0d5766ec5f8f4e\", element=\"97af507e-309d-45e5-91c8-ad84a1702775\")>,\n",
       " <selenium.webdriver.remote.webelement.WebElement (session=\"d02f73b0b1d962fa6f0d5766ec5f8f4e\", element=\"9ecc8296-7deb-406a-82ee-222d9097ecf6\")>,\n",
       " <selenium.webdriver.remote.webelement.WebElement (session=\"d02f73b0b1d962fa6f0d5766ec5f8f4e\", element=\"20cd14c9-b7d6-4f26-922d-be28358718b2\")>,\n",
       " <selenium.webdriver.remote.webelement.WebElement (session=\"d02f73b0b1d962fa6f0d5766ec5f8f4e\", element=\"5e8bb2da-71d9-4f4c-b0d1-75485d4c5762\")>,\n",
       " <selenium.webdriver.remote.webelement.WebElement (session=\"d02f73b0b1d962fa6f0d5766ec5f8f4e\", element=\"4113d1d0-077a-4617-a709-1e5c6651ec27\")>,\n",
       " <selenium.webdriver.remote.webelement.WebElement (session=\"d02f73b0b1d962fa6f0d5766ec5f8f4e\", element=\"2c29f597-cd3e-4de8-9130-0884f4be8711\")>,\n",
       " <selenium.webdriver.remote.webelement.WebElement (session=\"d02f73b0b1d962fa6f0d5766ec5f8f4e\", element=\"27968884-028c-4f17-833f-20ecd23b0ca6\")>,\n",
       " <selenium.webdriver.remote.webelement.WebElement (session=\"d02f73b0b1d962fa6f0d5766ec5f8f4e\", element=\"3d518796-2661-4b65-b061-7f7f1ed905cd\")>,\n",
       " <selenium.webdriver.remote.webelement.WebElement (session=\"d02f73b0b1d962fa6f0d5766ec5f8f4e\", element=\"6e841ee9-e26b-4da1-b28c-7048c3148d14\")>,\n",
       " <selenium.webdriver.remote.webelement.WebElement (session=\"d02f73b0b1d962fa6f0d5766ec5f8f4e\", element=\"76d93f92-0e98-44b9-b735-be6830a4251d\")>,\n",
       " <selenium.webdriver.remote.webelement.WebElement (session=\"d02f73b0b1d962fa6f0d5766ec5f8f4e\", element=\"07513abe-032b-402e-8e3a-0ab78394d493\")>,\n",
       " <selenium.webdriver.remote.webelement.WebElement (session=\"d02f73b0b1d962fa6f0d5766ec5f8f4e\", element=\"84d4816b-1f43-4649-87fe-f0822eac484e\")>,\n",
       " <selenium.webdriver.remote.webelement.WebElement (session=\"d02f73b0b1d962fa6f0d5766ec5f8f4e\", element=\"a1817a45-b8fe-44b0-b8aa-7c89c042b502\")>,\n",
       " <selenium.webdriver.remote.webelement.WebElement (session=\"d02f73b0b1d962fa6f0d5766ec5f8f4e\", element=\"0da8769e-5717-45d2-99be-bf94a435da1e\")>,\n",
       " <selenium.webdriver.remote.webelement.WebElement (session=\"d02f73b0b1d962fa6f0d5766ec5f8f4e\", element=\"b8ef911c-2232-4ee6-a4bb-f32662fda7fc\")>,\n",
       " <selenium.webdriver.remote.webelement.WebElement (session=\"d02f73b0b1d962fa6f0d5766ec5f8f4e\", element=\"f23affc5-c62c-46c0-aaff-f2422baaaadf\")>,\n",
       " <selenium.webdriver.remote.webelement.WebElement (session=\"d02f73b0b1d962fa6f0d5766ec5f8f4e\", element=\"94bc4cc4-074e-4f96-90e4-a5fcdb5d87ba\")>,\n",
       " <selenium.webdriver.remote.webelement.WebElement (session=\"d02f73b0b1d962fa6f0d5766ec5f8f4e\", element=\"8849b3b9-a9bd-4e77-851c-6da2c2cd7d03\")>,\n",
       " <selenium.webdriver.remote.webelement.WebElement (session=\"d02f73b0b1d962fa6f0d5766ec5f8f4e\", element=\"4e36018d-6279-4209-b038-4ca3ce564d20\")>,\n",
       " <selenium.webdriver.remote.webelement.WebElement (session=\"d02f73b0b1d962fa6f0d5766ec5f8f4e\", element=\"66749876-56f9-46ae-85dd-895f4d538fd7\")>,\n",
       " <selenium.webdriver.remote.webelement.WebElement (session=\"d02f73b0b1d962fa6f0d5766ec5f8f4e\", element=\"6ddf0e10-1a9b-4a5c-ad11-0eaecb9b29ea\")>,\n",
       " <selenium.webdriver.remote.webelement.WebElement (session=\"d02f73b0b1d962fa6f0d5766ec5f8f4e\", element=\"1901c922-a06c-4e71-ab7b-61743c8f233c\")>,\n",
       " <selenium.webdriver.remote.webelement.WebElement (session=\"d02f73b0b1d962fa6f0d5766ec5f8f4e\", element=\"9ae2fb86-c4ff-4c0c-93fc-655c9eb2f4dd\")>,\n",
       " <selenium.webdriver.remote.webelement.WebElement (session=\"d02f73b0b1d962fa6f0d5766ec5f8f4e\", element=\"4ce51a9c-e8a9-402d-ae25-5a6c7fac3a0e\")>,\n",
       " <selenium.webdriver.remote.webelement.WebElement (session=\"d02f73b0b1d962fa6f0d5766ec5f8f4e\", element=\"45975ea9-7e3a-40c8-b000-739aa62be886\")>,\n",
       " <selenium.webdriver.remote.webelement.WebElement (session=\"d02f73b0b1d962fa6f0d5766ec5f8f4e\", element=\"53e5b6ea-0278-4586-9f09-b9630c6ba7c8\")>,\n",
       " <selenium.webdriver.remote.webelement.WebElement (session=\"d02f73b0b1d962fa6f0d5766ec5f8f4e\", element=\"3be2ae6f-ef34-4a3d-92c7-370db3e03510\")>,\n",
       " <selenium.webdriver.remote.webelement.WebElement (session=\"d02f73b0b1d962fa6f0d5766ec5f8f4e\", element=\"ef1d1f45-7468-4361-995f-ce954faa33b2\")>,\n",
       " <selenium.webdriver.remote.webelement.WebElement (session=\"d02f73b0b1d962fa6f0d5766ec5f8f4e\", element=\"95febeaa-5d53-447f-8c08-50534537034c\")>,\n",
       " <selenium.webdriver.remote.webelement.WebElement (session=\"d02f73b0b1d962fa6f0d5766ec5f8f4e\", element=\"14e1a5a2-9ccc-4dd5-8b59-0083144b83bb\")>,\n",
       " <selenium.webdriver.remote.webelement.WebElement (session=\"d02f73b0b1d962fa6f0d5766ec5f8f4e\", element=\"a5a2d536-98ae-49b9-8cda-75c410ff234a\")>,\n",
       " <selenium.webdriver.remote.webelement.WebElement (session=\"d02f73b0b1d962fa6f0d5766ec5f8f4e\", element=\"e5e1a81d-7be6-4fbe-85cd-769133d3de0f\")>,\n",
       " <selenium.webdriver.remote.webelement.WebElement (session=\"d02f73b0b1d962fa6f0d5766ec5f8f4e\", element=\"5542a7f3-da43-4928-80d3-c156883a54ce\")>,\n",
       " <selenium.webdriver.remote.webelement.WebElement (session=\"d02f73b0b1d962fa6f0d5766ec5f8f4e\", element=\"647ced31-eb34-4448-ad81-83d292b0d50d\")>,\n",
       " <selenium.webdriver.remote.webelement.WebElement (session=\"d02f73b0b1d962fa6f0d5766ec5f8f4e\", element=\"9e698f00-fa4c-41cd-ab23-7979732e58e3\")>,\n",
       " <selenium.webdriver.remote.webelement.WebElement (session=\"d02f73b0b1d962fa6f0d5766ec5f8f4e\", element=\"361a3dbe-7c1a-4fb5-8916-4fa2f2e7a1b5\")>,\n",
       " <selenium.webdriver.remote.webelement.WebElement (session=\"d02f73b0b1d962fa6f0d5766ec5f8f4e\", element=\"09b7f5ae-8999-4820-a0df-6698a5e04540\")>,\n",
       " <selenium.webdriver.remote.webelement.WebElement (session=\"d02f73b0b1d962fa6f0d5766ec5f8f4e\", element=\"ac6b6cc2-8eb9-490b-9294-97dc56051409\")>,\n",
       " <selenium.webdriver.remote.webelement.WebElement (session=\"d02f73b0b1d962fa6f0d5766ec5f8f4e\", element=\"6a462e9c-e5db-4624-80dd-8ed2f76652fc\")>,\n",
       " <selenium.webdriver.remote.webelement.WebElement (session=\"d02f73b0b1d962fa6f0d5766ec5f8f4e\", element=\"67986e0f-2fa4-42e6-8029-07de1b238b53\")>,\n",
       " <selenium.webdriver.remote.webelement.WebElement (session=\"d02f73b0b1d962fa6f0d5766ec5f8f4e\", element=\"e2cf796b-1129-4bc4-a8cf-324704a2a656\")>,\n",
       " <selenium.webdriver.remote.webelement.WebElement (session=\"d02f73b0b1d962fa6f0d5766ec5f8f4e\", element=\"df8d8d63-1ff9-48d5-8ce5-d7f75f9451ef\")>,\n",
       " <selenium.webdriver.remote.webelement.WebElement (session=\"d02f73b0b1d962fa6f0d5766ec5f8f4e\", element=\"0ff8b071-c7a5-4d99-8b97-eb606d6b6b5b\")>,\n",
       " <selenium.webdriver.remote.webelement.WebElement (session=\"d02f73b0b1d962fa6f0d5766ec5f8f4e\", element=\"fda7f8f7-7433-4161-b0e8-233b68de1dd9\")>,\n",
       " <selenium.webdriver.remote.webelement.WebElement (session=\"d02f73b0b1d962fa6f0d5766ec5f8f4e\", element=\"1f8a1662-3789-4dc0-bee7-43892f79fc16\")>,\n",
       " <selenium.webdriver.remote.webelement.WebElement (session=\"d02f73b0b1d962fa6f0d5766ec5f8f4e\", element=\"95bba449-343e-4343-ab48-f80a2a026365\")>,\n",
       " <selenium.webdriver.remote.webelement.WebElement (session=\"d02f73b0b1d962fa6f0d5766ec5f8f4e\", element=\"03150845-3181-4d66-a627-6653caf4fd4e\")>,\n",
       " <selenium.webdriver.remote.webelement.WebElement (session=\"d02f73b0b1d962fa6f0d5766ec5f8f4e\", element=\"3c0363b1-49c2-4b35-992d-05a5675e7fc3\")>,\n",
       " <selenium.webdriver.remote.webelement.WebElement (session=\"d02f73b0b1d962fa6f0d5766ec5f8f4e\", element=\"852649c4-ae47-4778-b999-441726c1d5e1\")>,\n",
       " <selenium.webdriver.remote.webelement.WebElement (session=\"d02f73b0b1d962fa6f0d5766ec5f8f4e\", element=\"377606ef-5c62-4fed-8231-51b9119c891e\")>,\n",
       " <selenium.webdriver.remote.webelement.WebElement (session=\"d02f73b0b1d962fa6f0d5766ec5f8f4e\", element=\"c311007e-e932-4994-9b1d-73f847bbc1f3\")>,\n",
       " <selenium.webdriver.remote.webelement.WebElement (session=\"d02f73b0b1d962fa6f0d5766ec5f8f4e\", element=\"e0bfac46-de20-4702-ab61-ffbd1fbc58f4\")>,\n",
       " <selenium.webdriver.remote.webelement.WebElement (session=\"d02f73b0b1d962fa6f0d5766ec5f8f4e\", element=\"74d1536b-c53d-4da7-b207-e2cf64fc1023\")>,\n",
       " <selenium.webdriver.remote.webelement.WebElement (session=\"d02f73b0b1d962fa6f0d5766ec5f8f4e\", element=\"9c6d4a1f-3f11-4ee5-a653-b7bb7e2f2b02\")>,\n",
       " <selenium.webdriver.remote.webelement.WebElement (session=\"d02f73b0b1d962fa6f0d5766ec5f8f4e\", element=\"241d0ffd-cf7d-4c25-be2c-4e7b1de35cac\")>]"
      ]
     },
     "execution_count": 28,
     "metadata": {},
     "output_type": "execute_result"
    }
   ],
   "source": [
    "header2=browser.find_elements(\"xpath\",\"//div[@class='td-wrap-in']\")\n",
    "header2"
   ]
  },
  {
   "cell_type": "code",
   "execution_count": 29,
   "id": "c73c0c70",
   "metadata": {},
   "outputs": [
    {
     "data": {
      "text/plain": [
       "['85.1', '87.9', '47.2', '87.3', '100', '82.9', '63.6', '97.7', '95.3']"
      ]
     },
     "execution_count": 29,
     "metadata": {},
     "output_type": "execute_result"
    }
   ],
   "source": [
    "#PARSING DATA\n",
    "value_head=[]\n",
    "for data in header2:\n",
    "    #get the text data\n",
    "    temp=data.text\n",
    "    value_head.append(temp)\n",
    "value=value_head[31:40]\n",
    "value\n"
   ]
  },
  {
   "cell_type": "code",
   "execution_count": 30,
   "id": "27776f1c",
   "metadata": {},
   "outputs": [
    {
     "data": {
      "text/plain": [
       "{'Name': 'Johns Hopkins University',\n",
       " 'Location': 'Baltimore, United States',\n",
       " 'Rank': '24',\n",
       " 'Overall Score': '85.1',\n",
       " 'Academic Reputation': '87.9',\n",
       " 'Employer Reputation': '47.2',\n",
       " 'Citations per Faculty': '87.3',\n",
       " 'Faculty Student Ratio': '100',\n",
       " 'International Students Ratio': '82.9',\n",
       " 'International Faculty Ratio': '63.6',\n",
       " 'International Research Network\\nUnweighted': '97.7',\n",
       " 'Employment Outcomes\\nUnweighted': '95.3'}"
      ]
     },
     "execution_count": 30,
     "metadata": {},
     "output_type": "execute_result"
    }
   ],
   "source": [
    "d={}\n",
    "d['Name']=value_head[30]\n",
    "d['Location']=loc[3]\n",
    "d['Rank']=RANK[3]\n",
    "\n",
    "\n",
    "for i in range(len(column_head)):\n",
    "    d[column_head[i]]=value[i]\n",
    "d\n"
   ]
  },
  {
   "cell_type": "code",
   "execution_count": 31,
   "id": "4c5e32c8",
   "metadata": {},
   "outputs": [
    {
     "data": {
      "text/plain": [
       "'{\"Name\": \"Johns Hopkins University\", \"Location\": \"Baltimore, United States\", \"Rank\": \"24\", \"Overall Score\": \"85.1\", \"Academic Reputation\": \"87.9\", \"Employer Reputation\": \"47.2\", \"Citations per Faculty\": \"87.3\", \"Faculty Student Ratio\": \"100\", \"International Students Ratio\": \"82.9\", \"International Faculty Ratio\": \"63.6\", \"International Research Network\\\\nUnweighted\": \"97.7\", \"Employment Outcomes\\\\nUnweighted\": \"95.3\"}'"
      ]
     },
     "execution_count": 31,
     "metadata": {},
     "output_type": "execute_result"
    }
   ],
   "source": [
    "\n",
    "s1=json.dumps(d)\n",
    "s1"
   ]
  },
  {
   "cell_type": "code",
   "execution_count": 32,
   "id": "e3e6b49b",
   "metadata": {},
   "outputs": [],
   "source": [
    "with open('Johns Hopkins University.json','w') as f:\n",
    "    json.dump(d,f)\n"
   ]
  },
  {
   "cell_type": "code",
   "execution_count": null,
   "id": "eea0e612",
   "metadata": {},
   "outputs": [],
   "source": []
  }
 ],
 "metadata": {
  "kernelspec": {
   "display_name": "Python 3 (ipykernel)",
   "language": "python",
   "name": "python3"
  },
  "language_info": {
   "codemirror_mode": {
    "name": "ipython",
    "version": 3
   },
   "file_extension": ".py",
   "mimetype": "text/x-python",
   "name": "python",
   "nbconvert_exporter": "python",
   "pygments_lexer": "ipython3",
   "version": "3.9.12"
  }
 },
 "nbformat": 4,
 "nbformat_minor": 5
}
