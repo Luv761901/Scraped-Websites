{
 "cells": [
  {
   "cell_type": "code",
   "execution_count": 1,
   "id": "6a067a10",
   "metadata": {},
   "outputs": [],
   "source": [
    "from selenium import webdriver\n",
    "from selenium.webdriver.chrome.service import Service\n",
    "import pandas as pd\n",
    "import json"
   ]
  },
  {
   "cell_type": "code",
   "execution_count": 2,
   "id": "9dba5d52",
   "metadata": {},
   "outputs": [],
   "source": [
    "path = Service('C:\\chromedriver.exe')\n"
   ]
  },
  {
   "cell_type": "code",
   "execution_count": 3,
   "id": "31d50a42",
   "metadata": {},
   "outputs": [],
   "source": [
    "# set path for the driver\n",
    "browser = webdriver.Chrome(service = path)"
   ]
  },
  {
   "cell_type": "code",
   "execution_count": 4,
   "id": "12a84afa",
   "metadata": {},
   "outputs": [],
   "source": [
    "url = \"https://www.topuniversities.com/university-rankings/world-university-rankings/2023\""
   ]
  },
  {
   "cell_type": "code",
   "execution_count": 5,
   "id": "75e371c3",
   "metadata": {},
   "outputs": [],
   "source": [
    "# open the page url ion chrome\n",
    "browser.get(url)"
   ]
  },
  {
   "cell_type": "code",
   "execution_count": 6,
   "id": "a3a79950",
   "metadata": {},
   "outputs": [
    {
     "data": {
      "text/plain": [
       "[<selenium.webdriver.remote.webelement.WebElement (session=\"87c8f240d004f259074827a313eaa158\", element=\"07bf2e67-3d0f-464e-904d-2a56a057ffdb\")>,\n",
       " <selenium.webdriver.remote.webelement.WebElement (session=\"87c8f240d004f259074827a313eaa158\", element=\"d82fe462-def1-4194-91f3-69cdd6fbea03\")>,\n",
       " <selenium.webdriver.remote.webelement.WebElement (session=\"87c8f240d004f259074827a313eaa158\", element=\"d9812187-3a48-413f-8e5b-156544e6913d\")>,\n",
       " <selenium.webdriver.remote.webelement.WebElement (session=\"87c8f240d004f259074827a313eaa158\", element=\"ff7942b2-7d6f-4362-81ad-a6476f556eb8\")>,\n",
       " <selenium.webdriver.remote.webelement.WebElement (session=\"87c8f240d004f259074827a313eaa158\", element=\"98234991-7c83-4c4f-b55b-3acac5bfc242\")>,\n",
       " <selenium.webdriver.remote.webelement.WebElement (session=\"87c8f240d004f259074827a313eaa158\", element=\"0ffee59e-db23-4418-a3dc-71c8b29bc01e\")>,\n",
       " <selenium.webdriver.remote.webelement.WebElement (session=\"87c8f240d004f259074827a313eaa158\", element=\"df1f0b96-2bb9-4fc8-9e06-d418349d8d94\")>,\n",
       " <selenium.webdriver.remote.webelement.WebElement (session=\"87c8f240d004f259074827a313eaa158\", element=\"3050738d-25f7-4dd1-9a93-fa1b5ab1f6ff\")>,\n",
       " <selenium.webdriver.remote.webelement.WebElement (session=\"87c8f240d004f259074827a313eaa158\", element=\"de38bee0-6c71-4141-ab72-5759b91ac644\")>,\n",
       " <selenium.webdriver.remote.webelement.WebElement (session=\"87c8f240d004f259074827a313eaa158\", element=\"4ed9ffd3-eefd-4f99-a982-e0a3eb4e0f2f\")>,\n",
       " <selenium.webdriver.remote.webelement.WebElement (session=\"87c8f240d004f259074827a313eaa158\", element=\"e80385ca-ebb6-49af-aa5f-e5c159cff5d8\")>,\n",
       " <selenium.webdriver.remote.webelement.WebElement (session=\"87c8f240d004f259074827a313eaa158\", element=\"4ad02bc6-e4fc-46e8-a154-181e96b44c79\")>,\n",
       " <selenium.webdriver.remote.webelement.WebElement (session=\"87c8f240d004f259074827a313eaa158\", element=\"7a70e43c-47b6-418b-8901-d709ecfab011\")>,\n",
       " <selenium.webdriver.remote.webelement.WebElement (session=\"87c8f240d004f259074827a313eaa158\", element=\"af703da1-b5d5-4e1f-bee1-6f3c1da4ee93\")>,\n",
       " <selenium.webdriver.remote.webelement.WebElement (session=\"87c8f240d004f259074827a313eaa158\", element=\"bb6a13cb-afd8-4688-a507-c5f39e8421f9\")>,\n",
       " <selenium.webdriver.remote.webelement.WebElement (session=\"87c8f240d004f259074827a313eaa158\", element=\"43ea4fd2-0f2c-46d7-939c-c5e52d068c2c\")>,\n",
       " <selenium.webdriver.remote.webelement.WebElement (session=\"87c8f240d004f259074827a313eaa158\", element=\"b3fb6345-f1c2-43a6-b236-5bc2693f275d\")>,\n",
       " <selenium.webdriver.remote.webelement.WebElement (session=\"87c8f240d004f259074827a313eaa158\", element=\"16539c7f-cc45-4593-95de-9b0277bf85e3\")>,\n",
       " <selenium.webdriver.remote.webelement.WebElement (session=\"87c8f240d004f259074827a313eaa158\", element=\"4ffe66ce-e660-4e9f-995c-de246f10ecbe\")>,\n",
       " <selenium.webdriver.remote.webelement.WebElement (session=\"87c8f240d004f259074827a313eaa158\", element=\"dd9d39fd-a897-4ffc-b17c-4b2ab4208ec4\")>]"
      ]
     },
     "execution_count": 6,
     "metadata": {},
     "output_type": "execute_result"
    }
   ],
   "source": [
    "l1=browser.find_elements(\"xpath\",\"//div[@class='location ']\")\n",
    "l1"
   ]
  },
  {
   "cell_type": "code",
   "execution_count": 7,
   "id": "8d6af8bf",
   "metadata": {},
   "outputs": [
    {
     "data": {
      "text/plain": [
       "['Singapore, Singapore',\n",
       " 'Beijing, China (Mainland)',\n",
       " 'Philadelphia, United States',\n",
       " 'Beijing, China (Mainland)',\n",
       " 'Edinburgh, United Kingdom',\n",
       " 'Lausanne, Switzerland',\n",
       " 'Princeton, United States',\n",
       " 'New Haven, United States',\n",
       " 'Singapore, Singapore',\n",
       " 'Ithaca, United States']"
      ]
     },
     "execution_count": 7,
     "metadata": {},
     "output_type": "execute_result"
    }
   ],
   "source": [
    "loc=[]\n",
    "for data in l1:\n",
    "    #get the text data\n",
    "    temp=data.text\n",
    "    loc.append(temp)\n",
    "loc=loc[10:]\n",
    "loc"
   ]
  },
  {
   "cell_type": "code",
   "execution_count": 8,
   "id": "dc5aa765",
   "metadata": {},
   "outputs": [
    {
     "data": {
      "text/plain": [
       "[<selenium.webdriver.remote.webelement.WebElement (session=\"87c8f240d004f259074827a313eaa158\", element=\"335db154-455c-4f41-b87a-16f1a5bea03b\")>,\n",
       " <selenium.webdriver.remote.webelement.WebElement (session=\"87c8f240d004f259074827a313eaa158\", element=\"c867ea6e-3873-42ba-bc5e-e8ae8ce9b20a\")>,\n",
       " <selenium.webdriver.remote.webelement.WebElement (session=\"87c8f240d004f259074827a313eaa158\", element=\"7e5af9c6-1b93-4a9a-9627-c4beace88143\")>,\n",
       " <selenium.webdriver.remote.webelement.WebElement (session=\"87c8f240d004f259074827a313eaa158\", element=\"8290576c-2930-492d-a821-b012f156e591\")>,\n",
       " <selenium.webdriver.remote.webelement.WebElement (session=\"87c8f240d004f259074827a313eaa158\", element=\"46e98776-4cf5-4432-8a64-cf689f9d2d68\")>,\n",
       " <selenium.webdriver.remote.webelement.WebElement (session=\"87c8f240d004f259074827a313eaa158\", element=\"5cb63f21-2d98-402d-969d-6e45482497d5\")>,\n",
       " <selenium.webdriver.remote.webelement.WebElement (session=\"87c8f240d004f259074827a313eaa158\", element=\"7b9a0180-0c6a-435e-9d24-7f1ffd548fbd\")>,\n",
       " <selenium.webdriver.remote.webelement.WebElement (session=\"87c8f240d004f259074827a313eaa158\", element=\"7a916e0f-48bc-4194-94f3-e9ea55cbef7c\")>,\n",
       " <selenium.webdriver.remote.webelement.WebElement (session=\"87c8f240d004f259074827a313eaa158\", element=\"4ea51c06-b76a-42b9-b3e9-6ea163afa498\")>,\n",
       " <selenium.webdriver.remote.webelement.WebElement (session=\"87c8f240d004f259074827a313eaa158\", element=\"ad20fd0c-c0f4-44f0-ae50-a5aee6756c26\")>]"
      ]
     },
     "execution_count": 8,
     "metadata": {},
     "output_type": "execute_result"
    }
   ],
   "source": [
    "l2=browser.find_elements(\"xpath\",\"//div[@class='_univ-rank ']\")\n",
    "l2\n"
   ]
  },
  {
   "cell_type": "code",
   "execution_count": 9,
   "id": "ed1bc7b3",
   "metadata": {},
   "outputs": [
    {
     "data": {
      "text/plain": [
       "['11', '12', '13', '14', '15', '=16', '=16', '18', '19', '20']"
      ]
     },
     "execution_count": 9,
     "metadata": {},
     "output_type": "execute_result"
    }
   ],
   "source": [
    "RANK=[]\n",
    "for data in l2:\n",
    "    #get the text data\n",
    "    temp=data.text\n",
    "    RANK.append(temp)\n",
    "RANK"
   ]
  },
  {
   "cell_type": "code",
   "execution_count": 10,
   "id": "680592bf",
   "metadata": {},
   "outputs": [
    {
     "data": {
      "text/plain": [
       "[<selenium.webdriver.remote.webelement.WebElement (session=\"87c8f240d004f259074827a313eaa158\", element=\"d6b64868-5feb-48e1-a70f-83702bf320df\")>,\n",
       " <selenium.webdriver.remote.webelement.WebElement (session=\"87c8f240d004f259074827a313eaa158\", element=\"19b21a57-dfb0-43ff-8657-8d8301a5566c\")>,\n",
       " <selenium.webdriver.remote.webelement.WebElement (session=\"87c8f240d004f259074827a313eaa158\", element=\"25aa72c0-ed8e-4e9c-a69f-a505048996f8\")>,\n",
       " <selenium.webdriver.remote.webelement.WebElement (session=\"87c8f240d004f259074827a313eaa158\", element=\"1f8c99bb-6b49-4555-8af7-5164067159a6\")>,\n",
       " <selenium.webdriver.remote.webelement.WebElement (session=\"87c8f240d004f259074827a313eaa158\", element=\"dfcf880d-3383-4300-a6f7-0bc50d4ad63d\")>,\n",
       " <selenium.webdriver.remote.webelement.WebElement (session=\"87c8f240d004f259074827a313eaa158\", element=\"be84edc8-592d-4d58-b0db-3f1873f33fc6\")>,\n",
       " <selenium.webdriver.remote.webelement.WebElement (session=\"87c8f240d004f259074827a313eaa158\", element=\"9e494e09-04da-4ff3-aacd-ffa05c4f7d8d\")>,\n",
       " <selenium.webdriver.remote.webelement.WebElement (session=\"87c8f240d004f259074827a313eaa158\", element=\"161cfdb9-2bc4-471f-a405-7378c578db07\")>,\n",
       " <selenium.webdriver.remote.webelement.WebElement (session=\"87c8f240d004f259074827a313eaa158\", element=\"dbc103a3-1d76-44f2-a825-e0e5af1c7593\")>]"
      ]
     },
     "execution_count": 10,
     "metadata": {},
     "output_type": "execute_result"
    }
   ],
   "source": [
    "# GET EACH COLLEGE SPECIFICATION HEADERS\n",
    "header=browser.find_elements(\"xpath\",\"//div[@class='_click-function_ind']\")\n",
    "header"
   ]
  },
  {
   "cell_type": "code",
   "execution_count": 11,
   "id": "bf8a9888",
   "metadata": {},
   "outputs": [
    {
     "data": {
      "text/plain": [
       "['Overall Score',\n",
       " 'Academic Reputation',\n",
       " 'Employer Reputation',\n",
       " 'Citations per Faculty',\n",
       " 'Faculty Student Ratio',\n",
       " 'International Students Ratio',\n",
       " 'International Faculty Ratio',\n",
       " 'International Research Network\\nUnweighted',\n",
       " 'Employment Outcomes\\nUnweighted']"
      ]
     },
     "execution_count": 11,
     "metadata": {},
     "output_type": "execute_result"
    }
   ],
   "source": [
    "#PARSING DATA\n",
    "column_head=[]\n",
    "for data in header:\n",
    "    #get the text data\n",
    "    temp=data.text\n",
    "    column_head.append(temp)\n",
    "column_head"
   ]
  },
  {
   "cell_type": "code",
   "execution_count": 12,
   "id": "94dc4182",
   "metadata": {},
   "outputs": [
    {
     "data": {
      "text/plain": [
       "[<selenium.webdriver.remote.webelement.WebElement (session=\"87c8f240d004f259074827a313eaa158\", element=\"48e8dea4-128a-4246-973b-f43dde5ee803\")>,\n",
       " <selenium.webdriver.remote.webelement.WebElement (session=\"87c8f240d004f259074827a313eaa158\", element=\"62011363-4bb8-453b-98ab-cc8e545e7988\")>,\n",
       " <selenium.webdriver.remote.webelement.WebElement (session=\"87c8f240d004f259074827a313eaa158\", element=\"cea107c9-e8a3-42d6-b532-a4417fa57100\")>,\n",
       " <selenium.webdriver.remote.webelement.WebElement (session=\"87c8f240d004f259074827a313eaa158\", element=\"0971265c-4874-42a5-ba81-94d02b7ab06f\")>,\n",
       " <selenium.webdriver.remote.webelement.WebElement (session=\"87c8f240d004f259074827a313eaa158\", element=\"128716ec-5f66-40de-94c8-9741d6f76b8d\")>,\n",
       " <selenium.webdriver.remote.webelement.WebElement (session=\"87c8f240d004f259074827a313eaa158\", element=\"5a720f60-7522-41a7-b873-b4f3d7b29da1\")>,\n",
       " <selenium.webdriver.remote.webelement.WebElement (session=\"87c8f240d004f259074827a313eaa158\", element=\"ab0e78b2-3b4d-4647-931a-4604cb6f34aa\")>,\n",
       " <selenium.webdriver.remote.webelement.WebElement (session=\"87c8f240d004f259074827a313eaa158\", element=\"ffbc7191-5a61-4d5b-9c46-9cd9f9293fb2\")>,\n",
       " <selenium.webdriver.remote.webelement.WebElement (session=\"87c8f240d004f259074827a313eaa158\", element=\"9513b0d6-4850-4e98-9d47-05a571f35afe\")>,\n",
       " <selenium.webdriver.remote.webelement.WebElement (session=\"87c8f240d004f259074827a313eaa158\", element=\"4cd91c2b-1e68-4687-bef0-cbf0a0812f52\")>,\n",
       " <selenium.webdriver.remote.webelement.WebElement (session=\"87c8f240d004f259074827a313eaa158\", element=\"75981a89-a042-42a1-b8c2-ce6c137add3b\")>,\n",
       " <selenium.webdriver.remote.webelement.WebElement (session=\"87c8f240d004f259074827a313eaa158\", element=\"98d65120-126d-445b-b3f9-e525d093b41d\")>,\n",
       " <selenium.webdriver.remote.webelement.WebElement (session=\"87c8f240d004f259074827a313eaa158\", element=\"64ca1a03-ba08-40fb-adbc-20da6e0a988b\")>,\n",
       " <selenium.webdriver.remote.webelement.WebElement (session=\"87c8f240d004f259074827a313eaa158\", element=\"72930ad0-6fa5-4c6d-9322-cf80ba9a68f3\")>,\n",
       " <selenium.webdriver.remote.webelement.WebElement (session=\"87c8f240d004f259074827a313eaa158\", element=\"3ebbf880-b1c4-4ef7-a428-23844198a9be\")>,\n",
       " <selenium.webdriver.remote.webelement.WebElement (session=\"87c8f240d004f259074827a313eaa158\", element=\"145648d2-9473-463a-be84-57dcf10b3e95\")>,\n",
       " <selenium.webdriver.remote.webelement.WebElement (session=\"87c8f240d004f259074827a313eaa158\", element=\"73a9c147-491e-43e9-8de2-94dac305dbca\")>,\n",
       " <selenium.webdriver.remote.webelement.WebElement (session=\"87c8f240d004f259074827a313eaa158\", element=\"9c10d77e-f7bd-43c9-a063-b3487e60384a\")>,\n",
       " <selenium.webdriver.remote.webelement.WebElement (session=\"87c8f240d004f259074827a313eaa158\", element=\"695d3b2c-9d11-4ab1-9957-d1638b643050\")>,\n",
       " <selenium.webdriver.remote.webelement.WebElement (session=\"87c8f240d004f259074827a313eaa158\", element=\"2d543f38-77a1-48c6-b1e6-1bf92113de46\")>,\n",
       " <selenium.webdriver.remote.webelement.WebElement (session=\"87c8f240d004f259074827a313eaa158\", element=\"674a1c2e-0329-4c14-8a35-48e0ce1e1cdd\")>,\n",
       " <selenium.webdriver.remote.webelement.WebElement (session=\"87c8f240d004f259074827a313eaa158\", element=\"23d773aa-0646-4ad7-bcaf-eba49fa00d75\")>,\n",
       " <selenium.webdriver.remote.webelement.WebElement (session=\"87c8f240d004f259074827a313eaa158\", element=\"40eebf6f-6776-419e-b29d-a4172b7cbcd7\")>,\n",
       " <selenium.webdriver.remote.webelement.WebElement (session=\"87c8f240d004f259074827a313eaa158\", element=\"1ba78dd2-837d-4eb9-b10f-b4b00fed2fe8\")>,\n",
       " <selenium.webdriver.remote.webelement.WebElement (session=\"87c8f240d004f259074827a313eaa158\", element=\"85958ad1-892a-42bc-aa58-0268d162a100\")>,\n",
       " <selenium.webdriver.remote.webelement.WebElement (session=\"87c8f240d004f259074827a313eaa158\", element=\"6ec85438-e004-41eb-88fc-5830384b8c02\")>,\n",
       " <selenium.webdriver.remote.webelement.WebElement (session=\"87c8f240d004f259074827a313eaa158\", element=\"1e66fb03-5e9a-4495-8e3f-87646e7cc6c8\")>,\n",
       " <selenium.webdriver.remote.webelement.WebElement (session=\"87c8f240d004f259074827a313eaa158\", element=\"ddf01238-ad06-4569-843a-cc64e70bd6da\")>,\n",
       " <selenium.webdriver.remote.webelement.WebElement (session=\"87c8f240d004f259074827a313eaa158\", element=\"1f918a16-d265-4252-8af3-1e0062d30620\")>,\n",
       " <selenium.webdriver.remote.webelement.WebElement (session=\"87c8f240d004f259074827a313eaa158\", element=\"0963b05b-fe27-4d68-84b7-a75fe9bbbd75\")>,\n",
       " <selenium.webdriver.remote.webelement.WebElement (session=\"87c8f240d004f259074827a313eaa158\", element=\"a60135b4-f3a2-4af6-97dc-6b44510b1caa\")>,\n",
       " <selenium.webdriver.remote.webelement.WebElement (session=\"87c8f240d004f259074827a313eaa158\", element=\"cdbe8e09-8a7a-48d0-a1a1-c5d18c6687d0\")>,\n",
       " <selenium.webdriver.remote.webelement.WebElement (session=\"87c8f240d004f259074827a313eaa158\", element=\"f7adb2cb-a6ff-448b-aa8c-686b4c8de062\")>,\n",
       " <selenium.webdriver.remote.webelement.WebElement (session=\"87c8f240d004f259074827a313eaa158\", element=\"d2bde4ca-b00c-4902-ae4c-58b244e56306\")>,\n",
       " <selenium.webdriver.remote.webelement.WebElement (session=\"87c8f240d004f259074827a313eaa158\", element=\"de12806a-df55-49e1-8f30-f89a99ef616a\")>,\n",
       " <selenium.webdriver.remote.webelement.WebElement (session=\"87c8f240d004f259074827a313eaa158\", element=\"cc3cf0ef-229e-44df-a88d-86049fae52bc\")>,\n",
       " <selenium.webdriver.remote.webelement.WebElement (session=\"87c8f240d004f259074827a313eaa158\", element=\"5ff38484-4c43-4a82-823a-0008d6841485\")>,\n",
       " <selenium.webdriver.remote.webelement.WebElement (session=\"87c8f240d004f259074827a313eaa158\", element=\"81ec4812-755e-45f5-8c12-594f981d826d\")>,\n",
       " <selenium.webdriver.remote.webelement.WebElement (session=\"87c8f240d004f259074827a313eaa158\", element=\"0a2c4360-0e67-4418-b547-024c1978667b\")>,\n",
       " <selenium.webdriver.remote.webelement.WebElement (session=\"87c8f240d004f259074827a313eaa158\", element=\"857fae1e-635a-4997-9c4b-e764240b3afa\")>,\n",
       " <selenium.webdriver.remote.webelement.WebElement (session=\"87c8f240d004f259074827a313eaa158\", element=\"2d9a1fb5-818f-4ca6-af49-64cd0239c1d9\")>,\n",
       " <selenium.webdriver.remote.webelement.WebElement (session=\"87c8f240d004f259074827a313eaa158\", element=\"5db1971d-bc3d-4a86-a80e-41eb439a269c\")>,\n",
       " <selenium.webdriver.remote.webelement.WebElement (session=\"87c8f240d004f259074827a313eaa158\", element=\"aa5a1282-6953-4e98-b39b-1a97e1fc942d\")>,\n",
       " <selenium.webdriver.remote.webelement.WebElement (session=\"87c8f240d004f259074827a313eaa158\", element=\"a7c36de2-b03c-4864-8362-9617cc6e22c2\")>,\n",
       " <selenium.webdriver.remote.webelement.WebElement (session=\"87c8f240d004f259074827a313eaa158\", element=\"e9f7d839-5e22-4cb7-b4c3-4776e2e1c412\")>,\n",
       " <selenium.webdriver.remote.webelement.WebElement (session=\"87c8f240d004f259074827a313eaa158\", element=\"b68c3bb9-9297-4073-9ce4-060ce8997c07\")>,\n",
       " <selenium.webdriver.remote.webelement.WebElement (session=\"87c8f240d004f259074827a313eaa158\", element=\"1dad3e1e-313c-44d9-b6f5-4c1adc3b981c\")>,\n",
       " <selenium.webdriver.remote.webelement.WebElement (session=\"87c8f240d004f259074827a313eaa158\", element=\"1ba27c48-7e9c-407d-8204-145f1bd40f49\")>,\n",
       " <selenium.webdriver.remote.webelement.WebElement (session=\"87c8f240d004f259074827a313eaa158\", element=\"43eb2ebe-4a42-41fa-aa4d-489996f6193a\")>,\n",
       " <selenium.webdriver.remote.webelement.WebElement (session=\"87c8f240d004f259074827a313eaa158\", element=\"ec95a040-89ab-41fe-b750-652bfc7d2068\")>,\n",
       " <selenium.webdriver.remote.webelement.WebElement (session=\"87c8f240d004f259074827a313eaa158\", element=\"203b46a0-e1ec-4abc-94a2-ff3c6734c816\")>,\n",
       " <selenium.webdriver.remote.webelement.WebElement (session=\"87c8f240d004f259074827a313eaa158\", element=\"e86debd2-d211-4a2f-9151-eef0fcb8b306\")>,\n",
       " <selenium.webdriver.remote.webelement.WebElement (session=\"87c8f240d004f259074827a313eaa158\", element=\"b58adde6-5811-4e19-9838-113e55a26dfe\")>,\n",
       " <selenium.webdriver.remote.webelement.WebElement (session=\"87c8f240d004f259074827a313eaa158\", element=\"2618f690-da9d-4ba7-8edb-1614b33b8352\")>,\n",
       " <selenium.webdriver.remote.webelement.WebElement (session=\"87c8f240d004f259074827a313eaa158\", element=\"747e0283-ec24-4e97-bebd-5a579304b51c\")>,\n",
       " <selenium.webdriver.remote.webelement.WebElement (session=\"87c8f240d004f259074827a313eaa158\", element=\"243e99cd-1711-4048-a869-b0dcc6ba8344\")>,\n",
       " <selenium.webdriver.remote.webelement.WebElement (session=\"87c8f240d004f259074827a313eaa158\", element=\"7fe5c594-69ae-4660-8928-aa363b654058\")>,\n",
       " <selenium.webdriver.remote.webelement.WebElement (session=\"87c8f240d004f259074827a313eaa158\", element=\"b4e4ccfc-b42c-493c-a693-9274236bec09\")>,\n",
       " <selenium.webdriver.remote.webelement.WebElement (session=\"87c8f240d004f259074827a313eaa158\", element=\"935e1622-640f-43c9-9614-511dd0f3db4d\")>,\n",
       " <selenium.webdriver.remote.webelement.WebElement (session=\"87c8f240d004f259074827a313eaa158\", element=\"1ad9d782-48a3-4390-9cdd-06c94140229b\")>,\n",
       " <selenium.webdriver.remote.webelement.WebElement (session=\"87c8f240d004f259074827a313eaa158\", element=\"37daf6ac-929e-478d-a31c-a1ec8da0b3e6\")>,\n",
       " <selenium.webdriver.remote.webelement.WebElement (session=\"87c8f240d004f259074827a313eaa158\", element=\"2b9574b7-a56d-4929-83aa-3f1eac8164ae\")>,\n",
       " <selenium.webdriver.remote.webelement.WebElement (session=\"87c8f240d004f259074827a313eaa158\", element=\"9a0d3555-2f50-4c92-89b6-7c93c2bbda0b\")>,\n",
       " <selenium.webdriver.remote.webelement.WebElement (session=\"87c8f240d004f259074827a313eaa158\", element=\"244d70da-c03c-4047-8662-3d792eeab750\")>,\n",
       " <selenium.webdriver.remote.webelement.WebElement (session=\"87c8f240d004f259074827a313eaa158\", element=\"91519a66-3cd9-404d-af2e-246ec21034a4\")>,\n",
       " <selenium.webdriver.remote.webelement.WebElement (session=\"87c8f240d004f259074827a313eaa158\", element=\"002b6cf7-1d44-4e5f-a85f-bdf8aebce382\")>,\n",
       " <selenium.webdriver.remote.webelement.WebElement (session=\"87c8f240d004f259074827a313eaa158\", element=\"9735a81b-2168-41b1-ae74-275873eaec87\")>,\n",
       " <selenium.webdriver.remote.webelement.WebElement (session=\"87c8f240d004f259074827a313eaa158\", element=\"ecc99133-04ef-4906-aa9f-15550b24554d\")>,\n",
       " <selenium.webdriver.remote.webelement.WebElement (session=\"87c8f240d004f259074827a313eaa158\", element=\"7e0d6818-cf04-4baf-a315-4d1da3662595\")>,\n",
       " <selenium.webdriver.remote.webelement.WebElement (session=\"87c8f240d004f259074827a313eaa158\", element=\"a942ba0f-9639-44a8-8859-1ce0d3fd7d27\")>,\n",
       " <selenium.webdriver.remote.webelement.WebElement (session=\"87c8f240d004f259074827a313eaa158\", element=\"79e92e3e-be1b-4933-8aef-8a985fa01b8f\")>,\n",
       " <selenium.webdriver.remote.webelement.WebElement (session=\"87c8f240d004f259074827a313eaa158\", element=\"e159ab8f-5006-4968-bf50-06af0e1e0568\")>,\n",
       " <selenium.webdriver.remote.webelement.WebElement (session=\"87c8f240d004f259074827a313eaa158\", element=\"e99fbaba-1f39-4f8e-b978-915e03b5212b\")>,\n",
       " <selenium.webdriver.remote.webelement.WebElement (session=\"87c8f240d004f259074827a313eaa158\", element=\"77b404cf-2293-430b-8ee8-04b57500a7b5\")>,\n",
       " <selenium.webdriver.remote.webelement.WebElement (session=\"87c8f240d004f259074827a313eaa158\", element=\"525f6c6f-d59b-44f0-910e-0f3a54af50eb\")>,\n",
       " <selenium.webdriver.remote.webelement.WebElement (session=\"87c8f240d004f259074827a313eaa158\", element=\"d845af78-5bec-482e-88ae-8dcf9ba2a1e4\")>,\n",
       " <selenium.webdriver.remote.webelement.WebElement (session=\"87c8f240d004f259074827a313eaa158\", element=\"8dfa5e55-1c23-495a-a317-5b28ed13bdc2\")>,\n",
       " <selenium.webdriver.remote.webelement.WebElement (session=\"87c8f240d004f259074827a313eaa158\", element=\"2e4141f4-4fee-483e-a713-2a400da4a8b7\")>,\n",
       " <selenium.webdriver.remote.webelement.WebElement (session=\"87c8f240d004f259074827a313eaa158\", element=\"15c17ca5-30f5-4726-9490-1b859141ff9d\")>,\n",
       " <selenium.webdriver.remote.webelement.WebElement (session=\"87c8f240d004f259074827a313eaa158\", element=\"c0e89536-b4a6-45ec-8d75-b0d036968130\")>,\n",
       " <selenium.webdriver.remote.webelement.WebElement (session=\"87c8f240d004f259074827a313eaa158\", element=\"87e84a62-3929-4d42-8bea-7b1156e3550b\")>,\n",
       " <selenium.webdriver.remote.webelement.WebElement (session=\"87c8f240d004f259074827a313eaa158\", element=\"05e87ddd-ee9d-4d58-aa2c-6b6cc68d6536\")>,\n",
       " <selenium.webdriver.remote.webelement.WebElement (session=\"87c8f240d004f259074827a313eaa158\", element=\"77959dcf-8f5f-49c8-9db7-b035f3237198\")>,\n",
       " <selenium.webdriver.remote.webelement.WebElement (session=\"87c8f240d004f259074827a313eaa158\", element=\"321c2ac4-6456-4a42-8d5b-0a6be7708b7c\")>,\n",
       " <selenium.webdriver.remote.webelement.WebElement (session=\"87c8f240d004f259074827a313eaa158\", element=\"6642b905-cc30-44e1-8a27-670d864b4aac\")>,\n",
       " <selenium.webdriver.remote.webelement.WebElement (session=\"87c8f240d004f259074827a313eaa158\", element=\"f4851996-9b9c-4734-9a8c-8732637f0246\")>,\n",
       " <selenium.webdriver.remote.webelement.WebElement (session=\"87c8f240d004f259074827a313eaa158\", element=\"dc24c777-d3a1-49e5-9acf-2c90da51fac1\")>,\n",
       " <selenium.webdriver.remote.webelement.WebElement (session=\"87c8f240d004f259074827a313eaa158\", element=\"c4d2b005-4964-43f4-86f1-cddad98221a8\")>,\n",
       " <selenium.webdriver.remote.webelement.WebElement (session=\"87c8f240d004f259074827a313eaa158\", element=\"f808ee33-c4b4-40a3-aa7c-1b77b893a8fd\")>,\n",
       " <selenium.webdriver.remote.webelement.WebElement (session=\"87c8f240d004f259074827a313eaa158\", element=\"bc33af20-f09c-4b35-a5e0-b55f83a2a588\")>,\n",
       " <selenium.webdriver.remote.webelement.WebElement (session=\"87c8f240d004f259074827a313eaa158\", element=\"cb1c09a1-f0da-4312-a8c5-10aa9731594f\")>,\n",
       " <selenium.webdriver.remote.webelement.WebElement (session=\"87c8f240d004f259074827a313eaa158\", element=\"7db1b053-817e-425e-b2b3-3e652aca0b8f\")>,\n",
       " <selenium.webdriver.remote.webelement.WebElement (session=\"87c8f240d004f259074827a313eaa158\", element=\"44995e1f-7375-47b5-bd06-7037b22eefe0\")>,\n",
       " <selenium.webdriver.remote.webelement.WebElement (session=\"87c8f240d004f259074827a313eaa158\", element=\"a2d65b0c-83c7-42ab-b978-23ef1b044efc\")>,\n",
       " <selenium.webdriver.remote.webelement.WebElement (session=\"87c8f240d004f259074827a313eaa158\", element=\"1edafd2d-581a-45df-9787-562c31499307\")>,\n",
       " <selenium.webdriver.remote.webelement.WebElement (session=\"87c8f240d004f259074827a313eaa158\", element=\"2b11bd83-9a9e-4799-b9d1-39e1e138038d\")>,\n",
       " <selenium.webdriver.remote.webelement.WebElement (session=\"87c8f240d004f259074827a313eaa158\", element=\"68130c88-6a51-45fc-aba4-46d1c9614eef\")>,\n",
       " <selenium.webdriver.remote.webelement.WebElement (session=\"87c8f240d004f259074827a313eaa158\", element=\"d39bfe68-1dc7-41e8-a2ab-410f6aaad863\")>,\n",
       " <selenium.webdriver.remote.webelement.WebElement (session=\"87c8f240d004f259074827a313eaa158\", element=\"737310a5-2b5c-46ce-b03a-2d20e9bd9380\")>,\n",
       " <selenium.webdriver.remote.webelement.WebElement (session=\"87c8f240d004f259074827a313eaa158\", element=\"81ea725b-252d-4f6d-a3bc-4b0b3a490914\")>]"
      ]
     },
     "execution_count": 12,
     "metadata": {},
     "output_type": "execute_result"
    }
   ],
   "source": [
    "header2=browser.find_elements(\"xpath\",\"//div[@class='td-wrap-in']\")\n",
    "header2"
   ]
  },
  {
   "cell_type": "code",
   "execution_count": 13,
   "id": "2901af06",
   "metadata": {},
   "outputs": [
    {
     "data": {
      "text/plain": [
       "['89', '99.9', '100', '51.5', '100', '77.3', '89.2', '92', '100']"
      ]
     },
     "execution_count": 13,
     "metadata": {},
     "output_type": "execute_result"
    }
   ],
   "source": [
    "#PARSING DATA\n",
    "value_head=[]\n",
    "for data in header2:\n",
    "    #get the text data\n",
    "    temp=data.text\n",
    "    value_head.append(temp)\n",
    "value=value_head[71:80]\n",
    "value\n"
   ]
  },
  {
   "cell_type": "code",
   "execution_count": 14,
   "id": "2f2fc188",
   "metadata": {},
   "outputs": [
    {
     "data": {
      "text/plain": [
       "{'Name': 'Yale University',\n",
       " 'Location': 'New Haven, United States',\n",
       " 'Rank': '18',\n",
       " 'Overall Score': '89',\n",
       " 'Academic Reputation': '99.9',\n",
       " 'Employer Reputation': '100',\n",
       " 'Citations per Faculty': '51.5',\n",
       " 'Faculty Student Ratio': '100',\n",
       " 'International Students Ratio': '77.3',\n",
       " 'International Faculty Ratio': '89.2',\n",
       " 'International Research Network\\nUnweighted': '92',\n",
       " 'Employment Outcomes\\nUnweighted': '100'}"
      ]
     },
     "execution_count": 14,
     "metadata": {},
     "output_type": "execute_result"
    }
   ],
   "source": [
    "d={}\n",
    "d['Name']=value_head[70]\n",
    "d['Location']=loc[7]\n",
    "d['Rank']=RANK[7]\n",
    "for i in range(len(column_head)):\n",
    "    d[column_head[i]]=value[i]\n",
    "d"
   ]
  },
  {
   "cell_type": "code",
   "execution_count": 15,
   "id": "0cfe7b1b",
   "metadata": {},
   "outputs": [
    {
     "data": {
      "text/plain": [
       "'{\"Name\": \"Yale University\", \"Location\": \"New Haven, United States\", \"Rank\": \"18\", \"Overall Score\": \"89\", \"Academic Reputation\": \"99.9\", \"Employer Reputation\": \"100\", \"Citations per Faculty\": \"51.5\", \"Faculty Student Ratio\": \"100\", \"International Students Ratio\": \"77.3\", \"International Faculty Ratio\": \"89.2\", \"International Research Network\\\\nUnweighted\": \"92\", \"Employment Outcomes\\\\nUnweighted\": \"100\"}'"
      ]
     },
     "execution_count": 15,
     "metadata": {},
     "output_type": "execute_result"
    }
   ],
   "source": [
    "s1=json.dumps(d)\n",
    "s1"
   ]
  },
  {
   "cell_type": "code",
   "execution_count": 16,
   "id": "604887e0",
   "metadata": {},
   "outputs": [],
   "source": [
    "with open('Yale University.json','w') as f:\n",
    "    json.dump(d,f)"
   ]
  },
  {
   "cell_type": "code",
   "execution_count": null,
   "id": "e6465cb8",
   "metadata": {},
   "outputs": [],
   "source": []
  },
  {
   "cell_type": "code",
   "execution_count": null,
   "id": "3ed6d2cc",
   "metadata": {},
   "outputs": [],
   "source": []
  }
 ],
 "metadata": {
  "kernelspec": {
   "display_name": "Python 3 (ipykernel)",
   "language": "python",
   "name": "python3"
  },
  "language_info": {
   "codemirror_mode": {
    "name": "ipython",
    "version": 3
   },
   "file_extension": ".py",
   "mimetype": "text/x-python",
   "name": "python",
   "nbconvert_exporter": "python",
   "pygments_lexer": "ipython3",
   "version": "3.9.12"
  }
 },
 "nbformat": 4,
 "nbformat_minor": 5
}
