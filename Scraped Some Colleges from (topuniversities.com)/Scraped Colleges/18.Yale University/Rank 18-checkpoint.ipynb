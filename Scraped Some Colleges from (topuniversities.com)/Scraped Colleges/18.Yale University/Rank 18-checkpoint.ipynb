{
 "cells": [
  {
   "cell_type": "code",
   "execution_count": 1,
   "id": "6a067a10",
   "metadata": {},
   "outputs": [],
   "source": [
    "from selenium import webdriver\n",
    "from selenium.webdriver.chrome.service import Service\n",
    "import pandas as pd\n",
    "import json"
   ]
  },
  {
   "cell_type": "code",
   "execution_count": 2,
   "id": "9dba5d52",
   "metadata": {},
   "outputs": [],
   "source": [
    "path = Service('C:\\chromedriver.exe')\n"
   ]
  },
  {
   "cell_type": "code",
   "execution_count": 3,
   "id": "31d50a42",
   "metadata": {},
   "outputs": [],
   "source": [
    "# set path for the driver\n",
    "browser = webdriver.Chrome(service = path)"
   ]
  },
  {
   "cell_type": "code",
   "execution_count": 4,
   "id": "12a84afa",
   "metadata": {},
   "outputs": [],
   "source": [
    "url = \"https://www.topuniversities.com/university-rankings/world-university-rankings/2023\""
   ]
  },
  {
   "cell_type": "code",
   "execution_count": 5,
   "id": "75e371c3",
   "metadata": {},
   "outputs": [],
   "source": [
    "# open the page url ion chrome\n",
    "browser.get(url)"
   ]
  },
  {
   "cell_type": "code",
   "execution_count": 6,
   "id": "680592bf",
   "metadata": {},
   "outputs": [
    {
     "data": {
      "text/plain": [
       "[<selenium.webdriver.remote.webelement.WebElement (session=\"5865ed4002f45e4b1ee1be059c6904e0\", element=\"c454dc22-b80f-48d7-a5e3-5567544a5496\")>,\n",
       " <selenium.webdriver.remote.webelement.WebElement (session=\"5865ed4002f45e4b1ee1be059c6904e0\", element=\"f9226ca1-9993-4a0b-9128-b0d4831df457\")>,\n",
       " <selenium.webdriver.remote.webelement.WebElement (session=\"5865ed4002f45e4b1ee1be059c6904e0\", element=\"58419b32-ee94-4cce-8147-3559b385db1e\")>,\n",
       " <selenium.webdriver.remote.webelement.WebElement (session=\"5865ed4002f45e4b1ee1be059c6904e0\", element=\"41fe2f00-e5ac-4b7c-8bfa-8c6fa7a49a5e\")>,\n",
       " <selenium.webdriver.remote.webelement.WebElement (session=\"5865ed4002f45e4b1ee1be059c6904e0\", element=\"8ddc7c9d-6a3c-4f9d-ab32-d2bc8d143ece\")>,\n",
       " <selenium.webdriver.remote.webelement.WebElement (session=\"5865ed4002f45e4b1ee1be059c6904e0\", element=\"01c699ce-1899-46bd-af12-be72a3e50e6c\")>,\n",
       " <selenium.webdriver.remote.webelement.WebElement (session=\"5865ed4002f45e4b1ee1be059c6904e0\", element=\"53e83a56-49ed-4b41-91dd-0a7b778247af\")>,\n",
       " <selenium.webdriver.remote.webelement.WebElement (session=\"5865ed4002f45e4b1ee1be059c6904e0\", element=\"7e71b9e1-a625-45d1-b44e-7b92d3b8ec94\")>,\n",
       " <selenium.webdriver.remote.webelement.WebElement (session=\"5865ed4002f45e4b1ee1be059c6904e0\", element=\"394df721-5e80-41e8-8e77-bc3cb312ab5c\")>]"
      ]
     },
     "execution_count": 6,
     "metadata": {},
     "output_type": "execute_result"
    }
   ],
   "source": [
    "# GET EACH COLLEGE SPECIFICATION HEADERS\n",
    "header=browser.find_elements(\"xpath\",\"//div[@class='_click-function_ind']\")\n",
    "header"
   ]
  },
  {
   "cell_type": "code",
   "execution_count": 7,
   "id": "bf8a9888",
   "metadata": {},
   "outputs": [
    {
     "data": {
      "text/plain": [
       "['Overall Score',\n",
       " 'Academic Reputation',\n",
       " 'Employer Reputation',\n",
       " 'Citations per Faculty',\n",
       " 'Faculty Student Ratio',\n",
       " 'International Students Ratio',\n",
       " 'International Faculty Ratio',\n",
       " 'International Research Network\\nUnweighted',\n",
       " 'Employment Outcomes\\nUnweighted']"
      ]
     },
     "execution_count": 7,
     "metadata": {},
     "output_type": "execute_result"
    }
   ],
   "source": [
    "#PARSING DATA\n",
    "column_head=[]\n",
    "for data in header:\n",
    "    #get the text data\n",
    "    temp=data.text\n",
    "    column_head.append(temp)\n",
    "column_head"
   ]
  },
  {
   "cell_type": "code",
   "execution_count": 8,
   "id": "94dc4182",
   "metadata": {},
   "outputs": [
    {
     "data": {
      "text/plain": [
       "[<selenium.webdriver.remote.webelement.WebElement (session=\"5865ed4002f45e4b1ee1be059c6904e0\", element=\"07de68be-7b2c-4297-8972-d7db742fa8f6\")>,\n",
       " <selenium.webdriver.remote.webelement.WebElement (session=\"5865ed4002f45e4b1ee1be059c6904e0\", element=\"83ac57e7-0256-4a06-99e1-af9a9612723e\")>,\n",
       " <selenium.webdriver.remote.webelement.WebElement (session=\"5865ed4002f45e4b1ee1be059c6904e0\", element=\"631b7d44-137b-4019-b259-8bca0777e690\")>,\n",
       " <selenium.webdriver.remote.webelement.WebElement (session=\"5865ed4002f45e4b1ee1be059c6904e0\", element=\"bc77b355-8f15-4df0-9280-d3d7b6ce6d45\")>,\n",
       " <selenium.webdriver.remote.webelement.WebElement (session=\"5865ed4002f45e4b1ee1be059c6904e0\", element=\"e3a6c3d5-bc94-4540-9e19-3630973a6e99\")>,\n",
       " <selenium.webdriver.remote.webelement.WebElement (session=\"5865ed4002f45e4b1ee1be059c6904e0\", element=\"f4b79add-4cf3-4aad-a35e-1a2f01d72e16\")>,\n",
       " <selenium.webdriver.remote.webelement.WebElement (session=\"5865ed4002f45e4b1ee1be059c6904e0\", element=\"97fd7fe2-f11f-4829-9a58-f2f09dd979a4\")>,\n",
       " <selenium.webdriver.remote.webelement.WebElement (session=\"5865ed4002f45e4b1ee1be059c6904e0\", element=\"4f9ad372-ed9d-43df-842a-f13246fc56f8\")>,\n",
       " <selenium.webdriver.remote.webelement.WebElement (session=\"5865ed4002f45e4b1ee1be059c6904e0\", element=\"79a89374-8a59-4b8a-911c-4203be1fdadf\")>,\n",
       " <selenium.webdriver.remote.webelement.WebElement (session=\"5865ed4002f45e4b1ee1be059c6904e0\", element=\"faafcbc8-08dd-42e8-aabb-e16663a820b5\")>,\n",
       " <selenium.webdriver.remote.webelement.WebElement (session=\"5865ed4002f45e4b1ee1be059c6904e0\", element=\"cf9d0d43-ee95-4c61-af2b-2183ebfdcddd\")>,\n",
       " <selenium.webdriver.remote.webelement.WebElement (session=\"5865ed4002f45e4b1ee1be059c6904e0\", element=\"d253ae62-3041-41ed-928f-f1cc40979d7f\")>,\n",
       " <selenium.webdriver.remote.webelement.WebElement (session=\"5865ed4002f45e4b1ee1be059c6904e0\", element=\"a5e8e610-2b3f-4be2-a07b-bc63bf49d655\")>,\n",
       " <selenium.webdriver.remote.webelement.WebElement (session=\"5865ed4002f45e4b1ee1be059c6904e0\", element=\"96803b02-5947-4865-8e0c-1df0cca0e9c8\")>,\n",
       " <selenium.webdriver.remote.webelement.WebElement (session=\"5865ed4002f45e4b1ee1be059c6904e0\", element=\"abd39db2-58e4-403f-8c54-5bad8fca1d04\")>,\n",
       " <selenium.webdriver.remote.webelement.WebElement (session=\"5865ed4002f45e4b1ee1be059c6904e0\", element=\"c5d7c3b5-3aad-4a53-af36-d76369fb1a9b\")>,\n",
       " <selenium.webdriver.remote.webelement.WebElement (session=\"5865ed4002f45e4b1ee1be059c6904e0\", element=\"92a2ab1a-e02e-41ef-bf3e-d8b0f64cbccb\")>,\n",
       " <selenium.webdriver.remote.webelement.WebElement (session=\"5865ed4002f45e4b1ee1be059c6904e0\", element=\"62d0ef8e-d4af-4afc-9aee-b9674135cf64\")>,\n",
       " <selenium.webdriver.remote.webelement.WebElement (session=\"5865ed4002f45e4b1ee1be059c6904e0\", element=\"1197b272-7ca6-4342-ae38-8ba4d95b10dd\")>,\n",
       " <selenium.webdriver.remote.webelement.WebElement (session=\"5865ed4002f45e4b1ee1be059c6904e0\", element=\"567735e5-2ab3-4a41-b280-24cbb4510626\")>,\n",
       " <selenium.webdriver.remote.webelement.WebElement (session=\"5865ed4002f45e4b1ee1be059c6904e0\", element=\"f012024c-bad8-4129-a156-75a5f9d9c9c2\")>,\n",
       " <selenium.webdriver.remote.webelement.WebElement (session=\"5865ed4002f45e4b1ee1be059c6904e0\", element=\"1f5eb257-0b0e-484a-9b93-70c12e573a5d\")>,\n",
       " <selenium.webdriver.remote.webelement.WebElement (session=\"5865ed4002f45e4b1ee1be059c6904e0\", element=\"a5803c2c-c3d4-4637-b4a6-51dba33de67f\")>,\n",
       " <selenium.webdriver.remote.webelement.WebElement (session=\"5865ed4002f45e4b1ee1be059c6904e0\", element=\"4197a333-0e19-47e4-97bf-c5e0eaaca2d2\")>,\n",
       " <selenium.webdriver.remote.webelement.WebElement (session=\"5865ed4002f45e4b1ee1be059c6904e0\", element=\"8c46ec39-27ac-47bc-88f1-dcbca0642dae\")>,\n",
       " <selenium.webdriver.remote.webelement.WebElement (session=\"5865ed4002f45e4b1ee1be059c6904e0\", element=\"97cc4f9b-dfc6-45fb-b0e1-58e2212517fd\")>,\n",
       " <selenium.webdriver.remote.webelement.WebElement (session=\"5865ed4002f45e4b1ee1be059c6904e0\", element=\"fda8037d-1ac6-4a5e-bc7a-59557fd9af6a\")>,\n",
       " <selenium.webdriver.remote.webelement.WebElement (session=\"5865ed4002f45e4b1ee1be059c6904e0\", element=\"8461ba34-77e7-427c-b9e5-7d26f4e4be93\")>,\n",
       " <selenium.webdriver.remote.webelement.WebElement (session=\"5865ed4002f45e4b1ee1be059c6904e0\", element=\"fb24a854-6608-42b5-bbd4-a1a115a3715e\")>,\n",
       " <selenium.webdriver.remote.webelement.WebElement (session=\"5865ed4002f45e4b1ee1be059c6904e0\", element=\"da27ee99-8b40-4fcc-83b1-cc10912e1fb5\")>,\n",
       " <selenium.webdriver.remote.webelement.WebElement (session=\"5865ed4002f45e4b1ee1be059c6904e0\", element=\"ddebd262-66e2-4409-8937-12b37228ad68\")>,\n",
       " <selenium.webdriver.remote.webelement.WebElement (session=\"5865ed4002f45e4b1ee1be059c6904e0\", element=\"34ee74e3-5c58-4539-9b87-c90b93183635\")>,\n",
       " <selenium.webdriver.remote.webelement.WebElement (session=\"5865ed4002f45e4b1ee1be059c6904e0\", element=\"c6c4b6f3-9579-4769-bd76-31c1a849f335\")>,\n",
       " <selenium.webdriver.remote.webelement.WebElement (session=\"5865ed4002f45e4b1ee1be059c6904e0\", element=\"1153e5cd-62ef-4b28-a935-8c5f275ec280\")>,\n",
       " <selenium.webdriver.remote.webelement.WebElement (session=\"5865ed4002f45e4b1ee1be059c6904e0\", element=\"40ff4381-51a3-48ed-8a45-3700786519c9\")>,\n",
       " <selenium.webdriver.remote.webelement.WebElement (session=\"5865ed4002f45e4b1ee1be059c6904e0\", element=\"72473bc3-c5cb-4c0f-92f7-08ab6db8788c\")>,\n",
       " <selenium.webdriver.remote.webelement.WebElement (session=\"5865ed4002f45e4b1ee1be059c6904e0\", element=\"ca55d6ed-96bd-4ef7-ab7e-1d62f075732a\")>,\n",
       " <selenium.webdriver.remote.webelement.WebElement (session=\"5865ed4002f45e4b1ee1be059c6904e0\", element=\"87622c17-9bfa-41a3-a72b-2e347acd9def\")>,\n",
       " <selenium.webdriver.remote.webelement.WebElement (session=\"5865ed4002f45e4b1ee1be059c6904e0\", element=\"69d720b5-5fa3-42da-91ac-de24a07c165d\")>,\n",
       " <selenium.webdriver.remote.webelement.WebElement (session=\"5865ed4002f45e4b1ee1be059c6904e0\", element=\"90f72b54-91d6-41aa-8bf4-89481cba7180\")>,\n",
       " <selenium.webdriver.remote.webelement.WebElement (session=\"5865ed4002f45e4b1ee1be059c6904e0\", element=\"6fac80ac-11d2-477e-9d8e-867cbe307604\")>,\n",
       " <selenium.webdriver.remote.webelement.WebElement (session=\"5865ed4002f45e4b1ee1be059c6904e0\", element=\"d6552f3c-e5fe-452d-95bb-1173595d879d\")>,\n",
       " <selenium.webdriver.remote.webelement.WebElement (session=\"5865ed4002f45e4b1ee1be059c6904e0\", element=\"423f9efa-6092-49bc-99fc-3fe7d5c8f782\")>,\n",
       " <selenium.webdriver.remote.webelement.WebElement (session=\"5865ed4002f45e4b1ee1be059c6904e0\", element=\"3f90de10-d0f4-4b67-96c8-28d4cf63c1d7\")>,\n",
       " <selenium.webdriver.remote.webelement.WebElement (session=\"5865ed4002f45e4b1ee1be059c6904e0\", element=\"3ecafb96-d3f5-4f19-8e48-abd21350622e\")>,\n",
       " <selenium.webdriver.remote.webelement.WebElement (session=\"5865ed4002f45e4b1ee1be059c6904e0\", element=\"a71a4134-81dc-47ae-99d3-dbedae2be3e1\")>,\n",
       " <selenium.webdriver.remote.webelement.WebElement (session=\"5865ed4002f45e4b1ee1be059c6904e0\", element=\"d1cdf6b6-4e74-4d1a-a5ab-b3864cf5b890\")>,\n",
       " <selenium.webdriver.remote.webelement.WebElement (session=\"5865ed4002f45e4b1ee1be059c6904e0\", element=\"39dd6e45-e8b5-440c-a348-07a69286f1ce\")>,\n",
       " <selenium.webdriver.remote.webelement.WebElement (session=\"5865ed4002f45e4b1ee1be059c6904e0\", element=\"1475ed57-17a4-403b-ace3-3d10805220f5\")>,\n",
       " <selenium.webdriver.remote.webelement.WebElement (session=\"5865ed4002f45e4b1ee1be059c6904e0\", element=\"0466d5cd-c58a-4548-8d13-d38f420493ec\")>,\n",
       " <selenium.webdriver.remote.webelement.WebElement (session=\"5865ed4002f45e4b1ee1be059c6904e0\", element=\"0204dd90-0f19-4a27-8fa2-8c181602eff8\")>,\n",
       " <selenium.webdriver.remote.webelement.WebElement (session=\"5865ed4002f45e4b1ee1be059c6904e0\", element=\"73488c15-a310-4a97-9887-5c49ee634f0d\")>,\n",
       " <selenium.webdriver.remote.webelement.WebElement (session=\"5865ed4002f45e4b1ee1be059c6904e0\", element=\"db2d2e4a-5512-46a8-832a-cc0e67f73ac4\")>,\n",
       " <selenium.webdriver.remote.webelement.WebElement (session=\"5865ed4002f45e4b1ee1be059c6904e0\", element=\"dd31a6ff-4b87-47d3-9285-b37b0d0084e8\")>,\n",
       " <selenium.webdriver.remote.webelement.WebElement (session=\"5865ed4002f45e4b1ee1be059c6904e0\", element=\"406a8555-1de8-4472-9399-6a9dbbe8d4a6\")>,\n",
       " <selenium.webdriver.remote.webelement.WebElement (session=\"5865ed4002f45e4b1ee1be059c6904e0\", element=\"3957a109-7f49-4c3a-811d-9c152cd414f8\")>,\n",
       " <selenium.webdriver.remote.webelement.WebElement (session=\"5865ed4002f45e4b1ee1be059c6904e0\", element=\"5a07ee39-ed65-4b5a-a72a-debae5257266\")>,\n",
       " <selenium.webdriver.remote.webelement.WebElement (session=\"5865ed4002f45e4b1ee1be059c6904e0\", element=\"88e731d9-5664-4868-8aa7-494c90939ab7\")>,\n",
       " <selenium.webdriver.remote.webelement.WebElement (session=\"5865ed4002f45e4b1ee1be059c6904e0\", element=\"9a41d459-f761-4436-802c-621e9993fb2d\")>,\n",
       " <selenium.webdriver.remote.webelement.WebElement (session=\"5865ed4002f45e4b1ee1be059c6904e0\", element=\"effd4d52-f75c-4b4f-b5ae-a6fd20084651\")>,\n",
       " <selenium.webdriver.remote.webelement.WebElement (session=\"5865ed4002f45e4b1ee1be059c6904e0\", element=\"5f6c26b1-d18a-4a36-8c84-094faa65fb2b\")>,\n",
       " <selenium.webdriver.remote.webelement.WebElement (session=\"5865ed4002f45e4b1ee1be059c6904e0\", element=\"63e470ea-c5d6-4760-8496-d28092a81e70\")>,\n",
       " <selenium.webdriver.remote.webelement.WebElement (session=\"5865ed4002f45e4b1ee1be059c6904e0\", element=\"54fe335e-7960-45e1-9380-304652be0e17\")>,\n",
       " <selenium.webdriver.remote.webelement.WebElement (session=\"5865ed4002f45e4b1ee1be059c6904e0\", element=\"be47bf84-2d8c-4e0e-8d19-889faad54b09\")>,\n",
       " <selenium.webdriver.remote.webelement.WebElement (session=\"5865ed4002f45e4b1ee1be059c6904e0\", element=\"c4efa8de-ce0c-4e83-9cfb-df3a9d99799c\")>,\n",
       " <selenium.webdriver.remote.webelement.WebElement (session=\"5865ed4002f45e4b1ee1be059c6904e0\", element=\"9c4c5ea8-7b7b-4569-b1c2-bf18eef9a07e\")>,\n",
       " <selenium.webdriver.remote.webelement.WebElement (session=\"5865ed4002f45e4b1ee1be059c6904e0\", element=\"3784bd5b-d60d-4d9c-a9c1-91d400cb83fe\")>,\n",
       " <selenium.webdriver.remote.webelement.WebElement (session=\"5865ed4002f45e4b1ee1be059c6904e0\", element=\"1324d0b1-62be-4dc6-80b3-891aa687870d\")>,\n",
       " <selenium.webdriver.remote.webelement.WebElement (session=\"5865ed4002f45e4b1ee1be059c6904e0\", element=\"53483e67-200d-456b-b865-bbb83f3077c4\")>,\n",
       " <selenium.webdriver.remote.webelement.WebElement (session=\"5865ed4002f45e4b1ee1be059c6904e0\", element=\"e6d01e68-0cfa-4b2b-ada2-3527015c8438\")>,\n",
       " <selenium.webdriver.remote.webelement.WebElement (session=\"5865ed4002f45e4b1ee1be059c6904e0\", element=\"e8ab6e1d-784e-4903-b038-181dc8d582ec\")>,\n",
       " <selenium.webdriver.remote.webelement.WebElement (session=\"5865ed4002f45e4b1ee1be059c6904e0\", element=\"28abe462-2abe-445a-8b3b-e772d9752425\")>,\n",
       " <selenium.webdriver.remote.webelement.WebElement (session=\"5865ed4002f45e4b1ee1be059c6904e0\", element=\"073cbeed-aadc-41dc-b86c-9b6a2619d44c\")>,\n",
       " <selenium.webdriver.remote.webelement.WebElement (session=\"5865ed4002f45e4b1ee1be059c6904e0\", element=\"41c6284d-f3a6-486d-a157-6de17dfd4af9\")>,\n",
       " <selenium.webdriver.remote.webelement.WebElement (session=\"5865ed4002f45e4b1ee1be059c6904e0\", element=\"fda399e1-e967-44e9-bd1a-afc0cba34b01\")>,\n",
       " <selenium.webdriver.remote.webelement.WebElement (session=\"5865ed4002f45e4b1ee1be059c6904e0\", element=\"d0b189d9-4515-4c79-8707-b3136ba4d5ce\")>,\n",
       " <selenium.webdriver.remote.webelement.WebElement (session=\"5865ed4002f45e4b1ee1be059c6904e0\", element=\"722dc491-625e-4657-a040-a6cec5d63a78\")>,\n",
       " <selenium.webdriver.remote.webelement.WebElement (session=\"5865ed4002f45e4b1ee1be059c6904e0\", element=\"f568e6ea-a8dc-4b25-a744-9771c2c1d458\")>,\n",
       " <selenium.webdriver.remote.webelement.WebElement (session=\"5865ed4002f45e4b1ee1be059c6904e0\", element=\"8d374eae-0ddc-4c8d-8889-5039123df8d9\")>,\n",
       " <selenium.webdriver.remote.webelement.WebElement (session=\"5865ed4002f45e4b1ee1be059c6904e0\", element=\"794d14cf-59d9-4560-b18a-a51fe9efdbbd\")>,\n",
       " <selenium.webdriver.remote.webelement.WebElement (session=\"5865ed4002f45e4b1ee1be059c6904e0\", element=\"97695469-e891-440d-9567-157e6f8f91da\")>,\n",
       " <selenium.webdriver.remote.webelement.WebElement (session=\"5865ed4002f45e4b1ee1be059c6904e0\", element=\"a3f50480-d76a-44a5-ba4c-3409a13a00dc\")>,\n",
       " <selenium.webdriver.remote.webelement.WebElement (session=\"5865ed4002f45e4b1ee1be059c6904e0\", element=\"4563e676-eb97-499d-b971-835c222c0cdb\")>,\n",
       " <selenium.webdriver.remote.webelement.WebElement (session=\"5865ed4002f45e4b1ee1be059c6904e0\", element=\"86c8f5f3-8887-4b3f-849e-714a3a6b5177\")>,\n",
       " <selenium.webdriver.remote.webelement.WebElement (session=\"5865ed4002f45e4b1ee1be059c6904e0\", element=\"2f400877-e467-4a3d-829c-3777bc618f67\")>,\n",
       " <selenium.webdriver.remote.webelement.WebElement (session=\"5865ed4002f45e4b1ee1be059c6904e0\", element=\"d8caa307-32d1-47ec-925f-d6957bc1b29f\")>,\n",
       " <selenium.webdriver.remote.webelement.WebElement (session=\"5865ed4002f45e4b1ee1be059c6904e0\", element=\"132e5c20-7df4-4934-ac7d-281791714a74\")>,\n",
       " <selenium.webdriver.remote.webelement.WebElement (session=\"5865ed4002f45e4b1ee1be059c6904e0\", element=\"6517ba3e-97ec-4863-94d9-8b92dae39712\")>,\n",
       " <selenium.webdriver.remote.webelement.WebElement (session=\"5865ed4002f45e4b1ee1be059c6904e0\", element=\"d35ba7ab-3302-4a01-a668-7b607df11e30\")>,\n",
       " <selenium.webdriver.remote.webelement.WebElement (session=\"5865ed4002f45e4b1ee1be059c6904e0\", element=\"e53a1562-5b84-4e62-960a-3ccebf2bc915\")>,\n",
       " <selenium.webdriver.remote.webelement.WebElement (session=\"5865ed4002f45e4b1ee1be059c6904e0\", element=\"5cdf9af7-e912-4644-a1d4-9cdc3ebd91cf\")>,\n",
       " <selenium.webdriver.remote.webelement.WebElement (session=\"5865ed4002f45e4b1ee1be059c6904e0\", element=\"41c3ee9c-b70f-4316-9a52-580208ea636a\")>,\n",
       " <selenium.webdriver.remote.webelement.WebElement (session=\"5865ed4002f45e4b1ee1be059c6904e0\", element=\"b91a4886-cede-440a-9467-4bd7ec8f8f2e\")>,\n",
       " <selenium.webdriver.remote.webelement.WebElement (session=\"5865ed4002f45e4b1ee1be059c6904e0\", element=\"8dc00382-4695-4737-a019-9c7c3f432c90\")>,\n",
       " <selenium.webdriver.remote.webelement.WebElement (session=\"5865ed4002f45e4b1ee1be059c6904e0\", element=\"20e36025-3447-41bd-876d-bd234556bd84\")>,\n",
       " <selenium.webdriver.remote.webelement.WebElement (session=\"5865ed4002f45e4b1ee1be059c6904e0\", element=\"b1b28ac6-e6ce-4b19-b668-d1a6eee60c35\")>,\n",
       " <selenium.webdriver.remote.webelement.WebElement (session=\"5865ed4002f45e4b1ee1be059c6904e0\", element=\"ece003c2-7a38-41e2-8b68-338273a0be0a\")>,\n",
       " <selenium.webdriver.remote.webelement.WebElement (session=\"5865ed4002f45e4b1ee1be059c6904e0\", element=\"7dabb15a-7c50-4bea-bfd5-9d8bdf7f8c25\")>,\n",
       " <selenium.webdriver.remote.webelement.WebElement (session=\"5865ed4002f45e4b1ee1be059c6904e0\", element=\"b9e69d34-f972-4d20-9b48-b0dd14d805d4\")>,\n",
       " <selenium.webdriver.remote.webelement.WebElement (session=\"5865ed4002f45e4b1ee1be059c6904e0\", element=\"ffb11267-9581-48ee-8413-feea01037643\")>]"
      ]
     },
     "execution_count": 8,
     "metadata": {},
     "output_type": "execute_result"
    }
   ],
   "source": [
    "header2=browser.find_elements(\"xpath\",\"//div[@class='td-wrap-in']\")\n",
    "header2"
   ]
  },
  {
   "cell_type": "code",
   "execution_count": 9,
   "id": "2901af06",
   "metadata": {},
   "outputs": [
    {
     "data": {
      "text/plain": [
       "['89', '99.9', '100', '51.5', '100', '77.3', '89.2', '92', '100']"
      ]
     },
     "execution_count": 9,
     "metadata": {},
     "output_type": "execute_result"
    }
   ],
   "source": [
    "#PARSING DATA\n",
    "value_head=[]\n",
    "for data in header2:\n",
    "    #get the text data\n",
    "    temp=data.text\n",
    "    value_head.append(temp)\n",
    "value_head=value_head[71:80]\n",
    "value_head\n"
   ]
  },
  {
   "cell_type": "code",
   "execution_count": 10,
   "id": "2f2fc188",
   "metadata": {},
   "outputs": [
    {
     "data": {
      "text/plain": [
       "{'Overall Score': '89',\n",
       " 'Academic Reputation': '99.9',\n",
       " 'Employer Reputation': '100',\n",
       " 'Citations per Faculty': '51.5',\n",
       " 'Faculty Student Ratio': '100',\n",
       " 'International Students Ratio': '77.3',\n",
       " 'International Faculty Ratio': '89.2',\n",
       " 'International Research Network\\nUnweighted': '92',\n",
       " 'Employment Outcomes\\nUnweighted': '100'}"
      ]
     },
     "execution_count": 10,
     "metadata": {},
     "output_type": "execute_result"
    }
   ],
   "source": [
    "d={}\n",
    "for i in range(len(column_head)):\n",
    "    d[column_head[i]]=value_head[i]\n",
    "d"
   ]
  },
  {
   "cell_type": "code",
   "execution_count": 11,
   "id": "0cfe7b1b",
   "metadata": {},
   "outputs": [
    {
     "data": {
      "text/plain": [
       "'{\"Overall Score\": \"89\", \"Academic Reputation\": \"99.9\", \"Employer Reputation\": \"100\", \"Citations per Faculty\": \"51.5\", \"Faculty Student Ratio\": \"100\", \"International Students Ratio\": \"77.3\", \"International Faculty Ratio\": \"89.2\", \"International Research Network\\\\nUnweighted\": \"92\", \"Employment Outcomes\\\\nUnweighted\": \"100\"}'"
      ]
     },
     "execution_count": 11,
     "metadata": {},
     "output_type": "execute_result"
    }
   ],
   "source": [
    "s1=json.dumps(d)\n",
    "s1"
   ]
  },
  {
   "cell_type": "code",
   "execution_count": 12,
   "id": "604887e0",
   "metadata": {},
   "outputs": [],
   "source": [
    "with open('Yale University.json','w') as f:\n",
    "    json.dump(d,f)"
   ]
  }
 ],
 "metadata": {
  "kernelspec": {
   "display_name": "Python 3 (ipykernel)",
   "language": "python",
   "name": "python3"
  },
  "language_info": {
   "codemirror_mode": {
    "name": "ipython",
    "version": 3
   },
   "file_extension": ".py",
   "mimetype": "text/x-python",
   "name": "python",
   "nbconvert_exporter": "python",
   "pygments_lexer": "ipython3",
   "version": "3.9.12"
  }
 },
 "nbformat": 4,
 "nbformat_minor": 5
}
