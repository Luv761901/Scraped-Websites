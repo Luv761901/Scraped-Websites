{
 "cells": [
  {
   "cell_type": "code",
   "execution_count": 10,
   "id": "6554aa72",
   "metadata": {},
   "outputs": [],
   "source": [
    "from selenium import webdriver\n",
    "from selenium.webdriver.chrome.service import Service\n",
    "import pandas as pd\n",
    "import json"
   ]
  },
  {
   "cell_type": "code",
   "execution_count": 11,
   "id": "4eb6e19f",
   "metadata": {},
   "outputs": [],
   "source": [
    "path = Service('C:\\chromedriver.exe')"
   ]
  },
  {
   "cell_type": "code",
   "execution_count": 12,
   "id": "ee01073d",
   "metadata": {},
   "outputs": [],
   "source": [
    "# set path for the driver\n",
    "browser = webdriver.Chrome(service = path)"
   ]
  },
  {
   "cell_type": "code",
   "execution_count": 13,
   "id": "c23afbe5",
   "metadata": {},
   "outputs": [],
   "source": [
    "url = \"https://www.topuniversities.com/university-rankings/world-university-rankings/2023\""
   ]
  },
  {
   "cell_type": "code",
   "execution_count": 16,
   "id": "b2e7ab23",
   "metadata": {},
   "outputs": [],
   "source": [
    "# open the page url ion chrome\n",
    "browser.get(url)"
   ]
  },
  {
   "cell_type": "code",
   "execution_count": 17,
   "id": "944e275c",
   "metadata": {},
   "outputs": [
    {
     "data": {
      "text/plain": [
       "[<selenium.webdriver.remote.webelement.WebElement (session=\"4d02feeba94f8cf30cd5bd6fc692b908\", element=\"2cd09af6-7cbb-43b8-8c54-bfd8b4c787f6\")>,\n",
       " <selenium.webdriver.remote.webelement.WebElement (session=\"4d02feeba94f8cf30cd5bd6fc692b908\", element=\"4672d000-9b8e-47e7-9f2a-153ebce4b7b7\")>,\n",
       " <selenium.webdriver.remote.webelement.WebElement (session=\"4d02feeba94f8cf30cd5bd6fc692b908\", element=\"7ff93b08-190a-4470-8d10-1c922598196f\")>,\n",
       " <selenium.webdriver.remote.webelement.WebElement (session=\"4d02feeba94f8cf30cd5bd6fc692b908\", element=\"6888f82e-0652-4482-bd51-441dce44ca3c\")>,\n",
       " <selenium.webdriver.remote.webelement.WebElement (session=\"4d02feeba94f8cf30cd5bd6fc692b908\", element=\"42faf0e5-dc4c-4533-9ce8-89d97955ac23\")>,\n",
       " <selenium.webdriver.remote.webelement.WebElement (session=\"4d02feeba94f8cf30cd5bd6fc692b908\", element=\"529e56ef-1973-4f7b-a934-b43e750aec9b\")>,\n",
       " <selenium.webdriver.remote.webelement.WebElement (session=\"4d02feeba94f8cf30cd5bd6fc692b908\", element=\"48b5e495-b8b4-449a-9de9-c4800e8e339d\")>,\n",
       " <selenium.webdriver.remote.webelement.WebElement (session=\"4d02feeba94f8cf30cd5bd6fc692b908\", element=\"e9040455-bdab-44c5-a0a4-95799998004f\")>,\n",
       " <selenium.webdriver.remote.webelement.WebElement (session=\"4d02feeba94f8cf30cd5bd6fc692b908\", element=\"ca642ad6-c003-4d1e-bf71-272e559d34e4\")>]"
      ]
     },
     "execution_count": 17,
     "metadata": {},
     "output_type": "execute_result"
    }
   ],
   "source": [
    "# GET EACH COLLEGE SPECIFICATION HEADERS\n",
    "header=browser.find_elements(\"xpath\",\"//div[@class='_click-function_ind']\")\n",
    "header"
   ]
  },
  {
   "cell_type": "code",
   "execution_count": 18,
   "id": "6ce63aa6",
   "metadata": {},
   "outputs": [
    {
     "data": {
      "text/plain": [
       "['Overall Score',\n",
       " 'Academic Reputation',\n",
       " 'Employer Reputation',\n",
       " 'Citations per Faculty',\n",
       " 'Faculty Student Ratio',\n",
       " 'International Students Ratio',\n",
       " 'International Faculty Ratio',\n",
       " 'International Research Network\\nUnweighted',\n",
       " 'Employment Outcomes\\nUnweighted']"
      ]
     },
     "execution_count": 18,
     "metadata": {},
     "output_type": "execute_result"
    }
   ],
   "source": [
    "#PARSING DATA\n",
    "column_head=[]\n",
    "for data in header:\n",
    "    #get the text data\n",
    "    temp=data.text\n",
    "    column_head.append(temp)\n",
    "column_head"
   ]
  },
  {
   "cell_type": "code",
   "execution_count": 19,
   "id": "954ee904",
   "metadata": {},
   "outputs": [
    {
     "data": {
      "text/plain": [
       "[<selenium.webdriver.remote.webelement.WebElement (session=\"4d02feeba94f8cf30cd5bd6fc692b908\", element=\"e0cfe794-6356-42bc-b3b7-40ad50a2f30a\")>,\n",
       " <selenium.webdriver.remote.webelement.WebElement (session=\"4d02feeba94f8cf30cd5bd6fc692b908\", element=\"773ca17d-ba8d-4253-aac5-ec3dc653b49b\")>,\n",
       " <selenium.webdriver.remote.webelement.WebElement (session=\"4d02feeba94f8cf30cd5bd6fc692b908\", element=\"cf03b6ec-ee91-4d9e-a0dc-bdaf6245731c\")>,\n",
       " <selenium.webdriver.remote.webelement.WebElement (session=\"4d02feeba94f8cf30cd5bd6fc692b908\", element=\"177c0629-9fc0-4bec-8ea2-cd58447b4d52\")>,\n",
       " <selenium.webdriver.remote.webelement.WebElement (session=\"4d02feeba94f8cf30cd5bd6fc692b908\", element=\"52ebe4d2-00ae-4beb-8743-93b3b5981cfa\")>,\n",
       " <selenium.webdriver.remote.webelement.WebElement (session=\"4d02feeba94f8cf30cd5bd6fc692b908\", element=\"19c7c057-ed9a-471e-8abc-e007490079e2\")>,\n",
       " <selenium.webdriver.remote.webelement.WebElement (session=\"4d02feeba94f8cf30cd5bd6fc692b908\", element=\"1a8ebcfb-5ef3-4335-8be2-f3b679b6e651\")>,\n",
       " <selenium.webdriver.remote.webelement.WebElement (session=\"4d02feeba94f8cf30cd5bd6fc692b908\", element=\"0abe0285-93ea-4d88-8138-b2a96ad7a43a\")>,\n",
       " <selenium.webdriver.remote.webelement.WebElement (session=\"4d02feeba94f8cf30cd5bd6fc692b908\", element=\"cd914e90-c30b-4c5f-9289-7d1a40928437\")>,\n",
       " <selenium.webdriver.remote.webelement.WebElement (session=\"4d02feeba94f8cf30cd5bd6fc692b908\", element=\"6489bae4-ff2a-41a8-81fe-cfeb962a142d\")>,\n",
       " <selenium.webdriver.remote.webelement.WebElement (session=\"4d02feeba94f8cf30cd5bd6fc692b908\", element=\"79be1e23-1c42-47c5-b1cc-5c25e0bc3fe4\")>,\n",
       " <selenium.webdriver.remote.webelement.WebElement (session=\"4d02feeba94f8cf30cd5bd6fc692b908\", element=\"17f5d060-a65c-46f1-866f-3a1d6e3cb8f5\")>,\n",
       " <selenium.webdriver.remote.webelement.WebElement (session=\"4d02feeba94f8cf30cd5bd6fc692b908\", element=\"9b52c08a-954f-49eb-9e17-1895a0c2a960\")>,\n",
       " <selenium.webdriver.remote.webelement.WebElement (session=\"4d02feeba94f8cf30cd5bd6fc692b908\", element=\"13ec7ce4-8b6a-4595-9047-2ba7503620d5\")>,\n",
       " <selenium.webdriver.remote.webelement.WebElement (session=\"4d02feeba94f8cf30cd5bd6fc692b908\", element=\"d418d897-85f9-4ac7-b8ed-b55d613459f2\")>,\n",
       " <selenium.webdriver.remote.webelement.WebElement (session=\"4d02feeba94f8cf30cd5bd6fc692b908\", element=\"385f85fd-6f03-4525-bef0-1973c5024138\")>,\n",
       " <selenium.webdriver.remote.webelement.WebElement (session=\"4d02feeba94f8cf30cd5bd6fc692b908\", element=\"930a876c-ef08-4d6f-9cf8-508c107d58aa\")>,\n",
       " <selenium.webdriver.remote.webelement.WebElement (session=\"4d02feeba94f8cf30cd5bd6fc692b908\", element=\"cf35ece8-8287-4d9d-bfe5-1b8c6f60555f\")>,\n",
       " <selenium.webdriver.remote.webelement.WebElement (session=\"4d02feeba94f8cf30cd5bd6fc692b908\", element=\"9b5e2c27-a8f1-4670-982e-de4be85bbc32\")>,\n",
       " <selenium.webdriver.remote.webelement.WebElement (session=\"4d02feeba94f8cf30cd5bd6fc692b908\", element=\"4ae4604a-3f88-422a-a03c-fcd95ad8c057\")>,\n",
       " <selenium.webdriver.remote.webelement.WebElement (session=\"4d02feeba94f8cf30cd5bd6fc692b908\", element=\"7db7cf8e-f401-45dd-b629-828b56e931bc\")>,\n",
       " <selenium.webdriver.remote.webelement.WebElement (session=\"4d02feeba94f8cf30cd5bd6fc692b908\", element=\"58873899-a586-4e6d-9006-d0a98c67e042\")>,\n",
       " <selenium.webdriver.remote.webelement.WebElement (session=\"4d02feeba94f8cf30cd5bd6fc692b908\", element=\"f02fc923-d06b-49a5-a9fb-53ece2a560a4\")>,\n",
       " <selenium.webdriver.remote.webelement.WebElement (session=\"4d02feeba94f8cf30cd5bd6fc692b908\", element=\"63916a52-bfef-48b2-90bb-6bc2fcf11fa6\")>,\n",
       " <selenium.webdriver.remote.webelement.WebElement (session=\"4d02feeba94f8cf30cd5bd6fc692b908\", element=\"119f13c5-8c8b-4b52-b04d-0c39e376225f\")>,\n",
       " <selenium.webdriver.remote.webelement.WebElement (session=\"4d02feeba94f8cf30cd5bd6fc692b908\", element=\"f310305f-19d3-4487-9d89-6d31fd25ccd0\")>,\n",
       " <selenium.webdriver.remote.webelement.WebElement (session=\"4d02feeba94f8cf30cd5bd6fc692b908\", element=\"9a537605-7cc5-47d4-9192-f5035005ab2f\")>,\n",
       " <selenium.webdriver.remote.webelement.WebElement (session=\"4d02feeba94f8cf30cd5bd6fc692b908\", element=\"787f6da8-9529-47f5-aaae-bfaaa303c0d5\")>,\n",
       " <selenium.webdriver.remote.webelement.WebElement (session=\"4d02feeba94f8cf30cd5bd6fc692b908\", element=\"6c670046-1ab6-48d9-bebb-b8a6bb563dab\")>,\n",
       " <selenium.webdriver.remote.webelement.WebElement (session=\"4d02feeba94f8cf30cd5bd6fc692b908\", element=\"b11f54fb-2265-4694-a8b2-41049d8c9e12\")>,\n",
       " <selenium.webdriver.remote.webelement.WebElement (session=\"4d02feeba94f8cf30cd5bd6fc692b908\", element=\"beacbc1c-ca9c-4aa0-8fef-60e525d5c859\")>,\n",
       " <selenium.webdriver.remote.webelement.WebElement (session=\"4d02feeba94f8cf30cd5bd6fc692b908\", element=\"2d732c76-267b-4f8e-bb39-d554b8d37beb\")>,\n",
       " <selenium.webdriver.remote.webelement.WebElement (session=\"4d02feeba94f8cf30cd5bd6fc692b908\", element=\"91049a93-fcc7-40f8-91e8-377e68f1cc65\")>,\n",
       " <selenium.webdriver.remote.webelement.WebElement (session=\"4d02feeba94f8cf30cd5bd6fc692b908\", element=\"a1f07a3d-1dc2-4ba7-86cb-5878121f0f6f\")>,\n",
       " <selenium.webdriver.remote.webelement.WebElement (session=\"4d02feeba94f8cf30cd5bd6fc692b908\", element=\"da5946eb-3954-467b-8b4e-b7aa01b94576\")>,\n",
       " <selenium.webdriver.remote.webelement.WebElement (session=\"4d02feeba94f8cf30cd5bd6fc692b908\", element=\"611cc4be-7078-49fe-b4dc-d373410e4eb1\")>,\n",
       " <selenium.webdriver.remote.webelement.WebElement (session=\"4d02feeba94f8cf30cd5bd6fc692b908\", element=\"5d6879ba-77eb-468e-9c0a-80c9eea395b8\")>,\n",
       " <selenium.webdriver.remote.webelement.WebElement (session=\"4d02feeba94f8cf30cd5bd6fc692b908\", element=\"51c269e7-3a08-4f5f-9353-e3df8267d06d\")>,\n",
       " <selenium.webdriver.remote.webelement.WebElement (session=\"4d02feeba94f8cf30cd5bd6fc692b908\", element=\"ec5b94b1-84cd-49df-af92-28cd2ebad57c\")>,\n",
       " <selenium.webdriver.remote.webelement.WebElement (session=\"4d02feeba94f8cf30cd5bd6fc692b908\", element=\"a8c855cb-5683-45f5-8f3f-c633442ebd83\")>,\n",
       " <selenium.webdriver.remote.webelement.WebElement (session=\"4d02feeba94f8cf30cd5bd6fc692b908\", element=\"b35d5d1a-f1c6-488b-be70-2e89f7742722\")>,\n",
       " <selenium.webdriver.remote.webelement.WebElement (session=\"4d02feeba94f8cf30cd5bd6fc692b908\", element=\"7be3f1a8-1115-4f1b-a9d4-aa802a7406bd\")>,\n",
       " <selenium.webdriver.remote.webelement.WebElement (session=\"4d02feeba94f8cf30cd5bd6fc692b908\", element=\"0f05748c-1d24-4004-86ab-ad0aa32008e6\")>,\n",
       " <selenium.webdriver.remote.webelement.WebElement (session=\"4d02feeba94f8cf30cd5bd6fc692b908\", element=\"d8929e3b-e79d-4034-9fd8-0d43d5683aba\")>,\n",
       " <selenium.webdriver.remote.webelement.WebElement (session=\"4d02feeba94f8cf30cd5bd6fc692b908\", element=\"85c19d5f-bd35-4cad-b15a-deea3dd57cde\")>,\n",
       " <selenium.webdriver.remote.webelement.WebElement (session=\"4d02feeba94f8cf30cd5bd6fc692b908\", element=\"f924364f-fc66-4512-bdeb-76e5f70470ef\")>,\n",
       " <selenium.webdriver.remote.webelement.WebElement (session=\"4d02feeba94f8cf30cd5bd6fc692b908\", element=\"25536d74-62dc-4292-9e36-5f545c71a731\")>,\n",
       " <selenium.webdriver.remote.webelement.WebElement (session=\"4d02feeba94f8cf30cd5bd6fc692b908\", element=\"8e66ef9a-d294-4fa3-a0e4-c16f8eefc121\")>,\n",
       " <selenium.webdriver.remote.webelement.WebElement (session=\"4d02feeba94f8cf30cd5bd6fc692b908\", element=\"f3362a3a-5099-4355-a32f-2d670a9b8cc2\")>,\n",
       " <selenium.webdriver.remote.webelement.WebElement (session=\"4d02feeba94f8cf30cd5bd6fc692b908\", element=\"7b65898b-9ccd-46cc-b342-626159ca1773\")>,\n",
       " <selenium.webdriver.remote.webelement.WebElement (session=\"4d02feeba94f8cf30cd5bd6fc692b908\", element=\"d0e58969-865f-455e-b510-ca9665ec90c0\")>,\n",
       " <selenium.webdriver.remote.webelement.WebElement (session=\"4d02feeba94f8cf30cd5bd6fc692b908\", element=\"ce7f7f73-f299-4663-8de4-734c89202277\")>,\n",
       " <selenium.webdriver.remote.webelement.WebElement (session=\"4d02feeba94f8cf30cd5bd6fc692b908\", element=\"ec9ffb40-9180-4dd2-95e0-c32962926484\")>,\n",
       " <selenium.webdriver.remote.webelement.WebElement (session=\"4d02feeba94f8cf30cd5bd6fc692b908\", element=\"eff694bb-8aac-4493-8e7e-64cd839e5322\")>,\n",
       " <selenium.webdriver.remote.webelement.WebElement (session=\"4d02feeba94f8cf30cd5bd6fc692b908\", element=\"bde7cf6e-5176-4d4e-99ea-47bdb087cfde\")>,\n",
       " <selenium.webdriver.remote.webelement.WebElement (session=\"4d02feeba94f8cf30cd5bd6fc692b908\", element=\"3436e5d1-ac90-4807-81f4-40401672dacf\")>,\n",
       " <selenium.webdriver.remote.webelement.WebElement (session=\"4d02feeba94f8cf30cd5bd6fc692b908\", element=\"8a2cd3dd-045a-4718-89a5-1edae4c23fb9\")>,\n",
       " <selenium.webdriver.remote.webelement.WebElement (session=\"4d02feeba94f8cf30cd5bd6fc692b908\", element=\"1bf500f0-6944-46ff-9584-c7957ccef19c\")>,\n",
       " <selenium.webdriver.remote.webelement.WebElement (session=\"4d02feeba94f8cf30cd5bd6fc692b908\", element=\"151fabe0-b37c-4f33-bd1c-42077ff67f2c\")>,\n",
       " <selenium.webdriver.remote.webelement.WebElement (session=\"4d02feeba94f8cf30cd5bd6fc692b908\", element=\"9be5ab4d-124e-4b53-b764-a0bf1f549cb4\")>,\n",
       " <selenium.webdriver.remote.webelement.WebElement (session=\"4d02feeba94f8cf30cd5bd6fc692b908\", element=\"5d2440e7-ce13-48b7-a233-ecc93f6127f1\")>,\n",
       " <selenium.webdriver.remote.webelement.WebElement (session=\"4d02feeba94f8cf30cd5bd6fc692b908\", element=\"713c4685-eb9e-4990-bdc3-636aa120d69e\")>,\n",
       " <selenium.webdriver.remote.webelement.WebElement (session=\"4d02feeba94f8cf30cd5bd6fc692b908\", element=\"8d319bdd-2029-4924-964a-9f3846e036f7\")>,\n",
       " <selenium.webdriver.remote.webelement.WebElement (session=\"4d02feeba94f8cf30cd5bd6fc692b908\", element=\"716b6efc-b6ec-4a66-83c8-c4a8ce3c3688\")>,\n",
       " <selenium.webdriver.remote.webelement.WebElement (session=\"4d02feeba94f8cf30cd5bd6fc692b908\", element=\"732f0fea-7ed9-4cd3-b297-aa975c8db6c1\")>,\n",
       " <selenium.webdriver.remote.webelement.WebElement (session=\"4d02feeba94f8cf30cd5bd6fc692b908\", element=\"d8cf1042-002e-4ff3-8c7b-9c106f4fd560\")>,\n",
       " <selenium.webdriver.remote.webelement.WebElement (session=\"4d02feeba94f8cf30cd5bd6fc692b908\", element=\"0ad2a251-ee7a-428c-bf3b-c99a121a1fee\")>,\n",
       " <selenium.webdriver.remote.webelement.WebElement (session=\"4d02feeba94f8cf30cd5bd6fc692b908\", element=\"c17b784c-8b14-4eec-b949-70d3c2568149\")>,\n",
       " <selenium.webdriver.remote.webelement.WebElement (session=\"4d02feeba94f8cf30cd5bd6fc692b908\", element=\"5cd6c22a-b300-4b6d-b9e3-a01ad3b54af6\")>,\n",
       " <selenium.webdriver.remote.webelement.WebElement (session=\"4d02feeba94f8cf30cd5bd6fc692b908\", element=\"ead2f836-fcf0-4abe-8e86-2cf1d5a8238b\")>,\n",
       " <selenium.webdriver.remote.webelement.WebElement (session=\"4d02feeba94f8cf30cd5bd6fc692b908\", element=\"6d213284-2f08-436a-9e54-68349968f43d\")>,\n",
       " <selenium.webdriver.remote.webelement.WebElement (session=\"4d02feeba94f8cf30cd5bd6fc692b908\", element=\"e60d5491-fb7f-46ac-8c4e-188b8286c8da\")>,\n",
       " <selenium.webdriver.remote.webelement.WebElement (session=\"4d02feeba94f8cf30cd5bd6fc692b908\", element=\"063bf38d-6073-414b-b521-a612d2d5cb4f\")>,\n",
       " <selenium.webdriver.remote.webelement.WebElement (session=\"4d02feeba94f8cf30cd5bd6fc692b908\", element=\"b156003d-ea98-4840-b133-42c1c80ab1d6\")>,\n",
       " <selenium.webdriver.remote.webelement.WebElement (session=\"4d02feeba94f8cf30cd5bd6fc692b908\", element=\"b9e5ccaf-d5d5-4354-ba9a-b38c7b34e9d2\")>,\n",
       " <selenium.webdriver.remote.webelement.WebElement (session=\"4d02feeba94f8cf30cd5bd6fc692b908\", element=\"c7501a93-9ad9-4dc5-9251-da9c850393fb\")>,\n",
       " <selenium.webdriver.remote.webelement.WebElement (session=\"4d02feeba94f8cf30cd5bd6fc692b908\", element=\"4b0d19c0-94e4-482b-8df4-5854f7dad69e\")>,\n",
       " <selenium.webdriver.remote.webelement.WebElement (session=\"4d02feeba94f8cf30cd5bd6fc692b908\", element=\"c9632ecf-0f03-486d-a3b2-8bd87e0e5cc4\")>,\n",
       " <selenium.webdriver.remote.webelement.WebElement (session=\"4d02feeba94f8cf30cd5bd6fc692b908\", element=\"70da4d11-22c5-468d-b636-b17732f06fbc\")>,\n",
       " <selenium.webdriver.remote.webelement.WebElement (session=\"4d02feeba94f8cf30cd5bd6fc692b908\", element=\"2397e53b-ab0d-4ee6-aa41-e51d79549c61\")>,\n",
       " <selenium.webdriver.remote.webelement.WebElement (session=\"4d02feeba94f8cf30cd5bd6fc692b908\", element=\"b0577eff-5f77-4229-950c-79cb9bfbfef5\")>,\n",
       " <selenium.webdriver.remote.webelement.WebElement (session=\"4d02feeba94f8cf30cd5bd6fc692b908\", element=\"c4b0419a-d5f4-4e62-b31d-2d1195d1c868\")>,\n",
       " <selenium.webdriver.remote.webelement.WebElement (session=\"4d02feeba94f8cf30cd5bd6fc692b908\", element=\"8e7e9d0d-0e02-4e5d-8328-454f783719f2\")>,\n",
       " <selenium.webdriver.remote.webelement.WebElement (session=\"4d02feeba94f8cf30cd5bd6fc692b908\", element=\"8082a031-5557-4257-ad0b-87d1c39e26c5\")>,\n",
       " <selenium.webdriver.remote.webelement.WebElement (session=\"4d02feeba94f8cf30cd5bd6fc692b908\", element=\"d5286634-8179-464a-b158-c19d1d678ce4\")>,\n",
       " <selenium.webdriver.remote.webelement.WebElement (session=\"4d02feeba94f8cf30cd5bd6fc692b908\", element=\"cb2a455a-0461-4bee-b621-c0b2cd2f1050\")>,\n",
       " <selenium.webdriver.remote.webelement.WebElement (session=\"4d02feeba94f8cf30cd5bd6fc692b908\", element=\"66ce5783-7118-411d-bb52-00a1b0b09f2d\")>,\n",
       " <selenium.webdriver.remote.webelement.WebElement (session=\"4d02feeba94f8cf30cd5bd6fc692b908\", element=\"90214f25-6987-464b-bf68-c4ab117911bc\")>,\n",
       " <selenium.webdriver.remote.webelement.WebElement (session=\"4d02feeba94f8cf30cd5bd6fc692b908\", element=\"38cd787c-975f-42db-b410-a00fabc94c6d\")>,\n",
       " <selenium.webdriver.remote.webelement.WebElement (session=\"4d02feeba94f8cf30cd5bd6fc692b908\", element=\"40511ee8-fde2-440a-acc3-e22810c638be\")>,\n",
       " <selenium.webdriver.remote.webelement.WebElement (session=\"4d02feeba94f8cf30cd5bd6fc692b908\", element=\"d5c97675-c3a2-4465-98df-4b4b170bcc67\")>,\n",
       " <selenium.webdriver.remote.webelement.WebElement (session=\"4d02feeba94f8cf30cd5bd6fc692b908\", element=\"267e309d-cb61-40f9-8ec8-b72051466337\")>,\n",
       " <selenium.webdriver.remote.webelement.WebElement (session=\"4d02feeba94f8cf30cd5bd6fc692b908\", element=\"28de78fb-243c-49d2-a5b9-069643d4e316\")>,\n",
       " <selenium.webdriver.remote.webelement.WebElement (session=\"4d02feeba94f8cf30cd5bd6fc692b908\", element=\"aeae71bd-37f7-431d-ac44-a484a826c229\")>,\n",
       " <selenium.webdriver.remote.webelement.WebElement (session=\"4d02feeba94f8cf30cd5bd6fc692b908\", element=\"73f2a6bd-b1a0-4b80-98b3-07e3224009b0\")>,\n",
       " <selenium.webdriver.remote.webelement.WebElement (session=\"4d02feeba94f8cf30cd5bd6fc692b908\", element=\"fc5ac908-4998-4d05-bfbe-a83c8b9875b1\")>,\n",
       " <selenium.webdriver.remote.webelement.WebElement (session=\"4d02feeba94f8cf30cd5bd6fc692b908\", element=\"4818e9da-ded0-4090-82de-6ef1c825d308\")>,\n",
       " <selenium.webdriver.remote.webelement.WebElement (session=\"4d02feeba94f8cf30cd5bd6fc692b908\", element=\"dcc46df5-054c-4085-88fa-eaa1fdee473f\")>,\n",
       " <selenium.webdriver.remote.webelement.WebElement (session=\"4d02feeba94f8cf30cd5bd6fc692b908\", element=\"0081b5af-7151-429d-9fc1-589e8adb1ada\")>,\n",
       " <selenium.webdriver.remote.webelement.WebElement (session=\"4d02feeba94f8cf30cd5bd6fc692b908\", element=\"42f5e85f-96ac-408e-9f57-a953141e2ffd\")>]"
      ]
     },
     "execution_count": 19,
     "metadata": {},
     "output_type": "execute_result"
    }
   ],
   "source": [
    "header2=browser.find_elements(\"xpath\",\"//div[@class='td-wrap-in']\")\n",
    "header2"
   ]
  },
  {
   "cell_type": "code",
   "execution_count": 20,
   "id": "9494534f",
   "metadata": {},
   "outputs": [
    {
     "data": {
      "text/plain": [
       "['82.3', '95.1', '97.7', '59', '63.1', '99.4', '93.4', '98.9', '66.4']"
      ]
     },
     "execution_count": 20,
     "metadata": {},
     "output_type": "execute_result"
    }
   ],
   "source": [
    "#PARSING DATA\n",
    "value_head=[]\n",
    "for data in header2:\n",
    "    #get the text data\n",
    "    temp=data.text\n",
    "    value_head.append(temp)\n",
    "value_head=value_head[71:80]\n",
    "value_head"
   ]
  },
  {
   "cell_type": "code",
   "execution_count": 21,
   "id": "9144e353",
   "metadata": {},
   "outputs": [
    {
     "data": {
      "text/plain": [
       "{'Overall Score': '82.3',\n",
       " 'Academic Reputation': '95.1',\n",
       " 'Employer Reputation': '97.7',\n",
       " 'Citations per Faculty': '59',\n",
       " 'Faculty Student Ratio': '63.1',\n",
       " 'International Students Ratio': '99.4',\n",
       " 'International Faculty Ratio': '93.4',\n",
       " 'International Research Network\\nUnweighted': '98.9',\n",
       " 'Employment Outcomes\\nUnweighted': '66.4'}"
      ]
     },
     "execution_count": 21,
     "metadata": {},
     "output_type": "execute_result"
    }
   ],
   "source": [
    "d={}\n",
    "for i in range(len(column_head)):\n",
    "    d[column_head[i]]=value_head[i]\n",
    "d"
   ]
  },
  {
   "cell_type": "code",
   "execution_count": 22,
   "id": "bf6f2215",
   "metadata": {},
   "outputs": [
    {
     "data": {
      "text/plain": [
       "'{\"Overall Score\": \"82.3\", \"Academic Reputation\": \"95.1\", \"Employer Reputation\": \"97.7\", \"Citations per Faculty\": \"59\", \"Faculty Student Ratio\": \"63.1\", \"International Students Ratio\": \"99.4\", \"International Faculty Ratio\": \"93.4\", \"International Research Network\\\\nUnweighted\": \"98.9\", \"Employment Outcomes\\\\nUnweighted\": \"66.4\"}'"
      ]
     },
     "execution_count": 22,
     "metadata": {},
     "output_type": "execute_result"
    }
   ],
   "source": [
    "s1=json.dumps(d)\n",
    "s1"
   ]
  },
  {
   "cell_type": "code",
   "execution_count": 23,
   "id": "5f0055b3",
   "metadata": {},
   "outputs": [],
   "source": [
    "with open('The University of Manchester.json','w') as f:\n",
    "    json.dump(d,f)"
   ]
  },
  {
   "cell_type": "code",
   "execution_count": null,
   "id": "58181557",
   "metadata": {},
   "outputs": [],
   "source": []
  }
 ],
 "metadata": {
  "kernelspec": {
   "display_name": "Python 3 (ipykernel)",
   "language": "python",
   "name": "python3"
  },
  "language_info": {
   "codemirror_mode": {
    "name": "ipython",
    "version": 3
   },
   "file_extension": ".py",
   "mimetype": "text/x-python",
   "name": "python",
   "nbconvert_exporter": "python",
   "pygments_lexer": "ipython3",
   "version": "3.9.12"
  }
 },
 "nbformat": 4,
 "nbformat_minor": 5
}
