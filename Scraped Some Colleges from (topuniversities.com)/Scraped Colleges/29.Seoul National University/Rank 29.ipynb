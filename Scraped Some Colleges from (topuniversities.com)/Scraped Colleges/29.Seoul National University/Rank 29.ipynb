{
 "cells": [
  {
   "cell_type": "code",
   "execution_count": 1,
   "id": "63e16b31",
   "metadata": {},
   "outputs": [],
   "source": [
    "from selenium import webdriver\n",
    "from selenium.webdriver.chrome.service import Service\n",
    "import pandas as pd\n",
    "import json"
   ]
  },
  {
   "cell_type": "code",
   "execution_count": 2,
   "id": "4450fb0a",
   "metadata": {},
   "outputs": [],
   "source": [
    "path = Service('C:\\chromedriver.exe')"
   ]
  },
  {
   "cell_type": "code",
   "execution_count": 3,
   "id": "86b36f0b",
   "metadata": {},
   "outputs": [],
   "source": [
    "# set path for the driver\n",
    "browser = webdriver.Chrome(service = path)"
   ]
  },
  {
   "cell_type": "code",
   "execution_count": 4,
   "id": "2f4038f8",
   "metadata": {},
   "outputs": [],
   "source": [
    "url = \"https://www.topuniversities.com/university-rankings/world-university-rankings/2023\""
   ]
  },
  {
   "cell_type": "code",
   "execution_count": 5,
   "id": "70b880c9",
   "metadata": {},
   "outputs": [],
   "source": [
    "# open the page url ion chrome\n",
    "browser.get(url)"
   ]
  },
  {
   "cell_type": "code",
   "execution_count": 6,
   "id": "90114c27",
   "metadata": {},
   "outputs": [
    {
     "data": {
      "text/plain": [
       "[<selenium.webdriver.remote.webelement.WebElement (session=\"d36c08c9fafe8cbe4784f6bf473e3956\", element=\"abcfad85-e3a2-4b38-9b51-745a0d828b92\")>,\n",
       " <selenium.webdriver.remote.webelement.WebElement (session=\"d36c08c9fafe8cbe4784f6bf473e3956\", element=\"0f386706-93c2-4428-b255-b0cefb2af700\")>,\n",
       " <selenium.webdriver.remote.webelement.WebElement (session=\"d36c08c9fafe8cbe4784f6bf473e3956\", element=\"76eb380c-d0f7-4a0a-80d2-49c12dc59927\")>,\n",
       " <selenium.webdriver.remote.webelement.WebElement (session=\"d36c08c9fafe8cbe4784f6bf473e3956\", element=\"3db1f2c3-1e5e-4671-b259-2657048ab656\")>,\n",
       " <selenium.webdriver.remote.webelement.WebElement (session=\"d36c08c9fafe8cbe4784f6bf473e3956\", element=\"a45f4ca2-0fa0-409f-9b55-02852058ca1b\")>,\n",
       " <selenium.webdriver.remote.webelement.WebElement (session=\"d36c08c9fafe8cbe4784f6bf473e3956\", element=\"cbb5d9a8-13c8-4470-a618-e74a7b32e07c\")>,\n",
       " <selenium.webdriver.remote.webelement.WebElement (session=\"d36c08c9fafe8cbe4784f6bf473e3956\", element=\"3b6e6caf-4ee0-421d-866c-08a928cb3edb\")>,\n",
       " <selenium.webdriver.remote.webelement.WebElement (session=\"d36c08c9fafe8cbe4784f6bf473e3956\", element=\"da10e26b-941b-4310-8f94-ededb02b8399\")>,\n",
       " <selenium.webdriver.remote.webelement.WebElement (session=\"d36c08c9fafe8cbe4784f6bf473e3956\", element=\"97d5b1a9-9baf-4169-becd-3f997a29956e\")>,\n",
       " <selenium.webdriver.remote.webelement.WebElement (session=\"d36c08c9fafe8cbe4784f6bf473e3956\", element=\"5ff6e74c-83d0-484a-8792-d0fb58da1878\")>,\n",
       " <selenium.webdriver.remote.webelement.WebElement (session=\"d36c08c9fafe8cbe4784f6bf473e3956\", element=\"f43a6476-97b1-45b6-996f-d7e91587ade9\")>,\n",
       " <selenium.webdriver.remote.webelement.WebElement (session=\"d36c08c9fafe8cbe4784f6bf473e3956\", element=\"43b5df58-9608-4f57-a5f7-89b5e63f5293\")>,\n",
       " <selenium.webdriver.remote.webelement.WebElement (session=\"d36c08c9fafe8cbe4784f6bf473e3956\", element=\"61512e6c-90b4-4fea-b2fd-bba941845352\")>,\n",
       " <selenium.webdriver.remote.webelement.WebElement (session=\"d36c08c9fafe8cbe4784f6bf473e3956\", element=\"70942bd5-3a98-45c9-8ea2-3c0044d711f1\")>,\n",
       " <selenium.webdriver.remote.webelement.WebElement (session=\"d36c08c9fafe8cbe4784f6bf473e3956\", element=\"006e5eb8-27f3-46d4-8442-43d64afe687b\")>,\n",
       " <selenium.webdriver.remote.webelement.WebElement (session=\"d36c08c9fafe8cbe4784f6bf473e3956\", element=\"43b9afe7-ed53-425a-8666-6cad397fe0cf\")>,\n",
       " <selenium.webdriver.remote.webelement.WebElement (session=\"d36c08c9fafe8cbe4784f6bf473e3956\", element=\"1f6a80fe-1450-4a1a-b83b-df74113d4302\")>,\n",
       " <selenium.webdriver.remote.webelement.WebElement (session=\"d36c08c9fafe8cbe4784f6bf473e3956\", element=\"6d901c04-8d31-41c0-9765-d00ec55d8981\")>,\n",
       " <selenium.webdriver.remote.webelement.WebElement (session=\"d36c08c9fafe8cbe4784f6bf473e3956\", element=\"8a6a9d9b-edbc-455a-bbeb-7e7e1d18e554\")>,\n",
       " <selenium.webdriver.remote.webelement.WebElement (session=\"d36c08c9fafe8cbe4784f6bf473e3956\", element=\"3bb212f8-a82d-4dc2-83ce-bf449efa041d\")>]"
      ]
     },
     "execution_count": 6,
     "metadata": {},
     "output_type": "execute_result"
    }
   ],
   "source": [
    "l1=browser.find_elements(\"xpath\",\"//div[@class='location ']\")\n",
    "l1"
   ]
  },
  {
   "cell_type": "code",
   "execution_count": 7,
   "id": "29161270",
   "metadata": {},
   "outputs": [
    {
     "data": {
      "text/plain": [
       "[' Hong Kong SAR',\n",
       " 'New York City, United States',\n",
       " 'Tokyo, Japan',\n",
       " 'Baltimore, United States',\n",
       " 'Ann Arbor, United States',\n",
       " 'Paris, France',\n",
       " 'Berkeley, United States',\n",
       " 'Manchester, United Kingdom',\n",
       " 'Seoul, South Korea',\n",
       " 'Canberra, Australia']"
      ]
     },
     "execution_count": 7,
     "metadata": {},
     "output_type": "execute_result"
    }
   ],
   "source": [
    "loc=[]\n",
    "for data in l1:\n",
    "    #get the text data\n",
    "    temp=data.text\n",
    "    loc.append(temp)\n",
    "loc=loc[10:]\n",
    "loc"
   ]
  },
  {
   "cell_type": "code",
   "execution_count": 8,
   "id": "810b5feb",
   "metadata": {},
   "outputs": [
    {
     "data": {
      "text/plain": [
       "[<selenium.webdriver.remote.webelement.WebElement (session=\"d36c08c9fafe8cbe4784f6bf473e3956\", element=\"e9640ed9-1843-4d06-a928-ba015160effb\")>,\n",
       " <selenium.webdriver.remote.webelement.WebElement (session=\"d36c08c9fafe8cbe4784f6bf473e3956\", element=\"aded3342-135b-4859-9ae2-32ca8aa311f5\")>,\n",
       " <selenium.webdriver.remote.webelement.WebElement (session=\"d36c08c9fafe8cbe4784f6bf473e3956\", element=\"4a4cb400-b162-4280-b2b9-2d2687efa8e0\")>,\n",
       " <selenium.webdriver.remote.webelement.WebElement (session=\"d36c08c9fafe8cbe4784f6bf473e3956\", element=\"da36a735-22b5-4ff8-a2ae-3b5cbb903dbb\")>,\n",
       " <selenium.webdriver.remote.webelement.WebElement (session=\"d36c08c9fafe8cbe4784f6bf473e3956\", element=\"fcad3e2c-9067-4b78-98a8-a333dc9bf170\")>,\n",
       " <selenium.webdriver.remote.webelement.WebElement (session=\"d36c08c9fafe8cbe4784f6bf473e3956\", element=\"f429683a-a7d0-4931-a1fe-2a581e615579\")>,\n",
       " <selenium.webdriver.remote.webelement.WebElement (session=\"d36c08c9fafe8cbe4784f6bf473e3956\", element=\"c65c0970-3317-4c9f-85f6-9302005781d8\")>,\n",
       " <selenium.webdriver.remote.webelement.WebElement (session=\"d36c08c9fafe8cbe4784f6bf473e3956\", element=\"ef02af03-9175-48ff-998d-7762e9ec7a9b\")>,\n",
       " <selenium.webdriver.remote.webelement.WebElement (session=\"d36c08c9fafe8cbe4784f6bf473e3956\", element=\"bdb27319-2f53-46ab-b282-aa532f97912f\")>,\n",
       " <selenium.webdriver.remote.webelement.WebElement (session=\"d36c08c9fafe8cbe4784f6bf473e3956\", element=\"de85d24a-8cfc-4e2b-867f-215da82fb0eb\")>]"
      ]
     },
     "execution_count": 8,
     "metadata": {},
     "output_type": "execute_result"
    }
   ],
   "source": [
    "l2=browser.find_elements(\"xpath\",\"//div[@class='_univ-rank ']\")\n",
    "l2\n"
   ]
  },
  {
   "cell_type": "code",
   "execution_count": 9,
   "id": "3e6e77fe",
   "metadata": {},
   "outputs": [
    {
     "data": {
      "text/plain": [
       "['21', '22', '23', '24', '25', '26', '27', '28', '29', '30']"
      ]
     },
     "execution_count": 9,
     "metadata": {},
     "output_type": "execute_result"
    }
   ],
   "source": [
    "RANK=[]\n",
    "for data in l2:\n",
    "    #get the text data\n",
    "    temp=data.text\n",
    "    RANK.append(temp)\n",
    "RANK"
   ]
  },
  {
   "cell_type": "code",
   "execution_count": 10,
   "id": "dc8799c3",
   "metadata": {},
   "outputs": [
    {
     "data": {
      "text/plain": [
       "[<selenium.webdriver.remote.webelement.WebElement (session=\"d36c08c9fafe8cbe4784f6bf473e3956\", element=\"2e849cec-87a2-4a3a-9430-938b36828b99\")>,\n",
       " <selenium.webdriver.remote.webelement.WebElement (session=\"d36c08c9fafe8cbe4784f6bf473e3956\", element=\"08fa5fa7-23cc-4b44-b1c5-b272a76285cb\")>,\n",
       " <selenium.webdriver.remote.webelement.WebElement (session=\"d36c08c9fafe8cbe4784f6bf473e3956\", element=\"ab10a437-590a-4c5f-ac5d-f714317731bf\")>,\n",
       " <selenium.webdriver.remote.webelement.WebElement (session=\"d36c08c9fafe8cbe4784f6bf473e3956\", element=\"afb4567f-ea77-4390-99dd-bd432da4a491\")>,\n",
       " <selenium.webdriver.remote.webelement.WebElement (session=\"d36c08c9fafe8cbe4784f6bf473e3956\", element=\"7ec157a4-d0bc-4b85-89f8-162ad46df675\")>,\n",
       " <selenium.webdriver.remote.webelement.WebElement (session=\"d36c08c9fafe8cbe4784f6bf473e3956\", element=\"f951ed6d-5949-41a9-aaa1-d45b98e84f3e\")>,\n",
       " <selenium.webdriver.remote.webelement.WebElement (session=\"d36c08c9fafe8cbe4784f6bf473e3956\", element=\"a9dd6ee0-0bb2-47f3-abee-224342268846\")>,\n",
       " <selenium.webdriver.remote.webelement.WebElement (session=\"d36c08c9fafe8cbe4784f6bf473e3956\", element=\"618a3cc9-fe2f-4b9f-bd78-1ffd1d15d7f0\")>,\n",
       " <selenium.webdriver.remote.webelement.WebElement (session=\"d36c08c9fafe8cbe4784f6bf473e3956\", element=\"676942d3-0326-4b7c-9817-e76f3dd9d00a\")>]"
      ]
     },
     "execution_count": 10,
     "metadata": {},
     "output_type": "execute_result"
    }
   ],
   "source": [
    "# GET EACH COLLEGE SPECIFICATION HEADERS\n",
    "header=browser.find_elements(\"xpath\",\"//div[@class='_click-function_ind']\")\n",
    "header"
   ]
  },
  {
   "cell_type": "code",
   "execution_count": 11,
   "id": "984aa28f",
   "metadata": {},
   "outputs": [
    {
     "data": {
      "text/plain": [
       "['Overall Score',\n",
       " 'Academic Reputation',\n",
       " 'Employer Reputation',\n",
       " 'Citations per Faculty',\n",
       " 'Faculty Student Ratio',\n",
       " 'International Students Ratio',\n",
       " 'International Faculty Ratio',\n",
       " 'International Research Network\\nUnweighted',\n",
       " 'Employment Outcomes\\nUnweighted']"
      ]
     },
     "execution_count": 11,
     "metadata": {},
     "output_type": "execute_result"
    }
   ],
   "source": [
    "#PARSING DATA\n",
    "column_head=[]\n",
    "for data in header:\n",
    "    #get the text data\n",
    "    temp=data.text\n",
    "    column_head.append(temp)\n",
    "column_head"
   ]
  },
  {
   "cell_type": "code",
   "execution_count": 12,
   "id": "d3cac383",
   "metadata": {},
   "outputs": [
    {
     "data": {
      "text/plain": [
       "[<selenium.webdriver.remote.webelement.WebElement (session=\"d36c08c9fafe8cbe4784f6bf473e3956\", element=\"681be43e-91cb-44ff-84b4-ca5d082fa8bf\")>,\n",
       " <selenium.webdriver.remote.webelement.WebElement (session=\"d36c08c9fafe8cbe4784f6bf473e3956\", element=\"dd975a08-e2df-49dc-9f1f-36300b1d750a\")>,\n",
       " <selenium.webdriver.remote.webelement.WebElement (session=\"d36c08c9fafe8cbe4784f6bf473e3956\", element=\"e22fe3dc-a198-42e1-be8d-920b9f149278\")>,\n",
       " <selenium.webdriver.remote.webelement.WebElement (session=\"d36c08c9fafe8cbe4784f6bf473e3956\", element=\"dc502e52-fb9a-4e86-b25a-faf8f4c219c2\")>,\n",
       " <selenium.webdriver.remote.webelement.WebElement (session=\"d36c08c9fafe8cbe4784f6bf473e3956\", element=\"20104ee2-6eea-45d3-a973-119c922989b4\")>,\n",
       " <selenium.webdriver.remote.webelement.WebElement (session=\"d36c08c9fafe8cbe4784f6bf473e3956\", element=\"7c59248f-d2cd-4361-86ba-ca95d7d42002\")>,\n",
       " <selenium.webdriver.remote.webelement.WebElement (session=\"d36c08c9fafe8cbe4784f6bf473e3956\", element=\"0c4ef998-7109-49fd-b450-71877cf1ec58\")>,\n",
       " <selenium.webdriver.remote.webelement.WebElement (session=\"d36c08c9fafe8cbe4784f6bf473e3956\", element=\"e0c037e9-15a3-4952-ab89-b1b2560b0002\")>,\n",
       " <selenium.webdriver.remote.webelement.WebElement (session=\"d36c08c9fafe8cbe4784f6bf473e3956\", element=\"e3824c27-33f2-496f-bd93-9d7539056078\")>,\n",
       " <selenium.webdriver.remote.webelement.WebElement (session=\"d36c08c9fafe8cbe4784f6bf473e3956\", element=\"72f4749c-c062-4137-bf06-a47e800a5344\")>,\n",
       " <selenium.webdriver.remote.webelement.WebElement (session=\"d36c08c9fafe8cbe4784f6bf473e3956\", element=\"2f9ef324-a2de-415c-82bd-51ba47a16691\")>,\n",
       " <selenium.webdriver.remote.webelement.WebElement (session=\"d36c08c9fafe8cbe4784f6bf473e3956\", element=\"c91b0fbe-1563-45b3-b6b5-691eed21a44f\")>,\n",
       " <selenium.webdriver.remote.webelement.WebElement (session=\"d36c08c9fafe8cbe4784f6bf473e3956\", element=\"7a1e0afb-08ad-4e47-98a2-f29e489ecdad\")>,\n",
       " <selenium.webdriver.remote.webelement.WebElement (session=\"d36c08c9fafe8cbe4784f6bf473e3956\", element=\"2e6ca42c-39f3-48e6-8f16-b6d089d65f6b\")>,\n",
       " <selenium.webdriver.remote.webelement.WebElement (session=\"d36c08c9fafe8cbe4784f6bf473e3956\", element=\"e1a7eaaf-05eb-40ee-8162-43a783a72d5f\")>,\n",
       " <selenium.webdriver.remote.webelement.WebElement (session=\"d36c08c9fafe8cbe4784f6bf473e3956\", element=\"17a7cf3e-92a7-4096-9654-8078911c191b\")>,\n",
       " <selenium.webdriver.remote.webelement.WebElement (session=\"d36c08c9fafe8cbe4784f6bf473e3956\", element=\"66ee7311-b082-4822-9bee-d9becfca25d3\")>,\n",
       " <selenium.webdriver.remote.webelement.WebElement (session=\"d36c08c9fafe8cbe4784f6bf473e3956\", element=\"f8671ecb-72ce-4fa0-9732-8008092fa69f\")>,\n",
       " <selenium.webdriver.remote.webelement.WebElement (session=\"d36c08c9fafe8cbe4784f6bf473e3956\", element=\"b025e64f-ecdc-44a1-9e29-9c502b044112\")>,\n",
       " <selenium.webdriver.remote.webelement.WebElement (session=\"d36c08c9fafe8cbe4784f6bf473e3956\", element=\"99778587-b4f1-4fcd-8777-d114eef54ca6\")>,\n",
       " <selenium.webdriver.remote.webelement.WebElement (session=\"d36c08c9fafe8cbe4784f6bf473e3956\", element=\"1afebdea-3df6-4063-a114-12d536743ab6\")>,\n",
       " <selenium.webdriver.remote.webelement.WebElement (session=\"d36c08c9fafe8cbe4784f6bf473e3956\", element=\"4fc5ff79-94d9-491f-9075-bc7053866fae\")>,\n",
       " <selenium.webdriver.remote.webelement.WebElement (session=\"d36c08c9fafe8cbe4784f6bf473e3956\", element=\"6b53f7e7-b0b0-4958-8dd3-f49aedfe70a1\")>,\n",
       " <selenium.webdriver.remote.webelement.WebElement (session=\"d36c08c9fafe8cbe4784f6bf473e3956\", element=\"053d90b6-5f0f-4880-89bd-36d73b5129ec\")>,\n",
       " <selenium.webdriver.remote.webelement.WebElement (session=\"d36c08c9fafe8cbe4784f6bf473e3956\", element=\"82988dfd-d328-491e-800b-28c55b1f01d4\")>,\n",
       " <selenium.webdriver.remote.webelement.WebElement (session=\"d36c08c9fafe8cbe4784f6bf473e3956\", element=\"eb926cf5-6cd1-475f-ae54-294ebbd28eb0\")>,\n",
       " <selenium.webdriver.remote.webelement.WebElement (session=\"d36c08c9fafe8cbe4784f6bf473e3956\", element=\"2127f485-384c-4c31-9ab8-c8c14681a398\")>,\n",
       " <selenium.webdriver.remote.webelement.WebElement (session=\"d36c08c9fafe8cbe4784f6bf473e3956\", element=\"afa69344-3228-4c2a-afbd-68cb6c5803cb\")>,\n",
       " <selenium.webdriver.remote.webelement.WebElement (session=\"d36c08c9fafe8cbe4784f6bf473e3956\", element=\"15cf6220-0674-40bc-b452-d471f2c08a23\")>,\n",
       " <selenium.webdriver.remote.webelement.WebElement (session=\"d36c08c9fafe8cbe4784f6bf473e3956\", element=\"5b6c224a-aa3c-4419-9acc-711a8de16ded\")>,\n",
       " <selenium.webdriver.remote.webelement.WebElement (session=\"d36c08c9fafe8cbe4784f6bf473e3956\", element=\"9a192e4c-8cf4-4747-8fbd-8c5ba8d58424\")>,\n",
       " <selenium.webdriver.remote.webelement.WebElement (session=\"d36c08c9fafe8cbe4784f6bf473e3956\", element=\"4a409a8a-aafd-4545-9486-f0a8d66178e0\")>,\n",
       " <selenium.webdriver.remote.webelement.WebElement (session=\"d36c08c9fafe8cbe4784f6bf473e3956\", element=\"0b2c3161-e173-4f24-bc46-edede33fb0f8\")>,\n",
       " <selenium.webdriver.remote.webelement.WebElement (session=\"d36c08c9fafe8cbe4784f6bf473e3956\", element=\"ecca7443-5962-4cd9-ab25-2268a66ed69b\")>,\n",
       " <selenium.webdriver.remote.webelement.WebElement (session=\"d36c08c9fafe8cbe4784f6bf473e3956\", element=\"4045454b-948b-4c37-9dee-0c3ac9865104\")>,\n",
       " <selenium.webdriver.remote.webelement.WebElement (session=\"d36c08c9fafe8cbe4784f6bf473e3956\", element=\"b69540c0-770f-40fb-9b07-2cab5f396bff\")>,\n",
       " <selenium.webdriver.remote.webelement.WebElement (session=\"d36c08c9fafe8cbe4784f6bf473e3956\", element=\"673eca6b-7982-4e17-948e-4ebdb70f283a\")>,\n",
       " <selenium.webdriver.remote.webelement.WebElement (session=\"d36c08c9fafe8cbe4784f6bf473e3956\", element=\"5c423d94-468c-4abc-a362-1b3e44572721\")>,\n",
       " <selenium.webdriver.remote.webelement.WebElement (session=\"d36c08c9fafe8cbe4784f6bf473e3956\", element=\"ebf28885-01c7-4184-b957-b8d702125bbe\")>,\n",
       " <selenium.webdriver.remote.webelement.WebElement (session=\"d36c08c9fafe8cbe4784f6bf473e3956\", element=\"33fe96ea-c755-4246-af14-f6de9220f871\")>,\n",
       " <selenium.webdriver.remote.webelement.WebElement (session=\"d36c08c9fafe8cbe4784f6bf473e3956\", element=\"ac28a6f2-a0f4-4f3f-9294-a39f195b6c41\")>,\n",
       " <selenium.webdriver.remote.webelement.WebElement (session=\"d36c08c9fafe8cbe4784f6bf473e3956\", element=\"d09e6be5-0450-40bc-b790-3c440372e685\")>,\n",
       " <selenium.webdriver.remote.webelement.WebElement (session=\"d36c08c9fafe8cbe4784f6bf473e3956\", element=\"ee4421e7-8132-45ee-9326-c07611a4f09f\")>,\n",
       " <selenium.webdriver.remote.webelement.WebElement (session=\"d36c08c9fafe8cbe4784f6bf473e3956\", element=\"fe1cef8f-5d3d-4c07-9515-622636e3a01a\")>,\n",
       " <selenium.webdriver.remote.webelement.WebElement (session=\"d36c08c9fafe8cbe4784f6bf473e3956\", element=\"010d5b17-4f84-457e-83db-8e0814b16ac9\")>,\n",
       " <selenium.webdriver.remote.webelement.WebElement (session=\"d36c08c9fafe8cbe4784f6bf473e3956\", element=\"6f93682b-0b8e-4f4a-bc89-21fee4600283\")>,\n",
       " <selenium.webdriver.remote.webelement.WebElement (session=\"d36c08c9fafe8cbe4784f6bf473e3956\", element=\"96ef8767-df64-4d26-8d41-6b486811455b\")>,\n",
       " <selenium.webdriver.remote.webelement.WebElement (session=\"d36c08c9fafe8cbe4784f6bf473e3956\", element=\"7b4bd7ec-b6bc-4587-b701-ad5326b673c9\")>,\n",
       " <selenium.webdriver.remote.webelement.WebElement (session=\"d36c08c9fafe8cbe4784f6bf473e3956\", element=\"046afecc-4991-41fb-afb0-b26afd0ad6d8\")>,\n",
       " <selenium.webdriver.remote.webelement.WebElement (session=\"d36c08c9fafe8cbe4784f6bf473e3956\", element=\"5c806a7a-b37d-482a-abb1-a850d35b9361\")>,\n",
       " <selenium.webdriver.remote.webelement.WebElement (session=\"d36c08c9fafe8cbe4784f6bf473e3956\", element=\"7e4ef2bd-3d7b-447c-8c88-3ed3ac332d4f\")>,\n",
       " <selenium.webdriver.remote.webelement.WebElement (session=\"d36c08c9fafe8cbe4784f6bf473e3956\", element=\"a5593e41-67a1-4890-a93b-59817dfe6c6e\")>,\n",
       " <selenium.webdriver.remote.webelement.WebElement (session=\"d36c08c9fafe8cbe4784f6bf473e3956\", element=\"be277118-096f-4fd5-9531-c38ae0c600fa\")>,\n",
       " <selenium.webdriver.remote.webelement.WebElement (session=\"d36c08c9fafe8cbe4784f6bf473e3956\", element=\"c4bbb1b9-48ac-4c6e-a50c-a41794eaec83\")>,\n",
       " <selenium.webdriver.remote.webelement.WebElement (session=\"d36c08c9fafe8cbe4784f6bf473e3956\", element=\"8b36efda-afe2-4c15-8c83-a3e8cd47bdd2\")>,\n",
       " <selenium.webdriver.remote.webelement.WebElement (session=\"d36c08c9fafe8cbe4784f6bf473e3956\", element=\"b3ae3f37-886e-447d-8d2c-f250b85f636b\")>,\n",
       " <selenium.webdriver.remote.webelement.WebElement (session=\"d36c08c9fafe8cbe4784f6bf473e3956\", element=\"8374336f-b76f-4a5a-b1d0-ea266fa4a98a\")>,\n",
       " <selenium.webdriver.remote.webelement.WebElement (session=\"d36c08c9fafe8cbe4784f6bf473e3956\", element=\"386ae362-dbcc-46f7-b99f-d828f3695a53\")>,\n",
       " <selenium.webdriver.remote.webelement.WebElement (session=\"d36c08c9fafe8cbe4784f6bf473e3956\", element=\"71d2fff2-cb03-458c-9555-23b8f0578616\")>,\n",
       " <selenium.webdriver.remote.webelement.WebElement (session=\"d36c08c9fafe8cbe4784f6bf473e3956\", element=\"fe7195f1-8dc3-4ce6-a1a0-5be7452c08b2\")>,\n",
       " <selenium.webdriver.remote.webelement.WebElement (session=\"d36c08c9fafe8cbe4784f6bf473e3956\", element=\"2c7c2520-295d-49bf-bb3b-227b15f73a6a\")>,\n",
       " <selenium.webdriver.remote.webelement.WebElement (session=\"d36c08c9fafe8cbe4784f6bf473e3956\", element=\"7e5cc696-e6bf-454c-ac22-4e0605ae89a5\")>,\n",
       " <selenium.webdriver.remote.webelement.WebElement (session=\"d36c08c9fafe8cbe4784f6bf473e3956\", element=\"4456b890-6d9f-4008-8e1e-ceea322e249e\")>,\n",
       " <selenium.webdriver.remote.webelement.WebElement (session=\"d36c08c9fafe8cbe4784f6bf473e3956\", element=\"9c9275e1-7a01-4b81-b8d4-dbf35e5e3529\")>,\n",
       " <selenium.webdriver.remote.webelement.WebElement (session=\"d36c08c9fafe8cbe4784f6bf473e3956\", element=\"d09fcd2d-ba57-4eb8-9cf3-c277386eb912\")>,\n",
       " <selenium.webdriver.remote.webelement.WebElement (session=\"d36c08c9fafe8cbe4784f6bf473e3956\", element=\"4420897d-e608-4dbb-b484-4212e3f52b47\")>,\n",
       " <selenium.webdriver.remote.webelement.WebElement (session=\"d36c08c9fafe8cbe4784f6bf473e3956\", element=\"82270fbe-29ed-40bd-981d-af84f3c18844\")>,\n",
       " <selenium.webdriver.remote.webelement.WebElement (session=\"d36c08c9fafe8cbe4784f6bf473e3956\", element=\"0121c1dc-14b0-43e9-ba9a-a8ef97c1b454\")>,\n",
       " <selenium.webdriver.remote.webelement.WebElement (session=\"d36c08c9fafe8cbe4784f6bf473e3956\", element=\"385f1d2f-4695-45ce-b675-4c0cdbac8b02\")>,\n",
       " <selenium.webdriver.remote.webelement.WebElement (session=\"d36c08c9fafe8cbe4784f6bf473e3956\", element=\"5d710072-0fab-4c1f-b86c-16d2ba853e23\")>,\n",
       " <selenium.webdriver.remote.webelement.WebElement (session=\"d36c08c9fafe8cbe4784f6bf473e3956\", element=\"17f814ee-7436-4c9e-850f-68ba8d0f5e3a\")>,\n",
       " <selenium.webdriver.remote.webelement.WebElement (session=\"d36c08c9fafe8cbe4784f6bf473e3956\", element=\"d27bc7f9-f217-45fc-acc6-e4d351422df9\")>,\n",
       " <selenium.webdriver.remote.webelement.WebElement (session=\"d36c08c9fafe8cbe4784f6bf473e3956\", element=\"1245c5bb-ee65-447b-bacc-e2f8aa845922\")>,\n",
       " <selenium.webdriver.remote.webelement.WebElement (session=\"d36c08c9fafe8cbe4784f6bf473e3956\", element=\"dc6ce41a-6a34-4ebc-a6be-55cffd609945\")>,\n",
       " <selenium.webdriver.remote.webelement.WebElement (session=\"d36c08c9fafe8cbe4784f6bf473e3956\", element=\"4b53a684-cf82-4bdb-84fc-68aef285f814\")>,\n",
       " <selenium.webdriver.remote.webelement.WebElement (session=\"d36c08c9fafe8cbe4784f6bf473e3956\", element=\"1aa3ddf6-4269-4bf8-8d73-495864f4fdc0\")>,\n",
       " <selenium.webdriver.remote.webelement.WebElement (session=\"d36c08c9fafe8cbe4784f6bf473e3956\", element=\"dddce4ef-c003-4105-9402-5af54c5f1d1a\")>,\n",
       " <selenium.webdriver.remote.webelement.WebElement (session=\"d36c08c9fafe8cbe4784f6bf473e3956\", element=\"0bbbcfc9-b650-4da2-abd7-a41f55a41b48\")>,\n",
       " <selenium.webdriver.remote.webelement.WebElement (session=\"d36c08c9fafe8cbe4784f6bf473e3956\", element=\"d4406f71-18be-4de2-abd8-d7f63c9223ff\")>,\n",
       " <selenium.webdriver.remote.webelement.WebElement (session=\"d36c08c9fafe8cbe4784f6bf473e3956\", element=\"a899a517-8eab-40e8-9924-e62ba15fef75\")>,\n",
       " <selenium.webdriver.remote.webelement.WebElement (session=\"d36c08c9fafe8cbe4784f6bf473e3956\", element=\"129c35d9-99b2-4f3a-a795-7b3af6d16d58\")>,\n",
       " <selenium.webdriver.remote.webelement.WebElement (session=\"d36c08c9fafe8cbe4784f6bf473e3956\", element=\"2ca5634a-5e03-48b2-92d7-8e91d729180b\")>,\n",
       " <selenium.webdriver.remote.webelement.WebElement (session=\"d36c08c9fafe8cbe4784f6bf473e3956\", element=\"84a8c3a1-a97c-4eec-b73b-0380a798ffce\")>,\n",
       " <selenium.webdriver.remote.webelement.WebElement (session=\"d36c08c9fafe8cbe4784f6bf473e3956\", element=\"66cacc39-21eb-4331-97a3-16f49cbeb664\")>,\n",
       " <selenium.webdriver.remote.webelement.WebElement (session=\"d36c08c9fafe8cbe4784f6bf473e3956\", element=\"fec4af59-0e89-494c-9065-232a047dd939\")>,\n",
       " <selenium.webdriver.remote.webelement.WebElement (session=\"d36c08c9fafe8cbe4784f6bf473e3956\", element=\"8b7c4f29-090f-4013-b655-08c95fa6fab4\")>,\n",
       " <selenium.webdriver.remote.webelement.WebElement (session=\"d36c08c9fafe8cbe4784f6bf473e3956\", element=\"41b6b31d-49bf-4a6d-8632-cf513d529040\")>,\n",
       " <selenium.webdriver.remote.webelement.WebElement (session=\"d36c08c9fafe8cbe4784f6bf473e3956\", element=\"32480ed2-4f9a-487f-8e96-00060dda273e\")>,\n",
       " <selenium.webdriver.remote.webelement.WebElement (session=\"d36c08c9fafe8cbe4784f6bf473e3956\", element=\"47d5ba16-a941-4ecd-8c06-fa6314015614\")>,\n",
       " <selenium.webdriver.remote.webelement.WebElement (session=\"d36c08c9fafe8cbe4784f6bf473e3956\", element=\"3595e15c-d820-48c1-8da7-4e0ee4b0d948\")>,\n",
       " <selenium.webdriver.remote.webelement.WebElement (session=\"d36c08c9fafe8cbe4784f6bf473e3956\", element=\"7c18f42a-fa47-4492-8dad-83f964cf1d29\")>,\n",
       " <selenium.webdriver.remote.webelement.WebElement (session=\"d36c08c9fafe8cbe4784f6bf473e3956\", element=\"6b432a77-84e7-4eeb-807e-6f8acc43c97d\")>,\n",
       " <selenium.webdriver.remote.webelement.WebElement (session=\"d36c08c9fafe8cbe4784f6bf473e3956\", element=\"e5a71ee4-378c-4f1c-b79b-ccb118f03755\")>,\n",
       " <selenium.webdriver.remote.webelement.WebElement (session=\"d36c08c9fafe8cbe4784f6bf473e3956\", element=\"78c0e77f-a646-44e3-a111-d7c64c61cad4\")>,\n",
       " <selenium.webdriver.remote.webelement.WebElement (session=\"d36c08c9fafe8cbe4784f6bf473e3956\", element=\"ccb1ab2f-f6a1-477f-a239-18ea4301c49e\")>,\n",
       " <selenium.webdriver.remote.webelement.WebElement (session=\"d36c08c9fafe8cbe4784f6bf473e3956\", element=\"01da4ae4-ddbb-4052-a513-431d58607024\")>,\n",
       " <selenium.webdriver.remote.webelement.WebElement (session=\"d36c08c9fafe8cbe4784f6bf473e3956\", element=\"323ac450-78a4-4864-b155-8ae60e888166\")>,\n",
       " <selenium.webdriver.remote.webelement.WebElement (session=\"d36c08c9fafe8cbe4784f6bf473e3956\", element=\"05454c6c-3007-4555-b605-62994d44529b\")>,\n",
       " <selenium.webdriver.remote.webelement.WebElement (session=\"d36c08c9fafe8cbe4784f6bf473e3956\", element=\"b64be6ee-1dfb-4353-a2eb-bbf5e89aab77\")>,\n",
       " <selenium.webdriver.remote.webelement.WebElement (session=\"d36c08c9fafe8cbe4784f6bf473e3956\", element=\"eeb78c69-f458-42d8-b582-8130630de620\")>]"
      ]
     },
     "execution_count": 12,
     "metadata": {},
     "output_type": "execute_result"
    }
   ],
   "source": [
    "header2=browser.find_elements(\"xpath\",\"//div[@class='td-wrap-in']\")\n",
    "header2"
   ]
  },
  {
   "cell_type": "code",
   "execution_count": 13,
   "id": "0bedc093",
   "metadata": {},
   "outputs": [
    {
     "data": {
      "text/plain": [
       "['82.7', '100', '100', '99.9', '23.9', '57.7', '93.3', '96.7', '99.1']"
      ]
     },
     "execution_count": 13,
     "metadata": {},
     "output_type": "execute_result"
    }
   ],
   "source": [
    "#PARSING DATA\n",
    "value_head=[]\n",
    "for data in header2:\n",
    "    #get the text data\n",
    "    temp=data.text\n",
    "    value_head.append(temp)\n",
    "value=value_head[61:70]\n",
    "value"
   ]
  },
  {
   "cell_type": "code",
   "execution_count": 14,
   "id": "51bf3e55",
   "metadata": {},
   "outputs": [
    {
     "data": {
      "text/plain": [
       "{'Name': 'Seoul National University',\n",
       " 'Location': 'Seoul, South Korea',\n",
       " 'Rank': '29',\n",
       " 'Overall Score': '82.7',\n",
       " 'Academic Reputation': '100',\n",
       " 'Employer Reputation': '100',\n",
       " 'Citations per Faculty': '99.9',\n",
       " 'Faculty Student Ratio': '23.9',\n",
       " 'International Students Ratio': '57.7',\n",
       " 'International Faculty Ratio': '93.3',\n",
       " 'International Research Network\\nUnweighted': '96.7',\n",
       " 'Employment Outcomes\\nUnweighted': '99.1'}"
      ]
     },
     "execution_count": 14,
     "metadata": {},
     "output_type": "execute_result"
    }
   ],
   "source": [
    "d={}\n",
    "\n",
    "d['Name']=value_head[80]\n",
    "d['Location']=loc[8]\n",
    "d['Rank']=RANK[8]\n",
    "\n",
    "for i in range(len(column_head)):\n",
    "    d[column_head[i]]=value[i]\n",
    "d"
   ]
  },
  {
   "cell_type": "code",
   "execution_count": 16,
   "id": "fb76fd14",
   "metadata": {},
   "outputs": [
    {
     "data": {
      "text/plain": [
       "'{\"Name\": \"Seoul National University\", \"Location\": \"Seoul, South Korea\", \"Rank\": \"29\", \"Overall Score\": \"82.7\", \"Academic Reputation\": \"100\", \"Employer Reputation\": \"100\", \"Citations per Faculty\": \"99.9\", \"Faculty Student Ratio\": \"23.9\", \"International Students Ratio\": \"57.7\", \"International Faculty Ratio\": \"93.3\", \"International Research Network\\\\nUnweighted\": \"96.7\", \"Employment Outcomes\\\\nUnweighted\": \"99.1\"}'"
      ]
     },
     "execution_count": 16,
     "metadata": {},
     "output_type": "execute_result"
    }
   ],
   "source": [
    "s1=json.dumps(d)\n",
    "s1"
   ]
  },
  {
   "cell_type": "code",
   "execution_count": 17,
   "id": "4479b21e",
   "metadata": {},
   "outputs": [],
   "source": [
    "with open('Seoul National University.json','w') as f:\n",
    "    json.dump(d,f)"
   ]
  },
  {
   "cell_type": "code",
   "execution_count": null,
   "id": "de938f26",
   "metadata": {},
   "outputs": [],
   "source": []
  }
 ],
 "metadata": {
  "kernelspec": {
   "display_name": "Python 3 (ipykernel)",
   "language": "python",
   "name": "python3"
  },
  "language_info": {
   "codemirror_mode": {
    "name": "ipython",
    "version": 3
   },
   "file_extension": ".py",
   "mimetype": "text/x-python",
   "name": "python",
   "nbconvert_exporter": "python",
   "pygments_lexer": "ipython3",
   "version": "3.9.12"
  }
 },
 "nbformat": 4,
 "nbformat_minor": 5
}
