{
 "cells": [
  {
   "cell_type": "code",
   "execution_count": 1,
   "id": "472ae822",
   "metadata": {},
   "outputs": [],
   "source": [
    "from selenium import webdriver\n",
    "from selenium.webdriver.chrome.service import Service\n",
    "import pandas as pd\n",
    "import json"
   ]
  },
  {
   "cell_type": "code",
   "execution_count": 2,
   "id": "3f336c54",
   "metadata": {},
   "outputs": [],
   "source": [
    "\n",
    "path = Service('C:\\chromedriver.exe')"
   ]
  },
  {
   "cell_type": "code",
   "execution_count": 3,
   "id": "fb87db9f",
   "metadata": {},
   "outputs": [],
   "source": [
    "\n",
    "# set path for the driver\n",
    "browser = webdriver.Chrome(service = path)"
   ]
  },
  {
   "cell_type": "code",
   "execution_count": 4,
   "id": "515d600e",
   "metadata": {},
   "outputs": [],
   "source": [
    "url = \"https://www.topuniversities.com/university-rankings/world-university-rankings/2023\""
   ]
  },
  {
   "cell_type": "code",
   "execution_count": 5,
   "id": "04f45777",
   "metadata": {},
   "outputs": [],
   "source": [
    "# open the page url ion chrome\n",
    "browser.get(url)"
   ]
  },
  {
   "cell_type": "code",
   "execution_count": 8,
   "id": "4bfdb1ce",
   "metadata": {},
   "outputs": [
    {
     "data": {
      "text/plain": [
       "[<selenium.webdriver.remote.webelement.WebElement (session=\"8ed4bd71268306c1e512884566826829\", element=\"a33cc0f9-f424-4cb6-b861-2cb93b014b47\")>,\n",
       " <selenium.webdriver.remote.webelement.WebElement (session=\"8ed4bd71268306c1e512884566826829\", element=\"e8bcbf90-a66e-4ee8-bc9d-3b88c584484f\")>,\n",
       " <selenium.webdriver.remote.webelement.WebElement (session=\"8ed4bd71268306c1e512884566826829\", element=\"9dce7366-595f-4c91-8b4b-951995c2bc76\")>,\n",
       " <selenium.webdriver.remote.webelement.WebElement (session=\"8ed4bd71268306c1e512884566826829\", element=\"c019df8a-60f1-44de-9c71-9288cfe50af3\")>,\n",
       " <selenium.webdriver.remote.webelement.WebElement (session=\"8ed4bd71268306c1e512884566826829\", element=\"7c0e6763-fb8b-4449-89f6-174d49ebfd5d\")>,\n",
       " <selenium.webdriver.remote.webelement.WebElement (session=\"8ed4bd71268306c1e512884566826829\", element=\"633af132-8b17-4283-96c4-8feed706db4c\")>,\n",
       " <selenium.webdriver.remote.webelement.WebElement (session=\"8ed4bd71268306c1e512884566826829\", element=\"97d3be0d-7514-4904-b3c2-9f1d7826dcc9\")>,\n",
       " <selenium.webdriver.remote.webelement.WebElement (session=\"8ed4bd71268306c1e512884566826829\", element=\"f1239a40-9a93-4d24-a274-2490d1974c8b\")>,\n",
       " <selenium.webdriver.remote.webelement.WebElement (session=\"8ed4bd71268306c1e512884566826829\", element=\"35060538-9688-439e-91ee-6a233ba1f918\")>]"
      ]
     },
     "execution_count": 8,
     "metadata": {},
     "output_type": "execute_result"
    }
   ],
   "source": [
    "# GET EACH COLLEGE SPECIFICATION HEADERS\n",
    "header=browser.find_elements(\"xpath\",\"//div[@class='_click-function_ind']\")\n",
    "header"
   ]
  },
  {
   "cell_type": "code",
   "execution_count": 9,
   "id": "1a214528",
   "metadata": {},
   "outputs": [
    {
     "data": {
      "text/plain": [
       "['Overall Score',\n",
       " 'Academic Reputation',\n",
       " 'Employer Reputation',\n",
       " 'Citations per Faculty',\n",
       " 'Faculty Student Ratio',\n",
       " 'International Students Ratio',\n",
       " 'International Faculty Ratio',\n",
       " 'International Research Network\\nUnweighted',\n",
       " 'Employment Outcomes\\nUnweighted']"
      ]
     },
     "execution_count": 9,
     "metadata": {},
     "output_type": "execute_result"
    }
   ],
   "source": [
    "#PARSING DATA\n",
    "column_head=[]\n",
    "for data in header:\n",
    "    #get the text data\n",
    "    temp=data.text\n",
    "    column_head.append(temp)\n",
    "column_head"
   ]
  },
  {
   "cell_type": "code",
   "execution_count": 10,
   "id": "9509acb1",
   "metadata": {},
   "outputs": [
    {
     "data": {
      "text/plain": [
       "[<selenium.webdriver.remote.webelement.WebElement (session=\"8ed4bd71268306c1e512884566826829\", element=\"123138b1-38e0-4637-934b-80991b672f17\")>,\n",
       " <selenium.webdriver.remote.webelement.WebElement (session=\"8ed4bd71268306c1e512884566826829\", element=\"d4158e8f-dc4a-4b90-9a16-d3077cc321ef\")>,\n",
       " <selenium.webdriver.remote.webelement.WebElement (session=\"8ed4bd71268306c1e512884566826829\", element=\"ad281a1e-bc76-4749-bde0-54a12d153021\")>,\n",
       " <selenium.webdriver.remote.webelement.WebElement (session=\"8ed4bd71268306c1e512884566826829\", element=\"8d272f3d-4571-4fa1-8574-b1662ee44db8\")>,\n",
       " <selenium.webdriver.remote.webelement.WebElement (session=\"8ed4bd71268306c1e512884566826829\", element=\"1685cf2e-672a-4cde-afd1-b0230f4c9028\")>,\n",
       " <selenium.webdriver.remote.webelement.WebElement (session=\"8ed4bd71268306c1e512884566826829\", element=\"8a53c8dd-bddc-4482-9db2-ed2a1678e6ac\")>,\n",
       " <selenium.webdriver.remote.webelement.WebElement (session=\"8ed4bd71268306c1e512884566826829\", element=\"9aaee518-4a1e-43ae-a682-2195a24dbdca\")>,\n",
       " <selenium.webdriver.remote.webelement.WebElement (session=\"8ed4bd71268306c1e512884566826829\", element=\"eb38378d-2de3-4d1c-84e0-7655afc73d92\")>,\n",
       " <selenium.webdriver.remote.webelement.WebElement (session=\"8ed4bd71268306c1e512884566826829\", element=\"9e850eb9-4803-49d4-902e-e1522786ebae\")>,\n",
       " <selenium.webdriver.remote.webelement.WebElement (session=\"8ed4bd71268306c1e512884566826829\", element=\"019ba22e-6919-437b-b612-830ddf5671c5\")>,\n",
       " <selenium.webdriver.remote.webelement.WebElement (session=\"8ed4bd71268306c1e512884566826829\", element=\"d7f7d336-a7aa-4d9e-a286-fa4d5e989dc5\")>,\n",
       " <selenium.webdriver.remote.webelement.WebElement (session=\"8ed4bd71268306c1e512884566826829\", element=\"ed111339-1246-4f6d-a5e8-fbf5eddc5931\")>,\n",
       " <selenium.webdriver.remote.webelement.WebElement (session=\"8ed4bd71268306c1e512884566826829\", element=\"ea7edd8e-58e3-4e77-abd3-6fc756d433b6\")>,\n",
       " <selenium.webdriver.remote.webelement.WebElement (session=\"8ed4bd71268306c1e512884566826829\", element=\"0fb8c263-ed55-422e-8cdb-409cff38aa9a\")>,\n",
       " <selenium.webdriver.remote.webelement.WebElement (session=\"8ed4bd71268306c1e512884566826829\", element=\"548b4dc9-3960-40f1-be17-ab33d685fb16\")>,\n",
       " <selenium.webdriver.remote.webelement.WebElement (session=\"8ed4bd71268306c1e512884566826829\", element=\"05e44da4-2e43-4c71-a34f-62fdf6fca6c5\")>,\n",
       " <selenium.webdriver.remote.webelement.WebElement (session=\"8ed4bd71268306c1e512884566826829\", element=\"2f705500-93cd-4a1a-91a1-00f3fd5817dd\")>,\n",
       " <selenium.webdriver.remote.webelement.WebElement (session=\"8ed4bd71268306c1e512884566826829\", element=\"534c9df3-5807-4999-ba8e-275c58d0359b\")>,\n",
       " <selenium.webdriver.remote.webelement.WebElement (session=\"8ed4bd71268306c1e512884566826829\", element=\"1491f129-6a3e-4ef3-8969-2edaf933d34e\")>,\n",
       " <selenium.webdriver.remote.webelement.WebElement (session=\"8ed4bd71268306c1e512884566826829\", element=\"a1aca3fe-3d49-423b-b8fa-dfe6c4262b76\")>,\n",
       " <selenium.webdriver.remote.webelement.WebElement (session=\"8ed4bd71268306c1e512884566826829\", element=\"34df0abe-32fb-449e-b338-1c4944ae91ce\")>,\n",
       " <selenium.webdriver.remote.webelement.WebElement (session=\"8ed4bd71268306c1e512884566826829\", element=\"4ee27107-afef-4096-922d-7129039f8b96\")>,\n",
       " <selenium.webdriver.remote.webelement.WebElement (session=\"8ed4bd71268306c1e512884566826829\", element=\"1d86b98a-5a7a-4272-b468-ea21d6c220e2\")>,\n",
       " <selenium.webdriver.remote.webelement.WebElement (session=\"8ed4bd71268306c1e512884566826829\", element=\"083c6bb3-fbea-41bf-a79e-daaf33af15bb\")>,\n",
       " <selenium.webdriver.remote.webelement.WebElement (session=\"8ed4bd71268306c1e512884566826829\", element=\"1891a034-1f58-4f77-beac-1d316558c5e8\")>,\n",
       " <selenium.webdriver.remote.webelement.WebElement (session=\"8ed4bd71268306c1e512884566826829\", element=\"a8dbc3dc-54be-4ab2-a84b-f17f62368e63\")>,\n",
       " <selenium.webdriver.remote.webelement.WebElement (session=\"8ed4bd71268306c1e512884566826829\", element=\"0fb4cccb-4ce8-4dab-a518-cbf72f86878a\")>,\n",
       " <selenium.webdriver.remote.webelement.WebElement (session=\"8ed4bd71268306c1e512884566826829\", element=\"bece592f-db2b-43aa-ada6-cd400ad34690\")>,\n",
       " <selenium.webdriver.remote.webelement.WebElement (session=\"8ed4bd71268306c1e512884566826829\", element=\"45a2e542-5152-4eea-8869-3366a5ef6416\")>,\n",
       " <selenium.webdriver.remote.webelement.WebElement (session=\"8ed4bd71268306c1e512884566826829\", element=\"7049cb55-3bcc-4dd9-86b0-7b1cd0968fbc\")>,\n",
       " <selenium.webdriver.remote.webelement.WebElement (session=\"8ed4bd71268306c1e512884566826829\", element=\"81d8e782-f25f-42a0-8741-a2b1c16c7e78\")>,\n",
       " <selenium.webdriver.remote.webelement.WebElement (session=\"8ed4bd71268306c1e512884566826829\", element=\"e57432dd-de4f-4558-935d-0dc0ae546731\")>,\n",
       " <selenium.webdriver.remote.webelement.WebElement (session=\"8ed4bd71268306c1e512884566826829\", element=\"fede6172-a85c-4744-b616-f1b8113dd91b\")>,\n",
       " <selenium.webdriver.remote.webelement.WebElement (session=\"8ed4bd71268306c1e512884566826829\", element=\"b80c934e-7b7e-4320-adcb-7d034856c409\")>,\n",
       " <selenium.webdriver.remote.webelement.WebElement (session=\"8ed4bd71268306c1e512884566826829\", element=\"8158426a-9965-4738-823e-c31b25798a78\")>,\n",
       " <selenium.webdriver.remote.webelement.WebElement (session=\"8ed4bd71268306c1e512884566826829\", element=\"d0c1c757-1937-426a-8cf1-7044b32e962c\")>,\n",
       " <selenium.webdriver.remote.webelement.WebElement (session=\"8ed4bd71268306c1e512884566826829\", element=\"df0f1aea-67cc-4c17-a1fb-5fc66b5487bf\")>,\n",
       " <selenium.webdriver.remote.webelement.WebElement (session=\"8ed4bd71268306c1e512884566826829\", element=\"a9784b1b-7d23-440c-bb1d-fa704ad7f5cc\")>,\n",
       " <selenium.webdriver.remote.webelement.WebElement (session=\"8ed4bd71268306c1e512884566826829\", element=\"b6e7118e-8eb4-45cf-a6d9-589f83bd576c\")>,\n",
       " <selenium.webdriver.remote.webelement.WebElement (session=\"8ed4bd71268306c1e512884566826829\", element=\"291b5637-aec1-4574-923d-1ddc3fe33d58\")>,\n",
       " <selenium.webdriver.remote.webelement.WebElement (session=\"8ed4bd71268306c1e512884566826829\", element=\"8676c381-ea53-4a2a-8094-c32f75a1d897\")>,\n",
       " <selenium.webdriver.remote.webelement.WebElement (session=\"8ed4bd71268306c1e512884566826829\", element=\"9ed916a7-36f3-48c4-afae-3b2b5c55ed83\")>,\n",
       " <selenium.webdriver.remote.webelement.WebElement (session=\"8ed4bd71268306c1e512884566826829\", element=\"6a44616f-d43e-433b-a4ae-c6535fcff908\")>,\n",
       " <selenium.webdriver.remote.webelement.WebElement (session=\"8ed4bd71268306c1e512884566826829\", element=\"226f3e89-64bf-49a1-b6df-a45bf57aedf6\")>,\n",
       " <selenium.webdriver.remote.webelement.WebElement (session=\"8ed4bd71268306c1e512884566826829\", element=\"fd28cf4d-d63c-489e-9f89-a86b060edf7a\")>,\n",
       " <selenium.webdriver.remote.webelement.WebElement (session=\"8ed4bd71268306c1e512884566826829\", element=\"cedf4b66-ad4a-48f3-ae9d-1df2ad1c8a84\")>,\n",
       " <selenium.webdriver.remote.webelement.WebElement (session=\"8ed4bd71268306c1e512884566826829\", element=\"3656690a-1a03-41cc-9861-f391fa488239\")>,\n",
       " <selenium.webdriver.remote.webelement.WebElement (session=\"8ed4bd71268306c1e512884566826829\", element=\"7680680a-314c-4fb8-932f-41c944574230\")>,\n",
       " <selenium.webdriver.remote.webelement.WebElement (session=\"8ed4bd71268306c1e512884566826829\", element=\"f606be86-912f-4956-8ff9-08f2adcff5e9\")>,\n",
       " <selenium.webdriver.remote.webelement.WebElement (session=\"8ed4bd71268306c1e512884566826829\", element=\"6198e9e7-3b8f-4905-bb41-084cc5b67167\")>,\n",
       " <selenium.webdriver.remote.webelement.WebElement (session=\"8ed4bd71268306c1e512884566826829\", element=\"f0af0c79-a22b-4cf3-98a0-f3ecf4222b27\")>,\n",
       " <selenium.webdriver.remote.webelement.WebElement (session=\"8ed4bd71268306c1e512884566826829\", element=\"29cefbf9-a6e1-4b26-8fc2-db40b5014f8c\")>,\n",
       " <selenium.webdriver.remote.webelement.WebElement (session=\"8ed4bd71268306c1e512884566826829\", element=\"22ba0d4e-af14-4920-baf1-d0bebc26ee00\")>,\n",
       " <selenium.webdriver.remote.webelement.WebElement (session=\"8ed4bd71268306c1e512884566826829\", element=\"71ce82b2-f4fd-4096-bca7-a60a4be06a92\")>,\n",
       " <selenium.webdriver.remote.webelement.WebElement (session=\"8ed4bd71268306c1e512884566826829\", element=\"a6c11efd-849a-43f5-a6c6-f8e848d7dff5\")>,\n",
       " <selenium.webdriver.remote.webelement.WebElement (session=\"8ed4bd71268306c1e512884566826829\", element=\"478c98a0-f361-4962-936d-91741997bae8\")>,\n",
       " <selenium.webdriver.remote.webelement.WebElement (session=\"8ed4bd71268306c1e512884566826829\", element=\"c599c1fb-5876-4755-a49e-277471c21576\")>,\n",
       " <selenium.webdriver.remote.webelement.WebElement (session=\"8ed4bd71268306c1e512884566826829\", element=\"7b1686ef-2b56-4a2f-b4d6-e09176e1698e\")>,\n",
       " <selenium.webdriver.remote.webelement.WebElement (session=\"8ed4bd71268306c1e512884566826829\", element=\"02c47e50-ae0a-49ea-85ee-50444ee47732\")>,\n",
       " <selenium.webdriver.remote.webelement.WebElement (session=\"8ed4bd71268306c1e512884566826829\", element=\"c2ced8de-83fe-4500-bbaa-ab02ffb01723\")>,\n",
       " <selenium.webdriver.remote.webelement.WebElement (session=\"8ed4bd71268306c1e512884566826829\", element=\"d3293999-2d21-4d87-96df-a81b491fe975\")>,\n",
       " <selenium.webdriver.remote.webelement.WebElement (session=\"8ed4bd71268306c1e512884566826829\", element=\"3dd6efef-b8d8-421f-86fb-b893c1cc44c9\")>,\n",
       " <selenium.webdriver.remote.webelement.WebElement (session=\"8ed4bd71268306c1e512884566826829\", element=\"e532c0d9-b4df-4400-82c3-5ccf3fe7be3f\")>,\n",
       " <selenium.webdriver.remote.webelement.WebElement (session=\"8ed4bd71268306c1e512884566826829\", element=\"690ba1d8-1876-46b3-8428-9938600960ed\")>,\n",
       " <selenium.webdriver.remote.webelement.WebElement (session=\"8ed4bd71268306c1e512884566826829\", element=\"ddca0a03-dd3a-466a-a12b-9bbf394702f8\")>,\n",
       " <selenium.webdriver.remote.webelement.WebElement (session=\"8ed4bd71268306c1e512884566826829\", element=\"505942f0-4d5d-4f1d-abd8-8b1bc0a08e7d\")>,\n",
       " <selenium.webdriver.remote.webelement.WebElement (session=\"8ed4bd71268306c1e512884566826829\", element=\"d49be310-3a85-4aba-a409-fc027987bd5f\")>,\n",
       " <selenium.webdriver.remote.webelement.WebElement (session=\"8ed4bd71268306c1e512884566826829\", element=\"facaf3bf-2bd4-4564-86da-cf235aac055e\")>,\n",
       " <selenium.webdriver.remote.webelement.WebElement (session=\"8ed4bd71268306c1e512884566826829\", element=\"d52e7613-7af7-4254-8cfb-dfdf3e51777c\")>,\n",
       " <selenium.webdriver.remote.webelement.WebElement (session=\"8ed4bd71268306c1e512884566826829\", element=\"9170d4a2-6ad7-4a3b-984f-51ae811985e6\")>,\n",
       " <selenium.webdriver.remote.webelement.WebElement (session=\"8ed4bd71268306c1e512884566826829\", element=\"0badb806-8351-423f-af4e-966ae5f93235\")>,\n",
       " <selenium.webdriver.remote.webelement.WebElement (session=\"8ed4bd71268306c1e512884566826829\", element=\"af8a4a9b-7dce-477b-86b0-77ae10385164\")>,\n",
       " <selenium.webdriver.remote.webelement.WebElement (session=\"8ed4bd71268306c1e512884566826829\", element=\"897c0a4c-6062-47c9-bc96-5a225c24d60b\")>,\n",
       " <selenium.webdriver.remote.webelement.WebElement (session=\"8ed4bd71268306c1e512884566826829\", element=\"ef21043e-a1a7-4cba-af5f-9486d74d2b89\")>,\n",
       " <selenium.webdriver.remote.webelement.WebElement (session=\"8ed4bd71268306c1e512884566826829\", element=\"944046db-fa88-47a0-a1ef-a515667b7ea2\")>,\n",
       " <selenium.webdriver.remote.webelement.WebElement (session=\"8ed4bd71268306c1e512884566826829\", element=\"810e9f52-a338-4981-940e-e1e7373b519a\")>,\n",
       " <selenium.webdriver.remote.webelement.WebElement (session=\"8ed4bd71268306c1e512884566826829\", element=\"3a3aca61-b3c5-41a1-a60a-ed8a48f6dd4e\")>,\n",
       " <selenium.webdriver.remote.webelement.WebElement (session=\"8ed4bd71268306c1e512884566826829\", element=\"768e6c7b-42fe-4198-aebb-fe23c5f91ca8\")>,\n",
       " <selenium.webdriver.remote.webelement.WebElement (session=\"8ed4bd71268306c1e512884566826829\", element=\"c2ad18a5-f5ce-4c43-86bf-52452ec58f04\")>,\n",
       " <selenium.webdriver.remote.webelement.WebElement (session=\"8ed4bd71268306c1e512884566826829\", element=\"c9983b54-f8e1-45f6-b52a-8449be47bfb9\")>,\n",
       " <selenium.webdriver.remote.webelement.WebElement (session=\"8ed4bd71268306c1e512884566826829\", element=\"191a9e5e-43fa-47cb-99b0-6c6c0e968bc7\")>,\n",
       " <selenium.webdriver.remote.webelement.WebElement (session=\"8ed4bd71268306c1e512884566826829\", element=\"34e4f355-964f-4b72-b8f5-fd8b7be33763\")>,\n",
       " <selenium.webdriver.remote.webelement.WebElement (session=\"8ed4bd71268306c1e512884566826829\", element=\"b95f69c5-94da-43a5-8e03-38668e9a8945\")>,\n",
       " <selenium.webdriver.remote.webelement.WebElement (session=\"8ed4bd71268306c1e512884566826829\", element=\"e4dc8284-c395-441c-b448-5f0523d1d295\")>,\n",
       " <selenium.webdriver.remote.webelement.WebElement (session=\"8ed4bd71268306c1e512884566826829\", element=\"a8b61e7c-1a4c-4ea7-9920-a649ad876450\")>,\n",
       " <selenium.webdriver.remote.webelement.WebElement (session=\"8ed4bd71268306c1e512884566826829\", element=\"05083950-4f8b-4934-9976-71c5eeae8c36\")>,\n",
       " <selenium.webdriver.remote.webelement.WebElement (session=\"8ed4bd71268306c1e512884566826829\", element=\"4d452218-24c9-4655-b6e3-a2f15a1c595a\")>,\n",
       " <selenium.webdriver.remote.webelement.WebElement (session=\"8ed4bd71268306c1e512884566826829\", element=\"4b8e6e67-c984-45f7-b99e-5039c094e1b4\")>,\n",
       " <selenium.webdriver.remote.webelement.WebElement (session=\"8ed4bd71268306c1e512884566826829\", element=\"f4814f6e-f8f2-4bec-bdd5-e26fd2574648\")>,\n",
       " <selenium.webdriver.remote.webelement.WebElement (session=\"8ed4bd71268306c1e512884566826829\", element=\"bdb4c1dd-3e56-47ee-aa0e-39597c19f098\")>,\n",
       " <selenium.webdriver.remote.webelement.WebElement (session=\"8ed4bd71268306c1e512884566826829\", element=\"4c1c031f-9d99-4fdb-83da-0bfc1cbdca8c\")>,\n",
       " <selenium.webdriver.remote.webelement.WebElement (session=\"8ed4bd71268306c1e512884566826829\", element=\"0cc0099f-080f-420f-8a44-afe167c7a306\")>,\n",
       " <selenium.webdriver.remote.webelement.WebElement (session=\"8ed4bd71268306c1e512884566826829\", element=\"691c4e89-d32c-4fbd-9425-ff0a23ba50a8\")>,\n",
       " <selenium.webdriver.remote.webelement.WebElement (session=\"8ed4bd71268306c1e512884566826829\", element=\"25cf1cfc-49d1-43ce-98e2-b050e0320ef2\")>,\n",
       " <selenium.webdriver.remote.webelement.WebElement (session=\"8ed4bd71268306c1e512884566826829\", element=\"c3ff6bad-2295-4dcf-8c03-01bc2bdf88ed\")>,\n",
       " <selenium.webdriver.remote.webelement.WebElement (session=\"8ed4bd71268306c1e512884566826829\", element=\"2bbebe53-9625-48f4-a6aa-7d01285e6409\")>,\n",
       " <selenium.webdriver.remote.webelement.WebElement (session=\"8ed4bd71268306c1e512884566826829\", element=\"5ccb4f66-1ee5-476f-bcfa-188fb1c1c718\")>,\n",
       " <selenium.webdriver.remote.webelement.WebElement (session=\"8ed4bd71268306c1e512884566826829\", element=\"921ed3e6-76b0-4d91-bb6b-9449846337ab\")>,\n",
       " <selenium.webdriver.remote.webelement.WebElement (session=\"8ed4bd71268306c1e512884566826829\", element=\"8c8dbf5b-8b90-482d-8041-cc687bcf9989\")>,\n",
       " <selenium.webdriver.remote.webelement.WebElement (session=\"8ed4bd71268306c1e512884566826829\", element=\"ceb07bf0-ec11-4c72-a12b-b443fe593a94\")>]"
      ]
     },
     "execution_count": 10,
     "metadata": {},
     "output_type": "execute_result"
    }
   ],
   "source": [
    "header2=browser.find_elements(\"xpath\",\"//div[@class='td-wrap-in']\")\n",
    "header2"
   ]
  },
  {
   "cell_type": "code",
   "execution_count": 11,
   "id": "67dff848",
   "metadata": {},
   "outputs": [
    {
     "data": {
      "text/plain": [
       "['84.4', '98.5', '91.3', '62.5', '88.9', '33.1', '71.2', '96.3', '96']"
      ]
     },
     "execution_count": 11,
     "metadata": {},
     "output_type": "execute_result"
    }
   ],
   "source": [
    "#PARSING DATA\n",
    "value_head=[]\n",
    "for data in header2:\n",
    "    #get the text data\n",
    "    temp=data.text\n",
    "    value_head.append(temp)\n",
    "value_head=value_head[41:50]\n",
    "value_head"
   ]
  },
  {
   "cell_type": "code",
   "execution_count": 12,
   "id": "25dfdb27",
   "metadata": {},
   "outputs": [
    {
     "data": {
      "text/plain": [
       "{'Overall Score': '84.4',\n",
       " 'Academic Reputation': '98.5',\n",
       " 'Employer Reputation': '91.3',\n",
       " 'Citations per Faculty': '62.5',\n",
       " 'Faculty Student Ratio': '88.9',\n",
       " 'International Students Ratio': '33.1',\n",
       " 'International Faculty Ratio': '71.2',\n",
       " 'International Research Network\\nUnweighted': '96.3',\n",
       " 'Employment Outcomes\\nUnweighted': '96'}"
      ]
     },
     "execution_count": 12,
     "metadata": {},
     "output_type": "execute_result"
    }
   ],
   "source": [
    "d={}\n",
    "for i in range(len(column_head)):\n",
    "    d[column_head[i]]=value_head[i]\n",
    "d"
   ]
  },
  {
   "cell_type": "code",
   "execution_count": 13,
   "id": "69d484ea",
   "metadata": {},
   "outputs": [
    {
     "data": {
      "text/plain": [
       "'{\"Overall Score\": \"84.4\", \"Academic Reputation\": \"98.5\", \"Employer Reputation\": \"91.3\", \"Citations per Faculty\": \"62.5\", \"Faculty Student Ratio\": \"88.9\", \"International Students Ratio\": \"33.1\", \"International Faculty Ratio\": \"71.2\", \"International Research Network\\\\nUnweighted\": \"96.3\", \"Employment Outcomes\\\\nUnweighted\": \"96\"}'"
      ]
     },
     "execution_count": 13,
     "metadata": {},
     "output_type": "execute_result"
    }
   ],
   "source": [
    "s1=json.dumps(d)\n",
    "s1"
   ]
  },
  {
   "cell_type": "code",
   "execution_count": 14,
   "id": "4b1a8b7a",
   "metadata": {},
   "outputs": [],
   "source": [
    "with open('University of Oxford.json','w') as f:\n",
    "    json.dump(d,f)"
   ]
  },
  {
   "cell_type": "code",
   "execution_count": null,
   "id": "b1bc3417",
   "metadata": {},
   "outputs": [],
   "source": []
  }
 ],
 "metadata": {
  "kernelspec": {
   "display_name": "Python 3 (ipykernel)",
   "language": "python",
   "name": "python3"
  },
  "language_info": {
   "codemirror_mode": {
    "name": "ipython",
    "version": 3
   },
   "file_extension": ".py",
   "mimetype": "text/x-python",
   "name": "python",
   "nbconvert_exporter": "python",
   "pygments_lexer": "ipython3",
   "version": "3.9.12"
  }
 },
 "nbformat": 4,
 "nbformat_minor": 5
}
