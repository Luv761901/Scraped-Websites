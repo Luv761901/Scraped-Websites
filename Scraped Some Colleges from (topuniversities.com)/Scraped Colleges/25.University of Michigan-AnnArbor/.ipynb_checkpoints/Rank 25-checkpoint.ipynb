{
 "cells": [
  {
   "cell_type": "code",
   "execution_count": 33,
   "id": "472ae822",
   "metadata": {},
   "outputs": [],
   "source": [
    "from selenium import webdriver\n",
    "from selenium.webdriver.chrome.service import Service\n",
    "import pandas as pd\n",
    "import json"
   ]
  },
  {
   "cell_type": "code",
   "execution_count": 34,
   "id": "3f336c54",
   "metadata": {},
   "outputs": [],
   "source": [
    "\n",
    "path = Service('C:\\chromedriver.exe')"
   ]
  },
  {
   "cell_type": "code",
   "execution_count": 35,
   "id": "fb87db9f",
   "metadata": {},
   "outputs": [],
   "source": [
    "\n",
    "# set path for the driver\n",
    "browser = webdriver.Chrome(service = path)"
   ]
  },
  {
   "cell_type": "code",
   "execution_count": 36,
   "id": "515d600e",
   "metadata": {},
   "outputs": [],
   "source": [
    "url = \"https://www.topuniversities.com/university-rankings/world-university-rankings/2023\""
   ]
  },
  {
   "cell_type": "code",
   "execution_count": 37,
   "id": "04f45777",
   "metadata": {},
   "outputs": [],
   "source": [
    "# open the page url ion chrome\n",
    "browser.get(url)"
   ]
  },
  {
   "cell_type": "code",
   "execution_count": 38,
   "id": "c1c9084b",
   "metadata": {},
   "outputs": [
    {
     "data": {
      "text/plain": [
       "[<selenium.webdriver.remote.webelement.WebElement (session=\"eef615b1ccbb9f052683b5bed92ac487\", element=\"43254a01-a2b4-48dc-b26e-1876acf9b283\")>,\n",
       " <selenium.webdriver.remote.webelement.WebElement (session=\"eef615b1ccbb9f052683b5bed92ac487\", element=\"42953c93-041b-4cab-b1cd-0fe4641cfaf7\")>,\n",
       " <selenium.webdriver.remote.webelement.WebElement (session=\"eef615b1ccbb9f052683b5bed92ac487\", element=\"4bd65cfb-d97f-4635-9056-fcf13f7a620c\")>,\n",
       " <selenium.webdriver.remote.webelement.WebElement (session=\"eef615b1ccbb9f052683b5bed92ac487\", element=\"b47c6d37-5783-4536-a15c-5740c961bc16\")>,\n",
       " <selenium.webdriver.remote.webelement.WebElement (session=\"eef615b1ccbb9f052683b5bed92ac487\", element=\"44e6299d-2359-4168-bdfa-7f7169577040\")>,\n",
       " <selenium.webdriver.remote.webelement.WebElement (session=\"eef615b1ccbb9f052683b5bed92ac487\", element=\"2e257094-4ab2-44ab-a7bf-c783bd801d39\")>,\n",
       " <selenium.webdriver.remote.webelement.WebElement (session=\"eef615b1ccbb9f052683b5bed92ac487\", element=\"30b7ecdf-c59a-465e-a8fe-58bc5aceeb84\")>,\n",
       " <selenium.webdriver.remote.webelement.WebElement (session=\"eef615b1ccbb9f052683b5bed92ac487\", element=\"34f4a471-c354-4cd0-821d-bce5988b2a04\")>,\n",
       " <selenium.webdriver.remote.webelement.WebElement (session=\"eef615b1ccbb9f052683b5bed92ac487\", element=\"186bf225-8484-4ad3-805d-7fb3947886f3\")>,\n",
       " <selenium.webdriver.remote.webelement.WebElement (session=\"eef615b1ccbb9f052683b5bed92ac487\", element=\"e1e6110c-8e9b-4647-8f1f-4dde7590c0c7\")>,\n",
       " <selenium.webdriver.remote.webelement.WebElement (session=\"eef615b1ccbb9f052683b5bed92ac487\", element=\"2628ab1f-15d0-4f2d-8702-af96cc5eaf35\")>,\n",
       " <selenium.webdriver.remote.webelement.WebElement (session=\"eef615b1ccbb9f052683b5bed92ac487\", element=\"4f7f3fb5-dac1-4c1d-8b26-ba0059f42586\")>,\n",
       " <selenium.webdriver.remote.webelement.WebElement (session=\"eef615b1ccbb9f052683b5bed92ac487\", element=\"c74d1698-eb91-486b-bed8-1e5c4e2a7eaf\")>,\n",
       " <selenium.webdriver.remote.webelement.WebElement (session=\"eef615b1ccbb9f052683b5bed92ac487\", element=\"dc4e6d13-8dc1-44bc-a574-801352fe5257\")>,\n",
       " <selenium.webdriver.remote.webelement.WebElement (session=\"eef615b1ccbb9f052683b5bed92ac487\", element=\"843cff63-6f69-4631-8055-7e30c559fc50\")>,\n",
       " <selenium.webdriver.remote.webelement.WebElement (session=\"eef615b1ccbb9f052683b5bed92ac487\", element=\"d29c2a49-51ae-4bc9-add4-5b45eea9f51d\")>,\n",
       " <selenium.webdriver.remote.webelement.WebElement (session=\"eef615b1ccbb9f052683b5bed92ac487\", element=\"3f35534d-8622-4079-8737-16899b6ab7f1\")>,\n",
       " <selenium.webdriver.remote.webelement.WebElement (session=\"eef615b1ccbb9f052683b5bed92ac487\", element=\"a7c5ccc3-1085-48a8-8883-97567940aaf5\")>,\n",
       " <selenium.webdriver.remote.webelement.WebElement (session=\"eef615b1ccbb9f052683b5bed92ac487\", element=\"c95aec0a-47e1-4f6c-bbe7-dcb4a39974ed\")>,\n",
       " <selenium.webdriver.remote.webelement.WebElement (session=\"eef615b1ccbb9f052683b5bed92ac487\", element=\"bbb65756-9c1f-4ac5-9bb4-212d53c98429\")>]"
      ]
     },
     "execution_count": 38,
     "metadata": {},
     "output_type": "execute_result"
    }
   ],
   "source": [
    "l1=browser.find_elements(\"xpath\",\"//div[@class='location ']\")\n",
    "l1"
   ]
  },
  {
   "cell_type": "code",
   "execution_count": 39,
   "id": "c9958cec",
   "metadata": {},
   "outputs": [
    {
     "data": {
      "text/plain": [
       "[' Hong Kong SAR',\n",
       " 'New York City, United States',\n",
       " 'Tokyo, Japan',\n",
       " 'Baltimore, United States',\n",
       " 'Ann Arbor, United States',\n",
       " 'Paris, France',\n",
       " 'Berkeley, United States',\n",
       " 'Manchester, United Kingdom',\n",
       " 'Seoul, South Korea',\n",
       " 'Canberra, Australia']"
      ]
     },
     "execution_count": 39,
     "metadata": {},
     "output_type": "execute_result"
    }
   ],
   "source": [
    "loc=[]\n",
    "for data in l1:\n",
    "    #get the text data\n",
    "    temp=data.text\n",
    "    loc.append(temp)\n",
    "loc=loc[10:]\n",
    "loc"
   ]
  },
  {
   "cell_type": "code",
   "execution_count": 40,
   "id": "b8b4edf9",
   "metadata": {},
   "outputs": [
    {
     "data": {
      "text/plain": [
       "[<selenium.webdriver.remote.webelement.WebElement (session=\"eef615b1ccbb9f052683b5bed92ac487\", element=\"f6ad3718-c2ab-487b-9f50-ce88b32426b3\")>,\n",
       " <selenium.webdriver.remote.webelement.WebElement (session=\"eef615b1ccbb9f052683b5bed92ac487\", element=\"ca564052-bfff-4845-91ae-2363d1e0ef1e\")>,\n",
       " <selenium.webdriver.remote.webelement.WebElement (session=\"eef615b1ccbb9f052683b5bed92ac487\", element=\"813e0fea-0616-4aa9-a89e-07472622d225\")>,\n",
       " <selenium.webdriver.remote.webelement.WebElement (session=\"eef615b1ccbb9f052683b5bed92ac487\", element=\"c6112dd8-5c1f-406d-9b41-21f7c6d4f24c\")>,\n",
       " <selenium.webdriver.remote.webelement.WebElement (session=\"eef615b1ccbb9f052683b5bed92ac487\", element=\"f48aa7b8-6eb2-45fb-857b-7de5f3b91164\")>,\n",
       " <selenium.webdriver.remote.webelement.WebElement (session=\"eef615b1ccbb9f052683b5bed92ac487\", element=\"97a664dc-7099-46b8-adb7-5c9dccc8ec91\")>,\n",
       " <selenium.webdriver.remote.webelement.WebElement (session=\"eef615b1ccbb9f052683b5bed92ac487\", element=\"4bed9544-b561-4752-8bcb-21f7da46cb66\")>,\n",
       " <selenium.webdriver.remote.webelement.WebElement (session=\"eef615b1ccbb9f052683b5bed92ac487\", element=\"3717147d-ebb0-4db3-a70d-e50dbf5bc27f\")>,\n",
       " <selenium.webdriver.remote.webelement.WebElement (session=\"eef615b1ccbb9f052683b5bed92ac487\", element=\"14954293-c2df-4899-a973-ca79077da62d\")>,\n",
       " <selenium.webdriver.remote.webelement.WebElement (session=\"eef615b1ccbb9f052683b5bed92ac487\", element=\"1c52a454-b96b-4463-b740-560459c1294a\")>]"
      ]
     },
     "execution_count": 40,
     "metadata": {},
     "output_type": "execute_result"
    }
   ],
   "source": [
    "l2=browser.find_elements(\"xpath\",\"//div[@class='_univ-rank ']\")\n",
    "l2"
   ]
  },
  {
   "cell_type": "code",
   "execution_count": 41,
   "id": "f8c15608",
   "metadata": {},
   "outputs": [
    {
     "data": {
      "text/plain": [
       "['21', '22', '23', '24', '25', '26', '27', '28', '29', '30']"
      ]
     },
     "execution_count": 41,
     "metadata": {},
     "output_type": "execute_result"
    }
   ],
   "source": [
    "RANK=[]\n",
    "for data in l2:\n",
    "    #get the text data\n",
    "    temp=data.text\n",
    "    RANK.append(temp)\n",
    "RANK\n",
    "\n"
   ]
  },
  {
   "cell_type": "code",
   "execution_count": 42,
   "id": "4bfdb1ce",
   "metadata": {},
   "outputs": [
    {
     "data": {
      "text/plain": [
       "[<selenium.webdriver.remote.webelement.WebElement (session=\"eef615b1ccbb9f052683b5bed92ac487\", element=\"c42e74b5-74a5-45e4-aa11-1c200a27b89a\")>,\n",
       " <selenium.webdriver.remote.webelement.WebElement (session=\"eef615b1ccbb9f052683b5bed92ac487\", element=\"a7cece42-5e02-4ce5-a680-b2be16a58bb9\")>,\n",
       " <selenium.webdriver.remote.webelement.WebElement (session=\"eef615b1ccbb9f052683b5bed92ac487\", element=\"3d03c390-054d-4517-88f1-40ca3b2cef4a\")>,\n",
       " <selenium.webdriver.remote.webelement.WebElement (session=\"eef615b1ccbb9f052683b5bed92ac487\", element=\"3d27ce3a-0d3f-4c19-b6fd-6cf5cfdbc4d4\")>,\n",
       " <selenium.webdriver.remote.webelement.WebElement (session=\"eef615b1ccbb9f052683b5bed92ac487\", element=\"55b6f778-4641-4ccc-92be-9c74d20e2c89\")>,\n",
       " <selenium.webdriver.remote.webelement.WebElement (session=\"eef615b1ccbb9f052683b5bed92ac487\", element=\"c037fa61-1e84-4d88-ac10-1f722a465165\")>,\n",
       " <selenium.webdriver.remote.webelement.WebElement (session=\"eef615b1ccbb9f052683b5bed92ac487\", element=\"6883c60d-30c3-4424-8aaf-28767e1c3a8a\")>,\n",
       " <selenium.webdriver.remote.webelement.WebElement (session=\"eef615b1ccbb9f052683b5bed92ac487\", element=\"76d841a4-c1c5-47b6-872b-658c3fef9acb\")>,\n",
       " <selenium.webdriver.remote.webelement.WebElement (session=\"eef615b1ccbb9f052683b5bed92ac487\", element=\"5df18252-a65d-4b51-b971-3860339c4bb9\")>]"
      ]
     },
     "execution_count": 42,
     "metadata": {},
     "output_type": "execute_result"
    }
   ],
   "source": [
    "# GET EACH COLLEGE SPECIFICATION HEADERS\n",
    "header=browser.find_elements(\"xpath\",\"//div[@class='_click-function_ind']\")\n",
    "header"
   ]
  },
  {
   "cell_type": "code",
   "execution_count": 43,
   "id": "1a214528",
   "metadata": {},
   "outputs": [
    {
     "data": {
      "text/plain": [
       "['Overall Score',\n",
       " 'Academic Reputation',\n",
       " 'Employer Reputation',\n",
       " 'Citations per Faculty',\n",
       " 'Faculty Student Ratio',\n",
       " 'International Students Ratio',\n",
       " 'International Faculty Ratio',\n",
       " 'International Research Network\\nUnweighted',\n",
       " 'Employment Outcomes\\nUnweighted']"
      ]
     },
     "execution_count": 43,
     "metadata": {},
     "output_type": "execute_result"
    }
   ],
   "source": [
    "#PARSING DATA\n",
    "column_head=[]\n",
    "for data in header:\n",
    "    #get the text data\n",
    "    temp=data.text\n",
    "    column_head.append(temp)\n",
    "column_head"
   ]
  },
  {
   "cell_type": "code",
   "execution_count": 44,
   "id": "9509acb1",
   "metadata": {},
   "outputs": [
    {
     "data": {
      "text/plain": [
       "[<selenium.webdriver.remote.webelement.WebElement (session=\"eef615b1ccbb9f052683b5bed92ac487\", element=\"ddc787ff-7828-479e-9edc-fad433826180\")>,\n",
       " <selenium.webdriver.remote.webelement.WebElement (session=\"eef615b1ccbb9f052683b5bed92ac487\", element=\"a6c39d64-2658-4c61-87a9-ffd28aa72fc0\")>,\n",
       " <selenium.webdriver.remote.webelement.WebElement (session=\"eef615b1ccbb9f052683b5bed92ac487\", element=\"ee535361-08a8-47a8-98a0-e307c82298ab\")>,\n",
       " <selenium.webdriver.remote.webelement.WebElement (session=\"eef615b1ccbb9f052683b5bed92ac487\", element=\"d8f4f154-8c84-4a81-8d4c-2a693d93d34e\")>,\n",
       " <selenium.webdriver.remote.webelement.WebElement (session=\"eef615b1ccbb9f052683b5bed92ac487\", element=\"dd875f33-07aa-42a6-ad6b-feb444e3baea\")>,\n",
       " <selenium.webdriver.remote.webelement.WebElement (session=\"eef615b1ccbb9f052683b5bed92ac487\", element=\"7386f080-2a4f-430d-93b9-f2b503f3b241\")>,\n",
       " <selenium.webdriver.remote.webelement.WebElement (session=\"eef615b1ccbb9f052683b5bed92ac487\", element=\"47339766-5b24-411c-b6e9-eca12460c0a0\")>,\n",
       " <selenium.webdriver.remote.webelement.WebElement (session=\"eef615b1ccbb9f052683b5bed92ac487\", element=\"9ef8adde-7cd6-43bb-b4c3-d82603bf240f\")>,\n",
       " <selenium.webdriver.remote.webelement.WebElement (session=\"eef615b1ccbb9f052683b5bed92ac487\", element=\"ced7eead-359e-432e-8fdb-2a3b382528b1\")>,\n",
       " <selenium.webdriver.remote.webelement.WebElement (session=\"eef615b1ccbb9f052683b5bed92ac487\", element=\"b59c97be-c388-4889-8b33-f1829031e642\")>,\n",
       " <selenium.webdriver.remote.webelement.WebElement (session=\"eef615b1ccbb9f052683b5bed92ac487\", element=\"51867b14-993f-46da-b679-f50a95fcbbd5\")>,\n",
       " <selenium.webdriver.remote.webelement.WebElement (session=\"eef615b1ccbb9f052683b5bed92ac487\", element=\"a981b2e4-461b-4557-8f7c-b50037de5881\")>,\n",
       " <selenium.webdriver.remote.webelement.WebElement (session=\"eef615b1ccbb9f052683b5bed92ac487\", element=\"c3189f0e-f4c0-4724-b901-a753917b817b\")>,\n",
       " <selenium.webdriver.remote.webelement.WebElement (session=\"eef615b1ccbb9f052683b5bed92ac487\", element=\"fe56aed2-f037-4f4d-9079-cd79d1d9ebf1\")>,\n",
       " <selenium.webdriver.remote.webelement.WebElement (session=\"eef615b1ccbb9f052683b5bed92ac487\", element=\"23b47f28-b5a1-459f-9283-56b0e4fdd215\")>,\n",
       " <selenium.webdriver.remote.webelement.WebElement (session=\"eef615b1ccbb9f052683b5bed92ac487\", element=\"143e8704-3f2f-49e8-8c53-9ff33c047b27\")>,\n",
       " <selenium.webdriver.remote.webelement.WebElement (session=\"eef615b1ccbb9f052683b5bed92ac487\", element=\"18965c82-b45e-437d-b21b-618d9b105e40\")>,\n",
       " <selenium.webdriver.remote.webelement.WebElement (session=\"eef615b1ccbb9f052683b5bed92ac487\", element=\"405a1597-b1be-4c21-b715-9240098e45f4\")>,\n",
       " <selenium.webdriver.remote.webelement.WebElement (session=\"eef615b1ccbb9f052683b5bed92ac487\", element=\"63fa7201-da0e-4300-b3c4-0c0b9d5ed6ff\")>,\n",
       " <selenium.webdriver.remote.webelement.WebElement (session=\"eef615b1ccbb9f052683b5bed92ac487\", element=\"5524523f-9d7a-41c5-880b-4977421989da\")>,\n",
       " <selenium.webdriver.remote.webelement.WebElement (session=\"eef615b1ccbb9f052683b5bed92ac487\", element=\"1bbd4010-af85-42bf-89eb-8dd8a01c2460\")>,\n",
       " <selenium.webdriver.remote.webelement.WebElement (session=\"eef615b1ccbb9f052683b5bed92ac487\", element=\"f5710019-6aca-4ca7-840d-b9d8b6a56f44\")>,\n",
       " <selenium.webdriver.remote.webelement.WebElement (session=\"eef615b1ccbb9f052683b5bed92ac487\", element=\"5ec284f0-0df8-414e-ac89-3ca53a93ea13\")>,\n",
       " <selenium.webdriver.remote.webelement.WebElement (session=\"eef615b1ccbb9f052683b5bed92ac487\", element=\"28c1a3d0-263c-4f6a-9271-be69b80fe3d4\")>,\n",
       " <selenium.webdriver.remote.webelement.WebElement (session=\"eef615b1ccbb9f052683b5bed92ac487\", element=\"20645823-1646-4bde-9aba-4d2419d6ff03\")>,\n",
       " <selenium.webdriver.remote.webelement.WebElement (session=\"eef615b1ccbb9f052683b5bed92ac487\", element=\"2d02f444-a8d0-488c-9393-8b617390f4ce\")>,\n",
       " <selenium.webdriver.remote.webelement.WebElement (session=\"eef615b1ccbb9f052683b5bed92ac487\", element=\"06c80521-04d4-4816-8054-2a46f8ac8585\")>,\n",
       " <selenium.webdriver.remote.webelement.WebElement (session=\"eef615b1ccbb9f052683b5bed92ac487\", element=\"6026ad5a-f635-4390-bb50-92eb0f62c021\")>,\n",
       " <selenium.webdriver.remote.webelement.WebElement (session=\"eef615b1ccbb9f052683b5bed92ac487\", element=\"3a403166-b492-46a2-8fc1-1f0f7ba3d3a8\")>,\n",
       " <selenium.webdriver.remote.webelement.WebElement (session=\"eef615b1ccbb9f052683b5bed92ac487\", element=\"8555f10a-c340-4946-a447-3e8f98959fa6\")>,\n",
       " <selenium.webdriver.remote.webelement.WebElement (session=\"eef615b1ccbb9f052683b5bed92ac487\", element=\"620ab395-8155-41ef-89db-769a8d25509f\")>,\n",
       " <selenium.webdriver.remote.webelement.WebElement (session=\"eef615b1ccbb9f052683b5bed92ac487\", element=\"5f96e642-19b1-4b20-820d-6bd92546cfbe\")>,\n",
       " <selenium.webdriver.remote.webelement.WebElement (session=\"eef615b1ccbb9f052683b5bed92ac487\", element=\"b55c2e26-6de8-4013-80ab-63b75f3245bf\")>,\n",
       " <selenium.webdriver.remote.webelement.WebElement (session=\"eef615b1ccbb9f052683b5bed92ac487\", element=\"90bf7c06-89fe-4c37-a584-16cbaa4488e8\")>,\n",
       " <selenium.webdriver.remote.webelement.WebElement (session=\"eef615b1ccbb9f052683b5bed92ac487\", element=\"45d8a4c3-d410-44d7-b67e-e9dfa8db8f6a\")>,\n",
       " <selenium.webdriver.remote.webelement.WebElement (session=\"eef615b1ccbb9f052683b5bed92ac487\", element=\"9ec96856-8a31-41d1-9a79-2f1e702c4f7b\")>,\n",
       " <selenium.webdriver.remote.webelement.WebElement (session=\"eef615b1ccbb9f052683b5bed92ac487\", element=\"8339b737-7d28-4258-9b4b-2643644434e6\")>,\n",
       " <selenium.webdriver.remote.webelement.WebElement (session=\"eef615b1ccbb9f052683b5bed92ac487\", element=\"386a1785-a714-4eae-9bd5-e82aa090e69b\")>,\n",
       " <selenium.webdriver.remote.webelement.WebElement (session=\"eef615b1ccbb9f052683b5bed92ac487\", element=\"8f6ffa68-0b40-41b2-90af-380fbdf7b442\")>,\n",
       " <selenium.webdriver.remote.webelement.WebElement (session=\"eef615b1ccbb9f052683b5bed92ac487\", element=\"f027d4d7-5b80-4e74-afc7-4352d8c1eae3\")>,\n",
       " <selenium.webdriver.remote.webelement.WebElement (session=\"eef615b1ccbb9f052683b5bed92ac487\", element=\"ab579c26-0b23-433f-afbf-daa099f5c271\")>,\n",
       " <selenium.webdriver.remote.webelement.WebElement (session=\"eef615b1ccbb9f052683b5bed92ac487\", element=\"82f30873-f0ed-41f2-981b-4468c17be58d\")>,\n",
       " <selenium.webdriver.remote.webelement.WebElement (session=\"eef615b1ccbb9f052683b5bed92ac487\", element=\"903f7635-8f9a-4bcc-a98e-846060a019d2\")>,\n",
       " <selenium.webdriver.remote.webelement.WebElement (session=\"eef615b1ccbb9f052683b5bed92ac487\", element=\"2b1c565c-24ff-46f1-93b6-7f63a40f519c\")>,\n",
       " <selenium.webdriver.remote.webelement.WebElement (session=\"eef615b1ccbb9f052683b5bed92ac487\", element=\"10c09bd1-c72d-425f-bd56-9a3b826eaf42\")>,\n",
       " <selenium.webdriver.remote.webelement.WebElement (session=\"eef615b1ccbb9f052683b5bed92ac487\", element=\"c9425b09-d2df-466a-a18c-513e11c8f780\")>,\n",
       " <selenium.webdriver.remote.webelement.WebElement (session=\"eef615b1ccbb9f052683b5bed92ac487\", element=\"523f0189-c29b-412d-a390-87066dd356d9\")>,\n",
       " <selenium.webdriver.remote.webelement.WebElement (session=\"eef615b1ccbb9f052683b5bed92ac487\", element=\"6cf2aa68-d243-4309-89ae-6b932d0b30ba\")>,\n",
       " <selenium.webdriver.remote.webelement.WebElement (session=\"eef615b1ccbb9f052683b5bed92ac487\", element=\"45a9fac0-903b-40fe-8bbe-0b62e91d899b\")>,\n",
       " <selenium.webdriver.remote.webelement.WebElement (session=\"eef615b1ccbb9f052683b5bed92ac487\", element=\"bb329bc1-dbbf-4f52-8c23-a4f442cfb021\")>,\n",
       " <selenium.webdriver.remote.webelement.WebElement (session=\"eef615b1ccbb9f052683b5bed92ac487\", element=\"8277ca29-ba29-45f8-a795-88c9c68a88ac\")>,\n",
       " <selenium.webdriver.remote.webelement.WebElement (session=\"eef615b1ccbb9f052683b5bed92ac487\", element=\"f3844278-2116-4ba1-8133-ce2e1d39948c\")>,\n",
       " <selenium.webdriver.remote.webelement.WebElement (session=\"eef615b1ccbb9f052683b5bed92ac487\", element=\"6901ced7-607a-4ca7-add6-7e5cfb915762\")>,\n",
       " <selenium.webdriver.remote.webelement.WebElement (session=\"eef615b1ccbb9f052683b5bed92ac487\", element=\"d6bbe155-1d38-4987-b85f-23a3cccea40d\")>,\n",
       " <selenium.webdriver.remote.webelement.WebElement (session=\"eef615b1ccbb9f052683b5bed92ac487\", element=\"613e88ab-9756-4fce-9e8d-540c0df76ea1\")>,\n",
       " <selenium.webdriver.remote.webelement.WebElement (session=\"eef615b1ccbb9f052683b5bed92ac487\", element=\"b5cef0eb-6566-4775-b8b6-46b0eb3ff8c1\")>,\n",
       " <selenium.webdriver.remote.webelement.WebElement (session=\"eef615b1ccbb9f052683b5bed92ac487\", element=\"9f36a5c8-e6ad-4293-8f86-d8e63499c2ac\")>,\n",
       " <selenium.webdriver.remote.webelement.WebElement (session=\"eef615b1ccbb9f052683b5bed92ac487\", element=\"3a199bf0-749d-4b94-a80c-3ea001fe8e1c\")>,\n",
       " <selenium.webdriver.remote.webelement.WebElement (session=\"eef615b1ccbb9f052683b5bed92ac487\", element=\"ed2bf258-861c-41f8-a006-a6fb666f5652\")>,\n",
       " <selenium.webdriver.remote.webelement.WebElement (session=\"eef615b1ccbb9f052683b5bed92ac487\", element=\"d4b8b69e-d128-49a0-bc33-422831232dfc\")>,\n",
       " <selenium.webdriver.remote.webelement.WebElement (session=\"eef615b1ccbb9f052683b5bed92ac487\", element=\"5100a0f1-0601-417d-850b-8af4b9e35c9e\")>,\n",
       " <selenium.webdriver.remote.webelement.WebElement (session=\"eef615b1ccbb9f052683b5bed92ac487\", element=\"a9d671fc-1aeb-44b1-a193-a38e80ccbe16\")>,\n",
       " <selenium.webdriver.remote.webelement.WebElement (session=\"eef615b1ccbb9f052683b5bed92ac487\", element=\"513163c0-5d18-4d8e-a64f-651cf232cf7f\")>,\n",
       " <selenium.webdriver.remote.webelement.WebElement (session=\"eef615b1ccbb9f052683b5bed92ac487\", element=\"138c3350-c830-483e-8db3-61b0cae39f06\")>,\n",
       " <selenium.webdriver.remote.webelement.WebElement (session=\"eef615b1ccbb9f052683b5bed92ac487\", element=\"b1fb0f07-7db0-4360-b2b1-c50410a6839c\")>,\n",
       " <selenium.webdriver.remote.webelement.WebElement (session=\"eef615b1ccbb9f052683b5bed92ac487\", element=\"3488e44f-f97c-4fd7-a1c2-c3eb78cf616c\")>,\n",
       " <selenium.webdriver.remote.webelement.WebElement (session=\"eef615b1ccbb9f052683b5bed92ac487\", element=\"14ce2bb4-5b92-4614-bfc4-c333625bf1fb\")>,\n",
       " <selenium.webdriver.remote.webelement.WebElement (session=\"eef615b1ccbb9f052683b5bed92ac487\", element=\"d616788d-0f6a-45c5-95d4-ad76b2664354\")>,\n",
       " <selenium.webdriver.remote.webelement.WebElement (session=\"eef615b1ccbb9f052683b5bed92ac487\", element=\"1c2d49f4-ebb6-4510-8c51-a6133e15b67d\")>,\n",
       " <selenium.webdriver.remote.webelement.WebElement (session=\"eef615b1ccbb9f052683b5bed92ac487\", element=\"3209628f-8610-49f6-8b70-75f1c1c33317\")>,\n",
       " <selenium.webdriver.remote.webelement.WebElement (session=\"eef615b1ccbb9f052683b5bed92ac487\", element=\"57a254f3-8c21-410a-853d-15d10e7235fd\")>,\n",
       " <selenium.webdriver.remote.webelement.WebElement (session=\"eef615b1ccbb9f052683b5bed92ac487\", element=\"1d9c402f-7c70-4924-b90b-c98a76992b1f\")>,\n",
       " <selenium.webdriver.remote.webelement.WebElement (session=\"eef615b1ccbb9f052683b5bed92ac487\", element=\"e730347a-c20b-42d1-8d16-0b1395be368d\")>,\n",
       " <selenium.webdriver.remote.webelement.WebElement (session=\"eef615b1ccbb9f052683b5bed92ac487\", element=\"5312bafd-756f-4fa7-a350-2bff7523bcdd\")>,\n",
       " <selenium.webdriver.remote.webelement.WebElement (session=\"eef615b1ccbb9f052683b5bed92ac487\", element=\"4035888d-4a33-430f-ba60-163974665582\")>,\n",
       " <selenium.webdriver.remote.webelement.WebElement (session=\"eef615b1ccbb9f052683b5bed92ac487\", element=\"cf42a72e-7e60-4d78-a452-42b0e2110818\")>,\n",
       " <selenium.webdriver.remote.webelement.WebElement (session=\"eef615b1ccbb9f052683b5bed92ac487\", element=\"81e47e9c-121e-4bd5-b177-1d172f1ad8bc\")>,\n",
       " <selenium.webdriver.remote.webelement.WebElement (session=\"eef615b1ccbb9f052683b5bed92ac487\", element=\"1102d366-6f84-42fc-ab67-6fa9c80e30de\")>,\n",
       " <selenium.webdriver.remote.webelement.WebElement (session=\"eef615b1ccbb9f052683b5bed92ac487\", element=\"c24c0802-0614-470a-a2d1-cf90e19ad2e1\")>,\n",
       " <selenium.webdriver.remote.webelement.WebElement (session=\"eef615b1ccbb9f052683b5bed92ac487\", element=\"02302a73-737c-4f87-9368-59c6a6e14643\")>,\n",
       " <selenium.webdriver.remote.webelement.WebElement (session=\"eef615b1ccbb9f052683b5bed92ac487\", element=\"63aa03d4-2627-4202-bac4-4eefe7e4962a\")>,\n",
       " <selenium.webdriver.remote.webelement.WebElement (session=\"eef615b1ccbb9f052683b5bed92ac487\", element=\"69c7c037-17ca-46eb-aee8-3534339ad9b4\")>,\n",
       " <selenium.webdriver.remote.webelement.WebElement (session=\"eef615b1ccbb9f052683b5bed92ac487\", element=\"7b4bacfa-625b-4374-9cfa-bc496fb820d1\")>,\n",
       " <selenium.webdriver.remote.webelement.WebElement (session=\"eef615b1ccbb9f052683b5bed92ac487\", element=\"22a61d5a-b7ed-4e33-b912-301299d3fb74\")>,\n",
       " <selenium.webdriver.remote.webelement.WebElement (session=\"eef615b1ccbb9f052683b5bed92ac487\", element=\"7cad4873-2d4e-4e9d-8e9b-6cf4cfe4c00d\")>,\n",
       " <selenium.webdriver.remote.webelement.WebElement (session=\"eef615b1ccbb9f052683b5bed92ac487\", element=\"11b3d47e-fa70-472d-9aac-d208d3e83e82\")>,\n",
       " <selenium.webdriver.remote.webelement.WebElement (session=\"eef615b1ccbb9f052683b5bed92ac487\", element=\"c129d9d8-a726-4720-a53f-b15f294c6600\")>,\n",
       " <selenium.webdriver.remote.webelement.WebElement (session=\"eef615b1ccbb9f052683b5bed92ac487\", element=\"ad1370f8-5a72-4270-837d-1d264a3d5a5d\")>,\n",
       " <selenium.webdriver.remote.webelement.WebElement (session=\"eef615b1ccbb9f052683b5bed92ac487\", element=\"d75e0a68-fd22-4ead-8eeb-7270c3d283fc\")>,\n",
       " <selenium.webdriver.remote.webelement.WebElement (session=\"eef615b1ccbb9f052683b5bed92ac487\", element=\"10941250-646d-4470-8a4b-7a7f13718b9e\")>,\n",
       " <selenium.webdriver.remote.webelement.WebElement (session=\"eef615b1ccbb9f052683b5bed92ac487\", element=\"23f42a12-be21-4050-9c22-f4d32dcc49b0\")>,\n",
       " <selenium.webdriver.remote.webelement.WebElement (session=\"eef615b1ccbb9f052683b5bed92ac487\", element=\"2fe14864-ca66-4b3c-bf39-e52059586c8d\")>,\n",
       " <selenium.webdriver.remote.webelement.WebElement (session=\"eef615b1ccbb9f052683b5bed92ac487\", element=\"5eb16483-4af6-4606-bc76-5c1d73acd91f\")>,\n",
       " <selenium.webdriver.remote.webelement.WebElement (session=\"eef615b1ccbb9f052683b5bed92ac487\", element=\"fabe322d-56ea-438f-80c0-6c2833bcadbf\")>,\n",
       " <selenium.webdriver.remote.webelement.WebElement (session=\"eef615b1ccbb9f052683b5bed92ac487\", element=\"0efd1ab7-61b4-452f-8cbb-15bc1785057a\")>,\n",
       " <selenium.webdriver.remote.webelement.WebElement (session=\"eef615b1ccbb9f052683b5bed92ac487\", element=\"922f8eb9-cb6b-4176-b1f3-6709f1c7d462\")>,\n",
       " <selenium.webdriver.remote.webelement.WebElement (session=\"eef615b1ccbb9f052683b5bed92ac487\", element=\"889bb6bb-17b8-42de-aeea-93546b720221\")>,\n",
       " <selenium.webdriver.remote.webelement.WebElement (session=\"eef615b1ccbb9f052683b5bed92ac487\", element=\"f4dbfb28-57fb-47b6-a795-22726689ee90\")>,\n",
       " <selenium.webdriver.remote.webelement.WebElement (session=\"eef615b1ccbb9f052683b5bed92ac487\", element=\"eac328c5-3866-4ad8-9166-5ab20f5454dc\")>,\n",
       " <selenium.webdriver.remote.webelement.WebElement (session=\"eef615b1ccbb9f052683b5bed92ac487\", element=\"6bf09bc5-587d-4e92-9a08-f3aeb2795f4c\")>]"
      ]
     },
     "execution_count": 44,
     "metadata": {},
     "output_type": "execute_result"
    }
   ],
   "source": [
    "header2=browser.find_elements(\"xpath\",\"//div[@class='td-wrap-in']\")\n",
    "header2"
   ]
  },
  {
   "cell_type": "code",
   "execution_count": 45,
   "id": "67dff848",
   "metadata": {},
   "outputs": [
    {
     "data": {
      "text/plain": [
       "['84.4', '98.5', '91.3', '62.5', '88.9', '33.1', '71.2', '96.3', '96']"
      ]
     },
     "execution_count": 45,
     "metadata": {},
     "output_type": "execute_result"
    }
   ],
   "source": [
    "#PARSING DATA\n",
    "value_head=[]\n",
    "for data in header2:\n",
    "    #get the text data\n",
    "    temp=data.text\n",
    "    value_head.append(temp)\n",
    "value=value_head[41:50]\n",
    "value"
   ]
  },
  {
   "cell_type": "code",
   "execution_count": 46,
   "id": "25dfdb27",
   "metadata": {},
   "outputs": [
    {
     "data": {
      "text/plain": [
       "{'Name': 'University of Michigan-Ann Arbor',\n",
       " 'Location': 'Ann Arbor, United States',\n",
       " 'Rank': '25',\n",
       " 'Overall Score': '84.4',\n",
       " 'Academic Reputation': '98.5',\n",
       " 'Employer Reputation': '91.3',\n",
       " 'Citations per Faculty': '62.5',\n",
       " 'Faculty Student Ratio': '88.9',\n",
       " 'International Students Ratio': '33.1',\n",
       " 'International Faculty Ratio': '71.2',\n",
       " 'International Research Network\\nUnweighted': '96.3',\n",
       " 'Employment Outcomes\\nUnweighted': '96'}"
      ]
     },
     "execution_count": 46,
     "metadata": {},
     "output_type": "execute_result"
    }
   ],
   "source": [
    "d={}\n",
    "d['Name']=value_head[40]\n",
    "d['Location']=loc[4]\n",
    "d['Rank']=RANK[4]\n",
    "\n",
    "\n",
    "for i in range(len(column_head)):\n",
    "    d[column_head[i]]=value[i]\n",
    "d"
   ]
  },
  {
   "cell_type": "code",
   "execution_count": 47,
   "id": "69d484ea",
   "metadata": {},
   "outputs": [
    {
     "data": {
      "text/plain": [
       "'{\"Name\": \"University of Michigan-Ann Arbor\", \"Location\": \"Ann Arbor, United States\", \"Rank\": \"25\", \"Overall Score\": \"84.4\", \"Academic Reputation\": \"98.5\", \"Employer Reputation\": \"91.3\", \"Citations per Faculty\": \"62.5\", \"Faculty Student Ratio\": \"88.9\", \"International Students Ratio\": \"33.1\", \"International Faculty Ratio\": \"71.2\", \"International Research Network\\\\nUnweighted\": \"96.3\", \"Employment Outcomes\\\\nUnweighted\": \"96\"}'"
      ]
     },
     "execution_count": 47,
     "metadata": {},
     "output_type": "execute_result"
    }
   ],
   "source": [
    "s1=json.dumps(d)\n",
    "s1"
   ]
  },
  {
   "cell_type": "code",
   "execution_count": 48,
   "id": "4b1a8b7a",
   "metadata": {},
   "outputs": [],
   "source": [
    "with open('University of Michigan-Ann Arbor.json','w') as f:\n",
    "    json.dump(d,f)"
   ]
  },
  {
   "cell_type": "code",
   "execution_count": null,
   "id": "b1bc3417",
   "metadata": {},
   "outputs": [],
   "source": []
  }
 ],
 "metadata": {
  "kernelspec": {
   "display_name": "Python 3 (ipykernel)",
   "language": "python",
   "name": "python3"
  },
  "language_info": {
   "codemirror_mode": {
    "name": "ipython",
    "version": 3
   },
   "file_extension": ".py",
   "mimetype": "text/x-python",
   "name": "python",
   "nbconvert_exporter": "python",
   "pygments_lexer": "ipython3",
   "version": "3.9.12"
  }
 },
 "nbformat": 4,
 "nbformat_minor": 5
}
