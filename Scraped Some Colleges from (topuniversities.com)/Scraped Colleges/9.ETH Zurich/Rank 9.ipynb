{
 "cells": [
  {
   "cell_type": "code",
   "execution_count": 1,
   "id": "753546da",
   "metadata": {},
   "outputs": [],
   "source": [
    "from selenium import webdriver\n",
    "from selenium.webdriver.chrome.service import Service\n",
    "import pandas as pd\n",
    "import json\n"
   ]
  },
  {
   "cell_type": "code",
   "execution_count": 2,
   "id": "424a7e3e",
   "metadata": {},
   "outputs": [],
   "source": [
    "path = Service('C:\\chromedriver.exe')\n"
   ]
  },
  {
   "cell_type": "code",
   "execution_count": 3,
   "id": "8c09bd8e",
   "metadata": {},
   "outputs": [],
   "source": [
    "# set path for the driver\n",
    "browser = webdriver.Chrome(service = path)"
   ]
  },
  {
   "cell_type": "code",
   "execution_count": 4,
   "id": "b4044b07",
   "metadata": {},
   "outputs": [],
   "source": [
    "url = \"https://www.topuniversities.com/university-rankings/world-university-rankings/2023\""
   ]
  },
  {
   "cell_type": "code",
   "execution_count": 5,
   "id": "cf06aeca",
   "metadata": {},
   "outputs": [],
   "source": [
    "\n",
    "# open the page url ion chrome\n",
    "browser.get(url)"
   ]
  },
  {
   "cell_type": "code",
   "execution_count": 6,
   "id": "b71316e8",
   "metadata": {},
   "outputs": [
    {
     "data": {
      "text/plain": [
       "[<selenium.webdriver.remote.webelement.WebElement (session=\"334a60f91750b973dff2b7ff24e744fd\", element=\"de1ddc41-036e-461d-af5e-32b96c335b6f\")>,\n",
       " <selenium.webdriver.remote.webelement.WebElement (session=\"334a60f91750b973dff2b7ff24e744fd\", element=\"d6fbedfe-3a3e-40c0-aff8-1e10dcd6d6c5\")>,\n",
       " <selenium.webdriver.remote.webelement.WebElement (session=\"334a60f91750b973dff2b7ff24e744fd\", element=\"def88a7e-5823-4f79-ad1a-557b92b0503b\")>,\n",
       " <selenium.webdriver.remote.webelement.WebElement (session=\"334a60f91750b973dff2b7ff24e744fd\", element=\"a50002de-8eff-454f-9c27-73a27df140a2\")>,\n",
       " <selenium.webdriver.remote.webelement.WebElement (session=\"334a60f91750b973dff2b7ff24e744fd\", element=\"2d2f06ce-1917-4ae3-84ff-64e78d892a4a\")>,\n",
       " <selenium.webdriver.remote.webelement.WebElement (session=\"334a60f91750b973dff2b7ff24e744fd\", element=\"0a0f40b0-3503-4e94-955b-d70ade27e33d\")>,\n",
       " <selenium.webdriver.remote.webelement.WebElement (session=\"334a60f91750b973dff2b7ff24e744fd\", element=\"2ec31fd6-736c-412f-b411-1a1dac11ce72\")>,\n",
       " <selenium.webdriver.remote.webelement.WebElement (session=\"334a60f91750b973dff2b7ff24e744fd\", element=\"2245e12d-0c6d-4025-bc76-cb88ce4205d1\")>,\n",
       " <selenium.webdriver.remote.webelement.WebElement (session=\"334a60f91750b973dff2b7ff24e744fd\", element=\"776d1230-1812-4ecc-a890-b7b882b84d7a\")>]"
      ]
     },
     "execution_count": 6,
     "metadata": {},
     "output_type": "execute_result"
    }
   ],
   "source": [
    "# GET EACH COLLEGE SPECIFICATION HEADERS\n",
    "header=browser.find_elements(\"xpath\",\"//div[@class='_click-function_ind']\")\n",
    "header"
   ]
  },
  {
   "cell_type": "code",
   "execution_count": 7,
   "id": "b2f4cddb",
   "metadata": {},
   "outputs": [
    {
     "data": {
      "text/plain": [
       "['Overall Score',\n",
       " 'Academic Reputation',\n",
       " 'Employer Reputation',\n",
       " 'Citations per Faculty',\n",
       " 'Faculty Student Ratio',\n",
       " 'International Students Ratio',\n",
       " 'International Faculty Ratio',\n",
       " 'International Research Network\\nUnweighted',\n",
       " 'Employment Outcomes\\nUnweighted']"
      ]
     },
     "execution_count": 7,
     "metadata": {},
     "output_type": "execute_result"
    }
   ],
   "source": [
    "#PARSING DATA\n",
    "column_head=[]\n",
    "for data in header:\n",
    "    #get the text data\n",
    "    temp=data.text\n",
    "    column_head.append(temp)\n",
    "column_head"
   ]
  },
  {
   "cell_type": "code",
   "execution_count": 8,
   "id": "f784ac59",
   "metadata": {},
   "outputs": [
    {
     "data": {
      "text/plain": [
       "[<selenium.webdriver.remote.webelement.WebElement (session=\"334a60f91750b973dff2b7ff24e744fd\", element=\"6fd92997-c9e6-46fb-a312-f2b8212b5571\")>,\n",
       " <selenium.webdriver.remote.webelement.WebElement (session=\"334a60f91750b973dff2b7ff24e744fd\", element=\"7f667fdb-55b1-4032-9806-3abe8ee9d618\")>,\n",
       " <selenium.webdriver.remote.webelement.WebElement (session=\"334a60f91750b973dff2b7ff24e744fd\", element=\"b71fb4a9-1ee2-4dd7-996f-cc1aac16f12c\")>,\n",
       " <selenium.webdriver.remote.webelement.WebElement (session=\"334a60f91750b973dff2b7ff24e744fd\", element=\"a9cca8f4-0e8c-41cb-95be-c4ab73fcfc1c\")>,\n",
       " <selenium.webdriver.remote.webelement.WebElement (session=\"334a60f91750b973dff2b7ff24e744fd\", element=\"5d4241cf-cbb4-4dd5-aa66-a964449dd290\")>,\n",
       " <selenium.webdriver.remote.webelement.WebElement (session=\"334a60f91750b973dff2b7ff24e744fd\", element=\"11d663b7-2ee6-4526-9d1f-47dff2398edf\")>,\n",
       " <selenium.webdriver.remote.webelement.WebElement (session=\"334a60f91750b973dff2b7ff24e744fd\", element=\"ff7a5bb7-f57f-4adf-a4d4-4932601dde34\")>,\n",
       " <selenium.webdriver.remote.webelement.WebElement (session=\"334a60f91750b973dff2b7ff24e744fd\", element=\"5067004a-d5b7-4c91-ba98-dab00b321fb9\")>,\n",
       " <selenium.webdriver.remote.webelement.WebElement (session=\"334a60f91750b973dff2b7ff24e744fd\", element=\"86a479ae-da54-48fc-82a7-ec71fa19a4d5\")>,\n",
       " <selenium.webdriver.remote.webelement.WebElement (session=\"334a60f91750b973dff2b7ff24e744fd\", element=\"da134db4-37bf-44b4-a612-768b1e34d3fa\")>,\n",
       " <selenium.webdriver.remote.webelement.WebElement (session=\"334a60f91750b973dff2b7ff24e744fd\", element=\"d772a748-2638-4196-b8dc-bd292e9fb4a9\")>,\n",
       " <selenium.webdriver.remote.webelement.WebElement (session=\"334a60f91750b973dff2b7ff24e744fd\", element=\"a02b7397-f8a7-430b-ae38-851fafe161dd\")>,\n",
       " <selenium.webdriver.remote.webelement.WebElement (session=\"334a60f91750b973dff2b7ff24e744fd\", element=\"74d05eb5-7e34-4e2c-92bb-1d2697cc665d\")>,\n",
       " <selenium.webdriver.remote.webelement.WebElement (session=\"334a60f91750b973dff2b7ff24e744fd\", element=\"60d1a14a-7e0a-4de3-87d3-4dcfb52e03e2\")>,\n",
       " <selenium.webdriver.remote.webelement.WebElement (session=\"334a60f91750b973dff2b7ff24e744fd\", element=\"733624bf-40d5-48be-a292-9db0d1c1b7b4\")>,\n",
       " <selenium.webdriver.remote.webelement.WebElement (session=\"334a60f91750b973dff2b7ff24e744fd\", element=\"391aaf77-89f1-4543-8dbb-8a5813f4c7dc\")>,\n",
       " <selenium.webdriver.remote.webelement.WebElement (session=\"334a60f91750b973dff2b7ff24e744fd\", element=\"596376b9-ba65-4004-97ce-f6e860af95fb\")>,\n",
       " <selenium.webdriver.remote.webelement.WebElement (session=\"334a60f91750b973dff2b7ff24e744fd\", element=\"3b791fea-a0fc-40d2-8d70-ee5bdb45e345\")>,\n",
       " <selenium.webdriver.remote.webelement.WebElement (session=\"334a60f91750b973dff2b7ff24e744fd\", element=\"f0f5b0d2-1f03-41a8-8e18-2f3075a69be7\")>,\n",
       " <selenium.webdriver.remote.webelement.WebElement (session=\"334a60f91750b973dff2b7ff24e744fd\", element=\"4db2a5f7-99cb-4260-854d-ae3048963d0b\")>,\n",
       " <selenium.webdriver.remote.webelement.WebElement (session=\"334a60f91750b973dff2b7ff24e744fd\", element=\"ab45ad90-081a-4abc-915f-09eaa5b79a92\")>,\n",
       " <selenium.webdriver.remote.webelement.WebElement (session=\"334a60f91750b973dff2b7ff24e744fd\", element=\"aa0b5d65-6b7d-416d-bdf0-f56aa4e14fc3\")>,\n",
       " <selenium.webdriver.remote.webelement.WebElement (session=\"334a60f91750b973dff2b7ff24e744fd\", element=\"da7c68c4-0488-4b64-b227-80684d2ba971\")>,\n",
       " <selenium.webdriver.remote.webelement.WebElement (session=\"334a60f91750b973dff2b7ff24e744fd\", element=\"11c634a2-bc3e-4785-8cb4-40b42fed281d\")>,\n",
       " <selenium.webdriver.remote.webelement.WebElement (session=\"334a60f91750b973dff2b7ff24e744fd\", element=\"0cfd96dc-c74d-4430-b526-a81042150d5e\")>,\n",
       " <selenium.webdriver.remote.webelement.WebElement (session=\"334a60f91750b973dff2b7ff24e744fd\", element=\"958bbbeb-415b-4f85-b94c-08e9aa20e544\")>,\n",
       " <selenium.webdriver.remote.webelement.WebElement (session=\"334a60f91750b973dff2b7ff24e744fd\", element=\"37e4e8e2-b82f-43f1-bdc9-9739f9a3a8ce\")>,\n",
       " <selenium.webdriver.remote.webelement.WebElement (session=\"334a60f91750b973dff2b7ff24e744fd\", element=\"fe64e98c-1375-4baa-8ade-0e6052a7e237\")>,\n",
       " <selenium.webdriver.remote.webelement.WebElement (session=\"334a60f91750b973dff2b7ff24e744fd\", element=\"4fb4a39c-978d-4a67-8e67-9650e7923521\")>,\n",
       " <selenium.webdriver.remote.webelement.WebElement (session=\"334a60f91750b973dff2b7ff24e744fd\", element=\"ae0550c8-7959-40b5-bc3c-85f8b2b73412\")>,\n",
       " <selenium.webdriver.remote.webelement.WebElement (session=\"334a60f91750b973dff2b7ff24e744fd\", element=\"a914d64d-66ff-4a6a-8ac4-027b7641fcf0\")>,\n",
       " <selenium.webdriver.remote.webelement.WebElement (session=\"334a60f91750b973dff2b7ff24e744fd\", element=\"d203a572-d21a-4d3e-a23b-94bf4f4f867d\")>,\n",
       " <selenium.webdriver.remote.webelement.WebElement (session=\"334a60f91750b973dff2b7ff24e744fd\", element=\"58a5f203-7279-4b0c-9e05-7ebf7b47855c\")>,\n",
       " <selenium.webdriver.remote.webelement.WebElement (session=\"334a60f91750b973dff2b7ff24e744fd\", element=\"39c646f6-0ba9-450b-a528-768264033c15\")>,\n",
       " <selenium.webdriver.remote.webelement.WebElement (session=\"334a60f91750b973dff2b7ff24e744fd\", element=\"63fac670-792b-4541-838a-caaff4dbaf8c\")>,\n",
       " <selenium.webdriver.remote.webelement.WebElement (session=\"334a60f91750b973dff2b7ff24e744fd\", element=\"af090ab8-6123-42f5-8e9d-ccff87bda93c\")>,\n",
       " <selenium.webdriver.remote.webelement.WebElement (session=\"334a60f91750b973dff2b7ff24e744fd\", element=\"2e460cbf-3aa2-4a85-9d00-ca3f81ea6578\")>,\n",
       " <selenium.webdriver.remote.webelement.WebElement (session=\"334a60f91750b973dff2b7ff24e744fd\", element=\"2203abfb-2dd4-4c38-aa38-2d665c69f2f3\")>,\n",
       " <selenium.webdriver.remote.webelement.WebElement (session=\"334a60f91750b973dff2b7ff24e744fd\", element=\"00b773fb-b849-4551-bee3-f69f96be043a\")>,\n",
       " <selenium.webdriver.remote.webelement.WebElement (session=\"334a60f91750b973dff2b7ff24e744fd\", element=\"5670aaa2-dd2e-42da-ae8d-fea544fb538b\")>,\n",
       " <selenium.webdriver.remote.webelement.WebElement (session=\"334a60f91750b973dff2b7ff24e744fd\", element=\"344618f0-4596-428f-9088-1d383a40bb1c\")>,\n",
       " <selenium.webdriver.remote.webelement.WebElement (session=\"334a60f91750b973dff2b7ff24e744fd\", element=\"c9145faa-88ae-49bc-9653-56ce3dd60e3d\")>,\n",
       " <selenium.webdriver.remote.webelement.WebElement (session=\"334a60f91750b973dff2b7ff24e744fd\", element=\"6d6e5a40-0216-45f0-b990-533d9d3e231f\")>,\n",
       " <selenium.webdriver.remote.webelement.WebElement (session=\"334a60f91750b973dff2b7ff24e744fd\", element=\"07f517dc-1c54-48ab-b4fd-2f4d85bb0be9\")>,\n",
       " <selenium.webdriver.remote.webelement.WebElement (session=\"334a60f91750b973dff2b7ff24e744fd\", element=\"ae028977-7de0-422e-8d54-65739206c632\")>,\n",
       " <selenium.webdriver.remote.webelement.WebElement (session=\"334a60f91750b973dff2b7ff24e744fd\", element=\"eed5ffab-4118-467d-a836-574a1512b2d0\")>,\n",
       " <selenium.webdriver.remote.webelement.WebElement (session=\"334a60f91750b973dff2b7ff24e744fd\", element=\"eb8e675f-4a40-46f5-962b-a1b4d7d7a416\")>,\n",
       " <selenium.webdriver.remote.webelement.WebElement (session=\"334a60f91750b973dff2b7ff24e744fd\", element=\"a548d748-ce88-443b-b95b-df270c5e54af\")>,\n",
       " <selenium.webdriver.remote.webelement.WebElement (session=\"334a60f91750b973dff2b7ff24e744fd\", element=\"debb0ecc-1908-4175-ac96-b2468b31ebf1\")>,\n",
       " <selenium.webdriver.remote.webelement.WebElement (session=\"334a60f91750b973dff2b7ff24e744fd\", element=\"f6ebba3f-8fd4-48c0-9885-f09d9738e12b\")>,\n",
       " <selenium.webdriver.remote.webelement.WebElement (session=\"334a60f91750b973dff2b7ff24e744fd\", element=\"155509a1-d747-4ab1-8814-50f4ae159ba8\")>,\n",
       " <selenium.webdriver.remote.webelement.WebElement (session=\"334a60f91750b973dff2b7ff24e744fd\", element=\"e5051f20-75f6-46f6-b9a3-9adc36d68dbb\")>,\n",
       " <selenium.webdriver.remote.webelement.WebElement (session=\"334a60f91750b973dff2b7ff24e744fd\", element=\"62ebf184-b356-4bdc-94f1-9f079365b099\")>,\n",
       " <selenium.webdriver.remote.webelement.WebElement (session=\"334a60f91750b973dff2b7ff24e744fd\", element=\"fc42a097-bc5e-4e51-8462-a15c6286235a\")>,\n",
       " <selenium.webdriver.remote.webelement.WebElement (session=\"334a60f91750b973dff2b7ff24e744fd\", element=\"f2a2be48-a211-473b-8171-76265958301e\")>,\n",
       " <selenium.webdriver.remote.webelement.WebElement (session=\"334a60f91750b973dff2b7ff24e744fd\", element=\"80f09e23-b974-4708-8335-7f40cd0f66f6\")>,\n",
       " <selenium.webdriver.remote.webelement.WebElement (session=\"334a60f91750b973dff2b7ff24e744fd\", element=\"2e99e99c-0b9d-4ab9-a0ac-6f1601723cab\")>,\n",
       " <selenium.webdriver.remote.webelement.WebElement (session=\"334a60f91750b973dff2b7ff24e744fd\", element=\"c647b14f-37ce-49fd-93d5-a3be56491dd9\")>,\n",
       " <selenium.webdriver.remote.webelement.WebElement (session=\"334a60f91750b973dff2b7ff24e744fd\", element=\"c48b3ae2-9b09-41dd-8b82-4cdd9443253e\")>,\n",
       " <selenium.webdriver.remote.webelement.WebElement (session=\"334a60f91750b973dff2b7ff24e744fd\", element=\"a9aa6175-a95e-4c12-ac9c-48b062f7a35d\")>,\n",
       " <selenium.webdriver.remote.webelement.WebElement (session=\"334a60f91750b973dff2b7ff24e744fd\", element=\"0cd33f5b-9bd0-46f9-b8d4-cd2e541f226e\")>,\n",
       " <selenium.webdriver.remote.webelement.WebElement (session=\"334a60f91750b973dff2b7ff24e744fd\", element=\"1414d653-8449-42d5-bf0d-b3453cdb92eb\")>,\n",
       " <selenium.webdriver.remote.webelement.WebElement (session=\"334a60f91750b973dff2b7ff24e744fd\", element=\"16d249d2-2baf-4803-a375-6674e1f6e73a\")>,\n",
       " <selenium.webdriver.remote.webelement.WebElement (session=\"334a60f91750b973dff2b7ff24e744fd\", element=\"e747735c-02af-4eaf-a064-dcd44211bca2\")>,\n",
       " <selenium.webdriver.remote.webelement.WebElement (session=\"334a60f91750b973dff2b7ff24e744fd\", element=\"6a9dc666-dc4e-4f43-b0cd-714517561f90\")>,\n",
       " <selenium.webdriver.remote.webelement.WebElement (session=\"334a60f91750b973dff2b7ff24e744fd\", element=\"798200eb-37c8-4025-a4c8-cb951b7e1e58\")>,\n",
       " <selenium.webdriver.remote.webelement.WebElement (session=\"334a60f91750b973dff2b7ff24e744fd\", element=\"8057502c-d9f2-40ac-8330-aa4462388b9b\")>,\n",
       " <selenium.webdriver.remote.webelement.WebElement (session=\"334a60f91750b973dff2b7ff24e744fd\", element=\"2b572d42-411a-4bf7-9c7d-ba04ce0ace8e\")>,\n",
       " <selenium.webdriver.remote.webelement.WebElement (session=\"334a60f91750b973dff2b7ff24e744fd\", element=\"70fe6ef6-afa5-4b7b-9ac4-29e07d5913ff\")>,\n",
       " <selenium.webdriver.remote.webelement.WebElement (session=\"334a60f91750b973dff2b7ff24e744fd\", element=\"b93346ed-86e4-4abb-b956-171ae1c04f38\")>,\n",
       " <selenium.webdriver.remote.webelement.WebElement (session=\"334a60f91750b973dff2b7ff24e744fd\", element=\"9bd1fa15-a9a7-47a1-b5a3-33f4eee300a1\")>,\n",
       " <selenium.webdriver.remote.webelement.WebElement (session=\"334a60f91750b973dff2b7ff24e744fd\", element=\"51105bfe-9169-4f71-86b5-1040ef69b8d4\")>,\n",
       " <selenium.webdriver.remote.webelement.WebElement (session=\"334a60f91750b973dff2b7ff24e744fd\", element=\"d0500f86-a113-49e8-bcd8-263a55856b89\")>,\n",
       " <selenium.webdriver.remote.webelement.WebElement (session=\"334a60f91750b973dff2b7ff24e744fd\", element=\"96fc070d-ba87-47ac-b272-e9e84e7f7d47\")>,\n",
       " <selenium.webdriver.remote.webelement.WebElement (session=\"334a60f91750b973dff2b7ff24e744fd\", element=\"ce88e18b-485b-4859-921c-d307fb54fef4\")>,\n",
       " <selenium.webdriver.remote.webelement.WebElement (session=\"334a60f91750b973dff2b7ff24e744fd\", element=\"8f229b87-3a05-4603-b995-c58cedc1533a\")>,\n",
       " <selenium.webdriver.remote.webelement.WebElement (session=\"334a60f91750b973dff2b7ff24e744fd\", element=\"05c50d97-32b4-4fcd-8df3-0ed97373ce22\")>,\n",
       " <selenium.webdriver.remote.webelement.WebElement (session=\"334a60f91750b973dff2b7ff24e744fd\", element=\"0a1366bc-d352-410c-bd45-da0d84877879\")>,\n",
       " <selenium.webdriver.remote.webelement.WebElement (session=\"334a60f91750b973dff2b7ff24e744fd\", element=\"13713b8d-dca8-418e-a0ad-ea487231baf6\")>,\n",
       " <selenium.webdriver.remote.webelement.WebElement (session=\"334a60f91750b973dff2b7ff24e744fd\", element=\"75bf5b37-2c61-453a-b05f-fbbb9facc8cf\")>,\n",
       " <selenium.webdriver.remote.webelement.WebElement (session=\"334a60f91750b973dff2b7ff24e744fd\", element=\"4cae928a-b053-4cda-8c8e-5269097c2a68\")>,\n",
       " <selenium.webdriver.remote.webelement.WebElement (session=\"334a60f91750b973dff2b7ff24e744fd\", element=\"2b3d7c10-51e0-4d23-8d09-3378828309d3\")>,\n",
       " <selenium.webdriver.remote.webelement.WebElement (session=\"334a60f91750b973dff2b7ff24e744fd\", element=\"7b1eb256-cf14-4cc4-b557-77f9da890655\")>,\n",
       " <selenium.webdriver.remote.webelement.WebElement (session=\"334a60f91750b973dff2b7ff24e744fd\", element=\"b0c8604d-e0c6-4b47-9a20-5d360a6f66a8\")>,\n",
       " <selenium.webdriver.remote.webelement.WebElement (session=\"334a60f91750b973dff2b7ff24e744fd\", element=\"8c489423-16a0-4870-906e-896d83efa3e8\")>,\n",
       " <selenium.webdriver.remote.webelement.WebElement (session=\"334a60f91750b973dff2b7ff24e744fd\", element=\"b05175e2-23a9-4574-ac30-7cf5bec0b6fa\")>,\n",
       " <selenium.webdriver.remote.webelement.WebElement (session=\"334a60f91750b973dff2b7ff24e744fd\", element=\"6d624a14-c8bd-44ef-b7bb-73cfd598b3dc\")>,\n",
       " <selenium.webdriver.remote.webelement.WebElement (session=\"334a60f91750b973dff2b7ff24e744fd\", element=\"f7418f9f-a52e-4b76-a931-460c0256c156\")>,\n",
       " <selenium.webdriver.remote.webelement.WebElement (session=\"334a60f91750b973dff2b7ff24e744fd\", element=\"7ae77884-7b9a-4c7e-b40c-d154d6c6f985\")>,\n",
       " <selenium.webdriver.remote.webelement.WebElement (session=\"334a60f91750b973dff2b7ff24e744fd\", element=\"6e30756d-409e-4271-b7a2-43f4902d5f4f\")>,\n",
       " <selenium.webdriver.remote.webelement.WebElement (session=\"334a60f91750b973dff2b7ff24e744fd\", element=\"de1c1be1-a32d-4ba5-b772-168a13a59df0\")>,\n",
       " <selenium.webdriver.remote.webelement.WebElement (session=\"334a60f91750b973dff2b7ff24e744fd\", element=\"9c600931-d28d-4826-a80c-7b73e3ae5301\")>,\n",
       " <selenium.webdriver.remote.webelement.WebElement (session=\"334a60f91750b973dff2b7ff24e744fd\", element=\"89e4e99a-8da2-4313-9043-633d1e4bacb5\")>,\n",
       " <selenium.webdriver.remote.webelement.WebElement (session=\"334a60f91750b973dff2b7ff24e744fd\", element=\"00cc8948-76d5-4607-9cce-d6b1b92ccc56\")>,\n",
       " <selenium.webdriver.remote.webelement.WebElement (session=\"334a60f91750b973dff2b7ff24e744fd\", element=\"3840e997-a972-4ac6-9a96-b2de56e6e734\")>,\n",
       " <selenium.webdriver.remote.webelement.WebElement (session=\"334a60f91750b973dff2b7ff24e744fd\", element=\"cfba5422-20ab-47e7-89ae-4545664c9604\")>,\n",
       " <selenium.webdriver.remote.webelement.WebElement (session=\"334a60f91750b973dff2b7ff24e744fd\", element=\"c3b5a388-dd93-45ad-9f20-787ba8a561a3\")>,\n",
       " <selenium.webdriver.remote.webelement.WebElement (session=\"334a60f91750b973dff2b7ff24e744fd\", element=\"a89de378-da77-40dd-bb02-0f1df3dbb37e\")>,\n",
       " <selenium.webdriver.remote.webelement.WebElement (session=\"334a60f91750b973dff2b7ff24e744fd\", element=\"fcdabe7e-1d82-4558-bbaf-44292abbf76f\")>,\n",
       " <selenium.webdriver.remote.webelement.WebElement (session=\"334a60f91750b973dff2b7ff24e744fd\", element=\"128d393b-fd3c-4850-a1cf-bf24eb913457\")>]"
      ]
     },
     "execution_count": 8,
     "metadata": {},
     "output_type": "execute_result"
    }
   ],
   "source": [
    "header2=browser.find_elements(\"xpath\",\"//div[@class='td-wrap-in']\")\n",
    "header2"
   ]
  },
  {
   "cell_type": "code",
   "execution_count": 9,
   "id": "b72fd949",
   "metadata": {},
   "outputs": [
    {
     "data": {
      "text/plain": [
       "['93.6', '98.6', '91.3', '99.2', '74.2', '98', '100', '96.2', '91.1']"
      ]
     },
     "execution_count": 9,
     "metadata": {},
     "output_type": "execute_result"
    }
   ],
   "source": [
    "#PARSING DATA\n",
    "value_head=[]\n",
    "for data in header2:\n",
    "    #get the text data\n",
    "    temp=data.text\n",
    "    value_head.append(temp)\n",
    "value_head=value_head[81:90]\n",
    "value_head\n"
   ]
  },
  {
   "cell_type": "code",
   "execution_count": 10,
   "id": "a556f091",
   "metadata": {},
   "outputs": [
    {
     "data": {
      "text/plain": [
       "{'Overall Score': '93.6',\n",
       " 'Academic Reputation': '98.6',\n",
       " 'Employer Reputation': '91.3',\n",
       " 'Citations per Faculty': '99.2',\n",
       " 'Faculty Student Ratio': '74.2',\n",
       " 'International Students Ratio': '98',\n",
       " 'International Faculty Ratio': '100',\n",
       " 'International Research Network\\nUnweighted': '96.2',\n",
       " 'Employment Outcomes\\nUnweighted': '91.1'}"
      ]
     },
     "execution_count": 10,
     "metadata": {},
     "output_type": "execute_result"
    }
   ],
   "source": [
    "d={}\n",
    "for i in range(len(column_head)):\n",
    "    d[column_head[i]]=value_head[i]\n",
    "d"
   ]
  },
  {
   "cell_type": "code",
   "execution_count": 11,
   "id": "cbd864e9",
   "metadata": {},
   "outputs": [
    {
     "data": {
      "text/plain": [
       "'{\"Overall Score\": \"93.6\", \"Academic Reputation\": \"98.6\", \"Employer Reputation\": \"91.3\", \"Citations per Faculty\": \"99.2\", \"Faculty Student Ratio\": \"74.2\", \"International Students Ratio\": \"98\", \"International Faculty Ratio\": \"100\", \"International Research Network\\\\nUnweighted\": \"96.2\", \"Employment Outcomes\\\\nUnweighted\": \"91.1\"}'"
      ]
     },
     "execution_count": 11,
     "metadata": {},
     "output_type": "execute_result"
    }
   ],
   "source": [
    "\n",
    "s1=json.dumps(d)\n",
    "s1\n"
   ]
  },
  {
   "cell_type": "code",
   "execution_count": 12,
   "id": "7d9723c4",
   "metadata": {},
   "outputs": [],
   "source": [
    "\n",
    "with open('ETH Zurich.json','w') as f:\n",
    "    json.dump(d,f)\n"
   ]
  },
  {
   "cell_type": "code",
   "execution_count": null,
   "id": "39c530b8",
   "metadata": {},
   "outputs": [],
   "source": []
  }
 ],
 "metadata": {
  "kernelspec": {
   "display_name": "Python 3 (ipykernel)",
   "language": "python",
   "name": "python3"
  },
  "language_info": {
   "codemirror_mode": {
    "name": "ipython",
    "version": 3
   },
   "file_extension": ".py",
   "mimetype": "text/x-python",
   "name": "python",
   "nbconvert_exporter": "python",
   "pygments_lexer": "ipython3",
   "version": "3.9.12"
  }
 },
 "nbformat": 4,
 "nbformat_minor": 5
}
