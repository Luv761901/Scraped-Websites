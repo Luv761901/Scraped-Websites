{
 "cells": [
  {
   "cell_type": "code",
   "execution_count": 22,
   "id": "753546da",
   "metadata": {},
   "outputs": [],
   "source": [
    "from selenium import webdriver\n",
    "from selenium.webdriver.chrome.service import Service\n",
    "import pandas as pd\n",
    "import json\n"
   ]
  },
  {
   "cell_type": "code",
   "execution_count": 23,
   "id": "424a7e3e",
   "metadata": {},
   "outputs": [],
   "source": [
    "path = Service('C:\\chromedriver.exe')\n"
   ]
  },
  {
   "cell_type": "code",
   "execution_count": 24,
   "id": "8c09bd8e",
   "metadata": {},
   "outputs": [],
   "source": [
    "# set path for the driver\n",
    "browser = webdriver.Chrome(service = path)"
   ]
  },
  {
   "cell_type": "code",
   "execution_count": 25,
   "id": "b4044b07",
   "metadata": {},
   "outputs": [],
   "source": [
    "url = \"https://www.topuniversities.com/university-rankings/world-university-rankings/2023\""
   ]
  },
  {
   "cell_type": "code",
   "execution_count": 26,
   "id": "cf06aeca",
   "metadata": {},
   "outputs": [],
   "source": [
    "\n",
    "# open the page url ion chrome\n",
    "browser.get(url)"
   ]
  },
  {
   "cell_type": "code",
   "execution_count": 27,
   "id": "151c57b6",
   "metadata": {},
   "outputs": [
    {
     "data": {
      "text/plain": [
       "[<selenium.webdriver.remote.webelement.WebElement (session=\"6f96c4cf175ce6a6687ed0bf23b7911b\", element=\"5fc20245-7bf7-4230-96a7-b2cd065a7826\")>,\n",
       " <selenium.webdriver.remote.webelement.WebElement (session=\"6f96c4cf175ce6a6687ed0bf23b7911b\", element=\"f1f22554-1ac8-4f3b-9131-1f25370b05f6\")>,\n",
       " <selenium.webdriver.remote.webelement.WebElement (session=\"6f96c4cf175ce6a6687ed0bf23b7911b\", element=\"a38c196f-4948-4b12-be52-b1cc8c0269bd\")>,\n",
       " <selenium.webdriver.remote.webelement.WebElement (session=\"6f96c4cf175ce6a6687ed0bf23b7911b\", element=\"32ed7729-2d9c-4af0-9be3-a7ed4b21cc9b\")>,\n",
       " <selenium.webdriver.remote.webelement.WebElement (session=\"6f96c4cf175ce6a6687ed0bf23b7911b\", element=\"4168410b-cb40-4916-bc1d-01d268d90e8a\")>,\n",
       " <selenium.webdriver.remote.webelement.WebElement (session=\"6f96c4cf175ce6a6687ed0bf23b7911b\", element=\"787426d3-8690-4e2c-80bc-06d525f20ded\")>,\n",
       " <selenium.webdriver.remote.webelement.WebElement (session=\"6f96c4cf175ce6a6687ed0bf23b7911b\", element=\"4fa97d74-209d-4d5c-8f55-f0744f6bf84c\")>,\n",
       " <selenium.webdriver.remote.webelement.WebElement (session=\"6f96c4cf175ce6a6687ed0bf23b7911b\", element=\"8ea50509-5b13-4c74-9b01-e8d7acf73cbc\")>,\n",
       " <selenium.webdriver.remote.webelement.WebElement (session=\"6f96c4cf175ce6a6687ed0bf23b7911b\", element=\"de4fd222-1d2b-4b2d-8036-4cadd3694340\")>,\n",
       " <selenium.webdriver.remote.webelement.WebElement (session=\"6f96c4cf175ce6a6687ed0bf23b7911b\", element=\"ff4d9a2c-3fec-415f-9829-c4f32c1a87d5\")>,\n",
       " <selenium.webdriver.remote.webelement.WebElement (session=\"6f96c4cf175ce6a6687ed0bf23b7911b\", element=\"984ba53c-f1c1-427d-a6de-5437bec8a8dd\")>,\n",
       " <selenium.webdriver.remote.webelement.WebElement (session=\"6f96c4cf175ce6a6687ed0bf23b7911b\", element=\"3f33719c-cca9-43e0-980b-45c711215525\")>,\n",
       " <selenium.webdriver.remote.webelement.WebElement (session=\"6f96c4cf175ce6a6687ed0bf23b7911b\", element=\"fec53d1c-ff52-4888-8ed9-0706aaf1192a\")>,\n",
       " <selenium.webdriver.remote.webelement.WebElement (session=\"6f96c4cf175ce6a6687ed0bf23b7911b\", element=\"da9ff0f7-7107-4b9c-9fcf-3f5b3f109a45\")>,\n",
       " <selenium.webdriver.remote.webelement.WebElement (session=\"6f96c4cf175ce6a6687ed0bf23b7911b\", element=\"c4834389-b0e7-49f7-80fe-dbf5019250fe\")>,\n",
       " <selenium.webdriver.remote.webelement.WebElement (session=\"6f96c4cf175ce6a6687ed0bf23b7911b\", element=\"fcbcacbd-a2f2-48d2-be22-bbfc2cce1879\")>,\n",
       " <selenium.webdriver.remote.webelement.WebElement (session=\"6f96c4cf175ce6a6687ed0bf23b7911b\", element=\"55c492c7-1fbb-413f-85fa-ad3487adb011\")>,\n",
       " <selenium.webdriver.remote.webelement.WebElement (session=\"6f96c4cf175ce6a6687ed0bf23b7911b\", element=\"6cc7a86b-58d6-47e1-a01b-66d4e6f5504b\")>,\n",
       " <selenium.webdriver.remote.webelement.WebElement (session=\"6f96c4cf175ce6a6687ed0bf23b7911b\", element=\"e674fc7f-3837-4001-9977-8ec4d65531ef\")>,\n",
       " <selenium.webdriver.remote.webelement.WebElement (session=\"6f96c4cf175ce6a6687ed0bf23b7911b\", element=\"596b659c-bc96-46ae-8cf2-42615da16141\")>]"
      ]
     },
     "execution_count": 27,
     "metadata": {},
     "output_type": "execute_result"
    }
   ],
   "source": [
    "l1=browser.find_elements(\"xpath\",\"//div[@class='location ']\")\n",
    "l1\n"
   ]
  },
  {
   "cell_type": "code",
   "execution_count": 28,
   "id": "aedd373f",
   "metadata": {},
   "outputs": [
    {
     "data": {
      "text/plain": [
       "['Cambridge, United States',\n",
       " 'Cambridge, United Kingdom',\n",
       " 'Stanford, United States',\n",
       " 'Oxford, United Kingdom',\n",
       " 'Cambridge, United States',\n",
       " 'Pasadena, United States',\n",
       " 'London, United Kingdom',\n",
       " 'London, United Kingdom',\n",
       " 'Zürich, Switzerland',\n",
       " 'Chicago, United States']"
      ]
     },
     "execution_count": 28,
     "metadata": {},
     "output_type": "execute_result"
    }
   ],
   "source": [
    "loc=[]\n",
    "for data in l1:\n",
    "    #get the text data\n",
    "    temp=data.text\n",
    "    loc.append(temp)\n",
    "loc=loc[10:]\n",
    "loc\n"
   ]
  },
  {
   "cell_type": "code",
   "execution_count": 29,
   "id": "a048bde6",
   "metadata": {},
   "outputs": [
    {
     "data": {
      "text/plain": [
       "[<selenium.webdriver.remote.webelement.WebElement (session=\"6f96c4cf175ce6a6687ed0bf23b7911b\", element=\"1156c4a1-fe3b-41ab-ae5d-f52fb6bdd565\")>,\n",
       " <selenium.webdriver.remote.webelement.WebElement (session=\"6f96c4cf175ce6a6687ed0bf23b7911b\", element=\"b879ed2f-20a7-4431-8309-3d33e61b4388\")>,\n",
       " <selenium.webdriver.remote.webelement.WebElement (session=\"6f96c4cf175ce6a6687ed0bf23b7911b\", element=\"e37c5590-2ae5-47e9-a8ff-8aa6b980dc6f\")>,\n",
       " <selenium.webdriver.remote.webelement.WebElement (session=\"6f96c4cf175ce6a6687ed0bf23b7911b\", element=\"ba4db2b7-89b3-4cf3-a2cf-730421784ea6\")>,\n",
       " <selenium.webdriver.remote.webelement.WebElement (session=\"6f96c4cf175ce6a6687ed0bf23b7911b\", element=\"4c8a4081-bc9b-4ff4-83d1-dcef3df4a7a2\")>,\n",
       " <selenium.webdriver.remote.webelement.WebElement (session=\"6f96c4cf175ce6a6687ed0bf23b7911b\", element=\"e6246b33-4bb7-4413-93ad-fff62052a8db\")>,\n",
       " <selenium.webdriver.remote.webelement.WebElement (session=\"6f96c4cf175ce6a6687ed0bf23b7911b\", element=\"059468c4-dace-4285-a3b9-7736a5696159\")>,\n",
       " <selenium.webdriver.remote.webelement.WebElement (session=\"6f96c4cf175ce6a6687ed0bf23b7911b\", element=\"bf03284d-a341-44d4-af83-569bbbd0bbd4\")>,\n",
       " <selenium.webdriver.remote.webelement.WebElement (session=\"6f96c4cf175ce6a6687ed0bf23b7911b\", element=\"b0e6dd2b-a585-433c-9872-545819156496\")>,\n",
       " <selenium.webdriver.remote.webelement.WebElement (session=\"6f96c4cf175ce6a6687ed0bf23b7911b\", element=\"76c291dc-4af5-4b1d-835d-49e3dabf9ce0\")>]"
      ]
     },
     "execution_count": 29,
     "metadata": {},
     "output_type": "execute_result"
    }
   ],
   "source": [
    "l2=browser.find_elements(\"xpath\",\"//div[@class='_univ-rank ']\")\n",
    "l2\n",
    "\n"
   ]
  },
  {
   "cell_type": "code",
   "execution_count": 30,
   "id": "759e42a2",
   "metadata": {},
   "outputs": [
    {
     "data": {
      "text/plain": [
       "['1', '2', '3', '4', '5', '=6', '=6', '8', '9', '10']"
      ]
     },
     "execution_count": 30,
     "metadata": {},
     "output_type": "execute_result"
    }
   ],
   "source": [
    "RANK=[]\n",
    "for data in l2:\n",
    "    #get the text data\n",
    "    temp=data.text\n",
    "    RANK.append(temp)\n",
    "RANK\n"
   ]
  },
  {
   "cell_type": "code",
   "execution_count": 31,
   "id": "b71316e8",
   "metadata": {},
   "outputs": [
    {
     "data": {
      "text/plain": [
       "[<selenium.webdriver.remote.webelement.WebElement (session=\"6f96c4cf175ce6a6687ed0bf23b7911b\", element=\"84c5165b-fbb9-4ec1-8dc0-4108289e3d5e\")>,\n",
       " <selenium.webdriver.remote.webelement.WebElement (session=\"6f96c4cf175ce6a6687ed0bf23b7911b\", element=\"275ebb05-c68f-4a18-beca-cea18d9fd9dc\")>,\n",
       " <selenium.webdriver.remote.webelement.WebElement (session=\"6f96c4cf175ce6a6687ed0bf23b7911b\", element=\"a72fcc5f-8ccf-4ef8-884a-ed821635cc87\")>,\n",
       " <selenium.webdriver.remote.webelement.WebElement (session=\"6f96c4cf175ce6a6687ed0bf23b7911b\", element=\"b6c70893-2f05-4226-be2b-dbfb998fa89e\")>,\n",
       " <selenium.webdriver.remote.webelement.WebElement (session=\"6f96c4cf175ce6a6687ed0bf23b7911b\", element=\"f09bba6a-8c13-4dba-81da-dc3a21ab7ede\")>,\n",
       " <selenium.webdriver.remote.webelement.WebElement (session=\"6f96c4cf175ce6a6687ed0bf23b7911b\", element=\"177219f8-b981-41c5-8011-55c0abf41a10\")>,\n",
       " <selenium.webdriver.remote.webelement.WebElement (session=\"6f96c4cf175ce6a6687ed0bf23b7911b\", element=\"fda9ee64-4eef-4cd7-8e4d-533d63fe99df\")>,\n",
       " <selenium.webdriver.remote.webelement.WebElement (session=\"6f96c4cf175ce6a6687ed0bf23b7911b\", element=\"c7a0df8e-64e3-43fa-be1f-71721358a51a\")>,\n",
       " <selenium.webdriver.remote.webelement.WebElement (session=\"6f96c4cf175ce6a6687ed0bf23b7911b\", element=\"90aeef1a-9636-4d85-86b2-de26cf4e7c4d\")>]"
      ]
     },
     "execution_count": 31,
     "metadata": {},
     "output_type": "execute_result"
    }
   ],
   "source": [
    "# GET EACH COLLEGE SPECIFICATION HEADERS\n",
    "header=browser.find_elements(\"xpath\",\"//div[@class='_click-function_ind']\")\n",
    "header"
   ]
  },
  {
   "cell_type": "code",
   "execution_count": 32,
   "id": "b2f4cddb",
   "metadata": {},
   "outputs": [
    {
     "data": {
      "text/plain": [
       "['Overall Score',\n",
       " 'Academic Reputation',\n",
       " 'Employer Reputation',\n",
       " 'Citations per Faculty',\n",
       " 'Faculty Student Ratio',\n",
       " 'International Students Ratio',\n",
       " 'International Faculty Ratio',\n",
       " 'International Research Network\\nUnweighted',\n",
       " 'Employment Outcomes\\nUnweighted']"
      ]
     },
     "execution_count": 32,
     "metadata": {},
     "output_type": "execute_result"
    }
   ],
   "source": [
    "#PARSING DATA\n",
    "column_head=[]\n",
    "for data in header:\n",
    "    #get the text data\n",
    "    temp=data.text\n",
    "    column_head.append(temp)\n",
    "column_head"
   ]
  },
  {
   "cell_type": "code",
   "execution_count": 33,
   "id": "f784ac59",
   "metadata": {},
   "outputs": [
    {
     "data": {
      "text/plain": [
       "[<selenium.webdriver.remote.webelement.WebElement (session=\"6f96c4cf175ce6a6687ed0bf23b7911b\", element=\"62ea9bc3-d25e-49e4-8089-437198a32002\")>,\n",
       " <selenium.webdriver.remote.webelement.WebElement (session=\"6f96c4cf175ce6a6687ed0bf23b7911b\", element=\"ab7bed27-c168-496f-9928-4393ce8164fc\")>,\n",
       " <selenium.webdriver.remote.webelement.WebElement (session=\"6f96c4cf175ce6a6687ed0bf23b7911b\", element=\"0e8b5a7b-58be-4138-977a-e218fd1575c2\")>,\n",
       " <selenium.webdriver.remote.webelement.WebElement (session=\"6f96c4cf175ce6a6687ed0bf23b7911b\", element=\"a8f5fa18-4619-48da-8e93-afe16ac3e9fa\")>,\n",
       " <selenium.webdriver.remote.webelement.WebElement (session=\"6f96c4cf175ce6a6687ed0bf23b7911b\", element=\"4627e30a-cc1c-40fd-9de8-a8e21e63f91b\")>,\n",
       " <selenium.webdriver.remote.webelement.WebElement (session=\"6f96c4cf175ce6a6687ed0bf23b7911b\", element=\"55a940d5-322c-4784-b341-b9d21611a582\")>,\n",
       " <selenium.webdriver.remote.webelement.WebElement (session=\"6f96c4cf175ce6a6687ed0bf23b7911b\", element=\"7191ed60-9c14-4197-94ab-ddec412d95c4\")>,\n",
       " <selenium.webdriver.remote.webelement.WebElement (session=\"6f96c4cf175ce6a6687ed0bf23b7911b\", element=\"a25de031-0813-40a5-8c73-de3038cec176\")>,\n",
       " <selenium.webdriver.remote.webelement.WebElement (session=\"6f96c4cf175ce6a6687ed0bf23b7911b\", element=\"31179e20-fd18-4ca7-83b8-5d9522673a2d\")>,\n",
       " <selenium.webdriver.remote.webelement.WebElement (session=\"6f96c4cf175ce6a6687ed0bf23b7911b\", element=\"4ae4814f-e030-4001-95f3-495e316afa32\")>,\n",
       " <selenium.webdriver.remote.webelement.WebElement (session=\"6f96c4cf175ce6a6687ed0bf23b7911b\", element=\"21784a69-4ea5-4b08-8e56-00f54982dba4\")>,\n",
       " <selenium.webdriver.remote.webelement.WebElement (session=\"6f96c4cf175ce6a6687ed0bf23b7911b\", element=\"b5a40d3a-84e3-49f1-be07-2bc1aa1fd7a7\")>,\n",
       " <selenium.webdriver.remote.webelement.WebElement (session=\"6f96c4cf175ce6a6687ed0bf23b7911b\", element=\"69ca5e3b-105d-4efd-9491-9ff6f2708f74\")>,\n",
       " <selenium.webdriver.remote.webelement.WebElement (session=\"6f96c4cf175ce6a6687ed0bf23b7911b\", element=\"3343971b-3759-46b1-98bf-ef3f2b235b1f\")>,\n",
       " <selenium.webdriver.remote.webelement.WebElement (session=\"6f96c4cf175ce6a6687ed0bf23b7911b\", element=\"54e8baed-a2af-4865-9c06-fc85e46dd073\")>,\n",
       " <selenium.webdriver.remote.webelement.WebElement (session=\"6f96c4cf175ce6a6687ed0bf23b7911b\", element=\"e4be1ad0-ceb8-4128-a62d-e8440fa64e1d\")>,\n",
       " <selenium.webdriver.remote.webelement.WebElement (session=\"6f96c4cf175ce6a6687ed0bf23b7911b\", element=\"7af84f46-923d-4104-8af8-be5d12fa13a0\")>,\n",
       " <selenium.webdriver.remote.webelement.WebElement (session=\"6f96c4cf175ce6a6687ed0bf23b7911b\", element=\"858e6111-7f65-4a37-b4ff-8be5699079a3\")>,\n",
       " <selenium.webdriver.remote.webelement.WebElement (session=\"6f96c4cf175ce6a6687ed0bf23b7911b\", element=\"be8b9e7f-f7cd-4462-8d64-2306051bbd84\")>,\n",
       " <selenium.webdriver.remote.webelement.WebElement (session=\"6f96c4cf175ce6a6687ed0bf23b7911b\", element=\"738fab07-16ca-4e05-aa48-588720cbb16e\")>,\n",
       " <selenium.webdriver.remote.webelement.WebElement (session=\"6f96c4cf175ce6a6687ed0bf23b7911b\", element=\"d05f41f5-0994-4a0a-b599-335ed60342ad\")>,\n",
       " <selenium.webdriver.remote.webelement.WebElement (session=\"6f96c4cf175ce6a6687ed0bf23b7911b\", element=\"9f5bfb32-4927-461b-a2ba-22350d330afd\")>,\n",
       " <selenium.webdriver.remote.webelement.WebElement (session=\"6f96c4cf175ce6a6687ed0bf23b7911b\", element=\"1334b56d-8b82-4cc1-8d1e-2eca02ad7d63\")>,\n",
       " <selenium.webdriver.remote.webelement.WebElement (session=\"6f96c4cf175ce6a6687ed0bf23b7911b\", element=\"43c0f2ab-ccd5-46dc-bdc8-51dcd52c31af\")>,\n",
       " <selenium.webdriver.remote.webelement.WebElement (session=\"6f96c4cf175ce6a6687ed0bf23b7911b\", element=\"d6087f34-c3ab-4fec-8d94-d820c5efd670\")>,\n",
       " <selenium.webdriver.remote.webelement.WebElement (session=\"6f96c4cf175ce6a6687ed0bf23b7911b\", element=\"1ae08332-46d9-48ec-850a-062761135b33\")>,\n",
       " <selenium.webdriver.remote.webelement.WebElement (session=\"6f96c4cf175ce6a6687ed0bf23b7911b\", element=\"b369a77b-0dcc-4b3b-95ac-759d55db6e09\")>,\n",
       " <selenium.webdriver.remote.webelement.WebElement (session=\"6f96c4cf175ce6a6687ed0bf23b7911b\", element=\"5cb38591-20fa-4603-b844-d6d5ec6f85f0\")>,\n",
       " <selenium.webdriver.remote.webelement.WebElement (session=\"6f96c4cf175ce6a6687ed0bf23b7911b\", element=\"6c9547fd-6f42-40eb-a759-d9cadb4ae213\")>,\n",
       " <selenium.webdriver.remote.webelement.WebElement (session=\"6f96c4cf175ce6a6687ed0bf23b7911b\", element=\"ee58e0ca-1c88-4dd3-a9b0-5ff330cb25e3\")>,\n",
       " <selenium.webdriver.remote.webelement.WebElement (session=\"6f96c4cf175ce6a6687ed0bf23b7911b\", element=\"b6784b5d-275d-4b79-8870-1e9f01d870ae\")>,\n",
       " <selenium.webdriver.remote.webelement.WebElement (session=\"6f96c4cf175ce6a6687ed0bf23b7911b\", element=\"b2b0962f-1284-4265-ac0a-f7f9942b8323\")>,\n",
       " <selenium.webdriver.remote.webelement.WebElement (session=\"6f96c4cf175ce6a6687ed0bf23b7911b\", element=\"2b9f3c38-5bf9-4048-8511-952a07b1abf6\")>,\n",
       " <selenium.webdriver.remote.webelement.WebElement (session=\"6f96c4cf175ce6a6687ed0bf23b7911b\", element=\"142faf29-9e5e-4dc8-9fc7-5c7c9ed892fd\")>,\n",
       " <selenium.webdriver.remote.webelement.WebElement (session=\"6f96c4cf175ce6a6687ed0bf23b7911b\", element=\"4b6a5890-e9ca-4c0d-96e7-fdf5ed277b38\")>,\n",
       " <selenium.webdriver.remote.webelement.WebElement (session=\"6f96c4cf175ce6a6687ed0bf23b7911b\", element=\"1b8308f8-bd79-4188-9a1c-000993d29a5f\")>,\n",
       " <selenium.webdriver.remote.webelement.WebElement (session=\"6f96c4cf175ce6a6687ed0bf23b7911b\", element=\"e7148a2e-b4c8-4c49-ab3d-f5d64975da2d\")>,\n",
       " <selenium.webdriver.remote.webelement.WebElement (session=\"6f96c4cf175ce6a6687ed0bf23b7911b\", element=\"5087f461-f3d8-4db9-a8d4-48990a5440ee\")>,\n",
       " <selenium.webdriver.remote.webelement.WebElement (session=\"6f96c4cf175ce6a6687ed0bf23b7911b\", element=\"305595d0-5c43-427e-81b3-4cfa43167e56\")>,\n",
       " <selenium.webdriver.remote.webelement.WebElement (session=\"6f96c4cf175ce6a6687ed0bf23b7911b\", element=\"29380a88-696f-4c73-a719-ad011446bfdf\")>,\n",
       " <selenium.webdriver.remote.webelement.WebElement (session=\"6f96c4cf175ce6a6687ed0bf23b7911b\", element=\"19f722dc-aa72-47b5-a3ba-8748227896fb\")>,\n",
       " <selenium.webdriver.remote.webelement.WebElement (session=\"6f96c4cf175ce6a6687ed0bf23b7911b\", element=\"0dea8d3d-8eff-41d5-9add-0f2fcf2411c8\")>,\n",
       " <selenium.webdriver.remote.webelement.WebElement (session=\"6f96c4cf175ce6a6687ed0bf23b7911b\", element=\"b6c876a5-292b-4453-9bba-000d858a3028\")>,\n",
       " <selenium.webdriver.remote.webelement.WebElement (session=\"6f96c4cf175ce6a6687ed0bf23b7911b\", element=\"e5bb72e1-b8e8-4212-a729-c3bd843da361\")>,\n",
       " <selenium.webdriver.remote.webelement.WebElement (session=\"6f96c4cf175ce6a6687ed0bf23b7911b\", element=\"d94e4ee0-fae1-4fa3-b81d-bd1365d9a5cf\")>,\n",
       " <selenium.webdriver.remote.webelement.WebElement (session=\"6f96c4cf175ce6a6687ed0bf23b7911b\", element=\"3444d89c-61c2-4096-8820-f9a11fa099ae\")>,\n",
       " <selenium.webdriver.remote.webelement.WebElement (session=\"6f96c4cf175ce6a6687ed0bf23b7911b\", element=\"110de633-3d4a-4cc3-8dcb-46f2996c0c52\")>,\n",
       " <selenium.webdriver.remote.webelement.WebElement (session=\"6f96c4cf175ce6a6687ed0bf23b7911b\", element=\"bdb25eae-0239-402c-a445-50d3a743563b\")>,\n",
       " <selenium.webdriver.remote.webelement.WebElement (session=\"6f96c4cf175ce6a6687ed0bf23b7911b\", element=\"77f1c8a2-4f9b-43dd-b308-8a0bdff8b43c\")>,\n",
       " <selenium.webdriver.remote.webelement.WebElement (session=\"6f96c4cf175ce6a6687ed0bf23b7911b\", element=\"bf5329cd-f509-46be-ad3a-43888d6ac99e\")>,\n",
       " <selenium.webdriver.remote.webelement.WebElement (session=\"6f96c4cf175ce6a6687ed0bf23b7911b\", element=\"0d20c7bc-59a4-425f-8d0c-6fca389ca137\")>,\n",
       " <selenium.webdriver.remote.webelement.WebElement (session=\"6f96c4cf175ce6a6687ed0bf23b7911b\", element=\"e4e2a18e-869d-4d88-881c-dd5542b6aecb\")>,\n",
       " <selenium.webdriver.remote.webelement.WebElement (session=\"6f96c4cf175ce6a6687ed0bf23b7911b\", element=\"7f3650b0-f6f5-45ed-99b4-02bbd0ce7f13\")>,\n",
       " <selenium.webdriver.remote.webelement.WebElement (session=\"6f96c4cf175ce6a6687ed0bf23b7911b\", element=\"ff27c949-a0e3-4af2-aed3-631d3a8ca28b\")>,\n",
       " <selenium.webdriver.remote.webelement.WebElement (session=\"6f96c4cf175ce6a6687ed0bf23b7911b\", element=\"6c5dedaf-224b-4ad3-8440-c3d002d4b26b\")>,\n",
       " <selenium.webdriver.remote.webelement.WebElement (session=\"6f96c4cf175ce6a6687ed0bf23b7911b\", element=\"22372ffe-d65d-425b-9816-bb7aa4e81d58\")>,\n",
       " <selenium.webdriver.remote.webelement.WebElement (session=\"6f96c4cf175ce6a6687ed0bf23b7911b\", element=\"616c859e-46c7-4172-9e73-dd92f13793ae\")>,\n",
       " <selenium.webdriver.remote.webelement.WebElement (session=\"6f96c4cf175ce6a6687ed0bf23b7911b\", element=\"0ded7956-8e2f-4c76-9ac4-50847108d18c\")>,\n",
       " <selenium.webdriver.remote.webelement.WebElement (session=\"6f96c4cf175ce6a6687ed0bf23b7911b\", element=\"e1c470c9-10bf-4a34-9372-96e9c82c7169\")>,\n",
       " <selenium.webdriver.remote.webelement.WebElement (session=\"6f96c4cf175ce6a6687ed0bf23b7911b\", element=\"53092db9-289c-4949-8c3a-b484fc21373e\")>,\n",
       " <selenium.webdriver.remote.webelement.WebElement (session=\"6f96c4cf175ce6a6687ed0bf23b7911b\", element=\"d1d5c0b0-cc95-4931-a9b9-a867fe493155\")>,\n",
       " <selenium.webdriver.remote.webelement.WebElement (session=\"6f96c4cf175ce6a6687ed0bf23b7911b\", element=\"cb6c608c-f25c-494e-8618-349ab6e93700\")>,\n",
       " <selenium.webdriver.remote.webelement.WebElement (session=\"6f96c4cf175ce6a6687ed0bf23b7911b\", element=\"65ef85c1-ef51-4e9c-825f-7eafffce1086\")>,\n",
       " <selenium.webdriver.remote.webelement.WebElement (session=\"6f96c4cf175ce6a6687ed0bf23b7911b\", element=\"273c8113-87e1-4b73-8dec-d068430300e4\")>,\n",
       " <selenium.webdriver.remote.webelement.WebElement (session=\"6f96c4cf175ce6a6687ed0bf23b7911b\", element=\"322c20b4-5c75-4bd7-a37f-e39101d25907\")>,\n",
       " <selenium.webdriver.remote.webelement.WebElement (session=\"6f96c4cf175ce6a6687ed0bf23b7911b\", element=\"3a449b18-a670-40f8-91da-2e0545950acb\")>,\n",
       " <selenium.webdriver.remote.webelement.WebElement (session=\"6f96c4cf175ce6a6687ed0bf23b7911b\", element=\"d3e5a1a8-38cf-4e97-bc5a-d7dbc81a5a3b\")>,\n",
       " <selenium.webdriver.remote.webelement.WebElement (session=\"6f96c4cf175ce6a6687ed0bf23b7911b\", element=\"a7277072-ab16-421c-b639-50343361b639\")>,\n",
       " <selenium.webdriver.remote.webelement.WebElement (session=\"6f96c4cf175ce6a6687ed0bf23b7911b\", element=\"b1c82171-c89c-49db-bc16-0cb0d2efb170\")>,\n",
       " <selenium.webdriver.remote.webelement.WebElement (session=\"6f96c4cf175ce6a6687ed0bf23b7911b\", element=\"f17434c9-d6da-43d7-a3a0-b41ed3946c53\")>,\n",
       " <selenium.webdriver.remote.webelement.WebElement (session=\"6f96c4cf175ce6a6687ed0bf23b7911b\", element=\"b614cf7a-7396-4891-b812-c3b2f4cca475\")>,\n",
       " <selenium.webdriver.remote.webelement.WebElement (session=\"6f96c4cf175ce6a6687ed0bf23b7911b\", element=\"37b258cb-45bc-4dc4-8ce5-d9c5f2a15a1c\")>,\n",
       " <selenium.webdriver.remote.webelement.WebElement (session=\"6f96c4cf175ce6a6687ed0bf23b7911b\", element=\"9e2029ac-f0cf-46c6-a95d-35f578f8ce99\")>,\n",
       " <selenium.webdriver.remote.webelement.WebElement (session=\"6f96c4cf175ce6a6687ed0bf23b7911b\", element=\"9ca8f5c8-67e0-47e1-8013-c90fd8c8a307\")>,\n",
       " <selenium.webdriver.remote.webelement.WebElement (session=\"6f96c4cf175ce6a6687ed0bf23b7911b\", element=\"692610de-e2e1-461f-bc43-49026e07c403\")>,\n",
       " <selenium.webdriver.remote.webelement.WebElement (session=\"6f96c4cf175ce6a6687ed0bf23b7911b\", element=\"5e1679b5-d346-4bd4-95f9-f80d828d3f2d\")>,\n",
       " <selenium.webdriver.remote.webelement.WebElement (session=\"6f96c4cf175ce6a6687ed0bf23b7911b\", element=\"0e00997c-487c-4aff-ae3e-19ae006594d1\")>,\n",
       " <selenium.webdriver.remote.webelement.WebElement (session=\"6f96c4cf175ce6a6687ed0bf23b7911b\", element=\"5a742af4-3e3c-4a61-8a14-1f12030e1b31\")>,\n",
       " <selenium.webdriver.remote.webelement.WebElement (session=\"6f96c4cf175ce6a6687ed0bf23b7911b\", element=\"6673db72-3591-4223-bed1-d9a313ab1d30\")>,\n",
       " <selenium.webdriver.remote.webelement.WebElement (session=\"6f96c4cf175ce6a6687ed0bf23b7911b\", element=\"2b89f4f4-fbd3-4427-8713-869ab24427fe\")>,\n",
       " <selenium.webdriver.remote.webelement.WebElement (session=\"6f96c4cf175ce6a6687ed0bf23b7911b\", element=\"b9bdb349-6097-4936-969a-be3e98cfc303\")>,\n",
       " <selenium.webdriver.remote.webelement.WebElement (session=\"6f96c4cf175ce6a6687ed0bf23b7911b\", element=\"7954a5fb-9472-4aac-a9a2-fadb63653b3a\")>,\n",
       " <selenium.webdriver.remote.webelement.WebElement (session=\"6f96c4cf175ce6a6687ed0bf23b7911b\", element=\"090e93a6-9f3a-40e2-a576-43948f04f6d9\")>,\n",
       " <selenium.webdriver.remote.webelement.WebElement (session=\"6f96c4cf175ce6a6687ed0bf23b7911b\", element=\"6fd477f1-351e-4f3e-afb7-50cd57477653\")>,\n",
       " <selenium.webdriver.remote.webelement.WebElement (session=\"6f96c4cf175ce6a6687ed0bf23b7911b\", element=\"6a6a3c34-055f-4ba2-9b02-039a72f71a78\")>,\n",
       " <selenium.webdriver.remote.webelement.WebElement (session=\"6f96c4cf175ce6a6687ed0bf23b7911b\", element=\"98653746-527d-45c6-a943-dcb7ebf2a56d\")>,\n",
       " <selenium.webdriver.remote.webelement.WebElement (session=\"6f96c4cf175ce6a6687ed0bf23b7911b\", element=\"04fcdd67-c2d1-4268-91bf-bb157d6f3c82\")>,\n",
       " <selenium.webdriver.remote.webelement.WebElement (session=\"6f96c4cf175ce6a6687ed0bf23b7911b\", element=\"3d203aeb-88e4-442b-ae84-6ead752001f8\")>,\n",
       " <selenium.webdriver.remote.webelement.WebElement (session=\"6f96c4cf175ce6a6687ed0bf23b7911b\", element=\"dd10e550-1dcf-42ed-bbd6-10941a4b0646\")>,\n",
       " <selenium.webdriver.remote.webelement.WebElement (session=\"6f96c4cf175ce6a6687ed0bf23b7911b\", element=\"a5b8f326-b603-4dd2-83f8-ed575a5e1b1b\")>,\n",
       " <selenium.webdriver.remote.webelement.WebElement (session=\"6f96c4cf175ce6a6687ed0bf23b7911b\", element=\"0ea5f71f-4c9d-4d34-bc4d-2a2c7c3ef436\")>,\n",
       " <selenium.webdriver.remote.webelement.WebElement (session=\"6f96c4cf175ce6a6687ed0bf23b7911b\", element=\"a9c90e54-ff8d-434b-987d-0a4569503016\")>,\n",
       " <selenium.webdriver.remote.webelement.WebElement (session=\"6f96c4cf175ce6a6687ed0bf23b7911b\", element=\"b02d3890-92e7-4890-a0b3-81f35c847b86\")>,\n",
       " <selenium.webdriver.remote.webelement.WebElement (session=\"6f96c4cf175ce6a6687ed0bf23b7911b\", element=\"e7250dd7-1458-46ec-957a-f897387951f8\")>,\n",
       " <selenium.webdriver.remote.webelement.WebElement (session=\"6f96c4cf175ce6a6687ed0bf23b7911b\", element=\"e3e502e2-8a4b-4cb3-a906-e803bb4988eb\")>,\n",
       " <selenium.webdriver.remote.webelement.WebElement (session=\"6f96c4cf175ce6a6687ed0bf23b7911b\", element=\"5160fce6-946c-45d6-af63-902204fdbd42\")>,\n",
       " <selenium.webdriver.remote.webelement.WebElement (session=\"6f96c4cf175ce6a6687ed0bf23b7911b\", element=\"ad25b925-98cc-412b-98ea-8f61a35e0135\")>,\n",
       " <selenium.webdriver.remote.webelement.WebElement (session=\"6f96c4cf175ce6a6687ed0bf23b7911b\", element=\"4f11a9ff-9798-4e95-b521-6226554e11d5\")>,\n",
       " <selenium.webdriver.remote.webelement.WebElement (session=\"6f96c4cf175ce6a6687ed0bf23b7911b\", element=\"7250435f-6174-4db4-bd54-23a608c73a92\")>,\n",
       " <selenium.webdriver.remote.webelement.WebElement (session=\"6f96c4cf175ce6a6687ed0bf23b7911b\", element=\"15fa972a-cd72-4f57-a2f1-d187f858f6fd\")>]"
      ]
     },
     "execution_count": 33,
     "metadata": {},
     "output_type": "execute_result"
    }
   ],
   "source": [
    "header2=browser.find_elements(\"xpath\",\"//div[@class='td-wrap-in']\")\n",
    "header2"
   ]
  },
  {
   "cell_type": "code",
   "execution_count": 34,
   "id": "b72fd949",
   "metadata": {},
   "outputs": [
    {
     "data": {
      "text/plain": [
       "['93.6', '98.6', '91.3', '99.2', '74.2', '98', '100', '96.2', '91.1']"
      ]
     },
     "execution_count": 34,
     "metadata": {},
     "output_type": "execute_result"
    }
   ],
   "source": [
    "#PARSING DATA\n",
    "value_head=[]\n",
    "for data in header2:\n",
    "    #get the text data\n",
    "    temp=data.text\n",
    "    value_head.append(temp)\n",
    "value=value_head[81:90]\n",
    "value\n"
   ]
  },
  {
   "cell_type": "code",
   "execution_count": 35,
   "id": "a556f091",
   "metadata": {},
   "outputs": [
    {
     "data": {
      "text/plain": [
       "{'Name': 'ETH Zurich',\n",
       " 'Location': 'Zürich, Switzerland',\n",
       " 'Rank': '9',\n",
       " 'Overall Score': '93.6',\n",
       " 'Academic Reputation': '98.6',\n",
       " 'Employer Reputation': '91.3',\n",
       " 'Citations per Faculty': '99.2',\n",
       " 'Faculty Student Ratio': '74.2',\n",
       " 'International Students Ratio': '98',\n",
       " 'International Faculty Ratio': '100',\n",
       " 'International Research Network\\nUnweighted': '96.2',\n",
       " 'Employment Outcomes\\nUnweighted': '91.1'}"
      ]
     },
     "execution_count": 35,
     "metadata": {},
     "output_type": "execute_result"
    }
   ],
   "source": [
    "d={}\n",
    "d['Name']=value_head[80]\n",
    "d['Location']=loc[8]\n",
    "d['Rank']=RANK[8]\n",
    "for i in range(len(column_head)):\n",
    "    d[column_head[i]]=value[i]\n",
    "d"
   ]
  },
  {
   "cell_type": "code",
   "execution_count": 36,
   "id": "cbd864e9",
   "metadata": {},
   "outputs": [
    {
     "data": {
      "text/plain": [
       "'{\"Name\": \"ETH Zurich\", \"Location\": \"Z\\\\u00fcrich, Switzerland\", \"Rank\": \"9\", \"Overall Score\": \"93.6\", \"Academic Reputation\": \"98.6\", \"Employer Reputation\": \"91.3\", \"Citations per Faculty\": \"99.2\", \"Faculty Student Ratio\": \"74.2\", \"International Students Ratio\": \"98\", \"International Faculty Ratio\": \"100\", \"International Research Network\\\\nUnweighted\": \"96.2\", \"Employment Outcomes\\\\nUnweighted\": \"91.1\"}'"
      ]
     },
     "execution_count": 36,
     "metadata": {},
     "output_type": "execute_result"
    }
   ],
   "source": [
    "\n",
    "s1=json.dumps(d)\n",
    "s1\n"
   ]
  },
  {
   "cell_type": "code",
   "execution_count": 37,
   "id": "7d9723c4",
   "metadata": {},
   "outputs": [],
   "source": [
    "\n",
    "with open('ETH Zurich.json','w') as f:\n",
    "    json.dump(d,f)\n"
   ]
  },
  {
   "cell_type": "code",
   "execution_count": null,
   "id": "39c530b8",
   "metadata": {},
   "outputs": [],
   "source": []
  },
  {
   "cell_type": "code",
   "execution_count": null,
   "id": "6e306b83",
   "metadata": {},
   "outputs": [],
   "source": []
  }
 ],
 "metadata": {
  "kernelspec": {
   "display_name": "Python 3 (ipykernel)",
   "language": "python",
   "name": "python3"
  },
  "language_info": {
   "codemirror_mode": {
    "name": "ipython",
    "version": 3
   },
   "file_extension": ".py",
   "mimetype": "text/x-python",
   "name": "python",
   "nbconvert_exporter": "python",
   "pygments_lexer": "ipython3",
   "version": "3.9.12"
  }
 },
 "nbformat": 4,
 "nbformat_minor": 5
}
