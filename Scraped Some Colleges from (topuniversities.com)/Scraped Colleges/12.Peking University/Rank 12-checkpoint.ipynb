{
 "cells": [
  {
   "cell_type": "code",
   "execution_count": 1,
   "id": "7c5e0119",
   "metadata": {},
   "outputs": [],
   "source": [
    "from selenium import webdriver\n",
    "from selenium.webdriver.chrome.service import Service\n",
    "import pandas as pd\n",
    "import json"
   ]
  },
  {
   "cell_type": "code",
   "execution_count": 2,
   "id": "584156b5",
   "metadata": {},
   "outputs": [],
   "source": [
    "path = Service('C:\\chromedriver.exe')"
   ]
  },
  {
   "cell_type": "code",
   "execution_count": 3,
   "id": "853015c2",
   "metadata": {},
   "outputs": [],
   "source": [
    "# set path for the driver\n",
    "browser = webdriver.Chrome(service = path)"
   ]
  },
  {
   "cell_type": "code",
   "execution_count": 4,
   "id": "9253d57a",
   "metadata": {},
   "outputs": [],
   "source": [
    "url = \"https://www.topuniversities.com/university-rankings/world-university-rankings/2023\""
   ]
  },
  {
   "cell_type": "code",
   "execution_count": 5,
   "id": "e4a247f0",
   "metadata": {},
   "outputs": [],
   "source": [
    "# open the page url ion chrome\n",
    "browser.get(url)"
   ]
  },
  {
   "cell_type": "code",
   "execution_count": 7,
   "id": "857dcbd0",
   "metadata": {},
   "outputs": [
    {
     "data": {
      "text/plain": [
       "[<selenium.webdriver.remote.webelement.WebElement (session=\"3c669003025b0f3f6e9e13df6728f730\", element=\"f896321d-6e6b-4218-9d02-dc4f7092980a\")>,\n",
       " <selenium.webdriver.remote.webelement.WebElement (session=\"3c669003025b0f3f6e9e13df6728f730\", element=\"ef8f786b-f1ee-4621-9f81-74642fa46bc6\")>,\n",
       " <selenium.webdriver.remote.webelement.WebElement (session=\"3c669003025b0f3f6e9e13df6728f730\", element=\"d1529dff-9af2-47d0-b77f-985685f0c715\")>,\n",
       " <selenium.webdriver.remote.webelement.WebElement (session=\"3c669003025b0f3f6e9e13df6728f730\", element=\"aee84aab-45f3-43de-9617-909c6bdb0cc1\")>,\n",
       " <selenium.webdriver.remote.webelement.WebElement (session=\"3c669003025b0f3f6e9e13df6728f730\", element=\"b08c80c4-e561-4b1b-b2a3-489217233342\")>,\n",
       " <selenium.webdriver.remote.webelement.WebElement (session=\"3c669003025b0f3f6e9e13df6728f730\", element=\"062ec5fd-6658-440a-aa58-83c46de37ca5\")>,\n",
       " <selenium.webdriver.remote.webelement.WebElement (session=\"3c669003025b0f3f6e9e13df6728f730\", element=\"6bc71d9b-7628-41ba-8ca7-3bdf2398ad85\")>,\n",
       " <selenium.webdriver.remote.webelement.WebElement (session=\"3c669003025b0f3f6e9e13df6728f730\", element=\"92fff88f-a032-43e0-a25a-cc0ddda88b72\")>,\n",
       " <selenium.webdriver.remote.webelement.WebElement (session=\"3c669003025b0f3f6e9e13df6728f730\", element=\"92dd019a-8a5f-4f28-83a9-50f6774f4ad3\")>]"
      ]
     },
     "execution_count": 7,
     "metadata": {},
     "output_type": "execute_result"
    }
   ],
   "source": [
    "# GET EACH COLLEGE SPECIFICATION HEADERS\n",
    "header=browser.find_elements(\"xpath\",\"//div[@class='_click-function_ind']\")\n",
    "header"
   ]
  },
  {
   "cell_type": "code",
   "execution_count": 8,
   "id": "5d87847a",
   "metadata": {},
   "outputs": [
    {
     "data": {
      "text/plain": [
       "['Overall Score',\n",
       " 'Academic Reputation',\n",
       " 'Employer Reputation',\n",
       " 'Citations per Faculty',\n",
       " 'Faculty Student Ratio',\n",
       " 'International Students Ratio',\n",
       " 'International Faculty Ratio',\n",
       " 'International Research Network\\nUnweighted',\n",
       " 'Employment Outcomes\\nUnweighted']"
      ]
     },
     "execution_count": 8,
     "metadata": {},
     "output_type": "execute_result"
    }
   ],
   "source": [
    "#PARSING DATA\n",
    "column_head=[]\n",
    "for data in header:\n",
    "    #get the text data\n",
    "    temp=data.text\n",
    "    column_head.append(temp)\n",
    "column_head"
   ]
  },
  {
   "cell_type": "code",
   "execution_count": 9,
   "id": "61d1c618",
   "metadata": {},
   "outputs": [
    {
     "data": {
      "text/plain": [
       "[<selenium.webdriver.remote.webelement.WebElement (session=\"3c669003025b0f3f6e9e13df6728f730\", element=\"2a0f82d0-499e-4ee6-9019-d2904b524d68\")>,\n",
       " <selenium.webdriver.remote.webelement.WebElement (session=\"3c669003025b0f3f6e9e13df6728f730\", element=\"fe3cd7de-7d78-4087-9200-9f8f8ce8c5ca\")>,\n",
       " <selenium.webdriver.remote.webelement.WebElement (session=\"3c669003025b0f3f6e9e13df6728f730\", element=\"8637f641-4b3c-498f-bcb8-f3bb26cbdcb9\")>,\n",
       " <selenium.webdriver.remote.webelement.WebElement (session=\"3c669003025b0f3f6e9e13df6728f730\", element=\"c473bb83-b37d-4727-bd91-9ac63ecafd3d\")>,\n",
       " <selenium.webdriver.remote.webelement.WebElement (session=\"3c669003025b0f3f6e9e13df6728f730\", element=\"7e5b2024-b805-4377-9bf1-d6338100971c\")>,\n",
       " <selenium.webdriver.remote.webelement.WebElement (session=\"3c669003025b0f3f6e9e13df6728f730\", element=\"2c648818-e029-4cd1-a6f9-3e29bc778605\")>,\n",
       " <selenium.webdriver.remote.webelement.WebElement (session=\"3c669003025b0f3f6e9e13df6728f730\", element=\"a61fd356-aec6-4650-980c-7b28c6fdc475\")>,\n",
       " <selenium.webdriver.remote.webelement.WebElement (session=\"3c669003025b0f3f6e9e13df6728f730\", element=\"b4e6a5a0-6be9-4dba-89f1-967877c68061\")>,\n",
       " <selenium.webdriver.remote.webelement.WebElement (session=\"3c669003025b0f3f6e9e13df6728f730\", element=\"0da9c0fd-a8ad-4619-ae64-13bfb6ccbe5a\")>,\n",
       " <selenium.webdriver.remote.webelement.WebElement (session=\"3c669003025b0f3f6e9e13df6728f730\", element=\"72f748c5-1da6-4219-9ce7-94e170a5cba5\")>,\n",
       " <selenium.webdriver.remote.webelement.WebElement (session=\"3c669003025b0f3f6e9e13df6728f730\", element=\"d2096ebb-3b2f-4f77-bbff-5b860b70a4b4\")>,\n",
       " <selenium.webdriver.remote.webelement.WebElement (session=\"3c669003025b0f3f6e9e13df6728f730\", element=\"55397c25-6e05-470b-9e66-277c6d78aaae\")>,\n",
       " <selenium.webdriver.remote.webelement.WebElement (session=\"3c669003025b0f3f6e9e13df6728f730\", element=\"d7fc36f8-022f-43f2-a54d-7f19afd2af0a\")>,\n",
       " <selenium.webdriver.remote.webelement.WebElement (session=\"3c669003025b0f3f6e9e13df6728f730\", element=\"885b437e-3f8f-47ea-b145-f091fe14fb51\")>,\n",
       " <selenium.webdriver.remote.webelement.WebElement (session=\"3c669003025b0f3f6e9e13df6728f730\", element=\"5a7845e8-49be-4a93-a7bc-317acce01e88\")>,\n",
       " <selenium.webdriver.remote.webelement.WebElement (session=\"3c669003025b0f3f6e9e13df6728f730\", element=\"230e3f4a-6d67-43ff-bd7d-31e7f9698b95\")>,\n",
       " <selenium.webdriver.remote.webelement.WebElement (session=\"3c669003025b0f3f6e9e13df6728f730\", element=\"54c6cd06-2e59-4acd-be64-43a270e7172a\")>,\n",
       " <selenium.webdriver.remote.webelement.WebElement (session=\"3c669003025b0f3f6e9e13df6728f730\", element=\"5d90ef23-54bc-4dce-af3e-63995a1fb512\")>,\n",
       " <selenium.webdriver.remote.webelement.WebElement (session=\"3c669003025b0f3f6e9e13df6728f730\", element=\"78537213-3ad9-4627-aa79-994df628a5b5\")>,\n",
       " <selenium.webdriver.remote.webelement.WebElement (session=\"3c669003025b0f3f6e9e13df6728f730\", element=\"7fdb48e2-7f2a-4d62-a1b5-c9a7e1e503d9\")>,\n",
       " <selenium.webdriver.remote.webelement.WebElement (session=\"3c669003025b0f3f6e9e13df6728f730\", element=\"b846b07f-b99e-4a76-b6e3-8af6c88e1d70\")>,\n",
       " <selenium.webdriver.remote.webelement.WebElement (session=\"3c669003025b0f3f6e9e13df6728f730\", element=\"29057933-c9e1-41d1-9f02-02e68b58afd5\")>,\n",
       " <selenium.webdriver.remote.webelement.WebElement (session=\"3c669003025b0f3f6e9e13df6728f730\", element=\"8e10eb9d-6ae8-4999-b720-29f741497f1d\")>,\n",
       " <selenium.webdriver.remote.webelement.WebElement (session=\"3c669003025b0f3f6e9e13df6728f730\", element=\"66b0fca7-cd54-434a-bfc0-4230f907b1a4\")>,\n",
       " <selenium.webdriver.remote.webelement.WebElement (session=\"3c669003025b0f3f6e9e13df6728f730\", element=\"f4154841-01d5-4c58-aa95-061fa37b281e\")>,\n",
       " <selenium.webdriver.remote.webelement.WebElement (session=\"3c669003025b0f3f6e9e13df6728f730\", element=\"d27cbc9b-fbd1-4e52-8513-35d67666565a\")>,\n",
       " <selenium.webdriver.remote.webelement.WebElement (session=\"3c669003025b0f3f6e9e13df6728f730\", element=\"fbd99420-b35b-49a7-9975-edc83c194f2f\")>,\n",
       " <selenium.webdriver.remote.webelement.WebElement (session=\"3c669003025b0f3f6e9e13df6728f730\", element=\"2b83bfe9-bd19-430d-b65f-8ee415d46dab\")>,\n",
       " <selenium.webdriver.remote.webelement.WebElement (session=\"3c669003025b0f3f6e9e13df6728f730\", element=\"a43fb6a9-1ceb-4223-aeff-dbe64beb7d0a\")>,\n",
       " <selenium.webdriver.remote.webelement.WebElement (session=\"3c669003025b0f3f6e9e13df6728f730\", element=\"fd0aed58-7a48-4126-bd2f-217695d4a3b9\")>,\n",
       " <selenium.webdriver.remote.webelement.WebElement (session=\"3c669003025b0f3f6e9e13df6728f730\", element=\"1ae72085-0ff2-43aa-bc38-e72a83351519\")>,\n",
       " <selenium.webdriver.remote.webelement.WebElement (session=\"3c669003025b0f3f6e9e13df6728f730\", element=\"98b2ab1b-b8e5-4914-9c66-858fe99d7932\")>,\n",
       " <selenium.webdriver.remote.webelement.WebElement (session=\"3c669003025b0f3f6e9e13df6728f730\", element=\"bc69ac7e-4e15-4d3d-b225-e4c90e1a051c\")>,\n",
       " <selenium.webdriver.remote.webelement.WebElement (session=\"3c669003025b0f3f6e9e13df6728f730\", element=\"0c7de413-a66a-4f2e-b48f-6d93bba35e4e\")>,\n",
       " <selenium.webdriver.remote.webelement.WebElement (session=\"3c669003025b0f3f6e9e13df6728f730\", element=\"5f8a04a4-9e7e-4470-85bd-9f35b9d3686c\")>,\n",
       " <selenium.webdriver.remote.webelement.WebElement (session=\"3c669003025b0f3f6e9e13df6728f730\", element=\"50d3e302-3ccd-4ca2-a6bf-2c0c1b3a25f3\")>,\n",
       " <selenium.webdriver.remote.webelement.WebElement (session=\"3c669003025b0f3f6e9e13df6728f730\", element=\"81372f92-439c-45e8-b190-6891eb65d245\")>,\n",
       " <selenium.webdriver.remote.webelement.WebElement (session=\"3c669003025b0f3f6e9e13df6728f730\", element=\"5cee5ecb-b721-45f3-a3dc-9044a49505e3\")>,\n",
       " <selenium.webdriver.remote.webelement.WebElement (session=\"3c669003025b0f3f6e9e13df6728f730\", element=\"099cccb4-b552-4ea9-a3b4-77a57f369216\")>,\n",
       " <selenium.webdriver.remote.webelement.WebElement (session=\"3c669003025b0f3f6e9e13df6728f730\", element=\"d7bdedac-25ca-4881-b4a1-165a17745f54\")>,\n",
       " <selenium.webdriver.remote.webelement.WebElement (session=\"3c669003025b0f3f6e9e13df6728f730\", element=\"7e40d46e-a099-4d5a-b9c3-5616b5c14692\")>,\n",
       " <selenium.webdriver.remote.webelement.WebElement (session=\"3c669003025b0f3f6e9e13df6728f730\", element=\"e258b506-7c78-4726-89ba-876ef494f513\")>,\n",
       " <selenium.webdriver.remote.webelement.WebElement (session=\"3c669003025b0f3f6e9e13df6728f730\", element=\"0cc51f3e-6fa6-495d-b64c-f4367d6fe93c\")>,\n",
       " <selenium.webdriver.remote.webelement.WebElement (session=\"3c669003025b0f3f6e9e13df6728f730\", element=\"1433aab7-55eb-457b-a4f6-8a31a67cf3aa\")>,\n",
       " <selenium.webdriver.remote.webelement.WebElement (session=\"3c669003025b0f3f6e9e13df6728f730\", element=\"c70fbaf3-a945-40d3-828f-b63459a6ea95\")>,\n",
       " <selenium.webdriver.remote.webelement.WebElement (session=\"3c669003025b0f3f6e9e13df6728f730\", element=\"226815a2-b5d8-4d3a-b11f-2f4dcdcf2fc4\")>,\n",
       " <selenium.webdriver.remote.webelement.WebElement (session=\"3c669003025b0f3f6e9e13df6728f730\", element=\"2db4c5ca-5daa-4975-a6d3-2fed9234cea2\")>,\n",
       " <selenium.webdriver.remote.webelement.WebElement (session=\"3c669003025b0f3f6e9e13df6728f730\", element=\"efa0012a-1eee-4c05-9f9a-5dc49052afef\")>,\n",
       " <selenium.webdriver.remote.webelement.WebElement (session=\"3c669003025b0f3f6e9e13df6728f730\", element=\"0071aecd-304f-4104-b1a7-7e54ae06bf31\")>,\n",
       " <selenium.webdriver.remote.webelement.WebElement (session=\"3c669003025b0f3f6e9e13df6728f730\", element=\"6c07ea04-5780-46f0-bd73-d4d74f4037a7\")>,\n",
       " <selenium.webdriver.remote.webelement.WebElement (session=\"3c669003025b0f3f6e9e13df6728f730\", element=\"2aac9a72-6882-4274-a421-287cfc37572d\")>,\n",
       " <selenium.webdriver.remote.webelement.WebElement (session=\"3c669003025b0f3f6e9e13df6728f730\", element=\"545d7f17-51b8-4609-b133-7e5deae94f66\")>,\n",
       " <selenium.webdriver.remote.webelement.WebElement (session=\"3c669003025b0f3f6e9e13df6728f730\", element=\"b113ddd6-ed0f-4700-b8d6-d9b8c5e2160b\")>,\n",
       " <selenium.webdriver.remote.webelement.WebElement (session=\"3c669003025b0f3f6e9e13df6728f730\", element=\"c64a279c-9a6a-4343-8a92-3c0e37a05369\")>,\n",
       " <selenium.webdriver.remote.webelement.WebElement (session=\"3c669003025b0f3f6e9e13df6728f730\", element=\"47376897-da17-4c2b-93fd-bfd9d3d9d4e0\")>,\n",
       " <selenium.webdriver.remote.webelement.WebElement (session=\"3c669003025b0f3f6e9e13df6728f730\", element=\"712fd6e4-c563-41ac-8a78-42729b9ee9d9\")>,\n",
       " <selenium.webdriver.remote.webelement.WebElement (session=\"3c669003025b0f3f6e9e13df6728f730\", element=\"f1f36b64-41bf-4e1c-8d5d-d6da70cb8d35\")>,\n",
       " <selenium.webdriver.remote.webelement.WebElement (session=\"3c669003025b0f3f6e9e13df6728f730\", element=\"bd510cb9-9643-4873-b80b-cc0cdf0681c0\")>,\n",
       " <selenium.webdriver.remote.webelement.WebElement (session=\"3c669003025b0f3f6e9e13df6728f730\", element=\"7f73c69b-4ae5-4c70-988d-435856bafe14\")>,\n",
       " <selenium.webdriver.remote.webelement.WebElement (session=\"3c669003025b0f3f6e9e13df6728f730\", element=\"4029dcf8-4645-48b9-96b2-d03a3002d6b5\")>,\n",
       " <selenium.webdriver.remote.webelement.WebElement (session=\"3c669003025b0f3f6e9e13df6728f730\", element=\"381ac344-48f1-4118-a5c1-460e63e89eb9\")>,\n",
       " <selenium.webdriver.remote.webelement.WebElement (session=\"3c669003025b0f3f6e9e13df6728f730\", element=\"a2513c50-a564-438f-aaf0-71deb5a2a968\")>,\n",
       " <selenium.webdriver.remote.webelement.WebElement (session=\"3c669003025b0f3f6e9e13df6728f730\", element=\"be5fe125-2dac-4648-aeec-f95634476ba4\")>,\n",
       " <selenium.webdriver.remote.webelement.WebElement (session=\"3c669003025b0f3f6e9e13df6728f730\", element=\"23071298-ef3b-4663-8d8f-fc25238d8b2e\")>,\n",
       " <selenium.webdriver.remote.webelement.WebElement (session=\"3c669003025b0f3f6e9e13df6728f730\", element=\"8fb57468-6084-4ba7-80e8-e8dcffbe8539\")>,\n",
       " <selenium.webdriver.remote.webelement.WebElement (session=\"3c669003025b0f3f6e9e13df6728f730\", element=\"fa1af5aa-22e6-4879-a829-f1814b4d3c66\")>,\n",
       " <selenium.webdriver.remote.webelement.WebElement (session=\"3c669003025b0f3f6e9e13df6728f730\", element=\"b47f1fe4-6d33-42bc-8b76-71e649d216c4\")>,\n",
       " <selenium.webdriver.remote.webelement.WebElement (session=\"3c669003025b0f3f6e9e13df6728f730\", element=\"e6d21961-3a54-490b-a4ea-0b4bc5eb3cc9\")>,\n",
       " <selenium.webdriver.remote.webelement.WebElement (session=\"3c669003025b0f3f6e9e13df6728f730\", element=\"6420b65c-3031-4acb-bda1-2ea97c4e11f8\")>,\n",
       " <selenium.webdriver.remote.webelement.WebElement (session=\"3c669003025b0f3f6e9e13df6728f730\", element=\"d2d31d62-c631-481c-8c76-34c6a272c108\")>,\n",
       " <selenium.webdriver.remote.webelement.WebElement (session=\"3c669003025b0f3f6e9e13df6728f730\", element=\"2abe7da4-b96f-4ad9-b080-746ddee39c32\")>,\n",
       " <selenium.webdriver.remote.webelement.WebElement (session=\"3c669003025b0f3f6e9e13df6728f730\", element=\"c948f446-cef5-455b-83cc-dc47faf6da68\")>,\n",
       " <selenium.webdriver.remote.webelement.WebElement (session=\"3c669003025b0f3f6e9e13df6728f730\", element=\"69f8b5fe-0d2b-445c-87dc-eab08181a9c2\")>,\n",
       " <selenium.webdriver.remote.webelement.WebElement (session=\"3c669003025b0f3f6e9e13df6728f730\", element=\"32d7a996-7419-4d41-b4ff-cc56f27c7828\")>,\n",
       " <selenium.webdriver.remote.webelement.WebElement (session=\"3c669003025b0f3f6e9e13df6728f730\", element=\"5c9e6f7b-3e6c-409d-8dbe-57b4a4ea00d0\")>,\n",
       " <selenium.webdriver.remote.webelement.WebElement (session=\"3c669003025b0f3f6e9e13df6728f730\", element=\"a07a654e-4256-446d-97d2-d50b85d958cd\")>,\n",
       " <selenium.webdriver.remote.webelement.WebElement (session=\"3c669003025b0f3f6e9e13df6728f730\", element=\"05e5cb18-6520-456a-9dbe-b11390da2fac\")>,\n",
       " <selenium.webdriver.remote.webelement.WebElement (session=\"3c669003025b0f3f6e9e13df6728f730\", element=\"2adf2105-0a78-4b3b-98b6-f168c13410a8\")>,\n",
       " <selenium.webdriver.remote.webelement.WebElement (session=\"3c669003025b0f3f6e9e13df6728f730\", element=\"70a4f6ea-6932-4ed1-a64b-7c59c1b5b3fd\")>,\n",
       " <selenium.webdriver.remote.webelement.WebElement (session=\"3c669003025b0f3f6e9e13df6728f730\", element=\"da3f739b-3f56-48e7-94f8-3f71a73e9cb2\")>,\n",
       " <selenium.webdriver.remote.webelement.WebElement (session=\"3c669003025b0f3f6e9e13df6728f730\", element=\"fb48366b-aa22-4ffa-8ac6-435327fddeac\")>,\n",
       " <selenium.webdriver.remote.webelement.WebElement (session=\"3c669003025b0f3f6e9e13df6728f730\", element=\"26e0ca1a-d827-451e-bab7-8f49cd88645d\")>,\n",
       " <selenium.webdriver.remote.webelement.WebElement (session=\"3c669003025b0f3f6e9e13df6728f730\", element=\"b01cc79a-340d-4fa4-ba5e-0ae645457bbb\")>,\n",
       " <selenium.webdriver.remote.webelement.WebElement (session=\"3c669003025b0f3f6e9e13df6728f730\", element=\"5d401c60-8c88-4d73-b6e1-355152f6a3c9\")>,\n",
       " <selenium.webdriver.remote.webelement.WebElement (session=\"3c669003025b0f3f6e9e13df6728f730\", element=\"71867c91-e6dc-4301-b6e1-cb95feb11117\")>,\n",
       " <selenium.webdriver.remote.webelement.WebElement (session=\"3c669003025b0f3f6e9e13df6728f730\", element=\"d272fe08-dbc3-4126-8e08-b62de9ecf61a\")>,\n",
       " <selenium.webdriver.remote.webelement.WebElement (session=\"3c669003025b0f3f6e9e13df6728f730\", element=\"f41e8f7a-52ad-4f77-82bf-37436b89da84\")>,\n",
       " <selenium.webdriver.remote.webelement.WebElement (session=\"3c669003025b0f3f6e9e13df6728f730\", element=\"75bb6653-6eac-4a42-a818-7963ce6697e6\")>,\n",
       " <selenium.webdriver.remote.webelement.WebElement (session=\"3c669003025b0f3f6e9e13df6728f730\", element=\"6d62cef1-354c-424b-9ce6-b68f10c53417\")>,\n",
       " <selenium.webdriver.remote.webelement.WebElement (session=\"3c669003025b0f3f6e9e13df6728f730\", element=\"a454f396-15d8-4b75-9f7f-56fc25c6b8a6\")>,\n",
       " <selenium.webdriver.remote.webelement.WebElement (session=\"3c669003025b0f3f6e9e13df6728f730\", element=\"5c2e06e0-a5f7-4acf-8de6-f4794b47815e\")>,\n",
       " <selenium.webdriver.remote.webelement.WebElement (session=\"3c669003025b0f3f6e9e13df6728f730\", element=\"b1aceb35-509b-421d-ad6c-9b32986e5fc6\")>,\n",
       " <selenium.webdriver.remote.webelement.WebElement (session=\"3c669003025b0f3f6e9e13df6728f730\", element=\"3b9af7e3-eccc-4fa8-9e9a-8a6dbc3eceda\")>,\n",
       " <selenium.webdriver.remote.webelement.WebElement (session=\"3c669003025b0f3f6e9e13df6728f730\", element=\"f653e71d-b8ba-43d9-b7ae-f13d689ca43b\")>,\n",
       " <selenium.webdriver.remote.webelement.WebElement (session=\"3c669003025b0f3f6e9e13df6728f730\", element=\"d50e85e4-cb0d-48b5-a660-4a46a5bc12f2\")>,\n",
       " <selenium.webdriver.remote.webelement.WebElement (session=\"3c669003025b0f3f6e9e13df6728f730\", element=\"556a94e6-2f91-4613-a8be-5673e702858f\")>,\n",
       " <selenium.webdriver.remote.webelement.WebElement (session=\"3c669003025b0f3f6e9e13df6728f730\", element=\"ec83893e-0f49-49b9-b9f0-96c3c0143729\")>,\n",
       " <selenium.webdriver.remote.webelement.WebElement (session=\"3c669003025b0f3f6e9e13df6728f730\", element=\"f8ff2e46-fa9c-4c0e-a73a-cf8f3bba0c9e\")>,\n",
       " <selenium.webdriver.remote.webelement.WebElement (session=\"3c669003025b0f3f6e9e13df6728f730\", element=\"0fe1e00b-f8a6-47f8-8416-f7c742e26b66\")>,\n",
       " <selenium.webdriver.remote.webelement.WebElement (session=\"3c669003025b0f3f6e9e13df6728f730\", element=\"29da1354-1691-483c-9ce3-726111af1749\")>]"
      ]
     },
     "execution_count": 9,
     "metadata": {},
     "output_type": "execute_result"
    }
   ],
   "source": [
    "header2=browser.find_elements(\"xpath\",\"//div[@class='td-wrap-in']\")\n",
    "header2"
   ]
  },
  {
   "cell_type": "code",
   "execution_count": 11,
   "id": "67675302",
   "metadata": {},
   "outputs": [
    {
     "data": {
      "text/plain": [
       "['91.3', '99.3', '96.5', '96.7', '87.3', '36.9', '57.1', '77.5', '91.4']"
      ]
     },
     "execution_count": 11,
     "metadata": {},
     "output_type": "execute_result"
    }
   ],
   "source": [
    "#PARSING DATA\n",
    "value_head=[]\n",
    "for data in header2:\n",
    "    #get the text data\n",
    "    temp=data.text\n",
    "    value_head.append(temp)\n",
    "value_head=value_head[11:20]\n",
    "value_head"
   ]
  },
  {
   "cell_type": "code",
   "execution_count": 12,
   "id": "613e75ff",
   "metadata": {},
   "outputs": [
    {
     "data": {
      "text/plain": [
       "{'Overall Score': '91.3',\n",
       " 'Academic Reputation': '99.3',\n",
       " 'Employer Reputation': '96.5',\n",
       " 'Citations per Faculty': '96.7',\n",
       " 'Faculty Student Ratio': '87.3',\n",
       " 'International Students Ratio': '36.9',\n",
       " 'International Faculty Ratio': '57.1',\n",
       " 'International Research Network\\nUnweighted': '77.5',\n",
       " 'Employment Outcomes\\nUnweighted': '91.4'}"
      ]
     },
     "execution_count": 12,
     "metadata": {},
     "output_type": "execute_result"
    }
   ],
   "source": [
    "d={}\n",
    "for i in range(len(column_head)):\n",
    "    d[column_head[i]]=value_head[i]\n",
    "d"
   ]
  },
  {
   "cell_type": "code",
   "execution_count": 13,
   "id": "dd5d5eab",
   "metadata": {},
   "outputs": [
    {
     "data": {
      "text/plain": [
       "'{\"Overall Score\": \"91.3\", \"Academic Reputation\": \"99.3\", \"Employer Reputation\": \"96.5\", \"Citations per Faculty\": \"96.7\", \"Faculty Student Ratio\": \"87.3\", \"International Students Ratio\": \"36.9\", \"International Faculty Ratio\": \"57.1\", \"International Research Network\\\\nUnweighted\": \"77.5\", \"Employment Outcomes\\\\nUnweighted\": \"91.4\"}'"
      ]
     },
     "execution_count": 13,
     "metadata": {},
     "output_type": "execute_result"
    }
   ],
   "source": [
    "s1=json.dumps(d)\n",
    "s1"
   ]
  },
  {
   "cell_type": "code",
   "execution_count": 14,
   "id": "f20a31f8",
   "metadata": {},
   "outputs": [],
   "source": [
    "with open('University of Oxford.json','w') as f:\n",
    "    json.dump(d,f)"
   ]
  },
  {
   "cell_type": "code",
   "execution_count": null,
   "id": "0ce76620",
   "metadata": {},
   "outputs": [],
   "source": []
  }
 ],
 "metadata": {
  "kernelspec": {
   "display_name": "Python 3 (ipykernel)",
   "language": "python",
   "name": "python3"
  },
  "language_info": {
   "codemirror_mode": {
    "name": "ipython",
    "version": 3
   },
   "file_extension": ".py",
   "mimetype": "text/x-python",
   "name": "python",
   "nbconvert_exporter": "python",
   "pygments_lexer": "ipython3",
   "version": "3.9.12"
  }
 },
 "nbformat": 4,
 "nbformat_minor": 5
}
