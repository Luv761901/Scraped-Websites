{
 "cells": [
  {
   "cell_type": "code",
   "execution_count": 6,
   "id": "7c5e0119",
   "metadata": {},
   "outputs": [],
   "source": [
    "from selenium import webdriver\n",
    "from selenium.webdriver.chrome.service import Service\n",
    "import pandas as pd\n",
    "import json"
   ]
  },
  {
   "cell_type": "code",
   "execution_count": 7,
   "id": "584156b5",
   "metadata": {},
   "outputs": [],
   "source": [
    "path = Service('C:\\chromedriver.exe')"
   ]
  },
  {
   "cell_type": "code",
   "execution_count": 8,
   "id": "853015c2",
   "metadata": {},
   "outputs": [],
   "source": [
    "# set path for the driver\n",
    "browser = webdriver.Chrome(service = path)"
   ]
  },
  {
   "cell_type": "code",
   "execution_count": 9,
   "id": "9253d57a",
   "metadata": {},
   "outputs": [],
   "source": [
    "url = \"https://www.topuniversities.com/university-rankings/world-university-rankings/2023\""
   ]
  },
  {
   "cell_type": "code",
   "execution_count": 10,
   "id": "e4a247f0",
   "metadata": {},
   "outputs": [],
   "source": [
    "# open the page url ion chrome\n",
    "browser.get(url)"
   ]
  },
  {
   "cell_type": "code",
   "execution_count": 11,
   "id": "38e04334",
   "metadata": {},
   "outputs": [
    {
     "data": {
      "text/plain": [
       "[<selenium.webdriver.remote.webelement.WebElement (session=\"9bde793edcb297abb9fec0832033d936\", element=\"850b2699-ff95-448d-9611-db1dc5a38743\")>,\n",
       " <selenium.webdriver.remote.webelement.WebElement (session=\"9bde793edcb297abb9fec0832033d936\", element=\"016a6921-5748-4856-a8b4-da86de7dc45e\")>,\n",
       " <selenium.webdriver.remote.webelement.WebElement (session=\"9bde793edcb297abb9fec0832033d936\", element=\"cf4ac9e7-4d71-4816-80d3-e461d07598d3\")>,\n",
       " <selenium.webdriver.remote.webelement.WebElement (session=\"9bde793edcb297abb9fec0832033d936\", element=\"1564443d-71c8-48a3-9e3c-852f40d664b1\")>,\n",
       " <selenium.webdriver.remote.webelement.WebElement (session=\"9bde793edcb297abb9fec0832033d936\", element=\"8aa28bb2-7c5e-4327-a50c-b1c8906c9710\")>,\n",
       " <selenium.webdriver.remote.webelement.WebElement (session=\"9bde793edcb297abb9fec0832033d936\", element=\"ef27d48a-48fd-4929-b5dc-db9362267351\")>,\n",
       " <selenium.webdriver.remote.webelement.WebElement (session=\"9bde793edcb297abb9fec0832033d936\", element=\"0139e8ae-508e-46a6-9dc0-f6f8ccaa5a24\")>,\n",
       " <selenium.webdriver.remote.webelement.WebElement (session=\"9bde793edcb297abb9fec0832033d936\", element=\"16771154-c2cf-446e-8a8b-9607ae4ef18e\")>,\n",
       " <selenium.webdriver.remote.webelement.WebElement (session=\"9bde793edcb297abb9fec0832033d936\", element=\"bbe0e589-4a8a-4761-8895-f995ad7d03a1\")>,\n",
       " <selenium.webdriver.remote.webelement.WebElement (session=\"9bde793edcb297abb9fec0832033d936\", element=\"09775e35-3105-45d1-bdef-7ab9761d0ad2\")>,\n",
       " <selenium.webdriver.remote.webelement.WebElement (session=\"9bde793edcb297abb9fec0832033d936\", element=\"67442665-ca9f-47fc-8cd6-fdc4031dc158\")>,\n",
       " <selenium.webdriver.remote.webelement.WebElement (session=\"9bde793edcb297abb9fec0832033d936\", element=\"57340f15-32d4-433f-be25-b3ed0bb0e700\")>,\n",
       " <selenium.webdriver.remote.webelement.WebElement (session=\"9bde793edcb297abb9fec0832033d936\", element=\"93447384-8899-4e8d-ab7b-087cfebfca40\")>,\n",
       " <selenium.webdriver.remote.webelement.WebElement (session=\"9bde793edcb297abb9fec0832033d936\", element=\"1ab535e0-0132-47fc-8491-b8355866901a\")>,\n",
       " <selenium.webdriver.remote.webelement.WebElement (session=\"9bde793edcb297abb9fec0832033d936\", element=\"59fa575f-63d4-48e0-9bf0-a64ff452b51c\")>,\n",
       " <selenium.webdriver.remote.webelement.WebElement (session=\"9bde793edcb297abb9fec0832033d936\", element=\"f8ae5581-08eb-4686-8860-24c8ac113995\")>,\n",
       " <selenium.webdriver.remote.webelement.WebElement (session=\"9bde793edcb297abb9fec0832033d936\", element=\"de2fdae1-9bbc-4b8e-bb2a-a905ed5a7b45\")>,\n",
       " <selenium.webdriver.remote.webelement.WebElement (session=\"9bde793edcb297abb9fec0832033d936\", element=\"cbd51683-2d60-4d08-8840-1ae2ba394583\")>,\n",
       " <selenium.webdriver.remote.webelement.WebElement (session=\"9bde793edcb297abb9fec0832033d936\", element=\"b16b39b7-969e-4ee3-8952-d73d8e16827c\")>,\n",
       " <selenium.webdriver.remote.webelement.WebElement (session=\"9bde793edcb297abb9fec0832033d936\", element=\"561a8fdf-ceb7-4d9a-9ffd-fb69f452f78c\")>]"
      ]
     },
     "execution_count": 11,
     "metadata": {},
     "output_type": "execute_result"
    }
   ],
   "source": [
    "l1=browser.find_elements(\"xpath\",\"//div[@class='location ']\")\n",
    "l1\n"
   ]
  },
  {
   "cell_type": "code",
   "execution_count": 12,
   "id": "54a01171",
   "metadata": {},
   "outputs": [
    {
     "data": {
      "text/plain": [
       "['Singapore, Singapore',\n",
       " 'Beijing, China (Mainland)',\n",
       " 'Philadelphia, United States',\n",
       " 'Beijing, China (Mainland)',\n",
       " 'Edinburgh, United Kingdom',\n",
       " 'Lausanne, Switzerland',\n",
       " 'Princeton, United States',\n",
       " 'New Haven, United States',\n",
       " 'Singapore, Singapore',\n",
       " 'Ithaca, United States']"
      ]
     },
     "execution_count": 12,
     "metadata": {},
     "output_type": "execute_result"
    }
   ],
   "source": [
    "loc=[]\n",
    "for data in l1:\n",
    "    #get the text data\n",
    "    temp=data.text\n",
    "    loc.append(temp)\n",
    "loc=loc[10:]\n",
    "loc"
   ]
  },
  {
   "cell_type": "code",
   "execution_count": 13,
   "id": "a3c10ac1",
   "metadata": {},
   "outputs": [
    {
     "data": {
      "text/plain": [
       "[<selenium.webdriver.remote.webelement.WebElement (session=\"9bde793edcb297abb9fec0832033d936\", element=\"505dca2e-a70e-49cf-97cb-eaf9a8858766\")>,\n",
       " <selenium.webdriver.remote.webelement.WebElement (session=\"9bde793edcb297abb9fec0832033d936\", element=\"b401e876-f081-443d-b928-177e594aa752\")>,\n",
       " <selenium.webdriver.remote.webelement.WebElement (session=\"9bde793edcb297abb9fec0832033d936\", element=\"75783b0a-2b2b-44b4-b263-f498b04f0114\")>,\n",
       " <selenium.webdriver.remote.webelement.WebElement (session=\"9bde793edcb297abb9fec0832033d936\", element=\"43e4f8d0-e1b1-44f0-a2ab-b8389eab6348\")>,\n",
       " <selenium.webdriver.remote.webelement.WebElement (session=\"9bde793edcb297abb9fec0832033d936\", element=\"0e586434-8720-4153-b75f-023f6e797f17\")>,\n",
       " <selenium.webdriver.remote.webelement.WebElement (session=\"9bde793edcb297abb9fec0832033d936\", element=\"52dd2565-517d-485b-874f-54825155b30e\")>,\n",
       " <selenium.webdriver.remote.webelement.WebElement (session=\"9bde793edcb297abb9fec0832033d936\", element=\"a3dd754c-f72e-4066-bb63-06bb9d79592c\")>,\n",
       " <selenium.webdriver.remote.webelement.WebElement (session=\"9bde793edcb297abb9fec0832033d936\", element=\"ad985d16-1f70-4632-a4e7-0b19cd6c1eb2\")>,\n",
       " <selenium.webdriver.remote.webelement.WebElement (session=\"9bde793edcb297abb9fec0832033d936\", element=\"5dde44fd-d91f-4dbd-9831-0999448c1969\")>,\n",
       " <selenium.webdriver.remote.webelement.WebElement (session=\"9bde793edcb297abb9fec0832033d936\", element=\"cbfd2689-4c43-41a1-bc87-6343bd4c5c4c\")>]"
      ]
     },
     "execution_count": 13,
     "metadata": {},
     "output_type": "execute_result"
    }
   ],
   "source": [
    "l2=browser.find_elements(\"xpath\",\"//div[@class='_univ-rank ']\")\n",
    "l2\n"
   ]
  },
  {
   "cell_type": "code",
   "execution_count": 14,
   "id": "339d2457",
   "metadata": {},
   "outputs": [
    {
     "data": {
      "text/plain": [
       "['11', '12', '13', '14', '15', '=16', '=16', '18', '19', '20']"
      ]
     },
     "execution_count": 14,
     "metadata": {},
     "output_type": "execute_result"
    }
   ],
   "source": [
    "RANK=[]\n",
    "for data in l2:\n",
    "    #get the text data\n",
    "    temp=data.text\n",
    "    RANK.append(temp)\n",
    "RANK\n"
   ]
  },
  {
   "cell_type": "code",
   "execution_count": 15,
   "id": "857dcbd0",
   "metadata": {},
   "outputs": [
    {
     "data": {
      "text/plain": [
       "[<selenium.webdriver.remote.webelement.WebElement (session=\"9bde793edcb297abb9fec0832033d936\", element=\"25f0a298-35a4-4b29-a6e0-c1f0f19a1eed\")>,\n",
       " <selenium.webdriver.remote.webelement.WebElement (session=\"9bde793edcb297abb9fec0832033d936\", element=\"e9d214c2-3bc1-46be-995b-e2144eb6b4bd\")>,\n",
       " <selenium.webdriver.remote.webelement.WebElement (session=\"9bde793edcb297abb9fec0832033d936\", element=\"78feab39-78d2-41ef-99fb-2f94038f48db\")>,\n",
       " <selenium.webdriver.remote.webelement.WebElement (session=\"9bde793edcb297abb9fec0832033d936\", element=\"03727d82-b431-4425-9f07-4542ffc74364\")>,\n",
       " <selenium.webdriver.remote.webelement.WebElement (session=\"9bde793edcb297abb9fec0832033d936\", element=\"6afafb09-3a5e-4af6-aa01-c262eaf332f9\")>,\n",
       " <selenium.webdriver.remote.webelement.WebElement (session=\"9bde793edcb297abb9fec0832033d936\", element=\"664a9626-f813-4730-8352-3e711562c03f\")>,\n",
       " <selenium.webdriver.remote.webelement.WebElement (session=\"9bde793edcb297abb9fec0832033d936\", element=\"5c190d3f-0821-4eac-8fc9-042e9d612b4a\")>,\n",
       " <selenium.webdriver.remote.webelement.WebElement (session=\"9bde793edcb297abb9fec0832033d936\", element=\"710364e8-749b-4a0f-a324-f5d41f241c31\")>,\n",
       " <selenium.webdriver.remote.webelement.WebElement (session=\"9bde793edcb297abb9fec0832033d936\", element=\"e7a14b91-8434-4ac8-9de7-d28590c30454\")>]"
      ]
     },
     "execution_count": 15,
     "metadata": {},
     "output_type": "execute_result"
    }
   ],
   "source": [
    "# GET EACH COLLEGE SPECIFICATION HEADERS\n",
    "header=browser.find_elements(\"xpath\",\"//div[@class='_click-function_ind']\")\n",
    "header"
   ]
  },
  {
   "cell_type": "code",
   "execution_count": 16,
   "id": "5d87847a",
   "metadata": {},
   "outputs": [
    {
     "data": {
      "text/plain": [
       "['Overall Score',\n",
       " 'Academic Reputation',\n",
       " 'Employer Reputation',\n",
       " 'Citations per Faculty',\n",
       " 'Faculty Student Ratio',\n",
       " 'International Students Ratio',\n",
       " 'International Faculty Ratio',\n",
       " 'International Research Network\\nUnweighted',\n",
       " 'Employment Outcomes\\nUnweighted']"
      ]
     },
     "execution_count": 16,
     "metadata": {},
     "output_type": "execute_result"
    }
   ],
   "source": [
    "#PARSING DATA\n",
    "column_head=[]\n",
    "for data in header:\n",
    "    #get the text data\n",
    "    temp=data.text\n",
    "    column_head.append(temp)\n",
    "column_head"
   ]
  },
  {
   "cell_type": "code",
   "execution_count": 17,
   "id": "61d1c618",
   "metadata": {},
   "outputs": [
    {
     "data": {
      "text/plain": [
       "[<selenium.webdriver.remote.webelement.WebElement (session=\"9bde793edcb297abb9fec0832033d936\", element=\"7cc16e28-6e98-4d9c-b39f-a54ab29e009f\")>,\n",
       " <selenium.webdriver.remote.webelement.WebElement (session=\"9bde793edcb297abb9fec0832033d936\", element=\"95fea193-74d6-4843-9998-a890c8771a1d\")>,\n",
       " <selenium.webdriver.remote.webelement.WebElement (session=\"9bde793edcb297abb9fec0832033d936\", element=\"ff2ac0a2-7570-402b-98c3-14adbe6a0739\")>,\n",
       " <selenium.webdriver.remote.webelement.WebElement (session=\"9bde793edcb297abb9fec0832033d936\", element=\"6aa0d6b9-9a77-4440-a96d-ddd9ad40b1fd\")>,\n",
       " <selenium.webdriver.remote.webelement.WebElement (session=\"9bde793edcb297abb9fec0832033d936\", element=\"ab4638e1-feff-48d9-9bef-617395622a31\")>,\n",
       " <selenium.webdriver.remote.webelement.WebElement (session=\"9bde793edcb297abb9fec0832033d936\", element=\"3887001d-0c34-45e4-b032-caabad4c2434\")>,\n",
       " <selenium.webdriver.remote.webelement.WebElement (session=\"9bde793edcb297abb9fec0832033d936\", element=\"97080ab4-6852-40a0-9ac4-b7276954c082\")>,\n",
       " <selenium.webdriver.remote.webelement.WebElement (session=\"9bde793edcb297abb9fec0832033d936\", element=\"a0b52cd6-e7dc-4a34-88fb-f9a8e5e7edf7\")>,\n",
       " <selenium.webdriver.remote.webelement.WebElement (session=\"9bde793edcb297abb9fec0832033d936\", element=\"53fd1844-9143-491b-882a-0b29e4b0a34a\")>,\n",
       " <selenium.webdriver.remote.webelement.WebElement (session=\"9bde793edcb297abb9fec0832033d936\", element=\"d3295781-c668-4e22-8dae-5780d560e11c\")>,\n",
       " <selenium.webdriver.remote.webelement.WebElement (session=\"9bde793edcb297abb9fec0832033d936\", element=\"17b31faf-564c-4a37-a0bf-629cf48d4fb4\")>,\n",
       " <selenium.webdriver.remote.webelement.WebElement (session=\"9bde793edcb297abb9fec0832033d936\", element=\"fdaf7d08-0a8c-40a0-b8ca-b607ee8a9c63\")>,\n",
       " <selenium.webdriver.remote.webelement.WebElement (session=\"9bde793edcb297abb9fec0832033d936\", element=\"d28ccfdf-d404-4629-9af6-40fa45b6ff38\")>,\n",
       " <selenium.webdriver.remote.webelement.WebElement (session=\"9bde793edcb297abb9fec0832033d936\", element=\"96ba2839-01cb-403e-b050-561a7d0bc36b\")>,\n",
       " <selenium.webdriver.remote.webelement.WebElement (session=\"9bde793edcb297abb9fec0832033d936\", element=\"acfdf02a-5ef7-4598-a26e-ef5b4e8ca320\")>,\n",
       " <selenium.webdriver.remote.webelement.WebElement (session=\"9bde793edcb297abb9fec0832033d936\", element=\"bffcb5af-abff-4f41-9467-330d4bd64a34\")>,\n",
       " <selenium.webdriver.remote.webelement.WebElement (session=\"9bde793edcb297abb9fec0832033d936\", element=\"caea5bf1-0b79-494a-a974-996f023a75b2\")>,\n",
       " <selenium.webdriver.remote.webelement.WebElement (session=\"9bde793edcb297abb9fec0832033d936\", element=\"24918ce7-3663-42eb-a7aa-c98f0647e179\")>,\n",
       " <selenium.webdriver.remote.webelement.WebElement (session=\"9bde793edcb297abb9fec0832033d936\", element=\"3b052302-8681-430b-b02a-6220f61df4f2\")>,\n",
       " <selenium.webdriver.remote.webelement.WebElement (session=\"9bde793edcb297abb9fec0832033d936\", element=\"91650763-c4d7-43f7-90e8-e07204f0f4e8\")>,\n",
       " <selenium.webdriver.remote.webelement.WebElement (session=\"9bde793edcb297abb9fec0832033d936\", element=\"9b5709f4-1f70-40b5-92df-a4e53b54fa00\")>,\n",
       " <selenium.webdriver.remote.webelement.WebElement (session=\"9bde793edcb297abb9fec0832033d936\", element=\"4ef61a63-6b91-4447-b19a-f1606b0fd039\")>,\n",
       " <selenium.webdriver.remote.webelement.WebElement (session=\"9bde793edcb297abb9fec0832033d936\", element=\"40c3427d-6323-4a83-b824-f58f6f597eaa\")>,\n",
       " <selenium.webdriver.remote.webelement.WebElement (session=\"9bde793edcb297abb9fec0832033d936\", element=\"eb6983a7-bfbf-447b-b4bd-2dd31aa2d39e\")>,\n",
       " <selenium.webdriver.remote.webelement.WebElement (session=\"9bde793edcb297abb9fec0832033d936\", element=\"a239e96d-926e-4796-a5b1-fe6fd3e7ba10\")>,\n",
       " <selenium.webdriver.remote.webelement.WebElement (session=\"9bde793edcb297abb9fec0832033d936\", element=\"dd559a70-4f39-4e0d-86a1-de51f49ff4d5\")>,\n",
       " <selenium.webdriver.remote.webelement.WebElement (session=\"9bde793edcb297abb9fec0832033d936\", element=\"4626590f-b841-4ce9-8a8b-059aa02f699d\")>,\n",
       " <selenium.webdriver.remote.webelement.WebElement (session=\"9bde793edcb297abb9fec0832033d936\", element=\"0ff8a9d0-7ba0-4652-9cec-f6d3d44639a6\")>,\n",
       " <selenium.webdriver.remote.webelement.WebElement (session=\"9bde793edcb297abb9fec0832033d936\", element=\"9f7972b7-2698-44e3-9674-f87fb7857a10\")>,\n",
       " <selenium.webdriver.remote.webelement.WebElement (session=\"9bde793edcb297abb9fec0832033d936\", element=\"58f433cc-8957-49eb-9bd0-4d52e29c9676\")>,\n",
       " <selenium.webdriver.remote.webelement.WebElement (session=\"9bde793edcb297abb9fec0832033d936\", element=\"0a43ec96-1420-463d-a618-9b642a18f474\")>,\n",
       " <selenium.webdriver.remote.webelement.WebElement (session=\"9bde793edcb297abb9fec0832033d936\", element=\"e0ad75e4-7ab9-476a-93f2-1d9a0dd89492\")>,\n",
       " <selenium.webdriver.remote.webelement.WebElement (session=\"9bde793edcb297abb9fec0832033d936\", element=\"4fed425d-2271-4748-b9ce-4589bf3a68bd\")>,\n",
       " <selenium.webdriver.remote.webelement.WebElement (session=\"9bde793edcb297abb9fec0832033d936\", element=\"1db7a2a2-c694-47e1-8db7-5da0442f1c9d\")>,\n",
       " <selenium.webdriver.remote.webelement.WebElement (session=\"9bde793edcb297abb9fec0832033d936\", element=\"c2695d9f-b28e-437b-be2d-69eade0969c2\")>,\n",
       " <selenium.webdriver.remote.webelement.WebElement (session=\"9bde793edcb297abb9fec0832033d936\", element=\"f5e0b034-3147-45b7-8fd0-d6f1fdcc71a8\")>,\n",
       " <selenium.webdriver.remote.webelement.WebElement (session=\"9bde793edcb297abb9fec0832033d936\", element=\"6ce65558-1639-4f4f-bf2b-83fc1cb11d0c\")>,\n",
       " <selenium.webdriver.remote.webelement.WebElement (session=\"9bde793edcb297abb9fec0832033d936\", element=\"607810a8-d80f-463f-ac68-e0eccb867c8f\")>,\n",
       " <selenium.webdriver.remote.webelement.WebElement (session=\"9bde793edcb297abb9fec0832033d936\", element=\"2c650458-bd8a-4658-862d-1fd513f76d90\")>,\n",
       " <selenium.webdriver.remote.webelement.WebElement (session=\"9bde793edcb297abb9fec0832033d936\", element=\"547cc8ed-7063-45db-bb94-f9ef311fe8f9\")>,\n",
       " <selenium.webdriver.remote.webelement.WebElement (session=\"9bde793edcb297abb9fec0832033d936\", element=\"4e92b8cc-dc0a-4f90-beb9-207c2a70b46a\")>,\n",
       " <selenium.webdriver.remote.webelement.WebElement (session=\"9bde793edcb297abb9fec0832033d936\", element=\"0f13fed8-e34f-422d-9fb1-0794bf62822b\")>,\n",
       " <selenium.webdriver.remote.webelement.WebElement (session=\"9bde793edcb297abb9fec0832033d936\", element=\"483c2b38-b063-451c-bb42-a72eade30a2f\")>,\n",
       " <selenium.webdriver.remote.webelement.WebElement (session=\"9bde793edcb297abb9fec0832033d936\", element=\"592812f5-b39d-4d69-a983-5a9706bfa4f9\")>,\n",
       " <selenium.webdriver.remote.webelement.WebElement (session=\"9bde793edcb297abb9fec0832033d936\", element=\"057bbb71-96ea-434a-a5e5-fbb0c92350f0\")>,\n",
       " <selenium.webdriver.remote.webelement.WebElement (session=\"9bde793edcb297abb9fec0832033d936\", element=\"b718b77e-399e-46db-92fc-9e56a33735b3\")>,\n",
       " <selenium.webdriver.remote.webelement.WebElement (session=\"9bde793edcb297abb9fec0832033d936\", element=\"0036dac0-4222-4c7a-a787-d1652df200ab\")>,\n",
       " <selenium.webdriver.remote.webelement.WebElement (session=\"9bde793edcb297abb9fec0832033d936\", element=\"283ec234-7292-422c-9f8e-2f9115acf845\")>,\n",
       " <selenium.webdriver.remote.webelement.WebElement (session=\"9bde793edcb297abb9fec0832033d936\", element=\"6655d42d-6375-40c1-ac92-bd1e60755ba7\")>,\n",
       " <selenium.webdriver.remote.webelement.WebElement (session=\"9bde793edcb297abb9fec0832033d936\", element=\"abfad844-3854-40c1-8b4a-600de3d10b50\")>,\n",
       " <selenium.webdriver.remote.webelement.WebElement (session=\"9bde793edcb297abb9fec0832033d936\", element=\"56310975-be5f-4805-b12c-a662b1b7e11c\")>,\n",
       " <selenium.webdriver.remote.webelement.WebElement (session=\"9bde793edcb297abb9fec0832033d936\", element=\"19d62c6a-d83b-4e0a-a311-90b5a1cb2ddf\")>,\n",
       " <selenium.webdriver.remote.webelement.WebElement (session=\"9bde793edcb297abb9fec0832033d936\", element=\"9acff23b-066a-41ed-bb0f-a8d32c63cdb6\")>,\n",
       " <selenium.webdriver.remote.webelement.WebElement (session=\"9bde793edcb297abb9fec0832033d936\", element=\"d71ad548-fa09-4893-987f-0027e8b2d199\")>,\n",
       " <selenium.webdriver.remote.webelement.WebElement (session=\"9bde793edcb297abb9fec0832033d936\", element=\"632084d2-5f5a-420b-9454-2d6edd57bd32\")>,\n",
       " <selenium.webdriver.remote.webelement.WebElement (session=\"9bde793edcb297abb9fec0832033d936\", element=\"273cb9c8-888d-47c6-802a-5428ea80fced\")>,\n",
       " <selenium.webdriver.remote.webelement.WebElement (session=\"9bde793edcb297abb9fec0832033d936\", element=\"c49e1a99-bc71-4c6c-960e-d1e6c7a8859a\")>,\n",
       " <selenium.webdriver.remote.webelement.WebElement (session=\"9bde793edcb297abb9fec0832033d936\", element=\"1177e8ad-66eb-45a1-b5f2-9e2753d364b7\")>,\n",
       " <selenium.webdriver.remote.webelement.WebElement (session=\"9bde793edcb297abb9fec0832033d936\", element=\"6f345b78-0c56-4dcd-9d80-df0d75ad7a07\")>,\n",
       " <selenium.webdriver.remote.webelement.WebElement (session=\"9bde793edcb297abb9fec0832033d936\", element=\"60919cef-679d-454d-977f-e6cca45f8c1e\")>,\n",
       " <selenium.webdriver.remote.webelement.WebElement (session=\"9bde793edcb297abb9fec0832033d936\", element=\"4dc9f060-5532-47ad-9155-882aa007eb9c\")>,\n",
       " <selenium.webdriver.remote.webelement.WebElement (session=\"9bde793edcb297abb9fec0832033d936\", element=\"688ccf1d-fa7e-4c17-9d2f-261db535b31a\")>,\n",
       " <selenium.webdriver.remote.webelement.WebElement (session=\"9bde793edcb297abb9fec0832033d936\", element=\"d34be59d-a65c-4a00-8b80-59def84a7a48\")>,\n",
       " <selenium.webdriver.remote.webelement.WebElement (session=\"9bde793edcb297abb9fec0832033d936\", element=\"83c6ffa3-cdef-4613-93e1-54d5c2dbd86a\")>,\n",
       " <selenium.webdriver.remote.webelement.WebElement (session=\"9bde793edcb297abb9fec0832033d936\", element=\"e2ffc9f7-a3bc-41c2-b587-3713f42b1e7a\")>,\n",
       " <selenium.webdriver.remote.webelement.WebElement (session=\"9bde793edcb297abb9fec0832033d936\", element=\"e0875ed3-317d-4c61-a72f-293313f3574b\")>,\n",
       " <selenium.webdriver.remote.webelement.WebElement (session=\"9bde793edcb297abb9fec0832033d936\", element=\"c81cd998-392a-41e1-99f2-485579ca125b\")>,\n",
       " <selenium.webdriver.remote.webelement.WebElement (session=\"9bde793edcb297abb9fec0832033d936\", element=\"ef679a74-903e-4ac6-97c6-ba4063876d9c\")>,\n",
       " <selenium.webdriver.remote.webelement.WebElement (session=\"9bde793edcb297abb9fec0832033d936\", element=\"f2d069da-ee44-4acd-9cef-93bb5158f3ac\")>,\n",
       " <selenium.webdriver.remote.webelement.WebElement (session=\"9bde793edcb297abb9fec0832033d936\", element=\"ee4b28dc-f1cc-47b9-a5f9-14b1f9083318\")>,\n",
       " <selenium.webdriver.remote.webelement.WebElement (session=\"9bde793edcb297abb9fec0832033d936\", element=\"84ce966d-6968-47f2-9b62-4e36245008ab\")>,\n",
       " <selenium.webdriver.remote.webelement.WebElement (session=\"9bde793edcb297abb9fec0832033d936\", element=\"b92bdad0-58a6-459e-8125-a8a776c069f2\")>,\n",
       " <selenium.webdriver.remote.webelement.WebElement (session=\"9bde793edcb297abb9fec0832033d936\", element=\"f9297ce7-3476-4583-9567-b7502bb7fc54\")>,\n",
       " <selenium.webdriver.remote.webelement.WebElement (session=\"9bde793edcb297abb9fec0832033d936\", element=\"0fc9e9f0-d750-45d4-85fb-cb49e622c800\")>,\n",
       " <selenium.webdriver.remote.webelement.WebElement (session=\"9bde793edcb297abb9fec0832033d936\", element=\"6de6c6aa-b836-4f6a-819e-b1830715f5bb\")>,\n",
       " <selenium.webdriver.remote.webelement.WebElement (session=\"9bde793edcb297abb9fec0832033d936\", element=\"e1dd8a33-4893-46f9-8fb9-5222ea445706\")>,\n",
       " <selenium.webdriver.remote.webelement.WebElement (session=\"9bde793edcb297abb9fec0832033d936\", element=\"7c7fb5e4-66c7-47f4-8a10-62e4051b372a\")>,\n",
       " <selenium.webdriver.remote.webelement.WebElement (session=\"9bde793edcb297abb9fec0832033d936\", element=\"50cafc6b-eab9-4653-a344-c32c72d2dd42\")>,\n",
       " <selenium.webdriver.remote.webelement.WebElement (session=\"9bde793edcb297abb9fec0832033d936\", element=\"67533bcf-e5fe-461d-a18d-a4eb0dbdf5b3\")>,\n",
       " <selenium.webdriver.remote.webelement.WebElement (session=\"9bde793edcb297abb9fec0832033d936\", element=\"be971691-df6e-4356-a47b-310e475ef693\")>,\n",
       " <selenium.webdriver.remote.webelement.WebElement (session=\"9bde793edcb297abb9fec0832033d936\", element=\"60053994-b7e4-42e0-b78a-1871b285ca3d\")>,\n",
       " <selenium.webdriver.remote.webelement.WebElement (session=\"9bde793edcb297abb9fec0832033d936\", element=\"b345a3ec-7343-4171-b5af-6ebe09dc9335\")>,\n",
       " <selenium.webdriver.remote.webelement.WebElement (session=\"9bde793edcb297abb9fec0832033d936\", element=\"620416d0-f98f-48f5-b686-53c2b6e7ecb3\")>,\n",
       " <selenium.webdriver.remote.webelement.WebElement (session=\"9bde793edcb297abb9fec0832033d936\", element=\"6ccddd63-0ecf-4c91-87ee-55bce326f075\")>,\n",
       " <selenium.webdriver.remote.webelement.WebElement (session=\"9bde793edcb297abb9fec0832033d936\", element=\"e1da63c2-6f9b-4d56-bd6a-15bf6c1213cc\")>,\n",
       " <selenium.webdriver.remote.webelement.WebElement (session=\"9bde793edcb297abb9fec0832033d936\", element=\"9092cb05-7f2c-40e2-87cf-737a1185d36d\")>,\n",
       " <selenium.webdriver.remote.webelement.WebElement (session=\"9bde793edcb297abb9fec0832033d936\", element=\"77ad23bc-7e21-45f5-b219-d45560f5fef3\")>,\n",
       " <selenium.webdriver.remote.webelement.WebElement (session=\"9bde793edcb297abb9fec0832033d936\", element=\"657a6a6c-9a37-4b79-9800-f88f3728725d\")>,\n",
       " <selenium.webdriver.remote.webelement.WebElement (session=\"9bde793edcb297abb9fec0832033d936\", element=\"76cd6931-30b0-4e14-b42d-873a3d0eb94e\")>,\n",
       " <selenium.webdriver.remote.webelement.WebElement (session=\"9bde793edcb297abb9fec0832033d936\", element=\"413ed7e2-e8ab-4be3-b3d2-ac8cbcca01b0\")>,\n",
       " <selenium.webdriver.remote.webelement.WebElement (session=\"9bde793edcb297abb9fec0832033d936\", element=\"aec9a687-e5e6-43fe-88b1-6140890422cc\")>,\n",
       " <selenium.webdriver.remote.webelement.WebElement (session=\"9bde793edcb297abb9fec0832033d936\", element=\"79d9a8d0-95ef-4b19-88cd-f0c332585955\")>,\n",
       " <selenium.webdriver.remote.webelement.WebElement (session=\"9bde793edcb297abb9fec0832033d936\", element=\"0ad6a6ae-a699-4c98-ba25-28d3361e3f9d\")>,\n",
       " <selenium.webdriver.remote.webelement.WebElement (session=\"9bde793edcb297abb9fec0832033d936\", element=\"54b680b3-f0d0-4561-88c6-5625491caa96\")>,\n",
       " <selenium.webdriver.remote.webelement.WebElement (session=\"9bde793edcb297abb9fec0832033d936\", element=\"5d8e3ab2-cbaa-4bc3-af08-ca6fba20e2fd\")>,\n",
       " <selenium.webdriver.remote.webelement.WebElement (session=\"9bde793edcb297abb9fec0832033d936\", element=\"f2518a36-3304-4316-95f6-78f189034d14\")>,\n",
       " <selenium.webdriver.remote.webelement.WebElement (session=\"9bde793edcb297abb9fec0832033d936\", element=\"fa763042-9a58-4d78-b319-fcdec8978043\")>,\n",
       " <selenium.webdriver.remote.webelement.WebElement (session=\"9bde793edcb297abb9fec0832033d936\", element=\"f2cb1f53-eb4d-44cd-a79f-159e92ee9a29\")>,\n",
       " <selenium.webdriver.remote.webelement.WebElement (session=\"9bde793edcb297abb9fec0832033d936\", element=\"4581bf01-6337-4288-81b3-dd7d0f55a915\")>,\n",
       " <selenium.webdriver.remote.webelement.WebElement (session=\"9bde793edcb297abb9fec0832033d936\", element=\"ac88a5da-8485-4f37-89aa-f3c4ae9c91fc\")>]"
      ]
     },
     "execution_count": 17,
     "metadata": {},
     "output_type": "execute_result"
    }
   ],
   "source": [
    "header2=browser.find_elements(\"xpath\",\"//div[@class='td-wrap-in']\")\n",
    "header2"
   ]
  },
  {
   "cell_type": "code",
   "execution_count": 18,
   "id": "67675302",
   "metadata": {},
   "outputs": [
    {
     "data": {
      "text/plain": [
       "['91.3', '99.3', '96.5', '96.7', '87.3', '36.9', '57.1', '77.5', '91.4']"
      ]
     },
     "execution_count": 18,
     "metadata": {},
     "output_type": "execute_result"
    }
   ],
   "source": [
    "#PARSING DATA\n",
    "value_head=[]\n",
    "for data in header2:\n",
    "    #get the text data\n",
    "    temp=data.text\n",
    "    value_head.append(temp)\n",
    "value=value_head[11:20]\n",
    "value"
   ]
  },
  {
   "cell_type": "code",
   "execution_count": 20,
   "id": "613e75ff",
   "metadata": {},
   "outputs": [
    {
     "data": {
      "text/plain": [
       "{'Name': 'Peking University',\n",
       " 'Location': 'Beijing, China (Mainland)',\n",
       " 'Rank': '12',\n",
       " 'Overall Score': 'National University of Singapore (NUS)',\n",
       " 'Academic Reputation': '92.7',\n",
       " 'Employer Reputation': '99.5',\n",
       " 'Citations per Faculty': '94.1',\n",
       " 'Faculty Student Ratio': '91.8',\n",
       " 'International Students Ratio': '79.8',\n",
       " 'International Faculty Ratio': '73.5',\n",
       " 'International Research Network\\nUnweighted': '100',\n",
       " 'Employment Outcomes\\nUnweighted': '89.9'}"
      ]
     },
     "execution_count": 20,
     "metadata": {},
     "output_type": "execute_result"
    }
   ],
   "source": [
    "d={}\n",
    "d['Name']=value_head[10]\n",
    "d['Location']=loc[1]\n",
    "d['Rank']=RANK[1]\n",
    "for i in range(len(column_head)):\n",
    "    d[column_head[i]]=value[i]\n",
    "d"
   ]
  },
  {
   "cell_type": "code",
   "execution_count": 21,
   "id": "dd5d5eab",
   "metadata": {},
   "outputs": [
    {
     "data": {
      "text/plain": [
       "'{\"Name\": \"Peking University\", \"Location\": \"Beijing, China (Mainland)\", \"Rank\": \"12\", \"Overall Score\": \"National University of Singapore (NUS)\", \"Academic Reputation\": \"92.7\", \"Employer Reputation\": \"99.5\", \"Citations per Faculty\": \"94.1\", \"Faculty Student Ratio\": \"91.8\", \"International Students Ratio\": \"79.8\", \"International Faculty Ratio\": \"73.5\", \"International Research Network\\\\nUnweighted\": \"100\", \"Employment Outcomes\\\\nUnweighted\": \"89.9\"}'"
      ]
     },
     "execution_count": 21,
     "metadata": {},
     "output_type": "execute_result"
    }
   ],
   "source": [
    "s1=json.dumps(d)\n",
    "s1"
   ]
  },
  {
   "cell_type": "code",
   "execution_count": 22,
   "id": "f20a31f8",
   "metadata": {},
   "outputs": [],
   "source": [
    "with open('Peking University.json','w') as f:\n",
    "    json.dump(d,f)"
   ]
  },
  {
   "cell_type": "code",
   "execution_count": null,
   "id": "0ce76620",
   "metadata": {},
   "outputs": [],
   "source": []
  }
 ],
 "metadata": {
  "kernelspec": {
   "display_name": "Python 3 (ipykernel)",
   "language": "python",
   "name": "python3"
  },
  "language_info": {
   "codemirror_mode": {
    "name": "ipython",
    "version": 3
   },
   "file_extension": ".py",
   "mimetype": "text/x-python",
   "name": "python",
   "nbconvert_exporter": "python",
   "pygments_lexer": "ipython3",
   "version": "3.9.12"
  }
 },
 "nbformat": 4,
 "nbformat_minor": 5
}
