{
 "cells": [
  {
   "cell_type": "code",
   "execution_count": 12,
   "id": "9cb9127f",
   "metadata": {},
   "outputs": [],
   "source": [
    "from selenium import webdriver\n",
    "from selenium.webdriver.chrome.service import Service\n",
    "import pandas as pd\n",
    "import json"
   ]
  },
  {
   "cell_type": "code",
   "execution_count": 13,
   "id": "efb0bb45",
   "metadata": {},
   "outputs": [],
   "source": [
    "path = Service('C:\\chromedriver.exe')"
   ]
  },
  {
   "cell_type": "code",
   "execution_count": 14,
   "id": "1ae5c6cf",
   "metadata": {},
   "outputs": [],
   "source": [
    "\n",
    "# set path for the driver\n",
    "browser = webdriver.Chrome(service = path)"
   ]
  },
  {
   "cell_type": "code",
   "execution_count": 15,
   "id": "f06089ef",
   "metadata": {},
   "outputs": [],
   "source": [
    "url = \"https://www.topuniversities.com/university-rankings/world-university-rankings/2023\""
   ]
  },
  {
   "cell_type": "code",
   "execution_count": 16,
   "id": "7ee86c21",
   "metadata": {},
   "outputs": [],
   "source": [
    "# open the page url ion chrome\n",
    "browser.get(url)"
   ]
  },
  {
   "cell_type": "code",
   "execution_count": 17,
   "id": "15534a97",
   "metadata": {},
   "outputs": [
    {
     "data": {
      "text/plain": [
       "[<selenium.webdriver.remote.webelement.WebElement (session=\"460f37dbdf0a5efb0a38892126142563\", element=\"de69792b-d5c7-4bc7-a164-2b3916c3158e\")>,\n",
       " <selenium.webdriver.remote.webelement.WebElement (session=\"460f37dbdf0a5efb0a38892126142563\", element=\"89d2b55d-46d7-4590-ab7c-d5b06da7707b\")>,\n",
       " <selenium.webdriver.remote.webelement.WebElement (session=\"460f37dbdf0a5efb0a38892126142563\", element=\"3ead165b-affe-4d08-99b4-6cec81ac6183\")>,\n",
       " <selenium.webdriver.remote.webelement.WebElement (session=\"460f37dbdf0a5efb0a38892126142563\", element=\"d2a2a269-f6e9-4976-8927-07c78681565d\")>,\n",
       " <selenium.webdriver.remote.webelement.WebElement (session=\"460f37dbdf0a5efb0a38892126142563\", element=\"b6c80bbb-ff37-4846-ac6e-77cf7b8b420d\")>,\n",
       " <selenium.webdriver.remote.webelement.WebElement (session=\"460f37dbdf0a5efb0a38892126142563\", element=\"44dc48c7-c58f-4b13-96bc-c5e696900f5a\")>,\n",
       " <selenium.webdriver.remote.webelement.WebElement (session=\"460f37dbdf0a5efb0a38892126142563\", element=\"92a3e86f-d4b6-4e89-b934-365c2549b3bb\")>,\n",
       " <selenium.webdriver.remote.webelement.WebElement (session=\"460f37dbdf0a5efb0a38892126142563\", element=\"73a53f3a-38f2-4455-ba12-34181f95e5d4\")>,\n",
       " <selenium.webdriver.remote.webelement.WebElement (session=\"460f37dbdf0a5efb0a38892126142563\", element=\"9b2e35d4-73d5-4a7e-a6e9-d7b5fe293807\")>,\n",
       " <selenium.webdriver.remote.webelement.WebElement (session=\"460f37dbdf0a5efb0a38892126142563\", element=\"3876ed91-16f6-4b61-83f1-0702f16666fc\")>,\n",
       " <selenium.webdriver.remote.webelement.WebElement (session=\"460f37dbdf0a5efb0a38892126142563\", element=\"0bb98ed4-b16e-4dec-957c-8bcbbc55cf79\")>,\n",
       " <selenium.webdriver.remote.webelement.WebElement (session=\"460f37dbdf0a5efb0a38892126142563\", element=\"184606de-092b-482c-8745-b4fac87846e3\")>,\n",
       " <selenium.webdriver.remote.webelement.WebElement (session=\"460f37dbdf0a5efb0a38892126142563\", element=\"370cb471-1878-4f35-871f-0e41820c4483\")>,\n",
       " <selenium.webdriver.remote.webelement.WebElement (session=\"460f37dbdf0a5efb0a38892126142563\", element=\"11c3abc4-a031-40ff-9771-201029b36ce9\")>,\n",
       " <selenium.webdriver.remote.webelement.WebElement (session=\"460f37dbdf0a5efb0a38892126142563\", element=\"ff10839c-9be2-4d48-9c62-d5a2223a3d47\")>,\n",
       " <selenium.webdriver.remote.webelement.WebElement (session=\"460f37dbdf0a5efb0a38892126142563\", element=\"d31b3fe2-76ef-4217-9e9d-cfcab8bc195f\")>,\n",
       " <selenium.webdriver.remote.webelement.WebElement (session=\"460f37dbdf0a5efb0a38892126142563\", element=\"a227de1e-1a01-4e38-9f55-200cf4d472dc\")>,\n",
       " <selenium.webdriver.remote.webelement.WebElement (session=\"460f37dbdf0a5efb0a38892126142563\", element=\"fe575355-5aa2-42f2-ba03-18c0d748d135\")>,\n",
       " <selenium.webdriver.remote.webelement.WebElement (session=\"460f37dbdf0a5efb0a38892126142563\", element=\"51d39b82-da58-4e03-ae4d-2cc605c44660\")>,\n",
       " <selenium.webdriver.remote.webelement.WebElement (session=\"460f37dbdf0a5efb0a38892126142563\", element=\"db358df6-bb19-459c-a93d-23cc89824bc7\")>]"
      ]
     },
     "execution_count": 17,
     "metadata": {},
     "output_type": "execute_result"
    }
   ],
   "source": [
    "l1=browser.find_elements(\"xpath\",\"//div[@class='location ']\")\n",
    "l1"
   ]
  },
  {
   "cell_type": "code",
   "execution_count": 18,
   "id": "67c95694",
   "metadata": {},
   "outputs": [
    {
     "data": {
      "text/plain": [
       "[' Hong Kong SAR',\n",
       " 'New York City, United States',\n",
       " 'Tokyo, Japan',\n",
       " 'Baltimore, United States',\n",
       " 'Ann Arbor, United States',\n",
       " 'Paris, France',\n",
       " 'Berkeley, United States',\n",
       " 'Manchester, United Kingdom',\n",
       " 'Seoul, South Korea',\n",
       " 'Canberra, Australia']"
      ]
     },
     "execution_count": 18,
     "metadata": {},
     "output_type": "execute_result"
    }
   ],
   "source": [
    "loc=[]\n",
    "for data in l1:\n",
    "    #get the text data\n",
    "    temp=data.text\n",
    "    loc.append(temp)\n",
    "loc=loc[10:]\n",
    "loc"
   ]
  },
  {
   "cell_type": "code",
   "execution_count": 19,
   "id": "1d308932",
   "metadata": {},
   "outputs": [
    {
     "data": {
      "text/plain": [
       "[<selenium.webdriver.remote.webelement.WebElement (session=\"460f37dbdf0a5efb0a38892126142563\", element=\"a7cb9519-51fa-42df-a6cd-e62afb95cb1d\")>,\n",
       " <selenium.webdriver.remote.webelement.WebElement (session=\"460f37dbdf0a5efb0a38892126142563\", element=\"bd5de0db-f3d7-4884-a61e-1511a8193cb6\")>,\n",
       " <selenium.webdriver.remote.webelement.WebElement (session=\"460f37dbdf0a5efb0a38892126142563\", element=\"c7f1496f-e636-46bd-8afa-85989ec34c58\")>,\n",
       " <selenium.webdriver.remote.webelement.WebElement (session=\"460f37dbdf0a5efb0a38892126142563\", element=\"315630ec-ab98-4250-89ac-731b719922f7\")>,\n",
       " <selenium.webdriver.remote.webelement.WebElement (session=\"460f37dbdf0a5efb0a38892126142563\", element=\"9ee69004-7db3-43e6-8a96-0b29c520920f\")>,\n",
       " <selenium.webdriver.remote.webelement.WebElement (session=\"460f37dbdf0a5efb0a38892126142563\", element=\"0013adb4-c13d-4401-af22-f7e0e1061af9\")>,\n",
       " <selenium.webdriver.remote.webelement.WebElement (session=\"460f37dbdf0a5efb0a38892126142563\", element=\"4840f99c-2ee7-420a-ac26-c880d9a0126f\")>,\n",
       " <selenium.webdriver.remote.webelement.WebElement (session=\"460f37dbdf0a5efb0a38892126142563\", element=\"14c3d1b1-5fe6-4ad4-94ad-84a0fa19eefc\")>,\n",
       " <selenium.webdriver.remote.webelement.WebElement (session=\"460f37dbdf0a5efb0a38892126142563\", element=\"978c1621-e389-4c03-869c-5525f05f553a\")>,\n",
       " <selenium.webdriver.remote.webelement.WebElement (session=\"460f37dbdf0a5efb0a38892126142563\", element=\"0eeb4dd6-15ff-4ce7-a3c6-932b4a932ef6\")>]"
      ]
     },
     "execution_count": 19,
     "metadata": {},
     "output_type": "execute_result"
    }
   ],
   "source": [
    "l2=browser.find_elements(\"xpath\",\"//div[@class='_univ-rank ']\")\n",
    "l2\n"
   ]
  },
  {
   "cell_type": "code",
   "execution_count": 20,
   "id": "71220c3d",
   "metadata": {},
   "outputs": [
    {
     "data": {
      "text/plain": [
       "['21', '22', '23', '24', '25', '26', '27', '28', '29', '30']"
      ]
     },
     "execution_count": 20,
     "metadata": {},
     "output_type": "execute_result"
    }
   ],
   "source": [
    "RANK=[]\n",
    "for data in l2:\n",
    "    #get the text data\n",
    "    temp=data.text\n",
    "    RANK.append(temp)\n",
    "RANK"
   ]
  },
  {
   "cell_type": "code",
   "execution_count": 21,
   "id": "192b9fdc",
   "metadata": {},
   "outputs": [
    {
     "data": {
      "text/plain": [
       "[<selenium.webdriver.remote.webelement.WebElement (session=\"460f37dbdf0a5efb0a38892126142563\", element=\"a7256d4e-e18d-427d-8e72-ad3e3b785b29\")>,\n",
       " <selenium.webdriver.remote.webelement.WebElement (session=\"460f37dbdf0a5efb0a38892126142563\", element=\"24cf7137-0fd6-460e-aa93-8ebb4e5477f6\")>,\n",
       " <selenium.webdriver.remote.webelement.WebElement (session=\"460f37dbdf0a5efb0a38892126142563\", element=\"0639762f-526e-4c84-87fd-a90fd3e6ffbd\")>,\n",
       " <selenium.webdriver.remote.webelement.WebElement (session=\"460f37dbdf0a5efb0a38892126142563\", element=\"702c2966-2459-4835-8513-ff4c664f3cbd\")>,\n",
       " <selenium.webdriver.remote.webelement.WebElement (session=\"460f37dbdf0a5efb0a38892126142563\", element=\"ba26bded-f949-4105-956c-711f6c07b10f\")>,\n",
       " <selenium.webdriver.remote.webelement.WebElement (session=\"460f37dbdf0a5efb0a38892126142563\", element=\"95d0e6a3-3146-4932-9282-a0cf296295bc\")>,\n",
       " <selenium.webdriver.remote.webelement.WebElement (session=\"460f37dbdf0a5efb0a38892126142563\", element=\"637bdaa6-8ba2-4b40-b4b2-91b2154dc2ed\")>,\n",
       " <selenium.webdriver.remote.webelement.WebElement (session=\"460f37dbdf0a5efb0a38892126142563\", element=\"34e7ee45-e379-452a-aa58-1641b55e998f\")>,\n",
       " <selenium.webdriver.remote.webelement.WebElement (session=\"460f37dbdf0a5efb0a38892126142563\", element=\"eb4e91bb-444f-456a-9ba1-420491999273\")>]"
      ]
     },
     "execution_count": 21,
     "metadata": {},
     "output_type": "execute_result"
    }
   ],
   "source": [
    "# GET EACH COLLEGE SPECIFICATION HEADERS\n",
    "header=browser.find_elements(\"xpath\",\"//div[@class='_click-function_ind']\")\n",
    "header"
   ]
  },
  {
   "cell_type": "code",
   "execution_count": 22,
   "id": "5e4537fd",
   "metadata": {},
   "outputs": [
    {
     "data": {
      "text/plain": [
       "['Overall Score',\n",
       " 'Academic Reputation',\n",
       " 'Employer Reputation',\n",
       " 'Citations per Faculty',\n",
       " 'Faculty Student Ratio',\n",
       " 'International Students Ratio',\n",
       " 'International Faculty Ratio',\n",
       " 'International Research Network\\nUnweighted',\n",
       " 'Employment Outcomes\\nUnweighted']"
      ]
     },
     "execution_count": 22,
     "metadata": {},
     "output_type": "execute_result"
    }
   ],
   "source": [
    "#PARSING DATA\n",
    "column_head=[]\n",
    "for data in header:\n",
    "    #get the text data\n",
    "    temp=data.text\n",
    "    column_head.append(temp)\n",
    "column_head"
   ]
  },
  {
   "cell_type": "code",
   "execution_count": 23,
   "id": "3e23ec92",
   "metadata": {},
   "outputs": [
    {
     "data": {
      "text/plain": [
       "[<selenium.webdriver.remote.webelement.WebElement (session=\"460f37dbdf0a5efb0a38892126142563\", element=\"a26a3a60-54f3-4519-986b-76d4e94fd738\")>,\n",
       " <selenium.webdriver.remote.webelement.WebElement (session=\"460f37dbdf0a5efb0a38892126142563\", element=\"4a745036-7ef7-46f2-8009-f101ab96337c\")>,\n",
       " <selenium.webdriver.remote.webelement.WebElement (session=\"460f37dbdf0a5efb0a38892126142563\", element=\"3ce7559b-2e8d-4614-86e3-bcf24b52ce3f\")>,\n",
       " <selenium.webdriver.remote.webelement.WebElement (session=\"460f37dbdf0a5efb0a38892126142563\", element=\"9ee3768a-08bb-4e14-a3d0-4d06a26f53ed\")>,\n",
       " <selenium.webdriver.remote.webelement.WebElement (session=\"460f37dbdf0a5efb0a38892126142563\", element=\"0b9870d8-d73d-44f0-a1bf-8f192c35efb9\")>,\n",
       " <selenium.webdriver.remote.webelement.WebElement (session=\"460f37dbdf0a5efb0a38892126142563\", element=\"dfd2837f-3d6b-42e6-aed6-d2099413e517\")>,\n",
       " <selenium.webdriver.remote.webelement.WebElement (session=\"460f37dbdf0a5efb0a38892126142563\", element=\"94f7e59b-be39-46e8-a167-f91b685b3c8d\")>,\n",
       " <selenium.webdriver.remote.webelement.WebElement (session=\"460f37dbdf0a5efb0a38892126142563\", element=\"4bdfe493-b9ec-46c5-a169-aeb36b148039\")>,\n",
       " <selenium.webdriver.remote.webelement.WebElement (session=\"460f37dbdf0a5efb0a38892126142563\", element=\"4afe0f5e-feb0-47a6-b63f-a7a3f3080ef5\")>,\n",
       " <selenium.webdriver.remote.webelement.WebElement (session=\"460f37dbdf0a5efb0a38892126142563\", element=\"1aff81b2-caad-4e1d-89c4-75c0f39b1286\")>,\n",
       " <selenium.webdriver.remote.webelement.WebElement (session=\"460f37dbdf0a5efb0a38892126142563\", element=\"b1e65906-2f4d-4916-824d-7aeba1112d09\")>,\n",
       " <selenium.webdriver.remote.webelement.WebElement (session=\"460f37dbdf0a5efb0a38892126142563\", element=\"fbfb91dc-d5e8-4a9c-b792-de387d03365c\")>,\n",
       " <selenium.webdriver.remote.webelement.WebElement (session=\"460f37dbdf0a5efb0a38892126142563\", element=\"a07a9746-83e1-4bfb-888d-662d8da2ab41\")>,\n",
       " <selenium.webdriver.remote.webelement.WebElement (session=\"460f37dbdf0a5efb0a38892126142563\", element=\"ab91de35-e1c4-4624-8e29-17922c725b80\")>,\n",
       " <selenium.webdriver.remote.webelement.WebElement (session=\"460f37dbdf0a5efb0a38892126142563\", element=\"d412bf78-e895-4821-bd38-d3b1b65edf24\")>,\n",
       " <selenium.webdriver.remote.webelement.WebElement (session=\"460f37dbdf0a5efb0a38892126142563\", element=\"d29032de-1040-4162-8ddc-6ef047ab5e14\")>,\n",
       " <selenium.webdriver.remote.webelement.WebElement (session=\"460f37dbdf0a5efb0a38892126142563\", element=\"0745408b-c0e3-45bb-9f39-8c39f369cb4e\")>,\n",
       " <selenium.webdriver.remote.webelement.WebElement (session=\"460f37dbdf0a5efb0a38892126142563\", element=\"cf8d1b4c-5c36-4767-8948-eaee28e6be32\")>,\n",
       " <selenium.webdriver.remote.webelement.WebElement (session=\"460f37dbdf0a5efb0a38892126142563\", element=\"b60648b5-30fb-4d09-a078-72f7a560b6d8\")>,\n",
       " <selenium.webdriver.remote.webelement.WebElement (session=\"460f37dbdf0a5efb0a38892126142563\", element=\"a4858bf3-f0cb-4ce5-a311-7e2b04656a9e\")>,\n",
       " <selenium.webdriver.remote.webelement.WebElement (session=\"460f37dbdf0a5efb0a38892126142563\", element=\"53ba2a12-8d27-4fa6-880c-916f118041c8\")>,\n",
       " <selenium.webdriver.remote.webelement.WebElement (session=\"460f37dbdf0a5efb0a38892126142563\", element=\"19d243cc-6f10-4eea-879a-4bf7a7615e38\")>,\n",
       " <selenium.webdriver.remote.webelement.WebElement (session=\"460f37dbdf0a5efb0a38892126142563\", element=\"926075f2-c1f4-4994-b3e3-2bfbf811c359\")>,\n",
       " <selenium.webdriver.remote.webelement.WebElement (session=\"460f37dbdf0a5efb0a38892126142563\", element=\"0fc088fe-4d92-42ad-8e25-495f0c8013fc\")>,\n",
       " <selenium.webdriver.remote.webelement.WebElement (session=\"460f37dbdf0a5efb0a38892126142563\", element=\"4a7f30e5-db3d-49ef-a7fc-680a36eb3c92\")>,\n",
       " <selenium.webdriver.remote.webelement.WebElement (session=\"460f37dbdf0a5efb0a38892126142563\", element=\"046a7f88-278c-484f-9228-fcd5057feb4d\")>,\n",
       " <selenium.webdriver.remote.webelement.WebElement (session=\"460f37dbdf0a5efb0a38892126142563\", element=\"3d89cd62-9e0b-4123-ad77-6ed2ddb75d5f\")>,\n",
       " <selenium.webdriver.remote.webelement.WebElement (session=\"460f37dbdf0a5efb0a38892126142563\", element=\"ac16f3e0-d217-465a-8b93-5d28837d89f5\")>,\n",
       " <selenium.webdriver.remote.webelement.WebElement (session=\"460f37dbdf0a5efb0a38892126142563\", element=\"ea0b9bf4-17e5-4f50-a3b3-56c1d1ba6a2e\")>,\n",
       " <selenium.webdriver.remote.webelement.WebElement (session=\"460f37dbdf0a5efb0a38892126142563\", element=\"f07e91f2-c64c-4abc-b82e-bdae10e0ee1d\")>,\n",
       " <selenium.webdriver.remote.webelement.WebElement (session=\"460f37dbdf0a5efb0a38892126142563\", element=\"8360e45e-fa70-4824-b193-92421e64f216\")>,\n",
       " <selenium.webdriver.remote.webelement.WebElement (session=\"460f37dbdf0a5efb0a38892126142563\", element=\"c812b2d0-905d-4507-9ea0-8f5a0c4aa3a7\")>,\n",
       " <selenium.webdriver.remote.webelement.WebElement (session=\"460f37dbdf0a5efb0a38892126142563\", element=\"e64b29e7-0ae7-4285-8931-cee800af6f3e\")>,\n",
       " <selenium.webdriver.remote.webelement.WebElement (session=\"460f37dbdf0a5efb0a38892126142563\", element=\"3a8e4037-d02a-4b67-9897-57285007cfa5\")>,\n",
       " <selenium.webdriver.remote.webelement.WebElement (session=\"460f37dbdf0a5efb0a38892126142563\", element=\"847a4720-3bce-463a-8765-2b0e634dca45\")>,\n",
       " <selenium.webdriver.remote.webelement.WebElement (session=\"460f37dbdf0a5efb0a38892126142563\", element=\"e1b72727-897d-4e3e-b014-aac5eb0469a3\")>,\n",
       " <selenium.webdriver.remote.webelement.WebElement (session=\"460f37dbdf0a5efb0a38892126142563\", element=\"3b7c5b98-453d-45b3-9510-15c0cd5c8084\")>,\n",
       " <selenium.webdriver.remote.webelement.WebElement (session=\"460f37dbdf0a5efb0a38892126142563\", element=\"af652cfd-51ab-4740-9846-f9202a2756e0\")>,\n",
       " <selenium.webdriver.remote.webelement.WebElement (session=\"460f37dbdf0a5efb0a38892126142563\", element=\"c50c2908-b009-4310-80e3-ea74f6c59673\")>,\n",
       " <selenium.webdriver.remote.webelement.WebElement (session=\"460f37dbdf0a5efb0a38892126142563\", element=\"9817bc5b-3914-45ca-8dcc-206ac76207b0\")>,\n",
       " <selenium.webdriver.remote.webelement.WebElement (session=\"460f37dbdf0a5efb0a38892126142563\", element=\"3d07c15b-180b-477d-9236-c645b7bf66c0\")>,\n",
       " <selenium.webdriver.remote.webelement.WebElement (session=\"460f37dbdf0a5efb0a38892126142563\", element=\"fb061b21-616b-4ecb-8b39-ebe6bef2b19c\")>,\n",
       " <selenium.webdriver.remote.webelement.WebElement (session=\"460f37dbdf0a5efb0a38892126142563\", element=\"d8088dd9-dc76-48dd-9054-1fa6fb551ffa\")>,\n",
       " <selenium.webdriver.remote.webelement.WebElement (session=\"460f37dbdf0a5efb0a38892126142563\", element=\"a54dcb9c-ab14-4b50-aab4-fd681a4aa6de\")>,\n",
       " <selenium.webdriver.remote.webelement.WebElement (session=\"460f37dbdf0a5efb0a38892126142563\", element=\"8d51c683-1743-4839-9925-52eaf238bf83\")>,\n",
       " <selenium.webdriver.remote.webelement.WebElement (session=\"460f37dbdf0a5efb0a38892126142563\", element=\"f80cb7e4-712b-4b11-9508-32c41e2ee3af\")>,\n",
       " <selenium.webdriver.remote.webelement.WebElement (session=\"460f37dbdf0a5efb0a38892126142563\", element=\"07aa7dd9-806b-41ae-af12-95c6d26614fd\")>,\n",
       " <selenium.webdriver.remote.webelement.WebElement (session=\"460f37dbdf0a5efb0a38892126142563\", element=\"d72902a2-9fa1-4403-abfe-98db7b19132b\")>,\n",
       " <selenium.webdriver.remote.webelement.WebElement (session=\"460f37dbdf0a5efb0a38892126142563\", element=\"b6b79caf-4102-4702-8839-7a8404e0beb3\")>,\n",
       " <selenium.webdriver.remote.webelement.WebElement (session=\"460f37dbdf0a5efb0a38892126142563\", element=\"b0bdb044-6fa5-4501-8415-c1769c948543\")>,\n",
       " <selenium.webdriver.remote.webelement.WebElement (session=\"460f37dbdf0a5efb0a38892126142563\", element=\"097a0fe6-898a-44c5-8b8d-410053e7fea8\")>,\n",
       " <selenium.webdriver.remote.webelement.WebElement (session=\"460f37dbdf0a5efb0a38892126142563\", element=\"05afad90-9228-447e-bdf5-945004563140\")>,\n",
       " <selenium.webdriver.remote.webelement.WebElement (session=\"460f37dbdf0a5efb0a38892126142563\", element=\"f03a9848-5489-401e-8f0a-9721ed795416\")>,\n",
       " <selenium.webdriver.remote.webelement.WebElement (session=\"460f37dbdf0a5efb0a38892126142563\", element=\"a4281e7b-f230-474e-a2cb-5854c45160e0\")>,\n",
       " <selenium.webdriver.remote.webelement.WebElement (session=\"460f37dbdf0a5efb0a38892126142563\", element=\"58417845-1f3c-487c-a162-64b4d309df3a\")>,\n",
       " <selenium.webdriver.remote.webelement.WebElement (session=\"460f37dbdf0a5efb0a38892126142563\", element=\"a5b73383-f73c-48c4-84cf-1458f1bb0711\")>,\n",
       " <selenium.webdriver.remote.webelement.WebElement (session=\"460f37dbdf0a5efb0a38892126142563\", element=\"af131eae-decb-4fb8-bf1b-4c5325f2a68f\")>,\n",
       " <selenium.webdriver.remote.webelement.WebElement (session=\"460f37dbdf0a5efb0a38892126142563\", element=\"763147b9-9fa4-4fa8-9c1e-51a26c71c633\")>,\n",
       " <selenium.webdriver.remote.webelement.WebElement (session=\"460f37dbdf0a5efb0a38892126142563\", element=\"86efdb69-d0fb-4ddd-a928-cfb9e134da62\")>,\n",
       " <selenium.webdriver.remote.webelement.WebElement (session=\"460f37dbdf0a5efb0a38892126142563\", element=\"67740249-3c7b-4e23-8f4c-16b7aa29a5c7\")>,\n",
       " <selenium.webdriver.remote.webelement.WebElement (session=\"460f37dbdf0a5efb0a38892126142563\", element=\"bab652ad-6e14-4f5d-a422-6c064cc74823\")>,\n",
       " <selenium.webdriver.remote.webelement.WebElement (session=\"460f37dbdf0a5efb0a38892126142563\", element=\"83c710d4-9824-4e1b-8aef-635ca464a5ed\")>,\n",
       " <selenium.webdriver.remote.webelement.WebElement (session=\"460f37dbdf0a5efb0a38892126142563\", element=\"be523393-8249-4545-8cd7-958d01a23d80\")>,\n",
       " <selenium.webdriver.remote.webelement.WebElement (session=\"460f37dbdf0a5efb0a38892126142563\", element=\"52783036-b346-47a2-a6cc-fddfb78dd13b\")>,\n",
       " <selenium.webdriver.remote.webelement.WebElement (session=\"460f37dbdf0a5efb0a38892126142563\", element=\"f8c43e99-c995-4ddf-bce0-6562399855cd\")>,\n",
       " <selenium.webdriver.remote.webelement.WebElement (session=\"460f37dbdf0a5efb0a38892126142563\", element=\"69befa27-6c99-4246-b5b1-7ac8d40e0dea\")>,\n",
       " <selenium.webdriver.remote.webelement.WebElement (session=\"460f37dbdf0a5efb0a38892126142563\", element=\"8bcc5376-a790-412c-8a51-e5fab2464ea0\")>,\n",
       " <selenium.webdriver.remote.webelement.WebElement (session=\"460f37dbdf0a5efb0a38892126142563\", element=\"79f17e4c-76c0-4179-97dd-ec36f3e5f906\")>,\n",
       " <selenium.webdriver.remote.webelement.WebElement (session=\"460f37dbdf0a5efb0a38892126142563\", element=\"c753b37a-4b42-4348-a8de-acba776cea5c\")>,\n",
       " <selenium.webdriver.remote.webelement.WebElement (session=\"460f37dbdf0a5efb0a38892126142563\", element=\"06efc684-6e4c-4abf-a365-18c2de990855\")>,\n",
       " <selenium.webdriver.remote.webelement.WebElement (session=\"460f37dbdf0a5efb0a38892126142563\", element=\"1c3ceb20-4f4b-4064-b4c5-597eaf442043\")>,\n",
       " <selenium.webdriver.remote.webelement.WebElement (session=\"460f37dbdf0a5efb0a38892126142563\", element=\"94a83730-2689-417d-9854-acc6da5e9b5e\")>,\n",
       " <selenium.webdriver.remote.webelement.WebElement (session=\"460f37dbdf0a5efb0a38892126142563\", element=\"3915d6f3-8919-4052-8c38-bb29a71f6125\")>,\n",
       " <selenium.webdriver.remote.webelement.WebElement (session=\"460f37dbdf0a5efb0a38892126142563\", element=\"7660b95d-c987-4103-a444-43596565aaeb\")>,\n",
       " <selenium.webdriver.remote.webelement.WebElement (session=\"460f37dbdf0a5efb0a38892126142563\", element=\"915de41b-46a2-4928-9697-a1b59df29bee\")>,\n",
       " <selenium.webdriver.remote.webelement.WebElement (session=\"460f37dbdf0a5efb0a38892126142563\", element=\"b28fd353-6e43-4bc7-9add-8af67f59e3ef\")>,\n",
       " <selenium.webdriver.remote.webelement.WebElement (session=\"460f37dbdf0a5efb0a38892126142563\", element=\"c7cdef92-2c1d-48af-8d93-d6edb7b0064b\")>,\n",
       " <selenium.webdriver.remote.webelement.WebElement (session=\"460f37dbdf0a5efb0a38892126142563\", element=\"03799ca1-b3be-413c-b666-ba36878555e7\")>,\n",
       " <selenium.webdriver.remote.webelement.WebElement (session=\"460f37dbdf0a5efb0a38892126142563\", element=\"12048c77-b027-40aa-a8ef-39389d700a6b\")>,\n",
       " <selenium.webdriver.remote.webelement.WebElement (session=\"460f37dbdf0a5efb0a38892126142563\", element=\"2a967160-bfa5-45b4-99be-2c6c6d2d9bbd\")>,\n",
       " <selenium.webdriver.remote.webelement.WebElement (session=\"460f37dbdf0a5efb0a38892126142563\", element=\"60537b7d-6c2d-4dc8-a122-5983badab731\")>,\n",
       " <selenium.webdriver.remote.webelement.WebElement (session=\"460f37dbdf0a5efb0a38892126142563\", element=\"57921657-3fde-4f17-aaca-f1dd84e85ddc\")>,\n",
       " <selenium.webdriver.remote.webelement.WebElement (session=\"460f37dbdf0a5efb0a38892126142563\", element=\"4bffa5e6-d81d-4148-8555-59f7aea13238\")>,\n",
       " <selenium.webdriver.remote.webelement.WebElement (session=\"460f37dbdf0a5efb0a38892126142563\", element=\"5b3573e8-1fbe-4057-a208-87352aaf4d61\")>,\n",
       " <selenium.webdriver.remote.webelement.WebElement (session=\"460f37dbdf0a5efb0a38892126142563\", element=\"b9c212a2-b737-4b50-808e-197468db8e78\")>,\n",
       " <selenium.webdriver.remote.webelement.WebElement (session=\"460f37dbdf0a5efb0a38892126142563\", element=\"9f1f3cce-364c-41d4-a1e9-57eb5929f8e5\")>,\n",
       " <selenium.webdriver.remote.webelement.WebElement (session=\"460f37dbdf0a5efb0a38892126142563\", element=\"0668c9c9-fc35-4a1a-b87b-429caefcf436\")>,\n",
       " <selenium.webdriver.remote.webelement.WebElement (session=\"460f37dbdf0a5efb0a38892126142563\", element=\"42e814ef-6e11-4a56-8ca7-23816c58233f\")>,\n",
       " <selenium.webdriver.remote.webelement.WebElement (session=\"460f37dbdf0a5efb0a38892126142563\", element=\"3937880c-cfb5-4e78-8c71-438f9ca07422\")>,\n",
       " <selenium.webdriver.remote.webelement.WebElement (session=\"460f37dbdf0a5efb0a38892126142563\", element=\"d5cea869-e747-4827-9a90-66fed67c977b\")>,\n",
       " <selenium.webdriver.remote.webelement.WebElement (session=\"460f37dbdf0a5efb0a38892126142563\", element=\"499c8ed6-1818-4062-91ff-ceb11e940e60\")>,\n",
       " <selenium.webdriver.remote.webelement.WebElement (session=\"460f37dbdf0a5efb0a38892126142563\", element=\"6c0b7b56-ea23-4db4-819e-aecf1c42b463\")>,\n",
       " <selenium.webdriver.remote.webelement.WebElement (session=\"460f37dbdf0a5efb0a38892126142563\", element=\"19168689-70e9-4b7d-8c4d-4abc77a8b7c2\")>,\n",
       " <selenium.webdriver.remote.webelement.WebElement (session=\"460f37dbdf0a5efb0a38892126142563\", element=\"72a16b5b-a87e-4028-b975-6f9d842abb72\")>,\n",
       " <selenium.webdriver.remote.webelement.WebElement (session=\"460f37dbdf0a5efb0a38892126142563\", element=\"d1b8a8bf-1afc-48eb-bda1-ec31bfa88137\")>,\n",
       " <selenium.webdriver.remote.webelement.WebElement (session=\"460f37dbdf0a5efb0a38892126142563\", element=\"0d1cae27-1054-4190-92ec-ae7cb969287a\")>,\n",
       " <selenium.webdriver.remote.webelement.WebElement (session=\"460f37dbdf0a5efb0a38892126142563\", element=\"d1b411ca-a849-4ba1-8f47-7774f701cf1f\")>,\n",
       " <selenium.webdriver.remote.webelement.WebElement (session=\"460f37dbdf0a5efb0a38892126142563\", element=\"08c2363e-3e14-4236-92c8-043004b9b2d4\")>,\n",
       " <selenium.webdriver.remote.webelement.WebElement (session=\"460f37dbdf0a5efb0a38892126142563\", element=\"f16faa80-1425-4b15-8429-75e18e0be693\")>,\n",
       " <selenium.webdriver.remote.webelement.WebElement (session=\"460f37dbdf0a5efb0a38892126142563\", element=\"1eeff383-0af5-4593-b851-69231b73743f\")>]"
      ]
     },
     "execution_count": 23,
     "metadata": {},
     "output_type": "execute_result"
    }
   ],
   "source": [
    "header2=browser.find_elements(\"xpath\",\"//div[@class='td-wrap-in']\")\n",
    "header2"
   ]
  },
  {
   "cell_type": "code",
   "execution_count": 24,
   "id": "cf51425f",
   "metadata": {},
   "outputs": [
    {
     "data": {
      "text/plain": [
       "['83.8', '74.4', '97', '84.1', '99.8', '83.6', '59.7', '99.7', '53.9']"
      ]
     },
     "execution_count": 24,
     "metadata": {},
     "output_type": "execute_result"
    }
   ],
   "source": [
    "#PARSING DATA\n",
    "value_head=[]\n",
    "for data in header2:\n",
    "    #get the text data\n",
    "    temp=data.text\n",
    "    value_head.append(temp)\n",
    "value=value_head[51:60]\n",
    "value"
   ]
  },
  {
   "cell_type": "code",
   "execution_count": 25,
   "id": "15f734f5",
   "metadata": {},
   "outputs": [
    {
     "data": {
      "text/plain": [
       "{'Name': 'Université PSL',\n",
       " 'Location': 'Paris, France',\n",
       " 'Rank': '26',\n",
       " 'Overall Score': '83.8',\n",
       " 'Academic Reputation': '74.4',\n",
       " 'Employer Reputation': '97',\n",
       " 'Citations per Faculty': '84.1',\n",
       " 'Faculty Student Ratio': '99.8',\n",
       " 'International Students Ratio': '83.6',\n",
       " 'International Faculty Ratio': '59.7',\n",
       " 'International Research Network\\nUnweighted': '99.7',\n",
       " 'Employment Outcomes\\nUnweighted': '53.9'}"
      ]
     },
     "execution_count": 25,
     "metadata": {},
     "output_type": "execute_result"
    }
   ],
   "source": [
    "d={}\n",
    "d['Name']=value_head[50]\n",
    "d['Location']=loc[5]\n",
    "d['Rank']=RANK[5]\n",
    "\n",
    "\n",
    "for i in range(len(column_head)):\n",
    "    d[column_head[i]]=value[i]\n",
    "d"
   ]
  },
  {
   "cell_type": "code",
   "execution_count": 26,
   "id": "e05a51a3",
   "metadata": {},
   "outputs": [
    {
     "data": {
      "text/plain": [
       "'{\"Name\": \"Universit\\\\u00e9 PSL\", \"Location\": \"Paris, France\", \"Rank\": \"26\", \"Overall Score\": \"83.8\", \"Academic Reputation\": \"74.4\", \"Employer Reputation\": \"97\", \"Citations per Faculty\": \"84.1\", \"Faculty Student Ratio\": \"99.8\", \"International Students Ratio\": \"83.6\", \"International Faculty Ratio\": \"59.7\", \"International Research Network\\\\nUnweighted\": \"99.7\", \"Employment Outcomes\\\\nUnweighted\": \"53.9\"}'"
      ]
     },
     "execution_count": 26,
     "metadata": {},
     "output_type": "execute_result"
    }
   ],
   "source": [
    "s1=json.dumps(d)\n",
    "s1"
   ]
  },
  {
   "cell_type": "code",
   "execution_count": 27,
   "id": "e68d9df9",
   "metadata": {},
   "outputs": [],
   "source": [
    "with open('University PSL.json','w') as f:\n",
    "    json.dump(d,f)"
   ]
  },
  {
   "cell_type": "code",
   "execution_count": null,
   "id": "c441ad14",
   "metadata": {},
   "outputs": [],
   "source": []
  }
 ],
 "metadata": {
  "kernelspec": {
   "display_name": "Python 3 (ipykernel)",
   "language": "python",
   "name": "python3"
  },
  "language_info": {
   "codemirror_mode": {
    "name": "ipython",
    "version": 3
   },
   "file_extension": ".py",
   "mimetype": "text/x-python",
   "name": "python",
   "nbconvert_exporter": "python",
   "pygments_lexer": "ipython3",
   "version": "3.9.12"
  }
 },
 "nbformat": 4,
 "nbformat_minor": 5
}
