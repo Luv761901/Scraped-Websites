{
 "cells": [
  {
   "cell_type": "code",
   "execution_count": 1,
   "id": "9dfb2085",
   "metadata": {},
   "outputs": [],
   "source": [
    "from selenium import webdriver\n",
    "from selenium.webdriver.chrome.service import Service\n",
    "import pandas as pd\n",
    "import json"
   ]
  },
  {
   "cell_type": "code",
   "execution_count": 2,
   "id": "37a2b825",
   "metadata": {},
   "outputs": [],
   "source": [
    "path = Service('C:\\chromedriver.exe')"
   ]
  },
  {
   "cell_type": "code",
   "execution_count": 3,
   "id": "42c60547",
   "metadata": {},
   "outputs": [],
   "source": [
    "\n",
    "# set path for the driver\n",
    "browser = webdriver.Chrome(service = path)"
   ]
  },
  {
   "cell_type": "code",
   "execution_count": 4,
   "id": "81c9477b",
   "metadata": {},
   "outputs": [],
   "source": [
    "url = \"https://www.topuniversities.com/university-rankings/world-university-rankings/2023\""
   ]
  },
  {
   "cell_type": "code",
   "execution_count": 5,
   "id": "48f56566",
   "metadata": {},
   "outputs": [],
   "source": [
    "# open the page url ion chrome\n",
    "browser.get(url)\n"
   ]
  },
  {
   "cell_type": "code",
   "execution_count": 6,
   "id": "e346acf9",
   "metadata": {},
   "outputs": [
    {
     "data": {
      "text/plain": [
       "[<selenium.webdriver.remote.webelement.WebElement (session=\"95ed2d9002b8c49ba727d4f045de545e\", element=\"6d336f68-e7b2-43b3-b797-8572be5527dc\")>,\n",
       " <selenium.webdriver.remote.webelement.WebElement (session=\"95ed2d9002b8c49ba727d4f045de545e\", element=\"c3e45faf-8d12-4c78-a74f-3847a1baf719\")>,\n",
       " <selenium.webdriver.remote.webelement.WebElement (session=\"95ed2d9002b8c49ba727d4f045de545e\", element=\"35ecceaa-0d14-4652-b6cc-5e2d9dd6e7d3\")>,\n",
       " <selenium.webdriver.remote.webelement.WebElement (session=\"95ed2d9002b8c49ba727d4f045de545e\", element=\"06aa563b-d4b2-496c-ab08-7d6f90462664\")>,\n",
       " <selenium.webdriver.remote.webelement.WebElement (session=\"95ed2d9002b8c49ba727d4f045de545e\", element=\"1a67f6b6-5ff8-45f9-b2e3-31b099129ff4\")>,\n",
       " <selenium.webdriver.remote.webelement.WebElement (session=\"95ed2d9002b8c49ba727d4f045de545e\", element=\"2c2ae21d-2c6d-436f-97a6-fc5a162f3c04\")>,\n",
       " <selenium.webdriver.remote.webelement.WebElement (session=\"95ed2d9002b8c49ba727d4f045de545e\", element=\"ea24a9b0-0935-4f04-b450-9d67b0f169bd\")>,\n",
       " <selenium.webdriver.remote.webelement.WebElement (session=\"95ed2d9002b8c49ba727d4f045de545e\", element=\"b7684da8-7145-4e91-87a4-7b073ccd97c8\")>,\n",
       " <selenium.webdriver.remote.webelement.WebElement (session=\"95ed2d9002b8c49ba727d4f045de545e\", element=\"e4223f3f-f851-498e-9736-fb19f5272629\")>]"
      ]
     },
     "execution_count": 6,
     "metadata": {},
     "output_type": "execute_result"
    }
   ],
   "source": [
    "# GET EACH COLLEGE SPECIFICATION HEADERS\n",
    "header=browser.find_elements(\"xpath\",\"//div[@class='_click-function_ind']\")\n",
    "header\n"
   ]
  },
  {
   "cell_type": "code",
   "execution_count": 7,
   "id": "a6f1164b",
   "metadata": {},
   "outputs": [
    {
     "data": {
      "text/plain": [
       "['Overall Score',\n",
       " 'Academic Reputation',\n",
       " 'Employer Reputation',\n",
       " 'Citations per Faculty',\n",
       " 'Faculty Student Ratio',\n",
       " 'International Students Ratio',\n",
       " 'International Faculty Ratio',\n",
       " 'International Research Network\\nUnweighted',\n",
       " 'Employment Outcomes\\nUnweighted']"
      ]
     },
     "execution_count": 7,
     "metadata": {},
     "output_type": "execute_result"
    }
   ],
   "source": [
    "#PARSING DATA\n",
    "column_head=[]\n",
    "for data in header:\n",
    "    #get the text data\n",
    "    temp=data.text\n",
    "    column_head.append(temp)\n",
    "column_head"
   ]
  },
  {
   "cell_type": "code",
   "execution_count": 8,
   "id": "e8317398",
   "metadata": {},
   "outputs": [
    {
     "data": {
      "text/plain": [
       "[<selenium.webdriver.remote.webelement.WebElement (session=\"95ed2d9002b8c49ba727d4f045de545e\", element=\"b21c8cf7-42de-4f7b-9cc0-a3e9fc1c56e6\")>,\n",
       " <selenium.webdriver.remote.webelement.WebElement (session=\"95ed2d9002b8c49ba727d4f045de545e\", element=\"80ee86cd-57c3-4847-ac2b-8c9e1b72f3a6\")>,\n",
       " <selenium.webdriver.remote.webelement.WebElement (session=\"95ed2d9002b8c49ba727d4f045de545e\", element=\"fd1d1b8e-5557-42e4-bf3e-77fa426b2d79\")>,\n",
       " <selenium.webdriver.remote.webelement.WebElement (session=\"95ed2d9002b8c49ba727d4f045de545e\", element=\"899f5373-3339-4548-a266-78d410542e53\")>,\n",
       " <selenium.webdriver.remote.webelement.WebElement (session=\"95ed2d9002b8c49ba727d4f045de545e\", element=\"73116382-2825-446d-b445-3cfdc22da8ed\")>,\n",
       " <selenium.webdriver.remote.webelement.WebElement (session=\"95ed2d9002b8c49ba727d4f045de545e\", element=\"9d980d99-5973-4abb-9ceb-7462f5578c7c\")>,\n",
       " <selenium.webdriver.remote.webelement.WebElement (session=\"95ed2d9002b8c49ba727d4f045de545e\", element=\"36341093-9eb4-4da4-a354-c0490e793fea\")>,\n",
       " <selenium.webdriver.remote.webelement.WebElement (session=\"95ed2d9002b8c49ba727d4f045de545e\", element=\"72069836-bfc2-4f11-b4aa-d7dda0314e7f\")>,\n",
       " <selenium.webdriver.remote.webelement.WebElement (session=\"95ed2d9002b8c49ba727d4f045de545e\", element=\"57e436fa-d06f-4c72-bb06-a2e5199bc6d7\")>,\n",
       " <selenium.webdriver.remote.webelement.WebElement (session=\"95ed2d9002b8c49ba727d4f045de545e\", element=\"2ffb3262-0546-4f7e-a7d9-5110b8f0d0f3\")>,\n",
       " <selenium.webdriver.remote.webelement.WebElement (session=\"95ed2d9002b8c49ba727d4f045de545e\", element=\"f2397eeb-0794-45aa-b4fb-8bc49b9f8eea\")>,\n",
       " <selenium.webdriver.remote.webelement.WebElement (session=\"95ed2d9002b8c49ba727d4f045de545e\", element=\"d8bec1d9-7846-411d-b0a4-a4c2f0a2b255\")>,\n",
       " <selenium.webdriver.remote.webelement.WebElement (session=\"95ed2d9002b8c49ba727d4f045de545e\", element=\"6938180d-f0de-4c4f-b1ac-510158c3671f\")>,\n",
       " <selenium.webdriver.remote.webelement.WebElement (session=\"95ed2d9002b8c49ba727d4f045de545e\", element=\"2a52a79a-6722-4849-bf91-ded43925a2d0\")>,\n",
       " <selenium.webdriver.remote.webelement.WebElement (session=\"95ed2d9002b8c49ba727d4f045de545e\", element=\"c25b9431-07d2-47c0-8604-b115d18b8aeb\")>,\n",
       " <selenium.webdriver.remote.webelement.WebElement (session=\"95ed2d9002b8c49ba727d4f045de545e\", element=\"4fb7c3b1-412d-4f85-a6c1-849d8f6b97c8\")>,\n",
       " <selenium.webdriver.remote.webelement.WebElement (session=\"95ed2d9002b8c49ba727d4f045de545e\", element=\"2b667910-33cd-49ba-82d4-61e17d2dbfcc\")>,\n",
       " <selenium.webdriver.remote.webelement.WebElement (session=\"95ed2d9002b8c49ba727d4f045de545e\", element=\"44a17ee0-59cb-48c9-aebe-87d08073f633\")>,\n",
       " <selenium.webdriver.remote.webelement.WebElement (session=\"95ed2d9002b8c49ba727d4f045de545e\", element=\"fbba0d8e-d13a-4536-8d64-ca2fa253c48e\")>,\n",
       " <selenium.webdriver.remote.webelement.WebElement (session=\"95ed2d9002b8c49ba727d4f045de545e\", element=\"e4eb3625-ec4d-4312-a218-375d805d6741\")>,\n",
       " <selenium.webdriver.remote.webelement.WebElement (session=\"95ed2d9002b8c49ba727d4f045de545e\", element=\"8ee897d3-ab21-41bc-9e5e-1844a3a4b358\")>,\n",
       " <selenium.webdriver.remote.webelement.WebElement (session=\"95ed2d9002b8c49ba727d4f045de545e\", element=\"b2d98bed-38eb-4310-bca7-581170de829d\")>,\n",
       " <selenium.webdriver.remote.webelement.WebElement (session=\"95ed2d9002b8c49ba727d4f045de545e\", element=\"99ef1f17-8492-4b88-aa15-e77b72754285\")>,\n",
       " <selenium.webdriver.remote.webelement.WebElement (session=\"95ed2d9002b8c49ba727d4f045de545e\", element=\"fa4eb67c-2c2c-4666-86ec-e39cd70c4ddc\")>,\n",
       " <selenium.webdriver.remote.webelement.WebElement (session=\"95ed2d9002b8c49ba727d4f045de545e\", element=\"2db6438b-1845-48d0-a05d-4bc48799c83d\")>,\n",
       " <selenium.webdriver.remote.webelement.WebElement (session=\"95ed2d9002b8c49ba727d4f045de545e\", element=\"a082d5ac-194e-43a9-93db-7a4222e47b33\")>,\n",
       " <selenium.webdriver.remote.webelement.WebElement (session=\"95ed2d9002b8c49ba727d4f045de545e\", element=\"41217b73-099f-4923-a6b2-97a9f5ee23b8\")>,\n",
       " <selenium.webdriver.remote.webelement.WebElement (session=\"95ed2d9002b8c49ba727d4f045de545e\", element=\"8a32fc54-0fdb-445f-85aa-7b7af48e3c0e\")>,\n",
       " <selenium.webdriver.remote.webelement.WebElement (session=\"95ed2d9002b8c49ba727d4f045de545e\", element=\"dd4ae92d-1ee5-469c-a777-18dd393974cd\")>,\n",
       " <selenium.webdriver.remote.webelement.WebElement (session=\"95ed2d9002b8c49ba727d4f045de545e\", element=\"f294862d-fad9-4506-8136-3c4bad399a5c\")>,\n",
       " <selenium.webdriver.remote.webelement.WebElement (session=\"95ed2d9002b8c49ba727d4f045de545e\", element=\"745ae8ec-852d-475d-b4a8-50a929a77964\")>,\n",
       " <selenium.webdriver.remote.webelement.WebElement (session=\"95ed2d9002b8c49ba727d4f045de545e\", element=\"604f4db9-0abb-4761-8161-4ada722e57f1\")>,\n",
       " <selenium.webdriver.remote.webelement.WebElement (session=\"95ed2d9002b8c49ba727d4f045de545e\", element=\"518dd9f0-9e9b-4c9f-9dab-34ed2ae4f522\")>,\n",
       " <selenium.webdriver.remote.webelement.WebElement (session=\"95ed2d9002b8c49ba727d4f045de545e\", element=\"3935880c-8a4f-4588-a208-647ff5090d35\")>,\n",
       " <selenium.webdriver.remote.webelement.WebElement (session=\"95ed2d9002b8c49ba727d4f045de545e\", element=\"1cbd5b99-a0a0-43c4-acd3-9569e2e6d090\")>,\n",
       " <selenium.webdriver.remote.webelement.WebElement (session=\"95ed2d9002b8c49ba727d4f045de545e\", element=\"9bba53e4-885e-49d0-9fc6-4707efa602c4\")>,\n",
       " <selenium.webdriver.remote.webelement.WebElement (session=\"95ed2d9002b8c49ba727d4f045de545e\", element=\"edd1e18c-d049-4b34-97bf-c80eb7e28849\")>,\n",
       " <selenium.webdriver.remote.webelement.WebElement (session=\"95ed2d9002b8c49ba727d4f045de545e\", element=\"13e2a0b2-859c-4463-8479-8bd1baa3da7c\")>,\n",
       " <selenium.webdriver.remote.webelement.WebElement (session=\"95ed2d9002b8c49ba727d4f045de545e\", element=\"0f92bd1f-6041-4578-a77b-ca5c1c66a8a0\")>,\n",
       " <selenium.webdriver.remote.webelement.WebElement (session=\"95ed2d9002b8c49ba727d4f045de545e\", element=\"a09ce64d-f141-486d-b9b0-20a4cc8b1178\")>,\n",
       " <selenium.webdriver.remote.webelement.WebElement (session=\"95ed2d9002b8c49ba727d4f045de545e\", element=\"b9b95551-5d49-4a03-9759-eef9f48aabd9\")>,\n",
       " <selenium.webdriver.remote.webelement.WebElement (session=\"95ed2d9002b8c49ba727d4f045de545e\", element=\"f9f48762-4b5f-4fce-ae73-6c74eb527762\")>,\n",
       " <selenium.webdriver.remote.webelement.WebElement (session=\"95ed2d9002b8c49ba727d4f045de545e\", element=\"676b7c07-f43b-4b37-adc0-035d95730575\")>,\n",
       " <selenium.webdriver.remote.webelement.WebElement (session=\"95ed2d9002b8c49ba727d4f045de545e\", element=\"7266c70e-24f5-4d3b-b666-701382ceda81\")>,\n",
       " <selenium.webdriver.remote.webelement.WebElement (session=\"95ed2d9002b8c49ba727d4f045de545e\", element=\"b346be78-7a38-462a-8b8f-0527c55f53f3\")>,\n",
       " <selenium.webdriver.remote.webelement.WebElement (session=\"95ed2d9002b8c49ba727d4f045de545e\", element=\"8f8bfc6b-b0dd-4a0f-a3d6-2db7123d374f\")>,\n",
       " <selenium.webdriver.remote.webelement.WebElement (session=\"95ed2d9002b8c49ba727d4f045de545e\", element=\"1523b76a-e1be-4300-aa84-ff987f85d348\")>,\n",
       " <selenium.webdriver.remote.webelement.WebElement (session=\"95ed2d9002b8c49ba727d4f045de545e\", element=\"3c2da80c-ded9-494b-8ed1-0b01544e6f6c\")>,\n",
       " <selenium.webdriver.remote.webelement.WebElement (session=\"95ed2d9002b8c49ba727d4f045de545e\", element=\"af96ac55-792f-4002-871f-23ac1fd3a91d\")>,\n",
       " <selenium.webdriver.remote.webelement.WebElement (session=\"95ed2d9002b8c49ba727d4f045de545e\", element=\"823531e1-5c86-4117-b671-d3d2b99841f1\")>,\n",
       " <selenium.webdriver.remote.webelement.WebElement (session=\"95ed2d9002b8c49ba727d4f045de545e\", element=\"658f5bfb-91ca-47d6-9065-69c16a2bb71c\")>,\n",
       " <selenium.webdriver.remote.webelement.WebElement (session=\"95ed2d9002b8c49ba727d4f045de545e\", element=\"205b9a9f-fec7-40d9-a3a1-7cad76c88508\")>,\n",
       " <selenium.webdriver.remote.webelement.WebElement (session=\"95ed2d9002b8c49ba727d4f045de545e\", element=\"2e4df5b4-83f4-4cbd-9700-941f5d064f6a\")>,\n",
       " <selenium.webdriver.remote.webelement.WebElement (session=\"95ed2d9002b8c49ba727d4f045de545e\", element=\"3f69b72d-38f5-40d8-8a94-38459107faca\")>,\n",
       " <selenium.webdriver.remote.webelement.WebElement (session=\"95ed2d9002b8c49ba727d4f045de545e\", element=\"10cdce0f-8f7a-4c01-bd9e-3a1a66e29d93\")>,\n",
       " <selenium.webdriver.remote.webelement.WebElement (session=\"95ed2d9002b8c49ba727d4f045de545e\", element=\"fb0790d6-1141-4267-bacb-ed58b28a3cd8\")>,\n",
       " <selenium.webdriver.remote.webelement.WebElement (session=\"95ed2d9002b8c49ba727d4f045de545e\", element=\"22fd04f3-534e-4ece-afc9-fef723db57f8\")>,\n",
       " <selenium.webdriver.remote.webelement.WebElement (session=\"95ed2d9002b8c49ba727d4f045de545e\", element=\"bd4596e1-a072-4e61-81f9-9b5b4c1c9986\")>,\n",
       " <selenium.webdriver.remote.webelement.WebElement (session=\"95ed2d9002b8c49ba727d4f045de545e\", element=\"0dd24a8f-e262-4c73-846e-ef4e820ba6a1\")>,\n",
       " <selenium.webdriver.remote.webelement.WebElement (session=\"95ed2d9002b8c49ba727d4f045de545e\", element=\"69420bf1-0bf8-4157-a0ae-9330d05c28fa\")>,\n",
       " <selenium.webdriver.remote.webelement.WebElement (session=\"95ed2d9002b8c49ba727d4f045de545e\", element=\"706a1d83-7bf9-48c7-b8b0-2751a3a8a8d4\")>,\n",
       " <selenium.webdriver.remote.webelement.WebElement (session=\"95ed2d9002b8c49ba727d4f045de545e\", element=\"6c8b44f9-f882-46bc-bd2b-2b5e02ec9ce8\")>,\n",
       " <selenium.webdriver.remote.webelement.WebElement (session=\"95ed2d9002b8c49ba727d4f045de545e\", element=\"35c223f7-bc51-4aeb-b37f-21d77d36b87f\")>,\n",
       " <selenium.webdriver.remote.webelement.WebElement (session=\"95ed2d9002b8c49ba727d4f045de545e\", element=\"d0584eeb-1fb0-406a-8b94-149c2c13bf1d\")>,\n",
       " <selenium.webdriver.remote.webelement.WebElement (session=\"95ed2d9002b8c49ba727d4f045de545e\", element=\"19eeb909-1cdf-4597-9a04-8eaa62d98a22\")>,\n",
       " <selenium.webdriver.remote.webelement.WebElement (session=\"95ed2d9002b8c49ba727d4f045de545e\", element=\"c461c1d3-c62e-46a4-88a2-dada8cae7658\")>,\n",
       " <selenium.webdriver.remote.webelement.WebElement (session=\"95ed2d9002b8c49ba727d4f045de545e\", element=\"ad1f42a4-fe63-4ec5-822f-5b70c3dc7349\")>,\n",
       " <selenium.webdriver.remote.webelement.WebElement (session=\"95ed2d9002b8c49ba727d4f045de545e\", element=\"b0fb9a0c-8fb9-49b5-a32f-6dab6acbdbbe\")>,\n",
       " <selenium.webdriver.remote.webelement.WebElement (session=\"95ed2d9002b8c49ba727d4f045de545e\", element=\"7c40df25-89f5-4079-8f7d-7064fad7eb14\")>,\n",
       " <selenium.webdriver.remote.webelement.WebElement (session=\"95ed2d9002b8c49ba727d4f045de545e\", element=\"bb9e22b7-27de-47fe-ab13-7847bad7be28\")>,\n",
       " <selenium.webdriver.remote.webelement.WebElement (session=\"95ed2d9002b8c49ba727d4f045de545e\", element=\"832a9d3d-1b90-41b5-9719-3b1b0c9f47e4\")>,\n",
       " <selenium.webdriver.remote.webelement.WebElement (session=\"95ed2d9002b8c49ba727d4f045de545e\", element=\"d9ef8f9d-357c-4d1d-b0db-f31be8702014\")>,\n",
       " <selenium.webdriver.remote.webelement.WebElement (session=\"95ed2d9002b8c49ba727d4f045de545e\", element=\"f3386fd8-7588-4195-9e04-f01cca4054ea\")>,\n",
       " <selenium.webdriver.remote.webelement.WebElement (session=\"95ed2d9002b8c49ba727d4f045de545e\", element=\"4689a31a-a810-41aa-ac02-6dd83cfa47a4\")>,\n",
       " <selenium.webdriver.remote.webelement.WebElement (session=\"95ed2d9002b8c49ba727d4f045de545e\", element=\"50e0bf77-08b3-4ee1-a2fb-ab87f4c8cb34\")>,\n",
       " <selenium.webdriver.remote.webelement.WebElement (session=\"95ed2d9002b8c49ba727d4f045de545e\", element=\"35fc11be-0fc9-4cd1-8017-f85f3be2b186\")>,\n",
       " <selenium.webdriver.remote.webelement.WebElement (session=\"95ed2d9002b8c49ba727d4f045de545e\", element=\"7e1252a9-3490-44e1-b59b-289c8389348a\")>,\n",
       " <selenium.webdriver.remote.webelement.WebElement (session=\"95ed2d9002b8c49ba727d4f045de545e\", element=\"6f140fcf-e8d3-421c-b474-8719b31282e3\")>,\n",
       " <selenium.webdriver.remote.webelement.WebElement (session=\"95ed2d9002b8c49ba727d4f045de545e\", element=\"83dcce6a-df9c-4e4f-8946-fd0b29e93955\")>,\n",
       " <selenium.webdriver.remote.webelement.WebElement (session=\"95ed2d9002b8c49ba727d4f045de545e\", element=\"18b15562-2e8a-4695-a94d-6829db8b3e29\")>,\n",
       " <selenium.webdriver.remote.webelement.WebElement (session=\"95ed2d9002b8c49ba727d4f045de545e\", element=\"78cb5c86-4cb3-4217-a05b-28de111b0f3f\")>,\n",
       " <selenium.webdriver.remote.webelement.WebElement (session=\"95ed2d9002b8c49ba727d4f045de545e\", element=\"ef528801-3c59-4be9-93cf-2c68e479e3cc\")>,\n",
       " <selenium.webdriver.remote.webelement.WebElement (session=\"95ed2d9002b8c49ba727d4f045de545e\", element=\"8033e5d3-3f9d-4d47-8231-69fd251a2bff\")>,\n",
       " <selenium.webdriver.remote.webelement.WebElement (session=\"95ed2d9002b8c49ba727d4f045de545e\", element=\"4309b219-5b6a-48b0-9689-052703e212ad\")>,\n",
       " <selenium.webdriver.remote.webelement.WebElement (session=\"95ed2d9002b8c49ba727d4f045de545e\", element=\"7d7196d9-4ace-4a03-a522-82dfbec8cbb0\")>,\n",
       " <selenium.webdriver.remote.webelement.WebElement (session=\"95ed2d9002b8c49ba727d4f045de545e\", element=\"258732aa-c24a-492f-90b8-44e48ecdab96\")>,\n",
       " <selenium.webdriver.remote.webelement.WebElement (session=\"95ed2d9002b8c49ba727d4f045de545e\", element=\"7fd96fab-2b0a-4d57-8147-90f2938d938c\")>,\n",
       " <selenium.webdriver.remote.webelement.WebElement (session=\"95ed2d9002b8c49ba727d4f045de545e\", element=\"31161b75-58a3-472d-a4b4-47a2d5bc9eb9\")>,\n",
       " <selenium.webdriver.remote.webelement.WebElement (session=\"95ed2d9002b8c49ba727d4f045de545e\", element=\"bedc0691-3147-41dc-9fff-945803bf2092\")>,\n",
       " <selenium.webdriver.remote.webelement.WebElement (session=\"95ed2d9002b8c49ba727d4f045de545e\", element=\"f60bb1f0-5435-4d30-96c0-1f120c64b327\")>,\n",
       " <selenium.webdriver.remote.webelement.WebElement (session=\"95ed2d9002b8c49ba727d4f045de545e\", element=\"7dc16aa6-4603-490b-ad6b-3c159e7f79a7\")>,\n",
       " <selenium.webdriver.remote.webelement.WebElement (session=\"95ed2d9002b8c49ba727d4f045de545e\", element=\"5b7c21a7-45c0-4727-9292-68423b418291\")>,\n",
       " <selenium.webdriver.remote.webelement.WebElement (session=\"95ed2d9002b8c49ba727d4f045de545e\", element=\"1f681de4-4c7c-4fcc-bed2-ca991a465afe\")>,\n",
       " <selenium.webdriver.remote.webelement.WebElement (session=\"95ed2d9002b8c49ba727d4f045de545e\", element=\"b028c042-e2f1-4dff-bd1a-32692eb72a63\")>,\n",
       " <selenium.webdriver.remote.webelement.WebElement (session=\"95ed2d9002b8c49ba727d4f045de545e\", element=\"ef9b6302-e4ae-4dd1-b7d3-c31b82082b66\")>,\n",
       " <selenium.webdriver.remote.webelement.WebElement (session=\"95ed2d9002b8c49ba727d4f045de545e\", element=\"26a565fe-7458-4e67-b3f3-c662bc02b1a3\")>,\n",
       " <selenium.webdriver.remote.webelement.WebElement (session=\"95ed2d9002b8c49ba727d4f045de545e\", element=\"2202209e-7121-4374-9e91-ada1a6e209f0\")>,\n",
       " <selenium.webdriver.remote.webelement.WebElement (session=\"95ed2d9002b8c49ba727d4f045de545e\", element=\"35d5b243-a63c-4b38-8418-f0575370ea69\")>,\n",
       " <selenium.webdriver.remote.webelement.WebElement (session=\"95ed2d9002b8c49ba727d4f045de545e\", element=\"77ec832b-e19b-4458-bc8b-325e919be6ad\")>,\n",
       " <selenium.webdriver.remote.webelement.WebElement (session=\"95ed2d9002b8c49ba727d4f045de545e\", element=\"82d05457-6b33-488c-b425-ce8758528293\")>]"
      ]
     },
     "execution_count": 8,
     "metadata": {},
     "output_type": "execute_result"
    }
   ],
   "source": [
    "header2=browser.find_elements(\"xpath\",\"//div[@class='td-wrap-in']\")\n",
    "header2"
   ]
  },
  {
   "cell_type": "code",
   "execution_count": 9,
   "id": "0b6206d1",
   "metadata": {},
   "outputs": [
    {
     "data": {
      "text/plain": [
       "['97', '96.5', '87.1', '100', '100', '85.1', '99.8', '73', '98.8']"
      ]
     },
     "execution_count": 9,
     "metadata": {},
     "output_type": "execute_result"
    }
   ],
   "source": [
    "#PARSING DATA\n",
    "value_head=[]\n",
    "for data in header2:\n",
    "    #get the text data\n",
    "    temp=data.text\n",
    "    value_head.append(temp)\n",
    "value_head=value_head[51:60]\n",
    "value_head"
   ]
  },
  {
   "cell_type": "code",
   "execution_count": 10,
   "id": "9a60b9a4",
   "metadata": {},
   "outputs": [
    {
     "data": {
      "text/plain": [
       "{'Overall Score': '97',\n",
       " 'Academic Reputation': '96.5',\n",
       " 'Employer Reputation': '87.1',\n",
       " 'Citations per Faculty': '100',\n",
       " 'Faculty Student Ratio': '100',\n",
       " 'International Students Ratio': '85.1',\n",
       " 'International Faculty Ratio': '99.8',\n",
       " 'International Research Network\\nUnweighted': '73',\n",
       " 'Employment Outcomes\\nUnweighted': '98.8'}"
      ]
     },
     "execution_count": 10,
     "metadata": {},
     "output_type": "execute_result"
    }
   ],
   "source": [
    "d={}\n",
    "for i in range(len(column_head)):\n",
    "    d[column_head[i]]=value_head[i]\n",
    "d"
   ]
  },
  {
   "cell_type": "code",
   "execution_count": 11,
   "id": "cca0ecc0",
   "metadata": {},
   "outputs": [
    {
     "data": {
      "text/plain": [
       "'{\"Overall Score\": \"97\", \"Academic Reputation\": \"96.5\", \"Employer Reputation\": \"87.1\", \"Citations per Faculty\": \"100\", \"Faculty Student Ratio\": \"100\", \"International Students Ratio\": \"85.1\", \"International Faculty Ratio\": \"99.8\", \"International Research Network\\\\nUnweighted\": \"73\", \"Employment Outcomes\\\\nUnweighted\": \"98.8\"}'"
      ]
     },
     "execution_count": 11,
     "metadata": {},
     "output_type": "execute_result"
    }
   ],
   "source": [
    "s1=json.dumps(d)\n",
    "s1\n"
   ]
  },
  {
   "cell_type": "code",
   "execution_count": 12,
   "id": "f212eb1d",
   "metadata": {},
   "outputs": [],
   "source": [
    "with open('Imperial College London.json','w') as f:\n",
    "    json.dump(d,f)\n"
   ]
  },
  {
   "cell_type": "code",
   "execution_count": null,
   "id": "214801a9",
   "metadata": {},
   "outputs": [],
   "source": []
  }
 ],
 "metadata": {
  "kernelspec": {
   "display_name": "Python 3 (ipykernel)",
   "language": "python",
   "name": "python3"
  },
  "language_info": {
   "codemirror_mode": {
    "name": "ipython",
    "version": 3
   },
   "file_extension": ".py",
   "mimetype": "text/x-python",
   "name": "python",
   "nbconvert_exporter": "python",
   "pygments_lexer": "ipython3",
   "version": "3.9.12"
  }
 },
 "nbformat": 4,
 "nbformat_minor": 5
}
