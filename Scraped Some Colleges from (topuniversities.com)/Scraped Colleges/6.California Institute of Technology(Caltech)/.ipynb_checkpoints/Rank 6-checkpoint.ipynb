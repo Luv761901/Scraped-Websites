{
 "cells": [
  {
   "cell_type": "code",
   "execution_count": 18,
   "id": "9dfb2085",
   "metadata": {},
   "outputs": [],
   "source": [
    "from selenium import webdriver\n",
    "from selenium.webdriver.chrome.service import Service\n",
    "import pandas as pd\n",
    "import json"
   ]
  },
  {
   "cell_type": "code",
   "execution_count": 19,
   "id": "37a2b825",
   "metadata": {},
   "outputs": [],
   "source": [
    "path = Service('C:\\chromedriver.exe')"
   ]
  },
  {
   "cell_type": "code",
   "execution_count": 20,
   "id": "42c60547",
   "metadata": {},
   "outputs": [],
   "source": [
    "\n",
    "# set path for the driver\n",
    "browser = webdriver.Chrome(service = path)"
   ]
  },
  {
   "cell_type": "code",
   "execution_count": 21,
   "id": "81c9477b",
   "metadata": {},
   "outputs": [],
   "source": [
    "url = \"https://www.topuniversities.com/university-rankings/world-university-rankings/2023\""
   ]
  },
  {
   "cell_type": "code",
   "execution_count": 22,
   "id": "48f56566",
   "metadata": {},
   "outputs": [],
   "source": [
    "# open the page url ion chrome\n",
    "browser.get(url)\n"
   ]
  },
  {
   "cell_type": "code",
   "execution_count": 23,
   "id": "3596a893",
   "metadata": {},
   "outputs": [
    {
     "data": {
      "text/plain": [
       "[<selenium.webdriver.remote.webelement.WebElement (session=\"fe5f0577857d8a6d14de4e57e7947b4e\", element=\"f94dfebc-6f39-4e27-bea8-6beab697758a\")>,\n",
       " <selenium.webdriver.remote.webelement.WebElement (session=\"fe5f0577857d8a6d14de4e57e7947b4e\", element=\"ac3dcb20-4a05-4f63-959c-48e24b29121c\")>,\n",
       " <selenium.webdriver.remote.webelement.WebElement (session=\"fe5f0577857d8a6d14de4e57e7947b4e\", element=\"ded185dd-18a3-4e85-a621-7385dbeac08d\")>,\n",
       " <selenium.webdriver.remote.webelement.WebElement (session=\"fe5f0577857d8a6d14de4e57e7947b4e\", element=\"c2cbc879-5318-4793-81cb-af2d4ef6b5f3\")>,\n",
       " <selenium.webdriver.remote.webelement.WebElement (session=\"fe5f0577857d8a6d14de4e57e7947b4e\", element=\"507de5d0-dbb1-4db4-8799-80e85f6db65c\")>,\n",
       " <selenium.webdriver.remote.webelement.WebElement (session=\"fe5f0577857d8a6d14de4e57e7947b4e\", element=\"908db57d-1473-40e0-8196-14904a6c65f3\")>,\n",
       " <selenium.webdriver.remote.webelement.WebElement (session=\"fe5f0577857d8a6d14de4e57e7947b4e\", element=\"50de534e-9360-4b5a-99b1-acea2fe48e73\")>,\n",
       " <selenium.webdriver.remote.webelement.WebElement (session=\"fe5f0577857d8a6d14de4e57e7947b4e\", element=\"045d73b3-9fe5-49e7-aa74-8863d9ea439b\")>,\n",
       " <selenium.webdriver.remote.webelement.WebElement (session=\"fe5f0577857d8a6d14de4e57e7947b4e\", element=\"3f360839-7740-4165-910f-0154b18097a0\")>,\n",
       " <selenium.webdriver.remote.webelement.WebElement (session=\"fe5f0577857d8a6d14de4e57e7947b4e\", element=\"187ea241-49b5-4b9a-b990-1d7f657f5030\")>,\n",
       " <selenium.webdriver.remote.webelement.WebElement (session=\"fe5f0577857d8a6d14de4e57e7947b4e\", element=\"fff00a93-be47-4dea-99b5-c3cd3082e3da\")>,\n",
       " <selenium.webdriver.remote.webelement.WebElement (session=\"fe5f0577857d8a6d14de4e57e7947b4e\", element=\"ff3100a3-1c05-4e5b-9be7-8581d38d2f9c\")>,\n",
       " <selenium.webdriver.remote.webelement.WebElement (session=\"fe5f0577857d8a6d14de4e57e7947b4e\", element=\"098fd456-7d85-49cf-92ff-a729b0bc1814\")>,\n",
       " <selenium.webdriver.remote.webelement.WebElement (session=\"fe5f0577857d8a6d14de4e57e7947b4e\", element=\"38ff966e-6817-43da-bcdb-2aa8226d1b7f\")>,\n",
       " <selenium.webdriver.remote.webelement.WebElement (session=\"fe5f0577857d8a6d14de4e57e7947b4e\", element=\"a4a44a4e-ed48-4714-9c34-aeddedc96147\")>,\n",
       " <selenium.webdriver.remote.webelement.WebElement (session=\"fe5f0577857d8a6d14de4e57e7947b4e\", element=\"eef59900-1dff-46b8-a551-2b16a07ae1a1\")>,\n",
       " <selenium.webdriver.remote.webelement.WebElement (session=\"fe5f0577857d8a6d14de4e57e7947b4e\", element=\"d4def2fe-2e42-4209-9d33-79a330b20242\")>,\n",
       " <selenium.webdriver.remote.webelement.WebElement (session=\"fe5f0577857d8a6d14de4e57e7947b4e\", element=\"a140915d-08ae-4592-99df-97664bef18ac\")>,\n",
       " <selenium.webdriver.remote.webelement.WebElement (session=\"fe5f0577857d8a6d14de4e57e7947b4e\", element=\"723eb4c9-451a-4194-b61a-d9b7a1f387c3\")>,\n",
       " <selenium.webdriver.remote.webelement.WebElement (session=\"fe5f0577857d8a6d14de4e57e7947b4e\", element=\"4b45e8c0-d401-4755-b2b0-27cb8f13fee5\")>]"
      ]
     },
     "execution_count": 23,
     "metadata": {},
     "output_type": "execute_result"
    }
   ],
   "source": [
    "l1=browser.find_elements(\"xpath\",\"//div[@class='location ']\")\n",
    "l1"
   ]
  },
  {
   "cell_type": "code",
   "execution_count": 24,
   "id": "45961142",
   "metadata": {},
   "outputs": [
    {
     "data": {
      "text/plain": [
       "['Cambridge, United States',\n",
       " 'Cambridge, United Kingdom',\n",
       " 'Stanford, United States',\n",
       " 'Oxford, United Kingdom',\n",
       " 'Cambridge, United States',\n",
       " 'Pasadena, United States',\n",
       " 'London, United Kingdom',\n",
       " 'London, United Kingdom',\n",
       " 'Zürich, Switzerland',\n",
       " 'Chicago, United States']"
      ]
     },
     "execution_count": 24,
     "metadata": {},
     "output_type": "execute_result"
    }
   ],
   "source": [
    "loc=[]\n",
    "for data in l1:\n",
    "    #get the text data\n",
    "    temp=data.text\n",
    "    loc.append(temp)\n",
    "loc=loc[10:]\n",
    "loc"
   ]
  },
  {
   "cell_type": "code",
   "execution_count": 25,
   "id": "126b5db8",
   "metadata": {},
   "outputs": [
    {
     "data": {
      "text/plain": [
       "[<selenium.webdriver.remote.webelement.WebElement (session=\"fe5f0577857d8a6d14de4e57e7947b4e\", element=\"4bbaeab0-9920-4edd-9620-642583b8b0bc\")>,\n",
       " <selenium.webdriver.remote.webelement.WebElement (session=\"fe5f0577857d8a6d14de4e57e7947b4e\", element=\"cd08db79-22f9-4eba-bad7-63657caf2a9d\")>,\n",
       " <selenium.webdriver.remote.webelement.WebElement (session=\"fe5f0577857d8a6d14de4e57e7947b4e\", element=\"6d0f329d-74e3-4a31-8842-73c052d8d8c6\")>,\n",
       " <selenium.webdriver.remote.webelement.WebElement (session=\"fe5f0577857d8a6d14de4e57e7947b4e\", element=\"6dfdf0d4-c06a-484a-98d7-b1db7a29cb7f\")>,\n",
       " <selenium.webdriver.remote.webelement.WebElement (session=\"fe5f0577857d8a6d14de4e57e7947b4e\", element=\"e4ee5440-f828-4972-94c4-c40c42d56e74\")>,\n",
       " <selenium.webdriver.remote.webelement.WebElement (session=\"fe5f0577857d8a6d14de4e57e7947b4e\", element=\"6214d9f8-dc38-4889-94da-d3f4af2359d0\")>,\n",
       " <selenium.webdriver.remote.webelement.WebElement (session=\"fe5f0577857d8a6d14de4e57e7947b4e\", element=\"85c7d5eb-51e4-45dd-8428-fecfea67dc63\")>,\n",
       " <selenium.webdriver.remote.webelement.WebElement (session=\"fe5f0577857d8a6d14de4e57e7947b4e\", element=\"fde24a19-9dad-4ce9-a7d4-893a20d3bdda\")>,\n",
       " <selenium.webdriver.remote.webelement.WebElement (session=\"fe5f0577857d8a6d14de4e57e7947b4e\", element=\"f6ef7c99-5712-45a7-a3ce-d1071296df29\")>,\n",
       " <selenium.webdriver.remote.webelement.WebElement (session=\"fe5f0577857d8a6d14de4e57e7947b4e\", element=\"52170094-1ecc-416e-8b8c-1df3507ed222\")>]"
      ]
     },
     "execution_count": 25,
     "metadata": {},
     "output_type": "execute_result"
    }
   ],
   "source": [
    "l2=browser.find_elements(\"xpath\",\"//div[@class='_univ-rank ']\")\n",
    "l2\n"
   ]
  },
  {
   "cell_type": "code",
   "execution_count": 26,
   "id": "e3d8c625",
   "metadata": {},
   "outputs": [
    {
     "data": {
      "text/plain": [
       "['1', '2', '3', '4', '5', '=6', '=6', '8', '9', '10']"
      ]
     },
     "execution_count": 26,
     "metadata": {},
     "output_type": "execute_result"
    }
   ],
   "source": [
    "RANK=[]\n",
    "for data in l2:\n",
    "    #get the text data\n",
    "    temp=data.text\n",
    "    RANK.append(temp)\n",
    "RANK"
   ]
  },
  {
   "cell_type": "code",
   "execution_count": 27,
   "id": "e346acf9",
   "metadata": {},
   "outputs": [
    {
     "data": {
      "text/plain": [
       "[<selenium.webdriver.remote.webelement.WebElement (session=\"fe5f0577857d8a6d14de4e57e7947b4e\", element=\"c2ed05b9-e215-4c03-837a-89e5755a3ce6\")>,\n",
       " <selenium.webdriver.remote.webelement.WebElement (session=\"fe5f0577857d8a6d14de4e57e7947b4e\", element=\"cd58abf9-1e30-4edb-961c-ef9372da2573\")>,\n",
       " <selenium.webdriver.remote.webelement.WebElement (session=\"fe5f0577857d8a6d14de4e57e7947b4e\", element=\"980df11c-8ef4-400d-8e54-4fe9e51fd71c\")>,\n",
       " <selenium.webdriver.remote.webelement.WebElement (session=\"fe5f0577857d8a6d14de4e57e7947b4e\", element=\"7c623e3b-98f2-4cf8-9cf2-68ff262c187e\")>,\n",
       " <selenium.webdriver.remote.webelement.WebElement (session=\"fe5f0577857d8a6d14de4e57e7947b4e\", element=\"6bc660ae-dea1-45e2-a686-5d71f70c3c6c\")>,\n",
       " <selenium.webdriver.remote.webelement.WebElement (session=\"fe5f0577857d8a6d14de4e57e7947b4e\", element=\"60f05558-c86a-4e05-89e5-764cb7cf7772\")>,\n",
       " <selenium.webdriver.remote.webelement.WebElement (session=\"fe5f0577857d8a6d14de4e57e7947b4e\", element=\"d9281d07-5a60-4296-987c-635a4a15ce7c\")>,\n",
       " <selenium.webdriver.remote.webelement.WebElement (session=\"fe5f0577857d8a6d14de4e57e7947b4e\", element=\"d794cf59-fbb2-457c-9cac-318a1c7c0b1f\")>,\n",
       " <selenium.webdriver.remote.webelement.WebElement (session=\"fe5f0577857d8a6d14de4e57e7947b4e\", element=\"e493708c-546e-4d83-b088-3928f718da65\")>]"
      ]
     },
     "execution_count": 27,
     "metadata": {},
     "output_type": "execute_result"
    }
   ],
   "source": [
    "# GET EACH COLLEGE SPECIFICATION HEADERS\n",
    "header=browser.find_elements(\"xpath\",\"//div[@class='_click-function_ind']\")\n",
    "header\n"
   ]
  },
  {
   "cell_type": "code",
   "execution_count": 28,
   "id": "a6f1164b",
   "metadata": {},
   "outputs": [
    {
     "data": {
      "text/plain": [
       "['Overall Score',\n",
       " 'Academic Reputation',\n",
       " 'Employer Reputation',\n",
       " 'Citations per Faculty',\n",
       " 'Faculty Student Ratio',\n",
       " 'International Students Ratio',\n",
       " 'International Faculty Ratio',\n",
       " 'International Research Network\\nUnweighted',\n",
       " 'Employment Outcomes\\nUnweighted']"
      ]
     },
     "execution_count": 28,
     "metadata": {},
     "output_type": "execute_result"
    }
   ],
   "source": [
    "#PARSING DATA\n",
    "column_head=[]\n",
    "for data in header:\n",
    "    #get the text data\n",
    "    temp=data.text\n",
    "    column_head.append(temp)\n",
    "column_head"
   ]
  },
  {
   "cell_type": "code",
   "execution_count": 29,
   "id": "e8317398",
   "metadata": {},
   "outputs": [
    {
     "data": {
      "text/plain": [
       "[<selenium.webdriver.remote.webelement.WebElement (session=\"fe5f0577857d8a6d14de4e57e7947b4e\", element=\"e6dd536d-3151-4854-893d-fdb736306f9e\")>,\n",
       " <selenium.webdriver.remote.webelement.WebElement (session=\"fe5f0577857d8a6d14de4e57e7947b4e\", element=\"476971f3-8e1e-461f-8afe-d6662a3e1adf\")>,\n",
       " <selenium.webdriver.remote.webelement.WebElement (session=\"fe5f0577857d8a6d14de4e57e7947b4e\", element=\"39eccbee-f755-4654-a89f-dfcd62829192\")>,\n",
       " <selenium.webdriver.remote.webelement.WebElement (session=\"fe5f0577857d8a6d14de4e57e7947b4e\", element=\"d6482532-ad04-4679-a97b-764db9e00e4b\")>,\n",
       " <selenium.webdriver.remote.webelement.WebElement (session=\"fe5f0577857d8a6d14de4e57e7947b4e\", element=\"0c18aa86-c564-4075-afea-074b15cd0747\")>,\n",
       " <selenium.webdriver.remote.webelement.WebElement (session=\"fe5f0577857d8a6d14de4e57e7947b4e\", element=\"df951127-f37c-474c-9394-a1f132c337d3\")>,\n",
       " <selenium.webdriver.remote.webelement.WebElement (session=\"fe5f0577857d8a6d14de4e57e7947b4e\", element=\"6bb67b7a-02ee-4932-bc3a-f2c63b30f6c0\")>,\n",
       " <selenium.webdriver.remote.webelement.WebElement (session=\"fe5f0577857d8a6d14de4e57e7947b4e\", element=\"d7c7969b-d6c0-43ab-80fb-a4653c3cb3c6\")>,\n",
       " <selenium.webdriver.remote.webelement.WebElement (session=\"fe5f0577857d8a6d14de4e57e7947b4e\", element=\"6f72cff1-8f71-4d98-9393-fad2da8c57c2\")>,\n",
       " <selenium.webdriver.remote.webelement.WebElement (session=\"fe5f0577857d8a6d14de4e57e7947b4e\", element=\"83e85117-40f1-4f90-84de-a20961ca7be9\")>,\n",
       " <selenium.webdriver.remote.webelement.WebElement (session=\"fe5f0577857d8a6d14de4e57e7947b4e\", element=\"2f176633-48fe-4e3e-83d6-13a1b41c4a62\")>,\n",
       " <selenium.webdriver.remote.webelement.WebElement (session=\"fe5f0577857d8a6d14de4e57e7947b4e\", element=\"2997bf4a-9677-45ee-95cf-89ab1c3e51b7\")>,\n",
       " <selenium.webdriver.remote.webelement.WebElement (session=\"fe5f0577857d8a6d14de4e57e7947b4e\", element=\"a971633b-20ea-4eb9-92de-0c485ca79d04\")>,\n",
       " <selenium.webdriver.remote.webelement.WebElement (session=\"fe5f0577857d8a6d14de4e57e7947b4e\", element=\"a9109173-4e0e-47f5-95e7-105c85b5ac7f\")>,\n",
       " <selenium.webdriver.remote.webelement.WebElement (session=\"fe5f0577857d8a6d14de4e57e7947b4e\", element=\"62081640-00aa-4fd2-b0eb-6e76260d693b\")>,\n",
       " <selenium.webdriver.remote.webelement.WebElement (session=\"fe5f0577857d8a6d14de4e57e7947b4e\", element=\"b0386781-adeb-4970-8f10-ff28fc66512a\")>,\n",
       " <selenium.webdriver.remote.webelement.WebElement (session=\"fe5f0577857d8a6d14de4e57e7947b4e\", element=\"6bd86d7a-085a-45b4-bd4c-718441c9d444\")>,\n",
       " <selenium.webdriver.remote.webelement.WebElement (session=\"fe5f0577857d8a6d14de4e57e7947b4e\", element=\"c2d58943-c8f9-43fb-bff6-cce741c39f7a\")>,\n",
       " <selenium.webdriver.remote.webelement.WebElement (session=\"fe5f0577857d8a6d14de4e57e7947b4e\", element=\"4cc7fcd6-37fe-4e44-99ae-1843d20906e1\")>,\n",
       " <selenium.webdriver.remote.webelement.WebElement (session=\"fe5f0577857d8a6d14de4e57e7947b4e\", element=\"3edd3086-3fd6-48e3-8b39-b8dae4652c34\")>,\n",
       " <selenium.webdriver.remote.webelement.WebElement (session=\"fe5f0577857d8a6d14de4e57e7947b4e\", element=\"3595273e-cd09-4303-bd07-0303642b8874\")>,\n",
       " <selenium.webdriver.remote.webelement.WebElement (session=\"fe5f0577857d8a6d14de4e57e7947b4e\", element=\"a3a97249-57bf-4b79-82d0-4c25e3481d16\")>,\n",
       " <selenium.webdriver.remote.webelement.WebElement (session=\"fe5f0577857d8a6d14de4e57e7947b4e\", element=\"4adea29b-7720-456c-8c81-3eecf3747e55\")>,\n",
       " <selenium.webdriver.remote.webelement.WebElement (session=\"fe5f0577857d8a6d14de4e57e7947b4e\", element=\"e59567a0-69eb-49ec-9fd1-af8fdc1dba07\")>,\n",
       " <selenium.webdriver.remote.webelement.WebElement (session=\"fe5f0577857d8a6d14de4e57e7947b4e\", element=\"b878dec9-c297-45d7-acdf-f05a3e165dd6\")>,\n",
       " <selenium.webdriver.remote.webelement.WebElement (session=\"fe5f0577857d8a6d14de4e57e7947b4e\", element=\"de023819-20e7-4077-be81-7dd9b5c3a44e\")>,\n",
       " <selenium.webdriver.remote.webelement.WebElement (session=\"fe5f0577857d8a6d14de4e57e7947b4e\", element=\"135a7792-cae7-457c-8d99-5af0cf702e26\")>,\n",
       " <selenium.webdriver.remote.webelement.WebElement (session=\"fe5f0577857d8a6d14de4e57e7947b4e\", element=\"6c40bdba-f198-4aa0-beb9-a37c2d60c508\")>,\n",
       " <selenium.webdriver.remote.webelement.WebElement (session=\"fe5f0577857d8a6d14de4e57e7947b4e\", element=\"cedbb935-2d3f-4892-9e57-029fc2668711\")>,\n",
       " <selenium.webdriver.remote.webelement.WebElement (session=\"fe5f0577857d8a6d14de4e57e7947b4e\", element=\"8af3ac45-fe40-440d-bfbc-e16e413e44f6\")>,\n",
       " <selenium.webdriver.remote.webelement.WebElement (session=\"fe5f0577857d8a6d14de4e57e7947b4e\", element=\"7fb2c746-9215-4028-a9a6-c38eb9ba1ada\")>,\n",
       " <selenium.webdriver.remote.webelement.WebElement (session=\"fe5f0577857d8a6d14de4e57e7947b4e\", element=\"7753dd8a-2546-4fda-b8f0-a37907969d78\")>,\n",
       " <selenium.webdriver.remote.webelement.WebElement (session=\"fe5f0577857d8a6d14de4e57e7947b4e\", element=\"376b6b6b-fa86-43bb-8020-56cffa86c79e\")>,\n",
       " <selenium.webdriver.remote.webelement.WebElement (session=\"fe5f0577857d8a6d14de4e57e7947b4e\", element=\"2c80e404-9f45-4618-a055-0dee77b9e4cd\")>,\n",
       " <selenium.webdriver.remote.webelement.WebElement (session=\"fe5f0577857d8a6d14de4e57e7947b4e\", element=\"dd0a1994-be1e-47a6-9e3f-ac31481c99ba\")>,\n",
       " <selenium.webdriver.remote.webelement.WebElement (session=\"fe5f0577857d8a6d14de4e57e7947b4e\", element=\"148ba11e-54f2-442c-83af-3c937a86c826\")>,\n",
       " <selenium.webdriver.remote.webelement.WebElement (session=\"fe5f0577857d8a6d14de4e57e7947b4e\", element=\"75772104-ddb9-427d-9d7f-c140991806e1\")>,\n",
       " <selenium.webdriver.remote.webelement.WebElement (session=\"fe5f0577857d8a6d14de4e57e7947b4e\", element=\"197f6bb8-2cb3-4bfa-869a-f5980edb8935\")>,\n",
       " <selenium.webdriver.remote.webelement.WebElement (session=\"fe5f0577857d8a6d14de4e57e7947b4e\", element=\"38e27fb3-c889-4832-84fd-a707d5b23f9d\")>,\n",
       " <selenium.webdriver.remote.webelement.WebElement (session=\"fe5f0577857d8a6d14de4e57e7947b4e\", element=\"405bb41c-09e6-4f82-a9a7-4f8bb4a8ed0d\")>,\n",
       " <selenium.webdriver.remote.webelement.WebElement (session=\"fe5f0577857d8a6d14de4e57e7947b4e\", element=\"e7fda8db-9619-4e8d-bd6a-8b0045e5c3d1\")>,\n",
       " <selenium.webdriver.remote.webelement.WebElement (session=\"fe5f0577857d8a6d14de4e57e7947b4e\", element=\"a9262bd4-8184-4eee-9e85-b9c9fdcf963e\")>,\n",
       " <selenium.webdriver.remote.webelement.WebElement (session=\"fe5f0577857d8a6d14de4e57e7947b4e\", element=\"c94835a7-2b4f-4c27-8dbe-dad4517d09ae\")>,\n",
       " <selenium.webdriver.remote.webelement.WebElement (session=\"fe5f0577857d8a6d14de4e57e7947b4e\", element=\"2ab2bb7f-6d95-45df-bf7c-d7bf1ea82a2e\")>,\n",
       " <selenium.webdriver.remote.webelement.WebElement (session=\"fe5f0577857d8a6d14de4e57e7947b4e\", element=\"885a7c98-174c-4652-abcf-07f948c4f10d\")>,\n",
       " <selenium.webdriver.remote.webelement.WebElement (session=\"fe5f0577857d8a6d14de4e57e7947b4e\", element=\"6e4b48e4-8ead-4d4b-a222-86f0b3b0bbb5\")>,\n",
       " <selenium.webdriver.remote.webelement.WebElement (session=\"fe5f0577857d8a6d14de4e57e7947b4e\", element=\"37d43a52-39db-4333-b4cb-73d4d708437d\")>,\n",
       " <selenium.webdriver.remote.webelement.WebElement (session=\"fe5f0577857d8a6d14de4e57e7947b4e\", element=\"8a7a9760-f5ed-4444-ad1a-c20ae35a91b6\")>,\n",
       " <selenium.webdriver.remote.webelement.WebElement (session=\"fe5f0577857d8a6d14de4e57e7947b4e\", element=\"3716c73c-7644-42a2-87b5-ada2d156a245\")>,\n",
       " <selenium.webdriver.remote.webelement.WebElement (session=\"fe5f0577857d8a6d14de4e57e7947b4e\", element=\"a346c75a-03f7-4fe3-8241-adf84ed3e326\")>,\n",
       " <selenium.webdriver.remote.webelement.WebElement (session=\"fe5f0577857d8a6d14de4e57e7947b4e\", element=\"d6c4bdf5-4409-4843-bb7a-6d250cec3993\")>,\n",
       " <selenium.webdriver.remote.webelement.WebElement (session=\"fe5f0577857d8a6d14de4e57e7947b4e\", element=\"ef0b488a-dbac-4f23-82ae-5d1dddce4d44\")>,\n",
       " <selenium.webdriver.remote.webelement.WebElement (session=\"fe5f0577857d8a6d14de4e57e7947b4e\", element=\"04985251-194b-4069-afe6-c7b2a0a9788d\")>,\n",
       " <selenium.webdriver.remote.webelement.WebElement (session=\"fe5f0577857d8a6d14de4e57e7947b4e\", element=\"af94a284-05c8-43ff-81be-ee2bec3ce160\")>,\n",
       " <selenium.webdriver.remote.webelement.WebElement (session=\"fe5f0577857d8a6d14de4e57e7947b4e\", element=\"9589570a-2177-4819-8e33-7a3f4e603700\")>,\n",
       " <selenium.webdriver.remote.webelement.WebElement (session=\"fe5f0577857d8a6d14de4e57e7947b4e\", element=\"885ee664-aaca-4256-9ab4-289c50736b0b\")>,\n",
       " <selenium.webdriver.remote.webelement.WebElement (session=\"fe5f0577857d8a6d14de4e57e7947b4e\", element=\"b0e31b6a-5c01-451f-959c-3bcd7aae7cb4\")>,\n",
       " <selenium.webdriver.remote.webelement.WebElement (session=\"fe5f0577857d8a6d14de4e57e7947b4e\", element=\"b1c8871f-a9d2-4f74-ba10-960df67ab842\")>,\n",
       " <selenium.webdriver.remote.webelement.WebElement (session=\"fe5f0577857d8a6d14de4e57e7947b4e\", element=\"c273f7bd-a4e6-4ed0-af66-b1a20d3a99fb\")>,\n",
       " <selenium.webdriver.remote.webelement.WebElement (session=\"fe5f0577857d8a6d14de4e57e7947b4e\", element=\"45f6d129-154b-4fb2-985a-6e1227e5f118\")>,\n",
       " <selenium.webdriver.remote.webelement.WebElement (session=\"fe5f0577857d8a6d14de4e57e7947b4e\", element=\"8c016dbe-ba08-4a95-b5b6-457ffc5c97e4\")>,\n",
       " <selenium.webdriver.remote.webelement.WebElement (session=\"fe5f0577857d8a6d14de4e57e7947b4e\", element=\"23a7ea54-011c-4180-a613-96dd351a92fa\")>,\n",
       " <selenium.webdriver.remote.webelement.WebElement (session=\"fe5f0577857d8a6d14de4e57e7947b4e\", element=\"1c974e85-5383-4b05-9855-6a421ec795ef\")>,\n",
       " <selenium.webdriver.remote.webelement.WebElement (session=\"fe5f0577857d8a6d14de4e57e7947b4e\", element=\"0f8723c7-bf68-4295-9126-975f74e5617e\")>,\n",
       " <selenium.webdriver.remote.webelement.WebElement (session=\"fe5f0577857d8a6d14de4e57e7947b4e\", element=\"c7de45a1-eac4-4622-bcf0-b0a0b0586a09\")>,\n",
       " <selenium.webdriver.remote.webelement.WebElement (session=\"fe5f0577857d8a6d14de4e57e7947b4e\", element=\"c20ebf88-855c-447f-964b-66e97ab4fb2b\")>,\n",
       " <selenium.webdriver.remote.webelement.WebElement (session=\"fe5f0577857d8a6d14de4e57e7947b4e\", element=\"69121545-80fe-436e-b3d2-ae19f42fdf8e\")>,\n",
       " <selenium.webdriver.remote.webelement.WebElement (session=\"fe5f0577857d8a6d14de4e57e7947b4e\", element=\"58cd3790-cb49-463c-95f8-2a06c516f9fd\")>,\n",
       " <selenium.webdriver.remote.webelement.WebElement (session=\"fe5f0577857d8a6d14de4e57e7947b4e\", element=\"c0120c23-fd0d-46e4-ab2f-be05257785df\")>,\n",
       " <selenium.webdriver.remote.webelement.WebElement (session=\"fe5f0577857d8a6d14de4e57e7947b4e\", element=\"dbe16fb9-2b91-4433-b852-e457bd53fa1a\")>,\n",
       " <selenium.webdriver.remote.webelement.WebElement (session=\"fe5f0577857d8a6d14de4e57e7947b4e\", element=\"56526f52-cf4c-488d-931e-9e4141695809\")>,\n",
       " <selenium.webdriver.remote.webelement.WebElement (session=\"fe5f0577857d8a6d14de4e57e7947b4e\", element=\"b10ea3b3-43cc-4de9-8940-60de3a1e4f70\")>,\n",
       " <selenium.webdriver.remote.webelement.WebElement (session=\"fe5f0577857d8a6d14de4e57e7947b4e\", element=\"c62259c4-607f-44f9-9ad0-8297b5de83ed\")>,\n",
       " <selenium.webdriver.remote.webelement.WebElement (session=\"fe5f0577857d8a6d14de4e57e7947b4e\", element=\"3de4fd44-ccb6-4700-87d1-31d04406a6bf\")>,\n",
       " <selenium.webdriver.remote.webelement.WebElement (session=\"fe5f0577857d8a6d14de4e57e7947b4e\", element=\"8fbbfaca-3825-41a2-910b-db3b34978932\")>,\n",
       " <selenium.webdriver.remote.webelement.WebElement (session=\"fe5f0577857d8a6d14de4e57e7947b4e\", element=\"cc9b8ba9-636f-41d7-a492-a7dbeab52ea2\")>,\n",
       " <selenium.webdriver.remote.webelement.WebElement (session=\"fe5f0577857d8a6d14de4e57e7947b4e\", element=\"a238e54b-b164-462d-a26d-e157896298f7\")>,\n",
       " <selenium.webdriver.remote.webelement.WebElement (session=\"fe5f0577857d8a6d14de4e57e7947b4e\", element=\"3e8027b5-7722-49fe-a7c3-b6f28df4a28b\")>,\n",
       " <selenium.webdriver.remote.webelement.WebElement (session=\"fe5f0577857d8a6d14de4e57e7947b4e\", element=\"ea0de517-0e98-4355-aa3d-ac5eaa88140e\")>,\n",
       " <selenium.webdriver.remote.webelement.WebElement (session=\"fe5f0577857d8a6d14de4e57e7947b4e\", element=\"102f0a51-4552-4eae-a224-e797c6e5c7d3\")>,\n",
       " <selenium.webdriver.remote.webelement.WebElement (session=\"fe5f0577857d8a6d14de4e57e7947b4e\", element=\"72b77a1a-3bcf-4548-9f0b-aa3faafde9e2\")>,\n",
       " <selenium.webdriver.remote.webelement.WebElement (session=\"fe5f0577857d8a6d14de4e57e7947b4e\", element=\"438a73d6-6dac-4878-8a4d-beac0161ec91\")>,\n",
       " <selenium.webdriver.remote.webelement.WebElement (session=\"fe5f0577857d8a6d14de4e57e7947b4e\", element=\"aa046802-c02c-4280-bc81-425f5606fe15\")>,\n",
       " <selenium.webdriver.remote.webelement.WebElement (session=\"fe5f0577857d8a6d14de4e57e7947b4e\", element=\"5f46f086-b1af-469f-a667-009f95d28b49\")>,\n",
       " <selenium.webdriver.remote.webelement.WebElement (session=\"fe5f0577857d8a6d14de4e57e7947b4e\", element=\"1b2a7157-0f3e-41b8-94e8-02c05f22824d\")>,\n",
       " <selenium.webdriver.remote.webelement.WebElement (session=\"fe5f0577857d8a6d14de4e57e7947b4e\", element=\"7bdc51c4-a1bc-4c4f-a53e-2a18289ad38f\")>,\n",
       " <selenium.webdriver.remote.webelement.WebElement (session=\"fe5f0577857d8a6d14de4e57e7947b4e\", element=\"377f4a7f-1731-40e9-a300-9b8be0a05c19\")>,\n",
       " <selenium.webdriver.remote.webelement.WebElement (session=\"fe5f0577857d8a6d14de4e57e7947b4e\", element=\"64e94179-a93a-4a3d-8bc2-9ef5816b2498\")>,\n",
       " <selenium.webdriver.remote.webelement.WebElement (session=\"fe5f0577857d8a6d14de4e57e7947b4e\", element=\"3301ff02-d624-4724-9531-2425772f1a5b\")>,\n",
       " <selenium.webdriver.remote.webelement.WebElement (session=\"fe5f0577857d8a6d14de4e57e7947b4e\", element=\"d19cbd2e-e99b-420c-879a-a95452d7389e\")>,\n",
       " <selenium.webdriver.remote.webelement.WebElement (session=\"fe5f0577857d8a6d14de4e57e7947b4e\", element=\"cfb705e0-311e-4fa8-be86-635042aaec4c\")>,\n",
       " <selenium.webdriver.remote.webelement.WebElement (session=\"fe5f0577857d8a6d14de4e57e7947b4e\", element=\"5b696951-0bb1-4fd0-99d9-aa2427eec8e9\")>,\n",
       " <selenium.webdriver.remote.webelement.WebElement (session=\"fe5f0577857d8a6d14de4e57e7947b4e\", element=\"b619b185-47a0-402c-8441-cfe1176edd7f\")>,\n",
       " <selenium.webdriver.remote.webelement.WebElement (session=\"fe5f0577857d8a6d14de4e57e7947b4e\", element=\"6a7b9019-1730-424b-ab46-46169cd8e91c\")>,\n",
       " <selenium.webdriver.remote.webelement.WebElement (session=\"fe5f0577857d8a6d14de4e57e7947b4e\", element=\"837acdee-c433-4c11-91bd-cbe46404f9a9\")>,\n",
       " <selenium.webdriver.remote.webelement.WebElement (session=\"fe5f0577857d8a6d14de4e57e7947b4e\", element=\"ba0614d6-7bae-4cab-88f5-61a0593e8956\")>,\n",
       " <selenium.webdriver.remote.webelement.WebElement (session=\"fe5f0577857d8a6d14de4e57e7947b4e\", element=\"3236b09e-b0e8-4593-a60c-4337986cd672\")>,\n",
       " <selenium.webdriver.remote.webelement.WebElement (session=\"fe5f0577857d8a6d14de4e57e7947b4e\", element=\"7aeccacf-851e-4021-a09b-a0ceb2d8c8ae\")>,\n",
       " <selenium.webdriver.remote.webelement.WebElement (session=\"fe5f0577857d8a6d14de4e57e7947b4e\", element=\"399e5604-a8a5-4718-a727-2aaa8b22c56f\")>,\n",
       " <selenium.webdriver.remote.webelement.WebElement (session=\"fe5f0577857d8a6d14de4e57e7947b4e\", element=\"1f8af965-4559-41d1-b3a2-0deeec4ccc1b\")>]"
      ]
     },
     "execution_count": 29,
     "metadata": {},
     "output_type": "execute_result"
    }
   ],
   "source": [
    "header2=browser.find_elements(\"xpath\",\"//div[@class='td-wrap-in']\")\n",
    "header2"
   ]
  },
  {
   "cell_type": "code",
   "execution_count": 30,
   "id": "0b6206d1",
   "metadata": {},
   "outputs": [
    {
     "data": {
      "text/plain": [
       "['97', '96.5', '87.1', '100', '100', '85.1', '99.8', '73', '98.8']"
      ]
     },
     "execution_count": 30,
     "metadata": {},
     "output_type": "execute_result"
    }
   ],
   "source": [
    "#PARSING DATA\n",
    "value_head=[]\n",
    "for data in header2:\n",
    "    #get the text data\n",
    "    temp=data.text\n",
    "    value_head.append(temp)\n",
    "value=value_head[51:60]\n",
    "value"
   ]
  },
  {
   "cell_type": "code",
   "execution_count": 33,
   "id": "9a60b9a4",
   "metadata": {},
   "outputs": [
    {
     "data": {
      "text/plain": [
       "{'Name': 'California Institute of Technology (Caltech)',\n",
       " 'Location': 'Pasadena, United States',\n",
       " 'Rank': '=6',\n",
       " 'Overall Score': '97',\n",
       " 'Academic Reputation': '96.5',\n",
       " 'Employer Reputation': '87.1',\n",
       " 'Citations per Faculty': '100',\n",
       " 'Faculty Student Ratio': '100',\n",
       " 'International Students Ratio': '85.1',\n",
       " 'International Faculty Ratio': '99.8',\n",
       " 'International Research Network\\nUnweighted': '73',\n",
       " 'Employment Outcomes\\nUnweighted': '98.8'}"
      ]
     },
     "execution_count": 33,
     "metadata": {},
     "output_type": "execute_result"
    }
   ],
   "source": [
    "d={}\n",
    "d['Name']=value_head[50]\n",
    "d['Location']=loc[5]\n",
    "d['Rank']=RANK[5]\n",
    "for i in range(len(column_head)):\n",
    "    d[column_head[i]]=value[i]\n",
    "d"
   ]
  },
  {
   "cell_type": "code",
   "execution_count": 34,
   "id": "cca0ecc0",
   "metadata": {},
   "outputs": [
    {
     "data": {
      "text/plain": [
       "'{\"Name\": \"California Institute of Technology (Caltech)\", \"Location\": \"Pasadena, United States\", \"Rank\": \"=6\", \"Overall Score\": \"97\", \"Academic Reputation\": \"96.5\", \"Employer Reputation\": \"87.1\", \"Citations per Faculty\": \"100\", \"Faculty Student Ratio\": \"100\", \"International Students Ratio\": \"85.1\", \"International Faculty Ratio\": \"99.8\", \"International Research Network\\\\nUnweighted\": \"73\", \"Employment Outcomes\\\\nUnweighted\": \"98.8\"}'"
      ]
     },
     "execution_count": 34,
     "metadata": {},
     "output_type": "execute_result"
    }
   ],
   "source": [
    "s1=json.dumps(d)\n",
    "s1\n"
   ]
  },
  {
   "cell_type": "code",
   "execution_count": 35,
   "id": "f212eb1d",
   "metadata": {},
   "outputs": [],
   "source": [
    "with open('California Institute of Technology (Caltech).json','w') as f:\n",
    "    json.dump(d,f)\n"
   ]
  },
  {
   "cell_type": "code",
   "execution_count": null,
   "id": "214801a9",
   "metadata": {},
   "outputs": [],
   "source": []
  },
  {
   "cell_type": "code",
   "execution_count": null,
   "id": "d65e0994",
   "metadata": {},
   "outputs": [],
   "source": []
  }
 ],
 "metadata": {
  "kernelspec": {
   "display_name": "Python 3 (ipykernel)",
   "language": "python",
   "name": "python3"
  },
  "language_info": {
   "codemirror_mode": {
    "name": "ipython",
    "version": 3
   },
   "file_extension": ".py",
   "mimetype": "text/x-python",
   "name": "python",
   "nbconvert_exporter": "python",
   "pygments_lexer": "ipython3",
   "version": "3.9.12"
  }
 },
 "nbformat": 4,
 "nbformat_minor": 5
}
