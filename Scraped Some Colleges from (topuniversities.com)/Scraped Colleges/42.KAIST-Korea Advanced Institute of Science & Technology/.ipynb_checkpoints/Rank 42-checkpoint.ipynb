{
 "cells": [
  {
   "cell_type": "code",
   "execution_count": 1,
   "id": "33fac146",
   "metadata": {},
   "outputs": [],
   "source": [
    "from selenium import webdriver\n",
    "from selenium.webdriver.chrome.service import Service\n",
    "import pandas as pd\n",
    "import json"
   ]
  },
  {
   "cell_type": "code",
   "execution_count": 2,
   "id": "20e77adf",
   "metadata": {},
   "outputs": [],
   "source": [
    "path = Service('C:\\chromedriver.exe')"
   ]
  },
  {
   "cell_type": "code",
   "execution_count": 3,
   "id": "3ac9f0b7",
   "metadata": {},
   "outputs": [],
   "source": [
    "# set path for the driver\n",
    "browser = webdriver.Chrome(service = path)"
   ]
  },
  {
   "cell_type": "code",
   "execution_count": 4,
   "id": "9bd8d1d7",
   "metadata": {},
   "outputs": [],
   "source": [
    "url = \"https://www.topuniversities.com/university-rankings/world-university-rankings/2023\""
   ]
  },
  {
   "cell_type": "code",
   "execution_count": 5,
   "id": "d1b8e448",
   "metadata": {},
   "outputs": [],
   "source": [
    "\n",
    "# open the page url ion chrome\n",
    "browser.get(url)"
   ]
  },
  {
   "cell_type": "code",
   "execution_count": 7,
   "id": "9e7457d6",
   "metadata": {},
   "outputs": [
    {
     "data": {
      "text/plain": [
       "[<selenium.webdriver.remote.webelement.WebElement (session=\"d65f9304765d119c1891c06154ac42e8\", element=\"a2e28adb-f633-4d53-8c70-331385c7e900\")>,\n",
       " <selenium.webdriver.remote.webelement.WebElement (session=\"d65f9304765d119c1891c06154ac42e8\", element=\"3739d41e-7058-4941-80d7-b480e1f94ad0\")>,\n",
       " <selenium.webdriver.remote.webelement.WebElement (session=\"d65f9304765d119c1891c06154ac42e8\", element=\"ad4f2ed9-6b32-4701-93ab-bae7cef29d77\")>,\n",
       " <selenium.webdriver.remote.webelement.WebElement (session=\"d65f9304765d119c1891c06154ac42e8\", element=\"74f4f962-bbee-4fc2-a2e9-c7742a0eca3f\")>,\n",
       " <selenium.webdriver.remote.webelement.WebElement (session=\"d65f9304765d119c1891c06154ac42e8\", element=\"301eefab-0c20-481e-a57a-4794dfc7705b\")>,\n",
       " <selenium.webdriver.remote.webelement.WebElement (session=\"d65f9304765d119c1891c06154ac42e8\", element=\"22243af8-1658-47e0-a4bb-fc8d1c9a2ba4\")>,\n",
       " <selenium.webdriver.remote.webelement.WebElement (session=\"d65f9304765d119c1891c06154ac42e8\", element=\"79fc231c-cade-4966-a87b-41d4e447969c\")>,\n",
       " <selenium.webdriver.remote.webelement.WebElement (session=\"d65f9304765d119c1891c06154ac42e8\", element=\"be54b0f4-29b0-4024-a7c5-8dd28dc0114a\")>,\n",
       " <selenium.webdriver.remote.webelement.WebElement (session=\"d65f9304765d119c1891c06154ac42e8\", element=\"41647a3f-ff27-4a14-8f14-9b7ab3dcd490\")>,\n",
       " <selenium.webdriver.remote.webelement.WebElement (session=\"d65f9304765d119c1891c06154ac42e8\", element=\"4fffb8f3-0ae7-4d15-a71a-423c3eba9c1b\")>,\n",
       " <selenium.webdriver.remote.webelement.WebElement (session=\"d65f9304765d119c1891c06154ac42e8\", element=\"4ab7ee9a-fdd4-4249-a0a3-4649a732aec3\")>,\n",
       " <selenium.webdriver.remote.webelement.WebElement (session=\"d65f9304765d119c1891c06154ac42e8\", element=\"3870e3af-ec06-4736-8372-6d152a8fd999\")>,\n",
       " <selenium.webdriver.remote.webelement.WebElement (session=\"d65f9304765d119c1891c06154ac42e8\", element=\"2f7fd3b0-c244-436e-900d-389586efb614\")>,\n",
       " <selenium.webdriver.remote.webelement.WebElement (session=\"d65f9304765d119c1891c06154ac42e8\", element=\"0d294c0c-2976-4ce2-af25-44ac560a6b6c\")>,\n",
       " <selenium.webdriver.remote.webelement.WebElement (session=\"d65f9304765d119c1891c06154ac42e8\", element=\"341901a0-3c09-4fd8-8e09-381cf67e3193\")>,\n",
       " <selenium.webdriver.remote.webelement.WebElement (session=\"d65f9304765d119c1891c06154ac42e8\", element=\"a4fa0cf3-2cb2-48b4-b192-5db3501e86c5\")>,\n",
       " <selenium.webdriver.remote.webelement.WebElement (session=\"d65f9304765d119c1891c06154ac42e8\", element=\"f13a2525-9434-466a-8987-710ca05fc7e2\")>,\n",
       " <selenium.webdriver.remote.webelement.WebElement (session=\"d65f9304765d119c1891c06154ac42e8\", element=\"e4192f0b-39fc-4a41-a72e-e67338cf297a\")>,\n",
       " <selenium.webdriver.remote.webelement.WebElement (session=\"d65f9304765d119c1891c06154ac42e8\", element=\"9c49568e-32c1-434f-bd1b-a1133f32275f\")>,\n",
       " <selenium.webdriver.remote.webelement.WebElement (session=\"d65f9304765d119c1891c06154ac42e8\", element=\"68d2984a-6c8f-4d0b-be06-4e91e0eecdc1\")>]"
      ]
     },
     "execution_count": 7,
     "metadata": {},
     "output_type": "execute_result"
    }
   ],
   "source": [
    "l1=browser.find_elements(\"xpath\",\"//div[@class='location ']\")\n",
    "l1\n"
   ]
  },
  {
   "cell_type": "code",
   "execution_count": 8,
   "id": "02475313",
   "metadata": {},
   "outputs": [
    {
     "data": {
      "text/plain": [
       "['Sydney, Australia',\n",
       " 'Daejeon, South Korea',\n",
       " 'Hangzhou, China (Mainland)',\n",
       " 'Los Angeles, United States',\n",
       " 'Sydney, Australia',\n",
       " 'Shanghai, China (Mainland)',\n",
       " 'Vancouver, Canada',\n",
       " 'Palaiseau Cedex, France',\n",
       " 'Munich, Germany',\n",
       " 'Durham, United States']"
      ]
     },
     "execution_count": 8,
     "metadata": {},
     "output_type": "execute_result"
    }
   ],
   "source": [
    "loc=[]\n",
    "for data in l1:\n",
    "    #get the text data\n",
    "    temp=data.text\n",
    "    loc.append(temp)\n",
    "loc=loc[10:]\n",
    "loc"
   ]
  },
  {
   "cell_type": "code",
   "execution_count": 9,
   "id": "ac7bead8",
   "metadata": {},
   "outputs": [
    {
     "data": {
      "text/plain": [
       "[<selenium.webdriver.remote.webelement.WebElement (session=\"d65f9304765d119c1891c06154ac42e8\", element=\"5463df48-31e9-4e4d-b9d3-14c4cedf46a4\")>,\n",
       " <selenium.webdriver.remote.webelement.WebElement (session=\"d65f9304765d119c1891c06154ac42e8\", element=\"0be268b7-e487-47da-8b10-74941f694031\")>,\n",
       " <selenium.webdriver.remote.webelement.WebElement (session=\"d65f9304765d119c1891c06154ac42e8\", element=\"49d1bf30-9c2e-4b77-8a92-64684eb10ab2\")>,\n",
       " <selenium.webdriver.remote.webelement.WebElement (session=\"d65f9304765d119c1891c06154ac42e8\", element=\"1eeaf54a-c971-4af5-b7fa-28a1d7e43e30\")>,\n",
       " <selenium.webdriver.remote.webelement.WebElement (session=\"d65f9304765d119c1891c06154ac42e8\", element=\"9345e283-59ce-4b0b-b5b2-882d48667c6e\")>,\n",
       " <selenium.webdriver.remote.webelement.WebElement (session=\"d65f9304765d119c1891c06154ac42e8\", element=\"b1e37bd5-453a-4701-b99f-cb5b59a0842d\")>,\n",
       " <selenium.webdriver.remote.webelement.WebElement (session=\"d65f9304765d119c1891c06154ac42e8\", element=\"c057d801-1aec-499e-9f53-1c34a52e4744\")>,\n",
       " <selenium.webdriver.remote.webelement.WebElement (session=\"d65f9304765d119c1891c06154ac42e8\", element=\"eff3e6da-8bb2-49c1-a42c-daf073476a04\")>,\n",
       " <selenium.webdriver.remote.webelement.WebElement (session=\"d65f9304765d119c1891c06154ac42e8\", element=\"1cc4b472-c25a-4abf-a777-5cbbb8e5756b\")>,\n",
       " <selenium.webdriver.remote.webelement.WebElement (session=\"d65f9304765d119c1891c06154ac42e8\", element=\"4af00fb8-ef9e-43e6-b389-38c2e3fdab18\")>]"
      ]
     },
     "execution_count": 9,
     "metadata": {},
     "output_type": "execute_result"
    }
   ],
   "source": [
    "l2=browser.find_elements(\"xpath\",\"//div[@class='_univ-rank ']\")\n",
    "l2\n"
   ]
  },
  {
   "cell_type": "code",
   "execution_count": 10,
   "id": "ff92165b",
   "metadata": {},
   "outputs": [
    {
     "data": {
      "text/plain": [
       "['41', '=42', '=42', '44', '45', '46', '47', '48', '49', '=50']"
      ]
     },
     "execution_count": 10,
     "metadata": {},
     "output_type": "execute_result"
    }
   ],
   "source": [
    "RANK=[]\n",
    "for data in l2:\n",
    "    #get the text data\n",
    "    temp=data.text\n",
    "    RANK.append(temp)\n",
    "RANK"
   ]
  },
  {
   "cell_type": "code",
   "execution_count": 11,
   "id": "8bc45558",
   "metadata": {},
   "outputs": [
    {
     "data": {
      "text/plain": [
       "[<selenium.webdriver.remote.webelement.WebElement (session=\"d65f9304765d119c1891c06154ac42e8\", element=\"90c83787-f114-4cdc-95ed-706cb0f40b07\")>,\n",
       " <selenium.webdriver.remote.webelement.WebElement (session=\"d65f9304765d119c1891c06154ac42e8\", element=\"ff82715a-5603-4d87-b96b-090b64825ed7\")>,\n",
       " <selenium.webdriver.remote.webelement.WebElement (session=\"d65f9304765d119c1891c06154ac42e8\", element=\"fdd397a0-6327-4c80-a4b2-37cc4a394855\")>,\n",
       " <selenium.webdriver.remote.webelement.WebElement (session=\"d65f9304765d119c1891c06154ac42e8\", element=\"3e50090e-fc82-4d31-874c-60a92a55f2a7\")>,\n",
       " <selenium.webdriver.remote.webelement.WebElement (session=\"d65f9304765d119c1891c06154ac42e8\", element=\"552c7982-22d9-4a6e-9f55-54953fab2fb4\")>,\n",
       " <selenium.webdriver.remote.webelement.WebElement (session=\"d65f9304765d119c1891c06154ac42e8\", element=\"735847f4-f00e-4687-9ff8-6400636950e0\")>,\n",
       " <selenium.webdriver.remote.webelement.WebElement (session=\"d65f9304765d119c1891c06154ac42e8\", element=\"1c34df4a-f052-4014-9679-ce2d7e4c03b2\")>,\n",
       " <selenium.webdriver.remote.webelement.WebElement (session=\"d65f9304765d119c1891c06154ac42e8\", element=\"dbcfe9e3-1ec9-4813-9d62-e6b63782deb5\")>,\n",
       " <selenium.webdriver.remote.webelement.WebElement (session=\"d65f9304765d119c1891c06154ac42e8\", element=\"a67a64f9-2dfc-4aa9-9b2e-9d911402dc37\")>]"
      ]
     },
     "execution_count": 11,
     "metadata": {},
     "output_type": "execute_result"
    }
   ],
   "source": [
    "# GET EACH COLLEGE SPECIFICATION HEADERS\n",
    "header=browser.find_elements(\"xpath\",\"//div[@class='_click-function_ind']\")\n",
    "header\n"
   ]
  },
  {
   "cell_type": "code",
   "execution_count": 12,
   "id": "e0849681",
   "metadata": {},
   "outputs": [
    {
     "data": {
      "text/plain": [
       "['Overall Score',\n",
       " 'Academic Reputation',\n",
       " 'Employer Reputation',\n",
       " 'Citations per Faculty',\n",
       " 'Faculty Student Ratio',\n",
       " 'International Students Ratio',\n",
       " 'International Faculty Ratio',\n",
       " 'International Research Network\\nUnweighted',\n",
       " 'Employment Outcomes\\nUnweighted']"
      ]
     },
     "execution_count": 12,
     "metadata": {},
     "output_type": "execute_result"
    }
   ],
   "source": [
    "#PARSING DATA\n",
    "column_head=[]\n",
    "for data in header:\n",
    "    #get the text data\n",
    "    temp=data.text\n",
    "    column_head.append(temp)\n",
    "column_head"
   ]
  },
  {
   "cell_type": "code",
   "execution_count": 13,
   "id": "8f7bea8c",
   "metadata": {},
   "outputs": [
    {
     "data": {
      "text/plain": [
       "[<selenium.webdriver.remote.webelement.WebElement (session=\"d65f9304765d119c1891c06154ac42e8\", element=\"4eea0689-6464-49f6-a0ba-ac95512a58ef\")>,\n",
       " <selenium.webdriver.remote.webelement.WebElement (session=\"d65f9304765d119c1891c06154ac42e8\", element=\"5a3f2831-0a16-4db9-bee0-c61aeeef8466\")>,\n",
       " <selenium.webdriver.remote.webelement.WebElement (session=\"d65f9304765d119c1891c06154ac42e8\", element=\"8152d2ff-e8d7-4317-83f7-d71b0e397d28\")>,\n",
       " <selenium.webdriver.remote.webelement.WebElement (session=\"d65f9304765d119c1891c06154ac42e8\", element=\"66595e38-e335-4bf2-bdfa-24e5cad376ef\")>,\n",
       " <selenium.webdriver.remote.webelement.WebElement (session=\"d65f9304765d119c1891c06154ac42e8\", element=\"0222053b-0c9d-41ff-9f74-fdf42bed5fa2\")>,\n",
       " <selenium.webdriver.remote.webelement.WebElement (session=\"d65f9304765d119c1891c06154ac42e8\", element=\"ae58cbab-44ad-42f2-b74b-4d77020a94fd\")>,\n",
       " <selenium.webdriver.remote.webelement.WebElement (session=\"d65f9304765d119c1891c06154ac42e8\", element=\"1d80349d-67ea-483b-812b-bd102e802cdf\")>,\n",
       " <selenium.webdriver.remote.webelement.WebElement (session=\"d65f9304765d119c1891c06154ac42e8\", element=\"76db9413-1ec3-45af-bb15-377bb499bb33\")>,\n",
       " <selenium.webdriver.remote.webelement.WebElement (session=\"d65f9304765d119c1891c06154ac42e8\", element=\"87888d08-9234-4c5f-8448-75c4807dd55a\")>,\n",
       " <selenium.webdriver.remote.webelement.WebElement (session=\"d65f9304765d119c1891c06154ac42e8\", element=\"30e7676f-155f-4a16-beb8-f87c11c29905\")>,\n",
       " <selenium.webdriver.remote.webelement.WebElement (session=\"d65f9304765d119c1891c06154ac42e8\", element=\"5d00da87-de70-4270-a883-5a7afdc65f66\")>,\n",
       " <selenium.webdriver.remote.webelement.WebElement (session=\"d65f9304765d119c1891c06154ac42e8\", element=\"aad667d5-7d73-4d1e-9712-1ca066607924\")>,\n",
       " <selenium.webdriver.remote.webelement.WebElement (session=\"d65f9304765d119c1891c06154ac42e8\", element=\"314edcbf-c909-41a1-9568-432e0ead0075\")>,\n",
       " <selenium.webdriver.remote.webelement.WebElement (session=\"d65f9304765d119c1891c06154ac42e8\", element=\"f0e2b4cd-4dca-4a94-a31c-ad832763e5f4\")>,\n",
       " <selenium.webdriver.remote.webelement.WebElement (session=\"d65f9304765d119c1891c06154ac42e8\", element=\"47d84301-0590-4f16-afd4-853831b7647d\")>,\n",
       " <selenium.webdriver.remote.webelement.WebElement (session=\"d65f9304765d119c1891c06154ac42e8\", element=\"63fda641-4c37-44f1-bb67-fc92b821165d\")>,\n",
       " <selenium.webdriver.remote.webelement.WebElement (session=\"d65f9304765d119c1891c06154ac42e8\", element=\"0c85dd8b-e07a-47db-b1d9-120ac5747227\")>,\n",
       " <selenium.webdriver.remote.webelement.WebElement (session=\"d65f9304765d119c1891c06154ac42e8\", element=\"938c4ef7-3439-410c-86e7-6a4f67e94056\")>,\n",
       " <selenium.webdriver.remote.webelement.WebElement (session=\"d65f9304765d119c1891c06154ac42e8\", element=\"e8ada752-222a-440c-9bf7-c03f616f0066\")>,\n",
       " <selenium.webdriver.remote.webelement.WebElement (session=\"d65f9304765d119c1891c06154ac42e8\", element=\"eaea4d4d-cf32-47c3-a30a-69985d39b8ed\")>,\n",
       " <selenium.webdriver.remote.webelement.WebElement (session=\"d65f9304765d119c1891c06154ac42e8\", element=\"9d8f0293-8813-4c15-a28d-7568e4dc4b05\")>,\n",
       " <selenium.webdriver.remote.webelement.WebElement (session=\"d65f9304765d119c1891c06154ac42e8\", element=\"7bc3d3fe-056a-4b75-9d7d-5afb7daaefa7\")>,\n",
       " <selenium.webdriver.remote.webelement.WebElement (session=\"d65f9304765d119c1891c06154ac42e8\", element=\"f0a1cbc7-1973-43b2-a47e-4430c7b6ca6c\")>,\n",
       " <selenium.webdriver.remote.webelement.WebElement (session=\"d65f9304765d119c1891c06154ac42e8\", element=\"2a311aab-b46a-42e9-a417-ee1e04406a3e\")>,\n",
       " <selenium.webdriver.remote.webelement.WebElement (session=\"d65f9304765d119c1891c06154ac42e8\", element=\"47165471-640f-47d3-9cfd-576c233847b9\")>,\n",
       " <selenium.webdriver.remote.webelement.WebElement (session=\"d65f9304765d119c1891c06154ac42e8\", element=\"a5b10554-a78b-4453-936a-09afebe09ed2\")>,\n",
       " <selenium.webdriver.remote.webelement.WebElement (session=\"d65f9304765d119c1891c06154ac42e8\", element=\"81c7083f-ab29-4487-9b65-f805b4fbea55\")>,\n",
       " <selenium.webdriver.remote.webelement.WebElement (session=\"d65f9304765d119c1891c06154ac42e8\", element=\"0053cf17-d75a-4417-a44e-f63ae7f708ee\")>,\n",
       " <selenium.webdriver.remote.webelement.WebElement (session=\"d65f9304765d119c1891c06154ac42e8\", element=\"1eb4ba39-c8ab-428e-918d-ce089a351efc\")>,\n",
       " <selenium.webdriver.remote.webelement.WebElement (session=\"d65f9304765d119c1891c06154ac42e8\", element=\"14cea2f0-b5b1-472b-aca2-49b7020db5aa\")>,\n",
       " <selenium.webdriver.remote.webelement.WebElement (session=\"d65f9304765d119c1891c06154ac42e8\", element=\"d6660cdd-e278-48f9-abb3-93d5bbf22975\")>,\n",
       " <selenium.webdriver.remote.webelement.WebElement (session=\"d65f9304765d119c1891c06154ac42e8\", element=\"9245a2f8-11be-4dc3-9aba-2f409c04b284\")>,\n",
       " <selenium.webdriver.remote.webelement.WebElement (session=\"d65f9304765d119c1891c06154ac42e8\", element=\"8da2e37f-0f4c-4072-a0ef-279c236f27f7\")>,\n",
       " <selenium.webdriver.remote.webelement.WebElement (session=\"d65f9304765d119c1891c06154ac42e8\", element=\"75c72419-6d3b-42c1-b6cf-85826278d599\")>,\n",
       " <selenium.webdriver.remote.webelement.WebElement (session=\"d65f9304765d119c1891c06154ac42e8\", element=\"88049d92-dd37-4636-921a-ec2b9ebb2df1\")>,\n",
       " <selenium.webdriver.remote.webelement.WebElement (session=\"d65f9304765d119c1891c06154ac42e8\", element=\"1c459149-41fe-4cf5-84f3-61dec15340cf\")>,\n",
       " <selenium.webdriver.remote.webelement.WebElement (session=\"d65f9304765d119c1891c06154ac42e8\", element=\"a4e39b0c-1d54-4b4d-b142-ea30b89947d6\")>,\n",
       " <selenium.webdriver.remote.webelement.WebElement (session=\"d65f9304765d119c1891c06154ac42e8\", element=\"5a740856-7823-44c8-aa21-11ca78f8f144\")>,\n",
       " <selenium.webdriver.remote.webelement.WebElement (session=\"d65f9304765d119c1891c06154ac42e8\", element=\"87911ce4-d283-4e4a-b6bf-3eff77073ff4\")>,\n",
       " <selenium.webdriver.remote.webelement.WebElement (session=\"d65f9304765d119c1891c06154ac42e8\", element=\"7da28a29-93f4-4c63-b9e3-602581823db8\")>,\n",
       " <selenium.webdriver.remote.webelement.WebElement (session=\"d65f9304765d119c1891c06154ac42e8\", element=\"0e1d07c8-67d4-4c9a-839c-9562a97f4376\")>,\n",
       " <selenium.webdriver.remote.webelement.WebElement (session=\"d65f9304765d119c1891c06154ac42e8\", element=\"c4629198-bc92-4170-bccb-4d20925ef7f2\")>,\n",
       " <selenium.webdriver.remote.webelement.WebElement (session=\"d65f9304765d119c1891c06154ac42e8\", element=\"d73f4f7c-ea34-4c5b-a33b-86ded134ecee\")>,\n",
       " <selenium.webdriver.remote.webelement.WebElement (session=\"d65f9304765d119c1891c06154ac42e8\", element=\"fe8bf6df-4918-468e-b32f-158ff2f5e9fe\")>,\n",
       " <selenium.webdriver.remote.webelement.WebElement (session=\"d65f9304765d119c1891c06154ac42e8\", element=\"96d14a73-f7d8-4f67-bc4b-40a776e879d1\")>,\n",
       " <selenium.webdriver.remote.webelement.WebElement (session=\"d65f9304765d119c1891c06154ac42e8\", element=\"7551f030-f589-4c78-a71a-b1a502dda99e\")>,\n",
       " <selenium.webdriver.remote.webelement.WebElement (session=\"d65f9304765d119c1891c06154ac42e8\", element=\"89d42a31-912b-40a4-91f8-f921e7168a02\")>,\n",
       " <selenium.webdriver.remote.webelement.WebElement (session=\"d65f9304765d119c1891c06154ac42e8\", element=\"368a4ec2-e63d-42ea-b55b-02470d22acab\")>,\n",
       " <selenium.webdriver.remote.webelement.WebElement (session=\"d65f9304765d119c1891c06154ac42e8\", element=\"a6b1dfdc-4627-4b89-9bd8-22123dd0be7c\")>,\n",
       " <selenium.webdriver.remote.webelement.WebElement (session=\"d65f9304765d119c1891c06154ac42e8\", element=\"e8ad2217-b069-4c5b-834a-e3490c68433e\")>,\n",
       " <selenium.webdriver.remote.webelement.WebElement (session=\"d65f9304765d119c1891c06154ac42e8\", element=\"c56b9bd5-fa46-469f-84fb-bbe84de675cd\")>,\n",
       " <selenium.webdriver.remote.webelement.WebElement (session=\"d65f9304765d119c1891c06154ac42e8\", element=\"3301445a-f7f6-4d2e-9b79-f6519c65b26e\")>,\n",
       " <selenium.webdriver.remote.webelement.WebElement (session=\"d65f9304765d119c1891c06154ac42e8\", element=\"f1750416-4411-42b6-bda0-a4627a2fb666\")>,\n",
       " <selenium.webdriver.remote.webelement.WebElement (session=\"d65f9304765d119c1891c06154ac42e8\", element=\"5e879ba9-22b3-4068-a39b-88667b78cacd\")>,\n",
       " <selenium.webdriver.remote.webelement.WebElement (session=\"d65f9304765d119c1891c06154ac42e8\", element=\"d96497a1-5d5a-46df-8e84-559c118e011b\")>,\n",
       " <selenium.webdriver.remote.webelement.WebElement (session=\"d65f9304765d119c1891c06154ac42e8\", element=\"820a663b-1ce5-484d-9c05-670c50d39bb2\")>,\n",
       " <selenium.webdriver.remote.webelement.WebElement (session=\"d65f9304765d119c1891c06154ac42e8\", element=\"99199e96-1231-46af-9f7d-434160da8de5\")>,\n",
       " <selenium.webdriver.remote.webelement.WebElement (session=\"d65f9304765d119c1891c06154ac42e8\", element=\"9a74ecb8-9417-4c70-896b-9f600fc94980\")>,\n",
       " <selenium.webdriver.remote.webelement.WebElement (session=\"d65f9304765d119c1891c06154ac42e8\", element=\"084bf32c-8fd5-4cb1-b355-0e15cbfe0c2d\")>,\n",
       " <selenium.webdriver.remote.webelement.WebElement (session=\"d65f9304765d119c1891c06154ac42e8\", element=\"d06a4921-39f3-46d8-a749-9369caf970b2\")>,\n",
       " <selenium.webdriver.remote.webelement.WebElement (session=\"d65f9304765d119c1891c06154ac42e8\", element=\"31ac55f1-88f9-4352-9f29-5c63bdf7de72\")>,\n",
       " <selenium.webdriver.remote.webelement.WebElement (session=\"d65f9304765d119c1891c06154ac42e8\", element=\"993793f1-604f-4d4f-9747-4bcd9e9c4e16\")>,\n",
       " <selenium.webdriver.remote.webelement.WebElement (session=\"d65f9304765d119c1891c06154ac42e8\", element=\"f4bfa3d7-3c18-409c-906d-b0a0138d5be8\")>,\n",
       " <selenium.webdriver.remote.webelement.WebElement (session=\"d65f9304765d119c1891c06154ac42e8\", element=\"8c21c034-a661-4257-ab10-0890af2a5767\")>,\n",
       " <selenium.webdriver.remote.webelement.WebElement (session=\"d65f9304765d119c1891c06154ac42e8\", element=\"3d2708d5-dbe1-4acc-aa0f-c1bb7d06300f\")>,\n",
       " <selenium.webdriver.remote.webelement.WebElement (session=\"d65f9304765d119c1891c06154ac42e8\", element=\"b50aaccd-1014-4b57-b68b-44133b8305e0\")>,\n",
       " <selenium.webdriver.remote.webelement.WebElement (session=\"d65f9304765d119c1891c06154ac42e8\", element=\"f1f18f74-8d79-4dd0-8390-56fea83ce892\")>,\n",
       " <selenium.webdriver.remote.webelement.WebElement (session=\"d65f9304765d119c1891c06154ac42e8\", element=\"596cc7d6-3853-409b-a5fd-89458564dcf0\")>,\n",
       " <selenium.webdriver.remote.webelement.WebElement (session=\"d65f9304765d119c1891c06154ac42e8\", element=\"a7b2e285-ca3e-4a36-b550-e5d6e0550c91\")>,\n",
       " <selenium.webdriver.remote.webelement.WebElement (session=\"d65f9304765d119c1891c06154ac42e8\", element=\"3d2e07e5-e6ac-4efc-ad76-a611d28b4cfb\")>,\n",
       " <selenium.webdriver.remote.webelement.WebElement (session=\"d65f9304765d119c1891c06154ac42e8\", element=\"5563a1fb-6d5d-48cf-be99-2a22772bc1b4\")>,\n",
       " <selenium.webdriver.remote.webelement.WebElement (session=\"d65f9304765d119c1891c06154ac42e8\", element=\"61bba7b5-9927-4c43-b854-88f7fd57da16\")>,\n",
       " <selenium.webdriver.remote.webelement.WebElement (session=\"d65f9304765d119c1891c06154ac42e8\", element=\"e464a7e7-f7c9-40fa-bc12-e559707e37c0\")>,\n",
       " <selenium.webdriver.remote.webelement.WebElement (session=\"d65f9304765d119c1891c06154ac42e8\", element=\"25858f75-7e20-47ec-b2e0-63b65ecdf85c\")>,\n",
       " <selenium.webdriver.remote.webelement.WebElement (session=\"d65f9304765d119c1891c06154ac42e8\", element=\"c83a3dc7-d827-40f5-b7b9-34ebbd42c51d\")>,\n",
       " <selenium.webdriver.remote.webelement.WebElement (session=\"d65f9304765d119c1891c06154ac42e8\", element=\"276fead7-cd96-4521-9e9d-ee43c5bf9219\")>,\n",
       " <selenium.webdriver.remote.webelement.WebElement (session=\"d65f9304765d119c1891c06154ac42e8\", element=\"afb5a184-db7c-4e01-8aa9-0c378a4b6de8\")>,\n",
       " <selenium.webdriver.remote.webelement.WebElement (session=\"d65f9304765d119c1891c06154ac42e8\", element=\"677e4194-90b1-4f73-8967-df40018eca1c\")>,\n",
       " <selenium.webdriver.remote.webelement.WebElement (session=\"d65f9304765d119c1891c06154ac42e8\", element=\"ee5aabe0-d54e-494d-aa87-720a66306663\")>,\n",
       " <selenium.webdriver.remote.webelement.WebElement (session=\"d65f9304765d119c1891c06154ac42e8\", element=\"e53fdfaf-3516-489f-beb0-a2b98da93d7a\")>,\n",
       " <selenium.webdriver.remote.webelement.WebElement (session=\"d65f9304765d119c1891c06154ac42e8\", element=\"7fd10751-4af5-44e1-a097-cdbbf28cfe5f\")>,\n",
       " <selenium.webdriver.remote.webelement.WebElement (session=\"d65f9304765d119c1891c06154ac42e8\", element=\"e57f5636-d6eb-4807-9eb7-c55bd3b5370f\")>,\n",
       " <selenium.webdriver.remote.webelement.WebElement (session=\"d65f9304765d119c1891c06154ac42e8\", element=\"dd3d3206-d35f-4679-a511-cac569a5ba82\")>,\n",
       " <selenium.webdriver.remote.webelement.WebElement (session=\"d65f9304765d119c1891c06154ac42e8\", element=\"df2aecfa-98e6-431b-a45d-6fada1e07fa9\")>,\n",
       " <selenium.webdriver.remote.webelement.WebElement (session=\"d65f9304765d119c1891c06154ac42e8\", element=\"66137afa-3671-4b45-b828-a0fc96854396\")>,\n",
       " <selenium.webdriver.remote.webelement.WebElement (session=\"d65f9304765d119c1891c06154ac42e8\", element=\"8a3f6989-7123-4b75-b91f-b3c393fb4cd7\")>,\n",
       " <selenium.webdriver.remote.webelement.WebElement (session=\"d65f9304765d119c1891c06154ac42e8\", element=\"afc43851-bae8-45c8-96e8-50fd4a0f3858\")>,\n",
       " <selenium.webdriver.remote.webelement.WebElement (session=\"d65f9304765d119c1891c06154ac42e8\", element=\"cf18b586-c8d6-4e3d-bc4e-fae8f79eae77\")>,\n",
       " <selenium.webdriver.remote.webelement.WebElement (session=\"d65f9304765d119c1891c06154ac42e8\", element=\"270aa60d-8007-4b2c-b85f-f47b194b3845\")>,\n",
       " <selenium.webdriver.remote.webelement.WebElement (session=\"d65f9304765d119c1891c06154ac42e8\", element=\"557848c8-17a8-471c-a982-96f363908eea\")>,\n",
       " <selenium.webdriver.remote.webelement.WebElement (session=\"d65f9304765d119c1891c06154ac42e8\", element=\"b8a6aaf1-69f4-40fa-83bd-cf1266584580\")>,\n",
       " <selenium.webdriver.remote.webelement.WebElement (session=\"d65f9304765d119c1891c06154ac42e8\", element=\"2b4dd61a-cc89-4acb-82c9-d5779f52193d\")>,\n",
       " <selenium.webdriver.remote.webelement.WebElement (session=\"d65f9304765d119c1891c06154ac42e8\", element=\"f1b435d5-58d4-4521-8d83-27ed025cea72\")>,\n",
       " <selenium.webdriver.remote.webelement.WebElement (session=\"d65f9304765d119c1891c06154ac42e8\", element=\"e243e519-1dfb-4c5b-aedd-17454d51b469\")>,\n",
       " <selenium.webdriver.remote.webelement.WebElement (session=\"d65f9304765d119c1891c06154ac42e8\", element=\"98b0ae1b-7163-4c93-bc11-2981680f25f4\")>,\n",
       " <selenium.webdriver.remote.webelement.WebElement (session=\"d65f9304765d119c1891c06154ac42e8\", element=\"195a0bcd-2d90-4e62-bf2c-93e62764e1a8\")>,\n",
       " <selenium.webdriver.remote.webelement.WebElement (session=\"d65f9304765d119c1891c06154ac42e8\", element=\"a425a01d-b181-450f-8031-b30eec0111b6\")>,\n",
       " <selenium.webdriver.remote.webelement.WebElement (session=\"d65f9304765d119c1891c06154ac42e8\", element=\"ccc292aa-ad1a-4fc7-a786-6bc657926e2a\")>,\n",
       " <selenium.webdriver.remote.webelement.WebElement (session=\"d65f9304765d119c1891c06154ac42e8\", element=\"6e80d96b-8a24-4204-a70e-9cbb4cff896e\")>,\n",
       " <selenium.webdriver.remote.webelement.WebElement (session=\"d65f9304765d119c1891c06154ac42e8\", element=\"b95f5905-1e3b-416a-b7d5-2cc5f9f1c614\")>]"
      ]
     },
     "execution_count": 13,
     "metadata": {},
     "output_type": "execute_result"
    }
   ],
   "source": [
    "header2=browser.find_elements(\"xpath\",\"//div[@class='td-wrap-in']\")\n",
    "header2\n"
   ]
  },
  {
   "cell_type": "code",
   "execution_count": 15,
   "id": "88a4ded3",
   "metadata": {},
   "outputs": [
    {
     "data": {
      "text/plain": [
       "['79.3', '88.1', '85.8', '97.7', '68.9', '12.3', '23.1', '65.2', '63.2']"
      ]
     },
     "execution_count": 15,
     "metadata": {},
     "output_type": "execute_result"
    }
   ],
   "source": [
    "#PARSING DATA\n",
    "value_head=[]\n",
    "for data in header2:\n",
    "    #get the text data\n",
    "    temp=data.text\n",
    "    value_head.append(temp)\n",
    "value=value_head[11:20]\n",
    "value"
   ]
  },
  {
   "cell_type": "code",
   "execution_count": 16,
   "id": "1eeb34ab",
   "metadata": {},
   "outputs": [
    {
     "data": {
      "text/plain": [
       "{'Name': 'KAIST - Korea Advanced Institute of Science & Technology',\n",
       " 'Location': 'Daejeon, South Korea',\n",
       " 'Rank': '=42',\n",
       " 'Overall Score': '79.3',\n",
       " 'Academic Reputation': '88.1',\n",
       " 'Employer Reputation': '85.8',\n",
       " 'Citations per Faculty': '97.7',\n",
       " 'Faculty Student Ratio': '68.9',\n",
       " 'International Students Ratio': '12.3',\n",
       " 'International Faculty Ratio': '23.1',\n",
       " 'International Research Network\\nUnweighted': '65.2',\n",
       " 'Employment Outcomes\\nUnweighted': '63.2'}"
      ]
     },
     "execution_count": 16,
     "metadata": {},
     "output_type": "execute_result"
    }
   ],
   "source": [
    "d={}\n",
    "d['Name']=value_head[10]\n",
    "d['Location']=loc[1]\n",
    "d['Rank']=RANK[1]\n",
    "\n",
    "for i in range(len(column_head)):\n",
    "    d[column_head[i]]=value[i]\n",
    "d"
   ]
  },
  {
   "cell_type": "code",
   "execution_count": 17,
   "id": "b0e5607e",
   "metadata": {},
   "outputs": [
    {
     "data": {
      "text/plain": [
       "'{\"Name\": \"KAIST - Korea Advanced Institute of Science & Technology\", \"Location\": \"Daejeon, South Korea\", \"Rank\": \"=42\", \"Overall Score\": \"79.3\", \"Academic Reputation\": \"88.1\", \"Employer Reputation\": \"85.8\", \"Citations per Faculty\": \"97.7\", \"Faculty Student Ratio\": \"68.9\", \"International Students Ratio\": \"12.3\", \"International Faculty Ratio\": \"23.1\", \"International Research Network\\\\nUnweighted\": \"65.2\", \"Employment Outcomes\\\\nUnweighted\": \"63.2\"}'"
      ]
     },
     "execution_count": 17,
     "metadata": {},
     "output_type": "execute_result"
    }
   ],
   "source": [
    "s1=json.dumps(d)\n",
    "s1"
   ]
  },
  {
   "cell_type": "code",
   "execution_count": 18,
   "id": "f0346200",
   "metadata": {},
   "outputs": [],
   "source": [
    "with open('KAIST - Korea Advanced Institute of Science & Technology.json','w') as f:\n",
    "    json.dump(d,f)\n"
   ]
  },
  {
   "cell_type": "code",
   "execution_count": null,
   "id": "e83efccf",
   "metadata": {},
   "outputs": [],
   "source": []
  },
  {
   "cell_type": "code",
   "execution_count": null,
   "id": "7a86827d",
   "metadata": {},
   "outputs": [],
   "source": []
  }
 ],
 "metadata": {
  "kernelspec": {
   "display_name": "Python 3 (ipykernel)",
   "language": "python",
   "name": "python3"
  },
  "language_info": {
   "codemirror_mode": {
    "name": "ipython",
    "version": 3
   },
   "file_extension": ".py",
   "mimetype": "text/x-python",
   "name": "python",
   "nbconvert_exporter": "python",
   "pygments_lexer": "ipython3",
   "version": "3.9.12"
  }
 },
 "nbformat": 4,
 "nbformat_minor": 5
}
