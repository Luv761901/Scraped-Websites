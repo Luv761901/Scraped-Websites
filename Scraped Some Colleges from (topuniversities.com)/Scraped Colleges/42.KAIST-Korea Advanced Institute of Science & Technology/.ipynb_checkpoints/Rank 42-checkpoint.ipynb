{
 "cells": [
  {
   "cell_type": "code",
   "execution_count": 2,
   "id": "33fac146",
   "metadata": {},
   "outputs": [],
   "source": [
    "from selenium import webdriver\n",
    "from selenium.webdriver.chrome.service import Service\n",
    "import pandas as pd\n",
    "import json"
   ]
  },
  {
   "cell_type": "code",
   "execution_count": 3,
   "id": "20e77adf",
   "metadata": {},
   "outputs": [],
   "source": [
    "path = Service('C:\\chromedriver.exe')"
   ]
  },
  {
   "cell_type": "code",
   "execution_count": 4,
   "id": "3ac9f0b7",
   "metadata": {},
   "outputs": [],
   "source": [
    "# set path for the driver\n",
    "browser = webdriver.Chrome(service = path)"
   ]
  },
  {
   "cell_type": "code",
   "execution_count": 5,
   "id": "9bd8d1d7",
   "metadata": {},
   "outputs": [],
   "source": [
    "url = \"https://www.topuniversities.com/university-rankings/world-university-rankings/2023\""
   ]
  },
  {
   "cell_type": "code",
   "execution_count": 6,
   "id": "d1b8e448",
   "metadata": {},
   "outputs": [],
   "source": [
    "\n",
    "# open the page url ion chrome\n",
    "browser.get(url)"
   ]
  },
  {
   "cell_type": "code",
   "execution_count": 7,
   "id": "8bc45558",
   "metadata": {},
   "outputs": [
    {
     "data": {
      "text/plain": [
       "[<selenium.webdriver.remote.webelement.WebElement (session=\"abf17e8094b920a0f90d30daa4ac7b59\", element=\"8898bbd2-55af-440c-9838-897743f77f76\")>,\n",
       " <selenium.webdriver.remote.webelement.WebElement (session=\"abf17e8094b920a0f90d30daa4ac7b59\", element=\"1e6f82e8-3013-419b-8ba5-31c69aeb74f0\")>,\n",
       " <selenium.webdriver.remote.webelement.WebElement (session=\"abf17e8094b920a0f90d30daa4ac7b59\", element=\"d26a3dc5-264b-4893-aac1-1fc327572963\")>,\n",
       " <selenium.webdriver.remote.webelement.WebElement (session=\"abf17e8094b920a0f90d30daa4ac7b59\", element=\"ba106e93-8b31-4cf4-ae8f-f7e56cffc15c\")>,\n",
       " <selenium.webdriver.remote.webelement.WebElement (session=\"abf17e8094b920a0f90d30daa4ac7b59\", element=\"d07f49f8-4d87-4e26-b279-10a76bb601f5\")>,\n",
       " <selenium.webdriver.remote.webelement.WebElement (session=\"abf17e8094b920a0f90d30daa4ac7b59\", element=\"c445d150-f999-4500-8e4c-f3eb60bb4c47\")>,\n",
       " <selenium.webdriver.remote.webelement.WebElement (session=\"abf17e8094b920a0f90d30daa4ac7b59\", element=\"72e89b12-998c-4d68-9a98-3f9fb5646f50\")>,\n",
       " <selenium.webdriver.remote.webelement.WebElement (session=\"abf17e8094b920a0f90d30daa4ac7b59\", element=\"31f0ae36-42e5-4695-b42b-abe345909e98\")>,\n",
       " <selenium.webdriver.remote.webelement.WebElement (session=\"abf17e8094b920a0f90d30daa4ac7b59\", element=\"f81fc13d-f328-46c4-8531-4f20fbf5e25e\")>]"
      ]
     },
     "execution_count": 7,
     "metadata": {},
     "output_type": "execute_result"
    }
   ],
   "source": [
    "# GET EACH COLLEGE SPECIFICATION HEADERS\n",
    "header=browser.find_elements(\"xpath\",\"//div[@class='_click-function_ind']\")\n",
    "header\n"
   ]
  },
  {
   "cell_type": "code",
   "execution_count": 8,
   "id": "e0849681",
   "metadata": {},
   "outputs": [
    {
     "data": {
      "text/plain": [
       "['Overall Score',\n",
       " 'Academic Reputation',\n",
       " 'Employer Reputation',\n",
       " 'Citations per Faculty',\n",
       " 'Faculty Student Ratio',\n",
       " 'International Students Ratio',\n",
       " 'International Faculty Ratio',\n",
       " 'International Research Network\\nUnweighted',\n",
       " 'Employment Outcomes\\nUnweighted']"
      ]
     },
     "execution_count": 8,
     "metadata": {},
     "output_type": "execute_result"
    }
   ],
   "source": [
    "#PARSING DATA\n",
    "column_head=[]\n",
    "for data in header:\n",
    "    #get the text data\n",
    "    temp=data.text\n",
    "    column_head.append(temp)\n",
    "column_head"
   ]
  },
  {
   "cell_type": "code",
   "execution_count": 9,
   "id": "8f7bea8c",
   "metadata": {},
   "outputs": [
    {
     "data": {
      "text/plain": [
       "[<selenium.webdriver.remote.webelement.WebElement (session=\"abf17e8094b920a0f90d30daa4ac7b59\", element=\"e966a5ac-3fd0-4d93-95fb-11bc56155675\")>,\n",
       " <selenium.webdriver.remote.webelement.WebElement (session=\"abf17e8094b920a0f90d30daa4ac7b59\", element=\"3dfb37bd-7b31-4204-b2e1-5e150878bfdb\")>,\n",
       " <selenium.webdriver.remote.webelement.WebElement (session=\"abf17e8094b920a0f90d30daa4ac7b59\", element=\"44bca59c-c187-4ec1-83d7-430962cf7b82\")>,\n",
       " <selenium.webdriver.remote.webelement.WebElement (session=\"abf17e8094b920a0f90d30daa4ac7b59\", element=\"11f9a067-5bcb-432f-86e0-e30e780c54db\")>,\n",
       " <selenium.webdriver.remote.webelement.WebElement (session=\"abf17e8094b920a0f90d30daa4ac7b59\", element=\"7d03c77f-4934-46b8-b1c7-00623edd42e7\")>,\n",
       " <selenium.webdriver.remote.webelement.WebElement (session=\"abf17e8094b920a0f90d30daa4ac7b59\", element=\"36fa1293-8bbe-4476-b771-24b6f763bd06\")>,\n",
       " <selenium.webdriver.remote.webelement.WebElement (session=\"abf17e8094b920a0f90d30daa4ac7b59\", element=\"b642a33e-b381-428c-a8e7-18841a0e7a61\")>,\n",
       " <selenium.webdriver.remote.webelement.WebElement (session=\"abf17e8094b920a0f90d30daa4ac7b59\", element=\"69a36b0c-9241-48fc-b4a2-221c8359fb16\")>,\n",
       " <selenium.webdriver.remote.webelement.WebElement (session=\"abf17e8094b920a0f90d30daa4ac7b59\", element=\"e996b1cc-6e99-4ee5-8cf1-914369a7039e\")>,\n",
       " <selenium.webdriver.remote.webelement.WebElement (session=\"abf17e8094b920a0f90d30daa4ac7b59\", element=\"0760905c-221b-4036-a03e-dad7660e9a47\")>,\n",
       " <selenium.webdriver.remote.webelement.WebElement (session=\"abf17e8094b920a0f90d30daa4ac7b59\", element=\"92811319-f2a5-48d9-ae5b-94d571275895\")>,\n",
       " <selenium.webdriver.remote.webelement.WebElement (session=\"abf17e8094b920a0f90d30daa4ac7b59\", element=\"66d9f56c-25eb-4aff-8507-987284ddd07c\")>,\n",
       " <selenium.webdriver.remote.webelement.WebElement (session=\"abf17e8094b920a0f90d30daa4ac7b59\", element=\"c69e5936-43bf-4172-8545-5e37042ae0ba\")>,\n",
       " <selenium.webdriver.remote.webelement.WebElement (session=\"abf17e8094b920a0f90d30daa4ac7b59\", element=\"025a0ee9-da7d-4bc2-b991-1b45e3456262\")>,\n",
       " <selenium.webdriver.remote.webelement.WebElement (session=\"abf17e8094b920a0f90d30daa4ac7b59\", element=\"c1a8b60c-d7d7-4cc2-8e3a-107e41401e20\")>,\n",
       " <selenium.webdriver.remote.webelement.WebElement (session=\"abf17e8094b920a0f90d30daa4ac7b59\", element=\"29bc1c64-2686-413e-a5b7-bae3590f7cff\")>,\n",
       " <selenium.webdriver.remote.webelement.WebElement (session=\"abf17e8094b920a0f90d30daa4ac7b59\", element=\"a7a49a04-a519-48fd-94b7-080c7ad8b0d1\")>,\n",
       " <selenium.webdriver.remote.webelement.WebElement (session=\"abf17e8094b920a0f90d30daa4ac7b59\", element=\"007ba0bf-2689-4469-8a0d-0411665f2df0\")>,\n",
       " <selenium.webdriver.remote.webelement.WebElement (session=\"abf17e8094b920a0f90d30daa4ac7b59\", element=\"3a10f934-a6d6-40aa-b894-518e6ae8fc39\")>,\n",
       " <selenium.webdriver.remote.webelement.WebElement (session=\"abf17e8094b920a0f90d30daa4ac7b59\", element=\"2f04447d-59cb-4c16-a2e5-f79f8b05888a\")>,\n",
       " <selenium.webdriver.remote.webelement.WebElement (session=\"abf17e8094b920a0f90d30daa4ac7b59\", element=\"0d9c30e3-bbd5-494f-b7ee-23b948f82f8a\")>,\n",
       " <selenium.webdriver.remote.webelement.WebElement (session=\"abf17e8094b920a0f90d30daa4ac7b59\", element=\"978018c0-83ba-4284-8ebb-1e6ad47ca8ad\")>,\n",
       " <selenium.webdriver.remote.webelement.WebElement (session=\"abf17e8094b920a0f90d30daa4ac7b59\", element=\"52bc32f6-d01b-4f5c-8e49-5694fc48c52f\")>,\n",
       " <selenium.webdriver.remote.webelement.WebElement (session=\"abf17e8094b920a0f90d30daa4ac7b59\", element=\"06bb72b0-2849-4368-b457-4e1fdb16c831\")>,\n",
       " <selenium.webdriver.remote.webelement.WebElement (session=\"abf17e8094b920a0f90d30daa4ac7b59\", element=\"d21a7b14-c5c3-473d-a90d-73f74951243c\")>,\n",
       " <selenium.webdriver.remote.webelement.WebElement (session=\"abf17e8094b920a0f90d30daa4ac7b59\", element=\"8330ec5b-4de5-4e3e-a434-ecf9fb76eed2\")>,\n",
       " <selenium.webdriver.remote.webelement.WebElement (session=\"abf17e8094b920a0f90d30daa4ac7b59\", element=\"4c0b6803-d833-4f5f-9678-8306c0b4bc5f\")>,\n",
       " <selenium.webdriver.remote.webelement.WebElement (session=\"abf17e8094b920a0f90d30daa4ac7b59\", element=\"2f3425b0-2ce6-4d52-af6c-2fce7885aeda\")>,\n",
       " <selenium.webdriver.remote.webelement.WebElement (session=\"abf17e8094b920a0f90d30daa4ac7b59\", element=\"dd164da3-46e4-4b29-be54-917a8524e432\")>,\n",
       " <selenium.webdriver.remote.webelement.WebElement (session=\"abf17e8094b920a0f90d30daa4ac7b59\", element=\"cf72ed58-46c0-4f9b-8e84-68d03b12f604\")>,\n",
       " <selenium.webdriver.remote.webelement.WebElement (session=\"abf17e8094b920a0f90d30daa4ac7b59\", element=\"4f2b051c-6895-4a58-b219-f32915d66e23\")>,\n",
       " <selenium.webdriver.remote.webelement.WebElement (session=\"abf17e8094b920a0f90d30daa4ac7b59\", element=\"c2ee31cc-422d-4fd1-9ec2-b9ae1e938208\")>,\n",
       " <selenium.webdriver.remote.webelement.WebElement (session=\"abf17e8094b920a0f90d30daa4ac7b59\", element=\"e0100736-131a-4ec4-b5dd-13f5545ba963\")>,\n",
       " <selenium.webdriver.remote.webelement.WebElement (session=\"abf17e8094b920a0f90d30daa4ac7b59\", element=\"07450a43-572e-4d95-a5ea-a2753d165238\")>,\n",
       " <selenium.webdriver.remote.webelement.WebElement (session=\"abf17e8094b920a0f90d30daa4ac7b59\", element=\"6a045194-9864-4efc-abcd-c4bdbf173ed5\")>,\n",
       " <selenium.webdriver.remote.webelement.WebElement (session=\"abf17e8094b920a0f90d30daa4ac7b59\", element=\"944a4013-f1e3-42c8-b0cc-1b2f0b08565c\")>,\n",
       " <selenium.webdriver.remote.webelement.WebElement (session=\"abf17e8094b920a0f90d30daa4ac7b59\", element=\"fec19a2f-71e4-4fe2-8323-c83f3d6851a2\")>,\n",
       " <selenium.webdriver.remote.webelement.WebElement (session=\"abf17e8094b920a0f90d30daa4ac7b59\", element=\"20943153-1d74-468f-bd0b-8218e1a64937\")>,\n",
       " <selenium.webdriver.remote.webelement.WebElement (session=\"abf17e8094b920a0f90d30daa4ac7b59\", element=\"4510859a-d463-4a41-9128-5756203b0c61\")>,\n",
       " <selenium.webdriver.remote.webelement.WebElement (session=\"abf17e8094b920a0f90d30daa4ac7b59\", element=\"ea5f22ba-13fe-4cff-a0c3-3627847701b7\")>,\n",
       " <selenium.webdriver.remote.webelement.WebElement (session=\"abf17e8094b920a0f90d30daa4ac7b59\", element=\"f3ce6232-4f69-49fd-8c28-ee51415b8284\")>,\n",
       " <selenium.webdriver.remote.webelement.WebElement (session=\"abf17e8094b920a0f90d30daa4ac7b59\", element=\"de61d358-2224-4844-a697-d6a2d9f704d0\")>,\n",
       " <selenium.webdriver.remote.webelement.WebElement (session=\"abf17e8094b920a0f90d30daa4ac7b59\", element=\"817794cd-a64b-4377-adf4-d936537f0efa\")>,\n",
       " <selenium.webdriver.remote.webelement.WebElement (session=\"abf17e8094b920a0f90d30daa4ac7b59\", element=\"d5890321-1c41-4173-a503-3ec1c8d8d621\")>,\n",
       " <selenium.webdriver.remote.webelement.WebElement (session=\"abf17e8094b920a0f90d30daa4ac7b59\", element=\"d7e86d9a-e40a-4bd4-a0c1-0453d4504ada\")>,\n",
       " <selenium.webdriver.remote.webelement.WebElement (session=\"abf17e8094b920a0f90d30daa4ac7b59\", element=\"c8393cba-12b3-445d-bc76-6342978ee3d2\")>,\n",
       " <selenium.webdriver.remote.webelement.WebElement (session=\"abf17e8094b920a0f90d30daa4ac7b59\", element=\"ff5c8711-6a6c-43a9-8352-a654ff45cda4\")>,\n",
       " <selenium.webdriver.remote.webelement.WebElement (session=\"abf17e8094b920a0f90d30daa4ac7b59\", element=\"6a64adc4-3295-4383-bfa9-1db239d43962\")>,\n",
       " <selenium.webdriver.remote.webelement.WebElement (session=\"abf17e8094b920a0f90d30daa4ac7b59\", element=\"52e17d50-543d-47c2-b6a3-e1977e0357f8\")>,\n",
       " <selenium.webdriver.remote.webelement.WebElement (session=\"abf17e8094b920a0f90d30daa4ac7b59\", element=\"339cfe26-7547-4644-a268-c164525ed82d\")>,\n",
       " <selenium.webdriver.remote.webelement.WebElement (session=\"abf17e8094b920a0f90d30daa4ac7b59\", element=\"0e638192-ae0b-4ea0-ace1-39ef325ec4c1\")>,\n",
       " <selenium.webdriver.remote.webelement.WebElement (session=\"abf17e8094b920a0f90d30daa4ac7b59\", element=\"b2c19337-d36b-4267-8800-857c1c378dfa\")>,\n",
       " <selenium.webdriver.remote.webelement.WebElement (session=\"abf17e8094b920a0f90d30daa4ac7b59\", element=\"143daaa4-122a-45db-99d8-5d2f58b37a9f\")>,\n",
       " <selenium.webdriver.remote.webelement.WebElement (session=\"abf17e8094b920a0f90d30daa4ac7b59\", element=\"8832a467-d045-44dd-a85d-cf43a47bd250\")>,\n",
       " <selenium.webdriver.remote.webelement.WebElement (session=\"abf17e8094b920a0f90d30daa4ac7b59\", element=\"85188403-36ab-4a5e-a3fa-2860ea2066f0\")>,\n",
       " <selenium.webdriver.remote.webelement.WebElement (session=\"abf17e8094b920a0f90d30daa4ac7b59\", element=\"88202d6e-0d49-4bb1-bafb-e0c9185d49e3\")>,\n",
       " <selenium.webdriver.remote.webelement.WebElement (session=\"abf17e8094b920a0f90d30daa4ac7b59\", element=\"a21359dd-1b74-423c-8bec-be918795533f\")>,\n",
       " <selenium.webdriver.remote.webelement.WebElement (session=\"abf17e8094b920a0f90d30daa4ac7b59\", element=\"09bb42a0-5a28-4cc2-bc25-39fd9090f4f5\")>,\n",
       " <selenium.webdriver.remote.webelement.WebElement (session=\"abf17e8094b920a0f90d30daa4ac7b59\", element=\"beced53f-1fb2-44fd-823c-075d9773a469\")>,\n",
       " <selenium.webdriver.remote.webelement.WebElement (session=\"abf17e8094b920a0f90d30daa4ac7b59\", element=\"bc7feb0c-0f46-47b9-83ba-f3c2ec2fcf75\")>,\n",
       " <selenium.webdriver.remote.webelement.WebElement (session=\"abf17e8094b920a0f90d30daa4ac7b59\", element=\"3abc97b7-46b9-4d2f-84de-7ae504bec629\")>,\n",
       " <selenium.webdriver.remote.webelement.WebElement (session=\"abf17e8094b920a0f90d30daa4ac7b59\", element=\"c1fd7209-8fee-4384-8d3d-a45cf6e612d8\")>,\n",
       " <selenium.webdriver.remote.webelement.WebElement (session=\"abf17e8094b920a0f90d30daa4ac7b59\", element=\"1823e247-32ef-4859-b7b0-805d7e289919\")>,\n",
       " <selenium.webdriver.remote.webelement.WebElement (session=\"abf17e8094b920a0f90d30daa4ac7b59\", element=\"2a19c5eb-8d8c-434d-b07b-7a89c51ece9d\")>,\n",
       " <selenium.webdriver.remote.webelement.WebElement (session=\"abf17e8094b920a0f90d30daa4ac7b59\", element=\"ec5f6091-f9f5-44b1-bfad-4787662caca4\")>,\n",
       " <selenium.webdriver.remote.webelement.WebElement (session=\"abf17e8094b920a0f90d30daa4ac7b59\", element=\"9a20b9c2-d21e-4732-ba06-4daf4d65e858\")>,\n",
       " <selenium.webdriver.remote.webelement.WebElement (session=\"abf17e8094b920a0f90d30daa4ac7b59\", element=\"1ad4f700-6ac2-4fe2-8521-98ae21a80850\")>,\n",
       " <selenium.webdriver.remote.webelement.WebElement (session=\"abf17e8094b920a0f90d30daa4ac7b59\", element=\"16f422d3-ff36-4dd9-a8af-0df2062cc719\")>,\n",
       " <selenium.webdriver.remote.webelement.WebElement (session=\"abf17e8094b920a0f90d30daa4ac7b59\", element=\"d40a9322-653f-41bd-afbf-1a7d44f36206\")>,\n",
       " <selenium.webdriver.remote.webelement.WebElement (session=\"abf17e8094b920a0f90d30daa4ac7b59\", element=\"adfc8854-e513-4665-be38-de0e5539265b\")>,\n",
       " <selenium.webdriver.remote.webelement.WebElement (session=\"abf17e8094b920a0f90d30daa4ac7b59\", element=\"5fb2eaab-e67d-4463-80e9-0bd5a8f8df0d\")>,\n",
       " <selenium.webdriver.remote.webelement.WebElement (session=\"abf17e8094b920a0f90d30daa4ac7b59\", element=\"69962958-0087-4887-b352-e13db254e0b4\")>,\n",
       " <selenium.webdriver.remote.webelement.WebElement (session=\"abf17e8094b920a0f90d30daa4ac7b59\", element=\"55128fef-4069-4774-b9dc-fe6facb22c8f\")>,\n",
       " <selenium.webdriver.remote.webelement.WebElement (session=\"abf17e8094b920a0f90d30daa4ac7b59\", element=\"9a42814c-1a56-42d2-9076-124572ad566d\")>,\n",
       " <selenium.webdriver.remote.webelement.WebElement (session=\"abf17e8094b920a0f90d30daa4ac7b59\", element=\"def62354-b3c2-4a9a-ac47-d84fbf8b5650\")>,\n",
       " <selenium.webdriver.remote.webelement.WebElement (session=\"abf17e8094b920a0f90d30daa4ac7b59\", element=\"c038a64e-ca1c-4328-9689-07490f552a3b\")>,\n",
       " <selenium.webdriver.remote.webelement.WebElement (session=\"abf17e8094b920a0f90d30daa4ac7b59\", element=\"72961650-cb96-42b9-b82c-bae34fdecbfd\")>,\n",
       " <selenium.webdriver.remote.webelement.WebElement (session=\"abf17e8094b920a0f90d30daa4ac7b59\", element=\"3439a721-abba-484d-9f30-5b6fa8c12c35\")>,\n",
       " <selenium.webdriver.remote.webelement.WebElement (session=\"abf17e8094b920a0f90d30daa4ac7b59\", element=\"bc2fe87e-2d0c-4c45-8ff6-1008f527e626\")>,\n",
       " <selenium.webdriver.remote.webelement.WebElement (session=\"abf17e8094b920a0f90d30daa4ac7b59\", element=\"231c4600-30e0-4325-b530-95861b1b3865\")>,\n",
       " <selenium.webdriver.remote.webelement.WebElement (session=\"abf17e8094b920a0f90d30daa4ac7b59\", element=\"7196dfeb-433a-4296-a27c-6af3869ec4aa\")>,\n",
       " <selenium.webdriver.remote.webelement.WebElement (session=\"abf17e8094b920a0f90d30daa4ac7b59\", element=\"1a1ebcf7-0c28-4101-a278-89909e623c7a\")>,\n",
       " <selenium.webdriver.remote.webelement.WebElement (session=\"abf17e8094b920a0f90d30daa4ac7b59\", element=\"0993228a-5efd-47f4-a8c9-16bb3cc7a2e1\")>,\n",
       " <selenium.webdriver.remote.webelement.WebElement (session=\"abf17e8094b920a0f90d30daa4ac7b59\", element=\"3078cbc7-9309-42ac-b4c9-1b9c8f4f1a52\")>,\n",
       " <selenium.webdriver.remote.webelement.WebElement (session=\"abf17e8094b920a0f90d30daa4ac7b59\", element=\"01cb39f1-2c81-4a78-af58-7e75c461a0ae\")>,\n",
       " <selenium.webdriver.remote.webelement.WebElement (session=\"abf17e8094b920a0f90d30daa4ac7b59\", element=\"d56a5d5b-87d4-470d-add5-aa89e9c167ae\")>,\n",
       " <selenium.webdriver.remote.webelement.WebElement (session=\"abf17e8094b920a0f90d30daa4ac7b59\", element=\"f34996d8-a572-488d-bb7f-daff692c170b\")>,\n",
       " <selenium.webdriver.remote.webelement.WebElement (session=\"abf17e8094b920a0f90d30daa4ac7b59\", element=\"cde1fd2f-0190-430e-a4d2-16910a8c1f09\")>,\n",
       " <selenium.webdriver.remote.webelement.WebElement (session=\"abf17e8094b920a0f90d30daa4ac7b59\", element=\"4853f363-a6c0-42fd-abf2-ef3da4136445\")>,\n",
       " <selenium.webdriver.remote.webelement.WebElement (session=\"abf17e8094b920a0f90d30daa4ac7b59\", element=\"f4ea0bdc-9835-4bce-9967-a6a2cda61e17\")>,\n",
       " <selenium.webdriver.remote.webelement.WebElement (session=\"abf17e8094b920a0f90d30daa4ac7b59\", element=\"e3e7bdc5-50d1-4f4a-83e5-271310af10f9\")>,\n",
       " <selenium.webdriver.remote.webelement.WebElement (session=\"abf17e8094b920a0f90d30daa4ac7b59\", element=\"3cd96e45-444d-4479-a49a-6f99a2bf504d\")>,\n",
       " <selenium.webdriver.remote.webelement.WebElement (session=\"abf17e8094b920a0f90d30daa4ac7b59\", element=\"bfea58a2-1ad9-452c-9cfd-6479db8e7c8f\")>,\n",
       " <selenium.webdriver.remote.webelement.WebElement (session=\"abf17e8094b920a0f90d30daa4ac7b59\", element=\"f2ce4654-11cd-4173-93d3-2cf0c179d150\")>,\n",
       " <selenium.webdriver.remote.webelement.WebElement (session=\"abf17e8094b920a0f90d30daa4ac7b59\", element=\"8b383de1-25bd-4366-b365-0e6d12bae480\")>,\n",
       " <selenium.webdriver.remote.webelement.WebElement (session=\"abf17e8094b920a0f90d30daa4ac7b59\", element=\"33e3c8de-2075-4cef-b9c0-da9108cf9511\")>,\n",
       " <selenium.webdriver.remote.webelement.WebElement (session=\"abf17e8094b920a0f90d30daa4ac7b59\", element=\"9bee3834-a311-4687-8aa3-9fa62908f0c2\")>,\n",
       " <selenium.webdriver.remote.webelement.WebElement (session=\"abf17e8094b920a0f90d30daa4ac7b59\", element=\"66dfea23-7a0c-4994-bb05-315351eb6d22\")>,\n",
       " <selenium.webdriver.remote.webelement.WebElement (session=\"abf17e8094b920a0f90d30daa4ac7b59\", element=\"c006d7c6-1ca2-4269-a687-8e120ee55dea\")>,\n",
       " <selenium.webdriver.remote.webelement.WebElement (session=\"abf17e8094b920a0f90d30daa4ac7b59\", element=\"27afc0cb-a030-45d2-baa9-93972612622a\")>]"
      ]
     },
     "execution_count": 9,
     "metadata": {},
     "output_type": "execute_result"
    }
   ],
   "source": [
    "header2=browser.find_elements(\"xpath\",\"//div[@class='td-wrap-in']\")\n",
    "header2\n"
   ]
  },
  {
   "cell_type": "code",
   "execution_count": 10,
   "id": "88a4ded3",
   "metadata": {},
   "outputs": [
    {
     "data": {
      "text/plain": [
       "['79.3', '88.1', '85.8', '97.7', '68.9', '12.3', '23.1', '65.2', '63.2']"
      ]
     },
     "execution_count": 10,
     "metadata": {},
     "output_type": "execute_result"
    }
   ],
   "source": [
    "#PARSING DATA\n",
    "value_head=[]\n",
    "for data in header2:\n",
    "    #get the text data\n",
    "    temp=data.text\n",
    "    value_head.append(temp)\n",
    "value_head=value_head[11:20]\n",
    "value_head"
   ]
  },
  {
   "cell_type": "code",
   "execution_count": 11,
   "id": "1eeb34ab",
   "metadata": {},
   "outputs": [
    {
     "data": {
      "text/plain": [
       "{'Overall Score': '79.3',\n",
       " 'Academic Reputation': '88.1',\n",
       " 'Employer Reputation': '85.8',\n",
       " 'Citations per Faculty': '97.7',\n",
       " 'Faculty Student Ratio': '68.9',\n",
       " 'International Students Ratio': '12.3',\n",
       " 'International Faculty Ratio': '23.1',\n",
       " 'International Research Network\\nUnweighted': '65.2',\n",
       " 'Employment Outcomes\\nUnweighted': '63.2'}"
      ]
     },
     "execution_count": 11,
     "metadata": {},
     "output_type": "execute_result"
    }
   ],
   "source": [
    "d={}\n",
    "for i in range(len(column_head)):\n",
    "    d[column_head[i]]=value_head[i]\n",
    "d"
   ]
  },
  {
   "cell_type": "code",
   "execution_count": 12,
   "id": "b0e5607e",
   "metadata": {},
   "outputs": [
    {
     "data": {
      "text/plain": [
       "'{\"Overall Score\": \"79.3\", \"Academic Reputation\": \"88.1\", \"Employer Reputation\": \"85.8\", \"Citations per Faculty\": \"97.7\", \"Faculty Student Ratio\": \"68.9\", \"International Students Ratio\": \"12.3\", \"International Faculty Ratio\": \"23.1\", \"International Research Network\\\\nUnweighted\": \"65.2\", \"Employment Outcomes\\\\nUnweighted\": \"63.2\"}'"
      ]
     },
     "execution_count": 12,
     "metadata": {},
     "output_type": "execute_result"
    }
   ],
   "source": [
    "s1=json.dumps(d)\n",
    "s1"
   ]
  },
  {
   "cell_type": "code",
   "execution_count": 13,
   "id": "f0346200",
   "metadata": {},
   "outputs": [],
   "source": [
    "with open('KAIST - Korea Advanced Institute of Science & Technology.json','w') as f:\n",
    "    json.dump(d,f)\n"
   ]
  },
  {
   "cell_type": "code",
   "execution_count": null,
   "id": "e83efccf",
   "metadata": {},
   "outputs": [],
   "source": []
  },
  {
   "cell_type": "code",
   "execution_count": null,
   "id": "7a86827d",
   "metadata": {},
   "outputs": [],
   "source": []
  }
 ],
 "metadata": {
  "kernelspec": {
   "display_name": "Python 3 (ipykernel)",
   "language": "python",
   "name": "python3"
  },
  "language_info": {
   "codemirror_mode": {
    "name": "ipython",
    "version": 3
   },
   "file_extension": ".py",
   "mimetype": "text/x-python",
   "name": "python",
   "nbconvert_exporter": "python",
   "pygments_lexer": "ipython3",
   "version": "3.9.12"
  }
 },
 "nbformat": 4,
 "nbformat_minor": 5
}
