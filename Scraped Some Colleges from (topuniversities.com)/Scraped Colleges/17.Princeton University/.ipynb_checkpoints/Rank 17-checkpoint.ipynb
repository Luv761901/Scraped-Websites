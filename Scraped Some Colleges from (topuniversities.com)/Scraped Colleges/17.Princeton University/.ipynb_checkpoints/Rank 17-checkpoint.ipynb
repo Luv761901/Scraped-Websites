{
 "cells": [
  {
   "cell_type": "code",
   "execution_count": 1,
   "id": "443e1e68",
   "metadata": {},
   "outputs": [],
   "source": [
    "from selenium import webdriver\n",
    "from selenium.webdriver.chrome.service import Service\n",
    "import pandas as pd\n",
    "import json"
   ]
  },
  {
   "cell_type": "code",
   "execution_count": 2,
   "id": "f18a36e6",
   "metadata": {},
   "outputs": [],
   "source": [
    "path = Service('C:\\chromedriver.exe')"
   ]
  },
  {
   "cell_type": "code",
   "execution_count": 3,
   "id": "ca146f06",
   "metadata": {},
   "outputs": [],
   "source": [
    "# set path for the driver\n",
    "browser = webdriver.Chrome(service = path)"
   ]
  },
  {
   "cell_type": "code",
   "execution_count": 4,
   "id": "1b77de64",
   "metadata": {},
   "outputs": [],
   "source": [
    "url = \"https://www.topuniversities.com/university-rankings/world-university-rankings/2023\""
   ]
  },
  {
   "cell_type": "code",
   "execution_count": 5,
   "id": "75696c40",
   "metadata": {},
   "outputs": [],
   "source": [
    "# open the page url ion chrome\n",
    "browser.get(url)"
   ]
  },
  {
   "cell_type": "code",
   "execution_count": 6,
   "id": "1ff37a01",
   "metadata": {},
   "outputs": [
    {
     "data": {
      "text/plain": [
       "[<selenium.webdriver.remote.webelement.WebElement (session=\"2e873f2434a67546369fc4da40aa32ae\", element=\"1d1e70c4-a3f5-4e28-aabe-210a6cf5bfeb\")>,\n",
       " <selenium.webdriver.remote.webelement.WebElement (session=\"2e873f2434a67546369fc4da40aa32ae\", element=\"82352b36-8dd6-4aaa-aed5-b30a5046ed4f\")>,\n",
       " <selenium.webdriver.remote.webelement.WebElement (session=\"2e873f2434a67546369fc4da40aa32ae\", element=\"9c6ae8ff-b007-483f-8fa6-673404d5b6e1\")>,\n",
       " <selenium.webdriver.remote.webelement.WebElement (session=\"2e873f2434a67546369fc4da40aa32ae\", element=\"37624b7a-7862-47c5-87ab-eecbd2a28b6d\")>,\n",
       " <selenium.webdriver.remote.webelement.WebElement (session=\"2e873f2434a67546369fc4da40aa32ae\", element=\"a91efe85-09d6-456d-8409-7b3e2089dab5\")>,\n",
       " <selenium.webdriver.remote.webelement.WebElement (session=\"2e873f2434a67546369fc4da40aa32ae\", element=\"f623960a-405a-4ca3-b069-0ab4e9945280\")>,\n",
       " <selenium.webdriver.remote.webelement.WebElement (session=\"2e873f2434a67546369fc4da40aa32ae\", element=\"059629cc-3487-4694-837d-257f235c8935\")>,\n",
       " <selenium.webdriver.remote.webelement.WebElement (session=\"2e873f2434a67546369fc4da40aa32ae\", element=\"040200b3-20be-469a-85e3-d8844d51bf34\")>,\n",
       " <selenium.webdriver.remote.webelement.WebElement (session=\"2e873f2434a67546369fc4da40aa32ae\", element=\"2a58415a-d0a8-438a-88bb-907b419ae930\")>,\n",
       " <selenium.webdriver.remote.webelement.WebElement (session=\"2e873f2434a67546369fc4da40aa32ae\", element=\"70c40f23-f7f2-4bad-b92c-4aeb9d37b084\")>,\n",
       " <selenium.webdriver.remote.webelement.WebElement (session=\"2e873f2434a67546369fc4da40aa32ae\", element=\"a6dbf685-cae0-4d5b-ba4e-907ba998282b\")>,\n",
       " <selenium.webdriver.remote.webelement.WebElement (session=\"2e873f2434a67546369fc4da40aa32ae\", element=\"e47783a4-ff16-4a73-9b43-60d6dcdee5a2\")>,\n",
       " <selenium.webdriver.remote.webelement.WebElement (session=\"2e873f2434a67546369fc4da40aa32ae\", element=\"ef761da2-ff97-4c33-84b9-5a0927830296\")>,\n",
       " <selenium.webdriver.remote.webelement.WebElement (session=\"2e873f2434a67546369fc4da40aa32ae\", element=\"56ada837-a61a-473c-b31e-010c362e305b\")>,\n",
       " <selenium.webdriver.remote.webelement.WebElement (session=\"2e873f2434a67546369fc4da40aa32ae\", element=\"f48b2287-65c0-4845-9611-679528352c61\")>,\n",
       " <selenium.webdriver.remote.webelement.WebElement (session=\"2e873f2434a67546369fc4da40aa32ae\", element=\"c2f1d9c1-c1ce-4e39-8e2a-8769c278a48a\")>,\n",
       " <selenium.webdriver.remote.webelement.WebElement (session=\"2e873f2434a67546369fc4da40aa32ae\", element=\"5c866789-f5a2-4c44-914d-5573e60efe2a\")>,\n",
       " <selenium.webdriver.remote.webelement.WebElement (session=\"2e873f2434a67546369fc4da40aa32ae\", element=\"ea58e0b3-d3a0-45ce-8293-35d78e6dbdf7\")>,\n",
       " <selenium.webdriver.remote.webelement.WebElement (session=\"2e873f2434a67546369fc4da40aa32ae\", element=\"1474bbb7-946f-4432-97f0-b9b2bd489002\")>,\n",
       " <selenium.webdriver.remote.webelement.WebElement (session=\"2e873f2434a67546369fc4da40aa32ae\", element=\"05e7e6b2-651f-4550-962d-c115312a84a1\")>]"
      ]
     },
     "execution_count": 6,
     "metadata": {},
     "output_type": "execute_result"
    }
   ],
   "source": [
    "l1=browser.find_elements(\"xpath\",\"//div[@class='location ']\")\n",
    "l1"
   ]
  },
  {
   "cell_type": "code",
   "execution_count": 7,
   "id": "917de633",
   "metadata": {},
   "outputs": [
    {
     "data": {
      "text/plain": [
       "['Singapore, Singapore',\n",
       " 'Beijing, China (Mainland)',\n",
       " 'Philadelphia, United States',\n",
       " 'Beijing, China (Mainland)',\n",
       " 'Edinburgh, United Kingdom',\n",
       " 'Lausanne, Switzerland',\n",
       " 'Princeton, United States',\n",
       " 'New Haven, United States',\n",
       " 'Singapore, Singapore',\n",
       " 'Ithaca, United States']"
      ]
     },
     "execution_count": 7,
     "metadata": {},
     "output_type": "execute_result"
    }
   ],
   "source": [
    "loc=[]\n",
    "for data in l1:\n",
    "    #get the text data\n",
    "    temp=data.text\n",
    "    loc.append(temp)\n",
    "loc=loc[10:]\n",
    "loc\n"
   ]
  },
  {
   "cell_type": "code",
   "execution_count": 8,
   "id": "ccb0f9b2",
   "metadata": {},
   "outputs": [
    {
     "data": {
      "text/plain": [
       "[<selenium.webdriver.remote.webelement.WebElement (session=\"2e873f2434a67546369fc4da40aa32ae\", element=\"c13f702e-7b35-4d9a-a929-4fe3065c066a\")>,\n",
       " <selenium.webdriver.remote.webelement.WebElement (session=\"2e873f2434a67546369fc4da40aa32ae\", element=\"69c45621-d6e5-4c97-bdf5-c38f40fd37df\")>,\n",
       " <selenium.webdriver.remote.webelement.WebElement (session=\"2e873f2434a67546369fc4da40aa32ae\", element=\"3c677706-8203-4742-a8db-47942354a690\")>,\n",
       " <selenium.webdriver.remote.webelement.WebElement (session=\"2e873f2434a67546369fc4da40aa32ae\", element=\"f0f32928-80e5-4952-9b5d-3a155b1149fc\")>,\n",
       " <selenium.webdriver.remote.webelement.WebElement (session=\"2e873f2434a67546369fc4da40aa32ae\", element=\"09b10772-3bcb-44a1-ac10-eb63bc50a566\")>,\n",
       " <selenium.webdriver.remote.webelement.WebElement (session=\"2e873f2434a67546369fc4da40aa32ae\", element=\"7638e836-8be1-40e2-ad65-fbecf09888f9\")>,\n",
       " <selenium.webdriver.remote.webelement.WebElement (session=\"2e873f2434a67546369fc4da40aa32ae\", element=\"59c93bea-8675-488a-9129-4895ec913b6d\")>,\n",
       " <selenium.webdriver.remote.webelement.WebElement (session=\"2e873f2434a67546369fc4da40aa32ae\", element=\"3596b585-68e7-498f-a43d-665f91268e4b\")>,\n",
       " <selenium.webdriver.remote.webelement.WebElement (session=\"2e873f2434a67546369fc4da40aa32ae\", element=\"8697ef77-722d-4490-b5a3-157588033651\")>,\n",
       " <selenium.webdriver.remote.webelement.WebElement (session=\"2e873f2434a67546369fc4da40aa32ae\", element=\"90497df0-f2f0-4b2e-8ba5-f1d8e5a2e3f7\")>]"
      ]
     },
     "execution_count": 8,
     "metadata": {},
     "output_type": "execute_result"
    }
   ],
   "source": [
    "l2=browser.find_elements(\"xpath\",\"//div[@class='_univ-rank ']\")\n",
    "l2"
   ]
  },
  {
   "cell_type": "code",
   "execution_count": 9,
   "id": "632d4fa8",
   "metadata": {},
   "outputs": [
    {
     "data": {
      "text/plain": [
       "['11', '12', '13', '14', '15', '=16', '=16', '18', '19', '20']"
      ]
     },
     "execution_count": 9,
     "metadata": {},
     "output_type": "execute_result"
    }
   ],
   "source": [
    "\n",
    "RANK=[]\n",
    "for data in l2:\n",
    "    #get the text data\n",
    "    temp=data.text\n",
    "    RANK.append(temp)\n",
    "RANK"
   ]
  },
  {
   "cell_type": "code",
   "execution_count": 10,
   "id": "dbe6a068",
   "metadata": {},
   "outputs": [
    {
     "data": {
      "text/plain": [
       "[<selenium.webdriver.remote.webelement.WebElement (session=\"2e873f2434a67546369fc4da40aa32ae\", element=\"4d0b2325-2482-46c5-bcfe-77fd11acf0af\")>,\n",
       " <selenium.webdriver.remote.webelement.WebElement (session=\"2e873f2434a67546369fc4da40aa32ae\", element=\"2f94930a-de5f-4ce8-81fb-a98d51196874\")>,\n",
       " <selenium.webdriver.remote.webelement.WebElement (session=\"2e873f2434a67546369fc4da40aa32ae\", element=\"1ae3411d-5747-45b8-a503-7047f8eef0fc\")>,\n",
       " <selenium.webdriver.remote.webelement.WebElement (session=\"2e873f2434a67546369fc4da40aa32ae\", element=\"2bdc2c7b-d5b4-4c1c-b73c-e8b36f1cb22f\")>,\n",
       " <selenium.webdriver.remote.webelement.WebElement (session=\"2e873f2434a67546369fc4da40aa32ae\", element=\"4bd8a539-10b9-4440-a1f4-69e27b0a16c7\")>,\n",
       " <selenium.webdriver.remote.webelement.WebElement (session=\"2e873f2434a67546369fc4da40aa32ae\", element=\"fc520492-53c5-4132-a5ad-ab52a7d97b09\")>,\n",
       " <selenium.webdriver.remote.webelement.WebElement (session=\"2e873f2434a67546369fc4da40aa32ae\", element=\"a6c16981-8d81-49e6-b2fe-59c0e72065d9\")>,\n",
       " <selenium.webdriver.remote.webelement.WebElement (session=\"2e873f2434a67546369fc4da40aa32ae\", element=\"f2aaf6fb-b37b-4771-b0bc-e4864f059906\")>,\n",
       " <selenium.webdriver.remote.webelement.WebElement (session=\"2e873f2434a67546369fc4da40aa32ae\", element=\"05f8e384-29cd-47fa-adbe-952e5b9d8afc\")>]"
      ]
     },
     "execution_count": 10,
     "metadata": {},
     "output_type": "execute_result"
    }
   ],
   "source": [
    "# GET EACH COLLEGE SPECIFICATION HEADERS\n",
    "header=browser.find_elements(\"xpath\",\"//div[@class='_click-function_ind']\")\n",
    "header"
   ]
  },
  {
   "cell_type": "code",
   "execution_count": 11,
   "id": "b5abfef6",
   "metadata": {},
   "outputs": [
    {
     "data": {
      "text/plain": [
       "['Overall Score',\n",
       " 'Academic Reputation',\n",
       " 'Employer Reputation',\n",
       " 'Citations per Faculty',\n",
       " 'Faculty Student Ratio',\n",
       " 'International Students Ratio',\n",
       " 'International Faculty Ratio',\n",
       " 'International Research Network\\nUnweighted',\n",
       " 'Employment Outcomes\\nUnweighted']"
      ]
     },
     "execution_count": 11,
     "metadata": {},
     "output_type": "execute_result"
    }
   ],
   "source": [
    "#PARSING DATA\n",
    "column_head=[]\n",
    "for data in header:\n",
    "    #get the text data\n",
    "    temp=data.text\n",
    "    column_head.append(temp)\n",
    "column_head"
   ]
  },
  {
   "cell_type": "code",
   "execution_count": 12,
   "id": "879bcecd",
   "metadata": {},
   "outputs": [
    {
     "data": {
      "text/plain": [
       "[<selenium.webdriver.remote.webelement.WebElement (session=\"2e873f2434a67546369fc4da40aa32ae\", element=\"b478ac33-4472-436e-b78b-b54ccf360115\")>,\n",
       " <selenium.webdriver.remote.webelement.WebElement (session=\"2e873f2434a67546369fc4da40aa32ae\", element=\"51babf7d-6ee8-4ec3-8743-acaa9640a3b7\")>,\n",
       " <selenium.webdriver.remote.webelement.WebElement (session=\"2e873f2434a67546369fc4da40aa32ae\", element=\"2547bf5c-6d37-4c55-95c6-d9efac60d636\")>,\n",
       " <selenium.webdriver.remote.webelement.WebElement (session=\"2e873f2434a67546369fc4da40aa32ae\", element=\"bdde9dbc-9ab2-41db-8139-a14477a6ff47\")>,\n",
       " <selenium.webdriver.remote.webelement.WebElement (session=\"2e873f2434a67546369fc4da40aa32ae\", element=\"3b8d73cb-6f2b-4d4a-88f6-31a918ff3883\")>,\n",
       " <selenium.webdriver.remote.webelement.WebElement (session=\"2e873f2434a67546369fc4da40aa32ae\", element=\"dab9ae12-325a-4133-b054-8d018811ce4a\")>,\n",
       " <selenium.webdriver.remote.webelement.WebElement (session=\"2e873f2434a67546369fc4da40aa32ae\", element=\"dacf9b90-a058-4775-b43a-9e9d91663f2b\")>,\n",
       " <selenium.webdriver.remote.webelement.WebElement (session=\"2e873f2434a67546369fc4da40aa32ae\", element=\"d09a82b1-5015-4e2b-b9e8-3cdee5ba765f\")>,\n",
       " <selenium.webdriver.remote.webelement.WebElement (session=\"2e873f2434a67546369fc4da40aa32ae\", element=\"50611b36-3c2a-43ae-a24c-1f5c10ffde51\")>,\n",
       " <selenium.webdriver.remote.webelement.WebElement (session=\"2e873f2434a67546369fc4da40aa32ae\", element=\"63c4bc41-a8cd-441b-8379-a3284ea2dee1\")>,\n",
       " <selenium.webdriver.remote.webelement.WebElement (session=\"2e873f2434a67546369fc4da40aa32ae\", element=\"1485f6fc-520a-401e-8133-2b8d4b6e6b0e\")>,\n",
       " <selenium.webdriver.remote.webelement.WebElement (session=\"2e873f2434a67546369fc4da40aa32ae\", element=\"6700ce21-eec4-40c1-b23e-706314ec35d5\")>,\n",
       " <selenium.webdriver.remote.webelement.WebElement (session=\"2e873f2434a67546369fc4da40aa32ae\", element=\"c11a74ee-cdf5-4b92-99df-5d5ca5e6b293\")>,\n",
       " <selenium.webdriver.remote.webelement.WebElement (session=\"2e873f2434a67546369fc4da40aa32ae\", element=\"fc6e9846-a494-420b-9582-c430f774ad81\")>,\n",
       " <selenium.webdriver.remote.webelement.WebElement (session=\"2e873f2434a67546369fc4da40aa32ae\", element=\"af8ac64a-2eb0-448d-8abd-92cb3f7679af\")>,\n",
       " <selenium.webdriver.remote.webelement.WebElement (session=\"2e873f2434a67546369fc4da40aa32ae\", element=\"6c0a28cd-425e-4586-94f4-60a9dbff8f6a\")>,\n",
       " <selenium.webdriver.remote.webelement.WebElement (session=\"2e873f2434a67546369fc4da40aa32ae\", element=\"4135c7f5-7e47-4774-9a9f-9202bd206b7d\")>,\n",
       " <selenium.webdriver.remote.webelement.WebElement (session=\"2e873f2434a67546369fc4da40aa32ae\", element=\"35f88ec6-5ab9-44f3-85e0-e2ff8bd7285f\")>,\n",
       " <selenium.webdriver.remote.webelement.WebElement (session=\"2e873f2434a67546369fc4da40aa32ae\", element=\"9fa42862-2e30-4c7a-a0e5-c1ff2076231d\")>,\n",
       " <selenium.webdriver.remote.webelement.WebElement (session=\"2e873f2434a67546369fc4da40aa32ae\", element=\"6e541775-1de3-4583-af64-1ba79d2959d4\")>,\n",
       " <selenium.webdriver.remote.webelement.WebElement (session=\"2e873f2434a67546369fc4da40aa32ae\", element=\"7d36e2a3-7de9-45d8-aca7-127550c94b9e\")>,\n",
       " <selenium.webdriver.remote.webelement.WebElement (session=\"2e873f2434a67546369fc4da40aa32ae\", element=\"c3ac4e42-8b43-4ee6-a849-d76747e1b1d2\")>,\n",
       " <selenium.webdriver.remote.webelement.WebElement (session=\"2e873f2434a67546369fc4da40aa32ae\", element=\"65970f40-2c80-4546-a03a-7a05c4cc00ad\")>,\n",
       " <selenium.webdriver.remote.webelement.WebElement (session=\"2e873f2434a67546369fc4da40aa32ae\", element=\"002c7f7d-5fec-48e0-8f35-b1fe61749409\")>,\n",
       " <selenium.webdriver.remote.webelement.WebElement (session=\"2e873f2434a67546369fc4da40aa32ae\", element=\"54e3287e-6700-4746-82f0-7a0e3892b121\")>,\n",
       " <selenium.webdriver.remote.webelement.WebElement (session=\"2e873f2434a67546369fc4da40aa32ae\", element=\"23ae35cb-ff0e-4673-a87c-95041e1cb832\")>,\n",
       " <selenium.webdriver.remote.webelement.WebElement (session=\"2e873f2434a67546369fc4da40aa32ae\", element=\"fc432877-0884-456d-8022-e4c3c685f785\")>,\n",
       " <selenium.webdriver.remote.webelement.WebElement (session=\"2e873f2434a67546369fc4da40aa32ae\", element=\"7e665d06-caaf-4e42-a4c6-5780be481a2b\")>,\n",
       " <selenium.webdriver.remote.webelement.WebElement (session=\"2e873f2434a67546369fc4da40aa32ae\", element=\"92612e1b-c2f7-478a-857f-62507963030b\")>,\n",
       " <selenium.webdriver.remote.webelement.WebElement (session=\"2e873f2434a67546369fc4da40aa32ae\", element=\"97f8e4e6-34f5-437c-9146-b6f3605c8c7c\")>,\n",
       " <selenium.webdriver.remote.webelement.WebElement (session=\"2e873f2434a67546369fc4da40aa32ae\", element=\"54c370de-2913-4d4c-9ea1-76123e418f62\")>,\n",
       " <selenium.webdriver.remote.webelement.WebElement (session=\"2e873f2434a67546369fc4da40aa32ae\", element=\"b6418cec-c9b0-48f3-99e7-fa9e5183a6f0\")>,\n",
       " <selenium.webdriver.remote.webelement.WebElement (session=\"2e873f2434a67546369fc4da40aa32ae\", element=\"b5a25064-d786-4327-b01a-2506c27c0113\")>,\n",
       " <selenium.webdriver.remote.webelement.WebElement (session=\"2e873f2434a67546369fc4da40aa32ae\", element=\"8e12af61-cff0-404b-ae8d-41410f71141c\")>,\n",
       " <selenium.webdriver.remote.webelement.WebElement (session=\"2e873f2434a67546369fc4da40aa32ae\", element=\"1c3a27f2-9c61-4da1-a7e2-ea81cb982f08\")>,\n",
       " <selenium.webdriver.remote.webelement.WebElement (session=\"2e873f2434a67546369fc4da40aa32ae\", element=\"3f0fb5ab-4db4-4807-86e8-b37d57f567a4\")>,\n",
       " <selenium.webdriver.remote.webelement.WebElement (session=\"2e873f2434a67546369fc4da40aa32ae\", element=\"4ccbd350-5dcf-4423-bc87-41ae1f53bf56\")>,\n",
       " <selenium.webdriver.remote.webelement.WebElement (session=\"2e873f2434a67546369fc4da40aa32ae\", element=\"9aa2c456-8da1-447d-ae63-b39f2c5928e6\")>,\n",
       " <selenium.webdriver.remote.webelement.WebElement (session=\"2e873f2434a67546369fc4da40aa32ae\", element=\"7e41f2c9-f889-4584-b8f4-2943ce71f5f3\")>,\n",
       " <selenium.webdriver.remote.webelement.WebElement (session=\"2e873f2434a67546369fc4da40aa32ae\", element=\"1c029900-9f54-4a18-8ad9-0467d6752936\")>,\n",
       " <selenium.webdriver.remote.webelement.WebElement (session=\"2e873f2434a67546369fc4da40aa32ae\", element=\"5390920e-3607-47fc-87ff-ab456b984591\")>,\n",
       " <selenium.webdriver.remote.webelement.WebElement (session=\"2e873f2434a67546369fc4da40aa32ae\", element=\"8ec49bd1-2a75-44c6-996a-97cda55d8aec\")>,\n",
       " <selenium.webdriver.remote.webelement.WebElement (session=\"2e873f2434a67546369fc4da40aa32ae\", element=\"ccfa093d-df9f-413f-b1b2-34aac6b2af19\")>,\n",
       " <selenium.webdriver.remote.webelement.WebElement (session=\"2e873f2434a67546369fc4da40aa32ae\", element=\"2ab69ba0-5d05-40a9-a1f2-ebc4d2d9f311\")>,\n",
       " <selenium.webdriver.remote.webelement.WebElement (session=\"2e873f2434a67546369fc4da40aa32ae\", element=\"cef6a97f-a352-4332-b2e2-61dbd7116ce5\")>,\n",
       " <selenium.webdriver.remote.webelement.WebElement (session=\"2e873f2434a67546369fc4da40aa32ae\", element=\"43615f9c-e22a-4b53-abf3-77ec95b54416\")>,\n",
       " <selenium.webdriver.remote.webelement.WebElement (session=\"2e873f2434a67546369fc4da40aa32ae\", element=\"73ea7871-559c-439b-af5d-956d383d4b9c\")>,\n",
       " <selenium.webdriver.remote.webelement.WebElement (session=\"2e873f2434a67546369fc4da40aa32ae\", element=\"d87b41db-31a5-4379-ac35-e4820dfb389d\")>,\n",
       " <selenium.webdriver.remote.webelement.WebElement (session=\"2e873f2434a67546369fc4da40aa32ae\", element=\"5c13716d-b25f-4b0f-bb17-dc0291704618\")>,\n",
       " <selenium.webdriver.remote.webelement.WebElement (session=\"2e873f2434a67546369fc4da40aa32ae\", element=\"a281335d-0786-4122-aa85-3627f642e520\")>,\n",
       " <selenium.webdriver.remote.webelement.WebElement (session=\"2e873f2434a67546369fc4da40aa32ae\", element=\"75bf960f-eb1e-4069-8151-53905ab8ec87\")>,\n",
       " <selenium.webdriver.remote.webelement.WebElement (session=\"2e873f2434a67546369fc4da40aa32ae\", element=\"562d7047-d7c3-4d80-af4d-075aa90d0142\")>,\n",
       " <selenium.webdriver.remote.webelement.WebElement (session=\"2e873f2434a67546369fc4da40aa32ae\", element=\"6686f9b3-ab56-4ff7-a629-8b9bccba59c6\")>,\n",
       " <selenium.webdriver.remote.webelement.WebElement (session=\"2e873f2434a67546369fc4da40aa32ae\", element=\"e06a98b3-b1fc-499d-9cbb-8b9e4abc1a8c\")>,\n",
       " <selenium.webdriver.remote.webelement.WebElement (session=\"2e873f2434a67546369fc4da40aa32ae\", element=\"fca5bbb1-6b1f-45c7-abff-b7f100fc095c\")>,\n",
       " <selenium.webdriver.remote.webelement.WebElement (session=\"2e873f2434a67546369fc4da40aa32ae\", element=\"176dc6a0-5925-4fa7-adee-5baa05945ad5\")>,\n",
       " <selenium.webdriver.remote.webelement.WebElement (session=\"2e873f2434a67546369fc4da40aa32ae\", element=\"07eaa0f9-bb74-4268-be62-45c9934016c6\")>,\n",
       " <selenium.webdriver.remote.webelement.WebElement (session=\"2e873f2434a67546369fc4da40aa32ae\", element=\"7423c5fc-d037-4fd4-96ea-30c18c76a414\")>,\n",
       " <selenium.webdriver.remote.webelement.WebElement (session=\"2e873f2434a67546369fc4da40aa32ae\", element=\"f7fb62b2-9566-44af-8bd3-34d387bc2e0e\")>,\n",
       " <selenium.webdriver.remote.webelement.WebElement (session=\"2e873f2434a67546369fc4da40aa32ae\", element=\"6612600c-43a2-47ef-9bfc-78878791a419\")>,\n",
       " <selenium.webdriver.remote.webelement.WebElement (session=\"2e873f2434a67546369fc4da40aa32ae\", element=\"8cc65c60-3f24-417e-9696-6a31f7a097dc\")>,\n",
       " <selenium.webdriver.remote.webelement.WebElement (session=\"2e873f2434a67546369fc4da40aa32ae\", element=\"e9d0bf55-d02c-4570-8b20-a258b55f83d3\")>,\n",
       " <selenium.webdriver.remote.webelement.WebElement (session=\"2e873f2434a67546369fc4da40aa32ae\", element=\"752ef858-3f0f-4a48-afaf-3c2b9063b2b6\")>,\n",
       " <selenium.webdriver.remote.webelement.WebElement (session=\"2e873f2434a67546369fc4da40aa32ae\", element=\"2c6bb876-0f11-4444-8d9b-cce53e163d19\")>,\n",
       " <selenium.webdriver.remote.webelement.WebElement (session=\"2e873f2434a67546369fc4da40aa32ae\", element=\"9e624094-725a-4788-ba7c-642a9198c8a8\")>,\n",
       " <selenium.webdriver.remote.webelement.WebElement (session=\"2e873f2434a67546369fc4da40aa32ae\", element=\"7594eebb-4841-4228-b7e0-1d07fd19bbc3\")>,\n",
       " <selenium.webdriver.remote.webelement.WebElement (session=\"2e873f2434a67546369fc4da40aa32ae\", element=\"92730386-be08-48b3-a8cb-869b6363b03e\")>,\n",
       " <selenium.webdriver.remote.webelement.WebElement (session=\"2e873f2434a67546369fc4da40aa32ae\", element=\"8075f1ea-a923-4d82-b255-59ef932ffffc\")>,\n",
       " <selenium.webdriver.remote.webelement.WebElement (session=\"2e873f2434a67546369fc4da40aa32ae\", element=\"fe2b6af9-b3ec-4e74-84a4-b26287e9e5a0\")>,\n",
       " <selenium.webdriver.remote.webelement.WebElement (session=\"2e873f2434a67546369fc4da40aa32ae\", element=\"04ee0560-a7bb-4153-98f7-9ed305082aa7\")>,\n",
       " <selenium.webdriver.remote.webelement.WebElement (session=\"2e873f2434a67546369fc4da40aa32ae\", element=\"39ac4b9a-dfa6-40b6-8a3c-adebcb492248\")>,\n",
       " <selenium.webdriver.remote.webelement.WebElement (session=\"2e873f2434a67546369fc4da40aa32ae\", element=\"6a4d1f08-5fdc-4f61-879e-8d9e6b77da05\")>,\n",
       " <selenium.webdriver.remote.webelement.WebElement (session=\"2e873f2434a67546369fc4da40aa32ae\", element=\"ed7d57fe-ecc8-4ed4-b3bb-ef97c079784a\")>,\n",
       " <selenium.webdriver.remote.webelement.WebElement (session=\"2e873f2434a67546369fc4da40aa32ae\", element=\"637ca81e-a3bc-49da-b52e-37342ddbd174\")>,\n",
       " <selenium.webdriver.remote.webelement.WebElement (session=\"2e873f2434a67546369fc4da40aa32ae\", element=\"95e0f88d-c013-4e0f-b89b-a1431c9fe7bf\")>,\n",
       " <selenium.webdriver.remote.webelement.WebElement (session=\"2e873f2434a67546369fc4da40aa32ae\", element=\"16124fb4-01ef-414d-8dd0-3bc21256dddc\")>,\n",
       " <selenium.webdriver.remote.webelement.WebElement (session=\"2e873f2434a67546369fc4da40aa32ae\", element=\"e0428518-42cc-4a49-bd81-cc2ba3d35729\")>,\n",
       " <selenium.webdriver.remote.webelement.WebElement (session=\"2e873f2434a67546369fc4da40aa32ae\", element=\"5b0398f5-f31e-4d45-beb2-982267b64b84\")>,\n",
       " <selenium.webdriver.remote.webelement.WebElement (session=\"2e873f2434a67546369fc4da40aa32ae\", element=\"ec7d0484-564c-424f-a2ba-cac21e709afc\")>,\n",
       " <selenium.webdriver.remote.webelement.WebElement (session=\"2e873f2434a67546369fc4da40aa32ae\", element=\"a99abfda-5c0e-424a-9687-10b77dbf893b\")>,\n",
       " <selenium.webdriver.remote.webelement.WebElement (session=\"2e873f2434a67546369fc4da40aa32ae\", element=\"a28956ae-556e-4df8-8d85-a5ccce8f05c4\")>,\n",
       " <selenium.webdriver.remote.webelement.WebElement (session=\"2e873f2434a67546369fc4da40aa32ae\", element=\"0447b31c-c8c4-4e26-a15b-36275566e963\")>,\n",
       " <selenium.webdriver.remote.webelement.WebElement (session=\"2e873f2434a67546369fc4da40aa32ae\", element=\"1bf8b42f-b29f-4c11-821f-b66e4ba7ea33\")>,\n",
       " <selenium.webdriver.remote.webelement.WebElement (session=\"2e873f2434a67546369fc4da40aa32ae\", element=\"f04f385f-27e6-4463-8051-e175f3953515\")>,\n",
       " <selenium.webdriver.remote.webelement.WebElement (session=\"2e873f2434a67546369fc4da40aa32ae\", element=\"40a1fb1b-ea48-4f9d-8b60-bed955760020\")>,\n",
       " <selenium.webdriver.remote.webelement.WebElement (session=\"2e873f2434a67546369fc4da40aa32ae\", element=\"119c5e50-0215-4677-a6aa-71d43e590396\")>,\n",
       " <selenium.webdriver.remote.webelement.WebElement (session=\"2e873f2434a67546369fc4da40aa32ae\", element=\"1685a4b5-a190-4b86-ab2f-4782e89e3856\")>,\n",
       " <selenium.webdriver.remote.webelement.WebElement (session=\"2e873f2434a67546369fc4da40aa32ae\", element=\"1099e4ae-defa-4fe3-8195-c21dd8b5947c\")>,\n",
       " <selenium.webdriver.remote.webelement.WebElement (session=\"2e873f2434a67546369fc4da40aa32ae\", element=\"2c53545a-2d47-4fa5-bc1a-26e89bcc8c31\")>,\n",
       " <selenium.webdriver.remote.webelement.WebElement (session=\"2e873f2434a67546369fc4da40aa32ae\", element=\"0cae812a-ab4f-46a4-ab4a-9fe9436c4dbe\")>,\n",
       " <selenium.webdriver.remote.webelement.WebElement (session=\"2e873f2434a67546369fc4da40aa32ae\", element=\"b13d8c72-4227-4240-bfed-99f963c56809\")>,\n",
       " <selenium.webdriver.remote.webelement.WebElement (session=\"2e873f2434a67546369fc4da40aa32ae\", element=\"59e9a4ce-adf3-48aa-b0c5-393e5a1ff6ba\")>,\n",
       " <selenium.webdriver.remote.webelement.WebElement (session=\"2e873f2434a67546369fc4da40aa32ae\", element=\"6b0b6c84-4e5f-4915-b048-c009ec89c327\")>,\n",
       " <selenium.webdriver.remote.webelement.WebElement (session=\"2e873f2434a67546369fc4da40aa32ae\", element=\"f1fbbf1c-e542-4cbe-b1e8-9650650b86fb\")>,\n",
       " <selenium.webdriver.remote.webelement.WebElement (session=\"2e873f2434a67546369fc4da40aa32ae\", element=\"722fd10a-7470-411c-bc39-4f9a4b5c4aea\")>,\n",
       " <selenium.webdriver.remote.webelement.WebElement (session=\"2e873f2434a67546369fc4da40aa32ae\", element=\"7119aa0c-4ede-44c7-a531-56a4ecd53b5f\")>,\n",
       " <selenium.webdriver.remote.webelement.WebElement (session=\"2e873f2434a67546369fc4da40aa32ae\", element=\"92bea8fa-d8d4-4677-a184-7558332e22b7\")>,\n",
       " <selenium.webdriver.remote.webelement.WebElement (session=\"2e873f2434a67546369fc4da40aa32ae\", element=\"c7c66ba9-a436-4ba5-a1db-57da5819e74d\")>,\n",
       " <selenium.webdriver.remote.webelement.WebElement (session=\"2e873f2434a67546369fc4da40aa32ae\", element=\"f2bda469-f5a2-4ff4-8336-3d6b16a53233\")>,\n",
       " <selenium.webdriver.remote.webelement.WebElement (session=\"2e873f2434a67546369fc4da40aa32ae\", element=\"80f72abd-eaa3-433c-bab7-5e85de3d7afb\")>]"
      ]
     },
     "execution_count": 12,
     "metadata": {},
     "output_type": "execute_result"
    }
   ],
   "source": [
    "header2=browser.find_elements(\"xpath\",\"//div[@class='td-wrap-in']\")\n",
    "header2"
   ]
  },
  {
   "cell_type": "code",
   "execution_count": 13,
   "id": "c1bfbbed",
   "metadata": {},
   "outputs": [
    {
     "data": {
      "text/plain": [
       "['89.2', '99.9', '98.9', '100', '72.6', '62.2', '26', '78.5', '100']"
      ]
     },
     "execution_count": 13,
     "metadata": {},
     "output_type": "execute_result"
    }
   ],
   "source": [
    "#PARSING DATA\n",
    "value_head=[]\n",
    "for data in header2:\n",
    "    #get the text data\n",
    "    temp=data.text\n",
    "    value_head.append(temp)\n",
    "value=value_head[61:70]\n",
    "value"
   ]
  },
  {
   "cell_type": "code",
   "execution_count": 14,
   "id": "a49e108e",
   "metadata": {},
   "outputs": [
    {
     "data": {
      "text/plain": [
       "{'Name': 'Princeton University',\n",
       " 'Location': 'Princeton, United States',\n",
       " 'Rank': '=16',\n",
       " 'Overall Score': '89.2',\n",
       " 'Academic Reputation': '99.9',\n",
       " 'Employer Reputation': '98.9',\n",
       " 'Citations per Faculty': '100',\n",
       " 'Faculty Student Ratio': '72.6',\n",
       " 'International Students Ratio': '62.2',\n",
       " 'International Faculty Ratio': '26',\n",
       " 'International Research Network\\nUnweighted': '78.5',\n",
       " 'Employment Outcomes\\nUnweighted': '100'}"
      ]
     },
     "execution_count": 14,
     "metadata": {},
     "output_type": "execute_result"
    }
   ],
   "source": [
    "d={}\n",
    "\n",
    "d['Name']=value_head[60]\n",
    "d['Location']=loc[6]\n",
    "d['Rank']=RANK[6]\n",
    "\n",
    "for i in range(len(column_head)):\n",
    "    d[column_head[i]]=value[i]\n",
    "d"
   ]
  },
  {
   "cell_type": "code",
   "execution_count": 15,
   "id": "36f4c832",
   "metadata": {},
   "outputs": [
    {
     "data": {
      "text/plain": [
       "'{\"Name\": \"Princeton University\", \"Location\": \"Princeton, United States\", \"Rank\": \"=16\", \"Overall Score\": \"89.2\", \"Academic Reputation\": \"99.9\", \"Employer Reputation\": \"98.9\", \"Citations per Faculty\": \"100\", \"Faculty Student Ratio\": \"72.6\", \"International Students Ratio\": \"62.2\", \"International Faculty Ratio\": \"26\", \"International Research Network\\\\nUnweighted\": \"78.5\", \"Employment Outcomes\\\\nUnweighted\": \"100\"}'"
      ]
     },
     "execution_count": 15,
     "metadata": {},
     "output_type": "execute_result"
    }
   ],
   "source": [
    "s1=json.dumps(d)\n",
    "s1"
   ]
  },
  {
   "cell_type": "code",
   "execution_count": 16,
   "id": "431569e9",
   "metadata": {},
   "outputs": [],
   "source": [
    "with open('Princeton University.json','w') as f:\n",
    "    json.dump(d,f)"
   ]
  },
  {
   "cell_type": "code",
   "execution_count": null,
   "id": "82695476",
   "metadata": {},
   "outputs": [],
   "source": []
  }
 ],
 "metadata": {
  "kernelspec": {
   "display_name": "Python 3 (ipykernel)",
   "language": "python",
   "name": "python3"
  },
  "language_info": {
   "codemirror_mode": {
    "name": "ipython",
    "version": 3
   },
   "file_extension": ".py",
   "mimetype": "text/x-python",
   "name": "python",
   "nbconvert_exporter": "python",
   "pygments_lexer": "ipython3",
   "version": "3.9.12"
  }
 },
 "nbformat": 4,
 "nbformat_minor": 5
}
