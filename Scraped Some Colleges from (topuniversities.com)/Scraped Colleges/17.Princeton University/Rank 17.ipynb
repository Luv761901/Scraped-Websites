{
 "cells": [
  {
   "cell_type": "code",
   "execution_count": 12,
   "id": "443e1e68",
   "metadata": {},
   "outputs": [],
   "source": [
    "from selenium import webdriver\n",
    "from selenium.webdriver.chrome.service import Service\n",
    "import pandas as pd\n",
    "import json"
   ]
  },
  {
   "cell_type": "code",
   "execution_count": 13,
   "id": "f18a36e6",
   "metadata": {},
   "outputs": [],
   "source": [
    "path = Service('C:\\chromedriver.exe')"
   ]
  },
  {
   "cell_type": "code",
   "execution_count": 14,
   "id": "ca146f06",
   "metadata": {},
   "outputs": [],
   "source": [
    "# set path for the driver\n",
    "browser = webdriver.Chrome(service = path)"
   ]
  },
  {
   "cell_type": "code",
   "execution_count": 15,
   "id": "1b77de64",
   "metadata": {},
   "outputs": [],
   "source": [
    "url = \"https://www.topuniversities.com/university-rankings/world-university-rankings/2023\""
   ]
  },
  {
   "cell_type": "code",
   "execution_count": 16,
   "id": "75696c40",
   "metadata": {},
   "outputs": [],
   "source": [
    "# open the page url ion chrome\n",
    "browser.get(url)"
   ]
  },
  {
   "cell_type": "code",
   "execution_count": 17,
   "id": "dbe6a068",
   "metadata": {},
   "outputs": [
    {
     "data": {
      "text/plain": [
       "[<selenium.webdriver.remote.webelement.WebElement (session=\"264ced5fc98c462497a1267637aee28b\", element=\"8582d5fd-4d9e-49a0-8ef9-d1665b5d20b8\")>,\n",
       " <selenium.webdriver.remote.webelement.WebElement (session=\"264ced5fc98c462497a1267637aee28b\", element=\"82ad2304-b261-4e88-a4cc-0e0eacb63e5d\")>,\n",
       " <selenium.webdriver.remote.webelement.WebElement (session=\"264ced5fc98c462497a1267637aee28b\", element=\"b71e0f75-894a-4ec8-8938-3d03035126c0\")>,\n",
       " <selenium.webdriver.remote.webelement.WebElement (session=\"264ced5fc98c462497a1267637aee28b\", element=\"68a49fe5-cb1d-4d23-b1ac-5ad47bc961ed\")>,\n",
       " <selenium.webdriver.remote.webelement.WebElement (session=\"264ced5fc98c462497a1267637aee28b\", element=\"47e78872-d3d3-4f78-b0b7-652a79de6c34\")>,\n",
       " <selenium.webdriver.remote.webelement.WebElement (session=\"264ced5fc98c462497a1267637aee28b\", element=\"d3bfadf1-d5ed-46fb-af52-c384e5daa7ae\")>,\n",
       " <selenium.webdriver.remote.webelement.WebElement (session=\"264ced5fc98c462497a1267637aee28b\", element=\"c6729a47-c634-4a54-ae92-f87aa1bcc49c\")>,\n",
       " <selenium.webdriver.remote.webelement.WebElement (session=\"264ced5fc98c462497a1267637aee28b\", element=\"2d7452e3-80c0-44e3-acf9-3a1dfaad06a5\")>,\n",
       " <selenium.webdriver.remote.webelement.WebElement (session=\"264ced5fc98c462497a1267637aee28b\", element=\"cc3ab5f3-d044-4488-8b41-09c82806c9d3\")>]"
      ]
     },
     "execution_count": 17,
     "metadata": {},
     "output_type": "execute_result"
    }
   ],
   "source": [
    "# GET EACH COLLEGE SPECIFICATION HEADERS\n",
    "header=browser.find_elements(\"xpath\",\"//div[@class='_click-function_ind']\")\n",
    "header"
   ]
  },
  {
   "cell_type": "code",
   "execution_count": 18,
   "id": "b5abfef6",
   "metadata": {},
   "outputs": [
    {
     "data": {
      "text/plain": [
       "['Overall Score',\n",
       " 'Academic Reputation',\n",
       " 'Employer Reputation',\n",
       " 'Citations per Faculty',\n",
       " 'Faculty Student Ratio',\n",
       " 'International Students Ratio',\n",
       " 'International Faculty Ratio',\n",
       " 'International Research Network\\nUnweighted',\n",
       " 'Employment Outcomes\\nUnweighted']"
      ]
     },
     "execution_count": 18,
     "metadata": {},
     "output_type": "execute_result"
    }
   ],
   "source": [
    "#PARSING DATA\n",
    "column_head=[]\n",
    "for data in header:\n",
    "    #get the text data\n",
    "    temp=data.text\n",
    "    column_head.append(temp)\n",
    "column_head"
   ]
  },
  {
   "cell_type": "code",
   "execution_count": 19,
   "id": "879bcecd",
   "metadata": {},
   "outputs": [
    {
     "data": {
      "text/plain": [
       "[<selenium.webdriver.remote.webelement.WebElement (session=\"264ced5fc98c462497a1267637aee28b\", element=\"ed87d85c-39c5-47c7-990b-c56631406eb9\")>,\n",
       " <selenium.webdriver.remote.webelement.WebElement (session=\"264ced5fc98c462497a1267637aee28b\", element=\"f39fd33b-1387-4e50-b393-fe5a185a312e\")>,\n",
       " <selenium.webdriver.remote.webelement.WebElement (session=\"264ced5fc98c462497a1267637aee28b\", element=\"06478ae2-ae0e-4b00-a992-d776f93eb748\")>,\n",
       " <selenium.webdriver.remote.webelement.WebElement (session=\"264ced5fc98c462497a1267637aee28b\", element=\"9dbcf1e3-54c9-401e-8995-37883ccd1406\")>,\n",
       " <selenium.webdriver.remote.webelement.WebElement (session=\"264ced5fc98c462497a1267637aee28b\", element=\"7dce31e1-aeab-4373-a04a-7f3b6a0cd944\")>,\n",
       " <selenium.webdriver.remote.webelement.WebElement (session=\"264ced5fc98c462497a1267637aee28b\", element=\"60bd62e6-4635-419f-aa42-1e69f8a8425a\")>,\n",
       " <selenium.webdriver.remote.webelement.WebElement (session=\"264ced5fc98c462497a1267637aee28b\", element=\"27b66fef-bab2-4e46-8ac4-ed69d1b78282\")>,\n",
       " <selenium.webdriver.remote.webelement.WebElement (session=\"264ced5fc98c462497a1267637aee28b\", element=\"82c4767c-19ee-4a96-a7eb-d9bba43e261a\")>,\n",
       " <selenium.webdriver.remote.webelement.WebElement (session=\"264ced5fc98c462497a1267637aee28b\", element=\"d9762af2-0eb7-41b4-8c84-a702b811abba\")>,\n",
       " <selenium.webdriver.remote.webelement.WebElement (session=\"264ced5fc98c462497a1267637aee28b\", element=\"8394d41f-09d0-42e4-a042-33888a62d81c\")>,\n",
       " <selenium.webdriver.remote.webelement.WebElement (session=\"264ced5fc98c462497a1267637aee28b\", element=\"710477ff-9012-49e1-87bf-df7323073c98\")>,\n",
       " <selenium.webdriver.remote.webelement.WebElement (session=\"264ced5fc98c462497a1267637aee28b\", element=\"e0b91782-51f8-41ec-86bb-2152b94733d8\")>,\n",
       " <selenium.webdriver.remote.webelement.WebElement (session=\"264ced5fc98c462497a1267637aee28b\", element=\"ec9ec5dd-2d40-4cf2-b337-c243a51f6171\")>,\n",
       " <selenium.webdriver.remote.webelement.WebElement (session=\"264ced5fc98c462497a1267637aee28b\", element=\"6fc2fa35-bc8f-43f3-938d-5d99e56d3604\")>,\n",
       " <selenium.webdriver.remote.webelement.WebElement (session=\"264ced5fc98c462497a1267637aee28b\", element=\"b14f32c1-fa76-45fe-8240-20c0c1e5366d\")>,\n",
       " <selenium.webdriver.remote.webelement.WebElement (session=\"264ced5fc98c462497a1267637aee28b\", element=\"87bf1e4d-3e87-4dbb-98bc-2c4466303e6c\")>,\n",
       " <selenium.webdriver.remote.webelement.WebElement (session=\"264ced5fc98c462497a1267637aee28b\", element=\"8bb20081-c76f-4d79-9f21-5c19bc0524c8\")>,\n",
       " <selenium.webdriver.remote.webelement.WebElement (session=\"264ced5fc98c462497a1267637aee28b\", element=\"ddec2831-206d-4931-9274-5e3a555336ad\")>,\n",
       " <selenium.webdriver.remote.webelement.WebElement (session=\"264ced5fc98c462497a1267637aee28b\", element=\"62eefbef-b000-49eb-b6d0-2b8215b5bcf3\")>,\n",
       " <selenium.webdriver.remote.webelement.WebElement (session=\"264ced5fc98c462497a1267637aee28b\", element=\"066ac3bb-6a15-4a17-ad18-a0504355219e\")>,\n",
       " <selenium.webdriver.remote.webelement.WebElement (session=\"264ced5fc98c462497a1267637aee28b\", element=\"575c153e-6e74-450e-b0e5-38a252fa2500\")>,\n",
       " <selenium.webdriver.remote.webelement.WebElement (session=\"264ced5fc98c462497a1267637aee28b\", element=\"e3e52732-2ddf-42e1-b45c-139a76aa4dd5\")>,\n",
       " <selenium.webdriver.remote.webelement.WebElement (session=\"264ced5fc98c462497a1267637aee28b\", element=\"b833e6a5-b995-4ed6-8412-e98b6c1e9f37\")>,\n",
       " <selenium.webdriver.remote.webelement.WebElement (session=\"264ced5fc98c462497a1267637aee28b\", element=\"c6398e69-a123-4931-bfed-11b4047bee99\")>,\n",
       " <selenium.webdriver.remote.webelement.WebElement (session=\"264ced5fc98c462497a1267637aee28b\", element=\"cdd090d0-a9a1-41c0-872e-ca1604e7653d\")>,\n",
       " <selenium.webdriver.remote.webelement.WebElement (session=\"264ced5fc98c462497a1267637aee28b\", element=\"2c9d1b57-d48e-430a-b785-85cca515c3ed\")>,\n",
       " <selenium.webdriver.remote.webelement.WebElement (session=\"264ced5fc98c462497a1267637aee28b\", element=\"974260f1-f34d-4f9f-a1db-609f723996d1\")>,\n",
       " <selenium.webdriver.remote.webelement.WebElement (session=\"264ced5fc98c462497a1267637aee28b\", element=\"1f051eae-6e5b-453a-ba49-e07f88d098a6\")>,\n",
       " <selenium.webdriver.remote.webelement.WebElement (session=\"264ced5fc98c462497a1267637aee28b\", element=\"8f85839c-edb2-42e3-8227-742da0cc6434\")>,\n",
       " <selenium.webdriver.remote.webelement.WebElement (session=\"264ced5fc98c462497a1267637aee28b\", element=\"617e59db-2ed2-4188-af1f-c3263e4151ab\")>,\n",
       " <selenium.webdriver.remote.webelement.WebElement (session=\"264ced5fc98c462497a1267637aee28b\", element=\"3632da3b-29a7-4ad5-9b2d-26859d90bcca\")>,\n",
       " <selenium.webdriver.remote.webelement.WebElement (session=\"264ced5fc98c462497a1267637aee28b\", element=\"51c2b5a1-bb38-4a20-a8d1-bec88331e725\")>,\n",
       " <selenium.webdriver.remote.webelement.WebElement (session=\"264ced5fc98c462497a1267637aee28b\", element=\"5b874458-1944-40dd-a40f-16f81a8f3b48\")>,\n",
       " <selenium.webdriver.remote.webelement.WebElement (session=\"264ced5fc98c462497a1267637aee28b\", element=\"29b6833f-6372-4e17-8153-98bfd9a44895\")>,\n",
       " <selenium.webdriver.remote.webelement.WebElement (session=\"264ced5fc98c462497a1267637aee28b\", element=\"52b1e78e-5ac5-44fe-91f2-4349e27f4cbd\")>,\n",
       " <selenium.webdriver.remote.webelement.WebElement (session=\"264ced5fc98c462497a1267637aee28b\", element=\"db3cfbfb-5ca4-496f-b461-6e429c7becfe\")>,\n",
       " <selenium.webdriver.remote.webelement.WebElement (session=\"264ced5fc98c462497a1267637aee28b\", element=\"5c4701a8-c47c-4dee-aec6-2a7213cb8c5b\")>,\n",
       " <selenium.webdriver.remote.webelement.WebElement (session=\"264ced5fc98c462497a1267637aee28b\", element=\"8dce8b69-ba8c-4ec8-b0e6-d49ca5d71239\")>,\n",
       " <selenium.webdriver.remote.webelement.WebElement (session=\"264ced5fc98c462497a1267637aee28b\", element=\"8abc89b8-9202-4d40-8c3e-921e0642938e\")>,\n",
       " <selenium.webdriver.remote.webelement.WebElement (session=\"264ced5fc98c462497a1267637aee28b\", element=\"c7d08b59-7178-4fcd-8e63-0cfbf7c53d96\")>,\n",
       " <selenium.webdriver.remote.webelement.WebElement (session=\"264ced5fc98c462497a1267637aee28b\", element=\"5f0fdf9e-7252-43e2-9d0c-0b17c67878d6\")>,\n",
       " <selenium.webdriver.remote.webelement.WebElement (session=\"264ced5fc98c462497a1267637aee28b\", element=\"87c3fc50-39ef-41b5-9cba-a4ef7b9f3689\")>,\n",
       " <selenium.webdriver.remote.webelement.WebElement (session=\"264ced5fc98c462497a1267637aee28b\", element=\"bfd61c4c-d6b0-4ad9-a48c-5d0679472843\")>,\n",
       " <selenium.webdriver.remote.webelement.WebElement (session=\"264ced5fc98c462497a1267637aee28b\", element=\"845fd554-ccf6-40fd-ba20-a4041e535bbe\")>,\n",
       " <selenium.webdriver.remote.webelement.WebElement (session=\"264ced5fc98c462497a1267637aee28b\", element=\"de4f0f2d-e7fa-4ee8-90d5-2099090729bf\")>,\n",
       " <selenium.webdriver.remote.webelement.WebElement (session=\"264ced5fc98c462497a1267637aee28b\", element=\"a0664cc2-dc77-459a-820b-9cf27eab7d43\")>,\n",
       " <selenium.webdriver.remote.webelement.WebElement (session=\"264ced5fc98c462497a1267637aee28b\", element=\"ebe995a9-bf2d-41b3-bfe0-0a76da2d4205\")>,\n",
       " <selenium.webdriver.remote.webelement.WebElement (session=\"264ced5fc98c462497a1267637aee28b\", element=\"cc75ea7a-582a-4b9b-a504-99ed9181bf74\")>,\n",
       " <selenium.webdriver.remote.webelement.WebElement (session=\"264ced5fc98c462497a1267637aee28b\", element=\"150e01a1-e555-4c9c-a124-496307d3e3d6\")>,\n",
       " <selenium.webdriver.remote.webelement.WebElement (session=\"264ced5fc98c462497a1267637aee28b\", element=\"68a807ea-2628-4a97-ad2e-0398407db363\")>,\n",
       " <selenium.webdriver.remote.webelement.WebElement (session=\"264ced5fc98c462497a1267637aee28b\", element=\"6972b121-0931-46e6-bcc5-2741ae14549a\")>,\n",
       " <selenium.webdriver.remote.webelement.WebElement (session=\"264ced5fc98c462497a1267637aee28b\", element=\"3e389546-3abb-4e96-a67a-94fa3f5d0974\")>,\n",
       " <selenium.webdriver.remote.webelement.WebElement (session=\"264ced5fc98c462497a1267637aee28b\", element=\"d0adc34e-b487-4386-abf1-6af41253d1ab\")>,\n",
       " <selenium.webdriver.remote.webelement.WebElement (session=\"264ced5fc98c462497a1267637aee28b\", element=\"f14b17ff-9aa9-4dad-af3f-3463cae7f22d\")>,\n",
       " <selenium.webdriver.remote.webelement.WebElement (session=\"264ced5fc98c462497a1267637aee28b\", element=\"6aad4e26-642a-4280-994f-41682947f256\")>,\n",
       " <selenium.webdriver.remote.webelement.WebElement (session=\"264ced5fc98c462497a1267637aee28b\", element=\"29683196-c0b0-4ec6-85f0-3fb278efcc57\")>,\n",
       " <selenium.webdriver.remote.webelement.WebElement (session=\"264ced5fc98c462497a1267637aee28b\", element=\"96f95409-4ed5-48d0-a665-f1ff7f0600b8\")>,\n",
       " <selenium.webdriver.remote.webelement.WebElement (session=\"264ced5fc98c462497a1267637aee28b\", element=\"253b7f70-a357-47e9-855c-7eba79cb9f3d\")>,\n",
       " <selenium.webdriver.remote.webelement.WebElement (session=\"264ced5fc98c462497a1267637aee28b\", element=\"a28ffdf3-79de-4410-9243-dd504b458a44\")>,\n",
       " <selenium.webdriver.remote.webelement.WebElement (session=\"264ced5fc98c462497a1267637aee28b\", element=\"f5a0075f-48d1-443b-ae0d-fc0e4a905550\")>,\n",
       " <selenium.webdriver.remote.webelement.WebElement (session=\"264ced5fc98c462497a1267637aee28b\", element=\"55b1544d-ff8e-415c-8a56-c2f91bb59c17\")>,\n",
       " <selenium.webdriver.remote.webelement.WebElement (session=\"264ced5fc98c462497a1267637aee28b\", element=\"2010e79a-689e-44c2-9a90-2e0d61113cf0\")>,\n",
       " <selenium.webdriver.remote.webelement.WebElement (session=\"264ced5fc98c462497a1267637aee28b\", element=\"566b2db0-155a-4ecb-8766-188a9464e018\")>,\n",
       " <selenium.webdriver.remote.webelement.WebElement (session=\"264ced5fc98c462497a1267637aee28b\", element=\"594e434b-0b0d-4538-8ce2-bffefb59741b\")>,\n",
       " <selenium.webdriver.remote.webelement.WebElement (session=\"264ced5fc98c462497a1267637aee28b\", element=\"86804150-ef17-48e7-a858-e0e63bf6c225\")>,\n",
       " <selenium.webdriver.remote.webelement.WebElement (session=\"264ced5fc98c462497a1267637aee28b\", element=\"7873d68a-964b-4629-a519-27032a9a0f2d\")>,\n",
       " <selenium.webdriver.remote.webelement.WebElement (session=\"264ced5fc98c462497a1267637aee28b\", element=\"797e0083-25a1-4e7c-84f8-78d0c4a942f8\")>,\n",
       " <selenium.webdriver.remote.webelement.WebElement (session=\"264ced5fc98c462497a1267637aee28b\", element=\"3e6e51b4-cac9-4780-80d9-1269f91711c5\")>,\n",
       " <selenium.webdriver.remote.webelement.WebElement (session=\"264ced5fc98c462497a1267637aee28b\", element=\"2ad33de8-eb93-4da2-9205-a4e081918e1a\")>,\n",
       " <selenium.webdriver.remote.webelement.WebElement (session=\"264ced5fc98c462497a1267637aee28b\", element=\"8ee5314e-fd2b-42a4-8e8f-76c3ca6b5882\")>,\n",
       " <selenium.webdriver.remote.webelement.WebElement (session=\"264ced5fc98c462497a1267637aee28b\", element=\"ed2eb5ed-717f-441e-983a-e3aeb3809bd0\")>,\n",
       " <selenium.webdriver.remote.webelement.WebElement (session=\"264ced5fc98c462497a1267637aee28b\", element=\"137a4374-9224-4448-aea3-1d3af0f9625a\")>,\n",
       " <selenium.webdriver.remote.webelement.WebElement (session=\"264ced5fc98c462497a1267637aee28b\", element=\"2f7a7d51-6079-479f-8c99-7f7bf044929c\")>,\n",
       " <selenium.webdriver.remote.webelement.WebElement (session=\"264ced5fc98c462497a1267637aee28b\", element=\"f5ee06a7-e798-4476-a413-1ce78b8bfd23\")>,\n",
       " <selenium.webdriver.remote.webelement.WebElement (session=\"264ced5fc98c462497a1267637aee28b\", element=\"7b600f05-c1c4-43d7-af6c-2e424570e4dc\")>,\n",
       " <selenium.webdriver.remote.webelement.WebElement (session=\"264ced5fc98c462497a1267637aee28b\", element=\"bf675575-89ab-4eb8-8837-ad2d23ba43fe\")>,\n",
       " <selenium.webdriver.remote.webelement.WebElement (session=\"264ced5fc98c462497a1267637aee28b\", element=\"159ea9a1-43d6-4f95-9099-9c5f9c9f71c7\")>,\n",
       " <selenium.webdriver.remote.webelement.WebElement (session=\"264ced5fc98c462497a1267637aee28b\", element=\"28f288bc-6d77-434c-91d5-e55ca45e998c\")>,\n",
       " <selenium.webdriver.remote.webelement.WebElement (session=\"264ced5fc98c462497a1267637aee28b\", element=\"b48ff23e-e241-460d-ba8c-5634032634c0\")>,\n",
       " <selenium.webdriver.remote.webelement.WebElement (session=\"264ced5fc98c462497a1267637aee28b\", element=\"b8e07e35-4a84-4006-a777-3fe6eae50441\")>,\n",
       " <selenium.webdriver.remote.webelement.WebElement (session=\"264ced5fc98c462497a1267637aee28b\", element=\"ed2b67c1-2bc9-4c92-a306-50d0bd9ea10f\")>,\n",
       " <selenium.webdriver.remote.webelement.WebElement (session=\"264ced5fc98c462497a1267637aee28b\", element=\"241b7863-96ca-490a-b02d-1556a3395421\")>,\n",
       " <selenium.webdriver.remote.webelement.WebElement (session=\"264ced5fc98c462497a1267637aee28b\", element=\"9d0a67d2-e7ab-442c-9273-17d5f5f29962\")>,\n",
       " <selenium.webdriver.remote.webelement.WebElement (session=\"264ced5fc98c462497a1267637aee28b\", element=\"55e54f42-3911-4be9-a609-db758ba0f1c9\")>,\n",
       " <selenium.webdriver.remote.webelement.WebElement (session=\"264ced5fc98c462497a1267637aee28b\", element=\"526dddcf-1786-47a9-ad7b-3049f0b04061\")>,\n",
       " <selenium.webdriver.remote.webelement.WebElement (session=\"264ced5fc98c462497a1267637aee28b\", element=\"6870f748-2e69-4b72-961f-d745792341b3\")>,\n",
       " <selenium.webdriver.remote.webelement.WebElement (session=\"264ced5fc98c462497a1267637aee28b\", element=\"0a60a23b-c39c-4be9-8746-8f616db21187\")>,\n",
       " <selenium.webdriver.remote.webelement.WebElement (session=\"264ced5fc98c462497a1267637aee28b\", element=\"24590481-9ae7-4c0d-8cb8-8a426163215e\")>,\n",
       " <selenium.webdriver.remote.webelement.WebElement (session=\"264ced5fc98c462497a1267637aee28b\", element=\"260218af-0ef0-421a-9cc8-dc02c65a6932\")>,\n",
       " <selenium.webdriver.remote.webelement.WebElement (session=\"264ced5fc98c462497a1267637aee28b\", element=\"655d862d-5d8a-440d-8a86-e759849e8c95\")>,\n",
       " <selenium.webdriver.remote.webelement.WebElement (session=\"264ced5fc98c462497a1267637aee28b\", element=\"9e97e16b-6254-4b98-8dbe-1a5c036b96c7\")>,\n",
       " <selenium.webdriver.remote.webelement.WebElement (session=\"264ced5fc98c462497a1267637aee28b\", element=\"fdaac0b6-db0e-42c4-9cf6-d220705b11d3\")>,\n",
       " <selenium.webdriver.remote.webelement.WebElement (session=\"264ced5fc98c462497a1267637aee28b\", element=\"fce03680-88dd-4e0c-aced-366137da3614\")>,\n",
       " <selenium.webdriver.remote.webelement.WebElement (session=\"264ced5fc98c462497a1267637aee28b\", element=\"918dde89-215a-475d-9d9e-a376945258a8\")>,\n",
       " <selenium.webdriver.remote.webelement.WebElement (session=\"264ced5fc98c462497a1267637aee28b\", element=\"0a7b19bd-741b-4fb1-9523-746118850bc7\")>,\n",
       " <selenium.webdriver.remote.webelement.WebElement (session=\"264ced5fc98c462497a1267637aee28b\", element=\"83ae0928-9ff5-41a3-b1be-223a058022ed\")>,\n",
       " <selenium.webdriver.remote.webelement.WebElement (session=\"264ced5fc98c462497a1267637aee28b\", element=\"032e3339-9277-4f7b-b642-5e893e291ad3\")>,\n",
       " <selenium.webdriver.remote.webelement.WebElement (session=\"264ced5fc98c462497a1267637aee28b\", element=\"66416742-3b98-4f9f-9de6-1e3e381159c4\")>,\n",
       " <selenium.webdriver.remote.webelement.WebElement (session=\"264ced5fc98c462497a1267637aee28b\", element=\"84d5ef76-3c13-4b08-b060-ae468334c3d6\")>,\n",
       " <selenium.webdriver.remote.webelement.WebElement (session=\"264ced5fc98c462497a1267637aee28b\", element=\"0088dc09-b520-45fa-aced-8db1a63d1470\")>]"
      ]
     },
     "execution_count": 19,
     "metadata": {},
     "output_type": "execute_result"
    }
   ],
   "source": [
    "header2=browser.find_elements(\"xpath\",\"//div[@class='td-wrap-in']\")\n",
    "header2"
   ]
  },
  {
   "cell_type": "code",
   "execution_count": 20,
   "id": "c1bfbbed",
   "metadata": {},
   "outputs": [
    {
     "data": {
      "text/plain": [
       "['89.2', '99.9', '98.9', '100', '72.6', '62.2', '26', '78.5', '100']"
      ]
     },
     "execution_count": 20,
     "metadata": {},
     "output_type": "execute_result"
    }
   ],
   "source": [
    "#PARSING DATA\n",
    "value_head=[]\n",
    "for data in header2:\n",
    "    #get the text data\n",
    "    temp=data.text\n",
    "    value_head.append(temp)\n",
    "value_head=value_head[61:70]\n",
    "value_head"
   ]
  },
  {
   "cell_type": "code",
   "execution_count": 22,
   "id": "a49e108e",
   "metadata": {},
   "outputs": [
    {
     "data": {
      "text/plain": [
       "{'Overall Score': '89.2',\n",
       " 'Academic Reputation': '99.9',\n",
       " 'Employer Reputation': '98.9',\n",
       " 'Citations per Faculty': '100',\n",
       " 'Faculty Student Ratio': '72.6',\n",
       " 'International Students Ratio': '62.2',\n",
       " 'International Faculty Ratio': '26',\n",
       " 'International Research Network\\nUnweighted': '78.5',\n",
       " 'Employment Outcomes\\nUnweighted': '100'}"
      ]
     },
     "execution_count": 22,
     "metadata": {},
     "output_type": "execute_result"
    }
   ],
   "source": [
    "d={}\n",
    "for i in range(len(column_head)):\n",
    "    d[column_head[i]]=value_head[i]\n",
    "d"
   ]
  },
  {
   "cell_type": "code",
   "execution_count": 23,
   "id": "36f4c832",
   "metadata": {},
   "outputs": [
    {
     "data": {
      "text/plain": [
       "'{\"Overall Score\": \"89.2\", \"Academic Reputation\": \"99.9\", \"Employer Reputation\": \"98.9\", \"Citations per Faculty\": \"100\", \"Faculty Student Ratio\": \"72.6\", \"International Students Ratio\": \"62.2\", \"International Faculty Ratio\": \"26\", \"International Research Network\\\\nUnweighted\": \"78.5\", \"Employment Outcomes\\\\nUnweighted\": \"100\"}'"
      ]
     },
     "execution_count": 23,
     "metadata": {},
     "output_type": "execute_result"
    }
   ],
   "source": [
    "s1=json.dumps(d)\n",
    "s1"
   ]
  },
  {
   "cell_type": "code",
   "execution_count": 24,
   "id": "431569e9",
   "metadata": {},
   "outputs": [],
   "source": [
    "with open('Princeton University.json','w') as f:\n",
    "    json.dump(d,f)"
   ]
  }
 ],
 "metadata": {
  "kernelspec": {
   "display_name": "Python 3 (ipykernel)",
   "language": "python",
   "name": "python3"
  },
  "language_info": {
   "codemirror_mode": {
    "name": "ipython",
    "version": 3
   },
   "file_extension": ".py",
   "mimetype": "text/x-python",
   "name": "python",
   "nbconvert_exporter": "python",
   "pygments_lexer": "ipython3",
   "version": "3.9.12"
  }
 },
 "nbformat": 4,
 "nbformat_minor": 5
}
