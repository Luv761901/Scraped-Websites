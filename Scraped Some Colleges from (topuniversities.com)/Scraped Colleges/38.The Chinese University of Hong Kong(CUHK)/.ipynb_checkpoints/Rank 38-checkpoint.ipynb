{
 "cells": [
  {
   "cell_type": "code",
   "execution_count": 1,
   "id": "d1ddecca",
   "metadata": {},
   "outputs": [],
   "source": [
    "from selenium import webdriver\n",
    "from selenium.webdriver.chrome.service import Service\n",
    "import pandas as pd\n",
    "import json"
   ]
  },
  {
   "cell_type": "code",
   "execution_count": 2,
   "id": "8cfff932",
   "metadata": {},
   "outputs": [],
   "source": [
    "path = Service('C:\\chromedriver.exe')"
   ]
  },
  {
   "cell_type": "code",
   "execution_count": 3,
   "id": "f0196f97",
   "metadata": {},
   "outputs": [],
   "source": [
    "# set path for the driver\n",
    "browser = webdriver.Chrome(service = path)"
   ]
  },
  {
   "cell_type": "code",
   "execution_count": 4,
   "id": "5d05f7d3",
   "metadata": {},
   "outputs": [],
   "source": [
    "url = \"https://www.topuniversities.com/university-rankings/world-university-rankings/2023\""
   ]
  },
  {
   "cell_type": "code",
   "execution_count": 5,
   "id": "9dc0a3b0",
   "metadata": {},
   "outputs": [],
   "source": [
    "# open the page url ion chrome\n",
    "browser.get(url)\n"
   ]
  },
  {
   "cell_type": "code",
   "execution_count": 6,
   "id": "6a3cffd8",
   "metadata": {},
   "outputs": [
    {
     "data": {
      "text/plain": [
       "[<selenium.webdriver.remote.webelement.WebElement (session=\"b3055184b90a3b38efe49778c5e428b1\", element=\"e4e6e0f0-aa0c-40d1-9a38-3d0b219d2c73\")>,\n",
       " <selenium.webdriver.remote.webelement.WebElement (session=\"b3055184b90a3b38efe49778c5e428b1\", element=\"5d45028e-5381-4773-951b-e91f6e8e72d7\")>,\n",
       " <selenium.webdriver.remote.webelement.WebElement (session=\"b3055184b90a3b38efe49778c5e428b1\", element=\"da32c690-0530-4a3d-9c3f-ecbb80392f76\")>,\n",
       " <selenium.webdriver.remote.webelement.WebElement (session=\"b3055184b90a3b38efe49778c5e428b1\", element=\"9d111062-472b-472e-8151-3c66b77ae5d4\")>,\n",
       " <selenium.webdriver.remote.webelement.WebElement (session=\"b3055184b90a3b38efe49778c5e428b1\", element=\"264cb1e4-00ce-42f0-8c49-0ea8db07e667\")>,\n",
       " <selenium.webdriver.remote.webelement.WebElement (session=\"b3055184b90a3b38efe49778c5e428b1\", element=\"6544829f-57c3-446a-a761-77aad3c06618\")>,\n",
       " <selenium.webdriver.remote.webelement.WebElement (session=\"b3055184b90a3b38efe49778c5e428b1\", element=\"39532d59-321e-4dee-979a-f7bb13576507\")>,\n",
       " <selenium.webdriver.remote.webelement.WebElement (session=\"b3055184b90a3b38efe49778c5e428b1\", element=\"9df7b450-da0d-4dbd-a78a-74fca60c3450\")>,\n",
       " <selenium.webdriver.remote.webelement.WebElement (session=\"b3055184b90a3b38efe49778c5e428b1\", element=\"f4293732-7bcc-4471-ba97-9ef937a90132\")>]"
      ]
     },
     "execution_count": 6,
     "metadata": {},
     "output_type": "execute_result"
    }
   ],
   "source": [
    "# GET EACH COLLEGE SPECIFICATION HEADERS\n",
    "header=browser.find_elements(\"xpath\",\"//div[@class='_click-function_ind']\")\n",
    "header"
   ]
  },
  {
   "cell_type": "code",
   "execution_count": 7,
   "id": "09dddda1",
   "metadata": {},
   "outputs": [
    {
     "data": {
      "text/plain": [
       "['Overall Score',\n",
       " 'Academic Reputation',\n",
       " 'Employer Reputation',\n",
       " 'Citations per Faculty',\n",
       " 'Faculty Student Ratio',\n",
       " 'International Students Ratio',\n",
       " 'International Faculty Ratio',\n",
       " 'International Research Network\\nUnweighted',\n",
       " 'Employment Outcomes\\nUnweighted']"
      ]
     },
     "execution_count": 7,
     "metadata": {},
     "output_type": "execute_result"
    }
   ],
   "source": [
    "#PARSING DATA\n",
    "column_head=[]\n",
    "for data in header:\n",
    "    #get the text data\n",
    "    temp=data.text\n",
    "    column_head.append(temp)\n",
    "column_head\n"
   ]
  },
  {
   "cell_type": "code",
   "execution_count": 8,
   "id": "fe20d7dc",
   "metadata": {},
   "outputs": [
    {
     "data": {
      "text/plain": [
       "[<selenium.webdriver.remote.webelement.WebElement (session=\"b3055184b90a3b38efe49778c5e428b1\", element=\"2db89a2a-e702-47aa-a2ec-c899de42ef62\")>,\n",
       " <selenium.webdriver.remote.webelement.WebElement (session=\"b3055184b90a3b38efe49778c5e428b1\", element=\"2a1139f5-c3d1-4f7e-8257-9a24a55cb05c\")>,\n",
       " <selenium.webdriver.remote.webelement.WebElement (session=\"b3055184b90a3b38efe49778c5e428b1\", element=\"234af797-2043-4381-83c1-9ffc79e702da\")>,\n",
       " <selenium.webdriver.remote.webelement.WebElement (session=\"b3055184b90a3b38efe49778c5e428b1\", element=\"a9ec461c-b006-49af-acb7-51700cde396c\")>,\n",
       " <selenium.webdriver.remote.webelement.WebElement (session=\"b3055184b90a3b38efe49778c5e428b1\", element=\"68616c81-dc81-4aae-b866-d635947d8848\")>,\n",
       " <selenium.webdriver.remote.webelement.WebElement (session=\"b3055184b90a3b38efe49778c5e428b1\", element=\"62e7ef60-4530-40ed-bdc6-1d76a5fcfad8\")>,\n",
       " <selenium.webdriver.remote.webelement.WebElement (session=\"b3055184b90a3b38efe49778c5e428b1\", element=\"1e289c5f-f8fa-4667-8be7-c315d0fd0a99\")>,\n",
       " <selenium.webdriver.remote.webelement.WebElement (session=\"b3055184b90a3b38efe49778c5e428b1\", element=\"f90d3ef7-52f7-427c-8239-da61262fee2b\")>,\n",
       " <selenium.webdriver.remote.webelement.WebElement (session=\"b3055184b90a3b38efe49778c5e428b1\", element=\"48dd8c0f-0ff5-4146-b71b-30c50da53f30\")>,\n",
       " <selenium.webdriver.remote.webelement.WebElement (session=\"b3055184b90a3b38efe49778c5e428b1\", element=\"4feb29f1-77f4-4adb-abc0-220a4c7df19d\")>,\n",
       " <selenium.webdriver.remote.webelement.WebElement (session=\"b3055184b90a3b38efe49778c5e428b1\", element=\"21b79463-b8fa-4758-9fb1-d7b6c198e271\")>,\n",
       " <selenium.webdriver.remote.webelement.WebElement (session=\"b3055184b90a3b38efe49778c5e428b1\", element=\"7f3ade06-33d9-492f-a60e-2f58c84ad7ec\")>,\n",
       " <selenium.webdriver.remote.webelement.WebElement (session=\"b3055184b90a3b38efe49778c5e428b1\", element=\"4507f5ef-3031-4925-862b-7e35a7b26426\")>,\n",
       " <selenium.webdriver.remote.webelement.WebElement (session=\"b3055184b90a3b38efe49778c5e428b1\", element=\"4125203f-5893-4a12-a28c-a1dec7aad14d\")>,\n",
       " <selenium.webdriver.remote.webelement.WebElement (session=\"b3055184b90a3b38efe49778c5e428b1\", element=\"c7bca1d0-e6ce-4981-a5f9-7233072841b1\")>,\n",
       " <selenium.webdriver.remote.webelement.WebElement (session=\"b3055184b90a3b38efe49778c5e428b1\", element=\"6d84b917-4200-4329-b4ae-01b8a34a4d8c\")>,\n",
       " <selenium.webdriver.remote.webelement.WebElement (session=\"b3055184b90a3b38efe49778c5e428b1\", element=\"0b537827-3607-4057-9386-a974112c4483\")>,\n",
       " <selenium.webdriver.remote.webelement.WebElement (session=\"b3055184b90a3b38efe49778c5e428b1\", element=\"7a412cb2-a9e1-42ae-95b9-fcf0327f000c\")>,\n",
       " <selenium.webdriver.remote.webelement.WebElement (session=\"b3055184b90a3b38efe49778c5e428b1\", element=\"2b158a0d-19bd-4e60-b54d-f1a1c811f95a\")>,\n",
       " <selenium.webdriver.remote.webelement.WebElement (session=\"b3055184b90a3b38efe49778c5e428b1\", element=\"1af8382a-7b02-4496-8a1d-e6d5ded4cba6\")>,\n",
       " <selenium.webdriver.remote.webelement.WebElement (session=\"b3055184b90a3b38efe49778c5e428b1\", element=\"f5f59946-03c6-4f8b-a072-7da486dce3c9\")>,\n",
       " <selenium.webdriver.remote.webelement.WebElement (session=\"b3055184b90a3b38efe49778c5e428b1\", element=\"aa37a100-1cf2-4084-b8a3-9524b9e92406\")>,\n",
       " <selenium.webdriver.remote.webelement.WebElement (session=\"b3055184b90a3b38efe49778c5e428b1\", element=\"2fa7b594-3345-4007-8ed9-bb41ed1d41b8\")>,\n",
       " <selenium.webdriver.remote.webelement.WebElement (session=\"b3055184b90a3b38efe49778c5e428b1\", element=\"aeb571ba-cbca-4f9e-b50a-5971b4620b3e\")>,\n",
       " <selenium.webdriver.remote.webelement.WebElement (session=\"b3055184b90a3b38efe49778c5e428b1\", element=\"11db8729-d68b-4eba-83b3-61df541d82f4\")>,\n",
       " <selenium.webdriver.remote.webelement.WebElement (session=\"b3055184b90a3b38efe49778c5e428b1\", element=\"76214e41-12c9-4094-a23b-230b1b9b9016\")>,\n",
       " <selenium.webdriver.remote.webelement.WebElement (session=\"b3055184b90a3b38efe49778c5e428b1\", element=\"857ccbe3-61bf-4d62-8292-9d8b5aa0f10f\")>,\n",
       " <selenium.webdriver.remote.webelement.WebElement (session=\"b3055184b90a3b38efe49778c5e428b1\", element=\"234fbe4b-060c-465d-a83a-1feced0af6b5\")>,\n",
       " <selenium.webdriver.remote.webelement.WebElement (session=\"b3055184b90a3b38efe49778c5e428b1\", element=\"d9675e8d-8984-489d-a371-14ba2fe3ab4a\")>,\n",
       " <selenium.webdriver.remote.webelement.WebElement (session=\"b3055184b90a3b38efe49778c5e428b1\", element=\"1c29551e-5924-4e1a-ace5-44ed5e929aff\")>,\n",
       " <selenium.webdriver.remote.webelement.WebElement (session=\"b3055184b90a3b38efe49778c5e428b1\", element=\"5a613967-3dad-4d08-b659-5da5e3e7db92\")>,\n",
       " <selenium.webdriver.remote.webelement.WebElement (session=\"b3055184b90a3b38efe49778c5e428b1\", element=\"3ee88ee0-57f8-4097-b15a-afdea59d79f6\")>,\n",
       " <selenium.webdriver.remote.webelement.WebElement (session=\"b3055184b90a3b38efe49778c5e428b1\", element=\"2e73c839-a935-45b4-95b8-3f44daf1c3ba\")>,\n",
       " <selenium.webdriver.remote.webelement.WebElement (session=\"b3055184b90a3b38efe49778c5e428b1\", element=\"8ed951c5-bf75-4bd9-aa5d-8cd8ba5217a0\")>,\n",
       " <selenium.webdriver.remote.webelement.WebElement (session=\"b3055184b90a3b38efe49778c5e428b1\", element=\"221f94c7-4ef6-4ed5-8094-dc9e55e769a8\")>,\n",
       " <selenium.webdriver.remote.webelement.WebElement (session=\"b3055184b90a3b38efe49778c5e428b1\", element=\"44cf230a-1ffd-4b99-9361-0df2e9465d9c\")>,\n",
       " <selenium.webdriver.remote.webelement.WebElement (session=\"b3055184b90a3b38efe49778c5e428b1\", element=\"0fc03f5e-3f5b-4ffa-b8fb-aef58efea6a2\")>,\n",
       " <selenium.webdriver.remote.webelement.WebElement (session=\"b3055184b90a3b38efe49778c5e428b1\", element=\"d0ede218-b265-4cf2-9764-a2e2625ceeed\")>,\n",
       " <selenium.webdriver.remote.webelement.WebElement (session=\"b3055184b90a3b38efe49778c5e428b1\", element=\"4d351f79-d8ee-4a66-a2f4-e33137e06703\")>,\n",
       " <selenium.webdriver.remote.webelement.WebElement (session=\"b3055184b90a3b38efe49778c5e428b1\", element=\"90807c25-b665-4800-b286-0fd8c1c99442\")>,\n",
       " <selenium.webdriver.remote.webelement.WebElement (session=\"b3055184b90a3b38efe49778c5e428b1\", element=\"52684f57-21f7-4dfe-bc0c-af9f3e4dc9c1\")>,\n",
       " <selenium.webdriver.remote.webelement.WebElement (session=\"b3055184b90a3b38efe49778c5e428b1\", element=\"b6c40084-a06e-4472-b039-242be47a70b7\")>,\n",
       " <selenium.webdriver.remote.webelement.WebElement (session=\"b3055184b90a3b38efe49778c5e428b1\", element=\"ce5affe5-14d8-475b-aa7a-1b05ce3d32d8\")>,\n",
       " <selenium.webdriver.remote.webelement.WebElement (session=\"b3055184b90a3b38efe49778c5e428b1\", element=\"9a1ab39c-3677-4eda-9f23-ce180b8ab4f7\")>,\n",
       " <selenium.webdriver.remote.webelement.WebElement (session=\"b3055184b90a3b38efe49778c5e428b1\", element=\"e98b08ed-daab-43a9-bf59-351334408625\")>,\n",
       " <selenium.webdriver.remote.webelement.WebElement (session=\"b3055184b90a3b38efe49778c5e428b1\", element=\"662c0801-f6af-49ca-ac79-32f992d8be7e\")>,\n",
       " <selenium.webdriver.remote.webelement.WebElement (session=\"b3055184b90a3b38efe49778c5e428b1\", element=\"0fa3307e-b7ae-45a2-bb35-3fe20f86cadf\")>,\n",
       " <selenium.webdriver.remote.webelement.WebElement (session=\"b3055184b90a3b38efe49778c5e428b1\", element=\"ff74e515-e927-45d6-b134-d71440092123\")>,\n",
       " <selenium.webdriver.remote.webelement.WebElement (session=\"b3055184b90a3b38efe49778c5e428b1\", element=\"7b30fd90-a2ee-4d8d-8a6a-ed30e1dfd4fb\")>,\n",
       " <selenium.webdriver.remote.webelement.WebElement (session=\"b3055184b90a3b38efe49778c5e428b1\", element=\"be6a47cd-974e-4ed8-9812-f0f25888bb09\")>,\n",
       " <selenium.webdriver.remote.webelement.WebElement (session=\"b3055184b90a3b38efe49778c5e428b1\", element=\"a0a9ed04-2710-450e-a70f-a6996daf8ba7\")>,\n",
       " <selenium.webdriver.remote.webelement.WebElement (session=\"b3055184b90a3b38efe49778c5e428b1\", element=\"395aac22-de90-4d88-9acc-ca99d45cf395\")>,\n",
       " <selenium.webdriver.remote.webelement.WebElement (session=\"b3055184b90a3b38efe49778c5e428b1\", element=\"d8b5e04c-4c59-470d-a6f5-13455ca649ce\")>,\n",
       " <selenium.webdriver.remote.webelement.WebElement (session=\"b3055184b90a3b38efe49778c5e428b1\", element=\"006e57a1-cb91-416a-bdc3-bc5ac1a55726\")>,\n",
       " <selenium.webdriver.remote.webelement.WebElement (session=\"b3055184b90a3b38efe49778c5e428b1\", element=\"b50ac6d0-4cd9-46af-a624-62607bf44601\")>,\n",
       " <selenium.webdriver.remote.webelement.WebElement (session=\"b3055184b90a3b38efe49778c5e428b1\", element=\"208860ff-c006-4ca6-8be4-c49074b9e26b\")>,\n",
       " <selenium.webdriver.remote.webelement.WebElement (session=\"b3055184b90a3b38efe49778c5e428b1\", element=\"aa8469a0-74b6-4097-8810-84c29976e332\")>,\n",
       " <selenium.webdriver.remote.webelement.WebElement (session=\"b3055184b90a3b38efe49778c5e428b1\", element=\"32fc4501-ee24-42e6-b1db-9e6e263a9a0d\")>,\n",
       " <selenium.webdriver.remote.webelement.WebElement (session=\"b3055184b90a3b38efe49778c5e428b1\", element=\"89e0a17c-ebd6-4a23-98c2-9a64dcbbdfd8\")>,\n",
       " <selenium.webdriver.remote.webelement.WebElement (session=\"b3055184b90a3b38efe49778c5e428b1\", element=\"a04fe6fb-d139-4a5c-93ac-aadbb6771751\")>,\n",
       " <selenium.webdriver.remote.webelement.WebElement (session=\"b3055184b90a3b38efe49778c5e428b1\", element=\"aa9e67fb-71b4-48c5-925f-7130ea721369\")>,\n",
       " <selenium.webdriver.remote.webelement.WebElement (session=\"b3055184b90a3b38efe49778c5e428b1\", element=\"c36420b4-d66b-440f-99b9-d7c706b01e65\")>,\n",
       " <selenium.webdriver.remote.webelement.WebElement (session=\"b3055184b90a3b38efe49778c5e428b1\", element=\"a0ab4803-0b4a-499d-a30a-0069794cf5b7\")>,\n",
       " <selenium.webdriver.remote.webelement.WebElement (session=\"b3055184b90a3b38efe49778c5e428b1\", element=\"b659611f-0fa3-44e5-934f-927ebe2533a4\")>,\n",
       " <selenium.webdriver.remote.webelement.WebElement (session=\"b3055184b90a3b38efe49778c5e428b1\", element=\"3b8b50ac-981b-4bf4-b6e2-a68add0bc4fd\")>,\n",
       " <selenium.webdriver.remote.webelement.WebElement (session=\"b3055184b90a3b38efe49778c5e428b1\", element=\"c4ab8213-8678-4ead-a0ba-da27ad3ef43e\")>,\n",
       " <selenium.webdriver.remote.webelement.WebElement (session=\"b3055184b90a3b38efe49778c5e428b1\", element=\"6bb22cd1-b608-474c-ab58-7a1d40e9a23a\")>,\n",
       " <selenium.webdriver.remote.webelement.WebElement (session=\"b3055184b90a3b38efe49778c5e428b1\", element=\"c323de4a-7826-49d0-9d69-4aab3bd32ee1\")>,\n",
       " <selenium.webdriver.remote.webelement.WebElement (session=\"b3055184b90a3b38efe49778c5e428b1\", element=\"c127618f-cdbf-405c-aaf2-083c67f85d31\")>,\n",
       " <selenium.webdriver.remote.webelement.WebElement (session=\"b3055184b90a3b38efe49778c5e428b1\", element=\"a00c5313-cd0a-4dd4-bede-6e4d76a989af\")>,\n",
       " <selenium.webdriver.remote.webelement.WebElement (session=\"b3055184b90a3b38efe49778c5e428b1\", element=\"d83f22b9-d2ea-46d1-adec-680f8e137b07\")>,\n",
       " <selenium.webdriver.remote.webelement.WebElement (session=\"b3055184b90a3b38efe49778c5e428b1\", element=\"e56ffe9b-3495-43bd-ac50-e6de184320b3\")>,\n",
       " <selenium.webdriver.remote.webelement.WebElement (session=\"b3055184b90a3b38efe49778c5e428b1\", element=\"0e27308c-7f5e-4d88-9881-334a754440ef\")>,\n",
       " <selenium.webdriver.remote.webelement.WebElement (session=\"b3055184b90a3b38efe49778c5e428b1\", element=\"4ac02abe-cdd7-4579-a2cb-173f4464fb80\")>,\n",
       " <selenium.webdriver.remote.webelement.WebElement (session=\"b3055184b90a3b38efe49778c5e428b1\", element=\"5340dbf5-9c91-4665-ab9d-b2030d299cd8\")>,\n",
       " <selenium.webdriver.remote.webelement.WebElement (session=\"b3055184b90a3b38efe49778c5e428b1\", element=\"093bc7b1-9459-4e09-971d-a5547f838738\")>,\n",
       " <selenium.webdriver.remote.webelement.WebElement (session=\"b3055184b90a3b38efe49778c5e428b1\", element=\"92f1e0b8-7dc3-48db-8f6b-74632a144d7d\")>,\n",
       " <selenium.webdriver.remote.webelement.WebElement (session=\"b3055184b90a3b38efe49778c5e428b1\", element=\"4d6d1c9b-cdc3-475c-92c0-651928b61a56\")>,\n",
       " <selenium.webdriver.remote.webelement.WebElement (session=\"b3055184b90a3b38efe49778c5e428b1\", element=\"2f650f15-6a4a-483a-9f76-5fb083735685\")>,\n",
       " <selenium.webdriver.remote.webelement.WebElement (session=\"b3055184b90a3b38efe49778c5e428b1\", element=\"11f43ba9-cb3a-4ec1-be1a-5f05ac5d7a39\")>,\n",
       " <selenium.webdriver.remote.webelement.WebElement (session=\"b3055184b90a3b38efe49778c5e428b1\", element=\"ac141052-49a8-48e0-8576-af5b95d270ea\")>,\n",
       " <selenium.webdriver.remote.webelement.WebElement (session=\"b3055184b90a3b38efe49778c5e428b1\", element=\"be75584a-941e-4f3d-89ed-b77d9e4d2921\")>,\n",
       " <selenium.webdriver.remote.webelement.WebElement (session=\"b3055184b90a3b38efe49778c5e428b1\", element=\"af4952f7-fd91-488d-9699-ad4974fb7c2d\")>,\n",
       " <selenium.webdriver.remote.webelement.WebElement (session=\"b3055184b90a3b38efe49778c5e428b1\", element=\"8e3512e7-1e47-4488-9562-5d03dc60fce9\")>,\n",
       " <selenium.webdriver.remote.webelement.WebElement (session=\"b3055184b90a3b38efe49778c5e428b1\", element=\"b3581411-8fec-4552-bf8e-15f41302d57a\")>,\n",
       " <selenium.webdriver.remote.webelement.WebElement (session=\"b3055184b90a3b38efe49778c5e428b1\", element=\"26d0a573-f6bc-4a94-b555-b27670d8aa7e\")>,\n",
       " <selenium.webdriver.remote.webelement.WebElement (session=\"b3055184b90a3b38efe49778c5e428b1\", element=\"3a7fc66f-034e-4f3c-9906-820aa3b8ec5a\")>,\n",
       " <selenium.webdriver.remote.webelement.WebElement (session=\"b3055184b90a3b38efe49778c5e428b1\", element=\"0e2bc0cf-6416-4220-8033-baec1350a5ad\")>,\n",
       " <selenium.webdriver.remote.webelement.WebElement (session=\"b3055184b90a3b38efe49778c5e428b1\", element=\"30102b0f-a82e-40d6-9f18-bd15e1e41dd1\")>,\n",
       " <selenium.webdriver.remote.webelement.WebElement (session=\"b3055184b90a3b38efe49778c5e428b1\", element=\"4e06781f-b0de-4de8-97c9-ba7a5a8fb427\")>,\n",
       " <selenium.webdriver.remote.webelement.WebElement (session=\"b3055184b90a3b38efe49778c5e428b1\", element=\"bf4e6f16-402a-4de6-b384-d10c640fe952\")>,\n",
       " <selenium.webdriver.remote.webelement.WebElement (session=\"b3055184b90a3b38efe49778c5e428b1\", element=\"641becc6-c81f-40f9-8154-a30980b83bf9\")>,\n",
       " <selenium.webdriver.remote.webelement.WebElement (session=\"b3055184b90a3b38efe49778c5e428b1\", element=\"1675af79-52fd-4ac6-90f9-bdaeedc57f3c\")>,\n",
       " <selenium.webdriver.remote.webelement.WebElement (session=\"b3055184b90a3b38efe49778c5e428b1\", element=\"e29d777e-9a30-425f-acb0-ba020d4069ce\")>,\n",
       " <selenium.webdriver.remote.webelement.WebElement (session=\"b3055184b90a3b38efe49778c5e428b1\", element=\"61ff9fee-a101-49cd-aa22-b94d2f6485a9\")>,\n",
       " <selenium.webdriver.remote.webelement.WebElement (session=\"b3055184b90a3b38efe49778c5e428b1\", element=\"c7310742-0c9a-477c-bb86-a0c4bcd05b3e\")>,\n",
       " <selenium.webdriver.remote.webelement.WebElement (session=\"b3055184b90a3b38efe49778c5e428b1\", element=\"5878f09d-6060-4257-9642-9ce0966f9930\")>,\n",
       " <selenium.webdriver.remote.webelement.WebElement (session=\"b3055184b90a3b38efe49778c5e428b1\", element=\"c31ca422-4ee9-4018-852f-7efcbcffff97\")>,\n",
       " <selenium.webdriver.remote.webelement.WebElement (session=\"b3055184b90a3b38efe49778c5e428b1\", element=\"05769fe4-9a38-4bfe-92a3-d9f87a600bce\")>,\n",
       " <selenium.webdriver.remote.webelement.WebElement (session=\"b3055184b90a3b38efe49778c5e428b1\", element=\"cfa04769-38a5-4667-96cc-c3375414ec4a\")>]"
      ]
     },
     "execution_count": 8,
     "metadata": {},
     "output_type": "execute_result"
    }
   ],
   "source": [
    "header2=browser.find_elements(\"xpath\",\"//div[@class='td-wrap-in']\")\n",
    "header2"
   ]
  },
  {
   "cell_type": "code",
   "execution_count": 9,
   "id": "983215b6",
   "metadata": {},
   "outputs": [
    {
     "data": {
      "text/plain": [
       "['80.6', '87.3', '49.6', '92.9', '60.9', '90.5', '100', '74.9', '79.4']"
      ]
     },
     "execution_count": 9,
     "metadata": {},
     "output_type": "execute_result"
    }
   ],
   "source": [
    "#PARSING DATA\n",
    "value_head=[]\n",
    "for data in header2:\n",
    "    #get the text data\n",
    "    temp=data.text\n",
    "    value_head.append(temp)\n",
    "value_head=value_head[71:80]\n",
    "value_head"
   ]
  },
  {
   "cell_type": "code",
   "execution_count": 10,
   "id": "52c3343c",
   "metadata": {},
   "outputs": [
    {
     "data": {
      "text/plain": [
       "{'Overall Score': '80.6',\n",
       " 'Academic Reputation': '87.3',\n",
       " 'Employer Reputation': '49.6',\n",
       " 'Citations per Faculty': '92.9',\n",
       " 'Faculty Student Ratio': '60.9',\n",
       " 'International Students Ratio': '90.5',\n",
       " 'International Faculty Ratio': '100',\n",
       " 'International Research Network\\nUnweighted': '74.9',\n",
       " 'Employment Outcomes\\nUnweighted': '79.4'}"
      ]
     },
     "execution_count": 10,
     "metadata": {},
     "output_type": "execute_result"
    }
   ],
   "source": [
    "d={}\n",
    "for i in range(len(column_head)):\n",
    "    d[column_head[i]]=value_head[i]\n",
    "d"
   ]
  },
  {
   "cell_type": "code",
   "execution_count": 11,
   "id": "86f87c40",
   "metadata": {},
   "outputs": [
    {
     "data": {
      "text/plain": [
       "'{\"Overall Score\": \"80.6\", \"Academic Reputation\": \"87.3\", \"Employer Reputation\": \"49.6\", \"Citations per Faculty\": \"92.9\", \"Faculty Student Ratio\": \"60.9\", \"International Students Ratio\": \"90.5\", \"International Faculty Ratio\": \"100\", \"International Research Network\\\\nUnweighted\": \"74.9\", \"Employment Outcomes\\\\nUnweighted\": \"79.4\"}'"
      ]
     },
     "execution_count": 11,
     "metadata": {},
     "output_type": "execute_result"
    }
   ],
   "source": [
    "s1=json.dumps(d)\n",
    "s1"
   ]
  },
  {
   "cell_type": "code",
   "execution_count": 12,
   "id": "4e8f201e",
   "metadata": {},
   "outputs": [],
   "source": [
    "with open('The Chinese University of Hong Kong (CUHK).json','w') as f:\n",
    "    json.dump(d,f)\n"
   ]
  },
  {
   "cell_type": "code",
   "execution_count": null,
   "id": "742f74c8",
   "metadata": {},
   "outputs": [],
   "source": []
  },
  {
   "cell_type": "code",
   "execution_count": null,
   "id": "2d37dfc8",
   "metadata": {},
   "outputs": [],
   "source": []
  }
 ],
 "metadata": {
  "kernelspec": {
   "display_name": "Python 3 (ipykernel)",
   "language": "python",
   "name": "python3"
  },
  "language_info": {
   "codemirror_mode": {
    "name": "ipython",
    "version": 3
   },
   "file_extension": ".py",
   "mimetype": "text/x-python",
   "name": "python",
   "nbconvert_exporter": "python",
   "pygments_lexer": "ipython3",
   "version": "3.9.12"
  }
 },
 "nbformat": 4,
 "nbformat_minor": 5
}
