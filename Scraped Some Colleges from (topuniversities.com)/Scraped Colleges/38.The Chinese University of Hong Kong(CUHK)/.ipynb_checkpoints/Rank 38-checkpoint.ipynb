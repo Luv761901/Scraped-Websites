{
 "cells": [
  {
   "cell_type": "code",
   "execution_count": 1,
   "id": "d1ddecca",
   "metadata": {},
   "outputs": [],
   "source": [
    "from selenium import webdriver\n",
    "from selenium.webdriver.chrome.service import Service\n",
    "import pandas as pd\n",
    "import json"
   ]
  },
  {
   "cell_type": "code",
   "execution_count": 2,
   "id": "8cfff932",
   "metadata": {},
   "outputs": [],
   "source": [
    "path = Service('C:\\chromedriver.exe')"
   ]
  },
  {
   "cell_type": "code",
   "execution_count": 3,
   "id": "f0196f97",
   "metadata": {},
   "outputs": [],
   "source": [
    "# set path for the driver\n",
    "browser = webdriver.Chrome(service = path)"
   ]
  },
  {
   "cell_type": "code",
   "execution_count": 4,
   "id": "5d05f7d3",
   "metadata": {},
   "outputs": [],
   "source": [
    "url = \"https://www.topuniversities.com/university-rankings/world-university-rankings/2023\""
   ]
  },
  {
   "cell_type": "code",
   "execution_count": 5,
   "id": "9dc0a3b0",
   "metadata": {},
   "outputs": [],
   "source": [
    "# open the page url ion chrome\n",
    "browser.get(url)\n"
   ]
  },
  {
   "cell_type": "code",
   "execution_count": 6,
   "id": "44a320f2",
   "metadata": {},
   "outputs": [
    {
     "data": {
      "text/plain": [
       "[<selenium.webdriver.remote.webelement.WebElement (session=\"0c087742cf059e010445e2efb3766999\", element=\"58dcb0c3-528f-4a90-bf7f-afe0401a42d6\")>,\n",
       " <selenium.webdriver.remote.webelement.WebElement (session=\"0c087742cf059e010445e2efb3766999\", element=\"da513af4-276c-434a-9ce3-0219234bab35\")>,\n",
       " <selenium.webdriver.remote.webelement.WebElement (session=\"0c087742cf059e010445e2efb3766999\", element=\"a263b2aa-e3fa-4a1a-ae1f-4f5132d95aa8\")>,\n",
       " <selenium.webdriver.remote.webelement.WebElement (session=\"0c087742cf059e010445e2efb3766999\", element=\"10fbb39a-5160-4927-bfe7-fa7dd688c19c\")>,\n",
       " <selenium.webdriver.remote.webelement.WebElement (session=\"0c087742cf059e010445e2efb3766999\", element=\"a0a9eb0a-c474-4cc7-a5dc-916675fb55cf\")>,\n",
       " <selenium.webdriver.remote.webelement.WebElement (session=\"0c087742cf059e010445e2efb3766999\", element=\"5f14a1a4-38cf-41f9-a732-314a49e1b73f\")>,\n",
       " <selenium.webdriver.remote.webelement.WebElement (session=\"0c087742cf059e010445e2efb3766999\", element=\"fdb2f2ce-9cb2-42ef-851b-50fbcdc30595\")>,\n",
       " <selenium.webdriver.remote.webelement.WebElement (session=\"0c087742cf059e010445e2efb3766999\", element=\"769cc766-1695-440e-91d8-0692dafb3771\")>,\n",
       " <selenium.webdriver.remote.webelement.WebElement (session=\"0c087742cf059e010445e2efb3766999\", element=\"7ecaaf28-c609-410d-8952-1efc1ee794a6\")>,\n",
       " <selenium.webdriver.remote.webelement.WebElement (session=\"0c087742cf059e010445e2efb3766999\", element=\"00b7d29e-8b3f-4532-8fbc-bfcaab53d849\")>,\n",
       " <selenium.webdriver.remote.webelement.WebElement (session=\"0c087742cf059e010445e2efb3766999\", element=\"cddf6047-c0e0-4171-a31d-2ac3e3619396\")>,\n",
       " <selenium.webdriver.remote.webelement.WebElement (session=\"0c087742cf059e010445e2efb3766999\", element=\"9b8b34fc-44be-40cc-9c16-071c76c4b027\")>,\n",
       " <selenium.webdriver.remote.webelement.WebElement (session=\"0c087742cf059e010445e2efb3766999\", element=\"77fd25e4-c346-4c8a-aff6-7e937b79c11d\")>,\n",
       " <selenium.webdriver.remote.webelement.WebElement (session=\"0c087742cf059e010445e2efb3766999\", element=\"fa3bcbfd-720e-4e11-b5d6-b95f45994a88\")>,\n",
       " <selenium.webdriver.remote.webelement.WebElement (session=\"0c087742cf059e010445e2efb3766999\", element=\"8bf13c3a-7dcb-41d7-a8c8-9334e573bc31\")>,\n",
       " <selenium.webdriver.remote.webelement.WebElement (session=\"0c087742cf059e010445e2efb3766999\", element=\"ab440a94-31c6-416a-b832-e376a5ab7de0\")>,\n",
       " <selenium.webdriver.remote.webelement.WebElement (session=\"0c087742cf059e010445e2efb3766999\", element=\"9945c041-d2f5-4250-b436-c1ced098eec8\")>,\n",
       " <selenium.webdriver.remote.webelement.WebElement (session=\"0c087742cf059e010445e2efb3766999\", element=\"71360fe1-e776-4f39-96ad-5baa38a499dd\")>,\n",
       " <selenium.webdriver.remote.webelement.WebElement (session=\"0c087742cf059e010445e2efb3766999\", element=\"e2ec56c7-21d6-4f0a-a621-d81738ec0bd9\")>,\n",
       " <selenium.webdriver.remote.webelement.WebElement (session=\"0c087742cf059e010445e2efb3766999\", element=\"58cf646b-2b12-4cf5-a9ad-8bd14856bc6f\")>]"
      ]
     },
     "execution_count": 6,
     "metadata": {},
     "output_type": "execute_result"
    }
   ],
   "source": [
    "l1=browser.find_elements(\"xpath\",\"//div[@class='location ']\")\n",
    "l1"
   ]
  },
  {
   "cell_type": "code",
   "execution_count": 7,
   "id": "d35353d4",
   "metadata": {},
   "outputs": [
    {
     "data": {
      "text/plain": [
       "['Montreal, Canada',\n",
       " 'Evanston, United States',\n",
       " 'Parkville, Australia',\n",
       " 'Shanghai, China (Mainland)',\n",
       " 'Toronto, Canada',\n",
       " 'Kyoto, Japan',\n",
       " 'London, United Kingdom',\n",
       " 'Hong Kong SAR, Hong Kong SAR',\n",
       " 'New York City, United States',\n",
       " 'Hong Kong SAR, Hong Kong SAR']"
      ]
     },
     "execution_count": 7,
     "metadata": {},
     "output_type": "execute_result"
    }
   ],
   "source": [
    "\n",
    "loc=[]\n",
    "for data in l1:\n",
    "    #get the text data\n",
    "    temp=data.text\n",
    "    loc.append(temp)\n",
    "loc=loc[10:]\n",
    "loc"
   ]
  },
  {
   "cell_type": "code",
   "execution_count": 8,
   "id": "9723d6bd",
   "metadata": {},
   "outputs": [
    {
     "data": {
      "text/plain": [
       "[<selenium.webdriver.remote.webelement.WebElement (session=\"0c087742cf059e010445e2efb3766999\", element=\"f3f82098-dab3-47a7-b293-75957d1fafee\")>,\n",
       " <selenium.webdriver.remote.webelement.WebElement (session=\"0c087742cf059e010445e2efb3766999\", element=\"b1c87f74-8c3a-4cac-b549-1ca7dce9e017\")>,\n",
       " <selenium.webdriver.remote.webelement.WebElement (session=\"0c087742cf059e010445e2efb3766999\", element=\"7fc0868a-58bd-48ba-866e-8c9d8f01f363\")>,\n",
       " <selenium.webdriver.remote.webelement.WebElement (session=\"0c087742cf059e010445e2efb3766999\", element=\"1cb1555c-7451-4ebf-80fa-6eb61432e0c9\")>,\n",
       " <selenium.webdriver.remote.webelement.WebElement (session=\"0c087742cf059e010445e2efb3766999\", element=\"91653c8e-63d8-4a61-be3f-a184bb213d34\")>,\n",
       " <selenium.webdriver.remote.webelement.WebElement (session=\"0c087742cf059e010445e2efb3766999\", element=\"ce4b6980-2659-4f77-856a-7aa511076397\")>,\n",
       " <selenium.webdriver.remote.webelement.WebElement (session=\"0c087742cf059e010445e2efb3766999\", element=\"4602da65-8e7b-4eaa-bf5a-ae73aad49858\")>,\n",
       " <selenium.webdriver.remote.webelement.WebElement (session=\"0c087742cf059e010445e2efb3766999\", element=\"59848e8b-9f30-4d39-8906-75a6649b656e\")>,\n",
       " <selenium.webdriver.remote.webelement.WebElement (session=\"0c087742cf059e010445e2efb3766999\", element=\"96908cdd-fd92-45cf-96b2-d9eaa0120726\")>,\n",
       " <selenium.webdriver.remote.webelement.WebElement (session=\"0c087742cf059e010445e2efb3766999\", element=\"81164c68-7b5d-4f1b-8bf7-6d8c926c80d7\")>]"
      ]
     },
     "execution_count": 8,
     "metadata": {},
     "output_type": "execute_result"
    }
   ],
   "source": [
    "l2=browser.find_elements(\"xpath\",\"//div[@class='_univ-rank ']\")\n",
    "l2\n"
   ]
  },
  {
   "cell_type": "code",
   "execution_count": 9,
   "id": "ffcc0303",
   "metadata": {},
   "outputs": [
    {
     "data": {
      "text/plain": [
       "['31', '32', '33', '=34', '=34', '36', '37', '38', '39', '40']"
      ]
     },
     "execution_count": 9,
     "metadata": {},
     "output_type": "execute_result"
    }
   ],
   "source": [
    "\n",
    "RANK=[]\n",
    "for data in l2:\n",
    "    #get the text data\n",
    "    temp=data.text\n",
    "    RANK.append(temp)\n",
    "RANK"
   ]
  },
  {
   "cell_type": "code",
   "execution_count": 10,
   "id": "6a3cffd8",
   "metadata": {},
   "outputs": [
    {
     "data": {
      "text/plain": [
       "[<selenium.webdriver.remote.webelement.WebElement (session=\"0c087742cf059e010445e2efb3766999\", element=\"a339d317-f116-446f-aac4-959c084cf363\")>,\n",
       " <selenium.webdriver.remote.webelement.WebElement (session=\"0c087742cf059e010445e2efb3766999\", element=\"7c35bccf-c7bd-4a53-b26c-11574785a8dc\")>,\n",
       " <selenium.webdriver.remote.webelement.WebElement (session=\"0c087742cf059e010445e2efb3766999\", element=\"22c0f0b0-104a-42d5-86ef-6199087b0c2b\")>,\n",
       " <selenium.webdriver.remote.webelement.WebElement (session=\"0c087742cf059e010445e2efb3766999\", element=\"f6733de7-8d9f-477b-8ee6-8df90a1f4b30\")>,\n",
       " <selenium.webdriver.remote.webelement.WebElement (session=\"0c087742cf059e010445e2efb3766999\", element=\"d1cdc2e4-35b3-4736-9a73-670a790044e7\")>,\n",
       " <selenium.webdriver.remote.webelement.WebElement (session=\"0c087742cf059e010445e2efb3766999\", element=\"aeec8ebe-565d-4e13-8120-5db047dc9a93\")>,\n",
       " <selenium.webdriver.remote.webelement.WebElement (session=\"0c087742cf059e010445e2efb3766999\", element=\"3e7fe2c9-091a-4a10-a83e-53b6511d945c\")>,\n",
       " <selenium.webdriver.remote.webelement.WebElement (session=\"0c087742cf059e010445e2efb3766999\", element=\"291a0175-888d-445b-bf77-faebeff63e00\")>,\n",
       " <selenium.webdriver.remote.webelement.WebElement (session=\"0c087742cf059e010445e2efb3766999\", element=\"fbc2fe76-56b9-4d8c-b05c-fab761ab1820\")>]"
      ]
     },
     "execution_count": 10,
     "metadata": {},
     "output_type": "execute_result"
    }
   ],
   "source": [
    "# GET EACH COLLEGE SPECIFICATION HEADERS\n",
    "header=browser.find_elements(\"xpath\",\"//div[@class='_click-function_ind']\")\n",
    "header"
   ]
  },
  {
   "cell_type": "code",
   "execution_count": 11,
   "id": "09dddda1",
   "metadata": {},
   "outputs": [
    {
     "data": {
      "text/plain": [
       "['Overall Score',\n",
       " 'Academic Reputation',\n",
       " 'Employer Reputation',\n",
       " 'Citations per Faculty',\n",
       " 'Faculty Student Ratio',\n",
       " 'International Students Ratio',\n",
       " 'International Faculty Ratio',\n",
       " 'International Research Network\\nUnweighted',\n",
       " 'Employment Outcomes\\nUnweighted']"
      ]
     },
     "execution_count": 11,
     "metadata": {},
     "output_type": "execute_result"
    }
   ],
   "source": [
    "#PARSING DATA\n",
    "column_head=[]\n",
    "for data in header:\n",
    "    #get the text data\n",
    "    temp=data.text\n",
    "    column_head.append(temp)\n",
    "column_head\n"
   ]
  },
  {
   "cell_type": "code",
   "execution_count": 12,
   "id": "fe20d7dc",
   "metadata": {},
   "outputs": [
    {
     "data": {
      "text/plain": [
       "[<selenium.webdriver.remote.webelement.WebElement (session=\"0c087742cf059e010445e2efb3766999\", element=\"4a3f5524-7f96-46c3-8765-bfe13528fdfc\")>,\n",
       " <selenium.webdriver.remote.webelement.WebElement (session=\"0c087742cf059e010445e2efb3766999\", element=\"fc17acee-b7e2-4159-a859-5fff8bd7848e\")>,\n",
       " <selenium.webdriver.remote.webelement.WebElement (session=\"0c087742cf059e010445e2efb3766999\", element=\"5ae4ce18-675a-46bd-a00e-96cca56ecea9\")>,\n",
       " <selenium.webdriver.remote.webelement.WebElement (session=\"0c087742cf059e010445e2efb3766999\", element=\"a8cf83d4-c60d-47fe-bf21-b1a411f6b127\")>,\n",
       " <selenium.webdriver.remote.webelement.WebElement (session=\"0c087742cf059e010445e2efb3766999\", element=\"8aea7f22-b542-4ebb-91cf-2bc12862514b\")>,\n",
       " <selenium.webdriver.remote.webelement.WebElement (session=\"0c087742cf059e010445e2efb3766999\", element=\"712646e0-2f66-42df-91a1-de0fbf23a70b\")>,\n",
       " <selenium.webdriver.remote.webelement.WebElement (session=\"0c087742cf059e010445e2efb3766999\", element=\"a4024777-de22-4926-97e8-98bfbb77c655\")>,\n",
       " <selenium.webdriver.remote.webelement.WebElement (session=\"0c087742cf059e010445e2efb3766999\", element=\"7bcf9a92-9692-481d-8401-f9679211fcb9\")>,\n",
       " <selenium.webdriver.remote.webelement.WebElement (session=\"0c087742cf059e010445e2efb3766999\", element=\"8aa5e2e2-f4d0-47ce-bcea-d8eea6be1e3e\")>,\n",
       " <selenium.webdriver.remote.webelement.WebElement (session=\"0c087742cf059e010445e2efb3766999\", element=\"3b7b13ff-adec-43fd-8a43-de74fcf2c1d7\")>,\n",
       " <selenium.webdriver.remote.webelement.WebElement (session=\"0c087742cf059e010445e2efb3766999\", element=\"2e225701-d333-48d5-a167-139fd70627bc\")>,\n",
       " <selenium.webdriver.remote.webelement.WebElement (session=\"0c087742cf059e010445e2efb3766999\", element=\"10261882-ead4-46e6-aac8-a46daa7dda80\")>,\n",
       " <selenium.webdriver.remote.webelement.WebElement (session=\"0c087742cf059e010445e2efb3766999\", element=\"7bb8e1d3-71df-425d-9249-d3258845d4a7\")>,\n",
       " <selenium.webdriver.remote.webelement.WebElement (session=\"0c087742cf059e010445e2efb3766999\", element=\"32ac9b29-e09a-4b1b-9f87-391822004523\")>,\n",
       " <selenium.webdriver.remote.webelement.WebElement (session=\"0c087742cf059e010445e2efb3766999\", element=\"43a82006-9408-44c6-aca4-dc865865b66e\")>,\n",
       " <selenium.webdriver.remote.webelement.WebElement (session=\"0c087742cf059e010445e2efb3766999\", element=\"ac8d7487-14e4-4bae-ae9d-12b53e0df155\")>,\n",
       " <selenium.webdriver.remote.webelement.WebElement (session=\"0c087742cf059e010445e2efb3766999\", element=\"7376b38e-4452-4481-95da-38096d9f434d\")>,\n",
       " <selenium.webdriver.remote.webelement.WebElement (session=\"0c087742cf059e010445e2efb3766999\", element=\"3a4d97bd-1144-425a-b0b1-d7241337a655\")>,\n",
       " <selenium.webdriver.remote.webelement.WebElement (session=\"0c087742cf059e010445e2efb3766999\", element=\"1c687cf4-a698-4a31-879e-a21e8a303da7\")>,\n",
       " <selenium.webdriver.remote.webelement.WebElement (session=\"0c087742cf059e010445e2efb3766999\", element=\"9a00b6d4-da95-4b84-92e3-5f4be3a437c9\")>,\n",
       " <selenium.webdriver.remote.webelement.WebElement (session=\"0c087742cf059e010445e2efb3766999\", element=\"07a479b3-5e2a-457d-93ec-72007e29e622\")>,\n",
       " <selenium.webdriver.remote.webelement.WebElement (session=\"0c087742cf059e010445e2efb3766999\", element=\"92d608ac-b832-4173-8db2-f33a78561188\")>,\n",
       " <selenium.webdriver.remote.webelement.WebElement (session=\"0c087742cf059e010445e2efb3766999\", element=\"7a565434-7f1e-413f-8efa-6f59ca4a2d35\")>,\n",
       " <selenium.webdriver.remote.webelement.WebElement (session=\"0c087742cf059e010445e2efb3766999\", element=\"554f939b-965e-4422-9ecd-596b1752096c\")>,\n",
       " <selenium.webdriver.remote.webelement.WebElement (session=\"0c087742cf059e010445e2efb3766999\", element=\"c7e04a7e-d765-4bd2-9e42-9fc0f3f6a5da\")>,\n",
       " <selenium.webdriver.remote.webelement.WebElement (session=\"0c087742cf059e010445e2efb3766999\", element=\"ca0f8c47-d147-48ca-b33f-f953a9094dde\")>,\n",
       " <selenium.webdriver.remote.webelement.WebElement (session=\"0c087742cf059e010445e2efb3766999\", element=\"38a929b5-97fd-4756-9ca6-5be7b6e7baf7\")>,\n",
       " <selenium.webdriver.remote.webelement.WebElement (session=\"0c087742cf059e010445e2efb3766999\", element=\"65047d5a-337c-447f-a1d2-3a18892787c4\")>,\n",
       " <selenium.webdriver.remote.webelement.WebElement (session=\"0c087742cf059e010445e2efb3766999\", element=\"aca3fe07-dd3b-4e3d-9683-42747e9a64ff\")>,\n",
       " <selenium.webdriver.remote.webelement.WebElement (session=\"0c087742cf059e010445e2efb3766999\", element=\"9dd01d5d-2e6e-418b-8787-ff44815f1336\")>,\n",
       " <selenium.webdriver.remote.webelement.WebElement (session=\"0c087742cf059e010445e2efb3766999\", element=\"4443f75d-c87d-440c-9dfe-f33cbc5544a2\")>,\n",
       " <selenium.webdriver.remote.webelement.WebElement (session=\"0c087742cf059e010445e2efb3766999\", element=\"e35734fc-50fb-47a9-a509-38b2a1a5fa68\")>,\n",
       " <selenium.webdriver.remote.webelement.WebElement (session=\"0c087742cf059e010445e2efb3766999\", element=\"6d7394f6-72a3-43e4-9660-16d65cf39d96\")>,\n",
       " <selenium.webdriver.remote.webelement.WebElement (session=\"0c087742cf059e010445e2efb3766999\", element=\"2950e732-0140-4951-b371-565eebee4330\")>,\n",
       " <selenium.webdriver.remote.webelement.WebElement (session=\"0c087742cf059e010445e2efb3766999\", element=\"9f839fc8-5d87-4692-b82b-11d782099188\")>,\n",
       " <selenium.webdriver.remote.webelement.WebElement (session=\"0c087742cf059e010445e2efb3766999\", element=\"7c2a8a59-d22a-4c15-b333-92e08ce718b5\")>,\n",
       " <selenium.webdriver.remote.webelement.WebElement (session=\"0c087742cf059e010445e2efb3766999\", element=\"68d45119-88b7-4fbd-b308-cfdc854e899c\")>,\n",
       " <selenium.webdriver.remote.webelement.WebElement (session=\"0c087742cf059e010445e2efb3766999\", element=\"e91dedf5-3bc0-4b74-b674-3a278f1773fe\")>,\n",
       " <selenium.webdriver.remote.webelement.WebElement (session=\"0c087742cf059e010445e2efb3766999\", element=\"bab558b7-4e36-4a96-a866-2747245d75b9\")>,\n",
       " <selenium.webdriver.remote.webelement.WebElement (session=\"0c087742cf059e010445e2efb3766999\", element=\"8d59661c-e6ef-4f62-b12c-191368b0e01f\")>,\n",
       " <selenium.webdriver.remote.webelement.WebElement (session=\"0c087742cf059e010445e2efb3766999\", element=\"942d8396-ca26-4c1d-b273-bf8adb39b810\")>,\n",
       " <selenium.webdriver.remote.webelement.WebElement (session=\"0c087742cf059e010445e2efb3766999\", element=\"99dcbf7b-8972-4a56-9375-05835219ceaf\")>,\n",
       " <selenium.webdriver.remote.webelement.WebElement (session=\"0c087742cf059e010445e2efb3766999\", element=\"79e4e889-0777-4406-9ba5-f37b6aab8960\")>,\n",
       " <selenium.webdriver.remote.webelement.WebElement (session=\"0c087742cf059e010445e2efb3766999\", element=\"2acc1c3d-178a-4362-9d00-94ee53d72101\")>,\n",
       " <selenium.webdriver.remote.webelement.WebElement (session=\"0c087742cf059e010445e2efb3766999\", element=\"9d001ae8-f473-40f6-a705-1e7bf1c9075c\")>,\n",
       " <selenium.webdriver.remote.webelement.WebElement (session=\"0c087742cf059e010445e2efb3766999\", element=\"1a34eab7-41bd-4142-97bc-6655a684ae7f\")>,\n",
       " <selenium.webdriver.remote.webelement.WebElement (session=\"0c087742cf059e010445e2efb3766999\", element=\"bbe11fce-8c78-4626-9499-5a81f4f3ca2c\")>,\n",
       " <selenium.webdriver.remote.webelement.WebElement (session=\"0c087742cf059e010445e2efb3766999\", element=\"d9b1d144-e52e-4600-9143-c3e04e6ab1fe\")>,\n",
       " <selenium.webdriver.remote.webelement.WebElement (session=\"0c087742cf059e010445e2efb3766999\", element=\"dccf853f-5f0a-40ee-aa49-80e7bfd851bb\")>,\n",
       " <selenium.webdriver.remote.webelement.WebElement (session=\"0c087742cf059e010445e2efb3766999\", element=\"67b37cb1-7523-4c9e-a4bf-8bfce2e48499\")>,\n",
       " <selenium.webdriver.remote.webelement.WebElement (session=\"0c087742cf059e010445e2efb3766999\", element=\"409fc353-3a81-4c83-8147-00f75b925df3\")>,\n",
       " <selenium.webdriver.remote.webelement.WebElement (session=\"0c087742cf059e010445e2efb3766999\", element=\"7a6abb3e-5fce-4473-9c2a-3d3d7626cfdc\")>,\n",
       " <selenium.webdriver.remote.webelement.WebElement (session=\"0c087742cf059e010445e2efb3766999\", element=\"5d8125cd-74ec-46b3-858b-7229ae32962e\")>,\n",
       " <selenium.webdriver.remote.webelement.WebElement (session=\"0c087742cf059e010445e2efb3766999\", element=\"1943c33c-4b82-415a-a4b2-1b6e05ab2364\")>,\n",
       " <selenium.webdriver.remote.webelement.WebElement (session=\"0c087742cf059e010445e2efb3766999\", element=\"53ba8f16-e4b8-4a1e-a135-fc9d281c5ea3\")>,\n",
       " <selenium.webdriver.remote.webelement.WebElement (session=\"0c087742cf059e010445e2efb3766999\", element=\"cdcc7c49-c84a-40fd-b2ba-f9617c2aa3f8\")>,\n",
       " <selenium.webdriver.remote.webelement.WebElement (session=\"0c087742cf059e010445e2efb3766999\", element=\"284cabe9-f5c1-4ac9-a6ee-762c2e0d9bff\")>,\n",
       " <selenium.webdriver.remote.webelement.WebElement (session=\"0c087742cf059e010445e2efb3766999\", element=\"6024255b-cfc1-425c-a434-5d88afb6d7de\")>,\n",
       " <selenium.webdriver.remote.webelement.WebElement (session=\"0c087742cf059e010445e2efb3766999\", element=\"e8d73a28-3ea2-4034-b515-46b562ffbdd0\")>,\n",
       " <selenium.webdriver.remote.webelement.WebElement (session=\"0c087742cf059e010445e2efb3766999\", element=\"f4d3d257-25f4-4bb0-a951-1fe35c3bcf46\")>,\n",
       " <selenium.webdriver.remote.webelement.WebElement (session=\"0c087742cf059e010445e2efb3766999\", element=\"d013cea2-879a-4f0b-b484-fd53f1bbd929\")>,\n",
       " <selenium.webdriver.remote.webelement.WebElement (session=\"0c087742cf059e010445e2efb3766999\", element=\"ed8a9306-c97b-4d23-b33d-3770616b6671\")>,\n",
       " <selenium.webdriver.remote.webelement.WebElement (session=\"0c087742cf059e010445e2efb3766999\", element=\"54afcf4d-de8b-41a0-90a8-94d7c66394e6\")>,\n",
       " <selenium.webdriver.remote.webelement.WebElement (session=\"0c087742cf059e010445e2efb3766999\", element=\"e5da29a3-7dcc-4307-816d-72705e472ce6\")>,\n",
       " <selenium.webdriver.remote.webelement.WebElement (session=\"0c087742cf059e010445e2efb3766999\", element=\"cd99d255-fae6-446a-b4db-62d74dc72341\")>,\n",
       " <selenium.webdriver.remote.webelement.WebElement (session=\"0c087742cf059e010445e2efb3766999\", element=\"1d4fd32a-645c-451f-94d7-679bd5a519a7\")>,\n",
       " <selenium.webdriver.remote.webelement.WebElement (session=\"0c087742cf059e010445e2efb3766999\", element=\"7e9147d8-ae7c-4a2f-b5d4-24be79f4443e\")>,\n",
       " <selenium.webdriver.remote.webelement.WebElement (session=\"0c087742cf059e010445e2efb3766999\", element=\"d99c800f-d366-4905-a412-14b2fef4ee85\")>,\n",
       " <selenium.webdriver.remote.webelement.WebElement (session=\"0c087742cf059e010445e2efb3766999\", element=\"6bcc3f55-6d34-4100-a9b3-439fa25b1ef8\")>,\n",
       " <selenium.webdriver.remote.webelement.WebElement (session=\"0c087742cf059e010445e2efb3766999\", element=\"e392c781-058a-4cd3-9782-336f9fa19a31\")>,\n",
       " <selenium.webdriver.remote.webelement.WebElement (session=\"0c087742cf059e010445e2efb3766999\", element=\"1267ba0b-4583-4a81-9108-d216d4daa82f\")>,\n",
       " <selenium.webdriver.remote.webelement.WebElement (session=\"0c087742cf059e010445e2efb3766999\", element=\"1ea70cc4-d00c-42d5-b7cb-9fef10ed0336\")>,\n",
       " <selenium.webdriver.remote.webelement.WebElement (session=\"0c087742cf059e010445e2efb3766999\", element=\"92ca4532-3846-4979-936e-1aae335cb3c7\")>,\n",
       " <selenium.webdriver.remote.webelement.WebElement (session=\"0c087742cf059e010445e2efb3766999\", element=\"29bffa67-9c8e-4816-be40-4e8e0be9ed32\")>,\n",
       " <selenium.webdriver.remote.webelement.WebElement (session=\"0c087742cf059e010445e2efb3766999\", element=\"808cca93-afd7-415d-a4b2-8adf2e5e8854\")>,\n",
       " <selenium.webdriver.remote.webelement.WebElement (session=\"0c087742cf059e010445e2efb3766999\", element=\"226d6bec-0c57-4191-8c37-e0e11bef1279\")>,\n",
       " <selenium.webdriver.remote.webelement.WebElement (session=\"0c087742cf059e010445e2efb3766999\", element=\"028a99bc-c827-416c-b94a-a71feccd2919\")>,\n",
       " <selenium.webdriver.remote.webelement.WebElement (session=\"0c087742cf059e010445e2efb3766999\", element=\"a3e47199-66f1-4667-a8b9-15eaaa478cba\")>,\n",
       " <selenium.webdriver.remote.webelement.WebElement (session=\"0c087742cf059e010445e2efb3766999\", element=\"64df0f86-c4f4-4148-8432-a5ebf5ffff20\")>,\n",
       " <selenium.webdriver.remote.webelement.WebElement (session=\"0c087742cf059e010445e2efb3766999\", element=\"3c95333f-bb96-4c63-862b-d0235c461842\")>,\n",
       " <selenium.webdriver.remote.webelement.WebElement (session=\"0c087742cf059e010445e2efb3766999\", element=\"34037fd3-6b14-4672-acb7-b0a49304af75\")>,\n",
       " <selenium.webdriver.remote.webelement.WebElement (session=\"0c087742cf059e010445e2efb3766999\", element=\"b6a6d453-43fd-4ad3-a5be-c9456250113c\")>,\n",
       " <selenium.webdriver.remote.webelement.WebElement (session=\"0c087742cf059e010445e2efb3766999\", element=\"1ff2a648-f85d-42ce-895b-f201f3cafddb\")>,\n",
       " <selenium.webdriver.remote.webelement.WebElement (session=\"0c087742cf059e010445e2efb3766999\", element=\"9beee447-e760-4403-8838-79fc0864c075\")>,\n",
       " <selenium.webdriver.remote.webelement.WebElement (session=\"0c087742cf059e010445e2efb3766999\", element=\"6cb7cc98-d466-4ea8-a2df-b3f632598e4d\")>,\n",
       " <selenium.webdriver.remote.webelement.WebElement (session=\"0c087742cf059e010445e2efb3766999\", element=\"064d1520-1b2f-42a6-9628-885a458a2ec8\")>,\n",
       " <selenium.webdriver.remote.webelement.WebElement (session=\"0c087742cf059e010445e2efb3766999\", element=\"5b78bc3f-4b5b-41a7-a2fc-70612f924517\")>,\n",
       " <selenium.webdriver.remote.webelement.WebElement (session=\"0c087742cf059e010445e2efb3766999\", element=\"f41dc907-7b5b-41af-98c4-53c979172f72\")>,\n",
       " <selenium.webdriver.remote.webelement.WebElement (session=\"0c087742cf059e010445e2efb3766999\", element=\"6405b388-09c2-4a98-8a48-a55525f7dae7\")>,\n",
       " <selenium.webdriver.remote.webelement.WebElement (session=\"0c087742cf059e010445e2efb3766999\", element=\"531ca274-daeb-49ca-8142-3cb0b3a394f0\")>,\n",
       " <selenium.webdriver.remote.webelement.WebElement (session=\"0c087742cf059e010445e2efb3766999\", element=\"c21d7eae-dc45-478a-ab70-82d30389eee4\")>,\n",
       " <selenium.webdriver.remote.webelement.WebElement (session=\"0c087742cf059e010445e2efb3766999\", element=\"581552a4-a880-4db2-b786-791c4ad6ef8b\")>,\n",
       " <selenium.webdriver.remote.webelement.WebElement (session=\"0c087742cf059e010445e2efb3766999\", element=\"4c00b269-94d3-47b6-8286-e44c8021d548\")>,\n",
       " <selenium.webdriver.remote.webelement.WebElement (session=\"0c087742cf059e010445e2efb3766999\", element=\"406e3960-856a-4b4d-b1d2-955c1e5b07f1\")>,\n",
       " <selenium.webdriver.remote.webelement.WebElement (session=\"0c087742cf059e010445e2efb3766999\", element=\"bd6298b9-53e7-4ecc-b9b6-74fe95ff5169\")>,\n",
       " <selenium.webdriver.remote.webelement.WebElement (session=\"0c087742cf059e010445e2efb3766999\", element=\"be8671d4-c530-4c92-8071-9e27c551fef7\")>,\n",
       " <selenium.webdriver.remote.webelement.WebElement (session=\"0c087742cf059e010445e2efb3766999\", element=\"3de52b35-fdf1-4af7-a448-43b06475d07d\")>,\n",
       " <selenium.webdriver.remote.webelement.WebElement (session=\"0c087742cf059e010445e2efb3766999\", element=\"4b431359-ec82-4526-91e4-5297a0c2f255\")>,\n",
       " <selenium.webdriver.remote.webelement.WebElement (session=\"0c087742cf059e010445e2efb3766999\", element=\"78f6b1de-4426-4f43-83fe-2a81333882d9\")>,\n",
       " <selenium.webdriver.remote.webelement.WebElement (session=\"0c087742cf059e010445e2efb3766999\", element=\"728fc26f-8aef-4897-9443-3f3de86cd7bd\")>]"
      ]
     },
     "execution_count": 12,
     "metadata": {},
     "output_type": "execute_result"
    }
   ],
   "source": [
    "header2=browser.find_elements(\"xpath\",\"//div[@class='td-wrap-in']\")\n",
    "header2"
   ]
  },
  {
   "cell_type": "code",
   "execution_count": 13,
   "id": "983215b6",
   "metadata": {},
   "outputs": [
    {
     "data": {
      "text/plain": [
       "['80.6', '87.3', '49.6', '92.9', '60.9', '90.5', '100', '74.9', '79.4']"
      ]
     },
     "execution_count": 13,
     "metadata": {},
     "output_type": "execute_result"
    }
   ],
   "source": [
    "#PARSING DATA\n",
    "value_head=[]\n",
    "for data in header2:\n",
    "    #get the text data\n",
    "    temp=data.text\n",
    "    value_head.append(temp)\n",
    "value=value_head[71:80]\n",
    "value"
   ]
  },
  {
   "cell_type": "code",
   "execution_count": 14,
   "id": "52c3343c",
   "metadata": {},
   "outputs": [
    {
     "data": {
      "text/plain": [
       "{'Name': 'The Chinese University of Hong Kong (CUHK)',\n",
       " 'Location': 'Hong Kong SAR, Hong Kong SAR',\n",
       " 'Rank': '38',\n",
       " 'Overall Score': '80.6',\n",
       " 'Academic Reputation': '87.3',\n",
       " 'Employer Reputation': '49.6',\n",
       " 'Citations per Faculty': '92.9',\n",
       " 'Faculty Student Ratio': '60.9',\n",
       " 'International Students Ratio': '90.5',\n",
       " 'International Faculty Ratio': '100',\n",
       " 'International Research Network\\nUnweighted': '74.9',\n",
       " 'Employment Outcomes\\nUnweighted': '79.4'}"
      ]
     },
     "execution_count": 14,
     "metadata": {},
     "output_type": "execute_result"
    }
   ],
   "source": [
    "d={}\n",
    "d['Name']=value_head[70]\n",
    "d['Location']=loc[7]\n",
    "d['Rank']=RANK[7]\n",
    "for i in range(len(column_head)):\n",
    "    d[column_head[i]]=value[i]\n",
    "d"
   ]
  },
  {
   "cell_type": "code",
   "execution_count": 15,
   "id": "86f87c40",
   "metadata": {},
   "outputs": [
    {
     "data": {
      "text/plain": [
       "'{\"Name\": \"The Chinese University of Hong Kong (CUHK)\", \"Location\": \"Hong Kong SAR, Hong Kong SAR\", \"Rank\": \"38\", \"Overall Score\": \"80.6\", \"Academic Reputation\": \"87.3\", \"Employer Reputation\": \"49.6\", \"Citations per Faculty\": \"92.9\", \"Faculty Student Ratio\": \"60.9\", \"International Students Ratio\": \"90.5\", \"International Faculty Ratio\": \"100\", \"International Research Network\\\\nUnweighted\": \"74.9\", \"Employment Outcomes\\\\nUnweighted\": \"79.4\"}'"
      ]
     },
     "execution_count": 15,
     "metadata": {},
     "output_type": "execute_result"
    }
   ],
   "source": [
    "s1=json.dumps(d)\n",
    "s1"
   ]
  },
  {
   "cell_type": "code",
   "execution_count": 16,
   "id": "4e8f201e",
   "metadata": {},
   "outputs": [],
   "source": [
    "with open('The Chinese University of Hong Kong (CUHK).json','w') as f:\n",
    "    json.dump(d,f)\n"
   ]
  },
  {
   "cell_type": "code",
   "execution_count": null,
   "id": "742f74c8",
   "metadata": {},
   "outputs": [],
   "source": []
  },
  {
   "cell_type": "code",
   "execution_count": null,
   "id": "2d37dfc8",
   "metadata": {},
   "outputs": [],
   "source": []
  }
 ],
 "metadata": {
  "kernelspec": {
   "display_name": "Python 3 (ipykernel)",
   "language": "python",
   "name": "python3"
  },
  "language_info": {
   "codemirror_mode": {
    "name": "ipython",
    "version": 3
   },
   "file_extension": ".py",
   "mimetype": "text/x-python",
   "name": "python",
   "nbconvert_exporter": "python",
   "pygments_lexer": "ipython3",
   "version": "3.9.12"
  }
 },
 "nbformat": 4,
 "nbformat_minor": 5
}
