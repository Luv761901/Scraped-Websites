{
 "cells": [
  {
   "cell_type": "code",
   "execution_count": 8,
   "id": "b5907357",
   "metadata": {},
   "outputs": [],
   "source": [
    "from selenium import webdriver\n",
    "from selenium.webdriver.chrome.service import Service\n",
    "import pandas as pd\n",
    "import json"
   ]
  },
  {
   "cell_type": "code",
   "execution_count": 9,
   "id": "d99fba47",
   "metadata": {},
   "outputs": [],
   "source": [
    "path = Service('C:\\chromedriver.exe')"
   ]
  },
  {
   "cell_type": "code",
   "execution_count": 10,
   "id": "ff4186cd",
   "metadata": {},
   "outputs": [],
   "source": [
    "# set path for the driver\n",
    "browser = webdriver.Chrome(service = path)"
   ]
  },
  {
   "cell_type": "code",
   "execution_count": 11,
   "id": "f9368352",
   "metadata": {},
   "outputs": [],
   "source": [
    "url = \"https://www.topuniversities.com/university-rankings/world-university-rankings/2023\""
   ]
  },
  {
   "cell_type": "code",
   "execution_count": 12,
   "id": "93d95bc2",
   "metadata": {},
   "outputs": [],
   "source": [
    "# open the page url ion chrome\n",
    "browser.get(url)"
   ]
  },
  {
   "cell_type": "code",
   "execution_count": 13,
   "id": "4644d7a3",
   "metadata": {},
   "outputs": [
    {
     "data": {
      "text/plain": [
       "[<selenium.webdriver.remote.webelement.WebElement (session=\"27609538960ca268d2c19bf7821ce334\", element=\"e2316763-e451-4d85-8846-c3527d0ef208\")>,\n",
       " <selenium.webdriver.remote.webelement.WebElement (session=\"27609538960ca268d2c19bf7821ce334\", element=\"19cc7425-f94a-4e75-8b88-4f25b1bfd417\")>,\n",
       " <selenium.webdriver.remote.webelement.WebElement (session=\"27609538960ca268d2c19bf7821ce334\", element=\"e6bea2ce-7795-4d9c-8a2c-7cae01e280f9\")>,\n",
       " <selenium.webdriver.remote.webelement.WebElement (session=\"27609538960ca268d2c19bf7821ce334\", element=\"69ac8003-cd1f-4408-bf20-ed32a919b942\")>,\n",
       " <selenium.webdriver.remote.webelement.WebElement (session=\"27609538960ca268d2c19bf7821ce334\", element=\"5f75c40a-5f12-4709-af7b-eafc09f74bff\")>,\n",
       " <selenium.webdriver.remote.webelement.WebElement (session=\"27609538960ca268d2c19bf7821ce334\", element=\"819967d8-e32c-4dc4-896f-40a27885bb6e\")>,\n",
       " <selenium.webdriver.remote.webelement.WebElement (session=\"27609538960ca268d2c19bf7821ce334\", element=\"01db539c-581b-4bd5-a1e4-416f745e8d80\")>,\n",
       " <selenium.webdriver.remote.webelement.WebElement (session=\"27609538960ca268d2c19bf7821ce334\", element=\"d867f9b4-e51f-4cdd-86c3-f6e375cf5a17\")>,\n",
       " <selenium.webdriver.remote.webelement.WebElement (session=\"27609538960ca268d2c19bf7821ce334\", element=\"0bc52ee4-5dd1-49b2-8cef-dc026963c1b3\")>]"
      ]
     },
     "execution_count": 13,
     "metadata": {},
     "output_type": "execute_result"
    }
   ],
   "source": [
    "# GET EACH COLLEGE SPECIFICATION HEADERS\n",
    "header=browser.find_elements(\"xpath\",\"//div[@class='_click-function_ind']\")\n",
    "header"
   ]
  },
  {
   "cell_type": "code",
   "execution_count": 14,
   "id": "66363e27",
   "metadata": {},
   "outputs": [
    {
     "data": {
      "text/plain": [
       "['Overall Score',\n",
       " 'Academic Reputation',\n",
       " 'Employer Reputation',\n",
       " 'Citations per Faculty',\n",
       " 'Faculty Student Ratio',\n",
       " 'International Students Ratio',\n",
       " 'International Faculty Ratio',\n",
       " 'International Research Network\\nUnweighted',\n",
       " 'Employment Outcomes\\nUnweighted']"
      ]
     },
     "execution_count": 14,
     "metadata": {},
     "output_type": "execute_result"
    }
   ],
   "source": [
    "#PARSING DATA\n",
    "column_head=[]\n",
    "for data in header:\n",
    "    #get the text data\n",
    "    temp=data.text\n",
    "    column_head.append(temp)\n",
    "column_head"
   ]
  },
  {
   "cell_type": "code",
   "execution_count": 15,
   "id": "9d674bef",
   "metadata": {},
   "outputs": [
    {
     "data": {
      "text/plain": [
       "[<selenium.webdriver.remote.webelement.WebElement (session=\"27609538960ca268d2c19bf7821ce334\", element=\"d8ea1acc-baf5-487b-9ef7-2018ec2e9a1f\")>,\n",
       " <selenium.webdriver.remote.webelement.WebElement (session=\"27609538960ca268d2c19bf7821ce334\", element=\"6b53fb53-18dc-4fed-840b-170915550792\")>,\n",
       " <selenium.webdriver.remote.webelement.WebElement (session=\"27609538960ca268d2c19bf7821ce334\", element=\"0c51b290-e795-449a-be02-6ebb8342cd99\")>,\n",
       " <selenium.webdriver.remote.webelement.WebElement (session=\"27609538960ca268d2c19bf7821ce334\", element=\"fa32ba44-7d99-456f-8c15-32b37bbd0616\")>,\n",
       " <selenium.webdriver.remote.webelement.WebElement (session=\"27609538960ca268d2c19bf7821ce334\", element=\"c610acc2-37be-4cfe-99a1-3b15383ff746\")>,\n",
       " <selenium.webdriver.remote.webelement.WebElement (session=\"27609538960ca268d2c19bf7821ce334\", element=\"914108ad-7080-4f14-aa7c-69992a63258c\")>,\n",
       " <selenium.webdriver.remote.webelement.WebElement (session=\"27609538960ca268d2c19bf7821ce334\", element=\"f40f8873-f29b-444f-88a3-ab9bb0cb0e79\")>,\n",
       " <selenium.webdriver.remote.webelement.WebElement (session=\"27609538960ca268d2c19bf7821ce334\", element=\"3b2906fc-871c-40b8-85a5-da899ef1c896\")>,\n",
       " <selenium.webdriver.remote.webelement.WebElement (session=\"27609538960ca268d2c19bf7821ce334\", element=\"d640982d-72d7-423a-86af-4e69b8dddc27\")>,\n",
       " <selenium.webdriver.remote.webelement.WebElement (session=\"27609538960ca268d2c19bf7821ce334\", element=\"d2222981-debd-4d76-b2b7-098648e2dd3d\")>,\n",
       " <selenium.webdriver.remote.webelement.WebElement (session=\"27609538960ca268d2c19bf7821ce334\", element=\"d5554ca8-0f01-4f4c-82f2-b4a897d6e8f6\")>,\n",
       " <selenium.webdriver.remote.webelement.WebElement (session=\"27609538960ca268d2c19bf7821ce334\", element=\"dd611785-6a21-43ad-94c4-792f82028fc8\")>,\n",
       " <selenium.webdriver.remote.webelement.WebElement (session=\"27609538960ca268d2c19bf7821ce334\", element=\"f5372551-d4f7-4161-9c86-70efd8213c52\")>,\n",
       " <selenium.webdriver.remote.webelement.WebElement (session=\"27609538960ca268d2c19bf7821ce334\", element=\"6bf16b32-4755-4c67-af88-2cc8a8c5ce3f\")>,\n",
       " <selenium.webdriver.remote.webelement.WebElement (session=\"27609538960ca268d2c19bf7821ce334\", element=\"72c597ca-b903-431c-b238-329a170f0384\")>,\n",
       " <selenium.webdriver.remote.webelement.WebElement (session=\"27609538960ca268d2c19bf7821ce334\", element=\"b92accfc-9731-4ef0-afc3-6b551bda4faf\")>,\n",
       " <selenium.webdriver.remote.webelement.WebElement (session=\"27609538960ca268d2c19bf7821ce334\", element=\"ce1d6d98-ba1c-4b62-a7f9-29c7f0fa62a5\")>,\n",
       " <selenium.webdriver.remote.webelement.WebElement (session=\"27609538960ca268d2c19bf7821ce334\", element=\"1b93445d-4c78-4b4d-bfa1-a3e1b853fcdc\")>,\n",
       " <selenium.webdriver.remote.webelement.WebElement (session=\"27609538960ca268d2c19bf7821ce334\", element=\"47fe5c3b-118e-48ce-b482-20fbca5e4f51\")>,\n",
       " <selenium.webdriver.remote.webelement.WebElement (session=\"27609538960ca268d2c19bf7821ce334\", element=\"4cc67754-a11f-40b1-9fdb-66c22b47ac32\")>,\n",
       " <selenium.webdriver.remote.webelement.WebElement (session=\"27609538960ca268d2c19bf7821ce334\", element=\"eed3a3b2-be93-40e0-b756-45a859d69a10\")>,\n",
       " <selenium.webdriver.remote.webelement.WebElement (session=\"27609538960ca268d2c19bf7821ce334\", element=\"971b52d8-0107-4f70-aa6b-7abd9dc47e13\")>,\n",
       " <selenium.webdriver.remote.webelement.WebElement (session=\"27609538960ca268d2c19bf7821ce334\", element=\"5c5c962b-a6e8-4908-87ea-e4fc1d9121cd\")>,\n",
       " <selenium.webdriver.remote.webelement.WebElement (session=\"27609538960ca268d2c19bf7821ce334\", element=\"f2be0fbe-dc55-443b-b899-90a496c581fb\")>,\n",
       " <selenium.webdriver.remote.webelement.WebElement (session=\"27609538960ca268d2c19bf7821ce334\", element=\"c26c8b5d-558e-47c1-87ef-69d63bbbbb39\")>,\n",
       " <selenium.webdriver.remote.webelement.WebElement (session=\"27609538960ca268d2c19bf7821ce334\", element=\"de849244-aa16-40cf-ba65-d5aac160c666\")>,\n",
       " <selenium.webdriver.remote.webelement.WebElement (session=\"27609538960ca268d2c19bf7821ce334\", element=\"0f76ed77-8f6c-47d6-838a-8642c817d917\")>,\n",
       " <selenium.webdriver.remote.webelement.WebElement (session=\"27609538960ca268d2c19bf7821ce334\", element=\"066a62cb-ef7f-4a2b-8f33-2166682bf1f7\")>,\n",
       " <selenium.webdriver.remote.webelement.WebElement (session=\"27609538960ca268d2c19bf7821ce334\", element=\"80a53108-e100-4aa0-b465-3299317f9390\")>,\n",
       " <selenium.webdriver.remote.webelement.WebElement (session=\"27609538960ca268d2c19bf7821ce334\", element=\"bd8fdfc2-c81c-4fa7-ba26-26e3806fae43\")>,\n",
       " <selenium.webdriver.remote.webelement.WebElement (session=\"27609538960ca268d2c19bf7821ce334\", element=\"9819f5ae-7203-4794-848e-2fc1ff961cb3\")>,\n",
       " <selenium.webdriver.remote.webelement.WebElement (session=\"27609538960ca268d2c19bf7821ce334\", element=\"2098506f-3b23-4e63-a927-afdf3731a561\")>,\n",
       " <selenium.webdriver.remote.webelement.WebElement (session=\"27609538960ca268d2c19bf7821ce334\", element=\"e94df417-065a-46e2-a274-3995fcb3655c\")>,\n",
       " <selenium.webdriver.remote.webelement.WebElement (session=\"27609538960ca268d2c19bf7821ce334\", element=\"ac695caf-8306-411f-a2fa-3ad5a04ad441\")>,\n",
       " <selenium.webdriver.remote.webelement.WebElement (session=\"27609538960ca268d2c19bf7821ce334\", element=\"cf74c0b2-333f-45a5-93f1-4ea4f0ab7caa\")>,\n",
       " <selenium.webdriver.remote.webelement.WebElement (session=\"27609538960ca268d2c19bf7821ce334\", element=\"4c7e9dc4-dd24-45ea-9a32-4164dbe4d187\")>,\n",
       " <selenium.webdriver.remote.webelement.WebElement (session=\"27609538960ca268d2c19bf7821ce334\", element=\"12b1b5a8-35b3-465e-89f3-f6a991cbd020\")>,\n",
       " <selenium.webdriver.remote.webelement.WebElement (session=\"27609538960ca268d2c19bf7821ce334\", element=\"8b0a55f3-749d-4064-a507-182723c11d39\")>,\n",
       " <selenium.webdriver.remote.webelement.WebElement (session=\"27609538960ca268d2c19bf7821ce334\", element=\"d2d134cb-2940-4c7f-943c-0a2aa4e2bfb5\")>,\n",
       " <selenium.webdriver.remote.webelement.WebElement (session=\"27609538960ca268d2c19bf7821ce334\", element=\"d36d9c8c-a391-4d48-9dc0-abce469bc107\")>,\n",
       " <selenium.webdriver.remote.webelement.WebElement (session=\"27609538960ca268d2c19bf7821ce334\", element=\"697254cc-1986-4da0-8193-48fc5291a6a4\")>,\n",
       " <selenium.webdriver.remote.webelement.WebElement (session=\"27609538960ca268d2c19bf7821ce334\", element=\"cd5aebc9-51b1-4da9-8719-a7db72b8edd0\")>,\n",
       " <selenium.webdriver.remote.webelement.WebElement (session=\"27609538960ca268d2c19bf7821ce334\", element=\"eaf7e46d-d04b-47e4-98c7-5cb274e9dfb9\")>,\n",
       " <selenium.webdriver.remote.webelement.WebElement (session=\"27609538960ca268d2c19bf7821ce334\", element=\"1bb0cbe5-3c5c-49b2-a7e4-6ced4666fcb8\")>,\n",
       " <selenium.webdriver.remote.webelement.WebElement (session=\"27609538960ca268d2c19bf7821ce334\", element=\"9b4308aa-1dd9-4ada-87d2-d7df21689097\")>,\n",
       " <selenium.webdriver.remote.webelement.WebElement (session=\"27609538960ca268d2c19bf7821ce334\", element=\"135705d6-403a-46d2-bd24-fef5715a7b65\")>,\n",
       " <selenium.webdriver.remote.webelement.WebElement (session=\"27609538960ca268d2c19bf7821ce334\", element=\"c4525fa4-8734-425e-89db-762868e2c49d\")>,\n",
       " <selenium.webdriver.remote.webelement.WebElement (session=\"27609538960ca268d2c19bf7821ce334\", element=\"15fb9929-833d-4bf6-9ecc-da00a71ebd75\")>,\n",
       " <selenium.webdriver.remote.webelement.WebElement (session=\"27609538960ca268d2c19bf7821ce334\", element=\"1afb7586-43b7-412e-a07a-9845f0b9426f\")>,\n",
       " <selenium.webdriver.remote.webelement.WebElement (session=\"27609538960ca268d2c19bf7821ce334\", element=\"d298252b-1500-49ab-b7a6-3ebedc00243b\")>,\n",
       " <selenium.webdriver.remote.webelement.WebElement (session=\"27609538960ca268d2c19bf7821ce334\", element=\"3ce0cbf8-f120-4015-b61d-205384b35946\")>,\n",
       " <selenium.webdriver.remote.webelement.WebElement (session=\"27609538960ca268d2c19bf7821ce334\", element=\"9f4bbf3b-3d6c-478c-afc8-e8ac4293b9ba\")>,\n",
       " <selenium.webdriver.remote.webelement.WebElement (session=\"27609538960ca268d2c19bf7821ce334\", element=\"1b97bcea-c96b-4e74-9da8-3f9596af1e0c\")>,\n",
       " <selenium.webdriver.remote.webelement.WebElement (session=\"27609538960ca268d2c19bf7821ce334\", element=\"0650aac1-9b2b-4ee7-94d6-cc85312901f9\")>,\n",
       " <selenium.webdriver.remote.webelement.WebElement (session=\"27609538960ca268d2c19bf7821ce334\", element=\"68a94de2-8efc-43ff-9f66-9c70fa22e396\")>,\n",
       " <selenium.webdriver.remote.webelement.WebElement (session=\"27609538960ca268d2c19bf7821ce334\", element=\"50b1087f-43ab-4204-97c6-d0fb3f7de87c\")>,\n",
       " <selenium.webdriver.remote.webelement.WebElement (session=\"27609538960ca268d2c19bf7821ce334\", element=\"7dcf88b7-24d9-4615-9ca4-9d4579506472\")>,\n",
       " <selenium.webdriver.remote.webelement.WebElement (session=\"27609538960ca268d2c19bf7821ce334\", element=\"36d1eb3f-ce12-4281-b945-07c6c73ed648\")>,\n",
       " <selenium.webdriver.remote.webelement.WebElement (session=\"27609538960ca268d2c19bf7821ce334\", element=\"34a3bdb8-122a-4917-ac78-4bfd3a2033f4\")>,\n",
       " <selenium.webdriver.remote.webelement.WebElement (session=\"27609538960ca268d2c19bf7821ce334\", element=\"610b8b76-4f70-4f3d-8e22-551735e94953\")>,\n",
       " <selenium.webdriver.remote.webelement.WebElement (session=\"27609538960ca268d2c19bf7821ce334\", element=\"eaab3865-0b61-42cf-8388-c2e9bee82f95\")>,\n",
       " <selenium.webdriver.remote.webelement.WebElement (session=\"27609538960ca268d2c19bf7821ce334\", element=\"9a30ebe6-a41a-4a46-99e6-eda6f1d680cc\")>,\n",
       " <selenium.webdriver.remote.webelement.WebElement (session=\"27609538960ca268d2c19bf7821ce334\", element=\"46334c34-361a-4efa-9972-98ed755eb5e9\")>,\n",
       " <selenium.webdriver.remote.webelement.WebElement (session=\"27609538960ca268d2c19bf7821ce334\", element=\"80ae9991-e019-40ed-b16b-fbac8ee01c8a\")>,\n",
       " <selenium.webdriver.remote.webelement.WebElement (session=\"27609538960ca268d2c19bf7821ce334\", element=\"1e8f4641-4a61-49bf-abbe-bbf41bdbc61f\")>,\n",
       " <selenium.webdriver.remote.webelement.WebElement (session=\"27609538960ca268d2c19bf7821ce334\", element=\"1e2b4526-df51-474c-9659-9a30e2504fd3\")>,\n",
       " <selenium.webdriver.remote.webelement.WebElement (session=\"27609538960ca268d2c19bf7821ce334\", element=\"0ac7d00a-c9c9-4747-b276-0946f165d82b\")>,\n",
       " <selenium.webdriver.remote.webelement.WebElement (session=\"27609538960ca268d2c19bf7821ce334\", element=\"5a6dba15-bc67-4b85-bc27-54d4b09feae5\")>,\n",
       " <selenium.webdriver.remote.webelement.WebElement (session=\"27609538960ca268d2c19bf7821ce334\", element=\"c64cc15f-a26c-4f62-ac24-5ce77455acf7\")>,\n",
       " <selenium.webdriver.remote.webelement.WebElement (session=\"27609538960ca268d2c19bf7821ce334\", element=\"dfc4ae4f-d1fb-4717-8afb-c6331d5e02ce\")>,\n",
       " <selenium.webdriver.remote.webelement.WebElement (session=\"27609538960ca268d2c19bf7821ce334\", element=\"8d9dfcee-2068-4dda-86cb-7eec0a0609af\")>,\n",
       " <selenium.webdriver.remote.webelement.WebElement (session=\"27609538960ca268d2c19bf7821ce334\", element=\"3f72b1c9-416c-4796-b0c0-c2ff05a0c314\")>,\n",
       " <selenium.webdriver.remote.webelement.WebElement (session=\"27609538960ca268d2c19bf7821ce334\", element=\"a401a9f8-79b7-4483-a4bf-71c8831a27a4\")>,\n",
       " <selenium.webdriver.remote.webelement.WebElement (session=\"27609538960ca268d2c19bf7821ce334\", element=\"e2f164fd-bb5f-4aad-a959-9ae7610d29d4\")>,\n",
       " <selenium.webdriver.remote.webelement.WebElement (session=\"27609538960ca268d2c19bf7821ce334\", element=\"fa6c355c-f676-4290-9f14-0b49a0fca8a2\")>,\n",
       " <selenium.webdriver.remote.webelement.WebElement (session=\"27609538960ca268d2c19bf7821ce334\", element=\"4484cacb-8589-4e46-9e76-916c958c0f73\")>,\n",
       " <selenium.webdriver.remote.webelement.WebElement (session=\"27609538960ca268d2c19bf7821ce334\", element=\"8a79865a-fa73-4981-95e6-fa96f6443235\")>,\n",
       " <selenium.webdriver.remote.webelement.WebElement (session=\"27609538960ca268d2c19bf7821ce334\", element=\"3f2cf79b-1aef-4835-ad03-9208823f9ddf\")>,\n",
       " <selenium.webdriver.remote.webelement.WebElement (session=\"27609538960ca268d2c19bf7821ce334\", element=\"7d7c7e16-6b52-44f7-88bc-a62d95a10d55\")>,\n",
       " <selenium.webdriver.remote.webelement.WebElement (session=\"27609538960ca268d2c19bf7821ce334\", element=\"57fa000c-741a-4cb3-b5c2-58f3554c0a0b\")>,\n",
       " <selenium.webdriver.remote.webelement.WebElement (session=\"27609538960ca268d2c19bf7821ce334\", element=\"35a4f751-17d0-48e2-b158-18b5e02b0ae0\")>,\n",
       " <selenium.webdriver.remote.webelement.WebElement (session=\"27609538960ca268d2c19bf7821ce334\", element=\"b985a38b-cb94-4077-bebc-fba318827c6f\")>,\n",
       " <selenium.webdriver.remote.webelement.WebElement (session=\"27609538960ca268d2c19bf7821ce334\", element=\"ce367d9a-cb05-463f-a298-6455b03fa66b\")>,\n",
       " <selenium.webdriver.remote.webelement.WebElement (session=\"27609538960ca268d2c19bf7821ce334\", element=\"72cff733-ee0d-473e-83a3-8ead669df9ff\")>,\n",
       " <selenium.webdriver.remote.webelement.WebElement (session=\"27609538960ca268d2c19bf7821ce334\", element=\"f602f5c5-7cf5-4964-91a2-1266adec90c5\")>,\n",
       " <selenium.webdriver.remote.webelement.WebElement (session=\"27609538960ca268d2c19bf7821ce334\", element=\"56a35adb-c670-411b-bf22-31e1ba001f19\")>,\n",
       " <selenium.webdriver.remote.webelement.WebElement (session=\"27609538960ca268d2c19bf7821ce334\", element=\"5b4579f9-d5b4-409f-b57f-d5144ab0b3a2\")>,\n",
       " <selenium.webdriver.remote.webelement.WebElement (session=\"27609538960ca268d2c19bf7821ce334\", element=\"dc1b07eb-a642-4722-8627-f1cacef47c69\")>,\n",
       " <selenium.webdriver.remote.webelement.WebElement (session=\"27609538960ca268d2c19bf7821ce334\", element=\"78db4e0f-b048-4abb-8508-17d6ef679f39\")>,\n",
       " <selenium.webdriver.remote.webelement.WebElement (session=\"27609538960ca268d2c19bf7821ce334\", element=\"3eb8c5fd-e35f-4dab-a0b2-55cfb1eed48c\")>,\n",
       " <selenium.webdriver.remote.webelement.WebElement (session=\"27609538960ca268d2c19bf7821ce334\", element=\"339d0e63-5241-44b2-ba25-cbfcc3775d60\")>,\n",
       " <selenium.webdriver.remote.webelement.WebElement (session=\"27609538960ca268d2c19bf7821ce334\", element=\"9dac6b67-5d7d-44b1-8d19-8e10bb15b8f8\")>,\n",
       " <selenium.webdriver.remote.webelement.WebElement (session=\"27609538960ca268d2c19bf7821ce334\", element=\"71473478-9acd-4159-af5c-4e49e9ef7f77\")>,\n",
       " <selenium.webdriver.remote.webelement.WebElement (session=\"27609538960ca268d2c19bf7821ce334\", element=\"ea0a5b89-c2bb-4389-bb9c-887f59ec2358\")>,\n",
       " <selenium.webdriver.remote.webelement.WebElement (session=\"27609538960ca268d2c19bf7821ce334\", element=\"a1d85856-27d3-4e28-a896-58d422f76eb8\")>,\n",
       " <selenium.webdriver.remote.webelement.WebElement (session=\"27609538960ca268d2c19bf7821ce334\", element=\"4dbab97f-bd1d-4882-ad02-98ab0c2ce4e2\")>,\n",
       " <selenium.webdriver.remote.webelement.WebElement (session=\"27609538960ca268d2c19bf7821ce334\", element=\"9be596a2-cd72-4bde-a491-e4f00cc8ce88\")>,\n",
       " <selenium.webdriver.remote.webelement.WebElement (session=\"27609538960ca268d2c19bf7821ce334\", element=\"107cf44f-7c3f-4325-99a9-8a6eb030a9f2\")>,\n",
       " <selenium.webdriver.remote.webelement.WebElement (session=\"27609538960ca268d2c19bf7821ce334\", element=\"86599ef2-8909-4a4c-a8f4-9c70a9b0852e\")>,\n",
       " <selenium.webdriver.remote.webelement.WebElement (session=\"27609538960ca268d2c19bf7821ce334\", element=\"1114cc2d-0358-45d6-86e1-482e88b50b1a\")>]"
      ]
     },
     "execution_count": 15,
     "metadata": {},
     "output_type": "execute_result"
    }
   ],
   "source": [
    "header2=browser.find_elements(\"xpath\",\"//div[@class='td-wrap-in']\")\n",
    "header2"
   ]
  },
  {
   "cell_type": "code",
   "execution_count": 17,
   "id": "2a623ee0",
   "metadata": {},
   "outputs": [
    {
     "data": {
      "text/plain": [
       "['82.1', '93.6', '70.1', '99.3', '38', '96', '100', '94.6', '59.1']"
      ]
     },
     "execution_count": 17,
     "metadata": {},
     "output_type": "execute_result"
    }
   ],
   "source": [
    "#PARSING DATA\n",
    "value_head=[]\n",
    "for data in header2:\n",
    "    #get the text data\n",
    "    temp=data.text\n",
    "    value_head.append(temp)\n",
    "value_head=value_head[91:100]\n",
    "value_head"
   ]
  },
  {
   "cell_type": "code",
   "execution_count": null,
   "id": "f67d74c0",
   "metadata": {},
   "outputs": [],
   "source": []
  }
 ],
 "metadata": {
  "kernelspec": {
   "display_name": "Python 3 (ipykernel)",
   "language": "python",
   "name": "python3"
  },
  "language_info": {
   "codemirror_mode": {
    "name": "ipython",
    "version": 3
   },
   "file_extension": ".py",
   "mimetype": "text/x-python",
   "name": "python",
   "nbconvert_exporter": "python",
   "pygments_lexer": "ipython3",
   "version": "3.9.12"
  }
 },
 "nbformat": 4,
 "nbformat_minor": 5
}
