{
 "cells": [
  {
   "cell_type": "code",
   "execution_count": 1,
   "id": "b5907357",
   "metadata": {},
   "outputs": [],
   "source": [
    "from selenium import webdriver\n",
    "from selenium.webdriver.chrome.service import Service\n",
    "import pandas as pd\n",
    "import json"
   ]
  },
  {
   "cell_type": "code",
   "execution_count": 2,
   "id": "d99fba47",
   "metadata": {},
   "outputs": [],
   "source": [
    "path = Service('C:\\chromedriver.exe')"
   ]
  },
  {
   "cell_type": "code",
   "execution_count": 3,
   "id": "ff4186cd",
   "metadata": {},
   "outputs": [],
   "source": [
    "# set path for the driver\n",
    "browser = webdriver.Chrome(service = path)"
   ]
  },
  {
   "cell_type": "code",
   "execution_count": 4,
   "id": "f9368352",
   "metadata": {},
   "outputs": [],
   "source": [
    "url = \"https://www.topuniversities.com/university-rankings/world-university-rankings/2023\""
   ]
  },
  {
   "cell_type": "code",
   "execution_count": 5,
   "id": "93d95bc2",
   "metadata": {},
   "outputs": [],
   "source": [
    "# open the page url ion chrome\n",
    "browser.get(url)"
   ]
  },
  {
   "cell_type": "code",
   "execution_count": 6,
   "id": "ea7857d4",
   "metadata": {},
   "outputs": [
    {
     "data": {
      "text/plain": [
       "[<selenium.webdriver.remote.webelement.WebElement (session=\"4cd4a1076f0bdfbdcfef9f5f4f7175f3\", element=\"6eee69d5-ca23-4a45-a08d-f9cf65cdabad\")>,\n",
       " <selenium.webdriver.remote.webelement.WebElement (session=\"4cd4a1076f0bdfbdcfef9f5f4f7175f3\", element=\"b1e50c30-33d4-4382-8793-8de58a50d82a\")>,\n",
       " <selenium.webdriver.remote.webelement.WebElement (session=\"4cd4a1076f0bdfbdcfef9f5f4f7175f3\", element=\"5ce14eec-9969-4ab3-801d-974d9129d496\")>,\n",
       " <selenium.webdriver.remote.webelement.WebElement (session=\"4cd4a1076f0bdfbdcfef9f5f4f7175f3\", element=\"0c0fda4d-49d4-4ce6-9ffb-a4e47907a52f\")>,\n",
       " <selenium.webdriver.remote.webelement.WebElement (session=\"4cd4a1076f0bdfbdcfef9f5f4f7175f3\", element=\"55329522-3043-4435-bdc6-9438431b7ecc\")>,\n",
       " <selenium.webdriver.remote.webelement.WebElement (session=\"4cd4a1076f0bdfbdcfef9f5f4f7175f3\", element=\"21aec329-2bd0-45c5-b862-df5254fc4360\")>,\n",
       " <selenium.webdriver.remote.webelement.WebElement (session=\"4cd4a1076f0bdfbdcfef9f5f4f7175f3\", element=\"452b583a-0f94-4dbf-a71e-17c4905d7a3e\")>,\n",
       " <selenium.webdriver.remote.webelement.WebElement (session=\"4cd4a1076f0bdfbdcfef9f5f4f7175f3\", element=\"fdddca47-7aea-4e75-ad48-12cbba0735d3\")>,\n",
       " <selenium.webdriver.remote.webelement.WebElement (session=\"4cd4a1076f0bdfbdcfef9f5f4f7175f3\", element=\"e6e94af6-6f19-4c0d-add9-cff5a08c0f8f\")>,\n",
       " <selenium.webdriver.remote.webelement.WebElement (session=\"4cd4a1076f0bdfbdcfef9f5f4f7175f3\", element=\"8d5d116f-beb9-4d24-b7f9-4c3dcd93d905\")>,\n",
       " <selenium.webdriver.remote.webelement.WebElement (session=\"4cd4a1076f0bdfbdcfef9f5f4f7175f3\", element=\"716c31f8-3b2f-47cf-9b34-614ae0b3c57c\")>,\n",
       " <selenium.webdriver.remote.webelement.WebElement (session=\"4cd4a1076f0bdfbdcfef9f5f4f7175f3\", element=\"f1ab11ad-8112-4cc4-ad29-aaee6067c10d\")>,\n",
       " <selenium.webdriver.remote.webelement.WebElement (session=\"4cd4a1076f0bdfbdcfef9f5f4f7175f3\", element=\"52dda808-53f1-48c5-a1ba-f9a4d208c1f9\")>,\n",
       " <selenium.webdriver.remote.webelement.WebElement (session=\"4cd4a1076f0bdfbdcfef9f5f4f7175f3\", element=\"80a8b9ea-a009-46d0-9423-aa14007e2fca\")>,\n",
       " <selenium.webdriver.remote.webelement.WebElement (session=\"4cd4a1076f0bdfbdcfef9f5f4f7175f3\", element=\"1e7621e1-4ae9-4579-ba5d-40f5bbb45669\")>,\n",
       " <selenium.webdriver.remote.webelement.WebElement (session=\"4cd4a1076f0bdfbdcfef9f5f4f7175f3\", element=\"5227cfbb-5b4a-489a-9896-f27aa48c2719\")>,\n",
       " <selenium.webdriver.remote.webelement.WebElement (session=\"4cd4a1076f0bdfbdcfef9f5f4f7175f3\", element=\"d493227c-6021-400d-9d74-fae916940665\")>,\n",
       " <selenium.webdriver.remote.webelement.WebElement (session=\"4cd4a1076f0bdfbdcfef9f5f4f7175f3\", element=\"0e279cce-4496-4c29-9897-cfad482de370\")>,\n",
       " <selenium.webdriver.remote.webelement.WebElement (session=\"4cd4a1076f0bdfbdcfef9f5f4f7175f3\", element=\"1eaffbf7-42c7-4b49-b1cd-d03fe59f3c05\")>,\n",
       " <selenium.webdriver.remote.webelement.WebElement (session=\"4cd4a1076f0bdfbdcfef9f5f4f7175f3\", element=\"c2b6c3e4-7826-4202-9543-6341ed846422\")>]"
      ]
     },
     "execution_count": 6,
     "metadata": {},
     "output_type": "execute_result"
    }
   ],
   "source": [
    "l1=browser.find_elements(\"xpath\",\"//div[@class='location ']\")\n",
    "l1\n",
    "\n"
   ]
  },
  {
   "cell_type": "code",
   "execution_count": 7,
   "id": "50206dec",
   "metadata": {},
   "outputs": [
    {
     "data": {
      "text/plain": [
       "[' Hong Kong SAR',\n",
       " 'New York City, United States',\n",
       " 'Tokyo, Japan',\n",
       " 'Baltimore, United States',\n",
       " 'Ann Arbor, United States',\n",
       " 'Paris, France',\n",
       " 'Berkeley, United States',\n",
       " 'Manchester, United Kingdom',\n",
       " 'Seoul, South Korea',\n",
       " 'Canberra, Australia']"
      ]
     },
     "execution_count": 7,
     "metadata": {},
     "output_type": "execute_result"
    }
   ],
   "source": [
    "loc=[]\n",
    "for data in l1:\n",
    "    #get the text data\n",
    "    temp=data.text\n",
    "    loc.append(temp)\n",
    "loc=loc[10:]\n",
    "loc"
   ]
  },
  {
   "cell_type": "code",
   "execution_count": 8,
   "id": "b4083115",
   "metadata": {},
   "outputs": [
    {
     "data": {
      "text/plain": [
       "[<selenium.webdriver.remote.webelement.WebElement (session=\"4cd4a1076f0bdfbdcfef9f5f4f7175f3\", element=\"19242f6c-3cf3-4849-9c58-45af117e267e\")>,\n",
       " <selenium.webdriver.remote.webelement.WebElement (session=\"4cd4a1076f0bdfbdcfef9f5f4f7175f3\", element=\"a929e5fa-80e7-42f0-a427-776200a32903\")>,\n",
       " <selenium.webdriver.remote.webelement.WebElement (session=\"4cd4a1076f0bdfbdcfef9f5f4f7175f3\", element=\"8dcf2f91-b7fd-41f2-a1da-67f3ce6a693e\")>,\n",
       " <selenium.webdriver.remote.webelement.WebElement (session=\"4cd4a1076f0bdfbdcfef9f5f4f7175f3\", element=\"0aa67fb3-66af-499b-a5bd-ebe460af3456\")>,\n",
       " <selenium.webdriver.remote.webelement.WebElement (session=\"4cd4a1076f0bdfbdcfef9f5f4f7175f3\", element=\"95fbf0d4-cc11-45e5-a9cd-f0885f622d23\")>,\n",
       " <selenium.webdriver.remote.webelement.WebElement (session=\"4cd4a1076f0bdfbdcfef9f5f4f7175f3\", element=\"bdd60e73-d17b-48f0-b58e-4f5d75fd7900\")>,\n",
       " <selenium.webdriver.remote.webelement.WebElement (session=\"4cd4a1076f0bdfbdcfef9f5f4f7175f3\", element=\"62c80319-55d3-4bba-bf49-b58d31a04910\")>,\n",
       " <selenium.webdriver.remote.webelement.WebElement (session=\"4cd4a1076f0bdfbdcfef9f5f4f7175f3\", element=\"131345a7-1f28-4138-aad3-4b4870564cb4\")>,\n",
       " <selenium.webdriver.remote.webelement.WebElement (session=\"4cd4a1076f0bdfbdcfef9f5f4f7175f3\", element=\"7c64d0ba-2bcc-499a-b29a-7b5e6d1a51af\")>,\n",
       " <selenium.webdriver.remote.webelement.WebElement (session=\"4cd4a1076f0bdfbdcfef9f5f4f7175f3\", element=\"9a1bae5b-57fe-4c24-9221-dbe956bad0d5\")>]"
      ]
     },
     "execution_count": 8,
     "metadata": {},
     "output_type": "execute_result"
    }
   ],
   "source": [
    "l2=browser.find_elements(\"xpath\",\"//div[@class='_univ-rank ']\")\n",
    "l2"
   ]
  },
  {
   "cell_type": "code",
   "execution_count": 9,
   "id": "2e7b70e4",
   "metadata": {},
   "outputs": [
    {
     "data": {
      "text/plain": [
       "['21', '22', '23', '24', '25', '26', '27', '28', '29', '30']"
      ]
     },
     "execution_count": 9,
     "metadata": {},
     "output_type": "execute_result"
    }
   ],
   "source": [
    "RANK=[]\n",
    "for data in l2:\n",
    "    #get the text data\n",
    "    temp=data.text\n",
    "    RANK.append(temp)\n",
    "RANK\n"
   ]
  },
  {
   "cell_type": "code",
   "execution_count": 10,
   "id": "4644d7a3",
   "metadata": {},
   "outputs": [
    {
     "data": {
      "text/plain": [
       "[<selenium.webdriver.remote.webelement.WebElement (session=\"4cd4a1076f0bdfbdcfef9f5f4f7175f3\", element=\"0c1b8f80-cfd1-4e24-821e-8d26722f0c13\")>,\n",
       " <selenium.webdriver.remote.webelement.WebElement (session=\"4cd4a1076f0bdfbdcfef9f5f4f7175f3\", element=\"31dd3823-b359-4d4c-a84d-41267c3cafd0\")>,\n",
       " <selenium.webdriver.remote.webelement.WebElement (session=\"4cd4a1076f0bdfbdcfef9f5f4f7175f3\", element=\"94389851-d547-4941-b387-640c0ebde0c2\")>,\n",
       " <selenium.webdriver.remote.webelement.WebElement (session=\"4cd4a1076f0bdfbdcfef9f5f4f7175f3\", element=\"ef8f6831-17cd-4680-8258-dab1b7add41e\")>,\n",
       " <selenium.webdriver.remote.webelement.WebElement (session=\"4cd4a1076f0bdfbdcfef9f5f4f7175f3\", element=\"cdc31e76-7c34-4dae-88a7-ecfba2cee118\")>,\n",
       " <selenium.webdriver.remote.webelement.WebElement (session=\"4cd4a1076f0bdfbdcfef9f5f4f7175f3\", element=\"167b044e-9b9e-4c7a-bced-5e229bd460a5\")>,\n",
       " <selenium.webdriver.remote.webelement.WebElement (session=\"4cd4a1076f0bdfbdcfef9f5f4f7175f3\", element=\"949171b5-8728-4b51-994f-b0022010aa22\")>,\n",
       " <selenium.webdriver.remote.webelement.WebElement (session=\"4cd4a1076f0bdfbdcfef9f5f4f7175f3\", element=\"850961ef-39d1-46d0-947a-5cd640ed4c1c\")>,\n",
       " <selenium.webdriver.remote.webelement.WebElement (session=\"4cd4a1076f0bdfbdcfef9f5f4f7175f3\", element=\"1e013f0f-1eae-4c1c-9b11-83d799a7ae26\")>]"
      ]
     },
     "execution_count": 10,
     "metadata": {},
     "output_type": "execute_result"
    }
   ],
   "source": [
    "# GET EACH COLLEGE SPECIFICATION HEADERS\n",
    "header=browser.find_elements(\"xpath\",\"//div[@class='_click-function_ind']\")\n",
    "header"
   ]
  },
  {
   "cell_type": "code",
   "execution_count": 11,
   "id": "66363e27",
   "metadata": {},
   "outputs": [
    {
     "data": {
      "text/plain": [
       "['Overall Score',\n",
       " 'Academic Reputation',\n",
       " 'Employer Reputation',\n",
       " 'Citations per Faculty',\n",
       " 'Faculty Student Ratio',\n",
       " 'International Students Ratio',\n",
       " 'International Faculty Ratio',\n",
       " 'International Research Network\\nUnweighted',\n",
       " 'Employment Outcomes\\nUnweighted']"
      ]
     },
     "execution_count": 11,
     "metadata": {},
     "output_type": "execute_result"
    }
   ],
   "source": [
    "#PARSING DATA\n",
    "column_head=[]\n",
    "for data in header:\n",
    "    #get the text data\n",
    "    temp=data.text\n",
    "    column_head.append(temp)\n",
    "column_head"
   ]
  },
  {
   "cell_type": "code",
   "execution_count": 12,
   "id": "9d674bef",
   "metadata": {},
   "outputs": [
    {
     "data": {
      "text/plain": [
       "[<selenium.webdriver.remote.webelement.WebElement (session=\"4cd4a1076f0bdfbdcfef9f5f4f7175f3\", element=\"cb35cd1e-0aad-49b2-8f1a-cee154bab074\")>,\n",
       " <selenium.webdriver.remote.webelement.WebElement (session=\"4cd4a1076f0bdfbdcfef9f5f4f7175f3\", element=\"bf87212c-6fb0-42f9-846a-400f0cda6233\")>,\n",
       " <selenium.webdriver.remote.webelement.WebElement (session=\"4cd4a1076f0bdfbdcfef9f5f4f7175f3\", element=\"ecae05df-a27b-425c-ab91-2a75a1104662\")>,\n",
       " <selenium.webdriver.remote.webelement.WebElement (session=\"4cd4a1076f0bdfbdcfef9f5f4f7175f3\", element=\"6c6a9699-c328-494a-b61e-3aefc0490682\")>,\n",
       " <selenium.webdriver.remote.webelement.WebElement (session=\"4cd4a1076f0bdfbdcfef9f5f4f7175f3\", element=\"556b2445-7ca8-4ac4-8c99-775452269471\")>,\n",
       " <selenium.webdriver.remote.webelement.WebElement (session=\"4cd4a1076f0bdfbdcfef9f5f4f7175f3\", element=\"89102f51-96a6-4f5e-9849-621868091a5f\")>,\n",
       " <selenium.webdriver.remote.webelement.WebElement (session=\"4cd4a1076f0bdfbdcfef9f5f4f7175f3\", element=\"3740892b-182d-4e47-a32e-b7b8dd3bb7f7\")>,\n",
       " <selenium.webdriver.remote.webelement.WebElement (session=\"4cd4a1076f0bdfbdcfef9f5f4f7175f3\", element=\"9d7be91f-8f85-41c4-9aa3-36b0f2d9f08a\")>,\n",
       " <selenium.webdriver.remote.webelement.WebElement (session=\"4cd4a1076f0bdfbdcfef9f5f4f7175f3\", element=\"57941f38-ffb2-48f0-8b15-b53558519e7e\")>,\n",
       " <selenium.webdriver.remote.webelement.WebElement (session=\"4cd4a1076f0bdfbdcfef9f5f4f7175f3\", element=\"6c91e6b5-862e-4a16-bd19-8f0fe8ece203\")>,\n",
       " <selenium.webdriver.remote.webelement.WebElement (session=\"4cd4a1076f0bdfbdcfef9f5f4f7175f3\", element=\"1f184b57-7d06-420a-b65c-6b4f5809fcec\")>,\n",
       " <selenium.webdriver.remote.webelement.WebElement (session=\"4cd4a1076f0bdfbdcfef9f5f4f7175f3\", element=\"4f63fc01-52c4-4104-96b1-60bc31ce5ce1\")>,\n",
       " <selenium.webdriver.remote.webelement.WebElement (session=\"4cd4a1076f0bdfbdcfef9f5f4f7175f3\", element=\"d6c17ff8-f560-4022-ace0-f5a77d42e4dc\")>,\n",
       " <selenium.webdriver.remote.webelement.WebElement (session=\"4cd4a1076f0bdfbdcfef9f5f4f7175f3\", element=\"5e3867de-0d98-457e-acac-e1f061d28c64\")>,\n",
       " <selenium.webdriver.remote.webelement.WebElement (session=\"4cd4a1076f0bdfbdcfef9f5f4f7175f3\", element=\"5fcd2061-b5c3-464a-9f51-7f7664ce6218\")>,\n",
       " <selenium.webdriver.remote.webelement.WebElement (session=\"4cd4a1076f0bdfbdcfef9f5f4f7175f3\", element=\"059f524f-f77f-4070-be17-16e7242fa151\")>,\n",
       " <selenium.webdriver.remote.webelement.WebElement (session=\"4cd4a1076f0bdfbdcfef9f5f4f7175f3\", element=\"c79c24b6-b290-4041-827d-48fd8343ccd2\")>,\n",
       " <selenium.webdriver.remote.webelement.WebElement (session=\"4cd4a1076f0bdfbdcfef9f5f4f7175f3\", element=\"d3b2ad8e-f72c-4bb4-863e-cad9a329b914\")>,\n",
       " <selenium.webdriver.remote.webelement.WebElement (session=\"4cd4a1076f0bdfbdcfef9f5f4f7175f3\", element=\"f954fae5-8c2c-4bea-9164-c92efec4262d\")>,\n",
       " <selenium.webdriver.remote.webelement.WebElement (session=\"4cd4a1076f0bdfbdcfef9f5f4f7175f3\", element=\"6e909061-64b4-48cd-8ea1-a5c17840f9dd\")>,\n",
       " <selenium.webdriver.remote.webelement.WebElement (session=\"4cd4a1076f0bdfbdcfef9f5f4f7175f3\", element=\"c81e4ef6-6461-4777-aa62-c6cf84e52af4\")>,\n",
       " <selenium.webdriver.remote.webelement.WebElement (session=\"4cd4a1076f0bdfbdcfef9f5f4f7175f3\", element=\"b5c7d920-f621-4651-a96d-6860280b0713\")>,\n",
       " <selenium.webdriver.remote.webelement.WebElement (session=\"4cd4a1076f0bdfbdcfef9f5f4f7175f3\", element=\"f121c273-b153-47ef-9bbb-65f59d77f502\")>,\n",
       " <selenium.webdriver.remote.webelement.WebElement (session=\"4cd4a1076f0bdfbdcfef9f5f4f7175f3\", element=\"b68da5b4-9d05-4cd5-9f11-41a54b7dcf0e\")>,\n",
       " <selenium.webdriver.remote.webelement.WebElement (session=\"4cd4a1076f0bdfbdcfef9f5f4f7175f3\", element=\"11c22558-d739-40cc-9189-f8b38d421aa3\")>,\n",
       " <selenium.webdriver.remote.webelement.WebElement (session=\"4cd4a1076f0bdfbdcfef9f5f4f7175f3\", element=\"56731920-9957-45cc-8513-b05086663330\")>,\n",
       " <selenium.webdriver.remote.webelement.WebElement (session=\"4cd4a1076f0bdfbdcfef9f5f4f7175f3\", element=\"d13b15f5-ffd3-423b-8110-1bd2e643b12b\")>,\n",
       " <selenium.webdriver.remote.webelement.WebElement (session=\"4cd4a1076f0bdfbdcfef9f5f4f7175f3\", element=\"697e19aa-ded1-4ddf-b1bd-adb7711390e9\")>,\n",
       " <selenium.webdriver.remote.webelement.WebElement (session=\"4cd4a1076f0bdfbdcfef9f5f4f7175f3\", element=\"12af8cb1-c384-483e-a37d-013d9be97aca\")>,\n",
       " <selenium.webdriver.remote.webelement.WebElement (session=\"4cd4a1076f0bdfbdcfef9f5f4f7175f3\", element=\"596e0e82-4748-4e45-98a6-e06c65878c69\")>,\n",
       " <selenium.webdriver.remote.webelement.WebElement (session=\"4cd4a1076f0bdfbdcfef9f5f4f7175f3\", element=\"c6c109df-19fd-4a3a-af18-642585bc7227\")>,\n",
       " <selenium.webdriver.remote.webelement.WebElement (session=\"4cd4a1076f0bdfbdcfef9f5f4f7175f3\", element=\"786db6dc-655b-479c-9603-cc16c8d85544\")>,\n",
       " <selenium.webdriver.remote.webelement.WebElement (session=\"4cd4a1076f0bdfbdcfef9f5f4f7175f3\", element=\"da7dd0b5-e9b7-425f-b308-b5a3ec261392\")>,\n",
       " <selenium.webdriver.remote.webelement.WebElement (session=\"4cd4a1076f0bdfbdcfef9f5f4f7175f3\", element=\"0c65ddb8-983e-4110-98de-77aae76bc951\")>,\n",
       " <selenium.webdriver.remote.webelement.WebElement (session=\"4cd4a1076f0bdfbdcfef9f5f4f7175f3\", element=\"1e2db22c-f49d-4f0c-a10b-65fe1a373873\")>,\n",
       " <selenium.webdriver.remote.webelement.WebElement (session=\"4cd4a1076f0bdfbdcfef9f5f4f7175f3\", element=\"12539ef5-3285-4399-ae2b-6eeb7a2e373f\")>,\n",
       " <selenium.webdriver.remote.webelement.WebElement (session=\"4cd4a1076f0bdfbdcfef9f5f4f7175f3\", element=\"0d5b4ca7-6df4-4089-afcb-43afe1e5ac1a\")>,\n",
       " <selenium.webdriver.remote.webelement.WebElement (session=\"4cd4a1076f0bdfbdcfef9f5f4f7175f3\", element=\"a2abde45-d7c9-4373-9c4b-dd32e8e118f1\")>,\n",
       " <selenium.webdriver.remote.webelement.WebElement (session=\"4cd4a1076f0bdfbdcfef9f5f4f7175f3\", element=\"191e5a11-41b5-4bfb-bc0a-af45f092b611\")>,\n",
       " <selenium.webdriver.remote.webelement.WebElement (session=\"4cd4a1076f0bdfbdcfef9f5f4f7175f3\", element=\"f73528a1-7897-4bc2-a19a-1c0077c30c53\")>,\n",
       " <selenium.webdriver.remote.webelement.WebElement (session=\"4cd4a1076f0bdfbdcfef9f5f4f7175f3\", element=\"c90a97fc-7623-479e-9485-825a6aeb74c4\")>,\n",
       " <selenium.webdriver.remote.webelement.WebElement (session=\"4cd4a1076f0bdfbdcfef9f5f4f7175f3\", element=\"0c2bb189-ed93-4767-8f62-1ead03d2d3e5\")>,\n",
       " <selenium.webdriver.remote.webelement.WebElement (session=\"4cd4a1076f0bdfbdcfef9f5f4f7175f3\", element=\"85cfb069-a4db-43c0-980a-e88e1fc83bd4\")>,\n",
       " <selenium.webdriver.remote.webelement.WebElement (session=\"4cd4a1076f0bdfbdcfef9f5f4f7175f3\", element=\"02067016-cf66-4255-93e3-373a257fe3e6\")>,\n",
       " <selenium.webdriver.remote.webelement.WebElement (session=\"4cd4a1076f0bdfbdcfef9f5f4f7175f3\", element=\"490e7286-380a-404f-ad12-e9bb73466691\")>,\n",
       " <selenium.webdriver.remote.webelement.WebElement (session=\"4cd4a1076f0bdfbdcfef9f5f4f7175f3\", element=\"ddc8a5a6-582f-430c-bb4c-438651bcae05\")>,\n",
       " <selenium.webdriver.remote.webelement.WebElement (session=\"4cd4a1076f0bdfbdcfef9f5f4f7175f3\", element=\"cad81136-721a-404c-8909-bada1690042a\")>,\n",
       " <selenium.webdriver.remote.webelement.WebElement (session=\"4cd4a1076f0bdfbdcfef9f5f4f7175f3\", element=\"93805b96-2a70-4af8-bdb3-48997f5d52d8\")>,\n",
       " <selenium.webdriver.remote.webelement.WebElement (session=\"4cd4a1076f0bdfbdcfef9f5f4f7175f3\", element=\"47d00e0e-2c81-4488-a47e-36cc19c93ea1\")>,\n",
       " <selenium.webdriver.remote.webelement.WebElement (session=\"4cd4a1076f0bdfbdcfef9f5f4f7175f3\", element=\"f5376ca9-ffb1-4630-a1d9-36ca72301efb\")>,\n",
       " <selenium.webdriver.remote.webelement.WebElement (session=\"4cd4a1076f0bdfbdcfef9f5f4f7175f3\", element=\"2903b4f7-0e28-4485-ae1f-7638727077e1\")>,\n",
       " <selenium.webdriver.remote.webelement.WebElement (session=\"4cd4a1076f0bdfbdcfef9f5f4f7175f3\", element=\"f82d1096-84de-48d1-bba5-992494fe0787\")>,\n",
       " <selenium.webdriver.remote.webelement.WebElement (session=\"4cd4a1076f0bdfbdcfef9f5f4f7175f3\", element=\"f556185d-8412-427b-87ef-682b1abd3dcf\")>,\n",
       " <selenium.webdriver.remote.webelement.WebElement (session=\"4cd4a1076f0bdfbdcfef9f5f4f7175f3\", element=\"89a58a35-5a69-4044-91ad-443c996cedc7\")>,\n",
       " <selenium.webdriver.remote.webelement.WebElement (session=\"4cd4a1076f0bdfbdcfef9f5f4f7175f3\", element=\"54af956c-8d00-4093-a283-5c9ec6bba462\")>,\n",
       " <selenium.webdriver.remote.webelement.WebElement (session=\"4cd4a1076f0bdfbdcfef9f5f4f7175f3\", element=\"c170a939-2f75-4f7a-9566-81d2020a2108\")>,\n",
       " <selenium.webdriver.remote.webelement.WebElement (session=\"4cd4a1076f0bdfbdcfef9f5f4f7175f3\", element=\"c112f26e-b27d-48e4-96ef-96fd04b97ae0\")>,\n",
       " <selenium.webdriver.remote.webelement.WebElement (session=\"4cd4a1076f0bdfbdcfef9f5f4f7175f3\", element=\"99fcaa60-3d80-4d53-b517-0534682ede2c\")>,\n",
       " <selenium.webdriver.remote.webelement.WebElement (session=\"4cd4a1076f0bdfbdcfef9f5f4f7175f3\", element=\"58a73df2-200a-4f86-8c25-33863a64989b\")>,\n",
       " <selenium.webdriver.remote.webelement.WebElement (session=\"4cd4a1076f0bdfbdcfef9f5f4f7175f3\", element=\"d8374393-f8a6-4341-acbf-d27131bde7fc\")>,\n",
       " <selenium.webdriver.remote.webelement.WebElement (session=\"4cd4a1076f0bdfbdcfef9f5f4f7175f3\", element=\"afb04036-d6a3-43b5-879e-2f3346acc8e9\")>,\n",
       " <selenium.webdriver.remote.webelement.WebElement (session=\"4cd4a1076f0bdfbdcfef9f5f4f7175f3\", element=\"ca761886-d51e-4acd-88fa-75d66c9d1d98\")>,\n",
       " <selenium.webdriver.remote.webelement.WebElement (session=\"4cd4a1076f0bdfbdcfef9f5f4f7175f3\", element=\"3fd95cd2-86a8-40f7-b0aa-d6c7d2a7cbcc\")>,\n",
       " <selenium.webdriver.remote.webelement.WebElement (session=\"4cd4a1076f0bdfbdcfef9f5f4f7175f3\", element=\"66077049-eb5d-48bd-8dee-78df8e37d2c8\")>,\n",
       " <selenium.webdriver.remote.webelement.WebElement (session=\"4cd4a1076f0bdfbdcfef9f5f4f7175f3\", element=\"85385b0b-d5d6-4f67-88d1-ccf601d22c06\")>,\n",
       " <selenium.webdriver.remote.webelement.WebElement (session=\"4cd4a1076f0bdfbdcfef9f5f4f7175f3\", element=\"e8547ec9-751d-4919-8df0-dee28a60f92c\")>,\n",
       " <selenium.webdriver.remote.webelement.WebElement (session=\"4cd4a1076f0bdfbdcfef9f5f4f7175f3\", element=\"1a1fd324-a1ff-47b1-95f6-a33066ae7d5f\")>,\n",
       " <selenium.webdriver.remote.webelement.WebElement (session=\"4cd4a1076f0bdfbdcfef9f5f4f7175f3\", element=\"cd627ce4-cacd-4b8b-a6e2-32db5c6f9727\")>,\n",
       " <selenium.webdriver.remote.webelement.WebElement (session=\"4cd4a1076f0bdfbdcfef9f5f4f7175f3\", element=\"5191bab7-811e-4ab6-af95-57e707dc9690\")>,\n",
       " <selenium.webdriver.remote.webelement.WebElement (session=\"4cd4a1076f0bdfbdcfef9f5f4f7175f3\", element=\"f17484bb-e92a-4c15-bf3a-7bc7214b6ecb\")>,\n",
       " <selenium.webdriver.remote.webelement.WebElement (session=\"4cd4a1076f0bdfbdcfef9f5f4f7175f3\", element=\"b2ec061a-63e9-4fde-8042-3a3be9e07638\")>,\n",
       " <selenium.webdriver.remote.webelement.WebElement (session=\"4cd4a1076f0bdfbdcfef9f5f4f7175f3\", element=\"ba3c1cb1-1efd-4947-9b3e-f4f165e4fa36\")>,\n",
       " <selenium.webdriver.remote.webelement.WebElement (session=\"4cd4a1076f0bdfbdcfef9f5f4f7175f3\", element=\"2f417041-e2e7-4fb0-9456-883b7f583ab2\")>,\n",
       " <selenium.webdriver.remote.webelement.WebElement (session=\"4cd4a1076f0bdfbdcfef9f5f4f7175f3\", element=\"c241b2d4-aca6-47d1-909b-2cabc25b6345\")>,\n",
       " <selenium.webdriver.remote.webelement.WebElement (session=\"4cd4a1076f0bdfbdcfef9f5f4f7175f3\", element=\"dd335613-92e4-4d0f-939a-2c1f224316b9\")>,\n",
       " <selenium.webdriver.remote.webelement.WebElement (session=\"4cd4a1076f0bdfbdcfef9f5f4f7175f3\", element=\"15b38640-4e27-4d60-ab8b-eb1e5a53c149\")>,\n",
       " <selenium.webdriver.remote.webelement.WebElement (session=\"4cd4a1076f0bdfbdcfef9f5f4f7175f3\", element=\"df658205-8fd9-40e4-9dc9-27b8bb52029d\")>,\n",
       " <selenium.webdriver.remote.webelement.WebElement (session=\"4cd4a1076f0bdfbdcfef9f5f4f7175f3\", element=\"3f974221-9c83-456b-901a-c3797b5a6322\")>,\n",
       " <selenium.webdriver.remote.webelement.WebElement (session=\"4cd4a1076f0bdfbdcfef9f5f4f7175f3\", element=\"a5b155af-9c62-40d7-8eb6-585001a6f50b\")>,\n",
       " <selenium.webdriver.remote.webelement.WebElement (session=\"4cd4a1076f0bdfbdcfef9f5f4f7175f3\", element=\"87bf5b04-33b2-47b1-850b-0020b8b9b5ca\")>,\n",
       " <selenium.webdriver.remote.webelement.WebElement (session=\"4cd4a1076f0bdfbdcfef9f5f4f7175f3\", element=\"60ecca76-5d22-406c-8318-ea159b8e9576\")>,\n",
       " <selenium.webdriver.remote.webelement.WebElement (session=\"4cd4a1076f0bdfbdcfef9f5f4f7175f3\", element=\"d1087600-16b1-4935-80f8-a5ef4ab31da1\")>,\n",
       " <selenium.webdriver.remote.webelement.WebElement (session=\"4cd4a1076f0bdfbdcfef9f5f4f7175f3\", element=\"86da326d-ca2a-4fe4-b066-ffad78531e9e\")>,\n",
       " <selenium.webdriver.remote.webelement.WebElement (session=\"4cd4a1076f0bdfbdcfef9f5f4f7175f3\", element=\"87ad451a-d7d1-444f-a3d3-0b8748dae649\")>,\n",
       " <selenium.webdriver.remote.webelement.WebElement (session=\"4cd4a1076f0bdfbdcfef9f5f4f7175f3\", element=\"126b5a5f-265a-42c7-ace8-7ef4f8810ce6\")>,\n",
       " <selenium.webdriver.remote.webelement.WebElement (session=\"4cd4a1076f0bdfbdcfef9f5f4f7175f3\", element=\"1b5b6cbc-5671-40ea-8b47-54b6e3cd16a2\")>,\n",
       " <selenium.webdriver.remote.webelement.WebElement (session=\"4cd4a1076f0bdfbdcfef9f5f4f7175f3\", element=\"e9f963d6-1fb0-4589-b60a-05d2f6a2dca2\")>,\n",
       " <selenium.webdriver.remote.webelement.WebElement (session=\"4cd4a1076f0bdfbdcfef9f5f4f7175f3\", element=\"b5ed2995-57c0-4ca6-bd31-dff0cda4adb5\")>,\n",
       " <selenium.webdriver.remote.webelement.WebElement (session=\"4cd4a1076f0bdfbdcfef9f5f4f7175f3\", element=\"daad8d74-02bd-426e-981f-7f1b143606a5\")>,\n",
       " <selenium.webdriver.remote.webelement.WebElement (session=\"4cd4a1076f0bdfbdcfef9f5f4f7175f3\", element=\"62675e40-6b81-41a6-9554-6041fcd13b37\")>,\n",
       " <selenium.webdriver.remote.webelement.WebElement (session=\"4cd4a1076f0bdfbdcfef9f5f4f7175f3\", element=\"e4b6ca76-123e-4cf1-80c3-7df5fd271862\")>,\n",
       " <selenium.webdriver.remote.webelement.WebElement (session=\"4cd4a1076f0bdfbdcfef9f5f4f7175f3\", element=\"a9cd5142-54a5-4ece-8acb-08d75f0f4846\")>,\n",
       " <selenium.webdriver.remote.webelement.WebElement (session=\"4cd4a1076f0bdfbdcfef9f5f4f7175f3\", element=\"18d5f4a3-187f-429d-8acd-d179b86f119e\")>,\n",
       " <selenium.webdriver.remote.webelement.WebElement (session=\"4cd4a1076f0bdfbdcfef9f5f4f7175f3\", element=\"60d8811d-5b78-4006-9bb6-5919ac4f86f8\")>,\n",
       " <selenium.webdriver.remote.webelement.WebElement (session=\"4cd4a1076f0bdfbdcfef9f5f4f7175f3\", element=\"8c649538-c609-4f31-85e9-e5b3ef352d70\")>,\n",
       " <selenium.webdriver.remote.webelement.WebElement (session=\"4cd4a1076f0bdfbdcfef9f5f4f7175f3\", element=\"7b9e9671-5206-4eaa-ae33-12ad9c0e7fed\")>,\n",
       " <selenium.webdriver.remote.webelement.WebElement (session=\"4cd4a1076f0bdfbdcfef9f5f4f7175f3\", element=\"2b1dd065-cd86-4e68-9689-c78e2ada1cc3\")>,\n",
       " <selenium.webdriver.remote.webelement.WebElement (session=\"4cd4a1076f0bdfbdcfef9f5f4f7175f3\", element=\"739df1a9-7e94-4867-a5d0-30ead1d11b70\")>,\n",
       " <selenium.webdriver.remote.webelement.WebElement (session=\"4cd4a1076f0bdfbdcfef9f5f4f7175f3\", element=\"0d089a5f-b7ce-4c54-8014-2e35cac5897e\")>,\n",
       " <selenium.webdriver.remote.webelement.WebElement (session=\"4cd4a1076f0bdfbdcfef9f5f4f7175f3\", element=\"075c73ce-9959-401e-b5a8-29c60d0fa397\")>]"
      ]
     },
     "execution_count": 12,
     "metadata": {},
     "output_type": "execute_result"
    }
   ],
   "source": [
    "header2=browser.find_elements(\"xpath\",\"//div[@class='td-wrap-in']\")\n",
    "header2"
   ]
  },
  {
   "cell_type": "code",
   "execution_count": 14,
   "id": "2a623ee0",
   "metadata": {},
   "outputs": [
    {
     "data": {
      "text/plain": [
       "['82.1', '93.6', '70.1', '99.3', '38', '96', '100', '94.6', '59.1']"
      ]
     },
     "execution_count": 14,
     "metadata": {},
     "output_type": "execute_result"
    }
   ],
   "source": [
    "#PARSING DATA\n",
    "value_head=[]\n",
    "for data in header2:\n",
    "    #get the text data\n",
    "    temp=data.text\n",
    "    value_head.append(temp)\n",
    "value=value_head[91:100]\n",
    "value"
   ]
  },
  {
   "cell_type": "code",
   "execution_count": 15,
   "id": "f67d74c0",
   "metadata": {},
   "outputs": [
    {
     "data": {
      "text/plain": [
       "{'Name': 'Australian National University (ANU)',\n",
       " 'Location': 'Canberra, Australia',\n",
       " 'Rank': '30',\n",
       " 'Overall Score': '82.1',\n",
       " 'Academic Reputation': '93.6',\n",
       " 'Employer Reputation': '70.1',\n",
       " 'Citations per Faculty': '99.3',\n",
       " 'Faculty Student Ratio': '38',\n",
       " 'International Students Ratio': '96',\n",
       " 'International Faculty Ratio': '100',\n",
       " 'International Research Network\\nUnweighted': '94.6',\n",
       " 'Employment Outcomes\\nUnweighted': '59.1'}"
      ]
     },
     "execution_count": 15,
     "metadata": {},
     "output_type": "execute_result"
    }
   ],
   "source": [
    "d={}\n",
    "\n",
    "d['Name']=value_head[90]\n",
    "d['Location']=loc[9]\n",
    "d['Rank']=RANK[9]\n",
    "\n",
    "for i in range(len(column_head)):\n",
    "    d[column_head[i]]=value[i]\n",
    "d"
   ]
  },
  {
   "cell_type": "code",
   "execution_count": 16,
   "id": "3f84fd65",
   "metadata": {},
   "outputs": [
    {
     "data": {
      "text/plain": [
       "'{\"Name\": \"Australian National University (ANU)\", \"Location\": \"Canberra, Australia\", \"Rank\": \"30\", \"Overall Score\": \"82.1\", \"Academic Reputation\": \"93.6\", \"Employer Reputation\": \"70.1\", \"Citations per Faculty\": \"99.3\", \"Faculty Student Ratio\": \"38\", \"International Students Ratio\": \"96\", \"International Faculty Ratio\": \"100\", \"International Research Network\\\\nUnweighted\": \"94.6\", \"Employment Outcomes\\\\nUnweighted\": \"59.1\"}'"
      ]
     },
     "execution_count": 16,
     "metadata": {},
     "output_type": "execute_result"
    }
   ],
   "source": [
    "s1=json.dumps(d)\n",
    "s1"
   ]
  },
  {
   "cell_type": "code",
   "execution_count": 17,
   "id": "7a6d2107",
   "metadata": {},
   "outputs": [],
   "source": [
    "with open('Australian National University (ANU).json','w') as f:\n",
    "    json.dump(d,f)"
   ]
  },
  {
   "cell_type": "code",
   "execution_count": null,
   "id": "19c86d67",
   "metadata": {},
   "outputs": [],
   "source": []
  }
 ],
 "metadata": {
  "kernelspec": {
   "display_name": "Python 3 (ipykernel)",
   "language": "python",
   "name": "python3"
  },
  "language_info": {
   "codemirror_mode": {
    "name": "ipython",
    "version": 3
   },
   "file_extension": ".py",
   "mimetype": "text/x-python",
   "name": "python",
   "nbconvert_exporter": "python",
   "pygments_lexer": "ipython3",
   "version": "3.9.12"
  }
 },
 "nbformat": 4,
 "nbformat_minor": 5
}
