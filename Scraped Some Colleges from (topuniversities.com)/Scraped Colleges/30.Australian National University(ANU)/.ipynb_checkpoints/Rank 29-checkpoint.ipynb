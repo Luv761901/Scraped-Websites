{
 "cells": [
  {
   "cell_type": "code",
   "execution_count": 1,
   "id": "f611fd72",
   "metadata": {},
   "outputs": [],
   "source": [
    "from selenium import webdriver\n",
    "from selenium.webdriver.chrome.service import Service\n",
    "import pandas as pd\n",
    "import json"
   ]
  },
  {
   "cell_type": "code",
   "execution_count": 2,
   "id": "78d74514",
   "metadata": {},
   "outputs": [],
   "source": [
    "path = Service('C:\\chromedriver.exe')"
   ]
  },
  {
   "cell_type": "code",
   "execution_count": 3,
   "id": "060eaf8f",
   "metadata": {},
   "outputs": [],
   "source": [
    "# set path for the driver\n",
    "browser = webdriver.Chrome(service = path)"
   ]
  },
  {
   "cell_type": "code",
   "execution_count": 4,
   "id": "9de03242",
   "metadata": {},
   "outputs": [],
   "source": [
    "url = \"https://www.topuniversities.com/university-rankings/world-university-rankings/2023\""
   ]
  },
  {
   "cell_type": "code",
   "execution_count": 5,
   "id": "3eadac28",
   "metadata": {},
   "outputs": [],
   "source": [
    "# open the page url ion chrome\n",
    "browser.get(url)"
   ]
  },
  {
   "cell_type": "code",
   "execution_count": 6,
   "id": "55a794a9",
   "metadata": {},
   "outputs": [
    {
     "data": {
      "text/plain": [
       "[<selenium.webdriver.remote.webelement.WebElement (session=\"aef2990f1441068daec25e11d61a1f5c\", element=\"e2815276-57cd-4ef7-af0d-ff34c0be39f4\")>,\n",
       " <selenium.webdriver.remote.webelement.WebElement (session=\"aef2990f1441068daec25e11d61a1f5c\", element=\"03e1b619-747c-4f6a-89ab-143376ec4557\")>,\n",
       " <selenium.webdriver.remote.webelement.WebElement (session=\"aef2990f1441068daec25e11d61a1f5c\", element=\"7e2b980d-aef9-4403-91c2-5e0aed214b52\")>,\n",
       " <selenium.webdriver.remote.webelement.WebElement (session=\"aef2990f1441068daec25e11d61a1f5c\", element=\"b887924d-bd9b-4535-9ed5-b9ac27b46ef5\")>,\n",
       " <selenium.webdriver.remote.webelement.WebElement (session=\"aef2990f1441068daec25e11d61a1f5c\", element=\"07d7912d-217e-46c8-a9f3-0fc44a858be7\")>,\n",
       " <selenium.webdriver.remote.webelement.WebElement (session=\"aef2990f1441068daec25e11d61a1f5c\", element=\"9744e46e-8a02-418c-9014-a7197f1c815b\")>,\n",
       " <selenium.webdriver.remote.webelement.WebElement (session=\"aef2990f1441068daec25e11d61a1f5c\", element=\"88d3f2a9-2176-42c6-a1ff-357e51362686\")>,\n",
       " <selenium.webdriver.remote.webelement.WebElement (session=\"aef2990f1441068daec25e11d61a1f5c\", element=\"48cbde6b-c52c-4671-8ab1-a70f2ad53353\")>,\n",
       " <selenium.webdriver.remote.webelement.WebElement (session=\"aef2990f1441068daec25e11d61a1f5c\", element=\"4b9423f5-a0dc-48cb-b48e-88c0a4cf8c19\")>]"
      ]
     },
     "execution_count": 6,
     "metadata": {},
     "output_type": "execute_result"
    }
   ],
   "source": [
    "# GET EACH COLLEGE SPECIFICATION HEADERS\n",
    "header=browser.find_elements(\"xpath\",\"//div[@class='_click-function_ind']\")\n",
    "header"
   ]
  },
  {
   "cell_type": "code",
   "execution_count": 7,
   "id": "6048341b",
   "metadata": {},
   "outputs": [
    {
     "data": {
      "text/plain": [
       "['Overall Score',\n",
       " 'Academic Reputation',\n",
       " 'Employer Reputation',\n",
       " 'Citations per Faculty',\n",
       " 'Faculty Student Ratio',\n",
       " 'International Students Ratio',\n",
       " 'International Faculty Ratio',\n",
       " 'International Research Network\\nUnweighted',\n",
       " 'Employment Outcomes\\nUnweighted']"
      ]
     },
     "execution_count": 7,
     "metadata": {},
     "output_type": "execute_result"
    }
   ],
   "source": [
    "#PARSING DATA\n",
    "column_head=[]\n",
    "for data in header:\n",
    "    #get the text data\n",
    "    temp=data.text\n",
    "    column_head.append(temp)\n",
    "column_head"
   ]
  },
  {
   "cell_type": "code",
   "execution_count": 8,
   "id": "8c98e72f",
   "metadata": {},
   "outputs": [
    {
     "data": {
      "text/plain": [
       "[<selenium.webdriver.remote.webelement.WebElement (session=\"aef2990f1441068daec25e11d61a1f5c\", element=\"10af26b2-2c0a-409b-ac86-f1c6ab7ee672\")>,\n",
       " <selenium.webdriver.remote.webelement.WebElement (session=\"aef2990f1441068daec25e11d61a1f5c\", element=\"dc9826a0-351d-4728-97d4-ca4c4bd239d7\")>,\n",
       " <selenium.webdriver.remote.webelement.WebElement (session=\"aef2990f1441068daec25e11d61a1f5c\", element=\"81c65a9e-2d4f-492d-8537-7e2fc001e6b4\")>,\n",
       " <selenium.webdriver.remote.webelement.WebElement (session=\"aef2990f1441068daec25e11d61a1f5c\", element=\"610f21cc-7252-461d-af5d-010a8b5d585c\")>,\n",
       " <selenium.webdriver.remote.webelement.WebElement (session=\"aef2990f1441068daec25e11d61a1f5c\", element=\"c038ce40-924e-4479-bab5-13bd37f3b0e4\")>,\n",
       " <selenium.webdriver.remote.webelement.WebElement (session=\"aef2990f1441068daec25e11d61a1f5c\", element=\"bc9ac46c-c5bc-43bd-96ea-c355f9cf74c1\")>,\n",
       " <selenium.webdriver.remote.webelement.WebElement (session=\"aef2990f1441068daec25e11d61a1f5c\", element=\"430fb4a9-5da9-4c26-af37-be11cf1631cb\")>,\n",
       " <selenium.webdriver.remote.webelement.WebElement (session=\"aef2990f1441068daec25e11d61a1f5c\", element=\"c06e2d22-ac31-44a3-9c32-7839b20c3d4d\")>,\n",
       " <selenium.webdriver.remote.webelement.WebElement (session=\"aef2990f1441068daec25e11d61a1f5c\", element=\"87ce4cc5-11ed-4746-87f8-3c54314ed069\")>,\n",
       " <selenium.webdriver.remote.webelement.WebElement (session=\"aef2990f1441068daec25e11d61a1f5c\", element=\"9ce19dd1-1e18-405d-ab28-dd18f260ab6d\")>,\n",
       " <selenium.webdriver.remote.webelement.WebElement (session=\"aef2990f1441068daec25e11d61a1f5c\", element=\"b496ca6a-c3cb-4ddf-b284-a07b9f87dd19\")>,\n",
       " <selenium.webdriver.remote.webelement.WebElement (session=\"aef2990f1441068daec25e11d61a1f5c\", element=\"d5e88946-5f70-4ab7-9f8c-259085988aa2\")>,\n",
       " <selenium.webdriver.remote.webelement.WebElement (session=\"aef2990f1441068daec25e11d61a1f5c\", element=\"cc32729d-b1a7-4ac7-a526-0ca5758185ff\")>,\n",
       " <selenium.webdriver.remote.webelement.WebElement (session=\"aef2990f1441068daec25e11d61a1f5c\", element=\"01de649c-fd33-4e13-b6cf-73e896f45f5b\")>,\n",
       " <selenium.webdriver.remote.webelement.WebElement (session=\"aef2990f1441068daec25e11d61a1f5c\", element=\"fad7f920-df1b-4927-ae45-3909b4e0ae5d\")>,\n",
       " <selenium.webdriver.remote.webelement.WebElement (session=\"aef2990f1441068daec25e11d61a1f5c\", element=\"11ec2ad5-3119-4651-a1f3-fb938171e2e8\")>,\n",
       " <selenium.webdriver.remote.webelement.WebElement (session=\"aef2990f1441068daec25e11d61a1f5c\", element=\"9b043f8b-3254-427f-8186-db8267c4e1e3\")>,\n",
       " <selenium.webdriver.remote.webelement.WebElement (session=\"aef2990f1441068daec25e11d61a1f5c\", element=\"0653b658-dd3b-4a5b-a411-a4fab45a633d\")>,\n",
       " <selenium.webdriver.remote.webelement.WebElement (session=\"aef2990f1441068daec25e11d61a1f5c\", element=\"bbab7fbf-ff68-494a-84cf-89ae9e0c0781\")>,\n",
       " <selenium.webdriver.remote.webelement.WebElement (session=\"aef2990f1441068daec25e11d61a1f5c\", element=\"dff98cd6-16ce-411f-ac0b-988d5b76cc13\")>,\n",
       " <selenium.webdriver.remote.webelement.WebElement (session=\"aef2990f1441068daec25e11d61a1f5c\", element=\"793021f5-b85a-4d00-bc3e-f806f6c1c488\")>,\n",
       " <selenium.webdriver.remote.webelement.WebElement (session=\"aef2990f1441068daec25e11d61a1f5c\", element=\"c6312fe8-756c-4a30-99ef-1a225c15d021\")>,\n",
       " <selenium.webdriver.remote.webelement.WebElement (session=\"aef2990f1441068daec25e11d61a1f5c\", element=\"a07eea0a-5135-4690-80e8-cd8db36c1f7d\")>,\n",
       " <selenium.webdriver.remote.webelement.WebElement (session=\"aef2990f1441068daec25e11d61a1f5c\", element=\"b6c7e2d8-3351-483c-b07a-2e8f059f406b\")>,\n",
       " <selenium.webdriver.remote.webelement.WebElement (session=\"aef2990f1441068daec25e11d61a1f5c\", element=\"b40ab021-ceba-4107-894f-fc40140cdbf6\")>,\n",
       " <selenium.webdriver.remote.webelement.WebElement (session=\"aef2990f1441068daec25e11d61a1f5c\", element=\"527d0b95-8235-45f8-94cd-09de9675820f\")>,\n",
       " <selenium.webdriver.remote.webelement.WebElement (session=\"aef2990f1441068daec25e11d61a1f5c\", element=\"b178a0ac-1e43-4d1b-9de3-f8ea29d0403a\")>,\n",
       " <selenium.webdriver.remote.webelement.WebElement (session=\"aef2990f1441068daec25e11d61a1f5c\", element=\"b090c62c-8ca3-4f04-a119-8d26b45816f1\")>,\n",
       " <selenium.webdriver.remote.webelement.WebElement (session=\"aef2990f1441068daec25e11d61a1f5c\", element=\"f22a18d9-aaa6-41aa-965b-654a51cf7a23\")>,\n",
       " <selenium.webdriver.remote.webelement.WebElement (session=\"aef2990f1441068daec25e11d61a1f5c\", element=\"1fa1be42-9869-42d1-9ff9-25f953fa595d\")>,\n",
       " <selenium.webdriver.remote.webelement.WebElement (session=\"aef2990f1441068daec25e11d61a1f5c\", element=\"de0556a3-a30d-4fa6-82b1-0b8978a9c851\")>,\n",
       " <selenium.webdriver.remote.webelement.WebElement (session=\"aef2990f1441068daec25e11d61a1f5c\", element=\"5d073c27-0b72-4041-94c8-dce753a45b68\")>,\n",
       " <selenium.webdriver.remote.webelement.WebElement (session=\"aef2990f1441068daec25e11d61a1f5c\", element=\"37cc40e7-a4ec-422c-824a-fe6dd260ad8d\")>,\n",
       " <selenium.webdriver.remote.webelement.WebElement (session=\"aef2990f1441068daec25e11d61a1f5c\", element=\"a825cb67-b547-4d53-9d5b-06c26e8fb58c\")>,\n",
       " <selenium.webdriver.remote.webelement.WebElement (session=\"aef2990f1441068daec25e11d61a1f5c\", element=\"c6d9c4c4-4e4a-4ddd-9d3a-52182c0e08ce\")>,\n",
       " <selenium.webdriver.remote.webelement.WebElement (session=\"aef2990f1441068daec25e11d61a1f5c\", element=\"edc73b5b-e125-4fb1-b714-5bb97fed6079\")>,\n",
       " <selenium.webdriver.remote.webelement.WebElement (session=\"aef2990f1441068daec25e11d61a1f5c\", element=\"011ac86e-10b1-45ba-9d91-6200a9d2592c\")>,\n",
       " <selenium.webdriver.remote.webelement.WebElement (session=\"aef2990f1441068daec25e11d61a1f5c\", element=\"9d58ac39-f544-4c67-b991-87f4b71b9ae1\")>,\n",
       " <selenium.webdriver.remote.webelement.WebElement (session=\"aef2990f1441068daec25e11d61a1f5c\", element=\"7fd91e7d-a8d8-4b32-af0c-d2cd5f6f008c\")>,\n",
       " <selenium.webdriver.remote.webelement.WebElement (session=\"aef2990f1441068daec25e11d61a1f5c\", element=\"abffcda3-eaf1-41cf-a6a5-192cb403bace\")>,\n",
       " <selenium.webdriver.remote.webelement.WebElement (session=\"aef2990f1441068daec25e11d61a1f5c\", element=\"555e8d05-8f05-468d-be16-963067b8bacc\")>,\n",
       " <selenium.webdriver.remote.webelement.WebElement (session=\"aef2990f1441068daec25e11d61a1f5c\", element=\"c6fd1d10-24d8-45ed-ba31-444998a0bb1c\")>,\n",
       " <selenium.webdriver.remote.webelement.WebElement (session=\"aef2990f1441068daec25e11d61a1f5c\", element=\"6c00e2cb-7bd8-401f-832c-cf69f05d5db9\")>,\n",
       " <selenium.webdriver.remote.webelement.WebElement (session=\"aef2990f1441068daec25e11d61a1f5c\", element=\"5f7b8839-f1ce-416c-a9a7-1cab47354763\")>,\n",
       " <selenium.webdriver.remote.webelement.WebElement (session=\"aef2990f1441068daec25e11d61a1f5c\", element=\"c184dacf-1c6b-4327-99bd-d2a378e959b7\")>,\n",
       " <selenium.webdriver.remote.webelement.WebElement (session=\"aef2990f1441068daec25e11d61a1f5c\", element=\"84c6a2ac-2883-4258-b75a-aedfe0845a60\")>,\n",
       " <selenium.webdriver.remote.webelement.WebElement (session=\"aef2990f1441068daec25e11d61a1f5c\", element=\"fae84681-4664-400c-bdad-1bc8f31be5ce\")>,\n",
       " <selenium.webdriver.remote.webelement.WebElement (session=\"aef2990f1441068daec25e11d61a1f5c\", element=\"42c8d1eb-2b44-4a0c-b039-f7821a498f95\")>,\n",
       " <selenium.webdriver.remote.webelement.WebElement (session=\"aef2990f1441068daec25e11d61a1f5c\", element=\"c532a622-a25e-4b91-866b-066771847882\")>,\n",
       " <selenium.webdriver.remote.webelement.WebElement (session=\"aef2990f1441068daec25e11d61a1f5c\", element=\"ad33749a-b761-430c-9da2-6e82f0e0853a\")>,\n",
       " <selenium.webdriver.remote.webelement.WebElement (session=\"aef2990f1441068daec25e11d61a1f5c\", element=\"76283eff-44f0-4d36-8d40-a2c2dbc61347\")>,\n",
       " <selenium.webdriver.remote.webelement.WebElement (session=\"aef2990f1441068daec25e11d61a1f5c\", element=\"23d39370-0a2a-4329-8da2-c4ac1c6977f2\")>,\n",
       " <selenium.webdriver.remote.webelement.WebElement (session=\"aef2990f1441068daec25e11d61a1f5c\", element=\"ad68d765-d5a6-413a-8b23-6ce90de47651\")>,\n",
       " <selenium.webdriver.remote.webelement.WebElement (session=\"aef2990f1441068daec25e11d61a1f5c\", element=\"8a48f980-d94c-4eeb-aa72-ae3277c4d670\")>,\n",
       " <selenium.webdriver.remote.webelement.WebElement (session=\"aef2990f1441068daec25e11d61a1f5c\", element=\"7b638250-f53c-4217-acfc-824b961cf4a0\")>,\n",
       " <selenium.webdriver.remote.webelement.WebElement (session=\"aef2990f1441068daec25e11d61a1f5c\", element=\"a9a80c36-86ed-4ddb-8b99-2097d4adb4e3\")>,\n",
       " <selenium.webdriver.remote.webelement.WebElement (session=\"aef2990f1441068daec25e11d61a1f5c\", element=\"bdcc29c7-7902-4be9-8e82-2f721b3da1ec\")>,\n",
       " <selenium.webdriver.remote.webelement.WebElement (session=\"aef2990f1441068daec25e11d61a1f5c\", element=\"83e1fc90-6e47-44ba-9fc5-b745a49c3f23\")>,\n",
       " <selenium.webdriver.remote.webelement.WebElement (session=\"aef2990f1441068daec25e11d61a1f5c\", element=\"12a9e2b2-acc0-473d-90a2-bc0ffaa3a889\")>,\n",
       " <selenium.webdriver.remote.webelement.WebElement (session=\"aef2990f1441068daec25e11d61a1f5c\", element=\"81a70457-5f3d-4949-a300-e70ce145f54a\")>,\n",
       " <selenium.webdriver.remote.webelement.WebElement (session=\"aef2990f1441068daec25e11d61a1f5c\", element=\"f83d9a84-7a44-466f-b31d-ae9a2256264d\")>,\n",
       " <selenium.webdriver.remote.webelement.WebElement (session=\"aef2990f1441068daec25e11d61a1f5c\", element=\"7cfe2deb-6c34-493b-b7de-cc0b9bb384df\")>,\n",
       " <selenium.webdriver.remote.webelement.WebElement (session=\"aef2990f1441068daec25e11d61a1f5c\", element=\"87250f64-d2cc-4dd8-a9e7-766819c93706\")>,\n",
       " <selenium.webdriver.remote.webelement.WebElement (session=\"aef2990f1441068daec25e11d61a1f5c\", element=\"604c86fc-1bb4-4a3f-a90d-be1206f0819e\")>,\n",
       " <selenium.webdriver.remote.webelement.WebElement (session=\"aef2990f1441068daec25e11d61a1f5c\", element=\"73765978-04e6-4e90-ad4d-e709a950c00c\")>,\n",
       " <selenium.webdriver.remote.webelement.WebElement (session=\"aef2990f1441068daec25e11d61a1f5c\", element=\"7835cf9d-01a5-494c-b968-bc758451303d\")>,\n",
       " <selenium.webdriver.remote.webelement.WebElement (session=\"aef2990f1441068daec25e11d61a1f5c\", element=\"1b160250-ae8c-4833-b8b3-e4418084b34f\")>,\n",
       " <selenium.webdriver.remote.webelement.WebElement (session=\"aef2990f1441068daec25e11d61a1f5c\", element=\"65b0d81b-80e2-4f01-8683-458cae5ab32c\")>,\n",
       " <selenium.webdriver.remote.webelement.WebElement (session=\"aef2990f1441068daec25e11d61a1f5c\", element=\"7a0b6719-4933-4c8c-bc88-070bcd22fe82\")>,\n",
       " <selenium.webdriver.remote.webelement.WebElement (session=\"aef2990f1441068daec25e11d61a1f5c\", element=\"7bc4d6a0-93e7-4ef0-b512-823e6a8e17ba\")>,\n",
       " <selenium.webdriver.remote.webelement.WebElement (session=\"aef2990f1441068daec25e11d61a1f5c\", element=\"2aaf8a12-05d1-4be0-96a9-d6fc83572f42\")>,\n",
       " <selenium.webdriver.remote.webelement.WebElement (session=\"aef2990f1441068daec25e11d61a1f5c\", element=\"0d63a74c-989d-468b-a1da-19b9ae60029f\")>,\n",
       " <selenium.webdriver.remote.webelement.WebElement (session=\"aef2990f1441068daec25e11d61a1f5c\", element=\"1ba3ba55-251d-43fa-ba57-1744f989989e\")>,\n",
       " <selenium.webdriver.remote.webelement.WebElement (session=\"aef2990f1441068daec25e11d61a1f5c\", element=\"111fe246-2105-40c3-89c4-164edb58a673\")>,\n",
       " <selenium.webdriver.remote.webelement.WebElement (session=\"aef2990f1441068daec25e11d61a1f5c\", element=\"4ea346d3-e181-418f-a84b-2761295c3460\")>,\n",
       " <selenium.webdriver.remote.webelement.WebElement (session=\"aef2990f1441068daec25e11d61a1f5c\", element=\"a6858b5e-c142-4e95-b664-96c5422921c3\")>,\n",
       " <selenium.webdriver.remote.webelement.WebElement (session=\"aef2990f1441068daec25e11d61a1f5c\", element=\"e35602c2-be52-4122-a775-3c2d29b307e0\")>,\n",
       " <selenium.webdriver.remote.webelement.WebElement (session=\"aef2990f1441068daec25e11d61a1f5c\", element=\"a0c133a3-9e04-431a-b950-aac71f3e2d7d\")>,\n",
       " <selenium.webdriver.remote.webelement.WebElement (session=\"aef2990f1441068daec25e11d61a1f5c\", element=\"82fe91e2-88c7-4989-a8fd-2b657ebf4eea\")>,\n",
       " <selenium.webdriver.remote.webelement.WebElement (session=\"aef2990f1441068daec25e11d61a1f5c\", element=\"4226b73b-8399-4cb0-a4ab-a3d3ec89eec1\")>,\n",
       " <selenium.webdriver.remote.webelement.WebElement (session=\"aef2990f1441068daec25e11d61a1f5c\", element=\"1c769a0e-09df-45e2-806b-d95911c66c21\")>,\n",
       " <selenium.webdriver.remote.webelement.WebElement (session=\"aef2990f1441068daec25e11d61a1f5c\", element=\"d0207c34-cd7e-48d6-bc58-168269d1d36a\")>,\n",
       " <selenium.webdriver.remote.webelement.WebElement (session=\"aef2990f1441068daec25e11d61a1f5c\", element=\"e9c2ab35-60fb-49ef-9021-3476e328715c\")>,\n",
       " <selenium.webdriver.remote.webelement.WebElement (session=\"aef2990f1441068daec25e11d61a1f5c\", element=\"a30a09e8-ae75-41df-a4a1-b782b4a37a2e\")>,\n",
       " <selenium.webdriver.remote.webelement.WebElement (session=\"aef2990f1441068daec25e11d61a1f5c\", element=\"ad63c0d5-6afe-4747-9f29-3db67054589a\")>,\n",
       " <selenium.webdriver.remote.webelement.WebElement (session=\"aef2990f1441068daec25e11d61a1f5c\", element=\"5b6d4430-b36c-4096-98f7-fe91be261b2d\")>,\n",
       " <selenium.webdriver.remote.webelement.WebElement (session=\"aef2990f1441068daec25e11d61a1f5c\", element=\"e0bd181b-48e7-4b75-b75c-5d0acabd6889\")>,\n",
       " <selenium.webdriver.remote.webelement.WebElement (session=\"aef2990f1441068daec25e11d61a1f5c\", element=\"d0a9a1a9-8ec0-427d-ace2-b273e410d6ff\")>,\n",
       " <selenium.webdriver.remote.webelement.WebElement (session=\"aef2990f1441068daec25e11d61a1f5c\", element=\"b46f18c5-1073-4872-b92e-9263bcd916fd\")>,\n",
       " <selenium.webdriver.remote.webelement.WebElement (session=\"aef2990f1441068daec25e11d61a1f5c\", element=\"4744fc12-be56-4a4d-86da-ee3c3f913a2c\")>,\n",
       " <selenium.webdriver.remote.webelement.WebElement (session=\"aef2990f1441068daec25e11d61a1f5c\", element=\"b484b3fe-8db5-431b-8d2e-d02569b7efbf\")>,\n",
       " <selenium.webdriver.remote.webelement.WebElement (session=\"aef2990f1441068daec25e11d61a1f5c\", element=\"e92fb9a4-a2e7-4469-a514-c0f00535ac7f\")>,\n",
       " <selenium.webdriver.remote.webelement.WebElement (session=\"aef2990f1441068daec25e11d61a1f5c\", element=\"57c19d88-0616-4c1a-8d75-4dc404a71e42\")>,\n",
       " <selenium.webdriver.remote.webelement.WebElement (session=\"aef2990f1441068daec25e11d61a1f5c\", element=\"b321b4a5-5907-4d95-bad6-b3959b4d8b8c\")>,\n",
       " <selenium.webdriver.remote.webelement.WebElement (session=\"aef2990f1441068daec25e11d61a1f5c\", element=\"5d0545bb-caf9-488f-93a3-faf558f62c0f\")>,\n",
       " <selenium.webdriver.remote.webelement.WebElement (session=\"aef2990f1441068daec25e11d61a1f5c\", element=\"56570a58-da9c-47ed-9a26-25087746bce1\")>,\n",
       " <selenium.webdriver.remote.webelement.WebElement (session=\"aef2990f1441068daec25e11d61a1f5c\", element=\"e2397fe2-0b57-4e65-8445-b5ab2135ce60\")>,\n",
       " <selenium.webdriver.remote.webelement.WebElement (session=\"aef2990f1441068daec25e11d61a1f5c\", element=\"e0a4272b-6a70-400e-9eb2-558d44d37c31\")>,\n",
       " <selenium.webdriver.remote.webelement.WebElement (session=\"aef2990f1441068daec25e11d61a1f5c\", element=\"1340c5cf-a2d9-4bec-bad9-771972ce3fe3\")>,\n",
       " <selenium.webdriver.remote.webelement.WebElement (session=\"aef2990f1441068daec25e11d61a1f5c\", element=\"08528a3f-fbce-4756-a2c7-824c3df0e073\")>]"
      ]
     },
     "execution_count": 8,
     "metadata": {},
     "output_type": "execute_result"
    }
   ],
   "source": [
    "header2=browser.find_elements(\"xpath\",\"//div[@class='td-wrap-in']\")\n",
    "header2"
   ]
  },
  {
   "cell_type": "code",
   "execution_count": 11,
   "id": "2953668e",
   "metadata": {},
   "outputs": [
    {
     "data": {
      "text/plain": [
       "['82.2', '98.6', '97.8', '70.3', '87', '10.3', '12.2', '79.3', '97.7']"
      ]
     },
     "execution_count": 11,
     "metadata": {},
     "output_type": "execute_result"
    }
   ],
   "source": [
    "#PARSING DATA\n",
    "value_head=[]\n",
    "for data in header2:\n",
    "    #get the text data\n",
    "    temp=data.text\n",
    "    value_head.append(temp)\n",
    "value_head=value_head[81:90]\n",
    "value_head"
   ]
  },
  {
   "cell_type": "code",
   "execution_count": 12,
   "id": "26af1d50",
   "metadata": {},
   "outputs": [
    {
     "data": {
      "text/plain": [
       "{'Overall Score': '82.2',\n",
       " 'Academic Reputation': '98.6',\n",
       " 'Employer Reputation': '97.8',\n",
       " 'Citations per Faculty': '70.3',\n",
       " 'Faculty Student Ratio': '87',\n",
       " 'International Students Ratio': '10.3',\n",
       " 'International Faculty Ratio': '12.2',\n",
       " 'International Research Network\\nUnweighted': '79.3',\n",
       " 'Employment Outcomes\\nUnweighted': '97.7'}"
      ]
     },
     "execution_count": 12,
     "metadata": {},
     "output_type": "execute_result"
    }
   ],
   "source": [
    "d={}\n",
    "for i in range(len(column_head)):\n",
    "    d[column_head[i]]=value_head[i]\n",
    "d"
   ]
  },
  {
   "cell_type": "code",
   "execution_count": 13,
   "id": "7e372a23",
   "metadata": {},
   "outputs": [
    {
     "data": {
      "text/plain": [
       "'{\"Overall Score\": \"82.2\", \"Academic Reputation\": \"98.6\", \"Employer Reputation\": \"97.8\", \"Citations per Faculty\": \"70.3\", \"Faculty Student Ratio\": \"87\", \"International Students Ratio\": \"10.3\", \"International Faculty Ratio\": \"12.2\", \"International Research Network\\\\nUnweighted\": \"79.3\", \"Employment Outcomes\\\\nUnweighted\": \"97.7\"}'"
      ]
     },
     "execution_count": 13,
     "metadata": {},
     "output_type": "execute_result"
    }
   ],
   "source": [
    "s1=json.dumps(d)\n",
    "s1"
   ]
  },
  {
   "cell_type": "code",
   "execution_count": 14,
   "id": "62a63e36",
   "metadata": {},
   "outputs": [],
   "source": [
    "with open('Seoul National University.json','w') as f:\n",
    "    json.dump(d,f)"
   ]
  },
  {
   "cell_type": "code",
   "execution_count": null,
   "id": "dbd45d5d",
   "metadata": {},
   "outputs": [],
   "source": []
  }
 ],
 "metadata": {
  "kernelspec": {
   "display_name": "Python 3 (ipykernel)",
   "language": "python",
   "name": "python3"
  },
  "language_info": {
   "codemirror_mode": {
    "name": "ipython",
    "version": 3
   },
   "file_extension": ".py",
   "mimetype": "text/x-python",
   "name": "python",
   "nbconvert_exporter": "python",
   "pygments_lexer": "ipython3",
   "version": "3.9.12"
  }
 },
 "nbformat": 4,
 "nbformat_minor": 5
}
