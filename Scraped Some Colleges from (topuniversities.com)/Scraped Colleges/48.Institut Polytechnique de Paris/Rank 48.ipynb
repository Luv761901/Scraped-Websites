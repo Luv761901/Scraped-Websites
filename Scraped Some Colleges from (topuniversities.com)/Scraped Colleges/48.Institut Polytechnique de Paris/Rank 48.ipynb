{
 "cells": [
  {
   "cell_type": "code",
   "execution_count": 1,
   "id": "b3728463",
   "metadata": {},
   "outputs": [],
   "source": [
    "from selenium import webdriver\n",
    "from selenium.webdriver.chrome.service import Service\n",
    "import pandas as pd\n",
    "import json"
   ]
  },
  {
   "cell_type": "code",
   "execution_count": 2,
   "id": "600f9968",
   "metadata": {},
   "outputs": [],
   "source": [
    "path = Service('C:\\chromedriver.exe')"
   ]
  },
  {
   "cell_type": "code",
   "execution_count": 3,
   "id": "b1b4e23c",
   "metadata": {},
   "outputs": [],
   "source": [
    "# set path for the driver\n",
    "browser = webdriver.Chrome(service = path)"
   ]
  },
  {
   "cell_type": "code",
   "execution_count": 4,
   "id": "b27ca9b2",
   "metadata": {},
   "outputs": [],
   "source": [
    "\n",
    "url = \"https://www.topuniversities.com/university-rankings/world-university-rankings/2023\""
   ]
  },
  {
   "cell_type": "code",
   "execution_count": 5,
   "id": "5e053da2",
   "metadata": {},
   "outputs": [],
   "source": [
    "# open the page url ion chrome\n",
    "browser.get(url)"
   ]
  },
  {
   "cell_type": "code",
   "execution_count": 6,
   "id": "3dfc921f",
   "metadata": {},
   "outputs": [
    {
     "data": {
      "text/plain": [
       "[<selenium.webdriver.remote.webelement.WebElement (session=\"44eda21e84d1875e9d5e22ed0a83516f\", element=\"9edd920f-e2e1-4d48-9f19-4569af747123\")>,\n",
       " <selenium.webdriver.remote.webelement.WebElement (session=\"44eda21e84d1875e9d5e22ed0a83516f\", element=\"ffaf239c-a306-4245-9f0b-0c7043267e2e\")>,\n",
       " <selenium.webdriver.remote.webelement.WebElement (session=\"44eda21e84d1875e9d5e22ed0a83516f\", element=\"12a00892-3993-4fc0-82d8-0108b2256e90\")>,\n",
       " <selenium.webdriver.remote.webelement.WebElement (session=\"44eda21e84d1875e9d5e22ed0a83516f\", element=\"ddbad55a-0c1d-467a-9547-e941ba22ab37\")>,\n",
       " <selenium.webdriver.remote.webelement.WebElement (session=\"44eda21e84d1875e9d5e22ed0a83516f\", element=\"a482df0d-8551-46a2-adf9-7f586d4c3add\")>,\n",
       " <selenium.webdriver.remote.webelement.WebElement (session=\"44eda21e84d1875e9d5e22ed0a83516f\", element=\"dda102cf-4920-4807-93e8-c625590480b5\")>,\n",
       " <selenium.webdriver.remote.webelement.WebElement (session=\"44eda21e84d1875e9d5e22ed0a83516f\", element=\"9ff017e1-df62-40e7-bbc2-b153f865e173\")>,\n",
       " <selenium.webdriver.remote.webelement.WebElement (session=\"44eda21e84d1875e9d5e22ed0a83516f\", element=\"c7317292-49fe-4176-89b6-f8dcccb79725\")>,\n",
       " <selenium.webdriver.remote.webelement.WebElement (session=\"44eda21e84d1875e9d5e22ed0a83516f\", element=\"7b0b7ab1-10b2-4c46-bdb5-6d7beb556db2\")>]"
      ]
     },
     "execution_count": 6,
     "metadata": {},
     "output_type": "execute_result"
    }
   ],
   "source": [
    "# GET EACH COLLEGE SPECIFICATION HEADERS\n",
    "header=browser.find_elements(\"xpath\",\"//div[@class='_click-function_ind']\")\n",
    "header"
   ]
  },
  {
   "cell_type": "code",
   "execution_count": 7,
   "id": "57b0e568",
   "metadata": {},
   "outputs": [
    {
     "data": {
      "text/plain": [
       "['Overall Score',\n",
       " 'Academic Reputation',\n",
       " 'Employer Reputation',\n",
       " 'Citations per Faculty',\n",
       " 'Faculty Student Ratio',\n",
       " 'International Students Ratio',\n",
       " 'International Faculty Ratio',\n",
       " 'International Research Network\\nUnweighted',\n",
       " 'Employment Outcomes\\nUnweighted']"
      ]
     },
     "execution_count": 7,
     "metadata": {},
     "output_type": "execute_result"
    }
   ],
   "source": [
    "#PARSING DATA\n",
    "column_head=[]\n",
    "for data in header:\n",
    "    #get the text data\n",
    "    temp=data.text\n",
    "    column_head.append(temp)\n",
    "column_head"
   ]
  },
  {
   "cell_type": "code",
   "execution_count": 8,
   "id": "57f9331e",
   "metadata": {},
   "outputs": [
    {
     "data": {
      "text/plain": [
       "[<selenium.webdriver.remote.webelement.WebElement (session=\"44eda21e84d1875e9d5e22ed0a83516f\", element=\"3cb70196-f81e-4ea0-8736-d7e3d987f47f\")>,\n",
       " <selenium.webdriver.remote.webelement.WebElement (session=\"44eda21e84d1875e9d5e22ed0a83516f\", element=\"03d603e3-abaa-4459-afcb-ea1e321253c5\")>,\n",
       " <selenium.webdriver.remote.webelement.WebElement (session=\"44eda21e84d1875e9d5e22ed0a83516f\", element=\"330889a6-b8f7-4f9c-a536-a1c6f8c00eaa\")>,\n",
       " <selenium.webdriver.remote.webelement.WebElement (session=\"44eda21e84d1875e9d5e22ed0a83516f\", element=\"b2c101d8-d2e3-4bf7-8052-e4ae61dcc7ac\")>,\n",
       " <selenium.webdriver.remote.webelement.WebElement (session=\"44eda21e84d1875e9d5e22ed0a83516f\", element=\"c733e6f8-4383-4db8-8497-81455f430261\")>,\n",
       " <selenium.webdriver.remote.webelement.WebElement (session=\"44eda21e84d1875e9d5e22ed0a83516f\", element=\"8ae4e139-c373-4c4b-b5a7-f0fa5e391171\")>,\n",
       " <selenium.webdriver.remote.webelement.WebElement (session=\"44eda21e84d1875e9d5e22ed0a83516f\", element=\"bbaa38de-4394-4e19-978a-336503eb3ff3\")>,\n",
       " <selenium.webdriver.remote.webelement.WebElement (session=\"44eda21e84d1875e9d5e22ed0a83516f\", element=\"f7219221-f3d0-434e-97f1-f12cf36d6e46\")>,\n",
       " <selenium.webdriver.remote.webelement.WebElement (session=\"44eda21e84d1875e9d5e22ed0a83516f\", element=\"3c170af1-282e-4233-9687-e4f38db27be6\")>,\n",
       " <selenium.webdriver.remote.webelement.WebElement (session=\"44eda21e84d1875e9d5e22ed0a83516f\", element=\"c1feee15-c2c3-4593-a8d2-34d8b6f3fe98\")>,\n",
       " <selenium.webdriver.remote.webelement.WebElement (session=\"44eda21e84d1875e9d5e22ed0a83516f\", element=\"a5f5981e-dfdf-4211-b696-a94d8d90efa9\")>,\n",
       " <selenium.webdriver.remote.webelement.WebElement (session=\"44eda21e84d1875e9d5e22ed0a83516f\", element=\"b0fcbeae-e8bc-4402-9d5d-f722f8e5ba65\")>,\n",
       " <selenium.webdriver.remote.webelement.WebElement (session=\"44eda21e84d1875e9d5e22ed0a83516f\", element=\"10d4ce70-0dc8-45ef-b001-a28f20be809d\")>,\n",
       " <selenium.webdriver.remote.webelement.WebElement (session=\"44eda21e84d1875e9d5e22ed0a83516f\", element=\"26d293c2-50bb-4f80-977f-b7d1d6b66073\")>,\n",
       " <selenium.webdriver.remote.webelement.WebElement (session=\"44eda21e84d1875e9d5e22ed0a83516f\", element=\"1dec32be-b2be-4aa7-abfd-79c94a278b40\")>,\n",
       " <selenium.webdriver.remote.webelement.WebElement (session=\"44eda21e84d1875e9d5e22ed0a83516f\", element=\"6522f66a-550e-4b7c-9417-732e0fffad63\")>,\n",
       " <selenium.webdriver.remote.webelement.WebElement (session=\"44eda21e84d1875e9d5e22ed0a83516f\", element=\"286d4681-2fbe-4291-bb43-cc875eda8702\")>,\n",
       " <selenium.webdriver.remote.webelement.WebElement (session=\"44eda21e84d1875e9d5e22ed0a83516f\", element=\"c015bd3e-99ee-43f2-a301-0cd5c554122f\")>,\n",
       " <selenium.webdriver.remote.webelement.WebElement (session=\"44eda21e84d1875e9d5e22ed0a83516f\", element=\"eec70116-7603-4d3c-8565-067760b7f5c7\")>,\n",
       " <selenium.webdriver.remote.webelement.WebElement (session=\"44eda21e84d1875e9d5e22ed0a83516f\", element=\"7a6780a3-53ac-4314-9e67-52334bcd52ce\")>,\n",
       " <selenium.webdriver.remote.webelement.WebElement (session=\"44eda21e84d1875e9d5e22ed0a83516f\", element=\"7c795635-7d01-4c9c-8a49-a0bdbbf66abb\")>,\n",
       " <selenium.webdriver.remote.webelement.WebElement (session=\"44eda21e84d1875e9d5e22ed0a83516f\", element=\"eced7af6-18ea-426c-91dd-ceba5a0f521f\")>,\n",
       " <selenium.webdriver.remote.webelement.WebElement (session=\"44eda21e84d1875e9d5e22ed0a83516f\", element=\"3f3e360c-7371-4369-8336-fa67e8fe6f61\")>,\n",
       " <selenium.webdriver.remote.webelement.WebElement (session=\"44eda21e84d1875e9d5e22ed0a83516f\", element=\"9da9c7d9-85de-470b-aa2f-915c5a31e583\")>,\n",
       " <selenium.webdriver.remote.webelement.WebElement (session=\"44eda21e84d1875e9d5e22ed0a83516f\", element=\"cc1efee6-dee8-4b9e-9f78-d6856ff5f249\")>,\n",
       " <selenium.webdriver.remote.webelement.WebElement (session=\"44eda21e84d1875e9d5e22ed0a83516f\", element=\"70b13ef3-4ebb-46dc-9274-4e71285e0331\")>,\n",
       " <selenium.webdriver.remote.webelement.WebElement (session=\"44eda21e84d1875e9d5e22ed0a83516f\", element=\"e3c8250e-6445-4af7-8158-a2d482f262c0\")>,\n",
       " <selenium.webdriver.remote.webelement.WebElement (session=\"44eda21e84d1875e9d5e22ed0a83516f\", element=\"7c78f710-2bc5-4514-b1ba-4c18c240a589\")>,\n",
       " <selenium.webdriver.remote.webelement.WebElement (session=\"44eda21e84d1875e9d5e22ed0a83516f\", element=\"a54da3b6-891c-4a4c-a003-94a3b10263ab\")>,\n",
       " <selenium.webdriver.remote.webelement.WebElement (session=\"44eda21e84d1875e9d5e22ed0a83516f\", element=\"6d53455a-3bd1-43f7-a921-32ae7768f94c\")>,\n",
       " <selenium.webdriver.remote.webelement.WebElement (session=\"44eda21e84d1875e9d5e22ed0a83516f\", element=\"078942c1-e30c-4138-8073-76540bbbada4\")>,\n",
       " <selenium.webdriver.remote.webelement.WebElement (session=\"44eda21e84d1875e9d5e22ed0a83516f\", element=\"aa23eaa4-72a9-47fa-b302-57f711d1ac38\")>,\n",
       " <selenium.webdriver.remote.webelement.WebElement (session=\"44eda21e84d1875e9d5e22ed0a83516f\", element=\"25ab86da-53ab-413f-8437-897f1f7ee54a\")>,\n",
       " <selenium.webdriver.remote.webelement.WebElement (session=\"44eda21e84d1875e9d5e22ed0a83516f\", element=\"55b04a6e-295b-4790-b8b0-bf9c74a996f6\")>,\n",
       " <selenium.webdriver.remote.webelement.WebElement (session=\"44eda21e84d1875e9d5e22ed0a83516f\", element=\"bd82ea34-7453-4f2c-bb59-e6c4a1cb23aa\")>,\n",
       " <selenium.webdriver.remote.webelement.WebElement (session=\"44eda21e84d1875e9d5e22ed0a83516f\", element=\"ca0e0321-1d37-47bf-bcc5-e367d46f2374\")>,\n",
       " <selenium.webdriver.remote.webelement.WebElement (session=\"44eda21e84d1875e9d5e22ed0a83516f\", element=\"d4102a99-0f0f-4d85-b70f-800cc2b857d6\")>,\n",
       " <selenium.webdriver.remote.webelement.WebElement (session=\"44eda21e84d1875e9d5e22ed0a83516f\", element=\"17aaf40c-929a-4974-a004-1bf6427a943a\")>,\n",
       " <selenium.webdriver.remote.webelement.WebElement (session=\"44eda21e84d1875e9d5e22ed0a83516f\", element=\"4b8886a1-f263-4ea8-acc8-ad3b6e662859\")>,\n",
       " <selenium.webdriver.remote.webelement.WebElement (session=\"44eda21e84d1875e9d5e22ed0a83516f\", element=\"3e1e5fa8-8e93-4d69-aa8d-7460b04d8683\")>,\n",
       " <selenium.webdriver.remote.webelement.WebElement (session=\"44eda21e84d1875e9d5e22ed0a83516f\", element=\"327e3504-d4c9-4c45-bc0d-f3160e7fbf27\")>,\n",
       " <selenium.webdriver.remote.webelement.WebElement (session=\"44eda21e84d1875e9d5e22ed0a83516f\", element=\"5546e4b4-4910-40f7-9203-48318e8c9dda\")>,\n",
       " <selenium.webdriver.remote.webelement.WebElement (session=\"44eda21e84d1875e9d5e22ed0a83516f\", element=\"fb7f5b56-51ad-45a2-9500-ad5e32397205\")>,\n",
       " <selenium.webdriver.remote.webelement.WebElement (session=\"44eda21e84d1875e9d5e22ed0a83516f\", element=\"bd63b9b0-b8d1-45f3-a119-634d6326692d\")>,\n",
       " <selenium.webdriver.remote.webelement.WebElement (session=\"44eda21e84d1875e9d5e22ed0a83516f\", element=\"a862c145-3c35-4772-9b73-1465152f997c\")>,\n",
       " <selenium.webdriver.remote.webelement.WebElement (session=\"44eda21e84d1875e9d5e22ed0a83516f\", element=\"a931161a-4cdd-43aa-a024-614fafe9c156\")>,\n",
       " <selenium.webdriver.remote.webelement.WebElement (session=\"44eda21e84d1875e9d5e22ed0a83516f\", element=\"35837aa0-683b-4c57-bd40-6b2f9fe978a6\")>,\n",
       " <selenium.webdriver.remote.webelement.WebElement (session=\"44eda21e84d1875e9d5e22ed0a83516f\", element=\"e6778132-e74b-41bf-b743-653ce61161c6\")>,\n",
       " <selenium.webdriver.remote.webelement.WebElement (session=\"44eda21e84d1875e9d5e22ed0a83516f\", element=\"b107d149-e6a2-4b7b-a648-412b56520b73\")>,\n",
       " <selenium.webdriver.remote.webelement.WebElement (session=\"44eda21e84d1875e9d5e22ed0a83516f\", element=\"6dac2857-9f2b-421a-a91a-07cff595f1b5\")>,\n",
       " <selenium.webdriver.remote.webelement.WebElement (session=\"44eda21e84d1875e9d5e22ed0a83516f\", element=\"f3619f67-cb85-4e31-96c7-4bc71f2cd334\")>,\n",
       " <selenium.webdriver.remote.webelement.WebElement (session=\"44eda21e84d1875e9d5e22ed0a83516f\", element=\"9bbec11e-6fb8-460c-9bc9-0d93d7d19f58\")>,\n",
       " <selenium.webdriver.remote.webelement.WebElement (session=\"44eda21e84d1875e9d5e22ed0a83516f\", element=\"fa412687-d96a-413d-9853-a7c15617d03f\")>,\n",
       " <selenium.webdriver.remote.webelement.WebElement (session=\"44eda21e84d1875e9d5e22ed0a83516f\", element=\"e175b06f-cd26-4e8b-8256-37f21b4f36f1\")>,\n",
       " <selenium.webdriver.remote.webelement.WebElement (session=\"44eda21e84d1875e9d5e22ed0a83516f\", element=\"71c701e5-0732-41d5-b08f-e6a97126bc3d\")>,\n",
       " <selenium.webdriver.remote.webelement.WebElement (session=\"44eda21e84d1875e9d5e22ed0a83516f\", element=\"292c0b72-0d95-4b5a-9a55-28ccbdc31304\")>,\n",
       " <selenium.webdriver.remote.webelement.WebElement (session=\"44eda21e84d1875e9d5e22ed0a83516f\", element=\"da5722de-7a0b-4c49-bea8-2bb0cbcf8678\")>,\n",
       " <selenium.webdriver.remote.webelement.WebElement (session=\"44eda21e84d1875e9d5e22ed0a83516f\", element=\"2fa8447a-6e10-487c-be98-3cbd685a2ebe\")>,\n",
       " <selenium.webdriver.remote.webelement.WebElement (session=\"44eda21e84d1875e9d5e22ed0a83516f\", element=\"5849abb4-0b0d-4fda-aae0-2497fd3ccb2d\")>,\n",
       " <selenium.webdriver.remote.webelement.WebElement (session=\"44eda21e84d1875e9d5e22ed0a83516f\", element=\"89a60ceb-5110-4d84-8533-d9a6490774e0\")>,\n",
       " <selenium.webdriver.remote.webelement.WebElement (session=\"44eda21e84d1875e9d5e22ed0a83516f\", element=\"5b1a5b5d-33af-4443-ad44-197a9c2b8030\")>,\n",
       " <selenium.webdriver.remote.webelement.WebElement (session=\"44eda21e84d1875e9d5e22ed0a83516f\", element=\"24dd4c05-a9bf-4593-a6ec-3ff47d6f055f\")>,\n",
       " <selenium.webdriver.remote.webelement.WebElement (session=\"44eda21e84d1875e9d5e22ed0a83516f\", element=\"293a79a2-6995-4e12-b327-9b71f108fff1\")>,\n",
       " <selenium.webdriver.remote.webelement.WebElement (session=\"44eda21e84d1875e9d5e22ed0a83516f\", element=\"5c1d1150-7525-4781-a689-363a2f38a561\")>,\n",
       " <selenium.webdriver.remote.webelement.WebElement (session=\"44eda21e84d1875e9d5e22ed0a83516f\", element=\"ee970cc2-b4c9-428d-956c-2730abc357b8\")>,\n",
       " <selenium.webdriver.remote.webelement.WebElement (session=\"44eda21e84d1875e9d5e22ed0a83516f\", element=\"72b31dc5-1838-40ab-8e3f-37a2956a99f6\")>,\n",
       " <selenium.webdriver.remote.webelement.WebElement (session=\"44eda21e84d1875e9d5e22ed0a83516f\", element=\"312454e3-79ae-4e3a-a01e-1106ad181c30\")>,\n",
       " <selenium.webdriver.remote.webelement.WebElement (session=\"44eda21e84d1875e9d5e22ed0a83516f\", element=\"f80a2bd1-7001-4a88-9c56-9d3c39768cad\")>,\n",
       " <selenium.webdriver.remote.webelement.WebElement (session=\"44eda21e84d1875e9d5e22ed0a83516f\", element=\"c320942c-8ab8-43b5-9d2c-3fdeef244f54\")>,\n",
       " <selenium.webdriver.remote.webelement.WebElement (session=\"44eda21e84d1875e9d5e22ed0a83516f\", element=\"7e964d4d-bceb-482e-8129-3eed37e440fa\")>,\n",
       " <selenium.webdriver.remote.webelement.WebElement (session=\"44eda21e84d1875e9d5e22ed0a83516f\", element=\"cdca2571-3f13-48f2-b16e-c95c9086a32c\")>,\n",
       " <selenium.webdriver.remote.webelement.WebElement (session=\"44eda21e84d1875e9d5e22ed0a83516f\", element=\"916e097b-a914-424e-a3a0-0ef84133c6e3\")>,\n",
       " <selenium.webdriver.remote.webelement.WebElement (session=\"44eda21e84d1875e9d5e22ed0a83516f\", element=\"7b779c44-ab27-4700-8606-1d1f62962c22\")>,\n",
       " <selenium.webdriver.remote.webelement.WebElement (session=\"44eda21e84d1875e9d5e22ed0a83516f\", element=\"9cff0f7d-7ef2-4711-b702-d35c1a7a2975\")>,\n",
       " <selenium.webdriver.remote.webelement.WebElement (session=\"44eda21e84d1875e9d5e22ed0a83516f\", element=\"66e0feba-9258-4b57-8f5f-e0fce6da20f2\")>,\n",
       " <selenium.webdriver.remote.webelement.WebElement (session=\"44eda21e84d1875e9d5e22ed0a83516f\", element=\"6763153f-8f5a-47fa-8e49-19b509404622\")>,\n",
       " <selenium.webdriver.remote.webelement.WebElement (session=\"44eda21e84d1875e9d5e22ed0a83516f\", element=\"8d11c599-1466-4460-8111-177347242244\")>,\n",
       " <selenium.webdriver.remote.webelement.WebElement (session=\"44eda21e84d1875e9d5e22ed0a83516f\", element=\"59b3d38d-4f16-4685-b990-daf1d4f6e1d6\")>,\n",
       " <selenium.webdriver.remote.webelement.WebElement (session=\"44eda21e84d1875e9d5e22ed0a83516f\", element=\"5cfdad40-7266-404f-beba-8426929f28e6\")>,\n",
       " <selenium.webdriver.remote.webelement.WebElement (session=\"44eda21e84d1875e9d5e22ed0a83516f\", element=\"78fe8a3a-837f-4242-8a88-72cd5e82b38a\")>,\n",
       " <selenium.webdriver.remote.webelement.WebElement (session=\"44eda21e84d1875e9d5e22ed0a83516f\", element=\"3eaffb01-db45-4f07-aab2-1906a18a1f7d\")>,\n",
       " <selenium.webdriver.remote.webelement.WebElement (session=\"44eda21e84d1875e9d5e22ed0a83516f\", element=\"e1fbcd86-d558-4afb-afb1-0e2312c14443\")>,\n",
       " <selenium.webdriver.remote.webelement.WebElement (session=\"44eda21e84d1875e9d5e22ed0a83516f\", element=\"bdde2cdb-7a06-4e39-a809-0dac22403d80\")>,\n",
       " <selenium.webdriver.remote.webelement.WebElement (session=\"44eda21e84d1875e9d5e22ed0a83516f\", element=\"7489221c-73e6-44f0-bddc-c64e0eded30b\")>,\n",
       " <selenium.webdriver.remote.webelement.WebElement (session=\"44eda21e84d1875e9d5e22ed0a83516f\", element=\"796f2dce-05a4-49f8-8a3b-b091eb767ad1\")>,\n",
       " <selenium.webdriver.remote.webelement.WebElement (session=\"44eda21e84d1875e9d5e22ed0a83516f\", element=\"179a2b69-897e-429f-bf12-e8f3de199b26\")>,\n",
       " <selenium.webdriver.remote.webelement.WebElement (session=\"44eda21e84d1875e9d5e22ed0a83516f\", element=\"46ddbe27-ba36-4c28-9741-1b9e4cfef80a\")>,\n",
       " <selenium.webdriver.remote.webelement.WebElement (session=\"44eda21e84d1875e9d5e22ed0a83516f\", element=\"10e17686-2f38-4822-933f-4abd42927639\")>,\n",
       " <selenium.webdriver.remote.webelement.WebElement (session=\"44eda21e84d1875e9d5e22ed0a83516f\", element=\"93afb911-3ad6-4569-aaa3-84ffbae661fa\")>,\n",
       " <selenium.webdriver.remote.webelement.WebElement (session=\"44eda21e84d1875e9d5e22ed0a83516f\", element=\"40a7576d-acc5-44c3-86e0-a1211fcdf183\")>,\n",
       " <selenium.webdriver.remote.webelement.WebElement (session=\"44eda21e84d1875e9d5e22ed0a83516f\", element=\"85a1213c-1757-47a2-96a4-f918ffcb1fe2\")>,\n",
       " <selenium.webdriver.remote.webelement.WebElement (session=\"44eda21e84d1875e9d5e22ed0a83516f\", element=\"36ff567c-b76d-4648-b7af-6dd0228308fb\")>,\n",
       " <selenium.webdriver.remote.webelement.WebElement (session=\"44eda21e84d1875e9d5e22ed0a83516f\", element=\"03786574-d6f7-4586-b0dd-bce098c011b7\")>,\n",
       " <selenium.webdriver.remote.webelement.WebElement (session=\"44eda21e84d1875e9d5e22ed0a83516f\", element=\"351844db-38c1-4e39-a56b-8879c897083d\")>,\n",
       " <selenium.webdriver.remote.webelement.WebElement (session=\"44eda21e84d1875e9d5e22ed0a83516f\", element=\"898cd898-ab57-4ff3-8dba-c00c9d38f2a5\")>,\n",
       " <selenium.webdriver.remote.webelement.WebElement (session=\"44eda21e84d1875e9d5e22ed0a83516f\", element=\"ce0bcce9-b134-4df1-85a5-b3cd20181fe2\")>,\n",
       " <selenium.webdriver.remote.webelement.WebElement (session=\"44eda21e84d1875e9d5e22ed0a83516f\", element=\"0b141fa3-7500-47f0-990c-f75fa4e56034\")>,\n",
       " <selenium.webdriver.remote.webelement.WebElement (session=\"44eda21e84d1875e9d5e22ed0a83516f\", element=\"e6075a0b-228b-4f31-808f-762ac6a5a29d\")>,\n",
       " <selenium.webdriver.remote.webelement.WebElement (session=\"44eda21e84d1875e9d5e22ed0a83516f\", element=\"159574b9-e93a-441c-9dff-87b9a6c961b6\")>,\n",
       " <selenium.webdriver.remote.webelement.WebElement (session=\"44eda21e84d1875e9d5e22ed0a83516f\", element=\"0f1cc18d-bc24-4c8b-b0f0-0dbac43f7c88\")>]"
      ]
     },
     "execution_count": 8,
     "metadata": {},
     "output_type": "execute_result"
    }
   ],
   "source": [
    "header2=browser.find_elements(\"xpath\",\"//div[@class='td-wrap-in']\")\n",
    "header2\n"
   ]
  },
  {
   "cell_type": "code",
   "execution_count": 9,
   "id": "25d3358a",
   "metadata": {},
   "outputs": [
    {
     "data": {
      "text/plain": [
       "['76.8', '45.3', '99.4', '93.9', '98.9', '98.2', '97', '94.8', '99.8']"
      ]
     },
     "execution_count": 9,
     "metadata": {},
     "output_type": "execute_result"
    }
   ],
   "source": [
    "#PARSING DATA\n",
    "value_head=[]\n",
    "for data in header2:\n",
    "    #get the text data\n",
    "    temp=data.text\n",
    "    value_head.append(temp)\n",
    "value_head=value_head[71:80]\n",
    "value_head"
   ]
  },
  {
   "cell_type": "code",
   "execution_count": 10,
   "id": "94bd2783",
   "metadata": {},
   "outputs": [
    {
     "data": {
      "text/plain": [
       "{'Overall Score': '76.8',\n",
       " 'Academic Reputation': '45.3',\n",
       " 'Employer Reputation': '99.4',\n",
       " 'Citations per Faculty': '93.9',\n",
       " 'Faculty Student Ratio': '98.9',\n",
       " 'International Students Ratio': '98.2',\n",
       " 'International Faculty Ratio': '97',\n",
       " 'International Research Network\\nUnweighted': '94.8',\n",
       " 'Employment Outcomes\\nUnweighted': '99.8'}"
      ]
     },
     "execution_count": 10,
     "metadata": {},
     "output_type": "execute_result"
    }
   ],
   "source": [
    "d={}\n",
    "for i in range(len(column_head)):\n",
    "    d[column_head[i]]=value_head[i]\n",
    "d"
   ]
  },
  {
   "cell_type": "code",
   "execution_count": 11,
   "id": "5377e79d",
   "metadata": {},
   "outputs": [
    {
     "data": {
      "text/plain": [
       "'{\"Overall Score\": \"76.8\", \"Academic Reputation\": \"45.3\", \"Employer Reputation\": \"99.4\", \"Citations per Faculty\": \"93.9\", \"Faculty Student Ratio\": \"98.9\", \"International Students Ratio\": \"98.2\", \"International Faculty Ratio\": \"97\", \"International Research Network\\\\nUnweighted\": \"94.8\", \"Employment Outcomes\\\\nUnweighted\": \"99.8\"}'"
      ]
     },
     "execution_count": 11,
     "metadata": {},
     "output_type": "execute_result"
    }
   ],
   "source": [
    "s1=json.dumps(d)\n",
    "s1"
   ]
  },
  {
   "cell_type": "code",
   "execution_count": 12,
   "id": "b99c78c3",
   "metadata": {},
   "outputs": [],
   "source": [
    "with open('Institut Polytechnique de Paris.json','w') as f:\n",
    "    json.dump(d,f)\n"
   ]
  },
  {
   "cell_type": "code",
   "execution_count": null,
   "id": "99da2718",
   "metadata": {},
   "outputs": [],
   "source": []
  }
 ],
 "metadata": {
  "kernelspec": {
   "display_name": "Python 3 (ipykernel)",
   "language": "python",
   "name": "python3"
  },
  "language_info": {
   "codemirror_mode": {
    "name": "ipython",
    "version": 3
   },
   "file_extension": ".py",
   "mimetype": "text/x-python",
   "name": "python",
   "nbconvert_exporter": "python",
   "pygments_lexer": "ipython3",
   "version": "3.9.12"
  }
 },
 "nbformat": 4,
 "nbformat_minor": 5
}
