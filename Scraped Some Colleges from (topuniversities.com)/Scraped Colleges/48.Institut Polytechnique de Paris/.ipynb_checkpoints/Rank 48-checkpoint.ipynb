{
 "cells": [
  {
   "cell_type": "code",
   "execution_count": 17,
   "id": "b3728463",
   "metadata": {},
   "outputs": [],
   "source": [
    "from selenium import webdriver\n",
    "from selenium.webdriver.chrome.service import Service\n",
    "import pandas as pd\n",
    "import json"
   ]
  },
  {
   "cell_type": "code",
   "execution_count": 18,
   "id": "600f9968",
   "metadata": {},
   "outputs": [],
   "source": [
    "path = Service('C:\\chromedriver.exe')"
   ]
  },
  {
   "cell_type": "code",
   "execution_count": 19,
   "id": "b1b4e23c",
   "metadata": {},
   "outputs": [],
   "source": [
    "# set path for the driver\n",
    "browser = webdriver.Chrome(service = path)"
   ]
  },
  {
   "cell_type": "code",
   "execution_count": 20,
   "id": "b27ca9b2",
   "metadata": {},
   "outputs": [],
   "source": [
    "\n",
    "url = \"https://www.topuniversities.com/university-rankings/world-university-rankings/2023\""
   ]
  },
  {
   "cell_type": "code",
   "execution_count": 21,
   "id": "5e053da2",
   "metadata": {},
   "outputs": [],
   "source": [
    "# open the page url ion chrome\n",
    "browser.get(url)"
   ]
  },
  {
   "cell_type": "code",
   "execution_count": 22,
   "id": "cbf39b4e",
   "metadata": {},
   "outputs": [
    {
     "data": {
      "text/plain": [
       "[<selenium.webdriver.remote.webelement.WebElement (session=\"5a141d20524fa0463edf83b91da58fd9\", element=\"a331340e-53fa-4fb8-b386-0c9ad0d199e9\")>,\n",
       " <selenium.webdriver.remote.webelement.WebElement (session=\"5a141d20524fa0463edf83b91da58fd9\", element=\"a64b58c9-378d-4dc4-acdd-6bc48c3e469f\")>,\n",
       " <selenium.webdriver.remote.webelement.WebElement (session=\"5a141d20524fa0463edf83b91da58fd9\", element=\"e4bdfd3b-5547-4ea6-8269-1ce2da554387\")>,\n",
       " <selenium.webdriver.remote.webelement.WebElement (session=\"5a141d20524fa0463edf83b91da58fd9\", element=\"2fd4e519-4161-47d4-8ee8-c8ce14ae0762\")>,\n",
       " <selenium.webdriver.remote.webelement.WebElement (session=\"5a141d20524fa0463edf83b91da58fd9\", element=\"8be1456b-fcc3-4576-8cd7-d97daa7e61e5\")>,\n",
       " <selenium.webdriver.remote.webelement.WebElement (session=\"5a141d20524fa0463edf83b91da58fd9\", element=\"b8b30cf4-d212-48aa-9e4d-b06f4256d7dc\")>,\n",
       " <selenium.webdriver.remote.webelement.WebElement (session=\"5a141d20524fa0463edf83b91da58fd9\", element=\"2617497f-71f7-48ed-8d24-882a332fc7a9\")>,\n",
       " <selenium.webdriver.remote.webelement.WebElement (session=\"5a141d20524fa0463edf83b91da58fd9\", element=\"8998065a-5291-4c30-864d-1547611e0844\")>,\n",
       " <selenium.webdriver.remote.webelement.WebElement (session=\"5a141d20524fa0463edf83b91da58fd9\", element=\"c233111d-0011-4d3c-88bc-52ce49fb2500\")>,\n",
       " <selenium.webdriver.remote.webelement.WebElement (session=\"5a141d20524fa0463edf83b91da58fd9\", element=\"0a54fa14-2f9f-450c-bb27-a490b5126ead\")>,\n",
       " <selenium.webdriver.remote.webelement.WebElement (session=\"5a141d20524fa0463edf83b91da58fd9\", element=\"ce473932-0495-431b-bc62-2aac62e32b33\")>,\n",
       " <selenium.webdriver.remote.webelement.WebElement (session=\"5a141d20524fa0463edf83b91da58fd9\", element=\"9893c7b1-6de0-4483-8094-8e1e1d187245\")>,\n",
       " <selenium.webdriver.remote.webelement.WebElement (session=\"5a141d20524fa0463edf83b91da58fd9\", element=\"52729cab-be7a-4e1b-9025-964c8c59a441\")>,\n",
       " <selenium.webdriver.remote.webelement.WebElement (session=\"5a141d20524fa0463edf83b91da58fd9\", element=\"e498f2a6-87fa-4807-b0eb-5ae646a6e8f2\")>,\n",
       " <selenium.webdriver.remote.webelement.WebElement (session=\"5a141d20524fa0463edf83b91da58fd9\", element=\"f6bf5bc9-9df3-4f50-8534-27992edd4f16\")>,\n",
       " <selenium.webdriver.remote.webelement.WebElement (session=\"5a141d20524fa0463edf83b91da58fd9\", element=\"35666f45-594d-49b0-9d23-77603c177b46\")>,\n",
       " <selenium.webdriver.remote.webelement.WebElement (session=\"5a141d20524fa0463edf83b91da58fd9\", element=\"6a42bc0a-4710-4863-9576-3d07a47bce57\")>,\n",
       " <selenium.webdriver.remote.webelement.WebElement (session=\"5a141d20524fa0463edf83b91da58fd9\", element=\"be1be383-8c74-436d-95a5-8bed0110548b\")>,\n",
       " <selenium.webdriver.remote.webelement.WebElement (session=\"5a141d20524fa0463edf83b91da58fd9\", element=\"7b5aeb80-db71-4dd0-b1cd-127ebb67b7db\")>,\n",
       " <selenium.webdriver.remote.webelement.WebElement (session=\"5a141d20524fa0463edf83b91da58fd9\", element=\"f56e0ff5-7548-47fe-8286-8a52b7e6a2f4\")>]"
      ]
     },
     "execution_count": 22,
     "metadata": {},
     "output_type": "execute_result"
    }
   ],
   "source": [
    "l1=browser.find_elements(\"xpath\",\"//div[@class='location ']\")\n",
    "l1\n"
   ]
  },
  {
   "cell_type": "code",
   "execution_count": 23,
   "id": "43bc4343",
   "metadata": {},
   "outputs": [
    {
     "data": {
      "text/plain": [
       "['Sydney, Australia',\n",
       " 'Daejeon, South Korea',\n",
       " 'Hangzhou, China (Mainland)',\n",
       " 'Los Angeles, United States',\n",
       " 'Sydney, Australia',\n",
       " 'Shanghai, China (Mainland)',\n",
       " 'Vancouver, Canada',\n",
       " 'Palaiseau Cedex, France',\n",
       " 'Munich, Germany',\n",
       " 'Durham, United States']"
      ]
     },
     "execution_count": 23,
     "metadata": {},
     "output_type": "execute_result"
    }
   ],
   "source": [
    "loc=[]\n",
    "for data in l1:\n",
    "    #get the text data\n",
    "    temp=data.text\n",
    "    loc.append(temp)\n",
    "loc=loc[10:]\n",
    "loc\n",
    "\n"
   ]
  },
  {
   "cell_type": "code",
   "execution_count": 24,
   "id": "0d56fbc5",
   "metadata": {},
   "outputs": [
    {
     "data": {
      "text/plain": [
       "[<selenium.webdriver.remote.webelement.WebElement (session=\"5a141d20524fa0463edf83b91da58fd9\", element=\"0fd2a0e7-61f6-443e-954b-aa561dad7146\")>,\n",
       " <selenium.webdriver.remote.webelement.WebElement (session=\"5a141d20524fa0463edf83b91da58fd9\", element=\"008a4166-a747-42b6-b6a2-085d8bafb891\")>,\n",
       " <selenium.webdriver.remote.webelement.WebElement (session=\"5a141d20524fa0463edf83b91da58fd9\", element=\"b85de783-a8f3-4702-bbf7-b1684b29f6b1\")>,\n",
       " <selenium.webdriver.remote.webelement.WebElement (session=\"5a141d20524fa0463edf83b91da58fd9\", element=\"d659a53b-639c-4953-92cb-2bcad9b94b2f\")>,\n",
       " <selenium.webdriver.remote.webelement.WebElement (session=\"5a141d20524fa0463edf83b91da58fd9\", element=\"a9b674f4-b906-428e-a29a-171d5e20374c\")>,\n",
       " <selenium.webdriver.remote.webelement.WebElement (session=\"5a141d20524fa0463edf83b91da58fd9\", element=\"f6828ee3-8670-4695-a1cf-0effed52601d\")>,\n",
       " <selenium.webdriver.remote.webelement.WebElement (session=\"5a141d20524fa0463edf83b91da58fd9\", element=\"532945b4-9cb3-4192-9bf7-7111156b03c9\")>,\n",
       " <selenium.webdriver.remote.webelement.WebElement (session=\"5a141d20524fa0463edf83b91da58fd9\", element=\"854ac6b1-31c8-415b-af0a-c56125c81ad5\")>,\n",
       " <selenium.webdriver.remote.webelement.WebElement (session=\"5a141d20524fa0463edf83b91da58fd9\", element=\"22f8d024-1f84-4c5e-aa2d-7d483b763631\")>,\n",
       " <selenium.webdriver.remote.webelement.WebElement (session=\"5a141d20524fa0463edf83b91da58fd9\", element=\"67a61efd-c29d-4ce2-b337-5a02c50aa955\")>]"
      ]
     },
     "execution_count": 24,
     "metadata": {},
     "output_type": "execute_result"
    }
   ],
   "source": [
    "l2=browser.find_elements(\"xpath\",\"//div[@class='_univ-rank ']\")\n",
    "l2\n"
   ]
  },
  {
   "cell_type": "code",
   "execution_count": 25,
   "id": "42559cf0",
   "metadata": {},
   "outputs": [
    {
     "data": {
      "text/plain": [
       "['41', '=42', '=42', '44', '45', '46', '47', '48', '49', '=50']"
      ]
     },
     "execution_count": 25,
     "metadata": {},
     "output_type": "execute_result"
    }
   ],
   "source": [
    "RANK=[]\n",
    "for data in l2:\n",
    "    #get the text data\n",
    "    temp=data.text\n",
    "    RANK.append(temp)\n",
    "RANK"
   ]
  },
  {
   "cell_type": "code",
   "execution_count": 26,
   "id": "3dfc921f",
   "metadata": {},
   "outputs": [
    {
     "data": {
      "text/plain": [
       "[<selenium.webdriver.remote.webelement.WebElement (session=\"5a141d20524fa0463edf83b91da58fd9\", element=\"3fb285bc-a962-40f8-a6e5-046421cfac21\")>,\n",
       " <selenium.webdriver.remote.webelement.WebElement (session=\"5a141d20524fa0463edf83b91da58fd9\", element=\"bc654c26-126e-4f64-83ef-94d7189aaec8\")>,\n",
       " <selenium.webdriver.remote.webelement.WebElement (session=\"5a141d20524fa0463edf83b91da58fd9\", element=\"48d3cf87-9d12-4bb0-840f-64e5b858e419\")>,\n",
       " <selenium.webdriver.remote.webelement.WebElement (session=\"5a141d20524fa0463edf83b91da58fd9\", element=\"2675d70e-7133-48c9-9b96-6601a639ae36\")>,\n",
       " <selenium.webdriver.remote.webelement.WebElement (session=\"5a141d20524fa0463edf83b91da58fd9\", element=\"77bd8196-e80e-40da-a843-e5e5865a143c\")>,\n",
       " <selenium.webdriver.remote.webelement.WebElement (session=\"5a141d20524fa0463edf83b91da58fd9\", element=\"a2debe75-f97b-4c64-823a-3216c3b5f2a3\")>,\n",
       " <selenium.webdriver.remote.webelement.WebElement (session=\"5a141d20524fa0463edf83b91da58fd9\", element=\"7e1519fb-d994-4b4f-9499-80cf046f74be\")>,\n",
       " <selenium.webdriver.remote.webelement.WebElement (session=\"5a141d20524fa0463edf83b91da58fd9\", element=\"254accb8-b3ac-496b-bd06-25f7a3a72235\")>,\n",
       " <selenium.webdriver.remote.webelement.WebElement (session=\"5a141d20524fa0463edf83b91da58fd9\", element=\"c4bdac90-2e54-4ac9-8288-7343c12c9c2f\")>]"
      ]
     },
     "execution_count": 26,
     "metadata": {},
     "output_type": "execute_result"
    }
   ],
   "source": [
    "# GET EACH COLLEGE SPECIFICATION HEADERS\n",
    "header=browser.find_elements(\"xpath\",\"//div[@class='_click-function_ind']\")\n",
    "header"
   ]
  },
  {
   "cell_type": "code",
   "execution_count": 27,
   "id": "57b0e568",
   "metadata": {},
   "outputs": [
    {
     "data": {
      "text/plain": [
       "['Overall Score',\n",
       " 'Academic Reputation',\n",
       " 'Employer Reputation',\n",
       " 'Citations per Faculty',\n",
       " 'Faculty Student Ratio',\n",
       " 'International Students Ratio',\n",
       " 'International Faculty Ratio',\n",
       " 'International Research Network\\nUnweighted',\n",
       " 'Employment Outcomes\\nUnweighted']"
      ]
     },
     "execution_count": 27,
     "metadata": {},
     "output_type": "execute_result"
    }
   ],
   "source": [
    "#PARSING DATA\n",
    "column_head=[]\n",
    "for data in header:\n",
    "    #get the text data\n",
    "    temp=data.text\n",
    "    column_head.append(temp)\n",
    "column_head"
   ]
  },
  {
   "cell_type": "code",
   "execution_count": 28,
   "id": "57f9331e",
   "metadata": {},
   "outputs": [
    {
     "data": {
      "text/plain": [
       "[<selenium.webdriver.remote.webelement.WebElement (session=\"5a141d20524fa0463edf83b91da58fd9\", element=\"5f724ef6-6f73-493a-afbc-795dafd325b6\")>,\n",
       " <selenium.webdriver.remote.webelement.WebElement (session=\"5a141d20524fa0463edf83b91da58fd9\", element=\"c5c98fb4-6cc6-4646-8504-2658799c11d2\")>,\n",
       " <selenium.webdriver.remote.webelement.WebElement (session=\"5a141d20524fa0463edf83b91da58fd9\", element=\"d04d7af4-3996-449e-9d38-40247950acca\")>,\n",
       " <selenium.webdriver.remote.webelement.WebElement (session=\"5a141d20524fa0463edf83b91da58fd9\", element=\"c71651d9-dcf4-4968-9cbd-79c040f0211d\")>,\n",
       " <selenium.webdriver.remote.webelement.WebElement (session=\"5a141d20524fa0463edf83b91da58fd9\", element=\"5823bf47-84e1-4907-8586-09564d1c665d\")>,\n",
       " <selenium.webdriver.remote.webelement.WebElement (session=\"5a141d20524fa0463edf83b91da58fd9\", element=\"56fb2194-34f9-4d54-bca1-3f71435553cd\")>,\n",
       " <selenium.webdriver.remote.webelement.WebElement (session=\"5a141d20524fa0463edf83b91da58fd9\", element=\"5d3a3ad9-7289-4101-906a-60dca6105ca6\")>,\n",
       " <selenium.webdriver.remote.webelement.WebElement (session=\"5a141d20524fa0463edf83b91da58fd9\", element=\"e59bd494-fb1e-4363-80f6-6369a942064d\")>,\n",
       " <selenium.webdriver.remote.webelement.WebElement (session=\"5a141d20524fa0463edf83b91da58fd9\", element=\"084d389a-c78e-4a72-86bd-5b343bc58ed0\")>,\n",
       " <selenium.webdriver.remote.webelement.WebElement (session=\"5a141d20524fa0463edf83b91da58fd9\", element=\"4b4f921c-e079-4c90-b4cc-50d17f0da596\")>,\n",
       " <selenium.webdriver.remote.webelement.WebElement (session=\"5a141d20524fa0463edf83b91da58fd9\", element=\"1c87e888-0cf1-4d0e-b207-435bf9a26473\")>,\n",
       " <selenium.webdriver.remote.webelement.WebElement (session=\"5a141d20524fa0463edf83b91da58fd9\", element=\"72703513-b6e5-45d0-b65a-ca8d59455efc\")>,\n",
       " <selenium.webdriver.remote.webelement.WebElement (session=\"5a141d20524fa0463edf83b91da58fd9\", element=\"c8e9e68e-9d0d-444d-b2a1-fc5402fe1fcd\")>,\n",
       " <selenium.webdriver.remote.webelement.WebElement (session=\"5a141d20524fa0463edf83b91da58fd9\", element=\"859cc487-c445-4338-820e-cac7ca62cd4e\")>,\n",
       " <selenium.webdriver.remote.webelement.WebElement (session=\"5a141d20524fa0463edf83b91da58fd9\", element=\"7deb6b8e-8cf0-4141-803d-9140ebd0997d\")>,\n",
       " <selenium.webdriver.remote.webelement.WebElement (session=\"5a141d20524fa0463edf83b91da58fd9\", element=\"23450c26-89e2-4ab4-9259-35a03b9dacc5\")>,\n",
       " <selenium.webdriver.remote.webelement.WebElement (session=\"5a141d20524fa0463edf83b91da58fd9\", element=\"22eaa340-8ff2-4a9a-8561-80d1a84f9285\")>,\n",
       " <selenium.webdriver.remote.webelement.WebElement (session=\"5a141d20524fa0463edf83b91da58fd9\", element=\"c1f5e906-aa73-4e06-8a3c-cfac3b99c094\")>,\n",
       " <selenium.webdriver.remote.webelement.WebElement (session=\"5a141d20524fa0463edf83b91da58fd9\", element=\"15c1a668-c415-4097-af4e-7f034f3a2489\")>,\n",
       " <selenium.webdriver.remote.webelement.WebElement (session=\"5a141d20524fa0463edf83b91da58fd9\", element=\"a3f1a082-f984-465a-81fb-1c4d029336fc\")>,\n",
       " <selenium.webdriver.remote.webelement.WebElement (session=\"5a141d20524fa0463edf83b91da58fd9\", element=\"5cb75c90-baec-4807-b0bf-4ef846431a3b\")>,\n",
       " <selenium.webdriver.remote.webelement.WebElement (session=\"5a141d20524fa0463edf83b91da58fd9\", element=\"e9d43bdf-0f92-483d-9165-b25b27887d6b\")>,\n",
       " <selenium.webdriver.remote.webelement.WebElement (session=\"5a141d20524fa0463edf83b91da58fd9\", element=\"46457737-4c1e-4829-a49e-2fbedb4871d2\")>,\n",
       " <selenium.webdriver.remote.webelement.WebElement (session=\"5a141d20524fa0463edf83b91da58fd9\", element=\"905b230f-3f06-4f40-91da-0de442159d71\")>,\n",
       " <selenium.webdriver.remote.webelement.WebElement (session=\"5a141d20524fa0463edf83b91da58fd9\", element=\"05bad555-6559-49f7-b72a-734ecc29da01\")>,\n",
       " <selenium.webdriver.remote.webelement.WebElement (session=\"5a141d20524fa0463edf83b91da58fd9\", element=\"9b81bab7-7a3b-4488-ac8e-705122d61715\")>,\n",
       " <selenium.webdriver.remote.webelement.WebElement (session=\"5a141d20524fa0463edf83b91da58fd9\", element=\"f07fe5e6-cb6a-482e-b4c9-66b5f35793e5\")>,\n",
       " <selenium.webdriver.remote.webelement.WebElement (session=\"5a141d20524fa0463edf83b91da58fd9\", element=\"31471b97-d0b1-4350-977b-5975519b28d2\")>,\n",
       " <selenium.webdriver.remote.webelement.WebElement (session=\"5a141d20524fa0463edf83b91da58fd9\", element=\"4ce6692a-1058-4641-8a7b-841215576cac\")>,\n",
       " <selenium.webdriver.remote.webelement.WebElement (session=\"5a141d20524fa0463edf83b91da58fd9\", element=\"1310c82d-a25b-462e-964e-c81ad3cb3709\")>,\n",
       " <selenium.webdriver.remote.webelement.WebElement (session=\"5a141d20524fa0463edf83b91da58fd9\", element=\"c10ba9f0-f834-42fc-ba2d-c288b7a4125b\")>,\n",
       " <selenium.webdriver.remote.webelement.WebElement (session=\"5a141d20524fa0463edf83b91da58fd9\", element=\"6b6cc8ca-f80e-4c09-9689-a5f625748484\")>,\n",
       " <selenium.webdriver.remote.webelement.WebElement (session=\"5a141d20524fa0463edf83b91da58fd9\", element=\"2f726a24-c23a-40a8-86ff-42c95122738d\")>,\n",
       " <selenium.webdriver.remote.webelement.WebElement (session=\"5a141d20524fa0463edf83b91da58fd9\", element=\"1811f6f4-525e-4e4b-99c0-5b898e488872\")>,\n",
       " <selenium.webdriver.remote.webelement.WebElement (session=\"5a141d20524fa0463edf83b91da58fd9\", element=\"7e4517f7-0b99-42f1-b99a-eb96398afc48\")>,\n",
       " <selenium.webdriver.remote.webelement.WebElement (session=\"5a141d20524fa0463edf83b91da58fd9\", element=\"6bf40548-b3e0-4110-9f0b-aaa3ce866231\")>,\n",
       " <selenium.webdriver.remote.webelement.WebElement (session=\"5a141d20524fa0463edf83b91da58fd9\", element=\"c6e725f0-0dc2-4f8a-8ff3-bf10b22dd936\")>,\n",
       " <selenium.webdriver.remote.webelement.WebElement (session=\"5a141d20524fa0463edf83b91da58fd9\", element=\"50f8d051-aba5-4300-86a9-ca25021926c8\")>,\n",
       " <selenium.webdriver.remote.webelement.WebElement (session=\"5a141d20524fa0463edf83b91da58fd9\", element=\"193b38c8-77a6-4b8d-bb7f-0ed716f795da\")>,\n",
       " <selenium.webdriver.remote.webelement.WebElement (session=\"5a141d20524fa0463edf83b91da58fd9\", element=\"eff516ee-3bc0-4f5e-afc3-b5cadcb2e7e7\")>,\n",
       " <selenium.webdriver.remote.webelement.WebElement (session=\"5a141d20524fa0463edf83b91da58fd9\", element=\"ce3ed596-9f28-4513-9355-ccd21b656f72\")>,\n",
       " <selenium.webdriver.remote.webelement.WebElement (session=\"5a141d20524fa0463edf83b91da58fd9\", element=\"7059b88a-43ed-4fa9-8df1-e447ce6d8eb4\")>,\n",
       " <selenium.webdriver.remote.webelement.WebElement (session=\"5a141d20524fa0463edf83b91da58fd9\", element=\"5b188f2b-6285-4534-a2a3-80fe7f018dfb\")>,\n",
       " <selenium.webdriver.remote.webelement.WebElement (session=\"5a141d20524fa0463edf83b91da58fd9\", element=\"40bbf078-eeda-44eb-bcde-e20e46c97848\")>,\n",
       " <selenium.webdriver.remote.webelement.WebElement (session=\"5a141d20524fa0463edf83b91da58fd9\", element=\"4dd90dfe-995a-4734-9a01-8bb1231a4436\")>,\n",
       " <selenium.webdriver.remote.webelement.WebElement (session=\"5a141d20524fa0463edf83b91da58fd9\", element=\"3e6649db-52ae-46a7-9150-5e0f2222bfa3\")>,\n",
       " <selenium.webdriver.remote.webelement.WebElement (session=\"5a141d20524fa0463edf83b91da58fd9\", element=\"0437c641-0b09-4087-8470-86365fc81a56\")>,\n",
       " <selenium.webdriver.remote.webelement.WebElement (session=\"5a141d20524fa0463edf83b91da58fd9\", element=\"34075d2a-4544-41e8-a0ec-1f2b614a4d56\")>,\n",
       " <selenium.webdriver.remote.webelement.WebElement (session=\"5a141d20524fa0463edf83b91da58fd9\", element=\"1576421a-9158-4833-84e3-7075c709e5e0\")>,\n",
       " <selenium.webdriver.remote.webelement.WebElement (session=\"5a141d20524fa0463edf83b91da58fd9\", element=\"d7aa3571-a97c-467c-93ec-ee6372034b01\")>,\n",
       " <selenium.webdriver.remote.webelement.WebElement (session=\"5a141d20524fa0463edf83b91da58fd9\", element=\"a0d37462-40cd-43a2-986a-3650efc7adcf\")>,\n",
       " <selenium.webdriver.remote.webelement.WebElement (session=\"5a141d20524fa0463edf83b91da58fd9\", element=\"f7ff6678-5486-48e0-8287-0bc1364f696b\")>,\n",
       " <selenium.webdriver.remote.webelement.WebElement (session=\"5a141d20524fa0463edf83b91da58fd9\", element=\"2308b0c4-d48c-4202-8aa2-dfd04c7122bb\")>,\n",
       " <selenium.webdriver.remote.webelement.WebElement (session=\"5a141d20524fa0463edf83b91da58fd9\", element=\"6094b38c-f1fc-4643-a0d5-027b1478ab26\")>,\n",
       " <selenium.webdriver.remote.webelement.WebElement (session=\"5a141d20524fa0463edf83b91da58fd9\", element=\"c7bcfb3c-d608-4afc-8069-b990a3625feb\")>,\n",
       " <selenium.webdriver.remote.webelement.WebElement (session=\"5a141d20524fa0463edf83b91da58fd9\", element=\"21fac7b1-1081-4b06-90eb-1940813097f2\")>,\n",
       " <selenium.webdriver.remote.webelement.WebElement (session=\"5a141d20524fa0463edf83b91da58fd9\", element=\"9d46b22b-08c2-48fd-afc2-2ecf90cf6b9f\")>,\n",
       " <selenium.webdriver.remote.webelement.WebElement (session=\"5a141d20524fa0463edf83b91da58fd9\", element=\"631bcf6a-4975-47a5-afef-034e1c68c1fa\")>,\n",
       " <selenium.webdriver.remote.webelement.WebElement (session=\"5a141d20524fa0463edf83b91da58fd9\", element=\"0af737ec-db9e-4cc5-b5e8-4f7109bb50b9\")>,\n",
       " <selenium.webdriver.remote.webelement.WebElement (session=\"5a141d20524fa0463edf83b91da58fd9\", element=\"ed85f707-94bc-460a-b6fb-d81375a518e0\")>,\n",
       " <selenium.webdriver.remote.webelement.WebElement (session=\"5a141d20524fa0463edf83b91da58fd9\", element=\"43c234e8-7bb5-441f-87bc-1f1d23c43207\")>,\n",
       " <selenium.webdriver.remote.webelement.WebElement (session=\"5a141d20524fa0463edf83b91da58fd9\", element=\"ad3d2af4-2191-4a0e-8ac3-10c9a44fb9e3\")>,\n",
       " <selenium.webdriver.remote.webelement.WebElement (session=\"5a141d20524fa0463edf83b91da58fd9\", element=\"c26980dd-7e30-4e4e-b973-20462c16fce8\")>,\n",
       " <selenium.webdriver.remote.webelement.WebElement (session=\"5a141d20524fa0463edf83b91da58fd9\", element=\"031b5fc4-b1e8-4a05-8f53-d1daa6933f4f\")>,\n",
       " <selenium.webdriver.remote.webelement.WebElement (session=\"5a141d20524fa0463edf83b91da58fd9\", element=\"b4c64424-bf18-49db-a6ab-f8eb3fe04996\")>,\n",
       " <selenium.webdriver.remote.webelement.WebElement (session=\"5a141d20524fa0463edf83b91da58fd9\", element=\"ff9b4d9f-a534-4245-8555-7e84ae1ed3b3\")>,\n",
       " <selenium.webdriver.remote.webelement.WebElement (session=\"5a141d20524fa0463edf83b91da58fd9\", element=\"8b96da8e-5b31-45b4-8883-4e0266597c05\")>,\n",
       " <selenium.webdriver.remote.webelement.WebElement (session=\"5a141d20524fa0463edf83b91da58fd9\", element=\"87d2a8a0-b5b7-44a2-ad13-2ad66eabc25d\")>,\n",
       " <selenium.webdriver.remote.webelement.WebElement (session=\"5a141d20524fa0463edf83b91da58fd9\", element=\"e67735d8-dcef-4a9a-a518-98b3e6d3498d\")>,\n",
       " <selenium.webdriver.remote.webelement.WebElement (session=\"5a141d20524fa0463edf83b91da58fd9\", element=\"8b16e2d2-94ae-401f-9885-523dac8e9c26\")>,\n",
       " <selenium.webdriver.remote.webelement.WebElement (session=\"5a141d20524fa0463edf83b91da58fd9\", element=\"68a30924-28c3-452e-af75-e1c922d75363\")>,\n",
       " <selenium.webdriver.remote.webelement.WebElement (session=\"5a141d20524fa0463edf83b91da58fd9\", element=\"1937ead3-a4da-45af-bf3f-7384f46e0844\")>,\n",
       " <selenium.webdriver.remote.webelement.WebElement (session=\"5a141d20524fa0463edf83b91da58fd9\", element=\"8a44d7ac-fb1d-4452-b059-c1ced166d67d\")>,\n",
       " <selenium.webdriver.remote.webelement.WebElement (session=\"5a141d20524fa0463edf83b91da58fd9\", element=\"6e5f1061-bc01-467c-81fb-2212e39a9ef0\")>,\n",
       " <selenium.webdriver.remote.webelement.WebElement (session=\"5a141d20524fa0463edf83b91da58fd9\", element=\"3520841c-c02f-4dca-9e73-8b5a0f2ad1a8\")>,\n",
       " <selenium.webdriver.remote.webelement.WebElement (session=\"5a141d20524fa0463edf83b91da58fd9\", element=\"0b4a7e98-81d8-4005-b7a9-736464fd9de9\")>,\n",
       " <selenium.webdriver.remote.webelement.WebElement (session=\"5a141d20524fa0463edf83b91da58fd9\", element=\"5615f039-5dc1-425d-bf80-ee85a6b752be\")>,\n",
       " <selenium.webdriver.remote.webelement.WebElement (session=\"5a141d20524fa0463edf83b91da58fd9\", element=\"20f013bf-7481-40a4-afdf-22775d62b6dd\")>,\n",
       " <selenium.webdriver.remote.webelement.WebElement (session=\"5a141d20524fa0463edf83b91da58fd9\", element=\"f529f0b6-0b59-4505-a44f-14f51c634589\")>,\n",
       " <selenium.webdriver.remote.webelement.WebElement (session=\"5a141d20524fa0463edf83b91da58fd9\", element=\"22f4fe83-fea6-41ff-bba6-9df750e064d0\")>,\n",
       " <selenium.webdriver.remote.webelement.WebElement (session=\"5a141d20524fa0463edf83b91da58fd9\", element=\"ed89cf2f-aee6-4f4a-9737-cfc17e2eaae5\")>,\n",
       " <selenium.webdriver.remote.webelement.WebElement (session=\"5a141d20524fa0463edf83b91da58fd9\", element=\"33b35a48-e897-4526-81e3-9e3a75a29d38\")>,\n",
       " <selenium.webdriver.remote.webelement.WebElement (session=\"5a141d20524fa0463edf83b91da58fd9\", element=\"fe070872-626b-48d5-bc53-3962325ceba9\")>,\n",
       " <selenium.webdriver.remote.webelement.WebElement (session=\"5a141d20524fa0463edf83b91da58fd9\", element=\"5a903b8b-7658-487b-b3e3-8a7941d37371\")>,\n",
       " <selenium.webdriver.remote.webelement.WebElement (session=\"5a141d20524fa0463edf83b91da58fd9\", element=\"6fa9c513-db3e-4664-b8dc-de5d48546aed\")>,\n",
       " <selenium.webdriver.remote.webelement.WebElement (session=\"5a141d20524fa0463edf83b91da58fd9\", element=\"f658ca3f-04b4-4ff8-a660-6fc965fd4271\")>,\n",
       " <selenium.webdriver.remote.webelement.WebElement (session=\"5a141d20524fa0463edf83b91da58fd9\", element=\"9af5f97d-5f87-4950-bc1f-940009e0878a\")>,\n",
       " <selenium.webdriver.remote.webelement.WebElement (session=\"5a141d20524fa0463edf83b91da58fd9\", element=\"61c1cdce-9554-4e18-b5b0-eea474684c45\")>,\n",
       " <selenium.webdriver.remote.webelement.WebElement (session=\"5a141d20524fa0463edf83b91da58fd9\", element=\"22baa792-12d0-45f7-9b1d-f5c072b4fcee\")>,\n",
       " <selenium.webdriver.remote.webelement.WebElement (session=\"5a141d20524fa0463edf83b91da58fd9\", element=\"bcccf941-4b1e-403a-a7e9-e66947db35b9\")>,\n",
       " <selenium.webdriver.remote.webelement.WebElement (session=\"5a141d20524fa0463edf83b91da58fd9\", element=\"f8e12973-a9cb-4eff-915a-57e66aa865c4\")>,\n",
       " <selenium.webdriver.remote.webelement.WebElement (session=\"5a141d20524fa0463edf83b91da58fd9\", element=\"7e00fff6-9b04-4c21-b109-9c965624b3ff\")>,\n",
       " <selenium.webdriver.remote.webelement.WebElement (session=\"5a141d20524fa0463edf83b91da58fd9\", element=\"be637172-75aa-4243-8464-70502c81a199\")>,\n",
       " <selenium.webdriver.remote.webelement.WebElement (session=\"5a141d20524fa0463edf83b91da58fd9\", element=\"9cd41a7d-22e2-4300-bebf-64f6108b20dc\")>,\n",
       " <selenium.webdriver.remote.webelement.WebElement (session=\"5a141d20524fa0463edf83b91da58fd9\", element=\"15ee492e-fd13-4198-8b02-6b49915731f2\")>,\n",
       " <selenium.webdriver.remote.webelement.WebElement (session=\"5a141d20524fa0463edf83b91da58fd9\", element=\"1c6cede3-b08b-4e50-a8b3-31abddeb9eb2\")>,\n",
       " <selenium.webdriver.remote.webelement.WebElement (session=\"5a141d20524fa0463edf83b91da58fd9\", element=\"6da07505-1f21-48da-baff-0d5d873f6014\")>,\n",
       " <selenium.webdriver.remote.webelement.WebElement (session=\"5a141d20524fa0463edf83b91da58fd9\", element=\"f31a033f-83d0-4934-b8d9-4607b392908d\")>,\n",
       " <selenium.webdriver.remote.webelement.WebElement (session=\"5a141d20524fa0463edf83b91da58fd9\", element=\"284ec0f9-3d26-45ee-8cf8-032e6232772d\")>,\n",
       " <selenium.webdriver.remote.webelement.WebElement (session=\"5a141d20524fa0463edf83b91da58fd9\", element=\"0a730b1c-985f-4e8a-932e-a56fdbed1ae7\")>]"
      ]
     },
     "execution_count": 28,
     "metadata": {},
     "output_type": "execute_result"
    }
   ],
   "source": [
    "header2=browser.find_elements(\"xpath\",\"//div[@class='td-wrap-in']\")\n",
    "header2\n"
   ]
  },
  {
   "cell_type": "code",
   "execution_count": 29,
   "id": "25d3358a",
   "metadata": {},
   "outputs": [
    {
     "data": {
      "text/plain": [
       "['76.8', '45.3', '99.4', '93.9', '98.9', '98.2', '97', '94.8', '99.8']"
      ]
     },
     "execution_count": 29,
     "metadata": {},
     "output_type": "execute_result"
    }
   ],
   "source": [
    "#PARSING DATA\n",
    "value_head=[]\n",
    "for data in header2:\n",
    "    #get the text data\n",
    "    temp=data.text\n",
    "    value_head.append(temp)\n",
    "value=value_head[71:80]\n",
    "value"
   ]
  },
  {
   "cell_type": "code",
   "execution_count": 30,
   "id": "94bd2783",
   "metadata": {},
   "outputs": [
    {
     "data": {
      "text/plain": [
       "{'Name': 'Institut Polytechnique de Paris',\n",
       " 'Location': 'Palaiseau Cedex, France',\n",
       " 'Rank': '48',\n",
       " 'Overall Score': '76.8',\n",
       " 'Academic Reputation': '45.3',\n",
       " 'Employer Reputation': '99.4',\n",
       " 'Citations per Faculty': '93.9',\n",
       " 'Faculty Student Ratio': '98.9',\n",
       " 'International Students Ratio': '98.2',\n",
       " 'International Faculty Ratio': '97',\n",
       " 'International Research Network\\nUnweighted': '94.8',\n",
       " 'Employment Outcomes\\nUnweighted': '99.8'}"
      ]
     },
     "execution_count": 30,
     "metadata": {},
     "output_type": "execute_result"
    }
   ],
   "source": [
    "d={}\n",
    "d['Name']=value_head[70]\n",
    "d['Location']=loc[7]\n",
    "d['Rank']=RANK[7]\n",
    "for i in range(len(column_head)):\n",
    "    d[column_head[i]]=value[i]\n",
    "d"
   ]
  },
  {
   "cell_type": "code",
   "execution_count": 31,
   "id": "5377e79d",
   "metadata": {},
   "outputs": [
    {
     "data": {
      "text/plain": [
       "'{\"Name\": \"Institut Polytechnique de Paris\", \"Location\": \"Palaiseau Cedex, France\", \"Rank\": \"48\", \"Overall Score\": \"76.8\", \"Academic Reputation\": \"45.3\", \"Employer Reputation\": \"99.4\", \"Citations per Faculty\": \"93.9\", \"Faculty Student Ratio\": \"98.9\", \"International Students Ratio\": \"98.2\", \"International Faculty Ratio\": \"97\", \"International Research Network\\\\nUnweighted\": \"94.8\", \"Employment Outcomes\\\\nUnweighted\": \"99.8\"}'"
      ]
     },
     "execution_count": 31,
     "metadata": {},
     "output_type": "execute_result"
    }
   ],
   "source": [
    "s1=json.dumps(d)\n",
    "s1"
   ]
  },
  {
   "cell_type": "code",
   "execution_count": 32,
   "id": "b99c78c3",
   "metadata": {},
   "outputs": [],
   "source": [
    "with open('Institut Polytechnique de Paris.json','w') as f:\n",
    "    json.dump(d,f)\n"
   ]
  },
  {
   "cell_type": "code",
   "execution_count": null,
   "id": "99da2718",
   "metadata": {},
   "outputs": [],
   "source": []
  }
 ],
 "metadata": {
  "kernelspec": {
   "display_name": "Python 3 (ipykernel)",
   "language": "python",
   "name": "python3"
  },
  "language_info": {
   "codemirror_mode": {
    "name": "ipython",
    "version": 3
   },
   "file_extension": ".py",
   "mimetype": "text/x-python",
   "name": "python",
   "nbconvert_exporter": "python",
   "pygments_lexer": "ipython3",
   "version": "3.9.12"
  }
 },
 "nbformat": 4,
 "nbformat_minor": 5
}
