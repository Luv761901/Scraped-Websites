{
 "cells": [
  {
   "cell_type": "code",
   "execution_count": 1,
   "id": "3c478f96",
   "metadata": {},
   "outputs": [],
   "source": [
    "from selenium import webdriver\n",
    "from selenium.webdriver.chrome.service import Service\n",
    "import pandas as pd\n",
    "import json\n",
    "\n"
   ]
  },
  {
   "cell_type": "code",
   "execution_count": 2,
   "id": "d6df8b58",
   "metadata": {},
   "outputs": [],
   "source": [
    "\n",
    "path = Service('C:\\chromedriver.exe')\n"
   ]
  },
  {
   "cell_type": "code",
   "execution_count": 3,
   "id": "46a743e4",
   "metadata": {},
   "outputs": [],
   "source": [
    "# set path for the driver\n",
    "browser = webdriver.Chrome(service = path)"
   ]
  },
  {
   "cell_type": "code",
   "execution_count": 4,
   "id": "ee2bc637",
   "metadata": {},
   "outputs": [],
   "source": [
    "url = \"https://www.topuniversities.com/university-rankings/world-university-rankings/2023\""
   ]
  },
  {
   "cell_type": "code",
   "execution_count": 5,
   "id": "9691df85",
   "metadata": {},
   "outputs": [],
   "source": [
    "# open the page url ion chrome\n",
    "browser.get(url)\n"
   ]
  },
  {
   "cell_type": "code",
   "execution_count": 6,
   "id": "34a171b5",
   "metadata": {},
   "outputs": [
    {
     "data": {
      "text/plain": [
       "[<selenium.webdriver.remote.webelement.WebElement (session=\"c66bd44d730633f793a97ca1300776d8\", element=\"c340eecb-8772-477e-a8d7-606758f96d82\")>,\n",
       " <selenium.webdriver.remote.webelement.WebElement (session=\"c66bd44d730633f793a97ca1300776d8\", element=\"177bed3b-d397-4cdf-8cb8-3bb577bd7432\")>,\n",
       " <selenium.webdriver.remote.webelement.WebElement (session=\"c66bd44d730633f793a97ca1300776d8\", element=\"02b742a6-f898-4c3f-bb98-7318396c87ed\")>,\n",
       " <selenium.webdriver.remote.webelement.WebElement (session=\"c66bd44d730633f793a97ca1300776d8\", element=\"54f7b705-4a28-4d6a-9bcc-5af0426f0aec\")>,\n",
       " <selenium.webdriver.remote.webelement.WebElement (session=\"c66bd44d730633f793a97ca1300776d8\", element=\"92589916-e4e5-40bf-acce-1a186f5b0fa0\")>,\n",
       " <selenium.webdriver.remote.webelement.WebElement (session=\"c66bd44d730633f793a97ca1300776d8\", element=\"79a997e0-9391-4716-989a-8f0aa3ae8fa2\")>,\n",
       " <selenium.webdriver.remote.webelement.WebElement (session=\"c66bd44d730633f793a97ca1300776d8\", element=\"9692ce38-3a04-4771-b4d2-2079b8d91ce1\")>,\n",
       " <selenium.webdriver.remote.webelement.WebElement (session=\"c66bd44d730633f793a97ca1300776d8\", element=\"69593f5f-09ec-4c3c-9eb4-50b90b16ee0a\")>,\n",
       " <selenium.webdriver.remote.webelement.WebElement (session=\"c66bd44d730633f793a97ca1300776d8\", element=\"83f5c903-1091-426a-8d47-17fde31a78a4\")>,\n",
       " <selenium.webdriver.remote.webelement.WebElement (session=\"c66bd44d730633f793a97ca1300776d8\", element=\"1088b050-77b6-4e73-812f-93da6e531892\")>,\n",
       " <selenium.webdriver.remote.webelement.WebElement (session=\"c66bd44d730633f793a97ca1300776d8\", element=\"5bf32eb1-61a9-46bd-ab37-b3598d6622eb\")>,\n",
       " <selenium.webdriver.remote.webelement.WebElement (session=\"c66bd44d730633f793a97ca1300776d8\", element=\"915a62df-7a03-47e3-8a2d-7fd3a836896d\")>,\n",
       " <selenium.webdriver.remote.webelement.WebElement (session=\"c66bd44d730633f793a97ca1300776d8\", element=\"eb97a1d6-bd6b-4ff1-a413-0ca7d9188ba8\")>,\n",
       " <selenium.webdriver.remote.webelement.WebElement (session=\"c66bd44d730633f793a97ca1300776d8\", element=\"ac02f332-4b69-46e9-9927-c06396992575\")>,\n",
       " <selenium.webdriver.remote.webelement.WebElement (session=\"c66bd44d730633f793a97ca1300776d8\", element=\"650cd610-b0d8-4849-b0c0-48ed9a89a7c0\")>,\n",
       " <selenium.webdriver.remote.webelement.WebElement (session=\"c66bd44d730633f793a97ca1300776d8\", element=\"d7975158-cc59-4b77-a899-055158700c27\")>,\n",
       " <selenium.webdriver.remote.webelement.WebElement (session=\"c66bd44d730633f793a97ca1300776d8\", element=\"55e96298-4fe1-4198-ab47-c08434277ac3\")>,\n",
       " <selenium.webdriver.remote.webelement.WebElement (session=\"c66bd44d730633f793a97ca1300776d8\", element=\"71febbba-cbe3-4c9e-8002-81ac12077c41\")>,\n",
       " <selenium.webdriver.remote.webelement.WebElement (session=\"c66bd44d730633f793a97ca1300776d8\", element=\"e94e11f9-f9b1-40f6-8d58-40834260ef37\")>,\n",
       " <selenium.webdriver.remote.webelement.WebElement (session=\"c66bd44d730633f793a97ca1300776d8\", element=\"38bfc3e9-71e6-41e0-943d-da5c5e01e237\")>]"
      ]
     },
     "execution_count": 6,
     "metadata": {},
     "output_type": "execute_result"
    }
   ],
   "source": [
    "\n",
    "l1=browser.find_elements(\"xpath\",\"//div[@class='location ']\")\n",
    "l1\n",
    "    "
   ]
  },
  {
   "cell_type": "code",
   "execution_count": 7,
   "id": "9226c54b",
   "metadata": {},
   "outputs": [
    {
     "data": {
      "text/plain": [
       "['Montreal, Canada',\n",
       " 'Evanston, United States',\n",
       " 'Parkville, Australia',\n",
       " 'Shanghai, China (Mainland)',\n",
       " 'Toronto, Canada',\n",
       " 'Kyoto, Japan',\n",
       " 'London, United Kingdom',\n",
       " 'Hong Kong SAR, Hong Kong SAR',\n",
       " 'New York City, United States',\n",
       " 'Hong Kong SAR, Hong Kong SAR']"
      ]
     },
     "execution_count": 7,
     "metadata": {},
     "output_type": "execute_result"
    }
   ],
   "source": [
    "loc=[]\n",
    "for data in l1:\n",
    "    #get the text data\n",
    "    temp=data.text\n",
    "    loc.append(temp)\n",
    "loc=loc[10:]\n",
    "loc\n"
   ]
  },
  {
   "cell_type": "code",
   "execution_count": 8,
   "id": "f4b5a326",
   "metadata": {},
   "outputs": [
    {
     "data": {
      "text/plain": [
       "[<selenium.webdriver.remote.webelement.WebElement (session=\"c66bd44d730633f793a97ca1300776d8\", element=\"2cbf55d5-d888-4ed7-a6a9-8e6e2a318a17\")>,\n",
       " <selenium.webdriver.remote.webelement.WebElement (session=\"c66bd44d730633f793a97ca1300776d8\", element=\"0d12a383-9da7-4061-a912-dd94e7c76480\")>,\n",
       " <selenium.webdriver.remote.webelement.WebElement (session=\"c66bd44d730633f793a97ca1300776d8\", element=\"68ffdc32-0199-42bc-a9d2-2bacfd732acd\")>,\n",
       " <selenium.webdriver.remote.webelement.WebElement (session=\"c66bd44d730633f793a97ca1300776d8\", element=\"b66c055b-e938-4040-ab87-dcc1d5ad64a2\")>,\n",
       " <selenium.webdriver.remote.webelement.WebElement (session=\"c66bd44d730633f793a97ca1300776d8\", element=\"a086c4e0-d839-4250-be71-fca657482281\")>,\n",
       " <selenium.webdriver.remote.webelement.WebElement (session=\"c66bd44d730633f793a97ca1300776d8\", element=\"7ac439d3-1b35-44fb-8176-880bc017e310\")>,\n",
       " <selenium.webdriver.remote.webelement.WebElement (session=\"c66bd44d730633f793a97ca1300776d8\", element=\"392a067b-7d0c-48b3-9939-2691f2f28926\")>,\n",
       " <selenium.webdriver.remote.webelement.WebElement (session=\"c66bd44d730633f793a97ca1300776d8\", element=\"6e739cdb-0264-4b0b-98c7-0f201b6e1296\")>,\n",
       " <selenium.webdriver.remote.webelement.WebElement (session=\"c66bd44d730633f793a97ca1300776d8\", element=\"1518d6e9-6f46-4d65-bf02-38720b4c6086\")>,\n",
       " <selenium.webdriver.remote.webelement.WebElement (session=\"c66bd44d730633f793a97ca1300776d8\", element=\"4deb41a8-a4c7-470a-bea1-d996b7ef9b05\")>]"
      ]
     },
     "execution_count": 8,
     "metadata": {},
     "output_type": "execute_result"
    }
   ],
   "source": [
    "l2=browser.find_elements(\"xpath\",\"//div[@class='_univ-rank ']\")\n",
    "l2"
   ]
  },
  {
   "cell_type": "code",
   "execution_count": 9,
   "id": "4c1c582e",
   "metadata": {},
   "outputs": [
    {
     "data": {
      "text/plain": [
       "['31', '32', '33', '=34', '=34', '36', '37', '38', '39', '40']"
      ]
     },
     "execution_count": 9,
     "metadata": {},
     "output_type": "execute_result"
    }
   ],
   "source": [
    "RANK=[]\n",
    "for data in l2:\n",
    "    #get the text data\n",
    "    temp=data.text\n",
    "    RANK.append(temp)\n",
    "RANK"
   ]
  },
  {
   "cell_type": "code",
   "execution_count": 10,
   "id": "ed9393ab",
   "metadata": {},
   "outputs": [
    {
     "data": {
      "text/plain": [
       "[<selenium.webdriver.remote.webelement.WebElement (session=\"c66bd44d730633f793a97ca1300776d8\", element=\"e0c4873e-ebb7-4328-ad0a-484fac688b3f\")>,\n",
       " <selenium.webdriver.remote.webelement.WebElement (session=\"c66bd44d730633f793a97ca1300776d8\", element=\"e35755bf-28bc-4eed-aa47-5c2fa0261a61\")>,\n",
       " <selenium.webdriver.remote.webelement.WebElement (session=\"c66bd44d730633f793a97ca1300776d8\", element=\"4ab9780a-5288-4b63-b970-e52deb617f8c\")>,\n",
       " <selenium.webdriver.remote.webelement.WebElement (session=\"c66bd44d730633f793a97ca1300776d8\", element=\"b66b1ca2-4c01-476c-9dd6-4373ec022a44\")>,\n",
       " <selenium.webdriver.remote.webelement.WebElement (session=\"c66bd44d730633f793a97ca1300776d8\", element=\"6875d8b7-18c7-4783-a053-9e967f5f5e0c\")>,\n",
       " <selenium.webdriver.remote.webelement.WebElement (session=\"c66bd44d730633f793a97ca1300776d8\", element=\"228b76aa-aab1-40f0-8b0c-c496bf2532f1\")>,\n",
       " <selenium.webdriver.remote.webelement.WebElement (session=\"c66bd44d730633f793a97ca1300776d8\", element=\"456db0c1-6f35-4c1b-9777-cadd38e89b6c\")>,\n",
       " <selenium.webdriver.remote.webelement.WebElement (session=\"c66bd44d730633f793a97ca1300776d8\", element=\"74426997-0a9d-4e65-a3b7-fbcb1ff69305\")>,\n",
       " <selenium.webdriver.remote.webelement.WebElement (session=\"c66bd44d730633f793a97ca1300776d8\", element=\"fb702739-8e1b-4494-a9d2-2ad8153d01d9\")>]"
      ]
     },
     "execution_count": 10,
     "metadata": {},
     "output_type": "execute_result"
    }
   ],
   "source": [
    "# GET EACH COLLEGE SPECIFICATION HEADERS\n",
    "header=browser.find_elements(\"xpath\",\"//div[@class='_click-function_ind']\")\n",
    "header"
   ]
  },
  {
   "cell_type": "code",
   "execution_count": 11,
   "id": "b931afdd",
   "metadata": {},
   "outputs": [
    {
     "data": {
      "text/plain": [
       "['Overall Score',\n",
       " 'Academic Reputation',\n",
       " 'Employer Reputation',\n",
       " 'Citations per Faculty',\n",
       " 'Faculty Student Ratio',\n",
       " 'International Students Ratio',\n",
       " 'International Faculty Ratio',\n",
       " 'International Research Network\\nUnweighted',\n",
       " 'Employment Outcomes\\nUnweighted']"
      ]
     },
     "execution_count": 11,
     "metadata": {},
     "output_type": "execute_result"
    }
   ],
   "source": [
    "#PARSING DATA\n",
    "column_head=[]\n",
    "for data in header:\n",
    "    #get the text data\n",
    "    temp=data.text\n",
    "    column_head.append(temp)\n",
    "column_head"
   ]
  },
  {
   "cell_type": "code",
   "execution_count": 12,
   "id": "3d6623d1",
   "metadata": {},
   "outputs": [
    {
     "data": {
      "text/plain": [
       "[<selenium.webdriver.remote.webelement.WebElement (session=\"c66bd44d730633f793a97ca1300776d8\", element=\"3d607db4-6797-48e8-a252-697ede5375d3\")>,\n",
       " <selenium.webdriver.remote.webelement.WebElement (session=\"c66bd44d730633f793a97ca1300776d8\", element=\"0af29104-de84-4885-b35c-e3f3dc0aea14\")>,\n",
       " <selenium.webdriver.remote.webelement.WebElement (session=\"c66bd44d730633f793a97ca1300776d8\", element=\"41429cec-cf28-41f5-abca-59df8fc70a31\")>,\n",
       " <selenium.webdriver.remote.webelement.WebElement (session=\"c66bd44d730633f793a97ca1300776d8\", element=\"4b893ac2-4707-4341-982f-e1596c492c4d\")>,\n",
       " <selenium.webdriver.remote.webelement.WebElement (session=\"c66bd44d730633f793a97ca1300776d8\", element=\"b55dfd7d-1a3f-4ccb-ba20-4c7c29e987bf\")>,\n",
       " <selenium.webdriver.remote.webelement.WebElement (session=\"c66bd44d730633f793a97ca1300776d8\", element=\"1b02b64d-b4ab-4a31-99a3-67efb188fd80\")>,\n",
       " <selenium.webdriver.remote.webelement.WebElement (session=\"c66bd44d730633f793a97ca1300776d8\", element=\"1a2714ee-65a7-4c4f-b674-447ab6ad909a\")>,\n",
       " <selenium.webdriver.remote.webelement.WebElement (session=\"c66bd44d730633f793a97ca1300776d8\", element=\"62199a68-ecd0-4a23-a1b6-5356275e2731\")>,\n",
       " <selenium.webdriver.remote.webelement.WebElement (session=\"c66bd44d730633f793a97ca1300776d8\", element=\"d369de55-4a4e-4623-ba89-f05254610e71\")>,\n",
       " <selenium.webdriver.remote.webelement.WebElement (session=\"c66bd44d730633f793a97ca1300776d8\", element=\"672bf928-5881-49f5-b42a-e7dc0a00f4d7\")>,\n",
       " <selenium.webdriver.remote.webelement.WebElement (session=\"c66bd44d730633f793a97ca1300776d8\", element=\"356e984d-8aad-434d-944d-db8fbea72bea\")>,\n",
       " <selenium.webdriver.remote.webelement.WebElement (session=\"c66bd44d730633f793a97ca1300776d8\", element=\"2e36450e-8e60-4593-9580-af2de52af9a4\")>,\n",
       " <selenium.webdriver.remote.webelement.WebElement (session=\"c66bd44d730633f793a97ca1300776d8\", element=\"5da1f5f2-8a34-40f5-b5ea-6eec45054792\")>,\n",
       " <selenium.webdriver.remote.webelement.WebElement (session=\"c66bd44d730633f793a97ca1300776d8\", element=\"3269f3cc-1158-46a6-b601-f6490e0d2c48\")>,\n",
       " <selenium.webdriver.remote.webelement.WebElement (session=\"c66bd44d730633f793a97ca1300776d8\", element=\"d79d0fe0-9e48-4546-9d4b-b27c199c573a\")>,\n",
       " <selenium.webdriver.remote.webelement.WebElement (session=\"c66bd44d730633f793a97ca1300776d8\", element=\"d43a6c07-24d2-464a-92f4-8191fc5b75dc\")>,\n",
       " <selenium.webdriver.remote.webelement.WebElement (session=\"c66bd44d730633f793a97ca1300776d8\", element=\"94f8287f-1c60-4d58-ab12-d9b06078c111\")>,\n",
       " <selenium.webdriver.remote.webelement.WebElement (session=\"c66bd44d730633f793a97ca1300776d8\", element=\"d693feac-566d-4eec-aaf9-2dd38597c840\")>,\n",
       " <selenium.webdriver.remote.webelement.WebElement (session=\"c66bd44d730633f793a97ca1300776d8\", element=\"216a4cb6-098d-4ba9-b992-79d50f94eb3e\")>,\n",
       " <selenium.webdriver.remote.webelement.WebElement (session=\"c66bd44d730633f793a97ca1300776d8\", element=\"852ee423-3883-4465-a39d-10d934040640\")>,\n",
       " <selenium.webdriver.remote.webelement.WebElement (session=\"c66bd44d730633f793a97ca1300776d8\", element=\"c99b199f-ea07-44c4-9e2f-f723667349a8\")>,\n",
       " <selenium.webdriver.remote.webelement.WebElement (session=\"c66bd44d730633f793a97ca1300776d8\", element=\"9662d976-aa45-445f-b67f-97929d2eaf26\")>,\n",
       " <selenium.webdriver.remote.webelement.WebElement (session=\"c66bd44d730633f793a97ca1300776d8\", element=\"89cc3c69-9bc9-4108-9a97-e96204cf5628\")>,\n",
       " <selenium.webdriver.remote.webelement.WebElement (session=\"c66bd44d730633f793a97ca1300776d8\", element=\"2f9c155c-557e-4e93-a799-8b8d74ea5833\")>,\n",
       " <selenium.webdriver.remote.webelement.WebElement (session=\"c66bd44d730633f793a97ca1300776d8\", element=\"b7397004-e311-4ed7-8ffe-c98578b7f165\")>,\n",
       " <selenium.webdriver.remote.webelement.WebElement (session=\"c66bd44d730633f793a97ca1300776d8\", element=\"3b32c2f7-ce48-4231-a139-ccb0795474cb\")>,\n",
       " <selenium.webdriver.remote.webelement.WebElement (session=\"c66bd44d730633f793a97ca1300776d8\", element=\"31f68347-429e-4111-bd1e-38a655e70b26\")>,\n",
       " <selenium.webdriver.remote.webelement.WebElement (session=\"c66bd44d730633f793a97ca1300776d8\", element=\"bfe223e3-fb55-46e4-9ecc-140380857111\")>,\n",
       " <selenium.webdriver.remote.webelement.WebElement (session=\"c66bd44d730633f793a97ca1300776d8\", element=\"d29695ce-f70f-4ac5-af54-0654c94d94ff\")>,\n",
       " <selenium.webdriver.remote.webelement.WebElement (session=\"c66bd44d730633f793a97ca1300776d8\", element=\"51e6d0a9-cdd3-4272-a4e9-a0fda5bef5c9\")>,\n",
       " <selenium.webdriver.remote.webelement.WebElement (session=\"c66bd44d730633f793a97ca1300776d8\", element=\"dfb0d413-997b-49f4-aac4-d3100cb4bb7f\")>,\n",
       " <selenium.webdriver.remote.webelement.WebElement (session=\"c66bd44d730633f793a97ca1300776d8\", element=\"9e0947ff-b926-4fe6-b889-6dd3585b2cc7\")>,\n",
       " <selenium.webdriver.remote.webelement.WebElement (session=\"c66bd44d730633f793a97ca1300776d8\", element=\"3d9e4f49-7ffc-4dc8-ab6f-03b472c71030\")>,\n",
       " <selenium.webdriver.remote.webelement.WebElement (session=\"c66bd44d730633f793a97ca1300776d8\", element=\"b242b43c-2d96-4176-824d-e329b3d54d64\")>,\n",
       " <selenium.webdriver.remote.webelement.WebElement (session=\"c66bd44d730633f793a97ca1300776d8\", element=\"501a85dd-362d-4b33-bc9b-b25ba1213c1e\")>,\n",
       " <selenium.webdriver.remote.webelement.WebElement (session=\"c66bd44d730633f793a97ca1300776d8\", element=\"b3b024b5-9137-4d90-b8ca-9e92c0460d79\")>,\n",
       " <selenium.webdriver.remote.webelement.WebElement (session=\"c66bd44d730633f793a97ca1300776d8\", element=\"1f072aa9-b30a-4470-8ae2-2a4245a93503\")>,\n",
       " <selenium.webdriver.remote.webelement.WebElement (session=\"c66bd44d730633f793a97ca1300776d8\", element=\"11a60cb8-b8a5-4775-a0fc-4c6e87f827fe\")>,\n",
       " <selenium.webdriver.remote.webelement.WebElement (session=\"c66bd44d730633f793a97ca1300776d8\", element=\"8cc6ba9c-00b1-4335-9be5-e701db9bf612\")>,\n",
       " <selenium.webdriver.remote.webelement.WebElement (session=\"c66bd44d730633f793a97ca1300776d8\", element=\"ae708911-0ae7-4ef4-a503-3c52a89aad44\")>,\n",
       " <selenium.webdriver.remote.webelement.WebElement (session=\"c66bd44d730633f793a97ca1300776d8\", element=\"5a54fcc2-01be-48e2-a6cf-924e3281dd49\")>,\n",
       " <selenium.webdriver.remote.webelement.WebElement (session=\"c66bd44d730633f793a97ca1300776d8\", element=\"6e48ac1b-0dd1-468e-a1ae-62de1dc12387\")>,\n",
       " <selenium.webdriver.remote.webelement.WebElement (session=\"c66bd44d730633f793a97ca1300776d8\", element=\"2dcdad35-b08e-47bd-bb8a-f561af0bb243\")>,\n",
       " <selenium.webdriver.remote.webelement.WebElement (session=\"c66bd44d730633f793a97ca1300776d8\", element=\"c648496e-6abd-40db-b7cf-bc5bcbc51aac\")>,\n",
       " <selenium.webdriver.remote.webelement.WebElement (session=\"c66bd44d730633f793a97ca1300776d8\", element=\"a5678e56-ae75-4fd3-a845-d58e1cf51e3b\")>,\n",
       " <selenium.webdriver.remote.webelement.WebElement (session=\"c66bd44d730633f793a97ca1300776d8\", element=\"33c36443-5364-47b6-94d7-e4d42a7a588e\")>,\n",
       " <selenium.webdriver.remote.webelement.WebElement (session=\"c66bd44d730633f793a97ca1300776d8\", element=\"3477185a-0d4e-4382-9771-f520e0305640\")>,\n",
       " <selenium.webdriver.remote.webelement.WebElement (session=\"c66bd44d730633f793a97ca1300776d8\", element=\"a93bd72a-2d6b-4535-9df1-d95375a2bc12\")>,\n",
       " <selenium.webdriver.remote.webelement.WebElement (session=\"c66bd44d730633f793a97ca1300776d8\", element=\"21800278-7322-43bc-ad4e-75731b8029af\")>,\n",
       " <selenium.webdriver.remote.webelement.WebElement (session=\"c66bd44d730633f793a97ca1300776d8\", element=\"b9cf699a-5a0d-4f89-8c3e-68ca6ffb90b4\")>,\n",
       " <selenium.webdriver.remote.webelement.WebElement (session=\"c66bd44d730633f793a97ca1300776d8\", element=\"03b635b4-865d-4f5f-94f7-67671fce8025\")>,\n",
       " <selenium.webdriver.remote.webelement.WebElement (session=\"c66bd44d730633f793a97ca1300776d8\", element=\"899d17f4-025d-434b-914b-6584169efb7e\")>,\n",
       " <selenium.webdriver.remote.webelement.WebElement (session=\"c66bd44d730633f793a97ca1300776d8\", element=\"8cf1ebc1-90f7-4f61-999f-6d8ba2f558c9\")>,\n",
       " <selenium.webdriver.remote.webelement.WebElement (session=\"c66bd44d730633f793a97ca1300776d8\", element=\"ef07df8b-3526-48e8-9c0b-1165b9242346\")>,\n",
       " <selenium.webdriver.remote.webelement.WebElement (session=\"c66bd44d730633f793a97ca1300776d8\", element=\"1b021b48-276d-4d01-a8bc-9d53faec9285\")>,\n",
       " <selenium.webdriver.remote.webelement.WebElement (session=\"c66bd44d730633f793a97ca1300776d8\", element=\"dd000d55-dfd7-48b9-a758-7e7ab81f7b01\")>,\n",
       " <selenium.webdriver.remote.webelement.WebElement (session=\"c66bd44d730633f793a97ca1300776d8\", element=\"f55b3183-5486-4691-8db9-5fba3d99f791\")>,\n",
       " <selenium.webdriver.remote.webelement.WebElement (session=\"c66bd44d730633f793a97ca1300776d8\", element=\"e4bca109-1f43-4298-8129-68429adecf75\")>,\n",
       " <selenium.webdriver.remote.webelement.WebElement (session=\"c66bd44d730633f793a97ca1300776d8\", element=\"b377f1e3-e5be-4c0a-b884-1b8d8fb47ba0\")>,\n",
       " <selenium.webdriver.remote.webelement.WebElement (session=\"c66bd44d730633f793a97ca1300776d8\", element=\"55895739-3f3c-45ce-b1d3-2c717bc9d9e6\")>,\n",
       " <selenium.webdriver.remote.webelement.WebElement (session=\"c66bd44d730633f793a97ca1300776d8\", element=\"6ba31828-e61a-479b-a328-a51bc2de271c\")>,\n",
       " <selenium.webdriver.remote.webelement.WebElement (session=\"c66bd44d730633f793a97ca1300776d8\", element=\"09b7f246-16de-49b7-bff6-e5cbff8dd063\")>,\n",
       " <selenium.webdriver.remote.webelement.WebElement (session=\"c66bd44d730633f793a97ca1300776d8\", element=\"3b56cffe-8f7f-42a8-92ba-f7def1fec68a\")>,\n",
       " <selenium.webdriver.remote.webelement.WebElement (session=\"c66bd44d730633f793a97ca1300776d8\", element=\"3fe423a3-2bee-4afa-9d9c-d0265f276dc1\")>,\n",
       " <selenium.webdriver.remote.webelement.WebElement (session=\"c66bd44d730633f793a97ca1300776d8\", element=\"ea254dcc-3641-4b00-b83b-3937f6059ea8\")>,\n",
       " <selenium.webdriver.remote.webelement.WebElement (session=\"c66bd44d730633f793a97ca1300776d8\", element=\"ab3b67ce-7eb3-4ca8-ab4b-fdef2bb2db0e\")>,\n",
       " <selenium.webdriver.remote.webelement.WebElement (session=\"c66bd44d730633f793a97ca1300776d8\", element=\"5f09e882-7066-4997-bf46-a4c639db2d82\")>,\n",
       " <selenium.webdriver.remote.webelement.WebElement (session=\"c66bd44d730633f793a97ca1300776d8\", element=\"3c8af2d8-a849-4ecc-a0a4-6745a7700432\")>,\n",
       " <selenium.webdriver.remote.webelement.WebElement (session=\"c66bd44d730633f793a97ca1300776d8\", element=\"129e1c59-d5fe-44b2-9944-ccab7e817d1b\")>,\n",
       " <selenium.webdriver.remote.webelement.WebElement (session=\"c66bd44d730633f793a97ca1300776d8\", element=\"640df7ad-1903-4842-bdec-6ff5acc5ff59\")>,\n",
       " <selenium.webdriver.remote.webelement.WebElement (session=\"c66bd44d730633f793a97ca1300776d8\", element=\"7d72dd6d-0ae7-4cbc-91ae-cdd13e9f4086\")>,\n",
       " <selenium.webdriver.remote.webelement.WebElement (session=\"c66bd44d730633f793a97ca1300776d8\", element=\"733fbbea-2693-4ec0-9531-28aebfc499f2\")>,\n",
       " <selenium.webdriver.remote.webelement.WebElement (session=\"c66bd44d730633f793a97ca1300776d8\", element=\"eb951662-2c61-4d9b-857d-a376000769d5\")>,\n",
       " <selenium.webdriver.remote.webelement.WebElement (session=\"c66bd44d730633f793a97ca1300776d8\", element=\"2da6b983-ed9d-48a7-9111-79a780d26a25\")>,\n",
       " <selenium.webdriver.remote.webelement.WebElement (session=\"c66bd44d730633f793a97ca1300776d8\", element=\"6f84842a-d53a-4381-be9b-9684329fc176\")>,\n",
       " <selenium.webdriver.remote.webelement.WebElement (session=\"c66bd44d730633f793a97ca1300776d8\", element=\"64f0e29f-58bf-428a-bd0e-74be1b16cca0\")>,\n",
       " <selenium.webdriver.remote.webelement.WebElement (session=\"c66bd44d730633f793a97ca1300776d8\", element=\"3c919e6d-49eb-4c22-961a-a145edee8315\")>,\n",
       " <selenium.webdriver.remote.webelement.WebElement (session=\"c66bd44d730633f793a97ca1300776d8\", element=\"a1a5a0b5-2143-4a6e-a4f1-b25d6607f9c4\")>,\n",
       " <selenium.webdriver.remote.webelement.WebElement (session=\"c66bd44d730633f793a97ca1300776d8\", element=\"56da49cf-1947-4886-85ea-dde1779b4e92\")>,\n",
       " <selenium.webdriver.remote.webelement.WebElement (session=\"c66bd44d730633f793a97ca1300776d8\", element=\"9241745c-fa68-4324-9ce9-3ae918e3ff26\")>,\n",
       " <selenium.webdriver.remote.webelement.WebElement (session=\"c66bd44d730633f793a97ca1300776d8\", element=\"69c9572a-a523-4f06-b04e-6882d8231143\")>,\n",
       " <selenium.webdriver.remote.webelement.WebElement (session=\"c66bd44d730633f793a97ca1300776d8\", element=\"640d28fe-095c-4d55-8299-3c17cc179068\")>,\n",
       " <selenium.webdriver.remote.webelement.WebElement (session=\"c66bd44d730633f793a97ca1300776d8\", element=\"de00b31c-2569-4a50-a914-9f42c579e7e8\")>,\n",
       " <selenium.webdriver.remote.webelement.WebElement (session=\"c66bd44d730633f793a97ca1300776d8\", element=\"3b7cae7e-d95a-460b-8c06-c755cf365795\")>,\n",
       " <selenium.webdriver.remote.webelement.WebElement (session=\"c66bd44d730633f793a97ca1300776d8\", element=\"9e346fa7-fd1f-40bf-80d7-266e80899975\")>,\n",
       " <selenium.webdriver.remote.webelement.WebElement (session=\"c66bd44d730633f793a97ca1300776d8\", element=\"66cad62e-9a9e-4181-b57b-249f61001b53\")>,\n",
       " <selenium.webdriver.remote.webelement.WebElement (session=\"c66bd44d730633f793a97ca1300776d8\", element=\"76142aac-7045-46a2-b5b9-f50faaa9e143\")>,\n",
       " <selenium.webdriver.remote.webelement.WebElement (session=\"c66bd44d730633f793a97ca1300776d8\", element=\"88689207-7aa8-494d-b4c4-b1aacade0a2c\")>,\n",
       " <selenium.webdriver.remote.webelement.WebElement (session=\"c66bd44d730633f793a97ca1300776d8\", element=\"8825f6fd-de4c-4d31-8ff9-ba4fe141704c\")>,\n",
       " <selenium.webdriver.remote.webelement.WebElement (session=\"c66bd44d730633f793a97ca1300776d8\", element=\"8520ff45-8af4-4dc7-a88f-55a20f468e37\")>,\n",
       " <selenium.webdriver.remote.webelement.WebElement (session=\"c66bd44d730633f793a97ca1300776d8\", element=\"b79b0865-f0dc-4fda-9601-f57f6e3009b3\")>,\n",
       " <selenium.webdriver.remote.webelement.WebElement (session=\"c66bd44d730633f793a97ca1300776d8\", element=\"a9967120-d14c-4561-87ee-533698fad884\")>,\n",
       " <selenium.webdriver.remote.webelement.WebElement (session=\"c66bd44d730633f793a97ca1300776d8\", element=\"e37e94a8-6502-4bb9-bf63-44a69f27b8f1\")>,\n",
       " <selenium.webdriver.remote.webelement.WebElement (session=\"c66bd44d730633f793a97ca1300776d8\", element=\"b22e25e5-b088-4a66-89c4-39a1bea4b680\")>,\n",
       " <selenium.webdriver.remote.webelement.WebElement (session=\"c66bd44d730633f793a97ca1300776d8\", element=\"7d4dc3e7-db69-4eaf-ac9f-191ac626b66b\")>,\n",
       " <selenium.webdriver.remote.webelement.WebElement (session=\"c66bd44d730633f793a97ca1300776d8\", element=\"382ed644-338a-4f3a-8acc-b214349a506f\")>,\n",
       " <selenium.webdriver.remote.webelement.WebElement (session=\"c66bd44d730633f793a97ca1300776d8\", element=\"9ad9b39f-0cc6-41a0-a510-58f25f5f1bfc\")>,\n",
       " <selenium.webdriver.remote.webelement.WebElement (session=\"c66bd44d730633f793a97ca1300776d8\", element=\"e998853f-13f7-4453-b884-fd76ea6d2d0d\")>,\n",
       " <selenium.webdriver.remote.webelement.WebElement (session=\"c66bd44d730633f793a97ca1300776d8\", element=\"199ec102-5f9f-40fa-8680-a3b049ba1406\")>,\n",
       " <selenium.webdriver.remote.webelement.WebElement (session=\"c66bd44d730633f793a97ca1300776d8\", element=\"c2f9905e-8ce4-4d16-b8a5-5f6c7e9c85be\")>]"
      ]
     },
     "execution_count": 12,
     "metadata": {},
     "output_type": "execute_result"
    }
   ],
   "source": [
    "header2=browser.find_elements(\"xpath\",\"//div[@class='td-wrap-in']\")\n",
    "header2"
   ]
  },
  {
   "cell_type": "code",
   "execution_count": 13,
   "id": "0239477f",
   "metadata": {},
   "outputs": [
    {
     "data": {
      "text/plain": [
       "['80.3', '95.9', '99', '28.9', '98.1', '94.4', '31.3', '92', '99.7']"
      ]
     },
     "execution_count": 13,
     "metadata": {},
     "output_type": "execute_result"
    }
   ],
   "source": [
    "#PARSING DATA\n",
    "value_head=[]\n",
    "for data in header2:\n",
    "    #get the text data\n",
    "    temp=data.text\n",
    "    value_head.append(temp)\n",
    "value=value_head[81:90]\n",
    "value\n"
   ]
  },
  {
   "cell_type": "code",
   "execution_count": 14,
   "id": "d9e4b6f9",
   "metadata": {},
   "outputs": [
    {
     "data": {
      "text/plain": [
       "{'Name': 'New York University (NYU)',\n",
       " 'Location': 'New York City, United States',\n",
       " 'Rank': '39',\n",
       " 'Overall Score': '80.3',\n",
       " 'Academic Reputation': '95.9',\n",
       " 'Employer Reputation': '99',\n",
       " 'Citations per Faculty': '28.9',\n",
       " 'Faculty Student Ratio': '98.1',\n",
       " 'International Students Ratio': '94.4',\n",
       " 'International Faculty Ratio': '31.3',\n",
       " 'International Research Network\\nUnweighted': '92',\n",
       " 'Employment Outcomes\\nUnweighted': '99.7'}"
      ]
     },
     "execution_count": 14,
     "metadata": {},
     "output_type": "execute_result"
    }
   ],
   "source": [
    "d={}\n",
    "d['Name']=value_head[80]\n",
    "d['Location']=loc[8]\n",
    "d['Rank']=RANK[8]\n",
    "\n",
    "\n",
    "for i in range(len(column_head)):\n",
    "    d[column_head[i]]=value[i]\n",
    "d"
   ]
  },
  {
   "cell_type": "code",
   "execution_count": 15,
   "id": "670fc791",
   "metadata": {},
   "outputs": [
    {
     "data": {
      "text/plain": [
       "'{\"Name\": \"New York University (NYU)\", \"Location\": \"New York City, United States\", \"Rank\": \"39\", \"Overall Score\": \"80.3\", \"Academic Reputation\": \"95.9\", \"Employer Reputation\": \"99\", \"Citations per Faculty\": \"28.9\", \"Faculty Student Ratio\": \"98.1\", \"International Students Ratio\": \"94.4\", \"International Faculty Ratio\": \"31.3\", \"International Research Network\\\\nUnweighted\": \"92\", \"Employment Outcomes\\\\nUnweighted\": \"99.7\"}'"
      ]
     },
     "execution_count": 15,
     "metadata": {},
     "output_type": "execute_result"
    }
   ],
   "source": [
    "s1=json.dumps(d)\n",
    "s1"
   ]
  },
  {
   "cell_type": "code",
   "execution_count": 16,
   "id": "c03ee25e",
   "metadata": {},
   "outputs": [],
   "source": [
    "\n",
    "with open('New York University (NYU).json','w') as f:\n",
    "    json.dump(d,f)\n"
   ]
  },
  {
   "cell_type": "code",
   "execution_count": null,
   "id": "c0cd561d",
   "metadata": {},
   "outputs": [],
   "source": []
  },
  {
   "cell_type": "code",
   "execution_count": null,
   "id": "2f94bdf6",
   "metadata": {},
   "outputs": [],
   "source": []
  }
 ],
 "metadata": {
  "kernelspec": {
   "display_name": "Python 3 (ipykernel)",
   "language": "python",
   "name": "python3"
  },
  "language_info": {
   "codemirror_mode": {
    "name": "ipython",
    "version": 3
   },
   "file_extension": ".py",
   "mimetype": "text/x-python",
   "name": "python",
   "nbconvert_exporter": "python",
   "pygments_lexer": "ipython3",
   "version": "3.9.12"
  }
 },
 "nbformat": 4,
 "nbformat_minor": 5
}
