{
 "cells": [
  {
   "cell_type": "code",
   "execution_count": 1,
   "id": "3c478f96",
   "metadata": {},
   "outputs": [],
   "source": [
    "from selenium import webdriver\n",
    "from selenium.webdriver.chrome.service import Service\n",
    "import pandas as pd\n",
    "import json\n",
    "\n"
   ]
  },
  {
   "cell_type": "code",
   "execution_count": 2,
   "id": "d6df8b58",
   "metadata": {},
   "outputs": [],
   "source": [
    "\n",
    "path = Service('C:\\chromedriver.exe')\n"
   ]
  },
  {
   "cell_type": "code",
   "execution_count": 3,
   "id": "46a743e4",
   "metadata": {},
   "outputs": [],
   "source": [
    "# set path for the driver\n",
    "browser = webdriver.Chrome(service = path)"
   ]
  },
  {
   "cell_type": "code",
   "execution_count": 4,
   "id": "ee2bc637",
   "metadata": {},
   "outputs": [],
   "source": [
    "url = \"https://www.topuniversities.com/university-rankings/world-university-rankings/2023\""
   ]
  },
  {
   "cell_type": "code",
   "execution_count": 5,
   "id": "9691df85",
   "metadata": {},
   "outputs": [],
   "source": [
    "# open the page url ion chrome\n",
    "browser.get(url)\n"
   ]
  },
  {
   "cell_type": "code",
   "execution_count": 6,
   "id": "ed9393ab",
   "metadata": {},
   "outputs": [
    {
     "data": {
      "text/plain": [
       "[<selenium.webdriver.remote.webelement.WebElement (session=\"5e813e34eb3eb57fa6fbc13da01dbbe6\", element=\"8f7a0d13-46bb-4ee4-8688-bd493ed0ea3a\")>,\n",
       " <selenium.webdriver.remote.webelement.WebElement (session=\"5e813e34eb3eb57fa6fbc13da01dbbe6\", element=\"1a94be1f-381e-475f-8cb5-799d2c9eee7f\")>,\n",
       " <selenium.webdriver.remote.webelement.WebElement (session=\"5e813e34eb3eb57fa6fbc13da01dbbe6\", element=\"3ddbd5cc-a9db-47d8-a143-e202db1c4b5d\")>,\n",
       " <selenium.webdriver.remote.webelement.WebElement (session=\"5e813e34eb3eb57fa6fbc13da01dbbe6\", element=\"cca790ab-a905-422c-afca-8d1fe55ad590\")>,\n",
       " <selenium.webdriver.remote.webelement.WebElement (session=\"5e813e34eb3eb57fa6fbc13da01dbbe6\", element=\"8920a2d7-ce59-45a5-a3ed-536093c77720\")>,\n",
       " <selenium.webdriver.remote.webelement.WebElement (session=\"5e813e34eb3eb57fa6fbc13da01dbbe6\", element=\"e95dce61-00c5-4da0-8344-d81a0531d466\")>,\n",
       " <selenium.webdriver.remote.webelement.WebElement (session=\"5e813e34eb3eb57fa6fbc13da01dbbe6\", element=\"265a37fa-e30f-499b-862d-fc27ebe0f563\")>,\n",
       " <selenium.webdriver.remote.webelement.WebElement (session=\"5e813e34eb3eb57fa6fbc13da01dbbe6\", element=\"35702159-6ce3-48ff-9236-566be7848b47\")>,\n",
       " <selenium.webdriver.remote.webelement.WebElement (session=\"5e813e34eb3eb57fa6fbc13da01dbbe6\", element=\"03735eda-7365-4230-817a-29f83d18d023\")>]"
      ]
     },
     "execution_count": 6,
     "metadata": {},
     "output_type": "execute_result"
    }
   ],
   "source": [
    "# GET EACH COLLEGE SPECIFICATION HEADERS\n",
    "header=browser.find_elements(\"xpath\",\"//div[@class='_click-function_ind']\")\n",
    "header"
   ]
  },
  {
   "cell_type": "code",
   "execution_count": 7,
   "id": "b931afdd",
   "metadata": {},
   "outputs": [
    {
     "data": {
      "text/plain": [
       "['Overall Score',\n",
       " 'Academic Reputation',\n",
       " 'Employer Reputation',\n",
       " 'Citations per Faculty',\n",
       " 'Faculty Student Ratio',\n",
       " 'International Students Ratio',\n",
       " 'International Faculty Ratio',\n",
       " 'International Research Network\\nUnweighted',\n",
       " 'Employment Outcomes\\nUnweighted']"
      ]
     },
     "execution_count": 7,
     "metadata": {},
     "output_type": "execute_result"
    }
   ],
   "source": [
    "#PARSING DATA\n",
    "column_head=[]\n",
    "for data in header:\n",
    "    #get the text data\n",
    "    temp=data.text\n",
    "    column_head.append(temp)\n",
    "column_head"
   ]
  },
  {
   "cell_type": "code",
   "execution_count": 8,
   "id": "3d6623d1",
   "metadata": {},
   "outputs": [
    {
     "data": {
      "text/plain": [
       "[<selenium.webdriver.remote.webelement.WebElement (session=\"5e813e34eb3eb57fa6fbc13da01dbbe6\", element=\"00c343e0-bbc3-47f0-8968-688a59f477ed\")>,\n",
       " <selenium.webdriver.remote.webelement.WebElement (session=\"5e813e34eb3eb57fa6fbc13da01dbbe6\", element=\"6f9f725d-1186-4cfb-be7f-e60b8db7815a\")>,\n",
       " <selenium.webdriver.remote.webelement.WebElement (session=\"5e813e34eb3eb57fa6fbc13da01dbbe6\", element=\"4eda9808-a77d-4ea3-b50f-ab1f83af6212\")>,\n",
       " <selenium.webdriver.remote.webelement.WebElement (session=\"5e813e34eb3eb57fa6fbc13da01dbbe6\", element=\"18cc0a5a-3076-4955-a638-cf2733ffb348\")>,\n",
       " <selenium.webdriver.remote.webelement.WebElement (session=\"5e813e34eb3eb57fa6fbc13da01dbbe6\", element=\"7a6caa27-092a-4f1f-b508-5160f4b72eed\")>,\n",
       " <selenium.webdriver.remote.webelement.WebElement (session=\"5e813e34eb3eb57fa6fbc13da01dbbe6\", element=\"abf7dd7f-1ff5-4a80-8f03-795cb090836c\")>,\n",
       " <selenium.webdriver.remote.webelement.WebElement (session=\"5e813e34eb3eb57fa6fbc13da01dbbe6\", element=\"d306faf6-e104-49d7-9e0b-9a161c5e7f2f\")>,\n",
       " <selenium.webdriver.remote.webelement.WebElement (session=\"5e813e34eb3eb57fa6fbc13da01dbbe6\", element=\"57fd71bb-3076-4840-9914-b83e1414d4b2\")>,\n",
       " <selenium.webdriver.remote.webelement.WebElement (session=\"5e813e34eb3eb57fa6fbc13da01dbbe6\", element=\"d186d7ba-ce90-4c41-b4bd-69d0602e7f7a\")>,\n",
       " <selenium.webdriver.remote.webelement.WebElement (session=\"5e813e34eb3eb57fa6fbc13da01dbbe6\", element=\"1058b89e-ee26-4368-8e4f-06ec5b5d0012\")>,\n",
       " <selenium.webdriver.remote.webelement.WebElement (session=\"5e813e34eb3eb57fa6fbc13da01dbbe6\", element=\"5967977b-31f4-43d2-9b65-0d30029a998c\")>,\n",
       " <selenium.webdriver.remote.webelement.WebElement (session=\"5e813e34eb3eb57fa6fbc13da01dbbe6\", element=\"76887ae9-6467-448b-a8d7-9b300bebda75\")>,\n",
       " <selenium.webdriver.remote.webelement.WebElement (session=\"5e813e34eb3eb57fa6fbc13da01dbbe6\", element=\"aa137118-3525-403a-828f-a192bc7b9759\")>,\n",
       " <selenium.webdriver.remote.webelement.WebElement (session=\"5e813e34eb3eb57fa6fbc13da01dbbe6\", element=\"1f2d6f66-0520-42d0-825b-7df1b7c117a6\")>,\n",
       " <selenium.webdriver.remote.webelement.WebElement (session=\"5e813e34eb3eb57fa6fbc13da01dbbe6\", element=\"ecf2305f-2824-4e0c-9cd4-361d98a97274\")>,\n",
       " <selenium.webdriver.remote.webelement.WebElement (session=\"5e813e34eb3eb57fa6fbc13da01dbbe6\", element=\"04f79fac-3735-481d-8279-d7e64302ba37\")>,\n",
       " <selenium.webdriver.remote.webelement.WebElement (session=\"5e813e34eb3eb57fa6fbc13da01dbbe6\", element=\"b8247e5d-7c74-4189-b128-afba7b03cec9\")>,\n",
       " <selenium.webdriver.remote.webelement.WebElement (session=\"5e813e34eb3eb57fa6fbc13da01dbbe6\", element=\"5636ac80-c4f6-43c9-aac8-ca6b036fc03d\")>,\n",
       " <selenium.webdriver.remote.webelement.WebElement (session=\"5e813e34eb3eb57fa6fbc13da01dbbe6\", element=\"8ec4cb5f-6363-466c-8c4d-aba317a4f340\")>,\n",
       " <selenium.webdriver.remote.webelement.WebElement (session=\"5e813e34eb3eb57fa6fbc13da01dbbe6\", element=\"30238439-845a-4ccf-9158-ce0411e7d107\")>,\n",
       " <selenium.webdriver.remote.webelement.WebElement (session=\"5e813e34eb3eb57fa6fbc13da01dbbe6\", element=\"8414c311-5a5a-45e5-8093-52c977eba2f1\")>,\n",
       " <selenium.webdriver.remote.webelement.WebElement (session=\"5e813e34eb3eb57fa6fbc13da01dbbe6\", element=\"9b07ac2d-444e-43db-af2a-76700d1f90c6\")>,\n",
       " <selenium.webdriver.remote.webelement.WebElement (session=\"5e813e34eb3eb57fa6fbc13da01dbbe6\", element=\"c8ea5b01-81bd-4bdb-87fd-59673149708c\")>,\n",
       " <selenium.webdriver.remote.webelement.WebElement (session=\"5e813e34eb3eb57fa6fbc13da01dbbe6\", element=\"3d1d5e07-61b7-4087-90e1-58576963653d\")>,\n",
       " <selenium.webdriver.remote.webelement.WebElement (session=\"5e813e34eb3eb57fa6fbc13da01dbbe6\", element=\"f465fa68-62cf-4345-844b-fb3398c8c155\")>,\n",
       " <selenium.webdriver.remote.webelement.WebElement (session=\"5e813e34eb3eb57fa6fbc13da01dbbe6\", element=\"5cf5e9ec-8209-42e0-b236-525ac11519cc\")>,\n",
       " <selenium.webdriver.remote.webelement.WebElement (session=\"5e813e34eb3eb57fa6fbc13da01dbbe6\", element=\"bc3b753c-a716-4ebe-a6c8-104e0afc7633\")>,\n",
       " <selenium.webdriver.remote.webelement.WebElement (session=\"5e813e34eb3eb57fa6fbc13da01dbbe6\", element=\"22ef6733-74da-45ea-80ff-5359142b506f\")>,\n",
       " <selenium.webdriver.remote.webelement.WebElement (session=\"5e813e34eb3eb57fa6fbc13da01dbbe6\", element=\"b6e2ff71-c508-4afc-835d-14efc69bd4e9\")>,\n",
       " <selenium.webdriver.remote.webelement.WebElement (session=\"5e813e34eb3eb57fa6fbc13da01dbbe6\", element=\"d512fcfd-8dac-4dd3-bc92-9c73588c7646\")>,\n",
       " <selenium.webdriver.remote.webelement.WebElement (session=\"5e813e34eb3eb57fa6fbc13da01dbbe6\", element=\"f03c76e5-209b-44e4-ae98-bba8d9a1d65e\")>,\n",
       " <selenium.webdriver.remote.webelement.WebElement (session=\"5e813e34eb3eb57fa6fbc13da01dbbe6\", element=\"e7082075-6f95-4aff-aa84-c0ebf8635979\")>,\n",
       " <selenium.webdriver.remote.webelement.WebElement (session=\"5e813e34eb3eb57fa6fbc13da01dbbe6\", element=\"dfcf2624-d7e9-473c-9b18-d12675a366e7\")>,\n",
       " <selenium.webdriver.remote.webelement.WebElement (session=\"5e813e34eb3eb57fa6fbc13da01dbbe6\", element=\"afcb02fd-8468-4067-9ab8-21824aa8769f\")>,\n",
       " <selenium.webdriver.remote.webelement.WebElement (session=\"5e813e34eb3eb57fa6fbc13da01dbbe6\", element=\"b0cacdfe-ee63-4e85-b7ba-3104865340b9\")>,\n",
       " <selenium.webdriver.remote.webelement.WebElement (session=\"5e813e34eb3eb57fa6fbc13da01dbbe6\", element=\"6c78a08f-ca92-4b9f-a270-bb570026b86f\")>,\n",
       " <selenium.webdriver.remote.webelement.WebElement (session=\"5e813e34eb3eb57fa6fbc13da01dbbe6\", element=\"bc48b7ee-0098-4e61-89f0-e500b9f4f9d7\")>,\n",
       " <selenium.webdriver.remote.webelement.WebElement (session=\"5e813e34eb3eb57fa6fbc13da01dbbe6\", element=\"388221bb-c7a1-491a-8fe0-79155d592763\")>,\n",
       " <selenium.webdriver.remote.webelement.WebElement (session=\"5e813e34eb3eb57fa6fbc13da01dbbe6\", element=\"f7950dbc-65d4-4787-88cf-a235645a339b\")>,\n",
       " <selenium.webdriver.remote.webelement.WebElement (session=\"5e813e34eb3eb57fa6fbc13da01dbbe6\", element=\"53656e6e-08d2-4154-94c8-8b640c736145\")>,\n",
       " <selenium.webdriver.remote.webelement.WebElement (session=\"5e813e34eb3eb57fa6fbc13da01dbbe6\", element=\"a14f418b-deeb-4b4d-a5ee-61d386c58552\")>,\n",
       " <selenium.webdriver.remote.webelement.WebElement (session=\"5e813e34eb3eb57fa6fbc13da01dbbe6\", element=\"c3bc2942-81c5-4755-80da-9fa48519f0b2\")>,\n",
       " <selenium.webdriver.remote.webelement.WebElement (session=\"5e813e34eb3eb57fa6fbc13da01dbbe6\", element=\"0a274c08-684d-4b27-85c8-13219f7d08b9\")>,\n",
       " <selenium.webdriver.remote.webelement.WebElement (session=\"5e813e34eb3eb57fa6fbc13da01dbbe6\", element=\"0384c559-b4f1-4645-ad65-b90dc0fb94b5\")>,\n",
       " <selenium.webdriver.remote.webelement.WebElement (session=\"5e813e34eb3eb57fa6fbc13da01dbbe6\", element=\"29eac274-88e7-4f05-b078-cc9fb26200e2\")>,\n",
       " <selenium.webdriver.remote.webelement.WebElement (session=\"5e813e34eb3eb57fa6fbc13da01dbbe6\", element=\"8085ff57-c59d-4050-8e70-b53d473c26cc\")>,\n",
       " <selenium.webdriver.remote.webelement.WebElement (session=\"5e813e34eb3eb57fa6fbc13da01dbbe6\", element=\"8cf2d0cb-495b-4ae9-8f3c-57201eabfcd2\")>,\n",
       " <selenium.webdriver.remote.webelement.WebElement (session=\"5e813e34eb3eb57fa6fbc13da01dbbe6\", element=\"71db4a3b-a917-4b74-b052-2f61cbacf478\")>,\n",
       " <selenium.webdriver.remote.webelement.WebElement (session=\"5e813e34eb3eb57fa6fbc13da01dbbe6\", element=\"17abfc41-c9f3-498b-878f-ad93ede9c13b\")>,\n",
       " <selenium.webdriver.remote.webelement.WebElement (session=\"5e813e34eb3eb57fa6fbc13da01dbbe6\", element=\"a0b00f47-dd4a-464f-b969-03ad95a6a852\")>,\n",
       " <selenium.webdriver.remote.webelement.WebElement (session=\"5e813e34eb3eb57fa6fbc13da01dbbe6\", element=\"786e307d-2633-463d-96e8-218edf1f723e\")>,\n",
       " <selenium.webdriver.remote.webelement.WebElement (session=\"5e813e34eb3eb57fa6fbc13da01dbbe6\", element=\"bba8a282-bace-4259-a45d-b7a5308fd854\")>,\n",
       " <selenium.webdriver.remote.webelement.WebElement (session=\"5e813e34eb3eb57fa6fbc13da01dbbe6\", element=\"a6231e3e-f3d2-479c-bd0b-374a220c2d6c\")>,\n",
       " <selenium.webdriver.remote.webelement.WebElement (session=\"5e813e34eb3eb57fa6fbc13da01dbbe6\", element=\"361bdaae-78eb-4c41-a6ae-7703572f6ffe\")>,\n",
       " <selenium.webdriver.remote.webelement.WebElement (session=\"5e813e34eb3eb57fa6fbc13da01dbbe6\", element=\"4c1b4f67-488e-4e02-b24b-c1d1d2c39936\")>,\n",
       " <selenium.webdriver.remote.webelement.WebElement (session=\"5e813e34eb3eb57fa6fbc13da01dbbe6\", element=\"d7f51a31-22c3-43c7-b554-59e9fdce91c9\")>,\n",
       " <selenium.webdriver.remote.webelement.WebElement (session=\"5e813e34eb3eb57fa6fbc13da01dbbe6\", element=\"32255dca-6c21-45cf-ad10-68db6704f9df\")>,\n",
       " <selenium.webdriver.remote.webelement.WebElement (session=\"5e813e34eb3eb57fa6fbc13da01dbbe6\", element=\"4b695a9d-e3d2-41bd-b2a6-8e72aae0152a\")>,\n",
       " <selenium.webdriver.remote.webelement.WebElement (session=\"5e813e34eb3eb57fa6fbc13da01dbbe6\", element=\"f99abfc1-111c-4fea-b3b6-7cfe590aed51\")>,\n",
       " <selenium.webdriver.remote.webelement.WebElement (session=\"5e813e34eb3eb57fa6fbc13da01dbbe6\", element=\"58997c17-17d5-4a7b-881a-ec23e3151570\")>,\n",
       " <selenium.webdriver.remote.webelement.WebElement (session=\"5e813e34eb3eb57fa6fbc13da01dbbe6\", element=\"462614b1-f947-4f46-85bf-67ac0f120fae\")>,\n",
       " <selenium.webdriver.remote.webelement.WebElement (session=\"5e813e34eb3eb57fa6fbc13da01dbbe6\", element=\"887b29f1-a917-4a46-b35b-6c09e61ab36f\")>,\n",
       " <selenium.webdriver.remote.webelement.WebElement (session=\"5e813e34eb3eb57fa6fbc13da01dbbe6\", element=\"23106678-1705-4e8c-85e8-0a0c5ccca039\")>,\n",
       " <selenium.webdriver.remote.webelement.WebElement (session=\"5e813e34eb3eb57fa6fbc13da01dbbe6\", element=\"59fcbb3f-2380-46ae-8393-8ad445d49623\")>,\n",
       " <selenium.webdriver.remote.webelement.WebElement (session=\"5e813e34eb3eb57fa6fbc13da01dbbe6\", element=\"e20956ed-ba41-4eae-ac3b-3f5211117d1a\")>,\n",
       " <selenium.webdriver.remote.webelement.WebElement (session=\"5e813e34eb3eb57fa6fbc13da01dbbe6\", element=\"df927d2e-76ee-429c-aa84-d64ba91ca259\")>,\n",
       " <selenium.webdriver.remote.webelement.WebElement (session=\"5e813e34eb3eb57fa6fbc13da01dbbe6\", element=\"650c2b99-a049-48f6-99f5-c1adeb59ee3a\")>,\n",
       " <selenium.webdriver.remote.webelement.WebElement (session=\"5e813e34eb3eb57fa6fbc13da01dbbe6\", element=\"3ce729de-7b9b-480f-9533-f188246da615\")>,\n",
       " <selenium.webdriver.remote.webelement.WebElement (session=\"5e813e34eb3eb57fa6fbc13da01dbbe6\", element=\"a239d919-4b46-40d2-9b4d-42a3a2902cae\")>,\n",
       " <selenium.webdriver.remote.webelement.WebElement (session=\"5e813e34eb3eb57fa6fbc13da01dbbe6\", element=\"16d7c32a-6f9e-4120-866b-a7d9edc3739d\")>,\n",
       " <selenium.webdriver.remote.webelement.WebElement (session=\"5e813e34eb3eb57fa6fbc13da01dbbe6\", element=\"d7f0dd49-6193-4bef-9571-5e3f53ad40a1\")>,\n",
       " <selenium.webdriver.remote.webelement.WebElement (session=\"5e813e34eb3eb57fa6fbc13da01dbbe6\", element=\"425092b8-c5fb-4098-b4f9-2efd6e165abc\")>,\n",
       " <selenium.webdriver.remote.webelement.WebElement (session=\"5e813e34eb3eb57fa6fbc13da01dbbe6\", element=\"1ec0c864-92ea-4d75-9cc4-b8ada81851e4\")>,\n",
       " <selenium.webdriver.remote.webelement.WebElement (session=\"5e813e34eb3eb57fa6fbc13da01dbbe6\", element=\"0d04ea13-fdf1-4520-b6c1-fc58e91df0b8\")>,\n",
       " <selenium.webdriver.remote.webelement.WebElement (session=\"5e813e34eb3eb57fa6fbc13da01dbbe6\", element=\"19a7cf40-2875-488b-b74f-419ba239557b\")>,\n",
       " <selenium.webdriver.remote.webelement.WebElement (session=\"5e813e34eb3eb57fa6fbc13da01dbbe6\", element=\"46c4b279-e3a8-49c8-9b4e-37c30fc15ee3\")>,\n",
       " <selenium.webdriver.remote.webelement.WebElement (session=\"5e813e34eb3eb57fa6fbc13da01dbbe6\", element=\"ab60880e-98bc-4db1-9105-9d72b4f5f946\")>,\n",
       " <selenium.webdriver.remote.webelement.WebElement (session=\"5e813e34eb3eb57fa6fbc13da01dbbe6\", element=\"f84cb17d-4619-4761-aadd-884bacf12092\")>,\n",
       " <selenium.webdriver.remote.webelement.WebElement (session=\"5e813e34eb3eb57fa6fbc13da01dbbe6\", element=\"d8e03b9d-54d5-41bc-ad46-5f03eeb75692\")>,\n",
       " <selenium.webdriver.remote.webelement.WebElement (session=\"5e813e34eb3eb57fa6fbc13da01dbbe6\", element=\"ca641b11-0115-4e52-a95e-1cdd31f37022\")>,\n",
       " <selenium.webdriver.remote.webelement.WebElement (session=\"5e813e34eb3eb57fa6fbc13da01dbbe6\", element=\"2ea45db2-e164-4def-8a4a-8e2c2cb1b722\")>,\n",
       " <selenium.webdriver.remote.webelement.WebElement (session=\"5e813e34eb3eb57fa6fbc13da01dbbe6\", element=\"ae077f80-1d4d-4d40-94df-f5eae7f2071f\")>,\n",
       " <selenium.webdriver.remote.webelement.WebElement (session=\"5e813e34eb3eb57fa6fbc13da01dbbe6\", element=\"4b525f3a-6a69-4d80-bac7-81ec97572ee3\")>,\n",
       " <selenium.webdriver.remote.webelement.WebElement (session=\"5e813e34eb3eb57fa6fbc13da01dbbe6\", element=\"7deb1e8e-b6b9-403f-87dd-0d96b91ee634\")>,\n",
       " <selenium.webdriver.remote.webelement.WebElement (session=\"5e813e34eb3eb57fa6fbc13da01dbbe6\", element=\"bab44692-3383-459b-b411-22389df70043\")>,\n",
       " <selenium.webdriver.remote.webelement.WebElement (session=\"5e813e34eb3eb57fa6fbc13da01dbbe6\", element=\"a308e155-5de9-485d-a0e3-74e60f5b4328\")>,\n",
       " <selenium.webdriver.remote.webelement.WebElement (session=\"5e813e34eb3eb57fa6fbc13da01dbbe6\", element=\"b1a01faf-caa0-4b7c-ae2e-f5280994292b\")>,\n",
       " <selenium.webdriver.remote.webelement.WebElement (session=\"5e813e34eb3eb57fa6fbc13da01dbbe6\", element=\"b9fc3732-50e8-412a-8b52-f9da14fa8814\")>,\n",
       " <selenium.webdriver.remote.webelement.WebElement (session=\"5e813e34eb3eb57fa6fbc13da01dbbe6\", element=\"cdb672d0-1bf7-4371-a3a8-94c555f0af58\")>,\n",
       " <selenium.webdriver.remote.webelement.WebElement (session=\"5e813e34eb3eb57fa6fbc13da01dbbe6\", element=\"5dd80843-ce84-460d-b231-9697efd6dfea\")>,\n",
       " <selenium.webdriver.remote.webelement.WebElement (session=\"5e813e34eb3eb57fa6fbc13da01dbbe6\", element=\"8a1480de-ffb3-45c0-a93d-101456abe46f\")>,\n",
       " <selenium.webdriver.remote.webelement.WebElement (session=\"5e813e34eb3eb57fa6fbc13da01dbbe6\", element=\"48a46341-6378-4a3b-a266-391942b48ba1\")>,\n",
       " <selenium.webdriver.remote.webelement.WebElement (session=\"5e813e34eb3eb57fa6fbc13da01dbbe6\", element=\"631badb1-a5d2-4910-99eb-198e53768691\")>,\n",
       " <selenium.webdriver.remote.webelement.WebElement (session=\"5e813e34eb3eb57fa6fbc13da01dbbe6\", element=\"7898553f-23aa-4472-aa34-f46ad81a1c43\")>,\n",
       " <selenium.webdriver.remote.webelement.WebElement (session=\"5e813e34eb3eb57fa6fbc13da01dbbe6\", element=\"5336a8cb-1c04-49c1-bdab-863f720bc2b8\")>,\n",
       " <selenium.webdriver.remote.webelement.WebElement (session=\"5e813e34eb3eb57fa6fbc13da01dbbe6\", element=\"e6b8a15b-ef37-48ce-8af7-7732f40f98b8\")>,\n",
       " <selenium.webdriver.remote.webelement.WebElement (session=\"5e813e34eb3eb57fa6fbc13da01dbbe6\", element=\"94607bbb-ff2b-4ee7-9ef8-02498ca2e117\")>,\n",
       " <selenium.webdriver.remote.webelement.WebElement (session=\"5e813e34eb3eb57fa6fbc13da01dbbe6\", element=\"00900b60-64a6-401d-bf29-4a7750b4ccd7\")>,\n",
       " <selenium.webdriver.remote.webelement.WebElement (session=\"5e813e34eb3eb57fa6fbc13da01dbbe6\", element=\"a0cada76-4d16-4ff0-a7d3-5d0f4ace8d92\")>,\n",
       " <selenium.webdriver.remote.webelement.WebElement (session=\"5e813e34eb3eb57fa6fbc13da01dbbe6\", element=\"4f06da03-a658-4e3f-a389-1ea5196ff994\")>]"
      ]
     },
     "execution_count": 8,
     "metadata": {},
     "output_type": "execute_result"
    }
   ],
   "source": [
    "header2=browser.find_elements(\"xpath\",\"//div[@class='td-wrap-in']\")\n",
    "header2"
   ]
  },
  {
   "cell_type": "code",
   "execution_count": 9,
   "id": "0239477f",
   "metadata": {},
   "outputs": [
    {
     "data": {
      "text/plain": [
       "['80.3', '95.9', '99', '28.9', '98.1', '94.4', '31.3', '92', '99.7']"
      ]
     },
     "execution_count": 9,
     "metadata": {},
     "output_type": "execute_result"
    }
   ],
   "source": [
    "#PARSING DATA\n",
    "value_head=[]\n",
    "for data in header2:\n",
    "    #get the text data\n",
    "    temp=data.text\n",
    "    value_head.append(temp)\n",
    "value_head=value_head[81:90]\n",
    "value_head\n"
   ]
  },
  {
   "cell_type": "code",
   "execution_count": 10,
   "id": "d9e4b6f9",
   "metadata": {},
   "outputs": [
    {
     "data": {
      "text/plain": [
       "{'Overall Score': '80.3',\n",
       " 'Academic Reputation': '95.9',\n",
       " 'Employer Reputation': '99',\n",
       " 'Citations per Faculty': '28.9',\n",
       " 'Faculty Student Ratio': '98.1',\n",
       " 'International Students Ratio': '94.4',\n",
       " 'International Faculty Ratio': '31.3',\n",
       " 'International Research Network\\nUnweighted': '92',\n",
       " 'Employment Outcomes\\nUnweighted': '99.7'}"
      ]
     },
     "execution_count": 10,
     "metadata": {},
     "output_type": "execute_result"
    }
   ],
   "source": [
    "d={}\n",
    "for i in range(len(column_head)):\n",
    "    d[column_head[i]]=value_head[i]\n",
    "d"
   ]
  },
  {
   "cell_type": "code",
   "execution_count": 11,
   "id": "670fc791",
   "metadata": {},
   "outputs": [
    {
     "data": {
      "text/plain": [
       "'{\"Overall Score\": \"80.3\", \"Academic Reputation\": \"95.9\", \"Employer Reputation\": \"99\", \"Citations per Faculty\": \"28.9\", \"Faculty Student Ratio\": \"98.1\", \"International Students Ratio\": \"94.4\", \"International Faculty Ratio\": \"31.3\", \"International Research Network\\\\nUnweighted\": \"92\", \"Employment Outcomes\\\\nUnweighted\": \"99.7\"}'"
      ]
     },
     "execution_count": 11,
     "metadata": {},
     "output_type": "execute_result"
    }
   ],
   "source": [
    "s1=json.dumps(d)\n",
    "s1"
   ]
  },
  {
   "cell_type": "code",
   "execution_count": 12,
   "id": "c03ee25e",
   "metadata": {},
   "outputs": [],
   "source": [
    "\n",
    "with open('New York University (NYU).json','w') as f:\n",
    "    json.dump(d,f)\n"
   ]
  },
  {
   "cell_type": "code",
   "execution_count": null,
   "id": "c0cd561d",
   "metadata": {},
   "outputs": [],
   "source": []
  },
  {
   "cell_type": "code",
   "execution_count": null,
   "id": "2f94bdf6",
   "metadata": {},
   "outputs": [],
   "source": []
  }
 ],
 "metadata": {
  "kernelspec": {
   "display_name": "Python 3 (ipykernel)",
   "language": "python",
   "name": "python3"
  },
  "language_info": {
   "codemirror_mode": {
    "name": "ipython",
    "version": 3
   },
   "file_extension": ".py",
   "mimetype": "text/x-python",
   "name": "python",
   "nbconvert_exporter": "python",
   "pygments_lexer": "ipython3",
   "version": "3.9.12"
  }
 },
 "nbformat": 4,
 "nbformat_minor": 5
}
