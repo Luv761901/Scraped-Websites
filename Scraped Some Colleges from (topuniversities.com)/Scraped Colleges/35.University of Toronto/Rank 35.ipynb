{
 "cells": [
  {
   "cell_type": "code",
   "execution_count": 15,
   "id": "c923f6b2",
   "metadata": {},
   "outputs": [],
   "source": [
    "from selenium import webdriver\n",
    "from selenium.webdriver.chrome.service import Service\n",
    "import pandas as pd\n",
    "import json\n"
   ]
  },
  {
   "cell_type": "code",
   "execution_count": 16,
   "id": "b2d27e4f",
   "metadata": {},
   "outputs": [],
   "source": [
    "path = Service('C:\\chromedriver.exe')"
   ]
  },
  {
   "cell_type": "code",
   "execution_count": 17,
   "id": "46566f59",
   "metadata": {},
   "outputs": [],
   "source": [
    "\n",
    "# set path for the driver\n",
    "browser = webdriver.Chrome(service = path)"
   ]
  },
  {
   "cell_type": "code",
   "execution_count": 18,
   "id": "90a0dbfb",
   "metadata": {},
   "outputs": [],
   "source": [
    "url = \"https://www.topuniversities.com/university-rankings/world-university-rankings/2023\"\n"
   ]
  },
  {
   "cell_type": "code",
   "execution_count": 19,
   "id": "06a2eab2",
   "metadata": {},
   "outputs": [],
   "source": [
    "\n",
    "# open the page url ion chrome\n",
    "browser.get(url)"
   ]
  },
  {
   "cell_type": "code",
   "execution_count": 22,
   "id": "aea75aa7",
   "metadata": {},
   "outputs": [
    {
     "data": {
      "text/plain": [
       "[<selenium.webdriver.remote.webelement.WebElement (session=\"45b6baa3cce0c74d3ab9000e9a472c36\", element=\"65af455e-6f23-4aea-9ac8-203c21ce145e\")>,\n",
       " <selenium.webdriver.remote.webelement.WebElement (session=\"45b6baa3cce0c74d3ab9000e9a472c36\", element=\"de491905-6c11-403c-84fd-ec98b19ea22d\")>,\n",
       " <selenium.webdriver.remote.webelement.WebElement (session=\"45b6baa3cce0c74d3ab9000e9a472c36\", element=\"4ac9a444-1a37-4a4a-8890-7f82d7cf49b4\")>,\n",
       " <selenium.webdriver.remote.webelement.WebElement (session=\"45b6baa3cce0c74d3ab9000e9a472c36\", element=\"bd308bf4-8f74-49d9-b9a7-369c7fadabab\")>,\n",
       " <selenium.webdriver.remote.webelement.WebElement (session=\"45b6baa3cce0c74d3ab9000e9a472c36\", element=\"33be41f6-44a6-40f7-9f1d-b6b0ef06e57f\")>,\n",
       " <selenium.webdriver.remote.webelement.WebElement (session=\"45b6baa3cce0c74d3ab9000e9a472c36\", element=\"e89309e5-3344-43a6-b0db-5dc0ddc93908\")>,\n",
       " <selenium.webdriver.remote.webelement.WebElement (session=\"45b6baa3cce0c74d3ab9000e9a472c36\", element=\"f4546eb3-a60a-49b3-a9d3-ab5a162bc8dc\")>,\n",
       " <selenium.webdriver.remote.webelement.WebElement (session=\"45b6baa3cce0c74d3ab9000e9a472c36\", element=\"e1bf0f67-093b-4dd6-9750-99be5d4243ec\")>,\n",
       " <selenium.webdriver.remote.webelement.WebElement (session=\"45b6baa3cce0c74d3ab9000e9a472c36\", element=\"73fa7201-a3ea-4866-a1dd-3cfe79ed007b\")>,\n",
       " <selenium.webdriver.remote.webelement.WebElement (session=\"45b6baa3cce0c74d3ab9000e9a472c36\", element=\"1cd7855f-1385-493c-bf7b-b15848313ad0\")>,\n",
       " <selenium.webdriver.remote.webelement.WebElement (session=\"45b6baa3cce0c74d3ab9000e9a472c36\", element=\"52e5211a-a700-486a-b198-ea2f91deaec4\")>,\n",
       " <selenium.webdriver.remote.webelement.WebElement (session=\"45b6baa3cce0c74d3ab9000e9a472c36\", element=\"8e59a434-3b1f-482a-be00-c47ceedd30ce\")>,\n",
       " <selenium.webdriver.remote.webelement.WebElement (session=\"45b6baa3cce0c74d3ab9000e9a472c36\", element=\"0c88b55f-1001-415c-8cac-47e14f43a7d8\")>,\n",
       " <selenium.webdriver.remote.webelement.WebElement (session=\"45b6baa3cce0c74d3ab9000e9a472c36\", element=\"5701f055-7402-43e5-aab3-b29545c0e24e\")>,\n",
       " <selenium.webdriver.remote.webelement.WebElement (session=\"45b6baa3cce0c74d3ab9000e9a472c36\", element=\"471aa6b7-3b0f-4b77-9c10-21bd83b2cf6a\")>,\n",
       " <selenium.webdriver.remote.webelement.WebElement (session=\"45b6baa3cce0c74d3ab9000e9a472c36\", element=\"f7851e32-352c-4bd3-a108-c249a5cb99f9\")>,\n",
       " <selenium.webdriver.remote.webelement.WebElement (session=\"45b6baa3cce0c74d3ab9000e9a472c36\", element=\"a78b1085-846e-4624-9e64-365bb4cb2e01\")>,\n",
       " <selenium.webdriver.remote.webelement.WebElement (session=\"45b6baa3cce0c74d3ab9000e9a472c36\", element=\"aaf27ed9-eddd-4f9d-9110-61cfd0da2f78\")>,\n",
       " <selenium.webdriver.remote.webelement.WebElement (session=\"45b6baa3cce0c74d3ab9000e9a472c36\", element=\"aebd1817-289c-4121-bb97-83f2f2d2bf4a\")>,\n",
       " <selenium.webdriver.remote.webelement.WebElement (session=\"45b6baa3cce0c74d3ab9000e9a472c36\", element=\"902b8fb6-be11-434d-85d6-d440d572b759\")>]"
      ]
     },
     "execution_count": 22,
     "metadata": {},
     "output_type": "execute_result"
    }
   ],
   "source": [
    "\n",
    "l1=browser.find_elements(\"xpath\",\"//div[@class='location ']\")\n",
    "l1"
   ]
  },
  {
   "cell_type": "code",
   "execution_count": 23,
   "id": "4d3ed11b",
   "metadata": {},
   "outputs": [
    {
     "data": {
      "text/plain": [
       "['Montreal, Canada',\n",
       " 'Evanston, United States',\n",
       " 'Parkville, Australia',\n",
       " 'Shanghai, China (Mainland)',\n",
       " 'Toronto, Canada',\n",
       " 'Kyoto, Japan',\n",
       " 'London, United Kingdom',\n",
       " 'Hong Kong SAR, Hong Kong SAR',\n",
       " 'New York City, United States',\n",
       " 'Hong Kong SAR, Hong Kong SAR']"
      ]
     },
     "execution_count": 23,
     "metadata": {},
     "output_type": "execute_result"
    }
   ],
   "source": [
    "loc=[]\n",
    "for data in l1:\n",
    "    #get the text data\n",
    "    temp=data.text\n",
    "    loc.append(temp)\n",
    "loc=loc[10:]\n",
    "loc"
   ]
  },
  {
   "cell_type": "code",
   "execution_count": 24,
   "id": "b74b1276",
   "metadata": {},
   "outputs": [
    {
     "data": {
      "text/plain": [
       "[<selenium.webdriver.remote.webelement.WebElement (session=\"45b6baa3cce0c74d3ab9000e9a472c36\", element=\"52326370-6bb1-49a9-9c7c-3ff3bb5fee7c\")>,\n",
       " <selenium.webdriver.remote.webelement.WebElement (session=\"45b6baa3cce0c74d3ab9000e9a472c36\", element=\"6a7873e4-561b-4c8a-bf04-4cb35466b500\")>,\n",
       " <selenium.webdriver.remote.webelement.WebElement (session=\"45b6baa3cce0c74d3ab9000e9a472c36\", element=\"f35e7f77-67c6-4cf9-b993-272619b1d4f5\")>,\n",
       " <selenium.webdriver.remote.webelement.WebElement (session=\"45b6baa3cce0c74d3ab9000e9a472c36\", element=\"b6690362-30c7-4f7e-8e9c-af0e13b143b9\")>,\n",
       " <selenium.webdriver.remote.webelement.WebElement (session=\"45b6baa3cce0c74d3ab9000e9a472c36\", element=\"545219d1-af50-446b-bd29-fc3be1d5074a\")>,\n",
       " <selenium.webdriver.remote.webelement.WebElement (session=\"45b6baa3cce0c74d3ab9000e9a472c36\", element=\"99ad624c-c1d1-45c5-8c85-d9b30ae19cb5\")>,\n",
       " <selenium.webdriver.remote.webelement.WebElement (session=\"45b6baa3cce0c74d3ab9000e9a472c36\", element=\"eb9c9c0e-c319-44d2-a3fc-ceed2b8cfe59\")>,\n",
       " <selenium.webdriver.remote.webelement.WebElement (session=\"45b6baa3cce0c74d3ab9000e9a472c36\", element=\"628475cc-b949-47b8-ac9b-39f63e857341\")>,\n",
       " <selenium.webdriver.remote.webelement.WebElement (session=\"45b6baa3cce0c74d3ab9000e9a472c36\", element=\"d5f0ed36-024d-4e83-9b1b-3607e0aab734\")>,\n",
       " <selenium.webdriver.remote.webelement.WebElement (session=\"45b6baa3cce0c74d3ab9000e9a472c36\", element=\"b3a17daa-51fb-4eb5-b574-3eea3418ddbd\")>]"
      ]
     },
     "execution_count": 24,
     "metadata": {},
     "output_type": "execute_result"
    }
   ],
   "source": [
    "l2=browser.find_elements(\"xpath\",\"//div[@class='_univ-rank ']\")\n",
    "l2\n"
   ]
  },
  {
   "cell_type": "code",
   "execution_count": 25,
   "id": "1222f3e8",
   "metadata": {},
   "outputs": [
    {
     "data": {
      "text/plain": [
       "['31', '32', '33', '=34', '=34', '36', '37', '38', '39', '40']"
      ]
     },
     "execution_count": 25,
     "metadata": {},
     "output_type": "execute_result"
    }
   ],
   "source": [
    "RANK=[]\n",
    "for data in l2:\n",
    "    #get the text data\n",
    "    temp=data.text\n",
    "    RANK.append(temp)\n",
    "RANK"
   ]
  },
  {
   "cell_type": "code",
   "execution_count": 26,
   "id": "c63948ce",
   "metadata": {},
   "outputs": [
    {
     "data": {
      "text/plain": [
       "[<selenium.webdriver.remote.webelement.WebElement (session=\"45b6baa3cce0c74d3ab9000e9a472c36\", element=\"2d1e78e0-0b29-426d-92b3-751ee5e0d559\")>,\n",
       " <selenium.webdriver.remote.webelement.WebElement (session=\"45b6baa3cce0c74d3ab9000e9a472c36\", element=\"1f87cf74-42bf-4b08-80cd-5023864ac3e9\")>,\n",
       " <selenium.webdriver.remote.webelement.WebElement (session=\"45b6baa3cce0c74d3ab9000e9a472c36\", element=\"aef0a984-987a-4aba-821e-9911fb15264f\")>,\n",
       " <selenium.webdriver.remote.webelement.WebElement (session=\"45b6baa3cce0c74d3ab9000e9a472c36\", element=\"6fc0ec6c-ade0-4b1b-80bd-e68663e5eb83\")>,\n",
       " <selenium.webdriver.remote.webelement.WebElement (session=\"45b6baa3cce0c74d3ab9000e9a472c36\", element=\"bb37dc4b-f06a-4f00-aed1-0e48612d180c\")>,\n",
       " <selenium.webdriver.remote.webelement.WebElement (session=\"45b6baa3cce0c74d3ab9000e9a472c36\", element=\"5a6a2c11-56d9-4b88-9f6a-615d3f402cc3\")>,\n",
       " <selenium.webdriver.remote.webelement.WebElement (session=\"45b6baa3cce0c74d3ab9000e9a472c36\", element=\"7429444b-c507-4f13-a025-8a01ba695fce\")>,\n",
       " <selenium.webdriver.remote.webelement.WebElement (session=\"45b6baa3cce0c74d3ab9000e9a472c36\", element=\"836f7d8c-0411-4f11-8e5d-792302d037fe\")>,\n",
       " <selenium.webdriver.remote.webelement.WebElement (session=\"45b6baa3cce0c74d3ab9000e9a472c36\", element=\"836e3e56-2e02-414d-bc8e-24f79fce4eb0\")>]"
      ]
     },
     "execution_count": 26,
     "metadata": {},
     "output_type": "execute_result"
    }
   ],
   "source": [
    "# GET EACH COLLEGE SPECIFICATION HEADERS\n",
    "header=browser.find_elements(\"xpath\",\"//div[@class='_click-function_ind']\")\n",
    "header\n"
   ]
  },
  {
   "cell_type": "code",
   "execution_count": 27,
   "id": "84474bd0",
   "metadata": {},
   "outputs": [
    {
     "data": {
      "text/plain": [
       "['Overall Score',\n",
       " 'Academic Reputation',\n",
       " 'Employer Reputation',\n",
       " 'Citations per Faculty',\n",
       " 'Faculty Student Ratio',\n",
       " 'International Students Ratio',\n",
       " 'International Faculty Ratio',\n",
       " 'International Research Network\\nUnweighted',\n",
       " 'Employment Outcomes\\nUnweighted']"
      ]
     },
     "execution_count": 27,
     "metadata": {},
     "output_type": "execute_result"
    }
   ],
   "source": [
    "#PARSING DATA\n",
    "column_head=[]\n",
    "for data in header:\n",
    "    #get the text data\n",
    "    temp=data.text\n",
    "    column_head.append(temp)\n",
    "column_head"
   ]
  },
  {
   "cell_type": "code",
   "execution_count": 28,
   "id": "dd9660d9",
   "metadata": {},
   "outputs": [
    {
     "data": {
      "text/plain": [
       "[<selenium.webdriver.remote.webelement.WebElement (session=\"45b6baa3cce0c74d3ab9000e9a472c36\", element=\"0cffe3db-ad82-46be-862a-d48620fc897e\")>,\n",
       " <selenium.webdriver.remote.webelement.WebElement (session=\"45b6baa3cce0c74d3ab9000e9a472c36\", element=\"5881e173-5cfc-4f2b-8cb1-ad02f3bef671\")>,\n",
       " <selenium.webdriver.remote.webelement.WebElement (session=\"45b6baa3cce0c74d3ab9000e9a472c36\", element=\"20249aeb-3e8a-4185-90fb-7cf28b47de74\")>,\n",
       " <selenium.webdriver.remote.webelement.WebElement (session=\"45b6baa3cce0c74d3ab9000e9a472c36\", element=\"25196710-7399-4b7e-bda4-2065ce05de59\")>,\n",
       " <selenium.webdriver.remote.webelement.WebElement (session=\"45b6baa3cce0c74d3ab9000e9a472c36\", element=\"0f825364-0df7-4a29-8090-641f3d77a7a1\")>,\n",
       " <selenium.webdriver.remote.webelement.WebElement (session=\"45b6baa3cce0c74d3ab9000e9a472c36\", element=\"d9ce2857-41a1-4b0b-83d2-ab25e747caa3\")>,\n",
       " <selenium.webdriver.remote.webelement.WebElement (session=\"45b6baa3cce0c74d3ab9000e9a472c36\", element=\"5e7e2b6f-1045-4e3e-a404-5c14d4246602\")>,\n",
       " <selenium.webdriver.remote.webelement.WebElement (session=\"45b6baa3cce0c74d3ab9000e9a472c36\", element=\"2f5bdeec-0b97-4ee0-9759-6c3387a3ab9d\")>,\n",
       " <selenium.webdriver.remote.webelement.WebElement (session=\"45b6baa3cce0c74d3ab9000e9a472c36\", element=\"e3823db9-9f6b-49ca-8d2f-569ce9159d2a\")>,\n",
       " <selenium.webdriver.remote.webelement.WebElement (session=\"45b6baa3cce0c74d3ab9000e9a472c36\", element=\"1014c001-7f7c-4a02-a73a-1592a5701427\")>,\n",
       " <selenium.webdriver.remote.webelement.WebElement (session=\"45b6baa3cce0c74d3ab9000e9a472c36\", element=\"cd3adb4e-a809-45f2-a10a-550ac9e96199\")>,\n",
       " <selenium.webdriver.remote.webelement.WebElement (session=\"45b6baa3cce0c74d3ab9000e9a472c36\", element=\"8dcf2c22-0c9b-42b7-9327-bcacded933c0\")>,\n",
       " <selenium.webdriver.remote.webelement.WebElement (session=\"45b6baa3cce0c74d3ab9000e9a472c36\", element=\"6c1fcc83-c9ef-4e9b-ad95-f341d1b7f710\")>,\n",
       " <selenium.webdriver.remote.webelement.WebElement (session=\"45b6baa3cce0c74d3ab9000e9a472c36\", element=\"0260f808-a6a2-4725-9f7c-cc590a449435\")>,\n",
       " <selenium.webdriver.remote.webelement.WebElement (session=\"45b6baa3cce0c74d3ab9000e9a472c36\", element=\"c48bb89e-1a39-428a-857d-d9fed99fbcbd\")>,\n",
       " <selenium.webdriver.remote.webelement.WebElement (session=\"45b6baa3cce0c74d3ab9000e9a472c36\", element=\"24c60705-034f-47fc-9a02-5ecebad89f0f\")>,\n",
       " <selenium.webdriver.remote.webelement.WebElement (session=\"45b6baa3cce0c74d3ab9000e9a472c36\", element=\"daf95328-5c39-43ee-8e0c-13f45c1d7bba\")>,\n",
       " <selenium.webdriver.remote.webelement.WebElement (session=\"45b6baa3cce0c74d3ab9000e9a472c36\", element=\"5a2bf760-8a01-4280-a0a1-757c9f2f6493\")>,\n",
       " <selenium.webdriver.remote.webelement.WebElement (session=\"45b6baa3cce0c74d3ab9000e9a472c36\", element=\"8577293b-a55a-47a8-91cb-fda0ae3f25ba\")>,\n",
       " <selenium.webdriver.remote.webelement.WebElement (session=\"45b6baa3cce0c74d3ab9000e9a472c36\", element=\"59649962-706b-4f24-a10d-977f3db81538\")>,\n",
       " <selenium.webdriver.remote.webelement.WebElement (session=\"45b6baa3cce0c74d3ab9000e9a472c36\", element=\"c3753b91-c5ac-45f4-894b-ccb9399e3bc4\")>,\n",
       " <selenium.webdriver.remote.webelement.WebElement (session=\"45b6baa3cce0c74d3ab9000e9a472c36\", element=\"733fe1db-dc07-466c-bc0a-f187fc536271\")>,\n",
       " <selenium.webdriver.remote.webelement.WebElement (session=\"45b6baa3cce0c74d3ab9000e9a472c36\", element=\"cdba4266-2a65-44e5-9cd3-1d4ed592049a\")>,\n",
       " <selenium.webdriver.remote.webelement.WebElement (session=\"45b6baa3cce0c74d3ab9000e9a472c36\", element=\"facfaabd-8538-4bf3-aee8-aea84f944ec1\")>,\n",
       " <selenium.webdriver.remote.webelement.WebElement (session=\"45b6baa3cce0c74d3ab9000e9a472c36\", element=\"fa100ce6-81b6-4333-8ba3-ce0d7a8130ab\")>,\n",
       " <selenium.webdriver.remote.webelement.WebElement (session=\"45b6baa3cce0c74d3ab9000e9a472c36\", element=\"ff9081fc-cf62-4f4f-9685-efa54f28231a\")>,\n",
       " <selenium.webdriver.remote.webelement.WebElement (session=\"45b6baa3cce0c74d3ab9000e9a472c36\", element=\"648e850a-5f3f-4cbe-84b8-6bd1b807167d\")>,\n",
       " <selenium.webdriver.remote.webelement.WebElement (session=\"45b6baa3cce0c74d3ab9000e9a472c36\", element=\"3247979f-9ab3-4689-a86f-2108c09cff81\")>,\n",
       " <selenium.webdriver.remote.webelement.WebElement (session=\"45b6baa3cce0c74d3ab9000e9a472c36\", element=\"25baaf75-f607-4cf4-8f09-6e5d4ecb83aa\")>,\n",
       " <selenium.webdriver.remote.webelement.WebElement (session=\"45b6baa3cce0c74d3ab9000e9a472c36\", element=\"029ef7d9-1b18-4a56-80f0-e483a6ed63fc\")>,\n",
       " <selenium.webdriver.remote.webelement.WebElement (session=\"45b6baa3cce0c74d3ab9000e9a472c36\", element=\"ff0d7ebc-f1a8-40ef-86e0-f5da7e1d5adb\")>,\n",
       " <selenium.webdriver.remote.webelement.WebElement (session=\"45b6baa3cce0c74d3ab9000e9a472c36\", element=\"0079fba7-7d45-462c-aef3-c3271ea48610\")>,\n",
       " <selenium.webdriver.remote.webelement.WebElement (session=\"45b6baa3cce0c74d3ab9000e9a472c36\", element=\"bdfa9fb8-e535-4f06-8a8e-728ab1db57ae\")>,\n",
       " <selenium.webdriver.remote.webelement.WebElement (session=\"45b6baa3cce0c74d3ab9000e9a472c36\", element=\"59096917-4777-4160-a7e0-e30b689e57bd\")>,\n",
       " <selenium.webdriver.remote.webelement.WebElement (session=\"45b6baa3cce0c74d3ab9000e9a472c36\", element=\"e0783941-35c7-4032-9173-bb0674ca3026\")>,\n",
       " <selenium.webdriver.remote.webelement.WebElement (session=\"45b6baa3cce0c74d3ab9000e9a472c36\", element=\"6f029e6d-78ec-45f3-8af2-a4f71c9f1121\")>,\n",
       " <selenium.webdriver.remote.webelement.WebElement (session=\"45b6baa3cce0c74d3ab9000e9a472c36\", element=\"3bcc0a0b-1efe-41ab-b7cd-65c91e068b80\")>,\n",
       " <selenium.webdriver.remote.webelement.WebElement (session=\"45b6baa3cce0c74d3ab9000e9a472c36\", element=\"cb67f967-f566-4961-a84d-e9436a1f0a01\")>,\n",
       " <selenium.webdriver.remote.webelement.WebElement (session=\"45b6baa3cce0c74d3ab9000e9a472c36\", element=\"a991b094-1ae9-443c-a7b0-3970661e80d7\")>,\n",
       " <selenium.webdriver.remote.webelement.WebElement (session=\"45b6baa3cce0c74d3ab9000e9a472c36\", element=\"c3c04df3-4155-4e3b-ae5b-25fdfdefade4\")>,\n",
       " <selenium.webdriver.remote.webelement.WebElement (session=\"45b6baa3cce0c74d3ab9000e9a472c36\", element=\"2f20e151-9762-4179-b46a-978407b02634\")>,\n",
       " <selenium.webdriver.remote.webelement.WebElement (session=\"45b6baa3cce0c74d3ab9000e9a472c36\", element=\"7464d446-b0d8-425d-b460-8081f342a90d\")>,\n",
       " <selenium.webdriver.remote.webelement.WebElement (session=\"45b6baa3cce0c74d3ab9000e9a472c36\", element=\"0eef51d1-55c6-4840-9bd8-c070ceec1635\")>,\n",
       " <selenium.webdriver.remote.webelement.WebElement (session=\"45b6baa3cce0c74d3ab9000e9a472c36\", element=\"efa3757f-1ecd-4e0c-8bfd-7ad03281da5d\")>,\n",
       " <selenium.webdriver.remote.webelement.WebElement (session=\"45b6baa3cce0c74d3ab9000e9a472c36\", element=\"d27f2271-6206-4826-9e09-e4048e2cbae0\")>,\n",
       " <selenium.webdriver.remote.webelement.WebElement (session=\"45b6baa3cce0c74d3ab9000e9a472c36\", element=\"f2a91442-4a97-4736-9cbf-72f3efa2153f\")>,\n",
       " <selenium.webdriver.remote.webelement.WebElement (session=\"45b6baa3cce0c74d3ab9000e9a472c36\", element=\"48b18d4f-3753-4ad3-8b82-1b2d34eb679a\")>,\n",
       " <selenium.webdriver.remote.webelement.WebElement (session=\"45b6baa3cce0c74d3ab9000e9a472c36\", element=\"3a32c9c4-00ca-4ead-906e-a3ff807f19a5\")>,\n",
       " <selenium.webdriver.remote.webelement.WebElement (session=\"45b6baa3cce0c74d3ab9000e9a472c36\", element=\"f0c6b2a3-3426-40f3-ac7d-00ea3d75aaac\")>,\n",
       " <selenium.webdriver.remote.webelement.WebElement (session=\"45b6baa3cce0c74d3ab9000e9a472c36\", element=\"5a117df9-f2b1-4f6c-b8f2-bfe2d37d483b\")>,\n",
       " <selenium.webdriver.remote.webelement.WebElement (session=\"45b6baa3cce0c74d3ab9000e9a472c36\", element=\"1c24a22e-5b05-46c5-b665-d1df82ab640e\")>,\n",
       " <selenium.webdriver.remote.webelement.WebElement (session=\"45b6baa3cce0c74d3ab9000e9a472c36\", element=\"4ff41fcf-4b90-49d1-9597-7f4bd60fa4ef\")>,\n",
       " <selenium.webdriver.remote.webelement.WebElement (session=\"45b6baa3cce0c74d3ab9000e9a472c36\", element=\"8f11eb98-2634-41c2-a6f7-e4828369d0ed\")>,\n",
       " <selenium.webdriver.remote.webelement.WebElement (session=\"45b6baa3cce0c74d3ab9000e9a472c36\", element=\"582e3ce0-4cec-4f74-80ce-1f274ff04e8a\")>,\n",
       " <selenium.webdriver.remote.webelement.WebElement (session=\"45b6baa3cce0c74d3ab9000e9a472c36\", element=\"3261db4a-cd33-4157-a749-50425450206f\")>,\n",
       " <selenium.webdriver.remote.webelement.WebElement (session=\"45b6baa3cce0c74d3ab9000e9a472c36\", element=\"5bf11605-16cb-4932-b409-f392011d6627\")>,\n",
       " <selenium.webdriver.remote.webelement.WebElement (session=\"45b6baa3cce0c74d3ab9000e9a472c36\", element=\"6418be18-eed8-46cc-9440-5d860ccb40d0\")>,\n",
       " <selenium.webdriver.remote.webelement.WebElement (session=\"45b6baa3cce0c74d3ab9000e9a472c36\", element=\"de5aecff-b692-4ec3-ae34-00ddacecc4dc\")>,\n",
       " <selenium.webdriver.remote.webelement.WebElement (session=\"45b6baa3cce0c74d3ab9000e9a472c36\", element=\"5478ad77-86ee-4d32-ae6d-2f53da35e340\")>,\n",
       " <selenium.webdriver.remote.webelement.WebElement (session=\"45b6baa3cce0c74d3ab9000e9a472c36\", element=\"6af6f976-1ab0-4852-8d1d-f10d27c7f97e\")>,\n",
       " <selenium.webdriver.remote.webelement.WebElement (session=\"45b6baa3cce0c74d3ab9000e9a472c36\", element=\"d20c7f62-c812-4dd3-ac4b-1356858ccc9d\")>,\n",
       " <selenium.webdriver.remote.webelement.WebElement (session=\"45b6baa3cce0c74d3ab9000e9a472c36\", element=\"d6f54b1d-0e1b-4ccd-842a-1468369c8bf7\")>,\n",
       " <selenium.webdriver.remote.webelement.WebElement (session=\"45b6baa3cce0c74d3ab9000e9a472c36\", element=\"ace83f85-2a67-4508-9e16-12773e8e50d7\")>,\n",
       " <selenium.webdriver.remote.webelement.WebElement (session=\"45b6baa3cce0c74d3ab9000e9a472c36\", element=\"2a6afbed-4d7e-4b52-a201-85cbb51a6d1e\")>,\n",
       " <selenium.webdriver.remote.webelement.WebElement (session=\"45b6baa3cce0c74d3ab9000e9a472c36\", element=\"9105073d-6e72-47ed-8d68-b90d9548dc70\")>,\n",
       " <selenium.webdriver.remote.webelement.WebElement (session=\"45b6baa3cce0c74d3ab9000e9a472c36\", element=\"66ba5be3-65f5-4d57-807c-17aba8da8acb\")>,\n",
       " <selenium.webdriver.remote.webelement.WebElement (session=\"45b6baa3cce0c74d3ab9000e9a472c36\", element=\"9d797512-5b81-4842-a9d2-1b19b55c71b2\")>,\n",
       " <selenium.webdriver.remote.webelement.WebElement (session=\"45b6baa3cce0c74d3ab9000e9a472c36\", element=\"4a97a541-c6ca-4694-9c0a-649171310cd8\")>,\n",
       " <selenium.webdriver.remote.webelement.WebElement (session=\"45b6baa3cce0c74d3ab9000e9a472c36\", element=\"c9debd4c-ac31-411f-80f9-76a130e8a00e\")>,\n",
       " <selenium.webdriver.remote.webelement.WebElement (session=\"45b6baa3cce0c74d3ab9000e9a472c36\", element=\"29ee948e-6160-41dc-9b04-58193e3f6b63\")>,\n",
       " <selenium.webdriver.remote.webelement.WebElement (session=\"45b6baa3cce0c74d3ab9000e9a472c36\", element=\"ae5b6295-86ee-42c1-9f12-bc571428b19f\")>,\n",
       " <selenium.webdriver.remote.webelement.WebElement (session=\"45b6baa3cce0c74d3ab9000e9a472c36\", element=\"61c9a57e-5507-40ba-a04a-538d23a0136c\")>,\n",
       " <selenium.webdriver.remote.webelement.WebElement (session=\"45b6baa3cce0c74d3ab9000e9a472c36\", element=\"d9b5198c-3b57-4f62-b61d-2bbed1b2f27e\")>,\n",
       " <selenium.webdriver.remote.webelement.WebElement (session=\"45b6baa3cce0c74d3ab9000e9a472c36\", element=\"bd5db6fa-d1b0-4fda-ba18-1060344bd4c8\")>,\n",
       " <selenium.webdriver.remote.webelement.WebElement (session=\"45b6baa3cce0c74d3ab9000e9a472c36\", element=\"d66dcc5e-ed2d-4f16-8c04-5da8c2c7f8b1\")>,\n",
       " <selenium.webdriver.remote.webelement.WebElement (session=\"45b6baa3cce0c74d3ab9000e9a472c36\", element=\"67381a26-6ae9-4908-b35e-4e4d92d2e1a2\")>,\n",
       " <selenium.webdriver.remote.webelement.WebElement (session=\"45b6baa3cce0c74d3ab9000e9a472c36\", element=\"5d11fc59-449e-41c2-95f1-6191e70a5e6c\")>,\n",
       " <selenium.webdriver.remote.webelement.WebElement (session=\"45b6baa3cce0c74d3ab9000e9a472c36\", element=\"8e653a9d-c848-4db1-85f2-5cb3135b4f6d\")>,\n",
       " <selenium.webdriver.remote.webelement.WebElement (session=\"45b6baa3cce0c74d3ab9000e9a472c36\", element=\"90c37690-a711-4621-a731-4ab6d1a377d1\")>,\n",
       " <selenium.webdriver.remote.webelement.WebElement (session=\"45b6baa3cce0c74d3ab9000e9a472c36\", element=\"bc3268f6-f990-4ee8-b757-a44ae493b3ba\")>,\n",
       " <selenium.webdriver.remote.webelement.WebElement (session=\"45b6baa3cce0c74d3ab9000e9a472c36\", element=\"20dc366f-4045-43de-916a-1bca53122130\")>,\n",
       " <selenium.webdriver.remote.webelement.WebElement (session=\"45b6baa3cce0c74d3ab9000e9a472c36\", element=\"424cd74a-fa25-44d6-9a5c-1e0f890d42f1\")>,\n",
       " <selenium.webdriver.remote.webelement.WebElement (session=\"45b6baa3cce0c74d3ab9000e9a472c36\", element=\"4a5d2df6-32f3-49a6-8505-ff5dc16d3919\")>,\n",
       " <selenium.webdriver.remote.webelement.WebElement (session=\"45b6baa3cce0c74d3ab9000e9a472c36\", element=\"60281866-0a32-4b63-860b-66ee725dcab3\")>,\n",
       " <selenium.webdriver.remote.webelement.WebElement (session=\"45b6baa3cce0c74d3ab9000e9a472c36\", element=\"4e4ecc4d-587b-44b1-950b-b0b76c391eac\")>,\n",
       " <selenium.webdriver.remote.webelement.WebElement (session=\"45b6baa3cce0c74d3ab9000e9a472c36\", element=\"6276897e-e3b5-4569-9b06-7062aab54cc0\")>,\n",
       " <selenium.webdriver.remote.webelement.WebElement (session=\"45b6baa3cce0c74d3ab9000e9a472c36\", element=\"51bcaf5c-d171-4194-8118-0d6167aa8ea9\")>,\n",
       " <selenium.webdriver.remote.webelement.WebElement (session=\"45b6baa3cce0c74d3ab9000e9a472c36\", element=\"ecfcdb37-504b-477f-b9ad-b237a18a8691\")>,\n",
       " <selenium.webdriver.remote.webelement.WebElement (session=\"45b6baa3cce0c74d3ab9000e9a472c36\", element=\"59c81f28-2793-433a-bb72-fdee7c881955\")>,\n",
       " <selenium.webdriver.remote.webelement.WebElement (session=\"45b6baa3cce0c74d3ab9000e9a472c36\", element=\"da6e913e-03bf-47eb-a87f-8065195b158b\")>,\n",
       " <selenium.webdriver.remote.webelement.WebElement (session=\"45b6baa3cce0c74d3ab9000e9a472c36\", element=\"013347e0-8bad-4f3c-9db8-3e52d2444a88\")>,\n",
       " <selenium.webdriver.remote.webelement.WebElement (session=\"45b6baa3cce0c74d3ab9000e9a472c36\", element=\"536436f5-5021-427d-b303-8bd4aae61320\")>,\n",
       " <selenium.webdriver.remote.webelement.WebElement (session=\"45b6baa3cce0c74d3ab9000e9a472c36\", element=\"a3dd55eb-69fb-4a8c-857c-a50c4e7a03a1\")>,\n",
       " <selenium.webdriver.remote.webelement.WebElement (session=\"45b6baa3cce0c74d3ab9000e9a472c36\", element=\"3b52b70e-1e51-475e-b5ca-ca97395c8652\")>,\n",
       " <selenium.webdriver.remote.webelement.WebElement (session=\"45b6baa3cce0c74d3ab9000e9a472c36\", element=\"7458e425-9f14-4620-85db-61375777c8c7\")>,\n",
       " <selenium.webdriver.remote.webelement.WebElement (session=\"45b6baa3cce0c74d3ab9000e9a472c36\", element=\"f87fb846-5155-4a00-9847-3ab5865eadf0\")>,\n",
       " <selenium.webdriver.remote.webelement.WebElement (session=\"45b6baa3cce0c74d3ab9000e9a472c36\", element=\"49601977-f755-489a-bf62-f04f11c90ae1\")>,\n",
       " <selenium.webdriver.remote.webelement.WebElement (session=\"45b6baa3cce0c74d3ab9000e9a472c36\", element=\"ce5c0868-b8af-4969-a8d7-dc043f8bc6cb\")>,\n",
       " <selenium.webdriver.remote.webelement.WebElement (session=\"45b6baa3cce0c74d3ab9000e9a472c36\", element=\"ad4ae3cf-a71f-4419-bd19-d588fdda3b15\")>,\n",
       " <selenium.webdriver.remote.webelement.WebElement (session=\"45b6baa3cce0c74d3ab9000e9a472c36\", element=\"f29974fa-dc6a-4c43-afa7-699374db4c4d\")>]"
      ]
     },
     "execution_count": 28,
     "metadata": {},
     "output_type": "execute_result"
    }
   ],
   "source": [
    "header2=browser.find_elements(\"xpath\",\"//div[@class='td-wrap-in']\")\n",
    "header2\n"
   ]
  },
  {
   "cell_type": "code",
   "execution_count": 29,
   "id": "33864962",
   "metadata": {},
   "outputs": [
    {
     "data": {
      "text/plain": [
       "['81.5', '99.6', '98.3', '43.5', '65.6', '95.7', '95.8', '96.7', '94']"
      ]
     },
     "execution_count": 29,
     "metadata": {},
     "output_type": "execute_result"
    }
   ],
   "source": [
    "#PARSING DATA\n",
    "value_head=[]\n",
    "for data in header2:\n",
    "    #get the text data\n",
    "    temp=data.text\n",
    "    value_head.append(temp)\n",
    "value=value_head[41:50]\n",
    "value\n"
   ]
  },
  {
   "cell_type": "code",
   "execution_count": 32,
   "id": "5a8c14e9",
   "metadata": {},
   "outputs": [
    {
     "data": {
      "text/plain": [
       "{'Name': 'University of Toronto',\n",
       " 'Location': 'Toronto, Canada',\n",
       " 'Rank': '=34',\n",
       " 'Overall Score': '81.5',\n",
       " 'Academic Reputation': '99.6',\n",
       " 'Employer Reputation': '98.3',\n",
       " 'Citations per Faculty': '43.5',\n",
       " 'Faculty Student Ratio': '65.6',\n",
       " 'International Students Ratio': '95.7',\n",
       " 'International Faculty Ratio': '95.8',\n",
       " 'International Research Network\\nUnweighted': '96.7',\n",
       " 'Employment Outcomes\\nUnweighted': '94'}"
      ]
     },
     "execution_count": 32,
     "metadata": {},
     "output_type": "execute_result"
    }
   ],
   "source": [
    "d={}\n",
    "d['Name']=value_head[40]\n",
    "d['Location']=loc[4]\n",
    "d['Rank']=RANK[4]\n",
    "\n",
    "\n",
    "for i in range(len(column_head)):\n",
    "    d[column_head[i]]=value[i]\n",
    "d"
   ]
  },
  {
   "cell_type": "code",
   "execution_count": 33,
   "id": "d023a51d",
   "metadata": {},
   "outputs": [
    {
     "data": {
      "text/plain": [
       "'{\"Name\": \"University of Toronto\", \"Location\": \"Toronto, Canada\", \"Rank\": \"=34\", \"Overall Score\": \"81.5\", \"Academic Reputation\": \"99.6\", \"Employer Reputation\": \"98.3\", \"Citations per Faculty\": \"43.5\", \"Faculty Student Ratio\": \"65.6\", \"International Students Ratio\": \"95.7\", \"International Faculty Ratio\": \"95.8\", \"International Research Network\\\\nUnweighted\": \"96.7\", \"Employment Outcomes\\\\nUnweighted\": \"94\"}'"
      ]
     },
     "execution_count": 33,
     "metadata": {},
     "output_type": "execute_result"
    }
   ],
   "source": [
    "s1=json.dumps(d)\n",
    "s1"
   ]
  },
  {
   "cell_type": "code",
   "execution_count": 34,
   "id": "c0874823",
   "metadata": {},
   "outputs": [],
   "source": [
    "with open('University of Toronto.json','w') as f:\n",
    "    json.dump(d,f)\n"
   ]
  },
  {
   "cell_type": "code",
   "execution_count": null,
   "id": "1985e032",
   "metadata": {},
   "outputs": [],
   "source": []
  },
  {
   "cell_type": "code",
   "execution_count": null,
   "id": "2c00bd1b",
   "metadata": {},
   "outputs": [],
   "source": []
  }
 ],
 "metadata": {
  "kernelspec": {
   "display_name": "Python 3 (ipykernel)",
   "language": "python",
   "name": "python3"
  },
  "language_info": {
   "codemirror_mode": {
    "name": "ipython",
    "version": 3
   },
   "file_extension": ".py",
   "mimetype": "text/x-python",
   "name": "python",
   "nbconvert_exporter": "python",
   "pygments_lexer": "ipython3",
   "version": "3.9.12"
  }
 },
 "nbformat": 4,
 "nbformat_minor": 5
}
