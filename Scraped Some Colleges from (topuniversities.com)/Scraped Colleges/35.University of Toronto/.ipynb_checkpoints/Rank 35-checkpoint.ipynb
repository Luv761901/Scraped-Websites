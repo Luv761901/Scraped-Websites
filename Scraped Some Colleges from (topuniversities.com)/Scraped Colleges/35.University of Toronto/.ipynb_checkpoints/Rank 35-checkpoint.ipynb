{
 "cells": [
  {
   "cell_type": "code",
   "execution_count": 1,
   "id": "c923f6b2",
   "metadata": {},
   "outputs": [],
   "source": [
    "from selenium import webdriver\n",
    "from selenium.webdriver.chrome.service import Service\n",
    "import pandas as pd\n",
    "import json\n"
   ]
  },
  {
   "cell_type": "code",
   "execution_count": 2,
   "id": "b2d27e4f",
   "metadata": {},
   "outputs": [],
   "source": [
    "path = Service('C:\\chromedriver.exe')"
   ]
  },
  {
   "cell_type": "code",
   "execution_count": 3,
   "id": "46566f59",
   "metadata": {},
   "outputs": [],
   "source": [
    "\n",
    "# set path for the driver\n",
    "browser = webdriver.Chrome(service = path)"
   ]
  },
  {
   "cell_type": "code",
   "execution_count": 4,
   "id": "90a0dbfb",
   "metadata": {},
   "outputs": [],
   "source": [
    "url = \"https://www.topuniversities.com/university-rankings/world-university-rankings/2023\"\n"
   ]
  },
  {
   "cell_type": "code",
   "execution_count": 5,
   "id": "06a2eab2",
   "metadata": {},
   "outputs": [],
   "source": [
    "\n",
    "# open the page url ion chrome\n",
    "browser.get(url)"
   ]
  },
  {
   "cell_type": "code",
   "execution_count": 6,
   "id": "c63948ce",
   "metadata": {},
   "outputs": [
    {
     "data": {
      "text/plain": [
       "[<selenium.webdriver.remote.webelement.WebElement (session=\"c46bccf27015140cce96dbdf9223f492\", element=\"b30b4b83-a89e-4255-8559-2467b9d367f4\")>,\n",
       " <selenium.webdriver.remote.webelement.WebElement (session=\"c46bccf27015140cce96dbdf9223f492\", element=\"8055c851-682d-4eed-aecb-57d8c9b5f1b8\")>,\n",
       " <selenium.webdriver.remote.webelement.WebElement (session=\"c46bccf27015140cce96dbdf9223f492\", element=\"d56f3254-005d-4c1f-9d2e-11cdef547fc9\")>,\n",
       " <selenium.webdriver.remote.webelement.WebElement (session=\"c46bccf27015140cce96dbdf9223f492\", element=\"3ae9b1fd-9737-427a-a487-905ae31de790\")>,\n",
       " <selenium.webdriver.remote.webelement.WebElement (session=\"c46bccf27015140cce96dbdf9223f492\", element=\"d16dfd72-c709-4530-996a-e4e7b3ffb319\")>,\n",
       " <selenium.webdriver.remote.webelement.WebElement (session=\"c46bccf27015140cce96dbdf9223f492\", element=\"4bf51ed5-3de3-4c11-93d9-fd014f723e5d\")>,\n",
       " <selenium.webdriver.remote.webelement.WebElement (session=\"c46bccf27015140cce96dbdf9223f492\", element=\"ae2648bb-109d-425b-bfdd-962fdcf42b47\")>,\n",
       " <selenium.webdriver.remote.webelement.WebElement (session=\"c46bccf27015140cce96dbdf9223f492\", element=\"9c5e316e-e7ec-4eff-84d8-56731845a230\")>,\n",
       " <selenium.webdriver.remote.webelement.WebElement (session=\"c46bccf27015140cce96dbdf9223f492\", element=\"7124588d-c72c-4546-b65e-c0d162dbb256\")>]"
      ]
     },
     "execution_count": 6,
     "metadata": {},
     "output_type": "execute_result"
    }
   ],
   "source": [
    "# GET EACH COLLEGE SPECIFICATION HEADERS\n",
    "header=browser.find_elements(\"xpath\",\"//div[@class='_click-function_ind']\")\n",
    "header\n"
   ]
  },
  {
   "cell_type": "code",
   "execution_count": 7,
   "id": "84474bd0",
   "metadata": {},
   "outputs": [
    {
     "data": {
      "text/plain": [
       "['Overall Score',\n",
       " 'Academic Reputation',\n",
       " 'Employer Reputation',\n",
       " 'Citations per Faculty',\n",
       " 'Faculty Student Ratio',\n",
       " 'International Students Ratio',\n",
       " 'International Faculty Ratio',\n",
       " 'International Research Network\\nUnweighted',\n",
       " 'Employment Outcomes\\nUnweighted']"
      ]
     },
     "execution_count": 7,
     "metadata": {},
     "output_type": "execute_result"
    }
   ],
   "source": [
    "#PARSING DATA\n",
    "column_head=[]\n",
    "for data in header:\n",
    "    #get the text data\n",
    "    temp=data.text\n",
    "    column_head.append(temp)\n",
    "column_head"
   ]
  },
  {
   "cell_type": "code",
   "execution_count": 8,
   "id": "dd9660d9",
   "metadata": {},
   "outputs": [
    {
     "data": {
      "text/plain": [
       "[<selenium.webdriver.remote.webelement.WebElement (session=\"c46bccf27015140cce96dbdf9223f492\", element=\"fe92be6e-3e9d-4706-9d58-1609f74890f3\")>,\n",
       " <selenium.webdriver.remote.webelement.WebElement (session=\"c46bccf27015140cce96dbdf9223f492\", element=\"7ec2c602-53fa-4606-90f3-a77fcbda41fa\")>,\n",
       " <selenium.webdriver.remote.webelement.WebElement (session=\"c46bccf27015140cce96dbdf9223f492\", element=\"ca347813-a035-468f-be26-e069ac09de69\")>,\n",
       " <selenium.webdriver.remote.webelement.WebElement (session=\"c46bccf27015140cce96dbdf9223f492\", element=\"c89c0c56-6e7e-4795-9bb9-f297d8fa2ff5\")>,\n",
       " <selenium.webdriver.remote.webelement.WebElement (session=\"c46bccf27015140cce96dbdf9223f492\", element=\"335d2e8c-364e-41b9-9438-6ff0c04dbceb\")>,\n",
       " <selenium.webdriver.remote.webelement.WebElement (session=\"c46bccf27015140cce96dbdf9223f492\", element=\"dbbf54ca-9417-449b-aa98-0013fecc7047\")>,\n",
       " <selenium.webdriver.remote.webelement.WebElement (session=\"c46bccf27015140cce96dbdf9223f492\", element=\"16c38462-8581-4eb3-9660-64573a96eea6\")>,\n",
       " <selenium.webdriver.remote.webelement.WebElement (session=\"c46bccf27015140cce96dbdf9223f492\", element=\"10059042-1652-4357-be70-73fdbb7c849c\")>,\n",
       " <selenium.webdriver.remote.webelement.WebElement (session=\"c46bccf27015140cce96dbdf9223f492\", element=\"0765cb0b-e7b1-4833-af4a-8bdc1bf69e4d\")>,\n",
       " <selenium.webdriver.remote.webelement.WebElement (session=\"c46bccf27015140cce96dbdf9223f492\", element=\"5e7c5346-81a0-46d2-80b1-09b8c1af45c1\")>,\n",
       " <selenium.webdriver.remote.webelement.WebElement (session=\"c46bccf27015140cce96dbdf9223f492\", element=\"20a4e0bb-566f-4cd7-b283-ad5772e37c7f\")>,\n",
       " <selenium.webdriver.remote.webelement.WebElement (session=\"c46bccf27015140cce96dbdf9223f492\", element=\"e7b91812-d7e0-4608-817b-283c43052a6d\")>,\n",
       " <selenium.webdriver.remote.webelement.WebElement (session=\"c46bccf27015140cce96dbdf9223f492\", element=\"458c3315-08fb-4927-b6d3-0c0b1329dc67\")>,\n",
       " <selenium.webdriver.remote.webelement.WebElement (session=\"c46bccf27015140cce96dbdf9223f492\", element=\"cf3c557d-db3e-4f48-902f-d27c5daad676\")>,\n",
       " <selenium.webdriver.remote.webelement.WebElement (session=\"c46bccf27015140cce96dbdf9223f492\", element=\"3c2aa638-4d10-4d2f-b31c-5e1926ee7d58\")>,\n",
       " <selenium.webdriver.remote.webelement.WebElement (session=\"c46bccf27015140cce96dbdf9223f492\", element=\"a362dcac-3721-4a38-b13f-405a0197bd38\")>,\n",
       " <selenium.webdriver.remote.webelement.WebElement (session=\"c46bccf27015140cce96dbdf9223f492\", element=\"0b3f5696-7470-476b-a281-9cbf1213417e\")>,\n",
       " <selenium.webdriver.remote.webelement.WebElement (session=\"c46bccf27015140cce96dbdf9223f492\", element=\"4c7ee338-07d0-45f5-bab7-da634a387794\")>,\n",
       " <selenium.webdriver.remote.webelement.WebElement (session=\"c46bccf27015140cce96dbdf9223f492\", element=\"27955794-4d7b-4c19-9ba5-3965ce6682fb\")>,\n",
       " <selenium.webdriver.remote.webelement.WebElement (session=\"c46bccf27015140cce96dbdf9223f492\", element=\"1158b8d7-7dbe-48f2-87db-ef5e4affc9aa\")>,\n",
       " <selenium.webdriver.remote.webelement.WebElement (session=\"c46bccf27015140cce96dbdf9223f492\", element=\"9f0db005-72c2-4006-807a-21f8deb19a26\")>,\n",
       " <selenium.webdriver.remote.webelement.WebElement (session=\"c46bccf27015140cce96dbdf9223f492\", element=\"8237e08a-1501-466b-a5ef-6e0551199278\")>,\n",
       " <selenium.webdriver.remote.webelement.WebElement (session=\"c46bccf27015140cce96dbdf9223f492\", element=\"5f7c0bfb-9b47-48cd-9e10-fdc010e1a141\")>,\n",
       " <selenium.webdriver.remote.webelement.WebElement (session=\"c46bccf27015140cce96dbdf9223f492\", element=\"903dcfa9-1efb-4ebb-94e8-fb8f6efc3df6\")>,\n",
       " <selenium.webdriver.remote.webelement.WebElement (session=\"c46bccf27015140cce96dbdf9223f492\", element=\"0ccfc2bd-d25f-4ee8-bbe1-f9f7cf2ae9b6\")>,\n",
       " <selenium.webdriver.remote.webelement.WebElement (session=\"c46bccf27015140cce96dbdf9223f492\", element=\"68f38b55-6652-446a-9d16-26d9a11d9118\")>,\n",
       " <selenium.webdriver.remote.webelement.WebElement (session=\"c46bccf27015140cce96dbdf9223f492\", element=\"4f549c9e-91ac-4c60-8112-657efd0828e2\")>,\n",
       " <selenium.webdriver.remote.webelement.WebElement (session=\"c46bccf27015140cce96dbdf9223f492\", element=\"8db896cc-30b3-4526-a6e9-f7f80bac8cf0\")>,\n",
       " <selenium.webdriver.remote.webelement.WebElement (session=\"c46bccf27015140cce96dbdf9223f492\", element=\"55093e66-91e1-4b85-8b26-9ec080e1ff42\")>,\n",
       " <selenium.webdriver.remote.webelement.WebElement (session=\"c46bccf27015140cce96dbdf9223f492\", element=\"f90b4841-b0a6-46e6-8ca4-dc44df1a9ba9\")>,\n",
       " <selenium.webdriver.remote.webelement.WebElement (session=\"c46bccf27015140cce96dbdf9223f492\", element=\"9483856c-a29e-4f07-9463-09f632c0b593\")>,\n",
       " <selenium.webdriver.remote.webelement.WebElement (session=\"c46bccf27015140cce96dbdf9223f492\", element=\"523a8c7c-5aae-497d-ae1b-44016f08b9fe\")>,\n",
       " <selenium.webdriver.remote.webelement.WebElement (session=\"c46bccf27015140cce96dbdf9223f492\", element=\"35724861-6b94-4b4a-8bf2-023129f4ed4f\")>,\n",
       " <selenium.webdriver.remote.webelement.WebElement (session=\"c46bccf27015140cce96dbdf9223f492\", element=\"5125f88f-8a0c-482f-97cb-4cc68c3914f3\")>,\n",
       " <selenium.webdriver.remote.webelement.WebElement (session=\"c46bccf27015140cce96dbdf9223f492\", element=\"de286e92-b3f1-4261-8979-246b6ddd7895\")>,\n",
       " <selenium.webdriver.remote.webelement.WebElement (session=\"c46bccf27015140cce96dbdf9223f492\", element=\"36838b15-3b97-4782-b2e3-874254b15a3a\")>,\n",
       " <selenium.webdriver.remote.webelement.WebElement (session=\"c46bccf27015140cce96dbdf9223f492\", element=\"98fbf8ba-4f71-48ce-93be-557a5bb23c28\")>,\n",
       " <selenium.webdriver.remote.webelement.WebElement (session=\"c46bccf27015140cce96dbdf9223f492\", element=\"f40cf060-777e-4ae2-8aec-fbce43be8f22\")>,\n",
       " <selenium.webdriver.remote.webelement.WebElement (session=\"c46bccf27015140cce96dbdf9223f492\", element=\"53f3b3be-dca3-4b20-99f0-8cb5c6fda284\")>,\n",
       " <selenium.webdriver.remote.webelement.WebElement (session=\"c46bccf27015140cce96dbdf9223f492\", element=\"851a88c4-27b0-412c-9f5e-0fb7006a555f\")>,\n",
       " <selenium.webdriver.remote.webelement.WebElement (session=\"c46bccf27015140cce96dbdf9223f492\", element=\"459b1d67-cc42-422a-a033-d78807091b05\")>,\n",
       " <selenium.webdriver.remote.webelement.WebElement (session=\"c46bccf27015140cce96dbdf9223f492\", element=\"13dcfc04-e496-454d-bfff-4c751ae0b8fe\")>,\n",
       " <selenium.webdriver.remote.webelement.WebElement (session=\"c46bccf27015140cce96dbdf9223f492\", element=\"1a16aee8-c1a4-413c-80ac-6bd2d4b20293\")>,\n",
       " <selenium.webdriver.remote.webelement.WebElement (session=\"c46bccf27015140cce96dbdf9223f492\", element=\"33b3196c-1a1d-4df7-8554-5dab8f7a1a0e\")>,\n",
       " <selenium.webdriver.remote.webelement.WebElement (session=\"c46bccf27015140cce96dbdf9223f492\", element=\"4ba6f093-7b0d-4429-b827-7eeeac86eac0\")>,\n",
       " <selenium.webdriver.remote.webelement.WebElement (session=\"c46bccf27015140cce96dbdf9223f492\", element=\"b5e4baaa-40e1-428e-a11f-b19dda79942a\")>,\n",
       " <selenium.webdriver.remote.webelement.WebElement (session=\"c46bccf27015140cce96dbdf9223f492\", element=\"7ebdc913-683b-4380-b45f-e5e64222a06b\")>,\n",
       " <selenium.webdriver.remote.webelement.WebElement (session=\"c46bccf27015140cce96dbdf9223f492\", element=\"574b6b13-5960-428c-9d85-3940f4d6512d\")>,\n",
       " <selenium.webdriver.remote.webelement.WebElement (session=\"c46bccf27015140cce96dbdf9223f492\", element=\"730f0a62-6b2b-4852-bea7-4a27fc7ca42a\")>,\n",
       " <selenium.webdriver.remote.webelement.WebElement (session=\"c46bccf27015140cce96dbdf9223f492\", element=\"0dacc568-2806-4d1b-b261-945bb613c83d\")>,\n",
       " <selenium.webdriver.remote.webelement.WebElement (session=\"c46bccf27015140cce96dbdf9223f492\", element=\"cf0cabb7-d19c-429f-ab7a-705134060d88\")>,\n",
       " <selenium.webdriver.remote.webelement.WebElement (session=\"c46bccf27015140cce96dbdf9223f492\", element=\"2a249b2a-481d-45f8-8da4-9116915b9e43\")>,\n",
       " <selenium.webdriver.remote.webelement.WebElement (session=\"c46bccf27015140cce96dbdf9223f492\", element=\"cb7d97e5-48fe-4979-b11c-cfd5f2c8971e\")>,\n",
       " <selenium.webdriver.remote.webelement.WebElement (session=\"c46bccf27015140cce96dbdf9223f492\", element=\"05b28932-5452-4649-9760-6920c361f091\")>,\n",
       " <selenium.webdriver.remote.webelement.WebElement (session=\"c46bccf27015140cce96dbdf9223f492\", element=\"09dcca4d-88b7-4687-b237-2beb89b9e280\")>,\n",
       " <selenium.webdriver.remote.webelement.WebElement (session=\"c46bccf27015140cce96dbdf9223f492\", element=\"71786260-5bde-49ce-a8bd-4f74c87e269a\")>,\n",
       " <selenium.webdriver.remote.webelement.WebElement (session=\"c46bccf27015140cce96dbdf9223f492\", element=\"60307845-b957-442a-b2c8-f51c6de48ee8\")>,\n",
       " <selenium.webdriver.remote.webelement.WebElement (session=\"c46bccf27015140cce96dbdf9223f492\", element=\"637ad006-f4ae-45a6-a8d3-f6c61719519b\")>,\n",
       " <selenium.webdriver.remote.webelement.WebElement (session=\"c46bccf27015140cce96dbdf9223f492\", element=\"006f8735-5fe7-46d4-aae6-faa8b59cfb01\")>,\n",
       " <selenium.webdriver.remote.webelement.WebElement (session=\"c46bccf27015140cce96dbdf9223f492\", element=\"8fb1bdb4-6e2b-45c4-9331-5ccd58c59b31\")>,\n",
       " <selenium.webdriver.remote.webelement.WebElement (session=\"c46bccf27015140cce96dbdf9223f492\", element=\"6acabebc-1c7a-49b1-b476-23a000b153dd\")>,\n",
       " <selenium.webdriver.remote.webelement.WebElement (session=\"c46bccf27015140cce96dbdf9223f492\", element=\"887f71fd-25c2-4d8d-a983-154f8b83638e\")>,\n",
       " <selenium.webdriver.remote.webelement.WebElement (session=\"c46bccf27015140cce96dbdf9223f492\", element=\"81b9c927-0bcd-4209-a5b9-1cce30740eec\")>,\n",
       " <selenium.webdriver.remote.webelement.WebElement (session=\"c46bccf27015140cce96dbdf9223f492\", element=\"2d10e360-876b-4532-bfe4-fae9b1b6c84b\")>,\n",
       " <selenium.webdriver.remote.webelement.WebElement (session=\"c46bccf27015140cce96dbdf9223f492\", element=\"e13ea7f8-125d-40ea-b7b3-48263a0d08c9\")>,\n",
       " <selenium.webdriver.remote.webelement.WebElement (session=\"c46bccf27015140cce96dbdf9223f492\", element=\"774b5ce9-a3f7-4b7f-aef3-3a3e87c27b6a\")>,\n",
       " <selenium.webdriver.remote.webelement.WebElement (session=\"c46bccf27015140cce96dbdf9223f492\", element=\"06fa3544-f145-4c97-806d-04bee61f5628\")>,\n",
       " <selenium.webdriver.remote.webelement.WebElement (session=\"c46bccf27015140cce96dbdf9223f492\", element=\"c1b8cbb9-227f-4cd8-942e-81210d592887\")>,\n",
       " <selenium.webdriver.remote.webelement.WebElement (session=\"c46bccf27015140cce96dbdf9223f492\", element=\"f59a9a02-fd7c-425b-8ecd-6ca29bb09169\")>,\n",
       " <selenium.webdriver.remote.webelement.WebElement (session=\"c46bccf27015140cce96dbdf9223f492\", element=\"913ad945-a756-4c8f-874b-dad9e760d5f6\")>,\n",
       " <selenium.webdriver.remote.webelement.WebElement (session=\"c46bccf27015140cce96dbdf9223f492\", element=\"3d719032-2760-4a5e-89b3-349398345722\")>,\n",
       " <selenium.webdriver.remote.webelement.WebElement (session=\"c46bccf27015140cce96dbdf9223f492\", element=\"1d061d4f-128c-4f8b-8243-b537d27fc9c1\")>,\n",
       " <selenium.webdriver.remote.webelement.WebElement (session=\"c46bccf27015140cce96dbdf9223f492\", element=\"f5903998-4a30-45ab-a7c9-68c11bc41bc1\")>,\n",
       " <selenium.webdriver.remote.webelement.WebElement (session=\"c46bccf27015140cce96dbdf9223f492\", element=\"5bfd5f88-bc58-447e-8d43-e8a2d42157f4\")>,\n",
       " <selenium.webdriver.remote.webelement.WebElement (session=\"c46bccf27015140cce96dbdf9223f492\", element=\"38ff83cb-a9e3-4e3d-a4ec-45f2facc60e8\")>,\n",
       " <selenium.webdriver.remote.webelement.WebElement (session=\"c46bccf27015140cce96dbdf9223f492\", element=\"ff03ae3c-8a82-4bb4-af30-53eec189eec6\")>,\n",
       " <selenium.webdriver.remote.webelement.WebElement (session=\"c46bccf27015140cce96dbdf9223f492\", element=\"542a9d5a-5006-4ab1-be67-ea18c9919bb4\")>,\n",
       " <selenium.webdriver.remote.webelement.WebElement (session=\"c46bccf27015140cce96dbdf9223f492\", element=\"26b43a3c-3077-49af-bd3f-b2091cba8862\")>,\n",
       " <selenium.webdriver.remote.webelement.WebElement (session=\"c46bccf27015140cce96dbdf9223f492\", element=\"3ffc5678-df84-4e60-976f-6275a3902ac0\")>,\n",
       " <selenium.webdriver.remote.webelement.WebElement (session=\"c46bccf27015140cce96dbdf9223f492\", element=\"72086396-8c36-4711-a064-efb87b1876a7\")>,\n",
       " <selenium.webdriver.remote.webelement.WebElement (session=\"c46bccf27015140cce96dbdf9223f492\", element=\"8104f1ba-c0d0-4949-9324-030efd8dc75c\")>,\n",
       " <selenium.webdriver.remote.webelement.WebElement (session=\"c46bccf27015140cce96dbdf9223f492\", element=\"100c837a-7133-444e-af34-b879f9fa8824\")>,\n",
       " <selenium.webdriver.remote.webelement.WebElement (session=\"c46bccf27015140cce96dbdf9223f492\", element=\"f83780be-0842-4ecb-b6fb-c8699b498bd5\")>,\n",
       " <selenium.webdriver.remote.webelement.WebElement (session=\"c46bccf27015140cce96dbdf9223f492\", element=\"5ea4858d-8024-476d-9ea3-20b08cfb61c9\")>,\n",
       " <selenium.webdriver.remote.webelement.WebElement (session=\"c46bccf27015140cce96dbdf9223f492\", element=\"d4b8f6f8-93fc-4c37-98dd-005f4057e507\")>,\n",
       " <selenium.webdriver.remote.webelement.WebElement (session=\"c46bccf27015140cce96dbdf9223f492\", element=\"6ad25264-0acd-440f-a9de-bd29ae6ad02a\")>,\n",
       " <selenium.webdriver.remote.webelement.WebElement (session=\"c46bccf27015140cce96dbdf9223f492\", element=\"d0aaa882-371d-44b6-a69b-1d9516df05e3\")>,\n",
       " <selenium.webdriver.remote.webelement.WebElement (session=\"c46bccf27015140cce96dbdf9223f492\", element=\"9448bdf4-4053-47c8-bc16-166a82ffd1c1\")>,\n",
       " <selenium.webdriver.remote.webelement.WebElement (session=\"c46bccf27015140cce96dbdf9223f492\", element=\"10682c99-2b0f-4d8b-b639-94f0b1bb6342\")>,\n",
       " <selenium.webdriver.remote.webelement.WebElement (session=\"c46bccf27015140cce96dbdf9223f492\", element=\"a0b2798c-ea83-4eae-80a8-7f3fd05aae80\")>,\n",
       " <selenium.webdriver.remote.webelement.WebElement (session=\"c46bccf27015140cce96dbdf9223f492\", element=\"0a27ff56-96a8-4225-a765-017c72c788ff\")>,\n",
       " <selenium.webdriver.remote.webelement.WebElement (session=\"c46bccf27015140cce96dbdf9223f492\", element=\"a8a93b06-1dec-4cde-be63-22807a595dec\")>,\n",
       " <selenium.webdriver.remote.webelement.WebElement (session=\"c46bccf27015140cce96dbdf9223f492\", element=\"85fe5ead-2cdb-43e6-8ea8-ca6d291f0bc7\")>,\n",
       " <selenium.webdriver.remote.webelement.WebElement (session=\"c46bccf27015140cce96dbdf9223f492\", element=\"5b73d6dc-bd96-475e-a992-6750e8f0fe4a\")>,\n",
       " <selenium.webdriver.remote.webelement.WebElement (session=\"c46bccf27015140cce96dbdf9223f492\", element=\"7ab1792f-aa7b-4183-ac46-c97fe710bcb4\")>,\n",
       " <selenium.webdriver.remote.webelement.WebElement (session=\"c46bccf27015140cce96dbdf9223f492\", element=\"58673933-b7d4-4945-9cbe-78ff709275fa\")>,\n",
       " <selenium.webdriver.remote.webelement.WebElement (session=\"c46bccf27015140cce96dbdf9223f492\", element=\"dbd23213-609a-4b3e-bc47-e1498d8f2c07\")>,\n",
       " <selenium.webdriver.remote.webelement.WebElement (session=\"c46bccf27015140cce96dbdf9223f492\", element=\"dfdb0ae8-83dc-4ab5-87c7-32fd2e8db490\")>,\n",
       " <selenium.webdriver.remote.webelement.WebElement (session=\"c46bccf27015140cce96dbdf9223f492\", element=\"1c755849-9a49-4ac1-b58d-b5cd92fc0883\")>,\n",
       " <selenium.webdriver.remote.webelement.WebElement (session=\"c46bccf27015140cce96dbdf9223f492\", element=\"aea3b2ed-5539-4ca7-8770-49c9d3611d55\")>]"
      ]
     },
     "execution_count": 8,
     "metadata": {},
     "output_type": "execute_result"
    }
   ],
   "source": [
    "header2=browser.find_elements(\"xpath\",\"//div[@class='td-wrap-in']\")\n",
    "header2\n"
   ]
  },
  {
   "cell_type": "code",
   "execution_count": 9,
   "id": "33864962",
   "metadata": {},
   "outputs": [
    {
     "data": {
      "text/plain": [
       "['81.5', '99.6', '98.3', '43.5', '65.6', '95.7', '95.8', '96.7', '94']"
      ]
     },
     "execution_count": 9,
     "metadata": {},
     "output_type": "execute_result"
    }
   ],
   "source": [
    "#PARSING DATA\n",
    "value_head=[]\n",
    "for data in header2:\n",
    "    #get the text data\n",
    "    temp=data.text\n",
    "    value_head.append(temp)\n",
    "value_head=value_head[41:50]\n",
    "value_head\n"
   ]
  },
  {
   "cell_type": "code",
   "execution_count": 10,
   "id": "5a8c14e9",
   "metadata": {},
   "outputs": [
    {
     "data": {
      "text/plain": [
       "{'Overall Score': '81.5',\n",
       " 'Academic Reputation': '99.6',\n",
       " 'Employer Reputation': '98.3',\n",
       " 'Citations per Faculty': '43.5',\n",
       " 'Faculty Student Ratio': '65.6',\n",
       " 'International Students Ratio': '95.7',\n",
       " 'International Faculty Ratio': '95.8',\n",
       " 'International Research Network\\nUnweighted': '96.7',\n",
       " 'Employment Outcomes\\nUnweighted': '94'}"
      ]
     },
     "execution_count": 10,
     "metadata": {},
     "output_type": "execute_result"
    }
   ],
   "source": [
    "d={}\n",
    "for i in range(len(column_head)):\n",
    "    d[column_head[i]]=value_head[i]\n",
    "d"
   ]
  },
  {
   "cell_type": "code",
   "execution_count": 11,
   "id": "d023a51d",
   "metadata": {},
   "outputs": [
    {
     "data": {
      "text/plain": [
       "'{\"Overall Score\": \"81.5\", \"Academic Reputation\": \"99.6\", \"Employer Reputation\": \"98.3\", \"Citations per Faculty\": \"43.5\", \"Faculty Student Ratio\": \"65.6\", \"International Students Ratio\": \"95.7\", \"International Faculty Ratio\": \"95.8\", \"International Research Network\\\\nUnweighted\": \"96.7\", \"Employment Outcomes\\\\nUnweighted\": \"94\"}'"
      ]
     },
     "execution_count": 11,
     "metadata": {},
     "output_type": "execute_result"
    }
   ],
   "source": [
    "s1=json.dumps(d)\n",
    "s1"
   ]
  },
  {
   "cell_type": "code",
   "execution_count": 12,
   "id": "c0874823",
   "metadata": {},
   "outputs": [],
   "source": [
    "with open('University of Toronto.json','w') as f:\n",
    "    json.dump(d,f)\n"
   ]
  },
  {
   "cell_type": "code",
   "execution_count": null,
   "id": "1985e032",
   "metadata": {},
   "outputs": [],
   "source": []
  }
 ],
 "metadata": {
  "kernelspec": {
   "display_name": "Python 3 (ipykernel)",
   "language": "python",
   "name": "python3"
  },
  "language_info": {
   "codemirror_mode": {
    "name": "ipython",
    "version": 3
   },
   "file_extension": ".py",
   "mimetype": "text/x-python",
   "name": "python",
   "nbconvert_exporter": "python",
   "pygments_lexer": "ipython3",
   "version": "3.9.12"
  }
 },
 "nbformat": 4,
 "nbformat_minor": 5
}
