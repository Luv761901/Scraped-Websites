{
 "cells": [
  {
   "cell_type": "code",
   "execution_count": 1,
   "id": "972cf993",
   "metadata": {},
   "outputs": [],
   "source": [
    "from selenium import webdriver\n",
    "from selenium.webdriver.chrome.service import Service\n",
    "import pandas as pd\n",
    "import json"
   ]
  },
  {
   "cell_type": "code",
   "execution_count": 2,
   "id": "9e0a781c",
   "metadata": {},
   "outputs": [],
   "source": [
    "path = Service('C:\\chromedriver.exe')"
   ]
  },
  {
   "cell_type": "code",
   "execution_count": 3,
   "id": "4baa6d6e",
   "metadata": {},
   "outputs": [],
   "source": [
    "# set path for the driver\n",
    "browser = webdriver.Chrome(service = path)"
   ]
  },
  {
   "cell_type": "code",
   "execution_count": 4,
   "id": "69bdda93",
   "metadata": {},
   "outputs": [],
   "source": [
    "url = \"https://www.topuniversities.com/university-rankings/world-university-rankings/2023\""
   ]
  },
  {
   "cell_type": "code",
   "execution_count": 5,
   "id": "f12b6991",
   "metadata": {},
   "outputs": [],
   "source": [
    "# open the page url ion chrome\n",
    "browser.get(url)\n"
   ]
  },
  {
   "cell_type": "code",
   "execution_count": 6,
   "id": "7f0d8cd8",
   "metadata": {},
   "outputs": [
    {
     "data": {
      "text/plain": [
       "[<selenium.webdriver.remote.webelement.WebElement (session=\"3ee4701aa65efd1d7f33c02718d2ddb1\", element=\"950f6581-75bc-4240-893d-06aee92017a5\")>,\n",
       " <selenium.webdriver.remote.webelement.WebElement (session=\"3ee4701aa65efd1d7f33c02718d2ddb1\", element=\"90cd5e52-acd0-4e2e-a249-8791bd755060\")>,\n",
       " <selenium.webdriver.remote.webelement.WebElement (session=\"3ee4701aa65efd1d7f33c02718d2ddb1\", element=\"ffd51c72-85ab-4758-8369-80931b2082b7\")>,\n",
       " <selenium.webdriver.remote.webelement.WebElement (session=\"3ee4701aa65efd1d7f33c02718d2ddb1\", element=\"9377498f-2673-4ec8-9854-1d4847830cc6\")>,\n",
       " <selenium.webdriver.remote.webelement.WebElement (session=\"3ee4701aa65efd1d7f33c02718d2ddb1\", element=\"118d48e2-0def-4a11-b752-cbefb57cdb62\")>,\n",
       " <selenium.webdriver.remote.webelement.WebElement (session=\"3ee4701aa65efd1d7f33c02718d2ddb1\", element=\"9d32294a-35c1-4aeb-b2d2-171e1b168f5b\")>,\n",
       " <selenium.webdriver.remote.webelement.WebElement (session=\"3ee4701aa65efd1d7f33c02718d2ddb1\", element=\"87808058-d7e3-4fef-954d-dde58b96043f\")>,\n",
       " <selenium.webdriver.remote.webelement.WebElement (session=\"3ee4701aa65efd1d7f33c02718d2ddb1\", element=\"26d842a1-0d41-4d97-ad5d-8c8aeaba931a\")>,\n",
       " <selenium.webdriver.remote.webelement.WebElement (session=\"3ee4701aa65efd1d7f33c02718d2ddb1\", element=\"6d0d2897-476b-4919-a3da-23264f32c377\")>]"
      ]
     },
     "execution_count": 6,
     "metadata": {},
     "output_type": "execute_result"
    }
   ],
   "source": [
    "# GET EACH COLLEGE SPECIFICATION HEADERS\n",
    "header=browser.find_elements(\"xpath\",\"//div[@class='_click-function_ind']\")\n",
    "header"
   ]
  },
  {
   "cell_type": "code",
   "execution_count": 7,
   "id": "bbbb1f50",
   "metadata": {},
   "outputs": [
    {
     "data": {
      "text/plain": [
       "['Overall Score',\n",
       " 'Academic Reputation',\n",
       " 'Employer Reputation',\n",
       " 'Citations per Faculty',\n",
       " 'Faculty Student Ratio',\n",
       " 'International Students Ratio',\n",
       " 'International Faculty Ratio',\n",
       " 'International Research Network\\nUnweighted',\n",
       " 'Employment Outcomes\\nUnweighted']"
      ]
     },
     "execution_count": 7,
     "metadata": {},
     "output_type": "execute_result"
    }
   ],
   "source": [
    "#PARSING DATA\n",
    "column_head=[]\n",
    "for data in header:\n",
    "    #get the text data\n",
    "    temp=data.text\n",
    "    column_head.append(temp)\n",
    "column_head"
   ]
  },
  {
   "cell_type": "code",
   "execution_count": 8,
   "id": "798c43e8",
   "metadata": {},
   "outputs": [
    {
     "data": {
      "text/plain": [
       "[<selenium.webdriver.remote.webelement.WebElement (session=\"3ee4701aa65efd1d7f33c02718d2ddb1\", element=\"9658e8cb-44bb-45fa-ae8c-fe9d672809bb\")>,\n",
       " <selenium.webdriver.remote.webelement.WebElement (session=\"3ee4701aa65efd1d7f33c02718d2ddb1\", element=\"05b4892f-8487-44b0-b75b-eb74bd9ceb02\")>,\n",
       " <selenium.webdriver.remote.webelement.WebElement (session=\"3ee4701aa65efd1d7f33c02718d2ddb1\", element=\"dfd50d2f-3bbe-4575-9bd1-3dd8d43c6c98\")>,\n",
       " <selenium.webdriver.remote.webelement.WebElement (session=\"3ee4701aa65efd1d7f33c02718d2ddb1\", element=\"7f3da86b-8b6f-41a4-b5c8-4901a2cdc580\")>,\n",
       " <selenium.webdriver.remote.webelement.WebElement (session=\"3ee4701aa65efd1d7f33c02718d2ddb1\", element=\"2ead4064-66bb-450f-845b-33a175d10d5a\")>,\n",
       " <selenium.webdriver.remote.webelement.WebElement (session=\"3ee4701aa65efd1d7f33c02718d2ddb1\", element=\"2f979251-8379-4242-a889-b85bb9dc8cf8\")>,\n",
       " <selenium.webdriver.remote.webelement.WebElement (session=\"3ee4701aa65efd1d7f33c02718d2ddb1\", element=\"85f6fa1a-4b92-47f4-a1c9-6722c89d6a4b\")>,\n",
       " <selenium.webdriver.remote.webelement.WebElement (session=\"3ee4701aa65efd1d7f33c02718d2ddb1\", element=\"2ac7388a-3ab5-47a0-a9f3-5fa1407c61fb\")>,\n",
       " <selenium.webdriver.remote.webelement.WebElement (session=\"3ee4701aa65efd1d7f33c02718d2ddb1\", element=\"87c9dde7-a14e-4b08-8cf1-51ada0425278\")>,\n",
       " <selenium.webdriver.remote.webelement.WebElement (session=\"3ee4701aa65efd1d7f33c02718d2ddb1\", element=\"7c134d9d-65ea-4255-a9c7-7c370b791743\")>,\n",
       " <selenium.webdriver.remote.webelement.WebElement (session=\"3ee4701aa65efd1d7f33c02718d2ddb1\", element=\"76e165a0-d629-46e2-971b-54d3094483cb\")>,\n",
       " <selenium.webdriver.remote.webelement.WebElement (session=\"3ee4701aa65efd1d7f33c02718d2ddb1\", element=\"18fef66a-3718-4698-8ad3-b6671db3708a\")>,\n",
       " <selenium.webdriver.remote.webelement.WebElement (session=\"3ee4701aa65efd1d7f33c02718d2ddb1\", element=\"d5b8ed24-8307-4ce9-a0b2-2aaa81d14478\")>,\n",
       " <selenium.webdriver.remote.webelement.WebElement (session=\"3ee4701aa65efd1d7f33c02718d2ddb1\", element=\"d1f4f6c6-daae-4b83-9139-d209fab7d40b\")>,\n",
       " <selenium.webdriver.remote.webelement.WebElement (session=\"3ee4701aa65efd1d7f33c02718d2ddb1\", element=\"67c840da-4252-40d6-a2a8-ae5ae02907cd\")>,\n",
       " <selenium.webdriver.remote.webelement.WebElement (session=\"3ee4701aa65efd1d7f33c02718d2ddb1\", element=\"0af9b9a7-4678-41ed-a6de-e660f6f3a9c4\")>,\n",
       " <selenium.webdriver.remote.webelement.WebElement (session=\"3ee4701aa65efd1d7f33c02718d2ddb1\", element=\"ef3193f9-be48-4837-a32e-6f337272eb79\")>,\n",
       " <selenium.webdriver.remote.webelement.WebElement (session=\"3ee4701aa65efd1d7f33c02718d2ddb1\", element=\"d097ff99-c9f2-46af-9514-94c3486e7931\")>,\n",
       " <selenium.webdriver.remote.webelement.WebElement (session=\"3ee4701aa65efd1d7f33c02718d2ddb1\", element=\"4de57370-3a3f-41bf-8d6c-3802d9fc5604\")>,\n",
       " <selenium.webdriver.remote.webelement.WebElement (session=\"3ee4701aa65efd1d7f33c02718d2ddb1\", element=\"2ff1b9a7-2b21-424d-8fbc-e246850f332e\")>,\n",
       " <selenium.webdriver.remote.webelement.WebElement (session=\"3ee4701aa65efd1d7f33c02718d2ddb1\", element=\"f0252dee-a478-488f-bd43-d7d1c87c6fa6\")>,\n",
       " <selenium.webdriver.remote.webelement.WebElement (session=\"3ee4701aa65efd1d7f33c02718d2ddb1\", element=\"28c1aac1-1248-420c-9245-bd51c763d051\")>,\n",
       " <selenium.webdriver.remote.webelement.WebElement (session=\"3ee4701aa65efd1d7f33c02718d2ddb1\", element=\"0d756a5d-fc76-4553-9666-e8639dfa2bfe\")>,\n",
       " <selenium.webdriver.remote.webelement.WebElement (session=\"3ee4701aa65efd1d7f33c02718d2ddb1\", element=\"53607eac-6d61-444b-95bc-7b9ed9281f6f\")>,\n",
       " <selenium.webdriver.remote.webelement.WebElement (session=\"3ee4701aa65efd1d7f33c02718d2ddb1\", element=\"a1386231-dca7-4f8a-9283-b72d89bcd33c\")>,\n",
       " <selenium.webdriver.remote.webelement.WebElement (session=\"3ee4701aa65efd1d7f33c02718d2ddb1\", element=\"6589544f-0181-4144-a1ba-113fe810784f\")>,\n",
       " <selenium.webdriver.remote.webelement.WebElement (session=\"3ee4701aa65efd1d7f33c02718d2ddb1\", element=\"70731d0e-5e2c-48b3-8a7e-276bb57ff605\")>,\n",
       " <selenium.webdriver.remote.webelement.WebElement (session=\"3ee4701aa65efd1d7f33c02718d2ddb1\", element=\"ce2f3e65-7fdc-4c50-b3db-64f807b885d6\")>,\n",
       " <selenium.webdriver.remote.webelement.WebElement (session=\"3ee4701aa65efd1d7f33c02718d2ddb1\", element=\"3050da37-40a5-4317-99cc-a861d3cb5975\")>,\n",
       " <selenium.webdriver.remote.webelement.WebElement (session=\"3ee4701aa65efd1d7f33c02718d2ddb1\", element=\"039a587c-df88-45bf-ab11-26c2eb0508b8\")>,\n",
       " <selenium.webdriver.remote.webelement.WebElement (session=\"3ee4701aa65efd1d7f33c02718d2ddb1\", element=\"e008cec9-0066-41d4-95a0-c3e639b8a6b2\")>,\n",
       " <selenium.webdriver.remote.webelement.WebElement (session=\"3ee4701aa65efd1d7f33c02718d2ddb1\", element=\"8709ac6f-6d13-4275-88fc-96468836ad90\")>,\n",
       " <selenium.webdriver.remote.webelement.WebElement (session=\"3ee4701aa65efd1d7f33c02718d2ddb1\", element=\"44a8e471-816b-4835-844f-472ac88bb4ee\")>,\n",
       " <selenium.webdriver.remote.webelement.WebElement (session=\"3ee4701aa65efd1d7f33c02718d2ddb1\", element=\"bd6e921c-308a-4994-8c2d-4854f8aabfd8\")>,\n",
       " <selenium.webdriver.remote.webelement.WebElement (session=\"3ee4701aa65efd1d7f33c02718d2ddb1\", element=\"3677ffe9-0940-4d9d-ad4f-c0ef1d9ba3dc\")>,\n",
       " <selenium.webdriver.remote.webelement.WebElement (session=\"3ee4701aa65efd1d7f33c02718d2ddb1\", element=\"7fc44d6d-22a2-48cc-9a81-568ac12a81da\")>,\n",
       " <selenium.webdriver.remote.webelement.WebElement (session=\"3ee4701aa65efd1d7f33c02718d2ddb1\", element=\"3dbf0995-3f14-43db-a541-40f24a57dc69\")>,\n",
       " <selenium.webdriver.remote.webelement.WebElement (session=\"3ee4701aa65efd1d7f33c02718d2ddb1\", element=\"c198fb33-f7a5-4013-a713-977f84c5f8d8\")>,\n",
       " <selenium.webdriver.remote.webelement.WebElement (session=\"3ee4701aa65efd1d7f33c02718d2ddb1\", element=\"45f19dc0-f371-4d75-95c0-2ede8bc36d79\")>,\n",
       " <selenium.webdriver.remote.webelement.WebElement (session=\"3ee4701aa65efd1d7f33c02718d2ddb1\", element=\"0136c432-aaf3-4610-9578-57f8e2c1a6b9\")>,\n",
       " <selenium.webdriver.remote.webelement.WebElement (session=\"3ee4701aa65efd1d7f33c02718d2ddb1\", element=\"9408405c-7dcb-4d3b-bf97-e4317fc31218\")>,\n",
       " <selenium.webdriver.remote.webelement.WebElement (session=\"3ee4701aa65efd1d7f33c02718d2ddb1\", element=\"03a7d735-7a9a-4995-9ef5-75a780a6804e\")>,\n",
       " <selenium.webdriver.remote.webelement.WebElement (session=\"3ee4701aa65efd1d7f33c02718d2ddb1\", element=\"a0df5b0f-cf39-4534-a4f1-74dd24984fb2\")>,\n",
       " <selenium.webdriver.remote.webelement.WebElement (session=\"3ee4701aa65efd1d7f33c02718d2ddb1\", element=\"3b56bda4-5dd5-4655-b7c7-9ddf95b4b1e9\")>,\n",
       " <selenium.webdriver.remote.webelement.WebElement (session=\"3ee4701aa65efd1d7f33c02718d2ddb1\", element=\"888cf2d6-11ef-4eb0-865f-031268bae68a\")>,\n",
       " <selenium.webdriver.remote.webelement.WebElement (session=\"3ee4701aa65efd1d7f33c02718d2ddb1\", element=\"58c31d29-2d93-43fc-af8b-0226792e9567\")>,\n",
       " <selenium.webdriver.remote.webelement.WebElement (session=\"3ee4701aa65efd1d7f33c02718d2ddb1\", element=\"d0e8a47f-62a8-4dd9-a4d2-e7f92c309df6\")>,\n",
       " <selenium.webdriver.remote.webelement.WebElement (session=\"3ee4701aa65efd1d7f33c02718d2ddb1\", element=\"98d08e08-6c14-444c-9af1-62b072f2acf7\")>,\n",
       " <selenium.webdriver.remote.webelement.WebElement (session=\"3ee4701aa65efd1d7f33c02718d2ddb1\", element=\"4a43d258-6b08-4e9f-b2f4-6496043fec37\")>,\n",
       " <selenium.webdriver.remote.webelement.WebElement (session=\"3ee4701aa65efd1d7f33c02718d2ddb1\", element=\"12f5e7ca-14b0-4b38-91a6-2bd53e71c8df\")>,\n",
       " <selenium.webdriver.remote.webelement.WebElement (session=\"3ee4701aa65efd1d7f33c02718d2ddb1\", element=\"ad40a9c4-9a37-46f0-9d50-68efc42d9781\")>,\n",
       " <selenium.webdriver.remote.webelement.WebElement (session=\"3ee4701aa65efd1d7f33c02718d2ddb1\", element=\"d1117f01-555e-4fdf-84a1-f2580e83edc6\")>,\n",
       " <selenium.webdriver.remote.webelement.WebElement (session=\"3ee4701aa65efd1d7f33c02718d2ddb1\", element=\"3c825c4f-f1f9-40c5-9754-c55a61999063\")>,\n",
       " <selenium.webdriver.remote.webelement.WebElement (session=\"3ee4701aa65efd1d7f33c02718d2ddb1\", element=\"9ea73f93-2d42-4c28-9c5b-61e012d9761d\")>,\n",
       " <selenium.webdriver.remote.webelement.WebElement (session=\"3ee4701aa65efd1d7f33c02718d2ddb1\", element=\"56f0e9b4-75f4-445a-8520-b2d605f2c397\")>,\n",
       " <selenium.webdriver.remote.webelement.WebElement (session=\"3ee4701aa65efd1d7f33c02718d2ddb1\", element=\"ac1e212d-786b-4e16-821e-c7d60e2e4b54\")>,\n",
       " <selenium.webdriver.remote.webelement.WebElement (session=\"3ee4701aa65efd1d7f33c02718d2ddb1\", element=\"d1944e32-5e29-4783-95cd-61a1a0982268\")>,\n",
       " <selenium.webdriver.remote.webelement.WebElement (session=\"3ee4701aa65efd1d7f33c02718d2ddb1\", element=\"b5887ca1-cc7b-448b-9a64-ac7d9812f8a1\")>,\n",
       " <selenium.webdriver.remote.webelement.WebElement (session=\"3ee4701aa65efd1d7f33c02718d2ddb1\", element=\"ceb5a2ac-f1a9-4b0e-9926-697f0b2c952d\")>,\n",
       " <selenium.webdriver.remote.webelement.WebElement (session=\"3ee4701aa65efd1d7f33c02718d2ddb1\", element=\"1656b430-1ea2-445c-9254-f672ca2166c9\")>,\n",
       " <selenium.webdriver.remote.webelement.WebElement (session=\"3ee4701aa65efd1d7f33c02718d2ddb1\", element=\"3a6dee8f-92fb-408a-b69f-db074b9f120a\")>,\n",
       " <selenium.webdriver.remote.webelement.WebElement (session=\"3ee4701aa65efd1d7f33c02718d2ddb1\", element=\"4dc66175-d04e-4bb7-950a-7f4412fcafb7\")>,\n",
       " <selenium.webdriver.remote.webelement.WebElement (session=\"3ee4701aa65efd1d7f33c02718d2ddb1\", element=\"3d484315-b0e2-4f27-b948-cf4fa41c247c\")>,\n",
       " <selenium.webdriver.remote.webelement.WebElement (session=\"3ee4701aa65efd1d7f33c02718d2ddb1\", element=\"51a881eb-9585-4b4c-b7d5-d7a2692c6812\")>,\n",
       " <selenium.webdriver.remote.webelement.WebElement (session=\"3ee4701aa65efd1d7f33c02718d2ddb1\", element=\"4153160a-98b3-45c0-bbeb-f6ae23a15ca1\")>,\n",
       " <selenium.webdriver.remote.webelement.WebElement (session=\"3ee4701aa65efd1d7f33c02718d2ddb1\", element=\"c095b953-4716-4100-ad0c-c6631dbb140b\")>,\n",
       " <selenium.webdriver.remote.webelement.WebElement (session=\"3ee4701aa65efd1d7f33c02718d2ddb1\", element=\"5f881be8-1149-4a19-8e4c-012f32ec0bf1\")>,\n",
       " <selenium.webdriver.remote.webelement.WebElement (session=\"3ee4701aa65efd1d7f33c02718d2ddb1\", element=\"3fd62bdb-5795-44c7-948e-d228568f0d1e\")>,\n",
       " <selenium.webdriver.remote.webelement.WebElement (session=\"3ee4701aa65efd1d7f33c02718d2ddb1\", element=\"d4bfdb03-d40b-44ae-af71-7067e9b9682e\")>,\n",
       " <selenium.webdriver.remote.webelement.WebElement (session=\"3ee4701aa65efd1d7f33c02718d2ddb1\", element=\"4e1a38ca-94b9-4494-aceb-f6017540948f\")>,\n",
       " <selenium.webdriver.remote.webelement.WebElement (session=\"3ee4701aa65efd1d7f33c02718d2ddb1\", element=\"61057e83-285d-4348-850b-8b15c6b15fbb\")>,\n",
       " <selenium.webdriver.remote.webelement.WebElement (session=\"3ee4701aa65efd1d7f33c02718d2ddb1\", element=\"e79957c6-8ec5-42ae-8f50-260911ed0d21\")>,\n",
       " <selenium.webdriver.remote.webelement.WebElement (session=\"3ee4701aa65efd1d7f33c02718d2ddb1\", element=\"dacb0aa9-50ec-486f-9e78-dd59f9439cca\")>,\n",
       " <selenium.webdriver.remote.webelement.WebElement (session=\"3ee4701aa65efd1d7f33c02718d2ddb1\", element=\"bdea2bd7-423f-4603-9804-dbd276e0da8a\")>,\n",
       " <selenium.webdriver.remote.webelement.WebElement (session=\"3ee4701aa65efd1d7f33c02718d2ddb1\", element=\"41f4bbb2-84df-4cf9-a05b-87c27d69a977\")>,\n",
       " <selenium.webdriver.remote.webelement.WebElement (session=\"3ee4701aa65efd1d7f33c02718d2ddb1\", element=\"22840736-89b1-4616-bb64-804d26b80153\")>,\n",
       " <selenium.webdriver.remote.webelement.WebElement (session=\"3ee4701aa65efd1d7f33c02718d2ddb1\", element=\"183ec37d-38da-41d9-8b71-c2b465bcba89\")>,\n",
       " <selenium.webdriver.remote.webelement.WebElement (session=\"3ee4701aa65efd1d7f33c02718d2ddb1\", element=\"d33543bd-8393-4473-9137-0b13d94e4fea\")>,\n",
       " <selenium.webdriver.remote.webelement.WebElement (session=\"3ee4701aa65efd1d7f33c02718d2ddb1\", element=\"5afc887c-8265-4727-9bdb-d775c5e02030\")>,\n",
       " <selenium.webdriver.remote.webelement.WebElement (session=\"3ee4701aa65efd1d7f33c02718d2ddb1\", element=\"148e486b-c556-443d-8bbe-ebd853f3e88f\")>,\n",
       " <selenium.webdriver.remote.webelement.WebElement (session=\"3ee4701aa65efd1d7f33c02718d2ddb1\", element=\"dc3f77b1-d5ee-4f9b-b7af-f0f61f955edd\")>,\n",
       " <selenium.webdriver.remote.webelement.WebElement (session=\"3ee4701aa65efd1d7f33c02718d2ddb1\", element=\"12644907-ef60-44f8-988d-7c46e826200a\")>,\n",
       " <selenium.webdriver.remote.webelement.WebElement (session=\"3ee4701aa65efd1d7f33c02718d2ddb1\", element=\"a864e908-d39c-457c-bd63-90ae12cf1061\")>,\n",
       " <selenium.webdriver.remote.webelement.WebElement (session=\"3ee4701aa65efd1d7f33c02718d2ddb1\", element=\"03ac6220-a6e7-4736-a9e5-d30778c8394a\")>,\n",
       " <selenium.webdriver.remote.webelement.WebElement (session=\"3ee4701aa65efd1d7f33c02718d2ddb1\", element=\"1c2651b7-ac0f-48e7-b6f8-9a330aa9fb57\")>,\n",
       " <selenium.webdriver.remote.webelement.WebElement (session=\"3ee4701aa65efd1d7f33c02718d2ddb1\", element=\"3eb3ab1a-67aa-43db-8f19-6adf00721618\")>,\n",
       " <selenium.webdriver.remote.webelement.WebElement (session=\"3ee4701aa65efd1d7f33c02718d2ddb1\", element=\"eacc91ae-0ca8-4de1-ac07-feaab4de697e\")>,\n",
       " <selenium.webdriver.remote.webelement.WebElement (session=\"3ee4701aa65efd1d7f33c02718d2ddb1\", element=\"1cdb8493-a7b0-4638-a855-164e6c743885\")>,\n",
       " <selenium.webdriver.remote.webelement.WebElement (session=\"3ee4701aa65efd1d7f33c02718d2ddb1\", element=\"b6dace35-31fc-4906-a73b-28d0a1e21dbd\")>,\n",
       " <selenium.webdriver.remote.webelement.WebElement (session=\"3ee4701aa65efd1d7f33c02718d2ddb1\", element=\"f26b8ac9-3116-44f9-981a-ca0177596dda\")>,\n",
       " <selenium.webdriver.remote.webelement.WebElement (session=\"3ee4701aa65efd1d7f33c02718d2ddb1\", element=\"35859979-916d-4d4c-8373-294671f051df\")>,\n",
       " <selenium.webdriver.remote.webelement.WebElement (session=\"3ee4701aa65efd1d7f33c02718d2ddb1\", element=\"d20d6913-6b1d-4f27-9dc4-2f3ffdc7eef5\")>,\n",
       " <selenium.webdriver.remote.webelement.WebElement (session=\"3ee4701aa65efd1d7f33c02718d2ddb1\", element=\"fab7ec46-2fda-4d41-af76-1496ded10f0e\")>,\n",
       " <selenium.webdriver.remote.webelement.WebElement (session=\"3ee4701aa65efd1d7f33c02718d2ddb1\", element=\"b53a2c5b-8d84-45b4-809a-41bf0e4517a0\")>,\n",
       " <selenium.webdriver.remote.webelement.WebElement (session=\"3ee4701aa65efd1d7f33c02718d2ddb1\", element=\"aeb5cac0-4877-4717-bb0f-d40ff520e386\")>,\n",
       " <selenium.webdriver.remote.webelement.WebElement (session=\"3ee4701aa65efd1d7f33c02718d2ddb1\", element=\"cc607b93-092a-484e-a3bf-9aba118aaae3\")>,\n",
       " <selenium.webdriver.remote.webelement.WebElement (session=\"3ee4701aa65efd1d7f33c02718d2ddb1\", element=\"42bf9a62-9103-45e0-bc9e-d554ca68ddfc\")>,\n",
       " <selenium.webdriver.remote.webelement.WebElement (session=\"3ee4701aa65efd1d7f33c02718d2ddb1\", element=\"12edbfb6-12c7-405e-8a1f-5dc3bd76ee60\")>,\n",
       " <selenium.webdriver.remote.webelement.WebElement (session=\"3ee4701aa65efd1d7f33c02718d2ddb1\", element=\"e2c31afe-9c33-45bc-9b15-b338973e981f\")>,\n",
       " <selenium.webdriver.remote.webelement.WebElement (session=\"3ee4701aa65efd1d7f33c02718d2ddb1\", element=\"765cea1b-e006-4488-8c52-40e7427c40f4\")>]"
      ]
     },
     "execution_count": 8,
     "metadata": {},
     "output_type": "execute_result"
    }
   ],
   "source": [
    "\n",
    "header2=browser.find_elements(\"xpath\",\"//div[@class='td-wrap-in']\")\n",
    "header2"
   ]
  },
  {
   "cell_type": "code",
   "execution_count": 9,
   "id": "af5bdb01",
   "metadata": {},
   "outputs": [
    {
     "data": {
      "text/plain": [
       "['81.2', '88.8', '83.2', '60.5', '74.5', '100', '98.6', '99.3', '56.9']"
      ]
     },
     "execution_count": 9,
     "metadata": {},
     "output_type": "execute_result"
    }
   ],
   "source": [
    "#PARSING DATA\n",
    "value_head=[]\n",
    "for data in header2:\n",
    "    #get the text data\n",
    "    temp=data.text\n",
    "    value_head.append(temp)\n",
    "value_head=value_head[61:70]\n",
    "value_head\n"
   ]
  },
  {
   "cell_type": "code",
   "execution_count": 10,
   "id": "51a7e766",
   "metadata": {},
   "outputs": [
    {
     "data": {
      "text/plain": [
       "{'Overall Score': '81.2',\n",
       " 'Academic Reputation': '88.8',\n",
       " 'Employer Reputation': '83.2',\n",
       " 'Citations per Faculty': '60.5',\n",
       " 'Faculty Student Ratio': '74.5',\n",
       " 'International Students Ratio': '100',\n",
       " 'International Faculty Ratio': '98.6',\n",
       " 'International Research Network\\nUnweighted': '99.3',\n",
       " 'Employment Outcomes\\nUnweighted': '56.9'}"
      ]
     },
     "execution_count": 10,
     "metadata": {},
     "output_type": "execute_result"
    }
   ],
   "source": [
    "d={}\n",
    "for i in range(len(column_head)):\n",
    "    d[column_head[i]]=value_head[i]\n",
    "d\n"
   ]
  },
  {
   "cell_type": "code",
   "execution_count": 11,
   "id": "755ee6bb",
   "metadata": {},
   "outputs": [
    {
     "data": {
      "text/plain": [
       "'{\"Overall Score\": \"81.2\", \"Academic Reputation\": \"88.8\", \"Employer Reputation\": \"83.2\", \"Citations per Faculty\": \"60.5\", \"Faculty Student Ratio\": \"74.5\", \"International Students Ratio\": \"100\", \"International Faculty Ratio\": \"98.6\", \"International Research Network\\\\nUnweighted\": \"99.3\", \"Employment Outcomes\\\\nUnweighted\": \"56.9\"}'"
      ]
     },
     "execution_count": 11,
     "metadata": {},
     "output_type": "execute_result"
    }
   ],
   "source": [
    "s1=json.dumps(d)\n",
    "s1"
   ]
  },
  {
   "cell_type": "code",
   "execution_count": 13,
   "id": "6a663399",
   "metadata": {},
   "outputs": [],
   "source": [
    "\n",
    "with open('Kings College London.json','w') as f:\n",
    "    json.dump(d,f)"
   ]
  },
  {
   "cell_type": "code",
   "execution_count": null,
   "id": "fe9b36d6",
   "metadata": {},
   "outputs": [],
   "source": []
  },
  {
   "cell_type": "code",
   "execution_count": null,
   "id": "a89d326b",
   "metadata": {},
   "outputs": [],
   "source": []
  }
 ],
 "metadata": {
  "kernelspec": {
   "display_name": "Python 3 (ipykernel)",
   "language": "python",
   "name": "python3"
  },
  "language_info": {
   "codemirror_mode": {
    "name": "ipython",
    "version": 3
   },
   "file_extension": ".py",
   "mimetype": "text/x-python",
   "name": "python",
   "nbconvert_exporter": "python",
   "pygments_lexer": "ipython3",
   "version": "3.9.12"
  }
 },
 "nbformat": 4,
 "nbformat_minor": 5
}
