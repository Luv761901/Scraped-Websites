{
 "cells": [
  {
   "cell_type": "code",
   "execution_count": 1,
   "id": "972cf993",
   "metadata": {},
   "outputs": [],
   "source": [
    "from selenium import webdriver\n",
    "from selenium.webdriver.chrome.service import Service\n",
    "import pandas as pd\n",
    "import json"
   ]
  },
  {
   "cell_type": "code",
   "execution_count": 2,
   "id": "9e0a781c",
   "metadata": {},
   "outputs": [],
   "source": [
    "path = Service('C:\\chromedriver.exe')"
   ]
  },
  {
   "cell_type": "code",
   "execution_count": 3,
   "id": "4baa6d6e",
   "metadata": {},
   "outputs": [],
   "source": [
    "# set path for the driver\n",
    "browser = webdriver.Chrome(service = path)"
   ]
  },
  {
   "cell_type": "code",
   "execution_count": 4,
   "id": "69bdda93",
   "metadata": {},
   "outputs": [],
   "source": [
    "url = \"https://www.topuniversities.com/university-rankings/world-university-rankings/2023\""
   ]
  },
  {
   "cell_type": "code",
   "execution_count": 5,
   "id": "f12b6991",
   "metadata": {},
   "outputs": [],
   "source": [
    "# open the page url ion chrome\n",
    "browser.get(url)\n"
   ]
  },
  {
   "cell_type": "code",
   "execution_count": 6,
   "id": "19d2334e",
   "metadata": {},
   "outputs": [
    {
     "data": {
      "text/plain": [
       "[<selenium.webdriver.remote.webelement.WebElement (session=\"e09f2cfd818c8f482d28e2a3007440e7\", element=\"e045da8b-25c7-4607-acb3-078c22760016\")>,\n",
       " <selenium.webdriver.remote.webelement.WebElement (session=\"e09f2cfd818c8f482d28e2a3007440e7\", element=\"a119ad68-ff98-470d-bde9-2871e348f7d1\")>,\n",
       " <selenium.webdriver.remote.webelement.WebElement (session=\"e09f2cfd818c8f482d28e2a3007440e7\", element=\"b35a7878-fecc-4237-a115-e0b3adbc97f5\")>,\n",
       " <selenium.webdriver.remote.webelement.WebElement (session=\"e09f2cfd818c8f482d28e2a3007440e7\", element=\"70029be0-89f9-44f0-9d6f-bb6a86aaeee2\")>,\n",
       " <selenium.webdriver.remote.webelement.WebElement (session=\"e09f2cfd818c8f482d28e2a3007440e7\", element=\"c3a696fe-de69-4ebd-abb9-dadfbd3d2f4d\")>,\n",
       " <selenium.webdriver.remote.webelement.WebElement (session=\"e09f2cfd818c8f482d28e2a3007440e7\", element=\"14cfbea3-f5b4-4480-8e67-45a9c32d3ac5\")>,\n",
       " <selenium.webdriver.remote.webelement.WebElement (session=\"e09f2cfd818c8f482d28e2a3007440e7\", element=\"c523435d-795b-4070-9433-efc72ecbbb49\")>,\n",
       " <selenium.webdriver.remote.webelement.WebElement (session=\"e09f2cfd818c8f482d28e2a3007440e7\", element=\"2e178b1c-a55a-4156-af21-1716d0c6399e\")>,\n",
       " <selenium.webdriver.remote.webelement.WebElement (session=\"e09f2cfd818c8f482d28e2a3007440e7\", element=\"ac76cc01-cfdb-412a-b3d8-6fc48d2842aa\")>,\n",
       " <selenium.webdriver.remote.webelement.WebElement (session=\"e09f2cfd818c8f482d28e2a3007440e7\", element=\"92150b42-9122-4bd3-9139-cba4c4fdb580\")>,\n",
       " <selenium.webdriver.remote.webelement.WebElement (session=\"e09f2cfd818c8f482d28e2a3007440e7\", element=\"3b4d9be6-f99a-4eff-933c-4cb2f175cbdf\")>,\n",
       " <selenium.webdriver.remote.webelement.WebElement (session=\"e09f2cfd818c8f482d28e2a3007440e7\", element=\"fe0aab8d-c089-4f43-90eb-c340300041d4\")>,\n",
       " <selenium.webdriver.remote.webelement.WebElement (session=\"e09f2cfd818c8f482d28e2a3007440e7\", element=\"088e7b66-2355-49f0-9a0c-1159549ceaba\")>,\n",
       " <selenium.webdriver.remote.webelement.WebElement (session=\"e09f2cfd818c8f482d28e2a3007440e7\", element=\"8bec375d-94d7-4cef-ae5b-394c79414e95\")>,\n",
       " <selenium.webdriver.remote.webelement.WebElement (session=\"e09f2cfd818c8f482d28e2a3007440e7\", element=\"a4c2b771-ed8c-40df-a98f-3eeb17bfe28b\")>,\n",
       " <selenium.webdriver.remote.webelement.WebElement (session=\"e09f2cfd818c8f482d28e2a3007440e7\", element=\"159bc23c-b479-4cd1-9b13-a1b2f95a7e0d\")>,\n",
       " <selenium.webdriver.remote.webelement.WebElement (session=\"e09f2cfd818c8f482d28e2a3007440e7\", element=\"fb53bd47-0401-4cea-9411-5b3f13ae9837\")>,\n",
       " <selenium.webdriver.remote.webelement.WebElement (session=\"e09f2cfd818c8f482d28e2a3007440e7\", element=\"123fc472-9e72-4fc7-858a-a3394c4d3579\")>,\n",
       " <selenium.webdriver.remote.webelement.WebElement (session=\"e09f2cfd818c8f482d28e2a3007440e7\", element=\"4025f521-1863-40d4-bc56-5863e4df7946\")>,\n",
       " <selenium.webdriver.remote.webelement.WebElement (session=\"e09f2cfd818c8f482d28e2a3007440e7\", element=\"9dbd7193-0918-4d47-9d74-68fb64b9eeab\")>]"
      ]
     },
     "execution_count": 6,
     "metadata": {},
     "output_type": "execute_result"
    }
   ],
   "source": [
    "\n",
    "l1=browser.find_elements(\"xpath\",\"//div[@class='location ']\")\n",
    "l1\n"
   ]
  },
  {
   "cell_type": "code",
   "execution_count": 7,
   "id": "a45ef440",
   "metadata": {},
   "outputs": [
    {
     "data": {
      "text/plain": [
       "['Montreal, Canada',\n",
       " 'Evanston, United States',\n",
       " 'Parkville, Australia',\n",
       " 'Shanghai, China (Mainland)',\n",
       " 'Toronto, Canada',\n",
       " 'Kyoto, Japan',\n",
       " 'London, United Kingdom',\n",
       " 'Hong Kong SAR, Hong Kong SAR',\n",
       " 'New York City, United States',\n",
       " 'Hong Kong SAR, Hong Kong SAR']"
      ]
     },
     "execution_count": 7,
     "metadata": {},
     "output_type": "execute_result"
    }
   ],
   "source": [
    "loc=[]\n",
    "for data in l1:\n",
    "    #get the text data\n",
    "    temp=data.text\n",
    "    loc.append(temp)\n",
    "loc=loc[10:]\n",
    "loc\n",
    "\n"
   ]
  },
  {
   "cell_type": "code",
   "execution_count": 8,
   "id": "886f708b",
   "metadata": {},
   "outputs": [
    {
     "data": {
      "text/plain": [
       "[<selenium.webdriver.remote.webelement.WebElement (session=\"e09f2cfd818c8f482d28e2a3007440e7\", element=\"c7adbdcc-1d86-47a8-a3cb-30ea5c30e189\")>,\n",
       " <selenium.webdriver.remote.webelement.WebElement (session=\"e09f2cfd818c8f482d28e2a3007440e7\", element=\"f7b4704d-bcf3-4e7d-b3b3-0a7466fcb786\")>,\n",
       " <selenium.webdriver.remote.webelement.WebElement (session=\"e09f2cfd818c8f482d28e2a3007440e7\", element=\"fcf450b8-2369-445a-827e-eb81c4cc08e6\")>,\n",
       " <selenium.webdriver.remote.webelement.WebElement (session=\"e09f2cfd818c8f482d28e2a3007440e7\", element=\"5872b62e-e795-4d72-a49c-060657ca629e\")>,\n",
       " <selenium.webdriver.remote.webelement.WebElement (session=\"e09f2cfd818c8f482d28e2a3007440e7\", element=\"90e65a66-6f45-4bc1-8819-ddbf22d2af0c\")>,\n",
       " <selenium.webdriver.remote.webelement.WebElement (session=\"e09f2cfd818c8f482d28e2a3007440e7\", element=\"00d2349b-34ec-49e0-b89a-c042954208ca\")>,\n",
       " <selenium.webdriver.remote.webelement.WebElement (session=\"e09f2cfd818c8f482d28e2a3007440e7\", element=\"87d3b183-7697-451f-893d-b44cef69c343\")>,\n",
       " <selenium.webdriver.remote.webelement.WebElement (session=\"e09f2cfd818c8f482d28e2a3007440e7\", element=\"691cf179-16cb-4b32-84bb-71fd897494c9\")>,\n",
       " <selenium.webdriver.remote.webelement.WebElement (session=\"e09f2cfd818c8f482d28e2a3007440e7\", element=\"bd2231f7-5945-494c-8a8f-2de9305ea099\")>,\n",
       " <selenium.webdriver.remote.webelement.WebElement (session=\"e09f2cfd818c8f482d28e2a3007440e7\", element=\"130d3e0a-345e-40d8-8466-3e951477fa49\")>]"
      ]
     },
     "execution_count": 8,
     "metadata": {},
     "output_type": "execute_result"
    }
   ],
   "source": [
    "l2=browser.find_elements(\"xpath\",\"//div[@class='_univ-rank ']\")\n",
    "l2"
   ]
  },
  {
   "cell_type": "code",
   "execution_count": 9,
   "id": "f38752c7",
   "metadata": {},
   "outputs": [
    {
     "data": {
      "text/plain": [
       "['31', '32', '33', '=34', '=34', '36', '37', '38', '39', '40']"
      ]
     },
     "execution_count": 9,
     "metadata": {},
     "output_type": "execute_result"
    }
   ],
   "source": [
    "RANK=[]\n",
    "for data in l2:\n",
    "    #get the text data\n",
    "    temp=data.text\n",
    "    RANK.append(temp)\n",
    "RANK\n"
   ]
  },
  {
   "cell_type": "code",
   "execution_count": 10,
   "id": "7f0d8cd8",
   "metadata": {},
   "outputs": [
    {
     "data": {
      "text/plain": [
       "[<selenium.webdriver.remote.webelement.WebElement (session=\"e09f2cfd818c8f482d28e2a3007440e7\", element=\"dd55ce74-89d8-40c5-bd85-d48e50897853\")>,\n",
       " <selenium.webdriver.remote.webelement.WebElement (session=\"e09f2cfd818c8f482d28e2a3007440e7\", element=\"498a2023-3b08-48ad-8e3f-b4f6e77875dc\")>,\n",
       " <selenium.webdriver.remote.webelement.WebElement (session=\"e09f2cfd818c8f482d28e2a3007440e7\", element=\"2f519cbc-d309-4fd1-b3b7-b69b16e4f022\")>,\n",
       " <selenium.webdriver.remote.webelement.WebElement (session=\"e09f2cfd818c8f482d28e2a3007440e7\", element=\"765c9625-44b1-45fe-bf01-dc7fec9ddb64\")>,\n",
       " <selenium.webdriver.remote.webelement.WebElement (session=\"e09f2cfd818c8f482d28e2a3007440e7\", element=\"139c284a-2770-4a94-b1f3-bb1293ae4a3a\")>,\n",
       " <selenium.webdriver.remote.webelement.WebElement (session=\"e09f2cfd818c8f482d28e2a3007440e7\", element=\"7461646b-cc2e-41d2-865b-e2d332ded36f\")>,\n",
       " <selenium.webdriver.remote.webelement.WebElement (session=\"e09f2cfd818c8f482d28e2a3007440e7\", element=\"408ef82b-1bab-485e-8cdc-86b8ed86c0ff\")>,\n",
       " <selenium.webdriver.remote.webelement.WebElement (session=\"e09f2cfd818c8f482d28e2a3007440e7\", element=\"266fcebc-0a31-4e47-97fe-b472b565d90b\")>,\n",
       " <selenium.webdriver.remote.webelement.WebElement (session=\"e09f2cfd818c8f482d28e2a3007440e7\", element=\"0ee28c5f-b0e3-458b-b580-13bb33ce490e\")>]"
      ]
     },
     "execution_count": 10,
     "metadata": {},
     "output_type": "execute_result"
    }
   ],
   "source": [
    "# GET EACH COLLEGE SPECIFICATION HEADERS\n",
    "header=browser.find_elements(\"xpath\",\"//div[@class='_click-function_ind']\")\n",
    "header"
   ]
  },
  {
   "cell_type": "code",
   "execution_count": 11,
   "id": "bbbb1f50",
   "metadata": {},
   "outputs": [
    {
     "data": {
      "text/plain": [
       "['Overall Score',\n",
       " 'Academic Reputation',\n",
       " 'Employer Reputation',\n",
       " 'Citations per Faculty',\n",
       " 'Faculty Student Ratio',\n",
       " 'International Students Ratio',\n",
       " 'International Faculty Ratio',\n",
       " 'International Research Network\\nUnweighted',\n",
       " 'Employment Outcomes\\nUnweighted']"
      ]
     },
     "execution_count": 11,
     "metadata": {},
     "output_type": "execute_result"
    }
   ],
   "source": [
    "#PARSING DATA\n",
    "column_head=[]\n",
    "for data in header:\n",
    "    #get the text data\n",
    "    temp=data.text\n",
    "    column_head.append(temp)\n",
    "column_head"
   ]
  },
  {
   "cell_type": "code",
   "execution_count": 12,
   "id": "798c43e8",
   "metadata": {},
   "outputs": [
    {
     "data": {
      "text/plain": [
       "[<selenium.webdriver.remote.webelement.WebElement (session=\"e09f2cfd818c8f482d28e2a3007440e7\", element=\"08c97571-57a8-426f-add7-1ec67ef78921\")>,\n",
       " <selenium.webdriver.remote.webelement.WebElement (session=\"e09f2cfd818c8f482d28e2a3007440e7\", element=\"96c9dd61-3425-4f36-9cbf-257dfe7ed5fc\")>,\n",
       " <selenium.webdriver.remote.webelement.WebElement (session=\"e09f2cfd818c8f482d28e2a3007440e7\", element=\"4f4c675c-0fc4-4d5e-a164-a1fea0fcff1c\")>,\n",
       " <selenium.webdriver.remote.webelement.WebElement (session=\"e09f2cfd818c8f482d28e2a3007440e7\", element=\"0576a993-88e0-43dc-8676-479f6f70a8f2\")>,\n",
       " <selenium.webdriver.remote.webelement.WebElement (session=\"e09f2cfd818c8f482d28e2a3007440e7\", element=\"c23f4368-4bc6-4846-a78b-eff05d677ed9\")>,\n",
       " <selenium.webdriver.remote.webelement.WebElement (session=\"e09f2cfd818c8f482d28e2a3007440e7\", element=\"b10bc0cd-211d-4e80-ba8e-acfeaf3d1645\")>,\n",
       " <selenium.webdriver.remote.webelement.WebElement (session=\"e09f2cfd818c8f482d28e2a3007440e7\", element=\"91399cc1-c2a8-4944-92f3-282a073031dc\")>,\n",
       " <selenium.webdriver.remote.webelement.WebElement (session=\"e09f2cfd818c8f482d28e2a3007440e7\", element=\"b03514f9-3c57-44a5-9f15-eac85f9041e1\")>,\n",
       " <selenium.webdriver.remote.webelement.WebElement (session=\"e09f2cfd818c8f482d28e2a3007440e7\", element=\"77ec5be1-ef6d-44ae-b18a-c36e7ba58396\")>,\n",
       " <selenium.webdriver.remote.webelement.WebElement (session=\"e09f2cfd818c8f482d28e2a3007440e7\", element=\"fd010ec9-6685-4e17-800f-07c66aa48900\")>,\n",
       " <selenium.webdriver.remote.webelement.WebElement (session=\"e09f2cfd818c8f482d28e2a3007440e7\", element=\"8d8cc19a-5e8e-4638-9bc5-4500e9ae487a\")>,\n",
       " <selenium.webdriver.remote.webelement.WebElement (session=\"e09f2cfd818c8f482d28e2a3007440e7\", element=\"7a51d183-cd9e-4053-8ede-b6d111ed8e10\")>,\n",
       " <selenium.webdriver.remote.webelement.WebElement (session=\"e09f2cfd818c8f482d28e2a3007440e7\", element=\"2bd909fd-fda8-4fcd-a997-6fece218c745\")>,\n",
       " <selenium.webdriver.remote.webelement.WebElement (session=\"e09f2cfd818c8f482d28e2a3007440e7\", element=\"895952b9-91c6-467e-83c4-70edb0ae5062\")>,\n",
       " <selenium.webdriver.remote.webelement.WebElement (session=\"e09f2cfd818c8f482d28e2a3007440e7\", element=\"f7dc72c3-1e2c-4d26-9ff8-bdd7a30c185a\")>,\n",
       " <selenium.webdriver.remote.webelement.WebElement (session=\"e09f2cfd818c8f482d28e2a3007440e7\", element=\"09020c54-4a92-4825-a62e-2bf125c7e7a2\")>,\n",
       " <selenium.webdriver.remote.webelement.WebElement (session=\"e09f2cfd818c8f482d28e2a3007440e7\", element=\"7b938d16-d595-4ff5-bf61-a5d1b4c2950b\")>,\n",
       " <selenium.webdriver.remote.webelement.WebElement (session=\"e09f2cfd818c8f482d28e2a3007440e7\", element=\"ac1fa4c2-900d-46bd-9613-ca8b4eb13ecb\")>,\n",
       " <selenium.webdriver.remote.webelement.WebElement (session=\"e09f2cfd818c8f482d28e2a3007440e7\", element=\"a47bc79b-9d24-4df8-a50c-4a059f38852d\")>,\n",
       " <selenium.webdriver.remote.webelement.WebElement (session=\"e09f2cfd818c8f482d28e2a3007440e7\", element=\"52dc72ce-dcd3-4005-ace5-67980da787a6\")>,\n",
       " <selenium.webdriver.remote.webelement.WebElement (session=\"e09f2cfd818c8f482d28e2a3007440e7\", element=\"4ceb8904-df04-4b6a-8feb-4ce77f3fc9f7\")>,\n",
       " <selenium.webdriver.remote.webelement.WebElement (session=\"e09f2cfd818c8f482d28e2a3007440e7\", element=\"b28cf6d3-9e74-4f4c-b9c2-c75f47719d89\")>,\n",
       " <selenium.webdriver.remote.webelement.WebElement (session=\"e09f2cfd818c8f482d28e2a3007440e7\", element=\"ab25ab76-57e0-45b8-ac98-1422870343ed\")>,\n",
       " <selenium.webdriver.remote.webelement.WebElement (session=\"e09f2cfd818c8f482d28e2a3007440e7\", element=\"23d174f0-e472-4f41-b0f6-70d36ad34dc9\")>,\n",
       " <selenium.webdriver.remote.webelement.WebElement (session=\"e09f2cfd818c8f482d28e2a3007440e7\", element=\"7cea3b85-cc57-42dc-90e5-32062b1eba0d\")>,\n",
       " <selenium.webdriver.remote.webelement.WebElement (session=\"e09f2cfd818c8f482d28e2a3007440e7\", element=\"61d8dca7-1c24-4f35-8217-962ee7b95ca6\")>,\n",
       " <selenium.webdriver.remote.webelement.WebElement (session=\"e09f2cfd818c8f482d28e2a3007440e7\", element=\"fad8886a-de4f-4739-bba6-16a6ba3829a5\")>,\n",
       " <selenium.webdriver.remote.webelement.WebElement (session=\"e09f2cfd818c8f482d28e2a3007440e7\", element=\"c0d1ad69-0622-4526-89bb-311bfa586e48\")>,\n",
       " <selenium.webdriver.remote.webelement.WebElement (session=\"e09f2cfd818c8f482d28e2a3007440e7\", element=\"54fa577e-d596-4271-8afc-68e6852c4b5a\")>,\n",
       " <selenium.webdriver.remote.webelement.WebElement (session=\"e09f2cfd818c8f482d28e2a3007440e7\", element=\"64ea5b62-6753-4103-b0e8-cae8261fa9d7\")>,\n",
       " <selenium.webdriver.remote.webelement.WebElement (session=\"e09f2cfd818c8f482d28e2a3007440e7\", element=\"1d764844-5f1c-43ff-9dae-df4b2e187bd5\")>,\n",
       " <selenium.webdriver.remote.webelement.WebElement (session=\"e09f2cfd818c8f482d28e2a3007440e7\", element=\"2a16c872-7cc8-4911-aff6-818cc2fec98c\")>,\n",
       " <selenium.webdriver.remote.webelement.WebElement (session=\"e09f2cfd818c8f482d28e2a3007440e7\", element=\"611c0982-325d-4a03-a1a2-9c860d345b9c\")>,\n",
       " <selenium.webdriver.remote.webelement.WebElement (session=\"e09f2cfd818c8f482d28e2a3007440e7\", element=\"91cf0622-b6ed-4c06-a1c7-6341b32ee588\")>,\n",
       " <selenium.webdriver.remote.webelement.WebElement (session=\"e09f2cfd818c8f482d28e2a3007440e7\", element=\"9b565b81-13d4-4b15-864e-2e1c49dd0c5d\")>,\n",
       " <selenium.webdriver.remote.webelement.WebElement (session=\"e09f2cfd818c8f482d28e2a3007440e7\", element=\"28ecfa69-ab0c-4624-b168-bb1961dba2ec\")>,\n",
       " <selenium.webdriver.remote.webelement.WebElement (session=\"e09f2cfd818c8f482d28e2a3007440e7\", element=\"15f90c7c-b107-4dea-98de-3205a45fafa8\")>,\n",
       " <selenium.webdriver.remote.webelement.WebElement (session=\"e09f2cfd818c8f482d28e2a3007440e7\", element=\"cc683c53-b143-4b74-970c-93d630d1ec33\")>,\n",
       " <selenium.webdriver.remote.webelement.WebElement (session=\"e09f2cfd818c8f482d28e2a3007440e7\", element=\"84d46f5f-2bf3-405a-8aa9-a34fdf6ed73f\")>,\n",
       " <selenium.webdriver.remote.webelement.WebElement (session=\"e09f2cfd818c8f482d28e2a3007440e7\", element=\"0b2c9ed9-6a79-4453-9758-3e0a85d989e5\")>,\n",
       " <selenium.webdriver.remote.webelement.WebElement (session=\"e09f2cfd818c8f482d28e2a3007440e7\", element=\"e0c18182-2316-4f19-9660-00f467a198af\")>,\n",
       " <selenium.webdriver.remote.webelement.WebElement (session=\"e09f2cfd818c8f482d28e2a3007440e7\", element=\"b8508567-2050-4932-962c-dcf1fba21ae9\")>,\n",
       " <selenium.webdriver.remote.webelement.WebElement (session=\"e09f2cfd818c8f482d28e2a3007440e7\", element=\"7999e54e-f925-47e5-b268-e8c7419cb9bc\")>,\n",
       " <selenium.webdriver.remote.webelement.WebElement (session=\"e09f2cfd818c8f482d28e2a3007440e7\", element=\"81e20e15-aa7c-466f-aab4-af3617023240\")>,\n",
       " <selenium.webdriver.remote.webelement.WebElement (session=\"e09f2cfd818c8f482d28e2a3007440e7\", element=\"c143d475-1055-403a-b589-1ddf4db78734\")>,\n",
       " <selenium.webdriver.remote.webelement.WebElement (session=\"e09f2cfd818c8f482d28e2a3007440e7\", element=\"13ec497a-b23f-465f-94a3-fea3319a0327\")>,\n",
       " <selenium.webdriver.remote.webelement.WebElement (session=\"e09f2cfd818c8f482d28e2a3007440e7\", element=\"8c133cfe-f77f-47e7-b343-09157da64e6b\")>,\n",
       " <selenium.webdriver.remote.webelement.WebElement (session=\"e09f2cfd818c8f482d28e2a3007440e7\", element=\"2b4a17d2-2bb6-4262-89b1-ebc62cc801cb\")>,\n",
       " <selenium.webdriver.remote.webelement.WebElement (session=\"e09f2cfd818c8f482d28e2a3007440e7\", element=\"309cd66b-2722-4c7f-8c73-79c43c85f840\")>,\n",
       " <selenium.webdriver.remote.webelement.WebElement (session=\"e09f2cfd818c8f482d28e2a3007440e7\", element=\"a794d1f2-2552-4b1a-b308-fc8c2c4bb598\")>,\n",
       " <selenium.webdriver.remote.webelement.WebElement (session=\"e09f2cfd818c8f482d28e2a3007440e7\", element=\"a1ee227b-78b8-43d5-8d60-6b5a057fcc72\")>,\n",
       " <selenium.webdriver.remote.webelement.WebElement (session=\"e09f2cfd818c8f482d28e2a3007440e7\", element=\"3ba0ab49-4b37-4ca5-8125-7927be26a161\")>,\n",
       " <selenium.webdriver.remote.webelement.WebElement (session=\"e09f2cfd818c8f482d28e2a3007440e7\", element=\"205e0deb-b25b-4bab-bcf0-b5fa4cdd7fd8\")>,\n",
       " <selenium.webdriver.remote.webelement.WebElement (session=\"e09f2cfd818c8f482d28e2a3007440e7\", element=\"44c0b89d-4684-47a8-8699-6bb33d2c6f63\")>,\n",
       " <selenium.webdriver.remote.webelement.WebElement (session=\"e09f2cfd818c8f482d28e2a3007440e7\", element=\"cb1f01cc-9463-473c-ad28-162f52f72d13\")>,\n",
       " <selenium.webdriver.remote.webelement.WebElement (session=\"e09f2cfd818c8f482d28e2a3007440e7\", element=\"50299180-c26e-4954-a489-49743d095632\")>,\n",
       " <selenium.webdriver.remote.webelement.WebElement (session=\"e09f2cfd818c8f482d28e2a3007440e7\", element=\"badd1f82-8ef4-434e-b0df-aa70c5358bd0\")>,\n",
       " <selenium.webdriver.remote.webelement.WebElement (session=\"e09f2cfd818c8f482d28e2a3007440e7\", element=\"00858000-f03b-4458-b08f-ea5eabe37f0a\")>,\n",
       " <selenium.webdriver.remote.webelement.WebElement (session=\"e09f2cfd818c8f482d28e2a3007440e7\", element=\"315eceb6-a0a7-4a95-9175-c441db8a527b\")>,\n",
       " <selenium.webdriver.remote.webelement.WebElement (session=\"e09f2cfd818c8f482d28e2a3007440e7\", element=\"aad42349-9155-440e-bc66-a85f1cc5158c\")>,\n",
       " <selenium.webdriver.remote.webelement.WebElement (session=\"e09f2cfd818c8f482d28e2a3007440e7\", element=\"16264d36-5daf-4b87-afcb-30e082dc7af4\")>,\n",
       " <selenium.webdriver.remote.webelement.WebElement (session=\"e09f2cfd818c8f482d28e2a3007440e7\", element=\"e61a76e2-ed2a-4a7c-af43-d75d86a6fed2\")>,\n",
       " <selenium.webdriver.remote.webelement.WebElement (session=\"e09f2cfd818c8f482d28e2a3007440e7\", element=\"2c1ce3a2-17d4-4cf1-b021-101554409609\")>,\n",
       " <selenium.webdriver.remote.webelement.WebElement (session=\"e09f2cfd818c8f482d28e2a3007440e7\", element=\"21c1cfa7-7a40-4912-947e-6e9aee0edaf2\")>,\n",
       " <selenium.webdriver.remote.webelement.WebElement (session=\"e09f2cfd818c8f482d28e2a3007440e7\", element=\"7fb0349f-64de-4754-9803-8d3eaee4f2d5\")>,\n",
       " <selenium.webdriver.remote.webelement.WebElement (session=\"e09f2cfd818c8f482d28e2a3007440e7\", element=\"fa7ce00c-5064-4afa-ae5d-18c820724b3a\")>,\n",
       " <selenium.webdriver.remote.webelement.WebElement (session=\"e09f2cfd818c8f482d28e2a3007440e7\", element=\"8d0a2aac-48ad-432e-8564-cdf165042cb5\")>,\n",
       " <selenium.webdriver.remote.webelement.WebElement (session=\"e09f2cfd818c8f482d28e2a3007440e7\", element=\"11581de6-874d-4935-8bdd-f9f2bb9ac3ab\")>,\n",
       " <selenium.webdriver.remote.webelement.WebElement (session=\"e09f2cfd818c8f482d28e2a3007440e7\", element=\"c2acf415-dbdf-4110-a901-90bf4a7e4f49\")>,\n",
       " <selenium.webdriver.remote.webelement.WebElement (session=\"e09f2cfd818c8f482d28e2a3007440e7\", element=\"38e9acef-aa07-4850-84d7-c7c356f6a1e2\")>,\n",
       " <selenium.webdriver.remote.webelement.WebElement (session=\"e09f2cfd818c8f482d28e2a3007440e7\", element=\"f300a05a-f7dc-4195-adec-22c4e334122e\")>,\n",
       " <selenium.webdriver.remote.webelement.WebElement (session=\"e09f2cfd818c8f482d28e2a3007440e7\", element=\"b93bb70b-4782-48a5-ae07-9fff093214e1\")>,\n",
       " <selenium.webdriver.remote.webelement.WebElement (session=\"e09f2cfd818c8f482d28e2a3007440e7\", element=\"076d7daa-6f54-40ca-aacf-a7463f25979b\")>,\n",
       " <selenium.webdriver.remote.webelement.WebElement (session=\"e09f2cfd818c8f482d28e2a3007440e7\", element=\"d206980b-d83d-46fd-9a4a-934ed9c29959\")>,\n",
       " <selenium.webdriver.remote.webelement.WebElement (session=\"e09f2cfd818c8f482d28e2a3007440e7\", element=\"23cec03c-c1b5-4c81-b2a6-ecee692b4096\")>,\n",
       " <selenium.webdriver.remote.webelement.WebElement (session=\"e09f2cfd818c8f482d28e2a3007440e7\", element=\"4bea6dbf-a7ff-42cd-a6b9-d91e8cad6143\")>,\n",
       " <selenium.webdriver.remote.webelement.WebElement (session=\"e09f2cfd818c8f482d28e2a3007440e7\", element=\"033fa7b6-4539-4236-b362-5f2cb328c07b\")>,\n",
       " <selenium.webdriver.remote.webelement.WebElement (session=\"e09f2cfd818c8f482d28e2a3007440e7\", element=\"3236cdaf-6ed3-4026-b4bc-823d1d79169d\")>,\n",
       " <selenium.webdriver.remote.webelement.WebElement (session=\"e09f2cfd818c8f482d28e2a3007440e7\", element=\"85fe6fef-0cd2-4e98-8636-ede4f76f2fd9\")>,\n",
       " <selenium.webdriver.remote.webelement.WebElement (session=\"e09f2cfd818c8f482d28e2a3007440e7\", element=\"78328574-b2d8-4f8b-9cfd-10f4fd287f30\")>,\n",
       " <selenium.webdriver.remote.webelement.WebElement (session=\"e09f2cfd818c8f482d28e2a3007440e7\", element=\"d812e3a7-ef2e-4e88-8321-f3a221abde80\")>,\n",
       " <selenium.webdriver.remote.webelement.WebElement (session=\"e09f2cfd818c8f482d28e2a3007440e7\", element=\"b65b90fb-43d4-4ffd-a6ae-e68cad65403e\")>,\n",
       " <selenium.webdriver.remote.webelement.WebElement (session=\"e09f2cfd818c8f482d28e2a3007440e7\", element=\"c4291da1-6eb5-4ca4-947b-572839b88f98\")>,\n",
       " <selenium.webdriver.remote.webelement.WebElement (session=\"e09f2cfd818c8f482d28e2a3007440e7\", element=\"5ed0c8a9-8c88-4128-afe2-9c78ecc733ac\")>,\n",
       " <selenium.webdriver.remote.webelement.WebElement (session=\"e09f2cfd818c8f482d28e2a3007440e7\", element=\"2cdb9ba0-83a7-4f17-bcb5-1c57eb6f7c22\")>,\n",
       " <selenium.webdriver.remote.webelement.WebElement (session=\"e09f2cfd818c8f482d28e2a3007440e7\", element=\"2455100e-fac8-4aae-98ca-d9f0666a11e5\")>,\n",
       " <selenium.webdriver.remote.webelement.WebElement (session=\"e09f2cfd818c8f482d28e2a3007440e7\", element=\"b4998dcf-ab91-408f-bd73-055d026f73fc\")>,\n",
       " <selenium.webdriver.remote.webelement.WebElement (session=\"e09f2cfd818c8f482d28e2a3007440e7\", element=\"a7d28847-3410-4bab-a5ec-ecf433a9b75b\")>,\n",
       " <selenium.webdriver.remote.webelement.WebElement (session=\"e09f2cfd818c8f482d28e2a3007440e7\", element=\"30c6ec71-1d18-400b-8847-6b6952c8c953\")>,\n",
       " <selenium.webdriver.remote.webelement.WebElement (session=\"e09f2cfd818c8f482d28e2a3007440e7\", element=\"1296f13a-b909-4373-8a46-e9ef95af0e80\")>,\n",
       " <selenium.webdriver.remote.webelement.WebElement (session=\"e09f2cfd818c8f482d28e2a3007440e7\", element=\"8974d457-f48d-4b58-871f-cbaddc609e50\")>,\n",
       " <selenium.webdriver.remote.webelement.WebElement (session=\"e09f2cfd818c8f482d28e2a3007440e7\", element=\"dcaa49c7-30a9-4447-9b69-dff9b7e9ad6b\")>,\n",
       " <selenium.webdriver.remote.webelement.WebElement (session=\"e09f2cfd818c8f482d28e2a3007440e7\", element=\"e3b2510a-c58d-4bbd-ab76-ca52d1de5912\")>,\n",
       " <selenium.webdriver.remote.webelement.WebElement (session=\"e09f2cfd818c8f482d28e2a3007440e7\", element=\"ae825ac4-2909-4161-bb62-95134b9f6be2\")>,\n",
       " <selenium.webdriver.remote.webelement.WebElement (session=\"e09f2cfd818c8f482d28e2a3007440e7\", element=\"1d571645-a478-4741-895d-84a4147a9197\")>,\n",
       " <selenium.webdriver.remote.webelement.WebElement (session=\"e09f2cfd818c8f482d28e2a3007440e7\", element=\"7aba56f7-b381-419b-b933-1ecb6478aae0\")>,\n",
       " <selenium.webdriver.remote.webelement.WebElement (session=\"e09f2cfd818c8f482d28e2a3007440e7\", element=\"4e5c1d3d-4b5c-4988-896c-fd5e937872d0\")>,\n",
       " <selenium.webdriver.remote.webelement.WebElement (session=\"e09f2cfd818c8f482d28e2a3007440e7\", element=\"c65fc7dd-06d3-4b45-89d7-e9c9cc913fbb\")>,\n",
       " <selenium.webdriver.remote.webelement.WebElement (session=\"e09f2cfd818c8f482d28e2a3007440e7\", element=\"041fdfff-2a47-4c92-b63e-f64f9f767b42\")>,\n",
       " <selenium.webdriver.remote.webelement.WebElement (session=\"e09f2cfd818c8f482d28e2a3007440e7\", element=\"7eef4ae2-580b-4d46-9dd5-7b8c6334996a\")>]"
      ]
     },
     "execution_count": 12,
     "metadata": {},
     "output_type": "execute_result"
    }
   ],
   "source": [
    "\n",
    "header2=browser.find_elements(\"xpath\",\"//div[@class='td-wrap-in']\")\n",
    "header2"
   ]
  },
  {
   "cell_type": "code",
   "execution_count": 13,
   "id": "af5bdb01",
   "metadata": {},
   "outputs": [
    {
     "data": {
      "text/plain": [
       "['81.2', '88.8', '83.2', '60.5', '74.5', '100', '98.6', '99.3', '56.9']"
      ]
     },
     "execution_count": 13,
     "metadata": {},
     "output_type": "execute_result"
    }
   ],
   "source": [
    "#PARSING DATA\n",
    "value_head=[]\n",
    "for data in header2:\n",
    "    #get the text data\n",
    "    temp=data.text\n",
    "    value_head.append(temp)\n",
    "value=value_head[61:70]\n",
    "value\n"
   ]
  },
  {
   "cell_type": "code",
   "execution_count": 14,
   "id": "51a7e766",
   "metadata": {},
   "outputs": [
    {
     "data": {
      "text/plain": [
       "{'Name': \"King's College London\",\n",
       " 'Location': 'London, United Kingdom',\n",
       " 'Rank': '37',\n",
       " 'Overall Score': '81.2',\n",
       " 'Academic Reputation': '88.8',\n",
       " 'Employer Reputation': '83.2',\n",
       " 'Citations per Faculty': '60.5',\n",
       " 'Faculty Student Ratio': '74.5',\n",
       " 'International Students Ratio': '100',\n",
       " 'International Faculty Ratio': '98.6',\n",
       " 'International Research Network\\nUnweighted': '99.3',\n",
       " 'Employment Outcomes\\nUnweighted': '56.9'}"
      ]
     },
     "execution_count": 14,
     "metadata": {},
     "output_type": "execute_result"
    }
   ],
   "source": [
    "d={}\n",
    "d['Name']=value_head[60]\n",
    "d['Location']=loc[6]\n",
    "d['Rank']=RANK[6]\n",
    "\n",
    "for i in range(len(column_head)):\n",
    "    d[column_head[i]]=value[i]\n",
    "d\n"
   ]
  },
  {
   "cell_type": "code",
   "execution_count": 15,
   "id": "755ee6bb",
   "metadata": {},
   "outputs": [
    {
     "data": {
      "text/plain": [
       "'{\"Name\": \"King\\'s College London\", \"Location\": \"London, United Kingdom\", \"Rank\": \"37\", \"Overall Score\": \"81.2\", \"Academic Reputation\": \"88.8\", \"Employer Reputation\": \"83.2\", \"Citations per Faculty\": \"60.5\", \"Faculty Student Ratio\": \"74.5\", \"International Students Ratio\": \"100\", \"International Faculty Ratio\": \"98.6\", \"International Research Network\\\\nUnweighted\": \"99.3\", \"Employment Outcomes\\\\nUnweighted\": \"56.9\"}'"
      ]
     },
     "execution_count": 15,
     "metadata": {},
     "output_type": "execute_result"
    }
   ],
   "source": [
    "s1=json.dumps(d)\n",
    "s1"
   ]
  },
  {
   "cell_type": "code",
   "execution_count": 16,
   "id": "6a663399",
   "metadata": {},
   "outputs": [],
   "source": [
    "\n",
    "with open('Kings College London.json','w') as f:\n",
    "    json.dump(d,f)"
   ]
  },
  {
   "cell_type": "code",
   "execution_count": null,
   "id": "fe9b36d6",
   "metadata": {},
   "outputs": [],
   "source": []
  },
  {
   "cell_type": "code",
   "execution_count": null,
   "id": "a89d326b",
   "metadata": {},
   "outputs": [],
   "source": []
  }
 ],
 "metadata": {
  "kernelspec": {
   "display_name": "Python 3 (ipykernel)",
   "language": "python",
   "name": "python3"
  },
  "language_info": {
   "codemirror_mode": {
    "name": "ipython",
    "version": 3
   },
   "file_extension": ".py",
   "mimetype": "text/x-python",
   "name": "python",
   "nbconvert_exporter": "python",
   "pygments_lexer": "ipython3",
   "version": "3.9.12"
  }
 },
 "nbformat": 4,
 "nbformat_minor": 5
}
