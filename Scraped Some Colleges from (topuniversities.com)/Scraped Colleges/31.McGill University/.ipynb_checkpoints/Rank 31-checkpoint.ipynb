{
 "cells": [
  {
   "cell_type": "code",
   "execution_count": 1,
   "id": "d4e726e6",
   "metadata": {},
   "outputs": [],
   "source": [
    "from selenium import webdriver\n",
    "from selenium.webdriver.chrome.service import Service\n",
    "import pandas as pd\n",
    "import json"
   ]
  },
  {
   "cell_type": "code",
   "execution_count": 2,
   "id": "02f864ac",
   "metadata": {},
   "outputs": [],
   "source": [
    "path = Service('C:\\chromedriver.exe')"
   ]
  },
  {
   "cell_type": "code",
   "execution_count": 3,
   "id": "93b847a6",
   "metadata": {},
   "outputs": [],
   "source": [
    "# set path for the driver\n",
    "browser = webdriver.Chrome(service = path)"
   ]
  },
  {
   "cell_type": "code",
   "execution_count": 4,
   "id": "6579fbf0",
   "metadata": {},
   "outputs": [],
   "source": [
    "url = \"https://www.topuniversities.com/university-rankings/world-university-rankings/2023\""
   ]
  },
  {
   "cell_type": "code",
   "execution_count": 5,
   "id": "2b2bdbe1",
   "metadata": {},
   "outputs": [],
   "source": [
    "# open the page url ion chrome\n",
    "browser.get(url)"
   ]
  },
  {
   "cell_type": "code",
   "execution_count": 6,
   "id": "129a0a97",
   "metadata": {},
   "outputs": [
    {
     "data": {
      "text/plain": [
       "[<selenium.webdriver.remote.webelement.WebElement (session=\"34a2e1b72eb8e17ca1702b77656cea0c\", element=\"94427a8a-debb-409d-825c-65f3a59ccbc3\")>,\n",
       " <selenium.webdriver.remote.webelement.WebElement (session=\"34a2e1b72eb8e17ca1702b77656cea0c\", element=\"3495548a-a767-421d-942f-010dcf7c6a81\")>,\n",
       " <selenium.webdriver.remote.webelement.WebElement (session=\"34a2e1b72eb8e17ca1702b77656cea0c\", element=\"fc529408-8e98-4d89-8815-805ce6f76178\")>,\n",
       " <selenium.webdriver.remote.webelement.WebElement (session=\"34a2e1b72eb8e17ca1702b77656cea0c\", element=\"4d51ea78-ceb0-4dab-8427-d5ebddded154\")>,\n",
       " <selenium.webdriver.remote.webelement.WebElement (session=\"34a2e1b72eb8e17ca1702b77656cea0c\", element=\"b8f0533a-0ea3-42fd-b559-ab5c7dc954ed\")>,\n",
       " <selenium.webdriver.remote.webelement.WebElement (session=\"34a2e1b72eb8e17ca1702b77656cea0c\", element=\"49990bae-8f25-4f9e-8e28-1d5c8534f121\")>,\n",
       " <selenium.webdriver.remote.webelement.WebElement (session=\"34a2e1b72eb8e17ca1702b77656cea0c\", element=\"82492dde-0735-4bf4-ac5e-99ea157aabd2\")>,\n",
       " <selenium.webdriver.remote.webelement.WebElement (session=\"34a2e1b72eb8e17ca1702b77656cea0c\", element=\"9d0ddf6f-00ad-4186-9aa8-710e907084ee\")>,\n",
       " <selenium.webdriver.remote.webelement.WebElement (session=\"34a2e1b72eb8e17ca1702b77656cea0c\", element=\"f706dcc7-c412-4a40-83bd-90e68c600ea9\")>,\n",
       " <selenium.webdriver.remote.webelement.WebElement (session=\"34a2e1b72eb8e17ca1702b77656cea0c\", element=\"9344e396-12ec-4269-8ced-3c48006d2513\")>,\n",
       " <selenium.webdriver.remote.webelement.WebElement (session=\"34a2e1b72eb8e17ca1702b77656cea0c\", element=\"99458060-fa95-40dc-845a-0e67e44d00ea\")>,\n",
       " <selenium.webdriver.remote.webelement.WebElement (session=\"34a2e1b72eb8e17ca1702b77656cea0c\", element=\"e77d0b48-a94f-4440-b00f-2e5475de7192\")>,\n",
       " <selenium.webdriver.remote.webelement.WebElement (session=\"34a2e1b72eb8e17ca1702b77656cea0c\", element=\"d0b7adb7-66aa-4077-8cf5-02a94d30da82\")>,\n",
       " <selenium.webdriver.remote.webelement.WebElement (session=\"34a2e1b72eb8e17ca1702b77656cea0c\", element=\"9d7d3d26-b76e-4cc7-821b-3f62fecedd12\")>,\n",
       " <selenium.webdriver.remote.webelement.WebElement (session=\"34a2e1b72eb8e17ca1702b77656cea0c\", element=\"9c643ed7-5d13-4fc7-bd54-feb69c1eb3d5\")>,\n",
       " <selenium.webdriver.remote.webelement.WebElement (session=\"34a2e1b72eb8e17ca1702b77656cea0c\", element=\"ba1311c9-bb29-4b11-8f5a-a360431ce4ef\")>,\n",
       " <selenium.webdriver.remote.webelement.WebElement (session=\"34a2e1b72eb8e17ca1702b77656cea0c\", element=\"680a55da-bbb4-49e8-940e-2d032f08c88a\")>,\n",
       " <selenium.webdriver.remote.webelement.WebElement (session=\"34a2e1b72eb8e17ca1702b77656cea0c\", element=\"3a8b1739-3ae0-4522-8ebb-07afdc63ab4d\")>,\n",
       " <selenium.webdriver.remote.webelement.WebElement (session=\"34a2e1b72eb8e17ca1702b77656cea0c\", element=\"ccf82125-7f7f-4d3f-ad3f-1cc3bfda2c7c\")>,\n",
       " <selenium.webdriver.remote.webelement.WebElement (session=\"34a2e1b72eb8e17ca1702b77656cea0c\", element=\"3ea97e7d-bd24-433c-a1d4-c635125d56ff\")>]"
      ]
     },
     "execution_count": 6,
     "metadata": {},
     "output_type": "execute_result"
    }
   ],
   "source": [
    "\n",
    "l1=browser.find_elements(\"xpath\",\"//div[@class='location ']\")\n",
    "l1"
   ]
  },
  {
   "cell_type": "code",
   "execution_count": 7,
   "id": "42247e65",
   "metadata": {},
   "outputs": [
    {
     "data": {
      "text/plain": [
       "['Montreal, Canada',\n",
       " 'Evanston, United States',\n",
       " 'Parkville, Australia',\n",
       " 'Shanghai, China (Mainland)',\n",
       " 'Toronto, Canada',\n",
       " 'Kyoto, Japan',\n",
       " 'London, United Kingdom',\n",
       " 'Hong Kong SAR, Hong Kong SAR',\n",
       " 'New York City, United States',\n",
       " 'Hong Kong SAR, Hong Kong SAR']"
      ]
     },
     "execution_count": 7,
     "metadata": {},
     "output_type": "execute_result"
    }
   ],
   "source": [
    "\n",
    "loc=[]\n",
    "for data in l1:\n",
    "    #get the text data\n",
    "    temp=data.text\n",
    "    loc.append(temp)\n",
    "loc=loc[10:]\n",
    "loc"
   ]
  },
  {
   "cell_type": "code",
   "execution_count": 8,
   "id": "0795481e",
   "metadata": {},
   "outputs": [
    {
     "data": {
      "text/plain": [
       "[<selenium.webdriver.remote.webelement.WebElement (session=\"34a2e1b72eb8e17ca1702b77656cea0c\", element=\"bc58f410-3106-4f78-8f41-e496876e7d24\")>,\n",
       " <selenium.webdriver.remote.webelement.WebElement (session=\"34a2e1b72eb8e17ca1702b77656cea0c\", element=\"920737a6-973a-4748-8d55-c42f7a8af4cb\")>,\n",
       " <selenium.webdriver.remote.webelement.WebElement (session=\"34a2e1b72eb8e17ca1702b77656cea0c\", element=\"a20ae9db-2c21-440b-a99a-129efb921c17\")>,\n",
       " <selenium.webdriver.remote.webelement.WebElement (session=\"34a2e1b72eb8e17ca1702b77656cea0c\", element=\"318aa38a-3d01-4677-a161-1d31ccfbbb68\")>,\n",
       " <selenium.webdriver.remote.webelement.WebElement (session=\"34a2e1b72eb8e17ca1702b77656cea0c\", element=\"594d9afe-faa8-490f-876f-bd45f415c5a0\")>,\n",
       " <selenium.webdriver.remote.webelement.WebElement (session=\"34a2e1b72eb8e17ca1702b77656cea0c\", element=\"a5b7695f-cb3a-4545-9180-226da518e2bf\")>,\n",
       " <selenium.webdriver.remote.webelement.WebElement (session=\"34a2e1b72eb8e17ca1702b77656cea0c\", element=\"75595b11-b896-4e34-a1e6-9d6fc188d674\")>,\n",
       " <selenium.webdriver.remote.webelement.WebElement (session=\"34a2e1b72eb8e17ca1702b77656cea0c\", element=\"3eb92c48-fdde-4d79-a1c0-6d82c1782656\")>,\n",
       " <selenium.webdriver.remote.webelement.WebElement (session=\"34a2e1b72eb8e17ca1702b77656cea0c\", element=\"ea003d9e-583e-4242-a5d7-52481f8391a4\")>,\n",
       " <selenium.webdriver.remote.webelement.WebElement (session=\"34a2e1b72eb8e17ca1702b77656cea0c\", element=\"7fd4f839-94d4-4b4e-a519-05377eb77a83\")>]"
      ]
     },
     "execution_count": 8,
     "metadata": {},
     "output_type": "execute_result"
    }
   ],
   "source": [
    "l2=browser.find_elements(\"xpath\",\"//div[@class='_univ-rank ']\")\n",
    "l2"
   ]
  },
  {
   "cell_type": "code",
   "execution_count": 9,
   "id": "ed9bb7d5",
   "metadata": {},
   "outputs": [
    {
     "data": {
      "text/plain": [
       "['31', '32', '33', '=34', '=34', '36', '37', '38', '39', '40']"
      ]
     },
     "execution_count": 9,
     "metadata": {},
     "output_type": "execute_result"
    }
   ],
   "source": [
    "RANK=[]\n",
    "for data in l2:\n",
    "    #get the text data\n",
    "    temp=data.text\n",
    "    RANK.append(temp)\n",
    "RANK"
   ]
  },
  {
   "cell_type": "code",
   "execution_count": 10,
   "id": "487f0c32",
   "metadata": {},
   "outputs": [
    {
     "data": {
      "text/plain": [
       "[<selenium.webdriver.remote.webelement.WebElement (session=\"34a2e1b72eb8e17ca1702b77656cea0c\", element=\"cb266ce7-e042-4ada-b0ac-a3e38874220b\")>,\n",
       " <selenium.webdriver.remote.webelement.WebElement (session=\"34a2e1b72eb8e17ca1702b77656cea0c\", element=\"3512234b-302a-47c8-853c-b06dd2c1f5ba\")>,\n",
       " <selenium.webdriver.remote.webelement.WebElement (session=\"34a2e1b72eb8e17ca1702b77656cea0c\", element=\"4d72f3c0-b92f-488c-b525-c099e36a852e\")>,\n",
       " <selenium.webdriver.remote.webelement.WebElement (session=\"34a2e1b72eb8e17ca1702b77656cea0c\", element=\"2be2c9da-2704-4eec-9b27-2928c26b5060\")>,\n",
       " <selenium.webdriver.remote.webelement.WebElement (session=\"34a2e1b72eb8e17ca1702b77656cea0c\", element=\"e869faaf-777f-4594-b46d-92bce2dee1fb\")>,\n",
       " <selenium.webdriver.remote.webelement.WebElement (session=\"34a2e1b72eb8e17ca1702b77656cea0c\", element=\"0cfd1ffb-4807-4efc-9740-9377947721de\")>,\n",
       " <selenium.webdriver.remote.webelement.WebElement (session=\"34a2e1b72eb8e17ca1702b77656cea0c\", element=\"3f009f4a-23ee-4092-bab9-80123293a518\")>,\n",
       " <selenium.webdriver.remote.webelement.WebElement (session=\"34a2e1b72eb8e17ca1702b77656cea0c\", element=\"0f36078c-3493-48ef-967d-5c3dad785491\")>,\n",
       " <selenium.webdriver.remote.webelement.WebElement (session=\"34a2e1b72eb8e17ca1702b77656cea0c\", element=\"3e593486-6b5f-4c62-a2f7-3b1fec550087\")>]"
      ]
     },
     "execution_count": 10,
     "metadata": {},
     "output_type": "execute_result"
    }
   ],
   "source": [
    "# GET EACH COLLEGE SPECIFICATION HEADERS\n",
    "header=browser.find_elements(\"xpath\",\"//div[@class='_click-function_ind']\")\n",
    "header\n"
   ]
  },
  {
   "cell_type": "code",
   "execution_count": 11,
   "id": "fecfc972",
   "metadata": {},
   "outputs": [
    {
     "data": {
      "text/plain": [
       "['Overall Score',\n",
       " 'Academic Reputation',\n",
       " 'Employer Reputation',\n",
       " 'Citations per Faculty',\n",
       " 'Faculty Student Ratio',\n",
       " 'International Students Ratio',\n",
       " 'International Faculty Ratio',\n",
       " 'International Research Network\\nUnweighted',\n",
       " 'Employment Outcomes\\nUnweighted']"
      ]
     },
     "execution_count": 11,
     "metadata": {},
     "output_type": "execute_result"
    }
   ],
   "source": [
    "#PARSING DATA\n",
    "column_head=[]\n",
    "for data in header:\n",
    "    #get the text data\n",
    "    temp=data.text\n",
    "    column_head.append(temp)\n",
    "column_head"
   ]
  },
  {
   "cell_type": "code",
   "execution_count": 12,
   "id": "2d53cf86",
   "metadata": {},
   "outputs": [
    {
     "data": {
      "text/plain": [
       "[<selenium.webdriver.remote.webelement.WebElement (session=\"34a2e1b72eb8e17ca1702b77656cea0c\", element=\"fd6097c9-33ac-46a4-bfe6-be24a58e8883\")>,\n",
       " <selenium.webdriver.remote.webelement.WebElement (session=\"34a2e1b72eb8e17ca1702b77656cea0c\", element=\"5ec1ed56-1f4a-4d69-826f-88185a876a43\")>,\n",
       " <selenium.webdriver.remote.webelement.WebElement (session=\"34a2e1b72eb8e17ca1702b77656cea0c\", element=\"f16d9d30-15c0-4eb4-99aa-597c321ddd61\")>,\n",
       " <selenium.webdriver.remote.webelement.WebElement (session=\"34a2e1b72eb8e17ca1702b77656cea0c\", element=\"19d2d4fd-6b8d-40c6-9e9d-d984dd44ef9f\")>,\n",
       " <selenium.webdriver.remote.webelement.WebElement (session=\"34a2e1b72eb8e17ca1702b77656cea0c\", element=\"6ad4f2ba-f48c-41ec-8e3e-ce62f617e4b2\")>,\n",
       " <selenium.webdriver.remote.webelement.WebElement (session=\"34a2e1b72eb8e17ca1702b77656cea0c\", element=\"76c75f05-604c-4330-945a-d9973ed072a1\")>,\n",
       " <selenium.webdriver.remote.webelement.WebElement (session=\"34a2e1b72eb8e17ca1702b77656cea0c\", element=\"e39adc0f-9508-4685-8498-6cb001eedabc\")>,\n",
       " <selenium.webdriver.remote.webelement.WebElement (session=\"34a2e1b72eb8e17ca1702b77656cea0c\", element=\"29c863fc-0681-4997-8f88-16e84303eb3d\")>,\n",
       " <selenium.webdriver.remote.webelement.WebElement (session=\"34a2e1b72eb8e17ca1702b77656cea0c\", element=\"41a557e2-8623-41e8-abc1-48aa944efffa\")>,\n",
       " <selenium.webdriver.remote.webelement.WebElement (session=\"34a2e1b72eb8e17ca1702b77656cea0c\", element=\"ce8ae3d1-5940-4730-b6c2-977316527ac0\")>,\n",
       " <selenium.webdriver.remote.webelement.WebElement (session=\"34a2e1b72eb8e17ca1702b77656cea0c\", element=\"eba89ead-da75-4dbf-901e-d8388ec34166\")>,\n",
       " <selenium.webdriver.remote.webelement.WebElement (session=\"34a2e1b72eb8e17ca1702b77656cea0c\", element=\"b43ae991-a1f7-456f-98aa-8e04f9bf44d8\")>,\n",
       " <selenium.webdriver.remote.webelement.WebElement (session=\"34a2e1b72eb8e17ca1702b77656cea0c\", element=\"ecff904b-8763-4be6-b35d-f47b9fb8a254\")>,\n",
       " <selenium.webdriver.remote.webelement.WebElement (session=\"34a2e1b72eb8e17ca1702b77656cea0c\", element=\"dc655e6c-8d52-4e1f-8b31-eb6375d0adb0\")>,\n",
       " <selenium.webdriver.remote.webelement.WebElement (session=\"34a2e1b72eb8e17ca1702b77656cea0c\", element=\"0624df7f-9492-4ee1-8736-8a7b2c3ec5a5\")>,\n",
       " <selenium.webdriver.remote.webelement.WebElement (session=\"34a2e1b72eb8e17ca1702b77656cea0c\", element=\"d1cd8002-c2e4-4fe9-a260-e7831aba8b63\")>,\n",
       " <selenium.webdriver.remote.webelement.WebElement (session=\"34a2e1b72eb8e17ca1702b77656cea0c\", element=\"4da61873-ff62-4d0a-aeb9-55cdb8fda44b\")>,\n",
       " <selenium.webdriver.remote.webelement.WebElement (session=\"34a2e1b72eb8e17ca1702b77656cea0c\", element=\"0dac229a-7b9a-4438-99e9-7d96e095e4f8\")>,\n",
       " <selenium.webdriver.remote.webelement.WebElement (session=\"34a2e1b72eb8e17ca1702b77656cea0c\", element=\"dcd65778-de52-4529-8ea9-fa093ae02fc3\")>,\n",
       " <selenium.webdriver.remote.webelement.WebElement (session=\"34a2e1b72eb8e17ca1702b77656cea0c\", element=\"c14ee581-c522-45fb-8275-3aeffeb11974\")>,\n",
       " <selenium.webdriver.remote.webelement.WebElement (session=\"34a2e1b72eb8e17ca1702b77656cea0c\", element=\"1a9c9e53-85bf-404a-a3ec-f97a9160d4d6\")>,\n",
       " <selenium.webdriver.remote.webelement.WebElement (session=\"34a2e1b72eb8e17ca1702b77656cea0c\", element=\"7c9f3549-6f59-4fde-b55f-2cd110bb1c5c\")>,\n",
       " <selenium.webdriver.remote.webelement.WebElement (session=\"34a2e1b72eb8e17ca1702b77656cea0c\", element=\"a527bf43-cca7-4b7e-8ea8-bc6e5900624a\")>,\n",
       " <selenium.webdriver.remote.webelement.WebElement (session=\"34a2e1b72eb8e17ca1702b77656cea0c\", element=\"4b04ed37-1506-44b2-8667-f9be48d098fd\")>,\n",
       " <selenium.webdriver.remote.webelement.WebElement (session=\"34a2e1b72eb8e17ca1702b77656cea0c\", element=\"3778a2f3-489a-44cf-b284-566026142c1c\")>,\n",
       " <selenium.webdriver.remote.webelement.WebElement (session=\"34a2e1b72eb8e17ca1702b77656cea0c\", element=\"dce7d416-604b-4b53-9035-b91eb4190863\")>,\n",
       " <selenium.webdriver.remote.webelement.WebElement (session=\"34a2e1b72eb8e17ca1702b77656cea0c\", element=\"1007e913-1ffd-482b-a58e-a380854866ea\")>,\n",
       " <selenium.webdriver.remote.webelement.WebElement (session=\"34a2e1b72eb8e17ca1702b77656cea0c\", element=\"0d75dcdb-c996-4489-a661-e53b7b8e2ac9\")>,\n",
       " <selenium.webdriver.remote.webelement.WebElement (session=\"34a2e1b72eb8e17ca1702b77656cea0c\", element=\"ba0fddb7-325c-4b4f-a724-5127b5c6f9b6\")>,\n",
       " <selenium.webdriver.remote.webelement.WebElement (session=\"34a2e1b72eb8e17ca1702b77656cea0c\", element=\"8f389912-ee88-40fd-90d0-89eab50f9f84\")>,\n",
       " <selenium.webdriver.remote.webelement.WebElement (session=\"34a2e1b72eb8e17ca1702b77656cea0c\", element=\"51e8ade4-d68e-4fb0-a1e5-1a6c55f5ee2a\")>,\n",
       " <selenium.webdriver.remote.webelement.WebElement (session=\"34a2e1b72eb8e17ca1702b77656cea0c\", element=\"c65e8e9d-974d-43b5-b7d5-d007c801a04e\")>,\n",
       " <selenium.webdriver.remote.webelement.WebElement (session=\"34a2e1b72eb8e17ca1702b77656cea0c\", element=\"b4a0e939-52db-4581-ab22-42d2e5768749\")>,\n",
       " <selenium.webdriver.remote.webelement.WebElement (session=\"34a2e1b72eb8e17ca1702b77656cea0c\", element=\"9c9f1be4-bff7-4593-ada3-523390a655a7\")>,\n",
       " <selenium.webdriver.remote.webelement.WebElement (session=\"34a2e1b72eb8e17ca1702b77656cea0c\", element=\"b2db5f15-2df5-45f0-90b9-1a9c043f8929\")>,\n",
       " <selenium.webdriver.remote.webelement.WebElement (session=\"34a2e1b72eb8e17ca1702b77656cea0c\", element=\"a1d8cc07-a365-4eea-98a4-abde712205bc\")>,\n",
       " <selenium.webdriver.remote.webelement.WebElement (session=\"34a2e1b72eb8e17ca1702b77656cea0c\", element=\"fbb7ab6d-a340-4c3e-9286-eb44782acb6e\")>,\n",
       " <selenium.webdriver.remote.webelement.WebElement (session=\"34a2e1b72eb8e17ca1702b77656cea0c\", element=\"8bcda37b-2800-453d-b791-1319c78e19b1\")>,\n",
       " <selenium.webdriver.remote.webelement.WebElement (session=\"34a2e1b72eb8e17ca1702b77656cea0c\", element=\"57785b6c-f8fc-4a63-94dd-b96f08c707e1\")>,\n",
       " <selenium.webdriver.remote.webelement.WebElement (session=\"34a2e1b72eb8e17ca1702b77656cea0c\", element=\"ebf81da1-2acd-4449-bb20-d4a2049c6d0f\")>,\n",
       " <selenium.webdriver.remote.webelement.WebElement (session=\"34a2e1b72eb8e17ca1702b77656cea0c\", element=\"3939f5cf-5475-4dd1-8939-4ff3aa016d98\")>,\n",
       " <selenium.webdriver.remote.webelement.WebElement (session=\"34a2e1b72eb8e17ca1702b77656cea0c\", element=\"cdb80da2-01ee-4a08-b23d-8bc431a29cae\")>,\n",
       " <selenium.webdriver.remote.webelement.WebElement (session=\"34a2e1b72eb8e17ca1702b77656cea0c\", element=\"dee6605f-2833-480b-af5e-ce47162c169c\")>,\n",
       " <selenium.webdriver.remote.webelement.WebElement (session=\"34a2e1b72eb8e17ca1702b77656cea0c\", element=\"8547a034-b33d-4282-8c35-169a088b3c21\")>,\n",
       " <selenium.webdriver.remote.webelement.WebElement (session=\"34a2e1b72eb8e17ca1702b77656cea0c\", element=\"4d491210-e6e0-4636-ac3a-1894576b8f53\")>,\n",
       " <selenium.webdriver.remote.webelement.WebElement (session=\"34a2e1b72eb8e17ca1702b77656cea0c\", element=\"a3e7deb9-22ec-48f8-a575-ed98a731c19e\")>,\n",
       " <selenium.webdriver.remote.webelement.WebElement (session=\"34a2e1b72eb8e17ca1702b77656cea0c\", element=\"8f422b0f-d44e-4b34-a28b-cfc488bc9af4\")>,\n",
       " <selenium.webdriver.remote.webelement.WebElement (session=\"34a2e1b72eb8e17ca1702b77656cea0c\", element=\"1d8c5265-0ee9-4191-b72d-5701df4fa6c7\")>,\n",
       " <selenium.webdriver.remote.webelement.WebElement (session=\"34a2e1b72eb8e17ca1702b77656cea0c\", element=\"80e71d63-8f5e-436e-a1a7-327a7d622ad8\")>,\n",
       " <selenium.webdriver.remote.webelement.WebElement (session=\"34a2e1b72eb8e17ca1702b77656cea0c\", element=\"c0976e3d-93ab-4717-9e4a-c7339120813a\")>,\n",
       " <selenium.webdriver.remote.webelement.WebElement (session=\"34a2e1b72eb8e17ca1702b77656cea0c\", element=\"b0c3a3ed-7aaa-42f4-a15e-776430b0f54f\")>,\n",
       " <selenium.webdriver.remote.webelement.WebElement (session=\"34a2e1b72eb8e17ca1702b77656cea0c\", element=\"4830f667-2b4a-4ab5-b8d1-4d371addb7f2\")>,\n",
       " <selenium.webdriver.remote.webelement.WebElement (session=\"34a2e1b72eb8e17ca1702b77656cea0c\", element=\"e87ac6f9-d35d-4301-86b0-7c51f555c319\")>,\n",
       " <selenium.webdriver.remote.webelement.WebElement (session=\"34a2e1b72eb8e17ca1702b77656cea0c\", element=\"8d767cdd-8034-479b-bcb3-cffd5db96624\")>,\n",
       " <selenium.webdriver.remote.webelement.WebElement (session=\"34a2e1b72eb8e17ca1702b77656cea0c\", element=\"2b79f108-6ed5-4561-a17c-576bbe476b33\")>,\n",
       " <selenium.webdriver.remote.webelement.WebElement (session=\"34a2e1b72eb8e17ca1702b77656cea0c\", element=\"2d07e2b6-7825-4101-8b98-b56e077845e0\")>,\n",
       " <selenium.webdriver.remote.webelement.WebElement (session=\"34a2e1b72eb8e17ca1702b77656cea0c\", element=\"5af569df-87d4-4496-9cf4-25db216086c2\")>,\n",
       " <selenium.webdriver.remote.webelement.WebElement (session=\"34a2e1b72eb8e17ca1702b77656cea0c\", element=\"f7bc4a75-65cc-4024-a22a-377fbe1b5378\")>,\n",
       " <selenium.webdriver.remote.webelement.WebElement (session=\"34a2e1b72eb8e17ca1702b77656cea0c\", element=\"26d325bc-cbc2-4b90-990c-28cbae0d8c5d\")>,\n",
       " <selenium.webdriver.remote.webelement.WebElement (session=\"34a2e1b72eb8e17ca1702b77656cea0c\", element=\"75b3c7e8-e64b-460c-a576-e844d69c3c24\")>,\n",
       " <selenium.webdriver.remote.webelement.WebElement (session=\"34a2e1b72eb8e17ca1702b77656cea0c\", element=\"b8dc09e3-f5e2-46b7-9fb7-fcbc8f87fea1\")>,\n",
       " <selenium.webdriver.remote.webelement.WebElement (session=\"34a2e1b72eb8e17ca1702b77656cea0c\", element=\"3d8881d4-ad74-4941-adbc-7a7c2c44e3b3\")>,\n",
       " <selenium.webdriver.remote.webelement.WebElement (session=\"34a2e1b72eb8e17ca1702b77656cea0c\", element=\"ad11a501-bc48-49af-a3cb-9eb44496b274\")>,\n",
       " <selenium.webdriver.remote.webelement.WebElement (session=\"34a2e1b72eb8e17ca1702b77656cea0c\", element=\"b2beed8e-8b71-480a-9c2b-858156d79048\")>,\n",
       " <selenium.webdriver.remote.webelement.WebElement (session=\"34a2e1b72eb8e17ca1702b77656cea0c\", element=\"e54a71e3-13e1-414e-8bf0-451cc48782da\")>,\n",
       " <selenium.webdriver.remote.webelement.WebElement (session=\"34a2e1b72eb8e17ca1702b77656cea0c\", element=\"14c95e74-b585-4949-9547-509ced7981d7\")>,\n",
       " <selenium.webdriver.remote.webelement.WebElement (session=\"34a2e1b72eb8e17ca1702b77656cea0c\", element=\"0578f243-94fb-4817-8d71-57d7a76769f0\")>,\n",
       " <selenium.webdriver.remote.webelement.WebElement (session=\"34a2e1b72eb8e17ca1702b77656cea0c\", element=\"fa9af734-1f6f-413f-b9b0-5be2d3083471\")>,\n",
       " <selenium.webdriver.remote.webelement.WebElement (session=\"34a2e1b72eb8e17ca1702b77656cea0c\", element=\"a07bce37-94b6-4505-9eff-14b360870b43\")>,\n",
       " <selenium.webdriver.remote.webelement.WebElement (session=\"34a2e1b72eb8e17ca1702b77656cea0c\", element=\"070016f9-4853-4bef-8014-be295f05b32f\")>,\n",
       " <selenium.webdriver.remote.webelement.WebElement (session=\"34a2e1b72eb8e17ca1702b77656cea0c\", element=\"a03e670d-5c7b-423c-a9c3-c768a24f468d\")>,\n",
       " <selenium.webdriver.remote.webelement.WebElement (session=\"34a2e1b72eb8e17ca1702b77656cea0c\", element=\"b238a07a-36cd-45a7-b634-2cbaeff8d580\")>,\n",
       " <selenium.webdriver.remote.webelement.WebElement (session=\"34a2e1b72eb8e17ca1702b77656cea0c\", element=\"1137f89f-e220-40d3-a2fa-77f6c97ac8af\")>,\n",
       " <selenium.webdriver.remote.webelement.WebElement (session=\"34a2e1b72eb8e17ca1702b77656cea0c\", element=\"5c10156e-fb23-4357-9cc4-5647727f5f63\")>,\n",
       " <selenium.webdriver.remote.webelement.WebElement (session=\"34a2e1b72eb8e17ca1702b77656cea0c\", element=\"4ef277bb-ddbd-4cb6-a5e7-7bce730bf39f\")>,\n",
       " <selenium.webdriver.remote.webelement.WebElement (session=\"34a2e1b72eb8e17ca1702b77656cea0c\", element=\"d82eef14-9937-43d2-a9e0-9793f124f091\")>,\n",
       " <selenium.webdriver.remote.webelement.WebElement (session=\"34a2e1b72eb8e17ca1702b77656cea0c\", element=\"2476bbed-b013-44eb-a9eb-971b430a10de\")>,\n",
       " <selenium.webdriver.remote.webelement.WebElement (session=\"34a2e1b72eb8e17ca1702b77656cea0c\", element=\"ae6e166e-ea3a-4b43-87b6-6c5ff15b124b\")>,\n",
       " <selenium.webdriver.remote.webelement.WebElement (session=\"34a2e1b72eb8e17ca1702b77656cea0c\", element=\"60e861e9-a333-482b-bef9-6bcf2c1d39bb\")>,\n",
       " <selenium.webdriver.remote.webelement.WebElement (session=\"34a2e1b72eb8e17ca1702b77656cea0c\", element=\"5e7538d3-9a22-4466-905f-cd2d208f3ef6\")>,\n",
       " <selenium.webdriver.remote.webelement.WebElement (session=\"34a2e1b72eb8e17ca1702b77656cea0c\", element=\"c994e487-bae8-45fd-a82f-2569a62bf3bd\")>,\n",
       " <selenium.webdriver.remote.webelement.WebElement (session=\"34a2e1b72eb8e17ca1702b77656cea0c\", element=\"41502394-29f4-42c5-accf-f659e899424c\")>,\n",
       " <selenium.webdriver.remote.webelement.WebElement (session=\"34a2e1b72eb8e17ca1702b77656cea0c\", element=\"b61dfa2c-3663-41d2-96e4-be4475218a30\")>,\n",
       " <selenium.webdriver.remote.webelement.WebElement (session=\"34a2e1b72eb8e17ca1702b77656cea0c\", element=\"1f6196c0-bdba-4b10-bd46-a3ee1090ee8e\")>,\n",
       " <selenium.webdriver.remote.webelement.WebElement (session=\"34a2e1b72eb8e17ca1702b77656cea0c\", element=\"1cb4d70b-c6b8-44ea-8b9e-16c929fae2dd\")>,\n",
       " <selenium.webdriver.remote.webelement.WebElement (session=\"34a2e1b72eb8e17ca1702b77656cea0c\", element=\"de158585-a863-410e-b334-c95517985eed\")>,\n",
       " <selenium.webdriver.remote.webelement.WebElement (session=\"34a2e1b72eb8e17ca1702b77656cea0c\", element=\"93ca1625-bdef-49b2-8b46-257b4328b37f\")>,\n",
       " <selenium.webdriver.remote.webelement.WebElement (session=\"34a2e1b72eb8e17ca1702b77656cea0c\", element=\"8408a642-9301-4732-90ad-7bfb69c7e904\")>,\n",
       " <selenium.webdriver.remote.webelement.WebElement (session=\"34a2e1b72eb8e17ca1702b77656cea0c\", element=\"26738816-191b-495f-8e62-247089d9e952\")>,\n",
       " <selenium.webdriver.remote.webelement.WebElement (session=\"34a2e1b72eb8e17ca1702b77656cea0c\", element=\"b429ed6e-3422-493b-9b9f-36865bef141c\")>,\n",
       " <selenium.webdriver.remote.webelement.WebElement (session=\"34a2e1b72eb8e17ca1702b77656cea0c\", element=\"c4979813-2274-4e95-ab2b-aeb3802feb46\")>,\n",
       " <selenium.webdriver.remote.webelement.WebElement (session=\"34a2e1b72eb8e17ca1702b77656cea0c\", element=\"97374f92-3b52-4ce8-bea8-002f371a56b1\")>,\n",
       " <selenium.webdriver.remote.webelement.WebElement (session=\"34a2e1b72eb8e17ca1702b77656cea0c\", element=\"bda53825-b76d-46bc-9f9f-4efa28edcce1\")>,\n",
       " <selenium.webdriver.remote.webelement.WebElement (session=\"34a2e1b72eb8e17ca1702b77656cea0c\", element=\"5415fedc-1e0b-4ac3-a4ac-8ea493e5eb52\")>,\n",
       " <selenium.webdriver.remote.webelement.WebElement (session=\"34a2e1b72eb8e17ca1702b77656cea0c\", element=\"f37b1086-03f7-486c-9269-4b5615efc55a\")>,\n",
       " <selenium.webdriver.remote.webelement.WebElement (session=\"34a2e1b72eb8e17ca1702b77656cea0c\", element=\"c633f1f9-eb7d-4a77-97f8-7aba482d4722\")>,\n",
       " <selenium.webdriver.remote.webelement.WebElement (session=\"34a2e1b72eb8e17ca1702b77656cea0c\", element=\"a97bba18-b4a1-422b-bf73-65e4a698d2b4\")>,\n",
       " <selenium.webdriver.remote.webelement.WebElement (session=\"34a2e1b72eb8e17ca1702b77656cea0c\", element=\"862e3789-9882-4a39-984e-2057b2d1c4be\")>,\n",
       " <selenium.webdriver.remote.webelement.WebElement (session=\"34a2e1b72eb8e17ca1702b77656cea0c\", element=\"8c2f38b8-4f24-438a-9be8-d61185dfefac\")>,\n",
       " <selenium.webdriver.remote.webelement.WebElement (session=\"34a2e1b72eb8e17ca1702b77656cea0c\", element=\"c0c60e16-4920-4382-8375-b8eaa1061d92\")>]"
      ]
     },
     "execution_count": 12,
     "metadata": {},
     "output_type": "execute_result"
    }
   ],
   "source": [
    "header2=browser.find_elements(\"xpath\",\"//div[@class='td-wrap-in']\")\n",
    "header2"
   ]
  },
  {
   "cell_type": "code",
   "execution_count": 13,
   "id": "3f91859c",
   "metadata": {},
   "outputs": [
    {
     "data": {
      "text/plain": [
       "['81.9', '93.3', '93.6', '59.6', '68.9', '95.1', '87.6', '95.2', '90']"
      ]
     },
     "execution_count": 13,
     "metadata": {},
     "output_type": "execute_result"
    }
   ],
   "source": [
    "\n",
    "#PARSING DATA\n",
    "value_head=[]\n",
    "for data in header2:\n",
    "    #get the text data\n",
    "    temp=data.text\n",
    "    value_head.append(temp)\n",
    "value=value_head[1:10]\n",
    "value\n"
   ]
  },
  {
   "cell_type": "code",
   "execution_count": 14,
   "id": "8e7fc614",
   "metadata": {},
   "outputs": [
    {
     "data": {
      "text/plain": [
       "{'Name': 'McGill University',\n",
       " 'Location': 'Montreal, Canada',\n",
       " 'Rank': '31',\n",
       " 'Overall Score': '81.9',\n",
       " 'Academic Reputation': '93.3',\n",
       " 'Employer Reputation': '93.6',\n",
       " 'Citations per Faculty': '59.6',\n",
       " 'Faculty Student Ratio': '68.9',\n",
       " 'International Students Ratio': '95.1',\n",
       " 'International Faculty Ratio': '87.6',\n",
       " 'International Research Network\\nUnweighted': '95.2',\n",
       " 'Employment Outcomes\\nUnweighted': '90'}"
      ]
     },
     "execution_count": 14,
     "metadata": {},
     "output_type": "execute_result"
    }
   ],
   "source": [
    "d={}\n",
    "d['Name']=value_head[0]\n",
    "d['Location']=loc[0]\n",
    "d['Rank']=RANK[0]\n",
    "for i in range(len(column_head)):\n",
    "    d[column_head[i]]=value[i]\n",
    "d"
   ]
  },
  {
   "cell_type": "code",
   "execution_count": 15,
   "id": "30280e27",
   "metadata": {},
   "outputs": [
    {
     "data": {
      "text/plain": [
       "'{\"Name\": \"McGill University\", \"Location\": \"Montreal, Canada\", \"Rank\": \"31\", \"Overall Score\": \"81.9\", \"Academic Reputation\": \"93.3\", \"Employer Reputation\": \"93.6\", \"Citations per Faculty\": \"59.6\", \"Faculty Student Ratio\": \"68.9\", \"International Students Ratio\": \"95.1\", \"International Faculty Ratio\": \"87.6\", \"International Research Network\\\\nUnweighted\": \"95.2\", \"Employment Outcomes\\\\nUnweighted\": \"90\"}'"
      ]
     },
     "execution_count": 15,
     "metadata": {},
     "output_type": "execute_result"
    }
   ],
   "source": [
    "s1=json.dumps(d)\n",
    "s1"
   ]
  },
  {
   "cell_type": "code",
   "execution_count": 16,
   "id": "36fbda40",
   "metadata": {},
   "outputs": [],
   "source": [
    "\n",
    "with open('McGill Universityy.json','w') as f:\n",
    "    json.dump(d,f)"
   ]
  },
  {
   "cell_type": "code",
   "execution_count": null,
   "id": "efdca769",
   "metadata": {},
   "outputs": [],
   "source": []
  },
  {
   "cell_type": "code",
   "execution_count": null,
   "id": "360cb4d2",
   "metadata": {},
   "outputs": [],
   "source": []
  }
 ],
 "metadata": {
  "kernelspec": {
   "display_name": "Python 3 (ipykernel)",
   "language": "python",
   "name": "python3"
  },
  "language_info": {
   "codemirror_mode": {
    "name": "ipython",
    "version": 3
   },
   "file_extension": ".py",
   "mimetype": "text/x-python",
   "name": "python",
   "nbconvert_exporter": "python",
   "pygments_lexer": "ipython3",
   "version": "3.9.12"
  }
 },
 "nbformat": 4,
 "nbformat_minor": 5
}
