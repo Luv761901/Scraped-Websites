{
 "cells": [
  {
   "cell_type": "code",
   "execution_count": 1,
   "id": "d4e726e6",
   "metadata": {},
   "outputs": [],
   "source": [
    "from selenium import webdriver\n",
    "from selenium.webdriver.chrome.service import Service\n",
    "import pandas as pd\n",
    "import json"
   ]
  },
  {
   "cell_type": "code",
   "execution_count": 2,
   "id": "02f864ac",
   "metadata": {},
   "outputs": [],
   "source": [
    "path = Service('C:\\chromedriver.exe')"
   ]
  },
  {
   "cell_type": "code",
   "execution_count": 3,
   "id": "93b847a6",
   "metadata": {},
   "outputs": [],
   "source": [
    "# set path for the driver\n",
    "browser = webdriver.Chrome(service = path)"
   ]
  },
  {
   "cell_type": "code",
   "execution_count": 4,
   "id": "6579fbf0",
   "metadata": {},
   "outputs": [],
   "source": [
    "url = \"https://www.topuniversities.com/university-rankings/world-university-rankings/2023\""
   ]
  },
  {
   "cell_type": "code",
   "execution_count": 5,
   "id": "2b2bdbe1",
   "metadata": {},
   "outputs": [],
   "source": [
    "# open the page url ion chrome\n",
    "browser.get(url)"
   ]
  },
  {
   "cell_type": "code",
   "execution_count": 6,
   "id": "487f0c32",
   "metadata": {},
   "outputs": [
    {
     "data": {
      "text/plain": [
       "[<selenium.webdriver.remote.webelement.WebElement (session=\"0e2cdbd5f2a6da40a3d2568d71c6906b\", element=\"f4246f20-6999-469e-b31a-36cec6e44676\")>,\n",
       " <selenium.webdriver.remote.webelement.WebElement (session=\"0e2cdbd5f2a6da40a3d2568d71c6906b\", element=\"c79192c2-3144-4bb0-8d7f-8cfc92652026\")>,\n",
       " <selenium.webdriver.remote.webelement.WebElement (session=\"0e2cdbd5f2a6da40a3d2568d71c6906b\", element=\"0323ab2d-9d2b-4124-ba55-19bf6c14386b\")>,\n",
       " <selenium.webdriver.remote.webelement.WebElement (session=\"0e2cdbd5f2a6da40a3d2568d71c6906b\", element=\"00574cfb-504b-4ee7-9b32-b8e9400f2254\")>,\n",
       " <selenium.webdriver.remote.webelement.WebElement (session=\"0e2cdbd5f2a6da40a3d2568d71c6906b\", element=\"829abc4e-f146-41b3-9bc7-b5fdd97f3ba6\")>,\n",
       " <selenium.webdriver.remote.webelement.WebElement (session=\"0e2cdbd5f2a6da40a3d2568d71c6906b\", element=\"de51947c-4ce7-48d0-aeb5-63b5e7b32fd2\")>,\n",
       " <selenium.webdriver.remote.webelement.WebElement (session=\"0e2cdbd5f2a6da40a3d2568d71c6906b\", element=\"72c360e9-1ccf-48b2-a6bf-c172d105bee1\")>,\n",
       " <selenium.webdriver.remote.webelement.WebElement (session=\"0e2cdbd5f2a6da40a3d2568d71c6906b\", element=\"c0031d2f-14a4-45f5-a619-cf6c068b558f\")>,\n",
       " <selenium.webdriver.remote.webelement.WebElement (session=\"0e2cdbd5f2a6da40a3d2568d71c6906b\", element=\"d3ce83c1-40d7-48ff-afe2-834a4162e00d\")>]"
      ]
     },
     "execution_count": 6,
     "metadata": {},
     "output_type": "execute_result"
    }
   ],
   "source": [
    "# GET EACH COLLEGE SPECIFICATION HEADERS\n",
    "header=browser.find_elements(\"xpath\",\"//div[@class='_click-function_ind']\")\n",
    "header\n"
   ]
  },
  {
   "cell_type": "code",
   "execution_count": 7,
   "id": "fecfc972",
   "metadata": {},
   "outputs": [
    {
     "data": {
      "text/plain": [
       "['Overall Score',\n",
       " 'Academic Reputation',\n",
       " 'Employer Reputation',\n",
       " 'Citations per Faculty',\n",
       " 'Faculty Student Ratio',\n",
       " 'International Students Ratio',\n",
       " 'International Faculty Ratio',\n",
       " 'International Research Network\\nUnweighted',\n",
       " 'Employment Outcomes\\nUnweighted']"
      ]
     },
     "execution_count": 7,
     "metadata": {},
     "output_type": "execute_result"
    }
   ],
   "source": [
    "#PARSING DATA\n",
    "column_head=[]\n",
    "for data in header:\n",
    "    #get the text data\n",
    "    temp=data.text\n",
    "    column_head.append(temp)\n",
    "column_head"
   ]
  },
  {
   "cell_type": "code",
   "execution_count": 8,
   "id": "2d53cf86",
   "metadata": {},
   "outputs": [
    {
     "data": {
      "text/plain": [
       "[<selenium.webdriver.remote.webelement.WebElement (session=\"0e2cdbd5f2a6da40a3d2568d71c6906b\", element=\"2264e82d-9921-4aa0-9a0b-3762245cdeab\")>,\n",
       " <selenium.webdriver.remote.webelement.WebElement (session=\"0e2cdbd5f2a6da40a3d2568d71c6906b\", element=\"2f3c1082-3217-4358-a53e-806f7c7fe83e\")>,\n",
       " <selenium.webdriver.remote.webelement.WebElement (session=\"0e2cdbd5f2a6da40a3d2568d71c6906b\", element=\"c920719e-d533-49f2-afe0-ae4ecbca1a68\")>,\n",
       " <selenium.webdriver.remote.webelement.WebElement (session=\"0e2cdbd5f2a6da40a3d2568d71c6906b\", element=\"dd4c8b21-c7c6-450c-be76-0745d2aded11\")>,\n",
       " <selenium.webdriver.remote.webelement.WebElement (session=\"0e2cdbd5f2a6da40a3d2568d71c6906b\", element=\"fbbce439-f002-4a61-8759-6f8f60e6a09d\")>,\n",
       " <selenium.webdriver.remote.webelement.WebElement (session=\"0e2cdbd5f2a6da40a3d2568d71c6906b\", element=\"200c0b6c-e17f-4218-981d-676db6ac2a9f\")>,\n",
       " <selenium.webdriver.remote.webelement.WebElement (session=\"0e2cdbd5f2a6da40a3d2568d71c6906b\", element=\"ce03a868-3be7-456d-868e-72a0f7b2c0a1\")>,\n",
       " <selenium.webdriver.remote.webelement.WebElement (session=\"0e2cdbd5f2a6da40a3d2568d71c6906b\", element=\"89853ede-c99a-4a97-9e29-c69cef875135\")>,\n",
       " <selenium.webdriver.remote.webelement.WebElement (session=\"0e2cdbd5f2a6da40a3d2568d71c6906b\", element=\"b1f063ce-1b0d-4d6b-bedb-6cb0100ca453\")>,\n",
       " <selenium.webdriver.remote.webelement.WebElement (session=\"0e2cdbd5f2a6da40a3d2568d71c6906b\", element=\"b30f71e6-c5f2-47c2-a4dd-eeea4002d667\")>,\n",
       " <selenium.webdriver.remote.webelement.WebElement (session=\"0e2cdbd5f2a6da40a3d2568d71c6906b\", element=\"aeb2e43f-7eeb-4d61-9337-5937b0c8523e\")>,\n",
       " <selenium.webdriver.remote.webelement.WebElement (session=\"0e2cdbd5f2a6da40a3d2568d71c6906b\", element=\"a82982f4-5f85-468f-8682-de1894cbd6d4\")>,\n",
       " <selenium.webdriver.remote.webelement.WebElement (session=\"0e2cdbd5f2a6da40a3d2568d71c6906b\", element=\"b1d1d1f1-a4d8-4b81-a4e2-0baf9726a9b9\")>,\n",
       " <selenium.webdriver.remote.webelement.WebElement (session=\"0e2cdbd5f2a6da40a3d2568d71c6906b\", element=\"64a3627c-18d2-42df-a7f9-b7bdf918308a\")>,\n",
       " <selenium.webdriver.remote.webelement.WebElement (session=\"0e2cdbd5f2a6da40a3d2568d71c6906b\", element=\"80fb006c-528a-43c4-a9c8-d39b37582d5c\")>,\n",
       " <selenium.webdriver.remote.webelement.WebElement (session=\"0e2cdbd5f2a6da40a3d2568d71c6906b\", element=\"37b4d824-16cf-411d-86af-815127221463\")>,\n",
       " <selenium.webdriver.remote.webelement.WebElement (session=\"0e2cdbd5f2a6da40a3d2568d71c6906b\", element=\"57785017-5117-49b6-a902-b44ed00b0f94\")>,\n",
       " <selenium.webdriver.remote.webelement.WebElement (session=\"0e2cdbd5f2a6da40a3d2568d71c6906b\", element=\"194ff935-3fe0-4ac7-a65a-c46b1e85506c\")>,\n",
       " <selenium.webdriver.remote.webelement.WebElement (session=\"0e2cdbd5f2a6da40a3d2568d71c6906b\", element=\"a25b2cb8-d8d6-497a-aeab-ee1c5e4909a9\")>,\n",
       " <selenium.webdriver.remote.webelement.WebElement (session=\"0e2cdbd5f2a6da40a3d2568d71c6906b\", element=\"9e658cf1-20c5-4dc6-a4c6-9a4564eb8847\")>,\n",
       " <selenium.webdriver.remote.webelement.WebElement (session=\"0e2cdbd5f2a6da40a3d2568d71c6906b\", element=\"66f57f41-eaa3-4178-9c35-1281be55ec94\")>,\n",
       " <selenium.webdriver.remote.webelement.WebElement (session=\"0e2cdbd5f2a6da40a3d2568d71c6906b\", element=\"44a90038-8296-4c28-b50b-608996d7d6ab\")>,\n",
       " <selenium.webdriver.remote.webelement.WebElement (session=\"0e2cdbd5f2a6da40a3d2568d71c6906b\", element=\"ef3c962f-8ca4-48dd-9abc-86de49dcaf6f\")>,\n",
       " <selenium.webdriver.remote.webelement.WebElement (session=\"0e2cdbd5f2a6da40a3d2568d71c6906b\", element=\"b197c08f-3cc8-44f7-9322-0b4e49d12642\")>,\n",
       " <selenium.webdriver.remote.webelement.WebElement (session=\"0e2cdbd5f2a6da40a3d2568d71c6906b\", element=\"6cb1fe10-743e-447d-8589-94d340caebd2\")>,\n",
       " <selenium.webdriver.remote.webelement.WebElement (session=\"0e2cdbd5f2a6da40a3d2568d71c6906b\", element=\"75e3587a-2ad9-405c-a521-0620d0e84970\")>,\n",
       " <selenium.webdriver.remote.webelement.WebElement (session=\"0e2cdbd5f2a6da40a3d2568d71c6906b\", element=\"bb8e1073-1934-4e3d-ad49-2b44ca83f4ab\")>,\n",
       " <selenium.webdriver.remote.webelement.WebElement (session=\"0e2cdbd5f2a6da40a3d2568d71c6906b\", element=\"531b8dd4-cc2d-4a8c-bcec-7a2178222ee4\")>,\n",
       " <selenium.webdriver.remote.webelement.WebElement (session=\"0e2cdbd5f2a6da40a3d2568d71c6906b\", element=\"c7f8523d-a50e-4765-bdc8-f9cad4f329f0\")>,\n",
       " <selenium.webdriver.remote.webelement.WebElement (session=\"0e2cdbd5f2a6da40a3d2568d71c6906b\", element=\"2678b5a1-2cc1-41af-a1eb-0904e298af2b\")>,\n",
       " <selenium.webdriver.remote.webelement.WebElement (session=\"0e2cdbd5f2a6da40a3d2568d71c6906b\", element=\"586eaa0c-5001-472a-a6c1-68610bc59bb5\")>,\n",
       " <selenium.webdriver.remote.webelement.WebElement (session=\"0e2cdbd5f2a6da40a3d2568d71c6906b\", element=\"35eed18e-233b-4687-aeda-e58cf494916c\")>,\n",
       " <selenium.webdriver.remote.webelement.WebElement (session=\"0e2cdbd5f2a6da40a3d2568d71c6906b\", element=\"22acf6b2-c2b4-4fcf-a02f-54cd12f86d80\")>,\n",
       " <selenium.webdriver.remote.webelement.WebElement (session=\"0e2cdbd5f2a6da40a3d2568d71c6906b\", element=\"da916083-9f08-488a-9a06-72817fdc1077\")>,\n",
       " <selenium.webdriver.remote.webelement.WebElement (session=\"0e2cdbd5f2a6da40a3d2568d71c6906b\", element=\"6e1f31a2-1734-4b6a-b6cf-e735f0e420b3\")>,\n",
       " <selenium.webdriver.remote.webelement.WebElement (session=\"0e2cdbd5f2a6da40a3d2568d71c6906b\", element=\"82a2d8b0-ca2d-46a0-aec0-91f6bb0a8d08\")>,\n",
       " <selenium.webdriver.remote.webelement.WebElement (session=\"0e2cdbd5f2a6da40a3d2568d71c6906b\", element=\"7dab3385-983f-4432-a77c-b28214698c43\")>,\n",
       " <selenium.webdriver.remote.webelement.WebElement (session=\"0e2cdbd5f2a6da40a3d2568d71c6906b\", element=\"0094c16e-4d4b-4cb5-aa96-e304152d44a8\")>,\n",
       " <selenium.webdriver.remote.webelement.WebElement (session=\"0e2cdbd5f2a6da40a3d2568d71c6906b\", element=\"d4047d5a-d85a-4abe-bc68-7e724fa436b4\")>,\n",
       " <selenium.webdriver.remote.webelement.WebElement (session=\"0e2cdbd5f2a6da40a3d2568d71c6906b\", element=\"946b3842-44dc-4e8c-8c07-97501d3f4ca5\")>,\n",
       " <selenium.webdriver.remote.webelement.WebElement (session=\"0e2cdbd5f2a6da40a3d2568d71c6906b\", element=\"d3baace4-b702-424d-8e70-6531e1eff845\")>,\n",
       " <selenium.webdriver.remote.webelement.WebElement (session=\"0e2cdbd5f2a6da40a3d2568d71c6906b\", element=\"81ab299b-a80a-4ae0-99e5-146ab034521d\")>,\n",
       " <selenium.webdriver.remote.webelement.WebElement (session=\"0e2cdbd5f2a6da40a3d2568d71c6906b\", element=\"a7a7b725-c481-478d-b78d-b119e7155f66\")>,\n",
       " <selenium.webdriver.remote.webelement.WebElement (session=\"0e2cdbd5f2a6da40a3d2568d71c6906b\", element=\"cd476e86-bcfa-4ce7-9386-c371e1774cfb\")>,\n",
       " <selenium.webdriver.remote.webelement.WebElement (session=\"0e2cdbd5f2a6da40a3d2568d71c6906b\", element=\"ad8014db-ed45-4881-87d8-d4f77fefefa9\")>,\n",
       " <selenium.webdriver.remote.webelement.WebElement (session=\"0e2cdbd5f2a6da40a3d2568d71c6906b\", element=\"cdfcb2fe-932e-4894-8d89-57cbb2864a22\")>,\n",
       " <selenium.webdriver.remote.webelement.WebElement (session=\"0e2cdbd5f2a6da40a3d2568d71c6906b\", element=\"96d29ad7-7c34-4bb2-8659-e0d2c49fbda9\")>,\n",
       " <selenium.webdriver.remote.webelement.WebElement (session=\"0e2cdbd5f2a6da40a3d2568d71c6906b\", element=\"e2afadea-ecd1-43c6-a758-de1c7511df8e\")>,\n",
       " <selenium.webdriver.remote.webelement.WebElement (session=\"0e2cdbd5f2a6da40a3d2568d71c6906b\", element=\"9e51ea15-840f-47ca-a8b9-222a0077819f\")>,\n",
       " <selenium.webdriver.remote.webelement.WebElement (session=\"0e2cdbd5f2a6da40a3d2568d71c6906b\", element=\"609511b4-ef28-45d9-8b35-42522dd94cad\")>,\n",
       " <selenium.webdriver.remote.webelement.WebElement (session=\"0e2cdbd5f2a6da40a3d2568d71c6906b\", element=\"6374877c-a162-40ba-a9b2-6adb50448f07\")>,\n",
       " <selenium.webdriver.remote.webelement.WebElement (session=\"0e2cdbd5f2a6da40a3d2568d71c6906b\", element=\"01a01eb0-a416-4f8a-98dd-b456a829e962\")>,\n",
       " <selenium.webdriver.remote.webelement.WebElement (session=\"0e2cdbd5f2a6da40a3d2568d71c6906b\", element=\"ba093294-8a69-46dd-b7b7-1985148fa980\")>,\n",
       " <selenium.webdriver.remote.webelement.WebElement (session=\"0e2cdbd5f2a6da40a3d2568d71c6906b\", element=\"0d758581-cfe1-46f3-8b0a-d8e7210c4b34\")>,\n",
       " <selenium.webdriver.remote.webelement.WebElement (session=\"0e2cdbd5f2a6da40a3d2568d71c6906b\", element=\"ae43e204-c0ec-438e-b9b6-dfa542e02a43\")>,\n",
       " <selenium.webdriver.remote.webelement.WebElement (session=\"0e2cdbd5f2a6da40a3d2568d71c6906b\", element=\"03ae0818-fd7c-46e9-b1db-4e7c605976ea\")>,\n",
       " <selenium.webdriver.remote.webelement.WebElement (session=\"0e2cdbd5f2a6da40a3d2568d71c6906b\", element=\"48942986-9ec2-4559-b273-3b374ac98dc0\")>,\n",
       " <selenium.webdriver.remote.webelement.WebElement (session=\"0e2cdbd5f2a6da40a3d2568d71c6906b\", element=\"21f6af5c-434f-44ea-9eef-f0ccd96aac0f\")>,\n",
       " <selenium.webdriver.remote.webelement.WebElement (session=\"0e2cdbd5f2a6da40a3d2568d71c6906b\", element=\"9fa546c5-03d6-4157-b7db-ec71f0ad2a3f\")>,\n",
       " <selenium.webdriver.remote.webelement.WebElement (session=\"0e2cdbd5f2a6da40a3d2568d71c6906b\", element=\"81e56de8-253b-4882-9f2c-85e42cdbd7a8\")>,\n",
       " <selenium.webdriver.remote.webelement.WebElement (session=\"0e2cdbd5f2a6da40a3d2568d71c6906b\", element=\"a558ddb8-b683-41ab-a339-cf6a5fe8c528\")>,\n",
       " <selenium.webdriver.remote.webelement.WebElement (session=\"0e2cdbd5f2a6da40a3d2568d71c6906b\", element=\"2c52e8e4-f424-491a-970b-04de1f0b1f07\")>,\n",
       " <selenium.webdriver.remote.webelement.WebElement (session=\"0e2cdbd5f2a6da40a3d2568d71c6906b\", element=\"50f46f4c-24d7-42e0-a593-287f684159e7\")>,\n",
       " <selenium.webdriver.remote.webelement.WebElement (session=\"0e2cdbd5f2a6da40a3d2568d71c6906b\", element=\"f5894b9b-027a-44fe-8263-76e40df88bb3\")>,\n",
       " <selenium.webdriver.remote.webelement.WebElement (session=\"0e2cdbd5f2a6da40a3d2568d71c6906b\", element=\"ebaf39e8-e994-4d26-a685-830e9c2ca5b0\")>,\n",
       " <selenium.webdriver.remote.webelement.WebElement (session=\"0e2cdbd5f2a6da40a3d2568d71c6906b\", element=\"eb512ba3-a84f-46d7-85c4-cac59bce178a\")>,\n",
       " <selenium.webdriver.remote.webelement.WebElement (session=\"0e2cdbd5f2a6da40a3d2568d71c6906b\", element=\"dc3c2339-c9e5-45d9-89ce-002036d1216d\")>,\n",
       " <selenium.webdriver.remote.webelement.WebElement (session=\"0e2cdbd5f2a6da40a3d2568d71c6906b\", element=\"05a05eef-4816-4ecf-8c8d-cbe5ae6f1061\")>,\n",
       " <selenium.webdriver.remote.webelement.WebElement (session=\"0e2cdbd5f2a6da40a3d2568d71c6906b\", element=\"9c281e30-7b23-447f-a0c3-bf81497791aa\")>,\n",
       " <selenium.webdriver.remote.webelement.WebElement (session=\"0e2cdbd5f2a6da40a3d2568d71c6906b\", element=\"a7ccaece-19fc-46a9-a984-9c7a7456372f\")>,\n",
       " <selenium.webdriver.remote.webelement.WebElement (session=\"0e2cdbd5f2a6da40a3d2568d71c6906b\", element=\"90f8c9fd-d848-4dea-b7cd-58d3caf98379\")>,\n",
       " <selenium.webdriver.remote.webelement.WebElement (session=\"0e2cdbd5f2a6da40a3d2568d71c6906b\", element=\"97c21288-7f06-40f6-9468-59a3af9c7283\")>,\n",
       " <selenium.webdriver.remote.webelement.WebElement (session=\"0e2cdbd5f2a6da40a3d2568d71c6906b\", element=\"c58a9f2d-80c7-44bb-8c45-bdefab6c4a15\")>,\n",
       " <selenium.webdriver.remote.webelement.WebElement (session=\"0e2cdbd5f2a6da40a3d2568d71c6906b\", element=\"596706b1-cfde-4daa-a519-675d75b9106a\")>,\n",
       " <selenium.webdriver.remote.webelement.WebElement (session=\"0e2cdbd5f2a6da40a3d2568d71c6906b\", element=\"8b31d5ab-e88b-43c2-b0f2-3ab4142fa181\")>,\n",
       " <selenium.webdriver.remote.webelement.WebElement (session=\"0e2cdbd5f2a6da40a3d2568d71c6906b\", element=\"e090e9dd-44d3-4bcb-816f-866baf7250b2\")>,\n",
       " <selenium.webdriver.remote.webelement.WebElement (session=\"0e2cdbd5f2a6da40a3d2568d71c6906b\", element=\"040fb298-2306-4d83-a251-4c8190039661\")>,\n",
       " <selenium.webdriver.remote.webelement.WebElement (session=\"0e2cdbd5f2a6da40a3d2568d71c6906b\", element=\"10767af7-f5ad-4c28-8ce4-52798067d994\")>,\n",
       " <selenium.webdriver.remote.webelement.WebElement (session=\"0e2cdbd5f2a6da40a3d2568d71c6906b\", element=\"6db529bf-2b7c-4c34-91c2-af43c13cef1d\")>,\n",
       " <selenium.webdriver.remote.webelement.WebElement (session=\"0e2cdbd5f2a6da40a3d2568d71c6906b\", element=\"f6f5e9a2-9051-49a5-a251-359870539e16\")>,\n",
       " <selenium.webdriver.remote.webelement.WebElement (session=\"0e2cdbd5f2a6da40a3d2568d71c6906b\", element=\"cf626453-e046-434c-8a05-24ea9d337bd0\")>,\n",
       " <selenium.webdriver.remote.webelement.WebElement (session=\"0e2cdbd5f2a6da40a3d2568d71c6906b\", element=\"293fba13-7066-47ab-b845-80a9796c81e1\")>,\n",
       " <selenium.webdriver.remote.webelement.WebElement (session=\"0e2cdbd5f2a6da40a3d2568d71c6906b\", element=\"ab9ec928-b871-43c8-8cdb-9d4517a4ee2a\")>,\n",
       " <selenium.webdriver.remote.webelement.WebElement (session=\"0e2cdbd5f2a6da40a3d2568d71c6906b\", element=\"86b36834-dca6-4dbc-832b-7decb6437a8d\")>,\n",
       " <selenium.webdriver.remote.webelement.WebElement (session=\"0e2cdbd5f2a6da40a3d2568d71c6906b\", element=\"c75f0415-f56a-4a83-a07a-fe553469c8c0\")>,\n",
       " <selenium.webdriver.remote.webelement.WebElement (session=\"0e2cdbd5f2a6da40a3d2568d71c6906b\", element=\"02082e44-c657-49b7-8504-abf3bbe117d8\")>,\n",
       " <selenium.webdriver.remote.webelement.WebElement (session=\"0e2cdbd5f2a6da40a3d2568d71c6906b\", element=\"d7eb88c0-259e-4daa-b615-98950694bbc9\")>,\n",
       " <selenium.webdriver.remote.webelement.WebElement (session=\"0e2cdbd5f2a6da40a3d2568d71c6906b\", element=\"47e74664-b560-4777-b286-0bc461acf9a9\")>,\n",
       " <selenium.webdriver.remote.webelement.WebElement (session=\"0e2cdbd5f2a6da40a3d2568d71c6906b\", element=\"3dc3a36c-0b8b-4871-a129-c30d73973cab\")>,\n",
       " <selenium.webdriver.remote.webelement.WebElement (session=\"0e2cdbd5f2a6da40a3d2568d71c6906b\", element=\"0c568732-d789-4618-9c70-58f43af01817\")>,\n",
       " <selenium.webdriver.remote.webelement.WebElement (session=\"0e2cdbd5f2a6da40a3d2568d71c6906b\", element=\"e69fae53-cdf0-4196-ad86-c3664ab8691f\")>,\n",
       " <selenium.webdriver.remote.webelement.WebElement (session=\"0e2cdbd5f2a6da40a3d2568d71c6906b\", element=\"bc523ec0-3cc6-4d5d-8d08-9e4080e20f15\")>,\n",
       " <selenium.webdriver.remote.webelement.WebElement (session=\"0e2cdbd5f2a6da40a3d2568d71c6906b\", element=\"c0ae9576-ef1b-452b-95da-ecee74fa29a7\")>,\n",
       " <selenium.webdriver.remote.webelement.WebElement (session=\"0e2cdbd5f2a6da40a3d2568d71c6906b\", element=\"0e65e6b8-0813-4ee1-b391-826bdd516922\")>,\n",
       " <selenium.webdriver.remote.webelement.WebElement (session=\"0e2cdbd5f2a6da40a3d2568d71c6906b\", element=\"18d9be46-6f16-4117-b1d1-14030a8b1427\")>,\n",
       " <selenium.webdriver.remote.webelement.WebElement (session=\"0e2cdbd5f2a6da40a3d2568d71c6906b\", element=\"01b973b4-742d-4b78-93dc-40501acee65c\")>,\n",
       " <selenium.webdriver.remote.webelement.WebElement (session=\"0e2cdbd5f2a6da40a3d2568d71c6906b\", element=\"f52818d8-a112-4395-ac07-282d9d478039\")>,\n",
       " <selenium.webdriver.remote.webelement.WebElement (session=\"0e2cdbd5f2a6da40a3d2568d71c6906b\", element=\"ecd3d469-2f2a-449e-9d95-fa71eba7a12f\")>,\n",
       " <selenium.webdriver.remote.webelement.WebElement (session=\"0e2cdbd5f2a6da40a3d2568d71c6906b\", element=\"f253d23a-9111-4dd9-89f3-b43a6aa9cb81\")>,\n",
       " <selenium.webdriver.remote.webelement.WebElement (session=\"0e2cdbd5f2a6da40a3d2568d71c6906b\", element=\"6b095fc4-e32d-4f3b-9516-461bd4ceebfa\")>]"
      ]
     },
     "execution_count": 8,
     "metadata": {},
     "output_type": "execute_result"
    }
   ],
   "source": [
    "header2=browser.find_elements(\"xpath\",\"//div[@class='td-wrap-in']\")\n",
    "header2"
   ]
  },
  {
   "cell_type": "code",
   "execution_count": 9,
   "id": "3f91859c",
   "metadata": {},
   "outputs": [
    {
     "data": {
      "text/plain": [
       "['81.9', '93.3', '93.6', '59.6', '68.9', '95.1', '87.6', '95.2', '90']"
      ]
     },
     "execution_count": 9,
     "metadata": {},
     "output_type": "execute_result"
    }
   ],
   "source": [
    "\n",
    "#PARSING DATA\n",
    "value_head=[]\n",
    "for data in header2:\n",
    "    #get the text data\n",
    "    temp=data.text\n",
    "    value_head.append(temp)\n",
    "value_head=value_head[1:10]\n",
    "value_head\n"
   ]
  },
  {
   "cell_type": "code",
   "execution_count": 10,
   "id": "8e7fc614",
   "metadata": {},
   "outputs": [
    {
     "data": {
      "text/plain": [
       "{'Overall Score': '81.9',\n",
       " 'Academic Reputation': '93.3',\n",
       " 'Employer Reputation': '93.6',\n",
       " 'Citations per Faculty': '59.6',\n",
       " 'Faculty Student Ratio': '68.9',\n",
       " 'International Students Ratio': '95.1',\n",
       " 'International Faculty Ratio': '87.6',\n",
       " 'International Research Network\\nUnweighted': '95.2',\n",
       " 'Employment Outcomes\\nUnweighted': '90'}"
      ]
     },
     "execution_count": 10,
     "metadata": {},
     "output_type": "execute_result"
    }
   ],
   "source": [
    "d={}\n",
    "for i in range(len(column_head)):\n",
    "    d[column_head[i]]=value_head[i]\n",
    "d"
   ]
  },
  {
   "cell_type": "code",
   "execution_count": 11,
   "id": "30280e27",
   "metadata": {},
   "outputs": [
    {
     "data": {
      "text/plain": [
       "'{\"Overall Score\": \"81.9\", \"Academic Reputation\": \"93.3\", \"Employer Reputation\": \"93.6\", \"Citations per Faculty\": \"59.6\", \"Faculty Student Ratio\": \"68.9\", \"International Students Ratio\": \"95.1\", \"International Faculty Ratio\": \"87.6\", \"International Research Network\\\\nUnweighted\": \"95.2\", \"Employment Outcomes\\\\nUnweighted\": \"90\"}'"
      ]
     },
     "execution_count": 11,
     "metadata": {},
     "output_type": "execute_result"
    }
   ],
   "source": [
    "s1=json.dumps(d)\n",
    "s1"
   ]
  },
  {
   "cell_type": "code",
   "execution_count": 12,
   "id": "36fbda40",
   "metadata": {},
   "outputs": [],
   "source": [
    "\n",
    "with open('McGill Universityy.json','w') as f:\n",
    "    json.dump(d,f)"
   ]
  },
  {
   "cell_type": "code",
   "execution_count": null,
   "id": "efdca769",
   "metadata": {},
   "outputs": [],
   "source": []
  },
  {
   "cell_type": "code",
   "execution_count": null,
   "id": "360cb4d2",
   "metadata": {},
   "outputs": [],
   "source": []
  }
 ],
 "metadata": {
  "kernelspec": {
   "display_name": "Python 3 (ipykernel)",
   "language": "python",
   "name": "python3"
  },
  "language_info": {
   "codemirror_mode": {
    "name": "ipython",
    "version": 3
   },
   "file_extension": ".py",
   "mimetype": "text/x-python",
   "name": "python",
   "nbconvert_exporter": "python",
   "pygments_lexer": "ipython3",
   "version": "3.9.12"
  }
 },
 "nbformat": 4,
 "nbformat_minor": 5
}
