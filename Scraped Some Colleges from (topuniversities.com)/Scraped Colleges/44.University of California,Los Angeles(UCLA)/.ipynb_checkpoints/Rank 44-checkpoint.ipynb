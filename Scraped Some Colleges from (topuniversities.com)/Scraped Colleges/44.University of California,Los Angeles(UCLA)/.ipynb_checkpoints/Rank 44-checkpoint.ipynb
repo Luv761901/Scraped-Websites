{
 "cells": [
  {
   "cell_type": "code",
   "execution_count": 1,
   "id": "c0fcbc09",
   "metadata": {},
   "outputs": [],
   "source": [
    "from selenium import webdriver\n",
    "from selenium.webdriver.chrome.service import Service\n",
    "import pandas as pd\n",
    "import json"
   ]
  },
  {
   "cell_type": "code",
   "execution_count": 2,
   "id": "c095f539",
   "metadata": {},
   "outputs": [],
   "source": [
    "path = Service('C:\\chromedriver.exe')"
   ]
  },
  {
   "cell_type": "code",
   "execution_count": 3,
   "id": "cb94c801",
   "metadata": {},
   "outputs": [],
   "source": [
    "# set path for the driver\n",
    "browser = webdriver.Chrome(service = path)\n"
   ]
  },
  {
   "cell_type": "code",
   "execution_count": 4,
   "id": "df25ed45",
   "metadata": {},
   "outputs": [],
   "source": [
    "url = \"https://www.topuniversities.com/university-rankings/world-university-rankings/2023\""
   ]
  },
  {
   "cell_type": "code",
   "execution_count": 5,
   "id": "869192f6",
   "metadata": {},
   "outputs": [],
   "source": [
    "# open the page url ion chrome\n",
    "browser.get(url)"
   ]
  },
  {
   "cell_type": "code",
   "execution_count": 6,
   "id": "a3be0e98",
   "metadata": {},
   "outputs": [
    {
     "data": {
      "text/plain": [
       "[<selenium.webdriver.remote.webelement.WebElement (session=\"c76eab5b2f25ca9b1936408375d09acd\", element=\"44a63f34-425d-4815-93e9-40ff1eaea9f8\")>,\n",
       " <selenium.webdriver.remote.webelement.WebElement (session=\"c76eab5b2f25ca9b1936408375d09acd\", element=\"ef6f56aa-e8b3-4dda-a198-b2f401f4634c\")>,\n",
       " <selenium.webdriver.remote.webelement.WebElement (session=\"c76eab5b2f25ca9b1936408375d09acd\", element=\"3be18b36-17d7-4581-a97d-e23561e92239\")>,\n",
       " <selenium.webdriver.remote.webelement.WebElement (session=\"c76eab5b2f25ca9b1936408375d09acd\", element=\"93364a80-2310-4e96-b0c5-451c06bdb02d\")>,\n",
       " <selenium.webdriver.remote.webelement.WebElement (session=\"c76eab5b2f25ca9b1936408375d09acd\", element=\"becef7d1-5089-4519-997b-e3b0e204ec62\")>,\n",
       " <selenium.webdriver.remote.webelement.WebElement (session=\"c76eab5b2f25ca9b1936408375d09acd\", element=\"bc3c670e-20e9-4151-b073-85bb04ea2a3f\")>,\n",
       " <selenium.webdriver.remote.webelement.WebElement (session=\"c76eab5b2f25ca9b1936408375d09acd\", element=\"bab789e2-a5ba-4050-a65b-52c7c9432d3e\")>,\n",
       " <selenium.webdriver.remote.webelement.WebElement (session=\"c76eab5b2f25ca9b1936408375d09acd\", element=\"a0c35889-1d95-4339-b00e-f242057ca8d0\")>,\n",
       " <selenium.webdriver.remote.webelement.WebElement (session=\"c76eab5b2f25ca9b1936408375d09acd\", element=\"52095889-27e2-434f-b2f5-b9f608277c27\")>]"
      ]
     },
     "execution_count": 6,
     "metadata": {},
     "output_type": "execute_result"
    }
   ],
   "source": [
    "# GET EACH COLLEGE SPECIFICATION HEADERS\n",
    "header=browser.find_elements(\"xpath\",\"//div[@class='_click-function_ind']\")\n",
    "header\n"
   ]
  },
  {
   "cell_type": "code",
   "execution_count": 7,
   "id": "326a5912",
   "metadata": {},
   "outputs": [
    {
     "data": {
      "text/plain": [
       "['Overall Score',\n",
       " 'Academic Reputation',\n",
       " 'Employer Reputation',\n",
       " 'Citations per Faculty',\n",
       " 'Faculty Student Ratio',\n",
       " 'International Students Ratio',\n",
       " 'International Faculty Ratio',\n",
       " 'International Research Network\\nUnweighted',\n",
       " 'Employment Outcomes\\nUnweighted']"
      ]
     },
     "execution_count": 7,
     "metadata": {},
     "output_type": "execute_result"
    }
   ],
   "source": [
    "#PARSING DATA\n",
    "column_head=[]\n",
    "for data in header:\n",
    "    #get the text data\n",
    "    temp=data.text\n",
    "    column_head.append(temp)\n",
    "column_head\n"
   ]
  },
  {
   "cell_type": "code",
   "execution_count": 8,
   "id": "f3469b3f",
   "metadata": {},
   "outputs": [
    {
     "data": {
      "text/plain": [
       "[<selenium.webdriver.remote.webelement.WebElement (session=\"c76eab5b2f25ca9b1936408375d09acd\", element=\"9ff4edfd-b12c-4b35-9a27-261c73682c6b\")>,\n",
       " <selenium.webdriver.remote.webelement.WebElement (session=\"c76eab5b2f25ca9b1936408375d09acd\", element=\"18809b6b-1e6d-4fa6-972b-3b7db5f1c3cf\")>,\n",
       " <selenium.webdriver.remote.webelement.WebElement (session=\"c76eab5b2f25ca9b1936408375d09acd\", element=\"a56dabb6-903c-4ac2-b9e5-fc23355469ed\")>,\n",
       " <selenium.webdriver.remote.webelement.WebElement (session=\"c76eab5b2f25ca9b1936408375d09acd\", element=\"4cb0c0b8-e64b-40cd-a97b-b7fd42cd02ae\")>,\n",
       " <selenium.webdriver.remote.webelement.WebElement (session=\"c76eab5b2f25ca9b1936408375d09acd\", element=\"72ebe362-9419-462d-8c45-6bcc4ec814f6\")>,\n",
       " <selenium.webdriver.remote.webelement.WebElement (session=\"c76eab5b2f25ca9b1936408375d09acd\", element=\"9a942e96-031d-488d-92a8-e849c9d80d00\")>,\n",
       " <selenium.webdriver.remote.webelement.WebElement (session=\"c76eab5b2f25ca9b1936408375d09acd\", element=\"d1771649-d930-419f-bd46-db7f26fbb8d8\")>,\n",
       " <selenium.webdriver.remote.webelement.WebElement (session=\"c76eab5b2f25ca9b1936408375d09acd\", element=\"f67c0e86-29f9-4c93-a216-a8b3353bf036\")>,\n",
       " <selenium.webdriver.remote.webelement.WebElement (session=\"c76eab5b2f25ca9b1936408375d09acd\", element=\"c607ad57-2cf6-407d-b0d0-98438ba40f6c\")>,\n",
       " <selenium.webdriver.remote.webelement.WebElement (session=\"c76eab5b2f25ca9b1936408375d09acd\", element=\"20c06f2d-a84e-4e21-96ee-b636f7378bc4\")>,\n",
       " <selenium.webdriver.remote.webelement.WebElement (session=\"c76eab5b2f25ca9b1936408375d09acd\", element=\"4a08d0c9-2f22-4733-8703-26fee056c5c9\")>,\n",
       " <selenium.webdriver.remote.webelement.WebElement (session=\"c76eab5b2f25ca9b1936408375d09acd\", element=\"05caf47e-1aa2-4aeb-8f40-010e4dacc3fe\")>,\n",
       " <selenium.webdriver.remote.webelement.WebElement (session=\"c76eab5b2f25ca9b1936408375d09acd\", element=\"5449d0cb-860e-44af-b783-d46fbbd9e644\")>,\n",
       " <selenium.webdriver.remote.webelement.WebElement (session=\"c76eab5b2f25ca9b1936408375d09acd\", element=\"7739d25d-507b-4744-a061-3c3577f374d4\")>,\n",
       " <selenium.webdriver.remote.webelement.WebElement (session=\"c76eab5b2f25ca9b1936408375d09acd\", element=\"5719f066-1f59-4889-ba57-f831c1a8149e\")>,\n",
       " <selenium.webdriver.remote.webelement.WebElement (session=\"c76eab5b2f25ca9b1936408375d09acd\", element=\"cda39a24-0d34-4cdd-9ce8-e18975f54ef7\")>,\n",
       " <selenium.webdriver.remote.webelement.WebElement (session=\"c76eab5b2f25ca9b1936408375d09acd\", element=\"353dc7e7-08e4-4c57-ba21-9f3b85068a40\")>,\n",
       " <selenium.webdriver.remote.webelement.WebElement (session=\"c76eab5b2f25ca9b1936408375d09acd\", element=\"335cae95-85a1-4318-a3de-0532fe6662a1\")>,\n",
       " <selenium.webdriver.remote.webelement.WebElement (session=\"c76eab5b2f25ca9b1936408375d09acd\", element=\"a4275812-4b0b-433c-9c39-c8c848d1b80d\")>,\n",
       " <selenium.webdriver.remote.webelement.WebElement (session=\"c76eab5b2f25ca9b1936408375d09acd\", element=\"1c18d819-5a6c-407f-b0b2-95b0039186bd\")>,\n",
       " <selenium.webdriver.remote.webelement.WebElement (session=\"c76eab5b2f25ca9b1936408375d09acd\", element=\"c0593b9d-4fe8-416b-a18c-aa25e00c1537\")>,\n",
       " <selenium.webdriver.remote.webelement.WebElement (session=\"c76eab5b2f25ca9b1936408375d09acd\", element=\"81e2a37c-f5f0-47be-a0fb-6ddae6fd0bbf\")>,\n",
       " <selenium.webdriver.remote.webelement.WebElement (session=\"c76eab5b2f25ca9b1936408375d09acd\", element=\"36e9b057-051e-4991-9efc-4e1db2cff5bb\")>,\n",
       " <selenium.webdriver.remote.webelement.WebElement (session=\"c76eab5b2f25ca9b1936408375d09acd\", element=\"6eda06ed-7052-4d77-b3e9-382a4f8bd506\")>,\n",
       " <selenium.webdriver.remote.webelement.WebElement (session=\"c76eab5b2f25ca9b1936408375d09acd\", element=\"fdec26e8-7305-46bf-9ca2-e5a904f724aa\")>,\n",
       " <selenium.webdriver.remote.webelement.WebElement (session=\"c76eab5b2f25ca9b1936408375d09acd\", element=\"9e0f4b60-34f1-428b-8f46-8bba5905568a\")>,\n",
       " <selenium.webdriver.remote.webelement.WebElement (session=\"c76eab5b2f25ca9b1936408375d09acd\", element=\"fe7c6956-4145-4ba0-8736-f0ca1cfee88f\")>,\n",
       " <selenium.webdriver.remote.webelement.WebElement (session=\"c76eab5b2f25ca9b1936408375d09acd\", element=\"48c1877c-0974-4600-ab80-568ea1780a59\")>,\n",
       " <selenium.webdriver.remote.webelement.WebElement (session=\"c76eab5b2f25ca9b1936408375d09acd\", element=\"3abee224-a6bf-409a-8af8-4a170ddfa055\")>,\n",
       " <selenium.webdriver.remote.webelement.WebElement (session=\"c76eab5b2f25ca9b1936408375d09acd\", element=\"3ec75b4d-19d0-46b9-aaa6-fb65a717c82c\")>,\n",
       " <selenium.webdriver.remote.webelement.WebElement (session=\"c76eab5b2f25ca9b1936408375d09acd\", element=\"c05e1550-2b9b-40a4-aa43-0093c2a4f10c\")>,\n",
       " <selenium.webdriver.remote.webelement.WebElement (session=\"c76eab5b2f25ca9b1936408375d09acd\", element=\"d7d3644b-e391-413c-92ed-314d381dffb7\")>,\n",
       " <selenium.webdriver.remote.webelement.WebElement (session=\"c76eab5b2f25ca9b1936408375d09acd\", element=\"8362ace4-1493-40a6-8131-d39388036cc0\")>,\n",
       " <selenium.webdriver.remote.webelement.WebElement (session=\"c76eab5b2f25ca9b1936408375d09acd\", element=\"ac1dbe71-dc0e-4789-9bea-e4a1e842d08a\")>,\n",
       " <selenium.webdriver.remote.webelement.WebElement (session=\"c76eab5b2f25ca9b1936408375d09acd\", element=\"9ed064d1-4360-488a-8584-2497f2ba9223\")>,\n",
       " <selenium.webdriver.remote.webelement.WebElement (session=\"c76eab5b2f25ca9b1936408375d09acd\", element=\"e7cf31de-37b4-4ab6-91bf-f2828b7ef4bd\")>,\n",
       " <selenium.webdriver.remote.webelement.WebElement (session=\"c76eab5b2f25ca9b1936408375d09acd\", element=\"38b43495-eb63-4d09-97d4-31bd2259f3be\")>,\n",
       " <selenium.webdriver.remote.webelement.WebElement (session=\"c76eab5b2f25ca9b1936408375d09acd\", element=\"6cb868e7-c2ce-440d-9814-e1bbfb0a65dc\")>,\n",
       " <selenium.webdriver.remote.webelement.WebElement (session=\"c76eab5b2f25ca9b1936408375d09acd\", element=\"326a6909-7911-4829-9fa7-22a41e3a3c76\")>,\n",
       " <selenium.webdriver.remote.webelement.WebElement (session=\"c76eab5b2f25ca9b1936408375d09acd\", element=\"fc4704f2-e29f-400a-a1b0-4a9636734e17\")>,\n",
       " <selenium.webdriver.remote.webelement.WebElement (session=\"c76eab5b2f25ca9b1936408375d09acd\", element=\"c1b97ade-2441-49aa-b7fe-e3d23ecf5faf\")>,\n",
       " <selenium.webdriver.remote.webelement.WebElement (session=\"c76eab5b2f25ca9b1936408375d09acd\", element=\"4a50f031-f798-4f55-aac1-1f9dd7ac94b5\")>,\n",
       " <selenium.webdriver.remote.webelement.WebElement (session=\"c76eab5b2f25ca9b1936408375d09acd\", element=\"537932f2-c20f-4d92-8008-aa976540b6ab\")>,\n",
       " <selenium.webdriver.remote.webelement.WebElement (session=\"c76eab5b2f25ca9b1936408375d09acd\", element=\"0b6cf928-60d0-463f-ad1a-bf31251ccd01\")>,\n",
       " <selenium.webdriver.remote.webelement.WebElement (session=\"c76eab5b2f25ca9b1936408375d09acd\", element=\"a1ab9d98-184e-416d-b36c-d5c95202fa33\")>,\n",
       " <selenium.webdriver.remote.webelement.WebElement (session=\"c76eab5b2f25ca9b1936408375d09acd\", element=\"6682ea38-e2e2-488b-b335-0cee52f181e7\")>,\n",
       " <selenium.webdriver.remote.webelement.WebElement (session=\"c76eab5b2f25ca9b1936408375d09acd\", element=\"47390974-2d58-4de6-9085-7185a5217c16\")>,\n",
       " <selenium.webdriver.remote.webelement.WebElement (session=\"c76eab5b2f25ca9b1936408375d09acd\", element=\"989a8e06-fa53-465a-9566-7b0af1f4b521\")>,\n",
       " <selenium.webdriver.remote.webelement.WebElement (session=\"c76eab5b2f25ca9b1936408375d09acd\", element=\"e8e074a0-937d-45a2-b439-d2627fecd187\")>,\n",
       " <selenium.webdriver.remote.webelement.WebElement (session=\"c76eab5b2f25ca9b1936408375d09acd\", element=\"3034f4f1-d6fb-45bb-b910-36d61815b068\")>,\n",
       " <selenium.webdriver.remote.webelement.WebElement (session=\"c76eab5b2f25ca9b1936408375d09acd\", element=\"319261ca-dcb9-42ea-94ad-43450176d524\")>,\n",
       " <selenium.webdriver.remote.webelement.WebElement (session=\"c76eab5b2f25ca9b1936408375d09acd\", element=\"49690612-ab01-4052-800d-440fa5e23f4b\")>,\n",
       " <selenium.webdriver.remote.webelement.WebElement (session=\"c76eab5b2f25ca9b1936408375d09acd\", element=\"3f4b001f-a3c2-4b56-ae26-0a6263ac2ffd\")>,\n",
       " <selenium.webdriver.remote.webelement.WebElement (session=\"c76eab5b2f25ca9b1936408375d09acd\", element=\"c1963010-357d-493c-a388-f61bdc5c59f8\")>,\n",
       " <selenium.webdriver.remote.webelement.WebElement (session=\"c76eab5b2f25ca9b1936408375d09acd\", element=\"cf678795-ddfc-4c85-beaf-7a86981317c2\")>,\n",
       " <selenium.webdriver.remote.webelement.WebElement (session=\"c76eab5b2f25ca9b1936408375d09acd\", element=\"f85518bf-a504-45a4-ba4e-8bbdc663787c\")>,\n",
       " <selenium.webdriver.remote.webelement.WebElement (session=\"c76eab5b2f25ca9b1936408375d09acd\", element=\"2333de67-5499-4800-8eef-3320b790951f\")>,\n",
       " <selenium.webdriver.remote.webelement.WebElement (session=\"c76eab5b2f25ca9b1936408375d09acd\", element=\"fc8eee76-ea15-49bd-a37d-f8122be47c89\")>,\n",
       " <selenium.webdriver.remote.webelement.WebElement (session=\"c76eab5b2f25ca9b1936408375d09acd\", element=\"7a0decd2-24f6-4db7-abab-3788c3c326d8\")>,\n",
       " <selenium.webdriver.remote.webelement.WebElement (session=\"c76eab5b2f25ca9b1936408375d09acd\", element=\"062df6fa-37a8-40e2-8a82-003ada6c2d01\")>,\n",
       " <selenium.webdriver.remote.webelement.WebElement (session=\"c76eab5b2f25ca9b1936408375d09acd\", element=\"02c051e3-8ee8-4a7f-9e65-473719aa44ad\")>,\n",
       " <selenium.webdriver.remote.webelement.WebElement (session=\"c76eab5b2f25ca9b1936408375d09acd\", element=\"0cd894cc-8401-40f8-a0d7-df993e571da6\")>,\n",
       " <selenium.webdriver.remote.webelement.WebElement (session=\"c76eab5b2f25ca9b1936408375d09acd\", element=\"34a8d4bf-cdfb-479f-944d-8e774cb07b19\")>,\n",
       " <selenium.webdriver.remote.webelement.WebElement (session=\"c76eab5b2f25ca9b1936408375d09acd\", element=\"1c803b59-2ffe-4f88-a7a2-f2ed2141ed4e\")>,\n",
       " <selenium.webdriver.remote.webelement.WebElement (session=\"c76eab5b2f25ca9b1936408375d09acd\", element=\"a652612e-dd4a-4499-b393-6730e0cb5bc7\")>,\n",
       " <selenium.webdriver.remote.webelement.WebElement (session=\"c76eab5b2f25ca9b1936408375d09acd\", element=\"f36d8398-4e4d-44b4-a1e7-1a4ac3bbb4f0\")>,\n",
       " <selenium.webdriver.remote.webelement.WebElement (session=\"c76eab5b2f25ca9b1936408375d09acd\", element=\"2f9cc489-fd34-4d31-a4d9-2f4ea2cde379\")>,\n",
       " <selenium.webdriver.remote.webelement.WebElement (session=\"c76eab5b2f25ca9b1936408375d09acd\", element=\"5efc1602-341e-486d-8b1b-059d5a64ef45\")>,\n",
       " <selenium.webdriver.remote.webelement.WebElement (session=\"c76eab5b2f25ca9b1936408375d09acd\", element=\"18d1e668-e8d4-40d1-8b59-54b7939e0898\")>,\n",
       " <selenium.webdriver.remote.webelement.WebElement (session=\"c76eab5b2f25ca9b1936408375d09acd\", element=\"8bae0ce9-89c4-42b5-ae7b-3e3c22271b65\")>,\n",
       " <selenium.webdriver.remote.webelement.WebElement (session=\"c76eab5b2f25ca9b1936408375d09acd\", element=\"16c88ba7-e169-4ed0-91b8-6c41d6ac0a5c\")>,\n",
       " <selenium.webdriver.remote.webelement.WebElement (session=\"c76eab5b2f25ca9b1936408375d09acd\", element=\"f059789b-d54c-4b1a-8c3b-35e17e664887\")>,\n",
       " <selenium.webdriver.remote.webelement.WebElement (session=\"c76eab5b2f25ca9b1936408375d09acd\", element=\"b6582623-57bf-41ff-ba5e-a42920720a6e\")>,\n",
       " <selenium.webdriver.remote.webelement.WebElement (session=\"c76eab5b2f25ca9b1936408375d09acd\", element=\"841eca6b-2930-4451-82d3-41e4c5247cab\")>,\n",
       " <selenium.webdriver.remote.webelement.WebElement (session=\"c76eab5b2f25ca9b1936408375d09acd\", element=\"0ffc442d-4973-4445-8d16-4e9a8c03d764\")>,\n",
       " <selenium.webdriver.remote.webelement.WebElement (session=\"c76eab5b2f25ca9b1936408375d09acd\", element=\"407ba875-8d22-479e-b618-9f9d8beb0713\")>,\n",
       " <selenium.webdriver.remote.webelement.WebElement (session=\"c76eab5b2f25ca9b1936408375d09acd\", element=\"afb08c8b-d172-44d9-b4c3-1f4b9171f6d0\")>,\n",
       " <selenium.webdriver.remote.webelement.WebElement (session=\"c76eab5b2f25ca9b1936408375d09acd\", element=\"cb982be1-9788-49db-bad4-4e72c25ce2ba\")>,\n",
       " <selenium.webdriver.remote.webelement.WebElement (session=\"c76eab5b2f25ca9b1936408375d09acd\", element=\"9ce9e4b0-b98d-4f97-8fb6-03e708ad1a4a\")>,\n",
       " <selenium.webdriver.remote.webelement.WebElement (session=\"c76eab5b2f25ca9b1936408375d09acd\", element=\"0f994013-d56c-4e50-947f-6f9981e6d74b\")>,\n",
       " <selenium.webdriver.remote.webelement.WebElement (session=\"c76eab5b2f25ca9b1936408375d09acd\", element=\"ea6dd8a6-5e57-46f8-b7bd-6569e371d3b9\")>,\n",
       " <selenium.webdriver.remote.webelement.WebElement (session=\"c76eab5b2f25ca9b1936408375d09acd\", element=\"cc9564fd-29b4-497d-9d37-0531d1f43b8c\")>,\n",
       " <selenium.webdriver.remote.webelement.WebElement (session=\"c76eab5b2f25ca9b1936408375d09acd\", element=\"ff26597d-151d-4449-aa18-c4ba128a0f94\")>,\n",
       " <selenium.webdriver.remote.webelement.WebElement (session=\"c76eab5b2f25ca9b1936408375d09acd\", element=\"a115b7cf-7369-4136-95f9-3c0ea24a287e\")>,\n",
       " <selenium.webdriver.remote.webelement.WebElement (session=\"c76eab5b2f25ca9b1936408375d09acd\", element=\"ee139c8d-cb5f-4c3a-b4fc-cdc8daec44e7\")>,\n",
       " <selenium.webdriver.remote.webelement.WebElement (session=\"c76eab5b2f25ca9b1936408375d09acd\", element=\"e250effc-ebf3-432f-84d1-56bfc94944bc\")>,\n",
       " <selenium.webdriver.remote.webelement.WebElement (session=\"c76eab5b2f25ca9b1936408375d09acd\", element=\"83b2ced6-b4cc-4598-b707-5d6a0468b6d0\")>,\n",
       " <selenium.webdriver.remote.webelement.WebElement (session=\"c76eab5b2f25ca9b1936408375d09acd\", element=\"3e53e8b2-da0b-4da9-abb1-8d253a7d66d8\")>,\n",
       " <selenium.webdriver.remote.webelement.WebElement (session=\"c76eab5b2f25ca9b1936408375d09acd\", element=\"dce5916f-9131-41a7-9c76-6ebb88837844\")>,\n",
       " <selenium.webdriver.remote.webelement.WebElement (session=\"c76eab5b2f25ca9b1936408375d09acd\", element=\"ed32e441-470a-4a2f-8447-355b8bb5500a\")>,\n",
       " <selenium.webdriver.remote.webelement.WebElement (session=\"c76eab5b2f25ca9b1936408375d09acd\", element=\"ae421aa3-1954-47b2-bd2f-86bf1a0932f5\")>,\n",
       " <selenium.webdriver.remote.webelement.WebElement (session=\"c76eab5b2f25ca9b1936408375d09acd\", element=\"b9f2ee7a-39c0-4c12-824e-bc7f50d8d31d\")>,\n",
       " <selenium.webdriver.remote.webelement.WebElement (session=\"c76eab5b2f25ca9b1936408375d09acd\", element=\"7b6c051c-d287-4e82-bc82-32cbbe59cff0\")>,\n",
       " <selenium.webdriver.remote.webelement.WebElement (session=\"c76eab5b2f25ca9b1936408375d09acd\", element=\"d32cb43e-ddb2-44c1-b34d-e5b4550521ca\")>,\n",
       " <selenium.webdriver.remote.webelement.WebElement (session=\"c76eab5b2f25ca9b1936408375d09acd\", element=\"95eb1be1-554f-42e0-8239-31cd9a12082d\")>,\n",
       " <selenium.webdriver.remote.webelement.WebElement (session=\"c76eab5b2f25ca9b1936408375d09acd\", element=\"29970682-bef7-48be-8312-653e80087681\")>,\n",
       " <selenium.webdriver.remote.webelement.WebElement (session=\"c76eab5b2f25ca9b1936408375d09acd\", element=\"51427755-80c0-42fe-9e21-29162d4e9390\")>,\n",
       " <selenium.webdriver.remote.webelement.WebElement (session=\"c76eab5b2f25ca9b1936408375d09acd\", element=\"a5104729-71d4-4781-ab75-799133c9fa76\")>,\n",
       " <selenium.webdriver.remote.webelement.WebElement (session=\"c76eab5b2f25ca9b1936408375d09acd\", element=\"a9220db5-7762-407b-bee6-3eb8f0addd12\")>,\n",
       " <selenium.webdriver.remote.webelement.WebElement (session=\"c76eab5b2f25ca9b1936408375d09acd\", element=\"932bb29b-b505-4eb2-96f2-01e2311f9044\")>]"
      ]
     },
     "execution_count": 8,
     "metadata": {},
     "output_type": "execute_result"
    }
   ],
   "source": [
    "\n",
    "header2=browser.find_elements(\"xpath\",\"//div[@class='td-wrap-in']\")\n",
    "header2\n"
   ]
  },
  {
   "cell_type": "code",
   "execution_count": 9,
   "id": "43377297",
   "metadata": {},
   "outputs": [
    {
     "data": {
      "text/plain": [
       "['78.7', '100', '99.9', '85.9', '37.7', '27.5', '45.1', '96.3', '98']"
      ]
     },
     "execution_count": 9,
     "metadata": {},
     "output_type": "execute_result"
    }
   ],
   "source": [
    "#PARSING DATA\n",
    "value_head=[]\n",
    "for data in header2:\n",
    "    #get the text data\n",
    "    temp=data.text\n",
    "    value_head.append(temp)\n",
    "value_head=value_head[31:40]\n",
    "value_head"
   ]
  },
  {
   "cell_type": "code",
   "execution_count": 10,
   "id": "dccb8436",
   "metadata": {},
   "outputs": [
    {
     "data": {
      "text/plain": [
       "{'Overall Score': '78.7',\n",
       " 'Academic Reputation': '100',\n",
       " 'Employer Reputation': '99.9',\n",
       " 'Citations per Faculty': '85.9',\n",
       " 'Faculty Student Ratio': '37.7',\n",
       " 'International Students Ratio': '27.5',\n",
       " 'International Faculty Ratio': '45.1',\n",
       " 'International Research Network\\nUnweighted': '96.3',\n",
       " 'Employment Outcomes\\nUnweighted': '98'}"
      ]
     },
     "execution_count": 10,
     "metadata": {},
     "output_type": "execute_result"
    }
   ],
   "source": [
    "d={}\n",
    "for i in range(len(column_head)):\n",
    "    d[column_head[i]]=value_head[i]\n",
    "d\n"
   ]
  },
  {
   "cell_type": "code",
   "execution_count": 11,
   "id": "df7a0427",
   "metadata": {},
   "outputs": [
    {
     "data": {
      "text/plain": [
       "'{\"Overall Score\": \"78.7\", \"Academic Reputation\": \"100\", \"Employer Reputation\": \"99.9\", \"Citations per Faculty\": \"85.9\", \"Faculty Student Ratio\": \"37.7\", \"International Students Ratio\": \"27.5\", \"International Faculty Ratio\": \"45.1\", \"International Research Network\\\\nUnweighted\": \"96.3\", \"Employment Outcomes\\\\nUnweighted\": \"98\"}'"
      ]
     },
     "execution_count": 11,
     "metadata": {},
     "output_type": "execute_result"
    }
   ],
   "source": [
    "s1=json.dumps(d)\n",
    "s1\n"
   ]
  },
  {
   "cell_type": "code",
   "execution_count": 12,
   "id": "4b44d880",
   "metadata": {},
   "outputs": [],
   "source": [
    "with open('University of California, Los Angeles (UCLA).json','w') as f:\n",
    "    json.dump(d,f)"
   ]
  },
  {
   "cell_type": "code",
   "execution_count": null,
   "id": "1dd922be",
   "metadata": {},
   "outputs": [],
   "source": []
  }
 ],
 "metadata": {
  "kernelspec": {
   "display_name": "Python 3 (ipykernel)",
   "language": "python",
   "name": "python3"
  },
  "language_info": {
   "codemirror_mode": {
    "name": "ipython",
    "version": 3
   },
   "file_extension": ".py",
   "mimetype": "text/x-python",
   "name": "python",
   "nbconvert_exporter": "python",
   "pygments_lexer": "ipython3",
   "version": "3.9.12"
  }
 },
 "nbformat": 4,
 "nbformat_minor": 5
}
