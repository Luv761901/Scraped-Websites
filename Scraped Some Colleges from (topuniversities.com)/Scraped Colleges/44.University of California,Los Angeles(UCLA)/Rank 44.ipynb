{
 "cells": [
  {
   "cell_type": "code",
   "execution_count": 1,
   "id": "c0fcbc09",
   "metadata": {},
   "outputs": [],
   "source": [
    "from selenium import webdriver\n",
    "from selenium.webdriver.chrome.service import Service\n",
    "import pandas as pd\n",
    "import json"
   ]
  },
  {
   "cell_type": "code",
   "execution_count": 2,
   "id": "c095f539",
   "metadata": {},
   "outputs": [],
   "source": [
    "path = Service('C:\\chromedriver.exe')"
   ]
  },
  {
   "cell_type": "code",
   "execution_count": 3,
   "id": "cb94c801",
   "metadata": {},
   "outputs": [],
   "source": [
    "# set path for the driver\n",
    "browser = webdriver.Chrome(service = path)\n"
   ]
  },
  {
   "cell_type": "code",
   "execution_count": 4,
   "id": "df25ed45",
   "metadata": {},
   "outputs": [],
   "source": [
    "url = \"https://www.topuniversities.com/university-rankings/world-university-rankings/2023\""
   ]
  },
  {
   "cell_type": "code",
   "execution_count": 5,
   "id": "869192f6",
   "metadata": {},
   "outputs": [],
   "source": [
    "# open the page url ion chrome\n",
    "browser.get(url)"
   ]
  },
  {
   "cell_type": "code",
   "execution_count": 6,
   "id": "63d77cf2",
   "metadata": {},
   "outputs": [
    {
     "data": {
      "text/plain": [
       "[<selenium.webdriver.remote.webelement.WebElement (session=\"ee2582f459f83668f7be756211bc0133\", element=\"8f01b285-9e42-41b7-8c16-d82c5932caa4\")>,\n",
       " <selenium.webdriver.remote.webelement.WebElement (session=\"ee2582f459f83668f7be756211bc0133\", element=\"16d5e8b6-6c21-4ed1-9e73-a543ec69094d\")>,\n",
       " <selenium.webdriver.remote.webelement.WebElement (session=\"ee2582f459f83668f7be756211bc0133\", element=\"ed9e40ff-fda2-487d-8c12-9174f8dd975d\")>,\n",
       " <selenium.webdriver.remote.webelement.WebElement (session=\"ee2582f459f83668f7be756211bc0133\", element=\"3fd140ad-c1d0-4007-89d6-50d2a4cfcb1e\")>,\n",
       " <selenium.webdriver.remote.webelement.WebElement (session=\"ee2582f459f83668f7be756211bc0133\", element=\"c9b24475-21b6-46ab-9628-55a79464e4a8\")>,\n",
       " <selenium.webdriver.remote.webelement.WebElement (session=\"ee2582f459f83668f7be756211bc0133\", element=\"4916cb0c-1242-4134-af47-ac75009d1dfb\")>,\n",
       " <selenium.webdriver.remote.webelement.WebElement (session=\"ee2582f459f83668f7be756211bc0133\", element=\"6abd08b4-6ab4-4222-a90f-7241163b0135\")>,\n",
       " <selenium.webdriver.remote.webelement.WebElement (session=\"ee2582f459f83668f7be756211bc0133\", element=\"d31cf208-e2a7-44d3-a7d5-b9802b0503ec\")>,\n",
       " <selenium.webdriver.remote.webelement.WebElement (session=\"ee2582f459f83668f7be756211bc0133\", element=\"1d534024-9211-44e9-8ebd-bf10a65de1f6\")>,\n",
       " <selenium.webdriver.remote.webelement.WebElement (session=\"ee2582f459f83668f7be756211bc0133\", element=\"6c6bec2a-d649-415a-8120-0061e1373c93\")>,\n",
       " <selenium.webdriver.remote.webelement.WebElement (session=\"ee2582f459f83668f7be756211bc0133\", element=\"3edc0b79-5318-4559-8612-7db5d0a1c583\")>,\n",
       " <selenium.webdriver.remote.webelement.WebElement (session=\"ee2582f459f83668f7be756211bc0133\", element=\"de6c08af-e994-47c7-977b-74cdbda21802\")>,\n",
       " <selenium.webdriver.remote.webelement.WebElement (session=\"ee2582f459f83668f7be756211bc0133\", element=\"d43e01ea-fb75-4b41-afe5-06dadca2bf6d\")>,\n",
       " <selenium.webdriver.remote.webelement.WebElement (session=\"ee2582f459f83668f7be756211bc0133\", element=\"1378876d-d5c2-4206-a37c-a206a167db84\")>,\n",
       " <selenium.webdriver.remote.webelement.WebElement (session=\"ee2582f459f83668f7be756211bc0133\", element=\"c1d9f2c7-34f9-46ff-803f-b339d07876dd\")>,\n",
       " <selenium.webdriver.remote.webelement.WebElement (session=\"ee2582f459f83668f7be756211bc0133\", element=\"05a4dfdc-5d5d-4230-9bd0-c511cfad9a2c\")>,\n",
       " <selenium.webdriver.remote.webelement.WebElement (session=\"ee2582f459f83668f7be756211bc0133\", element=\"bd6b3f10-6c03-49a1-914e-f310dc561b20\")>,\n",
       " <selenium.webdriver.remote.webelement.WebElement (session=\"ee2582f459f83668f7be756211bc0133\", element=\"45c48299-31a9-4f9a-bd1e-fdf771637e0c\")>,\n",
       " <selenium.webdriver.remote.webelement.WebElement (session=\"ee2582f459f83668f7be756211bc0133\", element=\"ce96e12d-cf59-47f4-934c-f593b0d39027\")>,\n",
       " <selenium.webdriver.remote.webelement.WebElement (session=\"ee2582f459f83668f7be756211bc0133\", element=\"1d36f7d2-a361-43b6-b440-5ab75795fb3d\")>]"
      ]
     },
     "execution_count": 6,
     "metadata": {},
     "output_type": "execute_result"
    }
   ],
   "source": [
    "l1=browser.find_elements(\"xpath\",\"//div[@class='location ']\")\n",
    "l1\n"
   ]
  },
  {
   "cell_type": "code",
   "execution_count": 7,
   "id": "34762f92",
   "metadata": {},
   "outputs": [
    {
     "data": {
      "text/plain": [
       "['Sydney, Australia',\n",
       " 'Daejeon, South Korea',\n",
       " 'Hangzhou, China (Mainland)',\n",
       " 'Los Angeles, United States',\n",
       " 'Sydney, Australia',\n",
       " 'Shanghai, China (Mainland)',\n",
       " 'Vancouver, Canada',\n",
       " 'Palaiseau Cedex, France',\n",
       " 'Munich, Germany',\n",
       " 'Durham, United States']"
      ]
     },
     "execution_count": 7,
     "metadata": {},
     "output_type": "execute_result"
    }
   ],
   "source": [
    "loc=[]\n",
    "for data in l1:\n",
    "    #get the text data\n",
    "    temp=data.text\n",
    "    loc.append(temp)\n",
    "loc=loc[10:]\n",
    "loc"
   ]
  },
  {
   "cell_type": "code",
   "execution_count": 8,
   "id": "e9d112dd",
   "metadata": {},
   "outputs": [
    {
     "data": {
      "text/plain": [
       "[<selenium.webdriver.remote.webelement.WebElement (session=\"ee2582f459f83668f7be756211bc0133\", element=\"30e14b8b-a104-48fe-b29d-22b1bc89f033\")>,\n",
       " <selenium.webdriver.remote.webelement.WebElement (session=\"ee2582f459f83668f7be756211bc0133\", element=\"37ef529b-9fbc-40dd-8aab-e6b48124a52a\")>,\n",
       " <selenium.webdriver.remote.webelement.WebElement (session=\"ee2582f459f83668f7be756211bc0133\", element=\"f511adc6-29f6-4009-a482-248bc2d32c2d\")>,\n",
       " <selenium.webdriver.remote.webelement.WebElement (session=\"ee2582f459f83668f7be756211bc0133\", element=\"86343364-d14d-4739-82a3-b0c3ac02b09e\")>,\n",
       " <selenium.webdriver.remote.webelement.WebElement (session=\"ee2582f459f83668f7be756211bc0133\", element=\"18865747-d57b-4152-94e2-fd977eef8399\")>,\n",
       " <selenium.webdriver.remote.webelement.WebElement (session=\"ee2582f459f83668f7be756211bc0133\", element=\"60f362b3-0301-46ce-a42c-e7db6f327d6e\")>,\n",
       " <selenium.webdriver.remote.webelement.WebElement (session=\"ee2582f459f83668f7be756211bc0133\", element=\"d6b286f6-0e4d-4044-9c8d-c942fee2ad22\")>,\n",
       " <selenium.webdriver.remote.webelement.WebElement (session=\"ee2582f459f83668f7be756211bc0133\", element=\"f4df4e74-b66f-439f-950a-1ba69f2fb00d\")>,\n",
       " <selenium.webdriver.remote.webelement.WebElement (session=\"ee2582f459f83668f7be756211bc0133\", element=\"a04b7353-b528-450d-b458-23fd10477edc\")>,\n",
       " <selenium.webdriver.remote.webelement.WebElement (session=\"ee2582f459f83668f7be756211bc0133\", element=\"501a3c94-ad04-418b-8ecb-b4f2de0fbad0\")>]"
      ]
     },
     "execution_count": 8,
     "metadata": {},
     "output_type": "execute_result"
    }
   ],
   "source": [
    "l2=browser.find_elements(\"xpath\",\"//div[@class='_univ-rank ']\")\n",
    "l2\n"
   ]
  },
  {
   "cell_type": "code",
   "execution_count": 9,
   "id": "2fa383e9",
   "metadata": {},
   "outputs": [
    {
     "data": {
      "text/plain": [
       "['41', '=42', '=42', '44', '45', '46', '47', '48', '49', '=50']"
      ]
     },
     "execution_count": 9,
     "metadata": {},
     "output_type": "execute_result"
    }
   ],
   "source": [
    "RANK=[]\n",
    "for data in l2:\n",
    "    #get the text data\n",
    "    temp=data.text\n",
    "    RANK.append(temp)\n",
    "RANK"
   ]
  },
  {
   "cell_type": "code",
   "execution_count": 10,
   "id": "a3be0e98",
   "metadata": {},
   "outputs": [
    {
     "data": {
      "text/plain": [
       "[<selenium.webdriver.remote.webelement.WebElement (session=\"ee2582f459f83668f7be756211bc0133\", element=\"9fcac6e9-9cb7-4420-aabe-43fa6d62bde2\")>,\n",
       " <selenium.webdriver.remote.webelement.WebElement (session=\"ee2582f459f83668f7be756211bc0133\", element=\"7827238a-066f-42db-8d95-c4fab392f66e\")>,\n",
       " <selenium.webdriver.remote.webelement.WebElement (session=\"ee2582f459f83668f7be756211bc0133\", element=\"61588ed5-c498-4019-9bce-d8212f978442\")>,\n",
       " <selenium.webdriver.remote.webelement.WebElement (session=\"ee2582f459f83668f7be756211bc0133\", element=\"5a2e90f7-e886-444f-86b0-1b1b2fbd1d7d\")>,\n",
       " <selenium.webdriver.remote.webelement.WebElement (session=\"ee2582f459f83668f7be756211bc0133\", element=\"f4149269-a9ef-47e4-bd26-6c0ddfb6ea55\")>,\n",
       " <selenium.webdriver.remote.webelement.WebElement (session=\"ee2582f459f83668f7be756211bc0133\", element=\"81a24252-5b57-4d58-b1cd-eea8782b4b01\")>,\n",
       " <selenium.webdriver.remote.webelement.WebElement (session=\"ee2582f459f83668f7be756211bc0133\", element=\"c5a91dcb-0e16-40c0-b80d-9a5541125a60\")>,\n",
       " <selenium.webdriver.remote.webelement.WebElement (session=\"ee2582f459f83668f7be756211bc0133\", element=\"74c58475-e3a8-40c9-9f0f-83277d4e84d6\")>,\n",
       " <selenium.webdriver.remote.webelement.WebElement (session=\"ee2582f459f83668f7be756211bc0133\", element=\"7e87a51a-a5f7-40c8-83ed-50abfa8ba2e8\")>]"
      ]
     },
     "execution_count": 10,
     "metadata": {},
     "output_type": "execute_result"
    }
   ],
   "source": [
    "# GET EACH COLLEGE SPECIFICATION HEADERS\n",
    "header=browser.find_elements(\"xpath\",\"//div[@class='_click-function_ind']\")\n",
    "header\n"
   ]
  },
  {
   "cell_type": "code",
   "execution_count": 11,
   "id": "326a5912",
   "metadata": {},
   "outputs": [
    {
     "data": {
      "text/plain": [
       "['Overall Score',\n",
       " 'Academic Reputation',\n",
       " 'Employer Reputation',\n",
       " 'Citations per Faculty',\n",
       " 'Faculty Student Ratio',\n",
       " 'International Students Ratio',\n",
       " 'International Faculty Ratio',\n",
       " 'International Research Network\\nUnweighted',\n",
       " 'Employment Outcomes\\nUnweighted']"
      ]
     },
     "execution_count": 11,
     "metadata": {},
     "output_type": "execute_result"
    }
   ],
   "source": [
    "#PARSING DATA\n",
    "column_head=[]\n",
    "for data in header:\n",
    "    #get the text data\n",
    "    temp=data.text\n",
    "    column_head.append(temp)\n",
    "column_head\n"
   ]
  },
  {
   "cell_type": "code",
   "execution_count": 12,
   "id": "f3469b3f",
   "metadata": {},
   "outputs": [
    {
     "data": {
      "text/plain": [
       "[<selenium.webdriver.remote.webelement.WebElement (session=\"ee2582f459f83668f7be756211bc0133\", element=\"53c75d2f-de35-4789-87ba-597782579d17\")>,\n",
       " <selenium.webdriver.remote.webelement.WebElement (session=\"ee2582f459f83668f7be756211bc0133\", element=\"69876294-cda3-4408-8666-8ba57b1c088b\")>,\n",
       " <selenium.webdriver.remote.webelement.WebElement (session=\"ee2582f459f83668f7be756211bc0133\", element=\"d97fdf83-bb16-48a8-8517-934594a91f50\")>,\n",
       " <selenium.webdriver.remote.webelement.WebElement (session=\"ee2582f459f83668f7be756211bc0133\", element=\"3939c789-8231-49f2-a5a5-5fb0df608c6f\")>,\n",
       " <selenium.webdriver.remote.webelement.WebElement (session=\"ee2582f459f83668f7be756211bc0133\", element=\"755511bb-f17e-4e09-b9c4-986b30d2f18f\")>,\n",
       " <selenium.webdriver.remote.webelement.WebElement (session=\"ee2582f459f83668f7be756211bc0133\", element=\"ee351b00-6a80-45f2-b4d8-bee01736d8d9\")>,\n",
       " <selenium.webdriver.remote.webelement.WebElement (session=\"ee2582f459f83668f7be756211bc0133\", element=\"98fe4107-c84c-4aad-818a-e4fc262ee1b0\")>,\n",
       " <selenium.webdriver.remote.webelement.WebElement (session=\"ee2582f459f83668f7be756211bc0133\", element=\"8f9a4397-b2c9-48c8-81ff-7dea51ac62c7\")>,\n",
       " <selenium.webdriver.remote.webelement.WebElement (session=\"ee2582f459f83668f7be756211bc0133\", element=\"4a1dac0d-97b6-4baf-a9ae-f1238a9bd92b\")>,\n",
       " <selenium.webdriver.remote.webelement.WebElement (session=\"ee2582f459f83668f7be756211bc0133\", element=\"7e860956-2636-4bb2-9845-b466a0b45de6\")>,\n",
       " <selenium.webdriver.remote.webelement.WebElement (session=\"ee2582f459f83668f7be756211bc0133\", element=\"65c75e60-de36-4053-984f-2a981128f080\")>,\n",
       " <selenium.webdriver.remote.webelement.WebElement (session=\"ee2582f459f83668f7be756211bc0133\", element=\"ef34a10f-e681-475b-a585-ed855e3da770\")>,\n",
       " <selenium.webdriver.remote.webelement.WebElement (session=\"ee2582f459f83668f7be756211bc0133\", element=\"46f0fde6-8b68-4ca4-aa95-7d0a1752c8d4\")>,\n",
       " <selenium.webdriver.remote.webelement.WebElement (session=\"ee2582f459f83668f7be756211bc0133\", element=\"74716195-4600-4fde-a523-d05e04a469f0\")>,\n",
       " <selenium.webdriver.remote.webelement.WebElement (session=\"ee2582f459f83668f7be756211bc0133\", element=\"3cc59ba0-fa40-439c-a64b-c83c08b57e1e\")>,\n",
       " <selenium.webdriver.remote.webelement.WebElement (session=\"ee2582f459f83668f7be756211bc0133\", element=\"c4d8de54-c47a-47fe-8c8f-38e3478d2683\")>,\n",
       " <selenium.webdriver.remote.webelement.WebElement (session=\"ee2582f459f83668f7be756211bc0133\", element=\"0a91a2eb-5ad1-4285-a024-7f92a30aa0b2\")>,\n",
       " <selenium.webdriver.remote.webelement.WebElement (session=\"ee2582f459f83668f7be756211bc0133\", element=\"2004e0ff-226f-4edd-b091-caf108872a07\")>,\n",
       " <selenium.webdriver.remote.webelement.WebElement (session=\"ee2582f459f83668f7be756211bc0133\", element=\"1fbf77a7-dc18-4e86-8145-82e992d45747\")>,\n",
       " <selenium.webdriver.remote.webelement.WebElement (session=\"ee2582f459f83668f7be756211bc0133\", element=\"2025635d-c986-4e61-a555-a92fa924eb01\")>,\n",
       " <selenium.webdriver.remote.webelement.WebElement (session=\"ee2582f459f83668f7be756211bc0133\", element=\"a576fabb-c128-4d70-948e-3aea6701c470\")>,\n",
       " <selenium.webdriver.remote.webelement.WebElement (session=\"ee2582f459f83668f7be756211bc0133\", element=\"37224e4b-58d4-4379-a804-d84d38e7d201\")>,\n",
       " <selenium.webdriver.remote.webelement.WebElement (session=\"ee2582f459f83668f7be756211bc0133\", element=\"7e745b61-89dd-4192-9e36-80f632f6d28d\")>,\n",
       " <selenium.webdriver.remote.webelement.WebElement (session=\"ee2582f459f83668f7be756211bc0133\", element=\"1553bd57-61e7-417b-8eeb-887c8da4a456\")>,\n",
       " <selenium.webdriver.remote.webelement.WebElement (session=\"ee2582f459f83668f7be756211bc0133\", element=\"7d547d0a-5415-44c4-9ee6-22fb8ff69bb6\")>,\n",
       " <selenium.webdriver.remote.webelement.WebElement (session=\"ee2582f459f83668f7be756211bc0133\", element=\"0f4bdd9c-14ff-4da1-ba6a-94963b279e48\")>,\n",
       " <selenium.webdriver.remote.webelement.WebElement (session=\"ee2582f459f83668f7be756211bc0133\", element=\"13c69f94-f560-4422-9458-034e19019fdc\")>,\n",
       " <selenium.webdriver.remote.webelement.WebElement (session=\"ee2582f459f83668f7be756211bc0133\", element=\"a689a2d8-00ea-46f1-929a-fa4c0cf84243\")>,\n",
       " <selenium.webdriver.remote.webelement.WebElement (session=\"ee2582f459f83668f7be756211bc0133\", element=\"685bbc7a-4f67-4053-9762-c8c778897e84\")>,\n",
       " <selenium.webdriver.remote.webelement.WebElement (session=\"ee2582f459f83668f7be756211bc0133\", element=\"4468cf6c-d7a9-484c-a234-7854edc34a1d\")>,\n",
       " <selenium.webdriver.remote.webelement.WebElement (session=\"ee2582f459f83668f7be756211bc0133\", element=\"877cd89a-8744-4809-9745-146892020fb1\")>,\n",
       " <selenium.webdriver.remote.webelement.WebElement (session=\"ee2582f459f83668f7be756211bc0133\", element=\"5ab2d26c-065d-44a2-a458-1c3c7bfdd216\")>,\n",
       " <selenium.webdriver.remote.webelement.WebElement (session=\"ee2582f459f83668f7be756211bc0133\", element=\"a90a042b-9ddc-4d1a-b142-8d652d113b7d\")>,\n",
       " <selenium.webdriver.remote.webelement.WebElement (session=\"ee2582f459f83668f7be756211bc0133\", element=\"cf400c34-b7af-4613-919d-d89bd50a9df6\")>,\n",
       " <selenium.webdriver.remote.webelement.WebElement (session=\"ee2582f459f83668f7be756211bc0133\", element=\"4e1cb965-0da1-4dc2-91d0-627f727a42bf\")>,\n",
       " <selenium.webdriver.remote.webelement.WebElement (session=\"ee2582f459f83668f7be756211bc0133\", element=\"edbcb109-5354-4e39-83cd-9a2ec557bf68\")>,\n",
       " <selenium.webdriver.remote.webelement.WebElement (session=\"ee2582f459f83668f7be756211bc0133\", element=\"cb373385-9354-4280-8a4a-d6563c59893a\")>,\n",
       " <selenium.webdriver.remote.webelement.WebElement (session=\"ee2582f459f83668f7be756211bc0133\", element=\"f8b9bae6-5e86-49cc-8478-5d43a2a65b31\")>,\n",
       " <selenium.webdriver.remote.webelement.WebElement (session=\"ee2582f459f83668f7be756211bc0133\", element=\"48552387-7fea-413d-ae56-754862f7530f\")>,\n",
       " <selenium.webdriver.remote.webelement.WebElement (session=\"ee2582f459f83668f7be756211bc0133\", element=\"943f6eba-7d0f-4add-8471-3292da98f05b\")>,\n",
       " <selenium.webdriver.remote.webelement.WebElement (session=\"ee2582f459f83668f7be756211bc0133\", element=\"eab8b283-3470-498e-9aec-0e57795d8688\")>,\n",
       " <selenium.webdriver.remote.webelement.WebElement (session=\"ee2582f459f83668f7be756211bc0133\", element=\"d33cf735-2782-44eb-88e1-f80ed8257c60\")>,\n",
       " <selenium.webdriver.remote.webelement.WebElement (session=\"ee2582f459f83668f7be756211bc0133\", element=\"96bd522b-c064-4eea-a701-1f9a05f9f434\")>,\n",
       " <selenium.webdriver.remote.webelement.WebElement (session=\"ee2582f459f83668f7be756211bc0133\", element=\"2ed97023-c744-4e72-bd5d-2bb447d21487\")>,\n",
       " <selenium.webdriver.remote.webelement.WebElement (session=\"ee2582f459f83668f7be756211bc0133\", element=\"3dc9e0a1-04c3-40e8-a622-b585420db201\")>,\n",
       " <selenium.webdriver.remote.webelement.WebElement (session=\"ee2582f459f83668f7be756211bc0133\", element=\"73538a94-b21a-49fd-8540-2f70b6fe5b84\")>,\n",
       " <selenium.webdriver.remote.webelement.WebElement (session=\"ee2582f459f83668f7be756211bc0133\", element=\"ff0be6f6-18d3-46d8-8b06-46e709ee853a\")>,\n",
       " <selenium.webdriver.remote.webelement.WebElement (session=\"ee2582f459f83668f7be756211bc0133\", element=\"f48e3266-ccf7-4f7d-ad36-2a8fa03582d2\")>,\n",
       " <selenium.webdriver.remote.webelement.WebElement (session=\"ee2582f459f83668f7be756211bc0133\", element=\"4dd4fed0-7c8e-4b50-ac35-f72ec5895c31\")>,\n",
       " <selenium.webdriver.remote.webelement.WebElement (session=\"ee2582f459f83668f7be756211bc0133\", element=\"b5cec588-3ecb-4db8-b2df-6f8cb404ce07\")>,\n",
       " <selenium.webdriver.remote.webelement.WebElement (session=\"ee2582f459f83668f7be756211bc0133\", element=\"4479e415-c7d6-4863-b41e-5322b399beaa\")>,\n",
       " <selenium.webdriver.remote.webelement.WebElement (session=\"ee2582f459f83668f7be756211bc0133\", element=\"ffdb3e0f-33a5-4c75-a789-11572591fced\")>,\n",
       " <selenium.webdriver.remote.webelement.WebElement (session=\"ee2582f459f83668f7be756211bc0133\", element=\"7e22a937-b6bf-4c06-817f-aab7b03997ec\")>,\n",
       " <selenium.webdriver.remote.webelement.WebElement (session=\"ee2582f459f83668f7be756211bc0133\", element=\"39307697-5d17-4be2-ab75-74ce5c438849\")>,\n",
       " <selenium.webdriver.remote.webelement.WebElement (session=\"ee2582f459f83668f7be756211bc0133\", element=\"ada60666-3c0c-4c8d-b326-fadf66db753e\")>,\n",
       " <selenium.webdriver.remote.webelement.WebElement (session=\"ee2582f459f83668f7be756211bc0133\", element=\"1f756f38-e432-451e-a241-d1a760c33e2a\")>,\n",
       " <selenium.webdriver.remote.webelement.WebElement (session=\"ee2582f459f83668f7be756211bc0133\", element=\"73854327-00ef-4237-96db-c6e0379f6866\")>,\n",
       " <selenium.webdriver.remote.webelement.WebElement (session=\"ee2582f459f83668f7be756211bc0133\", element=\"d803a4eb-d943-4498-b50a-21709d4b8345\")>,\n",
       " <selenium.webdriver.remote.webelement.WebElement (session=\"ee2582f459f83668f7be756211bc0133\", element=\"c83e35d4-24e1-4bc0-acec-35a93c74d45e\")>,\n",
       " <selenium.webdriver.remote.webelement.WebElement (session=\"ee2582f459f83668f7be756211bc0133\", element=\"7fc4d5d9-021c-49e1-93ab-7469fdafeb42\")>,\n",
       " <selenium.webdriver.remote.webelement.WebElement (session=\"ee2582f459f83668f7be756211bc0133\", element=\"edc9e2fd-5633-4cc1-9222-2e1b6afb1613\")>,\n",
       " <selenium.webdriver.remote.webelement.WebElement (session=\"ee2582f459f83668f7be756211bc0133\", element=\"2e6be743-c0b4-4780-94b0-55c87577ecba\")>,\n",
       " <selenium.webdriver.remote.webelement.WebElement (session=\"ee2582f459f83668f7be756211bc0133\", element=\"01ef3a1a-658c-4edd-95bd-10dc3ca943a2\")>,\n",
       " <selenium.webdriver.remote.webelement.WebElement (session=\"ee2582f459f83668f7be756211bc0133\", element=\"e9c01eee-5480-4231-9f4a-3392722438b9\")>,\n",
       " <selenium.webdriver.remote.webelement.WebElement (session=\"ee2582f459f83668f7be756211bc0133\", element=\"8eed3294-2984-4eae-96aa-de891bcc4a55\")>,\n",
       " <selenium.webdriver.remote.webelement.WebElement (session=\"ee2582f459f83668f7be756211bc0133\", element=\"c6eab3f3-2709-4d80-8fe1-2852b329a230\")>,\n",
       " <selenium.webdriver.remote.webelement.WebElement (session=\"ee2582f459f83668f7be756211bc0133\", element=\"c6bdccf5-a0fb-4524-b82d-cd71296a34d4\")>,\n",
       " <selenium.webdriver.remote.webelement.WebElement (session=\"ee2582f459f83668f7be756211bc0133\", element=\"93f10d5c-2fc1-4dff-b817-a2c4764da31c\")>,\n",
       " <selenium.webdriver.remote.webelement.WebElement (session=\"ee2582f459f83668f7be756211bc0133\", element=\"b8c55988-8208-4e87-9a90-ab8ca1e117bd\")>,\n",
       " <selenium.webdriver.remote.webelement.WebElement (session=\"ee2582f459f83668f7be756211bc0133\", element=\"b89986de-6b26-4a8a-aa96-9e78060ab9f0\")>,\n",
       " <selenium.webdriver.remote.webelement.WebElement (session=\"ee2582f459f83668f7be756211bc0133\", element=\"67514f65-ef16-4016-b01e-fa81f8360ff7\")>,\n",
       " <selenium.webdriver.remote.webelement.WebElement (session=\"ee2582f459f83668f7be756211bc0133\", element=\"b0aa96cd-bb2d-496e-b472-49a507e4de70\")>,\n",
       " <selenium.webdriver.remote.webelement.WebElement (session=\"ee2582f459f83668f7be756211bc0133\", element=\"037a716c-dc33-46c9-8411-b0c247d89d55\")>,\n",
       " <selenium.webdriver.remote.webelement.WebElement (session=\"ee2582f459f83668f7be756211bc0133\", element=\"1bbb5250-65a4-4484-af4b-93b32d7538a7\")>,\n",
       " <selenium.webdriver.remote.webelement.WebElement (session=\"ee2582f459f83668f7be756211bc0133\", element=\"78164fdb-0394-4531-9984-bba781c8b82d\")>,\n",
       " <selenium.webdriver.remote.webelement.WebElement (session=\"ee2582f459f83668f7be756211bc0133\", element=\"ff8246bc-8506-47b1-9010-35b62359e407\")>,\n",
       " <selenium.webdriver.remote.webelement.WebElement (session=\"ee2582f459f83668f7be756211bc0133\", element=\"be1e8d3b-d81b-4d9e-b4d3-7d80c6d416cc\")>,\n",
       " <selenium.webdriver.remote.webelement.WebElement (session=\"ee2582f459f83668f7be756211bc0133\", element=\"6327d1d5-85ae-4417-b1b8-7ece16f0ec58\")>,\n",
       " <selenium.webdriver.remote.webelement.WebElement (session=\"ee2582f459f83668f7be756211bc0133\", element=\"353f119c-a6e8-4c0c-9f5e-de0f10a802ce\")>,\n",
       " <selenium.webdriver.remote.webelement.WebElement (session=\"ee2582f459f83668f7be756211bc0133\", element=\"ee1ecb54-5742-4041-b53c-f73ac3e2e4a7\")>,\n",
       " <selenium.webdriver.remote.webelement.WebElement (session=\"ee2582f459f83668f7be756211bc0133\", element=\"eafca22a-40e3-4415-875c-78788210e8f9\")>,\n",
       " <selenium.webdriver.remote.webelement.WebElement (session=\"ee2582f459f83668f7be756211bc0133\", element=\"aef757f9-f848-4439-b845-9f671d6730b5\")>,\n",
       " <selenium.webdriver.remote.webelement.WebElement (session=\"ee2582f459f83668f7be756211bc0133\", element=\"8058451c-9764-4755-8a4d-b34067408d97\")>,\n",
       " <selenium.webdriver.remote.webelement.WebElement (session=\"ee2582f459f83668f7be756211bc0133\", element=\"784fdd89-e2f1-4f22-9aff-783cdec8c41d\")>,\n",
       " <selenium.webdriver.remote.webelement.WebElement (session=\"ee2582f459f83668f7be756211bc0133\", element=\"4255509e-9f44-4475-83b5-8b278a835544\")>,\n",
       " <selenium.webdriver.remote.webelement.WebElement (session=\"ee2582f459f83668f7be756211bc0133\", element=\"cdab6a62-427f-4e1f-bcf6-0f66f52fdbad\")>,\n",
       " <selenium.webdriver.remote.webelement.WebElement (session=\"ee2582f459f83668f7be756211bc0133\", element=\"83c288f2-64a9-410c-80a4-d768dd3d7641\")>,\n",
       " <selenium.webdriver.remote.webelement.WebElement (session=\"ee2582f459f83668f7be756211bc0133\", element=\"4cc306d7-a4d9-40a0-8f55-6055b9cea2db\")>,\n",
       " <selenium.webdriver.remote.webelement.WebElement (session=\"ee2582f459f83668f7be756211bc0133\", element=\"9d5875a5-2405-4a7e-9106-01424755e1bf\")>,\n",
       " <selenium.webdriver.remote.webelement.WebElement (session=\"ee2582f459f83668f7be756211bc0133\", element=\"f667a42c-eeb2-4477-85be-f2c0815c515a\")>,\n",
       " <selenium.webdriver.remote.webelement.WebElement (session=\"ee2582f459f83668f7be756211bc0133\", element=\"b261cd34-16bf-44f9-adcc-3a76d494af8c\")>,\n",
       " <selenium.webdriver.remote.webelement.WebElement (session=\"ee2582f459f83668f7be756211bc0133\", element=\"ae9e937f-ed5e-4aa0-a794-bd6e07cd564f\")>,\n",
       " <selenium.webdriver.remote.webelement.WebElement (session=\"ee2582f459f83668f7be756211bc0133\", element=\"2a34e9c2-4584-40db-8291-a17b0ce40b47\")>,\n",
       " <selenium.webdriver.remote.webelement.WebElement (session=\"ee2582f459f83668f7be756211bc0133\", element=\"5cab4127-5df7-4db5-a816-7787285ad918\")>,\n",
       " <selenium.webdriver.remote.webelement.WebElement (session=\"ee2582f459f83668f7be756211bc0133\", element=\"7e27ffb0-7f9c-459a-9b82-07a3a0560798\")>,\n",
       " <selenium.webdriver.remote.webelement.WebElement (session=\"ee2582f459f83668f7be756211bc0133\", element=\"94253743-2d3f-4261-ac0e-67dd6f86fe95\")>,\n",
       " <selenium.webdriver.remote.webelement.WebElement (session=\"ee2582f459f83668f7be756211bc0133\", element=\"c851efb0-f265-41df-9b76-0f359874dccf\")>,\n",
       " <selenium.webdriver.remote.webelement.WebElement (session=\"ee2582f459f83668f7be756211bc0133\", element=\"e519c107-6b48-4410-b8dd-5877f99355e9\")>,\n",
       " <selenium.webdriver.remote.webelement.WebElement (session=\"ee2582f459f83668f7be756211bc0133\", element=\"8e5614b4-bc15-4595-a7cc-f96812755d62\")>,\n",
       " <selenium.webdriver.remote.webelement.WebElement (session=\"ee2582f459f83668f7be756211bc0133\", element=\"cac51bf5-b299-428e-9421-20cfb4605e67\")>]"
      ]
     },
     "execution_count": 12,
     "metadata": {},
     "output_type": "execute_result"
    }
   ],
   "source": [
    "\n",
    "header2=browser.find_elements(\"xpath\",\"//div[@class='td-wrap-in']\")\n",
    "header2\n"
   ]
  },
  {
   "cell_type": "code",
   "execution_count": 14,
   "id": "43377297",
   "metadata": {},
   "outputs": [
    {
     "data": {
      "text/plain": [
       "['78.7', '100', '99.9', '85.9', '37.7', '27.5', '45.1', '96.3', '98']"
      ]
     },
     "execution_count": 14,
     "metadata": {},
     "output_type": "execute_result"
    }
   ],
   "source": [
    "#PARSING DATA\n",
    "value_head=[]\n",
    "for data in header2:\n",
    "    #get the text data\n",
    "    temp=data.text\n",
    "    value_head.append(temp)\n",
    "value=value_head[31:40]\n",
    "value"
   ]
  },
  {
   "cell_type": "code",
   "execution_count": 15,
   "id": "dccb8436",
   "metadata": {},
   "outputs": [
    {
     "data": {
      "text/plain": [
       "{'Name': 'University of California, Los Angeles (UCLA)',\n",
       " 'Location': 'Los Angeles, United States',\n",
       " 'Rank': '44',\n",
       " 'Overall Score': '78.7',\n",
       " 'Academic Reputation': '100',\n",
       " 'Employer Reputation': '99.9',\n",
       " 'Citations per Faculty': '85.9',\n",
       " 'Faculty Student Ratio': '37.7',\n",
       " 'International Students Ratio': '27.5',\n",
       " 'International Faculty Ratio': '45.1',\n",
       " 'International Research Network\\nUnweighted': '96.3',\n",
       " 'Employment Outcomes\\nUnweighted': '98'}"
      ]
     },
     "execution_count": 15,
     "metadata": {},
     "output_type": "execute_result"
    }
   ],
   "source": [
    "d={}\n",
    "d['Name']=value_head[30]\n",
    "d['Location']=loc[3]\n",
    "d['Rank']=RANK[3]\n",
    "for i in range(len(column_head)):\n",
    "    d[column_head[i]]=value[i]\n",
    "d\n"
   ]
  },
  {
   "cell_type": "code",
   "execution_count": 16,
   "id": "df7a0427",
   "metadata": {},
   "outputs": [
    {
     "data": {
      "text/plain": [
       "'{\"Name\": \"University of California, Los Angeles (UCLA)\", \"Location\": \"Los Angeles, United States\", \"Rank\": \"44\", \"Overall Score\": \"78.7\", \"Academic Reputation\": \"100\", \"Employer Reputation\": \"99.9\", \"Citations per Faculty\": \"85.9\", \"Faculty Student Ratio\": \"37.7\", \"International Students Ratio\": \"27.5\", \"International Faculty Ratio\": \"45.1\", \"International Research Network\\\\nUnweighted\": \"96.3\", \"Employment Outcomes\\\\nUnweighted\": \"98\"}'"
      ]
     },
     "execution_count": 16,
     "metadata": {},
     "output_type": "execute_result"
    }
   ],
   "source": [
    "s1=json.dumps(d)\n",
    "s1\n"
   ]
  },
  {
   "cell_type": "code",
   "execution_count": 17,
   "id": "4b44d880",
   "metadata": {},
   "outputs": [],
   "source": [
    "with open('University of California, Los Angeles (UCLA).json','w') as f:\n",
    "    json.dump(d,f)"
   ]
  },
  {
   "cell_type": "code",
   "execution_count": null,
   "id": "1dd922be",
   "metadata": {},
   "outputs": [],
   "source": []
  }
 ],
 "metadata": {
  "kernelspec": {
   "display_name": "Python 3 (ipykernel)",
   "language": "python",
   "name": "python3"
  },
  "language_info": {
   "codemirror_mode": {
    "name": "ipython",
    "version": 3
   },
   "file_extension": ".py",
   "mimetype": "text/x-python",
   "name": "python",
   "nbconvert_exporter": "python",
   "pygments_lexer": "ipython3",
   "version": "3.9.12"
  }
 },
 "nbformat": 4,
 "nbformat_minor": 5
}
