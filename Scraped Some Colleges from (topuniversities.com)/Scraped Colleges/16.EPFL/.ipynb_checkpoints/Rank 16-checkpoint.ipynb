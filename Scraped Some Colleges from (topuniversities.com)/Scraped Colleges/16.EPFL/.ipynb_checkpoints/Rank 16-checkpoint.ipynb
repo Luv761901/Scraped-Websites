{
 "cells": [
  {
   "cell_type": "code",
   "execution_count": 1,
   "id": "e4fdf0a8",
   "metadata": {},
   "outputs": [],
   "source": [
    "from selenium import webdriver\n",
    "from selenium.webdriver.chrome.service import Service\n",
    "import pandas as pd\n",
    "import json"
   ]
  },
  {
   "cell_type": "code",
   "execution_count": 2,
   "id": "800bb96a",
   "metadata": {},
   "outputs": [],
   "source": [
    "path = Service('C:\\chromedriver.exe')\n"
   ]
  },
  {
   "cell_type": "code",
   "execution_count": 3,
   "id": "15b86456",
   "metadata": {},
   "outputs": [],
   "source": [
    "browser = webdriver.Chrome(service = path)\n"
   ]
  },
  {
   "cell_type": "code",
   "execution_count": 4,
   "id": "6de6b146",
   "metadata": {},
   "outputs": [],
   "source": [
    "url = \"https://www.topuniversities.com/university-rankings/world-university-rankings/2023\""
   ]
  },
  {
   "cell_type": "code",
   "execution_count": 5,
   "id": "c1752116",
   "metadata": {},
   "outputs": [],
   "source": [
    "# open the page url ion chrome\n",
    "browser.get(url)"
   ]
  },
  {
   "cell_type": "code",
   "execution_count": 6,
   "id": "6539c5ed",
   "metadata": {},
   "outputs": [
    {
     "data": {
      "text/plain": [
       "[<selenium.webdriver.remote.webelement.WebElement (session=\"8fef1f6a0bc15650a1946b58e7a95b00\", element=\"dbcff830-bb06-4b09-b8eb-3f058cdbfa58\")>,\n",
       " <selenium.webdriver.remote.webelement.WebElement (session=\"8fef1f6a0bc15650a1946b58e7a95b00\", element=\"f13c606d-2861-461f-aa46-36a57ac4442c\")>,\n",
       " <selenium.webdriver.remote.webelement.WebElement (session=\"8fef1f6a0bc15650a1946b58e7a95b00\", element=\"1aa1056d-b9de-4964-b434-852686677d59\")>,\n",
       " <selenium.webdriver.remote.webelement.WebElement (session=\"8fef1f6a0bc15650a1946b58e7a95b00\", element=\"f18a090b-eb4a-41f5-a1e4-3f4cf7da0871\")>,\n",
       " <selenium.webdriver.remote.webelement.WebElement (session=\"8fef1f6a0bc15650a1946b58e7a95b00\", element=\"88617f91-abaf-4b09-96c3-8170acc75350\")>,\n",
       " <selenium.webdriver.remote.webelement.WebElement (session=\"8fef1f6a0bc15650a1946b58e7a95b00\", element=\"8a775ee3-e48b-431a-b407-2d36daac8dbf\")>,\n",
       " <selenium.webdriver.remote.webelement.WebElement (session=\"8fef1f6a0bc15650a1946b58e7a95b00\", element=\"f65c1f89-7463-4201-94f6-c796a6886c36\")>,\n",
       " <selenium.webdriver.remote.webelement.WebElement (session=\"8fef1f6a0bc15650a1946b58e7a95b00\", element=\"0676cab5-6988-4c2a-b3f0-af9e97b58de1\")>,\n",
       " <selenium.webdriver.remote.webelement.WebElement (session=\"8fef1f6a0bc15650a1946b58e7a95b00\", element=\"521c8ac0-bdd4-4d13-b602-576484bd3882\")>,\n",
       " <selenium.webdriver.remote.webelement.WebElement (session=\"8fef1f6a0bc15650a1946b58e7a95b00\", element=\"e67c9180-fdf7-45f9-b190-fea018c8d3b0\")>,\n",
       " <selenium.webdriver.remote.webelement.WebElement (session=\"8fef1f6a0bc15650a1946b58e7a95b00\", element=\"ab0aa60c-7fd2-4b9e-bf2c-4facb71d121a\")>,\n",
       " <selenium.webdriver.remote.webelement.WebElement (session=\"8fef1f6a0bc15650a1946b58e7a95b00\", element=\"40bec30f-3013-44cd-9639-2cd537609eb2\")>,\n",
       " <selenium.webdriver.remote.webelement.WebElement (session=\"8fef1f6a0bc15650a1946b58e7a95b00\", element=\"869f8158-032a-4997-97ce-0cfbf5272f86\")>,\n",
       " <selenium.webdriver.remote.webelement.WebElement (session=\"8fef1f6a0bc15650a1946b58e7a95b00\", element=\"7ad75728-14ba-42c4-814c-bfa576d1da1c\")>,\n",
       " <selenium.webdriver.remote.webelement.WebElement (session=\"8fef1f6a0bc15650a1946b58e7a95b00\", element=\"544f9f42-4656-4944-873e-c209fdff8938\")>,\n",
       " <selenium.webdriver.remote.webelement.WebElement (session=\"8fef1f6a0bc15650a1946b58e7a95b00\", element=\"3b01194c-406a-408b-8326-fe39b48ee745\")>,\n",
       " <selenium.webdriver.remote.webelement.WebElement (session=\"8fef1f6a0bc15650a1946b58e7a95b00\", element=\"414f7fce-c077-4d0f-9c0d-92049648977c\")>,\n",
       " <selenium.webdriver.remote.webelement.WebElement (session=\"8fef1f6a0bc15650a1946b58e7a95b00\", element=\"0395f890-31c6-4628-8618-e3a86f202c6d\")>,\n",
       " <selenium.webdriver.remote.webelement.WebElement (session=\"8fef1f6a0bc15650a1946b58e7a95b00\", element=\"3ab16657-f97d-4e6c-96a2-4423cf8a7c35\")>,\n",
       " <selenium.webdriver.remote.webelement.WebElement (session=\"8fef1f6a0bc15650a1946b58e7a95b00\", element=\"7fe184c0-c2c5-4f52-9ea2-d1d4640892a8\")>]"
      ]
     },
     "execution_count": 6,
     "metadata": {},
     "output_type": "execute_result"
    }
   ],
   "source": [
    "l1=browser.find_elements(\"xpath\",\"//div[@class='location ']\")\n",
    "l1\n"
   ]
  },
  {
   "cell_type": "code",
   "execution_count": 7,
   "id": "52368975",
   "metadata": {},
   "outputs": [
    {
     "data": {
      "text/plain": [
       "['Singapore, Singapore',\n",
       " 'Beijing, China (Mainland)',\n",
       " 'Philadelphia, United States',\n",
       " 'Beijing, China (Mainland)',\n",
       " 'Edinburgh, United Kingdom',\n",
       " 'Lausanne, Switzerland',\n",
       " 'Princeton, United States',\n",
       " 'New Haven, United States',\n",
       " 'Singapore, Singapore',\n",
       " 'Ithaca, United States']"
      ]
     },
     "execution_count": 7,
     "metadata": {},
     "output_type": "execute_result"
    }
   ],
   "source": [
    "\n",
    "loc=[]\n",
    "for data in l1:\n",
    "    #get the text data\n",
    "    temp=data.text\n",
    "    loc.append(temp)\n",
    "loc=loc[10:]\n",
    "loc"
   ]
  },
  {
   "cell_type": "code",
   "execution_count": 8,
   "id": "e915d5bf",
   "metadata": {},
   "outputs": [
    {
     "data": {
      "text/plain": [
       "[<selenium.webdriver.remote.webelement.WebElement (session=\"8fef1f6a0bc15650a1946b58e7a95b00\", element=\"3be28585-87be-4ee3-8190-44683a25c50a\")>,\n",
       " <selenium.webdriver.remote.webelement.WebElement (session=\"8fef1f6a0bc15650a1946b58e7a95b00\", element=\"27744295-ed86-4d85-a9ce-33dd52a3536d\")>,\n",
       " <selenium.webdriver.remote.webelement.WebElement (session=\"8fef1f6a0bc15650a1946b58e7a95b00\", element=\"48c1fc11-6ec7-46bf-957c-5a404589c4da\")>,\n",
       " <selenium.webdriver.remote.webelement.WebElement (session=\"8fef1f6a0bc15650a1946b58e7a95b00\", element=\"c6cc8f44-5482-41e6-b677-bcad16b968b8\")>,\n",
       " <selenium.webdriver.remote.webelement.WebElement (session=\"8fef1f6a0bc15650a1946b58e7a95b00\", element=\"ecf9e4d0-f113-4d0f-8147-f8620c2ea3fa\")>,\n",
       " <selenium.webdriver.remote.webelement.WebElement (session=\"8fef1f6a0bc15650a1946b58e7a95b00\", element=\"20cf1914-1e84-48e2-a013-212dd6ad374f\")>,\n",
       " <selenium.webdriver.remote.webelement.WebElement (session=\"8fef1f6a0bc15650a1946b58e7a95b00\", element=\"859d4335-13cd-41d9-8b0c-256312d85511\")>,\n",
       " <selenium.webdriver.remote.webelement.WebElement (session=\"8fef1f6a0bc15650a1946b58e7a95b00\", element=\"547d3415-c1ae-4988-8418-cfe637e2c0d3\")>,\n",
       " <selenium.webdriver.remote.webelement.WebElement (session=\"8fef1f6a0bc15650a1946b58e7a95b00\", element=\"c92c9071-4548-4cd7-ae5d-d2c84e42a187\")>,\n",
       " <selenium.webdriver.remote.webelement.WebElement (session=\"8fef1f6a0bc15650a1946b58e7a95b00\", element=\"3845df03-a072-48f2-bb8c-df04a9891d3d\")>]"
      ]
     },
     "execution_count": 8,
     "metadata": {},
     "output_type": "execute_result"
    }
   ],
   "source": [
    "l2=browser.find_elements(\"xpath\",\"//div[@class='_univ-rank ']\")\n",
    "l2"
   ]
  },
  {
   "cell_type": "code",
   "execution_count": 9,
   "id": "35fb2c5c",
   "metadata": {},
   "outputs": [
    {
     "data": {
      "text/plain": [
       "['11', '12', '13', '14', '15', '=16', '=16', '18', '19', '20']"
      ]
     },
     "execution_count": 9,
     "metadata": {},
     "output_type": "execute_result"
    }
   ],
   "source": [
    "RANK=[]\n",
    "for data in l2:\n",
    "    #get the text data\n",
    "    temp=data.text\n",
    "    RANK.append(temp)\n",
    "RANK"
   ]
  },
  {
   "cell_type": "code",
   "execution_count": 10,
   "id": "27c54e38",
   "metadata": {},
   "outputs": [
    {
     "data": {
      "text/plain": [
       "[<selenium.webdriver.remote.webelement.WebElement (session=\"8fef1f6a0bc15650a1946b58e7a95b00\", element=\"91c07062-e6fc-48e3-a81a-39865147ffb2\")>,\n",
       " <selenium.webdriver.remote.webelement.WebElement (session=\"8fef1f6a0bc15650a1946b58e7a95b00\", element=\"9e89c3e3-a71e-4b1d-8517-a702dbbae499\")>,\n",
       " <selenium.webdriver.remote.webelement.WebElement (session=\"8fef1f6a0bc15650a1946b58e7a95b00\", element=\"390fc190-00f7-4141-8497-1e1a462770bd\")>,\n",
       " <selenium.webdriver.remote.webelement.WebElement (session=\"8fef1f6a0bc15650a1946b58e7a95b00\", element=\"33bded2d-4c30-484d-b607-33e9f03c54b0\")>,\n",
       " <selenium.webdriver.remote.webelement.WebElement (session=\"8fef1f6a0bc15650a1946b58e7a95b00\", element=\"64c0b235-0781-452c-982e-9ce6bf0e8f17\")>,\n",
       " <selenium.webdriver.remote.webelement.WebElement (session=\"8fef1f6a0bc15650a1946b58e7a95b00\", element=\"cd4b9fed-080c-4f19-ab20-4dea3186d5d8\")>,\n",
       " <selenium.webdriver.remote.webelement.WebElement (session=\"8fef1f6a0bc15650a1946b58e7a95b00\", element=\"d3c19c7f-d802-496a-9b87-e990975edde0\")>,\n",
       " <selenium.webdriver.remote.webelement.WebElement (session=\"8fef1f6a0bc15650a1946b58e7a95b00\", element=\"69c8b3e2-09eb-4db1-8077-1913690e224a\")>,\n",
       " <selenium.webdriver.remote.webelement.WebElement (session=\"8fef1f6a0bc15650a1946b58e7a95b00\", element=\"c0f72c28-637f-49b0-b6ce-59ece39523a6\")>]"
      ]
     },
     "execution_count": 10,
     "metadata": {},
     "output_type": "execute_result"
    }
   ],
   "source": [
    "# GET EACH COLLEGE SPECIFICATION HEADERS\n",
    "header=browser.find_elements(\"xpath\",\"//div[@class='_click-function_ind']\")\n",
    "header"
   ]
  },
  {
   "cell_type": "code",
   "execution_count": 11,
   "id": "0236fd37",
   "metadata": {},
   "outputs": [
    {
     "data": {
      "text/plain": [
       "['Overall Score',\n",
       " 'Academic Reputation',\n",
       " 'Employer Reputation',\n",
       " 'Citations per Faculty',\n",
       " 'Faculty Student Ratio',\n",
       " 'International Students Ratio',\n",
       " 'International Faculty Ratio',\n",
       " 'International Research Network\\nUnweighted',\n",
       " 'Employment Outcomes\\nUnweighted']"
      ]
     },
     "execution_count": 11,
     "metadata": {},
     "output_type": "execute_result"
    }
   ],
   "source": [
    "column_head=[]\n",
    "for data in header:\n",
    "    #get the text data\n",
    "    temp=data.text\n",
    "    column_head.append(temp)\n",
    "column_head\n"
   ]
  },
  {
   "cell_type": "code",
   "execution_count": 12,
   "id": "91381c60",
   "metadata": {},
   "outputs": [
    {
     "data": {
      "text/plain": [
       "[<selenium.webdriver.remote.webelement.WebElement (session=\"8fef1f6a0bc15650a1946b58e7a95b00\", element=\"75674ce5-423d-4de8-8f54-223555e82151\")>,\n",
       " <selenium.webdriver.remote.webelement.WebElement (session=\"8fef1f6a0bc15650a1946b58e7a95b00\", element=\"9d7fedc3-b609-4c7b-abee-a6fb1f366eb7\")>,\n",
       " <selenium.webdriver.remote.webelement.WebElement (session=\"8fef1f6a0bc15650a1946b58e7a95b00\", element=\"f8f25c09-28ab-41d6-8bc9-ba6a3a4303ab\")>,\n",
       " <selenium.webdriver.remote.webelement.WebElement (session=\"8fef1f6a0bc15650a1946b58e7a95b00\", element=\"65405afa-46b3-44c1-a023-b0f6b212df9c\")>,\n",
       " <selenium.webdriver.remote.webelement.WebElement (session=\"8fef1f6a0bc15650a1946b58e7a95b00\", element=\"08373410-181c-4182-ac7f-d0649fec8af0\")>,\n",
       " <selenium.webdriver.remote.webelement.WebElement (session=\"8fef1f6a0bc15650a1946b58e7a95b00\", element=\"4333fbd9-0b8c-4a5d-83fb-29617bce7cf6\")>,\n",
       " <selenium.webdriver.remote.webelement.WebElement (session=\"8fef1f6a0bc15650a1946b58e7a95b00\", element=\"d8ec1dce-c7c6-430c-a8f4-9a3756351ab9\")>,\n",
       " <selenium.webdriver.remote.webelement.WebElement (session=\"8fef1f6a0bc15650a1946b58e7a95b00\", element=\"1e4ffd48-a068-4f3e-a8a5-d04164785716\")>,\n",
       " <selenium.webdriver.remote.webelement.WebElement (session=\"8fef1f6a0bc15650a1946b58e7a95b00\", element=\"ff964182-9c73-4a3b-874d-c529f93d0df4\")>,\n",
       " <selenium.webdriver.remote.webelement.WebElement (session=\"8fef1f6a0bc15650a1946b58e7a95b00\", element=\"b30a4a52-e4fa-426e-9a33-86cd2964a5e4\")>,\n",
       " <selenium.webdriver.remote.webelement.WebElement (session=\"8fef1f6a0bc15650a1946b58e7a95b00\", element=\"328dea8d-9d7f-44e0-b97d-5d1957a8da0f\")>,\n",
       " <selenium.webdriver.remote.webelement.WebElement (session=\"8fef1f6a0bc15650a1946b58e7a95b00\", element=\"6e086ba4-e98c-42fb-9e94-d09751d11c14\")>,\n",
       " <selenium.webdriver.remote.webelement.WebElement (session=\"8fef1f6a0bc15650a1946b58e7a95b00\", element=\"755104a3-3c0f-40c3-9e6f-eb9324002e1a\")>,\n",
       " <selenium.webdriver.remote.webelement.WebElement (session=\"8fef1f6a0bc15650a1946b58e7a95b00\", element=\"14bbb1ed-2263-4092-912f-a291f10db9c8\")>,\n",
       " <selenium.webdriver.remote.webelement.WebElement (session=\"8fef1f6a0bc15650a1946b58e7a95b00\", element=\"07fc0881-7add-475b-9d1a-3ecc4ff1ddb8\")>,\n",
       " <selenium.webdriver.remote.webelement.WebElement (session=\"8fef1f6a0bc15650a1946b58e7a95b00\", element=\"92dd1632-435e-4141-a0cd-566e117973ce\")>,\n",
       " <selenium.webdriver.remote.webelement.WebElement (session=\"8fef1f6a0bc15650a1946b58e7a95b00\", element=\"35ebe1df-28dc-49fc-974d-afe0a1829ebe\")>,\n",
       " <selenium.webdriver.remote.webelement.WebElement (session=\"8fef1f6a0bc15650a1946b58e7a95b00\", element=\"580f52ff-8274-4d91-9b7d-a7f2cbf9c76e\")>,\n",
       " <selenium.webdriver.remote.webelement.WebElement (session=\"8fef1f6a0bc15650a1946b58e7a95b00\", element=\"7d3d6ab9-ab3b-4597-bd21-1da1fc89a068\")>,\n",
       " <selenium.webdriver.remote.webelement.WebElement (session=\"8fef1f6a0bc15650a1946b58e7a95b00\", element=\"595d699e-4e29-4d42-bedf-b4007d64a70b\")>,\n",
       " <selenium.webdriver.remote.webelement.WebElement (session=\"8fef1f6a0bc15650a1946b58e7a95b00\", element=\"8552f4ab-16c7-49a1-85bd-c8819c47f87c\")>,\n",
       " <selenium.webdriver.remote.webelement.WebElement (session=\"8fef1f6a0bc15650a1946b58e7a95b00\", element=\"6f9f8b8c-b6ca-4c76-8de2-a2f5526234c9\")>,\n",
       " <selenium.webdriver.remote.webelement.WebElement (session=\"8fef1f6a0bc15650a1946b58e7a95b00\", element=\"93626b4b-a62e-4679-b12e-7ba75a3a7470\")>,\n",
       " <selenium.webdriver.remote.webelement.WebElement (session=\"8fef1f6a0bc15650a1946b58e7a95b00\", element=\"a89d3459-d90b-4df4-84b9-8b1ea0cf868e\")>,\n",
       " <selenium.webdriver.remote.webelement.WebElement (session=\"8fef1f6a0bc15650a1946b58e7a95b00\", element=\"685e43dd-dfeb-484d-8d72-0fc02fe34365\")>,\n",
       " <selenium.webdriver.remote.webelement.WebElement (session=\"8fef1f6a0bc15650a1946b58e7a95b00\", element=\"685825a7-6fd3-4d82-91af-50c341135a4b\")>,\n",
       " <selenium.webdriver.remote.webelement.WebElement (session=\"8fef1f6a0bc15650a1946b58e7a95b00\", element=\"ebb680a5-a814-4434-ac97-35c86d60b397\")>,\n",
       " <selenium.webdriver.remote.webelement.WebElement (session=\"8fef1f6a0bc15650a1946b58e7a95b00\", element=\"752c1c1d-6b9c-4a52-89c1-0e60ad5cbb49\")>,\n",
       " <selenium.webdriver.remote.webelement.WebElement (session=\"8fef1f6a0bc15650a1946b58e7a95b00\", element=\"53c1d09f-cb11-4081-9891-ad47a66f67f8\")>,\n",
       " <selenium.webdriver.remote.webelement.WebElement (session=\"8fef1f6a0bc15650a1946b58e7a95b00\", element=\"aa5c9a2f-c12a-4cf1-8bb5-4b101abdd5d8\")>,\n",
       " <selenium.webdriver.remote.webelement.WebElement (session=\"8fef1f6a0bc15650a1946b58e7a95b00\", element=\"970102ec-0444-4795-bda0-b4252f1353c0\")>,\n",
       " <selenium.webdriver.remote.webelement.WebElement (session=\"8fef1f6a0bc15650a1946b58e7a95b00\", element=\"a412844c-f59f-4d30-8e48-b79aadd043d6\")>,\n",
       " <selenium.webdriver.remote.webelement.WebElement (session=\"8fef1f6a0bc15650a1946b58e7a95b00\", element=\"0bba2126-8ecd-4240-b22a-8203cc892316\")>,\n",
       " <selenium.webdriver.remote.webelement.WebElement (session=\"8fef1f6a0bc15650a1946b58e7a95b00\", element=\"c9776bca-e83e-4057-9ec2-df78e585c4d1\")>,\n",
       " <selenium.webdriver.remote.webelement.WebElement (session=\"8fef1f6a0bc15650a1946b58e7a95b00\", element=\"859708a2-95e9-499d-b8c9-bd84c73c41c9\")>,\n",
       " <selenium.webdriver.remote.webelement.WebElement (session=\"8fef1f6a0bc15650a1946b58e7a95b00\", element=\"362ac088-c93f-4d53-b5e7-eed3b35c6094\")>,\n",
       " <selenium.webdriver.remote.webelement.WebElement (session=\"8fef1f6a0bc15650a1946b58e7a95b00\", element=\"85aed8e6-67fb-4b19-b4c6-40cc01ce8497\")>,\n",
       " <selenium.webdriver.remote.webelement.WebElement (session=\"8fef1f6a0bc15650a1946b58e7a95b00\", element=\"d5b36f51-c41a-4ada-848b-c99d4d7034ce\")>,\n",
       " <selenium.webdriver.remote.webelement.WebElement (session=\"8fef1f6a0bc15650a1946b58e7a95b00\", element=\"3619ee3a-92c1-4cb4-a013-78ba810780f0\")>,\n",
       " <selenium.webdriver.remote.webelement.WebElement (session=\"8fef1f6a0bc15650a1946b58e7a95b00\", element=\"b5ad2499-06bc-486d-970d-55b6f7a681a9\")>,\n",
       " <selenium.webdriver.remote.webelement.WebElement (session=\"8fef1f6a0bc15650a1946b58e7a95b00\", element=\"413a8159-6984-4249-b567-84c56aa00d61\")>,\n",
       " <selenium.webdriver.remote.webelement.WebElement (session=\"8fef1f6a0bc15650a1946b58e7a95b00\", element=\"31116510-ff97-4f6b-913d-7875d54d31c0\")>,\n",
       " <selenium.webdriver.remote.webelement.WebElement (session=\"8fef1f6a0bc15650a1946b58e7a95b00\", element=\"82ddbc5c-8903-4856-8286-16e5a59d3683\")>,\n",
       " <selenium.webdriver.remote.webelement.WebElement (session=\"8fef1f6a0bc15650a1946b58e7a95b00\", element=\"1a97e339-3f06-4d2b-a01c-b26a93dd022d\")>,\n",
       " <selenium.webdriver.remote.webelement.WebElement (session=\"8fef1f6a0bc15650a1946b58e7a95b00\", element=\"d4b385ab-2856-40cd-98ea-a41cac51feb7\")>,\n",
       " <selenium.webdriver.remote.webelement.WebElement (session=\"8fef1f6a0bc15650a1946b58e7a95b00\", element=\"c2fbad91-fad1-49e5-a272-13e836ece784\")>,\n",
       " <selenium.webdriver.remote.webelement.WebElement (session=\"8fef1f6a0bc15650a1946b58e7a95b00\", element=\"3875548f-095d-4981-89e8-04a52f552771\")>,\n",
       " <selenium.webdriver.remote.webelement.WebElement (session=\"8fef1f6a0bc15650a1946b58e7a95b00\", element=\"b2f37866-cd1f-4e2e-89ca-7f3370349839\")>,\n",
       " <selenium.webdriver.remote.webelement.WebElement (session=\"8fef1f6a0bc15650a1946b58e7a95b00\", element=\"d7ef4a6f-4cf4-4fcc-b227-8a5d7fcdd177\")>,\n",
       " <selenium.webdriver.remote.webelement.WebElement (session=\"8fef1f6a0bc15650a1946b58e7a95b00\", element=\"edba3738-a356-4102-8f7e-3a88ad517e52\")>,\n",
       " <selenium.webdriver.remote.webelement.WebElement (session=\"8fef1f6a0bc15650a1946b58e7a95b00\", element=\"101e166b-b033-4368-a5b8-38a5c9fe9093\")>,\n",
       " <selenium.webdriver.remote.webelement.WebElement (session=\"8fef1f6a0bc15650a1946b58e7a95b00\", element=\"d0980f74-5b60-4315-b6b0-05e34dbe3930\")>,\n",
       " <selenium.webdriver.remote.webelement.WebElement (session=\"8fef1f6a0bc15650a1946b58e7a95b00\", element=\"b3446300-80c7-4265-8979-7754f3926bac\")>,\n",
       " <selenium.webdriver.remote.webelement.WebElement (session=\"8fef1f6a0bc15650a1946b58e7a95b00\", element=\"d423f7a3-28d6-4185-8cad-9ae563a6ad0f\")>,\n",
       " <selenium.webdriver.remote.webelement.WebElement (session=\"8fef1f6a0bc15650a1946b58e7a95b00\", element=\"298a73f1-54f4-4039-8c60-d6788c688bc9\")>,\n",
       " <selenium.webdriver.remote.webelement.WebElement (session=\"8fef1f6a0bc15650a1946b58e7a95b00\", element=\"cc0c574f-d8f1-4abc-bb77-238fa6753bff\")>,\n",
       " <selenium.webdriver.remote.webelement.WebElement (session=\"8fef1f6a0bc15650a1946b58e7a95b00\", element=\"ba465280-6bfd-480c-a02e-121a098ea78e\")>,\n",
       " <selenium.webdriver.remote.webelement.WebElement (session=\"8fef1f6a0bc15650a1946b58e7a95b00\", element=\"083f989f-a6f7-4eb0-b66f-8b2485068076\")>,\n",
       " <selenium.webdriver.remote.webelement.WebElement (session=\"8fef1f6a0bc15650a1946b58e7a95b00\", element=\"44a1079d-7465-417c-bf39-1da0cf03e8ff\")>,\n",
       " <selenium.webdriver.remote.webelement.WebElement (session=\"8fef1f6a0bc15650a1946b58e7a95b00\", element=\"32307f5c-037f-4d4e-bd68-dc279b8806de\")>,\n",
       " <selenium.webdriver.remote.webelement.WebElement (session=\"8fef1f6a0bc15650a1946b58e7a95b00\", element=\"7acbbe11-2930-4472-b7ae-aa0cc0f39130\")>,\n",
       " <selenium.webdriver.remote.webelement.WebElement (session=\"8fef1f6a0bc15650a1946b58e7a95b00\", element=\"48f56afc-7f0a-49f2-82de-c8c874ccdf73\")>,\n",
       " <selenium.webdriver.remote.webelement.WebElement (session=\"8fef1f6a0bc15650a1946b58e7a95b00\", element=\"e8c9cb4e-eeb1-42f4-a38b-b3b6b644cabc\")>,\n",
       " <selenium.webdriver.remote.webelement.WebElement (session=\"8fef1f6a0bc15650a1946b58e7a95b00\", element=\"31012b6b-e197-43ee-9c97-cd490d576f37\")>,\n",
       " <selenium.webdriver.remote.webelement.WebElement (session=\"8fef1f6a0bc15650a1946b58e7a95b00\", element=\"cde92b3c-30af-4518-9f84-298466fb9955\")>,\n",
       " <selenium.webdriver.remote.webelement.WebElement (session=\"8fef1f6a0bc15650a1946b58e7a95b00\", element=\"e0394801-3e6a-4a3a-a97a-d102e7c0ce48\")>,\n",
       " <selenium.webdriver.remote.webelement.WebElement (session=\"8fef1f6a0bc15650a1946b58e7a95b00\", element=\"30e7574b-531b-4187-9be5-58030a116cf5\")>,\n",
       " <selenium.webdriver.remote.webelement.WebElement (session=\"8fef1f6a0bc15650a1946b58e7a95b00\", element=\"a55880cc-e284-43ba-a0fc-e9c1be59461f\")>,\n",
       " <selenium.webdriver.remote.webelement.WebElement (session=\"8fef1f6a0bc15650a1946b58e7a95b00\", element=\"f1dfdaf3-9f7f-419b-b541-52cccebbb428\")>,\n",
       " <selenium.webdriver.remote.webelement.WebElement (session=\"8fef1f6a0bc15650a1946b58e7a95b00\", element=\"e073eff6-72aa-4234-850a-a5329a38e677\")>,\n",
       " <selenium.webdriver.remote.webelement.WebElement (session=\"8fef1f6a0bc15650a1946b58e7a95b00\", element=\"6649ee02-2bb1-4e7a-a1a5-4a9076d2e347\")>,\n",
       " <selenium.webdriver.remote.webelement.WebElement (session=\"8fef1f6a0bc15650a1946b58e7a95b00\", element=\"3e8f9d05-40f0-43b4-98e1-b901893fec75\")>,\n",
       " <selenium.webdriver.remote.webelement.WebElement (session=\"8fef1f6a0bc15650a1946b58e7a95b00\", element=\"000ba9d2-10f0-420d-acce-ff8eafb0b178\")>,\n",
       " <selenium.webdriver.remote.webelement.WebElement (session=\"8fef1f6a0bc15650a1946b58e7a95b00\", element=\"8b6dfc2d-dc5e-41ed-aa89-e952f9021c65\")>,\n",
       " <selenium.webdriver.remote.webelement.WebElement (session=\"8fef1f6a0bc15650a1946b58e7a95b00\", element=\"80b3c2d6-245c-4b3a-ac54-bc29544f2416\")>,\n",
       " <selenium.webdriver.remote.webelement.WebElement (session=\"8fef1f6a0bc15650a1946b58e7a95b00\", element=\"fdda4a05-88af-4360-b52a-18de2eee0eed\")>,\n",
       " <selenium.webdriver.remote.webelement.WebElement (session=\"8fef1f6a0bc15650a1946b58e7a95b00\", element=\"39516793-35e7-44fc-9cd6-895302a62cd9\")>,\n",
       " <selenium.webdriver.remote.webelement.WebElement (session=\"8fef1f6a0bc15650a1946b58e7a95b00\", element=\"2df1f1d9-5824-40ca-b000-624128005820\")>,\n",
       " <selenium.webdriver.remote.webelement.WebElement (session=\"8fef1f6a0bc15650a1946b58e7a95b00\", element=\"c8ae5446-d298-4035-8fd5-48415a8920e3\")>,\n",
       " <selenium.webdriver.remote.webelement.WebElement (session=\"8fef1f6a0bc15650a1946b58e7a95b00\", element=\"ec56b154-4c18-4c0a-837c-2ee5b069b532\")>,\n",
       " <selenium.webdriver.remote.webelement.WebElement (session=\"8fef1f6a0bc15650a1946b58e7a95b00\", element=\"c356368c-2cf4-46c9-abd5-3074acf686c1\")>,\n",
       " <selenium.webdriver.remote.webelement.WebElement (session=\"8fef1f6a0bc15650a1946b58e7a95b00\", element=\"29db1276-a04e-4f49-813c-2e9c38814c40\")>,\n",
       " <selenium.webdriver.remote.webelement.WebElement (session=\"8fef1f6a0bc15650a1946b58e7a95b00\", element=\"52931560-99ba-461c-8aba-b9db9bf209ca\")>,\n",
       " <selenium.webdriver.remote.webelement.WebElement (session=\"8fef1f6a0bc15650a1946b58e7a95b00\", element=\"5442b601-b15f-44b6-a06d-a6bffcccf518\")>,\n",
       " <selenium.webdriver.remote.webelement.WebElement (session=\"8fef1f6a0bc15650a1946b58e7a95b00\", element=\"ab3444c5-9606-451b-9108-5bf89eefc807\")>,\n",
       " <selenium.webdriver.remote.webelement.WebElement (session=\"8fef1f6a0bc15650a1946b58e7a95b00\", element=\"f0bdbc07-a87f-44f9-aef6-d08319e932c2\")>,\n",
       " <selenium.webdriver.remote.webelement.WebElement (session=\"8fef1f6a0bc15650a1946b58e7a95b00\", element=\"d5f1a635-8a5a-404d-83dd-b1393f85cfc3\")>,\n",
       " <selenium.webdriver.remote.webelement.WebElement (session=\"8fef1f6a0bc15650a1946b58e7a95b00\", element=\"80f59794-34dd-4855-b188-7a6f07e2736d\")>,\n",
       " <selenium.webdriver.remote.webelement.WebElement (session=\"8fef1f6a0bc15650a1946b58e7a95b00\", element=\"4716f950-687b-4e6f-83f0-408f038c8d3c\")>,\n",
       " <selenium.webdriver.remote.webelement.WebElement (session=\"8fef1f6a0bc15650a1946b58e7a95b00\", element=\"9b287004-5ee0-4e3a-acd4-2d7c30fd8cdf\")>,\n",
       " <selenium.webdriver.remote.webelement.WebElement (session=\"8fef1f6a0bc15650a1946b58e7a95b00\", element=\"e6e327eb-ae94-4e41-aae7-40124ab1d7c4\")>,\n",
       " <selenium.webdriver.remote.webelement.WebElement (session=\"8fef1f6a0bc15650a1946b58e7a95b00\", element=\"ccd1e93c-cfa2-4b5b-9281-1de5f76a8c6e\")>,\n",
       " <selenium.webdriver.remote.webelement.WebElement (session=\"8fef1f6a0bc15650a1946b58e7a95b00\", element=\"d35120ea-47f3-451a-9b69-55b7a3a6a24f\")>,\n",
       " <selenium.webdriver.remote.webelement.WebElement (session=\"8fef1f6a0bc15650a1946b58e7a95b00\", element=\"72a1c4c5-c3da-40fa-941d-b6d063bd16bb\")>,\n",
       " <selenium.webdriver.remote.webelement.WebElement (session=\"8fef1f6a0bc15650a1946b58e7a95b00\", element=\"251dfed5-2729-4876-8b05-f6e4b51ff98b\")>,\n",
       " <selenium.webdriver.remote.webelement.WebElement (session=\"8fef1f6a0bc15650a1946b58e7a95b00\", element=\"c71115ac-d6cd-4c5d-a54a-695fc29a1728\")>,\n",
       " <selenium.webdriver.remote.webelement.WebElement (session=\"8fef1f6a0bc15650a1946b58e7a95b00\", element=\"28dcfe98-4351-4675-a5a6-656f5d2d843e\")>,\n",
       " <selenium.webdriver.remote.webelement.WebElement (session=\"8fef1f6a0bc15650a1946b58e7a95b00\", element=\"25555f3b-e678-4624-ac04-abc2f77aef64\")>,\n",
       " <selenium.webdriver.remote.webelement.WebElement (session=\"8fef1f6a0bc15650a1946b58e7a95b00\", element=\"d7209f52-8afc-4e8e-a896-1963e64707bf\")>,\n",
       " <selenium.webdriver.remote.webelement.WebElement (session=\"8fef1f6a0bc15650a1946b58e7a95b00\", element=\"2188f2b5-5edc-4d35-86ac-ac310334a11e\")>]"
      ]
     },
     "execution_count": 12,
     "metadata": {},
     "output_type": "execute_result"
    }
   ],
   "source": [
    "header2=browser.find_elements(\"xpath\",\"//div[@class='td-wrap-in']\")\n",
    "header2"
   ]
  },
  {
   "cell_type": "code",
   "execution_count": 13,
   "id": "0853f55b",
   "metadata": {},
   "outputs": [
    {
     "data": {
      "text/plain": [
       "['89.2', '83.7', '71.8', '99.4', '91.1', '100', '100', '87.3', '28']"
      ]
     },
     "execution_count": 13,
     "metadata": {},
     "output_type": "execute_result"
    }
   ],
   "source": [
    "#PARSING DATA\n",
    "value_head=[]\n",
    "for data in header2:\n",
    "    #get the text data\n",
    "    temp=data.text\n",
    "    value_head.append(temp)\n",
    "value=value_head[51:60]\n",
    "value"
   ]
  },
  {
   "cell_type": "code",
   "execution_count": 14,
   "id": "111418ab",
   "metadata": {},
   "outputs": [
    {
     "data": {
      "text/plain": [
       "{'Name': 'EPFL',\n",
       " 'Location': 'Lausanne, Switzerland',\n",
       " 'Rank': '=16',\n",
       " 'Overall Score': '89.2',\n",
       " 'Academic Reputation': '83.7',\n",
       " 'Employer Reputation': '71.8',\n",
       " 'Citations per Faculty': '99.4',\n",
       " 'Faculty Student Ratio': '91.1',\n",
       " 'International Students Ratio': '100',\n",
       " 'International Faculty Ratio': '100',\n",
       " 'International Research Network\\nUnweighted': '87.3',\n",
       " 'Employment Outcomes\\nUnweighted': '28'}"
      ]
     },
     "execution_count": 14,
     "metadata": {},
     "output_type": "execute_result"
    }
   ],
   "source": [
    "d={}\n",
    "d['Name']=value_head[50]\n",
    "d['Location']=loc[5]\n",
    "d['Rank']=RANK[5]\n",
    "\n",
    "for i in range(len(column_head)):\n",
    "    d[column_head[i]]=value[i]\n",
    "d\n"
   ]
  },
  {
   "cell_type": "code",
   "execution_count": 15,
   "id": "473acbad",
   "metadata": {},
   "outputs": [
    {
     "data": {
      "text/plain": [
       "'{\"Name\": \"EPFL\", \"Location\": \"Lausanne, Switzerland\", \"Rank\": \"=16\", \"Overall Score\": \"89.2\", \"Academic Reputation\": \"83.7\", \"Employer Reputation\": \"71.8\", \"Citations per Faculty\": \"99.4\", \"Faculty Student Ratio\": \"91.1\", \"International Students Ratio\": \"100\", \"International Faculty Ratio\": \"100\", \"International Research Network\\\\nUnweighted\": \"87.3\", \"Employment Outcomes\\\\nUnweighted\": \"28\"}'"
      ]
     },
     "execution_count": 15,
     "metadata": {},
     "output_type": "execute_result"
    }
   ],
   "source": [
    "s1=json.dumps(d)\n",
    "s1"
   ]
  },
  {
   "cell_type": "code",
   "execution_count": 16,
   "id": "028e4ec3",
   "metadata": {},
   "outputs": [],
   "source": [
    "with open('EPFL.json','w') as f:\n",
    "    json.dump(d,f)"
   ]
  },
  {
   "cell_type": "code",
   "execution_count": null,
   "id": "4d7547af",
   "metadata": {},
   "outputs": [],
   "source": []
  }
 ],
 "metadata": {
  "kernelspec": {
   "display_name": "Python 3 (ipykernel)",
   "language": "python",
   "name": "python3"
  },
  "language_info": {
   "codemirror_mode": {
    "name": "ipython",
    "version": 3
   },
   "file_extension": ".py",
   "mimetype": "text/x-python",
   "name": "python",
   "nbconvert_exporter": "python",
   "pygments_lexer": "ipython3",
   "version": "3.9.12"
  }
 },
 "nbformat": 4,
 "nbformat_minor": 5
}
