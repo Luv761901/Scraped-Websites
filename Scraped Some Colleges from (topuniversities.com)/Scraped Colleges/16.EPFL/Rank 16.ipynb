{
 "cells": [
  {
   "cell_type": "code",
   "execution_count": 8,
   "id": "e4fdf0a8",
   "metadata": {},
   "outputs": [],
   "source": [
    "from selenium import webdriver\n",
    "from selenium.webdriver.chrome.service import Service\n",
    "import pandas as pd\n",
    "import json"
   ]
  },
  {
   "cell_type": "code",
   "execution_count": 9,
   "id": "800bb96a",
   "metadata": {},
   "outputs": [],
   "source": [
    "path = Service('C:\\chromedriver.exe')\n"
   ]
  },
  {
   "cell_type": "code",
   "execution_count": 10,
   "id": "15b86456",
   "metadata": {},
   "outputs": [],
   "source": [
    "browser = webdriver.Chrome(service = path)\n"
   ]
  },
  {
   "cell_type": "code",
   "execution_count": 11,
   "id": "6de6b146",
   "metadata": {},
   "outputs": [],
   "source": [
    "url = \"https://www.topuniversities.com/university-rankings/world-university-rankings/2023\""
   ]
  },
  {
   "cell_type": "code",
   "execution_count": 12,
   "id": "c1752116",
   "metadata": {},
   "outputs": [],
   "source": [
    "# open the page url ion chrome\n",
    "browser.get(url)"
   ]
  },
  {
   "cell_type": "code",
   "execution_count": 13,
   "id": "27c54e38",
   "metadata": {},
   "outputs": [
    {
     "data": {
      "text/plain": [
       "[<selenium.webdriver.remote.webelement.WebElement (session=\"e0c976155faa485298d96376f26ecb80\", element=\"6d2ac197-d927-4c65-9f43-a7c015845a2a\")>,\n",
       " <selenium.webdriver.remote.webelement.WebElement (session=\"e0c976155faa485298d96376f26ecb80\", element=\"9804fc3a-f20a-4aa1-8239-3b7e25855df6\")>,\n",
       " <selenium.webdriver.remote.webelement.WebElement (session=\"e0c976155faa485298d96376f26ecb80\", element=\"49469980-c1c7-4275-8e8a-78e842e90036\")>,\n",
       " <selenium.webdriver.remote.webelement.WebElement (session=\"e0c976155faa485298d96376f26ecb80\", element=\"00fab769-4f07-475a-bff3-06074c527554\")>,\n",
       " <selenium.webdriver.remote.webelement.WebElement (session=\"e0c976155faa485298d96376f26ecb80\", element=\"455cd894-8de8-4756-838f-de98d156123b\")>,\n",
       " <selenium.webdriver.remote.webelement.WebElement (session=\"e0c976155faa485298d96376f26ecb80\", element=\"00b5bc6a-85de-4d82-a58a-c8939fe902fa\")>,\n",
       " <selenium.webdriver.remote.webelement.WebElement (session=\"e0c976155faa485298d96376f26ecb80\", element=\"6cbdb7d2-24bd-45d6-8b1c-da34ecd285d9\")>,\n",
       " <selenium.webdriver.remote.webelement.WebElement (session=\"e0c976155faa485298d96376f26ecb80\", element=\"dc17d76f-ae7f-4777-b0b8-e766840687ec\")>,\n",
       " <selenium.webdriver.remote.webelement.WebElement (session=\"e0c976155faa485298d96376f26ecb80\", element=\"2afe6e05-d869-4210-9a20-addb4e8a33c2\")>]"
      ]
     },
     "execution_count": 13,
     "metadata": {},
     "output_type": "execute_result"
    }
   ],
   "source": [
    "# GET EACH COLLEGE SPECIFICATION HEADERS\n",
    "header=browser.find_elements(\"xpath\",\"//div[@class='_click-function_ind']\")\n",
    "header"
   ]
  },
  {
   "cell_type": "code",
   "execution_count": 14,
   "id": "0236fd37",
   "metadata": {},
   "outputs": [
    {
     "data": {
      "text/plain": [
       "['Overall Score',\n",
       " 'Academic Reputation',\n",
       " 'Employer Reputation',\n",
       " 'Citations per Faculty',\n",
       " 'Faculty Student Ratio',\n",
       " 'International Students Ratio',\n",
       " 'International Faculty Ratio',\n",
       " 'International Research Network\\nUnweighted',\n",
       " 'Employment Outcomes\\nUnweighted']"
      ]
     },
     "execution_count": 14,
     "metadata": {},
     "output_type": "execute_result"
    }
   ],
   "source": [
    "column_head=[]\n",
    "for data in header:\n",
    "    #get the text data\n",
    "    temp=data.text\n",
    "    column_head.append(temp)\n",
    "column_head\n"
   ]
  },
  {
   "cell_type": "code",
   "execution_count": 15,
   "id": "91381c60",
   "metadata": {},
   "outputs": [
    {
     "data": {
      "text/plain": [
       "[<selenium.webdriver.remote.webelement.WebElement (session=\"e0c976155faa485298d96376f26ecb80\", element=\"d6f0c850-888a-4c06-9d9d-25978cf8764c\")>,\n",
       " <selenium.webdriver.remote.webelement.WebElement (session=\"e0c976155faa485298d96376f26ecb80\", element=\"813da5a7-7343-4a64-b31d-bf72c6c5478d\")>,\n",
       " <selenium.webdriver.remote.webelement.WebElement (session=\"e0c976155faa485298d96376f26ecb80\", element=\"95d28c8d-920a-4bad-9174-21334ea62fd3\")>,\n",
       " <selenium.webdriver.remote.webelement.WebElement (session=\"e0c976155faa485298d96376f26ecb80\", element=\"2e2dd768-9ae2-4824-be8b-40c135bb3f01\")>,\n",
       " <selenium.webdriver.remote.webelement.WebElement (session=\"e0c976155faa485298d96376f26ecb80\", element=\"478bb0b9-4242-4a70-8fdd-2e50bcc63178\")>,\n",
       " <selenium.webdriver.remote.webelement.WebElement (session=\"e0c976155faa485298d96376f26ecb80\", element=\"f633b551-39fd-4655-a831-ebc26e2f7561\")>,\n",
       " <selenium.webdriver.remote.webelement.WebElement (session=\"e0c976155faa485298d96376f26ecb80\", element=\"7a58de8d-1b9e-4ca0-b5ef-be0ee396d0b4\")>,\n",
       " <selenium.webdriver.remote.webelement.WebElement (session=\"e0c976155faa485298d96376f26ecb80\", element=\"c852527b-b07d-4743-ae1a-6e8f081776ec\")>,\n",
       " <selenium.webdriver.remote.webelement.WebElement (session=\"e0c976155faa485298d96376f26ecb80\", element=\"2340a4f4-93c2-4c9d-912e-f454be11375d\")>,\n",
       " <selenium.webdriver.remote.webelement.WebElement (session=\"e0c976155faa485298d96376f26ecb80\", element=\"0f835625-4a7a-41a5-bcf1-de10c6154985\")>,\n",
       " <selenium.webdriver.remote.webelement.WebElement (session=\"e0c976155faa485298d96376f26ecb80\", element=\"0e2fa715-bfd7-4446-bf49-dc158a34a8a9\")>,\n",
       " <selenium.webdriver.remote.webelement.WebElement (session=\"e0c976155faa485298d96376f26ecb80\", element=\"dc9cee79-2165-43a7-b3e4-f710efe8786d\")>,\n",
       " <selenium.webdriver.remote.webelement.WebElement (session=\"e0c976155faa485298d96376f26ecb80\", element=\"bb04209a-634d-48ec-900d-b319302e6ac7\")>,\n",
       " <selenium.webdriver.remote.webelement.WebElement (session=\"e0c976155faa485298d96376f26ecb80\", element=\"ec74b653-5bf1-4fe7-9110-5c0c30b6d0e0\")>,\n",
       " <selenium.webdriver.remote.webelement.WebElement (session=\"e0c976155faa485298d96376f26ecb80\", element=\"0081c515-20e1-4477-8a04-5024e1c98421\")>,\n",
       " <selenium.webdriver.remote.webelement.WebElement (session=\"e0c976155faa485298d96376f26ecb80\", element=\"8d967c40-1d48-4d5a-a0f2-02f81bf42760\")>,\n",
       " <selenium.webdriver.remote.webelement.WebElement (session=\"e0c976155faa485298d96376f26ecb80\", element=\"c0579885-1c47-4f74-9257-5598cc35cb3d\")>,\n",
       " <selenium.webdriver.remote.webelement.WebElement (session=\"e0c976155faa485298d96376f26ecb80\", element=\"a0fa172f-d3cf-428f-9119-6656c8e24380\")>,\n",
       " <selenium.webdriver.remote.webelement.WebElement (session=\"e0c976155faa485298d96376f26ecb80\", element=\"22307337-ac25-4cc4-87a6-e3198624e3b9\")>,\n",
       " <selenium.webdriver.remote.webelement.WebElement (session=\"e0c976155faa485298d96376f26ecb80\", element=\"5cad471f-87df-44d9-92df-edbdccfc824e\")>,\n",
       " <selenium.webdriver.remote.webelement.WebElement (session=\"e0c976155faa485298d96376f26ecb80\", element=\"3d96e75d-05f8-49e6-94b7-9664977992ee\")>,\n",
       " <selenium.webdriver.remote.webelement.WebElement (session=\"e0c976155faa485298d96376f26ecb80\", element=\"60fdf189-fd35-445c-a087-66b9c8f6bf25\")>,\n",
       " <selenium.webdriver.remote.webelement.WebElement (session=\"e0c976155faa485298d96376f26ecb80\", element=\"9117ceb4-4436-4509-9d87-c9c986fc680e\")>,\n",
       " <selenium.webdriver.remote.webelement.WebElement (session=\"e0c976155faa485298d96376f26ecb80\", element=\"c15326f5-7856-4083-b7e4-ff3d38d7d250\")>,\n",
       " <selenium.webdriver.remote.webelement.WebElement (session=\"e0c976155faa485298d96376f26ecb80\", element=\"8d38e717-3ee8-4dfa-ae8c-50d0f9338c03\")>,\n",
       " <selenium.webdriver.remote.webelement.WebElement (session=\"e0c976155faa485298d96376f26ecb80\", element=\"2c374c3e-31b3-4475-9953-db53d7eeb574\")>,\n",
       " <selenium.webdriver.remote.webelement.WebElement (session=\"e0c976155faa485298d96376f26ecb80\", element=\"bbe43d51-ed0c-4695-be71-6cdd3fb89620\")>,\n",
       " <selenium.webdriver.remote.webelement.WebElement (session=\"e0c976155faa485298d96376f26ecb80\", element=\"4624fc63-7775-4e39-a3ac-91f2bf0464b2\")>,\n",
       " <selenium.webdriver.remote.webelement.WebElement (session=\"e0c976155faa485298d96376f26ecb80\", element=\"64825756-b6e6-4abb-8359-7ec59e3d5ab2\")>,\n",
       " <selenium.webdriver.remote.webelement.WebElement (session=\"e0c976155faa485298d96376f26ecb80\", element=\"636a395d-c45e-4e2c-9caf-428d143029c1\")>,\n",
       " <selenium.webdriver.remote.webelement.WebElement (session=\"e0c976155faa485298d96376f26ecb80\", element=\"0de85411-3de8-408b-8106-f0d5c2426693\")>,\n",
       " <selenium.webdriver.remote.webelement.WebElement (session=\"e0c976155faa485298d96376f26ecb80\", element=\"86156faa-5c36-40d6-82ae-11cb8ee6f21b\")>,\n",
       " <selenium.webdriver.remote.webelement.WebElement (session=\"e0c976155faa485298d96376f26ecb80\", element=\"21b6fa05-70dc-4c3a-84aa-1d0bb0da1324\")>,\n",
       " <selenium.webdriver.remote.webelement.WebElement (session=\"e0c976155faa485298d96376f26ecb80\", element=\"55409a32-5c6c-4f12-89eb-4b8b9344f1f8\")>,\n",
       " <selenium.webdriver.remote.webelement.WebElement (session=\"e0c976155faa485298d96376f26ecb80\", element=\"1e3bb5e3-8cfb-4c02-b22c-b15bef0f78c0\")>,\n",
       " <selenium.webdriver.remote.webelement.WebElement (session=\"e0c976155faa485298d96376f26ecb80\", element=\"20ff1e41-07df-4a9a-827d-d486b28776a8\")>,\n",
       " <selenium.webdriver.remote.webelement.WebElement (session=\"e0c976155faa485298d96376f26ecb80\", element=\"d6b4849d-c03b-40cd-be3c-443d79550349\")>,\n",
       " <selenium.webdriver.remote.webelement.WebElement (session=\"e0c976155faa485298d96376f26ecb80\", element=\"a88ede47-189c-460c-bfe8-efce2cfe1cb6\")>,\n",
       " <selenium.webdriver.remote.webelement.WebElement (session=\"e0c976155faa485298d96376f26ecb80\", element=\"29ebbb45-ad75-4a29-8a1a-93e6713b0fe2\")>,\n",
       " <selenium.webdriver.remote.webelement.WebElement (session=\"e0c976155faa485298d96376f26ecb80\", element=\"8dd549a4-f013-44f9-9684-901e86f7c63b\")>,\n",
       " <selenium.webdriver.remote.webelement.WebElement (session=\"e0c976155faa485298d96376f26ecb80\", element=\"91933549-d04d-4afc-b5a8-ae62a09d9f5a\")>,\n",
       " <selenium.webdriver.remote.webelement.WebElement (session=\"e0c976155faa485298d96376f26ecb80\", element=\"c3b4a344-2e43-4dde-a8e7-67e7f3e971e7\")>,\n",
       " <selenium.webdriver.remote.webelement.WebElement (session=\"e0c976155faa485298d96376f26ecb80\", element=\"bab0eada-a009-4cc6-9b69-240cdb88172a\")>,\n",
       " <selenium.webdriver.remote.webelement.WebElement (session=\"e0c976155faa485298d96376f26ecb80\", element=\"f3a7653e-6fcc-4bc4-bde4-a4e9f7673277\")>,\n",
       " <selenium.webdriver.remote.webelement.WebElement (session=\"e0c976155faa485298d96376f26ecb80\", element=\"f1d27d0d-2164-4ee7-a39e-f887ce6194b6\")>,\n",
       " <selenium.webdriver.remote.webelement.WebElement (session=\"e0c976155faa485298d96376f26ecb80\", element=\"e69c5879-9c64-4643-9e40-4cf9fe467ea4\")>,\n",
       " <selenium.webdriver.remote.webelement.WebElement (session=\"e0c976155faa485298d96376f26ecb80\", element=\"b778e90c-ea99-4239-98c5-2d7e835e08df\")>,\n",
       " <selenium.webdriver.remote.webelement.WebElement (session=\"e0c976155faa485298d96376f26ecb80\", element=\"f24a11c7-951e-492b-af74-f38ce60c368f\")>,\n",
       " <selenium.webdriver.remote.webelement.WebElement (session=\"e0c976155faa485298d96376f26ecb80\", element=\"035c1e9c-578d-459a-8814-9f0e4e27774b\")>,\n",
       " <selenium.webdriver.remote.webelement.WebElement (session=\"e0c976155faa485298d96376f26ecb80\", element=\"db2b1bad-2f83-4395-9c20-a59021cf6046\")>,\n",
       " <selenium.webdriver.remote.webelement.WebElement (session=\"e0c976155faa485298d96376f26ecb80\", element=\"31ef5b90-0f0c-4427-bcd7-93c53d3b145e\")>,\n",
       " <selenium.webdriver.remote.webelement.WebElement (session=\"e0c976155faa485298d96376f26ecb80\", element=\"a90c837b-40d8-4da1-87c1-c6988f38b519\")>,\n",
       " <selenium.webdriver.remote.webelement.WebElement (session=\"e0c976155faa485298d96376f26ecb80\", element=\"8aaca465-9479-448e-b8fc-73bd4c225552\")>,\n",
       " <selenium.webdriver.remote.webelement.WebElement (session=\"e0c976155faa485298d96376f26ecb80\", element=\"0456faf5-bd91-45b0-8229-bb8215d71c92\")>,\n",
       " <selenium.webdriver.remote.webelement.WebElement (session=\"e0c976155faa485298d96376f26ecb80\", element=\"6d6331d5-92ab-4ae2-b92d-a9b9701c4c15\")>,\n",
       " <selenium.webdriver.remote.webelement.WebElement (session=\"e0c976155faa485298d96376f26ecb80\", element=\"00bd86cd-03f0-4433-814e-a28408e02354\")>,\n",
       " <selenium.webdriver.remote.webelement.WebElement (session=\"e0c976155faa485298d96376f26ecb80\", element=\"b4956051-0aa4-4abb-8e88-4efd7eed9d99\")>,\n",
       " <selenium.webdriver.remote.webelement.WebElement (session=\"e0c976155faa485298d96376f26ecb80\", element=\"e201c64a-3390-4ffe-9447-95922ac7671c\")>,\n",
       " <selenium.webdriver.remote.webelement.WebElement (session=\"e0c976155faa485298d96376f26ecb80\", element=\"cfefacbb-8448-4f7c-b433-716b77f94dc3\")>,\n",
       " <selenium.webdriver.remote.webelement.WebElement (session=\"e0c976155faa485298d96376f26ecb80\", element=\"ac50017e-35fd-478b-a80a-c7c5c63cf8db\")>,\n",
       " <selenium.webdriver.remote.webelement.WebElement (session=\"e0c976155faa485298d96376f26ecb80\", element=\"8f169e6c-a371-447b-b310-47d8aca82690\")>,\n",
       " <selenium.webdriver.remote.webelement.WebElement (session=\"e0c976155faa485298d96376f26ecb80\", element=\"774765ab-7a65-440d-a9a4-0bee762ca4ec\")>,\n",
       " <selenium.webdriver.remote.webelement.WebElement (session=\"e0c976155faa485298d96376f26ecb80\", element=\"1e6986a4-8d8b-496c-a595-e6bb50d65076\")>,\n",
       " <selenium.webdriver.remote.webelement.WebElement (session=\"e0c976155faa485298d96376f26ecb80\", element=\"939a45a6-dde2-47e5-b5e1-4cdb41c97f8c\")>,\n",
       " <selenium.webdriver.remote.webelement.WebElement (session=\"e0c976155faa485298d96376f26ecb80\", element=\"2c6e45bc-c465-4579-82a8-0cd2b70ffa5d\")>,\n",
       " <selenium.webdriver.remote.webelement.WebElement (session=\"e0c976155faa485298d96376f26ecb80\", element=\"07189b74-0243-455b-8080-fae7ed1324e5\")>,\n",
       " <selenium.webdriver.remote.webelement.WebElement (session=\"e0c976155faa485298d96376f26ecb80\", element=\"2dd9b98f-7199-47e3-a323-7f5d321ede35\")>,\n",
       " <selenium.webdriver.remote.webelement.WebElement (session=\"e0c976155faa485298d96376f26ecb80\", element=\"599da13e-3451-4ee9-a29c-89c9f79d3530\")>,\n",
       " <selenium.webdriver.remote.webelement.WebElement (session=\"e0c976155faa485298d96376f26ecb80\", element=\"53b01f47-c071-46aa-97d9-e693f4e46840\")>,\n",
       " <selenium.webdriver.remote.webelement.WebElement (session=\"e0c976155faa485298d96376f26ecb80\", element=\"e40b6891-e8e2-4c04-9635-c9c46d49a14a\")>,\n",
       " <selenium.webdriver.remote.webelement.WebElement (session=\"e0c976155faa485298d96376f26ecb80\", element=\"fd644280-53b4-4874-9efd-1bae9f51d88d\")>,\n",
       " <selenium.webdriver.remote.webelement.WebElement (session=\"e0c976155faa485298d96376f26ecb80\", element=\"de4074a4-a45b-498a-9bb8-47acc8b6228f\")>,\n",
       " <selenium.webdriver.remote.webelement.WebElement (session=\"e0c976155faa485298d96376f26ecb80\", element=\"95bc96d2-9830-4704-8c26-85fc59a6e564\")>,\n",
       " <selenium.webdriver.remote.webelement.WebElement (session=\"e0c976155faa485298d96376f26ecb80\", element=\"b3b249ec-6866-49cd-8b7c-0f54fa55d197\")>,\n",
       " <selenium.webdriver.remote.webelement.WebElement (session=\"e0c976155faa485298d96376f26ecb80\", element=\"7434abd1-f755-4611-8e39-4c77d1870f4a\")>,\n",
       " <selenium.webdriver.remote.webelement.WebElement (session=\"e0c976155faa485298d96376f26ecb80\", element=\"0c67547f-a98e-4ef7-86fb-cd9e60c1cbc2\")>,\n",
       " <selenium.webdriver.remote.webelement.WebElement (session=\"e0c976155faa485298d96376f26ecb80\", element=\"91643846-46d0-4c79-8025-ac3005c82d58\")>,\n",
       " <selenium.webdriver.remote.webelement.WebElement (session=\"e0c976155faa485298d96376f26ecb80\", element=\"22312462-d1c7-40de-a314-01e911db1b43\")>,\n",
       " <selenium.webdriver.remote.webelement.WebElement (session=\"e0c976155faa485298d96376f26ecb80\", element=\"8bef6f2c-f450-47cd-8065-5573a81d0b5d\")>,\n",
       " <selenium.webdriver.remote.webelement.WebElement (session=\"e0c976155faa485298d96376f26ecb80\", element=\"07555736-00c0-461d-a429-5a7684288009\")>,\n",
       " <selenium.webdriver.remote.webelement.WebElement (session=\"e0c976155faa485298d96376f26ecb80\", element=\"a845adb6-07bc-4180-b917-4c0d00ae2ae0\")>,\n",
       " <selenium.webdriver.remote.webelement.WebElement (session=\"e0c976155faa485298d96376f26ecb80\", element=\"09e5d1d6-7226-49ff-b6aa-3d7bcfd51d78\")>,\n",
       " <selenium.webdriver.remote.webelement.WebElement (session=\"e0c976155faa485298d96376f26ecb80\", element=\"6391133f-0e97-44e7-bb8e-e110c7e285cd\")>,\n",
       " <selenium.webdriver.remote.webelement.WebElement (session=\"e0c976155faa485298d96376f26ecb80\", element=\"9c96c39f-1698-437d-8d23-3c89aeba7b9b\")>,\n",
       " <selenium.webdriver.remote.webelement.WebElement (session=\"e0c976155faa485298d96376f26ecb80\", element=\"89650609-265c-47b7-8b92-65d4ab0d8a76\")>,\n",
       " <selenium.webdriver.remote.webelement.WebElement (session=\"e0c976155faa485298d96376f26ecb80\", element=\"1e0a63c7-c9bc-45de-90f7-745531937c38\")>,\n",
       " <selenium.webdriver.remote.webelement.WebElement (session=\"e0c976155faa485298d96376f26ecb80\", element=\"935d4342-4c7a-4f72-8935-807943a9818f\")>,\n",
       " <selenium.webdriver.remote.webelement.WebElement (session=\"e0c976155faa485298d96376f26ecb80\", element=\"42d5f4c9-0a62-4d30-8888-99394fabe4a3\")>,\n",
       " <selenium.webdriver.remote.webelement.WebElement (session=\"e0c976155faa485298d96376f26ecb80\", element=\"d539801a-3545-4b7c-a6c7-c0f04da14d02\")>,\n",
       " <selenium.webdriver.remote.webelement.WebElement (session=\"e0c976155faa485298d96376f26ecb80\", element=\"bff0ae00-8a51-480a-a762-23a88ae86d75\")>,\n",
       " <selenium.webdriver.remote.webelement.WebElement (session=\"e0c976155faa485298d96376f26ecb80\", element=\"8da8d3b0-b835-45c3-9689-3f56d18c0576\")>,\n",
       " <selenium.webdriver.remote.webelement.WebElement (session=\"e0c976155faa485298d96376f26ecb80\", element=\"df255706-5c03-449c-ad01-e111d3db1d00\")>,\n",
       " <selenium.webdriver.remote.webelement.WebElement (session=\"e0c976155faa485298d96376f26ecb80\", element=\"52ea65d4-dafc-4f5c-9d3a-baf6a594f0c0\")>,\n",
       " <selenium.webdriver.remote.webelement.WebElement (session=\"e0c976155faa485298d96376f26ecb80\", element=\"3d86fae9-4614-4126-a052-1decaf5f9bdb\")>,\n",
       " <selenium.webdriver.remote.webelement.WebElement (session=\"e0c976155faa485298d96376f26ecb80\", element=\"6a2db306-d90f-42b4-b663-a36c84418b43\")>,\n",
       " <selenium.webdriver.remote.webelement.WebElement (session=\"e0c976155faa485298d96376f26ecb80\", element=\"6a075d46-7c9f-4e64-92cd-a9014f32f2f1\")>,\n",
       " <selenium.webdriver.remote.webelement.WebElement (session=\"e0c976155faa485298d96376f26ecb80\", element=\"6a9efb0f-7c0c-4be1-bfde-8328d2ece04c\")>,\n",
       " <selenium.webdriver.remote.webelement.WebElement (session=\"e0c976155faa485298d96376f26ecb80\", element=\"d339e5c3-90cb-4dd9-88e4-38c76ce96697\")>,\n",
       " <selenium.webdriver.remote.webelement.WebElement (session=\"e0c976155faa485298d96376f26ecb80\", element=\"1bd83a3f-44ea-464c-8ce0-429eed0f56bf\")>,\n",
       " <selenium.webdriver.remote.webelement.WebElement (session=\"e0c976155faa485298d96376f26ecb80\", element=\"d7d7a187-8362-486d-936c-355dde7ed945\")>]"
      ]
     },
     "execution_count": 15,
     "metadata": {},
     "output_type": "execute_result"
    }
   ],
   "source": [
    "header2=browser.find_elements(\"xpath\",\"//div[@class='td-wrap-in']\")\n",
    "header2"
   ]
  },
  {
   "cell_type": "code",
   "execution_count": 16,
   "id": "0853f55b",
   "metadata": {},
   "outputs": [
    {
     "data": {
      "text/plain": [
       "['89.2', '83.7', '71.8', '99.4', '91.1', '100', '100', '87.3', '28']"
      ]
     },
     "execution_count": 16,
     "metadata": {},
     "output_type": "execute_result"
    }
   ],
   "source": [
    "#PARSING DATA\n",
    "value_head=[]\n",
    "for data in header2:\n",
    "    #get the text data\n",
    "    temp=data.text\n",
    "    value_head.append(temp)\n",
    "value_head=value_head[51:60]\n",
    "value_head"
   ]
  },
  {
   "cell_type": "code",
   "execution_count": 17,
   "id": "111418ab",
   "metadata": {},
   "outputs": [
    {
     "data": {
      "text/plain": [
       "{'Overall Score': '89.2',\n",
       " 'Academic Reputation': '83.7',\n",
       " 'Employer Reputation': '71.8',\n",
       " 'Citations per Faculty': '99.4',\n",
       " 'Faculty Student Ratio': '91.1',\n",
       " 'International Students Ratio': '100',\n",
       " 'International Faculty Ratio': '100',\n",
       " 'International Research Network\\nUnweighted': '87.3',\n",
       " 'Employment Outcomes\\nUnweighted': '28'}"
      ]
     },
     "execution_count": 17,
     "metadata": {},
     "output_type": "execute_result"
    }
   ],
   "source": [
    "d={}\n",
    "for i in range(len(column_head)):\n",
    "    d[column_head[i]]=value_head[i]\n",
    "d\n"
   ]
  },
  {
   "cell_type": "code",
   "execution_count": 18,
   "id": "473acbad",
   "metadata": {},
   "outputs": [
    {
     "data": {
      "text/plain": [
       "'{\"Overall Score\": \"89.2\", \"Academic Reputation\": \"83.7\", \"Employer Reputation\": \"71.8\", \"Citations per Faculty\": \"99.4\", \"Faculty Student Ratio\": \"91.1\", \"International Students Ratio\": \"100\", \"International Faculty Ratio\": \"100\", \"International Research Network\\\\nUnweighted\": \"87.3\", \"Employment Outcomes\\\\nUnweighted\": \"28\"}'"
      ]
     },
     "execution_count": 18,
     "metadata": {},
     "output_type": "execute_result"
    }
   ],
   "source": [
    "s1=json.dumps(d)\n",
    "s1"
   ]
  },
  {
   "cell_type": "code",
   "execution_count": 19,
   "id": "028e4ec3",
   "metadata": {},
   "outputs": [],
   "source": [
    "with open('EPFL.json','w') as f:\n",
    "    json.dump(d,f)"
   ]
  }
 ],
 "metadata": {
  "kernelspec": {
   "display_name": "Python 3 (ipykernel)",
   "language": "python",
   "name": "python3"
  },
  "language_info": {
   "codemirror_mode": {
    "name": "ipython",
    "version": 3
   },
   "file_extension": ".py",
   "mimetype": "text/x-python",
   "name": "python",
   "nbconvert_exporter": "python",
   "pygments_lexer": "ipython3",
   "version": "3.9.12"
  }
 },
 "nbformat": 4,
 "nbformat_minor": 5
}
