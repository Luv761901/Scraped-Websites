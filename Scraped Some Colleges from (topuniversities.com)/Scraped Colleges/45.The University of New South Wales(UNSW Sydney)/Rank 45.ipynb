{
 "cells": [
  {
   "cell_type": "code",
   "execution_count": 1,
   "id": "3edf59fe",
   "metadata": {},
   "outputs": [],
   "source": [
    "from selenium import webdriver\n",
    "from selenium.webdriver.chrome.service import Service\n",
    "import pandas as pd\n",
    "import json"
   ]
  },
  {
   "cell_type": "code",
   "execution_count": 2,
   "id": "0e1b96b3",
   "metadata": {},
   "outputs": [],
   "source": [
    "path = Service('C:\\chromedriver.exe')"
   ]
  },
  {
   "cell_type": "code",
   "execution_count": 3,
   "id": "8ed24c4a",
   "metadata": {},
   "outputs": [],
   "source": [
    "\n",
    "# set path for the driver\n",
    "browser = webdriver.Chrome(service = path)"
   ]
  },
  {
   "cell_type": "code",
   "execution_count": 4,
   "id": "5db255fb",
   "metadata": {},
   "outputs": [],
   "source": [
    "url = \"https://www.topuniversities.com/university-rankings/world-university-rankings/2023\""
   ]
  },
  {
   "cell_type": "code",
   "execution_count": 5,
   "id": "ced65a30",
   "metadata": {},
   "outputs": [],
   "source": [
    "\n",
    "# open the page url ion chrome\n",
    "browser.get(url)\n"
   ]
  },
  {
   "cell_type": "code",
   "execution_count": 6,
   "id": "dafaa206",
   "metadata": {},
   "outputs": [
    {
     "data": {
      "text/plain": [
       "[<selenium.webdriver.remote.webelement.WebElement (session=\"c2ae00157c577d3ac9e03f42ec891a37\", element=\"5663d092-220d-42d0-bc11-b64c1aba4282\")>,\n",
       " <selenium.webdriver.remote.webelement.WebElement (session=\"c2ae00157c577d3ac9e03f42ec891a37\", element=\"1aa4e967-ecea-46f2-ae9d-b6472f675d48\")>,\n",
       " <selenium.webdriver.remote.webelement.WebElement (session=\"c2ae00157c577d3ac9e03f42ec891a37\", element=\"96a768d3-bebf-4516-8485-c676e2bd2cbe\")>,\n",
       " <selenium.webdriver.remote.webelement.WebElement (session=\"c2ae00157c577d3ac9e03f42ec891a37\", element=\"082b4ff9-c5e5-44ab-a220-dfff8ae7121e\")>,\n",
       " <selenium.webdriver.remote.webelement.WebElement (session=\"c2ae00157c577d3ac9e03f42ec891a37\", element=\"0215334e-3b54-4034-bca3-c6ba6079720a\")>,\n",
       " <selenium.webdriver.remote.webelement.WebElement (session=\"c2ae00157c577d3ac9e03f42ec891a37\", element=\"c66c47a1-4a46-4c76-9012-d02302bf708e\")>,\n",
       " <selenium.webdriver.remote.webelement.WebElement (session=\"c2ae00157c577d3ac9e03f42ec891a37\", element=\"7f88c55d-eb5f-40ea-a1db-2b298f0f895c\")>,\n",
       " <selenium.webdriver.remote.webelement.WebElement (session=\"c2ae00157c577d3ac9e03f42ec891a37\", element=\"8919c31f-b670-404e-aa6f-10482645882f\")>,\n",
       " <selenium.webdriver.remote.webelement.WebElement (session=\"c2ae00157c577d3ac9e03f42ec891a37\", element=\"7b38e18c-d010-4613-9b04-36ce30fe06ea\")>]"
      ]
     },
     "execution_count": 6,
     "metadata": {},
     "output_type": "execute_result"
    }
   ],
   "source": [
    "# GET EACH COLLEGE SPECIFICATION HEADERS\n",
    "header=browser.find_elements(\"xpath\",\"//div[@class='_click-function_ind']\")\n",
    "header\n"
   ]
  },
  {
   "cell_type": "code",
   "execution_count": 7,
   "id": "4dfd147e",
   "metadata": {},
   "outputs": [
    {
     "data": {
      "text/plain": [
       "['Overall Score',\n",
       " 'Academic Reputation',\n",
       " 'Employer Reputation',\n",
       " 'Citations per Faculty',\n",
       " 'Faculty Student Ratio',\n",
       " 'International Students Ratio',\n",
       " 'International Faculty Ratio',\n",
       " 'International Research Network\\nUnweighted',\n",
       " 'Employment Outcomes\\nUnweighted']"
      ]
     },
     "execution_count": 7,
     "metadata": {},
     "output_type": "execute_result"
    }
   ],
   "source": [
    "#PARSING DATA\n",
    "column_head=[]\n",
    "for data in header:\n",
    "    #get the text data\n",
    "    temp=data.text\n",
    "    column_head.append(temp)\n",
    "column_head"
   ]
  },
  {
   "cell_type": "code",
   "execution_count": 8,
   "id": "cde3866d",
   "metadata": {},
   "outputs": [
    {
     "data": {
      "text/plain": [
       "[<selenium.webdriver.remote.webelement.WebElement (session=\"c2ae00157c577d3ac9e03f42ec891a37\", element=\"60bdf3b7-2708-4bdb-92d9-94d6346db303\")>,\n",
       " <selenium.webdriver.remote.webelement.WebElement (session=\"c2ae00157c577d3ac9e03f42ec891a37\", element=\"93d8a2b0-83bd-4d6a-87c5-9832431ad4f3\")>,\n",
       " <selenium.webdriver.remote.webelement.WebElement (session=\"c2ae00157c577d3ac9e03f42ec891a37\", element=\"2159a793-c74f-4439-93d7-d4d7a2c2b27c\")>,\n",
       " <selenium.webdriver.remote.webelement.WebElement (session=\"c2ae00157c577d3ac9e03f42ec891a37\", element=\"f404380d-69f7-4aa6-a16c-6ec49673f814\")>,\n",
       " <selenium.webdriver.remote.webelement.WebElement (session=\"c2ae00157c577d3ac9e03f42ec891a37\", element=\"19aede70-387a-4341-b17d-29235040c98c\")>,\n",
       " <selenium.webdriver.remote.webelement.WebElement (session=\"c2ae00157c577d3ac9e03f42ec891a37\", element=\"01d4efa9-37a6-4d41-b9f2-e92751d5fcac\")>,\n",
       " <selenium.webdriver.remote.webelement.WebElement (session=\"c2ae00157c577d3ac9e03f42ec891a37\", element=\"ec7868d9-e881-4838-b1c0-92f5454eefea\")>,\n",
       " <selenium.webdriver.remote.webelement.WebElement (session=\"c2ae00157c577d3ac9e03f42ec891a37\", element=\"67ff666c-98e6-42f3-8823-d07aaba0c4fe\")>,\n",
       " <selenium.webdriver.remote.webelement.WebElement (session=\"c2ae00157c577d3ac9e03f42ec891a37\", element=\"ae79ffce-016d-431a-a4a9-16b7b9df5691\")>,\n",
       " <selenium.webdriver.remote.webelement.WebElement (session=\"c2ae00157c577d3ac9e03f42ec891a37\", element=\"ede920a5-56e3-4211-9009-700814a7023f\")>,\n",
       " <selenium.webdriver.remote.webelement.WebElement (session=\"c2ae00157c577d3ac9e03f42ec891a37\", element=\"1ddd5d98-dc6d-42bc-8110-855c4dd06eef\")>,\n",
       " <selenium.webdriver.remote.webelement.WebElement (session=\"c2ae00157c577d3ac9e03f42ec891a37\", element=\"6134ce6d-6acb-4857-9dcb-5ab24946b010\")>,\n",
       " <selenium.webdriver.remote.webelement.WebElement (session=\"c2ae00157c577d3ac9e03f42ec891a37\", element=\"d036210b-717f-400c-9667-aeb836cb553a\")>,\n",
       " <selenium.webdriver.remote.webelement.WebElement (session=\"c2ae00157c577d3ac9e03f42ec891a37\", element=\"b084898f-64fd-48c4-b2fc-ad664bab0027\")>,\n",
       " <selenium.webdriver.remote.webelement.WebElement (session=\"c2ae00157c577d3ac9e03f42ec891a37\", element=\"2e6bed2c-460c-49f8-850f-07f544e5a36c\")>,\n",
       " <selenium.webdriver.remote.webelement.WebElement (session=\"c2ae00157c577d3ac9e03f42ec891a37\", element=\"ab263095-8944-49ca-97a0-69530c737f7c\")>,\n",
       " <selenium.webdriver.remote.webelement.WebElement (session=\"c2ae00157c577d3ac9e03f42ec891a37\", element=\"3d5bd3ab-1544-420a-bc3d-1677dfbafe41\")>,\n",
       " <selenium.webdriver.remote.webelement.WebElement (session=\"c2ae00157c577d3ac9e03f42ec891a37\", element=\"98b6a2f5-5ef7-4dff-b1d4-9d286d714526\")>,\n",
       " <selenium.webdriver.remote.webelement.WebElement (session=\"c2ae00157c577d3ac9e03f42ec891a37\", element=\"f84eb663-a0c4-4638-8ccd-be5b8e39a8af\")>,\n",
       " <selenium.webdriver.remote.webelement.WebElement (session=\"c2ae00157c577d3ac9e03f42ec891a37\", element=\"12b7b96f-d2f7-46ec-8dfa-3ba3a3b168ad\")>,\n",
       " <selenium.webdriver.remote.webelement.WebElement (session=\"c2ae00157c577d3ac9e03f42ec891a37\", element=\"04fde4b0-992a-4bed-8887-e8adc5cb69e0\")>,\n",
       " <selenium.webdriver.remote.webelement.WebElement (session=\"c2ae00157c577d3ac9e03f42ec891a37\", element=\"e052009f-0d06-4872-bd03-8f6f31878b9f\")>,\n",
       " <selenium.webdriver.remote.webelement.WebElement (session=\"c2ae00157c577d3ac9e03f42ec891a37\", element=\"97e7572a-02cd-4450-bdb0-421300866096\")>,\n",
       " <selenium.webdriver.remote.webelement.WebElement (session=\"c2ae00157c577d3ac9e03f42ec891a37\", element=\"88b0e712-8dc0-44da-8fc7-41dd4ae04a1c\")>,\n",
       " <selenium.webdriver.remote.webelement.WebElement (session=\"c2ae00157c577d3ac9e03f42ec891a37\", element=\"1e6041d6-9a2c-496b-9547-8b87f2fca170\")>,\n",
       " <selenium.webdriver.remote.webelement.WebElement (session=\"c2ae00157c577d3ac9e03f42ec891a37\", element=\"e11fd00a-996a-4c22-a5a0-0c6b63f30fe0\")>,\n",
       " <selenium.webdriver.remote.webelement.WebElement (session=\"c2ae00157c577d3ac9e03f42ec891a37\", element=\"bd4b03e6-dd3a-4ddb-9e21-9fbc99a583c3\")>,\n",
       " <selenium.webdriver.remote.webelement.WebElement (session=\"c2ae00157c577d3ac9e03f42ec891a37\", element=\"7f6148c1-3f93-4516-ba02-32a8ef0ee415\")>,\n",
       " <selenium.webdriver.remote.webelement.WebElement (session=\"c2ae00157c577d3ac9e03f42ec891a37\", element=\"30af12de-aa22-4a7b-a387-3aa10ca905cf\")>,\n",
       " <selenium.webdriver.remote.webelement.WebElement (session=\"c2ae00157c577d3ac9e03f42ec891a37\", element=\"8e675da9-de19-40e1-8bac-14db8177cf6b\")>,\n",
       " <selenium.webdriver.remote.webelement.WebElement (session=\"c2ae00157c577d3ac9e03f42ec891a37\", element=\"3f26e5ef-d96c-4784-bd1d-3dc8c44634ca\")>,\n",
       " <selenium.webdriver.remote.webelement.WebElement (session=\"c2ae00157c577d3ac9e03f42ec891a37\", element=\"598e9cac-d2ce-4700-b95d-c7ade4cf5cf0\")>,\n",
       " <selenium.webdriver.remote.webelement.WebElement (session=\"c2ae00157c577d3ac9e03f42ec891a37\", element=\"bc824bb4-9ef7-4c6b-9c82-8d1d8bcc1e32\")>,\n",
       " <selenium.webdriver.remote.webelement.WebElement (session=\"c2ae00157c577d3ac9e03f42ec891a37\", element=\"c1c16385-3af0-4cfb-9877-1605191ca1c4\")>,\n",
       " <selenium.webdriver.remote.webelement.WebElement (session=\"c2ae00157c577d3ac9e03f42ec891a37\", element=\"5ced63d4-ec49-4464-b0b4-6f9f88f415e4\")>,\n",
       " <selenium.webdriver.remote.webelement.WebElement (session=\"c2ae00157c577d3ac9e03f42ec891a37\", element=\"47b26029-6ff2-4a25-8170-fbd80efdc11d\")>,\n",
       " <selenium.webdriver.remote.webelement.WebElement (session=\"c2ae00157c577d3ac9e03f42ec891a37\", element=\"fbaa80d5-9759-4188-92e3-cc5254bc82ea\")>,\n",
       " <selenium.webdriver.remote.webelement.WebElement (session=\"c2ae00157c577d3ac9e03f42ec891a37\", element=\"f76b86c9-9388-42ac-a1f6-7ddde3d45bef\")>,\n",
       " <selenium.webdriver.remote.webelement.WebElement (session=\"c2ae00157c577d3ac9e03f42ec891a37\", element=\"4f694368-87ae-4b84-9a0b-04c24de3f98a\")>,\n",
       " <selenium.webdriver.remote.webelement.WebElement (session=\"c2ae00157c577d3ac9e03f42ec891a37\", element=\"6356627d-7251-4178-bb8b-6e2573e1d81f\")>,\n",
       " <selenium.webdriver.remote.webelement.WebElement (session=\"c2ae00157c577d3ac9e03f42ec891a37\", element=\"2c443a66-a965-4452-8322-3d691e8882a5\")>,\n",
       " <selenium.webdriver.remote.webelement.WebElement (session=\"c2ae00157c577d3ac9e03f42ec891a37\", element=\"4b61b995-a260-4603-9516-3b236b1edf99\")>,\n",
       " <selenium.webdriver.remote.webelement.WebElement (session=\"c2ae00157c577d3ac9e03f42ec891a37\", element=\"eab320e9-56a0-477d-893f-21aebe9e2e9f\")>,\n",
       " <selenium.webdriver.remote.webelement.WebElement (session=\"c2ae00157c577d3ac9e03f42ec891a37\", element=\"ffd2de65-4838-44ac-9875-a2403c36492c\")>,\n",
       " <selenium.webdriver.remote.webelement.WebElement (session=\"c2ae00157c577d3ac9e03f42ec891a37\", element=\"ac0093d7-0933-4805-94f4-bfcd6971c62a\")>,\n",
       " <selenium.webdriver.remote.webelement.WebElement (session=\"c2ae00157c577d3ac9e03f42ec891a37\", element=\"f0bc10d9-3d71-4874-9e4f-a588206d9c3c\")>,\n",
       " <selenium.webdriver.remote.webelement.WebElement (session=\"c2ae00157c577d3ac9e03f42ec891a37\", element=\"aedf3aee-9f82-4639-b950-86523ee78d18\")>,\n",
       " <selenium.webdriver.remote.webelement.WebElement (session=\"c2ae00157c577d3ac9e03f42ec891a37\", element=\"4bdab207-f74d-4352-873a-fe4e29468a21\")>,\n",
       " <selenium.webdriver.remote.webelement.WebElement (session=\"c2ae00157c577d3ac9e03f42ec891a37\", element=\"b201b6fc-c388-41e4-929e-0370d7c8dd79\")>,\n",
       " <selenium.webdriver.remote.webelement.WebElement (session=\"c2ae00157c577d3ac9e03f42ec891a37\", element=\"1ee4c5ba-3fd9-40f1-9909-14ce56e3698b\")>,\n",
       " <selenium.webdriver.remote.webelement.WebElement (session=\"c2ae00157c577d3ac9e03f42ec891a37\", element=\"53086850-49f8-40da-bf48-86628f01244f\")>,\n",
       " <selenium.webdriver.remote.webelement.WebElement (session=\"c2ae00157c577d3ac9e03f42ec891a37\", element=\"d9c5506d-c0c7-475e-b62f-ad3f191890ed\")>,\n",
       " <selenium.webdriver.remote.webelement.WebElement (session=\"c2ae00157c577d3ac9e03f42ec891a37\", element=\"041e7385-a4af-4995-a210-d17b1be0d924\")>,\n",
       " <selenium.webdriver.remote.webelement.WebElement (session=\"c2ae00157c577d3ac9e03f42ec891a37\", element=\"cb232527-1802-4276-99a8-8c15a8a8ec51\")>,\n",
       " <selenium.webdriver.remote.webelement.WebElement (session=\"c2ae00157c577d3ac9e03f42ec891a37\", element=\"d7b4051d-ed38-47ae-bc80-c19811d8ad1c\")>,\n",
       " <selenium.webdriver.remote.webelement.WebElement (session=\"c2ae00157c577d3ac9e03f42ec891a37\", element=\"625937d4-0621-4b21-a1f8-ed562614b4ca\")>,\n",
       " <selenium.webdriver.remote.webelement.WebElement (session=\"c2ae00157c577d3ac9e03f42ec891a37\", element=\"6500850b-8190-4386-a6de-4cc709b8359b\")>,\n",
       " <selenium.webdriver.remote.webelement.WebElement (session=\"c2ae00157c577d3ac9e03f42ec891a37\", element=\"b6cd6b21-5809-4a01-9dc5-71d98ae2e89c\")>,\n",
       " <selenium.webdriver.remote.webelement.WebElement (session=\"c2ae00157c577d3ac9e03f42ec891a37\", element=\"1b402b3c-3ba1-40a2-9ea0-e5a5f8838cce\")>,\n",
       " <selenium.webdriver.remote.webelement.WebElement (session=\"c2ae00157c577d3ac9e03f42ec891a37\", element=\"353b17d3-506c-4ad7-95c4-f42bbbf1919d\")>,\n",
       " <selenium.webdriver.remote.webelement.WebElement (session=\"c2ae00157c577d3ac9e03f42ec891a37\", element=\"588566db-1ab1-4b41-b3c1-196f9dbf23fc\")>,\n",
       " <selenium.webdriver.remote.webelement.WebElement (session=\"c2ae00157c577d3ac9e03f42ec891a37\", element=\"7211af9a-702a-4d52-9974-bd1b5e2ec1a8\")>,\n",
       " <selenium.webdriver.remote.webelement.WebElement (session=\"c2ae00157c577d3ac9e03f42ec891a37\", element=\"15e06b89-f59f-4017-a7c6-4355f618c164\")>,\n",
       " <selenium.webdriver.remote.webelement.WebElement (session=\"c2ae00157c577d3ac9e03f42ec891a37\", element=\"5fda695b-fbe7-4045-8787-138e7635a6e6\")>,\n",
       " <selenium.webdriver.remote.webelement.WebElement (session=\"c2ae00157c577d3ac9e03f42ec891a37\", element=\"d9fbf035-cae8-47b9-821b-ab980817cee6\")>,\n",
       " <selenium.webdriver.remote.webelement.WebElement (session=\"c2ae00157c577d3ac9e03f42ec891a37\", element=\"9fd84378-b123-4c68-943a-f160bb2bccae\")>,\n",
       " <selenium.webdriver.remote.webelement.WebElement (session=\"c2ae00157c577d3ac9e03f42ec891a37\", element=\"ef1571f0-7a22-4e8d-83c3-4e4680c91800\")>,\n",
       " <selenium.webdriver.remote.webelement.WebElement (session=\"c2ae00157c577d3ac9e03f42ec891a37\", element=\"16aaf217-4ce6-4c47-a2e9-e4ed270ec014\")>,\n",
       " <selenium.webdriver.remote.webelement.WebElement (session=\"c2ae00157c577d3ac9e03f42ec891a37\", element=\"e4853803-3ff4-451e-8d1b-f0dad344c957\")>,\n",
       " <selenium.webdriver.remote.webelement.WebElement (session=\"c2ae00157c577d3ac9e03f42ec891a37\", element=\"5ad9e257-5525-4103-895e-0356050e5d74\")>,\n",
       " <selenium.webdriver.remote.webelement.WebElement (session=\"c2ae00157c577d3ac9e03f42ec891a37\", element=\"95a86cc0-0380-462a-88b0-12d06e304c39\")>,\n",
       " <selenium.webdriver.remote.webelement.WebElement (session=\"c2ae00157c577d3ac9e03f42ec891a37\", element=\"e1235c5d-a504-476e-85cb-78474ba60caa\")>,\n",
       " <selenium.webdriver.remote.webelement.WebElement (session=\"c2ae00157c577d3ac9e03f42ec891a37\", element=\"e24a03f7-0be2-4c0a-8edf-caabfc59a8f3\")>,\n",
       " <selenium.webdriver.remote.webelement.WebElement (session=\"c2ae00157c577d3ac9e03f42ec891a37\", element=\"7d45d643-5a8f-4de8-8d81-7dd6149cf780\")>,\n",
       " <selenium.webdriver.remote.webelement.WebElement (session=\"c2ae00157c577d3ac9e03f42ec891a37\", element=\"b00c5ed2-ade2-43c7-ae07-8fbb4c906b04\")>,\n",
       " <selenium.webdriver.remote.webelement.WebElement (session=\"c2ae00157c577d3ac9e03f42ec891a37\", element=\"acc9bd10-efb5-4633-a73b-cff21b3aa5d0\")>,\n",
       " <selenium.webdriver.remote.webelement.WebElement (session=\"c2ae00157c577d3ac9e03f42ec891a37\", element=\"a7c564e3-6150-4cfe-b7ed-8a9efbd56422\")>,\n",
       " <selenium.webdriver.remote.webelement.WebElement (session=\"c2ae00157c577d3ac9e03f42ec891a37\", element=\"b27cc959-04c1-44f0-a6dd-1f64b89f2800\")>,\n",
       " <selenium.webdriver.remote.webelement.WebElement (session=\"c2ae00157c577d3ac9e03f42ec891a37\", element=\"f61df619-8f8b-4524-96aa-44bd80b9e92a\")>,\n",
       " <selenium.webdriver.remote.webelement.WebElement (session=\"c2ae00157c577d3ac9e03f42ec891a37\", element=\"65713504-b81c-4644-b9e0-dc028a5c7fbb\")>,\n",
       " <selenium.webdriver.remote.webelement.WebElement (session=\"c2ae00157c577d3ac9e03f42ec891a37\", element=\"87abc12e-bbb3-4ebe-95c4-2b8afc950d36\")>,\n",
       " <selenium.webdriver.remote.webelement.WebElement (session=\"c2ae00157c577d3ac9e03f42ec891a37\", element=\"d71a08cb-8755-4ab7-8937-f8789abb358d\")>,\n",
       " <selenium.webdriver.remote.webelement.WebElement (session=\"c2ae00157c577d3ac9e03f42ec891a37\", element=\"62e77c86-9cbf-41e9-9c3b-50528993cbf3\")>,\n",
       " <selenium.webdriver.remote.webelement.WebElement (session=\"c2ae00157c577d3ac9e03f42ec891a37\", element=\"abef4ec1-a515-43bb-a168-c9c78a91ffe8\")>,\n",
       " <selenium.webdriver.remote.webelement.WebElement (session=\"c2ae00157c577d3ac9e03f42ec891a37\", element=\"7c769abb-8f4f-4362-b7bc-6659129860a5\")>,\n",
       " <selenium.webdriver.remote.webelement.WebElement (session=\"c2ae00157c577d3ac9e03f42ec891a37\", element=\"4d643d83-3821-43b7-a957-b60228ef7a0c\")>,\n",
       " <selenium.webdriver.remote.webelement.WebElement (session=\"c2ae00157c577d3ac9e03f42ec891a37\", element=\"351cd0b2-1690-4e5d-9d2b-ebd0ad81573f\")>,\n",
       " <selenium.webdriver.remote.webelement.WebElement (session=\"c2ae00157c577d3ac9e03f42ec891a37\", element=\"1ec434d3-9a6a-4d2c-bd32-d5b6f6c7fa34\")>,\n",
       " <selenium.webdriver.remote.webelement.WebElement (session=\"c2ae00157c577d3ac9e03f42ec891a37\", element=\"7fcfd38f-ebe3-4db1-a3a3-a53648dfd4cd\")>,\n",
       " <selenium.webdriver.remote.webelement.WebElement (session=\"c2ae00157c577d3ac9e03f42ec891a37\", element=\"d7d6b492-9263-48a8-8897-80ad7bd9377f\")>,\n",
       " <selenium.webdriver.remote.webelement.WebElement (session=\"c2ae00157c577d3ac9e03f42ec891a37\", element=\"12d18cfd-be21-4df0-8d4e-9206712e3f76\")>,\n",
       " <selenium.webdriver.remote.webelement.WebElement (session=\"c2ae00157c577d3ac9e03f42ec891a37\", element=\"be67fef6-abad-4bc0-91a9-700949b00b8a\")>,\n",
       " <selenium.webdriver.remote.webelement.WebElement (session=\"c2ae00157c577d3ac9e03f42ec891a37\", element=\"9b956034-b7ad-42a3-b5d9-b86b844b392d\")>,\n",
       " <selenium.webdriver.remote.webelement.WebElement (session=\"c2ae00157c577d3ac9e03f42ec891a37\", element=\"f43c2dc1-78d7-4d06-9e79-d9d01688a004\")>,\n",
       " <selenium.webdriver.remote.webelement.WebElement (session=\"c2ae00157c577d3ac9e03f42ec891a37\", element=\"31c0a15f-4e39-4631-a2d9-b5761ee92d82\")>,\n",
       " <selenium.webdriver.remote.webelement.WebElement (session=\"c2ae00157c577d3ac9e03f42ec891a37\", element=\"53b8e98a-e06c-44c7-9b91-88c8af52dcc3\")>,\n",
       " <selenium.webdriver.remote.webelement.WebElement (session=\"c2ae00157c577d3ac9e03f42ec891a37\", element=\"df738c25-f976-4ef5-a632-a7f7a280f1fe\")>,\n",
       " <selenium.webdriver.remote.webelement.WebElement (session=\"c2ae00157c577d3ac9e03f42ec891a37\", element=\"a517b964-ba02-4d90-8740-6c7e2055bf68\")>,\n",
       " <selenium.webdriver.remote.webelement.WebElement (session=\"c2ae00157c577d3ac9e03f42ec891a37\", element=\"e08c8798-7dcd-466a-b972-027deef3f545\")>,\n",
       " <selenium.webdriver.remote.webelement.WebElement (session=\"c2ae00157c577d3ac9e03f42ec891a37\", element=\"686aa2f6-8331-4d1e-9c1e-366adca82d8e\")>]"
      ]
     },
     "execution_count": 8,
     "metadata": {},
     "output_type": "execute_result"
    }
   ],
   "source": [
    "header2=browser.find_elements(\"xpath\",\"//div[@class='td-wrap-in']\")\n",
    "header2\n"
   ]
  },
  {
   "cell_type": "code",
   "execution_count": 9,
   "id": "fa78b706",
   "metadata": {},
   "outputs": [
    {
     "data": {
      "text/plain": [
       "['78', '89', '91.1', '97.6', '16.8', '99.8', '100', '98.2', '93']"
      ]
     },
     "execution_count": 9,
     "metadata": {},
     "output_type": "execute_result"
    }
   ],
   "source": [
    "#PARSING DATA\n",
    "value_head=[]\n",
    "for data in header2:\n",
    "    #get the text data\n",
    "    temp=data.text\n",
    "    value_head.append(temp)\n",
    "value_head=value_head[41:50]\n",
    "value_head"
   ]
  },
  {
   "cell_type": "code",
   "execution_count": 10,
   "id": "6ba7c498",
   "metadata": {},
   "outputs": [
    {
     "data": {
      "text/plain": [
       "{'Overall Score': '78',\n",
       " 'Academic Reputation': '89',\n",
       " 'Employer Reputation': '91.1',\n",
       " 'Citations per Faculty': '97.6',\n",
       " 'Faculty Student Ratio': '16.8',\n",
       " 'International Students Ratio': '99.8',\n",
       " 'International Faculty Ratio': '100',\n",
       " 'International Research Network\\nUnweighted': '98.2',\n",
       " 'Employment Outcomes\\nUnweighted': '93'}"
      ]
     },
     "execution_count": 10,
     "metadata": {},
     "output_type": "execute_result"
    }
   ],
   "source": [
    "d={}\n",
    "for i in range(len(column_head)):\n",
    "    d[column_head[i]]=value_head[i]\n",
    "d\n"
   ]
  },
  {
   "cell_type": "code",
   "execution_count": 11,
   "id": "8a19a436",
   "metadata": {},
   "outputs": [
    {
     "data": {
      "text/plain": [
       "'{\"Overall Score\": \"78\", \"Academic Reputation\": \"89\", \"Employer Reputation\": \"91.1\", \"Citations per Faculty\": \"97.6\", \"Faculty Student Ratio\": \"16.8\", \"International Students Ratio\": \"99.8\", \"International Faculty Ratio\": \"100\", \"International Research Network\\\\nUnweighted\": \"98.2\", \"Employment Outcomes\\\\nUnweighted\": \"93\"}'"
      ]
     },
     "execution_count": 11,
     "metadata": {},
     "output_type": "execute_result"
    }
   ],
   "source": [
    "s1=json.dumps(d)\n",
    "s1"
   ]
  },
  {
   "cell_type": "code",
   "execution_count": 12,
   "id": "bd3bdf20",
   "metadata": {},
   "outputs": [],
   "source": [
    "with open('The University of New South Wales (UNSW Sydney).json','w') as f:\n",
    "    json.dump(d,f)"
   ]
  },
  {
   "cell_type": "code",
   "execution_count": null,
   "id": "282c0f2a",
   "metadata": {},
   "outputs": [],
   "source": []
  }
 ],
 "metadata": {
  "kernelspec": {
   "display_name": "Python 3 (ipykernel)",
   "language": "python",
   "name": "python3"
  },
  "language_info": {
   "codemirror_mode": {
    "name": "ipython",
    "version": 3
   },
   "file_extension": ".py",
   "mimetype": "text/x-python",
   "name": "python",
   "nbconvert_exporter": "python",
   "pygments_lexer": "ipython3",
   "version": "3.9.12"
  }
 },
 "nbformat": 4,
 "nbformat_minor": 5
}
