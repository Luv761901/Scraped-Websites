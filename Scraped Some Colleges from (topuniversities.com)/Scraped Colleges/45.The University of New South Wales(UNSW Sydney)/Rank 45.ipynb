{
 "cells": [
  {
   "cell_type": "code",
   "execution_count": 1,
   "id": "3edf59fe",
   "metadata": {},
   "outputs": [],
   "source": [
    "from selenium import webdriver\n",
    "from selenium.webdriver.chrome.service import Service\n",
    "import pandas as pd\n",
    "import json"
   ]
  },
  {
   "cell_type": "code",
   "execution_count": 2,
   "id": "0e1b96b3",
   "metadata": {},
   "outputs": [],
   "source": [
    "path = Service('C:\\chromedriver.exe')"
   ]
  },
  {
   "cell_type": "code",
   "execution_count": 3,
   "id": "8ed24c4a",
   "metadata": {},
   "outputs": [],
   "source": [
    "\n",
    "# set path for the driver\n",
    "browser = webdriver.Chrome(service = path)"
   ]
  },
  {
   "cell_type": "code",
   "execution_count": 4,
   "id": "5db255fb",
   "metadata": {},
   "outputs": [],
   "source": [
    "url = \"https://www.topuniversities.com/university-rankings/world-university-rankings/2023\""
   ]
  },
  {
   "cell_type": "code",
   "execution_count": 5,
   "id": "ced65a30",
   "metadata": {},
   "outputs": [],
   "source": [
    "\n",
    "# open the page url ion chrome\n",
    "browser.get(url)\n"
   ]
  },
  {
   "cell_type": "code",
   "execution_count": 6,
   "id": "83cac4d9",
   "metadata": {},
   "outputs": [
    {
     "data": {
      "text/plain": [
       "[<selenium.webdriver.remote.webelement.WebElement (session=\"bda9d463d52b1c66ac40ec51f2daa18e\", element=\"376014cf-091b-4e51-86e8-6e041792a1cd\")>,\n",
       " <selenium.webdriver.remote.webelement.WebElement (session=\"bda9d463d52b1c66ac40ec51f2daa18e\", element=\"5e43bf54-b0bf-4598-8e01-dda123238066\")>,\n",
       " <selenium.webdriver.remote.webelement.WebElement (session=\"bda9d463d52b1c66ac40ec51f2daa18e\", element=\"036fe0cd-5d58-4f78-844c-48a77503e364\")>,\n",
       " <selenium.webdriver.remote.webelement.WebElement (session=\"bda9d463d52b1c66ac40ec51f2daa18e\", element=\"aacf370d-eed8-469b-9dd0-c1c8191e02f4\")>,\n",
       " <selenium.webdriver.remote.webelement.WebElement (session=\"bda9d463d52b1c66ac40ec51f2daa18e\", element=\"d87c4b15-8490-4320-8401-43c609d6002f\")>,\n",
       " <selenium.webdriver.remote.webelement.WebElement (session=\"bda9d463d52b1c66ac40ec51f2daa18e\", element=\"4ee0742c-01a5-43c7-b6ec-046e1ef5aacd\")>,\n",
       " <selenium.webdriver.remote.webelement.WebElement (session=\"bda9d463d52b1c66ac40ec51f2daa18e\", element=\"17c7776c-a70e-4438-8a1b-18eb9a5f4b6f\")>,\n",
       " <selenium.webdriver.remote.webelement.WebElement (session=\"bda9d463d52b1c66ac40ec51f2daa18e\", element=\"dd4498fd-4a28-41fa-a28a-083224739f4c\")>,\n",
       " <selenium.webdriver.remote.webelement.WebElement (session=\"bda9d463d52b1c66ac40ec51f2daa18e\", element=\"58b8fc11-30d6-498d-b94f-fa285d405062\")>,\n",
       " <selenium.webdriver.remote.webelement.WebElement (session=\"bda9d463d52b1c66ac40ec51f2daa18e\", element=\"aa4b99c9-bd89-4ded-86e5-cb9c368f03b8\")>,\n",
       " <selenium.webdriver.remote.webelement.WebElement (session=\"bda9d463d52b1c66ac40ec51f2daa18e\", element=\"33fa73fd-46c2-4b24-9783-158a291007fb\")>,\n",
       " <selenium.webdriver.remote.webelement.WebElement (session=\"bda9d463d52b1c66ac40ec51f2daa18e\", element=\"c1fa3c00-7377-4827-9b5c-1195c1ab967d\")>,\n",
       " <selenium.webdriver.remote.webelement.WebElement (session=\"bda9d463d52b1c66ac40ec51f2daa18e\", element=\"5c116667-32b5-434a-9df3-9d2e249af81e\")>,\n",
       " <selenium.webdriver.remote.webelement.WebElement (session=\"bda9d463d52b1c66ac40ec51f2daa18e\", element=\"f931463a-df95-43fe-9875-7170543a84b4\")>,\n",
       " <selenium.webdriver.remote.webelement.WebElement (session=\"bda9d463d52b1c66ac40ec51f2daa18e\", element=\"f663f77b-368c-4fc3-9f8d-9b77c355454a\")>,\n",
       " <selenium.webdriver.remote.webelement.WebElement (session=\"bda9d463d52b1c66ac40ec51f2daa18e\", element=\"8eb62b21-ab57-47c0-81af-549e23943dbf\")>,\n",
       " <selenium.webdriver.remote.webelement.WebElement (session=\"bda9d463d52b1c66ac40ec51f2daa18e\", element=\"a38652c1-cdee-42b1-9109-8bcd6da8f492\")>,\n",
       " <selenium.webdriver.remote.webelement.WebElement (session=\"bda9d463d52b1c66ac40ec51f2daa18e\", element=\"7b7fb28b-bc0a-42b2-913e-42b0d13193b1\")>,\n",
       " <selenium.webdriver.remote.webelement.WebElement (session=\"bda9d463d52b1c66ac40ec51f2daa18e\", element=\"6eb37403-9bec-4e7a-8247-f63be7015cda\")>,\n",
       " <selenium.webdriver.remote.webelement.WebElement (session=\"bda9d463d52b1c66ac40ec51f2daa18e\", element=\"ae04a977-0685-4eae-b38c-9daf2ac01169\")>]"
      ]
     },
     "execution_count": 6,
     "metadata": {},
     "output_type": "execute_result"
    }
   ],
   "source": [
    "l1=browser.find_elements(\"xpath\",\"//div[@class='location ']\")\n",
    "l1\n"
   ]
  },
  {
   "cell_type": "code",
   "execution_count": 7,
   "id": "c04c43c0",
   "metadata": {},
   "outputs": [
    {
     "data": {
      "text/plain": [
       "['Sydney, Australia',\n",
       " 'Daejeon, South Korea',\n",
       " 'Hangzhou, China (Mainland)',\n",
       " 'Los Angeles, United States',\n",
       " 'Sydney, Australia',\n",
       " 'Shanghai, China (Mainland)',\n",
       " 'Vancouver, Canada',\n",
       " 'Palaiseau Cedex, France',\n",
       " 'Munich, Germany',\n",
       " 'Durham, United States']"
      ]
     },
     "execution_count": 7,
     "metadata": {},
     "output_type": "execute_result"
    }
   ],
   "source": [
    "loc=[]\n",
    "for data in l1:\n",
    "    #get the text data\n",
    "    temp=data.text\n",
    "    loc.append(temp)\n",
    "loc=loc[10:]\n",
    "loc"
   ]
  },
  {
   "cell_type": "code",
   "execution_count": 8,
   "id": "8ef144dd",
   "metadata": {},
   "outputs": [
    {
     "data": {
      "text/plain": [
       "[<selenium.webdriver.remote.webelement.WebElement (session=\"bda9d463d52b1c66ac40ec51f2daa18e\", element=\"5e3762bb-00ef-48b9-b3ab-27e2df4f9ef4\")>,\n",
       " <selenium.webdriver.remote.webelement.WebElement (session=\"bda9d463d52b1c66ac40ec51f2daa18e\", element=\"e4f368cf-5a95-4dfb-b7aa-92c510d8acb0\")>,\n",
       " <selenium.webdriver.remote.webelement.WebElement (session=\"bda9d463d52b1c66ac40ec51f2daa18e\", element=\"eb4a4f04-bb1f-4464-a0ec-4589c5094dd5\")>,\n",
       " <selenium.webdriver.remote.webelement.WebElement (session=\"bda9d463d52b1c66ac40ec51f2daa18e\", element=\"e49ca033-d4b9-4cd7-bc0c-ceca3f3e54aa\")>,\n",
       " <selenium.webdriver.remote.webelement.WebElement (session=\"bda9d463d52b1c66ac40ec51f2daa18e\", element=\"aea8ea24-5e9a-45bc-b273-59caf809288f\")>,\n",
       " <selenium.webdriver.remote.webelement.WebElement (session=\"bda9d463d52b1c66ac40ec51f2daa18e\", element=\"db7db38d-5fc5-4507-9dbc-a9d671b6a529\")>,\n",
       " <selenium.webdriver.remote.webelement.WebElement (session=\"bda9d463d52b1c66ac40ec51f2daa18e\", element=\"2d427070-42fe-481a-80ee-da2d21caee47\")>,\n",
       " <selenium.webdriver.remote.webelement.WebElement (session=\"bda9d463d52b1c66ac40ec51f2daa18e\", element=\"f656bd7a-e0a6-4396-b7de-1d3e1d1a955f\")>,\n",
       " <selenium.webdriver.remote.webelement.WebElement (session=\"bda9d463d52b1c66ac40ec51f2daa18e\", element=\"d0b3c64d-23e7-4aa9-af42-4a96f2922553\")>,\n",
       " <selenium.webdriver.remote.webelement.WebElement (session=\"bda9d463d52b1c66ac40ec51f2daa18e\", element=\"ed30ad7e-ef1e-4761-b100-d14aa8ae4275\")>]"
      ]
     },
     "execution_count": 8,
     "metadata": {},
     "output_type": "execute_result"
    }
   ],
   "source": [
    "l2=browser.find_elements(\"xpath\",\"//div[@class='_univ-rank ']\")\n",
    "l2\n"
   ]
  },
  {
   "cell_type": "code",
   "execution_count": 9,
   "id": "eedc7b90",
   "metadata": {},
   "outputs": [
    {
     "data": {
      "text/plain": [
       "['41', '=42', '=42', '44', '45', '46', '47', '48', '49', '=50']"
      ]
     },
     "execution_count": 9,
     "metadata": {},
     "output_type": "execute_result"
    }
   ],
   "source": [
    "RANK=[]\n",
    "for data in l2:\n",
    "    #get the text data\n",
    "    temp=data.text\n",
    "    RANK.append(temp)\n",
    "RANK"
   ]
  },
  {
   "cell_type": "code",
   "execution_count": 10,
   "id": "dafaa206",
   "metadata": {},
   "outputs": [
    {
     "data": {
      "text/plain": [
       "[<selenium.webdriver.remote.webelement.WebElement (session=\"bda9d463d52b1c66ac40ec51f2daa18e\", element=\"a1c54f2c-e883-438a-87eb-9475b4e367fe\")>,\n",
       " <selenium.webdriver.remote.webelement.WebElement (session=\"bda9d463d52b1c66ac40ec51f2daa18e\", element=\"5f56e0e2-e98b-4485-8ca4-022f438a7b97\")>,\n",
       " <selenium.webdriver.remote.webelement.WebElement (session=\"bda9d463d52b1c66ac40ec51f2daa18e\", element=\"c428ce10-9d4d-4cda-8a49-213f5df173eb\")>,\n",
       " <selenium.webdriver.remote.webelement.WebElement (session=\"bda9d463d52b1c66ac40ec51f2daa18e\", element=\"a445a9b3-d4f9-48a2-aeec-7337cb4a3a1a\")>,\n",
       " <selenium.webdriver.remote.webelement.WebElement (session=\"bda9d463d52b1c66ac40ec51f2daa18e\", element=\"38ad024d-da3c-4b06-97c2-3dc9298a8d7e\")>,\n",
       " <selenium.webdriver.remote.webelement.WebElement (session=\"bda9d463d52b1c66ac40ec51f2daa18e\", element=\"d64f3890-02a4-45b9-9026-56b52479fd5b\")>,\n",
       " <selenium.webdriver.remote.webelement.WebElement (session=\"bda9d463d52b1c66ac40ec51f2daa18e\", element=\"f68447ce-7344-4929-902c-3a83d01defc3\")>,\n",
       " <selenium.webdriver.remote.webelement.WebElement (session=\"bda9d463d52b1c66ac40ec51f2daa18e\", element=\"a2094ee7-f837-4932-a1b7-64a07bd4bbdb\")>,\n",
       " <selenium.webdriver.remote.webelement.WebElement (session=\"bda9d463d52b1c66ac40ec51f2daa18e\", element=\"f4fa0c05-5b5f-442b-a23f-ffb7d6867b1f\")>]"
      ]
     },
     "execution_count": 10,
     "metadata": {},
     "output_type": "execute_result"
    }
   ],
   "source": [
    "# GET EACH COLLEGE SPECIFICATION HEADERS\n",
    "header=browser.find_elements(\"xpath\",\"//div[@class='_click-function_ind']\")\n",
    "header\n"
   ]
  },
  {
   "cell_type": "code",
   "execution_count": 11,
   "id": "4dfd147e",
   "metadata": {},
   "outputs": [
    {
     "data": {
      "text/plain": [
       "['Overall Score',\n",
       " 'Academic Reputation',\n",
       " 'Employer Reputation',\n",
       " 'Citations per Faculty',\n",
       " 'Faculty Student Ratio',\n",
       " 'International Students Ratio',\n",
       " 'International Faculty Ratio',\n",
       " 'International Research Network\\nUnweighted',\n",
       " 'Employment Outcomes\\nUnweighted']"
      ]
     },
     "execution_count": 11,
     "metadata": {},
     "output_type": "execute_result"
    }
   ],
   "source": [
    "#PARSING DATA\n",
    "column_head=[]\n",
    "for data in header:\n",
    "    #get the text data\n",
    "    temp=data.text\n",
    "    column_head.append(temp)\n",
    "column_head"
   ]
  },
  {
   "cell_type": "code",
   "execution_count": 12,
   "id": "cde3866d",
   "metadata": {},
   "outputs": [
    {
     "data": {
      "text/plain": [
       "[<selenium.webdriver.remote.webelement.WebElement (session=\"bda9d463d52b1c66ac40ec51f2daa18e\", element=\"c52eb06e-df2d-473a-9897-897231588d58\")>,\n",
       " <selenium.webdriver.remote.webelement.WebElement (session=\"bda9d463d52b1c66ac40ec51f2daa18e\", element=\"320c1e4e-25a6-4fa3-9d3b-66387dde5f6c\")>,\n",
       " <selenium.webdriver.remote.webelement.WebElement (session=\"bda9d463d52b1c66ac40ec51f2daa18e\", element=\"d6b4cd55-27df-40ac-aff2-49b1cf6cb10a\")>,\n",
       " <selenium.webdriver.remote.webelement.WebElement (session=\"bda9d463d52b1c66ac40ec51f2daa18e\", element=\"c5d6d8bf-6416-4671-9b90-c97afe0e3f96\")>,\n",
       " <selenium.webdriver.remote.webelement.WebElement (session=\"bda9d463d52b1c66ac40ec51f2daa18e\", element=\"d70c4f3b-253b-476e-9d10-31de691b3ada\")>,\n",
       " <selenium.webdriver.remote.webelement.WebElement (session=\"bda9d463d52b1c66ac40ec51f2daa18e\", element=\"3498c3a5-afb3-4f7f-b7ec-a9ee34438a48\")>,\n",
       " <selenium.webdriver.remote.webelement.WebElement (session=\"bda9d463d52b1c66ac40ec51f2daa18e\", element=\"041b4270-1d67-4c88-a7d2-bd69165407f4\")>,\n",
       " <selenium.webdriver.remote.webelement.WebElement (session=\"bda9d463d52b1c66ac40ec51f2daa18e\", element=\"b6ed35c8-2e7d-4b25-8555-01b16070ab23\")>,\n",
       " <selenium.webdriver.remote.webelement.WebElement (session=\"bda9d463d52b1c66ac40ec51f2daa18e\", element=\"20193260-bb0b-4206-8895-32afa9f96a32\")>,\n",
       " <selenium.webdriver.remote.webelement.WebElement (session=\"bda9d463d52b1c66ac40ec51f2daa18e\", element=\"514884f4-6a29-40de-a237-9e7c4b6844b7\")>,\n",
       " <selenium.webdriver.remote.webelement.WebElement (session=\"bda9d463d52b1c66ac40ec51f2daa18e\", element=\"f10761af-bdf5-48eb-8ddd-03ccdf31373d\")>,\n",
       " <selenium.webdriver.remote.webelement.WebElement (session=\"bda9d463d52b1c66ac40ec51f2daa18e\", element=\"c25a9ecb-a5ab-4652-9d50-b38a07f66020\")>,\n",
       " <selenium.webdriver.remote.webelement.WebElement (session=\"bda9d463d52b1c66ac40ec51f2daa18e\", element=\"4e2a0498-bd25-460e-8c0e-7a30c8e3fcdb\")>,\n",
       " <selenium.webdriver.remote.webelement.WebElement (session=\"bda9d463d52b1c66ac40ec51f2daa18e\", element=\"a0621ad0-75c7-42a1-84f7-935f6fededb7\")>,\n",
       " <selenium.webdriver.remote.webelement.WebElement (session=\"bda9d463d52b1c66ac40ec51f2daa18e\", element=\"eb233d14-d236-41d0-a743-ea01d151163d\")>,\n",
       " <selenium.webdriver.remote.webelement.WebElement (session=\"bda9d463d52b1c66ac40ec51f2daa18e\", element=\"07e44bf0-5d19-4556-ab10-4a00ce8ffe1f\")>,\n",
       " <selenium.webdriver.remote.webelement.WebElement (session=\"bda9d463d52b1c66ac40ec51f2daa18e\", element=\"0a583c19-9d3e-4e3b-a45f-9237b44e7db6\")>,\n",
       " <selenium.webdriver.remote.webelement.WebElement (session=\"bda9d463d52b1c66ac40ec51f2daa18e\", element=\"5de0d192-2315-4d19-b3c4-c0bc84ec6203\")>,\n",
       " <selenium.webdriver.remote.webelement.WebElement (session=\"bda9d463d52b1c66ac40ec51f2daa18e\", element=\"71c5da17-aa51-41f9-8d0d-aa3614e03265\")>,\n",
       " <selenium.webdriver.remote.webelement.WebElement (session=\"bda9d463d52b1c66ac40ec51f2daa18e\", element=\"3f1fe53e-4bc5-4c0f-b44b-393259020193\")>,\n",
       " <selenium.webdriver.remote.webelement.WebElement (session=\"bda9d463d52b1c66ac40ec51f2daa18e\", element=\"4902b899-3d6d-493d-8605-9f29f1364ea2\")>,\n",
       " <selenium.webdriver.remote.webelement.WebElement (session=\"bda9d463d52b1c66ac40ec51f2daa18e\", element=\"48a01280-ab18-4e36-b2bb-167b1b46f30a\")>,\n",
       " <selenium.webdriver.remote.webelement.WebElement (session=\"bda9d463d52b1c66ac40ec51f2daa18e\", element=\"5a8afb36-330b-4a07-b1fe-5f9882deeb6a\")>,\n",
       " <selenium.webdriver.remote.webelement.WebElement (session=\"bda9d463d52b1c66ac40ec51f2daa18e\", element=\"fe51b6d2-aff3-4770-a245-add9f52f0b4d\")>,\n",
       " <selenium.webdriver.remote.webelement.WebElement (session=\"bda9d463d52b1c66ac40ec51f2daa18e\", element=\"fbca7af7-bab1-456c-863d-80c065ec9536\")>,\n",
       " <selenium.webdriver.remote.webelement.WebElement (session=\"bda9d463d52b1c66ac40ec51f2daa18e\", element=\"a90c109b-3e51-43ea-afeb-08a258ef66ff\")>,\n",
       " <selenium.webdriver.remote.webelement.WebElement (session=\"bda9d463d52b1c66ac40ec51f2daa18e\", element=\"3ab7fe31-fd18-4b05-8aa1-a598a6107dc3\")>,\n",
       " <selenium.webdriver.remote.webelement.WebElement (session=\"bda9d463d52b1c66ac40ec51f2daa18e\", element=\"c4521e8f-4bf1-45f6-928c-53ac4cc44f9b\")>,\n",
       " <selenium.webdriver.remote.webelement.WebElement (session=\"bda9d463d52b1c66ac40ec51f2daa18e\", element=\"52c3a89d-1ade-4321-9d10-ec22355ccf4c\")>,\n",
       " <selenium.webdriver.remote.webelement.WebElement (session=\"bda9d463d52b1c66ac40ec51f2daa18e\", element=\"aae23b97-f677-42b3-8664-af0c3149a689\")>,\n",
       " <selenium.webdriver.remote.webelement.WebElement (session=\"bda9d463d52b1c66ac40ec51f2daa18e\", element=\"f4649a94-99e1-4838-9f9a-012cd0f18e70\")>,\n",
       " <selenium.webdriver.remote.webelement.WebElement (session=\"bda9d463d52b1c66ac40ec51f2daa18e\", element=\"d01fdda7-159b-49d2-b67e-b0b416c4800f\")>,\n",
       " <selenium.webdriver.remote.webelement.WebElement (session=\"bda9d463d52b1c66ac40ec51f2daa18e\", element=\"4b5c1666-a7bc-4e83-82b8-8749486d8d4e\")>,\n",
       " <selenium.webdriver.remote.webelement.WebElement (session=\"bda9d463d52b1c66ac40ec51f2daa18e\", element=\"af9ca352-7857-465f-ab35-ca599162903c\")>,\n",
       " <selenium.webdriver.remote.webelement.WebElement (session=\"bda9d463d52b1c66ac40ec51f2daa18e\", element=\"5456176b-91da-4c56-8f17-f15969559ebe\")>,\n",
       " <selenium.webdriver.remote.webelement.WebElement (session=\"bda9d463d52b1c66ac40ec51f2daa18e\", element=\"f2007217-0a0f-4184-804c-87eb5110665f\")>,\n",
       " <selenium.webdriver.remote.webelement.WebElement (session=\"bda9d463d52b1c66ac40ec51f2daa18e\", element=\"fcd40642-e458-4cc1-8557-059738b06712\")>,\n",
       " <selenium.webdriver.remote.webelement.WebElement (session=\"bda9d463d52b1c66ac40ec51f2daa18e\", element=\"ed0dc403-410c-4fed-88b3-35f1cf38b580\")>,\n",
       " <selenium.webdriver.remote.webelement.WebElement (session=\"bda9d463d52b1c66ac40ec51f2daa18e\", element=\"a5907eed-925a-4152-9d59-4c64433c52c5\")>,\n",
       " <selenium.webdriver.remote.webelement.WebElement (session=\"bda9d463d52b1c66ac40ec51f2daa18e\", element=\"3058ee36-3762-4256-b0ed-8ed000aed984\")>,\n",
       " <selenium.webdriver.remote.webelement.WebElement (session=\"bda9d463d52b1c66ac40ec51f2daa18e\", element=\"aa479f5a-c603-456d-8634-32b8f336a4e1\")>,\n",
       " <selenium.webdriver.remote.webelement.WebElement (session=\"bda9d463d52b1c66ac40ec51f2daa18e\", element=\"42bb504e-23d8-4469-89cf-3b7bb08353a9\")>,\n",
       " <selenium.webdriver.remote.webelement.WebElement (session=\"bda9d463d52b1c66ac40ec51f2daa18e\", element=\"e984dd88-57b4-4e72-b2da-9758f485be42\")>,\n",
       " <selenium.webdriver.remote.webelement.WebElement (session=\"bda9d463d52b1c66ac40ec51f2daa18e\", element=\"0a0d3d4c-be57-4673-8dd9-2d9c5e23792b\")>,\n",
       " <selenium.webdriver.remote.webelement.WebElement (session=\"bda9d463d52b1c66ac40ec51f2daa18e\", element=\"93d72910-5353-4b53-9486-ceaee7fe454a\")>,\n",
       " <selenium.webdriver.remote.webelement.WebElement (session=\"bda9d463d52b1c66ac40ec51f2daa18e\", element=\"db86c087-9ca9-44c7-af61-4886dae06118\")>,\n",
       " <selenium.webdriver.remote.webelement.WebElement (session=\"bda9d463d52b1c66ac40ec51f2daa18e\", element=\"d6b89155-16bf-4fcf-ba61-2b1ab0e15458\")>,\n",
       " <selenium.webdriver.remote.webelement.WebElement (session=\"bda9d463d52b1c66ac40ec51f2daa18e\", element=\"ed7ae59e-9487-49c9-a750-2520966301aa\")>,\n",
       " <selenium.webdriver.remote.webelement.WebElement (session=\"bda9d463d52b1c66ac40ec51f2daa18e\", element=\"24ac8e4a-af98-4a27-80d5-8635feaf46d1\")>,\n",
       " <selenium.webdriver.remote.webelement.WebElement (session=\"bda9d463d52b1c66ac40ec51f2daa18e\", element=\"9d285432-e1a9-480a-b94d-da54e0bb7f5b\")>,\n",
       " <selenium.webdriver.remote.webelement.WebElement (session=\"bda9d463d52b1c66ac40ec51f2daa18e\", element=\"7ce4b94a-34e1-4f46-8ab0-450e9ab8d43b\")>,\n",
       " <selenium.webdriver.remote.webelement.WebElement (session=\"bda9d463d52b1c66ac40ec51f2daa18e\", element=\"aadd00c1-1ef0-4862-b3e8-f1dd30c4efa9\")>,\n",
       " <selenium.webdriver.remote.webelement.WebElement (session=\"bda9d463d52b1c66ac40ec51f2daa18e\", element=\"1fa2b57e-205f-4049-8985-e26e4bb2db4b\")>,\n",
       " <selenium.webdriver.remote.webelement.WebElement (session=\"bda9d463d52b1c66ac40ec51f2daa18e\", element=\"f2ad0055-ac2b-4ce0-b606-4d3bf6c51e87\")>,\n",
       " <selenium.webdriver.remote.webelement.WebElement (session=\"bda9d463d52b1c66ac40ec51f2daa18e\", element=\"1e88bdb9-8247-4c88-bf0d-545752564c9b\")>,\n",
       " <selenium.webdriver.remote.webelement.WebElement (session=\"bda9d463d52b1c66ac40ec51f2daa18e\", element=\"fc00bc30-90e9-4af1-99de-0ddc5f011e09\")>,\n",
       " <selenium.webdriver.remote.webelement.WebElement (session=\"bda9d463d52b1c66ac40ec51f2daa18e\", element=\"8f8f7706-27a4-401a-9b06-f108f90985dd\")>,\n",
       " <selenium.webdriver.remote.webelement.WebElement (session=\"bda9d463d52b1c66ac40ec51f2daa18e\", element=\"a889c37b-341b-419b-a473-546b912201bc\")>,\n",
       " <selenium.webdriver.remote.webelement.WebElement (session=\"bda9d463d52b1c66ac40ec51f2daa18e\", element=\"8328260b-a958-476d-81b5-273bd0788328\")>,\n",
       " <selenium.webdriver.remote.webelement.WebElement (session=\"bda9d463d52b1c66ac40ec51f2daa18e\", element=\"3994c338-df7c-458b-991a-c5957b04ae80\")>,\n",
       " <selenium.webdriver.remote.webelement.WebElement (session=\"bda9d463d52b1c66ac40ec51f2daa18e\", element=\"2622e7c8-ff22-4db3-ba5f-0fd3579c6fa4\")>,\n",
       " <selenium.webdriver.remote.webelement.WebElement (session=\"bda9d463d52b1c66ac40ec51f2daa18e\", element=\"21d5c368-0c7a-4e93-b641-33eca3bddb98\")>,\n",
       " <selenium.webdriver.remote.webelement.WebElement (session=\"bda9d463d52b1c66ac40ec51f2daa18e\", element=\"08bf2fe1-7c07-4934-869c-40eb721e0d34\")>,\n",
       " <selenium.webdriver.remote.webelement.WebElement (session=\"bda9d463d52b1c66ac40ec51f2daa18e\", element=\"8306063a-e6ee-4269-b15c-db189ebf3e8c\")>,\n",
       " <selenium.webdriver.remote.webelement.WebElement (session=\"bda9d463d52b1c66ac40ec51f2daa18e\", element=\"c660edab-d500-433c-9b89-6d564fcdb6c5\")>,\n",
       " <selenium.webdriver.remote.webelement.WebElement (session=\"bda9d463d52b1c66ac40ec51f2daa18e\", element=\"55470109-f98d-47f4-a308-1a062776d77e\")>,\n",
       " <selenium.webdriver.remote.webelement.WebElement (session=\"bda9d463d52b1c66ac40ec51f2daa18e\", element=\"bbb3911c-d274-452b-abc4-fab935883776\")>,\n",
       " <selenium.webdriver.remote.webelement.WebElement (session=\"bda9d463d52b1c66ac40ec51f2daa18e\", element=\"550b21d1-20f5-4627-b004-5c7840f3eb20\")>,\n",
       " <selenium.webdriver.remote.webelement.WebElement (session=\"bda9d463d52b1c66ac40ec51f2daa18e\", element=\"5dd5ba61-2cea-4fe1-aa69-477492cd8ce8\")>,\n",
       " <selenium.webdriver.remote.webelement.WebElement (session=\"bda9d463d52b1c66ac40ec51f2daa18e\", element=\"69282ffe-5dd9-4796-99b4-2d1c2229665c\")>,\n",
       " <selenium.webdriver.remote.webelement.WebElement (session=\"bda9d463d52b1c66ac40ec51f2daa18e\", element=\"daa12d0a-3429-4c44-9420-21a9e9ffa1da\")>,\n",
       " <selenium.webdriver.remote.webelement.WebElement (session=\"bda9d463d52b1c66ac40ec51f2daa18e\", element=\"470130c1-7921-40c1-b811-cc78d7c3baeb\")>,\n",
       " <selenium.webdriver.remote.webelement.WebElement (session=\"bda9d463d52b1c66ac40ec51f2daa18e\", element=\"0f5a8f75-09ed-425b-af8b-91509a4f8e8b\")>,\n",
       " <selenium.webdriver.remote.webelement.WebElement (session=\"bda9d463d52b1c66ac40ec51f2daa18e\", element=\"6dd09e75-b09c-4b03-8380-6a9ae758611c\")>,\n",
       " <selenium.webdriver.remote.webelement.WebElement (session=\"bda9d463d52b1c66ac40ec51f2daa18e\", element=\"c509897f-bb45-44c9-a587-6a13995082b2\")>,\n",
       " <selenium.webdriver.remote.webelement.WebElement (session=\"bda9d463d52b1c66ac40ec51f2daa18e\", element=\"5e8134eb-5d77-4c4f-a2ec-b7e6c930e21b\")>,\n",
       " <selenium.webdriver.remote.webelement.WebElement (session=\"bda9d463d52b1c66ac40ec51f2daa18e\", element=\"ba9aa568-a587-48d3-9848-1edc8ee667b3\")>,\n",
       " <selenium.webdriver.remote.webelement.WebElement (session=\"bda9d463d52b1c66ac40ec51f2daa18e\", element=\"17810b67-9177-4bb5-9e9b-c87db262b927\")>,\n",
       " <selenium.webdriver.remote.webelement.WebElement (session=\"bda9d463d52b1c66ac40ec51f2daa18e\", element=\"144f6f84-9052-4b65-b7ad-0534fb6b70e4\")>,\n",
       " <selenium.webdriver.remote.webelement.WebElement (session=\"bda9d463d52b1c66ac40ec51f2daa18e\", element=\"9c11fd03-4f54-404a-bd3d-64f9bd07729d\")>,\n",
       " <selenium.webdriver.remote.webelement.WebElement (session=\"bda9d463d52b1c66ac40ec51f2daa18e\", element=\"ea78e09b-25a7-4523-9faf-61365fe7bf53\")>,\n",
       " <selenium.webdriver.remote.webelement.WebElement (session=\"bda9d463d52b1c66ac40ec51f2daa18e\", element=\"73012a40-a6f5-4c5e-842a-ebeb6533ca4f\")>,\n",
       " <selenium.webdriver.remote.webelement.WebElement (session=\"bda9d463d52b1c66ac40ec51f2daa18e\", element=\"1a5e0c95-c4bc-44f3-8caa-2447f651a72c\")>,\n",
       " <selenium.webdriver.remote.webelement.WebElement (session=\"bda9d463d52b1c66ac40ec51f2daa18e\", element=\"6e6e7aef-517a-45c8-9c89-90c58783721b\")>,\n",
       " <selenium.webdriver.remote.webelement.WebElement (session=\"bda9d463d52b1c66ac40ec51f2daa18e\", element=\"565f77e2-5d62-423b-9e17-e8e1c487ecc0\")>,\n",
       " <selenium.webdriver.remote.webelement.WebElement (session=\"bda9d463d52b1c66ac40ec51f2daa18e\", element=\"970adad5-140f-42da-b0b1-0bb56c23cf93\")>,\n",
       " <selenium.webdriver.remote.webelement.WebElement (session=\"bda9d463d52b1c66ac40ec51f2daa18e\", element=\"bd2757bc-e601-4c03-bd6e-42eaee71a360\")>,\n",
       " <selenium.webdriver.remote.webelement.WebElement (session=\"bda9d463d52b1c66ac40ec51f2daa18e\", element=\"8501d5fb-9e7f-4472-8f06-7b3c20dd221e\")>,\n",
       " <selenium.webdriver.remote.webelement.WebElement (session=\"bda9d463d52b1c66ac40ec51f2daa18e\", element=\"6f5e188c-c3bf-415a-9557-02e52474c119\")>,\n",
       " <selenium.webdriver.remote.webelement.WebElement (session=\"bda9d463d52b1c66ac40ec51f2daa18e\", element=\"023d46ee-5357-4caf-aaec-521d57dbe75f\")>,\n",
       " <selenium.webdriver.remote.webelement.WebElement (session=\"bda9d463d52b1c66ac40ec51f2daa18e\", element=\"44802bc8-dd15-4753-830b-f5f8aaba8c11\")>,\n",
       " <selenium.webdriver.remote.webelement.WebElement (session=\"bda9d463d52b1c66ac40ec51f2daa18e\", element=\"54ddd566-ff2f-4531-ab90-c8aba309bade\")>,\n",
       " <selenium.webdriver.remote.webelement.WebElement (session=\"bda9d463d52b1c66ac40ec51f2daa18e\", element=\"60462bc3-92fa-4030-bb40-21d2b5e15d35\")>,\n",
       " <selenium.webdriver.remote.webelement.WebElement (session=\"bda9d463d52b1c66ac40ec51f2daa18e\", element=\"b3dc18fb-6ddf-462f-8c2d-d87fba37be68\")>,\n",
       " <selenium.webdriver.remote.webelement.WebElement (session=\"bda9d463d52b1c66ac40ec51f2daa18e\", element=\"29f8758a-d091-4c51-854b-098e238fd375\")>,\n",
       " <selenium.webdriver.remote.webelement.WebElement (session=\"bda9d463d52b1c66ac40ec51f2daa18e\", element=\"aca485cd-36c8-4c50-a4fe-4ad0c92f8c87\")>,\n",
       " <selenium.webdriver.remote.webelement.WebElement (session=\"bda9d463d52b1c66ac40ec51f2daa18e\", element=\"8c8c661e-5086-4446-9fb1-444985e9c9c8\")>,\n",
       " <selenium.webdriver.remote.webelement.WebElement (session=\"bda9d463d52b1c66ac40ec51f2daa18e\", element=\"ea040899-77aa-4d01-a73a-96ba8b334581\")>,\n",
       " <selenium.webdriver.remote.webelement.WebElement (session=\"bda9d463d52b1c66ac40ec51f2daa18e\", element=\"e9a0396a-c27e-46b2-b3ff-9dc57e2ced1d\")>,\n",
       " <selenium.webdriver.remote.webelement.WebElement (session=\"bda9d463d52b1c66ac40ec51f2daa18e\", element=\"032c9d45-bb39-4268-a50f-d708ecb24fce\")>]"
      ]
     },
     "execution_count": 12,
     "metadata": {},
     "output_type": "execute_result"
    }
   ],
   "source": [
    "header2=browser.find_elements(\"xpath\",\"//div[@class='td-wrap-in']\")\n",
    "header2\n"
   ]
  },
  {
   "cell_type": "code",
   "execution_count": 13,
   "id": "fa78b706",
   "metadata": {},
   "outputs": [
    {
     "data": {
      "text/plain": [
       "['78', '89', '91.1', '97.6', '16.8', '99.8', '100', '98.2', '93']"
      ]
     },
     "execution_count": 13,
     "metadata": {},
     "output_type": "execute_result"
    }
   ],
   "source": [
    "#PARSING DATA\n",
    "value_head=[]\n",
    "for data in header2:\n",
    "    #get the text data\n",
    "    temp=data.text\n",
    "    value_head.append(temp)\n",
    "value=value_head[41:50]\n",
    "value"
   ]
  },
  {
   "cell_type": "code",
   "execution_count": 14,
   "id": "6ba7c498",
   "metadata": {},
   "outputs": [
    {
     "data": {
      "text/plain": [
       "{'Name': 'The University of New South Wales (UNSW Sydney)',\n",
       " 'Location': 'Sydney, Australia',\n",
       " 'Rank': '45',\n",
       " 'Overall Score': '78',\n",
       " 'Academic Reputation': '89',\n",
       " 'Employer Reputation': '91.1',\n",
       " 'Citations per Faculty': '97.6',\n",
       " 'Faculty Student Ratio': '16.8',\n",
       " 'International Students Ratio': '99.8',\n",
       " 'International Faculty Ratio': '100',\n",
       " 'International Research Network\\nUnweighted': '98.2',\n",
       " 'Employment Outcomes\\nUnweighted': '93'}"
      ]
     },
     "execution_count": 14,
     "metadata": {},
     "output_type": "execute_result"
    }
   ],
   "source": [
    "d={}\n",
    "d['Name']=value_head[40]\n",
    "d['Location']=loc[4]\n",
    "d['Rank']=RANK[4]\n",
    "for i in range(len(column_head)):\n",
    "    d[column_head[i]]=value[i]\n",
    "d\n"
   ]
  },
  {
   "cell_type": "code",
   "execution_count": 15,
   "id": "8a19a436",
   "metadata": {},
   "outputs": [
    {
     "data": {
      "text/plain": [
       "'{\"Name\": \"The University of New South Wales (UNSW Sydney)\", \"Location\": \"Sydney, Australia\", \"Rank\": \"45\", \"Overall Score\": \"78\", \"Academic Reputation\": \"89\", \"Employer Reputation\": \"91.1\", \"Citations per Faculty\": \"97.6\", \"Faculty Student Ratio\": \"16.8\", \"International Students Ratio\": \"99.8\", \"International Faculty Ratio\": \"100\", \"International Research Network\\\\nUnweighted\": \"98.2\", \"Employment Outcomes\\\\nUnweighted\": \"93\"}'"
      ]
     },
     "execution_count": 15,
     "metadata": {},
     "output_type": "execute_result"
    }
   ],
   "source": [
    "s1=json.dumps(d)\n",
    "s1"
   ]
  },
  {
   "cell_type": "code",
   "execution_count": 16,
   "id": "bd3bdf20",
   "metadata": {},
   "outputs": [],
   "source": [
    "with open('The University of New South Wales (UNSW Sydney).json','w') as f:\n",
    "    json.dump(d,f)"
   ]
  },
  {
   "cell_type": "code",
   "execution_count": null,
   "id": "282c0f2a",
   "metadata": {},
   "outputs": [],
   "source": []
  },
  {
   "cell_type": "code",
   "execution_count": null,
   "id": "b6623d34",
   "metadata": {},
   "outputs": [],
   "source": []
  }
 ],
 "metadata": {
  "kernelspec": {
   "display_name": "Python 3 (ipykernel)",
   "language": "python",
   "name": "python3"
  },
  "language_info": {
   "codemirror_mode": {
    "name": "ipython",
    "version": 3
   },
   "file_extension": ".py",
   "mimetype": "text/x-python",
   "name": "python",
   "nbconvert_exporter": "python",
   "pygments_lexer": "ipython3",
   "version": "3.9.12"
  }
 },
 "nbformat": 4,
 "nbformat_minor": 5
}
