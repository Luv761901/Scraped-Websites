{
 "cells": [
  {
   "cell_type": "code",
   "execution_count": 1,
   "id": "a856bb9f",
   "metadata": {},
   "outputs": [],
   "source": [
    "from selenium import webdriver\n",
    "from selenium.webdriver.chrome.service import Service\n",
    "import pandas as pd\n",
    "import json\n"
   ]
  },
  {
   "cell_type": "code",
   "execution_count": 2,
   "id": "b2153c21",
   "metadata": {},
   "outputs": [],
   "source": [
    "\n",
    "path = Service('C:\\chromedriver.exe')\n"
   ]
  },
  {
   "cell_type": "code",
   "execution_count": 3,
   "id": "ff48e8b0",
   "metadata": {},
   "outputs": [],
   "source": [
    "# set path for the driver\n",
    "browser = webdriver.Chrome(service = path)\n"
   ]
  },
  {
   "cell_type": "code",
   "execution_count": 4,
   "id": "0f3ddd02",
   "metadata": {},
   "outputs": [],
   "source": [
    "url = \"https://www.topuniversities.com/university-rankings/world-university-rankings/2023\""
   ]
  },
  {
   "cell_type": "code",
   "execution_count": 5,
   "id": "add7a5d5",
   "metadata": {},
   "outputs": [],
   "source": [
    "# open the page url ion chrome\n",
    "browser.get(url)"
   ]
  },
  {
   "cell_type": "code",
   "execution_count": 6,
   "id": "c3789ad8",
   "metadata": {},
   "outputs": [
    {
     "data": {
      "text/plain": [
       "[<selenium.webdriver.remote.webelement.WebElement (session=\"396acf1e5d7098153a2c3978d8c631d1\", element=\"713e4090-8e06-488d-97ce-3d3e60cd2698\")>,\n",
       " <selenium.webdriver.remote.webelement.WebElement (session=\"396acf1e5d7098153a2c3978d8c631d1\", element=\"8846a912-d294-428f-a4a7-8a4a229069a8\")>,\n",
       " <selenium.webdriver.remote.webelement.WebElement (session=\"396acf1e5d7098153a2c3978d8c631d1\", element=\"4f2fdf56-1882-416a-b173-ffda481c860b\")>,\n",
       " <selenium.webdriver.remote.webelement.WebElement (session=\"396acf1e5d7098153a2c3978d8c631d1\", element=\"691cb68a-a3c2-4371-b804-acd40c48c2d3\")>,\n",
       " <selenium.webdriver.remote.webelement.WebElement (session=\"396acf1e5d7098153a2c3978d8c631d1\", element=\"2f6a493e-8713-4bce-8c73-ee6227dddc1e\")>,\n",
       " <selenium.webdriver.remote.webelement.WebElement (session=\"396acf1e5d7098153a2c3978d8c631d1\", element=\"6ea2bce2-0cc1-4ef0-918c-f077c5244797\")>,\n",
       " <selenium.webdriver.remote.webelement.WebElement (session=\"396acf1e5d7098153a2c3978d8c631d1\", element=\"f10461a0-6003-447d-ad16-10afaf4a92a8\")>,\n",
       " <selenium.webdriver.remote.webelement.WebElement (session=\"396acf1e5d7098153a2c3978d8c631d1\", element=\"a6093a61-fe29-4c20-acb3-aea1aa50d15c\")>,\n",
       " <selenium.webdriver.remote.webelement.WebElement (session=\"396acf1e5d7098153a2c3978d8c631d1\", element=\"1081ee96-1588-4fb1-a9a5-b4519ddb3515\")>,\n",
       " <selenium.webdriver.remote.webelement.WebElement (session=\"396acf1e5d7098153a2c3978d8c631d1\", element=\"5d07be1d-8544-4bdb-8231-552441deb87b\")>,\n",
       " <selenium.webdriver.remote.webelement.WebElement (session=\"396acf1e5d7098153a2c3978d8c631d1\", element=\"330933b5-584d-4bc9-afcd-36f735739138\")>,\n",
       " <selenium.webdriver.remote.webelement.WebElement (session=\"396acf1e5d7098153a2c3978d8c631d1\", element=\"d19a7d3d-3924-4995-9960-30dd8da647e1\")>,\n",
       " <selenium.webdriver.remote.webelement.WebElement (session=\"396acf1e5d7098153a2c3978d8c631d1\", element=\"5912eb92-016d-481f-89f9-e15af66be7eb\")>,\n",
       " <selenium.webdriver.remote.webelement.WebElement (session=\"396acf1e5d7098153a2c3978d8c631d1\", element=\"6d7bd218-6e26-45a4-ba54-604f8396afd6\")>,\n",
       " <selenium.webdriver.remote.webelement.WebElement (session=\"396acf1e5d7098153a2c3978d8c631d1\", element=\"b08cd518-d501-4554-a64a-76f65dfc5a94\")>,\n",
       " <selenium.webdriver.remote.webelement.WebElement (session=\"396acf1e5d7098153a2c3978d8c631d1\", element=\"90ebd012-139d-4764-aaf9-36254af8c914\")>,\n",
       " <selenium.webdriver.remote.webelement.WebElement (session=\"396acf1e5d7098153a2c3978d8c631d1\", element=\"ddf097ba-30c7-4d9e-858b-9a1db44f130b\")>,\n",
       " <selenium.webdriver.remote.webelement.WebElement (session=\"396acf1e5d7098153a2c3978d8c631d1\", element=\"5c0f275f-c473-4841-92e7-9228bdca8364\")>,\n",
       " <selenium.webdriver.remote.webelement.WebElement (session=\"396acf1e5d7098153a2c3978d8c631d1\", element=\"4925b3b9-7d0d-49db-80cf-fa7c9d2a00ff\")>,\n",
       " <selenium.webdriver.remote.webelement.WebElement (session=\"396acf1e5d7098153a2c3978d8c631d1\", element=\"c26e61f0-fc35-412e-bc60-c4470a94eaa7\")>]"
      ]
     },
     "execution_count": 6,
     "metadata": {},
     "output_type": "execute_result"
    }
   ],
   "source": [
    "\n",
    "l1=browser.find_elements(\"xpath\",\"//div[@class='location ']\")\n",
    "l1\n"
   ]
  },
  {
   "cell_type": "code",
   "execution_count": 7,
   "id": "0af3565b",
   "metadata": {},
   "outputs": [
    {
     "data": {
      "text/plain": [
       "['Montreal, Canada',\n",
       " 'Evanston, United States',\n",
       " 'Parkville, Australia',\n",
       " 'Shanghai, China (Mainland)',\n",
       " 'Toronto, Canada',\n",
       " 'Kyoto, Japan',\n",
       " 'London, United Kingdom',\n",
       " 'Hong Kong SAR, Hong Kong SAR',\n",
       " 'New York City, United States',\n",
       " 'Hong Kong SAR, Hong Kong SAR']"
      ]
     },
     "execution_count": 7,
     "metadata": {},
     "output_type": "execute_result"
    }
   ],
   "source": [
    "loc=[]\n",
    "for data in l1:\n",
    "    #get the text data\n",
    "    temp=data.text\n",
    "    loc.append(temp)\n",
    "loc=loc[10:]\n",
    "loc\n"
   ]
  },
  {
   "cell_type": "code",
   "execution_count": 8,
   "id": "400cd0bd",
   "metadata": {},
   "outputs": [
    {
     "data": {
      "text/plain": [
       "[<selenium.webdriver.remote.webelement.WebElement (session=\"396acf1e5d7098153a2c3978d8c631d1\", element=\"f592df0a-efe6-415e-b55c-2ca26425c4a0\")>,\n",
       " <selenium.webdriver.remote.webelement.WebElement (session=\"396acf1e5d7098153a2c3978d8c631d1\", element=\"2e1be6d2-afcd-47b9-832e-0844fb8d65e6\")>,\n",
       " <selenium.webdriver.remote.webelement.WebElement (session=\"396acf1e5d7098153a2c3978d8c631d1\", element=\"a8c80040-fc6a-4c3d-b9c4-279f3695fc67\")>,\n",
       " <selenium.webdriver.remote.webelement.WebElement (session=\"396acf1e5d7098153a2c3978d8c631d1\", element=\"3c58b546-37af-4cbd-a756-b2412bf626d4\")>,\n",
       " <selenium.webdriver.remote.webelement.WebElement (session=\"396acf1e5d7098153a2c3978d8c631d1\", element=\"25ffcd81-1377-4a07-8399-b504988e74ff\")>,\n",
       " <selenium.webdriver.remote.webelement.WebElement (session=\"396acf1e5d7098153a2c3978d8c631d1\", element=\"dfbc4c28-5d44-4576-9cac-b3612d8ebbcb\")>,\n",
       " <selenium.webdriver.remote.webelement.WebElement (session=\"396acf1e5d7098153a2c3978d8c631d1\", element=\"8ccb8053-c62d-4c03-aaab-654b5aadd582\")>,\n",
       " <selenium.webdriver.remote.webelement.WebElement (session=\"396acf1e5d7098153a2c3978d8c631d1\", element=\"dce9a758-a93f-43de-8b9f-cdb53d3b7d86\")>,\n",
       " <selenium.webdriver.remote.webelement.WebElement (session=\"396acf1e5d7098153a2c3978d8c631d1\", element=\"82554267-d9f9-4d51-91aa-8c76af11cb44\")>,\n",
       " <selenium.webdriver.remote.webelement.WebElement (session=\"396acf1e5d7098153a2c3978d8c631d1\", element=\"d410f422-dddc-4b6b-9501-d4864abe3604\")>]"
      ]
     },
     "execution_count": 8,
     "metadata": {},
     "output_type": "execute_result"
    }
   ],
   "source": [
    "\n",
    "l2=browser.find_elements(\"xpath\",\"//div[@class='_univ-rank ']\")\n",
    "l2"
   ]
  },
  {
   "cell_type": "code",
   "execution_count": 9,
   "id": "3daf4f07",
   "metadata": {},
   "outputs": [
    {
     "data": {
      "text/plain": [
       "['31', '32', '33', '=34', '=34', '36', '37', '38', '39', '40']"
      ]
     },
     "execution_count": 9,
     "metadata": {},
     "output_type": "execute_result"
    }
   ],
   "source": [
    "RANK=[]\n",
    "for data in l2:\n",
    "    #get the text data\n",
    "    temp=data.text\n",
    "    RANK.append(temp)\n",
    "RANK\n"
   ]
  },
  {
   "cell_type": "code",
   "execution_count": 10,
   "id": "862f88b5",
   "metadata": {},
   "outputs": [
    {
     "data": {
      "text/plain": [
       "[<selenium.webdriver.remote.webelement.WebElement (session=\"396acf1e5d7098153a2c3978d8c631d1\", element=\"8124cd5f-345b-4bfb-85ea-4c2941e9101e\")>,\n",
       " <selenium.webdriver.remote.webelement.WebElement (session=\"396acf1e5d7098153a2c3978d8c631d1\", element=\"2cd899c8-50d1-482e-a8b4-b745f8812455\")>,\n",
       " <selenium.webdriver.remote.webelement.WebElement (session=\"396acf1e5d7098153a2c3978d8c631d1\", element=\"4929bebf-8eeb-4ece-891e-03d322d46628\")>,\n",
       " <selenium.webdriver.remote.webelement.WebElement (session=\"396acf1e5d7098153a2c3978d8c631d1\", element=\"1c6c5381-3923-4688-a0bc-3a355d8b01ea\")>,\n",
       " <selenium.webdriver.remote.webelement.WebElement (session=\"396acf1e5d7098153a2c3978d8c631d1\", element=\"122a45d3-6ca5-4991-962e-9bdfcb92150a\")>,\n",
       " <selenium.webdriver.remote.webelement.WebElement (session=\"396acf1e5d7098153a2c3978d8c631d1\", element=\"24602261-5317-4df0-91bf-fb7d62ed904f\")>,\n",
       " <selenium.webdriver.remote.webelement.WebElement (session=\"396acf1e5d7098153a2c3978d8c631d1\", element=\"31c671ff-148a-4e53-861f-82dccb32db47\")>,\n",
       " <selenium.webdriver.remote.webelement.WebElement (session=\"396acf1e5d7098153a2c3978d8c631d1\", element=\"d5076607-db41-4384-a5fe-ddde87523deb\")>,\n",
       " <selenium.webdriver.remote.webelement.WebElement (session=\"396acf1e5d7098153a2c3978d8c631d1\", element=\"0e2c288e-1014-4124-978b-5e57e1f84f44\")>]"
      ]
     },
     "execution_count": 10,
     "metadata": {},
     "output_type": "execute_result"
    }
   ],
   "source": [
    "\n",
    "# GET EACH COLLEGE SPECIFICATION HEADERS\n",
    "header=browser.find_elements(\"xpath\",\"//div[@class='_click-function_ind']\")\n",
    "header\n"
   ]
  },
  {
   "cell_type": "code",
   "execution_count": 11,
   "id": "165cbb30",
   "metadata": {},
   "outputs": [
    {
     "data": {
      "text/plain": [
       "['Overall Score',\n",
       " 'Academic Reputation',\n",
       " 'Employer Reputation',\n",
       " 'Citations per Faculty',\n",
       " 'Faculty Student Ratio',\n",
       " 'International Students Ratio',\n",
       " 'International Faculty Ratio',\n",
       " 'International Research Network\\nUnweighted',\n",
       " 'Employment Outcomes\\nUnweighted']"
      ]
     },
     "execution_count": 11,
     "metadata": {},
     "output_type": "execute_result"
    }
   ],
   "source": [
    "\n",
    "#PARSING DATA\n",
    "column_head=[]\n",
    "for data in header:\n",
    "    #get the text data\n",
    "    temp=data.text\n",
    "    column_head.append(temp)\n",
    "column_head\n"
   ]
  },
  {
   "cell_type": "code",
   "execution_count": 12,
   "id": "efc715ee",
   "metadata": {},
   "outputs": [
    {
     "data": {
      "text/plain": [
       "[<selenium.webdriver.remote.webelement.WebElement (session=\"396acf1e5d7098153a2c3978d8c631d1\", element=\"ba983f7f-014c-4653-b523-4e18782bfb9f\")>,\n",
       " <selenium.webdriver.remote.webelement.WebElement (session=\"396acf1e5d7098153a2c3978d8c631d1\", element=\"e0bb359a-bde8-4afa-9c09-a2b5a8a7f8a4\")>,\n",
       " <selenium.webdriver.remote.webelement.WebElement (session=\"396acf1e5d7098153a2c3978d8c631d1\", element=\"326358c7-e0e5-48dd-91e0-90e0f7a5d13d\")>,\n",
       " <selenium.webdriver.remote.webelement.WebElement (session=\"396acf1e5d7098153a2c3978d8c631d1\", element=\"89f7ba20-73d1-49d8-a02a-5b6b8be4d6f2\")>,\n",
       " <selenium.webdriver.remote.webelement.WebElement (session=\"396acf1e5d7098153a2c3978d8c631d1\", element=\"df4516e2-a335-4061-9074-91f15813a2e3\")>,\n",
       " <selenium.webdriver.remote.webelement.WebElement (session=\"396acf1e5d7098153a2c3978d8c631d1\", element=\"8793e019-ef1a-48f7-8547-d16b3cad77a5\")>,\n",
       " <selenium.webdriver.remote.webelement.WebElement (session=\"396acf1e5d7098153a2c3978d8c631d1\", element=\"2100a0cb-6296-424a-bb9f-968650ab64b2\")>,\n",
       " <selenium.webdriver.remote.webelement.WebElement (session=\"396acf1e5d7098153a2c3978d8c631d1\", element=\"58905b4d-3970-4df3-950a-9d9f672df9ae\")>,\n",
       " <selenium.webdriver.remote.webelement.WebElement (session=\"396acf1e5d7098153a2c3978d8c631d1\", element=\"96871961-e87a-4507-9b19-5b2e5b5b1f62\")>,\n",
       " <selenium.webdriver.remote.webelement.WebElement (session=\"396acf1e5d7098153a2c3978d8c631d1\", element=\"1a0f2451-ef39-4f49-97f5-98e0a79adb19\")>,\n",
       " <selenium.webdriver.remote.webelement.WebElement (session=\"396acf1e5d7098153a2c3978d8c631d1\", element=\"6b2ad741-3896-497f-bec4-7aed05c4ee38\")>,\n",
       " <selenium.webdriver.remote.webelement.WebElement (session=\"396acf1e5d7098153a2c3978d8c631d1\", element=\"f86430dc-6547-468c-9850-713e2b9ac1b8\")>,\n",
       " <selenium.webdriver.remote.webelement.WebElement (session=\"396acf1e5d7098153a2c3978d8c631d1\", element=\"fe26ab96-8288-458a-b027-4522d1f825d7\")>,\n",
       " <selenium.webdriver.remote.webelement.WebElement (session=\"396acf1e5d7098153a2c3978d8c631d1\", element=\"7a0ea07a-ac3c-4bf5-ae3c-1bd077c188bc\")>,\n",
       " <selenium.webdriver.remote.webelement.WebElement (session=\"396acf1e5d7098153a2c3978d8c631d1\", element=\"88d8b1ef-bb09-4e11-a9c2-d86383a2bd4c\")>,\n",
       " <selenium.webdriver.remote.webelement.WebElement (session=\"396acf1e5d7098153a2c3978d8c631d1\", element=\"b188f38e-6631-4564-950b-003dd6d20010\")>,\n",
       " <selenium.webdriver.remote.webelement.WebElement (session=\"396acf1e5d7098153a2c3978d8c631d1\", element=\"0eae22ec-a992-4e64-a86e-82d84f45a6c7\")>,\n",
       " <selenium.webdriver.remote.webelement.WebElement (session=\"396acf1e5d7098153a2c3978d8c631d1\", element=\"42daf8a6-2723-4759-9e86-6763a5d3cf20\")>,\n",
       " <selenium.webdriver.remote.webelement.WebElement (session=\"396acf1e5d7098153a2c3978d8c631d1\", element=\"1c249144-4acf-455c-b48e-cf8105770664\")>,\n",
       " <selenium.webdriver.remote.webelement.WebElement (session=\"396acf1e5d7098153a2c3978d8c631d1\", element=\"81eb8029-ca1d-44ae-9f79-f443c7642b30\")>,\n",
       " <selenium.webdriver.remote.webelement.WebElement (session=\"396acf1e5d7098153a2c3978d8c631d1\", element=\"35bbc48f-e6ce-4110-b826-429239fde038\")>,\n",
       " <selenium.webdriver.remote.webelement.WebElement (session=\"396acf1e5d7098153a2c3978d8c631d1\", element=\"1580e40a-8753-4a4a-a170-e57979fd97b2\")>,\n",
       " <selenium.webdriver.remote.webelement.WebElement (session=\"396acf1e5d7098153a2c3978d8c631d1\", element=\"4d61a0cb-c441-4671-b71d-ff68fff771ca\")>,\n",
       " <selenium.webdriver.remote.webelement.WebElement (session=\"396acf1e5d7098153a2c3978d8c631d1\", element=\"547ed896-c881-4811-a15d-37254644b0b5\")>,\n",
       " <selenium.webdriver.remote.webelement.WebElement (session=\"396acf1e5d7098153a2c3978d8c631d1\", element=\"6376c5ac-967f-40d4-bedf-34192df7e470\")>,\n",
       " <selenium.webdriver.remote.webelement.WebElement (session=\"396acf1e5d7098153a2c3978d8c631d1\", element=\"21baf7e8-21b9-46f5-ae24-c93b48de4977\")>,\n",
       " <selenium.webdriver.remote.webelement.WebElement (session=\"396acf1e5d7098153a2c3978d8c631d1\", element=\"5365232d-cfd6-4a9d-8726-b01087167440\")>,\n",
       " <selenium.webdriver.remote.webelement.WebElement (session=\"396acf1e5d7098153a2c3978d8c631d1\", element=\"acc260ea-ac24-4ada-b23a-3736bd819e17\")>,\n",
       " <selenium.webdriver.remote.webelement.WebElement (session=\"396acf1e5d7098153a2c3978d8c631d1\", element=\"22ed6b97-2078-44d6-bcac-88782188781e\")>,\n",
       " <selenium.webdriver.remote.webelement.WebElement (session=\"396acf1e5d7098153a2c3978d8c631d1\", element=\"cba39e4a-6db9-4cde-bf85-0e97684279a7\")>,\n",
       " <selenium.webdriver.remote.webelement.WebElement (session=\"396acf1e5d7098153a2c3978d8c631d1\", element=\"96841851-06e1-48a8-b9b2-822d6f376d63\")>,\n",
       " <selenium.webdriver.remote.webelement.WebElement (session=\"396acf1e5d7098153a2c3978d8c631d1\", element=\"81df3981-3abf-49c8-b6dc-8e3173d9c987\")>,\n",
       " <selenium.webdriver.remote.webelement.WebElement (session=\"396acf1e5d7098153a2c3978d8c631d1\", element=\"701fdc5b-07d2-4ae4-8414-c5255eaf6feb\")>,\n",
       " <selenium.webdriver.remote.webelement.WebElement (session=\"396acf1e5d7098153a2c3978d8c631d1\", element=\"b17efafa-0683-4875-8b6f-0b2110860f02\")>,\n",
       " <selenium.webdriver.remote.webelement.WebElement (session=\"396acf1e5d7098153a2c3978d8c631d1\", element=\"d1af263f-ba44-471f-98bf-b42585000418\")>,\n",
       " <selenium.webdriver.remote.webelement.WebElement (session=\"396acf1e5d7098153a2c3978d8c631d1\", element=\"561a27de-751e-4ef4-aef9-144c0d177944\")>,\n",
       " <selenium.webdriver.remote.webelement.WebElement (session=\"396acf1e5d7098153a2c3978d8c631d1\", element=\"e2cebb7e-584a-4dd3-a145-01968f57c9c6\")>,\n",
       " <selenium.webdriver.remote.webelement.WebElement (session=\"396acf1e5d7098153a2c3978d8c631d1\", element=\"44ca8b5c-d859-42b6-9362-33f607d4cd67\")>,\n",
       " <selenium.webdriver.remote.webelement.WebElement (session=\"396acf1e5d7098153a2c3978d8c631d1\", element=\"41e77812-5ebd-4f3a-903c-e286045c8076\")>,\n",
       " <selenium.webdriver.remote.webelement.WebElement (session=\"396acf1e5d7098153a2c3978d8c631d1\", element=\"90662827-9449-4123-a535-21e2e795f8a4\")>,\n",
       " <selenium.webdriver.remote.webelement.WebElement (session=\"396acf1e5d7098153a2c3978d8c631d1\", element=\"967ecfa0-df8a-438e-add1-0b216e4c74f4\")>,\n",
       " <selenium.webdriver.remote.webelement.WebElement (session=\"396acf1e5d7098153a2c3978d8c631d1\", element=\"049e25eb-29cc-4686-bc53-3af8008a6dd7\")>,\n",
       " <selenium.webdriver.remote.webelement.WebElement (session=\"396acf1e5d7098153a2c3978d8c631d1\", element=\"8b2cf72c-aa8e-41ab-8a97-6ebef8159d8a\")>,\n",
       " <selenium.webdriver.remote.webelement.WebElement (session=\"396acf1e5d7098153a2c3978d8c631d1\", element=\"e960a29a-877b-4d99-8e50-b317669595df\")>,\n",
       " <selenium.webdriver.remote.webelement.WebElement (session=\"396acf1e5d7098153a2c3978d8c631d1\", element=\"0af1c658-4ee9-44d0-92ac-3ebacb70dd6a\")>,\n",
       " <selenium.webdriver.remote.webelement.WebElement (session=\"396acf1e5d7098153a2c3978d8c631d1\", element=\"68d0c721-c4de-4198-9d25-0418207ebdcd\")>,\n",
       " <selenium.webdriver.remote.webelement.WebElement (session=\"396acf1e5d7098153a2c3978d8c631d1\", element=\"7365039d-1b91-4654-b8be-56087d0c9894\")>,\n",
       " <selenium.webdriver.remote.webelement.WebElement (session=\"396acf1e5d7098153a2c3978d8c631d1\", element=\"6b2c7d76-8f24-40d8-b5a5-6cb65e5d30af\")>,\n",
       " <selenium.webdriver.remote.webelement.WebElement (session=\"396acf1e5d7098153a2c3978d8c631d1\", element=\"936eab46-1365-432c-904f-36f3a4fb9a91\")>,\n",
       " <selenium.webdriver.remote.webelement.WebElement (session=\"396acf1e5d7098153a2c3978d8c631d1\", element=\"3f3bce3b-d733-4745-878c-2f2de15a021b\")>,\n",
       " <selenium.webdriver.remote.webelement.WebElement (session=\"396acf1e5d7098153a2c3978d8c631d1\", element=\"9d4f2419-c160-4b61-9793-bd7a8f6b11c0\")>,\n",
       " <selenium.webdriver.remote.webelement.WebElement (session=\"396acf1e5d7098153a2c3978d8c631d1\", element=\"0fc2dc4a-c39d-4822-8ac8-c0057ba45046\")>,\n",
       " <selenium.webdriver.remote.webelement.WebElement (session=\"396acf1e5d7098153a2c3978d8c631d1\", element=\"85afac86-79b6-44e7-a20c-85199601fa05\")>,\n",
       " <selenium.webdriver.remote.webelement.WebElement (session=\"396acf1e5d7098153a2c3978d8c631d1\", element=\"eaf37cc3-dc20-4b99-8ffc-a274b424237a\")>,\n",
       " <selenium.webdriver.remote.webelement.WebElement (session=\"396acf1e5d7098153a2c3978d8c631d1\", element=\"5b4985e3-e2a3-43f5-84a1-47e1560b8d6a\")>,\n",
       " <selenium.webdriver.remote.webelement.WebElement (session=\"396acf1e5d7098153a2c3978d8c631d1\", element=\"bb3b24fd-652d-43c5-96fe-ccf7ec7ee243\")>,\n",
       " <selenium.webdriver.remote.webelement.WebElement (session=\"396acf1e5d7098153a2c3978d8c631d1\", element=\"ae8b9f14-3b77-4781-b8a0-1adc9aa00132\")>,\n",
       " <selenium.webdriver.remote.webelement.WebElement (session=\"396acf1e5d7098153a2c3978d8c631d1\", element=\"41473266-30ef-4ddf-ad75-e44a23333dd3\")>,\n",
       " <selenium.webdriver.remote.webelement.WebElement (session=\"396acf1e5d7098153a2c3978d8c631d1\", element=\"f06c073b-949b-4b56-8c63-205492344733\")>,\n",
       " <selenium.webdriver.remote.webelement.WebElement (session=\"396acf1e5d7098153a2c3978d8c631d1\", element=\"b2aa3a7d-05e8-4e18-817e-171f39dd6ab2\")>,\n",
       " <selenium.webdriver.remote.webelement.WebElement (session=\"396acf1e5d7098153a2c3978d8c631d1\", element=\"aa69de0f-88af-4860-9954-c87410b8704e\")>,\n",
       " <selenium.webdriver.remote.webelement.WebElement (session=\"396acf1e5d7098153a2c3978d8c631d1\", element=\"5553f883-1b94-49ff-8ad5-cf7046974812\")>,\n",
       " <selenium.webdriver.remote.webelement.WebElement (session=\"396acf1e5d7098153a2c3978d8c631d1\", element=\"8944d554-5bee-4202-8dab-11a0147b73d5\")>,\n",
       " <selenium.webdriver.remote.webelement.WebElement (session=\"396acf1e5d7098153a2c3978d8c631d1\", element=\"0a7e964e-6cc5-439c-9468-539d94a55578\")>,\n",
       " <selenium.webdriver.remote.webelement.WebElement (session=\"396acf1e5d7098153a2c3978d8c631d1\", element=\"85e0f7e2-b50b-4900-801f-a80540208871\")>,\n",
       " <selenium.webdriver.remote.webelement.WebElement (session=\"396acf1e5d7098153a2c3978d8c631d1\", element=\"9c1c911d-1a24-45da-9963-ecfdc2c1ccc1\")>,\n",
       " <selenium.webdriver.remote.webelement.WebElement (session=\"396acf1e5d7098153a2c3978d8c631d1\", element=\"6155c3cb-7c69-4ed8-a1cf-d5397b264b61\")>,\n",
       " <selenium.webdriver.remote.webelement.WebElement (session=\"396acf1e5d7098153a2c3978d8c631d1\", element=\"b892f717-a0fa-4e88-acf7-851dacbd4547\")>,\n",
       " <selenium.webdriver.remote.webelement.WebElement (session=\"396acf1e5d7098153a2c3978d8c631d1\", element=\"faf83380-7e42-4d97-b9e6-d9d07a020f03\")>,\n",
       " <selenium.webdriver.remote.webelement.WebElement (session=\"396acf1e5d7098153a2c3978d8c631d1\", element=\"1b23ed27-99cb-4096-b424-e1d34ffae2f6\")>,\n",
       " <selenium.webdriver.remote.webelement.WebElement (session=\"396acf1e5d7098153a2c3978d8c631d1\", element=\"3d08fd61-b4d7-4199-95ce-3ff43259c295\")>,\n",
       " <selenium.webdriver.remote.webelement.WebElement (session=\"396acf1e5d7098153a2c3978d8c631d1\", element=\"1189297b-f1b7-4a84-b1ff-c0a8bed82323\")>,\n",
       " <selenium.webdriver.remote.webelement.WebElement (session=\"396acf1e5d7098153a2c3978d8c631d1\", element=\"55a68958-a08e-4cc4-b8f7-b8c1903de653\")>,\n",
       " <selenium.webdriver.remote.webelement.WebElement (session=\"396acf1e5d7098153a2c3978d8c631d1\", element=\"88dcc9c3-7da1-4cf7-8252-5248612350cf\")>,\n",
       " <selenium.webdriver.remote.webelement.WebElement (session=\"396acf1e5d7098153a2c3978d8c631d1\", element=\"39324d96-85a8-4090-8bbf-af833efad833\")>,\n",
       " <selenium.webdriver.remote.webelement.WebElement (session=\"396acf1e5d7098153a2c3978d8c631d1\", element=\"9babe261-3f0b-4c5b-98c9-3e678b918c02\")>,\n",
       " <selenium.webdriver.remote.webelement.WebElement (session=\"396acf1e5d7098153a2c3978d8c631d1\", element=\"ceef302f-ad58-4a65-ba2f-c85330349712\")>,\n",
       " <selenium.webdriver.remote.webelement.WebElement (session=\"396acf1e5d7098153a2c3978d8c631d1\", element=\"082bd5bf-4ca0-4a49-9da7-e85721cd9375\")>,\n",
       " <selenium.webdriver.remote.webelement.WebElement (session=\"396acf1e5d7098153a2c3978d8c631d1\", element=\"246f4d10-d075-4dae-aa69-771a33e4b7fd\")>,\n",
       " <selenium.webdriver.remote.webelement.WebElement (session=\"396acf1e5d7098153a2c3978d8c631d1\", element=\"e8270566-a56f-4d3c-988f-bf2baa499e03\")>,\n",
       " <selenium.webdriver.remote.webelement.WebElement (session=\"396acf1e5d7098153a2c3978d8c631d1\", element=\"eed6cf4c-718c-43f6-a602-7427643d44ef\")>,\n",
       " <selenium.webdriver.remote.webelement.WebElement (session=\"396acf1e5d7098153a2c3978d8c631d1\", element=\"40a8bb79-e8a7-46ed-a684-392ff3d22893\")>,\n",
       " <selenium.webdriver.remote.webelement.WebElement (session=\"396acf1e5d7098153a2c3978d8c631d1\", element=\"eb408105-90d0-4209-bc16-2e0c707103c2\")>,\n",
       " <selenium.webdriver.remote.webelement.WebElement (session=\"396acf1e5d7098153a2c3978d8c631d1\", element=\"4e747f22-63e8-4d40-862e-87a5848badcc\")>,\n",
       " <selenium.webdriver.remote.webelement.WebElement (session=\"396acf1e5d7098153a2c3978d8c631d1\", element=\"869ce07f-ee1e-4cc7-bd8f-cf0d8e468b5a\")>,\n",
       " <selenium.webdriver.remote.webelement.WebElement (session=\"396acf1e5d7098153a2c3978d8c631d1\", element=\"16ef0852-3088-4728-b9e7-fc15e833323a\")>,\n",
       " <selenium.webdriver.remote.webelement.WebElement (session=\"396acf1e5d7098153a2c3978d8c631d1\", element=\"7563df19-3f8c-4e08-8279-ff711301ee62\")>,\n",
       " <selenium.webdriver.remote.webelement.WebElement (session=\"396acf1e5d7098153a2c3978d8c631d1\", element=\"57278919-d115-459f-8e9b-7b5d9e887396\")>,\n",
       " <selenium.webdriver.remote.webelement.WebElement (session=\"396acf1e5d7098153a2c3978d8c631d1\", element=\"4e943752-7dcd-4fa6-927f-400a6aa880a1\")>,\n",
       " <selenium.webdriver.remote.webelement.WebElement (session=\"396acf1e5d7098153a2c3978d8c631d1\", element=\"a8ff2d8c-31a7-4030-912d-04e0977e86f4\")>,\n",
       " <selenium.webdriver.remote.webelement.WebElement (session=\"396acf1e5d7098153a2c3978d8c631d1\", element=\"23710902-8f48-4d1d-9583-3cf63b3e4ec3\")>,\n",
       " <selenium.webdriver.remote.webelement.WebElement (session=\"396acf1e5d7098153a2c3978d8c631d1\", element=\"5498d55b-a777-4c37-8557-d5209a7df04e\")>,\n",
       " <selenium.webdriver.remote.webelement.WebElement (session=\"396acf1e5d7098153a2c3978d8c631d1\", element=\"d0332349-04c0-41b6-a902-2701f5597186\")>,\n",
       " <selenium.webdriver.remote.webelement.WebElement (session=\"396acf1e5d7098153a2c3978d8c631d1\", element=\"349c8e67-d481-4387-95c7-93a51abb4220\")>,\n",
       " <selenium.webdriver.remote.webelement.WebElement (session=\"396acf1e5d7098153a2c3978d8c631d1\", element=\"1eae8054-2cb0-4921-840a-cd7c46a3dc4b\")>,\n",
       " <selenium.webdriver.remote.webelement.WebElement (session=\"396acf1e5d7098153a2c3978d8c631d1\", element=\"dcb32bbe-be59-4935-a1c5-e96cbe6ba023\")>,\n",
       " <selenium.webdriver.remote.webelement.WebElement (session=\"396acf1e5d7098153a2c3978d8c631d1\", element=\"7c6c8f22-58cf-43ab-9fa9-368ca990b27b\")>,\n",
       " <selenium.webdriver.remote.webelement.WebElement (session=\"396acf1e5d7098153a2c3978d8c631d1\", element=\"929b10c0-abe0-4f9a-b2a9-916c998b7f2e\")>,\n",
       " <selenium.webdriver.remote.webelement.WebElement (session=\"396acf1e5d7098153a2c3978d8c631d1\", element=\"07d4509b-a16e-4ac1-ab10-6b66e2e0900d\")>,\n",
       " <selenium.webdriver.remote.webelement.WebElement (session=\"396acf1e5d7098153a2c3978d8c631d1\", element=\"cc70d248-da31-42aa-a2ea-29e3721d9994\")>]"
      ]
     },
     "execution_count": 12,
     "metadata": {},
     "output_type": "execute_result"
    }
   ],
   "source": [
    "header2=browser.find_elements(\"xpath\",\"//div[@class='td-wrap-in']\")\n",
    "header2\n"
   ]
  },
  {
   "cell_type": "code",
   "execution_count": 13,
   "id": "e98af57a",
   "metadata": {},
   "outputs": [
    {
     "data": {
      "text/plain": [
       "['81.6', '98.6', '94.9', '95', '17.9', '99.8', '93.1', '97.6', '91.1']"
      ]
     },
     "execution_count": 13,
     "metadata": {},
     "output_type": "execute_result"
    }
   ],
   "source": [
    "#PARSING DATA\n",
    "value_head=[]\n",
    "for data in header2:\n",
    "    #get the text data\n",
    "    temp=data.text\n",
    "    value_head.append(temp)\n",
    "value=value_head[21:30]\n",
    "value\n"
   ]
  },
  {
   "cell_type": "code",
   "execution_count": 14,
   "id": "1a85027f",
   "metadata": {},
   "outputs": [
    {
     "data": {
      "text/plain": [
       "{'Name': 'The University of Melbourne',\n",
       " 'Location': 'Parkville, Australia',\n",
       " 'Rank': '33',\n",
       " 'Overall Score': '81.6',\n",
       " 'Academic Reputation': '98.6',\n",
       " 'Employer Reputation': '94.9',\n",
       " 'Citations per Faculty': '95',\n",
       " 'Faculty Student Ratio': '17.9',\n",
       " 'International Students Ratio': '99.8',\n",
       " 'International Faculty Ratio': '93.1',\n",
       " 'International Research Network\\nUnweighted': '97.6',\n",
       " 'Employment Outcomes\\nUnweighted': '91.1'}"
      ]
     },
     "execution_count": 14,
     "metadata": {},
     "output_type": "execute_result"
    }
   ],
   "source": [
    "d={}\n",
    "\n",
    "d['Name']=value_head[20]\n",
    "d['Location']=loc[2]\n",
    "d['Rank']=RANK[2]\n",
    "\n",
    "for i in range(len(column_head)):\n",
    "    d[column_head[i]]=value[i]\n",
    "d"
   ]
  },
  {
   "cell_type": "code",
   "execution_count": 15,
   "id": "a7e1b8aa",
   "metadata": {},
   "outputs": [
    {
     "data": {
      "text/plain": [
       "'{\"Name\": \"The University of Melbourne\", \"Location\": \"Parkville, Australia\", \"Rank\": \"33\", \"Overall Score\": \"81.6\", \"Academic Reputation\": \"98.6\", \"Employer Reputation\": \"94.9\", \"Citations per Faculty\": \"95\", \"Faculty Student Ratio\": \"17.9\", \"International Students Ratio\": \"99.8\", \"International Faculty Ratio\": \"93.1\", \"International Research Network\\\\nUnweighted\": \"97.6\", \"Employment Outcomes\\\\nUnweighted\": \"91.1\"}'"
      ]
     },
     "execution_count": 15,
     "metadata": {},
     "output_type": "execute_result"
    }
   ],
   "source": [
    "s1=json.dumps(d)\n",
    "s1\n"
   ]
  },
  {
   "cell_type": "code",
   "execution_count": 16,
   "id": "609bb292",
   "metadata": {},
   "outputs": [],
   "source": [
    "with open('The University of Melbourne.json','w') as f:\n",
    "    json.dump(d,f)"
   ]
  },
  {
   "cell_type": "code",
   "execution_count": null,
   "id": "5946dd48",
   "metadata": {},
   "outputs": [],
   "source": []
  }
 ],
 "metadata": {
  "kernelspec": {
   "display_name": "Python 3 (ipykernel)",
   "language": "python",
   "name": "python3"
  },
  "language_info": {
   "codemirror_mode": {
    "name": "ipython",
    "version": 3
   },
   "file_extension": ".py",
   "mimetype": "text/x-python",
   "name": "python",
   "nbconvert_exporter": "python",
   "pygments_lexer": "ipython3",
   "version": "3.9.12"
  }
 },
 "nbformat": 4,
 "nbformat_minor": 5
}
