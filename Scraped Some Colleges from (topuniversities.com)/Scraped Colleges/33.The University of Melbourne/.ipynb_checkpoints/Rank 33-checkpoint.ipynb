{
 "cells": [
  {
   "cell_type": "code",
   "execution_count": 11,
   "id": "a856bb9f",
   "metadata": {},
   "outputs": [],
   "source": [
    "from selenium import webdriver\n",
    "from selenium.webdriver.chrome.service import Service\n",
    "import pandas as pd\n",
    "import json\n"
   ]
  },
  {
   "cell_type": "code",
   "execution_count": 12,
   "id": "b2153c21",
   "metadata": {},
   "outputs": [],
   "source": [
    "\n",
    "path = Service('C:\\chromedriver.exe')\n"
   ]
  },
  {
   "cell_type": "code",
   "execution_count": 13,
   "id": "ff48e8b0",
   "metadata": {},
   "outputs": [],
   "source": [
    "# set path for the driver\n",
    "browser = webdriver.Chrome(service = path)\n"
   ]
  },
  {
   "cell_type": "code",
   "execution_count": 14,
   "id": "0f3ddd02",
   "metadata": {},
   "outputs": [],
   "source": [
    "url = \"https://www.topuniversities.com/university-rankings/world-university-rankings/2023\""
   ]
  },
  {
   "cell_type": "code",
   "execution_count": 15,
   "id": "add7a5d5",
   "metadata": {},
   "outputs": [],
   "source": [
    "# open the page url ion chrome\n",
    "browser.get(url)"
   ]
  },
  {
   "cell_type": "code",
   "execution_count": 16,
   "id": "862f88b5",
   "metadata": {},
   "outputs": [
    {
     "data": {
      "text/plain": [
       "[<selenium.webdriver.remote.webelement.WebElement (session=\"c9ac8090b5aa9aa05d27883cc1391248\", element=\"217561f4-903e-414a-8e63-737533eb7368\")>,\n",
       " <selenium.webdriver.remote.webelement.WebElement (session=\"c9ac8090b5aa9aa05d27883cc1391248\", element=\"c8e06140-7b2d-4f0d-8017-670f77918c6c\")>,\n",
       " <selenium.webdriver.remote.webelement.WebElement (session=\"c9ac8090b5aa9aa05d27883cc1391248\", element=\"69696310-d378-480d-a8f7-0217ca5c0d34\")>,\n",
       " <selenium.webdriver.remote.webelement.WebElement (session=\"c9ac8090b5aa9aa05d27883cc1391248\", element=\"953f68bc-ad68-41a1-bd37-f2b6dfc8b740\")>,\n",
       " <selenium.webdriver.remote.webelement.WebElement (session=\"c9ac8090b5aa9aa05d27883cc1391248\", element=\"027faca8-3a11-44da-9547-aec950ab6ac9\")>,\n",
       " <selenium.webdriver.remote.webelement.WebElement (session=\"c9ac8090b5aa9aa05d27883cc1391248\", element=\"0e10f5c5-dc3b-4a60-bcf3-1dfe65ca2039\")>,\n",
       " <selenium.webdriver.remote.webelement.WebElement (session=\"c9ac8090b5aa9aa05d27883cc1391248\", element=\"acee5ae1-2252-4488-8e94-d4c699dc5d2d\")>,\n",
       " <selenium.webdriver.remote.webelement.WebElement (session=\"c9ac8090b5aa9aa05d27883cc1391248\", element=\"ba3bc83e-29fc-4bff-8da8-665d02b6b55e\")>,\n",
       " <selenium.webdriver.remote.webelement.WebElement (session=\"c9ac8090b5aa9aa05d27883cc1391248\", element=\"e0a0d8fd-faf4-4380-858c-499dbf7b16d7\")>]"
      ]
     },
     "execution_count": 16,
     "metadata": {},
     "output_type": "execute_result"
    }
   ],
   "source": [
    "\n",
    "# GET EACH COLLEGE SPECIFICATION HEADERS\n",
    "header=browser.find_elements(\"xpath\",\"//div[@class='_click-function_ind']\")\n",
    "header\n"
   ]
  },
  {
   "cell_type": "code",
   "execution_count": 17,
   "id": "165cbb30",
   "metadata": {},
   "outputs": [
    {
     "data": {
      "text/plain": [
       "['Overall Score',\n",
       " 'Academic Reputation',\n",
       " 'Employer Reputation',\n",
       " 'Citations per Faculty',\n",
       " 'Faculty Student Ratio',\n",
       " 'International Students Ratio',\n",
       " 'International Faculty Ratio',\n",
       " 'International Research Network\\nUnweighted',\n",
       " 'Employment Outcomes\\nUnweighted']"
      ]
     },
     "execution_count": 17,
     "metadata": {},
     "output_type": "execute_result"
    }
   ],
   "source": [
    "\n",
    "#PARSING DATA\n",
    "column_head=[]\n",
    "for data in header:\n",
    "    #get the text data\n",
    "    temp=data.text\n",
    "    column_head.append(temp)\n",
    "column_head\n"
   ]
  },
  {
   "cell_type": "code",
   "execution_count": 18,
   "id": "efc715ee",
   "metadata": {},
   "outputs": [
    {
     "data": {
      "text/plain": [
       "[<selenium.webdriver.remote.webelement.WebElement (session=\"c9ac8090b5aa9aa05d27883cc1391248\", element=\"2439a444-425a-4e9d-9a82-146ada263a37\")>,\n",
       " <selenium.webdriver.remote.webelement.WebElement (session=\"c9ac8090b5aa9aa05d27883cc1391248\", element=\"0ef3cde5-71c9-4f80-b550-fe498754b840\")>,\n",
       " <selenium.webdriver.remote.webelement.WebElement (session=\"c9ac8090b5aa9aa05d27883cc1391248\", element=\"45cad101-5c33-432b-a74b-fea96ed7f665\")>,\n",
       " <selenium.webdriver.remote.webelement.WebElement (session=\"c9ac8090b5aa9aa05d27883cc1391248\", element=\"3ef3a0f1-7329-4fa7-a708-ae69082db9c2\")>,\n",
       " <selenium.webdriver.remote.webelement.WebElement (session=\"c9ac8090b5aa9aa05d27883cc1391248\", element=\"8a760a81-bec6-4654-a04e-e15d95cf45d6\")>,\n",
       " <selenium.webdriver.remote.webelement.WebElement (session=\"c9ac8090b5aa9aa05d27883cc1391248\", element=\"f7dc8094-6bf0-4e3a-b5a3-0819144520b3\")>,\n",
       " <selenium.webdriver.remote.webelement.WebElement (session=\"c9ac8090b5aa9aa05d27883cc1391248\", element=\"45ccc33a-a585-42dd-aa69-ebf55250afb0\")>,\n",
       " <selenium.webdriver.remote.webelement.WebElement (session=\"c9ac8090b5aa9aa05d27883cc1391248\", element=\"27bba24a-20ad-46d3-8803-1ef281bf10f6\")>,\n",
       " <selenium.webdriver.remote.webelement.WebElement (session=\"c9ac8090b5aa9aa05d27883cc1391248\", element=\"7da7a679-51d0-4f20-88ee-fc825bd93476\")>,\n",
       " <selenium.webdriver.remote.webelement.WebElement (session=\"c9ac8090b5aa9aa05d27883cc1391248\", element=\"b8cf61c2-0cf1-4b31-a72a-ff02c870072a\")>,\n",
       " <selenium.webdriver.remote.webelement.WebElement (session=\"c9ac8090b5aa9aa05d27883cc1391248\", element=\"8fb10162-c04d-44f3-bda3-6469fd40106a\")>,\n",
       " <selenium.webdriver.remote.webelement.WebElement (session=\"c9ac8090b5aa9aa05d27883cc1391248\", element=\"5462c8d9-e61f-4050-9663-17e46aa4088a\")>,\n",
       " <selenium.webdriver.remote.webelement.WebElement (session=\"c9ac8090b5aa9aa05d27883cc1391248\", element=\"06c474db-3498-4172-ab44-69876f66c55d\")>,\n",
       " <selenium.webdriver.remote.webelement.WebElement (session=\"c9ac8090b5aa9aa05d27883cc1391248\", element=\"141d6bce-977e-4bb8-813f-73589239e4fd\")>,\n",
       " <selenium.webdriver.remote.webelement.WebElement (session=\"c9ac8090b5aa9aa05d27883cc1391248\", element=\"249fdae7-7270-4d70-9e09-87ac2c88c15a\")>,\n",
       " <selenium.webdriver.remote.webelement.WebElement (session=\"c9ac8090b5aa9aa05d27883cc1391248\", element=\"e386158f-0da4-4bf2-83b7-e9eada67d0fb\")>,\n",
       " <selenium.webdriver.remote.webelement.WebElement (session=\"c9ac8090b5aa9aa05d27883cc1391248\", element=\"1777a0ce-c0da-4855-aec7-0a09b05a81e5\")>,\n",
       " <selenium.webdriver.remote.webelement.WebElement (session=\"c9ac8090b5aa9aa05d27883cc1391248\", element=\"63054752-9615-4d5a-9ce7-8eb20585ec68\")>,\n",
       " <selenium.webdriver.remote.webelement.WebElement (session=\"c9ac8090b5aa9aa05d27883cc1391248\", element=\"1d0e2712-5953-4493-a822-00c0c7953adb\")>,\n",
       " <selenium.webdriver.remote.webelement.WebElement (session=\"c9ac8090b5aa9aa05d27883cc1391248\", element=\"c1444a77-e3b8-4d56-85d2-549436abba78\")>,\n",
       " <selenium.webdriver.remote.webelement.WebElement (session=\"c9ac8090b5aa9aa05d27883cc1391248\", element=\"2ac3183c-cace-419b-b49c-25c1f445e9a0\")>,\n",
       " <selenium.webdriver.remote.webelement.WebElement (session=\"c9ac8090b5aa9aa05d27883cc1391248\", element=\"bb3f67ca-3567-4301-804b-b74d6c966d4c\")>,\n",
       " <selenium.webdriver.remote.webelement.WebElement (session=\"c9ac8090b5aa9aa05d27883cc1391248\", element=\"114feef1-a46f-4420-912b-c54401f2bb11\")>,\n",
       " <selenium.webdriver.remote.webelement.WebElement (session=\"c9ac8090b5aa9aa05d27883cc1391248\", element=\"719eddff-f5b8-4365-8ccf-2a269da845d6\")>,\n",
       " <selenium.webdriver.remote.webelement.WebElement (session=\"c9ac8090b5aa9aa05d27883cc1391248\", element=\"aba60873-d22b-4e95-87a9-934aa5411b43\")>,\n",
       " <selenium.webdriver.remote.webelement.WebElement (session=\"c9ac8090b5aa9aa05d27883cc1391248\", element=\"5b759b6e-beca-4067-bf64-770b16907056\")>,\n",
       " <selenium.webdriver.remote.webelement.WebElement (session=\"c9ac8090b5aa9aa05d27883cc1391248\", element=\"1322a986-c318-4863-a8de-457a896c47a2\")>,\n",
       " <selenium.webdriver.remote.webelement.WebElement (session=\"c9ac8090b5aa9aa05d27883cc1391248\", element=\"a348200c-5b85-463d-83a9-3915ce1f97ed\")>,\n",
       " <selenium.webdriver.remote.webelement.WebElement (session=\"c9ac8090b5aa9aa05d27883cc1391248\", element=\"575e7afc-483b-4990-a172-43264616976f\")>,\n",
       " <selenium.webdriver.remote.webelement.WebElement (session=\"c9ac8090b5aa9aa05d27883cc1391248\", element=\"e37cff90-21a8-4db0-9315-c058e38dc3e1\")>,\n",
       " <selenium.webdriver.remote.webelement.WebElement (session=\"c9ac8090b5aa9aa05d27883cc1391248\", element=\"dfe62379-923b-451e-8d6d-cb3912a814ce\")>,\n",
       " <selenium.webdriver.remote.webelement.WebElement (session=\"c9ac8090b5aa9aa05d27883cc1391248\", element=\"b53b3aaf-ca80-4d1a-9926-a7cb7352b379\")>,\n",
       " <selenium.webdriver.remote.webelement.WebElement (session=\"c9ac8090b5aa9aa05d27883cc1391248\", element=\"0ecd3c56-306e-4841-9d52-15e730c1fa1e\")>,\n",
       " <selenium.webdriver.remote.webelement.WebElement (session=\"c9ac8090b5aa9aa05d27883cc1391248\", element=\"74ed416a-23bb-4f7c-af58-bf866556c309\")>,\n",
       " <selenium.webdriver.remote.webelement.WebElement (session=\"c9ac8090b5aa9aa05d27883cc1391248\", element=\"9a5e0231-6c8f-43cb-b15a-1f711cc78170\")>,\n",
       " <selenium.webdriver.remote.webelement.WebElement (session=\"c9ac8090b5aa9aa05d27883cc1391248\", element=\"62851e64-309b-4af3-8971-818b0788d207\")>,\n",
       " <selenium.webdriver.remote.webelement.WebElement (session=\"c9ac8090b5aa9aa05d27883cc1391248\", element=\"704b5ecf-c1cc-47bf-b3a1-64265b34a9ba\")>,\n",
       " <selenium.webdriver.remote.webelement.WebElement (session=\"c9ac8090b5aa9aa05d27883cc1391248\", element=\"931f9c17-e904-4fcc-8bb0-a24d7bb11d6d\")>,\n",
       " <selenium.webdriver.remote.webelement.WebElement (session=\"c9ac8090b5aa9aa05d27883cc1391248\", element=\"14dff3a0-bb38-406f-ba61-bf0502d0fc5b\")>,\n",
       " <selenium.webdriver.remote.webelement.WebElement (session=\"c9ac8090b5aa9aa05d27883cc1391248\", element=\"a2c5ac28-a4f3-4f4f-b94d-52d955493dfd\")>,\n",
       " <selenium.webdriver.remote.webelement.WebElement (session=\"c9ac8090b5aa9aa05d27883cc1391248\", element=\"91ae81a6-bbe3-4406-ae99-c2b1381ae5f6\")>,\n",
       " <selenium.webdriver.remote.webelement.WebElement (session=\"c9ac8090b5aa9aa05d27883cc1391248\", element=\"e56dcfe9-35e1-401e-baaf-9232dcd99d09\")>,\n",
       " <selenium.webdriver.remote.webelement.WebElement (session=\"c9ac8090b5aa9aa05d27883cc1391248\", element=\"3f2027c9-0620-4ad1-8b40-a3a840f37f9a\")>,\n",
       " <selenium.webdriver.remote.webelement.WebElement (session=\"c9ac8090b5aa9aa05d27883cc1391248\", element=\"e1c001a6-7dae-454c-9019-e4e0ade7bec4\")>,\n",
       " <selenium.webdriver.remote.webelement.WebElement (session=\"c9ac8090b5aa9aa05d27883cc1391248\", element=\"f71a5633-de0e-4445-a049-23cf7d5b9792\")>,\n",
       " <selenium.webdriver.remote.webelement.WebElement (session=\"c9ac8090b5aa9aa05d27883cc1391248\", element=\"ff6c3e1f-35ac-498c-90c9-113983f8e725\")>,\n",
       " <selenium.webdriver.remote.webelement.WebElement (session=\"c9ac8090b5aa9aa05d27883cc1391248\", element=\"46c868e6-af3c-425f-8714-18d1011bde86\")>,\n",
       " <selenium.webdriver.remote.webelement.WebElement (session=\"c9ac8090b5aa9aa05d27883cc1391248\", element=\"cc70f8c0-ce64-4953-a3ac-d71797ab77fa\")>,\n",
       " <selenium.webdriver.remote.webelement.WebElement (session=\"c9ac8090b5aa9aa05d27883cc1391248\", element=\"caccaecb-60ab-4435-be03-bf90f5c67440\")>,\n",
       " <selenium.webdriver.remote.webelement.WebElement (session=\"c9ac8090b5aa9aa05d27883cc1391248\", element=\"5c7be32d-4f3a-491b-b8ff-6d2b7c92d782\")>,\n",
       " <selenium.webdriver.remote.webelement.WebElement (session=\"c9ac8090b5aa9aa05d27883cc1391248\", element=\"e53ba2f9-793b-45bb-a863-193a466f7aa6\")>,\n",
       " <selenium.webdriver.remote.webelement.WebElement (session=\"c9ac8090b5aa9aa05d27883cc1391248\", element=\"049b3027-eab9-460c-a13e-0407f7084349\")>,\n",
       " <selenium.webdriver.remote.webelement.WebElement (session=\"c9ac8090b5aa9aa05d27883cc1391248\", element=\"90320c80-7fe0-4fb5-989d-603bd733ef3c\")>,\n",
       " <selenium.webdriver.remote.webelement.WebElement (session=\"c9ac8090b5aa9aa05d27883cc1391248\", element=\"0ec682ba-a3dc-4402-84c4-6a781d825b1a\")>,\n",
       " <selenium.webdriver.remote.webelement.WebElement (session=\"c9ac8090b5aa9aa05d27883cc1391248\", element=\"5a19b02f-1a9a-4b50-abfe-2255e53bc66c\")>,\n",
       " <selenium.webdriver.remote.webelement.WebElement (session=\"c9ac8090b5aa9aa05d27883cc1391248\", element=\"64aa0db9-7de1-4e20-9909-86fdafaca924\")>,\n",
       " <selenium.webdriver.remote.webelement.WebElement (session=\"c9ac8090b5aa9aa05d27883cc1391248\", element=\"6d45ad7e-50c4-420e-b171-f1a2ba18d27e\")>,\n",
       " <selenium.webdriver.remote.webelement.WebElement (session=\"c9ac8090b5aa9aa05d27883cc1391248\", element=\"d0e2d5a5-c638-4e9d-b076-a081ab3dd207\")>,\n",
       " <selenium.webdriver.remote.webelement.WebElement (session=\"c9ac8090b5aa9aa05d27883cc1391248\", element=\"612c9ddb-cd7c-4852-b324-2e7280306a30\")>,\n",
       " <selenium.webdriver.remote.webelement.WebElement (session=\"c9ac8090b5aa9aa05d27883cc1391248\", element=\"dcd6935f-b87a-47d2-a155-5b6cf0424667\")>,\n",
       " <selenium.webdriver.remote.webelement.WebElement (session=\"c9ac8090b5aa9aa05d27883cc1391248\", element=\"edb15ac7-7692-4edd-b241-a19b37e11151\")>,\n",
       " <selenium.webdriver.remote.webelement.WebElement (session=\"c9ac8090b5aa9aa05d27883cc1391248\", element=\"acb8f7d0-e3f3-49b1-94ef-610cca2da159\")>,\n",
       " <selenium.webdriver.remote.webelement.WebElement (session=\"c9ac8090b5aa9aa05d27883cc1391248\", element=\"df8b80ff-7815-4577-9ccc-c63a731994b5\")>,\n",
       " <selenium.webdriver.remote.webelement.WebElement (session=\"c9ac8090b5aa9aa05d27883cc1391248\", element=\"f8f2895e-6010-4d65-907b-8a8ed1300314\")>,\n",
       " <selenium.webdriver.remote.webelement.WebElement (session=\"c9ac8090b5aa9aa05d27883cc1391248\", element=\"283534e3-1e31-4c25-a5a4-0bf6f37687f0\")>,\n",
       " <selenium.webdriver.remote.webelement.WebElement (session=\"c9ac8090b5aa9aa05d27883cc1391248\", element=\"2c72d80d-1051-47f4-9c5f-fc0a46b3081f\")>,\n",
       " <selenium.webdriver.remote.webelement.WebElement (session=\"c9ac8090b5aa9aa05d27883cc1391248\", element=\"4ef21c9d-062e-48c1-8935-db15080998dc\")>,\n",
       " <selenium.webdriver.remote.webelement.WebElement (session=\"c9ac8090b5aa9aa05d27883cc1391248\", element=\"9410e04d-122c-46fe-bec0-d2fff2ba15b1\")>,\n",
       " <selenium.webdriver.remote.webelement.WebElement (session=\"c9ac8090b5aa9aa05d27883cc1391248\", element=\"625acc45-f8d2-4607-9395-247072a2013b\")>,\n",
       " <selenium.webdriver.remote.webelement.WebElement (session=\"c9ac8090b5aa9aa05d27883cc1391248\", element=\"e62edd8f-15ec-4781-8973-2ea1038bcd2b\")>,\n",
       " <selenium.webdriver.remote.webelement.WebElement (session=\"c9ac8090b5aa9aa05d27883cc1391248\", element=\"fa3f73ad-6a3d-4a9c-b3e6-6f2ae77a5118\")>,\n",
       " <selenium.webdriver.remote.webelement.WebElement (session=\"c9ac8090b5aa9aa05d27883cc1391248\", element=\"8e72a00e-79b2-42cf-a0cc-8590011d585b\")>,\n",
       " <selenium.webdriver.remote.webelement.WebElement (session=\"c9ac8090b5aa9aa05d27883cc1391248\", element=\"0f11d549-23e3-4db9-a419-f4c01e87d3ee\")>,\n",
       " <selenium.webdriver.remote.webelement.WebElement (session=\"c9ac8090b5aa9aa05d27883cc1391248\", element=\"ba93c0eb-4d9c-4eb8-b04c-0b0473cf87e3\")>,\n",
       " <selenium.webdriver.remote.webelement.WebElement (session=\"c9ac8090b5aa9aa05d27883cc1391248\", element=\"15503004-e8cc-4773-9d99-768c7db21c21\")>,\n",
       " <selenium.webdriver.remote.webelement.WebElement (session=\"c9ac8090b5aa9aa05d27883cc1391248\", element=\"92e19e4d-5807-4399-bd28-ca13125f6bb3\")>,\n",
       " <selenium.webdriver.remote.webelement.WebElement (session=\"c9ac8090b5aa9aa05d27883cc1391248\", element=\"45d66e94-33fe-4cc8-925d-52692ae8059f\")>,\n",
       " <selenium.webdriver.remote.webelement.WebElement (session=\"c9ac8090b5aa9aa05d27883cc1391248\", element=\"295eb506-5bcf-4391-aa11-8a343f45af23\")>,\n",
       " <selenium.webdriver.remote.webelement.WebElement (session=\"c9ac8090b5aa9aa05d27883cc1391248\", element=\"222cb1b7-59d3-4028-9a6d-947517a9e23a\")>,\n",
       " <selenium.webdriver.remote.webelement.WebElement (session=\"c9ac8090b5aa9aa05d27883cc1391248\", element=\"65ddc790-76ff-4ee4-9368-63f0a172abe7\")>,\n",
       " <selenium.webdriver.remote.webelement.WebElement (session=\"c9ac8090b5aa9aa05d27883cc1391248\", element=\"79a5b211-d7f4-4bfb-92ab-31969f6160fd\")>,\n",
       " <selenium.webdriver.remote.webelement.WebElement (session=\"c9ac8090b5aa9aa05d27883cc1391248\", element=\"4b4ca1cd-0e9d-4ad8-a5dc-b219a23c6635\")>,\n",
       " <selenium.webdriver.remote.webelement.WebElement (session=\"c9ac8090b5aa9aa05d27883cc1391248\", element=\"0178c336-00e3-4229-a162-d017a7758d2d\")>,\n",
       " <selenium.webdriver.remote.webelement.WebElement (session=\"c9ac8090b5aa9aa05d27883cc1391248\", element=\"13bce077-7ca8-4dcc-9463-e80709adb59d\")>,\n",
       " <selenium.webdriver.remote.webelement.WebElement (session=\"c9ac8090b5aa9aa05d27883cc1391248\", element=\"85e6d35f-69fe-40bc-8345-8845c5177d15\")>,\n",
       " <selenium.webdriver.remote.webelement.WebElement (session=\"c9ac8090b5aa9aa05d27883cc1391248\", element=\"f788c038-1177-4c0e-8e5b-1d46a38143fd\")>,\n",
       " <selenium.webdriver.remote.webelement.WebElement (session=\"c9ac8090b5aa9aa05d27883cc1391248\", element=\"e0ea58ce-5eee-485d-875a-620867ee4f8f\")>,\n",
       " <selenium.webdriver.remote.webelement.WebElement (session=\"c9ac8090b5aa9aa05d27883cc1391248\", element=\"69e8b725-a0eb-4602-95ae-1e2d59bd56ab\")>,\n",
       " <selenium.webdriver.remote.webelement.WebElement (session=\"c9ac8090b5aa9aa05d27883cc1391248\", element=\"72dbbffe-2bfe-4302-953a-9d5534d4d4a2\")>,\n",
       " <selenium.webdriver.remote.webelement.WebElement (session=\"c9ac8090b5aa9aa05d27883cc1391248\", element=\"c82ad2a9-816b-422f-86e5-0202f4a6c6b6\")>,\n",
       " <selenium.webdriver.remote.webelement.WebElement (session=\"c9ac8090b5aa9aa05d27883cc1391248\", element=\"ddea6397-6491-49a5-9546-9fd8f43de734\")>,\n",
       " <selenium.webdriver.remote.webelement.WebElement (session=\"c9ac8090b5aa9aa05d27883cc1391248\", element=\"cc8eb8d8-75e0-461b-89b3-c23a704a996f\")>,\n",
       " <selenium.webdriver.remote.webelement.WebElement (session=\"c9ac8090b5aa9aa05d27883cc1391248\", element=\"fc3688fb-c5d2-4f78-be3f-8c41fd9200e4\")>,\n",
       " <selenium.webdriver.remote.webelement.WebElement (session=\"c9ac8090b5aa9aa05d27883cc1391248\", element=\"462abfc6-5e97-4e07-a505-a669fc16dd92\")>,\n",
       " <selenium.webdriver.remote.webelement.WebElement (session=\"c9ac8090b5aa9aa05d27883cc1391248\", element=\"31343340-a5f3-49e6-801d-162a3e3b4045\")>,\n",
       " <selenium.webdriver.remote.webelement.WebElement (session=\"c9ac8090b5aa9aa05d27883cc1391248\", element=\"9fd41846-105a-4a56-a3e5-6ac9faae5444\")>,\n",
       " <selenium.webdriver.remote.webelement.WebElement (session=\"c9ac8090b5aa9aa05d27883cc1391248\", element=\"a28a820c-584c-4483-bf4e-ba0ccdf88e05\")>,\n",
       " <selenium.webdriver.remote.webelement.WebElement (session=\"c9ac8090b5aa9aa05d27883cc1391248\", element=\"fd9824e9-555c-46e1-b269-3eca680734bb\")>,\n",
       " <selenium.webdriver.remote.webelement.WebElement (session=\"c9ac8090b5aa9aa05d27883cc1391248\", element=\"10b8626b-883d-48dd-9e40-88559d2957b2\")>,\n",
       " <selenium.webdriver.remote.webelement.WebElement (session=\"c9ac8090b5aa9aa05d27883cc1391248\", element=\"11b975b3-119e-4af0-9050-0874d4e6388f\")>]"
      ]
     },
     "execution_count": 18,
     "metadata": {},
     "output_type": "execute_result"
    }
   ],
   "source": [
    "header2=browser.find_elements(\"xpath\",\"//div[@class='td-wrap-in']\")\n",
    "header2\n"
   ]
  },
  {
   "cell_type": "code",
   "execution_count": 19,
   "id": "e98af57a",
   "metadata": {},
   "outputs": [
    {
     "data": {
      "text/plain": [
       "['81.6', '98.6', '94.9', '95', '17.9', '99.8', '93.1', '97.6', '91.1']"
      ]
     },
     "execution_count": 19,
     "metadata": {},
     "output_type": "execute_result"
    }
   ],
   "source": [
    "#PARSING DATA\n",
    "value_head=[]\n",
    "for data in header2:\n",
    "    #get the text data\n",
    "    temp=data.text\n",
    "    value_head.append(temp)\n",
    "value_head=value_head[21:30]\n",
    "value_head\n"
   ]
  },
  {
   "cell_type": "code",
   "execution_count": 20,
   "id": "1a85027f",
   "metadata": {},
   "outputs": [
    {
     "data": {
      "text/plain": [
       "{'Overall Score': '81.6',\n",
       " 'Academic Reputation': '98.6',\n",
       " 'Employer Reputation': '94.9',\n",
       " 'Citations per Faculty': '95',\n",
       " 'Faculty Student Ratio': '17.9',\n",
       " 'International Students Ratio': '99.8',\n",
       " 'International Faculty Ratio': '93.1',\n",
       " 'International Research Network\\nUnweighted': '97.6',\n",
       " 'Employment Outcomes\\nUnweighted': '91.1'}"
      ]
     },
     "execution_count": 20,
     "metadata": {},
     "output_type": "execute_result"
    }
   ],
   "source": [
    "d={}\n",
    "for i in range(len(column_head)):\n",
    "    d[column_head[i]]=value_head[i]\n",
    "d"
   ]
  },
  {
   "cell_type": "code",
   "execution_count": 21,
   "id": "a7e1b8aa",
   "metadata": {},
   "outputs": [
    {
     "data": {
      "text/plain": [
       "'{\"Overall Score\": \"81.6\", \"Academic Reputation\": \"98.6\", \"Employer Reputation\": \"94.9\", \"Citations per Faculty\": \"95\", \"Faculty Student Ratio\": \"17.9\", \"International Students Ratio\": \"99.8\", \"International Faculty Ratio\": \"93.1\", \"International Research Network\\\\nUnweighted\": \"97.6\", \"Employment Outcomes\\\\nUnweighted\": \"91.1\"}'"
      ]
     },
     "execution_count": 21,
     "metadata": {},
     "output_type": "execute_result"
    }
   ],
   "source": [
    "s1=json.dumps(d)\n",
    "s1\n"
   ]
  },
  {
   "cell_type": "code",
   "execution_count": 22,
   "id": "609bb292",
   "metadata": {},
   "outputs": [],
   "source": [
    "with open('The University of Melbourne.json','w') as f:\n",
    "    json.dump(d,f)"
   ]
  },
  {
   "cell_type": "code",
   "execution_count": null,
   "id": "5946dd48",
   "metadata": {},
   "outputs": [],
   "source": []
  }
 ],
 "metadata": {
  "kernelspec": {
   "display_name": "Python 3 (ipykernel)",
   "language": "python",
   "name": "python3"
  },
  "language_info": {
   "codemirror_mode": {
    "name": "ipython",
    "version": 3
   },
   "file_extension": ".py",
   "mimetype": "text/x-python",
   "name": "python",
   "nbconvert_exporter": "python",
   "pygments_lexer": "ipython3",
   "version": "3.9.12"
  }
 },
 "nbformat": 4,
 "nbformat_minor": 5
}
