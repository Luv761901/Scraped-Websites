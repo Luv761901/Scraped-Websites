{
 "cells": [
  {
   "cell_type": "code",
   "execution_count": 1,
   "id": "a36f39f7",
   "metadata": {},
   "outputs": [],
   "source": [
    "from selenium import webdriver\n",
    "from selenium.webdriver.chrome.service import Service\n",
    "import pandas as pd\n",
    "import json"
   ]
  },
  {
   "cell_type": "code",
   "execution_count": 2,
   "id": "27b8ca55",
   "metadata": {},
   "outputs": [],
   "source": [
    "path = Service('C:\\chromedriver.exe')"
   ]
  },
  {
   "cell_type": "code",
   "execution_count": 3,
   "id": "6198c5c8",
   "metadata": {},
   "outputs": [],
   "source": [
    "# set path for the driver\n",
    "browser = webdriver.Chrome(service = path)"
   ]
  },
  {
   "cell_type": "code",
   "execution_count": 4,
   "id": "7c7116fa",
   "metadata": {},
   "outputs": [],
   "source": [
    "url = \"https://www.topuniversities.com/university-rankings/world-university-rankings/2023\""
   ]
  },
  {
   "cell_type": "code",
   "execution_count": 5,
   "id": "bf3069f9",
   "metadata": {},
   "outputs": [],
   "source": [
    "# open the page url ion chrome\n",
    "browser.get(url)"
   ]
  },
  {
   "cell_type": "code",
   "execution_count": 9,
   "id": "11eab171",
   "metadata": {},
   "outputs": [
    {
     "data": {
      "text/plain": [
       "[<selenium.webdriver.remote.webelement.WebElement (session=\"b07a26f79856c67c76482cc8be60bde7\", element=\"579340b2-d31d-467b-a829-b8fa038a2246\")>,\n",
       " <selenium.webdriver.remote.webelement.WebElement (session=\"b07a26f79856c67c76482cc8be60bde7\", element=\"de7716bb-26f0-4f78-a383-e7d7ce1a8e0c\")>,\n",
       " <selenium.webdriver.remote.webelement.WebElement (session=\"b07a26f79856c67c76482cc8be60bde7\", element=\"9136e5f9-8083-4493-b328-286ddb3ab9a2\")>,\n",
       " <selenium.webdriver.remote.webelement.WebElement (session=\"b07a26f79856c67c76482cc8be60bde7\", element=\"d20e84c8-7210-4e4e-9382-0d3e26935276\")>,\n",
       " <selenium.webdriver.remote.webelement.WebElement (session=\"b07a26f79856c67c76482cc8be60bde7\", element=\"38d0b81d-5b9d-4808-bac4-27e609175e94\")>,\n",
       " <selenium.webdriver.remote.webelement.WebElement (session=\"b07a26f79856c67c76482cc8be60bde7\", element=\"19866363-f602-4221-bcfd-8a9bc3bc1828\")>,\n",
       " <selenium.webdriver.remote.webelement.WebElement (session=\"b07a26f79856c67c76482cc8be60bde7\", element=\"7f922165-ea48-405b-839a-4ac457d83a18\")>,\n",
       " <selenium.webdriver.remote.webelement.WebElement (session=\"b07a26f79856c67c76482cc8be60bde7\", element=\"0db3c748-001e-46cc-ba3e-06c94f40c722\")>,\n",
       " <selenium.webdriver.remote.webelement.WebElement (session=\"b07a26f79856c67c76482cc8be60bde7\", element=\"969a6f15-a3ba-4512-8089-b1476f18e509\")>,\n",
       " <selenium.webdriver.remote.webelement.WebElement (session=\"b07a26f79856c67c76482cc8be60bde7\", element=\"e0c5de54-2f4b-4885-9ee9-fa6d8b7c893c\")>,\n",
       " <selenium.webdriver.remote.webelement.WebElement (session=\"b07a26f79856c67c76482cc8be60bde7\", element=\"2eeb36fe-06de-45b2-ac78-8092200a3111\")>,\n",
       " <selenium.webdriver.remote.webelement.WebElement (session=\"b07a26f79856c67c76482cc8be60bde7\", element=\"a3ed14d4-3dcb-4439-ac37-223e73de24eb\")>,\n",
       " <selenium.webdriver.remote.webelement.WebElement (session=\"b07a26f79856c67c76482cc8be60bde7\", element=\"2468fdf7-95e8-4ba1-ba4e-a98e7e812e79\")>,\n",
       " <selenium.webdriver.remote.webelement.WebElement (session=\"b07a26f79856c67c76482cc8be60bde7\", element=\"62d91bd5-cdf8-4458-9e5d-b7ead7cb5b3e\")>,\n",
       " <selenium.webdriver.remote.webelement.WebElement (session=\"b07a26f79856c67c76482cc8be60bde7\", element=\"f8ab23d5-daa7-4c79-8753-7fc86108139c\")>,\n",
       " <selenium.webdriver.remote.webelement.WebElement (session=\"b07a26f79856c67c76482cc8be60bde7\", element=\"32385d37-3381-45fc-9181-a9ff9948d62a\")>,\n",
       " <selenium.webdriver.remote.webelement.WebElement (session=\"b07a26f79856c67c76482cc8be60bde7\", element=\"beef8d81-e68d-4e39-8895-60984b12e149\")>,\n",
       " <selenium.webdriver.remote.webelement.WebElement (session=\"b07a26f79856c67c76482cc8be60bde7\", element=\"827df840-573b-47b0-8bee-c070431e4c3c\")>,\n",
       " <selenium.webdriver.remote.webelement.WebElement (session=\"b07a26f79856c67c76482cc8be60bde7\", element=\"6ac2f1ca-8a2c-47e8-a151-ae193dad17ec\")>,\n",
       " <selenium.webdriver.remote.webelement.WebElement (session=\"b07a26f79856c67c76482cc8be60bde7\", element=\"16e8cb3f-c0fc-4e1d-b60e-2020b3b9d228\")>]"
      ]
     },
     "execution_count": 9,
     "metadata": {},
     "output_type": "execute_result"
    }
   ],
   "source": [
    "l1=browser.find_elements(\"xpath\",\"//div[@class='location ']\")\n",
    "l1"
   ]
  },
  {
   "cell_type": "code",
   "execution_count": 10,
   "id": "d63aac58",
   "metadata": {},
   "outputs": [
    {
     "data": {
      "text/plain": [
       "['Cambridge, United States',\n",
       " 'Cambridge, United Kingdom',\n",
       " 'Stanford, United States',\n",
       " 'Oxford, United Kingdom',\n",
       " 'Cambridge, United States',\n",
       " 'Pasadena, United States',\n",
       " 'London, United Kingdom',\n",
       " 'London, United Kingdom',\n",
       " 'Zürich, Switzerland',\n",
       " 'Chicago, United States']"
      ]
     },
     "execution_count": 10,
     "metadata": {},
     "output_type": "execute_result"
    }
   ],
   "source": [
    "loc=[]\n",
    "for data in l1:\n",
    "    #get the text data\n",
    "    temp=data.text\n",
    "    loc.append(temp)\n",
    "loc=loc[10:]\n",
    "loc\n"
   ]
  },
  {
   "cell_type": "code",
   "execution_count": 11,
   "id": "7ce010f9",
   "metadata": {},
   "outputs": [
    {
     "data": {
      "text/plain": [
       "[<selenium.webdriver.remote.webelement.WebElement (session=\"b07a26f79856c67c76482cc8be60bde7\", element=\"c5648c2b-291a-472a-993e-f773537b40f4\")>,\n",
       " <selenium.webdriver.remote.webelement.WebElement (session=\"b07a26f79856c67c76482cc8be60bde7\", element=\"253d38cb-74a6-450c-96c9-5f6aaf43461a\")>,\n",
       " <selenium.webdriver.remote.webelement.WebElement (session=\"b07a26f79856c67c76482cc8be60bde7\", element=\"3e4450a2-03e3-4b15-9958-981953e618b1\")>,\n",
       " <selenium.webdriver.remote.webelement.WebElement (session=\"b07a26f79856c67c76482cc8be60bde7\", element=\"9010ac92-a019-4f6e-b801-fbe8c53f280c\")>,\n",
       " <selenium.webdriver.remote.webelement.WebElement (session=\"b07a26f79856c67c76482cc8be60bde7\", element=\"7db4df60-5378-496d-8f66-21ad8d644656\")>,\n",
       " <selenium.webdriver.remote.webelement.WebElement (session=\"b07a26f79856c67c76482cc8be60bde7\", element=\"cb8f9d83-c19d-4bec-b2b7-51b4482a1fc7\")>,\n",
       " <selenium.webdriver.remote.webelement.WebElement (session=\"b07a26f79856c67c76482cc8be60bde7\", element=\"d4f72abb-a7fd-42b2-abad-e4b31a07e6db\")>,\n",
       " <selenium.webdriver.remote.webelement.WebElement (session=\"b07a26f79856c67c76482cc8be60bde7\", element=\"b54b51e8-de8c-4958-acdc-dfacf384829f\")>,\n",
       " <selenium.webdriver.remote.webelement.WebElement (session=\"b07a26f79856c67c76482cc8be60bde7\", element=\"1dbde7a2-90dc-4f92-83a6-77da0b0d288e\")>,\n",
       " <selenium.webdriver.remote.webelement.WebElement (session=\"b07a26f79856c67c76482cc8be60bde7\", element=\"fe65935d-1e4a-4e35-b2c4-2cebd5485745\")>]"
      ]
     },
     "execution_count": 11,
     "metadata": {},
     "output_type": "execute_result"
    }
   ],
   "source": [
    "l2=browser.find_elements(\"xpath\",\"//div[@class='_univ-rank ']\")\n",
    "l2\n"
   ]
  },
  {
   "cell_type": "code",
   "execution_count": 12,
   "id": "4936ae2f",
   "metadata": {},
   "outputs": [
    {
     "data": {
      "text/plain": [
       "['1', '2', '3', '4', '5', '=6', '=6', '8', '9', '10']"
      ]
     },
     "execution_count": 12,
     "metadata": {},
     "output_type": "execute_result"
    }
   ],
   "source": [
    "RANK=[]\n",
    "for data in l2:\n",
    "    #get the text data\n",
    "    temp=data.text\n",
    "    RANK.append(temp)\n",
    "RANK"
   ]
  },
  {
   "cell_type": "code",
   "execution_count": 13,
   "id": "520649a3",
   "metadata": {},
   "outputs": [
    {
     "data": {
      "text/plain": [
       "[<selenium.webdriver.remote.webelement.WebElement (session=\"b07a26f79856c67c76482cc8be60bde7\", element=\"fe019f08-87e0-4987-8f09-67ea8bb488fa\")>,\n",
       " <selenium.webdriver.remote.webelement.WebElement (session=\"b07a26f79856c67c76482cc8be60bde7\", element=\"446354ed-edda-4149-8f34-19dee9afbb8d\")>,\n",
       " <selenium.webdriver.remote.webelement.WebElement (session=\"b07a26f79856c67c76482cc8be60bde7\", element=\"eae3e821-5f5d-447c-bfef-57faaf538273\")>,\n",
       " <selenium.webdriver.remote.webelement.WebElement (session=\"b07a26f79856c67c76482cc8be60bde7\", element=\"3d90352e-e492-4497-81ed-66ebd4e8dea9\")>,\n",
       " <selenium.webdriver.remote.webelement.WebElement (session=\"b07a26f79856c67c76482cc8be60bde7\", element=\"348fdda7-650c-4b9e-a34f-6e0f87a7abf3\")>,\n",
       " <selenium.webdriver.remote.webelement.WebElement (session=\"b07a26f79856c67c76482cc8be60bde7\", element=\"62312426-ac72-455a-b52a-8d0cc9cdef6f\")>,\n",
       " <selenium.webdriver.remote.webelement.WebElement (session=\"b07a26f79856c67c76482cc8be60bde7\", element=\"7e3e51cb-4324-480d-9ec0-9298e6ea8c38\")>,\n",
       " <selenium.webdriver.remote.webelement.WebElement (session=\"b07a26f79856c67c76482cc8be60bde7\", element=\"8db123b8-27c7-4d64-9e3b-e2e0e9527d6f\")>,\n",
       " <selenium.webdriver.remote.webelement.WebElement (session=\"b07a26f79856c67c76482cc8be60bde7\", element=\"2bbbf755-a135-45bc-aaf3-dd7652365a2d\")>]"
      ]
     },
     "execution_count": 13,
     "metadata": {},
     "output_type": "execute_result"
    }
   ],
   "source": [
    "# GET EACH COLLEGE SPECIFICATION HEADERS\n",
    "header=browser.find_elements(\"xpath\",\"//div[@class='_click-function_ind']\")\n",
    "header"
   ]
  },
  {
   "cell_type": "code",
   "execution_count": 14,
   "id": "eb7f3717",
   "metadata": {},
   "outputs": [
    {
     "data": {
      "text/plain": [
       "['Overall Score',\n",
       " 'Academic Reputation',\n",
       " 'Employer Reputation',\n",
       " 'Citations per Faculty',\n",
       " 'Faculty Student Ratio',\n",
       " 'International Students Ratio',\n",
       " 'International Faculty Ratio',\n",
       " 'International Research Network\\nUnweighted',\n",
       " 'Employment Outcomes\\nUnweighted']"
      ]
     },
     "execution_count": 14,
     "metadata": {},
     "output_type": "execute_result"
    }
   ],
   "source": [
    "#PARSING DATA\n",
    "column_head=[]\n",
    "for data in header:\n",
    "    #get the text data\n",
    "    temp=data.text\n",
    "    column_head.append(temp)\n",
    "column_head"
   ]
  },
  {
   "cell_type": "code",
   "execution_count": 15,
   "id": "9f1dfeca",
   "metadata": {},
   "outputs": [
    {
     "data": {
      "text/plain": [
       "[<selenium.webdriver.remote.webelement.WebElement (session=\"b07a26f79856c67c76482cc8be60bde7\", element=\"93fbf1e9-b619-4b5e-a368-ed66552b5913\")>,\n",
       " <selenium.webdriver.remote.webelement.WebElement (session=\"b07a26f79856c67c76482cc8be60bde7\", element=\"19d6faf8-c053-49f8-bd90-c8bf489cb746\")>,\n",
       " <selenium.webdriver.remote.webelement.WebElement (session=\"b07a26f79856c67c76482cc8be60bde7\", element=\"69157eb3-08ad-4f9d-b307-dc1c33c68cd0\")>,\n",
       " <selenium.webdriver.remote.webelement.WebElement (session=\"b07a26f79856c67c76482cc8be60bde7\", element=\"ff86ee3e-9ca2-4c4c-829c-75749d099b9b\")>,\n",
       " <selenium.webdriver.remote.webelement.WebElement (session=\"b07a26f79856c67c76482cc8be60bde7\", element=\"5acf429b-6414-4f28-a13b-73fe333242dc\")>,\n",
       " <selenium.webdriver.remote.webelement.WebElement (session=\"b07a26f79856c67c76482cc8be60bde7\", element=\"401c8966-4b3c-4a66-a8f8-78d71a5cac70\")>,\n",
       " <selenium.webdriver.remote.webelement.WebElement (session=\"b07a26f79856c67c76482cc8be60bde7\", element=\"8448f12c-3672-4cb0-9385-3b2b064749f8\")>,\n",
       " <selenium.webdriver.remote.webelement.WebElement (session=\"b07a26f79856c67c76482cc8be60bde7\", element=\"1929936e-e5ad-46dd-972b-13de1364e407\")>,\n",
       " <selenium.webdriver.remote.webelement.WebElement (session=\"b07a26f79856c67c76482cc8be60bde7\", element=\"18ff6d54-4532-4cf5-80ed-e29885ee4761\")>,\n",
       " <selenium.webdriver.remote.webelement.WebElement (session=\"b07a26f79856c67c76482cc8be60bde7\", element=\"27543558-2df8-40c0-8a69-adb2e955ccb2\")>,\n",
       " <selenium.webdriver.remote.webelement.WebElement (session=\"b07a26f79856c67c76482cc8be60bde7\", element=\"df6b8db1-bfbe-42f8-9c65-0fdce6324084\")>,\n",
       " <selenium.webdriver.remote.webelement.WebElement (session=\"b07a26f79856c67c76482cc8be60bde7\", element=\"d7c6619b-f6c6-46e9-a1f6-119aa15f6c8d\")>,\n",
       " <selenium.webdriver.remote.webelement.WebElement (session=\"b07a26f79856c67c76482cc8be60bde7\", element=\"c92260d6-c20c-4f8f-8c38-f9914860c75d\")>,\n",
       " <selenium.webdriver.remote.webelement.WebElement (session=\"b07a26f79856c67c76482cc8be60bde7\", element=\"d36983fb-2862-4c75-a8ae-adaba329e94d\")>,\n",
       " <selenium.webdriver.remote.webelement.WebElement (session=\"b07a26f79856c67c76482cc8be60bde7\", element=\"73e0f1b1-a04b-4ea3-9c4c-c49aeab5edbd\")>,\n",
       " <selenium.webdriver.remote.webelement.WebElement (session=\"b07a26f79856c67c76482cc8be60bde7\", element=\"a0ec6e37-8c24-466d-8c23-2327084fc69f\")>,\n",
       " <selenium.webdriver.remote.webelement.WebElement (session=\"b07a26f79856c67c76482cc8be60bde7\", element=\"ab42e3b6-c27d-4c4c-96d9-810174ffaa3b\")>,\n",
       " <selenium.webdriver.remote.webelement.WebElement (session=\"b07a26f79856c67c76482cc8be60bde7\", element=\"bce0bdce-b17d-4eef-b701-c45f0445c49c\")>,\n",
       " <selenium.webdriver.remote.webelement.WebElement (session=\"b07a26f79856c67c76482cc8be60bde7\", element=\"1a5147d4-ac4e-4e22-aba6-460e29dddb8a\")>,\n",
       " <selenium.webdriver.remote.webelement.WebElement (session=\"b07a26f79856c67c76482cc8be60bde7\", element=\"40cdd523-b6de-4265-9e6d-5cf0a1d22ff4\")>,\n",
       " <selenium.webdriver.remote.webelement.WebElement (session=\"b07a26f79856c67c76482cc8be60bde7\", element=\"2fafddf5-dc57-41c8-92c5-abf8db82bda8\")>,\n",
       " <selenium.webdriver.remote.webelement.WebElement (session=\"b07a26f79856c67c76482cc8be60bde7\", element=\"044377d7-2bbf-4c58-a37b-e14ef67630eb\")>,\n",
       " <selenium.webdriver.remote.webelement.WebElement (session=\"b07a26f79856c67c76482cc8be60bde7\", element=\"5210e4fb-2b89-44b0-9d58-b7227b981475\")>,\n",
       " <selenium.webdriver.remote.webelement.WebElement (session=\"b07a26f79856c67c76482cc8be60bde7\", element=\"ad590fee-ea55-449a-a226-d194114b0293\")>,\n",
       " <selenium.webdriver.remote.webelement.WebElement (session=\"b07a26f79856c67c76482cc8be60bde7\", element=\"cccef999-b27f-4341-8080-46f1a8adec02\")>,\n",
       " <selenium.webdriver.remote.webelement.WebElement (session=\"b07a26f79856c67c76482cc8be60bde7\", element=\"28dd6014-b754-4eb0-85d3-75e3e29d55dd\")>,\n",
       " <selenium.webdriver.remote.webelement.WebElement (session=\"b07a26f79856c67c76482cc8be60bde7\", element=\"d576993c-abad-4c0a-a0c8-ef87c6bff4e1\")>,\n",
       " <selenium.webdriver.remote.webelement.WebElement (session=\"b07a26f79856c67c76482cc8be60bde7\", element=\"ca3245c9-cc38-4777-b5cd-34c43f2b9fbc\")>,\n",
       " <selenium.webdriver.remote.webelement.WebElement (session=\"b07a26f79856c67c76482cc8be60bde7\", element=\"dd174cd0-cc06-4996-9b3b-529cd5054153\")>,\n",
       " <selenium.webdriver.remote.webelement.WebElement (session=\"b07a26f79856c67c76482cc8be60bde7\", element=\"6037fb13-222c-431c-85eb-726f44e807cb\")>,\n",
       " <selenium.webdriver.remote.webelement.WebElement (session=\"b07a26f79856c67c76482cc8be60bde7\", element=\"909331c3-0025-48f4-b4a4-3da7afa7c4df\")>,\n",
       " <selenium.webdriver.remote.webelement.WebElement (session=\"b07a26f79856c67c76482cc8be60bde7\", element=\"a33ebe08-33fa-4b7f-863c-6d9b90635790\")>,\n",
       " <selenium.webdriver.remote.webelement.WebElement (session=\"b07a26f79856c67c76482cc8be60bde7\", element=\"916d065f-8d52-4f2b-aa51-1f7cd61d0ce6\")>,\n",
       " <selenium.webdriver.remote.webelement.WebElement (session=\"b07a26f79856c67c76482cc8be60bde7\", element=\"0bfc4090-d20a-45b4-84f4-41b470e988f1\")>,\n",
       " <selenium.webdriver.remote.webelement.WebElement (session=\"b07a26f79856c67c76482cc8be60bde7\", element=\"248bd44e-3414-4c13-a57a-8ba883ba29d1\")>,\n",
       " <selenium.webdriver.remote.webelement.WebElement (session=\"b07a26f79856c67c76482cc8be60bde7\", element=\"9e54fd1a-343d-4e7d-8050-baa697eb472b\")>,\n",
       " <selenium.webdriver.remote.webelement.WebElement (session=\"b07a26f79856c67c76482cc8be60bde7\", element=\"4e4eaa80-ea03-40ca-a366-7ae2951cf524\")>,\n",
       " <selenium.webdriver.remote.webelement.WebElement (session=\"b07a26f79856c67c76482cc8be60bde7\", element=\"5847bffe-c5ad-43b0-89eb-3dffca85b87c\")>,\n",
       " <selenium.webdriver.remote.webelement.WebElement (session=\"b07a26f79856c67c76482cc8be60bde7\", element=\"57971eb5-78c1-46f7-ac94-87c548d039fb\")>,\n",
       " <selenium.webdriver.remote.webelement.WebElement (session=\"b07a26f79856c67c76482cc8be60bde7\", element=\"b726b4ff-17dc-4163-a5bb-7a172bda93f8\")>,\n",
       " <selenium.webdriver.remote.webelement.WebElement (session=\"b07a26f79856c67c76482cc8be60bde7\", element=\"18c0e935-1143-4c28-b307-3038de155a49\")>,\n",
       " <selenium.webdriver.remote.webelement.WebElement (session=\"b07a26f79856c67c76482cc8be60bde7\", element=\"d58da188-7019-4276-856a-2f1bc9292170\")>,\n",
       " <selenium.webdriver.remote.webelement.WebElement (session=\"b07a26f79856c67c76482cc8be60bde7\", element=\"edb35f16-283d-4faf-b19a-4432b0c969e2\")>,\n",
       " <selenium.webdriver.remote.webelement.WebElement (session=\"b07a26f79856c67c76482cc8be60bde7\", element=\"7c23cbbe-22b6-404b-a7a7-74a5995936ba\")>,\n",
       " <selenium.webdriver.remote.webelement.WebElement (session=\"b07a26f79856c67c76482cc8be60bde7\", element=\"239ae32b-a601-4d13-807d-c82b4757861e\")>,\n",
       " <selenium.webdriver.remote.webelement.WebElement (session=\"b07a26f79856c67c76482cc8be60bde7\", element=\"0c3c0159-5f13-4e43-b3d5-f91cfdb88cc3\")>,\n",
       " <selenium.webdriver.remote.webelement.WebElement (session=\"b07a26f79856c67c76482cc8be60bde7\", element=\"ece5bd26-d055-41ae-a22c-9c871d133f8a\")>,\n",
       " <selenium.webdriver.remote.webelement.WebElement (session=\"b07a26f79856c67c76482cc8be60bde7\", element=\"991ce86f-1d61-4b64-a9ee-1fbe05938d4d\")>,\n",
       " <selenium.webdriver.remote.webelement.WebElement (session=\"b07a26f79856c67c76482cc8be60bde7\", element=\"7be07e33-4c99-4a12-b9be-d3ec08271084\")>,\n",
       " <selenium.webdriver.remote.webelement.WebElement (session=\"b07a26f79856c67c76482cc8be60bde7\", element=\"d01a29f0-2800-470d-ab76-e77da332b974\")>,\n",
       " <selenium.webdriver.remote.webelement.WebElement (session=\"b07a26f79856c67c76482cc8be60bde7\", element=\"fc603924-d8bc-4bf9-8c2c-5d52e376c65b\")>,\n",
       " <selenium.webdriver.remote.webelement.WebElement (session=\"b07a26f79856c67c76482cc8be60bde7\", element=\"84260e5b-bb95-469d-9a65-42227c4074a8\")>,\n",
       " <selenium.webdriver.remote.webelement.WebElement (session=\"b07a26f79856c67c76482cc8be60bde7\", element=\"aa19dd55-515f-4dcc-a6c9-37261012b1f4\")>,\n",
       " <selenium.webdriver.remote.webelement.WebElement (session=\"b07a26f79856c67c76482cc8be60bde7\", element=\"df5f6be9-e752-40bc-a6b7-6e0283cfa48b\")>,\n",
       " <selenium.webdriver.remote.webelement.WebElement (session=\"b07a26f79856c67c76482cc8be60bde7\", element=\"985ab298-e99c-4621-aced-b74f54750f64\")>,\n",
       " <selenium.webdriver.remote.webelement.WebElement (session=\"b07a26f79856c67c76482cc8be60bde7\", element=\"47ab24a6-ed77-4771-9f34-4c4f424bac1a\")>,\n",
       " <selenium.webdriver.remote.webelement.WebElement (session=\"b07a26f79856c67c76482cc8be60bde7\", element=\"9b2d9da6-8bb6-46f3-9ab7-9c1bc113f968\")>,\n",
       " <selenium.webdriver.remote.webelement.WebElement (session=\"b07a26f79856c67c76482cc8be60bde7\", element=\"6d88d6ef-cdfc-4c78-9fac-1df0212bf209\")>,\n",
       " <selenium.webdriver.remote.webelement.WebElement (session=\"b07a26f79856c67c76482cc8be60bde7\", element=\"f59634f1-7f35-45e4-9fe4-e9fe39791ed7\")>,\n",
       " <selenium.webdriver.remote.webelement.WebElement (session=\"b07a26f79856c67c76482cc8be60bde7\", element=\"55b91305-ebde-4520-8e9b-02fd4c41b5ba\")>,\n",
       " <selenium.webdriver.remote.webelement.WebElement (session=\"b07a26f79856c67c76482cc8be60bde7\", element=\"3ef47a85-7a37-46d2-98f7-bf041cbeb2c4\")>,\n",
       " <selenium.webdriver.remote.webelement.WebElement (session=\"b07a26f79856c67c76482cc8be60bde7\", element=\"ff44314a-2a22-460e-b458-d5e810ef1a71\")>,\n",
       " <selenium.webdriver.remote.webelement.WebElement (session=\"b07a26f79856c67c76482cc8be60bde7\", element=\"c235520f-4cb6-4c2e-ba20-52075f7e9cc6\")>,\n",
       " <selenium.webdriver.remote.webelement.WebElement (session=\"b07a26f79856c67c76482cc8be60bde7\", element=\"85ff1798-d97b-46a0-af61-33b7d5672297\")>,\n",
       " <selenium.webdriver.remote.webelement.WebElement (session=\"b07a26f79856c67c76482cc8be60bde7\", element=\"ecc0c664-a4ff-4237-847c-43857f2900d9\")>,\n",
       " <selenium.webdriver.remote.webelement.WebElement (session=\"b07a26f79856c67c76482cc8be60bde7\", element=\"9d38b70d-dcae-413f-92c8-d3883f3cc05a\")>,\n",
       " <selenium.webdriver.remote.webelement.WebElement (session=\"b07a26f79856c67c76482cc8be60bde7\", element=\"8fd1eeb3-e5ff-44d8-a6e8-f8988f5f0de2\")>,\n",
       " <selenium.webdriver.remote.webelement.WebElement (session=\"b07a26f79856c67c76482cc8be60bde7\", element=\"bd701ea1-d7f8-4b2f-b176-4a275e1658d7\")>,\n",
       " <selenium.webdriver.remote.webelement.WebElement (session=\"b07a26f79856c67c76482cc8be60bde7\", element=\"08ec94ce-3745-45a1-94a6-652c1108068a\")>,\n",
       " <selenium.webdriver.remote.webelement.WebElement (session=\"b07a26f79856c67c76482cc8be60bde7\", element=\"54f332ba-fd62-40a9-9e98-d3e7e959112a\")>,\n",
       " <selenium.webdriver.remote.webelement.WebElement (session=\"b07a26f79856c67c76482cc8be60bde7\", element=\"b2bb8d1a-7866-4005-bd83-5b9b91b62fc9\")>,\n",
       " <selenium.webdriver.remote.webelement.WebElement (session=\"b07a26f79856c67c76482cc8be60bde7\", element=\"dcc48cec-e410-4a3e-ba31-82122ca8d86b\")>,\n",
       " <selenium.webdriver.remote.webelement.WebElement (session=\"b07a26f79856c67c76482cc8be60bde7\", element=\"33da2bf4-3bfc-4eaa-8c7c-c5c2a692a0a0\")>,\n",
       " <selenium.webdriver.remote.webelement.WebElement (session=\"b07a26f79856c67c76482cc8be60bde7\", element=\"359c6082-fed9-4aca-a9eb-03d30c6bf416\")>,\n",
       " <selenium.webdriver.remote.webelement.WebElement (session=\"b07a26f79856c67c76482cc8be60bde7\", element=\"f59c8a74-c763-43c2-af8d-badef4ef9279\")>,\n",
       " <selenium.webdriver.remote.webelement.WebElement (session=\"b07a26f79856c67c76482cc8be60bde7\", element=\"07b5883a-0949-4c4e-acca-53d42fa2d5c6\")>,\n",
       " <selenium.webdriver.remote.webelement.WebElement (session=\"b07a26f79856c67c76482cc8be60bde7\", element=\"700c2a65-5f54-45d3-8e32-7b0ac7c5f02b\")>,\n",
       " <selenium.webdriver.remote.webelement.WebElement (session=\"b07a26f79856c67c76482cc8be60bde7\", element=\"9fa83c87-6f63-4dbd-8282-ac3a76c9e144\")>,\n",
       " <selenium.webdriver.remote.webelement.WebElement (session=\"b07a26f79856c67c76482cc8be60bde7\", element=\"24189d18-4541-40fa-8ccf-fdd2293bb918\")>,\n",
       " <selenium.webdriver.remote.webelement.WebElement (session=\"b07a26f79856c67c76482cc8be60bde7\", element=\"3cb913e1-22f8-41ee-a5ed-639370addf28\")>,\n",
       " <selenium.webdriver.remote.webelement.WebElement (session=\"b07a26f79856c67c76482cc8be60bde7\", element=\"52df4dc8-416f-4b82-82c9-d9a275b1f168\")>,\n",
       " <selenium.webdriver.remote.webelement.WebElement (session=\"b07a26f79856c67c76482cc8be60bde7\", element=\"ddb65f0f-93bc-4d2e-9f35-d767d9f59eb5\")>,\n",
       " <selenium.webdriver.remote.webelement.WebElement (session=\"b07a26f79856c67c76482cc8be60bde7\", element=\"48cee0c9-dc37-4465-bc33-a70817053f65\")>,\n",
       " <selenium.webdriver.remote.webelement.WebElement (session=\"b07a26f79856c67c76482cc8be60bde7\", element=\"182f5d28-1711-4db4-a877-e0fa7adca4ba\")>,\n",
       " <selenium.webdriver.remote.webelement.WebElement (session=\"b07a26f79856c67c76482cc8be60bde7\", element=\"8156663c-6584-4bf8-9d75-39ecea1e1e93\")>,\n",
       " <selenium.webdriver.remote.webelement.WebElement (session=\"b07a26f79856c67c76482cc8be60bde7\", element=\"3ff2aac0-7268-4986-bcb5-b4d9746a1eb0\")>,\n",
       " <selenium.webdriver.remote.webelement.WebElement (session=\"b07a26f79856c67c76482cc8be60bde7\", element=\"4c5a54b1-e5f4-496d-b442-722a4bf0c238\")>,\n",
       " <selenium.webdriver.remote.webelement.WebElement (session=\"b07a26f79856c67c76482cc8be60bde7\", element=\"9dfa6a81-3bba-4db2-923a-a0449f18f924\")>,\n",
       " <selenium.webdriver.remote.webelement.WebElement (session=\"b07a26f79856c67c76482cc8be60bde7\", element=\"91a99bb3-d8a2-4adb-ba57-d300c2ce0e78\")>,\n",
       " <selenium.webdriver.remote.webelement.WebElement (session=\"b07a26f79856c67c76482cc8be60bde7\", element=\"8ea53c09-b3eb-437c-9a08-503e61837c2c\")>,\n",
       " <selenium.webdriver.remote.webelement.WebElement (session=\"b07a26f79856c67c76482cc8be60bde7\", element=\"06afcabb-0ac5-42e6-8130-c317e26d7256\")>,\n",
       " <selenium.webdriver.remote.webelement.WebElement (session=\"b07a26f79856c67c76482cc8be60bde7\", element=\"54678c7a-93c8-4746-86f4-8af0ab9e984a\")>,\n",
       " <selenium.webdriver.remote.webelement.WebElement (session=\"b07a26f79856c67c76482cc8be60bde7\", element=\"ac796813-76cd-4e4d-91d3-122dbee1bcd1\")>,\n",
       " <selenium.webdriver.remote.webelement.WebElement (session=\"b07a26f79856c67c76482cc8be60bde7\", element=\"5a7d88d6-7c76-4747-af8a-39daafe90a5c\")>,\n",
       " <selenium.webdriver.remote.webelement.WebElement (session=\"b07a26f79856c67c76482cc8be60bde7\", element=\"bea26a14-4751-4226-9672-415d051eb296\")>,\n",
       " <selenium.webdriver.remote.webelement.WebElement (session=\"b07a26f79856c67c76482cc8be60bde7\", element=\"2e528848-4729-4e98-a3bb-e45cf77942f5\")>,\n",
       " <selenium.webdriver.remote.webelement.WebElement (session=\"b07a26f79856c67c76482cc8be60bde7\", element=\"cb586a18-48ac-4c03-a4c2-ff92e95db841\")>,\n",
       " <selenium.webdriver.remote.webelement.WebElement (session=\"b07a26f79856c67c76482cc8be60bde7\", element=\"f1ab4aec-fe76-45cf-9737-aad8d8ae2f0d\")>,\n",
       " <selenium.webdriver.remote.webelement.WebElement (session=\"b07a26f79856c67c76482cc8be60bde7\", element=\"bc2ee5b8-54b0-45cc-b405-86cbc71e7472\")>,\n",
       " <selenium.webdriver.remote.webelement.WebElement (session=\"b07a26f79856c67c76482cc8be60bde7\", element=\"617dafa2-f11d-4977-8f02-0a6ad7400b88\")>]"
      ]
     },
     "execution_count": 15,
     "metadata": {},
     "output_type": "execute_result"
    }
   ],
   "source": [
    "header2=browser.find_elements(\"xpath\",\"//div[@class='td-wrap-in']\")\n",
    "header2"
   ]
  },
  {
   "cell_type": "code",
   "execution_count": 16,
   "id": "2f465509",
   "metadata": {},
   "outputs": [
    {
     "data": {
      "text/plain": [
       "['98.5', '100', '100', '99.9', '100', '60.3', '99.8', '96.3', '100']"
      ]
     },
     "execution_count": 16,
     "metadata": {},
     "output_type": "execute_result"
    }
   ],
   "source": [
    "#PARSING DATA\n",
    "value_head=[]\n",
    "for data in header2:\n",
    "    #get the text data\n",
    "    temp=data.text\n",
    "    value_head.append(temp)\n",
    "value=value_head[21:30]\n",
    "value"
   ]
  },
  {
   "cell_type": "code",
   "execution_count": 17,
   "id": "5b17d653",
   "metadata": {},
   "outputs": [
    {
     "data": {
      "text/plain": [
       "{'Name': 'Stanford University',\n",
       " 'Location': 'Stanford, United States',\n",
       " 'Rank': '3',\n",
       " 'Overall Score': '98.5',\n",
       " 'Academic Reputation': '100',\n",
       " 'Employer Reputation': '100',\n",
       " 'Citations per Faculty': '99.9',\n",
       " 'Faculty Student Ratio': '100',\n",
       " 'International Students Ratio': '60.3',\n",
       " 'International Faculty Ratio': '99.8',\n",
       " 'International Research Network\\nUnweighted': '96.3',\n",
       " 'Employment Outcomes\\nUnweighted': '100'}"
      ]
     },
     "execution_count": 17,
     "metadata": {},
     "output_type": "execute_result"
    }
   ],
   "source": [
    "d={}\n",
    "d['Name']=value_head[20]\n",
    "d['Location']=loc[2]\n",
    "d['Rank']=RANK[2]\n",
    "for i in range(len(column_head)):\n",
    "    d[column_head[i]]=value[i]\n",
    "d"
   ]
  },
  {
   "cell_type": "code",
   "execution_count": 18,
   "id": "1a167d44",
   "metadata": {},
   "outputs": [
    {
     "data": {
      "text/plain": [
       "'{\"Name\": \"Stanford University\", \"Location\": \"Stanford, United States\", \"Rank\": \"3\", \"Overall Score\": \"98.5\", \"Academic Reputation\": \"100\", \"Employer Reputation\": \"100\", \"Citations per Faculty\": \"99.9\", \"Faculty Student Ratio\": \"100\", \"International Students Ratio\": \"60.3\", \"International Faculty Ratio\": \"99.8\", \"International Research Network\\\\nUnweighted\": \"96.3\", \"Employment Outcomes\\\\nUnweighted\": \"100\"}'"
      ]
     },
     "execution_count": 18,
     "metadata": {},
     "output_type": "execute_result"
    }
   ],
   "source": [
    "s1=json.dumps(d)\n",
    "s1"
   ]
  },
  {
   "cell_type": "code",
   "execution_count": 19,
   "id": "d95b5f64",
   "metadata": {},
   "outputs": [],
   "source": [
    "with open('Stanford University.json','w') as f:\n",
    "    json.dump(d,f)\n"
   ]
  },
  {
   "cell_type": "code",
   "execution_count": null,
   "id": "a92e9b03",
   "metadata": {},
   "outputs": [],
   "source": []
  }
 ],
 "metadata": {
  "kernelspec": {
   "display_name": "Python 3 (ipykernel)",
   "language": "python",
   "name": "python3"
  },
  "language_info": {
   "codemirror_mode": {
    "name": "ipython",
    "version": 3
   },
   "file_extension": ".py",
   "mimetype": "text/x-python",
   "name": "python",
   "nbconvert_exporter": "python",
   "pygments_lexer": "ipython3",
   "version": "3.9.12"
  }
 },
 "nbformat": 4,
 "nbformat_minor": 5
}
