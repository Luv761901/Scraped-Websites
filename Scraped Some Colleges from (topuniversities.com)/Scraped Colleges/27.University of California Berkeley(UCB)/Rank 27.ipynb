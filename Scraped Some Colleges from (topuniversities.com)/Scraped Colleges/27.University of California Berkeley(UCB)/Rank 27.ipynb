{
 "cells": [
  {
   "cell_type": "code",
   "execution_count": 1,
   "id": "359e26d4",
   "metadata": {},
   "outputs": [],
   "source": [
    "from selenium import webdriver\n",
    "from selenium.webdriver.chrome.service import Service\n",
    "import pandas as pd\n",
    "import json"
   ]
  },
  {
   "cell_type": "code",
   "execution_count": 2,
   "id": "1e0f4638",
   "metadata": {},
   "outputs": [],
   "source": [
    "path = Service('C:\\chromedriver.exe')"
   ]
  },
  {
   "cell_type": "code",
   "execution_count": 3,
   "id": "bd95d759",
   "metadata": {},
   "outputs": [],
   "source": [
    "# set path for the driver\n",
    "browser = webdriver.Chrome(service = path)"
   ]
  },
  {
   "cell_type": "code",
   "execution_count": 4,
   "id": "0f3cf8a6",
   "metadata": {},
   "outputs": [],
   "source": [
    "url = \"https://www.topuniversities.com/university-rankings/world-university-rankings/2023\""
   ]
  },
  {
   "cell_type": "code",
   "execution_count": 5,
   "id": "a511d3f7",
   "metadata": {},
   "outputs": [],
   "source": [
    "# open the page url ion chrome\n",
    "browser.get(url)"
   ]
  },
  {
   "cell_type": "code",
   "execution_count": 6,
   "id": "d52e6ce3",
   "metadata": {},
   "outputs": [
    {
     "data": {
      "text/plain": [
       "[<selenium.webdriver.remote.webelement.WebElement (session=\"a6bf5a1ac1cf9f8917116a9cf1e4ac7a\", element=\"887fdf47-88a0-4aa7-a6c2-5025b7f31173\")>,\n",
       " <selenium.webdriver.remote.webelement.WebElement (session=\"a6bf5a1ac1cf9f8917116a9cf1e4ac7a\", element=\"b1b9def1-fe1b-417e-bfd4-c2c78a80a108\")>,\n",
       " <selenium.webdriver.remote.webelement.WebElement (session=\"a6bf5a1ac1cf9f8917116a9cf1e4ac7a\", element=\"2a015551-6224-40ec-b01f-8807bd818cf1\")>,\n",
       " <selenium.webdriver.remote.webelement.WebElement (session=\"a6bf5a1ac1cf9f8917116a9cf1e4ac7a\", element=\"4ec4c883-a640-4a52-a5a9-3ec4c0c20dd2\")>,\n",
       " <selenium.webdriver.remote.webelement.WebElement (session=\"a6bf5a1ac1cf9f8917116a9cf1e4ac7a\", element=\"d152c88e-fe8e-4041-8e5c-198dac5f1ae6\")>,\n",
       " <selenium.webdriver.remote.webelement.WebElement (session=\"a6bf5a1ac1cf9f8917116a9cf1e4ac7a\", element=\"c73d2978-ff2e-455b-a1c4-372a3e116e58\")>,\n",
       " <selenium.webdriver.remote.webelement.WebElement (session=\"a6bf5a1ac1cf9f8917116a9cf1e4ac7a\", element=\"51a3b89c-a9dc-411d-9443-0700104ec5ed\")>,\n",
       " <selenium.webdriver.remote.webelement.WebElement (session=\"a6bf5a1ac1cf9f8917116a9cf1e4ac7a\", element=\"a2f311dd-d78e-4e1e-86e3-f89decb60337\")>,\n",
       " <selenium.webdriver.remote.webelement.WebElement (session=\"a6bf5a1ac1cf9f8917116a9cf1e4ac7a\", element=\"96c68c24-b998-4baa-9f51-0306ed4d6430\")>]"
      ]
     },
     "execution_count": 6,
     "metadata": {},
     "output_type": "execute_result"
    }
   ],
   "source": [
    "# GET EACH COLLEGE SPECIFICATION HEADERS\n",
    "header=browser.find_elements(\"xpath\",\"//div[@class='_click-function_ind']\")\n",
    "header"
   ]
  },
  {
   "cell_type": "code",
   "execution_count": 7,
   "id": "06445618",
   "metadata": {},
   "outputs": [
    {
     "data": {
      "text/plain": [
       "['Overall Score',\n",
       " 'Academic Reputation',\n",
       " 'Employer Reputation',\n",
       " 'Citations per Faculty',\n",
       " 'Faculty Student Ratio',\n",
       " 'International Students Ratio',\n",
       " 'International Faculty Ratio',\n",
       " 'International Research Network\\nUnweighted',\n",
       " 'Employment Outcomes\\nUnweighted']"
      ]
     },
     "execution_count": 7,
     "metadata": {},
     "output_type": "execute_result"
    }
   ],
   "source": [
    "#PARSING DATA\n",
    "column_head=[]\n",
    "for data in header:\n",
    "    #get the text data\n",
    "    temp=data.text\n",
    "    column_head.append(temp)\n",
    "column_head"
   ]
  },
  {
   "cell_type": "code",
   "execution_count": 8,
   "id": "021a72f0",
   "metadata": {},
   "outputs": [
    {
     "data": {
      "text/plain": [
       "[<selenium.webdriver.remote.webelement.WebElement (session=\"a6bf5a1ac1cf9f8917116a9cf1e4ac7a\", element=\"d8907844-89d5-4549-8629-612ec70cff19\")>,\n",
       " <selenium.webdriver.remote.webelement.WebElement (session=\"a6bf5a1ac1cf9f8917116a9cf1e4ac7a\", element=\"a6610142-2fd0-458e-b330-49fdffd4471b\")>,\n",
       " <selenium.webdriver.remote.webelement.WebElement (session=\"a6bf5a1ac1cf9f8917116a9cf1e4ac7a\", element=\"c0bbde66-f826-4803-9963-a67132088bfb\")>,\n",
       " <selenium.webdriver.remote.webelement.WebElement (session=\"a6bf5a1ac1cf9f8917116a9cf1e4ac7a\", element=\"bed133f1-19d9-4546-873f-aaa4c6cb9ad1\")>,\n",
       " <selenium.webdriver.remote.webelement.WebElement (session=\"a6bf5a1ac1cf9f8917116a9cf1e4ac7a\", element=\"f672ebd2-297c-4c2e-9871-6a7a4e39f4de\")>,\n",
       " <selenium.webdriver.remote.webelement.WebElement (session=\"a6bf5a1ac1cf9f8917116a9cf1e4ac7a\", element=\"7a7cb853-f61a-4a58-b49f-7bc73f40544a\")>,\n",
       " <selenium.webdriver.remote.webelement.WebElement (session=\"a6bf5a1ac1cf9f8917116a9cf1e4ac7a\", element=\"822abd96-fbfa-4ac8-aa87-713a4dc4b137\")>,\n",
       " <selenium.webdriver.remote.webelement.WebElement (session=\"a6bf5a1ac1cf9f8917116a9cf1e4ac7a\", element=\"ffab8344-4c04-4ac6-9ff2-0e7cdc7e788c\")>,\n",
       " <selenium.webdriver.remote.webelement.WebElement (session=\"a6bf5a1ac1cf9f8917116a9cf1e4ac7a\", element=\"51d70d14-04a5-4e13-9908-41b34bae5f74\")>,\n",
       " <selenium.webdriver.remote.webelement.WebElement (session=\"a6bf5a1ac1cf9f8917116a9cf1e4ac7a\", element=\"76e2227f-310d-4a02-9ed8-0b7976006de9\")>,\n",
       " <selenium.webdriver.remote.webelement.WebElement (session=\"a6bf5a1ac1cf9f8917116a9cf1e4ac7a\", element=\"5e17c9b5-60b4-4720-9a07-b5d011e8093e\")>,\n",
       " <selenium.webdriver.remote.webelement.WebElement (session=\"a6bf5a1ac1cf9f8917116a9cf1e4ac7a\", element=\"bd8aebb3-a707-4f83-825c-8a33db23187a\")>,\n",
       " <selenium.webdriver.remote.webelement.WebElement (session=\"a6bf5a1ac1cf9f8917116a9cf1e4ac7a\", element=\"7037724d-1e4e-4ec5-8513-e9a6b22f669d\")>,\n",
       " <selenium.webdriver.remote.webelement.WebElement (session=\"a6bf5a1ac1cf9f8917116a9cf1e4ac7a\", element=\"2058d7a6-c5b4-45ba-8f94-62cc54e4fcb6\")>,\n",
       " <selenium.webdriver.remote.webelement.WebElement (session=\"a6bf5a1ac1cf9f8917116a9cf1e4ac7a\", element=\"778ef5f5-a21d-4c67-a2ed-52f231828d20\")>,\n",
       " <selenium.webdriver.remote.webelement.WebElement (session=\"a6bf5a1ac1cf9f8917116a9cf1e4ac7a\", element=\"b27564bb-a77d-40ab-9abc-17b694af4185\")>,\n",
       " <selenium.webdriver.remote.webelement.WebElement (session=\"a6bf5a1ac1cf9f8917116a9cf1e4ac7a\", element=\"6463877f-6296-4714-82d0-13a5cb865e24\")>,\n",
       " <selenium.webdriver.remote.webelement.WebElement (session=\"a6bf5a1ac1cf9f8917116a9cf1e4ac7a\", element=\"1705505d-2318-4f71-a732-a7dd3f8ead38\")>,\n",
       " <selenium.webdriver.remote.webelement.WebElement (session=\"a6bf5a1ac1cf9f8917116a9cf1e4ac7a\", element=\"78d06f19-8887-45ba-992f-87b1d2802a9e\")>,\n",
       " <selenium.webdriver.remote.webelement.WebElement (session=\"a6bf5a1ac1cf9f8917116a9cf1e4ac7a\", element=\"755b5118-a7a7-4acc-be28-2594ba85154c\")>,\n",
       " <selenium.webdriver.remote.webelement.WebElement (session=\"a6bf5a1ac1cf9f8917116a9cf1e4ac7a\", element=\"bd30fb92-1bd1-4937-beac-631fd36c605f\")>,\n",
       " <selenium.webdriver.remote.webelement.WebElement (session=\"a6bf5a1ac1cf9f8917116a9cf1e4ac7a\", element=\"0c142e43-5c2d-4703-89ea-69f897f42a32\")>,\n",
       " <selenium.webdriver.remote.webelement.WebElement (session=\"a6bf5a1ac1cf9f8917116a9cf1e4ac7a\", element=\"a20ec5be-94a5-436c-aba7-d43a4cf1624b\")>,\n",
       " <selenium.webdriver.remote.webelement.WebElement (session=\"a6bf5a1ac1cf9f8917116a9cf1e4ac7a\", element=\"67b35030-cd88-4f2e-ad78-6498c9206ba4\")>,\n",
       " <selenium.webdriver.remote.webelement.WebElement (session=\"a6bf5a1ac1cf9f8917116a9cf1e4ac7a\", element=\"7083df1f-067f-43b4-9169-79f07c2294b4\")>,\n",
       " <selenium.webdriver.remote.webelement.WebElement (session=\"a6bf5a1ac1cf9f8917116a9cf1e4ac7a\", element=\"6848c809-e926-41b6-bb19-37b94fe0f038\")>,\n",
       " <selenium.webdriver.remote.webelement.WebElement (session=\"a6bf5a1ac1cf9f8917116a9cf1e4ac7a\", element=\"c21566c5-89e3-410f-93a0-0ddc4d1dd883\")>,\n",
       " <selenium.webdriver.remote.webelement.WebElement (session=\"a6bf5a1ac1cf9f8917116a9cf1e4ac7a\", element=\"4e6c159d-f56d-4dbd-826d-1226e2d1901f\")>,\n",
       " <selenium.webdriver.remote.webelement.WebElement (session=\"a6bf5a1ac1cf9f8917116a9cf1e4ac7a\", element=\"81493a7c-4504-4455-b599-d6fdcc6e3704\")>,\n",
       " <selenium.webdriver.remote.webelement.WebElement (session=\"a6bf5a1ac1cf9f8917116a9cf1e4ac7a\", element=\"cf370f1b-cb61-451b-ac4e-62e18833f6c0\")>,\n",
       " <selenium.webdriver.remote.webelement.WebElement (session=\"a6bf5a1ac1cf9f8917116a9cf1e4ac7a\", element=\"500fa36a-1e33-421b-8cd5-9e4c01d8eb65\")>,\n",
       " <selenium.webdriver.remote.webelement.WebElement (session=\"a6bf5a1ac1cf9f8917116a9cf1e4ac7a\", element=\"b12af507-09da-4fba-858d-f4cd5834dd9a\")>,\n",
       " <selenium.webdriver.remote.webelement.WebElement (session=\"a6bf5a1ac1cf9f8917116a9cf1e4ac7a\", element=\"af9853c7-301d-48dd-9337-b95b7729707c\")>,\n",
       " <selenium.webdriver.remote.webelement.WebElement (session=\"a6bf5a1ac1cf9f8917116a9cf1e4ac7a\", element=\"d00cbd43-7912-4f59-bb38-ea3eafa43fab\")>,\n",
       " <selenium.webdriver.remote.webelement.WebElement (session=\"a6bf5a1ac1cf9f8917116a9cf1e4ac7a\", element=\"72f62d86-3192-43e2-9800-7981bae312b6\")>,\n",
       " <selenium.webdriver.remote.webelement.WebElement (session=\"a6bf5a1ac1cf9f8917116a9cf1e4ac7a\", element=\"44001bfc-bf6b-4ddd-a6c9-7ba1b71727f1\")>,\n",
       " <selenium.webdriver.remote.webelement.WebElement (session=\"a6bf5a1ac1cf9f8917116a9cf1e4ac7a\", element=\"8fee1ee2-6c9d-45e4-a7bd-2e52b5a002e7\")>,\n",
       " <selenium.webdriver.remote.webelement.WebElement (session=\"a6bf5a1ac1cf9f8917116a9cf1e4ac7a\", element=\"a3a5e79c-4103-434f-9d2e-fbaae7dfe22d\")>,\n",
       " <selenium.webdriver.remote.webelement.WebElement (session=\"a6bf5a1ac1cf9f8917116a9cf1e4ac7a\", element=\"a0aeea22-b961-43f5-a18c-f3650036f79e\")>,\n",
       " <selenium.webdriver.remote.webelement.WebElement (session=\"a6bf5a1ac1cf9f8917116a9cf1e4ac7a\", element=\"c48ac4e1-0f8b-4bea-a646-c5b5f0277662\")>,\n",
       " <selenium.webdriver.remote.webelement.WebElement (session=\"a6bf5a1ac1cf9f8917116a9cf1e4ac7a\", element=\"4f94c724-cd09-4e51-aa7f-5fd4de60c378\")>,\n",
       " <selenium.webdriver.remote.webelement.WebElement (session=\"a6bf5a1ac1cf9f8917116a9cf1e4ac7a\", element=\"21b8c123-eec7-4659-9b69-43154a36f442\")>,\n",
       " <selenium.webdriver.remote.webelement.WebElement (session=\"a6bf5a1ac1cf9f8917116a9cf1e4ac7a\", element=\"43213810-bb6b-4d91-ad04-3f3d164e8a3e\")>,\n",
       " <selenium.webdriver.remote.webelement.WebElement (session=\"a6bf5a1ac1cf9f8917116a9cf1e4ac7a\", element=\"08c928b9-bf4c-4585-accf-e41082b52128\")>,\n",
       " <selenium.webdriver.remote.webelement.WebElement (session=\"a6bf5a1ac1cf9f8917116a9cf1e4ac7a\", element=\"52595b9d-8cc2-4824-bea4-b678cc048cf4\")>,\n",
       " <selenium.webdriver.remote.webelement.WebElement (session=\"a6bf5a1ac1cf9f8917116a9cf1e4ac7a\", element=\"f1a982e0-47d4-43ac-930c-8cc7b05235fd\")>,\n",
       " <selenium.webdriver.remote.webelement.WebElement (session=\"a6bf5a1ac1cf9f8917116a9cf1e4ac7a\", element=\"32b03dec-ae9a-4e5c-a74d-4e37ee021fc5\")>,\n",
       " <selenium.webdriver.remote.webelement.WebElement (session=\"a6bf5a1ac1cf9f8917116a9cf1e4ac7a\", element=\"1944ec2d-29ba-4f49-b5b3-99e8f12e8f4d\")>,\n",
       " <selenium.webdriver.remote.webelement.WebElement (session=\"a6bf5a1ac1cf9f8917116a9cf1e4ac7a\", element=\"521e4c18-5ade-471d-b01a-773ecc9e96fe\")>,\n",
       " <selenium.webdriver.remote.webelement.WebElement (session=\"a6bf5a1ac1cf9f8917116a9cf1e4ac7a\", element=\"3ad0de83-e734-4cef-b428-4de4cc3a1aeb\")>,\n",
       " <selenium.webdriver.remote.webelement.WebElement (session=\"a6bf5a1ac1cf9f8917116a9cf1e4ac7a\", element=\"dfb4b3c4-9828-4fe8-bf8e-605f15a4872e\")>,\n",
       " <selenium.webdriver.remote.webelement.WebElement (session=\"a6bf5a1ac1cf9f8917116a9cf1e4ac7a\", element=\"9336ed34-a783-43e6-987f-d7ef1e26cbee\")>,\n",
       " <selenium.webdriver.remote.webelement.WebElement (session=\"a6bf5a1ac1cf9f8917116a9cf1e4ac7a\", element=\"72208e6e-6736-4b07-a7a4-12306178d987\")>,\n",
       " <selenium.webdriver.remote.webelement.WebElement (session=\"a6bf5a1ac1cf9f8917116a9cf1e4ac7a\", element=\"c27683b2-7a1b-4528-985a-5e0a81311b0a\")>,\n",
       " <selenium.webdriver.remote.webelement.WebElement (session=\"a6bf5a1ac1cf9f8917116a9cf1e4ac7a\", element=\"48fe6db8-2312-440b-8557-42b1e83ef0d8\")>,\n",
       " <selenium.webdriver.remote.webelement.WebElement (session=\"a6bf5a1ac1cf9f8917116a9cf1e4ac7a\", element=\"b6c05c28-9438-4ba8-844d-a04ce251cfe8\")>,\n",
       " <selenium.webdriver.remote.webelement.WebElement (session=\"a6bf5a1ac1cf9f8917116a9cf1e4ac7a\", element=\"56f43e92-3d0c-4e06-b6c5-5022d11b36b9\")>,\n",
       " <selenium.webdriver.remote.webelement.WebElement (session=\"a6bf5a1ac1cf9f8917116a9cf1e4ac7a\", element=\"384f3edc-8767-4df3-8ced-7a2bd5c8f52a\")>,\n",
       " <selenium.webdriver.remote.webelement.WebElement (session=\"a6bf5a1ac1cf9f8917116a9cf1e4ac7a\", element=\"951360d1-8fbe-4251-96a9-267584667ce2\")>,\n",
       " <selenium.webdriver.remote.webelement.WebElement (session=\"a6bf5a1ac1cf9f8917116a9cf1e4ac7a\", element=\"e3594e0d-bd4c-40e0-9b5f-e39e4c1ffc91\")>,\n",
       " <selenium.webdriver.remote.webelement.WebElement (session=\"a6bf5a1ac1cf9f8917116a9cf1e4ac7a\", element=\"1aa749b7-087f-44b3-94b9-5fc4ea92a16e\")>,\n",
       " <selenium.webdriver.remote.webelement.WebElement (session=\"a6bf5a1ac1cf9f8917116a9cf1e4ac7a\", element=\"4deb3fc5-a1bf-4339-9544-8b0eaef8a529\")>,\n",
       " <selenium.webdriver.remote.webelement.WebElement (session=\"a6bf5a1ac1cf9f8917116a9cf1e4ac7a\", element=\"7d23b828-1fd6-49a4-a683-6065a5e95ff7\")>,\n",
       " <selenium.webdriver.remote.webelement.WebElement (session=\"a6bf5a1ac1cf9f8917116a9cf1e4ac7a\", element=\"ef2e106d-850e-47cf-9ed6-92c41a4c0b56\")>,\n",
       " <selenium.webdriver.remote.webelement.WebElement (session=\"a6bf5a1ac1cf9f8917116a9cf1e4ac7a\", element=\"86625fc9-d1f2-4289-93fa-da1b7fa5bf7e\")>,\n",
       " <selenium.webdriver.remote.webelement.WebElement (session=\"a6bf5a1ac1cf9f8917116a9cf1e4ac7a\", element=\"fb812ed2-aeef-49c2-ae1b-7bd293dce21c\")>,\n",
       " <selenium.webdriver.remote.webelement.WebElement (session=\"a6bf5a1ac1cf9f8917116a9cf1e4ac7a\", element=\"9eaf8c31-72c0-4045-b684-21e452e86632\")>,\n",
       " <selenium.webdriver.remote.webelement.WebElement (session=\"a6bf5a1ac1cf9f8917116a9cf1e4ac7a\", element=\"c2f8a719-660e-47ce-afc5-8eb33e118c77\")>,\n",
       " <selenium.webdriver.remote.webelement.WebElement (session=\"a6bf5a1ac1cf9f8917116a9cf1e4ac7a\", element=\"ef90aaad-e974-4e01-b580-c67a031d5ed5\")>,\n",
       " <selenium.webdriver.remote.webelement.WebElement (session=\"a6bf5a1ac1cf9f8917116a9cf1e4ac7a\", element=\"2e1ffcd7-00a4-4043-a4db-9cc3b0f16a5f\")>,\n",
       " <selenium.webdriver.remote.webelement.WebElement (session=\"a6bf5a1ac1cf9f8917116a9cf1e4ac7a\", element=\"fbc143fc-3be1-4f79-855b-42141860f654\")>,\n",
       " <selenium.webdriver.remote.webelement.WebElement (session=\"a6bf5a1ac1cf9f8917116a9cf1e4ac7a\", element=\"a3a365bb-1549-4d07-a156-62312e0c6f36\")>,\n",
       " <selenium.webdriver.remote.webelement.WebElement (session=\"a6bf5a1ac1cf9f8917116a9cf1e4ac7a\", element=\"3c7c6af2-e054-4eb4-8dac-49ae9d2030f7\")>,\n",
       " <selenium.webdriver.remote.webelement.WebElement (session=\"a6bf5a1ac1cf9f8917116a9cf1e4ac7a\", element=\"e2801cee-35de-47e0-98b8-5adf4805d8e4\")>,\n",
       " <selenium.webdriver.remote.webelement.WebElement (session=\"a6bf5a1ac1cf9f8917116a9cf1e4ac7a\", element=\"fb7b3102-e31b-4de2-aea0-c589fe329617\")>,\n",
       " <selenium.webdriver.remote.webelement.WebElement (session=\"a6bf5a1ac1cf9f8917116a9cf1e4ac7a\", element=\"7b83ac42-5178-42cd-836b-e115d7a41e9f\")>,\n",
       " <selenium.webdriver.remote.webelement.WebElement (session=\"a6bf5a1ac1cf9f8917116a9cf1e4ac7a\", element=\"64a01fd3-8691-4f20-a8a9-848f287d5cc1\")>,\n",
       " <selenium.webdriver.remote.webelement.WebElement (session=\"a6bf5a1ac1cf9f8917116a9cf1e4ac7a\", element=\"21184bb1-dbe5-40ea-b7b4-6e0d7cce3e57\")>,\n",
       " <selenium.webdriver.remote.webelement.WebElement (session=\"a6bf5a1ac1cf9f8917116a9cf1e4ac7a\", element=\"6245da10-5c16-4552-b914-545666a194d8\")>,\n",
       " <selenium.webdriver.remote.webelement.WebElement (session=\"a6bf5a1ac1cf9f8917116a9cf1e4ac7a\", element=\"0fcd9ea0-06e2-48a0-8778-6a51ffaed7e2\")>,\n",
       " <selenium.webdriver.remote.webelement.WebElement (session=\"a6bf5a1ac1cf9f8917116a9cf1e4ac7a\", element=\"5bc16ef7-8053-4b26-be92-67b1dd2f093f\")>,\n",
       " <selenium.webdriver.remote.webelement.WebElement (session=\"a6bf5a1ac1cf9f8917116a9cf1e4ac7a\", element=\"0bce92de-4111-4c78-bc1a-6627b9301fc4\")>,\n",
       " <selenium.webdriver.remote.webelement.WebElement (session=\"a6bf5a1ac1cf9f8917116a9cf1e4ac7a\", element=\"a24a2c37-3439-4a7d-98b8-a9742175f5c0\")>,\n",
       " <selenium.webdriver.remote.webelement.WebElement (session=\"a6bf5a1ac1cf9f8917116a9cf1e4ac7a\", element=\"30b86e37-21cf-4db5-8690-a25f627a6b39\")>,\n",
       " <selenium.webdriver.remote.webelement.WebElement (session=\"a6bf5a1ac1cf9f8917116a9cf1e4ac7a\", element=\"decc1dbb-a32b-4e4b-972f-0e1c20cd825b\")>,\n",
       " <selenium.webdriver.remote.webelement.WebElement (session=\"a6bf5a1ac1cf9f8917116a9cf1e4ac7a\", element=\"cb58c818-0873-4985-8785-21102181b98e\")>,\n",
       " <selenium.webdriver.remote.webelement.WebElement (session=\"a6bf5a1ac1cf9f8917116a9cf1e4ac7a\", element=\"28abf146-c9a9-48b9-862b-80c6ff2a86cf\")>,\n",
       " <selenium.webdriver.remote.webelement.WebElement (session=\"a6bf5a1ac1cf9f8917116a9cf1e4ac7a\", element=\"9d8c4b1a-05c0-45d1-be3b-cf83d79b4ff1\")>,\n",
       " <selenium.webdriver.remote.webelement.WebElement (session=\"a6bf5a1ac1cf9f8917116a9cf1e4ac7a\", element=\"8f1cbbe7-d639-4442-9a80-705823b880ed\")>,\n",
       " <selenium.webdriver.remote.webelement.WebElement (session=\"a6bf5a1ac1cf9f8917116a9cf1e4ac7a\", element=\"6dce1f1a-5be7-41b1-90ef-24d7f268c5ab\")>,\n",
       " <selenium.webdriver.remote.webelement.WebElement (session=\"a6bf5a1ac1cf9f8917116a9cf1e4ac7a\", element=\"e4ee1810-8c8c-4730-86af-1bd6ac6959ad\")>,\n",
       " <selenium.webdriver.remote.webelement.WebElement (session=\"a6bf5a1ac1cf9f8917116a9cf1e4ac7a\", element=\"fb0ac3b1-0061-4488-8ed5-b81d54838f72\")>,\n",
       " <selenium.webdriver.remote.webelement.WebElement (session=\"a6bf5a1ac1cf9f8917116a9cf1e4ac7a\", element=\"7a36a5bf-d529-449a-84c3-8b883ddf033e\")>,\n",
       " <selenium.webdriver.remote.webelement.WebElement (session=\"a6bf5a1ac1cf9f8917116a9cf1e4ac7a\", element=\"55f05509-cfcf-4f93-9fa7-7ee12fc9b0d2\")>,\n",
       " <selenium.webdriver.remote.webelement.WebElement (session=\"a6bf5a1ac1cf9f8917116a9cf1e4ac7a\", element=\"cdcda8c9-070a-435c-b14b-480fd4436542\")>,\n",
       " <selenium.webdriver.remote.webelement.WebElement (session=\"a6bf5a1ac1cf9f8917116a9cf1e4ac7a\", element=\"91066562-cae4-4537-b9f7-53e13a35df04\")>,\n",
       " <selenium.webdriver.remote.webelement.WebElement (session=\"a6bf5a1ac1cf9f8917116a9cf1e4ac7a\", element=\"7b0a9b1d-8b67-411c-9e92-0b7971e7c906\")>,\n",
       " <selenium.webdriver.remote.webelement.WebElement (session=\"a6bf5a1ac1cf9f8917116a9cf1e4ac7a\", element=\"e0980842-645f-4d30-ab22-9c60cee70057\")>,\n",
       " <selenium.webdriver.remote.webelement.WebElement (session=\"a6bf5a1ac1cf9f8917116a9cf1e4ac7a\", element=\"9e76e05f-9fb9-4fd7-a198-28f8dbe216fa\")>,\n",
       " <selenium.webdriver.remote.webelement.WebElement (session=\"a6bf5a1ac1cf9f8917116a9cf1e4ac7a\", element=\"25646a3c-b11b-4edd-91a8-246e36aae3b8\")>]"
      ]
     },
     "execution_count": 8,
     "metadata": {},
     "output_type": "execute_result"
    }
   ],
   "source": [
    "header2=browser.find_elements(\"xpath\",\"//div[@class='td-wrap-in']\")\n",
    "header2"
   ]
  },
  {
   "cell_type": "code",
   "execution_count": 10,
   "id": "532f635c",
   "metadata": {},
   "outputs": [
    {
     "data": {
      "text/plain": [
       "['82.7', '100', '100', '99.9', '23.9', '57.7', '93.3', '96.7', '99.1']"
      ]
     },
     "execution_count": 10,
     "metadata": {},
     "output_type": "execute_result"
    }
   ],
   "source": [
    "#PARSING DATA\n",
    "value_head=[]\n",
    "for data in header2:\n",
    "    #get the text data\n",
    "    temp=data.text\n",
    "    value_head.append(temp)\n",
    "value_head=value_head[61:70]\n",
    "value_head"
   ]
  },
  {
   "cell_type": "code",
   "execution_count": 11,
   "id": "02a3c39c",
   "metadata": {},
   "outputs": [
    {
     "data": {
      "text/plain": [
       "{'Overall Score': '82.7',\n",
       " 'Academic Reputation': '100',\n",
       " 'Employer Reputation': '100',\n",
       " 'Citations per Faculty': '99.9',\n",
       " 'Faculty Student Ratio': '23.9',\n",
       " 'International Students Ratio': '57.7',\n",
       " 'International Faculty Ratio': '93.3',\n",
       " 'International Research Network\\nUnweighted': '96.7',\n",
       " 'Employment Outcomes\\nUnweighted': '99.1'}"
      ]
     },
     "execution_count": 11,
     "metadata": {},
     "output_type": "execute_result"
    }
   ],
   "source": [
    "d={}\n",
    "for i in range(len(column_head)):\n",
    "    d[column_head[i]]=value_head[i]\n",
    "d"
   ]
  },
  {
   "cell_type": "code",
   "execution_count": 12,
   "id": "27118e25",
   "metadata": {},
   "outputs": [
    {
     "data": {
      "text/plain": [
       "'{\"Overall Score\": \"82.7\", \"Academic Reputation\": \"100\", \"Employer Reputation\": \"100\", \"Citations per Faculty\": \"99.9\", \"Faculty Student Ratio\": \"23.9\", \"International Students Ratio\": \"57.7\", \"International Faculty Ratio\": \"93.3\", \"International Research Network\\\\nUnweighted\": \"96.7\", \"Employment Outcomes\\\\nUnweighted\": \"99.1\"}'"
      ]
     },
     "execution_count": 12,
     "metadata": {},
     "output_type": "execute_result"
    }
   ],
   "source": [
    "s1=json.dumps(d)\n",
    "s1"
   ]
  },
  {
   "cell_type": "code",
   "execution_count": 13,
   "id": "bb674492",
   "metadata": {},
   "outputs": [],
   "source": [
    "with open('University of Oxford.json','w') as f:\n",
    "    json.dump(d,f)"
   ]
  },
  {
   "cell_type": "code",
   "execution_count": null,
   "id": "bd560665",
   "metadata": {},
   "outputs": [],
   "source": []
  }
 ],
 "metadata": {
  "kernelspec": {
   "display_name": "Python 3 (ipykernel)",
   "language": "python",
   "name": "python3"
  },
  "language_info": {
   "codemirror_mode": {
    "name": "ipython",
    "version": 3
   },
   "file_extension": ".py",
   "mimetype": "text/x-python",
   "name": "python",
   "nbconvert_exporter": "python",
   "pygments_lexer": "ipython3",
   "version": "3.9.12"
  }
 },
 "nbformat": 4,
 "nbformat_minor": 5
}
