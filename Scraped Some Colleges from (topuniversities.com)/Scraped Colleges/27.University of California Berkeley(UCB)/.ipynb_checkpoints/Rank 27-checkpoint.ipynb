{
 "cells": [
  {
   "cell_type": "code",
   "execution_count": 18,
   "id": "359e26d4",
   "metadata": {},
   "outputs": [],
   "source": [
    "from selenium import webdriver\n",
    "from selenium.webdriver.chrome.service import Service\n",
    "import pandas as pd\n",
    "import json"
   ]
  },
  {
   "cell_type": "code",
   "execution_count": 19,
   "id": "1e0f4638",
   "metadata": {},
   "outputs": [],
   "source": [
    "path = Service('C:\\chromedriver.exe')"
   ]
  },
  {
   "cell_type": "code",
   "execution_count": 20,
   "id": "bd95d759",
   "metadata": {},
   "outputs": [],
   "source": [
    "# set path for the driver\n",
    "browser = webdriver.Chrome(service = path)"
   ]
  },
  {
   "cell_type": "code",
   "execution_count": 21,
   "id": "0f3cf8a6",
   "metadata": {},
   "outputs": [],
   "source": [
    "url = \"https://www.topuniversities.com/university-rankings/world-university-rankings/2023\""
   ]
  },
  {
   "cell_type": "code",
   "execution_count": 22,
   "id": "a511d3f7",
   "metadata": {},
   "outputs": [],
   "source": [
    "# open the page url ion chrome\n",
    "browser.get(url)"
   ]
  },
  {
   "cell_type": "code",
   "execution_count": 23,
   "id": "c885d840",
   "metadata": {},
   "outputs": [
    {
     "data": {
      "text/plain": [
       "[<selenium.webdriver.remote.webelement.WebElement (session=\"57f8038aabea30f54fb0e2a1d0fd6cec\", element=\"381d6850-432d-4af7-a32a-43e2e627ece0\")>,\n",
       " <selenium.webdriver.remote.webelement.WebElement (session=\"57f8038aabea30f54fb0e2a1d0fd6cec\", element=\"9aba5660-0c1b-4f71-866c-596a52f420c5\")>,\n",
       " <selenium.webdriver.remote.webelement.WebElement (session=\"57f8038aabea30f54fb0e2a1d0fd6cec\", element=\"e7364e61-d681-4cb9-8cfa-38a1965d4bd5\")>,\n",
       " <selenium.webdriver.remote.webelement.WebElement (session=\"57f8038aabea30f54fb0e2a1d0fd6cec\", element=\"73a41037-b726-4688-a007-fe39a4d19254\")>,\n",
       " <selenium.webdriver.remote.webelement.WebElement (session=\"57f8038aabea30f54fb0e2a1d0fd6cec\", element=\"41278e9d-4312-4d9a-ba5b-3dc2aa2236af\")>,\n",
       " <selenium.webdriver.remote.webelement.WebElement (session=\"57f8038aabea30f54fb0e2a1d0fd6cec\", element=\"c89cb93b-c96b-4d36-82b4-be48d6bad2b6\")>,\n",
       " <selenium.webdriver.remote.webelement.WebElement (session=\"57f8038aabea30f54fb0e2a1d0fd6cec\", element=\"9eed2e8b-13eb-4081-ba88-4bb844b31878\")>,\n",
       " <selenium.webdriver.remote.webelement.WebElement (session=\"57f8038aabea30f54fb0e2a1d0fd6cec\", element=\"6aa0b727-96bb-4934-9540-78dbe1dc4439\")>,\n",
       " <selenium.webdriver.remote.webelement.WebElement (session=\"57f8038aabea30f54fb0e2a1d0fd6cec\", element=\"54a68d8c-fc8e-4006-b266-100e61fe77e8\")>,\n",
       " <selenium.webdriver.remote.webelement.WebElement (session=\"57f8038aabea30f54fb0e2a1d0fd6cec\", element=\"981e04cd-10c0-4b50-ab25-82544c8d12e2\")>,\n",
       " <selenium.webdriver.remote.webelement.WebElement (session=\"57f8038aabea30f54fb0e2a1d0fd6cec\", element=\"d3ec5cb8-7373-421d-ab85-508d1512cffa\")>,\n",
       " <selenium.webdriver.remote.webelement.WebElement (session=\"57f8038aabea30f54fb0e2a1d0fd6cec\", element=\"84bb9d28-5a1d-41f8-9e61-4141cd8e6613\")>,\n",
       " <selenium.webdriver.remote.webelement.WebElement (session=\"57f8038aabea30f54fb0e2a1d0fd6cec\", element=\"ca31eda5-9fcb-4602-9cff-8b16446f4750\")>,\n",
       " <selenium.webdriver.remote.webelement.WebElement (session=\"57f8038aabea30f54fb0e2a1d0fd6cec\", element=\"645427ca-1eb5-45ad-9cd8-5a752fb66873\")>,\n",
       " <selenium.webdriver.remote.webelement.WebElement (session=\"57f8038aabea30f54fb0e2a1d0fd6cec\", element=\"057d7d6c-9f2d-428b-a1a2-70380f505625\")>,\n",
       " <selenium.webdriver.remote.webelement.WebElement (session=\"57f8038aabea30f54fb0e2a1d0fd6cec\", element=\"128dc8c7-c127-4509-ade3-7f0df271e35d\")>,\n",
       " <selenium.webdriver.remote.webelement.WebElement (session=\"57f8038aabea30f54fb0e2a1d0fd6cec\", element=\"b34a15f3-ab7b-452c-b1f3-ea29557347cd\")>,\n",
       " <selenium.webdriver.remote.webelement.WebElement (session=\"57f8038aabea30f54fb0e2a1d0fd6cec\", element=\"9eb317e3-8953-4bec-9834-6f1c9629c127\")>,\n",
       " <selenium.webdriver.remote.webelement.WebElement (session=\"57f8038aabea30f54fb0e2a1d0fd6cec\", element=\"2c03728c-dcf5-49e6-b36e-784b9d0317bc\")>,\n",
       " <selenium.webdriver.remote.webelement.WebElement (session=\"57f8038aabea30f54fb0e2a1d0fd6cec\", element=\"d7617246-0482-421b-8288-f2bf934c62c1\")>]"
      ]
     },
     "execution_count": 23,
     "metadata": {},
     "output_type": "execute_result"
    }
   ],
   "source": [
    "l1=browser.find_elements(\"xpath\",\"//div[@class='location ']\")\n",
    "l1\n"
   ]
  },
  {
   "cell_type": "code",
   "execution_count": 24,
   "id": "e7dbc1dc",
   "metadata": {},
   "outputs": [
    {
     "data": {
      "text/plain": [
       "[' Hong Kong SAR',\n",
       " 'New York City, United States',\n",
       " 'Tokyo, Japan',\n",
       " 'Baltimore, United States',\n",
       " 'Ann Arbor, United States',\n",
       " 'Paris, France',\n",
       " 'Berkeley, United States',\n",
       " 'Manchester, United Kingdom',\n",
       " 'Seoul, South Korea',\n",
       " 'Canberra, Australia']"
      ]
     },
     "execution_count": 24,
     "metadata": {},
     "output_type": "execute_result"
    }
   ],
   "source": [
    "loc=[]\n",
    "for data in l1:\n",
    "    #get the text data\n",
    "    temp=data.text\n",
    "    loc.append(temp)\n",
    "loc=loc[10:]\n",
    "loc"
   ]
  },
  {
   "cell_type": "code",
   "execution_count": 25,
   "id": "c4ed81eb",
   "metadata": {},
   "outputs": [
    {
     "data": {
      "text/plain": [
       "[<selenium.webdriver.remote.webelement.WebElement (session=\"57f8038aabea30f54fb0e2a1d0fd6cec\", element=\"42b9ef3a-1468-4110-b50b-c786315fc74e\")>,\n",
       " <selenium.webdriver.remote.webelement.WebElement (session=\"57f8038aabea30f54fb0e2a1d0fd6cec\", element=\"6ef34af4-22d9-4892-b8c2-68673399c558\")>,\n",
       " <selenium.webdriver.remote.webelement.WebElement (session=\"57f8038aabea30f54fb0e2a1d0fd6cec\", element=\"ad59fe80-bb46-4dae-808f-6ecf579d5fb0\")>,\n",
       " <selenium.webdriver.remote.webelement.WebElement (session=\"57f8038aabea30f54fb0e2a1d0fd6cec\", element=\"ba7c5274-5d3f-415d-a0e5-571b2e213481\")>,\n",
       " <selenium.webdriver.remote.webelement.WebElement (session=\"57f8038aabea30f54fb0e2a1d0fd6cec\", element=\"17e84dcd-38d7-4b4b-ba40-bee4f9cbe968\")>,\n",
       " <selenium.webdriver.remote.webelement.WebElement (session=\"57f8038aabea30f54fb0e2a1d0fd6cec\", element=\"52a235a9-2c8a-4d9f-8de4-f9e4602655d5\")>,\n",
       " <selenium.webdriver.remote.webelement.WebElement (session=\"57f8038aabea30f54fb0e2a1d0fd6cec\", element=\"785dfc1e-bd14-491e-9ab3-ee94658eb0f9\")>,\n",
       " <selenium.webdriver.remote.webelement.WebElement (session=\"57f8038aabea30f54fb0e2a1d0fd6cec\", element=\"c2b1364b-771b-46f6-8422-4cde66d61b2a\")>,\n",
       " <selenium.webdriver.remote.webelement.WebElement (session=\"57f8038aabea30f54fb0e2a1d0fd6cec\", element=\"4ef0c45b-f482-4dff-b7ea-481dbb45e8d2\")>,\n",
       " <selenium.webdriver.remote.webelement.WebElement (session=\"57f8038aabea30f54fb0e2a1d0fd6cec\", element=\"0f6bf90f-624c-44ff-9888-73927b64cb8a\")>]"
      ]
     },
     "execution_count": 25,
     "metadata": {},
     "output_type": "execute_result"
    }
   ],
   "source": [
    "l2=browser.find_elements(\"xpath\",\"//div[@class='_univ-rank ']\")\n",
    "l2\n"
   ]
  },
  {
   "cell_type": "code",
   "execution_count": 26,
   "id": "aeb206c4",
   "metadata": {},
   "outputs": [
    {
     "data": {
      "text/plain": [
       "['21', '22', '23', '24', '25', '26', '27', '28', '29', '30']"
      ]
     },
     "execution_count": 26,
     "metadata": {},
     "output_type": "execute_result"
    }
   ],
   "source": [
    "RANK=[]\n",
    "for data in l2:\n",
    "    #get the text data\n",
    "    temp=data.text\n",
    "    RANK.append(temp)\n",
    "RANK\n"
   ]
  },
  {
   "cell_type": "code",
   "execution_count": 27,
   "id": "d52e6ce3",
   "metadata": {},
   "outputs": [
    {
     "data": {
      "text/plain": [
       "[<selenium.webdriver.remote.webelement.WebElement (session=\"57f8038aabea30f54fb0e2a1d0fd6cec\", element=\"b0f8e8ea-33d4-48b1-b979-a4b3b52304c0\")>,\n",
       " <selenium.webdriver.remote.webelement.WebElement (session=\"57f8038aabea30f54fb0e2a1d0fd6cec\", element=\"ae5c19e1-4a2b-47fa-ad4d-f05165e63172\")>,\n",
       " <selenium.webdriver.remote.webelement.WebElement (session=\"57f8038aabea30f54fb0e2a1d0fd6cec\", element=\"c3a9db49-8895-4df6-92ba-aef37519b4dd\")>,\n",
       " <selenium.webdriver.remote.webelement.WebElement (session=\"57f8038aabea30f54fb0e2a1d0fd6cec\", element=\"7b3a1cf9-ae40-4e6b-88ab-3df27e156b60\")>,\n",
       " <selenium.webdriver.remote.webelement.WebElement (session=\"57f8038aabea30f54fb0e2a1d0fd6cec\", element=\"fe7b60f4-198f-4a8a-989c-59dd00ca02ce\")>,\n",
       " <selenium.webdriver.remote.webelement.WebElement (session=\"57f8038aabea30f54fb0e2a1d0fd6cec\", element=\"ffcb12e0-0fbc-43b6-ae37-77a0a6cb96bc\")>,\n",
       " <selenium.webdriver.remote.webelement.WebElement (session=\"57f8038aabea30f54fb0e2a1d0fd6cec\", element=\"480fa287-659b-4db4-98e8-e57d57b735e6\")>,\n",
       " <selenium.webdriver.remote.webelement.WebElement (session=\"57f8038aabea30f54fb0e2a1d0fd6cec\", element=\"0607810b-b342-441f-81a7-7e18a8957e91\")>,\n",
       " <selenium.webdriver.remote.webelement.WebElement (session=\"57f8038aabea30f54fb0e2a1d0fd6cec\", element=\"534eeade-3f3b-4628-bd89-8ce9a9446f33\")>]"
      ]
     },
     "execution_count": 27,
     "metadata": {},
     "output_type": "execute_result"
    }
   ],
   "source": [
    "# GET EACH COLLEGE SPECIFICATION HEADERS\n",
    "header=browser.find_elements(\"xpath\",\"//div[@class='_click-function_ind']\")\n",
    "header"
   ]
  },
  {
   "cell_type": "code",
   "execution_count": 28,
   "id": "06445618",
   "metadata": {},
   "outputs": [
    {
     "data": {
      "text/plain": [
       "['Overall Score',\n",
       " 'Academic Reputation',\n",
       " 'Employer Reputation',\n",
       " 'Citations per Faculty',\n",
       " 'Faculty Student Ratio',\n",
       " 'International Students Ratio',\n",
       " 'International Faculty Ratio',\n",
       " 'International Research Network\\nUnweighted',\n",
       " 'Employment Outcomes\\nUnweighted']"
      ]
     },
     "execution_count": 28,
     "metadata": {},
     "output_type": "execute_result"
    }
   ],
   "source": [
    "#PARSING DATA\n",
    "column_head=[]\n",
    "for data in header:\n",
    "    #get the text data\n",
    "    temp=data.text\n",
    "    column_head.append(temp)\n",
    "column_head"
   ]
  },
  {
   "cell_type": "code",
   "execution_count": 29,
   "id": "021a72f0",
   "metadata": {},
   "outputs": [
    {
     "data": {
      "text/plain": [
       "[<selenium.webdriver.remote.webelement.WebElement (session=\"57f8038aabea30f54fb0e2a1d0fd6cec\", element=\"4bdaba21-dbbf-4bb7-a1de-4c6630113c22\")>,\n",
       " <selenium.webdriver.remote.webelement.WebElement (session=\"57f8038aabea30f54fb0e2a1d0fd6cec\", element=\"cdbce8ae-14bc-4090-9507-c0ae97e204d7\")>,\n",
       " <selenium.webdriver.remote.webelement.WebElement (session=\"57f8038aabea30f54fb0e2a1d0fd6cec\", element=\"ea214da6-04d1-4475-b488-0994278680a5\")>,\n",
       " <selenium.webdriver.remote.webelement.WebElement (session=\"57f8038aabea30f54fb0e2a1d0fd6cec\", element=\"5c67771d-aa31-43bd-a8dd-523b00a8e13d\")>,\n",
       " <selenium.webdriver.remote.webelement.WebElement (session=\"57f8038aabea30f54fb0e2a1d0fd6cec\", element=\"c968bfb5-5f5d-43d6-8d55-cc48feda347c\")>,\n",
       " <selenium.webdriver.remote.webelement.WebElement (session=\"57f8038aabea30f54fb0e2a1d0fd6cec\", element=\"386cde04-8ad8-4eee-aca1-d79a8fc57c28\")>,\n",
       " <selenium.webdriver.remote.webelement.WebElement (session=\"57f8038aabea30f54fb0e2a1d0fd6cec\", element=\"322d42ff-6eff-438e-b390-83c4aa1cd10c\")>,\n",
       " <selenium.webdriver.remote.webelement.WebElement (session=\"57f8038aabea30f54fb0e2a1d0fd6cec\", element=\"12974878-864d-479d-bbf9-86cfd66078df\")>,\n",
       " <selenium.webdriver.remote.webelement.WebElement (session=\"57f8038aabea30f54fb0e2a1d0fd6cec\", element=\"e09bfc1d-2982-4adf-ac1c-6340f088e5de\")>,\n",
       " <selenium.webdriver.remote.webelement.WebElement (session=\"57f8038aabea30f54fb0e2a1d0fd6cec\", element=\"9956242b-077a-4d43-852e-5c5016472850\")>,\n",
       " <selenium.webdriver.remote.webelement.WebElement (session=\"57f8038aabea30f54fb0e2a1d0fd6cec\", element=\"e10d4213-e79d-49e4-bc8d-e7c82dad0867\")>,\n",
       " <selenium.webdriver.remote.webelement.WebElement (session=\"57f8038aabea30f54fb0e2a1d0fd6cec\", element=\"e08c8495-22d6-4875-a039-5efdecb2470e\")>,\n",
       " <selenium.webdriver.remote.webelement.WebElement (session=\"57f8038aabea30f54fb0e2a1d0fd6cec\", element=\"2e388baf-e0e8-4c16-a53f-a0ab481004bd\")>,\n",
       " <selenium.webdriver.remote.webelement.WebElement (session=\"57f8038aabea30f54fb0e2a1d0fd6cec\", element=\"8460ce3b-e305-4711-8496-8acb5f97c178\")>,\n",
       " <selenium.webdriver.remote.webelement.WebElement (session=\"57f8038aabea30f54fb0e2a1d0fd6cec\", element=\"34e4bfcd-6182-4f1a-b06b-cd4382327230\")>,\n",
       " <selenium.webdriver.remote.webelement.WebElement (session=\"57f8038aabea30f54fb0e2a1d0fd6cec\", element=\"11b3b848-d9ca-4c7e-b9fc-3a8ab7416fd6\")>,\n",
       " <selenium.webdriver.remote.webelement.WebElement (session=\"57f8038aabea30f54fb0e2a1d0fd6cec\", element=\"6a91b597-19cf-4ab0-940c-0f1b83f63718\")>,\n",
       " <selenium.webdriver.remote.webelement.WebElement (session=\"57f8038aabea30f54fb0e2a1d0fd6cec\", element=\"fc9628f3-1280-4bb0-a1af-93e68dc852cc\")>,\n",
       " <selenium.webdriver.remote.webelement.WebElement (session=\"57f8038aabea30f54fb0e2a1d0fd6cec\", element=\"515cc737-51ba-4e84-880e-5947fa0a83ff\")>,\n",
       " <selenium.webdriver.remote.webelement.WebElement (session=\"57f8038aabea30f54fb0e2a1d0fd6cec\", element=\"1f705032-871c-4a4b-a3ab-c743ef2d61a1\")>,\n",
       " <selenium.webdriver.remote.webelement.WebElement (session=\"57f8038aabea30f54fb0e2a1d0fd6cec\", element=\"d0b63131-a9e5-4699-9356-39150deaede7\")>,\n",
       " <selenium.webdriver.remote.webelement.WebElement (session=\"57f8038aabea30f54fb0e2a1d0fd6cec\", element=\"8f55edf0-daf3-4c89-a9ba-3399875cbc20\")>,\n",
       " <selenium.webdriver.remote.webelement.WebElement (session=\"57f8038aabea30f54fb0e2a1d0fd6cec\", element=\"fe9d1fdc-ce04-4902-b155-558180fc9aca\")>,\n",
       " <selenium.webdriver.remote.webelement.WebElement (session=\"57f8038aabea30f54fb0e2a1d0fd6cec\", element=\"460b7960-40b2-4864-bc75-5189f8cf5711\")>,\n",
       " <selenium.webdriver.remote.webelement.WebElement (session=\"57f8038aabea30f54fb0e2a1d0fd6cec\", element=\"29c34276-1cbd-4761-9ea1-7aba3661fd32\")>,\n",
       " <selenium.webdriver.remote.webelement.WebElement (session=\"57f8038aabea30f54fb0e2a1d0fd6cec\", element=\"a84cc08a-971f-45a7-8b2e-5ace09d0fae4\")>,\n",
       " <selenium.webdriver.remote.webelement.WebElement (session=\"57f8038aabea30f54fb0e2a1d0fd6cec\", element=\"eab7c202-e6ab-4678-8f59-bcaea7877a5c\")>,\n",
       " <selenium.webdriver.remote.webelement.WebElement (session=\"57f8038aabea30f54fb0e2a1d0fd6cec\", element=\"30f65744-d4bb-4f37-95fb-0ca05b2d0d3b\")>,\n",
       " <selenium.webdriver.remote.webelement.WebElement (session=\"57f8038aabea30f54fb0e2a1d0fd6cec\", element=\"35aa9335-0076-44db-b4c5-30a2a77cfe5b\")>,\n",
       " <selenium.webdriver.remote.webelement.WebElement (session=\"57f8038aabea30f54fb0e2a1d0fd6cec\", element=\"fa58259f-ce5b-46a6-b25e-0e800d4548e8\")>,\n",
       " <selenium.webdriver.remote.webelement.WebElement (session=\"57f8038aabea30f54fb0e2a1d0fd6cec\", element=\"b7ec8934-c3f4-444e-9df9-18d40b5c1d20\")>,\n",
       " <selenium.webdriver.remote.webelement.WebElement (session=\"57f8038aabea30f54fb0e2a1d0fd6cec\", element=\"e9d7e1b0-51ea-4918-ad26-f8519a05d431\")>,\n",
       " <selenium.webdriver.remote.webelement.WebElement (session=\"57f8038aabea30f54fb0e2a1d0fd6cec\", element=\"53a7577d-9c25-4f99-9dec-cf620e74ba01\")>,\n",
       " <selenium.webdriver.remote.webelement.WebElement (session=\"57f8038aabea30f54fb0e2a1d0fd6cec\", element=\"40b26a0e-83d6-46a2-bd0c-786c8cb86811\")>,\n",
       " <selenium.webdriver.remote.webelement.WebElement (session=\"57f8038aabea30f54fb0e2a1d0fd6cec\", element=\"a8dc35f2-9d9b-43ec-b981-388e6d1633ae\")>,\n",
       " <selenium.webdriver.remote.webelement.WebElement (session=\"57f8038aabea30f54fb0e2a1d0fd6cec\", element=\"6194136d-0625-48f1-ac1c-17129f15fa87\")>,\n",
       " <selenium.webdriver.remote.webelement.WebElement (session=\"57f8038aabea30f54fb0e2a1d0fd6cec\", element=\"0e41305b-dbd9-4499-aca1-c5d0aa770a7e\")>,\n",
       " <selenium.webdriver.remote.webelement.WebElement (session=\"57f8038aabea30f54fb0e2a1d0fd6cec\", element=\"982e1085-34b2-458f-904f-f40f34cfe738\")>,\n",
       " <selenium.webdriver.remote.webelement.WebElement (session=\"57f8038aabea30f54fb0e2a1d0fd6cec\", element=\"485fb11d-5c96-49e2-a05c-ed6ce7db1395\")>,\n",
       " <selenium.webdriver.remote.webelement.WebElement (session=\"57f8038aabea30f54fb0e2a1d0fd6cec\", element=\"c8689d2d-26d2-40f7-867e-16b7ef5c687d\")>,\n",
       " <selenium.webdriver.remote.webelement.WebElement (session=\"57f8038aabea30f54fb0e2a1d0fd6cec\", element=\"5957c0f1-355a-4e67-a157-b7965c12fbb2\")>,\n",
       " <selenium.webdriver.remote.webelement.WebElement (session=\"57f8038aabea30f54fb0e2a1d0fd6cec\", element=\"aa0f7526-a6aa-4aa3-bdba-9cf2aa599a0a\")>,\n",
       " <selenium.webdriver.remote.webelement.WebElement (session=\"57f8038aabea30f54fb0e2a1d0fd6cec\", element=\"e35cd1e7-c218-4f37-a835-6850eb6fb22d\")>,\n",
       " <selenium.webdriver.remote.webelement.WebElement (session=\"57f8038aabea30f54fb0e2a1d0fd6cec\", element=\"e6e19db1-d62e-4172-b47c-f979c64d98c0\")>,\n",
       " <selenium.webdriver.remote.webelement.WebElement (session=\"57f8038aabea30f54fb0e2a1d0fd6cec\", element=\"27c42589-a453-4ca2-81e0-7ed1c7cfb589\")>,\n",
       " <selenium.webdriver.remote.webelement.WebElement (session=\"57f8038aabea30f54fb0e2a1d0fd6cec\", element=\"9fba2ed0-3483-4bbc-8fce-d82da3d0d8a3\")>,\n",
       " <selenium.webdriver.remote.webelement.WebElement (session=\"57f8038aabea30f54fb0e2a1d0fd6cec\", element=\"243b0a5c-a865-4ae7-898e-260d212c557e\")>,\n",
       " <selenium.webdriver.remote.webelement.WebElement (session=\"57f8038aabea30f54fb0e2a1d0fd6cec\", element=\"c3cb512f-dc8f-48f1-bd15-688b16dea5f9\")>,\n",
       " <selenium.webdriver.remote.webelement.WebElement (session=\"57f8038aabea30f54fb0e2a1d0fd6cec\", element=\"711921b3-eaec-4cc0-b3e1-5679d59e5388\")>,\n",
       " <selenium.webdriver.remote.webelement.WebElement (session=\"57f8038aabea30f54fb0e2a1d0fd6cec\", element=\"f1f0c79b-b1c0-4228-950c-d7a0a5f35588\")>,\n",
       " <selenium.webdriver.remote.webelement.WebElement (session=\"57f8038aabea30f54fb0e2a1d0fd6cec\", element=\"cc474856-f97f-4403-9912-eef903dbc07c\")>,\n",
       " <selenium.webdriver.remote.webelement.WebElement (session=\"57f8038aabea30f54fb0e2a1d0fd6cec\", element=\"1d879511-ae58-4867-8fba-c67ff185fe3d\")>,\n",
       " <selenium.webdriver.remote.webelement.WebElement (session=\"57f8038aabea30f54fb0e2a1d0fd6cec\", element=\"ab1dc2f7-8eba-4c47-b65e-a1802aeab0b8\")>,\n",
       " <selenium.webdriver.remote.webelement.WebElement (session=\"57f8038aabea30f54fb0e2a1d0fd6cec\", element=\"91e177b7-e2ef-4b64-856e-3d8d4029cefb\")>,\n",
       " <selenium.webdriver.remote.webelement.WebElement (session=\"57f8038aabea30f54fb0e2a1d0fd6cec\", element=\"da6e2b0a-0dc0-432c-bb7d-9deeead0ad4f\")>,\n",
       " <selenium.webdriver.remote.webelement.WebElement (session=\"57f8038aabea30f54fb0e2a1d0fd6cec\", element=\"ca475c2e-0db9-4df0-a063-46e4f592dc2c\")>,\n",
       " <selenium.webdriver.remote.webelement.WebElement (session=\"57f8038aabea30f54fb0e2a1d0fd6cec\", element=\"73fb7b44-7f92-44d4-90dc-ec6f33e529ed\")>,\n",
       " <selenium.webdriver.remote.webelement.WebElement (session=\"57f8038aabea30f54fb0e2a1d0fd6cec\", element=\"c292c309-3815-4fbe-a04c-8a6bdde0baad\")>,\n",
       " <selenium.webdriver.remote.webelement.WebElement (session=\"57f8038aabea30f54fb0e2a1d0fd6cec\", element=\"f64cdfb2-7656-4f7f-bc8e-a64ea0a77898\")>,\n",
       " <selenium.webdriver.remote.webelement.WebElement (session=\"57f8038aabea30f54fb0e2a1d0fd6cec\", element=\"340973b7-9038-48f9-894e-e9bfc0324889\")>,\n",
       " <selenium.webdriver.remote.webelement.WebElement (session=\"57f8038aabea30f54fb0e2a1d0fd6cec\", element=\"092a9592-d661-4676-ae2f-1847f1f732e1\")>,\n",
       " <selenium.webdriver.remote.webelement.WebElement (session=\"57f8038aabea30f54fb0e2a1d0fd6cec\", element=\"2020966c-23bf-4018-9df9-380ae493a5a2\")>,\n",
       " <selenium.webdriver.remote.webelement.WebElement (session=\"57f8038aabea30f54fb0e2a1d0fd6cec\", element=\"462dbc1a-cce2-48dc-ab04-ac3c9840b1aa\")>,\n",
       " <selenium.webdriver.remote.webelement.WebElement (session=\"57f8038aabea30f54fb0e2a1d0fd6cec\", element=\"e8bc3add-952a-4ca5-a87f-a2b0dc181fff\")>,\n",
       " <selenium.webdriver.remote.webelement.WebElement (session=\"57f8038aabea30f54fb0e2a1d0fd6cec\", element=\"6c20aa6f-e62c-4177-8ba5-a6ae02bb3c0d\")>,\n",
       " <selenium.webdriver.remote.webelement.WebElement (session=\"57f8038aabea30f54fb0e2a1d0fd6cec\", element=\"454cb06a-ef2d-483d-b40c-fb4b24dfe926\")>,\n",
       " <selenium.webdriver.remote.webelement.WebElement (session=\"57f8038aabea30f54fb0e2a1d0fd6cec\", element=\"1e9aef1c-2a7a-4d41-ae77-aac912b8495d\")>,\n",
       " <selenium.webdriver.remote.webelement.WebElement (session=\"57f8038aabea30f54fb0e2a1d0fd6cec\", element=\"2042968c-3869-4134-b1fe-c082d007a39b\")>,\n",
       " <selenium.webdriver.remote.webelement.WebElement (session=\"57f8038aabea30f54fb0e2a1d0fd6cec\", element=\"340f7058-6d77-4cdd-8a38-660e25a875e9\")>,\n",
       " <selenium.webdriver.remote.webelement.WebElement (session=\"57f8038aabea30f54fb0e2a1d0fd6cec\", element=\"6d80b9f3-7e28-452f-9ed9-22102354b3b8\")>,\n",
       " <selenium.webdriver.remote.webelement.WebElement (session=\"57f8038aabea30f54fb0e2a1d0fd6cec\", element=\"10f7fcf4-23a0-45f9-aa40-e90d3d0b0139\")>,\n",
       " <selenium.webdriver.remote.webelement.WebElement (session=\"57f8038aabea30f54fb0e2a1d0fd6cec\", element=\"12902285-ff40-4cbd-97b7-ba7b90d9aab9\")>,\n",
       " <selenium.webdriver.remote.webelement.WebElement (session=\"57f8038aabea30f54fb0e2a1d0fd6cec\", element=\"a0df56dd-4b01-414f-8885-a8df04cf3f32\")>,\n",
       " <selenium.webdriver.remote.webelement.WebElement (session=\"57f8038aabea30f54fb0e2a1d0fd6cec\", element=\"8b18e77a-f891-448a-bb6f-2a864158687d\")>,\n",
       " <selenium.webdriver.remote.webelement.WebElement (session=\"57f8038aabea30f54fb0e2a1d0fd6cec\", element=\"db4801f1-9a5b-4759-a4ff-f0c1c004b2c3\")>,\n",
       " <selenium.webdriver.remote.webelement.WebElement (session=\"57f8038aabea30f54fb0e2a1d0fd6cec\", element=\"3a64547e-0585-4b9e-8d61-265fe906a60c\")>,\n",
       " <selenium.webdriver.remote.webelement.WebElement (session=\"57f8038aabea30f54fb0e2a1d0fd6cec\", element=\"2231a9d5-38c6-418c-aa36-d3dbfcf3b199\")>,\n",
       " <selenium.webdriver.remote.webelement.WebElement (session=\"57f8038aabea30f54fb0e2a1d0fd6cec\", element=\"a4db5bee-4ecd-435e-825c-59ceb3f8d926\")>,\n",
       " <selenium.webdriver.remote.webelement.WebElement (session=\"57f8038aabea30f54fb0e2a1d0fd6cec\", element=\"ce0dc974-6d34-4fc2-9197-14bb63f7d8ae\")>,\n",
       " <selenium.webdriver.remote.webelement.WebElement (session=\"57f8038aabea30f54fb0e2a1d0fd6cec\", element=\"955f16b5-1cb4-4a85-9814-0db4808dcbb0\")>,\n",
       " <selenium.webdriver.remote.webelement.WebElement (session=\"57f8038aabea30f54fb0e2a1d0fd6cec\", element=\"c36e82e6-49c3-48b3-b087-3c1b53d79896\")>,\n",
       " <selenium.webdriver.remote.webelement.WebElement (session=\"57f8038aabea30f54fb0e2a1d0fd6cec\", element=\"ab773e5f-4d40-4fe5-84a4-7e0b7a7f7848\")>,\n",
       " <selenium.webdriver.remote.webelement.WebElement (session=\"57f8038aabea30f54fb0e2a1d0fd6cec\", element=\"e9d7ff34-434f-418d-a881-0c46ac2a4bcb\")>,\n",
       " <selenium.webdriver.remote.webelement.WebElement (session=\"57f8038aabea30f54fb0e2a1d0fd6cec\", element=\"e2180023-05a7-4b1d-a1ec-e7799aa66a71\")>,\n",
       " <selenium.webdriver.remote.webelement.WebElement (session=\"57f8038aabea30f54fb0e2a1d0fd6cec\", element=\"db9bcac2-b5a8-4000-bb83-bce77ae51eb3\")>,\n",
       " <selenium.webdriver.remote.webelement.WebElement (session=\"57f8038aabea30f54fb0e2a1d0fd6cec\", element=\"77fab7d6-f3ef-4bd4-b38f-2fd63eccb7ba\")>,\n",
       " <selenium.webdriver.remote.webelement.WebElement (session=\"57f8038aabea30f54fb0e2a1d0fd6cec\", element=\"cc6027c6-7467-42be-9123-b1fb8ef5dca5\")>,\n",
       " <selenium.webdriver.remote.webelement.WebElement (session=\"57f8038aabea30f54fb0e2a1d0fd6cec\", element=\"f9e97a4f-d254-4d60-87f3-2706f20c8352\")>,\n",
       " <selenium.webdriver.remote.webelement.WebElement (session=\"57f8038aabea30f54fb0e2a1d0fd6cec\", element=\"f15b55eb-03a1-45b0-896d-11f3dc06cc82\")>,\n",
       " <selenium.webdriver.remote.webelement.WebElement (session=\"57f8038aabea30f54fb0e2a1d0fd6cec\", element=\"e34c696f-a4ca-4028-9a7c-805e6d4d0040\")>,\n",
       " <selenium.webdriver.remote.webelement.WebElement (session=\"57f8038aabea30f54fb0e2a1d0fd6cec\", element=\"00820341-f51c-4dd8-a204-71762ffc451f\")>,\n",
       " <selenium.webdriver.remote.webelement.WebElement (session=\"57f8038aabea30f54fb0e2a1d0fd6cec\", element=\"7604fafd-83a3-438c-a015-e1eec22622b1\")>,\n",
       " <selenium.webdriver.remote.webelement.WebElement (session=\"57f8038aabea30f54fb0e2a1d0fd6cec\", element=\"ee6091df-2fa5-420d-977c-830ecf1c6c2d\")>,\n",
       " <selenium.webdriver.remote.webelement.WebElement (session=\"57f8038aabea30f54fb0e2a1d0fd6cec\", element=\"a6027844-a391-488e-9358-d63eeb699376\")>,\n",
       " <selenium.webdriver.remote.webelement.WebElement (session=\"57f8038aabea30f54fb0e2a1d0fd6cec\", element=\"bc0093bf-997a-488c-9eb9-510d1703fe61\")>,\n",
       " <selenium.webdriver.remote.webelement.WebElement (session=\"57f8038aabea30f54fb0e2a1d0fd6cec\", element=\"f2c97c64-988c-4e52-ae79-a97c82506469\")>,\n",
       " <selenium.webdriver.remote.webelement.WebElement (session=\"57f8038aabea30f54fb0e2a1d0fd6cec\", element=\"854036c4-67c0-4f4b-9857-9f45f7b85c9e\")>,\n",
       " <selenium.webdriver.remote.webelement.WebElement (session=\"57f8038aabea30f54fb0e2a1d0fd6cec\", element=\"f5125510-df18-4a81-9610-f210d0e05578\")>,\n",
       " <selenium.webdriver.remote.webelement.WebElement (session=\"57f8038aabea30f54fb0e2a1d0fd6cec\", element=\"a460f227-006b-4d74-a7c6-7f23700f17dd\")>,\n",
       " <selenium.webdriver.remote.webelement.WebElement (session=\"57f8038aabea30f54fb0e2a1d0fd6cec\", element=\"03a94216-5ed5-4b50-b94f-3ccc383d206c\")>]"
      ]
     },
     "execution_count": 29,
     "metadata": {},
     "output_type": "execute_result"
    }
   ],
   "source": [
    "header2=browser.find_elements(\"xpath\",\"//div[@class='td-wrap-in']\")\n",
    "header2"
   ]
  },
  {
   "cell_type": "code",
   "execution_count": 30,
   "id": "532f635c",
   "metadata": {},
   "outputs": [
    {
     "data": {
      "text/plain": [
       "['82.7', '100', '100', '99.9', '23.9', '57.7', '93.3', '96.7', '99.1']"
      ]
     },
     "execution_count": 30,
     "metadata": {},
     "output_type": "execute_result"
    }
   ],
   "source": [
    "#PARSING DATA\n",
    "value_head=[]\n",
    "for data in header2:\n",
    "    #get the text data\n",
    "    temp=data.text\n",
    "    value_head.append(temp)\n",
    "value=value_head[61:70]\n",
    "value"
   ]
  },
  {
   "cell_type": "code",
   "execution_count": 31,
   "id": "02a3c39c",
   "metadata": {},
   "outputs": [
    {
     "data": {
      "text/plain": [
       "{'Name': 'University of California, Berkeley (UCB)',\n",
       " 'Location': 'Berkeley, United States',\n",
       " 'Rank': '27',\n",
       " 'Overall Score': '82.7',\n",
       " 'Academic Reputation': '100',\n",
       " 'Employer Reputation': '100',\n",
       " 'Citations per Faculty': '99.9',\n",
       " 'Faculty Student Ratio': '23.9',\n",
       " 'International Students Ratio': '57.7',\n",
       " 'International Faculty Ratio': '93.3',\n",
       " 'International Research Network\\nUnweighted': '96.7',\n",
       " 'Employment Outcomes\\nUnweighted': '99.1'}"
      ]
     },
     "execution_count": 31,
     "metadata": {},
     "output_type": "execute_result"
    }
   ],
   "source": [
    "d={}\n",
    "\n",
    "d['Name']=value_head[60]\n",
    "d['Location']=loc[6]\n",
    "d['Rank']=RANK[6]\n",
    "\n",
    "for i in range(len(column_head)):\n",
    "    d[column_head[i]]=value[i]\n",
    "d"
   ]
  },
  {
   "cell_type": "code",
   "execution_count": 32,
   "id": "27118e25",
   "metadata": {},
   "outputs": [
    {
     "data": {
      "text/plain": [
       "'{\"Name\": \"University of California, Berkeley (UCB)\", \"Location\": \"Berkeley, United States\", \"Rank\": \"27\", \"Overall Score\": \"82.7\", \"Academic Reputation\": \"100\", \"Employer Reputation\": \"100\", \"Citations per Faculty\": \"99.9\", \"Faculty Student Ratio\": \"23.9\", \"International Students Ratio\": \"57.7\", \"International Faculty Ratio\": \"93.3\", \"International Research Network\\\\nUnweighted\": \"96.7\", \"Employment Outcomes\\\\nUnweighted\": \"99.1\"}'"
      ]
     },
     "execution_count": 32,
     "metadata": {},
     "output_type": "execute_result"
    }
   ],
   "source": [
    "s1=json.dumps(d)\n",
    "s1"
   ]
  },
  {
   "cell_type": "code",
   "execution_count": 34,
   "id": "bb674492",
   "metadata": {},
   "outputs": [],
   "source": [
    "with open('University of California, Berkeley (UCB).json','w') as f:\n",
    "    json.dump(d,f)"
   ]
  },
  {
   "cell_type": "code",
   "execution_count": null,
   "id": "bd560665",
   "metadata": {},
   "outputs": [],
   "source": []
  },
  {
   "cell_type": "code",
   "execution_count": null,
   "id": "b3b46392",
   "metadata": {},
   "outputs": [],
   "source": []
  }
 ],
 "metadata": {
  "kernelspec": {
   "display_name": "Python 3 (ipykernel)",
   "language": "python",
   "name": "python3"
  },
  "language_info": {
   "codemirror_mode": {
    "name": "ipython",
    "version": 3
   },
   "file_extension": ".py",
   "mimetype": "text/x-python",
   "name": "python",
   "nbconvert_exporter": "python",
   "pygments_lexer": "ipython3",
   "version": "3.9.12"
  }
 },
 "nbformat": 4,
 "nbformat_minor": 5
}
