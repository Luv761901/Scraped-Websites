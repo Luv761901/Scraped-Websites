{
 "cells": [
  {
   "cell_type": "code",
   "execution_count": 1,
   "id": "dd53a4a2",
   "metadata": {},
   "outputs": [],
   "source": [
    "from selenium import webdriver\n",
    "from selenium.webdriver.chrome.service import Service\n",
    "import pandas as pd\n",
    "import json"
   ]
  },
  {
   "cell_type": "code",
   "execution_count": 2,
   "id": "458fe567",
   "metadata": {},
   "outputs": [],
   "source": [
    "path = Service('C:\\chromedriver.exe')\n"
   ]
  },
  {
   "cell_type": "code",
   "execution_count": 3,
   "id": "b6b8d00e",
   "metadata": {},
   "outputs": [],
   "source": [
    "# set path for the driver\n",
    "browser = webdriver.Chrome(service = path)"
   ]
  },
  {
   "cell_type": "code",
   "execution_count": 4,
   "id": "37a1adb0",
   "metadata": {},
   "outputs": [],
   "source": [
    "url = \"https://www.topuniversities.com/university-rankings/world-university-rankings/2023\""
   ]
  },
  {
   "cell_type": "code",
   "execution_count": 5,
   "id": "2930f839",
   "metadata": {},
   "outputs": [],
   "source": [
    "# open the page url ion chrome\n",
    "browser.get(url)\n"
   ]
  },
  {
   "cell_type": "code",
   "execution_count": 6,
   "id": "63fab844",
   "metadata": {},
   "outputs": [
    {
     "data": {
      "text/plain": [
       "[<selenium.webdriver.remote.webelement.WebElement (session=\"dc9df953c7d3a1c5e138dae2792b5f97\", element=\"a4d2e304-a3c6-4fec-a6cc-cd97dc3b2fe8\")>,\n",
       " <selenium.webdriver.remote.webelement.WebElement (session=\"dc9df953c7d3a1c5e138dae2792b5f97\", element=\"58c1ebc6-fbf7-46ab-b420-bd8397b21ae8\")>,\n",
       " <selenium.webdriver.remote.webelement.WebElement (session=\"dc9df953c7d3a1c5e138dae2792b5f97\", element=\"c0f77e29-63be-4eb5-a998-ffb5b8d5dc48\")>,\n",
       " <selenium.webdriver.remote.webelement.WebElement (session=\"dc9df953c7d3a1c5e138dae2792b5f97\", element=\"fc1ca265-3afa-41b0-aa39-27dede689232\")>,\n",
       " <selenium.webdriver.remote.webelement.WebElement (session=\"dc9df953c7d3a1c5e138dae2792b5f97\", element=\"895479aa-664a-45aa-985c-52e9189bdc85\")>,\n",
       " <selenium.webdriver.remote.webelement.WebElement (session=\"dc9df953c7d3a1c5e138dae2792b5f97\", element=\"d57a820b-0c98-4777-8e1e-0413212d84fd\")>,\n",
       " <selenium.webdriver.remote.webelement.WebElement (session=\"dc9df953c7d3a1c5e138dae2792b5f97\", element=\"091f9ab3-6300-4dab-8618-b8cba105db1c\")>,\n",
       " <selenium.webdriver.remote.webelement.WebElement (session=\"dc9df953c7d3a1c5e138dae2792b5f97\", element=\"13968514-b065-4835-b86a-a4cee6c9e332\")>,\n",
       " <selenium.webdriver.remote.webelement.WebElement (session=\"dc9df953c7d3a1c5e138dae2792b5f97\", element=\"8ab3d647-f82f-4b15-9b77-4f75219af47b\")>]"
      ]
     },
     "execution_count": 6,
     "metadata": {},
     "output_type": "execute_result"
    }
   ],
   "source": [
    "# GET EACH COLLEGE SPECIFICATION HEADERS\n",
    "header=browser.find_elements(\"xpath\",\"//div[@class='_click-function_ind']\")\n",
    "header"
   ]
  },
  {
   "cell_type": "code",
   "execution_count": 7,
   "id": "4222efc1",
   "metadata": {},
   "outputs": [
    {
     "data": {
      "text/plain": [
       "['Overall Score',\n",
       " 'Academic Reputation',\n",
       " 'Employer Reputation',\n",
       " 'Citations per Faculty',\n",
       " 'Faculty Student Ratio',\n",
       " 'International Students Ratio',\n",
       " 'International Faculty Ratio',\n",
       " 'International Research Network\\nUnweighted',\n",
       " 'Employment Outcomes\\nUnweighted']"
      ]
     },
     "execution_count": 7,
     "metadata": {},
     "output_type": "execute_result"
    }
   ],
   "source": [
    "#PARSING DATA\n",
    "column_head=[]\n",
    "for data in header:\n",
    "    #get the text data\n",
    "    temp=data.text\n",
    "    column_head.append(temp)\n",
    "column_head"
   ]
  },
  {
   "cell_type": "code",
   "execution_count": 8,
   "id": "ed141d07",
   "metadata": {},
   "outputs": [
    {
     "data": {
      "text/plain": [
       "[<selenium.webdriver.remote.webelement.WebElement (session=\"dc9df953c7d3a1c5e138dae2792b5f97\", element=\"418cfad1-976f-4fef-874d-bdf3c35ea8b2\")>,\n",
       " <selenium.webdriver.remote.webelement.WebElement (session=\"dc9df953c7d3a1c5e138dae2792b5f97\", element=\"374f8457-0c03-4919-ba48-b22f729e32a1\")>,\n",
       " <selenium.webdriver.remote.webelement.WebElement (session=\"dc9df953c7d3a1c5e138dae2792b5f97\", element=\"675d102c-0c9f-4f4b-94a9-9d8ad2c813fd\")>,\n",
       " <selenium.webdriver.remote.webelement.WebElement (session=\"dc9df953c7d3a1c5e138dae2792b5f97\", element=\"00bccefa-0fe6-44ec-ab9e-712d5b004a07\")>,\n",
       " <selenium.webdriver.remote.webelement.WebElement (session=\"dc9df953c7d3a1c5e138dae2792b5f97\", element=\"cf4a377f-e092-4bfc-b65e-920cbd011e85\")>,\n",
       " <selenium.webdriver.remote.webelement.WebElement (session=\"dc9df953c7d3a1c5e138dae2792b5f97\", element=\"63400066-a75c-4f98-870d-aab4f47a32e1\")>,\n",
       " <selenium.webdriver.remote.webelement.WebElement (session=\"dc9df953c7d3a1c5e138dae2792b5f97\", element=\"b092593d-d99e-4c3e-8ecb-f52d016ee491\")>,\n",
       " <selenium.webdriver.remote.webelement.WebElement (session=\"dc9df953c7d3a1c5e138dae2792b5f97\", element=\"6dda4cb4-ddb1-49fc-aa96-df6061b7d747\")>,\n",
       " <selenium.webdriver.remote.webelement.WebElement (session=\"dc9df953c7d3a1c5e138dae2792b5f97\", element=\"83d2b829-31d7-4fa3-bc8c-3cad7372c7b0\")>,\n",
       " <selenium.webdriver.remote.webelement.WebElement (session=\"dc9df953c7d3a1c5e138dae2792b5f97\", element=\"e8793471-579e-4b73-b549-07879b3f97a5\")>,\n",
       " <selenium.webdriver.remote.webelement.WebElement (session=\"dc9df953c7d3a1c5e138dae2792b5f97\", element=\"1ad5a6c8-97e9-491a-89ed-999d73286d96\")>,\n",
       " <selenium.webdriver.remote.webelement.WebElement (session=\"dc9df953c7d3a1c5e138dae2792b5f97\", element=\"3ba686d9-9194-46e4-a841-9abf43197635\")>,\n",
       " <selenium.webdriver.remote.webelement.WebElement (session=\"dc9df953c7d3a1c5e138dae2792b5f97\", element=\"5421e2bf-90bb-4509-9035-923ecb11fdfe\")>,\n",
       " <selenium.webdriver.remote.webelement.WebElement (session=\"dc9df953c7d3a1c5e138dae2792b5f97\", element=\"3effa032-8e71-414a-adbd-8541bdf88069\")>,\n",
       " <selenium.webdriver.remote.webelement.WebElement (session=\"dc9df953c7d3a1c5e138dae2792b5f97\", element=\"70aa953d-af6e-4d55-a96b-5db0ee1e8a9a\")>,\n",
       " <selenium.webdriver.remote.webelement.WebElement (session=\"dc9df953c7d3a1c5e138dae2792b5f97\", element=\"7fb5951f-e2ca-40c7-8941-242b4c7a5868\")>,\n",
       " <selenium.webdriver.remote.webelement.WebElement (session=\"dc9df953c7d3a1c5e138dae2792b5f97\", element=\"796c0779-989d-4550-814d-670bf70b196e\")>,\n",
       " <selenium.webdriver.remote.webelement.WebElement (session=\"dc9df953c7d3a1c5e138dae2792b5f97\", element=\"b1728996-4c76-42e1-b5f9-b99719bc0a85\")>,\n",
       " <selenium.webdriver.remote.webelement.WebElement (session=\"dc9df953c7d3a1c5e138dae2792b5f97\", element=\"d6da0ad1-d647-4857-b07e-d7d44aa96298\")>,\n",
       " <selenium.webdriver.remote.webelement.WebElement (session=\"dc9df953c7d3a1c5e138dae2792b5f97\", element=\"9b94f1af-1ceb-4665-8e4e-c103dcaf935a\")>,\n",
       " <selenium.webdriver.remote.webelement.WebElement (session=\"dc9df953c7d3a1c5e138dae2792b5f97\", element=\"496e343f-2dfd-4eae-b4b4-189fff25bce2\")>,\n",
       " <selenium.webdriver.remote.webelement.WebElement (session=\"dc9df953c7d3a1c5e138dae2792b5f97\", element=\"9266957d-ab82-46d2-8f84-647f707e5132\")>,\n",
       " <selenium.webdriver.remote.webelement.WebElement (session=\"dc9df953c7d3a1c5e138dae2792b5f97\", element=\"fa09484d-845f-4ef0-beb7-21507b3f4239\")>,\n",
       " <selenium.webdriver.remote.webelement.WebElement (session=\"dc9df953c7d3a1c5e138dae2792b5f97\", element=\"dc1b8fde-51a9-4c9e-990f-6c4ad023aef3\")>,\n",
       " <selenium.webdriver.remote.webelement.WebElement (session=\"dc9df953c7d3a1c5e138dae2792b5f97\", element=\"dc0c4815-551e-46d1-8401-846099dbf9ca\")>,\n",
       " <selenium.webdriver.remote.webelement.WebElement (session=\"dc9df953c7d3a1c5e138dae2792b5f97\", element=\"00c52518-b5b5-406b-8cc1-f9c9b2ec019f\")>,\n",
       " <selenium.webdriver.remote.webelement.WebElement (session=\"dc9df953c7d3a1c5e138dae2792b5f97\", element=\"5038c3fe-1e7d-4a28-89f1-c785f4732dd2\")>,\n",
       " <selenium.webdriver.remote.webelement.WebElement (session=\"dc9df953c7d3a1c5e138dae2792b5f97\", element=\"2ad379ee-0fb5-459f-96f1-abcc836bf82f\")>,\n",
       " <selenium.webdriver.remote.webelement.WebElement (session=\"dc9df953c7d3a1c5e138dae2792b5f97\", element=\"2bed436e-315d-4138-9a3c-febeb5ef70f4\")>,\n",
       " <selenium.webdriver.remote.webelement.WebElement (session=\"dc9df953c7d3a1c5e138dae2792b5f97\", element=\"d00cb4b7-7742-4eaf-880d-2ebe0cc3b915\")>,\n",
       " <selenium.webdriver.remote.webelement.WebElement (session=\"dc9df953c7d3a1c5e138dae2792b5f97\", element=\"f0988eb6-bff0-4482-9fd1-7fe887c7b7db\")>,\n",
       " <selenium.webdriver.remote.webelement.WebElement (session=\"dc9df953c7d3a1c5e138dae2792b5f97\", element=\"528c219f-9119-4e23-90be-b3626466a813\")>,\n",
       " <selenium.webdriver.remote.webelement.WebElement (session=\"dc9df953c7d3a1c5e138dae2792b5f97\", element=\"6e9ddeb3-5327-49ef-bcd6-cadbfd85e62c\")>,\n",
       " <selenium.webdriver.remote.webelement.WebElement (session=\"dc9df953c7d3a1c5e138dae2792b5f97\", element=\"e4d84fc2-7d46-493c-81a1-55a5797335db\")>,\n",
       " <selenium.webdriver.remote.webelement.WebElement (session=\"dc9df953c7d3a1c5e138dae2792b5f97\", element=\"1709fa3f-dfaa-4fd4-aacf-d5624b2f6e61\")>,\n",
       " <selenium.webdriver.remote.webelement.WebElement (session=\"dc9df953c7d3a1c5e138dae2792b5f97\", element=\"160ea766-de4e-4fe4-aad5-0388be2f0a87\")>,\n",
       " <selenium.webdriver.remote.webelement.WebElement (session=\"dc9df953c7d3a1c5e138dae2792b5f97\", element=\"45299151-a9a6-49b9-a700-4d0406cc2bdf\")>,\n",
       " <selenium.webdriver.remote.webelement.WebElement (session=\"dc9df953c7d3a1c5e138dae2792b5f97\", element=\"d8d64ee4-fd28-4c05-95ea-055e7c628c0f\")>,\n",
       " <selenium.webdriver.remote.webelement.WebElement (session=\"dc9df953c7d3a1c5e138dae2792b5f97\", element=\"e58617b8-bfda-462e-99a3-050d86b8e133\")>,\n",
       " <selenium.webdriver.remote.webelement.WebElement (session=\"dc9df953c7d3a1c5e138dae2792b5f97\", element=\"b727ff69-5eaa-4e6c-ba60-a47291ffbe61\")>,\n",
       " <selenium.webdriver.remote.webelement.WebElement (session=\"dc9df953c7d3a1c5e138dae2792b5f97\", element=\"e21cca62-eb3f-4d13-a853-4d7df479506f\")>,\n",
       " <selenium.webdriver.remote.webelement.WebElement (session=\"dc9df953c7d3a1c5e138dae2792b5f97\", element=\"c8a9e70c-e400-48e0-917f-660e38ee23f4\")>,\n",
       " <selenium.webdriver.remote.webelement.WebElement (session=\"dc9df953c7d3a1c5e138dae2792b5f97\", element=\"b0794456-3c3f-4a7a-b1e0-90a885c18865\")>,\n",
       " <selenium.webdriver.remote.webelement.WebElement (session=\"dc9df953c7d3a1c5e138dae2792b5f97\", element=\"514435ab-fa31-4f5c-b231-233f4b62a857\")>,\n",
       " <selenium.webdriver.remote.webelement.WebElement (session=\"dc9df953c7d3a1c5e138dae2792b5f97\", element=\"9edfdc17-b460-4ca4-9856-a0727c8903fd\")>,\n",
       " <selenium.webdriver.remote.webelement.WebElement (session=\"dc9df953c7d3a1c5e138dae2792b5f97\", element=\"35620986-74c2-4c50-b1d0-262221416390\")>,\n",
       " <selenium.webdriver.remote.webelement.WebElement (session=\"dc9df953c7d3a1c5e138dae2792b5f97\", element=\"b3bdab90-d532-4b8a-815a-42d9926a2cc4\")>,\n",
       " <selenium.webdriver.remote.webelement.WebElement (session=\"dc9df953c7d3a1c5e138dae2792b5f97\", element=\"f07a4062-871c-4929-b43c-f57d5c379137\")>,\n",
       " <selenium.webdriver.remote.webelement.WebElement (session=\"dc9df953c7d3a1c5e138dae2792b5f97\", element=\"6d770ec9-a26c-47dc-9200-0437bfe2bd26\")>,\n",
       " <selenium.webdriver.remote.webelement.WebElement (session=\"dc9df953c7d3a1c5e138dae2792b5f97\", element=\"596442df-4886-46dd-bb91-02975942c288\")>,\n",
       " <selenium.webdriver.remote.webelement.WebElement (session=\"dc9df953c7d3a1c5e138dae2792b5f97\", element=\"33da85e1-b171-4784-b244-7c0bc8d90d09\")>,\n",
       " <selenium.webdriver.remote.webelement.WebElement (session=\"dc9df953c7d3a1c5e138dae2792b5f97\", element=\"cd7528a3-e013-4837-a3c6-676411d35a1f\")>,\n",
       " <selenium.webdriver.remote.webelement.WebElement (session=\"dc9df953c7d3a1c5e138dae2792b5f97\", element=\"b96c5a57-7015-4c30-b2ab-d3af38dfd108\")>,\n",
       " <selenium.webdriver.remote.webelement.WebElement (session=\"dc9df953c7d3a1c5e138dae2792b5f97\", element=\"d09b3b53-0f6e-4128-be08-049a18da34a5\")>,\n",
       " <selenium.webdriver.remote.webelement.WebElement (session=\"dc9df953c7d3a1c5e138dae2792b5f97\", element=\"c7e2f5d8-494e-4177-9aa1-193d773d00a2\")>,\n",
       " <selenium.webdriver.remote.webelement.WebElement (session=\"dc9df953c7d3a1c5e138dae2792b5f97\", element=\"bcef2c62-fa2a-41ff-a039-be994ce7adf9\")>,\n",
       " <selenium.webdriver.remote.webelement.WebElement (session=\"dc9df953c7d3a1c5e138dae2792b5f97\", element=\"e971b389-10c4-48b0-bfdc-661c78ae5c2e\")>,\n",
       " <selenium.webdriver.remote.webelement.WebElement (session=\"dc9df953c7d3a1c5e138dae2792b5f97\", element=\"4016c9bf-ce07-4860-b990-2da62300aa31\")>,\n",
       " <selenium.webdriver.remote.webelement.WebElement (session=\"dc9df953c7d3a1c5e138dae2792b5f97\", element=\"75928371-9bb5-4db9-b0bd-a40d77067d32\")>,\n",
       " <selenium.webdriver.remote.webelement.WebElement (session=\"dc9df953c7d3a1c5e138dae2792b5f97\", element=\"76548c83-c76c-48c9-b9a3-8252d7646b73\")>,\n",
       " <selenium.webdriver.remote.webelement.WebElement (session=\"dc9df953c7d3a1c5e138dae2792b5f97\", element=\"b6c49eaa-d4d6-41b2-800a-939822a5b1be\")>,\n",
       " <selenium.webdriver.remote.webelement.WebElement (session=\"dc9df953c7d3a1c5e138dae2792b5f97\", element=\"d4e968f4-9474-4631-8428-28b6176028d3\")>,\n",
       " <selenium.webdriver.remote.webelement.WebElement (session=\"dc9df953c7d3a1c5e138dae2792b5f97\", element=\"f7c5bd24-ad7e-4208-9683-a4bda5474f79\")>,\n",
       " <selenium.webdriver.remote.webelement.WebElement (session=\"dc9df953c7d3a1c5e138dae2792b5f97\", element=\"df1a68a0-b97f-4e86-9cfe-06e8a1788f3e\")>,\n",
       " <selenium.webdriver.remote.webelement.WebElement (session=\"dc9df953c7d3a1c5e138dae2792b5f97\", element=\"c5552f5d-4406-42ef-bbfd-a07e91339fa0\")>,\n",
       " <selenium.webdriver.remote.webelement.WebElement (session=\"dc9df953c7d3a1c5e138dae2792b5f97\", element=\"9b109d80-861f-48f5-9374-38808837e74b\")>,\n",
       " <selenium.webdriver.remote.webelement.WebElement (session=\"dc9df953c7d3a1c5e138dae2792b5f97\", element=\"19e12426-b1f6-4485-9f1d-a64c93d007f1\")>,\n",
       " <selenium.webdriver.remote.webelement.WebElement (session=\"dc9df953c7d3a1c5e138dae2792b5f97\", element=\"ac330d91-1464-4830-b920-7abc24d7c356\")>,\n",
       " <selenium.webdriver.remote.webelement.WebElement (session=\"dc9df953c7d3a1c5e138dae2792b5f97\", element=\"60879d8f-284f-4082-a93a-c4c24e8ed822\")>,\n",
       " <selenium.webdriver.remote.webelement.WebElement (session=\"dc9df953c7d3a1c5e138dae2792b5f97\", element=\"d73d8a3c-02d9-4f2a-a495-06c08c8d1ee9\")>,\n",
       " <selenium.webdriver.remote.webelement.WebElement (session=\"dc9df953c7d3a1c5e138dae2792b5f97\", element=\"74190f0d-6b1e-4512-9ca4-50e97c7bc58e\")>,\n",
       " <selenium.webdriver.remote.webelement.WebElement (session=\"dc9df953c7d3a1c5e138dae2792b5f97\", element=\"08560346-11f0-479e-aca0-c8c156f64502\")>,\n",
       " <selenium.webdriver.remote.webelement.WebElement (session=\"dc9df953c7d3a1c5e138dae2792b5f97\", element=\"986e459b-00e2-472a-be4e-1a67d9e6556c\")>,\n",
       " <selenium.webdriver.remote.webelement.WebElement (session=\"dc9df953c7d3a1c5e138dae2792b5f97\", element=\"b7340c52-e8fe-48b2-9167-ff93bfb178cc\")>,\n",
       " <selenium.webdriver.remote.webelement.WebElement (session=\"dc9df953c7d3a1c5e138dae2792b5f97\", element=\"ba5546ff-0bdc-4e28-9009-64e04c302819\")>,\n",
       " <selenium.webdriver.remote.webelement.WebElement (session=\"dc9df953c7d3a1c5e138dae2792b5f97\", element=\"cad92f6a-6b39-46ab-aa50-39dc21b7df6d\")>,\n",
       " <selenium.webdriver.remote.webelement.WebElement (session=\"dc9df953c7d3a1c5e138dae2792b5f97\", element=\"76b2106e-2218-48f8-88f4-8bde60926563\")>,\n",
       " <selenium.webdriver.remote.webelement.WebElement (session=\"dc9df953c7d3a1c5e138dae2792b5f97\", element=\"03b50470-b9ac-4a10-b40b-8a31407ad0e1\")>,\n",
       " <selenium.webdriver.remote.webelement.WebElement (session=\"dc9df953c7d3a1c5e138dae2792b5f97\", element=\"f280f0f6-7aed-4979-9a4f-1dc4fa0819ae\")>,\n",
       " <selenium.webdriver.remote.webelement.WebElement (session=\"dc9df953c7d3a1c5e138dae2792b5f97\", element=\"7863ac8b-b374-4e9c-b3f3-6a864195e826\")>,\n",
       " <selenium.webdriver.remote.webelement.WebElement (session=\"dc9df953c7d3a1c5e138dae2792b5f97\", element=\"80ca3da8-1fd6-4c00-8f1f-16df0916e88a\")>,\n",
       " <selenium.webdriver.remote.webelement.WebElement (session=\"dc9df953c7d3a1c5e138dae2792b5f97\", element=\"67f25b54-13e2-47a6-8e2a-9b89d2dbe673\")>,\n",
       " <selenium.webdriver.remote.webelement.WebElement (session=\"dc9df953c7d3a1c5e138dae2792b5f97\", element=\"3f836b6b-757b-4eeb-a10d-f141c40c2523\")>,\n",
       " <selenium.webdriver.remote.webelement.WebElement (session=\"dc9df953c7d3a1c5e138dae2792b5f97\", element=\"155a52b3-4d7e-4dfc-9ba9-35e24f75b80f\")>,\n",
       " <selenium.webdriver.remote.webelement.WebElement (session=\"dc9df953c7d3a1c5e138dae2792b5f97\", element=\"294030dd-49e8-4975-9f9d-54d67ba89464\")>,\n",
       " <selenium.webdriver.remote.webelement.WebElement (session=\"dc9df953c7d3a1c5e138dae2792b5f97\", element=\"15a17695-39b6-4a7b-8290-479886c3beb0\")>,\n",
       " <selenium.webdriver.remote.webelement.WebElement (session=\"dc9df953c7d3a1c5e138dae2792b5f97\", element=\"6733e952-8cbe-416b-b836-5f29b138aa5e\")>,\n",
       " <selenium.webdriver.remote.webelement.WebElement (session=\"dc9df953c7d3a1c5e138dae2792b5f97\", element=\"686aa867-808b-41cf-bbba-c9ce3bee65ad\")>,\n",
       " <selenium.webdriver.remote.webelement.WebElement (session=\"dc9df953c7d3a1c5e138dae2792b5f97\", element=\"53a22744-2d71-4089-926a-fb4d9bdd5212\")>,\n",
       " <selenium.webdriver.remote.webelement.WebElement (session=\"dc9df953c7d3a1c5e138dae2792b5f97\", element=\"d8233b1f-c630-4720-89b3-89316f1b5db1\")>,\n",
       " <selenium.webdriver.remote.webelement.WebElement (session=\"dc9df953c7d3a1c5e138dae2792b5f97\", element=\"c0dae083-11ab-4615-a481-55f4f1115658\")>,\n",
       " <selenium.webdriver.remote.webelement.WebElement (session=\"dc9df953c7d3a1c5e138dae2792b5f97\", element=\"aea37b1e-9ee1-4d11-a39b-fb1cb00e5195\")>,\n",
       " <selenium.webdriver.remote.webelement.WebElement (session=\"dc9df953c7d3a1c5e138dae2792b5f97\", element=\"2feae03c-2948-4e74-8dc6-e1656580ac6f\")>,\n",
       " <selenium.webdriver.remote.webelement.WebElement (session=\"dc9df953c7d3a1c5e138dae2792b5f97\", element=\"aafaa2e9-d025-44d8-a0f8-f020ba3c457c\")>,\n",
       " <selenium.webdriver.remote.webelement.WebElement (session=\"dc9df953c7d3a1c5e138dae2792b5f97\", element=\"f0868ee7-1735-41e7-874b-4e854da42555\")>,\n",
       " <selenium.webdriver.remote.webelement.WebElement (session=\"dc9df953c7d3a1c5e138dae2792b5f97\", element=\"41b9d2f7-ac4a-4050-b49c-e698708c315c\")>,\n",
       " <selenium.webdriver.remote.webelement.WebElement (session=\"dc9df953c7d3a1c5e138dae2792b5f97\", element=\"95b18c2a-3dc5-4550-9ebf-edd71f9eb58e\")>,\n",
       " <selenium.webdriver.remote.webelement.WebElement (session=\"dc9df953c7d3a1c5e138dae2792b5f97\", element=\"2ccea0a0-3c3e-4d15-a7c8-7f6b54fe3ef6\")>,\n",
       " <selenium.webdriver.remote.webelement.WebElement (session=\"dc9df953c7d3a1c5e138dae2792b5f97\", element=\"2e76905b-ace0-4905-8836-ba18d048e2ee\")>,\n",
       " <selenium.webdriver.remote.webelement.WebElement (session=\"dc9df953c7d3a1c5e138dae2792b5f97\", element=\"886a8787-5ca6-4fe6-8379-79d7f0daeedd\")>]"
      ]
     },
     "execution_count": 8,
     "metadata": {},
     "output_type": "execute_result"
    }
   ],
   "source": [
    "header2=browser.find_elements(\"xpath\",\"//div[@class='td-wrap-in']\")\n",
    "header2\n"
   ]
  },
  {
   "cell_type": "code",
   "execution_count": 9,
   "id": "27a55c2d",
   "metadata": {},
   "outputs": [
    {
     "data": {
      "text/plain": [
       "['88.4', '90.4', '76.1', '94.1', '83.2', '74.1', '100', '89.6', '84.6']"
      ]
     },
     "execution_count": 9,
     "metadata": {},
     "output_type": "execute_result"
    }
   ],
   "source": [
    "#PARSING DATA\n",
    "value_head=[]\n",
    "for data in header2:\n",
    "    #get the text data\n",
    "    temp=data.text\n",
    "    value_head.append(temp)\n",
    "value_head=value_head[81:90]\n",
    "value_head"
   ]
  },
  {
   "cell_type": "code",
   "execution_count": 10,
   "id": "18f1dff0",
   "metadata": {},
   "outputs": [
    {
     "data": {
      "text/plain": [
       "{'Overall Score': '88.4',\n",
       " 'Academic Reputation': '90.4',\n",
       " 'Employer Reputation': '76.1',\n",
       " 'Citations per Faculty': '94.1',\n",
       " 'Faculty Student Ratio': '83.2',\n",
       " 'International Students Ratio': '74.1',\n",
       " 'International Faculty Ratio': '100',\n",
       " 'International Research Network\\nUnweighted': '89.6',\n",
       " 'Employment Outcomes\\nUnweighted': '84.6'}"
      ]
     },
     "execution_count": 10,
     "metadata": {},
     "output_type": "execute_result"
    }
   ],
   "source": [
    "d={}\n",
    "for i in range(len(column_head)):\n",
    "    d[column_head[i]]=value_head[i]\n",
    "d"
   ]
  },
  {
   "cell_type": "code",
   "execution_count": 11,
   "id": "d84128a5",
   "metadata": {},
   "outputs": [
    {
     "data": {
      "text/plain": [
       "'{\"Overall Score\": \"88.4\", \"Academic Reputation\": \"90.4\", \"Employer Reputation\": \"76.1\", \"Citations per Faculty\": \"94.1\", \"Faculty Student Ratio\": \"83.2\", \"International Students Ratio\": \"74.1\", \"International Faculty Ratio\": \"100\", \"International Research Network\\\\nUnweighted\": \"89.6\", \"Employment Outcomes\\\\nUnweighted\": \"84.6\"}'"
      ]
     },
     "execution_count": 11,
     "metadata": {},
     "output_type": "execute_result"
    }
   ],
   "source": [
    "s1=json.dumps(d)\n",
    "s1"
   ]
  },
  {
   "cell_type": "code",
   "execution_count": 12,
   "id": "813825e1",
   "metadata": {},
   "outputs": [],
   "source": [
    "with open('Nanyang Technological University, Singapore (NTU).json','w') as f:\n",
    "    json.dump(d,f)"
   ]
  }
 ],
 "metadata": {
  "kernelspec": {
   "display_name": "Python 3 (ipykernel)",
   "language": "python",
   "name": "python3"
  },
  "language_info": {
   "codemirror_mode": {
    "name": "ipython",
    "version": 3
   },
   "file_extension": ".py",
   "mimetype": "text/x-python",
   "name": "python",
   "nbconvert_exporter": "python",
   "pygments_lexer": "ipython3",
   "version": "3.9.12"
  }
 },
 "nbformat": 4,
 "nbformat_minor": 5
}
