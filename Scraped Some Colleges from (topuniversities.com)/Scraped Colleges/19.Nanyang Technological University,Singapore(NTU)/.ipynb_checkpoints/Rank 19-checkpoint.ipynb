{
 "cells": [
  {
   "cell_type": "code",
   "execution_count": 1,
   "id": "dd53a4a2",
   "metadata": {},
   "outputs": [],
   "source": [
    "from selenium import webdriver\n",
    "from selenium.webdriver.chrome.service import Service\n",
    "import pandas as pd\n",
    "import json"
   ]
  },
  {
   "cell_type": "code",
   "execution_count": 2,
   "id": "458fe567",
   "metadata": {},
   "outputs": [],
   "source": [
    "path = Service('C:\\chromedriver.exe')\n"
   ]
  },
  {
   "cell_type": "code",
   "execution_count": 3,
   "id": "b6b8d00e",
   "metadata": {},
   "outputs": [],
   "source": [
    "# set path for the driver\n",
    "browser = webdriver.Chrome(service = path)"
   ]
  },
  {
   "cell_type": "code",
   "execution_count": 4,
   "id": "37a1adb0",
   "metadata": {},
   "outputs": [],
   "source": [
    "url = \"https://www.topuniversities.com/university-rankings/world-university-rankings/2023\""
   ]
  },
  {
   "cell_type": "code",
   "execution_count": 5,
   "id": "2930f839",
   "metadata": {},
   "outputs": [],
   "source": [
    "# open the page url ion chrome\n",
    "browser.get(url)\n"
   ]
  },
  {
   "cell_type": "code",
   "execution_count": 6,
   "id": "5a3eb1e0",
   "metadata": {},
   "outputs": [
    {
     "data": {
      "text/plain": [
       "[<selenium.webdriver.remote.webelement.WebElement (session=\"0389fe2e7b975bac90eb7151c2626a07\", element=\"51fabd41-e4e1-4ef7-b41c-c010418686aa\")>,\n",
       " <selenium.webdriver.remote.webelement.WebElement (session=\"0389fe2e7b975bac90eb7151c2626a07\", element=\"757e4202-0eeb-4a64-9332-5855e9ec1a65\")>,\n",
       " <selenium.webdriver.remote.webelement.WebElement (session=\"0389fe2e7b975bac90eb7151c2626a07\", element=\"8ccf7697-bea9-481b-89ab-09f9f571fc14\")>,\n",
       " <selenium.webdriver.remote.webelement.WebElement (session=\"0389fe2e7b975bac90eb7151c2626a07\", element=\"b3106111-f7a3-423e-a194-dafe5f9ecb91\")>,\n",
       " <selenium.webdriver.remote.webelement.WebElement (session=\"0389fe2e7b975bac90eb7151c2626a07\", element=\"aadbf501-2520-4600-9e7d-bf25f76ccc69\")>,\n",
       " <selenium.webdriver.remote.webelement.WebElement (session=\"0389fe2e7b975bac90eb7151c2626a07\", element=\"263b6d94-4f96-431b-8185-718d9fe74e47\")>,\n",
       " <selenium.webdriver.remote.webelement.WebElement (session=\"0389fe2e7b975bac90eb7151c2626a07\", element=\"c6dea771-f7a3-4ffc-9839-7f6d7b85fa8e\")>,\n",
       " <selenium.webdriver.remote.webelement.WebElement (session=\"0389fe2e7b975bac90eb7151c2626a07\", element=\"0162a3b2-f414-4d54-bfd8-11480c047096\")>,\n",
       " <selenium.webdriver.remote.webelement.WebElement (session=\"0389fe2e7b975bac90eb7151c2626a07\", element=\"4b8a5676-3809-4d7b-acac-15f4ea5d2a58\")>,\n",
       " <selenium.webdriver.remote.webelement.WebElement (session=\"0389fe2e7b975bac90eb7151c2626a07\", element=\"4f169ae5-d145-45a5-8587-db95614eaa0f\")>,\n",
       " <selenium.webdriver.remote.webelement.WebElement (session=\"0389fe2e7b975bac90eb7151c2626a07\", element=\"e86e37d8-4b9b-4cc5-8739-91d5f0e84f55\")>,\n",
       " <selenium.webdriver.remote.webelement.WebElement (session=\"0389fe2e7b975bac90eb7151c2626a07\", element=\"cd109283-41e3-4d57-80f9-830b83413203\")>,\n",
       " <selenium.webdriver.remote.webelement.WebElement (session=\"0389fe2e7b975bac90eb7151c2626a07\", element=\"9fe58766-5dde-4d6c-a9c7-af208ac1deac\")>,\n",
       " <selenium.webdriver.remote.webelement.WebElement (session=\"0389fe2e7b975bac90eb7151c2626a07\", element=\"631472ff-8440-444f-b67d-401b56bcae64\")>,\n",
       " <selenium.webdriver.remote.webelement.WebElement (session=\"0389fe2e7b975bac90eb7151c2626a07\", element=\"cfcb294e-dedf-449b-b979-34bec0cee00f\")>,\n",
       " <selenium.webdriver.remote.webelement.WebElement (session=\"0389fe2e7b975bac90eb7151c2626a07\", element=\"cafe7c77-9a6c-4cfb-bf1d-4e60b80ffc05\")>,\n",
       " <selenium.webdriver.remote.webelement.WebElement (session=\"0389fe2e7b975bac90eb7151c2626a07\", element=\"192c5ab3-c6c4-4aed-9ba4-1b423c324d0d\")>,\n",
       " <selenium.webdriver.remote.webelement.WebElement (session=\"0389fe2e7b975bac90eb7151c2626a07\", element=\"1bcc836e-999e-49bf-9fe0-a09bc5ec169c\")>,\n",
       " <selenium.webdriver.remote.webelement.WebElement (session=\"0389fe2e7b975bac90eb7151c2626a07\", element=\"4a4b6ffe-db78-4237-92af-8f0577b63647\")>,\n",
       " <selenium.webdriver.remote.webelement.WebElement (session=\"0389fe2e7b975bac90eb7151c2626a07\", element=\"15b8fa7a-95f1-45b5-b399-132a962748d7\")>]"
      ]
     },
     "execution_count": 6,
     "metadata": {},
     "output_type": "execute_result"
    }
   ],
   "source": [
    "l1=browser.find_elements(\"xpath\",\"//div[@class='location ']\")\n",
    "l1"
   ]
  },
  {
   "cell_type": "code",
   "execution_count": 7,
   "id": "e8fc7eea",
   "metadata": {},
   "outputs": [
    {
     "data": {
      "text/plain": [
       "['Singapore, Singapore',\n",
       " 'Beijing, China (Mainland)',\n",
       " 'Philadelphia, United States',\n",
       " 'Beijing, China (Mainland)',\n",
       " 'Edinburgh, United Kingdom',\n",
       " 'Lausanne, Switzerland',\n",
       " 'Princeton, United States',\n",
       " 'New Haven, United States',\n",
       " 'Singapore, Singapore',\n",
       " 'Ithaca, United States']"
      ]
     },
     "execution_count": 7,
     "metadata": {},
     "output_type": "execute_result"
    }
   ],
   "source": [
    "loc=[]\n",
    "for data in l1:\n",
    "    #get the text data\n",
    "    temp=data.text\n",
    "    loc.append(temp)\n",
    "loc=loc[10:]\n",
    "loc"
   ]
  },
  {
   "cell_type": "code",
   "execution_count": 8,
   "id": "24864f19",
   "metadata": {},
   "outputs": [
    {
     "data": {
      "text/plain": [
       "[<selenium.webdriver.remote.webelement.WebElement (session=\"0389fe2e7b975bac90eb7151c2626a07\", element=\"eb49635e-3662-4a44-8e71-0df51553c834\")>,\n",
       " <selenium.webdriver.remote.webelement.WebElement (session=\"0389fe2e7b975bac90eb7151c2626a07\", element=\"69a57e23-5aee-47bc-9ae1-054bf1a78b96\")>,\n",
       " <selenium.webdriver.remote.webelement.WebElement (session=\"0389fe2e7b975bac90eb7151c2626a07\", element=\"3b5c9ce8-117a-411a-9daf-9f017a8a3c60\")>,\n",
       " <selenium.webdriver.remote.webelement.WebElement (session=\"0389fe2e7b975bac90eb7151c2626a07\", element=\"91404a53-f1e6-405d-b35e-1f2344053b5e\")>,\n",
       " <selenium.webdriver.remote.webelement.WebElement (session=\"0389fe2e7b975bac90eb7151c2626a07\", element=\"bb8ae8cd-e03b-4078-bc98-a7609dfc728b\")>,\n",
       " <selenium.webdriver.remote.webelement.WebElement (session=\"0389fe2e7b975bac90eb7151c2626a07\", element=\"bb8aa122-c677-4599-88c2-b457d6932420\")>,\n",
       " <selenium.webdriver.remote.webelement.WebElement (session=\"0389fe2e7b975bac90eb7151c2626a07\", element=\"5bf8f756-25f8-4391-bae6-3bbd5cd2fe93\")>,\n",
       " <selenium.webdriver.remote.webelement.WebElement (session=\"0389fe2e7b975bac90eb7151c2626a07\", element=\"97f1791b-da32-4f9c-8588-c5e880f5f434\")>,\n",
       " <selenium.webdriver.remote.webelement.WebElement (session=\"0389fe2e7b975bac90eb7151c2626a07\", element=\"86791ec2-2155-4ae3-a911-236c6c47b7aa\")>,\n",
       " <selenium.webdriver.remote.webelement.WebElement (session=\"0389fe2e7b975bac90eb7151c2626a07\", element=\"645c0790-a6e1-4d41-9ff0-cc5a8911d0fe\")>]"
      ]
     },
     "execution_count": 8,
     "metadata": {},
     "output_type": "execute_result"
    }
   ],
   "source": [
    "l2=browser.find_elements(\"xpath\",\"//div[@class='_univ-rank ']\")\n",
    "l2"
   ]
  },
  {
   "cell_type": "code",
   "execution_count": 9,
   "id": "8496b322",
   "metadata": {},
   "outputs": [
    {
     "data": {
      "text/plain": [
       "['11', '12', '13', '14', '15', '=16', '=16', '18', '19', '20']"
      ]
     },
     "execution_count": 9,
     "metadata": {},
     "output_type": "execute_result"
    }
   ],
   "source": [
    "RANK=[]\n",
    "for data in l2:\n",
    "    #get the text data\n",
    "    temp=data.text\n",
    "    RANK.append(temp)\n",
    "RANK"
   ]
  },
  {
   "cell_type": "code",
   "execution_count": 10,
   "id": "63fab844",
   "metadata": {},
   "outputs": [
    {
     "data": {
      "text/plain": [
       "[<selenium.webdriver.remote.webelement.WebElement (session=\"0389fe2e7b975bac90eb7151c2626a07\", element=\"fdf5d204-e016-448b-b969-5c9ce9b55e28\")>,\n",
       " <selenium.webdriver.remote.webelement.WebElement (session=\"0389fe2e7b975bac90eb7151c2626a07\", element=\"8e1208eb-8005-4946-97d9-3e9245c9dae2\")>,\n",
       " <selenium.webdriver.remote.webelement.WebElement (session=\"0389fe2e7b975bac90eb7151c2626a07\", element=\"0eceaa5b-850e-4e02-aa04-57721ed2ff6b\")>,\n",
       " <selenium.webdriver.remote.webelement.WebElement (session=\"0389fe2e7b975bac90eb7151c2626a07\", element=\"cd323e60-72b3-4dc4-9740-4cbef373a5ee\")>,\n",
       " <selenium.webdriver.remote.webelement.WebElement (session=\"0389fe2e7b975bac90eb7151c2626a07\", element=\"67d15772-0083-411c-b71b-477dca6c2a01\")>,\n",
       " <selenium.webdriver.remote.webelement.WebElement (session=\"0389fe2e7b975bac90eb7151c2626a07\", element=\"cc90211d-5b5d-423c-b0a1-735b5403f1e0\")>,\n",
       " <selenium.webdriver.remote.webelement.WebElement (session=\"0389fe2e7b975bac90eb7151c2626a07\", element=\"c4daf8f0-bb63-4e06-8772-44bc24a58df0\")>,\n",
       " <selenium.webdriver.remote.webelement.WebElement (session=\"0389fe2e7b975bac90eb7151c2626a07\", element=\"72ef2043-b117-4e2b-b85d-d7e20b27cd23\")>,\n",
       " <selenium.webdriver.remote.webelement.WebElement (session=\"0389fe2e7b975bac90eb7151c2626a07\", element=\"0898b25a-4a4f-4772-9914-c44338575ad2\")>]"
      ]
     },
     "execution_count": 10,
     "metadata": {},
     "output_type": "execute_result"
    }
   ],
   "source": [
    "# GET EACH COLLEGE SPECIFICATION HEADERS\n",
    "header=browser.find_elements(\"xpath\",\"//div[@class='_click-function_ind']\")\n",
    "header"
   ]
  },
  {
   "cell_type": "code",
   "execution_count": 11,
   "id": "4222efc1",
   "metadata": {},
   "outputs": [
    {
     "data": {
      "text/plain": [
       "['Overall Score',\n",
       " 'Academic Reputation',\n",
       " 'Employer Reputation',\n",
       " 'Citations per Faculty',\n",
       " 'Faculty Student Ratio',\n",
       " 'International Students Ratio',\n",
       " 'International Faculty Ratio',\n",
       " 'International Research Network\\nUnweighted',\n",
       " 'Employment Outcomes\\nUnweighted']"
      ]
     },
     "execution_count": 11,
     "metadata": {},
     "output_type": "execute_result"
    }
   ],
   "source": [
    "#PARSING DATA\n",
    "column_head=[]\n",
    "for data in header:\n",
    "    #get the text data\n",
    "    temp=data.text\n",
    "    column_head.append(temp)\n",
    "column_head"
   ]
  },
  {
   "cell_type": "code",
   "execution_count": 12,
   "id": "ed141d07",
   "metadata": {},
   "outputs": [
    {
     "data": {
      "text/plain": [
       "[<selenium.webdriver.remote.webelement.WebElement (session=\"0389fe2e7b975bac90eb7151c2626a07\", element=\"924d78ab-9ba8-4082-b7ac-84981166963e\")>,\n",
       " <selenium.webdriver.remote.webelement.WebElement (session=\"0389fe2e7b975bac90eb7151c2626a07\", element=\"391981ac-d790-435a-9e41-344d89ede740\")>,\n",
       " <selenium.webdriver.remote.webelement.WebElement (session=\"0389fe2e7b975bac90eb7151c2626a07\", element=\"bee08431-e025-4ecc-965d-f8aa18636e80\")>,\n",
       " <selenium.webdriver.remote.webelement.WebElement (session=\"0389fe2e7b975bac90eb7151c2626a07\", element=\"3513cd22-5df9-40ee-9ab2-d759b0cf10a0\")>,\n",
       " <selenium.webdriver.remote.webelement.WebElement (session=\"0389fe2e7b975bac90eb7151c2626a07\", element=\"5b435917-ef42-4dce-8c92-d03fbca87559\")>,\n",
       " <selenium.webdriver.remote.webelement.WebElement (session=\"0389fe2e7b975bac90eb7151c2626a07\", element=\"705b1f94-e985-4531-9d8f-9409d5346adf\")>,\n",
       " <selenium.webdriver.remote.webelement.WebElement (session=\"0389fe2e7b975bac90eb7151c2626a07\", element=\"5a0e3a3f-8655-4926-b28d-9b4a6d43acf5\")>,\n",
       " <selenium.webdriver.remote.webelement.WebElement (session=\"0389fe2e7b975bac90eb7151c2626a07\", element=\"35f5b546-3b55-4e68-95e4-3d4a41b614d5\")>,\n",
       " <selenium.webdriver.remote.webelement.WebElement (session=\"0389fe2e7b975bac90eb7151c2626a07\", element=\"3194c049-6926-41ce-b27d-0d6f3c31b939\")>,\n",
       " <selenium.webdriver.remote.webelement.WebElement (session=\"0389fe2e7b975bac90eb7151c2626a07\", element=\"92cd4e07-06e7-4d05-b0f9-aa9fa379ef85\")>,\n",
       " <selenium.webdriver.remote.webelement.WebElement (session=\"0389fe2e7b975bac90eb7151c2626a07\", element=\"9b026dd0-f295-439e-b36f-f54c4c6f38c7\")>,\n",
       " <selenium.webdriver.remote.webelement.WebElement (session=\"0389fe2e7b975bac90eb7151c2626a07\", element=\"8e611a30-bfc8-41eb-83ad-67bb777f3afb\")>,\n",
       " <selenium.webdriver.remote.webelement.WebElement (session=\"0389fe2e7b975bac90eb7151c2626a07\", element=\"aa91311a-85d3-4c26-8991-877868f512ab\")>,\n",
       " <selenium.webdriver.remote.webelement.WebElement (session=\"0389fe2e7b975bac90eb7151c2626a07\", element=\"6e7e74b4-1f19-47ff-ad2c-136ee73f9229\")>,\n",
       " <selenium.webdriver.remote.webelement.WebElement (session=\"0389fe2e7b975bac90eb7151c2626a07\", element=\"6b6c263b-8cd3-4a5e-83e6-298813b78b39\")>,\n",
       " <selenium.webdriver.remote.webelement.WebElement (session=\"0389fe2e7b975bac90eb7151c2626a07\", element=\"4bcd293e-e11d-4022-a98f-4b961b3366ca\")>,\n",
       " <selenium.webdriver.remote.webelement.WebElement (session=\"0389fe2e7b975bac90eb7151c2626a07\", element=\"885719ad-0629-4d1c-9841-a35539178b31\")>,\n",
       " <selenium.webdriver.remote.webelement.WebElement (session=\"0389fe2e7b975bac90eb7151c2626a07\", element=\"f0b81cb5-5bb2-4a35-b37e-058cb24025d1\")>,\n",
       " <selenium.webdriver.remote.webelement.WebElement (session=\"0389fe2e7b975bac90eb7151c2626a07\", element=\"85206489-9804-44a1-b108-be24b8153f72\")>,\n",
       " <selenium.webdriver.remote.webelement.WebElement (session=\"0389fe2e7b975bac90eb7151c2626a07\", element=\"03d093d0-02cf-40a6-be31-75d286d19d6c\")>,\n",
       " <selenium.webdriver.remote.webelement.WebElement (session=\"0389fe2e7b975bac90eb7151c2626a07\", element=\"4f9630d1-7a04-448d-af05-a07ed204d744\")>,\n",
       " <selenium.webdriver.remote.webelement.WebElement (session=\"0389fe2e7b975bac90eb7151c2626a07\", element=\"98d57c33-1410-4091-9b89-9e8a24e8b5ce\")>,\n",
       " <selenium.webdriver.remote.webelement.WebElement (session=\"0389fe2e7b975bac90eb7151c2626a07\", element=\"1dc6345d-eb14-4faa-b13b-95d84ec0e6bb\")>,\n",
       " <selenium.webdriver.remote.webelement.WebElement (session=\"0389fe2e7b975bac90eb7151c2626a07\", element=\"f75150e4-69c4-49ff-8c79-92d7e0ce9634\")>,\n",
       " <selenium.webdriver.remote.webelement.WebElement (session=\"0389fe2e7b975bac90eb7151c2626a07\", element=\"5620159d-4c1d-4ac6-8966-d94c44ecec62\")>,\n",
       " <selenium.webdriver.remote.webelement.WebElement (session=\"0389fe2e7b975bac90eb7151c2626a07\", element=\"37db7c58-5238-4b27-9711-44fce2339fd6\")>,\n",
       " <selenium.webdriver.remote.webelement.WebElement (session=\"0389fe2e7b975bac90eb7151c2626a07\", element=\"92825a7d-b2d7-423a-bbec-9579e2f64c3d\")>,\n",
       " <selenium.webdriver.remote.webelement.WebElement (session=\"0389fe2e7b975bac90eb7151c2626a07\", element=\"6aa85fce-9fc8-4d71-ac0b-85f8d6863f0d\")>,\n",
       " <selenium.webdriver.remote.webelement.WebElement (session=\"0389fe2e7b975bac90eb7151c2626a07\", element=\"3923d4a6-a367-4d6b-bacd-b7c88af6e468\")>,\n",
       " <selenium.webdriver.remote.webelement.WebElement (session=\"0389fe2e7b975bac90eb7151c2626a07\", element=\"c852fb18-b6b8-47ba-a8f5-00293acdce4a\")>,\n",
       " <selenium.webdriver.remote.webelement.WebElement (session=\"0389fe2e7b975bac90eb7151c2626a07\", element=\"1558f20b-3ddb-4dfa-b41d-5e4a68cf7ace\")>,\n",
       " <selenium.webdriver.remote.webelement.WebElement (session=\"0389fe2e7b975bac90eb7151c2626a07\", element=\"e957ae3d-d70e-4d09-8a4e-17f5d85f3341\")>,\n",
       " <selenium.webdriver.remote.webelement.WebElement (session=\"0389fe2e7b975bac90eb7151c2626a07\", element=\"01bf26b9-8bd8-4a31-9076-48179ce86054\")>,\n",
       " <selenium.webdriver.remote.webelement.WebElement (session=\"0389fe2e7b975bac90eb7151c2626a07\", element=\"ad252683-bca0-463c-9386-1e6b57b94423\")>,\n",
       " <selenium.webdriver.remote.webelement.WebElement (session=\"0389fe2e7b975bac90eb7151c2626a07\", element=\"2fcc4169-d4fd-4010-9a79-9430692fd269\")>,\n",
       " <selenium.webdriver.remote.webelement.WebElement (session=\"0389fe2e7b975bac90eb7151c2626a07\", element=\"91959845-be4b-4f89-b697-30b7823e896a\")>,\n",
       " <selenium.webdriver.remote.webelement.WebElement (session=\"0389fe2e7b975bac90eb7151c2626a07\", element=\"cbc74fb9-1fe2-457e-b610-6eca33754262\")>,\n",
       " <selenium.webdriver.remote.webelement.WebElement (session=\"0389fe2e7b975bac90eb7151c2626a07\", element=\"2bba3420-81cb-4868-9e00-89d9096b253d\")>,\n",
       " <selenium.webdriver.remote.webelement.WebElement (session=\"0389fe2e7b975bac90eb7151c2626a07\", element=\"803b81c5-1a38-42c8-94f3-58f0b6e90baa\")>,\n",
       " <selenium.webdriver.remote.webelement.WebElement (session=\"0389fe2e7b975bac90eb7151c2626a07\", element=\"1360b7f9-2495-4388-ac89-17419be177f0\")>,\n",
       " <selenium.webdriver.remote.webelement.WebElement (session=\"0389fe2e7b975bac90eb7151c2626a07\", element=\"67afe3d9-b59d-4223-b7cb-38e020a8be14\")>,\n",
       " <selenium.webdriver.remote.webelement.WebElement (session=\"0389fe2e7b975bac90eb7151c2626a07\", element=\"b58ffc17-abb0-467c-9232-048d7677b946\")>,\n",
       " <selenium.webdriver.remote.webelement.WebElement (session=\"0389fe2e7b975bac90eb7151c2626a07\", element=\"3266d0d0-697a-4a07-a8a0-0fa6568eb6ef\")>,\n",
       " <selenium.webdriver.remote.webelement.WebElement (session=\"0389fe2e7b975bac90eb7151c2626a07\", element=\"f45af0eb-e1e4-4f6e-92c1-160ebe4690f6\")>,\n",
       " <selenium.webdriver.remote.webelement.WebElement (session=\"0389fe2e7b975bac90eb7151c2626a07\", element=\"819a6454-83b9-421a-8365-4b37eba1d888\")>,\n",
       " <selenium.webdriver.remote.webelement.WebElement (session=\"0389fe2e7b975bac90eb7151c2626a07\", element=\"5dee199c-701d-44eb-a794-0147e9fe07b4\")>,\n",
       " <selenium.webdriver.remote.webelement.WebElement (session=\"0389fe2e7b975bac90eb7151c2626a07\", element=\"9545e8ae-4700-4438-a510-d69218bbaf7e\")>,\n",
       " <selenium.webdriver.remote.webelement.WebElement (session=\"0389fe2e7b975bac90eb7151c2626a07\", element=\"403cb2d3-1e0a-4658-928a-9679bd093f4e\")>,\n",
       " <selenium.webdriver.remote.webelement.WebElement (session=\"0389fe2e7b975bac90eb7151c2626a07\", element=\"71cab109-4530-411a-97e6-1c6c82512a5e\")>,\n",
       " <selenium.webdriver.remote.webelement.WebElement (session=\"0389fe2e7b975bac90eb7151c2626a07\", element=\"ce318742-28b2-408b-b371-1c939f3ddc24\")>,\n",
       " <selenium.webdriver.remote.webelement.WebElement (session=\"0389fe2e7b975bac90eb7151c2626a07\", element=\"b49de1c0-6ef4-46f8-84bb-0c85422dc572\")>,\n",
       " <selenium.webdriver.remote.webelement.WebElement (session=\"0389fe2e7b975bac90eb7151c2626a07\", element=\"25723da0-73d2-49ba-8401-91ee91820e45\")>,\n",
       " <selenium.webdriver.remote.webelement.WebElement (session=\"0389fe2e7b975bac90eb7151c2626a07\", element=\"decde58e-5c6e-48f7-9e7c-c02be174336c\")>,\n",
       " <selenium.webdriver.remote.webelement.WebElement (session=\"0389fe2e7b975bac90eb7151c2626a07\", element=\"0a884dbc-d4dd-4c09-b664-b7cbde23ce3b\")>,\n",
       " <selenium.webdriver.remote.webelement.WebElement (session=\"0389fe2e7b975bac90eb7151c2626a07\", element=\"7d313cde-adb2-4bc0-aff4-e6127dc9a9e7\")>,\n",
       " <selenium.webdriver.remote.webelement.WebElement (session=\"0389fe2e7b975bac90eb7151c2626a07\", element=\"7de8b057-2073-4e89-8b69-dfaa2ca97ddd\")>,\n",
       " <selenium.webdriver.remote.webelement.WebElement (session=\"0389fe2e7b975bac90eb7151c2626a07\", element=\"e0bec863-5e4f-403b-802a-d2f95b09afdc\")>,\n",
       " <selenium.webdriver.remote.webelement.WebElement (session=\"0389fe2e7b975bac90eb7151c2626a07\", element=\"30b25d73-bdc8-47a1-b573-192e181dc2ac\")>,\n",
       " <selenium.webdriver.remote.webelement.WebElement (session=\"0389fe2e7b975bac90eb7151c2626a07\", element=\"d102684b-c86f-4833-8604-a208cf66f46f\")>,\n",
       " <selenium.webdriver.remote.webelement.WebElement (session=\"0389fe2e7b975bac90eb7151c2626a07\", element=\"74b5bb23-3818-4e9e-a636-2bdeac25da29\")>,\n",
       " <selenium.webdriver.remote.webelement.WebElement (session=\"0389fe2e7b975bac90eb7151c2626a07\", element=\"9dcdb4db-ff79-486d-8307-bc2673c8d04c\")>,\n",
       " <selenium.webdriver.remote.webelement.WebElement (session=\"0389fe2e7b975bac90eb7151c2626a07\", element=\"e4f0f9df-6880-4eed-a182-9d70c4f6d60c\")>,\n",
       " <selenium.webdriver.remote.webelement.WebElement (session=\"0389fe2e7b975bac90eb7151c2626a07\", element=\"381c3ac5-6534-4110-a1ae-de1bfa1bf465\")>,\n",
       " <selenium.webdriver.remote.webelement.WebElement (session=\"0389fe2e7b975bac90eb7151c2626a07\", element=\"656d1959-0c56-485d-a143-aa0ac93f66ae\")>,\n",
       " <selenium.webdriver.remote.webelement.WebElement (session=\"0389fe2e7b975bac90eb7151c2626a07\", element=\"49811443-182d-4eae-be9d-26ba735962b9\")>,\n",
       " <selenium.webdriver.remote.webelement.WebElement (session=\"0389fe2e7b975bac90eb7151c2626a07\", element=\"7ec3e3b7-a638-48a6-8081-1777d228e51d\")>,\n",
       " <selenium.webdriver.remote.webelement.WebElement (session=\"0389fe2e7b975bac90eb7151c2626a07\", element=\"37f0d5a7-6017-4c04-bf6b-b0932459de1c\")>,\n",
       " <selenium.webdriver.remote.webelement.WebElement (session=\"0389fe2e7b975bac90eb7151c2626a07\", element=\"cb5cdf9a-d433-4110-87e6-6db476d0e365\")>,\n",
       " <selenium.webdriver.remote.webelement.WebElement (session=\"0389fe2e7b975bac90eb7151c2626a07\", element=\"ca67c8ea-cb83-4245-8819-07d7383907da\")>,\n",
       " <selenium.webdriver.remote.webelement.WebElement (session=\"0389fe2e7b975bac90eb7151c2626a07\", element=\"5789bb62-370b-4a9e-ade8-899280a31429\")>,\n",
       " <selenium.webdriver.remote.webelement.WebElement (session=\"0389fe2e7b975bac90eb7151c2626a07\", element=\"64d05fea-3cb4-4c44-a22e-272248968ebe\")>,\n",
       " <selenium.webdriver.remote.webelement.WebElement (session=\"0389fe2e7b975bac90eb7151c2626a07\", element=\"2a399121-a703-4926-bc70-0308b3363f25\")>,\n",
       " <selenium.webdriver.remote.webelement.WebElement (session=\"0389fe2e7b975bac90eb7151c2626a07\", element=\"68ccee45-c3cc-490c-86d7-a5be33747db5\")>,\n",
       " <selenium.webdriver.remote.webelement.WebElement (session=\"0389fe2e7b975bac90eb7151c2626a07\", element=\"085f9faf-8d1d-48d5-86e7-1a12a2459c57\")>,\n",
       " <selenium.webdriver.remote.webelement.WebElement (session=\"0389fe2e7b975bac90eb7151c2626a07\", element=\"13e438e6-df54-41bb-bd86-7f34a54dbebe\")>,\n",
       " <selenium.webdriver.remote.webelement.WebElement (session=\"0389fe2e7b975bac90eb7151c2626a07\", element=\"e5aca82c-b5ca-4cec-9d05-e2c609b978e1\")>,\n",
       " <selenium.webdriver.remote.webelement.WebElement (session=\"0389fe2e7b975bac90eb7151c2626a07\", element=\"021b2e3f-cbba-406d-907e-3e7e506c85b7\")>,\n",
       " <selenium.webdriver.remote.webelement.WebElement (session=\"0389fe2e7b975bac90eb7151c2626a07\", element=\"59f534fd-ae84-44f1-a5f0-c8ea848a5534\")>,\n",
       " <selenium.webdriver.remote.webelement.WebElement (session=\"0389fe2e7b975bac90eb7151c2626a07\", element=\"bf570866-de42-4779-b609-2ec00042a5b0\")>,\n",
       " <selenium.webdriver.remote.webelement.WebElement (session=\"0389fe2e7b975bac90eb7151c2626a07\", element=\"856a8483-054a-4357-9383-e5274b5d64da\")>,\n",
       " <selenium.webdriver.remote.webelement.WebElement (session=\"0389fe2e7b975bac90eb7151c2626a07\", element=\"958fb467-f370-4ec3-a53e-7b658510d885\")>,\n",
       " <selenium.webdriver.remote.webelement.WebElement (session=\"0389fe2e7b975bac90eb7151c2626a07\", element=\"b8607054-40b2-450c-9b1a-bfa19076930a\")>,\n",
       " <selenium.webdriver.remote.webelement.WebElement (session=\"0389fe2e7b975bac90eb7151c2626a07\", element=\"74062a60-04c6-4cb3-a6e2-d9fefdd12f7b\")>,\n",
       " <selenium.webdriver.remote.webelement.WebElement (session=\"0389fe2e7b975bac90eb7151c2626a07\", element=\"a9b9eeaa-0c5a-469c-8018-ad356bbedc6f\")>,\n",
       " <selenium.webdriver.remote.webelement.WebElement (session=\"0389fe2e7b975bac90eb7151c2626a07\", element=\"deb75d05-cd94-4640-9a18-d51f6e8c65a0\")>,\n",
       " <selenium.webdriver.remote.webelement.WebElement (session=\"0389fe2e7b975bac90eb7151c2626a07\", element=\"c1f0c4f8-add6-4c1a-857c-d92c673612db\")>,\n",
       " <selenium.webdriver.remote.webelement.WebElement (session=\"0389fe2e7b975bac90eb7151c2626a07\", element=\"d1725b3e-1b23-40b8-ba4d-2bbf7ba12031\")>,\n",
       " <selenium.webdriver.remote.webelement.WebElement (session=\"0389fe2e7b975bac90eb7151c2626a07\", element=\"02ba334a-0564-4b0b-9bb9-7c414b7a6349\")>,\n",
       " <selenium.webdriver.remote.webelement.WebElement (session=\"0389fe2e7b975bac90eb7151c2626a07\", element=\"85cd3b62-d432-481c-ac3c-cc06c029c365\")>,\n",
       " <selenium.webdriver.remote.webelement.WebElement (session=\"0389fe2e7b975bac90eb7151c2626a07\", element=\"e6f2c727-2b6d-45c3-b8cd-13473ae4a9c9\")>,\n",
       " <selenium.webdriver.remote.webelement.WebElement (session=\"0389fe2e7b975bac90eb7151c2626a07\", element=\"1292206e-5eea-4ec1-9111-579783101dc2\")>,\n",
       " <selenium.webdriver.remote.webelement.WebElement (session=\"0389fe2e7b975bac90eb7151c2626a07\", element=\"8f667a0b-9caa-4334-845a-68a00b877250\")>,\n",
       " <selenium.webdriver.remote.webelement.WebElement (session=\"0389fe2e7b975bac90eb7151c2626a07\", element=\"114d7442-fe8f-45b2-bdac-8ff4bffbbf73\")>,\n",
       " <selenium.webdriver.remote.webelement.WebElement (session=\"0389fe2e7b975bac90eb7151c2626a07\", element=\"9c958150-fcc9-4e7c-b7ba-9a06674ecb8f\")>,\n",
       " <selenium.webdriver.remote.webelement.WebElement (session=\"0389fe2e7b975bac90eb7151c2626a07\", element=\"064b2537-973e-4ee0-aefd-39e41b6955d0\")>,\n",
       " <selenium.webdriver.remote.webelement.WebElement (session=\"0389fe2e7b975bac90eb7151c2626a07\", element=\"f56a38fc-ba2a-4000-a0c7-312c5f64bdd1\")>,\n",
       " <selenium.webdriver.remote.webelement.WebElement (session=\"0389fe2e7b975bac90eb7151c2626a07\", element=\"344fa080-2005-40f7-8c74-8c08fd67cc94\")>,\n",
       " <selenium.webdriver.remote.webelement.WebElement (session=\"0389fe2e7b975bac90eb7151c2626a07\", element=\"c000b9d0-44fb-4be6-abf1-d64939697b67\")>,\n",
       " <selenium.webdriver.remote.webelement.WebElement (session=\"0389fe2e7b975bac90eb7151c2626a07\", element=\"0b78ea7a-4d06-43a7-8b90-2c65155b04a1\")>,\n",
       " <selenium.webdriver.remote.webelement.WebElement (session=\"0389fe2e7b975bac90eb7151c2626a07\", element=\"4bfc2bdf-b96a-4bd7-9d27-23db981706cc\")>]"
      ]
     },
     "execution_count": 12,
     "metadata": {},
     "output_type": "execute_result"
    }
   ],
   "source": [
    "header2=browser.find_elements(\"xpath\",\"//div[@class='td-wrap-in']\")\n",
    "header2\n"
   ]
  },
  {
   "cell_type": "code",
   "execution_count": 13,
   "id": "27a55c2d",
   "metadata": {},
   "outputs": [
    {
     "data": {
      "text/plain": [
       "['88.4', '90.4', '76.1', '94.1', '83.2', '74.1', '100', '89.6', '84.6']"
      ]
     },
     "execution_count": 13,
     "metadata": {},
     "output_type": "execute_result"
    }
   ],
   "source": [
    "#PARSING DATA\n",
    "value_head=[]\n",
    "for data in header2:\n",
    "    #get the text data\n",
    "    temp=data.text\n",
    "    value_head.append(temp)\n",
    "value=value_head[81:90]\n",
    "value"
   ]
  },
  {
   "cell_type": "code",
   "execution_count": 14,
   "id": "18f1dff0",
   "metadata": {},
   "outputs": [
    {
     "data": {
      "text/plain": [
       "{'Name': 'Nanyang Technological University, Singapore (NTU)',\n",
       " 'Location': 'Singapore, Singapore',\n",
       " 'Rank': '19',\n",
       " 'Overall Score': '88.4',\n",
       " 'Academic Reputation': '90.4',\n",
       " 'Employer Reputation': '76.1',\n",
       " 'Citations per Faculty': '94.1',\n",
       " 'Faculty Student Ratio': '83.2',\n",
       " 'International Students Ratio': '74.1',\n",
       " 'International Faculty Ratio': '100',\n",
       " 'International Research Network\\nUnweighted': '89.6',\n",
       " 'Employment Outcomes\\nUnweighted': '84.6'}"
      ]
     },
     "execution_count": 14,
     "metadata": {},
     "output_type": "execute_result"
    }
   ],
   "source": [
    "d={}\n",
    "d['Name']=value_head[80]\n",
    "d['Location']=loc[8]\n",
    "d['Rank']=RANK[8]\n",
    "for i in range(len(column_head)):\n",
    "    d[column_head[i]]=value[i]\n",
    "d"
   ]
  },
  {
   "cell_type": "code",
   "execution_count": 15,
   "id": "d84128a5",
   "metadata": {},
   "outputs": [
    {
     "data": {
      "text/plain": [
       "'{\"Name\": \"Nanyang Technological University, Singapore (NTU)\", \"Location\": \"Singapore, Singapore\", \"Rank\": \"19\", \"Overall Score\": \"88.4\", \"Academic Reputation\": \"90.4\", \"Employer Reputation\": \"76.1\", \"Citations per Faculty\": \"94.1\", \"Faculty Student Ratio\": \"83.2\", \"International Students Ratio\": \"74.1\", \"International Faculty Ratio\": \"100\", \"International Research Network\\\\nUnweighted\": \"89.6\", \"Employment Outcomes\\\\nUnweighted\": \"84.6\"}'"
      ]
     },
     "execution_count": 15,
     "metadata": {},
     "output_type": "execute_result"
    }
   ],
   "source": [
    "s1=json.dumps(d)\n",
    "s1"
   ]
  },
  {
   "cell_type": "code",
   "execution_count": 16,
   "id": "813825e1",
   "metadata": {},
   "outputs": [],
   "source": [
    "with open('Nanyang Technological University, Singapore (NTU).json','w') as f:\n",
    "    json.dump(d,f)"
   ]
  },
  {
   "cell_type": "code",
   "execution_count": null,
   "id": "779062da",
   "metadata": {},
   "outputs": [],
   "source": []
  }
 ],
 "metadata": {
  "kernelspec": {
   "display_name": "Python 3 (ipykernel)",
   "language": "python",
   "name": "python3"
  },
  "language_info": {
   "codemirror_mode": {
    "name": "ipython",
    "version": 3
   },
   "file_extension": ".py",
   "mimetype": "text/x-python",
   "name": "python",
   "nbconvert_exporter": "python",
   "pygments_lexer": "ipython3",
   "version": "3.9.12"
  }
 },
 "nbformat": 4,
 "nbformat_minor": 5
}
