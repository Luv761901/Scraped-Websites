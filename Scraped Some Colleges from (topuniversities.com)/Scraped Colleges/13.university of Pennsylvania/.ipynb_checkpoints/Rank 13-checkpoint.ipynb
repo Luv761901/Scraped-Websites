{
 "cells": [
  {
   "cell_type": "code",
   "execution_count": 1,
   "id": "1978703c",
   "metadata": {},
   "outputs": [],
   "source": [
    "from selenium import webdriver\n",
    "from selenium.webdriver.chrome.service import Service\n",
    "import pandas as pd\n",
    "import json"
   ]
  },
  {
   "cell_type": "code",
   "execution_count": 2,
   "id": "5ae2b839",
   "metadata": {},
   "outputs": [],
   "source": [
    "path = Service('C:\\chromedriver.exe')"
   ]
  },
  {
   "cell_type": "code",
   "execution_count": 3,
   "id": "25a4f08b",
   "metadata": {},
   "outputs": [],
   "source": [
    "# set path for the driver\n",
    "browser = webdriver.Chrome(service = path)"
   ]
  },
  {
   "cell_type": "code",
   "execution_count": 4,
   "id": "fbdc1a3a",
   "metadata": {},
   "outputs": [],
   "source": [
    "url = \"https://www.topuniversities.com/university-rankings/world-university-rankings/2023\""
   ]
  },
  {
   "cell_type": "code",
   "execution_count": 5,
   "id": "2149a606",
   "metadata": {},
   "outputs": [],
   "source": [
    "# open the page url ion chrome\n",
    "browser.get(url)"
   ]
  },
  {
   "cell_type": "code",
   "execution_count": 6,
   "id": "c6dfe3ae",
   "metadata": {},
   "outputs": [
    {
     "data": {
      "text/plain": [
       "[<selenium.webdriver.remote.webelement.WebElement (session=\"5faeb152737957ad0d087edb8f840055\", element=\"b92a1817-e13a-4d8e-8742-f8bb0e4ad667\")>,\n",
       " <selenium.webdriver.remote.webelement.WebElement (session=\"5faeb152737957ad0d087edb8f840055\", element=\"5b1e031f-018b-42e7-b895-65f1c9ffe58d\")>,\n",
       " <selenium.webdriver.remote.webelement.WebElement (session=\"5faeb152737957ad0d087edb8f840055\", element=\"a9208146-3dc1-49f1-ad2c-e01de9798634\")>,\n",
       " <selenium.webdriver.remote.webelement.WebElement (session=\"5faeb152737957ad0d087edb8f840055\", element=\"b7cbf57e-6610-4985-93d6-3ae6b7962688\")>,\n",
       " <selenium.webdriver.remote.webelement.WebElement (session=\"5faeb152737957ad0d087edb8f840055\", element=\"be3109be-affe-4278-b47d-8ec3a24c82a0\")>,\n",
       " <selenium.webdriver.remote.webelement.WebElement (session=\"5faeb152737957ad0d087edb8f840055\", element=\"ee79a6cd-2f8c-4403-b0b0-128ddfb9ebff\")>,\n",
       " <selenium.webdriver.remote.webelement.WebElement (session=\"5faeb152737957ad0d087edb8f840055\", element=\"721644f3-58bf-40b7-abaa-f2ec413bf1b7\")>,\n",
       " <selenium.webdriver.remote.webelement.WebElement (session=\"5faeb152737957ad0d087edb8f840055\", element=\"b3694205-4e41-48d8-a437-d0e31b3da308\")>,\n",
       " <selenium.webdriver.remote.webelement.WebElement (session=\"5faeb152737957ad0d087edb8f840055\", element=\"7635bfc5-797d-420d-b13d-94b731038c57\")>,\n",
       " <selenium.webdriver.remote.webelement.WebElement (session=\"5faeb152737957ad0d087edb8f840055\", element=\"a5bc4de2-562b-436d-b706-393cc09ba957\")>,\n",
       " <selenium.webdriver.remote.webelement.WebElement (session=\"5faeb152737957ad0d087edb8f840055\", element=\"4365a388-77a5-4a04-8dd5-1f25cc43bdcf\")>,\n",
       " <selenium.webdriver.remote.webelement.WebElement (session=\"5faeb152737957ad0d087edb8f840055\", element=\"fdc8adc6-a0c5-4033-947b-82aa2b25dd1c\")>,\n",
       " <selenium.webdriver.remote.webelement.WebElement (session=\"5faeb152737957ad0d087edb8f840055\", element=\"c4e16331-8b23-4272-b36e-63c7e589e6e7\")>,\n",
       " <selenium.webdriver.remote.webelement.WebElement (session=\"5faeb152737957ad0d087edb8f840055\", element=\"9ccf8673-261d-4bf6-9985-374172d00901\")>,\n",
       " <selenium.webdriver.remote.webelement.WebElement (session=\"5faeb152737957ad0d087edb8f840055\", element=\"499dca38-463e-424a-96e5-8a89ae82d256\")>,\n",
       " <selenium.webdriver.remote.webelement.WebElement (session=\"5faeb152737957ad0d087edb8f840055\", element=\"3a7158f6-5fbf-4fa2-9add-5383b962d6b6\")>,\n",
       " <selenium.webdriver.remote.webelement.WebElement (session=\"5faeb152737957ad0d087edb8f840055\", element=\"b831482f-f224-4ecb-85d5-9472cff8d989\")>,\n",
       " <selenium.webdriver.remote.webelement.WebElement (session=\"5faeb152737957ad0d087edb8f840055\", element=\"5bd574df-da6e-470b-a8ad-c947d2f91221\")>,\n",
       " <selenium.webdriver.remote.webelement.WebElement (session=\"5faeb152737957ad0d087edb8f840055\", element=\"54d2ca49-0879-4e1a-94e0-09a7934f1b0b\")>,\n",
       " <selenium.webdriver.remote.webelement.WebElement (session=\"5faeb152737957ad0d087edb8f840055\", element=\"1b51960d-f661-4f79-a97f-1ec7d0c8e2f9\")>]"
      ]
     },
     "execution_count": 6,
     "metadata": {},
     "output_type": "execute_result"
    }
   ],
   "source": [
    "l1=browser.find_elements(\"xpath\",\"//div[@class='location ']\")\n",
    "l1"
   ]
  },
  {
   "cell_type": "code",
   "execution_count": 7,
   "id": "57a2eb81",
   "metadata": {},
   "outputs": [
    {
     "data": {
      "text/plain": [
       "['Singapore, Singapore',\n",
       " 'Beijing, China (Mainland)',\n",
       " 'Philadelphia, United States',\n",
       " 'Beijing, China (Mainland)',\n",
       " 'Edinburgh, United Kingdom',\n",
       " 'Lausanne, Switzerland',\n",
       " 'Princeton, United States',\n",
       " 'New Haven, United States',\n",
       " 'Singapore, Singapore',\n",
       " 'Ithaca, United States']"
      ]
     },
     "execution_count": 7,
     "metadata": {},
     "output_type": "execute_result"
    }
   ],
   "source": [
    "loc=[]\n",
    "for data in l1:\n",
    "    #get the text data\n",
    "    temp=data.text\n",
    "    loc.append(temp)\n",
    "loc=loc[10:]\n",
    "loc\n"
   ]
  },
  {
   "cell_type": "code",
   "execution_count": 8,
   "id": "e4d19bcd",
   "metadata": {},
   "outputs": [
    {
     "data": {
      "text/plain": [
       "[<selenium.webdriver.remote.webelement.WebElement (session=\"5faeb152737957ad0d087edb8f840055\", element=\"76d410d4-bdae-4c0e-8d8e-3bae726d10e6\")>,\n",
       " <selenium.webdriver.remote.webelement.WebElement (session=\"5faeb152737957ad0d087edb8f840055\", element=\"36e69804-add9-4c9d-8a9f-02e87df3a685\")>,\n",
       " <selenium.webdriver.remote.webelement.WebElement (session=\"5faeb152737957ad0d087edb8f840055\", element=\"4ce632b1-0aba-4437-bfbd-4e7d1adf47c4\")>,\n",
       " <selenium.webdriver.remote.webelement.WebElement (session=\"5faeb152737957ad0d087edb8f840055\", element=\"a0e1e47a-e47d-4b87-bb56-e4f5e4c367d5\")>,\n",
       " <selenium.webdriver.remote.webelement.WebElement (session=\"5faeb152737957ad0d087edb8f840055\", element=\"d773e32a-6a63-4432-971f-aef9e3fdc548\")>,\n",
       " <selenium.webdriver.remote.webelement.WebElement (session=\"5faeb152737957ad0d087edb8f840055\", element=\"b8e0c146-8705-4fe8-ae3b-0f53ab5a717c\")>,\n",
       " <selenium.webdriver.remote.webelement.WebElement (session=\"5faeb152737957ad0d087edb8f840055\", element=\"bbd9336b-30d5-470f-a44d-b3d2776adde9\")>,\n",
       " <selenium.webdriver.remote.webelement.WebElement (session=\"5faeb152737957ad0d087edb8f840055\", element=\"b6bf4b7d-3bf1-4905-b734-e385c554281a\")>,\n",
       " <selenium.webdriver.remote.webelement.WebElement (session=\"5faeb152737957ad0d087edb8f840055\", element=\"b898625b-9fac-4ddc-8501-8a56690eb06b\")>,\n",
       " <selenium.webdriver.remote.webelement.WebElement (session=\"5faeb152737957ad0d087edb8f840055\", element=\"681066b9-afeb-4e55-a377-d3a7fdea08da\")>]"
      ]
     },
     "execution_count": 8,
     "metadata": {},
     "output_type": "execute_result"
    }
   ],
   "source": [
    "l2=browser.find_elements(\"xpath\",\"//div[@class='_univ-rank ']\")\n",
    "l2"
   ]
  },
  {
   "cell_type": "code",
   "execution_count": 9,
   "id": "48e96071",
   "metadata": {},
   "outputs": [
    {
     "data": {
      "text/plain": [
       "['11', '12', '13', '14', '15', '=16', '=16', '18', '19', '20']"
      ]
     },
     "execution_count": 9,
     "metadata": {},
     "output_type": "execute_result"
    }
   ],
   "source": [
    "RANK=[]\n",
    "for data in l2:\n",
    "    #get the text data\n",
    "    temp=data.text\n",
    "    RANK.append(temp)\n",
    "RANK\n"
   ]
  },
  {
   "cell_type": "code",
   "execution_count": 10,
   "id": "bed738d0",
   "metadata": {},
   "outputs": [
    {
     "data": {
      "text/plain": [
       "[<selenium.webdriver.remote.webelement.WebElement (session=\"5faeb152737957ad0d087edb8f840055\", element=\"2f3f07c1-2c9e-4495-8983-026890acf59f\")>,\n",
       " <selenium.webdriver.remote.webelement.WebElement (session=\"5faeb152737957ad0d087edb8f840055\", element=\"80afed55-0c54-4db4-bedd-a738bd85c3d6\")>,\n",
       " <selenium.webdriver.remote.webelement.WebElement (session=\"5faeb152737957ad0d087edb8f840055\", element=\"20d51fe9-d602-4c8d-991e-3647801369fd\")>,\n",
       " <selenium.webdriver.remote.webelement.WebElement (session=\"5faeb152737957ad0d087edb8f840055\", element=\"a9f34f71-eb63-421f-98eb-da2e0582fefd\")>,\n",
       " <selenium.webdriver.remote.webelement.WebElement (session=\"5faeb152737957ad0d087edb8f840055\", element=\"8b15cd6e-1958-42fe-a5e9-45e702154ea0\")>,\n",
       " <selenium.webdriver.remote.webelement.WebElement (session=\"5faeb152737957ad0d087edb8f840055\", element=\"044d219a-6257-43fb-b3b0-988071372cb7\")>,\n",
       " <selenium.webdriver.remote.webelement.WebElement (session=\"5faeb152737957ad0d087edb8f840055\", element=\"b0f19f15-3e10-443f-8973-981bda6fc9cb\")>,\n",
       " <selenium.webdriver.remote.webelement.WebElement (session=\"5faeb152737957ad0d087edb8f840055\", element=\"44dc7252-9d1a-4546-b67f-ebf530024716\")>,\n",
       " <selenium.webdriver.remote.webelement.WebElement (session=\"5faeb152737957ad0d087edb8f840055\", element=\"fb88bf92-093d-451a-8552-10ec9613abfc\")>]"
      ]
     },
     "execution_count": 10,
     "metadata": {},
     "output_type": "execute_result"
    }
   ],
   "source": [
    "# GET EACH COLLEGE SPECIFICATION HEADERS\n",
    "header=browser.find_elements(\"xpath\",\"//div[@class='_click-function_ind']\")\n",
    "header"
   ]
  },
  {
   "cell_type": "code",
   "execution_count": 11,
   "id": "07e84cc2",
   "metadata": {},
   "outputs": [
    {
     "data": {
      "text/plain": [
       "['Overall Score',\n",
       " 'Academic Reputation',\n",
       " 'Employer Reputation',\n",
       " 'Citations per Faculty',\n",
       " 'Faculty Student Ratio',\n",
       " 'International Students Ratio',\n",
       " 'International Faculty Ratio',\n",
       " 'International Research Network\\nUnweighted',\n",
       " 'Employment Outcomes\\nUnweighted']"
      ]
     },
     "execution_count": 11,
     "metadata": {},
     "output_type": "execute_result"
    }
   ],
   "source": [
    "#PARSING DATA\n",
    "column_head=[]\n",
    "for data in header:\n",
    "    #get the text data\n",
    "    temp=data.text\n",
    "    column_head.append(temp)\n",
    "column_head"
   ]
  },
  {
   "cell_type": "code",
   "execution_count": 12,
   "id": "522d9ae7",
   "metadata": {},
   "outputs": [
    {
     "data": {
      "text/plain": [
       "[<selenium.webdriver.remote.webelement.WebElement (session=\"5faeb152737957ad0d087edb8f840055\", element=\"dd72d1e5-7dea-4d16-833b-bb419e1b1168\")>,\n",
       " <selenium.webdriver.remote.webelement.WebElement (session=\"5faeb152737957ad0d087edb8f840055\", element=\"bc7420a0-eb0f-46d6-b72f-41be39c06ade\")>,\n",
       " <selenium.webdriver.remote.webelement.WebElement (session=\"5faeb152737957ad0d087edb8f840055\", element=\"80968651-d410-4c30-ba47-ae340d00105d\")>,\n",
       " <selenium.webdriver.remote.webelement.WebElement (session=\"5faeb152737957ad0d087edb8f840055\", element=\"1a0e6e91-7650-4e2a-a658-b34f124915e6\")>,\n",
       " <selenium.webdriver.remote.webelement.WebElement (session=\"5faeb152737957ad0d087edb8f840055\", element=\"47194b62-e044-4af3-9bf9-1b87470c354c\")>,\n",
       " <selenium.webdriver.remote.webelement.WebElement (session=\"5faeb152737957ad0d087edb8f840055\", element=\"cb8ba02a-af74-4ca1-816e-b3c7fe171a4b\")>,\n",
       " <selenium.webdriver.remote.webelement.WebElement (session=\"5faeb152737957ad0d087edb8f840055\", element=\"fc0b42ad-99a5-4c81-b51a-52d0a6152ab8\")>,\n",
       " <selenium.webdriver.remote.webelement.WebElement (session=\"5faeb152737957ad0d087edb8f840055\", element=\"0fffd813-4e61-4b6a-adf8-fcf92cdb09cb\")>,\n",
       " <selenium.webdriver.remote.webelement.WebElement (session=\"5faeb152737957ad0d087edb8f840055\", element=\"95cde79e-0bc2-4ba5-99df-73de5b651783\")>,\n",
       " <selenium.webdriver.remote.webelement.WebElement (session=\"5faeb152737957ad0d087edb8f840055\", element=\"c21e4b9e-b364-4a76-bf53-2de618157ccc\")>,\n",
       " <selenium.webdriver.remote.webelement.WebElement (session=\"5faeb152737957ad0d087edb8f840055\", element=\"aba4d03d-76a6-4d74-b58e-1eea7af6e4a8\")>,\n",
       " <selenium.webdriver.remote.webelement.WebElement (session=\"5faeb152737957ad0d087edb8f840055\", element=\"638d3013-8f73-4640-8331-0b4afda5745f\")>,\n",
       " <selenium.webdriver.remote.webelement.WebElement (session=\"5faeb152737957ad0d087edb8f840055\", element=\"b8f00a6d-3ce1-4d50-a4bc-78ac2fd48c3f\")>,\n",
       " <selenium.webdriver.remote.webelement.WebElement (session=\"5faeb152737957ad0d087edb8f840055\", element=\"0fe786aa-203c-46ab-8d7c-542075d596b4\")>,\n",
       " <selenium.webdriver.remote.webelement.WebElement (session=\"5faeb152737957ad0d087edb8f840055\", element=\"7b1e8251-9f27-411d-bcf0-4c515ca98697\")>,\n",
       " <selenium.webdriver.remote.webelement.WebElement (session=\"5faeb152737957ad0d087edb8f840055\", element=\"7b2b623a-c534-4fa7-bba0-1f79964d9d3b\")>,\n",
       " <selenium.webdriver.remote.webelement.WebElement (session=\"5faeb152737957ad0d087edb8f840055\", element=\"30cac78d-cdbf-486d-82b7-fd51ce60414f\")>,\n",
       " <selenium.webdriver.remote.webelement.WebElement (session=\"5faeb152737957ad0d087edb8f840055\", element=\"751116f6-ce33-4c52-97ca-f00c465532be\")>,\n",
       " <selenium.webdriver.remote.webelement.WebElement (session=\"5faeb152737957ad0d087edb8f840055\", element=\"beb48137-35d4-4f67-ad49-c68fd5c52984\")>,\n",
       " <selenium.webdriver.remote.webelement.WebElement (session=\"5faeb152737957ad0d087edb8f840055\", element=\"6dd27b2c-0c5d-454e-aaab-ec07176b3235\")>,\n",
       " <selenium.webdriver.remote.webelement.WebElement (session=\"5faeb152737957ad0d087edb8f840055\", element=\"075cadc4-8cbc-44d6-b25a-08acb5f3d32e\")>,\n",
       " <selenium.webdriver.remote.webelement.WebElement (session=\"5faeb152737957ad0d087edb8f840055\", element=\"5272c427-8467-4f26-b167-0c8ebddb3342\")>,\n",
       " <selenium.webdriver.remote.webelement.WebElement (session=\"5faeb152737957ad0d087edb8f840055\", element=\"c2719faf-6fb4-420d-8cba-ee6649b31ef2\")>,\n",
       " <selenium.webdriver.remote.webelement.WebElement (session=\"5faeb152737957ad0d087edb8f840055\", element=\"778734ad-4c2e-44e0-8676-53d74d93e3b6\")>,\n",
       " <selenium.webdriver.remote.webelement.WebElement (session=\"5faeb152737957ad0d087edb8f840055\", element=\"e3472966-a229-4f58-80cc-d93e13ca1030\")>,\n",
       " <selenium.webdriver.remote.webelement.WebElement (session=\"5faeb152737957ad0d087edb8f840055\", element=\"b47822e3-0bdc-4ab4-8dfa-9ec4cd83ebe5\")>,\n",
       " <selenium.webdriver.remote.webelement.WebElement (session=\"5faeb152737957ad0d087edb8f840055\", element=\"dbe0260c-35fa-4ffb-9023-b9faa24cb361\")>,\n",
       " <selenium.webdriver.remote.webelement.WebElement (session=\"5faeb152737957ad0d087edb8f840055\", element=\"7873bbc5-10f8-426e-b2af-75a957a42cdd\")>,\n",
       " <selenium.webdriver.remote.webelement.WebElement (session=\"5faeb152737957ad0d087edb8f840055\", element=\"56e5fedb-998b-4e9f-9944-ccaee14e0ca0\")>,\n",
       " <selenium.webdriver.remote.webelement.WebElement (session=\"5faeb152737957ad0d087edb8f840055\", element=\"837168c5-755d-4e84-a0ec-53c52a4948da\")>,\n",
       " <selenium.webdriver.remote.webelement.WebElement (session=\"5faeb152737957ad0d087edb8f840055\", element=\"772c9fe8-f101-4e6f-9073-81699bdedf81\")>,\n",
       " <selenium.webdriver.remote.webelement.WebElement (session=\"5faeb152737957ad0d087edb8f840055\", element=\"c9561691-38a7-4c54-a7c4-506f27542139\")>,\n",
       " <selenium.webdriver.remote.webelement.WebElement (session=\"5faeb152737957ad0d087edb8f840055\", element=\"d1fd8f23-bcf8-4b8a-b4e1-4099d3309495\")>,\n",
       " <selenium.webdriver.remote.webelement.WebElement (session=\"5faeb152737957ad0d087edb8f840055\", element=\"29a8d3ec-b774-41e9-9cb3-60ab49fafed3\")>,\n",
       " <selenium.webdriver.remote.webelement.WebElement (session=\"5faeb152737957ad0d087edb8f840055\", element=\"8a2fd85a-9b15-4e5c-ac72-4d061215cbb8\")>,\n",
       " <selenium.webdriver.remote.webelement.WebElement (session=\"5faeb152737957ad0d087edb8f840055\", element=\"7e290e87-edcd-465d-90af-3f9cc24226cf\")>,\n",
       " <selenium.webdriver.remote.webelement.WebElement (session=\"5faeb152737957ad0d087edb8f840055\", element=\"12122270-f828-49a7-8aba-c03eb5018ae7\")>,\n",
       " <selenium.webdriver.remote.webelement.WebElement (session=\"5faeb152737957ad0d087edb8f840055\", element=\"6d3e8607-3b88-42cd-b9dd-c21b16df9e21\")>,\n",
       " <selenium.webdriver.remote.webelement.WebElement (session=\"5faeb152737957ad0d087edb8f840055\", element=\"7db01478-bddb-43ee-95c9-9636e44fefd0\")>,\n",
       " <selenium.webdriver.remote.webelement.WebElement (session=\"5faeb152737957ad0d087edb8f840055\", element=\"9c9c4e8e-7ada-4c50-83ca-04c478d0858a\")>,\n",
       " <selenium.webdriver.remote.webelement.WebElement (session=\"5faeb152737957ad0d087edb8f840055\", element=\"ab0d32b6-5a23-48ab-8a1e-5da2f1e61da1\")>,\n",
       " <selenium.webdriver.remote.webelement.WebElement (session=\"5faeb152737957ad0d087edb8f840055\", element=\"cab60444-654c-4f6d-8129-c4214e803218\")>,\n",
       " <selenium.webdriver.remote.webelement.WebElement (session=\"5faeb152737957ad0d087edb8f840055\", element=\"46f68750-f7ef-454c-af1e-371bb206ae3d\")>,\n",
       " <selenium.webdriver.remote.webelement.WebElement (session=\"5faeb152737957ad0d087edb8f840055\", element=\"7272dc46-bcff-4328-89e6-c4736f4ee8fe\")>,\n",
       " <selenium.webdriver.remote.webelement.WebElement (session=\"5faeb152737957ad0d087edb8f840055\", element=\"b320ec4d-0ae9-4bfc-a2e7-c7d1ad467729\")>,\n",
       " <selenium.webdriver.remote.webelement.WebElement (session=\"5faeb152737957ad0d087edb8f840055\", element=\"30978a85-872a-4584-83f3-32f0339246a2\")>,\n",
       " <selenium.webdriver.remote.webelement.WebElement (session=\"5faeb152737957ad0d087edb8f840055\", element=\"b6eef14b-225c-4a70-a4f0-51ebd96c2c81\")>,\n",
       " <selenium.webdriver.remote.webelement.WebElement (session=\"5faeb152737957ad0d087edb8f840055\", element=\"3412e51e-d5b5-44e3-ae98-3a5334a0c40b\")>,\n",
       " <selenium.webdriver.remote.webelement.WebElement (session=\"5faeb152737957ad0d087edb8f840055\", element=\"468787a7-f12d-4321-a984-84ce9f027b87\")>,\n",
       " <selenium.webdriver.remote.webelement.WebElement (session=\"5faeb152737957ad0d087edb8f840055\", element=\"ec48f84d-a387-48b2-8d88-ea5776dd1812\")>,\n",
       " <selenium.webdriver.remote.webelement.WebElement (session=\"5faeb152737957ad0d087edb8f840055\", element=\"e8abdb60-2062-44e6-91ae-d6b2a681ff50\")>,\n",
       " <selenium.webdriver.remote.webelement.WebElement (session=\"5faeb152737957ad0d087edb8f840055\", element=\"6940e61e-70c7-4d46-b280-dc71ef17164d\")>,\n",
       " <selenium.webdriver.remote.webelement.WebElement (session=\"5faeb152737957ad0d087edb8f840055\", element=\"f7cd44e9-61d9-43c0-a756-be769e30c713\")>,\n",
       " <selenium.webdriver.remote.webelement.WebElement (session=\"5faeb152737957ad0d087edb8f840055\", element=\"973f0d51-a0c3-45cf-af8e-f8085e28af05\")>,\n",
       " <selenium.webdriver.remote.webelement.WebElement (session=\"5faeb152737957ad0d087edb8f840055\", element=\"d66d6f32-1010-4238-96c0-f774f7e3579a\")>,\n",
       " <selenium.webdriver.remote.webelement.WebElement (session=\"5faeb152737957ad0d087edb8f840055\", element=\"fdde5736-3bab-450a-b189-184907e5a364\")>,\n",
       " <selenium.webdriver.remote.webelement.WebElement (session=\"5faeb152737957ad0d087edb8f840055\", element=\"34597889-d4c1-405c-8664-5b632f9a7722\")>,\n",
       " <selenium.webdriver.remote.webelement.WebElement (session=\"5faeb152737957ad0d087edb8f840055\", element=\"519f6622-8290-4b96-a9ca-630ca9173568\")>,\n",
       " <selenium.webdriver.remote.webelement.WebElement (session=\"5faeb152737957ad0d087edb8f840055\", element=\"50447f58-c107-493d-a87f-fd22cb6d8958\")>,\n",
       " <selenium.webdriver.remote.webelement.WebElement (session=\"5faeb152737957ad0d087edb8f840055\", element=\"66f151b5-065c-42c8-bc63-7f983dcd88ba\")>,\n",
       " <selenium.webdriver.remote.webelement.WebElement (session=\"5faeb152737957ad0d087edb8f840055\", element=\"13f40630-db92-426f-96a6-ac9f66f892d3\")>,\n",
       " <selenium.webdriver.remote.webelement.WebElement (session=\"5faeb152737957ad0d087edb8f840055\", element=\"28d7b1c1-511b-4af4-8984-82999fc67b37\")>,\n",
       " <selenium.webdriver.remote.webelement.WebElement (session=\"5faeb152737957ad0d087edb8f840055\", element=\"91fb3a3d-ef09-415c-b5fb-2298d9370410\")>,\n",
       " <selenium.webdriver.remote.webelement.WebElement (session=\"5faeb152737957ad0d087edb8f840055\", element=\"0e5a0693-78f9-4f8b-9491-5824136673c6\")>,\n",
       " <selenium.webdriver.remote.webelement.WebElement (session=\"5faeb152737957ad0d087edb8f840055\", element=\"0ececa9f-fda3-47a9-a829-c593ac48d775\")>,\n",
       " <selenium.webdriver.remote.webelement.WebElement (session=\"5faeb152737957ad0d087edb8f840055\", element=\"ddd9c634-a344-45ce-8da5-3fbebec320ab\")>,\n",
       " <selenium.webdriver.remote.webelement.WebElement (session=\"5faeb152737957ad0d087edb8f840055\", element=\"a47bcf96-baa3-4013-9813-a6b06cf4b3e3\")>,\n",
       " <selenium.webdriver.remote.webelement.WebElement (session=\"5faeb152737957ad0d087edb8f840055\", element=\"427e7014-ebd6-4e62-aa9e-2cb51b7e2e3d\")>,\n",
       " <selenium.webdriver.remote.webelement.WebElement (session=\"5faeb152737957ad0d087edb8f840055\", element=\"cbe19332-6bd5-4a31-971f-6d90a081645e\")>,\n",
       " <selenium.webdriver.remote.webelement.WebElement (session=\"5faeb152737957ad0d087edb8f840055\", element=\"840c6c9e-9346-48e3-8356-ac6383d3c0d6\")>,\n",
       " <selenium.webdriver.remote.webelement.WebElement (session=\"5faeb152737957ad0d087edb8f840055\", element=\"0204c775-ea5e-428a-8e37-d6ad692793a6\")>,\n",
       " <selenium.webdriver.remote.webelement.WebElement (session=\"5faeb152737957ad0d087edb8f840055\", element=\"8434fd83-5458-4ab3-abee-e06b9225b263\")>,\n",
       " <selenium.webdriver.remote.webelement.WebElement (session=\"5faeb152737957ad0d087edb8f840055\", element=\"0d3cb128-07a3-4f4f-bdd2-5955f13c01cd\")>,\n",
       " <selenium.webdriver.remote.webelement.WebElement (session=\"5faeb152737957ad0d087edb8f840055\", element=\"4467af47-b148-481c-a288-af57a05083d2\")>,\n",
       " <selenium.webdriver.remote.webelement.WebElement (session=\"5faeb152737957ad0d087edb8f840055\", element=\"be1aec19-7079-4d8f-b310-626ff7a0a3a2\")>,\n",
       " <selenium.webdriver.remote.webelement.WebElement (session=\"5faeb152737957ad0d087edb8f840055\", element=\"aec044a1-b59e-422b-aa52-837fd083bb25\")>,\n",
       " <selenium.webdriver.remote.webelement.WebElement (session=\"5faeb152737957ad0d087edb8f840055\", element=\"727a6069-bd7b-46f6-be8b-8c081be4615e\")>,\n",
       " <selenium.webdriver.remote.webelement.WebElement (session=\"5faeb152737957ad0d087edb8f840055\", element=\"992f2e45-d39c-4125-8d76-134f7e387efc\")>,\n",
       " <selenium.webdriver.remote.webelement.WebElement (session=\"5faeb152737957ad0d087edb8f840055\", element=\"29733e62-0076-4276-b123-c6ee6192f0f0\")>,\n",
       " <selenium.webdriver.remote.webelement.WebElement (session=\"5faeb152737957ad0d087edb8f840055\", element=\"d47b17d4-baca-4284-910a-13bcf065ac29\")>,\n",
       " <selenium.webdriver.remote.webelement.WebElement (session=\"5faeb152737957ad0d087edb8f840055\", element=\"d36a0c25-ad7f-42f9-9af7-d84b0772aa51\")>,\n",
       " <selenium.webdriver.remote.webelement.WebElement (session=\"5faeb152737957ad0d087edb8f840055\", element=\"1c2e3171-7763-4205-8863-9e999b50a77b\")>,\n",
       " <selenium.webdriver.remote.webelement.WebElement (session=\"5faeb152737957ad0d087edb8f840055\", element=\"26d36826-8ead-4517-b905-86c269466692\")>,\n",
       " <selenium.webdriver.remote.webelement.WebElement (session=\"5faeb152737957ad0d087edb8f840055\", element=\"f008c0df-8b4f-488c-a767-9ca9aca617e4\")>,\n",
       " <selenium.webdriver.remote.webelement.WebElement (session=\"5faeb152737957ad0d087edb8f840055\", element=\"0060a5cf-02ef-4640-8cc7-2cc10d352174\")>,\n",
       " <selenium.webdriver.remote.webelement.WebElement (session=\"5faeb152737957ad0d087edb8f840055\", element=\"f764b393-3080-486c-a0ba-ccbf36a52ecd\")>,\n",
       " <selenium.webdriver.remote.webelement.WebElement (session=\"5faeb152737957ad0d087edb8f840055\", element=\"c7d8e171-8d9e-4923-840f-bdf21c048fb9\")>,\n",
       " <selenium.webdriver.remote.webelement.WebElement (session=\"5faeb152737957ad0d087edb8f840055\", element=\"5a692824-e7ad-4219-8210-944e406ce79d\")>,\n",
       " <selenium.webdriver.remote.webelement.WebElement (session=\"5faeb152737957ad0d087edb8f840055\", element=\"41358534-6f27-452d-b412-a793ca0b389c\")>,\n",
       " <selenium.webdriver.remote.webelement.WebElement (session=\"5faeb152737957ad0d087edb8f840055\", element=\"445d5dc3-9fd5-4acb-a0cc-8088deed94ac\")>,\n",
       " <selenium.webdriver.remote.webelement.WebElement (session=\"5faeb152737957ad0d087edb8f840055\", element=\"cf942840-20b4-471d-8fc9-f9ebfc85356e\")>,\n",
       " <selenium.webdriver.remote.webelement.WebElement (session=\"5faeb152737957ad0d087edb8f840055\", element=\"69ba7374-666c-4c63-982b-8ae36f5c00c3\")>,\n",
       " <selenium.webdriver.remote.webelement.WebElement (session=\"5faeb152737957ad0d087edb8f840055\", element=\"f8873956-724f-478b-9439-bf58c73dc6cd\")>,\n",
       " <selenium.webdriver.remote.webelement.WebElement (session=\"5faeb152737957ad0d087edb8f840055\", element=\"6833880c-d138-410c-967e-c0408bc43667\")>,\n",
       " <selenium.webdriver.remote.webelement.WebElement (session=\"5faeb152737957ad0d087edb8f840055\", element=\"bf231a3b-747e-4dcb-aca0-a7093f893ca2\")>,\n",
       " <selenium.webdriver.remote.webelement.WebElement (session=\"5faeb152737957ad0d087edb8f840055\", element=\"ef69ee5d-221a-4b93-9ac6-45bf9205715c\")>,\n",
       " <selenium.webdriver.remote.webelement.WebElement (session=\"5faeb152737957ad0d087edb8f840055\", element=\"de2d10b1-fe32-4981-abe5-b459b81bae33\")>,\n",
       " <selenium.webdriver.remote.webelement.WebElement (session=\"5faeb152737957ad0d087edb8f840055\", element=\"fc4fe2a6-385d-4612-a57d-a99e157d35de\")>,\n",
       " <selenium.webdriver.remote.webelement.WebElement (session=\"5faeb152737957ad0d087edb8f840055\", element=\"1633a211-7077-4431-9857-a21df516241a\")>,\n",
       " <selenium.webdriver.remote.webelement.WebElement (session=\"5faeb152737957ad0d087edb8f840055\", element=\"7fe39b04-c954-48df-a897-09b71c357a3f\")>]"
      ]
     },
     "execution_count": 12,
     "metadata": {},
     "output_type": "execute_result"
    }
   ],
   "source": [
    "header2=browser.find_elements(\"xpath\",\"//div[@class='td-wrap-in']\")\n",
    "header2"
   ]
  },
  {
   "cell_type": "code",
   "execution_count": 13,
   "id": "475c1552",
   "metadata": {},
   "outputs": [
    {
     "data": {
      "text/plain": [
       "['90.6', '96.5', '92.5', '70.9', '99.9', '66.1', '96.2', '93.3', '100']"
      ]
     },
     "execution_count": 13,
     "metadata": {},
     "output_type": "execute_result"
    }
   ],
   "source": [
    "#PARSING DATA\n",
    "value_head=[]\n",
    "for data in header2:\n",
    "    #get the text data\n",
    "    temp=data.text\n",
    "    value_head.append(temp)\n",
    "value=value_head[21:30]\n",
    "value"
   ]
  },
  {
   "cell_type": "code",
   "execution_count": 14,
   "id": "d1ba693c",
   "metadata": {},
   "outputs": [
    {
     "data": {
      "text/plain": [
       "{'Name': 'University of Pennsylvania',\n",
       " 'Location': 'Philadelphia, United States',\n",
       " 'Rank': '13',\n",
       " 'Overall Score': 'National University of Singapore (NUS)',\n",
       " 'Academic Reputation': '92.7',\n",
       " 'Employer Reputation': '99.5',\n",
       " 'Citations per Faculty': '94.1',\n",
       " 'Faculty Student Ratio': '91.8',\n",
       " 'International Students Ratio': '79.8',\n",
       " 'International Faculty Ratio': '73.5',\n",
       " 'International Research Network\\nUnweighted': '100',\n",
       " 'Employment Outcomes\\nUnweighted': '89.9'}"
      ]
     },
     "execution_count": 14,
     "metadata": {},
     "output_type": "execute_result"
    }
   ],
   "source": [
    "d={}\n",
    "\n",
    "d['Name']=value_head[20]\n",
    "d['Location']=loc[2]\n",
    "d['Rank']=RANK[2]\n",
    "\n",
    "for i in range(len(column_head)):\n",
    "    d[column_head[i]]=value[i]\n",
    "d"
   ]
  },
  {
   "cell_type": "code",
   "execution_count": 17,
   "id": "2bd7c425",
   "metadata": {},
   "outputs": [
    {
     "data": {
      "text/plain": [
       "'{\"Name\": \"University of Pennsylvania\", \"Location\": \"Philadelphia, United States\", \"Rank\": \"13\", \"Overall Score\": \"National University of Singapore (NUS)\", \"Academic Reputation\": \"92.7\", \"Employer Reputation\": \"99.5\", \"Citations per Faculty\": \"94.1\", \"Faculty Student Ratio\": \"91.8\", \"International Students Ratio\": \"79.8\", \"International Faculty Ratio\": \"73.5\", \"International Research Network\\\\nUnweighted\": \"100\", \"Employment Outcomes\\\\nUnweighted\": \"89.9\"}'"
      ]
     },
     "execution_count": 17,
     "metadata": {},
     "output_type": "execute_result"
    }
   ],
   "source": [
    "s1=json.dumps(d)\n",
    "s1"
   ]
  },
  {
   "cell_type": "code",
   "execution_count": 18,
   "id": "5437b630",
   "metadata": {},
   "outputs": [],
   "source": [
    "with open('University of Pennsylvania.json','w') as f:\n",
    "    json.dump(d,f)"
   ]
  },
  {
   "cell_type": "code",
   "execution_count": null,
   "id": "07931635",
   "metadata": {},
   "outputs": [],
   "source": []
  }
 ],
 "metadata": {
  "kernelspec": {
   "display_name": "Python 3 (ipykernel)",
   "language": "python",
   "name": "python3"
  },
  "language_info": {
   "codemirror_mode": {
    "name": "ipython",
    "version": 3
   },
   "file_extension": ".py",
   "mimetype": "text/x-python",
   "name": "python",
   "nbconvert_exporter": "python",
   "pygments_lexer": "ipython3",
   "version": "3.9.12"
  }
 },
 "nbformat": 4,
 "nbformat_minor": 5
}
