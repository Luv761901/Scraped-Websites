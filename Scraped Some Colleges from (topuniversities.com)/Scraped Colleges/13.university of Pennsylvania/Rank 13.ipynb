{
 "cells": [
  {
   "cell_type": "code",
   "execution_count": 7,
   "id": "1978703c",
   "metadata": {},
   "outputs": [],
   "source": [
    "from selenium import webdriver\n",
    "from selenium.webdriver.chrome.service import Service\n",
    "import pandas as pd\n",
    "import json"
   ]
  },
  {
   "cell_type": "code",
   "execution_count": 8,
   "id": "5ae2b839",
   "metadata": {},
   "outputs": [],
   "source": [
    "path = Service('C:\\chromedriver.exe')"
   ]
  },
  {
   "cell_type": "code",
   "execution_count": 9,
   "id": "25a4f08b",
   "metadata": {},
   "outputs": [],
   "source": [
    "# set path for the driver\n",
    "browser = webdriver.Chrome(service = path)"
   ]
  },
  {
   "cell_type": "code",
   "execution_count": 10,
   "id": "fbdc1a3a",
   "metadata": {},
   "outputs": [],
   "source": [
    "url = \"https://www.topuniversities.com/university-rankings/world-university-rankings/2023\""
   ]
  },
  {
   "cell_type": "code",
   "execution_count": 11,
   "id": "2149a606",
   "metadata": {},
   "outputs": [],
   "source": [
    "# open the page url ion chrome\n",
    "browser.get(url)"
   ]
  },
  {
   "cell_type": "code",
   "execution_count": 12,
   "id": "bed738d0",
   "metadata": {},
   "outputs": [
    {
     "data": {
      "text/plain": [
       "[<selenium.webdriver.remote.webelement.WebElement (session=\"73f9db781f3738c03debeb95339653a9\", element=\"3c81d771-478d-4c73-ba5b-fb3b25265bae\")>,\n",
       " <selenium.webdriver.remote.webelement.WebElement (session=\"73f9db781f3738c03debeb95339653a9\", element=\"6a57c6ce-f1aa-4f7b-b5e9-37346ecc8e35\")>,\n",
       " <selenium.webdriver.remote.webelement.WebElement (session=\"73f9db781f3738c03debeb95339653a9\", element=\"99d311fa-79cb-4c1d-b6b7-0f168dc43eec\")>,\n",
       " <selenium.webdriver.remote.webelement.WebElement (session=\"73f9db781f3738c03debeb95339653a9\", element=\"c796dd02-03f2-42ee-aa3d-c41ddc26804e\")>,\n",
       " <selenium.webdriver.remote.webelement.WebElement (session=\"73f9db781f3738c03debeb95339653a9\", element=\"5346ec15-77e1-45ad-8372-70c927aad2c4\")>,\n",
       " <selenium.webdriver.remote.webelement.WebElement (session=\"73f9db781f3738c03debeb95339653a9\", element=\"717b4b13-07f4-4813-aab6-26737e03277e\")>,\n",
       " <selenium.webdriver.remote.webelement.WebElement (session=\"73f9db781f3738c03debeb95339653a9\", element=\"4bb17166-6a3d-42ce-a189-17e87efb7662\")>,\n",
       " <selenium.webdriver.remote.webelement.WebElement (session=\"73f9db781f3738c03debeb95339653a9\", element=\"bf9d2f58-6b14-4bbe-b8d7-e9e615088889\")>,\n",
       " <selenium.webdriver.remote.webelement.WebElement (session=\"73f9db781f3738c03debeb95339653a9\", element=\"c7f68047-d9df-4711-b8fb-def672371a42\")>]"
      ]
     },
     "execution_count": 12,
     "metadata": {},
     "output_type": "execute_result"
    }
   ],
   "source": [
    "# GET EACH COLLEGE SPECIFICATION HEADERS\n",
    "header=browser.find_elements(\"xpath\",\"//div[@class='_click-function_ind']\")\n",
    "header"
   ]
  },
  {
   "cell_type": "code",
   "execution_count": 13,
   "id": "07e84cc2",
   "metadata": {},
   "outputs": [
    {
     "data": {
      "text/plain": [
       "['Overall Score',\n",
       " 'Academic Reputation',\n",
       " 'Employer Reputation',\n",
       " 'Citations per Faculty',\n",
       " 'Faculty Student Ratio',\n",
       " 'International Students Ratio',\n",
       " 'International Faculty Ratio',\n",
       " 'International Research Network\\nUnweighted',\n",
       " 'Employment Outcomes\\nUnweighted']"
      ]
     },
     "execution_count": 13,
     "metadata": {},
     "output_type": "execute_result"
    }
   ],
   "source": [
    "#PARSING DATA\n",
    "column_head=[]\n",
    "for data in header:\n",
    "    #get the text data\n",
    "    temp=data.text\n",
    "    column_head.append(temp)\n",
    "column_head"
   ]
  },
  {
   "cell_type": "code",
   "execution_count": 14,
   "id": "522d9ae7",
   "metadata": {},
   "outputs": [
    {
     "data": {
      "text/plain": [
       "[<selenium.webdriver.remote.webelement.WebElement (session=\"73f9db781f3738c03debeb95339653a9\", element=\"da20c0f0-b134-4084-b9b9-ce0ebff5b546\")>,\n",
       " <selenium.webdriver.remote.webelement.WebElement (session=\"73f9db781f3738c03debeb95339653a9\", element=\"cc3ba549-6811-41f4-ac29-84b6e8391003\")>,\n",
       " <selenium.webdriver.remote.webelement.WebElement (session=\"73f9db781f3738c03debeb95339653a9\", element=\"20195443-3249-455d-95af-ccd0e4ac52f4\")>,\n",
       " <selenium.webdriver.remote.webelement.WebElement (session=\"73f9db781f3738c03debeb95339653a9\", element=\"18ba8a81-789e-454f-b8b1-d6ec9e75e26f\")>,\n",
       " <selenium.webdriver.remote.webelement.WebElement (session=\"73f9db781f3738c03debeb95339653a9\", element=\"5ba25bd2-c578-47a3-85ca-55a00444a942\")>,\n",
       " <selenium.webdriver.remote.webelement.WebElement (session=\"73f9db781f3738c03debeb95339653a9\", element=\"ba06585e-caf4-4491-9125-39b955a8d93f\")>,\n",
       " <selenium.webdriver.remote.webelement.WebElement (session=\"73f9db781f3738c03debeb95339653a9\", element=\"5aaeaa4b-86c4-4db8-9ec6-edf2e916188c\")>,\n",
       " <selenium.webdriver.remote.webelement.WebElement (session=\"73f9db781f3738c03debeb95339653a9\", element=\"cde6f4f3-1159-4565-854f-1500dcaab6fa\")>,\n",
       " <selenium.webdriver.remote.webelement.WebElement (session=\"73f9db781f3738c03debeb95339653a9\", element=\"e681d6da-30a4-42de-995e-dab00ed31490\")>,\n",
       " <selenium.webdriver.remote.webelement.WebElement (session=\"73f9db781f3738c03debeb95339653a9\", element=\"33996557-17f4-4380-a6fe-0a298336543b\")>,\n",
       " <selenium.webdriver.remote.webelement.WebElement (session=\"73f9db781f3738c03debeb95339653a9\", element=\"864a8b37-4eb7-48ae-906e-29a08c2e292a\")>,\n",
       " <selenium.webdriver.remote.webelement.WebElement (session=\"73f9db781f3738c03debeb95339653a9\", element=\"3fe5c7e6-3a9f-42cc-85c6-a9607ed60029\")>,\n",
       " <selenium.webdriver.remote.webelement.WebElement (session=\"73f9db781f3738c03debeb95339653a9\", element=\"5ccb4ec7-5ec4-4d76-b3bf-a327d7e4912e\")>,\n",
       " <selenium.webdriver.remote.webelement.WebElement (session=\"73f9db781f3738c03debeb95339653a9\", element=\"b6c83c37-48ce-49f5-883e-35b3120e2004\")>,\n",
       " <selenium.webdriver.remote.webelement.WebElement (session=\"73f9db781f3738c03debeb95339653a9\", element=\"1f4260b8-079b-4c54-8080-808a849411ab\")>,\n",
       " <selenium.webdriver.remote.webelement.WebElement (session=\"73f9db781f3738c03debeb95339653a9\", element=\"64d20850-0b8e-4b41-ae7e-857822a1a9d8\")>,\n",
       " <selenium.webdriver.remote.webelement.WebElement (session=\"73f9db781f3738c03debeb95339653a9\", element=\"fdf2488f-45f3-47ea-bdde-f9fc24e0f046\")>,\n",
       " <selenium.webdriver.remote.webelement.WebElement (session=\"73f9db781f3738c03debeb95339653a9\", element=\"b4ebb30f-06a6-4ba4-a741-e596ebebbae6\")>,\n",
       " <selenium.webdriver.remote.webelement.WebElement (session=\"73f9db781f3738c03debeb95339653a9\", element=\"836e70f5-d337-41ef-aaa4-b3382a0cfe6c\")>,\n",
       " <selenium.webdriver.remote.webelement.WebElement (session=\"73f9db781f3738c03debeb95339653a9\", element=\"bc9c2930-3959-4fe1-9205-69f0ed3633b9\")>,\n",
       " <selenium.webdriver.remote.webelement.WebElement (session=\"73f9db781f3738c03debeb95339653a9\", element=\"d81b6b24-162a-4de3-987a-a96dcbe36c00\")>,\n",
       " <selenium.webdriver.remote.webelement.WebElement (session=\"73f9db781f3738c03debeb95339653a9\", element=\"924c6956-c0db-4c15-94f9-44896d173235\")>,\n",
       " <selenium.webdriver.remote.webelement.WebElement (session=\"73f9db781f3738c03debeb95339653a9\", element=\"eb9511c9-ebd6-415a-b400-87861a7354f7\")>,\n",
       " <selenium.webdriver.remote.webelement.WebElement (session=\"73f9db781f3738c03debeb95339653a9\", element=\"6f8b7280-a9b8-49e3-925a-6fab9dc14728\")>,\n",
       " <selenium.webdriver.remote.webelement.WebElement (session=\"73f9db781f3738c03debeb95339653a9\", element=\"dc566d03-55fd-4aab-8780-43cab9cfea87\")>,\n",
       " <selenium.webdriver.remote.webelement.WebElement (session=\"73f9db781f3738c03debeb95339653a9\", element=\"894b0598-c9a4-49aa-838b-336377fd3808\")>,\n",
       " <selenium.webdriver.remote.webelement.WebElement (session=\"73f9db781f3738c03debeb95339653a9\", element=\"a0f1f536-ce57-421c-bd60-40fdd5b5edc9\")>,\n",
       " <selenium.webdriver.remote.webelement.WebElement (session=\"73f9db781f3738c03debeb95339653a9\", element=\"caaf43f4-a18b-44f5-9572-a11364c0bd15\")>,\n",
       " <selenium.webdriver.remote.webelement.WebElement (session=\"73f9db781f3738c03debeb95339653a9\", element=\"1af55313-394e-4a40-8396-75176772358b\")>,\n",
       " <selenium.webdriver.remote.webelement.WebElement (session=\"73f9db781f3738c03debeb95339653a9\", element=\"d11937ba-9995-437b-b603-e2813e74df49\")>,\n",
       " <selenium.webdriver.remote.webelement.WebElement (session=\"73f9db781f3738c03debeb95339653a9\", element=\"e93931be-917f-4677-966b-d481fffff3ad\")>,\n",
       " <selenium.webdriver.remote.webelement.WebElement (session=\"73f9db781f3738c03debeb95339653a9\", element=\"37cd90a1-91f1-4ba7-91e4-881772ce3a6e\")>,\n",
       " <selenium.webdriver.remote.webelement.WebElement (session=\"73f9db781f3738c03debeb95339653a9\", element=\"d8a631af-9c20-4474-9f40-29d349d335e6\")>,\n",
       " <selenium.webdriver.remote.webelement.WebElement (session=\"73f9db781f3738c03debeb95339653a9\", element=\"f82b4486-87e1-40f2-9aca-1c12bf937c66\")>,\n",
       " <selenium.webdriver.remote.webelement.WebElement (session=\"73f9db781f3738c03debeb95339653a9\", element=\"e184394c-537d-4966-ba7f-fc06bbfc2839\")>,\n",
       " <selenium.webdriver.remote.webelement.WebElement (session=\"73f9db781f3738c03debeb95339653a9\", element=\"a7e9319b-c8d9-4bea-8186-2e1627bf448d\")>,\n",
       " <selenium.webdriver.remote.webelement.WebElement (session=\"73f9db781f3738c03debeb95339653a9\", element=\"53641c2f-e545-47ff-8e11-ddbe2b7ea3d1\")>,\n",
       " <selenium.webdriver.remote.webelement.WebElement (session=\"73f9db781f3738c03debeb95339653a9\", element=\"f6dfae30-776f-4dbe-98b7-23c222b83bac\")>,\n",
       " <selenium.webdriver.remote.webelement.WebElement (session=\"73f9db781f3738c03debeb95339653a9\", element=\"5c16ecfa-cc2d-45b1-8d6c-919f0e0a824c\")>,\n",
       " <selenium.webdriver.remote.webelement.WebElement (session=\"73f9db781f3738c03debeb95339653a9\", element=\"62b81d75-3813-45fa-854f-348bc57309c4\")>,\n",
       " <selenium.webdriver.remote.webelement.WebElement (session=\"73f9db781f3738c03debeb95339653a9\", element=\"3df49871-596f-4b19-81b5-234e5b38bf00\")>,\n",
       " <selenium.webdriver.remote.webelement.WebElement (session=\"73f9db781f3738c03debeb95339653a9\", element=\"7df3a350-403b-46be-aa1d-98648e55053b\")>,\n",
       " <selenium.webdriver.remote.webelement.WebElement (session=\"73f9db781f3738c03debeb95339653a9\", element=\"24ab19ba-8818-4867-a76c-cf23b56184e8\")>,\n",
       " <selenium.webdriver.remote.webelement.WebElement (session=\"73f9db781f3738c03debeb95339653a9\", element=\"5d06b912-7d19-4a52-b5aa-ceedd75dec93\")>,\n",
       " <selenium.webdriver.remote.webelement.WebElement (session=\"73f9db781f3738c03debeb95339653a9\", element=\"6a8472a4-846e-4825-a2cf-db79105ffe65\")>,\n",
       " <selenium.webdriver.remote.webelement.WebElement (session=\"73f9db781f3738c03debeb95339653a9\", element=\"dd0b452d-7326-4e7f-bb0c-cfcb9e2f2805\")>,\n",
       " <selenium.webdriver.remote.webelement.WebElement (session=\"73f9db781f3738c03debeb95339653a9\", element=\"f1da32ef-bbbe-4272-85d5-6c6925f02477\")>,\n",
       " <selenium.webdriver.remote.webelement.WebElement (session=\"73f9db781f3738c03debeb95339653a9\", element=\"9e508fc5-681d-4c62-8ed0-fdc78df84573\")>,\n",
       " <selenium.webdriver.remote.webelement.WebElement (session=\"73f9db781f3738c03debeb95339653a9\", element=\"b58f0c68-e67b-41b9-a0d1-c8d1cd69c7cf\")>,\n",
       " <selenium.webdriver.remote.webelement.WebElement (session=\"73f9db781f3738c03debeb95339653a9\", element=\"c2b898ac-224c-4cad-9886-ddc977dd93de\")>,\n",
       " <selenium.webdriver.remote.webelement.WebElement (session=\"73f9db781f3738c03debeb95339653a9\", element=\"7ff09917-2b4a-4341-8f28-378622987a61\")>,\n",
       " <selenium.webdriver.remote.webelement.WebElement (session=\"73f9db781f3738c03debeb95339653a9\", element=\"97157376-8997-44d6-b4fc-26cea377d774\")>,\n",
       " <selenium.webdriver.remote.webelement.WebElement (session=\"73f9db781f3738c03debeb95339653a9\", element=\"995a51f7-5599-4d6d-85aa-ab0ae54c2811\")>,\n",
       " <selenium.webdriver.remote.webelement.WebElement (session=\"73f9db781f3738c03debeb95339653a9\", element=\"ca4d184d-54df-4fd9-9d2b-8d5d05fb847e\")>,\n",
       " <selenium.webdriver.remote.webelement.WebElement (session=\"73f9db781f3738c03debeb95339653a9\", element=\"cea42fa1-c63e-497a-90a4-337fe40c868c\")>,\n",
       " <selenium.webdriver.remote.webelement.WebElement (session=\"73f9db781f3738c03debeb95339653a9\", element=\"b565f7ee-c710-4745-919c-452eb315f2e3\")>,\n",
       " <selenium.webdriver.remote.webelement.WebElement (session=\"73f9db781f3738c03debeb95339653a9\", element=\"e7513d8b-cbcc-44f8-94b3-146747836f57\")>,\n",
       " <selenium.webdriver.remote.webelement.WebElement (session=\"73f9db781f3738c03debeb95339653a9\", element=\"69d78eff-220c-44e5-b115-2cf3fc686ab2\")>,\n",
       " <selenium.webdriver.remote.webelement.WebElement (session=\"73f9db781f3738c03debeb95339653a9\", element=\"939ad90f-e6aa-4bf2-a2c9-389199c31322\")>,\n",
       " <selenium.webdriver.remote.webelement.WebElement (session=\"73f9db781f3738c03debeb95339653a9\", element=\"dd6ae6b3-deb9-463d-9673-859f1b13aa5c\")>,\n",
       " <selenium.webdriver.remote.webelement.WebElement (session=\"73f9db781f3738c03debeb95339653a9\", element=\"db516433-860b-4437-98dc-4e0237278699\")>,\n",
       " <selenium.webdriver.remote.webelement.WebElement (session=\"73f9db781f3738c03debeb95339653a9\", element=\"367a1637-1f76-475f-bed7-e24ae7bbff94\")>,\n",
       " <selenium.webdriver.remote.webelement.WebElement (session=\"73f9db781f3738c03debeb95339653a9\", element=\"181a6b30-93b4-471d-b6f7-c5a9c7c26e6d\")>,\n",
       " <selenium.webdriver.remote.webelement.WebElement (session=\"73f9db781f3738c03debeb95339653a9\", element=\"3f6453f1-646f-4528-a425-1e8e49f2565c\")>,\n",
       " <selenium.webdriver.remote.webelement.WebElement (session=\"73f9db781f3738c03debeb95339653a9\", element=\"4b0277ed-da69-495e-9bb4-9355731a041f\")>,\n",
       " <selenium.webdriver.remote.webelement.WebElement (session=\"73f9db781f3738c03debeb95339653a9\", element=\"f69a6379-82c7-41da-bcb9-41dd28d88a54\")>,\n",
       " <selenium.webdriver.remote.webelement.WebElement (session=\"73f9db781f3738c03debeb95339653a9\", element=\"dbbf767f-c40b-4b8a-be4b-1ecdc82ca13f\")>,\n",
       " <selenium.webdriver.remote.webelement.WebElement (session=\"73f9db781f3738c03debeb95339653a9\", element=\"fc2010a3-d5bb-4ccf-b1ca-7d06070d3713\")>,\n",
       " <selenium.webdriver.remote.webelement.WebElement (session=\"73f9db781f3738c03debeb95339653a9\", element=\"78f32874-1f42-4cc0-b4be-25a7b3157951\")>,\n",
       " <selenium.webdriver.remote.webelement.WebElement (session=\"73f9db781f3738c03debeb95339653a9\", element=\"d1bc3f87-a3f1-4306-bf60-f545c40998b8\")>,\n",
       " <selenium.webdriver.remote.webelement.WebElement (session=\"73f9db781f3738c03debeb95339653a9\", element=\"f9c5a89e-77a1-402e-9992-b8fcdc111238\")>,\n",
       " <selenium.webdriver.remote.webelement.WebElement (session=\"73f9db781f3738c03debeb95339653a9\", element=\"e50ffb6a-1a25-4dc6-8673-8e98d38e3591\")>,\n",
       " <selenium.webdriver.remote.webelement.WebElement (session=\"73f9db781f3738c03debeb95339653a9\", element=\"79176058-f446-4e87-8423-83469d71b764\")>,\n",
       " <selenium.webdriver.remote.webelement.WebElement (session=\"73f9db781f3738c03debeb95339653a9\", element=\"3f9b036f-1fec-4cef-b15b-d5fdca90ded9\")>,\n",
       " <selenium.webdriver.remote.webelement.WebElement (session=\"73f9db781f3738c03debeb95339653a9\", element=\"ce1828fe-5de4-4484-a913-b8f82808435c\")>,\n",
       " <selenium.webdriver.remote.webelement.WebElement (session=\"73f9db781f3738c03debeb95339653a9\", element=\"b4a79cf9-f75a-43a6-822a-908633ed3250\")>,\n",
       " <selenium.webdriver.remote.webelement.WebElement (session=\"73f9db781f3738c03debeb95339653a9\", element=\"f7477ffb-78f4-426e-b863-a637092319c5\")>,\n",
       " <selenium.webdriver.remote.webelement.WebElement (session=\"73f9db781f3738c03debeb95339653a9\", element=\"b1a5d218-03ff-4d89-96b5-9effd75cc07b\")>,\n",
       " <selenium.webdriver.remote.webelement.WebElement (session=\"73f9db781f3738c03debeb95339653a9\", element=\"bb017a9c-dc96-46ee-9e33-2a160c54731d\")>,\n",
       " <selenium.webdriver.remote.webelement.WebElement (session=\"73f9db781f3738c03debeb95339653a9\", element=\"74d64b14-2f67-4cbe-8d8a-14250279b7c5\")>,\n",
       " <selenium.webdriver.remote.webelement.WebElement (session=\"73f9db781f3738c03debeb95339653a9\", element=\"85aa1c0d-8a2a-4e2a-9365-db8b613ad10b\")>,\n",
       " <selenium.webdriver.remote.webelement.WebElement (session=\"73f9db781f3738c03debeb95339653a9\", element=\"19fbdeed-d300-4d55-983d-14d35a8ae8a9\")>,\n",
       " <selenium.webdriver.remote.webelement.WebElement (session=\"73f9db781f3738c03debeb95339653a9\", element=\"e956cec6-f6cd-4fe9-b761-8b70e1fea044\")>,\n",
       " <selenium.webdriver.remote.webelement.WebElement (session=\"73f9db781f3738c03debeb95339653a9\", element=\"ed472bc1-ef6c-4e15-b98d-8b787b2b2a06\")>,\n",
       " <selenium.webdriver.remote.webelement.WebElement (session=\"73f9db781f3738c03debeb95339653a9\", element=\"147711a4-79b2-4dbd-ab31-fa90334d3fd5\")>,\n",
       " <selenium.webdriver.remote.webelement.WebElement (session=\"73f9db781f3738c03debeb95339653a9\", element=\"dae01c66-34b8-4d8e-94eb-86f92567765a\")>,\n",
       " <selenium.webdriver.remote.webelement.WebElement (session=\"73f9db781f3738c03debeb95339653a9\", element=\"b4547b26-c28e-4fba-9423-b625a33bf0f0\")>,\n",
       " <selenium.webdriver.remote.webelement.WebElement (session=\"73f9db781f3738c03debeb95339653a9\", element=\"19a2bbe3-d2a8-4dec-a952-db774848e8a9\")>,\n",
       " <selenium.webdriver.remote.webelement.WebElement (session=\"73f9db781f3738c03debeb95339653a9\", element=\"9b1ae1fa-ab0e-4548-989d-9fce13f187b0\")>,\n",
       " <selenium.webdriver.remote.webelement.WebElement (session=\"73f9db781f3738c03debeb95339653a9\", element=\"8a0dc04e-209f-48f3-a122-0b6348265edc\")>,\n",
       " <selenium.webdriver.remote.webelement.WebElement (session=\"73f9db781f3738c03debeb95339653a9\", element=\"5119db27-754f-44b7-a3ce-4aa364a8e8b3\")>,\n",
       " <selenium.webdriver.remote.webelement.WebElement (session=\"73f9db781f3738c03debeb95339653a9\", element=\"788833ea-159a-4c40-b4e3-8a755e138963\")>,\n",
       " <selenium.webdriver.remote.webelement.WebElement (session=\"73f9db781f3738c03debeb95339653a9\", element=\"58995d2b-0f1c-4bcc-82d9-71808aa33017\")>,\n",
       " <selenium.webdriver.remote.webelement.WebElement (session=\"73f9db781f3738c03debeb95339653a9\", element=\"6772b557-b6ec-4e87-a4f7-18436cf26ca7\")>,\n",
       " <selenium.webdriver.remote.webelement.WebElement (session=\"73f9db781f3738c03debeb95339653a9\", element=\"22c2d67e-bb6d-4700-9f19-b3f00e5911c1\")>,\n",
       " <selenium.webdriver.remote.webelement.WebElement (session=\"73f9db781f3738c03debeb95339653a9\", element=\"40b1810b-5b9d-43a6-9af4-18a51718e54f\")>,\n",
       " <selenium.webdriver.remote.webelement.WebElement (session=\"73f9db781f3738c03debeb95339653a9\", element=\"42565470-866b-42ae-8ecc-dd9a4d521ea3\")>,\n",
       " <selenium.webdriver.remote.webelement.WebElement (session=\"73f9db781f3738c03debeb95339653a9\", element=\"5de7c123-1c99-4032-8498-3ba136c74f29\")>,\n",
       " <selenium.webdriver.remote.webelement.WebElement (session=\"73f9db781f3738c03debeb95339653a9\", element=\"24a4d5e8-f7df-4bcd-974c-4e1e4ddc8343\")>,\n",
       " <selenium.webdriver.remote.webelement.WebElement (session=\"73f9db781f3738c03debeb95339653a9\", element=\"184357cb-c386-4a33-874c-242e41165d32\")>]"
      ]
     },
     "execution_count": 14,
     "metadata": {},
     "output_type": "execute_result"
    }
   ],
   "source": [
    "header2=browser.find_elements(\"xpath\",\"//div[@class='td-wrap-in']\")\n",
    "header2"
   ]
  },
  {
   "cell_type": "code",
   "execution_count": 15,
   "id": "475c1552",
   "metadata": {},
   "outputs": [
    {
     "data": {
      "text/plain": [
       "['90.6', '96.5', '92.5', '70.9', '99.9', '66.1', '96.2', '93.3', '100']"
      ]
     },
     "execution_count": 15,
     "metadata": {},
     "output_type": "execute_result"
    }
   ],
   "source": [
    "#PARSING DATA\n",
    "value_head=[]\n",
    "for data in header2:\n",
    "    #get the text data\n",
    "    temp=data.text\n",
    "    value_head.append(temp)\n",
    "value_head=value_head[21:30]\n",
    "value_head"
   ]
  },
  {
   "cell_type": "code",
   "execution_count": 16,
   "id": "d1ba693c",
   "metadata": {},
   "outputs": [
    {
     "data": {
      "text/plain": [
       "{'Overall Score': '90.6',\n",
       " 'Academic Reputation': '96.5',\n",
       " 'Employer Reputation': '92.5',\n",
       " 'Citations per Faculty': '70.9',\n",
       " 'Faculty Student Ratio': '99.9',\n",
       " 'International Students Ratio': '66.1',\n",
       " 'International Faculty Ratio': '96.2',\n",
       " 'International Research Network\\nUnweighted': '93.3',\n",
       " 'Employment Outcomes\\nUnweighted': '100'}"
      ]
     },
     "execution_count": 16,
     "metadata": {},
     "output_type": "execute_result"
    }
   ],
   "source": [
    "d={}\n",
    "for i in range(len(column_head)):\n",
    "    d[column_head[i]]=value_head[i]\n",
    "d"
   ]
  },
  {
   "cell_type": "code",
   "execution_count": 17,
   "id": "2bd7c425",
   "metadata": {},
   "outputs": [
    {
     "data": {
      "text/plain": [
       "'{\"Overall Score\": \"90.6\", \"Academic Reputation\": \"96.5\", \"Employer Reputation\": \"92.5\", \"Citations per Faculty\": \"70.9\", \"Faculty Student Ratio\": \"99.9\", \"International Students Ratio\": \"66.1\", \"International Faculty Ratio\": \"96.2\", \"International Research Network\\\\nUnweighted\": \"93.3\", \"Employment Outcomes\\\\nUnweighted\": \"100\"}'"
      ]
     },
     "execution_count": 17,
     "metadata": {},
     "output_type": "execute_result"
    }
   ],
   "source": [
    "s1=json.dumps(d)\n",
    "s1"
   ]
  },
  {
   "cell_type": "code",
   "execution_count": 18,
   "id": "5437b630",
   "metadata": {},
   "outputs": [],
   "source": [
    "with open('University of Pennsylvania','w') as f:\n",
    "    json.dump(d,f)"
   ]
  },
  {
   "cell_type": "code",
   "execution_count": null,
   "id": "07931635",
   "metadata": {},
   "outputs": [],
   "source": []
  }
 ],
 "metadata": {
  "kernelspec": {
   "display_name": "Python 3 (ipykernel)",
   "language": "python",
   "name": "python3"
  },
  "language_info": {
   "codemirror_mode": {
    "name": "ipython",
    "version": 3
   },
   "file_extension": ".py",
   "mimetype": "text/x-python",
   "name": "python",
   "nbconvert_exporter": "python",
   "pygments_lexer": "ipython3",
   "version": "3.9.12"
  }
 },
 "nbformat": 4,
 "nbformat_minor": 5
}
