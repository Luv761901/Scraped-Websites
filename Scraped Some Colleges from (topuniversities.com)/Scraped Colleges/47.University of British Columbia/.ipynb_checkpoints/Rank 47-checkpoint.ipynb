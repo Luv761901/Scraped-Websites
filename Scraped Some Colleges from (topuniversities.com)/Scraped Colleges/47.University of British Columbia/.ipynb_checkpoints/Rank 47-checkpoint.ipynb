{
 "cells": [
  {
   "cell_type": "code",
   "execution_count": 1,
   "id": "3625b96e",
   "metadata": {},
   "outputs": [],
   "source": [
    "from selenium import webdriver\n",
    "from selenium.webdriver.chrome.service import Service\n",
    "import pandas as pd\n",
    "import json"
   ]
  },
  {
   "cell_type": "code",
   "execution_count": 2,
   "id": "d2a5f954",
   "metadata": {},
   "outputs": [],
   "source": [
    "path = Service('C:\\chromedriver.exe')"
   ]
  },
  {
   "cell_type": "code",
   "execution_count": 3,
   "id": "6443b12c",
   "metadata": {},
   "outputs": [],
   "source": [
    "\n",
    "# set path for the driver\n",
    "browser = webdriver.Chrome(service = path)\n"
   ]
  },
  {
   "cell_type": "code",
   "execution_count": 4,
   "id": "d901c7e9",
   "metadata": {},
   "outputs": [],
   "source": [
    "url = \"https://www.topuniversities.com/university-rankings/world-university-rankings/2023\"\n"
   ]
  },
  {
   "cell_type": "code",
   "execution_count": 5,
   "id": "d276e78c",
   "metadata": {},
   "outputs": [],
   "source": [
    "\n",
    "# open the page url ion chrome\n",
    "browser.get(url)\n"
   ]
  },
  {
   "cell_type": "code",
   "execution_count": 6,
   "id": "80935c53",
   "metadata": {},
   "outputs": [
    {
     "data": {
      "text/plain": [
       "[<selenium.webdriver.remote.webelement.WebElement (session=\"4610662174d43f3518061255dd8bda3a\", element=\"59ff6ca2-65c2-4ddf-a046-039266589b46\")>,\n",
       " <selenium.webdriver.remote.webelement.WebElement (session=\"4610662174d43f3518061255dd8bda3a\", element=\"68afc93b-e8fe-4e75-a885-e28325895109\")>,\n",
       " <selenium.webdriver.remote.webelement.WebElement (session=\"4610662174d43f3518061255dd8bda3a\", element=\"f12d8138-1eec-4271-a0e0-cdb5d777a0c2\")>,\n",
       " <selenium.webdriver.remote.webelement.WebElement (session=\"4610662174d43f3518061255dd8bda3a\", element=\"abe3a943-a239-457d-b000-fe0be192e218\")>,\n",
       " <selenium.webdriver.remote.webelement.WebElement (session=\"4610662174d43f3518061255dd8bda3a\", element=\"0f79ad3d-34e5-41c1-9f9b-5228b4ddf896\")>,\n",
       " <selenium.webdriver.remote.webelement.WebElement (session=\"4610662174d43f3518061255dd8bda3a\", element=\"4828e826-e579-4c52-8742-f734533c9bb4\")>,\n",
       " <selenium.webdriver.remote.webelement.WebElement (session=\"4610662174d43f3518061255dd8bda3a\", element=\"a7b8034c-cbb6-40bc-a141-ec42a2035d7a\")>,\n",
       " <selenium.webdriver.remote.webelement.WebElement (session=\"4610662174d43f3518061255dd8bda3a\", element=\"3c9d09df-194b-4663-98b4-98b3d32d50e1\")>,\n",
       " <selenium.webdriver.remote.webelement.WebElement (session=\"4610662174d43f3518061255dd8bda3a\", element=\"802a5b01-398d-487f-8b6f-e22e4aacb051\")>]"
      ]
     },
     "execution_count": 6,
     "metadata": {},
     "output_type": "execute_result"
    }
   ],
   "source": [
    "\n",
    "# GET EACH COLLEGE SPECIFICATION HEADERS\n",
    "header=browser.find_elements(\"xpath\",\"//div[@class='_click-function_ind']\")\n",
    "header"
   ]
  },
  {
   "cell_type": "code",
   "execution_count": 7,
   "id": "c69330e6",
   "metadata": {},
   "outputs": [
    {
     "data": {
      "text/plain": [
       "['Overall Score',\n",
       " 'Academic Reputation',\n",
       " 'Employer Reputation',\n",
       " 'Citations per Faculty',\n",
       " 'Faculty Student Ratio',\n",
       " 'International Students Ratio',\n",
       " 'International Faculty Ratio',\n",
       " 'International Research Network\\nUnweighted',\n",
       " 'Employment Outcomes\\nUnweighted']"
      ]
     },
     "execution_count": 7,
     "metadata": {},
     "output_type": "execute_result"
    }
   ],
   "source": [
    "#PARSING DATA\n",
    "column_head=[]\n",
    "for data in header:\n",
    "    #get the text data\n",
    "    temp=data.text\n",
    "    column_head.append(temp)\n",
    "column_head"
   ]
  },
  {
   "cell_type": "code",
   "execution_count": 8,
   "id": "45665ba7",
   "metadata": {},
   "outputs": [
    {
     "data": {
      "text/plain": [
       "[<selenium.webdriver.remote.webelement.WebElement (session=\"4610662174d43f3518061255dd8bda3a\", element=\"6f293fad-11b5-470d-82e5-eeea14ea78a6\")>,\n",
       " <selenium.webdriver.remote.webelement.WebElement (session=\"4610662174d43f3518061255dd8bda3a\", element=\"2c14b460-aef5-4649-a7ed-e5a79ba91e4b\")>,\n",
       " <selenium.webdriver.remote.webelement.WebElement (session=\"4610662174d43f3518061255dd8bda3a\", element=\"e08c0b1e-7cff-4eb3-b5b5-125c520f0fd3\")>,\n",
       " <selenium.webdriver.remote.webelement.WebElement (session=\"4610662174d43f3518061255dd8bda3a\", element=\"d6a9595f-2a23-41f2-846e-db4740a80551\")>,\n",
       " <selenium.webdriver.remote.webelement.WebElement (session=\"4610662174d43f3518061255dd8bda3a\", element=\"867422d2-2496-4415-9f3a-c73d1e92f8f6\")>,\n",
       " <selenium.webdriver.remote.webelement.WebElement (session=\"4610662174d43f3518061255dd8bda3a\", element=\"dfb8b082-f827-48db-adbd-518a3810c06f\")>,\n",
       " <selenium.webdriver.remote.webelement.WebElement (session=\"4610662174d43f3518061255dd8bda3a\", element=\"05cb9942-47fe-405d-887b-7eecaa3abfdb\")>,\n",
       " <selenium.webdriver.remote.webelement.WebElement (session=\"4610662174d43f3518061255dd8bda3a\", element=\"8fbbf9b2-99de-457d-be71-c4f17423819f\")>,\n",
       " <selenium.webdriver.remote.webelement.WebElement (session=\"4610662174d43f3518061255dd8bda3a\", element=\"f1d1dba0-4237-4a3e-868a-0da5c02fb1b4\")>,\n",
       " <selenium.webdriver.remote.webelement.WebElement (session=\"4610662174d43f3518061255dd8bda3a\", element=\"f639ffcb-2ba9-4794-8972-d44341309f91\")>,\n",
       " <selenium.webdriver.remote.webelement.WebElement (session=\"4610662174d43f3518061255dd8bda3a\", element=\"ceeb8659-fb76-4bcb-8419-1d778a796516\")>,\n",
       " <selenium.webdriver.remote.webelement.WebElement (session=\"4610662174d43f3518061255dd8bda3a\", element=\"ba46543e-a877-4545-8958-235dda86691e\")>,\n",
       " <selenium.webdriver.remote.webelement.WebElement (session=\"4610662174d43f3518061255dd8bda3a\", element=\"abd73b67-1874-4dcc-ba90-c724f19df17f\")>,\n",
       " <selenium.webdriver.remote.webelement.WebElement (session=\"4610662174d43f3518061255dd8bda3a\", element=\"18c1fdf1-6576-4e1f-aaf9-7e680a294d49\")>,\n",
       " <selenium.webdriver.remote.webelement.WebElement (session=\"4610662174d43f3518061255dd8bda3a\", element=\"94c6d2dd-ff52-4c95-a193-e26ed411fd40\")>,\n",
       " <selenium.webdriver.remote.webelement.WebElement (session=\"4610662174d43f3518061255dd8bda3a\", element=\"5698261c-2b5e-40d9-8a76-a6ae9631c3cf\")>,\n",
       " <selenium.webdriver.remote.webelement.WebElement (session=\"4610662174d43f3518061255dd8bda3a\", element=\"0257a5a2-8aa3-4197-bb1b-eb2bb76a7078\")>,\n",
       " <selenium.webdriver.remote.webelement.WebElement (session=\"4610662174d43f3518061255dd8bda3a\", element=\"0ec0fbd1-38f5-4592-8989-dc1ec3453901\")>,\n",
       " <selenium.webdriver.remote.webelement.WebElement (session=\"4610662174d43f3518061255dd8bda3a\", element=\"53b8599d-b8e6-46d9-a79d-a6b670d7945d\")>,\n",
       " <selenium.webdriver.remote.webelement.WebElement (session=\"4610662174d43f3518061255dd8bda3a\", element=\"0e698b30-92be-4673-9b20-499ab7d493d9\")>,\n",
       " <selenium.webdriver.remote.webelement.WebElement (session=\"4610662174d43f3518061255dd8bda3a\", element=\"168e21ae-9290-4935-9664-91b980d0e145\")>,\n",
       " <selenium.webdriver.remote.webelement.WebElement (session=\"4610662174d43f3518061255dd8bda3a\", element=\"bc155fe2-04bf-4ca0-86b7-ca9c4ced0f09\")>,\n",
       " <selenium.webdriver.remote.webelement.WebElement (session=\"4610662174d43f3518061255dd8bda3a\", element=\"a5ab1ffb-0a0d-478d-8b21-ead9ef5cb313\")>,\n",
       " <selenium.webdriver.remote.webelement.WebElement (session=\"4610662174d43f3518061255dd8bda3a\", element=\"07744ece-0232-426f-9b13-1c9ed0d00fe7\")>,\n",
       " <selenium.webdriver.remote.webelement.WebElement (session=\"4610662174d43f3518061255dd8bda3a\", element=\"9679d834-bf12-4635-b831-8cdbd9c9843c\")>,\n",
       " <selenium.webdriver.remote.webelement.WebElement (session=\"4610662174d43f3518061255dd8bda3a\", element=\"49ad8cec-014f-464a-9fda-6836eb62bdda\")>,\n",
       " <selenium.webdriver.remote.webelement.WebElement (session=\"4610662174d43f3518061255dd8bda3a\", element=\"35f59873-b456-4d5b-b9f0-3d90f92fa7dd\")>,\n",
       " <selenium.webdriver.remote.webelement.WebElement (session=\"4610662174d43f3518061255dd8bda3a\", element=\"134c59d1-6b3d-40f0-88f1-5555902e8c40\")>,\n",
       " <selenium.webdriver.remote.webelement.WebElement (session=\"4610662174d43f3518061255dd8bda3a\", element=\"d6b66a60-2fda-4118-98ed-3418a8690775\")>,\n",
       " <selenium.webdriver.remote.webelement.WebElement (session=\"4610662174d43f3518061255dd8bda3a\", element=\"b58a15f3-74ef-45b2-96ee-c2ca8d350f49\")>,\n",
       " <selenium.webdriver.remote.webelement.WebElement (session=\"4610662174d43f3518061255dd8bda3a\", element=\"23820ce3-c5ca-4be5-afea-63ee222815c1\")>,\n",
       " <selenium.webdriver.remote.webelement.WebElement (session=\"4610662174d43f3518061255dd8bda3a\", element=\"731e0849-f274-4863-aecb-0b463fb69a6d\")>,\n",
       " <selenium.webdriver.remote.webelement.WebElement (session=\"4610662174d43f3518061255dd8bda3a\", element=\"70ef2bc7-7410-4edc-94eb-9aae712917c9\")>,\n",
       " <selenium.webdriver.remote.webelement.WebElement (session=\"4610662174d43f3518061255dd8bda3a\", element=\"9f4db1a0-b009-4c4a-93a0-818580c4b3fc\")>,\n",
       " <selenium.webdriver.remote.webelement.WebElement (session=\"4610662174d43f3518061255dd8bda3a\", element=\"0e670a94-7ba5-4074-9a77-0f58eee6dff3\")>,\n",
       " <selenium.webdriver.remote.webelement.WebElement (session=\"4610662174d43f3518061255dd8bda3a\", element=\"59e65c2a-b475-4844-8f4f-6a402b6edded\")>,\n",
       " <selenium.webdriver.remote.webelement.WebElement (session=\"4610662174d43f3518061255dd8bda3a\", element=\"1e16c927-d781-4c71-99ea-d9873a8ca702\")>,\n",
       " <selenium.webdriver.remote.webelement.WebElement (session=\"4610662174d43f3518061255dd8bda3a\", element=\"e67e5f57-3bac-4f64-920f-099d18b28728\")>,\n",
       " <selenium.webdriver.remote.webelement.WebElement (session=\"4610662174d43f3518061255dd8bda3a\", element=\"e266a118-1ddb-4e42-9f21-f54d67367cb3\")>,\n",
       " <selenium.webdriver.remote.webelement.WebElement (session=\"4610662174d43f3518061255dd8bda3a\", element=\"67bd51dd-b399-40b1-aa80-5b851de71425\")>,\n",
       " <selenium.webdriver.remote.webelement.WebElement (session=\"4610662174d43f3518061255dd8bda3a\", element=\"81875aee-d401-4748-a51e-bdba3351b7dc\")>,\n",
       " <selenium.webdriver.remote.webelement.WebElement (session=\"4610662174d43f3518061255dd8bda3a\", element=\"0cce12d0-2495-4e2a-bdbf-5af351234fe4\")>,\n",
       " <selenium.webdriver.remote.webelement.WebElement (session=\"4610662174d43f3518061255dd8bda3a\", element=\"4db86ea1-43a8-42ab-85a3-2283d1e446ef\")>,\n",
       " <selenium.webdriver.remote.webelement.WebElement (session=\"4610662174d43f3518061255dd8bda3a\", element=\"28e89791-68f0-4bf9-a366-88132967844c\")>,\n",
       " <selenium.webdriver.remote.webelement.WebElement (session=\"4610662174d43f3518061255dd8bda3a\", element=\"b06240ef-3d69-4411-9b81-f9c472b926ec\")>,\n",
       " <selenium.webdriver.remote.webelement.WebElement (session=\"4610662174d43f3518061255dd8bda3a\", element=\"2fc5350e-5c6d-4a18-b062-c36376752ce1\")>,\n",
       " <selenium.webdriver.remote.webelement.WebElement (session=\"4610662174d43f3518061255dd8bda3a\", element=\"48ff0145-3853-4637-9b06-96db715be929\")>,\n",
       " <selenium.webdriver.remote.webelement.WebElement (session=\"4610662174d43f3518061255dd8bda3a\", element=\"78143b06-be2b-4a68-8ee3-a24b4246bab2\")>,\n",
       " <selenium.webdriver.remote.webelement.WebElement (session=\"4610662174d43f3518061255dd8bda3a\", element=\"9172ce1d-aea1-4dc0-b175-b48a0327687f\")>,\n",
       " <selenium.webdriver.remote.webelement.WebElement (session=\"4610662174d43f3518061255dd8bda3a\", element=\"d47493b3-b453-4750-8524-81493b52acbb\")>,\n",
       " <selenium.webdriver.remote.webelement.WebElement (session=\"4610662174d43f3518061255dd8bda3a\", element=\"46a897a2-21d2-4110-927c-8b9c719348b6\")>,\n",
       " <selenium.webdriver.remote.webelement.WebElement (session=\"4610662174d43f3518061255dd8bda3a\", element=\"61fb7a09-1a07-496c-bc70-69c0fe3cde59\")>,\n",
       " <selenium.webdriver.remote.webelement.WebElement (session=\"4610662174d43f3518061255dd8bda3a\", element=\"df0a8985-0108-4996-a249-d006ebb3afeb\")>,\n",
       " <selenium.webdriver.remote.webelement.WebElement (session=\"4610662174d43f3518061255dd8bda3a\", element=\"034ad70a-44ea-45d0-83e7-900d7883e856\")>,\n",
       " <selenium.webdriver.remote.webelement.WebElement (session=\"4610662174d43f3518061255dd8bda3a\", element=\"38bfba78-a63c-4f13-b1b5-06a2a62873fc\")>,\n",
       " <selenium.webdriver.remote.webelement.WebElement (session=\"4610662174d43f3518061255dd8bda3a\", element=\"48623b01-6634-4ef1-8f08-3fecb48c7cf8\")>,\n",
       " <selenium.webdriver.remote.webelement.WebElement (session=\"4610662174d43f3518061255dd8bda3a\", element=\"0e134a09-ede0-4ac7-9203-7e94098d3f44\")>,\n",
       " <selenium.webdriver.remote.webelement.WebElement (session=\"4610662174d43f3518061255dd8bda3a\", element=\"1f2dbbc4-40f5-4350-869b-b59ecf434057\")>,\n",
       " <selenium.webdriver.remote.webelement.WebElement (session=\"4610662174d43f3518061255dd8bda3a\", element=\"6173307e-5900-4003-805c-5dff5005994a\")>,\n",
       " <selenium.webdriver.remote.webelement.WebElement (session=\"4610662174d43f3518061255dd8bda3a\", element=\"9eba6e53-5380-4dd0-bc02-63da593a225b\")>,\n",
       " <selenium.webdriver.remote.webelement.WebElement (session=\"4610662174d43f3518061255dd8bda3a\", element=\"218d39d2-05e1-413e-8419-1e987504890c\")>,\n",
       " <selenium.webdriver.remote.webelement.WebElement (session=\"4610662174d43f3518061255dd8bda3a\", element=\"fdc8edfa-0ccf-44d7-ad88-68d0865e1d0d\")>,\n",
       " <selenium.webdriver.remote.webelement.WebElement (session=\"4610662174d43f3518061255dd8bda3a\", element=\"0f3a66f8-5a47-447a-80a4-a07d49d30fcd\")>,\n",
       " <selenium.webdriver.remote.webelement.WebElement (session=\"4610662174d43f3518061255dd8bda3a\", element=\"ecf53c20-e102-4ddd-a677-0ecf523284aa\")>,\n",
       " <selenium.webdriver.remote.webelement.WebElement (session=\"4610662174d43f3518061255dd8bda3a\", element=\"7ad9e4af-4c10-41c7-bc43-23811bf6c9b5\")>,\n",
       " <selenium.webdriver.remote.webelement.WebElement (session=\"4610662174d43f3518061255dd8bda3a\", element=\"7c80b296-b53b-4e96-ae7e-f8e3ed193fa9\")>,\n",
       " <selenium.webdriver.remote.webelement.WebElement (session=\"4610662174d43f3518061255dd8bda3a\", element=\"a93c56c4-9128-43f0-851b-15033195c161\")>,\n",
       " <selenium.webdriver.remote.webelement.WebElement (session=\"4610662174d43f3518061255dd8bda3a\", element=\"2b7003fc-84c2-4140-a743-b1e0c2e60cb2\")>,\n",
       " <selenium.webdriver.remote.webelement.WebElement (session=\"4610662174d43f3518061255dd8bda3a\", element=\"c5b9a4d0-81b5-48ab-b224-72d2fdd5aca9\")>,\n",
       " <selenium.webdriver.remote.webelement.WebElement (session=\"4610662174d43f3518061255dd8bda3a\", element=\"d7562425-f444-42e4-b8f6-d6b2c8ca5ad1\")>,\n",
       " <selenium.webdriver.remote.webelement.WebElement (session=\"4610662174d43f3518061255dd8bda3a\", element=\"db33e762-600c-4bb1-ba53-25da1957239a\")>,\n",
       " <selenium.webdriver.remote.webelement.WebElement (session=\"4610662174d43f3518061255dd8bda3a\", element=\"41174821-1c38-4d70-9e43-661c5ec29b47\")>,\n",
       " <selenium.webdriver.remote.webelement.WebElement (session=\"4610662174d43f3518061255dd8bda3a\", element=\"a6792576-2b57-4e65-b794-2d302b2851e6\")>,\n",
       " <selenium.webdriver.remote.webelement.WebElement (session=\"4610662174d43f3518061255dd8bda3a\", element=\"be3fc5bc-8ec2-4e20-9de9-78271d3de097\")>,\n",
       " <selenium.webdriver.remote.webelement.WebElement (session=\"4610662174d43f3518061255dd8bda3a\", element=\"c56b4a66-8b3a-4701-91d6-0a37e95362bc\")>,\n",
       " <selenium.webdriver.remote.webelement.WebElement (session=\"4610662174d43f3518061255dd8bda3a\", element=\"76955cce-ab5e-4968-b997-74a9bcb8c90f\")>,\n",
       " <selenium.webdriver.remote.webelement.WebElement (session=\"4610662174d43f3518061255dd8bda3a\", element=\"39dc8be8-777c-40e5-808b-1a5bdd77d942\")>,\n",
       " <selenium.webdriver.remote.webelement.WebElement (session=\"4610662174d43f3518061255dd8bda3a\", element=\"840d667d-3ccb-434d-93f0-cc475f004b5e\")>,\n",
       " <selenium.webdriver.remote.webelement.WebElement (session=\"4610662174d43f3518061255dd8bda3a\", element=\"12b4a886-e1d9-416f-9d72-65259ab83c9c\")>,\n",
       " <selenium.webdriver.remote.webelement.WebElement (session=\"4610662174d43f3518061255dd8bda3a\", element=\"54ec33c5-338d-434b-a13e-46af41cc0e61\")>,\n",
       " <selenium.webdriver.remote.webelement.WebElement (session=\"4610662174d43f3518061255dd8bda3a\", element=\"ed7a8bfc-c751-43c5-bbc8-c6c4a4955cac\")>,\n",
       " <selenium.webdriver.remote.webelement.WebElement (session=\"4610662174d43f3518061255dd8bda3a\", element=\"71a23797-34f3-4857-9616-63abf9c2a024\")>,\n",
       " <selenium.webdriver.remote.webelement.WebElement (session=\"4610662174d43f3518061255dd8bda3a\", element=\"0b17d7a1-d174-4c5f-af70-1da22c7bc721\")>,\n",
       " <selenium.webdriver.remote.webelement.WebElement (session=\"4610662174d43f3518061255dd8bda3a\", element=\"a6d2b7da-94c5-40e0-9ffc-b1cc9be54d7b\")>,\n",
       " <selenium.webdriver.remote.webelement.WebElement (session=\"4610662174d43f3518061255dd8bda3a\", element=\"e56a3b35-110f-40b5-a866-ea4650946631\")>,\n",
       " <selenium.webdriver.remote.webelement.WebElement (session=\"4610662174d43f3518061255dd8bda3a\", element=\"163d0a70-56a0-405b-a931-ac5cecff5ecb\")>,\n",
       " <selenium.webdriver.remote.webelement.WebElement (session=\"4610662174d43f3518061255dd8bda3a\", element=\"85da51fc-90be-4bf8-9afb-9057c5934b07\")>,\n",
       " <selenium.webdriver.remote.webelement.WebElement (session=\"4610662174d43f3518061255dd8bda3a\", element=\"5c0d17b8-3f82-47c7-8b2d-6862a6fa58b3\")>,\n",
       " <selenium.webdriver.remote.webelement.WebElement (session=\"4610662174d43f3518061255dd8bda3a\", element=\"5ede7500-ec7a-4807-a957-ce63d256eeb4\")>,\n",
       " <selenium.webdriver.remote.webelement.WebElement (session=\"4610662174d43f3518061255dd8bda3a\", element=\"234481a5-fd78-46d6-8cba-1b8ced68c4c1\")>,\n",
       " <selenium.webdriver.remote.webelement.WebElement (session=\"4610662174d43f3518061255dd8bda3a\", element=\"c2b840ca-40e4-4449-82dc-6a1dd7faccc9\")>,\n",
       " <selenium.webdriver.remote.webelement.WebElement (session=\"4610662174d43f3518061255dd8bda3a\", element=\"fa19d9ea-d26f-4b73-b170-0397bf430839\")>,\n",
       " <selenium.webdriver.remote.webelement.WebElement (session=\"4610662174d43f3518061255dd8bda3a\", element=\"bc178ad3-af3e-4ce6-9315-365199d8d736\")>,\n",
       " <selenium.webdriver.remote.webelement.WebElement (session=\"4610662174d43f3518061255dd8bda3a\", element=\"b11685fd-2a38-4c3e-8c1e-6eea1b1524bb\")>,\n",
       " <selenium.webdriver.remote.webelement.WebElement (session=\"4610662174d43f3518061255dd8bda3a\", element=\"d7815871-27e2-4ae9-895e-e05aa6e88b73\")>,\n",
       " <selenium.webdriver.remote.webelement.WebElement (session=\"4610662174d43f3518061255dd8bda3a\", element=\"f35098c2-bbbc-40af-a840-41300e89db93\")>,\n",
       " <selenium.webdriver.remote.webelement.WebElement (session=\"4610662174d43f3518061255dd8bda3a\", element=\"4f1df39c-feee-4b0f-93b9-022527aaf83c\")>,\n",
       " <selenium.webdriver.remote.webelement.WebElement (session=\"4610662174d43f3518061255dd8bda3a\", element=\"04c21c02-9510-4984-a9ad-2c6a15294c6d\")>,\n",
       " <selenium.webdriver.remote.webelement.WebElement (session=\"4610662174d43f3518061255dd8bda3a\", element=\"793b8b85-b9db-40aa-9808-8f03732f04e4\")>,\n",
       " <selenium.webdriver.remote.webelement.WebElement (session=\"4610662174d43f3518061255dd8bda3a\", element=\"9d5835c9-4786-43a0-b057-a1c274101748\")>]"
      ]
     },
     "execution_count": 8,
     "metadata": {},
     "output_type": "execute_result"
    }
   ],
   "source": [
    "header2=browser.find_elements(\"xpath\",\"//div[@class='td-wrap-in']\")\n",
    "header2"
   ]
  },
  {
   "cell_type": "code",
   "execution_count": 9,
   "id": "9c4abe6e",
   "metadata": {},
   "outputs": [
    {
     "data": {
      "text/plain": [
       "['77', '98', '95.4', '42.1', '56.5', '74.9', '89', '97.9', '75.2']"
      ]
     },
     "execution_count": 9,
     "metadata": {},
     "output_type": "execute_result"
    }
   ],
   "source": [
    "#PARSING DATA\n",
    "value_head=[]\n",
    "for data in header2:\n",
    "    #get the text data\n",
    "    temp=data.text\n",
    "    value_head.append(temp)\n",
    "value_head=value_head[61:70]\n",
    "value_head"
   ]
  },
  {
   "cell_type": "code",
   "execution_count": 10,
   "id": "c161617c",
   "metadata": {},
   "outputs": [
    {
     "data": {
      "text/plain": [
       "{'Overall Score': '77',\n",
       " 'Academic Reputation': '98',\n",
       " 'Employer Reputation': '95.4',\n",
       " 'Citations per Faculty': '42.1',\n",
       " 'Faculty Student Ratio': '56.5',\n",
       " 'International Students Ratio': '74.9',\n",
       " 'International Faculty Ratio': '89',\n",
       " 'International Research Network\\nUnweighted': '97.9',\n",
       " 'Employment Outcomes\\nUnweighted': '75.2'}"
      ]
     },
     "execution_count": 10,
     "metadata": {},
     "output_type": "execute_result"
    }
   ],
   "source": [
    "d={}\n",
    "for i in range(len(column_head)):\n",
    "    d[column_head[i]]=value_head[i]\n",
    "d"
   ]
  },
  {
   "cell_type": "code",
   "execution_count": 11,
   "id": "c373728a",
   "metadata": {},
   "outputs": [
    {
     "data": {
      "text/plain": [
       "'{\"Overall Score\": \"77\", \"Academic Reputation\": \"98\", \"Employer Reputation\": \"95.4\", \"Citations per Faculty\": \"42.1\", \"Faculty Student Ratio\": \"56.5\", \"International Students Ratio\": \"74.9\", \"International Faculty Ratio\": \"89\", \"International Research Network\\\\nUnweighted\": \"97.9\", \"Employment Outcomes\\\\nUnweighted\": \"75.2\"}'"
      ]
     },
     "execution_count": 11,
     "metadata": {},
     "output_type": "execute_result"
    }
   ],
   "source": [
    "s1=json.dumps(d)\n",
    "s1"
   ]
  },
  {
   "cell_type": "code",
   "execution_count": 12,
   "id": "e8af7452",
   "metadata": {},
   "outputs": [],
   "source": [
    "\n",
    "with open('University of British Columbia.json','w') as f:\n",
    "    json.dump(d,f)"
   ]
  },
  {
   "cell_type": "code",
   "execution_count": null,
   "id": "edb398b5",
   "metadata": {},
   "outputs": [],
   "source": []
  }
 ],
 "metadata": {
  "kernelspec": {
   "display_name": "Python 3 (ipykernel)",
   "language": "python",
   "name": "python3"
  },
  "language_info": {
   "codemirror_mode": {
    "name": "ipython",
    "version": 3
   },
   "file_extension": ".py",
   "mimetype": "text/x-python",
   "name": "python",
   "nbconvert_exporter": "python",
   "pygments_lexer": "ipython3",
   "version": "3.9.12"
  }
 },
 "nbformat": 4,
 "nbformat_minor": 5
}
