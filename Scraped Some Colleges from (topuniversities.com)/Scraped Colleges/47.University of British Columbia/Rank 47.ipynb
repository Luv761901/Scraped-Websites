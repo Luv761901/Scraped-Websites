{
 "cells": [
  {
   "cell_type": "code",
   "execution_count": 1,
   "id": "3625b96e",
   "metadata": {},
   "outputs": [],
   "source": [
    "from selenium import webdriver\n",
    "from selenium.webdriver.chrome.service import Service\n",
    "import pandas as pd\n",
    "import json"
   ]
  },
  {
   "cell_type": "code",
   "execution_count": 2,
   "id": "d2a5f954",
   "metadata": {},
   "outputs": [],
   "source": [
    "path = Service('C:\\chromedriver.exe')"
   ]
  },
  {
   "cell_type": "code",
   "execution_count": 3,
   "id": "6443b12c",
   "metadata": {},
   "outputs": [],
   "source": [
    "\n",
    "# set path for the driver\n",
    "browser = webdriver.Chrome(service = path)\n"
   ]
  },
  {
   "cell_type": "code",
   "execution_count": 4,
   "id": "d901c7e9",
   "metadata": {},
   "outputs": [],
   "source": [
    "url = \"https://www.topuniversities.com/university-rankings/world-university-rankings/2023\"\n"
   ]
  },
  {
   "cell_type": "code",
   "execution_count": 5,
   "id": "d276e78c",
   "metadata": {},
   "outputs": [],
   "source": [
    "\n",
    "# open the page url ion chrome\n",
    "browser.get(url)\n"
   ]
  },
  {
   "cell_type": "code",
   "execution_count": 6,
   "id": "b48e1e38",
   "metadata": {},
   "outputs": [
    {
     "data": {
      "text/plain": [
       "[<selenium.webdriver.remote.webelement.WebElement (session=\"b2969f085e84aed2678131777f69ff82\", element=\"46166574-1eea-4562-95e7-bcb84f005eb2\")>,\n",
       " <selenium.webdriver.remote.webelement.WebElement (session=\"b2969f085e84aed2678131777f69ff82\", element=\"503851df-f32c-4d62-b1cb-01b9e1c0117c\")>,\n",
       " <selenium.webdriver.remote.webelement.WebElement (session=\"b2969f085e84aed2678131777f69ff82\", element=\"90ddc834-455f-49a0-a68c-a7ee8af6f6b3\")>,\n",
       " <selenium.webdriver.remote.webelement.WebElement (session=\"b2969f085e84aed2678131777f69ff82\", element=\"5f4e0ddf-ff74-48c0-b1d6-7ce1fd55e5d6\")>,\n",
       " <selenium.webdriver.remote.webelement.WebElement (session=\"b2969f085e84aed2678131777f69ff82\", element=\"45b1fee7-3d8e-482d-a2f3-24179f768e97\")>,\n",
       " <selenium.webdriver.remote.webelement.WebElement (session=\"b2969f085e84aed2678131777f69ff82\", element=\"8e0efdb8-2a68-480b-a7f0-0ac9281f7a90\")>,\n",
       " <selenium.webdriver.remote.webelement.WebElement (session=\"b2969f085e84aed2678131777f69ff82\", element=\"00e7abda-6642-4a0e-a5d7-035f3fd70689\")>,\n",
       " <selenium.webdriver.remote.webelement.WebElement (session=\"b2969f085e84aed2678131777f69ff82\", element=\"f80969d6-e42a-4843-8d1e-643455e7c9b7\")>,\n",
       " <selenium.webdriver.remote.webelement.WebElement (session=\"b2969f085e84aed2678131777f69ff82\", element=\"a924499f-a494-4d81-98a8-7a5928bb0f12\")>,\n",
       " <selenium.webdriver.remote.webelement.WebElement (session=\"b2969f085e84aed2678131777f69ff82\", element=\"98d36277-c1ee-41c5-bef5-30fd1b44fd1b\")>,\n",
       " <selenium.webdriver.remote.webelement.WebElement (session=\"b2969f085e84aed2678131777f69ff82\", element=\"875ac931-9c02-468b-a52d-12f11f55b8dd\")>,\n",
       " <selenium.webdriver.remote.webelement.WebElement (session=\"b2969f085e84aed2678131777f69ff82\", element=\"18e35097-3450-40b2-8a1a-a570577cd2ee\")>,\n",
       " <selenium.webdriver.remote.webelement.WebElement (session=\"b2969f085e84aed2678131777f69ff82\", element=\"d7ef7222-b41c-4b78-8737-c5cef79d4b8d\")>,\n",
       " <selenium.webdriver.remote.webelement.WebElement (session=\"b2969f085e84aed2678131777f69ff82\", element=\"45215086-a6d2-418a-a60a-99f8cbb71f6d\")>,\n",
       " <selenium.webdriver.remote.webelement.WebElement (session=\"b2969f085e84aed2678131777f69ff82\", element=\"2594c786-6599-4d55-8480-b113a8732cd9\")>,\n",
       " <selenium.webdriver.remote.webelement.WebElement (session=\"b2969f085e84aed2678131777f69ff82\", element=\"1b185e62-eee6-4b47-90da-4f63901de7fd\")>,\n",
       " <selenium.webdriver.remote.webelement.WebElement (session=\"b2969f085e84aed2678131777f69ff82\", element=\"7835f427-773d-48f7-acd2-005286b860b0\")>,\n",
       " <selenium.webdriver.remote.webelement.WebElement (session=\"b2969f085e84aed2678131777f69ff82\", element=\"81313be8-5bd5-413a-944a-266635a24bf0\")>,\n",
       " <selenium.webdriver.remote.webelement.WebElement (session=\"b2969f085e84aed2678131777f69ff82\", element=\"3197b987-17da-48cb-bdfe-5acb84c1483c\")>,\n",
       " <selenium.webdriver.remote.webelement.WebElement (session=\"b2969f085e84aed2678131777f69ff82\", element=\"8a5827ee-a3cc-46b1-a0a5-8ec6c662ec0a\")>]"
      ]
     },
     "execution_count": 6,
     "metadata": {},
     "output_type": "execute_result"
    }
   ],
   "source": [
    "l1=browser.find_elements(\"xpath\",\"//div[@class='location ']\")\n",
    "l1"
   ]
  },
  {
   "cell_type": "code",
   "execution_count": 7,
   "id": "84115826",
   "metadata": {},
   "outputs": [
    {
     "data": {
      "text/plain": [
       "['Sydney, Australia',\n",
       " 'Daejeon, South Korea',\n",
       " 'Hangzhou, China (Mainland)',\n",
       " 'Los Angeles, United States',\n",
       " 'Sydney, Australia',\n",
       " 'Shanghai, China (Mainland)',\n",
       " 'Vancouver, Canada',\n",
       " 'Palaiseau Cedex, France',\n",
       " 'Munich, Germany',\n",
       " 'Durham, United States']"
      ]
     },
     "execution_count": 7,
     "metadata": {},
     "output_type": "execute_result"
    }
   ],
   "source": [
    "loc=[]\n",
    "for data in l1:\n",
    "    #get the text data\n",
    "    temp=data.text\n",
    "    loc.append(temp)\n",
    "loc=loc[10:]\n",
    "loc"
   ]
  },
  {
   "cell_type": "code",
   "execution_count": 8,
   "id": "58cc7ccd",
   "metadata": {},
   "outputs": [
    {
     "data": {
      "text/plain": [
       "[<selenium.webdriver.remote.webelement.WebElement (session=\"b2969f085e84aed2678131777f69ff82\", element=\"6cb80a75-1658-4b20-96ec-da9f95d8cacb\")>,\n",
       " <selenium.webdriver.remote.webelement.WebElement (session=\"b2969f085e84aed2678131777f69ff82\", element=\"3fe6e060-4a2d-4ce1-a40d-8f5b5c6a84c9\")>,\n",
       " <selenium.webdriver.remote.webelement.WebElement (session=\"b2969f085e84aed2678131777f69ff82\", element=\"8cfa7b06-3c78-4154-8c2c-696120cda707\")>,\n",
       " <selenium.webdriver.remote.webelement.WebElement (session=\"b2969f085e84aed2678131777f69ff82\", element=\"18b88b02-c539-4092-afad-f533af746178\")>,\n",
       " <selenium.webdriver.remote.webelement.WebElement (session=\"b2969f085e84aed2678131777f69ff82\", element=\"8ab1d7dd-957c-40a0-82f1-e5e9d0458102\")>,\n",
       " <selenium.webdriver.remote.webelement.WebElement (session=\"b2969f085e84aed2678131777f69ff82\", element=\"5fdae1dd-a296-43ea-a3ee-e48d78210cd5\")>,\n",
       " <selenium.webdriver.remote.webelement.WebElement (session=\"b2969f085e84aed2678131777f69ff82\", element=\"3c2f623d-5e06-46b5-8a19-7c46f340b774\")>,\n",
       " <selenium.webdriver.remote.webelement.WebElement (session=\"b2969f085e84aed2678131777f69ff82\", element=\"36bce52e-3187-44fb-87c8-4f936619d38c\")>,\n",
       " <selenium.webdriver.remote.webelement.WebElement (session=\"b2969f085e84aed2678131777f69ff82\", element=\"f7e320d9-a63c-4254-b8e4-8b5c5a61e7d5\")>,\n",
       " <selenium.webdriver.remote.webelement.WebElement (session=\"b2969f085e84aed2678131777f69ff82\", element=\"04aa5495-3fd5-446c-b3e3-70c50b1dfb65\")>]"
      ]
     },
     "execution_count": 8,
     "metadata": {},
     "output_type": "execute_result"
    }
   ],
   "source": [
    "l2=browser.find_elements(\"xpath\",\"//div[@class='_univ-rank ']\")\n",
    "l2"
   ]
  },
  {
   "cell_type": "code",
   "execution_count": 9,
   "id": "38ac226c",
   "metadata": {},
   "outputs": [
    {
     "data": {
      "text/plain": [
       "['41', '=42', '=42', '44', '45', '46', '47', '48', '49', '=50']"
      ]
     },
     "execution_count": 9,
     "metadata": {},
     "output_type": "execute_result"
    }
   ],
   "source": [
    "RANK=[]\n",
    "for data in l2:\n",
    "    #get the text data\n",
    "    temp=data.text\n",
    "    RANK.append(temp)\n",
    "RANK"
   ]
  },
  {
   "cell_type": "code",
   "execution_count": 10,
   "id": "80935c53",
   "metadata": {},
   "outputs": [
    {
     "data": {
      "text/plain": [
       "[<selenium.webdriver.remote.webelement.WebElement (session=\"b2969f085e84aed2678131777f69ff82\", element=\"11d6a9d4-2992-439c-b6cb-e8353a55903d\")>,\n",
       " <selenium.webdriver.remote.webelement.WebElement (session=\"b2969f085e84aed2678131777f69ff82\", element=\"1b557097-261a-4b28-a6b2-4fc476141efc\")>,\n",
       " <selenium.webdriver.remote.webelement.WebElement (session=\"b2969f085e84aed2678131777f69ff82\", element=\"355099a8-87fb-4075-950c-430c51c88d8b\")>,\n",
       " <selenium.webdriver.remote.webelement.WebElement (session=\"b2969f085e84aed2678131777f69ff82\", element=\"e28f9757-9e17-4250-b1d9-5b30a854219c\")>,\n",
       " <selenium.webdriver.remote.webelement.WebElement (session=\"b2969f085e84aed2678131777f69ff82\", element=\"62e627cf-39fb-4860-a10e-673ac194868c\")>,\n",
       " <selenium.webdriver.remote.webelement.WebElement (session=\"b2969f085e84aed2678131777f69ff82\", element=\"55320519-dd2b-4c1e-b648-fab55c2fcadf\")>,\n",
       " <selenium.webdriver.remote.webelement.WebElement (session=\"b2969f085e84aed2678131777f69ff82\", element=\"985a190a-36f8-4612-a7b3-991642badee5\")>,\n",
       " <selenium.webdriver.remote.webelement.WebElement (session=\"b2969f085e84aed2678131777f69ff82\", element=\"5bfb56a0-1bf4-47cd-9973-fa9d4e7ef72a\")>,\n",
       " <selenium.webdriver.remote.webelement.WebElement (session=\"b2969f085e84aed2678131777f69ff82\", element=\"57a71558-7395-4daf-87e6-2d3f6ec0c37f\")>]"
      ]
     },
     "execution_count": 10,
     "metadata": {},
     "output_type": "execute_result"
    }
   ],
   "source": [
    "\n",
    "# GET EACH COLLEGE SPECIFICATION HEADERS\n",
    "header=browser.find_elements(\"xpath\",\"//div[@class='_click-function_ind']\")\n",
    "header"
   ]
  },
  {
   "cell_type": "code",
   "execution_count": 11,
   "id": "c69330e6",
   "metadata": {},
   "outputs": [
    {
     "data": {
      "text/plain": [
       "['Overall Score',\n",
       " 'Academic Reputation',\n",
       " 'Employer Reputation',\n",
       " 'Citations per Faculty',\n",
       " 'Faculty Student Ratio',\n",
       " 'International Students Ratio',\n",
       " 'International Faculty Ratio',\n",
       " 'International Research Network\\nUnweighted',\n",
       " 'Employment Outcomes\\nUnweighted']"
      ]
     },
     "execution_count": 11,
     "metadata": {},
     "output_type": "execute_result"
    }
   ],
   "source": [
    "#PARSING DATA\n",
    "column_head=[]\n",
    "for data in header:\n",
    "    #get the text data\n",
    "    temp=data.text\n",
    "    column_head.append(temp)\n",
    "column_head"
   ]
  },
  {
   "cell_type": "code",
   "execution_count": 12,
   "id": "45665ba7",
   "metadata": {},
   "outputs": [
    {
     "data": {
      "text/plain": [
       "[<selenium.webdriver.remote.webelement.WebElement (session=\"b2969f085e84aed2678131777f69ff82\", element=\"69827d30-1265-4132-bf7f-e7956d430f26\")>,\n",
       " <selenium.webdriver.remote.webelement.WebElement (session=\"b2969f085e84aed2678131777f69ff82\", element=\"e3bd4ec1-c667-46ed-b545-811ec03dafab\")>,\n",
       " <selenium.webdriver.remote.webelement.WebElement (session=\"b2969f085e84aed2678131777f69ff82\", element=\"2e940d04-339b-4562-9965-aae6e88772a9\")>,\n",
       " <selenium.webdriver.remote.webelement.WebElement (session=\"b2969f085e84aed2678131777f69ff82\", element=\"be35a11c-04a8-4013-9f27-7acf0b443022\")>,\n",
       " <selenium.webdriver.remote.webelement.WebElement (session=\"b2969f085e84aed2678131777f69ff82\", element=\"b41dc56f-d2e8-4610-82c3-8cade30bd2d7\")>,\n",
       " <selenium.webdriver.remote.webelement.WebElement (session=\"b2969f085e84aed2678131777f69ff82\", element=\"465fec88-b77c-4dd6-8949-30b0576c0d93\")>,\n",
       " <selenium.webdriver.remote.webelement.WebElement (session=\"b2969f085e84aed2678131777f69ff82\", element=\"11461ba4-54ff-44bc-8b6b-1c612156caeb\")>,\n",
       " <selenium.webdriver.remote.webelement.WebElement (session=\"b2969f085e84aed2678131777f69ff82\", element=\"7f696596-d8c2-4dec-95ee-34efbfaa87f3\")>,\n",
       " <selenium.webdriver.remote.webelement.WebElement (session=\"b2969f085e84aed2678131777f69ff82\", element=\"11cb0e60-18e5-4f2f-921b-c879c08c537d\")>,\n",
       " <selenium.webdriver.remote.webelement.WebElement (session=\"b2969f085e84aed2678131777f69ff82\", element=\"caafdfc6-71ea-4b2a-9760-63380f3787ff\")>,\n",
       " <selenium.webdriver.remote.webelement.WebElement (session=\"b2969f085e84aed2678131777f69ff82\", element=\"c9091772-cb3b-4c1c-b99a-bc830cde1c31\")>,\n",
       " <selenium.webdriver.remote.webelement.WebElement (session=\"b2969f085e84aed2678131777f69ff82\", element=\"c29e3d7f-b4b2-4d1b-8b26-fec5ed7cfc5f\")>,\n",
       " <selenium.webdriver.remote.webelement.WebElement (session=\"b2969f085e84aed2678131777f69ff82\", element=\"ce5939d5-85d8-484a-bfbf-0f1214aba03a\")>,\n",
       " <selenium.webdriver.remote.webelement.WebElement (session=\"b2969f085e84aed2678131777f69ff82\", element=\"1494ebce-42e5-4ade-8df8-cca2f30eb8db\")>,\n",
       " <selenium.webdriver.remote.webelement.WebElement (session=\"b2969f085e84aed2678131777f69ff82\", element=\"63da96ea-ef5a-408d-a78a-29df4f204389\")>,\n",
       " <selenium.webdriver.remote.webelement.WebElement (session=\"b2969f085e84aed2678131777f69ff82\", element=\"9353ff00-c51b-4dc5-8963-82dd44384a97\")>,\n",
       " <selenium.webdriver.remote.webelement.WebElement (session=\"b2969f085e84aed2678131777f69ff82\", element=\"1dafd647-ca18-477b-9e6e-ce690062e070\")>,\n",
       " <selenium.webdriver.remote.webelement.WebElement (session=\"b2969f085e84aed2678131777f69ff82\", element=\"7213492e-f93e-4477-bd3a-34118bbf4939\")>,\n",
       " <selenium.webdriver.remote.webelement.WebElement (session=\"b2969f085e84aed2678131777f69ff82\", element=\"9af2adc0-3079-4b9d-a851-a989af2a116d\")>,\n",
       " <selenium.webdriver.remote.webelement.WebElement (session=\"b2969f085e84aed2678131777f69ff82\", element=\"7d1afb97-b09f-42ac-b9ac-4c3aaa5acb96\")>,\n",
       " <selenium.webdriver.remote.webelement.WebElement (session=\"b2969f085e84aed2678131777f69ff82\", element=\"6f0a5d8a-f743-4e66-a326-72197d3faf41\")>,\n",
       " <selenium.webdriver.remote.webelement.WebElement (session=\"b2969f085e84aed2678131777f69ff82\", element=\"2b9ce1d5-ce48-4540-8a3a-af2abdcaf71f\")>,\n",
       " <selenium.webdriver.remote.webelement.WebElement (session=\"b2969f085e84aed2678131777f69ff82\", element=\"5349239d-caac-4e4c-a56b-e4b8301b419e\")>,\n",
       " <selenium.webdriver.remote.webelement.WebElement (session=\"b2969f085e84aed2678131777f69ff82\", element=\"6e29e852-32d2-4a89-ae40-6cd82678b80b\")>,\n",
       " <selenium.webdriver.remote.webelement.WebElement (session=\"b2969f085e84aed2678131777f69ff82\", element=\"f0dcb017-8999-4395-8f26-4bcf02431abc\")>,\n",
       " <selenium.webdriver.remote.webelement.WebElement (session=\"b2969f085e84aed2678131777f69ff82\", element=\"5d5e4723-3b8b-4e8b-9d92-34232f96541a\")>,\n",
       " <selenium.webdriver.remote.webelement.WebElement (session=\"b2969f085e84aed2678131777f69ff82\", element=\"a4c6d784-f6a0-4dea-b857-8cab280e97e7\")>,\n",
       " <selenium.webdriver.remote.webelement.WebElement (session=\"b2969f085e84aed2678131777f69ff82\", element=\"fd65fa0f-90fc-4259-9258-467335f39084\")>,\n",
       " <selenium.webdriver.remote.webelement.WebElement (session=\"b2969f085e84aed2678131777f69ff82\", element=\"fe5a4cc0-ae33-46bb-885d-5afc23a40970\")>,\n",
       " <selenium.webdriver.remote.webelement.WebElement (session=\"b2969f085e84aed2678131777f69ff82\", element=\"ad2664e9-a0d5-45b8-9782-eb8f2978f395\")>,\n",
       " <selenium.webdriver.remote.webelement.WebElement (session=\"b2969f085e84aed2678131777f69ff82\", element=\"8b40c056-18e6-4875-85e5-fc6fd7a78c59\")>,\n",
       " <selenium.webdriver.remote.webelement.WebElement (session=\"b2969f085e84aed2678131777f69ff82\", element=\"79700b81-67e0-4ff0-9ccd-b5aff48b3dc4\")>,\n",
       " <selenium.webdriver.remote.webelement.WebElement (session=\"b2969f085e84aed2678131777f69ff82\", element=\"7d131a48-6980-48e1-a5f4-dcf8c7405cbe\")>,\n",
       " <selenium.webdriver.remote.webelement.WebElement (session=\"b2969f085e84aed2678131777f69ff82\", element=\"ae2f68fc-4ece-465f-8268-5fc302e46489\")>,\n",
       " <selenium.webdriver.remote.webelement.WebElement (session=\"b2969f085e84aed2678131777f69ff82\", element=\"39d9ed87-f5c4-43e9-8586-985cf8888c6d\")>,\n",
       " <selenium.webdriver.remote.webelement.WebElement (session=\"b2969f085e84aed2678131777f69ff82\", element=\"f9987cb8-05af-4735-8b7a-377d68036bc7\")>,\n",
       " <selenium.webdriver.remote.webelement.WebElement (session=\"b2969f085e84aed2678131777f69ff82\", element=\"b6c82ff5-8e68-440a-aa1a-93e80bd647b2\")>,\n",
       " <selenium.webdriver.remote.webelement.WebElement (session=\"b2969f085e84aed2678131777f69ff82\", element=\"065a8773-73cf-44a6-8145-cf6594be6459\")>,\n",
       " <selenium.webdriver.remote.webelement.WebElement (session=\"b2969f085e84aed2678131777f69ff82\", element=\"f434f44e-c018-4cef-85af-ac905debd970\")>,\n",
       " <selenium.webdriver.remote.webelement.WebElement (session=\"b2969f085e84aed2678131777f69ff82\", element=\"03391bf4-4f59-457d-a0cf-ae945660a9d2\")>,\n",
       " <selenium.webdriver.remote.webelement.WebElement (session=\"b2969f085e84aed2678131777f69ff82\", element=\"6fd88094-fab3-40bb-857e-7c957adbbf67\")>,\n",
       " <selenium.webdriver.remote.webelement.WebElement (session=\"b2969f085e84aed2678131777f69ff82\", element=\"071ae18c-da87-42ad-9808-9e40c0c6dc4d\")>,\n",
       " <selenium.webdriver.remote.webelement.WebElement (session=\"b2969f085e84aed2678131777f69ff82\", element=\"6f40e304-0b93-426d-bb1e-3d9901fa4b31\")>,\n",
       " <selenium.webdriver.remote.webelement.WebElement (session=\"b2969f085e84aed2678131777f69ff82\", element=\"00c5b79f-edd4-4060-b4c8-05b247607ec9\")>,\n",
       " <selenium.webdriver.remote.webelement.WebElement (session=\"b2969f085e84aed2678131777f69ff82\", element=\"4681ba18-3a00-4b9a-a204-f26510bb3c29\")>,\n",
       " <selenium.webdriver.remote.webelement.WebElement (session=\"b2969f085e84aed2678131777f69ff82\", element=\"ccb0b448-a95d-4541-a14d-9ae458b28317\")>,\n",
       " <selenium.webdriver.remote.webelement.WebElement (session=\"b2969f085e84aed2678131777f69ff82\", element=\"7970db7f-65fd-470e-a3a4-00cd5aca4dae\")>,\n",
       " <selenium.webdriver.remote.webelement.WebElement (session=\"b2969f085e84aed2678131777f69ff82\", element=\"9ec649b5-b955-407a-8fc0-e457670873f2\")>,\n",
       " <selenium.webdriver.remote.webelement.WebElement (session=\"b2969f085e84aed2678131777f69ff82\", element=\"3acaf1e9-86b3-4e02-8592-703cddcc5b8b\")>,\n",
       " <selenium.webdriver.remote.webelement.WebElement (session=\"b2969f085e84aed2678131777f69ff82\", element=\"6662bc2c-3532-42b0-8902-21f107973812\")>,\n",
       " <selenium.webdriver.remote.webelement.WebElement (session=\"b2969f085e84aed2678131777f69ff82\", element=\"720e431e-48ef-42ae-8268-2ae71865a067\")>,\n",
       " <selenium.webdriver.remote.webelement.WebElement (session=\"b2969f085e84aed2678131777f69ff82\", element=\"a99275da-a239-4e2e-b4ed-b1a3e1be808b\")>,\n",
       " <selenium.webdriver.remote.webelement.WebElement (session=\"b2969f085e84aed2678131777f69ff82\", element=\"907587d0-6fb4-47bb-aadf-c9db59746599\")>,\n",
       " <selenium.webdriver.remote.webelement.WebElement (session=\"b2969f085e84aed2678131777f69ff82\", element=\"28fe3256-cd23-4c6c-bd61-b8d638da2f08\")>,\n",
       " <selenium.webdriver.remote.webelement.WebElement (session=\"b2969f085e84aed2678131777f69ff82\", element=\"91e5d09a-2f57-40f3-9305-86e4db2eb2a5\")>,\n",
       " <selenium.webdriver.remote.webelement.WebElement (session=\"b2969f085e84aed2678131777f69ff82\", element=\"c374ef81-411b-46b2-b3ca-93217765d3c1\")>,\n",
       " <selenium.webdriver.remote.webelement.WebElement (session=\"b2969f085e84aed2678131777f69ff82\", element=\"58273a88-9db3-4608-a099-55e73a4f06fe\")>,\n",
       " <selenium.webdriver.remote.webelement.WebElement (session=\"b2969f085e84aed2678131777f69ff82\", element=\"a5daac5e-d003-4f54-b6fc-5dd34c34f355\")>,\n",
       " <selenium.webdriver.remote.webelement.WebElement (session=\"b2969f085e84aed2678131777f69ff82\", element=\"835960a8-d929-4d2e-bffb-6e7278d92bb5\")>,\n",
       " <selenium.webdriver.remote.webelement.WebElement (session=\"b2969f085e84aed2678131777f69ff82\", element=\"eb3f6956-ef7d-4f55-b559-f5bafc5b1631\")>,\n",
       " <selenium.webdriver.remote.webelement.WebElement (session=\"b2969f085e84aed2678131777f69ff82\", element=\"456ec68d-cd09-4ab9-bf28-0ce396027478\")>,\n",
       " <selenium.webdriver.remote.webelement.WebElement (session=\"b2969f085e84aed2678131777f69ff82\", element=\"37d46cf7-9344-4a55-831e-bc437aa6c99f\")>,\n",
       " <selenium.webdriver.remote.webelement.WebElement (session=\"b2969f085e84aed2678131777f69ff82\", element=\"105ee90d-dec0-4522-b7dc-dbb694029cc7\")>,\n",
       " <selenium.webdriver.remote.webelement.WebElement (session=\"b2969f085e84aed2678131777f69ff82\", element=\"3f84ef42-0cd3-498b-a1bf-99ed202135ad\")>,\n",
       " <selenium.webdriver.remote.webelement.WebElement (session=\"b2969f085e84aed2678131777f69ff82\", element=\"3619d117-c1bc-463d-9d5e-662d32aa5fff\")>,\n",
       " <selenium.webdriver.remote.webelement.WebElement (session=\"b2969f085e84aed2678131777f69ff82\", element=\"9aa36edc-3205-4d33-9ec0-da0326671b0e\")>,\n",
       " <selenium.webdriver.remote.webelement.WebElement (session=\"b2969f085e84aed2678131777f69ff82\", element=\"8243116d-2daf-4666-af68-2a69be5c960a\")>,\n",
       " <selenium.webdriver.remote.webelement.WebElement (session=\"b2969f085e84aed2678131777f69ff82\", element=\"869ff2aa-b224-4806-89ee-66161b1c0d7d\")>,\n",
       " <selenium.webdriver.remote.webelement.WebElement (session=\"b2969f085e84aed2678131777f69ff82\", element=\"df999227-facf-42b2-a474-944a984f7967\")>,\n",
       " <selenium.webdriver.remote.webelement.WebElement (session=\"b2969f085e84aed2678131777f69ff82\", element=\"0e5750a6-9b0e-4764-863c-8c662011d2bf\")>,\n",
       " <selenium.webdriver.remote.webelement.WebElement (session=\"b2969f085e84aed2678131777f69ff82\", element=\"ec884660-ae40-4f45-b963-3c8ac824266d\")>,\n",
       " <selenium.webdriver.remote.webelement.WebElement (session=\"b2969f085e84aed2678131777f69ff82\", element=\"0a01d3b9-1d0f-4a25-9905-441335cbbdde\")>,\n",
       " <selenium.webdriver.remote.webelement.WebElement (session=\"b2969f085e84aed2678131777f69ff82\", element=\"83f5ba91-4394-4f8d-bc8e-14b9646c14a1\")>,\n",
       " <selenium.webdriver.remote.webelement.WebElement (session=\"b2969f085e84aed2678131777f69ff82\", element=\"c8209b3a-befc-4855-b440-ee35f50ff9fd\")>,\n",
       " <selenium.webdriver.remote.webelement.WebElement (session=\"b2969f085e84aed2678131777f69ff82\", element=\"24d2259c-8305-430f-b4e3-6aa9bbf7580d\")>,\n",
       " <selenium.webdriver.remote.webelement.WebElement (session=\"b2969f085e84aed2678131777f69ff82\", element=\"8fcbc2de-b444-4a89-af0b-b88d64d807c9\")>,\n",
       " <selenium.webdriver.remote.webelement.WebElement (session=\"b2969f085e84aed2678131777f69ff82\", element=\"b4cae990-3e4a-4246-9402-480463e288f2\")>,\n",
       " <selenium.webdriver.remote.webelement.WebElement (session=\"b2969f085e84aed2678131777f69ff82\", element=\"ae4efc41-aa49-4b2b-9169-fd59fe358cc3\")>,\n",
       " <selenium.webdriver.remote.webelement.WebElement (session=\"b2969f085e84aed2678131777f69ff82\", element=\"a2c95e09-9810-49ca-84d4-8f8049895902\")>,\n",
       " <selenium.webdriver.remote.webelement.WebElement (session=\"b2969f085e84aed2678131777f69ff82\", element=\"6c8ee8a0-7fa3-4e6a-a51d-69bb47216add\")>,\n",
       " <selenium.webdriver.remote.webelement.WebElement (session=\"b2969f085e84aed2678131777f69ff82\", element=\"40288231-9031-4a71-87e1-c6a2cc9d146e\")>,\n",
       " <selenium.webdriver.remote.webelement.WebElement (session=\"b2969f085e84aed2678131777f69ff82\", element=\"f6da243d-650e-4956-a9aa-c3ea10fe3b80\")>,\n",
       " <selenium.webdriver.remote.webelement.WebElement (session=\"b2969f085e84aed2678131777f69ff82\", element=\"caec4b62-cb99-421d-a1a8-e7cfc0c3c0e8\")>,\n",
       " <selenium.webdriver.remote.webelement.WebElement (session=\"b2969f085e84aed2678131777f69ff82\", element=\"9915240a-3ad8-4d1e-8984-ebec3e12a1ab\")>,\n",
       " <selenium.webdriver.remote.webelement.WebElement (session=\"b2969f085e84aed2678131777f69ff82\", element=\"93bb0dcd-7062-4011-b239-e5c68aa7267f\")>,\n",
       " <selenium.webdriver.remote.webelement.WebElement (session=\"b2969f085e84aed2678131777f69ff82\", element=\"dbd8a85f-4552-443d-812e-bafb8c141bc3\")>,\n",
       " <selenium.webdriver.remote.webelement.WebElement (session=\"b2969f085e84aed2678131777f69ff82\", element=\"7b751c8d-f1eb-4d20-bfcd-e5b88f0e082f\")>,\n",
       " <selenium.webdriver.remote.webelement.WebElement (session=\"b2969f085e84aed2678131777f69ff82\", element=\"171fe941-c5c2-46f0-b708-5cb7cb38acab\")>,\n",
       " <selenium.webdriver.remote.webelement.WebElement (session=\"b2969f085e84aed2678131777f69ff82\", element=\"4f84d556-6798-4ede-8acd-2af783b708f0\")>,\n",
       " <selenium.webdriver.remote.webelement.WebElement (session=\"b2969f085e84aed2678131777f69ff82\", element=\"8f1400cd-0492-4170-b84b-70159deea280\")>,\n",
       " <selenium.webdriver.remote.webelement.WebElement (session=\"b2969f085e84aed2678131777f69ff82\", element=\"e3390214-314d-4caf-8f77-6f175527d2ab\")>,\n",
       " <selenium.webdriver.remote.webelement.WebElement (session=\"b2969f085e84aed2678131777f69ff82\", element=\"d474825f-cf9f-4e94-ac64-75eaf374d590\")>,\n",
       " <selenium.webdriver.remote.webelement.WebElement (session=\"b2969f085e84aed2678131777f69ff82\", element=\"97c09378-520b-47b8-994a-bdf384036b78\")>,\n",
       " <selenium.webdriver.remote.webelement.WebElement (session=\"b2969f085e84aed2678131777f69ff82\", element=\"5c7fbbc5-a73c-46f7-915f-eabd701ea277\")>,\n",
       " <selenium.webdriver.remote.webelement.WebElement (session=\"b2969f085e84aed2678131777f69ff82\", element=\"2f024663-a502-4e2f-8eeb-9608eec14592\")>,\n",
       " <selenium.webdriver.remote.webelement.WebElement (session=\"b2969f085e84aed2678131777f69ff82\", element=\"ab1f0661-daf2-4d86-9e1e-69e52cd772e6\")>,\n",
       " <selenium.webdriver.remote.webelement.WebElement (session=\"b2969f085e84aed2678131777f69ff82\", element=\"3b2e0893-a299-4d09-b95b-5216fbb7b169\")>,\n",
       " <selenium.webdriver.remote.webelement.WebElement (session=\"b2969f085e84aed2678131777f69ff82\", element=\"044f160b-2d4d-4f4f-a9cc-f15d00544340\")>,\n",
       " <selenium.webdriver.remote.webelement.WebElement (session=\"b2969f085e84aed2678131777f69ff82\", element=\"497be270-964c-4a5c-b536-fbf32c54d5e7\")>,\n",
       " <selenium.webdriver.remote.webelement.WebElement (session=\"b2969f085e84aed2678131777f69ff82\", element=\"6df505c4-ff34-4ec3-abb2-ad7fbb865450\")>]"
      ]
     },
     "execution_count": 12,
     "metadata": {},
     "output_type": "execute_result"
    }
   ],
   "source": [
    "header2=browser.find_elements(\"xpath\",\"//div[@class='td-wrap-in']\")\n",
    "header2"
   ]
  },
  {
   "cell_type": "code",
   "execution_count": 13,
   "id": "9c4abe6e",
   "metadata": {},
   "outputs": [
    {
     "data": {
      "text/plain": [
       "['77', '98', '95.4', '42.1', '56.5', '74.9', '89', '97.9', '75.2']"
      ]
     },
     "execution_count": 13,
     "metadata": {},
     "output_type": "execute_result"
    }
   ],
   "source": [
    "#PARSING DATA\n",
    "value_head=[]\n",
    "for data in header2:\n",
    "    #get the text data\n",
    "    temp=data.text\n",
    "    value_head.append(temp)\n",
    "value=value_head[61:70]\n",
    "value"
   ]
  },
  {
   "cell_type": "code",
   "execution_count": 14,
   "id": "c161617c",
   "metadata": {},
   "outputs": [
    {
     "data": {
      "text/plain": [
       "{'Name': 'University of British Columbia',\n",
       " 'Location': 'Vancouver, Canada',\n",
       " 'Rank': '47',\n",
       " 'Overall Score': '77',\n",
       " 'Academic Reputation': '98',\n",
       " 'Employer Reputation': '95.4',\n",
       " 'Citations per Faculty': '42.1',\n",
       " 'Faculty Student Ratio': '56.5',\n",
       " 'International Students Ratio': '74.9',\n",
       " 'International Faculty Ratio': '89',\n",
       " 'International Research Network\\nUnweighted': '97.9',\n",
       " 'Employment Outcomes\\nUnweighted': '75.2'}"
      ]
     },
     "execution_count": 14,
     "metadata": {},
     "output_type": "execute_result"
    }
   ],
   "source": [
    "d={}\n",
    "\n",
    "d['Name']=value_head[60]\n",
    "d['Location']=loc[6]\n",
    "d['Rank']=RANK[6]\n",
    "for i in range(len(column_head)):\n",
    "    d[column_head[i]]=value[i]\n",
    "d"
   ]
  },
  {
   "cell_type": "code",
   "execution_count": 15,
   "id": "c373728a",
   "metadata": {},
   "outputs": [
    {
     "data": {
      "text/plain": [
       "'{\"Name\": \"University of British Columbia\", \"Location\": \"Vancouver, Canada\", \"Rank\": \"47\", \"Overall Score\": \"77\", \"Academic Reputation\": \"98\", \"Employer Reputation\": \"95.4\", \"Citations per Faculty\": \"42.1\", \"Faculty Student Ratio\": \"56.5\", \"International Students Ratio\": \"74.9\", \"International Faculty Ratio\": \"89\", \"International Research Network\\\\nUnweighted\": \"97.9\", \"Employment Outcomes\\\\nUnweighted\": \"75.2\"}'"
      ]
     },
     "execution_count": 15,
     "metadata": {},
     "output_type": "execute_result"
    }
   ],
   "source": [
    "s1=json.dumps(d)\n",
    "s1"
   ]
  },
  {
   "cell_type": "code",
   "execution_count": 16,
   "id": "e8af7452",
   "metadata": {},
   "outputs": [],
   "source": [
    "\n",
    "with open('University of British Columbia.json','w') as f:\n",
    "    json.dump(d,f)"
   ]
  },
  {
   "cell_type": "code",
   "execution_count": null,
   "id": "edb398b5",
   "metadata": {},
   "outputs": [],
   "source": []
  }
 ],
 "metadata": {
  "kernelspec": {
   "display_name": "Python 3 (ipykernel)",
   "language": "python",
   "name": "python3"
  },
  "language_info": {
   "codemirror_mode": {
    "name": "ipython",
    "version": 3
   },
   "file_extension": ".py",
   "mimetype": "text/x-python",
   "name": "python",
   "nbconvert_exporter": "python",
   "pygments_lexer": "ipython3",
   "version": "3.9.12"
  }
 },
 "nbformat": 4,
 "nbformat_minor": 5
}
