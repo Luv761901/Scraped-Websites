{
 "cells": [
  {
   "cell_type": "code",
   "execution_count": 6,
   "id": "8db90d2d",
   "metadata": {},
   "outputs": [],
   "source": [
    "from selenium import webdriver\n",
    "from selenium.webdriver.chrome.service import Service\n",
    "import pandas as pd\n",
    "import json"
   ]
  },
  {
   "cell_type": "code",
   "execution_count": 7,
   "id": "09f44d0a",
   "metadata": {},
   "outputs": [],
   "source": [
    "path = Service('C:\\chromedriver.exe')"
   ]
  },
  {
   "cell_type": "code",
   "execution_count": 8,
   "id": "67305adb",
   "metadata": {},
   "outputs": [],
   "source": [
    "# set path for the driver\n",
    "browser = webdriver.Chrome(service = path)"
   ]
  },
  {
   "cell_type": "code",
   "execution_count": 9,
   "id": "daff7fa1",
   "metadata": {},
   "outputs": [],
   "source": [
    "url = \"https://www.topuniversities.com/university-rankings/world-university-rankings/2023\"\n"
   ]
  },
  {
   "cell_type": "code",
   "execution_count": 10,
   "id": "3dc66c94",
   "metadata": {},
   "outputs": [],
   "source": [
    "# open the page url ion chrome\n",
    "browser.get(url)"
   ]
  },
  {
   "cell_type": "code",
   "execution_count": 11,
   "id": "71d961f8",
   "metadata": {},
   "outputs": [
    {
     "data": {
      "text/plain": [
       "[<selenium.webdriver.remote.webelement.WebElement (session=\"840aea52827d0b148e57477556d987f7\", element=\"30d21c47-8b60-4de3-bf2b-9f64b8692c06\")>,\n",
       " <selenium.webdriver.remote.webelement.WebElement (session=\"840aea52827d0b148e57477556d987f7\", element=\"9145f4a0-94d6-47c4-9722-4bb60b708327\")>,\n",
       " <selenium.webdriver.remote.webelement.WebElement (session=\"840aea52827d0b148e57477556d987f7\", element=\"08451aed-dab2-465c-b04c-0fd8dcf9bd28\")>,\n",
       " <selenium.webdriver.remote.webelement.WebElement (session=\"840aea52827d0b148e57477556d987f7\", element=\"be5530e4-04a6-4f18-beca-e52e0bc709d6\")>,\n",
       " <selenium.webdriver.remote.webelement.WebElement (session=\"840aea52827d0b148e57477556d987f7\", element=\"d41bc499-510a-4699-9d6e-176ef7741e84\")>,\n",
       " <selenium.webdriver.remote.webelement.WebElement (session=\"840aea52827d0b148e57477556d987f7\", element=\"d1b39874-aec8-46fb-b22f-2314c697cabd\")>,\n",
       " <selenium.webdriver.remote.webelement.WebElement (session=\"840aea52827d0b148e57477556d987f7\", element=\"bc262075-bc40-4f4f-85b0-6dcb309d4f5f\")>,\n",
       " <selenium.webdriver.remote.webelement.WebElement (session=\"840aea52827d0b148e57477556d987f7\", element=\"e34738fe-7988-4f78-8180-5747b6783193\")>,\n",
       " <selenium.webdriver.remote.webelement.WebElement (session=\"840aea52827d0b148e57477556d987f7\", element=\"70590014-f375-4cca-b1c8-df1b3babae3d\")>]"
      ]
     },
     "execution_count": 11,
     "metadata": {},
     "output_type": "execute_result"
    }
   ],
   "source": [
    "# GET EACH COLLEGE SPECIFICATION HEADERS\n",
    "header=browser.find_elements(\"xpath\",\"//div[@class='_click-function_ind']\")\n",
    "header"
   ]
  },
  {
   "cell_type": "code",
   "execution_count": 12,
   "id": "a452dfb2",
   "metadata": {},
   "outputs": [
    {
     "data": {
      "text/plain": [
       "['Overall Score',\n",
       " 'Academic Reputation',\n",
       " 'Employer Reputation',\n",
       " 'Citations per Faculty',\n",
       " 'Faculty Student Ratio',\n",
       " 'International Students Ratio',\n",
       " 'International Faculty Ratio',\n",
       " 'International Research Network\\nUnweighted',\n",
       " 'Employment Outcomes\\nUnweighted']"
      ]
     },
     "execution_count": 12,
     "metadata": {},
     "output_type": "execute_result"
    }
   ],
   "source": [
    "#PARSING DATA\n",
    "column_head=[]\n",
    "for data in header:\n",
    "    #get the text data\n",
    "    temp=data.text\n",
    "    column_head.append(temp)\n",
    "column_head"
   ]
  },
  {
   "cell_type": "code",
   "execution_count": 13,
   "id": "81a04db4",
   "metadata": {},
   "outputs": [
    {
     "data": {
      "text/plain": [
       "[<selenium.webdriver.remote.webelement.WebElement (session=\"840aea52827d0b148e57477556d987f7\", element=\"01d67db0-8b9d-457d-bdb4-2f3f3c4ce46e\")>,\n",
       " <selenium.webdriver.remote.webelement.WebElement (session=\"840aea52827d0b148e57477556d987f7\", element=\"d8e2bc05-5ea6-405c-aeb0-d412b2d46d01\")>,\n",
       " <selenium.webdriver.remote.webelement.WebElement (session=\"840aea52827d0b148e57477556d987f7\", element=\"c549c550-01df-46cb-b295-cad385a8080a\")>,\n",
       " <selenium.webdriver.remote.webelement.WebElement (session=\"840aea52827d0b148e57477556d987f7\", element=\"c192af96-d025-4cb7-8f70-c5b9f6dc116e\")>,\n",
       " <selenium.webdriver.remote.webelement.WebElement (session=\"840aea52827d0b148e57477556d987f7\", element=\"c4911c78-1a3b-457a-b500-e2d24bdbb3bc\")>,\n",
       " <selenium.webdriver.remote.webelement.WebElement (session=\"840aea52827d0b148e57477556d987f7\", element=\"62cf876f-87f7-4a99-9982-28bf2788bc66\")>,\n",
       " <selenium.webdriver.remote.webelement.WebElement (session=\"840aea52827d0b148e57477556d987f7\", element=\"735d9150-c6ec-43c3-8387-e0fb2e306c20\")>,\n",
       " <selenium.webdriver.remote.webelement.WebElement (session=\"840aea52827d0b148e57477556d987f7\", element=\"cafc7336-1dd1-4f2e-a184-1f2413143e9f\")>,\n",
       " <selenium.webdriver.remote.webelement.WebElement (session=\"840aea52827d0b148e57477556d987f7\", element=\"950c5cfa-998a-4e72-aac4-3e020bace9de\")>,\n",
       " <selenium.webdriver.remote.webelement.WebElement (session=\"840aea52827d0b148e57477556d987f7\", element=\"c6b502b8-abbf-4e6f-9cb4-fb6a1c8ccfe9\")>,\n",
       " <selenium.webdriver.remote.webelement.WebElement (session=\"840aea52827d0b148e57477556d987f7\", element=\"f7121eaa-5d3f-4570-a52c-a887c7abf3ff\")>,\n",
       " <selenium.webdriver.remote.webelement.WebElement (session=\"840aea52827d0b148e57477556d987f7\", element=\"be63e886-b1e9-42fb-a5c6-976e8db683b4\")>,\n",
       " <selenium.webdriver.remote.webelement.WebElement (session=\"840aea52827d0b148e57477556d987f7\", element=\"60631a04-c6ce-48f0-bd8a-4f81ec85b4f0\")>,\n",
       " <selenium.webdriver.remote.webelement.WebElement (session=\"840aea52827d0b148e57477556d987f7\", element=\"238a858f-8eae-499d-8ed0-450880129ce0\")>,\n",
       " <selenium.webdriver.remote.webelement.WebElement (session=\"840aea52827d0b148e57477556d987f7\", element=\"48acbb83-96da-4754-aee6-79e602c87fc2\")>,\n",
       " <selenium.webdriver.remote.webelement.WebElement (session=\"840aea52827d0b148e57477556d987f7\", element=\"ab189fe5-09c4-4a05-be82-8f0e5b0d299c\")>,\n",
       " <selenium.webdriver.remote.webelement.WebElement (session=\"840aea52827d0b148e57477556d987f7\", element=\"047c1c76-8776-4f6d-9e9d-dfc16ab019c4\")>,\n",
       " <selenium.webdriver.remote.webelement.WebElement (session=\"840aea52827d0b148e57477556d987f7\", element=\"2812fcf9-8b9c-4d1a-9a5d-b2fa82723474\")>,\n",
       " <selenium.webdriver.remote.webelement.WebElement (session=\"840aea52827d0b148e57477556d987f7\", element=\"5d84b4f0-2aaa-49a1-aebf-e84b35442237\")>,\n",
       " <selenium.webdriver.remote.webelement.WebElement (session=\"840aea52827d0b148e57477556d987f7\", element=\"391ae356-c9df-4b04-8ba5-b110fca83614\")>,\n",
       " <selenium.webdriver.remote.webelement.WebElement (session=\"840aea52827d0b148e57477556d987f7\", element=\"0b7688ef-16a7-4cec-8ddd-c05b085313b8\")>,\n",
       " <selenium.webdriver.remote.webelement.WebElement (session=\"840aea52827d0b148e57477556d987f7\", element=\"61ad9a14-cc15-4e5f-ad6e-bc151f2c946c\")>,\n",
       " <selenium.webdriver.remote.webelement.WebElement (session=\"840aea52827d0b148e57477556d987f7\", element=\"4b1125aa-b6fc-4a11-a5fb-0c5117ee09e8\")>,\n",
       " <selenium.webdriver.remote.webelement.WebElement (session=\"840aea52827d0b148e57477556d987f7\", element=\"b90b3e15-6a68-43a9-97e3-4bbd280631b7\")>,\n",
       " <selenium.webdriver.remote.webelement.WebElement (session=\"840aea52827d0b148e57477556d987f7\", element=\"2f4ab8e3-093e-427d-8fc4-926bb3eb973b\")>,\n",
       " <selenium.webdriver.remote.webelement.WebElement (session=\"840aea52827d0b148e57477556d987f7\", element=\"5cec9c60-c2fa-49d2-abbb-97ee4ef71601\")>,\n",
       " <selenium.webdriver.remote.webelement.WebElement (session=\"840aea52827d0b148e57477556d987f7\", element=\"463de532-50ad-4bba-959b-8e1b1a77e1ea\")>,\n",
       " <selenium.webdriver.remote.webelement.WebElement (session=\"840aea52827d0b148e57477556d987f7\", element=\"56e52fa8-9d91-46c7-818a-62ca886fd46c\")>,\n",
       " <selenium.webdriver.remote.webelement.WebElement (session=\"840aea52827d0b148e57477556d987f7\", element=\"a9d1e382-5b4d-492e-8a9c-866758ec289b\")>,\n",
       " <selenium.webdriver.remote.webelement.WebElement (session=\"840aea52827d0b148e57477556d987f7\", element=\"3962bca6-514f-4aa2-a2f3-0de00de74e4c\")>,\n",
       " <selenium.webdriver.remote.webelement.WebElement (session=\"840aea52827d0b148e57477556d987f7\", element=\"51bac8f3-5c08-4326-bb88-291166244618\")>,\n",
       " <selenium.webdriver.remote.webelement.WebElement (session=\"840aea52827d0b148e57477556d987f7\", element=\"d1decc18-35af-434e-a1f3-a3d35ef3fc7d\")>,\n",
       " <selenium.webdriver.remote.webelement.WebElement (session=\"840aea52827d0b148e57477556d987f7\", element=\"bed80b3c-0684-4b30-af6b-1abeef3ed3d7\")>,\n",
       " <selenium.webdriver.remote.webelement.WebElement (session=\"840aea52827d0b148e57477556d987f7\", element=\"f6677f25-01d3-4b0f-97ef-4465f50b5025\")>,\n",
       " <selenium.webdriver.remote.webelement.WebElement (session=\"840aea52827d0b148e57477556d987f7\", element=\"93ea712b-8b30-4a2b-bc69-42db908a3ae7\")>,\n",
       " <selenium.webdriver.remote.webelement.WebElement (session=\"840aea52827d0b148e57477556d987f7\", element=\"739030fa-fd94-4770-8e89-2cea9fbe501d\")>,\n",
       " <selenium.webdriver.remote.webelement.WebElement (session=\"840aea52827d0b148e57477556d987f7\", element=\"4606b786-d206-4a58-9a72-f00957049bf5\")>,\n",
       " <selenium.webdriver.remote.webelement.WebElement (session=\"840aea52827d0b148e57477556d987f7\", element=\"e7d888b5-a1ff-4cdc-b4c6-7aabc5e865fd\")>,\n",
       " <selenium.webdriver.remote.webelement.WebElement (session=\"840aea52827d0b148e57477556d987f7\", element=\"22cf8554-b268-4927-80cb-790c15bd5654\")>,\n",
       " <selenium.webdriver.remote.webelement.WebElement (session=\"840aea52827d0b148e57477556d987f7\", element=\"a4d9b304-673f-4f7a-9044-dbc32fe33369\")>,\n",
       " <selenium.webdriver.remote.webelement.WebElement (session=\"840aea52827d0b148e57477556d987f7\", element=\"100d4599-a753-4bca-ae72-87c3cfdafdeb\")>,\n",
       " <selenium.webdriver.remote.webelement.WebElement (session=\"840aea52827d0b148e57477556d987f7\", element=\"8ba0501d-7fca-44d3-91ff-f79c6ce1b36d\")>,\n",
       " <selenium.webdriver.remote.webelement.WebElement (session=\"840aea52827d0b148e57477556d987f7\", element=\"4b9e6f70-b4ad-447b-9920-ebe5d6df74bc\")>,\n",
       " <selenium.webdriver.remote.webelement.WebElement (session=\"840aea52827d0b148e57477556d987f7\", element=\"2e90e485-b24c-426f-baad-edc923ddfdc5\")>,\n",
       " <selenium.webdriver.remote.webelement.WebElement (session=\"840aea52827d0b148e57477556d987f7\", element=\"aa829718-7e79-4ad6-929c-26a118e6c4c0\")>,\n",
       " <selenium.webdriver.remote.webelement.WebElement (session=\"840aea52827d0b148e57477556d987f7\", element=\"15a274ba-0664-424b-bbe0-494cecea796c\")>,\n",
       " <selenium.webdriver.remote.webelement.WebElement (session=\"840aea52827d0b148e57477556d987f7\", element=\"a95c9375-99d8-4a14-949d-9e1fc0efc6c4\")>,\n",
       " <selenium.webdriver.remote.webelement.WebElement (session=\"840aea52827d0b148e57477556d987f7\", element=\"e60456a6-487e-4499-9ed3-96324ec55597\")>,\n",
       " <selenium.webdriver.remote.webelement.WebElement (session=\"840aea52827d0b148e57477556d987f7\", element=\"1a809b26-8eb8-4692-9965-e304889e188f\")>,\n",
       " <selenium.webdriver.remote.webelement.WebElement (session=\"840aea52827d0b148e57477556d987f7\", element=\"a26a9d24-6ab8-49ea-8472-0c81718faf9e\")>,\n",
       " <selenium.webdriver.remote.webelement.WebElement (session=\"840aea52827d0b148e57477556d987f7\", element=\"c7cfdf5f-331a-4917-a0ce-96064a84b530\")>,\n",
       " <selenium.webdriver.remote.webelement.WebElement (session=\"840aea52827d0b148e57477556d987f7\", element=\"dc3562bf-9133-4870-bc6e-3f6b8562bb1e\")>,\n",
       " <selenium.webdriver.remote.webelement.WebElement (session=\"840aea52827d0b148e57477556d987f7\", element=\"c4fce377-4854-43a2-819e-6578ed422606\")>,\n",
       " <selenium.webdriver.remote.webelement.WebElement (session=\"840aea52827d0b148e57477556d987f7\", element=\"096d0151-a445-4d3f-81a0-451220349818\")>,\n",
       " <selenium.webdriver.remote.webelement.WebElement (session=\"840aea52827d0b148e57477556d987f7\", element=\"99b00387-078f-471c-8c3b-6905b27f0c05\")>,\n",
       " <selenium.webdriver.remote.webelement.WebElement (session=\"840aea52827d0b148e57477556d987f7\", element=\"665acaf5-28e9-4db9-8cb1-5080b5e3a269\")>,\n",
       " <selenium.webdriver.remote.webelement.WebElement (session=\"840aea52827d0b148e57477556d987f7\", element=\"68b17133-52c8-40f1-b609-fa8b8462900b\")>,\n",
       " <selenium.webdriver.remote.webelement.WebElement (session=\"840aea52827d0b148e57477556d987f7\", element=\"586483c2-adcd-4b4a-92b9-d777e068f044\")>,\n",
       " <selenium.webdriver.remote.webelement.WebElement (session=\"840aea52827d0b148e57477556d987f7\", element=\"7811e879-2da2-4859-8d9d-7577b3beff0b\")>,\n",
       " <selenium.webdriver.remote.webelement.WebElement (session=\"840aea52827d0b148e57477556d987f7\", element=\"61239d24-b358-4b32-8c89-0d7c36139600\")>,\n",
       " <selenium.webdriver.remote.webelement.WebElement (session=\"840aea52827d0b148e57477556d987f7\", element=\"4932c921-0182-441e-8b3c-639a9888ec80\")>,\n",
       " <selenium.webdriver.remote.webelement.WebElement (session=\"840aea52827d0b148e57477556d987f7\", element=\"3d465880-c5fb-4ddb-997f-bf27985fcd1b\")>,\n",
       " <selenium.webdriver.remote.webelement.WebElement (session=\"840aea52827d0b148e57477556d987f7\", element=\"fb4f777e-b641-4738-93bb-f61e88dedf4c\")>,\n",
       " <selenium.webdriver.remote.webelement.WebElement (session=\"840aea52827d0b148e57477556d987f7\", element=\"8cf8f04a-7530-44b3-995f-396db85f944c\")>,\n",
       " <selenium.webdriver.remote.webelement.WebElement (session=\"840aea52827d0b148e57477556d987f7\", element=\"dbcf43a5-1169-42ee-97f6-572a3d2b27ed\")>,\n",
       " <selenium.webdriver.remote.webelement.WebElement (session=\"840aea52827d0b148e57477556d987f7\", element=\"e1c0252b-1014-4e78-ae29-074df8a4f956\")>,\n",
       " <selenium.webdriver.remote.webelement.WebElement (session=\"840aea52827d0b148e57477556d987f7\", element=\"964e1ece-efc0-457e-a8a1-f98754f18202\")>,\n",
       " <selenium.webdriver.remote.webelement.WebElement (session=\"840aea52827d0b148e57477556d987f7\", element=\"01b7fc26-161c-42c2-b3f7-9b25d4d60402\")>,\n",
       " <selenium.webdriver.remote.webelement.WebElement (session=\"840aea52827d0b148e57477556d987f7\", element=\"95df5d9c-2232-48a7-97b7-a328398c7d59\")>,\n",
       " <selenium.webdriver.remote.webelement.WebElement (session=\"840aea52827d0b148e57477556d987f7\", element=\"1274ed5a-abc0-4302-bbb6-60eb7aa62c9d\")>,\n",
       " <selenium.webdriver.remote.webelement.WebElement (session=\"840aea52827d0b148e57477556d987f7\", element=\"6728921e-e67e-49eb-bc4a-a895900d13c8\")>,\n",
       " <selenium.webdriver.remote.webelement.WebElement (session=\"840aea52827d0b148e57477556d987f7\", element=\"2a9348e4-b90e-47dc-b3f5-a6149d9f1840\")>,\n",
       " <selenium.webdriver.remote.webelement.WebElement (session=\"840aea52827d0b148e57477556d987f7\", element=\"462d2652-0676-4ddf-bccd-f968bb18e069\")>,\n",
       " <selenium.webdriver.remote.webelement.WebElement (session=\"840aea52827d0b148e57477556d987f7\", element=\"46388b01-bcc8-4af7-b016-7bd4c6c9cb1e\")>,\n",
       " <selenium.webdriver.remote.webelement.WebElement (session=\"840aea52827d0b148e57477556d987f7\", element=\"b1c86364-cd5b-4ed8-80bb-ca59d81b6157\")>,\n",
       " <selenium.webdriver.remote.webelement.WebElement (session=\"840aea52827d0b148e57477556d987f7\", element=\"4e65d2af-be03-4348-ab0b-37a78cab565f\")>,\n",
       " <selenium.webdriver.remote.webelement.WebElement (session=\"840aea52827d0b148e57477556d987f7\", element=\"47992a72-cdb7-4eea-9c9e-d154ce0a5a2b\")>,\n",
       " <selenium.webdriver.remote.webelement.WebElement (session=\"840aea52827d0b148e57477556d987f7\", element=\"2abee3c5-d2b8-4023-b83d-b76cb0fe1f93\")>,\n",
       " <selenium.webdriver.remote.webelement.WebElement (session=\"840aea52827d0b148e57477556d987f7\", element=\"b4643e01-b870-4f99-aa13-d0cd1e089703\")>,\n",
       " <selenium.webdriver.remote.webelement.WebElement (session=\"840aea52827d0b148e57477556d987f7\", element=\"67b59bbe-e6f1-4df7-801e-5fa073973a3d\")>,\n",
       " <selenium.webdriver.remote.webelement.WebElement (session=\"840aea52827d0b148e57477556d987f7\", element=\"9c4a9457-9eb2-44b5-a1d8-5aa6a7b63e0b\")>,\n",
       " <selenium.webdriver.remote.webelement.WebElement (session=\"840aea52827d0b148e57477556d987f7\", element=\"855b0e70-9e92-4ab1-a428-837439b54132\")>,\n",
       " <selenium.webdriver.remote.webelement.WebElement (session=\"840aea52827d0b148e57477556d987f7\", element=\"39eb7d58-1446-4a05-8745-f36d69cc8b3c\")>,\n",
       " <selenium.webdriver.remote.webelement.WebElement (session=\"840aea52827d0b148e57477556d987f7\", element=\"b9100b6f-11f7-489b-9367-d48be1ee2528\")>,\n",
       " <selenium.webdriver.remote.webelement.WebElement (session=\"840aea52827d0b148e57477556d987f7\", element=\"c14cdf48-ebdd-4cd6-b708-d601fd589612\")>,\n",
       " <selenium.webdriver.remote.webelement.WebElement (session=\"840aea52827d0b148e57477556d987f7\", element=\"a5d8e1fd-e431-420d-8e17-5d7cb0358256\")>,\n",
       " <selenium.webdriver.remote.webelement.WebElement (session=\"840aea52827d0b148e57477556d987f7\", element=\"48a704f4-64a3-4e17-83bf-75dd49b67652\")>,\n",
       " <selenium.webdriver.remote.webelement.WebElement (session=\"840aea52827d0b148e57477556d987f7\", element=\"a730c1de-a47e-4379-a391-37b4fe0722f7\")>,\n",
       " <selenium.webdriver.remote.webelement.WebElement (session=\"840aea52827d0b148e57477556d987f7\", element=\"d8e6ef56-b5ae-40cb-afe6-67f512214412\")>,\n",
       " <selenium.webdriver.remote.webelement.WebElement (session=\"840aea52827d0b148e57477556d987f7\", element=\"2ce2ff4a-b319-41cb-8e4b-f2648f273b0e\")>,\n",
       " <selenium.webdriver.remote.webelement.WebElement (session=\"840aea52827d0b148e57477556d987f7\", element=\"10738bad-902b-4885-a56d-ba9fa25b1f1e\")>,\n",
       " <selenium.webdriver.remote.webelement.WebElement (session=\"840aea52827d0b148e57477556d987f7\", element=\"bca836ac-e640-4da2-9cff-8854ab236b44\")>,\n",
       " <selenium.webdriver.remote.webelement.WebElement (session=\"840aea52827d0b148e57477556d987f7\", element=\"3eaab4fd-d103-4d49-86c9-657ab2fdf3fe\")>,\n",
       " <selenium.webdriver.remote.webelement.WebElement (session=\"840aea52827d0b148e57477556d987f7\", element=\"de5d69fb-0689-4dc0-a5f7-040c70678983\")>,\n",
       " <selenium.webdriver.remote.webelement.WebElement (session=\"840aea52827d0b148e57477556d987f7\", element=\"f7fd0160-a0ea-416d-b8e9-a867b0933b70\")>,\n",
       " <selenium.webdriver.remote.webelement.WebElement (session=\"840aea52827d0b148e57477556d987f7\", element=\"16f6c3ba-c90c-4d70-8b0b-c751072fc984\")>,\n",
       " <selenium.webdriver.remote.webelement.WebElement (session=\"840aea52827d0b148e57477556d987f7\", element=\"0851c468-6d68-4942-9c18-867cb52fa604\")>,\n",
       " <selenium.webdriver.remote.webelement.WebElement (session=\"840aea52827d0b148e57477556d987f7\", element=\"6779d253-698b-456e-ab11-55f7c0ed0cc2\")>,\n",
       " <selenium.webdriver.remote.webelement.WebElement (session=\"840aea52827d0b148e57477556d987f7\", element=\"26f75cc5-1475-4484-8970-2ba9dc0270c7\")>,\n",
       " <selenium.webdriver.remote.webelement.WebElement (session=\"840aea52827d0b148e57477556d987f7\", element=\"ff5fa980-3a04-40a2-9928-aba886fa2665\")>]"
      ]
     },
     "execution_count": 13,
     "metadata": {},
     "output_type": "execute_result"
    }
   ],
   "source": [
    "header2=browser.find_elements(\"xpath\",\"//div[@class='td-wrap-in']\")\n",
    "header2"
   ]
  },
  {
   "cell_type": "code",
   "execution_count": 14,
   "id": "b525f965",
   "metadata": {},
   "outputs": [
    {
     "data": {
      "text/plain": [
       "['85.3', '100', '99.7', '73.3', '91.9', '27.8', '10.4', '89.5', '97.8']"
      ]
     },
     "execution_count": 14,
     "metadata": {},
     "output_type": "execute_result"
    }
   ],
   "source": [
    "#PARSING DATA\n",
    "value_head=[]\n",
    "for data in header2:\n",
    "    #get the text data\n",
    "    temp=data.text\n",
    "    value_head.append(temp)\n",
    "value_head=value_head[21:30]\n",
    "value_head"
   ]
  },
  {
   "cell_type": "code",
   "execution_count": 15,
   "id": "0c8e90e5",
   "metadata": {},
   "outputs": [
    {
     "data": {
      "text/plain": [
       "{'Overall Score': '85.3',\n",
       " 'Academic Reputation': '100',\n",
       " 'Employer Reputation': '99.7',\n",
       " 'Citations per Faculty': '73.3',\n",
       " 'Faculty Student Ratio': '91.9',\n",
       " 'International Students Ratio': '27.8',\n",
       " 'International Faculty Ratio': '10.4',\n",
       " 'International Research Network\\nUnweighted': '89.5',\n",
       " 'Employment Outcomes\\nUnweighted': '97.8'}"
      ]
     },
     "execution_count": 15,
     "metadata": {},
     "output_type": "execute_result"
    }
   ],
   "source": [
    "d={}\n",
    "for i in range(len(column_head)):\n",
    "    d[column_head[i]]=value_head[i]\n",
    "d"
   ]
  },
  {
   "cell_type": "code",
   "execution_count": 16,
   "id": "8f304cc9",
   "metadata": {},
   "outputs": [
    {
     "data": {
      "text/plain": [
       "'{\"Overall Score\": \"85.3\", \"Academic Reputation\": \"100\", \"Employer Reputation\": \"99.7\", \"Citations per Faculty\": \"73.3\", \"Faculty Student Ratio\": \"91.9\", \"International Students Ratio\": \"27.8\", \"International Faculty Ratio\": \"10.4\", \"International Research Network\\\\nUnweighted\": \"89.5\", \"Employment Outcomes\\\\nUnweighted\": \"97.8\"}'"
      ]
     },
     "execution_count": 16,
     "metadata": {},
     "output_type": "execute_result"
    }
   ],
   "source": [
    "s1=json.dumps(d)\n",
    "s1"
   ]
  },
  {
   "cell_type": "code",
   "execution_count": 17,
   "id": "9aae72e5",
   "metadata": {},
   "outputs": [],
   "source": [
    "with open('The University of Tokyo.json','w') as f:\n",
    "    json.dump(d,f)"
   ]
  }
 ],
 "metadata": {
  "kernelspec": {
   "display_name": "Python 3 (ipykernel)",
   "language": "python",
   "name": "python3"
  },
  "language_info": {
   "codemirror_mode": {
    "name": "ipython",
    "version": 3
   },
   "file_extension": ".py",
   "mimetype": "text/x-python",
   "name": "python",
   "nbconvert_exporter": "python",
   "pygments_lexer": "ipython3",
   "version": "3.9.12"
  }
 },
 "nbformat": 4,
 "nbformat_minor": 5
}
