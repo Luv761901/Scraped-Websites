{
 "cells": [
  {
   "cell_type": "code",
   "execution_count": 1,
   "id": "8db90d2d",
   "metadata": {},
   "outputs": [],
   "source": [
    "from selenium import webdriver\n",
    "from selenium.webdriver.chrome.service import Service\n",
    "import pandas as pd\n",
    "import json"
   ]
  },
  {
   "cell_type": "code",
   "execution_count": 2,
   "id": "09f44d0a",
   "metadata": {},
   "outputs": [],
   "source": [
    "path = Service('C:\\chromedriver.exe')"
   ]
  },
  {
   "cell_type": "code",
   "execution_count": 3,
   "id": "67305adb",
   "metadata": {},
   "outputs": [],
   "source": [
    "# set path for the driver\n",
    "browser = webdriver.Chrome(service = path)"
   ]
  },
  {
   "cell_type": "code",
   "execution_count": 4,
   "id": "daff7fa1",
   "metadata": {},
   "outputs": [],
   "source": [
    "url = \"https://www.topuniversities.com/university-rankings/world-university-rankings/2023\"\n"
   ]
  },
  {
   "cell_type": "code",
   "execution_count": 5,
   "id": "3dc66c94",
   "metadata": {},
   "outputs": [],
   "source": [
    "# open the page url ion chrome\n",
    "browser.get(url)"
   ]
  },
  {
   "cell_type": "code",
   "execution_count": 6,
   "id": "83e6430a",
   "metadata": {},
   "outputs": [
    {
     "data": {
      "text/plain": [
       "[<selenium.webdriver.remote.webelement.WebElement (session=\"2d0711b072c4475f8c781a2a992dca9a\", element=\"07357f21-c465-4eb2-87e9-84a78344a569\")>,\n",
       " <selenium.webdriver.remote.webelement.WebElement (session=\"2d0711b072c4475f8c781a2a992dca9a\", element=\"c37d3518-6ada-4813-aaf2-cc717e9bfb17\")>,\n",
       " <selenium.webdriver.remote.webelement.WebElement (session=\"2d0711b072c4475f8c781a2a992dca9a\", element=\"7e01b075-9433-41b0-874d-95d647e4c97a\")>,\n",
       " <selenium.webdriver.remote.webelement.WebElement (session=\"2d0711b072c4475f8c781a2a992dca9a\", element=\"be19d5a4-b7d1-41f3-85d5-f5653fa19294\")>,\n",
       " <selenium.webdriver.remote.webelement.WebElement (session=\"2d0711b072c4475f8c781a2a992dca9a\", element=\"799eaa69-155d-4490-8553-5b6bef0d8c1f\")>,\n",
       " <selenium.webdriver.remote.webelement.WebElement (session=\"2d0711b072c4475f8c781a2a992dca9a\", element=\"4c4b9093-5525-4d5e-93f1-2380b5db7d68\")>,\n",
       " <selenium.webdriver.remote.webelement.WebElement (session=\"2d0711b072c4475f8c781a2a992dca9a\", element=\"fd6cab23-8fc0-436b-aba7-81ff11d0b371\")>,\n",
       " <selenium.webdriver.remote.webelement.WebElement (session=\"2d0711b072c4475f8c781a2a992dca9a\", element=\"fbb0473d-7cc2-479a-958b-aeb09a9956ea\")>,\n",
       " <selenium.webdriver.remote.webelement.WebElement (session=\"2d0711b072c4475f8c781a2a992dca9a\", element=\"56a0ef0b-99b4-4b2b-a853-8a099385665f\")>,\n",
       " <selenium.webdriver.remote.webelement.WebElement (session=\"2d0711b072c4475f8c781a2a992dca9a\", element=\"b4b47ad9-4d09-482d-8a70-b65f6583823a\")>,\n",
       " <selenium.webdriver.remote.webelement.WebElement (session=\"2d0711b072c4475f8c781a2a992dca9a\", element=\"2a10d217-c3f3-4c15-abd1-9429d8da3d5b\")>,\n",
       " <selenium.webdriver.remote.webelement.WebElement (session=\"2d0711b072c4475f8c781a2a992dca9a\", element=\"09ee5494-a46d-42c2-b6f7-c65039dd35cf\")>,\n",
       " <selenium.webdriver.remote.webelement.WebElement (session=\"2d0711b072c4475f8c781a2a992dca9a\", element=\"4d68bf22-cecf-47bf-a2ac-940567189cf1\")>,\n",
       " <selenium.webdriver.remote.webelement.WebElement (session=\"2d0711b072c4475f8c781a2a992dca9a\", element=\"426071ff-bb4b-4027-a822-767cdd018a74\")>,\n",
       " <selenium.webdriver.remote.webelement.WebElement (session=\"2d0711b072c4475f8c781a2a992dca9a\", element=\"670cee47-b5f3-4450-9646-2140279bf548\")>,\n",
       " <selenium.webdriver.remote.webelement.WebElement (session=\"2d0711b072c4475f8c781a2a992dca9a\", element=\"8f5b0e7a-4202-45fd-bd7b-d141ce5d4d54\")>,\n",
       " <selenium.webdriver.remote.webelement.WebElement (session=\"2d0711b072c4475f8c781a2a992dca9a\", element=\"54a61454-37a2-425d-9abd-e4c8162fe1f5\")>,\n",
       " <selenium.webdriver.remote.webelement.WebElement (session=\"2d0711b072c4475f8c781a2a992dca9a\", element=\"b5d5c0e2-6521-43a3-8585-4be75a5a7b72\")>,\n",
       " <selenium.webdriver.remote.webelement.WebElement (session=\"2d0711b072c4475f8c781a2a992dca9a\", element=\"ec56648e-b1fa-48da-8326-812fc77cdc4c\")>,\n",
       " <selenium.webdriver.remote.webelement.WebElement (session=\"2d0711b072c4475f8c781a2a992dca9a\", element=\"1f73326a-edae-48d5-8a20-d48cd602c33c\")>]"
      ]
     },
     "execution_count": 6,
     "metadata": {},
     "output_type": "execute_result"
    }
   ],
   "source": [
    "l1=browser.find_elements(\"xpath\",\"//div[@class='location ']\")\n",
    "l1"
   ]
  },
  {
   "cell_type": "code",
   "execution_count": 7,
   "id": "fec352e9",
   "metadata": {},
   "outputs": [
    {
     "data": {
      "text/plain": [
       "[' Hong Kong SAR',\n",
       " 'New York City, United States',\n",
       " 'Tokyo, Japan',\n",
       " 'Baltimore, United States',\n",
       " 'Ann Arbor, United States',\n",
       " 'Paris, France',\n",
       " 'Berkeley, United States',\n",
       " 'Manchester, United Kingdom',\n",
       " 'Seoul, South Korea',\n",
       " 'Canberra, Australia']"
      ]
     },
     "execution_count": 7,
     "metadata": {},
     "output_type": "execute_result"
    }
   ],
   "source": [
    "loc=[]\n",
    "for data in l1:\n",
    "    #get the text data\n",
    "    temp=data.text\n",
    "    loc.append(temp)\n",
    "loc=loc[10:]\n",
    "loc"
   ]
  },
  {
   "cell_type": "code",
   "execution_count": 8,
   "id": "69e1d1a1",
   "metadata": {},
   "outputs": [
    {
     "data": {
      "text/plain": [
       "[<selenium.webdriver.remote.webelement.WebElement (session=\"2d0711b072c4475f8c781a2a992dca9a\", element=\"bbbc7ce4-4c65-42c1-9a65-808eaccd80e2\")>,\n",
       " <selenium.webdriver.remote.webelement.WebElement (session=\"2d0711b072c4475f8c781a2a992dca9a\", element=\"ce1da3a7-bad9-4bca-b1bd-efd3d8934572\")>,\n",
       " <selenium.webdriver.remote.webelement.WebElement (session=\"2d0711b072c4475f8c781a2a992dca9a\", element=\"db32e534-fc15-4456-bc89-59ce25355968\")>,\n",
       " <selenium.webdriver.remote.webelement.WebElement (session=\"2d0711b072c4475f8c781a2a992dca9a\", element=\"9fe39422-5c59-4c6e-9f79-183570c78d86\")>,\n",
       " <selenium.webdriver.remote.webelement.WebElement (session=\"2d0711b072c4475f8c781a2a992dca9a\", element=\"a1f7cc4a-15cd-4566-b4d4-b036b52bab97\")>,\n",
       " <selenium.webdriver.remote.webelement.WebElement (session=\"2d0711b072c4475f8c781a2a992dca9a\", element=\"74373da8-dd5d-44ef-b153-2dd11f2e8e69\")>,\n",
       " <selenium.webdriver.remote.webelement.WebElement (session=\"2d0711b072c4475f8c781a2a992dca9a\", element=\"a0e623f4-d6c3-4322-b887-f0000b04d91d\")>,\n",
       " <selenium.webdriver.remote.webelement.WebElement (session=\"2d0711b072c4475f8c781a2a992dca9a\", element=\"c93e4793-c2e6-492d-aac4-1fbbad60aa6f\")>,\n",
       " <selenium.webdriver.remote.webelement.WebElement (session=\"2d0711b072c4475f8c781a2a992dca9a\", element=\"ef3c9db7-77f7-4bff-8dc8-4f866bfc0948\")>,\n",
       " <selenium.webdriver.remote.webelement.WebElement (session=\"2d0711b072c4475f8c781a2a992dca9a\", element=\"6b41bd3d-b2a3-4415-a28a-debec00ca7ee\")>]"
      ]
     },
     "execution_count": 8,
     "metadata": {},
     "output_type": "execute_result"
    }
   ],
   "source": [
    "l2=browser.find_elements(\"xpath\",\"//div[@class='_univ-rank ']\")\n",
    "l2"
   ]
  },
  {
   "cell_type": "code",
   "execution_count": 9,
   "id": "814dd0ef",
   "metadata": {},
   "outputs": [
    {
     "data": {
      "text/plain": [
       "['21', '22', '23', '24', '25', '26', '27', '28', '29', '30']"
      ]
     },
     "execution_count": 9,
     "metadata": {},
     "output_type": "execute_result"
    }
   ],
   "source": [
    "RANK=[]\n",
    "for data in l2:\n",
    "    #get the text data\n",
    "    temp=data.text\n",
    "    RANK.append(temp)\n",
    "RANK"
   ]
  },
  {
   "cell_type": "code",
   "execution_count": 10,
   "id": "71d961f8",
   "metadata": {},
   "outputs": [
    {
     "data": {
      "text/plain": [
       "[<selenium.webdriver.remote.webelement.WebElement (session=\"2d0711b072c4475f8c781a2a992dca9a\", element=\"b9c25830-7a14-42eb-b322-8dd8d9030318\")>,\n",
       " <selenium.webdriver.remote.webelement.WebElement (session=\"2d0711b072c4475f8c781a2a992dca9a\", element=\"30f7e3b4-ece5-4c8a-9bed-98660638002e\")>,\n",
       " <selenium.webdriver.remote.webelement.WebElement (session=\"2d0711b072c4475f8c781a2a992dca9a\", element=\"737d255c-4429-41bd-b895-32d1deb7f6cc\")>,\n",
       " <selenium.webdriver.remote.webelement.WebElement (session=\"2d0711b072c4475f8c781a2a992dca9a\", element=\"b22b19bd-90d0-4012-99ef-c81452f2d105\")>,\n",
       " <selenium.webdriver.remote.webelement.WebElement (session=\"2d0711b072c4475f8c781a2a992dca9a\", element=\"36331012-adbf-4af5-bb89-965fcc7b1cc1\")>,\n",
       " <selenium.webdriver.remote.webelement.WebElement (session=\"2d0711b072c4475f8c781a2a992dca9a\", element=\"fdc6b582-ce34-42d6-b0ed-8248d8aab5c2\")>,\n",
       " <selenium.webdriver.remote.webelement.WebElement (session=\"2d0711b072c4475f8c781a2a992dca9a\", element=\"31959e26-dc8b-433b-ab5b-9c4f707ed10a\")>,\n",
       " <selenium.webdriver.remote.webelement.WebElement (session=\"2d0711b072c4475f8c781a2a992dca9a\", element=\"ac4ad3c2-8de1-4914-a2c7-a3cb0e367e0c\")>,\n",
       " <selenium.webdriver.remote.webelement.WebElement (session=\"2d0711b072c4475f8c781a2a992dca9a\", element=\"bed1d5f3-52e8-40ed-9435-9b0431f038da\")>]"
      ]
     },
     "execution_count": 10,
     "metadata": {},
     "output_type": "execute_result"
    }
   ],
   "source": [
    "# GET EACH COLLEGE SPECIFICATION HEADERS\n",
    "header=browser.find_elements(\"xpath\",\"//div[@class='_click-function_ind']\")\n",
    "header"
   ]
  },
  {
   "cell_type": "code",
   "execution_count": 11,
   "id": "a452dfb2",
   "metadata": {},
   "outputs": [
    {
     "data": {
      "text/plain": [
       "['Overall Score',\n",
       " 'Academic Reputation',\n",
       " 'Employer Reputation',\n",
       " 'Citations per Faculty',\n",
       " 'Faculty Student Ratio',\n",
       " 'International Students Ratio',\n",
       " 'International Faculty Ratio',\n",
       " 'International Research Network\\nUnweighted',\n",
       " 'Employment Outcomes\\nUnweighted']"
      ]
     },
     "execution_count": 11,
     "metadata": {},
     "output_type": "execute_result"
    }
   ],
   "source": [
    "#PARSING DATA\n",
    "column_head=[]\n",
    "for data in header:\n",
    "    #get the text data\n",
    "    temp=data.text\n",
    "    column_head.append(temp)\n",
    "column_head"
   ]
  },
  {
   "cell_type": "code",
   "execution_count": 12,
   "id": "81a04db4",
   "metadata": {},
   "outputs": [
    {
     "data": {
      "text/plain": [
       "[<selenium.webdriver.remote.webelement.WebElement (session=\"2d0711b072c4475f8c781a2a992dca9a\", element=\"d811d4bc-12fc-423a-bf12-40c7f4556442\")>,\n",
       " <selenium.webdriver.remote.webelement.WebElement (session=\"2d0711b072c4475f8c781a2a992dca9a\", element=\"cb974280-ead5-4fce-906e-0a3a8ff55f19\")>,\n",
       " <selenium.webdriver.remote.webelement.WebElement (session=\"2d0711b072c4475f8c781a2a992dca9a\", element=\"d3e4d9dc-17e9-4b5e-a988-37341da6d387\")>,\n",
       " <selenium.webdriver.remote.webelement.WebElement (session=\"2d0711b072c4475f8c781a2a992dca9a\", element=\"aec6701f-b2ee-4363-92c6-6edd4ed598be\")>,\n",
       " <selenium.webdriver.remote.webelement.WebElement (session=\"2d0711b072c4475f8c781a2a992dca9a\", element=\"7d28310b-2449-4eee-9b84-74e3f1aa0ea3\")>,\n",
       " <selenium.webdriver.remote.webelement.WebElement (session=\"2d0711b072c4475f8c781a2a992dca9a\", element=\"e0614561-e159-4ba0-be48-f523a628b876\")>,\n",
       " <selenium.webdriver.remote.webelement.WebElement (session=\"2d0711b072c4475f8c781a2a992dca9a\", element=\"029471b5-4788-40c8-b4c7-7d81ba7f6ebb\")>,\n",
       " <selenium.webdriver.remote.webelement.WebElement (session=\"2d0711b072c4475f8c781a2a992dca9a\", element=\"f7819a20-258f-4cf3-87fb-4eea6eca4fb9\")>,\n",
       " <selenium.webdriver.remote.webelement.WebElement (session=\"2d0711b072c4475f8c781a2a992dca9a\", element=\"8ee0cc8e-212c-444c-bd6a-9448c1dddb64\")>,\n",
       " <selenium.webdriver.remote.webelement.WebElement (session=\"2d0711b072c4475f8c781a2a992dca9a\", element=\"67373e2b-1b5b-4349-a9b8-0af4be981733\")>,\n",
       " <selenium.webdriver.remote.webelement.WebElement (session=\"2d0711b072c4475f8c781a2a992dca9a\", element=\"8641a05d-1ac6-4fdb-b6aa-d9b85dedfa1b\")>,\n",
       " <selenium.webdriver.remote.webelement.WebElement (session=\"2d0711b072c4475f8c781a2a992dca9a\", element=\"430d6c91-e1fb-49bd-8b3b-b6ad5e792e31\")>,\n",
       " <selenium.webdriver.remote.webelement.WebElement (session=\"2d0711b072c4475f8c781a2a992dca9a\", element=\"43540073-a448-4b98-9e12-1572c471fa38\")>,\n",
       " <selenium.webdriver.remote.webelement.WebElement (session=\"2d0711b072c4475f8c781a2a992dca9a\", element=\"3bc5b78c-cf51-4f00-8f54-80d0827e348c\")>,\n",
       " <selenium.webdriver.remote.webelement.WebElement (session=\"2d0711b072c4475f8c781a2a992dca9a\", element=\"4399e105-da03-4a7c-91c7-78cd3fddb37d\")>,\n",
       " <selenium.webdriver.remote.webelement.WebElement (session=\"2d0711b072c4475f8c781a2a992dca9a\", element=\"5b1f4538-2e83-43b8-b0c9-09e65dd60a2c\")>,\n",
       " <selenium.webdriver.remote.webelement.WebElement (session=\"2d0711b072c4475f8c781a2a992dca9a\", element=\"16942077-c021-4493-91db-9d43eda20df6\")>,\n",
       " <selenium.webdriver.remote.webelement.WebElement (session=\"2d0711b072c4475f8c781a2a992dca9a\", element=\"0109b759-390f-424e-9f6c-9ca2f97ae825\")>,\n",
       " <selenium.webdriver.remote.webelement.WebElement (session=\"2d0711b072c4475f8c781a2a992dca9a\", element=\"375229e5-4791-4837-88db-aedeb173cf65\")>,\n",
       " <selenium.webdriver.remote.webelement.WebElement (session=\"2d0711b072c4475f8c781a2a992dca9a\", element=\"38118bf6-cfb4-4e6b-a38d-5d9e81d00e26\")>,\n",
       " <selenium.webdriver.remote.webelement.WebElement (session=\"2d0711b072c4475f8c781a2a992dca9a\", element=\"ab98bb3a-9fc7-403a-93fa-f293bb651314\")>,\n",
       " <selenium.webdriver.remote.webelement.WebElement (session=\"2d0711b072c4475f8c781a2a992dca9a\", element=\"ec952e0b-3461-4854-bb23-145938e3f188\")>,\n",
       " <selenium.webdriver.remote.webelement.WebElement (session=\"2d0711b072c4475f8c781a2a992dca9a\", element=\"c348443e-aa2f-4b46-b4f0-e0ce6e3e10c1\")>,\n",
       " <selenium.webdriver.remote.webelement.WebElement (session=\"2d0711b072c4475f8c781a2a992dca9a\", element=\"66a5bc30-2bf8-4247-a025-b1f07b0fe594\")>,\n",
       " <selenium.webdriver.remote.webelement.WebElement (session=\"2d0711b072c4475f8c781a2a992dca9a\", element=\"baef1f26-4fc0-4ee9-8c87-4d4dfb0cc2d5\")>,\n",
       " <selenium.webdriver.remote.webelement.WebElement (session=\"2d0711b072c4475f8c781a2a992dca9a\", element=\"138f159d-edce-4c8e-93e6-a9e06711c07d\")>,\n",
       " <selenium.webdriver.remote.webelement.WebElement (session=\"2d0711b072c4475f8c781a2a992dca9a\", element=\"469238b0-7c46-4ae8-9922-63f7b14ff64f\")>,\n",
       " <selenium.webdriver.remote.webelement.WebElement (session=\"2d0711b072c4475f8c781a2a992dca9a\", element=\"e648b98c-6bc8-4ae2-889d-6b450492b05d\")>,\n",
       " <selenium.webdriver.remote.webelement.WebElement (session=\"2d0711b072c4475f8c781a2a992dca9a\", element=\"4ecbd4fc-39f5-4509-9000-11d98baccc75\")>,\n",
       " <selenium.webdriver.remote.webelement.WebElement (session=\"2d0711b072c4475f8c781a2a992dca9a\", element=\"d6e9036b-7d5c-446f-87f5-c1be15d8f760\")>,\n",
       " <selenium.webdriver.remote.webelement.WebElement (session=\"2d0711b072c4475f8c781a2a992dca9a\", element=\"d1d0ef58-af16-4344-a8de-c98f18d89b99\")>,\n",
       " <selenium.webdriver.remote.webelement.WebElement (session=\"2d0711b072c4475f8c781a2a992dca9a\", element=\"b2b5c675-904f-4a89-89b1-4d390517bf22\")>,\n",
       " <selenium.webdriver.remote.webelement.WebElement (session=\"2d0711b072c4475f8c781a2a992dca9a\", element=\"3c856444-6490-4a3f-8683-45397dbf4a22\")>,\n",
       " <selenium.webdriver.remote.webelement.WebElement (session=\"2d0711b072c4475f8c781a2a992dca9a\", element=\"c555aa67-ea87-4ae2-9fd7-14d56b979d17\")>,\n",
       " <selenium.webdriver.remote.webelement.WebElement (session=\"2d0711b072c4475f8c781a2a992dca9a\", element=\"1e827abf-8307-4e91-8003-54e48613a999\")>,\n",
       " <selenium.webdriver.remote.webelement.WebElement (session=\"2d0711b072c4475f8c781a2a992dca9a\", element=\"bc28ac7d-5ac7-4ec9-9e34-e11f25412fe9\")>,\n",
       " <selenium.webdriver.remote.webelement.WebElement (session=\"2d0711b072c4475f8c781a2a992dca9a\", element=\"39130cf8-88bc-454f-939b-70b9afd63a73\")>,\n",
       " <selenium.webdriver.remote.webelement.WebElement (session=\"2d0711b072c4475f8c781a2a992dca9a\", element=\"9942a40e-e4cd-4528-9b0a-683b855f3fb8\")>,\n",
       " <selenium.webdriver.remote.webelement.WebElement (session=\"2d0711b072c4475f8c781a2a992dca9a\", element=\"b7924f25-bc09-4b47-894c-5ddfd7cf1a11\")>,\n",
       " <selenium.webdriver.remote.webelement.WebElement (session=\"2d0711b072c4475f8c781a2a992dca9a\", element=\"79965969-7ee0-402d-8542-9eacab0a5a2b\")>,\n",
       " <selenium.webdriver.remote.webelement.WebElement (session=\"2d0711b072c4475f8c781a2a992dca9a\", element=\"2b1ec42e-1128-4938-a559-897f21cfe0a2\")>,\n",
       " <selenium.webdriver.remote.webelement.WebElement (session=\"2d0711b072c4475f8c781a2a992dca9a\", element=\"fcbdd5c6-6278-401b-9be6-ebbece2b02ff\")>,\n",
       " <selenium.webdriver.remote.webelement.WebElement (session=\"2d0711b072c4475f8c781a2a992dca9a\", element=\"ba897e3e-8d80-417d-86e0-3c56405f8efa\")>,\n",
       " <selenium.webdriver.remote.webelement.WebElement (session=\"2d0711b072c4475f8c781a2a992dca9a\", element=\"6bf3a156-e3ac-46d5-9fe4-12b38c168c6b\")>,\n",
       " <selenium.webdriver.remote.webelement.WebElement (session=\"2d0711b072c4475f8c781a2a992dca9a\", element=\"1e446203-bade-446a-9a1d-6558e27553f6\")>,\n",
       " <selenium.webdriver.remote.webelement.WebElement (session=\"2d0711b072c4475f8c781a2a992dca9a\", element=\"bea0bb67-9c5f-46a3-b2e3-b494a1c5b174\")>,\n",
       " <selenium.webdriver.remote.webelement.WebElement (session=\"2d0711b072c4475f8c781a2a992dca9a\", element=\"99313bbc-ab6b-4ab3-bedb-b0c520cbde0e\")>,\n",
       " <selenium.webdriver.remote.webelement.WebElement (session=\"2d0711b072c4475f8c781a2a992dca9a\", element=\"edc887f3-777f-413c-a66a-1b201824d1fc\")>,\n",
       " <selenium.webdriver.remote.webelement.WebElement (session=\"2d0711b072c4475f8c781a2a992dca9a\", element=\"1d2253ff-5c01-43f0-ab98-970f2089591f\")>,\n",
       " <selenium.webdriver.remote.webelement.WebElement (session=\"2d0711b072c4475f8c781a2a992dca9a\", element=\"905b1355-42e8-4236-b73d-d449bd0c26e6\")>,\n",
       " <selenium.webdriver.remote.webelement.WebElement (session=\"2d0711b072c4475f8c781a2a992dca9a\", element=\"03fe7ad2-e210-49ae-bef7-ba1d7e211f2d\")>,\n",
       " <selenium.webdriver.remote.webelement.WebElement (session=\"2d0711b072c4475f8c781a2a992dca9a\", element=\"f13ab7c1-218a-47e5-8118-2941329bf148\")>,\n",
       " <selenium.webdriver.remote.webelement.WebElement (session=\"2d0711b072c4475f8c781a2a992dca9a\", element=\"e703162e-e73e-4bc1-bd7c-f879db2c78ac\")>,\n",
       " <selenium.webdriver.remote.webelement.WebElement (session=\"2d0711b072c4475f8c781a2a992dca9a\", element=\"47015f60-b950-4db4-b703-7c6bf522f2d2\")>,\n",
       " <selenium.webdriver.remote.webelement.WebElement (session=\"2d0711b072c4475f8c781a2a992dca9a\", element=\"00ff7bbb-63f6-43e3-9940-4e1bf7618681\")>,\n",
       " <selenium.webdriver.remote.webelement.WebElement (session=\"2d0711b072c4475f8c781a2a992dca9a\", element=\"33db2bd5-897f-4ec0-a4ac-0096806b6a42\")>,\n",
       " <selenium.webdriver.remote.webelement.WebElement (session=\"2d0711b072c4475f8c781a2a992dca9a\", element=\"1d3d16fc-1961-4c1c-9a9c-4f17868688fb\")>,\n",
       " <selenium.webdriver.remote.webelement.WebElement (session=\"2d0711b072c4475f8c781a2a992dca9a\", element=\"03653cfa-245d-4e2f-a112-9376ca505849\")>,\n",
       " <selenium.webdriver.remote.webelement.WebElement (session=\"2d0711b072c4475f8c781a2a992dca9a\", element=\"5d957f5f-c491-4bea-ba68-97a01feb1787\")>,\n",
       " <selenium.webdriver.remote.webelement.WebElement (session=\"2d0711b072c4475f8c781a2a992dca9a\", element=\"1036009b-f094-4bb5-8fda-51651be64945\")>,\n",
       " <selenium.webdriver.remote.webelement.WebElement (session=\"2d0711b072c4475f8c781a2a992dca9a\", element=\"7b543445-8102-4f8f-b78b-8ae68bae381d\")>,\n",
       " <selenium.webdriver.remote.webelement.WebElement (session=\"2d0711b072c4475f8c781a2a992dca9a\", element=\"8115ed58-d69c-479b-ad30-6c3b9a17e2b0\")>,\n",
       " <selenium.webdriver.remote.webelement.WebElement (session=\"2d0711b072c4475f8c781a2a992dca9a\", element=\"e745d51e-a232-4b1e-8825-7df8019b336c\")>,\n",
       " <selenium.webdriver.remote.webelement.WebElement (session=\"2d0711b072c4475f8c781a2a992dca9a\", element=\"f225a6c8-9c06-48a9-b967-e6280685224c\")>,\n",
       " <selenium.webdriver.remote.webelement.WebElement (session=\"2d0711b072c4475f8c781a2a992dca9a\", element=\"1da50c57-9053-4b4f-8849-5680cbf8ad39\")>,\n",
       " <selenium.webdriver.remote.webelement.WebElement (session=\"2d0711b072c4475f8c781a2a992dca9a\", element=\"83fc5188-234c-404f-bc9c-ce007b6050fe\")>,\n",
       " <selenium.webdriver.remote.webelement.WebElement (session=\"2d0711b072c4475f8c781a2a992dca9a\", element=\"360b3627-35d3-4825-ad8c-9d1c1e3977a7\")>,\n",
       " <selenium.webdriver.remote.webelement.WebElement (session=\"2d0711b072c4475f8c781a2a992dca9a\", element=\"e678b937-4a6f-4362-a531-9cb66551ff09\")>,\n",
       " <selenium.webdriver.remote.webelement.WebElement (session=\"2d0711b072c4475f8c781a2a992dca9a\", element=\"aadbbad0-be3e-4b51-b65a-c0c3853087f0\")>,\n",
       " <selenium.webdriver.remote.webelement.WebElement (session=\"2d0711b072c4475f8c781a2a992dca9a\", element=\"546922e5-dbe4-4d0d-83ba-4c70e3c6f4f6\")>,\n",
       " <selenium.webdriver.remote.webelement.WebElement (session=\"2d0711b072c4475f8c781a2a992dca9a\", element=\"636d3ca6-ea3a-4447-ae52-8b2a47bdb543\")>,\n",
       " <selenium.webdriver.remote.webelement.WebElement (session=\"2d0711b072c4475f8c781a2a992dca9a\", element=\"0a45d241-6109-48ef-a7a3-a8c6a6fdd05b\")>,\n",
       " <selenium.webdriver.remote.webelement.WebElement (session=\"2d0711b072c4475f8c781a2a992dca9a\", element=\"6f985bfb-01c7-4146-8f37-8603a33f1109\")>,\n",
       " <selenium.webdriver.remote.webelement.WebElement (session=\"2d0711b072c4475f8c781a2a992dca9a\", element=\"f65a7686-a549-4a4f-8b43-81aa1eb59126\")>,\n",
       " <selenium.webdriver.remote.webelement.WebElement (session=\"2d0711b072c4475f8c781a2a992dca9a\", element=\"e9caf6ad-9da9-4657-a3af-ab13ec894ba9\")>,\n",
       " <selenium.webdriver.remote.webelement.WebElement (session=\"2d0711b072c4475f8c781a2a992dca9a\", element=\"e36f7388-ec09-4ca6-82f9-6f027186213f\")>,\n",
       " <selenium.webdriver.remote.webelement.WebElement (session=\"2d0711b072c4475f8c781a2a992dca9a\", element=\"f69858dc-7928-4e77-b672-05d8b8e5eeed\")>,\n",
       " <selenium.webdriver.remote.webelement.WebElement (session=\"2d0711b072c4475f8c781a2a992dca9a\", element=\"08cce3a0-68cf-4b5d-9d20-4f17e8eae4a6\")>,\n",
       " <selenium.webdriver.remote.webelement.WebElement (session=\"2d0711b072c4475f8c781a2a992dca9a\", element=\"2a4255bd-4867-46a3-8308-c7bb9efe5909\")>,\n",
       " <selenium.webdriver.remote.webelement.WebElement (session=\"2d0711b072c4475f8c781a2a992dca9a\", element=\"96b75547-4755-4037-84d3-2c1ac8ecc232\")>,\n",
       " <selenium.webdriver.remote.webelement.WebElement (session=\"2d0711b072c4475f8c781a2a992dca9a\", element=\"2210ab8e-95d5-41b1-9372-3d39aaf9827b\")>,\n",
       " <selenium.webdriver.remote.webelement.WebElement (session=\"2d0711b072c4475f8c781a2a992dca9a\", element=\"e4923848-3904-42a2-8230-ccc25dc4c083\")>,\n",
       " <selenium.webdriver.remote.webelement.WebElement (session=\"2d0711b072c4475f8c781a2a992dca9a\", element=\"728387e1-d362-4b0d-89e4-4aa7333114d8\")>,\n",
       " <selenium.webdriver.remote.webelement.WebElement (session=\"2d0711b072c4475f8c781a2a992dca9a\", element=\"e13f5392-845c-49d4-b0c3-3f7c3bcf8157\")>,\n",
       " <selenium.webdriver.remote.webelement.WebElement (session=\"2d0711b072c4475f8c781a2a992dca9a\", element=\"be291427-ca9d-4abc-b88b-a032ea05c692\")>,\n",
       " <selenium.webdriver.remote.webelement.WebElement (session=\"2d0711b072c4475f8c781a2a992dca9a\", element=\"c124ecd5-c963-410f-abb2-08d34a8eed1c\")>,\n",
       " <selenium.webdriver.remote.webelement.WebElement (session=\"2d0711b072c4475f8c781a2a992dca9a\", element=\"e18fd711-3475-47b1-a79f-436eb937ccf8\")>,\n",
       " <selenium.webdriver.remote.webelement.WebElement (session=\"2d0711b072c4475f8c781a2a992dca9a\", element=\"8feff38a-be6d-4ac0-ba87-e3b2336bcfa7\")>,\n",
       " <selenium.webdriver.remote.webelement.WebElement (session=\"2d0711b072c4475f8c781a2a992dca9a\", element=\"2b64ced0-31e1-4b1c-93f2-171bfd2e0667\")>,\n",
       " <selenium.webdriver.remote.webelement.WebElement (session=\"2d0711b072c4475f8c781a2a992dca9a\", element=\"879f863f-fd42-41af-b96c-18f0f02a16ed\")>,\n",
       " <selenium.webdriver.remote.webelement.WebElement (session=\"2d0711b072c4475f8c781a2a992dca9a\", element=\"1b631ba5-3313-4cf2-aebb-ff356b9cf032\")>,\n",
       " <selenium.webdriver.remote.webelement.WebElement (session=\"2d0711b072c4475f8c781a2a992dca9a\", element=\"e3a40634-c483-4c4f-add8-dc74b6fa5a38\")>,\n",
       " <selenium.webdriver.remote.webelement.WebElement (session=\"2d0711b072c4475f8c781a2a992dca9a\", element=\"6b84927b-bf32-4b98-a4c0-c6312eac029b\")>,\n",
       " <selenium.webdriver.remote.webelement.WebElement (session=\"2d0711b072c4475f8c781a2a992dca9a\", element=\"f706324f-f7a2-4425-bc15-c7ad2423ddaf\")>,\n",
       " <selenium.webdriver.remote.webelement.WebElement (session=\"2d0711b072c4475f8c781a2a992dca9a\", element=\"fe9bebd7-095c-4ae6-b177-1d9ad917285c\")>,\n",
       " <selenium.webdriver.remote.webelement.WebElement (session=\"2d0711b072c4475f8c781a2a992dca9a\", element=\"73adab20-cb44-40eb-b606-0e7ed0ed45a0\")>,\n",
       " <selenium.webdriver.remote.webelement.WebElement (session=\"2d0711b072c4475f8c781a2a992dca9a\", element=\"8fd7fcd4-fccb-411a-a11b-c9a1de384b4c\")>,\n",
       " <selenium.webdriver.remote.webelement.WebElement (session=\"2d0711b072c4475f8c781a2a992dca9a\", element=\"a8fa8613-27ce-4b30-8fab-bc19df2ee24d\")>,\n",
       " <selenium.webdriver.remote.webelement.WebElement (session=\"2d0711b072c4475f8c781a2a992dca9a\", element=\"76d6e336-a028-457a-9227-fa18c85d68ea\")>,\n",
       " <selenium.webdriver.remote.webelement.WebElement (session=\"2d0711b072c4475f8c781a2a992dca9a\", element=\"365dcb86-357b-41e9-9e7f-203fc1170368\")>]"
      ]
     },
     "execution_count": 12,
     "metadata": {},
     "output_type": "execute_result"
    }
   ],
   "source": [
    "header2=browser.find_elements(\"xpath\",\"//div[@class='td-wrap-in']\")\n",
    "header2"
   ]
  },
  {
   "cell_type": "code",
   "execution_count": 18,
   "id": "b525f965",
   "metadata": {},
   "outputs": [
    {
     "data": {
      "text/plain": [
       "['85.3', '100', '99.7', '73.3', '91.9', '27.8', '10.4', '89.5', '97.8']"
      ]
     },
     "execution_count": 18,
     "metadata": {},
     "output_type": "execute_result"
    }
   ],
   "source": [
    "#PARSING DATA\n",
    "value_head=[]\n",
    "for data in header2:\n",
    "    #get the text data\n",
    "    temp=data.text\n",
    "    value_head.append(temp)\n",
    "value=value_head[21:30]\n",
    "value"
   ]
  },
  {
   "cell_type": "code",
   "execution_count": 19,
   "id": "0c8e90e5",
   "metadata": {},
   "outputs": [
    {
     "data": {
      "text/plain": [
       "{'Name': 'The University of Tokyo',\n",
       " 'Location': 'Tokyo, Japan',\n",
       " 'Rank': '23',\n",
       " 'Overall Score': '85.3',\n",
       " 'Academic Reputation': '100',\n",
       " 'Employer Reputation': '99.7',\n",
       " 'Citations per Faculty': '73.3',\n",
       " 'Faculty Student Ratio': '91.9',\n",
       " 'International Students Ratio': '27.8',\n",
       " 'International Faculty Ratio': '10.4',\n",
       " 'International Research Network\\nUnweighted': '89.5',\n",
       " 'Employment Outcomes\\nUnweighted': '97.8'}"
      ]
     },
     "execution_count": 19,
     "metadata": {},
     "output_type": "execute_result"
    }
   ],
   "source": [
    "d={}\n",
    "d['Name']=value_head[20]\n",
    "d['Location']=loc[2]\n",
    "d['Rank']=RANK[2]\n",
    "for i in range(len(column_head)):\n",
    "    d[column_head[i]]=value[i]\n",
    "d"
   ]
  },
  {
   "cell_type": "code",
   "execution_count": 20,
   "id": "8f304cc9",
   "metadata": {},
   "outputs": [
    {
     "data": {
      "text/plain": [
       "'{\"Name\": \"The University of Tokyo\", \"Location\": \"Tokyo, Japan\", \"Rank\": \"23\", \"Overall Score\": \"85.3\", \"Academic Reputation\": \"100\", \"Employer Reputation\": \"99.7\", \"Citations per Faculty\": \"73.3\", \"Faculty Student Ratio\": \"91.9\", \"International Students Ratio\": \"27.8\", \"International Faculty Ratio\": \"10.4\", \"International Research Network\\\\nUnweighted\": \"89.5\", \"Employment Outcomes\\\\nUnweighted\": \"97.8\"}'"
      ]
     },
     "execution_count": 20,
     "metadata": {},
     "output_type": "execute_result"
    }
   ],
   "source": [
    "s1=json.dumps(d)\n",
    "s1"
   ]
  },
  {
   "cell_type": "code",
   "execution_count": 21,
   "id": "9aae72e5",
   "metadata": {},
   "outputs": [],
   "source": [
    "with open('The University of Tokyo.json','w') as f:\n",
    "    json.dump(d,f)"
   ]
  },
  {
   "cell_type": "code",
   "execution_count": null,
   "id": "caf006fc",
   "metadata": {},
   "outputs": [],
   "source": []
  },
  {
   "cell_type": "code",
   "execution_count": null,
   "id": "208f9bc0",
   "metadata": {},
   "outputs": [],
   "source": []
  }
 ],
 "metadata": {
  "kernelspec": {
   "display_name": "Python 3 (ipykernel)",
   "language": "python",
   "name": "python3"
  },
  "language_info": {
   "codemirror_mode": {
    "name": "ipython",
    "version": 3
   },
   "file_extension": ".py",
   "mimetype": "text/x-python",
   "name": "python",
   "nbconvert_exporter": "python",
   "pygments_lexer": "ipython3",
   "version": "3.9.12"
  }
 },
 "nbformat": 4,
 "nbformat_minor": 5
}
