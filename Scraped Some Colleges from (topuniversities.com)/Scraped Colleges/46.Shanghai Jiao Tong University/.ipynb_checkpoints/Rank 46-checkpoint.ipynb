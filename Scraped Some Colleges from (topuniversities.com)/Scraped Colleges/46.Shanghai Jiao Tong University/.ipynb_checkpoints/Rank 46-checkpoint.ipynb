{
 "cells": [
  {
   "cell_type": "code",
   "execution_count": 1,
   "id": "c9dff6d3",
   "metadata": {},
   "outputs": [],
   "source": [
    "from selenium import webdriver\n",
    "from selenium.webdriver.chrome.service import Service\n",
    "import pandas as pd\n",
    "import json"
   ]
  },
  {
   "cell_type": "code",
   "execution_count": 2,
   "id": "71c98c29",
   "metadata": {},
   "outputs": [],
   "source": [
    "path = Service('C:\\chromedriver.exe')\n"
   ]
  },
  {
   "cell_type": "code",
   "execution_count": 3,
   "id": "4bb50658",
   "metadata": {},
   "outputs": [],
   "source": [
    "# set path for the driver\n",
    "browser = webdriver.Chrome(service = path)"
   ]
  },
  {
   "cell_type": "code",
   "execution_count": 4,
   "id": "19fff3ed",
   "metadata": {},
   "outputs": [],
   "source": [
    "url = \"https://www.topuniversities.com/university-rankings/world-university-rankings/2023\""
   ]
  },
  {
   "cell_type": "code",
   "execution_count": 5,
   "id": "e91b9f43",
   "metadata": {},
   "outputs": [],
   "source": [
    "# open the page url ion chrome\n",
    "browser.get(url)"
   ]
  },
  {
   "cell_type": "code",
   "execution_count": 6,
   "id": "00d22812",
   "metadata": {},
   "outputs": [
    {
     "data": {
      "text/plain": [
       "[<selenium.webdriver.remote.webelement.WebElement (session=\"72858e0b7b3a910106a4719cd90e40ac\", element=\"73bd8443-3c6f-40a0-ba39-e23387e33c90\")>,\n",
       " <selenium.webdriver.remote.webelement.WebElement (session=\"72858e0b7b3a910106a4719cd90e40ac\", element=\"86bd5e3c-c844-4608-9143-b5ecd3766e37\")>,\n",
       " <selenium.webdriver.remote.webelement.WebElement (session=\"72858e0b7b3a910106a4719cd90e40ac\", element=\"b5c012c4-bc65-4d82-a5a4-02b1412dbf96\")>,\n",
       " <selenium.webdriver.remote.webelement.WebElement (session=\"72858e0b7b3a910106a4719cd90e40ac\", element=\"80c744cc-317e-4566-8e25-d0ec654e4109\")>,\n",
       " <selenium.webdriver.remote.webelement.WebElement (session=\"72858e0b7b3a910106a4719cd90e40ac\", element=\"9ab5df8b-9cef-4b5b-b9d7-2f516cc8d718\")>,\n",
       " <selenium.webdriver.remote.webelement.WebElement (session=\"72858e0b7b3a910106a4719cd90e40ac\", element=\"6c892b50-41fc-4d73-8142-7a4c3f4482e6\")>,\n",
       " <selenium.webdriver.remote.webelement.WebElement (session=\"72858e0b7b3a910106a4719cd90e40ac\", element=\"e910a3e7-abd5-4745-b5a6-131624a3f3b5\")>,\n",
       " <selenium.webdriver.remote.webelement.WebElement (session=\"72858e0b7b3a910106a4719cd90e40ac\", element=\"8cb72d7e-2477-4048-840c-09cea295f573\")>,\n",
       " <selenium.webdriver.remote.webelement.WebElement (session=\"72858e0b7b3a910106a4719cd90e40ac\", element=\"5ed3c539-11e7-4da6-a262-4f2371e207d1\")>,\n",
       " <selenium.webdriver.remote.webelement.WebElement (session=\"72858e0b7b3a910106a4719cd90e40ac\", element=\"8cdf25c7-d644-4412-87b8-b6d21f2cda3e\")>,\n",
       " <selenium.webdriver.remote.webelement.WebElement (session=\"72858e0b7b3a910106a4719cd90e40ac\", element=\"330dc7c7-ca4f-47b4-8d39-9ec44b073456\")>,\n",
       " <selenium.webdriver.remote.webelement.WebElement (session=\"72858e0b7b3a910106a4719cd90e40ac\", element=\"10fe15e4-5ae2-4a39-a0a2-1476d973c1e1\")>,\n",
       " <selenium.webdriver.remote.webelement.WebElement (session=\"72858e0b7b3a910106a4719cd90e40ac\", element=\"c9fe2489-2787-4286-8b6f-5f73add8c37e\")>,\n",
       " <selenium.webdriver.remote.webelement.WebElement (session=\"72858e0b7b3a910106a4719cd90e40ac\", element=\"434b7228-3bb5-4273-b8a7-397a496e082c\")>,\n",
       " <selenium.webdriver.remote.webelement.WebElement (session=\"72858e0b7b3a910106a4719cd90e40ac\", element=\"a143fb7d-1989-48a6-a897-c09c5df291f4\")>,\n",
       " <selenium.webdriver.remote.webelement.WebElement (session=\"72858e0b7b3a910106a4719cd90e40ac\", element=\"c71888b4-9bd9-4e06-be96-a53b54649f06\")>,\n",
       " <selenium.webdriver.remote.webelement.WebElement (session=\"72858e0b7b3a910106a4719cd90e40ac\", element=\"1b64d375-8374-4ffd-8e42-614c45e007c8\")>,\n",
       " <selenium.webdriver.remote.webelement.WebElement (session=\"72858e0b7b3a910106a4719cd90e40ac\", element=\"c44d92f2-2e2a-416d-8810-382be6dea668\")>,\n",
       " <selenium.webdriver.remote.webelement.WebElement (session=\"72858e0b7b3a910106a4719cd90e40ac\", element=\"3ba2bc36-51fc-4266-aee5-acfb30f5d2b7\")>,\n",
       " <selenium.webdriver.remote.webelement.WebElement (session=\"72858e0b7b3a910106a4719cd90e40ac\", element=\"0bf92b54-4bc0-40a5-99cf-6ebf4397d126\")>]"
      ]
     },
     "execution_count": 6,
     "metadata": {},
     "output_type": "execute_result"
    }
   ],
   "source": [
    "l1=browser.find_elements(\"xpath\",\"//div[@class='location ']\")\n",
    "l1"
   ]
  },
  {
   "cell_type": "code",
   "execution_count": 7,
   "id": "7c994fd8",
   "metadata": {},
   "outputs": [
    {
     "data": {
      "text/plain": [
       "['Sydney, Australia',\n",
       " 'Daejeon, South Korea',\n",
       " 'Hangzhou, China (Mainland)',\n",
       " 'Los Angeles, United States',\n",
       " 'Sydney, Australia',\n",
       " 'Shanghai, China (Mainland)',\n",
       " 'Vancouver, Canada',\n",
       " 'Palaiseau Cedex, France',\n",
       " 'Munich, Germany',\n",
       " 'Durham, United States']"
      ]
     },
     "execution_count": 7,
     "metadata": {},
     "output_type": "execute_result"
    }
   ],
   "source": [
    "loc=[]\n",
    "for data in l1:\n",
    "    #get the text data\n",
    "    temp=data.text\n",
    "    loc.append(temp)\n",
    "loc=loc[10:]\n",
    "loc"
   ]
  },
  {
   "cell_type": "code",
   "execution_count": 10,
   "id": "c7b7d195",
   "metadata": {},
   "outputs": [
    {
     "data": {
      "text/plain": [
       "[<selenium.webdriver.remote.webelement.WebElement (session=\"72858e0b7b3a910106a4719cd90e40ac\", element=\"0a0d459a-becc-400b-b56b-a300fa674484\")>,\n",
       " <selenium.webdriver.remote.webelement.WebElement (session=\"72858e0b7b3a910106a4719cd90e40ac\", element=\"3875b993-9bc0-4fb5-b5b8-4d619ad7f748\")>,\n",
       " <selenium.webdriver.remote.webelement.WebElement (session=\"72858e0b7b3a910106a4719cd90e40ac\", element=\"607de204-5492-4e3e-a247-c47df7e47c27\")>,\n",
       " <selenium.webdriver.remote.webelement.WebElement (session=\"72858e0b7b3a910106a4719cd90e40ac\", element=\"e3113d55-c72f-458e-8b73-b6a1e0a1cecc\")>,\n",
       " <selenium.webdriver.remote.webelement.WebElement (session=\"72858e0b7b3a910106a4719cd90e40ac\", element=\"c6179686-c660-4932-87b1-35f7225f5f86\")>,\n",
       " <selenium.webdriver.remote.webelement.WebElement (session=\"72858e0b7b3a910106a4719cd90e40ac\", element=\"07e622c7-8837-4284-a4dd-af4ad37dddff\")>,\n",
       " <selenium.webdriver.remote.webelement.WebElement (session=\"72858e0b7b3a910106a4719cd90e40ac\", element=\"79c4e4a9-aa29-43c0-abaf-450f771948e4\")>,\n",
       " <selenium.webdriver.remote.webelement.WebElement (session=\"72858e0b7b3a910106a4719cd90e40ac\", element=\"e56428be-5259-4e77-89cf-6d37dccbcf93\")>,\n",
       " <selenium.webdriver.remote.webelement.WebElement (session=\"72858e0b7b3a910106a4719cd90e40ac\", element=\"4513dc40-6cac-497f-bc27-df0b5d19424f\")>,\n",
       " <selenium.webdriver.remote.webelement.WebElement (session=\"72858e0b7b3a910106a4719cd90e40ac\", element=\"3489841d-6c6e-4899-8e2f-986b3a95b360\")>]"
      ]
     },
     "execution_count": 10,
     "metadata": {},
     "output_type": "execute_result"
    }
   ],
   "source": [
    "\n",
    "l2=browser.find_elements(\"xpath\",\"//div[@class='_univ-rank ']\")\n",
    "l2"
   ]
  },
  {
   "cell_type": "code",
   "execution_count": 11,
   "id": "126c251c",
   "metadata": {},
   "outputs": [
    {
     "data": {
      "text/plain": [
       "['41', '=42', '=42', '44', '45', '46', '47', '48', '49', '=50']"
      ]
     },
     "execution_count": 11,
     "metadata": {},
     "output_type": "execute_result"
    }
   ],
   "source": [
    "RANK=[]\n",
    "for data in l2:\n",
    "    #get the text data\n",
    "    temp=data.text\n",
    "    RANK.append(temp)\n",
    "RANK"
   ]
  },
  {
   "cell_type": "code",
   "execution_count": 12,
   "id": "5f5ef45c",
   "metadata": {},
   "outputs": [
    {
     "data": {
      "text/plain": [
       "[<selenium.webdriver.remote.webelement.WebElement (session=\"72858e0b7b3a910106a4719cd90e40ac\", element=\"2a1fc1b7-2297-45ab-b85a-a802e75a1f8b\")>,\n",
       " <selenium.webdriver.remote.webelement.WebElement (session=\"72858e0b7b3a910106a4719cd90e40ac\", element=\"edb28292-4209-453a-b77b-cabe24a45b63\")>,\n",
       " <selenium.webdriver.remote.webelement.WebElement (session=\"72858e0b7b3a910106a4719cd90e40ac\", element=\"50e26336-1486-4a5c-945b-4e233cfbb0d4\")>,\n",
       " <selenium.webdriver.remote.webelement.WebElement (session=\"72858e0b7b3a910106a4719cd90e40ac\", element=\"0b00be0b-77b5-4afb-a623-efbb480a8f77\")>,\n",
       " <selenium.webdriver.remote.webelement.WebElement (session=\"72858e0b7b3a910106a4719cd90e40ac\", element=\"34da7b06-4a87-47f6-965b-867bae15924b\")>,\n",
       " <selenium.webdriver.remote.webelement.WebElement (session=\"72858e0b7b3a910106a4719cd90e40ac\", element=\"c86e6e38-be90-4d64-8522-2a14bdc2ab54\")>,\n",
       " <selenium.webdriver.remote.webelement.WebElement (session=\"72858e0b7b3a910106a4719cd90e40ac\", element=\"b92b69f3-e291-41f8-921e-6b21ffe9d6d2\")>,\n",
       " <selenium.webdriver.remote.webelement.WebElement (session=\"72858e0b7b3a910106a4719cd90e40ac\", element=\"249b1e3d-752b-4178-91e9-ddd374a1d269\")>,\n",
       " <selenium.webdriver.remote.webelement.WebElement (session=\"72858e0b7b3a910106a4719cd90e40ac\", element=\"c2f21cb2-2470-412d-90a1-518ada87c25e\")>]"
      ]
     },
     "execution_count": 12,
     "metadata": {},
     "output_type": "execute_result"
    }
   ],
   "source": [
    "# GET EACH COLLEGE SPECIFICATION HEADERS\n",
    "header=browser.find_elements(\"xpath\",\"//div[@class='_click-function_ind']\")\n",
    "header\n"
   ]
  },
  {
   "cell_type": "code",
   "execution_count": 13,
   "id": "54976cdd",
   "metadata": {},
   "outputs": [
    {
     "data": {
      "text/plain": [
       "['Overall Score',\n",
       " 'Academic Reputation',\n",
       " 'Employer Reputation',\n",
       " 'Citations per Faculty',\n",
       " 'Faculty Student Ratio',\n",
       " 'International Students Ratio',\n",
       " 'International Faculty Ratio',\n",
       " 'International Research Network\\nUnweighted',\n",
       " 'Employment Outcomes\\nUnweighted']"
      ]
     },
     "execution_count": 13,
     "metadata": {},
     "output_type": "execute_result"
    }
   ],
   "source": [
    "\n",
    "#PARSING DATA\n",
    "column_head=[]\n",
    "for data in header:\n",
    "    #get the text data\n",
    "    temp=data.text\n",
    "    column_head.append(temp)\n",
    "column_head"
   ]
  },
  {
   "cell_type": "code",
   "execution_count": 14,
   "id": "93548afc",
   "metadata": {},
   "outputs": [
    {
     "data": {
      "text/plain": [
       "[<selenium.webdriver.remote.webelement.WebElement (session=\"72858e0b7b3a910106a4719cd90e40ac\", element=\"cfadd672-38ae-44c6-b397-c1ca1741f7eb\")>,\n",
       " <selenium.webdriver.remote.webelement.WebElement (session=\"72858e0b7b3a910106a4719cd90e40ac\", element=\"ce4ce2f6-1546-4d85-a046-c122f1beea60\")>,\n",
       " <selenium.webdriver.remote.webelement.WebElement (session=\"72858e0b7b3a910106a4719cd90e40ac\", element=\"22afe306-6e55-4eaa-b092-25a11292d202\")>,\n",
       " <selenium.webdriver.remote.webelement.WebElement (session=\"72858e0b7b3a910106a4719cd90e40ac\", element=\"11c345f7-1bf8-4093-a928-db72fbd56b1c\")>,\n",
       " <selenium.webdriver.remote.webelement.WebElement (session=\"72858e0b7b3a910106a4719cd90e40ac\", element=\"876505de-deb1-44ed-8f0f-58e249f88eee\")>,\n",
       " <selenium.webdriver.remote.webelement.WebElement (session=\"72858e0b7b3a910106a4719cd90e40ac\", element=\"3e86f2bd-7a4e-4d04-ac3d-17651cf19c06\")>,\n",
       " <selenium.webdriver.remote.webelement.WebElement (session=\"72858e0b7b3a910106a4719cd90e40ac\", element=\"baf9b82b-1cc6-4991-b8f6-841028271579\")>,\n",
       " <selenium.webdriver.remote.webelement.WebElement (session=\"72858e0b7b3a910106a4719cd90e40ac\", element=\"2bc72696-f053-477d-838b-74c4e2c1ccf1\")>,\n",
       " <selenium.webdriver.remote.webelement.WebElement (session=\"72858e0b7b3a910106a4719cd90e40ac\", element=\"321a1b39-a3a3-46c9-ba7d-c139f1d3ef3c\")>,\n",
       " <selenium.webdriver.remote.webelement.WebElement (session=\"72858e0b7b3a910106a4719cd90e40ac\", element=\"889e3776-209c-410d-b92e-a2c2cae9075a\")>,\n",
       " <selenium.webdriver.remote.webelement.WebElement (session=\"72858e0b7b3a910106a4719cd90e40ac\", element=\"43ba2e18-18cc-44cd-8646-1b699894f459\")>,\n",
       " <selenium.webdriver.remote.webelement.WebElement (session=\"72858e0b7b3a910106a4719cd90e40ac\", element=\"fbd59ba0-6ebc-4e90-bb35-74ac3d3eb94f\")>,\n",
       " <selenium.webdriver.remote.webelement.WebElement (session=\"72858e0b7b3a910106a4719cd90e40ac\", element=\"56200514-b114-4157-99fc-3df32318d3ed\")>,\n",
       " <selenium.webdriver.remote.webelement.WebElement (session=\"72858e0b7b3a910106a4719cd90e40ac\", element=\"d6458f8a-6795-46a6-8127-d362bea34484\")>,\n",
       " <selenium.webdriver.remote.webelement.WebElement (session=\"72858e0b7b3a910106a4719cd90e40ac\", element=\"c40bd6cf-4289-4455-b0b1-0c1d529b6479\")>,\n",
       " <selenium.webdriver.remote.webelement.WebElement (session=\"72858e0b7b3a910106a4719cd90e40ac\", element=\"5fa0e3e5-4c48-4ae2-b7bb-a18a2330ac2d\")>,\n",
       " <selenium.webdriver.remote.webelement.WebElement (session=\"72858e0b7b3a910106a4719cd90e40ac\", element=\"7e8b8957-f2ea-42ae-b4f2-48a7e2017de6\")>,\n",
       " <selenium.webdriver.remote.webelement.WebElement (session=\"72858e0b7b3a910106a4719cd90e40ac\", element=\"18207055-b334-4ec2-8a9e-fadf14dc5912\")>,\n",
       " <selenium.webdriver.remote.webelement.WebElement (session=\"72858e0b7b3a910106a4719cd90e40ac\", element=\"61b0f56a-fed3-43f3-b988-fa2c1792653a\")>,\n",
       " <selenium.webdriver.remote.webelement.WebElement (session=\"72858e0b7b3a910106a4719cd90e40ac\", element=\"c7bbf9b3-57c7-416a-aef1-83f04f727799\")>,\n",
       " <selenium.webdriver.remote.webelement.WebElement (session=\"72858e0b7b3a910106a4719cd90e40ac\", element=\"f92f04c1-90af-49ca-8970-02e30d89d2fb\")>,\n",
       " <selenium.webdriver.remote.webelement.WebElement (session=\"72858e0b7b3a910106a4719cd90e40ac\", element=\"ec584a31-725f-4503-b07a-ea9ac054e4f3\")>,\n",
       " <selenium.webdriver.remote.webelement.WebElement (session=\"72858e0b7b3a910106a4719cd90e40ac\", element=\"2f662b17-3e73-42e5-b5cc-6fe72c4b7ad0\")>,\n",
       " <selenium.webdriver.remote.webelement.WebElement (session=\"72858e0b7b3a910106a4719cd90e40ac\", element=\"a263be07-a206-42ad-991b-329a5a75a6d6\")>,\n",
       " <selenium.webdriver.remote.webelement.WebElement (session=\"72858e0b7b3a910106a4719cd90e40ac\", element=\"57db69e9-2eec-4f38-bad3-cd53e12decdc\")>,\n",
       " <selenium.webdriver.remote.webelement.WebElement (session=\"72858e0b7b3a910106a4719cd90e40ac\", element=\"31cbcc45-8bb2-42e1-a209-0bf5ec3af3fc\")>,\n",
       " <selenium.webdriver.remote.webelement.WebElement (session=\"72858e0b7b3a910106a4719cd90e40ac\", element=\"c30e9da1-cbf8-4895-a19c-679350cfaf84\")>,\n",
       " <selenium.webdriver.remote.webelement.WebElement (session=\"72858e0b7b3a910106a4719cd90e40ac\", element=\"3b68b1ca-d748-413a-8a1b-c8984e4edac3\")>,\n",
       " <selenium.webdriver.remote.webelement.WebElement (session=\"72858e0b7b3a910106a4719cd90e40ac\", element=\"8fd3c470-0030-4d2c-a80f-3580b554c397\")>,\n",
       " <selenium.webdriver.remote.webelement.WebElement (session=\"72858e0b7b3a910106a4719cd90e40ac\", element=\"a0192e74-b6b5-437e-b953-5396cab5999b\")>,\n",
       " <selenium.webdriver.remote.webelement.WebElement (session=\"72858e0b7b3a910106a4719cd90e40ac\", element=\"ac8fa838-30a0-47d1-996e-aaf17f27f272\")>,\n",
       " <selenium.webdriver.remote.webelement.WebElement (session=\"72858e0b7b3a910106a4719cd90e40ac\", element=\"94097e9a-35ef-45fb-9266-ed8cdafe0fb3\")>,\n",
       " <selenium.webdriver.remote.webelement.WebElement (session=\"72858e0b7b3a910106a4719cd90e40ac\", element=\"c58426cb-2407-42c3-a43f-6e01eb7268b2\")>,\n",
       " <selenium.webdriver.remote.webelement.WebElement (session=\"72858e0b7b3a910106a4719cd90e40ac\", element=\"69601065-d8f5-40cb-8e85-314293419c53\")>,\n",
       " <selenium.webdriver.remote.webelement.WebElement (session=\"72858e0b7b3a910106a4719cd90e40ac\", element=\"2de19e78-4a91-473a-b186-7ef670a95ec2\")>,\n",
       " <selenium.webdriver.remote.webelement.WebElement (session=\"72858e0b7b3a910106a4719cd90e40ac\", element=\"da116dda-3122-4f26-8521-c8ac8ed83e70\")>,\n",
       " <selenium.webdriver.remote.webelement.WebElement (session=\"72858e0b7b3a910106a4719cd90e40ac\", element=\"81aafbd2-e26b-42fa-8068-c1e51ba03202\")>,\n",
       " <selenium.webdriver.remote.webelement.WebElement (session=\"72858e0b7b3a910106a4719cd90e40ac\", element=\"e212c9c6-d177-4af7-879f-04b04d9302ad\")>,\n",
       " <selenium.webdriver.remote.webelement.WebElement (session=\"72858e0b7b3a910106a4719cd90e40ac\", element=\"305fa5f7-79a6-44b0-8f7c-46ca005063d0\")>,\n",
       " <selenium.webdriver.remote.webelement.WebElement (session=\"72858e0b7b3a910106a4719cd90e40ac\", element=\"59308a21-bb04-4a8a-b2a9-01a8992b9b33\")>,\n",
       " <selenium.webdriver.remote.webelement.WebElement (session=\"72858e0b7b3a910106a4719cd90e40ac\", element=\"872da833-e247-4f05-a8d6-b294e2a4be45\")>,\n",
       " <selenium.webdriver.remote.webelement.WebElement (session=\"72858e0b7b3a910106a4719cd90e40ac\", element=\"670335bb-ecd7-43f3-a0db-4bead4066116\")>,\n",
       " <selenium.webdriver.remote.webelement.WebElement (session=\"72858e0b7b3a910106a4719cd90e40ac\", element=\"9b863704-005f-4ba2-bd9a-b306fc09fc8d\")>,\n",
       " <selenium.webdriver.remote.webelement.WebElement (session=\"72858e0b7b3a910106a4719cd90e40ac\", element=\"ec72367a-f4a3-40e2-8191-dcd6847595e2\")>,\n",
       " <selenium.webdriver.remote.webelement.WebElement (session=\"72858e0b7b3a910106a4719cd90e40ac\", element=\"274763ca-0f1c-48b0-b34c-028af671de8b\")>,\n",
       " <selenium.webdriver.remote.webelement.WebElement (session=\"72858e0b7b3a910106a4719cd90e40ac\", element=\"9d808f86-f92e-4b12-a6f6-c471d7150f20\")>,\n",
       " <selenium.webdriver.remote.webelement.WebElement (session=\"72858e0b7b3a910106a4719cd90e40ac\", element=\"0fda3e72-2274-4c2d-9c31-3da6214f1f12\")>,\n",
       " <selenium.webdriver.remote.webelement.WebElement (session=\"72858e0b7b3a910106a4719cd90e40ac\", element=\"83280716-f9d2-40ff-9e64-9ef758c8782d\")>,\n",
       " <selenium.webdriver.remote.webelement.WebElement (session=\"72858e0b7b3a910106a4719cd90e40ac\", element=\"f2085a80-f2bb-4d7b-967b-1e829d483d8e\")>,\n",
       " <selenium.webdriver.remote.webelement.WebElement (session=\"72858e0b7b3a910106a4719cd90e40ac\", element=\"ad24b23c-9370-4c92-ae34-128879cc1a4e\")>,\n",
       " <selenium.webdriver.remote.webelement.WebElement (session=\"72858e0b7b3a910106a4719cd90e40ac\", element=\"e03137fc-5357-4e83-a575-af0f44ec325f\")>,\n",
       " <selenium.webdriver.remote.webelement.WebElement (session=\"72858e0b7b3a910106a4719cd90e40ac\", element=\"d6b4827a-33e2-4540-ad9f-9ff8ef42caaf\")>,\n",
       " <selenium.webdriver.remote.webelement.WebElement (session=\"72858e0b7b3a910106a4719cd90e40ac\", element=\"2aa49898-3076-4844-85e8-6f43e6aceb22\")>,\n",
       " <selenium.webdriver.remote.webelement.WebElement (session=\"72858e0b7b3a910106a4719cd90e40ac\", element=\"29880528-eb11-4702-a32c-d50ceda26264\")>,\n",
       " <selenium.webdriver.remote.webelement.WebElement (session=\"72858e0b7b3a910106a4719cd90e40ac\", element=\"1f362a11-e12d-4cab-8c71-edb61fa87ab5\")>,\n",
       " <selenium.webdriver.remote.webelement.WebElement (session=\"72858e0b7b3a910106a4719cd90e40ac\", element=\"6c4093e0-9b53-4720-9f54-d589ec8b4e0b\")>,\n",
       " <selenium.webdriver.remote.webelement.WebElement (session=\"72858e0b7b3a910106a4719cd90e40ac\", element=\"1fa1f29e-e0a7-4ec9-ab2c-3fedfc395923\")>,\n",
       " <selenium.webdriver.remote.webelement.WebElement (session=\"72858e0b7b3a910106a4719cd90e40ac\", element=\"ecc19088-42ff-4053-a388-d33f42bd0f6e\")>,\n",
       " <selenium.webdriver.remote.webelement.WebElement (session=\"72858e0b7b3a910106a4719cd90e40ac\", element=\"8e564272-a95a-4df3-a527-38242c88589a\")>,\n",
       " <selenium.webdriver.remote.webelement.WebElement (session=\"72858e0b7b3a910106a4719cd90e40ac\", element=\"b5d9bf61-d590-4e9e-9e23-10ca4e525a4d\")>,\n",
       " <selenium.webdriver.remote.webelement.WebElement (session=\"72858e0b7b3a910106a4719cd90e40ac\", element=\"70f272f5-ec65-4bf6-ad17-2c0f06abd821\")>,\n",
       " <selenium.webdriver.remote.webelement.WebElement (session=\"72858e0b7b3a910106a4719cd90e40ac\", element=\"381c3470-aaa4-4334-aa1a-e9ad6de7cb6d\")>,\n",
       " <selenium.webdriver.remote.webelement.WebElement (session=\"72858e0b7b3a910106a4719cd90e40ac\", element=\"4f2966a3-41d4-4ac2-84b4-6ff7454d92ef\")>,\n",
       " <selenium.webdriver.remote.webelement.WebElement (session=\"72858e0b7b3a910106a4719cd90e40ac\", element=\"cb571dc9-2ab1-4109-808f-7c7bae911c44\")>,\n",
       " <selenium.webdriver.remote.webelement.WebElement (session=\"72858e0b7b3a910106a4719cd90e40ac\", element=\"646f317c-cf61-4dd8-aad5-83272254085e\")>,\n",
       " <selenium.webdriver.remote.webelement.WebElement (session=\"72858e0b7b3a910106a4719cd90e40ac\", element=\"94da7728-5e0a-4b3e-9d39-58066b472c12\")>,\n",
       " <selenium.webdriver.remote.webelement.WebElement (session=\"72858e0b7b3a910106a4719cd90e40ac\", element=\"d5c8a073-b24d-42ae-9d72-ae6f8fc9a1bd\")>,\n",
       " <selenium.webdriver.remote.webelement.WebElement (session=\"72858e0b7b3a910106a4719cd90e40ac\", element=\"25e4a93e-0ff2-4b30-a44a-62dec26a303a\")>,\n",
       " <selenium.webdriver.remote.webelement.WebElement (session=\"72858e0b7b3a910106a4719cd90e40ac\", element=\"10ab2e1e-c13f-46a5-af86-b65649441574\")>,\n",
       " <selenium.webdriver.remote.webelement.WebElement (session=\"72858e0b7b3a910106a4719cd90e40ac\", element=\"16000703-71ed-4d14-a36e-c3f53b60a2ea\")>,\n",
       " <selenium.webdriver.remote.webelement.WebElement (session=\"72858e0b7b3a910106a4719cd90e40ac\", element=\"e6f0b5c4-0f65-4952-af68-53b44fdd3751\")>,\n",
       " <selenium.webdriver.remote.webelement.WebElement (session=\"72858e0b7b3a910106a4719cd90e40ac\", element=\"26f594a3-9513-4bfa-993b-24a0f4fea6fb\")>,\n",
       " <selenium.webdriver.remote.webelement.WebElement (session=\"72858e0b7b3a910106a4719cd90e40ac\", element=\"b9bc7acd-1ab8-4332-a833-88f6299bc7f5\")>,\n",
       " <selenium.webdriver.remote.webelement.WebElement (session=\"72858e0b7b3a910106a4719cd90e40ac\", element=\"248ff1ca-2656-4e43-b6c8-075e4d966c61\")>,\n",
       " <selenium.webdriver.remote.webelement.WebElement (session=\"72858e0b7b3a910106a4719cd90e40ac\", element=\"5bb9ffdb-20e7-4249-96d9-9b550cd5af3c\")>,\n",
       " <selenium.webdriver.remote.webelement.WebElement (session=\"72858e0b7b3a910106a4719cd90e40ac\", element=\"06331980-b2f6-424f-b9c4-459c376c16fb\")>,\n",
       " <selenium.webdriver.remote.webelement.WebElement (session=\"72858e0b7b3a910106a4719cd90e40ac\", element=\"fcccc040-235d-4e61-afa9-1b7557bfd423\")>,\n",
       " <selenium.webdriver.remote.webelement.WebElement (session=\"72858e0b7b3a910106a4719cd90e40ac\", element=\"0c5ac504-f868-4ec6-8198-632e77f7ab6a\")>,\n",
       " <selenium.webdriver.remote.webelement.WebElement (session=\"72858e0b7b3a910106a4719cd90e40ac\", element=\"ee3d6815-12ac-40e9-a4d3-340bde4d0a96\")>,\n",
       " <selenium.webdriver.remote.webelement.WebElement (session=\"72858e0b7b3a910106a4719cd90e40ac\", element=\"8ad8c4ba-5650-4562-8ee5-59fba1b94874\")>,\n",
       " <selenium.webdriver.remote.webelement.WebElement (session=\"72858e0b7b3a910106a4719cd90e40ac\", element=\"2f1c4490-61b9-40a9-a367-3da0e4369edc\")>,\n",
       " <selenium.webdriver.remote.webelement.WebElement (session=\"72858e0b7b3a910106a4719cd90e40ac\", element=\"d4024639-8fad-473b-9001-21f78f847d85\")>,\n",
       " <selenium.webdriver.remote.webelement.WebElement (session=\"72858e0b7b3a910106a4719cd90e40ac\", element=\"a666b755-49e1-45a6-ba2c-188234a4cf7e\")>,\n",
       " <selenium.webdriver.remote.webelement.WebElement (session=\"72858e0b7b3a910106a4719cd90e40ac\", element=\"7aa2a74c-8e33-43f6-afae-e2f0a48127fd\")>,\n",
       " <selenium.webdriver.remote.webelement.WebElement (session=\"72858e0b7b3a910106a4719cd90e40ac\", element=\"0861be29-a8fd-469e-8b1b-737e04eca082\")>,\n",
       " <selenium.webdriver.remote.webelement.WebElement (session=\"72858e0b7b3a910106a4719cd90e40ac\", element=\"75cdc520-9e53-4d2f-8aa8-b6e38a6b52ef\")>,\n",
       " <selenium.webdriver.remote.webelement.WebElement (session=\"72858e0b7b3a910106a4719cd90e40ac\", element=\"74aa300c-4ac1-4ab6-892e-4e679cb9d322\")>,\n",
       " <selenium.webdriver.remote.webelement.WebElement (session=\"72858e0b7b3a910106a4719cd90e40ac\", element=\"ceeda685-296f-4c66-b496-676f02133381\")>,\n",
       " <selenium.webdriver.remote.webelement.WebElement (session=\"72858e0b7b3a910106a4719cd90e40ac\", element=\"d0b4c482-8423-4fd3-8f94-c08cdd23c2cf\")>,\n",
       " <selenium.webdriver.remote.webelement.WebElement (session=\"72858e0b7b3a910106a4719cd90e40ac\", element=\"fdaab8c2-f1b3-49b0-9132-3d434daba41a\")>,\n",
       " <selenium.webdriver.remote.webelement.WebElement (session=\"72858e0b7b3a910106a4719cd90e40ac\", element=\"1514e770-017c-4be8-8e26-dc6f54a8d4ac\")>,\n",
       " <selenium.webdriver.remote.webelement.WebElement (session=\"72858e0b7b3a910106a4719cd90e40ac\", element=\"613464fc-0e31-48bd-968c-6dd3857a5f03\")>,\n",
       " <selenium.webdriver.remote.webelement.WebElement (session=\"72858e0b7b3a910106a4719cd90e40ac\", element=\"52d3743a-c9a5-4d63-82fb-62344ecd5055\")>,\n",
       " <selenium.webdriver.remote.webelement.WebElement (session=\"72858e0b7b3a910106a4719cd90e40ac\", element=\"7c1bb0bf-2700-49ac-8421-7a2bce53d088\")>,\n",
       " <selenium.webdriver.remote.webelement.WebElement (session=\"72858e0b7b3a910106a4719cd90e40ac\", element=\"6041917b-065b-4fc4-99a9-f84200c4e36c\")>,\n",
       " <selenium.webdriver.remote.webelement.WebElement (session=\"72858e0b7b3a910106a4719cd90e40ac\", element=\"30e11173-31da-4c53-8a42-3b7ef35b1e3f\")>,\n",
       " <selenium.webdriver.remote.webelement.WebElement (session=\"72858e0b7b3a910106a4719cd90e40ac\", element=\"2aa3c5f5-d27d-420d-ba84-8f546dcd9ed3\")>,\n",
       " <selenium.webdriver.remote.webelement.WebElement (session=\"72858e0b7b3a910106a4719cd90e40ac\", element=\"4d3c49be-cb0f-4dd4-b1ca-410a617d0e85\")>,\n",
       " <selenium.webdriver.remote.webelement.WebElement (session=\"72858e0b7b3a910106a4719cd90e40ac\", element=\"466730c9-f266-40ad-9fd2-0bcee6ec28c5\")>,\n",
       " <selenium.webdriver.remote.webelement.WebElement (session=\"72858e0b7b3a910106a4719cd90e40ac\", element=\"6a81cf1f-0862-4a3b-9208-5d26bf03794c\")>]"
      ]
     },
     "execution_count": 14,
     "metadata": {},
     "output_type": "execute_result"
    }
   ],
   "source": [
    "header2=browser.find_elements(\"xpath\",\"//div[@class='td-wrap-in']\")\n",
    "header2"
   ]
  },
  {
   "cell_type": "code",
   "execution_count": 15,
   "id": "3fa34ac2",
   "metadata": {},
   "outputs": [
    {
     "data": {
      "text/plain": [
       "['77.4', '82.7', '90.2', '97.1', '57.7', '38.4', '40.9', '73.9', '57.8']"
      ]
     },
     "execution_count": 15,
     "metadata": {},
     "output_type": "execute_result"
    }
   ],
   "source": [
    "#PARSING DATA\n",
    "value_head=[]\n",
    "for data in header2:\n",
    "    #get the text data\n",
    "    temp=data.text\n",
    "    value_head.append(temp)\n",
    "value=value_head[51:60]\n",
    "value"
   ]
  },
  {
   "cell_type": "code",
   "execution_count": 16,
   "id": "adf968b8",
   "metadata": {},
   "outputs": [
    {
     "data": {
      "text/plain": [
       "{'Name': 'Shanghai Jiao Tong University',\n",
       " 'Location': 'Shanghai, China (Mainland)',\n",
       " 'Rank': '46',\n",
       " 'Overall Score': '77.4',\n",
       " 'Academic Reputation': '82.7',\n",
       " 'Employer Reputation': '90.2',\n",
       " 'Citations per Faculty': '97.1',\n",
       " 'Faculty Student Ratio': '57.7',\n",
       " 'International Students Ratio': '38.4',\n",
       " 'International Faculty Ratio': '40.9',\n",
       " 'International Research Network\\nUnweighted': '73.9',\n",
       " 'Employment Outcomes\\nUnweighted': '57.8'}"
      ]
     },
     "execution_count": 16,
     "metadata": {},
     "output_type": "execute_result"
    }
   ],
   "source": [
    "d={}\n",
    "d['Name']=value_head[50]\n",
    "d['Location']=loc[5]\n",
    "d['Rank']=RANK[5]\n",
    "\n",
    "for i in range(len(column_head)):\n",
    "    d[column_head[i]]=value[i]\n",
    "d"
   ]
  },
  {
   "cell_type": "code",
   "execution_count": 17,
   "id": "12b2dcfa",
   "metadata": {},
   "outputs": [
    {
     "data": {
      "text/plain": [
       "'{\"Name\": \"Shanghai Jiao Tong University\", \"Location\": \"Shanghai, China (Mainland)\", \"Rank\": \"46\", \"Overall Score\": \"77.4\", \"Academic Reputation\": \"82.7\", \"Employer Reputation\": \"90.2\", \"Citations per Faculty\": \"97.1\", \"Faculty Student Ratio\": \"57.7\", \"International Students Ratio\": \"38.4\", \"International Faculty Ratio\": \"40.9\", \"International Research Network\\\\nUnweighted\": \"73.9\", \"Employment Outcomes\\\\nUnweighted\": \"57.8\"}'"
      ]
     },
     "execution_count": 17,
     "metadata": {},
     "output_type": "execute_result"
    }
   ],
   "source": [
    "s1=json.dumps(d)\n",
    "s1"
   ]
  },
  {
   "cell_type": "code",
   "execution_count": 18,
   "id": "68f76416",
   "metadata": {},
   "outputs": [],
   "source": [
    "with open('Shanghai Jiao Tong University.json','w') as f:\n",
    "    json.dump(d,f)"
   ]
  },
  {
   "cell_type": "code",
   "execution_count": null,
   "id": "677cb541",
   "metadata": {},
   "outputs": [],
   "source": []
  },
  {
   "cell_type": "code",
   "execution_count": null,
   "id": "e3551b55",
   "metadata": {},
   "outputs": [],
   "source": []
  },
  {
   "cell_type": "code",
   "execution_count": null,
   "id": "15f1a803",
   "metadata": {},
   "outputs": [],
   "source": []
  }
 ],
 "metadata": {
  "kernelspec": {
   "display_name": "Python 3 (ipykernel)",
   "language": "python",
   "name": "python3"
  },
  "language_info": {
   "codemirror_mode": {
    "name": "ipython",
    "version": 3
   },
   "file_extension": ".py",
   "mimetype": "text/x-python",
   "name": "python",
   "nbconvert_exporter": "python",
   "pygments_lexer": "ipython3",
   "version": "3.9.12"
  }
 },
 "nbformat": 4,
 "nbformat_minor": 5
}
