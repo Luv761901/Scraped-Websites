{
 "cells": [
  {
   "cell_type": "code",
   "execution_count": 1,
   "id": "c9dff6d3",
   "metadata": {},
   "outputs": [],
   "source": [
    "from selenium import webdriver\n",
    "from selenium.webdriver.chrome.service import Service\n",
    "import pandas as pd\n",
    "import json"
   ]
  },
  {
   "cell_type": "code",
   "execution_count": 2,
   "id": "71c98c29",
   "metadata": {},
   "outputs": [],
   "source": [
    "path = Service('C:\\chromedriver.exe')\n"
   ]
  },
  {
   "cell_type": "code",
   "execution_count": 3,
   "id": "4bb50658",
   "metadata": {},
   "outputs": [],
   "source": [
    "# set path for the driver\n",
    "browser = webdriver.Chrome(service = path)"
   ]
  },
  {
   "cell_type": "code",
   "execution_count": 4,
   "id": "19fff3ed",
   "metadata": {},
   "outputs": [],
   "source": [
    "url = \"https://www.topuniversities.com/university-rankings/world-university-rankings/2023\""
   ]
  },
  {
   "cell_type": "code",
   "execution_count": 5,
   "id": "e91b9f43",
   "metadata": {},
   "outputs": [],
   "source": [
    "# open the page url ion chrome\n",
    "browser.get(url)"
   ]
  },
  {
   "cell_type": "code",
   "execution_count": 6,
   "id": "5f5ef45c",
   "metadata": {},
   "outputs": [
    {
     "data": {
      "text/plain": [
       "[<selenium.webdriver.remote.webelement.WebElement (session=\"604a64fbe327e3cabcc044fd59cb910e\", element=\"3a11d320-24de-4247-9de1-8f0fd56e3d16\")>,\n",
       " <selenium.webdriver.remote.webelement.WebElement (session=\"604a64fbe327e3cabcc044fd59cb910e\", element=\"a392f575-7acd-4566-8678-e2f458100519\")>,\n",
       " <selenium.webdriver.remote.webelement.WebElement (session=\"604a64fbe327e3cabcc044fd59cb910e\", element=\"86014eca-6e28-4970-a2d6-a3364f096eb7\")>,\n",
       " <selenium.webdriver.remote.webelement.WebElement (session=\"604a64fbe327e3cabcc044fd59cb910e\", element=\"24c684e9-9274-49aa-bfb8-a34527d8ab4d\")>,\n",
       " <selenium.webdriver.remote.webelement.WebElement (session=\"604a64fbe327e3cabcc044fd59cb910e\", element=\"5e5ee890-84fb-49eb-bc8e-79dc6066f4ac\")>,\n",
       " <selenium.webdriver.remote.webelement.WebElement (session=\"604a64fbe327e3cabcc044fd59cb910e\", element=\"00fc11cf-0c82-4883-a9d2-7567ed01cffe\")>,\n",
       " <selenium.webdriver.remote.webelement.WebElement (session=\"604a64fbe327e3cabcc044fd59cb910e\", element=\"576e5448-f3a5-4e07-9639-e054291dec3f\")>,\n",
       " <selenium.webdriver.remote.webelement.WebElement (session=\"604a64fbe327e3cabcc044fd59cb910e\", element=\"391904e3-f2ef-4b9b-9d22-3492de81cc66\")>,\n",
       " <selenium.webdriver.remote.webelement.WebElement (session=\"604a64fbe327e3cabcc044fd59cb910e\", element=\"a5cb40e4-e653-4384-b55e-f685b721bb07\")>]"
      ]
     },
     "execution_count": 6,
     "metadata": {},
     "output_type": "execute_result"
    }
   ],
   "source": [
    "# GET EACH COLLEGE SPECIFICATION HEADERS\n",
    "header=browser.find_elements(\"xpath\",\"//div[@class='_click-function_ind']\")\n",
    "header\n"
   ]
  },
  {
   "cell_type": "code",
   "execution_count": 7,
   "id": "54976cdd",
   "metadata": {},
   "outputs": [
    {
     "data": {
      "text/plain": [
       "['Overall Score',\n",
       " 'Academic Reputation',\n",
       " 'Employer Reputation',\n",
       " 'Citations per Faculty',\n",
       " 'Faculty Student Ratio',\n",
       " 'International Students Ratio',\n",
       " 'International Faculty Ratio',\n",
       " 'International Research Network\\nUnweighted',\n",
       " 'Employment Outcomes\\nUnweighted']"
      ]
     },
     "execution_count": 7,
     "metadata": {},
     "output_type": "execute_result"
    }
   ],
   "source": [
    "\n",
    "#PARSING DATA\n",
    "column_head=[]\n",
    "for data in header:\n",
    "    #get the text data\n",
    "    temp=data.text\n",
    "    column_head.append(temp)\n",
    "column_head"
   ]
  },
  {
   "cell_type": "code",
   "execution_count": 8,
   "id": "93548afc",
   "metadata": {},
   "outputs": [
    {
     "data": {
      "text/plain": [
       "[<selenium.webdriver.remote.webelement.WebElement (session=\"604a64fbe327e3cabcc044fd59cb910e\", element=\"fbd7202b-a5c8-471a-abea-32f1755023de\")>,\n",
       " <selenium.webdriver.remote.webelement.WebElement (session=\"604a64fbe327e3cabcc044fd59cb910e\", element=\"3be73769-5072-4ce5-8de8-553f0672bb6f\")>,\n",
       " <selenium.webdriver.remote.webelement.WebElement (session=\"604a64fbe327e3cabcc044fd59cb910e\", element=\"1b224cfd-afe7-4053-ad3b-c535cbca2d52\")>,\n",
       " <selenium.webdriver.remote.webelement.WebElement (session=\"604a64fbe327e3cabcc044fd59cb910e\", element=\"8dc62500-04dc-4426-80a8-5baf176ca689\")>,\n",
       " <selenium.webdriver.remote.webelement.WebElement (session=\"604a64fbe327e3cabcc044fd59cb910e\", element=\"c04b04e6-52cf-402e-85b8-e940c52d86d3\")>,\n",
       " <selenium.webdriver.remote.webelement.WebElement (session=\"604a64fbe327e3cabcc044fd59cb910e\", element=\"1288dee3-3376-47e2-8d5c-dacd298e2a7e\")>,\n",
       " <selenium.webdriver.remote.webelement.WebElement (session=\"604a64fbe327e3cabcc044fd59cb910e\", element=\"65084ee5-e9aa-45cc-9114-24c78e06aca4\")>,\n",
       " <selenium.webdriver.remote.webelement.WebElement (session=\"604a64fbe327e3cabcc044fd59cb910e\", element=\"e5ff608f-dae7-4496-9be1-c61ab93ce0c8\")>,\n",
       " <selenium.webdriver.remote.webelement.WebElement (session=\"604a64fbe327e3cabcc044fd59cb910e\", element=\"bba32ec9-21c0-42f5-ada3-d7c523d1fead\")>,\n",
       " <selenium.webdriver.remote.webelement.WebElement (session=\"604a64fbe327e3cabcc044fd59cb910e\", element=\"5ce6567b-c4c7-43c9-b2f1-4f0fdebc6bf5\")>,\n",
       " <selenium.webdriver.remote.webelement.WebElement (session=\"604a64fbe327e3cabcc044fd59cb910e\", element=\"b7b080e5-5397-44a9-b741-4eaeae7ee66d\")>,\n",
       " <selenium.webdriver.remote.webelement.WebElement (session=\"604a64fbe327e3cabcc044fd59cb910e\", element=\"f8689dcf-9085-4455-8f4e-ab92a394732e\")>,\n",
       " <selenium.webdriver.remote.webelement.WebElement (session=\"604a64fbe327e3cabcc044fd59cb910e\", element=\"66a449ce-6592-4a16-92a9-a546bb01958c\")>,\n",
       " <selenium.webdriver.remote.webelement.WebElement (session=\"604a64fbe327e3cabcc044fd59cb910e\", element=\"ecfb608f-ec00-4a70-be27-e11410774472\")>,\n",
       " <selenium.webdriver.remote.webelement.WebElement (session=\"604a64fbe327e3cabcc044fd59cb910e\", element=\"14e99b94-9cff-4e61-af2c-b92f23e61f4b\")>,\n",
       " <selenium.webdriver.remote.webelement.WebElement (session=\"604a64fbe327e3cabcc044fd59cb910e\", element=\"c90e95be-9868-40e5-b1a1-00c861b191f8\")>,\n",
       " <selenium.webdriver.remote.webelement.WebElement (session=\"604a64fbe327e3cabcc044fd59cb910e\", element=\"99076874-6add-48b6-b1be-c58bde89d242\")>,\n",
       " <selenium.webdriver.remote.webelement.WebElement (session=\"604a64fbe327e3cabcc044fd59cb910e\", element=\"4b8f5860-c80c-40e3-9716-bb3d187d4f09\")>,\n",
       " <selenium.webdriver.remote.webelement.WebElement (session=\"604a64fbe327e3cabcc044fd59cb910e\", element=\"4fb1c447-d5f2-4458-9ccb-6857b0dbad20\")>,\n",
       " <selenium.webdriver.remote.webelement.WebElement (session=\"604a64fbe327e3cabcc044fd59cb910e\", element=\"f898a840-655e-42b2-889a-e2e6b0812030\")>,\n",
       " <selenium.webdriver.remote.webelement.WebElement (session=\"604a64fbe327e3cabcc044fd59cb910e\", element=\"d63a3c60-9f29-4c32-acb8-72441b1c7d1b\")>,\n",
       " <selenium.webdriver.remote.webelement.WebElement (session=\"604a64fbe327e3cabcc044fd59cb910e\", element=\"08837b62-c581-4278-8839-03d4dd1104e1\")>,\n",
       " <selenium.webdriver.remote.webelement.WebElement (session=\"604a64fbe327e3cabcc044fd59cb910e\", element=\"40bea090-134f-40f4-90a6-f28365ed3f4d\")>,\n",
       " <selenium.webdriver.remote.webelement.WebElement (session=\"604a64fbe327e3cabcc044fd59cb910e\", element=\"e2cb18e0-bbf2-4f0f-9cc4-692e99fd9888\")>,\n",
       " <selenium.webdriver.remote.webelement.WebElement (session=\"604a64fbe327e3cabcc044fd59cb910e\", element=\"0c6ddd83-ad79-4c38-ad4b-fcd8ae723baf\")>,\n",
       " <selenium.webdriver.remote.webelement.WebElement (session=\"604a64fbe327e3cabcc044fd59cb910e\", element=\"f40ad541-f5b1-4dd8-85b7-3906943d2617\")>,\n",
       " <selenium.webdriver.remote.webelement.WebElement (session=\"604a64fbe327e3cabcc044fd59cb910e\", element=\"724cc477-4dab-4b6f-8ace-e9fe5d6224c2\")>,\n",
       " <selenium.webdriver.remote.webelement.WebElement (session=\"604a64fbe327e3cabcc044fd59cb910e\", element=\"4921ebcb-f6cf-488e-88e2-8ceccdb1964c\")>,\n",
       " <selenium.webdriver.remote.webelement.WebElement (session=\"604a64fbe327e3cabcc044fd59cb910e\", element=\"fdee9cad-904a-43eb-bdad-93da90f90c77\")>,\n",
       " <selenium.webdriver.remote.webelement.WebElement (session=\"604a64fbe327e3cabcc044fd59cb910e\", element=\"e4151cb6-fcae-41c3-ad8c-5fdba6efd79f\")>,\n",
       " <selenium.webdriver.remote.webelement.WebElement (session=\"604a64fbe327e3cabcc044fd59cb910e\", element=\"6699a58c-b88d-4096-8249-30e15e3dbe10\")>,\n",
       " <selenium.webdriver.remote.webelement.WebElement (session=\"604a64fbe327e3cabcc044fd59cb910e\", element=\"2cb754ec-e6ae-4800-b1ad-a4969ad82a3f\")>,\n",
       " <selenium.webdriver.remote.webelement.WebElement (session=\"604a64fbe327e3cabcc044fd59cb910e\", element=\"3a515c73-b2f7-4a61-8d66-acc7d3c0d4e9\")>,\n",
       " <selenium.webdriver.remote.webelement.WebElement (session=\"604a64fbe327e3cabcc044fd59cb910e\", element=\"ab2a0f28-a774-496b-80d2-ad23c47e3a5b\")>,\n",
       " <selenium.webdriver.remote.webelement.WebElement (session=\"604a64fbe327e3cabcc044fd59cb910e\", element=\"a489b802-df81-48c5-953e-d830c5acd12a\")>,\n",
       " <selenium.webdriver.remote.webelement.WebElement (session=\"604a64fbe327e3cabcc044fd59cb910e\", element=\"aa55d18e-e716-4c76-8763-63fb344c06ee\")>,\n",
       " <selenium.webdriver.remote.webelement.WebElement (session=\"604a64fbe327e3cabcc044fd59cb910e\", element=\"c6c9b85f-30fd-4f0c-a625-70cbe0382bb9\")>,\n",
       " <selenium.webdriver.remote.webelement.WebElement (session=\"604a64fbe327e3cabcc044fd59cb910e\", element=\"ee51b4bf-b275-446e-b999-554abfb50c74\")>,\n",
       " <selenium.webdriver.remote.webelement.WebElement (session=\"604a64fbe327e3cabcc044fd59cb910e\", element=\"16f16cf0-b8ae-4f37-bb1a-ccbc6bdc9467\")>,\n",
       " <selenium.webdriver.remote.webelement.WebElement (session=\"604a64fbe327e3cabcc044fd59cb910e\", element=\"cdfad878-a339-423b-a35b-b61f36e1c2f1\")>,\n",
       " <selenium.webdriver.remote.webelement.WebElement (session=\"604a64fbe327e3cabcc044fd59cb910e\", element=\"3c91dffa-4a4a-49da-978d-46e9dcec29b2\")>,\n",
       " <selenium.webdriver.remote.webelement.WebElement (session=\"604a64fbe327e3cabcc044fd59cb910e\", element=\"9e40e364-9cc9-4d62-a7cd-d328ad655ce8\")>,\n",
       " <selenium.webdriver.remote.webelement.WebElement (session=\"604a64fbe327e3cabcc044fd59cb910e\", element=\"aac4a97e-212a-42e0-9366-bdd680d16d63\")>,\n",
       " <selenium.webdriver.remote.webelement.WebElement (session=\"604a64fbe327e3cabcc044fd59cb910e\", element=\"a3196d3a-66aa-4855-a305-c5f4283b6868\")>,\n",
       " <selenium.webdriver.remote.webelement.WebElement (session=\"604a64fbe327e3cabcc044fd59cb910e\", element=\"f36d8f08-d2e3-4a6b-bab5-ae23fe031a5f\")>,\n",
       " <selenium.webdriver.remote.webelement.WebElement (session=\"604a64fbe327e3cabcc044fd59cb910e\", element=\"add333a4-4a29-410c-864a-135e02dccdce\")>,\n",
       " <selenium.webdriver.remote.webelement.WebElement (session=\"604a64fbe327e3cabcc044fd59cb910e\", element=\"974e8c6a-fe53-43b4-a362-05cfce6f6245\")>,\n",
       " <selenium.webdriver.remote.webelement.WebElement (session=\"604a64fbe327e3cabcc044fd59cb910e\", element=\"20352d63-56d2-482a-a984-6d6d15584665\")>,\n",
       " <selenium.webdriver.remote.webelement.WebElement (session=\"604a64fbe327e3cabcc044fd59cb910e\", element=\"20f2afea-49b5-446a-a0ef-a858309cc2bb\")>,\n",
       " <selenium.webdriver.remote.webelement.WebElement (session=\"604a64fbe327e3cabcc044fd59cb910e\", element=\"b2028351-a961-41ee-9dc7-708e35a7cbfb\")>,\n",
       " <selenium.webdriver.remote.webelement.WebElement (session=\"604a64fbe327e3cabcc044fd59cb910e\", element=\"cf34de23-3559-41f1-a55e-01916bd7c2b1\")>,\n",
       " <selenium.webdriver.remote.webelement.WebElement (session=\"604a64fbe327e3cabcc044fd59cb910e\", element=\"e38d32ea-16b8-443c-93e8-b877342c1170\")>,\n",
       " <selenium.webdriver.remote.webelement.WebElement (session=\"604a64fbe327e3cabcc044fd59cb910e\", element=\"4461e77e-e564-4686-807d-d4d63f9691f5\")>,\n",
       " <selenium.webdriver.remote.webelement.WebElement (session=\"604a64fbe327e3cabcc044fd59cb910e\", element=\"ba5dde44-db0f-404c-bb00-88cdcfb02e3a\")>,\n",
       " <selenium.webdriver.remote.webelement.WebElement (session=\"604a64fbe327e3cabcc044fd59cb910e\", element=\"718ad48a-c29d-47b5-87c4-019ebfd9ad9a\")>,\n",
       " <selenium.webdriver.remote.webelement.WebElement (session=\"604a64fbe327e3cabcc044fd59cb910e\", element=\"b9176543-e85d-4d51-bbae-79c6ce9d1fe1\")>,\n",
       " <selenium.webdriver.remote.webelement.WebElement (session=\"604a64fbe327e3cabcc044fd59cb910e\", element=\"69bcd0ec-cbeb-40f2-8301-03d73f738d87\")>,\n",
       " <selenium.webdriver.remote.webelement.WebElement (session=\"604a64fbe327e3cabcc044fd59cb910e\", element=\"b4b409e3-a793-47ab-8122-40782cc83836\")>,\n",
       " <selenium.webdriver.remote.webelement.WebElement (session=\"604a64fbe327e3cabcc044fd59cb910e\", element=\"a8a4cde0-da80-435a-8ede-4c0dae7a4568\")>,\n",
       " <selenium.webdriver.remote.webelement.WebElement (session=\"604a64fbe327e3cabcc044fd59cb910e\", element=\"fbe3649f-cb4d-45a1-a6b8-f49dc01f7e6d\")>,\n",
       " <selenium.webdriver.remote.webelement.WebElement (session=\"604a64fbe327e3cabcc044fd59cb910e\", element=\"2f854326-abf3-4ccd-9a78-89ed28ef3ed5\")>,\n",
       " <selenium.webdriver.remote.webelement.WebElement (session=\"604a64fbe327e3cabcc044fd59cb910e\", element=\"f07fd9c0-e2e0-4839-8b97-50d1dfad61cc\")>,\n",
       " <selenium.webdriver.remote.webelement.WebElement (session=\"604a64fbe327e3cabcc044fd59cb910e\", element=\"9f8eb31d-174a-488d-a911-5f0a4dbc00db\")>,\n",
       " <selenium.webdriver.remote.webelement.WebElement (session=\"604a64fbe327e3cabcc044fd59cb910e\", element=\"115421fc-af16-4bc3-abf7-e0f771271a4c\")>,\n",
       " <selenium.webdriver.remote.webelement.WebElement (session=\"604a64fbe327e3cabcc044fd59cb910e\", element=\"f84e4165-ea06-4062-bc2e-0d920f4cfae3\")>,\n",
       " <selenium.webdriver.remote.webelement.WebElement (session=\"604a64fbe327e3cabcc044fd59cb910e\", element=\"d3e4d13b-d853-4231-9a0b-27857db27dd1\")>,\n",
       " <selenium.webdriver.remote.webelement.WebElement (session=\"604a64fbe327e3cabcc044fd59cb910e\", element=\"84ffa552-726b-4ab1-9592-b2750ca51d76\")>,\n",
       " <selenium.webdriver.remote.webelement.WebElement (session=\"604a64fbe327e3cabcc044fd59cb910e\", element=\"309c35fb-aef5-4ed0-972d-07a844c5a34d\")>,\n",
       " <selenium.webdriver.remote.webelement.WebElement (session=\"604a64fbe327e3cabcc044fd59cb910e\", element=\"0bcff8ca-90db-4d43-9202-a46e056d448d\")>,\n",
       " <selenium.webdriver.remote.webelement.WebElement (session=\"604a64fbe327e3cabcc044fd59cb910e\", element=\"1f72071d-0e56-4a41-b05c-8e58e0ccd9f2\")>,\n",
       " <selenium.webdriver.remote.webelement.WebElement (session=\"604a64fbe327e3cabcc044fd59cb910e\", element=\"e5a4de02-662e-46d5-820d-fdf4cb777b6f\")>,\n",
       " <selenium.webdriver.remote.webelement.WebElement (session=\"604a64fbe327e3cabcc044fd59cb910e\", element=\"1dc3e002-796f-4f02-a880-69a550010aeb\")>,\n",
       " <selenium.webdriver.remote.webelement.WebElement (session=\"604a64fbe327e3cabcc044fd59cb910e\", element=\"049754c2-109d-45ab-a4f6-64207eb12982\")>,\n",
       " <selenium.webdriver.remote.webelement.WebElement (session=\"604a64fbe327e3cabcc044fd59cb910e\", element=\"dbf2d00a-d0d7-4a94-8f51-25f94d1d3b53\")>,\n",
       " <selenium.webdriver.remote.webelement.WebElement (session=\"604a64fbe327e3cabcc044fd59cb910e\", element=\"10f0782a-1bc2-4c37-8a3f-6ecf8f0e87e1\")>,\n",
       " <selenium.webdriver.remote.webelement.WebElement (session=\"604a64fbe327e3cabcc044fd59cb910e\", element=\"1d6435d9-68de-4ab6-841d-8c5d66fe4b78\")>,\n",
       " <selenium.webdriver.remote.webelement.WebElement (session=\"604a64fbe327e3cabcc044fd59cb910e\", element=\"14f1b8a4-0b72-4ab3-89ce-5efeb6d79faf\")>,\n",
       " <selenium.webdriver.remote.webelement.WebElement (session=\"604a64fbe327e3cabcc044fd59cb910e\", element=\"1fdaac98-8689-466e-af25-cfd0388e5bf3\")>,\n",
       " <selenium.webdriver.remote.webelement.WebElement (session=\"604a64fbe327e3cabcc044fd59cb910e\", element=\"d22d30d3-8b80-4fb6-837a-d10d15dc978f\")>,\n",
       " <selenium.webdriver.remote.webelement.WebElement (session=\"604a64fbe327e3cabcc044fd59cb910e\", element=\"d7c017e9-0173-4490-8a04-399903879dcd\")>,\n",
       " <selenium.webdriver.remote.webelement.WebElement (session=\"604a64fbe327e3cabcc044fd59cb910e\", element=\"963cde6f-515a-444d-bf1a-bb3372459dd8\")>,\n",
       " <selenium.webdriver.remote.webelement.WebElement (session=\"604a64fbe327e3cabcc044fd59cb910e\", element=\"c33d348a-d687-455d-8968-5a1522608de1\")>,\n",
       " <selenium.webdriver.remote.webelement.WebElement (session=\"604a64fbe327e3cabcc044fd59cb910e\", element=\"6a0166af-e18b-4d38-80cf-1a07d28584e7\")>,\n",
       " <selenium.webdriver.remote.webelement.WebElement (session=\"604a64fbe327e3cabcc044fd59cb910e\", element=\"8b42c45c-cbeb-46c3-a1d2-f65badcc05a0\")>,\n",
       " <selenium.webdriver.remote.webelement.WebElement (session=\"604a64fbe327e3cabcc044fd59cb910e\", element=\"af94729d-7264-41a8-8530-e9f46cae41b5\")>,\n",
       " <selenium.webdriver.remote.webelement.WebElement (session=\"604a64fbe327e3cabcc044fd59cb910e\", element=\"a05122e9-455b-4d3f-978e-b5b23854a3c0\")>,\n",
       " <selenium.webdriver.remote.webelement.WebElement (session=\"604a64fbe327e3cabcc044fd59cb910e\", element=\"23e52bb1-3742-4928-8618-a4e07de036f9\")>,\n",
       " <selenium.webdriver.remote.webelement.WebElement (session=\"604a64fbe327e3cabcc044fd59cb910e\", element=\"0a916bc1-4aa4-472e-ad5d-0a3ce6be77f2\")>,\n",
       " <selenium.webdriver.remote.webelement.WebElement (session=\"604a64fbe327e3cabcc044fd59cb910e\", element=\"99f2aba0-9dab-4493-b2bf-d5ba4d65cba0\")>,\n",
       " <selenium.webdriver.remote.webelement.WebElement (session=\"604a64fbe327e3cabcc044fd59cb910e\", element=\"b949939a-e4a0-4622-846e-931b5dc67060\")>,\n",
       " <selenium.webdriver.remote.webelement.WebElement (session=\"604a64fbe327e3cabcc044fd59cb910e\", element=\"11f170f2-c1b3-4d83-9fdb-950ae33d33b8\")>,\n",
       " <selenium.webdriver.remote.webelement.WebElement (session=\"604a64fbe327e3cabcc044fd59cb910e\", element=\"c43d674e-12ae-4fa4-8abe-c59453bd6698\")>,\n",
       " <selenium.webdriver.remote.webelement.WebElement (session=\"604a64fbe327e3cabcc044fd59cb910e\", element=\"05c3817f-94c9-4301-b222-872c9a3c64e8\")>,\n",
       " <selenium.webdriver.remote.webelement.WebElement (session=\"604a64fbe327e3cabcc044fd59cb910e\", element=\"4092aa4c-ad22-4a7f-b333-664e7cb3fb0f\")>,\n",
       " <selenium.webdriver.remote.webelement.WebElement (session=\"604a64fbe327e3cabcc044fd59cb910e\", element=\"afd0bdf0-75ca-4894-94e4-1393e66f39e6\")>,\n",
       " <selenium.webdriver.remote.webelement.WebElement (session=\"604a64fbe327e3cabcc044fd59cb910e\", element=\"d8bf0648-e703-4584-a22d-0b9b8a637a9d\")>,\n",
       " <selenium.webdriver.remote.webelement.WebElement (session=\"604a64fbe327e3cabcc044fd59cb910e\", element=\"2963dda8-09b4-4cbd-b520-92c2218a6d3f\")>,\n",
       " <selenium.webdriver.remote.webelement.WebElement (session=\"604a64fbe327e3cabcc044fd59cb910e\", element=\"06da2c21-5281-4e6d-9323-0eec96d4714c\")>,\n",
       " <selenium.webdriver.remote.webelement.WebElement (session=\"604a64fbe327e3cabcc044fd59cb910e\", element=\"59013ba3-b1bb-4822-b737-4221432ba195\")>,\n",
       " <selenium.webdriver.remote.webelement.WebElement (session=\"604a64fbe327e3cabcc044fd59cb910e\", element=\"9de2d730-35a2-4da3-96ba-4e9258983364\")>]"
      ]
     },
     "execution_count": 8,
     "metadata": {},
     "output_type": "execute_result"
    }
   ],
   "source": [
    "header2=browser.find_elements(\"xpath\",\"//div[@class='td-wrap-in']\")\n",
    "header2"
   ]
  },
  {
   "cell_type": "code",
   "execution_count": 9,
   "id": "3fa34ac2",
   "metadata": {},
   "outputs": [
    {
     "data": {
      "text/plain": [
       "['77.4', '82.7', '90.2', '97.1', '57.7', '38.4', '40.9', '73.9', '57.8']"
      ]
     },
     "execution_count": 9,
     "metadata": {},
     "output_type": "execute_result"
    }
   ],
   "source": [
    "#PARSING DATA\n",
    "value_head=[]\n",
    "for data in header2:\n",
    "    #get the text data\n",
    "    temp=data.text\n",
    "    value_head.append(temp)\n",
    "value_head=value_head[51:60]\n",
    "value_head"
   ]
  },
  {
   "cell_type": "code",
   "execution_count": 10,
   "id": "adf968b8",
   "metadata": {},
   "outputs": [
    {
     "data": {
      "text/plain": [
       "{'Overall Score': '77.4',\n",
       " 'Academic Reputation': '82.7',\n",
       " 'Employer Reputation': '90.2',\n",
       " 'Citations per Faculty': '97.1',\n",
       " 'Faculty Student Ratio': '57.7',\n",
       " 'International Students Ratio': '38.4',\n",
       " 'International Faculty Ratio': '40.9',\n",
       " 'International Research Network\\nUnweighted': '73.9',\n",
       " 'Employment Outcomes\\nUnweighted': '57.8'}"
      ]
     },
     "execution_count": 10,
     "metadata": {},
     "output_type": "execute_result"
    }
   ],
   "source": [
    "d={}\n",
    "for i in range(len(column_head)):\n",
    "    d[column_head[i]]=value_head[i]\n",
    "d"
   ]
  },
  {
   "cell_type": "code",
   "execution_count": 11,
   "id": "12b2dcfa",
   "metadata": {},
   "outputs": [
    {
     "data": {
      "text/plain": [
       "'{\"Overall Score\": \"77.4\", \"Academic Reputation\": \"82.7\", \"Employer Reputation\": \"90.2\", \"Citations per Faculty\": \"97.1\", \"Faculty Student Ratio\": \"57.7\", \"International Students Ratio\": \"38.4\", \"International Faculty Ratio\": \"40.9\", \"International Research Network\\\\nUnweighted\": \"73.9\", \"Employment Outcomes\\\\nUnweighted\": \"57.8\"}'"
      ]
     },
     "execution_count": 11,
     "metadata": {},
     "output_type": "execute_result"
    }
   ],
   "source": [
    "s1=json.dumps(d)\n",
    "s1"
   ]
  },
  {
   "cell_type": "code",
   "execution_count": 12,
   "id": "68f76416",
   "metadata": {},
   "outputs": [],
   "source": [
    "with open('Shanghai Jiao Tong University.json','w') as f:\n",
    "    json.dump(d,f)"
   ]
  },
  {
   "cell_type": "code",
   "execution_count": null,
   "id": "677cb541",
   "metadata": {},
   "outputs": [],
   "source": []
  }
 ],
 "metadata": {
  "kernelspec": {
   "display_name": "Python 3 (ipykernel)",
   "language": "python",
   "name": "python3"
  },
  "language_info": {
   "codemirror_mode": {
    "name": "ipython",
    "version": 3
   },
   "file_extension": ".py",
   "mimetype": "text/x-python",
   "name": "python",
   "nbconvert_exporter": "python",
   "pygments_lexer": "ipython3",
   "version": "3.9.12"
  }
 },
 "nbformat": 4,
 "nbformat_minor": 5
}
