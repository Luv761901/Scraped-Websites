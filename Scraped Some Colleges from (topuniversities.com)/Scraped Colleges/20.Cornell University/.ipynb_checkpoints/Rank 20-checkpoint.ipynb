{
 "cells": [
  {
   "cell_type": "code",
   "execution_count": 32,
   "id": "907fba23",
   "metadata": {},
   "outputs": [],
   "source": [
    "from selenium import webdriver\n",
    "from selenium.webdriver.chrome.service import Service\n",
    "import pandas as pd\n",
    "import json"
   ]
  },
  {
   "cell_type": "code",
   "execution_count": 33,
   "id": "ae82a676",
   "metadata": {},
   "outputs": [],
   "source": [
    "path = Service('C:\\chromedriver.exe')\n"
   ]
  },
  {
   "cell_type": "code",
   "execution_count": 34,
   "id": "fe198d25",
   "metadata": {},
   "outputs": [],
   "source": [
    "# set path for the driver\n",
    "browser = webdriver.Chrome(service = path)\n"
   ]
  },
  {
   "cell_type": "code",
   "execution_count": 35,
   "id": "3bc2780a",
   "metadata": {},
   "outputs": [],
   "source": [
    "url = \"https://www.topuniversities.com/university-rankings/world-university-rankings/2023\"\n"
   ]
  },
  {
   "cell_type": "code",
   "execution_count": 36,
   "id": "605705e8",
   "metadata": {},
   "outputs": [],
   "source": [
    "# open the page url ion chrome\n",
    "browser.get(url)\n"
   ]
  },
  {
   "cell_type": "code",
   "execution_count": 37,
   "id": "ddb9bd2e",
   "metadata": {},
   "outputs": [
    {
     "data": {
      "text/plain": [
       "[<selenium.webdriver.remote.webelement.WebElement (session=\"b3eb743edee039a4e42a85dfaf5c9358\", element=\"c5d3bbfb-12d5-4e53-97ac-0cadc88d3e33\")>,\n",
       " <selenium.webdriver.remote.webelement.WebElement (session=\"b3eb743edee039a4e42a85dfaf5c9358\", element=\"deca5073-4639-4459-a807-56a6e5ea8558\")>,\n",
       " <selenium.webdriver.remote.webelement.WebElement (session=\"b3eb743edee039a4e42a85dfaf5c9358\", element=\"1be3568a-723b-4b8a-b0a5-e63662781af1\")>,\n",
       " <selenium.webdriver.remote.webelement.WebElement (session=\"b3eb743edee039a4e42a85dfaf5c9358\", element=\"3b0f715d-632b-4ded-8f3b-c84e623f5de4\")>,\n",
       " <selenium.webdriver.remote.webelement.WebElement (session=\"b3eb743edee039a4e42a85dfaf5c9358\", element=\"3fe0ec87-8166-4368-b95a-7bc8d8176e3a\")>,\n",
       " <selenium.webdriver.remote.webelement.WebElement (session=\"b3eb743edee039a4e42a85dfaf5c9358\", element=\"d35f6d7a-fa7d-402c-8d3e-1014102f38ec\")>,\n",
       " <selenium.webdriver.remote.webelement.WebElement (session=\"b3eb743edee039a4e42a85dfaf5c9358\", element=\"bff3034e-a49f-46e0-b561-2b95f1c600f2\")>,\n",
       " <selenium.webdriver.remote.webelement.WebElement (session=\"b3eb743edee039a4e42a85dfaf5c9358\", element=\"41c7ddd7-e36a-4c64-9742-a2e69bc9c4c8\")>,\n",
       " <selenium.webdriver.remote.webelement.WebElement (session=\"b3eb743edee039a4e42a85dfaf5c9358\", element=\"a30b4aea-e6f6-452e-b100-2a56ba479420\")>,\n",
       " <selenium.webdriver.remote.webelement.WebElement (session=\"b3eb743edee039a4e42a85dfaf5c9358\", element=\"30887620-6e23-4f8c-9cc1-e8d383ee22e0\")>,\n",
       " <selenium.webdriver.remote.webelement.WebElement (session=\"b3eb743edee039a4e42a85dfaf5c9358\", element=\"e45dcbc5-871f-4c19-a7cf-c5750f48f74b\")>,\n",
       " <selenium.webdriver.remote.webelement.WebElement (session=\"b3eb743edee039a4e42a85dfaf5c9358\", element=\"4d4b574e-593c-45d6-acbb-b4f443050e74\")>,\n",
       " <selenium.webdriver.remote.webelement.WebElement (session=\"b3eb743edee039a4e42a85dfaf5c9358\", element=\"f4f323f0-caa7-445c-ae48-9e55e7b8768f\")>,\n",
       " <selenium.webdriver.remote.webelement.WebElement (session=\"b3eb743edee039a4e42a85dfaf5c9358\", element=\"d92b3045-1875-4aa4-a316-b3ebf20080db\")>,\n",
       " <selenium.webdriver.remote.webelement.WebElement (session=\"b3eb743edee039a4e42a85dfaf5c9358\", element=\"3e7dc2d0-7256-40b7-b35e-511065a86bdc\")>,\n",
       " <selenium.webdriver.remote.webelement.WebElement (session=\"b3eb743edee039a4e42a85dfaf5c9358\", element=\"9ac8414a-a2a2-4c56-99a7-de2f3d7168d6\")>,\n",
       " <selenium.webdriver.remote.webelement.WebElement (session=\"b3eb743edee039a4e42a85dfaf5c9358\", element=\"bca0fb1f-af57-472c-aa24-29f374fc82db\")>,\n",
       " <selenium.webdriver.remote.webelement.WebElement (session=\"b3eb743edee039a4e42a85dfaf5c9358\", element=\"a1dcfe43-782c-4999-87f5-79c198a73749\")>,\n",
       " <selenium.webdriver.remote.webelement.WebElement (session=\"b3eb743edee039a4e42a85dfaf5c9358\", element=\"4b3424ab-541c-4c82-b26b-e0bfb189d5ad\")>,\n",
       " <selenium.webdriver.remote.webelement.WebElement (session=\"b3eb743edee039a4e42a85dfaf5c9358\", element=\"e44c67e6-d65b-4992-b64b-6366ecfa68b6\")>]"
      ]
     },
     "execution_count": 37,
     "metadata": {},
     "output_type": "execute_result"
    }
   ],
   "source": [
    "l1=browser.find_elements(\"xpath\",\"//div[@class='location ']\")\n",
    "l1"
   ]
  },
  {
   "cell_type": "code",
   "execution_count": 38,
   "id": "713aac17",
   "metadata": {},
   "outputs": [
    {
     "data": {
      "text/plain": [
       "['Singapore, Singapore',\n",
       " 'Beijing, China (Mainland)',\n",
       " 'Philadelphia, United States',\n",
       " 'Beijing, China (Mainland)',\n",
       " 'Edinburgh, United Kingdom',\n",
       " 'Lausanne, Switzerland',\n",
       " 'Princeton, United States',\n",
       " 'New Haven, United States',\n",
       " 'Singapore, Singapore',\n",
       " 'Ithaca, United States']"
      ]
     },
     "execution_count": 38,
     "metadata": {},
     "output_type": "execute_result"
    }
   ],
   "source": [
    "loc=[]\n",
    "for data in l1:\n",
    "    #get the text data\n",
    "    temp=data.text\n",
    "    loc.append(temp)\n",
    "loc=loc[10:]\n",
    "loc\n"
   ]
  },
  {
   "cell_type": "code",
   "execution_count": 39,
   "id": "359dbb4d",
   "metadata": {},
   "outputs": [
    {
     "data": {
      "text/plain": [
       "[<selenium.webdriver.remote.webelement.WebElement (session=\"b3eb743edee039a4e42a85dfaf5c9358\", element=\"f41c741f-96a3-469d-a122-9105aa5ecafd\")>,\n",
       " <selenium.webdriver.remote.webelement.WebElement (session=\"b3eb743edee039a4e42a85dfaf5c9358\", element=\"fb224643-7d05-4657-8843-6e561b6382bc\")>,\n",
       " <selenium.webdriver.remote.webelement.WebElement (session=\"b3eb743edee039a4e42a85dfaf5c9358\", element=\"7b04d8ce-c2d9-4bcf-bc2a-01374590f4b1\")>,\n",
       " <selenium.webdriver.remote.webelement.WebElement (session=\"b3eb743edee039a4e42a85dfaf5c9358\", element=\"00708e9e-2836-43dd-bfe5-11544ce3acae\")>,\n",
       " <selenium.webdriver.remote.webelement.WebElement (session=\"b3eb743edee039a4e42a85dfaf5c9358\", element=\"496f1a65-3700-45d5-9b54-f99fb2d828dc\")>,\n",
       " <selenium.webdriver.remote.webelement.WebElement (session=\"b3eb743edee039a4e42a85dfaf5c9358\", element=\"434748d0-f5b6-4422-a4de-50cc29d26df1\")>,\n",
       " <selenium.webdriver.remote.webelement.WebElement (session=\"b3eb743edee039a4e42a85dfaf5c9358\", element=\"daff69f3-a460-4893-aa45-59b57e5bf544\")>,\n",
       " <selenium.webdriver.remote.webelement.WebElement (session=\"b3eb743edee039a4e42a85dfaf5c9358\", element=\"122ac2ad-24bc-4675-9123-cfe66fe33312\")>,\n",
       " <selenium.webdriver.remote.webelement.WebElement (session=\"b3eb743edee039a4e42a85dfaf5c9358\", element=\"c3a944fa-df71-4fa9-a94f-f1f19437fb9e\")>,\n",
       " <selenium.webdriver.remote.webelement.WebElement (session=\"b3eb743edee039a4e42a85dfaf5c9358\", element=\"c642412f-13f2-460e-a244-b22ea378e321\")>]"
      ]
     },
     "execution_count": 39,
     "metadata": {},
     "output_type": "execute_result"
    }
   ],
   "source": [
    "l2=browser.find_elements(\"xpath\",\"//div[@class='_univ-rank ']\")\n",
    "l2"
   ]
  },
  {
   "cell_type": "code",
   "execution_count": 40,
   "id": "84d02240",
   "metadata": {},
   "outputs": [
    {
     "data": {
      "text/plain": [
       "['11', '12', '13', '14', '15', '=16', '=16', '18', '19', '20']"
      ]
     },
     "execution_count": 40,
     "metadata": {},
     "output_type": "execute_result"
    }
   ],
   "source": [
    "RANK=[]\n",
    "for data in l2:\n",
    "    #get the text data\n",
    "    temp=data.text\n",
    "    RANK.append(temp)\n",
    "RANK"
   ]
  },
  {
   "cell_type": "code",
   "execution_count": 41,
   "id": "fb844c2a",
   "metadata": {},
   "outputs": [
    {
     "data": {
      "text/plain": [
       "[<selenium.webdriver.remote.webelement.WebElement (session=\"b3eb743edee039a4e42a85dfaf5c9358\", element=\"e8c67bfb-e60f-421f-8956-27feb6967741\")>,\n",
       " <selenium.webdriver.remote.webelement.WebElement (session=\"b3eb743edee039a4e42a85dfaf5c9358\", element=\"00d0b423-a570-4ab2-addd-f7be11983a7f\")>,\n",
       " <selenium.webdriver.remote.webelement.WebElement (session=\"b3eb743edee039a4e42a85dfaf5c9358\", element=\"2ebe0025-9a8a-4bdb-841a-980e5c6be128\")>,\n",
       " <selenium.webdriver.remote.webelement.WebElement (session=\"b3eb743edee039a4e42a85dfaf5c9358\", element=\"e5002dc8-fba9-4d24-8342-4401ba1eafd6\")>,\n",
       " <selenium.webdriver.remote.webelement.WebElement (session=\"b3eb743edee039a4e42a85dfaf5c9358\", element=\"7c6577ff-5a4a-4526-a5da-9c23f765ff66\")>,\n",
       " <selenium.webdriver.remote.webelement.WebElement (session=\"b3eb743edee039a4e42a85dfaf5c9358\", element=\"6ce65764-0a82-49e9-b63b-3c8b7d75ff09\")>,\n",
       " <selenium.webdriver.remote.webelement.WebElement (session=\"b3eb743edee039a4e42a85dfaf5c9358\", element=\"20857c22-d51f-4c4a-bd99-142b71e6fb4a\")>,\n",
       " <selenium.webdriver.remote.webelement.WebElement (session=\"b3eb743edee039a4e42a85dfaf5c9358\", element=\"1051b9a7-15fe-464c-9c0d-c881fc63333a\")>,\n",
       " <selenium.webdriver.remote.webelement.WebElement (session=\"b3eb743edee039a4e42a85dfaf5c9358\", element=\"f53c5be2-0dee-4d17-8155-ddd186e82f76\")>]"
      ]
     },
     "execution_count": 41,
     "metadata": {},
     "output_type": "execute_result"
    }
   ],
   "source": [
    "# GET EACH COLLEGE SPECIFICATION HEADERS\n",
    "header=browser.find_elements(\"xpath\",\"//div[@class='_click-function_ind']\")\n",
    "header"
   ]
  },
  {
   "cell_type": "code",
   "execution_count": 42,
   "id": "e877bd73",
   "metadata": {},
   "outputs": [
    {
     "data": {
      "text/plain": [
       "['Overall Score',\n",
       " 'Academic Reputation',\n",
       " 'Employer Reputation',\n",
       " 'Citations per Faculty',\n",
       " 'Faculty Student Ratio',\n",
       " 'International Students Ratio',\n",
       " 'International Faculty Ratio',\n",
       " 'International Research Network\\nUnweighted',\n",
       " 'Employment Outcomes\\nUnweighted']"
      ]
     },
     "execution_count": 42,
     "metadata": {},
     "output_type": "execute_result"
    }
   ],
   "source": [
    "#PARSING DATA\n",
    "column_head=[]\n",
    "for data in header:\n",
    "    #get the text data\n",
    "    temp=data.text\n",
    "    column_head.append(temp)\n",
    "column_head"
   ]
  },
  {
   "cell_type": "code",
   "execution_count": 43,
   "id": "e717a6ca",
   "metadata": {},
   "outputs": [
    {
     "data": {
      "text/plain": [
       "[<selenium.webdriver.remote.webelement.WebElement (session=\"b3eb743edee039a4e42a85dfaf5c9358\", element=\"c484dbc1-4929-4c42-914b-d30cf04bfe24\")>,\n",
       " <selenium.webdriver.remote.webelement.WebElement (session=\"b3eb743edee039a4e42a85dfaf5c9358\", element=\"9dfc1bbb-9b03-4c62-a6c6-34ce484c7d61\")>,\n",
       " <selenium.webdriver.remote.webelement.WebElement (session=\"b3eb743edee039a4e42a85dfaf5c9358\", element=\"6ece5b73-d91b-4c56-8f29-645e01b26cd1\")>,\n",
       " <selenium.webdriver.remote.webelement.WebElement (session=\"b3eb743edee039a4e42a85dfaf5c9358\", element=\"151d8ede-3a3d-4bb4-a83d-44a578189dfe\")>,\n",
       " <selenium.webdriver.remote.webelement.WebElement (session=\"b3eb743edee039a4e42a85dfaf5c9358\", element=\"e0ed2daf-2600-4097-bd69-2e087ee97260\")>,\n",
       " <selenium.webdriver.remote.webelement.WebElement (session=\"b3eb743edee039a4e42a85dfaf5c9358\", element=\"d08b4c14-8776-47c7-847b-3200e2b86b14\")>,\n",
       " <selenium.webdriver.remote.webelement.WebElement (session=\"b3eb743edee039a4e42a85dfaf5c9358\", element=\"594dad4d-5176-4f38-b272-218fadb08169\")>,\n",
       " <selenium.webdriver.remote.webelement.WebElement (session=\"b3eb743edee039a4e42a85dfaf5c9358\", element=\"e4775c61-a806-41e6-9243-b89a75731f4a\")>,\n",
       " <selenium.webdriver.remote.webelement.WebElement (session=\"b3eb743edee039a4e42a85dfaf5c9358\", element=\"cd9aedd8-b1c1-4114-a2f9-27f2a6028f60\")>,\n",
       " <selenium.webdriver.remote.webelement.WebElement (session=\"b3eb743edee039a4e42a85dfaf5c9358\", element=\"6bbe310f-377f-4926-b695-a37f709b49b9\")>,\n",
       " <selenium.webdriver.remote.webelement.WebElement (session=\"b3eb743edee039a4e42a85dfaf5c9358\", element=\"676a2e0f-3c44-4314-ac62-69964d3be9c7\")>,\n",
       " <selenium.webdriver.remote.webelement.WebElement (session=\"b3eb743edee039a4e42a85dfaf5c9358\", element=\"e74cc288-4f9f-488b-8ef8-2090beefa88e\")>,\n",
       " <selenium.webdriver.remote.webelement.WebElement (session=\"b3eb743edee039a4e42a85dfaf5c9358\", element=\"f47e0471-db03-4413-bd92-854c2e3825c3\")>,\n",
       " <selenium.webdriver.remote.webelement.WebElement (session=\"b3eb743edee039a4e42a85dfaf5c9358\", element=\"e88ba2fe-11be-47fc-b728-220fe051dc48\")>,\n",
       " <selenium.webdriver.remote.webelement.WebElement (session=\"b3eb743edee039a4e42a85dfaf5c9358\", element=\"9f122ba4-34bb-45b3-8a31-d7736a01fc02\")>,\n",
       " <selenium.webdriver.remote.webelement.WebElement (session=\"b3eb743edee039a4e42a85dfaf5c9358\", element=\"ea379f1b-b988-40c3-a622-b00d4225a86d\")>,\n",
       " <selenium.webdriver.remote.webelement.WebElement (session=\"b3eb743edee039a4e42a85dfaf5c9358\", element=\"22d11185-4de4-4193-a946-f70c5f7ad2e2\")>,\n",
       " <selenium.webdriver.remote.webelement.WebElement (session=\"b3eb743edee039a4e42a85dfaf5c9358\", element=\"370033df-b83f-4c1a-b4d8-df35e8b1c68e\")>,\n",
       " <selenium.webdriver.remote.webelement.WebElement (session=\"b3eb743edee039a4e42a85dfaf5c9358\", element=\"1cd8e088-426d-4605-9873-75e92c82c1d3\")>,\n",
       " <selenium.webdriver.remote.webelement.WebElement (session=\"b3eb743edee039a4e42a85dfaf5c9358\", element=\"ce9e3b63-e746-4d5b-a5b2-ec6a11764297\")>,\n",
       " <selenium.webdriver.remote.webelement.WebElement (session=\"b3eb743edee039a4e42a85dfaf5c9358\", element=\"cb097767-6ab8-4e18-b2fb-9f2fcd493b84\")>,\n",
       " <selenium.webdriver.remote.webelement.WebElement (session=\"b3eb743edee039a4e42a85dfaf5c9358\", element=\"647b1fd4-bd19-4d72-a6d0-68983a59c9a9\")>,\n",
       " <selenium.webdriver.remote.webelement.WebElement (session=\"b3eb743edee039a4e42a85dfaf5c9358\", element=\"564a523f-4ad7-470d-b0ff-19eeb295b118\")>,\n",
       " <selenium.webdriver.remote.webelement.WebElement (session=\"b3eb743edee039a4e42a85dfaf5c9358\", element=\"a21c4546-2ad9-4c11-8244-98ca83857e92\")>,\n",
       " <selenium.webdriver.remote.webelement.WebElement (session=\"b3eb743edee039a4e42a85dfaf5c9358\", element=\"dd9a802f-a9e0-40ae-8925-777937d334a6\")>,\n",
       " <selenium.webdriver.remote.webelement.WebElement (session=\"b3eb743edee039a4e42a85dfaf5c9358\", element=\"abc31ba9-042c-476b-a83b-8c439e43d494\")>,\n",
       " <selenium.webdriver.remote.webelement.WebElement (session=\"b3eb743edee039a4e42a85dfaf5c9358\", element=\"63254582-e74f-480c-a430-c50e5d0434a6\")>,\n",
       " <selenium.webdriver.remote.webelement.WebElement (session=\"b3eb743edee039a4e42a85dfaf5c9358\", element=\"1f4eb257-8703-4ea5-b4c4-a57afb4d32ec\")>,\n",
       " <selenium.webdriver.remote.webelement.WebElement (session=\"b3eb743edee039a4e42a85dfaf5c9358\", element=\"2ffba18f-a268-4054-8f27-5fb154181631\")>,\n",
       " <selenium.webdriver.remote.webelement.WebElement (session=\"b3eb743edee039a4e42a85dfaf5c9358\", element=\"1ba975e6-b6dd-4604-9ac8-c7f4371e8746\")>,\n",
       " <selenium.webdriver.remote.webelement.WebElement (session=\"b3eb743edee039a4e42a85dfaf5c9358\", element=\"55ea6673-8b25-43ea-88ff-d2214b71b3ac\")>,\n",
       " <selenium.webdriver.remote.webelement.WebElement (session=\"b3eb743edee039a4e42a85dfaf5c9358\", element=\"228fa8c1-30cf-4796-b8b2-0cd2be533294\")>,\n",
       " <selenium.webdriver.remote.webelement.WebElement (session=\"b3eb743edee039a4e42a85dfaf5c9358\", element=\"b1ad4ff0-b5ef-45f6-8052-4f86af0443c8\")>,\n",
       " <selenium.webdriver.remote.webelement.WebElement (session=\"b3eb743edee039a4e42a85dfaf5c9358\", element=\"bf63ce09-1e66-4134-b11a-afa584d9179e\")>,\n",
       " <selenium.webdriver.remote.webelement.WebElement (session=\"b3eb743edee039a4e42a85dfaf5c9358\", element=\"70c19db2-7123-478c-a16f-58c5ea3aeabd\")>,\n",
       " <selenium.webdriver.remote.webelement.WebElement (session=\"b3eb743edee039a4e42a85dfaf5c9358\", element=\"ec35c4f1-c0f1-4a61-81a2-6979ca0a1241\")>,\n",
       " <selenium.webdriver.remote.webelement.WebElement (session=\"b3eb743edee039a4e42a85dfaf5c9358\", element=\"5772a61a-06f9-4e6c-9da1-4387d95f21ee\")>,\n",
       " <selenium.webdriver.remote.webelement.WebElement (session=\"b3eb743edee039a4e42a85dfaf5c9358\", element=\"d9567817-59e6-4606-a999-323534fe83c7\")>,\n",
       " <selenium.webdriver.remote.webelement.WebElement (session=\"b3eb743edee039a4e42a85dfaf5c9358\", element=\"b62181d3-b928-4897-8719-757385b74a69\")>,\n",
       " <selenium.webdriver.remote.webelement.WebElement (session=\"b3eb743edee039a4e42a85dfaf5c9358\", element=\"65c3f9f5-c54e-4af9-b2b1-a782f84da311\")>,\n",
       " <selenium.webdriver.remote.webelement.WebElement (session=\"b3eb743edee039a4e42a85dfaf5c9358\", element=\"ad77c0fc-5c97-4b07-aa3c-44189d792cc1\")>,\n",
       " <selenium.webdriver.remote.webelement.WebElement (session=\"b3eb743edee039a4e42a85dfaf5c9358\", element=\"2e30ecf9-cb59-4e51-979c-5a88d4d550ab\")>,\n",
       " <selenium.webdriver.remote.webelement.WebElement (session=\"b3eb743edee039a4e42a85dfaf5c9358\", element=\"76081838-780a-46f0-aa45-5c9f91dd67e9\")>,\n",
       " <selenium.webdriver.remote.webelement.WebElement (session=\"b3eb743edee039a4e42a85dfaf5c9358\", element=\"2743604d-b332-416b-93df-09febefbeb54\")>,\n",
       " <selenium.webdriver.remote.webelement.WebElement (session=\"b3eb743edee039a4e42a85dfaf5c9358\", element=\"a04ac524-902d-4c90-ad0b-c34c31d50ae2\")>,\n",
       " <selenium.webdriver.remote.webelement.WebElement (session=\"b3eb743edee039a4e42a85dfaf5c9358\", element=\"effe8834-4caf-479d-a706-d53beac14493\")>,\n",
       " <selenium.webdriver.remote.webelement.WebElement (session=\"b3eb743edee039a4e42a85dfaf5c9358\", element=\"e0adb210-d99d-4301-a638-d94654430438\")>,\n",
       " <selenium.webdriver.remote.webelement.WebElement (session=\"b3eb743edee039a4e42a85dfaf5c9358\", element=\"987e5897-f5a4-4fb5-bc32-66e87f019785\")>,\n",
       " <selenium.webdriver.remote.webelement.WebElement (session=\"b3eb743edee039a4e42a85dfaf5c9358\", element=\"7ebb3ef2-19f5-4042-8ab2-22b2eca68771\")>,\n",
       " <selenium.webdriver.remote.webelement.WebElement (session=\"b3eb743edee039a4e42a85dfaf5c9358\", element=\"ee4ecc6d-024a-4f13-b3f4-bc04b1cfcd1c\")>,\n",
       " <selenium.webdriver.remote.webelement.WebElement (session=\"b3eb743edee039a4e42a85dfaf5c9358\", element=\"19f05d1c-57ef-4af9-b520-db3e29c9fb49\")>,\n",
       " <selenium.webdriver.remote.webelement.WebElement (session=\"b3eb743edee039a4e42a85dfaf5c9358\", element=\"92ed8f32-569b-4fba-9573-3b1dc92cda72\")>,\n",
       " <selenium.webdriver.remote.webelement.WebElement (session=\"b3eb743edee039a4e42a85dfaf5c9358\", element=\"b3a43fe5-ce38-4fa9-9c55-5ab6fc8b789b\")>,\n",
       " <selenium.webdriver.remote.webelement.WebElement (session=\"b3eb743edee039a4e42a85dfaf5c9358\", element=\"a44f6b62-e5eb-4103-84a6-1a22c03ef087\")>,\n",
       " <selenium.webdriver.remote.webelement.WebElement (session=\"b3eb743edee039a4e42a85dfaf5c9358\", element=\"603fc340-11e1-4959-a70d-4af8d51fc732\")>,\n",
       " <selenium.webdriver.remote.webelement.WebElement (session=\"b3eb743edee039a4e42a85dfaf5c9358\", element=\"24f11dc5-8f7a-4b59-93f4-b65c73523404\")>,\n",
       " <selenium.webdriver.remote.webelement.WebElement (session=\"b3eb743edee039a4e42a85dfaf5c9358\", element=\"8a72f6c5-b7db-4f67-a21b-d99284ea3bb0\")>,\n",
       " <selenium.webdriver.remote.webelement.WebElement (session=\"b3eb743edee039a4e42a85dfaf5c9358\", element=\"88432cd6-c11c-4710-8246-ce5514021b12\")>,\n",
       " <selenium.webdriver.remote.webelement.WebElement (session=\"b3eb743edee039a4e42a85dfaf5c9358\", element=\"be69172e-a64e-4e43-8b5f-d591842bbc2d\")>,\n",
       " <selenium.webdriver.remote.webelement.WebElement (session=\"b3eb743edee039a4e42a85dfaf5c9358\", element=\"a19144a7-0456-442d-82d0-d2d6ec99daa5\")>,\n",
       " <selenium.webdriver.remote.webelement.WebElement (session=\"b3eb743edee039a4e42a85dfaf5c9358\", element=\"20502784-4b70-42c7-b47f-f578430c68ed\")>,\n",
       " <selenium.webdriver.remote.webelement.WebElement (session=\"b3eb743edee039a4e42a85dfaf5c9358\", element=\"8d86fca1-be94-43b2-a8af-68204933232a\")>,\n",
       " <selenium.webdriver.remote.webelement.WebElement (session=\"b3eb743edee039a4e42a85dfaf5c9358\", element=\"89ee26fa-9645-415e-969a-77fe93b0c85a\")>,\n",
       " <selenium.webdriver.remote.webelement.WebElement (session=\"b3eb743edee039a4e42a85dfaf5c9358\", element=\"2b2acd84-5dbe-40d8-81db-1aa4adc3d07f\")>,\n",
       " <selenium.webdriver.remote.webelement.WebElement (session=\"b3eb743edee039a4e42a85dfaf5c9358\", element=\"80e93643-f71a-4763-8773-7e5f483bbb8c\")>,\n",
       " <selenium.webdriver.remote.webelement.WebElement (session=\"b3eb743edee039a4e42a85dfaf5c9358\", element=\"8ef6f024-79f4-4eb0-bf04-c1006708cf2a\")>,\n",
       " <selenium.webdriver.remote.webelement.WebElement (session=\"b3eb743edee039a4e42a85dfaf5c9358\", element=\"f5888dd4-0a66-4cbb-ba33-a44029be80e8\")>,\n",
       " <selenium.webdriver.remote.webelement.WebElement (session=\"b3eb743edee039a4e42a85dfaf5c9358\", element=\"fcb26b87-066c-4c8c-9ad4-423d259681c2\")>,\n",
       " <selenium.webdriver.remote.webelement.WebElement (session=\"b3eb743edee039a4e42a85dfaf5c9358\", element=\"bfb77038-47d0-45ef-9f71-3e3d7e59afe1\")>,\n",
       " <selenium.webdriver.remote.webelement.WebElement (session=\"b3eb743edee039a4e42a85dfaf5c9358\", element=\"a001f571-d255-4d56-aa98-e449b53f3442\")>,\n",
       " <selenium.webdriver.remote.webelement.WebElement (session=\"b3eb743edee039a4e42a85dfaf5c9358\", element=\"917ad3ae-e7d5-45c3-ba74-b3cc4678fbb6\")>,\n",
       " <selenium.webdriver.remote.webelement.WebElement (session=\"b3eb743edee039a4e42a85dfaf5c9358\", element=\"4565b956-eb33-44b1-b90b-e18839d20cc2\")>,\n",
       " <selenium.webdriver.remote.webelement.WebElement (session=\"b3eb743edee039a4e42a85dfaf5c9358\", element=\"3eed9d84-5547-4199-9bf7-07c027ed5812\")>,\n",
       " <selenium.webdriver.remote.webelement.WebElement (session=\"b3eb743edee039a4e42a85dfaf5c9358\", element=\"c376ecef-04f8-4bc0-91da-22e2232ebd8d\")>,\n",
       " <selenium.webdriver.remote.webelement.WebElement (session=\"b3eb743edee039a4e42a85dfaf5c9358\", element=\"923b68b2-bf3c-4b8e-8514-eb02cfff10ba\")>,\n",
       " <selenium.webdriver.remote.webelement.WebElement (session=\"b3eb743edee039a4e42a85dfaf5c9358\", element=\"24144b16-6f85-407d-bb96-b6c7ad7db48a\")>,\n",
       " <selenium.webdriver.remote.webelement.WebElement (session=\"b3eb743edee039a4e42a85dfaf5c9358\", element=\"e85e4b01-0237-4dec-bea1-296dd3a97625\")>,\n",
       " <selenium.webdriver.remote.webelement.WebElement (session=\"b3eb743edee039a4e42a85dfaf5c9358\", element=\"684440e4-0d2d-4439-87de-fee1fd559ca3\")>,\n",
       " <selenium.webdriver.remote.webelement.WebElement (session=\"b3eb743edee039a4e42a85dfaf5c9358\", element=\"4a8cf5da-03b2-458c-8275-afcb5415234b\")>,\n",
       " <selenium.webdriver.remote.webelement.WebElement (session=\"b3eb743edee039a4e42a85dfaf5c9358\", element=\"1b5b9ba5-e08b-4a63-a3fb-b268daa7ab4b\")>,\n",
       " <selenium.webdriver.remote.webelement.WebElement (session=\"b3eb743edee039a4e42a85dfaf5c9358\", element=\"22276168-3cde-4e96-9cde-b1071e7af5f9\")>,\n",
       " <selenium.webdriver.remote.webelement.WebElement (session=\"b3eb743edee039a4e42a85dfaf5c9358\", element=\"207f5118-70bb-4c6a-ae97-bcf2fd150a26\")>,\n",
       " <selenium.webdriver.remote.webelement.WebElement (session=\"b3eb743edee039a4e42a85dfaf5c9358\", element=\"3aaef374-a545-4ed7-8516-4f0b3a285f6c\")>,\n",
       " <selenium.webdriver.remote.webelement.WebElement (session=\"b3eb743edee039a4e42a85dfaf5c9358\", element=\"2426828c-ffdb-40a9-9d8b-b24a82cd969f\")>,\n",
       " <selenium.webdriver.remote.webelement.WebElement (session=\"b3eb743edee039a4e42a85dfaf5c9358\", element=\"6dd7fba7-319a-4ad0-9d5a-0dd28f917048\")>,\n",
       " <selenium.webdriver.remote.webelement.WebElement (session=\"b3eb743edee039a4e42a85dfaf5c9358\", element=\"ba3c32a4-e62b-4a88-9339-d9acb76cb35f\")>,\n",
       " <selenium.webdriver.remote.webelement.WebElement (session=\"b3eb743edee039a4e42a85dfaf5c9358\", element=\"d09acf29-5bf4-4d32-be74-0c3bf7dbd77e\")>,\n",
       " <selenium.webdriver.remote.webelement.WebElement (session=\"b3eb743edee039a4e42a85dfaf5c9358\", element=\"fc4d4f0b-262b-442c-93db-ebeff03096b3\")>,\n",
       " <selenium.webdriver.remote.webelement.WebElement (session=\"b3eb743edee039a4e42a85dfaf5c9358\", element=\"dfc05f51-3635-4121-a269-4e6784246394\")>,\n",
       " <selenium.webdriver.remote.webelement.WebElement (session=\"b3eb743edee039a4e42a85dfaf5c9358\", element=\"7660fc20-f8f1-4d6b-84c3-837b10507583\")>,\n",
       " <selenium.webdriver.remote.webelement.WebElement (session=\"b3eb743edee039a4e42a85dfaf5c9358\", element=\"56ba3ef4-b375-4a1e-8b58-e80611ec178c\")>,\n",
       " <selenium.webdriver.remote.webelement.WebElement (session=\"b3eb743edee039a4e42a85dfaf5c9358\", element=\"4d861afe-76d3-46a8-868c-a6fa3ff6151b\")>,\n",
       " <selenium.webdriver.remote.webelement.WebElement (session=\"b3eb743edee039a4e42a85dfaf5c9358\", element=\"a8f0bea9-2f19-4d79-9588-0d0dc139675f\")>,\n",
       " <selenium.webdriver.remote.webelement.WebElement (session=\"b3eb743edee039a4e42a85dfaf5c9358\", element=\"e25d068e-6b4e-4996-9364-55cf798527c0\")>,\n",
       " <selenium.webdriver.remote.webelement.WebElement (session=\"b3eb743edee039a4e42a85dfaf5c9358\", element=\"42b7011d-a805-4954-b85e-7a40ec67e468\")>,\n",
       " <selenium.webdriver.remote.webelement.WebElement (session=\"b3eb743edee039a4e42a85dfaf5c9358\", element=\"c6e4a136-4f0c-48e9-977c-54779d66c239\")>,\n",
       " <selenium.webdriver.remote.webelement.WebElement (session=\"b3eb743edee039a4e42a85dfaf5c9358\", element=\"253784b6-0f2e-4176-b146-8cd242d2015e\")>,\n",
       " <selenium.webdriver.remote.webelement.WebElement (session=\"b3eb743edee039a4e42a85dfaf5c9358\", element=\"3dec375a-2006-4eaa-8ec9-91fd4e145f6b\")>,\n",
       " <selenium.webdriver.remote.webelement.WebElement (session=\"b3eb743edee039a4e42a85dfaf5c9358\", element=\"f4203be8-73fb-40dc-91ee-286b18963cc8\")>,\n",
       " <selenium.webdriver.remote.webelement.WebElement (session=\"b3eb743edee039a4e42a85dfaf5c9358\", element=\"80ed196f-d29b-4475-a9da-a59599f5e9ea\")>]"
      ]
     },
     "execution_count": 43,
     "metadata": {},
     "output_type": "execute_result"
    }
   ],
   "source": [
    "header2=browser.find_elements(\"xpath\",\"//div[@class='td-wrap-in']\")\n",
    "header2"
   ]
  },
  {
   "cell_type": "code",
   "execution_count": 44,
   "id": "1e5f3c6c",
   "metadata": {},
   "outputs": [
    {
     "data": {
      "text/plain": [
       "['87.2', '98.3', '91.4', '99.3', '62.2', '55.3', '63.9', '90', '99.5']"
      ]
     },
     "execution_count": 44,
     "metadata": {},
     "output_type": "execute_result"
    }
   ],
   "source": [
    "#PARSING DATA\n",
    "value_head=[]\n",
    "for data in header2:\n",
    "    #get the text data\n",
    "    temp=data.text\n",
    "    value_head.append(temp)\n",
    "value=value_head[91:100]\n",
    "value\n"
   ]
  },
  {
   "cell_type": "code",
   "execution_count": 45,
   "id": "954740d0",
   "metadata": {},
   "outputs": [
    {
     "data": {
      "text/plain": [
       "{'Name': 'Cornell University',\n",
       " 'Location': 'Ithaca, United States',\n",
       " 'Rank': '20',\n",
       " 'Overall Score': '87.2',\n",
       " 'Academic Reputation': '98.3',\n",
       " 'Employer Reputation': '91.4',\n",
       " 'Citations per Faculty': '99.3',\n",
       " 'Faculty Student Ratio': '62.2',\n",
       " 'International Students Ratio': '55.3',\n",
       " 'International Faculty Ratio': '63.9',\n",
       " 'International Research Network\\nUnweighted': '90',\n",
       " 'Employment Outcomes\\nUnweighted': '99.5'}"
      ]
     },
     "execution_count": 45,
     "metadata": {},
     "output_type": "execute_result"
    }
   ],
   "source": [
    "d={}\n",
    "d['Name']=value_head[90]\n",
    "d['Location']=loc[9]\n",
    "d['Rank']=RANK[9]\n",
    "\n",
    "for i in range(len(column_head)):\n",
    "    d[column_head[i]]=value[i]\n",
    "d"
   ]
  },
  {
   "cell_type": "code",
   "execution_count": 46,
   "id": "7af89947",
   "metadata": {},
   "outputs": [
    {
     "data": {
      "text/plain": [
       "'{\"Name\": \"Cornell University\", \"Location\": \"Ithaca, United States\", \"Rank\": \"20\", \"Overall Score\": \"87.2\", \"Academic Reputation\": \"98.3\", \"Employer Reputation\": \"91.4\", \"Citations per Faculty\": \"99.3\", \"Faculty Student Ratio\": \"62.2\", \"International Students Ratio\": \"55.3\", \"International Faculty Ratio\": \"63.9\", \"International Research Network\\\\nUnweighted\": \"90\", \"Employment Outcomes\\\\nUnweighted\": \"99.5\"}'"
      ]
     },
     "execution_count": 46,
     "metadata": {},
     "output_type": "execute_result"
    }
   ],
   "source": [
    "s1=json.dumps(d)\n",
    "s1"
   ]
  },
  {
   "cell_type": "code",
   "execution_count": 47,
   "id": "2db8af0e",
   "metadata": {},
   "outputs": [],
   "source": [
    "with open('Cornell University.json','w') as f:\n",
    "    json.dump(d,f)\n"
   ]
  },
  {
   "cell_type": "code",
   "execution_count": null,
   "id": "70363da2",
   "metadata": {},
   "outputs": [],
   "source": []
  }
 ],
 "metadata": {
  "kernelspec": {
   "display_name": "Python 3 (ipykernel)",
   "language": "python",
   "name": "python3"
  },
  "language_info": {
   "codemirror_mode": {
    "name": "ipython",
    "version": 3
   },
   "file_extension": ".py",
   "mimetype": "text/x-python",
   "name": "python",
   "nbconvert_exporter": "python",
   "pygments_lexer": "ipython3",
   "version": "3.9.12"
  }
 },
 "nbformat": 4,
 "nbformat_minor": 5
}
