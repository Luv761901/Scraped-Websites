{
 "cells": [
  {
   "cell_type": "code",
   "execution_count": 11,
   "id": "907fba23",
   "metadata": {},
   "outputs": [],
   "source": [
    "from selenium import webdriver\n",
    "from selenium.webdriver.chrome.service import Service\n",
    "import pandas as pd\n",
    "import json"
   ]
  },
  {
   "cell_type": "code",
   "execution_count": 12,
   "id": "ae82a676",
   "metadata": {},
   "outputs": [],
   "source": [
    "path = Service('C:\\chromedriver.exe')\n"
   ]
  },
  {
   "cell_type": "code",
   "execution_count": 13,
   "id": "fe198d25",
   "metadata": {},
   "outputs": [],
   "source": [
    "# set path for the driver\n",
    "browser = webdriver.Chrome(service = path)\n"
   ]
  },
  {
   "cell_type": "code",
   "execution_count": 14,
   "id": "3bc2780a",
   "metadata": {},
   "outputs": [],
   "source": [
    "url = \"https://www.topuniversities.com/university-rankings/world-university-rankings/2023\"\n"
   ]
  },
  {
   "cell_type": "code",
   "execution_count": 15,
   "id": "605705e8",
   "metadata": {},
   "outputs": [],
   "source": [
    "# open the page url ion chrome\n",
    "browser.get(url)"
   ]
  },
  {
   "cell_type": "code",
   "execution_count": 16,
   "id": "fb844c2a",
   "metadata": {},
   "outputs": [
    {
     "data": {
      "text/plain": [
       "[<selenium.webdriver.remote.webelement.WebElement (session=\"9fb36121bd2733bdb2c5a3a3c88582a6\", element=\"824810fa-e25f-4216-b1df-faa559e9e2a7\")>,\n",
       " <selenium.webdriver.remote.webelement.WebElement (session=\"9fb36121bd2733bdb2c5a3a3c88582a6\", element=\"0ceba3cc-aefc-4a28-a365-00e5d03e7c45\")>,\n",
       " <selenium.webdriver.remote.webelement.WebElement (session=\"9fb36121bd2733bdb2c5a3a3c88582a6\", element=\"2647ca7a-426b-4454-b25b-c85b637d6b52\")>,\n",
       " <selenium.webdriver.remote.webelement.WebElement (session=\"9fb36121bd2733bdb2c5a3a3c88582a6\", element=\"b83e81db-6afa-4298-8123-1e8eb532c965\")>,\n",
       " <selenium.webdriver.remote.webelement.WebElement (session=\"9fb36121bd2733bdb2c5a3a3c88582a6\", element=\"85354ab2-7be6-4a6c-b622-404bef4aede2\")>,\n",
       " <selenium.webdriver.remote.webelement.WebElement (session=\"9fb36121bd2733bdb2c5a3a3c88582a6\", element=\"1cd68cd3-5427-4c40-904f-dbb61fc0f22e\")>,\n",
       " <selenium.webdriver.remote.webelement.WebElement (session=\"9fb36121bd2733bdb2c5a3a3c88582a6\", element=\"2109e6e7-c0f2-4b39-8914-86db16926857\")>,\n",
       " <selenium.webdriver.remote.webelement.WebElement (session=\"9fb36121bd2733bdb2c5a3a3c88582a6\", element=\"c5f28dc6-62c1-4bf2-a7f4-e737ef1a89a9\")>,\n",
       " <selenium.webdriver.remote.webelement.WebElement (session=\"9fb36121bd2733bdb2c5a3a3c88582a6\", element=\"154fa2d6-971c-4c8b-8769-cfc667e4eacb\")>]"
      ]
     },
     "execution_count": 16,
     "metadata": {},
     "output_type": "execute_result"
    }
   ],
   "source": [
    "# GET EACH COLLEGE SPECIFICATION HEADERS\n",
    "header=browser.find_elements(\"xpath\",\"//div[@class='_click-function_ind']\")\n",
    "header"
   ]
  },
  {
   "cell_type": "code",
   "execution_count": 17,
   "id": "e877bd73",
   "metadata": {},
   "outputs": [
    {
     "data": {
      "text/plain": [
       "['Overall Score',\n",
       " 'Academic Reputation',\n",
       " 'Employer Reputation',\n",
       " 'Citations per Faculty',\n",
       " 'Faculty Student Ratio',\n",
       " 'International Students Ratio',\n",
       " 'International Faculty Ratio',\n",
       " 'International Research Network\\nUnweighted',\n",
       " 'Employment Outcomes\\nUnweighted']"
      ]
     },
     "execution_count": 17,
     "metadata": {},
     "output_type": "execute_result"
    }
   ],
   "source": [
    "#PARSING DATA\n",
    "column_head=[]\n",
    "for data in header:\n",
    "    #get the text data\n",
    "    temp=data.text\n",
    "    column_head.append(temp)\n",
    "column_head"
   ]
  },
  {
   "cell_type": "code",
   "execution_count": 18,
   "id": "e717a6ca",
   "metadata": {},
   "outputs": [
    {
     "data": {
      "text/plain": [
       "[<selenium.webdriver.remote.webelement.WebElement (session=\"9fb36121bd2733bdb2c5a3a3c88582a6\", element=\"afa74218-e48a-463d-bd24-cd404a659790\")>,\n",
       " <selenium.webdriver.remote.webelement.WebElement (session=\"9fb36121bd2733bdb2c5a3a3c88582a6\", element=\"25d85d78-a36f-44f9-ba2f-80fd46fc270f\")>,\n",
       " <selenium.webdriver.remote.webelement.WebElement (session=\"9fb36121bd2733bdb2c5a3a3c88582a6\", element=\"050be07c-3c32-488d-8664-8d2b7ec1fe60\")>,\n",
       " <selenium.webdriver.remote.webelement.WebElement (session=\"9fb36121bd2733bdb2c5a3a3c88582a6\", element=\"0680cbed-c228-4353-b65f-27667ec7e446\")>,\n",
       " <selenium.webdriver.remote.webelement.WebElement (session=\"9fb36121bd2733bdb2c5a3a3c88582a6\", element=\"7bb43c43-a337-455c-99a4-9535cfaf4a1f\")>,\n",
       " <selenium.webdriver.remote.webelement.WebElement (session=\"9fb36121bd2733bdb2c5a3a3c88582a6\", element=\"c10185b0-9604-4be2-bf9f-f534b97b2628\")>,\n",
       " <selenium.webdriver.remote.webelement.WebElement (session=\"9fb36121bd2733bdb2c5a3a3c88582a6\", element=\"cd3924af-24e0-4f35-a9e3-482b5b7612cd\")>,\n",
       " <selenium.webdriver.remote.webelement.WebElement (session=\"9fb36121bd2733bdb2c5a3a3c88582a6\", element=\"69cbb39e-0129-4468-a139-f1bc3ebc5562\")>,\n",
       " <selenium.webdriver.remote.webelement.WebElement (session=\"9fb36121bd2733bdb2c5a3a3c88582a6\", element=\"d91c9139-3214-4892-a388-67beb9c3cd86\")>,\n",
       " <selenium.webdriver.remote.webelement.WebElement (session=\"9fb36121bd2733bdb2c5a3a3c88582a6\", element=\"d99d5ba2-8be1-441e-8ceb-fdd5601567f7\")>,\n",
       " <selenium.webdriver.remote.webelement.WebElement (session=\"9fb36121bd2733bdb2c5a3a3c88582a6\", element=\"94b50c68-5c9e-44b7-b3bf-6bf04ac5c037\")>,\n",
       " <selenium.webdriver.remote.webelement.WebElement (session=\"9fb36121bd2733bdb2c5a3a3c88582a6\", element=\"c503b538-e1d4-42cf-8513-5fe1a6dc61b7\")>,\n",
       " <selenium.webdriver.remote.webelement.WebElement (session=\"9fb36121bd2733bdb2c5a3a3c88582a6\", element=\"95641be6-5f8e-446e-b0a8-cdb567585295\")>,\n",
       " <selenium.webdriver.remote.webelement.WebElement (session=\"9fb36121bd2733bdb2c5a3a3c88582a6\", element=\"5f46c787-80da-4ee5-95ee-cef6d6899aa6\")>,\n",
       " <selenium.webdriver.remote.webelement.WebElement (session=\"9fb36121bd2733bdb2c5a3a3c88582a6\", element=\"87896f84-7eea-4db4-a45b-09339b5cb31b\")>,\n",
       " <selenium.webdriver.remote.webelement.WebElement (session=\"9fb36121bd2733bdb2c5a3a3c88582a6\", element=\"8b6a4281-cab5-442f-9bbf-8680d684518a\")>,\n",
       " <selenium.webdriver.remote.webelement.WebElement (session=\"9fb36121bd2733bdb2c5a3a3c88582a6\", element=\"70bce186-98ed-421b-9718-e101e6566a7b\")>,\n",
       " <selenium.webdriver.remote.webelement.WebElement (session=\"9fb36121bd2733bdb2c5a3a3c88582a6\", element=\"751f2fe7-7f8a-483d-a505-91c318f5bb53\")>,\n",
       " <selenium.webdriver.remote.webelement.WebElement (session=\"9fb36121bd2733bdb2c5a3a3c88582a6\", element=\"c380480a-394c-4373-abea-3af990d9587a\")>,\n",
       " <selenium.webdriver.remote.webelement.WebElement (session=\"9fb36121bd2733bdb2c5a3a3c88582a6\", element=\"728ca757-bee1-449e-96ce-1718e1d37064\")>,\n",
       " <selenium.webdriver.remote.webelement.WebElement (session=\"9fb36121bd2733bdb2c5a3a3c88582a6\", element=\"50449c7c-50c6-4a05-ab2d-e7019bc454d8\")>,\n",
       " <selenium.webdriver.remote.webelement.WebElement (session=\"9fb36121bd2733bdb2c5a3a3c88582a6\", element=\"c8690fed-a4b8-4b52-987b-ea3914f3bc7c\")>,\n",
       " <selenium.webdriver.remote.webelement.WebElement (session=\"9fb36121bd2733bdb2c5a3a3c88582a6\", element=\"c962e895-9cf2-4706-adde-fc4ff4e560d3\")>,\n",
       " <selenium.webdriver.remote.webelement.WebElement (session=\"9fb36121bd2733bdb2c5a3a3c88582a6\", element=\"8aeb005a-378a-4d28-97d5-e544b098e04b\")>,\n",
       " <selenium.webdriver.remote.webelement.WebElement (session=\"9fb36121bd2733bdb2c5a3a3c88582a6\", element=\"40b41340-3b61-4121-8614-0764c2eb719c\")>,\n",
       " <selenium.webdriver.remote.webelement.WebElement (session=\"9fb36121bd2733bdb2c5a3a3c88582a6\", element=\"bea3b3a8-4caf-4583-897b-4112b5237930\")>,\n",
       " <selenium.webdriver.remote.webelement.WebElement (session=\"9fb36121bd2733bdb2c5a3a3c88582a6\", element=\"6ea5c87c-bb6d-4c63-95ad-3e702499a592\")>,\n",
       " <selenium.webdriver.remote.webelement.WebElement (session=\"9fb36121bd2733bdb2c5a3a3c88582a6\", element=\"0b670ca3-3462-41ef-8501-b1cb96ae6746\")>,\n",
       " <selenium.webdriver.remote.webelement.WebElement (session=\"9fb36121bd2733bdb2c5a3a3c88582a6\", element=\"ffa8685c-9b58-4901-a887-5aea57d8aa7d\")>,\n",
       " <selenium.webdriver.remote.webelement.WebElement (session=\"9fb36121bd2733bdb2c5a3a3c88582a6\", element=\"7d2ca73f-5587-4a8b-a3b6-99bfb8dfabe7\")>,\n",
       " <selenium.webdriver.remote.webelement.WebElement (session=\"9fb36121bd2733bdb2c5a3a3c88582a6\", element=\"066aee55-bf4b-4455-98cd-72fe1be4a9c5\")>,\n",
       " <selenium.webdriver.remote.webelement.WebElement (session=\"9fb36121bd2733bdb2c5a3a3c88582a6\", element=\"ece86299-1794-4512-b32e-1b2c61ae562d\")>,\n",
       " <selenium.webdriver.remote.webelement.WebElement (session=\"9fb36121bd2733bdb2c5a3a3c88582a6\", element=\"c792f02c-46f4-4db8-84c9-7da98440746d\")>,\n",
       " <selenium.webdriver.remote.webelement.WebElement (session=\"9fb36121bd2733bdb2c5a3a3c88582a6\", element=\"773dab20-dd6e-4f6a-a4a0-138cc615c5b5\")>,\n",
       " <selenium.webdriver.remote.webelement.WebElement (session=\"9fb36121bd2733bdb2c5a3a3c88582a6\", element=\"487bb853-8e4e-4159-91a6-101652d7e86e\")>,\n",
       " <selenium.webdriver.remote.webelement.WebElement (session=\"9fb36121bd2733bdb2c5a3a3c88582a6\", element=\"0e65895b-9d9c-4957-aaab-75d29059b50b\")>,\n",
       " <selenium.webdriver.remote.webelement.WebElement (session=\"9fb36121bd2733bdb2c5a3a3c88582a6\", element=\"d8b0be28-fca3-49c5-aa92-7e63e6c33648\")>,\n",
       " <selenium.webdriver.remote.webelement.WebElement (session=\"9fb36121bd2733bdb2c5a3a3c88582a6\", element=\"882392c4-a325-41ff-99d6-bd5aa2224432\")>,\n",
       " <selenium.webdriver.remote.webelement.WebElement (session=\"9fb36121bd2733bdb2c5a3a3c88582a6\", element=\"f6137cb0-a0b9-4f75-94ab-89e9287fde7a\")>,\n",
       " <selenium.webdriver.remote.webelement.WebElement (session=\"9fb36121bd2733bdb2c5a3a3c88582a6\", element=\"5ce62c2b-d3b3-4cfd-a336-a54ae31f4428\")>,\n",
       " <selenium.webdriver.remote.webelement.WebElement (session=\"9fb36121bd2733bdb2c5a3a3c88582a6\", element=\"70be13d1-29a8-4199-8b1a-0b967a148ab9\")>,\n",
       " <selenium.webdriver.remote.webelement.WebElement (session=\"9fb36121bd2733bdb2c5a3a3c88582a6\", element=\"5fbc9312-6120-4a4e-856c-350f3484714c\")>,\n",
       " <selenium.webdriver.remote.webelement.WebElement (session=\"9fb36121bd2733bdb2c5a3a3c88582a6\", element=\"ee5f27d1-b7a1-4d88-877a-5ef28cac3065\")>,\n",
       " <selenium.webdriver.remote.webelement.WebElement (session=\"9fb36121bd2733bdb2c5a3a3c88582a6\", element=\"075715a7-5484-44f6-831a-33cf1e4321fe\")>,\n",
       " <selenium.webdriver.remote.webelement.WebElement (session=\"9fb36121bd2733bdb2c5a3a3c88582a6\", element=\"276d9d45-4e97-4707-bb37-9fdff3602dcc\")>,\n",
       " <selenium.webdriver.remote.webelement.WebElement (session=\"9fb36121bd2733bdb2c5a3a3c88582a6\", element=\"7547d028-33e4-4b75-92d0-675e115a56a2\")>,\n",
       " <selenium.webdriver.remote.webelement.WebElement (session=\"9fb36121bd2733bdb2c5a3a3c88582a6\", element=\"e1fb50a5-5086-4230-a169-8a2db3b18a89\")>,\n",
       " <selenium.webdriver.remote.webelement.WebElement (session=\"9fb36121bd2733bdb2c5a3a3c88582a6\", element=\"cbc49bab-3209-4cdd-b419-9f071ee3a444\")>,\n",
       " <selenium.webdriver.remote.webelement.WebElement (session=\"9fb36121bd2733bdb2c5a3a3c88582a6\", element=\"cab664f9-46a6-44f4-98fd-27ae75f8345b\")>,\n",
       " <selenium.webdriver.remote.webelement.WebElement (session=\"9fb36121bd2733bdb2c5a3a3c88582a6\", element=\"451cf71c-d611-4b48-9909-e476cfa60cc2\")>,\n",
       " <selenium.webdriver.remote.webelement.WebElement (session=\"9fb36121bd2733bdb2c5a3a3c88582a6\", element=\"ab838b18-d645-40a9-9ba6-cec602ee21a3\")>,\n",
       " <selenium.webdriver.remote.webelement.WebElement (session=\"9fb36121bd2733bdb2c5a3a3c88582a6\", element=\"1620b4bf-8505-4b6a-bece-6828e24a12c3\")>,\n",
       " <selenium.webdriver.remote.webelement.WebElement (session=\"9fb36121bd2733bdb2c5a3a3c88582a6\", element=\"f73cbc95-d7f1-4270-8fe3-4601f9b8fa42\")>,\n",
       " <selenium.webdriver.remote.webelement.WebElement (session=\"9fb36121bd2733bdb2c5a3a3c88582a6\", element=\"9d107f00-c33d-4a4a-bd48-5704abeaad9c\")>,\n",
       " <selenium.webdriver.remote.webelement.WebElement (session=\"9fb36121bd2733bdb2c5a3a3c88582a6\", element=\"bf7adaa8-db8a-41f9-b18c-489eb50db23e\")>,\n",
       " <selenium.webdriver.remote.webelement.WebElement (session=\"9fb36121bd2733bdb2c5a3a3c88582a6\", element=\"5d1cb2c6-5bcc-4ce1-8441-27fb0cda3536\")>,\n",
       " <selenium.webdriver.remote.webelement.WebElement (session=\"9fb36121bd2733bdb2c5a3a3c88582a6\", element=\"1a9d700b-572f-4b3b-8caa-6ee87e606561\")>,\n",
       " <selenium.webdriver.remote.webelement.WebElement (session=\"9fb36121bd2733bdb2c5a3a3c88582a6\", element=\"fcdb11cb-136e-4054-aa56-7b2923759af4\")>,\n",
       " <selenium.webdriver.remote.webelement.WebElement (session=\"9fb36121bd2733bdb2c5a3a3c88582a6\", element=\"0131d415-67ec-4374-82aa-39dd3e675a37\")>,\n",
       " <selenium.webdriver.remote.webelement.WebElement (session=\"9fb36121bd2733bdb2c5a3a3c88582a6\", element=\"48be80ac-513a-4f25-9b23-c7b1c996ea61\")>,\n",
       " <selenium.webdriver.remote.webelement.WebElement (session=\"9fb36121bd2733bdb2c5a3a3c88582a6\", element=\"9082ba0a-ccc8-4bbd-907b-dbf7c3314351\")>,\n",
       " <selenium.webdriver.remote.webelement.WebElement (session=\"9fb36121bd2733bdb2c5a3a3c88582a6\", element=\"2e6203cb-598a-4188-a436-0939b525ac32\")>,\n",
       " <selenium.webdriver.remote.webelement.WebElement (session=\"9fb36121bd2733bdb2c5a3a3c88582a6\", element=\"a88ee381-8cef-4ab0-984d-2e4341bb54bc\")>,\n",
       " <selenium.webdriver.remote.webelement.WebElement (session=\"9fb36121bd2733bdb2c5a3a3c88582a6\", element=\"17f5cf11-3d35-467d-8ee2-815d59ede6fb\")>,\n",
       " <selenium.webdriver.remote.webelement.WebElement (session=\"9fb36121bd2733bdb2c5a3a3c88582a6\", element=\"9d220090-4ede-41dd-809e-472da43a51d8\")>,\n",
       " <selenium.webdriver.remote.webelement.WebElement (session=\"9fb36121bd2733bdb2c5a3a3c88582a6\", element=\"abe47203-9697-4332-b4a9-723177bdbafc\")>,\n",
       " <selenium.webdriver.remote.webelement.WebElement (session=\"9fb36121bd2733bdb2c5a3a3c88582a6\", element=\"09492cf9-c7db-46c2-8f2d-ea65efd029f0\")>,\n",
       " <selenium.webdriver.remote.webelement.WebElement (session=\"9fb36121bd2733bdb2c5a3a3c88582a6\", element=\"220fd4bf-114a-4988-b171-430149bb6a62\")>,\n",
       " <selenium.webdriver.remote.webelement.WebElement (session=\"9fb36121bd2733bdb2c5a3a3c88582a6\", element=\"e5e2d080-a151-4107-a2c3-b2b3a6946a1c\")>,\n",
       " <selenium.webdriver.remote.webelement.WebElement (session=\"9fb36121bd2733bdb2c5a3a3c88582a6\", element=\"cd2c17ff-1ea4-4f38-810a-2ad0671bd400\")>,\n",
       " <selenium.webdriver.remote.webelement.WebElement (session=\"9fb36121bd2733bdb2c5a3a3c88582a6\", element=\"9b571a84-5a5b-4460-a9b9-57b5b1a1980e\")>,\n",
       " <selenium.webdriver.remote.webelement.WebElement (session=\"9fb36121bd2733bdb2c5a3a3c88582a6\", element=\"40d77f1e-04ad-420a-b773-c3bb32ef6073\")>,\n",
       " <selenium.webdriver.remote.webelement.WebElement (session=\"9fb36121bd2733bdb2c5a3a3c88582a6\", element=\"04c90590-32f6-43a9-8957-b43745ccc297\")>,\n",
       " <selenium.webdriver.remote.webelement.WebElement (session=\"9fb36121bd2733bdb2c5a3a3c88582a6\", element=\"b0909778-54b1-405c-8e38-f3f9f8f21c55\")>,\n",
       " <selenium.webdriver.remote.webelement.WebElement (session=\"9fb36121bd2733bdb2c5a3a3c88582a6\", element=\"7fc5a372-9f61-424b-9e66-dfb54b1e24ab\")>,\n",
       " <selenium.webdriver.remote.webelement.WebElement (session=\"9fb36121bd2733bdb2c5a3a3c88582a6\", element=\"42686312-46a8-464d-afae-5d0f9e96a99e\")>,\n",
       " <selenium.webdriver.remote.webelement.WebElement (session=\"9fb36121bd2733bdb2c5a3a3c88582a6\", element=\"5e775b3a-8447-4c49-b273-cd3e84a96ae9\")>,\n",
       " <selenium.webdriver.remote.webelement.WebElement (session=\"9fb36121bd2733bdb2c5a3a3c88582a6\", element=\"4bbc38f8-59a1-4b4b-ad86-9fbb5be0b96e\")>,\n",
       " <selenium.webdriver.remote.webelement.WebElement (session=\"9fb36121bd2733bdb2c5a3a3c88582a6\", element=\"bb7bf2cf-f98d-4bbd-984d-ddb37a28406e\")>,\n",
       " <selenium.webdriver.remote.webelement.WebElement (session=\"9fb36121bd2733bdb2c5a3a3c88582a6\", element=\"d8a7e59d-8142-4cd2-a518-546d37a71230\")>,\n",
       " <selenium.webdriver.remote.webelement.WebElement (session=\"9fb36121bd2733bdb2c5a3a3c88582a6\", element=\"a2fd1b50-6db6-4988-8f38-e876f4e2ac93\")>,\n",
       " <selenium.webdriver.remote.webelement.WebElement (session=\"9fb36121bd2733bdb2c5a3a3c88582a6\", element=\"602ec71d-50ac-46a8-8a12-73efe34800cf\")>,\n",
       " <selenium.webdriver.remote.webelement.WebElement (session=\"9fb36121bd2733bdb2c5a3a3c88582a6\", element=\"5bc0df50-281a-41b2-9542-c2ae19a06372\")>,\n",
       " <selenium.webdriver.remote.webelement.WebElement (session=\"9fb36121bd2733bdb2c5a3a3c88582a6\", element=\"31c7b637-3335-47ae-836f-44e708eb2896\")>,\n",
       " <selenium.webdriver.remote.webelement.WebElement (session=\"9fb36121bd2733bdb2c5a3a3c88582a6\", element=\"284eb260-0a29-461c-adbf-1994aa3633bb\")>,\n",
       " <selenium.webdriver.remote.webelement.WebElement (session=\"9fb36121bd2733bdb2c5a3a3c88582a6\", element=\"c697e416-f1cd-4396-970b-c251e2a1ad4b\")>,\n",
       " <selenium.webdriver.remote.webelement.WebElement (session=\"9fb36121bd2733bdb2c5a3a3c88582a6\", element=\"c2479b6f-544d-46c5-b059-b179234ea238\")>,\n",
       " <selenium.webdriver.remote.webelement.WebElement (session=\"9fb36121bd2733bdb2c5a3a3c88582a6\", element=\"b14d295f-18e7-4767-9be4-130170f410c9\")>,\n",
       " <selenium.webdriver.remote.webelement.WebElement (session=\"9fb36121bd2733bdb2c5a3a3c88582a6\", element=\"4eda5cdc-6523-4909-81ec-ec4947eeafd6\")>,\n",
       " <selenium.webdriver.remote.webelement.WebElement (session=\"9fb36121bd2733bdb2c5a3a3c88582a6\", element=\"da5dcae4-0477-4170-870f-9c8ab545346e\")>,\n",
       " <selenium.webdriver.remote.webelement.WebElement (session=\"9fb36121bd2733bdb2c5a3a3c88582a6\", element=\"b2df373e-22c6-4970-89d9-c09e823ba2bd\")>,\n",
       " <selenium.webdriver.remote.webelement.WebElement (session=\"9fb36121bd2733bdb2c5a3a3c88582a6\", element=\"116c98f3-e16a-489f-94cf-a5a265131979\")>,\n",
       " <selenium.webdriver.remote.webelement.WebElement (session=\"9fb36121bd2733bdb2c5a3a3c88582a6\", element=\"36110f8d-d62a-4812-9733-7b907bf815b7\")>,\n",
       " <selenium.webdriver.remote.webelement.WebElement (session=\"9fb36121bd2733bdb2c5a3a3c88582a6\", element=\"0de7759b-bdbf-49cd-8604-1819ff7f284c\")>,\n",
       " <selenium.webdriver.remote.webelement.WebElement (session=\"9fb36121bd2733bdb2c5a3a3c88582a6\", element=\"69a76f0a-8d2c-4354-9603-1d968cf3d134\")>,\n",
       " <selenium.webdriver.remote.webelement.WebElement (session=\"9fb36121bd2733bdb2c5a3a3c88582a6\", element=\"7e045335-6018-4ed6-aafa-0a8585169ac1\")>,\n",
       " <selenium.webdriver.remote.webelement.WebElement (session=\"9fb36121bd2733bdb2c5a3a3c88582a6\", element=\"83b0507b-f31f-443d-9752-7d6d4c0a2210\")>,\n",
       " <selenium.webdriver.remote.webelement.WebElement (session=\"9fb36121bd2733bdb2c5a3a3c88582a6\", element=\"b9a03f0b-adf3-4241-ac65-8cfb361a4640\")>,\n",
       " <selenium.webdriver.remote.webelement.WebElement (session=\"9fb36121bd2733bdb2c5a3a3c88582a6\", element=\"736ffdfc-9039-44cc-a69e-53a525fefe35\")>,\n",
       " <selenium.webdriver.remote.webelement.WebElement (session=\"9fb36121bd2733bdb2c5a3a3c88582a6\", element=\"d3f699b2-94fb-4b55-aa7e-19ec831b5b99\")>]"
      ]
     },
     "execution_count": 18,
     "metadata": {},
     "output_type": "execute_result"
    }
   ],
   "source": [
    "header2=browser.find_elements(\"xpath\",\"//div[@class='td-wrap-in']\")\n",
    "header2"
   ]
  },
  {
   "cell_type": "code",
   "execution_count": 19,
   "id": "1e5f3c6c",
   "metadata": {},
   "outputs": [
    {
     "data": {
      "text/plain": [
       "['87.2', '98.3', '91.4', '99.3', '62.2', '55.3', '63.9', '90', '99.5']"
      ]
     },
     "execution_count": 19,
     "metadata": {},
     "output_type": "execute_result"
    }
   ],
   "source": [
    "#PARSING DATA\n",
    "value_head=[]\n",
    "for data in header2:\n",
    "    #get the text data\n",
    "    temp=data.text\n",
    "    value_head.append(temp)\n",
    "value_head=value_head[91:100]\n",
    "value_head\n"
   ]
  },
  {
   "cell_type": "code",
   "execution_count": 20,
   "id": "954740d0",
   "metadata": {},
   "outputs": [
    {
     "data": {
      "text/plain": [
       "{'Overall Score': '87.2',\n",
       " 'Academic Reputation': '98.3',\n",
       " 'Employer Reputation': '91.4',\n",
       " 'Citations per Faculty': '99.3',\n",
       " 'Faculty Student Ratio': '62.2',\n",
       " 'International Students Ratio': '55.3',\n",
       " 'International Faculty Ratio': '63.9',\n",
       " 'International Research Network\\nUnweighted': '90',\n",
       " 'Employment Outcomes\\nUnweighted': '99.5'}"
      ]
     },
     "execution_count": 20,
     "metadata": {},
     "output_type": "execute_result"
    }
   ],
   "source": [
    "d={}\n",
    "for i in range(len(column_head)):\n",
    "    d[column_head[i]]=value_head[i]\n",
    "d"
   ]
  },
  {
   "cell_type": "code",
   "execution_count": 21,
   "id": "7af89947",
   "metadata": {},
   "outputs": [
    {
     "data": {
      "text/plain": [
       "'{\"Overall Score\": \"87.2\", \"Academic Reputation\": \"98.3\", \"Employer Reputation\": \"91.4\", \"Citations per Faculty\": \"99.3\", \"Faculty Student Ratio\": \"62.2\", \"International Students Ratio\": \"55.3\", \"International Faculty Ratio\": \"63.9\", \"International Research Network\\\\nUnweighted\": \"90\", \"Employment Outcomes\\\\nUnweighted\": \"99.5\"}'"
      ]
     },
     "execution_count": 21,
     "metadata": {},
     "output_type": "execute_result"
    }
   ],
   "source": [
    "s1=json.dumps(d)\n",
    "s1"
   ]
  },
  {
   "cell_type": "code",
   "execution_count": 22,
   "id": "2db8af0e",
   "metadata": {},
   "outputs": [],
   "source": [
    "with open('Cornell University.json','w') as f:\n",
    "    json.dump(d,f)\n"
   ]
  }
 ],
 "metadata": {
  "kernelspec": {
   "display_name": "Python 3 (ipykernel)",
   "language": "python",
   "name": "python3"
  },
  "language_info": {
   "codemirror_mode": {
    "name": "ipython",
    "version": 3
   },
   "file_extension": ".py",
   "mimetype": "text/x-python",
   "name": "python",
   "nbconvert_exporter": "python",
   "pygments_lexer": "ipython3",
   "version": "3.9.12"
  }
 },
 "nbformat": 4,
 "nbformat_minor": 5
}
