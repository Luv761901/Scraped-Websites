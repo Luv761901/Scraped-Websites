{
 "cells": [
  {
   "cell_type": "code",
   "execution_count": 33,
   "id": "c2750d48",
   "metadata": {},
   "outputs": [],
   "source": [
    "from selenium import webdriver\n",
    "from selenium.webdriver.chrome.service import Service\n",
    "import pandas as pd\n",
    "import json"
   ]
  },
  {
   "cell_type": "code",
   "execution_count": 34,
   "id": "bf9100d0",
   "metadata": {},
   "outputs": [],
   "source": [
    "path = Service('C:\\chromedriver.exe')\n"
   ]
  },
  {
   "cell_type": "code",
   "execution_count": 35,
   "id": "d6f75172",
   "metadata": {},
   "outputs": [],
   "source": [
    "# set path for the driver\n",
    "browser = webdriver.Chrome(service = path)\n"
   ]
  },
  {
   "cell_type": "code",
   "execution_count": 36,
   "id": "22fafef9",
   "metadata": {},
   "outputs": [],
   "source": [
    "url = \"https://www.topuniversities.com/university-rankings/world-university-rankings/2023\""
   ]
  },
  {
   "cell_type": "code",
   "execution_count": 37,
   "id": "94ed31af",
   "metadata": {},
   "outputs": [],
   "source": [
    "# open the page url ion chrome\n",
    "browser.get(url)\n"
   ]
  },
  {
   "cell_type": "code",
   "execution_count": 38,
   "id": "ad7126d1",
   "metadata": {},
   "outputs": [
    {
     "data": {
      "text/plain": [
       "[<selenium.webdriver.remote.webelement.WebElement (session=\"a46edd5b0665a91560af215cf70c93b7\", element=\"cf4612a1-f4fc-46a9-979e-11bd0aca8cff\")>,\n",
       " <selenium.webdriver.remote.webelement.WebElement (session=\"a46edd5b0665a91560af215cf70c93b7\", element=\"a1dda612-436f-492a-a8b7-cbf0645205c6\")>,\n",
       " <selenium.webdriver.remote.webelement.WebElement (session=\"a46edd5b0665a91560af215cf70c93b7\", element=\"42fa8e8f-514d-496c-974f-5f97b904862b\")>,\n",
       " <selenium.webdriver.remote.webelement.WebElement (session=\"a46edd5b0665a91560af215cf70c93b7\", element=\"ff2dbfce-d73d-43e3-a0f3-71b4b8a01544\")>,\n",
       " <selenium.webdriver.remote.webelement.WebElement (session=\"a46edd5b0665a91560af215cf70c93b7\", element=\"97955d87-d688-4a79-8c3a-5848c0fc135b\")>,\n",
       " <selenium.webdriver.remote.webelement.WebElement (session=\"a46edd5b0665a91560af215cf70c93b7\", element=\"f6bd207d-8c47-4f10-927c-a805984d6c2d\")>,\n",
       " <selenium.webdriver.remote.webelement.WebElement (session=\"a46edd5b0665a91560af215cf70c93b7\", element=\"71a7fdf4-2a42-4ea0-b659-a60d7bd66c77\")>,\n",
       " <selenium.webdriver.remote.webelement.WebElement (session=\"a46edd5b0665a91560af215cf70c93b7\", element=\"8997f047-246f-488f-9182-55d0707694e6\")>,\n",
       " <selenium.webdriver.remote.webelement.WebElement (session=\"a46edd5b0665a91560af215cf70c93b7\", element=\"120ce7c0-d65d-440e-930b-0608dafaec92\")>,\n",
       " <selenium.webdriver.remote.webelement.WebElement (session=\"a46edd5b0665a91560af215cf70c93b7\", element=\"ad04e1ae-6a55-430c-a933-e33f729345ab\")>,\n",
       " <selenium.webdriver.remote.webelement.WebElement (session=\"a46edd5b0665a91560af215cf70c93b7\", element=\"4e6482c2-1e3e-4c0a-8c6a-882bdf577e0c\")>,\n",
       " <selenium.webdriver.remote.webelement.WebElement (session=\"a46edd5b0665a91560af215cf70c93b7\", element=\"ea3379ec-881c-4f7c-bf9f-bdacc8378045\")>,\n",
       " <selenium.webdriver.remote.webelement.WebElement (session=\"a46edd5b0665a91560af215cf70c93b7\", element=\"5ca8c90a-eba2-43f7-8b1e-92b8c76044bc\")>,\n",
       " <selenium.webdriver.remote.webelement.WebElement (session=\"a46edd5b0665a91560af215cf70c93b7\", element=\"3beb23a1-f5d8-43fd-ac1d-4a322d70b68b\")>,\n",
       " <selenium.webdriver.remote.webelement.WebElement (session=\"a46edd5b0665a91560af215cf70c93b7\", element=\"f8b0bb6d-5650-4bd5-8689-7f90705af747\")>,\n",
       " <selenium.webdriver.remote.webelement.WebElement (session=\"a46edd5b0665a91560af215cf70c93b7\", element=\"48dfa00f-7c79-4de5-be24-373c43265447\")>,\n",
       " <selenium.webdriver.remote.webelement.WebElement (session=\"a46edd5b0665a91560af215cf70c93b7\", element=\"c8a4ce10-50d5-4b7c-9b1d-4dd869dd03c8\")>,\n",
       " <selenium.webdriver.remote.webelement.WebElement (session=\"a46edd5b0665a91560af215cf70c93b7\", element=\"ea50c3c6-d8a5-4817-af1d-fb43acc90d1c\")>,\n",
       " <selenium.webdriver.remote.webelement.WebElement (session=\"a46edd5b0665a91560af215cf70c93b7\", element=\"6e9a85c7-2cf1-4a71-b7fa-e525c127355d\")>,\n",
       " <selenium.webdriver.remote.webelement.WebElement (session=\"a46edd5b0665a91560af215cf70c93b7\", element=\"809de2a8-45f4-4ffd-9b53-63191e5b99ea\")>]"
      ]
     },
     "execution_count": 38,
     "metadata": {},
     "output_type": "execute_result"
    }
   ],
   "source": [
    "\n",
    "l1=browser.find_elements(\"xpath\",\"//div[@class='location ']\")\n",
    "l1\n"
   ]
  },
  {
   "cell_type": "code",
   "execution_count": 39,
   "id": "22a1a8c3",
   "metadata": {},
   "outputs": [
    {
     "data": {
      "text/plain": [
       "['Cambridge, United States',\n",
       " 'Cambridge, United Kingdom',\n",
       " 'Stanford, United States',\n",
       " 'Oxford, United Kingdom',\n",
       " 'Cambridge, United States',\n",
       " 'Pasadena, United States',\n",
       " 'London, United Kingdom',\n",
       " 'London, United Kingdom',\n",
       " 'Zürich, Switzerland',\n",
       " 'Chicago, United States']"
      ]
     },
     "execution_count": 39,
     "metadata": {},
     "output_type": "execute_result"
    }
   ],
   "source": [
    "loc=[]\n",
    "for data in l1:\n",
    "    #get the text data\n",
    "    temp=data.text\n",
    "    loc.append(temp)\n",
    "loc=loc[10:]\n",
    "loc"
   ]
  },
  {
   "cell_type": "code",
   "execution_count": 40,
   "id": "d3a51ca3",
   "metadata": {},
   "outputs": [
    {
     "data": {
      "text/plain": [
       "[<selenium.webdriver.remote.webelement.WebElement (session=\"a46edd5b0665a91560af215cf70c93b7\", element=\"4f1bab16-14bd-4d40-a390-50b5b1ea45b9\")>,\n",
       " <selenium.webdriver.remote.webelement.WebElement (session=\"a46edd5b0665a91560af215cf70c93b7\", element=\"1937adc1-44e9-4c6f-87ec-e8c7646f94c0\")>,\n",
       " <selenium.webdriver.remote.webelement.WebElement (session=\"a46edd5b0665a91560af215cf70c93b7\", element=\"f1211a72-04ed-428f-9297-ab4d72cda050\")>,\n",
       " <selenium.webdriver.remote.webelement.WebElement (session=\"a46edd5b0665a91560af215cf70c93b7\", element=\"cb5f42b6-4e37-4947-b1b6-831c3876e9b8\")>,\n",
       " <selenium.webdriver.remote.webelement.WebElement (session=\"a46edd5b0665a91560af215cf70c93b7\", element=\"514a95a6-8d15-46ca-8f92-f7e05243a2a0\")>,\n",
       " <selenium.webdriver.remote.webelement.WebElement (session=\"a46edd5b0665a91560af215cf70c93b7\", element=\"4d8c1f75-f4eb-4aa2-9a11-290443bcac0a\")>,\n",
       " <selenium.webdriver.remote.webelement.WebElement (session=\"a46edd5b0665a91560af215cf70c93b7\", element=\"fc940a04-5bd8-49d5-ac5d-d4cbf6eee7c4\")>,\n",
       " <selenium.webdriver.remote.webelement.WebElement (session=\"a46edd5b0665a91560af215cf70c93b7\", element=\"3e14ef19-dc45-495e-93a2-ee427044e7eb\")>,\n",
       " <selenium.webdriver.remote.webelement.WebElement (session=\"a46edd5b0665a91560af215cf70c93b7\", element=\"bcafc0e7-a280-4bb4-b457-7b47f325252d\")>,\n",
       " <selenium.webdriver.remote.webelement.WebElement (session=\"a46edd5b0665a91560af215cf70c93b7\", element=\"86f5a481-9b8c-469a-a73d-57f42386cbb5\")>]"
      ]
     },
     "execution_count": 40,
     "metadata": {},
     "output_type": "execute_result"
    }
   ],
   "source": [
    "l2=browser.find_elements(\"xpath\",\"//div[@class='_univ-rank ']\")\n",
    "l2"
   ]
  },
  {
   "cell_type": "code",
   "execution_count": 41,
   "id": "16df2299",
   "metadata": {},
   "outputs": [
    {
     "data": {
      "text/plain": [
       "['1', '2', '3', '4', '5', '=6', '=6', '8', '9', '10']"
      ]
     },
     "execution_count": 41,
     "metadata": {},
     "output_type": "execute_result"
    }
   ],
   "source": [
    "RANK=[]\n",
    "for data in l2:\n",
    "    #get the text data\n",
    "    temp=data.text\n",
    "    RANK.append(temp)\n",
    "RANK"
   ]
  },
  {
   "cell_type": "code",
   "execution_count": 42,
   "id": "f5216efb",
   "metadata": {},
   "outputs": [
    {
     "data": {
      "text/plain": [
       "[<selenium.webdriver.remote.webelement.WebElement (session=\"a46edd5b0665a91560af215cf70c93b7\", element=\"400712b6-41ec-4561-abd7-dac178deb8df\")>,\n",
       " <selenium.webdriver.remote.webelement.WebElement (session=\"a46edd5b0665a91560af215cf70c93b7\", element=\"d4760479-6100-4feb-8086-616de4b97f13\")>,\n",
       " <selenium.webdriver.remote.webelement.WebElement (session=\"a46edd5b0665a91560af215cf70c93b7\", element=\"f21ff5ad-1451-4af4-98eb-5741ede5e0e5\")>,\n",
       " <selenium.webdriver.remote.webelement.WebElement (session=\"a46edd5b0665a91560af215cf70c93b7\", element=\"1fcf8747-5bb6-4d6a-a5f4-1d5a77937391\")>,\n",
       " <selenium.webdriver.remote.webelement.WebElement (session=\"a46edd5b0665a91560af215cf70c93b7\", element=\"2b914171-c1ba-47ba-bfc8-2f2de06505cf\")>,\n",
       " <selenium.webdriver.remote.webelement.WebElement (session=\"a46edd5b0665a91560af215cf70c93b7\", element=\"cc75798a-5961-4533-81d0-0d7a8d2b857c\")>,\n",
       " <selenium.webdriver.remote.webelement.WebElement (session=\"a46edd5b0665a91560af215cf70c93b7\", element=\"fc207f13-85c7-4fcc-8001-7e920eab7519\")>,\n",
       " <selenium.webdriver.remote.webelement.WebElement (session=\"a46edd5b0665a91560af215cf70c93b7\", element=\"07603b54-8256-4461-95b1-5c1c5823082b\")>,\n",
       " <selenium.webdriver.remote.webelement.WebElement (session=\"a46edd5b0665a91560af215cf70c93b7\", element=\"69363421-e1b1-4aa1-a1cc-de7e024421cd\")>]"
      ]
     },
     "execution_count": 42,
     "metadata": {},
     "output_type": "execute_result"
    }
   ],
   "source": [
    "# GET EACH COLLEGE SPECIFICATION HEADERS\n",
    "header=browser.find_elements(\"xpath\",\"//div[@class='_click-function_ind']\")\n",
    "header"
   ]
  },
  {
   "cell_type": "code",
   "execution_count": 43,
   "id": "644d1326",
   "metadata": {},
   "outputs": [
    {
     "data": {
      "text/plain": [
       "['Overall Score',\n",
       " 'Academic Reputation',\n",
       " 'Employer Reputation',\n",
       " 'Citations per Faculty',\n",
       " 'Faculty Student Ratio',\n",
       " 'International Students Ratio',\n",
       " 'International Faculty Ratio',\n",
       " 'International Research Network\\nUnweighted',\n",
       " 'Employment Outcomes\\nUnweighted']"
      ]
     },
     "execution_count": 43,
     "metadata": {},
     "output_type": "execute_result"
    }
   ],
   "source": [
    "#PARSING DATA\n",
    "column_head=[]\n",
    "for data in header:\n",
    "    #get the text data\n",
    "    temp=data.text\n",
    "    column_head.append(temp)\n",
    "column_head\n"
   ]
  },
  {
   "cell_type": "code",
   "execution_count": 44,
   "id": "9625e856",
   "metadata": {},
   "outputs": [
    {
     "data": {
      "text/plain": [
       "[<selenium.webdriver.remote.webelement.WebElement (session=\"a46edd5b0665a91560af215cf70c93b7\", element=\"e095db76-3448-4ebb-9834-252f0b211420\")>,\n",
       " <selenium.webdriver.remote.webelement.WebElement (session=\"a46edd5b0665a91560af215cf70c93b7\", element=\"d5ba58b7-d291-49be-bc30-541bb67844fc\")>,\n",
       " <selenium.webdriver.remote.webelement.WebElement (session=\"a46edd5b0665a91560af215cf70c93b7\", element=\"05881ed4-903a-41ca-a571-e4b6709f0cec\")>,\n",
       " <selenium.webdriver.remote.webelement.WebElement (session=\"a46edd5b0665a91560af215cf70c93b7\", element=\"6be6a500-3ef1-4ea7-ab6e-6d3c1e801917\")>,\n",
       " <selenium.webdriver.remote.webelement.WebElement (session=\"a46edd5b0665a91560af215cf70c93b7\", element=\"0898c84d-7de4-4f68-82aa-869105aaf414\")>,\n",
       " <selenium.webdriver.remote.webelement.WebElement (session=\"a46edd5b0665a91560af215cf70c93b7\", element=\"3a8e60dd-b2aa-4bd6-8b5f-650a33eae845\")>,\n",
       " <selenium.webdriver.remote.webelement.WebElement (session=\"a46edd5b0665a91560af215cf70c93b7\", element=\"943f9952-3a46-4f37-879d-b47057ae925c\")>,\n",
       " <selenium.webdriver.remote.webelement.WebElement (session=\"a46edd5b0665a91560af215cf70c93b7\", element=\"ce7f878b-cc43-4608-96ab-7618131ac902\")>,\n",
       " <selenium.webdriver.remote.webelement.WebElement (session=\"a46edd5b0665a91560af215cf70c93b7\", element=\"79c63238-434a-4a47-91b0-821e15d06f1b\")>,\n",
       " <selenium.webdriver.remote.webelement.WebElement (session=\"a46edd5b0665a91560af215cf70c93b7\", element=\"2bbb3547-759a-436b-a81b-57daa7691c81\")>,\n",
       " <selenium.webdriver.remote.webelement.WebElement (session=\"a46edd5b0665a91560af215cf70c93b7\", element=\"3d03bc6c-70ed-438a-a44b-dec7b91f6b24\")>,\n",
       " <selenium.webdriver.remote.webelement.WebElement (session=\"a46edd5b0665a91560af215cf70c93b7\", element=\"9e4f2ddf-2154-4f90-be28-824c9c684661\")>,\n",
       " <selenium.webdriver.remote.webelement.WebElement (session=\"a46edd5b0665a91560af215cf70c93b7\", element=\"8360a03e-5d7e-4ef5-9f56-ea19da5f337d\")>,\n",
       " <selenium.webdriver.remote.webelement.WebElement (session=\"a46edd5b0665a91560af215cf70c93b7\", element=\"a98e6306-caff-4f8e-bbaa-7c7b25d579da\")>,\n",
       " <selenium.webdriver.remote.webelement.WebElement (session=\"a46edd5b0665a91560af215cf70c93b7\", element=\"e97ba3a7-4180-4779-a3ee-922c1db820d2\")>,\n",
       " <selenium.webdriver.remote.webelement.WebElement (session=\"a46edd5b0665a91560af215cf70c93b7\", element=\"43316723-9633-45b9-a38b-298a9a2ff1c6\")>,\n",
       " <selenium.webdriver.remote.webelement.WebElement (session=\"a46edd5b0665a91560af215cf70c93b7\", element=\"14959785-697e-437b-9291-df569b1fd86f\")>,\n",
       " <selenium.webdriver.remote.webelement.WebElement (session=\"a46edd5b0665a91560af215cf70c93b7\", element=\"5263565c-1ad3-49c3-b620-8b4325064c80\")>,\n",
       " <selenium.webdriver.remote.webelement.WebElement (session=\"a46edd5b0665a91560af215cf70c93b7\", element=\"ae35b858-3014-4c7f-9752-e47316b83de9\")>,\n",
       " <selenium.webdriver.remote.webelement.WebElement (session=\"a46edd5b0665a91560af215cf70c93b7\", element=\"fa752ddf-5f2f-4a41-8ec8-b30af188be60\")>,\n",
       " <selenium.webdriver.remote.webelement.WebElement (session=\"a46edd5b0665a91560af215cf70c93b7\", element=\"547c71b1-4c33-4c49-934c-352670d846a2\")>,\n",
       " <selenium.webdriver.remote.webelement.WebElement (session=\"a46edd5b0665a91560af215cf70c93b7\", element=\"806a9929-3438-4def-82dc-0532caf0175a\")>,\n",
       " <selenium.webdriver.remote.webelement.WebElement (session=\"a46edd5b0665a91560af215cf70c93b7\", element=\"ea25c4dc-7579-4ad9-8e0f-2b0fdd676d54\")>,\n",
       " <selenium.webdriver.remote.webelement.WebElement (session=\"a46edd5b0665a91560af215cf70c93b7\", element=\"57720c32-69ab-4fed-9243-b1abb5d8dcae\")>,\n",
       " <selenium.webdriver.remote.webelement.WebElement (session=\"a46edd5b0665a91560af215cf70c93b7\", element=\"e2b08874-9231-4f03-8364-be0913074357\")>,\n",
       " <selenium.webdriver.remote.webelement.WebElement (session=\"a46edd5b0665a91560af215cf70c93b7\", element=\"b289b614-b4d7-4435-9d65-b8acfd3603e3\")>,\n",
       " <selenium.webdriver.remote.webelement.WebElement (session=\"a46edd5b0665a91560af215cf70c93b7\", element=\"a5e428d0-e658-4204-9f2d-e19c645893e3\")>,\n",
       " <selenium.webdriver.remote.webelement.WebElement (session=\"a46edd5b0665a91560af215cf70c93b7\", element=\"6fd7cd5e-a602-4645-9f12-b1ad361c9e39\")>,\n",
       " <selenium.webdriver.remote.webelement.WebElement (session=\"a46edd5b0665a91560af215cf70c93b7\", element=\"5486979d-04fe-4f0b-9a5e-d526eb71a700\")>,\n",
       " <selenium.webdriver.remote.webelement.WebElement (session=\"a46edd5b0665a91560af215cf70c93b7\", element=\"7875168c-03ad-4f66-98b9-4bbf633830ac\")>,\n",
       " <selenium.webdriver.remote.webelement.WebElement (session=\"a46edd5b0665a91560af215cf70c93b7\", element=\"09ce931d-5810-43fd-985c-23b9506797f0\")>,\n",
       " <selenium.webdriver.remote.webelement.WebElement (session=\"a46edd5b0665a91560af215cf70c93b7\", element=\"ef083943-7bce-4db5-9066-d3182b79d099\")>,\n",
       " <selenium.webdriver.remote.webelement.WebElement (session=\"a46edd5b0665a91560af215cf70c93b7\", element=\"96b77201-d088-4d93-9e5e-b6283d94dde6\")>,\n",
       " <selenium.webdriver.remote.webelement.WebElement (session=\"a46edd5b0665a91560af215cf70c93b7\", element=\"a2cc4a9f-3672-4bc3-ab75-687a0129a5d9\")>,\n",
       " <selenium.webdriver.remote.webelement.WebElement (session=\"a46edd5b0665a91560af215cf70c93b7\", element=\"7632af8f-dc9d-4394-9e9f-4a5d49ade4fb\")>,\n",
       " <selenium.webdriver.remote.webelement.WebElement (session=\"a46edd5b0665a91560af215cf70c93b7\", element=\"874ae13d-5955-4dc3-9955-905d83e11bec\")>,\n",
       " <selenium.webdriver.remote.webelement.WebElement (session=\"a46edd5b0665a91560af215cf70c93b7\", element=\"e563bc25-b1f5-4e50-8203-a48887b0ae21\")>,\n",
       " <selenium.webdriver.remote.webelement.WebElement (session=\"a46edd5b0665a91560af215cf70c93b7\", element=\"dbe3986b-36bc-4a37-8c84-ea28bac2fdc2\")>,\n",
       " <selenium.webdriver.remote.webelement.WebElement (session=\"a46edd5b0665a91560af215cf70c93b7\", element=\"4a270a44-af77-4f7c-a55f-e6de79c0870c\")>,\n",
       " <selenium.webdriver.remote.webelement.WebElement (session=\"a46edd5b0665a91560af215cf70c93b7\", element=\"25069f16-62f5-46d5-86d0-248e8f4d549b\")>,\n",
       " <selenium.webdriver.remote.webelement.WebElement (session=\"a46edd5b0665a91560af215cf70c93b7\", element=\"bdbdf3d1-73d1-4da5-a796-6666a97ff09d\")>,\n",
       " <selenium.webdriver.remote.webelement.WebElement (session=\"a46edd5b0665a91560af215cf70c93b7\", element=\"52e7f902-f621-4fbb-8cb7-8303a8123088\")>,\n",
       " <selenium.webdriver.remote.webelement.WebElement (session=\"a46edd5b0665a91560af215cf70c93b7\", element=\"07367ea3-36cf-43f5-abab-109cdaf26c3f\")>,\n",
       " <selenium.webdriver.remote.webelement.WebElement (session=\"a46edd5b0665a91560af215cf70c93b7\", element=\"1a350281-1bb6-47fb-b385-8f5ff3dae66c\")>,\n",
       " <selenium.webdriver.remote.webelement.WebElement (session=\"a46edd5b0665a91560af215cf70c93b7\", element=\"39115459-8ee5-4d20-9bbb-d60cab4362ed\")>,\n",
       " <selenium.webdriver.remote.webelement.WebElement (session=\"a46edd5b0665a91560af215cf70c93b7\", element=\"3afe935a-1614-497f-83ad-716c7a3324d8\")>,\n",
       " <selenium.webdriver.remote.webelement.WebElement (session=\"a46edd5b0665a91560af215cf70c93b7\", element=\"900fec18-ff46-4bc1-92b7-c204baf790f2\")>,\n",
       " <selenium.webdriver.remote.webelement.WebElement (session=\"a46edd5b0665a91560af215cf70c93b7\", element=\"1dc88e46-ee07-4fb4-ab4d-16abd125c4d3\")>,\n",
       " <selenium.webdriver.remote.webelement.WebElement (session=\"a46edd5b0665a91560af215cf70c93b7\", element=\"5f361d5b-b709-4b58-a710-36e3bccf264a\")>,\n",
       " <selenium.webdriver.remote.webelement.WebElement (session=\"a46edd5b0665a91560af215cf70c93b7\", element=\"0767837a-d7bf-4c52-921a-e8b035045d88\")>,\n",
       " <selenium.webdriver.remote.webelement.WebElement (session=\"a46edd5b0665a91560af215cf70c93b7\", element=\"5293556d-9050-4065-a078-0fb9dec6e37a\")>,\n",
       " <selenium.webdriver.remote.webelement.WebElement (session=\"a46edd5b0665a91560af215cf70c93b7\", element=\"0ee327d6-c0a5-424d-b40f-7354f18c3dbc\")>,\n",
       " <selenium.webdriver.remote.webelement.WebElement (session=\"a46edd5b0665a91560af215cf70c93b7\", element=\"f618c92e-4c7c-4261-9e70-dcf620ba0ddb\")>,\n",
       " <selenium.webdriver.remote.webelement.WebElement (session=\"a46edd5b0665a91560af215cf70c93b7\", element=\"d5d13f24-215e-43ab-a2ca-a7cb256c7d04\")>,\n",
       " <selenium.webdriver.remote.webelement.WebElement (session=\"a46edd5b0665a91560af215cf70c93b7\", element=\"3f50fea1-f55a-416f-acc0-22053d60c44f\")>,\n",
       " <selenium.webdriver.remote.webelement.WebElement (session=\"a46edd5b0665a91560af215cf70c93b7\", element=\"ebd07c9a-9be4-4ca6-8000-bd0918ebf78b\")>,\n",
       " <selenium.webdriver.remote.webelement.WebElement (session=\"a46edd5b0665a91560af215cf70c93b7\", element=\"dd8fd972-544c-4779-ad87-d7cca896d4ee\")>,\n",
       " <selenium.webdriver.remote.webelement.WebElement (session=\"a46edd5b0665a91560af215cf70c93b7\", element=\"7dbff06d-5766-4d77-be17-a3197af40178\")>,\n",
       " <selenium.webdriver.remote.webelement.WebElement (session=\"a46edd5b0665a91560af215cf70c93b7\", element=\"04fa6da5-dfba-422f-b24b-48791587fbda\")>,\n",
       " <selenium.webdriver.remote.webelement.WebElement (session=\"a46edd5b0665a91560af215cf70c93b7\", element=\"67ed6b0f-fd46-4043-985f-5bbed63671ec\")>,\n",
       " <selenium.webdriver.remote.webelement.WebElement (session=\"a46edd5b0665a91560af215cf70c93b7\", element=\"8fe47136-97e6-46c3-ae0b-2ddab7243333\")>,\n",
       " <selenium.webdriver.remote.webelement.WebElement (session=\"a46edd5b0665a91560af215cf70c93b7\", element=\"ba6c9e7f-9f32-4c20-a38a-a83ac246ad59\")>,\n",
       " <selenium.webdriver.remote.webelement.WebElement (session=\"a46edd5b0665a91560af215cf70c93b7\", element=\"9a2bf487-5843-4d16-96cc-ba8ba2b38de9\")>,\n",
       " <selenium.webdriver.remote.webelement.WebElement (session=\"a46edd5b0665a91560af215cf70c93b7\", element=\"d51c6ffc-1d29-4037-91f2-c89ea31544b1\")>,\n",
       " <selenium.webdriver.remote.webelement.WebElement (session=\"a46edd5b0665a91560af215cf70c93b7\", element=\"97a9710a-b213-4ae8-a3b8-28ce1ac02028\")>,\n",
       " <selenium.webdriver.remote.webelement.WebElement (session=\"a46edd5b0665a91560af215cf70c93b7\", element=\"c2decc59-db3a-4cac-b559-1331b254d4e4\")>,\n",
       " <selenium.webdriver.remote.webelement.WebElement (session=\"a46edd5b0665a91560af215cf70c93b7\", element=\"f72ef822-e4ed-451d-93eb-af0ccc2739e1\")>,\n",
       " <selenium.webdriver.remote.webelement.WebElement (session=\"a46edd5b0665a91560af215cf70c93b7\", element=\"ced6338d-42cb-43da-86fe-f54e222a1d68\")>,\n",
       " <selenium.webdriver.remote.webelement.WebElement (session=\"a46edd5b0665a91560af215cf70c93b7\", element=\"ab868626-b1ae-430a-b304-d553c7659527\")>,\n",
       " <selenium.webdriver.remote.webelement.WebElement (session=\"a46edd5b0665a91560af215cf70c93b7\", element=\"2fc871ba-4427-49a8-999f-b675c09746e5\")>,\n",
       " <selenium.webdriver.remote.webelement.WebElement (session=\"a46edd5b0665a91560af215cf70c93b7\", element=\"944d1960-f70d-4d7b-bd94-8303614aa8be\")>,\n",
       " <selenium.webdriver.remote.webelement.WebElement (session=\"a46edd5b0665a91560af215cf70c93b7\", element=\"4d8e4d3b-ed1a-4e4b-8d24-6fba9baea5e7\")>,\n",
       " <selenium.webdriver.remote.webelement.WebElement (session=\"a46edd5b0665a91560af215cf70c93b7\", element=\"cf681bf9-6814-40fc-9779-14c217b3bb98\")>,\n",
       " <selenium.webdriver.remote.webelement.WebElement (session=\"a46edd5b0665a91560af215cf70c93b7\", element=\"ac1ffa72-5c72-4f03-b3a6-a24a9d81aad2\")>,\n",
       " <selenium.webdriver.remote.webelement.WebElement (session=\"a46edd5b0665a91560af215cf70c93b7\", element=\"21ffc498-22c9-4311-863f-1f0fc4804785\")>,\n",
       " <selenium.webdriver.remote.webelement.WebElement (session=\"a46edd5b0665a91560af215cf70c93b7\", element=\"abc294b9-5c16-468b-9c93-3d80916cb39a\")>,\n",
       " <selenium.webdriver.remote.webelement.WebElement (session=\"a46edd5b0665a91560af215cf70c93b7\", element=\"fa9fe55f-8f1e-4055-9e4d-a0f340d7fe3f\")>,\n",
       " <selenium.webdriver.remote.webelement.WebElement (session=\"a46edd5b0665a91560af215cf70c93b7\", element=\"084d88d4-5c86-4275-a6b7-402112bf1fa4\")>,\n",
       " <selenium.webdriver.remote.webelement.WebElement (session=\"a46edd5b0665a91560af215cf70c93b7\", element=\"8d432426-2c19-40de-a863-8c4964c3a058\")>,\n",
       " <selenium.webdriver.remote.webelement.WebElement (session=\"a46edd5b0665a91560af215cf70c93b7\", element=\"1d7b136b-7ebb-424d-b56e-ede34f55db62\")>,\n",
       " <selenium.webdriver.remote.webelement.WebElement (session=\"a46edd5b0665a91560af215cf70c93b7\", element=\"2ed3016a-0382-417e-af86-c8800e0d7d43\")>,\n",
       " <selenium.webdriver.remote.webelement.WebElement (session=\"a46edd5b0665a91560af215cf70c93b7\", element=\"4a5da60f-9ab0-4e0f-a03d-1ba88efb3ed2\")>,\n",
       " <selenium.webdriver.remote.webelement.WebElement (session=\"a46edd5b0665a91560af215cf70c93b7\", element=\"12ec01d3-9aed-4c7a-bb46-f7584ca2cf1d\")>,\n",
       " <selenium.webdriver.remote.webelement.WebElement (session=\"a46edd5b0665a91560af215cf70c93b7\", element=\"56389969-c661-4c2f-88f1-35562a180735\")>,\n",
       " <selenium.webdriver.remote.webelement.WebElement (session=\"a46edd5b0665a91560af215cf70c93b7\", element=\"f4d32fa5-90e4-4682-880b-ad70a09b2c2a\")>,\n",
       " <selenium.webdriver.remote.webelement.WebElement (session=\"a46edd5b0665a91560af215cf70c93b7\", element=\"6066102c-1cdd-4219-972e-4f320eb990f8\")>,\n",
       " <selenium.webdriver.remote.webelement.WebElement (session=\"a46edd5b0665a91560af215cf70c93b7\", element=\"b9c58d8e-7f1b-4092-a31b-51c59aee2612\")>,\n",
       " <selenium.webdriver.remote.webelement.WebElement (session=\"a46edd5b0665a91560af215cf70c93b7\", element=\"a28d7e81-1cf5-47de-b03b-f2707988ce47\")>,\n",
       " <selenium.webdriver.remote.webelement.WebElement (session=\"a46edd5b0665a91560af215cf70c93b7\", element=\"475f2533-aaa7-4047-90f3-abfec4a5129a\")>,\n",
       " <selenium.webdriver.remote.webelement.WebElement (session=\"a46edd5b0665a91560af215cf70c93b7\", element=\"877350a7-0733-492a-b1f5-914d55c38efd\")>,\n",
       " <selenium.webdriver.remote.webelement.WebElement (session=\"a46edd5b0665a91560af215cf70c93b7\", element=\"39fc15d1-96ed-47b5-8712-892fe13f96df\")>,\n",
       " <selenium.webdriver.remote.webelement.WebElement (session=\"a46edd5b0665a91560af215cf70c93b7\", element=\"edb4964f-0735-40d5-9187-01a8c3a146bd\")>,\n",
       " <selenium.webdriver.remote.webelement.WebElement (session=\"a46edd5b0665a91560af215cf70c93b7\", element=\"18dd8fbd-def3-4d08-bb55-6f79d7d27449\")>,\n",
       " <selenium.webdriver.remote.webelement.WebElement (session=\"a46edd5b0665a91560af215cf70c93b7\", element=\"a68b1ed5-9073-4859-bf32-42fe0e2a2f1e\")>,\n",
       " <selenium.webdriver.remote.webelement.WebElement (session=\"a46edd5b0665a91560af215cf70c93b7\", element=\"5d2ad66a-6d3e-4a31-8afa-e5331326ba79\")>,\n",
       " <selenium.webdriver.remote.webelement.WebElement (session=\"a46edd5b0665a91560af215cf70c93b7\", element=\"13c2427b-4939-4d6f-9b07-e9e922be6214\")>,\n",
       " <selenium.webdriver.remote.webelement.WebElement (session=\"a46edd5b0665a91560af215cf70c93b7\", element=\"102091d3-de5c-43fa-8e87-e9b2e85844d0\")>,\n",
       " <selenium.webdriver.remote.webelement.WebElement (session=\"a46edd5b0665a91560af215cf70c93b7\", element=\"08a76ccd-8646-4883-92b6-1a937dd1f06c\")>,\n",
       " <selenium.webdriver.remote.webelement.WebElement (session=\"a46edd5b0665a91560af215cf70c93b7\", element=\"05deaebf-741f-4a1f-b9c8-7639283581b2\")>,\n",
       " <selenium.webdriver.remote.webelement.WebElement (session=\"a46edd5b0665a91560af215cf70c93b7\", element=\"0da72987-a480-4a88-91f7-3ed9058abdfa\")>]"
      ]
     },
     "execution_count": 44,
     "metadata": {},
     "output_type": "execute_result"
    }
   ],
   "source": [
    "header2=browser.find_elements(\"xpath\",\"//div[@class='td-wrap-in']\")\n",
    "header2\n"
   ]
  },
  {
   "cell_type": "code",
   "execution_count": 45,
   "id": "ad6fe661",
   "metadata": {},
   "outputs": [
    {
     "data": {
      "text/plain": [
       "['97.6', '100', '100', '100', '99.4', '66.9', '76.9', '100', '100']"
      ]
     },
     "execution_count": 45,
     "metadata": {},
     "output_type": "execute_result"
    }
   ],
   "source": [
    "#PARSING DATA\n",
    "value_head=[]\n",
    "for data in header2:\n",
    "    #get the text data\n",
    "    temp=data.text\n",
    "    value_head.append(temp)\n",
    "value=value_head[41:50]\n",
    "value"
   ]
  },
  {
   "cell_type": "code",
   "execution_count": 49,
   "id": "a2debd52",
   "metadata": {},
   "outputs": [
    {
     "data": {
      "text/plain": [
       "{'Name': 'Harvard University',\n",
       " 'Location': 'Cambridge, United States',\n",
       " 'Rank': '5',\n",
       " 'Overall Score': '97.6',\n",
       " 'Academic Reputation': '100',\n",
       " 'Employer Reputation': '100',\n",
       " 'Citations per Faculty': '100',\n",
       " 'Faculty Student Ratio': '99.4',\n",
       " 'International Students Ratio': '66.9',\n",
       " 'International Faculty Ratio': '76.9',\n",
       " 'International Research Network\\nUnweighted': '100',\n",
       " 'Employment Outcomes\\nUnweighted': '100'}"
      ]
     },
     "execution_count": 49,
     "metadata": {},
     "output_type": "execute_result"
    }
   ],
   "source": [
    "d={}\n",
    "d['Name']=value_head[40]\n",
    "d['Location']=loc[4]\n",
    "d['Rank']=RANK[4]\n",
    "for i in range(len(column_head)):\n",
    "    d[column_head[i]]=value[i]\n",
    "d"
   ]
  },
  {
   "cell_type": "code",
   "execution_count": 50,
   "id": "5a305873",
   "metadata": {},
   "outputs": [
    {
     "data": {
      "text/plain": [
       "'{\"Name\": \"Harvard University\", \"Location\": \"Cambridge, United States\", \"Rank\": \"5\", \"Overall Score\": \"97.6\", \"Academic Reputation\": \"100\", \"Employer Reputation\": \"100\", \"Citations per Faculty\": \"100\", \"Faculty Student Ratio\": \"99.4\", \"International Students Ratio\": \"66.9\", \"International Faculty Ratio\": \"76.9\", \"International Research Network\\\\nUnweighted\": \"100\", \"Employment Outcomes\\\\nUnweighted\": \"100\"}'"
      ]
     },
     "execution_count": 50,
     "metadata": {},
     "output_type": "execute_result"
    }
   ],
   "source": [
    "s1=json.dumps(d)\n",
    "s1"
   ]
  },
  {
   "cell_type": "code",
   "execution_count": 51,
   "id": "28d836b6",
   "metadata": {},
   "outputs": [],
   "source": [
    "with open('Harvard University.json','w') as f:\n",
    "    json.dump(d,f)\n"
   ]
  },
  {
   "cell_type": "code",
   "execution_count": null,
   "id": "81c07b8a",
   "metadata": {},
   "outputs": [],
   "source": []
  }
 ],
 "metadata": {
  "kernelspec": {
   "display_name": "Python 3 (ipykernel)",
   "language": "python",
   "name": "python3"
  },
  "language_info": {
   "codemirror_mode": {
    "name": "ipython",
    "version": 3
   },
   "file_extension": ".py",
   "mimetype": "text/x-python",
   "name": "python",
   "nbconvert_exporter": "python",
   "pygments_lexer": "ipython3",
   "version": "3.9.12"
  }
 },
 "nbformat": 4,
 "nbformat_minor": 5
}
