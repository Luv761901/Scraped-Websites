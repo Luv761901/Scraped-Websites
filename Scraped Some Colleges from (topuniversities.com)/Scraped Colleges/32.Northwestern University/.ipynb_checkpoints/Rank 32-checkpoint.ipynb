{
 "cells": [
  {
   "cell_type": "code",
   "execution_count": 1,
   "id": "5c044101",
   "metadata": {},
   "outputs": [],
   "source": [
    "from selenium import webdriver\n",
    "from selenium.webdriver.chrome.service import Service\n",
    "import pandas as pd\n",
    "import json\n"
   ]
  },
  {
   "cell_type": "code",
   "execution_count": 2,
   "id": "0cb45151",
   "metadata": {},
   "outputs": [],
   "source": [
    "path = Service('C:\\chromedriver.exe')\n"
   ]
  },
  {
   "cell_type": "code",
   "execution_count": 3,
   "id": "404a65fc",
   "metadata": {},
   "outputs": [],
   "source": [
    "# set path for the driver\n",
    "browser = webdriver.Chrome(service = path)"
   ]
  },
  {
   "cell_type": "code",
   "execution_count": 4,
   "id": "a62328a8",
   "metadata": {},
   "outputs": [],
   "source": [
    "\n",
    "url = \"https://www.topuniversities.com/university-rankings/world-university-rankings/2023\""
   ]
  },
  {
   "cell_type": "code",
   "execution_count": 5,
   "id": "52deab67",
   "metadata": {},
   "outputs": [],
   "source": [
    "# open the page url ion chrome\n",
    "browser.get(url)\n"
   ]
  },
  {
   "cell_type": "code",
   "execution_count": 6,
   "id": "3c379cd7",
   "metadata": {},
   "outputs": [
    {
     "data": {
      "text/plain": [
       "[<selenium.webdriver.remote.webelement.WebElement (session=\"bad4de3ba2b51a6dd5c5ad84f9f5f6b0\", element=\"352c707a-f913-42a2-abdb-d0cd9ed9b1b1\")>,\n",
       " <selenium.webdriver.remote.webelement.WebElement (session=\"bad4de3ba2b51a6dd5c5ad84f9f5f6b0\", element=\"a41640dc-ba87-4a91-a508-e2812277d44a\")>,\n",
       " <selenium.webdriver.remote.webelement.WebElement (session=\"bad4de3ba2b51a6dd5c5ad84f9f5f6b0\", element=\"7408457e-2d52-485c-a3b7-394b5b7ddc6b\")>,\n",
       " <selenium.webdriver.remote.webelement.WebElement (session=\"bad4de3ba2b51a6dd5c5ad84f9f5f6b0\", element=\"be858c71-7ba5-409f-a6d7-716404a82104\")>,\n",
       " <selenium.webdriver.remote.webelement.WebElement (session=\"bad4de3ba2b51a6dd5c5ad84f9f5f6b0\", element=\"ea82944c-873b-4aba-ae0c-2daafc10f1e7\")>,\n",
       " <selenium.webdriver.remote.webelement.WebElement (session=\"bad4de3ba2b51a6dd5c5ad84f9f5f6b0\", element=\"669a9b50-7cdc-49d0-8dce-15b758840a05\")>,\n",
       " <selenium.webdriver.remote.webelement.WebElement (session=\"bad4de3ba2b51a6dd5c5ad84f9f5f6b0\", element=\"c3ef7011-b760-4b6b-92f9-7845a64115e3\")>,\n",
       " <selenium.webdriver.remote.webelement.WebElement (session=\"bad4de3ba2b51a6dd5c5ad84f9f5f6b0\", element=\"9fd5ed3e-871c-4efd-8d79-766ac486fbfe\")>,\n",
       " <selenium.webdriver.remote.webelement.WebElement (session=\"bad4de3ba2b51a6dd5c5ad84f9f5f6b0\", element=\"c4ad964a-e706-4d3c-9e07-dbcfca2141d0\")>,\n",
       " <selenium.webdriver.remote.webelement.WebElement (session=\"bad4de3ba2b51a6dd5c5ad84f9f5f6b0\", element=\"586a108b-7ac8-4ec6-9123-e0943d25f105\")>,\n",
       " <selenium.webdriver.remote.webelement.WebElement (session=\"bad4de3ba2b51a6dd5c5ad84f9f5f6b0\", element=\"28784e2b-2cae-4869-a816-cc6132d968ff\")>,\n",
       " <selenium.webdriver.remote.webelement.WebElement (session=\"bad4de3ba2b51a6dd5c5ad84f9f5f6b0\", element=\"c2c9e901-8fd2-4d79-a74b-6d8b685bef9c\")>,\n",
       " <selenium.webdriver.remote.webelement.WebElement (session=\"bad4de3ba2b51a6dd5c5ad84f9f5f6b0\", element=\"2272c9ee-b32b-4104-a530-3de2b1e3b1d5\")>,\n",
       " <selenium.webdriver.remote.webelement.WebElement (session=\"bad4de3ba2b51a6dd5c5ad84f9f5f6b0\", element=\"ded69345-f807-4de5-891f-5dbad89151ed\")>,\n",
       " <selenium.webdriver.remote.webelement.WebElement (session=\"bad4de3ba2b51a6dd5c5ad84f9f5f6b0\", element=\"68416153-21aa-48f5-85ed-634ca881550f\")>,\n",
       " <selenium.webdriver.remote.webelement.WebElement (session=\"bad4de3ba2b51a6dd5c5ad84f9f5f6b0\", element=\"0686496e-c8fe-4a47-bbfb-3655c71f2fe7\")>,\n",
       " <selenium.webdriver.remote.webelement.WebElement (session=\"bad4de3ba2b51a6dd5c5ad84f9f5f6b0\", element=\"4b13a3c6-062f-47dd-9e2e-d54037e26440\")>,\n",
       " <selenium.webdriver.remote.webelement.WebElement (session=\"bad4de3ba2b51a6dd5c5ad84f9f5f6b0\", element=\"e91fef9d-b1d7-4a97-8fe2-4eb4babc42fc\")>,\n",
       " <selenium.webdriver.remote.webelement.WebElement (session=\"bad4de3ba2b51a6dd5c5ad84f9f5f6b0\", element=\"9ed208c7-3182-424d-8487-33f1c35e854c\")>,\n",
       " <selenium.webdriver.remote.webelement.WebElement (session=\"bad4de3ba2b51a6dd5c5ad84f9f5f6b0\", element=\"4e7bd61d-a83c-477f-ac56-fe4d44284dbf\")>]"
      ]
     },
     "execution_count": 6,
     "metadata": {},
     "output_type": "execute_result"
    }
   ],
   "source": [
    "\n",
    "l1=browser.find_elements(\"xpath\",\"//div[@class='location ']\")\n",
    "l1"
   ]
  },
  {
   "cell_type": "code",
   "execution_count": 7,
   "id": "f6903cc0",
   "metadata": {},
   "outputs": [
    {
     "data": {
      "text/plain": [
       "['Montreal, Canada',\n",
       " 'Evanston, United States',\n",
       " 'Parkville, Australia',\n",
       " 'Shanghai, China (Mainland)',\n",
       " 'Toronto, Canada',\n",
       " 'Kyoto, Japan',\n",
       " 'London, United Kingdom',\n",
       " 'Hong Kong SAR, Hong Kong SAR',\n",
       " 'New York City, United States',\n",
       " 'Hong Kong SAR, Hong Kong SAR']"
      ]
     },
     "execution_count": 7,
     "metadata": {},
     "output_type": "execute_result"
    }
   ],
   "source": [
    "loc=[]\n",
    "for data in l1:\n",
    "    #get the text data\n",
    "    temp=data.text\n",
    "    loc.append(temp)\n",
    "loc=loc[10:]\n",
    "loc"
   ]
  },
  {
   "cell_type": "code",
   "execution_count": 8,
   "id": "c65c034d",
   "metadata": {},
   "outputs": [
    {
     "data": {
      "text/plain": [
       "[<selenium.webdriver.remote.webelement.WebElement (session=\"bad4de3ba2b51a6dd5c5ad84f9f5f6b0\", element=\"659ef454-906e-49ae-a6f2-537f81cea385\")>,\n",
       " <selenium.webdriver.remote.webelement.WebElement (session=\"bad4de3ba2b51a6dd5c5ad84f9f5f6b0\", element=\"ec89823e-0f39-4d93-830f-67333e13f3d8\")>,\n",
       " <selenium.webdriver.remote.webelement.WebElement (session=\"bad4de3ba2b51a6dd5c5ad84f9f5f6b0\", element=\"7f41c0c0-d78e-471f-aaaf-e1de8c676553\")>,\n",
       " <selenium.webdriver.remote.webelement.WebElement (session=\"bad4de3ba2b51a6dd5c5ad84f9f5f6b0\", element=\"f659ab20-8052-4c69-afbe-1062f7a1e30d\")>,\n",
       " <selenium.webdriver.remote.webelement.WebElement (session=\"bad4de3ba2b51a6dd5c5ad84f9f5f6b0\", element=\"80ff7799-2463-4ac3-9083-e9984794c9fe\")>,\n",
       " <selenium.webdriver.remote.webelement.WebElement (session=\"bad4de3ba2b51a6dd5c5ad84f9f5f6b0\", element=\"aa232539-a425-4624-b886-b512ca41d796\")>,\n",
       " <selenium.webdriver.remote.webelement.WebElement (session=\"bad4de3ba2b51a6dd5c5ad84f9f5f6b0\", element=\"7c772a7a-d378-4c65-a290-f20b61e9c6ce\")>,\n",
       " <selenium.webdriver.remote.webelement.WebElement (session=\"bad4de3ba2b51a6dd5c5ad84f9f5f6b0\", element=\"42a8127f-408f-4f4a-8d27-01638e7564f1\")>,\n",
       " <selenium.webdriver.remote.webelement.WebElement (session=\"bad4de3ba2b51a6dd5c5ad84f9f5f6b0\", element=\"edc635db-b125-4138-a378-ccdcafbf292d\")>,\n",
       " <selenium.webdriver.remote.webelement.WebElement (session=\"bad4de3ba2b51a6dd5c5ad84f9f5f6b0\", element=\"bfe20bd7-48d5-464c-9949-0edad095d19f\")>]"
      ]
     },
     "execution_count": 8,
     "metadata": {},
     "output_type": "execute_result"
    }
   ],
   "source": [
    "l2=browser.find_elements(\"xpath\",\"//div[@class='_univ-rank ']\")\n",
    "l2"
   ]
  },
  {
   "cell_type": "code",
   "execution_count": 9,
   "id": "e1d5abcb",
   "metadata": {},
   "outputs": [
    {
     "data": {
      "text/plain": [
       "['31', '32', '33', '=34', '=34', '36', '37', '38', '39', '40']"
      ]
     },
     "execution_count": 9,
     "metadata": {},
     "output_type": "execute_result"
    }
   ],
   "source": [
    "\n",
    "RANK=[]\n",
    "for data in l2:\n",
    "    #get the text data\n",
    "    temp=data.text\n",
    "    RANK.append(temp)\n",
    "RANK"
   ]
  },
  {
   "cell_type": "code",
   "execution_count": 10,
   "id": "aefb2649",
   "metadata": {},
   "outputs": [
    {
     "data": {
      "text/plain": [
       "[<selenium.webdriver.remote.webelement.WebElement (session=\"bad4de3ba2b51a6dd5c5ad84f9f5f6b0\", element=\"a5f0ad7e-1e5e-42c1-b089-a1022cc9665c\")>,\n",
       " <selenium.webdriver.remote.webelement.WebElement (session=\"bad4de3ba2b51a6dd5c5ad84f9f5f6b0\", element=\"c7320b01-eaed-4916-a66a-c8e9cab1154b\")>,\n",
       " <selenium.webdriver.remote.webelement.WebElement (session=\"bad4de3ba2b51a6dd5c5ad84f9f5f6b0\", element=\"222612fd-b6a1-4c0d-9d94-e2612837e8c8\")>,\n",
       " <selenium.webdriver.remote.webelement.WebElement (session=\"bad4de3ba2b51a6dd5c5ad84f9f5f6b0\", element=\"ec84ea5e-a4a7-4984-b5ad-2040ba50b8a1\")>,\n",
       " <selenium.webdriver.remote.webelement.WebElement (session=\"bad4de3ba2b51a6dd5c5ad84f9f5f6b0\", element=\"b75a2fb6-f316-44bd-be94-a8ac953f982a\")>,\n",
       " <selenium.webdriver.remote.webelement.WebElement (session=\"bad4de3ba2b51a6dd5c5ad84f9f5f6b0\", element=\"5e8b29fd-3fdf-491e-b3cb-8912934d2878\")>,\n",
       " <selenium.webdriver.remote.webelement.WebElement (session=\"bad4de3ba2b51a6dd5c5ad84f9f5f6b0\", element=\"7eb87931-ad88-4924-8012-613b6aa37627\")>,\n",
       " <selenium.webdriver.remote.webelement.WebElement (session=\"bad4de3ba2b51a6dd5c5ad84f9f5f6b0\", element=\"9e8ae80f-543f-4248-a489-d7ce824b947c\")>,\n",
       " <selenium.webdriver.remote.webelement.WebElement (session=\"bad4de3ba2b51a6dd5c5ad84f9f5f6b0\", element=\"c2ff5cc9-1fab-4748-819a-355e2440f5d1\")>]"
      ]
     },
     "execution_count": 10,
     "metadata": {},
     "output_type": "execute_result"
    }
   ],
   "source": [
    "# GET EACH COLLEGE SPECIFICATION HEADERS\n",
    "header=browser.find_elements(\"xpath\",\"//div[@class='_click-function_ind']\")\n",
    "header\n"
   ]
  },
  {
   "cell_type": "code",
   "execution_count": 11,
   "id": "2f6428be",
   "metadata": {},
   "outputs": [
    {
     "data": {
      "text/plain": [
       "['Overall Score',\n",
       " 'Academic Reputation',\n",
       " 'Employer Reputation',\n",
       " 'Citations per Faculty',\n",
       " 'Faculty Student Ratio',\n",
       " 'International Students Ratio',\n",
       " 'International Faculty Ratio',\n",
       " 'International Research Network\\nUnweighted',\n",
       " 'Employment Outcomes\\nUnweighted']"
      ]
     },
     "execution_count": 11,
     "metadata": {},
     "output_type": "execute_result"
    }
   ],
   "source": [
    "#PARSING DATA\n",
    "column_head=[]\n",
    "for data in header:\n",
    "    #get the text data\n",
    "    temp=data.text\n",
    "    column_head.append(temp)\n",
    "column_head"
   ]
  },
  {
   "cell_type": "code",
   "execution_count": 12,
   "id": "58eca80d",
   "metadata": {},
   "outputs": [
    {
     "data": {
      "text/plain": [
       "[<selenium.webdriver.remote.webelement.WebElement (session=\"bad4de3ba2b51a6dd5c5ad84f9f5f6b0\", element=\"4f3358e2-3955-46f9-8b6e-85b143977a22\")>,\n",
       " <selenium.webdriver.remote.webelement.WebElement (session=\"bad4de3ba2b51a6dd5c5ad84f9f5f6b0\", element=\"42b81c09-4729-4fe4-aa73-d588d859a192\")>,\n",
       " <selenium.webdriver.remote.webelement.WebElement (session=\"bad4de3ba2b51a6dd5c5ad84f9f5f6b0\", element=\"2e101b1b-4f6c-43f1-a740-23d20e5d5808\")>,\n",
       " <selenium.webdriver.remote.webelement.WebElement (session=\"bad4de3ba2b51a6dd5c5ad84f9f5f6b0\", element=\"0661c54c-1dc8-4e2a-8973-54fe342783a3\")>,\n",
       " <selenium.webdriver.remote.webelement.WebElement (session=\"bad4de3ba2b51a6dd5c5ad84f9f5f6b0\", element=\"7a1b3b75-4fb1-456b-a750-67be80e9502f\")>,\n",
       " <selenium.webdriver.remote.webelement.WebElement (session=\"bad4de3ba2b51a6dd5c5ad84f9f5f6b0\", element=\"17404230-4765-4698-acbf-0b76733c2069\")>,\n",
       " <selenium.webdriver.remote.webelement.WebElement (session=\"bad4de3ba2b51a6dd5c5ad84f9f5f6b0\", element=\"cfa53cea-cef5-4547-a332-2a050ca3d0c6\")>,\n",
       " <selenium.webdriver.remote.webelement.WebElement (session=\"bad4de3ba2b51a6dd5c5ad84f9f5f6b0\", element=\"99feb20a-32d7-4cd2-93ee-18ca898a6cd2\")>,\n",
       " <selenium.webdriver.remote.webelement.WebElement (session=\"bad4de3ba2b51a6dd5c5ad84f9f5f6b0\", element=\"d00f7ce1-4ac7-4b27-9afd-415715c0fb61\")>,\n",
       " <selenium.webdriver.remote.webelement.WebElement (session=\"bad4de3ba2b51a6dd5c5ad84f9f5f6b0\", element=\"08e01aa5-5b1f-4689-b39a-d89bfb2d4068\")>,\n",
       " <selenium.webdriver.remote.webelement.WebElement (session=\"bad4de3ba2b51a6dd5c5ad84f9f5f6b0\", element=\"5b33e54b-5083-4dae-a30e-5d5db0d9375e\")>,\n",
       " <selenium.webdriver.remote.webelement.WebElement (session=\"bad4de3ba2b51a6dd5c5ad84f9f5f6b0\", element=\"4a713fad-440c-496f-b1e9-2b6be7b651fb\")>,\n",
       " <selenium.webdriver.remote.webelement.WebElement (session=\"bad4de3ba2b51a6dd5c5ad84f9f5f6b0\", element=\"b281c793-6098-44e4-8b9e-e57765b09735\")>,\n",
       " <selenium.webdriver.remote.webelement.WebElement (session=\"bad4de3ba2b51a6dd5c5ad84f9f5f6b0\", element=\"d6e02baa-77c6-40c8-b563-3887129efc28\")>,\n",
       " <selenium.webdriver.remote.webelement.WebElement (session=\"bad4de3ba2b51a6dd5c5ad84f9f5f6b0\", element=\"58419867-8870-43e1-8d35-b6830a3c69db\")>,\n",
       " <selenium.webdriver.remote.webelement.WebElement (session=\"bad4de3ba2b51a6dd5c5ad84f9f5f6b0\", element=\"d09a41e3-8dde-4427-b307-16ebadc06696\")>,\n",
       " <selenium.webdriver.remote.webelement.WebElement (session=\"bad4de3ba2b51a6dd5c5ad84f9f5f6b0\", element=\"77e39601-7f2d-4173-aecd-d6be4f11939f\")>,\n",
       " <selenium.webdriver.remote.webelement.WebElement (session=\"bad4de3ba2b51a6dd5c5ad84f9f5f6b0\", element=\"5188a5ca-a429-46ce-bd5d-d9cd67a8b625\")>,\n",
       " <selenium.webdriver.remote.webelement.WebElement (session=\"bad4de3ba2b51a6dd5c5ad84f9f5f6b0\", element=\"a5439ae9-18d0-4aed-9678-cb001c0a96d8\")>,\n",
       " <selenium.webdriver.remote.webelement.WebElement (session=\"bad4de3ba2b51a6dd5c5ad84f9f5f6b0\", element=\"fee24b2f-cab7-40d0-b53f-9d228fe91e7f\")>,\n",
       " <selenium.webdriver.remote.webelement.WebElement (session=\"bad4de3ba2b51a6dd5c5ad84f9f5f6b0\", element=\"d16316b6-48de-47ca-beec-2f3b7b6c5501\")>,\n",
       " <selenium.webdriver.remote.webelement.WebElement (session=\"bad4de3ba2b51a6dd5c5ad84f9f5f6b0\", element=\"7e423ccc-a415-48d1-b6d5-73ecf2f6adf2\")>,\n",
       " <selenium.webdriver.remote.webelement.WebElement (session=\"bad4de3ba2b51a6dd5c5ad84f9f5f6b0\", element=\"757cfb2c-c6c5-4e84-9707-fda4a8123dfb\")>,\n",
       " <selenium.webdriver.remote.webelement.WebElement (session=\"bad4de3ba2b51a6dd5c5ad84f9f5f6b0\", element=\"f6785982-64b6-4b5b-b684-eac90decb5e8\")>,\n",
       " <selenium.webdriver.remote.webelement.WebElement (session=\"bad4de3ba2b51a6dd5c5ad84f9f5f6b0\", element=\"7a3d968a-c7e9-4cb9-898a-97605ddddc01\")>,\n",
       " <selenium.webdriver.remote.webelement.WebElement (session=\"bad4de3ba2b51a6dd5c5ad84f9f5f6b0\", element=\"62dbcc5a-fd18-4206-afc7-a70315ac1985\")>,\n",
       " <selenium.webdriver.remote.webelement.WebElement (session=\"bad4de3ba2b51a6dd5c5ad84f9f5f6b0\", element=\"eaac04c9-8337-4395-bb06-55965f6edc1e\")>,\n",
       " <selenium.webdriver.remote.webelement.WebElement (session=\"bad4de3ba2b51a6dd5c5ad84f9f5f6b0\", element=\"eb862d99-713d-4af8-a975-9c8b61ceaed0\")>,\n",
       " <selenium.webdriver.remote.webelement.WebElement (session=\"bad4de3ba2b51a6dd5c5ad84f9f5f6b0\", element=\"ff898724-1403-4369-a733-3c58b733e150\")>,\n",
       " <selenium.webdriver.remote.webelement.WebElement (session=\"bad4de3ba2b51a6dd5c5ad84f9f5f6b0\", element=\"d3833c35-b84a-4515-8fe5-6fcb68805d7f\")>,\n",
       " <selenium.webdriver.remote.webelement.WebElement (session=\"bad4de3ba2b51a6dd5c5ad84f9f5f6b0\", element=\"d8e9ca42-5d2f-48d1-aeda-2dad4f1b9d09\")>,\n",
       " <selenium.webdriver.remote.webelement.WebElement (session=\"bad4de3ba2b51a6dd5c5ad84f9f5f6b0\", element=\"4e949354-e750-4439-b84b-2492a4564f81\")>,\n",
       " <selenium.webdriver.remote.webelement.WebElement (session=\"bad4de3ba2b51a6dd5c5ad84f9f5f6b0\", element=\"934381d2-10a7-478c-8e23-f00e322828ce\")>,\n",
       " <selenium.webdriver.remote.webelement.WebElement (session=\"bad4de3ba2b51a6dd5c5ad84f9f5f6b0\", element=\"da3932fe-f082-480a-a552-acefb2886c71\")>,\n",
       " <selenium.webdriver.remote.webelement.WebElement (session=\"bad4de3ba2b51a6dd5c5ad84f9f5f6b0\", element=\"81584b83-0feb-4b77-8f56-315f04affd63\")>,\n",
       " <selenium.webdriver.remote.webelement.WebElement (session=\"bad4de3ba2b51a6dd5c5ad84f9f5f6b0\", element=\"4036229b-d8dc-414d-8b10-f217389e121c\")>,\n",
       " <selenium.webdriver.remote.webelement.WebElement (session=\"bad4de3ba2b51a6dd5c5ad84f9f5f6b0\", element=\"1928d861-c957-4da7-9bb8-1849e517873f\")>,\n",
       " <selenium.webdriver.remote.webelement.WebElement (session=\"bad4de3ba2b51a6dd5c5ad84f9f5f6b0\", element=\"173ae001-2f06-4556-b082-7608ba534d52\")>,\n",
       " <selenium.webdriver.remote.webelement.WebElement (session=\"bad4de3ba2b51a6dd5c5ad84f9f5f6b0\", element=\"7b7c00b7-948c-4e06-8c12-6ee294b5c922\")>,\n",
       " <selenium.webdriver.remote.webelement.WebElement (session=\"bad4de3ba2b51a6dd5c5ad84f9f5f6b0\", element=\"79a33c45-3709-4839-83dd-03f88304b743\")>,\n",
       " <selenium.webdriver.remote.webelement.WebElement (session=\"bad4de3ba2b51a6dd5c5ad84f9f5f6b0\", element=\"217c3334-7125-45e5-89fa-cb15794083a2\")>,\n",
       " <selenium.webdriver.remote.webelement.WebElement (session=\"bad4de3ba2b51a6dd5c5ad84f9f5f6b0\", element=\"49d77f94-00c4-43d7-932b-33eb5baf0629\")>,\n",
       " <selenium.webdriver.remote.webelement.WebElement (session=\"bad4de3ba2b51a6dd5c5ad84f9f5f6b0\", element=\"507d73dd-173d-4edd-b9d5-71afda01fce8\")>,\n",
       " <selenium.webdriver.remote.webelement.WebElement (session=\"bad4de3ba2b51a6dd5c5ad84f9f5f6b0\", element=\"c907cd1c-70f6-4a79-bee9-9761dcf5e402\")>,\n",
       " <selenium.webdriver.remote.webelement.WebElement (session=\"bad4de3ba2b51a6dd5c5ad84f9f5f6b0\", element=\"ec0b7d67-4d82-4ecf-98fb-5de1503ce122\")>,\n",
       " <selenium.webdriver.remote.webelement.WebElement (session=\"bad4de3ba2b51a6dd5c5ad84f9f5f6b0\", element=\"5789e1b0-a303-4fdf-a43f-8b3956f715ee\")>,\n",
       " <selenium.webdriver.remote.webelement.WebElement (session=\"bad4de3ba2b51a6dd5c5ad84f9f5f6b0\", element=\"79d426ed-63e4-4a3b-aea3-1c0de7fe0e1a\")>,\n",
       " <selenium.webdriver.remote.webelement.WebElement (session=\"bad4de3ba2b51a6dd5c5ad84f9f5f6b0\", element=\"c7ee8d71-e00b-4cd3-8d6e-de026c0702d3\")>,\n",
       " <selenium.webdriver.remote.webelement.WebElement (session=\"bad4de3ba2b51a6dd5c5ad84f9f5f6b0\", element=\"d4ae606f-f2a7-4df4-bcfc-c1fe1bed175a\")>,\n",
       " <selenium.webdriver.remote.webelement.WebElement (session=\"bad4de3ba2b51a6dd5c5ad84f9f5f6b0\", element=\"b506ed36-bc09-47f5-9413-5e781e9e987b\")>,\n",
       " <selenium.webdriver.remote.webelement.WebElement (session=\"bad4de3ba2b51a6dd5c5ad84f9f5f6b0\", element=\"b3043a72-9876-4821-81f8-2b2935f622cf\")>,\n",
       " <selenium.webdriver.remote.webelement.WebElement (session=\"bad4de3ba2b51a6dd5c5ad84f9f5f6b0\", element=\"23b34f89-6055-40ff-a1d2-fa0e48411642\")>,\n",
       " <selenium.webdriver.remote.webelement.WebElement (session=\"bad4de3ba2b51a6dd5c5ad84f9f5f6b0\", element=\"c38f842c-0e68-4e99-bdec-c6c686e733ac\")>,\n",
       " <selenium.webdriver.remote.webelement.WebElement (session=\"bad4de3ba2b51a6dd5c5ad84f9f5f6b0\", element=\"e1baa04c-60ca-43df-8d94-143f57a19815\")>,\n",
       " <selenium.webdriver.remote.webelement.WebElement (session=\"bad4de3ba2b51a6dd5c5ad84f9f5f6b0\", element=\"a5257c00-5b1b-452a-8c8a-1c652e03ec1c\")>,\n",
       " <selenium.webdriver.remote.webelement.WebElement (session=\"bad4de3ba2b51a6dd5c5ad84f9f5f6b0\", element=\"3120eb2e-5745-43cb-a803-cff995d8c09d\")>,\n",
       " <selenium.webdriver.remote.webelement.WebElement (session=\"bad4de3ba2b51a6dd5c5ad84f9f5f6b0\", element=\"010e77f1-5720-467f-90cd-3262f4340d9e\")>,\n",
       " <selenium.webdriver.remote.webelement.WebElement (session=\"bad4de3ba2b51a6dd5c5ad84f9f5f6b0\", element=\"a7449255-719f-468f-a69b-7793d2b62039\")>,\n",
       " <selenium.webdriver.remote.webelement.WebElement (session=\"bad4de3ba2b51a6dd5c5ad84f9f5f6b0\", element=\"93c07f78-f2e9-4d93-a6c7-d7f3eea2d0f0\")>,\n",
       " <selenium.webdriver.remote.webelement.WebElement (session=\"bad4de3ba2b51a6dd5c5ad84f9f5f6b0\", element=\"7d31c4e3-5319-4f6b-82ff-6e86b3b973c7\")>,\n",
       " <selenium.webdriver.remote.webelement.WebElement (session=\"bad4de3ba2b51a6dd5c5ad84f9f5f6b0\", element=\"24624b39-6cca-4243-9a1c-f8fc91f64d5f\")>,\n",
       " <selenium.webdriver.remote.webelement.WebElement (session=\"bad4de3ba2b51a6dd5c5ad84f9f5f6b0\", element=\"74eee902-e7cb-4e96-aa4e-543a1971ee2d\")>,\n",
       " <selenium.webdriver.remote.webelement.WebElement (session=\"bad4de3ba2b51a6dd5c5ad84f9f5f6b0\", element=\"d42d4f37-78ed-4ed3-9cac-777d19ca1e94\")>,\n",
       " <selenium.webdriver.remote.webelement.WebElement (session=\"bad4de3ba2b51a6dd5c5ad84f9f5f6b0\", element=\"ae1e5180-b4d4-4660-99b3-daea488878bb\")>,\n",
       " <selenium.webdriver.remote.webelement.WebElement (session=\"bad4de3ba2b51a6dd5c5ad84f9f5f6b0\", element=\"8e173e5b-0bea-45a1-97bb-f81f88955017\")>,\n",
       " <selenium.webdriver.remote.webelement.WebElement (session=\"bad4de3ba2b51a6dd5c5ad84f9f5f6b0\", element=\"340950ad-b6d8-420e-9c1d-049b47eb22fa\")>,\n",
       " <selenium.webdriver.remote.webelement.WebElement (session=\"bad4de3ba2b51a6dd5c5ad84f9f5f6b0\", element=\"8d636ca3-56e9-4e1f-8692-9da8219fe3ad\")>,\n",
       " <selenium.webdriver.remote.webelement.WebElement (session=\"bad4de3ba2b51a6dd5c5ad84f9f5f6b0\", element=\"a2f992c1-5372-459a-ada2-5ac8907cec80\")>,\n",
       " <selenium.webdriver.remote.webelement.WebElement (session=\"bad4de3ba2b51a6dd5c5ad84f9f5f6b0\", element=\"e648d401-7790-4bce-832b-28368a6eb1be\")>,\n",
       " <selenium.webdriver.remote.webelement.WebElement (session=\"bad4de3ba2b51a6dd5c5ad84f9f5f6b0\", element=\"241972b4-dcff-42d3-bbaf-80c94952820b\")>,\n",
       " <selenium.webdriver.remote.webelement.WebElement (session=\"bad4de3ba2b51a6dd5c5ad84f9f5f6b0\", element=\"c266542d-f39b-4a18-a9c5-67e5eec2ed95\")>,\n",
       " <selenium.webdriver.remote.webelement.WebElement (session=\"bad4de3ba2b51a6dd5c5ad84f9f5f6b0\", element=\"6e0f0517-0228-4875-9ae2-8d747d7eb3fc\")>,\n",
       " <selenium.webdriver.remote.webelement.WebElement (session=\"bad4de3ba2b51a6dd5c5ad84f9f5f6b0\", element=\"38af4095-47ab-414c-a7f7-9ab1a41377c3\")>,\n",
       " <selenium.webdriver.remote.webelement.WebElement (session=\"bad4de3ba2b51a6dd5c5ad84f9f5f6b0\", element=\"841e30a1-656c-4662-b752-ab9f6260b9e1\")>,\n",
       " <selenium.webdriver.remote.webelement.WebElement (session=\"bad4de3ba2b51a6dd5c5ad84f9f5f6b0\", element=\"149ffe70-cd69-4493-8a18-a388d747c163\")>,\n",
       " <selenium.webdriver.remote.webelement.WebElement (session=\"bad4de3ba2b51a6dd5c5ad84f9f5f6b0\", element=\"67e6d8c7-321a-4596-89d0-21cfaa3de12e\")>,\n",
       " <selenium.webdriver.remote.webelement.WebElement (session=\"bad4de3ba2b51a6dd5c5ad84f9f5f6b0\", element=\"c88a2484-fa56-4827-a059-90a948f161f6\")>,\n",
       " <selenium.webdriver.remote.webelement.WebElement (session=\"bad4de3ba2b51a6dd5c5ad84f9f5f6b0\", element=\"115f595a-a840-4ea5-8cbd-a5a2fd8216c5\")>,\n",
       " <selenium.webdriver.remote.webelement.WebElement (session=\"bad4de3ba2b51a6dd5c5ad84f9f5f6b0\", element=\"13e06232-cbb0-46a1-8cf0-c15fd996abaf\")>,\n",
       " <selenium.webdriver.remote.webelement.WebElement (session=\"bad4de3ba2b51a6dd5c5ad84f9f5f6b0\", element=\"20996f2e-5597-441e-8e98-b3a15740f01b\")>,\n",
       " <selenium.webdriver.remote.webelement.WebElement (session=\"bad4de3ba2b51a6dd5c5ad84f9f5f6b0\", element=\"533f400d-8160-4165-8177-c71f467fff55\")>,\n",
       " <selenium.webdriver.remote.webelement.WebElement (session=\"bad4de3ba2b51a6dd5c5ad84f9f5f6b0\", element=\"14602fa5-8b86-4db5-99c4-6163aaa35864\")>,\n",
       " <selenium.webdriver.remote.webelement.WebElement (session=\"bad4de3ba2b51a6dd5c5ad84f9f5f6b0\", element=\"e7a8f4f8-07ab-47b6-ba25-628b3145e2ff\")>,\n",
       " <selenium.webdriver.remote.webelement.WebElement (session=\"bad4de3ba2b51a6dd5c5ad84f9f5f6b0\", element=\"bc8ae728-4fa3-4bc5-8151-6cb132647f15\")>,\n",
       " <selenium.webdriver.remote.webelement.WebElement (session=\"bad4de3ba2b51a6dd5c5ad84f9f5f6b0\", element=\"ec1087a1-f73c-482e-bf2f-d9f6e88dbbb8\")>,\n",
       " <selenium.webdriver.remote.webelement.WebElement (session=\"bad4de3ba2b51a6dd5c5ad84f9f5f6b0\", element=\"b5f7c975-ca20-424d-98b4-d358fff746b6\")>,\n",
       " <selenium.webdriver.remote.webelement.WebElement (session=\"bad4de3ba2b51a6dd5c5ad84f9f5f6b0\", element=\"35352934-cead-4eca-94bc-3cd419b90df7\")>,\n",
       " <selenium.webdriver.remote.webelement.WebElement (session=\"bad4de3ba2b51a6dd5c5ad84f9f5f6b0\", element=\"1e6c61cb-a7f0-4b22-9da4-c9b7abd3b597\")>,\n",
       " <selenium.webdriver.remote.webelement.WebElement (session=\"bad4de3ba2b51a6dd5c5ad84f9f5f6b0\", element=\"15758c3a-7be4-4b9a-bc11-06a4e7b1113c\")>,\n",
       " <selenium.webdriver.remote.webelement.WebElement (session=\"bad4de3ba2b51a6dd5c5ad84f9f5f6b0\", element=\"d975d85d-94db-4cc2-867b-8c08ecf95637\")>,\n",
       " <selenium.webdriver.remote.webelement.WebElement (session=\"bad4de3ba2b51a6dd5c5ad84f9f5f6b0\", element=\"cae5796d-926f-4494-9a1d-9dbc1e916110\")>,\n",
       " <selenium.webdriver.remote.webelement.WebElement (session=\"bad4de3ba2b51a6dd5c5ad84f9f5f6b0\", element=\"80a178f1-8ce7-49f8-9cc1-fcfdfba5ce08\")>,\n",
       " <selenium.webdriver.remote.webelement.WebElement (session=\"bad4de3ba2b51a6dd5c5ad84f9f5f6b0\", element=\"a34a8963-d4aa-4773-814f-c1a4458ad605\")>,\n",
       " <selenium.webdriver.remote.webelement.WebElement (session=\"bad4de3ba2b51a6dd5c5ad84f9f5f6b0\", element=\"4c1a13c9-66d4-4c63-bfd8-b30ec5e2517a\")>,\n",
       " <selenium.webdriver.remote.webelement.WebElement (session=\"bad4de3ba2b51a6dd5c5ad84f9f5f6b0\", element=\"b66921b0-ad85-4a29-bcca-743713b8277b\")>,\n",
       " <selenium.webdriver.remote.webelement.WebElement (session=\"bad4de3ba2b51a6dd5c5ad84f9f5f6b0\", element=\"31563ee2-7b08-495f-89c3-ae1ea52e5833\")>,\n",
       " <selenium.webdriver.remote.webelement.WebElement (session=\"bad4de3ba2b51a6dd5c5ad84f9f5f6b0\", element=\"7564302b-d72d-48bf-8696-be42810b2bd5\")>,\n",
       " <selenium.webdriver.remote.webelement.WebElement (session=\"bad4de3ba2b51a6dd5c5ad84f9f5f6b0\", element=\"4ffc8c19-af4d-472e-ae58-3c6bd9b8fc7f\")>,\n",
       " <selenium.webdriver.remote.webelement.WebElement (session=\"bad4de3ba2b51a6dd5c5ad84f9f5f6b0\", element=\"aa9fa09a-9c43-4040-bab3-f8d9ae68e61f\")>,\n",
       " <selenium.webdriver.remote.webelement.WebElement (session=\"bad4de3ba2b51a6dd5c5ad84f9f5f6b0\", element=\"fe981923-051c-472e-b2a7-b959e8e266bf\")>]"
      ]
     },
     "execution_count": 12,
     "metadata": {},
     "output_type": "execute_result"
    }
   ],
   "source": [
    "header2=browser.find_elements(\"xpath\",\"//div[@class='td-wrap-in']\")\n",
    "header2"
   ]
  },
  {
   "cell_type": "code",
   "execution_count": 13,
   "id": "79fc1b39",
   "metadata": {},
   "outputs": [
    {
     "data": {
      "text/plain": [
       "['81.8', '84.4', '71.9', '84.2', '98.3', '38.8', '40.5', '89', '98.4']"
      ]
     },
     "execution_count": 13,
     "metadata": {},
     "output_type": "execute_result"
    }
   ],
   "source": [
    "#PARSING DATA\n",
    "value_head=[]\n",
    "for data in header2:\n",
    "    #get the text data\n",
    "    temp=data.text\n",
    "    value_head.append(temp)\n",
    "value=value_head[11:20]\n",
    "value"
   ]
  },
  {
   "cell_type": "code",
   "execution_count": 14,
   "id": "446577ef",
   "metadata": {},
   "outputs": [
    {
     "data": {
      "text/plain": [
       "{'Name': 'Northwestern University',\n",
       " 'Location': 'Evanston, United States',\n",
       " 'Rank': '32',\n",
       " 'Overall Score': '81.8',\n",
       " 'Academic Reputation': '84.4',\n",
       " 'Employer Reputation': '71.9',\n",
       " 'Citations per Faculty': '84.2',\n",
       " 'Faculty Student Ratio': '98.3',\n",
       " 'International Students Ratio': '38.8',\n",
       " 'International Faculty Ratio': '40.5',\n",
       " 'International Research Network\\nUnweighted': '89',\n",
       " 'Employment Outcomes\\nUnweighted': '98.4'}"
      ]
     },
     "execution_count": 14,
     "metadata": {},
     "output_type": "execute_result"
    }
   ],
   "source": [
    "\n",
    "d={}\n",
    "d['Name']=value_head[10]\n",
    "d['Location']=loc[1]\n",
    "d['Rank']=RANK[1]\n",
    "for i in range(len(column_head)):\n",
    "    d[column_head[i]]=value[i]\n",
    "d"
   ]
  },
  {
   "cell_type": "code",
   "execution_count": 15,
   "id": "d7344094",
   "metadata": {},
   "outputs": [
    {
     "data": {
      "text/plain": [
       "'{\"Name\": \"Northwestern University\", \"Location\": \"Evanston, United States\", \"Rank\": \"32\", \"Overall Score\": \"81.8\", \"Academic Reputation\": \"84.4\", \"Employer Reputation\": \"71.9\", \"Citations per Faculty\": \"84.2\", \"Faculty Student Ratio\": \"98.3\", \"International Students Ratio\": \"38.8\", \"International Faculty Ratio\": \"40.5\", \"International Research Network\\\\nUnweighted\": \"89\", \"Employment Outcomes\\\\nUnweighted\": \"98.4\"}'"
      ]
     },
     "execution_count": 15,
     "metadata": {},
     "output_type": "execute_result"
    }
   ],
   "source": [
    "s1=json.dumps(d)\n",
    "s1"
   ]
  },
  {
   "cell_type": "code",
   "execution_count": 16,
   "id": "c5fb3042",
   "metadata": {},
   "outputs": [],
   "source": [
    "with open('Northwestern University.json','w') as f:\n",
    "    json.dump(d,f)\n"
   ]
  },
  {
   "cell_type": "code",
   "execution_count": null,
   "id": "be811d5f",
   "metadata": {},
   "outputs": [],
   "source": []
  },
  {
   "cell_type": "code",
   "execution_count": null,
   "id": "073f0100",
   "metadata": {},
   "outputs": [],
   "source": []
  }
 ],
 "metadata": {
  "kernelspec": {
   "display_name": "Python 3 (ipykernel)",
   "language": "python",
   "name": "python3"
  },
  "language_info": {
   "codemirror_mode": {
    "name": "ipython",
    "version": 3
   },
   "file_extension": ".py",
   "mimetype": "text/x-python",
   "name": "python",
   "nbconvert_exporter": "python",
   "pygments_lexer": "ipython3",
   "version": "3.9.12"
  }
 },
 "nbformat": 4,
 "nbformat_minor": 5
}
