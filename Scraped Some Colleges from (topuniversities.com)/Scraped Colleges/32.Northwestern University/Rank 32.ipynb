{
 "cells": [
  {
   "cell_type": "code",
   "execution_count": 3,
   "id": "5c044101",
   "metadata": {},
   "outputs": [],
   "source": [
    "from selenium import webdriver\n",
    "from selenium.webdriver.chrome.service import Service\n",
    "import pandas as pd\n",
    "import json\n"
   ]
  },
  {
   "cell_type": "code",
   "execution_count": 4,
   "id": "0cb45151",
   "metadata": {},
   "outputs": [],
   "source": [
    "path = Service('C:\\chromedriver.exe')\n"
   ]
  },
  {
   "cell_type": "code",
   "execution_count": 5,
   "id": "404a65fc",
   "metadata": {},
   "outputs": [],
   "source": [
    "# set path for the driver\n",
    "browser = webdriver.Chrome(service = path)"
   ]
  },
  {
   "cell_type": "code",
   "execution_count": 6,
   "id": "a62328a8",
   "metadata": {},
   "outputs": [],
   "source": [
    "\n",
    "url = \"https://www.topuniversities.com/university-rankings/world-university-rankings/2023\""
   ]
  },
  {
   "cell_type": "code",
   "execution_count": 7,
   "id": "52deab67",
   "metadata": {},
   "outputs": [],
   "source": [
    "# open the page url ion chrome\n",
    "browser.get(url)\n"
   ]
  },
  {
   "cell_type": "code",
   "execution_count": 8,
   "id": "aefb2649",
   "metadata": {},
   "outputs": [
    {
     "data": {
      "text/plain": [
       "[<selenium.webdriver.remote.webelement.WebElement (session=\"fd14fcd4150a9a9bf37c9148cbea886e\", element=\"8d5d23df-a385-40fc-aec5-aadf7ef9665e\")>,\n",
       " <selenium.webdriver.remote.webelement.WebElement (session=\"fd14fcd4150a9a9bf37c9148cbea886e\", element=\"6b79b59a-c4de-4590-8ad9-b566466a04a5\")>,\n",
       " <selenium.webdriver.remote.webelement.WebElement (session=\"fd14fcd4150a9a9bf37c9148cbea886e\", element=\"6fe7e8a9-47d9-4afe-a0af-285b81b82c14\")>,\n",
       " <selenium.webdriver.remote.webelement.WebElement (session=\"fd14fcd4150a9a9bf37c9148cbea886e\", element=\"1a2fa4ca-6882-4bd8-bcee-c9c5c850e12a\")>,\n",
       " <selenium.webdriver.remote.webelement.WebElement (session=\"fd14fcd4150a9a9bf37c9148cbea886e\", element=\"6c8bed65-83b5-419c-830f-67fabd10e925\")>,\n",
       " <selenium.webdriver.remote.webelement.WebElement (session=\"fd14fcd4150a9a9bf37c9148cbea886e\", element=\"086d15f7-16b2-4c15-92d6-fea9f4d3967f\")>,\n",
       " <selenium.webdriver.remote.webelement.WebElement (session=\"fd14fcd4150a9a9bf37c9148cbea886e\", element=\"6291d666-9721-402e-b16f-0cf25cd6049e\")>,\n",
       " <selenium.webdriver.remote.webelement.WebElement (session=\"fd14fcd4150a9a9bf37c9148cbea886e\", element=\"bc737aeb-8afb-4809-949b-4d81459be16c\")>,\n",
       " <selenium.webdriver.remote.webelement.WebElement (session=\"fd14fcd4150a9a9bf37c9148cbea886e\", element=\"b99fead9-9058-4c86-9e92-380683c964d4\")>]"
      ]
     },
     "execution_count": 8,
     "metadata": {},
     "output_type": "execute_result"
    }
   ],
   "source": [
    "# GET EACH COLLEGE SPECIFICATION HEADERS\n",
    "header=browser.find_elements(\"xpath\",\"//div[@class='_click-function_ind']\")\n",
    "header\n"
   ]
  },
  {
   "cell_type": "code",
   "execution_count": 9,
   "id": "2f6428be",
   "metadata": {},
   "outputs": [
    {
     "data": {
      "text/plain": [
       "['Overall Score',\n",
       " 'Academic Reputation',\n",
       " 'Employer Reputation',\n",
       " 'Citations per Faculty',\n",
       " 'Faculty Student Ratio',\n",
       " 'International Students Ratio',\n",
       " 'International Faculty Ratio',\n",
       " 'International Research Network\\nUnweighted',\n",
       " 'Employment Outcomes\\nUnweighted']"
      ]
     },
     "execution_count": 9,
     "metadata": {},
     "output_type": "execute_result"
    }
   ],
   "source": [
    "#PARSING DATA\n",
    "column_head=[]\n",
    "for data in header:\n",
    "    #get the text data\n",
    "    temp=data.text\n",
    "    column_head.append(temp)\n",
    "column_head"
   ]
  },
  {
   "cell_type": "code",
   "execution_count": 10,
   "id": "58eca80d",
   "metadata": {},
   "outputs": [
    {
     "data": {
      "text/plain": [
       "[<selenium.webdriver.remote.webelement.WebElement (session=\"fd14fcd4150a9a9bf37c9148cbea886e\", element=\"00a28671-3bd8-40f7-80b3-b5d85504d363\")>,\n",
       " <selenium.webdriver.remote.webelement.WebElement (session=\"fd14fcd4150a9a9bf37c9148cbea886e\", element=\"c17aa3f9-9ceb-414c-804f-7ed7e734974c\")>,\n",
       " <selenium.webdriver.remote.webelement.WebElement (session=\"fd14fcd4150a9a9bf37c9148cbea886e\", element=\"a94a500b-b5f2-476f-bee3-387690b2a89f\")>,\n",
       " <selenium.webdriver.remote.webelement.WebElement (session=\"fd14fcd4150a9a9bf37c9148cbea886e\", element=\"eff4e408-876d-4f75-aa77-c515c0bbb062\")>,\n",
       " <selenium.webdriver.remote.webelement.WebElement (session=\"fd14fcd4150a9a9bf37c9148cbea886e\", element=\"775daaa7-401f-4f3f-97d0-c77f1028fe1f\")>,\n",
       " <selenium.webdriver.remote.webelement.WebElement (session=\"fd14fcd4150a9a9bf37c9148cbea886e\", element=\"d6cd5fc2-82c4-400f-878e-fa51a5e86f61\")>,\n",
       " <selenium.webdriver.remote.webelement.WebElement (session=\"fd14fcd4150a9a9bf37c9148cbea886e\", element=\"d6554e3c-a511-46c4-8433-1bb4f94bf0ae\")>,\n",
       " <selenium.webdriver.remote.webelement.WebElement (session=\"fd14fcd4150a9a9bf37c9148cbea886e\", element=\"3816d489-5303-4e06-9437-ef6803d709b5\")>,\n",
       " <selenium.webdriver.remote.webelement.WebElement (session=\"fd14fcd4150a9a9bf37c9148cbea886e\", element=\"297f27f8-817f-4dd3-aea8-36a28b23899f\")>,\n",
       " <selenium.webdriver.remote.webelement.WebElement (session=\"fd14fcd4150a9a9bf37c9148cbea886e\", element=\"1891b65c-8324-49fc-9ce1-838b96d9ea05\")>,\n",
       " <selenium.webdriver.remote.webelement.WebElement (session=\"fd14fcd4150a9a9bf37c9148cbea886e\", element=\"ad39ae05-6b72-438a-881c-2b9e15a85243\")>,\n",
       " <selenium.webdriver.remote.webelement.WebElement (session=\"fd14fcd4150a9a9bf37c9148cbea886e\", element=\"f10d487d-70a1-4670-b713-47a24db28c75\")>,\n",
       " <selenium.webdriver.remote.webelement.WebElement (session=\"fd14fcd4150a9a9bf37c9148cbea886e\", element=\"82550b69-1682-4fac-8153-c94f5db6fae6\")>,\n",
       " <selenium.webdriver.remote.webelement.WebElement (session=\"fd14fcd4150a9a9bf37c9148cbea886e\", element=\"85b594ca-25f6-4c8f-b845-aee0c190249d\")>,\n",
       " <selenium.webdriver.remote.webelement.WebElement (session=\"fd14fcd4150a9a9bf37c9148cbea886e\", element=\"0a0b35fc-1af9-4093-a890-4c79097ba0bf\")>,\n",
       " <selenium.webdriver.remote.webelement.WebElement (session=\"fd14fcd4150a9a9bf37c9148cbea886e\", element=\"eebbd1f8-faab-41b4-a677-a670747fd3e4\")>,\n",
       " <selenium.webdriver.remote.webelement.WebElement (session=\"fd14fcd4150a9a9bf37c9148cbea886e\", element=\"9d914b8d-41a0-49a4-a723-d0db159dd04d\")>,\n",
       " <selenium.webdriver.remote.webelement.WebElement (session=\"fd14fcd4150a9a9bf37c9148cbea886e\", element=\"f528fb63-b041-4d86-9c27-b2d34cab2ca8\")>,\n",
       " <selenium.webdriver.remote.webelement.WebElement (session=\"fd14fcd4150a9a9bf37c9148cbea886e\", element=\"3d43c342-3e13-45df-9524-9b2b9d198d60\")>,\n",
       " <selenium.webdriver.remote.webelement.WebElement (session=\"fd14fcd4150a9a9bf37c9148cbea886e\", element=\"02832f0d-3752-4ef6-94f6-5fd35857c8e2\")>,\n",
       " <selenium.webdriver.remote.webelement.WebElement (session=\"fd14fcd4150a9a9bf37c9148cbea886e\", element=\"0315eeab-9963-4fa7-abfc-63223f1677ce\")>,\n",
       " <selenium.webdriver.remote.webelement.WebElement (session=\"fd14fcd4150a9a9bf37c9148cbea886e\", element=\"25f568d8-c031-421a-97b9-5ec1b3c53a95\")>,\n",
       " <selenium.webdriver.remote.webelement.WebElement (session=\"fd14fcd4150a9a9bf37c9148cbea886e\", element=\"0430942b-f7bc-451b-9ae0-e4eff5eee5a7\")>,\n",
       " <selenium.webdriver.remote.webelement.WebElement (session=\"fd14fcd4150a9a9bf37c9148cbea886e\", element=\"d7ae0f74-7641-45b8-8638-0c2160a29605\")>,\n",
       " <selenium.webdriver.remote.webelement.WebElement (session=\"fd14fcd4150a9a9bf37c9148cbea886e\", element=\"d7090708-138c-462f-9713-99e80ea9c62e\")>,\n",
       " <selenium.webdriver.remote.webelement.WebElement (session=\"fd14fcd4150a9a9bf37c9148cbea886e\", element=\"164dda38-5cff-40ba-b9c1-be36b1fb6d77\")>,\n",
       " <selenium.webdriver.remote.webelement.WebElement (session=\"fd14fcd4150a9a9bf37c9148cbea886e\", element=\"a7acdf2b-c5a3-4976-8942-45697c567e6e\")>,\n",
       " <selenium.webdriver.remote.webelement.WebElement (session=\"fd14fcd4150a9a9bf37c9148cbea886e\", element=\"c69fd6a8-63fd-47be-8fb9-4268d6b937b1\")>,\n",
       " <selenium.webdriver.remote.webelement.WebElement (session=\"fd14fcd4150a9a9bf37c9148cbea886e\", element=\"2ac0de42-47ad-4fe0-a4eb-c99998c540ab\")>,\n",
       " <selenium.webdriver.remote.webelement.WebElement (session=\"fd14fcd4150a9a9bf37c9148cbea886e\", element=\"83c07ea1-8bb1-4280-88a0-9f5c0d8b7487\")>,\n",
       " <selenium.webdriver.remote.webelement.WebElement (session=\"fd14fcd4150a9a9bf37c9148cbea886e\", element=\"12b6d93d-8e17-4f02-beca-fc443c082dad\")>,\n",
       " <selenium.webdriver.remote.webelement.WebElement (session=\"fd14fcd4150a9a9bf37c9148cbea886e\", element=\"faadbca5-3c31-4127-a0b6-e770ee276c01\")>,\n",
       " <selenium.webdriver.remote.webelement.WebElement (session=\"fd14fcd4150a9a9bf37c9148cbea886e\", element=\"942255f5-ea11-490f-b650-73ce12f88b5f\")>,\n",
       " <selenium.webdriver.remote.webelement.WebElement (session=\"fd14fcd4150a9a9bf37c9148cbea886e\", element=\"97458c0e-b9ce-4211-b570-2ac7be8e1516\")>,\n",
       " <selenium.webdriver.remote.webelement.WebElement (session=\"fd14fcd4150a9a9bf37c9148cbea886e\", element=\"46da17f8-2f66-4a3d-9143-3bfbc9bf7133\")>,\n",
       " <selenium.webdriver.remote.webelement.WebElement (session=\"fd14fcd4150a9a9bf37c9148cbea886e\", element=\"5836a396-9e63-478e-b8c5-16c613f45393\")>,\n",
       " <selenium.webdriver.remote.webelement.WebElement (session=\"fd14fcd4150a9a9bf37c9148cbea886e\", element=\"edffcc21-3499-43a0-8510-2b715342fb09\")>,\n",
       " <selenium.webdriver.remote.webelement.WebElement (session=\"fd14fcd4150a9a9bf37c9148cbea886e\", element=\"557a2cff-860d-4fc3-9ce3-4a75a8a0a0ae\")>,\n",
       " <selenium.webdriver.remote.webelement.WebElement (session=\"fd14fcd4150a9a9bf37c9148cbea886e\", element=\"6ad7f095-9703-45e7-8785-c9855fa10d52\")>,\n",
       " <selenium.webdriver.remote.webelement.WebElement (session=\"fd14fcd4150a9a9bf37c9148cbea886e\", element=\"8679e4cb-3033-4799-9c92-672eb061dcb9\")>,\n",
       " <selenium.webdriver.remote.webelement.WebElement (session=\"fd14fcd4150a9a9bf37c9148cbea886e\", element=\"72639d01-1b06-4be8-8dd2-89da5c7e193f\")>,\n",
       " <selenium.webdriver.remote.webelement.WebElement (session=\"fd14fcd4150a9a9bf37c9148cbea886e\", element=\"06964e6f-a3ee-4977-a93e-01bbc8c51c41\")>,\n",
       " <selenium.webdriver.remote.webelement.WebElement (session=\"fd14fcd4150a9a9bf37c9148cbea886e\", element=\"ed4bf35f-3987-4212-8e64-8085c4411615\")>,\n",
       " <selenium.webdriver.remote.webelement.WebElement (session=\"fd14fcd4150a9a9bf37c9148cbea886e\", element=\"dd06a862-fb2f-4b8c-a37c-115507ec9d9b\")>,\n",
       " <selenium.webdriver.remote.webelement.WebElement (session=\"fd14fcd4150a9a9bf37c9148cbea886e\", element=\"08b7d58d-d45a-4020-aa44-534db82b0a0e\")>,\n",
       " <selenium.webdriver.remote.webelement.WebElement (session=\"fd14fcd4150a9a9bf37c9148cbea886e\", element=\"68a30351-acb2-42c1-bb75-ff40d69d19d9\")>,\n",
       " <selenium.webdriver.remote.webelement.WebElement (session=\"fd14fcd4150a9a9bf37c9148cbea886e\", element=\"d98c04e0-3276-451b-9f05-b9384c67ee00\")>,\n",
       " <selenium.webdriver.remote.webelement.WebElement (session=\"fd14fcd4150a9a9bf37c9148cbea886e\", element=\"0062166a-0f7f-43d6-9ecd-85942995801c\")>,\n",
       " <selenium.webdriver.remote.webelement.WebElement (session=\"fd14fcd4150a9a9bf37c9148cbea886e\", element=\"5e32bf96-6ac2-4e26-9cde-ece38233b471\")>,\n",
       " <selenium.webdriver.remote.webelement.WebElement (session=\"fd14fcd4150a9a9bf37c9148cbea886e\", element=\"f387beb6-b39e-4b74-a93b-bff172a8ba2a\")>,\n",
       " <selenium.webdriver.remote.webelement.WebElement (session=\"fd14fcd4150a9a9bf37c9148cbea886e\", element=\"5fe83d2b-8b2b-4423-b05e-0013c4f93290\")>,\n",
       " <selenium.webdriver.remote.webelement.WebElement (session=\"fd14fcd4150a9a9bf37c9148cbea886e\", element=\"b5a8f785-5380-4062-a124-20a7918c3283\")>,\n",
       " <selenium.webdriver.remote.webelement.WebElement (session=\"fd14fcd4150a9a9bf37c9148cbea886e\", element=\"82644eed-d09b-4385-ab8a-f25a4c68a366\")>,\n",
       " <selenium.webdriver.remote.webelement.WebElement (session=\"fd14fcd4150a9a9bf37c9148cbea886e\", element=\"0b9f8e56-b06a-4739-88a6-fc1f55605604\")>,\n",
       " <selenium.webdriver.remote.webelement.WebElement (session=\"fd14fcd4150a9a9bf37c9148cbea886e\", element=\"38a17611-4140-4021-99e7-61c89b631b21\")>,\n",
       " <selenium.webdriver.remote.webelement.WebElement (session=\"fd14fcd4150a9a9bf37c9148cbea886e\", element=\"65517527-da57-4167-9f22-46f6523a1968\")>,\n",
       " <selenium.webdriver.remote.webelement.WebElement (session=\"fd14fcd4150a9a9bf37c9148cbea886e\", element=\"b27bdfaa-e5a6-471c-8746-3ba3b1e91fba\")>,\n",
       " <selenium.webdriver.remote.webelement.WebElement (session=\"fd14fcd4150a9a9bf37c9148cbea886e\", element=\"ace37e29-9229-4bfd-b3a2-505f9f8bd963\")>,\n",
       " <selenium.webdriver.remote.webelement.WebElement (session=\"fd14fcd4150a9a9bf37c9148cbea886e\", element=\"daf13b98-da43-4706-821f-2d5d1f6e663d\")>,\n",
       " <selenium.webdriver.remote.webelement.WebElement (session=\"fd14fcd4150a9a9bf37c9148cbea886e\", element=\"9dfe2552-cc2b-4c02-9158-acfde9240f2e\")>,\n",
       " <selenium.webdriver.remote.webelement.WebElement (session=\"fd14fcd4150a9a9bf37c9148cbea886e\", element=\"6dd77715-0715-4c45-bbec-f8ff7a0301e3\")>,\n",
       " <selenium.webdriver.remote.webelement.WebElement (session=\"fd14fcd4150a9a9bf37c9148cbea886e\", element=\"b54b0ab4-84a6-4c07-a199-7122e3aa5a9d\")>,\n",
       " <selenium.webdriver.remote.webelement.WebElement (session=\"fd14fcd4150a9a9bf37c9148cbea886e\", element=\"0e6902f2-2af0-4ff8-b67c-ef445b2c272a\")>,\n",
       " <selenium.webdriver.remote.webelement.WebElement (session=\"fd14fcd4150a9a9bf37c9148cbea886e\", element=\"357a3070-7ab6-45d2-bd3d-8e4b38bab38e\")>,\n",
       " <selenium.webdriver.remote.webelement.WebElement (session=\"fd14fcd4150a9a9bf37c9148cbea886e\", element=\"77768e84-79ac-4aee-84d1-67ab1105b6ac\")>,\n",
       " <selenium.webdriver.remote.webelement.WebElement (session=\"fd14fcd4150a9a9bf37c9148cbea886e\", element=\"80a40c81-28ef-4487-a01e-f6665f26cf13\")>,\n",
       " <selenium.webdriver.remote.webelement.WebElement (session=\"fd14fcd4150a9a9bf37c9148cbea886e\", element=\"44a79173-0f5c-4162-91d7-91a35a83a8a5\")>,\n",
       " <selenium.webdriver.remote.webelement.WebElement (session=\"fd14fcd4150a9a9bf37c9148cbea886e\", element=\"4679a127-6805-4de6-90eb-e522ad20dce0\")>,\n",
       " <selenium.webdriver.remote.webelement.WebElement (session=\"fd14fcd4150a9a9bf37c9148cbea886e\", element=\"c5325b62-619c-49e6-812f-1308e0b4b48e\")>,\n",
       " <selenium.webdriver.remote.webelement.WebElement (session=\"fd14fcd4150a9a9bf37c9148cbea886e\", element=\"95752696-bcf0-4580-bc03-e04f380136a1\")>,\n",
       " <selenium.webdriver.remote.webelement.WebElement (session=\"fd14fcd4150a9a9bf37c9148cbea886e\", element=\"06542a1c-9d81-4d47-8afa-d028bbf18286\")>,\n",
       " <selenium.webdriver.remote.webelement.WebElement (session=\"fd14fcd4150a9a9bf37c9148cbea886e\", element=\"d8a3cebc-92d0-4595-be1d-5f7682680cec\")>,\n",
       " <selenium.webdriver.remote.webelement.WebElement (session=\"fd14fcd4150a9a9bf37c9148cbea886e\", element=\"c01253a5-bbb2-4d61-a33e-0447e7561737\")>,\n",
       " <selenium.webdriver.remote.webelement.WebElement (session=\"fd14fcd4150a9a9bf37c9148cbea886e\", element=\"847cb246-ec56-4777-9214-520cfdc79690\")>,\n",
       " <selenium.webdriver.remote.webelement.WebElement (session=\"fd14fcd4150a9a9bf37c9148cbea886e\", element=\"e23db24b-de3e-437e-a79c-dec62b9f5973\")>,\n",
       " <selenium.webdriver.remote.webelement.WebElement (session=\"fd14fcd4150a9a9bf37c9148cbea886e\", element=\"a79c43ce-0593-41eb-9676-802499d9e413\")>,\n",
       " <selenium.webdriver.remote.webelement.WebElement (session=\"fd14fcd4150a9a9bf37c9148cbea886e\", element=\"c8022238-e7a6-4eab-baad-e70eb1cc1c71\")>,\n",
       " <selenium.webdriver.remote.webelement.WebElement (session=\"fd14fcd4150a9a9bf37c9148cbea886e\", element=\"41c097cf-7ca2-49f0-90d5-f6e0a438c313\")>,\n",
       " <selenium.webdriver.remote.webelement.WebElement (session=\"fd14fcd4150a9a9bf37c9148cbea886e\", element=\"dabe38d4-dc0e-47d1-b430-feeab610b921\")>,\n",
       " <selenium.webdriver.remote.webelement.WebElement (session=\"fd14fcd4150a9a9bf37c9148cbea886e\", element=\"18f744c6-d39f-430e-a354-69d84dbc8b9b\")>,\n",
       " <selenium.webdriver.remote.webelement.WebElement (session=\"fd14fcd4150a9a9bf37c9148cbea886e\", element=\"e19af076-4640-404e-b00f-e310e7765b24\")>,\n",
       " <selenium.webdriver.remote.webelement.WebElement (session=\"fd14fcd4150a9a9bf37c9148cbea886e\", element=\"f097c006-f40e-4af2-9cad-aad0e18affda\")>,\n",
       " <selenium.webdriver.remote.webelement.WebElement (session=\"fd14fcd4150a9a9bf37c9148cbea886e\", element=\"ef0e8972-c394-41e9-9cd4-ffadd2a5b5c4\")>,\n",
       " <selenium.webdriver.remote.webelement.WebElement (session=\"fd14fcd4150a9a9bf37c9148cbea886e\", element=\"ac043fb3-99db-4e56-a1fb-7af4cb8c908f\")>,\n",
       " <selenium.webdriver.remote.webelement.WebElement (session=\"fd14fcd4150a9a9bf37c9148cbea886e\", element=\"e3535f65-1441-40d1-9027-af15c3f62199\")>,\n",
       " <selenium.webdriver.remote.webelement.WebElement (session=\"fd14fcd4150a9a9bf37c9148cbea886e\", element=\"9942addc-bd72-4723-baff-6e9627310e9d\")>,\n",
       " <selenium.webdriver.remote.webelement.WebElement (session=\"fd14fcd4150a9a9bf37c9148cbea886e\", element=\"933bbb70-50da-494a-b4fa-222d4637993a\")>,\n",
       " <selenium.webdriver.remote.webelement.WebElement (session=\"fd14fcd4150a9a9bf37c9148cbea886e\", element=\"a3286da2-9a06-43b5-8efa-c17a28d62261\")>,\n",
       " <selenium.webdriver.remote.webelement.WebElement (session=\"fd14fcd4150a9a9bf37c9148cbea886e\", element=\"1054075b-7602-479a-9630-5cf5f4297efb\")>,\n",
       " <selenium.webdriver.remote.webelement.WebElement (session=\"fd14fcd4150a9a9bf37c9148cbea886e\", element=\"ebe5dc23-fe1c-45f1-8295-7e6f84c96480\")>,\n",
       " <selenium.webdriver.remote.webelement.WebElement (session=\"fd14fcd4150a9a9bf37c9148cbea886e\", element=\"34b84ab4-6f45-4eb4-ba46-900c8cef154b\")>,\n",
       " <selenium.webdriver.remote.webelement.WebElement (session=\"fd14fcd4150a9a9bf37c9148cbea886e\", element=\"6c4b3e20-01d9-40f4-9025-6424e22d059c\")>,\n",
       " <selenium.webdriver.remote.webelement.WebElement (session=\"fd14fcd4150a9a9bf37c9148cbea886e\", element=\"cab8613f-e443-44f9-874c-7c43e73394f1\")>,\n",
       " <selenium.webdriver.remote.webelement.WebElement (session=\"fd14fcd4150a9a9bf37c9148cbea886e\", element=\"ca709cb6-274f-44f7-a0e1-89a0fdec4fa8\")>,\n",
       " <selenium.webdriver.remote.webelement.WebElement (session=\"fd14fcd4150a9a9bf37c9148cbea886e\", element=\"d425d7f9-8b20-4073-937d-db4f7c449450\")>,\n",
       " <selenium.webdriver.remote.webelement.WebElement (session=\"fd14fcd4150a9a9bf37c9148cbea886e\", element=\"5fcae1cd-6592-4d34-83d4-668ef6dfc37f\")>,\n",
       " <selenium.webdriver.remote.webelement.WebElement (session=\"fd14fcd4150a9a9bf37c9148cbea886e\", element=\"53290f63-633d-47d0-b6bf-839c3d16498c\")>,\n",
       " <selenium.webdriver.remote.webelement.WebElement (session=\"fd14fcd4150a9a9bf37c9148cbea886e\", element=\"9a09d728-ebe6-4341-917b-f7716d811ab9\")>,\n",
       " <selenium.webdriver.remote.webelement.WebElement (session=\"fd14fcd4150a9a9bf37c9148cbea886e\", element=\"253b1107-c79e-42a8-ad8b-693304bb5e12\")>,\n",
       " <selenium.webdriver.remote.webelement.WebElement (session=\"fd14fcd4150a9a9bf37c9148cbea886e\", element=\"7fea0639-3810-49dc-8103-65fa8f7b53f6\")>]"
      ]
     },
     "execution_count": 10,
     "metadata": {},
     "output_type": "execute_result"
    }
   ],
   "source": [
    "header2=browser.find_elements(\"xpath\",\"//div[@class='td-wrap-in']\")\n",
    "header2"
   ]
  },
  {
   "cell_type": "code",
   "execution_count": 11,
   "id": "79fc1b39",
   "metadata": {},
   "outputs": [
    {
     "data": {
      "text/plain": [
       "['81.8', '84.4', '71.9', '84.2', '98.3', '38.8', '40.5', '89', '98.4']"
      ]
     },
     "execution_count": 11,
     "metadata": {},
     "output_type": "execute_result"
    }
   ],
   "source": [
    "#PARSING DATA\n",
    "value_head=[]\n",
    "for data in header2:\n",
    "    #get the text data\n",
    "    temp=data.text\n",
    "    value_head.append(temp)\n",
    "value_head=value_head[11:20]\n",
    "value_head"
   ]
  },
  {
   "cell_type": "code",
   "execution_count": 12,
   "id": "446577ef",
   "metadata": {},
   "outputs": [
    {
     "data": {
      "text/plain": [
       "{'Overall Score': '81.8',\n",
       " 'Academic Reputation': '84.4',\n",
       " 'Employer Reputation': '71.9',\n",
       " 'Citations per Faculty': '84.2',\n",
       " 'Faculty Student Ratio': '98.3',\n",
       " 'International Students Ratio': '38.8',\n",
       " 'International Faculty Ratio': '40.5',\n",
       " 'International Research Network\\nUnweighted': '89',\n",
       " 'Employment Outcomes\\nUnweighted': '98.4'}"
      ]
     },
     "execution_count": 12,
     "metadata": {},
     "output_type": "execute_result"
    }
   ],
   "source": [
    "\n",
    "d={}\n",
    "for i in range(len(column_head)):\n",
    "    d[column_head[i]]=value_head[i]\n",
    "d"
   ]
  },
  {
   "cell_type": "code",
   "execution_count": 13,
   "id": "d7344094",
   "metadata": {},
   "outputs": [
    {
     "data": {
      "text/plain": [
       "'{\"Overall Score\": \"81.8\", \"Academic Reputation\": \"84.4\", \"Employer Reputation\": \"71.9\", \"Citations per Faculty\": \"84.2\", \"Faculty Student Ratio\": \"98.3\", \"International Students Ratio\": \"38.8\", \"International Faculty Ratio\": \"40.5\", \"International Research Network\\\\nUnweighted\": \"89\", \"Employment Outcomes\\\\nUnweighted\": \"98.4\"}'"
      ]
     },
     "execution_count": 13,
     "metadata": {},
     "output_type": "execute_result"
    }
   ],
   "source": [
    "s1=json.dumps(d)\n",
    "s1"
   ]
  },
  {
   "cell_type": "code",
   "execution_count": 14,
   "id": "c5fb3042",
   "metadata": {},
   "outputs": [],
   "source": [
    "with open('Northwestern University.json','w') as f:\n",
    "    json.dump(d,f)\n"
   ]
  },
  {
   "cell_type": "code",
   "execution_count": null,
   "id": "be811d5f",
   "metadata": {},
   "outputs": [],
   "source": []
  },
  {
   "cell_type": "code",
   "execution_count": null,
   "id": "073f0100",
   "metadata": {},
   "outputs": [],
   "source": []
  }
 ],
 "metadata": {
  "kernelspec": {
   "display_name": "Python 3 (ipykernel)",
   "language": "python",
   "name": "python3"
  },
  "language_info": {
   "codemirror_mode": {
    "name": "ipython",
    "version": 3
   },
   "file_extension": ".py",
   "mimetype": "text/x-python",
   "name": "python",
   "nbconvert_exporter": "python",
   "pygments_lexer": "ipython3",
   "version": "3.9.12"
  }
 },
 "nbformat": 4,
 "nbformat_minor": 5
}
