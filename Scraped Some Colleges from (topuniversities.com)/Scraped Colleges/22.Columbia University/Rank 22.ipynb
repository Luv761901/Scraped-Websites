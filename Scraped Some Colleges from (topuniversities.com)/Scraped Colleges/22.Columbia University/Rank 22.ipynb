{
 "cells": [
  {
   "cell_type": "code",
   "execution_count": 1,
   "id": "e4cee76d",
   "metadata": {},
   "outputs": [],
   "source": [
    "from selenium import webdriver\n",
    "from selenium.webdriver.chrome.service import Service\n",
    "import pandas as pd\n",
    "import json"
   ]
  },
  {
   "cell_type": "code",
   "execution_count": 2,
   "id": "5a66d4b0",
   "metadata": {},
   "outputs": [],
   "source": [
    "path = Service('C:\\chromedriver.exe')"
   ]
  },
  {
   "cell_type": "code",
   "execution_count": 3,
   "id": "93a8c822",
   "metadata": {},
   "outputs": [],
   "source": [
    "# set path for the driver\n",
    "browser = webdriver.Chrome(service = path)"
   ]
  },
  {
   "cell_type": "code",
   "execution_count": 4,
   "id": "32415746",
   "metadata": {},
   "outputs": [],
   "source": [
    "url = \"https://www.topuniversities.com/university-rankings/world-university-rankings/2023\""
   ]
  },
  {
   "cell_type": "code",
   "execution_count": 5,
   "id": "46a620b6",
   "metadata": {},
   "outputs": [],
   "source": [
    "# open the page url ion chrome\n",
    "browser.get(url)"
   ]
  },
  {
   "cell_type": "code",
   "execution_count": 6,
   "id": "9a81a3a5",
   "metadata": {},
   "outputs": [
    {
     "data": {
      "text/plain": [
       "[<selenium.webdriver.remote.webelement.WebElement (session=\"f878ac394baebbbbde9dee9d108cd049\", element=\"5178fb50-9b6e-4fc4-8149-62a8526ec49c\")>,\n",
       " <selenium.webdriver.remote.webelement.WebElement (session=\"f878ac394baebbbbde9dee9d108cd049\", element=\"14bc7054-a980-48cc-96fc-52221499f563\")>,\n",
       " <selenium.webdriver.remote.webelement.WebElement (session=\"f878ac394baebbbbde9dee9d108cd049\", element=\"6e4219b8-26fb-4a6b-90e2-be7c3c9719ff\")>,\n",
       " <selenium.webdriver.remote.webelement.WebElement (session=\"f878ac394baebbbbde9dee9d108cd049\", element=\"990a9f2e-157f-4ed8-928e-ae5ad6e2d297\")>,\n",
       " <selenium.webdriver.remote.webelement.WebElement (session=\"f878ac394baebbbbde9dee9d108cd049\", element=\"5d227835-de27-4937-b559-57bafb16e116\")>,\n",
       " <selenium.webdriver.remote.webelement.WebElement (session=\"f878ac394baebbbbde9dee9d108cd049\", element=\"3b544d1d-e223-4723-9164-1231ef7e771c\")>,\n",
       " <selenium.webdriver.remote.webelement.WebElement (session=\"f878ac394baebbbbde9dee9d108cd049\", element=\"db6eaa3a-5cf6-4463-a54a-4c2e82592108\")>,\n",
       " <selenium.webdriver.remote.webelement.WebElement (session=\"f878ac394baebbbbde9dee9d108cd049\", element=\"40e08a42-8be0-4d32-aad3-b4253d772ca9\")>,\n",
       " <selenium.webdriver.remote.webelement.WebElement (session=\"f878ac394baebbbbde9dee9d108cd049\", element=\"c5dd08ec-b75c-4221-8428-31492babbf75\")>,\n",
       " <selenium.webdriver.remote.webelement.WebElement (session=\"f878ac394baebbbbde9dee9d108cd049\", element=\"c88d3f5b-0938-48e6-a49b-f18ed97d696b\")>,\n",
       " <selenium.webdriver.remote.webelement.WebElement (session=\"f878ac394baebbbbde9dee9d108cd049\", element=\"ed32b9d5-4d6d-487e-a006-f937493f22f3\")>,\n",
       " <selenium.webdriver.remote.webelement.WebElement (session=\"f878ac394baebbbbde9dee9d108cd049\", element=\"55008ae8-4a21-4dc4-9eee-55bdd9c2f247\")>,\n",
       " <selenium.webdriver.remote.webelement.WebElement (session=\"f878ac394baebbbbde9dee9d108cd049\", element=\"1bc98d64-1fd2-4617-81aa-1ae47dfc4a96\")>,\n",
       " <selenium.webdriver.remote.webelement.WebElement (session=\"f878ac394baebbbbde9dee9d108cd049\", element=\"cb100e04-2d2c-40f7-a71b-09aa7e01ede3\")>,\n",
       " <selenium.webdriver.remote.webelement.WebElement (session=\"f878ac394baebbbbde9dee9d108cd049\", element=\"0fb87d46-bb23-4986-b302-2c4540ceedb4\")>,\n",
       " <selenium.webdriver.remote.webelement.WebElement (session=\"f878ac394baebbbbde9dee9d108cd049\", element=\"38239f4d-6f56-472a-aafa-0a2338d97485\")>,\n",
       " <selenium.webdriver.remote.webelement.WebElement (session=\"f878ac394baebbbbde9dee9d108cd049\", element=\"1d79727f-4138-4187-9523-9536c41eaebe\")>,\n",
       " <selenium.webdriver.remote.webelement.WebElement (session=\"f878ac394baebbbbde9dee9d108cd049\", element=\"c8cfd44a-1bea-4d79-8ba5-5c7545078016\")>,\n",
       " <selenium.webdriver.remote.webelement.WebElement (session=\"f878ac394baebbbbde9dee9d108cd049\", element=\"c6e415b5-dabf-4cd1-85d2-e1f62bbbf8e1\")>,\n",
       " <selenium.webdriver.remote.webelement.WebElement (session=\"f878ac394baebbbbde9dee9d108cd049\", element=\"aa56729e-9ca4-4514-a019-b8884010b7e5\")>]"
      ]
     },
     "execution_count": 6,
     "metadata": {},
     "output_type": "execute_result"
    }
   ],
   "source": [
    "l1=browser.find_elements(\"xpath\",\"//div[@class='location ']\")\n",
    "l1"
   ]
  },
  {
   "cell_type": "code",
   "execution_count": 7,
   "id": "ecf2d7ee",
   "metadata": {},
   "outputs": [
    {
     "data": {
      "text/plain": [
       "[' Hong Kong SAR',\n",
       " 'New York City, United States',\n",
       " 'Tokyo, Japan',\n",
       " 'Baltimore, United States',\n",
       " 'Ann Arbor, United States',\n",
       " 'Paris, France',\n",
       " 'Berkeley, United States',\n",
       " 'Manchester, United Kingdom',\n",
       " 'Seoul, South Korea',\n",
       " 'Canberra, Australia']"
      ]
     },
     "execution_count": 7,
     "metadata": {},
     "output_type": "execute_result"
    }
   ],
   "source": [
    "loc=[]\n",
    "for data in l1:\n",
    "    #get the text data\n",
    "    temp=data.text\n",
    "    loc.append(temp)\n",
    "loc=loc[10:]\n",
    "loc"
   ]
  },
  {
   "cell_type": "code",
   "execution_count": 8,
   "id": "cadbb0f4",
   "metadata": {},
   "outputs": [
    {
     "data": {
      "text/plain": [
       "[<selenium.webdriver.remote.webelement.WebElement (session=\"f878ac394baebbbbde9dee9d108cd049\", element=\"0de48207-5200-4a3e-90cc-bf7cdad787b9\")>,\n",
       " <selenium.webdriver.remote.webelement.WebElement (session=\"f878ac394baebbbbde9dee9d108cd049\", element=\"b0246e81-f249-46eb-aa5c-99b9713e1e34\")>,\n",
       " <selenium.webdriver.remote.webelement.WebElement (session=\"f878ac394baebbbbde9dee9d108cd049\", element=\"afc48d6f-ae25-48ad-8296-3c098be78a3a\")>,\n",
       " <selenium.webdriver.remote.webelement.WebElement (session=\"f878ac394baebbbbde9dee9d108cd049\", element=\"328a12ed-6327-478f-97f6-9317a993b64b\")>,\n",
       " <selenium.webdriver.remote.webelement.WebElement (session=\"f878ac394baebbbbde9dee9d108cd049\", element=\"70b0b987-3a26-44e5-91ef-d52f05c58e02\")>,\n",
       " <selenium.webdriver.remote.webelement.WebElement (session=\"f878ac394baebbbbde9dee9d108cd049\", element=\"503cb652-c977-49e7-8d3a-01de36768e72\")>,\n",
       " <selenium.webdriver.remote.webelement.WebElement (session=\"f878ac394baebbbbde9dee9d108cd049\", element=\"b1ded647-5140-4221-be7c-8a564b7f76da\")>,\n",
       " <selenium.webdriver.remote.webelement.WebElement (session=\"f878ac394baebbbbde9dee9d108cd049\", element=\"6dff452e-7391-4fc0-b8eb-ad1dedc34bf5\")>,\n",
       " <selenium.webdriver.remote.webelement.WebElement (session=\"f878ac394baebbbbde9dee9d108cd049\", element=\"75c4533d-3c42-4961-9672-9ea7d8d812d2\")>,\n",
       " <selenium.webdriver.remote.webelement.WebElement (session=\"f878ac394baebbbbde9dee9d108cd049\", element=\"04acdcd6-77b7-4fc0-be51-89c74266e48f\")>]"
      ]
     },
     "execution_count": 8,
     "metadata": {},
     "output_type": "execute_result"
    }
   ],
   "source": [
    "l2=browser.find_elements(\"xpath\",\"//div[@class='_univ-rank ']\")\n",
    "l2"
   ]
  },
  {
   "cell_type": "code",
   "execution_count": 9,
   "id": "8a9200bd",
   "metadata": {},
   "outputs": [
    {
     "data": {
      "text/plain": [
       "['21', '22', '23', '24', '25', '26', '27', '28', '29', '30']"
      ]
     },
     "execution_count": 9,
     "metadata": {},
     "output_type": "execute_result"
    }
   ],
   "source": [
    "RANK=[]\n",
    "for data in l2:\n",
    "    #get the text data\n",
    "    temp=data.text\n",
    "    RANK.append(temp)\n",
    "RANK\n"
   ]
  },
  {
   "cell_type": "code",
   "execution_count": 10,
   "id": "33b53260",
   "metadata": {},
   "outputs": [
    {
     "data": {
      "text/plain": [
       "[<selenium.webdriver.remote.webelement.WebElement (session=\"f878ac394baebbbbde9dee9d108cd049\", element=\"dfc5ddff-c1d2-4d69-a59f-616d98468e2c\")>,\n",
       " <selenium.webdriver.remote.webelement.WebElement (session=\"f878ac394baebbbbde9dee9d108cd049\", element=\"dcacaaf6-b89c-4da9-8c8f-743d8453539c\")>,\n",
       " <selenium.webdriver.remote.webelement.WebElement (session=\"f878ac394baebbbbde9dee9d108cd049\", element=\"c3461dc7-528c-443f-9096-75bb2634eec6\")>,\n",
       " <selenium.webdriver.remote.webelement.WebElement (session=\"f878ac394baebbbbde9dee9d108cd049\", element=\"1644355d-22ef-43b7-a5da-d81cf7904025\")>,\n",
       " <selenium.webdriver.remote.webelement.WebElement (session=\"f878ac394baebbbbde9dee9d108cd049\", element=\"2497025d-e784-4b22-9e8a-97ac7bd5a882\")>,\n",
       " <selenium.webdriver.remote.webelement.WebElement (session=\"f878ac394baebbbbde9dee9d108cd049\", element=\"103360d0-b4ea-4248-8c8a-2e8d933af4c6\")>,\n",
       " <selenium.webdriver.remote.webelement.WebElement (session=\"f878ac394baebbbbde9dee9d108cd049\", element=\"2b3c1a33-2a47-47a3-ad9f-7fc9e63e3bf3\")>,\n",
       " <selenium.webdriver.remote.webelement.WebElement (session=\"f878ac394baebbbbde9dee9d108cd049\", element=\"1e81938d-58ed-4cfe-b00f-81cc018b5b71\")>,\n",
       " <selenium.webdriver.remote.webelement.WebElement (session=\"f878ac394baebbbbde9dee9d108cd049\", element=\"445e5f48-5542-455e-9022-9ac618b3ceab\")>]"
      ]
     },
     "execution_count": 10,
     "metadata": {},
     "output_type": "execute_result"
    }
   ],
   "source": [
    "# GET EACH COLLEGE SPECIFICATION HEADERS\n",
    "header=browser.find_elements(\"xpath\",\"//div[@class='_click-function_ind']\")\n",
    "header"
   ]
  },
  {
   "cell_type": "code",
   "execution_count": 11,
   "id": "74bef9ba",
   "metadata": {},
   "outputs": [
    {
     "data": {
      "text/plain": [
       "['Overall Score',\n",
       " 'Academic Reputation',\n",
       " 'Employer Reputation',\n",
       " 'Citations per Faculty',\n",
       " 'Faculty Student Ratio',\n",
       " 'International Students Ratio',\n",
       " 'International Faculty Ratio',\n",
       " 'International Research Network\\nUnweighted',\n",
       " 'Employment Outcomes\\nUnweighted']"
      ]
     },
     "execution_count": 11,
     "metadata": {},
     "output_type": "execute_result"
    }
   ],
   "source": [
    "#PARSING DATA\n",
    "column_head=[]\n",
    "for data in header:\n",
    "    #get the text data\n",
    "    temp=data.text\n",
    "    column_head.append(temp)\n",
    "column_head"
   ]
  },
  {
   "cell_type": "code",
   "execution_count": 12,
   "id": "92b2829a",
   "metadata": {},
   "outputs": [
    {
     "data": {
      "text/plain": [
       "[<selenium.webdriver.remote.webelement.WebElement (session=\"f878ac394baebbbbde9dee9d108cd049\", element=\"7ab860ff-55a2-41ac-827b-c1215958787c\")>,\n",
       " <selenium.webdriver.remote.webelement.WebElement (session=\"f878ac394baebbbbde9dee9d108cd049\", element=\"09da8064-e9d7-4d61-b411-2f9d1af9a2e6\")>,\n",
       " <selenium.webdriver.remote.webelement.WebElement (session=\"f878ac394baebbbbde9dee9d108cd049\", element=\"75e5f98a-5010-44dd-9130-16299668769c\")>,\n",
       " <selenium.webdriver.remote.webelement.WebElement (session=\"f878ac394baebbbbde9dee9d108cd049\", element=\"a66426c0-7a34-4cb9-863b-7d00051a3f74\")>,\n",
       " <selenium.webdriver.remote.webelement.WebElement (session=\"f878ac394baebbbbde9dee9d108cd049\", element=\"6879b858-e4ea-4c26-ab00-f9382f61b5b2\")>,\n",
       " <selenium.webdriver.remote.webelement.WebElement (session=\"f878ac394baebbbbde9dee9d108cd049\", element=\"60401a99-d722-4958-b4a0-5025e67dbcbb\")>,\n",
       " <selenium.webdriver.remote.webelement.WebElement (session=\"f878ac394baebbbbde9dee9d108cd049\", element=\"129223d9-3f79-4b7e-869e-fb6fdcaf8ee4\")>,\n",
       " <selenium.webdriver.remote.webelement.WebElement (session=\"f878ac394baebbbbde9dee9d108cd049\", element=\"0c5e7a19-3483-4d93-a7bf-55019f570619\")>,\n",
       " <selenium.webdriver.remote.webelement.WebElement (session=\"f878ac394baebbbbde9dee9d108cd049\", element=\"43c20100-a092-42ef-8d1e-fd20ae40b992\")>,\n",
       " <selenium.webdriver.remote.webelement.WebElement (session=\"f878ac394baebbbbde9dee9d108cd049\", element=\"cb4f75e1-d8ad-4d68-a112-dba49793d10d\")>,\n",
       " <selenium.webdriver.remote.webelement.WebElement (session=\"f878ac394baebbbbde9dee9d108cd049\", element=\"c8d55112-89af-4d81-8a7f-8ece7803a1c9\")>,\n",
       " <selenium.webdriver.remote.webelement.WebElement (session=\"f878ac394baebbbbde9dee9d108cd049\", element=\"2923e411-ae0a-4605-bec3-ddd52327245c\")>,\n",
       " <selenium.webdriver.remote.webelement.WebElement (session=\"f878ac394baebbbbde9dee9d108cd049\", element=\"3892551b-7a0f-4134-ab63-5cdd5ec118a8\")>,\n",
       " <selenium.webdriver.remote.webelement.WebElement (session=\"f878ac394baebbbbde9dee9d108cd049\", element=\"ff2a5c77-9320-4eb0-a139-220bbad98d2b\")>,\n",
       " <selenium.webdriver.remote.webelement.WebElement (session=\"f878ac394baebbbbde9dee9d108cd049\", element=\"7f22f304-d3ae-4d4b-8d17-1eab30bc4450\")>,\n",
       " <selenium.webdriver.remote.webelement.WebElement (session=\"f878ac394baebbbbde9dee9d108cd049\", element=\"cc2ca7a1-dcd1-48fb-9898-c429be74f767\")>,\n",
       " <selenium.webdriver.remote.webelement.WebElement (session=\"f878ac394baebbbbde9dee9d108cd049\", element=\"8444cd45-bdec-49d5-abf0-8e166d1824ac\")>,\n",
       " <selenium.webdriver.remote.webelement.WebElement (session=\"f878ac394baebbbbde9dee9d108cd049\", element=\"298b1816-9500-470c-95bc-063e618a55ce\")>,\n",
       " <selenium.webdriver.remote.webelement.WebElement (session=\"f878ac394baebbbbde9dee9d108cd049\", element=\"269f3309-84ae-495c-85a2-986c24fe0a0d\")>,\n",
       " <selenium.webdriver.remote.webelement.WebElement (session=\"f878ac394baebbbbde9dee9d108cd049\", element=\"8480b19d-d646-4f07-aa95-e42c22abef7f\")>,\n",
       " <selenium.webdriver.remote.webelement.WebElement (session=\"f878ac394baebbbbde9dee9d108cd049\", element=\"6b5f62ff-ac01-43fc-9bca-13d79bc05280\")>,\n",
       " <selenium.webdriver.remote.webelement.WebElement (session=\"f878ac394baebbbbde9dee9d108cd049\", element=\"0df1b79d-d8a1-4b4b-b70c-334a16f24300\")>,\n",
       " <selenium.webdriver.remote.webelement.WebElement (session=\"f878ac394baebbbbde9dee9d108cd049\", element=\"179609b3-6c54-4ec3-8a33-86ce615ea246\")>,\n",
       " <selenium.webdriver.remote.webelement.WebElement (session=\"f878ac394baebbbbde9dee9d108cd049\", element=\"0e28b44d-a28d-4247-b7ca-bd04064e2119\")>,\n",
       " <selenium.webdriver.remote.webelement.WebElement (session=\"f878ac394baebbbbde9dee9d108cd049\", element=\"00c35efc-fe43-484a-a95a-7c2dcbf1cff9\")>,\n",
       " <selenium.webdriver.remote.webelement.WebElement (session=\"f878ac394baebbbbde9dee9d108cd049\", element=\"364e37e0-7e18-40a4-8836-556dfd45fa55\")>,\n",
       " <selenium.webdriver.remote.webelement.WebElement (session=\"f878ac394baebbbbde9dee9d108cd049\", element=\"23d94c92-7222-4385-b9c7-827eb765a7b1\")>,\n",
       " <selenium.webdriver.remote.webelement.WebElement (session=\"f878ac394baebbbbde9dee9d108cd049\", element=\"a7cc7018-9f37-4929-a576-dd7ab76d358f\")>,\n",
       " <selenium.webdriver.remote.webelement.WebElement (session=\"f878ac394baebbbbde9dee9d108cd049\", element=\"d875200e-8294-4523-89cb-9a6297759419\")>,\n",
       " <selenium.webdriver.remote.webelement.WebElement (session=\"f878ac394baebbbbde9dee9d108cd049\", element=\"dc84423e-ce39-4675-9353-7720664007d1\")>,\n",
       " <selenium.webdriver.remote.webelement.WebElement (session=\"f878ac394baebbbbde9dee9d108cd049\", element=\"8b5a8f94-1b2c-453d-af31-bb56f708dc73\")>,\n",
       " <selenium.webdriver.remote.webelement.WebElement (session=\"f878ac394baebbbbde9dee9d108cd049\", element=\"3948b542-1f4c-474d-aa2e-2d687020fb1b\")>,\n",
       " <selenium.webdriver.remote.webelement.WebElement (session=\"f878ac394baebbbbde9dee9d108cd049\", element=\"bcdacb18-b08f-4e72-a1db-bbea7f6c9dc9\")>,\n",
       " <selenium.webdriver.remote.webelement.WebElement (session=\"f878ac394baebbbbde9dee9d108cd049\", element=\"200ec201-3af2-4f1f-814f-90c8203e9831\")>,\n",
       " <selenium.webdriver.remote.webelement.WebElement (session=\"f878ac394baebbbbde9dee9d108cd049\", element=\"ab28790f-b793-43e5-8b51-75cfe75ec767\")>,\n",
       " <selenium.webdriver.remote.webelement.WebElement (session=\"f878ac394baebbbbde9dee9d108cd049\", element=\"7c51e855-84b8-4eb6-bd7e-c28b67b1f7ac\")>,\n",
       " <selenium.webdriver.remote.webelement.WebElement (session=\"f878ac394baebbbbde9dee9d108cd049\", element=\"531fdc10-bdf0-47ac-86a0-6d3b279048de\")>,\n",
       " <selenium.webdriver.remote.webelement.WebElement (session=\"f878ac394baebbbbde9dee9d108cd049\", element=\"4e73ad2f-a70e-49a4-9f96-7641fd9b4764\")>,\n",
       " <selenium.webdriver.remote.webelement.WebElement (session=\"f878ac394baebbbbde9dee9d108cd049\", element=\"7da43037-e689-4ea8-93b0-cc1ae2695763\")>,\n",
       " <selenium.webdriver.remote.webelement.WebElement (session=\"f878ac394baebbbbde9dee9d108cd049\", element=\"eec16980-3248-4154-980b-449e4f5149d1\")>,\n",
       " <selenium.webdriver.remote.webelement.WebElement (session=\"f878ac394baebbbbde9dee9d108cd049\", element=\"421cc5f8-d938-414c-aab0-3dc9a6129d23\")>,\n",
       " <selenium.webdriver.remote.webelement.WebElement (session=\"f878ac394baebbbbde9dee9d108cd049\", element=\"90a5af28-62ef-4ced-bf42-cf88ccc968d7\")>,\n",
       " <selenium.webdriver.remote.webelement.WebElement (session=\"f878ac394baebbbbde9dee9d108cd049\", element=\"70415303-85ff-45ab-848b-ba7cb2be82ab\")>,\n",
       " <selenium.webdriver.remote.webelement.WebElement (session=\"f878ac394baebbbbde9dee9d108cd049\", element=\"fccf94bc-15a2-457a-90ea-01b9c91fd0fc\")>,\n",
       " <selenium.webdriver.remote.webelement.WebElement (session=\"f878ac394baebbbbde9dee9d108cd049\", element=\"ebb2bd98-972b-4c8d-b03f-36bcbf8ce16c\")>,\n",
       " <selenium.webdriver.remote.webelement.WebElement (session=\"f878ac394baebbbbde9dee9d108cd049\", element=\"2376550e-45ae-46da-baa8-b878de56cc90\")>,\n",
       " <selenium.webdriver.remote.webelement.WebElement (session=\"f878ac394baebbbbde9dee9d108cd049\", element=\"e2247a83-db70-43d5-a520-41108200e636\")>,\n",
       " <selenium.webdriver.remote.webelement.WebElement (session=\"f878ac394baebbbbde9dee9d108cd049\", element=\"ec5f8e83-dfc7-4349-a95c-f42bd354f826\")>,\n",
       " <selenium.webdriver.remote.webelement.WebElement (session=\"f878ac394baebbbbde9dee9d108cd049\", element=\"32666728-83ca-46a4-a999-d7779df5e240\")>,\n",
       " <selenium.webdriver.remote.webelement.WebElement (session=\"f878ac394baebbbbde9dee9d108cd049\", element=\"c6e524f1-5d2f-492e-9a85-8cb71a344f48\")>,\n",
       " <selenium.webdriver.remote.webelement.WebElement (session=\"f878ac394baebbbbde9dee9d108cd049\", element=\"9f36cfab-b565-408b-84f2-e8f83fb8f36f\")>,\n",
       " <selenium.webdriver.remote.webelement.WebElement (session=\"f878ac394baebbbbde9dee9d108cd049\", element=\"d9674156-7698-4752-912b-04ecd1736d48\")>,\n",
       " <selenium.webdriver.remote.webelement.WebElement (session=\"f878ac394baebbbbde9dee9d108cd049\", element=\"14a199f7-4471-4399-9114-fd72814da3ec\")>,\n",
       " <selenium.webdriver.remote.webelement.WebElement (session=\"f878ac394baebbbbde9dee9d108cd049\", element=\"f1529455-a30b-489d-a210-04b2ecb2f3b3\")>,\n",
       " <selenium.webdriver.remote.webelement.WebElement (session=\"f878ac394baebbbbde9dee9d108cd049\", element=\"0f509d2c-4da7-41f7-8f99-baf194fb4376\")>,\n",
       " <selenium.webdriver.remote.webelement.WebElement (session=\"f878ac394baebbbbde9dee9d108cd049\", element=\"dc2045af-7ae1-44db-8fea-0397eb4bf099\")>,\n",
       " <selenium.webdriver.remote.webelement.WebElement (session=\"f878ac394baebbbbde9dee9d108cd049\", element=\"301976c5-f660-4f8b-adf7-6253a3f3ff58\")>,\n",
       " <selenium.webdriver.remote.webelement.WebElement (session=\"f878ac394baebbbbde9dee9d108cd049\", element=\"13c5a3ca-37f9-4010-8700-adb106ad4988\")>,\n",
       " <selenium.webdriver.remote.webelement.WebElement (session=\"f878ac394baebbbbde9dee9d108cd049\", element=\"e34557cb-a04f-490a-a2e6-c4b9af416f64\")>,\n",
       " <selenium.webdriver.remote.webelement.WebElement (session=\"f878ac394baebbbbde9dee9d108cd049\", element=\"4c27a312-9ca3-41e7-9f8f-d1bcd4ff2480\")>,\n",
       " <selenium.webdriver.remote.webelement.WebElement (session=\"f878ac394baebbbbde9dee9d108cd049\", element=\"eca111d7-b1b2-453d-98dc-ab764265cbb6\")>,\n",
       " <selenium.webdriver.remote.webelement.WebElement (session=\"f878ac394baebbbbde9dee9d108cd049\", element=\"00c35183-aaf9-4563-86b1-c08b748025d8\")>,\n",
       " <selenium.webdriver.remote.webelement.WebElement (session=\"f878ac394baebbbbde9dee9d108cd049\", element=\"7175db5e-ea6b-4007-b93b-5657cec99b4c\")>,\n",
       " <selenium.webdriver.remote.webelement.WebElement (session=\"f878ac394baebbbbde9dee9d108cd049\", element=\"93d569cc-2508-49ef-a7c5-6d5e3d8fad85\")>,\n",
       " <selenium.webdriver.remote.webelement.WebElement (session=\"f878ac394baebbbbde9dee9d108cd049\", element=\"134aabd2-d363-44cb-959c-2b87fcc003c8\")>,\n",
       " <selenium.webdriver.remote.webelement.WebElement (session=\"f878ac394baebbbbde9dee9d108cd049\", element=\"7ca9f59a-8615-40d0-ab4d-d2831109ffaa\")>,\n",
       " <selenium.webdriver.remote.webelement.WebElement (session=\"f878ac394baebbbbde9dee9d108cd049\", element=\"ce181f31-d9ab-4d78-b528-026d2c5ee6de\")>,\n",
       " <selenium.webdriver.remote.webelement.WebElement (session=\"f878ac394baebbbbde9dee9d108cd049\", element=\"ae5bcc5d-7089-412c-abc6-f11991f00620\")>,\n",
       " <selenium.webdriver.remote.webelement.WebElement (session=\"f878ac394baebbbbde9dee9d108cd049\", element=\"f09dc7f3-eb82-4a94-af26-2427f4fc0738\")>,\n",
       " <selenium.webdriver.remote.webelement.WebElement (session=\"f878ac394baebbbbde9dee9d108cd049\", element=\"96e58472-16d2-4343-85bc-e5de4c7f1fb9\")>,\n",
       " <selenium.webdriver.remote.webelement.WebElement (session=\"f878ac394baebbbbde9dee9d108cd049\", element=\"0f5823af-bcd1-451f-9361-a6382ac7d193\")>,\n",
       " <selenium.webdriver.remote.webelement.WebElement (session=\"f878ac394baebbbbde9dee9d108cd049\", element=\"0e0f78af-337d-4a0d-b93e-f778d6f3673e\")>,\n",
       " <selenium.webdriver.remote.webelement.WebElement (session=\"f878ac394baebbbbde9dee9d108cd049\", element=\"2b06d224-9231-46e1-85b6-6f931e2175e6\")>,\n",
       " <selenium.webdriver.remote.webelement.WebElement (session=\"f878ac394baebbbbde9dee9d108cd049\", element=\"d640cbe3-d132-4aab-ac86-2aaba3e3711c\")>,\n",
       " <selenium.webdriver.remote.webelement.WebElement (session=\"f878ac394baebbbbde9dee9d108cd049\", element=\"dc882867-96bd-40f1-9e44-2906d344a36e\")>,\n",
       " <selenium.webdriver.remote.webelement.WebElement (session=\"f878ac394baebbbbde9dee9d108cd049\", element=\"bda20231-86b3-4d24-bde3-a6f911e63646\")>,\n",
       " <selenium.webdriver.remote.webelement.WebElement (session=\"f878ac394baebbbbde9dee9d108cd049\", element=\"4599a628-865d-4f90-8603-7118edada283\")>,\n",
       " <selenium.webdriver.remote.webelement.WebElement (session=\"f878ac394baebbbbde9dee9d108cd049\", element=\"f1810a6f-df38-4403-a5c0-f9901e8d6ee1\")>,\n",
       " <selenium.webdriver.remote.webelement.WebElement (session=\"f878ac394baebbbbde9dee9d108cd049\", element=\"055bf2dc-2778-4047-ab5a-10963507e3b8\")>,\n",
       " <selenium.webdriver.remote.webelement.WebElement (session=\"f878ac394baebbbbde9dee9d108cd049\", element=\"7c977c93-6646-4443-994a-a5dbc60dd81a\")>,\n",
       " <selenium.webdriver.remote.webelement.WebElement (session=\"f878ac394baebbbbde9dee9d108cd049\", element=\"06c5778d-1250-49fd-a90b-939e5a13a95c\")>,\n",
       " <selenium.webdriver.remote.webelement.WebElement (session=\"f878ac394baebbbbde9dee9d108cd049\", element=\"5fd9009d-1d3c-4591-bfbf-1759d741d985\")>,\n",
       " <selenium.webdriver.remote.webelement.WebElement (session=\"f878ac394baebbbbde9dee9d108cd049\", element=\"0ecea8f3-2b1c-49a3-812d-aef8adc4a3ec\")>,\n",
       " <selenium.webdriver.remote.webelement.WebElement (session=\"f878ac394baebbbbde9dee9d108cd049\", element=\"b3ddcac8-907e-49b7-ba1a-d04856e50cfc\")>,\n",
       " <selenium.webdriver.remote.webelement.WebElement (session=\"f878ac394baebbbbde9dee9d108cd049\", element=\"4ceeb624-4ebb-4284-801f-ca543cb8a69e\")>,\n",
       " <selenium.webdriver.remote.webelement.WebElement (session=\"f878ac394baebbbbde9dee9d108cd049\", element=\"e4b6ee97-2d2c-4f20-b77a-1ce7ec434cc5\")>,\n",
       " <selenium.webdriver.remote.webelement.WebElement (session=\"f878ac394baebbbbde9dee9d108cd049\", element=\"746f27f9-d0e1-4e43-a55f-9639110ed7ed\")>,\n",
       " <selenium.webdriver.remote.webelement.WebElement (session=\"f878ac394baebbbbde9dee9d108cd049\", element=\"4c19daf4-5d5f-4f25-af5a-bd70099f8607\")>,\n",
       " <selenium.webdriver.remote.webelement.WebElement (session=\"f878ac394baebbbbde9dee9d108cd049\", element=\"cacd1c02-e42e-495c-9b88-6e90ab55232e\")>,\n",
       " <selenium.webdriver.remote.webelement.WebElement (session=\"f878ac394baebbbbde9dee9d108cd049\", element=\"1ff2bc47-7c79-40e5-a7e5-ad54b1fd6528\")>,\n",
       " <selenium.webdriver.remote.webelement.WebElement (session=\"f878ac394baebbbbde9dee9d108cd049\", element=\"c8f9c431-330e-4582-9e04-227341ed3632\")>,\n",
       " <selenium.webdriver.remote.webelement.WebElement (session=\"f878ac394baebbbbde9dee9d108cd049\", element=\"12763010-e281-48fc-b320-9b478f1263aa\")>,\n",
       " <selenium.webdriver.remote.webelement.WebElement (session=\"f878ac394baebbbbde9dee9d108cd049\", element=\"b28d8f50-6d56-42e9-8605-fb2681d1bbf1\")>,\n",
       " <selenium.webdriver.remote.webelement.WebElement (session=\"f878ac394baebbbbde9dee9d108cd049\", element=\"c5424b19-0fb8-4c99-b21c-deb36a647715\")>,\n",
       " <selenium.webdriver.remote.webelement.WebElement (session=\"f878ac394baebbbbde9dee9d108cd049\", element=\"a5551b02-95f6-4b3d-947e-9d3f9247949c\")>,\n",
       " <selenium.webdriver.remote.webelement.WebElement (session=\"f878ac394baebbbbde9dee9d108cd049\", element=\"64744efa-b5f4-4fbb-aa7a-af9f8fc3e543\")>,\n",
       " <selenium.webdriver.remote.webelement.WebElement (session=\"f878ac394baebbbbde9dee9d108cd049\", element=\"ce3402f8-d8fa-4b04-85ac-01abbc0f95e8\")>,\n",
       " <selenium.webdriver.remote.webelement.WebElement (session=\"f878ac394baebbbbde9dee9d108cd049\", element=\"f9b65a5e-2d87-44cf-8529-66723eb49cc7\")>,\n",
       " <selenium.webdriver.remote.webelement.WebElement (session=\"f878ac394baebbbbde9dee9d108cd049\", element=\"6cb2b27c-2306-4ae4-83db-76ef11bd8773\")>,\n",
       " <selenium.webdriver.remote.webelement.WebElement (session=\"f878ac394baebbbbde9dee9d108cd049\", element=\"a99fcaae-449b-4bbb-beaf-3b9bde340fdb\")>]"
      ]
     },
     "execution_count": 12,
     "metadata": {},
     "output_type": "execute_result"
    }
   ],
   "source": [
    "header2=browser.find_elements(\"xpath\",\"//div[@class='td-wrap-in']\")\n",
    "header2"
   ]
  },
  {
   "cell_type": "code",
   "execution_count": 13,
   "id": "0c1d7a11",
   "metadata": {},
   "outputs": [
    {
     "data": {
      "text/plain": [
       "['86.7', '99.7', '98.1', '47.2', '100', '94.6', '47.6', '98.9', '99.8']"
      ]
     },
     "execution_count": 13,
     "metadata": {},
     "output_type": "execute_result"
    }
   ],
   "source": [
    "#PARSING DATA\n",
    "value_head=[]\n",
    "for data in header2:\n",
    "    #get the text data\n",
    "    temp=data.text\n",
    "    value_head.append(temp)\n",
    "value=value_head[11:20]\n",
    "value"
   ]
  },
  {
   "cell_type": "code",
   "execution_count": 14,
   "id": "bf0e5725",
   "metadata": {},
   "outputs": [
    {
     "data": {
      "text/plain": [
       "{'Name': 'Columbia University',\n",
       " 'Location': 'New York City, United States',\n",
       " 'Rank': '22',\n",
       " 'Overall Score': '86.7',\n",
       " 'Academic Reputation': '99.7',\n",
       " 'Employer Reputation': '98.1',\n",
       " 'Citations per Faculty': '47.2',\n",
       " 'Faculty Student Ratio': '100',\n",
       " 'International Students Ratio': '94.6',\n",
       " 'International Faculty Ratio': '47.6',\n",
       " 'International Research Network\\nUnweighted': '98.9',\n",
       " 'Employment Outcomes\\nUnweighted': '99.8'}"
      ]
     },
     "execution_count": 14,
     "metadata": {},
     "output_type": "execute_result"
    }
   ],
   "source": [
    "d={}\n",
    "d['Name']=value_head[10]\n",
    "d['Location']=loc[1]\n",
    "d['Rank']=RANK[1]\n",
    "for i in range(len(column_head)):\n",
    "    d[column_head[i]]=value[i]\n",
    "d"
   ]
  },
  {
   "cell_type": "code",
   "execution_count": 15,
   "id": "4da3c6b2",
   "metadata": {},
   "outputs": [
    {
     "data": {
      "text/plain": [
       "'{\"Name\": \"Columbia University\", \"Location\": \"New York City, United States\", \"Rank\": \"22\", \"Overall Score\": \"86.7\", \"Academic Reputation\": \"99.7\", \"Employer Reputation\": \"98.1\", \"Citations per Faculty\": \"47.2\", \"Faculty Student Ratio\": \"100\", \"International Students Ratio\": \"94.6\", \"International Faculty Ratio\": \"47.6\", \"International Research Network\\\\nUnweighted\": \"98.9\", \"Employment Outcomes\\\\nUnweighted\": \"99.8\"}'"
      ]
     },
     "execution_count": 15,
     "metadata": {},
     "output_type": "execute_result"
    }
   ],
   "source": [
    "s1=json.dumps(d)\n",
    "s1"
   ]
  },
  {
   "cell_type": "code",
   "execution_count": 16,
   "id": "49ad34b2",
   "metadata": {},
   "outputs": [],
   "source": [
    "with open('Columbia University.json','w') as f:\n",
    "    json.dump(d,f)"
   ]
  },
  {
   "cell_type": "code",
   "execution_count": null,
   "id": "ac752514",
   "metadata": {},
   "outputs": [],
   "source": []
  }
 ],
 "metadata": {
  "kernelspec": {
   "display_name": "Python 3 (ipykernel)",
   "language": "python",
   "name": "python3"
  },
  "language_info": {
   "codemirror_mode": {
    "name": "ipython",
    "version": 3
   },
   "file_extension": ".py",
   "mimetype": "text/x-python",
   "name": "python",
   "nbconvert_exporter": "python",
   "pygments_lexer": "ipython3",
   "version": "3.9.12"
  }
 },
 "nbformat": 4,
 "nbformat_minor": 5
}
