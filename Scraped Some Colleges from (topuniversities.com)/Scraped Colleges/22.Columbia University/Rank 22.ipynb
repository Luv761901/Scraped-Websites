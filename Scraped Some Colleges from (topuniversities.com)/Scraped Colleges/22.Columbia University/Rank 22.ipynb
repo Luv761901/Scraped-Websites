{
 "cells": [
  {
   "cell_type": "code",
   "execution_count": 10,
   "id": "e4cee76d",
   "metadata": {},
   "outputs": [],
   "source": [
    "from selenium import webdriver\n",
    "from selenium.webdriver.chrome.service import Service\n",
    "import pandas as pd\n",
    "import json"
   ]
  },
  {
   "cell_type": "code",
   "execution_count": 11,
   "id": "5a66d4b0",
   "metadata": {},
   "outputs": [],
   "source": [
    "path = Service('C:\\chromedriver.exe')"
   ]
  },
  {
   "cell_type": "code",
   "execution_count": 12,
   "id": "93a8c822",
   "metadata": {},
   "outputs": [],
   "source": [
    "# set path for the driver\n",
    "browser = webdriver.Chrome(service = path)"
   ]
  },
  {
   "cell_type": "code",
   "execution_count": 13,
   "id": "32415746",
   "metadata": {},
   "outputs": [],
   "source": [
    "url = \"https://www.topuniversities.com/university-rankings/world-university-rankings/2023\""
   ]
  },
  {
   "cell_type": "code",
   "execution_count": 14,
   "id": "46a620b6",
   "metadata": {},
   "outputs": [],
   "source": [
    "# open the page url ion chrome\n",
    "browser.get(url)"
   ]
  },
  {
   "cell_type": "code",
   "execution_count": 15,
   "id": "33b53260",
   "metadata": {},
   "outputs": [
    {
     "data": {
      "text/plain": [
       "[<selenium.webdriver.remote.webelement.WebElement (session=\"992fe22771ecb42d86c1acdb9d740f19\", element=\"364c28ad-5b0c-4fac-96d8-f1dee5ba8dab\")>,\n",
       " <selenium.webdriver.remote.webelement.WebElement (session=\"992fe22771ecb42d86c1acdb9d740f19\", element=\"c3a07e46-67d8-4c81-a47d-122e331e6972\")>,\n",
       " <selenium.webdriver.remote.webelement.WebElement (session=\"992fe22771ecb42d86c1acdb9d740f19\", element=\"bcda8d15-2ced-4c18-b43f-5583165b9280\")>,\n",
       " <selenium.webdriver.remote.webelement.WebElement (session=\"992fe22771ecb42d86c1acdb9d740f19\", element=\"7b53591d-82f7-408a-9ef9-0f10f9c7766a\")>,\n",
       " <selenium.webdriver.remote.webelement.WebElement (session=\"992fe22771ecb42d86c1acdb9d740f19\", element=\"570c5ced-96b7-4e21-bcf8-457ce4b1f7ce\")>,\n",
       " <selenium.webdriver.remote.webelement.WebElement (session=\"992fe22771ecb42d86c1acdb9d740f19\", element=\"d9ad7453-8f2e-4c4c-b34f-ea001c333b2f\")>,\n",
       " <selenium.webdriver.remote.webelement.WebElement (session=\"992fe22771ecb42d86c1acdb9d740f19\", element=\"2cf2d5f6-e9c8-40b3-846d-a2e7fb96049d\")>,\n",
       " <selenium.webdriver.remote.webelement.WebElement (session=\"992fe22771ecb42d86c1acdb9d740f19\", element=\"86f88488-20ad-470d-927a-0b4870829e6b\")>,\n",
       " <selenium.webdriver.remote.webelement.WebElement (session=\"992fe22771ecb42d86c1acdb9d740f19\", element=\"a1678e63-3bdd-4cda-9355-3c6be80e9c74\")>]"
      ]
     },
     "execution_count": 15,
     "metadata": {},
     "output_type": "execute_result"
    }
   ],
   "source": [
    "# GET EACH COLLEGE SPECIFICATION HEADERS\n",
    "header=browser.find_elements(\"xpath\",\"//div[@class='_click-function_ind']\")\n",
    "header"
   ]
  },
  {
   "cell_type": "code",
   "execution_count": 16,
   "id": "74bef9ba",
   "metadata": {},
   "outputs": [
    {
     "data": {
      "text/plain": [
       "['Overall Score',\n",
       " 'Academic Reputation',\n",
       " 'Employer Reputation',\n",
       " 'Citations per Faculty',\n",
       " 'Faculty Student Ratio',\n",
       " 'International Students Ratio',\n",
       " 'International Faculty Ratio',\n",
       " 'International Research Network\\nUnweighted',\n",
       " 'Employment Outcomes\\nUnweighted']"
      ]
     },
     "execution_count": 16,
     "metadata": {},
     "output_type": "execute_result"
    }
   ],
   "source": [
    "#PARSING DATA\n",
    "column_head=[]\n",
    "for data in header:\n",
    "    #get the text data\n",
    "    temp=data.text\n",
    "    column_head.append(temp)\n",
    "column_head"
   ]
  },
  {
   "cell_type": "code",
   "execution_count": 17,
   "id": "92b2829a",
   "metadata": {},
   "outputs": [
    {
     "data": {
      "text/plain": [
       "[<selenium.webdriver.remote.webelement.WebElement (session=\"992fe22771ecb42d86c1acdb9d740f19\", element=\"5fdd3cce-7fbb-4bfd-8d8f-84063679b891\")>,\n",
       " <selenium.webdriver.remote.webelement.WebElement (session=\"992fe22771ecb42d86c1acdb9d740f19\", element=\"0f3ae894-3d1f-422e-8cb7-ad5acf02678d\")>,\n",
       " <selenium.webdriver.remote.webelement.WebElement (session=\"992fe22771ecb42d86c1acdb9d740f19\", element=\"6bc16867-453e-4ca3-afe9-ee4c0331e483\")>,\n",
       " <selenium.webdriver.remote.webelement.WebElement (session=\"992fe22771ecb42d86c1acdb9d740f19\", element=\"a32d1fd8-469e-4f76-ac99-5446d9971e97\")>,\n",
       " <selenium.webdriver.remote.webelement.WebElement (session=\"992fe22771ecb42d86c1acdb9d740f19\", element=\"c4848e2b-e235-409f-981d-ca7ee1e85029\")>,\n",
       " <selenium.webdriver.remote.webelement.WebElement (session=\"992fe22771ecb42d86c1acdb9d740f19\", element=\"c540449b-3dca-4d11-903a-c3146f516c6f\")>,\n",
       " <selenium.webdriver.remote.webelement.WebElement (session=\"992fe22771ecb42d86c1acdb9d740f19\", element=\"404ddffe-5877-48a1-9f59-796400caee12\")>,\n",
       " <selenium.webdriver.remote.webelement.WebElement (session=\"992fe22771ecb42d86c1acdb9d740f19\", element=\"e46ccd2f-3c7b-4ac9-92f2-39c37e87d202\")>,\n",
       " <selenium.webdriver.remote.webelement.WebElement (session=\"992fe22771ecb42d86c1acdb9d740f19\", element=\"1aa667fc-48c9-496b-a983-ea42f8ae66e0\")>,\n",
       " <selenium.webdriver.remote.webelement.WebElement (session=\"992fe22771ecb42d86c1acdb9d740f19\", element=\"4428817a-e270-4b9c-9a42-c8e48f0d3360\")>,\n",
       " <selenium.webdriver.remote.webelement.WebElement (session=\"992fe22771ecb42d86c1acdb9d740f19\", element=\"8d5743a5-069d-4457-ae36-218ab11235bd\")>,\n",
       " <selenium.webdriver.remote.webelement.WebElement (session=\"992fe22771ecb42d86c1acdb9d740f19\", element=\"fc8f6ed6-50b7-4860-9729-d0191455ccb4\")>,\n",
       " <selenium.webdriver.remote.webelement.WebElement (session=\"992fe22771ecb42d86c1acdb9d740f19\", element=\"b21be852-0687-435f-bfdc-51f5f076d2d7\")>,\n",
       " <selenium.webdriver.remote.webelement.WebElement (session=\"992fe22771ecb42d86c1acdb9d740f19\", element=\"a2a5cf64-9626-471d-b64b-3d7c56e270ac\")>,\n",
       " <selenium.webdriver.remote.webelement.WebElement (session=\"992fe22771ecb42d86c1acdb9d740f19\", element=\"831e5e29-94f6-4899-915d-802bf535cc2f\")>,\n",
       " <selenium.webdriver.remote.webelement.WebElement (session=\"992fe22771ecb42d86c1acdb9d740f19\", element=\"75fc4be6-995e-42fa-a0c9-5c7990acdd0e\")>,\n",
       " <selenium.webdriver.remote.webelement.WebElement (session=\"992fe22771ecb42d86c1acdb9d740f19\", element=\"81ef2bf2-b91a-4c57-97ed-1d51da4574de\")>,\n",
       " <selenium.webdriver.remote.webelement.WebElement (session=\"992fe22771ecb42d86c1acdb9d740f19\", element=\"a4579c1b-76c2-4e86-be42-76a42a361cf0\")>,\n",
       " <selenium.webdriver.remote.webelement.WebElement (session=\"992fe22771ecb42d86c1acdb9d740f19\", element=\"ff8d519e-5da9-4f51-bccf-3014c5d31fff\")>,\n",
       " <selenium.webdriver.remote.webelement.WebElement (session=\"992fe22771ecb42d86c1acdb9d740f19\", element=\"c582a7db-a99f-4cf4-976e-f86357547b1c\")>,\n",
       " <selenium.webdriver.remote.webelement.WebElement (session=\"992fe22771ecb42d86c1acdb9d740f19\", element=\"d9233e25-5ba8-4b83-8102-421803e4094b\")>,\n",
       " <selenium.webdriver.remote.webelement.WebElement (session=\"992fe22771ecb42d86c1acdb9d740f19\", element=\"296f780d-ec51-4229-a674-a5980529cb61\")>,\n",
       " <selenium.webdriver.remote.webelement.WebElement (session=\"992fe22771ecb42d86c1acdb9d740f19\", element=\"a0e85e6b-69bb-47a0-a715-68ac2213599d\")>,\n",
       " <selenium.webdriver.remote.webelement.WebElement (session=\"992fe22771ecb42d86c1acdb9d740f19\", element=\"ef7e94a1-637d-41f7-a4b1-91c35d4b5b6f\")>,\n",
       " <selenium.webdriver.remote.webelement.WebElement (session=\"992fe22771ecb42d86c1acdb9d740f19\", element=\"c1908e84-900d-4d56-b94d-a66be617dc2b\")>,\n",
       " <selenium.webdriver.remote.webelement.WebElement (session=\"992fe22771ecb42d86c1acdb9d740f19\", element=\"5ed4fbc9-3c1f-4203-a698-2a23ddcdb2a2\")>,\n",
       " <selenium.webdriver.remote.webelement.WebElement (session=\"992fe22771ecb42d86c1acdb9d740f19\", element=\"629b549f-64b3-41fe-a558-a300b51522c9\")>,\n",
       " <selenium.webdriver.remote.webelement.WebElement (session=\"992fe22771ecb42d86c1acdb9d740f19\", element=\"9f0f609c-f60c-4de8-a3af-0e87dd9afe05\")>,\n",
       " <selenium.webdriver.remote.webelement.WebElement (session=\"992fe22771ecb42d86c1acdb9d740f19\", element=\"1f6a05c9-8a82-457c-9628-8262791d5b06\")>,\n",
       " <selenium.webdriver.remote.webelement.WebElement (session=\"992fe22771ecb42d86c1acdb9d740f19\", element=\"69b6711c-a1bb-4556-9964-45773bcb1d59\")>,\n",
       " <selenium.webdriver.remote.webelement.WebElement (session=\"992fe22771ecb42d86c1acdb9d740f19\", element=\"d3e08908-f89c-4a86-8806-b8c9737956f3\")>,\n",
       " <selenium.webdriver.remote.webelement.WebElement (session=\"992fe22771ecb42d86c1acdb9d740f19\", element=\"4195ec84-a9a9-4253-87af-2ad0fb41d6bf\")>,\n",
       " <selenium.webdriver.remote.webelement.WebElement (session=\"992fe22771ecb42d86c1acdb9d740f19\", element=\"ece9a927-aaaa-4b04-8d03-6ebc87811c4c\")>,\n",
       " <selenium.webdriver.remote.webelement.WebElement (session=\"992fe22771ecb42d86c1acdb9d740f19\", element=\"e26302ba-046c-48bd-a13b-36fa2fd55e3d\")>,\n",
       " <selenium.webdriver.remote.webelement.WebElement (session=\"992fe22771ecb42d86c1acdb9d740f19\", element=\"9db635f2-05f9-4d2e-bcae-987cb293eb3b\")>,\n",
       " <selenium.webdriver.remote.webelement.WebElement (session=\"992fe22771ecb42d86c1acdb9d740f19\", element=\"d037caf7-0a69-4e73-9862-09d53bb39715\")>,\n",
       " <selenium.webdriver.remote.webelement.WebElement (session=\"992fe22771ecb42d86c1acdb9d740f19\", element=\"714e838b-cae2-46a2-ba95-8c974f56b9ae\")>,\n",
       " <selenium.webdriver.remote.webelement.WebElement (session=\"992fe22771ecb42d86c1acdb9d740f19\", element=\"fa296191-a0f9-4753-82d9-3e154bb859e8\")>,\n",
       " <selenium.webdriver.remote.webelement.WebElement (session=\"992fe22771ecb42d86c1acdb9d740f19\", element=\"9df2472b-f6aa-4b33-b2a2-ed7796ca4eb4\")>,\n",
       " <selenium.webdriver.remote.webelement.WebElement (session=\"992fe22771ecb42d86c1acdb9d740f19\", element=\"ea40e7cd-7712-46da-95f2-f53e326f6ad9\")>,\n",
       " <selenium.webdriver.remote.webelement.WebElement (session=\"992fe22771ecb42d86c1acdb9d740f19\", element=\"655142a1-33e1-46d4-a72b-8181253c53ef\")>,\n",
       " <selenium.webdriver.remote.webelement.WebElement (session=\"992fe22771ecb42d86c1acdb9d740f19\", element=\"4596c6b6-3898-435e-938e-d0b4174bc620\")>,\n",
       " <selenium.webdriver.remote.webelement.WebElement (session=\"992fe22771ecb42d86c1acdb9d740f19\", element=\"6b9167a4-b8df-42e8-8c12-8fec59cd5509\")>,\n",
       " <selenium.webdriver.remote.webelement.WebElement (session=\"992fe22771ecb42d86c1acdb9d740f19\", element=\"f2a95d83-1842-42d2-a255-76048ac90dab\")>,\n",
       " <selenium.webdriver.remote.webelement.WebElement (session=\"992fe22771ecb42d86c1acdb9d740f19\", element=\"5f7a3663-4e83-4a4f-87c6-7943060e4119\")>,\n",
       " <selenium.webdriver.remote.webelement.WebElement (session=\"992fe22771ecb42d86c1acdb9d740f19\", element=\"533760ef-a88b-4581-8286-795cfff50f21\")>,\n",
       " <selenium.webdriver.remote.webelement.WebElement (session=\"992fe22771ecb42d86c1acdb9d740f19\", element=\"6db0325e-a2d4-40c0-a433-47ebbd3a9e2e\")>,\n",
       " <selenium.webdriver.remote.webelement.WebElement (session=\"992fe22771ecb42d86c1acdb9d740f19\", element=\"5e3c8878-1b2d-4a58-b361-060d4bd4a3af\")>,\n",
       " <selenium.webdriver.remote.webelement.WebElement (session=\"992fe22771ecb42d86c1acdb9d740f19\", element=\"476cf24f-db74-4b7e-82ce-c87182e1eff5\")>,\n",
       " <selenium.webdriver.remote.webelement.WebElement (session=\"992fe22771ecb42d86c1acdb9d740f19\", element=\"643d9a0a-c71c-4f92-b8ab-3b03823b9b65\")>,\n",
       " <selenium.webdriver.remote.webelement.WebElement (session=\"992fe22771ecb42d86c1acdb9d740f19\", element=\"32eea390-fc16-47fc-9bca-71d70f239203\")>,\n",
       " <selenium.webdriver.remote.webelement.WebElement (session=\"992fe22771ecb42d86c1acdb9d740f19\", element=\"7ffa3f53-b76b-40e4-a0b7-ac4e05381d91\")>,\n",
       " <selenium.webdriver.remote.webelement.WebElement (session=\"992fe22771ecb42d86c1acdb9d740f19\", element=\"c61d5b02-befc-4f20-9465-972971b3e365\")>,\n",
       " <selenium.webdriver.remote.webelement.WebElement (session=\"992fe22771ecb42d86c1acdb9d740f19\", element=\"831cbcf0-7a33-4d79-a9bc-289cdc2a2625\")>,\n",
       " <selenium.webdriver.remote.webelement.WebElement (session=\"992fe22771ecb42d86c1acdb9d740f19\", element=\"0c67e5ac-0706-40a2-abcd-968c739f8fd6\")>,\n",
       " <selenium.webdriver.remote.webelement.WebElement (session=\"992fe22771ecb42d86c1acdb9d740f19\", element=\"e2f593ab-5bf3-4ac3-a7b4-f41367c34f1a\")>,\n",
       " <selenium.webdriver.remote.webelement.WebElement (session=\"992fe22771ecb42d86c1acdb9d740f19\", element=\"acde8499-249a-4642-9979-dcce47264098\")>,\n",
       " <selenium.webdriver.remote.webelement.WebElement (session=\"992fe22771ecb42d86c1acdb9d740f19\", element=\"a47e7828-c48b-4f92-99fd-d510cd23d0a5\")>,\n",
       " <selenium.webdriver.remote.webelement.WebElement (session=\"992fe22771ecb42d86c1acdb9d740f19\", element=\"f4f8ce4a-1fa2-461c-ae5e-68e614eac424\")>,\n",
       " <selenium.webdriver.remote.webelement.WebElement (session=\"992fe22771ecb42d86c1acdb9d740f19\", element=\"5ba5b5d4-7b98-4f35-89ab-8694f55fa78f\")>,\n",
       " <selenium.webdriver.remote.webelement.WebElement (session=\"992fe22771ecb42d86c1acdb9d740f19\", element=\"8b32becf-0938-4371-a71f-6e93ed1962e4\")>,\n",
       " <selenium.webdriver.remote.webelement.WebElement (session=\"992fe22771ecb42d86c1acdb9d740f19\", element=\"88214620-3055-4637-89d0-64b52518caf1\")>,\n",
       " <selenium.webdriver.remote.webelement.WebElement (session=\"992fe22771ecb42d86c1acdb9d740f19\", element=\"a634f1ba-49b0-4550-82b8-9135711e11ca\")>,\n",
       " <selenium.webdriver.remote.webelement.WebElement (session=\"992fe22771ecb42d86c1acdb9d740f19\", element=\"41d73419-b24f-4a24-a128-948584de5cb0\")>,\n",
       " <selenium.webdriver.remote.webelement.WebElement (session=\"992fe22771ecb42d86c1acdb9d740f19\", element=\"ff96745d-43a0-448b-855d-09f0e2e9fdf3\")>,\n",
       " <selenium.webdriver.remote.webelement.WebElement (session=\"992fe22771ecb42d86c1acdb9d740f19\", element=\"99ce4ad0-243a-4fb4-9ac1-b28804d40fa5\")>,\n",
       " <selenium.webdriver.remote.webelement.WebElement (session=\"992fe22771ecb42d86c1acdb9d740f19\", element=\"0d9f064c-52e4-4a19-9ed4-83ce3e710c1d\")>,\n",
       " <selenium.webdriver.remote.webelement.WebElement (session=\"992fe22771ecb42d86c1acdb9d740f19\", element=\"81f0311a-ef08-4acc-b653-eefb74e2b403\")>,\n",
       " <selenium.webdriver.remote.webelement.WebElement (session=\"992fe22771ecb42d86c1acdb9d740f19\", element=\"7f714cf6-45eb-4d46-b81f-4114780c64a4\")>,\n",
       " <selenium.webdriver.remote.webelement.WebElement (session=\"992fe22771ecb42d86c1acdb9d740f19\", element=\"86268e0b-f49b-4dea-8899-f2fe18625c3c\")>,\n",
       " <selenium.webdriver.remote.webelement.WebElement (session=\"992fe22771ecb42d86c1acdb9d740f19\", element=\"35ec2258-a2f4-47ba-90ec-7e49277fcf29\")>,\n",
       " <selenium.webdriver.remote.webelement.WebElement (session=\"992fe22771ecb42d86c1acdb9d740f19\", element=\"c550c000-c571-4f50-b005-05cf3c0f8184\")>,\n",
       " <selenium.webdriver.remote.webelement.WebElement (session=\"992fe22771ecb42d86c1acdb9d740f19\", element=\"7270e34b-65ae-4a34-bb43-c7657bc51465\")>,\n",
       " <selenium.webdriver.remote.webelement.WebElement (session=\"992fe22771ecb42d86c1acdb9d740f19\", element=\"3e78c391-d7ad-4024-974d-fbee0c942da9\")>,\n",
       " <selenium.webdriver.remote.webelement.WebElement (session=\"992fe22771ecb42d86c1acdb9d740f19\", element=\"96a43831-e065-4bcd-9524-218a9b4086b9\")>,\n",
       " <selenium.webdriver.remote.webelement.WebElement (session=\"992fe22771ecb42d86c1acdb9d740f19\", element=\"dff527b4-ad39-4495-9cca-485210bbd240\")>,\n",
       " <selenium.webdriver.remote.webelement.WebElement (session=\"992fe22771ecb42d86c1acdb9d740f19\", element=\"8fc6a5a2-52d3-4b79-b24c-5026ae235623\")>,\n",
       " <selenium.webdriver.remote.webelement.WebElement (session=\"992fe22771ecb42d86c1acdb9d740f19\", element=\"2d63e51c-b662-49ad-855c-56761748c88f\")>,\n",
       " <selenium.webdriver.remote.webelement.WebElement (session=\"992fe22771ecb42d86c1acdb9d740f19\", element=\"cfd2ec6d-bd8d-439c-a2e1-d10d65e651ca\")>,\n",
       " <selenium.webdriver.remote.webelement.WebElement (session=\"992fe22771ecb42d86c1acdb9d740f19\", element=\"17e205a8-8cdb-464b-9d0d-386eb3ebee42\")>,\n",
       " <selenium.webdriver.remote.webelement.WebElement (session=\"992fe22771ecb42d86c1acdb9d740f19\", element=\"13954c8d-8ac7-4321-9421-855e90299207\")>,\n",
       " <selenium.webdriver.remote.webelement.WebElement (session=\"992fe22771ecb42d86c1acdb9d740f19\", element=\"e83c2ec7-213a-4fb0-afb3-1337afb1f369\")>,\n",
       " <selenium.webdriver.remote.webelement.WebElement (session=\"992fe22771ecb42d86c1acdb9d740f19\", element=\"c6649c3e-fa12-4c5b-b417-957c27be6921\")>,\n",
       " <selenium.webdriver.remote.webelement.WebElement (session=\"992fe22771ecb42d86c1acdb9d740f19\", element=\"b77070e0-acde-4fe0-af07-8c8fbd25f53e\")>,\n",
       " <selenium.webdriver.remote.webelement.WebElement (session=\"992fe22771ecb42d86c1acdb9d740f19\", element=\"d72e8ea9-b5f4-4874-ace2-57e2e41f3873\")>,\n",
       " <selenium.webdriver.remote.webelement.WebElement (session=\"992fe22771ecb42d86c1acdb9d740f19\", element=\"144a6d4e-9d02-4482-a0e6-afcdb24c5ace\")>,\n",
       " <selenium.webdriver.remote.webelement.WebElement (session=\"992fe22771ecb42d86c1acdb9d740f19\", element=\"e270babc-5c4f-4dbb-8132-e0249dea6cdf\")>,\n",
       " <selenium.webdriver.remote.webelement.WebElement (session=\"992fe22771ecb42d86c1acdb9d740f19\", element=\"24fae110-7c57-4976-9cb6-47512f373063\")>,\n",
       " <selenium.webdriver.remote.webelement.WebElement (session=\"992fe22771ecb42d86c1acdb9d740f19\", element=\"ea50db5e-cbc6-42c0-bf80-1df8f4191e46\")>,\n",
       " <selenium.webdriver.remote.webelement.WebElement (session=\"992fe22771ecb42d86c1acdb9d740f19\", element=\"d650dc27-1ed4-4d81-b2df-3762e7f889e2\")>,\n",
       " <selenium.webdriver.remote.webelement.WebElement (session=\"992fe22771ecb42d86c1acdb9d740f19\", element=\"6670878f-49b9-416d-8323-288453331c8b\")>,\n",
       " <selenium.webdriver.remote.webelement.WebElement (session=\"992fe22771ecb42d86c1acdb9d740f19\", element=\"7792c04b-88bf-48ba-b9d6-369da3398160\")>,\n",
       " <selenium.webdriver.remote.webelement.WebElement (session=\"992fe22771ecb42d86c1acdb9d740f19\", element=\"6942e446-a583-446a-b90e-16cfa5da76d3\")>,\n",
       " <selenium.webdriver.remote.webelement.WebElement (session=\"992fe22771ecb42d86c1acdb9d740f19\", element=\"68169244-46c6-42f1-b1b4-2fd60264387c\")>,\n",
       " <selenium.webdriver.remote.webelement.WebElement (session=\"992fe22771ecb42d86c1acdb9d740f19\", element=\"3ed3c484-8234-4980-a246-48e9e28afb50\")>,\n",
       " <selenium.webdriver.remote.webelement.WebElement (session=\"992fe22771ecb42d86c1acdb9d740f19\", element=\"d880813f-d6f0-4b7b-a643-f136bda46630\")>,\n",
       " <selenium.webdriver.remote.webelement.WebElement (session=\"992fe22771ecb42d86c1acdb9d740f19\", element=\"43806be4-2c14-4b3b-8df0-57faebddfd29\")>,\n",
       " <selenium.webdriver.remote.webelement.WebElement (session=\"992fe22771ecb42d86c1acdb9d740f19\", element=\"b2ae0854-0418-4965-bc7e-3facde32109f\")>,\n",
       " <selenium.webdriver.remote.webelement.WebElement (session=\"992fe22771ecb42d86c1acdb9d740f19\", element=\"781a0440-b55d-4502-8081-ddc132edde48\")>,\n",
       " <selenium.webdriver.remote.webelement.WebElement (session=\"992fe22771ecb42d86c1acdb9d740f19\", element=\"34ae687b-d8fc-47d5-ae01-ee4aeefdd689\")>]"
      ]
     },
     "execution_count": 17,
     "metadata": {},
     "output_type": "execute_result"
    }
   ],
   "source": [
    "header2=browser.find_elements(\"xpath\",\"//div[@class='td-wrap-in']\")\n",
    "header2"
   ]
  },
  {
   "cell_type": "code",
   "execution_count": 18,
   "id": "0c1d7a11",
   "metadata": {},
   "outputs": [
    {
     "data": {
      "text/plain": [
       "['86.7', '99.7', '98.1', '47.2', '100', '94.6', '47.6', '98.9', '99.8']"
      ]
     },
     "execution_count": 18,
     "metadata": {},
     "output_type": "execute_result"
    }
   ],
   "source": [
    "#PARSING DATA\n",
    "value_head=[]\n",
    "for data in header2:\n",
    "    #get the text data\n",
    "    temp=data.text\n",
    "    value_head.append(temp)\n",
    "value_head=value_head[11:20]\n",
    "value_head"
   ]
  },
  {
   "cell_type": "code",
   "execution_count": 19,
   "id": "bf0e5725",
   "metadata": {},
   "outputs": [
    {
     "data": {
      "text/plain": [
       "{'Overall Score': '86.7',\n",
       " 'Academic Reputation': '99.7',\n",
       " 'Employer Reputation': '98.1',\n",
       " 'Citations per Faculty': '47.2',\n",
       " 'Faculty Student Ratio': '100',\n",
       " 'International Students Ratio': '94.6',\n",
       " 'International Faculty Ratio': '47.6',\n",
       " 'International Research Network\\nUnweighted': '98.9',\n",
       " 'Employment Outcomes\\nUnweighted': '99.8'}"
      ]
     },
     "execution_count": 19,
     "metadata": {},
     "output_type": "execute_result"
    }
   ],
   "source": [
    "d={}\n",
    "for i in range(len(column_head)):\n",
    "    d[column_head[i]]=value_head[i]\n",
    "d"
   ]
  },
  {
   "cell_type": "code",
   "execution_count": 20,
   "id": "4da3c6b2",
   "metadata": {},
   "outputs": [
    {
     "data": {
      "text/plain": [
       "'{\"Overall Score\": \"86.7\", \"Academic Reputation\": \"99.7\", \"Employer Reputation\": \"98.1\", \"Citations per Faculty\": \"47.2\", \"Faculty Student Ratio\": \"100\", \"International Students Ratio\": \"94.6\", \"International Faculty Ratio\": \"47.6\", \"International Research Network\\\\nUnweighted\": \"98.9\", \"Employment Outcomes\\\\nUnweighted\": \"99.8\"}'"
      ]
     },
     "execution_count": 20,
     "metadata": {},
     "output_type": "execute_result"
    }
   ],
   "source": [
    "s1=json.dumps(d)\n",
    "s1"
   ]
  },
  {
   "cell_type": "code",
   "execution_count": 22,
   "id": "49ad34b2",
   "metadata": {},
   "outputs": [],
   "source": [
    "with open('Columbia University.json','w') as f:\n",
    "    json.dump(d,f)"
   ]
  }
 ],
 "metadata": {
  "kernelspec": {
   "display_name": "Python 3 (ipykernel)",
   "language": "python",
   "name": "python3"
  },
  "language_info": {
   "codemirror_mode": {
    "name": "ipython",
    "version": 3
   },
   "file_extension": ".py",
   "mimetype": "text/x-python",
   "name": "python",
   "nbconvert_exporter": "python",
   "pygments_lexer": "ipython3",
   "version": "3.9.12"
  }
 },
 "nbformat": 4,
 "nbformat_minor": 5
}
