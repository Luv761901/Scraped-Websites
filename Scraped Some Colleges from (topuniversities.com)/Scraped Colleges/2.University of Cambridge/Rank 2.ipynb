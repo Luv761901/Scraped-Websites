{
 "cells": [
  {
   "cell_type": "markdown",
   "id": "a0ef2395",
   "metadata": {},
   "source": [
    "## Import Modules"
   ]
  },
  {
   "cell_type": "code",
   "execution_count": 40,
   "id": "5bff525c",
   "metadata": {},
   "outputs": [],
   "source": [
    "from selenium import webdriver\n",
    "from selenium.webdriver.chrome.service import Service\n",
    "import pandas as pd\n",
    "import json"
   ]
  },
  {
   "cell_type": "markdown",
   "id": "0a7494d3",
   "metadata": {},
   "source": [
    "## Set path fo Chrome Driver"
   ]
  },
  {
   "cell_type": "code",
   "execution_count": 41,
   "id": "6ca87a83",
   "metadata": {},
   "outputs": [],
   "source": [
    "path = Service('C:\\chromedriver.exe')"
   ]
  },
  {
   "cell_type": "code",
   "execution_count": 42,
   "id": "f3668c17",
   "metadata": {},
   "outputs": [],
   "source": [
    "# set path for the driver\n",
    "browser = webdriver.Chrome(service = path)"
   ]
  },
  {
   "cell_type": "code",
   "execution_count": 43,
   "id": "71159279",
   "metadata": {},
   "outputs": [],
   "source": [
    "url = \"https://www.topuniversities.com/university-rankings/world-university-rankings/2023\""
   ]
  },
  {
   "cell_type": "code",
   "execution_count": 44,
   "id": "d0aac10f",
   "metadata": {},
   "outputs": [],
   "source": [
    "# open the page url ion chrome\n",
    "browser.get(url)"
   ]
  },
  {
   "cell_type": "markdown",
   "id": "445e0ef5",
   "metadata": {},
   "source": [
    "## Scrap the data"
   ]
  },
  {
   "cell_type": "code",
   "execution_count": 45,
   "id": "0a873b6a",
   "metadata": {},
   "outputs": [
    {
     "data": {
      "text/plain": [
       "[<selenium.webdriver.remote.webelement.WebElement (session=\"010440a670ebec9800105d397961bd0b\", element=\"fb83cd8c-d7ff-4466-9551-eca3ee7220b9\")>,\n",
       " <selenium.webdriver.remote.webelement.WebElement (session=\"010440a670ebec9800105d397961bd0b\", element=\"126a3ae3-8ea6-4021-ad4d-7e4eb46d5b06\")>,\n",
       " <selenium.webdriver.remote.webelement.WebElement (session=\"010440a670ebec9800105d397961bd0b\", element=\"d55cb3fa-0387-4e0c-9df9-e42ed250922b\")>,\n",
       " <selenium.webdriver.remote.webelement.WebElement (session=\"010440a670ebec9800105d397961bd0b\", element=\"5525405a-8a06-44c8-8ed6-d4ec1636c3ff\")>,\n",
       " <selenium.webdriver.remote.webelement.WebElement (session=\"010440a670ebec9800105d397961bd0b\", element=\"d27a193e-5d89-41b8-ba65-011f17d31d6e\")>,\n",
       " <selenium.webdriver.remote.webelement.WebElement (session=\"010440a670ebec9800105d397961bd0b\", element=\"8661f80b-d220-4932-b73c-f334ea5257e9\")>,\n",
       " <selenium.webdriver.remote.webelement.WebElement (session=\"010440a670ebec9800105d397961bd0b\", element=\"25a10dfe-6ed3-4647-9169-33b6a23b80f0\")>,\n",
       " <selenium.webdriver.remote.webelement.WebElement (session=\"010440a670ebec9800105d397961bd0b\", element=\"cfe85ba9-363c-4234-9860-2ad3cff23fb5\")>,\n",
       " <selenium.webdriver.remote.webelement.WebElement (session=\"010440a670ebec9800105d397961bd0b\", element=\"f454a43d-c05c-4886-808b-8f37f3e4d7e9\")>]"
      ]
     },
     "execution_count": 45,
     "metadata": {},
     "output_type": "execute_result"
    }
   ],
   "source": [
    "# GET EACH COLLEGE SPECIFICATION HEADERS\n",
    "header=browser.find_elements(\"xpath\",\"//div[@class='_click-function_ind']\")\n",
    "header"
   ]
  },
  {
   "cell_type": "code",
   "execution_count": 46,
   "id": "c852e69f",
   "metadata": {},
   "outputs": [
    {
     "data": {
      "text/plain": [
       "['Overall Score',\n",
       " 'Academic Reputation',\n",
       " 'Employer Reputation',\n",
       " 'Citations per Faculty',\n",
       " 'Faculty Student Ratio',\n",
       " 'International Students Ratio',\n",
       " 'International Faculty Ratio',\n",
       " 'International Research Network\\nUnweighted',\n",
       " 'Employment Outcomes\\nUnweighted']"
      ]
     },
     "execution_count": 46,
     "metadata": {},
     "output_type": "execute_result"
    }
   ],
   "source": [
    "#PARSING DATA\n",
    "column_head=[]\n",
    "for data in header:\n",
    "    #get the text data\n",
    "    temp=data.text\n",
    "    column_head.append(temp)\n",
    "column_head"
   ]
  },
  {
   "cell_type": "code",
   "execution_count": 47,
   "id": "e9960882",
   "metadata": {},
   "outputs": [
    {
     "data": {
      "text/plain": [
       "[<selenium.webdriver.remote.webelement.WebElement (session=\"010440a670ebec9800105d397961bd0b\", element=\"351b9ec0-9070-42d2-86ba-e4ddd794a0f0\")>,\n",
       " <selenium.webdriver.remote.webelement.WebElement (session=\"010440a670ebec9800105d397961bd0b\", element=\"6c5ae836-69ca-4a72-8d2a-e423e9c37b9b\")>,\n",
       " <selenium.webdriver.remote.webelement.WebElement (session=\"010440a670ebec9800105d397961bd0b\", element=\"632bf4d4-4748-4e36-b4f1-6a930364ca56\")>,\n",
       " <selenium.webdriver.remote.webelement.WebElement (session=\"010440a670ebec9800105d397961bd0b\", element=\"a6de9e3b-9af0-4150-b0f6-b9567b6fd572\")>,\n",
       " <selenium.webdriver.remote.webelement.WebElement (session=\"010440a670ebec9800105d397961bd0b\", element=\"cd6ba2aa-ad65-4d2f-8d5b-efc7abd5dcc3\")>,\n",
       " <selenium.webdriver.remote.webelement.WebElement (session=\"010440a670ebec9800105d397961bd0b\", element=\"e3a172d0-3e4c-41a3-a2a9-18e9a3e2dfec\")>,\n",
       " <selenium.webdriver.remote.webelement.WebElement (session=\"010440a670ebec9800105d397961bd0b\", element=\"520312ee-4387-4242-8cb5-7896e8128fbf\")>,\n",
       " <selenium.webdriver.remote.webelement.WebElement (session=\"010440a670ebec9800105d397961bd0b\", element=\"57a3d3dd-d997-427f-8476-d83eb1262c5d\")>,\n",
       " <selenium.webdriver.remote.webelement.WebElement (session=\"010440a670ebec9800105d397961bd0b\", element=\"f3f8d381-a578-499e-b891-6aa575f01a08\")>,\n",
       " <selenium.webdriver.remote.webelement.WebElement (session=\"010440a670ebec9800105d397961bd0b\", element=\"ea80976f-c40f-469e-beed-3828f78fb3b7\")>,\n",
       " <selenium.webdriver.remote.webelement.WebElement (session=\"010440a670ebec9800105d397961bd0b\", element=\"5996c3bb-f65a-45bc-aead-daa5927c0e19\")>,\n",
       " <selenium.webdriver.remote.webelement.WebElement (session=\"010440a670ebec9800105d397961bd0b\", element=\"292396a7-9fe5-4e63-a827-7227cd488131\")>,\n",
       " <selenium.webdriver.remote.webelement.WebElement (session=\"010440a670ebec9800105d397961bd0b\", element=\"8127a7b3-36e6-4ff1-9cf8-853770e993b3\")>,\n",
       " <selenium.webdriver.remote.webelement.WebElement (session=\"010440a670ebec9800105d397961bd0b\", element=\"3079c9de-d5c3-4cfc-a096-91283eb60db4\")>,\n",
       " <selenium.webdriver.remote.webelement.WebElement (session=\"010440a670ebec9800105d397961bd0b\", element=\"b9ee1c5b-d7db-4c1f-b2dc-6c75ccd9c23a\")>,\n",
       " <selenium.webdriver.remote.webelement.WebElement (session=\"010440a670ebec9800105d397961bd0b\", element=\"52485c54-b190-43d8-bd4a-ca9fd66fdcdf\")>,\n",
       " <selenium.webdriver.remote.webelement.WebElement (session=\"010440a670ebec9800105d397961bd0b\", element=\"a45c84dd-9f24-4275-998f-c1c2fd6ed62b\")>,\n",
       " <selenium.webdriver.remote.webelement.WebElement (session=\"010440a670ebec9800105d397961bd0b\", element=\"683c11f6-9875-463f-af8e-9feb7d28c3d2\")>,\n",
       " <selenium.webdriver.remote.webelement.WebElement (session=\"010440a670ebec9800105d397961bd0b\", element=\"ce569e54-77dc-4cfa-b401-0de91e40083e\")>,\n",
       " <selenium.webdriver.remote.webelement.WebElement (session=\"010440a670ebec9800105d397961bd0b\", element=\"8e347e76-d4a2-4281-9f72-29383a7f26a4\")>,\n",
       " <selenium.webdriver.remote.webelement.WebElement (session=\"010440a670ebec9800105d397961bd0b\", element=\"b6c3fad6-37d7-4ff8-a2ec-ba1f92b91f74\")>,\n",
       " <selenium.webdriver.remote.webelement.WebElement (session=\"010440a670ebec9800105d397961bd0b\", element=\"ac1e5404-e221-4c30-ab78-512ee9b9b6e2\")>,\n",
       " <selenium.webdriver.remote.webelement.WebElement (session=\"010440a670ebec9800105d397961bd0b\", element=\"b94d402d-04e0-4a06-b2fa-6348a5493953\")>,\n",
       " <selenium.webdriver.remote.webelement.WebElement (session=\"010440a670ebec9800105d397961bd0b\", element=\"f3e3f2b7-605f-45a0-bfc6-59690ae065ca\")>,\n",
       " <selenium.webdriver.remote.webelement.WebElement (session=\"010440a670ebec9800105d397961bd0b\", element=\"e7c41aea-9c81-47ab-a80d-2e6b6f5e2f17\")>,\n",
       " <selenium.webdriver.remote.webelement.WebElement (session=\"010440a670ebec9800105d397961bd0b\", element=\"a8e50377-2977-4389-b918-a2b6a0be0163\")>,\n",
       " <selenium.webdriver.remote.webelement.WebElement (session=\"010440a670ebec9800105d397961bd0b\", element=\"6c0a794f-0a0c-4a61-b9b2-ee8c71884c50\")>,\n",
       " <selenium.webdriver.remote.webelement.WebElement (session=\"010440a670ebec9800105d397961bd0b\", element=\"93509dcf-fd9b-4117-a13a-853d6e814be2\")>,\n",
       " <selenium.webdriver.remote.webelement.WebElement (session=\"010440a670ebec9800105d397961bd0b\", element=\"a1394a99-adf7-4470-b565-d4359e003aad\")>,\n",
       " <selenium.webdriver.remote.webelement.WebElement (session=\"010440a670ebec9800105d397961bd0b\", element=\"ecad5676-e4c4-4cf0-85c6-0288473ad9fd\")>,\n",
       " <selenium.webdriver.remote.webelement.WebElement (session=\"010440a670ebec9800105d397961bd0b\", element=\"b46e6508-cf91-4977-8da3-a7c26b3abfa5\")>,\n",
       " <selenium.webdriver.remote.webelement.WebElement (session=\"010440a670ebec9800105d397961bd0b\", element=\"fda3d705-cfcd-475e-8f45-a25011dfea92\")>,\n",
       " <selenium.webdriver.remote.webelement.WebElement (session=\"010440a670ebec9800105d397961bd0b\", element=\"c1abc5a5-317c-4036-900f-19f981ab6700\")>,\n",
       " <selenium.webdriver.remote.webelement.WebElement (session=\"010440a670ebec9800105d397961bd0b\", element=\"2d02111f-53fd-42e5-ba07-5068600fa7a9\")>,\n",
       " <selenium.webdriver.remote.webelement.WebElement (session=\"010440a670ebec9800105d397961bd0b\", element=\"914d92a0-bf70-482b-8542-d4d3257474b2\")>,\n",
       " <selenium.webdriver.remote.webelement.WebElement (session=\"010440a670ebec9800105d397961bd0b\", element=\"7b8f261f-8003-49d2-8e88-14027f1e67d3\")>,\n",
       " <selenium.webdriver.remote.webelement.WebElement (session=\"010440a670ebec9800105d397961bd0b\", element=\"1890e187-b789-40b9-b70c-d272eac0062f\")>,\n",
       " <selenium.webdriver.remote.webelement.WebElement (session=\"010440a670ebec9800105d397961bd0b\", element=\"66b45b21-5e49-45fc-ac76-fe8d36f81193\")>,\n",
       " <selenium.webdriver.remote.webelement.WebElement (session=\"010440a670ebec9800105d397961bd0b\", element=\"4c3c8ccf-4d9c-4c02-ad11-873f25d5e3f8\")>,\n",
       " <selenium.webdriver.remote.webelement.WebElement (session=\"010440a670ebec9800105d397961bd0b\", element=\"e37c6111-6061-4169-8633-e11817d57453\")>,\n",
       " <selenium.webdriver.remote.webelement.WebElement (session=\"010440a670ebec9800105d397961bd0b\", element=\"6df39556-4049-47d2-9468-26dd739c6fb7\")>,\n",
       " <selenium.webdriver.remote.webelement.WebElement (session=\"010440a670ebec9800105d397961bd0b\", element=\"2531c569-5013-494b-9dc5-5072f4e6d9c8\")>,\n",
       " <selenium.webdriver.remote.webelement.WebElement (session=\"010440a670ebec9800105d397961bd0b\", element=\"b6e7805b-d0c3-490b-a633-2cda69f5fd4d\")>,\n",
       " <selenium.webdriver.remote.webelement.WebElement (session=\"010440a670ebec9800105d397961bd0b\", element=\"8dfdc0e5-4b31-4878-8efe-136646ba08aa\")>,\n",
       " <selenium.webdriver.remote.webelement.WebElement (session=\"010440a670ebec9800105d397961bd0b\", element=\"803195bd-8e5b-410d-811b-998e3b994806\")>,\n",
       " <selenium.webdriver.remote.webelement.WebElement (session=\"010440a670ebec9800105d397961bd0b\", element=\"9576d704-13bd-4a4d-879a-6a7a26d57b83\")>,\n",
       " <selenium.webdriver.remote.webelement.WebElement (session=\"010440a670ebec9800105d397961bd0b\", element=\"3f9b3a9f-d817-4bbf-a044-ee70d21692d7\")>,\n",
       " <selenium.webdriver.remote.webelement.WebElement (session=\"010440a670ebec9800105d397961bd0b\", element=\"38d52ff2-9bcb-4a3b-940f-a29c5ce0e874\")>,\n",
       " <selenium.webdriver.remote.webelement.WebElement (session=\"010440a670ebec9800105d397961bd0b\", element=\"921daeb2-341b-490f-944f-c73ed83f9e0a\")>,\n",
       " <selenium.webdriver.remote.webelement.WebElement (session=\"010440a670ebec9800105d397961bd0b\", element=\"d668970b-f70f-4715-b859-9438beab4c3b\")>,\n",
       " <selenium.webdriver.remote.webelement.WebElement (session=\"010440a670ebec9800105d397961bd0b\", element=\"ed866509-eb95-4c22-960f-da7176942e85\")>,\n",
       " <selenium.webdriver.remote.webelement.WebElement (session=\"010440a670ebec9800105d397961bd0b\", element=\"78f0c629-55fb-4dea-baef-bae316271aef\")>,\n",
       " <selenium.webdriver.remote.webelement.WebElement (session=\"010440a670ebec9800105d397961bd0b\", element=\"43d2419e-d4f6-4be7-8cb3-786ae9ccd4c0\")>,\n",
       " <selenium.webdriver.remote.webelement.WebElement (session=\"010440a670ebec9800105d397961bd0b\", element=\"bf424638-28ea-4d26-963d-46de9a73e8e0\")>,\n",
       " <selenium.webdriver.remote.webelement.WebElement (session=\"010440a670ebec9800105d397961bd0b\", element=\"cc3c0700-eb7d-4f71-bc1a-0dc63c1e546c\")>,\n",
       " <selenium.webdriver.remote.webelement.WebElement (session=\"010440a670ebec9800105d397961bd0b\", element=\"5f01e07e-1335-47c8-879c-775121854eec\")>,\n",
       " <selenium.webdriver.remote.webelement.WebElement (session=\"010440a670ebec9800105d397961bd0b\", element=\"59b4a303-7ca4-4144-906d-4e75abd2183a\")>,\n",
       " <selenium.webdriver.remote.webelement.WebElement (session=\"010440a670ebec9800105d397961bd0b\", element=\"49f6934c-9b2a-4562-a7e2-b3281b4a9b7f\")>,\n",
       " <selenium.webdriver.remote.webelement.WebElement (session=\"010440a670ebec9800105d397961bd0b\", element=\"f906aa86-55f4-4456-853d-30ff2f50d8b3\")>,\n",
       " <selenium.webdriver.remote.webelement.WebElement (session=\"010440a670ebec9800105d397961bd0b\", element=\"2df39131-4668-4e49-b14a-14ad2f5b9a6a\")>,\n",
       " <selenium.webdriver.remote.webelement.WebElement (session=\"010440a670ebec9800105d397961bd0b\", element=\"ee38e7a4-a59b-4e20-85c0-3ba799318fef\")>,\n",
       " <selenium.webdriver.remote.webelement.WebElement (session=\"010440a670ebec9800105d397961bd0b\", element=\"f8dd56aa-bdb4-48c8-860b-cd689b87376f\")>,\n",
       " <selenium.webdriver.remote.webelement.WebElement (session=\"010440a670ebec9800105d397961bd0b\", element=\"2bf630cb-44b8-4748-bff6-583b9546c962\")>,\n",
       " <selenium.webdriver.remote.webelement.WebElement (session=\"010440a670ebec9800105d397961bd0b\", element=\"55aeef45-69c2-4875-b360-d5e933881051\")>,\n",
       " <selenium.webdriver.remote.webelement.WebElement (session=\"010440a670ebec9800105d397961bd0b\", element=\"1c56683c-e4df-4ccf-99c6-322927b8a550\")>,\n",
       " <selenium.webdriver.remote.webelement.WebElement (session=\"010440a670ebec9800105d397961bd0b\", element=\"3e050a88-feef-4f09-adc1-da2d6b10a3b1\")>,\n",
       " <selenium.webdriver.remote.webelement.WebElement (session=\"010440a670ebec9800105d397961bd0b\", element=\"027d02e3-577b-4af2-b84a-9d60afcc5491\")>,\n",
       " <selenium.webdriver.remote.webelement.WebElement (session=\"010440a670ebec9800105d397961bd0b\", element=\"c38333b3-67c2-4b4d-96f3-f51b93ea1c0b\")>,\n",
       " <selenium.webdriver.remote.webelement.WebElement (session=\"010440a670ebec9800105d397961bd0b\", element=\"1cf7dd93-3e5e-4d51-af35-0ec32f60db68\")>,\n",
       " <selenium.webdriver.remote.webelement.WebElement (session=\"010440a670ebec9800105d397961bd0b\", element=\"e2f5db72-bcb9-458e-bb56-60c832864d83\")>,\n",
       " <selenium.webdriver.remote.webelement.WebElement (session=\"010440a670ebec9800105d397961bd0b\", element=\"c3a175fb-5dac-4536-afdf-06a435c06d93\")>,\n",
       " <selenium.webdriver.remote.webelement.WebElement (session=\"010440a670ebec9800105d397961bd0b\", element=\"928ea4e4-3530-494c-8142-a757fe9521f5\")>,\n",
       " <selenium.webdriver.remote.webelement.WebElement (session=\"010440a670ebec9800105d397961bd0b\", element=\"a042678f-33a3-47a3-8cd4-d8d59bb98d9d\")>,\n",
       " <selenium.webdriver.remote.webelement.WebElement (session=\"010440a670ebec9800105d397961bd0b\", element=\"350d6aaf-fc13-47dd-ac9e-d709a950c4f9\")>,\n",
       " <selenium.webdriver.remote.webelement.WebElement (session=\"010440a670ebec9800105d397961bd0b\", element=\"1b262f2b-e525-4492-9ed1-ad0e720bd6dd\")>,\n",
       " <selenium.webdriver.remote.webelement.WebElement (session=\"010440a670ebec9800105d397961bd0b\", element=\"89fc851d-f2de-4459-a55d-60ecdcf3df29\")>,\n",
       " <selenium.webdriver.remote.webelement.WebElement (session=\"010440a670ebec9800105d397961bd0b\", element=\"5d9d2083-7122-44ef-9d17-d23a352ab1eb\")>,\n",
       " <selenium.webdriver.remote.webelement.WebElement (session=\"010440a670ebec9800105d397961bd0b\", element=\"d6641b29-4d31-4c5f-8672-ff3e43a9fe9b\")>,\n",
       " <selenium.webdriver.remote.webelement.WebElement (session=\"010440a670ebec9800105d397961bd0b\", element=\"9cde7dff-dfe3-44f7-bd74-9d6fe0f6c790\")>,\n",
       " <selenium.webdriver.remote.webelement.WebElement (session=\"010440a670ebec9800105d397961bd0b\", element=\"1f002430-50ca-47e6-a5f1-0ca2639d421d\")>,\n",
       " <selenium.webdriver.remote.webelement.WebElement (session=\"010440a670ebec9800105d397961bd0b\", element=\"3665f5bc-0dca-4533-89cd-484a197bbf12\")>,\n",
       " <selenium.webdriver.remote.webelement.WebElement (session=\"010440a670ebec9800105d397961bd0b\", element=\"5fa33afc-4da3-4f09-9c47-8e42e14582d2\")>,\n",
       " <selenium.webdriver.remote.webelement.WebElement (session=\"010440a670ebec9800105d397961bd0b\", element=\"bf969385-3036-4ee3-9ac9-37714c59e2eb\")>,\n",
       " <selenium.webdriver.remote.webelement.WebElement (session=\"010440a670ebec9800105d397961bd0b\", element=\"7f5da86d-c021-4960-a87d-57d8a47fad3d\")>,\n",
       " <selenium.webdriver.remote.webelement.WebElement (session=\"010440a670ebec9800105d397961bd0b\", element=\"89dbcfe1-6e2a-4f98-aa74-069fd2fed631\")>,\n",
       " <selenium.webdriver.remote.webelement.WebElement (session=\"010440a670ebec9800105d397961bd0b\", element=\"8e0abf04-7527-4dfb-b7aa-5c22dc601b89\")>,\n",
       " <selenium.webdriver.remote.webelement.WebElement (session=\"010440a670ebec9800105d397961bd0b\", element=\"9c2b8b75-9094-4ddb-a8f4-c0b1c94b97ac\")>,\n",
       " <selenium.webdriver.remote.webelement.WebElement (session=\"010440a670ebec9800105d397961bd0b\", element=\"1e8fb2e7-e4bf-4724-aeeb-1897cce16e6b\")>,\n",
       " <selenium.webdriver.remote.webelement.WebElement (session=\"010440a670ebec9800105d397961bd0b\", element=\"8886d5f6-b120-457e-96d8-d86be111f9e7\")>,\n",
       " <selenium.webdriver.remote.webelement.WebElement (session=\"010440a670ebec9800105d397961bd0b\", element=\"126b4798-d1a1-4632-90d6-fcff53522c51\")>,\n",
       " <selenium.webdriver.remote.webelement.WebElement (session=\"010440a670ebec9800105d397961bd0b\", element=\"ebb5dcf0-054d-40fc-93a5-f432b8318a81\")>,\n",
       " <selenium.webdriver.remote.webelement.WebElement (session=\"010440a670ebec9800105d397961bd0b\", element=\"11a7be23-ce62-484b-a723-3d588b0b1a98\")>,\n",
       " <selenium.webdriver.remote.webelement.WebElement (session=\"010440a670ebec9800105d397961bd0b\", element=\"27ca957d-e022-4938-bdae-5ec73c75d424\")>,\n",
       " <selenium.webdriver.remote.webelement.WebElement (session=\"010440a670ebec9800105d397961bd0b\", element=\"028b3f45-9416-4dd2-a752-0d19e318a0f8\")>,\n",
       " <selenium.webdriver.remote.webelement.WebElement (session=\"010440a670ebec9800105d397961bd0b\", element=\"2efde4e7-f207-402d-9b29-7c009beb0d9d\")>,\n",
       " <selenium.webdriver.remote.webelement.WebElement (session=\"010440a670ebec9800105d397961bd0b\", element=\"dd49e7ac-bdcc-4589-95ec-142e4a673357\")>,\n",
       " <selenium.webdriver.remote.webelement.WebElement (session=\"010440a670ebec9800105d397961bd0b\", element=\"7527f762-8327-4be7-b227-3cfa458ad4ba\")>,\n",
       " <selenium.webdriver.remote.webelement.WebElement (session=\"010440a670ebec9800105d397961bd0b\", element=\"9d968485-e1af-4a06-8cc9-303f47587c7f\")>,\n",
       " <selenium.webdriver.remote.webelement.WebElement (session=\"010440a670ebec9800105d397961bd0b\", element=\"5d6f5186-4f54-4022-9781-b90c0ea6f3df\")>,\n",
       " <selenium.webdriver.remote.webelement.WebElement (session=\"010440a670ebec9800105d397961bd0b\", element=\"0317b552-49f3-4936-b603-346f7c1ae151\")>]"
      ]
     },
     "execution_count": 47,
     "metadata": {},
     "output_type": "execute_result"
    }
   ],
   "source": [
    "header2=browser.find_elements(\"xpath\",\"//div[@class='td-wrap-in']\")\n",
    "header2"
   ]
  },
  {
   "cell_type": "code",
   "execution_count": 50,
   "id": "f74c4644",
   "metadata": {},
   "outputs": [
    {
     "data": {
      "text/plain": [
       "['98.8', '100', '100', '92.3', '100', '96.3', '100', '99.5', '100']"
      ]
     },
     "execution_count": 50,
     "metadata": {},
     "output_type": "execute_result"
    }
   ],
   "source": [
    "#PARSING DATA\n",
    "value_head=[]\n",
    "for data in header2:\n",
    "    #get the text data\n",
    "    temp=data.text\n",
    "    value_head.append(temp)\n",
    "value_head=value_head[11:20]\n",
    "value_head"
   ]
  },
  {
   "cell_type": "code",
   "execution_count": 51,
   "id": "d8a0194f",
   "metadata": {},
   "outputs": [
    {
     "data": {
      "text/plain": [
       "{'Overall Score': '98.8',\n",
       " 'Academic Reputation': '100',\n",
       " 'Employer Reputation': '100',\n",
       " 'Citations per Faculty': '92.3',\n",
       " 'Faculty Student Ratio': '100',\n",
       " 'International Students Ratio': '96.3',\n",
       " 'International Faculty Ratio': '100',\n",
       " 'International Research Network\\nUnweighted': '99.5',\n",
       " 'Employment Outcomes\\nUnweighted': '100'}"
      ]
     },
     "execution_count": 51,
     "metadata": {},
     "output_type": "execute_result"
    }
   ],
   "source": [
    "d={}\n",
    "for i in range(len(column_head)):\n",
    "    d[column_head[i]]=value_head[i]\n",
    "d"
   ]
  },
  {
   "cell_type": "code",
   "execution_count": 52,
   "id": "a574f41f",
   "metadata": {},
   "outputs": [
    {
     "data": {
      "text/plain": [
       "'{\"Overall Score\": \"98.8\", \"Academic Reputation\": \"100\", \"Employer Reputation\": \"100\", \"Citations per Faculty\": \"92.3\", \"Faculty Student Ratio\": \"100\", \"International Students Ratio\": \"96.3\", \"International Faculty Ratio\": \"100\", \"International Research Network\\\\nUnweighted\": \"99.5\", \"Employment Outcomes\\\\nUnweighted\": \"100\"}'"
      ]
     },
     "execution_count": 52,
     "metadata": {},
     "output_type": "execute_result"
    }
   ],
   "source": [
    "s1=json.dumps(d)\n",
    "s1"
   ]
  },
  {
   "cell_type": "code",
   "execution_count": 54,
   "id": "8e55840f",
   "metadata": {},
   "outputs": [],
   "source": [
    "with open('University of Cambridge.json','w') as f:\n",
    "    json.dump(d,f)"
   ]
  },
  {
   "cell_type": "code",
   "execution_count": null,
   "id": "3e77523b",
   "metadata": {},
   "outputs": [],
   "source": []
  }
 ],
 "metadata": {
  "kernelspec": {
   "display_name": "Python 3 (ipykernel)",
   "language": "python",
   "name": "python3"
  },
  "language_info": {
   "codemirror_mode": {
    "name": "ipython",
    "version": 3
   },
   "file_extension": ".py",
   "mimetype": "text/x-python",
   "name": "python",
   "nbconvert_exporter": "python",
   "pygments_lexer": "ipython3",
   "version": "3.9.12"
  }
 },
 "nbformat": 4,
 "nbformat_minor": 5
}
