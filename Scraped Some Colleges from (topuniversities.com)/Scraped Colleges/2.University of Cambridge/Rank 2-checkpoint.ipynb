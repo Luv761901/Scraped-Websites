{
 "cells": [
  {
   "cell_type": "markdown",
   "id": "a0ef2395",
   "metadata": {},
   "source": [
    "## Import Modules"
   ]
  },
  {
   "cell_type": "code",
   "execution_count": 54,
   "id": "5bff525c",
   "metadata": {},
   "outputs": [],
   "source": [
    "from selenium import webdriver\n",
    "from selenium.webdriver.chrome.service import Service\n",
    "import pandas as pd\n",
    "import json"
   ]
  },
  {
   "cell_type": "markdown",
   "id": "0a7494d3",
   "metadata": {},
   "source": [
    "## Set path fo Chrome Driver"
   ]
  },
  {
   "cell_type": "code",
   "execution_count": 31,
   "id": "6ca87a83",
   "metadata": {},
   "outputs": [],
   "source": [
    "path = Service('C:\\chromedriver.exe')"
   ]
  },
  {
   "cell_type": "code",
   "execution_count": 32,
   "id": "f3668c17",
   "metadata": {},
   "outputs": [],
   "source": [
    "# set path for the driver\n",
    "browser = webdriver.Chrome(service = path)"
   ]
  },
  {
   "cell_type": "code",
   "execution_count": 35,
   "id": "71159279",
   "metadata": {},
   "outputs": [],
   "source": [
    "url = \"https://www.topuniversities.com/university-rankings/world-university-rankings/2023\""
   ]
  },
  {
   "cell_type": "code",
   "execution_count": 36,
   "id": "d0aac10f",
   "metadata": {},
   "outputs": [],
   "source": [
    "# open the page url ion chrome\n",
    "browser.get(url)"
   ]
  },
  {
   "cell_type": "markdown",
   "id": "445e0ef5",
   "metadata": {},
   "source": [
    "## Scrap the data"
   ]
  },
  {
   "cell_type": "code",
   "execution_count": 43,
   "id": "0a873b6a",
   "metadata": {},
   "outputs": [
    {
     "data": {
      "text/plain": [
       "[<selenium.webdriver.remote.webelement.WebElement (session=\"89b5d14a96320a7dcdda6db3803fe2cf\", element=\"ea53d617-b4dd-4270-b884-bf92a247e09e\")>,\n",
       " <selenium.webdriver.remote.webelement.WebElement (session=\"89b5d14a96320a7dcdda6db3803fe2cf\", element=\"3673f3fc-f85b-49e4-aafe-ba9589f103bd\")>,\n",
       " <selenium.webdriver.remote.webelement.WebElement (session=\"89b5d14a96320a7dcdda6db3803fe2cf\", element=\"cbe9fc5f-8011-4a08-8899-abdba3b4492c\")>,\n",
       " <selenium.webdriver.remote.webelement.WebElement (session=\"89b5d14a96320a7dcdda6db3803fe2cf\", element=\"e83e06c2-d395-4446-b04f-fabaec455f35\")>,\n",
       " <selenium.webdriver.remote.webelement.WebElement (session=\"89b5d14a96320a7dcdda6db3803fe2cf\", element=\"e6948a5b-dc87-4e75-b8ba-5ec5f431c055\")>,\n",
       " <selenium.webdriver.remote.webelement.WebElement (session=\"89b5d14a96320a7dcdda6db3803fe2cf\", element=\"fc9a7c85-e1b3-4b6d-890c-0da47ede7d7a\")>,\n",
       " <selenium.webdriver.remote.webelement.WebElement (session=\"89b5d14a96320a7dcdda6db3803fe2cf\", element=\"76117ec8-16ed-4be7-a769-b762c282ae04\")>,\n",
       " <selenium.webdriver.remote.webelement.WebElement (session=\"89b5d14a96320a7dcdda6db3803fe2cf\", element=\"54318b70-ed14-4226-934c-1de974e970b5\")>]"
      ]
     },
     "execution_count": 43,
     "metadata": {},
     "output_type": "execute_result"
    }
   ],
   "source": [
    "# GET EACH COLLEGE SPECIFICATION HEADERS\n",
    "header=browser.find_elements(\"xpath\",\"//div[@class='_click-function_ind']\")\n",
    "header"
   ]
  },
  {
   "cell_type": "code",
   "execution_count": 44,
   "id": "c852e69f",
   "metadata": {},
   "outputs": [
    {
     "data": {
      "text/plain": [
       "['Academic Reputation',\n",
       " 'Employer Reputation',\n",
       " 'Citations per Faculty',\n",
       " 'Faculty Student Ratio',\n",
       " 'International Students Ratio',\n",
       " 'International Faculty Ratio',\n",
       " 'International Research Network\\nUnweighted',\n",
       " 'Employment Outcomes\\nUnweighted']"
      ]
     },
     "execution_count": 44,
     "metadata": {},
     "output_type": "execute_result"
    }
   ],
   "source": [
    "#PARSING DATA\n",
    "column_head=[]\n",
    "for data in header:\n",
    "    #get the text data\n",
    "    temp=data.text\n",
    "    column_head.append(temp)\n",
    "column_head"
   ]
  },
  {
   "cell_type": "code",
   "execution_count": 45,
   "id": "e9960882",
   "metadata": {},
   "outputs": [
    {
     "data": {
      "text/plain": [
       "[<selenium.webdriver.remote.webelement.WebElement (session=\"89b5d14a96320a7dcdda6db3803fe2cf\", element=\"ca43c1ab-d8d5-4174-a3eb-2dc771660c63\")>,\n",
       " <selenium.webdriver.remote.webelement.WebElement (session=\"89b5d14a96320a7dcdda6db3803fe2cf\", element=\"185c08d7-ed4a-49da-a0d1-fe19aab34050\")>,\n",
       " <selenium.webdriver.remote.webelement.WebElement (session=\"89b5d14a96320a7dcdda6db3803fe2cf\", element=\"48141518-2c8a-4753-b9d6-f2f2ad9436e5\")>,\n",
       " <selenium.webdriver.remote.webelement.WebElement (session=\"89b5d14a96320a7dcdda6db3803fe2cf\", element=\"c658af5c-e106-4805-929c-540f6c6a9a7e\")>,\n",
       " <selenium.webdriver.remote.webelement.WebElement (session=\"89b5d14a96320a7dcdda6db3803fe2cf\", element=\"1a8cff35-49b9-45b1-8a3c-1fe0f5fb3a10\")>,\n",
       " <selenium.webdriver.remote.webelement.WebElement (session=\"89b5d14a96320a7dcdda6db3803fe2cf\", element=\"8ae65daf-5f6b-4e70-9ea4-dfb3b32d7827\")>,\n",
       " <selenium.webdriver.remote.webelement.WebElement (session=\"89b5d14a96320a7dcdda6db3803fe2cf\", element=\"f8245c00-a298-4cbc-827b-752a7570d3ef\")>,\n",
       " <selenium.webdriver.remote.webelement.WebElement (session=\"89b5d14a96320a7dcdda6db3803fe2cf\", element=\"909e8ee3-56a7-4967-9e8a-b917c4221aab\")>,\n",
       " <selenium.webdriver.remote.webelement.WebElement (session=\"89b5d14a96320a7dcdda6db3803fe2cf\", element=\"d4f20790-9d11-45f5-8597-d8bdbbe3445a\")>,\n",
       " <selenium.webdriver.remote.webelement.WebElement (session=\"89b5d14a96320a7dcdda6db3803fe2cf\", element=\"29f0b8df-b683-4bb7-80d9-b733c4668a0b\")>,\n",
       " <selenium.webdriver.remote.webelement.WebElement (session=\"89b5d14a96320a7dcdda6db3803fe2cf\", element=\"954e1696-03ad-47c3-8d34-bc512cc3df05\")>,\n",
       " <selenium.webdriver.remote.webelement.WebElement (session=\"89b5d14a96320a7dcdda6db3803fe2cf\", element=\"9eade7e0-b837-4d38-b55f-b320a20ee62d\")>,\n",
       " <selenium.webdriver.remote.webelement.WebElement (session=\"89b5d14a96320a7dcdda6db3803fe2cf\", element=\"6cf5d4c4-bb3a-43ae-8858-288e01f0fd30\")>,\n",
       " <selenium.webdriver.remote.webelement.WebElement (session=\"89b5d14a96320a7dcdda6db3803fe2cf\", element=\"09c81477-fed7-493f-b2c9-3ca58a7869db\")>,\n",
       " <selenium.webdriver.remote.webelement.WebElement (session=\"89b5d14a96320a7dcdda6db3803fe2cf\", element=\"73cd80b2-f929-4cb7-9483-be536cccb7b9\")>,\n",
       " <selenium.webdriver.remote.webelement.WebElement (session=\"89b5d14a96320a7dcdda6db3803fe2cf\", element=\"e79e2c25-a6a0-4724-a727-808c954b1ca9\")>,\n",
       " <selenium.webdriver.remote.webelement.WebElement (session=\"89b5d14a96320a7dcdda6db3803fe2cf\", element=\"1235ec5a-3f44-4217-af01-9159014d078b\")>,\n",
       " <selenium.webdriver.remote.webelement.WebElement (session=\"89b5d14a96320a7dcdda6db3803fe2cf\", element=\"ca9fec0a-510a-4d25-936d-8e68478620de\")>,\n",
       " <selenium.webdriver.remote.webelement.WebElement (session=\"89b5d14a96320a7dcdda6db3803fe2cf\", element=\"476c9a05-a05a-4815-9c9d-2278378e8b97\")>,\n",
       " <selenium.webdriver.remote.webelement.WebElement (session=\"89b5d14a96320a7dcdda6db3803fe2cf\", element=\"4c3c5190-66af-4a60-8a1e-a1eaa29b1431\")>,\n",
       " <selenium.webdriver.remote.webelement.WebElement (session=\"89b5d14a96320a7dcdda6db3803fe2cf\", element=\"114dcc93-c908-4539-a757-3019f4e86414\")>,\n",
       " <selenium.webdriver.remote.webelement.WebElement (session=\"89b5d14a96320a7dcdda6db3803fe2cf\", element=\"137f3f42-8df8-475b-a8e5-03c846cd99d5\")>,\n",
       " <selenium.webdriver.remote.webelement.WebElement (session=\"89b5d14a96320a7dcdda6db3803fe2cf\", element=\"808cf460-9a27-4a31-ae16-f482a3d8dc1e\")>,\n",
       " <selenium.webdriver.remote.webelement.WebElement (session=\"89b5d14a96320a7dcdda6db3803fe2cf\", element=\"30035967-f623-4ffd-80a5-ab1df8f6d682\")>,\n",
       " <selenium.webdriver.remote.webelement.WebElement (session=\"89b5d14a96320a7dcdda6db3803fe2cf\", element=\"28340b37-5ed8-44b3-ab5c-1a8785e87e58\")>,\n",
       " <selenium.webdriver.remote.webelement.WebElement (session=\"89b5d14a96320a7dcdda6db3803fe2cf\", element=\"d19e7afa-9b00-4402-8aad-dc222491dbfa\")>,\n",
       " <selenium.webdriver.remote.webelement.WebElement (session=\"89b5d14a96320a7dcdda6db3803fe2cf\", element=\"e66c2ec2-3a56-4da5-bddb-cfef49412cdf\")>,\n",
       " <selenium.webdriver.remote.webelement.WebElement (session=\"89b5d14a96320a7dcdda6db3803fe2cf\", element=\"54f3531c-7a8c-4988-8387-c469471422d6\")>,\n",
       " <selenium.webdriver.remote.webelement.WebElement (session=\"89b5d14a96320a7dcdda6db3803fe2cf\", element=\"4ac8016a-9837-4657-bb0b-5cc04b456508\")>,\n",
       " <selenium.webdriver.remote.webelement.WebElement (session=\"89b5d14a96320a7dcdda6db3803fe2cf\", element=\"9401554a-ed4b-4913-ba7e-5ba305ceb7dc\")>,\n",
       " <selenium.webdriver.remote.webelement.WebElement (session=\"89b5d14a96320a7dcdda6db3803fe2cf\", element=\"bc38cfde-caac-46b7-a93c-5e9bd6ab9287\")>,\n",
       " <selenium.webdriver.remote.webelement.WebElement (session=\"89b5d14a96320a7dcdda6db3803fe2cf\", element=\"8fc4dc6b-a899-4437-b7db-8f731824b1c5\")>,\n",
       " <selenium.webdriver.remote.webelement.WebElement (session=\"89b5d14a96320a7dcdda6db3803fe2cf\", element=\"7c3bbfa5-4e27-4a5b-bdea-3f432ab41424\")>,\n",
       " <selenium.webdriver.remote.webelement.WebElement (session=\"89b5d14a96320a7dcdda6db3803fe2cf\", element=\"82fe9663-60b0-4974-84bc-98ac6ee55ef8\")>,\n",
       " <selenium.webdriver.remote.webelement.WebElement (session=\"89b5d14a96320a7dcdda6db3803fe2cf\", element=\"27ac23be-c9a3-4c96-a3c5-4e26ffab6ce5\")>,\n",
       " <selenium.webdriver.remote.webelement.WebElement (session=\"89b5d14a96320a7dcdda6db3803fe2cf\", element=\"615523d8-fa2b-4ceb-99c6-58d4eb944892\")>,\n",
       " <selenium.webdriver.remote.webelement.WebElement (session=\"89b5d14a96320a7dcdda6db3803fe2cf\", element=\"0182b468-dae1-4b39-915c-5efba673fe19\")>,\n",
       " <selenium.webdriver.remote.webelement.WebElement (session=\"89b5d14a96320a7dcdda6db3803fe2cf\", element=\"cc3d3b0a-5c38-4657-af13-2409d3e7e0fa\")>,\n",
       " <selenium.webdriver.remote.webelement.WebElement (session=\"89b5d14a96320a7dcdda6db3803fe2cf\", element=\"4dc06fba-f783-4977-9f4b-61829498cab5\")>,\n",
       " <selenium.webdriver.remote.webelement.WebElement (session=\"89b5d14a96320a7dcdda6db3803fe2cf\", element=\"32a34d5b-fc2b-4b91-b167-7267991019d8\")>,\n",
       " <selenium.webdriver.remote.webelement.WebElement (session=\"89b5d14a96320a7dcdda6db3803fe2cf\", element=\"75435b94-76b6-4772-a4e2-6bf85dabfcfa\")>,\n",
       " <selenium.webdriver.remote.webelement.WebElement (session=\"89b5d14a96320a7dcdda6db3803fe2cf\", element=\"3c6e25f0-fc83-4080-bc76-b440222ca376\")>,\n",
       " <selenium.webdriver.remote.webelement.WebElement (session=\"89b5d14a96320a7dcdda6db3803fe2cf\", element=\"b6c2fabb-dfe4-4026-9355-10758e234316\")>,\n",
       " <selenium.webdriver.remote.webelement.WebElement (session=\"89b5d14a96320a7dcdda6db3803fe2cf\", element=\"7908be29-28d1-4686-b097-e25719e0f74e\")>,\n",
       " <selenium.webdriver.remote.webelement.WebElement (session=\"89b5d14a96320a7dcdda6db3803fe2cf\", element=\"3e5a65e4-6289-41c0-afb4-04b0b0d12db4\")>,\n",
       " <selenium.webdriver.remote.webelement.WebElement (session=\"89b5d14a96320a7dcdda6db3803fe2cf\", element=\"368a4179-eb64-4209-bb73-8f6c13c684cf\")>,\n",
       " <selenium.webdriver.remote.webelement.WebElement (session=\"89b5d14a96320a7dcdda6db3803fe2cf\", element=\"b82b98b8-ca76-4a6d-b195-54c985836484\")>,\n",
       " <selenium.webdriver.remote.webelement.WebElement (session=\"89b5d14a96320a7dcdda6db3803fe2cf\", element=\"d6b01645-6b07-4650-a625-5e92eed53bd9\")>,\n",
       " <selenium.webdriver.remote.webelement.WebElement (session=\"89b5d14a96320a7dcdda6db3803fe2cf\", element=\"93d2ec65-611d-4f01-87c3-82e560a9b63d\")>,\n",
       " <selenium.webdriver.remote.webelement.WebElement (session=\"89b5d14a96320a7dcdda6db3803fe2cf\", element=\"42d2a082-762c-4e62-9e6d-613ec5a06303\")>,\n",
       " <selenium.webdriver.remote.webelement.WebElement (session=\"89b5d14a96320a7dcdda6db3803fe2cf\", element=\"20219b01-1905-4fc0-8aec-a391b196ee2d\")>,\n",
       " <selenium.webdriver.remote.webelement.WebElement (session=\"89b5d14a96320a7dcdda6db3803fe2cf\", element=\"8fe57418-764a-4488-b884-4989fe57733c\")>,\n",
       " <selenium.webdriver.remote.webelement.WebElement (session=\"89b5d14a96320a7dcdda6db3803fe2cf\", element=\"78e19125-cec6-4f19-9e30-fba865951851\")>,\n",
       " <selenium.webdriver.remote.webelement.WebElement (session=\"89b5d14a96320a7dcdda6db3803fe2cf\", element=\"40685c9c-b8db-4170-a4b4-8228c07a45f1\")>,\n",
       " <selenium.webdriver.remote.webelement.WebElement (session=\"89b5d14a96320a7dcdda6db3803fe2cf\", element=\"39b5a1ef-d01e-4d2b-a5b4-8a97c8bcd80d\")>,\n",
       " <selenium.webdriver.remote.webelement.WebElement (session=\"89b5d14a96320a7dcdda6db3803fe2cf\", element=\"b31566e0-9b0c-41ee-85fe-e41e8015b9c6\")>,\n",
       " <selenium.webdriver.remote.webelement.WebElement (session=\"89b5d14a96320a7dcdda6db3803fe2cf\", element=\"f1edf150-ba38-4fd4-a57a-58f96303b15e\")>,\n",
       " <selenium.webdriver.remote.webelement.WebElement (session=\"89b5d14a96320a7dcdda6db3803fe2cf\", element=\"b3fc81b9-57dd-41cf-b2da-af1aa06d98a3\")>,\n",
       " <selenium.webdriver.remote.webelement.WebElement (session=\"89b5d14a96320a7dcdda6db3803fe2cf\", element=\"32a7c269-0574-45c7-a6cf-ea83b28a0f7e\")>,\n",
       " <selenium.webdriver.remote.webelement.WebElement (session=\"89b5d14a96320a7dcdda6db3803fe2cf\", element=\"765a682a-3deb-479a-9737-558ed5f5c8fe\")>,\n",
       " <selenium.webdriver.remote.webelement.WebElement (session=\"89b5d14a96320a7dcdda6db3803fe2cf\", element=\"186b35ef-2abf-4c2e-b386-356086ee8f45\")>,\n",
       " <selenium.webdriver.remote.webelement.WebElement (session=\"89b5d14a96320a7dcdda6db3803fe2cf\", element=\"abaa6f4b-95d7-4dce-ac8e-cc4a46f58685\")>,\n",
       " <selenium.webdriver.remote.webelement.WebElement (session=\"89b5d14a96320a7dcdda6db3803fe2cf\", element=\"313498f7-528e-476f-8caa-e8aa9c131b03\")>,\n",
       " <selenium.webdriver.remote.webelement.WebElement (session=\"89b5d14a96320a7dcdda6db3803fe2cf\", element=\"a717813c-e324-43da-a15d-7d47bd711d9a\")>,\n",
       " <selenium.webdriver.remote.webelement.WebElement (session=\"89b5d14a96320a7dcdda6db3803fe2cf\", element=\"c4aef946-b35f-4557-9b0b-e71e9f586ffe\")>,\n",
       " <selenium.webdriver.remote.webelement.WebElement (session=\"89b5d14a96320a7dcdda6db3803fe2cf\", element=\"65649d94-ea88-4482-aab3-bb83eee7cf9f\")>,\n",
       " <selenium.webdriver.remote.webelement.WebElement (session=\"89b5d14a96320a7dcdda6db3803fe2cf\", element=\"3e02649a-cfbf-401a-972c-9703dc3f9424\")>,\n",
       " <selenium.webdriver.remote.webelement.WebElement (session=\"89b5d14a96320a7dcdda6db3803fe2cf\", element=\"7d230f76-0011-49fd-8cee-da7e5e7b02c5\")>,\n",
       " <selenium.webdriver.remote.webelement.WebElement (session=\"89b5d14a96320a7dcdda6db3803fe2cf\", element=\"ceafb2d7-e564-41a9-9daf-d05a78c8b714\")>,\n",
       " <selenium.webdriver.remote.webelement.WebElement (session=\"89b5d14a96320a7dcdda6db3803fe2cf\", element=\"1d6517a6-de0f-485c-bdc0-64d51663699b\")>,\n",
       " <selenium.webdriver.remote.webelement.WebElement (session=\"89b5d14a96320a7dcdda6db3803fe2cf\", element=\"330460c1-b0c9-4cb8-9df4-e073f1105f18\")>,\n",
       " <selenium.webdriver.remote.webelement.WebElement (session=\"89b5d14a96320a7dcdda6db3803fe2cf\", element=\"40d1be81-68ce-4cb3-a966-462421e9c9d0\")>,\n",
       " <selenium.webdriver.remote.webelement.WebElement (session=\"89b5d14a96320a7dcdda6db3803fe2cf\", element=\"78af3151-338d-443b-b8c2-731061b9471e\")>,\n",
       " <selenium.webdriver.remote.webelement.WebElement (session=\"89b5d14a96320a7dcdda6db3803fe2cf\", element=\"84452730-b910-4e0a-b856-a17cb77471ce\")>,\n",
       " <selenium.webdriver.remote.webelement.WebElement (session=\"89b5d14a96320a7dcdda6db3803fe2cf\", element=\"b8523d26-adf4-4018-9ed1-5074ea854bbf\")>,\n",
       " <selenium.webdriver.remote.webelement.WebElement (session=\"89b5d14a96320a7dcdda6db3803fe2cf\", element=\"1b7c0ec4-671e-4a5c-935e-8989f5f6e10f\")>,\n",
       " <selenium.webdriver.remote.webelement.WebElement (session=\"89b5d14a96320a7dcdda6db3803fe2cf\", element=\"c33a17c6-3e54-41d4-aa39-7a5028d337ac\")>,\n",
       " <selenium.webdriver.remote.webelement.WebElement (session=\"89b5d14a96320a7dcdda6db3803fe2cf\", element=\"e5f0244c-fb3b-48e2-9ba5-f9a45d7714ad\")>,\n",
       " <selenium.webdriver.remote.webelement.WebElement (session=\"89b5d14a96320a7dcdda6db3803fe2cf\", element=\"a3e9ef84-66f7-4f77-a3a8-088b6ef95524\")>,\n",
       " <selenium.webdriver.remote.webelement.WebElement (session=\"89b5d14a96320a7dcdda6db3803fe2cf\", element=\"91ee1aec-8652-4e75-921b-a840dbb09f95\")>,\n",
       " <selenium.webdriver.remote.webelement.WebElement (session=\"89b5d14a96320a7dcdda6db3803fe2cf\", element=\"3ade0e3e-5f97-48af-abf8-085b2a4470dc\")>,\n",
       " <selenium.webdriver.remote.webelement.WebElement (session=\"89b5d14a96320a7dcdda6db3803fe2cf\", element=\"788598d8-750e-4fb3-8521-0e197541c577\")>,\n",
       " <selenium.webdriver.remote.webelement.WebElement (session=\"89b5d14a96320a7dcdda6db3803fe2cf\", element=\"665ecbd4-bd33-48c5-9076-c6e11b0f70fe\")>,\n",
       " <selenium.webdriver.remote.webelement.WebElement (session=\"89b5d14a96320a7dcdda6db3803fe2cf\", element=\"4fc1a055-2f8d-4f80-9e89-cc7ac6c86e69\")>,\n",
       " <selenium.webdriver.remote.webelement.WebElement (session=\"89b5d14a96320a7dcdda6db3803fe2cf\", element=\"fc6b8484-3deb-418c-88d1-db7d5a080b6b\")>,\n",
       " <selenium.webdriver.remote.webelement.WebElement (session=\"89b5d14a96320a7dcdda6db3803fe2cf\", element=\"56cdcc5e-1d44-4d11-b24c-126d52c5491e\")>,\n",
       " <selenium.webdriver.remote.webelement.WebElement (session=\"89b5d14a96320a7dcdda6db3803fe2cf\", element=\"b711a9cd-d40a-4efa-b3d3-df8f399d5823\")>,\n",
       " <selenium.webdriver.remote.webelement.WebElement (session=\"89b5d14a96320a7dcdda6db3803fe2cf\", element=\"52eaa9ac-ecc0-4859-a173-bd15ef3e9e1e\")>,\n",
       " <selenium.webdriver.remote.webelement.WebElement (session=\"89b5d14a96320a7dcdda6db3803fe2cf\", element=\"eaf3d840-3b1e-4645-8d36-fe573f04feee\")>,\n",
       " <selenium.webdriver.remote.webelement.WebElement (session=\"89b5d14a96320a7dcdda6db3803fe2cf\", element=\"4ea99732-fb57-4014-80a7-bdc6493bc0c4\")>,\n",
       " <selenium.webdriver.remote.webelement.WebElement (session=\"89b5d14a96320a7dcdda6db3803fe2cf\", element=\"9f392e32-9fd5-4d99-b4ab-f3b81f567036\")>,\n",
       " <selenium.webdriver.remote.webelement.WebElement (session=\"89b5d14a96320a7dcdda6db3803fe2cf\", element=\"7e07b062-4345-464b-919d-4ddf9bc24fd6\")>,\n",
       " <selenium.webdriver.remote.webelement.WebElement (session=\"89b5d14a96320a7dcdda6db3803fe2cf\", element=\"3d0fa0b2-2c11-4503-8e3f-0d053026bd51\")>,\n",
       " <selenium.webdriver.remote.webelement.WebElement (session=\"89b5d14a96320a7dcdda6db3803fe2cf\", element=\"8ab585a0-5bab-45e8-80c7-7e153bd75204\")>,\n",
       " <selenium.webdriver.remote.webelement.WebElement (session=\"89b5d14a96320a7dcdda6db3803fe2cf\", element=\"5ffcc97f-7669-43d3-8dea-b4ba62a59739\")>,\n",
       " <selenium.webdriver.remote.webelement.WebElement (session=\"89b5d14a96320a7dcdda6db3803fe2cf\", element=\"5f8c9cfa-6260-4adc-a5bd-f855259cc0b2\")>,\n",
       " <selenium.webdriver.remote.webelement.WebElement (session=\"89b5d14a96320a7dcdda6db3803fe2cf\", element=\"66cc4496-3258-4b34-88f9-f574cb0b9a23\")>,\n",
       " <selenium.webdriver.remote.webelement.WebElement (session=\"89b5d14a96320a7dcdda6db3803fe2cf\", element=\"b49610a8-d04e-430e-9cc1-fd4ff1e84bc6\")>,\n",
       " <selenium.webdriver.remote.webelement.WebElement (session=\"89b5d14a96320a7dcdda6db3803fe2cf\", element=\"b2b138a2-3688-4d6a-8c45-beefd5eadf63\")>,\n",
       " <selenium.webdriver.remote.webelement.WebElement (session=\"89b5d14a96320a7dcdda6db3803fe2cf\", element=\"ba3ed043-67be-4708-8dd8-2be970f347ca\")>]"
      ]
     },
     "execution_count": 45,
     "metadata": {},
     "output_type": "execute_result"
    }
   ],
   "source": [
    "header2=browser.find_elements(\"xpath\",\"//div[@class='td-wrap-in']\")\n",
    "header2"
   ]
  },
  {
   "cell_type": "code",
   "execution_count": 50,
   "id": "f74c4644",
   "metadata": {},
   "outputs": [
    {
     "data": {
      "text/plain": [
       "['100', '100', '100', '100', '90', '100', '96.1', '100']"
      ]
     },
     "execution_count": 50,
     "metadata": {},
     "output_type": "execute_result"
    }
   ],
   "source": [
    "#PARSING DATA\n",
    "value_head=[]\n",
    "for data in header2:\n",
    "    #get the text data\n",
    "    temp=data.text\n",
    "    value_head.append(temp)\n",
    "value_head=value_head[2:10]\n",
    "value_head"
   ]
  },
  {
   "cell_type": "code",
   "execution_count": 51,
   "id": "d8a0194f",
   "metadata": {},
   "outputs": [
    {
     "data": {
      "text/plain": [
       "{'Academic Reputation': '100',\n",
       " 'Employer Reputation': '100',\n",
       " 'Citations per Faculty': '100',\n",
       " 'Faculty Student Ratio': '100',\n",
       " 'International Students Ratio': '90',\n",
       " 'International Faculty Ratio': '100',\n",
       " 'International Research Network\\nUnweighted': '96.1',\n",
       " 'Employment Outcomes\\nUnweighted': '100'}"
      ]
     },
     "execution_count": 51,
     "metadata": {},
     "output_type": "execute_result"
    }
   ],
   "source": [
    "d={}\n",
    "for i in range(len(column_head)):\n",
    "    d[column_head[i]]=value_head[i]\n",
    "d  "
   ]
  },
  {
   "cell_type": "code",
   "execution_count": 83,
   "id": "a574f41f",
   "metadata": {},
   "outputs": [
    {
     "data": {
      "text/plain": [
       "'{\"Academic Reputation\": \"100\", \"Employer Reputation\": \"100\", \"Citations per Faculty\": \"100\", \"Faculty Student Ratio\": \"100\", \"International Students Ratio\": \"90\", \"International Faculty Ratio\": \"100\", \"International Research Network\\\\nUnweighted\": \"96.1\", \"Employment Outcomes\\\\nUnweighted\": \"100\"}'"
      ]
     },
     "execution_count": 83,
     "metadata": {},
     "output_type": "execute_result"
    }
   ],
   "source": [
    "s1=json.dumps(d)\n",
    "s1"
   ]
  },
  {
   "cell_type": "code",
   "execution_count": 89,
   "id": "8e55840f",
   "metadata": {},
   "outputs": [],
   "source": [
    "with open('Massachusetts Institute of Technology (MIT).json','w') as f:\n",
    "    json.dump(d,f)"
   ]
  },
  {
   "cell_type": "code",
   "execution_count": null,
   "id": "3e77523b",
   "metadata": {},
   "outputs": [],
   "source": []
  }
 ],
 "metadata": {
  "kernelspec": {
   "display_name": "Python 3 (ipykernel)",
   "language": "python",
   "name": "python3"
  },
  "language_info": {
   "codemirror_mode": {
    "name": "ipython",
    "version": 3
   },
   "file_extension": ".py",
   "mimetype": "text/x-python",
   "name": "python",
   "nbconvert_exporter": "python",
   "pygments_lexer": "ipython3",
   "version": "3.9.12"
  }
 },
 "nbformat": 4,
 "nbformat_minor": 5
}
