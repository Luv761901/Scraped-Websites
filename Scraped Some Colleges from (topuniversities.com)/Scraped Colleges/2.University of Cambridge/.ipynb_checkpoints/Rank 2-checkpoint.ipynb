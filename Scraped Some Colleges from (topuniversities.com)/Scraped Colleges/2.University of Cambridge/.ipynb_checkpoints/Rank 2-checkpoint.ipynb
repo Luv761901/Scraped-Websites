{
 "cells": [
  {
   "cell_type": "markdown",
   "id": "a0ef2395",
   "metadata": {},
   "source": [
    "## Import Modules"
   ]
  },
  {
   "cell_type": "code",
   "execution_count": 1,
   "id": "5bff525c",
   "metadata": {},
   "outputs": [],
   "source": [
    "from selenium import webdriver\n",
    "from selenium.webdriver.chrome.service import Service\n",
    "import pandas as pd\n",
    "import json"
   ]
  },
  {
   "cell_type": "markdown",
   "id": "0a7494d3",
   "metadata": {},
   "source": [
    "## Set path fo Chrome Driver"
   ]
  },
  {
   "cell_type": "code",
   "execution_count": 2,
   "id": "6ca87a83",
   "metadata": {},
   "outputs": [],
   "source": [
    "path = Service('C:\\chromedriver.exe')"
   ]
  },
  {
   "cell_type": "code",
   "execution_count": 3,
   "id": "f3668c17",
   "metadata": {},
   "outputs": [],
   "source": [
    "# set path for the driver\n",
    "browser = webdriver.Chrome(service = path)"
   ]
  },
  {
   "cell_type": "code",
   "execution_count": 4,
   "id": "71159279",
   "metadata": {},
   "outputs": [],
   "source": [
    "url = \"https://www.topuniversities.com/university-rankings/world-university-rankings/2023\""
   ]
  },
  {
   "cell_type": "code",
   "execution_count": 5,
   "id": "d0aac10f",
   "metadata": {},
   "outputs": [],
   "source": [
    "# open the page url ion chrome\n",
    "browser.get(url)"
   ]
  },
  {
   "cell_type": "markdown",
   "id": "445e0ef5",
   "metadata": {},
   "source": [
    "## Scrap the data"
   ]
  },
  {
   "cell_type": "code",
   "execution_count": 13,
   "id": "3c7ab98b",
   "metadata": {},
   "outputs": [
    {
     "data": {
      "text/plain": [
       "[<selenium.webdriver.remote.webelement.WebElement (session=\"1dbafbea24a5623e2b7746094dbfc3e1\", element=\"11d6bda1-97fe-4cef-a16a-f626d7d48dc9\")>,\n",
       " <selenium.webdriver.remote.webelement.WebElement (session=\"1dbafbea24a5623e2b7746094dbfc3e1\", element=\"29504497-736a-45fd-8c1d-979c57a8d35c\")>,\n",
       " <selenium.webdriver.remote.webelement.WebElement (session=\"1dbafbea24a5623e2b7746094dbfc3e1\", element=\"11181cee-0131-482f-9724-1340e448e9fd\")>,\n",
       " <selenium.webdriver.remote.webelement.WebElement (session=\"1dbafbea24a5623e2b7746094dbfc3e1\", element=\"d69560d7-99b9-441f-8035-379bbc360e9d\")>,\n",
       " <selenium.webdriver.remote.webelement.WebElement (session=\"1dbafbea24a5623e2b7746094dbfc3e1\", element=\"e7ebe1cb-cffc-4231-a8fa-8d18d3c10585\")>,\n",
       " <selenium.webdriver.remote.webelement.WebElement (session=\"1dbafbea24a5623e2b7746094dbfc3e1\", element=\"ccb322b4-b7c4-442f-bae9-486de745726d\")>,\n",
       " <selenium.webdriver.remote.webelement.WebElement (session=\"1dbafbea24a5623e2b7746094dbfc3e1\", element=\"20a35ed9-86fa-439e-91cd-19cd3222b32d\")>,\n",
       " <selenium.webdriver.remote.webelement.WebElement (session=\"1dbafbea24a5623e2b7746094dbfc3e1\", element=\"7f071242-3a5d-4c09-95b7-968acffbd1b9\")>,\n",
       " <selenium.webdriver.remote.webelement.WebElement (session=\"1dbafbea24a5623e2b7746094dbfc3e1\", element=\"d3843184-ab2b-40ac-ad0f-449d27cd8edb\")>,\n",
       " <selenium.webdriver.remote.webelement.WebElement (session=\"1dbafbea24a5623e2b7746094dbfc3e1\", element=\"b4836d9f-9406-4b68-9c18-f17538788e1a\")>,\n",
       " <selenium.webdriver.remote.webelement.WebElement (session=\"1dbafbea24a5623e2b7746094dbfc3e1\", element=\"564a6d61-e7d0-418c-bc1d-56d57ed43dd5\")>,\n",
       " <selenium.webdriver.remote.webelement.WebElement (session=\"1dbafbea24a5623e2b7746094dbfc3e1\", element=\"6a8621b2-7524-41e0-acb4-a1867c682753\")>,\n",
       " <selenium.webdriver.remote.webelement.WebElement (session=\"1dbafbea24a5623e2b7746094dbfc3e1\", element=\"fda3b232-b0e5-46cf-8419-0cea52b3379f\")>,\n",
       " <selenium.webdriver.remote.webelement.WebElement (session=\"1dbafbea24a5623e2b7746094dbfc3e1\", element=\"f076a5ea-5e74-41ba-bd36-c3a945c75c7c\")>,\n",
       " <selenium.webdriver.remote.webelement.WebElement (session=\"1dbafbea24a5623e2b7746094dbfc3e1\", element=\"0242d5bb-ff33-433f-8b8f-129b5d510f34\")>,\n",
       " <selenium.webdriver.remote.webelement.WebElement (session=\"1dbafbea24a5623e2b7746094dbfc3e1\", element=\"0ff3dbb4-4026-404b-8666-41a8df240913\")>,\n",
       " <selenium.webdriver.remote.webelement.WebElement (session=\"1dbafbea24a5623e2b7746094dbfc3e1\", element=\"acd1cd04-3113-4848-a6fc-cb17129db85f\")>,\n",
       " <selenium.webdriver.remote.webelement.WebElement (session=\"1dbafbea24a5623e2b7746094dbfc3e1\", element=\"a13026db-fc73-4997-92e6-86548bf79ffd\")>,\n",
       " <selenium.webdriver.remote.webelement.WebElement (session=\"1dbafbea24a5623e2b7746094dbfc3e1\", element=\"73dc107f-8463-48c3-bf72-b2d9ef0f5ecd\")>,\n",
       " <selenium.webdriver.remote.webelement.WebElement (session=\"1dbafbea24a5623e2b7746094dbfc3e1\", element=\"9d3b6d5e-d340-471d-b439-99c1624fdece\")>]"
      ]
     },
     "execution_count": 13,
     "metadata": {},
     "output_type": "execute_result"
    }
   ],
   "source": [
    "l1=browser.find_elements(\"xpath\",\"//div[@class='location ']\")\n",
    "l1"
   ]
  },
  {
   "cell_type": "code",
   "execution_count": 14,
   "id": "edaba3b8",
   "metadata": {},
   "outputs": [
    {
     "data": {
      "text/plain": [
       "['Cambridge, United States',\n",
       " 'Cambridge, United Kingdom',\n",
       " 'Stanford, United States',\n",
       " 'Oxford, United Kingdom',\n",
       " 'Cambridge, United States',\n",
       " 'Pasadena, United States',\n",
       " 'London, United Kingdom',\n",
       " 'London, United Kingdom',\n",
       " 'Zürich, Switzerland',\n",
       " 'Chicago, United States']"
      ]
     },
     "execution_count": 14,
     "metadata": {},
     "output_type": "execute_result"
    }
   ],
   "source": [
    "loc=[]\n",
    "for data in l1:\n",
    "    #get the text data\n",
    "    temp=data.text\n",
    "    loc.append(temp)\n",
    "loc=loc[10:]\n",
    "loc"
   ]
  },
  {
   "cell_type": "code",
   "execution_count": 15,
   "id": "dc1e3bc9",
   "metadata": {},
   "outputs": [
    {
     "data": {
      "text/plain": [
       "[<selenium.webdriver.remote.webelement.WebElement (session=\"1dbafbea24a5623e2b7746094dbfc3e1\", element=\"c0c75d64-8010-4b9c-b9b9-e7263c796cbb\")>,\n",
       " <selenium.webdriver.remote.webelement.WebElement (session=\"1dbafbea24a5623e2b7746094dbfc3e1\", element=\"f61ce2d6-f8cd-4d4c-927e-1f21bb2b110b\")>,\n",
       " <selenium.webdriver.remote.webelement.WebElement (session=\"1dbafbea24a5623e2b7746094dbfc3e1\", element=\"93c4d1dc-b2e7-45f7-b923-7f497062e34a\")>,\n",
       " <selenium.webdriver.remote.webelement.WebElement (session=\"1dbafbea24a5623e2b7746094dbfc3e1\", element=\"516a144a-561d-46c5-bf56-9a54d8d338f3\")>,\n",
       " <selenium.webdriver.remote.webelement.WebElement (session=\"1dbafbea24a5623e2b7746094dbfc3e1\", element=\"bec51558-b35c-451d-9a42-f8955fc5a4ad\")>,\n",
       " <selenium.webdriver.remote.webelement.WebElement (session=\"1dbafbea24a5623e2b7746094dbfc3e1\", element=\"5fa63141-bf46-476a-a1d8-581b42a5eeb7\")>,\n",
       " <selenium.webdriver.remote.webelement.WebElement (session=\"1dbafbea24a5623e2b7746094dbfc3e1\", element=\"8024074a-6408-4fc4-b51d-c559319aa953\")>,\n",
       " <selenium.webdriver.remote.webelement.WebElement (session=\"1dbafbea24a5623e2b7746094dbfc3e1\", element=\"dbeeed3b-783a-4dbc-b3c7-5cec671d91b7\")>,\n",
       " <selenium.webdriver.remote.webelement.WebElement (session=\"1dbafbea24a5623e2b7746094dbfc3e1\", element=\"f75c7efe-d908-442c-ab78-eb22a6f43e04\")>,\n",
       " <selenium.webdriver.remote.webelement.WebElement (session=\"1dbafbea24a5623e2b7746094dbfc3e1\", element=\"3a507b2c-5589-42b5-b7b8-096353527d25\")>]"
      ]
     },
     "execution_count": 15,
     "metadata": {},
     "output_type": "execute_result"
    }
   ],
   "source": [
    "l2=browser.find_elements(\"xpath\",\"//div[@class='_univ-rank ']\")\n",
    "l2"
   ]
  },
  {
   "cell_type": "code",
   "execution_count": 16,
   "id": "a423d1ef",
   "metadata": {},
   "outputs": [
    {
     "data": {
      "text/plain": [
       "['1', '2', '3', '4', '5', '=6', '=6', '8', '9', '10']"
      ]
     },
     "execution_count": 16,
     "metadata": {},
     "output_type": "execute_result"
    }
   ],
   "source": [
    "RANK=[]\n",
    "for data in l2:\n",
    "    #get the text data\n",
    "    temp=data.text\n",
    "    RANK.append(temp)\n",
    "RANK"
   ]
  },
  {
   "cell_type": "code",
   "execution_count": 17,
   "id": "0a873b6a",
   "metadata": {},
   "outputs": [
    {
     "data": {
      "text/plain": [
       "[<selenium.webdriver.remote.webelement.WebElement (session=\"1dbafbea24a5623e2b7746094dbfc3e1\", element=\"e62dbe10-9fa8-4fba-be3a-6cfe0c96bc7c\")>,\n",
       " <selenium.webdriver.remote.webelement.WebElement (session=\"1dbafbea24a5623e2b7746094dbfc3e1\", element=\"45fec273-97bd-44ec-8a83-a99ad5eb984b\")>,\n",
       " <selenium.webdriver.remote.webelement.WebElement (session=\"1dbafbea24a5623e2b7746094dbfc3e1\", element=\"d79c61ca-074c-462e-bd77-213be012bea1\")>,\n",
       " <selenium.webdriver.remote.webelement.WebElement (session=\"1dbafbea24a5623e2b7746094dbfc3e1\", element=\"d6297db6-bbcf-483a-b91a-b91d59a75f28\")>,\n",
       " <selenium.webdriver.remote.webelement.WebElement (session=\"1dbafbea24a5623e2b7746094dbfc3e1\", element=\"06163a8c-8aff-4267-9e88-9ff50c638c09\")>,\n",
       " <selenium.webdriver.remote.webelement.WebElement (session=\"1dbafbea24a5623e2b7746094dbfc3e1\", element=\"b79f6345-caaf-4f03-8414-19097542d01b\")>,\n",
       " <selenium.webdriver.remote.webelement.WebElement (session=\"1dbafbea24a5623e2b7746094dbfc3e1\", element=\"1d8e2392-1ac0-4a68-a624-5b5064bed95a\")>,\n",
       " <selenium.webdriver.remote.webelement.WebElement (session=\"1dbafbea24a5623e2b7746094dbfc3e1\", element=\"653f3b4a-587b-45c7-833f-68f2ce4ae72e\")>,\n",
       " <selenium.webdriver.remote.webelement.WebElement (session=\"1dbafbea24a5623e2b7746094dbfc3e1\", element=\"9a862393-87b7-46ff-95e3-52ce3d7e136b\")>]"
      ]
     },
     "execution_count": 17,
     "metadata": {},
     "output_type": "execute_result"
    }
   ],
   "source": [
    "# GET EACH COLLEGE SPECIFICATION HEADERS\n",
    "header=browser.find_elements(\"xpath\",\"//div[@class='_click-function_ind']\")\n",
    "header"
   ]
  },
  {
   "cell_type": "code",
   "execution_count": 18,
   "id": "c852e69f",
   "metadata": {},
   "outputs": [
    {
     "data": {
      "text/plain": [
       "['Overall Score',\n",
       " 'Academic Reputation',\n",
       " 'Employer Reputation',\n",
       " 'Citations per Faculty',\n",
       " 'Faculty Student Ratio',\n",
       " 'International Students Ratio',\n",
       " 'International Faculty Ratio',\n",
       " 'International Research Network\\nUnweighted',\n",
       " 'Employment Outcomes\\nUnweighted']"
      ]
     },
     "execution_count": 18,
     "metadata": {},
     "output_type": "execute_result"
    }
   ],
   "source": [
    "#PARSING DATA\n",
    "column_head=[]\n",
    "for data in header:\n",
    "    #get the text data\n",
    "    temp=data.text\n",
    "    column_head.append(temp)\n",
    "column_head"
   ]
  },
  {
   "cell_type": "code",
   "execution_count": 19,
   "id": "e9960882",
   "metadata": {},
   "outputs": [
    {
     "data": {
      "text/plain": [
       "[<selenium.webdriver.remote.webelement.WebElement (session=\"1dbafbea24a5623e2b7746094dbfc3e1\", element=\"cc9062f0-fc63-4fc9-befd-4258a0456d94\")>,\n",
       " <selenium.webdriver.remote.webelement.WebElement (session=\"1dbafbea24a5623e2b7746094dbfc3e1\", element=\"426594e2-d418-4f28-998f-dfade7e8937e\")>,\n",
       " <selenium.webdriver.remote.webelement.WebElement (session=\"1dbafbea24a5623e2b7746094dbfc3e1\", element=\"0debb1b8-f8c9-4032-bdb6-7ff4fa977532\")>,\n",
       " <selenium.webdriver.remote.webelement.WebElement (session=\"1dbafbea24a5623e2b7746094dbfc3e1\", element=\"4923da67-40f3-4a38-84d8-c9e89894ae26\")>,\n",
       " <selenium.webdriver.remote.webelement.WebElement (session=\"1dbafbea24a5623e2b7746094dbfc3e1\", element=\"91c49fdb-97ff-4fb0-9458-aeb9cd937fd6\")>,\n",
       " <selenium.webdriver.remote.webelement.WebElement (session=\"1dbafbea24a5623e2b7746094dbfc3e1\", element=\"ec806818-66cb-4044-a9f4-0ba7160803bc\")>,\n",
       " <selenium.webdriver.remote.webelement.WebElement (session=\"1dbafbea24a5623e2b7746094dbfc3e1\", element=\"147ad6b4-d7c8-4185-aa23-5810f29eb146\")>,\n",
       " <selenium.webdriver.remote.webelement.WebElement (session=\"1dbafbea24a5623e2b7746094dbfc3e1\", element=\"16e3889d-76cb-4a38-b091-ce02e7ffbe1e\")>,\n",
       " <selenium.webdriver.remote.webelement.WebElement (session=\"1dbafbea24a5623e2b7746094dbfc3e1\", element=\"9fb8cc66-721d-41fd-9283-d4dc7a0c7f5f\")>,\n",
       " <selenium.webdriver.remote.webelement.WebElement (session=\"1dbafbea24a5623e2b7746094dbfc3e1\", element=\"6e6ae271-953e-4b5a-ab13-22430470ca99\")>,\n",
       " <selenium.webdriver.remote.webelement.WebElement (session=\"1dbafbea24a5623e2b7746094dbfc3e1\", element=\"13d6a736-4b88-4835-ac28-652e49908450\")>,\n",
       " <selenium.webdriver.remote.webelement.WebElement (session=\"1dbafbea24a5623e2b7746094dbfc3e1\", element=\"c0900120-b275-4253-b167-778de76ac570\")>,\n",
       " <selenium.webdriver.remote.webelement.WebElement (session=\"1dbafbea24a5623e2b7746094dbfc3e1\", element=\"feb66b1a-c607-48ce-9632-14e21bbcf9dc\")>,\n",
       " <selenium.webdriver.remote.webelement.WebElement (session=\"1dbafbea24a5623e2b7746094dbfc3e1\", element=\"32d35e0c-9ce6-4e3c-94e5-1036c3d24d8d\")>,\n",
       " <selenium.webdriver.remote.webelement.WebElement (session=\"1dbafbea24a5623e2b7746094dbfc3e1\", element=\"3a0c2bcd-57e5-4d29-80fd-36acbdb5109a\")>,\n",
       " <selenium.webdriver.remote.webelement.WebElement (session=\"1dbafbea24a5623e2b7746094dbfc3e1\", element=\"f9b8ff35-c5fa-4e38-8f16-8868a14e1d74\")>,\n",
       " <selenium.webdriver.remote.webelement.WebElement (session=\"1dbafbea24a5623e2b7746094dbfc3e1\", element=\"8393abba-672b-4ee9-85ae-d4cf4a90163d\")>,\n",
       " <selenium.webdriver.remote.webelement.WebElement (session=\"1dbafbea24a5623e2b7746094dbfc3e1\", element=\"73815d5f-9dd2-49f7-b1ff-b26fcbb31ef5\")>,\n",
       " <selenium.webdriver.remote.webelement.WebElement (session=\"1dbafbea24a5623e2b7746094dbfc3e1\", element=\"09131a2e-b393-481c-b179-7e2a126d2af4\")>,\n",
       " <selenium.webdriver.remote.webelement.WebElement (session=\"1dbafbea24a5623e2b7746094dbfc3e1\", element=\"0cad36a7-d9be-4fa1-bdef-d68db7aed3ad\")>,\n",
       " <selenium.webdriver.remote.webelement.WebElement (session=\"1dbafbea24a5623e2b7746094dbfc3e1\", element=\"20ba1263-944c-45c7-99cd-fd534b4ae6eb\")>,\n",
       " <selenium.webdriver.remote.webelement.WebElement (session=\"1dbafbea24a5623e2b7746094dbfc3e1\", element=\"f08201ec-dd7f-4858-9cd9-28f2efa447db\")>,\n",
       " <selenium.webdriver.remote.webelement.WebElement (session=\"1dbafbea24a5623e2b7746094dbfc3e1\", element=\"a9441a13-09f3-4742-bd1d-f9e0be24a2db\")>,\n",
       " <selenium.webdriver.remote.webelement.WebElement (session=\"1dbafbea24a5623e2b7746094dbfc3e1\", element=\"17ef9f9a-ff40-4573-be76-41bca4be03d7\")>,\n",
       " <selenium.webdriver.remote.webelement.WebElement (session=\"1dbafbea24a5623e2b7746094dbfc3e1\", element=\"7289824d-8523-469a-b119-b0847333f370\")>,\n",
       " <selenium.webdriver.remote.webelement.WebElement (session=\"1dbafbea24a5623e2b7746094dbfc3e1\", element=\"ff4cd5e6-9519-44ec-a477-a7a3a864e7e2\")>,\n",
       " <selenium.webdriver.remote.webelement.WebElement (session=\"1dbafbea24a5623e2b7746094dbfc3e1\", element=\"8af787f4-c108-4644-8404-862bb9fae379\")>,\n",
       " <selenium.webdriver.remote.webelement.WebElement (session=\"1dbafbea24a5623e2b7746094dbfc3e1\", element=\"56ff20ff-2139-4e4e-91c2-ca377e77ce41\")>,\n",
       " <selenium.webdriver.remote.webelement.WebElement (session=\"1dbafbea24a5623e2b7746094dbfc3e1\", element=\"268d5482-a1c3-443f-a491-57fcbc8807f3\")>,\n",
       " <selenium.webdriver.remote.webelement.WebElement (session=\"1dbafbea24a5623e2b7746094dbfc3e1\", element=\"01adee09-a462-4dcc-9191-34ce8861f0ee\")>,\n",
       " <selenium.webdriver.remote.webelement.WebElement (session=\"1dbafbea24a5623e2b7746094dbfc3e1\", element=\"078e16d1-b77b-4f61-8890-5b695dc805ac\")>,\n",
       " <selenium.webdriver.remote.webelement.WebElement (session=\"1dbafbea24a5623e2b7746094dbfc3e1\", element=\"dcd479db-f87b-46d7-9f8d-a7cd6acc6671\")>,\n",
       " <selenium.webdriver.remote.webelement.WebElement (session=\"1dbafbea24a5623e2b7746094dbfc3e1\", element=\"7b430070-0940-4517-af58-9e0427d736b0\")>,\n",
       " <selenium.webdriver.remote.webelement.WebElement (session=\"1dbafbea24a5623e2b7746094dbfc3e1\", element=\"a68dacfd-a4af-4721-9e7f-2cd8870e4055\")>,\n",
       " <selenium.webdriver.remote.webelement.WebElement (session=\"1dbafbea24a5623e2b7746094dbfc3e1\", element=\"89d76e4a-b1f8-45db-90a2-fbdc31d67a76\")>,\n",
       " <selenium.webdriver.remote.webelement.WebElement (session=\"1dbafbea24a5623e2b7746094dbfc3e1\", element=\"db07010f-9810-49a6-92ee-2b2263f981d3\")>,\n",
       " <selenium.webdriver.remote.webelement.WebElement (session=\"1dbafbea24a5623e2b7746094dbfc3e1\", element=\"9b594348-a831-4819-8d0d-42d8e159413d\")>,\n",
       " <selenium.webdriver.remote.webelement.WebElement (session=\"1dbafbea24a5623e2b7746094dbfc3e1\", element=\"70a410ec-b674-4745-a8b7-94f28e630681\")>,\n",
       " <selenium.webdriver.remote.webelement.WebElement (session=\"1dbafbea24a5623e2b7746094dbfc3e1\", element=\"150e2984-317b-4e92-a6ed-850783199378\")>,\n",
       " <selenium.webdriver.remote.webelement.WebElement (session=\"1dbafbea24a5623e2b7746094dbfc3e1\", element=\"53f9559d-83a9-49ab-8a02-66073a959011\")>,\n",
       " <selenium.webdriver.remote.webelement.WebElement (session=\"1dbafbea24a5623e2b7746094dbfc3e1\", element=\"16705284-5e8b-4a39-b558-c9c6297bee96\")>,\n",
       " <selenium.webdriver.remote.webelement.WebElement (session=\"1dbafbea24a5623e2b7746094dbfc3e1\", element=\"f2c3eb8f-d4da-4c6c-b622-f561649994b4\")>,\n",
       " <selenium.webdriver.remote.webelement.WebElement (session=\"1dbafbea24a5623e2b7746094dbfc3e1\", element=\"82354681-943e-43a3-8910-857ccae9dc1e\")>,\n",
       " <selenium.webdriver.remote.webelement.WebElement (session=\"1dbafbea24a5623e2b7746094dbfc3e1\", element=\"635ead19-20f9-4193-9ecd-14bc14d8b3cd\")>,\n",
       " <selenium.webdriver.remote.webelement.WebElement (session=\"1dbafbea24a5623e2b7746094dbfc3e1\", element=\"9d6220c7-6ec6-4cd3-9273-7a4ceebdc86e\")>,\n",
       " <selenium.webdriver.remote.webelement.WebElement (session=\"1dbafbea24a5623e2b7746094dbfc3e1\", element=\"0161c15f-e66d-4398-ba07-e77e0fe4d94a\")>,\n",
       " <selenium.webdriver.remote.webelement.WebElement (session=\"1dbafbea24a5623e2b7746094dbfc3e1\", element=\"5f84d27f-ad48-4633-8138-d557ba85cb54\")>,\n",
       " <selenium.webdriver.remote.webelement.WebElement (session=\"1dbafbea24a5623e2b7746094dbfc3e1\", element=\"af4b4849-40a0-4b57-9d7a-70abef78a50a\")>,\n",
       " <selenium.webdriver.remote.webelement.WebElement (session=\"1dbafbea24a5623e2b7746094dbfc3e1\", element=\"50b81091-19b9-4b0c-8e3b-93ca9b18580a\")>,\n",
       " <selenium.webdriver.remote.webelement.WebElement (session=\"1dbafbea24a5623e2b7746094dbfc3e1\", element=\"a980e9e2-1f70-4117-9405-d16374e0dfd0\")>,\n",
       " <selenium.webdriver.remote.webelement.WebElement (session=\"1dbafbea24a5623e2b7746094dbfc3e1\", element=\"4fb05c89-0623-4529-9c06-ffa12dbd1bfd\")>,\n",
       " <selenium.webdriver.remote.webelement.WebElement (session=\"1dbafbea24a5623e2b7746094dbfc3e1\", element=\"782e116f-ccf7-461e-b492-75d1cb85d0d9\")>,\n",
       " <selenium.webdriver.remote.webelement.WebElement (session=\"1dbafbea24a5623e2b7746094dbfc3e1\", element=\"ab9fee14-aef4-4a36-ad29-abd284f3908f\")>,\n",
       " <selenium.webdriver.remote.webelement.WebElement (session=\"1dbafbea24a5623e2b7746094dbfc3e1\", element=\"b45c3942-1b34-4177-a71b-77c759f9ced2\")>,\n",
       " <selenium.webdriver.remote.webelement.WebElement (session=\"1dbafbea24a5623e2b7746094dbfc3e1\", element=\"d9f7d781-508d-4e9d-b6db-38645fee3d7c\")>,\n",
       " <selenium.webdriver.remote.webelement.WebElement (session=\"1dbafbea24a5623e2b7746094dbfc3e1\", element=\"905f0fba-5db9-4978-8bc7-a7a977028d09\")>,\n",
       " <selenium.webdriver.remote.webelement.WebElement (session=\"1dbafbea24a5623e2b7746094dbfc3e1\", element=\"9d5869b8-83a6-47f1-960b-fe5ed31c50c9\")>,\n",
       " <selenium.webdriver.remote.webelement.WebElement (session=\"1dbafbea24a5623e2b7746094dbfc3e1\", element=\"c753789c-39bd-4d02-b789-9d5cad1b2286\")>,\n",
       " <selenium.webdriver.remote.webelement.WebElement (session=\"1dbafbea24a5623e2b7746094dbfc3e1\", element=\"0e836ee9-2b2a-4bd6-a439-d15a6f1dcfcd\")>,\n",
       " <selenium.webdriver.remote.webelement.WebElement (session=\"1dbafbea24a5623e2b7746094dbfc3e1\", element=\"75305077-1921-4f40-b4fe-e56932523f30\")>,\n",
       " <selenium.webdriver.remote.webelement.WebElement (session=\"1dbafbea24a5623e2b7746094dbfc3e1\", element=\"26e1ae98-a648-4504-b6de-da7a1675c059\")>,\n",
       " <selenium.webdriver.remote.webelement.WebElement (session=\"1dbafbea24a5623e2b7746094dbfc3e1\", element=\"9758a7db-0460-4621-b2db-64357829445b\")>,\n",
       " <selenium.webdriver.remote.webelement.WebElement (session=\"1dbafbea24a5623e2b7746094dbfc3e1\", element=\"5702db58-2016-441f-9b11-a7e6004aa755\")>,\n",
       " <selenium.webdriver.remote.webelement.WebElement (session=\"1dbafbea24a5623e2b7746094dbfc3e1\", element=\"59c03a0d-9018-4e87-8ab0-b82ff6c46187\")>,\n",
       " <selenium.webdriver.remote.webelement.WebElement (session=\"1dbafbea24a5623e2b7746094dbfc3e1\", element=\"901b2d9b-4fd5-4a55-bc2e-b11673139859\")>,\n",
       " <selenium.webdriver.remote.webelement.WebElement (session=\"1dbafbea24a5623e2b7746094dbfc3e1\", element=\"cf8063bd-34d6-4d6a-96ab-2057280ea7de\")>,\n",
       " <selenium.webdriver.remote.webelement.WebElement (session=\"1dbafbea24a5623e2b7746094dbfc3e1\", element=\"23792528-e99f-4234-ae19-b2224e50a2e3\")>,\n",
       " <selenium.webdriver.remote.webelement.WebElement (session=\"1dbafbea24a5623e2b7746094dbfc3e1\", element=\"f7a38914-6958-497c-9a32-a4bf648cfcaf\")>,\n",
       " <selenium.webdriver.remote.webelement.WebElement (session=\"1dbafbea24a5623e2b7746094dbfc3e1\", element=\"c9fe82f6-f489-42e0-bef5-cb6617818f10\")>,\n",
       " <selenium.webdriver.remote.webelement.WebElement (session=\"1dbafbea24a5623e2b7746094dbfc3e1\", element=\"e88ba7ba-315d-4ca8-b269-69ae82c86b13\")>,\n",
       " <selenium.webdriver.remote.webelement.WebElement (session=\"1dbafbea24a5623e2b7746094dbfc3e1\", element=\"5ec08c1a-3dcd-48fb-b8ce-3bc8f3ce6683\")>,\n",
       " <selenium.webdriver.remote.webelement.WebElement (session=\"1dbafbea24a5623e2b7746094dbfc3e1\", element=\"4c88ed26-e847-4ec1-ad99-e8a50aef710c\")>,\n",
       " <selenium.webdriver.remote.webelement.WebElement (session=\"1dbafbea24a5623e2b7746094dbfc3e1\", element=\"88971d7e-14a3-483c-b06f-c30daf172671\")>,\n",
       " <selenium.webdriver.remote.webelement.WebElement (session=\"1dbafbea24a5623e2b7746094dbfc3e1\", element=\"29a31d1b-cd7d-469b-a82b-6de522505768\")>,\n",
       " <selenium.webdriver.remote.webelement.WebElement (session=\"1dbafbea24a5623e2b7746094dbfc3e1\", element=\"63d36779-c135-47d0-ab74-fbc1a723c8cc\")>,\n",
       " <selenium.webdriver.remote.webelement.WebElement (session=\"1dbafbea24a5623e2b7746094dbfc3e1\", element=\"1539757a-5619-4c19-a00e-1e5a170ff5a0\")>,\n",
       " <selenium.webdriver.remote.webelement.WebElement (session=\"1dbafbea24a5623e2b7746094dbfc3e1\", element=\"6b1491ee-151b-46f3-9796-c3efe3bad233\")>,\n",
       " <selenium.webdriver.remote.webelement.WebElement (session=\"1dbafbea24a5623e2b7746094dbfc3e1\", element=\"94df8926-4757-4200-a218-e90889ed617d\")>,\n",
       " <selenium.webdriver.remote.webelement.WebElement (session=\"1dbafbea24a5623e2b7746094dbfc3e1\", element=\"783b2eed-ae0a-40e4-b20c-f6eba1c1c677\")>,\n",
       " <selenium.webdriver.remote.webelement.WebElement (session=\"1dbafbea24a5623e2b7746094dbfc3e1\", element=\"cccc1107-4d06-4f40-92ae-4fe180ff7064\")>,\n",
       " <selenium.webdriver.remote.webelement.WebElement (session=\"1dbafbea24a5623e2b7746094dbfc3e1\", element=\"0d3ef722-5663-4d6f-85b4-690dac743104\")>,\n",
       " <selenium.webdriver.remote.webelement.WebElement (session=\"1dbafbea24a5623e2b7746094dbfc3e1\", element=\"fa6b969a-e9dd-4dfb-a184-5194cec881dd\")>,\n",
       " <selenium.webdriver.remote.webelement.WebElement (session=\"1dbafbea24a5623e2b7746094dbfc3e1\", element=\"91c02a87-8c28-4f2d-9c14-9f4dbaa6e5f7\")>,\n",
       " <selenium.webdriver.remote.webelement.WebElement (session=\"1dbafbea24a5623e2b7746094dbfc3e1\", element=\"908579e6-7089-46e6-9226-aaf7ae1aeac8\")>,\n",
       " <selenium.webdriver.remote.webelement.WebElement (session=\"1dbafbea24a5623e2b7746094dbfc3e1\", element=\"ef4113db-aa95-43ac-95ca-9759389f5413\")>,\n",
       " <selenium.webdriver.remote.webelement.WebElement (session=\"1dbafbea24a5623e2b7746094dbfc3e1\", element=\"98bb429b-a1e2-4336-96a2-09f2ef1c2142\")>,\n",
       " <selenium.webdriver.remote.webelement.WebElement (session=\"1dbafbea24a5623e2b7746094dbfc3e1\", element=\"6ebd4ecb-f945-4dcf-acfa-11b3d7a51483\")>,\n",
       " <selenium.webdriver.remote.webelement.WebElement (session=\"1dbafbea24a5623e2b7746094dbfc3e1\", element=\"abcd976f-a6e9-464d-8294-1076ac1dec58\")>,\n",
       " <selenium.webdriver.remote.webelement.WebElement (session=\"1dbafbea24a5623e2b7746094dbfc3e1\", element=\"108c2705-e211-4c3c-8cbb-371964660d86\")>,\n",
       " <selenium.webdriver.remote.webelement.WebElement (session=\"1dbafbea24a5623e2b7746094dbfc3e1\", element=\"bc6c18dc-f3ec-4cff-ab75-abaeed2b6d31\")>,\n",
       " <selenium.webdriver.remote.webelement.WebElement (session=\"1dbafbea24a5623e2b7746094dbfc3e1\", element=\"304fd267-d8cb-420d-bbe3-678d219f5986\")>,\n",
       " <selenium.webdriver.remote.webelement.WebElement (session=\"1dbafbea24a5623e2b7746094dbfc3e1\", element=\"6d0741a3-7b5d-46f8-9877-ca1c6aabd050\")>,\n",
       " <selenium.webdriver.remote.webelement.WebElement (session=\"1dbafbea24a5623e2b7746094dbfc3e1\", element=\"4ddef718-b346-41eb-9b09-edfb94718a92\")>,\n",
       " <selenium.webdriver.remote.webelement.WebElement (session=\"1dbafbea24a5623e2b7746094dbfc3e1\", element=\"62c24a17-b3bc-4eaf-9b8d-fcda71fbb4ac\")>,\n",
       " <selenium.webdriver.remote.webelement.WebElement (session=\"1dbafbea24a5623e2b7746094dbfc3e1\", element=\"d91eba2f-af1e-4733-b3cb-6201406f9153\")>,\n",
       " <selenium.webdriver.remote.webelement.WebElement (session=\"1dbafbea24a5623e2b7746094dbfc3e1\", element=\"7e51b8fb-7471-4b5f-85d0-03599441a606\")>,\n",
       " <selenium.webdriver.remote.webelement.WebElement (session=\"1dbafbea24a5623e2b7746094dbfc3e1\", element=\"80797d9e-bc7a-469a-b3ac-a23881baeeb4\")>,\n",
       " <selenium.webdriver.remote.webelement.WebElement (session=\"1dbafbea24a5623e2b7746094dbfc3e1\", element=\"2f5f24a2-6ce3-475e-9a59-9e074c7abfb1\")>,\n",
       " <selenium.webdriver.remote.webelement.WebElement (session=\"1dbafbea24a5623e2b7746094dbfc3e1\", element=\"3f5f8d86-b5b6-4116-a289-06e51e84691f\")>,\n",
       " <selenium.webdriver.remote.webelement.WebElement (session=\"1dbafbea24a5623e2b7746094dbfc3e1\", element=\"70dc0f4e-6345-43e8-8421-72f95bd5d71e\")>]"
      ]
     },
     "execution_count": 19,
     "metadata": {},
     "output_type": "execute_result"
    }
   ],
   "source": [
    "header2=browser.find_elements(\"xpath\",\"//div[@class='td-wrap-in']\")\n",
    "header2"
   ]
  },
  {
   "cell_type": "code",
   "execution_count": 22,
   "id": "f74c4644",
   "metadata": {},
   "outputs": [
    {
     "data": {
      "text/plain": [
       "['98.8', '100', '100', '92.3', '100', '96.3', '100', '99.5', '100']"
      ]
     },
     "execution_count": 22,
     "metadata": {},
     "output_type": "execute_result"
    }
   ],
   "source": [
    "#PARSING DATA\n",
    "value_head=[]\n",
    "for data in header2:\n",
    "    #get the text data\n",
    "    temp=data.text\n",
    "    value_head.append(temp)\n",
    "value=value_head[11:20]\n",
    "value"
   ]
  },
  {
   "cell_type": "code",
   "execution_count": 25,
   "id": "d8a0194f",
   "metadata": {},
   "outputs": [
    {
     "data": {
      "text/plain": [
       "{'Name': 'University of Cambridge',\n",
       " 'Location': 'Cambridge, United Kingdom',\n",
       " 'Rank': '2',\n",
       " 'Overall Score': '98.8',\n",
       " 'Academic Reputation': '100',\n",
       " 'Employer Reputation': '100',\n",
       " 'Citations per Faculty': '92.3',\n",
       " 'Faculty Student Ratio': '100',\n",
       " 'International Students Ratio': '96.3',\n",
       " 'International Faculty Ratio': '100',\n",
       " 'International Research Network\\nUnweighted': '99.5',\n",
       " 'Employment Outcomes\\nUnweighted': '100'}"
      ]
     },
     "execution_count": 25,
     "metadata": {},
     "output_type": "execute_result"
    }
   ],
   "source": [
    "d={}\n",
    "d['Name']=value_head[10]\n",
    "d['Location']=loc[1]\n",
    "d['Rank']=RANK[1]\n",
    "for i in range(len(column_head)):\n",
    "    d[column_head[i]]=value[i]\n",
    "d"
   ]
  },
  {
   "cell_type": "code",
   "execution_count": 26,
   "id": "a574f41f",
   "metadata": {},
   "outputs": [
    {
     "data": {
      "text/plain": [
       "'{\"Name\": \"University of Cambridge\", \"Location\": \"Cambridge, United Kingdom\", \"Rank\": \"2\", \"Overall Score\": \"98.8\", \"Academic Reputation\": \"100\", \"Employer Reputation\": \"100\", \"Citations per Faculty\": \"92.3\", \"Faculty Student Ratio\": \"100\", \"International Students Ratio\": \"96.3\", \"International Faculty Ratio\": \"100\", \"International Research Network\\\\nUnweighted\": \"99.5\", \"Employment Outcomes\\\\nUnweighted\": \"100\"}'"
      ]
     },
     "execution_count": 26,
     "metadata": {},
     "output_type": "execute_result"
    }
   ],
   "source": [
    "s1=json.dumps(d)\n",
    "s1"
   ]
  },
  {
   "cell_type": "code",
   "execution_count": 27,
   "id": "8e55840f",
   "metadata": {},
   "outputs": [],
   "source": [
    "with open('University of Cambridge.json','w') as f:\n",
    "    json.dump(d,f)"
   ]
  },
  {
   "cell_type": "code",
   "execution_count": null,
   "id": "3e77523b",
   "metadata": {},
   "outputs": [],
   "source": []
  },
  {
   "cell_type": "code",
   "execution_count": null,
   "id": "c70d3a6f",
   "metadata": {},
   "outputs": [],
   "source": []
  }
 ],
 "metadata": {
  "kernelspec": {
   "display_name": "Python 3 (ipykernel)",
   "language": "python",
   "name": "python3"
  },
  "language_info": {
   "codemirror_mode": {
    "name": "ipython",
    "version": 3
   },
   "file_extension": ".py",
   "mimetype": "text/x-python",
   "name": "python",
   "nbconvert_exporter": "python",
   "pygments_lexer": "ipython3",
   "version": "3.9.12"
  }
 },
 "nbformat": 4,
 "nbformat_minor": 5
}
