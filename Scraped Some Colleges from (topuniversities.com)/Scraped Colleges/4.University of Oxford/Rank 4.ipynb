{
 "cells": [
  {
   "cell_type": "code",
   "execution_count": 6,
   "id": "5153cf65",
   "metadata": {},
   "outputs": [],
   "source": [
    "from selenium import webdriver\n",
    "from selenium.webdriver.chrome.service import Service\n",
    "import pandas as pd\n",
    "import json\n"
   ]
  },
  {
   "cell_type": "code",
   "execution_count": 7,
   "id": "17752ad2",
   "metadata": {},
   "outputs": [],
   "source": [
    "\n",
    "path = Service('C:\\chromedriver.exe')"
   ]
  },
  {
   "cell_type": "code",
   "execution_count": 8,
   "id": "7ea90074",
   "metadata": {},
   "outputs": [],
   "source": [
    "\n",
    "# set path for the driver\n",
    "browser = webdriver.Chrome(service = path)"
   ]
  },
  {
   "cell_type": "code",
   "execution_count": 9,
   "id": "140fcfea",
   "metadata": {},
   "outputs": [],
   "source": [
    "url = \"https://www.topuniversities.com/university-rankings/world-university-rankings/2023\""
   ]
  },
  {
   "cell_type": "code",
   "execution_count": 10,
   "id": "53927856",
   "metadata": {},
   "outputs": [],
   "source": [
    "\n",
    "# open the page url ion chrome\n",
    "browser.get(url)"
   ]
  },
  {
   "cell_type": "code",
   "execution_count": 11,
   "id": "a8c7d3c1",
   "metadata": {},
   "outputs": [
    {
     "data": {
      "text/plain": [
       "[<selenium.webdriver.remote.webelement.WebElement (session=\"4ffb05d5656fb51bb00e670c6e288503\", element=\"a4347514-9de0-4f94-80d7-7bf3c86e936b\")>,\n",
       " <selenium.webdriver.remote.webelement.WebElement (session=\"4ffb05d5656fb51bb00e670c6e288503\", element=\"683c76d3-e295-4689-a0e2-ec9162ef8bda\")>,\n",
       " <selenium.webdriver.remote.webelement.WebElement (session=\"4ffb05d5656fb51bb00e670c6e288503\", element=\"4e1cd822-98e3-409d-a02d-2b0b36643fe0\")>,\n",
       " <selenium.webdriver.remote.webelement.WebElement (session=\"4ffb05d5656fb51bb00e670c6e288503\", element=\"40fdc7fc-6190-481b-a44f-4d338418ff04\")>,\n",
       " <selenium.webdriver.remote.webelement.WebElement (session=\"4ffb05d5656fb51bb00e670c6e288503\", element=\"93c8c2a6-b47b-4ceb-89c2-112270279570\")>,\n",
       " <selenium.webdriver.remote.webelement.WebElement (session=\"4ffb05d5656fb51bb00e670c6e288503\", element=\"f2458976-4116-474e-9b42-3c8ea3f9067d\")>,\n",
       " <selenium.webdriver.remote.webelement.WebElement (session=\"4ffb05d5656fb51bb00e670c6e288503\", element=\"c607ea65-4312-411b-8036-3aa109614656\")>,\n",
       " <selenium.webdriver.remote.webelement.WebElement (session=\"4ffb05d5656fb51bb00e670c6e288503\", element=\"4091898d-59f9-4522-9a43-aa8fe3e2315a\")>,\n",
       " <selenium.webdriver.remote.webelement.WebElement (session=\"4ffb05d5656fb51bb00e670c6e288503\", element=\"cc96f325-2dd6-43a0-8fd4-47836c6348ce\")>]"
      ]
     },
     "execution_count": 11,
     "metadata": {},
     "output_type": "execute_result"
    }
   ],
   "source": [
    "# GET EACH COLLEGE SPECIFICATION HEADERS\n",
    "header=browser.find_elements(\"xpath\",\"//div[@class='_click-function_ind']\")\n",
    "header\n"
   ]
  },
  {
   "cell_type": "code",
   "execution_count": 12,
   "id": "32c0245f",
   "metadata": {},
   "outputs": [
    {
     "data": {
      "text/plain": [
       "['Overall Score',\n",
       " 'Academic Reputation',\n",
       " 'Employer Reputation',\n",
       " 'Citations per Faculty',\n",
       " 'Faculty Student Ratio',\n",
       " 'International Students Ratio',\n",
       " 'International Faculty Ratio',\n",
       " 'International Research Network\\nUnweighted',\n",
       " 'Employment Outcomes\\nUnweighted']"
      ]
     },
     "execution_count": 12,
     "metadata": {},
     "output_type": "execute_result"
    }
   ],
   "source": [
    "\n",
    "#PARSING DATA\n",
    "column_head=[]\n",
    "for data in header:\n",
    "    #get the text data\n",
    "    temp=data.text\n",
    "    column_head.append(temp)\n",
    "column_head"
   ]
  },
  {
   "cell_type": "code",
   "execution_count": 13,
   "id": "21ba2e72",
   "metadata": {},
   "outputs": [
    {
     "data": {
      "text/plain": [
       "[<selenium.webdriver.remote.webelement.WebElement (session=\"4ffb05d5656fb51bb00e670c6e288503\", element=\"bce16a74-1ae5-4291-b339-6f80df2859b9\")>,\n",
       " <selenium.webdriver.remote.webelement.WebElement (session=\"4ffb05d5656fb51bb00e670c6e288503\", element=\"c85f64fe-8e2f-48ab-9ba0-b22d1ad9b8ca\")>,\n",
       " <selenium.webdriver.remote.webelement.WebElement (session=\"4ffb05d5656fb51bb00e670c6e288503\", element=\"dc5616e1-f924-4636-b034-a4f7018a7261\")>,\n",
       " <selenium.webdriver.remote.webelement.WebElement (session=\"4ffb05d5656fb51bb00e670c6e288503\", element=\"dd1b6455-bf2a-4994-88b9-a2d7c0a26678\")>,\n",
       " <selenium.webdriver.remote.webelement.WebElement (session=\"4ffb05d5656fb51bb00e670c6e288503\", element=\"9e230f42-6c03-4de1-b571-077ad06d5f6e\")>,\n",
       " <selenium.webdriver.remote.webelement.WebElement (session=\"4ffb05d5656fb51bb00e670c6e288503\", element=\"28eef466-d8de-45a2-9bed-335ee18cae9b\")>,\n",
       " <selenium.webdriver.remote.webelement.WebElement (session=\"4ffb05d5656fb51bb00e670c6e288503\", element=\"1bda089c-4ba7-4d80-95e1-17d9242cd127\")>,\n",
       " <selenium.webdriver.remote.webelement.WebElement (session=\"4ffb05d5656fb51bb00e670c6e288503\", element=\"5be477e2-ee88-4a4d-811f-8da339e9b802\")>,\n",
       " <selenium.webdriver.remote.webelement.WebElement (session=\"4ffb05d5656fb51bb00e670c6e288503\", element=\"65e1097d-7d65-4361-b652-e66a8ab74e95\")>,\n",
       " <selenium.webdriver.remote.webelement.WebElement (session=\"4ffb05d5656fb51bb00e670c6e288503\", element=\"821e0b47-d65b-4bcf-9ca8-64a823bdb333\")>,\n",
       " <selenium.webdriver.remote.webelement.WebElement (session=\"4ffb05d5656fb51bb00e670c6e288503\", element=\"2aea9bda-b89b-4934-9962-5f3cd490b113\")>,\n",
       " <selenium.webdriver.remote.webelement.WebElement (session=\"4ffb05d5656fb51bb00e670c6e288503\", element=\"2e87f8fd-7453-44c9-b72f-1d7aaea6d0ae\")>,\n",
       " <selenium.webdriver.remote.webelement.WebElement (session=\"4ffb05d5656fb51bb00e670c6e288503\", element=\"c7c056a6-ba8f-41eb-94c6-0517b11b93c2\")>,\n",
       " <selenium.webdriver.remote.webelement.WebElement (session=\"4ffb05d5656fb51bb00e670c6e288503\", element=\"91b7f085-d0ee-404f-8343-c769313660ef\")>,\n",
       " <selenium.webdriver.remote.webelement.WebElement (session=\"4ffb05d5656fb51bb00e670c6e288503\", element=\"05a16d46-728e-40a0-9e23-8da15b456d81\")>,\n",
       " <selenium.webdriver.remote.webelement.WebElement (session=\"4ffb05d5656fb51bb00e670c6e288503\", element=\"0f9a4697-3219-48e6-8673-d149fcb62670\")>,\n",
       " <selenium.webdriver.remote.webelement.WebElement (session=\"4ffb05d5656fb51bb00e670c6e288503\", element=\"58785560-e90f-4c43-8ee9-9922c7163c0e\")>,\n",
       " <selenium.webdriver.remote.webelement.WebElement (session=\"4ffb05d5656fb51bb00e670c6e288503\", element=\"7a05f5ed-ac6c-43c1-8167-e9a7cc87691e\")>,\n",
       " <selenium.webdriver.remote.webelement.WebElement (session=\"4ffb05d5656fb51bb00e670c6e288503\", element=\"bace5acd-54e7-40cc-81c4-51832e43e318\")>,\n",
       " <selenium.webdriver.remote.webelement.WebElement (session=\"4ffb05d5656fb51bb00e670c6e288503\", element=\"1d74a0ed-b95b-4517-a0b9-905024b76de4\")>,\n",
       " <selenium.webdriver.remote.webelement.WebElement (session=\"4ffb05d5656fb51bb00e670c6e288503\", element=\"def162fa-31c9-4a6f-aec8-d27062c83345\")>,\n",
       " <selenium.webdriver.remote.webelement.WebElement (session=\"4ffb05d5656fb51bb00e670c6e288503\", element=\"dcabd487-6467-4e95-969a-8ba4db5195a7\")>,\n",
       " <selenium.webdriver.remote.webelement.WebElement (session=\"4ffb05d5656fb51bb00e670c6e288503\", element=\"5719ca0c-950e-406d-be5b-5dec31d0fcfc\")>,\n",
       " <selenium.webdriver.remote.webelement.WebElement (session=\"4ffb05d5656fb51bb00e670c6e288503\", element=\"e0439bbe-c814-407b-9245-c1af414d694c\")>,\n",
       " <selenium.webdriver.remote.webelement.WebElement (session=\"4ffb05d5656fb51bb00e670c6e288503\", element=\"bd15c3f1-e5b3-4faf-8a9c-15321bf6f2fe\")>,\n",
       " <selenium.webdriver.remote.webelement.WebElement (session=\"4ffb05d5656fb51bb00e670c6e288503\", element=\"435c56c6-6dba-48b2-b3e7-ecec57d85a31\")>,\n",
       " <selenium.webdriver.remote.webelement.WebElement (session=\"4ffb05d5656fb51bb00e670c6e288503\", element=\"2c4b4cdf-1206-4bef-8ca6-16bb09d8c45d\")>,\n",
       " <selenium.webdriver.remote.webelement.WebElement (session=\"4ffb05d5656fb51bb00e670c6e288503\", element=\"da7f4a38-1e80-435d-8233-f49583293e8a\")>,\n",
       " <selenium.webdriver.remote.webelement.WebElement (session=\"4ffb05d5656fb51bb00e670c6e288503\", element=\"b907b200-dddb-4f7e-8218-bf2dbb441698\")>,\n",
       " <selenium.webdriver.remote.webelement.WebElement (session=\"4ffb05d5656fb51bb00e670c6e288503\", element=\"3a8c6ba6-79af-4fbe-84be-a2ee08af4e18\")>,\n",
       " <selenium.webdriver.remote.webelement.WebElement (session=\"4ffb05d5656fb51bb00e670c6e288503\", element=\"c2e8e03c-9bf0-4d28-b631-d8763f715b2c\")>,\n",
       " <selenium.webdriver.remote.webelement.WebElement (session=\"4ffb05d5656fb51bb00e670c6e288503\", element=\"86c5d7d0-9f7c-4cba-b59a-12173803628e\")>,\n",
       " <selenium.webdriver.remote.webelement.WebElement (session=\"4ffb05d5656fb51bb00e670c6e288503\", element=\"bf5a7e2a-8e0c-4f7f-a05c-4b4f972707b3\")>,\n",
       " <selenium.webdriver.remote.webelement.WebElement (session=\"4ffb05d5656fb51bb00e670c6e288503\", element=\"2e224477-e3a8-4d36-b786-f9467ac2ba5b\")>,\n",
       " <selenium.webdriver.remote.webelement.WebElement (session=\"4ffb05d5656fb51bb00e670c6e288503\", element=\"5a1e995a-fa7b-4801-9ff0-96f9730752da\")>,\n",
       " <selenium.webdriver.remote.webelement.WebElement (session=\"4ffb05d5656fb51bb00e670c6e288503\", element=\"180b3948-6e82-478d-9dad-d371c3e7b55e\")>,\n",
       " <selenium.webdriver.remote.webelement.WebElement (session=\"4ffb05d5656fb51bb00e670c6e288503\", element=\"c0d510a1-4e0a-41e9-8378-460ee45c6551\")>,\n",
       " <selenium.webdriver.remote.webelement.WebElement (session=\"4ffb05d5656fb51bb00e670c6e288503\", element=\"fb6114f8-fc55-4bdd-b988-039c0d2bc7ea\")>,\n",
       " <selenium.webdriver.remote.webelement.WebElement (session=\"4ffb05d5656fb51bb00e670c6e288503\", element=\"8e00aced-2484-4cee-9d88-7f8dfcbd1161\")>,\n",
       " <selenium.webdriver.remote.webelement.WebElement (session=\"4ffb05d5656fb51bb00e670c6e288503\", element=\"b56f3a2c-161b-4a9c-a428-4f8bdcfa081d\")>,\n",
       " <selenium.webdriver.remote.webelement.WebElement (session=\"4ffb05d5656fb51bb00e670c6e288503\", element=\"114e8db2-542b-4bd5-91b9-673dbcb5adf9\")>,\n",
       " <selenium.webdriver.remote.webelement.WebElement (session=\"4ffb05d5656fb51bb00e670c6e288503\", element=\"014993ba-1853-4a87-bab1-deb6904d95aa\")>,\n",
       " <selenium.webdriver.remote.webelement.WebElement (session=\"4ffb05d5656fb51bb00e670c6e288503\", element=\"75ceb344-8998-4cad-8706-b4107180528f\")>,\n",
       " <selenium.webdriver.remote.webelement.WebElement (session=\"4ffb05d5656fb51bb00e670c6e288503\", element=\"1300b6c3-841d-4d5c-96a7-57d252e85d2d\")>,\n",
       " <selenium.webdriver.remote.webelement.WebElement (session=\"4ffb05d5656fb51bb00e670c6e288503\", element=\"0848de8b-2a2c-4c99-859b-217b52220d6c\")>,\n",
       " <selenium.webdriver.remote.webelement.WebElement (session=\"4ffb05d5656fb51bb00e670c6e288503\", element=\"99aa6fe9-aa1e-457f-af3e-b59dea9ee491\")>,\n",
       " <selenium.webdriver.remote.webelement.WebElement (session=\"4ffb05d5656fb51bb00e670c6e288503\", element=\"b411910e-6610-4b8f-a5e4-5b22590c062a\")>,\n",
       " <selenium.webdriver.remote.webelement.WebElement (session=\"4ffb05d5656fb51bb00e670c6e288503\", element=\"cc4e44b8-0214-4f28-89ab-4efe55b5af24\")>,\n",
       " <selenium.webdriver.remote.webelement.WebElement (session=\"4ffb05d5656fb51bb00e670c6e288503\", element=\"4d786592-d871-4cf4-a891-a377c9a7a5bf\")>,\n",
       " <selenium.webdriver.remote.webelement.WebElement (session=\"4ffb05d5656fb51bb00e670c6e288503\", element=\"60ad65fe-d052-49ca-bdcd-0a1af5448279\")>,\n",
       " <selenium.webdriver.remote.webelement.WebElement (session=\"4ffb05d5656fb51bb00e670c6e288503\", element=\"9a1ba8a9-d8b1-4a3d-83b5-404163a95d9d\")>,\n",
       " <selenium.webdriver.remote.webelement.WebElement (session=\"4ffb05d5656fb51bb00e670c6e288503\", element=\"29f924de-2383-436a-924f-dee11afaa08c\")>,\n",
       " <selenium.webdriver.remote.webelement.WebElement (session=\"4ffb05d5656fb51bb00e670c6e288503\", element=\"1c30d7cb-f3a6-4434-9b17-6343c35bd310\")>,\n",
       " <selenium.webdriver.remote.webelement.WebElement (session=\"4ffb05d5656fb51bb00e670c6e288503\", element=\"14dd2d30-b80a-4446-8c72-afd54db4e4c6\")>,\n",
       " <selenium.webdriver.remote.webelement.WebElement (session=\"4ffb05d5656fb51bb00e670c6e288503\", element=\"9c0505d0-81e7-4c62-8aad-5a6705aa8540\")>,\n",
       " <selenium.webdriver.remote.webelement.WebElement (session=\"4ffb05d5656fb51bb00e670c6e288503\", element=\"d4195fe6-dddd-4d13-95eb-860526e86629\")>,\n",
       " <selenium.webdriver.remote.webelement.WebElement (session=\"4ffb05d5656fb51bb00e670c6e288503\", element=\"3e86fd3e-d481-472c-b9b8-f70a690f4aef\")>,\n",
       " <selenium.webdriver.remote.webelement.WebElement (session=\"4ffb05d5656fb51bb00e670c6e288503\", element=\"0a4d6993-ee9e-4044-8150-b8bac8401de3\")>,\n",
       " <selenium.webdriver.remote.webelement.WebElement (session=\"4ffb05d5656fb51bb00e670c6e288503\", element=\"03e58f43-6179-4dc5-b567-d6f0a36a272b\")>,\n",
       " <selenium.webdriver.remote.webelement.WebElement (session=\"4ffb05d5656fb51bb00e670c6e288503\", element=\"b7b44b64-8414-4e1a-a5c8-1d949ba84163\")>,\n",
       " <selenium.webdriver.remote.webelement.WebElement (session=\"4ffb05d5656fb51bb00e670c6e288503\", element=\"e20492f8-6996-49c6-9aaa-34dce85e05d0\")>,\n",
       " <selenium.webdriver.remote.webelement.WebElement (session=\"4ffb05d5656fb51bb00e670c6e288503\", element=\"4132be3e-ade8-452f-a038-c56bc137af37\")>,\n",
       " <selenium.webdriver.remote.webelement.WebElement (session=\"4ffb05d5656fb51bb00e670c6e288503\", element=\"6a30a2d1-7d44-4156-bd32-4c4f4727ac62\")>,\n",
       " <selenium.webdriver.remote.webelement.WebElement (session=\"4ffb05d5656fb51bb00e670c6e288503\", element=\"fcea940e-1716-47b9-a8cb-80a952bc5cc3\")>,\n",
       " <selenium.webdriver.remote.webelement.WebElement (session=\"4ffb05d5656fb51bb00e670c6e288503\", element=\"92a4eaca-6844-4850-b832-8e60277ac5c1\")>,\n",
       " <selenium.webdriver.remote.webelement.WebElement (session=\"4ffb05d5656fb51bb00e670c6e288503\", element=\"afffd1c2-c103-4eeb-93e7-2a78900c26dc\")>,\n",
       " <selenium.webdriver.remote.webelement.WebElement (session=\"4ffb05d5656fb51bb00e670c6e288503\", element=\"26ac8fbc-f8cb-4497-a485-0ed56fcd1f23\")>,\n",
       " <selenium.webdriver.remote.webelement.WebElement (session=\"4ffb05d5656fb51bb00e670c6e288503\", element=\"4f657c06-dbad-40e1-af05-c8e9a866cbbd\")>,\n",
       " <selenium.webdriver.remote.webelement.WebElement (session=\"4ffb05d5656fb51bb00e670c6e288503\", element=\"cd3694c6-bc0a-4e63-9927-83555196bb04\")>,\n",
       " <selenium.webdriver.remote.webelement.WebElement (session=\"4ffb05d5656fb51bb00e670c6e288503\", element=\"b18b33b9-80da-4db4-8ad5-ec5e556158fd\")>,\n",
       " <selenium.webdriver.remote.webelement.WebElement (session=\"4ffb05d5656fb51bb00e670c6e288503\", element=\"db2f9dfd-53ee-4bf8-9ef5-be6c0d0bce45\")>,\n",
       " <selenium.webdriver.remote.webelement.WebElement (session=\"4ffb05d5656fb51bb00e670c6e288503\", element=\"102f2f78-42ba-4861-a44f-aae86c9bdbcc\")>,\n",
       " <selenium.webdriver.remote.webelement.WebElement (session=\"4ffb05d5656fb51bb00e670c6e288503\", element=\"f28e194f-d17d-46c0-9efa-88529a7f11d4\")>,\n",
       " <selenium.webdriver.remote.webelement.WebElement (session=\"4ffb05d5656fb51bb00e670c6e288503\", element=\"39cfe029-87c5-486a-b27f-d5691710ffa1\")>,\n",
       " <selenium.webdriver.remote.webelement.WebElement (session=\"4ffb05d5656fb51bb00e670c6e288503\", element=\"6f81dd94-87cb-4b49-99a2-30441bb4c895\")>,\n",
       " <selenium.webdriver.remote.webelement.WebElement (session=\"4ffb05d5656fb51bb00e670c6e288503\", element=\"202e3b12-c869-4c92-8dc0-4bfd975b9634\")>,\n",
       " <selenium.webdriver.remote.webelement.WebElement (session=\"4ffb05d5656fb51bb00e670c6e288503\", element=\"e28f9b16-c2bd-48b7-911e-07f1536529f5\")>,\n",
       " <selenium.webdriver.remote.webelement.WebElement (session=\"4ffb05d5656fb51bb00e670c6e288503\", element=\"fc8d4597-67b0-4d12-8828-44750ac688fe\")>,\n",
       " <selenium.webdriver.remote.webelement.WebElement (session=\"4ffb05d5656fb51bb00e670c6e288503\", element=\"d3cecdd1-02b4-4810-ab91-01a9cfa43e4e\")>,\n",
       " <selenium.webdriver.remote.webelement.WebElement (session=\"4ffb05d5656fb51bb00e670c6e288503\", element=\"19b305f5-3039-450f-9610-99f5af9e889e\")>,\n",
       " <selenium.webdriver.remote.webelement.WebElement (session=\"4ffb05d5656fb51bb00e670c6e288503\", element=\"faf5b92f-c996-4510-8a32-4da4351fed07\")>,\n",
       " <selenium.webdriver.remote.webelement.WebElement (session=\"4ffb05d5656fb51bb00e670c6e288503\", element=\"a59dd926-ab0d-4d5f-8447-3526ad9aef46\")>,\n",
       " <selenium.webdriver.remote.webelement.WebElement (session=\"4ffb05d5656fb51bb00e670c6e288503\", element=\"734ac535-f0d4-4e06-8843-e69e31b93c3c\")>,\n",
       " <selenium.webdriver.remote.webelement.WebElement (session=\"4ffb05d5656fb51bb00e670c6e288503\", element=\"68b94ff4-85c3-4237-aa26-8ab4cc9072b4\")>,\n",
       " <selenium.webdriver.remote.webelement.WebElement (session=\"4ffb05d5656fb51bb00e670c6e288503\", element=\"d339b41e-42b0-4212-9fc4-9a07cfc7c4b9\")>,\n",
       " <selenium.webdriver.remote.webelement.WebElement (session=\"4ffb05d5656fb51bb00e670c6e288503\", element=\"8516edbe-9139-45ff-b2f7-9d38ba0b3005\")>,\n",
       " <selenium.webdriver.remote.webelement.WebElement (session=\"4ffb05d5656fb51bb00e670c6e288503\", element=\"866ec268-e681-4777-aabe-a9bfda586e30\")>,\n",
       " <selenium.webdriver.remote.webelement.WebElement (session=\"4ffb05d5656fb51bb00e670c6e288503\", element=\"7cd15aca-fcf7-4bd3-aa78-20154c35c435\")>,\n",
       " <selenium.webdriver.remote.webelement.WebElement (session=\"4ffb05d5656fb51bb00e670c6e288503\", element=\"c2afc570-ca63-43ad-8770-018ade2c2121\")>,\n",
       " <selenium.webdriver.remote.webelement.WebElement (session=\"4ffb05d5656fb51bb00e670c6e288503\", element=\"1a542875-5160-4871-b6e9-ed83e5f4a96b\")>,\n",
       " <selenium.webdriver.remote.webelement.WebElement (session=\"4ffb05d5656fb51bb00e670c6e288503\", element=\"b1632b26-c83b-42d9-b8e5-d5ed8433c928\")>,\n",
       " <selenium.webdriver.remote.webelement.WebElement (session=\"4ffb05d5656fb51bb00e670c6e288503\", element=\"1f05ec2f-e1f5-4567-97f8-5e5cc859c047\")>,\n",
       " <selenium.webdriver.remote.webelement.WebElement (session=\"4ffb05d5656fb51bb00e670c6e288503\", element=\"1aae9975-aec1-43b2-9df0-df7c0b451982\")>,\n",
       " <selenium.webdriver.remote.webelement.WebElement (session=\"4ffb05d5656fb51bb00e670c6e288503\", element=\"59fcd171-dc3c-4699-acc1-88c6a2e5d8e2\")>,\n",
       " <selenium.webdriver.remote.webelement.WebElement (session=\"4ffb05d5656fb51bb00e670c6e288503\", element=\"ee2427c3-2659-450c-9619-ae59f41b154e\")>,\n",
       " <selenium.webdriver.remote.webelement.WebElement (session=\"4ffb05d5656fb51bb00e670c6e288503\", element=\"d0a062a4-f6ea-4448-ac5b-25daeb96e655\")>,\n",
       " <selenium.webdriver.remote.webelement.WebElement (session=\"4ffb05d5656fb51bb00e670c6e288503\", element=\"5c029ccc-d967-4159-bcbb-8bd1f9c6b5e0\")>,\n",
       " <selenium.webdriver.remote.webelement.WebElement (session=\"4ffb05d5656fb51bb00e670c6e288503\", element=\"42337974-ce3e-43d2-a60d-36109603b12b\")>,\n",
       " <selenium.webdriver.remote.webelement.WebElement (session=\"4ffb05d5656fb51bb00e670c6e288503\", element=\"1ff9383c-1e67-4602-ba38-1e8283835c47\")>,\n",
       " <selenium.webdriver.remote.webelement.WebElement (session=\"4ffb05d5656fb51bb00e670c6e288503\", element=\"14d88f34-fe82-4c1e-a5ca-a42480d0bc64\")>]"
      ]
     },
     "execution_count": 13,
     "metadata": {},
     "output_type": "execute_result"
    }
   ],
   "source": [
    "header2=browser.find_elements(\"xpath\",\"//div[@class='td-wrap-in']\")\n",
    "header2"
   ]
  },
  {
   "cell_type": "code",
   "execution_count": 14,
   "id": "1e2790b0",
   "metadata": {},
   "outputs": [
    {
     "data": {
      "text/plain": [
       "['98.4', '100', '100', '90', '100', '98.4', '98.8', '99.9', '100']"
      ]
     },
     "execution_count": 14,
     "metadata": {},
     "output_type": "execute_result"
    }
   ],
   "source": [
    "#PARSING DATA\n",
    "value_head=[]\n",
    "for data in header2:\n",
    "    #get the text data\n",
    "    temp=data.text\n",
    "    value_head.append(temp)\n",
    "value_head=value_head[31:40]\n",
    "value_head"
   ]
  },
  {
   "cell_type": "code",
   "execution_count": null,
   "id": "1cfd93a1",
   "metadata": {},
   "outputs": [],
   "source": [
    "d={}\n",
    "for i in range(len(column_head)):\n",
    "    d[column_head[i]]=value_head[i]\n",
    "d\n"
   ]
  },
  {
   "cell_type": "code",
   "execution_count": null,
   "id": "460dd2fa",
   "metadata": {},
   "outputs": [],
   "source": [
    "s1=json.dumps(d)\n",
    "s1"
   ]
  },
  {
   "cell_type": "code",
   "execution_count": null,
   "id": "4eae9b54",
   "metadata": {},
   "outputs": [],
   "source": [
    "with open('University of Oxford.json','w') as f:\n",
    "    json.dump(d,f)"
   ]
  },
  {
   "cell_type": "code",
   "execution_count": null,
   "id": "4423337e",
   "metadata": {},
   "outputs": [],
   "source": []
  }
 ],
 "metadata": {
  "kernelspec": {
   "display_name": "Python 3 (ipykernel)",
   "language": "python",
   "name": "python3"
  },
  "language_info": {
   "codemirror_mode": {
    "name": "ipython",
    "version": 3
   },
   "file_extension": ".py",
   "mimetype": "text/x-python",
   "name": "python",
   "nbconvert_exporter": "python",
   "pygments_lexer": "ipython3",
   "version": "3.9.12"
  }
 },
 "nbformat": 4,
 "nbformat_minor": 5
}
