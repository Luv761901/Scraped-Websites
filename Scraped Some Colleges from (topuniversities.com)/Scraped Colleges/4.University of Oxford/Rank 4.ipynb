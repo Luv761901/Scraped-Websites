{
 "cells": [
  {
   "cell_type": "code",
   "execution_count": 17,
   "id": "5153cf65",
   "metadata": {},
   "outputs": [],
   "source": [
    "from selenium import webdriver\n",
    "from selenium.webdriver.chrome.service import Service\n",
    "import pandas as pd\n",
    "import json\n"
   ]
  },
  {
   "cell_type": "code",
   "execution_count": 18,
   "id": "17752ad2",
   "metadata": {},
   "outputs": [],
   "source": [
    "\n",
    "path = Service('C:\\chromedriver.exe')"
   ]
  },
  {
   "cell_type": "code",
   "execution_count": 19,
   "id": "7ea90074",
   "metadata": {},
   "outputs": [],
   "source": [
    "\n",
    "# set path for the driver\n",
    "browser = webdriver.Chrome(service = path)"
   ]
  },
  {
   "cell_type": "code",
   "execution_count": 20,
   "id": "140fcfea",
   "metadata": {},
   "outputs": [],
   "source": [
    "url = \"https://www.topuniversities.com/university-rankings/world-university-rankings/2023\""
   ]
  },
  {
   "cell_type": "code",
   "execution_count": 21,
   "id": "53927856",
   "metadata": {},
   "outputs": [],
   "source": [
    "\n",
    "# open the page url ion chrome\n",
    "browser.get(url)"
   ]
  },
  {
   "cell_type": "code",
   "execution_count": 22,
   "id": "a795a5a2",
   "metadata": {},
   "outputs": [
    {
     "data": {
      "text/plain": [
       "[<selenium.webdriver.remote.webelement.WebElement (session=\"aa687f60e2c20534d39a73fd804885be\", element=\"7e3a5a2f-7ab7-40c5-ac45-f68fdd8d750b\")>,\n",
       " <selenium.webdriver.remote.webelement.WebElement (session=\"aa687f60e2c20534d39a73fd804885be\", element=\"0938b453-3c3e-4467-b19d-1092cc950076\")>,\n",
       " <selenium.webdriver.remote.webelement.WebElement (session=\"aa687f60e2c20534d39a73fd804885be\", element=\"d8579b22-51f6-4c31-913d-99af3e9e27c6\")>,\n",
       " <selenium.webdriver.remote.webelement.WebElement (session=\"aa687f60e2c20534d39a73fd804885be\", element=\"05bc5c3f-37ad-42fb-90a2-675e919d52fc\")>,\n",
       " <selenium.webdriver.remote.webelement.WebElement (session=\"aa687f60e2c20534d39a73fd804885be\", element=\"fc4dd97b-df58-44ae-9232-5ba011512064\")>,\n",
       " <selenium.webdriver.remote.webelement.WebElement (session=\"aa687f60e2c20534d39a73fd804885be\", element=\"fe0d498f-200b-4ee5-9a80-0c5418dfcacb\")>,\n",
       " <selenium.webdriver.remote.webelement.WebElement (session=\"aa687f60e2c20534d39a73fd804885be\", element=\"b5cecaed-3f20-4a2c-abc4-b33664ca62a7\")>,\n",
       " <selenium.webdriver.remote.webelement.WebElement (session=\"aa687f60e2c20534d39a73fd804885be\", element=\"d4f023b2-fb7e-4ee2-bd6f-7e4bbd193480\")>,\n",
       " <selenium.webdriver.remote.webelement.WebElement (session=\"aa687f60e2c20534d39a73fd804885be\", element=\"2eeb0081-228c-44da-b2cf-3c6eb0ea4edc\")>,\n",
       " <selenium.webdriver.remote.webelement.WebElement (session=\"aa687f60e2c20534d39a73fd804885be\", element=\"c73c05ef-1b05-4e60-826f-a16eaaf84861\")>,\n",
       " <selenium.webdriver.remote.webelement.WebElement (session=\"aa687f60e2c20534d39a73fd804885be\", element=\"d7b56307-ca7d-403f-9604-32d4f1054a44\")>,\n",
       " <selenium.webdriver.remote.webelement.WebElement (session=\"aa687f60e2c20534d39a73fd804885be\", element=\"fad37107-a41f-4c2c-84d4-71faec7b74aa\")>,\n",
       " <selenium.webdriver.remote.webelement.WebElement (session=\"aa687f60e2c20534d39a73fd804885be\", element=\"951a0c10-69da-42fc-a97c-60b951b8181f\")>,\n",
       " <selenium.webdriver.remote.webelement.WebElement (session=\"aa687f60e2c20534d39a73fd804885be\", element=\"9311cb4d-44f0-4181-8faa-9503b1b0645c\")>,\n",
       " <selenium.webdriver.remote.webelement.WebElement (session=\"aa687f60e2c20534d39a73fd804885be\", element=\"478f008a-ba1d-44b5-9985-05187e84f393\")>,\n",
       " <selenium.webdriver.remote.webelement.WebElement (session=\"aa687f60e2c20534d39a73fd804885be\", element=\"6e0977e8-3cef-404b-a021-65f092255a2f\")>,\n",
       " <selenium.webdriver.remote.webelement.WebElement (session=\"aa687f60e2c20534d39a73fd804885be\", element=\"53000275-98e0-4c18-b25b-cde532155fd2\")>,\n",
       " <selenium.webdriver.remote.webelement.WebElement (session=\"aa687f60e2c20534d39a73fd804885be\", element=\"b5a65d7d-e9a0-40d1-bf32-84f73cb02a12\")>,\n",
       " <selenium.webdriver.remote.webelement.WebElement (session=\"aa687f60e2c20534d39a73fd804885be\", element=\"4658f29a-e486-484a-9632-91b49a791891\")>,\n",
       " <selenium.webdriver.remote.webelement.WebElement (session=\"aa687f60e2c20534d39a73fd804885be\", element=\"5530710b-2b04-45e4-bb5f-ae5acf095b23\")>]"
      ]
     },
     "execution_count": 22,
     "metadata": {},
     "output_type": "execute_result"
    }
   ],
   "source": [
    "\n",
    "l1=browser.find_elements(\"xpath\",\"//div[@class='location ']\")\n",
    "l1"
   ]
  },
  {
   "cell_type": "code",
   "execution_count": 23,
   "id": "74f49301",
   "metadata": {},
   "outputs": [
    {
     "data": {
      "text/plain": [
       "['Cambridge, United States',\n",
       " 'Cambridge, United Kingdom',\n",
       " 'Stanford, United States',\n",
       " 'Oxford, United Kingdom',\n",
       " 'Cambridge, United States',\n",
       " 'Pasadena, United States',\n",
       " 'London, United Kingdom',\n",
       " 'London, United Kingdom',\n",
       " 'Zürich, Switzerland',\n",
       " 'Chicago, United States']"
      ]
     },
     "execution_count": 23,
     "metadata": {},
     "output_type": "execute_result"
    }
   ],
   "source": [
    "loc=[]\n",
    "for data in l1:\n",
    "    #get the text data\n",
    "    temp=data.text\n",
    "    loc.append(temp)\n",
    "loc=loc[10:]\n",
    "loc"
   ]
  },
  {
   "cell_type": "code",
   "execution_count": 24,
   "id": "9d14d0cc",
   "metadata": {},
   "outputs": [
    {
     "data": {
      "text/plain": [
       "[<selenium.webdriver.remote.webelement.WebElement (session=\"aa687f60e2c20534d39a73fd804885be\", element=\"828ddeaf-5337-42ab-804a-713082e1063f\")>,\n",
       " <selenium.webdriver.remote.webelement.WebElement (session=\"aa687f60e2c20534d39a73fd804885be\", element=\"befc1c23-32fd-4cb5-afad-aac844c568a4\")>,\n",
       " <selenium.webdriver.remote.webelement.WebElement (session=\"aa687f60e2c20534d39a73fd804885be\", element=\"281da15e-6d6c-4691-a581-ebf240bf92c9\")>,\n",
       " <selenium.webdriver.remote.webelement.WebElement (session=\"aa687f60e2c20534d39a73fd804885be\", element=\"03473b05-296c-4f2b-8cfd-f5713638558c\")>,\n",
       " <selenium.webdriver.remote.webelement.WebElement (session=\"aa687f60e2c20534d39a73fd804885be\", element=\"a303aea0-9df1-4c9b-8bc6-2169e6463fce\")>,\n",
       " <selenium.webdriver.remote.webelement.WebElement (session=\"aa687f60e2c20534d39a73fd804885be\", element=\"a4e9a4e7-f107-4eef-a499-63a42a0d111a\")>,\n",
       " <selenium.webdriver.remote.webelement.WebElement (session=\"aa687f60e2c20534d39a73fd804885be\", element=\"b0bfe558-d801-4976-8ac5-fc610fb07f4c\")>,\n",
       " <selenium.webdriver.remote.webelement.WebElement (session=\"aa687f60e2c20534d39a73fd804885be\", element=\"0b0304c3-cd4c-406d-8077-dc50dc6edaa4\")>,\n",
       " <selenium.webdriver.remote.webelement.WebElement (session=\"aa687f60e2c20534d39a73fd804885be\", element=\"0856aad6-f690-4eac-b3a9-a7a64305eb0a\")>,\n",
       " <selenium.webdriver.remote.webelement.WebElement (session=\"aa687f60e2c20534d39a73fd804885be\", element=\"8ff1a40f-9c90-44e5-a508-3369ffb04efa\")>]"
      ]
     },
     "execution_count": 24,
     "metadata": {},
     "output_type": "execute_result"
    }
   ],
   "source": [
    "l2=browser.find_elements(\"xpath\",\"//div[@class='_univ-rank ']\")\n",
    "l2"
   ]
  },
  {
   "cell_type": "code",
   "execution_count": 25,
   "id": "8da4e5b7",
   "metadata": {},
   "outputs": [
    {
     "data": {
      "text/plain": [
       "['1', '2', '3', '4', '5', '=6', '=6', '8', '9', '10']"
      ]
     },
     "execution_count": 25,
     "metadata": {},
     "output_type": "execute_result"
    }
   ],
   "source": [
    "RANK=[]\n",
    "for data in l2:\n",
    "    #get the text data\n",
    "    temp=data.text\n",
    "    RANK.append(temp)\n",
    "RANK"
   ]
  },
  {
   "cell_type": "code",
   "execution_count": 26,
   "id": "a8c7d3c1",
   "metadata": {},
   "outputs": [
    {
     "data": {
      "text/plain": [
       "[<selenium.webdriver.remote.webelement.WebElement (session=\"aa687f60e2c20534d39a73fd804885be\", element=\"9f677ff3-61b5-4354-aa40-2d8f1a23e210\")>,\n",
       " <selenium.webdriver.remote.webelement.WebElement (session=\"aa687f60e2c20534d39a73fd804885be\", element=\"c694b71b-821c-4bc0-8f8e-4a7056ac706a\")>,\n",
       " <selenium.webdriver.remote.webelement.WebElement (session=\"aa687f60e2c20534d39a73fd804885be\", element=\"38b23913-42ae-4808-939c-5723becb833b\")>,\n",
       " <selenium.webdriver.remote.webelement.WebElement (session=\"aa687f60e2c20534d39a73fd804885be\", element=\"a4360e15-44e1-4a52-86cf-bf9bceec09a5\")>,\n",
       " <selenium.webdriver.remote.webelement.WebElement (session=\"aa687f60e2c20534d39a73fd804885be\", element=\"fd177c20-cfe4-4621-818e-cad4079a6dca\")>,\n",
       " <selenium.webdriver.remote.webelement.WebElement (session=\"aa687f60e2c20534d39a73fd804885be\", element=\"08c78548-8b08-4fdf-935a-2e120cf37d41\")>,\n",
       " <selenium.webdriver.remote.webelement.WebElement (session=\"aa687f60e2c20534d39a73fd804885be\", element=\"22b52ac7-f4bc-404a-902a-fa1d1a2de439\")>,\n",
       " <selenium.webdriver.remote.webelement.WebElement (session=\"aa687f60e2c20534d39a73fd804885be\", element=\"a433b487-bace-487f-9603-0ccc0d108490\")>,\n",
       " <selenium.webdriver.remote.webelement.WebElement (session=\"aa687f60e2c20534d39a73fd804885be\", element=\"63cb5e16-b70a-4adf-9363-fd48ce75f437\")>]"
      ]
     },
     "execution_count": 26,
     "metadata": {},
     "output_type": "execute_result"
    }
   ],
   "source": [
    "# GET EACH COLLEGE SPECIFICATION HEADERS\n",
    "header=browser.find_elements(\"xpath\",\"//div[@class='_click-function_ind']\")\n",
    "header\n"
   ]
  },
  {
   "cell_type": "code",
   "execution_count": 27,
   "id": "32c0245f",
   "metadata": {},
   "outputs": [
    {
     "data": {
      "text/plain": [
       "['Overall Score',\n",
       " 'Academic Reputation',\n",
       " 'Employer Reputation',\n",
       " 'Citations per Faculty',\n",
       " 'Faculty Student Ratio',\n",
       " 'International Students Ratio',\n",
       " 'International Faculty Ratio',\n",
       " 'International Research Network\\nUnweighted',\n",
       " 'Employment Outcomes\\nUnweighted']"
      ]
     },
     "execution_count": 27,
     "metadata": {},
     "output_type": "execute_result"
    }
   ],
   "source": [
    "\n",
    "#PARSING DATA\n",
    "column_head=[]\n",
    "for data in header:\n",
    "    #get the text data\n",
    "    temp=data.text\n",
    "    column_head.append(temp)\n",
    "column_head"
   ]
  },
  {
   "cell_type": "code",
   "execution_count": 28,
   "id": "21ba2e72",
   "metadata": {},
   "outputs": [
    {
     "data": {
      "text/plain": [
       "[<selenium.webdriver.remote.webelement.WebElement (session=\"aa687f60e2c20534d39a73fd804885be\", element=\"179ba9e0-3a7a-452d-8a7a-10ec48682766\")>,\n",
       " <selenium.webdriver.remote.webelement.WebElement (session=\"aa687f60e2c20534d39a73fd804885be\", element=\"502f12a9-eb14-4c13-92a5-7c3bda5242bc\")>,\n",
       " <selenium.webdriver.remote.webelement.WebElement (session=\"aa687f60e2c20534d39a73fd804885be\", element=\"7820d8b4-ab43-4ac5-a855-6346e1c11220\")>,\n",
       " <selenium.webdriver.remote.webelement.WebElement (session=\"aa687f60e2c20534d39a73fd804885be\", element=\"5a7e83c5-0e23-4231-a304-6437c59c73d7\")>,\n",
       " <selenium.webdriver.remote.webelement.WebElement (session=\"aa687f60e2c20534d39a73fd804885be\", element=\"124b4c8c-7e50-40cf-bede-4e98034294aa\")>,\n",
       " <selenium.webdriver.remote.webelement.WebElement (session=\"aa687f60e2c20534d39a73fd804885be\", element=\"796a18f2-5b34-4862-a8ab-b219d00484d5\")>,\n",
       " <selenium.webdriver.remote.webelement.WebElement (session=\"aa687f60e2c20534d39a73fd804885be\", element=\"370c23fb-c774-4351-ad05-68b3eb632339\")>,\n",
       " <selenium.webdriver.remote.webelement.WebElement (session=\"aa687f60e2c20534d39a73fd804885be\", element=\"8f5230a8-f0b5-4ecc-b665-bdc928fb5ddf\")>,\n",
       " <selenium.webdriver.remote.webelement.WebElement (session=\"aa687f60e2c20534d39a73fd804885be\", element=\"aaee6e60-e7f0-4e59-8bc1-d268d7653d60\")>,\n",
       " <selenium.webdriver.remote.webelement.WebElement (session=\"aa687f60e2c20534d39a73fd804885be\", element=\"436f0665-9027-4ce3-80e3-fd8333ca6ac2\")>,\n",
       " <selenium.webdriver.remote.webelement.WebElement (session=\"aa687f60e2c20534d39a73fd804885be\", element=\"1e72fbfb-7a61-4523-a733-38e44a0b1b36\")>,\n",
       " <selenium.webdriver.remote.webelement.WebElement (session=\"aa687f60e2c20534d39a73fd804885be\", element=\"43a4c26b-6a6c-4939-8bdc-ff3f2de276ed\")>,\n",
       " <selenium.webdriver.remote.webelement.WebElement (session=\"aa687f60e2c20534d39a73fd804885be\", element=\"1b73be73-9dc5-43ee-a25b-26fb128e02cd\")>,\n",
       " <selenium.webdriver.remote.webelement.WebElement (session=\"aa687f60e2c20534d39a73fd804885be\", element=\"a95d2a08-4fbf-4bc3-9905-a74b9a214f81\")>,\n",
       " <selenium.webdriver.remote.webelement.WebElement (session=\"aa687f60e2c20534d39a73fd804885be\", element=\"060ebfe5-fa48-4fb2-a7e3-cb943a804619\")>,\n",
       " <selenium.webdriver.remote.webelement.WebElement (session=\"aa687f60e2c20534d39a73fd804885be\", element=\"0e5e7f37-9d3b-4a0b-bb13-6b6198676a63\")>,\n",
       " <selenium.webdriver.remote.webelement.WebElement (session=\"aa687f60e2c20534d39a73fd804885be\", element=\"9a633020-0ce5-4ce0-bc36-1e11c43ffa5b\")>,\n",
       " <selenium.webdriver.remote.webelement.WebElement (session=\"aa687f60e2c20534d39a73fd804885be\", element=\"2a91b485-64cc-4d26-a67c-10aae07a7959\")>,\n",
       " <selenium.webdriver.remote.webelement.WebElement (session=\"aa687f60e2c20534d39a73fd804885be\", element=\"9985b325-cfc0-4860-8205-ddeeb69aa184\")>,\n",
       " <selenium.webdriver.remote.webelement.WebElement (session=\"aa687f60e2c20534d39a73fd804885be\", element=\"4c635a38-d6a6-4487-bb42-ce5ea134903a\")>,\n",
       " <selenium.webdriver.remote.webelement.WebElement (session=\"aa687f60e2c20534d39a73fd804885be\", element=\"5c876386-ae75-4795-b355-0c0559fd4f15\")>,\n",
       " <selenium.webdriver.remote.webelement.WebElement (session=\"aa687f60e2c20534d39a73fd804885be\", element=\"5d5380dc-394b-46c6-8bc2-ebdd7fb776d9\")>,\n",
       " <selenium.webdriver.remote.webelement.WebElement (session=\"aa687f60e2c20534d39a73fd804885be\", element=\"30b57110-7c6c-4c51-9d2e-ece0c8fb9a1c\")>,\n",
       " <selenium.webdriver.remote.webelement.WebElement (session=\"aa687f60e2c20534d39a73fd804885be\", element=\"8ac063e6-9891-45a4-a213-dd6f1a3c9b64\")>,\n",
       " <selenium.webdriver.remote.webelement.WebElement (session=\"aa687f60e2c20534d39a73fd804885be\", element=\"3abd5aff-6872-43b4-abd6-28e06dcb89e3\")>,\n",
       " <selenium.webdriver.remote.webelement.WebElement (session=\"aa687f60e2c20534d39a73fd804885be\", element=\"bbe3b6a1-2405-4754-9d43-12199f31347c\")>,\n",
       " <selenium.webdriver.remote.webelement.WebElement (session=\"aa687f60e2c20534d39a73fd804885be\", element=\"2a1ed83b-b46d-4e8b-ac9a-c6268e22e424\")>,\n",
       " <selenium.webdriver.remote.webelement.WebElement (session=\"aa687f60e2c20534d39a73fd804885be\", element=\"09d795f7-a708-4c43-a200-4fd7b2f4f7f2\")>,\n",
       " <selenium.webdriver.remote.webelement.WebElement (session=\"aa687f60e2c20534d39a73fd804885be\", element=\"f79db6a7-c0df-46a1-896b-9a0e0d2723e9\")>,\n",
       " <selenium.webdriver.remote.webelement.WebElement (session=\"aa687f60e2c20534d39a73fd804885be\", element=\"35936ba2-97be-46ff-a9f5-07d4b5fdf38f\")>,\n",
       " <selenium.webdriver.remote.webelement.WebElement (session=\"aa687f60e2c20534d39a73fd804885be\", element=\"4d995cad-3155-4897-a415-52550cbb8874\")>,\n",
       " <selenium.webdriver.remote.webelement.WebElement (session=\"aa687f60e2c20534d39a73fd804885be\", element=\"5b106aed-c4b5-4cb1-aa59-5558cd1f868d\")>,\n",
       " <selenium.webdriver.remote.webelement.WebElement (session=\"aa687f60e2c20534d39a73fd804885be\", element=\"33be930e-f44b-4c1a-88c7-3e44c0988dfa\")>,\n",
       " <selenium.webdriver.remote.webelement.WebElement (session=\"aa687f60e2c20534d39a73fd804885be\", element=\"e1fcec7a-b4ff-405b-bbca-1888da4ac3a7\")>,\n",
       " <selenium.webdriver.remote.webelement.WebElement (session=\"aa687f60e2c20534d39a73fd804885be\", element=\"ba08265b-e0dd-400b-bee9-03832fc60b68\")>,\n",
       " <selenium.webdriver.remote.webelement.WebElement (session=\"aa687f60e2c20534d39a73fd804885be\", element=\"2156ecc6-ef89-46fe-90be-c9e9836431dd\")>,\n",
       " <selenium.webdriver.remote.webelement.WebElement (session=\"aa687f60e2c20534d39a73fd804885be\", element=\"f55e9c81-d66f-4064-80bf-5ff360e18b4a\")>,\n",
       " <selenium.webdriver.remote.webelement.WebElement (session=\"aa687f60e2c20534d39a73fd804885be\", element=\"8227bc09-3c94-4658-8eb9-cb781fcca9aa\")>,\n",
       " <selenium.webdriver.remote.webelement.WebElement (session=\"aa687f60e2c20534d39a73fd804885be\", element=\"34f2f32e-6f85-41f0-ab2f-93c77be5554d\")>,\n",
       " <selenium.webdriver.remote.webelement.WebElement (session=\"aa687f60e2c20534d39a73fd804885be\", element=\"b4445bd0-5b61-4e79-8e3d-33528ae8d1f1\")>,\n",
       " <selenium.webdriver.remote.webelement.WebElement (session=\"aa687f60e2c20534d39a73fd804885be\", element=\"77fde7d4-f238-4abb-822c-ead6190ae677\")>,\n",
       " <selenium.webdriver.remote.webelement.WebElement (session=\"aa687f60e2c20534d39a73fd804885be\", element=\"8464535b-f803-4847-86df-4b0856916ced\")>,\n",
       " <selenium.webdriver.remote.webelement.WebElement (session=\"aa687f60e2c20534d39a73fd804885be\", element=\"a7d87407-16b9-429c-9370-13a0543e6cdd\")>,\n",
       " <selenium.webdriver.remote.webelement.WebElement (session=\"aa687f60e2c20534d39a73fd804885be\", element=\"8ab76dfb-616e-4642-bde3-33cc56e11991\")>,\n",
       " <selenium.webdriver.remote.webelement.WebElement (session=\"aa687f60e2c20534d39a73fd804885be\", element=\"7c059506-c218-4af3-b5b2-f64b3f1a682f\")>,\n",
       " <selenium.webdriver.remote.webelement.WebElement (session=\"aa687f60e2c20534d39a73fd804885be\", element=\"c5b9cb6a-e549-49e1-9afe-9d70ad4b3058\")>,\n",
       " <selenium.webdriver.remote.webelement.WebElement (session=\"aa687f60e2c20534d39a73fd804885be\", element=\"35ceaec8-0151-4f7d-b565-df959731999e\")>,\n",
       " <selenium.webdriver.remote.webelement.WebElement (session=\"aa687f60e2c20534d39a73fd804885be\", element=\"737c4b3c-4e93-41a2-9819-0fb69547ed91\")>,\n",
       " <selenium.webdriver.remote.webelement.WebElement (session=\"aa687f60e2c20534d39a73fd804885be\", element=\"380ea6ee-e4f8-487e-87bb-f9867680c2a2\")>,\n",
       " <selenium.webdriver.remote.webelement.WebElement (session=\"aa687f60e2c20534d39a73fd804885be\", element=\"56776eee-f51f-4888-8118-5ad34408f6ae\")>,\n",
       " <selenium.webdriver.remote.webelement.WebElement (session=\"aa687f60e2c20534d39a73fd804885be\", element=\"d9ce2d71-372d-4114-8bad-d38a70f34646\")>,\n",
       " <selenium.webdriver.remote.webelement.WebElement (session=\"aa687f60e2c20534d39a73fd804885be\", element=\"6709f857-cb99-4f0d-9afe-93ea8505d0f6\")>,\n",
       " <selenium.webdriver.remote.webelement.WebElement (session=\"aa687f60e2c20534d39a73fd804885be\", element=\"d1cdffe7-f145-4ddb-b06a-62b26abce59f\")>,\n",
       " <selenium.webdriver.remote.webelement.WebElement (session=\"aa687f60e2c20534d39a73fd804885be\", element=\"15f2e566-ad45-496f-8ce8-df4fcd931678\")>,\n",
       " <selenium.webdriver.remote.webelement.WebElement (session=\"aa687f60e2c20534d39a73fd804885be\", element=\"1e6605bb-e6ad-457c-9dca-0673337b4d93\")>,\n",
       " <selenium.webdriver.remote.webelement.WebElement (session=\"aa687f60e2c20534d39a73fd804885be\", element=\"d8690818-1fd3-40a5-abdf-39d37eaa9885\")>,\n",
       " <selenium.webdriver.remote.webelement.WebElement (session=\"aa687f60e2c20534d39a73fd804885be\", element=\"37353e03-9820-4d61-ac8e-f36ea7b1d4bf\")>,\n",
       " <selenium.webdriver.remote.webelement.WebElement (session=\"aa687f60e2c20534d39a73fd804885be\", element=\"97b4cd2e-5a69-4447-b95b-3d5600caab2b\")>,\n",
       " <selenium.webdriver.remote.webelement.WebElement (session=\"aa687f60e2c20534d39a73fd804885be\", element=\"64dfaa2e-5318-4f3f-a9a4-096d831dad19\")>,\n",
       " <selenium.webdriver.remote.webelement.WebElement (session=\"aa687f60e2c20534d39a73fd804885be\", element=\"17dc32b0-873c-45c5-919c-3fdc332ce523\")>,\n",
       " <selenium.webdriver.remote.webelement.WebElement (session=\"aa687f60e2c20534d39a73fd804885be\", element=\"279320a6-1d8d-4526-b1c2-45f29f310e77\")>,\n",
       " <selenium.webdriver.remote.webelement.WebElement (session=\"aa687f60e2c20534d39a73fd804885be\", element=\"54765d3b-bbeb-4611-b4c8-192620a58281\")>,\n",
       " <selenium.webdriver.remote.webelement.WebElement (session=\"aa687f60e2c20534d39a73fd804885be\", element=\"5c12e645-1bda-4ce6-ac7f-9a15622c9b85\")>,\n",
       " <selenium.webdriver.remote.webelement.WebElement (session=\"aa687f60e2c20534d39a73fd804885be\", element=\"d7d954c4-d06d-4153-88bc-7680c5b1e157\")>,\n",
       " <selenium.webdriver.remote.webelement.WebElement (session=\"aa687f60e2c20534d39a73fd804885be\", element=\"44e8799a-14b1-48e4-b20a-db3584ec953f\")>,\n",
       " <selenium.webdriver.remote.webelement.WebElement (session=\"aa687f60e2c20534d39a73fd804885be\", element=\"fc5dbfe4-5d6e-4ca9-9700-316dcb39adff\")>,\n",
       " <selenium.webdriver.remote.webelement.WebElement (session=\"aa687f60e2c20534d39a73fd804885be\", element=\"1f322e6d-acec-4f48-ac54-49d46321d4d8\")>,\n",
       " <selenium.webdriver.remote.webelement.WebElement (session=\"aa687f60e2c20534d39a73fd804885be\", element=\"344c7213-6b61-40b0-93b3-cc5fbaf29415\")>,\n",
       " <selenium.webdriver.remote.webelement.WebElement (session=\"aa687f60e2c20534d39a73fd804885be\", element=\"857db157-a71e-4b9b-bf55-02042c57697a\")>,\n",
       " <selenium.webdriver.remote.webelement.WebElement (session=\"aa687f60e2c20534d39a73fd804885be\", element=\"ccee09bb-f1eb-4601-9303-bb848c34e51d\")>,\n",
       " <selenium.webdriver.remote.webelement.WebElement (session=\"aa687f60e2c20534d39a73fd804885be\", element=\"92ab91f0-a59e-4eb3-9fed-23717db1697e\")>,\n",
       " <selenium.webdriver.remote.webelement.WebElement (session=\"aa687f60e2c20534d39a73fd804885be\", element=\"225c2fa3-cd2a-414f-b04b-83c6db2a9b49\")>,\n",
       " <selenium.webdriver.remote.webelement.WebElement (session=\"aa687f60e2c20534d39a73fd804885be\", element=\"fa492db2-310f-4b2e-8972-ce930a127205\")>,\n",
       " <selenium.webdriver.remote.webelement.WebElement (session=\"aa687f60e2c20534d39a73fd804885be\", element=\"244e7abe-2a1c-4e1c-ba9b-b9c1a206d272\")>,\n",
       " <selenium.webdriver.remote.webelement.WebElement (session=\"aa687f60e2c20534d39a73fd804885be\", element=\"ce9103b2-b934-44c2-9858-ab45aefd9e07\")>,\n",
       " <selenium.webdriver.remote.webelement.WebElement (session=\"aa687f60e2c20534d39a73fd804885be\", element=\"843e1189-f44e-4e73-8aa3-86e32c7b0471\")>,\n",
       " <selenium.webdriver.remote.webelement.WebElement (session=\"aa687f60e2c20534d39a73fd804885be\", element=\"14cd451d-d5b8-40df-930c-1cba42c08f3b\")>,\n",
       " <selenium.webdriver.remote.webelement.WebElement (session=\"aa687f60e2c20534d39a73fd804885be\", element=\"4192e369-6f3c-4731-b5e4-84a69c92dc54\")>,\n",
       " <selenium.webdriver.remote.webelement.WebElement (session=\"aa687f60e2c20534d39a73fd804885be\", element=\"2ab6dbb8-d9d0-4900-8703-2fb8cf14127b\")>,\n",
       " <selenium.webdriver.remote.webelement.WebElement (session=\"aa687f60e2c20534d39a73fd804885be\", element=\"d60ea776-3cf7-42e2-abf7-682dab579814\")>,\n",
       " <selenium.webdriver.remote.webelement.WebElement (session=\"aa687f60e2c20534d39a73fd804885be\", element=\"f7807374-e7f0-4c8d-85db-55f8351f97bb\")>,\n",
       " <selenium.webdriver.remote.webelement.WebElement (session=\"aa687f60e2c20534d39a73fd804885be\", element=\"d4bd59e8-3b6a-46a4-82c5-f74a055ef3f7\")>,\n",
       " <selenium.webdriver.remote.webelement.WebElement (session=\"aa687f60e2c20534d39a73fd804885be\", element=\"eede281a-8d85-4af8-a2ae-fa66f34c0dda\")>,\n",
       " <selenium.webdriver.remote.webelement.WebElement (session=\"aa687f60e2c20534d39a73fd804885be\", element=\"11793d28-4289-4801-b16c-d53054189252\")>,\n",
       " <selenium.webdriver.remote.webelement.WebElement (session=\"aa687f60e2c20534d39a73fd804885be\", element=\"ee03daea-eae9-43f4-bd51-35d216f020e9\")>,\n",
       " <selenium.webdriver.remote.webelement.WebElement (session=\"aa687f60e2c20534d39a73fd804885be\", element=\"74744bce-d9c2-4809-9561-7ffb8f92c962\")>,\n",
       " <selenium.webdriver.remote.webelement.WebElement (session=\"aa687f60e2c20534d39a73fd804885be\", element=\"e1d1f57e-9cce-4264-a145-01c21dc0b8cc\")>,\n",
       " <selenium.webdriver.remote.webelement.WebElement (session=\"aa687f60e2c20534d39a73fd804885be\", element=\"c190070c-224c-4433-bcbc-441fdba20d5a\")>,\n",
       " <selenium.webdriver.remote.webelement.WebElement (session=\"aa687f60e2c20534d39a73fd804885be\", element=\"8c980d17-fbb7-43dd-88a8-5248866c868a\")>,\n",
       " <selenium.webdriver.remote.webelement.WebElement (session=\"aa687f60e2c20534d39a73fd804885be\", element=\"2d935bad-679c-40ed-9238-4212e71f5548\")>,\n",
       " <selenium.webdriver.remote.webelement.WebElement (session=\"aa687f60e2c20534d39a73fd804885be\", element=\"67e4afeb-c050-4444-8d46-4961b0101b04\")>,\n",
       " <selenium.webdriver.remote.webelement.WebElement (session=\"aa687f60e2c20534d39a73fd804885be\", element=\"b234c921-8c39-4ecb-afa9-2a06b958263d\")>,\n",
       " <selenium.webdriver.remote.webelement.WebElement (session=\"aa687f60e2c20534d39a73fd804885be\", element=\"d3df7f9f-4a57-41b4-add8-48d53cf68099\")>,\n",
       " <selenium.webdriver.remote.webelement.WebElement (session=\"aa687f60e2c20534d39a73fd804885be\", element=\"1ca68e36-e587-4186-9ec6-f3a3fea4853b\")>,\n",
       " <selenium.webdriver.remote.webelement.WebElement (session=\"aa687f60e2c20534d39a73fd804885be\", element=\"5d64bba9-1096-423c-a505-dbeb58987a77\")>,\n",
       " <selenium.webdriver.remote.webelement.WebElement (session=\"aa687f60e2c20534d39a73fd804885be\", element=\"7584e4f3-5296-41b4-89bb-d7d827fea6c2\")>,\n",
       " <selenium.webdriver.remote.webelement.WebElement (session=\"aa687f60e2c20534d39a73fd804885be\", element=\"03cb3eaa-3566-4339-88f0-53748b0a651f\")>,\n",
       " <selenium.webdriver.remote.webelement.WebElement (session=\"aa687f60e2c20534d39a73fd804885be\", element=\"589956d6-6a71-4aa7-b953-6fe34c7c8fc9\")>,\n",
       " <selenium.webdriver.remote.webelement.WebElement (session=\"aa687f60e2c20534d39a73fd804885be\", element=\"3b5b6816-cd9f-436f-8c81-4e9a9b0fb770\")>,\n",
       " <selenium.webdriver.remote.webelement.WebElement (session=\"aa687f60e2c20534d39a73fd804885be\", element=\"370dd2ea-6296-4bf9-955b-d1c6a2ac0fc6\")>]"
      ]
     },
     "execution_count": 28,
     "metadata": {},
     "output_type": "execute_result"
    }
   ],
   "source": [
    "header2=browser.find_elements(\"xpath\",\"//div[@class='td-wrap-in']\")\n",
    "header2"
   ]
  },
  {
   "cell_type": "code",
   "execution_count": 29,
   "id": "1e2790b0",
   "metadata": {},
   "outputs": [
    {
     "data": {
      "text/plain": [
       "['98.4', '100', '100', '90', '100', '98.4', '98.8', '99.9', '100']"
      ]
     },
     "execution_count": 29,
     "metadata": {},
     "output_type": "execute_result"
    }
   ],
   "source": [
    "#PARSING DATA\n",
    "value_head=[]\n",
    "for data in header2:\n",
    "    #get the text data\n",
    "    temp=data.text\n",
    "    value_head.append(temp)\n",
    "value=value_head[31:40]\n",
    "value"
   ]
  },
  {
   "cell_type": "code",
   "execution_count": 30,
   "id": "1cfd93a1",
   "metadata": {},
   "outputs": [
    {
     "data": {
      "text/plain": [
       "{'Name': 'University of Oxford',\n",
       " 'Location': 'Oxford, United Kingdom',\n",
       " 'Rank': '4',\n",
       " 'Overall Score': '98.4',\n",
       " 'Academic Reputation': '100',\n",
       " 'Employer Reputation': '100',\n",
       " 'Citations per Faculty': '90',\n",
       " 'Faculty Student Ratio': '100',\n",
       " 'International Students Ratio': '98.4',\n",
       " 'International Faculty Ratio': '98.8',\n",
       " 'International Research Network\\nUnweighted': '99.9',\n",
       " 'Employment Outcomes\\nUnweighted': '100'}"
      ]
     },
     "execution_count": 30,
     "metadata": {},
     "output_type": "execute_result"
    }
   ],
   "source": [
    "d={}\n",
    "d['Name']=value_head[30]\n",
    "d['Location']=loc[3]\n",
    "d['Rank']=RANK[3]\n",
    "for i in range(len(column_head)):\n",
    "    d[column_head[i]]=value[i]\n",
    "d\n"
   ]
  },
  {
   "cell_type": "code",
   "execution_count": 31,
   "id": "460dd2fa",
   "metadata": {},
   "outputs": [
    {
     "data": {
      "text/plain": [
       "'{\"Name\": \"University of Oxford\", \"Location\": \"Oxford, United Kingdom\", \"Rank\": \"4\", \"Overall Score\": \"98.4\", \"Academic Reputation\": \"100\", \"Employer Reputation\": \"100\", \"Citations per Faculty\": \"90\", \"Faculty Student Ratio\": \"100\", \"International Students Ratio\": \"98.4\", \"International Faculty Ratio\": \"98.8\", \"International Research Network\\\\nUnweighted\": \"99.9\", \"Employment Outcomes\\\\nUnweighted\": \"100\"}'"
      ]
     },
     "execution_count": 31,
     "metadata": {},
     "output_type": "execute_result"
    }
   ],
   "source": [
    "s1=json.dumps(d)\n",
    "s1"
   ]
  },
  {
   "cell_type": "code",
   "execution_count": 32,
   "id": "4eae9b54",
   "metadata": {},
   "outputs": [],
   "source": [
    "with open('University of Oxford.json','w') as f:\n",
    "    json.dump(d,f)"
   ]
  },
  {
   "cell_type": "code",
   "execution_count": null,
   "id": "4423337e",
   "metadata": {},
   "outputs": [],
   "source": []
  },
  {
   "cell_type": "code",
   "execution_count": null,
   "id": "0b09d1d1",
   "metadata": {},
   "outputs": [],
   "source": []
  }
 ],
 "metadata": {
  "kernelspec": {
   "display_name": "Python 3 (ipykernel)",
   "language": "python",
   "name": "python3"
  },
  "language_info": {
   "codemirror_mode": {
    "name": "ipython",
    "version": 3
   },
   "file_extension": ".py",
   "mimetype": "text/x-python",
   "name": "python",
   "nbconvert_exporter": "python",
   "pygments_lexer": "ipython3",
   "version": "3.9.12"
  }
 },
 "nbformat": 4,
 "nbformat_minor": 5
}
