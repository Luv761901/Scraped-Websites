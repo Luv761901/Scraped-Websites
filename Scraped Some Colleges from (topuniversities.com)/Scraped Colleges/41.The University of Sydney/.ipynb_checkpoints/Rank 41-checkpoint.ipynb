{
 "cells": [
  {
   "cell_type": "code",
   "execution_count": 1,
   "id": "f9241705",
   "metadata": {},
   "outputs": [],
   "source": [
    "from selenium import webdriver\n",
    "from selenium.webdriver.chrome.service import Service\n",
    "import pandas as pd\n",
    "import json "
   ]
  },
  {
   "cell_type": "code",
   "execution_count": 2,
   "id": "6003d5dd",
   "metadata": {},
   "outputs": [],
   "source": [
    "path = Service('C:\\chromedriver.exe')\n"
   ]
  },
  {
   "cell_type": "code",
   "execution_count": 3,
   "id": "1b69f7f1",
   "metadata": {},
   "outputs": [],
   "source": [
    "# set path for the driver\n",
    "browser = webdriver.Chrome(service = path)\n"
   ]
  },
  {
   "cell_type": "code",
   "execution_count": 4,
   "id": "d2290050",
   "metadata": {},
   "outputs": [],
   "source": [
    "url = \"https://www.topuniversities.com/university-rankings/world-university-rankings/2023\""
   ]
  },
  {
   "cell_type": "code",
   "execution_count": 5,
   "id": "6bc9acf3",
   "metadata": {},
   "outputs": [],
   "source": [
    "\n",
    "# open the page url ion chrome\n",
    "browser.get(url)"
   ]
  },
  {
   "cell_type": "code",
   "execution_count": 6,
   "id": "42d5f561",
   "metadata": {},
   "outputs": [
    {
     "data": {
      "text/plain": [
       "[<selenium.webdriver.remote.webelement.WebElement (session=\"96353ec81c244530244ddaac5f640138\", element=\"0ec472de-386f-4f91-82be-85c26455af2d\")>,\n",
       " <selenium.webdriver.remote.webelement.WebElement (session=\"96353ec81c244530244ddaac5f640138\", element=\"185da93f-3baa-47e3-992a-3a6dea1d1fc0\")>,\n",
       " <selenium.webdriver.remote.webelement.WebElement (session=\"96353ec81c244530244ddaac5f640138\", element=\"8f01ac71-ed9f-43f1-a731-97d13f944a2b\")>,\n",
       " <selenium.webdriver.remote.webelement.WebElement (session=\"96353ec81c244530244ddaac5f640138\", element=\"ec9ed151-2bbd-49ac-974a-44496c05176f\")>,\n",
       " <selenium.webdriver.remote.webelement.WebElement (session=\"96353ec81c244530244ddaac5f640138\", element=\"276a4944-75b9-436f-b705-f47067d8e79b\")>,\n",
       " <selenium.webdriver.remote.webelement.WebElement (session=\"96353ec81c244530244ddaac5f640138\", element=\"dd632490-5932-4e28-9cc8-7a243547b89c\")>,\n",
       " <selenium.webdriver.remote.webelement.WebElement (session=\"96353ec81c244530244ddaac5f640138\", element=\"3b5395a5-6630-4ffb-b6ff-412e6dd13d5d\")>,\n",
       " <selenium.webdriver.remote.webelement.WebElement (session=\"96353ec81c244530244ddaac5f640138\", element=\"bb138f28-8e80-4526-afbd-15b2e154def3\")>,\n",
       " <selenium.webdriver.remote.webelement.WebElement (session=\"96353ec81c244530244ddaac5f640138\", element=\"8a84a6e6-67e5-4b34-8886-c88d579de113\")>]"
      ]
     },
     "execution_count": 6,
     "metadata": {},
     "output_type": "execute_result"
    }
   ],
   "source": [
    "# GET EACH COLLEGE SPECIFICATION HEADERS\n",
    "header=browser.find_elements(\"xpath\",\"//div[@class='_click-function_ind']\")\n",
    "header"
   ]
  },
  {
   "cell_type": "code",
   "execution_count": 7,
   "id": "a56e1799",
   "metadata": {},
   "outputs": [
    {
     "data": {
      "text/plain": [
       "['Overall Score',\n",
       " 'Academic Reputation',\n",
       " 'Employer Reputation',\n",
       " 'Citations per Faculty',\n",
       " 'Faculty Student Ratio',\n",
       " 'International Students Ratio',\n",
       " 'International Faculty Ratio',\n",
       " 'International Research Network\\nUnweighted',\n",
       " 'Employment Outcomes\\nUnweighted']"
      ]
     },
     "execution_count": 7,
     "metadata": {},
     "output_type": "execute_result"
    }
   ],
   "source": [
    "#PARSING DATA\n",
    "column_head=[]\n",
    "for data in header:\n",
    "    #get the text data\n",
    "    temp=data.text\n",
    "    column_head.append(temp)\n",
    "column_head"
   ]
  },
  {
   "cell_type": "code",
   "execution_count": 8,
   "id": "f6b52d7d",
   "metadata": {},
   "outputs": [
    {
     "data": {
      "text/plain": [
       "[<selenium.webdriver.remote.webelement.WebElement (session=\"96353ec81c244530244ddaac5f640138\", element=\"48ca970b-3c6c-4f6f-9396-70706ff0e1ae\")>,\n",
       " <selenium.webdriver.remote.webelement.WebElement (session=\"96353ec81c244530244ddaac5f640138\", element=\"4fef821f-24c2-4a2c-a02a-ab1e9f66e475\")>,\n",
       " <selenium.webdriver.remote.webelement.WebElement (session=\"96353ec81c244530244ddaac5f640138\", element=\"9759cc40-4a74-4348-8043-8e34bdeec55c\")>,\n",
       " <selenium.webdriver.remote.webelement.WebElement (session=\"96353ec81c244530244ddaac5f640138\", element=\"aa94d1b3-11d5-48d4-923b-ebc5d30d6187\")>,\n",
       " <selenium.webdriver.remote.webelement.WebElement (session=\"96353ec81c244530244ddaac5f640138\", element=\"0074b3ae-d7e9-49f2-a538-0f2e995f8b1c\")>,\n",
       " <selenium.webdriver.remote.webelement.WebElement (session=\"96353ec81c244530244ddaac5f640138\", element=\"050013d2-0f59-43cb-950f-5bc49b3e8522\")>,\n",
       " <selenium.webdriver.remote.webelement.WebElement (session=\"96353ec81c244530244ddaac5f640138\", element=\"417b8767-ca77-4f61-aab9-d037fa1f45d4\")>,\n",
       " <selenium.webdriver.remote.webelement.WebElement (session=\"96353ec81c244530244ddaac5f640138\", element=\"01fa1725-d0d3-49e4-901e-6f62fe0ea589\")>,\n",
       " <selenium.webdriver.remote.webelement.WebElement (session=\"96353ec81c244530244ddaac5f640138\", element=\"6fecd6d5-6312-4776-b721-1ad2071de4a8\")>,\n",
       " <selenium.webdriver.remote.webelement.WebElement (session=\"96353ec81c244530244ddaac5f640138\", element=\"8b1d8a2c-0987-41d9-a064-296322821278\")>,\n",
       " <selenium.webdriver.remote.webelement.WebElement (session=\"96353ec81c244530244ddaac5f640138\", element=\"e218d372-55d1-4e91-a40b-62cc7bd9ccca\")>,\n",
       " <selenium.webdriver.remote.webelement.WebElement (session=\"96353ec81c244530244ddaac5f640138\", element=\"2602c590-1d7e-4609-8fa8-241a19c6fb13\")>,\n",
       " <selenium.webdriver.remote.webelement.WebElement (session=\"96353ec81c244530244ddaac5f640138\", element=\"bb5bdaab-2f40-4640-b4ee-9204eac2fa39\")>,\n",
       " <selenium.webdriver.remote.webelement.WebElement (session=\"96353ec81c244530244ddaac5f640138\", element=\"6b447726-db07-4969-9268-9fc557a19784\")>,\n",
       " <selenium.webdriver.remote.webelement.WebElement (session=\"96353ec81c244530244ddaac5f640138\", element=\"a59488c5-251b-4d75-a2b0-b3845de034cb\")>,\n",
       " <selenium.webdriver.remote.webelement.WebElement (session=\"96353ec81c244530244ddaac5f640138\", element=\"3fe023ae-64ab-4a1d-9709-9ad0e96f0d96\")>,\n",
       " <selenium.webdriver.remote.webelement.WebElement (session=\"96353ec81c244530244ddaac5f640138\", element=\"ddffcb30-ed66-413f-9069-952fa6cf9255\")>,\n",
       " <selenium.webdriver.remote.webelement.WebElement (session=\"96353ec81c244530244ddaac5f640138\", element=\"53ce4148-2252-4ef7-9d5b-974d44345c08\")>,\n",
       " <selenium.webdriver.remote.webelement.WebElement (session=\"96353ec81c244530244ddaac5f640138\", element=\"c21d7896-1a7c-47d5-9299-7583074f1395\")>,\n",
       " <selenium.webdriver.remote.webelement.WebElement (session=\"96353ec81c244530244ddaac5f640138\", element=\"03d6c459-29cb-4f5c-88a8-32663eb5bfec\")>,\n",
       " <selenium.webdriver.remote.webelement.WebElement (session=\"96353ec81c244530244ddaac5f640138\", element=\"f724172c-ed15-430a-bb8b-8ea171cbdd90\")>,\n",
       " <selenium.webdriver.remote.webelement.WebElement (session=\"96353ec81c244530244ddaac5f640138\", element=\"9a89d41a-cedf-476d-81be-a5e8bc099ec1\")>,\n",
       " <selenium.webdriver.remote.webelement.WebElement (session=\"96353ec81c244530244ddaac5f640138\", element=\"34a2477a-70b9-4cf4-992c-639ef860fc41\")>,\n",
       " <selenium.webdriver.remote.webelement.WebElement (session=\"96353ec81c244530244ddaac5f640138\", element=\"194edfa8-24a8-4666-ad20-400939011185\")>,\n",
       " <selenium.webdriver.remote.webelement.WebElement (session=\"96353ec81c244530244ddaac5f640138\", element=\"6fddc2ad-88ef-4f00-b23b-ca0e9009800b\")>,\n",
       " <selenium.webdriver.remote.webelement.WebElement (session=\"96353ec81c244530244ddaac5f640138\", element=\"ac7df240-3798-4d50-a68f-513a25c2b45f\")>,\n",
       " <selenium.webdriver.remote.webelement.WebElement (session=\"96353ec81c244530244ddaac5f640138\", element=\"85e85ebe-0f6a-4583-8e43-5829e8f3e8f6\")>,\n",
       " <selenium.webdriver.remote.webelement.WebElement (session=\"96353ec81c244530244ddaac5f640138\", element=\"418c9e5a-b333-4ee7-8f7d-df719297a659\")>,\n",
       " <selenium.webdriver.remote.webelement.WebElement (session=\"96353ec81c244530244ddaac5f640138\", element=\"aa2e3596-dd5c-416b-80c5-a8873f1f2f27\")>,\n",
       " <selenium.webdriver.remote.webelement.WebElement (session=\"96353ec81c244530244ddaac5f640138\", element=\"0015283b-730e-44a6-a787-1dd2ea8d9df6\")>,\n",
       " <selenium.webdriver.remote.webelement.WebElement (session=\"96353ec81c244530244ddaac5f640138\", element=\"260b294a-8f78-4efa-a06c-bf22c7852b78\")>,\n",
       " <selenium.webdriver.remote.webelement.WebElement (session=\"96353ec81c244530244ddaac5f640138\", element=\"f2be3875-f744-4610-9282-0c6dbae1c31a\")>,\n",
       " <selenium.webdriver.remote.webelement.WebElement (session=\"96353ec81c244530244ddaac5f640138\", element=\"a09b7733-f6cb-4159-a343-73b165f6cc8e\")>,\n",
       " <selenium.webdriver.remote.webelement.WebElement (session=\"96353ec81c244530244ddaac5f640138\", element=\"9ee86c85-7366-4a0b-bcf2-94df9bb27cb4\")>,\n",
       " <selenium.webdriver.remote.webelement.WebElement (session=\"96353ec81c244530244ddaac5f640138\", element=\"6f8f2732-b60a-4f9a-87fc-8cfd90c3a1bc\")>,\n",
       " <selenium.webdriver.remote.webelement.WebElement (session=\"96353ec81c244530244ddaac5f640138\", element=\"309034b9-50cf-4238-b31c-bdfd2e23e544\")>,\n",
       " <selenium.webdriver.remote.webelement.WebElement (session=\"96353ec81c244530244ddaac5f640138\", element=\"3c522427-3843-436e-9512-820119459cc2\")>,\n",
       " <selenium.webdriver.remote.webelement.WebElement (session=\"96353ec81c244530244ddaac5f640138\", element=\"cb9ad2dc-e7ed-4703-9913-21a8b42cc1da\")>,\n",
       " <selenium.webdriver.remote.webelement.WebElement (session=\"96353ec81c244530244ddaac5f640138\", element=\"7b5f11db-07ef-4280-9356-b0b8fa46a323\")>,\n",
       " <selenium.webdriver.remote.webelement.WebElement (session=\"96353ec81c244530244ddaac5f640138\", element=\"33bbb2ef-34c2-40fd-ba34-ff3a94c9dab2\")>,\n",
       " <selenium.webdriver.remote.webelement.WebElement (session=\"96353ec81c244530244ddaac5f640138\", element=\"035330a3-5db2-4895-95e4-16f2f25a4e30\")>,\n",
       " <selenium.webdriver.remote.webelement.WebElement (session=\"96353ec81c244530244ddaac5f640138\", element=\"d6769e74-2363-4e2f-96e2-bce1cb027cdb\")>,\n",
       " <selenium.webdriver.remote.webelement.WebElement (session=\"96353ec81c244530244ddaac5f640138\", element=\"86109cd2-8494-473f-abd0-edd5e39359cb\")>,\n",
       " <selenium.webdriver.remote.webelement.WebElement (session=\"96353ec81c244530244ddaac5f640138\", element=\"6109e6cf-e6e6-45d2-a812-a5cb55b62304\")>,\n",
       " <selenium.webdriver.remote.webelement.WebElement (session=\"96353ec81c244530244ddaac5f640138\", element=\"c8385829-9997-4701-aa90-83ae639c1362\")>,\n",
       " <selenium.webdriver.remote.webelement.WebElement (session=\"96353ec81c244530244ddaac5f640138\", element=\"4fbf8b03-3d91-4b81-949b-263263c216fc\")>,\n",
       " <selenium.webdriver.remote.webelement.WebElement (session=\"96353ec81c244530244ddaac5f640138\", element=\"6f3a0dc5-62c6-4519-8ad6-14d5677aa743\")>,\n",
       " <selenium.webdriver.remote.webelement.WebElement (session=\"96353ec81c244530244ddaac5f640138\", element=\"de202d41-fb14-4ee1-8abe-db1e147e3a85\")>,\n",
       " <selenium.webdriver.remote.webelement.WebElement (session=\"96353ec81c244530244ddaac5f640138\", element=\"252a66df-0874-43bd-ba81-24adcb34c95c\")>,\n",
       " <selenium.webdriver.remote.webelement.WebElement (session=\"96353ec81c244530244ddaac5f640138\", element=\"8ba2e3c5-d16b-4e75-a990-e07e813b9bf7\")>,\n",
       " <selenium.webdriver.remote.webelement.WebElement (session=\"96353ec81c244530244ddaac5f640138\", element=\"018290cf-a26a-4a73-b108-5df4c34077e8\")>,\n",
       " <selenium.webdriver.remote.webelement.WebElement (session=\"96353ec81c244530244ddaac5f640138\", element=\"35370289-52fd-4bb2-ba51-ed055de3cd3d\")>,\n",
       " <selenium.webdriver.remote.webelement.WebElement (session=\"96353ec81c244530244ddaac5f640138\", element=\"521bcbc2-11f6-41bf-abb1-5164a75e6b1d\")>,\n",
       " <selenium.webdriver.remote.webelement.WebElement (session=\"96353ec81c244530244ddaac5f640138\", element=\"b01d94c5-437f-4f64-a328-200899bbf89e\")>,\n",
       " <selenium.webdriver.remote.webelement.WebElement (session=\"96353ec81c244530244ddaac5f640138\", element=\"8261f359-fa15-4af6-9eb2-33254b0a1ebe\")>,\n",
       " <selenium.webdriver.remote.webelement.WebElement (session=\"96353ec81c244530244ddaac5f640138\", element=\"4efa9281-e90d-4776-8b71-2fff588815e6\")>,\n",
       " <selenium.webdriver.remote.webelement.WebElement (session=\"96353ec81c244530244ddaac5f640138\", element=\"3579529d-25d9-426b-8ef2-4314f55e87e2\")>,\n",
       " <selenium.webdriver.remote.webelement.WebElement (session=\"96353ec81c244530244ddaac5f640138\", element=\"7646838c-564c-4524-82d5-7fe74dcf2181\")>,\n",
       " <selenium.webdriver.remote.webelement.WebElement (session=\"96353ec81c244530244ddaac5f640138\", element=\"8ae77a5a-9669-4e80-b4b4-df7f04d5017a\")>,\n",
       " <selenium.webdriver.remote.webelement.WebElement (session=\"96353ec81c244530244ddaac5f640138\", element=\"2438b97f-7864-40ca-b78c-c544f86b8de1\")>,\n",
       " <selenium.webdriver.remote.webelement.WebElement (session=\"96353ec81c244530244ddaac5f640138\", element=\"a973c091-c1f3-4ce3-9abd-b5f3b2469bef\")>,\n",
       " <selenium.webdriver.remote.webelement.WebElement (session=\"96353ec81c244530244ddaac5f640138\", element=\"baa83f3d-29c6-4762-9bc4-6cd359a4c5fc\")>,\n",
       " <selenium.webdriver.remote.webelement.WebElement (session=\"96353ec81c244530244ddaac5f640138\", element=\"a9374096-7ab2-4de1-a5a4-b83c6f2bf590\")>,\n",
       " <selenium.webdriver.remote.webelement.WebElement (session=\"96353ec81c244530244ddaac5f640138\", element=\"8d893ab1-b04b-4445-9c90-977e36250598\")>,\n",
       " <selenium.webdriver.remote.webelement.WebElement (session=\"96353ec81c244530244ddaac5f640138\", element=\"405fd0ce-156d-4bd1-bd7d-93049f4da6bd\")>,\n",
       " <selenium.webdriver.remote.webelement.WebElement (session=\"96353ec81c244530244ddaac5f640138\", element=\"77ce0786-31b0-4b84-b04f-55ea5bd2ac17\")>,\n",
       " <selenium.webdriver.remote.webelement.WebElement (session=\"96353ec81c244530244ddaac5f640138\", element=\"bd9233fa-e63c-4afb-aa0a-1d9fbb4a49f5\")>,\n",
       " <selenium.webdriver.remote.webelement.WebElement (session=\"96353ec81c244530244ddaac5f640138\", element=\"92b6134d-e035-4c2a-a5e5-de39addaf8c2\")>,\n",
       " <selenium.webdriver.remote.webelement.WebElement (session=\"96353ec81c244530244ddaac5f640138\", element=\"3c0496ee-52e6-446d-8834-ead4f96adc63\")>,\n",
       " <selenium.webdriver.remote.webelement.WebElement (session=\"96353ec81c244530244ddaac5f640138\", element=\"ff2c8457-afbb-44bb-9fad-1248536648a3\")>,\n",
       " <selenium.webdriver.remote.webelement.WebElement (session=\"96353ec81c244530244ddaac5f640138\", element=\"bdff064f-3ebc-4f5e-9da9-2d5733a3bdd5\")>,\n",
       " <selenium.webdriver.remote.webelement.WebElement (session=\"96353ec81c244530244ddaac5f640138\", element=\"15b5d3c1-8de7-4070-b1c4-707fa2c5d73b\")>,\n",
       " <selenium.webdriver.remote.webelement.WebElement (session=\"96353ec81c244530244ddaac5f640138\", element=\"945e230e-7ee0-4506-9d9d-fffa44fd8256\")>,\n",
       " <selenium.webdriver.remote.webelement.WebElement (session=\"96353ec81c244530244ddaac5f640138\", element=\"0d822c08-477d-4ec5-96fa-0cb13d79cd9f\")>,\n",
       " <selenium.webdriver.remote.webelement.WebElement (session=\"96353ec81c244530244ddaac5f640138\", element=\"16922b00-7c4b-4627-a607-1dde1e9f83fb\")>,\n",
       " <selenium.webdriver.remote.webelement.WebElement (session=\"96353ec81c244530244ddaac5f640138\", element=\"4a38badc-9162-4231-9126-87972b2c9981\")>,\n",
       " <selenium.webdriver.remote.webelement.WebElement (session=\"96353ec81c244530244ddaac5f640138\", element=\"35ecce23-b7e6-474d-a16e-d0efe22900b3\")>,\n",
       " <selenium.webdriver.remote.webelement.WebElement (session=\"96353ec81c244530244ddaac5f640138\", element=\"c6d29fa1-651d-4aa2-9574-737f08c74302\")>,\n",
       " <selenium.webdriver.remote.webelement.WebElement (session=\"96353ec81c244530244ddaac5f640138\", element=\"5102f1b0-bf30-497f-948a-02beec8269b7\")>,\n",
       " <selenium.webdriver.remote.webelement.WebElement (session=\"96353ec81c244530244ddaac5f640138\", element=\"e83cfa8d-5ef2-4ba7-b8fa-2b6f5c336a31\")>,\n",
       " <selenium.webdriver.remote.webelement.WebElement (session=\"96353ec81c244530244ddaac5f640138\", element=\"72941913-b705-4ded-8ef4-8a1d85e0850c\")>,\n",
       " <selenium.webdriver.remote.webelement.WebElement (session=\"96353ec81c244530244ddaac5f640138\", element=\"0cfc48c0-9fb8-4bea-8278-f9eeedf729e7\")>,\n",
       " <selenium.webdriver.remote.webelement.WebElement (session=\"96353ec81c244530244ddaac5f640138\", element=\"f1837f5b-4313-43a4-97f3-79b30bc87b2e\")>,\n",
       " <selenium.webdriver.remote.webelement.WebElement (session=\"96353ec81c244530244ddaac5f640138\", element=\"e1418180-1237-4eae-823a-8bdcdd67f921\")>,\n",
       " <selenium.webdriver.remote.webelement.WebElement (session=\"96353ec81c244530244ddaac5f640138\", element=\"b07bd4eb-0bd5-48de-955b-dee655ce3881\")>,\n",
       " <selenium.webdriver.remote.webelement.WebElement (session=\"96353ec81c244530244ddaac5f640138\", element=\"ccd082cb-c659-48d7-a7d9-5465a701390d\")>,\n",
       " <selenium.webdriver.remote.webelement.WebElement (session=\"96353ec81c244530244ddaac5f640138\", element=\"2897437c-a448-4d80-a760-5e8759250969\")>,\n",
       " <selenium.webdriver.remote.webelement.WebElement (session=\"96353ec81c244530244ddaac5f640138\", element=\"16432669-af68-4add-afb4-86c07c6e135d\")>,\n",
       " <selenium.webdriver.remote.webelement.WebElement (session=\"96353ec81c244530244ddaac5f640138\", element=\"54819d39-16b2-409e-baa9-9095c6fac4e8\")>,\n",
       " <selenium.webdriver.remote.webelement.WebElement (session=\"96353ec81c244530244ddaac5f640138\", element=\"6eceb41c-365b-4e6d-a62b-e290a7d538bd\")>,\n",
       " <selenium.webdriver.remote.webelement.WebElement (session=\"96353ec81c244530244ddaac5f640138\", element=\"d5e660e6-9d23-4bf8-84a0-e043cbd1b453\")>,\n",
       " <selenium.webdriver.remote.webelement.WebElement (session=\"96353ec81c244530244ddaac5f640138\", element=\"1fa1af37-d336-4080-a259-def86f87be58\")>,\n",
       " <selenium.webdriver.remote.webelement.WebElement (session=\"96353ec81c244530244ddaac5f640138\", element=\"1785e4f3-54e1-4141-8c0e-2c522b06fa26\")>,\n",
       " <selenium.webdriver.remote.webelement.WebElement (session=\"96353ec81c244530244ddaac5f640138\", element=\"7085c6be-43e5-42c1-89c1-e256443ace11\")>,\n",
       " <selenium.webdriver.remote.webelement.WebElement (session=\"96353ec81c244530244ddaac5f640138\", element=\"b8fe5d56-54a6-463b-a9ce-c72f5528ae41\")>,\n",
       " <selenium.webdriver.remote.webelement.WebElement (session=\"96353ec81c244530244ddaac5f640138\", element=\"faf5e49a-8d34-4944-b1ff-619592393fd4\")>,\n",
       " <selenium.webdriver.remote.webelement.WebElement (session=\"96353ec81c244530244ddaac5f640138\", element=\"779636c2-11e3-4f39-8299-bc55129f0dec\")>,\n",
       " <selenium.webdriver.remote.webelement.WebElement (session=\"96353ec81c244530244ddaac5f640138\", element=\"15951ae1-c4c0-4451-99c6-39e1a2543bbf\")>,\n",
       " <selenium.webdriver.remote.webelement.WebElement (session=\"96353ec81c244530244ddaac5f640138\", element=\"659c1132-54ad-4120-a09a-c47b17ee44cf\")>,\n",
       " <selenium.webdriver.remote.webelement.WebElement (session=\"96353ec81c244530244ddaac5f640138\", element=\"ba46f80f-f938-4b9a-99a6-8bef0681e12e\")>]"
      ]
     },
     "execution_count": 8,
     "metadata": {},
     "output_type": "execute_result"
    }
   ],
   "source": [
    "header2=browser.find_elements(\"xpath\",\"//div[@class='td-wrap-in']\")\n",
    "header2\n"
   ]
  },
  {
   "cell_type": "code",
   "execution_count": 9,
   "id": "8dc40b53",
   "metadata": {},
   "outputs": [
    {
     "data": {
      "text/plain": [
       "['79.6', '96.2', '91.7', '92.1', '15.6', '100', '99.3', '97.3', '90.8']"
      ]
     },
     "execution_count": 9,
     "metadata": {},
     "output_type": "execute_result"
    }
   ],
   "source": [
    "#PARSING DATA\n",
    "value_head=[]\n",
    "for data in header2:\n",
    "    #get the text data\n",
    "    temp=data.text\n",
    "    value_head.append(temp)\n",
    "value_head=value_head[1:10]\n",
    "value_head"
   ]
  },
  {
   "cell_type": "code",
   "execution_count": 10,
   "id": "8510d848",
   "metadata": {},
   "outputs": [
    {
     "data": {
      "text/plain": [
       "{'Overall Score': '79.6',\n",
       " 'Academic Reputation': '96.2',\n",
       " 'Employer Reputation': '91.7',\n",
       " 'Citations per Faculty': '92.1',\n",
       " 'Faculty Student Ratio': '15.6',\n",
       " 'International Students Ratio': '100',\n",
       " 'International Faculty Ratio': '99.3',\n",
       " 'International Research Network\\nUnweighted': '97.3',\n",
       " 'Employment Outcomes\\nUnweighted': '90.8'}"
      ]
     },
     "execution_count": 10,
     "metadata": {},
     "output_type": "execute_result"
    }
   ],
   "source": [
    "d={}\n",
    "for i in range(len(column_head)):\n",
    "    d[column_head[i]]=value_head[i]\n",
    "d\n"
   ]
  },
  {
   "cell_type": "code",
   "execution_count": 11,
   "id": "96cbddd1",
   "metadata": {},
   "outputs": [
    {
     "data": {
      "text/plain": [
       "'{\"Overall Score\": \"79.6\", \"Academic Reputation\": \"96.2\", \"Employer Reputation\": \"91.7\", \"Citations per Faculty\": \"92.1\", \"Faculty Student Ratio\": \"15.6\", \"International Students Ratio\": \"100\", \"International Faculty Ratio\": \"99.3\", \"International Research Network\\\\nUnweighted\": \"97.3\", \"Employment Outcomes\\\\nUnweighted\": \"90.8\"}'"
      ]
     },
     "execution_count": 11,
     "metadata": {},
     "output_type": "execute_result"
    }
   ],
   "source": [
    "s1=json.dumps(d)\n",
    "s1\n"
   ]
  },
  {
   "cell_type": "code",
   "execution_count": 12,
   "id": "1dc67dfb",
   "metadata": {},
   "outputs": [],
   "source": [
    "\n",
    "with open('The University of Sydney.json','w') as f:\n",
    "    json.dump(d,f)"
   ]
  },
  {
   "cell_type": "code",
   "execution_count": null,
   "id": "9a39667e",
   "metadata": {},
   "outputs": [],
   "source": []
  }
 ],
 "metadata": {
  "kernelspec": {
   "display_name": "Python 3 (ipykernel)",
   "language": "python",
   "name": "python3"
  },
  "language_info": {
   "codemirror_mode": {
    "name": "ipython",
    "version": 3
   },
   "file_extension": ".py",
   "mimetype": "text/x-python",
   "name": "python",
   "nbconvert_exporter": "python",
   "pygments_lexer": "ipython3",
   "version": "3.9.12"
  }
 },
 "nbformat": 4,
 "nbformat_minor": 5
}
