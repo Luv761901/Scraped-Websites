{
 "cells": [
  {
   "cell_type": "code",
   "execution_count": 1,
   "id": "f9241705",
   "metadata": {},
   "outputs": [],
   "source": [
    "from selenium import webdriver\n",
    "from selenium.webdriver.chrome.service import Service\n",
    "import pandas as pd\n",
    "import json "
   ]
  },
  {
   "cell_type": "code",
   "execution_count": 2,
   "id": "6003d5dd",
   "metadata": {},
   "outputs": [],
   "source": [
    "path = Service('C:\\chromedriver.exe')\n"
   ]
  },
  {
   "cell_type": "code",
   "execution_count": 3,
   "id": "1b69f7f1",
   "metadata": {},
   "outputs": [],
   "source": [
    "# set path for the driver\n",
    "browser = webdriver.Chrome(service = path)\n"
   ]
  },
  {
   "cell_type": "code",
   "execution_count": 4,
   "id": "d2290050",
   "metadata": {},
   "outputs": [],
   "source": [
    "url = \"https://www.topuniversities.com/university-rankings/world-university-rankings/2023\""
   ]
  },
  {
   "cell_type": "code",
   "execution_count": 5,
   "id": "6bc9acf3",
   "metadata": {},
   "outputs": [],
   "source": [
    "\n",
    "# open the page url ion chrome\n",
    "browser.get(url)"
   ]
  },
  {
   "cell_type": "code",
   "execution_count": 6,
   "id": "15396f98",
   "metadata": {},
   "outputs": [
    {
     "data": {
      "text/plain": [
       "[<selenium.webdriver.remote.webelement.WebElement (session=\"08e24f5066fbfccd628f6dab915e95d5\", element=\"987f4070-c80c-4903-9eda-13dbe7e97082\")>,\n",
       " <selenium.webdriver.remote.webelement.WebElement (session=\"08e24f5066fbfccd628f6dab915e95d5\", element=\"a155d0f2-534a-404b-ad7d-c0c0023eca59\")>,\n",
       " <selenium.webdriver.remote.webelement.WebElement (session=\"08e24f5066fbfccd628f6dab915e95d5\", element=\"3d61a9bb-3750-4f20-a7c7-59c18d360809\")>,\n",
       " <selenium.webdriver.remote.webelement.WebElement (session=\"08e24f5066fbfccd628f6dab915e95d5\", element=\"2539edae-407e-4c7a-a79f-e6e265ceaced\")>,\n",
       " <selenium.webdriver.remote.webelement.WebElement (session=\"08e24f5066fbfccd628f6dab915e95d5\", element=\"9f0a35da-f19a-4470-b1f8-9f01b63a02f0\")>,\n",
       " <selenium.webdriver.remote.webelement.WebElement (session=\"08e24f5066fbfccd628f6dab915e95d5\", element=\"730991cf-dc91-4768-b45c-2595455cb38a\")>,\n",
       " <selenium.webdriver.remote.webelement.WebElement (session=\"08e24f5066fbfccd628f6dab915e95d5\", element=\"46542b15-8976-4115-955c-81d274c871a6\")>,\n",
       " <selenium.webdriver.remote.webelement.WebElement (session=\"08e24f5066fbfccd628f6dab915e95d5\", element=\"00ad2786-3cc5-43cb-b9d5-7b99ca7ddec8\")>,\n",
       " <selenium.webdriver.remote.webelement.WebElement (session=\"08e24f5066fbfccd628f6dab915e95d5\", element=\"dc756924-6202-4dff-bb33-8bbffd4a66f7\")>,\n",
       " <selenium.webdriver.remote.webelement.WebElement (session=\"08e24f5066fbfccd628f6dab915e95d5\", element=\"fd38b673-87e8-4bbf-b220-dc231f3eb3da\")>,\n",
       " <selenium.webdriver.remote.webelement.WebElement (session=\"08e24f5066fbfccd628f6dab915e95d5\", element=\"341a2831-ef8d-4ac3-9345-b83bf883c29d\")>,\n",
       " <selenium.webdriver.remote.webelement.WebElement (session=\"08e24f5066fbfccd628f6dab915e95d5\", element=\"5ca1dec0-7008-465f-a815-6e1f15d52cf8\")>,\n",
       " <selenium.webdriver.remote.webelement.WebElement (session=\"08e24f5066fbfccd628f6dab915e95d5\", element=\"087fa828-db34-42a8-ae34-ddfdd313c7f5\")>,\n",
       " <selenium.webdriver.remote.webelement.WebElement (session=\"08e24f5066fbfccd628f6dab915e95d5\", element=\"2f6d0846-f74e-4dd3-a396-27175b4360d4\")>,\n",
       " <selenium.webdriver.remote.webelement.WebElement (session=\"08e24f5066fbfccd628f6dab915e95d5\", element=\"e3ee532a-c4b8-40f4-8290-ca90fcb4b8b2\")>,\n",
       " <selenium.webdriver.remote.webelement.WebElement (session=\"08e24f5066fbfccd628f6dab915e95d5\", element=\"a4441010-1d73-4c5d-9ce4-1199eb96b538\")>,\n",
       " <selenium.webdriver.remote.webelement.WebElement (session=\"08e24f5066fbfccd628f6dab915e95d5\", element=\"d4982147-7e5d-4730-a6fc-e56cf80cc8e8\")>,\n",
       " <selenium.webdriver.remote.webelement.WebElement (session=\"08e24f5066fbfccd628f6dab915e95d5\", element=\"f865bd17-6834-4069-86eb-045371209d61\")>,\n",
       " <selenium.webdriver.remote.webelement.WebElement (session=\"08e24f5066fbfccd628f6dab915e95d5\", element=\"b7eff4ed-b286-4d96-9a4d-5480f0108031\")>,\n",
       " <selenium.webdriver.remote.webelement.WebElement (session=\"08e24f5066fbfccd628f6dab915e95d5\", element=\"4bbd272e-f91c-42a1-813f-8ed55ca246c7\")>]"
      ]
     },
     "execution_count": 6,
     "metadata": {},
     "output_type": "execute_result"
    }
   ],
   "source": [
    "l1=browser.find_elements(\"xpath\",\"//div[@class='location ']\")\n",
    "l1\n"
   ]
  },
  {
   "cell_type": "code",
   "execution_count": 7,
   "id": "ffaa975e",
   "metadata": {},
   "outputs": [
    {
     "data": {
      "text/plain": [
       "['Sydney, Australia',\n",
       " 'Daejeon, South Korea',\n",
       " 'Hangzhou, China (Mainland)',\n",
       " 'Los Angeles, United States',\n",
       " 'Sydney, Australia',\n",
       " 'Shanghai, China (Mainland)',\n",
       " 'Vancouver, Canada',\n",
       " 'Palaiseau Cedex, France',\n",
       " 'Munich, Germany',\n",
       " 'Durham, United States']"
      ]
     },
     "execution_count": 7,
     "metadata": {},
     "output_type": "execute_result"
    }
   ],
   "source": [
    "loc=[]\n",
    "for data in l1:\n",
    "    #get the text data\n",
    "    temp=data.text\n",
    "    loc.append(temp)\n",
    "loc=loc[10:]\n",
    "loc"
   ]
  },
  {
   "cell_type": "code",
   "execution_count": 8,
   "id": "70c8b6d3",
   "metadata": {},
   "outputs": [
    {
     "data": {
      "text/plain": [
       "[<selenium.webdriver.remote.webelement.WebElement (session=\"08e24f5066fbfccd628f6dab915e95d5\", element=\"e95194e1-50e4-4978-b76b-281e7cf5289b\")>,\n",
       " <selenium.webdriver.remote.webelement.WebElement (session=\"08e24f5066fbfccd628f6dab915e95d5\", element=\"399ca431-fbf6-42e9-800e-2fa3326104f3\")>,\n",
       " <selenium.webdriver.remote.webelement.WebElement (session=\"08e24f5066fbfccd628f6dab915e95d5\", element=\"fd3ce674-c8f4-49b6-9010-8b8f6a4ab042\")>,\n",
       " <selenium.webdriver.remote.webelement.WebElement (session=\"08e24f5066fbfccd628f6dab915e95d5\", element=\"c8c615d5-e8e8-43de-b860-87196b8ee29c\")>,\n",
       " <selenium.webdriver.remote.webelement.WebElement (session=\"08e24f5066fbfccd628f6dab915e95d5\", element=\"47a31809-9730-49e8-81be-23397e6dc1dc\")>,\n",
       " <selenium.webdriver.remote.webelement.WebElement (session=\"08e24f5066fbfccd628f6dab915e95d5\", element=\"d69ec601-c6f5-4fbe-a2cf-7f0591ddc119\")>,\n",
       " <selenium.webdriver.remote.webelement.WebElement (session=\"08e24f5066fbfccd628f6dab915e95d5\", element=\"78fde4ea-60d8-4ab3-867e-1c40cc1b8d6a\")>,\n",
       " <selenium.webdriver.remote.webelement.WebElement (session=\"08e24f5066fbfccd628f6dab915e95d5\", element=\"c0ffb70b-0c88-4ead-be47-ea58e5cd89ee\")>,\n",
       " <selenium.webdriver.remote.webelement.WebElement (session=\"08e24f5066fbfccd628f6dab915e95d5\", element=\"ddc7c327-d571-4f87-a907-c021883d8de9\")>,\n",
       " <selenium.webdriver.remote.webelement.WebElement (session=\"08e24f5066fbfccd628f6dab915e95d5\", element=\"bb1c04d9-0da3-4de5-985c-855ed87b61cd\")>]"
      ]
     },
     "execution_count": 8,
     "metadata": {},
     "output_type": "execute_result"
    }
   ],
   "source": [
    "l2=browser.find_elements(\"xpath\",\"//div[@class='_univ-rank ']\")\n",
    "l2"
   ]
  },
  {
   "cell_type": "code",
   "execution_count": 9,
   "id": "dc6a894d",
   "metadata": {},
   "outputs": [
    {
     "data": {
      "text/plain": [
       "['41', '=42', '=42', '44', '45', '46', '47', '48', '49', '=50']"
      ]
     },
     "execution_count": 9,
     "metadata": {},
     "output_type": "execute_result"
    }
   ],
   "source": [
    "RANK=[]\n",
    "for data in l2:\n",
    "    #get the text data\n",
    "    temp=data.text\n",
    "    RANK.append(temp)\n",
    "RANK\n"
   ]
  },
  {
   "cell_type": "code",
   "execution_count": 10,
   "id": "42d5f561",
   "metadata": {},
   "outputs": [
    {
     "data": {
      "text/plain": [
       "[<selenium.webdriver.remote.webelement.WebElement (session=\"08e24f5066fbfccd628f6dab915e95d5\", element=\"776b9d0d-fa83-4581-9a6a-6dea1dc18aa1\")>,\n",
       " <selenium.webdriver.remote.webelement.WebElement (session=\"08e24f5066fbfccd628f6dab915e95d5\", element=\"90bdbb1c-d8d9-4609-8e19-1557082752e0\")>,\n",
       " <selenium.webdriver.remote.webelement.WebElement (session=\"08e24f5066fbfccd628f6dab915e95d5\", element=\"63e506e6-f7f5-4b2a-9858-3611b5c02fa3\")>,\n",
       " <selenium.webdriver.remote.webelement.WebElement (session=\"08e24f5066fbfccd628f6dab915e95d5\", element=\"438752dc-dabe-4153-a08f-bcb4779f9686\")>,\n",
       " <selenium.webdriver.remote.webelement.WebElement (session=\"08e24f5066fbfccd628f6dab915e95d5\", element=\"15786a13-47a3-40c6-96f8-103f8a5abda7\")>,\n",
       " <selenium.webdriver.remote.webelement.WebElement (session=\"08e24f5066fbfccd628f6dab915e95d5\", element=\"f1703bee-0a01-4a8d-b811-2b11d2a0c850\")>,\n",
       " <selenium.webdriver.remote.webelement.WebElement (session=\"08e24f5066fbfccd628f6dab915e95d5\", element=\"08cfc255-c6c3-45c4-bf1f-a45778b3f10f\")>,\n",
       " <selenium.webdriver.remote.webelement.WebElement (session=\"08e24f5066fbfccd628f6dab915e95d5\", element=\"0ef4caa6-8c7e-4b9e-92ae-cc9234cb76bf\")>,\n",
       " <selenium.webdriver.remote.webelement.WebElement (session=\"08e24f5066fbfccd628f6dab915e95d5\", element=\"659f6600-d6ac-45ea-af02-5cbbec44e223\")>]"
      ]
     },
     "execution_count": 10,
     "metadata": {},
     "output_type": "execute_result"
    }
   ],
   "source": [
    "# GET EACH COLLEGE SPECIFICATION HEADERS\n",
    "header=browser.find_elements(\"xpath\",\"//div[@class='_click-function_ind']\")\n",
    "header"
   ]
  },
  {
   "cell_type": "code",
   "execution_count": 11,
   "id": "a56e1799",
   "metadata": {},
   "outputs": [
    {
     "data": {
      "text/plain": [
       "['Overall Score',\n",
       " 'Academic Reputation',\n",
       " 'Employer Reputation',\n",
       " 'Citations per Faculty',\n",
       " 'Faculty Student Ratio',\n",
       " 'International Students Ratio',\n",
       " 'International Faculty Ratio',\n",
       " 'International Research Network\\nUnweighted',\n",
       " 'Employment Outcomes\\nUnweighted']"
      ]
     },
     "execution_count": 11,
     "metadata": {},
     "output_type": "execute_result"
    }
   ],
   "source": [
    "#PARSING DATA\n",
    "column_head=[]\n",
    "for data in header:\n",
    "    #get the text data\n",
    "    temp=data.text\n",
    "    column_head.append(temp)\n",
    "column_head"
   ]
  },
  {
   "cell_type": "code",
   "execution_count": 12,
   "id": "f6b52d7d",
   "metadata": {},
   "outputs": [
    {
     "data": {
      "text/plain": [
       "[<selenium.webdriver.remote.webelement.WebElement (session=\"08e24f5066fbfccd628f6dab915e95d5\", element=\"3e328f3e-d435-4418-8647-4d536fa0d695\")>,\n",
       " <selenium.webdriver.remote.webelement.WebElement (session=\"08e24f5066fbfccd628f6dab915e95d5\", element=\"c791b6d9-26ae-4959-b2f2-0d9568a96807\")>,\n",
       " <selenium.webdriver.remote.webelement.WebElement (session=\"08e24f5066fbfccd628f6dab915e95d5\", element=\"28a36931-5c65-4ffb-906d-9a080a83fc97\")>,\n",
       " <selenium.webdriver.remote.webelement.WebElement (session=\"08e24f5066fbfccd628f6dab915e95d5\", element=\"35facf5e-c34d-4c82-b5cf-1a259eea20b6\")>,\n",
       " <selenium.webdriver.remote.webelement.WebElement (session=\"08e24f5066fbfccd628f6dab915e95d5\", element=\"7c37511b-1881-419a-9f11-4bfd7c215af9\")>,\n",
       " <selenium.webdriver.remote.webelement.WebElement (session=\"08e24f5066fbfccd628f6dab915e95d5\", element=\"c7312042-fd5f-46fa-9baf-c9c454cb94a4\")>,\n",
       " <selenium.webdriver.remote.webelement.WebElement (session=\"08e24f5066fbfccd628f6dab915e95d5\", element=\"8949d997-2c1d-49c0-9051-b722aeb46711\")>,\n",
       " <selenium.webdriver.remote.webelement.WebElement (session=\"08e24f5066fbfccd628f6dab915e95d5\", element=\"30865cb1-6405-4f2a-9713-0050e9a5f0b1\")>,\n",
       " <selenium.webdriver.remote.webelement.WebElement (session=\"08e24f5066fbfccd628f6dab915e95d5\", element=\"3019d3e2-e99f-4aaf-a55d-fe3b7bb2936e\")>,\n",
       " <selenium.webdriver.remote.webelement.WebElement (session=\"08e24f5066fbfccd628f6dab915e95d5\", element=\"892af49d-2e26-4d69-8c7a-c11448d0bb5c\")>,\n",
       " <selenium.webdriver.remote.webelement.WebElement (session=\"08e24f5066fbfccd628f6dab915e95d5\", element=\"c249afaf-e5da-4ee9-850f-851bf2760c98\")>,\n",
       " <selenium.webdriver.remote.webelement.WebElement (session=\"08e24f5066fbfccd628f6dab915e95d5\", element=\"d7787336-b1b7-42cd-ac93-6cacb9c9ef32\")>,\n",
       " <selenium.webdriver.remote.webelement.WebElement (session=\"08e24f5066fbfccd628f6dab915e95d5\", element=\"ac7e0dd0-74bd-47cc-985e-7e25e5b88221\")>,\n",
       " <selenium.webdriver.remote.webelement.WebElement (session=\"08e24f5066fbfccd628f6dab915e95d5\", element=\"bb53c973-24b6-4e33-86cc-42274dcf45c6\")>,\n",
       " <selenium.webdriver.remote.webelement.WebElement (session=\"08e24f5066fbfccd628f6dab915e95d5\", element=\"9fb70d3f-c43e-44e4-b9f2-9a74639297af\")>,\n",
       " <selenium.webdriver.remote.webelement.WebElement (session=\"08e24f5066fbfccd628f6dab915e95d5\", element=\"0bd8df56-a0eb-4c0e-b6c3-8fff1e711138\")>,\n",
       " <selenium.webdriver.remote.webelement.WebElement (session=\"08e24f5066fbfccd628f6dab915e95d5\", element=\"467d408d-6ea4-4a70-b27f-2c2163a83bdb\")>,\n",
       " <selenium.webdriver.remote.webelement.WebElement (session=\"08e24f5066fbfccd628f6dab915e95d5\", element=\"eeb30bf9-6f98-4f2a-b6ac-9f6223cf388e\")>,\n",
       " <selenium.webdriver.remote.webelement.WebElement (session=\"08e24f5066fbfccd628f6dab915e95d5\", element=\"e3a806e7-fed3-4df3-994b-53c207bd398e\")>,\n",
       " <selenium.webdriver.remote.webelement.WebElement (session=\"08e24f5066fbfccd628f6dab915e95d5\", element=\"5b5ce1d4-1eb8-4452-85ce-e1e9fdab14df\")>,\n",
       " <selenium.webdriver.remote.webelement.WebElement (session=\"08e24f5066fbfccd628f6dab915e95d5\", element=\"535d9c58-542c-4bdf-b470-ed6d3e0ac40f\")>,\n",
       " <selenium.webdriver.remote.webelement.WebElement (session=\"08e24f5066fbfccd628f6dab915e95d5\", element=\"89fa9b9c-dbb1-434e-8aa4-7c72996b5fea\")>,\n",
       " <selenium.webdriver.remote.webelement.WebElement (session=\"08e24f5066fbfccd628f6dab915e95d5\", element=\"bf7e08c8-33ee-40ae-b9b8-6287cf552e38\")>,\n",
       " <selenium.webdriver.remote.webelement.WebElement (session=\"08e24f5066fbfccd628f6dab915e95d5\", element=\"1d5f14f7-3118-49c6-af8a-d8190302bc6d\")>,\n",
       " <selenium.webdriver.remote.webelement.WebElement (session=\"08e24f5066fbfccd628f6dab915e95d5\", element=\"7b22d15c-4afd-453b-ba46-b035b6956e6c\")>,\n",
       " <selenium.webdriver.remote.webelement.WebElement (session=\"08e24f5066fbfccd628f6dab915e95d5\", element=\"ddf76ad3-ce8f-43ed-8923-d0c11236de0f\")>,\n",
       " <selenium.webdriver.remote.webelement.WebElement (session=\"08e24f5066fbfccd628f6dab915e95d5\", element=\"c630f24d-6f49-41af-9dd1-1c9126b684bd\")>,\n",
       " <selenium.webdriver.remote.webelement.WebElement (session=\"08e24f5066fbfccd628f6dab915e95d5\", element=\"47fe57b9-240b-440a-8c6f-b6bd8060f997\")>,\n",
       " <selenium.webdriver.remote.webelement.WebElement (session=\"08e24f5066fbfccd628f6dab915e95d5\", element=\"8f87ceff-f077-4e60-a295-a6d4e23a52da\")>,\n",
       " <selenium.webdriver.remote.webelement.WebElement (session=\"08e24f5066fbfccd628f6dab915e95d5\", element=\"b326204e-8895-46b0-aa29-907433570ee8\")>,\n",
       " <selenium.webdriver.remote.webelement.WebElement (session=\"08e24f5066fbfccd628f6dab915e95d5\", element=\"dd8b554b-013a-42b5-84ca-c07fa561b757\")>,\n",
       " <selenium.webdriver.remote.webelement.WebElement (session=\"08e24f5066fbfccd628f6dab915e95d5\", element=\"527322d1-2f5d-48c5-89f7-b5c34dc4f468\")>,\n",
       " <selenium.webdriver.remote.webelement.WebElement (session=\"08e24f5066fbfccd628f6dab915e95d5\", element=\"3d9d3ce4-8b50-49d7-b04f-6993db2fcd17\")>,\n",
       " <selenium.webdriver.remote.webelement.WebElement (session=\"08e24f5066fbfccd628f6dab915e95d5\", element=\"2f423eec-73d3-4d32-b780-c63efac0c383\")>,\n",
       " <selenium.webdriver.remote.webelement.WebElement (session=\"08e24f5066fbfccd628f6dab915e95d5\", element=\"cc48e187-9329-4559-9950-9c1cb76ec1a4\")>,\n",
       " <selenium.webdriver.remote.webelement.WebElement (session=\"08e24f5066fbfccd628f6dab915e95d5\", element=\"e18ccd24-56e0-4e62-866a-29904e07fbb5\")>,\n",
       " <selenium.webdriver.remote.webelement.WebElement (session=\"08e24f5066fbfccd628f6dab915e95d5\", element=\"eceab36a-0b69-46df-bf1e-01aa3ae9eb45\")>,\n",
       " <selenium.webdriver.remote.webelement.WebElement (session=\"08e24f5066fbfccd628f6dab915e95d5\", element=\"f9ed640b-25da-4604-a9d1-4992ea4f9031\")>,\n",
       " <selenium.webdriver.remote.webelement.WebElement (session=\"08e24f5066fbfccd628f6dab915e95d5\", element=\"c53c174f-42e4-4920-9e2e-d6db27201926\")>,\n",
       " <selenium.webdriver.remote.webelement.WebElement (session=\"08e24f5066fbfccd628f6dab915e95d5\", element=\"9bfe02f8-7b87-4c54-a613-eb89ffe259c8\")>,\n",
       " <selenium.webdriver.remote.webelement.WebElement (session=\"08e24f5066fbfccd628f6dab915e95d5\", element=\"989b8207-f71e-469c-a1fa-202410977fa8\")>,\n",
       " <selenium.webdriver.remote.webelement.WebElement (session=\"08e24f5066fbfccd628f6dab915e95d5\", element=\"4001befe-c7b5-42f5-ada4-fdf234418c5d\")>,\n",
       " <selenium.webdriver.remote.webelement.WebElement (session=\"08e24f5066fbfccd628f6dab915e95d5\", element=\"f63615cc-9895-416e-a470-ff4cfc6ff730\")>,\n",
       " <selenium.webdriver.remote.webelement.WebElement (session=\"08e24f5066fbfccd628f6dab915e95d5\", element=\"adee9f93-55fb-4da2-9d43-fe50aa290607\")>,\n",
       " <selenium.webdriver.remote.webelement.WebElement (session=\"08e24f5066fbfccd628f6dab915e95d5\", element=\"f499fb6c-9278-4040-9f5d-783331e30ef0\")>,\n",
       " <selenium.webdriver.remote.webelement.WebElement (session=\"08e24f5066fbfccd628f6dab915e95d5\", element=\"59284058-10b7-4a10-8c6b-da8b1a1f62fa\")>,\n",
       " <selenium.webdriver.remote.webelement.WebElement (session=\"08e24f5066fbfccd628f6dab915e95d5\", element=\"0203ba4f-6e28-44a1-9726-6cc9e873b263\")>,\n",
       " <selenium.webdriver.remote.webelement.WebElement (session=\"08e24f5066fbfccd628f6dab915e95d5\", element=\"a7e116ec-07bc-43a9-9b88-65b972b521cb\")>,\n",
       " <selenium.webdriver.remote.webelement.WebElement (session=\"08e24f5066fbfccd628f6dab915e95d5\", element=\"44f7ee3e-d75a-4893-8d77-df37678e4bd0\")>,\n",
       " <selenium.webdriver.remote.webelement.WebElement (session=\"08e24f5066fbfccd628f6dab915e95d5\", element=\"56a3177c-9613-4a07-b885-154536fe2558\")>,\n",
       " <selenium.webdriver.remote.webelement.WebElement (session=\"08e24f5066fbfccd628f6dab915e95d5\", element=\"4b78aeae-d585-4461-9213-e0a88388f543\")>,\n",
       " <selenium.webdriver.remote.webelement.WebElement (session=\"08e24f5066fbfccd628f6dab915e95d5\", element=\"d4714c5e-e128-4663-bdab-6ac1c952bdb9\")>,\n",
       " <selenium.webdriver.remote.webelement.WebElement (session=\"08e24f5066fbfccd628f6dab915e95d5\", element=\"11246f8c-bdcf-4bff-907a-20311e2537dc\")>,\n",
       " <selenium.webdriver.remote.webelement.WebElement (session=\"08e24f5066fbfccd628f6dab915e95d5\", element=\"88a174a3-0775-40b7-89e6-762b834774af\")>,\n",
       " <selenium.webdriver.remote.webelement.WebElement (session=\"08e24f5066fbfccd628f6dab915e95d5\", element=\"7605e619-032d-4608-b3b5-918a271dbe2f\")>,\n",
       " <selenium.webdriver.remote.webelement.WebElement (session=\"08e24f5066fbfccd628f6dab915e95d5\", element=\"7b109949-45d4-4af4-a2f1-af0cd9b62bca\")>,\n",
       " <selenium.webdriver.remote.webelement.WebElement (session=\"08e24f5066fbfccd628f6dab915e95d5\", element=\"68e2c8db-9f10-4633-8e21-fbe0a26762ec\")>,\n",
       " <selenium.webdriver.remote.webelement.WebElement (session=\"08e24f5066fbfccd628f6dab915e95d5\", element=\"2fba484e-7581-4c15-bba9-4d4d0f6ae102\")>,\n",
       " <selenium.webdriver.remote.webelement.WebElement (session=\"08e24f5066fbfccd628f6dab915e95d5\", element=\"8e92e577-b243-4ebe-8011-1fd7510e8446\")>,\n",
       " <selenium.webdriver.remote.webelement.WebElement (session=\"08e24f5066fbfccd628f6dab915e95d5\", element=\"348ea6bf-88a0-4779-bf43-a78dda0718e5\")>,\n",
       " <selenium.webdriver.remote.webelement.WebElement (session=\"08e24f5066fbfccd628f6dab915e95d5\", element=\"c1624fb2-7239-44cc-ab4e-ef87707f65eb\")>,\n",
       " <selenium.webdriver.remote.webelement.WebElement (session=\"08e24f5066fbfccd628f6dab915e95d5\", element=\"f33bbbd7-e424-48a3-9d7d-50e534133313\")>,\n",
       " <selenium.webdriver.remote.webelement.WebElement (session=\"08e24f5066fbfccd628f6dab915e95d5\", element=\"a8ee2289-df5c-4d47-a63a-a5219fa6127f\")>,\n",
       " <selenium.webdriver.remote.webelement.WebElement (session=\"08e24f5066fbfccd628f6dab915e95d5\", element=\"b83f5771-2993-45dc-9781-927e8161e816\")>,\n",
       " <selenium.webdriver.remote.webelement.WebElement (session=\"08e24f5066fbfccd628f6dab915e95d5\", element=\"d3cde5a8-3249-4eb0-a9b0-0b94d6082c54\")>,\n",
       " <selenium.webdriver.remote.webelement.WebElement (session=\"08e24f5066fbfccd628f6dab915e95d5\", element=\"e9af511f-4cd9-4014-803e-b7ebf2b5acb7\")>,\n",
       " <selenium.webdriver.remote.webelement.WebElement (session=\"08e24f5066fbfccd628f6dab915e95d5\", element=\"809cb0ba-96de-43a9-9c58-8ea818c30402\")>,\n",
       " <selenium.webdriver.remote.webelement.WebElement (session=\"08e24f5066fbfccd628f6dab915e95d5\", element=\"4b3f52de-0ef2-411e-927c-908a8042299f\")>,\n",
       " <selenium.webdriver.remote.webelement.WebElement (session=\"08e24f5066fbfccd628f6dab915e95d5\", element=\"39958b9c-4cec-4f1e-b12f-4d4e6bd52bac\")>,\n",
       " <selenium.webdriver.remote.webelement.WebElement (session=\"08e24f5066fbfccd628f6dab915e95d5\", element=\"7ac73bd8-69b5-439b-b3a0-d9a68c7890e5\")>,\n",
       " <selenium.webdriver.remote.webelement.WebElement (session=\"08e24f5066fbfccd628f6dab915e95d5\", element=\"9c0c1242-c756-45a4-86ac-820c63b0b20a\")>,\n",
       " <selenium.webdriver.remote.webelement.WebElement (session=\"08e24f5066fbfccd628f6dab915e95d5\", element=\"4a7f06f1-84e3-4679-b28b-0f83ad9070ba\")>,\n",
       " <selenium.webdriver.remote.webelement.WebElement (session=\"08e24f5066fbfccd628f6dab915e95d5\", element=\"17849a25-0adf-44cf-8d7b-6fade01a6a26\")>,\n",
       " <selenium.webdriver.remote.webelement.WebElement (session=\"08e24f5066fbfccd628f6dab915e95d5\", element=\"5f033cf9-7cd1-4d3f-a968-b0d9103072d9\")>,\n",
       " <selenium.webdriver.remote.webelement.WebElement (session=\"08e24f5066fbfccd628f6dab915e95d5\", element=\"26063299-3ed6-4213-a53e-7db2add0656b\")>,\n",
       " <selenium.webdriver.remote.webelement.WebElement (session=\"08e24f5066fbfccd628f6dab915e95d5\", element=\"a49c2dc1-6a4a-4546-b555-8216f0b799b8\")>,\n",
       " <selenium.webdriver.remote.webelement.WebElement (session=\"08e24f5066fbfccd628f6dab915e95d5\", element=\"84f8f78c-cb15-4f84-b022-f77da15363b1\")>,\n",
       " <selenium.webdriver.remote.webelement.WebElement (session=\"08e24f5066fbfccd628f6dab915e95d5\", element=\"5c46e73c-7c8c-433b-9f1b-5aa4b7eeb591\")>,\n",
       " <selenium.webdriver.remote.webelement.WebElement (session=\"08e24f5066fbfccd628f6dab915e95d5\", element=\"250ac9b6-6aff-44ae-b431-7bc96b960a3a\")>,\n",
       " <selenium.webdriver.remote.webelement.WebElement (session=\"08e24f5066fbfccd628f6dab915e95d5\", element=\"a8c62645-c2dd-459a-b22a-a8e701b7a72f\")>,\n",
       " <selenium.webdriver.remote.webelement.WebElement (session=\"08e24f5066fbfccd628f6dab915e95d5\", element=\"7502e031-78aa-4e40-a3c0-908ec4a924ec\")>,\n",
       " <selenium.webdriver.remote.webelement.WebElement (session=\"08e24f5066fbfccd628f6dab915e95d5\", element=\"4c2d4525-c2c9-4363-83e9-4d9698e3be92\")>,\n",
       " <selenium.webdriver.remote.webelement.WebElement (session=\"08e24f5066fbfccd628f6dab915e95d5\", element=\"ffb03891-575b-4b4e-abcf-9ef56906ad23\")>,\n",
       " <selenium.webdriver.remote.webelement.WebElement (session=\"08e24f5066fbfccd628f6dab915e95d5\", element=\"9dbdc965-0021-410d-971c-ad1eab15f726\")>,\n",
       " <selenium.webdriver.remote.webelement.WebElement (session=\"08e24f5066fbfccd628f6dab915e95d5\", element=\"12512e0a-7b24-4c66-9445-17ab90f52912\")>,\n",
       " <selenium.webdriver.remote.webelement.WebElement (session=\"08e24f5066fbfccd628f6dab915e95d5\", element=\"afe995d7-0b77-4c68-90c8-4857eb3795ce\")>,\n",
       " <selenium.webdriver.remote.webelement.WebElement (session=\"08e24f5066fbfccd628f6dab915e95d5\", element=\"241f5678-48ac-455d-8f75-a46a8bc87da5\")>,\n",
       " <selenium.webdriver.remote.webelement.WebElement (session=\"08e24f5066fbfccd628f6dab915e95d5\", element=\"370e7e2b-8a2a-4454-9723-7b63bae8df8b\")>,\n",
       " <selenium.webdriver.remote.webelement.WebElement (session=\"08e24f5066fbfccd628f6dab915e95d5\", element=\"d5347cbe-0223-481b-bd8e-992d4c638992\")>,\n",
       " <selenium.webdriver.remote.webelement.WebElement (session=\"08e24f5066fbfccd628f6dab915e95d5\", element=\"3ec39bc1-d09c-4908-96e3-bdfaa3b949d7\")>,\n",
       " <selenium.webdriver.remote.webelement.WebElement (session=\"08e24f5066fbfccd628f6dab915e95d5\", element=\"2fc2c868-a10a-4a75-93e0-b7f19b1b55bc\")>,\n",
       " <selenium.webdriver.remote.webelement.WebElement (session=\"08e24f5066fbfccd628f6dab915e95d5\", element=\"571d78aa-9d8f-4241-86b1-626a58608cf1\")>,\n",
       " <selenium.webdriver.remote.webelement.WebElement (session=\"08e24f5066fbfccd628f6dab915e95d5\", element=\"4c56065e-5df0-4076-a3e2-75045520d4e7\")>,\n",
       " <selenium.webdriver.remote.webelement.WebElement (session=\"08e24f5066fbfccd628f6dab915e95d5\", element=\"b22595f5-765b-4227-a633-cee5d34e4b70\")>,\n",
       " <selenium.webdriver.remote.webelement.WebElement (session=\"08e24f5066fbfccd628f6dab915e95d5\", element=\"79a694f4-f692-4a48-b7ac-5283cdf8c42f\")>,\n",
       " <selenium.webdriver.remote.webelement.WebElement (session=\"08e24f5066fbfccd628f6dab915e95d5\", element=\"1f5c5e81-685a-43a1-906b-8bd32f14c8a0\")>,\n",
       " <selenium.webdriver.remote.webelement.WebElement (session=\"08e24f5066fbfccd628f6dab915e95d5\", element=\"3aa14151-ba1f-48e1-9f93-8a7842280e45\")>,\n",
       " <selenium.webdriver.remote.webelement.WebElement (session=\"08e24f5066fbfccd628f6dab915e95d5\", element=\"700b4501-38f1-4889-b4bd-bd7301c2416f\")>,\n",
       " <selenium.webdriver.remote.webelement.WebElement (session=\"08e24f5066fbfccd628f6dab915e95d5\", element=\"f32a61c0-3542-4ff4-831d-7e0377dbbad0\")>,\n",
       " <selenium.webdriver.remote.webelement.WebElement (session=\"08e24f5066fbfccd628f6dab915e95d5\", element=\"44d9fd19-b1d8-426f-b3ea-754842c0578e\")>]"
      ]
     },
     "execution_count": 12,
     "metadata": {},
     "output_type": "execute_result"
    }
   ],
   "source": [
    "header2=browser.find_elements(\"xpath\",\"//div[@class='td-wrap-in']\")\n",
    "header2\n"
   ]
  },
  {
   "cell_type": "code",
   "execution_count": 13,
   "id": "8dc40b53",
   "metadata": {},
   "outputs": [
    {
     "data": {
      "text/plain": [
       "['79.6', '96.2', '91.7', '92.1', '15.6', '100', '99.3', '97.3', '90.8']"
      ]
     },
     "execution_count": 13,
     "metadata": {},
     "output_type": "execute_result"
    }
   ],
   "source": [
    "#PARSING DATA\n",
    "value_head=[]\n",
    "for data in header2:\n",
    "    #get the text data\n",
    "    temp=data.text\n",
    "    value_head.append(temp)\n",
    "value=value_head[1:10]\n",
    "value"
   ]
  },
  {
   "cell_type": "code",
   "execution_count": 14,
   "id": "8510d848",
   "metadata": {},
   "outputs": [
    {
     "data": {
      "text/plain": [
       "{'Name': 'The University of Sydney',\n",
       " 'Location': 'Sydney, Australia',\n",
       " 'Rank': '41',\n",
       " 'Overall Score': '79.6',\n",
       " 'Academic Reputation': '96.2',\n",
       " 'Employer Reputation': '91.7',\n",
       " 'Citations per Faculty': '92.1',\n",
       " 'Faculty Student Ratio': '15.6',\n",
       " 'International Students Ratio': '100',\n",
       " 'International Faculty Ratio': '99.3',\n",
       " 'International Research Network\\nUnweighted': '97.3',\n",
       " 'Employment Outcomes\\nUnweighted': '90.8'}"
      ]
     },
     "execution_count": 14,
     "metadata": {},
     "output_type": "execute_result"
    }
   ],
   "source": [
    "d={}\n",
    "\n",
    "\n",
    "d['Name']=value_head[0]\n",
    "d['Location']=loc[0]\n",
    "d['Rank']=RANK[0]\n",
    "\n",
    "\n",
    "\n",
    "for i in range(len(column_head)):\n",
    "    d[column_head[i]]=value[i]\n",
    "d\n"
   ]
  },
  {
   "cell_type": "code",
   "execution_count": 15,
   "id": "96cbddd1",
   "metadata": {},
   "outputs": [
    {
     "data": {
      "text/plain": [
       "'{\"Name\": \"The University of Sydney\", \"Location\": \"Sydney, Australia\", \"Rank\": \"41\", \"Overall Score\": \"79.6\", \"Academic Reputation\": \"96.2\", \"Employer Reputation\": \"91.7\", \"Citations per Faculty\": \"92.1\", \"Faculty Student Ratio\": \"15.6\", \"International Students Ratio\": \"100\", \"International Faculty Ratio\": \"99.3\", \"International Research Network\\\\nUnweighted\": \"97.3\", \"Employment Outcomes\\\\nUnweighted\": \"90.8\"}'"
      ]
     },
     "execution_count": 15,
     "metadata": {},
     "output_type": "execute_result"
    }
   ],
   "source": [
    "s1=json.dumps(d)\n",
    "s1\n"
   ]
  },
  {
   "cell_type": "code",
   "execution_count": 16,
   "id": "1dc67dfb",
   "metadata": {},
   "outputs": [],
   "source": [
    "\n",
    "with open('The University of Sydney.json','w') as f:\n",
    "    json.dump(d,f)"
   ]
  },
  {
   "cell_type": "code",
   "execution_count": null,
   "id": "9a39667e",
   "metadata": {},
   "outputs": [],
   "source": []
  },
  {
   "cell_type": "code",
   "execution_count": null,
   "id": "f173d5fb",
   "metadata": {},
   "outputs": [],
   "source": []
  }
 ],
 "metadata": {
  "kernelspec": {
   "display_name": "Python 3 (ipykernel)",
   "language": "python",
   "name": "python3"
  },
  "language_info": {
   "codemirror_mode": {
    "name": "ipython",
    "version": 3
   },
   "file_extension": ".py",
   "mimetype": "text/x-python",
   "name": "python",
   "nbconvert_exporter": "python",
   "pygments_lexer": "ipython3",
   "version": "3.9.12"
  }
 },
 "nbformat": 4,
 "nbformat_minor": 5
}
