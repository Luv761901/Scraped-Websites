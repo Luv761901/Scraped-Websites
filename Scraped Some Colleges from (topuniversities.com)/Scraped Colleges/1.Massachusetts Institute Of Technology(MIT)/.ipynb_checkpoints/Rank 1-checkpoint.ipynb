{
 "cells": [
  {
   "cell_type": "markdown",
   "id": "967c224e",
   "metadata": {},
   "source": [
    "## Import Modules"
   ]
  },
  {
   "cell_type": "code",
   "execution_count": 1,
   "id": "96839c23",
   "metadata": {},
   "outputs": [],
   "source": [
    "from selenium import webdriver\n",
    "from selenium.webdriver.chrome.service import Service\n",
    "import pandas as pd\n",
    "import json"
   ]
  },
  {
   "cell_type": "markdown",
   "id": "d56eb584",
   "metadata": {},
   "source": [
    "## Set path fo Chrome Driver"
   ]
  },
  {
   "cell_type": "code",
   "execution_count": 2,
   "id": "dd124d6c",
   "metadata": {},
   "outputs": [],
   "source": [
    "path = Service('C:\\chromedriver.exe')"
   ]
  },
  {
   "cell_type": "code",
   "execution_count": 3,
   "id": "f10e66be",
   "metadata": {},
   "outputs": [],
   "source": [
    "# set path for the driver\n",
    "browser = webdriver.Chrome(service = path)"
   ]
  },
  {
   "cell_type": "code",
   "execution_count": 4,
   "id": "2f5e4c45",
   "metadata": {},
   "outputs": [],
   "source": [
    "url = \"https://www.topuniversities.com/university-rankings/world-university-rankings/2023\""
   ]
  },
  {
   "cell_type": "code",
   "execution_count": 5,
   "id": "9f937bce",
   "metadata": {},
   "outputs": [],
   "source": [
    "# open the page url in chrome\n",
    "browser.get(url)"
   ]
  },
  {
   "cell_type": "markdown",
   "id": "b737e7e2",
   "metadata": {},
   "source": [
    "## Scrap the data"
   ]
  },
  {
   "cell_type": "code",
   "execution_count": 6,
   "id": "44bfd3b2",
   "metadata": {},
   "outputs": [
    {
     "data": {
      "text/plain": [
       "[<selenium.webdriver.remote.webelement.WebElement (session=\"e19da40cfc17fd50a20b5f2fac2ca729\", element=\"234e0910-dc50-4591-846c-3e43e832f459\")>,\n",
       " <selenium.webdriver.remote.webelement.WebElement (session=\"e19da40cfc17fd50a20b5f2fac2ca729\", element=\"c2220599-459c-4e3a-bb4e-5b96812237cc\")>,\n",
       " <selenium.webdriver.remote.webelement.WebElement (session=\"e19da40cfc17fd50a20b5f2fac2ca729\", element=\"cf89de14-61c3-4ede-889c-b393eacaa4b0\")>,\n",
       " <selenium.webdriver.remote.webelement.WebElement (session=\"e19da40cfc17fd50a20b5f2fac2ca729\", element=\"f9667ccc-5e60-4d0e-b644-1d9d38bb7c3f\")>,\n",
       " <selenium.webdriver.remote.webelement.WebElement (session=\"e19da40cfc17fd50a20b5f2fac2ca729\", element=\"e12841ff-c2e0-404b-b779-c235bf708676\")>,\n",
       " <selenium.webdriver.remote.webelement.WebElement (session=\"e19da40cfc17fd50a20b5f2fac2ca729\", element=\"a675e0bb-87d2-440d-8b77-956de44102a2\")>,\n",
       " <selenium.webdriver.remote.webelement.WebElement (session=\"e19da40cfc17fd50a20b5f2fac2ca729\", element=\"7e03f606-bd12-4492-aa15-f413f129760e\")>,\n",
       " <selenium.webdriver.remote.webelement.WebElement (session=\"e19da40cfc17fd50a20b5f2fac2ca729\", element=\"700969cc-33a1-4b69-878b-b7fea13c397c\")>,\n",
       " <selenium.webdriver.remote.webelement.WebElement (session=\"e19da40cfc17fd50a20b5f2fac2ca729\", element=\"74958aa4-5a6e-4cce-841c-7ea812a471e5\")>,\n",
       " <selenium.webdriver.remote.webelement.WebElement (session=\"e19da40cfc17fd50a20b5f2fac2ca729\", element=\"f8b019bc-d711-4e00-ab14-673c941dec64\")>,\n",
       " <selenium.webdriver.remote.webelement.WebElement (session=\"e19da40cfc17fd50a20b5f2fac2ca729\", element=\"cb96991f-849a-4cc0-b5e3-e6c93a93f286\")>,\n",
       " <selenium.webdriver.remote.webelement.WebElement (session=\"e19da40cfc17fd50a20b5f2fac2ca729\", element=\"9cc571ff-bbcf-47c2-ba1e-e3f912ba3d8d\")>,\n",
       " <selenium.webdriver.remote.webelement.WebElement (session=\"e19da40cfc17fd50a20b5f2fac2ca729\", element=\"ec0fb7ee-497f-452f-be55-e274b5c42c13\")>,\n",
       " <selenium.webdriver.remote.webelement.WebElement (session=\"e19da40cfc17fd50a20b5f2fac2ca729\", element=\"aab4ef9f-e947-4322-bf83-fb81f2fc07a3\")>,\n",
       " <selenium.webdriver.remote.webelement.WebElement (session=\"e19da40cfc17fd50a20b5f2fac2ca729\", element=\"3ac359d6-cd41-474a-b753-942fa65bf3e3\")>,\n",
       " <selenium.webdriver.remote.webelement.WebElement (session=\"e19da40cfc17fd50a20b5f2fac2ca729\", element=\"7a4b7f51-1bd9-44a0-ac01-bc05535cb6b4\")>,\n",
       " <selenium.webdriver.remote.webelement.WebElement (session=\"e19da40cfc17fd50a20b5f2fac2ca729\", element=\"f10122da-c4c0-494b-8faa-2bdf45a09381\")>,\n",
       " <selenium.webdriver.remote.webelement.WebElement (session=\"e19da40cfc17fd50a20b5f2fac2ca729\", element=\"ad328a2b-b3cf-47b1-8322-e083f4f3010e\")>,\n",
       " <selenium.webdriver.remote.webelement.WebElement (session=\"e19da40cfc17fd50a20b5f2fac2ca729\", element=\"785a14e8-8f52-4ab0-b841-3dea4fef8de0\")>,\n",
       " <selenium.webdriver.remote.webelement.WebElement (session=\"e19da40cfc17fd50a20b5f2fac2ca729\", element=\"b93170cc-596c-4a41-a436-d77f9c94cf7e\")>]"
      ]
     },
     "execution_count": 6,
     "metadata": {},
     "output_type": "execute_result"
    }
   ],
   "source": [
    "l1=browser.find_elements(\"xpath\",\"//div[@class='location ']\")\n",
    "l1"
   ]
  },
  {
   "cell_type": "code",
   "execution_count": 8,
   "id": "7c10dfb0",
   "metadata": {},
   "outputs": [
    {
     "data": {
      "text/plain": [
       "['Cambridge, United States',\n",
       " 'Cambridge, United Kingdom',\n",
       " 'Stanford, United States',\n",
       " 'Oxford, United Kingdom',\n",
       " 'Cambridge, United States',\n",
       " 'Pasadena, United States',\n",
       " 'London, United Kingdom',\n",
       " 'London, United Kingdom',\n",
       " 'Zürich, Switzerland',\n",
       " 'Chicago, United States']"
      ]
     },
     "execution_count": 8,
     "metadata": {},
     "output_type": "execute_result"
    }
   ],
   "source": [
    "loc=[]\n",
    "for data in l1:\n",
    "    #get the text data\n",
    "    temp=data.text\n",
    "    loc.append(temp)\n",
    "loc=loc[10:]\n",
    "loc"
   ]
  },
  {
   "cell_type": "code",
   "execution_count": 9,
   "id": "f8a37f92",
   "metadata": {},
   "outputs": [
    {
     "data": {
      "text/plain": [
       "[<selenium.webdriver.remote.webelement.WebElement (session=\"e19da40cfc17fd50a20b5f2fac2ca729\", element=\"c220c897-653c-481e-b701-55d39ba66d5f\")>,\n",
       " <selenium.webdriver.remote.webelement.WebElement (session=\"e19da40cfc17fd50a20b5f2fac2ca729\", element=\"05878208-45cb-48a0-9c6d-aa2ee4e0fb6f\")>,\n",
       " <selenium.webdriver.remote.webelement.WebElement (session=\"e19da40cfc17fd50a20b5f2fac2ca729\", element=\"8f81e7d0-1ef4-47d4-a1aa-67e0b8277878\")>,\n",
       " <selenium.webdriver.remote.webelement.WebElement (session=\"e19da40cfc17fd50a20b5f2fac2ca729\", element=\"aa0f62ad-dba7-471e-a9b9-1d8cfbc7be2f\")>,\n",
       " <selenium.webdriver.remote.webelement.WebElement (session=\"e19da40cfc17fd50a20b5f2fac2ca729\", element=\"0ad37a18-45af-4de3-8e62-39bda3dd5ab0\")>,\n",
       " <selenium.webdriver.remote.webelement.WebElement (session=\"e19da40cfc17fd50a20b5f2fac2ca729\", element=\"522bb0ea-bd92-464f-9e36-02f15c138e6a\")>,\n",
       " <selenium.webdriver.remote.webelement.WebElement (session=\"e19da40cfc17fd50a20b5f2fac2ca729\", element=\"b6f34723-6dbb-4285-91d1-d1e396767c13\")>,\n",
       " <selenium.webdriver.remote.webelement.WebElement (session=\"e19da40cfc17fd50a20b5f2fac2ca729\", element=\"32439997-2afa-43b8-b424-6bb47f44a3e7\")>,\n",
       " <selenium.webdriver.remote.webelement.WebElement (session=\"e19da40cfc17fd50a20b5f2fac2ca729\", element=\"9be7bf6a-d984-48bc-a01b-918e904c8c72\")>,\n",
       " <selenium.webdriver.remote.webelement.WebElement (session=\"e19da40cfc17fd50a20b5f2fac2ca729\", element=\"54dec9b7-68ff-46a7-b09c-161086edfc83\")>]"
      ]
     },
     "execution_count": 9,
     "metadata": {},
     "output_type": "execute_result"
    }
   ],
   "source": [
    "\n",
    "l2=browser.find_elements(\"xpath\",\"//div[@class='_univ-rank ']\")\n",
    "l2\n"
   ]
  },
  {
   "cell_type": "code",
   "execution_count": 10,
   "id": "69aaa41c",
   "metadata": {},
   "outputs": [
    {
     "data": {
      "text/plain": [
       "['1', '2', '3', '4', '5', '=6', '=6', '8', '9', '10']"
      ]
     },
     "execution_count": 10,
     "metadata": {},
     "output_type": "execute_result"
    }
   ],
   "source": [
    "RANK=[]\n",
    "for data in l2:\n",
    "    #get the text data\n",
    "    temp=data.text\n",
    "    RANK.append(temp)\n",
    "RANK\n"
   ]
  },
  {
   "cell_type": "code",
   "execution_count": 11,
   "id": "fe99f689",
   "metadata": {},
   "outputs": [
    {
     "data": {
      "text/plain": [
       "[<selenium.webdriver.remote.webelement.WebElement (session=\"e19da40cfc17fd50a20b5f2fac2ca729\", element=\"1fd07a46-a1c4-4ff3-a549-84604ac93cea\")>,\n",
       " <selenium.webdriver.remote.webelement.WebElement (session=\"e19da40cfc17fd50a20b5f2fac2ca729\", element=\"7ccad288-65f7-4eb5-9f99-406f11f0c4ae\")>,\n",
       " <selenium.webdriver.remote.webelement.WebElement (session=\"e19da40cfc17fd50a20b5f2fac2ca729\", element=\"1bc78715-dce3-41ec-b85f-a8b8c4e81e76\")>,\n",
       " <selenium.webdriver.remote.webelement.WebElement (session=\"e19da40cfc17fd50a20b5f2fac2ca729\", element=\"99a455e9-c43a-4422-867d-ca4a878394b7\")>,\n",
       " <selenium.webdriver.remote.webelement.WebElement (session=\"e19da40cfc17fd50a20b5f2fac2ca729\", element=\"520f5a85-f24f-4de0-9997-1b5db79eab87\")>,\n",
       " <selenium.webdriver.remote.webelement.WebElement (session=\"e19da40cfc17fd50a20b5f2fac2ca729\", element=\"6efefe9e-ed86-4762-9318-201dbcd7aaa9\")>,\n",
       " <selenium.webdriver.remote.webelement.WebElement (session=\"e19da40cfc17fd50a20b5f2fac2ca729\", element=\"2e5a6a0c-b4c0-4d33-931a-ef49466f79c3\")>,\n",
       " <selenium.webdriver.remote.webelement.WebElement (session=\"e19da40cfc17fd50a20b5f2fac2ca729\", element=\"5ef8c46b-4f12-4e04-8857-7e7019efd93b\")>,\n",
       " <selenium.webdriver.remote.webelement.WebElement (session=\"e19da40cfc17fd50a20b5f2fac2ca729\", element=\"34d1fb14-968b-4519-a8ad-6c89aeabfc20\")>]"
      ]
     },
     "execution_count": 11,
     "metadata": {},
     "output_type": "execute_result"
    }
   ],
   "source": [
    "# GET EACH COLLEGE SPECIFICATION HEADERS\n",
    "header=browser.find_elements(\"xpath\",\"//div[@class='_click-function_ind']\")\n",
    "header"
   ]
  },
  {
   "cell_type": "code",
   "execution_count": 12,
   "id": "c7d6536d",
   "metadata": {},
   "outputs": [
    {
     "data": {
      "text/plain": [
       "['Overall Score',\n",
       " 'Academic Reputation',\n",
       " 'Employer Reputation',\n",
       " 'Citations per Faculty',\n",
       " 'Faculty Student Ratio',\n",
       " 'International Students Ratio',\n",
       " 'International Faculty Ratio',\n",
       " 'International Research Network\\nUnweighted',\n",
       " 'Employment Outcomes\\nUnweighted']"
      ]
     },
     "execution_count": 12,
     "metadata": {},
     "output_type": "execute_result"
    }
   ],
   "source": [
    "#PARSING DATA\n",
    "column_head=[]\n",
    "for data in header:\n",
    "    #get the text data\n",
    "    temp=data.text\n",
    "    column_head.append(temp)\n",
    "column_head"
   ]
  },
  {
   "cell_type": "code",
   "execution_count": 13,
   "id": "3bbd37b3",
   "metadata": {},
   "outputs": [
    {
     "data": {
      "text/plain": [
       "[<selenium.webdriver.remote.webelement.WebElement (session=\"e19da40cfc17fd50a20b5f2fac2ca729\", element=\"d4437b2b-2f41-4a4d-a208-6ed91003eb1e\")>,\n",
       " <selenium.webdriver.remote.webelement.WebElement (session=\"e19da40cfc17fd50a20b5f2fac2ca729\", element=\"c8afcd70-ca2a-4b96-a53b-9b5372bae670\")>,\n",
       " <selenium.webdriver.remote.webelement.WebElement (session=\"e19da40cfc17fd50a20b5f2fac2ca729\", element=\"d52e3f7b-94f7-49ff-ba3f-c13a5646e704\")>,\n",
       " <selenium.webdriver.remote.webelement.WebElement (session=\"e19da40cfc17fd50a20b5f2fac2ca729\", element=\"c3b4d60d-0fba-46ef-8488-329ae6810509\")>,\n",
       " <selenium.webdriver.remote.webelement.WebElement (session=\"e19da40cfc17fd50a20b5f2fac2ca729\", element=\"bff2639b-8a6e-47b1-bc4d-03f86909c94e\")>,\n",
       " <selenium.webdriver.remote.webelement.WebElement (session=\"e19da40cfc17fd50a20b5f2fac2ca729\", element=\"00d13f64-caa6-4ed2-903f-4662482d5089\")>,\n",
       " <selenium.webdriver.remote.webelement.WebElement (session=\"e19da40cfc17fd50a20b5f2fac2ca729\", element=\"4bf4fff4-92e4-4fa1-9567-898540c3132a\")>,\n",
       " <selenium.webdriver.remote.webelement.WebElement (session=\"e19da40cfc17fd50a20b5f2fac2ca729\", element=\"8c0d7995-e034-4e80-80aa-1ee001281d9b\")>,\n",
       " <selenium.webdriver.remote.webelement.WebElement (session=\"e19da40cfc17fd50a20b5f2fac2ca729\", element=\"89c1342c-956f-4197-87d1-a27f97464320\")>,\n",
       " <selenium.webdriver.remote.webelement.WebElement (session=\"e19da40cfc17fd50a20b5f2fac2ca729\", element=\"26fcc71e-b88a-4fff-9757-ad7a6e8ac578\")>,\n",
       " <selenium.webdriver.remote.webelement.WebElement (session=\"e19da40cfc17fd50a20b5f2fac2ca729\", element=\"8a09f1ed-5c3d-41ce-80bc-24c7eb075c7c\")>,\n",
       " <selenium.webdriver.remote.webelement.WebElement (session=\"e19da40cfc17fd50a20b5f2fac2ca729\", element=\"3366b7ed-d762-48f4-924a-3f3a407aa80f\")>,\n",
       " <selenium.webdriver.remote.webelement.WebElement (session=\"e19da40cfc17fd50a20b5f2fac2ca729\", element=\"90d43ad0-a4b6-4fef-8029-9936e2ce90aa\")>,\n",
       " <selenium.webdriver.remote.webelement.WebElement (session=\"e19da40cfc17fd50a20b5f2fac2ca729\", element=\"d968f3d2-1cd1-4a61-83f2-30e6ade1fa57\")>,\n",
       " <selenium.webdriver.remote.webelement.WebElement (session=\"e19da40cfc17fd50a20b5f2fac2ca729\", element=\"41b3845b-1f24-4556-ad3f-1507283e6a38\")>,\n",
       " <selenium.webdriver.remote.webelement.WebElement (session=\"e19da40cfc17fd50a20b5f2fac2ca729\", element=\"8aeb3b9a-6791-4c0d-876f-9b1daa57a7f9\")>,\n",
       " <selenium.webdriver.remote.webelement.WebElement (session=\"e19da40cfc17fd50a20b5f2fac2ca729\", element=\"d57b46d4-6507-4f9e-8019-da50acda2f1a\")>,\n",
       " <selenium.webdriver.remote.webelement.WebElement (session=\"e19da40cfc17fd50a20b5f2fac2ca729\", element=\"93d930e3-748b-4740-b270-91fa0bf4c333\")>,\n",
       " <selenium.webdriver.remote.webelement.WebElement (session=\"e19da40cfc17fd50a20b5f2fac2ca729\", element=\"c28a2568-58ec-4c53-b106-fd64d5bd455d\")>,\n",
       " <selenium.webdriver.remote.webelement.WebElement (session=\"e19da40cfc17fd50a20b5f2fac2ca729\", element=\"8de131b7-20ca-4b1b-a04a-93a2185e4968\")>,\n",
       " <selenium.webdriver.remote.webelement.WebElement (session=\"e19da40cfc17fd50a20b5f2fac2ca729\", element=\"c31576c1-d41e-4c32-8df3-2e0ef0cba15a\")>,\n",
       " <selenium.webdriver.remote.webelement.WebElement (session=\"e19da40cfc17fd50a20b5f2fac2ca729\", element=\"47d28e13-4dd8-4374-b5fd-e96c4b1a2640\")>,\n",
       " <selenium.webdriver.remote.webelement.WebElement (session=\"e19da40cfc17fd50a20b5f2fac2ca729\", element=\"e793ace9-b387-4008-824c-8c575983d5f1\")>,\n",
       " <selenium.webdriver.remote.webelement.WebElement (session=\"e19da40cfc17fd50a20b5f2fac2ca729\", element=\"ccb956e2-afb6-4946-8bb8-bab401a59b8f\")>,\n",
       " <selenium.webdriver.remote.webelement.WebElement (session=\"e19da40cfc17fd50a20b5f2fac2ca729\", element=\"d6eed446-3b35-4faf-97b3-6fa986827f11\")>,\n",
       " <selenium.webdriver.remote.webelement.WebElement (session=\"e19da40cfc17fd50a20b5f2fac2ca729\", element=\"ff456e9b-a6d5-4750-b74d-a236033f54dc\")>,\n",
       " <selenium.webdriver.remote.webelement.WebElement (session=\"e19da40cfc17fd50a20b5f2fac2ca729\", element=\"a8de8491-6d18-4216-9017-51473f6fb3df\")>,\n",
       " <selenium.webdriver.remote.webelement.WebElement (session=\"e19da40cfc17fd50a20b5f2fac2ca729\", element=\"480feb17-fca8-4872-9690-24d609e13e1d\")>,\n",
       " <selenium.webdriver.remote.webelement.WebElement (session=\"e19da40cfc17fd50a20b5f2fac2ca729\", element=\"04761cd7-4df1-4a56-a5c1-15684833a8dc\")>,\n",
       " <selenium.webdriver.remote.webelement.WebElement (session=\"e19da40cfc17fd50a20b5f2fac2ca729\", element=\"951d0bbe-0b8a-4f56-bc71-a78f55ed98f6\")>,\n",
       " <selenium.webdriver.remote.webelement.WebElement (session=\"e19da40cfc17fd50a20b5f2fac2ca729\", element=\"539f9364-91e9-4ad4-824b-8d93af026e75\")>,\n",
       " <selenium.webdriver.remote.webelement.WebElement (session=\"e19da40cfc17fd50a20b5f2fac2ca729\", element=\"fd83284a-cac6-4c81-81a7-e1a524d37d6d\")>,\n",
       " <selenium.webdriver.remote.webelement.WebElement (session=\"e19da40cfc17fd50a20b5f2fac2ca729\", element=\"cbd379a5-3d71-4d95-afcb-7c3aefb00078\")>,\n",
       " <selenium.webdriver.remote.webelement.WebElement (session=\"e19da40cfc17fd50a20b5f2fac2ca729\", element=\"e33d12db-85b1-4073-a045-7c720caa0e6e\")>,\n",
       " <selenium.webdriver.remote.webelement.WebElement (session=\"e19da40cfc17fd50a20b5f2fac2ca729\", element=\"8322dc22-5462-4582-949d-33012bd8af10\")>,\n",
       " <selenium.webdriver.remote.webelement.WebElement (session=\"e19da40cfc17fd50a20b5f2fac2ca729\", element=\"a1b3c801-23aa-49cb-865c-6b641f56f4a0\")>,\n",
       " <selenium.webdriver.remote.webelement.WebElement (session=\"e19da40cfc17fd50a20b5f2fac2ca729\", element=\"11a0a094-a480-4782-b85c-594bfbd948af\")>,\n",
       " <selenium.webdriver.remote.webelement.WebElement (session=\"e19da40cfc17fd50a20b5f2fac2ca729\", element=\"5135d083-fdba-4551-8cb9-0aadca12e0a4\")>,\n",
       " <selenium.webdriver.remote.webelement.WebElement (session=\"e19da40cfc17fd50a20b5f2fac2ca729\", element=\"19e1711b-1a01-4d85-9576-c4793edd53e6\")>,\n",
       " <selenium.webdriver.remote.webelement.WebElement (session=\"e19da40cfc17fd50a20b5f2fac2ca729\", element=\"95212483-a2e5-4bd4-9fea-0baaa2a1f93e\")>,\n",
       " <selenium.webdriver.remote.webelement.WebElement (session=\"e19da40cfc17fd50a20b5f2fac2ca729\", element=\"672a15ae-b2ae-4f3e-a216-d71b16b22b6e\")>,\n",
       " <selenium.webdriver.remote.webelement.WebElement (session=\"e19da40cfc17fd50a20b5f2fac2ca729\", element=\"628866a4-b93f-44e7-8c1d-a5eb111f19ee\")>,\n",
       " <selenium.webdriver.remote.webelement.WebElement (session=\"e19da40cfc17fd50a20b5f2fac2ca729\", element=\"b7675ed3-1fa9-4e27-a75d-743c3c14a84f\")>,\n",
       " <selenium.webdriver.remote.webelement.WebElement (session=\"e19da40cfc17fd50a20b5f2fac2ca729\", element=\"2e330d5a-0a5d-4a22-9d0c-444f12ef8d7f\")>,\n",
       " <selenium.webdriver.remote.webelement.WebElement (session=\"e19da40cfc17fd50a20b5f2fac2ca729\", element=\"2deec3c2-c005-47f4-a797-714a60b7c9fe\")>,\n",
       " <selenium.webdriver.remote.webelement.WebElement (session=\"e19da40cfc17fd50a20b5f2fac2ca729\", element=\"84dfb201-cb6b-407e-aa07-65f50dafd185\")>,\n",
       " <selenium.webdriver.remote.webelement.WebElement (session=\"e19da40cfc17fd50a20b5f2fac2ca729\", element=\"bfeeccbe-96ec-415e-b106-492af29e6deb\")>,\n",
       " <selenium.webdriver.remote.webelement.WebElement (session=\"e19da40cfc17fd50a20b5f2fac2ca729\", element=\"52021d7b-2377-412d-956f-3a2722e993d3\")>,\n",
       " <selenium.webdriver.remote.webelement.WebElement (session=\"e19da40cfc17fd50a20b5f2fac2ca729\", element=\"0dfff19d-6aaa-4ee8-bc47-cf7f1284ca56\")>,\n",
       " <selenium.webdriver.remote.webelement.WebElement (session=\"e19da40cfc17fd50a20b5f2fac2ca729\", element=\"0a89ba33-eb6b-437a-83b8-52ab7d3ce9d6\")>,\n",
       " <selenium.webdriver.remote.webelement.WebElement (session=\"e19da40cfc17fd50a20b5f2fac2ca729\", element=\"2bb07d9b-520e-4801-87a4-a6d31998b973\")>,\n",
       " <selenium.webdriver.remote.webelement.WebElement (session=\"e19da40cfc17fd50a20b5f2fac2ca729\", element=\"31828c28-6965-4629-b461-1739842228a9\")>,\n",
       " <selenium.webdriver.remote.webelement.WebElement (session=\"e19da40cfc17fd50a20b5f2fac2ca729\", element=\"6983647c-1923-4c2c-96d4-c88edc7acaf3\")>,\n",
       " <selenium.webdriver.remote.webelement.WebElement (session=\"e19da40cfc17fd50a20b5f2fac2ca729\", element=\"5d13af83-2256-4f10-bf36-679c077eb28b\")>,\n",
       " <selenium.webdriver.remote.webelement.WebElement (session=\"e19da40cfc17fd50a20b5f2fac2ca729\", element=\"387656a6-70cb-41c6-9957-9ab009649b6d\")>,\n",
       " <selenium.webdriver.remote.webelement.WebElement (session=\"e19da40cfc17fd50a20b5f2fac2ca729\", element=\"32448b5a-fe77-4ed5-8ed2-4706e60d1ada\")>,\n",
       " <selenium.webdriver.remote.webelement.WebElement (session=\"e19da40cfc17fd50a20b5f2fac2ca729\", element=\"1c8fcc82-97a8-4890-bf49-a2771c735556\")>,\n",
       " <selenium.webdriver.remote.webelement.WebElement (session=\"e19da40cfc17fd50a20b5f2fac2ca729\", element=\"b7dc3f65-6390-47cf-b9e0-6f5fab4f9488\")>,\n",
       " <selenium.webdriver.remote.webelement.WebElement (session=\"e19da40cfc17fd50a20b5f2fac2ca729\", element=\"1a5f5878-e18d-42ed-b47b-c3a1ed315079\")>,\n",
       " <selenium.webdriver.remote.webelement.WebElement (session=\"e19da40cfc17fd50a20b5f2fac2ca729\", element=\"6173c947-2421-4d29-8370-3d7298769b78\")>,\n",
       " <selenium.webdriver.remote.webelement.WebElement (session=\"e19da40cfc17fd50a20b5f2fac2ca729\", element=\"65464920-0248-4c09-8de5-698702f6e093\")>,\n",
       " <selenium.webdriver.remote.webelement.WebElement (session=\"e19da40cfc17fd50a20b5f2fac2ca729\", element=\"e296f9ec-8bc5-474a-9579-f504bf48cdb8\")>,\n",
       " <selenium.webdriver.remote.webelement.WebElement (session=\"e19da40cfc17fd50a20b5f2fac2ca729\", element=\"eb62d13b-e798-4697-ac14-a20c4088874f\")>,\n",
       " <selenium.webdriver.remote.webelement.WebElement (session=\"e19da40cfc17fd50a20b5f2fac2ca729\", element=\"960af705-5156-4993-a703-991320e586e8\")>,\n",
       " <selenium.webdriver.remote.webelement.WebElement (session=\"e19da40cfc17fd50a20b5f2fac2ca729\", element=\"919ac14e-3e0b-4348-ae34-dce753ea4f8a\")>,\n",
       " <selenium.webdriver.remote.webelement.WebElement (session=\"e19da40cfc17fd50a20b5f2fac2ca729\", element=\"2ddef11c-9929-4ad8-a617-6c30ef21864c\")>,\n",
       " <selenium.webdriver.remote.webelement.WebElement (session=\"e19da40cfc17fd50a20b5f2fac2ca729\", element=\"bebdae13-126e-4b76-bd29-4f31a2bb0fad\")>,\n",
       " <selenium.webdriver.remote.webelement.WebElement (session=\"e19da40cfc17fd50a20b5f2fac2ca729\", element=\"bb657c49-092c-454b-8b65-bc54c6d2ed50\")>,\n",
       " <selenium.webdriver.remote.webelement.WebElement (session=\"e19da40cfc17fd50a20b5f2fac2ca729\", element=\"6e652249-66a0-41bf-935e-7d78fea63f0e\")>,\n",
       " <selenium.webdriver.remote.webelement.WebElement (session=\"e19da40cfc17fd50a20b5f2fac2ca729\", element=\"a3b70008-04e3-4f44-a14c-1a70402e04f0\")>,\n",
       " <selenium.webdriver.remote.webelement.WebElement (session=\"e19da40cfc17fd50a20b5f2fac2ca729\", element=\"3bf55c00-86eb-413e-b1d2-2304cb55baf1\")>,\n",
       " <selenium.webdriver.remote.webelement.WebElement (session=\"e19da40cfc17fd50a20b5f2fac2ca729\", element=\"1185e1e8-b01d-41cf-8988-177a7d281428\")>,\n",
       " <selenium.webdriver.remote.webelement.WebElement (session=\"e19da40cfc17fd50a20b5f2fac2ca729\", element=\"4dbba811-be75-4151-acf2-36c064f7c5e6\")>,\n",
       " <selenium.webdriver.remote.webelement.WebElement (session=\"e19da40cfc17fd50a20b5f2fac2ca729\", element=\"7192fae7-f76a-4e37-8e12-f4a79caed87b\")>,\n",
       " <selenium.webdriver.remote.webelement.WebElement (session=\"e19da40cfc17fd50a20b5f2fac2ca729\", element=\"d044afe6-bb33-4ba4-8ef8-f7717c0e1311\")>,\n",
       " <selenium.webdriver.remote.webelement.WebElement (session=\"e19da40cfc17fd50a20b5f2fac2ca729\", element=\"32dea091-ac4e-4f5e-86c9-df551552abe7\")>,\n",
       " <selenium.webdriver.remote.webelement.WebElement (session=\"e19da40cfc17fd50a20b5f2fac2ca729\", element=\"5405b042-62a6-4839-a2f9-115c9c4b7e18\")>,\n",
       " <selenium.webdriver.remote.webelement.WebElement (session=\"e19da40cfc17fd50a20b5f2fac2ca729\", element=\"459498a2-9616-4e3b-987e-2454bac29223\")>,\n",
       " <selenium.webdriver.remote.webelement.WebElement (session=\"e19da40cfc17fd50a20b5f2fac2ca729\", element=\"06412279-39c2-4a42-8154-6c6417068a2c\")>,\n",
       " <selenium.webdriver.remote.webelement.WebElement (session=\"e19da40cfc17fd50a20b5f2fac2ca729\", element=\"717cad64-500d-4b0b-98c1-78eb503e5b83\")>,\n",
       " <selenium.webdriver.remote.webelement.WebElement (session=\"e19da40cfc17fd50a20b5f2fac2ca729\", element=\"6c61b988-78b3-450c-a5c3-6c15f61d4674\")>,\n",
       " <selenium.webdriver.remote.webelement.WebElement (session=\"e19da40cfc17fd50a20b5f2fac2ca729\", element=\"f619f5e9-11ef-4bd5-b90c-96756064f083\")>,\n",
       " <selenium.webdriver.remote.webelement.WebElement (session=\"e19da40cfc17fd50a20b5f2fac2ca729\", element=\"5df94f1f-6561-4b43-8a84-0c9b5a6a3dd0\")>,\n",
       " <selenium.webdriver.remote.webelement.WebElement (session=\"e19da40cfc17fd50a20b5f2fac2ca729\", element=\"0b791b43-b9c0-44b0-b48c-d55831150ed3\")>,\n",
       " <selenium.webdriver.remote.webelement.WebElement (session=\"e19da40cfc17fd50a20b5f2fac2ca729\", element=\"9ab55e3f-40a1-4c3b-a319-9509350eb8f6\")>,\n",
       " <selenium.webdriver.remote.webelement.WebElement (session=\"e19da40cfc17fd50a20b5f2fac2ca729\", element=\"2ba14fe6-2003-40e4-925a-704fa5394963\")>,\n",
       " <selenium.webdriver.remote.webelement.WebElement (session=\"e19da40cfc17fd50a20b5f2fac2ca729\", element=\"60d1a9dd-0ec3-42e2-bb49-a944e9666bc8\")>,\n",
       " <selenium.webdriver.remote.webelement.WebElement (session=\"e19da40cfc17fd50a20b5f2fac2ca729\", element=\"a850da67-842a-406a-898d-d5be39dab553\")>,\n",
       " <selenium.webdriver.remote.webelement.WebElement (session=\"e19da40cfc17fd50a20b5f2fac2ca729\", element=\"95dfa655-9aa6-402c-b82f-2c9e6a50ad8f\")>,\n",
       " <selenium.webdriver.remote.webelement.WebElement (session=\"e19da40cfc17fd50a20b5f2fac2ca729\", element=\"39720f47-9813-4600-9573-20a1953c5659\")>,\n",
       " <selenium.webdriver.remote.webelement.WebElement (session=\"e19da40cfc17fd50a20b5f2fac2ca729\", element=\"aa4772a4-4607-4ca8-b9aa-a01bc7b850c5\")>,\n",
       " <selenium.webdriver.remote.webelement.WebElement (session=\"e19da40cfc17fd50a20b5f2fac2ca729\", element=\"88153c62-382f-47fe-b05a-2dbcf54be7c4\")>,\n",
       " <selenium.webdriver.remote.webelement.WebElement (session=\"e19da40cfc17fd50a20b5f2fac2ca729\", element=\"b9074b45-76ad-4d2f-95e9-48f1ddaac14a\")>,\n",
       " <selenium.webdriver.remote.webelement.WebElement (session=\"e19da40cfc17fd50a20b5f2fac2ca729\", element=\"87dda496-83c2-4a57-9b95-201e51b05c0b\")>,\n",
       " <selenium.webdriver.remote.webelement.WebElement (session=\"e19da40cfc17fd50a20b5f2fac2ca729\", element=\"74c89322-2eff-446b-9fca-f1034e02ef2c\")>,\n",
       " <selenium.webdriver.remote.webelement.WebElement (session=\"e19da40cfc17fd50a20b5f2fac2ca729\", element=\"650aee71-a297-4c01-aff7-04d4f17adf02\")>,\n",
       " <selenium.webdriver.remote.webelement.WebElement (session=\"e19da40cfc17fd50a20b5f2fac2ca729\", element=\"32ca8cf7-7551-44e0-90a0-4010083ec01a\")>,\n",
       " <selenium.webdriver.remote.webelement.WebElement (session=\"e19da40cfc17fd50a20b5f2fac2ca729\", element=\"b9504a9b-7a94-4746-8c81-b6f18b6ecf70\")>,\n",
       " <selenium.webdriver.remote.webelement.WebElement (session=\"e19da40cfc17fd50a20b5f2fac2ca729\", element=\"8b978b96-08d3-4a8e-b1e1-f183dc3e63ce\")>,\n",
       " <selenium.webdriver.remote.webelement.WebElement (session=\"e19da40cfc17fd50a20b5f2fac2ca729\", element=\"113cd8cc-f0d9-47ba-862b-e69953588233\")>]"
      ]
     },
     "execution_count": 13,
     "metadata": {},
     "output_type": "execute_result"
    }
   ],
   "source": [
    "header2=browser.find_elements(\"xpath\",\"//div[@class='td-wrap-in']\")\n",
    "header2"
   ]
  },
  {
   "cell_type": "code",
   "execution_count": 14,
   "id": "e50bf843",
   "metadata": {},
   "outputs": [
    {
     "data": {
      "text/plain": [
       "['100', '100', '100', '100', '100', '90', '100', '96.1', '100']"
      ]
     },
     "execution_count": 14,
     "metadata": {},
     "output_type": "execute_result"
    }
   ],
   "source": [
    "#PARSING DATA\n",
    "value_head=[]\n",
    "for data in header2:\n",
    "    #get the text data\n",
    "    temp=data.text\n",
    "    value_head.append(temp)\n",
    "value=value_head[1:10]\n",
    "value"
   ]
  },
  {
   "cell_type": "code",
   "execution_count": 17,
   "id": "8bbae9b2",
   "metadata": {},
   "outputs": [
    {
     "data": {
      "text/plain": [
       "{'Name': 'Massachusetts Institute of Technology (MIT)',\n",
       " 'Location': 'Cambridge, United States',\n",
       " 'Rank': '1',\n",
       " 'Overall Score': '100',\n",
       " 'Academic Reputation': '100',\n",
       " 'Employer Reputation': '100',\n",
       " 'Citations per Faculty': '100',\n",
       " 'Faculty Student Ratio': '100',\n",
       " 'International Students Ratio': '90',\n",
       " 'International Faculty Ratio': '100',\n",
       " 'International Research Network\\nUnweighted': '96.1',\n",
       " 'Employment Outcomes\\nUnweighted': '100'}"
      ]
     },
     "execution_count": 17,
     "metadata": {},
     "output_type": "execute_result"
    }
   ],
   "source": [
    "d={}\n",
    "d['Name']=value_head[0]\n",
    "d['Location']=loc[0]\n",
    "d['Rank']=RANK[0]\n",
    "for i in range(len(column_head)):\n",
    "    d[column_head[i]]=value[i]\n",
    "d"
   ]
  },
  {
   "cell_type": "code",
   "execution_count": 18,
   "id": "bbc91702",
   "metadata": {},
   "outputs": [
    {
     "data": {
      "text/plain": [
       "'{\"Name\": \"Massachusetts Institute of Technology (MIT)\", \"Location\": \"Cambridge, United States\", \"Rank\": \"1\", \"Overall Score\": \"100\", \"Academic Reputation\": \"100\", \"Employer Reputation\": \"100\", \"Citations per Faculty\": \"100\", \"Faculty Student Ratio\": \"100\", \"International Students Ratio\": \"90\", \"International Faculty Ratio\": \"100\", \"International Research Network\\\\nUnweighted\": \"96.1\", \"Employment Outcomes\\\\nUnweighted\": \"100\"}'"
      ]
     },
     "execution_count": 18,
     "metadata": {},
     "output_type": "execute_result"
    }
   ],
   "source": [
    "s1=json.dumps(d)\n",
    "s1"
   ]
  },
  {
   "cell_type": "code",
   "execution_count": 19,
   "id": "62b9506f",
   "metadata": {},
   "outputs": [],
   "source": [
    "with open('Massachusetts Institute of Technology (MIT).json','w') as f:\n",
    "    json.dump(d,f)"
   ]
  },
  {
   "cell_type": "code",
   "execution_count": null,
   "id": "2085e305",
   "metadata": {},
   "outputs": [],
   "source": []
  },
  {
   "cell_type": "code",
   "execution_count": null,
   "id": "7087cfef",
   "metadata": {},
   "outputs": [],
   "source": []
  }
 ],
 "metadata": {
  "kernelspec": {
   "display_name": "Python 3 (ipykernel)",
   "language": "python",
   "name": "python3"
  },
  "language_info": {
   "codemirror_mode": {
    "name": "ipython",
    "version": 3
   },
   "file_extension": ".py",
   "mimetype": "text/x-python",
   "name": "python",
   "nbconvert_exporter": "python",
   "pygments_lexer": "ipython3",
   "version": "3.9.12"
  },
  "vscode": {
   "interpreter": {
    "hash": "f2ccb58c476f33ba3e3aee7ac07234ef6b8217ef24ad64d2a7d4fed1a57c1cd2"
   }
  }
 },
 "nbformat": 4,
 "nbformat_minor": 5
}
