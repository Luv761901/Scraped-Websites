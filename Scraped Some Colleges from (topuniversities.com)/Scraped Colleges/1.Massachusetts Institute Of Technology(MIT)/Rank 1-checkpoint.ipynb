{
 "cells": [
  {
   "cell_type": "markdown",
   "id": "967c224e",
   "metadata": {},
   "source": [
    "## Import Modules"
   ]
  },
  {
   "cell_type": "code",
   "execution_count": 91,
   "id": "96839c23",
   "metadata": {},
   "outputs": [],
   "source": [
    "from selenium import webdriver\n",
    "from selenium.webdriver.chrome.service import Service\n",
    "import pandas as pd\n",
    "import json"
   ]
  },
  {
   "cell_type": "markdown",
   "id": "d56eb584",
   "metadata": {},
   "source": [
    "## Set path fo Chrome Driver"
   ]
  },
  {
   "cell_type": "code",
   "execution_count": 92,
   "id": "dd124d6c",
   "metadata": {},
   "outputs": [],
   "source": [
    "path = Service('C:\\chromedriver.exe')"
   ]
  },
  {
   "cell_type": "code",
   "execution_count": 93,
   "id": "f10e66be",
   "metadata": {},
   "outputs": [],
   "source": [
    "# set path for the driver\n",
    "browser = webdriver.Chrome(service = path)"
   ]
  },
  {
   "cell_type": "code",
   "execution_count": 94,
   "id": "2f5e4c45",
   "metadata": {},
   "outputs": [],
   "source": [
    "url = \"https://www.topuniversities.com/university-rankings/world-university-rankings/2023\""
   ]
  },
  {
   "cell_type": "code",
   "execution_count": 95,
   "id": "9f937bce",
   "metadata": {},
   "outputs": [],
   "source": [
    "# open the page url ion chrome\n",
    "browser.get(url)"
   ]
  },
  {
   "cell_type": "markdown",
   "id": "b737e7e2",
   "metadata": {},
   "source": [
    "## Scrap the data"
   ]
  },
  {
   "cell_type": "code",
   "execution_count": 96,
   "id": "fe99f689",
   "metadata": {},
   "outputs": [
    {
     "data": {
      "text/plain": [
       "[<selenium.webdriver.remote.webelement.WebElement (session=\"6e85444d11e6cbd68064159e0e94096e\", element=\"eb82593e-108c-4f86-9d8a-20b342809f64\")>,\n",
       " <selenium.webdriver.remote.webelement.WebElement (session=\"6e85444d11e6cbd68064159e0e94096e\", element=\"b184a910-741e-48f6-a56e-7c3de35b135c\")>,\n",
       " <selenium.webdriver.remote.webelement.WebElement (session=\"6e85444d11e6cbd68064159e0e94096e\", element=\"2c46246b-5c60-413f-b2d9-d5b80409af7f\")>,\n",
       " <selenium.webdriver.remote.webelement.WebElement (session=\"6e85444d11e6cbd68064159e0e94096e\", element=\"957a09f3-617c-4bd6-ae1a-700e04efacca\")>,\n",
       " <selenium.webdriver.remote.webelement.WebElement (session=\"6e85444d11e6cbd68064159e0e94096e\", element=\"793109ec-9807-4480-aa31-480a587cdc08\")>,\n",
       " <selenium.webdriver.remote.webelement.WebElement (session=\"6e85444d11e6cbd68064159e0e94096e\", element=\"60f8008d-62ae-4e44-8e3c-cb3530604580\")>,\n",
       " <selenium.webdriver.remote.webelement.WebElement (session=\"6e85444d11e6cbd68064159e0e94096e\", element=\"8cca1b7b-0fee-4d52-8cc1-9f4408af1fd3\")>,\n",
       " <selenium.webdriver.remote.webelement.WebElement (session=\"6e85444d11e6cbd68064159e0e94096e\", element=\"bf0b5e45-28ad-4317-8b6a-436be500c4a3\")>,\n",
       " <selenium.webdriver.remote.webelement.WebElement (session=\"6e85444d11e6cbd68064159e0e94096e\", element=\"e3c2f88a-0e4b-4818-a984-5778481e315a\")>]"
      ]
     },
     "execution_count": 96,
     "metadata": {},
     "output_type": "execute_result"
    }
   ],
   "source": [
    "# GET EACH COLLEGE SPECIFICATION HEADERS\n",
    "header=browser.find_elements(\"xpath\",\"//div[@class='_click-function_ind']\")\n",
    "header"
   ]
  },
  {
   "cell_type": "code",
   "execution_count": 97,
   "id": "c7d6536d",
   "metadata": {},
   "outputs": [
    {
     "data": {
      "text/plain": [
       "['Overall Score',\n",
       " 'Academic Reputation',\n",
       " 'Employer Reputation',\n",
       " 'Citations per Faculty',\n",
       " 'Faculty Student Ratio',\n",
       " 'International Students Ratio',\n",
       " 'International Faculty Ratio',\n",
       " 'International Research Network\\nUnweighted',\n",
       " 'Employment Outcomes\\nUnweighted']"
      ]
     },
     "execution_count": 97,
     "metadata": {},
     "output_type": "execute_result"
    }
   ],
   "source": [
    "#PARSING DATA\n",
    "column_head=[]\n",
    "for data in header:\n",
    "    #get the text data\n",
    "    temp=data.text\n",
    "    column_head.append(temp)\n",
    "column_head"
   ]
  },
  {
   "cell_type": "code",
   "execution_count": 98,
   "id": "3bbd37b3",
   "metadata": {},
   "outputs": [
    {
     "data": {
      "text/plain": [
       "[<selenium.webdriver.remote.webelement.WebElement (session=\"6e85444d11e6cbd68064159e0e94096e\", element=\"55e6f20b-e1a2-4846-81ec-948ebfa6114a\")>,\n",
       " <selenium.webdriver.remote.webelement.WebElement (session=\"6e85444d11e6cbd68064159e0e94096e\", element=\"6a7841e9-4a7f-4e5a-b27d-30321382d262\")>,\n",
       " <selenium.webdriver.remote.webelement.WebElement (session=\"6e85444d11e6cbd68064159e0e94096e\", element=\"bc5140e5-48ae-45f9-93b6-85fdf8b5d9a4\")>,\n",
       " <selenium.webdriver.remote.webelement.WebElement (session=\"6e85444d11e6cbd68064159e0e94096e\", element=\"16bff76d-1590-4400-b91f-8904cddf8492\")>,\n",
       " <selenium.webdriver.remote.webelement.WebElement (session=\"6e85444d11e6cbd68064159e0e94096e\", element=\"bf5abe3a-ea81-4680-b9bb-1d4f8fa408a8\")>,\n",
       " <selenium.webdriver.remote.webelement.WebElement (session=\"6e85444d11e6cbd68064159e0e94096e\", element=\"7c05012f-ab4d-43d5-a1ea-6c4160f1c8d2\")>,\n",
       " <selenium.webdriver.remote.webelement.WebElement (session=\"6e85444d11e6cbd68064159e0e94096e\", element=\"8df9c7e0-988a-452c-8fc0-80f2d8964bda\")>,\n",
       " <selenium.webdriver.remote.webelement.WebElement (session=\"6e85444d11e6cbd68064159e0e94096e\", element=\"abc3e89d-c0c3-4385-8ba0-dc7390604f01\")>,\n",
       " <selenium.webdriver.remote.webelement.WebElement (session=\"6e85444d11e6cbd68064159e0e94096e\", element=\"418df364-11f6-4a47-a323-5439b0a623bb\")>,\n",
       " <selenium.webdriver.remote.webelement.WebElement (session=\"6e85444d11e6cbd68064159e0e94096e\", element=\"021277c2-24f1-4748-b9d2-90ffcafa7c25\")>,\n",
       " <selenium.webdriver.remote.webelement.WebElement (session=\"6e85444d11e6cbd68064159e0e94096e\", element=\"d0e76183-03d5-42b8-998d-cc87d53eeb5c\")>,\n",
       " <selenium.webdriver.remote.webelement.WebElement (session=\"6e85444d11e6cbd68064159e0e94096e\", element=\"d5a4e49f-b890-4d72-b9ed-0f305cd9cfe8\")>,\n",
       " <selenium.webdriver.remote.webelement.WebElement (session=\"6e85444d11e6cbd68064159e0e94096e\", element=\"e5417ebd-844e-4f37-8225-eb82177c1161\")>,\n",
       " <selenium.webdriver.remote.webelement.WebElement (session=\"6e85444d11e6cbd68064159e0e94096e\", element=\"3dc78c3d-6242-4005-9685-f41c4a3fd509\")>,\n",
       " <selenium.webdriver.remote.webelement.WebElement (session=\"6e85444d11e6cbd68064159e0e94096e\", element=\"b127ba74-4ae1-4ed9-8661-12bfe7d05fe7\")>,\n",
       " <selenium.webdriver.remote.webelement.WebElement (session=\"6e85444d11e6cbd68064159e0e94096e\", element=\"f2131d16-420c-4917-a75d-2192352199c8\")>,\n",
       " <selenium.webdriver.remote.webelement.WebElement (session=\"6e85444d11e6cbd68064159e0e94096e\", element=\"e73f1079-a39e-4175-b5a5-df6f6d12903d\")>,\n",
       " <selenium.webdriver.remote.webelement.WebElement (session=\"6e85444d11e6cbd68064159e0e94096e\", element=\"ccd60d71-1a38-42e7-be07-c16345af9691\")>,\n",
       " <selenium.webdriver.remote.webelement.WebElement (session=\"6e85444d11e6cbd68064159e0e94096e\", element=\"2c40f3a4-ea72-4656-8cc8-fd32bd7db1b4\")>,\n",
       " <selenium.webdriver.remote.webelement.WebElement (session=\"6e85444d11e6cbd68064159e0e94096e\", element=\"86c71b92-7ae0-430b-9485-a5d2d27e014f\")>,\n",
       " <selenium.webdriver.remote.webelement.WebElement (session=\"6e85444d11e6cbd68064159e0e94096e\", element=\"a6ee6bb4-6a4f-4a2c-9839-3c849a0c9f08\")>,\n",
       " <selenium.webdriver.remote.webelement.WebElement (session=\"6e85444d11e6cbd68064159e0e94096e\", element=\"dec90907-823f-4d39-b173-72718170fe68\")>,\n",
       " <selenium.webdriver.remote.webelement.WebElement (session=\"6e85444d11e6cbd68064159e0e94096e\", element=\"307cb61d-98af-4bee-bab7-86cc8904e54e\")>,\n",
       " <selenium.webdriver.remote.webelement.WebElement (session=\"6e85444d11e6cbd68064159e0e94096e\", element=\"c10885ad-2f00-4cdc-9561-15dade44b786\")>,\n",
       " <selenium.webdriver.remote.webelement.WebElement (session=\"6e85444d11e6cbd68064159e0e94096e\", element=\"1b8f3c66-0f2e-457d-819b-631dfbe36022\")>,\n",
       " <selenium.webdriver.remote.webelement.WebElement (session=\"6e85444d11e6cbd68064159e0e94096e\", element=\"5241fa64-bcb5-40d1-a006-1853218eb35b\")>,\n",
       " <selenium.webdriver.remote.webelement.WebElement (session=\"6e85444d11e6cbd68064159e0e94096e\", element=\"9477a359-4edc-4b0a-b8f9-eaa7db67ecd8\")>,\n",
       " <selenium.webdriver.remote.webelement.WebElement (session=\"6e85444d11e6cbd68064159e0e94096e\", element=\"73cbc28a-cdbf-425b-a322-bf6c82574d8e\")>,\n",
       " <selenium.webdriver.remote.webelement.WebElement (session=\"6e85444d11e6cbd68064159e0e94096e\", element=\"26d96aaf-1400-4410-9d7f-a6c397821101\")>,\n",
       " <selenium.webdriver.remote.webelement.WebElement (session=\"6e85444d11e6cbd68064159e0e94096e\", element=\"5c171d3b-c051-4caa-abd0-7e98cb953511\")>,\n",
       " <selenium.webdriver.remote.webelement.WebElement (session=\"6e85444d11e6cbd68064159e0e94096e\", element=\"4df9cbca-1536-4915-ac41-1c9ff1b8594b\")>,\n",
       " <selenium.webdriver.remote.webelement.WebElement (session=\"6e85444d11e6cbd68064159e0e94096e\", element=\"f78a2f7f-79ce-4636-b129-48473ffa7c27\")>,\n",
       " <selenium.webdriver.remote.webelement.WebElement (session=\"6e85444d11e6cbd68064159e0e94096e\", element=\"c5d0b003-4473-4ec6-9651-93a1ea98283b\")>,\n",
       " <selenium.webdriver.remote.webelement.WebElement (session=\"6e85444d11e6cbd68064159e0e94096e\", element=\"eab2ba50-6980-44bd-ae8b-5f667ed5f6bd\")>,\n",
       " <selenium.webdriver.remote.webelement.WebElement (session=\"6e85444d11e6cbd68064159e0e94096e\", element=\"baca9c4c-bd8d-4885-9547-c4757170106f\")>,\n",
       " <selenium.webdriver.remote.webelement.WebElement (session=\"6e85444d11e6cbd68064159e0e94096e\", element=\"4189a2a5-14d2-4748-b5d2-f2e3fb8fed0f\")>,\n",
       " <selenium.webdriver.remote.webelement.WebElement (session=\"6e85444d11e6cbd68064159e0e94096e\", element=\"c2f868cc-d887-4fc1-968d-81c7cc7bc1aa\")>,\n",
       " <selenium.webdriver.remote.webelement.WebElement (session=\"6e85444d11e6cbd68064159e0e94096e\", element=\"47fdaf2c-722d-4331-862f-3d301a3649ae\")>,\n",
       " <selenium.webdriver.remote.webelement.WebElement (session=\"6e85444d11e6cbd68064159e0e94096e\", element=\"d24b82c2-2327-4df1-a6a9-3ddff1af3b1c\")>,\n",
       " <selenium.webdriver.remote.webelement.WebElement (session=\"6e85444d11e6cbd68064159e0e94096e\", element=\"a9257179-1c09-4675-9628-49d5256f5dfd\")>,\n",
       " <selenium.webdriver.remote.webelement.WebElement (session=\"6e85444d11e6cbd68064159e0e94096e\", element=\"e58c6a80-802f-4e99-94f2-38c8a999fa1c\")>,\n",
       " <selenium.webdriver.remote.webelement.WebElement (session=\"6e85444d11e6cbd68064159e0e94096e\", element=\"8a178d29-4812-4e6c-b325-f5b9009e78f2\")>,\n",
       " <selenium.webdriver.remote.webelement.WebElement (session=\"6e85444d11e6cbd68064159e0e94096e\", element=\"0cd290ef-bf10-4865-a1a6-b7d148ddc5cb\")>,\n",
       " <selenium.webdriver.remote.webelement.WebElement (session=\"6e85444d11e6cbd68064159e0e94096e\", element=\"27953c55-d195-4112-9f12-917fb5f13920\")>,\n",
       " <selenium.webdriver.remote.webelement.WebElement (session=\"6e85444d11e6cbd68064159e0e94096e\", element=\"fd92582e-1c8c-4109-bc52-9bd38f238030\")>,\n",
       " <selenium.webdriver.remote.webelement.WebElement (session=\"6e85444d11e6cbd68064159e0e94096e\", element=\"ad7325b4-709e-4229-8a23-099487bcc29b\")>,\n",
       " <selenium.webdriver.remote.webelement.WebElement (session=\"6e85444d11e6cbd68064159e0e94096e\", element=\"e3b645a8-60e5-472e-98e3-9184a9a6342e\")>,\n",
       " <selenium.webdriver.remote.webelement.WebElement (session=\"6e85444d11e6cbd68064159e0e94096e\", element=\"7e15ae7d-be1a-46eb-8eb8-1da2ddf81fc7\")>,\n",
       " <selenium.webdriver.remote.webelement.WebElement (session=\"6e85444d11e6cbd68064159e0e94096e\", element=\"f4e24f5d-87dc-4c44-90fa-f0f90c429cbe\")>,\n",
       " <selenium.webdriver.remote.webelement.WebElement (session=\"6e85444d11e6cbd68064159e0e94096e\", element=\"48510130-2697-4b1a-9a28-fe74af9fec87\")>,\n",
       " <selenium.webdriver.remote.webelement.WebElement (session=\"6e85444d11e6cbd68064159e0e94096e\", element=\"2a633dd0-9828-4360-95af-faf5d4f7ee75\")>,\n",
       " <selenium.webdriver.remote.webelement.WebElement (session=\"6e85444d11e6cbd68064159e0e94096e\", element=\"864160f5-0ad5-4403-afb7-894e6510834a\")>,\n",
       " <selenium.webdriver.remote.webelement.WebElement (session=\"6e85444d11e6cbd68064159e0e94096e\", element=\"7f9e9697-baf5-4a23-883d-295ca9a5b0a8\")>,\n",
       " <selenium.webdriver.remote.webelement.WebElement (session=\"6e85444d11e6cbd68064159e0e94096e\", element=\"f8e22d61-7283-4cf7-a950-92f526e63cf1\")>,\n",
       " <selenium.webdriver.remote.webelement.WebElement (session=\"6e85444d11e6cbd68064159e0e94096e\", element=\"48b9f138-c437-4992-afe5-db718d67e607\")>,\n",
       " <selenium.webdriver.remote.webelement.WebElement (session=\"6e85444d11e6cbd68064159e0e94096e\", element=\"ffda96ca-5ca7-43e3-a8af-bcccb98878bb\")>,\n",
       " <selenium.webdriver.remote.webelement.WebElement (session=\"6e85444d11e6cbd68064159e0e94096e\", element=\"92ed2490-7921-4730-9dd7-de7b0c98b2ef\")>,\n",
       " <selenium.webdriver.remote.webelement.WebElement (session=\"6e85444d11e6cbd68064159e0e94096e\", element=\"92884da4-1468-425b-a206-f09b6cc14e8d\")>,\n",
       " <selenium.webdriver.remote.webelement.WebElement (session=\"6e85444d11e6cbd68064159e0e94096e\", element=\"ee1301f7-fd3d-4d01-a4c9-f6e6f428dc64\")>,\n",
       " <selenium.webdriver.remote.webelement.WebElement (session=\"6e85444d11e6cbd68064159e0e94096e\", element=\"3e47b3da-e0dc-4f88-96d2-379094ddcb25\")>,\n",
       " <selenium.webdriver.remote.webelement.WebElement (session=\"6e85444d11e6cbd68064159e0e94096e\", element=\"1f05a173-8130-48a5-b235-7e19158d5d73\")>,\n",
       " <selenium.webdriver.remote.webelement.WebElement (session=\"6e85444d11e6cbd68064159e0e94096e\", element=\"ed4f6de6-f5f8-4d20-a3e2-9a588bb37479\")>,\n",
       " <selenium.webdriver.remote.webelement.WebElement (session=\"6e85444d11e6cbd68064159e0e94096e\", element=\"9cff80c3-c8da-47eb-b3ad-7a9a68b6540c\")>,\n",
       " <selenium.webdriver.remote.webelement.WebElement (session=\"6e85444d11e6cbd68064159e0e94096e\", element=\"3cecca62-1b7e-4b51-9091-96bdc67e5266\")>,\n",
       " <selenium.webdriver.remote.webelement.WebElement (session=\"6e85444d11e6cbd68064159e0e94096e\", element=\"e80957e2-d609-4176-8e76-59f667166db1\")>,\n",
       " <selenium.webdriver.remote.webelement.WebElement (session=\"6e85444d11e6cbd68064159e0e94096e\", element=\"5fcfb546-8929-4d42-a37e-dc221aae6b96\")>,\n",
       " <selenium.webdriver.remote.webelement.WebElement (session=\"6e85444d11e6cbd68064159e0e94096e\", element=\"eb8168cd-a9e7-4659-b681-3c879b7c2b04\")>,\n",
       " <selenium.webdriver.remote.webelement.WebElement (session=\"6e85444d11e6cbd68064159e0e94096e\", element=\"1e574bf8-e0f1-4af5-aac4-c3e40a28277d\")>,\n",
       " <selenium.webdriver.remote.webelement.WebElement (session=\"6e85444d11e6cbd68064159e0e94096e\", element=\"f928ab43-87f1-41ce-b080-abf11e8b2acf\")>,\n",
       " <selenium.webdriver.remote.webelement.WebElement (session=\"6e85444d11e6cbd68064159e0e94096e\", element=\"685c07b9-9191-4737-90d9-a60bd1a3e087\")>,\n",
       " <selenium.webdriver.remote.webelement.WebElement (session=\"6e85444d11e6cbd68064159e0e94096e\", element=\"1ba37b0b-ee9f-4231-9913-bb9cac718d6e\")>,\n",
       " <selenium.webdriver.remote.webelement.WebElement (session=\"6e85444d11e6cbd68064159e0e94096e\", element=\"345759fc-6052-485d-90a4-bc420f608991\")>,\n",
       " <selenium.webdriver.remote.webelement.WebElement (session=\"6e85444d11e6cbd68064159e0e94096e\", element=\"c3502780-b288-45a8-8746-decceafd7965\")>,\n",
       " <selenium.webdriver.remote.webelement.WebElement (session=\"6e85444d11e6cbd68064159e0e94096e\", element=\"21569c71-3cbe-48b1-ada8-9d6cfd38ae4b\")>,\n",
       " <selenium.webdriver.remote.webelement.WebElement (session=\"6e85444d11e6cbd68064159e0e94096e\", element=\"319b8162-19ef-4072-a191-b109bc8f084e\")>,\n",
       " <selenium.webdriver.remote.webelement.WebElement (session=\"6e85444d11e6cbd68064159e0e94096e\", element=\"29075a34-4b8b-4548-850d-a8f44b9889f3\")>,\n",
       " <selenium.webdriver.remote.webelement.WebElement (session=\"6e85444d11e6cbd68064159e0e94096e\", element=\"e0d881dd-8f84-402c-9e12-e23db949e671\")>,\n",
       " <selenium.webdriver.remote.webelement.WebElement (session=\"6e85444d11e6cbd68064159e0e94096e\", element=\"d46d336f-0d5f-464f-908b-0e3e1de81f65\")>,\n",
       " <selenium.webdriver.remote.webelement.WebElement (session=\"6e85444d11e6cbd68064159e0e94096e\", element=\"d4a14778-cb01-44f1-992c-375dac260e70\")>,\n",
       " <selenium.webdriver.remote.webelement.WebElement (session=\"6e85444d11e6cbd68064159e0e94096e\", element=\"48b8ffcc-b7e6-4068-8657-7ddc44f3499b\")>,\n",
       " <selenium.webdriver.remote.webelement.WebElement (session=\"6e85444d11e6cbd68064159e0e94096e\", element=\"a4d05d38-3884-4904-92a4-bc202b0fcaf4\")>,\n",
       " <selenium.webdriver.remote.webelement.WebElement (session=\"6e85444d11e6cbd68064159e0e94096e\", element=\"24fa33da-a6fb-4f1f-9b20-2039fa30516d\")>,\n",
       " <selenium.webdriver.remote.webelement.WebElement (session=\"6e85444d11e6cbd68064159e0e94096e\", element=\"bdf0e981-662c-4e32-a750-c1bcba1444fb\")>,\n",
       " <selenium.webdriver.remote.webelement.WebElement (session=\"6e85444d11e6cbd68064159e0e94096e\", element=\"170fd2a8-8226-4300-8ee9-7d82503e8dda\")>,\n",
       " <selenium.webdriver.remote.webelement.WebElement (session=\"6e85444d11e6cbd68064159e0e94096e\", element=\"e3ce3a92-cafa-4ed8-92f3-c1581a812619\")>,\n",
       " <selenium.webdriver.remote.webelement.WebElement (session=\"6e85444d11e6cbd68064159e0e94096e\", element=\"829f3f8a-444e-4266-b4a5-524d269f1ce6\")>,\n",
       " <selenium.webdriver.remote.webelement.WebElement (session=\"6e85444d11e6cbd68064159e0e94096e\", element=\"6da3603d-31f1-46eb-84b7-547e5fc099a0\")>,\n",
       " <selenium.webdriver.remote.webelement.WebElement (session=\"6e85444d11e6cbd68064159e0e94096e\", element=\"b251470f-e894-47f7-9255-7eb176ed5204\")>,\n",
       " <selenium.webdriver.remote.webelement.WebElement (session=\"6e85444d11e6cbd68064159e0e94096e\", element=\"174054d0-80b6-450b-a77d-ea3a5e88945c\")>,\n",
       " <selenium.webdriver.remote.webelement.WebElement (session=\"6e85444d11e6cbd68064159e0e94096e\", element=\"a5f7affa-8122-47f3-9139-d14c1214734f\")>,\n",
       " <selenium.webdriver.remote.webelement.WebElement (session=\"6e85444d11e6cbd68064159e0e94096e\", element=\"523e6bf8-d4ef-47b9-9b05-ce9c89f79832\")>,\n",
       " <selenium.webdriver.remote.webelement.WebElement (session=\"6e85444d11e6cbd68064159e0e94096e\", element=\"9b624b49-4d82-4959-8240-685ce452f95a\")>,\n",
       " <selenium.webdriver.remote.webelement.WebElement (session=\"6e85444d11e6cbd68064159e0e94096e\", element=\"8a8a28e9-2508-4206-927f-de5cc46c00aa\")>,\n",
       " <selenium.webdriver.remote.webelement.WebElement (session=\"6e85444d11e6cbd68064159e0e94096e\", element=\"771cd07d-fadb-418a-96a4-ca5c874bdd7f\")>,\n",
       " <selenium.webdriver.remote.webelement.WebElement (session=\"6e85444d11e6cbd68064159e0e94096e\", element=\"7680b253-4fb2-42a9-b193-bd8ac540888e\")>,\n",
       " <selenium.webdriver.remote.webelement.WebElement (session=\"6e85444d11e6cbd68064159e0e94096e\", element=\"5d1197cd-ebee-45fb-997b-24e77034ca6c\")>,\n",
       " <selenium.webdriver.remote.webelement.WebElement (session=\"6e85444d11e6cbd68064159e0e94096e\", element=\"bf1d2143-04c2-47fb-aaa2-24dd7d2f28f3\")>,\n",
       " <selenium.webdriver.remote.webelement.WebElement (session=\"6e85444d11e6cbd68064159e0e94096e\", element=\"ddf37a18-a3ec-4295-a434-ae1db47114d2\")>,\n",
       " <selenium.webdriver.remote.webelement.WebElement (session=\"6e85444d11e6cbd68064159e0e94096e\", element=\"dde3eae8-abeb-4039-a2d8-85580857393a\")>,\n",
       " <selenium.webdriver.remote.webelement.WebElement (session=\"6e85444d11e6cbd68064159e0e94096e\", element=\"7171509d-d48d-4d0b-9679-d267c72116bd\")>]"
      ]
     },
     "execution_count": 98,
     "metadata": {},
     "output_type": "execute_result"
    }
   ],
   "source": [
    "header2=browser.find_elements(\"xpath\",\"//div[@class='td-wrap-in']\")\n",
    "header2"
   ]
  },
  {
   "cell_type": "code",
   "execution_count": 99,
   "id": "e50bf843",
   "metadata": {},
   "outputs": [
    {
     "data": {
      "text/plain": [
       "['100', '100', '100', '100', '100', '90', '100', '96.1', '100']"
      ]
     },
     "execution_count": 99,
     "metadata": {},
     "output_type": "execute_result"
    }
   ],
   "source": [
    "#PARSING DATA\n",
    "value_head=[]\n",
    "for data in header2:\n",
    "    #get the text data\n",
    "    temp=data.text\n",
    "    value_head.append(temp)\n",
    "value_head=value_head[1:10]\n",
    "value_head"
   ]
  },
  {
   "cell_type": "code",
   "execution_count": 100,
   "id": "8bbae9b2",
   "metadata": {},
   "outputs": [
    {
     "data": {
      "text/plain": [
       "{'Overall Score': '100',\n",
       " 'Academic Reputation': '100',\n",
       " 'Employer Reputation': '100',\n",
       " 'Citations per Faculty': '100',\n",
       " 'Faculty Student Ratio': '100',\n",
       " 'International Students Ratio': '90',\n",
       " 'International Faculty Ratio': '100',\n",
       " 'International Research Network\\nUnweighted': '96.1',\n",
       " 'Employment Outcomes\\nUnweighted': '100'}"
      ]
     },
     "execution_count": 100,
     "metadata": {},
     "output_type": "execute_result"
    }
   ],
   "source": [
    "d={}\n",
    "for i in range(len(column_head)):\n",
    "    d[column_head[i]]=value_head[i]\n",
    "d"
   ]
  },
  {
   "cell_type": "code",
   "execution_count": 101,
   "id": "bbc91702",
   "metadata": {},
   "outputs": [
    {
     "data": {
      "text/plain": [
       "'{\"Overall Score\": \"100\", \"Academic Reputation\": \"100\", \"Employer Reputation\": \"100\", \"Citations per Faculty\": \"100\", \"Faculty Student Ratio\": \"100\", \"International Students Ratio\": \"90\", \"International Faculty Ratio\": \"100\", \"International Research Network\\\\nUnweighted\": \"96.1\", \"Employment Outcomes\\\\nUnweighted\": \"100\"}'"
      ]
     },
     "execution_count": 101,
     "metadata": {},
     "output_type": "execute_result"
    }
   ],
   "source": [
    "s1=json.dumps(d)\n",
    "s1"
   ]
  },
  {
   "cell_type": "code",
   "execution_count": 102,
   "id": "62b9506f",
   "metadata": {},
   "outputs": [],
   "source": [
    "with open('Massachusetts Institute of Technology (MIT).json','w') as f:\n",
    "    json.dump(d,f)"
   ]
  },
  {
   "cell_type": "code",
   "execution_count": null,
   "id": "2085e305",
   "metadata": {},
   "outputs": [],
   "source": []
  }
 ],
 "metadata": {
  "kernelspec": {
   "display_name": "Python 3 (ipykernel)",
   "language": "python",
   "name": "python3"
  },
  "language_info": {
   "codemirror_mode": {
    "name": "ipython",
    "version": 3
   },
   "file_extension": ".py",
   "mimetype": "text/x-python",
   "name": "python",
   "nbconvert_exporter": "python",
   "pygments_lexer": "ipython3",
   "version": "3.9.12"
  }
 },
 "nbformat": 4,
 "nbformat_minor": 5
}
