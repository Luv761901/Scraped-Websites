{
 "cells": [
  {
   "cell_type": "code",
   "execution_count": 1,
   "id": "5b1028e0",
   "metadata": {},
   "outputs": [],
   "source": [
    "from selenium import webdriver\n",
    "from selenium.webdriver.chrome.service import Service\n",
    "import pandas as pd\n",
    "import json"
   ]
  },
  {
   "cell_type": "code",
   "execution_count": 2,
   "id": "4b2f519c",
   "metadata": {},
   "outputs": [],
   "source": [
    "path = Service('C:\\chromedriver.exe')"
   ]
  },
  {
   "cell_type": "code",
   "execution_count": 3,
   "id": "664d104f",
   "metadata": {},
   "outputs": [],
   "source": [
    "# set path for the driver\n",
    "browser = webdriver.Chrome(service = path)"
   ]
  },
  {
   "cell_type": "code",
   "execution_count": 4,
   "id": "62c5c7d1",
   "metadata": {},
   "outputs": [],
   "source": [
    "url = \"https://www.topuniversities.com/university-rankings/world-university-rankings/2023\""
   ]
  },
  {
   "cell_type": "code",
   "execution_count": 5,
   "id": "7a73a4d7",
   "metadata": {},
   "outputs": [],
   "source": [
    "# open the page url ion chrome\n",
    "browser.get(url)"
   ]
  },
  {
   "cell_type": "code",
   "execution_count": 6,
   "id": "861e99ba",
   "metadata": {},
   "outputs": [
    {
     "data": {
      "text/plain": [
       "[<selenium.webdriver.remote.webelement.WebElement (session=\"ee5d180bff423f31a4e6c985fd8657ee\", element=\"fe081709-7535-4967-be0e-4a9c5684fc7f\")>,\n",
       " <selenium.webdriver.remote.webelement.WebElement (session=\"ee5d180bff423f31a4e6c985fd8657ee\", element=\"5c5293ef-a63e-49c1-b396-442507e0806e\")>,\n",
       " <selenium.webdriver.remote.webelement.WebElement (session=\"ee5d180bff423f31a4e6c985fd8657ee\", element=\"7bdf45df-6116-4b09-a960-c3aa34c1cbe7\")>,\n",
       " <selenium.webdriver.remote.webelement.WebElement (session=\"ee5d180bff423f31a4e6c985fd8657ee\", element=\"968d24bf-7dd8-4064-a5b1-956e14a3b82e\")>,\n",
       " <selenium.webdriver.remote.webelement.WebElement (session=\"ee5d180bff423f31a4e6c985fd8657ee\", element=\"9077dcc0-fd9f-4ac1-b186-c8b143ae31f1\")>,\n",
       " <selenium.webdriver.remote.webelement.WebElement (session=\"ee5d180bff423f31a4e6c985fd8657ee\", element=\"2682079a-a14f-40f3-93b1-468d54a24625\")>,\n",
       " <selenium.webdriver.remote.webelement.WebElement (session=\"ee5d180bff423f31a4e6c985fd8657ee\", element=\"993f1679-c42e-4d9c-a656-28c9fdeeeb92\")>,\n",
       " <selenium.webdriver.remote.webelement.WebElement (session=\"ee5d180bff423f31a4e6c985fd8657ee\", element=\"5a402f56-04d3-40f0-b62f-7742d87258b4\")>,\n",
       " <selenium.webdriver.remote.webelement.WebElement (session=\"ee5d180bff423f31a4e6c985fd8657ee\", element=\"7b3aab42-6e2c-4198-8028-cdaadb23556d\")>,\n",
       " <selenium.webdriver.remote.webelement.WebElement (session=\"ee5d180bff423f31a4e6c985fd8657ee\", element=\"e199564d-f9a8-4bb9-aa46-88d9e6b5abac\")>,\n",
       " <selenium.webdriver.remote.webelement.WebElement (session=\"ee5d180bff423f31a4e6c985fd8657ee\", element=\"104d4fb1-d49f-40bf-8b5d-2739755dc109\")>,\n",
       " <selenium.webdriver.remote.webelement.WebElement (session=\"ee5d180bff423f31a4e6c985fd8657ee\", element=\"731be6e0-623a-43a5-900e-5da901a484b2\")>,\n",
       " <selenium.webdriver.remote.webelement.WebElement (session=\"ee5d180bff423f31a4e6c985fd8657ee\", element=\"1c568c6c-36bc-475f-b344-b7c19efcb0b8\")>,\n",
       " <selenium.webdriver.remote.webelement.WebElement (session=\"ee5d180bff423f31a4e6c985fd8657ee\", element=\"0313f489-8d3c-4a97-8be4-ab1a0ccdca1c\")>,\n",
       " <selenium.webdriver.remote.webelement.WebElement (session=\"ee5d180bff423f31a4e6c985fd8657ee\", element=\"cac40633-3055-4b35-9b62-f073690192b0\")>,\n",
       " <selenium.webdriver.remote.webelement.WebElement (session=\"ee5d180bff423f31a4e6c985fd8657ee\", element=\"5f0533e5-c92f-48e2-b14d-93ecc2402a18\")>,\n",
       " <selenium.webdriver.remote.webelement.WebElement (session=\"ee5d180bff423f31a4e6c985fd8657ee\", element=\"7ca0b6c0-2fe5-4a05-9ca5-0cb66b904a40\")>,\n",
       " <selenium.webdriver.remote.webelement.WebElement (session=\"ee5d180bff423f31a4e6c985fd8657ee\", element=\"1a63b523-6782-4159-98db-093519036c2a\")>,\n",
       " <selenium.webdriver.remote.webelement.WebElement (session=\"ee5d180bff423f31a4e6c985fd8657ee\", element=\"241d05a6-d126-4d10-9aa2-43d9e4dc442f\")>,\n",
       " <selenium.webdriver.remote.webelement.WebElement (session=\"ee5d180bff423f31a4e6c985fd8657ee\", element=\"ba592375-c236-4391-8cf2-6daca22976eb\")>]"
      ]
     },
     "execution_count": 6,
     "metadata": {},
     "output_type": "execute_result"
    }
   ],
   "source": [
    "\n",
    "l1=browser.find_elements(\"xpath\",\"//div[@class='location ']\")\n",
    "l1\n"
   ]
  },
  {
   "cell_type": "code",
   "execution_count": 7,
   "id": "10ee176b",
   "metadata": {},
   "outputs": [
    {
     "data": {
      "text/plain": [
       "[' Hong Kong SAR',\n",
       " 'New York City, United States',\n",
       " 'Tokyo, Japan',\n",
       " 'Baltimore, United States',\n",
       " 'Ann Arbor, United States',\n",
       " 'Paris, France',\n",
       " 'Berkeley, United States',\n",
       " 'Manchester, United Kingdom',\n",
       " 'Seoul, South Korea',\n",
       " 'Canberra, Australia']"
      ]
     },
     "execution_count": 7,
     "metadata": {},
     "output_type": "execute_result"
    }
   ],
   "source": [
    "loc=[]\n",
    "for data in l1:\n",
    "    #get the text data\n",
    "    temp=data.text\n",
    "    loc.append(temp)\n",
    "loc=loc[10:]\n",
    "loc"
   ]
  },
  {
   "cell_type": "code",
   "execution_count": 8,
   "id": "d6246533",
   "metadata": {},
   "outputs": [
    {
     "data": {
      "text/plain": [
       "[<selenium.webdriver.remote.webelement.WebElement (session=\"ee5d180bff423f31a4e6c985fd8657ee\", element=\"7d21cd3f-6374-44c9-852e-fbb87f2f76f7\")>,\n",
       " <selenium.webdriver.remote.webelement.WebElement (session=\"ee5d180bff423f31a4e6c985fd8657ee\", element=\"7830dfe7-d7e7-4de6-8ab0-fc176ef184cf\")>,\n",
       " <selenium.webdriver.remote.webelement.WebElement (session=\"ee5d180bff423f31a4e6c985fd8657ee\", element=\"e23bf327-61a8-4426-b68b-0d3d973175fd\")>,\n",
       " <selenium.webdriver.remote.webelement.WebElement (session=\"ee5d180bff423f31a4e6c985fd8657ee\", element=\"126effe3-1135-423c-ae39-1d0af39e29a5\")>,\n",
       " <selenium.webdriver.remote.webelement.WebElement (session=\"ee5d180bff423f31a4e6c985fd8657ee\", element=\"062d76d6-5ac0-4701-999e-fd527bfa179c\")>,\n",
       " <selenium.webdriver.remote.webelement.WebElement (session=\"ee5d180bff423f31a4e6c985fd8657ee\", element=\"26b2b7ec-a2d7-4d84-be49-b4934c7c7aec\")>,\n",
       " <selenium.webdriver.remote.webelement.WebElement (session=\"ee5d180bff423f31a4e6c985fd8657ee\", element=\"e6b38888-67f0-45d8-bc70-94347aceb3f0\")>,\n",
       " <selenium.webdriver.remote.webelement.WebElement (session=\"ee5d180bff423f31a4e6c985fd8657ee\", element=\"dc9e76b9-1862-43e6-b54c-3fa89a64d916\")>,\n",
       " <selenium.webdriver.remote.webelement.WebElement (session=\"ee5d180bff423f31a4e6c985fd8657ee\", element=\"6cbcc0c7-342f-4e0e-8d5a-70c34fb556f4\")>,\n",
       " <selenium.webdriver.remote.webelement.WebElement (session=\"ee5d180bff423f31a4e6c985fd8657ee\", element=\"55dffdcf-375f-4400-8dc7-259e997036d6\")>]"
      ]
     },
     "execution_count": 8,
     "metadata": {},
     "output_type": "execute_result"
    }
   ],
   "source": [
    "l2=browser.find_elements(\"xpath\",\"//div[@class='_univ-rank ']\")\n",
    "l2"
   ]
  },
  {
   "cell_type": "code",
   "execution_count": 9,
   "id": "bfb2586d",
   "metadata": {},
   "outputs": [
    {
     "data": {
      "text/plain": [
       "['21', '22', '23', '24', '25', '26', '27', '28', '29', '30']"
      ]
     },
     "execution_count": 9,
     "metadata": {},
     "output_type": "execute_result"
    }
   ],
   "source": [
    "RANK=[]\n",
    "for data in l2:\n",
    "    #get the text data\n",
    "    temp=data.text\n",
    "    RANK.append(temp)\n",
    "RANK\n"
   ]
  },
  {
   "cell_type": "code",
   "execution_count": 10,
   "id": "f8af8af2",
   "metadata": {},
   "outputs": [
    {
     "data": {
      "text/plain": [
       "[<selenium.webdriver.remote.webelement.WebElement (session=\"ee5d180bff423f31a4e6c985fd8657ee\", element=\"e558d88a-ce2c-43d1-bad3-69730fb542b7\")>,\n",
       " <selenium.webdriver.remote.webelement.WebElement (session=\"ee5d180bff423f31a4e6c985fd8657ee\", element=\"7b607604-a726-489d-8550-1c5070ce97d3\")>,\n",
       " <selenium.webdriver.remote.webelement.WebElement (session=\"ee5d180bff423f31a4e6c985fd8657ee\", element=\"ab1f5946-88c1-48ac-a11c-34f55f0f2cc8\")>,\n",
       " <selenium.webdriver.remote.webelement.WebElement (session=\"ee5d180bff423f31a4e6c985fd8657ee\", element=\"1282a681-0708-483b-ad4c-390f536fd775\")>,\n",
       " <selenium.webdriver.remote.webelement.WebElement (session=\"ee5d180bff423f31a4e6c985fd8657ee\", element=\"6c3e5bfd-8808-4af6-9db0-9c573ea0d5db\")>,\n",
       " <selenium.webdriver.remote.webelement.WebElement (session=\"ee5d180bff423f31a4e6c985fd8657ee\", element=\"57c75b26-a538-4d4e-b672-3391202d09e5\")>,\n",
       " <selenium.webdriver.remote.webelement.WebElement (session=\"ee5d180bff423f31a4e6c985fd8657ee\", element=\"e7a06667-c001-4581-940f-f56469749aa1\")>,\n",
       " <selenium.webdriver.remote.webelement.WebElement (session=\"ee5d180bff423f31a4e6c985fd8657ee\", element=\"fd31b6ad-3b28-412f-ad48-23aa39dc78aa\")>,\n",
       " <selenium.webdriver.remote.webelement.WebElement (session=\"ee5d180bff423f31a4e6c985fd8657ee\", element=\"86ce1c66-fe5b-46e6-866e-f2c53ef00d93\")>]"
      ]
     },
     "execution_count": 10,
     "metadata": {},
     "output_type": "execute_result"
    }
   ],
   "source": [
    "# GET EACH COLLEGE SPECIFICATION HEADERS\n",
    "header=browser.find_elements(\"xpath\",\"//div[@class='_click-function_ind']\")\n",
    "header"
   ]
  },
  {
   "cell_type": "code",
   "execution_count": 11,
   "id": "336aa394",
   "metadata": {},
   "outputs": [
    {
     "data": {
      "text/plain": [
       "['Overall Score',\n",
       " 'Academic Reputation',\n",
       " 'Employer Reputation',\n",
       " 'Citations per Faculty',\n",
       " 'Faculty Student Ratio',\n",
       " 'International Students Ratio',\n",
       " 'International Faculty Ratio',\n",
       " 'International Research Network\\nUnweighted',\n",
       " 'Employment Outcomes\\nUnweighted']"
      ]
     },
     "execution_count": 11,
     "metadata": {},
     "output_type": "execute_result"
    }
   ],
   "source": [
    "#PARSING DATA\n",
    "column_head=[]\n",
    "for data in header:\n",
    "    #get the text data\n",
    "    temp=data.text\n",
    "    column_head.append(temp)\n",
    "column_head"
   ]
  },
  {
   "cell_type": "code",
   "execution_count": 12,
   "id": "0aeffb7a",
   "metadata": {},
   "outputs": [
    {
     "data": {
      "text/plain": [
       "[<selenium.webdriver.remote.webelement.WebElement (session=\"ee5d180bff423f31a4e6c985fd8657ee\", element=\"d85c81fe-3f04-4eee-90cf-8d535971047b\")>,\n",
       " <selenium.webdriver.remote.webelement.WebElement (session=\"ee5d180bff423f31a4e6c985fd8657ee\", element=\"59f975c7-38ea-43b7-8b23-fe9a54829d39\")>,\n",
       " <selenium.webdriver.remote.webelement.WebElement (session=\"ee5d180bff423f31a4e6c985fd8657ee\", element=\"fe1c882a-c0c9-4493-a700-b62838e22299\")>,\n",
       " <selenium.webdriver.remote.webelement.WebElement (session=\"ee5d180bff423f31a4e6c985fd8657ee\", element=\"19fe3269-cebb-4d10-85d2-4eecf6bcee72\")>,\n",
       " <selenium.webdriver.remote.webelement.WebElement (session=\"ee5d180bff423f31a4e6c985fd8657ee\", element=\"bb7f61f8-7bd4-407a-80b4-c87c2338c2e2\")>,\n",
       " <selenium.webdriver.remote.webelement.WebElement (session=\"ee5d180bff423f31a4e6c985fd8657ee\", element=\"cf710273-7ce2-48f3-91ce-1f47679f75ed\")>,\n",
       " <selenium.webdriver.remote.webelement.WebElement (session=\"ee5d180bff423f31a4e6c985fd8657ee\", element=\"e31f718a-849c-41af-ae85-3b93814064f7\")>,\n",
       " <selenium.webdriver.remote.webelement.WebElement (session=\"ee5d180bff423f31a4e6c985fd8657ee\", element=\"0dca29a1-8974-4911-89ed-279f47ca02c3\")>,\n",
       " <selenium.webdriver.remote.webelement.WebElement (session=\"ee5d180bff423f31a4e6c985fd8657ee\", element=\"8c284952-63fc-4358-a6f3-673dfe7c502b\")>,\n",
       " <selenium.webdriver.remote.webelement.WebElement (session=\"ee5d180bff423f31a4e6c985fd8657ee\", element=\"61f464f2-9981-4abb-bd98-f572d94ea94e\")>,\n",
       " <selenium.webdriver.remote.webelement.WebElement (session=\"ee5d180bff423f31a4e6c985fd8657ee\", element=\"33e2d1c0-7a88-4a9c-806c-3abcc1025906\")>,\n",
       " <selenium.webdriver.remote.webelement.WebElement (session=\"ee5d180bff423f31a4e6c985fd8657ee\", element=\"133137e8-b1b0-4607-b3dd-718fdab6cafc\")>,\n",
       " <selenium.webdriver.remote.webelement.WebElement (session=\"ee5d180bff423f31a4e6c985fd8657ee\", element=\"71bcd268-b97f-4d60-aff1-8603e98ed36b\")>,\n",
       " <selenium.webdriver.remote.webelement.WebElement (session=\"ee5d180bff423f31a4e6c985fd8657ee\", element=\"e5e40d04-12fc-4fd4-86c0-01e85ca391a6\")>,\n",
       " <selenium.webdriver.remote.webelement.WebElement (session=\"ee5d180bff423f31a4e6c985fd8657ee\", element=\"d7c8fc5a-632e-4ce1-8100-08dba4d5e50e\")>,\n",
       " <selenium.webdriver.remote.webelement.WebElement (session=\"ee5d180bff423f31a4e6c985fd8657ee\", element=\"9dcfd92e-281f-497a-9764-f0fc91b69ed1\")>,\n",
       " <selenium.webdriver.remote.webelement.WebElement (session=\"ee5d180bff423f31a4e6c985fd8657ee\", element=\"7a67f87c-b53d-4989-8670-59ca9d5a92a0\")>,\n",
       " <selenium.webdriver.remote.webelement.WebElement (session=\"ee5d180bff423f31a4e6c985fd8657ee\", element=\"9b44faed-3e6f-47d6-a4cd-57d162cf64e3\")>,\n",
       " <selenium.webdriver.remote.webelement.WebElement (session=\"ee5d180bff423f31a4e6c985fd8657ee\", element=\"a20a216b-1110-4f9e-a4d8-008cba405cdd\")>,\n",
       " <selenium.webdriver.remote.webelement.WebElement (session=\"ee5d180bff423f31a4e6c985fd8657ee\", element=\"d33800c1-1231-41f4-8bd0-3199fc6bc9f9\")>,\n",
       " <selenium.webdriver.remote.webelement.WebElement (session=\"ee5d180bff423f31a4e6c985fd8657ee\", element=\"ca0eaf76-982b-4317-8646-0a65bea67733\")>,\n",
       " <selenium.webdriver.remote.webelement.WebElement (session=\"ee5d180bff423f31a4e6c985fd8657ee\", element=\"6ef04180-7d23-4a42-b0c1-ebfc16dc60ad\")>,\n",
       " <selenium.webdriver.remote.webelement.WebElement (session=\"ee5d180bff423f31a4e6c985fd8657ee\", element=\"6ec80645-a953-4f0e-8405-798cf78081f7\")>,\n",
       " <selenium.webdriver.remote.webelement.WebElement (session=\"ee5d180bff423f31a4e6c985fd8657ee\", element=\"261d6465-face-4282-b576-b4290bb97208\")>,\n",
       " <selenium.webdriver.remote.webelement.WebElement (session=\"ee5d180bff423f31a4e6c985fd8657ee\", element=\"80a797f5-223e-451f-9c20-83cb55491332\")>,\n",
       " <selenium.webdriver.remote.webelement.WebElement (session=\"ee5d180bff423f31a4e6c985fd8657ee\", element=\"2ad5cff3-10a0-4027-9402-b603148850a6\")>,\n",
       " <selenium.webdriver.remote.webelement.WebElement (session=\"ee5d180bff423f31a4e6c985fd8657ee\", element=\"1c853411-adb4-469f-963c-64e4d45ce124\")>,\n",
       " <selenium.webdriver.remote.webelement.WebElement (session=\"ee5d180bff423f31a4e6c985fd8657ee\", element=\"84e08e46-8da0-4a24-a50f-768751cdc3ea\")>,\n",
       " <selenium.webdriver.remote.webelement.WebElement (session=\"ee5d180bff423f31a4e6c985fd8657ee\", element=\"10ba55ec-a7c0-47dc-b54a-d06d4c38974e\")>,\n",
       " <selenium.webdriver.remote.webelement.WebElement (session=\"ee5d180bff423f31a4e6c985fd8657ee\", element=\"d597cd94-a03f-4ec4-a5af-099c0689cb77\")>,\n",
       " <selenium.webdriver.remote.webelement.WebElement (session=\"ee5d180bff423f31a4e6c985fd8657ee\", element=\"3de24a17-1bef-4430-bfe9-c781f3718cfd\")>,\n",
       " <selenium.webdriver.remote.webelement.WebElement (session=\"ee5d180bff423f31a4e6c985fd8657ee\", element=\"f954fad3-ffd1-44a0-9754-06c667b03a0d\")>,\n",
       " <selenium.webdriver.remote.webelement.WebElement (session=\"ee5d180bff423f31a4e6c985fd8657ee\", element=\"8ee096ac-49a5-4ed7-a59b-ec5dd716ddf0\")>,\n",
       " <selenium.webdriver.remote.webelement.WebElement (session=\"ee5d180bff423f31a4e6c985fd8657ee\", element=\"f50bfc29-8614-44b1-8093-5e2ec01ff574\")>,\n",
       " <selenium.webdriver.remote.webelement.WebElement (session=\"ee5d180bff423f31a4e6c985fd8657ee\", element=\"dd2b9c9d-930f-48f8-b8c6-48ac776f3fb1\")>,\n",
       " <selenium.webdriver.remote.webelement.WebElement (session=\"ee5d180bff423f31a4e6c985fd8657ee\", element=\"b6fd9c2e-cb02-4e85-b0ab-4d58d2385881\")>,\n",
       " <selenium.webdriver.remote.webelement.WebElement (session=\"ee5d180bff423f31a4e6c985fd8657ee\", element=\"e806bace-0a78-4337-b7ec-89f648366b0c\")>,\n",
       " <selenium.webdriver.remote.webelement.WebElement (session=\"ee5d180bff423f31a4e6c985fd8657ee\", element=\"abfa67ba-f529-446f-80c9-fb53c27d1f2a\")>,\n",
       " <selenium.webdriver.remote.webelement.WebElement (session=\"ee5d180bff423f31a4e6c985fd8657ee\", element=\"002efa56-12ba-42f4-881f-332404ecdbc1\")>,\n",
       " <selenium.webdriver.remote.webelement.WebElement (session=\"ee5d180bff423f31a4e6c985fd8657ee\", element=\"f6de581d-7713-49ef-96d2-5d5280393041\")>,\n",
       " <selenium.webdriver.remote.webelement.WebElement (session=\"ee5d180bff423f31a4e6c985fd8657ee\", element=\"3f1a581e-1138-44e8-b435-5e2faa41ae04\")>,\n",
       " <selenium.webdriver.remote.webelement.WebElement (session=\"ee5d180bff423f31a4e6c985fd8657ee\", element=\"3d3d63ae-a383-40bf-ba21-e2da04916c82\")>,\n",
       " <selenium.webdriver.remote.webelement.WebElement (session=\"ee5d180bff423f31a4e6c985fd8657ee\", element=\"5f531170-211f-407d-8ad5-a4126ce52f2f\")>,\n",
       " <selenium.webdriver.remote.webelement.WebElement (session=\"ee5d180bff423f31a4e6c985fd8657ee\", element=\"d3ba0e6e-ba2e-4419-9742-0554ae999eb2\")>,\n",
       " <selenium.webdriver.remote.webelement.WebElement (session=\"ee5d180bff423f31a4e6c985fd8657ee\", element=\"59e685a5-91be-40d0-ade9-7431d97ce238\")>,\n",
       " <selenium.webdriver.remote.webelement.WebElement (session=\"ee5d180bff423f31a4e6c985fd8657ee\", element=\"b8d36b4d-c3e8-4602-ac48-39b83e08afa3\")>,\n",
       " <selenium.webdriver.remote.webelement.WebElement (session=\"ee5d180bff423f31a4e6c985fd8657ee\", element=\"e4324795-5716-4708-8e14-6766593cb9bd\")>,\n",
       " <selenium.webdriver.remote.webelement.WebElement (session=\"ee5d180bff423f31a4e6c985fd8657ee\", element=\"5e60d18f-0d6d-4769-85a3-00488fe34eca\")>,\n",
       " <selenium.webdriver.remote.webelement.WebElement (session=\"ee5d180bff423f31a4e6c985fd8657ee\", element=\"187015f3-601c-4c60-98cc-0f61c65dcb85\")>,\n",
       " <selenium.webdriver.remote.webelement.WebElement (session=\"ee5d180bff423f31a4e6c985fd8657ee\", element=\"821e3f84-ec31-4444-99cb-20881a1ebaf6\")>,\n",
       " <selenium.webdriver.remote.webelement.WebElement (session=\"ee5d180bff423f31a4e6c985fd8657ee\", element=\"caf02319-1515-4ee4-9996-fdf14ad2e18e\")>,\n",
       " <selenium.webdriver.remote.webelement.WebElement (session=\"ee5d180bff423f31a4e6c985fd8657ee\", element=\"657d0aba-67ea-4cb9-9e04-b74d7ce29c13\")>,\n",
       " <selenium.webdriver.remote.webelement.WebElement (session=\"ee5d180bff423f31a4e6c985fd8657ee\", element=\"31b09b71-d005-4600-bd67-2f04040a25a6\")>,\n",
       " <selenium.webdriver.remote.webelement.WebElement (session=\"ee5d180bff423f31a4e6c985fd8657ee\", element=\"f356b1c4-c230-4c40-a455-f382b93826f4\")>,\n",
       " <selenium.webdriver.remote.webelement.WebElement (session=\"ee5d180bff423f31a4e6c985fd8657ee\", element=\"e3fafb70-32d6-49c8-889f-0caf7e77fdf3\")>,\n",
       " <selenium.webdriver.remote.webelement.WebElement (session=\"ee5d180bff423f31a4e6c985fd8657ee\", element=\"4bd9fbb1-f8fd-42cf-a5d4-d9ae8bb607c2\")>,\n",
       " <selenium.webdriver.remote.webelement.WebElement (session=\"ee5d180bff423f31a4e6c985fd8657ee\", element=\"a733de2c-eaed-4b0a-a6d7-71752dc91d50\")>,\n",
       " <selenium.webdriver.remote.webelement.WebElement (session=\"ee5d180bff423f31a4e6c985fd8657ee\", element=\"fb7ac405-f61f-48f8-b1db-9e2620e71a64\")>,\n",
       " <selenium.webdriver.remote.webelement.WebElement (session=\"ee5d180bff423f31a4e6c985fd8657ee\", element=\"44ccebc7-5b8c-4f17-832e-1cf2c813653c\")>,\n",
       " <selenium.webdriver.remote.webelement.WebElement (session=\"ee5d180bff423f31a4e6c985fd8657ee\", element=\"fc4e44b5-105f-4bb6-924c-ded358507053\")>,\n",
       " <selenium.webdriver.remote.webelement.WebElement (session=\"ee5d180bff423f31a4e6c985fd8657ee\", element=\"5a7f3a88-7889-4249-a2ae-0c75b1e71f54\")>,\n",
       " <selenium.webdriver.remote.webelement.WebElement (session=\"ee5d180bff423f31a4e6c985fd8657ee\", element=\"d8be7b5f-5e6e-4050-9ce3-3c243c64ef38\")>,\n",
       " <selenium.webdriver.remote.webelement.WebElement (session=\"ee5d180bff423f31a4e6c985fd8657ee\", element=\"78e6a704-9360-4c6d-960d-8aecf7049c46\")>,\n",
       " <selenium.webdriver.remote.webelement.WebElement (session=\"ee5d180bff423f31a4e6c985fd8657ee\", element=\"3e072e47-ddeb-4a2d-bcca-aed498ef0cc5\")>,\n",
       " <selenium.webdriver.remote.webelement.WebElement (session=\"ee5d180bff423f31a4e6c985fd8657ee\", element=\"d1244bfd-3dda-45c4-80c6-f2cccfd0a129\")>,\n",
       " <selenium.webdriver.remote.webelement.WebElement (session=\"ee5d180bff423f31a4e6c985fd8657ee\", element=\"4045cd7c-d35a-4217-94bd-d25f0c3a2966\")>,\n",
       " <selenium.webdriver.remote.webelement.WebElement (session=\"ee5d180bff423f31a4e6c985fd8657ee\", element=\"b32fc001-4156-43e0-9b0c-2e81ef413082\")>,\n",
       " <selenium.webdriver.remote.webelement.WebElement (session=\"ee5d180bff423f31a4e6c985fd8657ee\", element=\"919ca691-1d2d-42e6-8b8f-845dcd9626a6\")>,\n",
       " <selenium.webdriver.remote.webelement.WebElement (session=\"ee5d180bff423f31a4e6c985fd8657ee\", element=\"52f70b6e-b17e-42b5-83f6-5eaed8001c53\")>,\n",
       " <selenium.webdriver.remote.webelement.WebElement (session=\"ee5d180bff423f31a4e6c985fd8657ee\", element=\"94578dee-8d51-4b50-8ad6-ebc58cb99572\")>,\n",
       " <selenium.webdriver.remote.webelement.WebElement (session=\"ee5d180bff423f31a4e6c985fd8657ee\", element=\"12068efd-253f-47c1-a313-0e7eae4ad679\")>,\n",
       " <selenium.webdriver.remote.webelement.WebElement (session=\"ee5d180bff423f31a4e6c985fd8657ee\", element=\"451e4c0c-79a9-45e4-827b-00f50c1b1372\")>,\n",
       " <selenium.webdriver.remote.webelement.WebElement (session=\"ee5d180bff423f31a4e6c985fd8657ee\", element=\"f5b11027-c7a8-4827-a4f1-afa66a09dbe4\")>,\n",
       " <selenium.webdriver.remote.webelement.WebElement (session=\"ee5d180bff423f31a4e6c985fd8657ee\", element=\"7428c5ce-7259-44bb-8bfb-28215020ad18\")>,\n",
       " <selenium.webdriver.remote.webelement.WebElement (session=\"ee5d180bff423f31a4e6c985fd8657ee\", element=\"7114da92-cb29-49e8-aa39-0f0e686af9c1\")>,\n",
       " <selenium.webdriver.remote.webelement.WebElement (session=\"ee5d180bff423f31a4e6c985fd8657ee\", element=\"0a93b924-c6fa-47f5-a29a-d315e506f658\")>,\n",
       " <selenium.webdriver.remote.webelement.WebElement (session=\"ee5d180bff423f31a4e6c985fd8657ee\", element=\"32ff2575-d978-4afa-85fe-73a3f563b8a6\")>,\n",
       " <selenium.webdriver.remote.webelement.WebElement (session=\"ee5d180bff423f31a4e6c985fd8657ee\", element=\"171092c2-1ee3-4887-9059-9ade35873cda\")>,\n",
       " <selenium.webdriver.remote.webelement.WebElement (session=\"ee5d180bff423f31a4e6c985fd8657ee\", element=\"b4c72e0c-7f94-4ae6-aa8a-374bff10bfc3\")>,\n",
       " <selenium.webdriver.remote.webelement.WebElement (session=\"ee5d180bff423f31a4e6c985fd8657ee\", element=\"5bc36740-d8f0-4c34-b0eb-0ce6f4d8872d\")>,\n",
       " <selenium.webdriver.remote.webelement.WebElement (session=\"ee5d180bff423f31a4e6c985fd8657ee\", element=\"b70a8b2d-322a-40ef-8595-82308a286c57\")>,\n",
       " <selenium.webdriver.remote.webelement.WebElement (session=\"ee5d180bff423f31a4e6c985fd8657ee\", element=\"e0e94663-24b2-4c29-a8bc-35a62aed6b81\")>,\n",
       " <selenium.webdriver.remote.webelement.WebElement (session=\"ee5d180bff423f31a4e6c985fd8657ee\", element=\"591836d7-98ad-4773-8b48-ea31b582f523\")>,\n",
       " <selenium.webdriver.remote.webelement.WebElement (session=\"ee5d180bff423f31a4e6c985fd8657ee\", element=\"a01e6ed2-01f4-4341-884a-628e5a3aad09\")>,\n",
       " <selenium.webdriver.remote.webelement.WebElement (session=\"ee5d180bff423f31a4e6c985fd8657ee\", element=\"aaacfdf9-66d5-41b8-a115-2b2a8880e7f8\")>,\n",
       " <selenium.webdriver.remote.webelement.WebElement (session=\"ee5d180bff423f31a4e6c985fd8657ee\", element=\"3c277aac-69a7-43e5-89f2-3f41f92d0490\")>,\n",
       " <selenium.webdriver.remote.webelement.WebElement (session=\"ee5d180bff423f31a4e6c985fd8657ee\", element=\"c395f870-1933-4659-8129-cd9c5904fc48\")>,\n",
       " <selenium.webdriver.remote.webelement.WebElement (session=\"ee5d180bff423f31a4e6c985fd8657ee\", element=\"e8084c46-a346-416f-9cc4-f0f384bbe079\")>,\n",
       " <selenium.webdriver.remote.webelement.WebElement (session=\"ee5d180bff423f31a4e6c985fd8657ee\", element=\"dd4f8bdc-1124-460f-905e-04de0397a9ec\")>,\n",
       " <selenium.webdriver.remote.webelement.WebElement (session=\"ee5d180bff423f31a4e6c985fd8657ee\", element=\"87f7b78c-b96e-4a89-a6c2-c5ed4a740f0d\")>,\n",
       " <selenium.webdriver.remote.webelement.WebElement (session=\"ee5d180bff423f31a4e6c985fd8657ee\", element=\"07dbc4fa-fe1a-4040-8111-73300ffe7f06\")>,\n",
       " <selenium.webdriver.remote.webelement.WebElement (session=\"ee5d180bff423f31a4e6c985fd8657ee\", element=\"56d49e83-32ac-4e7d-a750-bbb997f36ca5\")>,\n",
       " <selenium.webdriver.remote.webelement.WebElement (session=\"ee5d180bff423f31a4e6c985fd8657ee\", element=\"ef2f0263-038c-4f2c-a05d-aa2bf4d0056e\")>,\n",
       " <selenium.webdriver.remote.webelement.WebElement (session=\"ee5d180bff423f31a4e6c985fd8657ee\", element=\"c5689aac-0cbb-4650-8ec7-dc0825539212\")>,\n",
       " <selenium.webdriver.remote.webelement.WebElement (session=\"ee5d180bff423f31a4e6c985fd8657ee\", element=\"3a21d8e0-8c20-4af1-8879-1444f739f3e6\")>,\n",
       " <selenium.webdriver.remote.webelement.WebElement (session=\"ee5d180bff423f31a4e6c985fd8657ee\", element=\"f49809ad-832d-4a0b-9a0a-40c21f9ff034\")>,\n",
       " <selenium.webdriver.remote.webelement.WebElement (session=\"ee5d180bff423f31a4e6c985fd8657ee\", element=\"524e2a55-2c6e-4626-8388-dc6524989647\")>,\n",
       " <selenium.webdriver.remote.webelement.WebElement (session=\"ee5d180bff423f31a4e6c985fd8657ee\", element=\"f3cf44a5-6e7c-4916-be3a-1efabbf4bc97\")>,\n",
       " <selenium.webdriver.remote.webelement.WebElement (session=\"ee5d180bff423f31a4e6c985fd8657ee\", element=\"4d78e0a4-30ed-4a88-9bba-cc14de13c08b\")>,\n",
       " <selenium.webdriver.remote.webelement.WebElement (session=\"ee5d180bff423f31a4e6c985fd8657ee\", element=\"16c73a13-2e09-4124-98ec-3c35e31a4266\")>]"
      ]
     },
     "execution_count": 12,
     "metadata": {},
     "output_type": "execute_result"
    }
   ],
   "source": [
    "header2=browser.find_elements(\"xpath\",\"//div[@class='td-wrap-in']\")\n",
    "header2"
   ]
  },
  {
   "cell_type": "code",
   "execution_count": 13,
   "id": "a7838e95",
   "metadata": {},
   "outputs": [
    {
     "data": {
      "text/plain": [
       "['87', '97.4', '62.9', '72.6', '84.2', '98.7', '100', '81.1', '99']"
      ]
     },
     "execution_count": 13,
     "metadata": {},
     "output_type": "execute_result"
    }
   ],
   "source": [
    "#PARSING DATA\n",
    "value_head=[]\n",
    "for data in header2:\n",
    "    #get the text data\n",
    "    temp=data.text\n",
    "    value_head.append(temp)\n",
    "value=value_head[1:10]\n",
    "value"
   ]
  },
  {
   "cell_type": "code",
   "execution_count": 14,
   "id": "5c9005a7",
   "metadata": {},
   "outputs": [
    {
     "data": {
      "text/plain": [
       "{'Name': 'The University of Hong Kong',\n",
       " 'Location': ' Hong Kong SAR',\n",
       " 'Rank': '21',\n",
       " 'Overall Score': '87',\n",
       " 'Academic Reputation': '97.4',\n",
       " 'Employer Reputation': '62.9',\n",
       " 'Citations per Faculty': '72.6',\n",
       " 'Faculty Student Ratio': '84.2',\n",
       " 'International Students Ratio': '98.7',\n",
       " 'International Faculty Ratio': '100',\n",
       " 'International Research Network\\nUnweighted': '81.1',\n",
       " 'Employment Outcomes\\nUnweighted': '99'}"
      ]
     },
     "execution_count": 14,
     "metadata": {},
     "output_type": "execute_result"
    }
   ],
   "source": [
    "d={}\n",
    "d['Name']=value_head[0]\n",
    "d['Location']=loc[0]\n",
    "d['Rank']=RANK[0]\n",
    "\n",
    "for i in range(len(column_head)):\n",
    "    d[column_head[i]]=value[i]\n",
    "d"
   ]
  },
  {
   "cell_type": "code",
   "execution_count": 15,
   "id": "e35ef6e7",
   "metadata": {},
   "outputs": [
    {
     "data": {
      "text/plain": [
       "'{\"Name\": \"The University of Hong Kong\", \"Location\": \" Hong Kong SAR\", \"Rank\": \"21\", \"Overall Score\": \"87\", \"Academic Reputation\": \"97.4\", \"Employer Reputation\": \"62.9\", \"Citations per Faculty\": \"72.6\", \"Faculty Student Ratio\": \"84.2\", \"International Students Ratio\": \"98.7\", \"International Faculty Ratio\": \"100\", \"International Research Network\\\\nUnweighted\": \"81.1\", \"Employment Outcomes\\\\nUnweighted\": \"99\"}'"
      ]
     },
     "execution_count": 15,
     "metadata": {},
     "output_type": "execute_result"
    }
   ],
   "source": [
    "s1=json.dumps(d)\n",
    "s1"
   ]
  },
  {
   "cell_type": "code",
   "execution_count": 16,
   "id": "ce4a11f2",
   "metadata": {},
   "outputs": [],
   "source": [
    "with open('The University of Hong Kong.json','w') as f:\n",
    "    json.dump(d,f)"
   ]
  },
  {
   "cell_type": "code",
   "execution_count": null,
   "id": "5f3a49b3",
   "metadata": {},
   "outputs": [],
   "source": []
  }
 ],
 "metadata": {
  "kernelspec": {
   "display_name": "Python 3 (ipykernel)",
   "language": "python",
   "name": "python3"
  },
  "language_info": {
   "codemirror_mode": {
    "name": "ipython",
    "version": 3
   },
   "file_extension": ".py",
   "mimetype": "text/x-python",
   "name": "python",
   "nbconvert_exporter": "python",
   "pygments_lexer": "ipython3",
   "version": "3.9.12"
  }
 },
 "nbformat": 4,
 "nbformat_minor": 5
}
