{
 "cells": [
  {
   "cell_type": "code",
   "execution_count": 1,
   "id": "5b1028e0",
   "metadata": {},
   "outputs": [],
   "source": [
    "from selenium import webdriver\n",
    "from selenium.webdriver.chrome.service import Service\n",
    "import pandas as pd\n",
    "import json"
   ]
  },
  {
   "cell_type": "code",
   "execution_count": 2,
   "id": "4b2f519c",
   "metadata": {},
   "outputs": [],
   "source": [
    "path = Service('C:\\chromedriver.exe')"
   ]
  },
  {
   "cell_type": "code",
   "execution_count": 3,
   "id": "664d104f",
   "metadata": {},
   "outputs": [],
   "source": [
    "# set path for the driver\n",
    "browser = webdriver.Chrome(service = path)"
   ]
  },
  {
   "cell_type": "code",
   "execution_count": 4,
   "id": "62c5c7d1",
   "metadata": {},
   "outputs": [],
   "source": [
    "url = \"https://www.topuniversities.com/university-rankings/world-university-rankings/2023\""
   ]
  },
  {
   "cell_type": "code",
   "execution_count": 5,
   "id": "7a73a4d7",
   "metadata": {},
   "outputs": [],
   "source": [
    "# open the page url ion chrome\n",
    "browser.get(url)"
   ]
  },
  {
   "cell_type": "code",
   "execution_count": 6,
   "id": "f8af8af2",
   "metadata": {},
   "outputs": [
    {
     "data": {
      "text/plain": [
       "[<selenium.webdriver.remote.webelement.WebElement (session=\"53774c3dc730da72386849e9dd3e2d4c\", element=\"1dcc64e9-ce15-4f2f-99b2-f8aabf119f4b\")>,\n",
       " <selenium.webdriver.remote.webelement.WebElement (session=\"53774c3dc730da72386849e9dd3e2d4c\", element=\"d3e151f3-8454-48b1-9cfe-4803cde5ec8e\")>,\n",
       " <selenium.webdriver.remote.webelement.WebElement (session=\"53774c3dc730da72386849e9dd3e2d4c\", element=\"ecd048f2-aeab-4af4-b67d-1166f6b522f7\")>,\n",
       " <selenium.webdriver.remote.webelement.WebElement (session=\"53774c3dc730da72386849e9dd3e2d4c\", element=\"0aa8e759-7da9-4f01-ae93-576f7bd6aa7f\")>,\n",
       " <selenium.webdriver.remote.webelement.WebElement (session=\"53774c3dc730da72386849e9dd3e2d4c\", element=\"0f40c824-86e5-4858-9de0-bded6b51b411\")>,\n",
       " <selenium.webdriver.remote.webelement.WebElement (session=\"53774c3dc730da72386849e9dd3e2d4c\", element=\"3b8b93a0-66f4-42dc-af29-5094f2d4927a\")>,\n",
       " <selenium.webdriver.remote.webelement.WebElement (session=\"53774c3dc730da72386849e9dd3e2d4c\", element=\"f433fe51-3a75-41c6-a653-3b533ea2fb42\")>,\n",
       " <selenium.webdriver.remote.webelement.WebElement (session=\"53774c3dc730da72386849e9dd3e2d4c\", element=\"d7c7cc88-f80e-40f8-b0ed-67b2be6c8e3f\")>,\n",
       " <selenium.webdriver.remote.webelement.WebElement (session=\"53774c3dc730da72386849e9dd3e2d4c\", element=\"2072c5ba-2250-491c-8e93-1c6d2cc92eb0\")>]"
      ]
     },
     "execution_count": 6,
     "metadata": {},
     "output_type": "execute_result"
    }
   ],
   "source": [
    "# GET EACH COLLEGE SPECIFICATION HEADERS\n",
    "header=browser.find_elements(\"xpath\",\"//div[@class='_click-function_ind']\")\n",
    "header"
   ]
  },
  {
   "cell_type": "code",
   "execution_count": 7,
   "id": "336aa394",
   "metadata": {},
   "outputs": [
    {
     "data": {
      "text/plain": [
       "['Overall Score',\n",
       " 'Academic Reputation',\n",
       " 'Employer Reputation',\n",
       " 'Citations per Faculty',\n",
       " 'Faculty Student Ratio',\n",
       " 'International Students Ratio',\n",
       " 'International Faculty Ratio',\n",
       " 'International Research Network\\nUnweighted',\n",
       " 'Employment Outcomes\\nUnweighted']"
      ]
     },
     "execution_count": 7,
     "metadata": {},
     "output_type": "execute_result"
    }
   ],
   "source": [
    "#PARSING DATA\n",
    "column_head=[]\n",
    "for data in header:\n",
    "    #get the text data\n",
    "    temp=data.text\n",
    "    column_head.append(temp)\n",
    "column_head"
   ]
  },
  {
   "cell_type": "code",
   "execution_count": 8,
   "id": "0aeffb7a",
   "metadata": {},
   "outputs": [
    {
     "data": {
      "text/plain": [
       "[<selenium.webdriver.remote.webelement.WebElement (session=\"53774c3dc730da72386849e9dd3e2d4c\", element=\"b77edc69-bcc0-41a8-a78c-6865baaf5e9e\")>,\n",
       " <selenium.webdriver.remote.webelement.WebElement (session=\"53774c3dc730da72386849e9dd3e2d4c\", element=\"8edf8490-dfc9-46a1-9376-4539204e24ae\")>,\n",
       " <selenium.webdriver.remote.webelement.WebElement (session=\"53774c3dc730da72386849e9dd3e2d4c\", element=\"2e832398-b38e-4264-b281-69d5973103ee\")>,\n",
       " <selenium.webdriver.remote.webelement.WebElement (session=\"53774c3dc730da72386849e9dd3e2d4c\", element=\"aad41bff-2039-4251-bd2d-291c13a30166\")>,\n",
       " <selenium.webdriver.remote.webelement.WebElement (session=\"53774c3dc730da72386849e9dd3e2d4c\", element=\"63506370-398e-428b-b49a-eeee83528b19\")>,\n",
       " <selenium.webdriver.remote.webelement.WebElement (session=\"53774c3dc730da72386849e9dd3e2d4c\", element=\"139f5e16-0f64-47eb-b123-780ce6eb6115\")>,\n",
       " <selenium.webdriver.remote.webelement.WebElement (session=\"53774c3dc730da72386849e9dd3e2d4c\", element=\"34b375ee-a6fb-4db7-a71d-6c939ae5c0fe\")>,\n",
       " <selenium.webdriver.remote.webelement.WebElement (session=\"53774c3dc730da72386849e9dd3e2d4c\", element=\"1d4a9dd1-dcbd-42b2-b02c-fb7e65d527c1\")>,\n",
       " <selenium.webdriver.remote.webelement.WebElement (session=\"53774c3dc730da72386849e9dd3e2d4c\", element=\"360e9791-7d71-43eb-a24c-abfcd1892c8f\")>,\n",
       " <selenium.webdriver.remote.webelement.WebElement (session=\"53774c3dc730da72386849e9dd3e2d4c\", element=\"52c4de20-0b27-498f-a5af-63ed8318295c\")>,\n",
       " <selenium.webdriver.remote.webelement.WebElement (session=\"53774c3dc730da72386849e9dd3e2d4c\", element=\"adcce18b-45ab-4c27-b514-5eb62f4ef3fc\")>,\n",
       " <selenium.webdriver.remote.webelement.WebElement (session=\"53774c3dc730da72386849e9dd3e2d4c\", element=\"c5b8e158-10b0-446d-9c83-a0deb077f652\")>,\n",
       " <selenium.webdriver.remote.webelement.WebElement (session=\"53774c3dc730da72386849e9dd3e2d4c\", element=\"e65ced1a-4aea-46d1-ab70-833f5893ab04\")>,\n",
       " <selenium.webdriver.remote.webelement.WebElement (session=\"53774c3dc730da72386849e9dd3e2d4c\", element=\"d8ce6792-dd0b-4032-aabe-5c03e83a960a\")>,\n",
       " <selenium.webdriver.remote.webelement.WebElement (session=\"53774c3dc730da72386849e9dd3e2d4c\", element=\"2a139889-3661-4e96-84a7-e1e9ac0602a6\")>,\n",
       " <selenium.webdriver.remote.webelement.WebElement (session=\"53774c3dc730da72386849e9dd3e2d4c\", element=\"64777666-ae36-4f05-b3e9-07f87293644a\")>,\n",
       " <selenium.webdriver.remote.webelement.WebElement (session=\"53774c3dc730da72386849e9dd3e2d4c\", element=\"89a43179-a5f1-4940-8401-50bf80bd40bc\")>,\n",
       " <selenium.webdriver.remote.webelement.WebElement (session=\"53774c3dc730da72386849e9dd3e2d4c\", element=\"a6ded3f5-bcc7-44b2-b2ef-4403a65c7707\")>,\n",
       " <selenium.webdriver.remote.webelement.WebElement (session=\"53774c3dc730da72386849e9dd3e2d4c\", element=\"a1c2bd87-52dd-4815-8319-0b2b81ec51b9\")>,\n",
       " <selenium.webdriver.remote.webelement.WebElement (session=\"53774c3dc730da72386849e9dd3e2d4c\", element=\"b882b4a3-2674-4e50-97d5-4840e8ee34d3\")>,\n",
       " <selenium.webdriver.remote.webelement.WebElement (session=\"53774c3dc730da72386849e9dd3e2d4c\", element=\"b7e5994b-e55a-43df-a60d-4311e7814a02\")>,\n",
       " <selenium.webdriver.remote.webelement.WebElement (session=\"53774c3dc730da72386849e9dd3e2d4c\", element=\"f76628f7-f4fe-4c4d-a7c9-a6709f070238\")>,\n",
       " <selenium.webdriver.remote.webelement.WebElement (session=\"53774c3dc730da72386849e9dd3e2d4c\", element=\"0a9930ce-58e0-479f-9494-306799f255fb\")>,\n",
       " <selenium.webdriver.remote.webelement.WebElement (session=\"53774c3dc730da72386849e9dd3e2d4c\", element=\"2cadfd53-e91c-43eb-8ccd-7cbd1b0ee860\")>,\n",
       " <selenium.webdriver.remote.webelement.WebElement (session=\"53774c3dc730da72386849e9dd3e2d4c\", element=\"a68bf87c-6345-4bd5-85db-7d562b05e074\")>,\n",
       " <selenium.webdriver.remote.webelement.WebElement (session=\"53774c3dc730da72386849e9dd3e2d4c\", element=\"46d331db-0009-4b7e-9def-1f7f443a439d\")>,\n",
       " <selenium.webdriver.remote.webelement.WebElement (session=\"53774c3dc730da72386849e9dd3e2d4c\", element=\"3445535c-e9ef-4afe-8f51-8339c3b89a24\")>,\n",
       " <selenium.webdriver.remote.webelement.WebElement (session=\"53774c3dc730da72386849e9dd3e2d4c\", element=\"de4c0746-b77e-42f1-8d25-6b6a09ff97df\")>,\n",
       " <selenium.webdriver.remote.webelement.WebElement (session=\"53774c3dc730da72386849e9dd3e2d4c\", element=\"f67760e0-f2a1-467f-b956-fe9248cf5b2e\")>,\n",
       " <selenium.webdriver.remote.webelement.WebElement (session=\"53774c3dc730da72386849e9dd3e2d4c\", element=\"a78db5a4-da61-43a8-95ac-1b030ee02d5a\")>,\n",
       " <selenium.webdriver.remote.webelement.WebElement (session=\"53774c3dc730da72386849e9dd3e2d4c\", element=\"7653a135-d583-4931-9c84-001af6d5c369\")>,\n",
       " <selenium.webdriver.remote.webelement.WebElement (session=\"53774c3dc730da72386849e9dd3e2d4c\", element=\"7bb8ad89-ae53-474e-b5b6-05ba9aefa868\")>,\n",
       " <selenium.webdriver.remote.webelement.WebElement (session=\"53774c3dc730da72386849e9dd3e2d4c\", element=\"adc4639a-f2d5-40b1-94af-a707fa94ff09\")>,\n",
       " <selenium.webdriver.remote.webelement.WebElement (session=\"53774c3dc730da72386849e9dd3e2d4c\", element=\"513aae25-3c7a-4008-acc0-6ec26d722313\")>,\n",
       " <selenium.webdriver.remote.webelement.WebElement (session=\"53774c3dc730da72386849e9dd3e2d4c\", element=\"c9dac8b2-e977-4f24-bee3-01086ae85afe\")>,\n",
       " <selenium.webdriver.remote.webelement.WebElement (session=\"53774c3dc730da72386849e9dd3e2d4c\", element=\"3eba1559-cff0-4ae7-bdd6-b1d92e63d665\")>,\n",
       " <selenium.webdriver.remote.webelement.WebElement (session=\"53774c3dc730da72386849e9dd3e2d4c\", element=\"99cd511c-b50e-489c-9428-3a4a1e2eaff7\")>,\n",
       " <selenium.webdriver.remote.webelement.WebElement (session=\"53774c3dc730da72386849e9dd3e2d4c\", element=\"867b4200-b7f5-43db-9b87-ddebce8457df\")>,\n",
       " <selenium.webdriver.remote.webelement.WebElement (session=\"53774c3dc730da72386849e9dd3e2d4c\", element=\"5ee447be-6961-4c4a-a30d-d7f3604f8076\")>,\n",
       " <selenium.webdriver.remote.webelement.WebElement (session=\"53774c3dc730da72386849e9dd3e2d4c\", element=\"3de32f56-8a33-4290-8caa-d87112f3b444\")>,\n",
       " <selenium.webdriver.remote.webelement.WebElement (session=\"53774c3dc730da72386849e9dd3e2d4c\", element=\"1c9085a3-926a-4ae5-a138-fa935d458c5a\")>,\n",
       " <selenium.webdriver.remote.webelement.WebElement (session=\"53774c3dc730da72386849e9dd3e2d4c\", element=\"1ca1e13f-2233-407a-b2c8-5eb19d5456c0\")>,\n",
       " <selenium.webdriver.remote.webelement.WebElement (session=\"53774c3dc730da72386849e9dd3e2d4c\", element=\"37675eb0-70dd-43d4-9b6a-52e5b9fe03a6\")>,\n",
       " <selenium.webdriver.remote.webelement.WebElement (session=\"53774c3dc730da72386849e9dd3e2d4c\", element=\"b8bd1d73-051d-4f10-9503-46aa751b89f3\")>,\n",
       " <selenium.webdriver.remote.webelement.WebElement (session=\"53774c3dc730da72386849e9dd3e2d4c\", element=\"6fdc1a7e-ba56-424b-9f8c-bfa0ddca36e8\")>,\n",
       " <selenium.webdriver.remote.webelement.WebElement (session=\"53774c3dc730da72386849e9dd3e2d4c\", element=\"db8d8ab7-4709-4224-a88b-38ab85cdbf58\")>,\n",
       " <selenium.webdriver.remote.webelement.WebElement (session=\"53774c3dc730da72386849e9dd3e2d4c\", element=\"30794db8-3d62-4b4b-ba50-01baf3321767\")>,\n",
       " <selenium.webdriver.remote.webelement.WebElement (session=\"53774c3dc730da72386849e9dd3e2d4c\", element=\"0bc3cf43-13ee-4436-8824-c06497599291\")>,\n",
       " <selenium.webdriver.remote.webelement.WebElement (session=\"53774c3dc730da72386849e9dd3e2d4c\", element=\"ed0fc20f-f4ee-43a1-9202-90c139424c3f\")>,\n",
       " <selenium.webdriver.remote.webelement.WebElement (session=\"53774c3dc730da72386849e9dd3e2d4c\", element=\"471bd647-71af-4364-929e-6abc59e1ccf5\")>,\n",
       " <selenium.webdriver.remote.webelement.WebElement (session=\"53774c3dc730da72386849e9dd3e2d4c\", element=\"d8175a51-558b-4161-9986-0a96948b6d6b\")>,\n",
       " <selenium.webdriver.remote.webelement.WebElement (session=\"53774c3dc730da72386849e9dd3e2d4c\", element=\"624804b6-6676-4d10-a59d-4c73c3f490cb\")>,\n",
       " <selenium.webdriver.remote.webelement.WebElement (session=\"53774c3dc730da72386849e9dd3e2d4c\", element=\"8b5c84f8-916e-42f8-9dc6-bca855b5f623\")>,\n",
       " <selenium.webdriver.remote.webelement.WebElement (session=\"53774c3dc730da72386849e9dd3e2d4c\", element=\"0413ab4e-516f-41ef-8841-70cc09e931de\")>,\n",
       " <selenium.webdriver.remote.webelement.WebElement (session=\"53774c3dc730da72386849e9dd3e2d4c\", element=\"a2eadfcd-b941-4f78-bb8c-9a384ce3126f\")>,\n",
       " <selenium.webdriver.remote.webelement.WebElement (session=\"53774c3dc730da72386849e9dd3e2d4c\", element=\"53061ed6-0eaf-4c14-9913-a966375e3d3f\")>,\n",
       " <selenium.webdriver.remote.webelement.WebElement (session=\"53774c3dc730da72386849e9dd3e2d4c\", element=\"c098b1f5-6250-4316-9645-865104a4b618\")>,\n",
       " <selenium.webdriver.remote.webelement.WebElement (session=\"53774c3dc730da72386849e9dd3e2d4c\", element=\"9d98a222-796c-41fa-8811-0f55d22a617d\")>,\n",
       " <selenium.webdriver.remote.webelement.WebElement (session=\"53774c3dc730da72386849e9dd3e2d4c\", element=\"f394b4e5-3dd3-4b93-ab76-d29fd5fa1c11\")>,\n",
       " <selenium.webdriver.remote.webelement.WebElement (session=\"53774c3dc730da72386849e9dd3e2d4c\", element=\"dcff4313-f2fe-4809-a9e0-004ec517ebb5\")>,\n",
       " <selenium.webdriver.remote.webelement.WebElement (session=\"53774c3dc730da72386849e9dd3e2d4c\", element=\"6a3f6d2f-d733-41af-b94a-eccc6a189e16\")>,\n",
       " <selenium.webdriver.remote.webelement.WebElement (session=\"53774c3dc730da72386849e9dd3e2d4c\", element=\"7040397e-b7c0-4662-b98b-457cdc9a7fef\")>,\n",
       " <selenium.webdriver.remote.webelement.WebElement (session=\"53774c3dc730da72386849e9dd3e2d4c\", element=\"39675c5e-45b8-4ce9-87c3-05bc6b38b025\")>,\n",
       " <selenium.webdriver.remote.webelement.WebElement (session=\"53774c3dc730da72386849e9dd3e2d4c\", element=\"f3d186c5-b387-47ff-b027-ec4f5434369d\")>,\n",
       " <selenium.webdriver.remote.webelement.WebElement (session=\"53774c3dc730da72386849e9dd3e2d4c\", element=\"7b23e57c-3d9d-4692-ab69-53e5667959c8\")>,\n",
       " <selenium.webdriver.remote.webelement.WebElement (session=\"53774c3dc730da72386849e9dd3e2d4c\", element=\"285e81e1-2556-4680-a270-31a8227bb090\")>,\n",
       " <selenium.webdriver.remote.webelement.WebElement (session=\"53774c3dc730da72386849e9dd3e2d4c\", element=\"49e8f77d-a3c0-4acf-b242-4be61316d7d7\")>,\n",
       " <selenium.webdriver.remote.webelement.WebElement (session=\"53774c3dc730da72386849e9dd3e2d4c\", element=\"03c26461-411d-45a4-8a02-85bafbf665eb\")>,\n",
       " <selenium.webdriver.remote.webelement.WebElement (session=\"53774c3dc730da72386849e9dd3e2d4c\", element=\"c65b0bf5-1741-47bf-aab9-9642264c7828\")>,\n",
       " <selenium.webdriver.remote.webelement.WebElement (session=\"53774c3dc730da72386849e9dd3e2d4c\", element=\"aabea306-8f8e-4dc6-9f87-c14b4b1b39b0\")>,\n",
       " <selenium.webdriver.remote.webelement.WebElement (session=\"53774c3dc730da72386849e9dd3e2d4c\", element=\"ec8b34c9-f74f-4b0c-bef9-b5de59dcb9e3\")>,\n",
       " <selenium.webdriver.remote.webelement.WebElement (session=\"53774c3dc730da72386849e9dd3e2d4c\", element=\"c989d22a-8138-4751-9ba4-50ca22df4ecf\")>,\n",
       " <selenium.webdriver.remote.webelement.WebElement (session=\"53774c3dc730da72386849e9dd3e2d4c\", element=\"dac8aa6c-4410-40d0-b722-7061fe749947\")>,\n",
       " <selenium.webdriver.remote.webelement.WebElement (session=\"53774c3dc730da72386849e9dd3e2d4c\", element=\"17dfe545-e06f-4c9a-8a88-5830d0432540\")>,\n",
       " <selenium.webdriver.remote.webelement.WebElement (session=\"53774c3dc730da72386849e9dd3e2d4c\", element=\"f79d05eb-e571-4616-bad0-5ce549323114\")>,\n",
       " <selenium.webdriver.remote.webelement.WebElement (session=\"53774c3dc730da72386849e9dd3e2d4c\", element=\"f75befaa-e69a-413f-82d3-029e12c87325\")>,\n",
       " <selenium.webdriver.remote.webelement.WebElement (session=\"53774c3dc730da72386849e9dd3e2d4c\", element=\"47992888-123b-4b17-b995-c206dec5e90c\")>,\n",
       " <selenium.webdriver.remote.webelement.WebElement (session=\"53774c3dc730da72386849e9dd3e2d4c\", element=\"17fd020f-f400-46ed-bf43-e2116e23cc7b\")>,\n",
       " <selenium.webdriver.remote.webelement.WebElement (session=\"53774c3dc730da72386849e9dd3e2d4c\", element=\"fa0daa16-320d-46d8-bddd-aac3c57a2144\")>,\n",
       " <selenium.webdriver.remote.webelement.WebElement (session=\"53774c3dc730da72386849e9dd3e2d4c\", element=\"e72052d7-00a1-43d4-b212-d47eab7fce91\")>,\n",
       " <selenium.webdriver.remote.webelement.WebElement (session=\"53774c3dc730da72386849e9dd3e2d4c\", element=\"8b09bd00-10fa-4f7a-bdb0-ab2709223514\")>,\n",
       " <selenium.webdriver.remote.webelement.WebElement (session=\"53774c3dc730da72386849e9dd3e2d4c\", element=\"d403707f-0860-4fa4-8369-2cd2d8b3a720\")>,\n",
       " <selenium.webdriver.remote.webelement.WebElement (session=\"53774c3dc730da72386849e9dd3e2d4c\", element=\"e0a9e056-2b95-4ec0-9223-ce2ae06bfad0\")>,\n",
       " <selenium.webdriver.remote.webelement.WebElement (session=\"53774c3dc730da72386849e9dd3e2d4c\", element=\"510299f7-f058-45e6-8559-6e8dee31298f\")>,\n",
       " <selenium.webdriver.remote.webelement.WebElement (session=\"53774c3dc730da72386849e9dd3e2d4c\", element=\"26fe85b5-71e7-44ea-8065-9d2bdd63efcc\")>,\n",
       " <selenium.webdriver.remote.webelement.WebElement (session=\"53774c3dc730da72386849e9dd3e2d4c\", element=\"c32b9a19-1410-4059-8fea-2e438b913e08\")>,\n",
       " <selenium.webdriver.remote.webelement.WebElement (session=\"53774c3dc730da72386849e9dd3e2d4c\", element=\"00af38eb-907c-4c5c-b203-8b70a87cb0e7\")>,\n",
       " <selenium.webdriver.remote.webelement.WebElement (session=\"53774c3dc730da72386849e9dd3e2d4c\", element=\"ae0ff3a7-8e42-4bad-9e89-57bf3a7008ac\")>,\n",
       " <selenium.webdriver.remote.webelement.WebElement (session=\"53774c3dc730da72386849e9dd3e2d4c\", element=\"2229730c-741d-4393-8b43-c3422ea59064\")>,\n",
       " <selenium.webdriver.remote.webelement.WebElement (session=\"53774c3dc730da72386849e9dd3e2d4c\", element=\"4b98608b-3e88-4070-a1d4-e629773e8ef8\")>,\n",
       " <selenium.webdriver.remote.webelement.WebElement (session=\"53774c3dc730da72386849e9dd3e2d4c\", element=\"e7196f0b-4aba-4fb7-b9c3-8f6759d10b2a\")>,\n",
       " <selenium.webdriver.remote.webelement.WebElement (session=\"53774c3dc730da72386849e9dd3e2d4c\", element=\"0789e320-a292-49dd-a3fc-067ec8f40809\")>,\n",
       " <selenium.webdriver.remote.webelement.WebElement (session=\"53774c3dc730da72386849e9dd3e2d4c\", element=\"151644b2-3497-465b-9a78-1f7e56b6dd03\")>,\n",
       " <selenium.webdriver.remote.webelement.WebElement (session=\"53774c3dc730da72386849e9dd3e2d4c\", element=\"3e81fbc8-cd89-4e63-b06d-a59dfc40d342\")>,\n",
       " <selenium.webdriver.remote.webelement.WebElement (session=\"53774c3dc730da72386849e9dd3e2d4c\", element=\"54f6eb35-301d-4eea-bbd2-6ab0d3d44e2a\")>,\n",
       " <selenium.webdriver.remote.webelement.WebElement (session=\"53774c3dc730da72386849e9dd3e2d4c\", element=\"49640f8b-add8-4af2-84a8-c3a5b1ff4111\")>,\n",
       " <selenium.webdriver.remote.webelement.WebElement (session=\"53774c3dc730da72386849e9dd3e2d4c\", element=\"4269774a-a31f-4d47-a62c-1bd7de256dcf\")>,\n",
       " <selenium.webdriver.remote.webelement.WebElement (session=\"53774c3dc730da72386849e9dd3e2d4c\", element=\"18763331-e6ae-426f-a393-5e2ece223038\")>,\n",
       " <selenium.webdriver.remote.webelement.WebElement (session=\"53774c3dc730da72386849e9dd3e2d4c\", element=\"89ae23af-6d38-4c01-9826-a88789c25b2b\")>,\n",
       " <selenium.webdriver.remote.webelement.WebElement (session=\"53774c3dc730da72386849e9dd3e2d4c\", element=\"be4b5d60-067c-42f9-a182-340ad07866d3\")>]"
      ]
     },
     "execution_count": 8,
     "metadata": {},
     "output_type": "execute_result"
    }
   ],
   "source": [
    "header2=browser.find_elements(\"xpath\",\"//div[@class='td-wrap-in']\")\n",
    "header2"
   ]
  },
  {
   "cell_type": "code",
   "execution_count": 9,
   "id": "a7838e95",
   "metadata": {},
   "outputs": [
    {
     "data": {
      "text/plain": [
       "['87', '97.4', '62.9', '72.6', '84.2', '98.7', '100', '81.1', '99']"
      ]
     },
     "execution_count": 9,
     "metadata": {},
     "output_type": "execute_result"
    }
   ],
   "source": [
    "#PARSING DATA\n",
    "value_head=[]\n",
    "for data in header2:\n",
    "    #get the text data\n",
    "    temp=data.text\n",
    "    value_head.append(temp)\n",
    "value_head=value_head[1:10]\n",
    "value_head"
   ]
  },
  {
   "cell_type": "code",
   "execution_count": 10,
   "id": "5c9005a7",
   "metadata": {},
   "outputs": [
    {
     "data": {
      "text/plain": [
       "{'Overall Score': '87',\n",
       " 'Academic Reputation': '97.4',\n",
       " 'Employer Reputation': '62.9',\n",
       " 'Citations per Faculty': '72.6',\n",
       " 'Faculty Student Ratio': '84.2',\n",
       " 'International Students Ratio': '98.7',\n",
       " 'International Faculty Ratio': '100',\n",
       " 'International Research Network\\nUnweighted': '81.1',\n",
       " 'Employment Outcomes\\nUnweighted': '99'}"
      ]
     },
     "execution_count": 10,
     "metadata": {},
     "output_type": "execute_result"
    }
   ],
   "source": [
    "d={}\n",
    "for i in range(len(column_head)):\n",
    "    d[column_head[i]]=value_head[i]\n",
    "d"
   ]
  },
  {
   "cell_type": "code",
   "execution_count": 11,
   "id": "e35ef6e7",
   "metadata": {},
   "outputs": [
    {
     "data": {
      "text/plain": [
       "'{\"Overall Score\": \"87\", \"Academic Reputation\": \"97.4\", \"Employer Reputation\": \"62.9\", \"Citations per Faculty\": \"72.6\", \"Faculty Student Ratio\": \"84.2\", \"International Students Ratio\": \"98.7\", \"International Faculty Ratio\": \"100\", \"International Research Network\\\\nUnweighted\": \"81.1\", \"Employment Outcomes\\\\nUnweighted\": \"99\"}'"
      ]
     },
     "execution_count": 11,
     "metadata": {},
     "output_type": "execute_result"
    }
   ],
   "source": [
    "s1=json.dumps(d)\n",
    "s1"
   ]
  },
  {
   "cell_type": "code",
   "execution_count": 12,
   "id": "ce4a11f2",
   "metadata": {},
   "outputs": [],
   "source": [
    "with open('The University of Hong Kong.json','w') as f:\n",
    "    json.dump(d,f)"
   ]
  },
  {
   "cell_type": "code",
   "execution_count": null,
   "id": "5f3a49b3",
   "metadata": {},
   "outputs": [],
   "source": []
  }
 ],
 "metadata": {
  "kernelspec": {
   "display_name": "Python 3 (ipykernel)",
   "language": "python",
   "name": "python3"
  },
  "language_info": {
   "codemirror_mode": {
    "name": "ipython",
    "version": 3
   },
   "file_extension": ".py",
   "mimetype": "text/x-python",
   "name": "python",
   "nbconvert_exporter": "python",
   "pygments_lexer": "ipython3",
   "version": "3.9.12"
  }
 },
 "nbformat": 4,
 "nbformat_minor": 5
}
