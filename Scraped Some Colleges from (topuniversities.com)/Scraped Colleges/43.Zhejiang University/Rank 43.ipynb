{
 "cells": [
  {
   "cell_type": "code",
   "execution_count": 1,
   "id": "3082f961",
   "metadata": {},
   "outputs": [],
   "source": [
    "from selenium import webdriver\n",
    "from selenium.webdriver.chrome.service import Service\n",
    "import pandas as pd\n",
    "import json\n"
   ]
  },
  {
   "cell_type": "code",
   "execution_count": 2,
   "id": "72d5b56c",
   "metadata": {},
   "outputs": [],
   "source": [
    "path = Service('C:\\chromedriver.exe')"
   ]
  },
  {
   "cell_type": "code",
   "execution_count": 3,
   "id": "8d852fb3",
   "metadata": {},
   "outputs": [],
   "source": [
    "# set path for the driver\n",
    "browser = webdriver.Chrome(service = path)"
   ]
  },
  {
   "cell_type": "code",
   "execution_count": 4,
   "id": "f0c891f1",
   "metadata": {},
   "outputs": [],
   "source": [
    "\n",
    "url = \"https://www.topuniversities.com/university-rankings/world-university-rankings/2023\""
   ]
  },
  {
   "cell_type": "code",
   "execution_count": 5,
   "id": "6535ec04",
   "metadata": {},
   "outputs": [],
   "source": [
    "# open the page url ion chrome\n",
    "browser.get(url)"
   ]
  },
  {
   "cell_type": "code",
   "execution_count": 7,
   "id": "0fd3855d",
   "metadata": {},
   "outputs": [
    {
     "data": {
      "text/plain": [
       "[<selenium.webdriver.remote.webelement.WebElement (session=\"4357ca9faddd9fe427a2df9244cf510c\", element=\"8110e52e-82f2-40fe-8623-d963312a695e\")>,\n",
       " <selenium.webdriver.remote.webelement.WebElement (session=\"4357ca9faddd9fe427a2df9244cf510c\", element=\"1aaf44cb-c710-42ee-9fc5-244020eb77f0\")>,\n",
       " <selenium.webdriver.remote.webelement.WebElement (session=\"4357ca9faddd9fe427a2df9244cf510c\", element=\"2b88f92f-a377-4a11-9766-44be29f3ca4c\")>,\n",
       " <selenium.webdriver.remote.webelement.WebElement (session=\"4357ca9faddd9fe427a2df9244cf510c\", element=\"368e37d9-09c4-4666-b813-52a90492ee42\")>,\n",
       " <selenium.webdriver.remote.webelement.WebElement (session=\"4357ca9faddd9fe427a2df9244cf510c\", element=\"047177a6-e254-4fcb-83cb-b9081d309aa8\")>,\n",
       " <selenium.webdriver.remote.webelement.WebElement (session=\"4357ca9faddd9fe427a2df9244cf510c\", element=\"20c68ddf-9cd1-4165-973b-048dfdc6671f\")>,\n",
       " <selenium.webdriver.remote.webelement.WebElement (session=\"4357ca9faddd9fe427a2df9244cf510c\", element=\"b2aa0481-e0b0-4159-a557-bebc50034e33\")>,\n",
       " <selenium.webdriver.remote.webelement.WebElement (session=\"4357ca9faddd9fe427a2df9244cf510c\", element=\"2b53da82-b2d1-46f5-a9f0-809a53901036\")>,\n",
       " <selenium.webdriver.remote.webelement.WebElement (session=\"4357ca9faddd9fe427a2df9244cf510c\", element=\"afd2edef-7e86-4934-91fd-23aead177266\")>]"
      ]
     },
     "execution_count": 7,
     "metadata": {},
     "output_type": "execute_result"
    }
   ],
   "source": [
    "# GET EACH COLLEGE SPECIFICATION HEADERS\n",
    "header=browser.find_elements(\"xpath\",\"//div[@class='_click-function_ind']\")\n",
    "header"
   ]
  },
  {
   "cell_type": "code",
   "execution_count": 8,
   "id": "c2e5ceb2",
   "metadata": {},
   "outputs": [
    {
     "data": {
      "text/plain": [
       "['Overall Score',\n",
       " 'Academic Reputation',\n",
       " 'Employer Reputation',\n",
       " 'Citations per Faculty',\n",
       " 'Faculty Student Ratio',\n",
       " 'International Students Ratio',\n",
       " 'International Faculty Ratio',\n",
       " 'International Research Network\\nUnweighted',\n",
       " 'Employment Outcomes\\nUnweighted']"
      ]
     },
     "execution_count": 8,
     "metadata": {},
     "output_type": "execute_result"
    }
   ],
   "source": [
    "#PARSING DATA\n",
    "column_head=[]\n",
    "for data in header:\n",
    "    #get the text data\n",
    "    temp=data.text\n",
    "    column_head.append(temp)\n",
    "column_head"
   ]
  },
  {
   "cell_type": "code",
   "execution_count": 9,
   "id": "d1239d01",
   "metadata": {},
   "outputs": [
    {
     "data": {
      "text/plain": [
       "[<selenium.webdriver.remote.webelement.WebElement (session=\"4357ca9faddd9fe427a2df9244cf510c\", element=\"34b616ed-4e1c-41f6-aada-3cf38fd20b64\")>,\n",
       " <selenium.webdriver.remote.webelement.WebElement (session=\"4357ca9faddd9fe427a2df9244cf510c\", element=\"2d80a93b-662f-477c-8d2d-e53053f9d05c\")>,\n",
       " <selenium.webdriver.remote.webelement.WebElement (session=\"4357ca9faddd9fe427a2df9244cf510c\", element=\"d47730ff-eb63-4f8d-a509-3d56223464f4\")>,\n",
       " <selenium.webdriver.remote.webelement.WebElement (session=\"4357ca9faddd9fe427a2df9244cf510c\", element=\"2b00841a-0285-4dc7-a9cf-0d9930d29a46\")>,\n",
       " <selenium.webdriver.remote.webelement.WebElement (session=\"4357ca9faddd9fe427a2df9244cf510c\", element=\"00ab631f-209b-4930-bcd5-7c974ba3d503\")>,\n",
       " <selenium.webdriver.remote.webelement.WebElement (session=\"4357ca9faddd9fe427a2df9244cf510c\", element=\"6efccabf-a34a-4be9-9a85-28f530ec5556\")>,\n",
       " <selenium.webdriver.remote.webelement.WebElement (session=\"4357ca9faddd9fe427a2df9244cf510c\", element=\"097102a9-9ba2-4dc0-a7d4-29d392e6fa3d\")>,\n",
       " <selenium.webdriver.remote.webelement.WebElement (session=\"4357ca9faddd9fe427a2df9244cf510c\", element=\"bfe735c9-4021-42ba-baf6-fec7b1ad9533\")>,\n",
       " <selenium.webdriver.remote.webelement.WebElement (session=\"4357ca9faddd9fe427a2df9244cf510c\", element=\"cb95336b-f234-4cfa-bc3e-532f99014c45\")>,\n",
       " <selenium.webdriver.remote.webelement.WebElement (session=\"4357ca9faddd9fe427a2df9244cf510c\", element=\"99c1e836-9d2d-488b-a039-7b1ca8dfd971\")>,\n",
       " <selenium.webdriver.remote.webelement.WebElement (session=\"4357ca9faddd9fe427a2df9244cf510c\", element=\"48b2b158-8082-49e1-b379-b180ae387c91\")>,\n",
       " <selenium.webdriver.remote.webelement.WebElement (session=\"4357ca9faddd9fe427a2df9244cf510c\", element=\"e8cb9637-28cf-4bf4-92b2-7f5af9a9042d\")>,\n",
       " <selenium.webdriver.remote.webelement.WebElement (session=\"4357ca9faddd9fe427a2df9244cf510c\", element=\"7821263a-015b-4f2e-9aa9-a7d5e059cd3d\")>,\n",
       " <selenium.webdriver.remote.webelement.WebElement (session=\"4357ca9faddd9fe427a2df9244cf510c\", element=\"e0a52920-eb09-4184-9383-f21a2769cd78\")>,\n",
       " <selenium.webdriver.remote.webelement.WebElement (session=\"4357ca9faddd9fe427a2df9244cf510c\", element=\"b220a5c1-de6f-49cb-a11d-162cf1f151cc\")>,\n",
       " <selenium.webdriver.remote.webelement.WebElement (session=\"4357ca9faddd9fe427a2df9244cf510c\", element=\"27eb8001-e681-48ce-bc38-66e5f3e088ca\")>,\n",
       " <selenium.webdriver.remote.webelement.WebElement (session=\"4357ca9faddd9fe427a2df9244cf510c\", element=\"0f5a9312-b0e6-4c6a-ba93-6984ced27f81\")>,\n",
       " <selenium.webdriver.remote.webelement.WebElement (session=\"4357ca9faddd9fe427a2df9244cf510c\", element=\"fdeed8a9-3682-4097-bd15-d9702690e925\")>,\n",
       " <selenium.webdriver.remote.webelement.WebElement (session=\"4357ca9faddd9fe427a2df9244cf510c\", element=\"6579a5c0-f603-4aad-b48c-eaaae247cc22\")>,\n",
       " <selenium.webdriver.remote.webelement.WebElement (session=\"4357ca9faddd9fe427a2df9244cf510c\", element=\"21282efe-b39b-4d67-b499-e4135773c474\")>,\n",
       " <selenium.webdriver.remote.webelement.WebElement (session=\"4357ca9faddd9fe427a2df9244cf510c\", element=\"0de6607c-2f38-4350-afcc-96cc46e88c14\")>,\n",
       " <selenium.webdriver.remote.webelement.WebElement (session=\"4357ca9faddd9fe427a2df9244cf510c\", element=\"cbfdf915-5f60-4b7e-b513-add0822e0952\")>,\n",
       " <selenium.webdriver.remote.webelement.WebElement (session=\"4357ca9faddd9fe427a2df9244cf510c\", element=\"35e8d71a-9689-4534-9e99-54837baa9f87\")>,\n",
       " <selenium.webdriver.remote.webelement.WebElement (session=\"4357ca9faddd9fe427a2df9244cf510c\", element=\"6301f7de-0c9d-4c4a-83f7-8bdb612f1f2c\")>,\n",
       " <selenium.webdriver.remote.webelement.WebElement (session=\"4357ca9faddd9fe427a2df9244cf510c\", element=\"81313868-87c1-4fbd-912f-3afc5077ad62\")>,\n",
       " <selenium.webdriver.remote.webelement.WebElement (session=\"4357ca9faddd9fe427a2df9244cf510c\", element=\"ba0393fe-1230-4813-abc9-62b609fb4d25\")>,\n",
       " <selenium.webdriver.remote.webelement.WebElement (session=\"4357ca9faddd9fe427a2df9244cf510c\", element=\"8853c88c-7b4e-4bcf-9e77-8ff5187ce8e8\")>,\n",
       " <selenium.webdriver.remote.webelement.WebElement (session=\"4357ca9faddd9fe427a2df9244cf510c\", element=\"920e5597-43a7-4b8d-8a98-5dabf39fabad\")>,\n",
       " <selenium.webdriver.remote.webelement.WebElement (session=\"4357ca9faddd9fe427a2df9244cf510c\", element=\"140929e4-ce47-4d79-99c6-873f779e6de3\")>,\n",
       " <selenium.webdriver.remote.webelement.WebElement (session=\"4357ca9faddd9fe427a2df9244cf510c\", element=\"662436d4-59a0-480d-aa3a-b8e683e60e6a\")>,\n",
       " <selenium.webdriver.remote.webelement.WebElement (session=\"4357ca9faddd9fe427a2df9244cf510c\", element=\"438c23ec-efe4-4e72-9808-52842c832a60\")>,\n",
       " <selenium.webdriver.remote.webelement.WebElement (session=\"4357ca9faddd9fe427a2df9244cf510c\", element=\"f784cfab-dbc3-461e-921d-a9c7f7ae42d3\")>,\n",
       " <selenium.webdriver.remote.webelement.WebElement (session=\"4357ca9faddd9fe427a2df9244cf510c\", element=\"eae26288-c8aa-41c1-99e5-90a66a597bb3\")>,\n",
       " <selenium.webdriver.remote.webelement.WebElement (session=\"4357ca9faddd9fe427a2df9244cf510c\", element=\"c9f94a36-acda-48d0-a1c0-c6cf59a2acf9\")>,\n",
       " <selenium.webdriver.remote.webelement.WebElement (session=\"4357ca9faddd9fe427a2df9244cf510c\", element=\"3bca6702-f8cc-4686-a296-74d1a23c5df9\")>,\n",
       " <selenium.webdriver.remote.webelement.WebElement (session=\"4357ca9faddd9fe427a2df9244cf510c\", element=\"5280a2bf-d6e2-4a4e-b083-c5535fbae41f\")>,\n",
       " <selenium.webdriver.remote.webelement.WebElement (session=\"4357ca9faddd9fe427a2df9244cf510c\", element=\"9a62995a-5d8d-418a-b3a4-db4493e990d5\")>,\n",
       " <selenium.webdriver.remote.webelement.WebElement (session=\"4357ca9faddd9fe427a2df9244cf510c\", element=\"97cb8c0b-1837-460d-b3da-d4d27efc70ea\")>,\n",
       " <selenium.webdriver.remote.webelement.WebElement (session=\"4357ca9faddd9fe427a2df9244cf510c\", element=\"5b41f9e6-d836-4c87-a039-04a37f78e519\")>,\n",
       " <selenium.webdriver.remote.webelement.WebElement (session=\"4357ca9faddd9fe427a2df9244cf510c\", element=\"63854ab3-2aad-4a8b-bba7-86187155177e\")>,\n",
       " <selenium.webdriver.remote.webelement.WebElement (session=\"4357ca9faddd9fe427a2df9244cf510c\", element=\"5ce04abc-ccc6-48f8-80be-18f5f92fc312\")>,\n",
       " <selenium.webdriver.remote.webelement.WebElement (session=\"4357ca9faddd9fe427a2df9244cf510c\", element=\"72cb6d4c-a831-4937-80ef-d135390d7f78\")>,\n",
       " <selenium.webdriver.remote.webelement.WebElement (session=\"4357ca9faddd9fe427a2df9244cf510c\", element=\"6b90686b-558f-4c4b-bd3c-1dd599d8b328\")>,\n",
       " <selenium.webdriver.remote.webelement.WebElement (session=\"4357ca9faddd9fe427a2df9244cf510c\", element=\"9ec23e8c-5160-40f2-a998-04a8dd08203b\")>,\n",
       " <selenium.webdriver.remote.webelement.WebElement (session=\"4357ca9faddd9fe427a2df9244cf510c\", element=\"a0917551-5851-4b9b-918d-9ce177c86c34\")>,\n",
       " <selenium.webdriver.remote.webelement.WebElement (session=\"4357ca9faddd9fe427a2df9244cf510c\", element=\"48f534da-9c84-4da1-8fa6-ca5cdb81f5cf\")>,\n",
       " <selenium.webdriver.remote.webelement.WebElement (session=\"4357ca9faddd9fe427a2df9244cf510c\", element=\"7c915529-0fd1-42ae-8992-10b5aef07cec\")>,\n",
       " <selenium.webdriver.remote.webelement.WebElement (session=\"4357ca9faddd9fe427a2df9244cf510c\", element=\"76247270-2da0-416c-bd8e-ce5977fbb87f\")>,\n",
       " <selenium.webdriver.remote.webelement.WebElement (session=\"4357ca9faddd9fe427a2df9244cf510c\", element=\"ca572fd6-fd3e-41fc-acb5-d386814871f3\")>,\n",
       " <selenium.webdriver.remote.webelement.WebElement (session=\"4357ca9faddd9fe427a2df9244cf510c\", element=\"c951d8a5-621f-420c-9db7-d1765ed5cbb4\")>,\n",
       " <selenium.webdriver.remote.webelement.WebElement (session=\"4357ca9faddd9fe427a2df9244cf510c\", element=\"ae725506-b894-4ade-97ca-40e36134ed3c\")>,\n",
       " <selenium.webdriver.remote.webelement.WebElement (session=\"4357ca9faddd9fe427a2df9244cf510c\", element=\"bd3fdb70-4676-4b94-9768-65e9f3e0c949\")>,\n",
       " <selenium.webdriver.remote.webelement.WebElement (session=\"4357ca9faddd9fe427a2df9244cf510c\", element=\"92835fb1-80c3-4ff1-b891-8f42174861c5\")>,\n",
       " <selenium.webdriver.remote.webelement.WebElement (session=\"4357ca9faddd9fe427a2df9244cf510c\", element=\"8109256f-dd99-4d6f-a08d-d213a8bb3808\")>,\n",
       " <selenium.webdriver.remote.webelement.WebElement (session=\"4357ca9faddd9fe427a2df9244cf510c\", element=\"15edea0c-f163-4dc5-ba57-ef1e4cb94309\")>,\n",
       " <selenium.webdriver.remote.webelement.WebElement (session=\"4357ca9faddd9fe427a2df9244cf510c\", element=\"772f62da-b996-46a2-88c2-1c8455ba3286\")>,\n",
       " <selenium.webdriver.remote.webelement.WebElement (session=\"4357ca9faddd9fe427a2df9244cf510c\", element=\"3a979a4b-24d7-418b-bbec-eb9b0f1979ec\")>,\n",
       " <selenium.webdriver.remote.webelement.WebElement (session=\"4357ca9faddd9fe427a2df9244cf510c\", element=\"bf346eb3-2916-47d5-a8a7-148b91bee1c7\")>,\n",
       " <selenium.webdriver.remote.webelement.WebElement (session=\"4357ca9faddd9fe427a2df9244cf510c\", element=\"5bf63780-a49c-457a-8ae4-c1559cf9d3fa\")>,\n",
       " <selenium.webdriver.remote.webelement.WebElement (session=\"4357ca9faddd9fe427a2df9244cf510c\", element=\"0590cd18-e802-4a8a-b9cb-c5c46ac79097\")>,\n",
       " <selenium.webdriver.remote.webelement.WebElement (session=\"4357ca9faddd9fe427a2df9244cf510c\", element=\"6c62b14a-7e1c-43e5-9b7a-c6d3bdc27f26\")>,\n",
       " <selenium.webdriver.remote.webelement.WebElement (session=\"4357ca9faddd9fe427a2df9244cf510c\", element=\"bc36a47f-f6f1-4977-afce-8ba842a75271\")>,\n",
       " <selenium.webdriver.remote.webelement.WebElement (session=\"4357ca9faddd9fe427a2df9244cf510c\", element=\"85fb9e34-a941-4ead-bd6f-c993502fa562\")>,\n",
       " <selenium.webdriver.remote.webelement.WebElement (session=\"4357ca9faddd9fe427a2df9244cf510c\", element=\"8f3c10bc-94de-43e3-8021-a9ed01ac872c\")>,\n",
       " <selenium.webdriver.remote.webelement.WebElement (session=\"4357ca9faddd9fe427a2df9244cf510c\", element=\"15920c48-bb94-4921-9775-b4ec896faa57\")>,\n",
       " <selenium.webdriver.remote.webelement.WebElement (session=\"4357ca9faddd9fe427a2df9244cf510c\", element=\"6edc1aed-02bf-4c87-b30b-495058e3d8cb\")>,\n",
       " <selenium.webdriver.remote.webelement.WebElement (session=\"4357ca9faddd9fe427a2df9244cf510c\", element=\"f4addeae-f95e-4761-972c-6ffd15fb4c20\")>,\n",
       " <selenium.webdriver.remote.webelement.WebElement (session=\"4357ca9faddd9fe427a2df9244cf510c\", element=\"74fe8c70-9bd6-45fe-9d30-7f4fd6f8ab3d\")>,\n",
       " <selenium.webdriver.remote.webelement.WebElement (session=\"4357ca9faddd9fe427a2df9244cf510c\", element=\"739df913-a2cf-4fe8-ad18-76e367398dfd\")>,\n",
       " <selenium.webdriver.remote.webelement.WebElement (session=\"4357ca9faddd9fe427a2df9244cf510c\", element=\"cd59b31e-87a1-451b-8247-fac039d445f4\")>,\n",
       " <selenium.webdriver.remote.webelement.WebElement (session=\"4357ca9faddd9fe427a2df9244cf510c\", element=\"e6d1539e-cab0-4a69-bb20-cc58989a3068\")>,\n",
       " <selenium.webdriver.remote.webelement.WebElement (session=\"4357ca9faddd9fe427a2df9244cf510c\", element=\"aa699e43-e475-482b-82ff-4f8bb1e3ffbe\")>,\n",
       " <selenium.webdriver.remote.webelement.WebElement (session=\"4357ca9faddd9fe427a2df9244cf510c\", element=\"de56b070-0833-40fb-8531-d17d8d78e111\")>,\n",
       " <selenium.webdriver.remote.webelement.WebElement (session=\"4357ca9faddd9fe427a2df9244cf510c\", element=\"b80b4058-323e-44b1-935b-e146fa22fd89\")>,\n",
       " <selenium.webdriver.remote.webelement.WebElement (session=\"4357ca9faddd9fe427a2df9244cf510c\", element=\"d108e77a-72d3-4b22-a366-41b610bd6eb0\")>,\n",
       " <selenium.webdriver.remote.webelement.WebElement (session=\"4357ca9faddd9fe427a2df9244cf510c\", element=\"a294c6c6-2c83-4767-b371-4e9ad0b1cba5\")>,\n",
       " <selenium.webdriver.remote.webelement.WebElement (session=\"4357ca9faddd9fe427a2df9244cf510c\", element=\"9d41458c-144d-4cdd-8ebe-ef645658e0f7\")>,\n",
       " <selenium.webdriver.remote.webelement.WebElement (session=\"4357ca9faddd9fe427a2df9244cf510c\", element=\"550347a2-2e18-45d8-947a-e501e4a0eb1d\")>,\n",
       " <selenium.webdriver.remote.webelement.WebElement (session=\"4357ca9faddd9fe427a2df9244cf510c\", element=\"966e52c8-568f-4bcc-acd0-d839dcd2d2fc\")>,\n",
       " <selenium.webdriver.remote.webelement.WebElement (session=\"4357ca9faddd9fe427a2df9244cf510c\", element=\"9dc0197e-ca7e-4f7c-ab64-60d4ee0e1c85\")>,\n",
       " <selenium.webdriver.remote.webelement.WebElement (session=\"4357ca9faddd9fe427a2df9244cf510c\", element=\"be0e462a-4d10-4efa-8783-78b65f427856\")>,\n",
       " <selenium.webdriver.remote.webelement.WebElement (session=\"4357ca9faddd9fe427a2df9244cf510c\", element=\"5f8b9004-8dc8-4ac1-8c00-d81fc0c74fe7\")>,\n",
       " <selenium.webdriver.remote.webelement.WebElement (session=\"4357ca9faddd9fe427a2df9244cf510c\", element=\"1c247b6b-529c-40e8-a253-68296f264e10\")>,\n",
       " <selenium.webdriver.remote.webelement.WebElement (session=\"4357ca9faddd9fe427a2df9244cf510c\", element=\"dff2f6d6-0838-4d12-9fe1-edf9a62b53b6\")>,\n",
       " <selenium.webdriver.remote.webelement.WebElement (session=\"4357ca9faddd9fe427a2df9244cf510c\", element=\"7f4d22d5-b38d-49b5-8683-6aa8f290bed6\")>,\n",
       " <selenium.webdriver.remote.webelement.WebElement (session=\"4357ca9faddd9fe427a2df9244cf510c\", element=\"23d7cd0d-1559-43d3-b10c-9c12712456b4\")>,\n",
       " <selenium.webdriver.remote.webelement.WebElement (session=\"4357ca9faddd9fe427a2df9244cf510c\", element=\"ed8b80a0-2065-4e76-ae0b-52df360cddc8\")>,\n",
       " <selenium.webdriver.remote.webelement.WebElement (session=\"4357ca9faddd9fe427a2df9244cf510c\", element=\"ff83a686-c01a-4dbc-b843-732141258a57\")>,\n",
       " <selenium.webdriver.remote.webelement.WebElement (session=\"4357ca9faddd9fe427a2df9244cf510c\", element=\"acfb98cb-8eab-41e5-87e5-831d6dc14c85\")>,\n",
       " <selenium.webdriver.remote.webelement.WebElement (session=\"4357ca9faddd9fe427a2df9244cf510c\", element=\"ae4b7616-a0e1-4baa-8537-0bd381833df0\")>,\n",
       " <selenium.webdriver.remote.webelement.WebElement (session=\"4357ca9faddd9fe427a2df9244cf510c\", element=\"09b91d91-b52c-458c-80ca-5a558c518379\")>,\n",
       " <selenium.webdriver.remote.webelement.WebElement (session=\"4357ca9faddd9fe427a2df9244cf510c\", element=\"a3e0b13a-4ab3-4cbb-bd35-9cd7f7aefdcc\")>,\n",
       " <selenium.webdriver.remote.webelement.WebElement (session=\"4357ca9faddd9fe427a2df9244cf510c\", element=\"51f66fdd-e6ed-4e63-881c-bcad22f89062\")>,\n",
       " <selenium.webdriver.remote.webelement.WebElement (session=\"4357ca9faddd9fe427a2df9244cf510c\", element=\"cf12ba1c-422f-47f6-b1f0-ddd0f3217a51\")>,\n",
       " <selenium.webdriver.remote.webelement.WebElement (session=\"4357ca9faddd9fe427a2df9244cf510c\", element=\"b23fba21-5e47-45e6-b45e-729e1992bb0e\")>,\n",
       " <selenium.webdriver.remote.webelement.WebElement (session=\"4357ca9faddd9fe427a2df9244cf510c\", element=\"cd8f923f-97e5-4fa8-a436-b4ae74c311ce\")>,\n",
       " <selenium.webdriver.remote.webelement.WebElement (session=\"4357ca9faddd9fe427a2df9244cf510c\", element=\"2da51e8a-ddd1-4ccf-b6d5-8c913183a439\")>,\n",
       " <selenium.webdriver.remote.webelement.WebElement (session=\"4357ca9faddd9fe427a2df9244cf510c\", element=\"0949a61c-9251-46e1-ac45-5d0ffa5f6990\")>,\n",
       " <selenium.webdriver.remote.webelement.WebElement (session=\"4357ca9faddd9fe427a2df9244cf510c\", element=\"06fa6a49-2dc6-48f8-83f2-399085b7cfe1\")>,\n",
       " <selenium.webdriver.remote.webelement.WebElement (session=\"4357ca9faddd9fe427a2df9244cf510c\", element=\"ea11a165-2c74-4184-bdca-692884526e84\")>]"
      ]
     },
     "execution_count": 9,
     "metadata": {},
     "output_type": "execute_result"
    }
   ],
   "source": [
    "header2=browser.find_elements(\"xpath\",\"//div[@class='td-wrap-in']\")\n",
    "header2"
   ]
  },
  {
   "cell_type": "code",
   "execution_count": 10,
   "id": "748d16a7",
   "metadata": {},
   "outputs": [
    {
     "data": {
      "text/plain": [
       "['79.3', '72.2', '95.3', '88.4', '78.7', '42.5', '99.1', '80.8', '42.3']"
      ]
     },
     "execution_count": 10,
     "metadata": {},
     "output_type": "execute_result"
    }
   ],
   "source": [
    "#PARSING DATA\n",
    "value_head=[]\n",
    "for data in header2:\n",
    "    #get the text data\n",
    "    temp=data.text\n",
    "    value_head.append(temp)\n",
    "value_head=value_head[21:30]\n",
    "value_head"
   ]
  },
  {
   "cell_type": "code",
   "execution_count": 11,
   "id": "e149512d",
   "metadata": {},
   "outputs": [
    {
     "data": {
      "text/plain": [
       "{'Overall Score': '79.3',\n",
       " 'Academic Reputation': '72.2',\n",
       " 'Employer Reputation': '95.3',\n",
       " 'Citations per Faculty': '88.4',\n",
       " 'Faculty Student Ratio': '78.7',\n",
       " 'International Students Ratio': '42.5',\n",
       " 'International Faculty Ratio': '99.1',\n",
       " 'International Research Network\\nUnweighted': '80.8',\n",
       " 'Employment Outcomes\\nUnweighted': '42.3'}"
      ]
     },
     "execution_count": 11,
     "metadata": {},
     "output_type": "execute_result"
    }
   ],
   "source": [
    "d={}\n",
    "for i in range(len(column_head)):\n",
    "    d[column_head[i]]=value_head[i]\n",
    "d"
   ]
  },
  {
   "cell_type": "code",
   "execution_count": 12,
   "id": "0d305018",
   "metadata": {},
   "outputs": [
    {
     "data": {
      "text/plain": [
       "'{\"Overall Score\": \"79.3\", \"Academic Reputation\": \"72.2\", \"Employer Reputation\": \"95.3\", \"Citations per Faculty\": \"88.4\", \"Faculty Student Ratio\": \"78.7\", \"International Students Ratio\": \"42.5\", \"International Faculty Ratio\": \"99.1\", \"International Research Network\\\\nUnweighted\": \"80.8\", \"Employment Outcomes\\\\nUnweighted\": \"42.3\"}'"
      ]
     },
     "execution_count": 12,
     "metadata": {},
     "output_type": "execute_result"
    }
   ],
   "source": [
    "s1=json.dumps(d)\n",
    "s1\n"
   ]
  },
  {
   "cell_type": "code",
   "execution_count": 13,
   "id": "4d323b10",
   "metadata": {},
   "outputs": [],
   "source": [
    "with open('Zhejiang University.json','w') as f:\n",
    "    json.dump(d,f)\n"
   ]
  },
  {
   "cell_type": "code",
   "execution_count": null,
   "id": "e26c7a2c",
   "metadata": {},
   "outputs": [],
   "source": []
  }
 ],
 "metadata": {
  "kernelspec": {
   "display_name": "Python 3 (ipykernel)",
   "language": "python",
   "name": "python3"
  },
  "language_info": {
   "codemirror_mode": {
    "name": "ipython",
    "version": 3
   },
   "file_extension": ".py",
   "mimetype": "text/x-python",
   "name": "python",
   "nbconvert_exporter": "python",
   "pygments_lexer": "ipython3",
   "version": "3.9.12"
  }
 },
 "nbformat": 4,
 "nbformat_minor": 5
}
