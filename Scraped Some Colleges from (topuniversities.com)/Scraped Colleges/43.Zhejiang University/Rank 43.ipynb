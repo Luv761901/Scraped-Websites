{
 "cells": [
  {
   "cell_type": "code",
   "execution_count": 1,
   "id": "3082f961",
   "metadata": {},
   "outputs": [],
   "source": [
    "from selenium import webdriver\n",
    "from selenium.webdriver.chrome.service import Service\n",
    "import pandas as pd\n",
    "import json\n"
   ]
  },
  {
   "cell_type": "code",
   "execution_count": 2,
   "id": "72d5b56c",
   "metadata": {},
   "outputs": [],
   "source": [
    "path = Service('C:\\chromedriver.exe')"
   ]
  },
  {
   "cell_type": "code",
   "execution_count": 3,
   "id": "8d852fb3",
   "metadata": {},
   "outputs": [],
   "source": [
    "# set path for the driver\n",
    "browser = webdriver.Chrome(service = path)"
   ]
  },
  {
   "cell_type": "code",
   "execution_count": 4,
   "id": "f0c891f1",
   "metadata": {},
   "outputs": [],
   "source": [
    "\n",
    "url = \"https://www.topuniversities.com/university-rankings/world-university-rankings/2023\""
   ]
  },
  {
   "cell_type": "code",
   "execution_count": 5,
   "id": "6535ec04",
   "metadata": {},
   "outputs": [],
   "source": [
    "# open the page url ion chrome\n",
    "browser.get(url)"
   ]
  },
  {
   "cell_type": "code",
   "execution_count": 6,
   "id": "38f3ee2f",
   "metadata": {},
   "outputs": [
    {
     "data": {
      "text/plain": [
       "[<selenium.webdriver.remote.webelement.WebElement (session=\"e9690f5228c013f29cfef961c59bd0ae\", element=\"f42db86e-37e3-4678-9349-26421949868a\")>,\n",
       " <selenium.webdriver.remote.webelement.WebElement (session=\"e9690f5228c013f29cfef961c59bd0ae\", element=\"0e90e42c-9ed5-4aed-a8db-57986b4fa942\")>,\n",
       " <selenium.webdriver.remote.webelement.WebElement (session=\"e9690f5228c013f29cfef961c59bd0ae\", element=\"acf30b4b-53f7-4866-9259-9f7356cb02bb\")>,\n",
       " <selenium.webdriver.remote.webelement.WebElement (session=\"e9690f5228c013f29cfef961c59bd0ae\", element=\"e9f45063-063b-4316-9bb4-eccf4b111ff6\")>,\n",
       " <selenium.webdriver.remote.webelement.WebElement (session=\"e9690f5228c013f29cfef961c59bd0ae\", element=\"f1d3e877-8441-43b1-90ac-8cf8157290d2\")>,\n",
       " <selenium.webdriver.remote.webelement.WebElement (session=\"e9690f5228c013f29cfef961c59bd0ae\", element=\"4db0452b-be84-4e9d-8489-0f81e883e511\")>,\n",
       " <selenium.webdriver.remote.webelement.WebElement (session=\"e9690f5228c013f29cfef961c59bd0ae\", element=\"d8886d19-8f79-4d8b-98be-886937c2879d\")>,\n",
       " <selenium.webdriver.remote.webelement.WebElement (session=\"e9690f5228c013f29cfef961c59bd0ae\", element=\"d8678521-4707-4c7b-a376-ec2121111f42\")>,\n",
       " <selenium.webdriver.remote.webelement.WebElement (session=\"e9690f5228c013f29cfef961c59bd0ae\", element=\"70f38959-e264-42b7-a423-1dc98763e212\")>,\n",
       " <selenium.webdriver.remote.webelement.WebElement (session=\"e9690f5228c013f29cfef961c59bd0ae\", element=\"fad949e5-d5e0-4568-a532-105672e2bdf6\")>,\n",
       " <selenium.webdriver.remote.webelement.WebElement (session=\"e9690f5228c013f29cfef961c59bd0ae\", element=\"b5055b3c-84e2-45c0-a956-59796854928f\")>,\n",
       " <selenium.webdriver.remote.webelement.WebElement (session=\"e9690f5228c013f29cfef961c59bd0ae\", element=\"56edffa7-0651-429d-84b3-a2c7a92a2605\")>,\n",
       " <selenium.webdriver.remote.webelement.WebElement (session=\"e9690f5228c013f29cfef961c59bd0ae\", element=\"0a71617d-3ad1-456b-ab2c-374024394902\")>,\n",
       " <selenium.webdriver.remote.webelement.WebElement (session=\"e9690f5228c013f29cfef961c59bd0ae\", element=\"897cb4fc-6cce-4531-88e3-a7b8ed75a302\")>,\n",
       " <selenium.webdriver.remote.webelement.WebElement (session=\"e9690f5228c013f29cfef961c59bd0ae\", element=\"be05511f-adaa-4754-a338-911494336482\")>,\n",
       " <selenium.webdriver.remote.webelement.WebElement (session=\"e9690f5228c013f29cfef961c59bd0ae\", element=\"0868fdf2-e29e-4e24-8eea-40dab5af150a\")>,\n",
       " <selenium.webdriver.remote.webelement.WebElement (session=\"e9690f5228c013f29cfef961c59bd0ae\", element=\"31321d49-2c63-4788-b960-efa83bb6ed1d\")>,\n",
       " <selenium.webdriver.remote.webelement.WebElement (session=\"e9690f5228c013f29cfef961c59bd0ae\", element=\"854e9cdd-b3bb-4989-a2b9-b959c6c80a57\")>,\n",
       " <selenium.webdriver.remote.webelement.WebElement (session=\"e9690f5228c013f29cfef961c59bd0ae\", element=\"6741fe27-3d5a-4729-904e-446d1e418667\")>,\n",
       " <selenium.webdriver.remote.webelement.WebElement (session=\"e9690f5228c013f29cfef961c59bd0ae\", element=\"f70cfdc7-4c7c-4999-b07a-9fe9a1ab7f62\")>]"
      ]
     },
     "execution_count": 6,
     "metadata": {},
     "output_type": "execute_result"
    }
   ],
   "source": [
    "l1=browser.find_elements(\"xpath\",\"//div[@class='location ']\")\n",
    "l1\n",
    "\n"
   ]
  },
  {
   "cell_type": "code",
   "execution_count": 7,
   "id": "8a99654c",
   "metadata": {},
   "outputs": [
    {
     "data": {
      "text/plain": [
       "['Sydney, Australia',\n",
       " 'Daejeon, South Korea',\n",
       " 'Hangzhou, China (Mainland)',\n",
       " 'Los Angeles, United States',\n",
       " 'Sydney, Australia',\n",
       " 'Shanghai, China (Mainland)',\n",
       " 'Vancouver, Canada',\n",
       " 'Palaiseau Cedex, France',\n",
       " 'Munich, Germany',\n",
       " 'Durham, United States']"
      ]
     },
     "execution_count": 7,
     "metadata": {},
     "output_type": "execute_result"
    }
   ],
   "source": [
    "loc=[]\n",
    "for data in l1:\n",
    "    #get the text data\n",
    "    temp=data.text\n",
    "    loc.append(temp)\n",
    "loc=loc[10:]\n",
    "loc"
   ]
  },
  {
   "cell_type": "code",
   "execution_count": 8,
   "id": "e8f55c43",
   "metadata": {},
   "outputs": [
    {
     "data": {
      "text/plain": [
       "[<selenium.webdriver.remote.webelement.WebElement (session=\"e9690f5228c013f29cfef961c59bd0ae\", element=\"c4d7d843-4c31-49dd-aa51-18ceee0483cd\")>,\n",
       " <selenium.webdriver.remote.webelement.WebElement (session=\"e9690f5228c013f29cfef961c59bd0ae\", element=\"71a6d320-943d-41a1-bd68-825e9b5b1059\")>,\n",
       " <selenium.webdriver.remote.webelement.WebElement (session=\"e9690f5228c013f29cfef961c59bd0ae\", element=\"44080d5e-4ac0-4737-935a-aaccd41e5212\")>,\n",
       " <selenium.webdriver.remote.webelement.WebElement (session=\"e9690f5228c013f29cfef961c59bd0ae\", element=\"0b14cab7-0aab-48c8-8073-b6c365007cb8\")>,\n",
       " <selenium.webdriver.remote.webelement.WebElement (session=\"e9690f5228c013f29cfef961c59bd0ae\", element=\"c5371048-8c94-44fa-8576-d1888fc1a865\")>,\n",
       " <selenium.webdriver.remote.webelement.WebElement (session=\"e9690f5228c013f29cfef961c59bd0ae\", element=\"237df1ff-bc00-4dd9-accc-b822847cd8de\")>,\n",
       " <selenium.webdriver.remote.webelement.WebElement (session=\"e9690f5228c013f29cfef961c59bd0ae\", element=\"5ab14b39-36c9-47e8-854f-d664a2be9878\")>,\n",
       " <selenium.webdriver.remote.webelement.WebElement (session=\"e9690f5228c013f29cfef961c59bd0ae\", element=\"cb6c79df-cc7c-4914-a2d0-c482783fcbd9\")>,\n",
       " <selenium.webdriver.remote.webelement.WebElement (session=\"e9690f5228c013f29cfef961c59bd0ae\", element=\"6d3eabed-5c13-4361-9c3e-f67529b1a711\")>,\n",
       " <selenium.webdriver.remote.webelement.WebElement (session=\"e9690f5228c013f29cfef961c59bd0ae\", element=\"760f31f8-ae06-48b2-8f6f-02e3ff354960\")>]"
      ]
     },
     "execution_count": 8,
     "metadata": {},
     "output_type": "execute_result"
    }
   ],
   "source": [
    "l2=browser.find_elements(\"xpath\",\"//div[@class='_univ-rank ']\")\n",
    "l2\n"
   ]
  },
  {
   "cell_type": "code",
   "execution_count": 9,
   "id": "1ad19a67",
   "metadata": {},
   "outputs": [
    {
     "data": {
      "text/plain": [
       "['41', '=42', '=42', '44', '45', '46', '47', '48', '49', '=50']"
      ]
     },
     "execution_count": 9,
     "metadata": {},
     "output_type": "execute_result"
    }
   ],
   "source": [
    "RANK=[]\n",
    "for data in l2:\n",
    "    #get the text data\n",
    "    temp=data.text\n",
    "    RANK.append(temp)\n",
    "RANK"
   ]
  },
  {
   "cell_type": "code",
   "execution_count": 10,
   "id": "0fd3855d",
   "metadata": {},
   "outputs": [
    {
     "data": {
      "text/plain": [
       "[<selenium.webdriver.remote.webelement.WebElement (session=\"e9690f5228c013f29cfef961c59bd0ae\", element=\"7f11e557-eeb7-453a-b083-67d8cdda43fe\")>,\n",
       " <selenium.webdriver.remote.webelement.WebElement (session=\"e9690f5228c013f29cfef961c59bd0ae\", element=\"c58d9fd8-48d9-4fae-8ad4-0a02716b900f\")>,\n",
       " <selenium.webdriver.remote.webelement.WebElement (session=\"e9690f5228c013f29cfef961c59bd0ae\", element=\"9fb00fbe-cccd-40c1-8b91-fe810b639450\")>,\n",
       " <selenium.webdriver.remote.webelement.WebElement (session=\"e9690f5228c013f29cfef961c59bd0ae\", element=\"37da0e3a-a847-4905-af47-194058ea67a2\")>,\n",
       " <selenium.webdriver.remote.webelement.WebElement (session=\"e9690f5228c013f29cfef961c59bd0ae\", element=\"7dc9e5ce-d170-487d-8920-d2a082097f78\")>,\n",
       " <selenium.webdriver.remote.webelement.WebElement (session=\"e9690f5228c013f29cfef961c59bd0ae\", element=\"736c77bb-570f-44db-9883-eed2c0eff631\")>,\n",
       " <selenium.webdriver.remote.webelement.WebElement (session=\"e9690f5228c013f29cfef961c59bd0ae\", element=\"202030d9-9b57-41cd-ba70-11070feb0be6\")>,\n",
       " <selenium.webdriver.remote.webelement.WebElement (session=\"e9690f5228c013f29cfef961c59bd0ae\", element=\"684d45bd-1b98-4a6e-97f4-39b3ceccd939\")>,\n",
       " <selenium.webdriver.remote.webelement.WebElement (session=\"e9690f5228c013f29cfef961c59bd0ae\", element=\"55ce3830-13f8-464a-8123-876817f7a422\")>]"
      ]
     },
     "execution_count": 10,
     "metadata": {},
     "output_type": "execute_result"
    }
   ],
   "source": [
    "# GET EACH COLLEGE SPECIFICATION HEADERS\n",
    "header=browser.find_elements(\"xpath\",\"//div[@class='_click-function_ind']\")\n",
    "header"
   ]
  },
  {
   "cell_type": "code",
   "execution_count": 11,
   "id": "c2e5ceb2",
   "metadata": {},
   "outputs": [
    {
     "data": {
      "text/plain": [
       "['Overall Score',\n",
       " 'Academic Reputation',\n",
       " 'Employer Reputation',\n",
       " 'Citations per Faculty',\n",
       " 'Faculty Student Ratio',\n",
       " 'International Students Ratio',\n",
       " 'International Faculty Ratio',\n",
       " 'International Research Network\\nUnweighted',\n",
       " 'Employment Outcomes\\nUnweighted']"
      ]
     },
     "execution_count": 11,
     "metadata": {},
     "output_type": "execute_result"
    }
   ],
   "source": [
    "#PARSING DATA\n",
    "column_head=[]\n",
    "for data in header:\n",
    "    #get the text data\n",
    "    temp=data.text\n",
    "    column_head.append(temp)\n",
    "column_head"
   ]
  },
  {
   "cell_type": "code",
   "execution_count": 12,
   "id": "d1239d01",
   "metadata": {},
   "outputs": [
    {
     "data": {
      "text/plain": [
       "[<selenium.webdriver.remote.webelement.WebElement (session=\"e9690f5228c013f29cfef961c59bd0ae\", element=\"7799cbbd-0770-4d6f-aed0-0b2943df4dbb\")>,\n",
       " <selenium.webdriver.remote.webelement.WebElement (session=\"e9690f5228c013f29cfef961c59bd0ae\", element=\"1e3e6df6-a9f8-4a06-bfaf-d56c743ca6e1\")>,\n",
       " <selenium.webdriver.remote.webelement.WebElement (session=\"e9690f5228c013f29cfef961c59bd0ae\", element=\"bbce0e5f-7839-46cd-976c-ae4ab3b6353a\")>,\n",
       " <selenium.webdriver.remote.webelement.WebElement (session=\"e9690f5228c013f29cfef961c59bd0ae\", element=\"cc6d3f5b-6481-43f2-a70f-10acf60be6fc\")>,\n",
       " <selenium.webdriver.remote.webelement.WebElement (session=\"e9690f5228c013f29cfef961c59bd0ae\", element=\"bf777671-3cce-49de-a73c-e02700313554\")>,\n",
       " <selenium.webdriver.remote.webelement.WebElement (session=\"e9690f5228c013f29cfef961c59bd0ae\", element=\"b99206a9-d82f-4429-8263-bd65a137f655\")>,\n",
       " <selenium.webdriver.remote.webelement.WebElement (session=\"e9690f5228c013f29cfef961c59bd0ae\", element=\"7745bc75-e3bc-4828-8a48-d2c5156a8140\")>,\n",
       " <selenium.webdriver.remote.webelement.WebElement (session=\"e9690f5228c013f29cfef961c59bd0ae\", element=\"5b40ab81-6357-4358-aeff-3733ad20bdfc\")>,\n",
       " <selenium.webdriver.remote.webelement.WebElement (session=\"e9690f5228c013f29cfef961c59bd0ae\", element=\"45687e55-3cce-4159-8015-9c84151f03ac\")>,\n",
       " <selenium.webdriver.remote.webelement.WebElement (session=\"e9690f5228c013f29cfef961c59bd0ae\", element=\"27c7029f-f127-4b35-97fe-f55d36f927ef\")>,\n",
       " <selenium.webdriver.remote.webelement.WebElement (session=\"e9690f5228c013f29cfef961c59bd0ae\", element=\"951d3421-f48c-4853-ae96-e242e008c147\")>,\n",
       " <selenium.webdriver.remote.webelement.WebElement (session=\"e9690f5228c013f29cfef961c59bd0ae\", element=\"18b96886-3955-456f-b787-c64494283c8a\")>,\n",
       " <selenium.webdriver.remote.webelement.WebElement (session=\"e9690f5228c013f29cfef961c59bd0ae\", element=\"8b3e299a-7006-48c7-80e8-24526c122cac\")>,\n",
       " <selenium.webdriver.remote.webelement.WebElement (session=\"e9690f5228c013f29cfef961c59bd0ae\", element=\"6404aa5e-69ec-4e53-952e-11cce57b319e\")>,\n",
       " <selenium.webdriver.remote.webelement.WebElement (session=\"e9690f5228c013f29cfef961c59bd0ae\", element=\"64495163-5784-4c94-b47d-b79d6929ba9b\")>,\n",
       " <selenium.webdriver.remote.webelement.WebElement (session=\"e9690f5228c013f29cfef961c59bd0ae\", element=\"7050ab33-a6be-4e6e-a35a-be2478930195\")>,\n",
       " <selenium.webdriver.remote.webelement.WebElement (session=\"e9690f5228c013f29cfef961c59bd0ae\", element=\"e036c0c4-4c34-452f-b180-645c6595b013\")>,\n",
       " <selenium.webdriver.remote.webelement.WebElement (session=\"e9690f5228c013f29cfef961c59bd0ae\", element=\"045b8750-0570-4f61-9e66-16fc28166627\")>,\n",
       " <selenium.webdriver.remote.webelement.WebElement (session=\"e9690f5228c013f29cfef961c59bd0ae\", element=\"28ac7e12-de0c-48b8-8c71-04e37c10c24d\")>,\n",
       " <selenium.webdriver.remote.webelement.WebElement (session=\"e9690f5228c013f29cfef961c59bd0ae\", element=\"0d77c59d-3b68-4b1a-8b60-c67ac0972bd7\")>,\n",
       " <selenium.webdriver.remote.webelement.WebElement (session=\"e9690f5228c013f29cfef961c59bd0ae\", element=\"6a8c274a-0530-42ac-bd13-73121db3a39c\")>,\n",
       " <selenium.webdriver.remote.webelement.WebElement (session=\"e9690f5228c013f29cfef961c59bd0ae\", element=\"495a422f-e1e1-4fec-b4fd-5df4c12c64a1\")>,\n",
       " <selenium.webdriver.remote.webelement.WebElement (session=\"e9690f5228c013f29cfef961c59bd0ae\", element=\"e75d4e92-12ff-47c9-9ac0-7f27f956f551\")>,\n",
       " <selenium.webdriver.remote.webelement.WebElement (session=\"e9690f5228c013f29cfef961c59bd0ae\", element=\"c44943b7-e358-4703-afef-6ccc43ba2bae\")>,\n",
       " <selenium.webdriver.remote.webelement.WebElement (session=\"e9690f5228c013f29cfef961c59bd0ae\", element=\"36ea9a4c-0f76-4f73-9a37-a1bdfce3a275\")>,\n",
       " <selenium.webdriver.remote.webelement.WebElement (session=\"e9690f5228c013f29cfef961c59bd0ae\", element=\"5f5efdb0-1e17-4d72-a0f2-64fab4feac74\")>,\n",
       " <selenium.webdriver.remote.webelement.WebElement (session=\"e9690f5228c013f29cfef961c59bd0ae\", element=\"53a5b30b-f525-4ad5-a840-8dca1e6183e9\")>,\n",
       " <selenium.webdriver.remote.webelement.WebElement (session=\"e9690f5228c013f29cfef961c59bd0ae\", element=\"0c228bfc-ef0c-49fc-86ce-e7ba55606fef\")>,\n",
       " <selenium.webdriver.remote.webelement.WebElement (session=\"e9690f5228c013f29cfef961c59bd0ae\", element=\"d2ab20ce-6be8-4434-a013-482688bcf054\")>,\n",
       " <selenium.webdriver.remote.webelement.WebElement (session=\"e9690f5228c013f29cfef961c59bd0ae\", element=\"00b8b9e4-2a89-4547-95c1-52a46676fe47\")>,\n",
       " <selenium.webdriver.remote.webelement.WebElement (session=\"e9690f5228c013f29cfef961c59bd0ae\", element=\"36d5f2d8-c24f-4207-b7bb-9cedf8a8478e\")>,\n",
       " <selenium.webdriver.remote.webelement.WebElement (session=\"e9690f5228c013f29cfef961c59bd0ae\", element=\"cff3ce8e-012f-4f4c-ae44-312bc252541a\")>,\n",
       " <selenium.webdriver.remote.webelement.WebElement (session=\"e9690f5228c013f29cfef961c59bd0ae\", element=\"f9fa349e-2a73-47ed-bb4f-c69e64a8ef30\")>,\n",
       " <selenium.webdriver.remote.webelement.WebElement (session=\"e9690f5228c013f29cfef961c59bd0ae\", element=\"c18ba7a9-725d-4612-82c4-5ce35ec7f343\")>,\n",
       " <selenium.webdriver.remote.webelement.WebElement (session=\"e9690f5228c013f29cfef961c59bd0ae\", element=\"625100e7-5a79-401a-93f5-a55c0fe1ea72\")>,\n",
       " <selenium.webdriver.remote.webelement.WebElement (session=\"e9690f5228c013f29cfef961c59bd0ae\", element=\"a865ddd8-5fe9-46d8-b2e8-fb58cfc15f3f\")>,\n",
       " <selenium.webdriver.remote.webelement.WebElement (session=\"e9690f5228c013f29cfef961c59bd0ae\", element=\"742592a2-734a-4f4c-96d3-c033b1777846\")>,\n",
       " <selenium.webdriver.remote.webelement.WebElement (session=\"e9690f5228c013f29cfef961c59bd0ae\", element=\"df396b4e-f77d-41ce-b1dd-7065b3609a99\")>,\n",
       " <selenium.webdriver.remote.webelement.WebElement (session=\"e9690f5228c013f29cfef961c59bd0ae\", element=\"0ea556c2-9130-4e02-80db-ec9f05d68f0e\")>,\n",
       " <selenium.webdriver.remote.webelement.WebElement (session=\"e9690f5228c013f29cfef961c59bd0ae\", element=\"873d4970-b65e-4edd-b8cc-0eae01e574b3\")>,\n",
       " <selenium.webdriver.remote.webelement.WebElement (session=\"e9690f5228c013f29cfef961c59bd0ae\", element=\"9640cade-7a66-4dc8-a37e-84e79b2b4e62\")>,\n",
       " <selenium.webdriver.remote.webelement.WebElement (session=\"e9690f5228c013f29cfef961c59bd0ae\", element=\"07388b3f-b229-4d65-ac39-f3b7e732cd38\")>,\n",
       " <selenium.webdriver.remote.webelement.WebElement (session=\"e9690f5228c013f29cfef961c59bd0ae\", element=\"cd06e274-db05-4406-8a3e-0e1bc0ad70d8\")>,\n",
       " <selenium.webdriver.remote.webelement.WebElement (session=\"e9690f5228c013f29cfef961c59bd0ae\", element=\"8117a287-8388-4823-996a-7a20b410fd36\")>,\n",
       " <selenium.webdriver.remote.webelement.WebElement (session=\"e9690f5228c013f29cfef961c59bd0ae\", element=\"2b27dc16-e9c4-41aa-975b-f59b0e1d4fa1\")>,\n",
       " <selenium.webdriver.remote.webelement.WebElement (session=\"e9690f5228c013f29cfef961c59bd0ae\", element=\"9e4449f4-e876-43eb-b4e9-61890f338c77\")>,\n",
       " <selenium.webdriver.remote.webelement.WebElement (session=\"e9690f5228c013f29cfef961c59bd0ae\", element=\"5426a4ae-1cbd-4052-add4-89bcd713b212\")>,\n",
       " <selenium.webdriver.remote.webelement.WebElement (session=\"e9690f5228c013f29cfef961c59bd0ae\", element=\"fa4451b2-1d74-4f0a-8802-901c3c2d6e4c\")>,\n",
       " <selenium.webdriver.remote.webelement.WebElement (session=\"e9690f5228c013f29cfef961c59bd0ae\", element=\"67540e0e-1392-40ff-b89d-726a7af4016a\")>,\n",
       " <selenium.webdriver.remote.webelement.WebElement (session=\"e9690f5228c013f29cfef961c59bd0ae\", element=\"650a8a2f-88fc-4c3a-aee0-9ca8f20e1a45\")>,\n",
       " <selenium.webdriver.remote.webelement.WebElement (session=\"e9690f5228c013f29cfef961c59bd0ae\", element=\"4b00a5d5-1dcb-4075-a79e-ca5038d53d12\")>,\n",
       " <selenium.webdriver.remote.webelement.WebElement (session=\"e9690f5228c013f29cfef961c59bd0ae\", element=\"d25eb2db-5f5b-4e8c-aa01-a94c6f70c400\")>,\n",
       " <selenium.webdriver.remote.webelement.WebElement (session=\"e9690f5228c013f29cfef961c59bd0ae\", element=\"424a7bf9-e975-470b-b2ae-f77c40157393\")>,\n",
       " <selenium.webdriver.remote.webelement.WebElement (session=\"e9690f5228c013f29cfef961c59bd0ae\", element=\"90d524a6-763e-4af9-978f-ebcd7fe8acd7\")>,\n",
       " <selenium.webdriver.remote.webelement.WebElement (session=\"e9690f5228c013f29cfef961c59bd0ae\", element=\"5d7bb959-a8da-4bcb-9e46-8141a0cdee6a\")>,\n",
       " <selenium.webdriver.remote.webelement.WebElement (session=\"e9690f5228c013f29cfef961c59bd0ae\", element=\"351cb071-c0d8-4121-a411-77c8aa313b2f\")>,\n",
       " <selenium.webdriver.remote.webelement.WebElement (session=\"e9690f5228c013f29cfef961c59bd0ae\", element=\"b027853e-d0cf-4df2-a036-fe80272bcefb\")>,\n",
       " <selenium.webdriver.remote.webelement.WebElement (session=\"e9690f5228c013f29cfef961c59bd0ae\", element=\"2da885f0-0f3c-4a89-b1c1-4e542d39a742\")>,\n",
       " <selenium.webdriver.remote.webelement.WebElement (session=\"e9690f5228c013f29cfef961c59bd0ae\", element=\"c87e6628-2297-4924-aeb9-df99e4ada462\")>,\n",
       " <selenium.webdriver.remote.webelement.WebElement (session=\"e9690f5228c013f29cfef961c59bd0ae\", element=\"d2d0e71e-eb9a-439f-bde4-80a07e6fb632\")>,\n",
       " <selenium.webdriver.remote.webelement.WebElement (session=\"e9690f5228c013f29cfef961c59bd0ae\", element=\"e8875a08-40fb-4775-8c9f-0286a459410f\")>,\n",
       " <selenium.webdriver.remote.webelement.WebElement (session=\"e9690f5228c013f29cfef961c59bd0ae\", element=\"e5c29691-a5a9-4e85-ae9b-9c9cefae50f3\")>,\n",
       " <selenium.webdriver.remote.webelement.WebElement (session=\"e9690f5228c013f29cfef961c59bd0ae\", element=\"23850928-a787-4b30-9f89-93342b4d07b0\")>,\n",
       " <selenium.webdriver.remote.webelement.WebElement (session=\"e9690f5228c013f29cfef961c59bd0ae\", element=\"482432c4-4108-482f-998e-fd545e236d5e\")>,\n",
       " <selenium.webdriver.remote.webelement.WebElement (session=\"e9690f5228c013f29cfef961c59bd0ae\", element=\"7b4f576f-e5ff-446d-bedd-28659a7d6f9b\")>,\n",
       " <selenium.webdriver.remote.webelement.WebElement (session=\"e9690f5228c013f29cfef961c59bd0ae\", element=\"7ed108cd-87c9-47f8-b715-2a8fe04c6f28\")>,\n",
       " <selenium.webdriver.remote.webelement.WebElement (session=\"e9690f5228c013f29cfef961c59bd0ae\", element=\"9122cd40-89b4-4727-8d5b-3dde94c25656\")>,\n",
       " <selenium.webdriver.remote.webelement.WebElement (session=\"e9690f5228c013f29cfef961c59bd0ae\", element=\"c64da879-aa32-4d83-8455-2d9886273dd6\")>,\n",
       " <selenium.webdriver.remote.webelement.WebElement (session=\"e9690f5228c013f29cfef961c59bd0ae\", element=\"777ed460-9dc0-4151-9230-248f6a0b5ed5\")>,\n",
       " <selenium.webdriver.remote.webelement.WebElement (session=\"e9690f5228c013f29cfef961c59bd0ae\", element=\"d2f69387-b5d7-4422-b1a5-d7e829ed8a0b\")>,\n",
       " <selenium.webdriver.remote.webelement.WebElement (session=\"e9690f5228c013f29cfef961c59bd0ae\", element=\"742c3c51-88d9-4830-96eb-25ec9d2d6fe8\")>,\n",
       " <selenium.webdriver.remote.webelement.WebElement (session=\"e9690f5228c013f29cfef961c59bd0ae\", element=\"8ed350e2-b5cd-4577-9c81-f1750d8c2e0c\")>,\n",
       " <selenium.webdriver.remote.webelement.WebElement (session=\"e9690f5228c013f29cfef961c59bd0ae\", element=\"fd06d43b-3e35-441a-b826-dbe1fefe9d81\")>,\n",
       " <selenium.webdriver.remote.webelement.WebElement (session=\"e9690f5228c013f29cfef961c59bd0ae\", element=\"e2b17342-2610-4045-b208-0a6108e687e3\")>,\n",
       " <selenium.webdriver.remote.webelement.WebElement (session=\"e9690f5228c013f29cfef961c59bd0ae\", element=\"892f1435-26a4-43c5-8b7e-3e7dc7b2848d\")>,\n",
       " <selenium.webdriver.remote.webelement.WebElement (session=\"e9690f5228c013f29cfef961c59bd0ae\", element=\"79097d47-237b-4d00-8820-9af3f80a2eee\")>,\n",
       " <selenium.webdriver.remote.webelement.WebElement (session=\"e9690f5228c013f29cfef961c59bd0ae\", element=\"37fcbbcf-2465-464a-a3a0-bbdb36cace86\")>,\n",
       " <selenium.webdriver.remote.webelement.WebElement (session=\"e9690f5228c013f29cfef961c59bd0ae\", element=\"c2226994-eaaa-4e14-9348-a44b91d80d96\")>,\n",
       " <selenium.webdriver.remote.webelement.WebElement (session=\"e9690f5228c013f29cfef961c59bd0ae\", element=\"73c8bcc2-9967-4a78-a5c5-e361642dd895\")>,\n",
       " <selenium.webdriver.remote.webelement.WebElement (session=\"e9690f5228c013f29cfef961c59bd0ae\", element=\"9fb3a908-efa9-4c50-b3d4-34e0c55b7f98\")>,\n",
       " <selenium.webdriver.remote.webelement.WebElement (session=\"e9690f5228c013f29cfef961c59bd0ae\", element=\"b95f3392-10a7-406d-a9f2-f6177be7e886\")>,\n",
       " <selenium.webdriver.remote.webelement.WebElement (session=\"e9690f5228c013f29cfef961c59bd0ae\", element=\"0456be65-b656-4604-9cda-527308023acc\")>,\n",
       " <selenium.webdriver.remote.webelement.WebElement (session=\"e9690f5228c013f29cfef961c59bd0ae\", element=\"099b42b0-cb4e-4f8f-87e9-8b8633c86113\")>,\n",
       " <selenium.webdriver.remote.webelement.WebElement (session=\"e9690f5228c013f29cfef961c59bd0ae\", element=\"8b2abb8a-3c24-4f2c-ad16-50a2e17ac457\")>,\n",
       " <selenium.webdriver.remote.webelement.WebElement (session=\"e9690f5228c013f29cfef961c59bd0ae\", element=\"51de7755-2a61-49d2-93f6-daa01f196fb8\")>,\n",
       " <selenium.webdriver.remote.webelement.WebElement (session=\"e9690f5228c013f29cfef961c59bd0ae\", element=\"401e288d-d176-4b6c-8704-7523686633c3\")>,\n",
       " <selenium.webdriver.remote.webelement.WebElement (session=\"e9690f5228c013f29cfef961c59bd0ae\", element=\"e827ad4f-e2b7-4c3f-bc54-6fad03e2ca15\")>,\n",
       " <selenium.webdriver.remote.webelement.WebElement (session=\"e9690f5228c013f29cfef961c59bd0ae\", element=\"ba78515c-6aad-44e1-8fc0-150406310126\")>,\n",
       " <selenium.webdriver.remote.webelement.WebElement (session=\"e9690f5228c013f29cfef961c59bd0ae\", element=\"f669b551-2a07-40e8-9aee-29f1587b37ff\")>,\n",
       " <selenium.webdriver.remote.webelement.WebElement (session=\"e9690f5228c013f29cfef961c59bd0ae\", element=\"be1304bb-2c6f-45d2-805c-527ecb766273\")>,\n",
       " <selenium.webdriver.remote.webelement.WebElement (session=\"e9690f5228c013f29cfef961c59bd0ae\", element=\"a910444a-f2d1-433e-8162-a58d9e6e52ed\")>,\n",
       " <selenium.webdriver.remote.webelement.WebElement (session=\"e9690f5228c013f29cfef961c59bd0ae\", element=\"fccb6cf6-90d7-47a8-9b44-dcd91c8c5cb2\")>,\n",
       " <selenium.webdriver.remote.webelement.WebElement (session=\"e9690f5228c013f29cfef961c59bd0ae\", element=\"c5b82796-3887-4396-bf51-71b71abfaace\")>,\n",
       " <selenium.webdriver.remote.webelement.WebElement (session=\"e9690f5228c013f29cfef961c59bd0ae\", element=\"ce92b7e2-6bd2-400d-89c4-962f3651a1e6\")>,\n",
       " <selenium.webdriver.remote.webelement.WebElement (session=\"e9690f5228c013f29cfef961c59bd0ae\", element=\"f932d7a6-d298-4078-8186-7a3546d9bfea\")>,\n",
       " <selenium.webdriver.remote.webelement.WebElement (session=\"e9690f5228c013f29cfef961c59bd0ae\", element=\"e5ca802c-40b5-4d23-bab6-bf6a53ba4bba\")>,\n",
       " <selenium.webdriver.remote.webelement.WebElement (session=\"e9690f5228c013f29cfef961c59bd0ae\", element=\"a9d83712-56b4-41d1-a2ce-ae83f843da1b\")>,\n",
       " <selenium.webdriver.remote.webelement.WebElement (session=\"e9690f5228c013f29cfef961c59bd0ae\", element=\"85666ac1-3b77-4ca7-81f3-c7aea2abc52d\")>,\n",
       " <selenium.webdriver.remote.webelement.WebElement (session=\"e9690f5228c013f29cfef961c59bd0ae\", element=\"86ea6653-3f8f-4400-aef0-9c39816b61c4\")>,\n",
       " <selenium.webdriver.remote.webelement.WebElement (session=\"e9690f5228c013f29cfef961c59bd0ae\", element=\"66821bdf-cc95-4647-be01-f11fd6808bbf\")>]"
      ]
     },
     "execution_count": 12,
     "metadata": {},
     "output_type": "execute_result"
    }
   ],
   "source": [
    "header2=browser.find_elements(\"xpath\",\"//div[@class='td-wrap-in']\")\n",
    "header2"
   ]
  },
  {
   "cell_type": "code",
   "execution_count": 13,
   "id": "748d16a7",
   "metadata": {},
   "outputs": [
    {
     "data": {
      "text/plain": [
       "['79.3', '72.2', '95.3', '88.4', '78.7', '42.5', '99.1', '80.8', '42.3']"
      ]
     },
     "execution_count": 13,
     "metadata": {},
     "output_type": "execute_result"
    }
   ],
   "source": [
    "#PARSING DATA\n",
    "value_head=[]\n",
    "for data in header2:\n",
    "    #get the text data\n",
    "    temp=data.text\n",
    "    value_head.append(temp)\n",
    "value=value_head[21:30]\n",
    "value"
   ]
  },
  {
   "cell_type": "code",
   "execution_count": 14,
   "id": "e149512d",
   "metadata": {},
   "outputs": [
    {
     "data": {
      "text/plain": [
       "{'Name': 'Zhejiang University',\n",
       " 'Location': 'Hangzhou, China (Mainland)',\n",
       " 'Rank': '=42',\n",
       " 'Overall Score': '79.3',\n",
       " 'Academic Reputation': '72.2',\n",
       " 'Employer Reputation': '95.3',\n",
       " 'Citations per Faculty': '88.4',\n",
       " 'Faculty Student Ratio': '78.7',\n",
       " 'International Students Ratio': '42.5',\n",
       " 'International Faculty Ratio': '99.1',\n",
       " 'International Research Network\\nUnweighted': '80.8',\n",
       " 'Employment Outcomes\\nUnweighted': '42.3'}"
      ]
     },
     "execution_count": 14,
     "metadata": {},
     "output_type": "execute_result"
    }
   ],
   "source": [
    "d={}\n",
    "d['Name']=value_head[20]\n",
    "d['Location']=loc[2]\n",
    "d['Rank']=RANK[2]\n",
    "\n",
    "for i in range(len(column_head)):\n",
    "    d[column_head[i]]=value[i]\n",
    "d"
   ]
  },
  {
   "cell_type": "code",
   "execution_count": 15,
   "id": "0d305018",
   "metadata": {},
   "outputs": [
    {
     "data": {
      "text/plain": [
       "'{\"Name\": \"Zhejiang University\", \"Location\": \"Hangzhou, China (Mainland)\", \"Rank\": \"=42\", \"Overall Score\": \"79.3\", \"Academic Reputation\": \"72.2\", \"Employer Reputation\": \"95.3\", \"Citations per Faculty\": \"88.4\", \"Faculty Student Ratio\": \"78.7\", \"International Students Ratio\": \"42.5\", \"International Faculty Ratio\": \"99.1\", \"International Research Network\\\\nUnweighted\": \"80.8\", \"Employment Outcomes\\\\nUnweighted\": \"42.3\"}'"
      ]
     },
     "execution_count": 15,
     "metadata": {},
     "output_type": "execute_result"
    }
   ],
   "source": [
    "s1=json.dumps(d)\n",
    "s1\n"
   ]
  },
  {
   "cell_type": "code",
   "execution_count": 16,
   "id": "4d323b10",
   "metadata": {},
   "outputs": [],
   "source": [
    "with open('Zhejiang University.json','w') as f:\n",
    "    json.dump(d,f)\n"
   ]
  },
  {
   "cell_type": "code",
   "execution_count": null,
   "id": "e26c7a2c",
   "metadata": {},
   "outputs": [],
   "source": []
  }
 ],
 "metadata": {
  "kernelspec": {
   "display_name": "Python 3 (ipykernel)",
   "language": "python",
   "name": "python3"
  },
  "language_info": {
   "codemirror_mode": {
    "name": "ipython",
    "version": 3
   },
   "file_extension": ".py",
   "mimetype": "text/x-python",
   "name": "python",
   "nbconvert_exporter": "python",
   "pygments_lexer": "ipython3",
   "version": "3.9.12"
  }
 },
 "nbformat": 4,
 "nbformat_minor": 5
}
